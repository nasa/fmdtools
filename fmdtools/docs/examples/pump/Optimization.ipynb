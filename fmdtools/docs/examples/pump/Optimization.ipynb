{
 "cells": [
  {
   "cell_type": "markdown",
   "id": "fe41d669",
   "metadata": {},
   "source": [
    "# Optimization using the ProblemInterface class\n",
    "\n",
    "This notebook will show the basics of setting up a resilience optimization problem with the `Problem` class in `fmdtools.sim.search` module.\n",
    "\n",
    "```\n",
    "Copyright © 2024, United States Government, as represented by the Administrator of the National Aeronautics and Space Administration. All rights reserved.\n",
    "\n",
    "The “\"Fault Model Design tools - fmdtools version 2\"” software is licensed under the Apache License, Version 2.0 (the \"License\"); you may not use this file except in compliance with the License. You may obtain a copy of the License at http://www.apache.org/licenses/LICENSE-2.0. \n",
    "\n",
    "Unless required by applicable law or agreed to in writing, software distributed under the License is distributed on an \"AS IS\" BASIS, WITHOUT WARRANTIES OR CONDITIONS OF ANY KIND, either express or implied. See the License for the specific language governing permissions and limitations under the License.\n",
    "```"
   ]
  },
  {
   "cell_type": "code",
   "execution_count": 1,
   "id": "43a662d2",
   "metadata": {
    "execution": {
     "iopub.execute_input": "2024-10-21T23:54:30.732573Z",
     "iopub.status.busy": "2024-10-21T23:54:30.731574Z",
     "iopub.status.idle": "2024-10-21T23:54:34.415577Z",
     "shell.execute_reply": "2024-10-21T23:54:34.414579Z"
    }
   },
   "outputs": [
    {
     "ename": "ImportError",
     "evalue": "DLL load failed while importing _path: The specified module could not be found.",
     "output_type": "error",
     "traceback": [
      "\u001b[1;31m---------------------------------------------------------------------------\u001b[0m",
      "\u001b[1;31mImportError\u001b[0m                               Traceback (most recent call last)",
      "Cell \u001b[1;32mIn[1], line 1\u001b[0m\n\u001b[1;32m----> 1\u001b[0m \u001b[38;5;28;01mimport\u001b[39;00m \u001b[38;5;21;01mfmdtools\u001b[39;00m\u001b[38;5;21;01m.\u001b[39;00m\u001b[38;5;21;01manalyze\u001b[39;00m \u001b[38;5;28;01mas\u001b[39;00m \u001b[38;5;21;01man\u001b[39;00m\n\u001b[0;32m      2\u001b[0m \u001b[38;5;28;01mfrom\u001b[39;00m \u001b[38;5;21;01mpump_stochastic\u001b[39;00m \u001b[38;5;28;01mimport\u001b[39;00m Pump\n",
      "File \u001b[1;32mc:\\users\\dhulse\\documents\\github\\fmdtools\\fmdtools\\__init__.py:20\u001b[0m\n\u001b[0;32m      1\u001b[0m \u001b[38;5;66;03m#!/usr/bin/env python\u001b[39;00m\n\u001b[0;32m      2\u001b[0m \u001b[38;5;66;03m# -*- coding: utf-8 -*-\u001b[39;00m\n\u001b[0;32m      3\u001b[0m \u001b[38;5;124;03m\"\"\"\u001b[39;00m\n\u001b[0;32m      4\u001b[0m \u001b[38;5;124;03mResilience Modelling, Simulation, and Analysis in Python.\u001b[39;00m\n\u001b[0;32m      5\u001b[0m \n\u001b[1;32m   (...)\u001b[0m\n\u001b[0;32m     17\u001b[0m \u001b[38;5;124;03mspecific language governing permissions and limitations under the License.\u001b[39;00m\n\u001b[0;32m     18\u001b[0m \u001b[38;5;124;03m\"\"\"\u001b[39;00m\n\u001b[1;32m---> 20\u001b[0m \u001b[38;5;28;01mimport\u001b[39;00m \u001b[38;5;21;01mfmdtools\u001b[39;00m\u001b[38;5;21;01m.\u001b[39;00m\u001b[38;5;21;01mdefine\u001b[39;00m \u001b[38;5;28;01mas\u001b[39;00m \u001b[38;5;21;01mdefine\u001b[39;00m\n\u001b[0;32m     21\u001b[0m \u001b[38;5;28;01mimport\u001b[39;00m \u001b[38;5;21;01mfmdtools\u001b[39;00m\u001b[38;5;21;01m.\u001b[39;00m\u001b[38;5;21;01msim\u001b[39;00m \u001b[38;5;28;01mas\u001b[39;00m \u001b[38;5;21;01msim\u001b[39;00m\n\u001b[0;32m     22\u001b[0m \u001b[38;5;28;01mimport\u001b[39;00m \u001b[38;5;21;01mfmdtools\u001b[39;00m\u001b[38;5;21;01m.\u001b[39;00m\u001b[38;5;21;01manalyze\u001b[39;00m \u001b[38;5;28;01mas\u001b[39;00m \u001b[38;5;21;01manalyze\u001b[39;00m\n",
      "File \u001b[1;32mc:\\users\\dhulse\\documents\\github\\fmdtools\\fmdtools\\define\\__init__.py:21\u001b[0m\n\u001b[0;32m      3\u001b[0m \u001b[38;5;124;03m\"\"\"\u001b[39;00m\n\u001b[0;32m      4\u001b[0m \u001b[38;5;124;03mPackage for modelling system structure and behavior.\u001b[39;00m\n\u001b[0;32m      5\u001b[0m \n\u001b[1;32m   (...)\u001b[0m\n\u001b[0;32m     17\u001b[0m \u001b[38;5;124;03mspecific language governing permissions and limitations under the License.\u001b[39;00m\n\u001b[0;32m     18\u001b[0m \u001b[38;5;124;03m\"\"\"\u001b[39;00m\n\u001b[0;32m     20\u001b[0m \u001b[38;5;28;01mfrom\u001b[39;00m \u001b[38;5;21;01mfmdtools\u001b[39;00m\u001b[38;5;21;01m.\u001b[39;00m\u001b[38;5;21;01mdefine\u001b[39;00m \u001b[38;5;28;01mimport\u001b[39;00m base\n\u001b[1;32m---> 21\u001b[0m \u001b[38;5;28;01mimport\u001b[39;00m \u001b[38;5;21;01mfmdtools\u001b[39;00m\u001b[38;5;21;01m.\u001b[39;00m\u001b[38;5;21;01mdefine\u001b[39;00m\u001b[38;5;21;01m.\u001b[39;00m\u001b[38;5;21;01mobject\u001b[39;00m \u001b[38;5;28;01mas\u001b[39;00m \u001b[38;5;21;01mobject\u001b[39;00m\n\u001b[0;32m     22\u001b[0m \u001b[38;5;28;01mimport\u001b[39;00m \u001b[38;5;21;01mfmdtools\u001b[39;00m\u001b[38;5;21;01m.\u001b[39;00m\u001b[38;5;21;01mdefine\u001b[39;00m\u001b[38;5;21;01m.\u001b[39;00m\u001b[38;5;21;01mcontainer\u001b[39;00m \u001b[38;5;28;01mas\u001b[39;00m \u001b[38;5;21;01mcontainer\u001b[39;00m\n\u001b[0;32m     23\u001b[0m \u001b[38;5;28;01mimport\u001b[39;00m \u001b[38;5;21;01mfmdtools\u001b[39;00m\u001b[38;5;21;01m.\u001b[39;00m\u001b[38;5;21;01mdefine\u001b[39;00m\u001b[38;5;21;01m.\u001b[39;00m\u001b[38;5;21;01mflow\u001b[39;00m \u001b[38;5;28;01mas\u001b[39;00m \u001b[38;5;21;01mflow\u001b[39;00m\n",
      "File \u001b[1;32mc:\\users\\dhulse\\documents\\github\\fmdtools\\fmdtools\\define\\object\\__init__.py:20\u001b[0m\n\u001b[0;32m      1\u001b[0m \u001b[38;5;66;03m#!/usr/bin/env python\u001b[39;00m\n\u001b[0;32m      2\u001b[0m \u001b[38;5;66;03m# -*- coding: utf-8 -*-\u001b[39;00m\n\u001b[0;32m      3\u001b[0m \u001b[38;5;124;03m\"\"\"\u001b[39;00m\n\u001b[0;32m      4\u001b[0m \u001b[38;5;124;03mPackage defining various model building blocks.\u001b[39;00m\n\u001b[0;32m      5\u001b[0m \n\u001b[1;32m   (...)\u001b[0m\n\u001b[0;32m     17\u001b[0m \u001b[38;5;124;03mspecific language governing permissions and limitations under the License.\u001b[39;00m\n\u001b[0;32m     18\u001b[0m \u001b[38;5;124;03m\"\"\"\u001b[39;00m\n\u001b[1;32m---> 20\u001b[0m \u001b[38;5;28;01mimport\u001b[39;00m \u001b[38;5;21;01mfmdtools\u001b[39;00m\u001b[38;5;21;01m.\u001b[39;00m\u001b[38;5;21;01mdefine\u001b[39;00m\u001b[38;5;21;01m.\u001b[39;00m\u001b[38;5;21;01mobject\u001b[39;00m\u001b[38;5;21;01m.\u001b[39;00m\u001b[38;5;21;01mbase\u001b[39;00m \u001b[38;5;28;01mas\u001b[39;00m \u001b[38;5;21;01mbase\u001b[39;00m\n\u001b[0;32m     21\u001b[0m \u001b[38;5;28;01mimport\u001b[39;00m \u001b[38;5;21;01mfmdtools\u001b[39;00m\u001b[38;5;21;01m.\u001b[39;00m\u001b[38;5;21;01mdefine\u001b[39;00m\u001b[38;5;21;01m.\u001b[39;00m\u001b[38;5;21;01mobject\u001b[39;00m\u001b[38;5;21;01m.\u001b[39;00m\u001b[38;5;21;01mcoords\u001b[39;00m \u001b[38;5;28;01mas\u001b[39;00m \u001b[38;5;21;01mcoords\u001b[39;00m\n\u001b[0;32m     22\u001b[0m \u001b[38;5;28;01mimport\u001b[39;00m \u001b[38;5;21;01mfmdtools\u001b[39;00m\u001b[38;5;21;01m.\u001b[39;00m\u001b[38;5;21;01mdefine\u001b[39;00m\u001b[38;5;21;01m.\u001b[39;00m\u001b[38;5;21;01mobject\u001b[39;00m\u001b[38;5;21;01m.\u001b[39;00m\u001b[38;5;21;01mgeom\u001b[39;00m \u001b[38;5;28;01mas\u001b[39;00m \u001b[38;5;21;01mgeom\u001b[39;00m\n",
      "File \u001b[1;32mc:\\users\\dhulse\\documents\\github\\fmdtools\\fmdtools\\define\\object\\base.py:31\u001b[0m\n\u001b[0;32m      3\u001b[0m \u001b[38;5;124;03m\"\"\"\u001b[39;00m\n\u001b[0;32m      4\u001b[0m \u001b[38;5;124;03mDefines :class:`BaseObject` class used to define objects.\u001b[39;00m\n\u001b[0;32m      5\u001b[0m \n\u001b[1;32m   (...)\u001b[0m\n\u001b[0;32m     27\u001b[0m \u001b[38;5;124;03mspecific language governing permissions and limitations under the License.\u001b[39;00m\n\u001b[0;32m     28\u001b[0m \u001b[38;5;124;03m\"\"\"\u001b[39;00m\n\u001b[0;32m     30\u001b[0m \u001b[38;5;28;01mfrom\u001b[39;00m \u001b[38;5;21;01mfmdtools\u001b[39;00m\u001b[38;5;21;01m.\u001b[39;00m\u001b[38;5;21;01mdefine\u001b[39;00m\u001b[38;5;21;01m.\u001b[39;00m\u001b[38;5;21;01mbase\u001b[39;00m \u001b[38;5;28;01mimport\u001b[39;00m get_var, get_methods, get_obj_name, get_memory\n\u001b[1;32m---> 31\u001b[0m \u001b[38;5;28;01mfrom\u001b[39;00m \u001b[38;5;21;01mfmdtools\u001b[39;00m\u001b[38;5;21;01m.\u001b[39;00m\u001b[38;5;21;01manalyze\u001b[39;00m\u001b[38;5;21;01m.\u001b[39;00m\u001b[38;5;21;01mcommon\u001b[39;00m \u001b[38;5;28;01mimport\u001b[39;00m get_sub_include\n\u001b[0;32m     32\u001b[0m \u001b[38;5;28;01mfrom\u001b[39;00m \u001b[38;5;21;01mfmdtools\u001b[39;00m\u001b[38;5;21;01m.\u001b[39;00m\u001b[38;5;21;01manalyze\u001b[39;00m\u001b[38;5;21;01m.\u001b[39;00m\u001b[38;5;21;01mhistory\u001b[39;00m \u001b[38;5;28;01mimport\u001b[39;00m History\n\u001b[0;32m     33\u001b[0m \u001b[38;5;28;01mfrom\u001b[39;00m \u001b[38;5;21;01mfmdtools\u001b[39;00m\u001b[38;5;21;01m.\u001b[39;00m\u001b[38;5;21;01manalyze\u001b[39;00m\u001b[38;5;21;01m.\u001b[39;00m\u001b[38;5;21;01mgraph\u001b[39;00m\u001b[38;5;21;01m.\u001b[39;00m\u001b[38;5;21;01mmodel\u001b[39;00m \u001b[38;5;28;01mimport\u001b[39;00m add_node, add_edge, remove_base, ModelGraph\n",
      "File \u001b[1;32mc:\\users\\dhulse\\documents\\github\\fmdtools\\fmdtools\\analyze\\__init__.py:20\u001b[0m\n\u001b[0;32m      1\u001b[0m \u001b[38;5;66;03m#!/usr/bin/env python\u001b[39;00m\n\u001b[0;32m      2\u001b[0m \u001b[38;5;66;03m# -*- coding: utf-8 -*-\u001b[39;00m\n\u001b[0;32m      3\u001b[0m \u001b[38;5;124;03m\"\"\"\u001b[39;00m\n\u001b[0;32m      4\u001b[0m \u001b[38;5;124;03mPackage for analyzing simulation results.\u001b[39;00m\n\u001b[0;32m      5\u001b[0m \n\u001b[1;32m   (...)\u001b[0m\n\u001b[0;32m     17\u001b[0m \u001b[38;5;124;03mspecific language governing permissions and limitations under the License.\u001b[39;00m\n\u001b[0;32m     18\u001b[0m \u001b[38;5;124;03m\"\"\"\u001b[39;00m\n\u001b[1;32m---> 20\u001b[0m \u001b[38;5;28;01mfrom\u001b[39;00m \u001b[38;5;21;01mfmdtools\u001b[39;00m\u001b[38;5;21;01m.\u001b[39;00m\u001b[38;5;21;01manalyze\u001b[39;00m \u001b[38;5;28;01mimport\u001b[39;00m common\n\u001b[0;32m     21\u001b[0m \u001b[38;5;28;01mfrom\u001b[39;00m \u001b[38;5;21;01mfmdtools\u001b[39;00m\u001b[38;5;21;01m.\u001b[39;00m\u001b[38;5;21;01manalyze\u001b[39;00m \u001b[38;5;28;01mimport\u001b[39;00m result\n\u001b[0;32m     22\u001b[0m \u001b[38;5;28;01mfrom\u001b[39;00m \u001b[38;5;21;01mfmdtools\u001b[39;00m\u001b[38;5;21;01m.\u001b[39;00m\u001b[38;5;21;01manalyze\u001b[39;00m \u001b[38;5;28;01mimport\u001b[39;00m history\n",
      "File \u001b[1;32mc:\\users\\dhulse\\documents\\github\\fmdtools\\fmdtools\\analyze\\common.py:35\u001b[0m\n\u001b[0;32m      3\u001b[0m \u001b[38;5;124;03m\"\"\"\u001b[39;00m\n\u001b[0;32m      4\u001b[0m \u001b[38;5;124;03mSome common methods for analysis used by other modules.\u001b[39;00m\n\u001b[0;32m      5\u001b[0m \n\u001b[1;32m   (...)\u001b[0m\n\u001b[0;32m     32\u001b[0m \u001b[38;5;124;03mspecific language governing permissions and limitations under the License.\u001b[39;00m\n\u001b[0;32m     33\u001b[0m \u001b[38;5;124;03m\"\"\"\u001b[39;00m\n\u001b[0;32m     34\u001b[0m \u001b[38;5;28;01mimport\u001b[39;00m \u001b[38;5;21;01mnumpy\u001b[39;00m \u001b[38;5;28;01mas\u001b[39;00m \u001b[38;5;21;01mnp\u001b[39;00m\n\u001b[1;32m---> 35\u001b[0m \u001b[38;5;28;01mimport\u001b[39;00m \u001b[38;5;21;01mmatplotlib\u001b[39;00m\u001b[38;5;21;01m.\u001b[39;00m\u001b[38;5;21;01mpyplot\u001b[39;00m \u001b[38;5;28;01mas\u001b[39;00m \u001b[38;5;21;01mplt\u001b[39;00m\n\u001b[0;32m     38\u001b[0m plt\u001b[38;5;241m.\u001b[39mrcParams[\u001b[38;5;124m'\u001b[39m\u001b[38;5;124mpdf.fonttype\u001b[39m\u001b[38;5;124m'\u001b[39m] \u001b[38;5;241m=\u001b[39m \u001b[38;5;241m42\u001b[39m\n\u001b[0;32m     41\u001b[0m \u001b[38;5;28;01mdef\u001b[39;00m \u001b[38;5;21mget_sub_include\u001b[39m(att, to_include):\n",
      "File \u001b[1;32m~\\AppData\\Roaming\\Python\\Python310\\site-packages\\matplotlib\\__init__.py:144\u001b[0m\n\u001b[0;32m    140\u001b[0m \u001b[38;5;28;01mfrom\u001b[39;00m \u001b[38;5;21;01mpackaging\u001b[39;00m\u001b[38;5;21;01m.\u001b[39;00m\u001b[38;5;21;01mversion\u001b[39;00m \u001b[38;5;28;01mimport\u001b[39;00m parse \u001b[38;5;28;01mas\u001b[39;00m parse_version\n\u001b[0;32m    142\u001b[0m \u001b[38;5;66;03m# cbook must import matplotlib only within function\u001b[39;00m\n\u001b[0;32m    143\u001b[0m \u001b[38;5;66;03m# definitions, so it is safe to import from it here.\u001b[39;00m\n\u001b[1;32m--> 144\u001b[0m \u001b[38;5;28;01mfrom\u001b[39;00m \u001b[38;5;21;01m.\u001b[39;00m \u001b[38;5;28;01mimport\u001b[39;00m _api, _version, cbook, _docstring, rcsetup\n\u001b[0;32m    145\u001b[0m \u001b[38;5;28;01mfrom\u001b[39;00m \u001b[38;5;21;01mmatplotlib\u001b[39;00m\u001b[38;5;21;01m.\u001b[39;00m\u001b[38;5;21;01mcbook\u001b[39;00m \u001b[38;5;28;01mimport\u001b[39;00m sanitize_sequence\n\u001b[0;32m    146\u001b[0m \u001b[38;5;28;01mfrom\u001b[39;00m \u001b[38;5;21;01mmatplotlib\u001b[39;00m\u001b[38;5;21;01m.\u001b[39;00m\u001b[38;5;21;01m_api\u001b[39;00m \u001b[38;5;28;01mimport\u001b[39;00m MatplotlibDeprecationWarning\n",
      "File \u001b[1;32m~\\AppData\\Roaming\\Python\\Python310\\site-packages\\matplotlib\\rcsetup.py:27\u001b[0m\n\u001b[0;32m     25\u001b[0m \u001b[38;5;28;01mfrom\u001b[39;00m \u001b[38;5;21;01mmatplotlib\u001b[39;00m \u001b[38;5;28;01mimport\u001b[39;00m _api, cbook\n\u001b[0;32m     26\u001b[0m \u001b[38;5;28;01mfrom\u001b[39;00m \u001b[38;5;21;01mmatplotlib\u001b[39;00m\u001b[38;5;21;01m.\u001b[39;00m\u001b[38;5;21;01mcbook\u001b[39;00m \u001b[38;5;28;01mimport\u001b[39;00m ls_mapper\n\u001b[1;32m---> 27\u001b[0m \u001b[38;5;28;01mfrom\u001b[39;00m \u001b[38;5;21;01mmatplotlib\u001b[39;00m\u001b[38;5;21;01m.\u001b[39;00m\u001b[38;5;21;01mcolors\u001b[39;00m \u001b[38;5;28;01mimport\u001b[39;00m Colormap, is_color_like\n\u001b[0;32m     28\u001b[0m \u001b[38;5;28;01mfrom\u001b[39;00m \u001b[38;5;21;01mmatplotlib\u001b[39;00m\u001b[38;5;21;01m.\u001b[39;00m\u001b[38;5;21;01m_fontconfig_pattern\u001b[39;00m \u001b[38;5;28;01mimport\u001b[39;00m parse_fontconfig_pattern\n\u001b[0;32m     29\u001b[0m \u001b[38;5;28;01mfrom\u001b[39;00m \u001b[38;5;21;01mmatplotlib\u001b[39;00m\u001b[38;5;21;01m.\u001b[39;00m\u001b[38;5;21;01m_enums\u001b[39;00m \u001b[38;5;28;01mimport\u001b[39;00m JoinStyle, CapStyle\n",
      "File \u001b[1;32m~\\AppData\\Roaming\\Python\\Python310\\site-packages\\matplotlib\\colors.py:57\u001b[0m\n\u001b[0;32m     55\u001b[0m \u001b[38;5;28;01mimport\u001b[39;00m \u001b[38;5;21;01mmatplotlib\u001b[39;00m \u001b[38;5;28;01mas\u001b[39;00m \u001b[38;5;21;01mmpl\u001b[39;00m\n\u001b[0;32m     56\u001b[0m \u001b[38;5;28;01mimport\u001b[39;00m \u001b[38;5;21;01mnumpy\u001b[39;00m \u001b[38;5;28;01mas\u001b[39;00m \u001b[38;5;21;01mnp\u001b[39;00m\n\u001b[1;32m---> 57\u001b[0m \u001b[38;5;28;01mfrom\u001b[39;00m \u001b[38;5;21;01mmatplotlib\u001b[39;00m \u001b[38;5;28;01mimport\u001b[39;00m _api, _cm, cbook, scale\n\u001b[0;32m     58\u001b[0m \u001b[38;5;28;01mfrom\u001b[39;00m \u001b[38;5;21;01m.\u001b[39;00m\u001b[38;5;21;01m_color_data\u001b[39;00m \u001b[38;5;28;01mimport\u001b[39;00m BASE_COLORS, TABLEAU_COLORS, CSS4_COLORS, XKCD_COLORS\n\u001b[0;32m     61\u001b[0m \u001b[38;5;28;01mclass\u001b[39;00m \u001b[38;5;21;01m_ColorMapping\u001b[39;00m(\u001b[38;5;28mdict\u001b[39m):\n",
      "File \u001b[1;32m~\\AppData\\Roaming\\Python\\Python310\\site-packages\\matplotlib\\scale.py:22\u001b[0m\n\u001b[0;32m     20\u001b[0m \u001b[38;5;28;01mimport\u001b[39;00m \u001b[38;5;21;01mmatplotlib\u001b[39;00m \u001b[38;5;28;01mas\u001b[39;00m \u001b[38;5;21;01mmpl\u001b[39;00m\n\u001b[0;32m     21\u001b[0m \u001b[38;5;28;01mfrom\u001b[39;00m \u001b[38;5;21;01mmatplotlib\u001b[39;00m \u001b[38;5;28;01mimport\u001b[39;00m _api, _docstring\n\u001b[1;32m---> 22\u001b[0m \u001b[38;5;28;01mfrom\u001b[39;00m \u001b[38;5;21;01mmatplotlib\u001b[39;00m\u001b[38;5;21;01m.\u001b[39;00m\u001b[38;5;21;01mticker\u001b[39;00m \u001b[38;5;28;01mimport\u001b[39;00m (\n\u001b[0;32m     23\u001b[0m     NullFormatter, ScalarFormatter, LogFormatterSciNotation, LogitFormatter,\n\u001b[0;32m     24\u001b[0m     NullLocator, LogLocator, AutoLocator, AutoMinorLocator,\n\u001b[0;32m     25\u001b[0m     SymmetricalLogLocator, AsinhLocator, LogitLocator)\n\u001b[0;32m     26\u001b[0m \u001b[38;5;28;01mfrom\u001b[39;00m \u001b[38;5;21;01mmatplotlib\u001b[39;00m\u001b[38;5;21;01m.\u001b[39;00m\u001b[38;5;21;01mtransforms\u001b[39;00m \u001b[38;5;28;01mimport\u001b[39;00m Transform, IdentityTransform\n\u001b[0;32m     29\u001b[0m \u001b[38;5;28;01mclass\u001b[39;00m \u001b[38;5;21;01mScaleBase\u001b[39;00m:\n",
      "File \u001b[1;32m~\\AppData\\Roaming\\Python\\Python310\\site-packages\\matplotlib\\ticker.py:138\u001b[0m\n\u001b[0;32m    136\u001b[0m \u001b[38;5;28;01mimport\u001b[39;00m \u001b[38;5;21;01mmatplotlib\u001b[39;00m \u001b[38;5;28;01mas\u001b[39;00m \u001b[38;5;21;01mmpl\u001b[39;00m\n\u001b[0;32m    137\u001b[0m \u001b[38;5;28;01mfrom\u001b[39;00m \u001b[38;5;21;01mmatplotlib\u001b[39;00m \u001b[38;5;28;01mimport\u001b[39;00m _api, cbook\n\u001b[1;32m--> 138\u001b[0m \u001b[38;5;28;01mfrom\u001b[39;00m \u001b[38;5;21;01mmatplotlib\u001b[39;00m \u001b[38;5;28;01mimport\u001b[39;00m transforms \u001b[38;5;28;01mas\u001b[39;00m mtransforms\n\u001b[0;32m    140\u001b[0m _log \u001b[38;5;241m=\u001b[39m logging\u001b[38;5;241m.\u001b[39mgetLogger(\u001b[38;5;18m__name__\u001b[39m)\n\u001b[0;32m    142\u001b[0m __all__ \u001b[38;5;241m=\u001b[39m (\u001b[38;5;124m'\u001b[39m\u001b[38;5;124mTickHelper\u001b[39m\u001b[38;5;124m'\u001b[39m, \u001b[38;5;124m'\u001b[39m\u001b[38;5;124mFormatter\u001b[39m\u001b[38;5;124m'\u001b[39m, \u001b[38;5;124m'\u001b[39m\u001b[38;5;124mFixedFormatter\u001b[39m\u001b[38;5;124m'\u001b[39m,\n\u001b[0;32m    143\u001b[0m            \u001b[38;5;124m'\u001b[39m\u001b[38;5;124mNullFormatter\u001b[39m\u001b[38;5;124m'\u001b[39m, \u001b[38;5;124m'\u001b[39m\u001b[38;5;124mFuncFormatter\u001b[39m\u001b[38;5;124m'\u001b[39m, \u001b[38;5;124m'\u001b[39m\u001b[38;5;124mFormatStrFormatter\u001b[39m\u001b[38;5;124m'\u001b[39m,\n\u001b[0;32m    144\u001b[0m            \u001b[38;5;124m'\u001b[39m\u001b[38;5;124mStrMethodFormatter\u001b[39m\u001b[38;5;124m'\u001b[39m, \u001b[38;5;124m'\u001b[39m\u001b[38;5;124mScalarFormatter\u001b[39m\u001b[38;5;124m'\u001b[39m, \u001b[38;5;124m'\u001b[39m\u001b[38;5;124mLogFormatter\u001b[39m\u001b[38;5;124m'\u001b[39m,\n\u001b[1;32m   (...)\u001b[0m\n\u001b[0;32m    150\u001b[0m            \u001b[38;5;124m'\u001b[39m\u001b[38;5;124mMultipleLocator\u001b[39m\u001b[38;5;124m'\u001b[39m, \u001b[38;5;124m'\u001b[39m\u001b[38;5;124mMaxNLocator\u001b[39m\u001b[38;5;124m'\u001b[39m, \u001b[38;5;124m'\u001b[39m\u001b[38;5;124mAutoMinorLocator\u001b[39m\u001b[38;5;124m'\u001b[39m,\n\u001b[0;32m    151\u001b[0m            \u001b[38;5;124m'\u001b[39m\u001b[38;5;124mSymmetricalLogLocator\u001b[39m\u001b[38;5;124m'\u001b[39m, \u001b[38;5;124m'\u001b[39m\u001b[38;5;124mAsinhLocator\u001b[39m\u001b[38;5;124m'\u001b[39m, \u001b[38;5;124m'\u001b[39m\u001b[38;5;124mLogitLocator\u001b[39m\u001b[38;5;124m'\u001b[39m)\n",
      "File \u001b[1;32m~\\AppData\\Roaming\\Python\\Python310\\site-packages\\matplotlib\\transforms.py:49\u001b[0m\n\u001b[0;32m     46\u001b[0m \u001b[38;5;28;01mfrom\u001b[39;00m \u001b[38;5;21;01mnumpy\u001b[39;00m\u001b[38;5;21;01m.\u001b[39;00m\u001b[38;5;21;01mlinalg\u001b[39;00m \u001b[38;5;28;01mimport\u001b[39;00m inv\n\u001b[0;32m     48\u001b[0m \u001b[38;5;28;01mfrom\u001b[39;00m \u001b[38;5;21;01mmatplotlib\u001b[39;00m \u001b[38;5;28;01mimport\u001b[39;00m _api\n\u001b[1;32m---> 49\u001b[0m \u001b[38;5;28;01mfrom\u001b[39;00m \u001b[38;5;21;01mmatplotlib\u001b[39;00m\u001b[38;5;21;01m.\u001b[39;00m\u001b[38;5;21;01m_path\u001b[39;00m \u001b[38;5;28;01mimport\u001b[39;00m (\n\u001b[0;32m     50\u001b[0m     affine_transform, count_bboxes_overlapping_bbox, update_path_extents)\n\u001b[0;32m     51\u001b[0m \u001b[38;5;28;01mfrom\u001b[39;00m \u001b[38;5;21;01m.\u001b[39;00m\u001b[38;5;21;01mpath\u001b[39;00m \u001b[38;5;28;01mimport\u001b[39;00m Path\n\u001b[0;32m     53\u001b[0m DEBUG \u001b[38;5;241m=\u001b[39m \u001b[38;5;28;01mFalse\u001b[39;00m\n",
      "\u001b[1;31mImportError\u001b[0m: DLL load failed while importing _path: The specified module could not be found."
     ]
    }
   ],
   "source": [
    "import fmdtools.analyze as an\n",
    "from pump_stochastic import Pump"
   ]
  },
  {
   "cell_type": "markdown",
   "id": "8c7be27e",
   "metadata": {},
   "source": [
    "### Problem Setup\n",
    "The `search` module can be used to define an optimization problem around and fmdtools model/simulation in terms of variables, objectives, and constraints.\n",
    "\n",
    "Different classes enable the optimization of faults, disturbances, and parameters. Below we define a `DisturbanceProblem`, which will optimize the `s.eff` state in the `move_water` function at time `t=20`"
   ]
  },
  {
   "cell_type": "code",
   "execution_count": 2,
   "id": "949e8a24",
   "metadata": {
    "execution": {
     "iopub.execute_input": "2024-08-22T16:07:22.020977Z",
     "iopub.status.busy": "2024-08-22T16:07:22.020977Z",
     "iopub.status.idle": "2024-08-22T16:07:22.034327Z",
     "shell.execute_reply": "2024-08-22T16:07:22.034327Z"
    }
   },
   "outputs": [],
   "source": [
    "from fmdtools.sim.search import DisturbanceProblem\n",
    "mdl=Pump()\n",
    "new_problem = DisturbanceProblem(mdl, 20, \"move_water.r.s.eff\", faultseq={14: {\"import_water\": \"less_wat\"}})"
   ]
  },
  {
   "cell_type": "markdown",
   "id": "931b612b",
   "metadata": {},
   "source": [
    "In this case, we are optimizing the total flow in the `MoveWater` function as read at time t=25. "
   ]
  },
  {
   "cell_type": "code",
   "execution_count": 3,
   "id": "0a0da861",
   "metadata": {
    "execution": {
     "iopub.execute_input": "2024-08-22T16:07:22.037859Z",
     "iopub.status.busy": "2024-08-22T16:07:22.034327Z",
     "iopub.status.idle": "2024-08-22T16:07:22.040800Z",
     "shell.execute_reply": "2024-08-22T16:07:22.040800Z"
    }
   },
   "outputs": [],
   "source": [
    "new_problem.add_result_objective(\"f1\", \"move_water.s.total_flow\", time=25, negative=True)"
   ]
  },
  {
   "cell_type": "markdown",
   "id": "b6580b4f",
   "metadata": {},
   "source": [
    "We can additionally add constraints to the problem, in this case pressure as read at t=25."
   ]
  },
  {
   "cell_type": "code",
   "execution_count": 4,
   "id": "3a36c2c5",
   "metadata": {
    "execution": {
     "iopub.execute_input": "2024-08-22T16:07:22.040800Z",
     "iopub.status.busy": "2024-08-22T16:07:22.040800Z",
     "iopub.status.idle": "2024-08-22T16:07:22.046520Z",
     "shell.execute_reply": "2024-08-22T16:07:22.046520Z"
    }
   },
   "outputs": [],
   "source": [
    "new_problem.add_result_constraint('g1', \"wat_1.s.pressure\", time=25, threshold=20, comparator='less', negative=True)"
   ]
  },
  {
   "cell_type": "markdown",
   "id": "f87a3eee",
   "metadata": {},
   "source": [
    "Note that if all objectives and constraints are sampled in time before the defined simulation end-point, it will finish before completion to save computational time.\n"
   ]
  },
  {
   "cell_type": "code",
   "execution_count": 5,
   "id": "511557c0",
   "metadata": {
    "execution": {
     "iopub.execute_input": "2024-08-22T16:07:22.048045Z",
     "iopub.status.busy": "2024-08-22T16:07:22.048045Z",
     "iopub.status.idle": "2024-08-22T16:07:22.055082Z",
     "shell.execute_reply": "2024-08-22T16:07:22.055082Z"
    }
   },
   "outputs": [],
   "source": [
    "new_problem"
   ]
  },
  {
   "cell_type": "markdown",
   "id": "1b67abce",
   "metadata": {},
   "source": [
    "The string representation of the problem shows how the objectives/constraints have been set up, that reflects:\n",
    "- the form of the objectives as positive or negative for maximization/minimization (set with the `metric` parameter in `add_objective`).\n",
    "- the form of the constraints as positive or negative based on the `threshold` parameter in `add_constraint` and overall `negative` kwargs.\n",
    "\n",
    "These parameters will need to be adjusted depending on whether the interfacing optimization package is set up for minimization or maximization or in positive or negative null form (where feasible means positive or negative constraint values)."
   ]
  },
  {
   "cell_type": "markdown",
   "id": "7f61cea4",
   "metadata": {},
   "source": [
    "### Problem interfaces\n",
    "Now that this problem is set up, we now have interfaces which can be passed to optimization methods. These are methods which *match the names of the objectives/constraints defined earlier* which can be passed as callables to optimizaiton methods."
   ]
  },
  {
   "cell_type": "code",
   "execution_count": 6,
   "id": "0037f6c3",
   "metadata": {
    "execution": {
     "iopub.execute_input": "2024-08-22T16:07:22.058086Z",
     "iopub.status.busy": "2024-08-22T16:07:22.055082Z",
     "iopub.status.idle": "2024-08-22T16:07:22.234988Z",
     "shell.execute_reply": "2024-08-22T16:07:22.234988Z"
    }
   },
   "outputs": [],
   "source": [
    "new_problem.f1(1)\n",
    "new_problem.f1(0.5)\n",
    "new_problem.f1(1.5)\n",
    "new_problem.f1(2)\n",
    "new_problem.f1(0.3)"
   ]
  },
  {
   "cell_type": "markdown",
   "id": "56549fee",
   "metadata": {},
   "source": [
    "Note that despite being different callables, to reduce simulation costs, `obj_1` and `con_1` only *simulate the model* when a new variable value is entered into the problem. This can be seen by looking at the `current_iter` __repr__, which shows the values of the objectives/constraints a the current variable value."
   ]
  },
  {
   "cell_type": "code",
   "execution_count": 7,
   "id": "eef9a628",
   "metadata": {
    "execution": {
     "iopub.execute_input": "2024-08-22T16:07:22.237998Z",
     "iopub.status.busy": "2024-08-22T16:07:22.237998Z",
     "iopub.status.idle": "2024-08-22T16:07:22.241637Z",
     "shell.execute_reply": "2024-08-22T16:07:22.241637Z"
    }
   },
   "outputs": [],
   "source": [
    "new_problem"
   ]
  },
  {
   "cell_type": "markdown",
   "id": "b4ba6c0e",
   "metadata": {},
   "source": [
    "Additionally, we can look at the `iter_hist` iteration history for the problem."
   ]
  },
  {
   "cell_type": "code",
   "execution_count": 8,
   "id": "2d42ba2e",
   "metadata": {
    "execution": {
     "iopub.execute_input": "2024-08-22T16:07:22.241637Z",
     "iopub.status.busy": "2024-08-22T16:07:22.241637Z",
     "iopub.status.idle": "2024-08-22T16:07:22.554099Z",
     "shell.execute_reply": "2024-08-22T16:07:22.554099Z"
    }
   },
   "outputs": [],
   "source": [
    "fig, ax = new_problem.iter_hist.plot_line('objectives.f1', 'variables.move_water.r.s.eff',\n",
    "                                          'constraints.g1')"
   ]
  },
  {
   "cell_type": "markdown",
   "id": "b060cef1",
   "metadata": {},
   "source": [
    "As well as the actual history of the sim at the current variable value:"
   ]
  },
  {
   "cell_type": "code",
   "execution_count": 9,
   "id": "ca0a7fbc",
   "metadata": {
    "execution": {
     "iopub.execute_input": "2024-08-22T16:07:22.554099Z",
     "iopub.status.busy": "2024-08-22T16:07:22.554099Z",
     "iopub.status.idle": "2024-08-22T16:07:22.939350Z",
     "shell.execute_reply": "2024-08-22T16:07:22.939350Z"
    }
   },
   "outputs": [],
   "source": [
    "fig, ax = new_problem.hist.plot_line('fxns.move_water.s.eff', 'fxns.move_water.s.total_flow', 'flows.wat_1.s.flowrate', 'flows.wat_1.s.pressure',\n",
    "                                     time_slice=[14, 20, 25])"
   ]
  },
  {
   "cell_type": "markdown",
   "id": "fda87670",
   "metadata": {},
   "source": [
    "### Optimization:\n",
    "Now, we will demonstrate optimization using this problem as it is set up:"
   ]
  },
  {
   "cell_type": "code",
   "execution_count": 10,
   "id": "d3be1ddc",
   "metadata": {
    "execution": {
     "iopub.execute_input": "2024-08-22T16:07:22.939350Z",
     "iopub.status.busy": "2024-08-22T16:07:22.939350Z",
     "iopub.status.idle": "2024-08-22T16:07:22.945906Z",
     "shell.execute_reply": "2024-08-22T16:07:22.945906Z"
    }
   },
   "outputs": [],
   "source": [
    "from scipy.optimize import minimize"
   ]
  },
  {
   "cell_type": "code",
   "execution_count": 11,
   "id": "2ed5821b",
   "metadata": {
    "execution": {
     "iopub.execute_input": "2024-08-22T16:07:22.948108Z",
     "iopub.status.busy": "2024-08-22T16:07:22.948108Z",
     "iopub.status.idle": "2024-08-22T16:07:22.952091Z",
     "shell.execute_reply": "2024-08-22T16:07:22.952091Z"
    }
   },
   "outputs": [],
   "source": [
    "con_list = [{'type': 'ineq', 'fun':getattr(new_problem, con)} for con in new_problem.constraints]"
   ]
  },
  {
   "cell_type": "markdown",
   "id": "f20e5dd4",
   "metadata": {},
   "source": [
    "Note that scipy minimize assumes that:\n",
    "- objectives are to be minimized, and\n",
    "- constraints must be held positive \n",
    "\n",
    "The problem should thus be set up to accomodate this, by adjusting whether `negative=True` is sent to `add_result_objective` or `add_result_constraint`/"
   ]
  },
  {
   "cell_type": "code",
   "execution_count": 12,
   "id": "f266e3af",
   "metadata": {
    "execution": {
     "iopub.execute_input": "2024-08-22T16:07:22.954597Z",
     "iopub.status.busy": "2024-08-22T16:07:22.954597Z",
     "iopub.status.idle": "2024-08-22T16:07:23.253486Z",
     "shell.execute_reply": "2024-08-22T16:07:23.253096Z"
    }
   },
   "outputs": [],
   "source": [
    "res = minimize(new_problem.f1, [1], constraints=con_list)"
   ]
  },
  {
   "cell_type": "code",
   "execution_count": 13,
   "id": "c2cc10fb",
   "metadata": {
    "execution": {
     "iopub.execute_input": "2024-08-22T16:07:23.256598Z",
     "iopub.status.busy": "2024-08-22T16:07:23.256598Z",
     "iopub.status.idle": "2024-08-22T16:07:23.262381Z",
     "shell.execute_reply": "2024-08-22T16:07:23.261861Z"
    }
   },
   "outputs": [],
   "source": [
    "res"
   ]
  },
  {
   "cell_type": "markdown",
   "id": "5acd9645",
   "metadata": {},
   "source": [
    "As shown, the variables are optimized to a value of x=4.0, the maximum possible value of MoveWater.eff which was put in the problem. We can further verify the optimized result by looking at the problem:"
   ]
  },
  {
   "cell_type": "code",
   "execution_count": 14,
   "id": "dfbd5dee",
   "metadata": {
    "execution": {
     "iopub.execute_input": "2024-08-22T16:07:23.264400Z",
     "iopub.status.busy": "2024-08-22T16:07:23.264400Z",
     "iopub.status.idle": "2024-08-22T16:07:23.269410Z",
     "shell.execute_reply": "2024-08-22T16:07:23.268830Z"
    }
   },
   "outputs": [],
   "source": [
    "new_problem"
   ]
  },
  {
   "cell_type": "markdown",
   "id": "f77c66ef",
   "metadata": {},
   "source": [
    "As shown, the bound set constraint x>0 is active at the found minimum, as we would expect.\n",
    "\n",
    "We can further visualize this solution using:"
   ]
  },
  {
   "cell_type": "code",
   "execution_count": 15,
   "id": "0e25aa79",
   "metadata": {
    "execution": {
     "iopub.execute_input": "2024-08-22T16:07:23.271429Z",
     "iopub.status.busy": "2024-08-22T16:07:23.271429Z",
     "iopub.status.idle": "2024-08-22T16:07:23.551408Z",
     "shell.execute_reply": "2024-08-22T16:07:23.551408Z"
    }
   },
   "outputs": [],
   "source": [
    "fig, ax = new_problem.iter_hist.plot_line('objectives.f1', 'variables.move_water.r.s.eff',\n",
    "                                          'constraints.g1')"
   ]
  },
  {
   "cell_type": "code",
   "execution_count": 16,
   "id": "04fbb666",
   "metadata": {
    "execution": {
     "iopub.execute_input": "2024-08-22T16:07:23.554914Z",
     "iopub.status.busy": "2024-08-22T16:07:23.551408Z",
     "iopub.status.idle": "2024-08-22T16:07:23.963969Z",
     "shell.execute_reply": "2024-08-22T16:07:23.963969Z"
    }
   },
   "outputs": [],
   "source": [
    "fig, ax = new_problem.hist.plot_line('fxns.move_water.s.eff', 'fxns.move_water.s.total_flow',\n",
    "                                     'flows.wat_1.s.flowrate', 'flows.wat_1.s.pressure',\n",
    "                                     time_slice=[14, 20, 25])"
   ]
  },
  {
   "cell_type": "markdown",
   "id": "9102d650",
   "metadata": {},
   "source": [
    "As shown, the constraint `g1` is active, meaning the optimal presure at `t=20` is just at the threshold of 20. This corresponds to the optimized `MoveWater.eff` value of 4.0."
   ]
  },
  {
   "cell_type": "code",
   "execution_count": 17,
   "id": "550a11b5",
   "metadata": {
    "execution": {
     "iopub.execute_input": "2024-08-22T16:07:23.963969Z",
     "iopub.status.busy": "2024-08-22T16:07:23.963969Z",
     "iopub.status.idle": "2024-08-22T16:07:23.970695Z",
     "shell.execute_reply": "2024-08-22T16:07:23.970695Z"
    }
   },
   "outputs": [],
   "source": [
    "assert abs(new_problem.constraints['g1'].value) < 0.001\n",
    "assert abs(new_problem.variables['move_water.r.s.eff'] - 4.0)  < 0.001"
   ]
  },
  {
   "cell_type": "markdown",
   "id": "8bb3dcdf",
   "metadata": {},
   "source": [
    "### Multi-scenario Optimization\n",
    "\n",
    "In addition to optimizing over single-scenarios `ParameterSimProblem` can be used to optimize over lists of scenarios from an `FaultSample`.\n",
    "\n",
    "Here we define a slightly different problem, where instead of optimizing variable changes at specific times (e.g., faults), we instead optimize the model parameter `delay`, which changes how long of a delay there is before a fault when there is adverse pressure.\n",
    "\n",
    "To see the effect of this accross scenarios, we first define a `FaultSample`:"
   ]
  },
  {
   "cell_type": "code",
   "execution_count": 18,
   "id": "ddf0402c",
   "metadata": {
    "execution": {
     "iopub.execute_input": "2024-08-22T16:07:23.970695Z",
     "iopub.status.busy": "2024-08-22T16:07:23.970695Z",
     "iopub.status.idle": "2024-08-22T16:07:23.978257Z",
     "shell.execute_reply": "2024-08-22T16:07:23.978257Z"
    }
   },
   "outputs": [],
   "source": [
    "from fmdtools.sim.sample import FaultDomain, FaultSample\n",
    "fd = FaultDomain(mdl)\n",
    "fd.add_all_fxn_modes(\"export_water\")\n",
    "fs = FaultSample(fd)\n",
    "fs.add_fault_phases(\"on\", args=(4,))"
   ]
  },
  {
   "cell_type": "code",
   "execution_count": 19,
   "id": "ca8abc5b",
   "metadata": {
    "execution": {
     "iopub.execute_input": "2024-08-22T16:07:23.978257Z",
     "iopub.status.busy": "2024-08-22T16:07:23.978257Z",
     "iopub.status.idle": "2024-08-22T16:07:23.984963Z",
     "shell.execute_reply": "2024-08-22T16:07:23.984963Z"
    }
   },
   "outputs": [],
   "source": [
    "fs"
   ]
  },
  {
   "cell_type": "markdown",
   "id": "4d15670f",
   "metadata": {},
   "source": [
    "We also need to define a `ParameterDomain` for the `delay` parameter to optimize:"
   ]
  },
  {
   "cell_type": "code",
   "execution_count": 20,
   "id": "836f2b6a",
   "metadata": {
    "execution": {
     "iopub.execute_input": "2024-08-22T16:07:23.984963Z",
     "iopub.status.busy": "2024-08-22T16:07:23.984963Z",
     "iopub.status.idle": "2024-08-22T16:07:23.992889Z",
     "shell.execute_reply": "2024-08-22T16:07:23.992889Z"
    }
   },
   "outputs": [],
   "source": [
    "from fmdtools.sim.sample import ParameterDomain\n",
    "from examples.pump.pump_stochastic import PumpParam\n",
    "pd = ParameterDomain(PumpParam)\n",
    "pd.add_variables(\"delay\")\n",
    "pd(4)"
   ]
  },
  {
   "cell_type": "markdown",
   "id": "4d15f0b4",
   "metadata": {},
   "source": [
    "We can now set up the `ParameterSimProblem`:"
   ]
  },
  {
   "cell_type": "code",
   "execution_count": 21,
   "id": "3d2be79c",
   "metadata": {
    "execution": {
     "iopub.execute_input": "2024-08-22T16:07:23.992889Z",
     "iopub.status.busy": "2024-08-22T16:07:23.992889Z",
     "iopub.status.idle": "2024-08-22T16:07:23.998451Z",
     "shell.execute_reply": "2024-08-22T16:07:23.998451Z"
    }
   },
   "outputs": [],
   "source": [
    "from fmdtools.sim.search import ParameterSimProblem\n",
    "psp = ParameterSimProblem(mdl, pd, 'fault_sample', fs)"
   ]
  },
  {
   "cell_type": "markdown",
   "id": "14f8f3f1",
   "metadata": {},
   "source": [
    "Our objective for this problem will be to minimize the cost model overall scenarios that is defined in `mdl.find_classification`."
   ]
  },
  {
   "cell_type": "code",
   "execution_count": 22,
   "id": "894cea17",
   "metadata": {
    "execution": {
     "iopub.execute_input": "2024-08-22T16:07:23.998451Z",
     "iopub.status.busy": "2024-08-22T16:07:23.998451Z",
     "iopub.status.idle": "2024-08-22T16:07:24.003832Z",
     "shell.execute_reply": "2024-08-22T16:07:24.003832Z"
    }
   },
   "outputs": [],
   "source": [
    "psp.add_result_objective(\"f1\", 'endclass.expected_cost')"
   ]
  },
  {
   "cell_type": "markdown",
   "id": "786a8277",
   "metadata": {},
   "source": [
    "We can then verify the problem setup. Note that no constraints will be used in this problem:"
   ]
  },
  {
   "cell_type": "code",
   "execution_count": 23,
   "id": "96e1224b",
   "metadata": {
    "execution": {
     "iopub.execute_input": "2024-08-22T16:07:24.003832Z",
     "iopub.status.busy": "2024-08-22T16:07:24.003832Z",
     "iopub.status.idle": "2024-08-22T16:07:24.392376Z",
     "shell.execute_reply": "2024-08-22T16:07:24.392376Z"
    }
   },
   "outputs": [],
   "source": [
    "psp\n",
    "psp.f1(15)"
   ]
  },
  {
   "cell_type": "code",
   "execution_count": 24,
   "id": "028a3d86",
   "metadata": {
    "execution": {
     "iopub.execute_input": "2024-08-22T16:07:24.392376Z",
     "iopub.status.busy": "2024-08-22T16:07:24.392376Z",
     "iopub.status.idle": "2024-08-22T16:07:24.802151Z",
     "shell.execute_reply": "2024-08-22T16:07:24.802151Z"
    }
   },
   "outputs": [],
   "source": [
    "psp.f1(10)"
   ]
  },
  {
   "cell_type": "code",
   "execution_count": 25,
   "id": "4dcd3aaa",
   "metadata": {
    "execution": {
     "iopub.execute_input": "2024-08-22T16:07:24.805139Z",
     "iopub.status.busy": "2024-08-22T16:07:24.805139Z",
     "iopub.status.idle": "2024-08-22T16:07:25.177610Z",
     "shell.execute_reply": "2024-08-22T16:07:25.177610Z"
    }
   },
   "outputs": [],
   "source": [
    "fig, ax = psp.hist.plot_line('fxns.move_water.s.eff', 'fxns.move_water.s.total_flow',\n",
    "                             'flows.wat_1.s.flowrate', 'flows.wat_1.s.pressure')"
   ]
  },
  {
   "cell_type": "code",
   "execution_count": 26,
   "id": "d30ea3f9",
   "metadata": {
    "execution": {
     "iopub.execute_input": "2024-08-22T16:07:25.180689Z",
     "iopub.status.busy": "2024-08-22T16:07:25.180689Z",
     "iopub.status.idle": "2024-08-22T16:07:25.184924Z",
     "shell.execute_reply": "2024-08-22T16:07:25.184924Z"
    }
   },
   "outputs": [],
   "source": [
    "psp.res"
   ]
  },
  {
   "cell_type": "markdown",
   "id": "7e9dacbc",
   "metadata": {},
   "source": [
    "We may now minimize the objective function:"
   ]
  },
  {
   "cell_type": "code",
   "execution_count": 27,
   "id": "63f9f0f5",
   "metadata": {
    "execution": {
     "iopub.execute_input": "2024-08-22T16:07:25.187914Z",
     "iopub.status.busy": "2024-08-22T16:07:25.186913Z",
     "iopub.status.idle": "2024-08-22T16:07:25.966151Z",
     "shell.execute_reply": "2024-08-22T16:07:25.966151Z"
    }
   },
   "outputs": [],
   "source": [
    "res = minimize(psp.f1, [5], method=\"SLSQP\", bounds=[[0,40]])"
   ]
  },
  {
   "cell_type": "code",
   "execution_count": 28,
   "id": "665b14b4",
   "metadata": {
    "execution": {
     "iopub.execute_input": "2024-08-22T16:07:25.967693Z",
     "iopub.status.busy": "2024-08-22T16:07:25.967693Z",
     "iopub.status.idle": "2024-08-22T16:07:25.974094Z",
     "shell.execute_reply": "2024-08-22T16:07:25.974094Z"
    }
   },
   "outputs": [],
   "source": [
    "res"
   ]
  },
  {
   "cell_type": "code",
   "execution_count": 29,
   "id": "90a74714",
   "metadata": {
    "execution": {
     "iopub.execute_input": "2024-08-22T16:07:25.974094Z",
     "iopub.status.busy": "2024-08-22T16:07:25.974094Z",
     "iopub.status.idle": "2024-08-22T16:07:35.984284Z",
     "shell.execute_reply": "2024-08-22T16:07:35.984284Z"
    }
   },
   "outputs": [],
   "source": [
    "res = minimize(psp.f1, [5], method=\"nelder-mead\")"
   ]
  },
  {
   "cell_type": "code",
   "execution_count": 30,
   "id": "9a932151",
   "metadata": {
    "execution": {
     "iopub.execute_input": "2024-08-22T16:07:35.987790Z",
     "iopub.status.busy": "2024-08-22T16:07:35.987790Z",
     "iopub.status.idle": "2024-08-22T16:07:35.992945Z",
     "shell.execute_reply": "2024-08-22T16:07:35.992945Z"
    }
   },
   "outputs": [],
   "source": [
    "res"
   ]
  },
  {
   "cell_type": "markdown",
   "id": "980276d6",
   "metadata": {},
   "source": [
    "Interestingly enough, while the optimizer gives a \"optimization terminated successfully,\" it stays at the initial point. This may be because of a poor fit of oftimization method. See:"
   ]
  },
  {
   "cell_type": "code",
   "execution_count": 31,
   "id": "4d44bb84",
   "metadata": {
    "execution": {
     "iopub.execute_input": "2024-08-22T16:07:35.992945Z",
     "iopub.status.busy": "2024-08-22T16:07:35.992945Z",
     "iopub.status.idle": "2024-08-22T16:08:14.303556Z",
     "shell.execute_reply": "2024-08-22T16:08:14.303556Z"
    }
   },
   "outputs": [],
   "source": [
    "objs = [psp.f1(i) for i in range(100)]"
   ]
  },
  {
   "cell_type": "code",
   "execution_count": 32,
   "id": "51cb728e",
   "metadata": {
    "execution": {
     "iopub.execute_input": "2024-08-22T16:08:14.303556Z",
     "iopub.status.busy": "2024-08-22T16:08:14.303556Z",
     "iopub.status.idle": "2024-08-22T16:08:14.394725Z",
     "shell.execute_reply": "2024-08-22T16:08:14.394725Z"
    }
   },
   "outputs": [],
   "source": [
    "from matplotlib import pyplot as plt\n",
    "plt.plot(objs)\n",
    "plt.scatter(res.x, res.fun)"
   ]
  },
  {
   "cell_type": "markdown",
   "id": "2f13a785",
   "metadata": {},
   "source": [
    "As shown, the objective appears to be non-differentiable, with several plateaus between the starting point (20) and the minimum. Since the `SLSQP` solver is a gradient-based solver, it probably sees the gradient as 0 at this point, making it think the result is already an optimum. \n",
    "\n",
    "While many different optimization packages exist, one of the more-developed ones is the `pymoo` package ([see reference](https://pymoo.org/)). Below we show how to interface with `pymoo` to use a solver that will find the optimal solution."
   ]
  },
  {
   "cell_type": "code",
   "execution_count": 33,
   "id": "eeff5c38",
   "metadata": {
    "execution": {
     "iopub.execute_input": "2024-08-22T16:08:14.394725Z",
     "iopub.status.busy": "2024-08-22T16:08:14.394725Z",
     "iopub.status.idle": "2024-08-22T16:08:14.400084Z",
     "shell.execute_reply": "2024-08-22T16:08:14.400084Z"
    }
   },
   "outputs": [],
   "source": [
    "# import pip\n",
    "# pip.main(['install', 'pymoo'])\n"
   ]
  },
  {
   "cell_type": "markdown",
   "id": "161963dd",
   "metadata": {},
   "source": [
    "Below we set the problem up as a [pymoo problem object](https://pymoo.org/interface/problem.html) which can be used with a pymoo algorithm per the documentation. Note that this object corresponds directly (that is, is linked) to the original problem (see below)."
   ]
  },
  {
   "cell_type": "code",
   "execution_count": 34,
   "id": "f99785b0",
   "metadata": {
    "execution": {
     "iopub.execute_input": "2024-08-22T16:08:14.401665Z",
     "iopub.status.busy": "2024-08-22T16:08:14.401665Z",
     "iopub.status.idle": "2024-08-22T16:08:14.427260Z",
     "shell.execute_reply": "2024-08-22T16:08:14.427260Z"
    }
   },
   "outputs": [],
   "source": [
    "from pymoo.core.problem import ElementwiseProblem\n",
    "class Prob(ElementwiseProblem):\n",
    "    def __init__(self, problem_inter):\n",
    "        self.problem_inter = problem_inter\n",
    "        super().__init__(n_var=1, n_obj=1, n_con=0.0, xl=0.0, xu=40)\n",
    "    def _evaluate(self, x, out, *args, **kwargs):\n",
    "        out[\"F\"] = self.problem_inter.f1(x)"
   ]
  },
  {
   "cell_type": "markdown",
   "id": "15d9c816",
   "metadata": {},
   "source": [
    "We can then optimize with a PatternSearch:"
   ]
  },
  {
   "cell_type": "code",
   "execution_count": 35,
   "id": "fc552561",
   "metadata": {
    "execution": {
     "iopub.execute_input": "2024-08-22T16:08:14.427260Z",
     "iopub.status.busy": "2024-08-22T16:08:14.427260Z",
     "iopub.status.idle": "2024-08-22T16:08:14.503810Z",
     "shell.execute_reply": "2024-08-22T16:08:14.503810Z"
    }
   },
   "outputs": [],
   "source": [
    "from pymoo.optimize import minimize\n",
    "from pymoo.algorithms.soo.nonconvex.pattern import PatternSearch\n",
    "import numpy as np"
   ]
  },
  {
   "cell_type": "code",
   "execution_count": 36,
   "id": "5087f030",
   "metadata": {
    "execution": {
     "iopub.execute_input": "2024-08-22T16:08:14.503810Z",
     "iopub.status.busy": "2024-08-22T16:08:14.503810Z",
     "iopub.status.idle": "2024-08-22T16:08:14.519789Z",
     "shell.execute_reply": "2024-08-22T16:08:14.519789Z"
    }
   },
   "outputs": [],
   "source": [
    "algorithm=PatternSearch(x0=np.array([5])) "
   ]
  },
  {
   "cell_type": "code",
   "execution_count": 37,
   "id": "e59154ff",
   "metadata": {
    "execution": {
     "iopub.execute_input": "2024-08-22T16:08:14.519789Z",
     "iopub.status.busy": "2024-08-22T16:08:14.519789Z",
     "iopub.status.idle": "2024-08-22T16:08:14.526090Z",
     "shell.execute_reply": "2024-08-22T16:08:14.526090Z"
    }
   },
   "outputs": [],
   "source": [
    "pymoo_prob = Prob(psp)"
   ]
  },
  {
   "cell_type": "code",
   "execution_count": 38,
   "id": "6278f8ab",
   "metadata": {
    "execution": {
     "iopub.execute_input": "2024-08-22T16:08:14.526090Z",
     "iopub.status.busy": "2024-08-22T16:08:14.526090Z",
     "iopub.status.idle": "2024-08-22T16:08:25.065000Z",
     "shell.execute_reply": "2024-08-22T16:08:25.065000Z"
    }
   },
   "outputs": [],
   "source": [
    "res = minimize(pymoo_prob, algorithm, verbose=True)"
   ]
  },
  {
   "cell_type": "code",
   "execution_count": 39,
   "id": "81c885f8",
   "metadata": {
    "execution": {
     "iopub.execute_input": "2024-08-22T16:08:25.065000Z",
     "iopub.status.busy": "2024-08-22T16:08:25.065000Z",
     "iopub.status.idle": "2024-08-22T16:08:25.073480Z",
     "shell.execute_reply": "2024-08-22T16:08:25.073480Z"
    }
   },
   "outputs": [],
   "source": [
    "res.X"
   ]
  },
  {
   "cell_type": "code",
   "execution_count": 40,
   "id": "b2411b61",
   "metadata": {
    "execution": {
     "iopub.execute_input": "2024-08-22T16:08:25.073480Z",
     "iopub.status.busy": "2024-08-22T16:08:25.073480Z",
     "iopub.status.idle": "2024-08-22T16:08:25.080937Z",
     "shell.execute_reply": "2024-08-22T16:08:25.080937Z"
    }
   },
   "outputs": [],
   "source": [
    "res.F"
   ]
  },
  {
   "cell_type": "code",
   "execution_count": 41,
   "id": "0dac7ac6",
   "metadata": {
    "execution": {
     "iopub.execute_input": "2024-08-22T16:08:25.080937Z",
     "iopub.status.busy": "2024-08-22T16:08:25.080937Z",
     "iopub.status.idle": "2024-08-22T16:08:25.180331Z",
     "shell.execute_reply": "2024-08-22T16:08:25.180331Z"
    }
   },
   "outputs": [],
   "source": [
    "plt.plot(objs)\n",
    "plt.scatter(res.X, res.F)"
   ]
  },
  {
   "cell_type": "markdown",
   "id": "ff3fc39d",
   "metadata": {},
   "source": [
    "As shown, this method more capably finds the minimum in this case, in part because the underlying search algorithm (Hooke and Jeeves Pattern Search) is more robust to this type of problem."
   ]
  },
  {
   "cell_type": "markdown",
   "id": "beb04929",
   "metadata": {},
   "source": [
    "We can visualize the results of this problem by looking at the simulation log:"
   ]
  },
  {
   "cell_type": "code",
   "execution_count": 42,
   "id": "90dca149",
   "metadata": {
    "execution": {
     "iopub.execute_input": "2024-08-22T16:08:25.180331Z",
     "iopub.status.busy": "2024-08-22T16:08:25.180331Z",
     "iopub.status.idle": "2024-08-22T16:08:25.328108Z",
     "shell.execute_reply": "2024-08-22T16:08:25.328108Z"
    }
   },
   "outputs": [],
   "source": [
    "fig, ax = psp.iter_hist.plot_line('objectives.f1', 'variables.delay')"
   ]
  },
  {
   "cell_type": "markdown",
   "id": "f5daa5a8",
   "metadata": {},
   "source": [
    "As well as the history:"
   ]
  },
  {
   "cell_type": "code",
   "execution_count": 43,
   "id": "2c5daa7e",
   "metadata": {
    "execution": {
     "iopub.execute_input": "2024-08-22T16:08:25.328108Z",
     "iopub.status.busy": "2024-08-22T16:08:25.328108Z",
     "iopub.status.idle": "2024-08-22T16:08:25.736614Z",
     "shell.execute_reply": "2024-08-22T16:08:25.736614Z"
    }
   },
   "outputs": [],
   "source": [
    "fig, ax = psp.hist.plot_line('fxns.move_water.s.eff', 'fxns.move_water.s.total_flow',\n",
    "                             'flows.wat_1.s.flowrate', 'flows.wat_1.s.pressure')"
   ]
  },
  {
   "cell_type": "markdown",
   "id": "456c1316",
   "metadata": {},
   "source": [
    "As shown, the main difference is that at the initial point, the short delay causes the pump to break during the time of the simulation, while at a long delay, the pump breaks later in the simulation. The optimum is at t=40 since this is the first feasible point where three scenarios no longer result in a mechanical break of the pump."
   ]
  }
 ],
 "metadata": {
  "kernelspec": {
   "display_name": "Python 3 (ipykernel)",
   "language": "python",
   "name": "python3"
  },
  "language_info": {
   "codemirror_mode": {
    "name": "ipython",
    "version": 3
   },
   "file_extension": ".py",
   "mimetype": "text/x-python",
   "name": "python",
   "nbconvert_exporter": "python",
   "pygments_lexer": "ipython3",
   "version": "3.10.9"
  },
  "vscode": {
   "interpreter": {
    "hash": "e91384d516de244e8027664e7296e7623a911fd9d79a3021d1ef03e3e53e2456"
   }
  }
 },
 "nbformat": 4,
 "nbformat_minor": 5
}
