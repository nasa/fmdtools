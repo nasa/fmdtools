{
 "cells": [
  {
   "cell_type": "markdown",
   "metadata": {},
   "source": [
    "# Pump Example Notebook\n",
    "This script shows basic I/O operations that can be performed with this toolkit, as well as some of the basic model and simulation visualization and analysis features.\n",
    "\n",
    "This script runs these basic operations on the simple model defined in ex_pump.py.\n",
    "\n",
    "```\n",
    "Copyright © 2024, United States Government, as represented by the Administrator of the National Aeronautics and Space Administration. All rights reserved.\n",
    "\n",
    "The “\"Fault Model Design tools - fmdtools version 2\"” software is licensed under the Apache License, Version 2.0 (the \"License\"); you may not use this file except in compliance with the License. You may obtain a copy of the License at http://www.apache.org/licenses/LICENSE-2.0. \n",
    "\n",
    "Unless required by applicable law or agreed to in writing, software distributed under the License is distributed on an \"AS IS\" BASIS, WITHOUT WARRANTIES OR CONDITIONS OF ANY KIND, either express or implied. See the License for the specific language governing permissions and limitations under the License.\n",
    "```\n"
   ]
  },
  {
   "cell_type": "code",
   "execution_count": 1,
   "metadata": {
    "execution": {
     "iopub.execute_input": "2024-10-21T23:54:39.292557Z",
     "iopub.status.busy": "2024-10-21T23:54:39.292557Z",
     "iopub.status.idle": "2024-10-21T23:54:39.901554Z",
     "shell.execute_reply": "2024-10-21T23:54:39.900552Z"
    }
   },
   "outputs": [
    {
     "ename": "ModuleNotFoundError",
     "evalue": "No module named 'ex_pump'",
     "output_type": "error",
     "traceback": [
      "\u001b[1;31m---------------------------------------------------------------------------\u001b[0m",
      "\u001b[1;31mModuleNotFoundError\u001b[0m                       Traceback (most recent call last)",
      "Cell \u001b[1;32mIn[1], line 1\u001b[0m\n\u001b[1;32m----> 1\u001b[0m \u001b[38;5;28;01mfrom\u001b[39;00m \u001b[38;5;21;01mex_pump\u001b[39;00m \u001b[38;5;28;01mimport\u001b[39;00m Pump\n\u001b[0;32m      3\u001b[0m \u001b[38;5;28;01mimport\u001b[39;00m \u001b[38;5;21;01mfmdtools\u001b[39;00m\u001b[38;5;21;01m.\u001b[39;00m\u001b[38;5;21;01msim\u001b[39;00m\u001b[38;5;21;01m.\u001b[39;00m\u001b[38;5;21;01mpropagate\u001b[39;00m \u001b[38;5;28;01mas\u001b[39;00m \u001b[38;5;21;01mpropagate\u001b[39;00m\n\u001b[0;32m      4\u001b[0m \u001b[38;5;28;01mfrom\u001b[39;00m \u001b[38;5;21;01mfmdtools\u001b[39;00m \u001b[38;5;28;01mimport\u001b[39;00m analyze \u001b[38;5;28;01mas\u001b[39;00m an\n",
      "\u001b[1;31mModuleNotFoundError\u001b[0m: No module named 'ex_pump'"
     ]
    }
   ],
   "source": [
    "from ex_pump import Pump\n",
    "\n",
    "import fmdtools.sim.propagate as propagate\n",
    "from fmdtools import analyze as an\n",
    "\n",
    "from IPython.display import HTML"
   ]
  },
  {
   "cell_type": "markdown",
   "metadata": {},
   "source": [
    "### Initial Model Checks\n",
    "Before seeing how faults propagate, it's useful to see that the model structure is set up correctly and that the system performs as expected.\n",
    "\n",
    "The 'track' argument specifies what model attributes to log. Specifying `all` will log all attributes."
   ]
  },
  {
   "cell_type": "code",
   "execution_count": 2,
   "metadata": {
    "execution": {
     "iopub.execute_input": "2024-08-22T16:09:46.948585Z",
     "iopub.status.busy": "2024-08-22T16:09:46.948585Z",
     "iopub.status.idle": "2024-08-22T16:09:46.961027Z",
     "shell.execute_reply": "2024-08-22T16:09:46.961027Z"
    }
   },
   "outputs": [],
   "source": [
    "mdl = Pump(track='all')"
   ]
  },
  {
   "cell_type": "markdown",
   "metadata": {},
   "source": [
    "One of the easiest ways to visualize this is by viewing the model in the repl, which shows thes states and modes of the component functions and flows."
   ]
  },
  {
   "cell_type": "code",
   "execution_count": 3,
   "metadata": {
    "execution": {
     "iopub.execute_input": "2024-08-22T16:09:46.961027Z",
     "iopub.status.busy": "2024-08-22T16:09:46.961027Z",
     "iopub.status.idle": "2024-08-22T16:09:46.971265Z",
     "shell.execute_reply": "2024-08-22T16:09:46.971265Z"
    }
   },
   "outputs": [],
   "source": [
    "mdl"
   ]
  },
  {
   "cell_type": "markdown",
   "metadata": {},
   "source": [
    "#### Model Structure Visualization\n",
    "\n",
    "To check that the simulation structures are set up right, the FunctionArchitectureGraph class lets us visualize the function/flow relationships in the model. This helps us answer the questions:\n",
    "   - are all functions on the graph?\n",
    "   - are the functions connected with the correct flows?"
   ]
  },
  {
   "cell_type": "code",
   "execution_count": 4,
   "metadata": {
    "execution": {
     "iopub.execute_input": "2024-08-22T16:09:46.973278Z",
     "iopub.status.busy": "2024-08-22T16:09:46.973278Z",
     "iopub.status.idle": "2024-08-22T16:09:46.977488Z",
     "shell.execute_reply": "2024-08-22T16:09:46.977488Z"
    }
   },
   "outputs": [],
   "source": [
    "from fmdtools.define.architecture.function import FunctionArchitectureGraph"
   ]
  },
  {
   "cell_type": "code",
   "execution_count": 5,
   "metadata": {
    "execution": {
     "iopub.execute_input": "2024-08-22T16:09:46.982591Z",
     "iopub.status.busy": "2024-08-22T16:09:46.981582Z",
     "iopub.status.idle": "2024-08-22T16:09:47.202764Z",
     "shell.execute_reply": "2024-08-22T16:09:47.202764Z"
    }
   },
   "outputs": [],
   "source": [
    "a = FunctionArchitectureGraph(mdl)\n",
    "fig, ax = a.draw(figsize=(8,6))"
   ]
  },
  {
   "cell_type": "markdown",
   "metadata": {},
   "source": [
    "Note that a variety of different Classes can be used for model structure visualization, inlcluding `ModelFxnGraph`, `ModelFlowGraph`, and `ModelTypeGraph`. This is further explained in `examples/rover/Model_Structure_Visualization_Tutorial.ipynb`"
   ]
  },
  {
   "cell_type": "code",
   "execution_count": 6,
   "metadata": {
    "execution": {
     "iopub.execute_input": "2024-08-22T16:09:47.202764Z",
     "iopub.status.busy": "2024-08-22T16:09:47.202764Z",
     "iopub.status.idle": "2024-08-22T16:09:47.360354Z",
     "shell.execute_reply": "2024-08-22T16:09:47.360354Z"
    }
   },
   "outputs": [],
   "source": [
    "from fmdtools.define.architecture.function import FunctionArchitectureFxnGraph\n",
    "b=FunctionArchitectureFxnGraph(mdl)\n",
    "fig = b.draw(figsize=(8,6))"
   ]
  },
  {
   "cell_type": "markdown",
   "metadata": {},
   "source": [
    "#### Nominal Run\n",
    "\n",
    "The next code runs the model in the nominal state to check to see that the model has been defined correctly.\n",
    "This helps us verify:\n",
    "   - if any faults occur in the nominal scenario\n",
    "   - if the progression of states proceeds as desired over time.\n",
    "\n",
    "The following code runs the model with no faults to let us do that. The inputs are:\n",
    "- mdl (the model we imported at the start of the script)\n",
    "- desired_result (str/list/dict describing what to return in result)\n",
    "- **kwargs (see docs)\n",
    "\n",
    "The outputs are:\n",
    "- result (a `Result` object defined in `analyze.result`)\n",
    "- mdlhist (a `History` object defined in `analyze.result`)\n",
    "\n",
    "Both `Result` and `History` have a number of methods that can be readily used to process and analyze simulation results. See:\n",
    "- [Result documentation](https://nasa.github.io/fmdtools/docs-source/fmdtools.analyze.html#fmdtools.analyze.result.Result)\n",
    "- [History documentation](https://nasa.github.io/fmdtools/docs-source/fmdtools.analyze.html#fmdtools.analyze.result.History)"
   ]
  },
  {
   "cell_type": "markdown",
   "metadata": {},
   "source": [
    "Many different properties can be requested given the `desired_result` argument ([see full list here](https://nasa.github.io/fmdtools/docs-source/fmdtools.sim.html#fmdtools.sim.propagate.sim_kwargs)). In this case, we pass a dict with key `graph` and a value `FunctionArchitectureGraph` specifying that we want it to give us a graph view of the `Model`."
   ]
  },
  {
   "cell_type": "code",
   "execution_count": 7,
   "metadata": {
    "execution": {
     "iopub.execute_input": "2024-08-22T16:09:47.360354Z",
     "iopub.status.busy": "2024-08-22T16:09:47.360354Z",
     "iopub.status.idle": "2024-08-22T16:09:47.448348Z",
     "shell.execute_reply": "2024-08-22T16:09:47.448348Z"
    }
   },
   "outputs": [],
   "source": [
    "result, mdlhist=propagate.nominal(mdl, desired_result={'graph': FunctionArchitectureGraph})"
   ]
  },
  {
   "cell_type": "markdown",
   "metadata": {},
   "source": [
    "Here we can see where it is in the Result:"
   ]
  },
  {
   "cell_type": "code",
   "execution_count": 8,
   "metadata": {
    "execution": {
     "iopub.execute_input": "2024-08-22T16:09:47.448348Z",
     "iopub.status.busy": "2024-08-22T16:09:47.448348Z",
     "iopub.status.idle": "2024-08-22T16:09:47.455450Z",
     "shell.execute_reply": "2024-08-22T16:09:47.455450Z"
    }
   },
   "outputs": [],
   "source": [
    "result.keys()"
   ]
  },
  {
   "cell_type": "code",
   "execution_count": 9,
   "metadata": {
    "execution": {
     "iopub.execute_input": "2024-08-22T16:09:47.455450Z",
     "iopub.status.busy": "2024-08-22T16:09:47.455450Z",
     "iopub.status.idle": "2024-08-22T16:09:47.462096Z",
     "shell.execute_reply": "2024-08-22T16:09:47.462096Z"
    }
   },
   "outputs": [],
   "source": [
    "result.graph"
   ]
  },
  {
   "cell_type": "markdown",
   "metadata": {},
   "source": [
    "With these results, we can now plot the graph of results resgraph using:"
   ]
  },
  {
   "cell_type": "code",
   "execution_count": 10,
   "metadata": {
    "execution": {
     "iopub.execute_input": "2024-08-22T16:09:47.462096Z",
     "iopub.status.busy": "2024-08-22T16:09:47.462096Z",
     "iopub.status.idle": "2024-08-22T16:09:47.650635Z",
     "shell.execute_reply": "2024-08-22T16:09:47.650635Z"
    }
   },
   "outputs": [],
   "source": [
    "fig = result.graph.draw(figsize=(6,4))"
   ]
  },
  {
   "cell_type": "markdown",
   "metadata": {},
   "source": [
    "As can be seen, this gives a graphical representation of the functional model with the various flows. Since all of the functions are *grey*, no faults were accidentally introduced in this run.\n"
   ]
  },
  {
   "cell_type": "markdown",
   "metadata": {},
   "source": [
    "A model history is additionally returned given our specified tracking options. If none are provided, the `default_track` variable in the `Model` is used (which in this case is set to `all`). See below:"
   ]
  },
  {
   "cell_type": "code",
   "execution_count": 11,
   "metadata": {
    "execution": {
     "iopub.execute_input": "2024-08-22T16:09:47.650635Z",
     "iopub.status.busy": "2024-08-22T16:09:47.650635Z",
     "iopub.status.idle": "2024-08-22T16:09:47.659382Z",
     "shell.execute_reply": "2024-08-22T16:09:47.659382Z"
    }
   },
   "outputs": [],
   "source": [
    "mdlhist"
   ]
  },
  {
   "cell_type": "markdown",
   "metadata": {},
   "source": [
    "We can further look at the states of the model over time using `History.plot_line`:"
   ]
  },
  {
   "cell_type": "code",
   "execution_count": 12,
   "metadata": {
    "execution": {
     "iopub.execute_input": "2024-08-22T16:09:47.659382Z",
     "iopub.status.busy": "2024-08-22T16:09:47.659382Z",
     "iopub.status.idle": "2024-08-22T16:09:47.980788Z",
     "shell.execute_reply": "2024-08-22T16:09:47.980788Z"
    }
   },
   "outputs": [],
   "source": [
    "fig, ax = mdlhist.plot_line('flows.wat_1.s.flowrate', 'flows.wat_2.s.flowrate', 'i.on', 'flows.sig_1.s.power')"
   ]
  },
  {
   "cell_type": "markdown",
   "metadata": {},
   "source": [
    "As we can see, the state of these flows does exactly what we would expect--when the switch turns on at $t=5$, the pump switches on and there is a flow of water in and out of the model.\n",
    "\n",
    "### History\n",
    "If we want to see this data in tabular form, we can use `fp.tabulate.hist()`:"
   ]
  },
  {
   "cell_type": "code",
   "execution_count": 13,
   "metadata": {
    "execution": {
     "iopub.execute_input": "2024-08-22T16:09:47.980788Z",
     "iopub.status.busy": "2024-08-22T16:09:47.980788Z",
     "iopub.status.idle": "2024-08-22T16:09:48.010152Z",
     "shell.execute_reply": "2024-08-22T16:09:48.010152Z"
    }
   },
   "outputs": [],
   "source": [
    "nominal_histtable = mdlhist.as_table()\n",
    "nominal_histtable[:10] #only displaying 10 "
   ]
  },
  {
   "cell_type": "markdown",
   "metadata": {},
   "source": [
    "This table is a pandas dataframe. We can save this dataframe to a .csv using `nominal_histtable.to_csv(\"filename.csv\")`"
   ]
  },
  {
   "cell_type": "markdown",
   "metadata": {},
   "source": [
    "### Propagating and Viewing Results for Individual Faults\n",
    "It is often necessary to see how the system reacts to individual faults. This can gives us better understanding of how the system behaves under individual faults and can let us iterate with the model better.\n",
    "\n",
    "The following code runs the model with a single fault in a single function. In this case, we are initiating a short in the 'Move Water' function at 10 hours into the system's operation.\n",
    "\n",
    "The inputs are:\n",
    "- `mdl` (the model we imported at the start of the script)\n",
    "- `function` (the function the fault we're interested in propagating occurs in)\n",
    "- `faultmode` (the fault to initiate)\n",
    "- `time` (the time when the fault is initiated)\n",
    "- **kwargs )\n",
    "\n",
    "The outputs are (the same as propogate.nominal):\n",
    "- `results` (a dictionary corresponding to `desired_result`)\n",
    "- `mdlhist` (the states of the model over time)"
   ]
  },
  {
   "cell_type": "code",
   "execution_count": 14,
   "metadata": {
    "execution": {
     "iopub.execute_input": "2024-08-22T16:09:48.010152Z",
     "iopub.status.busy": "2024-08-22T16:09:48.010152Z",
     "iopub.status.idle": "2024-08-22T16:09:48.165701Z",
     "shell.execute_reply": "2024-08-22T16:09:48.165701Z"
    }
   },
   "outputs": [],
   "source": [
    "endresults, mdlhist=propagate.one_fault(mdl, 'move_water', 'short', time=10, \n",
    "                                        desired_result=['graph','endclass','endfaults'])"
   ]
  },
  {
   "cell_type": "markdown",
   "metadata": {},
   "source": [
    "Now mdlhist has double the number of entries--those corresponding to the nominal and faulty scenarios."
   ]
  },
  {
   "cell_type": "code",
   "execution_count": 15,
   "metadata": {
    "execution": {
     "iopub.execute_input": "2024-08-22T16:09:48.165701Z",
     "iopub.status.busy": "2024-08-22T16:09:48.165701Z",
     "iopub.status.idle": "2024-08-22T16:09:48.174098Z",
     "shell.execute_reply": "2024-08-22T16:09:48.174098Z"
    }
   },
   "outputs": [],
   "source": [
    "mdlhist"
   ]
  },
  {
   "cell_type": "markdown",
   "metadata": {},
   "source": [
    "`History.get_degraded_hist` compares the results over time so we can see what functions and flows were degraded over time. We can then use the summary to view a list of the functions and flows that were impacted over time."
   ]
  },
  {
   "cell_type": "code",
   "execution_count": 16,
   "metadata": {
    "execution": {
     "iopub.execute_input": "2024-08-22T16:09:48.174098Z",
     "iopub.status.busy": "2024-08-22T16:09:48.174098Z",
     "iopub.status.idle": "2024-08-22T16:09:48.180520Z",
     "shell.execute_reply": "2024-08-22T16:09:48.180520Z"
    }
   },
   "outputs": [],
   "source": [
    "deghist = mdlhist.get_degraded_hist(*mdl.fxns, *mdl.flows)"
   ]
  },
  {
   "cell_type": "code",
   "execution_count": 17,
   "metadata": {
    "execution": {
     "iopub.execute_input": "2024-08-22T16:09:48.180520Z",
     "iopub.status.busy": "2024-08-22T16:09:48.180520Z",
     "iopub.status.idle": "2024-08-22T16:09:48.186980Z",
     "shell.execute_reply": "2024-08-22T16:09:48.186980Z"
    }
   },
   "outputs": [],
   "source": [
    "deghist"
   ]
  },
  {
   "cell_type": "code",
   "execution_count": 18,
   "metadata": {
    "execution": {
     "iopub.execute_input": "2024-08-22T16:09:48.186980Z",
     "iopub.status.busy": "2024-08-22T16:09:48.186980Z",
     "iopub.status.idle": "2024-08-22T16:09:48.213259Z",
     "shell.execute_reply": "2024-08-22T16:09:48.213259Z"
    }
   },
   "outputs": [],
   "source": [
    "deghist.as_table()"
   ]
  },
  {
   "cell_type": "markdown",
   "metadata": {},
   "source": [
    "`endresults` however, keeps the endresult for the faulty scenario alone, as shown:"
   ]
  },
  {
   "cell_type": "code",
   "execution_count": 19,
   "metadata": {
    "execution": {
     "iopub.execute_input": "2024-08-22T16:09:48.213259Z",
     "iopub.status.busy": "2024-08-22T16:09:48.213259Z",
     "iopub.status.idle": "2024-08-22T16:09:48.220667Z",
     "shell.execute_reply": "2024-08-22T16:09:48.220667Z"
    }
   },
   "outputs": [],
   "source": [
    "endresults"
   ]
  },
  {
   "cell_type": "markdown",
   "metadata": {},
   "source": [
    "However, the graph view now has information about degradations between the faulty and nominal runs, along with fault information:"
   ]
  },
  {
   "cell_type": "code",
   "execution_count": 20,
   "metadata": {
    "execution": {
     "iopub.execute_input": "2024-08-22T16:09:48.220667Z",
     "iopub.status.busy": "2024-08-22T16:09:48.220667Z",
     "iopub.status.idle": "2024-08-22T16:09:48.479405Z",
     "shell.execute_reply": "2024-08-22T16:09:48.479405Z"
    }
   },
   "outputs": [],
   "source": [
    "fig = endresults.graph.draw()"
   ]
  },
  {
   "cell_type": "code",
   "execution_count": 21,
   "metadata": {
    "execution": {
     "iopub.execute_input": "2024-08-22T16:09:48.479405Z",
     "iopub.status.busy": "2024-08-22T16:09:48.479405Z",
     "iopub.status.idle": "2024-08-22T16:09:48.486927Z",
     "shell.execute_reply": "2024-08-22T16:09:48.486927Z"
    }
   },
   "outputs": [],
   "source": [
    "endresults.graph.g.nodes['pump.fxns.move_water']"
   ]
  },
  {
   "cell_type": "markdown",
   "metadata": {},
   "source": [
    "As can be seen, at the final t, the short causes a degraded flow of electricity as well as a fault in the Import EE function. \n",
    "\n",
    "**However**, we would imagine that the short would cause the water to stop moving also--so why is it not red?"
   ]
  },
  {
   "cell_type": "markdown",
   "metadata": {},
   "source": [
    "The answer is that by default the degradations shown in the graph are shown at the **final time**, which is the same both for the failed model and the nominal model, since the pump is switched \"off.\" In this case we might be more interested in looking at how the graph looks in operation, rather than at the end.\n",
    "\n",
    "We can do that that in two ways:\n",
    "- by specifying a different time to fetch the graph from (e.g., `desired_result={10:'graph'}`, or\n",
    "- by reconstructing the based on the history of the plot, as shown below:"
   ]
  },
  {
   "cell_type": "code",
   "execution_count": 22,
   "metadata": {
    "execution": {
     "iopub.execute_input": "2024-08-22T16:09:48.486927Z",
     "iopub.status.busy": "2024-08-22T16:09:48.486927Z",
     "iopub.status.idle": "2024-08-22T16:09:48.496744Z",
     "shell.execute_reply": "2024-08-22T16:09:48.496744Z"
    }
   },
   "outputs": [],
   "source": [
    "mg = FunctionArchitectureGraph(mdl)"
   ]
  },
  {
   "cell_type": "markdown",
   "metadata": {},
   "source": [
    "To do this, we first need to track more states than have been specified to track in the model. The easiest way to do this is to set `track='all'`."
   ]
  },
  {
   "cell_type": "code",
   "execution_count": 23,
   "metadata": {
    "execution": {
     "iopub.execute_input": "2024-08-22T16:09:48.496744Z",
     "iopub.status.busy": "2024-08-22T16:09:48.496744Z",
     "iopub.status.idle": "2024-08-22T16:09:48.647723Z",
     "shell.execute_reply": "2024-08-22T16:09:48.647723Z"
    }
   },
   "outputs": [],
   "source": [
    "endresults, mdlhist_full=propagate.one_fault(mdl, 'move_water', 'short', time=10, track='all',\n",
    "                                        desired_result=['graph','endclass','endfaults'])"
   ]
  },
  {
   "cell_type": "markdown",
   "metadata": {},
   "source": [
    "We can then plot the state at any time in the history using `mg.draw_from`."
   ]
  },
  {
   "cell_type": "code",
   "execution_count": 24,
   "metadata": {
    "execution": {
     "iopub.execute_input": "2024-08-22T16:09:48.647723Z",
     "iopub.status.busy": "2024-08-22T16:09:48.647723Z",
     "iopub.status.idle": "2024-08-22T16:09:48.964425Z",
     "shell.execute_reply": "2024-08-22T16:09:48.964425Z"
    }
   },
   "outputs": [],
   "source": [
    "fig, ax = mg.draw_from(15, mdlhist_full)"
   ]
  },
  {
   "cell_type": "markdown",
   "metadata": {},
   "source": [
    "As shown, this version has the degradation of the water, since at this time the off-nominal state is different from the nominal (no flow)."
   ]
  },
  {
   "cell_type": "markdown",
   "metadata": {},
   "source": [
    "We can view an animation over time using:"
   ]
  },
  {
   "cell_type": "code",
   "execution_count": 25,
   "metadata": {
    "execution": {
     "iopub.execute_input": "2024-08-22T16:09:48.964425Z",
     "iopub.status.busy": "2024-08-22T16:09:48.964425Z",
     "iopub.status.idle": "2024-08-22T16:09:57.585145Z",
     "shell.execute_reply": "2024-08-22T16:09:57.585145Z"
    }
   },
   "outputs": [],
   "source": [
    "from IPython.display import HTML\n",
    "ani = mg.animate(mdlhist_full)\n",
    "HTML(ani.to_jshtml())"
   ]
  },
  {
   "cell_type": "markdown",
   "metadata": {},
   "source": [
    "Note that if only a partial history is given, only partial results will be displayed (see below)."
   ]
  },
  {
   "cell_type": "code",
   "execution_count": 26,
   "metadata": {
    "execution": {
     "iopub.execute_input": "2024-08-22T16:09:57.585145Z",
     "iopub.status.busy": "2024-08-22T16:09:57.585145Z",
     "iopub.status.idle": "2024-08-22T16:09:57.790683Z",
     "shell.execute_reply": "2024-08-22T16:09:57.790683Z"
    }
   },
   "outputs": [],
   "source": [
    "fig, ax = mg.draw_from(15, mdlhist, figsize=(6,4), withlegend=False)"
   ]
  },
  {
   "cell_type": "markdown",
   "metadata": {},
   "source": [
    "We can also plot the states of this against the nominal run using:"
   ]
  },
  {
   "cell_type": "code",
   "execution_count": 27,
   "metadata": {
    "execution": {
     "iopub.execute_input": "2024-08-22T16:09:57.790683Z",
     "iopub.status.busy": "2024-08-22T16:09:57.790683Z",
     "iopub.status.idle": "2024-08-22T16:09:57.798449Z",
     "shell.execute_reply": "2024-08-22T16:09:57.798449Z"
    }
   },
   "outputs": [],
   "source": [
    "mdlhist"
   ]
  },
  {
   "cell_type": "code",
   "execution_count": 28,
   "metadata": {
    "execution": {
     "iopub.execute_input": "2024-08-22T16:09:57.798449Z",
     "iopub.status.busy": "2024-08-22T16:09:57.798449Z",
     "iopub.status.idle": "2024-08-22T16:09:57.960478Z",
     "shell.execute_reply": "2024-08-22T16:09:57.960478Z"
    }
   },
   "outputs": [],
   "source": [
    "fig, axs = mdlhist.plot_line('flows.ee_1.s.current', 'flows.wat_2.s.flowrate', \n",
    "                             title=\"Response of Pump to Short\", time_slice=10, legend_loc=False, title_padding=0.1)"
   ]
  },
  {
   "cell_type": "markdown",
   "metadata": {},
   "source": [
    "As you can see, the system begins nominal until the fault is injected at $t=10$. At this moment, not only are the electrical energy flows degraded, the flow of water is degraded also. However, at $t=55$ when the system is supposed to be turned off, this flow of water is no longer \"degraded\" because it is in the same state as the nominal system.\n",
    "\n",
    "We can look at a table of to see more precisely what happened (and export, if needed). Note that we need to give the plotting function the mode ('short') and the time for it to plot properly."
   ]
  },
  {
   "cell_type": "code",
   "execution_count": 29,
   "metadata": {
    "execution": {
     "iopub.execute_input": "2024-08-22T16:09:57.960478Z",
     "iopub.status.busy": "2024-08-22T16:09:57.960478Z",
     "iopub.status.idle": "2024-08-22T16:09:58.031116Z",
     "shell.execute_reply": "2024-08-22T16:09:58.031116Z"
    },
    "scrolled": true
   },
   "outputs": [],
   "source": [
    "mdlhist.as_table()"
   ]
  },
  {
   "cell_type": "markdown",
   "metadata": {},
   "source": [
    "Here we can see that the short dropped the voltage to zero, (this was because an open circuit resulted in the Import EE function), causing the water to stop flowing. Below, we use the processed model history to show the faults and *degradation* of states over time. In this case, 1 means nominal while 0 means degraded."
   ]
  },
  {
   "cell_type": "code",
   "execution_count": 30,
   "metadata": {
    "execution": {
     "iopub.execute_input": "2024-08-22T16:09:58.034149Z",
     "iopub.status.busy": "2024-08-22T16:09:58.034149Z",
     "iopub.status.idle": "2024-08-22T16:09:58.039044Z",
     "shell.execute_reply": "2024-08-22T16:09:58.039044Z"
    }
   },
   "outputs": [],
   "source": [
    "deghist = mdlhist_full.get_degraded_hist(*mdl.fxns, *mdl.flows)"
   ]
  },
  {
   "cell_type": "code",
   "execution_count": 31,
   "metadata": {
    "execution": {
     "iopub.execute_input": "2024-08-22T16:09:58.039044Z",
     "iopub.status.busy": "2024-08-22T16:09:58.039044Z",
     "iopub.status.idle": "2024-08-22T16:09:58.056550Z",
     "shell.execute_reply": "2024-08-22T16:09:58.056550Z"
    }
   },
   "outputs": [],
   "source": [
    "deghist.as_table()[:20]"
   ]
  },
  {
   "cell_type": "markdown",
   "metadata": {},
   "source": [
    "We can also look at the faults over time..."
   ]
  },
  {
   "cell_type": "code",
   "execution_count": 32,
   "metadata": {
    "execution": {
     "iopub.execute_input": "2024-08-22T16:09:58.056550Z",
     "iopub.status.busy": "2024-08-22T16:09:58.056550Z",
     "iopub.status.idle": "2024-08-22T16:09:58.072249Z",
     "shell.execute_reply": "2024-08-22T16:09:58.072249Z"
    }
   },
   "outputs": [],
   "source": [
    "faulthist = mdlhist_full.get_faulty_hist(*mdl.fxns)\n",
    "faulthist.as_table()[0:20]"
   ]
  },
  {
   "cell_type": "markdown",
   "metadata": {},
   "source": [
    "We can also look at statistics of degradation over time using:"
   ]
  },
  {
   "cell_type": "code",
   "execution_count": 33,
   "metadata": {
    "execution": {
     "iopub.execute_input": "2024-08-22T16:09:58.072249Z",
     "iopub.status.busy": "2024-08-22T16:09:58.072249Z",
     "iopub.status.idle": "2024-08-22T16:09:58.081087Z",
     "shell.execute_reply": "2024-08-22T16:09:58.081087Z"
    }
   },
   "outputs": [],
   "source": [
    "summ = mdlhist_full.get_fault_degradation_summary(*mdl.fxns, *mdl.flows)\n",
    "summ.faulty"
   ]
  },
  {
   "cell_type": "code",
   "execution_count": 34,
   "metadata": {
    "execution": {
     "iopub.execute_input": "2024-08-22T16:09:58.081087Z",
     "iopub.status.busy": "2024-08-22T16:09:58.081087Z",
     "iopub.status.idle": "2024-08-22T16:09:58.089082Z",
     "shell.execute_reply": "2024-08-22T16:09:58.089082Z"
    }
   },
   "outputs": [],
   "source": [
    "summ.degraded"
   ]
  },
  {
   "cell_type": "markdown",
   "metadata": {},
   "source": [
    "#### Blockage Fault\n",
    "\n",
    "We can also look at other faults. The results below are for a blockage of the pipe. In this case we're only interested in the effect on the water going through, so only those flows are tracked."
   ]
  },
  {
   "cell_type": "code",
   "execution_count": 35,
   "metadata": {
    "execution": {
     "iopub.execute_input": "2024-08-22T16:09:58.089082Z",
     "iopub.status.busy": "2024-08-22T16:09:58.089082Z",
     "iopub.status.idle": "2024-08-22T16:09:58.241960Z",
     "shell.execute_reply": "2024-08-22T16:09:58.241960Z"
    }
   },
   "outputs": [],
   "source": [
    "endresults2, mdlhist2=propagate.one_fault(mdl, 'export_water', 'block', \n",
    "                                          time=10, desired_result=['endclass', 'graph', 'endfaults'])\n",
    "summ = mdlhist_full.get_fault_degradation_summary(*mdl.fxns, *mdl.flows)"
   ]
  },
  {
   "cell_type": "code",
   "execution_count": 36,
   "metadata": {
    "execution": {
     "iopub.execute_input": "2024-08-22T16:09:58.241960Z",
     "iopub.status.busy": "2024-08-22T16:09:58.241960Z",
     "iopub.status.idle": "2024-08-22T16:09:58.250805Z",
     "shell.execute_reply": "2024-08-22T16:09:58.250805Z"
    }
   },
   "outputs": [],
   "source": [
    "summ.faulty"
   ]
  },
  {
   "cell_type": "code",
   "execution_count": 37,
   "metadata": {
    "execution": {
     "iopub.execute_input": "2024-08-22T16:09:58.250805Z",
     "iopub.status.busy": "2024-08-22T16:09:58.250805Z",
     "iopub.status.idle": "2024-08-22T16:09:58.258094Z",
     "shell.execute_reply": "2024-08-22T16:09:58.258094Z"
    }
   },
   "outputs": [],
   "source": [
    "summ.degraded"
   ]
  },
  {
   "cell_type": "code",
   "execution_count": 38,
   "metadata": {
    "execution": {
     "iopub.execute_input": "2024-08-22T16:09:58.258094Z",
     "iopub.status.busy": "2024-08-22T16:09:58.258094Z",
     "iopub.status.idle": "2024-08-22T16:09:58.436988Z",
     "shell.execute_reply": "2024-08-22T16:09:58.436988Z"
    }
   },
   "outputs": [],
   "source": [
    "fig, ax = endresults2.graph.draw(figsize=(6,4), withlegend=False)"
   ]
  },
  {
   "cell_type": "code",
   "execution_count": 39,
   "metadata": {
    "execution": {
     "iopub.execute_input": "2024-08-22T16:09:58.436988Z",
     "iopub.status.busy": "2024-08-22T16:09:58.436988Z",
     "iopub.status.idle": "2024-08-22T16:09:58.445759Z",
     "shell.execute_reply": "2024-08-22T16:09:58.445594Z"
    }
   },
   "outputs": [],
   "source": [
    "mdlhist"
   ]
  },
  {
   "cell_type": "code",
   "execution_count": 40,
   "metadata": {
    "execution": {
     "iopub.execute_input": "2024-08-22T16:09:58.447950Z",
     "iopub.status.busy": "2024-08-22T16:09:58.447950Z",
     "iopub.status.idle": "2024-08-22T16:09:58.594523Z",
     "shell.execute_reply": "2024-08-22T16:09:58.594523Z"
    }
   },
   "outputs": [],
   "source": [
    "fig, axs = mdlhist2.plot_line('flows.ee_1.s.current', 'flows.wat_2.s.flowrate',\n",
    "                              title = 'Response of Pump to blockage', time_slice=10, legend_loc=False, title_padding=0.1)"
   ]
  },
  {
   "cell_type": "markdown",
   "metadata": {},
   "source": [
    "### Visualization of resilience metrics\n",
    "We can also use the processed time history to now make visualizations of the resilience of the system over time. \n",
    "\n",
    "Here we calculate the percent time the simulation was decraded over the simulation interval:"
   ]
  },
  {
   "cell_type": "code",
   "execution_count": 41,
   "metadata": {
    "execution": {
     "iopub.execute_input": "2024-08-22T16:09:58.594523Z",
     "iopub.status.busy": "2024-08-22T16:09:58.594523Z",
     "iopub.status.idle": "2024-08-22T16:09:58.602310Z",
     "shell.execute_reply": "2024-08-22T16:09:58.602310Z"
    }
   },
   "outputs": [],
   "source": [
    "fxns_and_flows = [*mdl.get_roles_as_dict(\"fxns\", \"flows\", flex_prefixes=True)]\n",
    "deghist = mdlhist_full.get_degraded_hist(*fxns_and_flows)\n",
    "exp = deghist.get_metrics()"
   ]
  },
  {
   "cell_type": "code",
   "execution_count": 42,
   "metadata": {
    "execution": {
     "iopub.execute_input": "2024-08-22T16:09:58.602310Z",
     "iopub.status.busy": "2024-08-22T16:09:58.602310Z",
     "iopub.status.idle": "2024-08-22T16:09:58.609526Z",
     "shell.execute_reply": "2024-08-22T16:09:58.609526Z"
    }
   },
   "outputs": [],
   "source": [
    "exp"
   ]
  },
  {
   "cell_type": "markdown",
   "metadata": {},
   "source": [
    "These metrics (and others like them) can then be overlayed as a heatmap using `set_heatmap`."
   ]
  },
  {
   "cell_type": "code",
   "execution_count": 43,
   "metadata": {
    "execution": {
     "iopub.execute_input": "2024-08-22T16:09:58.609526Z",
     "iopub.status.busy": "2024-08-22T16:09:58.609526Z",
     "iopub.status.idle": "2024-08-22T16:09:58.816693Z",
     "shell.execute_reply": "2024-08-22T16:09:58.816693Z"
    },
    "scrolled": true
   },
   "outputs": [],
   "source": [
    "mg = FunctionArchitectureGraph(mdl)\n",
    "mg.set_heatmap({mdl.name+\".\"+k: v for k, v in exp.items()})\n",
    "mg.draw()"
   ]
  },
  {
   "cell_type": "markdown",
   "metadata": {},
   "source": [
    "Network metrics can also be overlaid on the graphs:"
   ]
  },
  {
   "cell_type": "code",
   "execution_count": 44,
   "metadata": {
    "execution": {
     "iopub.execute_input": "2024-08-22T16:09:58.816693Z",
     "iopub.status.busy": "2024-08-22T16:09:58.816693Z",
     "iopub.status.idle": "2024-08-22T16:09:59.057800Z",
     "shell.execute_reply": "2024-08-22T16:09:59.057800Z"
    }
   },
   "outputs": [],
   "source": [
    "mg = FunctionArchitectureGraph(mdl)\n",
    "fig, ax = mg.plot_high_degree_nodes()"
   ]
  },
  {
   "cell_type": "code",
   "execution_count": 45,
   "metadata": {
    "execution": {
     "iopub.execute_input": "2024-08-22T16:09:59.057800Z",
     "iopub.status.busy": "2024-08-22T16:09:59.057800Z",
     "iopub.status.idle": "2024-08-22T16:09:59.309677Z",
     "shell.execute_reply": "2024-08-22T16:09:59.309677Z"
    }
   },
   "outputs": [],
   "source": [
    "mg = FunctionArchitectureGraph(mdl)\n",
    "fig, ax = mg.plot_bridging_nodes()"
   ]
  },
  {
   "cell_type": "markdown",
   "metadata": {},
   "source": [
    "### Running a List of Faults\n",
    "Finally, to get the results of all of the single-fault scenarios defined in the model, we can run them all at once using the `single_faults()` function. Note that this will propagate faults based on the times vector put in the model it will propogate the faults at the begining, end, and at t=15 and t=15. This function only takes in the model mdl and outputs two similar kinds of output--resultsdict (the results in a python dictionary) and resultstab (the results in a nice tabular form). \n",
    "\n",
    "Note that the rates provide for this table do not use the opportunity vector information, instead using the assumption that the fault scenario has the rate provided over the entire simulation.\n",
    "\n",
    "See below:"
   ]
  },
  {
   "cell_type": "code",
   "execution_count": 46,
   "metadata": {
    "execution": {
     "iopub.execute_input": "2024-08-22T16:09:59.309677Z",
     "iopub.status.busy": "2024-08-22T16:09:59.309677Z",
     "iopub.status.idle": "2024-08-22T16:09:59.952431Z",
     "shell.execute_reply": "2024-08-22T16:09:59.952431Z"
    }
   },
   "outputs": [],
   "source": [
    "endclasses, mdlhists=propagate.single_faults(mdl, staged=True, track=\"all\")"
   ]
  },
  {
   "cell_type": "markdown",
   "metadata": {},
   "source": [
    "We can visualize the metrics for each scenario using `Result.create_simple_fmea`"
   ]
  },
  {
   "cell_type": "code",
   "execution_count": 47,
   "metadata": {
    "execution": {
     "iopub.execute_input": "2024-08-22T16:09:59.952431Z",
     "iopub.status.busy": "2024-08-22T16:09:59.952431Z",
     "iopub.status.idle": "2024-08-22T16:09:59.966085Z",
     "shell.execute_reply": "2024-08-22T16:09:59.966085Z"
    }
   },
   "outputs": [],
   "source": [
    "endclasses.create_simple_fmea()"
   ]
  },
  {
   "cell_type": "markdown",
   "metadata": {},
   "source": [
    "We can see corresponding degradations using `tabulate.result_summary.fmea()`"
   ]
  },
  {
   "cell_type": "code",
   "execution_count": 48,
   "metadata": {
    "execution": {
     "iopub.execute_input": "2024-08-22T16:09:59.966085Z",
     "iopub.status.busy": "2024-08-22T16:09:59.966085Z",
     "iopub.status.idle": "2024-08-22T16:09:59.988767Z",
     "shell.execute_reply": "2024-08-22T16:09:59.988767Z"
    }
   },
   "outputs": [],
   "source": [
    "fullfmea = an.tabulate.result_summary_fmea(endclasses, mdlhists, *mdl.fxns, *mdl.flows)\n",
    "fullfmea[:10]"
   ]
  },
  {
   "cell_type": "markdown",
   "metadata": {},
   "source": [
    "### Running a Fault Sampling Approach\n",
    "Note that only gives accurate results for costs and fault responses--in order to get an accurate idea of *expected cost*, we instead run a FaultSample or SampleApproach, which develops an underlying probability model for faults. See below."
   ]
  },
  {
   "cell_type": "code",
   "execution_count": 49,
   "metadata": {
    "execution": {
     "iopub.execute_input": "2024-08-22T16:09:59.988767Z",
     "iopub.status.busy": "2024-08-22T16:09:59.988767Z",
     "iopub.status.idle": "2024-08-22T16:09:59.997838Z",
     "shell.execute_reply": "2024-08-22T16:09:59.997838Z"
    }
   },
   "outputs": [],
   "source": [
    "from fmdtools.sim.sample import FaultDomain, FaultSample\n",
    "\n",
    "fd = FaultDomain(mdl)\n",
    "fd.add_all()\n",
    "fd"
   ]
  },
  {
   "cell_type": "code",
   "execution_count": 50,
   "metadata": {
    "execution": {
     "iopub.execute_input": "2024-08-22T16:09:59.997838Z",
     "iopub.status.busy": "2024-08-22T16:09:59.997838Z",
     "iopub.status.idle": "2024-08-22T16:10:00.008042Z",
     "shell.execute_reply": "2024-08-22T16:10:00.008042Z"
    }
   },
   "outputs": [],
   "source": [
    "from fmdtools.analyze.phases import PhaseMap\n",
    "fs = FaultSample(fd, phasemap=PhaseMap(mdl.sp.phases))\n",
    "fs.add_fault_phases()\n",
    "fs"
   ]
  },
  {
   "cell_type": "code",
   "execution_count": 51,
   "metadata": {
    "execution": {
     "iopub.execute_input": "2024-08-22T16:10:00.008042Z",
     "iopub.status.busy": "2024-08-22T16:10:00.008042Z",
     "iopub.status.idle": "2024-08-22T16:10:01.064927Z",
     "shell.execute_reply": "2024-08-22T16:10:01.064927Z"
    }
   },
   "outputs": [],
   "source": [
    "endclasses, mdlhists=propagate.fault_sample(mdl, fs, staged=True, track=\"all\")\n",
    "simplefmea = endclasses.create_simple_fmea() #note the costs are the same, but the rates and expected costs are not\n",
    "simplefmea[:5]"
   ]
  },
  {
   "cell_type": "markdown",
   "metadata": {},
   "source": [
    "We can now summarize the risks of faults over the operational phases and overall using the `FMEA` class:"
   ]
  },
  {
   "cell_type": "code",
   "execution_count": 52,
   "metadata": {
    "execution": {
     "iopub.execute_input": "2024-08-22T16:10:01.064927Z",
     "iopub.status.busy": "2024-08-22T16:10:01.064927Z",
     "iopub.status.idle": "2024-08-22T16:10:01.089002Z",
     "shell.execute_reply": "2024-08-22T16:10:01.089002Z"
    }
   },
   "outputs": [],
   "source": [
    "phasefmea = an.tabulate.FMEA(endclasses, fs, group_by=('function', 'fault', 'phase'))\n",
    "phasefmea.as_table()"
   ]
  },
  {
   "cell_type": "code",
   "execution_count": 53,
   "metadata": {
    "execution": {
     "iopub.execute_input": "2024-08-22T16:10:01.089002Z",
     "iopub.status.busy": "2024-08-22T16:10:01.089002Z",
     "iopub.status.idle": "2024-08-22T16:10:01.106477Z",
     "shell.execute_reply": "2024-08-22T16:10:01.106477Z"
    }
   },
   "outputs": [],
   "source": [
    "summfmea = an.tabulate.FMEA(endclasses, fs)\n",
    "summfmea.as_table()"
   ]
  },
  {
   "cell_type": "markdown",
   "metadata": {},
   "source": [
    "#### History visualization\n",
    "\n",
    "We can further overlay expected resilience metrics on the model over fault scenarios using various methods provided with `History` and `Result`.\n",
    "\n",
    "Below we get the expected values of the history values:"
   ]
  },
  {
   "cell_type": "code",
   "execution_count": 54,
   "metadata": {
    "execution": {
     "iopub.execute_input": "2024-08-22T16:10:01.106477Z",
     "iopub.status.busy": "2024-08-22T16:10:01.106477Z",
     "iopub.status.idle": "2024-08-22T16:10:01.120168Z",
     "shell.execute_reply": "2024-08-22T16:10:01.120168Z"
    }
   },
   "outputs": [],
   "source": [
    "hist_expected = mdlhists.get_expected(app=fs, with_nominal=True)"
   ]
  },
  {
   "cell_type": "markdown",
   "metadata": {},
   "source": [
    "Next we get the expected degradations:"
   ]
  },
  {
   "cell_type": "code",
   "execution_count": 55,
   "metadata": {
    "execution": {
     "iopub.execute_input": "2024-08-22T16:10:01.120168Z",
     "iopub.status.busy": "2024-08-22T16:10:01.120168Z",
     "iopub.status.idle": "2024-08-22T16:10:01.127644Z",
     "shell.execute_reply": "2024-08-22T16:10:01.127644Z"
    }
   },
   "outputs": [],
   "source": [
    "deg=hist_expected.get_degraded_hist(*fxns_and_flows, nomhist=mdlhists.nominal)"
   ]
  },
  {
   "cell_type": "code",
   "execution_count": 56,
   "metadata": {
    "execution": {
     "iopub.execute_input": "2024-08-22T16:10:01.127644Z",
     "iopub.status.busy": "2024-08-22T16:10:01.127644Z",
     "iopub.status.idle": "2024-08-22T16:10:01.135486Z",
     "shell.execute_reply": "2024-08-22T16:10:01.135486Z"
    }
   },
   "outputs": [],
   "source": [
    "deg"
   ]
  },
  {
   "cell_type": "code",
   "execution_count": 57,
   "metadata": {
    "execution": {
     "iopub.execute_input": "2024-08-22T16:10:01.136523Z",
     "iopub.status.busy": "2024-08-22T16:10:01.136523Z",
     "iopub.status.idle": "2024-08-22T16:10:01.143025Z",
     "shell.execute_reply": "2024-08-22T16:10:01.143025Z"
    }
   },
   "outputs": [],
   "source": [
    "import numpy as np\n",
    "heatmap = deg.get_metrics(metric=np.mean)\n"
   ]
  },
  {
   "cell_type": "markdown",
   "metadata": {},
   "source": [
    "These metrics can in turn be overlayed on the graph using `set_heatmap`."
   ]
  },
  {
   "cell_type": "code",
   "execution_count": 58,
   "metadata": {
    "execution": {
     "iopub.execute_input": "2024-08-22T16:10:01.143025Z",
     "iopub.status.busy": "2024-08-22T16:10:01.143025Z",
     "iopub.status.idle": "2024-08-22T16:10:01.348566Z",
     "shell.execute_reply": "2024-08-22T16:10:01.348566Z"
    }
   },
   "outputs": [],
   "source": [
    "from fmdtools.define.architecture.function import FunctionArchitectureGraph\n",
    "mg = FunctionArchitectureGraph(mdl)\n",
    "mg.set_heatmap({mdl.name+\".\"+k: v for k, v in exp.items()})\n",
    "mg.draw()"
   ]
  },
  {
   "cell_type": "markdown",
   "metadata": {},
   "source": [
    "## Save/Load\n",
    "\n",
    "In detailed simulations, running a lot of computational simulations can take a considerable amount of time. As a result, it becomes impractical to run a new simulation every time one wishes to analyse its data. Results from fmdtools simulations (endclasses or mdlhists) can be saved as pickle, csv, or json files in this instance using either:\n",
    "- `Result.save` or `History.save` or \n",
    "- passing a save_args dictionary to the respective propagate functions (e.g., {'endclass':{'filename':'file.pkl','overwrite':True})\n",
    "\n",
    "and then loaded using:\n",
    "- `Result.load` or `History.load`"
   ]
  },
  {
   "cell_type": "code",
   "execution_count": 59,
   "metadata": {
    "execution": {
     "iopub.execute_input": "2024-08-22T16:10:01.348566Z",
     "iopub.status.busy": "2024-08-22T16:10:01.348566Z",
     "iopub.status.idle": "2024-08-22T16:10:01.368514Z",
     "shell.execute_reply": "2024-08-22T16:10:01.368514Z"
    }
   },
   "outputs": [],
   "source": [
    "mdlhists"
   ]
  },
  {
   "cell_type": "markdown",
   "metadata": {},
   "source": [
    "This saves a history to a file:"
   ]
  },
  {
   "cell_type": "code",
   "execution_count": 60,
   "metadata": {
    "execution": {
     "iopub.execute_input": "2024-08-22T16:10:01.368514Z",
     "iopub.status.busy": "2024-08-22T16:10:01.368514Z",
     "iopub.status.idle": "2024-08-22T16:10:01.420216Z",
     "shell.execute_reply": "2024-08-22T16:10:01.420216Z"
    }
   },
   "outputs": [],
   "source": [
    "mdlhists.save(\"example_mdlhist.npz\", overwrite=True)"
   ]
  },
  {
   "cell_type": "markdown",
   "metadata": {},
   "source": [
    "And this loads this history:"
   ]
  },
  {
   "cell_type": "code",
   "execution_count": 61,
   "metadata": {
    "execution": {
     "iopub.execute_input": "2024-08-22T16:10:01.420216Z",
     "iopub.status.busy": "2024-08-22T16:10:01.420216Z",
     "iopub.status.idle": "2024-08-22T16:10:01.555153Z",
     "shell.execute_reply": "2024-08-22T16:10:01.555153Z"
    }
   },
   "outputs": [],
   "source": [
    "mdlhists_saved  = an.history.History.load(\"example_mdlhist.npz\")"
   ]
  },
  {
   "cell_type": "code",
   "execution_count": 62,
   "metadata": {
    "execution": {
     "iopub.execute_input": "2024-08-22T16:10:01.555153Z",
     "iopub.status.busy": "2024-08-22T16:10:01.555153Z",
     "iopub.status.idle": "2024-08-22T16:10:01.573491Z",
     "shell.execute_reply": "2024-08-22T16:10:01.573491Z"
    }
   },
   "outputs": [],
   "source": [
    "mdlhists_saved "
   ]
  },
  {
   "cell_type": "markdown",
   "metadata": {},
   "source": [
    "Note that there are different trade-offs to using different file formats:\n",
    "- `npz` is the serialization format provided in numpy, which is fast but not human readable\n",
    "- `csv` outputs as comma separated values, which are slower and less robust (in terms of data types), but are human-readable and can be opened in a spreadsheet software like excel.\n",
    "- `json` is similar to csv, but is less human readable."
   ]
  }
 ],
 "metadata": {
  "kernelspec": {
   "display_name": "Python 3 (ipykernel)",
   "language": "python",
   "name": "python3"
  },
  "language_info": {
   "codemirror_mode": {
    "name": "ipython",
    "version": 3
   },
   "file_extension": ".py",
   "mimetype": "text/x-python",
   "name": "python",
   "nbconvert_exporter": "python",
   "pygments_lexer": "ipython3",
   "version": "3.10.9"
  },
  "vscode": {
   "interpreter": {
    "hash": "e91384d516de244e8027664e7296e7623a911fd9d79a3021d1ef03e3e53e2456"
   }
  }
 },
 "nbformat": 4,
 "nbformat_minor": 2
}
