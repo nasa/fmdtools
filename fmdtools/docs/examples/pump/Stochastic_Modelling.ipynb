{
 "cells": [
  {
   "cell_type": "markdown",
   "id": "088113ed",
   "metadata": {},
   "source": [
    "# Stochastic Modelling in fmdtools\n",
    "\n",
    "This notebook covers the basics of stochastic modelling in fmdtools. Stochastic models are models which run *non-determinsitically*, meaning that simulating the model at the same inputs results in different outputs because of randomness or uncertainty in the model behavior. Thus, to determine the *distribution of outcomes* which may result from a simulation, a stochastic model must be run a number of times. This notebook will cover:\n",
    "- How to construct a stochastic model by adding *stochastic states* to function blocks and incorporating them in function behavior\n",
    "- How to simulate single scenarios and distributions of scenarios in `propagate` methods\n",
    "- How to visualize and analyze the results of stochastic model simulations\n",
    "\n",
    "```\n",
    "Copyright © 2024, United States Government, as represented by the Administrator of the National Aeronautics and Space Administration. All rights reserved.\n",
    "\n",
    "The “\"Fault Model Design tools - fmdtools version 2\"” software is licensed under the Apache License, Version 2.0 (the \"License\"); you may not use this file except in compliance with the License. You may obtain a copy of the License at http://www.apache.org/licenses/LICENSE-2.0. \n",
    "\n",
    "Unless required by applicable law or agreed to in writing, software distributed under the License is distributed on an \"AS IS\" BASIS, WITHOUT WARRANTIES OR CONDITIONS OF ANY KIND, either express or implied. See the License for the specific language governing permissions and limitations under the License.\n",
    "```"
   ]
  },
  {
   "cell_type": "code",
   "execution_count": 1,
   "id": "c0140fd1",
   "metadata": {
    "execution": {
     "iopub.execute_input": "2024-10-21T23:54:41.967301Z",
     "iopub.status.busy": "2024-10-21T23:54:41.967301Z",
     "iopub.status.idle": "2024-10-21T23:54:45.698509Z",
     "shell.execute_reply": "2024-10-21T23:54:45.697520Z"
    }
   },
   "outputs": [
    {
     "ename": "ImportError",
     "evalue": "DLL load failed while importing _path: The specified module could not be found.",
     "output_type": "error",
     "traceback": [
      "\u001b[1;31m---------------------------------------------------------------------------\u001b[0m",
      "\u001b[1;31mImportError\u001b[0m                               Traceback (most recent call last)",
      "Cell \u001b[1;32mIn[1], line 1\u001b[0m\n\u001b[1;32m----> 1\u001b[0m \u001b[38;5;28;01mfrom\u001b[39;00m \u001b[38;5;21;01mfmdtools\u001b[39;00m\u001b[38;5;21;01m.\u001b[39;00m\u001b[38;5;21;01msim\u001b[39;00m\u001b[38;5;21;01m.\u001b[39;00m\u001b[38;5;21;01msample\u001b[39;00m \u001b[38;5;28;01mimport\u001b[39;00m ParameterSample, ParameterDomain\n\u001b[0;32m      2\u001b[0m \u001b[38;5;28;01mimport\u001b[39;00m \u001b[38;5;21;01mfmdtools\u001b[39;00m\u001b[38;5;21;01m.\u001b[39;00m\u001b[38;5;21;01msim\u001b[39;00m\u001b[38;5;21;01m.\u001b[39;00m\u001b[38;5;21;01mpropagate\u001b[39;00m \u001b[38;5;28;01mas\u001b[39;00m \u001b[38;5;21;01mpropagate\u001b[39;00m\n\u001b[0;32m      4\u001b[0m \u001b[38;5;28;01mimport\u001b[39;00m \u001b[38;5;21;01minspect\u001b[39;00m\n",
      "File \u001b[1;32mc:\\users\\dhulse\\documents\\github\\fmdtools\\fmdtools\\__init__.py:20\u001b[0m\n\u001b[0;32m      1\u001b[0m \u001b[38;5;66;03m#!/usr/bin/env python\u001b[39;00m\n\u001b[0;32m      2\u001b[0m \u001b[38;5;66;03m# -*- coding: utf-8 -*-\u001b[39;00m\n\u001b[0;32m      3\u001b[0m \u001b[38;5;124;03m\"\"\"\u001b[39;00m\n\u001b[0;32m      4\u001b[0m \u001b[38;5;124;03mResilience Modelling, Simulation, and Analysis in Python.\u001b[39;00m\n\u001b[0;32m      5\u001b[0m \n\u001b[1;32m   (...)\u001b[0m\n\u001b[0;32m     17\u001b[0m \u001b[38;5;124;03mspecific language governing permissions and limitations under the License.\u001b[39;00m\n\u001b[0;32m     18\u001b[0m \u001b[38;5;124;03m\"\"\"\u001b[39;00m\n\u001b[1;32m---> 20\u001b[0m \u001b[38;5;28;01mimport\u001b[39;00m \u001b[38;5;21;01mfmdtools\u001b[39;00m\u001b[38;5;21;01m.\u001b[39;00m\u001b[38;5;21;01mdefine\u001b[39;00m \u001b[38;5;28;01mas\u001b[39;00m \u001b[38;5;21;01mdefine\u001b[39;00m\n\u001b[0;32m     21\u001b[0m \u001b[38;5;28;01mimport\u001b[39;00m \u001b[38;5;21;01mfmdtools\u001b[39;00m\u001b[38;5;21;01m.\u001b[39;00m\u001b[38;5;21;01msim\u001b[39;00m \u001b[38;5;28;01mas\u001b[39;00m \u001b[38;5;21;01msim\u001b[39;00m\n\u001b[0;32m     22\u001b[0m \u001b[38;5;28;01mimport\u001b[39;00m \u001b[38;5;21;01mfmdtools\u001b[39;00m\u001b[38;5;21;01m.\u001b[39;00m\u001b[38;5;21;01manalyze\u001b[39;00m \u001b[38;5;28;01mas\u001b[39;00m \u001b[38;5;21;01manalyze\u001b[39;00m\n",
      "File \u001b[1;32mc:\\users\\dhulse\\documents\\github\\fmdtools\\fmdtools\\define\\__init__.py:21\u001b[0m\n\u001b[0;32m      3\u001b[0m \u001b[38;5;124;03m\"\"\"\u001b[39;00m\n\u001b[0;32m      4\u001b[0m \u001b[38;5;124;03mPackage for modelling system structure and behavior.\u001b[39;00m\n\u001b[0;32m      5\u001b[0m \n\u001b[1;32m   (...)\u001b[0m\n\u001b[0;32m     17\u001b[0m \u001b[38;5;124;03mspecific language governing permissions and limitations under the License.\u001b[39;00m\n\u001b[0;32m     18\u001b[0m \u001b[38;5;124;03m\"\"\"\u001b[39;00m\n\u001b[0;32m     20\u001b[0m \u001b[38;5;28;01mfrom\u001b[39;00m \u001b[38;5;21;01mfmdtools\u001b[39;00m\u001b[38;5;21;01m.\u001b[39;00m\u001b[38;5;21;01mdefine\u001b[39;00m \u001b[38;5;28;01mimport\u001b[39;00m base\n\u001b[1;32m---> 21\u001b[0m \u001b[38;5;28;01mimport\u001b[39;00m \u001b[38;5;21;01mfmdtools\u001b[39;00m\u001b[38;5;21;01m.\u001b[39;00m\u001b[38;5;21;01mdefine\u001b[39;00m\u001b[38;5;21;01m.\u001b[39;00m\u001b[38;5;21;01mobject\u001b[39;00m \u001b[38;5;28;01mas\u001b[39;00m \u001b[38;5;21;01mobject\u001b[39;00m\n\u001b[0;32m     22\u001b[0m \u001b[38;5;28;01mimport\u001b[39;00m \u001b[38;5;21;01mfmdtools\u001b[39;00m\u001b[38;5;21;01m.\u001b[39;00m\u001b[38;5;21;01mdefine\u001b[39;00m\u001b[38;5;21;01m.\u001b[39;00m\u001b[38;5;21;01mcontainer\u001b[39;00m \u001b[38;5;28;01mas\u001b[39;00m \u001b[38;5;21;01mcontainer\u001b[39;00m\n\u001b[0;32m     23\u001b[0m \u001b[38;5;28;01mimport\u001b[39;00m \u001b[38;5;21;01mfmdtools\u001b[39;00m\u001b[38;5;21;01m.\u001b[39;00m\u001b[38;5;21;01mdefine\u001b[39;00m\u001b[38;5;21;01m.\u001b[39;00m\u001b[38;5;21;01mflow\u001b[39;00m \u001b[38;5;28;01mas\u001b[39;00m \u001b[38;5;21;01mflow\u001b[39;00m\n",
      "File \u001b[1;32mc:\\users\\dhulse\\documents\\github\\fmdtools\\fmdtools\\define\\object\\__init__.py:20\u001b[0m\n\u001b[0;32m      1\u001b[0m \u001b[38;5;66;03m#!/usr/bin/env python\u001b[39;00m\n\u001b[0;32m      2\u001b[0m \u001b[38;5;66;03m# -*- coding: utf-8 -*-\u001b[39;00m\n\u001b[0;32m      3\u001b[0m \u001b[38;5;124;03m\"\"\"\u001b[39;00m\n\u001b[0;32m      4\u001b[0m \u001b[38;5;124;03mPackage defining various model building blocks.\u001b[39;00m\n\u001b[0;32m      5\u001b[0m \n\u001b[1;32m   (...)\u001b[0m\n\u001b[0;32m     17\u001b[0m \u001b[38;5;124;03mspecific language governing permissions and limitations under the License.\u001b[39;00m\n\u001b[0;32m     18\u001b[0m \u001b[38;5;124;03m\"\"\"\u001b[39;00m\n\u001b[1;32m---> 20\u001b[0m \u001b[38;5;28;01mimport\u001b[39;00m \u001b[38;5;21;01mfmdtools\u001b[39;00m\u001b[38;5;21;01m.\u001b[39;00m\u001b[38;5;21;01mdefine\u001b[39;00m\u001b[38;5;21;01m.\u001b[39;00m\u001b[38;5;21;01mobject\u001b[39;00m\u001b[38;5;21;01m.\u001b[39;00m\u001b[38;5;21;01mbase\u001b[39;00m \u001b[38;5;28;01mas\u001b[39;00m \u001b[38;5;21;01mbase\u001b[39;00m\n\u001b[0;32m     21\u001b[0m \u001b[38;5;28;01mimport\u001b[39;00m \u001b[38;5;21;01mfmdtools\u001b[39;00m\u001b[38;5;21;01m.\u001b[39;00m\u001b[38;5;21;01mdefine\u001b[39;00m\u001b[38;5;21;01m.\u001b[39;00m\u001b[38;5;21;01mobject\u001b[39;00m\u001b[38;5;21;01m.\u001b[39;00m\u001b[38;5;21;01mcoords\u001b[39;00m \u001b[38;5;28;01mas\u001b[39;00m \u001b[38;5;21;01mcoords\u001b[39;00m\n\u001b[0;32m     22\u001b[0m \u001b[38;5;28;01mimport\u001b[39;00m \u001b[38;5;21;01mfmdtools\u001b[39;00m\u001b[38;5;21;01m.\u001b[39;00m\u001b[38;5;21;01mdefine\u001b[39;00m\u001b[38;5;21;01m.\u001b[39;00m\u001b[38;5;21;01mobject\u001b[39;00m\u001b[38;5;21;01m.\u001b[39;00m\u001b[38;5;21;01mgeom\u001b[39;00m \u001b[38;5;28;01mas\u001b[39;00m \u001b[38;5;21;01mgeom\u001b[39;00m\n",
      "File \u001b[1;32mc:\\users\\dhulse\\documents\\github\\fmdtools\\fmdtools\\define\\object\\base.py:31\u001b[0m\n\u001b[0;32m      3\u001b[0m \u001b[38;5;124;03m\"\"\"\u001b[39;00m\n\u001b[0;32m      4\u001b[0m \u001b[38;5;124;03mDefines :class:`BaseObject` class used to define objects.\u001b[39;00m\n\u001b[0;32m      5\u001b[0m \n\u001b[1;32m   (...)\u001b[0m\n\u001b[0;32m     27\u001b[0m \u001b[38;5;124;03mspecific language governing permissions and limitations under the License.\u001b[39;00m\n\u001b[0;32m     28\u001b[0m \u001b[38;5;124;03m\"\"\"\u001b[39;00m\n\u001b[0;32m     30\u001b[0m \u001b[38;5;28;01mfrom\u001b[39;00m \u001b[38;5;21;01mfmdtools\u001b[39;00m\u001b[38;5;21;01m.\u001b[39;00m\u001b[38;5;21;01mdefine\u001b[39;00m\u001b[38;5;21;01m.\u001b[39;00m\u001b[38;5;21;01mbase\u001b[39;00m \u001b[38;5;28;01mimport\u001b[39;00m get_var, get_methods, get_obj_name, get_memory\n\u001b[1;32m---> 31\u001b[0m \u001b[38;5;28;01mfrom\u001b[39;00m \u001b[38;5;21;01mfmdtools\u001b[39;00m\u001b[38;5;21;01m.\u001b[39;00m\u001b[38;5;21;01manalyze\u001b[39;00m\u001b[38;5;21;01m.\u001b[39;00m\u001b[38;5;21;01mcommon\u001b[39;00m \u001b[38;5;28;01mimport\u001b[39;00m get_sub_include\n\u001b[0;32m     32\u001b[0m \u001b[38;5;28;01mfrom\u001b[39;00m \u001b[38;5;21;01mfmdtools\u001b[39;00m\u001b[38;5;21;01m.\u001b[39;00m\u001b[38;5;21;01manalyze\u001b[39;00m\u001b[38;5;21;01m.\u001b[39;00m\u001b[38;5;21;01mhistory\u001b[39;00m \u001b[38;5;28;01mimport\u001b[39;00m History\n\u001b[0;32m     33\u001b[0m \u001b[38;5;28;01mfrom\u001b[39;00m \u001b[38;5;21;01mfmdtools\u001b[39;00m\u001b[38;5;21;01m.\u001b[39;00m\u001b[38;5;21;01manalyze\u001b[39;00m\u001b[38;5;21;01m.\u001b[39;00m\u001b[38;5;21;01mgraph\u001b[39;00m\u001b[38;5;21;01m.\u001b[39;00m\u001b[38;5;21;01mmodel\u001b[39;00m \u001b[38;5;28;01mimport\u001b[39;00m add_node, add_edge, remove_base, ModelGraph\n",
      "File \u001b[1;32mc:\\users\\dhulse\\documents\\github\\fmdtools\\fmdtools\\analyze\\__init__.py:20\u001b[0m\n\u001b[0;32m      1\u001b[0m \u001b[38;5;66;03m#!/usr/bin/env python\u001b[39;00m\n\u001b[0;32m      2\u001b[0m \u001b[38;5;66;03m# -*- coding: utf-8 -*-\u001b[39;00m\n\u001b[0;32m      3\u001b[0m \u001b[38;5;124;03m\"\"\"\u001b[39;00m\n\u001b[0;32m      4\u001b[0m \u001b[38;5;124;03mPackage for analyzing simulation results.\u001b[39;00m\n\u001b[0;32m      5\u001b[0m \n\u001b[1;32m   (...)\u001b[0m\n\u001b[0;32m     17\u001b[0m \u001b[38;5;124;03mspecific language governing permissions and limitations under the License.\u001b[39;00m\n\u001b[0;32m     18\u001b[0m \u001b[38;5;124;03m\"\"\"\u001b[39;00m\n\u001b[1;32m---> 20\u001b[0m \u001b[38;5;28;01mfrom\u001b[39;00m \u001b[38;5;21;01mfmdtools\u001b[39;00m\u001b[38;5;21;01m.\u001b[39;00m\u001b[38;5;21;01manalyze\u001b[39;00m \u001b[38;5;28;01mimport\u001b[39;00m common\n\u001b[0;32m     21\u001b[0m \u001b[38;5;28;01mfrom\u001b[39;00m \u001b[38;5;21;01mfmdtools\u001b[39;00m\u001b[38;5;21;01m.\u001b[39;00m\u001b[38;5;21;01manalyze\u001b[39;00m \u001b[38;5;28;01mimport\u001b[39;00m result\n\u001b[0;32m     22\u001b[0m \u001b[38;5;28;01mfrom\u001b[39;00m \u001b[38;5;21;01mfmdtools\u001b[39;00m\u001b[38;5;21;01m.\u001b[39;00m\u001b[38;5;21;01manalyze\u001b[39;00m \u001b[38;5;28;01mimport\u001b[39;00m history\n",
      "File \u001b[1;32mc:\\users\\dhulse\\documents\\github\\fmdtools\\fmdtools\\analyze\\common.py:35\u001b[0m\n\u001b[0;32m      3\u001b[0m \u001b[38;5;124;03m\"\"\"\u001b[39;00m\n\u001b[0;32m      4\u001b[0m \u001b[38;5;124;03mSome common methods for analysis used by other modules.\u001b[39;00m\n\u001b[0;32m      5\u001b[0m \n\u001b[1;32m   (...)\u001b[0m\n\u001b[0;32m     32\u001b[0m \u001b[38;5;124;03mspecific language governing permissions and limitations under the License.\u001b[39;00m\n\u001b[0;32m     33\u001b[0m \u001b[38;5;124;03m\"\"\"\u001b[39;00m\n\u001b[0;32m     34\u001b[0m \u001b[38;5;28;01mimport\u001b[39;00m \u001b[38;5;21;01mnumpy\u001b[39;00m \u001b[38;5;28;01mas\u001b[39;00m \u001b[38;5;21;01mnp\u001b[39;00m\n\u001b[1;32m---> 35\u001b[0m \u001b[38;5;28;01mimport\u001b[39;00m \u001b[38;5;21;01mmatplotlib\u001b[39;00m\u001b[38;5;21;01m.\u001b[39;00m\u001b[38;5;21;01mpyplot\u001b[39;00m \u001b[38;5;28;01mas\u001b[39;00m \u001b[38;5;21;01mplt\u001b[39;00m\n\u001b[0;32m     38\u001b[0m plt\u001b[38;5;241m.\u001b[39mrcParams[\u001b[38;5;124m'\u001b[39m\u001b[38;5;124mpdf.fonttype\u001b[39m\u001b[38;5;124m'\u001b[39m] \u001b[38;5;241m=\u001b[39m \u001b[38;5;241m42\u001b[39m\n\u001b[0;32m     41\u001b[0m \u001b[38;5;28;01mdef\u001b[39;00m \u001b[38;5;21mget_sub_include\u001b[39m(att, to_include):\n",
      "File \u001b[1;32m~\\AppData\\Roaming\\Python\\Python310\\site-packages\\matplotlib\\__init__.py:144\u001b[0m\n\u001b[0;32m    140\u001b[0m \u001b[38;5;28;01mfrom\u001b[39;00m \u001b[38;5;21;01mpackaging\u001b[39;00m\u001b[38;5;21;01m.\u001b[39;00m\u001b[38;5;21;01mversion\u001b[39;00m \u001b[38;5;28;01mimport\u001b[39;00m parse \u001b[38;5;28;01mas\u001b[39;00m parse_version\n\u001b[0;32m    142\u001b[0m \u001b[38;5;66;03m# cbook must import matplotlib only within function\u001b[39;00m\n\u001b[0;32m    143\u001b[0m \u001b[38;5;66;03m# definitions, so it is safe to import from it here.\u001b[39;00m\n\u001b[1;32m--> 144\u001b[0m \u001b[38;5;28;01mfrom\u001b[39;00m \u001b[38;5;21;01m.\u001b[39;00m \u001b[38;5;28;01mimport\u001b[39;00m _api, _version, cbook, _docstring, rcsetup\n\u001b[0;32m    145\u001b[0m \u001b[38;5;28;01mfrom\u001b[39;00m \u001b[38;5;21;01mmatplotlib\u001b[39;00m\u001b[38;5;21;01m.\u001b[39;00m\u001b[38;5;21;01mcbook\u001b[39;00m \u001b[38;5;28;01mimport\u001b[39;00m sanitize_sequence\n\u001b[0;32m    146\u001b[0m \u001b[38;5;28;01mfrom\u001b[39;00m \u001b[38;5;21;01mmatplotlib\u001b[39;00m\u001b[38;5;21;01m.\u001b[39;00m\u001b[38;5;21;01m_api\u001b[39;00m \u001b[38;5;28;01mimport\u001b[39;00m MatplotlibDeprecationWarning\n",
      "File \u001b[1;32m~\\AppData\\Roaming\\Python\\Python310\\site-packages\\matplotlib\\rcsetup.py:27\u001b[0m\n\u001b[0;32m     25\u001b[0m \u001b[38;5;28;01mfrom\u001b[39;00m \u001b[38;5;21;01mmatplotlib\u001b[39;00m \u001b[38;5;28;01mimport\u001b[39;00m _api, cbook\n\u001b[0;32m     26\u001b[0m \u001b[38;5;28;01mfrom\u001b[39;00m \u001b[38;5;21;01mmatplotlib\u001b[39;00m\u001b[38;5;21;01m.\u001b[39;00m\u001b[38;5;21;01mcbook\u001b[39;00m \u001b[38;5;28;01mimport\u001b[39;00m ls_mapper\n\u001b[1;32m---> 27\u001b[0m \u001b[38;5;28;01mfrom\u001b[39;00m \u001b[38;5;21;01mmatplotlib\u001b[39;00m\u001b[38;5;21;01m.\u001b[39;00m\u001b[38;5;21;01mcolors\u001b[39;00m \u001b[38;5;28;01mimport\u001b[39;00m Colormap, is_color_like\n\u001b[0;32m     28\u001b[0m \u001b[38;5;28;01mfrom\u001b[39;00m \u001b[38;5;21;01mmatplotlib\u001b[39;00m\u001b[38;5;21;01m.\u001b[39;00m\u001b[38;5;21;01m_fontconfig_pattern\u001b[39;00m \u001b[38;5;28;01mimport\u001b[39;00m parse_fontconfig_pattern\n\u001b[0;32m     29\u001b[0m \u001b[38;5;28;01mfrom\u001b[39;00m \u001b[38;5;21;01mmatplotlib\u001b[39;00m\u001b[38;5;21;01m.\u001b[39;00m\u001b[38;5;21;01m_enums\u001b[39;00m \u001b[38;5;28;01mimport\u001b[39;00m JoinStyle, CapStyle\n",
      "File \u001b[1;32m~\\AppData\\Roaming\\Python\\Python310\\site-packages\\matplotlib\\colors.py:57\u001b[0m\n\u001b[0;32m     55\u001b[0m \u001b[38;5;28;01mimport\u001b[39;00m \u001b[38;5;21;01mmatplotlib\u001b[39;00m \u001b[38;5;28;01mas\u001b[39;00m \u001b[38;5;21;01mmpl\u001b[39;00m\n\u001b[0;32m     56\u001b[0m \u001b[38;5;28;01mimport\u001b[39;00m \u001b[38;5;21;01mnumpy\u001b[39;00m \u001b[38;5;28;01mas\u001b[39;00m \u001b[38;5;21;01mnp\u001b[39;00m\n\u001b[1;32m---> 57\u001b[0m \u001b[38;5;28;01mfrom\u001b[39;00m \u001b[38;5;21;01mmatplotlib\u001b[39;00m \u001b[38;5;28;01mimport\u001b[39;00m _api, _cm, cbook, scale\n\u001b[0;32m     58\u001b[0m \u001b[38;5;28;01mfrom\u001b[39;00m \u001b[38;5;21;01m.\u001b[39;00m\u001b[38;5;21;01m_color_data\u001b[39;00m \u001b[38;5;28;01mimport\u001b[39;00m BASE_COLORS, TABLEAU_COLORS, CSS4_COLORS, XKCD_COLORS\n\u001b[0;32m     61\u001b[0m \u001b[38;5;28;01mclass\u001b[39;00m \u001b[38;5;21;01m_ColorMapping\u001b[39;00m(\u001b[38;5;28mdict\u001b[39m):\n",
      "File \u001b[1;32m~\\AppData\\Roaming\\Python\\Python310\\site-packages\\matplotlib\\scale.py:22\u001b[0m\n\u001b[0;32m     20\u001b[0m \u001b[38;5;28;01mimport\u001b[39;00m \u001b[38;5;21;01mmatplotlib\u001b[39;00m \u001b[38;5;28;01mas\u001b[39;00m \u001b[38;5;21;01mmpl\u001b[39;00m\n\u001b[0;32m     21\u001b[0m \u001b[38;5;28;01mfrom\u001b[39;00m \u001b[38;5;21;01mmatplotlib\u001b[39;00m \u001b[38;5;28;01mimport\u001b[39;00m _api, _docstring\n\u001b[1;32m---> 22\u001b[0m \u001b[38;5;28;01mfrom\u001b[39;00m \u001b[38;5;21;01mmatplotlib\u001b[39;00m\u001b[38;5;21;01m.\u001b[39;00m\u001b[38;5;21;01mticker\u001b[39;00m \u001b[38;5;28;01mimport\u001b[39;00m (\n\u001b[0;32m     23\u001b[0m     NullFormatter, ScalarFormatter, LogFormatterSciNotation, LogitFormatter,\n\u001b[0;32m     24\u001b[0m     NullLocator, LogLocator, AutoLocator, AutoMinorLocator,\n\u001b[0;32m     25\u001b[0m     SymmetricalLogLocator, AsinhLocator, LogitLocator)\n\u001b[0;32m     26\u001b[0m \u001b[38;5;28;01mfrom\u001b[39;00m \u001b[38;5;21;01mmatplotlib\u001b[39;00m\u001b[38;5;21;01m.\u001b[39;00m\u001b[38;5;21;01mtransforms\u001b[39;00m \u001b[38;5;28;01mimport\u001b[39;00m Transform, IdentityTransform\n\u001b[0;32m     29\u001b[0m \u001b[38;5;28;01mclass\u001b[39;00m \u001b[38;5;21;01mScaleBase\u001b[39;00m:\n",
      "File \u001b[1;32m~\\AppData\\Roaming\\Python\\Python310\\site-packages\\matplotlib\\ticker.py:138\u001b[0m\n\u001b[0;32m    136\u001b[0m \u001b[38;5;28;01mimport\u001b[39;00m \u001b[38;5;21;01mmatplotlib\u001b[39;00m \u001b[38;5;28;01mas\u001b[39;00m \u001b[38;5;21;01mmpl\u001b[39;00m\n\u001b[0;32m    137\u001b[0m \u001b[38;5;28;01mfrom\u001b[39;00m \u001b[38;5;21;01mmatplotlib\u001b[39;00m \u001b[38;5;28;01mimport\u001b[39;00m _api, cbook\n\u001b[1;32m--> 138\u001b[0m \u001b[38;5;28;01mfrom\u001b[39;00m \u001b[38;5;21;01mmatplotlib\u001b[39;00m \u001b[38;5;28;01mimport\u001b[39;00m transforms \u001b[38;5;28;01mas\u001b[39;00m mtransforms\n\u001b[0;32m    140\u001b[0m _log \u001b[38;5;241m=\u001b[39m logging\u001b[38;5;241m.\u001b[39mgetLogger(\u001b[38;5;18m__name__\u001b[39m)\n\u001b[0;32m    142\u001b[0m __all__ \u001b[38;5;241m=\u001b[39m (\u001b[38;5;124m'\u001b[39m\u001b[38;5;124mTickHelper\u001b[39m\u001b[38;5;124m'\u001b[39m, \u001b[38;5;124m'\u001b[39m\u001b[38;5;124mFormatter\u001b[39m\u001b[38;5;124m'\u001b[39m, \u001b[38;5;124m'\u001b[39m\u001b[38;5;124mFixedFormatter\u001b[39m\u001b[38;5;124m'\u001b[39m,\n\u001b[0;32m    143\u001b[0m            \u001b[38;5;124m'\u001b[39m\u001b[38;5;124mNullFormatter\u001b[39m\u001b[38;5;124m'\u001b[39m, \u001b[38;5;124m'\u001b[39m\u001b[38;5;124mFuncFormatter\u001b[39m\u001b[38;5;124m'\u001b[39m, \u001b[38;5;124m'\u001b[39m\u001b[38;5;124mFormatStrFormatter\u001b[39m\u001b[38;5;124m'\u001b[39m,\n\u001b[0;32m    144\u001b[0m            \u001b[38;5;124m'\u001b[39m\u001b[38;5;124mStrMethodFormatter\u001b[39m\u001b[38;5;124m'\u001b[39m, \u001b[38;5;124m'\u001b[39m\u001b[38;5;124mScalarFormatter\u001b[39m\u001b[38;5;124m'\u001b[39m, \u001b[38;5;124m'\u001b[39m\u001b[38;5;124mLogFormatter\u001b[39m\u001b[38;5;124m'\u001b[39m,\n\u001b[1;32m   (...)\u001b[0m\n\u001b[0;32m    150\u001b[0m            \u001b[38;5;124m'\u001b[39m\u001b[38;5;124mMultipleLocator\u001b[39m\u001b[38;5;124m'\u001b[39m, \u001b[38;5;124m'\u001b[39m\u001b[38;5;124mMaxNLocator\u001b[39m\u001b[38;5;124m'\u001b[39m, \u001b[38;5;124m'\u001b[39m\u001b[38;5;124mAutoMinorLocator\u001b[39m\u001b[38;5;124m'\u001b[39m,\n\u001b[0;32m    151\u001b[0m            \u001b[38;5;124m'\u001b[39m\u001b[38;5;124mSymmetricalLogLocator\u001b[39m\u001b[38;5;124m'\u001b[39m, \u001b[38;5;124m'\u001b[39m\u001b[38;5;124mAsinhLocator\u001b[39m\u001b[38;5;124m'\u001b[39m, \u001b[38;5;124m'\u001b[39m\u001b[38;5;124mLogitLocator\u001b[39m\u001b[38;5;124m'\u001b[39m)\n",
      "File \u001b[1;32m~\\AppData\\Roaming\\Python\\Python310\\site-packages\\matplotlib\\transforms.py:49\u001b[0m\n\u001b[0;32m     46\u001b[0m \u001b[38;5;28;01mfrom\u001b[39;00m \u001b[38;5;21;01mnumpy\u001b[39;00m\u001b[38;5;21;01m.\u001b[39;00m\u001b[38;5;21;01mlinalg\u001b[39;00m \u001b[38;5;28;01mimport\u001b[39;00m inv\n\u001b[0;32m     48\u001b[0m \u001b[38;5;28;01mfrom\u001b[39;00m \u001b[38;5;21;01mmatplotlib\u001b[39;00m \u001b[38;5;28;01mimport\u001b[39;00m _api\n\u001b[1;32m---> 49\u001b[0m \u001b[38;5;28;01mfrom\u001b[39;00m \u001b[38;5;21;01mmatplotlib\u001b[39;00m\u001b[38;5;21;01m.\u001b[39;00m\u001b[38;5;21;01m_path\u001b[39;00m \u001b[38;5;28;01mimport\u001b[39;00m (\n\u001b[0;32m     50\u001b[0m     affine_transform, count_bboxes_overlapping_bbox, update_path_extents)\n\u001b[0;32m     51\u001b[0m \u001b[38;5;28;01mfrom\u001b[39;00m \u001b[38;5;21;01m.\u001b[39;00m\u001b[38;5;21;01mpath\u001b[39;00m \u001b[38;5;28;01mimport\u001b[39;00m Path\n\u001b[0;32m     53\u001b[0m DEBUG \u001b[38;5;241m=\u001b[39m \u001b[38;5;28;01mFalse\u001b[39;00m\n",
      "\u001b[1;31mImportError\u001b[0m: DLL load failed while importing _path: The specified module could not be found."
     ]
    }
   ],
   "source": [
    "from fmdtools.sim.sample import ParameterSample, ParameterDomain\n",
    "import fmdtools.sim.propagate as propagate\n",
    "\n",
    "import inspect # we will be using inspect to look at "
   ]
  },
  {
   "cell_type": "markdown",
   "id": "14306a7a",
   "metadata": {},
   "source": [
    "This notebook uses Pump model in `pump_stochastic.py`, which is an adaptation of the original `ex_pump.py` model with stochastic states added. "
   ]
  },
  {
   "cell_type": "code",
   "execution_count": 2,
   "id": "c5b01080",
   "metadata": {
    "execution": {
     "iopub.execute_input": "2024-10-21T23:31:25.852513Z",
     "iopub.status.busy": "2024-10-21T23:31:25.852513Z",
     "iopub.status.idle": "2024-10-21T23:31:26.674815Z",
     "shell.execute_reply": "2024-10-21T23:31:26.673808Z"
    }
   },
   "outputs": [],
   "source": [
    "from pump_stochastic import Pump"
   ]
  },
  {
   "cell_type": "markdown",
   "id": "e493217e",
   "metadata": {},
   "source": [
    "Below is the structure, with the same functions/flows as before."
   ]
  },
  {
   "cell_type": "code",
   "execution_count": 3,
   "id": "95588c8a",
   "metadata": {
    "execution": {
     "iopub.execute_input": "2024-08-22T16:10:04.797317Z",
     "iopub.status.busy": "2024-08-22T16:10:04.797317Z",
     "iopub.status.idle": "2024-08-22T16:10:05.028692Z",
     "shell.execute_reply": "2024-08-22T16:10:05.028692Z"
    }
   },
   "outputs": [],
   "source": [
    "mg = Pump().as_modelgraph()\n",
    "fig, ax = mg.draw()"
   ]
  },
  {
   "cell_type": "markdown",
   "id": "f9b4a33d",
   "metadata": {},
   "source": [
    "## Model Setup"
   ]
  },
  {
   "cell_type": "markdown",
   "id": "db3e4c35",
   "metadata": {},
   "source": [
    "This model has been augmented stochastic states and behaviors to enable stochastic simulation using the `Rand` class. \n",
    "\n",
    "- See rand documentation: https://nasa.github.io/fmdtools/docs-source/fmdtools.define.html#fmdtools.define.container.rand.Rand\n",
    "\n",
    "This is what a Rand object looks like:"
   ]
  },
  {
   "cell_type": "code",
   "execution_count": 4,
   "id": "93a4fd46",
   "metadata": {
    "execution": {
     "iopub.execute_input": "2024-08-22T16:10:05.028692Z",
     "iopub.status.busy": "2024-08-22T16:10:05.028692Z",
     "iopub.status.idle": "2024-08-22T16:10:05.037313Z",
     "shell.execute_reply": "2024-08-22T16:10:05.037313Z"
    }
   },
   "outputs": [],
   "source": [
    "from fmdtools.define.container.rand import Rand\n",
    "r = Rand()\n",
    "r"
   ]
  },
  {
   "cell_type": "markdown",
   "id": "60fb9703",
   "metadata": {},
   "source": [
    "Below, `ImportEERand` container is used in the ImportEE function to add two random states (via `ImportEERandState`):\n",
    "- `effstate`, the quality of the input voltage (i.e. large fluctuations from a step change in power)\n",
    "- `grid_noise`, which is meant to be fluctuations in voltage from the power source (i.e., more ordinary noise)"
   ]
  },
  {
   "cell_type": "markdown",
   "id": "fe1d47d9",
   "metadata": {},
   "source": [
    "This is then reflected in the behavior, which is defined in the `Rand.set_rand_state` method. "
   ]
  },
  {
   "cell_type": "code",
   "execution_count": 5,
   "id": "e757aff2",
   "metadata": {
    "execution": {
     "iopub.execute_input": "2024-08-22T16:10:05.039817Z",
     "iopub.status.busy": "2024-08-22T16:10:05.039817Z",
     "iopub.status.idle": "2024-08-22T16:10:05.044472Z",
     "shell.execute_reply": "2024-08-22T16:10:05.044472Z"
    }
   },
   "outputs": [],
   "source": [
    "help(Rand.set_rand_state)"
   ]
  },
  {
   "cell_type": "markdown",
   "id": "56013aee",
   "metadata": {},
   "source": [
    "In this method, \n",
    "\n",
    "- `statename` is the name of the random state, while \n",
    "- `methodname` corresponds to the name of a random distribution to update the state from. These distributions are pulled from a numpy random number generator (see [numpy documentation](https://numpy.org/doc/stable/reference/random/generator.html#distributions)) and include most one might need including normal, beta, uniform, etc. \n",
    "\n",
    "- `*args` refers to the corresponding arguments to call the given method with, which should be pulled from the corresponding documentation. Below, we have points where this is called.\n",
    "\n",
    "Belo we show how this is used in the model:"
   ]
  },
  {
   "cell_type": "code",
   "execution_count": 6,
   "id": "1aedb865",
   "metadata": {
    "execution": {
     "iopub.execute_input": "2024-08-22T16:10:05.044472Z",
     "iopub.status.busy": "2024-08-22T16:10:05.044472Z",
     "iopub.status.idle": "2024-08-22T16:10:05.049982Z",
     "shell.execute_reply": "2024-08-22T16:10:05.049982Z"
    }
   },
   "outputs": [],
   "source": [
    "from pump_stochastic import ImportEERand, ImportEERandState, ImportEE"
   ]
  },
  {
   "cell_type": "code",
   "execution_count": 7,
   "id": "a9ae4df6",
   "metadata": {
    "execution": {
     "iopub.execute_input": "2024-08-22T16:10:05.049982Z",
     "iopub.status.busy": "2024-08-22T16:10:05.049982Z",
     "iopub.status.idle": "2024-08-22T16:10:05.058849Z",
     "shell.execute_reply": "2024-08-22T16:10:05.058849Z"
    }
   },
   "outputs": [],
   "source": [
    "print(inspect.getsource(ImportEERand))\n",
    "print(inspect.getsource(ImportEERandState))"
   ]
  },
  {
   "cell_type": "markdown",
   "id": "d7698671",
   "metadata": {},
   "source": [
    "In this setup, the `effstate` and `grid_noise` states are to be set by the rng in `ImportEERand`. Below shows how this is embodied in behavior:"
   ]
  },
  {
   "cell_type": "code",
   "execution_count": 8,
   "id": "84152728",
   "metadata": {
    "execution": {
     "iopub.execute_input": "2024-08-22T16:10:05.058849Z",
     "iopub.status.busy": "2024-08-22T16:10:05.058849Z",
     "iopub.status.idle": "2024-08-22T16:10:05.065295Z",
     "shell.execute_reply": "2024-08-22T16:10:05.065295Z"
    }
   },
   "outputs": [],
   "source": [
    "print(inspect.getsource(ImportEE.static_behavior))"
   ]
  },
  {
   "cell_type": "markdown",
   "id": "8a7d0547",
   "metadata": {},
   "source": [
    "As shown, `set_rand_state` is used:\n",
    "\n",
    "- First, to pull `effstate` from a triangular distribution with minimum 0.9, mode 1.0, and max 1.1\n",
    " - Parameters are provided here: https://numpy.org/doc/stable/reference/random/generated/numpy.random.Generator.triangular.html#numpy.random.Generator.triangular\n",
    "- Second, to pull `grid_noise` from a normal distribution centered on 1 with a standard deviation that varies over time according to a sine wave.\n",
    " - Parameters are provided here: https://numpy.org/doc/stable/reference/random/generated/numpy.random.Generator.normal.html#numpy.random.Generator.normal"
   ]
  },
  {
   "cell_type": "markdown",
   "id": "27a5543b",
   "metadata": {},
   "source": [
    "#### Move Water  Example\n",
    "The Move Water function has a similar setup, except the stochasticity is auto-updated at each timestep. This is done by providing an `eff_update` class varaible to the `RandState`."
   ]
  },
  {
   "cell_type": "code",
   "execution_count": 9,
   "id": "12fcf029",
   "metadata": {
    "execution": {
     "iopub.execute_input": "2024-08-22T16:10:05.065295Z",
     "iopub.status.busy": "2024-08-22T16:10:05.065295Z",
     "iopub.status.idle": "2024-08-22T16:10:05.070584Z",
     "shell.execute_reply": "2024-08-22T16:10:05.070584Z"
    }
   },
   "outputs": [],
   "source": [
    "from pump_stochastic import MoveWat, MoveWatRandState, MoveWatRand"
   ]
  },
  {
   "cell_type": "code",
   "execution_count": 10,
   "id": "dca87c25",
   "metadata": {
    "execution": {
     "iopub.execute_input": "2024-08-22T16:10:05.070584Z",
     "iopub.status.busy": "2024-08-22T16:10:05.070584Z",
     "iopub.status.idle": "2024-08-22T16:10:05.078176Z",
     "shell.execute_reply": "2024-08-22T16:10:05.078176Z"
    }
   },
   "outputs": [],
   "source": [
    "print(inspect.getsource(MoveWatRandState))"
   ]
  },
  {
   "cell_type": "markdown",
   "id": "a8d61430",
   "metadata": {},
   "source": [
    "In this case, the normal distribution will be drawn from with mean 1.0 and standard deviation 0.2."
   ]
  },
  {
   "cell_type": "markdown",
   "id": "abf25ece",
   "metadata": {},
   "source": [
    "The advantage of this is that simple stochastic behaviors do not need to be defined in the behavior method, however, it is less flexible than the previous approach, since one is limited to always drawing from the same distribution at each time-step. The corresponding behavior method (below) thus has no `set_rand_state` call, since the state `eff` is automaticall updated outside the behavior definition."
   ]
  },
  {
   "cell_type": "code",
   "execution_count": 11,
   "id": "03c93c98",
   "metadata": {
    "execution": {
     "iopub.execute_input": "2024-08-22T16:10:05.078176Z",
     "iopub.status.busy": "2024-08-22T16:10:05.078176Z",
     "iopub.status.idle": "2024-08-22T16:10:05.084264Z",
     "shell.execute_reply": "2024-08-22T16:10:05.084264Z"
    }
   },
   "outputs": [],
   "source": [
    "print(inspect.getsource(MoveWat.static_behavior))"
   ]
  },
  {
   "cell_type": "markdown",
   "id": "d0e6e170",
   "metadata": {},
   "source": [
    "#### Model Considerations\n",
    "\n",
    "To get a distribution of stochastic behavior, the simulation must be run over a number of different random seeds. This `seed` parameter ensures that each simulation in the same random thread will produce the same results, and that results can be replicated from stochastic simulation by running the model with the same seed.\n",
    "\n",
    "By default, the seed for the `Rand` in each of the functions is set to match the Model `Rand`, meaning that passing a sead at the `Model` level sets it in all the containing functions also. This can be set by passing an `r` parameter to the Model."
   ]
  },
  {
   "cell_type": "code",
   "execution_count": 12,
   "id": "f824a154",
   "metadata": {
    "execution": {
     "iopub.execute_input": "2024-08-22T16:10:05.084264Z",
     "iopub.status.busy": "2024-08-22T16:10:05.084264Z",
     "iopub.status.idle": "2024-08-22T16:10:05.096612Z",
     "shell.execute_reply": "2024-08-22T16:10:05.096612Z"
    }
   },
   "outputs": [],
   "source": [
    "mdl1 = Pump(r={'seed':23})\n",
    "mdl1.fxns['move_water'].r"
   ]
  },
  {
   "cell_type": "code",
   "execution_count": 13,
   "id": "3f2855c4",
   "metadata": {
    "execution": {
     "iopub.execute_input": "2024-08-22T16:10:05.096612Z",
     "iopub.status.busy": "2024-08-22T16:10:05.096612Z",
     "iopub.status.idle": "2024-08-22T16:10:05.108481Z",
     "shell.execute_reply": "2024-08-22T16:10:05.108481Z"
    }
   },
   "outputs": [],
   "source": [
    "mdl2 = Pump(r={'seed':10})\n",
    "mdl2.fxns['move_water'].r"
   ]
  },
  {
   "cell_type": "markdown",
   "id": "1eab17ff",
   "metadata": {},
   "source": [
    "## Simulation and Analysis\n",
    "\n",
    "With this model set up, we can now simulate it using the methods in `propagate`.\n",
    "\n",
    "### Single-Scenario Simulation\n",
    "\n",
    "First, let's simulate it in the nominal scenario:"
   ]
  },
  {
   "cell_type": "code",
   "execution_count": 14,
   "id": "a76053f0",
   "metadata": {
    "execution": {
     "iopub.execute_input": "2024-08-22T16:10:05.108481Z",
     "iopub.status.busy": "2024-08-22T16:10:05.108481Z",
     "iopub.status.idle": "2024-08-22T16:10:05.515953Z",
     "shell.execute_reply": "2024-08-22T16:10:05.515953Z"
    }
   },
   "outputs": [],
   "source": [
    "mdl = Pump()\n",
    "endclass, mdlhist = propagate.nominal(mdl)\n",
    "fig, axs = mdlhist.plot_line('fxns.import_ee.r.s.effstate', \n",
    "                            'fxns.import_ee.r.s.grid_noise', \n",
    "                            'fxns.import_signal.r.s.sig_noise',\n",
    "                            'fxns.move_water.r.s.eff')"
   ]
  },
  {
   "cell_type": "markdown",
   "id": "e91cbaa1",
   "metadata": {},
   "source": [
    "As shown, even with all of these random states, it doesn't appear that the behavior actually changes stochastically over time. This is because, by default, the model is set to run *deterministically*, meaning the stochastic states take their default values. To run stochastically, we use the option `run_stochastic=True`."
   ]
  },
  {
   "cell_type": "code",
   "execution_count": 15,
   "id": "f8fd9c65",
   "metadata": {
    "execution": {
     "iopub.execute_input": "2024-08-22T16:10:05.515953Z",
     "iopub.status.busy": "2024-08-22T16:10:05.515953Z",
     "iopub.status.idle": "2024-08-22T16:10:05.631549Z",
     "shell.execute_reply": "2024-08-22T16:10:05.631549Z"
    }
   },
   "outputs": [],
   "source": [
    "mdl = Pump()\n",
    "endclass, mdlhist = propagate.nominal(mdl, run_stochastic=True)"
   ]
  },
  {
   "cell_type": "code",
   "execution_count": 16,
   "id": "a3094022",
   "metadata": {
    "execution": {
     "iopub.execute_input": "2024-08-22T16:10:05.631549Z",
     "iopub.status.busy": "2024-08-22T16:10:05.631549Z",
     "iopub.status.idle": "2024-08-22T16:10:05.947980Z",
     "shell.execute_reply": "2024-08-22T16:10:05.947980Z"
    }
   },
   "outputs": [],
   "source": [
    "fig, axs = mdlhist.plot_line('fxns.import_ee.r.s.effstate', \n",
    "                            'fxns.import_ee.r.s.grid_noise', \n",
    "                            'fxns.import_signal.r.s.sig_noise',\n",
    "                            'fxns.move_water.r.s.eff')"
   ]
  },
  {
   "cell_type": "markdown",
   "id": "557580e6",
   "metadata": {},
   "source": [
    "As shown, this is more what we would expect from a random . Note that this simulation comes from the default model seed, and will this will always be the same. To get a different seed, we can pass new modelparams as an argument to `propagate.nominal`"
   ]
  },
  {
   "cell_type": "code",
   "execution_count": 17,
   "id": "2b477e12",
   "metadata": {
    "execution": {
     "iopub.execute_input": "2024-08-22T16:10:05.947980Z",
     "iopub.status.busy": "2024-08-22T16:10:05.947980Z",
     "iopub.status.idle": "2024-08-22T16:10:06.418399Z",
     "shell.execute_reply": "2024-08-22T16:10:06.418399Z"
    }
   },
   "outputs": [],
   "source": [
    "mdl = Pump()\n",
    "endclass, mdlhist = propagate.nominal(mdl, run_stochastic=True, \n",
    "                                      mdl_kwargs=dict(r={'seed':110}))\n",
    "fig, axs = mdlhist.plot_line('fxns.import_ee.r.s.effstate', \n",
    "                            'fxns.import_ee.r.s.grid_noise', \n",
    "                            'fxns.import_signal.r.s.sig_noise',\n",
    "                            'fxns.move_water.r.s.eff')"
   ]
  },
  {
   "cell_type": "markdown",
   "id": "4c572e67",
   "metadata": {},
   "source": [
    "We can further simulate faults as we would before. "
   ]
  },
  {
   "cell_type": "code",
   "execution_count": 18,
   "id": "6ca3cd91",
   "metadata": {
    "execution": {
     "iopub.execute_input": "2024-08-22T16:10:06.418399Z",
     "iopub.status.busy": "2024-08-22T16:10:06.418399Z",
     "iopub.status.idle": "2024-08-22T16:10:06.939305Z",
     "shell.execute_reply": "2024-08-22T16:10:06.939305Z"
    }
   },
   "outputs": [],
   "source": [
    "mdl = Pump()\n",
    "endclass, mdlhist = propagate.one_fault(mdl, 'export_water','block', time=20, \n",
    "                                       run_stochastic=True, mdl_kwargs=dict(r={'seed':110}))\n",
    "fig = mdlhist.plot_line('fxns.move_water.r.s.eff', \n",
    "                        'fxns.move_water.s.total_flow',\n",
    "                        'flows.wat_2.s.flowrate',\n",
    "                        'flows.wat_2.s.pressure',\n",
    "                        time_slice=[20], legend_loc=False)"
   ]
  },
  {
   "cell_type": "markdown",
   "id": "1d40bb48",
   "metadata": {},
   "source": [
    "As shown, the stochastic states still simulated over time after the fault. \n",
    "\n",
    "One thing to watch in stochastic models is that **off-nominal behavior may be more difficult to track**, since stochastic behavior may vary without necessarily being adverse behavior. This can be a problem because many of the visualizations (e.g., in `graph`) are based on finding *differences* between faulty and nominal models to visualize degradation, these methods may be less useful/reliable."
   ]
  },
  {
   "cell_type": "code",
   "execution_count": 19,
   "id": "089584a2",
   "metadata": {
    "execution": {
     "iopub.execute_input": "2024-08-22T16:10:06.943306Z",
     "iopub.status.busy": "2024-08-22T16:10:06.943306Z",
     "iopub.status.idle": "2024-08-22T16:10:07.277659Z",
     "shell.execute_reply": "2024-08-22T16:10:07.277659Z"
    }
   },
   "outputs": [],
   "source": [
    "fig = mdlhist.plot_line('fxns.import_ee.r.s.effstate', 'fxns.import_ee.r.s.grid_noise',\n",
    "                        'fxns.import_signal.r.s.sig_noise', 'fxns.move_water.r.s.eff', legend_loc=False)"
   ]
  },
  {
   "cell_type": "markdown",
   "id": "09bd93e5",
   "metadata": {},
   "source": [
    "In the blockage scenario, there is no effect on the underlying stochastic states, since nothing was set up for this in the behavior. In the `no_sig` fault, on the other hand, we defined the signal noise to go to zero, as shown:"
   ]
  },
  {
   "cell_type": "code",
   "execution_count": 20,
   "id": "5118bdb4",
   "metadata": {
    "execution": {
     "iopub.execute_input": "2024-08-22T16:10:07.277659Z",
     "iopub.status.busy": "2024-08-22T16:10:07.277659Z",
     "iopub.status.idle": "2024-08-22T16:10:07.797683Z",
     "shell.execute_reply": "2024-08-22T16:10:07.797683Z"
    }
   },
   "outputs": [],
   "source": [
    "mdl = Pump()\n",
    "endclass, mdlhist = propagate.one_fault(mdl, 'import_signal', 'no_sig', time=20, \n",
    "                                        run_stochastic=True, mdl_kwargs=dict(r={'seed':110}))\n",
    "fig = mdlhist.plot_line('fxns.import_ee.r.s.effstate', \n",
    "                        'fxns.import_ee.r.s.grid_noise', \n",
    "                        'fxns.import_signal.r.s.sig_noise',\n",
    "                        'fxns.move_water.r.s.eff', \n",
    "                         legend_loc=False,\n",
    "                         time_slice=20)"
   ]
  },
  {
   "cell_type": "markdown",
   "id": "6aee004f",
   "metadata": {},
   "source": [
    "### Multi-Scenario Simulation\n",
    "\n",
    "Because stochastic models are non-deterministic, we are often interested not in the results of a single thread, but of the distribution of outcomes that might occur. To perform this kind of assessment, we can use a `ParameterSample` to instantiate the model with a number of different seeds."
   ]
  },
  {
   "cell_type": "code",
   "execution_count": 21,
   "id": "abf7ce90",
   "metadata": {
    "execution": {
     "iopub.execute_input": "2024-08-22T16:10:07.797683Z",
     "iopub.status.busy": "2024-08-22T16:10:07.797683Z",
     "iopub.status.idle": "2024-08-22T16:10:07.804561Z",
     "shell.execute_reply": "2024-08-22T16:10:07.804561Z"
    }
   },
   "outputs": [],
   "source": [
    "help(ParameterSample.add_variable_replicates)"
   ]
  },
  {
   "cell_type": "markdown",
   "id": "9ed7fefe",
   "metadata": {},
   "source": [
    "The `replicates` option can also be used in ParameterSample methods to simultaneously change the input parameters and seeds of the model. Below, we create an sample to simulate the model 100 times."
   ]
  },
  {
   "cell_type": "code",
   "execution_count": 22,
   "id": "29dc680b",
   "metadata": {
    "execution": {
     "iopub.execute_input": "2024-08-22T16:10:07.804561Z",
     "iopub.status.busy": "2024-08-22T16:10:07.804561Z",
     "iopub.status.idle": "2024-08-22T16:10:07.811835Z",
     "shell.execute_reply": "2024-08-22T16:10:07.811835Z"
    }
   },
   "outputs": [],
   "source": [
    "ps = ParameterSample()\n",
    "ps.add_variable_replicates([], replicates=100)"
   ]
  },
  {
   "cell_type": "code",
   "execution_count": 23,
   "id": "3a005aaf",
   "metadata": {
    "execution": {
     "iopub.execute_input": "2024-08-22T16:10:07.811835Z",
     "iopub.status.busy": "2024-08-22T16:10:07.811835Z",
     "iopub.status.idle": "2024-08-22T16:10:17.544229Z",
     "shell.execute_reply": "2024-08-22T16:10:17.544229Z"
    }
   },
   "outputs": [],
   "source": [
    "endclasses, mdlhists = propagate.parameter_sample(mdl, ps, run_stochastic=True)"
   ]
  },
  {
   "cell_type": "markdown",
   "id": "16d8e113",
   "metadata": {},
   "source": [
    "To evaluate this behavior over time, we can then use `History.plot_line`, to plot the *distribution* of behaviors over time.  `History.plot_line` has a number of different options for visualization of distributions. For example, below we plot model states as individual lines:"
   ]
  },
  {
   "cell_type": "code",
   "execution_count": 24,
   "id": "1a9fe928",
   "metadata": {
    "execution": {
     "iopub.execute_input": "2024-08-22T16:10:17.544229Z",
     "iopub.status.busy": "2024-08-22T16:10:17.544229Z",
     "iopub.status.idle": "2024-08-22T16:10:20.368023Z",
     "shell.execute_reply": "2024-08-22T16:10:20.368023Z"
    }
   },
   "outputs": [],
   "source": [
    "fig, ax = mdlhists.plot_line('fxns.move_water.r.s.eff', 'fxns.move_water.s.total_flow',\n",
    "                             'flows.wat_2.s.flowrate', 'flows.wat_2.s.pressure',\n",
    "                             'fxns.import_ee.r.s.effstate', 'fxns.import_ee.r.s.grid_noise',\n",
    "                             'flows.ee_1.s.voltage', 'flows.sig_1.s.power',\n",
    "                             color='blue', comp_groups={}, alpha=0.1, legend_loc=False)"
   ]
  },
  {
   "cell_type": "markdown",
   "id": "08fa309a",
   "metadata": {},
   "source": [
    "Or as percentiles:"
   ]
  },
  {
   "cell_type": "code",
   "execution_count": 25,
   "id": "e5c12bac",
   "metadata": {
    "execution": {
     "iopub.execute_input": "2024-08-22T16:10:20.368023Z",
     "iopub.status.busy": "2024-08-22T16:10:20.368023Z",
     "iopub.status.idle": "2024-08-22T16:10:21.106061Z",
     "shell.execute_reply": "2024-08-22T16:10:21.106061Z"
    }
   },
   "outputs": [],
   "source": [
    "fig = mdlhist.plot_line('fxns.move_water.r.s.eff', 'fxns.move_water.s.total_flow',\n",
    "                             'flows.wat_2.s.flowrate', 'flows.wat_2.s.pressure',\n",
    "                             'fxns.import_ee.r.s.effstate', 'fxns.import_ee.r.s.grid_noise',\n",
    "                             'flows.ee_1.s.voltage', 'flows.sig_1.s.power',\n",
    "                        color='blue', comp_groups={}, aggregation='percentile') "
   ]
  },
  {
   "cell_type": "markdown",
   "id": "67f1ff92",
   "metadata": {},
   "source": [
    "Or as a mean with confidence interval:"
   ]
  },
  {
   "cell_type": "code",
   "execution_count": 26,
   "id": "fe8a8619",
   "metadata": {
    "execution": {
     "iopub.execute_input": "2024-08-22T16:10:21.106061Z",
     "iopub.status.busy": "2024-08-22T16:10:21.106061Z",
     "iopub.status.idle": "2024-08-22T16:10:28.767239Z",
     "shell.execute_reply": "2024-08-22T16:10:28.767239Z"
    }
   },
   "outputs": [],
   "source": [
    "fig, ax = mdlhists.plot_line('fxns.move_water.r.s.eff', 'fxns.move_water.s.total_flow',\n",
    "                             'flows.wat_2.s.flowrate', 'flows.wat_2.s.pressure',\n",
    "                             'fxns.import_ee.r.s.effstate', 'fxns.import_ee.r.s.grid_noise',\n",
    "                             'flows.ee_1.s.voltage', 'flows.sig_1.s.power',\n",
    "                             color='blue', comp_groups={}, aggregation='mean_ci')"
   ]
  },
  {
   "cell_type": "markdown",
   "id": "176692d9",
   "metadata": {},
   "source": [
    "### Nested Fault Simulation"
   ]
  },
  {
   "cell_type": "markdown",
   "id": "64c400a6",
   "metadata": {},
   "source": [
    "We can also compare stochastic output over a set of scenarios using `plot.hist` with the `comp_groups` parameter, which places the scenarios in different groups."
   ]
  },
  {
   "cell_type": "markdown",
   "id": "9c5c1992",
   "metadata": {},
   "source": [
    "This can be done by first creating an ParameterDomain with the variable we wish to compare. The pump still has one real parameter--the fault delay."
   ]
  },
  {
   "cell_type": "code",
   "execution_count": 27,
   "id": "84332270",
   "metadata": {
    "execution": {
     "iopub.execute_input": "2024-08-22T16:10:28.767239Z",
     "iopub.status.busy": "2024-08-22T16:10:28.767239Z",
     "iopub.status.idle": "2024-08-22T16:10:28.774674Z",
     "shell.execute_reply": "2024-08-22T16:10:28.774674Z"
    }
   },
   "outputs": [],
   "source": [
    "from pump_stochastic import PumpParam\n",
    "pd = ParameterDomain(PumpParam)\n",
    "pd.add_variable(\"delay\")\n",
    "pd"
   ]
  },
  {
   "cell_type": "markdown",
   "id": "d6267319",
   "metadata": {},
   "source": [
    "This can then be sampled with a ParameterSample:"
   ]
  },
  {
   "cell_type": "code",
   "execution_count": 28,
   "id": "1305f00c",
   "metadata": {
    "execution": {
     "iopub.execute_input": "2024-08-22T16:10:28.777220Z",
     "iopub.status.busy": "2024-08-22T16:10:28.777220Z",
     "iopub.status.idle": "2024-08-22T16:10:28.784262Z",
     "shell.execute_reply": "2024-08-22T16:10:28.784262Z"
    }
   },
   "outputs": [],
   "source": [
    "ps = ParameterSample(pd)\n",
    "ps.add_variable_replicates([[1]], replicates=100, name=\"delay1\")\n",
    "ps.add_variable_replicates([[10]], replicates=100, name=\"delay10\")\n",
    "ps"
   ]
  },
  {
   "cell_type": "markdown",
   "id": "8be7a081",
   "metadata": {},
   "source": [
    "Since this delay only shows up in blockage fault modes, to compare the behaviors, we will first simulate it in a nested approach with only the blockage fault added."
   ]
  },
  {
   "cell_type": "code",
   "execution_count": 29,
   "id": "79818882",
   "metadata": {
    "execution": {
     "iopub.execute_input": "2024-08-22T16:10:28.784262Z",
     "iopub.status.busy": "2024-08-22T16:10:28.784262Z",
     "iopub.status.idle": "2024-08-22T16:10:28.790261Z",
     "shell.execute_reply": "2024-08-22T16:10:28.790261Z"
    }
   },
   "outputs": [],
   "source": [
    "import multiprocessing as mp"
   ]
  },
  {
   "cell_type": "code",
   "execution_count": 30,
   "id": "8a95d986",
   "metadata": {
    "execution": {
     "iopub.execute_input": "2024-08-22T16:10:28.790261Z",
     "iopub.status.busy": "2024-08-22T16:10:28.790261Z",
     "iopub.status.idle": "2024-08-22T16:11:59.316771Z",
     "shell.execute_reply": "2024-08-22T16:11:59.316771Z"
    }
   },
   "outputs": [],
   "source": [
    "faultdomains = {\"fd\": ((\"fault\", \"export_water\", \"block\"), {})}\n",
    "faultsamples = {\"fs\": ((\"fault_phases\", \"fd\"), {})}\n",
    "endclasses, mdlhists, apps=propagate.nested_sample(mdl, ps, run_stochastic=True, faultdomains=faultdomains, faultsamples=faultsamples)"
   ]
  },
  {
   "cell_type": "markdown",
   "id": "cb7a190b",
   "metadata": {},
   "source": [
    "Next, we get just the scenarios of interest:"
   ]
  },
  {
   "cell_type": "code",
   "execution_count": 31,
   "id": "d0a38147",
   "metadata": {
    "execution": {
     "iopub.execute_input": "2024-08-22T16:11:59.316771Z",
     "iopub.status.busy": "2024-08-22T16:11:59.316771Z",
     "iopub.status.idle": "2024-08-22T16:11:59.346408Z",
     "shell.execute_reply": "2024-08-22T16:11:59.346408Z"
    }
   },
   "outputs": [],
   "source": [
    "comp_mdlhists = mdlhists.get_scens('export_water_block_t27p0')"
   ]
  },
  {
   "cell_type": "markdown",
   "id": "5f9aecdd",
   "metadata": {},
   "source": [
    "Finally, we create some comparison groups to group the results by:"
   ]
  },
  {
   "cell_type": "code",
   "execution_count": 32,
   "id": "357d68d1",
   "metadata": {
    "execution": {
     "iopub.execute_input": "2024-08-22T16:11:59.346408Z",
     "iopub.status.busy": "2024-08-22T16:11:59.346408Z",
     "iopub.status.idle": "2024-08-22T16:11:59.354136Z",
     "shell.execute_reply": "2024-08-22T16:11:59.354136Z"
    }
   },
   "outputs": [],
   "source": [
    "comp_groups = {'delay_1': ps.get_scens(p={'delay': 1}), 'delay_10': ps.get_scens(p={'delay': 10})}"
   ]
  },
  {
   "cell_type": "markdown",
   "id": "614d79df",
   "metadata": {},
   "source": [
    "These are the resulting behaviors:"
   ]
  },
  {
   "cell_type": "code",
   "execution_count": 33,
   "id": "a1b39f95",
   "metadata": {
    "execution": {
     "iopub.execute_input": "2024-08-22T16:11:59.354136Z",
     "iopub.status.busy": "2024-08-22T16:11:59.354136Z",
     "iopub.status.idle": "2024-08-22T16:12:03.846962Z",
     "shell.execute_reply": "2024-08-22T16:12:03.846962Z"
    }
   },
   "outputs": [],
   "source": [
    "figax = comp_mdlhists.plot_line('fxns.move_water.r.s.eff', 'fxns.move_water.s.total_flow',\n",
    "                             'flows.wat_2.s.flowrate', 'flows.wat_2.s.pressure',\n",
    "                             'fxns.import_ee.r.s.effstate', 'fxns.import_ee.r.s.grid_noise',\n",
    "                             'flows.ee_1.s.voltage', 'flows.sig_1.s.power',\n",
    "                                comp_groups=comp_groups, aggregation='percentile', time_slice=27) "
   ]
  },
  {
   "cell_type": "markdown",
   "id": "761404fd",
   "metadata": {},
   "source": [
    "There a few interesting aspects of this simulation:\n",
    "    - First, some of the `delay_1` design simulations have a zero flowrate before the fault is injected. This is because the reduced delay means that nominal behavior can easily cause the fault--all that nees to happen is for the pressure to go over 15 for two time-steps, which is entirely forseeable with all the variability in the simulation. This can also be seen in the \"total_flow\" graph.\n",
    "    - Second, the `delay_10` gives the nominal behavior until the fault time, when pressure increases dramatically. This is also observed in the `delay_1` design, but with a much smaller delay (1 instead of 1)."
   ]
  },
  {
   "cell_type": "markdown",
   "id": "5db56393",
   "metadata": {},
   "source": [
    "Finally, running multiple simulations relies on the NominalApproach, it can be combined fairly easily with existing methods used in conjunction with NominalApproach. (e.g., `tabulate.NestedComparison`)."
   ]
  },
  {
   "cell_type": "code",
   "execution_count": 34,
   "id": "c5365822",
   "metadata": {
    "execution": {
     "iopub.execute_input": "2024-08-22T16:12:03.846962Z",
     "iopub.status.busy": "2024-08-22T16:12:03.846962Z",
     "iopub.status.idle": "2024-08-22T16:12:04.878805Z",
     "shell.execute_reply": "2024-08-22T16:12:04.878805Z"
    }
   },
   "outputs": [],
   "source": [
    "import numpy as np\n",
    "from fmdtools.analyze.tabulate import NestedComparison\n",
    "comp = NestedComparison(endclasses, ps, [\"p.delay\"], apps, [\"fault\"], metrics=['cost'], ci_metrics=['cost'], default_stat=np.mean)"
   ]
  },
  {
   "cell_type": "code",
   "execution_count": 35,
   "id": "b69827af",
   "metadata": {
    "execution": {
     "iopub.execute_input": "2024-08-22T16:12:04.878805Z",
     "iopub.status.busy": "2024-08-22T16:12:04.878805Z",
     "iopub.status.idle": "2024-08-22T16:12:04.894268Z",
     "shell.execute_reply": "2024-08-22T16:12:04.894268Z"
    }
   },
   "outputs": [],
   "source": [
    "comp.as_table()"
   ]
  },
  {
   "cell_type": "code",
   "execution_count": 36,
   "id": "fa5c28ff",
   "metadata": {
    "execution": {
     "iopub.execute_input": "2024-08-22T16:12:04.894268Z",
     "iopub.status.busy": "2024-08-22T16:12:04.894268Z",
     "iopub.status.idle": "2024-08-22T16:12:04.988189Z",
     "shell.execute_reply": "2024-08-22T16:12:04.988189Z"
    }
   },
   "outputs": [],
   "source": [
    "comp.as_plot(\"cost\", color_factor=\"fault\")"
   ]
  }
 ],
 "metadata": {
  "kernelspec": {
   "display_name": "Python 3 (ipykernel)",
   "language": "python",
   "name": "python3"
  },
  "language_info": {
   "codemirror_mode": {
    "name": "ipython",
    "version": 3
   },
   "file_extension": ".py",
   "mimetype": "text/x-python",
   "name": "python",
   "nbconvert_exporter": "python",
   "pygments_lexer": "ipython3",
   "version": "3.10.9"
  },
  "vscode": {
   "interpreter": {
    "hash": "e91384d516de244e8027664e7296e7623a911fd9d79a3021d1ef03e3e53e2456"
   }
  }
 },
 "nbformat": 4,
 "nbformat_minor": 5
}
