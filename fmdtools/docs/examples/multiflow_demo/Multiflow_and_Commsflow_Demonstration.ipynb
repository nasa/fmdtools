{
 "cells": [
  {
   "cell_type": "markdown",
   "id": "27f82fb4",
   "metadata": {},
   "source": [
    "## Demonstration on Using MultiFlow and CommsFlow\n",
    "\n",
    "This notebook is a demonstration on the use of MultiFlow and CommsFlow for the coordination of multiple devices via a single \"agent\". With the exception of the graphs, the code here is identical to `multiflow_demo.py` with the purpose of walking people through the step-by-step creation of the model. \n",
    "\n",
    "The model is a simple example of using `fmdtools` to create [System of Systems](https://en.wikipedia.org/wiki/System_of_systems) or an [Agent-Based](https://en.wikipedia.org/wiki/Agent-based_model) model. Depending on the representation and the goal of the model, it could be considered a [Multiagent System](https://en.wikipedia.org/wiki/Multi-agent_system) but the fundamental setup works all the same. \n",
    "\n",
    "When using `fmdtools` to do this, indivudal entities known as agents are programmed as functions, while the interactions between them are built using flows. Agents can represent a variety of things such as a representation of a more complicated system (such as a drone) or a software agent that helps control the others. The flows can be interactions such as communication channels or the environment that the agents exist in. For further explanation, see [this part of the documentation](https://nasa.github.io/fmdtools/docs-source/Development%20Guide.html#structuring-a-model)\n",
    "\n",
    "The concept for this example is as follows: two `mover` agents move in both the x and y direction. A `coordinator` agent is tasked with sending the messages to tell them how to move within the environment.\n",
    "\n",
    "```\n",
    "Copyright © 2024, United States Government, as represented by the Administrator of the National Aeronautics and Space Administration. All rights reserved.\n",
    "\n",
    "The “\"Fault Model Design tools - fmdtools version 2\"” software is licensed under the Apache License, Version 2.0 (the \"License\"); you may not use this file except in compliance with the License. You may obtain a copy of the License at http://www.apache.org/licenses/LICENSE-2.0. \n",
    "\n",
    "Unless required by applicable law or agreed to in writing, software distributed under the License is distributed on an \"AS IS\" BASIS, WITHOUT WARRANTIES OR CONDITIONS OF ANY KIND, either express or implied. See the License for the specific language governing permissions and limitations under the License.\n",
    "```"
   ]
  },
  {
   "cell_type": "code",
   "execution_count": 5,
   "id": "e280789b",
   "metadata": {
    "execution": {
     "iopub.execute_input": "2024-10-22T00:09:03.014576Z",
     "iopub.status.busy": "2024-10-22T00:09:03.014001Z",
     "iopub.status.idle": "2024-10-22T00:09:03.030722Z",
     "shell.execute_reply": "2024-10-22T00:09:03.029693Z"
    }
   },
   "outputs": [],
   "source": [
    "import inspect"
   ]
  },
  {
   "cell_type": "markdown",
   "id": "7a4beab7",
   "metadata": {},
   "source": [
    "### Bulding Flows\n",
    "The first step is creating the flows and states that connect the model. This includes using a `LocationState` as the default starting location. This is given to the Communications channel which uses `CommsFlow` to allow for communications agent, and the locaiton `MultiFlow` to represent an \"environment\". Finally there is a parameter setup for the `Mover` agent, the purpose of which is elaborated on below."
   ]
  },
  {
   "cell_type": "code",
   "execution_count": 6,
   "id": "52479895",
   "metadata": {
    "execution": {
     "iopub.execute_input": "2024-10-22T00:09:03.034472Z",
     "iopub.status.busy": "2024-10-22T00:09:03.034472Z",
     "iopub.status.idle": "2024-10-22T00:09:03.883429Z",
     "shell.execute_reply": "2024-10-22T00:09:03.881378Z"
    }
   },
   "outputs": [
    {
     "name": "stdout",
     "output_type": "stream",
     "text": [
      "class LocationState(State):\n",
      "    x: float = 0.0\n",
      "    y: float = 0.0\n",
      "\n",
      "class Location(MultiFlow):\n",
      "    container_s = LocationState\n",
      "\n",
      "class Communications(CommsFlow):\n",
      "    container_s = LocationState\n",
      "\n",
      "class MoveParam(Parameter):\n",
      "    x_up: float = 0.0\n",
      "    y_up: float = 0.0\n",
      "\n"
     ]
    }
   ],
   "source": [
    "from examples.multiflow_demo.multiflow_demo import LocationState, Communications, Location, MoveParam\n",
    "print(inspect.getsource(LocationState))\n",
    "print(inspect.getsource(Location))\n",
    "print(inspect.getsource(Communications))\n",
    "print(inspect.getsource(MoveParam))"
   ]
  },
  {
   "cell_type": "markdown",
   "id": "fabb4948",
   "metadata": {},
   "source": [
    "Next is the development of the  `Mover` agents. When the model is constructed, there will be two Movers. The first moves in the x direction and the second in the y. That is the purpose of the `MoverParam` and the if statement in the behavior function. When the model is initilized later, the two movers are sent parameters to turn on the x_up and y_up which determines how they move. \n",
    "\n",
    "Other parts necessary in the model are the initiation, which requires making a communications channel and a local copy of the location to track the state. The dynamic behavior function uses the increment (`inc`) function to move the device in the direction needed on each step. With that same update, it makes sure that it updates it's internal info from it's location to ensure that it can send out the correct information to the `coordinator` agent."
   ]
  },
  {
   "cell_type": "code",
   "execution_count": 7,
   "id": "16d50792",
   "metadata": {
    "execution": {
     "iopub.execute_input": "2024-08-22T16:02:10.716528Z",
     "iopub.status.busy": "2024-08-22T16:02:10.716528Z",
     "iopub.status.idle": "2024-08-22T16:02:10.721892Z",
     "shell.execute_reply": "2024-08-22T16:02:10.721892Z"
    }
   },
   "outputs": [
    {
     "ename": "ModuleNotFoundError",
     "evalue": "No module named 'multiflow_demo'",
     "output_type": "error",
     "traceback": [
      "\u001b[1;31m---------------------------------------------------------------------------\u001b[0m",
      "\u001b[1;31mModuleNotFoundError\u001b[0m                       Traceback (most recent call last)",
      "Cell \u001b[1;32mIn[7], line 1\u001b[0m\n\u001b[1;32m----> 1\u001b[0m \u001b[38;5;28;01mfrom\u001b[39;00m \u001b[38;5;21;01mmultiflow_demo\u001b[39;00m \u001b[38;5;28;01mimport\u001b[39;00m Mover\n\u001b[0;32m      2\u001b[0m \u001b[38;5;28mprint\u001b[39m(inspect\u001b[38;5;241m.\u001b[39mgetsource(Mover))\n",
      "\u001b[1;31mModuleNotFoundError\u001b[0m: No module named 'multiflow_demo'"
     ]
    }
   ],
   "source": [
    "from multiflow_demo import Mover\n",
    "print(inspect.getsource(Mover))    "
   ]
  },
  {
   "cell_type": "markdown",
   "id": "1904e0b6",
   "metadata": {},
   "source": [
    "Finally, there is the creation of the `Coordinator` agent. It's main goal to allow for the transfer of information between the agents by receiving and transmiting information to the agents."
   ]
  },
  {
   "cell_type": "code",
   "execution_count": null,
   "id": "100f307c",
   "metadata": {
    "execution": {
     "iopub.execute_input": "2024-08-22T16:02:10.721892Z",
     "iopub.status.busy": "2024-08-22T16:02:10.721892Z",
     "iopub.status.idle": "2024-08-22T16:02:10.729345Z",
     "shell.execute_reply": "2024-08-22T16:02:10.729345Z"
    }
   },
   "outputs": [],
   "source": [
    "from multiflow_demo import Coordinator\n",
    "print(inspect.getsource(Coordinator))    "
   ]
  },
  {
   "cell_type": "markdown",
   "id": "be08bb36",
   "metadata": {},
   "source": [
    "After building all the functions and flow, the entire model is put together and initialized with the correct parameters. Each flow and then function is added. Not the \"p = {\"x_up\":1.0}\" and \"p = {\"y_up\":1.0} when creating the two movers. This refers back to the behavior function when making the `Mover` agent before, allowing for each one to behave in its own way."
   ]
  },
  {
   "cell_type": "code",
   "execution_count": null,
   "id": "90f67093",
   "metadata": {
    "execution": {
     "iopub.execute_input": "2024-08-22T16:02:10.729345Z",
     "iopub.status.busy": "2024-08-22T16:02:10.729345Z",
     "iopub.status.idle": "2024-08-22T16:02:10.736864Z",
     "shell.execute_reply": "2024-08-22T16:02:10.736864Z"
    }
   },
   "outputs": [],
   "source": [
    "from multiflow_demo import ExModel\n",
    "print(inspect.getsource(ExModel))    "
   ]
  },
  {
   "cell_type": "markdown",
   "id": "9b2bf63d",
   "metadata": {},
   "source": [
    "Before running the model, we start with loading up the model and using the `FunctionArchitectureGraph` function to view the components and their relations to eachother. The `CommsFlow` and `MultiFlow` nodes are represented by octogons and hexagons, respectively. This is different than the circle nodes in regular flows. See `default_node_kwargs` in `fmdtools.analyze.graph` for the different node shapes and colors. "
   ]
  },
  {
   "cell_type": "code",
   "execution_count": null,
   "id": "bae325fa",
   "metadata": {
    "execution": {
     "iopub.execute_input": "2024-08-22T16:02:10.736864Z",
     "iopub.status.busy": "2024-08-22T16:02:10.736864Z",
     "iopub.status.idle": "2024-08-22T16:02:10.742177Z",
     "shell.execute_reply": "2024-08-22T16:02:10.742177Z"
    }
   },
   "outputs": [],
   "source": [
    "from fmdtools.define.architecture.function import FunctionArchitectureGraph"
   ]
  },
  {
   "cell_type": "code",
   "execution_count": null,
   "id": "f54502a7",
   "metadata": {
    "execution": {
     "iopub.execute_input": "2024-08-22T16:02:10.742177Z",
     "iopub.status.busy": "2024-08-22T16:02:10.742177Z",
     "iopub.status.idle": "2024-08-22T16:02:10.901929Z",
     "shell.execute_reply": "2024-08-22T16:02:10.901929Z"
    }
   },
   "outputs": [],
   "source": [
    "mdl = ExModel()\n",
    "mg = FunctionArchitectureGraph(mdl)\n",
    "mg.set_edge_labels(title='')\n",
    "fig, ax = mg.draw(figsize=(8,4))"
   ]
  },
  {
   "cell_type": "markdown",
   "id": "133d88e5",
   "metadata": {},
   "source": [
    "Besides the model itself, we can use `FunctionArchitectureTypeGraph` to create a graph representation of hte model classes, showing the containment relationship between function classes and flow classes in the model."
   ]
  },
  {
   "cell_type": "code",
   "execution_count": null,
   "id": "7ed0f554",
   "metadata": {
    "execution": {
     "iopub.execute_input": "2024-08-22T16:02:10.901929Z",
     "iopub.status.busy": "2024-08-22T16:02:10.901929Z",
     "iopub.status.idle": "2024-08-22T16:02:10.908676Z",
     "shell.execute_reply": "2024-08-22T16:02:10.908676Z"
    }
   },
   "outputs": [],
   "source": [
    "from fmdtools.define.architecture.function import FunctionArchitectureTypeGraph"
   ]
  },
  {
   "cell_type": "code",
   "execution_count": null,
   "id": "f1550143",
   "metadata": {
    "execution": {
     "iopub.execute_input": "2024-08-22T16:02:10.908676Z",
     "iopub.status.busy": "2024-08-22T16:02:10.908676Z",
     "iopub.status.idle": "2024-08-22T16:02:11.047842Z",
     "shell.execute_reply": "2024-08-22T16:02:11.047842Z"
    }
   },
   "outputs": [],
   "source": [
    "tg = FunctionArchitectureTypeGraph(mdl)\n",
    "tg.set_edge_labels(title='')\n",
    "fig, ax = tg.draw(figsize=(8,6))"
   ]
  },
  {
   "cell_type": "markdown",
   "id": "4c568831",
   "metadata": {},
   "source": [
    "Finally, we can run the model and view it's history via `fmdtools.sim.propagate`. The communication is setup such that mover_1 is supposed to go 25 and transmit that information to allow for mover_2 to do the same."
   ]
  },
  {
   "cell_type": "code",
   "execution_count": null,
   "id": "80d643d2",
   "metadata": {
    "execution": {
     "iopub.execute_input": "2024-08-22T16:02:11.050943Z",
     "iopub.status.busy": "2024-08-22T16:02:11.050943Z",
     "iopub.status.idle": "2024-08-22T16:02:11.211056Z",
     "shell.execute_reply": "2024-08-22T16:02:11.211056Z"
    }
   },
   "outputs": [],
   "source": [
    "mdl.flows[\"communications\"].mover_1.s.x=25\n",
    "mdl.flows[\"communications\"].mover_1.send(\"mover_2\")\n",
    "from fmdtools.sim import propagate\n",
    "\n",
    "result, mdlhist = propagate.nominal(mdl,track='all', desired_result={'graph': FunctionArchitectureGraph})\n",
    "#fig = result.graph.draw(figsize=(8,6)) #graph can be drawn, but it's the same as before since it's nominal\n",
    "mdlhist"
   ]
  },
  {
   "cell_type": "code",
   "execution_count": null,
   "id": "e6f38ef3",
   "metadata": {
    "execution": {
     "iopub.execute_input": "2024-08-22T16:02:11.211056Z",
     "iopub.status.busy": "2024-08-22T16:02:11.211056Z",
     "iopub.status.idle": "2024-08-22T16:02:11.568675Z",
     "shell.execute_reply": "2024-08-22T16:02:11.568675Z"
    }
   },
   "outputs": [],
   "source": [
    "fig, ax = mdlhist.plot_line('flows.location.mover_1.s.x', 'flows.location.mover_1.s.y', \n",
    "                            'flows.communications.mover_1.s.x', 'flows.communications.mover_1.s.y') "
   ]
  }
 ],
 "metadata": {
  "kernelspec": {
   "display_name": "Python 3 (ipykernel)",
   "language": "python",
   "name": "python3"
  },
  "language_info": {
   "codemirror_mode": {
    "name": "ipython",
    "version": 3
   },
   "file_extension": ".py",
   "mimetype": "text/x-python",
   "name": "python",
   "nbconvert_exporter": "python",
   "pygments_lexer": "ipython3",
   "version": "3.11.9"
  },
  "varInspector": {
   "cols": {
    "lenName": 16,
    "lenType": 16,
    "lenVar": 40
   },
   "kernels_config": {
    "python": {
     "delete_cmd_postfix": "",
     "delete_cmd_prefix": "del ",
     "library": "var_list.py",
     "varRefreshCmd": "print(var_dic_list())"
    },
    "r": {
     "delete_cmd_postfix": ") ",
     "delete_cmd_prefix": "rm(",
     "library": "var_list.r",
     "varRefreshCmd": "cat(var_dic_list()) "
    }
   },
   "types_to_exclude": [
    "module",
    "function",
    "builtin_function_or_method",
    "instance",
    "_Feature"
   ],
   "window_display": false
  }
 },
 "nbformat": 4,
 "nbformat_minor": 5
}
