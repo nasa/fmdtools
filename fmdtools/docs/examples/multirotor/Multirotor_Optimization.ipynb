{
 "cells": [
  {
   "cell_type": "markdown",
   "id": "55fa0b2a",
   "metadata": {},
   "source": [
    "# Integrated Resilience Optimization Architectures\n"
   ]
  },
  {
   "cell_type": "markdown",
   "id": "67b07ca5",
   "metadata": {},
   "source": [
    "In this notebook, we use the drone model defined in `drone_mdl_opt.py` to illustrate the use of `SimpleProblem`, `ParameterSimProblem`, and `ProblemArchitecture'` classes to set up optimization architectures. Prior to viewing this study, it may be helpful to get some background on the problem and optimization architectures, thus it may be helpful to review the following references:\n",
    "- Hulse, D., Biswas, A., Hoyle, C., Tumer, I. Y., Kulkarni, C., & Goebel, K. (2021). Exploring Architectures for Integrated Resilience Optimization. Journal of Aerospace Information Systems, 18(10), 665-678.\n",
    "    - This reference presents a version of this Drone Optimization case study, and also introduces the concept of a resilience optimization architecture. \n",
    "    - This drone case study can further be viewed here: https://github.com/DesignEngrLab/resil_opt_examples/tree/main/Drone%20Problem\n",
    "- Hulse, D., & Hoyle, C. (2022). Understanding Resilience Optimization Architectures: Alignment and Coupling in Multilevel Decomposition Strategies. Journal of Mechanical Design, 144(11), 111704.\n",
    "    - This reference provides a better review of what is meant by \"optimization architectures\" as well as different formulations which may be used in this context. While not necessary for comprehending this demonstration, it may be helpful for understanding how it should be used in practice.\n",
    "\n",
    "```\n",
    "Copyright © 2024, United States Government, as represented by the Administrator of the National Aeronautics and Space Administration. All rights reserved.\n",
    "\n",
    "The “\"Fault Model Design tools - fmdtools version 2\"” software is licensed under the Apache License, Version 2.0 (the \"License\"); you may not use this file except in compliance with the License. You may obtain a copy of the License at http://www.apache.org/licenses/LICENSE-2.0. \n",
    "\n",
    "Unless required by applicable law or agreed to in writing, software distributed under the License is distributed on an \"AS IS\" BASIS, WITHOUT WARRANTIES OR CONDITIONS OF ANY KIND, either express or implied. See the License for the specific language governing permissions and limitations under the License.\n",
    "```"
   ]
  },
  {
   "cell_type": "code",
   "execution_count": 1,
   "id": "e76e6e78",
   "metadata": {
    "execution": {
     "iopub.execute_input": "2024-10-22T00:05:32.803116Z",
     "iopub.status.busy": "2024-10-22T00:05:32.802100Z",
     "iopub.status.idle": "2024-10-22T00:05:33.473272Z",
     "shell.execute_reply": "2024-10-22T00:05:33.472228Z"
    }
   },
   "outputs": [
    {
     "ename": "ModuleNotFoundError",
     "evalue": "No module named 'drone_mdl_rural'",
     "output_type": "error",
     "traceback": [
      "\u001b[1;31m---------------------------------------------------------------------------\u001b[0m",
      "\u001b[1;31mModuleNotFoundError\u001b[0m                       Traceback (most recent call last)",
      "Cell \u001b[1;32mIn[1], line 1\u001b[0m\n\u001b[1;32m----> 1\u001b[0m \u001b[38;5;28;01mfrom\u001b[39;00m \u001b[38;5;21;01mdrone_mdl_rural\u001b[39;00m \u001b[38;5;28;01mimport\u001b[39;00m Drone\n\u001b[0;32m      2\u001b[0m \u001b[38;5;28;01mimport\u001b[39;00m \u001b[38;5;21;01mnumpy\u001b[39;00m \u001b[38;5;28;01mas\u001b[39;00m \u001b[38;5;21;01mnp\u001b[39;00m\n\u001b[0;32m      4\u001b[0m mdl \u001b[38;5;241m=\u001b[39m Drone()\n",
      "\u001b[1;31mModuleNotFoundError\u001b[0m: No module named 'drone_mdl_rural'"
     ]
    }
   ],
   "source": [
    "from drone_mdl_rural import Drone\n",
    "import numpy as np\n",
    "\n",
    "mdl = Drone()"
   ]
  },
  {
   "cell_type": "markdown",
   "id": "8c00d24a",
   "metadata": {},
   "source": [
    "This drone has similar structure and behaviors to the drone in `drone_mdl_hierarchical.py` (see below), encompassing the autonomous path planning, control, rotors, electrical system, and control of the drone. However, this model has been parameterized with the following parameters:\n",
    "\n",
    "- The rotor and battery architecture can be changed\n",
    "- The flight height can be changed to support different heights, which in turn changes the drone's flight plan\n",
    "- There is now a `ManageHealth` function which reconfigures the flight depending on detected faults."
   ]
  },
  {
   "cell_type": "code",
   "execution_count": 2,
   "id": "e1dbb8f7",
   "metadata": {
    "execution": {
     "iopub.execute_input": "2024-08-22T16:02:41.630297Z",
     "iopub.status.busy": "2024-08-22T16:02:41.630297Z",
     "iopub.status.idle": "2024-08-22T16:02:42.074818Z",
     "shell.execute_reply": "2024-08-22T16:02:42.074818Z"
    }
   },
   "outputs": [],
   "source": [
    "mg = mdl.as_modelgraph()\n",
    "fig, ax = mg.draw()"
   ]
  },
  {
   "cell_type": "markdown",
   "id": "8ab27b39",
   "metadata": {},
   "source": [
    "This is what is called and *integrated resilience optimization* problem, the combined optimization of Design (cost of design architecture), Operations (cost/revenue of a single flight), and Resilience (cost of a set of hazardous scenarios).\n",
    "\n",
    "Note that it is *integrated* because design model/variables (architecture) affects the operational model/variables (nominal flight), which in turn affects the resilience model (performance over scenarios).\n",
    "\n",
    "We define each of these disciplines in `opt_drone_rural.py`, which we explain below:"
   ]
  },
  {
   "cell_type": "markdown",
   "id": "c3252269",
   "metadata": {},
   "source": [
    "## Design Model\n",
    "\n",
    "The cost model for the architectures is fairly simple, and involves reading costs from a dictionary (rather than any sort of dictionary). As a result, we call it from an external function, as shown:"
   ]
  },
  {
   "cell_type": "code",
   "execution_count": 3,
   "id": "92f59dd0",
   "metadata": {
    "execution": {
     "iopub.execute_input": "2024-08-22T16:02:42.078476Z",
     "iopub.status.busy": "2024-08-22T16:02:42.078343Z",
     "iopub.status.idle": "2024-08-22T16:02:42.099987Z",
     "shell.execute_reply": "2024-08-22T16:02:42.099987Z"
    }
   },
   "outputs": [],
   "source": [
    "from fmdtools.sim.search import SimpleProblem\n",
    "from examples.multirotor.opt_drone_rural import cd\n",
    "\n",
    "des_prob = SimpleProblem(\"bat\", \"line\")\n",
    "des_prob.add_objective(\"cd\", cd)\n",
    "des_prob"
   ]
  },
  {
   "cell_type": "markdown",
   "id": "34b2d00f",
   "metadata": {},
   "source": [
    "We can then use the `cd` callable to the the design cost from this model in terms of the battery and line architecture variables:"
   ]
  },
  {
   "cell_type": "code",
   "execution_count": 4,
   "id": "6dc052fb",
   "metadata": {
    "execution": {
     "iopub.execute_input": "2024-08-22T16:02:42.099987Z",
     "iopub.status.busy": "2024-08-22T16:02:42.099987Z",
     "iopub.status.idle": "2024-08-22T16:02:42.107240Z",
     "shell.execute_reply": "2024-08-22T16:02:42.107240Z"
    }
   },
   "outputs": [],
   "source": [
    "des_prob.cd(1, 2)"
   ]
  },
  {
   "cell_type": "markdown",
   "id": "91d33d37",
   "metadata": {},
   "source": [
    "Note that this callable should give the same value as if we just called the identical function `x_to_dcost`:"
   ]
  },
  {
   "cell_type": "code",
   "execution_count": 5,
   "id": "1ee131b5",
   "metadata": {
    "execution": {
     "iopub.execute_input": "2024-08-22T16:02:42.107240Z",
     "iopub.status.busy": "2024-08-22T16:02:42.107240Z",
     "iopub.status.idle": "2024-08-22T16:02:42.112922Z",
     "shell.execute_reply": "2024-08-22T16:02:42.112922Z"
    }
   },
   "outputs": [],
   "source": [
    "from examples.multirotor.opt_drone_rural import x_to_dcost\n",
    "assert des_prob.cd(1, 1) == x_to_dcost([1, 1])"
   ]
  },
  {
   "cell_type": "markdown",
   "id": "eb4ea529",
   "metadata": {},
   "source": [
    "## Operational Model\n",
    "\n",
    "The operational model comes from the flight height of the drone and its performance in the nominal scenario.\n",
    "\n",
    "To optimize this, we define a `ParameterDomain` to define the variables. Note that `xd_paramfunc` is used to translate float variable inputs into (string) options for battery/line architecture, while `plan_flight` is used to plan a given trajectory at a predetermined flight height."
   ]
  },
  {
   "cell_type": "code",
   "execution_count": 6,
   "id": "f393d1a1",
   "metadata": {
    "execution": {
     "iopub.execute_input": "2024-08-22T16:02:42.112922Z",
     "iopub.status.busy": "2024-08-22T16:02:42.112922Z",
     "iopub.status.idle": "2024-08-22T16:02:42.118888Z",
     "shell.execute_reply": "2024-08-22T16:02:42.118888Z"
    }
   },
   "outputs": [],
   "source": [
    "from fmdtools.sim.sample import ParameterDomain\n",
    "from examples.multirotor.drone_mdl_rural import DroneParam\n",
    "from examples.multirotor.opt_drone_rural import xd_paramfunc, plan_flight\n",
    "\n",
    "pd = ParameterDomain(DroneParam)\n",
    "pd.add_variables(\"phys_param.bat\", \"phys_param.linearch\", var_map=xd_paramfunc)\n",
    "pd.add_variable(\"flightplan\", var_map=plan_flight)"
   ]
  },
  {
   "cell_type": "markdown",
   "id": "4415c76f",
   "metadata": {},
   "source": [
    "This parameterdomain is now callable in terms of our two variables:"
   ]
  },
  {
   "cell_type": "code",
   "execution_count": 7,
   "id": "48164923",
   "metadata": {
    "execution": {
     "iopub.execute_input": "2024-08-22T16:02:42.118888Z",
     "iopub.status.busy": "2024-08-22T16:02:42.118888Z",
     "iopub.status.idle": "2024-08-22T16:02:42.125553Z",
     "shell.execute_reply": "2024-08-22T16:02:42.125553Z"
    }
   },
   "outputs": [],
   "source": [
    "pd(1, 1, 10)"
   ]
  },
  {
   "cell_type": "markdown",
   "id": "d6545354",
   "metadata": {},
   "source": [
    "We can now define a simulation of this model to optimize over using the `ParameterSimProblem` class.\n",
    "\n",
    "In this case we are optimizing over the nominal simulation:"
   ]
  },
  {
   "cell_type": "code",
   "execution_count": 8,
   "id": "7d57e950",
   "metadata": {
    "execution": {
     "iopub.execute_input": "2024-08-22T16:02:42.126560Z",
     "iopub.status.busy": "2024-08-22T16:02:42.126560Z",
     "iopub.status.idle": "2024-08-22T16:02:42.130908Z",
     "shell.execute_reply": "2024-08-22T16:02:42.130908Z"
    }
   },
   "outputs": [],
   "source": [
    "from fmdtools.sim.search import ParameterSimProblem\n",
    "oper_prob = ParameterSimProblem(mdl, pd, \"nominal\", warn_faults=False)"
   ]
  },
  {
   "cell_type": "markdown",
   "id": "65abe841",
   "metadata": {},
   "source": [
    "We can then define objectives/constraints to pull from the result/history from the simulation:\n",
    "\n",
    "Note that while results can be pulled automatically, we will want to make sure the tracking options sent to the `ParameterSimProblem` include our history variables:"
   ]
  },
  {
   "cell_type": "code",
   "execution_count": 9,
   "id": "1533c13f",
   "metadata": {
    "execution": {
     "iopub.execute_input": "2024-08-22T16:02:42.130908Z",
     "iopub.status.busy": "2024-08-22T16:02:42.130908Z",
     "iopub.status.idle": "2024-08-22T16:02:42.136937Z",
     "shell.execute_reply": "2024-08-22T16:02:42.136937Z"
    }
   },
   "outputs": [],
   "source": [
    "\n",
    "oper_prob.add_result_objective(\"co\", \"endclass.expected_cost\")\n",
    "oper_prob.add_result_constraint(\"g_soc\", \"store_ee.s.soc\", time=20, threshold=10)\n",
    "#oper_prob.add_result_constraint(\"g_fault\", \"endfaults\", metric=np.any)\n",
    "oper_prob.add_history_constraint(\"g_max_height\", \"dofs.s.z\", metric=np.max,\n",
    "                                 threshold=122, comparator='less') "
   ]
  },
  {
   "cell_type": "markdown",
   "id": "2ae73162",
   "metadata": {},
   "source": [
    "We can now use the `co` callable (note that design variables should be sent first e.g. by calling `cd`):"
   ]
  },
  {
   "cell_type": "code",
   "execution_count": 10,
   "id": "37683190",
   "metadata": {
    "execution": {
     "iopub.execute_input": "2024-08-22T16:02:42.136937Z",
     "iopub.status.busy": "2024-08-22T16:02:42.136937Z",
     "iopub.status.idle": "2024-08-22T16:02:42.416416Z",
     "shell.execute_reply": "2024-08-22T16:02:42.415414Z"
    }
   },
   "outputs": [],
   "source": [
    "oper_prob.co(1, 1, 100)"
   ]
  },
  {
   "cell_type": "code",
   "execution_count": 11,
   "id": "ef726a4d",
   "metadata": {
    "execution": {
     "iopub.execute_input": "2024-08-22T16:02:42.416458Z",
     "iopub.status.busy": "2024-08-22T16:02:42.416458Z",
     "iopub.status.idle": "2024-08-22T16:02:42.423714Z",
     "shell.execute_reply": "2024-08-22T16:02:42.423714Z"
    }
   },
   "outputs": [],
   "source": [
    "oper_prob.obj_con_des_res()"
   ]
  },
  {
   "cell_type": "code",
   "execution_count": 12,
   "id": "42bfa372",
   "metadata": {
    "execution": {
     "iopub.execute_input": "2024-08-22T16:02:42.423714Z",
     "iopub.status.busy": "2024-08-22T16:02:42.423714Z",
     "iopub.status.idle": "2024-08-22T16:02:42.430206Z",
     "shell.execute_reply": "2024-08-22T16:02:42.430206Z"
    }
   },
   "outputs": [],
   "source": [
    "oper_prob.get_end_time()"
   ]
  },
  {
   "cell_type": "code",
   "execution_count": 13,
   "id": "b5fb093f",
   "metadata": {
    "execution": {
     "iopub.execute_input": "2024-08-22T16:02:42.430206Z",
     "iopub.status.busy": "2024-08-22T16:02:42.430206Z",
     "iopub.status.idle": "2024-08-22T16:02:42.437215Z",
     "shell.execute_reply": "2024-08-22T16:02:42.437215Z"
    }
   },
   "outputs": [],
   "source": [
    "oper_prob.res"
   ]
  },
  {
   "cell_type": "code",
   "execution_count": 14,
   "id": "87a61f9f",
   "metadata": {
    "execution": {
     "iopub.execute_input": "2024-08-22T16:02:42.437215Z",
     "iopub.status.busy": "2024-08-22T16:02:42.437215Z",
     "iopub.status.idle": "2024-08-22T16:02:42.520409Z",
     "shell.execute_reply": "2024-08-22T16:02:42.520409Z"
    }
   },
   "outputs": [],
   "source": [
    "oper_prob.hist.plot_trajectory('flows.dofs.s.x', 'flows.dofs.s.y')"
   ]
  },
  {
   "cell_type": "code",
   "execution_count": 15,
   "id": "fa07630e",
   "metadata": {
    "execution": {
     "iopub.execute_input": "2024-08-22T16:02:42.520409Z",
     "iopub.status.busy": "2024-08-22T16:02:42.520409Z",
     "iopub.status.idle": "2024-08-22T16:02:42.526979Z",
     "shell.execute_reply": "2024-08-22T16:02:42.526979Z"
    }
   },
   "outputs": [],
   "source": [
    "oper_prob.objectives"
   ]
  },
  {
   "cell_type": "markdown",
   "id": "c888575e",
   "metadata": {},
   "source": [
    "Again, this should be the same as if we simulated manually (e.g., using `x_to_ocost`):"
   ]
  },
  {
   "cell_type": "code",
   "execution_count": 16,
   "id": "c4f11366",
   "metadata": {
    "execution": {
     "iopub.execute_input": "2024-08-22T16:02:42.526979Z",
     "iopub.status.busy": "2024-08-22T16:02:42.526979Z",
     "iopub.status.idle": "2024-08-22T16:02:42.805662Z",
     "shell.execute_reply": "2024-08-22T16:02:42.805662Z"
    }
   },
   "outputs": [],
   "source": [
    "from examples.multirotor.opt_drone_rural import x_to_ocost\n",
    "assert oper_prob.co(1, 1, 100) == x_to_ocost([1,1], [100])[0]"
   ]
  },
  {
   "cell_type": "code",
   "execution_count": 17,
   "id": "f503596e",
   "metadata": {
    "execution": {
     "iopub.execute_input": "2024-08-22T16:02:42.806699Z",
     "iopub.status.busy": "2024-08-22T16:02:42.806699Z",
     "iopub.status.idle": "2024-08-22T16:02:43.092374Z",
     "shell.execute_reply": "2024-08-22T16:02:43.092374Z"
    }
   },
   "outputs": [],
   "source": [
    "x_to_ocost([1,1], [100])"
   ]
  },
  {
   "cell_type": "markdown",
   "id": "27304512",
   "metadata": {},
   "source": [
    "Note that we can view the results of these simulations by looking in `res` and `hist`, provided the history is being tracked. "
   ]
  },
  {
   "cell_type": "code",
   "execution_count": 18,
   "id": "dfac66dc",
   "metadata": {
    "execution": {
     "iopub.execute_input": "2024-08-22T16:02:43.092374Z",
     "iopub.status.busy": "2024-08-22T16:02:43.092374Z",
     "iopub.status.idle": "2024-08-22T16:02:43.604652Z",
     "shell.execute_reply": "2024-08-22T16:02:43.604485Z"
    }
   },
   "outputs": [],
   "source": [
    "fig, ax = oper_prob.hist.plot_line(\"flows.dofs.s.z\", \"fxns.store_ee.s.soc\", \"flows.ee_mot.s.rate\",\n",
    "                                   \"fxns.plan_path.m.mode\", \"flows.ee_1.s.rate\", 'flows.ee_mot.s.rate',\n",
    "                                   'flows.ctl.s.upward')"
   ]
  },
  {
   "cell_type": "code",
   "execution_count": 19,
   "id": "0d13cee5",
   "metadata": {
    "execution": {
     "iopub.execute_input": "2024-08-22T16:02:43.606696Z",
     "iopub.status.busy": "2024-08-22T16:02:43.606696Z",
     "iopub.status.idle": "2024-08-22T16:02:43.741633Z",
     "shell.execute_reply": "2024-08-22T16:02:43.741633Z"
    }
   },
   "outputs": [],
   "source": [
    "fig, ax = oper_prob.hist.plot_trajectories(\"dofs.s.x\", \"dofs.s.y\", \"dofs.s.z\", title='Nominal Simulation', time_groups=['nominal'])"
   ]
  },
  {
   "cell_type": "markdown",
   "id": "23cf1d98",
   "metadata": {},
   "source": [
    "Note also how the cost model changes depending on the design model (Due to weight/capacity):"
   ]
  },
  {
   "cell_type": "markdown",
   "id": "944becc3",
   "metadata": {},
   "source": [
    "## Resilience Model\n",
    "\n",
    "We can finally define a resilience optimization problem to optimize the performance over a set of scenarios.\n",
    "\n",
    "Here we define an extended parameterdomain where the resilience policy variables are now included:"
   ]
  },
  {
   "cell_type": "code",
   "execution_count": 20,
   "id": "73bbbe1c",
   "metadata": {
    "execution": {
     "iopub.execute_input": "2024-08-22T16:02:43.741633Z",
     "iopub.status.busy": "2024-08-22T16:02:43.741633Z",
     "iopub.status.idle": "2024-08-22T16:02:43.750084Z",
     "shell.execute_reply": "2024-08-22T16:02:43.750084Z"
    }
   },
   "outputs": [],
   "source": [
    "from examples.multirotor.opt_drone_rural import xr_paramfunc\n",
    "\n",
    "pdr = ParameterDomain(DroneParam)\n",
    "pdr.add_variables(\"phys_param.bat\", \"phys_param.linearch\", var_map=xd_paramfunc)\n",
    "pdr.add_variable(\"flightplan\", var_map=plan_flight)\n",
    "pdr.add_variables(\"respolicy.bat\", \"respolicy.line\", var_map=xr_paramfunc)\n",
    "pdr(1,1,50, 1,2)"
   ]
  },
  {
   "cell_type": "markdown",
   "id": "4a68651b",
   "metadata": {},
   "source": [
    "We further define the resilience simulation. Note that the fault sample `fs` is defined as single-component battery modes."
   ]
  },
  {
   "cell_type": "code",
   "execution_count": 21,
   "id": "679a0e5d",
   "metadata": {
    "execution": {
     "iopub.execute_input": "2024-08-22T16:02:43.750084Z",
     "iopub.status.busy": "2024-08-22T16:02:43.750084Z",
     "iopub.status.idle": "2024-08-22T16:02:43.756891Z",
     "shell.execute_reply": "2024-08-22T16:02:43.756386Z"
    }
   },
   "outputs": [],
   "source": [
    "from examples.multirotor.opt_drone_rural import fs\n",
    "\n",
    "res_prob = ParameterSimProblem(mdl, pdr, \"fault_sample\", fs, include_nominal=False)\n",
    "res_prob.add_result_objective(\"rcost\", \"endclass.expected_cost\")"
   ]
  },
  {
   "cell_type": "code",
   "execution_count": 22,
   "id": "7f3fe9e9",
   "metadata": {
    "execution": {
     "iopub.execute_input": "2024-08-22T16:02:43.756891Z",
     "iopub.status.busy": "2024-08-22T16:02:43.756891Z",
     "iopub.status.idle": "2024-08-22T16:02:43.764078Z",
     "shell.execute_reply": "2024-08-22T16:02:43.764078Z"
    }
   },
   "outputs": [],
   "source": [
    "fs.faultdomain"
   ]
  },
  {
   "cell_type": "markdown",
   "id": "5357622d",
   "metadata": {},
   "source": [
    "As well as the variable for the resilience policy, which, (like the operational parameters) is translated into a parameter using the function `spec_respol`:"
   ]
  },
  {
   "cell_type": "markdown",
   "id": "c6d797ef",
   "metadata": {},
   "source": [
    "We can now use the callable `rcost`:"
   ]
  },
  {
   "cell_type": "code",
   "execution_count": 23,
   "id": "5987f85a",
   "metadata": {
    "execution": {
     "iopub.execute_input": "2024-08-22T16:02:43.766608Z",
     "iopub.status.busy": "2024-08-22T16:02:43.766608Z",
     "iopub.status.idle": "2024-08-22T16:02:45.197276Z",
     "shell.execute_reply": "2024-08-22T16:02:45.197276Z"
    }
   },
   "outputs": [],
   "source": [
    "res_prob.rcost(1,1, 50, 1,1)"
   ]
  },
  {
   "cell_type": "markdown",
   "id": "ff87a072",
   "metadata": {},
   "source": [
    "This takes this long to simulate:"
   ]
  },
  {
   "cell_type": "code",
   "execution_count": 24,
   "id": "f0062118",
   "metadata": {
    "execution": {
     "iopub.execute_input": "2024-08-22T16:02:45.197276Z",
     "iopub.status.busy": "2024-08-22T16:02:45.197276Z",
     "iopub.status.idle": "2024-08-22T16:02:46.671886Z",
     "shell.execute_reply": "2024-08-22T16:02:46.671886Z"
    }
   },
   "outputs": [],
   "source": [
    "res_prob.time_execution()"
   ]
  },
  {
   "cell_type": "markdown",
   "id": "615bdc08",
   "metadata": {},
   "source": [
    "One issue with this formulation is that it assumes a static faultsample.\n",
    "\n",
    "However, since the length of the phases in the PhaseMap change, we may want to regenerate the sample with each variable value. We can do that by calling `fault_sample_from` from the `ParameterSimProblem`.\n",
    "\n",
    "Figuring out the right arguments to `fault_sample_from` is challenging, so we prototype them below using `propagate.gen_sampleapproach` to verify that the faultsample generated is what we wanted."
   ]
  },
  {
   "cell_type": "code",
   "execution_count": 25,
   "id": "d026f263",
   "metadata": {
    "execution": {
     "iopub.execute_input": "2024-08-22T16:02:46.671886Z",
     "iopub.status.busy": "2024-08-22T16:02:46.671886Z",
     "iopub.status.idle": "2024-08-22T16:02:46.682420Z",
     "shell.execute_reply": "2024-08-22T16:02:46.682420Z"
    }
   },
   "outputs": [],
   "source": [
    "from fmdtools.sim.propagate import gen_sampleapproach\n",
    "from fmdtools.analyze.phases import from_hist\n",
    "phases = from_hist(oper_prob.hist)\n",
    "app = gen_sampleapproach(mdl,\n",
    "                         faultdomains={'fd': (('singlecomp_modes', 'store_ee'), {})},\n",
    "                         faultsamples={'fs': (('fault_phases', 'fd', 'move'), {'phasemap': 'plan_path'})},\n",
    "                         get_phasemap=True, nomhist=oper_prob.hist)\n",
    "app"
   ]
  },
  {
   "cell_type": "code",
   "execution_count": 26,
   "id": "96e2cd1b",
   "metadata": {
    "execution": {
     "iopub.execute_input": "2024-08-22T16:02:46.682420Z",
     "iopub.status.busy": "2024-08-22T16:02:46.682420Z",
     "iopub.status.idle": "2024-08-22T16:02:46.689931Z",
     "shell.execute_reply": "2024-08-22T16:02:46.689931Z"
    }
   },
   "outputs": [],
   "source": [
    "app.faultsamples['fs'].phasemap"
   ]
  },
  {
   "cell_type": "code",
   "execution_count": 27,
   "id": "bb04a36c",
   "metadata": {
    "execution": {
     "iopub.execute_input": "2024-08-22T16:02:46.689931Z",
     "iopub.status.busy": "2024-08-22T16:02:46.689931Z",
     "iopub.status.idle": "2024-08-22T16:02:46.697967Z",
     "shell.execute_reply": "2024-08-22T16:02:46.697967Z"
    }
   },
   "outputs": [],
   "source": [
    "app.scenarios()"
   ]
  },
  {
   "cell_type": "markdown",
   "id": "a7320087",
   "metadata": {},
   "source": [
    "We may also want to provide a multiprocessing pool to speed the simulation up:"
   ]
  },
  {
   "cell_type": "code",
   "execution_count": 28,
   "id": "06f179df",
   "metadata": {
    "execution": {
     "iopub.execute_input": "2024-08-22T16:02:46.697967Z",
     "iopub.status.busy": "2024-08-22T16:02:46.697967Z",
     "iopub.status.idle": "2024-08-22T16:02:46.724786Z",
     "shell.execute_reply": "2024-08-22T16:02:46.724786Z"
    }
   },
   "outputs": [],
   "source": [
    "from multiprocessing import Pool\n",
    "pool = Pool(5)"
   ]
  },
  {
   "cell_type": "markdown",
   "id": "8f89fb94",
   "metadata": {},
   "source": [
    "Now that we know what arguments to use, we can construct the resilience problem:"
   ]
  },
  {
   "cell_type": "code",
   "execution_count": 29,
   "id": "0a788349",
   "metadata": {
    "execution": {
     "iopub.execute_input": "2024-08-22T16:02:46.726796Z",
     "iopub.status.busy": "2024-08-22T16:02:46.726796Z",
     "iopub.status.idle": "2024-08-22T16:02:46.733435Z",
     "shell.execute_reply": "2024-08-22T16:02:46.733435Z"
    }
   },
   "outputs": [],
   "source": [
    "res_prob = ParameterSimProblem(mdl, pdr, \"fault_sample_from\",\n",
    "                               faultdomains={'fd': (('singlecomp_modes', 'store_ee'), {})},\n",
    "                               faultsamples={'fs': (('fault_phases', 'fd', 'move'), {'phasemap': 'plan_path'})},\n",
    "                               get_phasemap=True,\n",
    "                               include_nominal=False,\n",
    "                               pool=pool,\n",
    "                               close_pool=False,\n",
    "                               warn_faults=False)\n",
    "res_prob.add_result_objective(\"rcost\", \"endclass.expected_cost\")"
   ]
  },
  {
   "cell_type": "code",
   "execution_count": 30,
   "id": "d787fa22",
   "metadata": {
    "execution": {
     "iopub.execute_input": "2024-08-22T16:02:46.737004Z",
     "iopub.status.busy": "2024-08-22T16:02:46.737004Z",
     "iopub.status.idle": "2024-08-22T16:02:49.780831Z",
     "shell.execute_reply": "2024-08-22T16:02:49.780831Z"
    }
   },
   "outputs": [],
   "source": [
    "res_prob.rcost(2, 2, 40, 0, 1)"
   ]
  },
  {
   "cell_type": "code",
   "execution_count": 31,
   "id": "b45c4678",
   "metadata": {
    "execution": {
     "iopub.execute_input": "2024-08-22T16:02:49.780831Z",
     "iopub.status.busy": "2024-08-22T16:02:49.780831Z",
     "iopub.status.idle": "2024-08-22T16:02:59.250861Z",
     "shell.execute_reply": "2024-08-22T16:02:59.250861Z"
    }
   },
   "outputs": [],
   "source": [
    "res_prob.time_execution(reps=10)"
   ]
  },
  {
   "cell_type": "markdown",
   "id": "15bd1f5a",
   "metadata": {},
   "source": [
    "Note that this should produce identical values to the manually-constructed `x_to_rcost`:"
   ]
  },
  {
   "cell_type": "code",
   "execution_count": 32,
   "id": "9a5ef7db",
   "metadata": {
    "execution": {
     "iopub.execute_input": "2024-08-22T16:02:59.250861Z",
     "iopub.status.busy": "2024-08-22T16:02:59.250861Z",
     "iopub.status.idle": "2024-08-22T16:03:01.658599Z",
     "shell.execute_reply": "2024-08-22T16:03:01.658599Z"
    }
   },
   "outputs": [],
   "source": [
    "from examples.multirotor.opt_drone_rural import x_to_rcost\n",
    "a = res_prob.rcost(2, 2, 40, 2, 2)\n",
    "b = x_to_rcost([2, 2], [40], [2, 2])"
   ]
  },
  {
   "cell_type": "code",
   "execution_count": 33,
   "id": "a7f16d58",
   "metadata": {
    "execution": {
     "iopub.execute_input": "2024-08-22T16:03:01.658599Z",
     "iopub.status.busy": "2024-08-22T16:03:01.658599Z",
     "iopub.status.idle": "2024-08-22T16:03:01.666606Z",
     "shell.execute_reply": "2024-08-22T16:03:01.666606Z"
    }
   },
   "outputs": [],
   "source": [
    "assert abs(a - b) < 0.00001"
   ]
  },
  {
   "cell_type": "markdown",
   "id": "3685ff4e",
   "metadata": {},
   "source": [
    "## Combined Simulation/Optimization\n",
    "\n",
    "These optimization problems are clearly related, and so we may want to optimize them together. We can combine them into one big problem using `ProblemArchitecture`:"
   ]
  },
  {
   "cell_type": "code",
   "execution_count": 34,
   "id": "715ab24d",
   "metadata": {
    "execution": {
     "iopub.execute_input": "2024-08-22T16:03:01.666606Z",
     "iopub.status.busy": "2024-08-22T16:03:01.666606Z",
     "iopub.status.idle": "2024-08-22T16:03:01.672487Z",
     "shell.execute_reply": "2024-08-22T16:03:01.672487Z"
    }
   },
   "outputs": [],
   "source": [
    "from fmdtools.sim.search import ProblemArchitecture\n",
    "prob_arch = ProblemArchitecture()"
   ]
  },
  {
   "cell_type": "markdown",
   "id": "17313d7f",
   "metadata": {},
   "source": [
    "To set up a problem architecture, we should first define some shared variables. In this prolbem it is the battery and line architecture, as well as the flightplan (z):"
   ]
  },
  {
   "cell_type": "code",
   "execution_count": 35,
   "id": "a545590b",
   "metadata": {
    "execution": {
     "iopub.execute_input": "2024-08-22T16:03:01.672487Z",
     "iopub.status.busy": "2024-08-22T16:03:01.672487Z",
     "iopub.status.idle": "2024-08-22T16:03:01.678366Z",
     "shell.execute_reply": "2024-08-22T16:03:01.678366Z"
    }
   },
   "outputs": [],
   "source": [
    "prob_arch.add_connector_variable(\"xd\", \"bat\", \"line\")\n",
    "prob_arch.add_connector_variable(\"xo\", \"flightplan\")"
   ]
  },
  {
   "cell_type": "markdown",
   "id": "8caa83b6",
   "metadata": {},
   "source": [
    "We can then add the problems using `add_problem`, specifying what connectors for each correspond to inputs and outputs of the problem.\n",
    "\n",
    "In this case, the design problem outputs the battery and line architecture to both the operational and resilience problem while the operational problem outputs the flightplan to the resilience problem."
   ]
  },
  {
   "cell_type": "code",
   "execution_count": 36,
   "id": "d1e75dd0",
   "metadata": {
    "execution": {
     "iopub.execute_input": "2024-08-22T16:03:01.678366Z",
     "iopub.status.busy": "2024-08-22T16:03:01.678366Z",
     "iopub.status.idle": "2024-08-22T16:03:01.684981Z",
     "shell.execute_reply": "2024-08-22T16:03:01.684981Z"
    }
   },
   "outputs": [],
   "source": [
    "prob_arch.add_problem(\"des\", des_prob, outputs={\"xd\": (\"bat\", \"line\")})\n",
    "prob_arch.add_problem(\"oper\", oper_prob,\n",
    "                      inputs={\"xd\": (\"phys_param.bat\", \"phys_param.linearch\")},\n",
    "                      outputs={\"xo\": (\"flightplan\",)})\n",
    "prob_arch.add_problem(\"res\", res_prob,\n",
    "                      inputs={\"xd\": (\"phys_param.bat\", \"phys_param.linearch\"),\n",
    "                              \"xo\": (\"flightplan\",)})"
   ]
  },
  {
   "cell_type": "markdown",
   "id": "4da795f4",
   "metadata": {},
   "source": [
    "We can visualize this architecture using:"
   ]
  },
  {
   "cell_type": "code",
   "execution_count": 37,
   "id": "c95a140b",
   "metadata": {
    "execution": {
     "iopub.execute_input": "2024-08-22T16:03:01.687007Z",
     "iopub.status.busy": "2024-08-22T16:03:01.687007Z",
     "iopub.status.idle": "2024-08-22T16:03:01.691651Z",
     "shell.execute_reply": "2024-08-22T16:03:01.691651Z"
    }
   },
   "outputs": [],
   "source": [
    "prob_arch"
   ]
  },
  {
   "cell_type": "markdown",
   "id": "aac1e7af",
   "metadata": {},
   "source": [
    "or:"
   ]
  },
  {
   "cell_type": "code",
   "execution_count": 38,
   "id": "5469ff64",
   "metadata": {
    "execution": {
     "iopub.execute_input": "2024-08-22T16:03:01.691651Z",
     "iopub.status.busy": "2024-08-22T16:03:01.691651Z",
     "iopub.status.idle": "2024-08-22T16:03:01.851984Z",
     "shell.execute_reply": "2024-08-22T16:03:01.851984Z"
    }
   },
   "outputs": [],
   "source": [
    "fig, ax = prob_arch.show_sequence()"
   ]
  },
  {
   "cell_type": "markdown",
   "id": "f34a376c",
   "metadata": {},
   "source": [
    "We can now interact with callables for each of the three objectives:"
   ]
  },
  {
   "cell_type": "code",
   "execution_count": 39,
   "id": "da0403a3",
   "metadata": {
    "execution": {
     "iopub.execute_input": "2024-08-22T16:03:01.851984Z",
     "iopub.status.busy": "2024-08-22T16:03:01.851984Z",
     "iopub.status.idle": "2024-08-22T16:03:01.860943Z",
     "shell.execute_reply": "2024-08-22T16:03:01.860943Z"
    }
   },
   "outputs": [],
   "source": [
    "prob_arch.des_cd(1,1)"
   ]
  },
  {
   "cell_type": "code",
   "execution_count": 40,
   "id": "c38970f2",
   "metadata": {
    "execution": {
     "iopub.execute_input": "2024-08-22T16:03:01.860943Z",
     "iopub.status.busy": "2024-08-22T16:03:01.860943Z",
     "iopub.status.idle": "2024-08-22T16:03:02.148549Z",
     "shell.execute_reply": "2024-08-22T16:03:02.148549Z"
    }
   },
   "outputs": [],
   "source": [
    "prob_arch.oper_co(50)"
   ]
  },
  {
   "cell_type": "code",
   "execution_count": 41,
   "id": "7304ac36",
   "metadata": {
    "execution": {
     "iopub.execute_input": "2024-08-22T16:03:02.148549Z",
     "iopub.status.busy": "2024-08-22T16:03:02.148549Z",
     "iopub.status.idle": "2024-08-22T16:03:03.005360Z",
     "shell.execute_reply": "2024-08-22T16:03:03.005360Z"
    }
   },
   "outputs": [],
   "source": [
    "prob_arch.res_rcost(1, 1)"
   ]
  },
  {
   "cell_type": "markdown",
   "id": "7a94a949",
   "metadata": {},
   "source": [
    "These can also be called in terms of the full set of variables:"
   ]
  },
  {
   "cell_type": "code",
   "execution_count": 42,
   "id": "ffdf46b7",
   "metadata": {
    "execution": {
     "iopub.execute_input": "2024-08-22T16:03:03.006898Z",
     "iopub.status.busy": "2024-08-22T16:03:03.006898Z",
     "iopub.status.idle": "2024-08-22T16:03:03.012819Z",
     "shell.execute_reply": "2024-08-22T16:03:03.012819Z"
    }
   },
   "outputs": [],
   "source": [
    "prob_arch.res_rcost_full(1,1, 50, 1, 1)"
   ]
  },
  {
   "cell_type": "markdown",
   "id": "2e6d10cb",
   "metadata": {},
   "source": [
    "We can calculate the total computational time of this below:"
   ]
  },
  {
   "cell_type": "code",
   "execution_count": 43,
   "id": "18854238",
   "metadata": {
    "execution": {
     "iopub.execute_input": "2024-08-22T16:03:03.015365Z",
     "iopub.status.busy": "2024-08-22T16:03:03.015365Z",
     "iopub.status.idle": "2024-08-22T16:03:14.680850Z",
     "shell.execute_reply": "2024-08-22T16:03:14.680850Z"
    }
   },
   "outputs": [],
   "source": [
    "prob_arch.time_execution(reps=10)"
   ]
  },
  {
   "cell_type": "code",
   "execution_count": 44,
   "id": "39e729c5",
   "metadata": {
    "execution": {
     "iopub.execute_input": "2024-08-22T16:03:14.683861Z",
     "iopub.status.busy": "2024-08-22T16:03:14.680850Z",
     "iopub.status.idle": "2024-08-22T16:03:14.687523Z",
     "shell.execute_reply": "2024-08-22T16:03:14.687523Z"
    }
   },
   "outputs": [],
   "source": [
    "prob_arch.constraints"
   ]
  },
  {
   "cell_type": "markdown",
   "id": "c36ae2b1",
   "metadata": {},
   "source": [
    "### Optimization\n",
    "Below we show a very simple optimization of these variables using brute force search. Much more sophisticated architectures/methods can be used on this problem, this code is mainly to demonstrate how these disciplines can be used together as a single objective/problem."
   ]
  },
  {
   "cell_type": "code",
   "execution_count": 45,
   "id": "658cc477",
   "metadata": {
    "execution": {
     "iopub.execute_input": "2024-08-22T16:03:14.687523Z",
     "iopub.status.busy": "2024-08-22T16:03:14.687523Z",
     "iopub.status.idle": "2024-08-22T16:03:14.695841Z",
     "shell.execute_reply": "2024-08-22T16:03:14.695841Z"
    }
   },
   "outputs": [],
   "source": [
    "import itertools\n",
    "def brute_search(prob_arch, Xranges = [[0,4,1],[0,3,1],[10, 130, 10],[0,4,1],[0,4,1]], skip_iter = False):\n",
    "    Xvals = [ e for e in itertools.product(*(range(x[0],x[1],x[2]) for x in Xranges))]\n",
    "    opt_hist = []\n",
    "    iter = 0\n",
    "    for X in Xvals:\n",
    "        dcost = prob_arch.des_cd(*X[:2])\n",
    "        ocost = prob_arch.oper_co(X[2])\n",
    "        rcost = prob_arch.res_rcost(*X[3:])\n",
    "        tot_cost = dcost + ocost + rcost\n",
    "        is_feasible = all([v<=0.0 for v in prob_arch.constraints.values()])\n",
    "        if not opt_hist:\n",
    "            opt_hist= [[tot_cost, X]]\n",
    "        elif tot_cost < opt_hist[-1][0] and is_feasible:\n",
    "            opt_hist.append([tot_cost, X])\n",
    "        if skip_iter <= iter and skip_iter:\n",
    "            break\n",
    "        else:\n",
    "            iter += 1\n",
    "\n",
    "    return opt_hist"
   ]
  },
  {
   "cell_type": "code",
   "execution_count": 46,
   "id": "feffb3df",
   "metadata": {
    "execution": {
     "iopub.execute_input": "2024-08-22T16:03:14.696846Z",
     "iopub.status.busy": "2024-08-22T16:03:14.696846Z",
     "iopub.status.idle": "2024-08-22T16:03:31.339603Z",
     "shell.execute_reply": "2024-08-22T16:03:31.339603Z"
    }
   },
   "outputs": [],
   "source": [
    "opt_hist = brute_search(prob_arch, skip_iter=20)"
   ]
  },
  {
   "cell_type": "markdown",
   "id": "879f7c81",
   "metadata": {},
   "source": [
    "Note that given the sim time of ~0.5s, the full execution time should take:"
   ]
  },
  {
   "cell_type": "code",
   "execution_count": 47,
   "id": "d63c0099",
   "metadata": {
    "execution": {
     "iopub.execute_input": "2024-08-22T16:03:31.339603Z",
     "iopub.status.busy": "2024-08-22T16:03:31.339603Z",
     "iopub.status.idle": "2024-08-22T16:03:31.347955Z",
     "shell.execute_reply": "2024-08-22T16:03:31.347955Z"
    }
   },
   "outputs": [],
   "source": [
    "Xranges = [[0,4,1],[0,3,1],[10, 130, 10],[0,4,1],[0,4,1]]\n",
    "Xvals = [ e for e in itertools.product(*(range(x[0],x[1],x[2]) for x in Xranges))]\n",
    "len(Xvals) * 0.4 /60"
   ]
  },
  {
   "cell_type": "code",
   "execution_count": 48,
   "id": "cf794d00",
   "metadata": {
    "execution": {
     "iopub.execute_input": "2024-08-22T16:03:31.347955Z",
     "iopub.status.busy": "2024-08-22T16:03:31.347955Z",
     "iopub.status.idle": "2024-08-22T16:03:31.352742Z",
     "shell.execute_reply": "2024-08-22T16:03:31.352742Z"
    }
   },
   "outputs": [],
   "source": [
    "# opt_hist = brute_search(skip_iter=10)"
   ]
  },
  {
   "cell_type": "markdown",
   "id": "81460b7e",
   "metadata": {},
   "source": [
    "The full history of objective values can be viewed in `iter_hist`:"
   ]
  },
  {
   "cell_type": "code",
   "execution_count": 49,
   "id": "053d0cfe",
   "metadata": {
    "execution": {
     "iopub.execute_input": "2024-08-22T16:03:31.352742Z",
     "iopub.status.busy": "2024-08-22T16:03:31.352742Z",
     "iopub.status.idle": "2024-08-22T16:03:31.359475Z",
     "shell.execute_reply": "2024-08-22T16:03:31.359475Z"
    }
   },
   "outputs": [],
   "source": [
    "prob_arch.iter_hist"
   ]
  },
  {
   "cell_type": "markdown",
   "id": "dfcad388",
   "metadata": {},
   "source": [
    "see:"
   ]
  },
  {
   "cell_type": "code",
   "execution_count": 50,
   "id": "81c49675",
   "metadata": {
    "execution": {
     "iopub.execute_input": "2024-08-22T16:03:31.359475Z",
     "iopub.status.busy": "2024-08-22T16:03:31.359475Z",
     "iopub.status.idle": "2024-08-22T16:03:31.632288Z",
     "shell.execute_reply": "2024-08-22T16:03:31.632288Z"
    }
   },
   "outputs": [],
   "source": [
    "prob_arch.iter_hist.plot_line(\"objectives.res_rcost\", \"objectives.des_cd\", \"objectives.oper_co\")"
   ]
  },
  {
   "cell_type": "markdown",
   "id": "918a11c9",
   "metadata": {},
   "source": [
    "(of course, we also recorded a history in the function)"
   ]
  },
  {
   "cell_type": "code",
   "execution_count": 51,
   "id": "5bb30634",
   "metadata": {
    "execution": {
     "iopub.execute_input": "2024-08-22T16:03:31.632288Z",
     "iopub.status.busy": "2024-08-22T16:03:31.632288Z",
     "iopub.status.idle": "2024-08-22T16:03:31.639917Z",
     "shell.execute_reply": "2024-08-22T16:03:31.639917Z"
    }
   },
   "outputs": [],
   "source": [
    "opt_hist"
   ]
  },
  {
   "cell_type": "code",
   "execution_count": 52,
   "id": "83cb7957",
   "metadata": {
    "execution": {
     "iopub.execute_input": "2024-08-22T16:03:31.639917Z",
     "iopub.status.busy": "2024-08-22T16:03:31.639917Z",
     "iopub.status.idle": "2024-08-22T16:03:31.669142Z",
     "shell.execute_reply": "2024-08-22T16:03:31.669142Z"
    }
   },
   "outputs": [],
   "source": [
    "pool.close()\n",
    "pool.terminate()"
   ]
  },
  {
   "cell_type": "markdown",
   "id": "2848d0bb",
   "metadata": {},
   "source": [
    "This illustrates the use of a monolithic optimization architecture for exploring the variables in these sims. We could create more, per the references, or use specialized methods to speed up the search:\n",
    "- e.g., using one of the architectures (bilevel, multi-stage, etc) defined previously\n",
    "- searching the variables with a specialized optimization method (e.g., tree search)\n",
    "- Setting the policy as a disturbance, rather than a parameter. This would enable staged execution of the resilience scenarios, greatly decreasing computational time."
   ]
  }
 ],
 "metadata": {
  "kernelspec": {
   "display_name": "Python 3 (ipykernel)",
   "language": "python",
   "name": "python3"
  },
  "language_info": {
   "codemirror_mode": {
    "name": "ipython",
    "version": 3
   },
   "file_extension": ".py",
   "mimetype": "text/x-python",
   "name": "python",
   "nbconvert_exporter": "python",
   "pygments_lexer": "ipython3",
   "version": "3.11.9"
  }
 },
 "nbformat": 4,
 "nbformat_minor": 5
}
