{
 "cells": [
  {
   "cell_type": "markdown",
   "id": "cd4f0a15",
   "metadata": {},
   "source": [
    "# Action Sequence Graph Tutorial\n",
    "\n",
    "This tutorial covers use of the Action Sequence Graph in the FxnBlock class, which is useful for representing a Function's progress through a sequence of actions (e.g., modes of operation, etc).."
   ]
  },
  {
   "cell_type": "code",
   "execution_count": 1,
   "id": "aaeffd7f",
   "metadata": {},
   "outputs": [],
   "source": [
    "from fmdtools.define.common import State\n",
    "from fmdtools.define.block import FxnBlock, Action, Mode, ASG\n",
    "from fmdtools.define.model import Model\n",
    "from fmdtools.define.flow import Flow\n",
    "import fmdtools.analyze as rd\n",
    "import fmdtools.sim.propagate as prop"
   ]
  },
  {
   "cell_type": "markdown",
   "id": "8431ee3c",
   "metadata": {},
   "source": [
    "Action sequence graphs are used within a function block to represent the actions that the function performs and their sequence. Actions in an ASG are respresented by `Action` blocks, which are similar to function and component blocks in that they have:\n",
    "- flow connections\n",
    "- modes, and\n",
    "- behaviors\n",
    "\n",
    "Flow connections are routed to the action in the function block definition and represent the *shared variables* between the actions.\n",
    "\n",
    "Modes are similar to function modes and are instantiated (as they are in components) at both the Function and Action level. Using the `name=` option enables one to tag these modes as action modes at the function level while using the same local name"
   ]
  },
  {
   "cell_type": "markdown",
   "id": "c51db872",
   "metadata": {},
   "source": [
    "Below we define the states to performed by the ASG:\n",
    "- Outcome, which tracks the number of actions and perceptions performed by the ASG\n",
    "- HazardState, which specifies whether a hazard is present, percieved, or mitigated"
   ]
  },
  {
   "cell_type": "code",
   "execution_count": 2,
   "id": "7a4209f1",
   "metadata": {},
   "outputs": [],
   "source": [
    "class OutcomeStates(State):\n",
    "    num_perceptions: int=0\n",
    "    num_actions:     int=0\n",
    "class Outcome(Flow):\n",
    "    _init_s = OutcomeStates\n",
    "    \n",
    "class HazardState(State):\n",
    "    present:    bool=False\n",
    "    percieved:  bool=False\n",
    "    mitigated:  bool=False\n",
    "class Hazard(Flow):\n",
    "    _init_s = HazardState"
   ]
  },
  {
   "cell_type": "markdown",
   "id": "8404fc4a",
   "metadata": {},
   "source": [
    "Below we define three actions for use in a given model:\n",
    "- Perceive, a user's perception abilities/behaviors. In this function the user percieves a hazard (unless their perception fails)\n",
    "- Act, the user's action which they perform to mitigate the hazard.\n",
    "- Done, the user's state when they are done performing the action."
   ]
  },
  {
   "cell_type": "code",
   "execution_count": 3,
   "id": "6ab709bc",
   "metadata": {},
   "outputs": [],
   "source": [
    "class ActionMode(Mode):\n",
    "    faultparams=('failed','unable')\n",
    "    exclusive=True\n",
    "class Perceive(Action):\n",
    "    _init_m = ActionMode\n",
    "    _init_hazard = Hazard\n",
    "    _init_outcome = Outcome\n",
    "    def behavior(self,time):\n",
    "        if not self.m.in_mode('failed', 'unable'): \n",
    "            self.hazard.s.percieved = self.hazard.s.present\n",
    "            self.outcome.s.num_perceptions+=self.hazard.s.percieved\n",
    "        else:\n",
    "            self.hazard.s.percieved = False\n",
    "            self.m.remove_fault('failed', 'nom')\n",
    "    def percieved(self):\n",
    "        return self.hazard.s.percieved\n",
    "class Act(Action):\n",
    "    _init_m = ActionMode\n",
    "    _init_hazard = Hazard\n",
    "    _init_outcome = Outcome\n",
    "    def behavior(self,time):\n",
    "        if not self.m.in_mode('failed', 'unable'): \n",
    "            self.outcome.s.num_actions+=1\n",
    "            self.hazard.s.mitigated=True\n",
    "        elif self.m.in_mode('failed'): \n",
    "            self.hazard.s.mitigated=False\n",
    "            self.m.remove_fault('failed', 'nom')\n",
    "        else: self.hazard.s.mitigated=False\n",
    "    def acted(self):\n",
    "        return not self.m.in_mode('failed')\n",
    "class Done(Action):\n",
    "    _init_hazard = Hazard\n",
    "    def behavior(self,time):\n",
    "        if not self.hazard.s.present: self.hazard.s.mitigated=False\n",
    "    def ready(self):\n",
    "        return not self.hazard.s.present"
   ]
  },
  {
   "cell_type": "markdown",
   "id": "1b7b2d39",
   "metadata": {},
   "source": [
    "To proceed through the sequence of actions, *conditions* must be met between each action. In these actions, we have defined the following conditions:\n",
    "- Percieve.percieved: perception is done if the hazard is percieved\n",
    "- Act.acted: the action is complete if the action was performed\n",
    "- Done.complete: the hazard mitigation is over (and mitigated state is reset to False)\n",
    "\n",
    "To create the overall ASG structure, the following adds the flows, actions, and conditions to the ASG class"
   ]
  },
  {
   "cell_type": "code",
   "execution_count": 4,
   "id": "164b4ba6",
   "metadata": {},
   "outputs": [],
   "source": [
    "class Human(ASG):\n",
    "    initial_action=\"perceive\"\n",
    "    _init_hazard = Hazard    # flows from external fxn/model should be defined as a part of the class definition                \n",
    "    def __init__(self, *args, **kwargs):\n",
    "        super().__init__(*args, **kwargs)\n",
    "        self.add_flow(\"outcome\",    fclass=Outcome) #flows can be added in the ASG for custom flow architectures.\n",
    "        \n",
    "        \n",
    "        self.add_act(\"perceive\",    Perceive,   \"outcome\", \"hazard\")\n",
    "        self.add_act(\"act\",         Act,        \"outcome\", \"hazard\")\n",
    "        self.add_act(\"done\",        Done,       \"outcome\", \"hazard\")\n",
    "        \n",
    "        self.add_cond(\"perceive\",   \"act\",      \"percieved\",    self.actions['perceive'].percieved)\n",
    "        self.add_cond(\"act\",        \"done\",     \"acted\",        self.actions['act'].acted)\n",
    "        self.add_cond(\"done\",       \"perceive\", \"ready\",        self.actions['done'].ready)\n",
    "        self.build()"
   ]
  },
  {
   "cell_type": "markdown",
   "id": "2eaf0b20",
   "metadata": {},
   "source": [
    "Note the use of the following methods:\n",
    "- add_flow adds a flow so it can pass variables between actions. Here *Outcome* is an internal flow, while *Hazard* is an external flow."
   ]
  },
  {
   "cell_type": "code",
   "execution_count": 5,
   "id": "7140746c",
   "metadata": {},
   "outputs": [
    {
     "name": "stdout",
     "output_type": "stream",
     "text": [
      "Help on function add_flow in module fmdtools.define.block:\n",
      "\n",
      "add_flow(self, flowname, fclass=<class 'fmdtools.define.flow.Flow'>, p={}, s={}, flowtype='')\n",
      "    Adds a flow with given attributes to ASG. Used to enable a flexible\n",
      "    internal flow architecture in the ASG.\n",
      "    \n",
      "    Parameters\n",
      "    ----------\n",
      "    flowname : str\n",
      "        Unique flow name to give the flow in the model\n",
      "    fclass : Class, optional\n",
      "        Class to instantiate (e.g. CommsFlow, MultiFlow). Default is Flow.\n",
      "        Class must take flowname, flowdict, flowtype as input to __init__()\n",
      "        May alternatively provide already-instanced object.\n",
      "    p : dict, optional\n",
      "        Parameter dictionary to instantiate the flow with\n",
      "    s : dict, optional\n",
      "        State dictionary to overwrite Flow default state values with\n",
      "    flowtype : str, optional\n",
      "        Denotes type for class (e.g. 'energy,' 'material,', 'signal')\n",
      "\n"
     ]
    }
   ],
   "source": [
    "help(ASG.add_flow)"
   ]
  },
  {
   "cell_type": "markdown",
   "id": "a977c6ae",
   "metadata": {},
   "source": [
    "- add_act adds the action to the function and hands it the given flows and parameters. Here the actions are \"Percieve\", \"Act\", and \"Done\""
   ]
  },
  {
   "cell_type": "code",
   "execution_count": 6,
   "id": "306b2223",
   "metadata": {},
   "outputs": [
    {
     "name": "stdout",
     "output_type": "stream",
     "text": [
      "Help on function add_act in module fmdtools.define.block:\n",
      "\n",
      "add_act(self, name, actclass, *flownames, duration=0.0, **params)\n",
      "    Associate an Action with the Function Block for use in the Action Sequence Graph\n",
      "    \n",
      "    Parameters\n",
      "    ----------\n",
      "    name : str\n",
      "        Internal Name for the Action\n",
      "    action : Action\n",
      "        Action class to instantiate\n",
      "    *flows : flow\n",
      "        Flows (optional) which connect the actions\n",
      "    **params : any\n",
      "        parameters to instantiate the Action with.\n",
      "\n"
     ]
    }
   ],
   "source": [
    "help(ASG.add_act)"
   ]
  },
  {
   "cell_type": "markdown",
   "id": "8153e9f4",
   "metadata": {},
   "source": [
    "- add_cond specifies the conditions for going from one action to another."
   ]
  },
  {
   "cell_type": "code",
   "execution_count": 7,
   "id": "5d0f05b2",
   "metadata": {},
   "outputs": [
    {
     "name": "stdout",
     "output_type": "stream",
     "text": [
      "Help on function add_cond in module fmdtools.define.block:\n",
      "\n",
      "add_cond(self, start_action, end_action, name='auto', condition='pass')\n",
      "    Associates a Condition with the Function Block for use in the Action Sequence Graph\n",
      "    \n",
      "    Parameters\n",
      "    ----------\n",
      "    start_action : str\n",
      "        Action where the condition is checked\n",
      "    end_action : str\n",
      "        Action that the condition leads to.\n",
      "    name : str\n",
      "        Name for the condition. Defaults to numbered conditions if none are provided.\n",
      "    condition : method\n",
      "        Method in the class to use as a condition. Defaults to self.condition_pass if none are provided\n",
      "\n"
     ]
    }
   ],
   "source": [
    "help(ASG.add_cond)"
   ]
  },
  {
   "cell_type": "markdown",
   "id": "3b915b84",
   "metadata": {},
   "source": [
    "- ASG.build finally constructs the structure of the ASG (see: self.action_graph and self.flow_graph) and determines the settings for the simulation. In DetectHazard, default options are used, with the first action specified as \"Percieve\" and also with it specified that the actions propagate in the dynamic step (rather than static step)"
   ]
  },
  {
   "cell_type": "code",
   "execution_count": 8,
   "id": "1fbb218f",
   "metadata": {},
   "outputs": [
    {
     "name": "stdout",
     "output_type": "stream",
     "text": [
      "Help on function build in module fmdtools.define.block:\n",
      "\n",
      "build(self)\n",
      "\n"
     ]
    }
   ],
   "source": [
    "help(ASG.build)"
   ]
  },
  {
   "cell_type": "markdown",
   "id": "04a5219b",
   "metadata": {},
   "source": [
    "- ASG.show can then be used to visualize the graph"
   ]
  },
  {
   "cell_type": "code",
   "execution_count": 9,
   "id": "c9500405",
   "metadata": {},
   "outputs": [
    {
     "name": "stdout",
     "output_type": "stream",
     "text": [
      "Help on function show in module fmdtools.define.block:\n",
      "\n",
      "show(self, gtype='combined', with_cond_labels=True, pos=[])\n",
      "    Shows a visual representation of the internal Action Sequence Graph of the Function Block\n",
      "    \n",
      "    Parameters\n",
      "    ----------\n",
      "    gtype : 'combined'/'flows'/'actions'\n",
      "        Gives a graphical representation of the ASG. Default is 'combined'\n",
      "        - 'actions'     (for function input):    plots the sequence of actions in the function's Action Sequence Graph\n",
      "        - 'flows'       (for function input):    plots the action/flow connections in the function's Action Sequence Graph\n",
      "        - 'combined'    (for function input):    plots both the sequence of actions in the functions ASG and action/flow connections\n",
      "    with_cond_labels: Bool\n",
      "        Whether or not to label the conditions\n",
      "    pos : dict\n",
      "        Dictionary of node positions for actions/flows\n",
      "\n"
     ]
    }
   ],
   "source": [
    "help(ASG.show)"
   ]
  },
  {
   "cell_type": "code",
   "execution_count": 10,
   "id": "4607704d",
   "metadata": {},
   "outputs": [
    {
     "data": {
      "text/plain": [
       "Human(actions={'perceive': perceive Perceive action: ({'mode': 'nominal'}, set()), 'act': act Act action: ({'mode': 'nominal'}, set()), 'done': done Done action: ({'mode': 'nominal'}, set())}, action_graph=<networkx.classes.digraph.DiGraph object at 0x0000027D0FECF850>, flow_graph=<networkx.classes.graph.Graph object at 0x0000027D0FECF070>, conditions={'percieved': <bound method Perceive.percieved of perceive Perceive action: ({'mode': 'nominal'}, set())>, 'acted': <bound method Act.acted of act Act action: ({'mode': 'nominal'}, set())>, 'ready': <bound method Done.ready of done Done action: ({'mode': 'nominal'}, set())>}, faultmodes={'perceive_failed': 'perceive', 'perceive_unable': 'perceive', 'act_failed': 'act', 'act_unable': 'act'}, flows={'hazard': hazard generic flow: HazardState(present=False, percieved=False, mitigated=False), 'outcome': outcome outcome flow: OutcomeStates(num_perceptions=0, num_actions=0)}, active_actions={'perceive'}, pos={'perceive': array([-1.   , -0.375]), 'outcome': array([ 0.875, -0.375]), 'hazard': array([-0.0625,  0.25  ]), 'act': array([ 0.25  , -0.0625]), 'done': array([-0.0625,  0.5625])})"
      ]
     },
     "execution_count": 10,
     "metadata": {},
     "output_type": "execute_result"
    }
   ],
   "source": [
    "h = Human()\n",
    "h"
   ]
  },
  {
   "cell_type": "code",
   "execution_count": 11,
   "id": "ba43465c",
   "metadata": {},
   "outputs": [
    {
     "data": {
      "image/png": "[encoded data removed]",
      "text/plain": [
       "<Figure size 432x288 with 1 Axes>"
      ]
     },
     "metadata": {},
     "output_type": "display_data"
    }
   ],
   "source": [
    "fig = h.show()"
   ]
  },
  {
   "cell_type": "markdown",
   "id": "55512607",
   "metadata": {},
   "source": [
    "As shown, the \"Percieve\" action is active (green), while the inactive actions are shown in blue. This action is active because it was defined as initial_action in the ASG definition.\n",
    "\n",
    "Below we first instantiate the function to how how it (and the ASG) simulates on its own "
   ]
  },
  {
   "cell_type": "code",
   "execution_count": 12,
   "id": "cfce5eb9",
   "metadata": {},
   "outputs": [],
   "source": [
    "class DetectHazard(FxnBlock):\n",
    "    _init_a =           Human\n",
    "    _init_hazard=       Hazard"
   ]
  },
  {
   "cell_type": "markdown",
   "id": "0bf7d234",
   "metadata": {},
   "source": [
    "If we update the action, we can see the ASG progress between states:"
   ]
  },
  {
   "cell_type": "code",
   "execution_count": 13,
   "id": "7d14d77f",
   "metadata": {},
   "outputs": [
    {
     "data": {
      "text/plain": [
       "hazard generic flow: HazardState(present=False, percieved=False, mitigated=False)"
      ]
     },
     "execution_count": 13,
     "metadata": {},
     "output_type": "execute_result"
    }
   ],
   "source": [
    "ex_fxn = DetectHazard('detect_hazard')\n",
    "ex_fxn.set_timestep(local_tstep=1.0)\n",
    "\n",
    "ex_fxn.a.flows['hazard']"
   ]
  },
  {
   "cell_type": "code",
   "execution_count": 14,
   "id": "d9764630",
   "metadata": {},
   "outputs": [],
   "source": [
    "ex_fxn.a.flows['hazard'].s.present=True\n",
    "ex_fxn.updatefxn('dynamic', time= 1)"
   ]
  },
  {
   "cell_type": "code",
   "execution_count": 15,
   "id": "b7b91f58",
   "metadata": {},
   "outputs": [
    {
     "data": {
      "image/png": "[encoded data removed]",
      "text/plain": [
       "<Figure size 432x288 with 1 Axes>"
      ]
     },
     "metadata": {},
     "output_type": "display_data"
    }
   ],
   "source": [
    "fig = ex_fxn.a.show()"
   ]
  },
  {
   "cell_type": "code",
   "execution_count": 16,
   "id": "c8063413",
   "metadata": {},
   "outputs": [
    {
     "data": {
      "text/plain": [
       "hazard generic flow: HazardState(present=True, percieved=True, mitigated=True)"
      ]
     },
     "execution_count": 16,
     "metadata": {},
     "output_type": "execute_result"
    }
   ],
   "source": [
    "ex_fxn.a.flows['hazard']"
   ]
  },
  {
   "cell_type": "code",
   "execution_count": 17,
   "id": "7f3d2dc9",
   "metadata": {},
   "outputs": [
    {
     "data": {
      "text/plain": [
       "outcome outcome flow: OutcomeStates(num_perceptions=1, num_actions=1)"
      ]
     },
     "execution_count": 17,
     "metadata": {},
     "output_type": "execute_result"
    }
   ],
   "source": [
    "ex_fxn.a.flows['outcome']"
   ]
  },
  {
   "cell_type": "markdown",
   "id": "2a575475",
   "metadata": {},
   "source": [
    "As shown, each of the actions are progressed throuh in a single timestep until the ASG is in the \"Done\" action"
   ]
  },
  {
   "cell_type": "code",
   "execution_count": 18,
   "id": "45260e33",
   "metadata": {},
   "outputs": [],
   "source": [
    "ex_fxn.a.flows['hazard'].s.present=False\n",
    "ex_fxn.updatefxn('dynamic', time= 2)"
   ]
  },
  {
   "cell_type": "code",
   "execution_count": 19,
   "id": "faf1f611",
   "metadata": {},
   "outputs": [
    {
     "data": {
      "image/png": "[encoded data removed]",
      "text/plain": [
       "<Figure size 432x288 with 1 Axes>"
      ]
     },
     "metadata": {},
     "output_type": "display_data"
    }
   ],
   "source": [
    "fig = ex_fxn.a.show()"
   ]
  },
  {
   "cell_type": "code",
   "execution_count": 20,
   "id": "7c2b23d5",
   "metadata": {},
   "outputs": [
    {
     "data": {
      "text/plain": [
       "outcome outcome flow: OutcomeStates(num_perceptions=1, num_actions=1)"
      ]
     },
     "execution_count": 20,
     "metadata": {},
     "output_type": "execute_result"
    }
   ],
   "source": [
    "ex_fxn.a.flows['outcome']"
   ]
  },
  {
   "cell_type": "code",
   "execution_count": 21,
   "id": "18936276",
   "metadata": {},
   "outputs": [
    {
     "data": {
      "text/plain": [
       "hazard generic flow: HazardState(present=False, percieved=False, mitigated=True)"
      ]
     },
     "execution_count": 21,
     "metadata": {},
     "output_type": "execute_result"
    }
   ],
   "source": [
    "ex_fxn.a.flows['hazard']"
   ]
  },
  {
   "cell_type": "markdown",
   "id": "cd896f8a",
   "metadata": {},
   "source": [
    "As shown, now that the hazard is no longer present, the \"Ready\" Condition is triggered and the ASG goes back to the percieve state."
   ]
  },
  {
   "cell_type": "markdown",
   "id": "8a2beeea",
   "metadata": {},
   "source": [
    "Below, this function is placed in the context of a model so we can see how it behaves in the context of a simulation"
   ]
  },
  {
   "cell_type": "code",
   "execution_count": 22,
   "id": "0110dc70",
   "metadata": {},
   "outputs": [],
   "source": [
    "class ProduceHazard(FxnBlock):\n",
    "    _init_hazard = Hazard\n",
    "    def dynamic_behavior(self,time):\n",
    "        if not time%4: self.hazard.s.present=True\n",
    "        else:          self.hazard.s.present=False\n",
    "class PassStates(State):\n",
    "    hazards_mitigated:  int=0\n",
    "    hazards_propagated: int=0\n",
    "class PassHazard(FxnBlock):\n",
    "    _init_s = PassStates\n",
    "    _init_hazard = Hazard\n",
    "    def dynamic_behavior(self,time):\n",
    "        if self.hazard.s.present and self.hazard.s.mitigated:       self.s.hazards_mitigated+=1\n",
    "        elif self.hazard.s.present and not self.hazard.s.mitigated: self.s.hazards_propagated+=1\n",
    "\n",
    "from fmdtools.define.common import Parameter\n",
    "from fmdtools.define.model import ModelParam\n",
    "class HazardModel(Model):\n",
    "    def __init__(self, params=Parameter(), modelparams=ModelParam(times=(0,60), dt=1.0), valparams={}):\n",
    "        super().__init__(params,modelparams,valparams)\n",
    "        \n",
    "        self.add_flow(\"hazard\", Hazard)\n",
    "        \n",
    "        self.add_fxn(\"produce_hazard\", ['hazard'],  ProduceHazard)\n",
    "        self.add_fxn(\"detect_hazard\",['hazard'], DetectHazard)\n",
    "        self.add_fxn(\"pass_hazard\", ['hazard'], PassHazard)\n",
    "        self.build_model()"
   ]
  },
  {
   "cell_type": "code",
   "execution_count": 23,
   "id": "ed070fc1",
   "metadata": {},
   "outputs": [],
   "source": [
    "mdl = HazardModel()\n",
    "endstate,  mdlhist = prop.nominal(mdl)"
   ]
  },
  {
   "cell_type": "markdown",
   "id": "220a2944",
   "metadata": {},
   "source": [
    "Below we look at the states of the functions/flows to see how this has simulated."
   ]
  },
  {
   "cell_type": "code",
   "execution_count": 24,
   "id": "e6422a02",
   "metadata": {},
   "outputs": [
    {
     "data": {
      "text/plain": [
       "{'flows': {'hazard': {'present': array([False, False, False, False,  True, False, False, False,  True,\n",
       "          False, False, False,  True, False, False, False,  True, False,\n",
       "          False, False,  True, False, False, False,  True, False, False,\n",
       "          False,  True, False, False, False,  True, False, False, False,\n",
       "           True, False, False, False,  True, False, False, False,  True,\n",
       "          False, False, False,  True, False, False, False,  True, False,\n",
       "          False, False,  True, False, False, False,  True]),\n",
       "   'percieved': array([False, False, False, False,  True, False, False, False,  True,\n",
       "          False, False, False,  True, False, False, False,  True, False,\n",
       "          False, False,  True, False, False, False,  True, False, False,\n",
       "          False,  True, False, False, False,  True, False, False, False,\n",
       "           True, False, False, False,  True, False, False, False,  True,\n",
       "          False, False, False,  True, False, False, False,  True, False,\n",
       "          False, False,  True, False, False, False,  True]),\n",
       "   'mitigated': array([False, False, False, False,  True,  True,  True,  True,  True,\n",
       "           True,  True,  True,  True,  True,  True,  True,  True,  True,\n",
       "           True,  True,  True,  True,  True,  True,  True,  True,  True,\n",
       "           True,  True,  True,  True,  True,  True,  True,  True,  True,\n",
       "           True,  True,  True,  True,  True,  True,  True,  True,  True,\n",
       "           True,  True,  True,  True,  True,  True,  True,  True,  True,\n",
       "           True,  True,  True,  True,  True,  True,  True])}},\n",
       " 'functions': {'produce_hazard': {'mode': array(['nominal', 'nominal', 'nominal', 'nominal', 'nominal', 'nominal',\n",
       "          'nominal', 'nominal', 'nominal', 'nominal', 'nominal', 'nominal',\n",
       "          'nominal', 'nominal', 'nominal', 'nominal', 'nominal', 'nominal',\n",
       "          'nominal', 'nominal', 'nominal', 'nominal', 'nominal', 'nominal',\n",
       "          'nominal', 'nominal', 'nominal', 'nominal', 'nominal', 'nominal',\n",
       "          'nominal', 'nominal', 'nominal', 'nominal', 'nominal', 'nominal',\n",
       "          'nominal', 'nominal', 'nominal', 'nominal', 'nominal', 'nominal',\n",
       "          'nominal', 'nominal', 'nominal', 'nominal', 'nominal', 'nominal',\n",
       "          'nominal', 'nominal', 'nominal', 'nominal', 'nominal', 'nominal',\n",
       "          'nominal', 'nominal', 'nominal', 'nominal', 'nominal', 'nominal',\n",
       "          'nominal'], dtype='<U7')},\n",
       "  'detect_hazard': {'faults': {'perceive_failed': array([0, 0, 0, 0, 0, 0, 0, 0, 0, 0, 0, 0, 0, 0, 0, 0, 0, 0, 0, 0, 0, 0,\n",
       "           0, 0, 0, 0, 0, 0, 0, 0, 0, 0, 0, 0, 0, 0, 0, 0, 0, 0, 0, 0, 0, 0,\n",
       "           0, 0, 0, 0, 0, 0, 0, 0, 0, 0, 0, 0, 0, 0, 0, 0, 0]),\n",
       "    'perceive_unable': array([0, 0, 0, 0, 0, 0, 0, 0, 0, 0, 0, 0, 0, 0, 0, 0, 0, 0, 0, 0, 0, 0,\n",
       "           0, 0, 0, 0, 0, 0, 0, 0, 0, 0, 0, 0, 0, 0, 0, 0, 0, 0, 0, 0, 0, 0,\n",
       "           0, 0, 0, 0, 0, 0, 0, 0, 0, 0, 0, 0, 0, 0, 0, 0, 0]),\n",
       "    'act_failed': array([0, 0, 0, 0, 0, 0, 0, 0, 0, 0, 0, 0, 0, 0, 0, 0, 0, 0, 0, 0, 0, 0,\n",
       "           0, 0, 0, 0, 0, 0, 0, 0, 0, 0, 0, 0, 0, 0, 0, 0, 0, 0, 0, 0, 0, 0,\n",
       "           0, 0, 0, 0, 0, 0, 0, 0, 0, 0, 0, 0, 0, 0, 0, 0, 0]),\n",
       "    'act_unable': array([0, 0, 0, 0, 0, 0, 0, 0, 0, 0, 0, 0, 0, 0, 0, 0, 0, 0, 0, 0, 0, 0,\n",
       "           0, 0, 0, 0, 0, 0, 0, 0, 0, 0, 0, 0, 0, 0, 0, 0, 0, 0, 0, 0, 0, 0,\n",
       "           0, 0, 0, 0, 0, 0, 0, 0, 0, 0, 0, 0, 0, 0, 0, 0, 0])},\n",
       "   'mode': array(['nominal', 'nominal', 'nominal', 'nominal', 'nominal', 'nominal',\n",
       "          'nominal', 'nominal', 'nominal', 'nominal', 'nominal', 'nominal',\n",
       "          'nominal', 'nominal', 'nominal', 'nominal', 'nominal', 'nominal',\n",
       "          'nominal', 'nominal', 'nominal', 'nominal', 'nominal', 'nominal',\n",
       "          'nominal', 'nominal', 'nominal', 'nominal', 'nominal', 'nominal',\n",
       "          'nominal', 'nominal', 'nominal', 'nominal', 'nominal', 'nominal',\n",
       "          'nominal', 'nominal', 'nominal', 'nominal', 'nominal', 'nominal',\n",
       "          'nominal', 'nominal', 'nominal', 'nominal', 'nominal', 'nominal',\n",
       "          'nominal', 'nominal', 'nominal', 'nominal', 'nominal', 'nominal',\n",
       "          'nominal', 'nominal', 'nominal', 'nominal', 'nominal', 'nominal',\n",
       "          'nominal'], dtype='<U15'),\n",
       "   'perceive': {'faults': array(['', '', '', '', '', '', '', '', '', '', '', '', '', '', '', '', '',\n",
       "           '', '', '', '', '', '', '', '', '', '', '', '', '', '', '', '', '',\n",
       "           '', '', '', '', '', '', '', '', '', '', '', '', '', '', '', '', '',\n",
       "           '', '', '', '', '', '', '', '', '', ''], dtype='<U7'),\n",
       "    'mode': array(['nominal', 'nominal', 'nominal', 'nominal', 'nominal', 'nominal',\n",
       "           'nominal', 'nominal', 'nominal', 'nominal', 'nominal', 'nominal',\n",
       "           'nominal', 'nominal', 'nominal', 'nominal', 'nominal', 'nominal',\n",
       "           'nominal', 'nominal', 'nominal', 'nominal', 'nominal', 'nominal',\n",
       "           'nominal', 'nominal', 'nominal', 'nominal', 'nominal', 'nominal',\n",
       "           'nominal', 'nominal', 'nominal', 'nominal', 'nominal', 'nominal',\n",
       "           'nominal', 'nominal', 'nominal', 'nominal', 'nominal', 'nominal',\n",
       "           'nominal', 'nominal', 'nominal', 'nominal', 'nominal', 'nominal',\n",
       "           'nominal', 'nominal', 'nominal', 'nominal', 'nominal', 'nominal',\n",
       "           'nominal', 'nominal', 'nominal', 'nominal', 'nominal', 'nominal',\n",
       "           'nominal'], dtype='<U7')},\n",
       "   'act': {'faults': array(['', '', '', '', '', '', '', '', '', '', '', '', '', '', '', '', '',\n",
       "           '', '', '', '', '', '', '', '', '', '', '', '', '', '', '', '', '',\n",
       "           '', '', '', '', '', '', '', '', '', '', '', '', '', '', '', '', '',\n",
       "           '', '', '', '', '', '', '', '', '', ''], dtype='<U7'),\n",
       "    'mode': array(['nominal', 'nominal', 'nominal', 'nominal', 'nominal', 'nominal',\n",
       "           'nominal', 'nominal', 'nominal', 'nominal', 'nominal', 'nominal',\n",
       "           'nominal', 'nominal', 'nominal', 'nominal', 'nominal', 'nominal',\n",
       "           'nominal', 'nominal', 'nominal', 'nominal', 'nominal', 'nominal',\n",
       "           'nominal', 'nominal', 'nominal', 'nominal', 'nominal', 'nominal',\n",
       "           'nominal', 'nominal', 'nominal', 'nominal', 'nominal', 'nominal',\n",
       "           'nominal', 'nominal', 'nominal', 'nominal', 'nominal', 'nominal',\n",
       "           'nominal', 'nominal', 'nominal', 'nominal', 'nominal', 'nominal',\n",
       "           'nominal', 'nominal', 'nominal', 'nominal', 'nominal', 'nominal',\n",
       "           'nominal', 'nominal', 'nominal', 'nominal', 'nominal', 'nominal',\n",
       "           'nominal'], dtype='<U7')},\n",
       "   'done': {'mode': array(['nominal', 'nominal', 'nominal', 'nominal', 'nominal', 'nominal',\n",
       "           'nominal', 'nominal', 'nominal', 'nominal', 'nominal', 'nominal',\n",
       "           'nominal', 'nominal', 'nominal', 'nominal', 'nominal', 'nominal',\n",
       "           'nominal', 'nominal', 'nominal', 'nominal', 'nominal', 'nominal',\n",
       "           'nominal', 'nominal', 'nominal', 'nominal', 'nominal', 'nominal',\n",
       "           'nominal', 'nominal', 'nominal', 'nominal', 'nominal', 'nominal',\n",
       "           'nominal', 'nominal', 'nominal', 'nominal', 'nominal', 'nominal',\n",
       "           'nominal', 'nominal', 'nominal', 'nominal', 'nominal', 'nominal',\n",
       "           'nominal', 'nominal', 'nominal', 'nominal', 'nominal', 'nominal',\n",
       "           'nominal', 'nominal', 'nominal', 'nominal', 'nominal', 'nominal',\n",
       "           'nominal'], dtype='<U7')},\n",
       "   'hazard': {'present': array([False, False, False, False,  True, False, False, False,  True,\n",
       "           False, False, False,  True, False, False, False,  True, False,\n",
       "           False, False,  True, False, False, False,  True, False, False,\n",
       "           False,  True, False, False, False,  True, False, False, False,\n",
       "            True, False, False, False,  True, False, False, False,  True,\n",
       "           False, False, False,  True, False, False, False,  True, False,\n",
       "           False, False,  True, False, False, False,  True]),\n",
       "    'percieved': array([False, False, False, False,  True, False, False, False,  True,\n",
       "           False, False, False,  True, False, False, False,  True, False,\n",
       "           False, False,  True, False, False, False,  True, False, False,\n",
       "           False,  True, False, False, False,  True, False, False, False,\n",
       "            True, False, False, False,  True, False, False, False,  True,\n",
       "           False, False, False,  True, False, False, False,  True, False,\n",
       "           False, False,  True, False, False, False,  True]),\n",
       "    'mitigated': array([False, False, False, False,  True,  True,  True,  True,  True,\n",
       "            True,  True,  True,  True,  True,  True,  True,  True,  True,\n",
       "            True,  True,  True,  True,  True,  True,  True,  True,  True,\n",
       "            True,  True,  True,  True,  True,  True,  True,  True,  True,\n",
       "            True,  True,  True,  True,  True,  True,  True,  True,  True,\n",
       "            True,  True,  True,  True,  True,  True,  True,  True,  True,\n",
       "            True,  True,  True,  True,  True,  True,  True])},\n",
       "   'outcome': {'num_perceptions': array([ 0,  0,  0,  0,  1,  1,  1,  1,  2,  2,  2,  2,  3,  3,  3,  3,  4,\n",
       "            4,  4,  4,  5,  5,  5,  5,  6,  6,  6,  6,  7,  7,  7,  7,  8,  8,\n",
       "            8,  8,  9,  9,  9,  9, 10, 10, 10, 10, 11, 11, 11, 11, 12, 12, 12,\n",
       "           12, 13, 13, 13, 13, 14, 14, 14, 14, 15]),\n",
       "    'num_actions': array([ 0,  0,  0,  0,  1,  1,  1,  1,  2,  2,  2,  2,  3,  3,  3,  3,  4,\n",
       "            4,  4,  4,  5,  5,  5,  5,  6,  6,  6,  6,  7,  7,  7,  7,  8,  8,\n",
       "            8,  8,  9,  9,  9,  9, 10, 10, 10, 10, 11, 11, 11, 11, 12, 12, 12,\n",
       "           12, 13, 13, 13, 13, 14, 14, 14, 14, 15])}},\n",
       "  'pass_hazard': {'hazards_mitigated': array([ 0,  0,  0,  0,  1,  1,  1,  1,  2,  2,  2,  2,  3,  3,  3,  3,  4,\n",
       "           4,  4,  4,  5,  5,  5,  5,  6,  6,  6,  6,  7,  7,  7,  7,  8,  8,\n",
       "           8,  8,  9,  9,  9,  9, 10, 10, 10, 10, 11, 11, 11, 11, 12, 12, 12,\n",
       "          12, 13, 13, 13, 13, 14, 14, 14, 14, 15]),\n",
       "   'hazards_propagated': array([0, 0, 0, 0, 0, 0, 0, 0, 0, 0, 0, 0, 0, 0, 0, 0, 0, 0, 0, 0, 0, 0,\n",
       "          0, 0, 0, 0, 0, 0, 0, 0, 0, 0, 0, 0, 0, 0, 0, 0, 0, 0, 0, 0, 0, 0,\n",
       "          0, 0, 0, 0, 0, 0, 0, 0, 0, 0, 0, 0, 0, 0, 0, 0, 0]),\n",
       "   'mode': array(['nominal', 'nominal', 'nominal', 'nominal', 'nominal', 'nominal',\n",
       "          'nominal', 'nominal', 'nominal', 'nominal', 'nominal', 'nominal',\n",
       "          'nominal', 'nominal', 'nominal', 'nominal', 'nominal', 'nominal',\n",
       "          'nominal', 'nominal', 'nominal', 'nominal', 'nominal', 'nominal',\n",
       "          'nominal', 'nominal', 'nominal', 'nominal', 'nominal', 'nominal',\n",
       "          'nominal', 'nominal', 'nominal', 'nominal', 'nominal', 'nominal',\n",
       "          'nominal', 'nominal', 'nominal', 'nominal', 'nominal', 'nominal',\n",
       "          'nominal', 'nominal', 'nominal', 'nominal', 'nominal', 'nominal',\n",
       "          'nominal', 'nominal', 'nominal', 'nominal', 'nominal', 'nominal',\n",
       "          'nominal', 'nominal', 'nominal', 'nominal', 'nominal', 'nominal',\n",
       "          'nominal'], dtype='<U7')}},\n",
       " 'time': array([ 0.,  1.,  2.,  3.,  4.,  5.,  6.,  7.,  8.,  9., 10., 11., 12.,\n",
       "        13., 14., 15., 16., 17., 18., 19., 20., 21., 22., 23., 24., 25.,\n",
       "        26., 27., 28., 29., 30., 31., 32., 33., 34., 35., 36., 37., 38.,\n",
       "        39., 40., 41., 42., 43., 44., 45., 46., 47., 48., 49., 50., 51.,\n",
       "        52., 53., 54., 55., 56., 57., 58., 59., 60.])}"
      ]
     },
     "execution_count": 24,
     "metadata": {},
     "output_type": "execute_result"
    }
   ],
   "source": [
    "mdlhist"
   ]
  },
  {
   "cell_type": "code",
   "execution_count": 25,
   "id": "2e43bc4f",
   "metadata": {},
   "outputs": [],
   "source": [
    "restab = rd.tabulate.hist(mdlhist)"
   ]
  },
  {
   "cell_type": "code",
   "execution_count": 26,
   "id": "c3466da3",
   "metadata": {},
   "outputs": [
    {
     "data": {
      "text/html": [
       "<div>\n",
       "<style scoped>\n",
       "    .dataframe tbody tr th:only-of-type {\n",
       "        vertical-align: middle;\n",
       "    }\n",
       "\n",
       "    .dataframe tbody tr th {\n",
       "        vertical-align: top;\n",
       "    }\n",
       "\n",
       "    .dataframe thead tr th {\n",
       "        text-align: left;\n",
       "    }\n",
       "</style>\n",
       "<table border=\"1\" class=\"dataframe\">\n",
       "  <thead>\n",
       "    <tr>\n",
       "      <th></th>\n",
       "      <th>time</th>\n",
       "      <th>produce_hazard</th>\n",
       "      <th colspan=\"13\" halign=\"left\">detect_hazard</th>\n",
       "      <th colspan=\"3\" halign=\"left\">pass_hazard</th>\n",
       "      <th colspan=\"3\" halign=\"left\">hazard</th>\n",
       "    </tr>\n",
       "    <tr>\n",
       "      <th></th>\n",
       "      <th>t</th>\n",
       "      <th>mode</th>\n",
       "      <th>mode</th>\n",
       "      <th>perceive_mode</th>\n",
       "      <th>act_mode</th>\n",
       "      <th>done_mode</th>\n",
       "      <th>hazard_present</th>\n",
       "      <th>hazard_percieved</th>\n",
       "      <th>hazard_mitigated</th>\n",
       "      <th>outcome_num_perceptions</th>\n",
       "      <th>...</th>\n",
       "      <th>perceive_failed fault</th>\n",
       "      <th>perceive_unable fault</th>\n",
       "      <th>act_failed fault</th>\n",
       "      <th>act_unable fault</th>\n",
       "      <th>hazards_mitigated</th>\n",
       "      <th>hazards_propagated</th>\n",
       "      <th>mode</th>\n",
       "      <th>present</th>\n",
       "      <th>percieved</th>\n",
       "      <th>mitigated</th>\n",
       "    </tr>\n",
       "  </thead>\n",
       "  <tbody>\n",
       "    <tr>\n",
       "      <th>0</th>\n",
       "      <td>0.0</td>\n",
       "      <td>nominal</td>\n",
       "      <td>nominal</td>\n",
       "      <td>nominal</td>\n",
       "      <td>nominal</td>\n",
       "      <td>nominal</td>\n",
       "      <td>False</td>\n",
       "      <td>False</td>\n",
       "      <td>False</td>\n",
       "      <td>0</td>\n",
       "      <td>...</td>\n",
       "      <td>0</td>\n",
       "      <td>0</td>\n",
       "      <td>0</td>\n",
       "      <td>0</td>\n",
       "      <td>0</td>\n",
       "      <td>0</td>\n",
       "      <td>nominal</td>\n",
       "      <td>False</td>\n",
       "      <td>False</td>\n",
       "      <td>False</td>\n",
       "    </tr>\n",
       "    <tr>\n",
       "      <th>1</th>\n",
       "      <td>1.0</td>\n",
       "      <td>nominal</td>\n",
       "      <td>nominal</td>\n",
       "      <td>nominal</td>\n",
       "      <td>nominal</td>\n",
       "      <td>nominal</td>\n",
       "      <td>False</td>\n",
       "      <td>False</td>\n",
       "      <td>False</td>\n",
       "      <td>0</td>\n",
       "      <td>...</td>\n",
       "      <td>0</td>\n",
       "      <td>0</td>\n",
       "      <td>0</td>\n",
       "      <td>0</td>\n",
       "      <td>0</td>\n",
       "      <td>0</td>\n",
       "      <td>nominal</td>\n",
       "      <td>False</td>\n",
       "      <td>False</td>\n",
       "      <td>False</td>\n",
       "    </tr>\n",
       "    <tr>\n",
       "      <th>2</th>\n",
       "      <td>2.0</td>\n",
       "      <td>nominal</td>\n",
       "      <td>nominal</td>\n",
       "      <td>nominal</td>\n",
       "      <td>nominal</td>\n",
       "      <td>nominal</td>\n",
       "      <td>False</td>\n",
       "      <td>False</td>\n",
       "      <td>False</td>\n",
       "      <td>0</td>\n",
       "      <td>...</td>\n",
       "      <td>0</td>\n",
       "      <td>0</td>\n",
       "      <td>0</td>\n",
       "      <td>0</td>\n",
       "      <td>0</td>\n",
       "      <td>0</td>\n",
       "      <td>nominal</td>\n",
       "      <td>False</td>\n",
       "      <td>False</td>\n",
       "      <td>False</td>\n",
       "    </tr>\n",
       "    <tr>\n",
       "      <th>3</th>\n",
       "      <td>3.0</td>\n",
       "      <td>nominal</td>\n",
       "      <td>nominal</td>\n",
       "      <td>nominal</td>\n",
       "      <td>nominal</td>\n",
       "      <td>nominal</td>\n",
       "      <td>False</td>\n",
       "      <td>False</td>\n",
       "      <td>False</td>\n",
       "      <td>0</td>\n",
       "      <td>...</td>\n",
       "      <td>0</td>\n",
       "      <td>0</td>\n",
       "      <td>0</td>\n",
       "      <td>0</td>\n",
       "      <td>0</td>\n",
       "      <td>0</td>\n",
       "      <td>nominal</td>\n",
       "      <td>False</td>\n",
       "      <td>False</td>\n",
       "      <td>False</td>\n",
       "    </tr>\n",
       "    <tr>\n",
       "      <th>4</th>\n",
       "      <td>4.0</td>\n",
       "      <td>nominal</td>\n",
       "      <td>nominal</td>\n",
       "      <td>nominal</td>\n",
       "      <td>nominal</td>\n",
       "      <td>nominal</td>\n",
       "      <td>True</td>\n",
       "      <td>True</td>\n",
       "      <td>True</td>\n",
       "      <td>1</td>\n",
       "      <td>...</td>\n",
       "      <td>0</td>\n",
       "      <td>0</td>\n",
       "      <td>0</td>\n",
       "      <td>0</td>\n",
       "      <td>1</td>\n",
       "      <td>0</td>\n",
       "      <td>nominal</td>\n",
       "      <td>True</td>\n",
       "      <td>True</td>\n",
       "      <td>True</td>\n",
       "    </tr>\n",
       "    <tr>\n",
       "      <th>...</th>\n",
       "      <td>...</td>\n",
       "      <td>...</td>\n",
       "      <td>...</td>\n",
       "      <td>...</td>\n",
       "      <td>...</td>\n",
       "      <td>...</td>\n",
       "      <td>...</td>\n",
       "      <td>...</td>\n",
       "      <td>...</td>\n",
       "      <td>...</td>\n",
       "      <td>...</td>\n",
       "      <td>...</td>\n",
       "      <td>...</td>\n",
       "      <td>...</td>\n",
       "      <td>...</td>\n",
       "      <td>...</td>\n",
       "      <td>...</td>\n",
       "      <td>...</td>\n",
       "      <td>...</td>\n",
       "      <td>...</td>\n",
       "      <td>...</td>\n",
       "    </tr>\n",
       "    <tr>\n",
       "      <th>56</th>\n",
       "      <td>56.0</td>\n",
       "      <td>nominal</td>\n",
       "      <td>nominal</td>\n",
       "      <td>nominal</td>\n",
       "      <td>nominal</td>\n",
       "      <td>nominal</td>\n",
       "      <td>True</td>\n",
       "      <td>True</td>\n",
       "      <td>True</td>\n",
       "      <td>14</td>\n",
       "      <td>...</td>\n",
       "      <td>0</td>\n",
       "      <td>0</td>\n",
       "      <td>0</td>\n",
       "      <td>0</td>\n",
       "      <td>14</td>\n",
       "      <td>0</td>\n",
       "      <td>nominal</td>\n",
       "      <td>True</td>\n",
       "      <td>True</td>\n",
       "      <td>True</td>\n",
       "    </tr>\n",
       "    <tr>\n",
       "      <th>57</th>\n",
       "      <td>57.0</td>\n",
       "      <td>nominal</td>\n",
       "      <td>nominal</td>\n",
       "      <td>nominal</td>\n",
       "      <td>nominal</td>\n",
       "      <td>nominal</td>\n",
       "      <td>False</td>\n",
       "      <td>False</td>\n",
       "      <td>True</td>\n",
       "      <td>14</td>\n",
       "      <td>...</td>\n",
       "      <td>0</td>\n",
       "      <td>0</td>\n",
       "      <td>0</td>\n",
       "      <td>0</td>\n",
       "      <td>14</td>\n",
       "      <td>0</td>\n",
       "      <td>nominal</td>\n",
       "      <td>False</td>\n",
       "      <td>False</td>\n",
       "      <td>True</td>\n",
       "    </tr>\n",
       "    <tr>\n",
       "      <th>58</th>\n",
       "      <td>58.0</td>\n",
       "      <td>nominal</td>\n",
       "      <td>nominal</td>\n",
       "      <td>nominal</td>\n",
       "      <td>nominal</td>\n",
       "      <td>nominal</td>\n",
       "      <td>False</td>\n",
       "      <td>False</td>\n",
       "      <td>True</td>\n",
       "      <td>14</td>\n",
       "      <td>...</td>\n",
       "      <td>0</td>\n",
       "      <td>0</td>\n",
       "      <td>0</td>\n",
       "      <td>0</td>\n",
       "      <td>14</td>\n",
       "      <td>0</td>\n",
       "      <td>nominal</td>\n",
       "      <td>False</td>\n",
       "      <td>False</td>\n",
       "      <td>True</td>\n",
       "    </tr>\n",
       "    <tr>\n",
       "      <th>59</th>\n",
       "      <td>59.0</td>\n",
       "      <td>nominal</td>\n",
       "      <td>nominal</td>\n",
       "      <td>nominal</td>\n",
       "      <td>nominal</td>\n",
       "      <td>nominal</td>\n",
       "      <td>False</td>\n",
       "      <td>False</td>\n",
       "      <td>True</td>\n",
       "      <td>14</td>\n",
       "      <td>...</td>\n",
       "      <td>0</td>\n",
       "      <td>0</td>\n",
       "      <td>0</td>\n",
       "      <td>0</td>\n",
       "      <td>14</td>\n",
       "      <td>0</td>\n",
       "      <td>nominal</td>\n",
       "      <td>False</td>\n",
       "      <td>False</td>\n",
       "      <td>True</td>\n",
       "    </tr>\n",
       "    <tr>\n",
       "      <th>60</th>\n",
       "      <td>60.0</td>\n",
       "      <td>nominal</td>\n",
       "      <td>nominal</td>\n",
       "      <td>nominal</td>\n",
       "      <td>nominal</td>\n",
       "      <td>nominal</td>\n",
       "      <td>True</td>\n",
       "      <td>True</td>\n",
       "      <td>True</td>\n",
       "      <td>15</td>\n",
       "      <td>...</td>\n",
       "      <td>0</td>\n",
       "      <td>0</td>\n",
       "      <td>0</td>\n",
       "      <td>0</td>\n",
       "      <td>15</td>\n",
       "      <td>0</td>\n",
       "      <td>nominal</td>\n",
       "      <td>True</td>\n",
       "      <td>True</td>\n",
       "      <td>True</td>\n",
       "    </tr>\n",
       "  </tbody>\n",
       "</table>\n",
       "<p>61 rows × 21 columns</p>\n",
       "</div>"
      ],
      "text/plain": [
       "    time produce_hazard detect_hazard                                   \\\n",
       "       t           mode          mode perceive_mode act_mode done_mode   \n",
       "0    0.0        nominal       nominal       nominal  nominal   nominal   \n",
       "1    1.0        nominal       nominal       nominal  nominal   nominal   \n",
       "2    2.0        nominal       nominal       nominal  nominal   nominal   \n",
       "3    3.0        nominal       nominal       nominal  nominal   nominal   \n",
       "4    4.0        nominal       nominal       nominal  nominal   nominal   \n",
       "..   ...            ...           ...           ...      ...       ...   \n",
       "56  56.0        nominal       nominal       nominal  nominal   nominal   \n",
       "57  57.0        nominal       nominal       nominal  nominal   nominal   \n",
       "58  58.0        nominal       nominal       nominal  nominal   nominal   \n",
       "59  59.0        nominal       nominal       nominal  nominal   nominal   \n",
       "60  60.0        nominal       nominal       nominal  nominal   nominal   \n",
       "\n",
       "                                                                             \\\n",
       "   hazard_present hazard_percieved hazard_mitigated outcome_num_perceptions   \n",
       "0           False            False            False                       0   \n",
       "1           False            False            False                       0   \n",
       "2           False            False            False                       0   \n",
       "3           False            False            False                       0   \n",
       "4            True             True             True                       1   \n",
       "..            ...              ...              ...                     ...   \n",
       "56           True             True             True                      14   \n",
       "57          False            False             True                      14   \n",
       "58          False            False             True                      14   \n",
       "59          False            False             True                      14   \n",
       "60           True             True             True                      15   \n",
       "\n",
       "    ...                                                               \\\n",
       "    ... perceive_failed fault perceive_unable fault act_failed fault   \n",
       "0   ...                     0                     0                0   \n",
       "1   ...                     0                     0                0   \n",
       "2   ...                     0                     0                0   \n",
       "3   ...                     0                     0                0   \n",
       "4   ...                     0                     0                0   \n",
       "..  ...                   ...                   ...              ...   \n",
       "56  ...                     0                     0                0   \n",
       "57  ...                     0                     0                0   \n",
       "58  ...                     0                     0                0   \n",
       "59  ...                     0                     0                0   \n",
       "60  ...                     0                     0                0   \n",
       "\n",
       "                          pass_hazard                              hazard  \\\n",
       "   act_unable fault hazards_mitigated hazards_propagated     mode present   \n",
       "0                 0                 0                  0  nominal   False   \n",
       "1                 0                 0                  0  nominal   False   \n",
       "2                 0                 0                  0  nominal   False   \n",
       "3                 0                 0                  0  nominal   False   \n",
       "4                 0                 1                  0  nominal    True   \n",
       "..              ...               ...                ...      ...     ...   \n",
       "56                0                14                  0  nominal    True   \n",
       "57                0                14                  0  nominal   False   \n",
       "58                0                14                  0  nominal   False   \n",
       "59                0                14                  0  nominal   False   \n",
       "60                0                15                  0  nominal    True   \n",
       "\n",
       "                        \n",
       "   percieved mitigated  \n",
       "0      False     False  \n",
       "1      False     False  \n",
       "2      False     False  \n",
       "3      False     False  \n",
       "4       True      True  \n",
       "..       ...       ...  \n",
       "56      True      True  \n",
       "57     False      True  \n",
       "58     False      True  \n",
       "59     False      True  \n",
       "60      True      True  \n",
       "\n",
       "[61 rows x 21 columns]"
      ]
     },
     "execution_count": 26,
     "metadata": {},
     "output_type": "execute_result"
    }
   ],
   "source": [
    "restab"
   ]
  },
  {
   "cell_type": "markdown",
   "id": "98c3738f",
   "metadata": {},
   "source": [
    "As shown, the ASG alternates between Perceive (when the hazard is not present) and Done (when the hazard is present)"
   ]
  },
  {
   "cell_type": "markdown",
   "id": "8605b68b",
   "metadata": {},
   "source": [
    "As a result, all of the present hazards (above) are also perceived and mitigated."
   ]
  },
  {
   "cell_type": "markdown",
   "id": "91cd17d1",
   "metadata": {},
   "source": [
    "And as a result no hazards are propagated."
   ]
  },
  {
   "cell_type": "markdown",
   "id": "5f609a51",
   "metadata": {},
   "source": [
    "Or, in plot form:"
   ]
  },
  {
   "cell_type": "code",
   "execution_count": 27,
   "id": "4e645a8b",
   "metadata": {},
   "outputs": [
    {
     "data": {
      "image/png": "[encoded data removed]",
      "text/plain": [
       "<Figure size 720x360 with 6 Axes>"
      ]
     },
     "metadata": {
      "needs_background": "light"
     },
     "output_type": "display_data"
    }
   ],
   "source": [
    "fig, axs = rd.plot.mdlhists(mdlhist, fxnflowvals={'detect_hazard':'outcome', 'pass_hazard':'all'}, figsize=(10,5))"
   ]
  },
  {
   "cell_type": "markdown",
   "id": "d6f7e4f3",
   "metadata": {},
   "source": [
    "As shown, perceptions and actions track the hazards mitigated."
   ]
  },
  {
   "cell_type": "code",
   "execution_count": 28,
   "id": "86ce066b",
   "metadata": {},
   "outputs": [
    {
     "data": {
      "image/png": "[encoded data removed]",
      "text/plain": [
       "<Figure size 720x360 with 4 Axes>"
      ]
     },
     "metadata": {
      "needs_background": "light"
     },
     "output_type": "display_data"
    }
   ],
   "source": [
    "fig, axs = rd.plot.mdlhists(mdlhist, fxnflowvals={'hazard':'all', 'detect_hazard':'mode'}, figsize=(10,5))"
   ]
  },
  {
   "cell_type": "markdown",
   "id": "9092d3b5",
   "metadata": {},
   "source": [
    "And the mode tracks the presence of the hazard."
   ]
  },
  {
   "cell_type": "markdown",
   "id": "8196b173",
   "metadata": {},
   "source": [
    "ASGs can also be viewed using the `analyze.graph` module. Below we will simulate a fault and see how it tracks in the model."
   ]
  },
  {
   "cell_type": "code",
   "execution_count": 29,
   "id": "b12779a5",
   "metadata": {},
   "outputs": [],
   "source": [
    "resgraph_fault, mdlhist_fault = prop.one_fault(mdl, 'detect_hazard','perceive_failed', time=4, desired_result='bipartite')"
   ]
  },
  {
   "cell_type": "code",
   "execution_count": 30,
   "id": "4caa496b",
   "metadata": {},
   "outputs": [
    {
     "data": {
      "text/plain": [
       "{'faults': array(['', '', '', '', '', '', '', '', '', '', '', '', '', '', '', '', '',\n",
       "        '', '', '', '', '', '', '', '', '', '', '', '', '', '', '', '', '',\n",
       "        '', '', '', '', '', '', '', '', '', '', '', '', '', '', '', '', '',\n",
       "        '', '', '', '', '', '', '', '', '', ''], dtype='<U7'),\n",
       " 'mode': array(['nominal', 'nominal', 'nominal', 'nominal', 'nominal', 'nominal',\n",
       "        'nominal', 'nominal', 'nominal', 'nominal', 'nominal', 'nominal',\n",
       "        'nominal', 'nominal', 'nominal', 'nominal', 'nominal', 'nominal',\n",
       "        'nominal', 'nominal', 'nominal', 'nominal', 'nominal', 'nominal',\n",
       "        'nominal', 'nominal', 'nominal', 'nominal', 'nominal', 'nominal',\n",
       "        'nominal', 'nominal', 'nominal', 'nominal', 'nominal', 'nominal',\n",
       "        'nominal', 'nominal', 'nominal', 'nominal', 'nominal', 'nominal',\n",
       "        'nominal', 'nominal', 'nominal', 'nominal', 'nominal', 'nominal',\n",
       "        'nominal', 'nominal', 'nominal', 'nominal', 'nominal', 'nominal',\n",
       "        'nominal', 'nominal', 'nominal', 'nominal', 'nominal', 'nominal',\n",
       "        'nominal'], dtype='<U7')}"
      ]
     },
     "execution_count": 30,
     "metadata": {},
     "output_type": "execute_result"
    }
   ],
   "source": [
    "mdlhist_fault['faulty']['functions']['detect_hazard']['act']"
   ]
  },
  {
   "cell_type": "markdown",
   "id": "35cb0ecd",
   "metadata": {},
   "source": [
    "As shown, this fault results in the hazard not being perceived (and thus the hazard propagating)"
   ]
  },
  {
   "cell_type": "code",
   "execution_count": 31,
   "id": "f94350ba",
   "metadata": {},
   "outputs": [
    {
     "data": {
      "image/png": "[encoded data removed]",
      "text/plain": [
       "<Figure size 720x360 with 2 Axes>"
      ]
     },
     "metadata": {
      "needs_background": "light"
     },
     "output_type": "display_data"
    }
   ],
   "source": [
    "fig, axs = rd.plot.mdlhists(mdlhist_fault, fxnflowvals={'Hazard':'all', 'detect_hazard':'act'}, figsize=(10,5), time_slice=[4])"
   ]
  },
  {
   "cell_type": "code",
   "execution_count": 32,
   "id": "cef5e479",
   "metadata": {},
   "outputs": [
    {
     "data": {
      "image/png": "[encoded data removed]",
      "text/plain": [
       "<Figure size 720x360 with 6 Axes>"
      ]
     },
     "metadata": {
      "needs_background": "light"
     },
     "output_type": "display_data"
    }
   ],
   "source": [
    "fig, axs = rd.plot.mdlhists(mdlhist_fault, fxnflowvals={'detect_hazard':'outcome', 'pass_hazard':'all'}, figsize=(10,5), time_slice=[4])"
   ]
  },
  {
   "cell_type": "markdown",
   "id": "57b3efab",
   "metadata": {},
   "source": [
    "As shown, this only shows up in the PassHazard function (since the fault is removed in one timestep)."
   ]
  },
  {
   "cell_type": "code",
   "execution_count": 33,
   "id": "356f9c1d",
   "metadata": {},
   "outputs": [
    {
     "data": {
      "image/png": "[encoded data removed]",
      "text/plain": [
       "<Figure size 432x288 with 1 Axes>"
      ]
     },
     "metadata": {},
     "output_type": "display_data"
    }
   ],
   "source": [
    "fig = rd.graph.show(resgraph_fault)"
   ]
  },
  {
   "cell_type": "markdown",
   "id": "8ac69430",
   "metadata": {},
   "source": [
    "To see this in more detail, we will process the results history and then use `graph.results_from` at the time of the fault."
   ]
  },
  {
   "cell_type": "code",
   "execution_count": 34,
   "id": "04261f10",
   "metadata": {},
   "outputs": [
    {
     "data": {
      "text/html": [
       "<div>\n",
       "<style scoped>\n",
       "    .dataframe tbody tr th:only-of-type {\n",
       "        vertical-align: middle;\n",
       "    }\n",
       "\n",
       "    .dataframe tbody tr th {\n",
       "        vertical-align: top;\n",
       "    }\n",
       "\n",
       "    .dataframe thead tr th {\n",
       "        text-align: left;\n",
       "    }\n",
       "</style>\n",
       "<table border=\"1\" class=\"dataframe\">\n",
       "  <thead>\n",
       "    <tr>\n",
       "      <th></th>\n",
       "      <th>time</th>\n",
       "      <th colspan=\"3\" halign=\"left\">produce_hazard</th>\n",
       "      <th colspan=\"9\" halign=\"left\">detect_hazard</th>\n",
       "      <th colspan=\"5\" halign=\"left\">pass_hazard</th>\n",
       "      <th colspan=\"3\" halign=\"left\">hazard</th>\n",
       "    </tr>\n",
       "    <tr>\n",
       "      <th></th>\n",
       "      <th>t</th>\n",
       "      <th>mode</th>\n",
       "      <th>numfaults</th>\n",
       "      <th>status</th>\n",
       "      <th>mode</th>\n",
       "      <th>perceive_mode</th>\n",
       "      <th>perceive_numfaults</th>\n",
       "      <th>perceive_status</th>\n",
       "      <th>act_mode</th>\n",
       "      <th>act_numfaults</th>\n",
       "      <th>...</th>\n",
       "      <th>act_failed fault</th>\n",
       "      <th>act_unable fault</th>\n",
       "      <th>hazards_mitigated</th>\n",
       "      <th>hazards_propagated</th>\n",
       "      <th>mode</th>\n",
       "      <th>numfaults</th>\n",
       "      <th>status</th>\n",
       "      <th>present</th>\n",
       "      <th>percieved</th>\n",
       "      <th>mitigated</th>\n",
       "    </tr>\n",
       "  </thead>\n",
       "  <tbody>\n",
       "    <tr>\n",
       "      <th>0</th>\n",
       "      <td>0.0</td>\n",
       "      <td>1</td>\n",
       "      <td>0.0</td>\n",
       "      <td>1</td>\n",
       "      <td>1</td>\n",
       "      <td>1</td>\n",
       "      <td>1</td>\n",
       "      <td>0</td>\n",
       "      <td>1</td>\n",
       "      <td>1</td>\n",
       "      <td>...</td>\n",
       "      <td>0</td>\n",
       "      <td>0</td>\n",
       "      <td>1</td>\n",
       "      <td>1</td>\n",
       "      <td>1</td>\n",
       "      <td>0.0</td>\n",
       "      <td>1</td>\n",
       "      <td>1</td>\n",
       "      <td>1</td>\n",
       "      <td>1</td>\n",
       "    </tr>\n",
       "    <tr>\n",
       "      <th>1</th>\n",
       "      <td>1.0</td>\n",
       "      <td>1</td>\n",
       "      <td>0.0</td>\n",
       "      <td>1</td>\n",
       "      <td>1</td>\n",
       "      <td>1</td>\n",
       "      <td>1</td>\n",
       "      <td>0</td>\n",
       "      <td>1</td>\n",
       "      <td>1</td>\n",
       "      <td>...</td>\n",
       "      <td>0</td>\n",
       "      <td>0</td>\n",
       "      <td>1</td>\n",
       "      <td>1</td>\n",
       "      <td>1</td>\n",
       "      <td>0.0</td>\n",
       "      <td>1</td>\n",
       "      <td>1</td>\n",
       "      <td>1</td>\n",
       "      <td>1</td>\n",
       "    </tr>\n",
       "    <tr>\n",
       "      <th>2</th>\n",
       "      <td>2.0</td>\n",
       "      <td>1</td>\n",
       "      <td>0.0</td>\n",
       "      <td>1</td>\n",
       "      <td>1</td>\n",
       "      <td>1</td>\n",
       "      <td>1</td>\n",
       "      <td>0</td>\n",
       "      <td>1</td>\n",
       "      <td>1</td>\n",
       "      <td>...</td>\n",
       "      <td>0</td>\n",
       "      <td>0</td>\n",
       "      <td>1</td>\n",
       "      <td>1</td>\n",
       "      <td>1</td>\n",
       "      <td>0.0</td>\n",
       "      <td>1</td>\n",
       "      <td>1</td>\n",
       "      <td>1</td>\n",
       "      <td>1</td>\n",
       "    </tr>\n",
       "    <tr>\n",
       "      <th>3</th>\n",
       "      <td>3.0</td>\n",
       "      <td>1</td>\n",
       "      <td>0.0</td>\n",
       "      <td>1</td>\n",
       "      <td>1</td>\n",
       "      <td>1</td>\n",
       "      <td>1</td>\n",
       "      <td>0</td>\n",
       "      <td>1</td>\n",
       "      <td>1</td>\n",
       "      <td>...</td>\n",
       "      <td>0</td>\n",
       "      <td>0</td>\n",
       "      <td>1</td>\n",
       "      <td>1</td>\n",
       "      <td>1</td>\n",
       "      <td>0.0</td>\n",
       "      <td>1</td>\n",
       "      <td>1</td>\n",
       "      <td>1</td>\n",
       "      <td>1</td>\n",
       "    </tr>\n",
       "    <tr>\n",
       "      <th>4</th>\n",
       "      <td>4.0</td>\n",
       "      <td>1</td>\n",
       "      <td>0.0</td>\n",
       "      <td>1</td>\n",
       "      <td>1</td>\n",
       "      <td>0</td>\n",
       "      <td>1</td>\n",
       "      <td>0</td>\n",
       "      <td>1</td>\n",
       "      <td>1</td>\n",
       "      <td>...</td>\n",
       "      <td>0</td>\n",
       "      <td>0</td>\n",
       "      <td>0</td>\n",
       "      <td>0</td>\n",
       "      <td>1</td>\n",
       "      <td>0.0</td>\n",
       "      <td>0</td>\n",
       "      <td>1</td>\n",
       "      <td>0</td>\n",
       "      <td>0</td>\n",
       "    </tr>\n",
       "    <tr>\n",
       "      <th>...</th>\n",
       "      <td>...</td>\n",
       "      <td>...</td>\n",
       "      <td>...</td>\n",
       "      <td>...</td>\n",
       "      <td>...</td>\n",
       "      <td>...</td>\n",
       "      <td>...</td>\n",
       "      <td>...</td>\n",
       "      <td>...</td>\n",
       "      <td>...</td>\n",
       "      <td>...</td>\n",
       "      <td>...</td>\n",
       "      <td>...</td>\n",
       "      <td>...</td>\n",
       "      <td>...</td>\n",
       "      <td>...</td>\n",
       "      <td>...</td>\n",
       "      <td>...</td>\n",
       "      <td>...</td>\n",
       "      <td>...</td>\n",
       "      <td>...</td>\n",
       "    </tr>\n",
       "    <tr>\n",
       "      <th>56</th>\n",
       "      <td>56.0</td>\n",
       "      <td>1</td>\n",
       "      <td>0.0</td>\n",
       "      <td>1</td>\n",
       "      <td>1</td>\n",
       "      <td>0</td>\n",
       "      <td>1</td>\n",
       "      <td>0</td>\n",
       "      <td>1</td>\n",
       "      <td>1</td>\n",
       "      <td>...</td>\n",
       "      <td>0</td>\n",
       "      <td>0</td>\n",
       "      <td>0</td>\n",
       "      <td>0</td>\n",
       "      <td>1</td>\n",
       "      <td>0.0</td>\n",
       "      <td>0</td>\n",
       "      <td>1</td>\n",
       "      <td>1</td>\n",
       "      <td>1</td>\n",
       "    </tr>\n",
       "    <tr>\n",
       "      <th>57</th>\n",
       "      <td>57.0</td>\n",
       "      <td>1</td>\n",
       "      <td>0.0</td>\n",
       "      <td>1</td>\n",
       "      <td>1</td>\n",
       "      <td>0</td>\n",
       "      <td>1</td>\n",
       "      <td>0</td>\n",
       "      <td>1</td>\n",
       "      <td>1</td>\n",
       "      <td>...</td>\n",
       "      <td>0</td>\n",
       "      <td>0</td>\n",
       "      <td>0</td>\n",
       "      <td>0</td>\n",
       "      <td>1</td>\n",
       "      <td>0.0</td>\n",
       "      <td>0</td>\n",
       "      <td>1</td>\n",
       "      <td>1</td>\n",
       "      <td>1</td>\n",
       "    </tr>\n",
       "    <tr>\n",
       "      <th>58</th>\n",
       "      <td>58.0</td>\n",
       "      <td>1</td>\n",
       "      <td>0.0</td>\n",
       "      <td>1</td>\n",
       "      <td>1</td>\n",
       "      <td>0</td>\n",
       "      <td>1</td>\n",
       "      <td>0</td>\n",
       "      <td>1</td>\n",
       "      <td>1</td>\n",
       "      <td>...</td>\n",
       "      <td>0</td>\n",
       "      <td>0</td>\n",
       "      <td>0</td>\n",
       "      <td>0</td>\n",
       "      <td>1</td>\n",
       "      <td>0.0</td>\n",
       "      <td>0</td>\n",
       "      <td>1</td>\n",
       "      <td>1</td>\n",
       "      <td>1</td>\n",
       "    </tr>\n",
       "    <tr>\n",
       "      <th>59</th>\n",
       "      <td>59.0</td>\n",
       "      <td>1</td>\n",
       "      <td>0.0</td>\n",
       "      <td>1</td>\n",
       "      <td>1</td>\n",
       "      <td>0</td>\n",
       "      <td>1</td>\n",
       "      <td>0</td>\n",
       "      <td>1</td>\n",
       "      <td>1</td>\n",
       "      <td>...</td>\n",
       "      <td>0</td>\n",
       "      <td>0</td>\n",
       "      <td>0</td>\n",
       "      <td>0</td>\n",
       "      <td>1</td>\n",
       "      <td>0.0</td>\n",
       "      <td>0</td>\n",
       "      <td>1</td>\n",
       "      <td>1</td>\n",
       "      <td>1</td>\n",
       "    </tr>\n",
       "    <tr>\n",
       "      <th>60</th>\n",
       "      <td>60.0</td>\n",
       "      <td>1</td>\n",
       "      <td>0.0</td>\n",
       "      <td>1</td>\n",
       "      <td>1</td>\n",
       "      <td>0</td>\n",
       "      <td>1</td>\n",
       "      <td>0</td>\n",
       "      <td>1</td>\n",
       "      <td>1</td>\n",
       "      <td>...</td>\n",
       "      <td>0</td>\n",
       "      <td>0</td>\n",
       "      <td>0</td>\n",
       "      <td>0</td>\n",
       "      <td>1</td>\n",
       "      <td>0.0</td>\n",
       "      <td>0</td>\n",
       "      <td>1</td>\n",
       "      <td>1</td>\n",
       "      <td>1</td>\n",
       "    </tr>\n",
       "  </tbody>\n",
       "</table>\n",
       "<p>61 rows × 35 columns</p>\n",
       "</div>"
      ],
      "text/plain": [
       "    time produce_hazard                  detect_hazard                \\\n",
       "       t           mode numfaults status          mode perceive_mode   \n",
       "0    0.0              1       0.0      1             1             1   \n",
       "1    1.0              1       0.0      1             1             1   \n",
       "2    2.0              1       0.0      1             1             1   \n",
       "3    3.0              1       0.0      1             1             1   \n",
       "4    4.0              1       0.0      1             1             0   \n",
       "..   ...            ...       ...    ...           ...           ...   \n",
       "56  56.0              1       0.0      1             1             0   \n",
       "57  57.0              1       0.0      1             1             0   \n",
       "58  58.0              1       0.0      1             1             0   \n",
       "59  59.0              1       0.0      1             1             0   \n",
       "60  60.0              1       0.0      1             1             0   \n",
       "\n",
       "                                                              ...  \\\n",
       "   perceive_numfaults perceive_status act_mode act_numfaults  ...   \n",
       "0                   1               0        1             1  ...   \n",
       "1                   1               0        1             1  ...   \n",
       "2                   1               0        1             1  ...   \n",
       "3                   1               0        1             1  ...   \n",
       "4                   1               0        1             1  ...   \n",
       "..                ...             ...      ...           ...  ...   \n",
       "56                  1               0        1             1  ...   \n",
       "57                  1               0        1             1  ...   \n",
       "58                  1               0        1             1  ...   \n",
       "59                  1               0        1             1  ...   \n",
       "60                  1               0        1             1  ...   \n",
       "\n",
       "                                           pass_hazard                     \\\n",
       "   act_failed fault act_unable fault hazards_mitigated hazards_propagated   \n",
       "0                 0                0                 1                  1   \n",
       "1                 0                0                 1                  1   \n",
       "2                 0                0                 1                  1   \n",
       "3                 0                0                 1                  1   \n",
       "4                 0                0                 0                  0   \n",
       "..              ...              ...               ...                ...   \n",
       "56                0                0                 0                  0   \n",
       "57                0                0                 0                  0   \n",
       "58                0                0                 0                  0   \n",
       "59                0                0                 0                  0   \n",
       "60                0                0                 0                  0   \n",
       "\n",
       "                          hazard                      \n",
       "   mode numfaults status present percieved mitigated  \n",
       "0     1       0.0      1       1         1         1  \n",
       "1     1       0.0      1       1         1         1  \n",
       "2     1       0.0      1       1         1         1  \n",
       "3     1       0.0      1       1         1         1  \n",
       "4     1       0.0      0       1         0         0  \n",
       "..  ...       ...    ...     ...       ...       ...  \n",
       "56    1       0.0      0       1         1         1  \n",
       "57    1       0.0      0       1         1         1  \n",
       "58    1       0.0      0       1         1         1  \n",
       "59    1       0.0      0       1         1         1  \n",
       "60    1       0.0      0       1         1         1  \n",
       "\n",
       "[61 rows x 35 columns]"
      ]
     },
     "execution_count": 34,
     "metadata": {},
     "output_type": "execute_result"
    }
   ],
   "source": [
    "reshist, diff, summary = rd.process.hist(mdlhist_fault)\n",
    "rd.tabulate.hist(reshist)"
   ]
  },
  {
   "cell_type": "markdown",
   "id": "a9300a5a",
   "metadata": {},
   "source": [
    "Below shows the state of the model at the given time."
   ]
  },
  {
   "cell_type": "code",
   "execution_count": 35,
   "id": "8310787e",
   "metadata": {},
   "outputs": [
    {
     "data": {
      "image/png": "[encoded data removed]",
      "text/plain": [
       "<Figure size 432x288 with 1 Axes>"
      ]
     },
     "metadata": {},
     "output_type": "display_data"
    }
   ],
   "source": [
    "fig = rd.graph.result_from(mdl, reshist, 4)"
   ]
  },
  {
   "cell_type": "code",
   "execution_count": 36,
   "id": "187b9b00",
   "metadata": {},
   "outputs": [
    {
     "data": {
      "text/plain": [
       "''"
      ]
     },
     "execution_count": 36,
     "metadata": {},
     "output_type": "execute_result"
    }
   ],
   "source": [
    "reshist['functions']['detect_hazard']['perceive']['faults'][4]"
   ]
  },
  {
   "cell_type": "markdown",
   "id": "15acac85",
   "metadata": {},
   "source": [
    "We can also use `show` to view the state of the ASG. See below:"
   ]
  },
  {
   "cell_type": "code",
   "execution_count": 37,
   "id": "f0712385",
   "metadata": {},
   "outputs": [
    {
     "data": {
      "image/png": "[encoded data removed]",
      "text/plain": [
       "<Figure size 432x288 with 1 Axes>"
      ]
     },
     "metadata": {},
     "output_type": "display_data"
    }
   ],
   "source": [
    "fig = rd.graph.result_from(mdl.fxns['detect_hazard'], reshist, 4, gtype='combined')"
   ]
  },
  {
   "cell_type": "markdown",
   "id": "e99f45ab",
   "metadata": {},
   "source": [
    "Note the lack of a fault at this time-step, despite it being instantiated here. This is because the fault was removed at the end of the same time-step it was added in.\n",
    "\n",
    "The 'unable' fault, on the other hand, stays throughout the simulation and thus shows up:"
   ]
  },
  {
   "cell_type": "code",
   "execution_count": 38,
   "id": "774c3a2b",
   "metadata": {},
   "outputs": [
    {
     "data": {
      "image/png": "[encoded data removed]",
      "text/plain": [
       "<Figure size 720x360 with 4 Axes>"
      ]
     },
     "metadata": {
      "needs_background": "light"
     },
     "output_type": "display_data"
    }
   ],
   "source": [
    "endstate_unable, mdlhist_unable = prop.one_fault(mdl, 'detect_hazard','act_unable', time=4)\n",
    "reshist_unable, diff_unable, summary_unable = rd.process.hist(mdlhist_unable)\n",
    "fig, axs = rd.plot.mdlhists(mdlhist_unable, fxnflowvals={'hazard':'all', 'detect_hazard':'mode'}, figsize=(10,5), time_slice=[4])"
   ]
  },
  {
   "cell_type": "code",
   "execution_count": 39,
   "id": "7b5f549b",
   "metadata": {},
   "outputs": [
    {
     "data": {
      "image/png": "[encoded data removed]",
      "text/plain": [
       "<Figure size 432x288 with 1 Axes>"
      ]
     },
     "metadata": {},
     "output_type": "display_data"
    }
   ],
   "source": [
    "fig = rd.graph.result_from(mdl, reshist_unable, 4)"
   ]
  },
  {
   "cell_type": "code",
   "execution_count": 40,
   "id": "4688d21a",
   "metadata": {},
   "outputs": [
    {
     "data": {
      "image/png": "[encoded data removed]",
      "text/plain": [
       "<Figure size 432x288 with 1 Axes>"
      ]
     },
     "metadata": {},
     "output_type": "display_data"
    }
   ],
   "source": [
    "fig = rd.graph.result_from(mdl.fxns['detect_hazard'], reshist_unable, 4, gtype='combined')"
   ]
  },
  {
   "cell_type": "code",
   "execution_count": 41,
   "id": "15a04b69",
   "metadata": {},
   "outputs": [
    {
     "data": {
      "image/png": "[encoded data removed]",
      "text/plain": [
       "<Figure size 432x288 with 1 Axes>"
      ]
     },
     "metadata": {},
     "output_type": "display_data"
    }
   ],
   "source": [
    "fig = rd.graph.result_from(mdl.fxns['detect_hazard'], reshist_unable, 6, gtype='combined')"
   ]
  },
  {
   "cell_type": "code",
   "execution_count": null,
   "id": "df8e2186",
   "metadata": {},
   "outputs": [],
   "source": []
  }
 ],
 "metadata": {
  "kernelspec": {
   "display_name": "Python 3 (ipykernel)",
   "language": "python",
   "name": "python3"
  },
  "language_info": {
   "codemirror_mode": {
    "name": "ipython",
    "version": 3
   },
   "file_extension": ".py",
   "mimetype": "text/x-python",
   "name": "python",
   "nbconvert_exporter": "python",
   "pygments_lexer": "ipython3",
   "version": "3.9.7"
  }
 },
 "nbformat": 4,
 "nbformat_minor": 5
}
