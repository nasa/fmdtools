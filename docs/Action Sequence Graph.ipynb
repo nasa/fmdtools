{
 "cells": [
  {
   "cell_type": "markdown",
   "id": "cd4f0a15",
   "metadata": {},
   "source": [
    "# Action Sequence Graph Tutorial\n",
    "\n",
    "This tutorial covers use of the Action Sequence Graph in the FxnBlock class, which is useful for representing a Function's progress through a sequence of actions (e.g., modes of operation, etc).."
   ]
  },
  {
   "cell_type": "code",
   "execution_count": 1,
   "id": "aaeffd7f",
   "metadata": {},
   "outputs": [],
   "source": [
    "# for use in development - makes sure git version is used instead of pip-installed version\n",
    "import sys, os\n",
    "sys.path.insert(1,os.path.join(\"..\"))\n",
    "\n",
    "from fmdtools.modeldef import *\n",
    "import fmdtools.resultdisp as rd\n",
    "import fmdtools.faultsim.propagate as prop"
   ]
  },
  {
   "cell_type": "code",
   "execution_count": null,
   "id": "076c0c35",
   "metadata": {},
   "outputs": [],
   "source": []
  },
  {
   "cell_type": "code",
   "execution_count": 7,
   "id": "0110dc70",
   "metadata": {},
   "outputs": [],
   "source": [
    "class Perceive(Action):\n",
    "    def __init__(self, name, flows):\n",
    "        super().__init__(name,flows)\n",
    "        self.assoc_modes({'failed_noaction'}, exclusive=True)\n",
    "class Act(Action):\n",
    "    def __init__(self, name, flows):\n",
    "        super().__init__(name,flows)\n",
    "        self.assoc_modes({'failed_noaction'}, exclusive=True)\n",
    "class Done(Action):\n",
    "    def __init__(self, name, flows):\n",
    "        super().__init__(name,flows)\n",
    "        self.assoc_modes({'failed_noaction'}, exclusive=True)\n",
    "\n",
    "class ProduceCondition(FxnBlock):\n",
    "    def __init__(self,name, flows):\n",
    "        super().__init__(name, flows)\n",
    "class DetectHazard(FxnBlock):\n",
    "    def __init__(self,name, flows):\n",
    "        super().__init__(name, flows, states={\"t_count\":0})\n",
    "        self.add_act(\"Perceive\", Perceive)\n",
    "        self.add_act(\"Act\", Act)\n",
    "        self.add_act(\"Done\", Done)\n",
    "        \n",
    "        self.add_cond(\"Perceive\",\"Act\")\n",
    "        self.add_cond(\"Act\",\"Done\")\n",
    "        self.add_cond(\"Done\", \"Perceive\", \"Ready\", self.is_ready)\n",
    "        self.assoc_modes(exclusive=True)\n",
    "        self.build_ASG(initial_action=\"Perceive\", asg_proptype='dynamic')\n",
    "    def is_ready(self):\n",
    "        if self.t_count<3:  ready=False; self.t_count+=1\n",
    "        else:               ready=True;  self.t_count=0\n",
    "        return ready\n",
    "class PassSafeConditions(FxnBlock):\n",
    "    def __init__(self,name, flows):\n",
    "        super().__init__(name, flows)\n",
    "class FixHazardConditions(FxnBlock):\n",
    "    def __init__(self,name, flows):\n",
    "        super().__init__(name, flows)\n",
    "\n",
    "class HazardModel(Model):\n",
    "    def __init__(self, params={}, modelparams={'times':[0,60], 'tstep':1}, valparams={}):\n",
    "        super().__init__(params,modelparams,valparams)\n",
    "        \n",
    "        self.add_flow(\"Condition\", {\"present\":False, \"hazarous\":False})\n",
    "        self.add_flow(\"Mitigated_Condition\", {\"present\":False, \"hazarous\":False})\n",
    "        self.add_flow(\"Passed_Condition\", {\"present\":False, \"hazarous\":False})\n",
    "        \n",
    "        self.add_fxn(\"ProduceCondition\", ['Condition'],  ProduceCondition)\n",
    "        self.add_fxn(\"DetectHazard\",['Condition', 'Mitigated_Condition', 'Passed_Condition'], DetectHazard)\n",
    "        self.add_fxn(\"PassSafeConditions\", ['Mitigated_Condition'], PassSafeConditions)\n",
    "        self.add_fxn(\"FixHazardConditions\", ['Passed_Condition'], FixHazardConditions)\n",
    "        self.build_model()"
   ]
  },
  {
   "cell_type": "code",
   "execution_count": 8,
   "id": "ed070fc1",
   "metadata": {},
   "outputs": [],
   "source": [
    "mdl = HazardModel()"
   ]
  },
  {
   "cell_type": "code",
   "execution_count": 9,
   "id": "14fd484b",
   "metadata": {},
   "outputs": [
    {
     "data": {
      "text/plain": [
       "DetectHazard DetectHazard function: ({'t_count': 0, 'mode': 'Perceive'}, {'nom'})"
      ]
     },
     "execution_count": 9,
     "metadata": {},
     "output_type": "execute_result"
    }
   ],
   "source": [
    "mdl.fxns['DetectHazard']"
   ]
  },
  {
   "cell_type": "code",
   "execution_count": 10,
   "id": "ba44974b",
   "metadata": {
    "scrolled": true
   },
   "outputs": [
    {
     "data": {
      "image/png": "[encoded data removed]",
      "text/plain": [
       "<Figure size 432x288 with 1 Axes>"
      ]
     },
     "metadata": {},
     "output_type": "display_data"
    }
   ],
   "source": [
    "mdl.fxns['DetectHazard'].show_ASG()"
   ]
  },
  {
   "cell_type": "code",
   "execution_count": 11,
   "id": "605891e5",
   "metadata": {},
   "outputs": [
    {
     "data": {
      "text/plain": [
       "'Perceive'"
      ]
     },
     "execution_count": 11,
     "metadata": {},
     "output_type": "execute_result"
    }
   ],
   "source": [
    "mdl.fxns['DetectHazard'].mode"
   ]
  },
  {
   "cell_type": "code",
   "execution_count": 12,
   "id": "a2b0608b",
   "metadata": {},
   "outputs": [
    {
     "data": {
      "text/plain": [
       "['Perceive', 'Act', 'Done']"
      ]
     },
     "execution_count": 12,
     "metadata": {},
     "output_type": "execute_result"
    }
   ],
   "source": [
    "mdl.fxns['DetectHazard'].opermodes"
   ]
  },
  {
   "cell_type": "code",
   "execution_count": 13,
   "id": "1317a330",
   "metadata": {},
   "outputs": [
    {
     "data": {
      "text/plain": [
       "{'nom'}"
      ]
     },
     "execution_count": 13,
     "metadata": {},
     "output_type": "execute_result"
    }
   ],
   "source": [
    "mdl.fxns['DetectHazard'].faults"
   ]
  },
  {
   "cell_type": "code",
   "execution_count": 14,
   "id": "53a08ab9",
   "metadata": {},
   "outputs": [],
   "source": [
    "mdl.fxns['DetectHazard'].updatefxn('dynamic',time=1)"
   ]
  },
  {
   "cell_type": "code",
   "execution_count": 15,
   "id": "7eefbb4a",
   "metadata": {},
   "outputs": [
    {
     "data": {
      "text/plain": [
       "'Done'"
      ]
     },
     "execution_count": 15,
     "metadata": {},
     "output_type": "execute_result"
    }
   ],
   "source": [
    "mdl.fxns['DetectHazard'].mode"
   ]
  },
  {
   "cell_type": "code",
   "execution_count": 16,
   "id": "a7a167ac",
   "metadata": {},
   "outputs": [],
   "source": [
    "mdl.fxns['DetectHazard'].updatefxn('dynamic',time=2)\n",
    "mdl.fxns['DetectHazard'].updatefxn('dynamic',time=3)\n",
    "mdl.fxns['DetectHazard'].updatefxn('dynamic',time=4)\n",
    "mdl.fxns['DetectHazard'].updatefxn('dynamic',time=5)"
   ]
  },
  {
   "cell_type": "code",
   "execution_count": 17,
   "id": "a64112bc",
   "metadata": {},
   "outputs": [
    {
     "data": {
      "text/plain": [
       "'Done'"
      ]
     },
     "execution_count": 17,
     "metadata": {},
     "output_type": "execute_result"
    }
   ],
   "source": [
    "mdl.fxns['DetectHazard'].mode"
   ]
  },
  {
   "cell_type": "code",
   "execution_count": 18,
   "id": "d4cccde5",
   "metadata": {},
   "outputs": [
    {
     "data": {
      "text/plain": [
       "({'faults': {},\n",
       "  'classification': {'rate': 1.0, 'cost': 1, 'expected cost': 1.0}},\n",
       " <networkx.classes.graph.Graph at 0x1d341560ca0>,\n",
       " {'flows': {'Condition': {'present': array([False, False, False, False, False, False, False, False, False,\n",
       "           False, False, False, False, False, False, False, False, False,\n",
       "           False, False, False, False, False, False, False, False, False,\n",
       "           False, False, False, False, False, False, False, False, False,\n",
       "           False, False, False, False, False, False, False, False, False,\n",
       "           False, False, False, False, False, False, False, False, False,\n",
       "           False, False, False, False, False, False, False]),\n",
       "    'hazarous': array([False, False, False, False, False, False, False, False, False,\n",
       "           False, False, False, False, False, False, False, False, False,\n",
       "           False, False, False, False, False, False, False, False, False,\n",
       "           False, False, False, False, False, False, False, False, False,\n",
       "           False, False, False, False, False, False, False, False, False,\n",
       "           False, False, False, False, False, False, False, False, False,\n",
       "           False, False, False, False, False, False, False])},\n",
       "   'Mitigated_Condition': {'present': array([False, False, False, False, False, False, False, False, False,\n",
       "           False, False, False, False, False, False, False, False, False,\n",
       "           False, False, False, False, False, False, False, False, False,\n",
       "           False, False, False, False, False, False, False, False, False,\n",
       "           False, False, False, False, False, False, False, False, False,\n",
       "           False, False, False, False, False, False, False, False, False,\n",
       "           False, False, False, False, False, False, False]),\n",
       "    'hazarous': array([False, False, False, False, False, False, False, False, False,\n",
       "           False, False, False, False, False, False, False, False, False,\n",
       "           False, False, False, False, False, False, False, False, False,\n",
       "           False, False, False, False, False, False, False, False, False,\n",
       "           False, False, False, False, False, False, False, False, False,\n",
       "           False, False, False, False, False, False, False, False, False,\n",
       "           False, False, False, False, False, False, False])},\n",
       "   'Passed_Condition': {'present': array([False, False, False, False, False, False, False, False, False,\n",
       "           False, False, False, False, False, False, False, False, False,\n",
       "           False, False, False, False, False, False, False, False, False,\n",
       "           False, False, False, False, False, False, False, False, False,\n",
       "           False, False, False, False, False, False, False, False, False,\n",
       "           False, False, False, False, False, False, False, False, False,\n",
       "           False, False, False, False, False, False, False]),\n",
       "    'hazarous': array([False, False, False, False, False, False, False, False, False,\n",
       "           False, False, False, False, False, False, False, False, False,\n",
       "           False, False, False, False, False, False, False, False, False,\n",
       "           False, False, False, False, False, False, False, False, False,\n",
       "           False, False, False, False, False, False, False, False, False,\n",
       "           False, False, False, False, False, False, False, False, False,\n",
       "           False, False, False, False, False, False, False])}},\n",
       "  'functions': {'ProduceCondition': {},\n",
       "   'DetectHazard': {'faults': array(['nom', 'nom', 'nom', 'nom', 'nom', 'nom', 'nom', 'nom', 'nom',\n",
       "           'nom', 'nom', 'nom', 'nom', 'nom', 'nom', 'nom', 'nom', 'nom',\n",
       "           'nom', 'nom', 'nom', 'nom', 'nom', 'nom', 'nom', 'nom', 'nom',\n",
       "           'nom', 'nom', 'nom', 'nom', 'nom', 'nom', 'nom', 'nom', 'nom',\n",
       "           'nom', 'nom', 'nom', 'nom', 'nom', 'nom', 'nom', 'nom', 'nom',\n",
       "           'nom', 'nom', 'nom', 'nom', 'nom', 'nom', 'nom', 'nom', 'nom',\n",
       "           'nom', 'nom', 'nom', 'nom', 'nom', 'nom', 'nom'], dtype='<U15'),\n",
       "    't_count': array([1, 2, 3, 1, 2, 3, 1, 2, 3, 1, 2, 3, 1, 2, 3, 1, 2, 3, 1, 2, 3, 1,\n",
       "           2, 3, 1, 2, 3, 1, 2, 3, 1, 2, 3, 1, 2, 3, 1, 2, 3, 1, 2, 3, 1, 2,\n",
       "           3, 1, 2, 3, 1, 2, 3, 1, 2, 3, 1, 2, 3, 1, 2, 3, 1]),\n",
       "    'mode': array(['Done', 'Done', 'Done', 'Done', 'Done', 'Done', 'Done', 'Done',\n",
       "           'Done', 'Done', 'Done', 'Done', 'Done', 'Done', 'Done', 'Done',\n",
       "           'Done', 'Done', 'Done', 'Done', 'Done', 'Done', 'Done', 'Done',\n",
       "           'Done', 'Done', 'Done', 'Done', 'Done', 'Done', 'Done', 'Done',\n",
       "           'Done', 'Done', 'Done', 'Done', 'Done', 'Done', 'Done', 'Done',\n",
       "           'Done', 'Done', 'Done', 'Done', 'Done', 'Done', 'Done', 'Done',\n",
       "           'Done', 'Done', 'Done', 'Done', 'Done', 'Done', 'Done', 'Done',\n",
       "           'Done', 'Done', 'Done', 'Done', 'Done'], dtype='<U15')},\n",
       "   'PassSafeConditions': {},\n",
       "   'FixHazardConditions': {}},\n",
       "  'time': array([ 0,  1,  2,  3,  4,  5,  6,  7,  8,  9, 10, 11, 12, 13, 14, 15, 16,\n",
       "         17, 18, 19, 20, 21, 22, 23, 24, 25, 26, 27, 28, 29, 30, 31, 32, 33,\n",
       "         34, 35, 36, 37, 38, 39, 40, 41, 42, 43, 44, 45, 46, 47, 48, 49, 50,\n",
       "         51, 52, 53, 54, 55, 56, 57, 58, 59, 60])})"
      ]
     },
     "execution_count": 18,
     "metadata": {},
     "output_type": "execute_result"
    }
   ],
   "source": [
    "prop.nominal(mdl)"
   ]
  },
  {
   "cell_type": "code",
   "execution_count": null,
   "id": "27a0cd0f",
   "metadata": {},
   "outputs": [],
   "source": []
  },
  {
   "cell_type": "code",
   "execution_count": null,
   "id": "c3466da3",
   "metadata": {},
   "outputs": [],
   "source": []
  }
 ],
 "metadata": {
  "kernelspec": {
   "display_name": "Python 3 (ipykernel)",
   "language": "python",
   "name": "python3"
  },
  "language_info": {
   "codemirror_mode": {
    "name": "ipython",
    "version": 3
   },
   "file_extension": ".py",
   "mimetype": "text/x-python",
   "name": "python",
   "nbconvert_exporter": "python",
   "pygments_lexer": "ipython3",
   "version": "3.9.7"
  }
 },
 "nbformat": 4,
 "nbformat_minor": 5
}
