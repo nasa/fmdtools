{
 "cells": [
  {
   "cell_type": "markdown",
   "id": "cd4f0a15",
   "metadata": {},
   "source": [
    "# Action Sequence Graph Tutorial\n",
    "\n",
    "This tutorial covers use of the Action Sequence Graph in the FxnBlock class, which is useful for representing a Function's progress through a sequence of actions (e.g., modes of operation, etc).."
   ]
  },
  {
   "cell_type": "code",
   "execution_count": 1,
   "id": "aaeffd7f",
   "metadata": {},
   "outputs": [],
   "source": [
    "# for use in development - makes sure git version is used instead of pip-installed version\n",
    "import sys, os\n",
    "sys.path.insert(1,os.path.join(\"..\"))\n",
    "\n",
    "from fmdtools.modeldef import *\n",
    "import fmdtools.resultdisp as rd\n",
    "import fmdtools.faultsim.propagate as prop"
   ]
  },
  {
   "cell_type": "markdown",
   "id": "80c399a5",
   "metadata": {},
   "source": [
    "Action sequence graphs are used within a function block to represent the actions that the function performs and their sequence. Actions in an ASG are respresented by `Action` blocks, which are similar to function and component blocks in that they have:\n",
    "- flow connections\n",
    "- modes, and\n",
    "- behaviors\n",
    "\n",
    "Flow connections are routed to the action in the function block definition and represent the *shared variables* between the actions.\n",
    "\n",
    "Modes are similar to function modes and are instantiated (as they are in components) at both the Function and Action level. Using the `name=` option enables one to tag these modes as action modes at the function level while using the same local name\n",
    "\n",
    "\n",
    "Below we define three actions for use in a given model:\n",
    "- Perceive, a user's perception abilities/behaviors. In this function the user percieves a hazard (unless their perception fails)\n",
    "- Act, the user's action which they perform to mitigate the hazard.\n",
    "- Done, the user's state when they are done performing the action."
   ]
  },
  {
   "cell_type": "code",
   "execution_count": 68,
   "id": "56c32498",
   "metadata": {},
   "outputs": [],
   "source": [
    "class Perceive(Action):\n",
    "    def __init__(self, name, flows):\n",
    "        super().__init__(name,flows)\n",
    "        self.assoc_modes({'failed'}, exclusive=True, name=\"perceive_\")\n",
    "    def behavior(self,time):\n",
    "        if not self.in_mode('failed'): \n",
    "            self.Outcome.num_perceptions+=1\n",
    "            self.Hazard.percieved = self.Hazard.present\n",
    "        else: self.Hazard.percieved = False\n",
    "    def percieved(self):\n",
    "        return self.Hazard.percieved\n",
    "class Act(Action):\n",
    "    def __init__(self, name, flows):\n",
    "        super().__init__(name,flows)\n",
    "        self.assoc_modes({'failed'}, exclusive=True, name=\"act_\")\n",
    "    def behavior(self,time):\n",
    "        if not self.in_mode('failed'): \n",
    "            self.Outcome.num_actions+=1\n",
    "            self.Hazard.mitigated=True\n",
    "        else: self.Hazard.mitigated=False\n",
    "    def acted(self):\n",
    "        return not self.in_mode('failed')\n",
    "class Done(Action):\n",
    "    def __init__(self, name, flows):\n",
    "        super().__init__(name,flows)\n",
    "    def ready(self):\n",
    "        return not self.Hazard.present"
   ]
  },
  {
   "cell_type": "markdown",
   "id": "2a2040ca",
   "metadata": {},
   "source": [
    "To proceed through the sequence of actions, *conditions* must be met between each action. In these actions, we have defined the following conditions:\n",
    "- Percieve.percieved: perception is done if the hazard is percieved\n",
    "- Act.acted: the action is complete if the action was performed\n",
    "- Done.complete: the hazard mitigation is over \n",
    "\n",
    "To create the overall ASG structure, the following adds the flows, actions, and conditions to the function block."
   ]
  },
  {
   "cell_type": "code",
   "execution_count": 69,
   "id": "f8715765",
   "metadata": {},
   "outputs": [],
   "source": [
    "class DetectHazard(FxnBlock):\n",
    "    def __init__(self,name, flows):\n",
    "        super().__init__(name, flows)\n",
    "        self.add_flow('Outcome', {'num_perceptions':0, 'num_actions':0})\n",
    "        \n",
    "        self.add_act(\"Perceive\", Perceive, self.Outcome, self.Hazard)\n",
    "        self.add_act(\"Act\", Act, self.Outcome, self.Hazard)\n",
    "        self.add_act(\"Done\", Done, self.Outcome, self.Hazard)\n",
    "        \n",
    "        self.add_cond(\"Perceive\",\"Act\", \"Percieved\", self.Perceive.percieved)\n",
    "        self.add_cond(\"Act\",\"Done\", \"Acted\", self.Act.acted)\n",
    "        self.add_cond(\"Done\", \"Perceive\", \"Ready\", self.Done.ready)\n",
    "        self.assoc_modes(exclusive=True)\n",
    "        self.build_ASG(initial_action=\"Perceive\", asg_proptype='dynamic')"
   ]
  },
  {
   "cell_type": "markdown",
   "id": "d44f2b7e",
   "metadata": {},
   "source": [
    "Note the use of the following methods:\n",
    "- add_flow adds an *internal flow*--a flow used to connect actions that does not leave the function. Here *Outcome* is an internal flow, while *Hazard* is an external flow."
   ]
  },
  {
   "cell_type": "code",
   "execution_count": 70,
   "id": "cda49b0d",
   "metadata": {},
   "outputs": [
    {
     "name": "stdout",
     "output_type": "stream",
     "text": [
      "Help on function add_flow in module fmdtools.modeldef:\n",
      "\n",
      "add_flow(self, flowname, flowdict={}, flowtype='')\n",
      "    Adds a flow with given attributes to the Function Block\n",
      "    \n",
      "    Parameters\n",
      "    ----------\n",
      "    flowname : str\n",
      "        Unique flow name to give the flow in the function\n",
      "    flowattributes : dict, Flow, set or empty set\n",
      "        Dictionary of flow attributes e.g. {'value':XX}, or the Flow object.\n",
      "        If a set of attribute names is provided, each will be given a value of 1\n",
      "        If an empty set is given, it will be represented w- {flowname: 1}\n",
      "\n"
     ]
    }
   ],
   "source": [
    "help(FxnBlock.add_flow)"
   ]
  },
  {
   "cell_type": "markdown",
   "id": "ba8a4375",
   "metadata": {},
   "source": [
    "- add_act adds the action to the function and hands it the given flows and parameters. Here the actions are \"Percieve\", \"Act\", and \"Done\""
   ]
  },
  {
   "cell_type": "code",
   "execution_count": 71,
   "id": "55ce61be",
   "metadata": {},
   "outputs": [
    {
     "name": "stdout",
     "output_type": "stream",
     "text": [
      "Help on function add_act in module fmdtools.modeldef:\n",
      "\n",
      "add_act(self, name, action, *flows, duration=0.0, **params)\n",
      "    Associate an Action with the Function Block for use in the Action Sequence Graph\n",
      "    \n",
      "    Parameters\n",
      "    ----------\n",
      "    name : str\n",
      "        Internal Name for the Action\n",
      "    action : Action\n",
      "        Action class to instantiate\n",
      "    *flows : flow\n",
      "        Flows (optional) which connect the actions\n",
      "    **params : any\n",
      "        parameters to instantiate the Action with.\n",
      "\n"
     ]
    }
   ],
   "source": [
    "help(FxnBlock.add_act)"
   ]
  },
  {
   "cell_type": "markdown",
   "id": "ee916b72",
   "metadata": {},
   "source": [
    "- add_cond specifies the conditions for going from one action to another."
   ]
  },
  {
   "cell_type": "code",
   "execution_count": 72,
   "id": "04d69249",
   "metadata": {},
   "outputs": [
    {
     "name": "stdout",
     "output_type": "stream",
     "text": [
      "Help on function add_cond in module fmdtools.modeldef:\n",
      "\n",
      "add_cond(self, start_action, end_action, name='auto', condition='pass')\n",
      "    Associates a Condition with the Function Block for use in the Action Sequence Graph\n",
      "    \n",
      "    Parameters\n",
      "    ----------\n",
      "    start_action : str\n",
      "        Action where the condition is checked\n",
      "    end_action : str\n",
      "        Action that the condition leads to.\n",
      "    name : str\n",
      "        Name for the condition. Defaults to numbered conditions if none are provided.\n",
      "    condition : method\n",
      "        Method in the class to use as a condition. Defaults to self.condition_pass if none are provided\n",
      "\n"
     ]
    }
   ],
   "source": [
    "help(FxnBlock.add_cond)"
   ]
  },
  {
   "cell_type": "markdown",
   "id": "e6d11952",
   "metadata": {},
   "source": [
    "- build_ASG finally constructs the structure of the ASG (see: self.action_graph and self.flow_graph) and determines the settings for the simulation. In DetectHazard, default options are used, with the first action specified as \"Percieve\" and also with it specified that the actions propagate in the dynamic step (rather than static step)"
   ]
  },
  {
   "cell_type": "code",
   "execution_count": 73,
   "id": "e64c7dfb",
   "metadata": {},
   "outputs": [
    {
     "name": "stdout",
     "output_type": "stream",
     "text": [
      "Help on function build_ASG in module fmdtools.modeldef:\n",
      "\n",
      "build_ASG(self, initial_action='auto', state_rep='finite-state', max_action_prop='until_false', mode_rep='replace', asg_proptype='dynamic', per_timestep=False, asg_pos={})\n",
      "    Constructs the Action Sequence Graph with the given parameters.\n",
      "    \n",
      "    Parameters\n",
      "    ----------\n",
      "    initial_action : str/list\n",
      "        Initial action to set as active. Default is 'auto'\n",
      "            - 'auto' finds the starting node of the graph and uses it\n",
      "            - 'ActionName' sets the given action as the first active action\n",
      "            - providing a list of actions will set them all to active (if multi-state rep is used)\n",
      "    state_rep : 'finite-state'/'multi-state'\n",
      "        How the states of the system are represented. Default is 'finite-state'\n",
      "            - 'finite-state' means only one action in the system can be active at once (i.e., a finite state machine)\n",
      "            - 'multi-state' means multiple actions can be performed at once\n",
      "    max_action_prop : 'until_false'/'manual'/int\n",
      "        How actions progress. Default is 'until_false'\n",
      "            - 'until_false' means actions are simulated until all outgoing conditions are false\n",
      "            - providing an integer places a limit on the number of actions that can be performed per timestep\n",
      "    mode_rep : 'replace'/'independent'\n",
      "        How actions are used to represent modes. Default is 'replace.'\n",
      "            - 'replace' uses the actions to represent the operational modes of the system (only compatible with 'exclusive' representation)\n",
      "            - 'independent' keeps the actions and function-level mode seperate\n",
      "    asg_proptype : 'static'/'dynamic'/'manual'\n",
      "        Which propagation step to execute the Action Sequence Graph in. Default is 'dynamic'\n",
      "            - 'manual' means that the propagation is performed manually (defined in a behavior method)\n",
      "    per_timestep : bool\n",
      "        Defines whether the action sequence graph is reset to the initial state each time-step (True) or stays in the current action (False). Default is False\n",
      "    asg_pos : dict, optional\n",
      "        Positions of the nodes of the action/flow graph {node: [x,y]}. Default is {}\n",
      "\n"
     ]
    }
   ],
   "source": [
    "help(FxnBlock.build_ASG)"
   ]
  },
  {
   "cell_type": "markdown",
   "id": "eb6abc98",
   "metadata": {},
   "source": [
    "Below we first instantiate the function to how how it (and the ASG) simulates on its own "
   ]
  },
  {
   "cell_type": "code",
   "execution_count": 74,
   "id": "e785c8cf",
   "metadata": {},
   "outputs": [],
   "source": [
    "Hazard = Flow({\"present\":False, \"percieved\":False, \"mitigated\":False},'Hazard')\n",
    "ex_fxn = DetectHazard('DetectHazard', [Hazard])"
   ]
  },
  {
   "cell_type": "markdown",
   "id": "c22c204d",
   "metadata": {},
   "source": [
    "We can now view the ASG show_ASG()"
   ]
  },
  {
   "cell_type": "code",
   "execution_count": 75,
   "id": "2ab2698f",
   "metadata": {},
   "outputs": [
    {
     "name": "stdout",
     "output_type": "stream",
     "text": [
      "Help on function show_ASG in module fmdtools.modeldef:\n",
      "\n",
      "show_ASG(self, gtype='combined', with_cond_labels=True, pos=[])\n",
      "    Shows a visual representation of the internal Action Sequence Graph of the Function Block\n",
      "    \n",
      "    Parameters\n",
      "    ----------\n",
      "    gtype : 'combined'/'flows'/'actions'\n",
      "        Gives a graphical representation of the ASG. Default is 'combined'\n",
      "        - 'actions'     (for function input):    plots the sequence of actions in the function's Action Sequence Graph\n",
      "        - 'flows'       (for function input):    plots the action/flow connections in the function's Action Sequence Graph\n",
      "        - 'combined'    (for function input):    plots both the sequence of actions in the functions ASG and action/flow connections\n",
      "    with_cond_labels: Bool\n",
      "        Whether or not to label the conditions\n",
      "    pos : dict\n",
      "        Dictionary of node positions for actions/flows\n",
      "\n"
     ]
    }
   ],
   "source": [
    "help(FxnBlock.show_ASG)"
   ]
  },
  {
   "cell_type": "code",
   "execution_count": 76,
   "id": "b138342a",
   "metadata": {},
   "outputs": [
    {
     "data": {
      "image/png": "[encoded data removed]",
      "text/plain": [
       "<Figure size 432x288 with 1 Axes>"
      ]
     },
     "metadata": {},
     "output_type": "display_data"
    }
   ],
   "source": [
    "fig = ex_fxn.show_ASG()"
   ]
  },
  {
   "cell_type": "markdown",
   "id": "80542194",
   "metadata": {},
   "source": [
    "As shown, the \"Percieve\" action is active (green), while the inactive actions are shown in blue. This action is active because it is the initial action here.\n",
    "\n",
    "If we update the action, we can see the ASG progress between states:"
   ]
  },
  {
   "cell_type": "code",
   "execution_count": 77,
   "id": "734bd84b",
   "metadata": {},
   "outputs": [],
   "source": [
    "ex_fxn.Hazard.present=True\n",
    "ex_fxn.updatefxn('dynamic', time= 1)"
   ]
  },
  {
   "cell_type": "code",
   "execution_count": 78,
   "id": "23d3f646",
   "metadata": {},
   "outputs": [
    {
     "data": {
      "image/png": "[encoded data removed]",
      "text/plain": [
       "<Figure size 432x288 with 1 Axes>"
      ]
     },
     "metadata": {},
     "output_type": "display_data"
    }
   ],
   "source": [
    "fig = ex_fxn.show_ASG()"
   ]
  },
  {
   "cell_type": "code",
   "execution_count": 79,
   "id": "26856742",
   "metadata": {},
   "outputs": [
    {
     "data": {
      "text/plain": [
       "Hazard generic flow: {'present': True, 'percieved': True, 'mitigated': True}"
      ]
     },
     "execution_count": 79,
     "metadata": {},
     "output_type": "execute_result"
    }
   ],
   "source": [
    "ex_fxn.Hazard"
   ]
  },
  {
   "cell_type": "code",
   "execution_count": 80,
   "id": "082d27bd",
   "metadata": {},
   "outputs": [
    {
     "data": {
      "text/plain": [
       "Outcome Outcome flow: {'num_perceptions': 1, 'num_actions': 1}"
      ]
     },
     "execution_count": 80,
     "metadata": {},
     "output_type": "execute_result"
    }
   ],
   "source": [
    "ex_fxn.Outcome"
   ]
  },
  {
   "cell_type": "markdown",
   "id": "b747024d",
   "metadata": {},
   "source": [
    "As shown, each of the actions are progressed throuh in a single timestep until the ASG is in the \"Done\" action"
   ]
  },
  {
   "cell_type": "code",
   "execution_count": 81,
   "id": "83f3b109",
   "metadata": {},
   "outputs": [],
   "source": [
    "ex_fxn.Hazard.present= False\n",
    "ex_fxn.updatefxn('dynamic', time= 2)"
   ]
  },
  {
   "cell_type": "code",
   "execution_count": 82,
   "id": "971b8612",
   "metadata": {},
   "outputs": [
    {
     "data": {
      "image/png": "[encoded data removed]",
      "text/plain": [
       "<Figure size 432x288 with 1 Axes>"
      ]
     },
     "metadata": {},
     "output_type": "display_data"
    }
   ],
   "source": [
    "fig = ex_fxn.show_ASG()"
   ]
  },
  {
   "cell_type": "markdown",
   "id": "35dd6622",
   "metadata": {},
   "source": [
    "As shown, now that the hazard is no longer present, the \"Ready\" Condition is triggered and the ASG goes back to the percieve state."
   ]
  },
  {
   "cell_type": "code",
   "execution_count": null,
   "id": "0fc5eb5d",
   "metadata": {},
   "outputs": [],
   "source": []
  },
  {
   "cell_type": "code",
   "execution_count": null,
   "id": "21341278",
   "metadata": {},
   "outputs": [],
   "source": []
  },
  {
   "cell_type": "code",
   "execution_count": 15,
   "id": "0110dc70",
   "metadata": {},
   "outputs": [],
   "source": [
    "class ProduceHazard(FxnBlock):\n",
    "    def __init__(self,name, flows):\n",
    "        super().__init__(name, flows)\n",
    "    def behavior(self,time):\n",
    "       if time %4:\n",
    "        self.Hazard.present=True\n",
    "\n",
    "        return ready\n",
    "class Hazard(FxnBlock):\n",
    "    def __init__(self,name, flows):\n",
    "        super().__init__(name, flows)\n",
    "\n",
    "class HazardModel(Model):\n",
    "    def __init__(self, params={}, modelparams={'times':[0,60], 'tstep':1}, valparams={}):\n",
    "        super().__init__(params,modelparams,valparams)\n",
    "        \n",
    "        self.add_flow(\"Hazard\", {\"present\":False, \"percieved\":False})\n",
    "        \n",
    "        self.add_fxn(\"ProduceCondition\", ['Condition'],  ProduceCondition)\n",
    "        self.add_fxn(\"DetectHazard\",['Condition', 'Mitigated_Condition', 'Passed_Condition'], DetectHazard)\n",
    "        self.add_fxn(\"PassSafeConditions\", ['Mitigated_Condition'], PassSafeConditions)\n",
    "        self.add_fxn(\"FixHazardConditions\", ['Passed_Condition'], FixHazardConditions)\n",
    "        self.build_model()"
   ]
  },
  {
   "cell_type": "code",
   "execution_count": 16,
   "id": "ed070fc1",
   "metadata": {},
   "outputs": [],
   "source": [
    "mdl = HazardModel()"
   ]
  },
  {
   "cell_type": "code",
   "execution_count": 17,
   "id": "14fd484b",
   "metadata": {},
   "outputs": [
    {
     "data": {
      "text/plain": [
       "DetectHazard DetectHazard function: ({'t_count': 0, 'mode': 'Perceive'}, {'nom'}), active: {'Perceive'}"
      ]
     },
     "execution_count": 17,
     "metadata": {},
     "output_type": "execute_result"
    }
   ],
   "source": [
    "mdl.fxns['DetectHazard']"
   ]
  },
  {
   "cell_type": "code",
   "execution_count": 18,
   "id": "ba44974b",
   "metadata": {
    "scrolled": true
   },
   "outputs": [
    {
     "data": {
      "image/png": "[encoded data removed]",
      "text/plain": [
       "<Figure size 432x288 with 1 Axes>"
      ]
     },
     "execution_count": 18,
     "metadata": {},
     "output_type": "execute_result"
    },
    {
     "data": {
      "image/png": "[encoded data removed]",
      "text/plain": [
       "<Figure size 432x288 with 1 Axes>"
      ]
     },
     "metadata": {},
     "output_type": "display_data"
    }
   ],
   "source": [
    "mdl.fxns['DetectHazard'].show_ASG()"
   ]
  },
  {
   "cell_type": "code",
   "execution_count": 6,
   "id": "605891e5",
   "metadata": {},
   "outputs": [
    {
     "data": {
      "text/plain": [
       "'Perceive'"
      ]
     },
     "execution_count": 6,
     "metadata": {},
     "output_type": "execute_result"
    }
   ],
   "source": [
    "mdl.fxns['DetectHazard'].mode"
   ]
  },
  {
   "cell_type": "code",
   "execution_count": 7,
   "id": "a2b0608b",
   "metadata": {},
   "outputs": [
    {
     "data": {
      "text/plain": [
       "['Perceive', 'Act', 'Done']"
      ]
     },
     "execution_count": 7,
     "metadata": {},
     "output_type": "execute_result"
    }
   ],
   "source": [
    "mdl.fxns['DetectHazard'].opermodes"
   ]
  },
  {
   "cell_type": "code",
   "execution_count": 8,
   "id": "1317a330",
   "metadata": {},
   "outputs": [
    {
     "data": {
      "text/plain": [
       "{'nom'}"
      ]
     },
     "execution_count": 8,
     "metadata": {},
     "output_type": "execute_result"
    }
   ],
   "source": [
    "mdl.fxns['DetectHazard'].faults"
   ]
  },
  {
   "cell_type": "code",
   "execution_count": 9,
   "id": "53a08ab9",
   "metadata": {},
   "outputs": [],
   "source": [
    "mdl.fxns['DetectHazard'].updatefxn('dynamic',time=1)"
   ]
  },
  {
   "cell_type": "code",
   "execution_count": 10,
   "id": "7eefbb4a",
   "metadata": {},
   "outputs": [
    {
     "data": {
      "text/plain": [
       "'Done'"
      ]
     },
     "execution_count": 10,
     "metadata": {},
     "output_type": "execute_result"
    }
   ],
   "source": [
    "mdl.fxns['DetectHazard'].mode"
   ]
  },
  {
   "cell_type": "code",
   "execution_count": 11,
   "id": "a7a167ac",
   "metadata": {},
   "outputs": [],
   "source": [
    "mdl.fxns['DetectHazard'].updatefxn('dynamic',time=2)\n",
    "mdl.fxns['DetectHazard'].updatefxn('dynamic',time=3)\n",
    "mdl.fxns['DetectHazard'].updatefxn('dynamic',time=4)\n",
    "mdl.fxns['DetectHazard'].updatefxn('dynamic',time=5)"
   ]
  },
  {
   "cell_type": "code",
   "execution_count": 12,
   "id": "a64112bc",
   "metadata": {},
   "outputs": [
    {
     "data": {
      "text/plain": [
       "'Done'"
      ]
     },
     "execution_count": 12,
     "metadata": {},
     "output_type": "execute_result"
    }
   ],
   "source": [
    "mdl.fxns['DetectHazard'].mode"
   ]
  },
  {
   "cell_type": "code",
   "execution_count": 13,
   "id": "d4cccde5",
   "metadata": {},
   "outputs": [
    {
     "data": {
      "text/plain": [
       "({'faults': {},\n",
       "  'classification': {'rate': 1.0, 'cost': 1, 'expected cost': 1.0}},\n",
       " <networkx.classes.graph.Graph at 0x21a3733fa00>,\n",
       " {'flows': {'Condition': {'present': array([False, False, False, False, False, False, False, False, False,\n",
       "           False, False, False, False, False, False, False, False, False,\n",
       "           False, False, False, False, False, False, False, False, False,\n",
       "           False, False, False, False, False, False, False, False, False,\n",
       "           False, False, False, False, False, False, False, False, False,\n",
       "           False, False, False, False, False, False, False, False, False,\n",
       "           False, False, False, False, False, False, False]),\n",
       "    'hazarous': array([False, False, False, False, False, False, False, False, False,\n",
       "           False, False, False, False, False, False, False, False, False,\n",
       "           False, False, False, False, False, False, False, False, False,\n",
       "           False, False, False, False, False, False, False, False, False,\n",
       "           False, False, False, False, False, False, False, False, False,\n",
       "           False, False, False, False, False, False, False, False, False,\n",
       "           False, False, False, False, False, False, False])},\n",
       "   'Mitigated_Condition': {'present': array([False, False, False, False, False, False, False, False, False,\n",
       "           False, False, False, False, False, False, False, False, False,\n",
       "           False, False, False, False, False, False, False, False, False,\n",
       "           False, False, False, False, False, False, False, False, False,\n",
       "           False, False, False, False, False, False, False, False, False,\n",
       "           False, False, False, False, False, False, False, False, False,\n",
       "           False, False, False, False, False, False, False]),\n",
       "    'hazarous': array([False, False, False, False, False, False, False, False, False,\n",
       "           False, False, False, False, False, False, False, False, False,\n",
       "           False, False, False, False, False, False, False, False, False,\n",
       "           False, False, False, False, False, False, False, False, False,\n",
       "           False, False, False, False, False, False, False, False, False,\n",
       "           False, False, False, False, False, False, False, False, False,\n",
       "           False, False, False, False, False, False, False])},\n",
       "   'Passed_Condition': {'present': array([False, False, False, False, False, False, False, False, False,\n",
       "           False, False, False, False, False, False, False, False, False,\n",
       "           False, False, False, False, False, False, False, False, False,\n",
       "           False, False, False, False, False, False, False, False, False,\n",
       "           False, False, False, False, False, False, False, False, False,\n",
       "           False, False, False, False, False, False, False, False, False,\n",
       "           False, False, False, False, False, False, False]),\n",
       "    'hazarous': array([False, False, False, False, False, False, False, False, False,\n",
       "           False, False, False, False, False, False, False, False, False,\n",
       "           False, False, False, False, False, False, False, False, False,\n",
       "           False, False, False, False, False, False, False, False, False,\n",
       "           False, False, False, False, False, False, False, False, False,\n",
       "           False, False, False, False, False, False, False, False, False,\n",
       "           False, False, False, False, False, False, False])}},\n",
       "  'functions': {'ProduceCondition': {},\n",
       "   'DetectHazard': {'faults': array(['nom', 'nom', 'nom', 'nom', 'nom', 'nom', 'nom', 'nom', 'nom',\n",
       "           'nom', 'nom', 'nom', 'nom', 'nom', 'nom', 'nom', 'nom', 'nom',\n",
       "           'nom', 'nom', 'nom', 'nom', 'nom', 'nom', 'nom', 'nom', 'nom',\n",
       "           'nom', 'nom', 'nom', 'nom', 'nom', 'nom', 'nom', 'nom', 'nom',\n",
       "           'nom', 'nom', 'nom', 'nom', 'nom', 'nom', 'nom', 'nom', 'nom',\n",
       "           'nom', 'nom', 'nom', 'nom', 'nom', 'nom', 'nom', 'nom', 'nom',\n",
       "           'nom', 'nom', 'nom', 'nom', 'nom', 'nom', 'nom'], dtype='<U15'),\n",
       "    't_count': array([0, 1, 2, 3, 1, 2, 3, 1, 2, 3, 1, 2, 3, 1, 2, 3, 1, 2, 3, 1, 2, 3,\n",
       "           1, 2, 3, 1, 2, 3, 1, 2, 3, 1, 2, 3, 1, 2, 3, 1, 2, 3, 1, 2, 3, 1,\n",
       "           2, 3, 1, 2, 3, 1, 2, 3, 1, 2, 3, 1, 2, 3, 1, 2, 3]),\n",
       "    'mode': array(['Perceive', 'Done', 'Done', 'Done', 'Done', 'Done', 'Done', 'Done',\n",
       "           'Done', 'Done', 'Done', 'Done', 'Done', 'Done', 'Done', 'Done',\n",
       "           'Done', 'Done', 'Done', 'Done', 'Done', 'Done', 'Done', 'Done',\n",
       "           'Done', 'Done', 'Done', 'Done', 'Done', 'Done', 'Done', 'Done',\n",
       "           'Done', 'Done', 'Done', 'Done', 'Done', 'Done', 'Done', 'Done',\n",
       "           'Done', 'Done', 'Done', 'Done', 'Done', 'Done', 'Done', 'Done',\n",
       "           'Done', 'Done', 'Done', 'Done', 'Done', 'Done', 'Done', 'Done',\n",
       "           'Done', 'Done', 'Done', 'Done', 'Done'], dtype='<U15'),\n",
       "    'Done': {'faults': array(['nom', 'nom', 'nom', 'nom', 'nom', 'nom', 'nom', 'nom', 'nom',\n",
       "            'nom', 'nom', 'nom', 'nom', 'nom', 'nom', 'nom', 'nom', 'nom',\n",
       "            'nom', 'nom', 'nom', 'nom', 'nom', 'nom', 'nom', 'nom', 'nom',\n",
       "            'nom', 'nom', 'nom', 'nom', 'nom', 'nom', 'nom', 'nom', 'nom',\n",
       "            'nom', 'nom', 'nom', 'nom', 'nom', 'nom', 'nom', 'nom', 'nom',\n",
       "            'nom', 'nom', 'nom', 'nom', 'nom', 'nom', 'nom', 'nom', 'nom',\n",
       "            'nom', 'nom', 'nom', 'nom', 'nom', 'nom', 'nom'], dtype='<U6'),\n",
       "     't_loc': array([0., 1., 2., 3., 0., 1., 2., 0., 1., 2., 0., 1., 2., 0., 1., 2., 0.,\n",
       "            1., 2., 0., 1., 2., 0., 1., 2., 0., 1., 2., 0., 1., 2., 0., 1., 2.,\n",
       "            0., 1., 2., 0., 1., 2., 0., 1., 2., 0., 1., 2., 0., 1., 2., 0., 1.,\n",
       "            2., 0., 1., 2., 0., 1., 2., 0., 1., 2.]),\n",
       "     'mode': array(['nom', 'nom', 'nom', 'nom', 'nom', 'nom', 'nom', 'nom', 'nom',\n",
       "            'nom', 'nom', 'nom', 'nom', 'nom', 'nom', 'nom', 'nom', 'nom',\n",
       "            'nom', 'nom', 'nom', 'nom', 'nom', 'nom', 'nom', 'nom', 'nom',\n",
       "            'nom', 'nom', 'nom', 'nom', 'nom', 'nom', 'nom', 'nom', 'nom',\n",
       "            'nom', 'nom', 'nom', 'nom', 'nom', 'nom', 'nom', 'nom', 'nom',\n",
       "            'nom', 'nom', 'nom', 'nom', 'nom', 'nom', 'nom', 'nom', 'nom',\n",
       "            'nom', 'nom', 'nom', 'nom', 'nom', 'nom', 'nom'], dtype='<U6')},\n",
       "    'Perceive': {'faults': array(['nom', 'nom', 'nom', 'nom', 'nom', 'nom', 'nom', 'nom', 'nom',\n",
       "            'nom', 'nom', 'nom', 'nom', 'nom', 'nom', 'nom', 'nom', 'nom',\n",
       "            'nom', 'nom', 'nom', 'nom', 'nom', 'nom', 'nom', 'nom', 'nom',\n",
       "            'nom', 'nom', 'nom', 'nom', 'nom', 'nom', 'nom', 'nom', 'nom',\n",
       "            'nom', 'nom', 'nom', 'nom', 'nom', 'nom', 'nom', 'nom', 'nom',\n",
       "            'nom', 'nom', 'nom', 'nom', 'nom', 'nom', 'nom', 'nom', 'nom',\n",
       "            'nom', 'nom', 'nom', 'nom', 'nom', 'nom', 'nom'], dtype='<U6'),\n",
       "     't_loc': array([0., 0., 0., 0., 0., 0., 0., 0., 0., 0., 0., 0., 0., 0., 0., 0., 0.,\n",
       "            0., 0., 0., 0., 0., 0., 0., 0., 0., 0., 0., 0., 0., 0., 0., 0., 0.,\n",
       "            0., 0., 0., 0., 0., 0., 0., 0., 0., 0., 0., 0., 0., 0., 0., 0., 0.,\n",
       "            0., 0., 0., 0., 0., 0., 0., 0., 0., 0.]),\n",
       "     'mode': array(['nom', 'nom', 'nom', 'nom', 'nom', 'nom', 'nom', 'nom', 'nom',\n",
       "            'nom', 'nom', 'nom', 'nom', 'nom', 'nom', 'nom', 'nom', 'nom',\n",
       "            'nom', 'nom', 'nom', 'nom', 'nom', 'nom', 'nom', 'nom', 'nom',\n",
       "            'nom', 'nom', 'nom', 'nom', 'nom', 'nom', 'nom', 'nom', 'nom',\n",
       "            'nom', 'nom', 'nom', 'nom', 'nom', 'nom', 'nom', 'nom', 'nom',\n",
       "            'nom', 'nom', 'nom', 'nom', 'nom', 'nom', 'nom', 'nom', 'nom',\n",
       "            'nom', 'nom', 'nom', 'nom', 'nom', 'nom', 'nom'], dtype='<U6')},\n",
       "    'Act': {'faults': array(['nom', 'nom', 'nom', 'nom', 'nom', 'nom', 'nom', 'nom', 'nom',\n",
       "            'nom', 'nom', 'nom', 'nom', 'nom', 'nom', 'nom', 'nom', 'nom',\n",
       "            'nom', 'nom', 'nom', 'nom', 'nom', 'nom', 'nom', 'nom', 'nom',\n",
       "            'nom', 'nom', 'nom', 'nom', 'nom', 'nom', 'nom', 'nom', 'nom',\n",
       "            'nom', 'nom', 'nom', 'nom', 'nom', 'nom', 'nom', 'nom', 'nom',\n",
       "            'nom', 'nom', 'nom', 'nom', 'nom', 'nom', 'nom', 'nom', 'nom',\n",
       "            'nom', 'nom', 'nom', 'nom', 'nom', 'nom', 'nom'], dtype='<U6'),\n",
       "     't_loc': array([0., 0., 0., 0., 0., 0., 0., 0., 0., 0., 0., 0., 0., 0., 0., 0., 0.,\n",
       "            0., 0., 0., 0., 0., 0., 0., 0., 0., 0., 0., 0., 0., 0., 0., 0., 0.,\n",
       "            0., 0., 0., 0., 0., 0., 0., 0., 0., 0., 0., 0., 0., 0., 0., 0., 0.,\n",
       "            0., 0., 0., 0., 0., 0., 0., 0., 0., 0.]),\n",
       "     'mode': array(['nom', 'nom', 'nom', 'nom', 'nom', 'nom', 'nom', 'nom', 'nom',\n",
       "            'nom', 'nom', 'nom', 'nom', 'nom', 'nom', 'nom', 'nom', 'nom',\n",
       "            'nom', 'nom', 'nom', 'nom', 'nom', 'nom', 'nom', 'nom', 'nom',\n",
       "            'nom', 'nom', 'nom', 'nom', 'nom', 'nom', 'nom', 'nom', 'nom',\n",
       "            'nom', 'nom', 'nom', 'nom', 'nom', 'nom', 'nom', 'nom', 'nom',\n",
       "            'nom', 'nom', 'nom', 'nom', 'nom', 'nom', 'nom', 'nom', 'nom',\n",
       "            'nom', 'nom', 'nom', 'nom', 'nom', 'nom', 'nom'], dtype='<U6')}},\n",
       "   'PassSafeConditions': {},\n",
       "   'FixHazardConditions': {}},\n",
       "  'time': array([ 0,  1,  2,  3,  4,  5,  6,  7,  8,  9, 10, 11, 12, 13, 14, 15, 16,\n",
       "         17, 18, 19, 20, 21, 22, 23, 24, 25, 26, 27, 28, 29, 30, 31, 32, 33,\n",
       "         34, 35, 36, 37, 38, 39, 40, 41, 42, 43, 44, 45, 46, 47, 48, 49, 50,\n",
       "         51, 52, 53, 54, 55, 56, 57, 58, 59, 60])})"
      ]
     },
     "execution_count": 13,
     "metadata": {},
     "output_type": "execute_result"
    }
   ],
   "source": [
    "prop.nominal(mdl)"
   ]
  },
  {
   "cell_type": "code",
   "execution_count": null,
   "id": "27a0cd0f",
   "metadata": {},
   "outputs": [],
   "source": []
  },
  {
   "cell_type": "code",
   "execution_count": null,
   "id": "c3466da3",
   "metadata": {},
   "outputs": [],
   "source": []
  }
 ],
 "metadata": {
  "kernelspec": {
   "display_name": "Python 3 (ipykernel)",
   "language": "python",
   "name": "python3"
  },
  "language_info": {
   "codemirror_mode": {
    "name": "ipython",
    "version": 3
   },
   "file_extension": ".py",
   "mimetype": "text/x-python",
   "name": "python",
   "nbconvert_exporter": "python",
   "pygments_lexer": "ipython3",
   "version": "3.9.7"
  }
 },
 "nbformat": 4,
 "nbformat_minor": 5
}
