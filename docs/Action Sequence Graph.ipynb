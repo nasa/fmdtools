{
 "cells": [
  {
   "cell_type": "markdown",
   "id": "cd4f0a15",
   "metadata": {},
   "source": [
    "# Action Sequence Graph Tutorial\n",
    "\n",
    "This tutorial covers use of the Action Sequence Graph in the FxnBlock class, which is useful for representing a Function's progress through a sequence of actions (e.g., modes of operation, etc).."
   ]
  },
  {
   "cell_type": "code",
   "execution_count": 1,
   "id": "aaeffd7f",
   "metadata": {},
   "outputs": [],
   "source": [
    "from fmdtools.modeldef.common import State\n",
    "from fmdtools.modeldef.block import FxnBlock, Action, Mode, ASG\n",
    "from fmdtools.modeldef.model import Model\n",
    "from fmdtools.modeldef.flow import Flow\n",
    "import fmdtools.resultdisp as rd\n",
    "import fmdtools.faultsim.propagate as prop"
   ]
  },
  {
   "cell_type": "markdown",
   "id": "8431ee3c",
   "metadata": {},
   "source": [
    "Action sequence graphs are used within a function block to represent the actions that the function performs and their sequence. Actions in an ASG are respresented by `Action` blocks, which are similar to function and component blocks in that they have:\n",
    "- flow connections\n",
    "- modes, and\n",
    "- behaviors\n",
    "\n",
    "Flow connections are routed to the action in the function block definition and represent the *shared variables* between the actions.\n",
    "\n",
    "Modes are similar to function modes and are instantiated (as they are in components) at both the Function and Action level. Using the `name=` option enables one to tag these modes as action modes at the function level while using the same local name"
   ]
  },
  {
   "cell_type": "markdown",
   "id": "c51db872",
   "metadata": {},
   "source": [
    "Below we define the states to performed by the ASG:\n",
    "- Outcome, which tracks the number of actions and perceptions performed by the ASG\n",
    "- HazardState, which specifies whether a hazard is present, percieved, or mitigated"
   ]
  },
  {
   "cell_type": "code",
   "execution_count": 2,
   "id": "7a4209f1",
   "metadata": {},
   "outputs": [],
   "source": [
    "class OutcomeStates(State):\n",
    "    num_perceptions: int=0\n",
    "    num_actions:     int=0\n",
    "class Outcome(Flow):\n",
    "    _init_s = OutcomeStates\n",
    "    \n",
    "class HazardState(State):\n",
    "    present:    bool=False\n",
    "    percieved:  bool=False\n",
    "    mitigated:  bool=False\n",
    "class Hazard(Flow):\n",
    "    _init_s = HazardState"
   ]
  },
  {
   "cell_type": "markdown",
   "id": "8404fc4a",
   "metadata": {},
   "source": [
    "Below we define three actions for use in a given model:\n",
    "- Perceive, a user's perception abilities/behaviors. In this function the user percieves a hazard (unless their perception fails)\n",
    "- Act, the user's action which they perform to mitigate the hazard.\n",
    "- Done, the user's state when they are done performing the action."
   ]
  },
  {
   "cell_type": "code",
   "execution_count": 3,
   "id": "6ab709bc",
   "metadata": {},
   "outputs": [],
   "source": [
    "class ActionMode(Mode):\n",
    "    faultparams=('failed',)\n",
    "class Perceive(Action):\n",
    "    _init_m = ActionMode\n",
    "    def __init__(self, name, *flows):\n",
    "        super().__init__(name, flows)\n",
    "    def behavior(self,time):\n",
    "        if not self.m.in_mode('failed'): \n",
    "            self.Hazard.s.percieved = self.Hazard.s.present\n",
    "            self.Outcome.s.num_perceptions+=self.Hazard.s.percieved\n",
    "        else:\n",
    "            self.Hazard.s.percieved = False\n",
    "            self.remove_fault('failed', 'nom')\n",
    "    def percieved(self):\n",
    "        return self.Hazard.s.percieved\n",
    "class Act(Action):\n",
    "    _init_m = ActionMode\n",
    "    def __init__(self, name, *flows):\n",
    "        super().__init__(name,flows)\n",
    "    def behavior(self,time):\n",
    "        if not self.m.in_mode('failed'): \n",
    "            self.Outcome.s.num_actions+=1\n",
    "            self.Hazard.s.mitigated=True\n",
    "        elif self.m.in_mode('failed'): \n",
    "            self.Hazard.s.mitigated=False\n",
    "            self.remove_fault('failed', 'nom')\n",
    "        else: self.Hazard.s.mitigated=False\n",
    "    def acted(self):\n",
    "        return not self.m.in_mode('failed')\n",
    "class Done(Action):\n",
    "    def __init__(self, name, *flows):\n",
    "        super().__init__(name,flows)\n",
    "    def behavior(self,time):\n",
    "        if not self.Hazard.s.present: self.Hazard.s.mitigated=False\n",
    "    def ready(self):\n",
    "        return not self.Hazard.s.present"
   ]
  },
  {
   "cell_type": "markdown",
   "id": "1b7b2d39",
   "metadata": {},
   "source": [
    "To proceed through the sequence of actions, *conditions* must be met between each action. In these actions, we have defined the following conditions:\n",
    "- Percieve.percieved: perception is done if the hazard is percieved\n",
    "- Act.acted: the action is complete if the action was performed\n",
    "- Done.complete: the hazard mitigation is over (and mitigated state is reset to False)\n",
    "\n",
    "To create the overall ASG structure, the following adds the flows, actions, and conditions to the ASG class"
   ]
  },
  {
   "cell_type": "code",
   "execution_count": 4,
   "id": "164b4ba6",
   "metadata": {},
   "outputs": [],
   "source": [
    "class Human(ASG):\n",
    "    initial_action=\"Perceive\"\n",
    "    def __init__(self, *args, **kwargs):\n",
    "        super().__init__(*args, **kwargs)\n",
    "        self.add_flow(\"Outcome\", fclass=Outcome)\n",
    "        self.add_flow(\"Hazard\", fclass=Hazard)\n",
    "        \n",
    "        self.add_act(\"Perceive\", Perceive, \"Outcome\", \"Hazard\")\n",
    "        self.add_act(\"Act\", Act, \"Outcome\", \"Hazard\")\n",
    "        self.add_act(\"Done\", Done, \"Outcome\", \"Hazard\")\n",
    "        \n",
    "        self.add_cond(\"Perceive\",\"Act\", \"Percieved\",    self.actions['Perceive'].percieved)\n",
    "        self.add_cond(\"Act\",\"Done\", \"Acted\",            self.actions['Act'].acted)\n",
    "        self.add_cond(\"Done\", \"Perceive\", \"Ready\",      self.actions['Done'].ready)\n",
    "        self.build()"
   ]
  },
  {
   "cell_type": "markdown",
   "id": "2eaf0b20",
   "metadata": {},
   "source": [
    "Note the use of the following methods:\n",
    "- add_flow adds a flow so it can pass variables between actions. Here *Outcome* is an internal flow, while *Hazard* is an external flow."
   ]
  },
  {
   "cell_type": "code",
   "execution_count": 5,
   "id": "7140746c",
   "metadata": {},
   "outputs": [
    {
     "name": "stdout",
     "output_type": "stream",
     "text": [
      "Help on function add_flow in module fmdtools.modeldef.block:\n",
      "\n",
      "add_flow(self, flowname, fclass=<class 'fmdtools.modeldef.flow.Flow'>, p={}, s={}, flowtype='')\n",
      "    Adds a flow with given attributes to the model.\n",
      "    \n",
      "    Parameters\n",
      "    ----------\n",
      "    flowname : str\n",
      "        Unique flow name to give the flow in the model\n",
      "    fclass : Class, optional\n",
      "        Class to instantiate (e.g. CommsFlow, MultiFlow). Default is Flow.\n",
      "        Class must take flowname, flowdict, flowtype as input to __init__()\n",
      "        May alternatively provide already-instanced object.\n",
      "    p : dict, optional\n",
      "        Parameter dictionary to instantiate the flow with\n",
      "    s : dict, optional\n",
      "        State dictionary to overwrite Flow default state values with\n",
      "    flowtype : str, optional\n",
      "        Denotes type for class (e.g. 'energy,' 'material,', 'signal')\n",
      "\n"
     ]
    }
   ],
   "source": [
    "help(ASG.add_flow)"
   ]
  },
  {
   "cell_type": "markdown",
   "id": "a977c6ae",
   "metadata": {},
   "source": [
    "- add_act adds the action to the function and hands it the given flows and parameters. Here the actions are \"Percieve\", \"Act\", and \"Done\""
   ]
  },
  {
   "cell_type": "code",
   "execution_count": 6,
   "id": "306b2223",
   "metadata": {},
   "outputs": [
    {
     "name": "stdout",
     "output_type": "stream",
     "text": [
      "Help on function add_act in module fmdtools.modeldef.block:\n",
      "\n",
      "add_act(self, name, actclass, *flownames, duration=0.0, **params)\n",
      "    Associate an Action with the Function Block for use in the Action Sequence Graph\n",
      "    \n",
      "    Parameters\n",
      "    ----------\n",
      "    name : str\n",
      "        Internal Name for the Action\n",
      "    action : Action\n",
      "        Action class to instantiate\n",
      "    *flows : flow\n",
      "        Flows (optional) which connect the actions\n",
      "    **params : any\n",
      "        parameters to instantiate the Action with.\n",
      "\n"
     ]
    }
   ],
   "source": [
    "help(ASG.add_act)"
   ]
  },
  {
   "cell_type": "markdown",
   "id": "8153e9f4",
   "metadata": {},
   "source": [
    "- add_cond specifies the conditions for going from one action to another."
   ]
  },
  {
   "cell_type": "code",
   "execution_count": 7,
   "id": "5d0f05b2",
   "metadata": {},
   "outputs": [
    {
     "name": "stdout",
     "output_type": "stream",
     "text": [
      "Help on function add_cond in module fmdtools.modeldef.block:\n",
      "\n",
      "add_cond(self, start_action, end_action, name='auto', condition='pass')\n",
      "    Associates a Condition with the Function Block for use in the Action Sequence Graph\n",
      "    \n",
      "    Parameters\n",
      "    ----------\n",
      "    start_action : str\n",
      "        Action where the condition is checked\n",
      "    end_action : str\n",
      "        Action that the condition leads to.\n",
      "    name : str\n",
      "        Name for the condition. Defaults to numbered conditions if none are provided.\n",
      "    condition : method\n",
      "        Method in the class to use as a condition. Defaults to self.condition_pass if none are provided\n",
      "\n"
     ]
    }
   ],
   "source": [
    "help(ASG.add_cond)"
   ]
  },
  {
   "cell_type": "markdown",
   "id": "3b915b84",
   "metadata": {},
   "source": [
    "- ASG.build finally constructs the structure of the ASG (see: self.action_graph and self.flow_graph) and determines the settings for the simulation. In DetectHazard, default options are used, with the first action specified as \"Percieve\" and also with it specified that the actions propagate in the dynamic step (rather than static step)"
   ]
  },
  {
   "cell_type": "code",
   "execution_count": 8,
   "id": "1fbb218f",
   "metadata": {},
   "outputs": [
    {
     "name": "stdout",
     "output_type": "stream",
     "text": [
      "Help on function build in module fmdtools.modeldef.block:\n",
      "\n",
      "build(self)\n",
      "\n"
     ]
    }
   ],
   "source": [
    "help(ASG.build)"
   ]
  },
  {
   "cell_type": "markdown",
   "id": "04a5219b",
   "metadata": {},
   "source": [
    "- ASG.show can then be used to visualize the graph"
   ]
  },
  {
   "cell_type": "code",
   "execution_count": 9,
   "id": "c9500405",
   "metadata": {},
   "outputs": [
    {
     "name": "stdout",
     "output_type": "stream",
     "text": [
      "Help on function show in module fmdtools.modeldef.block:\n",
      "\n",
      "show(self, gtype='combined', with_cond_labels=True, pos=[])\n",
      "    Shows a visual representation of the internal Action Sequence Graph of the Function Block\n",
      "    \n",
      "    Parameters\n",
      "    ----------\n",
      "    gtype : 'combined'/'flows'/'actions'\n",
      "        Gives a graphical representation of the ASG. Default is 'combined'\n",
      "        - 'actions'     (for function input):    plots the sequence of actions in the function's Action Sequence Graph\n",
      "        - 'flows'       (for function input):    plots the action/flow connections in the function's Action Sequence Graph\n",
      "        - 'combined'    (for function input):    plots both the sequence of actions in the functions ASG and action/flow connections\n",
      "    with_cond_labels: Bool\n",
      "        Whether or not to label the conditions\n",
      "    pos : dict\n",
      "        Dictionary of node positions for actions/flows\n",
      "\n"
     ]
    }
   ],
   "source": [
    "help(ASG.show)"
   ]
  },
  {
   "cell_type": "code",
   "execution_count": 10,
   "id": "4607704d",
   "metadata": {},
   "outputs": [
    {
     "data": {
      "text/plain": [
       "Human(actions={'Perceive': Perceive Perceive action: ({'mode': 'nominal'}, set()), 'Act': Act Act action: ({'mode': 'nominal'}, set()), 'Done': Done Done action: ({'mode': 'nominal'}, set())}, action_graph=<networkx.classes.digraph.DiGraph object at 0x0000022E87F84AF0>, flow_graph=<networkx.classes.graph.Graph object at 0x0000022E87F84610>, conditions={'Percieved': <bound method Perceive.percieved of Perceive Perceive action: ({'mode': 'nominal'}, set())>, 'Acted': <bound method Act.acted of Act Act action: ({'mode': 'nominal'}, set())>, 'Ready': <bound method Done.ready of Done Done action: ({'mode': 'nominal'}, set())>}, faultmodes={'Perceivefailed': 'Perceive', 'Actfailed': 'Act'}, flows={'Outcome': Outcome Outcome flow: OutcomeStates(num_perceptions=0, num_actions=0), 'Hazard': Hazard Hazard flow: HazardState(present=False, percieved=False, mitigated=False)}, active_actions={'Perceive'})"
      ]
     },
     "execution_count": 10,
     "metadata": {},
     "output_type": "execute_result"
    }
   ],
   "source": [
    "h = Human()\n",
    "h"
   ]
  },
  {
   "cell_type": "code",
   "execution_count": 11,
   "id": "ba43465c",
   "metadata": {},
   "outputs": [
    {
     "data": {
      "image/png": "[encoded data removed]",
      "text/plain": [
       "<Figure size 432x288 with 1 Axes>"
      ]
     },
     "metadata": {},
     "output_type": "display_data"
    }
   ],
   "source": [
    "fig = h.show()"
   ]
  },
  {
   "cell_type": "markdown",
   "id": "55512607",
   "metadata": {},
   "source": [
    "As shown, the \"Percieve\" action is active (green), while the inactive actions are shown in blue. This action is active because it was defined as initial_action in the ASG definition.\n",
    "\n",
    "Below we first instantiate the function to how how it (and the ASG) simulates on its own "
   ]
  },
  {
   "cell_type": "code",
   "execution_count": 12,
   "id": "cfce5eb9",
   "metadata": {},
   "outputs": [],
   "source": [
    "class DetectHazard(FxnBlock):\n",
    "    _init_a = Human\n",
    "    def __init__(self,name, flows, params=[], **kwargs):\n",
    "        super().__init__(name, flows, **kwargs)"
   ]
  },
  {
   "cell_type": "markdown",
   "id": "0bf7d234",
   "metadata": {},
   "source": [
    "If we update the action, we can see the ASG progress between states:"
   ]
  },
  {
   "cell_type": "code",
   "execution_count": 13,
   "id": "f3a392d0",
   "metadata": {},
   "outputs": [
    {
     "data": {
      "text/plain": [
       "Hazard Hazard flow: HazardState(present=False, percieved=False, mitigated=False)"
      ]
     },
     "execution_count": 13,
     "metadata": {},
     "output_type": "execute_result"
    }
   ],
   "source": [
    "ex_fxn = DetectHazard('DetectHazard', [])\n",
    "ex_fxn.set_timestep(local_tstep=1.0)\n",
    "\n",
    "ex_fxn.a.flows['Hazard']"
   ]
  },
  {
   "cell_type": "code",
   "execution_count": 14,
   "id": "d9764630",
   "metadata": {},
   "outputs": [
    {
     "ename": "TypeError",
     "evalue": "hasattr expected 2 arguments, got 1",
     "output_type": "error",
     "traceback": [
      "\u001b[1;31m---------------------------------------------------------------------------\u001b[0m",
      "\u001b[1;31mTypeError\u001b[0m                                 Traceback (most recent call last)",
      "\u001b[1;32m~\\AppData\\Local\\Temp\\2/ipykernel_14504/2381242133.py\u001b[0m in \u001b[0;36m<module>\u001b[1;34m\u001b[0m\n\u001b[0;32m      1\u001b[0m \u001b[0mex_fxn\u001b[0m\u001b[1;33m.\u001b[0m\u001b[0ma\u001b[0m\u001b[1;33m.\u001b[0m\u001b[0mflows\u001b[0m\u001b[1;33m[\u001b[0m\u001b[1;34m'Hazard'\u001b[0m\u001b[1;33m]\u001b[0m\u001b[1;33m.\u001b[0m\u001b[0ms\u001b[0m\u001b[1;33m.\u001b[0m\u001b[0mpresent\u001b[0m\u001b[1;33m=\u001b[0m\u001b[1;32mTrue\u001b[0m\u001b[1;33m\u001b[0m\u001b[1;33m\u001b[0m\u001b[0m\n\u001b[1;32m----> 2\u001b[1;33m \u001b[0mex_fxn\u001b[0m\u001b[1;33m.\u001b[0m\u001b[0mupdatefxn\u001b[0m\u001b[1;33m(\u001b[0m\u001b[1;34m'dynamic'\u001b[0m\u001b[1;33m,\u001b[0m \u001b[0mtime\u001b[0m\u001b[1;33m=\u001b[0m \u001b[1;36m1\u001b[0m\u001b[1;33m)\u001b[0m\u001b[1;33m\u001b[0m\u001b[1;33m\u001b[0m\u001b[0m\n\u001b[0m",
      "\u001b[1;32mc:\\users\\dhulse\\documents\\github\\fmdtools\\fmdtools\\modeldef\\block.py\u001b[0m in \u001b[0;36mupdatefxn\u001b[1;34m(self, proptype, faults, time, run_stochastic)\u001b[0m\n\u001b[0;32m   1041\u001b[0m         \u001b[0mactions\u001b[0m \u001b[1;33m=\u001b[0m \u001b[0mgetattr\u001b[0m\u001b[1;33m(\u001b[0m\u001b[0mself\u001b[0m\u001b[1;33m,\u001b[0m \u001b[1;34m'a'\u001b[0m\u001b[1;33m,\u001b[0m \u001b[1;33m{\u001b[0m\u001b[1;34m'actions'\u001b[0m\u001b[1;33m:\u001b[0m\u001b[1;33m{\u001b[0m\u001b[1;33m}\u001b[0m\u001b[1;33m}\u001b[0m\u001b[1;33m)\u001b[0m\u001b[1;33m[\u001b[0m\u001b[1;34m'actions'\u001b[0m\u001b[1;33m]\u001b[0m\u001b[1;33m\u001b[0m\u001b[1;33m\u001b[0m\u001b[0m\n\u001b[0;32m   1042\u001b[0m         \u001b[0mcomp_actions\u001b[0m \u001b[1;33m=\u001b[0m \u001b[1;33m{\u001b[0m\u001b[1;33m**\u001b[0m\u001b[0mcomps\u001b[0m\u001b[1;33m,\u001b[0m \u001b[1;33m**\u001b[0m\u001b[0mactions\u001b[0m\u001b[1;33m}\u001b[0m\u001b[1;33m\u001b[0m\u001b[1;33m\u001b[0m\u001b[0m\n\u001b[1;32m-> 1043\u001b[1;33m         \u001b[1;32mif\u001b[0m \u001b[0mhasattr\u001b[0m\u001b[1;33m(\u001b[0m\u001b[1;34m'a'\u001b[0m\u001b[1;33m)\u001b[0m\u001b[1;33m:\u001b[0m \u001b[0mself\u001b[0m\u001b[1;33m.\u001b[0m\u001b[0ma\u001b[0m\u001b[1;33m.\u001b[0m\u001b[0mreset_if_per_timestep\u001b[0m\u001b[1;33m(\u001b[0m\u001b[1;33m)\u001b[0m\u001b[1;33m\u001b[0m\u001b[1;33m\u001b[0m\u001b[0m\n\u001b[0m\u001b[0;32m   1044\u001b[0m         \u001b[1;32mif\u001b[0m \u001b[0mcomp_actions\u001b[0m\u001b[1;33m:\u001b[0m     \u001b[1;31m# propogate faults from function level to component level\u001b[0m\u001b[1;33m\u001b[0m\u001b[1;33m\u001b[0m\u001b[0m\n\u001b[0;32m   1045\u001b[0m             \u001b[1;32mfor\u001b[0m \u001b[0mfault\u001b[0m \u001b[1;32min\u001b[0m \u001b[0mself\u001b[0m\u001b[1;33m.\u001b[0m\u001b[0mm\u001b[0m\u001b[1;33m.\u001b[0m\u001b[0mfaults\u001b[0m\u001b[1;33m:\u001b[0m\u001b[1;33m\u001b[0m\u001b[1;33m\u001b[0m\u001b[0m\n",
      "\u001b[1;31mTypeError\u001b[0m: hasattr expected 2 arguments, got 1"
     ]
    }
   ],
   "source": [
    "ex_fxn.a.flows['Hazard'].s.present=True\n",
    "ex_fxn.updatefxn('dynamic', time= 1)"
   ]
  },
  {
   "cell_type": "code",
   "execution_count": null,
   "id": "b7b91f58",
   "metadata": {},
   "outputs": [],
   "source": [
    "fig = ex_fxn.a.show()"
   ]
  },
  {
   "cell_type": "code",
   "execution_count": null,
   "id": "c8063413",
   "metadata": {},
   "outputs": [],
   "source": [
    "ex_fxn.a.flows['Hazard']"
   ]
  },
  {
   "cell_type": "code",
   "execution_count": null,
   "id": "7f3d2dc9",
   "metadata": {},
   "outputs": [],
   "source": [
    "ex_fxn.a.flows['Outcome']"
   ]
  },
  {
   "cell_type": "markdown",
   "id": "2a575475",
   "metadata": {},
   "source": [
    "As shown, each of the actions are progressed throuh in a single timestep until the ASG is in the \"Done\" action"
   ]
  },
  {
   "cell_type": "code",
   "execution_count": null,
   "id": "45260e33",
   "metadata": {},
   "outputs": [],
   "source": [
    "ex_fxn.a.flows['Hazard'].s.present=False\n",
    "ex_fxn.updatefxn('dynamic', time= 2)"
   ]
  },
  {
   "cell_type": "code",
   "execution_count": null,
   "id": "faf1f611",
   "metadata": {},
   "outputs": [],
   "source": [
    "fig = ex_fxn.a.show()"
   ]
  },
  {
   "cell_type": "code",
   "execution_count": null,
   "id": "7c2b23d5",
   "metadata": {},
   "outputs": [],
   "source": [
    "ex_fxn.a.flows['Outcome']"
   ]
  },
  {
   "cell_type": "code",
   "execution_count": null,
   "id": "18936276",
   "metadata": {},
   "outputs": [],
   "source": [
    "ex_fxn.a.flows['Hazard']"
   ]
  },
  {
   "cell_type": "markdown",
   "id": "cd896f8a",
   "metadata": {},
   "source": [
    "As shown, now that the hazard is no longer present, the \"Ready\" Condition is triggered and the ASG goes back to the percieve state."
   ]
  },
  {
   "cell_type": "markdown",
   "id": "8a2beeea",
   "metadata": {},
   "source": [
    "Below, this function is placed in the context of a model so we can see how it behaves in the context of a simulation"
   ]
  },
  {
   "cell_type": "code",
   "execution_count": null,
   "id": "0110dc70",
   "metadata": {},
   "outputs": [],
   "source": [
    "class ProduceHazard(FxnBlock):\n",
    "    def __init__(self,name, flows, *args, **kwargs):\n",
    "        super().__init__(name, flows)\n",
    "    def dynamic_behavior(self,time):\n",
    "        if not time%4: self.Hazard.s.present=True\n",
    "        else:          self.Hazard.s.present=False\n",
    "\n",
    "class PassStates(State):\n",
    "    hazards_mitigated:  int=0\n",
    "    hazards_propagated: int=0\n",
    "class PassHazard(FxnBlock):\n",
    "    _init_s = PassStates\n",
    "    def __init__(self,name, flows, *args, **kwargs):\n",
    "        super().__init__(name, flows)\n",
    "    def dynamic_behavior(self,time):\n",
    "        if self.Hazard.present and self.Hazard.mitigated:       self.hazards_mitigated+=1\n",
    "        elif self.Hazard.present and not self.Hazard.mitigated: self.hazards_propagated+=1\n",
    "\n",
    "from fmdtools.modeldef.common import Parameter\n",
    "from fmdtools.modeldef.model import ModelParam\n",
    "class HazardModel(Model):\n",
    "    def __init__(self, params=Parameter(), modelparams=ModelParam(times=(0,60), dt=1.0), valparams={}):\n",
    "        super().__init__(params,modelparams,valparams)\n",
    "        \n",
    "        self.add_flow(\"Hazard\", Hazard)\n",
    "        \n",
    "        self.add_fxn(\"ProduceHazard\", ['Hazard'],  ProduceHazard)\n",
    "        self.add_fxn(\"DetectHazard\",['Hazard'], DetectHazard)\n",
    "        self.add_fxn(\"PassHazard\", ['Hazard'], PassHazard)\n",
    "        self.build_model()"
   ]
  },
  {
   "cell_type": "code",
   "execution_count": null,
   "id": "ed070fc1",
   "metadata": {},
   "outputs": [],
   "source": [
    "mdl = HazardModel()\n",
    "endstate,  mdlhist = prop.nominal(mdl)"
   ]
  },
  {
   "cell_type": "markdown",
   "id": "220a2944",
   "metadata": {},
   "source": [
    "Below we look at the states of the functions/flows to see how this has simulated."
   ]
  },
  {
   "cell_type": "code",
   "execution_count": null,
   "id": "2e43bc4f",
   "metadata": {},
   "outputs": [],
   "source": [
    "restab = rd.tabulate.hist(mdlhist)"
   ]
  },
  {
   "cell_type": "code",
   "execution_count": null,
   "id": "c3466da3",
   "metadata": {},
   "outputs": [],
   "source": [
    "restab['DetectHazard']"
   ]
  },
  {
   "cell_type": "markdown",
   "id": "98c3738f",
   "metadata": {},
   "source": [
    "As shown, the ASG alternates between Perceive (when the hazard is not present) and Done (when the hazard is present)"
   ]
  },
  {
   "cell_type": "code",
   "execution_count": null,
   "id": "3d1879a7",
   "metadata": {},
   "outputs": [],
   "source": [
    "restab['Hazard']"
   ]
  },
  {
   "cell_type": "markdown",
   "id": "8605b68b",
   "metadata": {},
   "source": [
    "As a result, all of the present hazards (above) are also perceived and mitigated."
   ]
  },
  {
   "cell_type": "code",
   "execution_count": null,
   "id": "f4950be1",
   "metadata": {},
   "outputs": [],
   "source": [
    "restab['PassHazard']"
   ]
  },
  {
   "cell_type": "markdown",
   "id": "91cd17d1",
   "metadata": {},
   "source": [
    "And as a result no hazards are propagated."
   ]
  },
  {
   "cell_type": "markdown",
   "id": "5f609a51",
   "metadata": {},
   "source": [
    "Or, in plot form:"
   ]
  },
  {
   "cell_type": "code",
   "execution_count": null,
   "id": "4e645a8b",
   "metadata": {},
   "outputs": [],
   "source": [
    "fig, axs = rd.plot.mdlhists(mdlhist, fxnflowvals={'DetectHazard':'Outcome', 'PassHazard':'all'}, figsize=(10,5))"
   ]
  },
  {
   "cell_type": "markdown",
   "id": "d6f7e4f3",
   "metadata": {},
   "source": [
    "As shown, perceptions and actions track the hazards mitigated."
   ]
  },
  {
   "cell_type": "code",
   "execution_count": null,
   "id": "86ce066b",
   "metadata": {},
   "outputs": [],
   "source": [
    "fig, axs = rd.plot.mdlhists(mdlhist, fxnflowvals={'Hazard':'all', 'DetectHazard':'mode'}, figsize=(10,5))"
   ]
  },
  {
   "cell_type": "markdown",
   "id": "9092d3b5",
   "metadata": {},
   "source": [
    "And the mode tracks the presence of the hazard."
   ]
  },
  {
   "cell_type": "markdown",
   "id": "8196b173",
   "metadata": {},
   "source": [
    "ASGs can also be viewed using the `resultdisp.graph` module. Below we will simulate a fault and see how it tracks in the model."
   ]
  },
  {
   "cell_type": "code",
   "execution_count": null,
   "id": "b12779a5",
   "metadata": {},
   "outputs": [],
   "source": [
    "resgraph_fault, mdlhist_fault = prop.one_fault(mdl, 'DetectHazard','perceive_failed', time=4, desired_result='bipartite')"
   ]
  },
  {
   "cell_type": "markdown",
   "id": "35cb0ecd",
   "metadata": {},
   "source": [
    "As shown, this fault results in the hazard not being perceived (and thus the hazard propagating)"
   ]
  },
  {
   "cell_type": "code",
   "execution_count": null,
   "id": "f94350ba",
   "metadata": {},
   "outputs": [],
   "source": [
    "fig, axs = rd.plot.mdlhists(mdlhist_fault, fxnflowvals={'Hazard':'all', 'DetectHazard':'mode'}, figsize=(10,5), time_slice=[4])"
   ]
  },
  {
   "cell_type": "code",
   "execution_count": null,
   "id": "cef5e479",
   "metadata": {},
   "outputs": [],
   "source": [
    "fig, axs = rd.plot.mdlhists(mdlhist_fault, fxnflowvals={'DetectHazard':'Outcome', 'PassHazard':'all'}, figsize=(10,5), time_slice=[4])"
   ]
  },
  {
   "cell_type": "markdown",
   "id": "57b3efab",
   "metadata": {},
   "source": [
    "As shown, this only shows up in the PassHazard function (since the fault is removed in one timestep)."
   ]
  },
  {
   "cell_type": "code",
   "execution_count": null,
   "id": "356f9c1d",
   "metadata": {},
   "outputs": [],
   "source": [
    "fig = rd.graph.show(resgraph_fault)"
   ]
  },
  {
   "cell_type": "markdown",
   "id": "8ac69430",
   "metadata": {},
   "source": [
    "To see this in more detail, we will process the results history and then use `graph.results_from` at the time of the fault."
   ]
  },
  {
   "cell_type": "code",
   "execution_count": null,
   "id": "04261f10",
   "metadata": {},
   "outputs": [],
   "source": [
    "reshist, diff, summary = rd.process.hist(mdlhist_fault)\n",
    "rd.tabulate.hist(reshist)"
   ]
  },
  {
   "cell_type": "markdown",
   "id": "a9300a5a",
   "metadata": {},
   "source": [
    "Below shows the state of the model at the given time."
   ]
  },
  {
   "cell_type": "code",
   "execution_count": null,
   "id": "8310787e",
   "metadata": {},
   "outputs": [],
   "source": [
    "fig = rd.graph.result_from(mdl, reshist, 4)"
   ]
  },
  {
   "cell_type": "markdown",
   "id": "15acac85",
   "metadata": {},
   "source": [
    "We can also use `show` to view the state of the ASG. See below:"
   ]
  },
  {
   "cell_type": "code",
   "execution_count": null,
   "id": "f0712385",
   "metadata": {},
   "outputs": [],
   "source": [
    "fig = rd.graph.result_from(mdl.fxns['DetectHazard'], reshist, 4, gtype='combined')"
   ]
  },
  {
   "cell_type": "markdown",
   "id": "e99f45ab",
   "metadata": {},
   "source": [
    "Note the lack of a fault at this time-step, despite it being instantiated here. This is because the fault was removed at the end of the same time-step it was added in.\n",
    "\n",
    "The 'unable' fault, on the other hand, stays throughout the simulation and thus shows up:"
   ]
  },
  {
   "cell_type": "code",
   "execution_count": null,
   "id": "774c3a2b",
   "metadata": {},
   "outputs": [],
   "source": [
    "endstate_unable, mdlhist_unable = prop.one_fault(mdl, 'DetectHazard','act_unable', time=4)\n",
    "reshist_unable, diff_unable, summary_unable = rd.process.hist(mdlhist_unable)\n",
    "fig, axs = rd.plot.mdlhists(mdlhist_unable, fxnflowvals={'Hazard':'all', 'DetectHazard':'mode'}, figsize=(10,5), time_slice=[4])"
   ]
  },
  {
   "cell_type": "code",
   "execution_count": null,
   "id": "7b5f549b",
   "metadata": {},
   "outputs": [],
   "source": [
    "fig = rd.graph.result_from(mdl, reshist_unable, 4)"
   ]
  },
  {
   "cell_type": "code",
   "execution_count": null,
   "id": "4688d21a",
   "metadata": {},
   "outputs": [],
   "source": [
    "fig = rd.graph.result_from(mdl.fxns['DetectHazard'], reshist_unable, 4, gtype='combined')"
   ]
  },
  {
   "cell_type": "code",
   "execution_count": null,
   "id": "15a04b69",
   "metadata": {},
   "outputs": [],
   "source": [
    "fig = rd.graph.result_from(mdl.fxns['DetectHazard'], reshist_unable, 6, gtype='combined')"
   ]
  },
  {
   "cell_type": "code",
   "execution_count": null,
   "id": "df8e2186",
   "metadata": {},
   "outputs": [],
   "source": []
  }
 ],
 "metadata": {
  "kernelspec": {
   "display_name": "Python 3 (ipykernel)",
   "language": "python",
   "name": "python3"
  },
  "language_info": {
   "codemirror_mode": {
    "name": "ipython",
    "version": 3
   },
   "file_extension": ".py",
   "mimetype": "text/x-python",
   "name": "python",
   "nbconvert_exporter": "python",
   "pygments_lexer": "ipython3",
   "version": "3.9.7"
  }
 },
 "nbformat": 4,
 "nbformat_minor": 5
}
