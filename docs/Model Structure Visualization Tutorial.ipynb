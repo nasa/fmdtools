{
 "cells": [
  {
   "cell_type": "markdown",
   "metadata": {},
   "source": [
    "# Defining and Visualizing fmdtools Model Structures\n",
    "\n",
    "To ensure that a simulation meets the intent of a modeller, it is important to carefully define the structure of the model and run order. This notebook will demonstrate fmdtools' interfaces both for setting up model structures and the run order for better model development."
   ]
  },
  {
   "cell_type": "code",
   "execution_count": 1,
   "metadata": {},
   "outputs": [],
   "source": [
    "import sys\n",
    "# for use in development - makes sure git version is used instead of pip-installed version\n",
    "paths = sys.path\n",
    "if paths[1]!='../':\n",
    "    sys.path=[sys.path[0]] + ['../'] + paths\n",
    "\n",
    "from fmdtools.modeldef import *\n",
    "import fmdtools.resultdisp as rd\n",
    "import fmdtools.faultsim.propagate as prop"
   ]
  },
  {
   "cell_type": "markdown",
   "metadata": {},
   "source": [
    "### Basics\n",
    "\n",
    "An fmdtools model is made up of functions--model structures with behavioral methods and internal states--and flows--data relationships between functions. These functions and flows are defined in python classes and thus may be instantiated multiple times in a model to create multi-component models with complex interactions. The structure of these model classes is shown below:\n",
    "\n",
    "![Model Classes](files/figures/example_model.png)\n",
    "\n",
    "Creating a model thus involves:\n",
    "- defining the function and flow classes defining the behavior of the model in the model module\n",
    "- defining the specific structure for the model: function and flow *objects* (instantiations of functions) and their relationships.\n",
    "\n",
    "The main functions for viewing the model structure is `rd.graph.show`"
   ]
  },
  {
   "cell_type": "code",
   "execution_count": 2,
   "metadata": {},
   "outputs": [
    {
     "name": "stdout",
     "output_type": "stream",
     "text": [
      "Help on function show in module fmdtools.resultdisp.graph:\n",
      "\n",
      "show(g, gtype='normal', pos=[], scale=1, faultscen=[], time=[], figsize=(6, 4), showfaultlabels=True, highlight=[], colors=['lightgray', 'orange', 'red'], heatmap={}, cmap=<matplotlib.colors.LinearSegmentedColormap object at 0x0000024C09214DF0>, graphviz=False, filename='', **kwargs)\n",
      "    Plots a single graph object g.\n",
      "    \n",
      "    Parameters\n",
      "    ----------\n",
      "    g : networkx graph or model\n",
      "        The multigraph to plot\n",
      "    gtype : 'normal' or 'bipartite'\n",
      "        Type of graph input to show--normal (multgraph) or bipartite\n",
      "    pos : dict\n",
      "        Positions for nodes\n",
      "    scale: float\n",
      "        Changes sizes of nodes in bipartite graph\n",
      "    faultscen : str, optional\n",
      "        Name of the fault scenario (for the title). The default is [].\n",
      "    time : float, optional\n",
      "        Time of fault injection. The default is [].\n",
      "    showfaultlabels : bool, optional\n",
      "        Whether or not to label the faults on the functions. The default is True.\n",
      "    highlight : list, optional\n",
      "        Functions/flows to highlight using [faulty functions, degraded functions, degraded flows] labelling scheme.\n",
      "        Used for custom overlays. Default is []\n",
      "    colors : list, optional\n",
      "        List of colors to use for nominal, degraded, and faulty functions/flows.\n",
      "        Default is: ['lightgray','orange', 'red']\n",
      "    heatmap : dict, optional\n",
      "        A heatmap dictionary to overlay on the plot. The default is {}.\n",
      "    cmap : mpl colormap\n",
      "        Colormap to use for heatmap visualizations\n",
      "    ###The following paramaters are specifically for graphviz rendering -- ideally these can be separated in future renditions.\n",
      "    graphviz : bool \n",
      "        default is False. calls nx_to_graphviz() if true.\n",
      "    filename : string, optional\n",
      "        the filename for the graphviz png output and dot output. The default is ''.\n",
      "    **kwargs : dictionary\n",
      "        dictionary of graphviz attributes used to customize the output.\n",
      "        this includes layout, overlap, node padding, node separation, font, fontsize, etc.\n",
      "        see http://www.graphviz.org/doc/info/attrs.html for all options\n",
      "\n"
     ]
    }
   ],
   "source": [
    "help(rd.graph.show)"
   ]
  },
  {
   "cell_type": "markdown",
   "metadata": {},
   "source": [
    "However, these relationships only define the *structure* of the model--for the model to simulate correctly and efficiently, the run order of fuctions additionally must be defined.\n",
    "\n",
    "Each timestep of a model simulation can be broken down into two steps: \n",
    "\n",
    "![Dynamic Propagation Step](files/figures/dynamic_step.png) \n",
    "\n",
    "- **Dynamic Propagation Step:** In the dynamic propagation step, the time-based behaviors (e.g. accumulations, movement, etc.) are each run *once* in a specified order. These steps are generally quicker to execute because each behavior is only run once and the flows do not need to be tracked to determine which behaviors to execute next. This step is run first at each time-step of the model.\n",
    "\n",
    "![Static Propagation Step](files/figures/propogation.png)\n",
    "\n",
    "- **Static Propagation Step:**\n",
    "    In the static propagation step, behaviors are propagated between functions iteratively until the state of the model converges to a single value. This may require an update of multiple function behaviors until there are no more new behaviors to run. Thus, static behaviors should be ''timeless'' (always give the same output for the same input) and convergent (behaviors in each function should not change each other ad infinitum). This step is run second at each time-step of the model.\n",
    "\n",
    "With these different behaviors, one can express a range of different types of models:\n",
    "- **static models** where only only one timestep is run, where fault scenarios show the immediate propagation of faults through the system.\n",
    "- **dynamic models** where a number of timesteps are run (but behaviors are only run once).\n",
    "- **hybrid models** where dynamic behaviors are run once and then a static propagation step is performed at each time-step."
   ]
  },
  {
   "cell_type": "markdown",
   "metadata": {},
   "source": [
    "The main interfaces/functions involved in defining run order are:\n",
    "- `FxnBlock.static_behavior(self, time)` and `FxnBlock.behavior(self, time)`, which define function behaviors which occur during the static propagation step. \n",
    "- `FxnBlock.dynamic_behavior(self, time)`, which defines function behaviors during the dynamic propagation step.\n",
    "- `FxnBlock.condfaults(self, time)`, does not define run order, but it can be used for behaviors which would at any time during simulation (dynamic or static) lead to the system entering a fault mode (e.g., conditional faults).\n",
    "- `Model.add_fxn()`, which when used successively for each function specifies that those functions run in the order they are added.\n",
    "\n",
    "There is additionally `Model.build_model()`, which enables one to manually specify the order of the dynamic propagation step (and initial static step):"
   ]
  },
  {
   "cell_type": "code",
   "execution_count": 3,
   "metadata": {},
   "outputs": [
    {
     "name": "stdout",
     "output_type": "stream",
     "text": [
      "Help on function build_model in module fmdtools.modeldef:\n",
      "\n",
      "build_model(self, functionorder=[], graph_pos={}, bipartite_pos={})\n",
      "    Builds the model graph after the functions have been added.\n",
      "    \n",
      "    Parameters\n",
      "    ----------\n",
      "    functionorder : list, optional\n",
      "        The order for the functions to be executed in. The default is [].\n",
      "    graph_pos : dict, optional\n",
      "        position of graph nodes. The default is {}.\n",
      "    bipartite_pos : dict, optional\n",
      "        position of bipartite graph nodes. The default is {}.\n",
      "\n"
     ]
    }
   ],
   "source": [
    "help(Model.build_model)"
   ]
  },
  {
   "cell_type": "markdown",
   "metadata": {},
   "source": [
    "The overall static/dynamic propagation steps of the model can then be visualized using `rd.graph.exec_order`"
   ]
  },
  {
   "cell_type": "code",
   "execution_count": 4,
   "metadata": {},
   "outputs": [
    {
     "name": "stdout",
     "output_type": "stream",
     "text": [
      "Help on function exec_order in module fmdtools.resultdisp.graph:\n",
      "\n",
      "exec_order(mdl, gtype='bipartite', pos=[], scale=1, colors=['lightgray', 'cyan', 'teal'], show_dyn_order=True, title='Function Execution Order', legend=True)\n",
      "    Displays the execution order/types of the model, where the functions and flows in the\n",
      "    static step are highlighted and the functions in the dynamic step are listed (with corresponding order)\n",
      "    \n",
      "    Parameters\n",
      "    ----------\n",
      "    mdl : fmdtools Model\n",
      "        Model of the system to visualize.\n",
      "    gtype : 'normal'/'bipartite', optional\n",
      "        Representation of the model to use. The default is 'bipartite'.\n",
      "    pos : dict optional\n",
      "        Dictionary of positions for the model. The default is [].\n",
      "    scale : float, optional\n",
      "        Scale factor for the node sizes. The default is 1.\n",
      "    colors : list, optional\n",
      "        Colors to use for unexecuted functions, static propagation steps, and dynamic functions. \n",
      "        The default is ['lightgray', 'cyan','teal'].\n",
      "    show_dyn_order : bool, optional\n",
      "        Whether to label the execution order for dynamic functions. The default is True.\n",
      "    title : str, optional\n",
      "        Title for the plot. The default is \"Function Execution Order\".\n",
      "    legend : bool, optional\n",
      "        Whether to show a legend. The default is True.\n",
      "    \n",
      "    Returns\n",
      "    -------\n",
      "    tuple of form (figure, axis)\n",
      "\n"
     ]
    }
   ],
   "source": [
    "help(rd.graph.exec_order)"
   ]
  },
  {
   "cell_type": "markdown",
   "metadata": {},
   "source": [
    "While the functions and flows updated/executed on in the dynamic propagation step can be visualized using `rd.plot.dyn_order`:"
   ]
  },
  {
   "cell_type": "code",
   "execution_count": 5,
   "metadata": {},
   "outputs": [
    {
     "name": "stdout",
     "output_type": "stream",
     "text": [
      "Help on function dyn_order in module fmdtools.resultdisp.plot:\n",
      "\n",
      "dyn_order(mdl, rotateticks=False, title='Dynamic Run Order')\n",
      "    Plots the run order for the model during the dynamic propagation step used \n",
      "    by dynamic_behavior() methods, where the x-direction is the order of each\n",
      "    function executed and the y are the corresponding flows acted on by the \n",
      "    given methods.\n",
      "    \n",
      "    Parameters\n",
      "    ----------\n",
      "    mdl : Model\n",
      "        fmdtools model\n",
      "    rotateticks : Bool, optional\n",
      "        Whether to rotate the x-ticks (for bigger plots). The default is False.\n",
      "    title : str, optional\n",
      "        String to use for the title (if any). The default is \"Dynamic Run Order\".\n",
      "    \n",
      "    Returns\n",
      "    -------\n",
      "    fig : figure\n",
      "        Matplotlib figure object \n",
      "    ax : axis\n",
      "        Corresponding matplotlib axis\n",
      "\n"
     ]
    }
   ],
   "source": [
    "help(rd.plot.dyn_order)"
   ]
  },
  {
   "cell_type": "markdown",
   "metadata": {},
   "source": [
    "The next sections will demonstrate these functions using a simple hybrid model."
   ]
  },
  {
   "cell_type": "markdown",
   "metadata": {},
   "source": [
    "### Model Setup\n",
    "\n",
    "Consider the following (highly simplified) rover electrical/navigation model. We can define the functions of this rover using the classes:"
   ]
  },
  {
   "cell_type": "code",
   "execution_count": 6,
   "metadata": {},
   "outputs": [],
   "source": [
    "class Control_Rover(FxnBlock):\n",
    "    def __init__(self,name, flows):\n",
    "        super().__init__(name, flows)\n",
    "        self.assoc_modes({'no_con':[1e-4, 200]}, ['drive','standby'], initmode='standby')\n",
    "    def dynamic_behavior(self,time):\n",
    "        if not self.in_mode('no_con'):\n",
    "            if time == 5: self.set_mode('drive')\n",
    "            if time == 50: self.set_mode('standby')\n",
    "        if self.in_mode('drive'):\n",
    "            self.Control.power = 1\n",
    "            self.Control.vel = 1\n",
    "        elif self.in_mode('standby'):\n",
    "            self.Control.vel = 0\n",
    "            self.Control.power=0"
   ]
  },
  {
   "cell_type": "markdown",
   "metadata": {},
   "source": [
    "This function uses `dynamic_behavior()` to define the dynamic behavior of going through different modes depending on what model time it is. While this could also be entered in as a static behavior, because none of the defined behaviors themselves result from external inputs, there is no reason to."
   ]
  },
  {
   "cell_type": "code",
   "execution_count": 7,
   "metadata": {},
   "outputs": [],
   "source": [
    "class Move_Rover(FxnBlock):\n",
    "    def __init__(self,name, flows):\n",
    "        super().__init__(name, flows, flownames={\"EE\":\"EE_in\"}, states = {'power':0})\n",
    "        self.assoc_modes({\"mech_loss\", \"elec_open\", \"short\"})\n",
    "    def static_behavior(self, time):\n",
    "        self.power = self.EE_in.v_supply * self.Control.vel *self.no_fault(\"elec_open\")\n",
    "        self.EE_in.a_supply = self.power/(12*(self.no_fault('short')+0.001))\n",
    "        if self.power >100: self.add_fault(\"elec_open\")\n",
    "    def dynamic_behavior(self, time):\n",
    "        if not self.has_faults([\"elec_open\", \"mech_loss\"]): \n",
    "            self.Ground.x = self.Ground.x + self.power*self.no_fault(\"mech_loss\")"
   ]
  },
  {
   "cell_type": "markdown",
   "metadata": {},
   "source": [
    "The `Move_Rover` function uses both:\n",
    "- a static behavior which defines the input/output of electrical power at each instant, and\n",
    "- a dynamic behavior which defines the movement of the rover over time\n",
    "\n",
    "In this instance, the static behavior is important for enabling faults to propagate instantaneously in a single time-step (in this case, a short causing high current load to the battery). "
   ]
  },
  {
   "cell_type": "code",
   "execution_count": 8,
   "metadata": {},
   "outputs": [],
   "source": [
    "class Store_Energy(FxnBlock):\n",
    "    def __init__(self, name, flows):\n",
    "        super().__init__(name,flows, states={\"charge\": 100})\n",
    "        self.assoc_modes({\"no_charge\":[1e-5, {'standby':1.0}, 100],\"short\":[1e-5, {'supply':1.0}, 100],}, [\"supply\",\"charge\",\"standby\"], initmode=\"standby\", exclusive = True, key_phases_by='self')\n",
    "    def static_behavior(self,time):\n",
    "        if self.EE.a_supply > 5: self.add_fault(\"no_charge\")\n",
    "    def dynamic_behavior(self,time):\n",
    "        if self.in_mode(\"standby\"):     \n",
    "            self.EE.v_supply = 0; self.EE.a_supply = 0\n",
    "            if self.Control.power==1: self.set_mode(\"supply\")\n",
    "        elif self.in_mode(\"charge\"):    \n",
    "            self.EE.charge =min(self.EE.charge+self.tstep, 20)\n",
    "        elif self.in_mode(\"supply\"):\n",
    "            if self.charge > 0:         self.EE.v_supply = 12; self.charge -= self.tstep\n",
    "            else: self.set_mode(\"no_charge\")\n",
    "            if self.Control.power==0: self.set_mode(\"standby\")\n",
    "        elif self.in_mode(\"short\"):     self.EE.v_supply = 100; self.charge = 0\n",
    "        elif self.in_mode(\"no_charge\"): self.EE.v_supply=0; self.charge = 0"
   ]
  },
  {
   "cell_type": "markdown",
   "metadata": {},
   "source": [
    "The `Store_Energy` function has both a static behavior and a dynamic behavior. In this case, the static behavior enables the propagation of an adverse current from the drive system to damage the battery instantaneously, (instead of over several timesteps)."
   ]
  },
  {
   "cell_type": "code",
   "execution_count": 9,
   "metadata": {},
   "outputs": [],
   "source": [
    "class Rover(Model):\n",
    "    def __init__(self, params={},\\\n",
    "                 modelparams={'times':[0,60], 'tstep':1, 'phases':{'start':[1,30], 'end':[31, 60]}},\\\n",
    "                     valparams={}):\n",
    "        super().__init__(params, modelparams, valparams)\n",
    "        \n",
    "        self.add_flow('Ground', {'x':0,'y':0, 'dir':0, 'vel':0})\n",
    "        self.add_flow('Force', {'transfer':1, 'magnitude':1})\n",
    "        self.add_flow('EE', {'v_supply':0, 'a_supply':0})\n",
    "        self.add_flow('Video', {'line':0, 'angle':0})\n",
    "        self.add_flow('Control', {'dir':0, 'vel':0, 'power':0})\n",
    "        self.add_flow('Comms') #{'x':0,'y':0}\n",
    "        \n",
    "        self.add_fxn(\"Control_Rover\",[\"Video\",\"Comms\", \"EE\", \"Control\",\"Force\"], fclass=Control_Rover)\n",
    "        self.add_fxn(\"Store_Energy\", [\"EE\", \"Force\", \"Control\"], Store_Energy)\n",
    "        self.add_fxn(\"Move_Rover\", [\"Ground\",\"Force\",\"EE\", \"Control\"], fclass = Move_Rover)\n",
    "        self.add_fxn(\"View_Ground\", [\"Ground\", \"EE\", \"Video\",\"Force\"])\n",
    "        self.add_fxn(\"Communicate_Externally\", [\"Comms\", \"EE\",\"Force\"])\n",
    "        \n",
    "        pos_bip = {'Control_Rover': [-0.017014983401385075, 0.8197778602536954],\n",
    " 'Move_Rover': [0.1943738434915952, -0.5118219332727401],\n",
    " 'Store_Energy': [-0.256309000069049, -0.004117688709924516],\n",
    " 'View_Ground': [-0.7869889764273651, 0.47147713497270827],\n",
    " 'Communicate_Externally': [0.5107674237596388, 0.4117119127760298],\n",
    " 'Ground': [-0.7803536309752367, -0.4502200140852195],\n",
    " 'Force': [0.4327741966569625, 0.13966361395868865],\n",
    " 'EE': [-0.6981138376424448, 0.13829658866345518],\n",
    " 'Video': [-0.49486453723245205, 0.698244546263499],\n",
    " 'Control': [0.11615283552311584, -0.1842023746850714],\n",
    " 'Comms': [0.3373143873188402, 0.6507526319915691]}\n",
    "        \n",
    "        self.build_model(bipartite_pos = pos_bip)"
   ]
  },
  {
   "cell_type": "markdown",
   "metadata": {},
   "source": [
    "Without defining anything about the simulation itself, the containment relationships between the model structures can be visualized using the `gtype='hierarchical` option in `rd.graph.show`, `rd.graph.show_pyvis`, and `rd.graph.set_pos`."
   ]
  },
  {
   "cell_type": "code",
   "execution_count": 10,
   "metadata": {},
   "outputs": [
    {
     "data": {
      "text/plain": [
       "(<Figure size 432x288 with 1 Axes>,\n",
       " <AxesSubplot:>,\n",
       " <networkx.classes.digraph.DiGraph at 0x24c0aad28e0>)"
      ]
     },
     "execution_count": 10,
     "metadata": {},
     "output_type": "execute_result"
    },
    {
     "data": {
      "image/png": "[encoded data removed]",
      "text/plain": [
       "<Figure size 432x288 with 1 Axes>"
      ]
     },
     "metadata": {},
     "output_type": "display_data"
    }
   ],
   "source": [
    "mdl = Rover()\n",
    "rd.graph.show(mdl, gtype='typegraph')"
   ]
  },
  {
   "cell_type": "markdown",
   "metadata": {},
   "source": [
    "As shown, because the class for `View Ground` and `Communicate Externally` are undefined, they are shown here as both instantiations of the `GenericFxn` class, which does not simulate. This same structure can also be visualized using:"
   ]
  },
  {
   "cell_type": "code",
   "execution_count": 11,
   "metadata": {},
   "outputs": [
    {
     "data": {
      "text/html": [
       "\n",
       "        <iframe\n",
       "            width=\"1000px\"\n",
       "            height=\"500px\"\n",
       "            src=\"structure.html\"\n",
       "            frameborder=\"0\"\n",
       "            allowfullscreen\n",
       "        ></iframe>\n",
       "        "
      ],
      "text/plain": [
       "<IPython.lib.display.IFrame at 0x24c0dc15550>"
      ]
     },
     "execution_count": 11,
     "metadata": {},
     "output_type": "execute_result"
    }
   ],
   "source": [
    "fig_pyvis = rd.graph.show_pyvis(mdl.return_typegraph(), notebook=True)\n",
    "fig_pyvis.show(\"structure.html\")"
   ]
  },
  {
   "cell_type": "markdown",
   "metadata": {},
   "source": [
    "This graph can also be rendered using graphviz:"
   ]
  },
  {
   "cell_type": "code",
   "execution_count": 12,
   "metadata": {},
   "outputs": [
    {
     "name": "stdout",
     "output_type": "stream",
     "text": [
      "graph saved to:  typegraph\n"
     ]
    },
    {
     "data": {
      "image/svg+xml": [
       "<?xml version=\"1.0\" encoding=\"UTF-8\" standalone=\"no\"?>\r\n",
       "<!DOCTYPE svg PUBLIC \"-//W3C//DTD SVG 1.1//EN\"\r\n",
       " \"http://www.w3.org/Graphics/SVG/1.1/DTD/svg11.dtd\">\r\n",
       "<!-- Generated by graphviz version 2.46.0 (20210118.1747)\r\n",
       " -->\r\n",
       "<!-- Pages: 1 -->\r\n",
       "<svg width=\"650pt\" height=\"468pt\"\r\n",
       " viewBox=\"0.00 0.00 650.09 468.00\" xmlns=\"http://www.w3.org/2000/svg\" xmlns:xlink=\"http://www.w3.org/1999/xlink\">\r\n",
       "<g id=\"graph0\" class=\"graph\" transform=\"scale(1 1) rotate(0) translate(36 432)\">\r\n",
       "<polygon fill=\"white\" stroke=\"transparent\" points=\"-36,36 -36,-432 614.09,-432 614.09,36 -36,36\"/>\r\n",
       "<!-- Rover&#45;&gt;Store_Energy -->\r\n",
       "<g id=\"edge1\" class=\"edge\">\r\n",
       "<title>Rover&#45;&gt;Store_Energy</title>\r\n",
       "<path fill=\"none\" stroke=\"black\" d=\"M252.34,-362.43C216,-331.48 130.84,-258.96 87.23,-221.81\"/>\r\n",
       "<polygon fill=\"black\" stroke=\"black\" points=\"89.47,-219.12 79.59,-215.3 84.93,-224.45 89.47,-219.12\"/>\r\n",
       "</g>\r\n",
       "<!-- Rover&#45;&gt;Move_Rover -->\r\n",
       "<g id=\"edge2\" class=\"edge\">\r\n",
       "<title>Rover&#45;&gt;Move_Rover</title>\r\n",
       "<path fill=\"none\" stroke=\"black\" d=\"M262.77,-360.25C250.43,-329.32 223.97,-263 209.12,-225.77\"/>\r\n",
       "<polygon fill=\"black\" stroke=\"black\" points=\"212.22,-224.08 205.26,-216.09 205.72,-226.68 212.22,-224.08\"/>\r\n",
       "</g>\r\n",
       "<!-- Rover&#45;&gt;GenericFxn -->\r\n",
       "<g id=\"edge3\" class=\"edge\">\r\n",
       "<title>Rover&#45;&gt;GenericFxn</title>\r\n",
       "<path fill=\"none\" stroke=\"black\" d=\"M286.55,-362.43C322.98,-331.4 408.48,-258.59 451.99,-221.53\"/>\r\n",
       "<polygon fill=\"black\" stroke=\"black\" points=\"454.26,-224.19 459.61,-215.04 449.73,-218.86 454.26,-224.19\"/>\r\n",
       "</g>\r\n",
       "<!-- Rover&#45;&gt;Control_Rover -->\r\n",
       "<g id=\"edge4\" class=\"edge\">\r\n",
       "<title>Rover&#45;&gt;Control_Rover</title>\r\n",
       "<path fill=\"none\" stroke=\"black\" d=\"M276.22,-360.25C288.73,-329.32 315.56,-263 330.62,-225.77\"/>\r\n",
       "<polygon fill=\"black\" stroke=\"black\" points=\"334.03,-226.67 334.53,-216.09 327.54,-224.05 334.03,-226.67\"/>\r\n",
       "</g>\r\n",
       "<!-- Store_Energy&#45;&gt;Force -->\r\n",
       "<g id=\"edge6\" class=\"edge\">\r\n",
       "<title>Store_Energy&#45;&gt;Force</title>\r\n",
       "<path fill=\"none\" stroke=\"black\" d=\"M73.43,-180.25C98.03,-148.53 151.49,-79.56 179.88,-42.95\"/>\r\n",
       "<polygon fill=\"black\" stroke=\"black\" points=\"182.83,-44.85 186.19,-34.8 177.3,-40.56 182.83,-44.85\"/>\r\n",
       "</g>\r\n",
       "<!-- Store_Energy&#45;&gt;Control -->\r\n",
       "<g id=\"edge7\" class=\"edge\">\r\n",
       "<title>Store_Energy&#45;&gt;Control</title>\r\n",
       "<path fill=\"none\" stroke=\"black\" d=\"M65.14,-179.93C73.67,-148.97 91.74,-83.3 101.98,-46.13\"/>\r\n",
       "<polygon fill=\"black\" stroke=\"black\" points=\"105.48,-46.59 104.76,-36.02 98.73,-44.73 105.48,-46.59\"/>\r\n",
       "</g>\r\n",
       "<!-- Store_Energy&#45;&gt;EE -->\r\n",
       "<g id=\"edge5\" class=\"edge\">\r\n",
       "<title>Store_Energy&#45;&gt;EE</title>\r\n",
       "<path fill=\"none\" stroke=\"black\" d=\"M79.9,-180.89C119.25,-148.32 208.16,-74.7 251.2,-39.07\"/>\r\n",
       "<polygon fill=\"black\" stroke=\"black\" points=\"253.7,-41.55 259.17,-32.48 249.23,-36.16 253.7,-41.55\"/>\r\n",
       "</g>\r\n",
       "<!-- Move_Rover&#45;&gt;Ground -->\r\n",
       "<g id=\"edge8\" class=\"edge\">\r\n",
       "<title>Move_Rover&#45;&gt;Ground</title>\r\n",
       "<path fill=\"none\" stroke=\"black\" d=\"M213.3,-180.57C241.96,-148.89 304.97,-79.23 338.11,-42.59\"/>\r\n",
       "<polygon fill=\"black\" stroke=\"black\" points=\"340.97,-44.64 345.09,-34.87 335.78,-39.94 340.97,-44.64\"/>\r\n",
       "</g>\r\n",
       "<!-- Move_Rover&#45;&gt;Force -->\r\n",
       "<g id=\"edge9\" class=\"edge\">\r\n",
       "<title>Move_Rover&#45;&gt;Force</title>\r\n",
       "<path fill=\"none\" stroke=\"black\" d=\"M198.44,-179.93C198.44,-148.97 198.44,-83.3 198.44,-46.13\"/>\r\n",
       "<polygon fill=\"black\" stroke=\"black\" points=\"201.94,-46.02 198.44,-36.02 194.94,-46.02 201.94,-46.02\"/>\r\n",
       "</g>\r\n",
       "<!-- Move_Rover&#45;&gt;Control -->\r\n",
       "<g id=\"edge11\" class=\"edge\">\r\n",
       "<title>Move_Rover&#45;&gt;Control</title>\r\n",
       "<path fill=\"none\" stroke=\"black\" d=\"M189.91,-179.93C174.25,-148.62 140.86,-81.83 122.39,-44.9\"/>\r\n",
       "<polygon fill=\"black\" stroke=\"black\" points=\"125.43,-43.13 117.82,-35.76 119.16,-46.27 125.43,-43.13\"/>\r\n",
       "</g>\r\n",
       "<!-- Move_Rover&#45;&gt;EE -->\r\n",
       "<g id=\"edge10\" class=\"edge\">\r\n",
       "<title>Move_Rover&#45;&gt;EE</title>\r\n",
       "<path fill=\"none\" stroke=\"black\" d=\"M205.83,-179.93C219.35,-148.67 248.17,-82.06 264.16,-45.09\"/>\r\n",
       "<polygon fill=\"black\" stroke=\"black\" points=\"267.55,-46.07 268.31,-35.5 261.13,-43.29 267.55,-46.07\"/>\r\n",
       "</g>\r\n",
       "<!-- GenericFxn&#45;&gt;Ground -->\r\n",
       "<g id=\"edge13\" class=\"edge\">\r\n",
       "<title>GenericFxn&#45;&gt;Ground</title>\r\n",
       "<path fill=\"none\" stroke=\"black\" d=\"M467.25,-180.25C446.23,-148.82 400.78,-80.83 376.14,-43.97\"/>\r\n",
       "<polygon fill=\"black\" stroke=\"black\" points=\"378.82,-41.68 370.35,-35.31 373,-45.57 378.82,-41.68\"/>\r\n",
       "</g>\r\n",
       "<!-- GenericFxn&#45;&gt;Video -->\r\n",
       "<g id=\"edge14\" class=\"edge\">\r\n",
       "<title>GenericFxn&#45;&gt;Video</title>\r\n",
       "<path fill=\"none\" stroke=\"black\" d=\"M475.57,-179.93C470.35,-148.97 459.28,-83.3 453.02,-46.13\"/>\r\n",
       "<polygon fill=\"black\" stroke=\"black\" points=\"456.43,-45.29 451.31,-36.02 449.52,-46.46 456.43,-45.29\"/>\r\n",
       "</g>\r\n",
       "<!-- GenericFxn&#45;&gt;Force -->\r\n",
       "<g id=\"edge15\" class=\"edge\">\r\n",
       "<title>GenericFxn&#45;&gt;Force</title>\r\n",
       "<path fill=\"none\" stroke=\"black\" d=\"M454.57,-181.82C403.46,-149.33 283.57,-73.12 227.86,-37.7\"/>\r\n",
       "<polygon fill=\"black\" stroke=\"black\" points=\"229.49,-34.59 219.18,-32.18 225.74,-40.5 229.49,-34.59\"/>\r\n",
       "</g>\r\n",
       "<!-- GenericFxn&#45;&gt;Comms -->\r\n",
       "<g id=\"edge12\" class=\"edge\">\r\n",
       "<title>GenericFxn&#45;&gt;Comms</title>\r\n",
       "<path fill=\"none\" stroke=\"black\" d=\"M484.2,-179.93C494.68,-148.83 516.96,-82.73 529.46,-45.65\"/>\r\n",
       "<polygon fill=\"black\" stroke=\"black\" points=\"532.83,-46.61 532.71,-36.02 526.2,-44.37 532.83,-46.61\"/>\r\n",
       "</g>\r\n",
       "<!-- GenericFxn&#45;&gt;EE -->\r\n",
       "<g id=\"edge16\" class=\"edge\">\r\n",
       "<title>GenericFxn&#45;&gt;EE</title>\r\n",
       "<path fill=\"none\" stroke=\"black\" d=\"M460.07,-180.89C423.01,-148.4 339.39,-75.07 298.64,-39.34\"/>\r\n",
       "<polygon fill=\"black\" stroke=\"black\" points=\"300.91,-36.68 291.09,-32.71 296.3,-41.94 300.91,-36.68\"/>\r\n",
       "</g>\r\n",
       "<!-- Control_Rover&#45;&gt;Video -->\r\n",
       "<g id=\"edge19\" class=\"edge\">\r\n",
       "<title>Control_Rover&#45;&gt;Video</title>\r\n",
       "<path fill=\"none\" stroke=\"black\" d=\"M351.7,-179.93C370.7,-148.33 411.43,-80.57 433.5,-43.86\"/>\r\n",
       "<polygon fill=\"black\" stroke=\"black\" points=\"436.53,-45.61 438.68,-35.24 430.53,-42.01 436.53,-45.61\"/>\r\n",
       "</g>\r\n",
       "<!-- Control_Rover&#45;&gt;Force -->\r\n",
       "<g id=\"edge20\" class=\"edge\">\r\n",
       "<title>Control_Rover&#45;&gt;Force</title>\r\n",
       "<path fill=\"none\" stroke=\"black\" d=\"M327.99,-180.25C302.5,-148.53 247.1,-79.56 217.68,-42.95\"/>\r\n",
       "<polygon fill=\"black\" stroke=\"black\" points=\"220.13,-40.41 211.14,-34.8 214.68,-44.79 220.13,-40.41\"/>\r\n",
       "</g>\r\n",
       "<!-- Control_Rover&#45;&gt;Control -->\r\n",
       "<g id=\"edge21\" class=\"edge\">\r\n",
       "<title>Control_Rover&#45;&gt;Control</title>\r\n",
       "<path fill=\"none\" stroke=\"black\" d=\"M320.45,-180.89C278.34,-148.58 183.62,-75.91 136.76,-39.96\"/>\r\n",
       "<polygon fill=\"black\" stroke=\"black\" points=\"138.65,-37 128.59,-33.69 134.39,-42.55 138.65,-37\"/>\r\n",
       "</g>\r\n",
       "<!-- Control_Rover&#45;&gt;Comms -->\r\n",
       "<g id=\"edge17\" class=\"edge\">\r\n",
       "<title>Control_Rover&#45;&gt;Comms</title>\r\n",
       "<path fill=\"none\" stroke=\"black\" d=\"M359.62,-180.57C395.17,-148.46 473.87,-77.34 513.96,-41.13\"/>\r\n",
       "<polygon fill=\"black\" stroke=\"black\" points=\"516.36,-43.67 521.44,-34.37 511.67,-38.48 516.36,-43.67\"/>\r\n",
       "</g>\r\n",
       "<!-- Control_Rover&#45;&gt;EE -->\r\n",
       "<g id=\"edge18\" class=\"edge\">\r\n",
       "<title>Control_Rover&#45;&gt;EE</title>\r\n",
       "<path fill=\"none\" stroke=\"black\" d=\"M335.12,-179.93C323.56,-148.75 298.95,-82.4 285.22,-45.37\"/>\r\n",
       "<polygon fill=\"black\" stroke=\"black\" points=\"288.42,-43.92 281.66,-35.76 281.85,-46.35 288.42,-43.92\"/>\r\n",
       "</g>\r\n",
       "<!-- Rover -->\r\n",
       "<g id=\"node1\" class=\"node\">\r\n",
       "<title>Rover</title>\r\n",
       "<ellipse fill=\"lightgrey\" stroke=\"black\" cx=\"269.44\" cy=\"-378\" rx=\"33.29\" ry=\"18\"/>\r\n",
       "<text text-anchor=\"middle\" x=\"269.44\" y=\"-374.3\" font-family=\"Times New Roman,serif\" font-size=\"14.00\">Rover</text>\r\n",
       "</g>\r\n",
       "<!-- Store_Energy -->\r\n",
       "<g id=\"node2\" class=\"node\">\r\n",
       "<title>Store_Energy</title>\r\n",
       "<ellipse fill=\"lightgrey\" stroke=\"black\" cx=\"60.44\" cy=\"-198\" rx=\"60.39\" ry=\"18\"/>\r\n",
       "<text text-anchor=\"middle\" x=\"60.44\" y=\"-194.3\" font-family=\"Times New Roman,serif\" font-size=\"14.00\">Store_Energy</text>\r\n",
       "</g>\r\n",
       "<!-- Move_Rover -->\r\n",
       "<g id=\"node3\" class=\"node\">\r\n",
       "<title>Move_Rover</title>\r\n",
       "<ellipse fill=\"lightgrey\" stroke=\"black\" cx=\"198.44\" cy=\"-198\" rx=\"59.29\" ry=\"18\"/>\r\n",
       "<text text-anchor=\"middle\" x=\"198.44\" y=\"-194.3\" font-family=\"Times New Roman,serif\" font-size=\"14.00\">Move_Rover</text>\r\n",
       "</g>\r\n",
       "<!-- GenericFxn -->\r\n",
       "<g id=\"node4\" class=\"node\">\r\n",
       "<title>GenericFxn</title>\r\n",
       "<ellipse fill=\"lightgrey\" stroke=\"black\" cx=\"478.44\" cy=\"-198\" rx=\"53.09\" ry=\"18\"/>\r\n",
       "<text text-anchor=\"middle\" x=\"478.44\" y=\"-194.3\" font-family=\"Times New Roman,serif\" font-size=\"14.00\">GenericFxn</text>\r\n",
       "</g>\r\n",
       "<!-- Control_Rover -->\r\n",
       "<g id=\"node5\" class=\"node\">\r\n",
       "<title>Control_Rover</title>\r\n",
       "<ellipse fill=\"lightgrey\" stroke=\"black\" cx=\"341.44\" cy=\"-198\" rx=\"65.79\" ry=\"18\"/>\r\n",
       "<text text-anchor=\"middle\" x=\"341.44\" y=\"-194.3\" font-family=\"Times New Roman,serif\" font-size=\"14.00\">Control_Rover</text>\r\n",
       "</g>\r\n",
       "<!-- Ground -->\r\n",
       "<g id=\"node6\" class=\"node\">\r\n",
       "<title>Ground</title>\r\n",
       "<ellipse fill=\"lightgrey\" stroke=\"black\" cx=\"359.44\" cy=\"-18\" rx=\"38.99\" ry=\"18\"/>\r\n",
       "<text text-anchor=\"middle\" x=\"359.44\" y=\"-14.3\" font-family=\"Times New Roman,serif\" font-size=\"14.00\">Ground</text>\r\n",
       "</g>\r\n",
       "<!-- Video -->\r\n",
       "<g id=\"node7\" class=\"node\">\r\n",
       "<title>Video</title>\r\n",
       "<ellipse fill=\"lightgrey\" stroke=\"black\" cx=\"448.44\" cy=\"-18\" rx=\"32.49\" ry=\"18\"/>\r\n",
       "<text text-anchor=\"middle\" x=\"448.44\" y=\"-14.3\" font-family=\"Times New Roman,serif\" font-size=\"14.00\">Video</text>\r\n",
       "</g>\r\n",
       "<!-- Force -->\r\n",
       "<g id=\"node8\" class=\"node\">\r\n",
       "<title>Force</title>\r\n",
       "<ellipse fill=\"lightgrey\" stroke=\"black\" cx=\"198.44\" cy=\"-18\" rx=\"32.49\" ry=\"18\"/>\r\n",
       "<text text-anchor=\"middle\" x=\"198.44\" y=\"-14.3\" font-family=\"Times New Roman,serif\" font-size=\"14.00\">Force</text>\r\n",
       "</g>\r\n",
       "<!-- Control -->\r\n",
       "<g id=\"node9\" class=\"node\">\r\n",
       "<title>Control</title>\r\n",
       "<ellipse fill=\"lightgrey\" stroke=\"black\" cx=\"109.44\" cy=\"-18\" rx=\"38.19\" ry=\"18\"/>\r\n",
       "<text text-anchor=\"middle\" x=\"109.44\" y=\"-14.3\" font-family=\"Times New Roman,serif\" font-size=\"14.00\">Control</text>\r\n",
       "</g>\r\n",
       "<!-- Comms -->\r\n",
       "<g id=\"node10\" class=\"node\">\r\n",
       "<title>Comms</title>\r\n",
       "<ellipse fill=\"lightgrey\" stroke=\"black\" cx=\"538.44\" cy=\"-18\" rx=\"39.79\" ry=\"18\"/>\r\n",
       "<text text-anchor=\"middle\" x=\"538.44\" y=\"-14.3\" font-family=\"Times New Roman,serif\" font-size=\"14.00\">Comms</text>\r\n",
       "</g>\r\n",
       "<!-- EE -->\r\n",
       "<g id=\"node11\" class=\"node\">\r\n",
       "<title>EE</title>\r\n",
       "<ellipse fill=\"lightgrey\" stroke=\"black\" cx=\"275.44\" cy=\"-18\" rx=\"27\" ry=\"18\"/>\r\n",
       "<text text-anchor=\"middle\" x=\"275.44\" y=\"-14.3\" font-family=\"Times New Roman,serif\" font-size=\"14.00\">EE</text>\r\n",
       "</g>\r\n",
       "</g>\r\n",
       "</svg>\r\n"
      ],
      "text/plain": [
       "<graphviz.dot.Digraph at 0x24c0cbf2430>"
      ]
     },
     "execution_count": 12,
     "metadata": {},
     "output_type": "execute_result"
    }
   ],
   "source": [
    "rd.graph.show(mdl, gtype='typegraph', graphviz=True)"
   ]
  },
  {
   "cell_type": "markdown",
   "metadata": {},
   "source": [
    "While this view shows the containtment relationships of the *classes*, the bipartite graph view shows the instantiated connections between flows and objects. As shown:"
   ]
  },
  {
   "cell_type": "code",
   "execution_count": 13,
   "metadata": {},
   "outputs": [
    {
     "data": {
      "text/plain": [
       "(<Figure size 432x288 with 1 Axes>,\n",
       " <AxesSubplot:>,\n",
       " <networkx.classes.graph.Graph at 0x24c0dc30d00>)"
      ]
     },
     "execution_count": 13,
     "metadata": {},
     "output_type": "execute_result"
    },
    {
     "data": {
      "image/png": "[encoded data removed]",
      "text/plain": [
       "<Figure size 432x288 with 1 Axes>"
      ]
     },
     "metadata": {},
     "output_type": "display_data"
    }
   ],
   "source": [
    "rd.graph.show(mdl, gtype=\"bipartite\")"
   ]
  },
  {
   "cell_type": "markdown",
   "metadata": {},
   "source": [
    "the bipartite graph can also be rendered in graphviz:"
   ]
  },
  {
   "cell_type": "code",
   "execution_count": 14,
   "metadata": {},
   "outputs": [
    {
     "name": "stdout",
     "output_type": "stream",
     "text": [
      "graph saved to:  bipartite\n"
     ]
    },
    {
     "data": {
      "image/svg+xml": [
       "<?xml version=\"1.0\" encoding=\"UTF-8\" standalone=\"no\"?>\r\n",
       "<!DOCTYPE svg PUBLIC \"-//W3C//DTD SVG 1.1//EN\"\r\n",
       " \"http://www.w3.org/Graphics/SVG/1.1/DTD/svg11.dtd\">\r\n",
       "<!-- Generated by graphviz version 2.46.0 (20210118.1747)\r\n",
       " -->\r\n",
       "<!-- Pages: 1 -->\r\n",
       "<svg width=\"494pt\" height=\"318pt\"\r\n",
       " viewBox=\"0.00 0.00 493.70 318.10\" xmlns=\"http://www.w3.org/2000/svg\" xmlns:xlink=\"http://www.w3.org/1999/xlink\">\r\n",
       "<g id=\"graph0\" class=\"graph\" transform=\"scale(1 1) rotate(0) translate(4 314.1)\">\r\n",
       "<polygon fill=\"white\" stroke=\"transparent\" points=\"-4,4 -4,-314.1 489.7,-314.1 489.7,4 -4,4\"/>\r\n",
       "<!-- Control_Rover&#45;&#45;Force -->\r\n",
       "<g id=\"edge5\" class=\"edge\">\r\n",
       "<title>Control_Rover&#45;&#45;Force</title>\r\n",
       "<path fill=\"none\" stroke=\"black\" d=\"M292.22,-116.2C292.22,-124.95 292.22,-135.41 292.22,-144.14\"/>\r\n",
       "</g>\r\n",
       "<!-- Control_Rover&#45;&#45;EE -->\r\n",
       "<g id=\"edge3\" class=\"edge\">\r\n",
       "<title>Control_Rover&#45;&#45;EE</title>\r\n",
       "<path fill=\"none\" stroke=\"black\" d=\"M257.9,-82.53C240.32,-74.63 219.22,-65.14 202.81,-57.76\"/>\r\n",
       "</g>\r\n",
       "<!-- Control_Rover&#45;&#45;Video -->\r\n",
       "<g id=\"edge1\" class=\"edge\">\r\n",
       "<title>Control_Rover&#45;&#45;Video</title>\r\n",
       "<path fill=\"none\" stroke=\"black\" d=\"M283.71,-79.81C277.58,-66.73 269.33,-49.14 263.21,-36.07\"/>\r\n",
       "</g>\r\n",
       "<!-- Control_Rover&#45;&#45;Control -->\r\n",
       "<g id=\"edge4\" class=\"edge\">\r\n",
       "<title>Control_Rover&#45;&#45;Control</title>\r\n",
       "<path fill=\"none\" stroke=\"black\" d=\"M300.72,-79.81C306.86,-66.73 315.1,-49.14 321.23,-36.07\"/>\r\n",
       "</g>\r\n",
       "<!-- Control_Rover&#45;&#45;Comms -->\r\n",
       "<g id=\"edge2\" class=\"edge\">\r\n",
       "<title>Control_Rover&#45;&#45;Comms</title>\r\n",
       "<path fill=\"none\" stroke=\"black\" d=\"M326.49,-82.55C342.12,-75.52 360.5,-67.26 375.69,-60.43\"/>\r\n",
       "</g>\r\n",
       "<!-- Store_Energy&#45;&#45;Force -->\r\n",
       "<g id=\"edge7\" class=\"edge\">\r\n",
       "<title>Store_Energy&#45;&#45;Force</title>\r\n",
       "<path fill=\"none\" stroke=\"black\" d=\"M368.45,-153.86C351.5,-155.72 333.69,-157.67 319.55,-159.21\"/>\r\n",
       "</g>\r\n",
       "<!-- Store_Energy&#45;&#45;EE -->\r\n",
       "<g id=\"edge6\" class=\"edge\">\r\n",
       "<title>Store_Energy&#45;&#45;EE</title>\r\n",
       "<path fill=\"none\" stroke=\"black\" d=\"M389.51,-133.03C339.11,-112.42 248.28,-75.26 202.98,-56.74\"/>\r\n",
       "</g>\r\n",
       "<!-- Store_Energy&#45;&#45;Control -->\r\n",
       "<g id=\"edge8\" class=\"edge\">\r\n",
       "<title>Store_Energy&#45;&#45;Control</title>\r\n",
       "<path fill=\"none\" stroke=\"black\" d=\"M412.17,-129.9C394.07,-105.35 361.58,-61.25 343.24,-36.38\"/>\r\n",
       "</g>\r\n",
       "<!-- Move_Rover&#45;&#45;Ground -->\r\n",
       "<g id=\"edge9\" class=\"edge\">\r\n",
       "<title>Move_Rover&#45;&#45;Ground</title>\r\n",
       "<path fill=\"none\" stroke=\"black\" d=\"M356.03,-242.89C359.73,-252.54 364.26,-264.38 367.96,-274.04\"/>\r\n",
       "</g>\r\n",
       "<!-- Move_Rover&#45;&#45;Force -->\r\n",
       "<g id=\"edge10\" class=\"edge\">\r\n",
       "<title>Move_Rover&#45;&#45;Force</title>\r\n",
       "<path fill=\"none\" stroke=\"black\" d=\"M333.28,-207.42C325.65,-199.01 316.5,-188.94 308.78,-180.44\"/>\r\n",
       "</g>\r\n",
       "<!-- Move_Rover&#45;&#45;EE -->\r\n",
       "<g id=\"edge11\" class=\"edge\">\r\n",
       "<title>Move_Rover&#45;&#45;EE</title>\r\n",
       "<path fill=\"none\" stroke=\"black\" d=\"M332.19,-207.36C299.22,-173.26 226.71,-98.29 193.27,-63.72\"/>\r\n",
       "</g>\r\n",
       "<!-- Move_Rover&#45;&#45;Control -->\r\n",
       "<g id=\"edge12\" class=\"edge\">\r\n",
       "<title>Move_Rover&#45;&#45;Control</title>\r\n",
       "<path fill=\"none\" stroke=\"black\" d=\"M347.44,-206.88C343.77,-167.75 335.08,-75.32 331.4,-36.1\"/>\r\n",
       "</g>\r\n",
       "<!-- View_Ground&#45;&#45;Ground -->\r\n",
       "<g id=\"edge13\" class=\"edge\">\r\n",
       "<title>View_Ground&#45;&#45;Ground</title>\r\n",
       "<path fill=\"none\" stroke=\"black\" d=\"M257.34,-274.66C286.23,-278.95 320.4,-284.02 344.43,-287.59\"/>\r\n",
       "</g>\r\n",
       "<!-- View_Ground&#45;&#45;Force -->\r\n",
       "<g id=\"edge16\" class=\"edge\">\r\n",
       "<title>View_Ground&#45;&#45;Force</title>\r\n",
       "<path fill=\"none\" stroke=\"black\" d=\"M216.92,-248.71C233.49,-229.67 259.73,-199.52 276.45,-180.31\"/>\r\n",
       "</g>\r\n",
       "<!-- View_Ground&#45;&#45;EE -->\r\n",
       "<g id=\"edge14\" class=\"edge\">\r\n",
       "<title>View_Ground&#45;&#45;EE</title>\r\n",
       "<path fill=\"none\" stroke=\"black\" d=\"M199.42,-248.32C194.58,-206.81 182.69,-105.05 177.85,-63.6\"/>\r\n",
       "</g>\r\n",
       "<!-- View_Ground&#45;&#45;Video -->\r\n",
       "<g id=\"edge15\" class=\"edge\">\r\n",
       "<title>View_Ground&#45;&#45;Video</title>\r\n",
       "<path fill=\"none\" stroke=\"black\" d=\"M205.45,-248.12C215.28,-202.19 240.97,-82.25 250.82,-36.29\"/>\r\n",
       "</g>\r\n",
       "<!-- Communicate_Externally&#45;&#45;Force -->\r\n",
       "<g id=\"edge19\" class=\"edge\">\r\n",
       "<title>Communicate_Externally&#45;&#45;Force</title>\r\n",
       "<path fill=\"none\" stroke=\"black\" d=\"M201.83,-159.92C225.18,-160.51 248.12,-161.09 265.05,-161.51\"/>\r\n",
       "</g>\r\n",
       "<!-- Communicate_Externally&#45;&#45;EE -->\r\n",
       "<g id=\"edge18\" class=\"edge\">\r\n",
       "<title>Communicate_Externally&#45;&#45;EE</title>\r\n",
       "<path fill=\"none\" stroke=\"black\" d=\"M113.34,-139.42C127.13,-118.68 149.7,-84.76 163.58,-63.88\"/>\r\n",
       "</g>\r\n",
       "<!-- Communicate_Externally&#45;&#45;Comms -->\r\n",
       "<g id=\"edge17\" class=\"edge\">\r\n",
       "<title>Communicate_Externally&#45;&#45;Comms</title>\r\n",
       "<path fill=\"none\" stroke=\"black\" d=\"M146.07,-141.15C208.79,-118.37 321.32,-77.51 375.55,-57.82\"/>\r\n",
       "</g>\r\n",
       "<!-- Control_Rover -->\r\n",
       "<g id=\"node1\" class=\"node\">\r\n",
       "<title>Control_Rover</title>\r\n",
       "<ellipse fill=\"lightgray\" stroke=\"black\" cx=\"292.22\" cy=\"-97.96\" rx=\"65.79\" ry=\"18\"/>\r\n",
       "<text text-anchor=\"middle\" x=\"292.22\" y=\"-94.26\" font-family=\"Times New Roman,serif\" font-size=\"14.00\">Control_Rover</text>\r\n",
       "</g>\r\n",
       "<!-- Store_Energy -->\r\n",
       "<g id=\"node2\" class=\"node\">\r\n",
       "<title>Store_Energy</title>\r\n",
       "<ellipse fill=\"lightgray\" stroke=\"black\" cx=\"425.26\" cy=\"-147.65\" rx=\"60.39\" ry=\"18\"/>\r\n",
       "<text text-anchor=\"middle\" x=\"425.26\" y=\"-143.95\" font-family=\"Times New Roman,serif\" font-size=\"14.00\">Store_Energy</text>\r\n",
       "</g>\r\n",
       "<!-- Move_Rover -->\r\n",
       "<g id=\"node3\" class=\"node\">\r\n",
       "<title>Move_Rover</title>\r\n",
       "<ellipse fill=\"lightgray\" stroke=\"black\" cx=\"349.13\" cy=\"-224.88\" rx=\"59.29\" ry=\"18\"/>\r\n",
       "<text text-anchor=\"middle\" x=\"349.13\" y=\"-221.18\" font-family=\"Times New Roman,serif\" font-size=\"14.00\">Move_Rover</text>\r\n",
       "</g>\r\n",
       "<!-- View_Ground -->\r\n",
       "<g id=\"node4\" class=\"node\">\r\n",
       "<title>View_Ground</title>\r\n",
       "<ellipse fill=\"lightgray\" stroke=\"black\" cx=\"201.53\" cy=\"-266.38\" rx=\"62.29\" ry=\"18\"/>\r\n",
       "<text text-anchor=\"middle\" x=\"201.53\" y=\"-262.68\" font-family=\"Times New Roman,serif\" font-size=\"14.00\">View_Ground</text>\r\n",
       "</g>\r\n",
       "<!-- Communicate_Externally -->\r\n",
       "<g id=\"node5\" class=\"node\">\r\n",
       "<title>Communicate_Externally</title>\r\n",
       "<ellipse fill=\"lightgray\" stroke=\"black\" cx=\"101.39\" cy=\"-157.38\" rx=\"101.28\" ry=\"18\"/>\r\n",
       "<text text-anchor=\"middle\" x=\"101.39\" y=\"-153.68\" font-family=\"Times New Roman,serif\" font-size=\"14.00\">Communicate_Externally</text>\r\n",
       "</g>\r\n",
       "<!-- Ground -->\r\n",
       "<g id=\"node6\" class=\"node\">\r\n",
       "<title>Ground</title>\r\n",
       "<polygon fill=\"lightgray\" stroke=\"black\" points=\"404.88,-310.1 344.88,-310.1 344.88,-274.1 404.88,-274.1 404.88,-310.1\"/>\r\n",
       "<text text-anchor=\"middle\" x=\"374.88\" y=\"-288.4\" font-family=\"Times New Roman,serif\" font-size=\"14.00\">Ground</text>\r\n",
       "</g>\r\n",
       "<!-- Force -->\r\n",
       "<g id=\"node7\" class=\"node\">\r\n",
       "<title>Force</title>\r\n",
       "<polygon fill=\"lightgray\" stroke=\"black\" points=\"319.22,-180.2 265.22,-180.2 265.22,-144.2 319.22,-144.2 319.22,-180.2\"/>\r\n",
       "<text text-anchor=\"middle\" x=\"292.22\" y=\"-158.5\" font-family=\"Times New Roman,serif\" font-size=\"14.00\">Force</text>\r\n",
       "</g>\r\n",
       "<!-- EE -->\r\n",
       "<g id=\"node8\" class=\"node\">\r\n",
       "<title>EE</title>\r\n",
       "<polygon fill=\"lightgray\" stroke=\"black\" points=\"202.75,-63.6 148.75,-63.6 148.75,-27.6 202.75,-27.6 202.75,-63.6\"/>\r\n",
       "<text text-anchor=\"middle\" x=\"175.75\" y=\"-41.9\" font-family=\"Times New Roman,serif\" font-size=\"14.00\">EE</text>\r\n",
       "</g>\r\n",
       "<!-- Video -->\r\n",
       "<g id=\"node9\" class=\"node\">\r\n",
       "<title>Video</title>\r\n",
       "<polygon fill=\"lightgray\" stroke=\"black\" points=\"281.73,-36 227.73,-36 227.73,0 281.73,0 281.73,-36\"/>\r\n",
       "<text text-anchor=\"middle\" x=\"254.73\" y=\"-14.3\" font-family=\"Times New Roman,serif\" font-size=\"14.00\">Video</text>\r\n",
       "</g>\r\n",
       "<!-- Control -->\r\n",
       "<g id=\"node10\" class=\"node\">\r\n",
       "<title>Control</title>\r\n",
       "<polygon fill=\"lightgray\" stroke=\"black\" points=\"359.2,-36 300.2,-36 300.2,0 359.2,0 359.2,-36\"/>\r\n",
       "<text text-anchor=\"middle\" x=\"329.7\" y=\"-14.3\" font-family=\"Times New Roman,serif\" font-size=\"14.00\">Control</text>\r\n",
       "</g>\r\n",
       "<!-- Comms -->\r\n",
       "<g id=\"node11\" class=\"node\">\r\n",
       "<title>Comms</title>\r\n",
       "<polygon fill=\"lightgray\" stroke=\"black\" points=\"436.93,-64.6 375.93,-64.6 375.93,-28.6 436.93,-28.6 436.93,-64.6\"/>\r\n",
       "<text text-anchor=\"middle\" x=\"406.43\" y=\"-42.9\" font-family=\"Times New Roman,serif\" font-size=\"14.00\">Comms</text>\r\n",
       "</g>\r\n",
       "</g>\r\n",
       "</svg>\r\n"
      ],
      "text/plain": [
       "<graphviz.dot.Graph at 0x24c0dcc2760>"
      ]
     },
     "execution_count": 14,
     "metadata": {},
     "output_type": "execute_result"
    }
   ],
   "source": [
    "rd.graph.show(mdl, gtype=\"bipartite\", graphviz=True)"
   ]
  },
  {
   "cell_type": "markdown",
   "metadata": {},
   "source": [
    "to customize the graphviz output, create a dictionary of desired graph attributes: \n",
    "(see http://www.graphviz.org/doc/info/attrs.html for all options)"
   ]
  },
  {
   "cell_type": "code",
   "execution_count": 15,
   "metadata": {
    "scrolled": true
   },
   "outputs": [
    {
     "name": "stdout",
     "output_type": "stream",
     "text": [
      "graph saved to:  bipartite\n"
     ]
    },
    {
     "data": {
      "image/svg+xml": [
       "<?xml version=\"1.0\" encoding=\"UTF-8\" standalone=\"no\"?>\r\n",
       "<!DOCTYPE svg PUBLIC \"-//W3C//DTD SVG 1.1//EN\"\r\n",
       " \"http://www.w3.org/Graphics/SVG/1.1/DTD/svg11.dtd\">\r\n",
       "<!-- Generated by graphviz version 2.46.0 (20210118.1747)\r\n",
       " -->\r\n",
       "<!-- Pages: 1 -->\r\n",
       "<svg width=\"552pt\" height=\"334pt\"\r\n",
       " viewBox=\"0.00 0.00 552.48 334.05\" xmlns=\"http://www.w3.org/2000/svg\" xmlns:xlink=\"http://www.w3.org/1999/xlink\">\r\n",
       "<g id=\"graph0\" class=\"graph\" transform=\"scale(1 1) rotate(0) translate(4 330.05)\">\r\n",
       "<polygon fill=\"white\" stroke=\"transparent\" points=\"-4,4 -4,-330.05 548.48,-330.05 548.48,4 -4,4\"/>\r\n",
       "<!-- Control_Rover&#45;&#45;Force -->\r\n",
       "<g id=\"edge5\" class=\"edge\">\r\n",
       "<title>Control_Rover&#45;&#45;Force</title>\r\n",
       "<path fill=\"none\" stroke=\"black\" d=\"M304.36,-38.16C308.98,-67.44 318.05,-124.95 322.67,-154.21\"/>\r\n",
       "</g>\r\n",
       "<!-- Control_Rover&#45;&#45;EE -->\r\n",
       "<g id=\"edge3\" class=\"edge\">\r\n",
       "<title>Control_Rover&#45;&#45;EE</title>\r\n",
       "<path fill=\"none\" stroke=\"black\" d=\"M286.28,-37.78C267.54,-59.52 235.89,-96.24 216.93,-118.23\"/>\r\n",
       "</g>\r\n",
       "<!-- Control_Rover&#45;&#45;Video -->\r\n",
       "<g id=\"edge1\" class=\"edge\">\r\n",
       "<title>Control_Rover&#45;&#45;Video</title>\r\n",
       "<path fill=\"none\" stroke=\"black\" d=\"M270.45,-36.07C217.45,-63.3 110.39,-118.3 60.18,-144.1\"/>\r\n",
       "</g>\r\n",
       "<!-- Control_Rover&#45;&#45;Control -->\r\n",
       "<g id=\"edge4\" class=\"edge\">\r\n",
       "<title>Control_Rover&#45;&#45;Control</title>\r\n",
       "<path fill=\"none\" stroke=\"black\" d=\"M235.67,-20.51C179.54,-20.84 101.45,-21.32 59.31,-21.57\"/>\r\n",
       "</g>\r\n",
       "<!-- Control_Rover&#45;&#45;Comms -->\r\n",
       "<g id=\"edge2\" class=\"edge\">\r\n",
       "<title>Control_Rover&#45;&#45;Comms</title>\r\n",
       "<path fill=\"none\" stroke=\"black\" d=\"M352.27,-31.73C374.66,-36.85 400.22,-42.7 419.62,-47.14\"/>\r\n",
       "</g>\r\n",
       "<!-- Store_Energy&#45;&#45;Force -->\r\n",
       "<g id=\"edge7\" class=\"edge\">\r\n",
       "<title>Store_Energy&#45;&#45;Force</title>\r\n",
       "<path fill=\"none\" stroke=\"black\" d=\"M185.53,-35.39C215.67,-64.86 276.47,-124.29 307.06,-154.19\"/>\r\n",
       "</g>\r\n",
       "<!-- Store_Energy&#45;&#45;EE -->\r\n",
       "<g id=\"edge6\" class=\"edge\">\r\n",
       "<title>Store_Energy&#45;&#45;EE</title>\r\n",
       "<path fill=\"none\" stroke=\"black\" d=\"M172.83,-35.99C179.12,-58.26 189.78,-95.95 196.09,-118.3\"/>\r\n",
       "</g>\r\n",
       "<!-- Store_Energy&#45;&#45;Control -->\r\n",
       "<g id=\"edge8\" class=\"edge\">\r\n",
       "<title>Store_Energy&#45;&#45;Control</title>\r\n",
       "<path fill=\"none\" stroke=\"black\" d=\"M107.51,-19.63C90.77,-20.09 73.33,-20.56 59.2,-20.94\"/>\r\n",
       "</g>\r\n",
       "<!-- Move_Rover&#45;&#45;Ground -->\r\n",
       "<g id=\"edge9\" class=\"edge\">\r\n",
       "<title>Move_Rover&#45;&#45;Ground</title>\r\n",
       "<path fill=\"none\" stroke=\"black\" d=\"M128.42,-255.3C111.19,-264.72 89.32,-276.66 71.87,-286.2\"/>\r\n",
       "</g>\r\n",
       "<!-- Move_Rover&#45;&#45;Force -->\r\n",
       "<g id=\"edge10\" class=\"edge\">\r\n",
       "<title>Move_Rover&#45;&#45;Force</title>\r\n",
       "<path fill=\"none\" stroke=\"black\" d=\"M193.36,-225.1C224.84,-212.51 269.81,-194.52 298.33,-183.11\"/>\r\n",
       "</g>\r\n",
       "<!-- Move_Rover&#45;&#45;EE -->\r\n",
       "<g id=\"edge11\" class=\"edge\">\r\n",
       "<title>Move_Rover&#45;&#45;EE</title>\r\n",
       "<path fill=\"none\" stroke=\"black\" d=\"M164.92,-221.58C172.94,-202.78 185.47,-173.41 193.51,-154.55\"/>\r\n",
       "</g>\r\n",
       "<!-- Move_Rover&#45;&#45;Control -->\r\n",
       "<g id=\"edge12\" class=\"edge\">\r\n",
       "<title>Move_Rover&#45;&#45;Control</title>\r\n",
       "<path fill=\"none\" stroke=\"black\" d=\"M146.81,-221.71C122.85,-180.88 64.2,-80.89 40.1,-39.82\"/>\r\n",
       "</g>\r\n",
       "<!-- View_Ground&#45;&#45;Ground -->\r\n",
       "<g id=\"edge13\" class=\"edge\">\r\n",
       "<title>View_Ground&#45;&#45;Ground</title>\r\n",
       "<path fill=\"none\" stroke=\"black\" d=\"M199.32,-306.51C157.65,-305.49 104.72,-304.19 72.05,-303.38\"/>\r\n",
       "</g>\r\n",
       "<!-- View_Ground&#45;&#45;Force -->\r\n",
       "<g id=\"edge16\" class=\"edge\">\r\n",
       "<title>View_Ground&#45;&#45;Force</title>\r\n",
       "<path fill=\"none\" stroke=\"black\" d=\"M270.23,-290.01C282.42,-264.04 304.8,-216.36 317.01,-190.34\"/>\r\n",
       "</g>\r\n",
       "<!-- View_Ground&#45;&#45;EE -->\r\n",
       "<g id=\"edge14\" class=\"edge\">\r\n",
       "<title>View_Ground&#45;&#45;EE</title>\r\n",
       "<path fill=\"none\" stroke=\"black\" d=\"M255.4,-290.01C243.78,-257.05 219.23,-187.48 207.6,-154.51\"/>\r\n",
       "</g>\r\n",
       "<!-- View_Ground&#45;&#45;Video -->\r\n",
       "<g id=\"edge15\" class=\"edge\">\r\n",
       "<title>View_Ground&#45;&#45;Video</title>\r\n",
       "<path fill=\"none\" stroke=\"black\" d=\"M236.41,-291.42C193.03,-262.97 104.91,-205.19 60.26,-175.91\"/>\r\n",
       "</g>\r\n",
       "<!-- Communicate_Externally&#45;&#45;Force -->\r\n",
       "<g id=\"edge19\" class=\"edge\">\r\n",
       "<title>Communicate_Externally&#45;&#45;Force</title>\r\n",
       "<path fill=\"none\" stroke=\"black\" d=\"M422.07,-254.15C400.8,-236.1 368.1,-208.36 346.75,-190.25\"/>\r\n",
       "</g>\r\n",
       "<!-- Communicate_Externally&#45;&#45;EE -->\r\n",
       "<g id=\"edge18\" class=\"edge\">\r\n",
       "<title>Communicate_Externally&#45;&#45;EE</title>\r\n",
       "<path fill=\"none\" stroke=\"black\" d=\"M412.46,-254.82C364.79,-228.11 273.64,-177.03 228.27,-151.61\"/>\r\n",
       "</g>\r\n",
       "<!-- Communicate_Externally&#45;&#45;Comms -->\r\n",
       "<g id=\"edge17\" class=\"edge\">\r\n",
       "<title>Communicate_Externally&#45;&#45;Comms</title>\r\n",
       "<path fill=\"none\" stroke=\"black\" d=\"M443.69,-253.78C445.03,-212.78 448.28,-113.55 449.62,-72.45\"/>\r\n",
       "</g>\r\n",
       "<!-- Control_Rover -->\r\n",
       "<g id=\"node1\" class=\"node\">\r\n",
       "<title>Control_Rover</title>\r\n",
       "<ellipse fill=\"lightgray\" stroke=\"black\" cx=\"301.51\" cy=\"-20.11\" rx=\"65.79\" ry=\"18\"/>\r\n",
       "<text text-anchor=\"middle\" x=\"301.51\" y=\"-16.41\" font-family=\"Times New Roman,serif\" font-size=\"14.00\">Control_Rover</text>\r\n",
       "</g>\r\n",
       "<!-- Store_Energy -->\r\n",
       "<g id=\"node2\" class=\"node\">\r\n",
       "<title>Store_Energy</title>\r\n",
       "<ellipse fill=\"lightgray\" stroke=\"black\" cx=\"167.74\" cy=\"-18\" rx=\"60.39\" ry=\"18\"/>\r\n",
       "<text text-anchor=\"middle\" x=\"167.74\" y=\"-14.3\" font-family=\"Times New Roman,serif\" font-size=\"14.00\">Store_Energy</text>\r\n",
       "</g>\r\n",
       "<!-- Move_Rover -->\r\n",
       "<g id=\"node3\" class=\"node\">\r\n",
       "<title>Move_Rover</title>\r\n",
       "<ellipse fill=\"lightgray\" stroke=\"black\" cx=\"157.27\" cy=\"-239.54\" rx=\"59.29\" ry=\"18\"/>\r\n",
       "<text text-anchor=\"middle\" x=\"157.27\" y=\"-235.84\" font-family=\"Times New Roman,serif\" font-size=\"14.00\">Move_Rover</text>\r\n",
       "</g>\r\n",
       "<!-- View_Ground -->\r\n",
       "<g id=\"node4\" class=\"node\">\r\n",
       "<title>View_Ground</title>\r\n",
       "<ellipse fill=\"lightgray\" stroke=\"black\" cx=\"261.77\" cy=\"-308.05\" rx=\"62.29\" ry=\"18\"/>\r\n",
       "<text text-anchor=\"middle\" x=\"261.77\" y=\"-304.35\" font-family=\"Times New Roman,serif\" font-size=\"14.00\">View_Ground</text>\r\n",
       "</g>\r\n",
       "<!-- Communicate_Externally -->\r\n",
       "<g id=\"node5\" class=\"node\">\r\n",
       "<title>Communicate_Externally</title>\r\n",
       "<ellipse fill=\"lightgray\" stroke=\"black\" cx=\"443.09\" cy=\"-271.98\" rx=\"101.28\" ry=\"18\"/>\r\n",
       "<text text-anchor=\"middle\" x=\"443.09\" y=\"-268.28\" font-family=\"Times New Roman,serif\" font-size=\"14.00\">Communicate_Externally</text>\r\n",
       "</g>\r\n",
       "<!-- Ground -->\r\n",
       "<g id=\"node6\" class=\"node\">\r\n",
       "<title>Ground</title>\r\n",
       "<polygon fill=\"lightgray\" stroke=\"black\" points=\"71.78,-320.64 11.78,-320.64 11.78,-284.64 71.78,-284.64 71.78,-320.64\"/>\r\n",
       "<text text-anchor=\"middle\" x=\"41.78\" y=\"-298.94\" font-family=\"Times New Roman,serif\" font-size=\"14.00\">Ground</text>\r\n",
       "</g>\r\n",
       "<!-- Force -->\r\n",
       "<g id=\"node7\" class=\"node\">\r\n",
       "<title>Force</title>\r\n",
       "<polygon fill=\"lightgray\" stroke=\"black\" points=\"352.51,-190.23 298.51,-190.23 298.51,-154.23 352.51,-154.23 352.51,-190.23\"/>\r\n",
       "<text text-anchor=\"middle\" x=\"325.51\" y=\"-168.53\" font-family=\"Times New Roman,serif\" font-size=\"14.00\">Force</text>\r\n",
       "</g>\r\n",
       "<!-- EE -->\r\n",
       "<g id=\"node8\" class=\"node\">\r\n",
       "<title>EE</title>\r\n",
       "<polygon fill=\"lightgray\" stroke=\"black\" points=\"228.23,-154.46 174.23,-154.46 174.23,-118.46 228.23,-118.46 228.23,-154.46\"/>\r\n",
       "<text text-anchor=\"middle\" x=\"201.23\" y=\"-132.76\" font-family=\"Times New Roman,serif\" font-size=\"14.00\">EE</text>\r\n",
       "</g>\r\n",
       "<!-- Video -->\r\n",
       "<g id=\"node9\" class=\"node\">\r\n",
       "<title>Video</title>\r\n",
       "<polygon fill=\"lightgray\" stroke=\"black\" points=\"60.02,-176.05 6.02,-176.05 6.02,-140.05 60.02,-140.05 60.02,-176.05\"/>\r\n",
       "<text text-anchor=\"middle\" x=\"33.02\" y=\"-154.35\" font-family=\"Times New Roman,serif\" font-size=\"14.00\">Video</text>\r\n",
       "</g>\r\n",
       "<!-- Control -->\r\n",
       "<g id=\"node10\" class=\"node\">\r\n",
       "<title>Control</title>\r\n",
       "<polygon fill=\"lightgray\" stroke=\"black\" points=\"59,-39.75 0,-39.75 0,-3.75 59,-3.75 59,-39.75\"/>\r\n",
       "<text text-anchor=\"middle\" x=\"29.5\" y=\"-18.05\" font-family=\"Times New Roman,serif\" font-size=\"14.00\">Control</text>\r\n",
       "</g>\r\n",
       "<!-- Comms -->\r\n",
       "<g id=\"node11\" class=\"node\">\r\n",
       "<title>Comms</title>\r\n",
       "<polygon fill=\"lightgray\" stroke=\"black\" points=\"480.72,-72.15 419.72,-72.15 419.72,-36.15 480.72,-36.15 480.72,-72.15\"/>\r\n",
       "<text text-anchor=\"middle\" x=\"450.22\" y=\"-50.45\" font-family=\"Times New Roman,serif\" font-size=\"14.00\">Comms</text>\r\n",
       "</g>\r\n",
       "</g>\r\n",
       "</svg>\r\n"
      ],
      "text/plain": [
       "<graphviz.dot.Graph at 0x24c0dccf550>"
      ]
     },
     "execution_count": 15,
     "metadata": {},
     "output_type": "execute_result"
    }
   ],
   "source": [
    "graphviz_args = {\"layout\":'neato', \"overlap\":\"voronoi\"}\n",
    "rd.graph.show(mdl, gtype=\"bipartite\", graphviz=True, **graphviz_args)"
   ]
  },
  {
   "cell_type": "markdown",
   "metadata": {},
   "source": [
    "#### Run Order\n",
    "To specify the run order of this model, the `add_fxn` method is used. The order of the call defines the run order of each instantiated function (`Control_Rover` -> `Move_Rover` -> `Store_Energy` ->  `View_Ground` -> `Communicate_Externally`).\n",
    "\n",
    "In addition to the functions which have been defined here, this model additionally has a number of functions which have not been defined (and will thus not execute). We can visualize using `rd.graph.exec_order`."
   ]
  },
  {
   "cell_type": "code",
   "execution_count": 16,
   "metadata": {},
   "outputs": [
    {
     "data": {
      "text/plain": [
       "(<Figure size 432x288 with 1 Axes>,\n",
       " <AxesSubplot:title={'center':'Function Execution Order'}>,\n",
       " <networkx.classes.graph.Graph at 0x24c0dc30190>)"
      ]
     },
     "execution_count": 16,
     "metadata": {},
     "output_type": "execute_result"
    },
    {
     "data": {
      "image/png": "[encoded data removed]",
      "text/plain": [
       "<Figure size 432x288 with 1 Axes>"
      ]
     },
     "metadata": {},
     "output_type": "display_data"
    }
   ],
   "source": [
    "rd.graph.exec_order(mdl)"
   ]
  },
  {
   "cell_type": "markdown",
   "metadata": {},
   "source": [
    "As shown, functions and flows active in the static propagation step are highlighted in cyan while the functions in the dynamic propagation step are shown (or given a border) in teal. Functions without behaviors are shown in light grey, and the run order of the dynamic propagation step is shown as numbers under the corresponding functions.\n",
    "\n",
    "In addition, `rd.plot.dyn_order` can be used to visualize the dynamic propagation step."
   ]
  },
  {
   "cell_type": "code",
   "execution_count": 17,
   "metadata": {},
   "outputs": [
    {
     "data": {
      "text/plain": [
       "(<Figure size 432x288 with 1 Axes>, <AxesSubplot:>)"
      ]
     },
     "execution_count": 17,
     "metadata": {},
     "output_type": "execute_result"
    },
    {
     "data": {
      "image/png": "[encoded data removed]",
      "text/plain": [
       "<Figure size 432x288 with 1 Axes>"
      ]
     },
     "metadata": {
      "needs_background": "light"
     },
     "output_type": "display_data"
    }
   ],
   "source": [
    "rd.plot.dyn_order(mdl)"
   ]
  },
  {
   "cell_type": "markdown",
   "metadata": {},
   "source": [
    "This plot shows that the dynamic execution step runs in the order defined in the `Model` module: first, Control_Rover, then, Store_Energy, and finally Move_Rover (reading left-to-right in the upper axis). The plot additionally shows which flows correspond to these function as it progresses through execution, which enables some understanding of which data structures are used or acted on at each execution time. "
   ]
  },
  {
   "cell_type": "markdown",
   "metadata": {},
   "source": [
    "To verify the static propagation of the `short` mode in the `Move_Rover` function, we can view the results of that scenario. As was set up, the intention of using the static propagation step was to enable the resulting fault behavior (a spike in current followed by a loss of charge) to occur in a single timestep."
   ]
  },
  {
   "cell_type": "code",
   "execution_count": 18,
   "metadata": {},
   "outputs": [],
   "source": [
    "endresults, resgraph, mdlhist = prop.one_fault(mdl, \"Move_Rover\", \"short\", 10)"
   ]
  },
  {
   "cell_type": "code",
   "execution_count": 19,
   "metadata": {},
   "outputs": [
    {
     "name": "stderr",
     "output_type": "stream",
     "text": [
      "..\\fmdtools\\resultdisp\\plot.py:167: MatplotlibDeprecationWarning: Passing non-integers as three-element position specification is deprecated since 3.3 and will be removed two minor releases later.\n",
      "  ax_l = plt.subplot(np.ceil((num_plots)/cols),cols,n, label='legend')\n"
     ]
    },
    {
     "data": {
      "image/png": "[encoded data removed]",
      "text/plain": [
       "<Figure size 432x720 with 6 Axes>"
      ]
     },
     "metadata": {
      "needs_background": "light"
     },
     "output_type": "display_data"
    }
   ],
   "source": [
    "rd.plot.mdlhistvals(mdlhist, fxnflowvals={'Move_Rover':'power', 'Store_Energy':['mode', 'charge'], 'EE':['v_supply', 'a_supply']}, time=10)"
   ]
  },
  {
   "cell_type": "markdown",
   "metadata": {},
   "source": [
    "As shown, the static propagation step enables the mode to propagate back to the `Store_Energy` function (causing the `no_charge` fault) in the same timestep it is injected, even though it occurs later in the propagation order. \n",
    "\n",
    "However, because the voltage and current output behaviors for the function are defined in the `dynamic_behavior` method of the `Store_Energy` function, these are only updated to their final value (of zero) at the next step. While this enables some visualization of the current spike, it may keep faults and behaviors from further propagating through the functions as desired. Thus, to enable this, one might reallocate some of the behaviors from the `dynamic_behavior` method to the `static_behavior` method."
   ]
  },
  {
   "cell_type": "code",
   "execution_count": null,
   "metadata": {},
   "outputs": [],
   "source": []
  }
 ],
 "metadata": {
  "kernelspec": {
   "display_name": "Python 3",
   "language": "python",
   "name": "python3"
  },
  "language_info": {
   "codemirror_mode": {
    "name": "ipython",
    "version": 3
   },
   "file_extension": ".py",
   "mimetype": "text/x-python",
   "name": "python",
   "nbconvert_exporter": "python",
   "pygments_lexer": "ipython3",
   "version": "3.8.5"
  }
 },
 "nbformat": 4,
 "nbformat_minor": 4
}
