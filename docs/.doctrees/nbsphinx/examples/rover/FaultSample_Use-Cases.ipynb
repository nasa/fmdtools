{
 "cells": [
  {
   "cell_type": "markdown",
   "metadata": {},
   "source": [
    "# Defining Fault Sampling Approaches in fmdtools\n",
    "\n",
    "Fault Sampling is used to evaluate the overall resilience of a system to a set of faults and the corresponding risks associated with these faults. There is no single best way to define the set of scenarios to evaluate resilience with, because a given resilience analysis may need more or less detail, support more or less computational time, or be interested in specific scenario types of interest.\n",
    "\n",
    "Thus, there are a number of use-cases supported by fmdtools for different sampling models. This document will demonstrate and showcase a few of them.\n",
    "\n",
    "```\n",
    "Copyright © 2024, United States Government, as represented by the Administrator of the National Aeronautics and Space Administration. All rights reserved.\n",
    "\n",
    "The “\"Fault Model Design tools - fmdtools version 2\"” software is licensed under the Apache License, Version 2.0 (the \"License\"); you may not use this file except in compliance with the License. You may obtain a copy of the License at http://www.apache.org/licenses/LICENSE-2.0. \n",
    "\n",
    "Unless required by applicable law or agreed to in writing, software distributed under the License is distributed on an \"AS IS\" BASIS, WITHOUT WARRANTIES OR CONDITIONS OF ANY KIND, either express or implied. See the License for the specific language governing permissions and limitations under the License.\n",
    "```\n"
   ]
  },
  {
   "cell_type": "code",
   "execution_count": 1,
   "metadata": {
    "execution": {
     "iopub.execute_input": "2025-03-12T00:11:21.787751Z",
     "iopub.status.busy": "2025-03-12T00:11:21.786696Z",
     "iopub.status.idle": "2025-03-12T00:11:25.140031Z",
     "shell.execute_reply": "2025-03-12T00:11:25.135957Z"
    }
   },
   "outputs": [],
   "source": [
    "from fmdtools.sim.sample import SampleApproach, FaultSample, FaultDomain\n",
    "from fmdtools.analyze.tabulate import FMEA, Comparison\n",
    "import fmdtools.sim.propagate as prop\n",
    "import numpy as np"
   ]
  },
  {
   "cell_type": "markdown",
   "metadata": {},
   "source": [
    "### Basics\n",
    "\n",
    "Fault sampling involves:\n",
    "- Defining faults and fault models for each function/component/flows of the model is done using the 'Mode' Class\n",
    "- Defining a fault sampling approach, using the: \n",
    "    - `SampleApproach` class, or\n",
    "    -  `FaultDomain` and `FaultSample` calsses directly\n",
    "- Propagating faults through the model (using the `propagate.faultsample` method)\n",
    "Before proceeding, it can be helpful to look through their respective documentation."
   ]
  },
  {
   "cell_type": "markdown",
   "metadata": {},
   "source": [
    "### Model Setup\n",
    "\n",
    "Consider the rover model in `rover_model`"
   ]
  },
  {
   "cell_type": "code",
   "execution_count": 2,
   "metadata": {
    "execution": {
     "iopub.execute_input": "2025-03-12T00:11:25.150052Z",
     "iopub.status.busy": "2025-03-12T00:11:25.148673Z",
     "iopub.status.idle": "2025-03-12T00:11:25.167128Z",
     "shell.execute_reply": "2025-03-12T00:11:25.165132Z"
    }
   },
   "outputs": [],
   "source": [
    "import inspect\n",
    "from rover_model import Power, PowerMode"
   ]
  },
  {
   "cell_type": "markdown",
   "metadata": {},
   "source": [
    "This rover has a Power function:"
   ]
  },
  {
   "cell_type": "code",
   "execution_count": 3,
   "metadata": {
    "execution": {
     "iopub.execute_input": "2025-03-12T00:11:25.174268Z",
     "iopub.status.busy": "2025-03-12T00:11:25.173660Z",
     "iopub.status.idle": "2025-03-12T00:11:25.225316Z",
     "shell.execute_reply": "2025-03-12T00:11:25.223477Z"
    }
   },
   "outputs": [
    {
     "name": "stdout",
     "output_type": "stream",
     "text": [
      "class Power(Function):\n",
      "    \"\"\"Rover power supply.\"\"\"\n",
      "\n",
      "    __slots__ = (\"ee_15\", \"ee_5\", \"ee_12\", \"switch\")\n",
      "    container_s = PowerState\n",
      "    container_m = PowerMode\n",
      "    flow_ee_15 = EE\n",
      "    flow_ee_5 = EE\n",
      "    flow_ee_12 = EE\n",
      "    flow_switch = Switch\n",
      "\n",
      "    def static_behavior(self, time):\n",
      "        \"\"\"Determine power use based on mode.\"\"\"\n",
      "        if self.m.in_mode(\"off\"):\n",
      "            self.off_power()\n",
      "        elif self.m.in_mode(\"supply\"):\n",
      "            self.supply_power()\n",
      "        elif self.m.in_mode(\"short\"):\n",
      "            self.short_power()\n",
      "        elif self.m.in_mode(\"no_charge\"):\n",
      "            self.no_charge_power()\n",
      "\n",
      "        if self.m.in_mode(\"charge\"):\n",
      "            self.charge_power_usage()\n",
      "        else:\n",
      "            self.power_usage()\n",
      "            if self.m.in_mode(\"short\"):\n",
      "                self.short_power_usage()\n",
      "\n",
      "    def dynamic_behavior(self, time):\n",
      "        \"\"\"Charge increment over time.\"\"\"\n",
      "        self.s.inc(charge=-self.s.power / 100)\n",
      "        self.s.limit(charge=(0, 100))\n",
      "\n",
      "    def short_power(self):\n",
      "        \"\"\"Short in power supply means now power provided.\"\"\"\n",
      "        if self.s.charge > 0.1:\n",
      "            self.ee_5.s.v = 5\n",
      "            self.ee_12.s.v = 12\n",
      "            self.ee_15.s.v = 15\n",
      "        else:\n",
      "            self.no_charge_power()\n",
      "\n",
      "    def no_charge_power(self):\n",
      "        \"\"\"Battery is out of charge.\"\"\"\n",
      "        self.ee_5.s.v = 0\n",
      "        self.ee_12.s.v = 0\n",
      "        self.ee_15.s.v = 0\n",
      "\n",
      "    def off_power(self):\n",
      "        \"\"\"Power supply is shut off.\"\"\"\n",
      "        self.ee_5.s.put(v=0, a=0)\n",
      "        self.ee_12.s.put(v=0, a=0)\n",
      "        self.ee_15.s.put(v=0, a=0)\n",
      "        if self.switch.s.power:\n",
      "            self.m.set_mode(\"supply\")\n",
      "\n",
      "    def supply_power(self):\n",
      "        \"\"\"Power supply is in supply mode.\"\"\"\n",
      "        if self.s.charge > 0:\n",
      "            self.ee_5.s.v = 5\n",
      "            self.ee_12.s.v = 12\n",
      "            self.ee_15.s.v = 15\n",
      "        else:\n",
      "            self.m.set_mode(\"no_charge\")\n",
      "        if not self.switch.s.power:\n",
      "            self.m.set_mode(\"off\")\n",
      "\n",
      "    def power_usage(self):\n",
      "        \"\"\"Calculate the power usage in general.\"\"\"\n",
      "        self.s.power = (1.0 + self.ee_12.s.mul(\"v\", \"a\") +\n",
      "                        self.ee_5.s.mul(\"v\", \"a\") + self.ee_15.s.mul(\"v\", \"a\"))\n",
      "\n",
      "    def charge_power_usage(self):\n",
      "        \"\"\"Calculate the power usage when the battery charges.\"\"\"\n",
      "        self.s.power = -1\n",
      "        if self.s.charge == 100:\n",
      "            self.m.set_mode(\"off\")\n",
      "\n",
      "    def short_power_usage(self):\n",
      "        \"\"\"Calculate power usage when there is a short (calculated as 10x).\"\"\"\n",
      "        self.s.power = self.s.power * 10\n",
      "\n"
     ]
    }
   ],
   "source": [
    "print(inspect.getsource(Power))"
   ]
  },
  {
   "cell_type": "markdown",
   "metadata": {},
   "source": [
    "Which contains the mode `PowerMode`:"
   ]
  },
  {
   "cell_type": "code",
   "execution_count": 4,
   "metadata": {
    "execution": {
     "iopub.execute_input": "2025-03-12T00:11:25.232661Z",
     "iopub.status.busy": "2025-03-12T00:11:25.232088Z",
     "iopub.status.idle": "2025-03-12T00:11:25.272115Z",
     "shell.execute_reply": "2025-03-12T00:11:25.270511Z"
    }
   },
   "outputs": [
    {
     "name": "stdout",
     "output_type": "stream",
     "text": [
      "class PowerMode(Mode):\n",
      "    \"\"\"\n",
      "    Possible modes for Power function.\n",
      "\n",
      "    Modes\n",
      "    -------\n",
      "    no_charge : Fault\n",
      "        Battery is out of charge.\n",
      "    short: Fault\n",
      "        There is a short.\n",
      "    supply: Mode\n",
      "        supply power\n",
      "    charge: Mode\n",
      "        charge battery\n",
      "    standby: Mode\n",
      "        power supply is in stand by\n",
      "    off: Mode\n",
      "        power supply is off\n",
      "    \"\"\"\n",
      "\n",
      "    fault_no_charge = (1e-5, 100, ((\"off\", 1.0),))\n",
      "    fault_short = (1e-5, 100, ((\"supply\", 1.0),))\n",
      "    opermodes = (\"supply\", \"charge\", \"off\")\n",
      "    mode: str = \"off\"\n",
      "    exclusive = True\n",
      "\n"
     ]
    }
   ],
   "source": [
    "print(inspect.getsource(PowerMode))"
   ]
  },
  {
   "cell_type": "markdown",
   "metadata": {},
   "source": [
    "The class variable `fm_args` specifies that there are two possible modes to inject, \"no_charge\", and \"shortn\", with no more information given for each mode. More information has been added in the tuples of the dictionary, including:\n",
    "- rate\n",
    "- repair cost\n",
    "- phase dictionary\n",
    "The phase dictionary is important because it specifies that this mode is to occur in a given phase. In this case, `no_charge` is supposed to only occur during the `standby` phase while `short` is only supposed to occur during the `supply` phase. In this `Mode`, these phases correspond to the operational modes (`opermodes`), but they may correspond to other operational modes also.\n",
    "\n",
    "All of these fields are optional, but they do help us develop a more informed statistical sample of the fault modes."
   ]
  },
  {
   "cell_type": "markdown",
   "metadata": {},
   "source": [
    "### Setting up a FaultSample\n",
    "\n",
    "Sampling using `FaultSample` first requires creating a `FaultDomain` to sample from. These faultdomains can be created from both models and individual functions:"
   ]
  },
  {
   "cell_type": "code",
   "execution_count": 5,
   "metadata": {
    "execution": {
     "iopub.execute_input": "2025-03-12T00:11:25.278336Z",
     "iopub.status.busy": "2025-03-12T00:11:25.277773Z",
     "iopub.status.idle": "2025-03-12T00:11:25.297156Z",
     "shell.execute_reply": "2025-03-12T00:11:25.295874Z"
    }
   },
   "outputs": [
    {
     "data": {
      "text/plain": [
       "FaultDomain with faults:\n",
       " -('power', 'no_charge')\n",
       " -('power', 'short')"
      ]
     },
     "execution_count": 5,
     "metadata": {},
     "output_type": "execute_result"
    }
   ],
   "source": [
    "fd_power = FaultDomain(Power())\n",
    "fd_power.add_all()\n",
    "fd_power"
   ]
  },
  {
   "cell_type": "code",
   "execution_count": 6,
   "metadata": {
    "execution": {
     "iopub.execute_input": "2025-03-12T00:11:25.302763Z",
     "iopub.status.busy": "2025-03-12T00:11:25.302226Z",
     "iopub.status.idle": "2025-03-12T00:11:25.382716Z",
     "shell.execute_reply": "2025-03-12T00:11:25.380457Z"
    }
   },
   "outputs": [
    {
     "data": {
      "text/plain": [
       "FaultDomain with faults:\n",
       " -('rover.fxns.power', 'no_charge')\n",
       " -('rover.fxns.power', 'short')\n",
       " -('rover.fxns.perception', 'bad_feed')\n",
       " -('rover.fxns.plan_path', 'crash')\n",
       " -('rover.fxns.plan_path', 'no_con')\n",
       " -('rover.fxns.drive', 'hmode_0')\n",
       " -('rover.fxns.drive', 'hmode_1')\n",
       " -('rover.fxns.drive', 'hmode_2')\n",
       " -('rover.fxns.drive', 'hmode_3')\n",
       " -('rover.fxns.drive', 'hmode_4')\n",
       " -...more"
      ]
     },
     "execution_count": 6,
     "metadata": {},
     "output_type": "execute_result"
    }
   ],
   "source": [
    "from rover_model import Rover\n",
    "fd_rvr = FaultDomain(Rover())\n",
    "fd_rvr.add_all()\n",
    "fd_rvr"
   ]
  },
  {
   "cell_type": "markdown",
   "metadata": {},
   "source": [
    "Note that there are several methods in FaultDomain which let us specify the list of faults we want to sample from, e.g.:"
   ]
  },
  {
   "cell_type": "code",
   "execution_count": 7,
   "metadata": {
    "execution": {
     "iopub.execute_input": "2025-03-12T00:11:25.390169Z",
     "iopub.status.busy": "2025-03-12T00:11:25.389498Z",
     "iopub.status.idle": "2025-03-12T00:11:25.468128Z",
     "shell.execute_reply": "2025-03-12T00:11:25.466085Z"
    }
   },
   "outputs": [
    {
     "data": {
      "text/plain": [
       "FaultDomain with faults:\n",
       " -('rover.fxns.power', 'short')"
      ]
     },
     "execution_count": 7,
     "metadata": {},
     "output_type": "execute_result"
    }
   ],
   "source": [
    "fd_short = FaultDomain(Rover())\n",
    "fd_short.add_all_modes(\"short\")\n",
    "fd_short"
   ]
  },
  {
   "cell_type": "markdown",
   "metadata": {},
   "source": [
    "or:"
   ]
  },
  {
   "cell_type": "code",
   "execution_count": 8,
   "metadata": {
    "execution": {
     "iopub.execute_input": "2025-03-12T00:11:25.475236Z",
     "iopub.status.busy": "2025-03-12T00:11:25.474692Z",
     "iopub.status.idle": "2025-03-12T00:11:25.548234Z",
     "shell.execute_reply": "2025-03-12T00:11:25.546369Z"
    }
   },
   "outputs": [
    {
     "data": {
      "text/plain": [
       "FaultDomain with faults:\n",
       " -('rover.fxns.power', 'no_charge')\n",
       " -('rover.fxns.power', 'short')"
      ]
     },
     "execution_count": 8,
     "metadata": {},
     "output_type": "execute_result"
    }
   ],
   "source": [
    "fd_pwr = FaultDomain(Rover())\n",
    "fd_pwr.add_all_fxn_modes(\"power\")\n",
    "fd_pwr"
   ]
  },
  {
   "cell_type": "markdown",
   "metadata": {},
   "source": [
    "We can then sample this domain using a `FaultSample`:"
   ]
  },
  {
   "cell_type": "code",
   "execution_count": 9,
   "metadata": {
    "execution": {
     "iopub.execute_input": "2025-03-12T00:11:25.555159Z",
     "iopub.status.busy": "2025-03-12T00:11:25.554549Z",
     "iopub.status.idle": "2025-03-12T00:11:25.563354Z",
     "shell.execute_reply": "2025-03-12T00:11:25.561340Z"
    }
   },
   "outputs": [],
   "source": [
    "fs_pwr = FaultSample(fd_pwr, def_mdl_phasemap=False)"
   ]
  },
  {
   "cell_type": "markdown",
   "metadata": {},
   "source": [
    "Note that FaultSamples have two main variables: faultdomain and phasemap. A PhaseMap is essentially a dictionary of phases to sample from.\n",
    "\n",
    "In the above case, we don't want to use phase information to form the sample, so we don't provide any and we set `def_mdl_phasemap=False`, since this would get phase information from the model."
   ]
  },
  {
   "cell_type": "markdown",
   "metadata": {},
   "source": [
    "To add scenarios to the `FaultSample`, we can then use one of the `add` methods:"
   ]
  },
  {
   "cell_type": "code",
   "execution_count": 10,
   "metadata": {
    "execution": {
     "iopub.execute_input": "2025-03-12T00:11:25.570085Z",
     "iopub.status.busy": "2025-03-12T00:11:25.569124Z",
     "iopub.status.idle": "2025-03-12T00:11:25.587297Z",
     "shell.execute_reply": "2025-03-12T00:11:25.585116Z"
    }
   },
   "outputs": [
    {
     "data": {
      "text/plain": [
       "FaultSample of scenarios: \n",
       " - rover_fxns_power_no_charge_t2\n",
       " - rover_fxns_power_no_charge_t5\n",
       " - rover_fxns_power_no_charge_t10\n",
       " - rover_fxns_power_short_t2\n",
       " - rover_fxns_power_short_t5\n",
       " - rover_fxns_power_short_t10"
      ]
     },
     "execution_count": 10,
     "metadata": {},
     "output_type": "execute_result"
    }
   ],
   "source": [
    "fs_pwr.add_fault_times([2,5,10])\n",
    "fs_pwr"
   ]
  },
  {
   "cell_type": "markdown",
   "metadata": {},
   "source": [
    "As shown, this adds the list of faults in the faultdomain over the given times.\n",
    "\n",
    "Note the underlying rate information in these scenarios is all the same:"
   ]
  },
  {
   "cell_type": "code",
   "execution_count": 11,
   "metadata": {
    "execution": {
     "iopub.execute_input": "2025-03-12T00:11:25.594854Z",
     "iopub.status.busy": "2025-03-12T00:11:25.594186Z",
     "iopub.status.idle": "2025-03-12T00:11:25.605699Z",
     "shell.execute_reply": "2025-03-12T00:11:25.603733Z"
    }
   },
   "outputs": [
    {
     "data": {
      "text/plain": [
       "[SingleFaultScenario(sequence={2.0: Injection(faults={'rover.fxns.power': ['no_charge']}, disturbances={})}, times=(2,), function='rover.fxns.power', fault='no_charge', rate=1e-05, name='rover_fxns_power_no_charge_t2', time=2, phase=''),\n",
       " SingleFaultScenario(sequence={5.0: Injection(faults={'rover.fxns.power': ['no_charge']}, disturbances={})}, times=(5,), function='rover.fxns.power', fault='no_charge', rate=1e-05, name='rover_fxns_power_no_charge_t5', time=5, phase=''),\n",
       " SingleFaultScenario(sequence={10.0: Injection(faults={'rover.fxns.power': ['no_charge']}, disturbances={})}, times=(10,), function='rover.fxns.power', fault='no_charge', rate=1e-05, name='rover_fxns_power_no_charge_t10', time=10, phase=''),\n",
       " SingleFaultScenario(sequence={2.0: Injection(faults={'rover.fxns.power': ['short']}, disturbances={})}, times=(2,), function='rover.fxns.power', fault='short', rate=1e-05, name='rover_fxns_power_short_t2', time=2, phase=''),\n",
       " SingleFaultScenario(sequence={5.0: Injection(faults={'rover.fxns.power': ['short']}, disturbances={})}, times=(5,), function='rover.fxns.power', fault='short', rate=1e-05, name='rover_fxns_power_short_t5', time=5, phase=''),\n",
       " SingleFaultScenario(sequence={10.0: Injection(faults={'rover.fxns.power': ['short']}, disturbances={})}, times=(10,), function='rover.fxns.power', fault='short', rate=1e-05, name='rover_fxns_power_short_t10', time=10, phase='')]"
      ]
     },
     "execution_count": 11,
     "metadata": {},
     "output_type": "execute_result"
    }
   ],
   "source": [
    "fs_pwr.scenarios()"
   ]
  },
  {
   "cell_type": "markdown",
   "metadata": {},
   "source": [
    "But we know better than this--some of the faults should have zero rate if they are going to occur in phases they don't apply to!"
   ]
  },
  {
   "cell_type": "markdown",
   "metadata": {},
   "source": [
    "If we want to sample the given phases for the sample, we can additionally pass a phasemap generated by first running the model in the nominal state:"
   ]
  },
  {
   "cell_type": "code",
   "execution_count": 12,
   "metadata": {
    "execution": {
     "iopub.execute_input": "2025-03-12T00:11:25.611189Z",
     "iopub.status.busy": "2025-03-12T00:11:25.610650Z",
     "iopub.status.idle": "2025-03-12T00:11:26.760745Z",
     "shell.execute_reply": "2025-03-12T00:11:26.758050Z"
    }
   },
   "outputs": [],
   "source": [
    "res, hist = prop.nominal(Rover())"
   ]
  },
  {
   "cell_type": "markdown",
   "metadata": {},
   "source": [
    "We can then get phase information from this history using the `fmdtools.analyze.phases.from_hist`:"
   ]
  },
  {
   "cell_type": "code",
   "execution_count": 13,
   "metadata": {
    "execution": {
     "iopub.execute_input": "2025-03-12T00:11:26.769651Z",
     "iopub.status.busy": "2025-03-12T00:11:26.768940Z",
     "iopub.status.idle": "2025-03-12T00:11:26.787891Z",
     "shell.execute_reply": "2025-03-12T00:11:26.785515Z"
    }
   },
   "outputs": [
    {
     "data": {
      "text/plain": [
       "{'power': PhaseMap({'off': [0.0, 0.0], 'supply': [1.0, 112.0]}, {'off': {'off'}, 'supply': {'supply'}}),\n",
       " 'perception': PhaseMap({'off': [0.0, 1.0], 'feed': [2.0, 112.0]}, {'off': {'off'}, 'feed': {'feed'}}),\n",
       " 'plan_path': PhaseMap({'standby': [0.0, 4.0], 'drive': [5.0, 112.0]}, {'standby': {'standby'}, 'drive': {'drive'}}),\n",
       " 'override': PhaseMap({'off': [0.0, 1.0], 'standby': [2.0, 112.0]}, {'off': {'off'}, 'standby': {'standby'}})}"
      ]
     },
     "execution_count": 13,
     "metadata": {},
     "output_type": "execute_result"
    }
   ],
   "source": [
    "from fmdtools.analyze.phases import from_hist, phaseplot\n",
    "phases = from_hist(hist)\n",
    "phases"
   ]
  },
  {
   "cell_type": "markdown",
   "metadata": {},
   "source": [
    "Which can be visualized using:"
   ]
  },
  {
   "cell_type": "code",
   "execution_count": 14,
   "metadata": {
    "execution": {
     "iopub.execute_input": "2025-03-12T00:11:26.795174Z",
     "iopub.status.busy": "2025-03-12T00:11:26.794568Z",
     "iopub.status.idle": "2025-03-12T00:11:30.064962Z",
     "shell.execute_reply": "2025-03-12T00:11:30.062350Z"
    }
   },
   "outputs": [
    {
     "data": {
      "image/png": "[encoded data removed]",
      "text/plain": [
       "<Figure size 400x800 with 4 Axes>"
      ]
     },
     "metadata": {},
     "output_type": "display_data"
    }
   ],
   "source": [
    "fig = phaseplot(phases)"
   ]
  },
  {
   "cell_type": "markdown",
   "metadata": {},
   "source": [
    "The `PhaseMap` for `Power` is here in `power`:"
   ]
  },
  {
   "cell_type": "code",
   "execution_count": 15,
   "metadata": {
    "execution": {
     "iopub.execute_input": "2025-03-12T00:11:30.072296Z",
     "iopub.status.busy": "2025-03-12T00:11:30.071723Z",
     "iopub.status.idle": "2025-03-12T00:11:30.083904Z",
     "shell.execute_reply": "2025-03-12T00:11:30.081490Z"
    }
   },
   "outputs": [
    {
     "data": {
      "text/plain": [
       "PhaseMap({'off': [0.0, 0.0], 'supply': [1.0, 112.0]}, {'off': {'off'}, 'supply': {'supply'}})"
      ]
     },
     "execution_count": 15,
     "metadata": {},
     "output_type": "execute_result"
    }
   ],
   "source": [
    "phases['power']"
   ]
  },
  {
   "cell_type": "markdown",
   "metadata": {},
   "source": [
    "Which we can use to create a `FaultSample` which only samples the phases corresponding to the information given in `Mode`:"
   ]
  },
  {
   "cell_type": "code",
   "execution_count": 16,
   "metadata": {
    "execution": {
     "iopub.execute_input": "2025-03-12T00:11:30.090598Z",
     "iopub.status.busy": "2025-03-12T00:11:30.089933Z",
     "iopub.status.idle": "2025-03-12T00:11:30.108747Z",
     "shell.execute_reply": "2025-03-12T00:11:30.106273Z"
    }
   },
   "outputs": [
    {
     "data": {
      "text/plain": [
       "FaultSample of scenarios: \n",
       " - rover_fxns_power_no_charge_t0p0\n",
       " - rover_fxns_power_short_t0p0\n",
       " - rover_fxns_power_no_charge_t56p0\n",
       " - rover_fxns_power_short_t56p0"
      ]
     },
     "execution_count": 16,
     "metadata": {},
     "output_type": "execute_result"
    }
   ],
   "source": [
    "fs_pwr = FaultSample(fd_pwr, phasemap=phases['power'])\n",
    "fs_pwr.add_fault_phases()\n",
    "fs_pwr"
   ]
  },
  {
   "cell_type": "markdown",
   "metadata": {},
   "source": [
    "If we look at the rate information, however:"
   ]
  },
  {
   "cell_type": "code",
   "execution_count": 17,
   "metadata": {
    "execution": {
     "iopub.execute_input": "2025-03-12T00:11:30.116310Z",
     "iopub.status.busy": "2025-03-12T00:11:30.115729Z",
     "iopub.status.idle": "2025-03-12T00:11:30.129319Z",
     "shell.execute_reply": "2025-03-12T00:11:30.126806Z"
    }
   },
   "outputs": [
    {
     "data": {
      "text/plain": [
       "[SingleFaultScenario(sequence={0.0: Injection(faults={'rover.fxns.power': ['no_charge']}, disturbances={})}, times=(0.0,), function='rover.fxns.power', fault='no_charge', rate=1e-05, name='rover_fxns_power_no_charge_t0p0', time=0.0, phase='off'),\n",
       " SingleFaultScenario(sequence={0.0: Injection(faults={'rover.fxns.power': ['short']}, disturbances={})}, times=(0.0,), function='rover.fxns.power', fault='short', rate=0.0, name='rover_fxns_power_short_t0p0', time=0.0, phase='off'),\n",
       " SingleFaultScenario(sequence={56.0: Injection(faults={'rover.fxns.power': ['no_charge']}, disturbances={})}, times=(56.0,), function='rover.fxns.power', fault='no_charge', rate=0.0, name='rover_fxns_power_no_charge_t56p0', time=56.0, phase='supply'),\n",
       " SingleFaultScenario(sequence={56.0: Injection(faults={'rover.fxns.power': ['short']}, disturbances={})}, times=(56.0,), function='rover.fxns.power', fault='short', rate=1e-05, name='rover_fxns_power_short_t56p0', time=56.0, phase='supply')]"
      ]
     },
     "execution_count": 17,
     "metadata": {},
     "output_type": "execute_result"
    }
   ],
   "source": [
    "fs_pwr.scenarios()"
   ]
  },
  {
   "cell_type": "markdown",
   "metadata": {},
   "source": [
    "The rate for scenarios outside the phases is zero!\n",
    "\n",
    "We can remove these scenarios using `FaultSample.prune_scenarios`:"
   ]
  },
  {
   "cell_type": "code",
   "execution_count": 18,
   "metadata": {
    "execution": {
     "iopub.execute_input": "2025-03-12T00:11:30.135864Z",
     "iopub.status.busy": "2025-03-12T00:11:30.135300Z",
     "iopub.status.idle": "2025-03-12T00:11:30.148173Z",
     "shell.execute_reply": "2025-03-12T00:11:30.145701Z"
    }
   },
   "outputs": [
    {
     "data": {
      "text/plain": [
       "FaultSample of scenarios: \n",
       " - rover_fxns_power_no_charge_t0p0\n",
       " - rover_fxns_power_short_t56p0"
      ]
     },
     "execution_count": 18,
     "metadata": {},
     "output_type": "execute_result"
    }
   ],
   "source": [
    "fs_pwr.prune_scenarios(\"rate\", np.greater, 0.0)\n",
    "fs_pwr"
   ]
  },
  {
   "cell_type": "code",
   "execution_count": 19,
   "metadata": {
    "execution": {
     "iopub.execute_input": "2025-03-12T00:11:30.155062Z",
     "iopub.status.busy": "2025-03-12T00:11:30.154457Z",
     "iopub.status.idle": "2025-03-12T00:11:30.166809Z",
     "shell.execute_reply": "2025-03-12T00:11:30.164530Z"
    }
   },
   "outputs": [
    {
     "data": {
      "text/plain": [
       "[SingleFaultScenario(sequence={0.0: Injection(faults={'rover.fxns.power': ['no_charge']}, disturbances={})}, times=(0.0,), function='rover.fxns.power', fault='no_charge', rate=1e-05, name='rover_fxns_power_no_charge_t0p0', time=0.0, phase='off'),\n",
       " SingleFaultScenario(sequence={56.0: Injection(faults={'rover.fxns.power': ['short']}, disturbances={})}, times=(56.0,), function='rover.fxns.power', fault='short', rate=1e-05, name='rover_fxns_power_short_t56p0', time=56.0, phase='supply')]"
      ]
     },
     "execution_count": 19,
     "metadata": {},
     "output_type": "execute_result"
    }
   ],
   "source": [
    "fs_pwr.scenarios()"
   ]
  },
  {
   "cell_type": "markdown",
   "metadata": {},
   "source": [
    "As shown, now the only scenarios in the `FaultSample` are ones which have nonzero rate."
   ]
  },
  {
   "cell_type": "code",
   "execution_count": 20,
   "metadata": {
    "execution": {
     "iopub.execute_input": "2025-03-12T00:11:30.174837Z",
     "iopub.status.busy": "2025-03-12T00:11:30.174210Z",
     "iopub.status.idle": "2025-03-12T00:11:30.185071Z",
     "shell.execute_reply": "2025-03-12T00:11:30.182901Z"
    }
   },
   "outputs": [],
   "source": [
    "assert all([scen.rate > 0 for scen in fs_pwr.scenarios()])"
   ]
  },
  {
   "cell_type": "markdown",
   "metadata": {},
   "source": [
    "To enable multiple samples to be generated for different faultdomains accross the model, we can use `SampleApproach`, e.g.:"
   ]
  },
  {
   "cell_type": "code",
   "execution_count": 21,
   "metadata": {
    "execution": {
     "iopub.execute_input": "2025-03-12T00:11:30.191083Z",
     "iopub.status.busy": "2025-03-12T00:11:30.190571Z",
     "iopub.status.idle": "2025-03-12T00:11:30.203525Z",
     "shell.execute_reply": "2025-03-12T00:11:30.201372Z"
    }
   },
   "outputs": [
    {
     "data": {
      "text/plain": [
       "{'power': PhaseMap({'off': [0.0, 0.0], 'supply': [1.0, 112.0]}, {'off': {'off'}, 'supply': {'supply'}}),\n",
       " 'perception': PhaseMap({'off': [0.0, 1.0], 'feed': [2.0, 112.0]}, {'off': {'off'}, 'feed': {'feed'}}),\n",
       " 'plan_path': PhaseMap({'standby': [0.0, 4.0], 'drive': [5.0, 112.0]}, {'standby': {'standby'}, 'drive': {'drive'}}),\n",
       " 'override': PhaseMap({'off': [0.0, 1.0], 'standby': [2.0, 112.0]}, {'off': {'off'}, 'standby': {'standby'}})}"
      ]
     },
     "execution_count": 21,
     "metadata": {},
     "output_type": "execute_result"
    }
   ],
   "source": [
    "phases"
   ]
  },
  {
   "cell_type": "code",
   "execution_count": 22,
   "metadata": {
    "execution": {
     "iopub.execute_input": "2025-03-12T00:11:30.209512Z",
     "iopub.status.busy": "2025-03-12T00:11:30.208939Z",
     "iopub.status.idle": "2025-03-12T00:11:30.288370Z",
     "shell.execute_reply": "2025-03-12T00:11:30.285833Z"
    }
   },
   "outputs": [],
   "source": [
    "sa = SampleApproach(Rover(), phasemaps=phases)\n",
    "# adding fault domains\n",
    "sa.add_faultdomain(\"drive\", \"fault\", \"drive\", \"hmode_1\")\n",
    "sa.add_faultdomain(\"plan_path\", \"all_fxn_modes\", \"plan_path\")\n",
    "sa.add_faultdomain(\"power\", \"all_fxn_modes\", \"power\")\n",
    "sa.add_faultsample(\"drive\", \"fault_phases\", \"drive\", phasemap=\"plan_path\")\n",
    "sa.add_faultsample(\"plan_path\", \"fault_phases\", \"plan_path\", phasemap=\"plan_path\")\n",
    "sa.add_faultsample(\"power\", \"fault_phases\", \"power\", phasemap=\"power\")\n",
    "sa.prune_scenarios()"
   ]
  },
  {
   "cell_type": "code",
   "execution_count": 23,
   "metadata": {
    "execution": {
     "iopub.execute_input": "2025-03-12T00:11:30.296070Z",
     "iopub.status.busy": "2025-03-12T00:11:30.295548Z",
     "iopub.status.idle": "2025-03-12T00:11:30.307329Z",
     "shell.execute_reply": "2025-03-12T00:11:30.305118Z"
    }
   },
   "outputs": [
    {
     "data": {
      "text/plain": [
       "SampleApproach for rover with: \n",
       " faultdomains: drive, plan_path, power\n",
       " faultsamples: drive, plan_path, power"
      ]
     },
     "execution_count": 23,
     "metadata": {},
     "output_type": "execute_result"
    }
   ],
   "source": [
    "sa"
   ]
  },
  {
   "cell_type": "code",
   "execution_count": 24,
   "metadata": {
    "execution": {
     "iopub.execute_input": "2025-03-12T00:11:30.313428Z",
     "iopub.status.busy": "2025-03-12T00:11:30.312841Z",
     "iopub.status.idle": "2025-03-12T00:11:30.326732Z",
     "shell.execute_reply": "2025-03-12T00:11:30.324084Z"
    }
   },
   "outputs": [
    {
     "data": {
      "text/plain": [
       "[SingleFaultScenario(sequence={58.0: Injection(faults={'drive': ['hmode_1']}, disturbances={})}, times=(58.0,), function='drive', fault='hmode_1', rate=0.027777777777777776, name='drive_hmode_1_t58p0', time=58.0, phase='drive'),\n",
       " SingleFaultScenario(sequence={2.0: Injection(faults={'rover.fxns.plan_path': ['crash']}, disturbances={})}, times=(2.0,), function='rover.fxns.plan_path', fault='crash', rate=0.0001, name='rover_fxns_plan_path_crash_t2p0', time=2.0, phase='standby'),\n",
       " SingleFaultScenario(sequence={2.0: Injection(faults={'rover.fxns.plan_path': ['no_con']}, disturbances={})}, times=(2.0,), function='rover.fxns.plan_path', fault='no_con', rate=0.0001, name='rover_fxns_plan_path_no_con_t2p0', time=2.0, phase='standby'),\n",
       " SingleFaultScenario(sequence={58.0: Injection(faults={'rover.fxns.plan_path': ['crash']}, disturbances={})}, times=(58.0,), function='rover.fxns.plan_path', fault='crash', rate=0.0001, name='rover_fxns_plan_path_crash_t58p0', time=58.0, phase='drive'),\n",
       " SingleFaultScenario(sequence={58.0: Injection(faults={'rover.fxns.plan_path': ['no_con']}, disturbances={})}, times=(58.0,), function='rover.fxns.plan_path', fault='no_con', rate=0.0001, name='rover_fxns_plan_path_no_con_t58p0', time=58.0, phase='drive'),\n",
       " SingleFaultScenario(sequence={0.0: Injection(faults={'rover.fxns.power': ['no_charge']}, disturbances={})}, times=(0.0,), function='rover.fxns.power', fault='no_charge', rate=1e-05, name='rover_fxns_power_no_charge_t0p0', time=0.0, phase='off'),\n",
       " SingleFaultScenario(sequence={56.0: Injection(faults={'rover.fxns.power': ['short']}, disturbances={})}, times=(56.0,), function='rover.fxns.power', fault='short', rate=1e-05, name='rover_fxns_power_short_t56p0', time=56.0, phase='supply')]"
      ]
     },
     "execution_count": 24,
     "metadata": {},
     "output_type": "execute_result"
    }
   ],
   "source": [
    "sa.scenarios()"
   ]
  },
  {
   "cell_type": "markdown",
   "metadata": {},
   "source": [
    "This is mostly useful when we would like to sample different functions in a model differently than others (e.g., using different phases), but still want to propagate the scenarios together as a part of a single sample."
   ]
  },
  {
   "cell_type": "markdown",
   "metadata": {},
   "source": [
    "### Propagating Faults\n",
    "\n",
    "Given the `FaultSample` approach, faults can then be propagated through the model to get results. Note that these faults can be sampled in parallel if desired using a user-provided pool (see the parallel pool tutorial in the `\\pump example` folder)."
   ]
  },
  {
   "cell_type": "code",
   "execution_count": 25,
   "metadata": {
    "execution": {
     "iopub.execute_input": "2025-03-12T00:11:30.332698Z",
     "iopub.status.busy": "2025-03-12T00:11:30.332214Z",
     "iopub.status.idle": "2025-03-12T00:11:32.128068Z",
     "shell.execute_reply": "2025-03-12T00:11:32.125824Z"
    }
   },
   "outputs": [
    {
     "name": "stderr",
     "output_type": "stream",
     "text": [
      "\r",
      "SCENARIOS COMPLETE:   0%|          | 0/2 [00:00<?, ?it/s]"
     ]
    },
    {
     "name": "stderr",
     "output_type": "stream",
     "text": [
      "\r",
      "SCENARIOS COMPLETE:  50%|█████     | 1/2 [00:00<00:00,  9.84it/s]"
     ]
    },
    {
     "name": "stderr",
     "output_type": "stream",
     "text": [
      "\r",
      "SCENARIOS COMPLETE: 100%|██████████| 2/2 [00:00<00:00,  2.43it/s]"
     ]
    },
    {
     "name": "stderr",
     "output_type": "stream",
     "text": [
      "\r",
      "SCENARIOS COMPLETE: 100%|██████████| 2/2 [00:00<00:00,  2.73it/s]"
     ]
    },
    {
     "name": "stderr",
     "output_type": "stream",
     "text": [
      "\n"
     ]
    }
   ],
   "source": [
    "res, hist = prop.fault_sample(Rover(), fs_pwr)"
   ]
  },
  {
   "cell_type": "code",
   "execution_count": 26,
   "metadata": {
    "execution": {
     "iopub.execute_input": "2025-03-12T00:11:32.134681Z",
     "iopub.status.busy": "2025-03-12T00:11:32.134189Z",
     "iopub.status.idle": "2025-03-12T00:11:32.144809Z",
     "shell.execute_reply": "2025-03-12T00:11:32.143052Z"
    }
   },
   "outputs": [
    {
     "data": {
      "text/plain": [
       "[SingleFaultScenario(sequence={0.0: Injection(faults={'rover.fxns.power': ['no_charge']}, disturbances={})}, times=(0.0,), function='rover.fxns.power', fault='no_charge', rate=1e-05, name='rover_fxns_power_no_charge_t0p0', time=0.0, phase='off'),\n",
       " SingleFaultScenario(sequence={56.0: Injection(faults={'rover.fxns.power': ['short']}, disturbances={})}, times=(56.0,), function='rover.fxns.power', fault='short', rate=1e-05, name='rover_fxns_power_short_t56p0', time=56.0, phase='supply')]"
      ]
     },
     "execution_count": 26,
     "metadata": {},
     "output_type": "execute_result"
    }
   ],
   "source": [
    "fs_pwr.scenarios()"
   ]
  },
  {
   "cell_type": "code",
   "execution_count": 27,
   "metadata": {
    "execution": {
     "iopub.execute_input": "2025-03-12T00:11:32.150719Z",
     "iopub.status.busy": "2025-03-12T00:11:32.150140Z",
     "iopub.status.idle": "2025-03-12T00:11:32.162286Z",
     "shell.execute_reply": "2025-03-12T00:11:32.160548Z"
    }
   },
   "outputs": [
    {
     "data": {
      "text/plain": [
       "array([ 0.        ,  0.        ,  0.        ,  0.        ,  0.        ,\n",
       "        0.26228971,  0.49976748,  0.75073622,  1.02156689,  1.32129469,\n",
       "        1.64872275,  1.97931323,  2.28554745,  2.5617033 ,  2.81293761,\n",
       "        3.05023699,  3.27790299,  3.50955358,  3.74782502,  4.00173726,\n",
       "        4.27958216,  4.58909344,  4.92131254,  5.24511574,  5.53944945,\n",
       "        5.80388536,  6.04976253,  6.28347644,  6.51647431,  6.75159711,\n",
       "        6.99704083,  7.26107844,  7.55319773,  7.87591486,  8.20846606,\n",
       "        8.51950465,  8.79935905,  9.05524795,  9.29420557,  9.52437137,\n",
       "        9.75690271,  9.99541657, 10.24718399, 10.5213614 , 10.82691482,\n",
       "       11.15775968, 11.48436846, 11.78261477, 12.05194732, 12.29896633,\n",
       "       12.53412411, 12.76759447, 13.00158045, 13.24371735, 13.50429217,\n",
       "       13.79153424, 14.11009375, 14.4433811 , 14.75940856, 15.04465136,\n",
       "       15.30237525, 15.54407263, 15.7756063 , 16.00796687, 16.24490728,\n",
       "       16.49506726, 16.76634091, 17.06780748, 17.39659755, 17.72559436,\n",
       "       18.02745202, 18.29919904, 18.54970736, 18.78576416, 19.0201945 ,\n",
       "       19.25406815, 19.49550135, 19.75267898, 20.03543446, 20.3502719 ,\n",
       "       20.68350322, 21.00283298, 21.2912787 , 21.55318904, 21.79568028,\n",
       "       22.02826326, 22.26081145, 22.4969189 , 22.74393521, 23.0114501 ,\n",
       "       23.30883578, 23.63496159, 23.96603545, 24.27286793, 24.54935844,\n",
       "       24.80104437, 25.0390264 , 25.26819146, 25.50091017, 25.74042655,\n",
       "       25.99578368, 25.99578368])"
      ]
     },
     "execution_count": 27,
     "metadata": {},
     "output_type": "execute_result"
    }
   ],
   "source": [
    "hist.rover_fxns_power_short_t56p0.flows.pos.s.x"
   ]
  },
  {
   "cell_type": "code",
   "execution_count": 28,
   "metadata": {
    "execution": {
     "iopub.execute_input": "2025-03-12T00:11:32.168144Z",
     "iopub.status.busy": "2025-03-12T00:11:32.167652Z",
     "iopub.status.idle": "2025-03-12T00:11:32.181181Z",
     "shell.execute_reply": "2025-03-12T00:11:32.179141Z"
    }
   },
   "outputs": [
    {
     "data": {
      "text/plain": [
       "array([100.   ,  99.99 ,  99.98 ,  99.8  ,  99.62 ,  99.44 ,  99.235,\n",
       "        99.03 ,  98.825,  98.62 ,  98.415,  98.21 ,  98.005,  97.8  ,\n",
       "        97.595,  97.39 ,  97.185,  96.98 ,  96.775,  96.57 ,  96.365,\n",
       "        96.16 ,  95.955,  95.75 ,  95.545,  95.34 ,  95.135,  94.93 ,\n",
       "        94.725,  94.52 ,  94.315,  94.11 ,  93.905,  93.7  ,  93.495,\n",
       "        93.29 ,  93.085,  92.88 ,  92.675,  92.47 ,  92.265,  92.06 ,\n",
       "        91.855,  91.65 ,  91.445,  91.24 ,  91.035,  90.83 ,  90.625,\n",
       "        90.42 ,  90.215,  90.01 ,  89.805,  89.6  ,  89.395,  89.19 ,\n",
       "        88.985,  86.935,  84.885,  82.835,  80.785,  78.735,  76.685,\n",
       "        74.635,  72.585,  70.535,  68.485,  66.435,  64.385,  62.335,\n",
       "        60.285,  58.235,  56.185,  54.135,  52.085,  50.035,  47.985,\n",
       "        45.935,  43.885,  41.835,  39.785,  37.735,  35.685,  33.635,\n",
       "        31.585,  29.535,  27.485,  25.435,  23.385,  21.335,  19.285,\n",
       "        17.235,  15.185,  13.135,  11.085,   9.035,   6.985,   4.935,\n",
       "         2.885,   0.835,   0.   ,   0.   ])"
      ]
     },
     "execution_count": 28,
     "metadata": {},
     "output_type": "execute_result"
    }
   ],
   "source": [
    "hist.rover_fxns_power_short_t56p0.fxns.power.s.charge"
   ]
  },
  {
   "cell_type": "code",
   "execution_count": 29,
   "metadata": {
    "execution": {
     "iopub.execute_input": "2025-03-12T00:11:32.186759Z",
     "iopub.status.busy": "2025-03-12T00:11:32.186298Z",
     "iopub.status.idle": "2025-03-12T00:11:32.198492Z",
     "shell.execute_reply": "2025-03-12T00:11:32.196459Z"
    }
   },
   "outputs": [
    {
     "data": {
      "text/plain": [
       "array([100.   ,  99.99 ,  99.98 ,  99.8  ,  99.62 ,  99.44 ,  99.235,\n",
       "        99.03 ,  98.825,  98.62 ,  98.415,  98.21 ,  98.005,  97.8  ,\n",
       "        97.595,  97.39 ,  97.185,  96.98 ,  96.775,  96.57 ,  96.365,\n",
       "        96.16 ,  95.955,  95.75 ,  95.545,  95.34 ,  95.135,  94.93 ,\n",
       "        94.725,  94.52 ,  94.315,  94.11 ,  93.905,  93.7  ,  93.495,\n",
       "        93.29 ,  93.085,  92.88 ,  92.675,  92.47 ,  92.265,  92.06 ,\n",
       "        91.855,  91.65 ,  91.445,  91.24 ,  91.035,  90.83 ,  90.625,\n",
       "        90.42 ,  90.215,  90.01 ,  89.805,  89.6  ,  89.395,  89.19 ,\n",
       "        88.985,  86.935,  84.885,  82.835,  80.785,  78.735,  76.685,\n",
       "        74.635,  72.585,  70.535,  68.485,  66.435,  64.385,  62.335,\n",
       "        60.285,  58.235,  56.185,  54.135,  52.085,  50.035,  47.985,\n",
       "        45.935,  43.885,  41.835,  39.785,  37.735,  35.685,  33.635,\n",
       "        31.585,  29.535,  27.485,  25.435,  23.385,  21.335,  19.285,\n",
       "        17.235,  15.185,  13.135,  11.085,   9.035,   6.985,   4.935,\n",
       "         2.885,   0.835,   0.   ,   0.   ])"
      ]
     },
     "execution_count": 29,
     "metadata": {},
     "output_type": "execute_result"
    }
   ],
   "source": [
    "hist.rover_fxns_power_short_t56p0.fxns.power.s.charge"
   ]
  },
  {
   "cell_type": "code",
   "execution_count": 30,
   "metadata": {
    "execution": {
     "iopub.execute_input": "2025-03-12T00:11:32.203989Z",
     "iopub.status.busy": "2025-03-12T00:11:32.203504Z",
     "iopub.status.idle": "2025-03-12T00:11:32.215861Z",
     "shell.execute_reply": "2025-03-12T00:11:32.214008Z"
    }
   },
   "outputs": [
    {
     "data": {
      "text/plain": [
       "rover_fxns_power_no_               1e-05\n",
       "rover_fxns_power_no_                   0\n",
       "rover_fxns_power_no_                 1.0\n",
       "rover_fxns_power_no_                   0\n",
       "rover_fxns_power_no_                True\n",
       "rover_fxns_power_no_               False\n",
       "rover_fxns_power_no_                   1\n",
       "rover_fxns_power_no_                   1\n",
       "rover_fxns_power_no_   28.91724385770989\n",
       "rover_fxns_power_no_                 0.0\n",
       "rover_fxns_power_no_            array(1)\n",
       "rover_fxns_power_no_incomplete mission faulty\n",
       "rover_fxns_power_no_                 0.0\n",
       "rover_fxns_power_no_                 0.0\n",
       "rover_fxns_power_no_            array(2)\n",
       "rover_fxns_power_sho               1e-05\n",
       "rover_fxns_power_sho                   0\n",
       "rover_fxns_power_sho                 1.0\n",
       "rover_fxns_power_sho                   0\n",
       "rover_fxns_power_sho                True\n",
       "rover_fxns_power_sho               False\n",
       "rover_fxns_power_sho                   1\n",
       "rover_fxns_power_sho                   1\n",
       "rover_fxns_power_sho   3.258651134742933\n",
       "rover_fxns_power_sho 0.11859644458085593\n",
       "rover_fxns_power_sho            array(1)\n",
       "rover_fxns_power_shoincomplete mission faulty\n",
       "rover_fxns_power_sho     25.995783679666\n",
       "rover_fxns_power_sho  0.7019136572503932\n",
       "rover_fxns_power_sho            array(2)\n",
       "nominal.endclass.rate:               1.0\n",
       "nominal.endclass.cost:                 0\n",
       "nominal.endclass.prob:               1.0\n",
       "nominal.endclass.expected_cost:        0\n",
       "nominal.endclass.in_bound:          True\n",
       "nominal.endclass.at_finish:         True\n",
       "nominal.endclass.line_dist:            1\n",
       "nominal.endclass.num_modes:            0\n",
       "nominal.endclass.end_dist:           0.0\n",
       "nominal.endclass.tot_deviation: 0.11859644458085593\n",
       "nominal.endclass.faults:        array(0)\n",
       "nominal.endclass.classification: nominal mission\n",
       "nominal.endclass.end_x: 29.254775331608606\n",
       "nominal.endclass.end_y: -0.7827640334587913\n",
       "nominal.endclass.endpt:         array(2)"
      ]
     },
     "execution_count": 30,
     "metadata": {},
     "output_type": "execute_result"
    }
   ],
   "source": [
    "res"
   ]
  },
  {
   "cell_type": "markdown",
   "metadata": {},
   "source": [
    "These responses can be visualized over the given faults:"
   ]
  },
  {
   "cell_type": "code",
   "execution_count": 31,
   "metadata": {
    "execution": {
     "iopub.execute_input": "2025-03-12T00:11:32.221596Z",
     "iopub.status.busy": "2025-03-12T00:11:32.221108Z",
     "iopub.status.idle": "2025-03-12T00:11:32.249882Z",
     "shell.execute_reply": "2025-03-12T00:11:32.248424Z"
    }
   },
   "outputs": [
    {
     "data": {
      "text/html": [
       "<div>\n",
       "<style scoped>\n",
       "    .dataframe tbody tr th:only-of-type {\n",
       "        vertical-align: middle;\n",
       "    }\n",
       "\n",
       "    .dataframe tbody tr th {\n",
       "        vertical-align: top;\n",
       "    }\n",
       "\n",
       "    .dataframe thead th {\n",
       "        text-align: right;\n",
       "    }\n",
       "</style>\n",
       "<table border=\"1\" class=\"dataframe\">\n",
       "  <thead>\n",
       "    <tr style=\"text-align: right;\">\n",
       "      <th></th>\n",
       "      <th></th>\n",
       "      <th>average_scenario_rate</th>\n",
       "      <th>sum_cost</th>\n",
       "      <th>expected_cost</th>\n",
       "    </tr>\n",
       "  </thead>\n",
       "  <tbody>\n",
       "    <tr>\n",
       "      <th rowspan=\"2\" valign=\"top\">rover.fxns.power</th>\n",
       "      <th>no_charge</th>\n",
       "      <td>0.00001</td>\n",
       "      <td>0</td>\n",
       "      <td>0.0</td>\n",
       "    </tr>\n",
       "    <tr>\n",
       "      <th>short</th>\n",
       "      <td>0.00001</td>\n",
       "      <td>0</td>\n",
       "      <td>0.0</td>\n",
       "    </tr>\n",
       "  </tbody>\n",
       "</table>\n",
       "</div>"
      ],
      "text/plain": [
       "                            average_scenario_rate  sum_cost  expected_cost\n",
       "rover.fxns.power no_charge                0.00001         0            0.0\n",
       "                 short                    0.00001         0            0.0"
      ]
     },
     "execution_count": 31,
     "metadata": {},
     "output_type": "execute_result"
    }
   ],
   "source": [
    "fmea = FMEA(res, fs_pwr, metrics = [\"end_dist\", \"line_dist\", \"tot_deviation\"])\n",
    "fmea.as_table()"
   ]
  },
  {
   "cell_type": "code",
   "execution_count": 32,
   "metadata": {
    "execution": {
     "iopub.execute_input": "2025-03-12T00:11:32.257928Z",
     "iopub.status.busy": "2025-03-12T00:11:32.257406Z",
     "iopub.status.idle": "2025-03-12T00:11:32.919077Z",
     "shell.execute_reply": "2025-03-12T00:11:32.917138Z"
    }
   },
   "outputs": [
    {
     "data": {
      "text/plain": [
       "(<Figure size 600x400 with 4 Axes>,\n",
       " array([<Axes: title={'center': 'average_scenario_rate'}>,\n",
       "        <Axes: title={'center': 'sum_cost'}, xlabel=\"['function', 'fault']\">,\n",
       "        <Axes: title={'center': 'expected_cost'}, xlabel=\"['function', 'fault']\">,\n",
       "        <Axes: >], dtype=object))"
      ]
     },
     "execution_count": 32,
     "metadata": {},
     "output_type": "execute_result"
    },
    {
     "data": {
      "image/png": "[encoded data removed]",
      "text/plain": [
       "<Figure size 600x400 with 4 Axes>"
      ]
     },
     "metadata": {},
     "output_type": "display_data"
    }
   ],
   "source": [
    "fmea.as_plots(cols=2)"
   ]
  },
  {
   "cell_type": "markdown",
   "metadata": {},
   "source": [
    "Or over time/any other variable:"
   ]
  },
  {
   "cell_type": "code",
   "execution_count": 33,
   "metadata": {
    "execution": {
     "iopub.execute_input": "2025-03-12T00:11:32.925761Z",
     "iopub.status.busy": "2025-03-12T00:11:32.925226Z",
     "iopub.status.idle": "2025-03-12T00:11:32.949192Z",
     "shell.execute_reply": "2025-03-12T00:11:32.947744Z"
    }
   },
   "outputs": [
    {
     "data": {
      "text/html": [
       "<div>\n",
       "<style scoped>\n",
       "    .dataframe tbody tr th:only-of-type {\n",
       "        vertical-align: middle;\n",
       "    }\n",
       "\n",
       "    .dataframe tbody tr th {\n",
       "        vertical-align: top;\n",
       "    }\n",
       "\n",
       "    .dataframe thead th {\n",
       "        text-align: right;\n",
       "    }\n",
       "</style>\n",
       "<table border=\"1\" class=\"dataframe\">\n",
       "  <thead>\n",
       "    <tr style=\"text-align: right;\">\n",
       "      <th></th>\n",
       "      <th>end_dist</th>\n",
       "      <th>line_dist</th>\n",
       "      <th>tot_deviation</th>\n",
       "    </tr>\n",
       "  </thead>\n",
       "  <tbody>\n",
       "    <tr>\n",
       "      <th>56.0</th>\n",
       "      <td>3.258651</td>\n",
       "      <td>1.0</td>\n",
       "      <td>0.118596</td>\n",
       "    </tr>\n",
       "    <tr>\n",
       "      <th>0.0</th>\n",
       "      <td>28.917244</td>\n",
       "      <td>1.0</td>\n",
       "      <td>0.000000</td>\n",
       "    </tr>\n",
       "  </tbody>\n",
       "</table>\n",
       "</div>"
      ],
      "text/plain": [
       "       end_dist  line_dist  tot_deviation\n",
       "56.0   3.258651        1.0       0.118596\n",
       "0.0   28.917244        1.0       0.000000"
      ]
     },
     "execution_count": 33,
     "metadata": {},
     "output_type": "execute_result"
    }
   ],
   "source": [
    "comp = Comparison(res, fs_pwr, metrics = [\"end_dist\", \"line_dist\", \"tot_deviation\"], factors =['time'])\n",
    "comp.as_table()"
   ]
  },
  {
   "cell_type": "code",
   "execution_count": 34,
   "metadata": {
    "execution": {
     "iopub.execute_input": "2025-03-12T00:11:32.955455Z",
     "iopub.status.busy": "2025-03-12T00:11:32.955034Z",
     "iopub.status.idle": "2025-03-12T00:11:33.548103Z",
     "shell.execute_reply": "2025-03-12T00:11:33.546425Z"
    }
   },
   "outputs": [
    {
     "data": {
      "text/plain": [
       "(<Figure size 600x400 with 4 Axes>,\n",
       " array([<Axes: title={'center': 'end_dist'}>,\n",
       "        <Axes: title={'center': 'line_dist'}, xlabel='time'>,\n",
       "        <Axes: title={'center': 'tot_deviation'}, xlabel='time'>, <Axes: >],\n",
       "       dtype=object))"
      ]
     },
     "execution_count": 34,
     "metadata": {},
     "output_type": "execute_result"
    },
    {
     "data": {
      "image/png": "[encoded data removed]",
      "text/plain": [
       "<Figure size 600x400 with 4 Axes>"
      ]
     },
     "metadata": {},
     "output_type": "display_data"
    }
   ],
   "source": [
    "comp.as_plots(cols=2)"
   ]
  },
  {
   "cell_type": "code",
   "execution_count": null,
   "metadata": {},
   "outputs": [],
   "source": []
  },
  {
   "cell_type": "code",
   "execution_count": null,
   "metadata": {},
   "outputs": [],
   "source": []
  },
  {
   "cell_type": "code",
   "execution_count": null,
   "metadata": {},
   "outputs": [],
   "source": []
  }
 ],
 "metadata": {
  "kernelspec": {
   "display_name": "fmdtools",
   "language": "python",
   "name": "python3"
  },
  "language_info": {
   "codemirror_mode": {
    "name": "ipython",
    "version": 3
   },
   "file_extension": ".py",
   "mimetype": "text/x-python",
   "name": "python",
   "nbconvert_exporter": "python",
   "pygments_lexer": "ipython3",
   "version": "3.11.11"
  }
 },
 "nbformat": 4,
 "nbformat_minor": 4
}
