{
 "cells": [
  {
   "cell_type": "markdown",
   "metadata": {},
   "source": [
    "# Defining Fault Sampling Approaches in fmdtools\n",
    "\n",
    "Fault Sampling is used to evaluate the overall resilience of a system to a set of faults and the corresponding risks associated with these faults. There is no single best way to define the set of scenarios to evaluate resilience with, because a given resilience analysis may need more or less detail, support more or less computational time, or be interested in specific scenario types of interest.\n",
    "\n",
    "Thus, there are a number of use-cases supported by fmdtools for different sampling models. This document will demonstrate and showcase a few of them."
   ]
  },
  {
   "cell_type": "code",
   "execution_count": 1,
   "metadata": {},
   "outputs": [],
   "source": [
    "import sys\n",
    "# for use in development - makes sure git version is used instead of pip-installed version\n",
    "paths = sys.path\n",
    "if paths[1]!='../':\n",
    "    sys.path=[sys.path[0]] + ['../'] + paths\n",
    "\n",
    "from fmdtools.modeldef import *\n",
    "import fmdtools.resultdisp as rd\n",
    "import fmdtools.faultsim.propagate as prop\n"
   ]
  },
  {
   "cell_type": "markdown",
   "metadata": {},
   "source": [
    "### Basics\n",
    "\n",
    "Fault sampling involves:\n",
    "- Defining faults and fault models within each function/component of the model (using the `.assoc_modes()` method)\n",
    "- Defining a fault sampling approach (using the `SampleApproach` class)\n",
    "- Propagating faults through the model (using the `propagate.approach` method)\n",
    "Before proceeding, it can be helpful to look through their respective documentation."
   ]
  },
  {
   "cell_type": "code",
   "execution_count": 2,
   "metadata": {},
   "outputs": [
    {
     "name": "stdout",
     "output_type": "stream",
     "text": [
      "Help on function assoc_modes in module fmdtools.modeldef:\n",
      "\n",
      "assoc_modes(self, faultmodes={}, opermodes=[], initmode='nom', name='', probtype='rate', units='hr', exclusive=False, key_phases_by='none')\n",
      "    Associates fault and operational modes with the block when called in the function or component.\n",
      "    \n",
      "    Parameters\n",
      "    ----------\n",
      "    faultmodes : dict, optional\n",
      "        Dictionary/Set of faultmodes with structure, which can have the forms:\n",
      "            - set {'fault1', 'fault2', 'fault3'} (just the respective faults)\n",
      "            - dict {'fault1': faultattributes, 'fault2': faultattributes}, where faultattributes is:\n",
      "                - float: rate for the mode\n",
      "                - [float, float]: rate and repair cost for the mode\n",
      "                - float, oppvect, float]: rate, opportunity vector, and repair cost for the mode\n",
      "                opportunity vector can be specified as:\n",
      "                    [float1, float2,...], a vector of relative likelihoods for each phase, or\n",
      "                    {opermode:float1, opermode:float1}, a dict of relative likelihoods for each phase/mode\n",
      "                    the phases/modes to key by are defined in \"key_phases_by\"\n",
      "    opermodes : list, optional\n",
      "        List of operational modes\n",
      "    initmode : str, optional\n",
      "        Initial operational mode. Default is 'nom'\n",
      "    name : str, optional\n",
      "        (for components only) Name of the component. The default is ''.\n",
      "    probtype : str, optional\n",
      "        Type of probability in the probability model, a per-time 'rate' or per-run 'prob'. \n",
      "        The default is 'rate'\n",
      "    units : str, optional\n",
      "        Type of units ('sec'/'min'/'hr'/'day') used for the rates. Default is 'hr' \n",
      "    exclusive : True/False\n",
      "        Whether fault modes are exclusive of each other or not. Default is False (i.e. more than one can be present). \n",
      "    key_phases_by : 'self'/'none'/'global'/'fxnname'\n",
      "        Phases to key the faultmodes by (using local, global, or an external function's modes'). Default is 'none'\n",
      "\n"
     ]
    }
   ],
   "source": [
    "help(FxnBlock.assoc_modes)"
   ]
  },
  {
   "cell_type": "code",
   "execution_count": 3,
   "metadata": {},
   "outputs": [
    {
     "name": "stdout",
     "output_type": "stream",
     "text": [
      "Help on class SampleApproach in module fmdtools.modeldef:\n",
      "\n",
      "class SampleApproach(builtins.object)\n",
      " |  SampleApproach(mdl, faults='all', phases='global', modephases={}, jointfaults={'faults': 'None'}, sampparams={}, defaultsamp={'samp': 'evenspacing', 'numpts': 1})\n",
      " |  \n",
      " |  Class for defining the sample approach to be used for a set of faults.\n",
      " |  \n",
      " |  Attributes\n",
      " |  ----------\n",
      " |  phases : dict\n",
      " |      phases defined in the model\n",
      " |  tstep : float\n",
      " |      timestep defined in the model\n",
      " |  fxnrates : dict\n",
      " |      overall failure rates for each function\n",
      " |  comprates : dict\n",
      " |      overall failure rates for each component\n",
      " |  jointmodes : list\n",
      " |      (if any) joint fault modes to be injected in the approach\n",
      " |  rates : dict\n",
      " |      rates of each mode (fxn, mode) in each model phase, structured {fxnmode: {(phasetype, phase):rate}}\n",
      " |  sampletimes : dict\n",
      " |      faults to inject at each time in each phase, structured {(phasetype, phase):time:fnxmode}\n",
      " |  weights : dict\n",
      " |      weight to put on each time each fault was injected, structured {fxnmode:(phasetype, phase):time:weight}\n",
      " |  sampparams : dict\n",
      " |      parameters used to sample each mode\n",
      " |  scenlist : list\n",
      " |      list of fault scenarios (dicts of faults and properties) that fault propagation iterates through\n",
      " |  scenids : dict\n",
      " |      a list of scenario ids associated with a given fault in a given phase, structured {(fxnmode,(phasetype, phase)):listofnames}\n",
      " |  mode_phase_map : dict\n",
      " |      a dict of modes and their respective phases to inject with structure {fxnmode:{mode_phase_map:[starttime, endtime]}}\n",
      " |  \n",
      " |  Methods defined here:\n",
      " |  \n",
      " |  __init__(self, mdl, faults='all', phases='global', modephases={}, jointfaults={'faults': 'None'}, sampparams={}, defaultsamp={'samp': 'evenspacing', 'numpts': 1})\n",
      " |      Initializes the sample approach for a given model\n",
      " |      \n",
      " |      Parameters\n",
      " |      ----------\n",
      " |      mdl : Model\n",
      " |          Model to sample.\n",
      " |      faults : str (all/single-component) or list, optional\n",
      " |          List of faults (tuple (fxn, mode)) to inject in the model. The default is 'all'. 'single-components' uses faults from a single component to represent faults form all components\n",
      " |      phases: dict or 'global'\n",
      " |          Local phases in the model to sample. Has structure:\n",
      " |              {'Function':{'phase':[starttime, endtime]}}\n",
      " |          Defaults to 'global',here only the phases defined in mdl.phases are used.\n",
      " |          Phases and modephases can be gotten from process.modephases(mdlhist)\n",
      " |      modephases: dict\n",
      " |          Dictionary of modes associated with each phase. \n",
      " |          For use when the opportunity vector is keyed to modes and each mode is \n",
      " |          entered multiple times in a simulation, resulting in \n",
      " |          multiple phases associated with that mode. Has structure:\n",
      " |              {'Function':{'mode':{'phase','phase1', 'phase2'...}}}\n",
      " |              Phases and modephases can be gotten from process.modephases(mdlhist)\n",
      " |      jointfaults : dict, optional\n",
      " |          Defines how the approach considers joint faults. The default is {'faults':'None'}. Has structure:\n",
      " |              - faults : float    \n",
      " |                  # of joint faults to inject\n",
      " |              - jointfuncs :  bool \n",
      " |                  determines whether more than one mode can be injected in a single function\n",
      " |              - pcond (optional) : float in range (0,1) \n",
      " |                  conditional probabilities for joint faults. If not give, independence is assumed.\n",
      " |      sampparams : dict, optional\n",
      " |          Defines how specific modes in the model will be sampled over time. The default is {}. \n",
      " |          Has structure: {(fxnmode,phase): sampparam}, where sampparam has structure:\n",
      " |              - 'samp' : str ('quad', 'fullint', 'evenspacing','randtimes','symrandtimes')\n",
      " |                  sample strategy to use (quadrature, full integral, even spacing, random times, likeliest, or symmetric random times)\n",
      " |              - 'numpts' : float\n",
      " |                  number of points to use (for evenspacing, randtimes, and symrandtimes only)\n",
      " |              - 'quad' : quadpy quadrature\n",
      " |                  quadrature object if the quadrature option is selected.\n",
      " |      defaultsamp : TYPE, optional\n",
      " |          Defines how the model will be sampled over time by default. The default is {'samp':'evenspacing','numpts':1}. Has structure:\n",
      " |              - 'samp' : str ('quad', 'fullint', 'evenspacing','randtimes','symrandtimes')\n",
      " |                  sample strategy to use (quadrature, full integral, even spacing, random times,likeliest, or symmetric random times)\n",
      " |              - 'numpts' : float\n",
      " |                  number of points to use (for evenspacing, randtimes, and symrandtimes only)\n",
      " |              - 'quad' : quadpy quadrature\n",
      " |                  quadrature object if the quadrature option is selected.\n",
      " |  \n",
      " |  add_phasetimes(self, fxnmode, phasetype, phase, phasetimes, weights=[])\n",
      " |      Adds a set of times for a given mode to sampletimes\n",
      " |  \n",
      " |  create_nomscen(self, mdl)\n",
      " |      Creates a nominal scenario\n",
      " |  \n",
      " |  create_sampletimes(self, mdl, params={}, default={'samp': 'evenspacing', 'numpts': 1})\n",
      " |      Initializes weights and sampletimes\n",
      " |  \n",
      " |  create_scenarios(self)\n",
      " |      Creates list of scenarios to be iterated over in fault injection. Added as scenlist and scenids\n",
      " |  \n",
      " |  init_modelist(self, mdl, faults, jointfaults={'faults': 'None'})\n",
      " |      Initializes comprates, jointmodes internal list of modes\n",
      " |  \n",
      " |  init_rates(self, mdl, jointfaults={'faults': 'None'}, modephases={})\n",
      " |      Initializes rates, rates_timeless\n",
      " |  \n",
      " |  list_moderates(self)\n",
      " |      Returns the rates for each mode\n",
      " |  \n",
      " |  list_modes(self, joint=False)\n",
      " |      Returns a list of modes in the approach\n",
      " |  \n",
      " |  prune_scenarios(self, endclasses, samptype='piecewise', threshold=0.1, sampparam={'samp': 'evenspacing', 'numpts': 1})\n",
      " |      Finds the best sample approach to approximate the full integral (given the approach was the full integral).\n",
      " |      \n",
      " |      Parameters\n",
      " |      ----------\n",
      " |      endclasses : dict\n",
      " |          dict of results (cost, rate, expected cost) for the model run indexed by scenid \n",
      " |      samptype : str ('piecewise' or 'bestpt'), optional\n",
      " |          Method to use. \n",
      " |          If 'bestpt', finds the point in the interval that gives the average cost. \n",
      " |          If 'piecewise', attempts to split the inverval into sub-intervals of continuity\n",
      " |          The default is 'piecewise'.\n",
      " |      threshold : float, optional\n",
      " |          If 'piecewise,' the threshold for detecting a discontinuity based on deviation from linearity. The default is 0.1.\n",
      " |      sampparam : float, optional\n",
      " |          If 'piecewise,' the sampparam sampparam to prune to. The default is {'samp':'evenspacing','numpts':1}, which would be a single point (optimal for linear).\n",
      " |  \n",
      " |  select_points(self, param, possible_pts)\n",
      " |      Selects points in the list possible_points according to a given sample strategy.\n",
      " |      \n",
      " |      Parameters\n",
      " |      ----------\n",
      " |      param : dict\n",
      " |          Sample parameter. Has structure:\n",
      " |              - 'samp' : str ('quad', 'fullint', 'evenspacing','randtimes','symrandtimes')\n",
      " |                  sample strategy to use (quadrature, full integral, even spacing, random times, or symmetric random times)\n",
      " |              - 'numpts' : float\n",
      " |                  number of points to use (for evenspacing, randtimes, and symrandtimes only)\n",
      " |              - 'quad' : quadpy quadrature\n",
      " |                  quadrature object if the quadrature option is selected.\n",
      " |      possible_pts : \n",
      " |          list of possible points in time.\n",
      " |      \n",
      " |      Returns\n",
      " |      -------\n",
      " |      pts : list\n",
      " |          selected points\n",
      " |      weights : list\n",
      " |          weights for each point\n",
      " |  \n",
      " |  ----------------------------------------------------------------------\n",
      " |  Data descriptors defined here:\n",
      " |  \n",
      " |  __dict__\n",
      " |      dictionary for instance variables (if defined)\n",
      " |  \n",
      " |  __weakref__\n",
      " |      list of weak references to the object (if defined)\n",
      "\n"
     ]
    }
   ],
   "source": [
    "help(SampleApproach)"
   ]
  },
  {
   "cell_type": "code",
   "execution_count": 5,
   "metadata": {},
   "outputs": [
    {
     "name": "stdout",
     "output_type": "stream",
     "text": [
      "Help on function approach in module fmdtools.faultsim.propagate:\n",
      "\n",
      "approach(mdl, app, staged=False, track='all', pool=False, showprogress=True)\n",
      "    Injects and propagates faults in the model defined by a given sample approach\n",
      "    \n",
      "    Parameters\n",
      "    ----------\n",
      "    mdl : model\n",
      "        The model to inject faults in.\n",
      "    app : sampleapproach\n",
      "        SampleApproach used to define the list of faults and sample time for the model.\n",
      "    staged : bool, optional\n",
      "        Whether to inject the fault in a copy of the nominal model at the fault time (True) or instantiate a new model for the fault (False). Setting to True roughly halves execution time. The default is False.\n",
      "    track : str ('all', 'functions', 'flows', 'valparams', dict, 'none'), optional\n",
      "        Which model states to track over time, which can be given as 'functions', 'flows', \n",
      "        'all', 'none', 'valparams' (model states specified in mdl.valparams),\n",
      "        or a dict of form {'functions':{'fxn1':'att1'}, 'flows':{'flow1':'att1'}}\n",
      "        The default is 'all'.\n",
      "    pool : process pool, optional\n",
      "        Process Pool Object from multiprocessing or pathos packages. Pathos is recommended.\n",
      "        e.g. parallelpool = mp.pool(n) for n cores (multiprocessing)\n",
      "        or parallelpool = ProcessPool(nodes=n) for n cores (pathos)\n",
      "        If False, the set of scenarios is run serially. The default is False\n",
      "    showprogress: bool, optional\n",
      "        whether to show a progress bar during execution. default is true\n",
      "    \n",
      "    Returns\n",
      "    -------\n",
      "    endclasses : dict\n",
      "        A dictionary with the rate, cost, and expected cost of each scenario run with structure {scenname:{expected cost, cost, rate}}\n",
      "    mdlhists : dict\n",
      "        A dictionary with the history of all model states for each scenario (including the nominal)\n",
      "\n"
     ]
    }
   ],
   "source": [
    "help(prop.approach)"
   ]
  },
  {
   "cell_type": "markdown",
   "metadata": {},
   "source": [
    "### Model Setup\n",
    "\n",
    "Consider the following (highly simplified) rover electrical/navigation model. We can define the functions of this rover using the classes:"
   ]
  },
  {
   "cell_type": "code",
   "execution_count": 7,
   "metadata": {},
   "outputs": [],
   "source": [
    "class Move_Rover(FxnBlock):\n",
    "    def __init__(self,name, flows):\n",
    "        super().__init__(name, flows, flownames={\"EE\":\"EE_in\"})\n",
    "        self.assoc_modes({\"mech_loss\", \"elec_open\"})\n",
    "    def behavior(self, time):\n",
    "        if self.time < time:\n",
    "            power = self.EE_in.v_supply * self.Control.vel *self.no_fault(\"elec_open\")\n",
    "            self.EE_in.a_supply = power/12\n",
    "            if power >100: self.add_fault(\"elec_open\")\n",
    "            else:          self.Ground.x = self.Ground.x + power*self.no_fault(\"mech_loss\")"
   ]
  },
  {
   "cell_type": "markdown",
   "metadata": {},
   "source": [
    "This use of `assoc_modes` specifies that there are two modes to inject, \"mech_loss\", and \"elec_open\", with no more information given for each mode. This is a syntax one might use as one is constructing the model and wishing to verify behaviors, or where modes are only caused behaviorally due to external scenarios. (in this case an open circuit is caused by too much power supply)"
   ]
  },
  {
   "cell_type": "code",
   "execution_count": null,
   "metadata": {},
   "outputs": [],
   "source": [
    "class Control_Rover(FxnBlock):\n",
    "    def __init__(self,name, flows):\n",
    "        super().__init__(name, flows)\n",
    "        self.assoc_modes({'no_con':[1e-4, 200]}, ['drive','standby'], initmode='standby')\n",
    "    def behavior(self,time):\n",
    "        if not self.in_mode('no_con'):\n",
    "            if time == 5: self.set_mode('drive')\n",
    "            if time == 50: self.set_mode('standby')\n",
    "        if time>self.time:\n",
    "            if self.in_mode('drive'):\n",
    "                self.Control.power = 1\n",
    "                self.Control.vel = 1\n",
    "            elif self.in_mode('standby'):\n",
    "                self.Control.vel = 0\n",
    "                self.Control.power=0"
   ]
  },
  {
   "cell_type": "markdown",
   "metadata": {},
   "source": [
    "This use of `assoc_modes` specifies modes (`no_con`) with a rate (1e-4) and a repair cost (200), as well as a set of operational modes that the system proceeds through. Specifying operational modes enables one to define different *behaviors* for the system depending on the configuration of the system at a given time. For example, in this function, the system goes into a drive mode at t=5, which powers on the system and outputs a command to move forward. \n",
    "\n",
    "When operational modes are specified in the model, an initial mode must also be specified--in this case `initmode='standby'` specifies that the function starts in the standby mode."
   ]
  },
  {
   "cell_type": "code",
   "execution_count": 6,
   "metadata": {},
   "outputs": [],
   "source": [
    "class Store_Energy(FxnBlock):\n",
    "    def __init__(self, name, flows):\n",
    "        super().__init__(name,flows, states={\"charge\": 100})\n",
    "        self.assoc_modes({\"no_charge\":[1e-5, {'standby':1.0}, 100],\"short\":[1e-5, {'supply':1.0}, 100],}, [\"supply\",\"charge\",\"standby\"], initmode=\"standby\", exclusive = True, key_phases_by='self')\n",
    "    def behavior(self,time):\n",
    "        if time > self.time:\n",
    "            if self.in_mode(\"standby\"):     \n",
    "                self.EE.v_supply = 0; self.EE.a_supply = 0\n",
    "                if self.Control.power==1: self.set_mode(\"supply\")\n",
    "            elif self.in_mode(\"charge\"):    \n",
    "                self.EE.charge =min(self.EE.charge+self.tstep, 20)\n",
    "            elif self.in_mode(\"supply\"):\n",
    "                if self.charge > 0:         self.EE.v_supply = 12; self.charge -= self.tstep\n",
    "                else: self.set_mode(\"no_charge\")\n",
    "                if self.Control.power==0: self.set_mode(\"standby\")\n",
    "            elif self.in_mode(\"short\"):     self.EE.v_supply = 100; self.charge = 0\n",
    "            elif self.in_mode(\"no_charge\"): self.EE.v_supply=0"
   ]
  },
  {
   "cell_type": "markdown",
   "metadata": {},
   "source": [
    "In addition to operational modes, the Battery Function additionally specifies an *opportunity vector* which defines when each fault mode is likely to occur (and thus be injected in the model). In this case, `no_charge` can only occur during standby mode, while a `short` can only occur during the supply mode. The  `key_phases_by='self'` option specifies that these phases are *internal* to the function. Opporunity vectors can also be keyed to phases in other functions using `key_phases_by='fxnname'` and `key_phases_by='global'`. There are several ways to define this opportunity vector, which will be described later.\n",
    "\n",
    "This model also uses the `exclusive` option, which specifies that fault modes cannot co-occur with operational modes. That is, instead of *modifying* individual mode behaviors, fault modes in this function instead cause the system to enter a new mode with different defined mode behaviors. \n"
   ]
  },
  {
   "cell_type": "code",
   "execution_count": 8,
   "metadata": {},
   "outputs": [],
   "source": [
    "class Rover(Model):\n",
    "    def __init__(self, params={},\\\n",
    "                 modelparams={'times':[0,60], 'tstep':1, 'phases': {'firsthalf':[0,30], 'secondhalf':[31,60]}},\\\n",
    "                 valparams={}):\n",
    "        super().__init__(params, modelparams, valparams)\n",
    "        \n",
    "        self.add_flow('Ground', {'x':0,'y':0, 'dir':0, 'vel':0})\n",
    "        self.add_flow('EE', {'v_supply':0, 'a_supply':0})\n",
    "        self.add_flow('Control', {'dir':0, 'vel':0, 'power':0})\n",
    "        \n",
    "        self.add_fxn(\"Control_Rover\",[\"EE\", \"Control\"], fclass=Control_Rover)\n",
    "        self.add_fxn(\"Move_Rover\", [\"Ground\",\"EE\", \"Control\"], fclass = Move_Rover)\n",
    "        self.add_fxn(\"Store_Energy\", [\"EE\", \"Control\"], Store_Energy)\n",
    "        \n",
    "        self.construct_graph()"
   ]
  },
  {
   "cell_type": "markdown",
   "metadata": {},
   "source": [
    "`\"global\"` phases in the model are defined using the 'phases' string in model parameters. Phases define distinct periods or activities of operation when the model may be in a different state (resulting in different potential failure mode effects and opportunities for failure modes to be entered)."
   ]
  },
  {
   "cell_type": "markdown",
   "metadata": {},
   "source": [
    "### Setting up an approach\n",
    "\n",
    "Because this model has an opportunity vector which is keyed by its operational modes, the history of modes needs to be generated for the model to set up the sample approach--otherwise this information cannot be used, as shown below:"
   ]
  },
  {
   "cell_type": "code",
   "execution_count": 10,
   "metadata": {},
   "outputs": [
    {
     "ename": "KeyError",
     "evalue": "'Store_Energy'",
     "output_type": "error",
     "traceback": [
      "\u001b[1;31m---------------------------------------------------------------------------\u001b[0m",
      "\u001b[1;31mKeyError\u001b[0m                                  Traceback (most recent call last)",
      "\u001b[1;32m<ipython-input-10-3f0d066d097f>\u001b[0m in \u001b[0;36m<module>\u001b[1;34m\u001b[0m\n\u001b[0;32m      1\u001b[0m \u001b[0mmdl\u001b[0m \u001b[1;33m=\u001b[0m \u001b[0mRover\u001b[0m\u001b[1;33m(\u001b[0m\u001b[1;33m)\u001b[0m\u001b[1;33m\u001b[0m\u001b[1;33m\u001b[0m\u001b[0m\n\u001b[1;32m----> 2\u001b[1;33m \u001b[0mapp\u001b[0m \u001b[1;33m=\u001b[0m \u001b[0mSampleApproach\u001b[0m\u001b[1;33m(\u001b[0m\u001b[0mmdl\u001b[0m\u001b[1;33m)\u001b[0m\u001b[1;33m\u001b[0m\u001b[1;33m\u001b[0m\u001b[0m\n\u001b[0m",
      "\u001b[1;32m~\\Documents\\GitHub\\fmdtools_NASA\\fmdtools\\modeldef.py\u001b[0m in \u001b[0;36m__init__\u001b[1;34m(self, mdl, faults, phases, modephases, jointfaults, sampparams, defaultsamp)\u001b[0m\n\u001b[0;32m    811\u001b[0m         \u001b[0mself\u001b[0m\u001b[1;33m.\u001b[0m\u001b[0munits\u001b[0m \u001b[1;33m=\u001b[0m \u001b[0mmdl\u001b[0m\u001b[1;33m.\u001b[0m\u001b[0munits\u001b[0m\u001b[1;33m\u001b[0m\u001b[1;33m\u001b[0m\u001b[0m\n\u001b[0;32m    812\u001b[0m         \u001b[0mself\u001b[0m\u001b[1;33m.\u001b[0m\u001b[0minit_modelist\u001b[0m\u001b[1;33m(\u001b[0m\u001b[0mmdl\u001b[0m\u001b[1;33m,\u001b[0m\u001b[0mfaults\u001b[0m\u001b[1;33m,\u001b[0m \u001b[0mjointfaults\u001b[0m\u001b[1;33m)\u001b[0m\u001b[1;33m\u001b[0m\u001b[1;33m\u001b[0m\u001b[0m\n\u001b[1;32m--> 813\u001b[1;33m         \u001b[0mself\u001b[0m\u001b[1;33m.\u001b[0m\u001b[0minit_rates\u001b[0m\u001b[1;33m(\u001b[0m\u001b[0mmdl\u001b[0m\u001b[1;33m,\u001b[0m \u001b[0mjointfaults\u001b[0m\u001b[1;33m=\u001b[0m\u001b[0mjointfaults\u001b[0m\u001b[1;33m,\u001b[0m \u001b[0mmodephases\u001b[0m\u001b[1;33m=\u001b[0m\u001b[0mmodephases\u001b[0m\u001b[1;33m)\u001b[0m\u001b[1;33m\u001b[0m\u001b[1;33m\u001b[0m\u001b[0m\n\u001b[0m\u001b[0;32m    814\u001b[0m         \u001b[0mself\u001b[0m\u001b[1;33m.\u001b[0m\u001b[0mcreate_sampletimes\u001b[0m\u001b[1;33m(\u001b[0m\u001b[0mmdl\u001b[0m\u001b[1;33m,\u001b[0m \u001b[0msampparams\u001b[0m\u001b[1;33m,\u001b[0m \u001b[0mdefaultsamp\u001b[0m\u001b[1;33m)\u001b[0m\u001b[1;33m\u001b[0m\u001b[1;33m\u001b[0m\u001b[0m\n\u001b[0;32m    815\u001b[0m         \u001b[0mself\u001b[0m\u001b[1;33m.\u001b[0m\u001b[0mcreate_scenarios\u001b[0m\u001b[1;33m(\u001b[0m\u001b[1;33m)\u001b[0m\u001b[1;33m\u001b[0m\u001b[1;33m\u001b[0m\u001b[0m\n",
      "\u001b[1;32m~\\Documents\\GitHub\\fmdtools_NASA\\fmdtools\\modeldef.py\u001b[0m in \u001b[0;36minit_rates\u001b[1;34m(self, mdl, jointfaults, modephases)\u001b[0m\n\u001b[0;32m    864\u001b[0m             \u001b[1;32mif\u001b[0m \u001b[0mkey_phases\u001b[0m\u001b[1;33m==\u001b[0m\u001b[1;34m'global'\u001b[0m\u001b[1;33m:\u001b[0m \u001b[0mfxnphases\u001b[0m \u001b[1;33m=\u001b[0m \u001b[0mself\u001b[0m\u001b[1;33m.\u001b[0m\u001b[0mglobalphases\u001b[0m\u001b[1;33m\u001b[0m\u001b[1;33m\u001b[0m\u001b[0m\n\u001b[0;32m    865\u001b[0m             \u001b[1;32melif\u001b[0m \u001b[0mkey_phases\u001b[0m\u001b[1;33m==\u001b[0m\u001b[1;34m'none'\u001b[0m\u001b[1;33m:\u001b[0m \u001b[0mfxnphases\u001b[0m \u001b[1;33m=\u001b[0m \u001b[1;33m{\u001b[0m\u001b[1;34m'operating'\u001b[0m\u001b[1;33m:\u001b[0m\u001b[1;33m[\u001b[0m\u001b[0mmdl\u001b[0m\u001b[1;33m.\u001b[0m\u001b[0mtimes\u001b[0m\u001b[1;33m[\u001b[0m\u001b[1;36m0\u001b[0m\u001b[1;33m]\u001b[0m\u001b[1;33m,\u001b[0m \u001b[0mmdl\u001b[0m\u001b[1;33m.\u001b[0m\u001b[0mtimes\u001b[0m\u001b[1;33m[\u001b[0m\u001b[1;33m-\u001b[0m\u001b[1;36m1\u001b[0m\u001b[1;33m]\u001b[0m\u001b[1;33m]\u001b[0m\u001b[1;33m}\u001b[0m\u001b[1;33m\u001b[0m\u001b[1;33m\u001b[0m\u001b[0m\n\u001b[1;32m--> 866\u001b[1;33m             \u001b[1;32melse\u001b[0m\u001b[1;33m:\u001b[0m \u001b[0mfxnphases\u001b[0m \u001b[1;33m=\u001b[0m \u001b[0mself\u001b[0m\u001b[1;33m.\u001b[0m\u001b[0mphases\u001b[0m\u001b[1;33m[\u001b[0m\u001b[0mkey_phases\u001b[0m\u001b[1;33m]\u001b[0m\u001b[1;33m\u001b[0m\u001b[1;33m\u001b[0m\u001b[0m\n\u001b[0m\u001b[0;32m    867\u001b[0m             \u001b[0mfxnphases\u001b[0m \u001b[1;33m=\u001b[0m \u001b[0mdict\u001b[0m\u001b[1;33m(\u001b[0m\u001b[0msorted\u001b[0m\u001b[1;33m(\u001b[0m\u001b[0mfxnphases\u001b[0m\u001b[1;33m.\u001b[0m\u001b[0mitems\u001b[0m\u001b[1;33m(\u001b[0m\u001b[1;33m)\u001b[0m\u001b[1;33m,\u001b[0m \u001b[0mkey\u001b[0m \u001b[1;33m=\u001b[0m \u001b[1;32mlambda\u001b[0m \u001b[0mitem\u001b[0m\u001b[1;33m:\u001b[0m \u001b[0mitem\u001b[0m\u001b[1;33m[\u001b[0m\u001b[1;36m1\u001b[0m\u001b[1;33m]\u001b[0m\u001b[1;33m[\u001b[0m\u001b[1;36m0\u001b[0m\u001b[1;33m]\u001b[0m\u001b[1;33m)\u001b[0m\u001b[1;33m)\u001b[0m\u001b[1;33m\u001b[0m\u001b[1;33m\u001b[0m\u001b[0m\n\u001b[0;32m    868\u001b[0m             \u001b[0mself\u001b[0m\u001b[1;33m.\u001b[0m\u001b[0mrates\u001b[0m\u001b[1;33m[\u001b[0m\u001b[0mfxnname\u001b[0m\u001b[1;33m,\u001b[0m \u001b[0mmode\u001b[0m\u001b[1;33m]\u001b[0m\u001b[1;33m=\u001b[0m\u001b[0mdict\u001b[0m\u001b[1;33m(\u001b[0m\u001b[1;33m)\u001b[0m\u001b[1;33m;\u001b[0m \u001b[0mself\u001b[0m\u001b[1;33m.\u001b[0m\u001b[0mrates_timeless\u001b[0m\u001b[1;33m[\u001b[0m\u001b[0mfxnname\u001b[0m\u001b[1;33m,\u001b[0m \u001b[0mmode\u001b[0m\u001b[1;33m]\u001b[0m\u001b[1;33m=\u001b[0m\u001b[0mdict\u001b[0m\u001b[1;33m(\u001b[0m\u001b[1;33m)\u001b[0m\u001b[1;33m;\u001b[0m \u001b[0mself\u001b[0m\u001b[1;33m.\u001b[0m\u001b[0mmode_phase_map\u001b[0m\u001b[1;33m[\u001b[0m\u001b[0mfxnname\u001b[0m\u001b[1;33m,\u001b[0m \u001b[0mmode\u001b[0m\u001b[1;33m]\u001b[0m \u001b[1;33m=\u001b[0m \u001b[0mdict\u001b[0m\u001b[1;33m(\u001b[0m\u001b[1;33m)\u001b[0m\u001b[1;33m\u001b[0m\u001b[1;33m\u001b[0m\u001b[0m\n",
      "\u001b[1;31mKeyError\u001b[0m: 'Store_Energy'"
     ]
    }
   ],
   "source": [
    "mdl = Rover()\n",
    "app = SampleApproach(mdl)"
   ]
  },
  {
   "cell_type": "markdown",
   "metadata": {},
   "source": [
    "To form this history, the model is run in the nominal scenario, as shown."
   ]
  },
  {
   "cell_type": "code",
   "execution_count": 16,
   "metadata": {},
   "outputs": [
    {
     "data": {
      "text/plain": [
       "{'faults': array(['nom', 'nom', 'nom', 'nom', 'nom', 'nom', 'nom', 'nom', 'nom',\n",
       "        'nom', 'nom', 'nom', 'nom', 'nom', 'nom', 'nom', 'nom', 'nom',\n",
       "        'nom', 'nom', 'nom', 'nom', 'nom', 'nom', 'nom', 'nom', 'nom',\n",
       "        'nom', 'nom', 'nom', 'nom', 'nom', 'nom', 'nom', 'nom', 'nom',\n",
       "        'nom', 'nom', 'nom', 'nom', 'nom', 'nom', 'nom', 'nom', 'nom',\n",
       "        'nom', 'nom', 'nom', 'nom', 'nom', 'nom', 'nom', 'nom', 'nom',\n",
       "        'nom', 'nom', 'nom', 'nom', 'nom', 'nom', 'nom'], dtype=object),\n",
       " 'charge': array([100, 100, 100, 100, 100, 100,  99,  98,  97,  96,  95,  94,  93,\n",
       "         92,  91,  90,  89,  88,  87,  86,  85,  84,  83,  82,  81,  80,\n",
       "         79,  78,  77,  76,  75,  74,  73,  72,  71,  70,  69,  68,  67,\n",
       "         66,  65,  64,  63,  62,  61,  60,  59,  58,  57,  56,  55,  55,\n",
       "         55,  55,  55,  55,  55,  55,  55,  55,  55]),\n",
       " 'mode': array(['standby', 'standby', 'standby', 'standby', 'standby', 'supply',\n",
       "        'supply', 'supply', 'supply', 'supply', 'supply', 'supply',\n",
       "        'supply', 'supply', 'supply', 'supply', 'supply', 'supply',\n",
       "        'supply', 'supply', 'supply', 'supply', 'supply', 'supply',\n",
       "        'supply', 'supply', 'supply', 'supply', 'supply', 'supply',\n",
       "        'supply', 'supply', 'supply', 'supply', 'supply', 'supply',\n",
       "        'supply', 'supply', 'supply', 'supply', 'supply', 'supply',\n",
       "        'supply', 'supply', 'supply', 'supply', 'supply', 'supply',\n",
       "        'supply', 'supply', 'standby', 'standby', 'standby', 'standby',\n",
       "        'standby', 'standby', 'standby', 'standby', 'standby', 'standby',\n",
       "        'standby'], dtype='<U7')}"
      ]
     },
     "execution_count": 16,
     "metadata": {},
     "output_type": "execute_result"
    }
   ],
   "source": [
    "endclass , resgraph,mdlhist = prop.nominal(mdl)\n",
    "mdlhist['functions']['Store_Energy']"
   ]
  },
  {
   "cell_type": "markdown",
   "metadata": {},
   "source": [
    "To get the phase information, the 'process.modephases' method is used."
   ]
  },
  {
   "cell_type": "code",
   "execution_count": 19,
   "metadata": {},
   "outputs": [],
   "source": [
    "phases, modephases = rd.process.modephases(mdlhist)"
   ]
  },
  {
   "cell_type": "markdown",
   "metadata": {},
   "source": [
    "Which returns `phases`, the phases of operation for each function where operational modes were defined:"
   ]
  },
  {
   "cell_type": "code",
   "execution_count": 21,
   "metadata": {},
   "outputs": [
    {
     "data": {
      "text/plain": [
       "{'Control_Rover': {'standby': [0, 4], 'drive': [5, 49], 'standby1': [50, 60]},\n",
       " 'Store_Energy': {'standby': [0, 4], 'supply': [5, 49], 'standby1': [50, 60]}}"
      ]
     },
     "execution_count": 21,
     "metadata": {},
     "output_type": "execute_result"
    }
   ],
   "source": [
    "phases"
   ]
  },
  {
   "cell_type": "markdown",
   "metadata": {},
   "source": [
    "as well as `modephases`, which lists the phases associated with each mode."
   ]
  },
  {
   "cell_type": "code",
   "execution_count": 23,
   "metadata": {},
   "outputs": [
    {
     "data": {
      "text/plain": [
       "{'Control_Rover': {'standby': {'standby', 'standby1'}, 'drive': {'drive'}},\n",
       " 'Store_Energy': {'standby': {'standby', 'standby1'}, 'supply': {'supply'}}}"
      ]
     },
     "execution_count": 23,
     "metadata": {},
     "output_type": "execute_result"
    }
   ],
   "source": [
    "modephases"
   ]
  },
  {
   "cell_type": "markdown",
   "metadata": {},
   "source": [
    "To correctly sample according to the fault model's intent (that each fault can occur within each `mode`), SampleApproach is given both `phases` and `modephases`, as shown below."
   ]
  },
  {
   "cell_type": "code",
   "execution_count": 38,
   "metadata": {},
   "outputs": [
    {
     "data": {
      "text/plain": [
       "{('none',\n",
       "  'operating'): {30: [('Control_Rover', 'no_con'),\n",
       "   ('Move_Rover', 'mech_loss'),\n",
       "   ('Move_Rover', 'elec_open')]},\n",
       " ('Store_Energy', 'standby'): {2: [('Store_Energy', 'no_charge')]},\n",
       " ('Store_Energy', 'standby1'): {54: [('Store_Energy', 'no_charge')]},\n",
       " ('Store_Energy', 'supply'): {27: [('Store_Energy', 'short')]}}"
      ]
     },
     "execution_count": 38,
     "metadata": {},
     "output_type": "execute_result"
    }
   ],
   "source": [
    "app_correct = SampleApproach(mdl, phases=phases, modephases=modephases)\n",
    "app_correct.sampletimes"
   ]
  },
  {
   "cell_type": "code",
   "execution_count": 39,
   "metadata": {},
   "outputs": [
    {
     "data": {
      "text/plain": [
       "{('none',\n",
       "  'operating'): {30: [('Control_Rover', 'no_con'),\n",
       "   ('Move_Rover', 'mech_loss'),\n",
       "   ('Move_Rover', 'elec_open')]},\n",
       " ('Store_Energy', 'standby'): {2: [('Store_Energy', 'no_charge')]},\n",
       " ('Store_Energy', 'supply'): {27: [('Store_Energy', 'short')]}}"
      ]
     },
     "execution_count": 39,
     "metadata": {},
     "output_type": "execute_result"
    }
   ],
   "source": [
    "app_incorrect = SampleApproach(mdl, phases=phases)\n",
    "app_incorrect.sampletimes"
   ]
  },
  {
   "cell_type": "markdown",
   "metadata": {},
   "source": [
    "As shown, in the first sampleapproach, only the first phases of the mode are sampled, and not the second phases, because there is nothing to tell the approach which phases are associated with which mode, and the opportunity vector was keyed by modes. However, there are cases where it may not be necessary to provide `modephases` when providing , specifically:\n",
    "- If the opportunity vector is defined in terms of local `phases` directly instead of `modes`, (e.g. by `{standby`:rate, `supply`:rate, `standby1`:rate}))\n",
    "- If only the first phase is of interest\n",
    "- If all fault modes are keyed by `global` phases"
   ]
  },
  {
   "cell_type": "markdown",
   "metadata": {},
   "source": [
    "Note that presently, joint fault modes can only be sampled when the opportunity vectors for each mode are defined using the global phase. See:"
   ]
  },
  {
   "cell_type": "code",
   "execution_count": 41,
   "metadata": {},
   "outputs": [
    {
     "ename": "KeyError",
     "evalue": "('global', 'firsthalf')",
     "output_type": "error",
     "traceback": [
      "\u001b[1;31m---------------------------------------------------------------------------\u001b[0m",
      "\u001b[1;31mKeyError\u001b[0m                                  Traceback (most recent call last)",
      "\u001b[1;32m<ipython-input-41-50508b0cf0d8>\u001b[0m in \u001b[0;36m<module>\u001b[1;34m\u001b[0m\n\u001b[1;32m----> 1\u001b[1;33m \u001b[0mapp_joint\u001b[0m \u001b[1;33m=\u001b[0m \u001b[0mSampleApproach\u001b[0m\u001b[1;33m(\u001b[0m\u001b[0mmdl\u001b[0m\u001b[1;33m,\u001b[0m \u001b[0mphases\u001b[0m\u001b[1;33m=\u001b[0m\u001b[0mphases\u001b[0m\u001b[1;33m,\u001b[0m \u001b[0mmodephases\u001b[0m\u001b[1;33m=\u001b[0m\u001b[0mmodephases\u001b[0m\u001b[1;33m,\u001b[0m \u001b[0mjointfaults\u001b[0m \u001b[1;33m=\u001b[0m \u001b[1;33m{\u001b[0m\u001b[1;34m'faults'\u001b[0m\u001b[1;33m:\u001b[0m\u001b[1;36m2\u001b[0m\u001b[1;33m}\u001b[0m\u001b[1;33m)\u001b[0m\u001b[1;33m\u001b[0m\u001b[1;33m\u001b[0m\u001b[0m\n\u001b[0m",
      "\u001b[1;32m~\\Documents\\GitHub\\fmdtools_NASA\\fmdtools\\modeldef.py\u001b[0m in \u001b[0;36m__init__\u001b[1;34m(self, mdl, faults, phases, modephases, jointfaults, sampparams, defaultsamp)\u001b[0m\n\u001b[0;32m    811\u001b[0m         \u001b[0mself\u001b[0m\u001b[1;33m.\u001b[0m\u001b[0munits\u001b[0m \u001b[1;33m=\u001b[0m \u001b[0mmdl\u001b[0m\u001b[1;33m.\u001b[0m\u001b[0munits\u001b[0m\u001b[1;33m\u001b[0m\u001b[1;33m\u001b[0m\u001b[0m\n\u001b[0;32m    812\u001b[0m         \u001b[0mself\u001b[0m\u001b[1;33m.\u001b[0m\u001b[0minit_modelist\u001b[0m\u001b[1;33m(\u001b[0m\u001b[0mmdl\u001b[0m\u001b[1;33m,\u001b[0m\u001b[0mfaults\u001b[0m\u001b[1;33m,\u001b[0m \u001b[0mjointfaults\u001b[0m\u001b[1;33m)\u001b[0m\u001b[1;33m\u001b[0m\u001b[1;33m\u001b[0m\u001b[0m\n\u001b[1;32m--> 813\u001b[1;33m         \u001b[0mself\u001b[0m\u001b[1;33m.\u001b[0m\u001b[0minit_rates\u001b[0m\u001b[1;33m(\u001b[0m\u001b[0mmdl\u001b[0m\u001b[1;33m,\u001b[0m \u001b[0mjointfaults\u001b[0m\u001b[1;33m=\u001b[0m\u001b[0mjointfaults\u001b[0m\u001b[1;33m,\u001b[0m \u001b[0mmodephases\u001b[0m\u001b[1;33m=\u001b[0m\u001b[0mmodephases\u001b[0m\u001b[1;33m)\u001b[0m\u001b[1;33m\u001b[0m\u001b[1;33m\u001b[0m\u001b[0m\n\u001b[0m\u001b[0;32m    814\u001b[0m         \u001b[0mself\u001b[0m\u001b[1;33m.\u001b[0m\u001b[0mcreate_sampletimes\u001b[0m\u001b[1;33m(\u001b[0m\u001b[0mmdl\u001b[0m\u001b[1;33m,\u001b[0m \u001b[0msampparams\u001b[0m\u001b[1;33m,\u001b[0m \u001b[0mdefaultsamp\u001b[0m\u001b[1;33m)\u001b[0m\u001b[1;33m\u001b[0m\u001b[1;33m\u001b[0m\u001b[0m\n\u001b[0;32m    815\u001b[0m         \u001b[0mself\u001b[0m\u001b[1;33m.\u001b[0m\u001b[0mcreate_scenarios\u001b[0m\u001b[1;33m(\u001b[0m\u001b[1;33m)\u001b[0m\u001b[1;33m\u001b[0m\u001b[1;33m\u001b[0m\u001b[0m\n",
      "\u001b[1;32m~\\Documents\\GitHub\\fmdtools_NASA\\fmdtools\\modeldef.py\u001b[0m in \u001b[0;36minit_rates\u001b[1;34m(self, mdl, jointfaults, modephases)\u001b[0m\n\u001b[0;32m    904\u001b[0m                 \u001b[0mself\u001b[0m\u001b[1;33m.\u001b[0m\u001b[0mrates_timeless\u001b[0m\u001b[1;33m.\u001b[0m\u001b[0mupdate\u001b[0m\u001b[1;33m(\u001b[0m\u001b[1;33m{\u001b[0m\u001b[0mjointmode\u001b[0m\u001b[1;33m:\u001b[0m\u001b[0mdict\u001b[0m\u001b[1;33m(\u001b[0m\u001b[1;33m)\u001b[0m\u001b[1;33m}\u001b[0m\u001b[1;33m)\u001b[0m\u001b[1;33m\u001b[0m\u001b[1;33m\u001b[0m\u001b[0m\n\u001b[0;32m    905\u001b[0m                 \u001b[1;32mfor\u001b[0m \u001b[1;33m(\u001b[0m\u001b[0mphase\u001b[0m\u001b[1;33m,\u001b[0m \u001b[0mtimes\u001b[0m\u001b[1;33m)\u001b[0m \u001b[1;32min\u001b[0m \u001b[0mself\u001b[0m\u001b[1;33m.\u001b[0m\u001b[0mglobalphases\u001b[0m\u001b[1;33m.\u001b[0m\u001b[0mitems\u001b[0m\u001b[1;33m(\u001b[0m\u001b[1;33m)\u001b[0m\u001b[1;33m:\u001b[0m\u001b[1;33m\u001b[0m\u001b[1;33m\u001b[0m\u001b[0m\n\u001b[1;32m--> 906\u001b[1;33m                     \u001b[0mrates\u001b[0m\u001b[1;33m=\u001b[0m\u001b[1;33m[\u001b[0m\u001b[0mself\u001b[0m\u001b[1;33m.\u001b[0m\u001b[0mrates\u001b[0m\u001b[1;33m[\u001b[0m\u001b[0mfmode\u001b[0m\u001b[1;33m]\u001b[0m\u001b[1;33m[\u001b[0m\u001b[1;34m'global'\u001b[0m\u001b[1;33m,\u001b[0m \u001b[0mphase\u001b[0m\u001b[1;33m]\u001b[0m \u001b[1;32mfor\u001b[0m \u001b[0mfmode\u001b[0m \u001b[1;32min\u001b[0m \u001b[0mjointmode\u001b[0m\u001b[1;33m]\u001b[0m\u001b[1;33m\u001b[0m\u001b[1;33m\u001b[0m\u001b[0m\n\u001b[0m\u001b[0;32m    907\u001b[0m                     \u001b[1;32mif\u001b[0m \u001b[1;32mnot\u001b[0m \u001b[0mjointfaults\u001b[0m\u001b[1;33m.\u001b[0m\u001b[0mget\u001b[0m\u001b[1;33m(\u001b[0m\u001b[1;34m'pcond'\u001b[0m\u001b[1;33m,\u001b[0m \u001b[1;32mFalse\u001b[0m\u001b[1;33m)\u001b[0m\u001b[1;33m:\u001b[0m \u001b[1;31m# if no input, assume independence\u001b[0m\u001b[1;33m\u001b[0m\u001b[1;33m\u001b[0m\u001b[0m\n\u001b[0;32m    908\u001b[0m                         \u001b[0mprob\u001b[0m \u001b[1;33m=\u001b[0m \u001b[0mnp\u001b[0m\u001b[1;33m.\u001b[0m\u001b[0mprod\u001b[0m\u001b[1;33m(\u001b[0m\u001b[1;36m1\u001b[0m\u001b[1;33m-\u001b[0m\u001b[0mnp\u001b[0m\u001b[1;33m.\u001b[0m\u001b[0mexp\u001b[0m\u001b[1;33m(\u001b[0m\u001b[1;33m-\u001b[0m\u001b[0mnp\u001b[0m\u001b[1;33m.\u001b[0m\u001b[0marray\u001b[0m\u001b[1;33m(\u001b[0m\u001b[0mrates\u001b[0m\u001b[1;33m)\u001b[0m\u001b[1;33m)\u001b[0m\u001b[1;33m)\u001b[0m\u001b[1;33m\u001b[0m\u001b[1;33m\u001b[0m\u001b[0m\n",
      "\u001b[1;32m~\\Documents\\GitHub\\fmdtools_NASA\\fmdtools\\modeldef.py\u001b[0m in \u001b[0;36m<listcomp>\u001b[1;34m(.0)\u001b[0m\n\u001b[0;32m    904\u001b[0m                 \u001b[0mself\u001b[0m\u001b[1;33m.\u001b[0m\u001b[0mrates_timeless\u001b[0m\u001b[1;33m.\u001b[0m\u001b[0mupdate\u001b[0m\u001b[1;33m(\u001b[0m\u001b[1;33m{\u001b[0m\u001b[0mjointmode\u001b[0m\u001b[1;33m:\u001b[0m\u001b[0mdict\u001b[0m\u001b[1;33m(\u001b[0m\u001b[1;33m)\u001b[0m\u001b[1;33m}\u001b[0m\u001b[1;33m)\u001b[0m\u001b[1;33m\u001b[0m\u001b[1;33m\u001b[0m\u001b[0m\n\u001b[0;32m    905\u001b[0m                 \u001b[1;32mfor\u001b[0m \u001b[1;33m(\u001b[0m\u001b[0mphase\u001b[0m\u001b[1;33m,\u001b[0m \u001b[0mtimes\u001b[0m\u001b[1;33m)\u001b[0m \u001b[1;32min\u001b[0m \u001b[0mself\u001b[0m\u001b[1;33m.\u001b[0m\u001b[0mglobalphases\u001b[0m\u001b[1;33m.\u001b[0m\u001b[0mitems\u001b[0m\u001b[1;33m(\u001b[0m\u001b[1;33m)\u001b[0m\u001b[1;33m:\u001b[0m\u001b[1;33m\u001b[0m\u001b[1;33m\u001b[0m\u001b[0m\n\u001b[1;32m--> 906\u001b[1;33m                     \u001b[0mrates\u001b[0m\u001b[1;33m=\u001b[0m\u001b[1;33m[\u001b[0m\u001b[0mself\u001b[0m\u001b[1;33m.\u001b[0m\u001b[0mrates\u001b[0m\u001b[1;33m[\u001b[0m\u001b[0mfmode\u001b[0m\u001b[1;33m]\u001b[0m\u001b[1;33m[\u001b[0m\u001b[1;34m'global'\u001b[0m\u001b[1;33m,\u001b[0m \u001b[0mphase\u001b[0m\u001b[1;33m]\u001b[0m \u001b[1;32mfor\u001b[0m \u001b[0mfmode\u001b[0m \u001b[1;32min\u001b[0m \u001b[0mjointmode\u001b[0m\u001b[1;33m]\u001b[0m\u001b[1;33m\u001b[0m\u001b[1;33m\u001b[0m\u001b[0m\n\u001b[0m\u001b[0;32m    907\u001b[0m                     \u001b[1;32mif\u001b[0m \u001b[1;32mnot\u001b[0m \u001b[0mjointfaults\u001b[0m\u001b[1;33m.\u001b[0m\u001b[0mget\u001b[0m\u001b[1;33m(\u001b[0m\u001b[1;34m'pcond'\u001b[0m\u001b[1;33m,\u001b[0m \u001b[1;32mFalse\u001b[0m\u001b[1;33m)\u001b[0m\u001b[1;33m:\u001b[0m \u001b[1;31m# if no input, assume independence\u001b[0m\u001b[1;33m\u001b[0m\u001b[1;33m\u001b[0m\u001b[0m\n\u001b[0;32m    908\u001b[0m                         \u001b[0mprob\u001b[0m \u001b[1;33m=\u001b[0m \u001b[0mnp\u001b[0m\u001b[1;33m.\u001b[0m\u001b[0mprod\u001b[0m\u001b[1;33m(\u001b[0m\u001b[1;36m1\u001b[0m\u001b[1;33m-\u001b[0m\u001b[0mnp\u001b[0m\u001b[1;33m.\u001b[0m\u001b[0mexp\u001b[0m\u001b[1;33m(\u001b[0m\u001b[1;33m-\u001b[0m\u001b[0mnp\u001b[0m\u001b[1;33m.\u001b[0m\u001b[0marray\u001b[0m\u001b[1;33m(\u001b[0m\u001b[0mrates\u001b[0m\u001b[1;33m)\u001b[0m\u001b[1;33m)\u001b[0m\u001b[1;33m)\u001b[0m\u001b[1;33m\u001b[0m\u001b[1;33m\u001b[0m\u001b[0m\n",
      "\u001b[1;31mKeyError\u001b[0m: ('global', 'firsthalf')"
     ]
    }
   ],
   "source": [
    "app_joint = SampleApproach(mdl, phases=phases, modephases=modephases, jointfaults = {'faults':2})"
   ]
  },
  {
   "cell_type": "markdown",
   "metadata": {},
   "source": [
    "Additionally, note how different opportunity vectors lead to different sample approaches:"
   ]
  },
  {
   "cell_type": "code",
   "execution_count": 46,
   "metadata": {},
   "outputs": [
    {
     "data": {
      "text/plain": [
       "{('none',\n",
       "  'operating'): {30: [('Control_Rover', 'no_con'),\n",
       "   ('Move_Rover', 'mech_loss'),\n",
       "   ('Move_Rover', 'elec_open')]},\n",
       " ('Store_Energy', 'standby'): {2: [('Store_Energy', 'no_charge')]},\n",
       " ('Store_Energy', 'standby1'): {54: [('Store_Energy', 'no_charge')]},\n",
       " ('Store_Energy', 'supply'): {27: [('Store_Energy', 'short')]}}"
      ]
     },
     "execution_count": 46,
     "metadata": {},
     "output_type": "execute_result"
    }
   ],
   "source": [
    "app_correct.sampletimes"
   ]
  },
  {
   "cell_type": "markdown",
   "metadata": {},
   "source": [
    "- `Move_Rover`, and `Control_Rover`, where no opportunity vector was provided, are sampled once in the middle of an `operating` phase\n",
    "- `Store_Energy` is sampled once in each given phase (defined itself).\n",
    "- None of the modes are sampled during the global phases (although they could be, if that was provided in the function defintion)"
   ]
  },
  {
   "cell_type": "markdown",
   "metadata": {},
   "source": [
    "### Propagating Faults\n",
    "\n",
    "Given the fault sampling approach, the faults can then be propagated through the model to get results. Note that these faults can be sampled in parallel if desired using a user-provided pool (see the parallel pool tutorial in the `\\pump example` folder)."
   ]
  },
  {
   "cell_type": "code",
   "execution_count": 50,
   "metadata": {},
   "outputs": [
    {
     "name": "stderr",
     "output_type": "stream",
     "text": [
      "SCENARIOS COMPLETE: 100%|███████████████████████████████████████████████████████████████| 6/6 [00:00<00:00, 341.58it/s]\n"
     ]
    }
   ],
   "source": [
    "endclasses, mdlhists = prop.approach(mdl, app_correct)"
   ]
  },
  {
   "cell_type": "code",
   "execution_count": 51,
   "metadata": {},
   "outputs": [
    {
     "data": {
      "text/plain": [
       "{'Control_Rover no_con, t=30': {'rate': 0.006,\n",
       "  'cost': 1,\n",
       "  'expected cost': 0.006},\n",
       " 'Move_Rover mech_loss, t=30': {'rate': 30.0,\n",
       "  'cost': 1,\n",
       "  'expected cost': 30.0},\n",
       " 'Move_Rover elec_open, t=30': {'rate': 30.0,\n",
       "  'cost': 1,\n",
       "  'expected cost': 30.0},\n",
       " 'Store_Energy no_charge, t=2': {'rate': 2e-05,\n",
       "  'cost': 1,\n",
       "  'expected cost': 2e-05},\n",
       " 'Store_Energy no_charge, t=54': {'rate': 5e-05,\n",
       "  'cost': 1,\n",
       "  'expected cost': 5e-05},\n",
       " 'Store_Energy short, t=27': {'rate': 0.00044,\n",
       "  'cost': 1,\n",
       "  'expected cost': 0.00044}}"
      ]
     },
     "execution_count": 51,
     "metadata": {},
     "output_type": "execute_result"
    }
   ],
   "source": [
    "endclasses"
   ]
  },
  {
   "cell_type": "markdown",
   "metadata": {},
   "source": [
    "Note that the results here reflect the lack of information given for rates in the `Control_Rover` and `Move_Rover` functions (which default to a value of 1) and the rates do not correspond *direct* to the given rates because rates shown here are per-run rates which are spread over the model. Additionally, all scenarios default to a cost of 1 because of the lack of a classification function."
   ]
  },
  {
   "cell_type": "markdown",
   "metadata": {},
   "source": [
    "These responses can be visualized:"
   ]
  },
  {
   "cell_type": "code",
   "execution_count": 49,
   "metadata": {},
   "outputs": [
    {
     "data": {
      "image/png": "[encoded data removed]",
      "text/plain": [
       "<Figure size 432x288 with 2 Axes>"
      ]
     },
     "metadata": {
      "needs_background": "light"
     },
     "output_type": "display_data"
    },
    {
     "data": {
      "image/png": "[encoded data removed]",
      "text/plain": [
       "<Figure size 432x288 with 2 Axes>"
      ]
     },
     "metadata": {
      "needs_background": "light"
     },
     "output_type": "display_data"
    },
    {
     "data": {
      "image/png": "[encoded data removed]",
      "text/plain": [
       "<Figure size 432x288 with 2 Axes>"
      ]
     },
     "metadata": {
      "needs_background": "light"
     },
     "output_type": "display_data"
    },
    {
     "data": {
      "image/png": "[encoded data removed]",
      "text/plain": [
       "<Figure size 432x288 with 2 Axes>"
      ]
     },
     "metadata": {
      "needs_background": "light"
     },
     "output_type": "display_data"
    },
    {
     "data": {
      "image/png": "[encoded data removed]",
      "text/plain": [
       "<Figure size 432x288 with 2 Axes>"
      ]
     },
     "metadata": {
      "needs_background": "light"
     },
     "output_type": "display_data"
    }
   ],
   "source": [
    "rd.plot.samplecosts(app_correct, endclasses)"
   ]
  },
  {
   "cell_type": "code",
   "execution_count": null,
   "metadata": {},
   "outputs": [],
   "source": []
  }
 ],
 "metadata": {
  "kernelspec": {
   "display_name": "Python 3",
   "language": "python",
   "name": "python3"
  },
  "language_info": {
   "codemirror_mode": {
    "name": "ipython",
    "version": 3
   },
   "file_extension": ".py",
   "mimetype": "text/x-python",
   "name": "python",
   "nbconvert_exporter": "python",
   "pygments_lexer": "ipython3",
   "version": "3.7.6"
  }
 },
 "nbformat": 4,
 "nbformat_minor": 4
}
