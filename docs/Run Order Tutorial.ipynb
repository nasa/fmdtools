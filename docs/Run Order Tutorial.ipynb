{
 "cells": [
  {
   "cell_type": "markdown",
   "metadata": {},
   "source": [
    "# Defining Run Order in fmdtools Models\n",
    "\n",
    "To specify how behaviors propagate between functions and over time, it is important to define a run order for the a model. This notebook will demonstrate fmdtools' interfaces both for setting up run order and for visualizing it for better model development."
   ]
  },
  {
   "cell_type": "code",
   "execution_count": 3,
   "metadata": {},
   "outputs": [],
   "source": [
    "import sys\n",
    "# for use in development - makes sure git version is used instead of pip-installed version\n",
    "paths = sys.path\n",
    "if paths[1]!='../':\n",
    "    sys.path=[sys.path[0]] + ['../'] + paths\n",
    "\n",
    "from fmdtools.modeldef import *\n",
    "import fmdtools.resultdisp as rd\n",
    "import fmdtools.faultsim.propagate as prop"
   ]
  },
  {
   "cell_type": "markdown",
   "metadata": {},
   "source": [
    "### Basics\n",
    "\n",
    "Each timestep of a model simulation can be broken down into two steps: \n",
    "\n",
    "![Dynamic Propagation Step](files/figures/dynamic_step.png) \n",
    "\n",
    "- **Dynamic Propagation Step:** In the dynamic propagation step, the time-based behaviors (e.g. accumulations, movement, etc.) are each run *once* in a specified order. These steps are generally quicker to execute because each behavior is only run once and the flows do not need to be tracked to determine which behaviors to execute next. This step is run first at each time-step of the model.\n",
    "\n",
    "![Static Propagation Step](files/figures/propogation.png)\n",
    "\n",
    "- **Static Propagation Step:**\n",
    "    In the static propagation step, behaviors are propagated between functions iteratively until the state of the model converges to a single value. This may require an update of multiple function behaviors until there are no more new behaviors to run. Thus, static behaviors should be ''timeless'' (always give the same output for the same input) and convergent (behaviors in each function should not change each other ad infinitum). This step is run second at each time-step of the model.\n",
    "\n",
    "With these different behaviors, one can express a range of different types of models:\n",
    "- **static models** where only only one timestep is run, where fault scenarios show the immediate propagation of faults through the system.\n",
    "- **dynamic models** where a number of timesteps are run (but behaviors are only run once).\n",
    "- **hybrid models** where dynamic behaviors are run once and then a static propagation step is performed at each time-step.\n",
    "\n"
   ]
  },
  {
   "cell_type": "markdown",
   "metadata": {},
   "source": [
    "The main interfaces/functions involved in defining run order are:\n",
    "- `FxnBlock.static_behavior(self, time)` and `FxnBlock.behavior(self, time)`, which define function behaviors which occur during the static propagation step. \n",
    "- `FxnBlock.dynamic_behavior(self, time)`, which defines function behaviors during the dynamic propagation step.\n",
    "- `FxnBlock.condfaults(self, time)`, does not define run order, but it can be used for behaviors which would at any time during simulation (dynamic or static) lead to the system entering a fault mode (e.g., conditional faults).\n",
    "- `Model.add_fxn()`, which when used successively for each function specifies that those functions run in the order they are added.\n",
    "\n",
    "There is additionally `Model.build_model()`, which enables one to manually specify the order of the dynamic propagation step (and initial static step):"
   ]
  },
  {
   "cell_type": "code",
   "execution_count": 4,
   "metadata": {},
   "outputs": [
    {
     "name": "stdout",
     "output_type": "stream",
     "text": [
      "Help on function build_model in module fmdtools.modeldef:\n",
      "\n",
      "build_model(self, functionorder=[], graph_pos={}, bipartite_pos={})\n",
      "    Builds the model graph after the functions have been added.\n",
      "    \n",
      "    Parameters\n",
      "    ----------\n",
      "    functionorder : list, optional\n",
      "        The order for the functions to be executed in. The default is [].\n",
      "    graph_pos : dict, optional\n",
      "        position of graph nodes. The default is {}.\n",
      "    bipartite_pos : dict, optional\n",
      "        position of bipartite graph nodes. The default is {}.\n",
      "\n"
     ]
    }
   ],
   "source": [
    "help(Model.build_model)"
   ]
  },
  {
   "cell_type": "markdown",
   "metadata": {},
   "source": [
    "The overall static/dynamic propagation steps of the model can then be visualized using `rd.graph.exec_order`"
   ]
  },
  {
   "cell_type": "code",
   "execution_count": 5,
   "metadata": {},
   "outputs": [
    {
     "name": "stdout",
     "output_type": "stream",
     "text": [
      "Help on function exec_order in module fmdtools.resultdisp.graph:\n",
      "\n",
      "exec_order(mdl, gtype='bipartite', pos=[], scale=1, colors=['lightgray', 'cyan', 'teal'], show_dyn_order=True, retfig=True, title='Function Execution Order', legend=True)\n",
      "    Displays the execution order/types of the model, where the functions and flows in the\n",
      "    static step are highlighted and the functions in the dynamic step are listed (with corresponding order)\n",
      "    \n",
      "    Parameters\n",
      "    ----------\n",
      "    mdl : fmdtools Model\n",
      "        Model of the system to visualize.\n",
      "    gtype : 'normal'/'bipartite', optional\n",
      "        Representation of the model to use. The default is 'bipartite'.\n",
      "    pos : dict optional\n",
      "        Dictionary of positions for the model. The default is [].\n",
      "    scale : float, optional\n",
      "        Scale factor for the node sizes. The default is 1.\n",
      "    colors : list, optional\n",
      "        Colors to use for unexecuted functions, static propagation steps, and dynamic functions. \n",
      "        The default is ['lightgray', 'cyan','teal'].\n",
      "    show_dyn_order : bool, optional\n",
      "        Whether to label the execution order for dynamic functions. The default is True.\n",
      "    retfig : bool, optional\n",
      "        Whether to retun the figure and axis objects. The default is True.\n",
      "    title : str, optional\n",
      "        Title for the plot. The default is \"Function Execution Order\".\n",
      "    legend : bool, optional\n",
      "        Whether to show a legend. The default is True.\n",
      "    \n",
      "    Returns\n",
      "    -------\n",
      "    tuple of form (figure, axis) (if retfig is true)\n",
      "\n"
     ]
    }
   ],
   "source": [
    "help(rd.graph.exec_order)"
   ]
  },
  {
   "cell_type": "markdown",
   "metadata": {},
   "source": [
    "While the functions and flows updated/executed on in the dynamic propagation step can be visualized using `rd.plot.dyn_order`:"
   ]
  },
  {
   "cell_type": "code",
   "execution_count": 6,
   "metadata": {},
   "outputs": [
    {
     "name": "stdout",
     "output_type": "stream",
     "text": [
      "Help on function dyn_order in module fmdtools.resultdisp.plot:\n",
      "\n",
      "dyn_order(mdl, rotateticks=False, title='Dynamic Run Order')\n",
      "    Plots the run order for the model during the dynamic propagation step used \n",
      "    by dynamic_behavior() methods, where the x-direction is the order of each\n",
      "    function executed and the y are the corresponding flows acted on by the \n",
      "    given methods.\n",
      "    \n",
      "    Parameters\n",
      "    ----------\n",
      "    mdl : Model\n",
      "        fmdtools model\n",
      "    rotateticks : Bool, optional\n",
      "        Whether to rotate the x-ticks (for bigger plots). The default is False.\n",
      "    title : str, optional\n",
      "        String to use for the title (if any). The default is \"Dynamic Run Order\".\n",
      "    \n",
      "    Returns\n",
      "    -------\n",
      "    fig : figure\n",
      "        Matplotlib figure object \n",
      "    ax : axis\n",
      "        Corresponding matplotlib axis\n",
      "\n"
     ]
    }
   ],
   "source": [
    "help(rd.plot.dyn_order)"
   ]
  },
  {
   "cell_type": "markdown",
   "metadata": {},
   "source": [
    "The next sections will demonstrate these functions using a simple hybrid model."
   ]
  },
  {
   "cell_type": "markdown",
   "metadata": {},
   "source": [
    "### Model Setup\n",
    "\n",
    "Consider the following (highly simplified) rover electrical/navigation model. We can define the functions of this rover using the classes:"
   ]
  },
  {
   "cell_type": "code",
   "execution_count": 7,
   "metadata": {},
   "outputs": [],
   "source": [
    "class Control_Rover(FxnBlock):\n",
    "    def __init__(self,name, flows):\n",
    "        super().__init__(name, flows)\n",
    "        self.assoc_modes({'no_con':[1e-4, 200]}, ['drive','standby'], initmode='standby')\n",
    "    def dynamic_behavior(self,time):\n",
    "        if not self.in_mode('no_con'):\n",
    "            if time == 5: self.set_mode('drive')\n",
    "            if time == 50: self.set_mode('standby')\n",
    "        if self.in_mode('drive'):\n",
    "            self.Control.power = 1\n",
    "            self.Control.vel = 1\n",
    "        elif self.in_mode('standby'):\n",
    "            self.Control.vel = 0\n",
    "            self.Control.power=0"
   ]
  },
  {
   "cell_type": "markdown",
   "metadata": {},
   "source": [
    "This function uses `dynamic_behavior()` to define the dynamic behavior of going through different modes depending on what model time it is. While this could also be entered in as a static behavior, because none of the defined behaviors themselves result from external inputs, there is no reason to."
   ]
  },
  {
   "cell_type": "code",
   "execution_count": 8,
   "metadata": {},
   "outputs": [],
   "source": [
    "class Move_Rover(FxnBlock):\n",
    "    def __init__(self,name, flows):\n",
    "        super().__init__(name, flows, flownames={\"EE\":\"EE_in\"}, states = {'power':0})\n",
    "        self.assoc_modes({\"mech_loss\", \"elec_open\", \"short\"})\n",
    "    def static_behavior(self, time):\n",
    "        self.power = self.EE_in.v_supply * self.Control.vel *self.no_fault(\"elec_open\")\n",
    "        self.EE_in.a_supply = power/12\n",
    "        if self.power >100: self.add_fault(\"elec_open\")\n",
    "    def dynamic_behavior(self, time):\n",
    "        if not self.has_faults([\"elec_open\", \"mech_loss\"]): self.Ground.x = self.Ground.x + power*self.no_fault(\"mech_loss\")"
   ]
  },
  {
   "cell_type": "markdown",
   "metadata": {},
   "source": [
    "The `Move_Rover` function uses both:\n",
    "- a static behavior which defines the input/output of electrical power at each instant, and\n",
    "- a dynamic behavior which defines the movement of the rover over time\n",
    "\n",
    "In this instance, the static behavior is important for enabling faults to propagate instantaneously in a single time-step (in this case, a short causing high current load to the battery). "
   ]
  },
  {
   "cell_type": "code",
   "execution_count": 12,
   "metadata": {},
   "outputs": [],
   "source": [
    "class Store_Energy(FxnBlock):\n",
    "    def __init__(self, name, flows):\n",
    "        super().__init__(name,flows, states={\"charge\": 100})\n",
    "        self.assoc_modes({\"no_charge\":[1e-5, {'standby':1.0}, 100],\"short\":[1e-5, {'supply':1.0}, 100],}, [\"supply\",\"charge\",\"standby\"], initmode=\"standby\", exclusive = True, key_phases_by='self')\n",
    "    def static_behavior(self,time):\n",
    "        if self.EE.a_supply > 5: self.add_mode(\"no_charge\")\n",
    "    def dynamic_behavior(self,time):\n",
    "        if self.in_mode(\"standby\"):     \n",
    "            self.EE.v_supply = 0; self.EE.a_supply = 0\n",
    "            if self.Control.power==1: self.set_mode(\"supply\")\n",
    "        elif self.in_mode(\"charge\"):    \n",
    "            self.EE.charge =min(self.EE.charge+self.tstep, 20)\n",
    "        elif self.in_mode(\"supply\"):\n",
    "            if self.charge > 0:         self.EE.v_supply = 12; self.charge -= self.tstep\n",
    "            else: self.set_mode(\"no_charge\")\n",
    "            if self.Control.power==0: self.set_mode(\"standby\")\n",
    "        elif self.in_mode(\"short\"):     self.EE.v_supply = 100; self.charge = 0\n",
    "        elif self.in_mode(\"no_charge\"): self.EE.v_supply=0"
   ]
  },
  {
   "cell_type": "markdown",
   "metadata": {},
   "source": [
    "The `Store_Energy` function has both a static behavior and a dynamic behavior. In this case, the static behavior enables the propagation of an adverse current from the drive system to damage the battery instantaneously, (instead of over several timesteps)."
   ]
  },
  {
   "cell_type": "code",
   "execution_count": 19,
   "metadata": {},
   "outputs": [],
   "source": [
    "class Rover(Model):\n",
    "    def __init__(self, params={},\\\n",
    "                 modelparams={'times':[0,60], 'tstep':1, 'phases':{'start':[1,30], 'end':[31, 60]}},\\\n",
    "                     valparams={}):\n",
    "        super().__init__(params, modelparams, valparams)\n",
    "        \n",
    "        self.add_flow('Ground', {'x':0,'y':0, 'dir':0, 'vel':0})\n",
    "        self.add_flow('Force', {'transfer':1, 'magnitude':1})\n",
    "        self.add_flow('EE', {'v_supply':0, 'a_supply':0})\n",
    "        self.add_flow('Video', {'line':0, 'angle':0})\n",
    "        self.add_flow('Control', {'dir':0, 'vel':0, 'power':0})\n",
    "        self.add_flow('Comms') #{'x':0,'y':0}\n",
    "        \n",
    "        self.add_fxn(\"Control_Rover\",[\"Video\",\"Comms\", \"EE\", \"Control\",\"Force\"], fclass=Control_Rover)\n",
    "        self.add_fxn(\"Move_Rover\", [\"Ground\",\"Force\",\"EE\", \"Control\"], fclass = Move_Rover)\n",
    "        self.add_fxn(\"Store_Energy\", [\"EE\", \"Force\", \"Control\"], Store_Energy)\n",
    "        self.add_fxn(\"View_Ground\", [\"Ground\", \"EE\", \"Video\",\"Force\"])\n",
    "        self.add_fxn(\"Communicate_Externally\", [\"Comms\", \"EE\",\"Force\"])\n",
    "        \n",
    "        pos_bip = {'Control_Rover': [-0.017014983401385075, 0.8197778602536954],\n",
    " 'Move_Rover': [0.1943738434915952, -0.5118219332727401],\n",
    " 'Store_Energy': [-0.256309000069049, -0.004117688709924516],\n",
    " 'View_Ground': [-0.7869889764273651, 0.47147713497270827],\n",
    " 'Communicate_Externally': [0.5107674237596388, 0.4117119127760298],\n",
    " 'Ground': [-0.7803536309752367, -0.4502200140852195],\n",
    " 'Force': [0.4327741966569625, 0.13966361395868865],\n",
    " 'EE': [-0.6981138376424448, 0.13829658866345518],\n",
    " 'Video': [-0.49486453723245205, 0.698244546263499],\n",
    " 'Control': [0.11615283552311584, -0.1842023746850714],\n",
    " 'Comms': [0.3373143873188402, 0.6507526319915691]}\n",
    "        \n",
    "        self.build_model(bipartite_pos = pos_bip)"
   ]
  },
  {
   "cell_type": "markdown",
   "metadata": {},
   "source": [
    "In this model, the `add_fxn` method is used to specify the order of function execution (`Control_Rover` -> `Move_Rover` -> `Store_Energy` ->  `View_Ground` -> `Communicate_Externally`).\n",
    "\n",
    "In addition to the functions which have been defined here, this model additionally has a number of functions which have not been defined (and will thus not execute). We can visualize using `rd.graph.exec_order`."
   ]
  },
  {
   "cell_type": "code",
   "execution_count": 22,
   "metadata": {},
   "outputs": [
    {
     "data": {
      "text/plain": [
       "(<Figure size 432x288 with 1 Axes>,\n",
       " <matplotlib.axes._subplots.AxesSubplot at 0x21c1a78e948>)"
      ]
     },
     "execution_count": 22,
     "metadata": {},
     "output_type": "execute_result"
    },
    {
     "data": {
      "image/png": "[encoded data removed]",
      "text/plain": [
       "<Figure size 432x288 with 1 Axes>"
      ]
     },
     "metadata": {},
     "output_type": "display_data"
    }
   ],
   "source": [
    "mdl = Rover()\n",
    "rd.graph.exec_order(mdl)"
   ]
  },
  {
   "cell_type": "markdown",
   "metadata": {},
   "source": [
    "As shown, functions and flows active in the static propagation step are highlighted in cyan while the functions in the dynamic propagation step are shown (or given a border) in teal. Functions without behaviors are shown in light grey, and the run order of the dynamic propagation step is shown as numbers under the corresponding functions.\n",
    "\n",
    "In addition, `rd.plot.dyn_order` can be used to visualize the dynamic propagation step."
   ]
  },
  {
   "cell_type": "code",
   "execution_count": 23,
   "metadata": {},
   "outputs": [
    {
     "data": {
      "text/plain": [
       "(<Figure size 432x288 with 1 Axes>,\n",
       " <matplotlib.axes._subplots.AxesSubplot at 0x21c1c3bc148>)"
      ]
     },
     "execution_count": 23,
     "metadata": {},
     "output_type": "execute_result"
    },
    {
     "data": {
      "image/png": "[encoded data removed]",
      "text/plain": [
       "<Figure size 432x288 with 1 Axes>"
      ]
     },
     "metadata": {
      "needs_background": "light"
     },
     "output_type": "display_data"
    }
   ],
   "source": [
    "rd.plot.dyn_order(mdl)"
   ]
  },
  {
   "cell_type": "markdown",
   "metadata": {},
   "source": [
    "This plot shows that the dynamic execution step runs in the order defined in the `Model` module: first, Control_Rover, then, Move_Rover, and finally Store_Energy (reading left-to-right in the upper axis). The plot additionally shows which flows correspond to these function as it progresses through execution, which enables some understanding of which data structures are used or acted on at each execution time. "
   ]
  },
  {
   "cell_type": "code",
   "execution_count": null,
   "metadata": {},
   "outputs": [],
   "source": []
  }
 ],
 "metadata": {
  "kernelspec": {
   "display_name": "Python 3",
   "language": "python",
   "name": "python3"
  },
  "language_info": {
   "codemirror_mode": {
    "name": "ipython",
    "version": 3
   },
   "file_extension": ".py",
   "mimetype": "text/x-python",
   "name": "python",
   "nbconvert_exporter": "python",
   "pygments_lexer": "ipython3",
   "version": "3.7.6"
  }
 },
 "nbformat": 4,
 "nbformat_minor": 4
}
