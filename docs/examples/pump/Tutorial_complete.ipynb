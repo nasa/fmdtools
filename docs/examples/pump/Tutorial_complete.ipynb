{
 "cells": [
  {
   "cell_type": "markdown",
   "metadata": {},
   "source": [
    "# fmdtools Tutorial\n",
    "\n",
    "This tutorial notebook will show some of the basic commands needed to perform resilience analysis in fmdtools.\n",
    "\n",
    "For some context, it may be helpful to look through the accompanying presentation. This notebook uses the model defined in `ex_pump.py`. In this notebook, we will:\n",
    "\n",
    "- Load an environment and model\n",
    "- Simulate the system in nominal and faulty scenarios\n",
    "- Visualize and quantify the results\n",
    "\n",
    "```\n",
    "Copyright © 2024, United States Government, as represented by the Administrator of the National Aeronautics and Space Administration. All rights reserved.\n",
    "\n",
    "The “\"Fault Model Design tools - fmdtools version 2\"” software is licensed under the Apache License, Version 2.0 (the \"License\"); you may not use this file except in compliance with the License. You may obtain a copy of the License at http://www.apache.org/licenses/LICENSE-2.0. \n",
    "\n",
    "Unless required by applicable law or agreed to in writing, software distributed under the License is distributed on an \"AS IS\" BASIS, WITHOUT WARRANTIES OR CONDITIONS OF ANY KIND, either express or implied. See the License for the specific language governing permissions and limitations under the License.\n",
    "```"
   ]
  },
  {
   "cell_type": "markdown",
   "metadata": {},
   "source": [
    "## 1.) Loading the environment and model\n",
    "\n",
    "To load the `fmdtools` environment, we have to install and import it. This can be accomplished using `pip` for both the stable and development versions:"
   ]
  },
  {
   "cell_type": "code",
   "execution_count": 1,
   "metadata": {
    "execution": {
     "iopub.execute_input": "2024-10-21T23:54:47.850160Z",
     "iopub.status.busy": "2024-10-21T23:54:47.850160Z",
     "iopub.status.idle": "2024-10-21T23:54:47.859670Z",
     "shell.execute_reply": "2024-10-21T23:54:47.859670Z"
    }
   },
   "outputs": [],
   "source": [
    "##Stable (PyPl) version\n",
    "# pip install fmdtools\n",
    "\n",
    "##Development version (downloaded from git)\n",
    "# pip install -e /path/to/fmdtools ##Note that /path/to/fmdtools is the path to the fmdtools repo"
   ]
  },
  {
   "cell_type": "markdown",
   "metadata": {},
   "source": [
    "There are a number of different syntaxes for importing modules. Because of the long names of the module trees, it is often helpful to load the modules individually and abbreviate (e.g. ``import fmdtools.sim.propagate as propagate``). Below, import the propagate `fmdtools.sim.propagate` and `fmdtools.analyze` modules, as well as sampling using the `fmdtools.sim.sample` module."
   ]
  },
  {
   "cell_type": "code",
   "execution_count": 2,
   "metadata": {
    "execution": {
     "iopub.execute_input": "2024-10-21T23:54:47.862670Z",
     "iopub.status.busy": "2024-10-21T23:54:47.862670Z",
     "iopub.status.idle": "2024-10-21T23:54:51.556009Z",
     "shell.execute_reply": "2024-10-21T23:54:51.555009Z"
    }
   },
   "outputs": [
    {
     "ename": "ImportError",
     "evalue": "DLL load failed while importing _path: The specified module could not be found.",
     "output_type": "error",
     "traceback": [
      "\u001b[1;31m---------------------------------------------------------------------------\u001b[0m",
      "\u001b[1;31mImportError\u001b[0m                               Traceback (most recent call last)",
      "Cell \u001b[1;32mIn[2], line 1\u001b[0m\n\u001b[1;32m----> 1\u001b[0m \u001b[38;5;28;01mimport\u001b[39;00m \u001b[38;5;21;01mfmdtools\u001b[39;00m\u001b[38;5;21;01m.\u001b[39;00m\u001b[38;5;21;01msim\u001b[39;00m\u001b[38;5;21;01m.\u001b[39;00m\u001b[38;5;21;01mpropagate\u001b[39;00m \u001b[38;5;28;01mas\u001b[39;00m \u001b[38;5;21;01mpropagate\u001b[39;00m\n\u001b[0;32m      2\u001b[0m \u001b[38;5;28;01mfrom\u001b[39;00m \u001b[38;5;21;01mfmdtools\u001b[39;00m\u001b[38;5;21;01m.\u001b[39;00m\u001b[38;5;21;01msim\u001b[39;00m\u001b[38;5;21;01m.\u001b[39;00m\u001b[38;5;21;01msample\u001b[39;00m \u001b[38;5;28;01mimport\u001b[39;00m FaultDomain, FaultSample\n\u001b[0;32m      3\u001b[0m \u001b[38;5;28;01mfrom\u001b[39;00m \u001b[38;5;21;01mfmdtools\u001b[39;00m\u001b[38;5;21;01m.\u001b[39;00m\u001b[38;5;21;01manalyze\u001b[39;00m\u001b[38;5;21;01m.\u001b[39;00m\u001b[38;5;21;01mphases\u001b[39;00m \u001b[38;5;28;01mimport\u001b[39;00m PhaseMap\n",
      "File \u001b[1;32mc:\\users\\dhulse\\documents\\github\\fmdtools\\fmdtools\\__init__.py:20\u001b[0m\n\u001b[0;32m      1\u001b[0m \u001b[38;5;66;03m#!/usr/bin/env python\u001b[39;00m\n\u001b[0;32m      2\u001b[0m \u001b[38;5;66;03m# -*- coding: utf-8 -*-\u001b[39;00m\n\u001b[0;32m      3\u001b[0m \u001b[38;5;124;03m\"\"\"\u001b[39;00m\n\u001b[0;32m      4\u001b[0m \u001b[38;5;124;03mResilience Modelling, Simulation, and Analysis in Python.\u001b[39;00m\n\u001b[0;32m      5\u001b[0m \n\u001b[1;32m   (...)\u001b[0m\n\u001b[0;32m     17\u001b[0m \u001b[38;5;124;03mspecific language governing permissions and limitations under the License.\u001b[39;00m\n\u001b[0;32m     18\u001b[0m \u001b[38;5;124;03m\"\"\"\u001b[39;00m\n\u001b[1;32m---> 20\u001b[0m \u001b[38;5;28;01mimport\u001b[39;00m \u001b[38;5;21;01mfmdtools\u001b[39;00m\u001b[38;5;21;01m.\u001b[39;00m\u001b[38;5;21;01mdefine\u001b[39;00m \u001b[38;5;28;01mas\u001b[39;00m \u001b[38;5;21;01mdefine\u001b[39;00m\n\u001b[0;32m     21\u001b[0m \u001b[38;5;28;01mimport\u001b[39;00m \u001b[38;5;21;01mfmdtools\u001b[39;00m\u001b[38;5;21;01m.\u001b[39;00m\u001b[38;5;21;01msim\u001b[39;00m \u001b[38;5;28;01mas\u001b[39;00m \u001b[38;5;21;01msim\u001b[39;00m\n\u001b[0;32m     22\u001b[0m \u001b[38;5;28;01mimport\u001b[39;00m \u001b[38;5;21;01mfmdtools\u001b[39;00m\u001b[38;5;21;01m.\u001b[39;00m\u001b[38;5;21;01manalyze\u001b[39;00m \u001b[38;5;28;01mas\u001b[39;00m \u001b[38;5;21;01manalyze\u001b[39;00m\n",
      "File \u001b[1;32mc:\\users\\dhulse\\documents\\github\\fmdtools\\fmdtools\\define\\__init__.py:21\u001b[0m\n\u001b[0;32m      3\u001b[0m \u001b[38;5;124;03m\"\"\"\u001b[39;00m\n\u001b[0;32m      4\u001b[0m \u001b[38;5;124;03mPackage for modelling system structure and behavior.\u001b[39;00m\n\u001b[0;32m      5\u001b[0m \n\u001b[1;32m   (...)\u001b[0m\n\u001b[0;32m     17\u001b[0m \u001b[38;5;124;03mspecific language governing permissions and limitations under the License.\u001b[39;00m\n\u001b[0;32m     18\u001b[0m \u001b[38;5;124;03m\"\"\"\u001b[39;00m\n\u001b[0;32m     20\u001b[0m \u001b[38;5;28;01mfrom\u001b[39;00m \u001b[38;5;21;01mfmdtools\u001b[39;00m\u001b[38;5;21;01m.\u001b[39;00m\u001b[38;5;21;01mdefine\u001b[39;00m \u001b[38;5;28;01mimport\u001b[39;00m base\n\u001b[1;32m---> 21\u001b[0m \u001b[38;5;28;01mimport\u001b[39;00m \u001b[38;5;21;01mfmdtools\u001b[39;00m\u001b[38;5;21;01m.\u001b[39;00m\u001b[38;5;21;01mdefine\u001b[39;00m\u001b[38;5;21;01m.\u001b[39;00m\u001b[38;5;21;01mobject\u001b[39;00m \u001b[38;5;28;01mas\u001b[39;00m \u001b[38;5;21;01mobject\u001b[39;00m\n\u001b[0;32m     22\u001b[0m \u001b[38;5;28;01mimport\u001b[39;00m \u001b[38;5;21;01mfmdtools\u001b[39;00m\u001b[38;5;21;01m.\u001b[39;00m\u001b[38;5;21;01mdefine\u001b[39;00m\u001b[38;5;21;01m.\u001b[39;00m\u001b[38;5;21;01mcontainer\u001b[39;00m \u001b[38;5;28;01mas\u001b[39;00m \u001b[38;5;21;01mcontainer\u001b[39;00m\n\u001b[0;32m     23\u001b[0m \u001b[38;5;28;01mimport\u001b[39;00m \u001b[38;5;21;01mfmdtools\u001b[39;00m\u001b[38;5;21;01m.\u001b[39;00m\u001b[38;5;21;01mdefine\u001b[39;00m\u001b[38;5;21;01m.\u001b[39;00m\u001b[38;5;21;01mflow\u001b[39;00m \u001b[38;5;28;01mas\u001b[39;00m \u001b[38;5;21;01mflow\u001b[39;00m\n",
      "File \u001b[1;32mc:\\users\\dhulse\\documents\\github\\fmdtools\\fmdtools\\define\\object\\__init__.py:20\u001b[0m\n\u001b[0;32m      1\u001b[0m \u001b[38;5;66;03m#!/usr/bin/env python\u001b[39;00m\n\u001b[0;32m      2\u001b[0m \u001b[38;5;66;03m# -*- coding: utf-8 -*-\u001b[39;00m\n\u001b[0;32m      3\u001b[0m \u001b[38;5;124;03m\"\"\"\u001b[39;00m\n\u001b[0;32m      4\u001b[0m \u001b[38;5;124;03mPackage defining various model building blocks.\u001b[39;00m\n\u001b[0;32m      5\u001b[0m \n\u001b[1;32m   (...)\u001b[0m\n\u001b[0;32m     17\u001b[0m \u001b[38;5;124;03mspecific language governing permissions and limitations under the License.\u001b[39;00m\n\u001b[0;32m     18\u001b[0m \u001b[38;5;124;03m\"\"\"\u001b[39;00m\n\u001b[1;32m---> 20\u001b[0m \u001b[38;5;28;01mimport\u001b[39;00m \u001b[38;5;21;01mfmdtools\u001b[39;00m\u001b[38;5;21;01m.\u001b[39;00m\u001b[38;5;21;01mdefine\u001b[39;00m\u001b[38;5;21;01m.\u001b[39;00m\u001b[38;5;21;01mobject\u001b[39;00m\u001b[38;5;21;01m.\u001b[39;00m\u001b[38;5;21;01mbase\u001b[39;00m \u001b[38;5;28;01mas\u001b[39;00m \u001b[38;5;21;01mbase\u001b[39;00m\n\u001b[0;32m     21\u001b[0m \u001b[38;5;28;01mimport\u001b[39;00m \u001b[38;5;21;01mfmdtools\u001b[39;00m\u001b[38;5;21;01m.\u001b[39;00m\u001b[38;5;21;01mdefine\u001b[39;00m\u001b[38;5;21;01m.\u001b[39;00m\u001b[38;5;21;01mobject\u001b[39;00m\u001b[38;5;21;01m.\u001b[39;00m\u001b[38;5;21;01mcoords\u001b[39;00m \u001b[38;5;28;01mas\u001b[39;00m \u001b[38;5;21;01mcoords\u001b[39;00m\n\u001b[0;32m     22\u001b[0m \u001b[38;5;28;01mimport\u001b[39;00m \u001b[38;5;21;01mfmdtools\u001b[39;00m\u001b[38;5;21;01m.\u001b[39;00m\u001b[38;5;21;01mdefine\u001b[39;00m\u001b[38;5;21;01m.\u001b[39;00m\u001b[38;5;21;01mobject\u001b[39;00m\u001b[38;5;21;01m.\u001b[39;00m\u001b[38;5;21;01mgeom\u001b[39;00m \u001b[38;5;28;01mas\u001b[39;00m \u001b[38;5;21;01mgeom\u001b[39;00m\n",
      "File \u001b[1;32mc:\\users\\dhulse\\documents\\github\\fmdtools\\fmdtools\\define\\object\\base.py:31\u001b[0m\n\u001b[0;32m      3\u001b[0m \u001b[38;5;124;03m\"\"\"\u001b[39;00m\n\u001b[0;32m      4\u001b[0m \u001b[38;5;124;03mDefines :class:`BaseObject` class used to define objects.\u001b[39;00m\n\u001b[0;32m      5\u001b[0m \n\u001b[1;32m   (...)\u001b[0m\n\u001b[0;32m     27\u001b[0m \u001b[38;5;124;03mspecific language governing permissions and limitations under the License.\u001b[39;00m\n\u001b[0;32m     28\u001b[0m \u001b[38;5;124;03m\"\"\"\u001b[39;00m\n\u001b[0;32m     30\u001b[0m \u001b[38;5;28;01mfrom\u001b[39;00m \u001b[38;5;21;01mfmdtools\u001b[39;00m\u001b[38;5;21;01m.\u001b[39;00m\u001b[38;5;21;01mdefine\u001b[39;00m\u001b[38;5;21;01m.\u001b[39;00m\u001b[38;5;21;01mbase\u001b[39;00m \u001b[38;5;28;01mimport\u001b[39;00m get_var, get_methods, get_obj_name, get_memory\n\u001b[1;32m---> 31\u001b[0m \u001b[38;5;28;01mfrom\u001b[39;00m \u001b[38;5;21;01mfmdtools\u001b[39;00m\u001b[38;5;21;01m.\u001b[39;00m\u001b[38;5;21;01manalyze\u001b[39;00m\u001b[38;5;21;01m.\u001b[39;00m\u001b[38;5;21;01mcommon\u001b[39;00m \u001b[38;5;28;01mimport\u001b[39;00m get_sub_include\n\u001b[0;32m     32\u001b[0m \u001b[38;5;28;01mfrom\u001b[39;00m \u001b[38;5;21;01mfmdtools\u001b[39;00m\u001b[38;5;21;01m.\u001b[39;00m\u001b[38;5;21;01manalyze\u001b[39;00m\u001b[38;5;21;01m.\u001b[39;00m\u001b[38;5;21;01mhistory\u001b[39;00m \u001b[38;5;28;01mimport\u001b[39;00m History\n\u001b[0;32m     33\u001b[0m \u001b[38;5;28;01mfrom\u001b[39;00m \u001b[38;5;21;01mfmdtools\u001b[39;00m\u001b[38;5;21;01m.\u001b[39;00m\u001b[38;5;21;01manalyze\u001b[39;00m\u001b[38;5;21;01m.\u001b[39;00m\u001b[38;5;21;01mgraph\u001b[39;00m\u001b[38;5;21;01m.\u001b[39;00m\u001b[38;5;21;01mmodel\u001b[39;00m \u001b[38;5;28;01mimport\u001b[39;00m add_node, add_edge, remove_base, ModelGraph\n",
      "File \u001b[1;32mc:\\users\\dhulse\\documents\\github\\fmdtools\\fmdtools\\analyze\\__init__.py:20\u001b[0m\n\u001b[0;32m      1\u001b[0m \u001b[38;5;66;03m#!/usr/bin/env python\u001b[39;00m\n\u001b[0;32m      2\u001b[0m \u001b[38;5;66;03m# -*- coding: utf-8 -*-\u001b[39;00m\n\u001b[0;32m      3\u001b[0m \u001b[38;5;124;03m\"\"\"\u001b[39;00m\n\u001b[0;32m      4\u001b[0m \u001b[38;5;124;03mPackage for analyzing simulation results.\u001b[39;00m\n\u001b[0;32m      5\u001b[0m \n\u001b[1;32m   (...)\u001b[0m\n\u001b[0;32m     17\u001b[0m \u001b[38;5;124;03mspecific language governing permissions and limitations under the License.\u001b[39;00m\n\u001b[0;32m     18\u001b[0m \u001b[38;5;124;03m\"\"\"\u001b[39;00m\n\u001b[1;32m---> 20\u001b[0m \u001b[38;5;28;01mfrom\u001b[39;00m \u001b[38;5;21;01mfmdtools\u001b[39;00m\u001b[38;5;21;01m.\u001b[39;00m\u001b[38;5;21;01manalyze\u001b[39;00m \u001b[38;5;28;01mimport\u001b[39;00m common\n\u001b[0;32m     21\u001b[0m \u001b[38;5;28;01mfrom\u001b[39;00m \u001b[38;5;21;01mfmdtools\u001b[39;00m\u001b[38;5;21;01m.\u001b[39;00m\u001b[38;5;21;01manalyze\u001b[39;00m \u001b[38;5;28;01mimport\u001b[39;00m result\n\u001b[0;32m     22\u001b[0m \u001b[38;5;28;01mfrom\u001b[39;00m \u001b[38;5;21;01mfmdtools\u001b[39;00m\u001b[38;5;21;01m.\u001b[39;00m\u001b[38;5;21;01manalyze\u001b[39;00m \u001b[38;5;28;01mimport\u001b[39;00m history\n",
      "File \u001b[1;32mc:\\users\\dhulse\\documents\\github\\fmdtools\\fmdtools\\analyze\\common.py:35\u001b[0m\n\u001b[0;32m      3\u001b[0m \u001b[38;5;124;03m\"\"\"\u001b[39;00m\n\u001b[0;32m      4\u001b[0m \u001b[38;5;124;03mSome common methods for analysis used by other modules.\u001b[39;00m\n\u001b[0;32m      5\u001b[0m \n\u001b[1;32m   (...)\u001b[0m\n\u001b[0;32m     32\u001b[0m \u001b[38;5;124;03mspecific language governing permissions and limitations under the License.\u001b[39;00m\n\u001b[0;32m     33\u001b[0m \u001b[38;5;124;03m\"\"\"\u001b[39;00m\n\u001b[0;32m     34\u001b[0m \u001b[38;5;28;01mimport\u001b[39;00m \u001b[38;5;21;01mnumpy\u001b[39;00m \u001b[38;5;28;01mas\u001b[39;00m \u001b[38;5;21;01mnp\u001b[39;00m\n\u001b[1;32m---> 35\u001b[0m \u001b[38;5;28;01mimport\u001b[39;00m \u001b[38;5;21;01mmatplotlib\u001b[39;00m\u001b[38;5;21;01m.\u001b[39;00m\u001b[38;5;21;01mpyplot\u001b[39;00m \u001b[38;5;28;01mas\u001b[39;00m \u001b[38;5;21;01mplt\u001b[39;00m\n\u001b[0;32m     38\u001b[0m plt\u001b[38;5;241m.\u001b[39mrcParams[\u001b[38;5;124m'\u001b[39m\u001b[38;5;124mpdf.fonttype\u001b[39m\u001b[38;5;124m'\u001b[39m] \u001b[38;5;241m=\u001b[39m \u001b[38;5;241m42\u001b[39m\n\u001b[0;32m     41\u001b[0m \u001b[38;5;28;01mdef\u001b[39;00m \u001b[38;5;21mget_sub_include\u001b[39m(att, to_include):\n",
      "File \u001b[1;32m~\\AppData\\Roaming\\Python\\Python310\\site-packages\\matplotlib\\__init__.py:144\u001b[0m\n\u001b[0;32m    140\u001b[0m \u001b[38;5;28;01mfrom\u001b[39;00m \u001b[38;5;21;01mpackaging\u001b[39;00m\u001b[38;5;21;01m.\u001b[39;00m\u001b[38;5;21;01mversion\u001b[39;00m \u001b[38;5;28;01mimport\u001b[39;00m parse \u001b[38;5;28;01mas\u001b[39;00m parse_version\n\u001b[0;32m    142\u001b[0m \u001b[38;5;66;03m# cbook must import matplotlib only within function\u001b[39;00m\n\u001b[0;32m    143\u001b[0m \u001b[38;5;66;03m# definitions, so it is safe to import from it here.\u001b[39;00m\n\u001b[1;32m--> 144\u001b[0m \u001b[38;5;28;01mfrom\u001b[39;00m \u001b[38;5;21;01m.\u001b[39;00m \u001b[38;5;28;01mimport\u001b[39;00m _api, _version, cbook, _docstring, rcsetup\n\u001b[0;32m    145\u001b[0m \u001b[38;5;28;01mfrom\u001b[39;00m \u001b[38;5;21;01mmatplotlib\u001b[39;00m\u001b[38;5;21;01m.\u001b[39;00m\u001b[38;5;21;01mcbook\u001b[39;00m \u001b[38;5;28;01mimport\u001b[39;00m sanitize_sequence\n\u001b[0;32m    146\u001b[0m \u001b[38;5;28;01mfrom\u001b[39;00m \u001b[38;5;21;01mmatplotlib\u001b[39;00m\u001b[38;5;21;01m.\u001b[39;00m\u001b[38;5;21;01m_api\u001b[39;00m \u001b[38;5;28;01mimport\u001b[39;00m MatplotlibDeprecationWarning\n",
      "File \u001b[1;32m~\\AppData\\Roaming\\Python\\Python310\\site-packages\\matplotlib\\rcsetup.py:27\u001b[0m\n\u001b[0;32m     25\u001b[0m \u001b[38;5;28;01mfrom\u001b[39;00m \u001b[38;5;21;01mmatplotlib\u001b[39;00m \u001b[38;5;28;01mimport\u001b[39;00m _api, cbook\n\u001b[0;32m     26\u001b[0m \u001b[38;5;28;01mfrom\u001b[39;00m \u001b[38;5;21;01mmatplotlib\u001b[39;00m\u001b[38;5;21;01m.\u001b[39;00m\u001b[38;5;21;01mcbook\u001b[39;00m \u001b[38;5;28;01mimport\u001b[39;00m ls_mapper\n\u001b[1;32m---> 27\u001b[0m \u001b[38;5;28;01mfrom\u001b[39;00m \u001b[38;5;21;01mmatplotlib\u001b[39;00m\u001b[38;5;21;01m.\u001b[39;00m\u001b[38;5;21;01mcolors\u001b[39;00m \u001b[38;5;28;01mimport\u001b[39;00m Colormap, is_color_like\n\u001b[0;32m     28\u001b[0m \u001b[38;5;28;01mfrom\u001b[39;00m \u001b[38;5;21;01mmatplotlib\u001b[39;00m\u001b[38;5;21;01m.\u001b[39;00m\u001b[38;5;21;01m_fontconfig_pattern\u001b[39;00m \u001b[38;5;28;01mimport\u001b[39;00m parse_fontconfig_pattern\n\u001b[0;32m     29\u001b[0m \u001b[38;5;28;01mfrom\u001b[39;00m \u001b[38;5;21;01mmatplotlib\u001b[39;00m\u001b[38;5;21;01m.\u001b[39;00m\u001b[38;5;21;01m_enums\u001b[39;00m \u001b[38;5;28;01mimport\u001b[39;00m JoinStyle, CapStyle\n",
      "File \u001b[1;32m~\\AppData\\Roaming\\Python\\Python310\\site-packages\\matplotlib\\colors.py:57\u001b[0m\n\u001b[0;32m     55\u001b[0m \u001b[38;5;28;01mimport\u001b[39;00m \u001b[38;5;21;01mmatplotlib\u001b[39;00m \u001b[38;5;28;01mas\u001b[39;00m \u001b[38;5;21;01mmpl\u001b[39;00m\n\u001b[0;32m     56\u001b[0m \u001b[38;5;28;01mimport\u001b[39;00m \u001b[38;5;21;01mnumpy\u001b[39;00m \u001b[38;5;28;01mas\u001b[39;00m \u001b[38;5;21;01mnp\u001b[39;00m\n\u001b[1;32m---> 57\u001b[0m \u001b[38;5;28;01mfrom\u001b[39;00m \u001b[38;5;21;01mmatplotlib\u001b[39;00m \u001b[38;5;28;01mimport\u001b[39;00m _api, _cm, cbook, scale\n\u001b[0;32m     58\u001b[0m \u001b[38;5;28;01mfrom\u001b[39;00m \u001b[38;5;21;01m.\u001b[39;00m\u001b[38;5;21;01m_color_data\u001b[39;00m \u001b[38;5;28;01mimport\u001b[39;00m BASE_COLORS, TABLEAU_COLORS, CSS4_COLORS, XKCD_COLORS\n\u001b[0;32m     61\u001b[0m \u001b[38;5;28;01mclass\u001b[39;00m \u001b[38;5;21;01m_ColorMapping\u001b[39;00m(\u001b[38;5;28mdict\u001b[39m):\n",
      "File \u001b[1;32m~\\AppData\\Roaming\\Python\\Python310\\site-packages\\matplotlib\\scale.py:22\u001b[0m\n\u001b[0;32m     20\u001b[0m \u001b[38;5;28;01mimport\u001b[39;00m \u001b[38;5;21;01mmatplotlib\u001b[39;00m \u001b[38;5;28;01mas\u001b[39;00m \u001b[38;5;21;01mmpl\u001b[39;00m\n\u001b[0;32m     21\u001b[0m \u001b[38;5;28;01mfrom\u001b[39;00m \u001b[38;5;21;01mmatplotlib\u001b[39;00m \u001b[38;5;28;01mimport\u001b[39;00m _api, _docstring\n\u001b[1;32m---> 22\u001b[0m \u001b[38;5;28;01mfrom\u001b[39;00m \u001b[38;5;21;01mmatplotlib\u001b[39;00m\u001b[38;5;21;01m.\u001b[39;00m\u001b[38;5;21;01mticker\u001b[39;00m \u001b[38;5;28;01mimport\u001b[39;00m (\n\u001b[0;32m     23\u001b[0m     NullFormatter, ScalarFormatter, LogFormatterSciNotation, LogitFormatter,\n\u001b[0;32m     24\u001b[0m     NullLocator, LogLocator, AutoLocator, AutoMinorLocator,\n\u001b[0;32m     25\u001b[0m     SymmetricalLogLocator, AsinhLocator, LogitLocator)\n\u001b[0;32m     26\u001b[0m \u001b[38;5;28;01mfrom\u001b[39;00m \u001b[38;5;21;01mmatplotlib\u001b[39;00m\u001b[38;5;21;01m.\u001b[39;00m\u001b[38;5;21;01mtransforms\u001b[39;00m \u001b[38;5;28;01mimport\u001b[39;00m Transform, IdentityTransform\n\u001b[0;32m     29\u001b[0m \u001b[38;5;28;01mclass\u001b[39;00m \u001b[38;5;21;01mScaleBase\u001b[39;00m:\n",
      "File \u001b[1;32m~\\AppData\\Roaming\\Python\\Python310\\site-packages\\matplotlib\\ticker.py:138\u001b[0m\n\u001b[0;32m    136\u001b[0m \u001b[38;5;28;01mimport\u001b[39;00m \u001b[38;5;21;01mmatplotlib\u001b[39;00m \u001b[38;5;28;01mas\u001b[39;00m \u001b[38;5;21;01mmpl\u001b[39;00m\n\u001b[0;32m    137\u001b[0m \u001b[38;5;28;01mfrom\u001b[39;00m \u001b[38;5;21;01mmatplotlib\u001b[39;00m \u001b[38;5;28;01mimport\u001b[39;00m _api, cbook\n\u001b[1;32m--> 138\u001b[0m \u001b[38;5;28;01mfrom\u001b[39;00m \u001b[38;5;21;01mmatplotlib\u001b[39;00m \u001b[38;5;28;01mimport\u001b[39;00m transforms \u001b[38;5;28;01mas\u001b[39;00m mtransforms\n\u001b[0;32m    140\u001b[0m _log \u001b[38;5;241m=\u001b[39m logging\u001b[38;5;241m.\u001b[39mgetLogger(\u001b[38;5;18m__name__\u001b[39m)\n\u001b[0;32m    142\u001b[0m __all__ \u001b[38;5;241m=\u001b[39m (\u001b[38;5;124m'\u001b[39m\u001b[38;5;124mTickHelper\u001b[39m\u001b[38;5;124m'\u001b[39m, \u001b[38;5;124m'\u001b[39m\u001b[38;5;124mFormatter\u001b[39m\u001b[38;5;124m'\u001b[39m, \u001b[38;5;124m'\u001b[39m\u001b[38;5;124mFixedFormatter\u001b[39m\u001b[38;5;124m'\u001b[39m,\n\u001b[0;32m    143\u001b[0m            \u001b[38;5;124m'\u001b[39m\u001b[38;5;124mNullFormatter\u001b[39m\u001b[38;5;124m'\u001b[39m, \u001b[38;5;124m'\u001b[39m\u001b[38;5;124mFuncFormatter\u001b[39m\u001b[38;5;124m'\u001b[39m, \u001b[38;5;124m'\u001b[39m\u001b[38;5;124mFormatStrFormatter\u001b[39m\u001b[38;5;124m'\u001b[39m,\n\u001b[0;32m    144\u001b[0m            \u001b[38;5;124m'\u001b[39m\u001b[38;5;124mStrMethodFormatter\u001b[39m\u001b[38;5;124m'\u001b[39m, \u001b[38;5;124m'\u001b[39m\u001b[38;5;124mScalarFormatter\u001b[39m\u001b[38;5;124m'\u001b[39m, \u001b[38;5;124m'\u001b[39m\u001b[38;5;124mLogFormatter\u001b[39m\u001b[38;5;124m'\u001b[39m,\n\u001b[1;32m   (...)\u001b[0m\n\u001b[0;32m    150\u001b[0m            \u001b[38;5;124m'\u001b[39m\u001b[38;5;124mMultipleLocator\u001b[39m\u001b[38;5;124m'\u001b[39m, \u001b[38;5;124m'\u001b[39m\u001b[38;5;124mMaxNLocator\u001b[39m\u001b[38;5;124m'\u001b[39m, \u001b[38;5;124m'\u001b[39m\u001b[38;5;124mAutoMinorLocator\u001b[39m\u001b[38;5;124m'\u001b[39m,\n\u001b[0;32m    151\u001b[0m            \u001b[38;5;124m'\u001b[39m\u001b[38;5;124mSymmetricalLogLocator\u001b[39m\u001b[38;5;124m'\u001b[39m, \u001b[38;5;124m'\u001b[39m\u001b[38;5;124mAsinhLocator\u001b[39m\u001b[38;5;124m'\u001b[39m, \u001b[38;5;124m'\u001b[39m\u001b[38;5;124mLogitLocator\u001b[39m\u001b[38;5;124m'\u001b[39m)\n",
      "File \u001b[1;32m~\\AppData\\Roaming\\Python\\Python310\\site-packages\\matplotlib\\transforms.py:49\u001b[0m\n\u001b[0;32m     46\u001b[0m \u001b[38;5;28;01mfrom\u001b[39;00m \u001b[38;5;21;01mnumpy\u001b[39;00m\u001b[38;5;21;01m.\u001b[39;00m\u001b[38;5;21;01mlinalg\u001b[39;00m \u001b[38;5;28;01mimport\u001b[39;00m inv\n\u001b[0;32m     48\u001b[0m \u001b[38;5;28;01mfrom\u001b[39;00m \u001b[38;5;21;01mmatplotlib\u001b[39;00m \u001b[38;5;28;01mimport\u001b[39;00m _api\n\u001b[1;32m---> 49\u001b[0m \u001b[38;5;28;01mfrom\u001b[39;00m \u001b[38;5;21;01mmatplotlib\u001b[39;00m\u001b[38;5;21;01m.\u001b[39;00m\u001b[38;5;21;01m_path\u001b[39;00m \u001b[38;5;28;01mimport\u001b[39;00m (\n\u001b[0;32m     50\u001b[0m     affine_transform, count_bboxes_overlapping_bbox, update_path_extents)\n\u001b[0;32m     51\u001b[0m \u001b[38;5;28;01mfrom\u001b[39;00m \u001b[38;5;21;01m.\u001b[39;00m\u001b[38;5;21;01mpath\u001b[39;00m \u001b[38;5;28;01mimport\u001b[39;00m Path\n\u001b[0;32m     53\u001b[0m DEBUG \u001b[38;5;241m=\u001b[39m \u001b[38;5;28;01mFalse\u001b[39;00m\n",
      "\u001b[1;31mImportError\u001b[0m: DLL load failed while importing _path: The specified module could not be found."
     ]
    }
   ],
   "source": [
    "import fmdtools.sim.propagate as propagate\n",
    "from fmdtools.sim.sample import FaultDomain, FaultSample\n",
    "from fmdtools.analyze.phases import PhaseMap\n",
    "import fmdtools.analyze as an"
   ]
  },
  {
   "cell_type": "markdown",
   "metadata": {},
   "source": [
    "Now, import the Pump class defined in the ex_pump module."
   ]
  },
  {
   "cell_type": "code",
   "execution_count": 3,
   "metadata": {
    "execution": {
     "iopub.execute_input": "2024-10-21T23:31:30.714477Z",
     "iopub.status.busy": "2024-10-21T23:31:30.713477Z",
     "iopub.status.idle": "2024-10-21T23:31:31.629082Z",
     "shell.execute_reply": "2024-10-21T23:31:31.628577Z"
    }
   },
   "outputs": [],
   "source": [
    "from ex_pump import Pump"
   ]
  },
  {
   "cell_type": "markdown",
   "metadata": {},
   "source": [
    "We can then use that to instantiate a model object. See:"
   ]
  },
  {
   "cell_type": "code",
   "execution_count": 4,
   "metadata": {
    "execution": {
     "iopub.execute_input": "2024-08-22T16:12:08.175798Z",
     "iopub.status.busy": "2024-08-22T16:12:08.175798Z",
     "iopub.status.idle": "2024-08-22T16:12:08.185625Z",
     "shell.execute_reply": "2024-08-22T16:12:08.185625Z"
    }
   },
   "outputs": [],
   "source": [
    "mdl = Pump()"
   ]
  },
  {
   "cell_type": "markdown",
   "metadata": {},
   "source": [
    "To get started, it can be helpful to view some of the aspects of the model. Try `dir(mdl)`, `mdl.fxns`, `mdl.flows`, `mdl.graph`, etc."
   ]
  },
  {
   "cell_type": "code",
   "execution_count": 5,
   "metadata": {
    "execution": {
     "iopub.execute_input": "2024-08-22T16:12:08.185625Z",
     "iopub.status.busy": "2024-08-22T16:12:08.185625Z",
     "iopub.status.idle": "2024-08-22T16:12:08.194981Z",
     "shell.execute_reply": "2024-08-22T16:12:08.194981Z"
    }
   },
   "outputs": [],
   "source": [
    "mdl.fxns"
   ]
  },
  {
   "cell_type": "markdown",
   "metadata": {},
   "source": [
    "We can also view the run order to see how the model will be simulated. More details on run order are provided in [Model Structure Visualization Tutorial](../docs-source/Model_Structure_Visualization_Tutorial.ipynb), but in short static propagation functions simulate multiple times per time-step until the model converges, while dynamic propagation functions run once per timestep in a defined order."
   ]
  },
  {
   "cell_type": "code",
   "execution_count": 6,
   "metadata": {
    "execution": {
     "iopub.execute_input": "2024-08-22T16:12:08.194981Z",
     "iopub.status.busy": "2024-08-22T16:12:08.194981Z",
     "iopub.status.idle": "2024-08-22T16:12:08.204104Z",
     "shell.execute_reply": "2024-08-22T16:12:08.204104Z"
    }
   },
   "outputs": [],
   "source": [
    "mg = mdl.as_modelgraph()"
   ]
  },
  {
   "cell_type": "code",
   "execution_count": 7,
   "metadata": {
    "execution": {
     "iopub.execute_input": "2024-08-22T16:12:08.204104Z",
     "iopub.status.busy": "2024-08-22T16:12:08.204104Z",
     "iopub.status.idle": "2024-08-22T16:12:08.209816Z",
     "shell.execute_reply": "2024-08-22T16:12:08.209816Z"
    }
   },
   "outputs": [],
   "source": [
    "mg.set_exec_order(mdl)"
   ]
  },
  {
   "cell_type": "code",
   "execution_count": 8,
   "metadata": {
    "execution": {
     "iopub.execute_input": "2024-08-22T16:12:08.209816Z",
     "iopub.status.busy": "2024-08-22T16:12:08.209816Z",
     "iopub.status.idle": "2024-08-22T16:12:08.455893Z",
     "shell.execute_reply": "2024-08-22T16:12:08.455893Z"
    }
   },
   "outputs": [],
   "source": [
    "mg.draw()"
   ]
  },
  {
   "cell_type": "markdown",
   "metadata": {},
   "source": [
    "As shown, because all of the methods were defined as generic behaviors, they are each run in the static propagation step. No order is shown in the static step because the static propagation step iterates between model functions until the values have converged. Nevertheless, one can view the initial static order using:"
   ]
  },
  {
   "cell_type": "code",
   "execution_count": 9,
   "metadata": {
    "execution": {
     "iopub.execute_input": "2024-08-22T16:12:08.455893Z",
     "iopub.status.busy": "2024-08-22T16:12:08.455893Z",
     "iopub.status.idle": "2024-08-22T16:12:08.464264Z",
     "shell.execute_reply": "2024-08-22T16:12:08.464264Z"
    }
   },
   "outputs": [],
   "source": [
    "mdl.staticfxns"
   ]
  },
  {
   "cell_type": "markdown",
   "metadata": {},
   "source": [
    "and the dynamic step order (if there was one):"
   ]
  },
  {
   "cell_type": "code",
   "execution_count": 10,
   "metadata": {
    "execution": {
     "iopub.execute_input": "2024-08-22T16:12:08.464264Z",
     "iopub.status.busy": "2024-08-22T16:12:08.464264Z",
     "iopub.status.idle": "2024-08-22T16:12:08.471754Z",
     "shell.execute_reply": "2024-08-22T16:12:08.471754Z"
    }
   },
   "outputs": [],
   "source": [
    "mdl.dynamicfxns"
   ]
  },
  {
   "cell_type": "markdown",
   "metadata": {},
   "source": [
    "We can also instantiate this model with different parameters. In Pump model, these are defined in `PumpParam`"
   ]
  },
  {
   "cell_type": "code",
   "execution_count": 11,
   "metadata": {
    "execution": {
     "iopub.execute_input": "2024-08-22T16:12:08.471754Z",
     "iopub.status.busy": "2024-08-22T16:12:08.471754Z",
     "iopub.status.idle": "2024-08-22T16:12:08.479508Z",
     "shell.execute_reply": "2024-08-22T16:12:08.479508Z"
    }
   },
   "outputs": [],
   "source": [
    "from ex_pump import PumpParam\n",
    "p = PumpParam()\n",
    "p"
   ]
  },
  {
   "cell_type": "markdown",
   "metadata": {},
   "source": [
    "We can pass non-default parameters to the model (as well as other non-defaults, such as simulation parameters `SimParam` and random seeds) by passing them as dictionaries. In this case:"
   ]
  },
  {
   "cell_type": "code",
   "execution_count": 12,
   "metadata": {
    "execution": {
     "iopub.execute_input": "2024-08-22T16:12:08.479508Z",
     "iopub.status.busy": "2024-08-22T16:12:08.479508Z",
     "iopub.status.idle": "2024-08-22T16:12:08.491778Z",
     "shell.execute_reply": "2024-08-22T16:12:08.491778Z"
    }
   },
   "outputs": [],
   "source": [
    "mdl2 = Pump(p={'cost':('repair', 'water', 'ee'), 'delay':20})\n",
    "mdl2"
   ]
  },
  {
   "cell_type": "markdown",
   "metadata": {},
   "source": [
    "Note that, for a model:\n",
    "- `p` is the `Parameter` defining non-mutable attributes (which do not change over a simulation)\n",
    "- `sp` is the `SimParam` defining the simulation start, end, and end conditions\n",
    "- `r` is the `Rand` defining random variables (e.g., for setting a seed)"
   ]
  },
  {
   "cell_type": "markdown",
   "metadata": {},
   "source": [
    "## 2.), 3.), and 4.) Simulate and visualize the results!\n",
    "\n",
    "Now, we will use the methods in `propagate` and the visualization modules in `rd` to simulate the model and visualize the results."
   ]
  },
  {
   "cell_type": "markdown",
   "metadata": {},
   "source": [
    "### 2a.) Simulate nominal\n",
    "\n",
    "To simulate the model in the nominal scenario, use the `propagate.nominal` method, which returns:\n",
    "endresults, which is a result (or a dict of multiple results) specified by the `desired_result` option, e.g.:\n",
    "- 'endclass' (default), which provides the dict from `mdl.find_classification`\n",
    "- 'graph' or `fmdtools.define.graph.Graph` subclass for the model.\n",
    "- 'fxnname.varname'/'flowname.varname': which gets the values of these variables at a the end\n",
    "- a list of the above arguments (to return a dict of multiple)\n",
    "- a dict of lists (for multiple over time), e.g. `{time:[varnames,... 'endclass']}`\n",
    "\n",
    "and mdlhist, which is a history of model states specified by the `track` option. Some of these options include:\n",
    "- fxns'\n",
    "- 'flows' \n",
    "- 'all'\n",
    "- 'none'\n",
    "- 'valparams' (model states specified in mdl.valparams), \n",
    "- or a dict of form: `{'functions':{'fxn1':'att1'}, 'flows':{'flow1':'att1'}}`"
   ]
  },
  {
   "cell_type": "code",
   "execution_count": 13,
   "metadata": {
    "execution": {
     "iopub.execute_input": "2024-08-22T16:12:08.491778Z",
     "iopub.status.busy": "2024-08-22T16:12:08.491778Z",
     "iopub.status.idle": "2024-08-22T16:12:08.572304Z",
     "shell.execute_reply": "2024-08-22T16:12:08.572304Z"
    }
   },
   "outputs": [],
   "source": [
    "result_nominal, mdlhist_nominal=propagate.nominal(Pump(track=\"all\"), desired_result=\"endclass\")"
   ]
  },
  {
   "cell_type": "markdown",
   "metadata": {},
   "source": [
    "What do the results look like? Explore results structures using the `desired_results` and `track` arguments."
   ]
  },
  {
   "cell_type": "code",
   "execution_count": 14,
   "metadata": {
    "execution": {
     "iopub.execute_input": "2024-08-22T16:12:08.572304Z",
     "iopub.status.busy": "2024-08-22T16:12:08.572304Z",
     "iopub.status.idle": "2024-08-22T16:12:08.580258Z",
     "shell.execute_reply": "2024-08-22T16:12:08.580258Z"
    }
   },
   "outputs": [],
   "source": [
    "result_nominal"
   ]
  },
  {
   "cell_type": "markdown",
   "metadata": {},
   "source": [
    "Note that an `endclass` dictionary can take arbitrary form based on what is produced in `find_classification`. By default, we often return:\n",
    "- `rate`, which is the rate for the scenario calculated from the underlying fault probability model (defined in the `Mode` for each `Function`), \n",
    "- `cost`, which is some cost calculated based on the consequences of the scenario\n",
    "- `expected_cost`, which is the expected value of the cost of the scenario (i.e. `rate*cost`)."
   ]
  },
  {
   "cell_type": "code",
   "execution_count": 15,
   "metadata": {
    "execution": {
     "iopub.execute_input": "2024-08-22T16:12:08.580258Z",
     "iopub.status.busy": "2024-08-22T16:12:08.580258Z",
     "iopub.status.idle": "2024-08-22T16:12:08.587854Z",
     "shell.execute_reply": "2024-08-22T16:12:08.587854Z"
    }
   },
   "outputs": [],
   "source": [
    "mdlhist_nominal"
   ]
  },
  {
   "cell_type": "markdown",
   "metadata": {},
   "source": [
    "### 2b.) Visualize nominal model\n",
    "First, we can show the model graph using `Graph.draw` to see that it was set up correctly. We can do this both on the model graph itself (using `ModelGraph`) and the results of the nominal run (by passing `graph` as an argument in `desired_result`) to verify both are fault-free.\n",
    "\n",
    "Note that the underlying `Graph` classes are very flexible and enables a wide range of display options: \n",
    "- [Graph docs](https://nasa.github.io/fmdtools/docs-source/fmdtools.analyze.html#fmdtools.analyze.graph.model.ModelGraph)\n",
    "- [Graph.draw](https://nasa.github.io/fmdtools/docs-source/fmdtools.analyze.html#fmdtools.analyze.graph.base.Graph.draw)"
   ]
  },
  {
   "cell_type": "code",
   "execution_count": 16,
   "metadata": {
    "execution": {
     "iopub.execute_input": "2024-08-22T16:12:08.587854Z",
     "iopub.status.busy": "2024-08-22T16:12:08.587854Z",
     "iopub.status.idle": "2024-08-22T16:12:08.796926Z",
     "shell.execute_reply": "2024-08-22T16:12:08.796926Z"
    }
   },
   "outputs": [],
   "source": [
    "mg = mdl.as_modelgraph()\n",
    "mg.draw()"
   ]
  },
  {
   "cell_type": "markdown",
   "metadata": {},
   "source": [
    "We can also view the flow values of the model using `History.plot_line`\n",
    "\n",
    "\n",
    "It may be helpful to only view flows of interest."
   ]
  },
  {
   "cell_type": "code",
   "execution_count": 17,
   "metadata": {
    "execution": {
     "iopub.execute_input": "2024-08-22T16:12:08.796926Z",
     "iopub.status.busy": "2024-08-22T16:12:08.796926Z",
     "iopub.status.idle": "2024-08-22T16:12:09.115670Z",
     "shell.execute_reply": "2024-08-22T16:12:09.115670Z"
    }
   },
   "outputs": [],
   "source": [
    "fig = mdlhist_nominal.plot_line('flows.wat_1.s.flowrate', 'flows.wat_1.s.flowrate',\n",
    "                                'flows.ee_1.s.voltage', 'flows.ee_1.s.current')"
   ]
  },
  {
   "cell_type": "markdown",
   "metadata": {},
   "source": [
    "Note: for quick access to the syntax and options for these methods, type the `?method` or `help(method)` in the terminal. For example `?History.plot_line`"
   ]
  },
  {
   "cell_type": "markdown",
   "metadata": {},
   "source": [
    "### 2b.) Simulate a fault mode\n",
    "To simulate the model in a fault scenario, use the `propagate.one_fault` method. The set of possible faults is defined in the function definitions in `ex_pump.py`, and we can propagate a fault at any time in the operational interval (0-55 seconds).\n",
    "\n",
    "For example, below we simulate a short in the `MoveWater` function at time t=10:"
   ]
  },
  {
   "cell_type": "code",
   "execution_count": 18,
   "metadata": {
    "execution": {
     "iopub.execute_input": "2024-08-22T16:12:09.115670Z",
     "iopub.status.busy": "2024-08-22T16:12:09.115670Z",
     "iopub.status.idle": "2024-08-22T16:12:09.266418Z",
     "shell.execute_reply": "2024-08-22T16:12:09.266418Z"
    }
   },
   "outputs": [],
   "source": [
    "results_fault, mdlhist_fault=propagate.one_fault(Pump(track=\"all\"), 'move_water', 'short', time=10, \n",
    "                                                 desired_result=['endclass', 'graph'])"
   ]
  },
  {
   "cell_type": "markdown",
   "metadata": {},
   "source": [
    "We can also view the results for from this. In this case `mdlhist` gives a history of results for both the nominal and faulty runs."
   ]
  },
  {
   "cell_type": "code",
   "execution_count": 19,
   "metadata": {
    "execution": {
     "iopub.execute_input": "2024-08-22T16:12:09.266418Z",
     "iopub.status.busy": "2024-08-22T16:12:09.266418Z",
     "iopub.status.idle": "2024-08-22T16:12:09.275665Z",
     "shell.execute_reply": "2024-08-22T16:12:09.275665Z"
    }
   },
   "outputs": [],
   "source": [
    "results_fault"
   ]
  },
  {
   "cell_type": "code",
   "execution_count": 20,
   "metadata": {
    "execution": {
     "iopub.execute_input": "2024-08-22T16:12:09.275665Z",
     "iopub.status.busy": "2024-08-22T16:12:09.275665Z",
     "iopub.status.idle": "2024-08-22T16:12:09.284331Z",
     "shell.execute_reply": "2024-08-22T16:12:09.284331Z"
    }
   },
   "outputs": [],
   "source": [
    "mdlhist_fault"
   ]
  },
  {
   "cell_type": "markdown",
   "metadata": {},
   "source": [
    "### 3b.) Visualize fault model states\n",
    "`History.plot_line` also works for a mdlhists given from `propagate.one_fault`. We can view these results below. As shown, the function will give the nominal result in a blue dotted line and the faulty result in a red line."
   ]
  },
  {
   "cell_type": "code",
   "execution_count": 21,
   "metadata": {
    "execution": {
     "iopub.execute_input": "2024-08-22T16:12:09.284331Z",
     "iopub.status.busy": "2024-08-22T16:12:09.284331Z",
     "iopub.status.idle": "2024-08-22T16:12:09.607631Z",
     "shell.execute_reply": "2024-08-22T16:12:09.607631Z"
    }
   },
   "outputs": [],
   "source": [
    "fig, axs = mdlhist_fault.plot_line('flows.wat_1.s.flowrate', 'flows.wat_1.s.flowrate',\n",
    "                                   'flows.ee_1.s.voltage', 'flows.ee_1.s.current',\n",
    "                                   title='Pump Response to Motor Short Fault', \n",
    "                                   time_slice=[10], legend_loc=False)"
   ]
  },
  {
   "cell_type": "markdown",
   "metadata": {},
   "source": [
    "We can also view this result graph using `Graph.draw`. In this case, it shows the state of the model at the final time-step of the model run. Thus, while the `EE_1` flow is shown in orange (because it is off-nominal), the Water flows are not, because they have the same state at the final time-step."
   ]
  },
  {
   "cell_type": "code",
   "execution_count": 22,
   "metadata": {
    "execution": {
     "iopub.execute_input": "2024-08-22T16:12:09.607631Z",
     "iopub.status.busy": "2024-08-22T16:12:09.607631Z",
     "iopub.status.idle": "2024-08-22T16:12:09.911543Z",
     "shell.execute_reply": "2024-08-22T16:12:09.911543Z"
    }
   },
   "outputs": [],
   "source": [
    "results_fault.graph.draw()"
   ]
  },
  {
   "cell_type": "markdown",
   "metadata": {},
   "source": [
    "If we want to view the graph at another time-step, we can use `Graph.draw_from`, which will call `History.get_degraded_hist` to first process the model states into results which can be visualized and then map that onto a graph view at a given time."
   ]
  },
  {
   "cell_type": "code",
   "execution_count": 23,
   "metadata": {
    "execution": {
     "iopub.execute_input": "2024-08-22T16:12:09.911543Z",
     "iopub.status.busy": "2024-08-22T16:12:09.911543Z",
     "iopub.status.idle": "2024-08-22T16:12:10.179812Z",
     "shell.execute_reply": "2024-08-22T16:12:10.179812Z"
    }
   },
   "outputs": [],
   "source": [
    "fig, ax = mg.draw_from(20,mdlhist_fault)"
   ]
  },
  {
   "cell_type": "markdown",
   "metadata": {},
   "source": [
    "Note that multiple graph representations are available for the graph if desired..."
   ]
  },
  {
   "cell_type": "code",
   "execution_count": 24,
   "metadata": {
    "execution": {
     "iopub.execute_input": "2024-08-22T16:12:10.179812Z",
     "iopub.status.busy": "2024-08-22T16:12:10.179812Z",
     "iopub.status.idle": "2024-08-22T16:12:10.392598Z",
     "shell.execute_reply": "2024-08-22T16:12:10.392598Z"
    }
   },
   "outputs": [],
   "source": [
    "from fmdtools.define.architecture.function import FunctionArchitectureFxnGraph\n",
    "mg1 = FunctionArchitectureFxnGraph(mdl)\n",
    "fig, ax = mg1.draw_from(20, mdlhist_fault, rem_ind=0)"
   ]
  },
  {
   "cell_type": "markdown",
   "metadata": {},
   "source": [
    "### 4a.) Simulate set of fault modes\n",
    "\n",
    "To simulate the set of fault modes, we first choose a `FaultDomain` and `FaultSample`. For simplicity, we can choose default parameters at first."
   ]
  },
  {
   "cell_type": "code",
   "execution_count": 25,
   "metadata": {
    "execution": {
     "iopub.execute_input": "2024-08-22T16:12:10.392598Z",
     "iopub.status.busy": "2024-08-22T16:12:10.392598Z",
     "iopub.status.idle": "2024-08-22T16:12:10.400376Z",
     "shell.execute_reply": "2024-08-22T16:12:10.400376Z"
    }
   },
   "outputs": [],
   "source": [
    "fd = FaultDomain(mdl)\n",
    "fd.add_all()\n",
    "fd"
   ]
  },
  {
   "cell_type": "code",
   "execution_count": 26,
   "metadata": {
    "execution": {
     "iopub.execute_input": "2024-08-22T16:12:10.400376Z",
     "iopub.status.busy": "2024-08-22T16:12:10.400376Z",
     "iopub.status.idle": "2024-08-22T16:12:10.409558Z",
     "shell.execute_reply": "2024-08-22T16:12:10.409558Z"
    }
   },
   "outputs": [],
   "source": [
    "fs = FaultSample(fd, phasemap = PhaseMap(mdl.sp.phases))\n",
    "fs.add_fault_phases()\n",
    "fs"
   ]
  },
  {
   "cell_type": "code",
   "execution_count": 27,
   "metadata": {
    "execution": {
     "iopub.execute_input": "2024-08-22T16:12:10.409558Z",
     "iopub.status.busy": "2024-08-22T16:12:10.409558Z",
     "iopub.status.idle": "2024-08-22T16:12:11.847476Z",
     "shell.execute_reply": "2024-08-22T16:12:11.847476Z"
    }
   },
   "outputs": [],
   "source": [
    "endclasses_samp, mdlhists_samp = propagate.fault_sample(mdl, fs)"
   ]
  },
  {
   "cell_type": "markdown",
   "metadata": {},
   "source": [
    "It can be helpful to view what these results look like--a `Result` of faults injected at particular times with their correspnding `Result` dictionaries."
   ]
  },
  {
   "cell_type": "code",
   "execution_count": 28,
   "metadata": {
    "execution": {
     "iopub.execute_input": "2024-08-22T16:12:11.847476Z",
     "iopub.status.busy": "2024-08-22T16:12:11.847476Z",
     "iopub.status.idle": "2024-08-22T16:12:11.856230Z",
     "shell.execute_reply": "2024-08-22T16:12:11.856230Z"
    }
   },
   "outputs": [],
   "source": [
    "endclasses_samp"
   ]
  },
  {
   "cell_type": "markdown",
   "metadata": {},
   "source": [
    "We can look at/use a more structured version using:"
   ]
  },
  {
   "cell_type": "code",
   "execution_count": 29,
   "metadata": {
    "execution": {
     "iopub.execute_input": "2024-08-22T16:12:11.856230Z",
     "iopub.status.busy": "2024-08-22T16:12:11.856230Z",
     "iopub.status.idle": "2024-08-22T16:12:11.865573Z",
     "shell.execute_reply": "2024-08-22T16:12:11.865573Z"
    }
   },
   "outputs": [],
   "source": [
    "ec_nest = endclasses_samp.nest()\n",
    "ec_nest"
   ]
  },
  {
   "cell_type": "markdown",
   "metadata": {},
   "source": [
    "We often want to adjust the `FaultDomain` and `SampleApproach` to answer specific questions about the model (e.g. focussing on single faults, different numbers of sample points, etc). Both have different methods with options which can be changed to enable this, e.g.:"
   ]
  },
  {
   "cell_type": "code",
   "execution_count": 30,
   "metadata": {
    "execution": {
     "iopub.execute_input": "2024-08-22T16:12:11.865573Z",
     "iopub.status.busy": "2024-08-22T16:12:11.865573Z",
     "iopub.status.idle": "2024-08-22T16:12:11.872910Z",
     "shell.execute_reply": "2024-08-22T16:12:11.872910Z"
    }
   },
   "outputs": [],
   "source": [
    "fd2 = FaultDomain(mdl)\n",
    "fd2.add_fault('move_water', 'short')\n",
    "fd2"
   ]
  },
  {
   "cell_type": "code",
   "execution_count": 31,
   "metadata": {
    "execution": {
     "iopub.execute_input": "2024-08-22T16:12:11.872910Z",
     "iopub.status.busy": "2024-08-22T16:12:11.872910Z",
     "iopub.status.idle": "2024-08-22T16:12:11.881179Z",
     "shell.execute_reply": "2024-08-22T16:12:11.881179Z"
    }
   },
   "outputs": [],
   "source": [
    "fs2 = FaultSample(fd2, phasemap = PhaseMap(mdl.sp.phases))\n",
    "fs2.add_fault_phases(args=(4,))\n",
    "fs2"
   ]
  },
  {
   "cell_type": "markdown",
   "metadata": {},
   "source": [
    "There are a number of different ways to sample the scenarios in the approach:"
   ]
  },
  {
   "cell_type": "code",
   "execution_count": 32,
   "metadata": {
    "execution": {
     "iopub.execute_input": "2024-08-22T16:12:11.881179Z",
     "iopub.status.busy": "2024-08-22T16:12:11.881179Z",
     "iopub.status.idle": "2024-08-22T16:12:11.888377Z",
     "shell.execute_reply": "2024-08-22T16:12:11.888377Z"
    }
   },
   "outputs": [],
   "source": [
    "fs2.times"
   ]
  },
  {
   "cell_type": "markdown",
   "metadata": {},
   "source": [
    "### 4b.) Visualize set of fault modes\n",
    "\n",
    "Using this fault approach, we can now make an FMEA-like analyses of the different fault modes. The `an.tabulate.FMEA` class organizes endclasses such that you can create a table (or plot) for each fault."
   ]
  },
  {
   "cell_type": "code",
   "execution_count": 33,
   "metadata": {
    "execution": {
     "iopub.execute_input": "2024-08-22T16:12:11.888377Z",
     "iopub.status.busy": "2024-08-22T16:12:11.888377Z",
     "iopub.status.idle": "2024-08-22T16:12:11.907078Z",
     "shell.execute_reply": "2024-08-22T16:12:11.907078Z"
    }
   },
   "outputs": [],
   "source": [
    "summary_fmea = an.tabulate.FMEA(endclasses_samp, fs)\n",
    "summary_fmea.as_table()"
   ]
  },
  {
   "cell_type": "markdown",
   "metadata": {},
   "source": [
    "We can also use `an.tabulate.result_summary_fmea` with the processed results histories to get a better picture of which flows and functions degrade in each scenario. "
   ]
  },
  {
   "cell_type": "code",
   "execution_count": 34,
   "metadata": {
    "execution": {
     "iopub.execute_input": "2024-08-22T16:12:11.907078Z",
     "iopub.status.busy": "2024-08-22T16:12:11.907078Z",
     "iopub.status.idle": "2024-08-22T16:12:11.929779Z",
     "shell.execute_reply": "2024-08-22T16:12:11.929779Z"
    }
   },
   "outputs": [],
   "source": [
    "an.tabulate.result_summary_fmea(endclasses_samp, mdlhists_samp, *mdl.fxns, *mdl.flows)"
   ]
  },
  {
   "cell_type": "markdown",
   "metadata": {},
   "source": [
    "**Note that this is contingent on what we tracked in the history!** In the above model, we used the default, which is only a few variables defined in the model. \n",
    "\n",
    "If we tracked all, on the other hand, we would get the result below:"
   ]
  },
  {
   "cell_type": "code",
   "execution_count": 35,
   "metadata": {
    "execution": {
     "iopub.execute_input": "2024-08-22T16:12:11.929779Z",
     "iopub.status.busy": "2024-08-22T16:12:11.929779Z",
     "iopub.status.idle": "2024-08-22T16:12:13.401145Z",
     "shell.execute_reply": "2024-08-22T16:12:13.401145Z"
    }
   },
   "outputs": [],
   "source": [
    "endclasses_samp, mdlhists_samp = propagate.fault_sample(mdl, fs, track=\"all\")\n",
    "an.tabulate.result_summary_fmea(endclasses_samp, mdlhists_samp, *mdl.fxns, *mdl.flows)"
   ]
  },
  {
   "cell_type": "markdown",
   "metadata": {},
   "source": [
    "## 5.) Saving Work\n",
    "\n",
    "In computationally expensive simulations, running a lot of computational simulations can take a considerable amount of time. As a result, it becomes impractical to run a new simulation every time one wishes to analyse its data. Results from fmdtools simulations (endclasses or mdlhists) can be saved as pickle, csv, or json files in this instance using either:\n",
    "- `Result.save`/`History.save` or \n",
    "- passing a save_args dictionary to the respective propagate functions (e.g., `{'endclass':{'filename':'file.pkl','overwrite':True}`)\n",
    "\n",
    "and then loaded using:\n",
    "- `Result.load`/`History.load`"
   ]
  },
  {
   "cell_type": "markdown",
   "metadata": {},
   "source": [
    "For example, for this variable:"
   ]
  },
  {
   "cell_type": "code",
   "execution_count": 36,
   "metadata": {
    "execution": {
     "iopub.execute_input": "2024-08-22T16:12:13.401145Z",
     "iopub.status.busy": "2024-08-22T16:12:13.401145Z",
     "iopub.status.idle": "2024-08-22T16:12:13.409436Z",
     "shell.execute_reply": "2024-08-22T16:12:13.409436Z"
    },
    "scrolled": true
   },
   "outputs": [],
   "source": [
    "endclasses_samp"
   ]
  },
  {
   "cell_type": "code",
   "execution_count": 37,
   "metadata": {
    "execution": {
     "iopub.execute_input": "2024-08-22T16:12:13.409436Z",
     "iopub.status.busy": "2024-08-22T16:12:13.409436Z",
     "iopub.status.idle": "2024-08-22T16:12:13.417974Z",
     "shell.execute_reply": "2024-08-22T16:12:13.417974Z"
    }
   },
   "outputs": [],
   "source": [
    "endclasses_samp.save('tutorial_endclasses.csv', overwrite=True)"
   ]
  },
  {
   "cell_type": "code",
   "execution_count": 38,
   "metadata": {
    "execution": {
     "iopub.execute_input": "2024-08-22T16:12:13.417974Z",
     "iopub.status.busy": "2024-08-22T16:12:13.417974Z",
     "iopub.status.idle": "2024-08-22T16:12:13.430893Z",
     "shell.execute_reply": "2024-08-22T16:12:13.430893Z"
    }
   },
   "outputs": [],
   "source": [
    "endclasses_saved = an.result.Result.load('tutorial_endclasses.csv')"
   ]
  },
  {
   "cell_type": "code",
   "execution_count": 39,
   "metadata": {
    "execution": {
     "iopub.execute_input": "2024-08-22T16:12:13.430893Z",
     "iopub.status.busy": "2024-08-22T16:12:13.430893Z",
     "iopub.status.idle": "2024-08-22T16:12:13.440394Z",
     "shell.execute_reply": "2024-08-22T16:12:13.440394Z"
    }
   },
   "outputs": [],
   "source": [
    "endclasses_saved"
   ]
  }
 ],
 "metadata": {
  "kernelspec": {
   "display_name": "Python 3 (ipykernel)",
   "language": "python",
   "name": "python3"
  },
  "language_info": {
   "codemirror_mode": {
    "name": "ipython",
    "version": 3
   },
   "file_extension": ".py",
   "mimetype": "text/x-python",
   "name": "python",
   "nbconvert_exporter": "python",
   "pygments_lexer": "ipython3",
   "version": "3.10.9"
  },
  "vscode": {
   "interpreter": {
    "hash": "e91384d516de244e8027664e7296e7623a911fd9d79a3021d1ef03e3e53e2456"
   }
  }
 },
 "nbformat": 4,
 "nbformat_minor": 4
}
