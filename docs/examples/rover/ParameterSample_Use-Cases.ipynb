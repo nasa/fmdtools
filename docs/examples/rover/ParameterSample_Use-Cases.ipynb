{
 "cells": [
  {
   "cell_type": "markdown",
   "metadata": {},
   "source": [
    "# Defining Parameter Samples in fmdtools\n",
    "\n",
    "Parameter Samples are used to evaluate the performance of a model over a set of input parameters. It can then be used to do things like:\n",
    "- define/understand the operational envelope for different system parameters (i.e., what inputs can the system safely encounter)\n",
    "- quantify failure probabilities given stochastic inputs (i.e., if the statistical distribution of inputs are known, what is the resulting probability of hazards given the design)\n",
    "\n",
    "```\n",
    "Copyright © 2024, United States Government, as represented by the Administrator of the National Aeronautics and Space Administration. All rights reserved.\n",
    "\n",
    "The “\"Fault Model Design tools - fmdtools version 2\"” software is licensed under the Apache License, Version 2.0 (the \"License\"); you may not use this file except in compliance with the License. You may obtain a copy of the License at http://www.apache.org/licenses/LICENSE-2.0. \n",
    "\n",
    "Unless required by applicable law or agreed to in writing, software distributed under the License is distributed on an \"AS IS\" BASIS, WITHOUT WARRANTIES OR CONDITIONS OF ANY KIND, either express or implied. See the License for the specific language governing permissions and limitations under the License.\n",
    "```"
   ]
  },
  {
   "cell_type": "code",
   "execution_count": 1,
   "metadata": {
    "execution": {
     "iopub.execute_input": "2024-10-21T22:36:03.229874Z",
     "iopub.status.busy": "2024-10-21T22:36:03.229874Z",
     "iopub.status.idle": "2024-10-21T22:36:04.735745Z",
     "shell.execute_reply": "2024-10-21T22:36:04.735745Z"
    }
   },
   "outputs": [],
   "source": [
    "import fmdtools.sim.propagate as prop\n",
    "import inspect"
   ]
  },
  {
   "cell_type": "markdown",
   "metadata": {},
   "source": [
    "The rover model (`rover_model.py`) from the examples module will be used to demonstrate this approach. The main task of the rover is to follow a given line from a starting location to an ending location. "
   ]
  },
  {
   "cell_type": "code",
   "execution_count": 2,
   "metadata": {
    "execution": {
     "iopub.execute_input": "2024-10-21T22:36:04.741741Z",
     "iopub.status.busy": "2024-10-21T22:36:04.740759Z",
     "iopub.status.idle": "2024-10-21T22:36:04.749067Z",
     "shell.execute_reply": "2024-10-21T22:36:04.749067Z"
    }
   },
   "outputs": [],
   "source": [
    "from examples.rover.rover_model import Rover"
   ]
  },
  {
   "cell_type": "markdown",
   "metadata": {},
   "source": [
    "Additionally, this model has a corresponding `Parameter` class which generates the design parameters of the model given a reduced space of input parameters. "
   ]
  },
  {
   "cell_type": "code",
   "execution_count": 3,
   "metadata": {
    "execution": {
     "iopub.execute_input": "2024-10-21T22:36:04.754080Z",
     "iopub.status.busy": "2024-10-21T22:36:04.754080Z",
     "iopub.status.idle": "2024-10-21T22:36:04.767088Z",
     "shell.execute_reply": "2024-10-21T22:36:04.767088Z"
    }
   },
   "outputs": [
    {
     "name": "stdout",
     "output_type": "stream",
     "text": [
      "class RoverParam(Parameter):\n",
      "    \"\"\"Parameters for rover.\"\"\"\n",
      "\n",
      "    ground: GroundParam = GroundParam()\n",
      "    correction: ResCorrection = ResCorrection()\n",
      "    degradation: DegParam = DegParam()\n",
      "    drive_modes: dict = {\"mode_args\": \"set\"}\n",
      "\n",
      "    def __init__(self, *args, **kwargs):\n",
      "        super().__init__(*args, strict_immutability=False, **kwargs)\n",
      "\n"
     ]
    }
   ],
   "source": [
    "from examples.rover.rover_model import RoverParam\n",
    "print(inspect.getsource(RoverParam))"
   ]
  },
  {
   "cell_type": "markdown",
   "metadata": {},
   "source": [
    "This parameter is in turn made of other parameters:"
   ]
  },
  {
   "cell_type": "code",
   "execution_count": 4,
   "metadata": {
    "execution": {
     "iopub.execute_input": "2024-10-21T22:36:04.772083Z",
     "iopub.status.busy": "2024-10-21T22:36:04.772083Z",
     "iopub.status.idle": "2024-10-21T22:36:05.522684Z",
     "shell.execute_reply": "2024-10-21T22:36:05.521687Z"
    }
   },
   "outputs": [
    {
     "ename": "ModuleNotFoundError",
     "evalue": "No module named 'rover_model'",
     "output_type": "error",
     "traceback": [
      "\u001b[1;31m---------------------------------------------------------------------------\u001b[0m",
      "\u001b[1;31mModuleNotFoundError\u001b[0m                       Traceback (most recent call last)",
      "Cell \u001b[1;32mIn[4], line 1\u001b[0m\n\u001b[1;32m----> 1\u001b[0m \u001b[38;5;28;01mfrom\u001b[39;00m \u001b[38;5;21;01mrover_model\u001b[39;00m \u001b[38;5;28;01mimport\u001b[39;00m GroundParam\n\u001b[0;32m      2\u001b[0m \u001b[38;5;28mprint\u001b[39m(inspect\u001b[38;5;241m.\u001b[39mgetsource(GroundParam))\n",
      "\u001b[1;31mModuleNotFoundError\u001b[0m: No module named 'rover_model'"
     ]
    }
   ],
   "source": [
    "from rover_model import GroundParam\n",
    "print(inspect.getsource(GroundParam))"
   ]
  },
  {
   "cell_type": "markdown",
   "metadata": {},
   "source": [
    "Below shows the performance of the rover during a (default) turn with a radius of 20 meters that begins at 20 meters. As shown, there is a slight drift from the centerline, but not enough for the rover to get lost (that would take 1 meter of drift)."
   ]
  },
  {
   "cell_type": "code",
   "execution_count": 5,
   "metadata": {
    "execution": {
     "iopub.execute_input": "2024-08-22T16:25:39.669683Z",
     "iopub.status.busy": "2024-08-22T16:25:39.669683Z",
     "iopub.status.idle": "2024-08-22T16:25:39.910920Z",
     "shell.execute_reply": "2024-08-22T16:25:39.910920Z"
    }
   },
   "outputs": [],
   "source": [
    "p = RoverParam(ground=dict(linetype=\"turn\"))\n",
    "mdl = Rover(p=p)\n",
    "results, mdlhist = prop.nominal(mdl)"
   ]
  },
  {
   "cell_type": "code",
   "execution_count": 6,
   "metadata": {
    "execution": {
     "iopub.execute_input": "2024-08-22T16:25:39.910920Z",
     "iopub.status.busy": "2024-08-22T16:25:39.910920Z",
     "iopub.status.idle": "2024-08-22T16:25:40.102463Z",
     "shell.execute_reply": "2024-08-22T16:25:40.102463Z"
    }
   },
   "outputs": [],
   "source": [
    "fig, ax = mdlhist.plot_trajectories(\"flows.pos.s.x\", \"flows.pos.s.y\")\n",
    "mdl.flows['ground'].ga.show(fig=fig, ax=ax)"
   ]
  },
  {
   "cell_type": "markdown",
   "metadata": {},
   "source": [
    "Below shows the performance of the model over a sine wave. As shown, similar to the turn line type, the drift small enough to where the rover completes its mission within acceptable bounds."
   ]
  },
  {
   "cell_type": "code",
   "execution_count": 7,
   "metadata": {
    "execution": {
     "iopub.execute_input": "2024-08-22T16:25:40.102463Z",
     "iopub.status.busy": "2024-08-22T16:25:40.102463Z",
     "iopub.status.idle": "2024-08-22T16:25:40.493874Z",
     "shell.execute_reply": "2024-08-22T16:25:40.493874Z"
    }
   },
   "outputs": [],
   "source": [
    "p = RoverParam(ground=dict(linetype=\"sine\"))\n",
    "mdl = Rover(p=p)\n",
    "results, mdlhist = prop.nominal(mdl)\n",
    "fig, ax = mdlhist.plot_trajectories(\"flows.pos.s.x\", \"flows.pos.s.y\")\n",
    "mdl.flows['ground'].ga.show(fig=fig, ax=ax)"
   ]
  },
  {
   "cell_type": "markdown",
   "metadata": {},
   "source": [
    "The performance of the rover in these situations is dependent on the parameters of the situation (e.g., the radius of the curve and the amplitude of the sine wave). Thus, it is important to define the operational envelope for the system. This can be done using a `ParameterDomain`, which can be used to define ranges of variables to simulate the system under, and a `ParameterSample`, which then samples these ranges."
   ]
  },
  {
   "cell_type": "code",
   "execution_count": 8,
   "metadata": {
    "execution": {
     "iopub.execute_input": "2024-08-22T16:25:40.493874Z",
     "iopub.status.busy": "2024-08-22T16:25:40.493874Z",
     "iopub.status.idle": "2024-08-22T16:25:40.499923Z",
     "shell.execute_reply": "2024-08-22T16:25:40.499923Z"
    }
   },
   "outputs": [],
   "source": [
    "from fmdtools.sim.sample import ParameterDomain, ParameterSample"
   ]
  },
  {
   "cell_type": "markdown",
   "metadata": {},
   "source": [
    "In this approach we define a parameter domain for the sine wave scenario.\n",
    "\n",
    "Here we specify the linetype as sine (As a constant) and then add the variables \"amp\" and \"period\" which we will then sample:"
   ]
  },
  {
   "cell_type": "code",
   "execution_count": 9,
   "metadata": {
    "execution": {
     "iopub.execute_input": "2024-08-22T16:25:40.499923Z",
     "iopub.status.busy": "2024-08-22T16:25:40.499923Z",
     "iopub.status.idle": "2024-08-22T16:25:40.507289Z",
     "shell.execute_reply": "2024-08-22T16:25:40.507289Z"
    }
   },
   "outputs": [],
   "source": [
    "pd_sine = ParameterDomain(RoverParam)\n",
    "pd_sine.add_constant(\"ground.linetype\", \"sine\")\n",
    "pd_sine.add_variables(\"ground.amp\", \"ground.period\", lims={\"ground.amp\":(0, 8), \"ground.period\": (10, 50)})\n",
    "\n",
    "pd_sine"
   ]
  },
  {
   "cell_type": "markdown",
   "metadata": {},
   "source": [
    "These can then be sampled using the `ParameterSample`. \n",
    "\n",
    "Below we specify that we will sample the given variables in combination at certain resolutions:"
   ]
  },
  {
   "cell_type": "code",
   "execution_count": 10,
   "metadata": {
    "execution": {
     "iopub.execute_input": "2024-08-22T16:25:40.507289Z",
     "iopub.status.busy": "2024-08-22T16:25:40.507289Z",
     "iopub.status.idle": "2024-08-22T16:25:40.515636Z",
     "shell.execute_reply": "2024-08-22T16:25:40.515636Z"
    }
   },
   "outputs": [],
   "source": [
    "ps_sine = ParameterSample(pd_sine)\n",
    "ps_sine.add_variable_ranges(comb_kwargs={'resolutions':{'ground.amp': 0.5, \"ground.period\": 10}})\n",
    "\n",
    "ps_sine"
   ]
  },
  {
   "cell_type": "markdown",
   "metadata": {},
   "source": [
    "Notice that the properties of the scenarios are stored in their corresponding `ParameterScenario`s."
   ]
  },
  {
   "cell_type": "code",
   "execution_count": 11,
   "metadata": {
    "execution": {
     "iopub.execute_input": "2024-08-22T16:25:40.515636Z",
     "iopub.status.busy": "2024-08-22T16:25:40.515636Z",
     "iopub.status.idle": "2024-08-22T16:25:40.523650Z",
     "shell.execute_reply": "2024-08-22T16:25:40.523650Z"
    }
   },
   "outputs": [],
   "source": [
    "ps_sine.scenarios()"
   ]
  },
  {
   "cell_type": "markdown",
   "metadata": {},
   "source": [
    "ParameterSamples are sampled using `prop.parameter_sample`:"
   ]
  },
  {
   "cell_type": "code",
   "execution_count": 12,
   "metadata": {
    "execution": {
     "iopub.execute_input": "2024-08-22T16:25:40.523650Z",
     "iopub.status.busy": "2024-08-22T16:25:40.523650Z",
     "iopub.status.idle": "2024-08-22T16:26:01.681396Z",
     "shell.execute_reply": "2024-08-22T16:26:01.681396Z"
    }
   },
   "outputs": [],
   "source": [
    "res, hist = prop.parameter_sample(mdl, ps_sine)\n",
    "res"
   ]
  },
  {
   "cell_type": "markdown",
   "metadata": {},
   "source": [
    "To speed up execution over large numbers of scenarios, multiprocessing can also be used to run the scenarios in parallel by passing an execution pool. This is not done here because it would require the model to be in a different file, and because the gains on a light-weight model like this are not significant."
   ]
  },
  {
   "cell_type": "markdown",
   "metadata": {},
   "source": [
    "Now that the approach has been simulated, the operational envelope can be visualized using the `fmdtools.analyze.tabulate.NominalEnvelope` class, which can be used to plot the *classification* of the model in the 1/2/3 dimensions over the set of given parameters as nominal or incomplete. \n",
    "\n",
    "Note that this classification must be in the dictionary returned from the Model's `find_classification` function at the end of the model run under the key `classification` as is done in the rover model. This classification must also be encoded as a string."
   ]
  },
  {
   "cell_type": "code",
   "execution_count": 13,
   "metadata": {
    "execution": {
     "iopub.execute_input": "2024-08-22T16:26:01.681396Z",
     "iopub.status.busy": "2024-08-22T16:26:01.681396Z",
     "iopub.status.idle": "2024-08-22T16:26:01.688092Z",
     "shell.execute_reply": "2024-08-22T16:26:01.688092Z"
    }
   },
   "outputs": [],
   "source": [
    "from fmdtools.analyze.tabulate import NominalEnvelope"
   ]
  },
  {
   "cell_type": "markdown",
   "metadata": {},
   "source": [
    "We can then use these results to visualize the operational envelope for the system over each case. In this case, the parameter ranges of the sine wave are plotted, showing that the rover can only a low ration of amplitude to wavelenght."
   ]
  },
  {
   "cell_type": "code",
   "execution_count": 14,
   "metadata": {
    "execution": {
     "iopub.execute_input": "2024-08-22T16:26:01.688092Z",
     "iopub.status.busy": "2024-08-22T16:26:01.688092Z",
     "iopub.status.idle": "2024-08-22T16:26:02.316516Z",
     "shell.execute_reply": "2024-08-22T16:26:02.316516Z"
    }
   },
   "outputs": [],
   "source": [
    "ne = NominalEnvelope(ps_sine, res, 'at_finish', 'p.ground.amp', 'p.ground.period', func=lambda x: x == True)\n",
    "ne.as_plot()"
   ]
  },
  {
   "cell_type": "markdown",
   "metadata": {},
   "source": [
    "While this is helpful for plotting string classifications, we also might want to compare numeric quantities (e.g., costs, hazard probabilities, etc) over the set of factors. For this, `fmdtools.analyze.tabulate.Comparison` is used, which creates a comparison which can be visualized as a table or plot."
   ]
  },
  {
   "cell_type": "code",
   "execution_count": 15,
   "metadata": {
    "execution": {
     "iopub.execute_input": "2024-08-22T16:26:02.316516Z",
     "iopub.status.busy": "2024-08-22T16:26:02.316516Z",
     "iopub.status.idle": "2024-08-22T16:26:02.441748Z",
     "shell.execute_reply": "2024-08-22T16:26:02.441748Z"
    }
   },
   "outputs": [],
   "source": [
    "from fmdtools.analyze.tabulate import Comparison\n",
    "\n",
    "comp = Comparison(res, ps_sine, metrics=['end_dist', 'tot_deviation'], factors=['p.ground.amp', 'p.ground.period'])\n",
    "comp.sort_by_metric(\"end_dist\")\n",
    "comp.as_table()"
   ]
  },
  {
   "cell_type": "code",
   "execution_count": 16,
   "metadata": {
    "execution": {
     "iopub.execute_input": "2024-08-22T16:26:02.441748Z",
     "iopub.status.busy": "2024-08-22T16:26:02.441748Z",
     "iopub.status.idle": "2024-08-22T16:26:02.891576Z",
     "shell.execute_reply": "2024-08-22T16:26:02.891576Z"
    }
   },
   "outputs": [],
   "source": [
    "comp.sort_by_factor(\"p.ground.period\", reverse=True)\n",
    "comp.sort_by_factor(\"p.ground.amp\")\n",
    "fig, ax = comp.as_plot(\"end_dist\", color_factor = \"p.ground.period\", figsize=(20, 1))"
   ]
  },
  {
   "cell_type": "markdown",
   "metadata": {},
   "source": [
    "This table can also be summarized on individual factors:"
   ]
  },
  {
   "cell_type": "code",
   "execution_count": 17,
   "metadata": {
    "execution": {
     "iopub.execute_input": "2024-08-22T16:26:02.891576Z",
     "iopub.status.busy": "2024-08-22T16:26:02.891576Z",
     "iopub.status.idle": "2024-08-22T16:26:02.967459Z",
     "shell.execute_reply": "2024-08-22T16:26:02.967459Z"
    }
   },
   "outputs": [],
   "source": [
    "scomp = Comparison(res, ps_sine, metrics=['end_dist'], factors=['p.ground.amp'])\n",
    "scomp.sort_by_factor('p.ground.amp')\n",
    "scomp.as_table()"
   ]
  },
  {
   "cell_type": "code",
   "execution_count": 18,
   "metadata": {
    "execution": {
     "iopub.execute_input": "2024-08-22T16:26:02.967459Z",
     "iopub.status.busy": "2024-08-22T16:26:02.967459Z",
     "iopub.status.idle": "2024-08-22T16:26:03.105090Z",
     "shell.execute_reply": "2024-08-22T16:26:03.105090Z"
    }
   },
   "outputs": [],
   "source": [
    "scomp.as_plot(\"end_dist\")"
   ]
  },
  {
   "cell_type": "markdown",
   "metadata": {},
   "source": [
    "## Quantifying probabilities\n",
    "\n",
    "Given the ability to simulate over ranges, it can additionally be used to quantify probabilities of the different end-state classifications. `Result.state_probabilities()` can be used to quantify the probability these classifications."
   ]
  },
  {
   "cell_type": "code",
   "execution_count": 19,
   "metadata": {
    "execution": {
     "iopub.execute_input": "2024-08-22T16:26:03.105090Z",
     "iopub.status.busy": "2024-08-22T16:26:03.105090Z",
     "iopub.status.idle": "2024-08-22T16:26:03.121853Z",
     "shell.execute_reply": "2024-08-22T16:26:03.121853Z"
    }
   },
   "outputs": [],
   "source": [
    "res.state_probabilities()"
   ]
  },
  {
   "cell_type": "markdown",
   "metadata": {},
   "source": [
    "## Nested Scenario Sampling\n",
    "\n",
    "Thus far, we have introduced two types of samples \n",
    "- `FaultSample`, which is used to evaluate the system resilience to a set of faults\n",
    "- `ParameterSample`, which is used to evaluate system performance over a set of parameters\n",
    "\n",
    "These both have their limitations when used alone. Simulating a `FaultSample` using `propagate.fault_sample` solely evaluates evaluates fault-driven hazards in a single nominal set of parameters (which may not generalize) while simulating a `ParameterSample` using `propagate.parameter_sample` evaluates the systerm performance/resilience to external parameters (But not faults).\n",
    "\n",
    "To resolve these limitations, one can use a *nested* scenario sampling approach where a `SampleApproach` is simulated at each parameter level of a `ParameterSample`, giving the resilience of the system to faults over a set of operational parameters. This is called using the `propagate.nested_sample` method."
   ]
  },
  {
   "cell_type": "markdown",
   "metadata": {},
   "source": [
    "Here we use the nominal approach generated earlier with a default sampling approach to quantify resilience."
   ]
  },
  {
   "cell_type": "code",
   "execution_count": 20,
   "metadata": {
    "execution": {
     "iopub.execute_input": "2024-08-22T16:26:03.121853Z",
     "iopub.status.busy": "2024-08-22T16:26:03.121853Z",
     "iopub.status.idle": "2024-08-22T16:26:03.130150Z",
     "shell.execute_reply": "2024-08-22T16:26:03.130150Z"
    }
   },
   "outputs": [],
   "source": [
    "from fmdtools.sim.sample import SampleApproach\n",
    "sa = SampleApproach(mdl)\n",
    "# adding fault domains\n",
    "sa.add_faultdomain(\"power\", \"all_fxn_modes\", \"power\")\n",
    "sa.add_faultsample(\"power\", \"fault_times\", \"power\", [1,2])\n",
    "sa"
   ]
  },
  {
   "cell_type": "code",
   "execution_count": 21,
   "metadata": {
    "execution": {
     "iopub.execute_input": "2024-08-22T16:26:03.130150Z",
     "iopub.status.busy": "2024-08-22T16:26:03.130150Z",
     "iopub.status.idle": "2024-08-22T16:27:15.859897Z",
     "shell.execute_reply": "2024-08-22T16:27:15.859897Z"
    }
   },
   "outputs": [],
   "source": [
    "\n",
    "nest_res, nest_hist, apps = prop.nested_sample(mdl, ps_sine,\n",
    "                                               faultdomains = {\"power\": (('all_fxn_modes', 'power'), {})},\n",
    "                                               faultsamples = {\"power\": ((\"fault_times\", \"power\", [1,2]), {})})"
   ]
  },
  {
   "cell_type": "markdown",
   "metadata": {},
   "source": [
    " The resulting endclass/mdlhist dictionary is in turn nested within operational scenarios."
   ]
  },
  {
   "cell_type": "code",
   "execution_count": 22,
   "metadata": {
    "execution": {
     "iopub.execute_input": "2024-08-22T16:27:15.859897Z",
     "iopub.status.busy": "2024-08-22T16:27:15.859897Z",
     "iopub.status.idle": "2024-08-22T16:27:15.872430Z",
     "shell.execute_reply": "2024-08-22T16:27:15.872430Z"
    }
   },
   "outputs": [],
   "source": [
    "nest_res.keys()"
   ]
  },
  {
   "cell_type": "code",
   "execution_count": 23,
   "metadata": {
    "execution": {
     "iopub.execute_input": "2024-08-22T16:27:15.872430Z",
     "iopub.status.busy": "2024-08-22T16:27:15.872430Z",
     "iopub.status.idle": "2024-08-22T16:27:15.883936Z",
     "shell.execute_reply": "2024-08-22T16:27:15.883936Z"
    }
   },
   "outputs": [],
   "source": [
    "apps"
   ]
  },
  {
   "cell_type": "markdown",
   "metadata": {},
   "source": [
    "We can now compare the performance of the system over faults using a `NestedComparison`:"
   ]
  },
  {
   "cell_type": "code",
   "execution_count": 24,
   "metadata": {
    "execution": {
     "iopub.execute_input": "2024-08-22T16:27:15.883936Z",
     "iopub.status.busy": "2024-08-22T16:27:15.883936Z",
     "iopub.status.idle": "2024-08-22T16:27:17.184030Z",
     "shell.execute_reply": "2024-08-22T16:27:17.184030Z"
    }
   },
   "outputs": [],
   "source": [
    "import numpy as np\n",
    "from fmdtools.analyze.tabulate import NestedComparison\n",
    "\n",
    "n_comp = NestedComparison(nest_res, ps_sine, ['p.ground.amp', 'p.ground.period'], apps, [], #['fault'],\n",
    "                          metrics=['end_dist'], default_stat=np.mean, ci_metrics=['end_dist'])\n",
    "\n",
    "n_comp.as_table()"
   ]
  },
  {
   "cell_type": "code",
   "execution_count": 25,
   "metadata": {
    "execution": {
     "iopub.execute_input": "2024-08-22T16:27:17.184030Z",
     "iopub.status.busy": "2024-08-22T16:27:17.184030Z",
     "iopub.status.idle": "2024-08-22T16:27:17.694586Z",
     "shell.execute_reply": "2024-08-22T16:27:17.694586Z"
    }
   },
   "outputs": [],
   "source": [
    "n_comp.sort_by_factor(\"p.ground.period\", reverse=True)\n",
    "n_comp.sort_by_factor(\"p.ground.amp\")\n",
    "n_comp.as_plot(\"end_dist\", color_factor=\"p.ground.period\", figsize=(20,3))"
   ]
  },
  {
   "cell_type": "markdown",
   "metadata": {},
   "source": [
    "This is of course consistent with the nominal case, with a higher average in all cases, since fault modes inherently deviate the trajectory.\n",
    "\n",
    "Also note the wide error bars on the fault plot--this is again because individual fault modes have a substantial impact on the trajectory (and we are only sampling a few scenarios for the bootstrap)"
   ]
  },
  {
   "cell_type": "code",
   "execution_count": 26,
   "metadata": {
    "execution": {
     "iopub.execute_input": "2024-08-22T16:27:17.694586Z",
     "iopub.status.busy": "2024-08-22T16:27:17.694586Z",
     "iopub.status.idle": "2024-08-22T16:27:18.117294Z",
     "shell.execute_reply": "2024-08-22T16:27:18.117294Z"
    }
   },
   "outputs": [],
   "source": [
    "fig, ax = comp.as_plot(\"end_dist\", color_factor = \"p.ground.period\", figsize=(20, 3))"
   ]
  },
  {
   "cell_type": "code",
   "execution_count": null,
   "metadata": {},
   "outputs": [],
   "source": []
  },
  {
   "cell_type": "code",
   "execution_count": null,
   "metadata": {},
   "outputs": [],
   "source": []
  }
 ],
 "metadata": {
  "kernelspec": {
   "display_name": "Python 3 (ipykernel)",
   "language": "python",
   "name": "python3"
  },
  "language_info": {
   "codemirror_mode": {
    "name": "ipython",
    "version": 3
   },
   "file_extension": ".py",
   "mimetype": "text/x-python",
   "name": "python",
   "nbconvert_exporter": "python",
   "pygments_lexer": "ipython3",
   "version": "3.11.9"
  }
 },
 "nbformat": 4,
 "nbformat_minor": 4
}
