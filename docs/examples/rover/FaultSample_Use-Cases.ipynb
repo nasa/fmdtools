{
 "cells": [
  {
   "cell_type": "markdown",
   "metadata": {},
   "source": [
    "# Defining Fault Sampling Approaches in fmdtools\n",
    "\n",
    "Fault Sampling is used to evaluate the overall resilience of a system to a set of faults and the corresponding risks associated with these faults. There is no single best way to define the set of scenarios to evaluate resilience with, because a given resilience analysis may need more or less detail, support more or less computational time, or be interested in specific scenario types of interest.\n",
    "\n",
    "Thus, there are a number of use-cases supported by fmdtools for different sampling models. This document will demonstrate and showcase a few of them.\n",
    "\n",
    "```\n",
    "Copyright © 2024, United States Government, as represented by the Administrator of the National Aeronautics and Space Administration. All rights reserved.\n",
    "\n",
    "The “\"Fault Model Design tools - fmdtools version 2\"” software is licensed under the Apache License, Version 2.0 (the \"License\"); you may not use this file except in compliance with the License. You may obtain a copy of the License at http://www.apache.org/licenses/LICENSE-2.0. \n",
    "\n",
    "Unless required by applicable law or agreed to in writing, software distributed under the License is distributed on an \"AS IS\" BASIS, WITHOUT WARRANTIES OR CONDITIONS OF ANY KIND, either express or implied. See the License for the specific language governing permissions and limitations under the License.\n",
    "```\n"
   ]
  },
  {
   "cell_type": "code",
   "execution_count": 1,
   "metadata": {
    "execution": {
     "iopub.execute_input": "2024-10-21T23:31:39.005128Z",
     "iopub.status.busy": "2024-10-21T23:31:39.005128Z",
     "iopub.status.idle": "2024-10-21T23:31:40.728904Z",
     "shell.execute_reply": "2024-10-21T23:31:40.728904Z"
    }
   },
   "outputs": [],
   "source": [
    "from fmdtools.sim.sample import SampleApproach, FaultSample, FaultDomain\n",
    "from fmdtools.analyze.tabulate import FMEA, Comparison\n",
    "import fmdtools.sim.propagate as prop\n",
    "import numpy as np"
   ]
  },
  {
   "cell_type": "markdown",
   "metadata": {},
   "source": [
    "### Basics\n",
    "\n",
    "Fault sampling involves:\n",
    "- Defining faults and fault models for each function/component/flows of the model is done using the 'Mode' Class\n",
    "- Defining a fault sampling approach, using the: \n",
    "    - `SampleApproach` class, or\n",
    "    -  `FaultDomain` and `FaultSample` calsses directly\n",
    "- Propagating faults through the model (using the `propagate.faultsample` method)\n",
    "Before proceeding, it can be helpful to look through their respective documentation."
   ]
  },
  {
   "cell_type": "markdown",
   "metadata": {},
   "source": [
    "### Model Setup\n",
    "\n",
    "Consider the rover model in `rover_model`"
   ]
  },
  {
   "cell_type": "code",
   "execution_count": 2,
   "metadata": {
    "execution": {
     "iopub.execute_input": "2024-10-21T23:31:40.732911Z",
     "iopub.status.busy": "2024-10-21T23:31:40.732911Z",
     "iopub.status.idle": "2024-10-21T23:31:41.629741Z",
     "shell.execute_reply": "2024-10-21T23:31:41.629235Z"
    }
   },
   "outputs": [
    {
     "ename": "ModuleNotFoundError",
     "evalue": "No module named 'rover_model'",
     "output_type": "error",
     "traceback": [
      "\u001b[1;31m---------------------------------------------------------------------------\u001b[0m",
      "\u001b[1;31mModuleNotFoundError\u001b[0m                       Traceback (most recent call last)",
      "Cell \u001b[1;32mIn[2], line 2\u001b[0m\n\u001b[0;32m      1\u001b[0m \u001b[38;5;28;01mimport\u001b[39;00m \u001b[38;5;21;01minspect\u001b[39;00m\n\u001b[1;32m----> 2\u001b[0m \u001b[38;5;28;01mfrom\u001b[39;00m \u001b[38;5;21;01mrover_model\u001b[39;00m \u001b[38;5;28;01mimport\u001b[39;00m Power, PowerMode\n",
      "\u001b[1;31mModuleNotFoundError\u001b[0m: No module named 'rover_model'"
     ]
    }
   ],
   "source": [
    "import inspect\n",
    "from rover_model import Power, PowerMode"
   ]
  },
  {
   "cell_type": "markdown",
   "metadata": {},
   "source": [
    "This rover has a Power function:"
   ]
  },
  {
   "cell_type": "code",
   "execution_count": 3,
   "metadata": {
    "execution": {
     "iopub.execute_input": "2024-08-22T16:20:35.993935Z",
     "iopub.status.busy": "2024-08-22T16:20:35.993935Z",
     "iopub.status.idle": "2024-08-22T16:20:36.018788Z",
     "shell.execute_reply": "2024-08-22T16:20:36.018788Z"
    }
   },
   "outputs": [],
   "source": [
    "print(inspect.getsource(Power))"
   ]
  },
  {
   "cell_type": "markdown",
   "metadata": {},
   "source": [
    "Which contains the mode `PowerMode`:"
   ]
  },
  {
   "cell_type": "code",
   "execution_count": 4,
   "metadata": {
    "execution": {
     "iopub.execute_input": "2024-08-22T16:20:36.018788Z",
     "iopub.status.busy": "2024-08-22T16:20:36.018788Z",
     "iopub.status.idle": "2024-08-22T16:20:36.037852Z",
     "shell.execute_reply": "2024-08-22T16:20:36.037852Z"
    }
   },
   "outputs": [],
   "source": [
    "print(inspect.getsource(PowerMode))"
   ]
  },
  {
   "cell_type": "markdown",
   "metadata": {},
   "source": [
    "The class variable `fm_args` specifies that there are two possible modes to inject, \"no_charge\", and \"shortn\", with no more information given for each mode. More information has been added in the tuples of the dictionary, including:\n",
    "- rate\n",
    "- repair cost\n",
    "- phase dictionary\n",
    "The phase dictionary is important because it specifies that this mode is to occur in a given phase. In this case, `no_charge` is supposed to only occur during the `standby` phase while `short` is only supposed to occur during the `supply` phase. In this `Mode`, these phases correspond to the operational modes (`opermodes`), but they may correspond to other operational modes also.\n",
    "\n",
    "All of these fields are optional, but they do help us develop a more informed statistical sample of the fault modes."
   ]
  },
  {
   "cell_type": "markdown",
   "metadata": {},
   "source": [
    "### Setting up a FaultSample\n",
    "\n",
    "Sampling using `FaultSample` first requires creating a `FaultDomain` to sample from. These faultdomains can be created from both models and individual functions:"
   ]
  },
  {
   "cell_type": "code",
   "execution_count": 5,
   "metadata": {
    "execution": {
     "iopub.execute_input": "2024-08-22T16:20:36.037852Z",
     "iopub.status.busy": "2024-08-22T16:20:36.037852Z",
     "iopub.status.idle": "2024-08-22T16:20:36.048021Z",
     "shell.execute_reply": "2024-08-22T16:20:36.048021Z"
    }
   },
   "outputs": [],
   "source": [
    "fd_power = FaultDomain(Power())\n",
    "fd_power.add_all()\n",
    "fd_power"
   ]
  },
  {
   "cell_type": "code",
   "execution_count": 6,
   "metadata": {
    "execution": {
     "iopub.execute_input": "2024-08-22T16:20:36.048021Z",
     "iopub.status.busy": "2024-08-22T16:20:36.048021Z",
     "iopub.status.idle": "2024-08-22T16:20:36.070116Z",
     "shell.execute_reply": "2024-08-22T16:20:36.070116Z"
    }
   },
   "outputs": [],
   "source": [
    "from rover_model import Rover\n",
    "fd_rvr = FaultDomain(Rover())\n",
    "fd_rvr.add_all()\n",
    "fd_rvr"
   ]
  },
  {
   "cell_type": "markdown",
   "metadata": {},
   "source": [
    "Note that there are several methods in FaultDomain which let us specify the list of faults we want to sample from, e.g.:"
   ]
  },
  {
   "cell_type": "code",
   "execution_count": 7,
   "metadata": {
    "execution": {
     "iopub.execute_input": "2024-08-22T16:20:36.070116Z",
     "iopub.status.busy": "2024-08-22T16:20:36.070116Z",
     "iopub.status.idle": "2024-08-22T16:20:36.090913Z",
     "shell.execute_reply": "2024-08-22T16:20:36.090913Z"
    }
   },
   "outputs": [],
   "source": [
    "fd_short = FaultDomain(Rover())\n",
    "fd_short.add_all_modes(\"short\")\n",
    "fd_short"
   ]
  },
  {
   "cell_type": "markdown",
   "metadata": {},
   "source": [
    "or:"
   ]
  },
  {
   "cell_type": "code",
   "execution_count": 8,
   "metadata": {
    "execution": {
     "iopub.execute_input": "2024-08-22T16:20:36.090913Z",
     "iopub.status.busy": "2024-08-22T16:20:36.090913Z",
     "iopub.status.idle": "2024-08-22T16:20:36.112481Z",
     "shell.execute_reply": "2024-08-22T16:20:36.112481Z"
    }
   },
   "outputs": [],
   "source": [
    "fd_pwr = FaultDomain(Rover())\n",
    "fd_pwr.add_all_fxn_modes(\"power\")\n",
    "fd_pwr"
   ]
  },
  {
   "cell_type": "markdown",
   "metadata": {},
   "source": [
    "We can then sample this domain using a `FaultSample`:"
   ]
  },
  {
   "cell_type": "code",
   "execution_count": 9,
   "metadata": {
    "execution": {
     "iopub.execute_input": "2024-08-22T16:20:36.112481Z",
     "iopub.status.busy": "2024-08-22T16:20:36.112481Z",
     "iopub.status.idle": "2024-08-22T16:20:36.117922Z",
     "shell.execute_reply": "2024-08-22T16:20:36.117922Z"
    }
   },
   "outputs": [],
   "source": [
    "fs_pwr = FaultSample(fd_pwr, def_mdl_phasemap=False)"
   ]
  },
  {
   "cell_type": "markdown",
   "metadata": {},
   "source": [
    "Note that FaultSamples have two main variables: faultdomain and phasemap. A PhaseMap is essentially a dictionary of phases to sample from.\n",
    "\n",
    "In the above case, we don't want to use phase information to form the sample, so we don't provide any and we set `def_mdl_phasemap=False`, since this would get phase information from the model."
   ]
  },
  {
   "cell_type": "markdown",
   "metadata": {},
   "source": [
    "To add scenarios to the `FaultSample`, we can then use one of the `add` methods:"
   ]
  },
  {
   "cell_type": "code",
   "execution_count": 10,
   "metadata": {
    "execution": {
     "iopub.execute_input": "2024-08-22T16:20:36.117922Z",
     "iopub.status.busy": "2024-08-22T16:20:36.117922Z",
     "iopub.status.idle": "2024-08-22T16:20:36.124239Z",
     "shell.execute_reply": "2024-08-22T16:20:36.124239Z"
    }
   },
   "outputs": [],
   "source": [
    "fs_pwr.add_fault_times([2,5,10])\n",
    "fs_pwr"
   ]
  },
  {
   "cell_type": "markdown",
   "metadata": {},
   "source": [
    "As shown, this adds the list of faults in the faultdomain over the given times.\n",
    "\n",
    "Note the underlying rate information in these scenarios is all the same:"
   ]
  },
  {
   "cell_type": "code",
   "execution_count": 11,
   "metadata": {
    "execution": {
     "iopub.execute_input": "2024-08-22T16:20:36.124239Z",
     "iopub.status.busy": "2024-08-22T16:20:36.124239Z",
     "iopub.status.idle": "2024-08-22T16:20:36.130649Z",
     "shell.execute_reply": "2024-08-22T16:20:36.130649Z"
    }
   },
   "outputs": [],
   "source": [
    "fs_pwr.scenarios()"
   ]
  },
  {
   "cell_type": "markdown",
   "metadata": {},
   "source": [
    "But we know better than this--some of the faults should have zero rate if they are going to occur in phases they don't apply to!"
   ]
  },
  {
   "cell_type": "markdown",
   "metadata": {},
   "source": [
    "If we want to sample the given phases for the sample, we can additionally pass a phasemap generated by first running the model in the nominal state:"
   ]
  },
  {
   "cell_type": "code",
   "execution_count": 12,
   "metadata": {
    "execution": {
     "iopub.execute_input": "2024-08-22T16:20:36.130649Z",
     "iopub.status.busy": "2024-08-22T16:20:36.130649Z",
     "iopub.status.idle": "2024-08-22T16:20:36.372422Z",
     "shell.execute_reply": "2024-08-22T16:20:36.372422Z"
    }
   },
   "outputs": [],
   "source": [
    "res, hist = prop.nominal(Rover())"
   ]
  },
  {
   "cell_type": "markdown",
   "metadata": {},
   "source": [
    "We can then get phase information from this history using the `fmdtools.analyze.phases.from_hist`:"
   ]
  },
  {
   "cell_type": "code",
   "execution_count": 13,
   "metadata": {
    "execution": {
     "iopub.execute_input": "2024-08-22T16:20:36.372422Z",
     "iopub.status.busy": "2024-08-22T16:20:36.372422Z",
     "iopub.status.idle": "2024-08-22T16:20:36.381536Z",
     "shell.execute_reply": "2024-08-22T16:20:36.381536Z"
    }
   },
   "outputs": [],
   "source": [
    "from fmdtools.analyze.phases import from_hist, phaseplot\n",
    "phases = from_hist(hist)\n",
    "phases"
   ]
  },
  {
   "cell_type": "markdown",
   "metadata": {},
   "source": [
    "Which can be visualized using:"
   ]
  },
  {
   "cell_type": "code",
   "execution_count": 14,
   "metadata": {
    "execution": {
     "iopub.execute_input": "2024-08-22T16:20:36.381536Z",
     "iopub.status.busy": "2024-08-22T16:20:36.381536Z",
     "iopub.status.idle": "2024-08-22T16:20:37.560392Z",
     "shell.execute_reply": "2024-08-22T16:20:37.560392Z"
    }
   },
   "outputs": [],
   "source": [
    "fig = phaseplot(phases)"
   ]
  },
  {
   "cell_type": "markdown",
   "metadata": {},
   "source": [
    "The `PhaseMap` for `Power` is here in `power`:"
   ]
  },
  {
   "cell_type": "code",
   "execution_count": 15,
   "metadata": {
    "execution": {
     "iopub.execute_input": "2024-08-22T16:20:37.560392Z",
     "iopub.status.busy": "2024-08-22T16:20:37.560392Z",
     "iopub.status.idle": "2024-08-22T16:20:37.567559Z",
     "shell.execute_reply": "2024-08-22T16:20:37.567559Z"
    }
   },
   "outputs": [],
   "source": [
    "phases['power']"
   ]
  },
  {
   "cell_type": "markdown",
   "metadata": {},
   "source": [
    "Which we can use to create a `FaultSample` which only samples the phases corresponding to the information given in `Mode`:"
   ]
  },
  {
   "cell_type": "code",
   "execution_count": 16,
   "metadata": {
    "execution": {
     "iopub.execute_input": "2024-08-22T16:20:37.567559Z",
     "iopub.status.busy": "2024-08-22T16:20:37.567559Z",
     "iopub.status.idle": "2024-08-22T16:20:37.575391Z",
     "shell.execute_reply": "2024-08-22T16:20:37.575391Z"
    }
   },
   "outputs": [],
   "source": [
    "fs_pwr = FaultSample(fd_pwr, phasemap=phases['power'])\n",
    "fs_pwr.add_fault_phases()\n",
    "fs_pwr"
   ]
  },
  {
   "cell_type": "markdown",
   "metadata": {},
   "source": [
    "If we look at the rate information, however:"
   ]
  },
  {
   "cell_type": "code",
   "execution_count": 17,
   "metadata": {
    "execution": {
     "iopub.execute_input": "2024-08-22T16:20:37.575391Z",
     "iopub.status.busy": "2024-08-22T16:20:37.575391Z",
     "iopub.status.idle": "2024-08-22T16:20:37.582514Z",
     "shell.execute_reply": "2024-08-22T16:20:37.582514Z"
    }
   },
   "outputs": [],
   "source": [
    "fs_pwr.scenarios()"
   ]
  },
  {
   "cell_type": "markdown",
   "metadata": {},
   "source": [
    "The rate for scenarios outside the phases is zero!\n",
    "\n",
    "We can remove these scenarios using `FaultSample.prune_scenarios`:"
   ]
  },
  {
   "cell_type": "code",
   "execution_count": 18,
   "metadata": {
    "execution": {
     "iopub.execute_input": "2024-08-22T16:20:37.582514Z",
     "iopub.status.busy": "2024-08-22T16:20:37.582514Z",
     "iopub.status.idle": "2024-08-22T16:20:37.588836Z",
     "shell.execute_reply": "2024-08-22T16:20:37.588836Z"
    }
   },
   "outputs": [],
   "source": [
    "fs_pwr.prune_scenarios(\"rate\", np.greater, 0.0)\n",
    "fs_pwr"
   ]
  },
  {
   "cell_type": "code",
   "execution_count": 19,
   "metadata": {
    "execution": {
     "iopub.execute_input": "2024-08-22T16:20:37.588836Z",
     "iopub.status.busy": "2024-08-22T16:20:37.588836Z",
     "iopub.status.idle": "2024-08-22T16:20:37.594905Z",
     "shell.execute_reply": "2024-08-22T16:20:37.594905Z"
    }
   },
   "outputs": [],
   "source": [
    "fs_pwr.scenarios()"
   ]
  },
  {
   "cell_type": "markdown",
   "metadata": {},
   "source": [
    "As shown, now the only scenarios in the `FaultSample` are ones which have nonzero rate."
   ]
  },
  {
   "cell_type": "code",
   "execution_count": 20,
   "metadata": {
    "execution": {
     "iopub.execute_input": "2024-08-22T16:20:37.594905Z",
     "iopub.status.busy": "2024-08-22T16:20:37.594905Z",
     "iopub.status.idle": "2024-08-22T16:20:37.600527Z",
     "shell.execute_reply": "2024-08-22T16:20:37.600527Z"
    }
   },
   "outputs": [],
   "source": [
    "assert all([scen.rate > 0 for scen in fs_pwr.scenarios()])"
   ]
  },
  {
   "cell_type": "markdown",
   "metadata": {},
   "source": [
    "To enable multiple samples to be generated for different faultdomains accross the model, we can use `SampleApproach`, e.g.:"
   ]
  },
  {
   "cell_type": "code",
   "execution_count": 21,
   "metadata": {
    "execution": {
     "iopub.execute_input": "2024-08-22T16:20:37.600527Z",
     "iopub.status.busy": "2024-08-22T16:20:37.600527Z",
     "iopub.status.idle": "2024-08-22T16:20:37.606539Z",
     "shell.execute_reply": "2024-08-22T16:20:37.606539Z"
    }
   },
   "outputs": [],
   "source": [
    "phases"
   ]
  },
  {
   "cell_type": "code",
   "execution_count": 22,
   "metadata": {
    "execution": {
     "iopub.execute_input": "2024-08-22T16:20:37.607545Z",
     "iopub.status.busy": "2024-08-22T16:20:37.607545Z",
     "iopub.status.idle": "2024-08-22T16:20:37.629076Z",
     "shell.execute_reply": "2024-08-22T16:20:37.629076Z"
    }
   },
   "outputs": [],
   "source": [
    "sa = SampleApproach(Rover(), phasemaps=phases)\n",
    "# adding fault domains\n",
    "sa.add_faultdomain(\"drive\", \"fault\", \"drive\", \"hmode_1\")\n",
    "sa.add_faultdomain(\"plan_path\", \"all_fxn_modes\", \"plan_path\")\n",
    "sa.add_faultdomain(\"power\", \"all_fxn_modes\", \"power\")\n",
    "sa.add_faultsample(\"drive\", \"fault_phases\", \"drive\", phasemap=\"plan_path\")\n",
    "sa.add_faultsample(\"plan_path\", \"fault_phases\", \"plan_path\", phasemap=\"plan_path\")\n",
    "sa.add_faultsample(\"power\", \"fault_phases\", \"power\", phasemap=\"power\")\n",
    "sa.prune_scenarios()"
   ]
  },
  {
   "cell_type": "code",
   "execution_count": 23,
   "metadata": {
    "execution": {
     "iopub.execute_input": "2024-08-22T16:20:37.629076Z",
     "iopub.status.busy": "2024-08-22T16:20:37.629076Z",
     "iopub.status.idle": "2024-08-22T16:20:37.636226Z",
     "shell.execute_reply": "2024-08-22T16:20:37.636226Z"
    }
   },
   "outputs": [],
   "source": [
    "sa"
   ]
  },
  {
   "cell_type": "code",
   "execution_count": 24,
   "metadata": {
    "execution": {
     "iopub.execute_input": "2024-08-22T16:20:37.636226Z",
     "iopub.status.busy": "2024-08-22T16:20:37.636226Z",
     "iopub.status.idle": "2024-08-22T16:20:37.643179Z",
     "shell.execute_reply": "2024-08-22T16:20:37.643179Z"
    }
   },
   "outputs": [],
   "source": [
    "sa.scenarios()"
   ]
  },
  {
   "cell_type": "markdown",
   "metadata": {},
   "source": [
    "This is mostly useful when we would like to sample different functions in a model differently than others (e.g., using different phases), but still want to propagate the scenarios together as a part of a single sample."
   ]
  },
  {
   "cell_type": "markdown",
   "metadata": {},
   "source": [
    "### Propagating Faults\n",
    "\n",
    "Given the `FaultSample` approach, faults can then be propagated through the model to get results. Note that these faults can be sampled in parallel if desired using a user-provided pool (see the parallel pool tutorial in the `\\pump example` folder)."
   ]
  },
  {
   "cell_type": "code",
   "execution_count": 25,
   "metadata": {
    "execution": {
     "iopub.execute_input": "2024-08-22T16:20:37.643179Z",
     "iopub.status.busy": "2024-08-22T16:20:37.643179Z",
     "iopub.status.idle": "2024-08-22T16:20:38.173353Z",
     "shell.execute_reply": "2024-08-22T16:20:38.173353Z"
    }
   },
   "outputs": [],
   "source": [
    "res, hist = prop.fault_sample(Rover(), fs_pwr)"
   ]
  },
  {
   "cell_type": "code",
   "execution_count": 26,
   "metadata": {
    "execution": {
     "iopub.execute_input": "2024-08-22T16:20:38.173353Z",
     "iopub.status.busy": "2024-08-22T16:20:38.173353Z",
     "iopub.status.idle": "2024-08-22T16:20:38.181877Z",
     "shell.execute_reply": "2024-08-22T16:20:38.181877Z"
    }
   },
   "outputs": [],
   "source": [
    "res"
   ]
  },
  {
   "cell_type": "markdown",
   "metadata": {},
   "source": [
    "These responses can be visualized over the given faults:"
   ]
  },
  {
   "cell_type": "code",
   "execution_count": 27,
   "metadata": {
    "execution": {
     "iopub.execute_input": "2024-08-22T16:20:38.181877Z",
     "iopub.status.busy": "2024-08-22T16:20:38.181877Z",
     "iopub.status.idle": "2024-08-22T16:20:38.204884Z",
     "shell.execute_reply": "2024-08-22T16:20:38.204884Z"
    }
   },
   "outputs": [],
   "source": [
    "fmea = FMEA(res, fs_pwr, metrics = [\"end_dist\", \"line_dist\", \"tot_deviation\"])\n",
    "fmea.as_table()"
   ]
  },
  {
   "cell_type": "code",
   "execution_count": 28,
   "metadata": {
    "execution": {
     "iopub.execute_input": "2024-08-22T16:20:38.204884Z",
     "iopub.status.busy": "2024-08-22T16:20:38.204884Z",
     "iopub.status.idle": "2024-08-22T16:20:38.441977Z",
     "shell.execute_reply": "2024-08-22T16:20:38.441977Z"
    }
   },
   "outputs": [],
   "source": [
    "fmea.as_plots(cols=2)"
   ]
  },
  {
   "cell_type": "markdown",
   "metadata": {},
   "source": [
    "Or over time/any other variable:"
   ]
  },
  {
   "cell_type": "code",
   "execution_count": 29,
   "metadata": {
    "execution": {
     "iopub.execute_input": "2024-08-22T16:20:38.441977Z",
     "iopub.status.busy": "2024-08-22T16:20:38.441977Z",
     "iopub.status.idle": "2024-08-22T16:20:38.453934Z",
     "shell.execute_reply": "2024-08-22T16:20:38.453934Z"
    }
   },
   "outputs": [],
   "source": [
    "comp = Comparison(res, fs_pwr, metrics = [\"end_dist\", \"line_dist\", \"tot_deviation\"], factors =['time'])\n",
    "comp.as_table()"
   ]
  },
  {
   "cell_type": "code",
   "execution_count": 30,
   "metadata": {
    "execution": {
     "iopub.execute_input": "2024-08-22T16:20:38.453934Z",
     "iopub.status.busy": "2024-08-22T16:20:38.453934Z",
     "iopub.status.idle": "2024-08-22T16:20:38.729644Z",
     "shell.execute_reply": "2024-08-22T16:20:38.729644Z"
    }
   },
   "outputs": [],
   "source": [
    "comp.as_plots(cols=2)"
   ]
  },
  {
   "cell_type": "code",
   "execution_count": null,
   "metadata": {},
   "outputs": [],
   "source": []
  },
  {
   "cell_type": "code",
   "execution_count": null,
   "metadata": {},
   "outputs": [],
   "source": []
  },
  {
   "cell_type": "code",
   "execution_count": null,
   "metadata": {},
   "outputs": [],
   "source": []
  }
 ],
 "metadata": {
  "kernelspec": {
   "display_name": "Python 3 (ipykernel)",
   "language": "python",
   "name": "python3"
  },
  "language_info": {
   "codemirror_mode": {
    "name": "ipython",
    "version": 3
   },
   "file_extension": ".py",
   "mimetype": "text/x-python",
   "name": "python",
   "nbconvert_exporter": "python",
   "pygments_lexer": "ipython3",
   "version": "3.11.9"
  }
 },
 "nbformat": 4,
 "nbformat_minor": 4
}
