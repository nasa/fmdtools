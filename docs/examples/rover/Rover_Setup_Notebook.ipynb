{
 "cells": [
  {
   "cell_type": "markdown",
   "metadata": {},
   "source": [
    "# Rover Model Explanation and Preliminaries\n",
    "\n",
    "This notebook covers the setup of a lane-following rover fault model for understanding the effects of faults in AI-driven systems. This model uses the fmdtools simulation toolkit to simulate the nominal and faulty behaviors of the rover over a set of fault scenarios and classify/assess risk.\n",
    "\n",
    "```\n",
    "Copyright © 2024, United States Government, as represented by the Administrator of the National Aeronautics and Space Administration. All rights reserved.\n",
    "\n",
    "The “\"Fault Model Design tools - fmdtools version 2\"” software is licensed under the Apache License, Version 2.0 (the \"License\"); you may not use this file except in compliance with the License. You may obtain a copy of the License at http://www.apache.org/licenses/LICENSE-2.0. \n",
    "\n",
    "Unless required by applicable law or agreed to in writing, software distributed under the License is distributed on an \"AS IS\" BASIS, WITHOUT WARRANTIES OR CONDITIONS OF ANY KIND, either express or implied. See the License for the specific language governing permissions and limitations under the License.\n",
    "```"
   ]
  },
  {
   "cell_type": "code",
   "execution_count": 1,
   "metadata": {
    "execution": {
     "iopub.execute_input": "2024-10-21T22:36:07.221261Z",
     "iopub.status.busy": "2024-10-21T22:36:07.220259Z",
     "iopub.status.idle": "2024-10-21T22:36:08.744383Z",
     "shell.execute_reply": "2024-10-21T22:36:08.744383Z"
    }
   },
   "outputs": [],
   "source": [
    "import fmdtools.sim.propagate as prop\n",
    "import multiprocessing as mp"
   ]
  },
  {
   "cell_type": "markdown",
   "metadata": {},
   "source": [
    "This model is defined in `rover_model.py`.\n",
    "- `Rover` is the class defining the model, \n",
    "- `RoverParam` is the class used to generate model parameters (given design variables), and \n",
    "- `plot_map` is used to visualize the trajectory of the rover over time"
   ]
  },
  {
   "cell_type": "code",
   "execution_count": 2,
   "metadata": {
    "execution": {
     "iopub.execute_input": "2024-10-21T22:36:08.749369Z",
     "iopub.status.busy": "2024-10-21T22:36:08.749369Z",
     "iopub.status.idle": "2024-10-21T22:36:09.512967Z",
     "shell.execute_reply": "2024-10-21T22:36:09.511968Z"
    }
   },
   "outputs": [
    {
     "ename": "ModuleNotFoundError",
     "evalue": "No module named 'rover_model'",
     "output_type": "error",
     "traceback": [
      "\u001b[1;31m---------------------------------------------------------------------------\u001b[0m",
      "\u001b[1;31mModuleNotFoundError\u001b[0m                       Traceback (most recent call last)",
      "Cell \u001b[1;32mIn[2], line 1\u001b[0m\n\u001b[1;32m----> 1\u001b[0m \u001b[38;5;28;01mfrom\u001b[39;00m \u001b[38;5;21;01mrover_model\u001b[39;00m \u001b[38;5;28;01mimport\u001b[39;00m Rover, RoverParam, GroundParam\n",
      "\u001b[1;31mModuleNotFoundError\u001b[0m: No module named 'rover_model'"
     ]
    }
   ],
   "source": [
    "from rover_model import Rover, RoverParam, GroundParam"
   ]
  },
  {
   "cell_type": "markdown",
   "metadata": {},
   "source": [
    "## Model Setup"
   ]
  },
  {
   "cell_type": "code",
   "execution_count": 3,
   "metadata": {
    "execution": {
     "iopub.execute_input": "2024-08-22T16:27:21.497223Z",
     "iopub.status.busy": "2024-08-22T16:27:21.497223Z",
     "iopub.status.idle": "2024-08-22T16:27:21.518307Z",
     "shell.execute_reply": "2024-08-22T16:27:21.518307Z"
    }
   },
   "outputs": [],
   "source": [
    "mdl = Rover()"
   ]
  },
  {
   "cell_type": "markdown",
   "metadata": {},
   "source": [
    "The functions and flows of the model are shown below, and were taken from the design of the system:"
   ]
  },
  {
   "cell_type": "code",
   "execution_count": 4,
   "metadata": {
    "execution": {
     "iopub.execute_input": "2024-08-22T16:27:21.518307Z",
     "iopub.status.busy": "2024-08-22T16:27:21.518307Z",
     "iopub.status.idle": "2024-08-22T16:27:21.865667Z",
     "shell.execute_reply": "2024-08-22T16:27:21.865667Z"
    }
   },
   "outputs": [],
   "source": [
    "from fmdtools.define.architecture.function import FunctionArchitectureFxnGraph\n",
    "mg = FunctionArchitectureFxnGraph(mdl)\n",
    "fig, ax = mg.draw()"
   ]
  },
  {
   "cell_type": "markdown",
   "metadata": {},
   "source": [
    "The functions are:\n",
    "- `Operator`, the operator of the rover who turns it on/off and takes control if needed (not fully implemented)\n",
    "- `Power`, the battery and power supply\n",
    "- `Communications`, the radio used to relay back position/etc. to the operator\n",
    "- `Avionics`, the computer/control system which determines where to direct the given position information\n",
    "- `Override`, the system that enables the operator to control the rover instead\n",
    "- `Perception`, the camera/AI system which percieves the ground and then (not fully implemented)\n",
    "- `Environment`, which defines the lines and/or changes to the environment based on environmental conditions and/or the movement of the system\n",
    "\n",
    "The flows are:\n",
    "- `Control`, the physical interactions between the operator and the rover (i.e. on/off)\n",
    "- `Comms`, the communications between the operator and the rover (position, video, etc.)\n",
    "- `OverrideComms`, the communications between the operator and the \n",
    "- `Pos_Signal`, the rover's internal idea of its position and velocity\n",
    "- `EE5`, `EE12`, `EE15`, the electrical power provided by the  battery\n",
    "- `AvionicsControl`, the contol signals from the avionics to the drive system\n",
    "- `Video`, the video feed/signal from the camera to the avionics\n",
    "- `MotorControl`, the control signals to the drive system(s)\n",
    "- `Ground`, the real position of the rover and the ground/environment/etc."
   ]
  },
  {
   "cell_type": "markdown",
   "metadata": {},
   "source": [
    "The model is presently a mixed static/dynamic propagation model in which most function behaviors propagate over time, except for the power system, which propagates in a dynamic step. This may change depending on the necessity to model interactions between these systems. This is shown below."
   ]
  },
  {
   "cell_type": "code",
   "execution_count": 5,
   "metadata": {
    "execution": {
     "iopub.execute_input": "2024-08-22T16:27:21.865667Z",
     "iopub.status.busy": "2024-08-22T16:27:21.865667Z",
     "iopub.status.idle": "2024-08-22T16:27:22.187525Z",
     "shell.execute_reply": "2024-08-22T16:27:22.187525Z"
    }
   },
   "outputs": [],
   "source": [
    "mg.set_exec_order(mdl)\n",
    "fig, ax = mg.draw()"
   ]
  },
  {
   "cell_type": "markdown",
   "metadata": {},
   "source": [
    "The run order for this model is additionally shown below."
   ]
  },
  {
   "cell_type": "code",
   "execution_count": 6,
   "metadata": {
    "execution": {
     "iopub.execute_input": "2024-08-22T16:27:22.187525Z",
     "iopub.status.busy": "2024-08-22T16:27:22.187525Z",
     "iopub.status.idle": "2024-08-22T16:27:22.381277Z",
     "shell.execute_reply": "2024-08-22T16:27:22.381277Z"
    }
   },
   "outputs": [],
   "source": [
    "mdl.plot_dynamic_run_order(rotateticks=True)"
   ]
  },
  {
   "cell_type": "markdown",
   "metadata": {},
   "source": [
    "## Model simulation\n",
    "\n",
    "Currently, the model can be simulated in a few situations for lane-tracking: a sine wave and a 90-degree turn.\n",
    "\n",
    "Below shows the 90-degree turn. As shown, the centerline tracking is not perfect, with a fairly large deviation in distance (current limit for viewing the line in the model is 1 meter). This should be controlled in the future by lowering the timestep (enabling more corrections) or enabling some reduction to velocity when going around corners."
   ]
  },
  {
   "cell_type": "code",
   "execution_count": 7,
   "metadata": {
    "execution": {
     "iopub.execute_input": "2024-08-22T16:27:22.381277Z",
     "iopub.status.busy": "2024-08-22T16:27:22.381277Z",
     "iopub.status.idle": "2024-08-22T16:27:22.717805Z",
     "shell.execute_reply": "2024-08-22T16:27:22.717805Z"
    }
   },
   "outputs": [],
   "source": [
    "mdl = Rover(p=RoverParam(ground = GroundParam(linetype='turn')))\n",
    "endresults, mdlhist = prop.nominal(mdl)\n",
    "mdlhist.plot_trajectories('pos.s.x', 'pos.s.y')"
   ]
  },
  {
   "cell_type": "code",
   "execution_count": 8,
   "metadata": {
    "execution": {
     "iopub.execute_input": "2024-08-22T16:27:22.717805Z",
     "iopub.status.busy": "2024-08-22T16:27:22.717805Z",
     "iopub.status.idle": "2024-08-22T16:27:22.725754Z",
     "shell.execute_reply": "2024-08-22T16:27:22.725754Z"
    }
   },
   "outputs": [],
   "source": [
    "mdlhist['time']"
   ]
  },
  {
   "cell_type": "markdown",
   "metadata": {},
   "source": [
    "Below shows the sine wave. As shown, this curve has a relatively low amplitude (see the y-axis), which results in low tracking error."
   ]
  },
  {
   "cell_type": "code",
   "execution_count": 9,
   "metadata": {
    "execution": {
     "iopub.execute_input": "2024-08-22T16:27:22.725754Z",
     "iopub.status.busy": "2024-08-22T16:27:22.725754Z",
     "iopub.status.idle": "2024-08-22T16:27:23.080998Z",
     "shell.execute_reply": "2024-08-22T16:27:23.080998Z"
    }
   },
   "outputs": [],
   "source": [
    "mdl = Rover(p=RoverParam(ground = GroundParam(linetype='sine')))\n",
    "endresults, mdlhist = prop.nominal(mdl)\n",
    "mdlhist.plot_trajectories('pos.s.x', 'pos.s.y')"
   ]
  },
  {
   "cell_type": "code",
   "execution_count": 10,
   "metadata": {
    "execution": {
     "iopub.execute_input": "2024-08-22T16:27:23.080998Z",
     "iopub.status.busy": "2024-08-22T16:27:23.080998Z",
     "iopub.status.idle": "2024-08-22T16:27:23.089194Z",
     "shell.execute_reply": "2024-08-22T16:27:23.089194Z"
    }
   },
   "outputs": [],
   "source": [
    "mdlhist['time']"
   ]
  },
  {
   "cell_type": "markdown",
   "metadata": {},
   "source": [
    "The performance of the rover in these situations is dependent on the parameters of the situation (e.g., the radius of the curve and the amplitude of the sine wave). Thus, it is important to define the operational envelope for the system. This can be done using a `ParameterSample` and `ParameterDomain`, which can be used to define ranges of variables to simulate the system under."
   ]
  },
  {
   "cell_type": "code",
   "execution_count": 11,
   "metadata": {
    "execution": {
     "iopub.execute_input": "2024-08-22T16:27:23.089194Z",
     "iopub.status.busy": "2024-08-22T16:27:23.089194Z",
     "iopub.status.idle": "2024-08-22T16:27:23.097357Z",
     "shell.execute_reply": "2024-08-22T16:27:23.097357Z"
    }
   },
   "outputs": [],
   "source": [
    "from fmdtools.sim.sample import ParameterDomain, ParameterSample\n",
    "pd_turn = ParameterDomain(RoverParam)\n",
    "pd_turn.add_constant(\"ground.linetype\", \"turn\")\n",
    "pd_turn.add_variables(\"ground.radius\", \"ground.x_start\", lims={\"ground.radius\": (5, 25), \"ground.x_start\": (0, 5)})\n",
    "\n",
    "pd_turn"
   ]
  },
  {
   "cell_type": "code",
   "execution_count": 12,
   "metadata": {
    "execution": {
     "iopub.execute_input": "2024-08-22T16:27:23.097357Z",
     "iopub.status.busy": "2024-08-22T16:27:23.097357Z",
     "iopub.status.idle": "2024-08-22T16:27:23.105326Z",
     "shell.execute_reply": "2024-08-22T16:27:23.105326Z"
    }
   },
   "outputs": [],
   "source": [
    "pd_sine = ParameterDomain(RoverParam)\n",
    "pd_sine.add_constant(\"ground.linetype\", \"sine\")\n",
    "pd_sine.add_variables(\"ground.amp\", \"ground.period\", lims={\"ground.amp\":(0, 8), \"ground.period\": (10, 50)})\n",
    "\n",
    "pd_sine"
   ]
  },
  {
   "cell_type": "markdown",
   "metadata": {},
   "source": [
    "In this sample we then sample two major situations--a wavelength and amplitude for the sine wave, and a radius and start location for the turn."
   ]
  },
  {
   "cell_type": "code",
   "execution_count": 13,
   "metadata": {
    "execution": {
     "iopub.execute_input": "2024-08-22T16:27:23.105326Z",
     "iopub.status.busy": "2024-08-22T16:27:23.105326Z",
     "iopub.status.idle": "2024-08-22T16:27:23.121740Z",
     "shell.execute_reply": "2024-08-22T16:27:23.121740Z"
    }
   },
   "outputs": [],
   "source": [
    "ps_sine = ParameterSample(pd_sine)\n",
    "ps_sine.add_variable_ranges(comb_kwargs={'resolutions':{'ground.amp': 0.2, \"ground.period\": 10}})\n",
    "\n",
    "ps_sine.scenarios()"
   ]
  },
  {
   "cell_type": "code",
   "execution_count": 14,
   "metadata": {
    "execution": {
     "iopub.execute_input": "2024-08-22T16:27:23.121740Z",
     "iopub.status.busy": "2024-08-22T16:27:23.121740Z",
     "iopub.status.idle": "2024-08-22T16:27:23.131236Z",
     "shell.execute_reply": "2024-08-22T16:27:23.131236Z"
    }
   },
   "outputs": [],
   "source": [
    "ps_turn = ParameterSample(pd_turn)\n",
    "ps_turn.add_variable_ranges(comb_kwargs={'resolutions':{'ground.radius': 5.0, \"ground.start\": 5}})\n",
    "\n",
    "ps_turn.scenarios()"
   ]
  },
  {
   "cell_type": "markdown",
   "metadata": {},
   "source": [
    "These samples can then be run using `prop.parameter_sample`"
   ]
  },
  {
   "cell_type": "code",
   "execution_count": 15,
   "metadata": {
    "execution": {
     "iopub.execute_input": "2024-08-22T16:27:23.131236Z",
     "iopub.status.busy": "2024-08-22T16:27:23.131236Z",
     "iopub.status.idle": "2024-08-22T16:27:27.054972Z",
     "shell.execute_reply": "2024-08-22T16:27:27.054972Z"
    }
   },
   "outputs": [],
   "source": [
    "res_turn, hist_turn = prop.parameter_sample(mdl, ps_turn, pool = mp.Pool(5))"
   ]
  },
  {
   "cell_type": "code",
   "execution_count": 16,
   "metadata": {
    "execution": {
     "iopub.execute_input": "2024-08-22T16:27:27.057105Z",
     "iopub.status.busy": "2024-08-22T16:27:27.057105Z",
     "iopub.status.idle": "2024-08-22T16:27:41.915411Z",
     "shell.execute_reply": "2024-08-22T16:27:41.915411Z"
    }
   },
   "outputs": [],
   "source": [
    "res_sine, hist_sine = prop.parameter_sample(mdl, ps_sine, pool=mp.Pool(5))"
   ]
  },
  {
   "cell_type": "markdown",
   "metadata": {},
   "source": [
    "We can then use these results to visualize the operational envelope for the system--which sets of parameters lead to the system getting lost/going off track, and which sets of parameters the system is capable of accomodating."
   ]
  },
  {
   "cell_type": "code",
   "execution_count": 17,
   "metadata": {
    "execution": {
     "iopub.execute_input": "2024-08-22T16:27:41.915411Z",
     "iopub.status.busy": "2024-08-22T16:27:41.915411Z",
     "iopub.status.idle": "2024-08-22T16:27:43.846587Z",
     "shell.execute_reply": "2024-08-22T16:27:43.846587Z"
    }
   },
   "outputs": [],
   "source": [
    "from fmdtools.analyze.tabulate import NominalEnvelope\n",
    "na = NominalEnvelope(ps_sine, res_sine, 'at_finish', 'p.ground.amp', 'p.ground.period', func=lambda x: x == True)\n",
    "na.as_plot()"
   ]
  },
  {
   "cell_type": "markdown",
   "metadata": {},
   "source": [
    "As shown, if the amplitude of the sine curve is too high at low wavelength, it causes the rover to go off track and not be able to complete the mission."
   ]
  },
  {
   "cell_type": "code",
   "execution_count": 18,
   "metadata": {
    "execution": {
     "iopub.execute_input": "2024-08-22T16:27:43.846587Z",
     "iopub.status.busy": "2024-08-22T16:27:43.846587Z",
     "iopub.status.idle": "2024-08-22T16:27:44.170734Z",
     "shell.execute_reply": "2024-08-22T16:27:44.170734Z"
    }
   },
   "outputs": [],
   "source": [
    "na = NominalEnvelope(ps_turn, res_turn, 'at_finish', 'p.ground.x_start', 'p.ground.radius', func=lambda x: x == True)\n",
    "na.as_plot()"
   ]
  },
  {
   "cell_type": "markdown",
   "metadata": {},
   "source": [
    "Similarly, if the radius of the curve is too small, it can additionally lead to the rover going off course by overshooting the curve."
   ]
  },
  {
   "cell_type": "code",
   "execution_count": 19,
   "metadata": {
    "execution": {
     "iopub.execute_input": "2024-08-22T16:27:44.170734Z",
     "iopub.status.busy": "2024-08-22T16:27:44.170734Z",
     "iopub.status.idle": "2024-08-22T16:27:44.459876Z",
     "shell.execute_reply": "2024-08-22T16:27:44.459876Z"
    }
   },
   "outputs": [],
   "source": [
    "fig = hist_turn.plot_trajectories('flows.pos.s.x','flows.pos.s.y')"
   ]
  },
  {
   "cell_type": "code",
   "execution_count": 20,
   "metadata": {
    "execution": {
     "iopub.execute_input": "2024-08-22T16:27:44.459876Z",
     "iopub.status.busy": "2024-08-22T16:27:44.459876Z",
     "iopub.status.idle": "2024-08-22T16:27:51.427341Z",
     "shell.execute_reply": "2024-08-22T16:27:51.427341Z"
    }
   },
   "outputs": [],
   "source": [
    "fig = hist_sine.plot_trajectories('flows.pos.s.x','flows.pos.s.y')"
   ]
  },
  {
   "cell_type": "code",
   "execution_count": null,
   "metadata": {},
   "outputs": [],
   "source": []
  },
  {
   "cell_type": "code",
   "execution_count": null,
   "metadata": {},
   "outputs": [],
   "source": []
  }
 ],
 "metadata": {
  "kernelspec": {
   "display_name": "Python 3 (ipykernel)",
   "language": "python",
   "name": "python3"
  },
  "language_info": {
   "codemirror_mode": {
    "name": "ipython",
    "version": 3
   },
   "file_extension": ".py",
   "mimetype": "text/x-python",
   "name": "python",
   "nbconvert_exporter": "python",
   "pygments_lexer": "ipython3",
   "version": "3.11.9"
  }
 },
 "nbformat": 4,
 "nbformat_minor": 4
}
