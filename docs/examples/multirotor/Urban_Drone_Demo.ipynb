{
 "cells": [
  {
   "cell_type": "markdown",
   "id": "8aa1c34b",
   "metadata": {},
   "source": [
    "# Urban Drone Demo\n",
    "\n",
    "```\n",
    "Copyright © 2024, United States Government, as represented by the Administrator of the National Aeronautics and Space Administration. All rights reserved.\n",
    "\n",
    "The “\"Fault Model Design tools - fmdtools version 2\"” software is licensed under the Apache License, Version 2.0 (the \"License\"); you may not use this file except in compliance with the License. You may obtain a copy of the License at http://www.apache.org/licenses/LICENSE-2.0. \n",
    "\n",
    "Unless required by applicable law or agreed to in writing, software distributed under the License is distributed on an \"AS IS\" BASIS, WITHOUT WARRANTIES OR CONDITIONS OF ANY KIND, either express or implied. See the License for the specific language governing permissions and limitations under the License.\n",
    "```"
   ]
  },
  {
   "cell_type": "code",
   "execution_count": 1,
   "id": "9bb46adf",
   "metadata": {
    "execution": {
     "iopub.execute_input": "2024-10-21T23:54:24.774076Z",
     "iopub.status.busy": "2024-10-21T23:54:24.773077Z",
     "iopub.status.idle": "2024-10-21T23:54:28.483928Z",
     "shell.execute_reply": "2024-10-21T23:54:28.482939Z"
    }
   },
   "outputs": [
    {
     "ename": "ImportError",
     "evalue": "DLL load failed while importing _path: The specified module could not be found.",
     "output_type": "error",
     "traceback": [
      "\u001b[1;31m---------------------------------------------------------------------------\u001b[0m",
      "\u001b[1;31mImportError\u001b[0m                               Traceback (most recent call last)",
      "Cell \u001b[1;32mIn[1], line 1\u001b[0m\n\u001b[1;32m----> 1\u001b[0m \u001b[38;5;28;01mimport\u001b[39;00m \u001b[38;5;21;01mfmdtools\u001b[39;00m\u001b[38;5;21;01m.\u001b[39;00m\u001b[38;5;21;01msim\u001b[39;00m\u001b[38;5;21;01m.\u001b[39;00m\u001b[38;5;21;01mpropagate\u001b[39;00m \u001b[38;5;28;01mas\u001b[39;00m \u001b[38;5;21;01mpropagate\u001b[39;00m\n\u001b[0;32m      2\u001b[0m \u001b[38;5;28;01mfrom\u001b[39;00m \u001b[38;5;21;01mfmdtools\u001b[39;00m\u001b[38;5;21;01m.\u001b[39;00m\u001b[38;5;21;01manalyze\u001b[39;00m \u001b[38;5;28;01mimport\u001b[39;00m tabulate\n\u001b[0;32m      4\u001b[0m \u001b[38;5;28;01mimport\u001b[39;00m \u001b[38;5;21;01mmatplotlib\u001b[39;00m\u001b[38;5;21;01m.\u001b[39;00m\u001b[38;5;21;01mpyplot\u001b[39;00m \u001b[38;5;28;01mas\u001b[39;00m \u001b[38;5;21;01mplt\u001b[39;00m\n",
      "File \u001b[1;32mc:\\users\\dhulse\\documents\\github\\fmdtools\\fmdtools\\__init__.py:20\u001b[0m\n\u001b[0;32m      1\u001b[0m \u001b[38;5;66;03m#!/usr/bin/env python\u001b[39;00m\n\u001b[0;32m      2\u001b[0m \u001b[38;5;66;03m# -*- coding: utf-8 -*-\u001b[39;00m\n\u001b[0;32m      3\u001b[0m \u001b[38;5;124;03m\"\"\"\u001b[39;00m\n\u001b[0;32m      4\u001b[0m \u001b[38;5;124;03mResilience Modelling, Simulation, and Analysis in Python.\u001b[39;00m\n\u001b[0;32m      5\u001b[0m \n\u001b[1;32m   (...)\u001b[0m\n\u001b[0;32m     17\u001b[0m \u001b[38;5;124;03mspecific language governing permissions and limitations under the License.\u001b[39;00m\n\u001b[0;32m     18\u001b[0m \u001b[38;5;124;03m\"\"\"\u001b[39;00m\n\u001b[1;32m---> 20\u001b[0m \u001b[38;5;28;01mimport\u001b[39;00m \u001b[38;5;21;01mfmdtools\u001b[39;00m\u001b[38;5;21;01m.\u001b[39;00m\u001b[38;5;21;01mdefine\u001b[39;00m \u001b[38;5;28;01mas\u001b[39;00m \u001b[38;5;21;01mdefine\u001b[39;00m\n\u001b[0;32m     21\u001b[0m \u001b[38;5;28;01mimport\u001b[39;00m \u001b[38;5;21;01mfmdtools\u001b[39;00m\u001b[38;5;21;01m.\u001b[39;00m\u001b[38;5;21;01msim\u001b[39;00m \u001b[38;5;28;01mas\u001b[39;00m \u001b[38;5;21;01msim\u001b[39;00m\n\u001b[0;32m     22\u001b[0m \u001b[38;5;28;01mimport\u001b[39;00m \u001b[38;5;21;01mfmdtools\u001b[39;00m\u001b[38;5;21;01m.\u001b[39;00m\u001b[38;5;21;01manalyze\u001b[39;00m \u001b[38;5;28;01mas\u001b[39;00m \u001b[38;5;21;01manalyze\u001b[39;00m\n",
      "File \u001b[1;32mc:\\users\\dhulse\\documents\\github\\fmdtools\\fmdtools\\define\\__init__.py:21\u001b[0m\n\u001b[0;32m      3\u001b[0m \u001b[38;5;124;03m\"\"\"\u001b[39;00m\n\u001b[0;32m      4\u001b[0m \u001b[38;5;124;03mPackage for modelling system structure and behavior.\u001b[39;00m\n\u001b[0;32m      5\u001b[0m \n\u001b[1;32m   (...)\u001b[0m\n\u001b[0;32m     17\u001b[0m \u001b[38;5;124;03mspecific language governing permissions and limitations under the License.\u001b[39;00m\n\u001b[0;32m     18\u001b[0m \u001b[38;5;124;03m\"\"\"\u001b[39;00m\n\u001b[0;32m     20\u001b[0m \u001b[38;5;28;01mfrom\u001b[39;00m \u001b[38;5;21;01mfmdtools\u001b[39;00m\u001b[38;5;21;01m.\u001b[39;00m\u001b[38;5;21;01mdefine\u001b[39;00m \u001b[38;5;28;01mimport\u001b[39;00m base\n\u001b[1;32m---> 21\u001b[0m \u001b[38;5;28;01mimport\u001b[39;00m \u001b[38;5;21;01mfmdtools\u001b[39;00m\u001b[38;5;21;01m.\u001b[39;00m\u001b[38;5;21;01mdefine\u001b[39;00m\u001b[38;5;21;01m.\u001b[39;00m\u001b[38;5;21;01mobject\u001b[39;00m \u001b[38;5;28;01mas\u001b[39;00m \u001b[38;5;21;01mobject\u001b[39;00m\n\u001b[0;32m     22\u001b[0m \u001b[38;5;28;01mimport\u001b[39;00m \u001b[38;5;21;01mfmdtools\u001b[39;00m\u001b[38;5;21;01m.\u001b[39;00m\u001b[38;5;21;01mdefine\u001b[39;00m\u001b[38;5;21;01m.\u001b[39;00m\u001b[38;5;21;01mcontainer\u001b[39;00m \u001b[38;5;28;01mas\u001b[39;00m \u001b[38;5;21;01mcontainer\u001b[39;00m\n\u001b[0;32m     23\u001b[0m \u001b[38;5;28;01mimport\u001b[39;00m \u001b[38;5;21;01mfmdtools\u001b[39;00m\u001b[38;5;21;01m.\u001b[39;00m\u001b[38;5;21;01mdefine\u001b[39;00m\u001b[38;5;21;01m.\u001b[39;00m\u001b[38;5;21;01mflow\u001b[39;00m \u001b[38;5;28;01mas\u001b[39;00m \u001b[38;5;21;01mflow\u001b[39;00m\n",
      "File \u001b[1;32mc:\\users\\dhulse\\documents\\github\\fmdtools\\fmdtools\\define\\object\\__init__.py:20\u001b[0m\n\u001b[0;32m      1\u001b[0m \u001b[38;5;66;03m#!/usr/bin/env python\u001b[39;00m\n\u001b[0;32m      2\u001b[0m \u001b[38;5;66;03m# -*- coding: utf-8 -*-\u001b[39;00m\n\u001b[0;32m      3\u001b[0m \u001b[38;5;124;03m\"\"\"\u001b[39;00m\n\u001b[0;32m      4\u001b[0m \u001b[38;5;124;03mPackage defining various model building blocks.\u001b[39;00m\n\u001b[0;32m      5\u001b[0m \n\u001b[1;32m   (...)\u001b[0m\n\u001b[0;32m     17\u001b[0m \u001b[38;5;124;03mspecific language governing permissions and limitations under the License.\u001b[39;00m\n\u001b[0;32m     18\u001b[0m \u001b[38;5;124;03m\"\"\"\u001b[39;00m\n\u001b[1;32m---> 20\u001b[0m \u001b[38;5;28;01mimport\u001b[39;00m \u001b[38;5;21;01mfmdtools\u001b[39;00m\u001b[38;5;21;01m.\u001b[39;00m\u001b[38;5;21;01mdefine\u001b[39;00m\u001b[38;5;21;01m.\u001b[39;00m\u001b[38;5;21;01mobject\u001b[39;00m\u001b[38;5;21;01m.\u001b[39;00m\u001b[38;5;21;01mbase\u001b[39;00m \u001b[38;5;28;01mas\u001b[39;00m \u001b[38;5;21;01mbase\u001b[39;00m\n\u001b[0;32m     21\u001b[0m \u001b[38;5;28;01mimport\u001b[39;00m \u001b[38;5;21;01mfmdtools\u001b[39;00m\u001b[38;5;21;01m.\u001b[39;00m\u001b[38;5;21;01mdefine\u001b[39;00m\u001b[38;5;21;01m.\u001b[39;00m\u001b[38;5;21;01mobject\u001b[39;00m\u001b[38;5;21;01m.\u001b[39;00m\u001b[38;5;21;01mcoords\u001b[39;00m \u001b[38;5;28;01mas\u001b[39;00m \u001b[38;5;21;01mcoords\u001b[39;00m\n\u001b[0;32m     22\u001b[0m \u001b[38;5;28;01mimport\u001b[39;00m \u001b[38;5;21;01mfmdtools\u001b[39;00m\u001b[38;5;21;01m.\u001b[39;00m\u001b[38;5;21;01mdefine\u001b[39;00m\u001b[38;5;21;01m.\u001b[39;00m\u001b[38;5;21;01mobject\u001b[39;00m\u001b[38;5;21;01m.\u001b[39;00m\u001b[38;5;21;01mgeom\u001b[39;00m \u001b[38;5;28;01mas\u001b[39;00m \u001b[38;5;21;01mgeom\u001b[39;00m\n",
      "File \u001b[1;32mc:\\users\\dhulse\\documents\\github\\fmdtools\\fmdtools\\define\\object\\base.py:31\u001b[0m\n\u001b[0;32m      3\u001b[0m \u001b[38;5;124;03m\"\"\"\u001b[39;00m\n\u001b[0;32m      4\u001b[0m \u001b[38;5;124;03mDefines :class:`BaseObject` class used to define objects.\u001b[39;00m\n\u001b[0;32m      5\u001b[0m \n\u001b[1;32m   (...)\u001b[0m\n\u001b[0;32m     27\u001b[0m \u001b[38;5;124;03mspecific language governing permissions and limitations under the License.\u001b[39;00m\n\u001b[0;32m     28\u001b[0m \u001b[38;5;124;03m\"\"\"\u001b[39;00m\n\u001b[0;32m     30\u001b[0m \u001b[38;5;28;01mfrom\u001b[39;00m \u001b[38;5;21;01mfmdtools\u001b[39;00m\u001b[38;5;21;01m.\u001b[39;00m\u001b[38;5;21;01mdefine\u001b[39;00m\u001b[38;5;21;01m.\u001b[39;00m\u001b[38;5;21;01mbase\u001b[39;00m \u001b[38;5;28;01mimport\u001b[39;00m get_var, get_methods, get_obj_name, get_memory\n\u001b[1;32m---> 31\u001b[0m \u001b[38;5;28;01mfrom\u001b[39;00m \u001b[38;5;21;01mfmdtools\u001b[39;00m\u001b[38;5;21;01m.\u001b[39;00m\u001b[38;5;21;01manalyze\u001b[39;00m\u001b[38;5;21;01m.\u001b[39;00m\u001b[38;5;21;01mcommon\u001b[39;00m \u001b[38;5;28;01mimport\u001b[39;00m get_sub_include\n\u001b[0;32m     32\u001b[0m \u001b[38;5;28;01mfrom\u001b[39;00m \u001b[38;5;21;01mfmdtools\u001b[39;00m\u001b[38;5;21;01m.\u001b[39;00m\u001b[38;5;21;01manalyze\u001b[39;00m\u001b[38;5;21;01m.\u001b[39;00m\u001b[38;5;21;01mhistory\u001b[39;00m \u001b[38;5;28;01mimport\u001b[39;00m History\n\u001b[0;32m     33\u001b[0m \u001b[38;5;28;01mfrom\u001b[39;00m \u001b[38;5;21;01mfmdtools\u001b[39;00m\u001b[38;5;21;01m.\u001b[39;00m\u001b[38;5;21;01manalyze\u001b[39;00m\u001b[38;5;21;01m.\u001b[39;00m\u001b[38;5;21;01mgraph\u001b[39;00m\u001b[38;5;21;01m.\u001b[39;00m\u001b[38;5;21;01mmodel\u001b[39;00m \u001b[38;5;28;01mimport\u001b[39;00m add_node, add_edge, remove_base, ModelGraph\n",
      "File \u001b[1;32mc:\\users\\dhulse\\documents\\github\\fmdtools\\fmdtools\\analyze\\__init__.py:20\u001b[0m\n\u001b[0;32m      1\u001b[0m \u001b[38;5;66;03m#!/usr/bin/env python\u001b[39;00m\n\u001b[0;32m      2\u001b[0m \u001b[38;5;66;03m# -*- coding: utf-8 -*-\u001b[39;00m\n\u001b[0;32m      3\u001b[0m \u001b[38;5;124;03m\"\"\"\u001b[39;00m\n\u001b[0;32m      4\u001b[0m \u001b[38;5;124;03mPackage for analyzing simulation results.\u001b[39;00m\n\u001b[0;32m      5\u001b[0m \n\u001b[1;32m   (...)\u001b[0m\n\u001b[0;32m     17\u001b[0m \u001b[38;5;124;03mspecific language governing permissions and limitations under the License.\u001b[39;00m\n\u001b[0;32m     18\u001b[0m \u001b[38;5;124;03m\"\"\"\u001b[39;00m\n\u001b[1;32m---> 20\u001b[0m \u001b[38;5;28;01mfrom\u001b[39;00m \u001b[38;5;21;01mfmdtools\u001b[39;00m\u001b[38;5;21;01m.\u001b[39;00m\u001b[38;5;21;01manalyze\u001b[39;00m \u001b[38;5;28;01mimport\u001b[39;00m common\n\u001b[0;32m     21\u001b[0m \u001b[38;5;28;01mfrom\u001b[39;00m \u001b[38;5;21;01mfmdtools\u001b[39;00m\u001b[38;5;21;01m.\u001b[39;00m\u001b[38;5;21;01manalyze\u001b[39;00m \u001b[38;5;28;01mimport\u001b[39;00m result\n\u001b[0;32m     22\u001b[0m \u001b[38;5;28;01mfrom\u001b[39;00m \u001b[38;5;21;01mfmdtools\u001b[39;00m\u001b[38;5;21;01m.\u001b[39;00m\u001b[38;5;21;01manalyze\u001b[39;00m \u001b[38;5;28;01mimport\u001b[39;00m history\n",
      "File \u001b[1;32mc:\\users\\dhulse\\documents\\github\\fmdtools\\fmdtools\\analyze\\common.py:35\u001b[0m\n\u001b[0;32m      3\u001b[0m \u001b[38;5;124;03m\"\"\"\u001b[39;00m\n\u001b[0;32m      4\u001b[0m \u001b[38;5;124;03mSome common methods for analysis used by other modules.\u001b[39;00m\n\u001b[0;32m      5\u001b[0m \n\u001b[1;32m   (...)\u001b[0m\n\u001b[0;32m     32\u001b[0m \u001b[38;5;124;03mspecific language governing permissions and limitations under the License.\u001b[39;00m\n\u001b[0;32m     33\u001b[0m \u001b[38;5;124;03m\"\"\"\u001b[39;00m\n\u001b[0;32m     34\u001b[0m \u001b[38;5;28;01mimport\u001b[39;00m \u001b[38;5;21;01mnumpy\u001b[39;00m \u001b[38;5;28;01mas\u001b[39;00m \u001b[38;5;21;01mnp\u001b[39;00m\n\u001b[1;32m---> 35\u001b[0m \u001b[38;5;28;01mimport\u001b[39;00m \u001b[38;5;21;01mmatplotlib\u001b[39;00m\u001b[38;5;21;01m.\u001b[39;00m\u001b[38;5;21;01mpyplot\u001b[39;00m \u001b[38;5;28;01mas\u001b[39;00m \u001b[38;5;21;01mplt\u001b[39;00m\n\u001b[0;32m     38\u001b[0m plt\u001b[38;5;241m.\u001b[39mrcParams[\u001b[38;5;124m'\u001b[39m\u001b[38;5;124mpdf.fonttype\u001b[39m\u001b[38;5;124m'\u001b[39m] \u001b[38;5;241m=\u001b[39m \u001b[38;5;241m42\u001b[39m\n\u001b[0;32m     41\u001b[0m \u001b[38;5;28;01mdef\u001b[39;00m \u001b[38;5;21mget_sub_include\u001b[39m(att, to_include):\n",
      "File \u001b[1;32m~\\AppData\\Roaming\\Python\\Python310\\site-packages\\matplotlib\\__init__.py:144\u001b[0m\n\u001b[0;32m    140\u001b[0m \u001b[38;5;28;01mfrom\u001b[39;00m \u001b[38;5;21;01mpackaging\u001b[39;00m\u001b[38;5;21;01m.\u001b[39;00m\u001b[38;5;21;01mversion\u001b[39;00m \u001b[38;5;28;01mimport\u001b[39;00m parse \u001b[38;5;28;01mas\u001b[39;00m parse_version\n\u001b[0;32m    142\u001b[0m \u001b[38;5;66;03m# cbook must import matplotlib only within function\u001b[39;00m\n\u001b[0;32m    143\u001b[0m \u001b[38;5;66;03m# definitions, so it is safe to import from it here.\u001b[39;00m\n\u001b[1;32m--> 144\u001b[0m \u001b[38;5;28;01mfrom\u001b[39;00m \u001b[38;5;21;01m.\u001b[39;00m \u001b[38;5;28;01mimport\u001b[39;00m _api, _version, cbook, _docstring, rcsetup\n\u001b[0;32m    145\u001b[0m \u001b[38;5;28;01mfrom\u001b[39;00m \u001b[38;5;21;01mmatplotlib\u001b[39;00m\u001b[38;5;21;01m.\u001b[39;00m\u001b[38;5;21;01mcbook\u001b[39;00m \u001b[38;5;28;01mimport\u001b[39;00m sanitize_sequence\n\u001b[0;32m    146\u001b[0m \u001b[38;5;28;01mfrom\u001b[39;00m \u001b[38;5;21;01mmatplotlib\u001b[39;00m\u001b[38;5;21;01m.\u001b[39;00m\u001b[38;5;21;01m_api\u001b[39;00m \u001b[38;5;28;01mimport\u001b[39;00m MatplotlibDeprecationWarning\n",
      "File \u001b[1;32m~\\AppData\\Roaming\\Python\\Python310\\site-packages\\matplotlib\\rcsetup.py:27\u001b[0m\n\u001b[0;32m     25\u001b[0m \u001b[38;5;28;01mfrom\u001b[39;00m \u001b[38;5;21;01mmatplotlib\u001b[39;00m \u001b[38;5;28;01mimport\u001b[39;00m _api, cbook\n\u001b[0;32m     26\u001b[0m \u001b[38;5;28;01mfrom\u001b[39;00m \u001b[38;5;21;01mmatplotlib\u001b[39;00m\u001b[38;5;21;01m.\u001b[39;00m\u001b[38;5;21;01mcbook\u001b[39;00m \u001b[38;5;28;01mimport\u001b[39;00m ls_mapper\n\u001b[1;32m---> 27\u001b[0m \u001b[38;5;28;01mfrom\u001b[39;00m \u001b[38;5;21;01mmatplotlib\u001b[39;00m\u001b[38;5;21;01m.\u001b[39;00m\u001b[38;5;21;01mcolors\u001b[39;00m \u001b[38;5;28;01mimport\u001b[39;00m Colormap, is_color_like\n\u001b[0;32m     28\u001b[0m \u001b[38;5;28;01mfrom\u001b[39;00m \u001b[38;5;21;01mmatplotlib\u001b[39;00m\u001b[38;5;21;01m.\u001b[39;00m\u001b[38;5;21;01m_fontconfig_pattern\u001b[39;00m \u001b[38;5;28;01mimport\u001b[39;00m parse_fontconfig_pattern\n\u001b[0;32m     29\u001b[0m \u001b[38;5;28;01mfrom\u001b[39;00m \u001b[38;5;21;01mmatplotlib\u001b[39;00m\u001b[38;5;21;01m.\u001b[39;00m\u001b[38;5;21;01m_enums\u001b[39;00m \u001b[38;5;28;01mimport\u001b[39;00m JoinStyle, CapStyle\n",
      "File \u001b[1;32m~\\AppData\\Roaming\\Python\\Python310\\site-packages\\matplotlib\\colors.py:57\u001b[0m\n\u001b[0;32m     55\u001b[0m \u001b[38;5;28;01mimport\u001b[39;00m \u001b[38;5;21;01mmatplotlib\u001b[39;00m \u001b[38;5;28;01mas\u001b[39;00m \u001b[38;5;21;01mmpl\u001b[39;00m\n\u001b[0;32m     56\u001b[0m \u001b[38;5;28;01mimport\u001b[39;00m \u001b[38;5;21;01mnumpy\u001b[39;00m \u001b[38;5;28;01mas\u001b[39;00m \u001b[38;5;21;01mnp\u001b[39;00m\n\u001b[1;32m---> 57\u001b[0m \u001b[38;5;28;01mfrom\u001b[39;00m \u001b[38;5;21;01mmatplotlib\u001b[39;00m \u001b[38;5;28;01mimport\u001b[39;00m _api, _cm, cbook, scale\n\u001b[0;32m     58\u001b[0m \u001b[38;5;28;01mfrom\u001b[39;00m \u001b[38;5;21;01m.\u001b[39;00m\u001b[38;5;21;01m_color_data\u001b[39;00m \u001b[38;5;28;01mimport\u001b[39;00m BASE_COLORS, TABLEAU_COLORS, CSS4_COLORS, XKCD_COLORS\n\u001b[0;32m     61\u001b[0m \u001b[38;5;28;01mclass\u001b[39;00m \u001b[38;5;21;01m_ColorMapping\u001b[39;00m(\u001b[38;5;28mdict\u001b[39m):\n",
      "File \u001b[1;32m~\\AppData\\Roaming\\Python\\Python310\\site-packages\\matplotlib\\scale.py:22\u001b[0m\n\u001b[0;32m     20\u001b[0m \u001b[38;5;28;01mimport\u001b[39;00m \u001b[38;5;21;01mmatplotlib\u001b[39;00m \u001b[38;5;28;01mas\u001b[39;00m \u001b[38;5;21;01mmpl\u001b[39;00m\n\u001b[0;32m     21\u001b[0m \u001b[38;5;28;01mfrom\u001b[39;00m \u001b[38;5;21;01mmatplotlib\u001b[39;00m \u001b[38;5;28;01mimport\u001b[39;00m _api, _docstring\n\u001b[1;32m---> 22\u001b[0m \u001b[38;5;28;01mfrom\u001b[39;00m \u001b[38;5;21;01mmatplotlib\u001b[39;00m\u001b[38;5;21;01m.\u001b[39;00m\u001b[38;5;21;01mticker\u001b[39;00m \u001b[38;5;28;01mimport\u001b[39;00m (\n\u001b[0;32m     23\u001b[0m     NullFormatter, ScalarFormatter, LogFormatterSciNotation, LogitFormatter,\n\u001b[0;32m     24\u001b[0m     NullLocator, LogLocator, AutoLocator, AutoMinorLocator,\n\u001b[0;32m     25\u001b[0m     SymmetricalLogLocator, AsinhLocator, LogitLocator)\n\u001b[0;32m     26\u001b[0m \u001b[38;5;28;01mfrom\u001b[39;00m \u001b[38;5;21;01mmatplotlib\u001b[39;00m\u001b[38;5;21;01m.\u001b[39;00m\u001b[38;5;21;01mtransforms\u001b[39;00m \u001b[38;5;28;01mimport\u001b[39;00m Transform, IdentityTransform\n\u001b[0;32m     29\u001b[0m \u001b[38;5;28;01mclass\u001b[39;00m \u001b[38;5;21;01mScaleBase\u001b[39;00m:\n",
      "File \u001b[1;32m~\\AppData\\Roaming\\Python\\Python310\\site-packages\\matplotlib\\ticker.py:138\u001b[0m\n\u001b[0;32m    136\u001b[0m \u001b[38;5;28;01mimport\u001b[39;00m \u001b[38;5;21;01mmatplotlib\u001b[39;00m \u001b[38;5;28;01mas\u001b[39;00m \u001b[38;5;21;01mmpl\u001b[39;00m\n\u001b[0;32m    137\u001b[0m \u001b[38;5;28;01mfrom\u001b[39;00m \u001b[38;5;21;01mmatplotlib\u001b[39;00m \u001b[38;5;28;01mimport\u001b[39;00m _api, cbook\n\u001b[1;32m--> 138\u001b[0m \u001b[38;5;28;01mfrom\u001b[39;00m \u001b[38;5;21;01mmatplotlib\u001b[39;00m \u001b[38;5;28;01mimport\u001b[39;00m transforms \u001b[38;5;28;01mas\u001b[39;00m mtransforms\n\u001b[0;32m    140\u001b[0m _log \u001b[38;5;241m=\u001b[39m logging\u001b[38;5;241m.\u001b[39mgetLogger(\u001b[38;5;18m__name__\u001b[39m)\n\u001b[0;32m    142\u001b[0m __all__ \u001b[38;5;241m=\u001b[39m (\u001b[38;5;124m'\u001b[39m\u001b[38;5;124mTickHelper\u001b[39m\u001b[38;5;124m'\u001b[39m, \u001b[38;5;124m'\u001b[39m\u001b[38;5;124mFormatter\u001b[39m\u001b[38;5;124m'\u001b[39m, \u001b[38;5;124m'\u001b[39m\u001b[38;5;124mFixedFormatter\u001b[39m\u001b[38;5;124m'\u001b[39m,\n\u001b[0;32m    143\u001b[0m            \u001b[38;5;124m'\u001b[39m\u001b[38;5;124mNullFormatter\u001b[39m\u001b[38;5;124m'\u001b[39m, \u001b[38;5;124m'\u001b[39m\u001b[38;5;124mFuncFormatter\u001b[39m\u001b[38;5;124m'\u001b[39m, \u001b[38;5;124m'\u001b[39m\u001b[38;5;124mFormatStrFormatter\u001b[39m\u001b[38;5;124m'\u001b[39m,\n\u001b[0;32m    144\u001b[0m            \u001b[38;5;124m'\u001b[39m\u001b[38;5;124mStrMethodFormatter\u001b[39m\u001b[38;5;124m'\u001b[39m, \u001b[38;5;124m'\u001b[39m\u001b[38;5;124mScalarFormatter\u001b[39m\u001b[38;5;124m'\u001b[39m, \u001b[38;5;124m'\u001b[39m\u001b[38;5;124mLogFormatter\u001b[39m\u001b[38;5;124m'\u001b[39m,\n\u001b[1;32m   (...)\u001b[0m\n\u001b[0;32m    150\u001b[0m            \u001b[38;5;124m'\u001b[39m\u001b[38;5;124mMultipleLocator\u001b[39m\u001b[38;5;124m'\u001b[39m, \u001b[38;5;124m'\u001b[39m\u001b[38;5;124mMaxNLocator\u001b[39m\u001b[38;5;124m'\u001b[39m, \u001b[38;5;124m'\u001b[39m\u001b[38;5;124mAutoMinorLocator\u001b[39m\u001b[38;5;124m'\u001b[39m,\n\u001b[0;32m    151\u001b[0m            \u001b[38;5;124m'\u001b[39m\u001b[38;5;124mSymmetricalLogLocator\u001b[39m\u001b[38;5;124m'\u001b[39m, \u001b[38;5;124m'\u001b[39m\u001b[38;5;124mAsinhLocator\u001b[39m\u001b[38;5;124m'\u001b[39m, \u001b[38;5;124m'\u001b[39m\u001b[38;5;124mLogitLocator\u001b[39m\u001b[38;5;124m'\u001b[39m)\n",
      "File \u001b[1;32m~\\AppData\\Roaming\\Python\\Python310\\site-packages\\matplotlib\\transforms.py:49\u001b[0m\n\u001b[0;32m     46\u001b[0m \u001b[38;5;28;01mfrom\u001b[39;00m \u001b[38;5;21;01mnumpy\u001b[39;00m\u001b[38;5;21;01m.\u001b[39;00m\u001b[38;5;21;01mlinalg\u001b[39;00m \u001b[38;5;28;01mimport\u001b[39;00m inv\n\u001b[0;32m     48\u001b[0m \u001b[38;5;28;01mfrom\u001b[39;00m \u001b[38;5;21;01mmatplotlib\u001b[39;00m \u001b[38;5;28;01mimport\u001b[39;00m _api\n\u001b[1;32m---> 49\u001b[0m \u001b[38;5;28;01mfrom\u001b[39;00m \u001b[38;5;21;01mmatplotlib\u001b[39;00m\u001b[38;5;21;01m.\u001b[39;00m\u001b[38;5;21;01m_path\u001b[39;00m \u001b[38;5;28;01mimport\u001b[39;00m (\n\u001b[0;32m     50\u001b[0m     affine_transform, count_bboxes_overlapping_bbox, update_path_extents)\n\u001b[0;32m     51\u001b[0m \u001b[38;5;28;01mfrom\u001b[39;00m \u001b[38;5;21;01m.\u001b[39;00m\u001b[38;5;21;01mpath\u001b[39;00m \u001b[38;5;28;01mimport\u001b[39;00m Path\n\u001b[0;32m     53\u001b[0m DEBUG \u001b[38;5;241m=\u001b[39m \u001b[38;5;28;01mFalse\u001b[39;00m\n",
      "\u001b[1;31mImportError\u001b[0m: DLL load failed while importing _path: The specified module could not be found."
     ]
    }
   ],
   "source": [
    "import fmdtools.sim.propagate as propagate\n",
    "from fmdtools.analyze import tabulate\n",
    "\n",
    "import matplotlib.pyplot as plt\n",
    "from mpl_toolkits.mplot3d import Axes3D\n",
    "import pandas as pd\n",
    "import numpy as np"
   ]
  },
  {
   "cell_type": "markdown",
   "id": "d3b02946",
   "metadata": {},
   "source": [
    "## Model Overview\n",
    "The drone model is defined in `drone_mdl_urban.py`, along with some visualization functions."
   ]
  },
  {
   "cell_type": "code",
   "execution_count": 2,
   "id": "7739b161",
   "metadata": {
    "execution": {
     "iopub.execute_input": "2024-10-21T23:51:42.761475Z",
     "iopub.status.busy": "2024-10-21T23:51:42.761475Z",
     "iopub.status.idle": "2024-10-21T23:51:43.582571Z",
     "shell.execute_reply": "2024-10-21T23:51:43.581571Z"
    }
   },
   "outputs": [],
   "source": [
    "from drone_mdl_urban import Drone"
   ]
  },
  {
   "cell_type": "code",
   "execution_count": 3,
   "id": "41bc173d",
   "metadata": {
    "execution": {
     "iopub.execute_input": "2024-08-22T16:03:34.871300Z",
     "iopub.status.busy": "2024-08-22T16:03:34.871300Z",
     "iopub.status.idle": "2024-08-22T16:03:34.892158Z",
     "shell.execute_reply": "2024-08-22T16:03:34.892158Z"
    }
   },
   "outputs": [],
   "source": [
    "mdl = Drone()"
   ]
  },
  {
   "cell_type": "markdown",
   "id": "1391be1b",
   "metadata": {},
   "source": [
    "This is the model structure:"
   ]
  },
  {
   "cell_type": "code",
   "execution_count": 4,
   "id": "9dad9225",
   "metadata": {
    "execution": {
     "iopub.execute_input": "2024-08-22T16:03:34.895144Z",
     "iopub.status.busy": "2024-08-22T16:03:34.895144Z",
     "iopub.status.idle": "2024-08-22T16:03:35.367157Z",
     "shell.execute_reply": "2024-08-22T16:03:35.367157Z"
    }
   },
   "outputs": [],
   "source": [
    "mg = mdl.as_modelgraph()\n",
    "fig, ax = mg.draw()"
   ]
  },
  {
   "cell_type": "markdown",
   "id": "eb3be54c",
   "metadata": {},
   "source": [
    "We can also view the grid environment using its `show` methods:"
   ]
  },
  {
   "cell_type": "code",
   "execution_count": 5,
   "id": "dbbaf550",
   "metadata": {
    "execution": {
     "iopub.execute_input": "2024-08-22T16:03:35.370555Z",
     "iopub.status.busy": "2024-08-22T16:03:35.370526Z",
     "iopub.status.idle": "2024-08-22T16:03:35.567932Z",
     "shell.execute_reply": "2024-08-22T16:03:35.567932Z"
    }
   },
   "outputs": [],
   "source": [
    "collections={\"all_occupied\": {\"color\": \"red\"}, \"all_allowed\": {\"color\": \"blue\"}, \"start\": {\"color\": \"blue\"}, \"end\": {\"color\": \"blue\"}}\n",
    "fig, ax = mdl.flows['environment'].c.show({\"height\": {}}, collections=collections)"
   ]
  },
  {
   "cell_type": "markdown",
   "id": "7bfee0ec",
   "metadata": {},
   "source": [
    "Which shows the Start, End, and allowed/unsafe locations in the 1000x1000-m grid. In this display, line thickness corresponds to building height, and hatching corresponds to whether or not the space is occupied. We can also display this using `show.coord3d`:"
   ]
  },
  {
   "cell_type": "code",
   "execution_count": 6,
   "id": "d2ce0a3f",
   "metadata": {
    "execution": {
     "iopub.execute_input": "2024-08-22T16:03:35.570931Z",
     "iopub.status.busy": "2024-08-22T16:03:35.570931Z",
     "iopub.status.idle": "2024-08-22T16:03:36.318566Z",
     "shell.execute_reply": "2024-08-22T16:03:36.318566Z"
    }
   },
   "outputs": [],
   "source": [
    "fig, ax = mdl.flows['environment'].c.show_z(\"height\", collections=collections)"
   ]
  },
  {
   "cell_type": "markdown",
   "id": "814c4a5e",
   "metadata": {},
   "source": [
    "## Nominal Simulation\n",
    "\n",
    "Below we show how this drone performs in the nominal scenario."
   ]
  },
  {
   "cell_type": "code",
   "execution_count": 7,
   "id": "c231ac77",
   "metadata": {
    "execution": {
     "iopub.execute_input": "2024-08-22T16:03:36.318566Z",
     "iopub.status.busy": "2024-08-22T16:03:36.318566Z",
     "iopub.status.idle": "2024-08-22T16:03:38.557313Z",
     "shell.execute_reply": "2024-08-22T16:03:38.557313Z"
    }
   },
   "outputs": [],
   "source": [
    "results_nom, hist_nom =propagate.nominal(mdl)\n",
    "fig, axs = hist_nom.plot_line(\"fxns.store_ee.s.soc\",\n",
    "                            'flows.ee_1.s.rate',\n",
    "                            'flows.dofs.s.z',\n",
    "                            'fxns.plan_path.m.mode',\n",
    "                            'fxns.plan_path.s.pt',\n",
    "                            'flows.des_traj.s.power')"
   ]
  },
  {
   "cell_type": "markdown",
   "id": "cccb35b1",
   "metadata": {},
   "source": [
    "As shown, the flight ends fairly quickly (in 10 minutes), with the drone successively proceeding through points in the flight plan.\n",
    "\n",
    "We can also view this flightpath in 3-d space using `History.plot_trajectories`:"
   ]
  },
  {
   "cell_type": "code",
   "execution_count": 8,
   "id": "fe325175",
   "metadata": {
    "execution": {
     "iopub.execute_input": "2024-08-22T16:03:38.557313Z",
     "iopub.status.busy": "2024-08-22T16:03:38.557313Z",
     "iopub.status.idle": "2024-08-22T16:03:38.666817Z",
     "shell.execute_reply": "2024-08-22T16:03:38.665786Z"
    }
   },
   "outputs": [],
   "source": [
    "fig, ax = hist_nom.plot_trajectories('dofs.s.x', 'dofs.s.y', 'dofs.s.z')"
   ]
  },
  {
   "cell_type": "markdown",
   "id": "ef3e756c",
   "metadata": {},
   "source": [
    "Trajectory plots can be overlaid on top of environment plots. In this case, we defined the method `plot_env_with_traj` and `plot_env_with_traj_z` for this case."
   ]
  },
  {
   "cell_type": "code",
   "execution_count": 9,
   "id": "b8cbc3a8",
   "metadata": {
    "execution": {
     "iopub.execute_input": "2024-08-22T16:03:38.666817Z",
     "iopub.status.busy": "2024-08-22T16:03:38.666817Z",
     "iopub.status.idle": "2024-08-22T16:03:38.673483Z",
     "shell.execute_reply": "2024-08-22T16:03:38.673483Z"
    }
   },
   "outputs": [],
   "source": [
    "from drone_mdl_urban import plot_env_with_traj, plot_env_with_traj_z\n"
   ]
  },
  {
   "cell_type": "code",
   "execution_count": 10,
   "id": "deb06851",
   "metadata": {
    "execution": {
     "iopub.execute_input": "2024-08-22T16:03:38.673483Z",
     "iopub.status.busy": "2024-08-22T16:03:38.673483Z",
     "iopub.status.idle": "2024-08-22T16:03:38.944044Z",
     "shell.execute_reply": "2024-08-22T16:03:38.944044Z"
    }
   },
   "outputs": [],
   "source": [
    "plot_env_with_traj_z(hist_nom, mdl)"
   ]
  },
  {
   "cell_type": "code",
   "execution_count": 11,
   "id": "2760cf79",
   "metadata": {
    "execution": {
     "iopub.execute_input": "2024-08-22T16:03:38.947049Z",
     "iopub.status.busy": "2024-08-22T16:03:38.947049Z",
     "iopub.status.idle": "2024-08-22T16:03:39.159101Z",
     "shell.execute_reply": "2024-08-22T16:03:39.159101Z"
    }
   },
   "outputs": [],
   "source": [
    "plot_env_with_traj(hist_nom, mdl)"
   ]
  },
  {
   "cell_type": "markdown",
   "id": "768a8294",
   "metadata": {},
   "source": [
    "As shown, this is a rather simple straight-line path. If we wanted a more complex scenario, we could make the path more complex by adding multiple destinations or planning the path based on allowed flight/landing locations.\n",
    "\n",
    "As it is, we may also want to adjust the timestep/speed to get more resolution, since the drone only has a few discrete timesteps in the air.\n",
    "\n",
    "The results for the simulation are:"
   ]
  },
  {
   "cell_type": "code",
   "execution_count": 12,
   "id": "3bc06cda",
   "metadata": {
    "execution": {
     "iopub.execute_input": "2024-08-22T16:03:39.159101Z",
     "iopub.status.busy": "2024-08-22T16:03:39.159101Z",
     "iopub.status.idle": "2024-08-22T16:03:39.167114Z",
     "shell.execute_reply": "2024-08-22T16:03:39.167114Z"
    }
   },
   "outputs": [],
   "source": [
    "results_nom"
   ]
  },
  {
   "cell_type": "markdown",
   "id": "7e28e425",
   "metadata": {},
   "source": [
    "## Resilience model\n",
    "A number of different faults have been implemented in the system.\n",
    "\n",
    "For example, here we inject a mechanical fault in the left-rear rotor during flight:"
   ]
  },
  {
   "cell_type": "code",
   "execution_count": 13,
   "id": "645caaf1",
   "metadata": {
    "execution": {
     "iopub.execute_input": "2024-08-22T16:03:39.167114Z",
     "iopub.status.busy": "2024-08-22T16:03:39.167114Z",
     "iopub.status.idle": "2024-08-22T16:03:39.175238Z",
     "shell.execute_reply": "2024-08-22T16:03:39.175238Z"
    }
   },
   "outputs": [],
   "source": [
    "mdl.fxns['affect_dof'].m.faultmodes"
   ]
  },
  {
   "cell_type": "code",
   "execution_count": 14,
   "id": "29346193",
   "metadata": {
    "execution": {
     "iopub.execute_input": "2024-08-22T16:03:39.176779Z",
     "iopub.status.busy": "2024-08-22T16:03:39.176779Z",
     "iopub.status.idle": "2024-08-22T16:03:42.718705Z",
     "shell.execute_reply": "2024-08-22T16:03:42.718705Z"
    }
   },
   "outputs": [],
   "source": [
    "results_fault, hist_fault =propagate.one_fault(mdl, \"affect_dof\", \"lr_mechbreak\", time=2.0)"
   ]
  },
  {
   "cell_type": "code",
   "execution_count": 15,
   "id": "92262c68",
   "metadata": {
    "execution": {
     "iopub.execute_input": "2024-08-22T16:03:42.718705Z",
     "iopub.status.busy": "2024-08-22T16:03:42.718705Z",
     "iopub.status.idle": "2024-08-22T16:03:43.282173Z",
     "shell.execute_reply": "2024-08-22T16:03:43.282173Z"
    }
   },
   "outputs": [],
   "source": [
    "fig, axs = hist_fault.plot_line(\"fxns.store_ee.s.soc\",\n",
    "                                'flows.ee_1.s.rate',\n",
    "                                'flows.dofs.s.z',\n",
    "                                'fxns.plan_path.m.mode',\n",
    "                                'fxns.plan_path.s.pt',\n",
    "                                'flows.des_traj.s.power')"
   ]
  },
  {
   "cell_type": "code",
   "execution_count": 16,
   "id": "e76646a8",
   "metadata": {
    "execution": {
     "iopub.execute_input": "2024-08-22T16:03:43.282173Z",
     "iopub.status.busy": "2024-08-22T16:03:43.282173Z",
     "iopub.status.idle": "2024-08-22T16:03:43.546041Z",
     "shell.execute_reply": "2024-08-22T16:03:43.546041Z"
    }
   },
   "outputs": [],
   "source": [
    "plot_env_with_traj_z(hist_fault, mdl)"
   ]
  },
  {
   "cell_type": "code",
   "execution_count": 17,
   "id": "c0536746",
   "metadata": {
    "execution": {
     "iopub.execute_input": "2024-08-22T16:03:43.547046Z",
     "iopub.status.busy": "2024-08-22T16:03:43.547046Z",
     "iopub.status.idle": "2024-08-22T16:03:43.768069Z",
     "shell.execute_reply": "2024-08-22T16:03:43.768069Z"
    }
   },
   "outputs": [],
   "source": [
    "plot_env_with_traj(hist_fault, mdl)"
   ]
  },
  {
   "cell_type": "code",
   "execution_count": 18,
   "id": "10020cbb",
   "metadata": {
    "execution": {
     "iopub.execute_input": "2024-08-22T16:03:43.768069Z",
     "iopub.status.busy": "2024-08-22T16:03:43.768069Z",
     "iopub.status.idle": "2024-08-22T16:03:43.775423Z",
     "shell.execute_reply": "2024-08-22T16:03:43.775423Z"
    }
   },
   "outputs": [],
   "source": [
    "results_fault"
   ]
  },
  {
   "cell_type": "markdown",
   "id": "e49cb623",
   "metadata": {},
   "source": [
    "Here we inject a large list of faults in the system and evaluate their relative consequences in terms of metrics calculated in find_classification:"
   ]
  },
  {
   "cell_type": "code",
   "execution_count": 19,
   "id": "7f1f1452",
   "metadata": {
    "execution": {
     "iopub.execute_input": "2024-08-22T16:03:43.776969Z",
     "iopub.status.busy": "2024-08-22T16:03:43.776969Z",
     "iopub.status.idle": "2024-08-22T16:03:43.783704Z",
     "shell.execute_reply": "2024-08-22T16:03:43.783704Z"
    }
   },
   "outputs": [],
   "source": [
    "from fmdtools.analyze.phases import PhaseMap, from_hist\n",
    "phasemaps = from_hist(hist_nom, fxn_modephases=[])\n",
    "phasemaps"
   ]
  },
  {
   "cell_type": "code",
   "execution_count": 20,
   "id": "cb209a94",
   "metadata": {
    "execution": {
     "iopub.execute_input": "2024-08-22T16:03:43.786710Z",
     "iopub.status.busy": "2024-08-22T16:03:43.783704Z",
     "iopub.status.idle": "2024-08-22T16:03:43.935681Z",
     "shell.execute_reply": "2024-08-22T16:03:43.935681Z"
    }
   },
   "outputs": [],
   "source": [
    "from drone_mdl_urban import make_move_quad\n",
    "move_quad=make_move_quad(hist_nom, phasemaps['plan_path'].phases['move'])\n",
    "move_quad"
   ]
  },
  {
   "cell_type": "code",
   "execution_count": 21,
   "id": "9415be3d",
   "metadata": {
    "execution": {
     "iopub.execute_input": "2024-08-22T16:03:43.937211Z",
     "iopub.status.busy": "2024-08-22T16:03:43.937211Z",
     "iopub.status.idle": "2024-08-22T16:03:43.946036Z",
     "shell.execute_reply": "2024-08-22T16:03:43.946036Z"
    }
   },
   "outputs": [],
   "source": [
    "from fmdtools.sim.sample import FaultDomain, FaultSample\n",
    "\n",
    "\n",
    "fd = FaultDomain(mdl)\n",
    "fd.add_all()\n",
    "\n",
    "fs = FaultSample(fd, phasemap = phasemaps['plan_path'])\n",
    "fs.add_fault_phases(\"move\", method = \"quad\",\n",
    "                    args=(move_quad['quad']['nodes'], move_quad['quad']['weights']))\n",
    "\n",
    "fs"
   ]
  },
  {
   "cell_type": "code",
   "execution_count": 22,
   "id": "6b0e9b5a",
   "metadata": {
    "execution": {
     "iopub.execute_input": "2024-08-22T16:03:43.947041Z",
     "iopub.status.busy": "2024-08-22T16:03:43.947041Z",
     "iopub.status.idle": "2024-08-22T16:07:15.714579Z",
     "shell.execute_reply": "2024-08-22T16:07:15.714579Z"
    }
   },
   "outputs": [],
   "source": [
    "endresults, hists = propagate.fault_sample(mdl, fs, staged=False)"
   ]
  },
  {
   "cell_type": "code",
   "execution_count": 23,
   "id": "abc4847a",
   "metadata": {
    "execution": {
     "iopub.execute_input": "2024-08-22T16:07:15.718122Z",
     "iopub.status.busy": "2024-08-22T16:07:15.718122Z",
     "iopub.status.idle": "2024-08-22T16:07:16.715927Z",
     "shell.execute_reply": "2024-08-22T16:07:16.715927Z"
    }
   },
   "outputs": [],
   "source": [
    "plot_env_with_traj_z(hists , mdl)"
   ]
  },
  {
   "cell_type": "code",
   "execution_count": 24,
   "id": "0bc5bba6",
   "metadata": {
    "execution": {
     "iopub.execute_input": "2024-08-22T16:07:16.718035Z",
     "iopub.status.busy": "2024-08-22T16:07:16.718035Z",
     "iopub.status.idle": "2024-08-22T16:07:16.829338Z",
     "shell.execute_reply": "2024-08-22T16:07:16.829338Z"
    }
   },
   "outputs": [],
   "source": [
    "statsfmea = tabulate.FMEA(endresults, fs,\n",
    "                          weight_metrics=['rate'],\n",
    "                          avg_metrics=['unsafe_flight_time', 'cost', 'repcost',\n",
    "                                       'landcost', 'body_strikes',\n",
    "                                       'head_strikes', 'property_restrictions'])\n",
    "fmeatab = statsfmea.as_table(sort_by=\"cost\")\n",
    "fmeatab"
   ]
  },
  {
   "cell_type": "code",
   "execution_count": null,
   "id": "4b03aea6",
   "metadata": {},
   "outputs": [],
   "source": []
  }
 ],
 "metadata": {
  "kernelspec": {
   "display_name": "Python 3 (ipykernel)",
   "language": "python",
   "name": "python3"
  },
  "language_info": {
   "codemirror_mode": {
    "name": "ipython",
    "version": 3
   },
   "file_extension": ".py",
   "mimetype": "text/x-python",
   "name": "python",
   "nbconvert_exporter": "python",
   "pygments_lexer": "ipython3",
   "version": "3.10.9"
  }
 },
 "nbformat": 4,
 "nbformat_minor": 5
}
