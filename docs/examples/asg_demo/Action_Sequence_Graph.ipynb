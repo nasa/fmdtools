{
 "cells": [
  {
   "cell_type": "markdown",
   "id": "cd4f0a15",
   "metadata": {},
   "source": [
    "# Action Sequence Graph Tutorial\n",
    "\n",
    "This tutorial covers use of the ActionArchitecture in the Function class, which is useful for representing a Function's progress through an action sequence graph, the different actions/tasks to be performed by a function (e.g., modes of operation, etc)..\n",
    "\n",
    "```\n",
    "Copyright © 2024, United States Government, as represented by the Administrator of the National Aeronautics and Space Administration. All rights reserved.\n",
    "\n",
    "The “\"Fault Model Design tools - fmdtools version 2\"” software is licensed under the Apache License, Version 2.0 (the \"License\"); you may not use this file except in compliance with the License. You may obtain a copy of the License at http://www.apache.org/licenses/LICENSE-2.0. \n",
    "\n",
    "Unless required by applicable law or agreed to in writing, software distributed under the License is distributed on an \"AS IS\" BASIS, WITHOUT WARRANTIES OR CONDITIONS OF ANY KIND, either express or implied. See the License for the specific language governing permissions and limitations under the License.\n",
    "```"
   ]
  },
  {
   "cell_type": "code",
   "execution_count": 1,
   "id": "aaeffd7f",
   "metadata": {
    "execution": {
     "iopub.execute_input": "2024-10-22T00:12:44.742464Z",
     "iopub.status.busy": "2024-10-22T00:12:44.742464Z",
     "iopub.status.idle": "2024-10-22T00:12:46.382280Z",
     "shell.execute_reply": "2024-10-22T00:12:46.382280Z"
    }
   },
   "outputs": [],
   "source": [
    "import fmdtools.sim.propagate as prop\n",
    "import inspect"
   ]
  },
  {
   "cell_type": "markdown",
   "id": "8431ee3c",
   "metadata": {},
   "source": [
    "Action architectures are used within a function block to represent Action Sequence Graphs - actions that the function performs and their sequence. Actions in an ActionArchitecture are respresented by `Action` blocks, which are similar to function and component blocks in that they have:\n",
    "- flow connections\n",
    "- modes, and\n",
    "- behaviors\n",
    "\n",
    "Flow connections are routed to the action in the function block definition and represent the *shared variables* between the actions.\n",
    "\n",
    "Modes are similar to function modes and are instantiated (as they are in components) at both the Function and Action level. Using the `name=` option enables one to tag these modes as action modes at the function level while using the same local name"
   ]
  },
  {
   "cell_type": "markdown",
   "id": "c51db872",
   "metadata": {},
   "source": [
    "Below we define the states to performed by the ASG:\n",
    "- Outcome, which tracks the number of actions and perceptions performed by the ASG\n",
    "- HazardState, which specifies whether a hazard is present, percieved, or mitigated"
   ]
  },
  {
   "cell_type": "code",
   "execution_count": 2,
   "id": "7a4209f1",
   "metadata": {
    "execution": {
     "iopub.execute_input": "2024-10-22T00:12:46.386375Z",
     "iopub.status.busy": "2024-10-22T00:12:46.385383Z",
     "iopub.status.idle": "2024-10-22T00:12:47.196058Z",
     "shell.execute_reply": "2024-10-22T00:12:47.195060Z"
    }
   },
   "outputs": [
    {
     "ename": "ModuleNotFoundError",
     "evalue": "No module named 'demo_model'",
     "output_type": "error",
     "traceback": [
      "\u001b[1;31m---------------------------------------------------------------------------\u001b[0m",
      "\u001b[1;31mModuleNotFoundError\u001b[0m                       Traceback (most recent call last)",
      "Cell \u001b[1;32mIn[2], line 1\u001b[0m\n\u001b[1;32m----> 1\u001b[0m \u001b[38;5;28;01mfrom\u001b[39;00m \u001b[38;5;21;01mdemo_model\u001b[39;00m \u001b[38;5;28;01mimport\u001b[39;00m OutcomeStates, Outcome, HazardState, Hazard\n\u001b[0;32m      2\u001b[0m \u001b[38;5;28mprint\u001b[39m(inspect\u001b[38;5;241m.\u001b[39mgetsource(OutcomeStates))\n\u001b[0;32m      3\u001b[0m \u001b[38;5;28mprint\u001b[39m(inspect\u001b[38;5;241m.\u001b[39mgetsource(Outcome))\n",
      "\u001b[1;31mModuleNotFoundError\u001b[0m: No module named 'demo_model'"
     ]
    }
   ],
   "source": [
    "from demo_model import OutcomeStates, Outcome, HazardState, Hazard\n",
    "print(inspect.getsource(OutcomeStates))\n",
    "print(inspect.getsource(Outcome))\n",
    "print(inspect.getsource(HazardState))\n",
    "print(inspect.getsource(Hazard))"
   ]
  },
  {
   "cell_type": "markdown",
   "id": "8404fc4a",
   "metadata": {},
   "source": [
    "Below we define three actions for use in a given model:\n",
    "- Perceive, a user's perception abilities/behaviors. In this function the user percieves a hazard (unless their perception fails)\n",
    "- Act, the user's action which they perform to mitigate the hazard.\n",
    "- Done, the user's state when they are done performing the action."
   ]
  },
  {
   "cell_type": "code",
   "execution_count": 3,
   "id": "6ab709bc",
   "metadata": {
    "execution": {
     "iopub.execute_input": "2024-08-22T16:00:24.611172Z",
     "iopub.status.busy": "2024-08-22T16:00:24.611172Z",
     "iopub.status.idle": "2024-08-22T16:00:24.623176Z",
     "shell.execute_reply": "2024-08-22T16:00:24.623176Z"
    }
   },
   "outputs": [],
   "source": [
    "from demo_model import Perceive, Act, Done\n",
    "print(inspect.getsource(Perceive))\n",
    "print(inspect.getsource(Act))\n",
    "print(inspect.getsource(Done))"
   ]
  },
  {
   "cell_type": "markdown",
   "id": "1b7b2d39",
   "metadata": {},
   "source": [
    "To proceed through the sequence of actions, *conditions* must be met between each action. In these actions, we have defined the following conditions:\n",
    "- Percieve.percieved: perception is done if the hazard is percieved\n",
    "- Act.acted: the action is complete if the action was performed\n",
    "- Done.complete: the hazard mitigation is over (and mitigated state is reset to False)\n",
    "\n",
    "To create the overall ASG structure, the following adds the flows, actions, and conditions to the ActionArchitecture class"
   ]
  },
  {
   "cell_type": "code",
   "execution_count": 4,
   "id": "164b4ba6",
   "metadata": {
    "execution": {
     "iopub.execute_input": "2024-08-22T16:00:24.623176Z",
     "iopub.status.busy": "2024-08-22T16:00:24.623176Z",
     "iopub.status.idle": "2024-08-22T16:00:24.631048Z",
     "shell.execute_reply": "2024-08-22T16:00:24.631048Z"
    }
   },
   "outputs": [],
   "source": [
    "from demo_model import Human\n",
    "print(inspect.getsource(Human))"
   ]
  },
  {
   "cell_type": "markdown",
   "id": "2eaf0b20",
   "metadata": {},
   "source": [
    "Note the use of the following methods:\n",
    "- add_flow adds a flow so it can pass variables between actions. Here *Outcome* is an internal flow, while *Hazard* is an external flow."
   ]
  },
  {
   "cell_type": "code",
   "execution_count": 5,
   "id": "7140746c",
   "metadata": {
    "execution": {
     "iopub.execute_input": "2024-08-22T16:00:24.631048Z",
     "iopub.status.busy": "2024-08-22T16:00:24.631048Z",
     "iopub.status.idle": "2024-08-22T16:00:24.637177Z",
     "shell.execute_reply": "2024-08-22T16:00:24.637177Z"
    }
   },
   "outputs": [],
   "source": [
    "from fmdtools.define.architecture.action import ActionArchitecture\n",
    "help(ActionArchitecture.add_flow)"
   ]
  },
  {
   "cell_type": "markdown",
   "id": "a977c6ae",
   "metadata": {},
   "source": [
    "- add_act adds the action to the function and hands it the given flows and parameters. Here the actions are \"Percieve\", \"Act\", and \"Done\""
   ]
  },
  {
   "cell_type": "code",
   "execution_count": 6,
   "id": "306b2223",
   "metadata": {
    "execution": {
     "iopub.execute_input": "2024-08-22T16:00:24.637177Z",
     "iopub.status.busy": "2024-08-22T16:00:24.637177Z",
     "iopub.status.idle": "2024-08-22T16:00:24.642760Z",
     "shell.execute_reply": "2024-08-22T16:00:24.642760Z"
    }
   },
   "outputs": [],
   "source": [
    "help(ActionArchitecture.add_act)"
   ]
  },
  {
   "cell_type": "markdown",
   "id": "8153e9f4",
   "metadata": {},
   "source": [
    "- add_cond specifies the conditions for going from one action to another."
   ]
  },
  {
   "cell_type": "code",
   "execution_count": 7,
   "id": "5d0f05b2",
   "metadata": {
    "execution": {
     "iopub.execute_input": "2024-08-22T16:00:24.642760Z",
     "iopub.status.busy": "2024-08-22T16:00:24.642760Z",
     "iopub.status.idle": "2024-08-22T16:00:24.648507Z",
     "shell.execute_reply": "2024-08-22T16:00:24.648507Z"
    }
   },
   "outputs": [],
   "source": [
    "help(ActionArchitecture.add_cond)"
   ]
  },
  {
   "cell_type": "markdown",
   "id": "3b915b84",
   "metadata": {},
   "source": [
    "- ASG.build finally constructs the structure of the ASG (see: self.action_graph and self.flow_graph) and determines the settings for the simulation. In DetectHazard, default options are used, with the first action specified as \"Percieve\" and also with it specified that the actions propagate in the dynamic step (rather than static step)"
   ]
  },
  {
   "cell_type": "code",
   "execution_count": 8,
   "id": "1fbb218f",
   "metadata": {
    "execution": {
     "iopub.execute_input": "2024-08-22T16:00:24.648507Z",
     "iopub.status.busy": "2024-08-22T16:00:24.648507Z",
     "iopub.status.idle": "2024-08-22T16:00:24.653956Z",
     "shell.execute_reply": "2024-08-22T16:00:24.653956Z"
    }
   },
   "outputs": [],
   "source": [
    "help(ActionArchitecture.build)"
   ]
  },
  {
   "cell_type": "markdown",
   "id": "66129212",
   "metadata": {},
   "source": [
    "We can look at the attributes of the `ASG` by instantiating it:"
   ]
  },
  {
   "cell_type": "code",
   "execution_count": 9,
   "id": "4607704d",
   "metadata": {
    "execution": {
     "iopub.execute_input": "2024-08-22T16:00:24.653956Z",
     "iopub.status.busy": "2024-08-22T16:00:24.653956Z",
     "iopub.status.idle": "2024-08-22T16:00:24.664423Z",
     "shell.execute_reply": "2024-08-22T16:00:24.664423Z"
    }
   },
   "outputs": [],
   "source": [
    "h = Human()\n",
    "h"
   ]
  },
  {
   "cell_type": "markdown",
   "id": "04a5219b",
   "metadata": {},
   "source": [
    "`ActionArchitectureGraph` can also be used to visualize the flow of actions (e.g., which are active, flows vs conditions, etc.).\n",
    "\n",
    "This graph can also be generated using `ActionArchitecture.as_modelgraph()`"
   ]
  },
  {
   "cell_type": "code",
   "execution_count": 10,
   "id": "3fa6b4c6",
   "metadata": {
    "execution": {
     "iopub.execute_input": "2024-08-22T16:00:24.664423Z",
     "iopub.status.busy": "2024-08-22T16:00:24.664423Z",
     "iopub.status.idle": "2024-08-22T16:00:24.669880Z",
     "shell.execute_reply": "2024-08-22T16:00:24.669880Z"
    }
   },
   "outputs": [],
   "source": [
    "from fmdtools.define.architecture.action import ActionArchitectureGraph"
   ]
  },
  {
   "cell_type": "code",
   "execution_count": 11,
   "id": "b137b1ff",
   "metadata": {
    "execution": {
     "iopub.execute_input": "2024-08-22T16:00:24.669880Z",
     "iopub.status.busy": "2024-08-22T16:00:24.669880Z",
     "iopub.status.idle": "2024-08-22T16:00:24.675864Z",
     "shell.execute_reply": "2024-08-22T16:00:24.675864Z"
    }
   },
   "outputs": [],
   "source": [
    "ag = ActionArchitectureGraph(h)"
   ]
  },
  {
   "cell_type": "code",
   "execution_count": 12,
   "id": "d8c47c25",
   "metadata": {
    "execution": {
     "iopub.execute_input": "2024-08-22T16:00:24.675864Z",
     "iopub.status.busy": "2024-08-22T16:00:24.675864Z",
     "iopub.status.idle": "2024-08-22T16:00:24.940649Z",
     "shell.execute_reply": "2024-08-22T16:00:24.940649Z"
    }
   },
   "outputs": [],
   "source": [
    "fig, ax = ag.draw()"
   ]
  },
  {
   "cell_type": "markdown",
   "id": "55512607",
   "metadata": {},
   "source": [
    "As shown, the \"Percieve\" action is active (green), while the inactive actions are shown in blue. This action is active because it was defined as initial_action in the ASG definition.\n",
    "\n",
    "These are stored as attributes in the underlying graph structure:"
   ]
  },
  {
   "cell_type": "code",
   "execution_count": 13,
   "id": "d365dd71",
   "metadata": {
    "execution": {
     "iopub.execute_input": "2024-08-22T16:00:24.940649Z",
     "iopub.status.busy": "2024-08-22T16:00:24.940649Z",
     "iopub.status.idle": "2024-08-22T16:00:24.947778Z",
     "shell.execute_reply": "2024-08-22T16:00:24.947778Z"
    }
   },
   "outputs": [],
   "source": [
    "ag.g.nodes['perceive']"
   ]
  },
  {
   "cell_type": "markdown",
   "id": "d9913b78",
   "metadata": {},
   "source": [
    "### Function-level Simulation\n",
    "\n",
    "`ActionArchitecture`s must be instantiated within a `Function` in order to be simulable with methods in `propagate`. Below we instantiate a `Function` and show how an `ActionArchitecture` can be simulated independent of other Model attributes. "
   ]
  },
  {
   "cell_type": "code",
   "execution_count": 14,
   "id": "cfce5eb9",
   "metadata": {
    "execution": {
     "iopub.execute_input": "2024-08-22T16:00:24.947778Z",
     "iopub.status.busy": "2024-08-22T16:00:24.947778Z",
     "iopub.status.idle": "2024-08-22T16:00:24.955731Z",
     "shell.execute_reply": "2024-08-22T16:00:24.955731Z"
    }
   },
   "outputs": [],
   "source": [
    "from demo_model import DetectHazard\n",
    "print(inspect.getsource(DetectHazard))"
   ]
  },
  {
   "cell_type": "markdown",
   "id": "0bf7d234",
   "metadata": {},
   "source": [
    "If we update the action, we can see the ASG progress between states:"
   ]
  },
  {
   "cell_type": "code",
   "execution_count": 15,
   "id": "7d14d77f",
   "metadata": {
    "execution": {
     "iopub.execute_input": "2024-08-22T16:00:24.955731Z",
     "iopub.status.busy": "2024-08-22T16:00:24.955731Z",
     "iopub.status.idle": "2024-08-22T16:00:24.966101Z",
     "shell.execute_reply": "2024-08-22T16:00:24.966101Z"
    }
   },
   "outputs": [],
   "source": [
    "ex_fxn = DetectHazard('detect_hazard')\n",
    "ex_fxn.t.dt=1.0\n",
    "\n",
    "ex_fxn.aa.flows['hazard']"
   ]
  },
  {
   "cell_type": "code",
   "execution_count": 16,
   "id": "d9764630",
   "metadata": {
    "execution": {
     "iopub.execute_input": "2024-08-22T16:00:24.966101Z",
     "iopub.status.busy": "2024-08-22T16:00:24.966101Z",
     "iopub.status.idle": "2024-08-22T16:00:24.972243Z",
     "shell.execute_reply": "2024-08-22T16:00:24.972243Z"
    }
   },
   "outputs": [],
   "source": [
    "ex_fxn.aa.flows['hazard'].s.present=True\n",
    "ex_fxn('dynamic', time= 1)"
   ]
  },
  {
   "cell_type": "code",
   "execution_count": 17,
   "id": "172b6b67",
   "metadata": {
    "execution": {
     "iopub.execute_input": "2024-08-22T16:00:24.972243Z",
     "iopub.status.busy": "2024-08-22T16:00:24.972243Z",
     "iopub.status.idle": "2024-08-22T16:00:25.203144Z",
     "shell.execute_reply": "2024-08-22T16:00:25.203144Z"
    }
   },
   "outputs": [],
   "source": [
    "ag = ActionArchitectureGraph(ex_fxn.aa)\n",
    "ag.draw()"
   ]
  },
  {
   "cell_type": "code",
   "execution_count": 18,
   "id": "c8063413",
   "metadata": {
    "execution": {
     "iopub.execute_input": "2024-08-22T16:00:25.203144Z",
     "iopub.status.busy": "2024-08-22T16:00:25.203144Z",
     "iopub.status.idle": "2024-08-22T16:00:25.210154Z",
     "shell.execute_reply": "2024-08-22T16:00:25.210154Z"
    }
   },
   "outputs": [],
   "source": [
    "ex_fxn.aa.flows['hazard']"
   ]
  },
  {
   "cell_type": "code",
   "execution_count": 19,
   "id": "962d5706",
   "metadata": {
    "execution": {
     "iopub.execute_input": "2024-08-22T16:00:25.210154Z",
     "iopub.status.busy": "2024-08-22T16:00:25.210154Z",
     "iopub.status.idle": "2024-08-22T16:00:25.215541Z",
     "shell.execute_reply": "2024-08-22T16:00:25.215541Z"
    }
   },
   "outputs": [],
   "source": [
    "assert ex_fxn.aa.flows['hazard'].s.present"
   ]
  },
  {
   "cell_type": "code",
   "execution_count": 20,
   "id": "7f3d2dc9",
   "metadata": {
    "execution": {
     "iopub.execute_input": "2024-08-22T16:00:25.215541Z",
     "iopub.status.busy": "2024-08-22T16:00:25.215541Z",
     "iopub.status.idle": "2024-08-22T16:00:25.222069Z",
     "shell.execute_reply": "2024-08-22T16:00:25.222069Z"
    }
   },
   "outputs": [],
   "source": [
    "ex_fxn.aa.flows['outcome']"
   ]
  },
  {
   "cell_type": "code",
   "execution_count": 21,
   "id": "49ef0da1",
   "metadata": {
    "execution": {
     "iopub.execute_input": "2024-08-22T16:00:25.222069Z",
     "iopub.status.busy": "2024-08-22T16:00:25.222069Z",
     "iopub.status.idle": "2024-08-22T16:00:25.227536Z",
     "shell.execute_reply": "2024-08-22T16:00:25.227536Z"
    }
   },
   "outputs": [],
   "source": [
    "assert ex_fxn.aa.flows['outcome'].s.num_perceptions==1\n",
    "assert ex_fxn.aa.flows['outcome'].s.num_actions==1"
   ]
  },
  {
   "cell_type": "markdown",
   "id": "2a575475",
   "metadata": {},
   "source": [
    "As shown, each of the actions are progressed throuh in a single timestep until the ASG is in the \"Done\" action"
   ]
  },
  {
   "cell_type": "code",
   "execution_count": 22,
   "id": "45260e33",
   "metadata": {
    "execution": {
     "iopub.execute_input": "2024-08-22T16:00:25.227536Z",
     "iopub.status.busy": "2024-08-22T16:00:25.227536Z",
     "iopub.status.idle": "2024-08-22T16:00:25.232993Z",
     "shell.execute_reply": "2024-08-22T16:00:25.232993Z"
    }
   },
   "outputs": [],
   "source": [
    "ex_fxn.aa.flows['hazard'].s.present=False\n",
    "ex_fxn('dynamic', time= 2)"
   ]
  },
  {
   "cell_type": "code",
   "execution_count": 23,
   "id": "faf1f611",
   "metadata": {
    "execution": {
     "iopub.execute_input": "2024-08-22T16:00:25.232993Z",
     "iopub.status.busy": "2024-08-22T16:00:25.232993Z",
     "iopub.status.idle": "2024-08-22T16:00:25.458762Z",
     "shell.execute_reply": "2024-08-22T16:00:25.458762Z"
    }
   },
   "outputs": [],
   "source": [
    "ag = ActionArchitectureGraph(ex_fxn.aa)\n",
    "fig, ax = ag.draw()"
   ]
  },
  {
   "cell_type": "markdown",
   "id": "cd896f8a",
   "metadata": {},
   "source": [
    "As shown, now that the hazard is no longer present, the \"Ready\" Condition is triggered and the ASG goes back to the percieve state."
   ]
  },
  {
   "cell_type": "code",
   "execution_count": 24,
   "id": "7c2b23d5",
   "metadata": {
    "execution": {
     "iopub.execute_input": "2024-08-22T16:00:25.458762Z",
     "iopub.status.busy": "2024-08-22T16:00:25.458762Z",
     "iopub.status.idle": "2024-08-22T16:00:25.465378Z",
     "shell.execute_reply": "2024-08-22T16:00:25.465378Z"
    }
   },
   "outputs": [],
   "source": [
    "ex_fxn.aa.flows['outcome']"
   ]
  },
  {
   "cell_type": "code",
   "execution_count": 25,
   "id": "18936276",
   "metadata": {
    "execution": {
     "iopub.execute_input": "2024-08-22T16:00:25.465378Z",
     "iopub.status.busy": "2024-08-22T16:00:25.465378Z",
     "iopub.status.idle": "2024-08-22T16:00:25.471472Z",
     "shell.execute_reply": "2024-08-22T16:00:25.471472Z"
    }
   },
   "outputs": [],
   "source": [
    "ex_fxn.aa.flows['hazard']"
   ]
  },
  {
   "cell_type": "code",
   "execution_count": 26,
   "id": "fb9b55f5",
   "metadata": {
    "execution": {
     "iopub.execute_input": "2024-08-22T16:00:25.471472Z",
     "iopub.status.busy": "2024-08-22T16:00:25.471472Z",
     "iopub.status.idle": "2024-08-22T16:00:25.477949Z",
     "shell.execute_reply": "2024-08-22T16:00:25.477949Z"
    }
   },
   "outputs": [],
   "source": [
    "ex_fxn.hazard"
   ]
  },
  {
   "cell_type": "code",
   "execution_count": 27,
   "id": "83b841ec",
   "metadata": {
    "execution": {
     "iopub.execute_input": "2024-08-22T16:00:25.477949Z",
     "iopub.status.busy": "2024-08-22T16:00:25.477949Z",
     "iopub.status.idle": "2024-08-22T16:00:25.483685Z",
     "shell.execute_reply": "2024-08-22T16:00:25.483685Z"
    }
   },
   "outputs": [],
   "source": [
    "assert ex_fxn.aa.flows['hazard'].s.present==False\n",
    "assert ex_fxn.aa.flows['hazard'].s.mitigated==False\n",
    "assert id(ex_fxn.hazard) == id(ex_fxn.aa.flows['hazard'])"
   ]
  },
  {
   "cell_type": "markdown",
   "id": "7a504ee2",
   "metadata": {},
   "source": [
    "This is essentially what a step-though of a simulation looks like. In practice, we simulate these behaviors using `propagate` as long as the `ActionArchitecture` is contained in a `Function`. Here we use the `disturbances` argument to simulate an external hazard occuring at `t=5`:"
   ]
  },
  {
   "cell_type": "code",
   "execution_count": 28,
   "id": "bd647b58",
   "metadata": {
    "execution": {
     "iopub.execute_input": "2024-08-22T16:00:25.483685Z",
     "iopub.status.busy": "2024-08-22T16:00:25.483685Z",
     "iopub.status.idle": "2024-08-22T16:00:25.544400Z",
     "shell.execute_reply": "2024-08-22T16:00:25.544400Z"
    }
   },
   "outputs": [],
   "source": [
    "result_indiv, hist_indiv = prop.nominal(ex_fxn, disturbances={5:{'aa.flows.hazard.s.present':True}})"
   ]
  },
  {
   "cell_type": "code",
   "execution_count": 29,
   "id": "fe1cd069",
   "metadata": {
    "execution": {
     "iopub.execute_input": "2024-08-22T16:00:25.544400Z",
     "iopub.status.busy": "2024-08-22T16:00:25.544400Z",
     "iopub.status.idle": "2024-08-22T16:00:25.887455Z",
     "shell.execute_reply": "2024-08-22T16:00:25.887455Z"
    }
   },
   "outputs": [],
   "source": [
    "fig, axs = hist_indiv.plot_line('aa.flows.hazard.s.present',\n",
    "                                'aa.flows.hazard.s.percieved',\n",
    "                                'aa.flows.hazard.s.mitigated', figsize=(10,5))"
   ]
  },
  {
   "cell_type": "code",
   "execution_count": 30,
   "id": "94bf3431",
   "metadata": {
    "execution": {
     "iopub.execute_input": "2024-08-22T16:00:25.887455Z",
     "iopub.status.busy": "2024-08-22T16:00:25.887455Z",
     "iopub.status.idle": "2024-08-22T16:00:25.896092Z",
     "shell.execute_reply": "2024-08-22T16:00:25.896092Z"
    }
   },
   "outputs": [],
   "source": [
    "hist_indiv.aa.active_actions"
   ]
  },
  {
   "cell_type": "code",
   "execution_count": 31,
   "id": "8658c2ed",
   "metadata": {
    "execution": {
     "iopub.execute_input": "2024-08-22T16:00:25.896092Z",
     "iopub.status.busy": "2024-08-22T16:00:25.896092Z",
     "iopub.status.idle": "2024-08-22T16:00:25.902495Z",
     "shell.execute_reply": "2024-08-22T16:00:25.902495Z"
    }
   },
   "outputs": [],
   "source": [
    "assert hist_indiv.aa.flows.hazard.s.mitigated[5]\n",
    "assert hist_indiv.aa.active_actions[5]=={'done'}"
   ]
  },
  {
   "cell_type": "markdown",
   "id": "8a2beeea",
   "metadata": {},
   "source": [
    "### Model Simulation\n",
    "\n",
    "Below, this function is placed in the context of a FunctionalArchitecture model so we can see how it behaves in the context of its interactions."
   ]
  },
  {
   "cell_type": "code",
   "execution_count": 32,
   "id": "0110dc70",
   "metadata": {
    "execution": {
     "iopub.execute_input": "2024-08-22T16:00:25.902495Z",
     "iopub.status.busy": "2024-08-22T16:00:25.902495Z",
     "iopub.status.idle": "2024-08-22T16:00:25.919065Z",
     "shell.execute_reply": "2024-08-22T16:00:25.919065Z"
    }
   },
   "outputs": [],
   "source": [
    "from demo_model import ProduceHazard, PassStates, PassHazard, HazardModel\n",
    "print(inspect.getsource(ProduceHazard))\n",
    "print(inspect.getsource(PassStates))\n",
    "print(inspect.getsource(PassHazard))\n",
    "print(inspect.getsource(HazardModel))"
   ]
  },
  {
   "cell_type": "markdown",
   "id": "f11b41f8",
   "metadata": {},
   "source": [
    "As shown, this model connects the `detect_hazard` with a `detect_hazard` function, which are used (1) to load the system and then to (2) tabulate the number of mitigations.\n",
    "\n",
    "Below we show how this translates into simulation results:"
   ]
  },
  {
   "cell_type": "code",
   "execution_count": 33,
   "id": "ed070fc1",
   "metadata": {
    "execution": {
     "iopub.execute_input": "2024-08-22T16:00:25.919065Z",
     "iopub.status.busy": "2024-08-22T16:00:25.919065Z",
     "iopub.status.idle": "2024-08-22T16:00:25.954807Z",
     "shell.execute_reply": "2024-08-22T16:00:25.954807Z"
    }
   },
   "outputs": [],
   "source": [
    "mdl = HazardModel()\n",
    "endstate,  mdlhist = prop.nominal(mdl)"
   ]
  },
  {
   "cell_type": "markdown",
   "id": "220a2944",
   "metadata": {},
   "source": [
    "Below we look at the states of the functions/flows to see how this has simulated."
   ]
  },
  {
   "cell_type": "code",
   "execution_count": 34,
   "id": "e6422a02",
   "metadata": {
    "execution": {
     "iopub.execute_input": "2024-08-22T16:00:25.954807Z",
     "iopub.status.busy": "2024-08-22T16:00:25.954807Z",
     "iopub.status.idle": "2024-08-22T16:00:25.962803Z",
     "shell.execute_reply": "2024-08-22T16:00:25.962803Z"
    }
   },
   "outputs": [],
   "source": [
    "mdlhist"
   ]
  },
  {
   "cell_type": "code",
   "execution_count": 35,
   "id": "2e43bc4f",
   "metadata": {
    "execution": {
     "iopub.execute_input": "2024-08-22T16:00:25.962803Z",
     "iopub.status.busy": "2024-08-22T16:00:25.962803Z",
     "iopub.status.idle": "2024-08-22T16:00:25.969040Z",
     "shell.execute_reply": "2024-08-22T16:00:25.969040Z"
    }
   },
   "outputs": [],
   "source": [
    "restab = mdlhist.get('fxns.detect_hazard.aa.active_actions', 'flows.hazard.s').as_table()"
   ]
  },
  {
   "cell_type": "code",
   "execution_count": 36,
   "id": "c3466da3",
   "metadata": {
    "execution": {
     "iopub.execute_input": "2024-08-22T16:00:25.969040Z",
     "iopub.status.busy": "2024-08-22T16:00:25.969040Z",
     "iopub.status.idle": "2024-08-22T16:00:25.983859Z",
     "shell.execute_reply": "2024-08-22T16:00:25.983859Z"
    }
   },
   "outputs": [],
   "source": [
    "restab"
   ]
  },
  {
   "cell_type": "markdown",
   "id": "98c3738f",
   "metadata": {},
   "source": [
    "As shown, the ASG alternates between Perceive (when the hazard is not present) and Done (when the hazard is present). As a result, all of the present hazards (above) are also perceived and mitigated, and no hazards are propagated.\n",
    "\n",
    "Or, in plot form:"
   ]
  },
  {
   "cell_type": "code",
   "execution_count": 37,
   "id": "4e645a8b",
   "metadata": {
    "execution": {
     "iopub.execute_input": "2024-08-22T16:00:25.985361Z",
     "iopub.status.busy": "2024-08-22T16:00:25.985361Z",
     "iopub.status.idle": "2024-08-22T16:00:26.410564Z",
     "shell.execute_reply": "2024-08-22T16:00:26.410564Z"
    }
   },
   "outputs": [],
   "source": [
    "fig, axs = mdlhist.plot_line('fxns.pass_hazard.s.hazards_mitigated',\n",
    "                                'fxns.pass_hazard.s.hazards_propagated',\n",
    "                                'flows.hazard.s.present',\n",
    "                                'flows.hazard.s.percieved',\n",
    "                                'flows.hazard.s.mitigated', figsize=(10,5))"
   ]
  },
  {
   "cell_type": "markdown",
   "id": "d6f7e4f3",
   "metadata": {},
   "source": [
    "As shown, perceptions and actions track the hazards mitigated."
   ]
  },
  {
   "cell_type": "markdown",
   "id": "8196b173",
   "metadata": {},
   "source": [
    "### Fault Simulation\n",
    "Below we will simulate a fault and see how it tracks in the model."
   ]
  },
  {
   "cell_type": "code",
   "execution_count": 38,
   "id": "b12779a5",
   "metadata": {
    "execution": {
     "iopub.execute_input": "2024-08-22T16:00:26.410564Z",
     "iopub.status.busy": "2024-08-22T16:00:26.410564Z",
     "iopub.status.idle": "2024-08-22T16:00:26.466705Z",
     "shell.execute_reply": "2024-08-22T16:00:26.466705Z"
    }
   },
   "outputs": [],
   "source": [
    "result_fault, mdlhist_fault = prop.one_fault(mdl, 'detect_hazard','perceive_failed', time=4, desired_result='graph')"
   ]
  },
  {
   "cell_type": "code",
   "execution_count": 39,
   "id": "4caa496b",
   "metadata": {
    "execution": {
     "iopub.execute_input": "2024-08-22T16:00:26.466705Z",
     "iopub.status.busy": "2024-08-22T16:00:26.466705Z",
     "iopub.status.idle": "2024-08-22T16:00:26.475367Z",
     "shell.execute_reply": "2024-08-22T16:00:26.475367Z"
    }
   },
   "outputs": [],
   "source": [
    "mdlhist_fault.faulty.fxns.detect_hazard.aa.acts.act"
   ]
  },
  {
   "cell_type": "markdown",
   "id": "35cb0ecd",
   "metadata": {},
   "source": [
    "As shown, this fault results in the hazard not being perceived (and thus the hazard propagating)"
   ]
  },
  {
   "cell_type": "code",
   "execution_count": 40,
   "id": "f94350ba",
   "metadata": {
    "execution": {
     "iopub.execute_input": "2024-08-22T16:00:26.475367Z",
     "iopub.status.busy": "2024-08-22T16:00:26.475367Z",
     "iopub.status.idle": "2024-08-22T16:00:26.950536Z",
     "shell.execute_reply": "2024-08-22T16:00:26.950536Z"
    }
   },
   "outputs": [],
   "source": [
    "fig, axs = mdlhist_fault.plot_line('fxns.pass_hazard.s.hazards_mitigated',\n",
    "                                'fxns.pass_hazard.s.hazards_propagated',\n",
    "                                'flows.hazard.s.present',\n",
    "                                'flows.hazard.s.percieved',\n",
    "                                'flows.hazard.s.mitigated', figsize=(10,5), time_slice=[4])"
   ]
  },
  {
   "cell_type": "markdown",
   "id": "57b3efab",
   "metadata": {},
   "source": [
    "As shown, this only shows up in the PassHazard function (since the fault is removed in one timestep)."
   ]
  },
  {
   "cell_type": "code",
   "execution_count": 41,
   "id": "344b6414",
   "metadata": {
    "execution": {
     "iopub.execute_input": "2024-08-22T16:00:26.950536Z",
     "iopub.status.busy": "2024-08-22T16:00:26.950536Z",
     "iopub.status.idle": "2024-08-22T16:00:27.142097Z",
     "shell.execute_reply": "2024-08-22T16:00:27.142097Z"
    }
   },
   "outputs": [],
   "source": [
    "result_fault.graph.draw()"
   ]
  },
  {
   "cell_type": "markdown",
   "id": "8ac69430",
   "metadata": {},
   "source": [
    "To see this in more detail, we will process the results history and then use `graph.results_from` at the time of the fault. Note how the model histories can be processed below:"
   ]
  },
  {
   "cell_type": "code",
   "execution_count": 42,
   "id": "04261f10",
   "metadata": {
    "execution": {
     "iopub.execute_input": "2024-08-22T16:00:27.142097Z",
     "iopub.status.busy": "2024-08-22T16:00:27.142097Z",
     "iopub.status.idle": "2024-08-22T16:00:27.156748Z",
     "shell.execute_reply": "2024-08-22T16:00:27.156748Z"
    }
   },
   "outputs": [],
   "source": [
    "reshist = mdlhist_fault.get_degraded_hist(*mdl.fxns, *mdl.flows)\n",
    "reshist.as_table()"
   ]
  },
  {
   "cell_type": "code",
   "execution_count": 43,
   "id": "a0a191ba",
   "metadata": {
    "execution": {
     "iopub.execute_input": "2024-08-22T16:00:27.156748Z",
     "iopub.status.busy": "2024-08-22T16:00:27.156748Z",
     "iopub.status.idle": "2024-08-22T16:00:27.170204Z",
     "shell.execute_reply": "2024-08-22T16:00:27.170204Z"
    }
   },
   "outputs": [],
   "source": [
    "reshist = mdlhist_fault.get_faulty_hist(*mdl.fxns, *mdl.flows)\n",
    "reshist.as_table()"
   ]
  },
  {
   "cell_type": "code",
   "execution_count": 44,
   "id": "ac262e73",
   "metadata": {
    "execution": {
     "iopub.execute_input": "2024-08-22T16:00:27.170204Z",
     "iopub.status.busy": "2024-08-22T16:00:27.170204Z",
     "iopub.status.idle": "2024-08-22T16:00:27.177923Z",
     "shell.execute_reply": "2024-08-22T16:00:27.177923Z"
    }
   },
   "outputs": [],
   "source": [
    "mdlhist_fault.faulty.fxns.detect_hazard"
   ]
  },
  {
   "cell_type": "code",
   "execution_count": 45,
   "id": "1e29286e",
   "metadata": {
    "execution": {
     "iopub.execute_input": "2024-08-22T16:00:27.177923Z",
     "iopub.status.busy": "2024-08-22T16:00:27.177923Z",
     "iopub.status.idle": "2024-08-22T16:00:27.185747Z",
     "shell.execute_reply": "2024-08-22T16:00:27.185747Z"
    }
   },
   "outputs": [],
   "source": [
    "mdl.fxns['detect_hazard'].h"
   ]
  },
  {
   "cell_type": "markdown",
   "id": "15acac85",
   "metadata": {},
   "source": [
    "We can further use `draw_from` to view the state of the ASG. See below:"
   ]
  },
  {
   "cell_type": "code",
   "execution_count": 46,
   "id": "774780d2",
   "metadata": {
    "execution": {
     "iopub.execute_input": "2024-08-22T16:00:27.187821Z",
     "iopub.status.busy": "2024-08-22T16:00:27.187821Z",
     "iopub.status.idle": "2024-08-22T16:00:27.390239Z",
     "shell.execute_reply": "2024-08-22T16:00:27.390239Z"
    }
   },
   "outputs": [],
   "source": [
    "result_fault.graph.draw_from(4, mdlhist_fault)"
   ]
  },
  {
   "cell_type": "markdown",
   "id": "e99f45ab",
   "metadata": {},
   "source": [
    "Note the lack of a fault at this time-step, despite it being instantiated here. This is because the fault was removed at the end of the same time-step it was added in.\n",
    "\n",
    "The 'unable' fault, on the other hand, stays throughout the simulation and thus shows up:"
   ]
  },
  {
   "cell_type": "code",
   "execution_count": 47,
   "id": "774c3a2b",
   "metadata": {
    "execution": {
     "iopub.execute_input": "2024-08-22T16:00:27.390239Z",
     "iopub.status.busy": "2024-08-22T16:00:27.390239Z",
     "iopub.status.idle": "2024-08-22T16:00:28.050599Z",
     "shell.execute_reply": "2024-08-22T16:00:28.050599Z"
    }
   },
   "outputs": [],
   "source": [
    "endstate_unable, mdlhist_unable = prop.one_fault(mdl, 'detect_hazard','act_unable', time=4, \n",
    "                                                 desired_result={'graph','graph.fxns.detect_hazard.aa'})\n",
    "\n",
    "fig, axs = mdlhist_unable.plot_line('fxns.pass_hazard.s.hazards_mitigated',\n",
    "                                'fxns.pass_hazard.s.hazards_propagated',\n",
    "                                'flows.hazard.s.present',\n",
    "                                'flows.hazard.s.percieved',\n",
    "                                'flows.hazard.s.mitigated',\n",
    "                                'fxns.detect_hazard.aa.flows.hazard.s.percieved',\n",
    "                                'fxns.detect_hazard.aa.acts.act.m.faults.unable',\n",
    "                            figsize=(10, 5), time_slice=[4])"
   ]
  },
  {
   "cell_type": "code",
   "execution_count": 48,
   "id": "13c97bf6",
   "metadata": {
    "execution": {
     "iopub.execute_input": "2024-08-22T16:00:28.050599Z",
     "iopub.status.busy": "2024-08-22T16:00:28.050599Z",
     "iopub.status.idle": "2024-08-22T16:00:28.060566Z",
     "shell.execute_reply": "2024-08-22T16:00:28.059969Z"
    }
   },
   "outputs": [],
   "source": [
    "mdlhist_unable.faulty.fxns.detect_hazard.aa.active_actions"
   ]
  },
  {
   "cell_type": "code",
   "execution_count": 49,
   "id": "616ade5d",
   "metadata": {
    "execution": {
     "iopub.execute_input": "2024-08-22T16:00:28.061607Z",
     "iopub.status.busy": "2024-08-22T16:00:28.061607Z",
     "iopub.status.idle": "2024-08-22T16:00:28.068163Z",
     "shell.execute_reply": "2024-08-22T16:00:28.068163Z"
    }
   },
   "outputs": [],
   "source": [
    "mdl.fxns['detect_hazard'].h.aa.acts.perceive"
   ]
  },
  {
   "cell_type": "code",
   "execution_count": 50,
   "id": "436144a6",
   "metadata": {
    "execution": {
     "iopub.execute_input": "2024-08-22T16:00:28.068163Z",
     "iopub.status.busy": "2024-08-22T16:00:28.068163Z",
     "iopub.status.idle": "2024-08-22T16:00:28.076050Z",
     "shell.execute_reply": "2024-08-22T16:00:28.076050Z"
    }
   },
   "outputs": [],
   "source": [
    "mdl.fxns['detect_hazard'].aa.create_hist([0.0])"
   ]
  },
  {
   "cell_type": "code",
   "execution_count": 51,
   "id": "ba20b0aa",
   "metadata": {
    "execution": {
     "iopub.execute_input": "2024-08-22T16:00:28.076050Z",
     "iopub.status.busy": "2024-08-22T16:00:28.076050Z",
     "iopub.status.idle": "2024-08-22T16:00:28.083135Z",
     "shell.execute_reply": "2024-08-22T16:00:28.083135Z"
    }
   },
   "outputs": [],
   "source": [
    "mdl.fxns['detect_hazard'].aa.track"
   ]
  },
  {
   "cell_type": "code",
   "execution_count": 52,
   "id": "1a70ea8f",
   "metadata": {
    "execution": {
     "iopub.execute_input": "2024-08-22T16:00:28.083135Z",
     "iopub.status.busy": "2024-08-22T16:00:28.083135Z",
     "iopub.status.idle": "2024-08-22T16:00:28.090299Z",
     "shell.execute_reply": "2024-08-22T16:00:28.090299Z"
    }
   },
   "outputs": [],
   "source": [
    "mdl.fxns['detect_hazard'].aa.h.acts.perceive.m.faults.failed"
   ]
  },
  {
   "cell_type": "code",
   "execution_count": 53,
   "id": "c32693cb",
   "metadata": {
    "execution": {
     "iopub.execute_input": "2024-08-22T16:00:28.090299Z",
     "iopub.status.busy": "2024-08-22T16:00:28.090299Z",
     "iopub.status.idle": "2024-08-22T16:00:28.097679Z",
     "shell.execute_reply": "2024-08-22T16:00:28.097679Z"
    }
   },
   "outputs": [],
   "source": [
    "mdlhist_unable.nominal.fxns.detect_hazard.aa.acts"
   ]
  },
  {
   "cell_type": "code",
   "execution_count": 54,
   "id": "fd0220dc",
   "metadata": {
    "execution": {
     "iopub.execute_input": "2024-08-22T16:00:28.098709Z",
     "iopub.status.busy": "2024-08-22T16:00:28.098709Z",
     "iopub.status.idle": "2024-08-22T16:00:28.316610Z",
     "shell.execute_reply": "2024-08-22T16:00:28.316610Z"
    }
   },
   "outputs": [],
   "source": [
    "endstate_unable.graph.draw_from(4, mdlhist_unable)"
   ]
  },
  {
   "cell_type": "code",
   "execution_count": 55,
   "id": "c297eec6",
   "metadata": {
    "execution": {
     "iopub.execute_input": "2024-08-22T16:00:28.316610Z",
     "iopub.status.busy": "2024-08-22T16:00:28.316610Z",
     "iopub.status.idle": "2024-08-22T16:00:28.634761Z",
     "shell.execute_reply": "2024-08-22T16:00:28.634328Z"
    }
   },
   "outputs": [],
   "source": [
    "fig, ax = endstate_unable['graph.fxns.detect_hazard.aa'].draw_from(0, mdlhist_unable)"
   ]
  },
  {
   "cell_type": "code",
   "execution_count": 56,
   "id": "87c8151a",
   "metadata": {
    "execution": {
     "iopub.execute_input": "2024-08-22T16:00:28.634761Z",
     "iopub.status.busy": "2024-08-22T16:00:28.634761Z",
     "iopub.status.idle": "2024-08-22T16:00:28.912873Z",
     "shell.execute_reply": "2024-08-22T16:00:28.912510Z"
    }
   },
   "outputs": [],
   "source": [
    "fig, ax = endstate_unable['graph.fxns.detect_hazard.aa'].draw_from(5, mdlhist_unable, rem_ind=0)"
   ]
  },
  {
   "cell_type": "code",
   "execution_count": null,
   "id": "6ab2d8b2",
   "metadata": {},
   "outputs": [],
   "source": []
  }
 ],
 "metadata": {
  "kernelspec": {
   "display_name": "Python 3 (ipykernel)",
   "language": "python",
   "name": "python3"
  },
  "language_info": {
   "codemirror_mode": {
    "name": "ipython",
    "version": 3
   },
   "file_extension": ".py",
   "mimetype": "text/x-python",
   "name": "python",
   "nbconvert_exporter": "python",
   "pygments_lexer": "ipython3",
   "version": "3.11.9"
  }
 },
 "nbformat": 4,
 "nbformat_minor": 5
}
