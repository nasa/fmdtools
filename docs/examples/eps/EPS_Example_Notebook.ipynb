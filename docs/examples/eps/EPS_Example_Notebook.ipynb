{
 "cells": [
  {
   "cell_type": "markdown",
   "metadata": {},
   "source": [
    "## EPS Example Notebook \n",
    "\n",
    "This notebook shows an example replicating previous the simple electric power system implemented in [IBFM](https://github.com/DesignEngrLab/IBFM) in the `eps example` directory, with some basic fault propagation and visualization.\n",
    "\n",
    "```\n",
    "Copyright © 2024, United States Government, as represented by the Administrator of the National Aeronautics and Space Administration. All rights reserved.\n",
    "\n",
    "The “\"Fault Model Design tools - fmdtools version 2\"” software is licensed under the Apache License, Version 2.0 (the \"License\"); you may not use this file except in compliance with the License. You may obtain a copy of the License at http://www.apache.org/licenses/LICENSE-2.0. \n",
    "\n",
    "Unless required by applicable law or agreed to in writing, software distributed under the License is distributed on an \"AS IS\" BASIS, WITHOUT WARRANTIES OR CONDITIONS OF ANY KIND, either express or implied. See the License for the specific language governing permissions and limitations under the License.\n",
    "```"
   ]
  },
  {
   "cell_type": "code",
   "execution_count": 1,
   "metadata": {
    "execution": {
     "iopub.execute_input": "2024-10-22T00:09:00.106578Z",
     "iopub.status.busy": "2024-10-22T00:09:00.106578Z",
     "iopub.status.idle": "2024-10-22T00:09:00.960814Z",
     "shell.execute_reply": "2024-10-22T00:09:00.959148Z"
    }
   },
   "outputs": [
    {
     "ename": "ModuleNotFoundError",
     "evalue": "No module named 'eps'",
     "output_type": "error",
     "traceback": [
      "\u001b[1;31m---------------------------------------------------------------------------\u001b[0m",
      "\u001b[1;31mModuleNotFoundError\u001b[0m                       Traceback (most recent call last)",
      "Cell \u001b[1;32mIn[1], line 1\u001b[0m\n\u001b[1;32m----> 1\u001b[0m \u001b[38;5;28;01mfrom\u001b[39;00m \u001b[38;5;21;01meps\u001b[39;00m \u001b[38;5;28;01mimport\u001b[39;00m EPS\n\u001b[0;32m      2\u001b[0m \u001b[38;5;28;01mimport\u001b[39;00m \u001b[38;5;21;01mfmdtools\u001b[39;00m\u001b[38;5;21;01m.\u001b[39;00m\u001b[38;5;21;01msim\u001b[39;00m\u001b[38;5;21;01m.\u001b[39;00m\u001b[38;5;21;01mpropagate\u001b[39;00m \u001b[38;5;28;01mas\u001b[39;00m \u001b[38;5;21;01mpropagate\u001b[39;00m\n",
      "\u001b[1;31mModuleNotFoundError\u001b[0m: No module named 'eps'"
     ]
    }
   ],
   "source": [
    "from eps import EPS\n",
    "import fmdtools.sim.propagate as propagate"
   ]
  },
  {
   "cell_type": "markdown",
   "metadata": {},
   "source": [
    "This script provides some example I/O for using static models, using the EPS system implemented in eps.py as an example.\n",
    "\n",
    "A graphical representaiton of this system is shown below:"
   ]
  },
  {
   "cell_type": "code",
   "execution_count": 2,
   "metadata": {
    "execution": {
     "iopub.execute_input": "2024-08-22T16:00:32.121861Z",
     "iopub.status.busy": "2024-08-22T16:00:32.121861Z",
     "iopub.status.idle": "2024-08-22T16:00:32.534110Z",
     "shell.execute_reply": "2024-08-22T16:00:32.534110Z"
    }
   },
   "outputs": [],
   "source": [
    "mdl= EPS()\n",
    "mg = mdl.as_modelgraph()\n",
    "fig, ax = mg.draw()"
   ]
  },
  {
   "cell_type": "markdown",
   "metadata": {},
   "source": [
    "As with dynamic models, in static models we use ``fp.run_one_fault`` to see the effects of single faults. All setup is performed in the Model class definition"
   ]
  },
  {
   "cell_type": "code",
   "execution_count": 3,
   "metadata": {
    "execution": {
     "iopub.execute_input": "2024-08-22T16:00:32.534110Z",
     "iopub.status.busy": "2024-08-22T16:00:32.534110Z",
     "iopub.status.idle": "2024-08-22T16:00:32.575292Z",
     "shell.execute_reply": "2024-08-22T16:00:32.575292Z"
    }
   },
   "outputs": [],
   "source": [
    "result, mdlhist = propagate.one_fault(mdl, 'ee_to_me', 'toohigh_torque', desired_result=\"graph\")"
   ]
  },
  {
   "cell_type": "markdown",
   "metadata": {},
   "source": [
    "In this case, however, the output in ``mdlhists`` will be a single-dimensional dictionary (not something we can plot very well)"
   ]
  },
  {
   "cell_type": "code",
   "execution_count": 4,
   "metadata": {
    "execution": {
     "iopub.execute_input": "2024-08-22T16:00:32.575292Z",
     "iopub.status.busy": "2024-08-22T16:00:32.575292Z",
     "iopub.status.idle": "2024-08-22T16:00:33.156230Z",
     "shell.execute_reply": "2024-08-22T16:00:33.156230Z"
    }
   },
   "outputs": [],
   "source": [
    "fig, ax = mdlhist.plot_line(*mdlhist.nominal.keys())"
   ]
  },
  {
   "cell_type": "markdown",
   "metadata": {},
   "source": [
    "As a result, it's better to look at the results graph for a visualization of what went wrong. In this case ``resgraph`` better represents the fault propagation of the system than in a dynamic model, since there is only one time-step to represent (rather than a set)"
   ]
  },
  {
   "cell_type": "code",
   "execution_count": 5,
   "metadata": {
    "execution": {
     "iopub.execute_input": "2024-08-22T16:00:33.156230Z",
     "iopub.status.busy": "2024-08-22T16:00:33.156230Z",
     "iopub.status.idle": "2024-08-22T16:00:33.551748Z",
     "shell.execute_reply": "2024-08-22T16:00:33.551748Z"
    }
   },
   "outputs": [],
   "source": [
    "result.graph.set_edge_labels(title='')\n",
    "fig, ax = result.graph.draw(figsize=(14,10))"
   ]
  },
  {
   "cell_type": "markdown",
   "metadata": {},
   "source": [
    "We can run the set of single-fault scenarios on this model using ``fmdtools.sim.propagate.single_faults``. For single-fault scenarios, one does not need to use a ``SampleApproach``, since all faults are injected at a single time-step."
   ]
  },
  {
   "cell_type": "code",
   "execution_count": 6,
   "metadata": {
    "execution": {
     "iopub.execute_input": "2024-08-22T16:00:33.551748Z",
     "iopub.status.busy": "2024-08-22T16:00:33.551748Z",
     "iopub.status.idle": "2024-08-22T16:00:34.188713Z",
     "shell.execute_reply": "2024-08-22T16:00:34.188713Z"
    }
   },
   "outputs": [],
   "source": [
    "endclasses, mdlhists = propagate.single_faults(mdl, staged=True)"
   ]
  },
  {
   "cell_type": "markdown",
   "metadata": {},
   "source": [
    "Using ``analyze.tabulate.result_summary_fmea``, one can see the degradation effects of this fault on the flows:"
   ]
  },
  {
   "cell_type": "code",
   "execution_count": 7,
   "metadata": {
    "execution": {
     "iopub.execute_input": "2024-08-22T16:00:34.188713Z",
     "iopub.status.busy": "2024-08-22T16:00:34.188713Z",
     "iopub.status.idle": "2024-08-22T16:00:34.194661Z",
     "shell.execute_reply": "2024-08-22T16:00:34.194661Z"
    }
   },
   "outputs": [],
   "source": [
    "from fmdtools.analyze.tabulate import result_summary_fmea"
   ]
  },
  {
   "cell_type": "code",
   "execution_count": 8,
   "metadata": {
    "execution": {
     "iopub.execute_input": "2024-08-22T16:00:34.194661Z",
     "iopub.status.busy": "2024-08-22T16:00:34.194661Z",
     "iopub.status.idle": "2024-08-22T16:00:34.232087Z",
     "shell.execute_reply": "2024-08-22T16:00:34.232087Z"
    }
   },
   "outputs": [],
   "source": [
    "tab = result_summary_fmea(endclasses, mdlhists, *mdl.fxns, *mdl.flows)\n",
    "tab"
   ]
  }
 ],
 "metadata": {
  "kernelspec": {
   "display_name": "Python 3 (ipykernel)",
   "language": "python",
   "name": "python3"
  },
  "language_info": {
   "codemirror_mode": {
    "name": "ipython",
    "version": 3
   },
   "file_extension": ".py",
   "mimetype": "text/x-python",
   "name": "python",
   "nbconvert_exporter": "python",
   "pygments_lexer": "ipython3",
   "version": "3.11.9"
  }
 },
 "nbformat": 4,
 "nbformat_minor": 4
}
