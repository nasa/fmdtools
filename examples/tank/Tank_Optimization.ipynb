{
 "cells": [
  {
   "cell_type": "markdown",
   "metadata": {},
   "source": [
    "# Cooling Tank Model Optimization\n",
    "\n",
    "\n",
    "**DISCLAIMER: Optimization modules do not work currently, see RAD-225**\n",
    "\n",
    "This notebook demonstrates the optimization of the tank model described in `tank_optimization_model.py` using the `ProblemInterface` class in the `fmdtools.search` module. This is identical to `tank_opt.py` in functionality.\n",
    "\n",
    "Note that this problem/notebook was adapted from the identical problem here: https://github.com/DesignEngrLab/resil_opt_examples/tree/main/Cooling%20Tank%20Problem, which shows more comparisions of these architectures. "
   ]
  },
  {
   "cell_type": "code",
   "execution_count": 1,
   "metadata": {
    "execution": {
     "iopub.execute_input": "2023-11-02T19:15:37.162553Z",
     "iopub.status.busy": "2023-11-02T19:15:37.162553Z",
     "iopub.status.idle": "2023-11-02T19:15:38.650501Z",
     "shell.execute_reply": "2023-11-02T19:15:38.650501Z"
    }
   },
   "outputs": [
    {
     "ename": "ModuleNotFoundError",
     "evalue": "No module named 'fmdtools.sim.approach'",
     "output_type": "error",
     "traceback": [
      "\u001b[1;31m---------------------------------------------------------------------------\u001b[0m",
      "\u001b[1;31mModuleNotFoundError\u001b[0m                       Traceback (most recent call last)",
      "Cell \u001b[1;32mIn[1], line 10\u001b[0m\n\u001b[0;32m      8\u001b[0m \u001b[38;5;28;01mfrom\u001b[39;00m \u001b[38;5;21;01mtank_optimization_model\u001b[39;00m \u001b[38;5;28;01mimport\u001b[39;00m Tank\n\u001b[0;32m      9\u001b[0m \u001b[38;5;28;01mimport\u001b[39;00m \u001b[38;5;21;01mmatplotlib\u001b[39;00m\u001b[38;5;21;01m.\u001b[39;00m\u001b[38;5;21;01mpyplot\u001b[39;00m \u001b[38;5;28;01mas\u001b[39;00m \u001b[38;5;21;01mplt\u001b[39;00m\n\u001b[1;32m---> 10\u001b[0m \u001b[38;5;28;01mfrom\u001b[39;00m \u001b[38;5;21;01mfmdtools\u001b[39;00m\u001b[38;5;21;01m.\u001b[39;00m\u001b[38;5;21;01msim\u001b[39;00m\u001b[38;5;21;01m.\u001b[39;00m\u001b[38;5;21;01mapproach\u001b[39;00m \u001b[38;5;28;01mimport\u001b[39;00m SampleApproach\n\u001b[0;32m     12\u001b[0m \u001b[38;5;28;01mfrom\u001b[39;00m \u001b[38;5;21;01mfmdtools\u001b[39;00m\u001b[38;5;21;01m.\u001b[39;00m\u001b[38;5;21;01manalyze\u001b[39;00m\u001b[38;5;21;01m.\u001b[39;00m\u001b[38;5;21;01mgraph\u001b[39;00m \u001b[38;5;28;01mimport\u001b[39;00m ModelFxnGraph\n\u001b[0;32m     13\u001b[0m \u001b[38;5;28;01mfrom\u001b[39;00m \u001b[38;5;21;01mfmdtools\u001b[39;00m\u001b[38;5;21;01m.\u001b[39;00m\u001b[38;5;21;01manalyze\u001b[39;00m\u001b[38;5;21;01m.\u001b[39;00m\u001b[38;5;21;01mgraph\u001b[39;00m \u001b[38;5;28;01mimport\u001b[39;00m ModelGraph\n",
      "\u001b[1;31mModuleNotFoundError\u001b[0m: No module named 'fmdtools.sim.approach'"
     ]
    }
   ],
   "source": [
    "import numpy as np\n",
    "import time\n",
    "import pandas as pd\n",
    "\n",
    "import fmdtools.sim.propagate as propagate\n",
    "import fmdtools.analyze as an\n",
    "import fmdtools.sim.search as search\n",
    "from tank_optimization_model import Tank\n",
    "import matplotlib.pyplot as plt\n",
    "from fmdtools.sim.approach import SampleApproach\n",
    "\n",
    "from fmdtools.analyze.graph import ModelFxnGraph\n",
    "from fmdtools.analyze.graph import ModelGraph\n"
   ]
  },
  {
   "cell_type": "markdown",
   "metadata": {},
   "source": [
    "# Simulation\n",
    "\n",
    "### Verifying the nominal state:\n",
    "\n",
    "In the nominal state, no change in system state should occurs. Flows will be constant and no signal is on."
   ]
  },
  {
   "cell_type": "code",
   "execution_count": 2,
   "metadata": {
    "execution": {
     "iopub.execute_input": "2023-11-02T19:15:38.650501Z",
     "iopub.status.busy": "2023-11-02T19:15:38.650501Z",
     "iopub.status.idle": "2023-11-02T19:15:38.681741Z",
     "shell.execute_reply": "2023-11-02T19:15:38.681741Z"
    }
   },
   "outputs": [
    {
     "ename": "NameError",
     "evalue": "name 'ModelGraph' is not defined",
     "output_type": "error",
     "traceback": [
      "\u001b[1;31m---------------------------------------------------------------------------\u001b[0m",
      "\u001b[1;31mNameError\u001b[0m                                 Traceback (most recent call last)",
      "Cell \u001b[1;32mIn[2], line 2\u001b[0m\n\u001b[0;32m      1\u001b[0m mdl \u001b[38;5;241m=\u001b[39m Tank()\n\u001b[1;32m----> 2\u001b[0m result, mdlhist \u001b[38;5;241m=\u001b[39m propagate\u001b[38;5;241m.\u001b[39mnominal(mdl,track\u001b[38;5;241m=\u001b[39m\u001b[38;5;124m'\u001b[39m\u001b[38;5;124mall\u001b[39m\u001b[38;5;124m'\u001b[39m, desired_result\u001b[38;5;241m=\u001b[39m{\u001b[38;5;124m'\u001b[39m\u001b[38;5;124mgraph\u001b[39m\u001b[38;5;124m'\u001b[39m:\u001b[43mModelGraph\u001b[49m})\n",
      "\u001b[1;31mNameError\u001b[0m: name 'ModelGraph' is not defined"
     ]
    }
   ],
   "source": [
    "mdl = Tank()\n",
    "result, mdlhist = propagate.nominal(mdl,track='all', desired_result={'graph':ModelGraph})"
   ]
  },
  {
   "cell_type": "code",
   "execution_count": 3,
   "metadata": {
    "execution": {
     "iopub.execute_input": "2023-11-02T19:15:38.681741Z",
     "iopub.status.busy": "2023-11-02T19:15:38.681741Z",
     "iopub.status.idle": "2023-11-02T19:15:38.719230Z",
     "shell.execute_reply": "2023-11-02T19:15:38.719230Z"
    }
   },
   "outputs": [
    {
     "ename": "NameError",
     "evalue": "name 'result' is not defined",
     "output_type": "error",
     "traceback": [
      "\u001b[1;31m---------------------------------------------------------------------------\u001b[0m",
      "\u001b[1;31mNameError\u001b[0m                                 Traceback (most recent call last)",
      "Cell \u001b[1;32mIn[3], line 1\u001b[0m\n\u001b[1;32m----> 1\u001b[0m fig \u001b[38;5;241m=\u001b[39m \u001b[43mresult\u001b[49m\u001b[38;5;241m.\u001b[39mgraph\u001b[38;5;241m.\u001b[39mdraw(figsize\u001b[38;5;241m=\u001b[39m(\u001b[38;5;241m8\u001b[39m,\u001b[38;5;241m6\u001b[39m))\n",
      "\u001b[1;31mNameError\u001b[0m: name 'result' is not defined"
     ]
    }
   ],
   "source": [
    "fig = result.graph.draw(figsize=(8,6))"
   ]
  },
  {
   "cell_type": "code",
   "execution_count": 4,
   "metadata": {
    "execution": {
     "iopub.execute_input": "2023-11-02T19:15:38.719230Z",
     "iopub.status.busy": "2023-11-02T19:15:38.719230Z",
     "iopub.status.idle": "2023-11-02T19:15:38.750434Z",
     "shell.execute_reply": "2023-11-02T19:15:38.750434Z"
    }
   },
   "outputs": [
    {
     "ename": "NameError",
     "evalue": "name 'mdlhist' is not defined",
     "output_type": "error",
     "traceback": [
      "\u001b[1;31m---------------------------------------------------------------------------\u001b[0m",
      "\u001b[1;31mNameError\u001b[0m                                 Traceback (most recent call last)",
      "Cell \u001b[1;32mIn[4], line 1\u001b[0m\n\u001b[1;32m----> 1\u001b[0m \u001b[43mmdlhist\u001b[49m\n",
      "\u001b[1;31mNameError\u001b[0m: name 'mdlhist' is not defined"
     ]
    }
   ],
   "source": [
    "mdlhist"
   ]
  },
  {
   "cell_type": "code",
   "execution_count": 5,
   "metadata": {
    "execution": {
     "iopub.execute_input": "2023-11-02T19:15:38.750434Z",
     "iopub.status.busy": "2023-11-02T19:15:38.750434Z",
     "iopub.status.idle": "2023-11-02T19:15:38.766100Z",
     "shell.execute_reply": "2023-11-02T19:15:38.766100Z"
    }
   },
   "outputs": [
    {
     "ename": "AttributeError",
     "evalue": "module 'fmdtools.analyze' has no attribute 'plot'",
     "output_type": "error",
     "traceback": [
      "\u001b[1;31m---------------------------------------------------------------------------\u001b[0m",
      "\u001b[1;31mAttributeError\u001b[0m                            Traceback (most recent call last)",
      "Cell \u001b[1;32mIn[5], line 1\u001b[0m\n\u001b[1;32m----> 1\u001b[0m fig, ax \u001b[38;5;241m=\u001b[39m\u001b[43man\u001b[49m\u001b[38;5;241;43m.\u001b[39;49m\u001b[43mplot\u001b[49m\u001b[38;5;241m.\u001b[39mhist(mdlhist ,\u001b[38;5;124m'\u001b[39m\u001b[38;5;124mflows.coolant_in.s.rate\u001b[39m\u001b[38;5;124m'\u001b[39m, \n\u001b[0;32m      2\u001b[0m                                \u001b[38;5;124m'\u001b[39m\u001b[38;5;124mflows.coolant_out.s.rate\u001b[39m\u001b[38;5;124m'\u001b[39m, \n\u001b[0;32m      3\u001b[0m                                \u001b[38;5;124m'\u001b[39m\u001b[38;5;124mfxns.store_coolant.s.level\u001b[39m\u001b[38;5;124m'\u001b[39m, \n\u001b[0;32m      4\u001b[0m                                \u001b[38;5;124m'\u001b[39m\u001b[38;5;124mflows.tank_sig.s.indicator\u001b[39m\u001b[38;5;124m'\u001b[39m)\n",
      "\u001b[1;31mAttributeError\u001b[0m: module 'fmdtools.analyze' has no attribute 'plot'"
     ]
    }
   ],
   "source": [
    "fig, ax =an.plot.hist(mdlhist ,'flows.coolant_in.s.rate', \n",
    "                               'flows.coolant_out.s.rate', \n",
    "                               'fxns.store_coolant.s.level', \n",
    "                               'flows.tank_sig.s.indicator')"
   ]
  },
  {
   "cell_type": "markdown",
   "metadata": {},
   "source": [
    "### What happens under component faults?\n",
    "\n",
    "\n",
    "Here we model a leak of the tank. As shown, the coolant leaks until there is no more coolant left in the tank. While this results in a warning signal, the default contingency management policy is to take no actions to alleviate the condition."
   ]
  },
  {
   "cell_type": "code",
   "execution_count": 6,
   "metadata": {
    "execution": {
     "iopub.execute_input": "2023-11-02T19:15:38.766100Z",
     "iopub.status.busy": "2023-11-02T19:15:38.766100Z",
     "iopub.status.idle": "2023-11-02T19:15:38.797349Z",
     "shell.execute_reply": "2023-11-02T19:15:38.797349Z"
    }
   },
   "outputs": [
    {
     "ename": "AttributeError",
     "evalue": "module 'fmdtools.analyze' has no attribute 'plot'",
     "output_type": "error",
     "traceback": [
      "\u001b[1;31m---------------------------------------------------------------------------\u001b[0m",
      "\u001b[1;31mAttributeError\u001b[0m                            Traceback (most recent call last)",
      "Cell \u001b[1;32mIn[6], line 3\u001b[0m\n\u001b[0;32m      1\u001b[0m resgraph, mdlhist \u001b[38;5;241m=\u001b[39m propagate\u001b[38;5;241m.\u001b[39mone_fault(mdl,\u001b[38;5;124m'\u001b[39m\u001b[38;5;124mstore_coolant\u001b[39m\u001b[38;5;124m'\u001b[39m,\u001b[38;5;124m'\u001b[39m\u001b[38;5;124mleak\u001b[39m\u001b[38;5;124m'\u001b[39m, time\u001b[38;5;241m=\u001b[39m\u001b[38;5;241m3\u001b[39m, track\u001b[38;5;241m=\u001b[39m\u001b[38;5;124m'\u001b[39m\u001b[38;5;124mall\u001b[39m\u001b[38;5;124m'\u001b[39m,desired_result\u001b[38;5;241m=\u001b[39m[\u001b[38;5;124m'\u001b[39m\u001b[38;5;124mgraph\u001b[39m\u001b[38;5;124m'\u001b[39m,\u001b[38;5;124m'\u001b[39m\u001b[38;5;124mendclass\u001b[39m\u001b[38;5;124m'\u001b[39m,\u001b[38;5;124m'\u001b[39m\u001b[38;5;124mendfaults\u001b[39m\u001b[38;5;124m'\u001b[39m])\n\u001b[1;32m----> 3\u001b[0m fig, ax \u001b[38;5;241m=\u001b[39m\u001b[43man\u001b[49m\u001b[38;5;241;43m.\u001b[39;49m\u001b[43mplot\u001b[49m\u001b[38;5;241m.\u001b[39mhist(mdlhist ,\u001b[38;5;124m'\u001b[39m\u001b[38;5;124mflows.coolant_in.s.rate\u001b[39m\u001b[38;5;124m'\u001b[39m, \n\u001b[0;32m      4\u001b[0m                                \u001b[38;5;124m'\u001b[39m\u001b[38;5;124mflows.coolant_out.s.rate\u001b[39m\u001b[38;5;124m'\u001b[39m, \n\u001b[0;32m      5\u001b[0m                                \u001b[38;5;124m'\u001b[39m\u001b[38;5;124mfxns.store_coolant.s.level\u001b[39m\u001b[38;5;124m'\u001b[39m, \n\u001b[0;32m      6\u001b[0m                                \u001b[38;5;124m'\u001b[39m\u001b[38;5;124mflows.tank_sig.s.indicator\u001b[39m\u001b[38;5;124m'\u001b[39m)\n",
      "\u001b[1;31mAttributeError\u001b[0m: module 'fmdtools.analyze' has no attribute 'plot'"
     ]
    }
   ],
   "source": [
    "resgraph, mdlhist = propagate.one_fault(mdl,'store_coolant','leak', time=3, track='all',desired_result=['graph','endclass','endfaults'])\n",
    "\n",
    "fig, ax =an.plot.hist(mdlhist ,'flows.coolant_in.s.rate', \n",
    "                               'flows.coolant_out.s.rate', \n",
    "                               'fxns.store_coolant.s.level', \n",
    "                               'flows.tank_sig.s.indicator')"
   ]
  },
  {
   "cell_type": "code",
   "execution_count": 7,
   "metadata": {
    "execution": {
     "iopub.execute_input": "2023-11-02T19:15:38.799993Z",
     "iopub.status.busy": "2023-11-02T19:15:38.799993Z",
     "iopub.status.idle": "2023-11-02T19:15:38.821832Z",
     "shell.execute_reply": "2023-11-02T19:15:38.821832Z"
    },
    "scrolled": false
   },
   "outputs": [
    {
     "ename": "NameError",
     "evalue": "name 'ModelGraph' is not defined",
     "output_type": "error",
     "traceback": [
      "\u001b[1;31m---------------------------------------------------------------------------\u001b[0m",
      "\u001b[1;31mNameError\u001b[0m                                 Traceback (most recent call last)",
      "Cell \u001b[1;32mIn[7], line 1\u001b[0m\n\u001b[1;32m----> 1\u001b[0m mg \u001b[38;5;241m=\u001b[39m \u001b[43mModelGraph\u001b[49m(mdl)\n\u001b[0;32m      2\u001b[0m fig, ax \u001b[38;5;241m=\u001b[39m mg\u001b[38;5;241m.\u001b[39mdraw_from(\u001b[38;5;241m10\u001b[39m,mdlhist)\n",
      "\u001b[1;31mNameError\u001b[0m: name 'ModelGraph' is not defined"
     ]
    }
   ],
   "source": [
    "mg = ModelGraph(mdl)\n",
    "fig, ax = mg.draw_from(10,mdlhist)"
   ]
  },
  {
   "cell_type": "markdown",
   "metadata": {},
   "source": [
    "### Full set of modes\n",
    "\n",
    "The tank leak mode will not be the only mode considered, but also leak and blockage faults in the Imput/Output blocks."
   ]
  },
  {
   "cell_type": "code",
   "execution_count": 8,
   "metadata": {
    "execution": {
     "iopub.execute_input": "2023-11-02T19:15:38.821832Z",
     "iopub.status.busy": "2023-11-02T19:15:38.821832Z",
     "iopub.status.idle": "2023-11-02T19:15:38.853082Z",
     "shell.execute_reply": "2023-11-02T19:15:38.853082Z"
    }
   },
   "outputs": [
    {
     "ename": "NameError",
     "evalue": "name 'SampleApproach' is not defined",
     "output_type": "error",
     "traceback": [
      "\u001b[1;31m---------------------------------------------------------------------------\u001b[0m",
      "\u001b[1;31mNameError\u001b[0m                                 Traceback (most recent call last)",
      "Cell \u001b[1;32mIn[8], line 1\u001b[0m\n\u001b[1;32m----> 1\u001b[0m app_joint_faults \u001b[38;5;241m=\u001b[39m \u001b[43mSampleApproach\u001b[49m(mdl)\n\u001b[0;32m      2\u001b[0m endclasses, mdlhists \u001b[38;5;241m=\u001b[39m propagate\u001b[38;5;241m.\u001b[39mapproach(mdl, app_joint_faults)\n\u001b[0;32m      3\u001b[0m fmea_tab \u001b[38;5;241m=\u001b[39m an\u001b[38;5;241m.\u001b[39mtabulate\u001b[38;5;241m.\u001b[39mresult_summary_fmea(endclasses,mdlhists)\n",
      "\u001b[1;31mNameError\u001b[0m: name 'SampleApproach' is not defined"
     ]
    }
   ],
   "source": [
    "app_joint_faults = SampleApproach(mdl)\n",
    "endclasses, mdlhists = propagate.approach(mdl, app_joint_faults)\n",
    "fmea_tab = an.tabulate.result_summary_fmea(endclasses,mdlhists)\n",
    "fmea_tab"
   ]
  },
  {
   "cell_type": "markdown",
   "metadata": {},
   "source": [
    "### Defining Optimization Problem\n",
    "\n",
    "We can define an optimization problem around this model using the `ProblemInterface` class.\n",
    "\n",
    "In this case, we consider the joint minimization of design cost (defined in a function) and resilience cost (expected cost over the above list of scenarios). This is over two sets of variables\n",
    "\n",
    "- capacity and turnup (design variables that effect both design and resilience costs), and\n",
    "- the resilience policy (variables that only effect resilience cost)"
   ]
  },
  {
   "cell_type": "code",
   "execution_count": 9,
   "metadata": {
    "execution": {
     "iopub.execute_input": "2023-11-02T19:15:38.853082Z",
     "iopub.status.busy": "2023-11-02T19:15:38.853082Z",
     "iopub.status.idle": "2023-11-02T19:15:38.868815Z",
     "shell.execute_reply": "2023-11-02T19:15:38.868815Z"
    }
   },
   "outputs": [],
   "source": [
    "mdl= Tank()\n",
    "prob = search.ProblemInterface(\"res_problem\", mdl, staged=True)"
   ]
  },
  {
   "cell_type": "markdown",
   "metadata": {},
   "source": [
    "To model design cost (which does not involve simulation), we attach an external callable using the \"external\" option in `.add_simulation`. Note that this callable is defined in terms of its objective only."
   ]
  },
  {
   "cell_type": "code",
   "execution_count": 10,
   "metadata": {
    "execution": {
     "iopub.execute_input": "2023-11-02T19:15:38.868815Z",
     "iopub.status.busy": "2023-11-02T19:15:38.868815Z",
     "iopub.status.idle": "2023-11-02T19:15:38.884366Z",
     "shell.execute_reply": "2023-11-02T19:15:38.884366Z"
    }
   },
   "outputs": [],
   "source": [
    "def x_to_descost(xdes):\n",
    "    pen = 0 #determining upper-level penalty\n",
    "    if xdes[0]<10: pen+=1e5*(10-xdes[0])**2\n",
    "    if xdes[0]>100: pen+=1e5*(100-xdes[0])**2\n",
    "    if xdes[1]<0: pen+=1e5*(xdes[1])**2\n",
    "    if xdes[1]>1: pen+=1e5*(1-xdes[1])**2\n",
    "    return (xdes[0]-10)*1000 + (xdes[0]-10)**2*1000   + xdes[1]**2*10000 + pen\n",
    "prob.add_simulation(\"des_cost\", \"external\", x_to_descost)\n",
    "prob.add_objectives(\"des_cost\", cd=\"cd\")\n",
    "prob.add_variables(\"des_cost\",'capacity', 'turnup')"
   ]
  },
  {
   "cell_type": "code",
   "execution_count": 11,
   "metadata": {
    "execution": {
     "iopub.execute_input": "2023-11-02T19:15:38.884366Z",
     "iopub.status.busy": "2023-11-02T19:15:38.884366Z",
     "iopub.status.idle": "2023-11-02T19:15:38.919702Z",
     "shell.execute_reply": "2023-11-02T19:15:38.919702Z"
    }
   },
   "outputs": [
    {
     "data": {
      "text/plain": [
       "Problem res_problem                                                     current value\n",
       " Variables\n",
       " -vars capacity at t=0: None                                                      nan\n",
       " -vars turnup at t=0: None                                                        nan\n",
       " Objectives\n",
       " -cd: +(des_cost   at t=)                                                         nan\n",
       " Constraints\n",
       " -\n",
       " Simulations\n",
       " -des_cost: external scen: "
      ]
     },
     "execution_count": 11,
     "metadata": {},
     "output_type": "execute_result"
    }
   ],
   "source": [
    "prob"
   ]
  },
  {
   "cell_type": "markdown",
   "metadata": {},
   "source": [
    "Since the design variables affect both design and resilience costs, we can use the `upstream_sims` option to translate \"des_cost\" variables into \"res_sim\" simulation parameters. "
   ]
  },
  {
   "cell_type": "code",
   "execution_count": 12,
   "metadata": {
    "execution": {
     "iopub.execute_input": "2023-11-02T19:15:38.919702Z",
     "iopub.status.busy": "2023-11-02T19:15:38.919702Z",
     "iopub.status.idle": "2023-11-02T19:15:38.966695Z",
     "shell.execute_reply": "2023-11-02T19:15:38.966695Z"
    }
   },
   "outputs": [
    {
     "ename": "NameError",
     "evalue": "name 'SampleApproach' is not defined",
     "output_type": "error",
     "traceback": [
      "\u001b[1;31m---------------------------------------------------------------------------\u001b[0m",
      "\u001b[1;31mNameError\u001b[0m                                 Traceback (most recent call last)",
      "Cell \u001b[1;32mIn[12], line 2\u001b[0m\n\u001b[0;32m      1\u001b[0m \u001b[38;5;28;01mfrom\u001b[39;00m \u001b[38;5;21;01mexamples\u001b[39;00m\u001b[38;5;21;01m.\u001b[39;00m\u001b[38;5;21;01mtank\u001b[39;00m\u001b[38;5;21;01m.\u001b[39;00m\u001b[38;5;21;01mtank_optimization_model\u001b[39;00m \u001b[38;5;28;01mimport\u001b[39;00m Tank, TankParam, make_tankparam\n\u001b[1;32m----> 2\u001b[0m app \u001b[38;5;241m=\u001b[39m \u001b[43mSampleApproach\u001b[49m(mdl)\n\u001b[0;32m      3\u001b[0m prob\u001b[38;5;241m.\u001b[39madd_simulation(\u001b[38;5;124m\"\u001b[39m\u001b[38;5;124mres_sim\u001b[39m\u001b[38;5;124m\"\u001b[39m, \u001b[38;5;124m\"\u001b[39m\u001b[38;5;124mmulti\u001b[39m\u001b[38;5;124m\"\u001b[39m, app\u001b[38;5;241m.\u001b[39mscenlist, include_nominal\u001b[38;5;241m=\u001b[39m\u001b[38;5;28;01mTrue\u001b[39;00m,\n\u001b[0;32m      4\u001b[0m                     upstream_sims \u001b[38;5;241m=\u001b[39m {\u001b[38;5;124m\"\u001b[39m\u001b[38;5;124mdes_cost\u001b[39m\u001b[38;5;124m\"\u001b[39m:{\u001b[38;5;124m'\u001b[39m\u001b[38;5;124mp\u001b[39m\u001b[38;5;124m'\u001b[39m:{\u001b[38;5;124m\"\u001b[39m\u001b[38;5;124mcapacity\u001b[39m\u001b[38;5;124m\"\u001b[39m:\u001b[38;5;124m\"\u001b[39m\u001b[38;5;124mcapacity\u001b[39m\u001b[38;5;124m\"\u001b[39m, \u001b[38;5;124m\"\u001b[39m\u001b[38;5;124mturnup\u001b[39m\u001b[38;5;124m\"\u001b[39m:\u001b[38;5;124m\"\u001b[39m\u001b[38;5;124mturnup\u001b[39m\u001b[38;5;124m\"\u001b[39m}}})\n\u001b[0;32m      6\u001b[0m res_vars_i \u001b[38;5;241m=\u001b[39m {(v[\u001b[38;5;241m0\u001b[39m],v[\u001b[38;5;241m1\u001b[39m],v[\u001b[38;5;241m2\u001b[39m],v[\u001b[38;5;241m3\u001b[39m]):\u001b[38;5;241m1\u001b[39m \u001b[38;5;28;01mfor\u001b[39;00m v \u001b[38;5;129;01min\u001b[39;00m mdl\u001b[38;5;241m.\u001b[39mp\u001b[38;5;241m.\u001b[39mfaultpolicy}\n",
      "\u001b[1;31mNameError\u001b[0m: name 'SampleApproach' is not defined"
     ]
    }
   ],
   "source": [
    "from examples.tank.tank_optimization_model import Tank, TankParam, make_tankparam\n",
    "app = SampleApproach(mdl)\n",
    "prob.add_simulation(\"res_sim\", \"multi\", app.scenlist, include_nominal=True,\n",
    "                    upstream_sims = {\"des_cost\":{'p':{\"capacity\":\"capacity\", \"turnup\":\"turnup\"}}})\n",
    "\n",
    "res_vars_i = {(v[0],v[1],v[2],v[3]):1 for v in mdl.p.faultpolicy}\n",
    "res_vars = [(var, None) for var in res_vars_i.keys()]\n",
    "[v[:4] for v in TankParam().faultpolicy]\n",
    "\n",
    "prob.add_variables(\"res_sim\", *res_vars, vartype=make_tankparam)\n",
    "prob.add_objectives(\"res_sim\", cost=\"expected cost\", objtype=\"endclass\")"
   ]
  },
  {
   "cell_type": "markdown",
   "metadata": {},
   "source": [
    "Finally, to get a callable for both objectives, we can use `add_combined_objective`, which will perform an opteration (default is sum) to combine the objectives:"
   ]
  },
  {
   "cell_type": "code",
   "execution_count": 13,
   "metadata": {
    "execution": {
     "iopub.execute_input": "2023-11-02T19:15:38.966695Z",
     "iopub.status.busy": "2023-11-02T19:15:38.966695Z",
     "iopub.status.idle": "2023-11-02T19:15:38.982253Z",
     "shell.execute_reply": "2023-11-02T19:15:38.982253Z"
    }
   },
   "outputs": [],
   "source": [
    "prob.add_combined_objective('tot_cost', 'cd', 'cost')"
   ]
  },
  {
   "cell_type": "markdown",
   "metadata": {},
   "source": [
    "The problem is now updated to incorporate the new design variables based on fault policies. There are combinations of fault signals (triplets of -1, 0, and 1) paired with the contigency response ('l' and 'u')."
   ]
  },
  {
   "cell_type": "code",
   "execution_count": 14,
   "metadata": {
    "execution": {
     "iopub.execute_input": "2023-11-02T19:15:38.982253Z",
     "iopub.status.busy": "2023-11-02T19:15:38.982253Z",
     "iopub.status.idle": "2023-11-02T19:15:38.997867Z",
     "shell.execute_reply": "2023-11-02T19:15:38.997867Z"
    }
   },
   "outputs": [
    {
     "data": {
      "text/plain": [
       "Problem res_problem                                                     current value\n",
       " Variables\n",
       " -vars capacity at t=0: None                                                      nan\n",
       " -vars turnup at t=0: None                                                        nan\n",
       " Objectives\n",
       " -cd: +(des_cost   at t=)                                                         nan\n",
       " Constraints\n",
       " -\n",
       " Simulations\n",
       " -des_cost: external scen: "
      ]
     },
     "execution_count": 14,
     "metadata": {},
     "output_type": "execute_result"
    }
   ],
   "source": [
    "prob"
   ]
  },
  {
   "cell_type": "markdown",
   "metadata": {},
   "source": [
    "Note that because the simulations are linked, changes to xdes in the `cd` function in turn change the lower-level `cost` function by default."
   ]
  },
  {
   "cell_type": "code",
   "execution_count": 15,
   "metadata": {
    "execution": {
     "iopub.execute_input": "2023-11-02T19:15:38.997867Z",
     "iopub.status.busy": "2023-11-02T19:15:38.997867Z",
     "iopub.status.idle": "2023-11-02T19:15:39.020160Z",
     "shell.execute_reply": "2023-11-02T19:15:39.020160Z"
    }
   },
   "outputs": [
    {
     "data": {
      "text/plain": [
       "8312000.0"
      ]
     },
     "execution_count": 15,
     "metadata": {},
     "output_type": "execute_result"
    }
   ],
   "source": [
    "xdes = [1,2]\n",
    "prob.cd(xdes)"
   ]
  },
  {
   "cell_type": "code",
   "execution_count": 16,
   "metadata": {
    "execution": {
     "iopub.execute_input": "2023-11-02T19:15:39.020160Z",
     "iopub.status.busy": "2023-11-02T19:15:39.020160Z",
     "iopub.status.idle": "2023-11-02T19:15:39.035783Z",
     "shell.execute_reply": "2023-11-02T19:15:39.035783Z"
    }
   },
   "outputs": [
    {
     "ename": "AttributeError",
     "evalue": "'ProblemInterface' object has no attribute 'cost'",
     "output_type": "error",
     "traceback": [
      "\u001b[1;31m---------------------------------------------------------------------------\u001b[0m",
      "\u001b[1;31mAttributeError\u001b[0m                            Traceback (most recent call last)",
      "Cell \u001b[1;32mIn[16], line 1\u001b[0m\n\u001b[1;32m----> 1\u001b[0m \u001b[43mprob\u001b[49m\u001b[38;5;241;43m.\u001b[39;49m\u001b[43mcost\u001b[49m([\u001b[38;5;241m*\u001b[39mres_vars_i\u001b[38;5;241m.\u001b[39mvalues()])\n",
      "\u001b[1;31mAttributeError\u001b[0m: 'ProblemInterface' object has no attribute 'cost'"
     ]
    }
   ],
   "source": [
    "prob.cost([*res_vars_i.values()])\n"
   ]
  },
  {
   "cell_type": "code",
   "execution_count": 17,
   "metadata": {
    "execution": {
     "iopub.execute_input": "2023-11-02T19:15:39.035783Z",
     "iopub.status.busy": "2023-11-02T19:15:39.035783Z",
     "iopub.status.idle": "2023-11-02T19:15:39.051345Z",
     "shell.execute_reply": "2023-11-02T19:15:39.051345Z"
    }
   },
   "outputs": [
    {
     "data": {
      "text/plain": [
       "8662000.0"
      ]
     },
     "execution_count": 17,
     "metadata": {},
     "output_type": "execute_result"
    }
   ],
   "source": [
    "xdes = [1,3]\n",
    "prob.cd(xdes)"
   ]
  },
  {
   "cell_type": "code",
   "execution_count": 18,
   "metadata": {
    "execution": {
     "iopub.execute_input": "2023-11-02T19:15:39.051345Z",
     "iopub.status.busy": "2023-11-02T19:15:39.051345Z",
     "iopub.status.idle": "2023-11-02T19:15:39.067032Z",
     "shell.execute_reply": "2023-11-02T19:15:39.067032Z"
    }
   },
   "outputs": [
    {
     "ename": "AttributeError",
     "evalue": "'ProblemInterface' object has no attribute 'cost'",
     "output_type": "error",
     "traceback": [
      "\u001b[1;31m---------------------------------------------------------------------------\u001b[0m",
      "\u001b[1;31mAttributeError\u001b[0m                            Traceback (most recent call last)",
      "Cell \u001b[1;32mIn[18], line 1\u001b[0m\n\u001b[1;32m----> 1\u001b[0m \u001b[43mprob\u001b[49m\u001b[38;5;241;43m.\u001b[39;49m\u001b[43mcost\u001b[49m([\u001b[38;5;241m*\u001b[39mres_vars_i\u001b[38;5;241m.\u001b[39mvalues()])\n",
      "\u001b[1;31mAttributeError\u001b[0m: 'ProblemInterface' object has no attribute 'cost'"
     ]
    }
   ],
   "source": [
    "prob.cost([*res_vars_i.values()])"
   ]
  },
  {
   "cell_type": "markdown",
   "metadata": {},
   "source": [
    "These costs can be treated as independent by clearing the problem prior to the lower-level cost evalutation."
   ]
  },
  {
   "cell_type": "code",
   "execution_count": 19,
   "metadata": {
    "execution": {
     "iopub.execute_input": "2023-11-02T19:15:39.067032Z",
     "iopub.status.busy": "2023-11-02T19:15:39.067032Z",
     "iopub.status.idle": "2023-11-02T19:15:39.267494Z",
     "shell.execute_reply": "2023-11-02T19:15:39.267494Z"
    }
   },
   "outputs": [
    {
     "ename": "KeyError",
     "evalue": "'res_sim'",
     "output_type": "error",
     "traceback": [
      "\u001b[1;31m---------------------------------------------------------------------------\u001b[0m",
      "\u001b[1;31mKeyError\u001b[0m                                  Traceback (most recent call last)",
      "Cell \u001b[1;32mIn[19], line 2\u001b[0m\n\u001b[0;32m      1\u001b[0m prob\u001b[38;5;241m.\u001b[39mclear()\n\u001b[1;32m----> 2\u001b[0m \u001b[43mprob\u001b[49m\u001b[38;5;241;43m.\u001b[39;49m\u001b[43mupdate_sim_vars\u001b[49m\u001b[43m(\u001b[49m\u001b[38;5;124;43m\"\u001b[39;49m\u001b[38;5;124;43mres_sim\u001b[39;49m\u001b[38;5;124;43m\"\u001b[39;49m\u001b[43m,\u001b[49m\u001b[43m \u001b[49m\u001b[43mnew_p\u001b[49m\u001b[38;5;241;43m=\u001b[39;49m\u001b[43m{\u001b[49m\u001b[38;5;124;43m'\u001b[39;49m\u001b[38;5;124;43mcapacity\u001b[39;49m\u001b[38;5;124;43m'\u001b[39;49m\u001b[43m:\u001b[49m\u001b[38;5;241;43m1\u001b[39;49m\u001b[43m,\u001b[49m\u001b[43m \u001b[49m\u001b[38;5;124;43m'\u001b[39;49m\u001b[38;5;124;43mturnup\u001b[39;49m\u001b[38;5;124;43m'\u001b[39;49m\u001b[43m:\u001b[49m\u001b[38;5;241;43m2\u001b[39;49m\u001b[43m}\u001b[49m\u001b[43m)\u001b[49m\n\u001b[0;32m      3\u001b[0m prob\u001b[38;5;241m.\u001b[39mcost([\u001b[38;5;241m*\u001b[39mres_vars_i\u001b[38;5;241m.\u001b[39mvalues()])\n",
      "File \u001b[1;32mc:\\users\\dhulse\\documents\\github\\fmdtools\\fmdtools\\sim\\search.py:768\u001b[0m, in \u001b[0;36mProblemInterface.update_sim_vars\u001b[1;34m(self, simname, new_p, newvars, newsequence)\u001b[0m\n\u001b[0;32m    753\u001b[0m \u001b[38;5;250m\u001b[39m\u001b[38;5;124;03m\"\"\"\u001b[39;00m\n\u001b[0;32m    754\u001b[0m \u001b[38;5;124;03mUpdate the simulation with new default variables/parameters\u001b[39;00m\n\u001b[0;32m    755\u001b[0m \n\u001b[1;32m   (...)\u001b[0m\n\u001b[0;32m    765\u001b[0m \u001b[38;5;124;03m    New default sequence of faults/disturbances (updated accross all scenarios). The default is {}.\u001b[39;00m\n\u001b[0;32m    766\u001b[0m \u001b[38;5;124;03m\"\"\"\u001b[39;00m\n\u001b[0;32m    767\u001b[0m \u001b[38;5;28mself\u001b[39m\u001b[38;5;241m.\u001b[39mclear(simname, clearvars\u001b[38;5;241m=\u001b[39m\u001b[38;5;28;01mFalse\u001b[39;00m, clearhist\u001b[38;5;241m=\u001b[39m\u001b[38;5;28;01mFalse\u001b[39;00m)\n\u001b[1;32m--> 768\u001b[0m \u001b[38;5;28;01mif\u001b[39;00m \u001b[38;5;124m'\u001b[39m\u001b[38;5;124mp\u001b[39m\u001b[38;5;124m'\u001b[39m \u001b[38;5;129;01min\u001b[39;00m \u001b[38;5;28;43mself\u001b[39;49m\u001b[38;5;241;43m.\u001b[39;49m\u001b[43msimulations\u001b[49m\u001b[43m[\u001b[49m\u001b[43msimname\u001b[49m\u001b[43m]\u001b[49m[\u001b[38;5;241m2\u001b[39m]: \u001b[38;5;28mself\u001b[39m\u001b[38;5;241m.\u001b[39msimulations[simname][\u001b[38;5;241m2\u001b[39m][\u001b[38;5;124m'\u001b[39m\u001b[38;5;124mp\u001b[39m\u001b[38;5;124m'\u001b[39m]\u001b[38;5;241m.\u001b[39mupdate(new_p)\n\u001b[0;32m    769\u001b[0m \u001b[38;5;28;01melse\u001b[39;00m:   \u001b[38;5;28mself\u001b[39m\u001b[38;5;241m.\u001b[39msimulations[simname][\u001b[38;5;241m2\u001b[39m][\u001b[38;5;124m'\u001b[39m\u001b[38;5;124mp\u001b[39m\u001b[38;5;124m'\u001b[39m] \u001b[38;5;241m=\u001b[39m new_p\n\u001b[0;32m    770\u001b[0m newsequence\u001b[38;5;241m.\u001b[39mupdate({\u001b[38;5;241m0\u001b[39m:{\u001b[38;5;124m'\u001b[39m\u001b[38;5;124mdisturbances\u001b[39m\u001b[38;5;124m'\u001b[39m:newvars}})\n",
      "\u001b[1;31mKeyError\u001b[0m: 'res_sim'"
     ]
    }
   ],
   "source": [
    "prob.clear()\n",
    "prob.update_sim_vars(\"res_sim\", new_p={'capacity':1, 'turnup':2})\n",
    "prob.cost([*res_vars_i.values()])\n"
   ]
  },
  {
   "cell_type": "markdown",
   "metadata": {},
   "source": [
    "### Optimization\n",
    "\n",
    "This problem is optimized here using four different architectures, following the example in:\n",
    "\n",
    "Hulse, D., & Hoyle, C. (2022). Understanding Resilience Optimization Architectures: Alignment and Coupling in Multilevel Decomposition Strategies. Journal of Mechanical Design, 144(11), 111704.\n",
    "\n",
    "The implementation of these architectures is provided in `tank_opt` using the `ProblemInterface` class. Here we show some results for comparing the architectures, which as shown are consistent with the reference."
   ]
  },
  {
   "cell_type": "code",
   "execution_count": 20,
   "metadata": {
    "execution": {
     "iopub.execute_input": "2023-11-02T19:15:39.267494Z",
     "iopub.status.busy": "2023-11-02T19:15:39.267494Z",
     "iopub.status.idle": "2023-11-02T19:15:39.367507Z",
     "shell.execute_reply": "2023-11-02T19:15:39.367507Z"
    }
   },
   "outputs": [
    {
     "ename": "ModuleNotFoundError",
     "evalue": "No module named 'fmdtools.sim.approach'",
     "output_type": "error",
     "traceback": [
      "\u001b[1;31m---------------------------------------------------------------------------\u001b[0m",
      "\u001b[1;31mModuleNotFoundError\u001b[0m                       Traceback (most recent call last)",
      "Cell \u001b[1;32mIn[20], line 2\u001b[0m\n\u001b[0;32m      1\u001b[0m \u001b[38;5;28;01mimport\u001b[39;00m \u001b[38;5;21;01mimportlib\u001b[39;00m\n\u001b[1;32m----> 2\u001b[0m \u001b[38;5;28;01mimport\u001b[39;00m \u001b[38;5;21;01mtank_opt\u001b[39;00m\n\u001b[0;32m      3\u001b[0m \u001b[38;5;28;01mimport\u001b[39;00m \u001b[38;5;21;01mmultiprocessing\u001b[39;00m \u001b[38;5;28;01mas\u001b[39;00m \u001b[38;5;21;01mmp\u001b[39;00m\n\u001b[0;32m      4\u001b[0m importlib\u001b[38;5;241m.\u001b[39mreload(tank_opt)\n",
      "File \u001b[1;32m~\\Documents\\GitHub\\fmdtools\\examples\\tank\\tank_opt.py:24\u001b[0m\n\u001b[0;32m     22\u001b[0m \u001b[38;5;28;01mimport\u001b[39;00m \u001b[38;5;21;01mfmdtools\u001b[39;00m\u001b[38;5;21;01m.\u001b[39;00m\u001b[38;5;21;01manalyze\u001b[39;00m \u001b[38;5;28;01mas\u001b[39;00m \u001b[38;5;21;01man\u001b[39;00m\n\u001b[0;32m     23\u001b[0m \u001b[38;5;28;01mfrom\u001b[39;00m \u001b[38;5;21;01mexamples\u001b[39;00m\u001b[38;5;21;01m.\u001b[39;00m\u001b[38;5;21;01mtank\u001b[39;00m\u001b[38;5;21;01m.\u001b[39;00m\u001b[38;5;21;01mtank_optimization_model\u001b[39;00m \u001b[38;5;28;01mimport\u001b[39;00m Tank, TankParam, make_tankparam\n\u001b[1;32m---> 24\u001b[0m \u001b[38;5;28;01mfrom\u001b[39;00m \u001b[38;5;21;01mfmdtools\u001b[39;00m\u001b[38;5;21;01m.\u001b[39;00m\u001b[38;5;21;01msim\u001b[39;00m\u001b[38;5;21;01m.\u001b[39;00m\u001b[38;5;21;01mapproach\u001b[39;00m \u001b[38;5;28;01mimport\u001b[39;00m SampleApproach\n\u001b[0;32m     25\u001b[0m \u001b[38;5;28;01mimport\u001b[39;00m \u001b[38;5;21;01mmultiprocessing\u001b[39;00m \u001b[38;5;28;01mas\u001b[39;00m \u001b[38;5;21;01mmp\u001b[39;00m\n\u001b[0;32m     26\u001b[0m \u001b[38;5;28;01mfrom\u001b[39;00m \u001b[38;5;21;01mfmdtools\u001b[39;00m\u001b[38;5;21;01m.\u001b[39;00m\u001b[38;5;21;01msim\u001b[39;00m\u001b[38;5;21;01m.\u001b[39;00m\u001b[38;5;21;01msearch\u001b[39;00m \u001b[38;5;28;01mimport\u001b[39;00m ProblemInterface\n",
      "\u001b[1;31mModuleNotFoundError\u001b[0m: No module named 'fmdtools.sim.approach'"
     ]
    }
   ],
   "source": [
    "import importlib\n",
    "import tank_opt\n",
    "import multiprocessing as mp\n",
    "importlib.reload(tank_opt)\n",
    "pool = mp.Pool(5)"
   ]
  },
  {
   "cell_type": "markdown",
   "metadata": {},
   "source": [
    "alternating optimization structure"
   ]
  },
  {
   "cell_type": "code",
   "execution_count": 21,
   "metadata": {
    "execution": {
     "iopub.execute_input": "2023-11-02T19:15:39.367507Z",
     "iopub.status.busy": "2023-11-02T19:15:39.367507Z",
     "iopub.status.idle": "2023-11-02T19:15:39.383030Z",
     "shell.execute_reply": "2023-11-02T19:15:39.383030Z"
    }
   },
   "outputs": [
    {
     "ename": "NameError",
     "evalue": "name 'tank_opt' is not defined",
     "output_type": "error",
     "traceback": [
      "\u001b[1;31m---------------------------------------------------------------------------\u001b[0m",
      "\u001b[1;31mNameError\u001b[0m                                 Traceback (most recent call last)",
      "Cell \u001b[1;32mIn[21], line 1\u001b[0m\n\u001b[1;32m----> 1\u001b[0m result_alt, llargs_alt, fhist_alt, thist_alt, xdhist_alt \u001b[38;5;241m=\u001b[39m \u001b[43mtank_opt\u001b[49m\u001b[38;5;241m.\u001b[39malternating_opt(pool\u001b[38;5;241m=\u001b[39mpool, max_alts\u001b[38;5;241m=\u001b[39m\u001b[38;5;241m1\u001b[39m)\n",
      "\u001b[1;31mNameError\u001b[0m: name 'tank_opt' is not defined"
     ]
    }
   ],
   "source": [
    "result_alt, llargs_alt, fhist_alt, thist_alt, xdhist_alt = tank_opt.alternating_opt(pool=pool, max_alts=1)"
   ]
  },
  {
   "cell_type": "code",
   "execution_count": 22,
   "metadata": {
    "execution": {
     "iopub.execute_input": "2023-11-02T19:15:39.383030Z",
     "iopub.status.busy": "2023-11-02T19:15:39.383030Z",
     "iopub.status.idle": "2023-11-02T19:15:39.420875Z",
     "shell.execute_reply": "2023-11-02T19:15:39.420875Z"
    }
   },
   "outputs": [
    {
     "ename": "NameError",
     "evalue": "name 'result_alt' is not defined",
     "output_type": "error",
     "traceback": [
      "\u001b[1;31m---------------------------------------------------------------------------\u001b[0m",
      "\u001b[1;31mNameError\u001b[0m                                 Traceback (most recent call last)",
      "Cell \u001b[1;32mIn[22], line 1\u001b[0m\n\u001b[1;32m----> 1\u001b[0m \u001b[43mresult_alt\u001b[49m\u001b[38;5;241m.\u001b[39mfun\n",
      "\u001b[1;31mNameError\u001b[0m: name 'result_alt' is not defined"
     ]
    }
   ],
   "source": [
    "result_alt.fun"
   ]
  },
  {
   "cell_type": "code",
   "execution_count": 23,
   "metadata": {
    "execution": {
     "iopub.execute_input": "2023-11-02T19:15:39.420875Z",
     "iopub.status.busy": "2023-11-02T19:15:39.420875Z",
     "iopub.status.idle": "2023-11-02T19:15:39.436493Z",
     "shell.execute_reply": "2023-11-02T19:15:39.436493Z"
    }
   },
   "outputs": [
    {
     "ename": "NameError",
     "evalue": "name 'tank_opt' is not defined",
     "output_type": "error",
     "traceback": [
      "\u001b[1;31m---------------------------------------------------------------------------\u001b[0m",
      "\u001b[1;31mNameError\u001b[0m                                 Traceback (most recent call last)",
      "Cell \u001b[1;32mIn[23], line 1\u001b[0m\n\u001b[1;32m----> 1\u001b[0m result_alt_nocr, llargs_alt_nocr, fhist_alt_nocr, thist_alt_nocr, xdhist_alt_nocr \u001b[38;5;241m=\u001b[39m \u001b[43mtank_opt\u001b[49m\u001b[38;5;241m.\u001b[39malternating_opt(option\u001b[38;5;241m=\u001b[39m\u001b[38;5;124m\"\u001b[39m\u001b[38;5;124mwithout_cr\u001b[39m\u001b[38;5;124m\"\u001b[39m,pool\u001b[38;5;241m=\u001b[39mpool, max_alts\u001b[38;5;241m=\u001b[39m\u001b[38;5;241m1\u001b[39m)\n",
      "\u001b[1;31mNameError\u001b[0m: name 'tank_opt' is not defined"
     ]
    }
   ],
   "source": [
    "result_alt_nocr, llargs_alt_nocr, fhist_alt_nocr, thist_alt_nocr, xdhist_alt_nocr = tank_opt.alternating_opt(option=\"without_cr\",pool=pool, max_alts=1)"
   ]
  },
  {
   "cell_type": "code",
   "execution_count": 24,
   "metadata": {
    "execution": {
     "iopub.execute_input": "2023-11-02T19:15:39.436493Z",
     "iopub.status.busy": "2023-11-02T19:15:39.436493Z",
     "iopub.status.idle": "2023-11-02T19:15:39.452116Z",
     "shell.execute_reply": "2023-11-02T19:15:39.452116Z"
    }
   },
   "outputs": [
    {
     "ename": "NameError",
     "evalue": "name 'tank_opt' is not defined",
     "output_type": "error",
     "traceback": [
      "\u001b[1;31m---------------------------------------------------------------------------\u001b[0m",
      "\u001b[1;31mNameError\u001b[0m                                 Traceback (most recent call last)",
      "Cell \u001b[1;32mIn[24], line 1\u001b[0m\n\u001b[1;32m----> 1\u001b[0m result_bi, llargs_bi, bestf_bi, bestxdes_bi \u001b[38;5;241m=\u001b[39m \u001b[43mtank_opt\u001b[49m\u001b[38;5;241m.\u001b[39mbilevel_opt(pool\u001b[38;5;241m=\u001b[39mpool, maxiter\u001b[38;5;241m=\u001b[39m\u001b[38;5;241m2\u001b[39m)\n",
      "\u001b[1;31mNameError\u001b[0m: name 'tank_opt' is not defined"
     ]
    }
   ],
   "source": [
    "result_bi, llargs_bi, bestf_bi, bestxdes_bi = tank_opt.bilevel_opt(pool=pool, maxiter=2)"
   ]
  },
  {
   "cell_type": "code",
   "execution_count": 25,
   "metadata": {
    "execution": {
     "iopub.execute_input": "2023-11-02T19:15:39.452116Z",
     "iopub.status.busy": "2023-11-02T19:15:39.452116Z",
     "iopub.status.idle": "2023-11-02T19:15:39.483355Z",
     "shell.execute_reply": "2023-11-02T19:15:39.483355Z"
    }
   },
   "outputs": [
    {
     "ename": "NameError",
     "evalue": "name 'fhist_alt' is not defined",
     "output_type": "error",
     "traceback": [
      "\u001b[1;31m---------------------------------------------------------------------------\u001b[0m",
      "\u001b[1;31mNameError\u001b[0m                                 Traceback (most recent call last)",
      "Cell \u001b[1;32mIn[25], line 2\u001b[0m\n\u001b[0;32m      1\u001b[0m fig \u001b[38;5;241m=\u001b[39m plt\u001b[38;5;241m.\u001b[39mfigure()\n\u001b[1;32m----> 2\u001b[0m fhist_alt_plot \u001b[38;5;241m=\u001b[39m [\u001b[38;5;28mmin\u001b[39m(fhist_alt[:f\u001b[38;5;241m+\u001b[39m\u001b[38;5;241m1\u001b[39m]) \u001b[38;5;28;01mfor\u001b[39;00m f,_ \u001b[38;5;129;01min\u001b[39;00m \u001b[38;5;28menumerate\u001b[39m(\u001b[43mfhist_alt\u001b[49m)]\n\u001b[0;32m      3\u001b[0m plt\u001b[38;5;241m.\u001b[39mplot(thist_alt, fhist_alt_plot, label\u001b[38;5;241m=\u001b[39m\u001b[38;5;124m\"\u001b[39m\u001b[38;5;124mAlternating (with $C_R$)\u001b[39m\u001b[38;5;124m\"\u001b[39m)\n\u001b[0;32m      5\u001b[0m fhist_alt_nocr_plot \u001b[38;5;241m=\u001b[39m [\u001b[38;5;28mmin\u001b[39m(fhist_alt_nocr[:f\u001b[38;5;241m+\u001b[39m\u001b[38;5;241m1\u001b[39m]) \u001b[38;5;28;01mfor\u001b[39;00m f,_ \u001b[38;5;129;01min\u001b[39;00m \u001b[38;5;28menumerate\u001b[39m(fhist_alt_nocr)]\n",
      "\u001b[1;31mNameError\u001b[0m: name 'fhist_alt' is not defined"
     ]
    },
    {
     "data": {
      "text/plain": [
       "<Figure size 640x480 with 0 Axes>"
      ]
     },
     "metadata": {},
     "output_type": "display_data"
    }
   ],
   "source": [
    "fig = plt.figure()\n",
    "fhist_alt_plot = [min(fhist_alt[:f+1]) for f,_ in enumerate(fhist_alt)]\n",
    "plt.plot(thist_alt, fhist_alt_plot, label=\"Alternating (with $C_R$)\")\n",
    "\n",
    "fhist_alt_nocr_plot = [min(fhist_alt_nocr[:f+1]) for f,_ in enumerate(fhist_alt_nocr)]\n",
    "plt.plot(thist_alt_nocr, fhist_alt_nocr_plot, label=\"Alternating  (no $C_R$)\")\n",
    "\n",
    "thist_bilevel_plot = [0]+llargs_bi['thist']\n",
    "fhist_bilevel_plot = [fhist_alt[0]]+llargs_bi['fhist']\n",
    "fhist_bilevel_plot = [min(fhist_bilevel_plot[:f+1]) for f,_ in enumerate(fhist_bilevel_plot)]\n",
    "plt.plot(thist_bilevel_plot, fhist_bilevel_plot, label=\"Bilevel\")\n",
    "#plt.plot(t, [fhist_alt[0]]+llargs_bi['fhist'], label=\"Bilevel\")\n",
    "plt.title(\"Optimization of Tank Problem\")\n",
    "plt.grid()\n",
    "plt.ylabel(\"$C_D+C_R$\")\n",
    "#plt.yscale(\"log\")\n",
    "plt.xlabel(\"Computational Time (s)\")\n",
    "plt.legend()"
   ]
  },
  {
   "cell_type": "code",
   "execution_count": 26,
   "metadata": {
    "execution": {
     "iopub.execute_input": "2023-11-02T19:15:39.483355Z",
     "iopub.status.busy": "2023-11-02T19:15:39.483355Z",
     "iopub.status.idle": "2023-11-02T19:15:39.568142Z",
     "shell.execute_reply": "2023-11-02T19:15:39.568142Z"
    }
   },
   "outputs": [],
   "source": [
    "fig.savefig('tank_optimization.pdf', format=\"pdf\", bbox_inches = 'tight', pad_inches = 0.0)"
   ]
  },
  {
   "cell_type": "code",
   "execution_count": 27,
   "metadata": {
    "execution": {
     "iopub.execute_input": "2023-11-02T19:15:39.568142Z",
     "iopub.status.busy": "2023-11-02T19:15:39.568142Z",
     "iopub.status.idle": "2023-11-02T19:15:39.599388Z",
     "shell.execute_reply": "2023-11-02T19:15:39.599388Z"
    }
   },
   "outputs": [
    {
     "ename": "NameError",
     "evalue": "name 'result_bi' is not defined",
     "output_type": "error",
     "traceback": [
      "\u001b[1;31m---------------------------------------------------------------------------\u001b[0m",
      "\u001b[1;31mNameError\u001b[0m                                 Traceback (most recent call last)",
      "Cell \u001b[1;32mIn[27], line 2\u001b[0m\n\u001b[0;32m      1\u001b[0m tab \u001b[38;5;241m=\u001b[39m pd\u001b[38;5;241m.\u001b[39mDataFrame(columns \u001b[38;5;241m=\u001b[39m [\u001b[38;5;124m\"\u001b[39m\u001b[38;5;124m$x_t$\u001b[39m\u001b[38;5;124m\"\u001b[39m, \u001b[38;5;124m\"\u001b[39m\u001b[38;5;124m$x_l$\u001b[39m\u001b[38;5;124m\"\u001b[39m, \u001b[38;5;124m\"\u001b[39m\u001b[38;5;124m$f^*$\u001b[39m\u001b[38;5;124m\"\u001b[39m, \u001b[38;5;124m\"\u001b[39m\u001b[38;5;124mtime\u001b[39m\u001b[38;5;124m\"\u001b[39m])\n\u001b[1;32m----> 2\u001b[0m tab\u001b[38;5;241m.\u001b[39mloc[\u001b[38;5;124m'\u001b[39m\u001b[38;5;124mBilevel\u001b[39m\u001b[38;5;124m'\u001b[39m] \u001b[38;5;241m=\u001b[39m \u001b[38;5;28mlist\u001b[39m(\u001b[43mresult_bi\u001b[49m[\u001b[38;5;124m'\u001b[39m\u001b[38;5;124mx\u001b[39m\u001b[38;5;124m'\u001b[39m]) \u001b[38;5;241m+\u001b[39m  [result_bi[\u001b[38;5;124m'\u001b[39m\u001b[38;5;124mfun\u001b[39m\u001b[38;5;124m'\u001b[39m], llargs_bi[\u001b[38;5;124m'\u001b[39m\u001b[38;5;124mthist\u001b[39m\u001b[38;5;124m'\u001b[39m][\u001b[38;5;241m-\u001b[39m\u001b[38;5;241m1\u001b[39m]]\n\u001b[0;32m      3\u001b[0m tab\u001b[38;5;241m.\u001b[39mloc[\u001b[38;5;124m'\u001b[39m\u001b[38;5;124mAlt. (no $C_R$)\u001b[39m\u001b[38;5;124m'\u001b[39m] \u001b[38;5;241m=\u001b[39m \u001b[38;5;28mlist\u001b[39m(result_alt_nocr[\u001b[38;5;124m'\u001b[39m\u001b[38;5;124mx\u001b[39m\u001b[38;5;124m'\u001b[39m]) \u001b[38;5;241m+\u001b[39m [llargs_alt_nocr[\u001b[38;5;124m'\u001b[39m\u001b[38;5;124mll_opt\u001b[39m\u001b[38;5;124m'\u001b[39m], thist_alt_nocr[\u001b[38;5;241m-\u001b[39m\u001b[38;5;241m1\u001b[39m]]\n\u001b[0;32m      4\u001b[0m tab\u001b[38;5;241m.\u001b[39mloc[\u001b[38;5;124m'\u001b[39m\u001b[38;5;124mAlt. (with $C_R$)\u001b[39m\u001b[38;5;124m'\u001b[39m] \u001b[38;5;241m=\u001b[39m \u001b[38;5;28mlist\u001b[39m(result_alt[\u001b[38;5;124m'\u001b[39m\u001b[38;5;124mx\u001b[39m\u001b[38;5;124m'\u001b[39m]) \u001b[38;5;241m+\u001b[39m [result_alt[\u001b[38;5;124m'\u001b[39m\u001b[38;5;124mfun\u001b[39m\u001b[38;5;124m'\u001b[39m], thist_alt[\u001b[38;5;241m-\u001b[39m\u001b[38;5;241m1\u001b[39m]]\n",
      "\u001b[1;31mNameError\u001b[0m: name 'result_bi' is not defined"
     ]
    }
   ],
   "source": [
    "tab = pd.DataFrame(columns = [\"$x_t$\", \"$x_l$\", \"$f^*$\", \"time\"])\n",
    "tab.loc['Bilevel'] = list(result_bi['x']) +  [result_bi['fun'], llargs_bi['thist'][-1]]\n",
    "tab.loc['Alt. (no $C_R$)'] = list(result_alt_nocr['x']) + [llargs_alt_nocr['ll_opt'], thist_alt_nocr[-1]]\n",
    "tab.loc['Alt. (with $C_R$)'] = list(result_alt['x']) + [result_alt['fun'], thist_alt[-1]]\n",
    "tab.loc['Seq. (with $C_R$)'] = list(xdhist_alt[1]) + [fhist_alt[1], thist_alt[1]]\n",
    "tab.loc['Seq. (no $C_R$)'] = list(xdhist_alt_nocr[1]) + [fhist_alt_nocr[1], thist_alt_nocr[1]]"
   ]
  },
  {
   "cell_type": "code",
   "execution_count": 28,
   "metadata": {
    "execution": {
     "iopub.execute_input": "2023-11-02T19:15:39.599388Z",
     "iopub.status.busy": "2023-11-02T19:15:39.599388Z",
     "iopub.status.idle": "2023-11-02T19:15:39.621616Z",
     "shell.execute_reply": "2023-11-02T19:15:39.621616Z"
    }
   },
   "outputs": [
    {
     "data": {
      "text/html": [
       "<div>\n",
       "<style scoped>\n",
       "    .dataframe tbody tr th:only-of-type {\n",
       "        vertical-align: middle;\n",
       "    }\n",
       "\n",
       "    .dataframe tbody tr th {\n",
       "        vertical-align: top;\n",
       "    }\n",
       "\n",
       "    .dataframe thead th {\n",
       "        text-align: right;\n",
       "    }\n",
       "</style>\n",
       "<table border=\"1\" class=\"dataframe\">\n",
       "  <thead>\n",
       "    <tr style=\"text-align: right;\">\n",
       "      <th></th>\n",
       "      <th>$x_t$</th>\n",
       "      <th>$x_l$</th>\n",
       "      <th>$f^*$</th>\n",
       "      <th>time</th>\n",
       "    </tr>\n",
       "  </thead>\n",
       "  <tbody>\n",
       "  </tbody>\n",
       "</table>\n",
       "</div>"
      ],
      "text/plain": [
       "Empty DataFrame\n",
       "Columns: [$x_t$, $x_l$, $f^*$, time]\n",
       "Index: []"
      ]
     },
     "execution_count": 28,
     "metadata": {},
     "output_type": "execute_result"
    }
   ],
   "source": [
    "tab"
   ]
  },
  {
   "cell_type": "markdown",
   "metadata": {},
   "source": [
    "Note that these are the previously-recorded results:\n",
    "\n",
    "|               |    𝑥_t      |   𝑥_l   |       𝑓     |    time     |\n",
    "|--------------------|----------:|---------:|--------------:|------------|\n",
    "|            Bilevel | 18.000015 | 0.580982 | 285708.991759 | 619.369699 |\n",
    "|   Alt. (no  𝐶 𝑅CR) | 10.000000 | 0.000000 | 893333.333333 | 168.275383 |\n",
    "| Alt. (with  𝐶 𝑅CR) | 20.000000 | 0.000000 | 452666.666823 | 306.776320 |\n",
    "| Seq. (with  𝐶 𝑅CR) | 22.000000 | 0.000000 | 466333.333389 |  61.702104 |\n",
    "|   Seq. (no  𝐶 𝑅CR) | 10.000000 | 0.000000 | 893333.333333 |  55.957946 |"
   ]
  },
  {
   "cell_type": "markdown",
   "metadata": {},
   "source": [
    "As shown, the results are consistent (not exactly, since the lower-level EA is a stochastic search), and this problem gives better results from a bilevel search as expected. However, the optimization is somewhat slower, so it may (still) be helpful to implement interfaces manually to avoid some model instantiation overhead."
   ]
  },
  {
   "cell_type": "code",
   "execution_count": null,
   "metadata": {},
   "outputs": [],
   "source": []
  }
 ],
 "metadata": {
  "execution": {
   "allow_errors": true,
   "timeout": 20
  },
  "kernelspec": {
   "display_name": "Python 3 (ipykernel)",
   "language": "python",
   "name": "python3"
  },
  "language_info": {
   "codemirror_mode": {
    "name": "ipython",
    "version": 3
   },
   "file_extension": ".py",
   "mimetype": "text/x-python",
   "name": "python",
   "nbconvert_exporter": "python",
   "pygments_lexer": "ipython3",
   "version": "3.10.9"
  },
  "vscode": {
   "interpreter": {
    "hash": "e91384d516de244e8027664e7296e7623a911fd9d79a3021d1ef03e3e53e2456"
   }
  }
 },
 "nbformat": 4,
 "nbformat_minor": 2
}
