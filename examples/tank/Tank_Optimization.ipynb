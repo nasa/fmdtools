{
 "cells": [
  {
   "cell_type": "markdown",
   "metadata": {},
   "source": [
    "# Cooling Tank Model Optimization\n",
    "\n",
    "This notebook demonstrates the optimization of the tank model described in `tank_optimization_model.py` using the `ProblemInterface` class in the `fmdtools.search` module. \n",
    "\n",
    "Note that this problem/notebook was loosely adapted from the identical problem here: https://github.com/DesignEngrLab/resil_opt_examples/tree/main/Cooling%20Tank%20Problem, which shows more comparisions of these architectures running on an earlier version of fmdtools. "
   ]
  },
  {
   "cell_type": "code",
   "execution_count": 1,
   "metadata": {
    "execution": {
     "iopub.execute_input": "2024-01-08T23:04:09.860590Z",
     "iopub.status.busy": "2024-01-08T23:04:09.859594Z",
     "iopub.status.idle": "2024-01-08T23:04:11.153413Z",
     "shell.execute_reply": "2024-01-08T23:04:11.153413Z"
    }
   },
   "outputs": [],
   "source": [
    "from tank_optimization_model import Tank\n",
    "from fmdtools.analyze.graph import FunctionArchitectureGraph\n",
    "from fmdtools.sim import propagate as prop\n"
   ]
  },
  {
   "cell_type": "markdown",
   "metadata": {},
   "source": [
    "# Simulation\n",
    "\n",
    "### Verifying the nominal state:\n",
    "\n",
    "In the nominal state, no change in system state should occurs. Flows will be constant and no signal is on."
   ]
  },
  {
   "cell_type": "code",
   "execution_count": 2,
   "metadata": {
    "execution": {
     "iopub.execute_input": "2024-01-08T23:04:11.156930Z",
     "iopub.status.busy": "2024-01-08T23:04:11.156390Z",
     "iopub.status.idle": "2024-01-08T23:04:11.920556Z",
     "shell.execute_reply": "2024-01-08T23:04:11.920518Z"
    }
   },
   "outputs": [
    {
     "ename": "NameError",
     "evalue": "name 'ModelGraph' is not defined",
     "output_type": "error",
     "traceback": [
      "\u001b[1;31m---------------------------------------------------------------------------\u001b[0m",
      "\u001b[1;31mNameError\u001b[0m                                 Traceback (most recent call last)",
      "Cell \u001b[1;32mIn[2], line 2\u001b[0m\n\u001b[0;32m      1\u001b[0m mdl \u001b[38;5;241m=\u001b[39m Tank()\n\u001b[1;32m----> 2\u001b[0m result, mdlhist \u001b[38;5;241m=\u001b[39m prop\u001b[38;5;241m.\u001b[39mnominal(mdl, track\u001b[38;5;241m=\u001b[39m\u001b[38;5;124m'\u001b[39m\u001b[38;5;124mall\u001b[39m\u001b[38;5;124m'\u001b[39m, desired_result\u001b[38;5;241m=\u001b[39m{\u001b[38;5;124m'\u001b[39m\u001b[38;5;124mgraph\u001b[39m\u001b[38;5;124m'\u001b[39m: \u001b[43mModelGraph\u001b[49m})\n",
      "\u001b[1;31mNameError\u001b[0m: name 'ModelGraph' is not defined"
     ]
    }
   ],
   "source": [
    "mdl = Tank()\n",
    "result, mdlhist = prop.nominal(mdl, track='all', desired_result={'graph': ModelGraph})"
   ]
  },
  {
   "cell_type": "code",
   "execution_count": 3,
   "metadata": {
    "execution": {
     "iopub.execute_input": "2024-01-08T23:04:11.923628Z",
     "iopub.status.busy": "2024-01-08T23:04:11.922631Z",
     "iopub.status.idle": "2024-01-08T23:04:11.956122Z",
     "shell.execute_reply": "2024-01-08T23:04:11.956122Z"
    }
   },
   "outputs": [
    {
     "ename": "NameError",
     "evalue": "name 'result' is not defined",
     "output_type": "error",
     "traceback": [
      "\u001b[1;31m---------------------------------------------------------------------------\u001b[0m",
      "\u001b[1;31mNameError\u001b[0m                                 Traceback (most recent call last)",
      "Cell \u001b[1;32mIn[3], line 1\u001b[0m\n\u001b[1;32m----> 1\u001b[0m fig \u001b[38;5;241m=\u001b[39m \u001b[43mresult\u001b[49m\u001b[38;5;241m.\u001b[39mgraph\u001b[38;5;241m.\u001b[39mdraw(figsize\u001b[38;5;241m=\u001b[39m(\u001b[38;5;241m8\u001b[39m,\u001b[38;5;241m6\u001b[39m))\n",
      "\u001b[1;31mNameError\u001b[0m: name 'result' is not defined"
     ]
    }
   ],
   "source": [
    "fig = result.graph.draw(figsize=(8,6))"
   ]
  },
  {
   "cell_type": "code",
   "execution_count": 4,
   "metadata": {
    "execution": {
     "iopub.execute_input": "2024-01-08T23:04:11.958171Z",
     "iopub.status.busy": "2024-01-08T23:04:11.958171Z",
     "iopub.status.idle": "2024-01-08T23:04:11.976813Z",
     "shell.execute_reply": "2024-01-08T23:04:11.976300Z"
    }
   },
   "outputs": [
    {
     "ename": "NameError",
     "evalue": "name 'mdlhist' is not defined",
     "output_type": "error",
     "traceback": [
      "\u001b[1;31m---------------------------------------------------------------------------\u001b[0m",
      "\u001b[1;31mNameError\u001b[0m                                 Traceback (most recent call last)",
      "Cell \u001b[1;32mIn[4], line 1\u001b[0m\n\u001b[1;32m----> 1\u001b[0m \u001b[43mmdlhist\u001b[49m\n",
      "\u001b[1;31mNameError\u001b[0m: name 'mdlhist' is not defined"
     ]
    }
   ],
   "source": [
    "mdlhist"
   ]
  },
  {
   "cell_type": "code",
   "execution_count": 5,
   "metadata": {
    "execution": {
     "iopub.execute_input": "2024-01-08T23:04:11.977725Z",
     "iopub.status.busy": "2024-01-08T23:04:11.977725Z",
     "iopub.status.idle": "2024-01-08T23:04:11.996205Z",
     "shell.execute_reply": "2024-01-08T23:04:11.996205Z"
    }
   },
   "outputs": [
    {
     "ename": "NameError",
     "evalue": "name 'mdlhist' is not defined",
     "output_type": "error",
     "traceback": [
      "\u001b[1;31m---------------------------------------------------------------------------\u001b[0m",
      "\u001b[1;31mNameError\u001b[0m                                 Traceback (most recent call last)",
      "Cell \u001b[1;32mIn[5], line 1\u001b[0m\n\u001b[1;32m----> 1\u001b[0m fig, ax \u001b[38;5;241m=\u001b[39m \u001b[43mmdlhist\u001b[49m\u001b[38;5;241m.\u001b[39mplot_line(\u001b[38;5;124m'\u001b[39m\u001b[38;5;124mflows.coolant_in.s.rate\u001b[39m\u001b[38;5;124m'\u001b[39m, \u001b[38;5;124m'\u001b[39m\u001b[38;5;124mflows.coolant_out.s.rate\u001b[39m\u001b[38;5;124m'\u001b[39m, \u001b[38;5;124m'\u001b[39m\u001b[38;5;124mfxns.store_coolant.s.level\u001b[39m\u001b[38;5;124m'\u001b[39m, \u001b[38;5;124m'\u001b[39m\u001b[38;5;124mflows.tank_sig.s.indicator\u001b[39m\u001b[38;5;124m'\u001b[39m)\n",
      "\u001b[1;31mNameError\u001b[0m: name 'mdlhist' is not defined"
     ]
    }
   ],
   "source": [
    "fig, ax = mdlhist.plot_line('flows.coolant_in.s.rate', 'flows.coolant_out.s.rate', 'fxns.store_coolant.s.level', 'flows.tank_sig.s.indicator')"
   ]
  },
  {
   "cell_type": "markdown",
   "metadata": {},
   "source": [
    "### What happens under component faults?\n",
    "\n",
    "\n",
    "Here we model a leak of the tank. As shown, the coolant leaks until there is no more coolant left in the tank. While this results in a warning signal, the default contingency management policy is to take no actions to alleviate the condition."
   ]
  },
  {
   "cell_type": "code",
   "execution_count": 6,
   "metadata": {
    "execution": {
     "iopub.execute_input": "2024-01-08T23:04:11.998317Z",
     "iopub.status.busy": "2024-01-08T23:04:11.998317Z",
     "iopub.status.idle": "2024-01-08T23:04:12.503683Z",
     "shell.execute_reply": "2024-01-08T23:04:12.503683Z"
    }
   },
   "outputs": [
    {
     "data": {
      "image/png": "[encoded data removed]",
      "text/plain": [
       "<Figure size 600x400 with 4 Axes>"
      ]
     },
     "metadata": {},
     "output_type": "display_data"
    }
   ],
   "source": [
    "resgraph, mdlhist = prop.one_fault(mdl,'store_coolant','leak', time=3, track='all',desired_result=['graph','endclass','endfaults'])\n",
    "\n",
    "fig, ax = mdlhist.plot_line('flows.coolant_in.s.rate', 'flows.coolant_out.s.rate', 'fxns.store_coolant.s.level', 'flows.tank_sig.s.indicator')"
   ]
  },
  {
   "cell_type": "code",
   "execution_count": 7,
   "metadata": {
    "execution": {
     "iopub.execute_input": "2024-01-08T23:04:12.506137Z",
     "iopub.status.busy": "2024-01-08T23:04:12.506137Z",
     "iopub.status.idle": "2024-01-08T23:04:12.537122Z",
     "shell.execute_reply": "2024-01-08T23:04:12.537122Z"
    },
    "scrolled": false
   },
   "outputs": [
    {
     "ename": "NameError",
     "evalue": "name 'ModelGraph' is not defined",
     "output_type": "error",
     "traceback": [
      "\u001b[1;31m---------------------------------------------------------------------------\u001b[0m",
      "\u001b[1;31mNameError\u001b[0m                                 Traceback (most recent call last)",
      "Cell \u001b[1;32mIn[7], line 1\u001b[0m\n\u001b[1;32m----> 1\u001b[0m mg \u001b[38;5;241m=\u001b[39m \u001b[43mModelGraph\u001b[49m(mdl)\n\u001b[0;32m      2\u001b[0m fig, ax \u001b[38;5;241m=\u001b[39m mg\u001b[38;5;241m.\u001b[39mdraw_from(\u001b[38;5;241m10\u001b[39m,mdlhist)\n",
      "\u001b[1;31mNameError\u001b[0m: name 'ModelGraph' is not defined"
     ]
    }
   ],
   "source": [
    "mg = ModelGraph(mdl)\n",
    "fig, ax = mg.draw_from(10,mdlhist)"
   ]
  },
  {
   "cell_type": "markdown",
   "metadata": {},
   "source": [
    "### Full set of modes\n",
    "\n",
    "The tank leak mode will not be the only mode considered, but also leak and blockage faults in the Input/Output blocks."
   ]
  },
  {
   "cell_type": "code",
   "execution_count": 8,
   "metadata": {
    "execution": {
     "iopub.execute_input": "2024-01-08T23:04:12.537968Z",
     "iopub.status.busy": "2024-01-08T23:04:12.537968Z",
     "iopub.status.idle": "2024-01-08T23:04:12.553773Z",
     "shell.execute_reply": "2024-01-08T23:04:12.553773Z"
    }
   },
   "outputs": [
    {
     "data": {
      "text/plain": [
       "FaultDomain with faults:\n",
       " -('import_coolant', 'stuck')\n",
       " -('import_coolant', 'blockage')\n",
       " -('store_coolant', 'leak')\n",
       " -('export_coolant', 'stuck')\n",
       " -('export_coolant', 'blockage')"
      ]
     },
     "execution_count": 8,
     "metadata": {},
     "output_type": "execute_result"
    }
   ],
   "source": [
    "from fmdtools.sim.sample import FaultDomain, FaultSample\n",
    "fd = FaultDomain(mdl)\n",
    "fd.add_all()\n",
    "fd"
   ]
  },
  {
   "cell_type": "code",
   "execution_count": 9,
   "metadata": {
    "execution": {
     "iopub.execute_input": "2024-01-08T23:04:12.556771Z",
     "iopub.status.busy": "2024-01-08T23:04:12.555767Z",
     "iopub.status.idle": "2024-01-08T23:04:12.571525Z",
     "shell.execute_reply": "2024-01-08T23:04:12.571008Z"
    }
   },
   "outputs": [
    {
     "data": {
      "text/plain": [
       "FaultSample of scenarios: \n",
       " - import_coolant_stuck_t0p0\n",
       " - import_coolant_blockage_t0p0\n",
       " - store_coolant_leak_t0p0\n",
       " - export_coolant_stuck_t0p0\n",
       " - export_coolant_blockage_t0p0"
      ]
     },
     "execution_count": 9,
     "metadata": {},
     "output_type": "execute_result"
    }
   ],
   "source": [
    "fs = FaultSample(fd)\n",
    "fs.add_fault_phases(\"na\")\n",
    "fs"
   ]
  },
  {
   "cell_type": "markdown",
   "metadata": {},
   "source": [
    "We can then verify the faulty results:"
   ]
  },
  {
   "cell_type": "code",
   "execution_count": 10,
   "metadata": {
    "execution": {
     "iopub.execute_input": "2024-01-08T23:04:12.571525Z",
     "iopub.status.busy": "2024-01-08T23:04:12.571525Z",
     "iopub.status.idle": "2024-01-08T23:04:12.653750Z",
     "shell.execute_reply": "2024-01-08T23:04:12.653750Z"
    }
   },
   "outputs": [
    {
     "name": "stderr",
     "output_type": "stream",
     "text": [
      "\r",
      "SCENARIOS COMPLETE:   0%|          | 0/5 [00:00<?, ?it/s]"
     ]
    },
    {
     "name": "stderr",
     "output_type": "stream",
     "text": [
      "\r",
      "SCENARIOS COMPLETE: 100%|██████████| 5/5 [00:00<00:00, 83.34it/s]"
     ]
    },
    {
     "name": "stderr",
     "output_type": "stream",
     "text": [
      "\n"
     ]
    }
   ],
   "source": [
    "endclasses, mdlhists = prop.fault_sample(mdl, fs)"
   ]
  },
  {
   "cell_type": "code",
   "execution_count": 11,
   "metadata": {
    "execution": {
     "iopub.execute_input": "2024-01-08T23:04:12.656860Z",
     "iopub.status.busy": "2024-01-08T23:04:12.656351Z",
     "iopub.status.idle": "2024-01-08T23:04:12.671208Z",
     "shell.execute_reply": "2024-01-08T23:04:12.670500Z"
    }
   },
   "outputs": [
    {
     "data": {
      "text/html": [
       "<div>\n",
       "<style scoped>\n",
       "    .dataframe tbody tr th:only-of-type {\n",
       "        vertical-align: middle;\n",
       "    }\n",
       "\n",
       "    .dataframe tbody tr th {\n",
       "        vertical-align: top;\n",
       "    }\n",
       "\n",
       "    .dataframe thead th {\n",
       "        text-align: right;\n",
       "    }\n",
       "</style>\n",
       "<table border=\"1\" class=\"dataframe\">\n",
       "  <thead>\n",
       "    <tr style=\"text-align: right;\">\n",
       "      <th></th>\n",
       "      <th>degraded</th>\n",
       "      <th>faulty</th>\n",
       "      <th>rate</th>\n",
       "      <th>cost</th>\n",
       "      <th>expected_cost</th>\n",
       "    </tr>\n",
       "  </thead>\n",
       "  <tbody>\n",
       "    <tr>\n",
       "      <th>store_coolant_leak_t0p0</th>\n",
       "      <td>[]</td>\n",
       "      <td>[]</td>\n",
       "      <td>0.00001</td>\n",
       "      <td>1000000.0</td>\n",
       "      <td>1000000.0</td>\n",
       "    </tr>\n",
       "    <tr>\n",
       "      <th>import_coolant_blockage_t0p0</th>\n",
       "      <td>[]</td>\n",
       "      <td>[]</td>\n",
       "      <td>0.0</td>\n",
       "      <td>2100000.0</td>\n",
       "      <td>35000.0</td>\n",
       "    </tr>\n",
       "    <tr>\n",
       "      <th>nominal</th>\n",
       "      <td>[]</td>\n",
       "      <td>[]</td>\n",
       "      <td>1.0</td>\n",
       "      <td>0.0</td>\n",
       "      <td>0.0</td>\n",
       "    </tr>\n",
       "    <tr>\n",
       "      <th>export_coolant_blockage_t0p0</th>\n",
       "      <td>[]</td>\n",
       "      <td>[]</td>\n",
       "      <td>0.0</td>\n",
       "      <td>100000.0</td>\n",
       "      <td>1666.666667</td>\n",
       "    </tr>\n",
       "    <tr>\n",
       "      <th>import_coolant_stuck_t0p0</th>\n",
       "      <td>[]</td>\n",
       "      <td>[]</td>\n",
       "      <td>0.0</td>\n",
       "      <td>0.0</td>\n",
       "      <td>0.0</td>\n",
       "    </tr>\n",
       "    <tr>\n",
       "      <th>export_coolant_stuck_t0p0</th>\n",
       "      <td>[]</td>\n",
       "      <td>[]</td>\n",
       "      <td>0.0</td>\n",
       "      <td>0.0</td>\n",
       "      <td>0.0</td>\n",
       "    </tr>\n",
       "  </tbody>\n",
       "</table>\n",
       "</div>"
      ],
      "text/plain": [
       "                             degraded faulty     rate       cost expected_cost\n",
       "store_coolant_leak_t0p0            []     []  0.00001  1000000.0     1000000.0\n",
       "import_coolant_blockage_t0p0       []     []      0.0  2100000.0       35000.0\n",
       "nominal                            []     []      1.0        0.0           0.0\n",
       "export_coolant_blockage_t0p0       []     []      0.0   100000.0   1666.666667\n",
       "import_coolant_stuck_t0p0          []     []      0.0        0.0           0.0\n",
       "export_coolant_stuck_t0p0          []     []      0.0        0.0           0.0"
      ]
     },
     "execution_count": 11,
     "metadata": {},
     "output_type": "execute_result"
    }
   ],
   "source": [
    "from fmdtools.analyze.tabulate import result_summary_fmea\n",
    "fmea_tab = result_summary_fmea(endclasses, mdlhists)\n",
    "fmea_tab"
   ]
  },
  {
   "cell_type": "markdown",
   "metadata": {},
   "source": [
    "### Defining Optimization Problem\n",
    "\n",
    "We can define a compbined optimization problem around this model using the `OptimizationArchitecture`, `ParameterSimProblem`, and `SimpleProblem` classes.\n",
    "\n",
    "In this case, we consider the joint minimization of design cost (defined in a function) and resilience cost (expected cost over the above list of scenarios). This is over two sets of variables\n",
    "\n",
    "- capacity and turnup (design variables that effect both design and resilience costs), and\n",
    "- the resilience policy (variables that only effect resilience cost)"
   ]
  },
  {
   "cell_type": "markdown",
   "metadata": {},
   "source": [
    "To model design cost (which does not involve simulation), we first define a `SimpleProblem` which calls a predefined function:"
   ]
  },
  {
   "cell_type": "code",
   "execution_count": 12,
   "metadata": {
    "execution": {
     "iopub.execute_input": "2024-01-08T23:04:12.671208Z",
     "iopub.status.busy": "2024-01-08T23:04:12.671208Z",
     "iopub.status.idle": "2024-01-08T23:04:12.686253Z",
     "shell.execute_reply": "2024-01-08T23:04:12.686253Z"
    }
   },
   "outputs": [],
   "source": [
    "def x_to_descost(*xdes):\n",
    "    pen = 0 #determining upper-level penalty\n",
    "    if xdes[0]<10:\n",
    "        pen+=1e5*(10-xdes[0])**2\n",
    "    if xdes[0]>100:\n",
    "        pen+=1e5*(100-xdes[0])**2\n",
    "    if xdes[1]<0:\n",
    "        pen+=1e5*(xdes[1])**2\n",
    "    if xdes[1]>1:\n",
    "        pen+=1e5*(1-xdes[1])**2\n",
    "    return (xdes[0]-10)*1000 + (xdes[0]-10)**2*1000   + xdes[1]**2*10000 + pen"
   ]
  },
  {
   "cell_type": "code",
   "execution_count": 13,
   "metadata": {
    "execution": {
     "iopub.execute_input": "2024-01-08T23:04:12.687766Z",
     "iopub.status.busy": "2024-01-08T23:04:12.687766Z",
     "iopub.status.idle": "2024-01-08T23:04:12.696874Z",
     "shell.execute_reply": "2024-01-08T23:04:12.696363Z"
    }
   },
   "outputs": [],
   "source": [
    "from fmdtools.sim.search import SimpleProblem\n",
    "sp = SimpleProblem(\"capacity\", \"turnup\")\n",
    "sp.add_objective(\"cd\", x_to_descost)"
   ]
  },
  {
   "cell_type": "code",
   "execution_count": 14,
   "metadata": {
    "execution": {
     "iopub.execute_input": "2024-01-08T23:04:12.697690Z",
     "iopub.status.busy": "2024-01-08T23:04:12.697690Z",
     "iopub.status.idle": "2024-01-08T23:04:12.704118Z",
     "shell.execute_reply": "2024-01-08T23:04:12.704118Z"
    }
   },
   "outputs": [
    {
     "data": {
      "text/plain": [
       "8182000.0"
      ]
     },
     "execution_count": 14,
     "metadata": {},
     "output_type": "execute_result"
    }
   ],
   "source": [
    "sp.cd(1, 1)"
   ]
  },
  {
   "cell_type": "code",
   "execution_count": 15,
   "metadata": {
    "execution": {
     "iopub.execute_input": "2024-01-08T23:04:12.706696Z",
     "iopub.status.busy": "2024-01-08T23:04:12.706696Z",
     "iopub.status.idle": "2024-01-08T23:04:12.720350Z",
     "shell.execute_reply": "2024-01-08T23:04:12.720350Z"
    }
   },
   "outputs": [
    {
     "data": {
      "text/plain": [
       "SimpleProblem with:\n",
       "VARIABLES\n",
       " -capacity                                                   1.0000\n",
       " -turnup                                                     1.0000\n",
       "OBJECTIVES\n",
       " -cd                                                   8182000.0000"
      ]
     },
     "execution_count": 15,
     "metadata": {},
     "output_type": "execute_result"
    }
   ],
   "source": [
    "sp"
   ]
  },
  {
   "cell_type": "markdown",
   "metadata": {},
   "source": [
    "To optimize resilience costs, we can additionally use `ParameterSimProblem`:"
   ]
  },
  {
   "cell_type": "code",
   "execution_count": 16,
   "metadata": {
    "execution": {
     "iopub.execute_input": "2024-01-08T23:04:12.721538Z",
     "iopub.status.busy": "2024-01-08T23:04:12.721538Z",
     "iopub.status.idle": "2024-01-08T23:04:12.737679Z",
     "shell.execute_reply": "2024-01-08T23:04:12.737057Z"
    }
   },
   "outputs": [],
   "source": [
    "from fmdtools.sim.search import ParameterSimProblem\n",
    "from fmdtools.sim.sample import ParameterDomain"
   ]
  },
  {
   "cell_type": "markdown",
   "metadata": {},
   "source": [
    "The `ParameterDomain` is defined by \"capacity\" and \"turnup\" variables, as well as the resilience policy:"
   ]
  },
  {
   "cell_type": "code",
   "execution_count": 17,
   "metadata": {
    "execution": {
     "iopub.execute_input": "2024-01-08T23:04:12.737826Z",
     "iopub.status.busy": "2024-01-08T23:04:12.737826Z",
     "iopub.status.idle": "2024-01-08T23:04:12.753781Z",
     "shell.execute_reply": "2024-01-08T23:04:12.753781Z"
    }
   },
   "outputs": [],
   "source": [
    "from tank_optimization_model import TankParam\n",
    "pd = ParameterDomain(TankParam)\n",
    "pd.add_variables(\"capacity\", \"turnup\")"
   ]
  },
  {
   "cell_type": "markdown",
   "metadata": {},
   "source": [
    "The resilience policy is translated using `x_to_fp`"
   ]
  },
  {
   "cell_type": "code",
   "execution_count": 18,
   "metadata": {
    "execution": {
     "iopub.execute_input": "2024-01-08T23:04:12.756873Z",
     "iopub.status.busy": "2024-01-08T23:04:12.756873Z",
     "iopub.status.idle": "2024-01-08T23:04:12.770312Z",
     "shell.execute_reply": "2024-01-08T23:04:12.770312Z"
    }
   },
   "outputs": [],
   "source": [
    "from tank_optimization_model import x_to_fp\n",
    "fp_varnames = ['faultpolicy.'+str(i) for i, v in enumerate(TankParam.__defaults__['faultpolicy'])]\n",
    "pd.add_variables(*fp_varnames, var_map=x_to_fp)"
   ]
  },
  {
   "cell_type": "code",
   "execution_count": 19,
   "metadata": {
    "execution": {
     "iopub.execute_input": "2024-01-08T23:04:12.771310Z",
     "iopub.status.busy": "2024-01-08T23:04:12.771310Z",
     "iopub.status.idle": "2024-01-08T23:04:12.786900Z",
     "shell.execute_reply": "2024-01-08T23:04:12.786418Z"
    }
   },
   "outputs": [],
   "source": [
    "fp_vars = [1 for i, v in enumerate(TankParam.__defaults__['faultpolicy'])]"
   ]
  },
  {
   "cell_type": "code",
   "execution_count": 20,
   "metadata": {
    "execution": {
     "iopub.execute_input": "2024-01-08T23:04:12.787757Z",
     "iopub.status.busy": "2024-01-08T23:04:12.787757Z",
     "iopub.status.idle": "2024-01-08T23:04:12.803767Z",
     "shell.execute_reply": "2024-01-08T23:04:12.803767Z"
    }
   },
   "outputs": [
    {
     "data": {
      "text/plain": [
       "TankParam(capacity=1.0, turnup=1.0, faultpolicy=((0, 1, 1, 'u', 1), (0, 0, 0, 'u', 1), (0, -1, 1, 'u', 1), (1, 0, 1, 'l', 1), (1, 0, -1, 'l', 1), (0, 0, 1, 'l', 1), (-1, -1, 0, 'l', 1), (-1, -1, -1, 'u', 1), (-1, -1, 0, 'u', 1), (-1, -1, -1, 'l', 1), (1, -1, 1, 'u', 1), (-1, 1, -1, 'l', 1), (-1, 1, 0, 'l', 1), (1, -1, 0, 'l', 1), (0, 1, -1, 'l', 1), (-1, 0, 0, 'u', 1), (-1, 0, -1, 'l', 1), (-1, 0, 0, 'l', 1), (-1, 0, 1, 'l', 1), (0, -1, -1, 'l', 1), (1, 0, 0, 'l', 1), (1, 1, -1, 'l', 1), (-1, -1, 1, 'u', 1), (1, -1, -1, 'l', 1), (-1, -1, 1, 'l', 1), (1, -1, 0, 'u', 1), (-1, 1, 0, 'u', 1), (-1, 1, 1, 'u', 1), (1, 0, 1, 'u', 1), (0, -1, 1, 'l', 1), (1, 1, 0, 'u', 1), (-1, 0, 1, 'u', 1), (0, 1, 0, 'l', 1), (-1, 1, -1, 'u', 1), (0, 1, -1, 'u', 1), (0, -1, 0, 'l', 1), (1, 1, -1, 'u', 1), (-1, 0, -1, 'u', 1), (-1, 1, 1, 'l', 1), (1, 0, 0, 'u', 1), (0, -1, -1, 'u', 1), (0, 0, 1, 'u', 1), (1, -1, -1, 'u', 1), (0, 1, 1, 'l', 1), (0, 0, -1, 'l', 1), (1, 0, -1, 'u', 1), (1, 1, 1, 'u', 1), (1, 1, 0, 'l', 1), (1, 1, 1, 'l', 1), (0, 0, -1, 'u', 1), (0, -1, 0, 'u', 1), (1, -1, 1, 'l', 1), (0, 1, 0, 'u', 1), (0, 0, 0, 'l', 1)), policymap={(-1, -1, -1): (1, 1), (-1, -1, 0): (1, 1), (-1, -1, 1): (1, 1), (-1, 0, -1): (1, 1), (-1, 0, 0): (1, 1), (-1, 0, 1): (1, 1), (-1, 1, -1): (1, 1), (-1, 1, 0): (1, 1), (-1, 1, 1): (1, 1), (0, -1, -1): (1, 1), (0, -1, 0): (1, 1), (0, -1, 1): (1, 1), (0, 0, -1): (1, 1), (0, 0, 0): (1, 1), (0, 0, 1): (1, 1), (0, 1, -1): (1, 1), (0, 1, 0): (1, 1), (0, 1, 1): (1, 1), (1, -1, -1): (1, 1), (1, -1, 0): (1, 1), (1, -1, 1): (1, 1), (1, 0, -1): (1, 1), (1, 0, 0): (1, 1), (1, 0, 1): (1, 1), (1, 1, -1): (1, 1), (1, 1, 0): (1, 1), (1, 1, 1): (1, 1)})"
      ]
     },
     "execution_count": 20,
     "metadata": {},
     "output_type": "execute_result"
    }
   ],
   "source": [
    "pd(1, 1, *fp_vars)"
   ]
  },
  {
   "cell_type": "code",
   "execution_count": 21,
   "metadata": {
    "execution": {
     "iopub.execute_input": "2024-01-08T23:04:12.807869Z",
     "iopub.status.busy": "2024-01-08T23:04:12.807869Z",
     "iopub.status.idle": "2024-01-08T23:04:12.820273Z",
     "shell.execute_reply": "2024-01-08T23:04:12.820273Z"
    }
   },
   "outputs": [
    {
     "data": {
      "text/plain": [
       "ParameterDomain with:\n",
       " - variables: {'capacity': (), 'turnup': (), 'faultpolicy.0': (), 'faultpolicy.1': (), 'faultpolicy.2': (), 'faultpolicy.3': (), 'faultpolicy.4': (), 'faultpolicy.5': (), 'faultpolicy.6': (), 'faultpolicy.7': (), 'faultpolicy.8': (), 'faultpolicy.9': (), 'faultpolicy.10': (), 'faultpolicy.11': (), 'faultpolicy.12': (), 'faultpolicy.13': (), 'faultpolicy.14': (), 'faultpolicy.15': (), 'faultpolicy.16': (), 'faultpolicy.17': (), 'faultpolicy.18': (), 'faultpolicy.19': (), 'faultpolicy.20': (), 'faultpolicy.21': (), 'faultpolicy.22': (), 'faultpolicy.23': (), 'faultpolicy.24': (), 'faultpolicy.25': (), 'faultpolicy.26': (), 'faultpolicy.27': (), 'faultpolicy.28': (), 'faultpolicy.29': (), 'faultpolicy.30': (), 'faultpolicy.31': (), 'faultpolicy.32': (), 'faultpolicy.33': (), 'faultpolicy.34': (), 'faultpolicy.35': (), 'faultpolicy.36': (), 'faultpolicy.37': (), 'faultpolicy.38': (), 'faultpolicy.39': (), 'faultpolicy.40': (), 'faultpolicy.41': (), 'faultpolicy.42': (), 'faultpolicy.43': (), 'faultpolicy.44': (), 'faultpolicy.45': (), 'faultpolicy.46': (), 'faultpolicy.47': (), 'faultpolicy.48': (), 'faultpolicy.49': (), 'faultpolicy.50': (), 'faultpolicy.51': (), 'faultpolicy.52': (), 'faultpolicy.53': ()}\n",
       " - constants: {}\n",
       " - parameter_initializer: TankParam"
      ]
     },
     "execution_count": 21,
     "metadata": {},
     "output_type": "execute_result"
    }
   ],
   "source": [
    "pd"
   ]
  },
  {
   "cell_type": "markdown",
   "metadata": {},
   "source": [
    "Which we then use to define the problem:"
   ]
  },
  {
   "cell_type": "code",
   "execution_count": 22,
   "metadata": {
    "execution": {
     "iopub.execute_input": "2024-01-08T23:04:12.821698Z",
     "iopub.status.busy": "2024-01-08T23:04:12.821698Z",
     "iopub.status.idle": "2024-01-08T23:04:12.871344Z",
     "shell.execute_reply": "2024-01-08T23:04:12.870112Z"
    }
   },
   "outputs": [],
   "source": [
    "from multiprocessing import Pool\n",
    "psp = ParameterSimProblem(mdl, pd, \"fault_sample\", fs, pool=Pool(5), close_pool=False)\n",
    "psp.add_result_objective(\"cr\", \"expected_cost\")"
   ]
  },
  {
   "cell_type": "code",
   "execution_count": 23,
   "metadata": {
    "execution": {
     "iopub.execute_input": "2024-01-08T23:04:12.875851Z",
     "iopub.status.busy": "2024-01-08T23:04:12.871344Z",
     "iopub.status.idle": "2024-01-08T23:04:14.702936Z",
     "shell.execute_reply": "2024-01-08T23:04:14.702936Z"
    }
   },
   "outputs": [
    {
     "data": {
      "text/plain": [
       "4201123133.3333335"
      ]
     },
     "execution_count": 23,
     "metadata": {},
     "output_type": "execute_result"
    }
   ],
   "source": [
    "psp.cr(1, 2, *fp_vars)"
   ]
  },
  {
   "cell_type": "code",
   "execution_count": 24,
   "metadata": {
    "execution": {
     "iopub.execute_input": "2024-01-08T23:04:14.705934Z",
     "iopub.status.busy": "2024-01-08T23:04:14.705934Z",
     "iopub.status.idle": "2024-01-08T23:04:14.753813Z",
     "shell.execute_reply": "2024-01-08T23:04:14.753000Z"
    }
   },
   "outputs": [
    {
     "data": {
      "text/plain": [
       "4201124800.0"
      ]
     },
     "execution_count": 24,
     "metadata": {},
     "output_type": "execute_result"
    }
   ],
   "source": [
    "psp.cr(0.5, 1, *fp_vars)"
   ]
  },
  {
   "cell_type": "markdown",
   "metadata": {},
   "source": [
    "Since the design variables affect both design and resilience costs, we can connect these two problems in an overall `ProblemArchitecture` where design cost evaluation feeds into resilience cost evaluation."
   ]
  },
  {
   "cell_type": "markdown",
   "metadata": {},
   "source": [
    "First, we define a simpleproblem to combine the objectives:"
   ]
  },
  {
   "cell_type": "code",
   "execution_count": 25,
   "metadata": {
    "execution": {
     "iopub.execute_input": "2024-01-08T23:04:14.756420Z",
     "iopub.status.busy": "2024-01-08T23:04:14.756420Z",
     "iopub.status.idle": "2024-01-08T23:04:14.770510Z",
     "shell.execute_reply": "2024-01-08T23:04:14.769746Z"
    }
   },
   "outputs": [
    {
     "data": {
      "text/plain": [
       "2"
      ]
     },
     "execution_count": 25,
     "metadata": {},
     "output_type": "execute_result"
    }
   ],
   "source": [
    "def tot(c_d, c_o):\n",
    "    return c_d + c_o\n",
    "tot_sp = SimpleProblem(\"cd\", \"cr\")\n",
    "tot_sp.add_objective(\"tot_cost\", tot)\n",
    "tot_sp.tot_cost(1, 1)"
   ]
  },
  {
   "cell_type": "code",
   "execution_count": 26,
   "metadata": {
    "execution": {
     "iopub.execute_input": "2024-01-08T23:04:14.770510Z",
     "iopub.status.busy": "2024-01-08T23:04:14.770510Z",
     "iopub.status.idle": "2024-01-08T23:04:14.786884Z",
     "shell.execute_reply": "2024-01-08T23:04:14.786133Z"
    }
   },
   "outputs": [],
   "source": [
    "from fmdtools.sim.search import ProblemArchitecture\n",
    "pa = ProblemArchitecture()"
   ]
  },
  {
   "cell_type": "code",
   "execution_count": 27,
   "metadata": {
    "execution": {
     "iopub.execute_input": "2024-01-08T23:04:14.787364Z",
     "iopub.status.busy": "2024-01-08T23:04:14.787364Z",
     "iopub.status.idle": "2024-01-08T23:04:14.802998Z",
     "shell.execute_reply": "2024-01-08T23:04:14.802998Z"
    }
   },
   "outputs": [],
   "source": [
    "pa.add_connector_variable(\"xd\", \"capacity\", \"turnup\")\n",
    "pa.add_connector_objective(\"dcost\", \"cd\")\n",
    "pa.add_connector_objective(\"rcost\", \"cr\")"
   ]
  },
  {
   "cell_type": "code",
   "execution_count": 28,
   "metadata": {
    "execution": {
     "iopub.execute_input": "2024-01-08T23:04:14.806069Z",
     "iopub.status.busy": "2024-01-08T23:04:14.804019Z",
     "iopub.status.idle": "2024-01-08T23:04:14.820216Z",
     "shell.execute_reply": "2024-01-08T23:04:14.819547Z"
    }
   },
   "outputs": [],
   "source": [
    "pa.add_problem(\"des\", sp, outputs={\"xd\": (\"capacity\", \"turnup\"), \"dcost\": (\"cd\", )})\n",
    "pa.add_problem(\"res\", psp, inputs={\"xd\": (\"capacity\", \"turnup\")}, outputs={\"rcost\": (\"cr\", )})\n",
    "pa.add_problem(\"tot\", tot_sp, inputs={\"dcost\": (\"cd\", ), \"rcost\": (\"cr\", )})"
   ]
  },
  {
   "cell_type": "markdown",
   "metadata": {},
   "source": [
    "We can then visualize/verify the setup of this using:"
   ]
  },
  {
   "cell_type": "code",
   "execution_count": 29,
   "metadata": {
    "execution": {
     "iopub.execute_input": "2024-01-08T23:04:14.820216Z",
     "iopub.status.busy": "2024-01-08T23:04:14.820216Z",
     "iopub.status.idle": "2024-01-08T23:04:15.020991Z",
     "shell.execute_reply": "2024-01-08T23:04:15.020991Z"
    }
   },
   "outputs": [
    {
     "data": {
      "image/png": "[encoded data removed]",
      "text/plain": [
       "<Figure size 600x400 with 1 Axes>"
      ]
     },
     "metadata": {},
     "output_type": "display_data"
    }
   ],
   "source": [
    "fig, ax = pa.show_sequence()"
   ]
  },
  {
   "cell_type": "code",
   "execution_count": 30,
   "metadata": {
    "execution": {
     "iopub.execute_input": "2024-01-08T23:04:15.020991Z",
     "iopub.status.busy": "2024-01-08T23:04:15.020991Z",
     "iopub.status.idle": "2024-01-08T23:04:15.036810Z",
     "shell.execute_reply": "2024-01-08T23:04:15.036265Z"
    }
   },
   "outputs": [
    {
     "data": {
      "text/plain": [
       "VariableConnector(name='xd', keys=('capacity', 'turnup'), values=array([nan, nan]))"
      ]
     },
     "execution_count": 30,
     "metadata": {},
     "output_type": "execute_result"
    }
   ],
   "source": [
    "pa.connectors['xd']"
   ]
  },
  {
   "cell_type": "code",
   "execution_count": 31,
   "metadata": {
    "execution": {
     "iopub.execute_input": "2024-01-08T23:04:15.037325Z",
     "iopub.status.busy": "2024-01-08T23:04:15.037325Z",
     "iopub.status.idle": "2024-01-08T23:04:15.053047Z",
     "shell.execute_reply": "2024-01-08T23:04:15.053047Z"
    }
   },
   "outputs": [
    {
     "data": {
      "text/plain": [
       "ProblemArchitecture with:\n",
       "CONNECTORS\n",
       " -xd                                                      [nan nan]\n",
       " -dcost                                                       [nan]\n",
       " -rcost                                                       [nan]\n",
       "PROBLEMS\n",
       " -des({'des_xloc': ['capacity', 'turnup']}) -> ['xd', 'dcost']\n",
       " -res({'xd': ('capacity', 'turnup'), 'res_xloc': ['faultpolicy.0', 'faultpolicy.1', 'faultpolicy.2', 'faultpolicy.3', 'faultpolicy.4', 'faultpolicy.5', 'faultpolicy.6', 'faultpolicy.7', 'faultpolicy.8', 'faultpolicy.9', 'faultpolicy.10', 'faultpolicy.11', 'faultpolicy.12', 'faultpolicy.13', 'faultpolicy.14', 'faultpolicy.15', 'faultpolicy.16', 'faultpolicy.17', 'faultpolicy.18', 'faultpolicy.19', 'faultpolicy.20', 'faultpolicy.21', 'faultpolicy.22', 'faultpolicy.23', 'faultpolicy.24', 'faultpolicy.25', 'faultpolicy.26', 'faultpolicy.27', 'faultpolicy.28', 'faultpolicy.29', 'faultpolicy.30', 'faultpolicy.31', 'faultpolicy.32', 'faultpolicy.33', 'faultpolicy.34', 'faultpolicy.35', 'faultpolicy.36', 'faultpolicy.37', 'faultpolicy.38', 'faultpolicy.39', 'faultpolicy.40', 'faultpolicy.41', 'faultpolicy.42', 'faultpolicy.43', 'faultpolicy.44', 'faultpolicy.45', 'faultpolicy.46', 'faultpolicy.47', 'faultpolicy.48', 'faultpolicy.49', 'faultpolicy.50', 'faultpolicy.51', 'faultpolicy.52', 'faultpolicy.53']}) -> ['rcost']\n",
       " -tot({'dcost': ('cd',), 'rcost': ('cr',)}) -> []\n",
       "VARIABLES\n",
       " -des_xloc                                                [nan nan]\n",
       " -res_xloc                                     [nan nan nan nan nan nan nan nan nan nan nan nan nan nan nan nan nan nan\n",
       " nan nan nan nan nan nan nan nan nan nan nan nan nan nan nan nan nan nan\n",
       " nan nan nan nan nan nan nan nan nan nan nan nan nan nan nan nan nan nan]\n",
       "OBJECTIVES\n",
       " -des_cd                                               8182000.0000\n",
       " -res_cr                                                        nan\n",
       " -tot_tot_cost                                                  nan"
      ]
     },
     "execution_count": 31,
     "metadata": {},
     "output_type": "execute_result"
    }
   ],
   "source": [
    "pa"
   ]
  },
  {
   "cell_type": "markdown",
   "metadata": {},
   "source": [
    "We can also evaluate the objectives in terms of full or partial sets of the variables:"
   ]
  },
  {
   "cell_type": "code",
   "execution_count": 32,
   "metadata": {
    "execution": {
     "iopub.execute_input": "2024-01-08T23:04:15.056206Z",
     "iopub.status.busy": "2024-01-08T23:04:15.056206Z",
     "iopub.status.idle": "2024-01-08T23:04:15.119950Z",
     "shell.execute_reply": "2024-01-08T23:04:15.118961Z"
    }
   },
   "outputs": [
    {
     "data": {
      "text/plain": [
       "1081666.6666666667"
      ]
     },
     "execution_count": 32,
     "metadata": {},
     "output_type": "execute_result"
    }
   ],
   "source": [
    "fp_vars = [0 for i, v in enumerate(TankParam.__defaults__['faultpolicy'])]\n",
    "pa.res_cr_full(0.5, 1.0, *fp_vars)"
   ]
  },
  {
   "cell_type": "code",
   "execution_count": 33,
   "metadata": {
    "execution": {
     "iopub.execute_input": "2024-01-08T23:04:15.122939Z",
     "iopub.status.busy": "2024-01-08T23:04:15.122939Z",
     "iopub.status.idle": "2024-01-08T23:04:15.134944Z",
     "shell.execute_reply": "2024-01-08T23:04:15.134944Z"
    }
   },
   "outputs": [
    {
     "data": {
      "text/plain": [
       "ProblemArchitecture with:\n",
       "CONNECTORS\n",
       " -xd                                                      [0.5 1. ]\n",
       " -dcost                                                  [9115750.]\n",
       " -rcost                                          [1081666.66666667]\n",
       "PROBLEMS\n",
       " -des({'des_xloc': ['capacity', 'turnup']}) -> ['xd', 'dcost']\n",
       " -res({'xd': ('capacity', 'turnup'), 'res_xloc': ['faultpolicy.0', 'faultpolicy.1', 'faultpolicy.2', 'faultpolicy.3', 'faultpolicy.4', 'faultpolicy.5', 'faultpolicy.6', 'faultpolicy.7', 'faultpolicy.8', 'faultpolicy.9', 'faultpolicy.10', 'faultpolicy.11', 'faultpolicy.12', 'faultpolicy.13', 'faultpolicy.14', 'faultpolicy.15', 'faultpolicy.16', 'faultpolicy.17', 'faultpolicy.18', 'faultpolicy.19', 'faultpolicy.20', 'faultpolicy.21', 'faultpolicy.22', 'faultpolicy.23', 'faultpolicy.24', 'faultpolicy.25', 'faultpolicy.26', 'faultpolicy.27', 'faultpolicy.28', 'faultpolicy.29', 'faultpolicy.30', 'faultpolicy.31', 'faultpolicy.32', 'faultpolicy.33', 'faultpolicy.34', 'faultpolicy.35', 'faultpolicy.36', 'faultpolicy.37', 'faultpolicy.38', 'faultpolicy.39', 'faultpolicy.40', 'faultpolicy.41', 'faultpolicy.42', 'faultpolicy.43', 'faultpolicy.44', 'faultpolicy.45', 'faultpolicy.46', 'faultpolicy.47', 'faultpolicy.48', 'faultpolicy.49', 'faultpolicy.50', 'faultpolicy.51', 'faultpolicy.52', 'faultpolicy.53']}) -> ['rcost']\n",
       " -tot({'dcost': ('cd',), 'rcost': ('cr',)}) -> []\n",
       "VARIABLES\n",
       " -des_xloc                                                [0.5 1. ]\n",
       " -res_xloc                                     [0. 0. 0. 0. 0. 0. 0. 0. 0. 0. 0. 0. 0. 0. 0. 0. 0. 0. 0. 0. 0. 0. 0. 0.\n",
       " 0. 0. 0. 0. 0. 0. 0. 0. 0. 0. 0. 0. 0. 0. 0. 0. 0. 0. 0. 0. 0. 0. 0. 0.\n",
       " 0. 0. 0. 0. 0. 0.]\n",
       "OBJECTIVES\n",
       " -des_cd                                               9115750.0000\n",
       " -res_cr                                               1081666.6667\n",
       " -tot_tot_cost                                                  nan"
      ]
     },
     "execution_count": 33,
     "metadata": {},
     "output_type": "execute_result"
    }
   ],
   "source": [
    "pa"
   ]
  },
  {
   "cell_type": "code",
   "execution_count": 34,
   "metadata": {
    "execution": {
     "iopub.execute_input": "2024-01-08T23:04:15.136850Z",
     "iopub.status.busy": "2024-01-08T23:04:15.136850Z",
     "iopub.status.idle": "2024-01-08T23:04:15.157022Z",
     "shell.execute_reply": "2024-01-08T23:04:15.156400Z"
    }
   },
   "outputs": [
    {
     "data": {
      "text/plain": [
       "10197416.666666666"
      ]
     },
     "execution_count": 34,
     "metadata": {},
     "output_type": "execute_result"
    }
   ],
   "source": [
    "pa.tot_tot_cost_full(0.5, 1.0, *fp_vars)"
   ]
  },
  {
   "cell_type": "markdown",
   "metadata": {},
   "source": [
    "Note that because the simulations are linked, changes to xdes in the `cd` function in turn change the lower-level `cost` function by default."
   ]
  },
  {
   "cell_type": "code",
   "execution_count": 35,
   "metadata": {
    "execution": {
     "iopub.execute_input": "2024-01-08T23:04:15.158153Z",
     "iopub.status.busy": "2024-01-08T23:04:15.158153Z",
     "iopub.status.idle": "2024-01-08T23:04:15.174151Z",
     "shell.execute_reply": "2024-01-08T23:04:15.174019Z"
    }
   },
   "outputs": [
    {
     "data": {
      "text/plain": [
       "8182000.0"
      ]
     },
     "execution_count": 35,
     "metadata": {},
     "output_type": "execute_result"
    }
   ],
   "source": [
    "pa.des_cd(1,1)"
   ]
  },
  {
   "cell_type": "code",
   "execution_count": 36,
   "metadata": {
    "execution": {
     "iopub.execute_input": "2024-01-08T23:04:15.178748Z",
     "iopub.status.busy": "2024-01-08T23:04:15.178748Z",
     "iopub.status.idle": "2024-01-08T23:04:15.226812Z",
     "shell.execute_reply": "2024-01-08T23:04:15.226266Z"
    }
   },
   "outputs": [
    {
     "data": {
      "text/plain": [
       "1081666.6666666667"
      ]
     },
     "execution_count": 36,
     "metadata": {},
     "output_type": "execute_result"
    }
   ],
   "source": [
    "pa.res_cr(*fp_vars)"
   ]
  },
  {
   "cell_type": "code",
   "execution_count": 37,
   "metadata": {
    "execution": {
     "iopub.execute_input": "2024-01-08T23:04:15.227756Z",
     "iopub.status.busy": "2024-01-08T23:04:15.227756Z",
     "iopub.status.idle": "2024-01-08T23:04:15.234909Z",
     "shell.execute_reply": "2024-01-08T23:04:15.234712Z"
    }
   },
   "outputs": [
    {
     "data": {
      "text/plain": [
       "9263666.666666666"
      ]
     },
     "execution_count": 37,
     "metadata": {},
     "output_type": "execute_result"
    }
   ],
   "source": [
    "pa.tot_tot_cost()\n"
   ]
  },
  {
   "cell_type": "markdown",
   "metadata": {},
   "source": [
    "### Optimization\n",
    "\n",
    "This problem is optimized here using four different architectures, following the example in:\n",
    "\n",
    "Hulse, D., & Hoyle, C. (2022). Understanding Resilience Optimization Architectures: Alignment and Coupling in Multilevel Decomposition Strategies. Journal of Mechanical Design, 144(11), 111704."
   ]
  },
  {
   "cell_type": "markdown",
   "metadata": {
    "execution": {
     "iopub.execute_input": "2023-09-29T21:52:58.447835Z",
     "iopub.status.busy": "2023-09-29T21:52:58.447835Z",
     "iopub.status.idle": "2023-09-29T21:52:58.502446Z",
     "shell.execute_reply": "2023-09-29T21:52:58.502446Z"
    }
   },
   "source": [
    "The optimization of the resilience policy is accomplished using an evolutionary algorithm, defined below:"
   ]
  },
  {
   "cell_type": "code",
   "execution_count": 38,
   "metadata": {
    "execution": {
     "iopub.execute_input": "2024-01-08T23:04:15.237658Z",
     "iopub.status.busy": "2024-01-08T23:04:15.236673Z",
     "iopub.status.idle": "2024-01-08T23:04:15.266929Z",
     "shell.execute_reply": "2024-01-08T23:04:15.266929Z"
    }
   },
   "outputs": [],
   "source": [
    "import numpy as np\n",
    "import random\n",
    "def EA(prob_callable, popsize=10, iters=20, mutations=3, crossovers=2, numselect=3, verbose=True, args={}):\n",
    "    # generate initial population:\n",
    "    randpopsize = popsize-numselect-mutations - crossovers\n",
    "    opers = [randpop, mutepop, crossover]\n",
    "    numopers = [randpopsize, mutations, crossovers]\n",
    "    used_opers = [oper for i, oper in enumerate(opers) if numopers[i] > 0]\n",
    "    used_numopers = [numoper for numoper in numopers if numoper > 0]\n",
    "    if args:\n",
    "        pop = np.concatenate((args['seed'], seedpop(), randpop([], popsize-3)))\n",
    "    else:\n",
    "        pop = np.concatenate((seedpop(), randpop([], popsize-3)))\n",
    "    makefeasible(pop)\n",
    "    # evaluate initial population\n",
    "    values = np.array([prob_callable(*[*x[0], *x[1]]) for x in pop])\n",
    "    # gen/evaluate mutated population\n",
    "    for i in range(iters):\n",
    "        goodpop, goodvals = select(pop, values, numselect)\n",
    "        newpop = np.concatenate(tuple([oper(goodpop, used_numopers[i]) for i, oper in enumerate(used_opers)]))\n",
    "        makefeasible(newpop)\n",
    "        newvals = np.array([prob_callable(*[*x[0], *x[1]]) for x in newpop])\n",
    "        pop, values = np.concatenate(\n",
    "            (goodpop, newpop)), np.concatenate((goodvals, newvals))\n",
    "        if verbose == \"iters\":\n",
    "            print([\"iter \"+str(i)+\": \", min(values)])\n",
    "    minind = np.argmin(values)\n",
    "    if args:\n",
    "        args['seed'] = goodpop\n",
    "        args['ll_opt'] = values[minind]\n",
    "        args['ll_optx'] = pop[minind]\n",
    "    if verbose == \"final\":\n",
    "        print(values[minind])\n",
    "    return pop[minind], values[minind]\n",
    "\n",
    "\n",
    "possible_sols = [[-1, -1], [-1, 0], [-1, 1],\n",
    "                 [0, -1], [0, 0], [0, 1], [1, -1], [1, 0], [1, 1]]\n",
    "\n",
    "\n",
    "def randpop(goodpop, popsize):\n",
    "    return np.array([[[random.randint(-1, 1) for a in range(0, 27)],\n",
    "                      [random.randint(-1, 1) for a in range(0, 27)]]\n",
    "                     for i in range(0, popsize)])\n",
    "\n",
    "\n",
    "def seedpop():\n",
    "    donothing = np.zeros((2, 27))\n",
    "    adjustup = np.ones((2, 27))\n",
    "    adjustdown = -np.ones((2, 27))\n",
    "    return np.array([donothing, adjustup, adjustdown])\n",
    "\n",
    "\n",
    "def mutepop(goodpop, mutations):\n",
    "    to_mutate = np.random.choice(\n",
    "        [i for i in range(len(goodpop))], size=mutations, replace=False)\n",
    "    return np.array([permute(solution) for solution in goodpop[to_mutate]])\n",
    "\n",
    "\n",
    "def permute(solution):\n",
    "    mutation = possible_sols[random.randint(0, 8)]\n",
    "    to_mutate = random.randint(0, 26)\n",
    "    solution[0][to_mutate] = mutation[0]\n",
    "    solution[1][to_mutate] = mutation[1]\n",
    "    return solution\n",
    "\n",
    "\n",
    "def crossover(goodpop, crossovers):\n",
    "    to_cross = np.random.choice(\n",
    "        [i for i in range(len(goodpop))], size=crossovers, replace=False)\n",
    "    divider = np.random.randint(1, 25)\n",
    "    swap = np.random.choice([i for i in range(crossovers)],\n",
    "                            size=crossovers, replace=False)\n",
    "    return np.array([[np.concatenate((goodpop[to_cross[i]][0][:divider], goodpop[to_cross[swap[i]]][0][divider:])), np.concatenate((goodpop[to_cross[i]][1][:divider], goodpop[to_cross[swap[i]]][1][divider:]))] for i in range(crossovers)])\n",
    "\n",
    "\n",
    "def select(solutions, values, numselect):\n",
    "    selection = np.argsort(values)[0:numselect]\n",
    "    return solutions[selection], values[selection]\n",
    "\n",
    "\n",
    "def makefeasible(population):\n",
    "    for sol in population:\n",
    "        sol[0][13] = 0\n",
    "        sol[1][13] = 0"
   ]
  },
  {
   "cell_type": "code",
   "execution_count": 39,
   "metadata": {
    "execution": {
     "iopub.execute_input": "2024-01-08T23:04:15.269919Z",
     "iopub.status.busy": "2024-01-08T23:04:15.269919Z",
     "iopub.status.idle": "2024-01-08T23:04:21.166801Z",
     "shell.execute_reply": "2024-01-08T23:04:21.166164Z"
    }
   },
   "outputs": [
    {
     "name": "stdout",
     "output_type": "stream",
     "text": [
      "['iter 0: ', 1081666.6666666667]\n"
     ]
    },
    {
     "name": "stdout",
     "output_type": "stream",
     "text": [
      "['iter 1: ', 1081666.6666666667]\n"
     ]
    },
    {
     "name": "stdout",
     "output_type": "stream",
     "text": [
      "['iter 2: ', 1081666.6666666667]\n"
     ]
    },
    {
     "name": "stdout",
     "output_type": "stream",
     "text": [
      "['iter 3: ', 1081666.6666666667]\n"
     ]
    },
    {
     "name": "stdout",
     "output_type": "stream",
     "text": [
      "['iter 4: ', 1081666.6666666667]\n"
     ]
    },
    {
     "name": "stdout",
     "output_type": "stream",
     "text": [
      "['iter 5: ', 1081666.6666666667]\n"
     ]
    },
    {
     "name": "stdout",
     "output_type": "stream",
     "text": [
      "['iter 6: ', 1081666.6666666667]\n"
     ]
    },
    {
     "name": "stdout",
     "output_type": "stream",
     "text": [
      "['iter 7: ', 1081666.6666666667]\n"
     ]
    },
    {
     "name": "stdout",
     "output_type": "stream",
     "text": [
      "['iter 8: ', 1081666.6666666667]\n"
     ]
    },
    {
     "name": "stdout",
     "output_type": "stream",
     "text": [
      "['iter 9: ', 1081666.6666666667]\n"
     ]
    },
    {
     "name": "stdout",
     "output_type": "stream",
     "text": [
      "['iter 10: ', 1081666.6666666667]\n"
     ]
    },
    {
     "name": "stdout",
     "output_type": "stream",
     "text": [
      "['iter 11: ', 1081666.6666666667]\n"
     ]
    },
    {
     "name": "stdout",
     "output_type": "stream",
     "text": [
      "['iter 12: ', 1081666.6666666667]\n"
     ]
    },
    {
     "name": "stdout",
     "output_type": "stream",
     "text": [
      "['iter 13: ', 1081666.6666666667]\n"
     ]
    },
    {
     "name": "stdout",
     "output_type": "stream",
     "text": [
      "['iter 14: ', 1081666.6666666667]\n"
     ]
    },
    {
     "name": "stdout",
     "output_type": "stream",
     "text": [
      "['iter 15: ', 1081666.6666666667]\n"
     ]
    },
    {
     "name": "stdout",
     "output_type": "stream",
     "text": [
      "['iter 16: ', 1081666.6666666667]\n"
     ]
    },
    {
     "name": "stdout",
     "output_type": "stream",
     "text": [
      "['iter 17: ', 1081666.6666666667]\n"
     ]
    },
    {
     "name": "stdout",
     "output_type": "stream",
     "text": [
      "['iter 18: ', 1081666.6666666667]\n"
     ]
    },
    {
     "name": "stdout",
     "output_type": "stream",
     "text": [
      "['iter 19: ', 1081666.6666666667]\n"
     ]
    }
   ],
   "source": [
    "pop, vals = EA(pa.res_cr, verbose = 'iters')"
   ]
  },
  {
   "cell_type": "code",
   "execution_count": 40,
   "metadata": {
    "execution": {
     "iopub.execute_input": "2024-01-08T23:04:21.167815Z",
     "iopub.status.busy": "2024-01-08T23:04:21.167815Z",
     "iopub.status.idle": "2024-01-08T23:04:21.186782Z",
     "shell.execute_reply": "2024-01-08T23:04:21.186278Z"
    }
   },
   "outputs": [
    {
     "data": {
      "text/plain": [
       "ProblemArchitecture with:\n",
       "CONNECTORS\n",
       " -xd                                                        [1. 1.]\n",
       " -dcost                                                  [8182000.]\n",
       " -rcost                                          [1081666.66666667]\n",
       "PROBLEMS\n",
       " -des({'des_xloc': ['capacity', 'turnup']}) -> ['xd', 'dcost']\n",
       " -res({'xd': ('capacity', 'turnup'), 'res_xloc': ['faultpolicy.0', 'faultpolicy.1', 'faultpolicy.2', 'faultpolicy.3', 'faultpolicy.4', 'faultpolicy.5', 'faultpolicy.6', 'faultpolicy.7', 'faultpolicy.8', 'faultpolicy.9', 'faultpolicy.10', 'faultpolicy.11', 'faultpolicy.12', 'faultpolicy.13', 'faultpolicy.14', 'faultpolicy.15', 'faultpolicy.16', 'faultpolicy.17', 'faultpolicy.18', 'faultpolicy.19', 'faultpolicy.20', 'faultpolicy.21', 'faultpolicy.22', 'faultpolicy.23', 'faultpolicy.24', 'faultpolicy.25', 'faultpolicy.26', 'faultpolicy.27', 'faultpolicy.28', 'faultpolicy.29', 'faultpolicy.30', 'faultpolicy.31', 'faultpolicy.32', 'faultpolicy.33', 'faultpolicy.34', 'faultpolicy.35', 'faultpolicy.36', 'faultpolicy.37', 'faultpolicy.38', 'faultpolicy.39', 'faultpolicy.40', 'faultpolicy.41', 'faultpolicy.42', 'faultpolicy.43', 'faultpolicy.44', 'faultpolicy.45', 'faultpolicy.46', 'faultpolicy.47', 'faultpolicy.48', 'faultpolicy.49', 'faultpolicy.50', 'faultpolicy.51', 'faultpolicy.52', 'faultpolicy.53']}) -> ['rcost']\n",
       " -tot({'dcost': ('cd',), 'rcost': ('cr',)}) -> []\n",
       "VARIABLES\n",
       " -des_xloc                                                  [1. 1.]\n",
       " -res_xloc                                     [ 0.  0.  0.  0.  0.  0.  0.  0.  0.  0.  0.  0. -1.  0.  0.  0.  0.  0.\n",
       "  0.  0.  0.  0.  0.  0.  0.  0.  0.  0.  0.  0.  0.  0.  0.  0.  0.  0.\n",
       "  0.  0.  0. -1.  0.  0.  0.  0.  0.  0.  0.  0.  0.  0.  0.  0.  0.  0.]\n",
       "OBJECTIVES\n",
       " -des_cd                                               8182000.0000\n",
       " -res_cr                                               1081666.6667\n",
       " -tot_tot_cost                                         9263666.6667"
      ]
     },
     "execution_count": 40,
     "metadata": {},
     "output_type": "execute_result"
    }
   ],
   "source": [
    "pa"
   ]
  },
  {
   "cell_type": "markdown",
   "metadata": {},
   "source": [
    "#### Alternating Optimization\n",
    "\n",
    "Which can then be optimized in an alternating or bilevel optimization structure:"
   ]
  },
  {
   "cell_type": "code",
   "execution_count": 41,
   "metadata": {
    "execution": {
     "iopub.execute_input": "2024-01-08T23:04:21.186782Z",
     "iopub.status.busy": "2024-01-08T23:04:21.186782Z",
     "iopub.status.idle": "2024-01-08T23:04:21.206872Z",
     "shell.execute_reply": "2024-01-08T23:04:21.206366Z"
    }
   },
   "outputs": [],
   "source": [
    "from scipy.optimize import minimize\n",
    "\n",
    "def sub_totcost(tot_cost_callable):\n",
    "    def new_func(xres, args):\n",
    "        return tot_cost_callable(*xres, *args)\n",
    "    return new_func\n",
    "\n",
    "def alternating_opt(tot_cost_callable, dcost_callable, rcost_callable, option='with_cr', pool=False, xdes=[21, .5], max_alts=10):\n",
    "    xdes = np.array(xdes)\n",
    "    args = {'seed': seedpop(), 'll_opt': 1e6, 'll_optx': []}\n",
    "    newmin = 100000000\n",
    "    lastmin = 1000000001\n",
    "    bestsol = np.zeros(54)\n",
    "    last_run = False\n",
    "    fhist = []\n",
    "    thist = [0]\n",
    "    xdhist = [xdes]\n",
    "    for n in range(max_alts):\n",
    "        if option == 'with_cr':\n",
    "            tot_cost_call = sub_totcost(tot_cost_callable)\n",
    "            result = minimize(tot_cost_call,\n",
    "                              [np.round(xdes[0], 1), np.round(xdes[1], 1)],\n",
    "                              method='Nelder-Mead',\n",
    "                              bounds=((10, 100), (0, 1)),\n",
    "                              callback=callbackF1,\n",
    "                              args=bestsol,\n",
    "                              options={'disp': True})\n",
    "        else:\n",
    "            result = minimize(dcost_callable,\n",
    "                              [np.round(xdes[0], 1),\n",
    "                               np.round(xdes[1], 1)],\n",
    "                              method='Nelder-Mead',\n",
    "                              bounds=((10, 100), (0, 1)),\n",
    "                              callback=callbackF1,\n",
    "                              options={'disp': True})\n",
    "        xdes = result['x']\n",
    "        dcost = dcost_callable(*xdes)\n",
    "        bestpop, rcost = EA(rcost_callable, args=args, popsize=50, mutations=10,\n",
    "                            numselect=20, crossovers=5, iters=100, verbose=\"iters\")\n",
    "        bestsol = [*bestpop[0], *bestpop[1]]\n",
    "        lastmin = newmin\n",
    "        newmin = dcost + rcost\n",
    "        fhist.append(newmin)\n",
    "        xdhist.append(xdes)\n",
    "        print(n, newmin, lastmin-newmin)\n",
    "        if lastmin - newmin < 0.1:\n",
    "            if last_run:\n",
    "                break\n",
    "            else:\n",
    "                last_run = True\n",
    "        else:\n",
    "            last_run = False\n",
    "        fhist.append(newmin)\n",
    "    return result, args, fhist, thist, xdhist\n",
    "\n",
    "\n",
    "def callbackF(Xdes, result):\n",
    "    print('{0:4d}   {1: 3.6f}   {2: 3.6f}   {3: 3.6f}'.format(\n",
    "        result['nit'], Xdes[0], Xdes[1], result['fun']))\n",
    "\n",
    "\n",
    "def callbackF1(Xdes):\n",
    "    print(Xdes)"
   ]
  },
  {
   "cell_type": "code",
   "execution_count": 42,
   "metadata": {
    "execution": {
     "iopub.execute_input": "2024-01-08T23:04:21.207789Z",
     "iopub.status.busy": "2024-01-08T23:04:21.207789Z",
     "iopub.status.idle": "2024-01-08T23:04:42.592089Z"
    }
   },
   "outputs": [
    {
     "name": "stdout",
     "output_type": "stream",
     "text": [
      "[18.9     0.5375]\n",
      "[17.85     0.50625]\n",
      "[13.125     0.565625]\n"
     ]
    },
    {
     "name": "stdout",
     "output_type": "stream",
     "text": [
      "[12.075     0.534375]\n",
      "[12.075     0.534375]\n",
      "[12.075     0.534375]\n",
      "[12.075     0.503125]\n"
     ]
    },
    {
     "name": "stdout",
     "output_type": "stream",
     "text": [
      "[12.075     0.503125]\n",
      "[12.075     0.503125]\n"
     ]
    },
    {
     "name": "stdout",
     "output_type": "stream",
     "text": [
      "[12.075     0.503125]\n",
      "[12.075     0.503125]\n",
      "[12.075     0.503125]\n",
      "[12.01015625  0.50839844]\n"
     ]
    },
    {
     "name": "stdout",
     "output_type": "stream",
     "text": [
      "[12.01015625  0.50058594]\n",
      "[12.01015625  0.50058594]\n",
      "[12.01015625  0.50058594]\n"
     ]
    },
    {
     "name": "stdout",
     "output_type": "stream",
     "text": [
      "[12.01015625  0.50058594]\n",
      "[12.01015625  0.50058594]\n",
      "[12.00610352  0.48699951]\n",
      "[12.00610352  0.48699951]\n"
     ]
    },
    {
     "name": "stdout",
     "output_type": "stream",
     "text": [
      "[12.00863647  0.47205353]\n",
      "[12.00154419  0.46390228]\n",
      "[12.00306396  0.42993469]\n"
     ]
    },
    {
     "name": "stdout",
     "output_type": "stream",
     "text": [
      "[12.00306396  0.42993469]\n",
      "[12.00971298  0.40632648]\n",
      "[12.00822487  0.33541975]\n"
     ]
    },
    {
     "name": "stdout",
     "output_type": "stream",
     "text": [
      "[12.02077885  0.25274997]\n",
      "[12.02407961  0.06960161]\n",
      "[12.02407961  0.06960161]\n",
      "[12.02407961  0.06960161]\n"
     ]
    },
    {
     "name": "stdout",
     "output_type": "stream",
     "text": [
      "[12.0225915   0.06960161]\n",
      "[12.02924051  0.0348008 ]\n",
      "[12.0277524  0.0348008]\n"
     ]
    },
    {
     "name": "stdout",
     "output_type": "stream",
     "text": [
      "[12.0277524  0.0348008]\n",
      "[12.02146354  0.06090141]\n",
      "[12.02273595  0.0391509 ]\n"
     ]
    },
    {
     "name": "stdout",
     "output_type": "stream",
     "text": [
      "[12.01079444  0.08047686]\n",
      "[12.00736851  0.05763883]\n",
      "[12.00736851  0.05763883]\n",
      "[12.00736851  0.05763883]\n"
     ]
    },
    {
     "name": "stdout",
     "output_type": "stream",
     "text": [
      "[12.00394258  0.0348008 ]\n",
      "[12.00394258  0.0348008 ]\n",
      "[12.00478061  0.        ]\n"
     ]
    },
    {
     "name": "stdout",
     "output_type": "stream",
     "text": [
      "[12.00478061  0.        ]\n",
      "[1.20020078e+01 6.72906165e-03]\n",
      "[1.20020078e+01 6.72906165e-03]\n",
      "[1.20000730e+01 6.72906165e-03]\n"
     ]
    },
    {
     "name": "stdout",
     "output_type": "stream",
     "text": [
      "[1.20000730e+01 6.72906165e-03]\n",
      "[1.20000084e+01 3.36453082e-03]\n",
      "[1.20000084e+01 3.36453082e-03]\n"
     ]
    },
    {
     "name": "stdout",
     "output_type": "stream",
     "text": [
      "[1.20000084e+01 3.36453082e-03]\n",
      "[1.20000084e+01 3.36453082e-03]\n",
      "[1.20000084e+01 3.36453082e-03]\n"
     ]
    },
    {
     "name": "stdout",
     "output_type": "stream",
     "text": [
      "[1.20000084e+01 3.36453082e-03]\n",
      "[1.20000084e+01 3.36453082e-03]\n",
      "[1.20000084e+01 3.36453082e-03]\n",
      "[1.20000084e+01 3.36453082e-03]\n"
     ]
    },
    {
     "name": "stdout",
     "output_type": "stream",
     "text": [
      "[1.20000023e+01 1.87283454e-03]\n",
      "[1.20000023e+01 1.87283454e-03]\n",
      "[1.20000023e+01 1.87283454e-03]\n",
      "[1.20000023e+01 1.87283454e-03]\n"
     ]
    },
    {
     "name": "stdout",
     "output_type": "stream",
     "text": [
      "[1.20000024e+01 8.16900855e-04]\n",
      "[1.20000024e+01 8.16900855e-04]\n",
      "[1.20000024e+01 8.16900855e-04]\n",
      "[1.20000024e+01 8.16900855e-04]\n"
     ]
    },
    {
     "name": "stdout",
     "output_type": "stream",
     "text": [
      "[12.00000087  0.        ]\n",
      "[12.00000087  0.        ]\n",
      "[12.00000087  0.        ]\n",
      "[12.00000087  0.        ]\n"
     ]
    },
    {
     "name": "stdout",
     "output_type": "stream",
     "text": [
      "[12.00000041  0.        ]\n",
      "[12.00000041  0.        ]\n",
      "[12.00000041  0.        ]\n"
     ]
    },
    {
     "name": "stdout",
     "output_type": "stream",
     "text": [
      "[12.0000003  0.       ]\n",
      "[12.0000003  0.       ]\n",
      "[12.0000001  0.       ]\n"
     ]
    },
    {
     "name": "stdout",
     "output_type": "stream",
     "text": [
      "[12.0000001  0.       ]\n",
      "[12.0000001  0.       ]\n",
      "[12.0000001  0.       ]\n"
     ]
    },
    {
     "name": "stdout",
     "output_type": "stream",
     "text": [
      "[12.0000001  0.       ]\n",
      "[12.00000005  0.        ]\n",
      "[12.00000001  0.        ]\n"
     ]
    },
    {
     "name": "stdout",
     "output_type": "stream",
     "text": [
      "[12.00000001  0.        ]\n",
      "[12.00000001  0.        ]\n",
      "[12.00000001  0.        ]\n"
     ]
    },
    {
     "name": "stdout",
     "output_type": "stream",
     "text": [
      "[12.00000001  0.        ]\n",
      "[12.00000001  0.        ]\n",
      "Optimization terminated successfully.\n",
      "         Current function value: 1057666.666717\n",
      "         Iterations: 86\n",
      "         Function evaluations: 167\n"
     ]
    },
    {
     "name": "stdout",
     "output_type": "stream",
     "text": [
      "['iter 0: ', 1051666.6666666667]\n"
     ]
    },
    {
     "name": "stdout",
     "output_type": "stream",
     "text": [
      "['iter 1: ', 1051666.6666666667]\n"
     ]
    },
    {
     "name": "stdout",
     "output_type": "stream",
     "text": [
      "['iter 2: ', 1051666.6666666667]\n"
     ]
    },
    {
     "name": "stdout",
     "output_type": "stream",
     "text": [
      "['iter 3: ', 1051666.6666666667]\n"
     ]
    },
    {
     "name": "stdout",
     "output_type": "stream",
     "text": [
      "['iter 4: ', 1051666.6666666667]\n"
     ]
    },
    {
     "name": "stdout",
     "output_type": "stream",
     "text": [
      "['iter 5: ', 1051666.6666666667]\n"
     ]
    },
    {
     "name": "stdout",
     "output_type": "stream",
     "text": [
      "['iter 6: ', 1051666.6666666667]\n"
     ]
    },
    {
     "name": "stdout",
     "output_type": "stream",
     "text": [
      "['iter 7: ', 1051666.6666666667]\n"
     ]
    },
    {
     "name": "stdout",
     "output_type": "stream",
     "text": [
      "['iter 8: ', 1035333.3333333333]\n"
     ]
    },
    {
     "ename": "KeyboardInterrupt",
     "evalue": "",
     "output_type": "error",
     "traceback": [
      "\u001b[1;31m---------------------------------------------------------------------------\u001b[0m",
      "\u001b[1;31mKeyboardInterrupt\u001b[0m                         Traceback (most recent call last)",
      "Cell \u001b[1;32mIn[42], line 1\u001b[0m\n\u001b[1;32m----> 1\u001b[0m result, args, fhist, thist, xdhist \u001b[38;5;241m=\u001b[39m \u001b[43malternating_opt\u001b[49m\u001b[43m(\u001b[49m\u001b[43mpa\u001b[49m\u001b[38;5;241;43m.\u001b[39;49m\u001b[43mtot_tot_cost_full\u001b[49m\u001b[43m,\u001b[49m\u001b[43m \u001b[49m\u001b[43mpa\u001b[49m\u001b[38;5;241;43m.\u001b[39;49m\u001b[43mdes_cd\u001b[49m\u001b[43m,\u001b[49m\u001b[43m \u001b[49m\u001b[43mpa\u001b[49m\u001b[38;5;241;43m.\u001b[39;49m\u001b[43mres_cr\u001b[49m\u001b[43m,\u001b[49m\u001b[43m \u001b[49m\u001b[43mmax_alts\u001b[49m\u001b[38;5;241;43m=\u001b[39;49m\u001b[38;5;241;43m1\u001b[39;49m\u001b[43m)\u001b[49m\n",
      "Cell \u001b[1;32mIn[41], line 38\u001b[0m, in \u001b[0;36malternating_opt\u001b[1;34m(tot_cost_callable, dcost_callable, rcost_callable, option, pool, xdes, max_alts)\u001b[0m\n\u001b[0;32m     36\u001b[0m xdes \u001b[38;5;241m=\u001b[39m result[\u001b[38;5;124m'\u001b[39m\u001b[38;5;124mx\u001b[39m\u001b[38;5;124m'\u001b[39m]\n\u001b[0;32m     37\u001b[0m dcost \u001b[38;5;241m=\u001b[39m dcost_callable(\u001b[38;5;241m*\u001b[39mxdes)\n\u001b[1;32m---> 38\u001b[0m bestpop, rcost \u001b[38;5;241m=\u001b[39m \u001b[43mEA\u001b[49m\u001b[43m(\u001b[49m\u001b[43mrcost_callable\u001b[49m\u001b[43m,\u001b[49m\u001b[43m \u001b[49m\u001b[43margs\u001b[49m\u001b[38;5;241;43m=\u001b[39;49m\u001b[43margs\u001b[49m\u001b[43m,\u001b[49m\u001b[43m \u001b[49m\u001b[43mpopsize\u001b[49m\u001b[38;5;241;43m=\u001b[39;49m\u001b[38;5;241;43m50\u001b[39;49m\u001b[43m,\u001b[49m\u001b[43m \u001b[49m\u001b[43mmutations\u001b[49m\u001b[38;5;241;43m=\u001b[39;49m\u001b[38;5;241;43m10\u001b[39;49m\u001b[43m,\u001b[49m\n\u001b[0;32m     39\u001b[0m \u001b[43m                    \u001b[49m\u001b[43mnumselect\u001b[49m\u001b[38;5;241;43m=\u001b[39;49m\u001b[38;5;241;43m20\u001b[39;49m\u001b[43m,\u001b[49m\u001b[43m \u001b[49m\u001b[43mcrossovers\u001b[49m\u001b[38;5;241;43m=\u001b[39;49m\u001b[38;5;241;43m5\u001b[39;49m\u001b[43m,\u001b[49m\u001b[43m \u001b[49m\u001b[43miters\u001b[49m\u001b[38;5;241;43m=\u001b[39;49m\u001b[38;5;241;43m100\u001b[39;49m\u001b[43m,\u001b[49m\u001b[43m \u001b[49m\u001b[43mverbose\u001b[49m\u001b[38;5;241;43m=\u001b[39;49m\u001b[38;5;124;43m\"\u001b[39;49m\u001b[38;5;124;43miters\u001b[39;49m\u001b[38;5;124;43m\"\u001b[39;49m\u001b[43m)\u001b[49m\n\u001b[0;32m     40\u001b[0m bestsol \u001b[38;5;241m=\u001b[39m [\u001b[38;5;241m*\u001b[39mbestpop[\u001b[38;5;241m0\u001b[39m], \u001b[38;5;241m*\u001b[39mbestpop[\u001b[38;5;241m1\u001b[39m]]\n\u001b[0;32m     41\u001b[0m lastmin \u001b[38;5;241m=\u001b[39m newmin\n",
      "Cell \u001b[1;32mIn[38], line 22\u001b[0m, in \u001b[0;36mEA\u001b[1;34m(prob_callable, popsize, iters, mutations, crossovers, numselect, verbose, args)\u001b[0m\n\u001b[0;32m     20\u001b[0m newpop \u001b[38;5;241m=\u001b[39m np\u001b[38;5;241m.\u001b[39mconcatenate(\u001b[38;5;28mtuple\u001b[39m([oper(goodpop, used_numopers[i]) \u001b[38;5;28;01mfor\u001b[39;00m i, oper \u001b[38;5;129;01min\u001b[39;00m \u001b[38;5;28menumerate\u001b[39m(used_opers)]))\n\u001b[0;32m     21\u001b[0m makefeasible(newpop)\n\u001b[1;32m---> 22\u001b[0m newvals \u001b[38;5;241m=\u001b[39m np\u001b[38;5;241m.\u001b[39marray([prob_callable(\u001b[38;5;241m*\u001b[39m[\u001b[38;5;241m*\u001b[39mx[\u001b[38;5;241m0\u001b[39m], \u001b[38;5;241m*\u001b[39mx[\u001b[38;5;241m1\u001b[39m]]) \u001b[38;5;28;01mfor\u001b[39;00m x \u001b[38;5;129;01min\u001b[39;00m newpop])\n\u001b[0;32m     23\u001b[0m pop, values \u001b[38;5;241m=\u001b[39m np\u001b[38;5;241m.\u001b[39mconcatenate(\n\u001b[0;32m     24\u001b[0m     (goodpop, newpop)), np\u001b[38;5;241m.\u001b[39mconcatenate((goodvals, newvals))\n\u001b[0;32m     25\u001b[0m \u001b[38;5;28;01mif\u001b[39;00m verbose \u001b[38;5;241m==\u001b[39m \u001b[38;5;124m\"\u001b[39m\u001b[38;5;124miters\u001b[39m\u001b[38;5;124m\"\u001b[39m:\n",
      "Cell \u001b[1;32mIn[38], line 22\u001b[0m, in \u001b[0;36m<listcomp>\u001b[1;34m(.0)\u001b[0m\n\u001b[0;32m     20\u001b[0m newpop \u001b[38;5;241m=\u001b[39m np\u001b[38;5;241m.\u001b[39mconcatenate(\u001b[38;5;28mtuple\u001b[39m([oper(goodpop, used_numopers[i]) \u001b[38;5;28;01mfor\u001b[39;00m i, oper \u001b[38;5;129;01min\u001b[39;00m \u001b[38;5;28menumerate\u001b[39m(used_opers)]))\n\u001b[0;32m     21\u001b[0m makefeasible(newpop)\n\u001b[1;32m---> 22\u001b[0m newvals \u001b[38;5;241m=\u001b[39m np\u001b[38;5;241m.\u001b[39marray([\u001b[43mprob_callable\u001b[49m\u001b[43m(\u001b[49m\u001b[38;5;241;43m*\u001b[39;49m\u001b[43m[\u001b[49m\u001b[38;5;241;43m*\u001b[39;49m\u001b[43mx\u001b[49m\u001b[43m[\u001b[49m\u001b[38;5;241;43m0\u001b[39;49m\u001b[43m]\u001b[49m\u001b[43m,\u001b[49m\u001b[43m \u001b[49m\u001b[38;5;241;43m*\u001b[39;49m\u001b[43mx\u001b[49m\u001b[43m[\u001b[49m\u001b[38;5;241;43m1\u001b[39;49m\u001b[43m]\u001b[49m\u001b[43m]\u001b[49m\u001b[43m)\u001b[49m \u001b[38;5;28;01mfor\u001b[39;00m x \u001b[38;5;129;01min\u001b[39;00m newpop])\n\u001b[0;32m     23\u001b[0m pop, values \u001b[38;5;241m=\u001b[39m np\u001b[38;5;241m.\u001b[39mconcatenate(\n\u001b[0;32m     24\u001b[0m     (goodpop, newpop)), np\u001b[38;5;241m.\u001b[39mconcatenate((goodvals, newvals))\n\u001b[0;32m     25\u001b[0m \u001b[38;5;28;01mif\u001b[39;00m verbose \u001b[38;5;241m==\u001b[39m \u001b[38;5;124m\"\u001b[39m\u001b[38;5;124miters\u001b[39m\u001b[38;5;124m\"\u001b[39m:\n",
      "File \u001b[1;32mc:\\users\\dhulse\\documents\\github\\fmdtools\\fmdtools\\sim\\search.py:1252\u001b[0m, in \u001b[0;36mProblemArchitecture.add_objective_callable.<locals>.newobj\u001b[1;34m(*x)\u001b[0m\n\u001b[0;32m   1251\u001b[0m \u001b[38;5;28;01mdef\u001b[39;00m \u001b[38;5;21mnewobj\u001b[39m(\u001b[38;5;241m*\u001b[39mx):\n\u001b[1;32m-> 1252\u001b[0m     \u001b[38;5;28;01mreturn\u001b[39;00m \u001b[38;5;28;43mself\u001b[39;49m\u001b[38;5;241;43m.\u001b[39;49m\u001b[43mcall_objective\u001b[49m\u001b[43m(\u001b[49m\u001b[43mprobname\u001b[49m\u001b[43m,\u001b[49m\u001b[43m \u001b[49m\u001b[43mobjname\u001b[49m\u001b[43m,\u001b[49m\u001b[43m \u001b[49m\u001b[38;5;241;43m*\u001b[39;49m\u001b[43mx\u001b[49m\u001b[43m)\u001b[49m\n",
      "File \u001b[1;32mc:\\users\\dhulse\\documents\\github\\fmdtools\\fmdtools\\sim\\search.py:1317\u001b[0m, in \u001b[0;36mProblemArchitecture.call_objective\u001b[1;34m(self, probname, objname, *x_loc)\u001b[0m\n\u001b[0;32m   1315\u001b[0m \u001b[38;5;28;01mdef\u001b[39;00m \u001b[38;5;21mcall_objective\u001b[39m(\u001b[38;5;28mself\u001b[39m, probname, objname, \u001b[38;5;241m*\u001b[39mx_loc):\n\u001b[0;32m   1316\u001b[0m \u001b[38;5;250m    \u001b[39m\u001b[38;5;124;03m\"\"\"Call objective of a problem over partial its local variables *x_loc.\"\"\"\u001b[39;00m\n\u001b[1;32m-> 1317\u001b[0m     \u001b[38;5;28;43mself\u001b[39;49m\u001b[38;5;241;43m.\u001b[39;49m\u001b[43mupdate_problem\u001b[49m\u001b[43m(\u001b[49m\u001b[43mprobname\u001b[49m\u001b[43m,\u001b[49m\u001b[43m \u001b[49m\u001b[38;5;241;43m*\u001b[39;49m\u001b[43mx_loc\u001b[49m\u001b[43m)\u001b[49m\n\u001b[0;32m   1318\u001b[0m     \u001b[38;5;28;01mreturn\u001b[39;00m \u001b[38;5;28mself\u001b[39m\u001b[38;5;241m.\u001b[39mproblems[probname]\u001b[38;5;241m.\u001b[39mobjectives[objname]\u001b[38;5;241m.\u001b[39mvalue\n",
      "File \u001b[1;32mc:\\users\\dhulse\\documents\\github\\fmdtools\\fmdtools\\sim\\search.py:1428\u001b[0m, in \u001b[0;36mProblemArchitecture.update_problem\u001b[1;34m(self, probname, force_update, *x)\u001b[0m\n\u001b[0;32m   1426\u001b[0m     \u001b[38;5;28mself\u001b[39m\u001b[38;5;241m.\u001b[39mupdate_problem(upstream_prob, force_update\u001b[38;5;241m=\u001b[39mforce_update)\n\u001b[0;32m   1427\u001b[0m x_inputs \u001b[38;5;241m=\u001b[39m \u001b[38;5;28mself\u001b[39m\u001b[38;5;241m.\u001b[39mget_inputs_as_x(probname, \u001b[38;5;241m*\u001b[39mx)\n\u001b[1;32m-> 1428\u001b[0m \u001b[38;5;28;43mself\u001b[39;49m\u001b[38;5;241;43m.\u001b[39;49m\u001b[43mproblems\u001b[49m\u001b[43m[\u001b[49m\u001b[43mprobname\u001b[49m\u001b[43m]\u001b[49m\u001b[38;5;241;43m.\u001b[39;49m\u001b[43mcall_outputs\u001b[49m\u001b[43m(\u001b[49m\u001b[38;5;241;43m*\u001b[39;49m\u001b[43mx_inputs\u001b[49m\u001b[43m,\u001b[49m\u001b[43m \u001b[49m\u001b[43mforce_update\u001b[49m\u001b[38;5;241;43m=\u001b[39;49m\u001b[43mforce_update\u001b[49m\u001b[43m)\u001b[49m\n\u001b[0;32m   1429\u001b[0m \u001b[38;5;28mself\u001b[39m\u001b[38;5;241m.\u001b[39mproblems[probname]\u001b[38;5;241m.\u001b[39mconsistent \u001b[38;5;241m=\u001b[39m \u001b[38;5;28;01mTrue\u001b[39;00m\n\u001b[0;32m   1430\u001b[0m \u001b[38;5;28mself\u001b[39m\u001b[38;5;241m.\u001b[39mupdate_problem_objectives(probname)\n",
      "File \u001b[1;32mc:\\users\\dhulse\\documents\\github\\fmdtools\\fmdtools\\sim\\search.py:223\u001b[0m, in \u001b[0;36mBaseProblem.call_outputs\u001b[1;34m(self, force_update, *x)\u001b[0m\n\u001b[0;32m    207\u001b[0m \u001b[38;5;250m\u001b[39m\u001b[38;5;124;03m\"\"\"\u001b[39;00m\n\u001b[0;32m    208\u001b[0m \u001b[38;5;124;03mGet all outputs at the given value of x.\u001b[39;00m\n\u001b[0;32m    209\u001b[0m \n\u001b[1;32m   (...)\u001b[0m\n\u001b[0;32m    220\u001b[0m \u001b[38;5;124;03m    values of the constraints\u001b[39;00m\n\u001b[0;32m    221\u001b[0m \u001b[38;5;124;03m\"\"\"\u001b[39;00m\n\u001b[0;32m    222\u001b[0m \u001b[38;5;28;01mif\u001b[39;00m \u001b[38;5;28mself\u001b[39m\u001b[38;5;241m.\u001b[39mnew_x(\u001b[38;5;241m*\u001b[39mx) \u001b[38;5;129;01mor\u001b[39;00m force_update:\n\u001b[1;32m--> 223\u001b[0m     \u001b[38;5;28;43mself\u001b[39;49m\u001b[38;5;241;43m.\u001b[39;49m\u001b[43mupdate_objectives\u001b[49m\u001b[43m(\u001b[49m\u001b[38;5;241;43m*\u001b[39;49m\u001b[43mx\u001b[49m\u001b[43m)\u001b[49m\n\u001b[0;32m    224\u001b[0m \u001b[38;5;28;01mreturn\u001b[39;00m \u001b[38;5;28mself\u001b[39m\u001b[38;5;241m.\u001b[39mget_objectives(), \u001b[38;5;28mself\u001b[39m\u001b[38;5;241m.\u001b[39mget_constraints()\n",
      "File \u001b[1;32mc:\\users\\dhulse\\documents\\github\\fmdtools\\fmdtools\\sim\\search.py:579\u001b[0m, in \u001b[0;36mBaseSimProblem.update_objectives\u001b[1;34m(self, *x)\u001b[0m\n\u001b[0;32m    577\u001b[0m \u001b[38;5;250m\u001b[39m\u001b[38;5;124;03m\"\"\"Update objectives/constraints by simulating the model at x.\"\"\"\u001b[39;00m\n\u001b[0;32m    578\u001b[0m \u001b[38;5;28mself\u001b[39m\u001b[38;5;241m.\u001b[39mupdate_variables(\u001b[38;5;241m*\u001b[39mx)\n\u001b[1;32m--> 579\u001b[0m \u001b[38;5;28mself\u001b[39m\u001b[38;5;241m.\u001b[39mres, \u001b[38;5;28mself\u001b[39m\u001b[38;5;241m.\u001b[39mhist \u001b[38;5;241m=\u001b[39m \u001b[38;5;28;43mself\u001b[39;49m\u001b[38;5;241;43m.\u001b[39;49m\u001b[43msim_mdl\u001b[49m\u001b[43m(\u001b[49m\u001b[38;5;241;43m*\u001b[39;49m\u001b[43mx\u001b[49m\u001b[43m)\u001b[49m\n\u001b[0;32m    580\u001b[0m \u001b[38;5;28;01mfor\u001b[39;00m obj \u001b[38;5;129;01min\u001b[39;00m {\u001b[38;5;241m*\u001b[39m\u001b[38;5;241m*\u001b[39m\u001b[38;5;28mself\u001b[39m\u001b[38;5;241m.\u001b[39mobjectives, \u001b[38;5;241m*\u001b[39m\u001b[38;5;241m*\u001b[39m\u001b[38;5;28mself\u001b[39m\u001b[38;5;241m.\u001b[39mconstraints}\u001b[38;5;241m.\u001b[39mvalues():\n\u001b[0;32m    581\u001b[0m     \u001b[38;5;28;01mif\u001b[39;00m \u001b[38;5;28misinstance\u001b[39m(obj, HistoryObjective) \u001b[38;5;129;01mor\u001b[39;00m \u001b[38;5;28misinstance\u001b[39m(obj, HistoryConstraint):\n",
      "File \u001b[1;32mc:\\users\\dhulse\\documents\\github\\fmdtools\\fmdtools\\sim\\search.py:685\u001b[0m, in \u001b[0;36mParameterSimProblem.sim_mdl\u001b[1;34m(self, *x)\u001b[0m\n\u001b[0;32m    683\u001b[0m mdl_kwargs \u001b[38;5;241m=\u001b[39m {\u001b[38;5;124m'\u001b[39m\u001b[38;5;124mp\u001b[39m\u001b[38;5;124m'\u001b[39m: p, \u001b[38;5;124m'\u001b[39m\u001b[38;5;124msp\u001b[39m\u001b[38;5;124m'\u001b[39m: {\u001b[38;5;124m'\u001b[39m\u001b[38;5;124mend_time\u001b[39m\u001b[38;5;124m'\u001b[39m: end_time}}\n\u001b[0;32m    684\u001b[0m desired_result \u001b[38;5;241m=\u001b[39m \u001b[38;5;28mself\u001b[39m\u001b[38;5;241m.\u001b[39mobj_con_des_res()\n\u001b[1;32m--> 685\u001b[0m all_res \u001b[38;5;241m=\u001b[39m \u001b[38;5;28mself\u001b[39m\u001b[38;5;241m.\u001b[39mprop_method(\u001b[38;5;28mself\u001b[39m\u001b[38;5;241m.\u001b[39mmdl\u001b[38;5;241m.\u001b[39mnew(),\n\u001b[0;32m    686\u001b[0m                            \u001b[38;5;241m*\u001b[39m\u001b[38;5;28mself\u001b[39m\u001b[38;5;241m.\u001b[39margs,\n\u001b[0;32m    687\u001b[0m                            mdl_kwargs\u001b[38;5;241m=\u001b[39mmdl_kwargs,\n\u001b[0;32m    688\u001b[0m                            desired_result\u001b[38;5;241m=\u001b[39mdesired_result,\n\u001b[0;32m    689\u001b[0m                            showprogress\u001b[38;5;241m=\u001b[39m\u001b[38;5;28;01mFalse\u001b[39;00m,\n\u001b[0;32m    690\u001b[0m                            \u001b[38;5;241m*\u001b[39m\u001b[38;5;241m*\u001b[39m\u001b[38;5;28mself\u001b[39m\u001b[38;5;241m.\u001b[39mkwargs)\n\u001b[0;32m    691\u001b[0m \u001b[38;5;28;01mreturn\u001b[39;00m all_res[\u001b[38;5;241m0\u001b[39m]\u001b[38;5;241m.\u001b[39mflatten(), all_res[\u001b[38;5;241m1\u001b[39m]\u001b[38;5;241m.\u001b[39mflatten()\n",
      "File \u001b[1;32mc:\\users\\dhulse\\documents\\github\\fmdtools\\fmdtools\\sim\\propagate.py:598\u001b[0m, in \u001b[0;36mfault_sample\u001b[1;34m(mdl, fs, include_nominal, get_phasemap, **kwargs)\u001b[0m\n\u001b[0;32m    557\u001b[0m \u001b[38;5;250m\u001b[39m\u001b[38;5;124;03m\"\"\"\u001b[39;00m\n\u001b[0;32m    558\u001b[0m \u001b[38;5;124;03mInjects and propagates faults in the model defined by a FaultSample/SampleApproach.\u001b[39;00m\n\u001b[0;32m    559\u001b[0m \n\u001b[1;32m   (...)\u001b[0m\n\u001b[0;32m    595\u001b[0m \u001b[38;5;124;03m    A History dictionary with the tracked scenario (including the nominal)\u001b[39;00m\n\u001b[0;32m    596\u001b[0m \u001b[38;5;124;03m\"\"\"\u001b[39;00m\n\u001b[0;32m    597\u001b[0m kwargs\u001b[38;5;241m.\u001b[39mupdate(pack_run_kwargs(\u001b[38;5;241m*\u001b[39m\u001b[38;5;241m*\u001b[39mkwargs))\n\u001b[1;32m--> 598\u001b[0m n_outs \u001b[38;5;241m=\u001b[39m nom_helper(mdl,\n\u001b[0;32m    599\u001b[0m                     fs\u001b[38;5;241m.\u001b[39mtimes(),\n\u001b[0;32m    600\u001b[0m                     \u001b[38;5;241m*\u001b[39m\u001b[38;5;241m*\u001b[39m{\u001b[38;5;241m*\u001b[39m\u001b[38;5;241m*\u001b[39mkwargs, \u001b[38;5;124m'\u001b[39m\u001b[38;5;124muse_end_condition\u001b[39m\u001b[38;5;124m'\u001b[39m: \u001b[38;5;28;01mFalse\u001b[39;00m})\n\u001b[0;32m    601\u001b[0m nomresult, nomhist, nomscen, c_mdl, t_end_nom \u001b[38;5;241m=\u001b[39m n_outs\n\u001b[0;32m    602\u001b[0m scenlist \u001b[38;5;241m=\u001b[39m fs\u001b[38;5;241m.\u001b[39mscenarios()\n",
      "File \u001b[1;32mc:\\users\\dhulse\\documents\\github\\fmdtools\\fmdtools\\sim\\propagate.py:551\u001b[0m, in \u001b[0;36mnom_helper\u001b[1;34m(mdl, ctimes, protect, save_args, mdl_kwargs, scen, warn_faults, **kwargs)\u001b[0m\n\u001b[0;32m    548\u001b[0m     \u001b[38;5;28mprint\u001b[39m(\u001b[38;5;124m\"\u001b[39m\u001b[38;5;124mFaults found during the nominal run \u001b[39m\u001b[38;5;124m\"\u001b[39m \u001b[38;5;241m+\u001b[39m \u001b[38;5;28mstr\u001b[39m(endfaults))\n\u001b[0;32m    550\u001b[0m \u001b[38;5;28;01mif\u001b[39;00m \u001b[38;5;129;01mnot\u001b[39;00m staged:\n\u001b[1;32m--> 551\u001b[0m     mdls \u001b[38;5;241m=\u001b[39m {\u001b[38;5;241m0\u001b[39m: mdl\u001b[38;5;241m.\u001b[39mnew(\u001b[38;5;241m*\u001b[39m\u001b[38;5;241m*\u001b[39mmdl_kwargs)}\n\u001b[0;32m    553\u001b[0m \u001b[38;5;28;01mreturn\u001b[39;00m result, nommdlhist, nomscen, mdls, t_end_nom\n",
      "File \u001b[1;32mc:\\users\\dhulse\\documents\\github\\fmdtools\\fmdtools\\define\\block\\base.py:277\u001b[0m, in \u001b[0;36mSimulable.new\u001b[1;34m(self, **kwargs)\u001b[0m\n\u001b[0;32m    271\u001b[0m \u001b[38;5;28;01mdef\u001b[39;00m \u001b[38;5;21mnew\u001b[39m(\u001b[38;5;28mself\u001b[39m, \u001b[38;5;241m*\u001b[39m\u001b[38;5;241m*\u001b[39mkwargs):\n\u001b[0;32m    272\u001b[0m \u001b[38;5;250m    \u001b[39m\u001b[38;5;124;03m\"\"\"\u001b[39;00m\n\u001b[0;32m    273\u001b[0m \u001b[38;5;124;03m    Create a new Model with the same parameters as the current model.\u001b[39;00m\n\u001b[0;32m    274\u001b[0m \n\u001b[0;32m    275\u001b[0m \u001b[38;5;124;03m    Can initiate with with changes to mutable parameters (p, sp, track, rand etc.).\u001b[39;00m\n\u001b[0;32m    276\u001b[0m \u001b[38;5;124;03m    \"\"\"\u001b[39;00m\n\u001b[1;32m--> 277\u001b[0m     \u001b[38;5;28;01mreturn\u001b[39;00m \u001b[38;5;28mself\u001b[39m\u001b[38;5;241m.\u001b[39m\u001b[38;5;18m__class__\u001b[39m(name\u001b[38;5;241m=\u001b[39m\u001b[38;5;28mself\u001b[39m\u001b[38;5;241m.\u001b[39mname, \u001b[38;5;241m*\u001b[39m\u001b[38;5;241m*\u001b[39m\u001b[38;5;28mself\u001b[39m\u001b[38;5;241m.\u001b[39mnew_params(\u001b[38;5;241m*\u001b[39m\u001b[38;5;241m*\u001b[39mkwargs))\n",
      "File \u001b[1;32mc:\\users\\dhulse\\documents\\github\\fmdtools\\fmdtools\\define\\architecture\\function.py:121\u001b[0m, in \u001b[0;36mFunctionArchitecture.__init__\u001b[1;34m(self, h, **kwargs)\u001b[0m\n\u001b[0;32m    119\u001b[0m \u001b[38;5;28mself\u001b[39m\u001b[38;5;241m.\u001b[39m_fxnflows \u001b[38;5;241m=\u001b[39m []\n\u001b[0;32m    120\u001b[0m \u001b[38;5;28mself\u001b[39m\u001b[38;5;241m.\u001b[39m_flowstates \u001b[38;5;241m=\u001b[39m {}\n\u001b[1;32m--> 121\u001b[0m Architecture\u001b[38;5;241m.\u001b[39m\u001b[38;5;21m__init__\u001b[39m(\u001b[38;5;28mself\u001b[39m, h\u001b[38;5;241m=\u001b[39mh, \u001b[38;5;241m*\u001b[39m\u001b[38;5;241m*\u001b[39mkwargs)\n",
      "File \u001b[1;32mc:\\users\\dhulse\\documents\\github\\fmdtools\\fmdtools\\define\\architecture\\base.py:40\u001b[0m, in \u001b[0;36mArchitecture.__init__\u001b[1;34m(self, as_copy, h, *args, **kwargs)\u001b[0m\n\u001b[0;32m     38\u001b[0m \u001b[38;5;28mself\u001b[39m\u001b[38;5;241m.\u001b[39m_init_flexroles \u001b[38;5;241m=\u001b[39m []\n\u001b[0;32m     39\u001b[0m \u001b[38;5;28mself\u001b[39m\u001b[38;5;241m.\u001b[39minit_flexible_roles(\u001b[38;5;241m*\u001b[39m\u001b[38;5;241m*\u001b[39mkwargs)\n\u001b[1;32m---> 40\u001b[0m \u001b[38;5;28mself\u001b[39m\u001b[38;5;241m.\u001b[39minit_architecture(\u001b[38;5;241m*\u001b[39m\u001b[38;5;241m*\u001b[39mkwargs)\n\u001b[0;32m     41\u001b[0m \u001b[38;5;28mself\u001b[39m\u001b[38;5;241m.\u001b[39mbuild(\u001b[38;5;241m*\u001b[39m\u001b[38;5;241m*\u001b[39mkwargs)\n",
      "File \u001b[1;32m~\\Documents\\GitHub\\fmdtools\\examples\\tank\\tank_optimization_model.py:201\u001b[0m, in \u001b[0;36mTank.init_architecture\u001b[1;34m(self, **kwargs)\u001b[0m\n\u001b[0;32m    197\u001b[0m \u001b[38;5;28mself\u001b[39m\u001b[38;5;241m.\u001b[39madd_flow(\u001b[38;5;124m'\u001b[39m\u001b[38;5;124moutput_sig\u001b[39m\u001b[38;5;124m'\u001b[39m, Signal)\n\u001b[0;32m    199\u001b[0m \u001b[38;5;28mself\u001b[39m\u001b[38;5;241m.\u001b[39madd_fxn(\u001b[38;5;124m'\u001b[39m\u001b[38;5;124mimport_coolant\u001b[39m\u001b[38;5;124m'\u001b[39m, ImportLiquid,\n\u001b[0;32m    200\u001b[0m              \u001b[38;5;124m'\u001b[39m\u001b[38;5;124mcoolant_in\u001b[39m\u001b[38;5;124m'\u001b[39m, \u001b[38;5;124m'\u001b[39m\u001b[38;5;124minput_sig\u001b[39m\u001b[38;5;124m'\u001b[39m, p\u001b[38;5;241m=\u001b[39m\u001b[38;5;28mself\u001b[39m\u001b[38;5;241m.\u001b[39mp)\n\u001b[1;32m--> 201\u001b[0m \u001b[38;5;28;43mself\u001b[39;49m\u001b[38;5;241;43m.\u001b[39;49m\u001b[43madd_fxn\u001b[49m\u001b[43m(\u001b[49m\u001b[38;5;124;43m'\u001b[39;49m\u001b[38;5;124;43mstore_coolant\u001b[39;49m\u001b[38;5;124;43m'\u001b[39;49m\u001b[43m,\u001b[49m\u001b[43m \u001b[49m\u001b[43mStoreLiquid\u001b[49m\u001b[43m,\u001b[49m\n\u001b[0;32m    202\u001b[0m \u001b[43m             \u001b[49m\u001b[38;5;124;43m'\u001b[39;49m\u001b[38;5;124;43mcoolant_in\u001b[39;49m\u001b[38;5;124;43m'\u001b[39;49m\u001b[43m,\u001b[49m\u001b[43m \u001b[49m\u001b[38;5;124;43m'\u001b[39;49m\u001b[38;5;124;43mcoolant_out\u001b[39;49m\u001b[38;5;124;43m'\u001b[39;49m\u001b[43m,\u001b[49m\u001b[43m \u001b[49m\u001b[38;5;124;43m'\u001b[39;49m\u001b[38;5;124;43mtank_sig\u001b[39;49m\u001b[38;5;124;43m'\u001b[39;49m\u001b[43m,\u001b[49m\n\u001b[0;32m    203\u001b[0m \u001b[43m             \u001b[49m\u001b[43mp\u001b[49m\u001b[38;5;241;43m=\u001b[39;49m\u001b[38;5;28;43mself\u001b[39;49m\u001b[38;5;241;43m.\u001b[39;49m\u001b[43mp\u001b[49m\u001b[43m,\u001b[49m\n\u001b[0;32m    204\u001b[0m \u001b[43m             \u001b[49m\u001b[43ms\u001b[49m\u001b[38;5;241;43m=\u001b[39;49m\u001b[43m{\u001b[49m\u001b[38;5;124;43m'\u001b[39;49m\u001b[38;5;124;43mlevel\u001b[39;49m\u001b[38;5;124;43m'\u001b[39;49m\u001b[43m:\u001b[49m\u001b[43m \u001b[49m\u001b[38;5;28;43mself\u001b[39;49m\u001b[38;5;241;43m.\u001b[39;49m\u001b[43mp\u001b[49m\u001b[38;5;241;43m.\u001b[39;49m\u001b[43mcapacity\u001b[49m\u001b[38;5;241;43m/\u001b[39;49m\u001b[38;5;241;43m2\u001b[39;49m\u001b[43m,\u001b[49m\u001b[43m \u001b[49m\u001b[38;5;124;43m'\u001b[39;49m\u001b[38;5;124;43mcoolingbuffer\u001b[39;49m\u001b[38;5;124;43m'\u001b[39;49m\u001b[43m:\u001b[49m\u001b[43m \u001b[49m\u001b[38;5;28;43mself\u001b[39;49m\u001b[38;5;241;43m.\u001b[39;49m\u001b[43mp\u001b[49m\u001b[38;5;241;43m.\u001b[39;49m\u001b[43mcapacity\u001b[49m\u001b[38;5;241;43m/\u001b[39;49m\u001b[38;5;241;43m2\u001b[39;49m\u001b[43m}\u001b[49m\u001b[43m)\u001b[49m\n\u001b[0;32m    206\u001b[0m \u001b[38;5;28mself\u001b[39m\u001b[38;5;241m.\u001b[39madd_fxn(\u001b[38;5;124m'\u001b[39m\u001b[38;5;124mexport_coolant\u001b[39m\u001b[38;5;124m'\u001b[39m, ExportLiquid,\n\u001b[0;32m    207\u001b[0m              \u001b[38;5;124m'\u001b[39m\u001b[38;5;124mcoolant_out\u001b[39m\u001b[38;5;124m'\u001b[39m, \u001b[38;5;124m'\u001b[39m\u001b[38;5;124moutput_sig\u001b[39m\u001b[38;5;124m'\u001b[39m,\n\u001b[0;32m    208\u001b[0m              p\u001b[38;5;241m=\u001b[39m\u001b[38;5;28mself\u001b[39m\u001b[38;5;241m.\u001b[39mp)\n\u001b[0;32m    209\u001b[0m \u001b[38;5;28mself\u001b[39m\u001b[38;5;241m.\u001b[39madd_fxn(\u001b[38;5;124m'\u001b[39m\u001b[38;5;124mcontingency\u001b[39m\u001b[38;5;124m'\u001b[39m, ContingencyActions,\n\u001b[0;32m    210\u001b[0m              \u001b[38;5;124m'\u001b[39m\u001b[38;5;124minput_sig\u001b[39m\u001b[38;5;124m'\u001b[39m, \u001b[38;5;124m'\u001b[39m\u001b[38;5;124mtank_sig\u001b[39m\u001b[38;5;124m'\u001b[39m, \u001b[38;5;124m'\u001b[39m\u001b[38;5;124moutput_sig\u001b[39m\u001b[38;5;124m'\u001b[39m, p\u001b[38;5;241m=\u001b[39m\u001b[38;5;28mself\u001b[39m\u001b[38;5;241m.\u001b[39mp)\n",
      "File \u001b[1;32mc:\\users\\dhulse\\documents\\github\\fmdtools\\fmdtools\\define\\architecture\\function.py:162\u001b[0m, in \u001b[0;36mFunctionArchitecture.add_fxn\u001b[1;34m(self, name, fclass, *flownames, **fkwargs)\u001b[0m\n\u001b[0;32m    144\u001b[0m \u001b[38;5;28;01mdef\u001b[39;00m \u001b[38;5;21madd_fxn\u001b[39m(\u001b[38;5;28mself\u001b[39m, name, fclass, \u001b[38;5;241m*\u001b[39mflownames, \u001b[38;5;241m*\u001b[39m\u001b[38;5;241m*\u001b[39mfkwargs):\n\u001b[0;32m    145\u001b[0m \u001b[38;5;250m    \u001b[39m\u001b[38;5;124;03m\"\"\"\u001b[39;00m\n\u001b[0;32m    146\u001b[0m \u001b[38;5;124;03m    Instantiate a given function in the model.\u001b[39;00m\n\u001b[0;32m    147\u001b[0m \n\u001b[1;32m   (...)\u001b[0m\n\u001b[0;32m    160\u001b[0m \u001b[38;5;124;03m        Parameters to send to __init__ method of the Function superclass\u001b[39;00m\n\u001b[0;32m    161\u001b[0m \u001b[38;5;124;03m    \"\"\"\u001b[39;00m\n\u001b[1;32m--> 162\u001b[0m     \u001b[38;5;28mself\u001b[39m\u001b[38;5;241m.\u001b[39madd_sim(\u001b[38;5;124m'\u001b[39m\u001b[38;5;124mfxns\u001b[39m\u001b[38;5;124m'\u001b[39m, name, fclass, \u001b[38;5;241m*\u001b[39mflownames, \u001b[38;5;241m*\u001b[39m\u001b[38;5;241m*\u001b[39mfkwargs)\n\u001b[0;32m    163\u001b[0m     \u001b[38;5;28;01mfor\u001b[39;00m flowname \u001b[38;5;129;01min\u001b[39;00m flownames:\n\u001b[0;32m    164\u001b[0m         \u001b[38;5;28mself\u001b[39m\u001b[38;5;241m.\u001b[39m_fxnflows\u001b[38;5;241m.\u001b[39mappend((name, flowname))\n",
      "File \u001b[1;32mc:\\users\\dhulse\\documents\\github\\fmdtools\\fmdtools\\define\\architecture\\base.py:184\u001b[0m, in \u001b[0;36mArchitecture.add_sim\u001b[1;34m(self, flex_role, name, simclass, *flownames, **kwargs)\u001b[0m\n\u001b[0;32m    181\u001b[0m \u001b[38;5;28;01mif\u001b[39;00m \u001b[38;5;129;01mnot\u001b[39;00m \u001b[38;5;28mself\u001b[39m\u001b[38;5;241m.\u001b[39msp\u001b[38;5;241m.\u001b[39muse_local:\n\u001b[0;32m    182\u001b[0m     fkwargs \u001b[38;5;241m=\u001b[39m {\u001b[38;5;241m*\u001b[39m\u001b[38;5;241m*\u001b[39m{\u001b[38;5;124m'\u001b[39m\u001b[38;5;124mt\u001b[39m\u001b[38;5;124m'\u001b[39m: {\u001b[38;5;124m'\u001b[39m\u001b[38;5;124mdt\u001b[39m\u001b[38;5;124m'\u001b[39m: \u001b[38;5;28mself\u001b[39m\u001b[38;5;241m.\u001b[39msp\u001b[38;5;241m.\u001b[39mdt}}, \u001b[38;5;241m*\u001b[39m\u001b[38;5;241m*\u001b[39mfkwargs}\n\u001b[1;32m--> 184\u001b[0m \u001b[38;5;28mself\u001b[39m\u001b[38;5;241m.\u001b[39madd_flex_role_obj(flex_role, name, objclass\u001b[38;5;241m=\u001b[39msimclass, flows\u001b[38;5;241m=\u001b[39mflows, \u001b[38;5;241m*\u001b[39m\u001b[38;5;241m*\u001b[39mfkwargs)\n",
      "File \u001b[1;32mc:\\users\\dhulse\\documents\\github\\fmdtools\\fmdtools\\define\\architecture\\base.py:105\u001b[0m, in \u001b[0;36mArchitecture.add_flex_role_obj\u001b[1;34m(self, flex_role, name, objclass, use_copy, **kwargs)\u001b[0m\n\u001b[0;32m    102\u001b[0m     as_copy \u001b[38;5;241m=\u001b[39m \u001b[38;5;28mself\u001b[39m\u001b[38;5;241m.\u001b[39mas_copy\n\u001b[0;32m    104\u001b[0m track \u001b[38;5;241m=\u001b[39m get_sub_include(name, get_sub_include(flex_role, \u001b[38;5;28mself\u001b[39m\u001b[38;5;241m.\u001b[39mtrack))\n\u001b[1;32m--> 105\u001b[0m obj \u001b[38;5;241m=\u001b[39m init_obj(name\u001b[38;5;241m=\u001b[39mname, objclass\u001b[38;5;241m=\u001b[39mobjclass, track\u001b[38;5;241m=\u001b[39mtrack,\n\u001b[0;32m    106\u001b[0m                as_copy\u001b[38;5;241m=\u001b[39mas_copy, \u001b[38;5;241m*\u001b[39m\u001b[38;5;241m*\u001b[39mkwargs)\n\u001b[0;32m    108\u001b[0m \u001b[38;5;28;01mif\u001b[39;00m \u001b[38;5;28mhasattr\u001b[39m(obj, \u001b[38;5;124m'\u001b[39m\u001b[38;5;124mh\u001b[39m\u001b[38;5;124m'\u001b[39m) \u001b[38;5;129;01mand\u001b[39;00m obj\u001b[38;5;241m.\u001b[39mh:\n\u001b[0;32m    109\u001b[0m     hist \u001b[38;5;241m=\u001b[39m obj\u001b[38;5;241m.\u001b[39mh\n",
      "File \u001b[1;32mc:\\users\\dhulse\\documents\\github\\fmdtools\\fmdtools\\define\\object\\base.py:518\u001b[0m, in \u001b[0;36minit_obj\u001b[1;34m(name, objclass, track, as_copy, **kwargs)\u001b[0m\n\u001b[0;32m    516\u001b[0m \u001b[38;5;28;01melse\u001b[39;00m:\n\u001b[0;32m    517\u001b[0m     \u001b[38;5;28;01mtry\u001b[39;00m:\n\u001b[1;32m--> 518\u001b[0m         fl \u001b[38;5;241m=\u001b[39m objclass(name\u001b[38;5;241m=\u001b[39mname, track\u001b[38;5;241m=\u001b[39mtrack, \u001b[38;5;241m*\u001b[39m\u001b[38;5;241m*\u001b[39mkwargs)\n\u001b[0;32m    519\u001b[0m     \u001b[38;5;28;01mexcept\u001b[39;00m \u001b[38;5;167;01mTypeError\u001b[39;00m \u001b[38;5;28;01mas\u001b[39;00m e:\n\u001b[0;32m    520\u001b[0m         \u001b[38;5;28;01mraise\u001b[39;00m \u001b[38;5;167;01mTypeError\u001b[39;00m(\u001b[38;5;124m\"\u001b[39m\u001b[38;5;124mPoorly specified class \u001b[39m\u001b[38;5;124m\"\u001b[39m\u001b[38;5;241m+\u001b[39m\u001b[38;5;28mstr\u001b[39m(objclass) \u001b[38;5;241m+\u001b[39m\n\u001b[0;32m    521\u001b[0m                         \u001b[38;5;124m\"\u001b[39m\u001b[38;5;124m (or poor arguments) \u001b[39m\u001b[38;5;124m\"\u001b[39m\u001b[38;5;241m+\u001b[39m\u001b[38;5;28mstr\u001b[39m(kwargs)) \u001b[38;5;28;01mfrom\u001b[39;00m \u001b[38;5;21;01me\u001b[39;00m\n",
      "File \u001b[1;32mc:\\users\\dhulse\\documents\\github\\fmdtools\\fmdtools\\define\\block\\function.py:66\u001b[0m, in \u001b[0;36mFunction.__init__\u001b[1;34m(self, name, args_f, **kwargs)\u001b[0m\n\u001b[0;32m     57\u001b[0m \u001b[38;5;28;01mdef\u001b[39;00m \u001b[38;5;21m__init__\u001b[39m(\u001b[38;5;28mself\u001b[39m, name\u001b[38;5;241m=\u001b[39m\u001b[38;5;28;01mNone\u001b[39;00m, args_f\u001b[38;5;241m=\u001b[39m\u001b[38;5;28mdict\u001b[39m(), \u001b[38;5;241m*\u001b[39m\u001b[38;5;241m*\u001b[39mkwargs):\n\u001b[0;32m     58\u001b[0m \u001b[38;5;250m    \u001b[39m\u001b[38;5;124;03m\"\"\"\u001b[39;00m\n\u001b[0;32m     59\u001b[0m \u001b[38;5;124;03m    Instantiate the function superclass with the relevant parameters.\u001b[39;00m\n\u001b[0;32m     60\u001b[0m \n\u001b[1;32m   (...)\u001b[0m\n\u001b[0;32m     64\u001b[0m \u001b[38;5;124;03m        arguments to pass to custom __init__ function.\u001b[39;00m\n\u001b[0;32m     65\u001b[0m \u001b[38;5;124;03m    \"\"\"\u001b[39;00m\n\u001b[1;32m---> 66\u001b[0m     \u001b[38;5;28msuper\u001b[39m()\u001b[38;5;241m.\u001b[39m\u001b[38;5;21m__init__\u001b[39m(name\u001b[38;5;241m=\u001b[39mname, \u001b[38;5;241m*\u001b[39m\u001b[38;5;241m*\u001b[39mkwargs)\n\u001b[0;32m     67\u001b[0m     \u001b[38;5;28mself\u001b[39m\u001b[38;5;241m.\u001b[39margs_f \u001b[38;5;241m=\u001b[39m args_f\n",
      "File \u001b[1;32mc:\\users\\dhulse\\documents\\github\\fmdtools\\fmdtools\\define\\block\\base.py:442\u001b[0m, in \u001b[0;36mBlock.__init__\u001b[1;34m(self, name, flows, h, **kwargs)\u001b[0m\n\u001b[0;32m    439\u001b[0m     flows \u001b[38;5;241m=\u001b[39m {\u001b[38;5;28mself\u001b[39m\u001b[38;5;241m.\u001b[39mflownames\u001b[38;5;241m.\u001b[39mget(fn, fn): flow \u001b[38;5;28;01mfor\u001b[39;00m fn, flow \u001b[38;5;129;01min\u001b[39;00m flows\u001b[38;5;241m.\u001b[39mitems()}\n\u001b[0;32m    440\u001b[0m flows \u001b[38;5;241m=\u001b[39m {\u001b[38;5;241m*\u001b[39m\u001b[38;5;241m*\u001b[39mflows}\n\u001b[1;32m--> 442\u001b[0m Simulable\u001b[38;5;241m.\u001b[39m\u001b[38;5;21m__init__\u001b[39m(\u001b[38;5;28mself\u001b[39m, name\u001b[38;5;241m=\u001b[39mname, roletypes\u001b[38;5;241m=\u001b[39m[\u001b[38;5;124m'\u001b[39m\u001b[38;5;124mcontainer\u001b[39m\u001b[38;5;124m'\u001b[39m, \u001b[38;5;124m'\u001b[39m\u001b[38;5;124mflow\u001b[39m\u001b[38;5;124m'\u001b[39m],\n\u001b[0;32m    443\u001b[0m                    \u001b[38;5;241m*\u001b[39m\u001b[38;5;241m*\u001b[39mflows, \u001b[38;5;241m*\u001b[39m\u001b[38;5;241m*\u001b[39mkwargs)\n\u001b[0;32m    444\u001b[0m \u001b[38;5;66;03m# send flows from block level to arch level\u001b[39;00m\n\u001b[0;32m    445\u001b[0m \u001b[38;5;28;01mif\u001b[39;00m \u001b[38;5;124m'\u001b[39m\u001b[38;5;124march\u001b[39m\u001b[38;5;124m'\u001b[39m \u001b[38;5;129;01min\u001b[39;00m \u001b[38;5;28mself\u001b[39m\u001b[38;5;241m.\u001b[39mroletypes:\n",
      "File \u001b[1;32mc:\\users\\dhulse\\documents\\github\\fmdtools\\fmdtools\\define\\block\\base.py:184\u001b[0m, in \u001b[0;36mSimulable.__init__\u001b[1;34m(self, sp, **kwargs)\u001b[0m\n\u001b[0;32m    173\u001b[0m \u001b[38;5;250m\u001b[39m\u001b[38;5;124;03m\"\"\"\u001b[39;00m\n\u001b[0;32m    174\u001b[0m \u001b[38;5;124;03mInstantiate internal Simulable attributes.\u001b[39;00m\n\u001b[0;32m    175\u001b[0m \n\u001b[1;32m   (...)\u001b[0m\n\u001b[0;32m    181\u001b[0m \u001b[38;5;124;03m    Keyword arguments to BaseObject\u001b[39;00m\n\u001b[0;32m    182\u001b[0m \u001b[38;5;124;03m\"\"\"\u001b[39;00m\n\u001b[0;32m    183\u001b[0m loc_kwargs \u001b[38;5;241m=\u001b[39m {\u001b[38;5;241m*\u001b[39m\u001b[38;5;241m*\u001b[39mkwargs, \u001b[38;5;124m'\u001b[39m\u001b[38;5;124msp\u001b[39m\u001b[38;5;124m'\u001b[39m: {\u001b[38;5;241m*\u001b[39m\u001b[38;5;241m*\u001b[39m\u001b[38;5;28mself\u001b[39m\u001b[38;5;241m.\u001b[39mdefault_sp, \u001b[38;5;241m*\u001b[39m\u001b[38;5;241m*\u001b[39msp}}\n\u001b[1;32m--> 184\u001b[0m BaseObject\u001b[38;5;241m.\u001b[39m\u001b[38;5;21m__init__\u001b[39m(\u001b[38;5;28mself\u001b[39m, \u001b[38;5;241m*\u001b[39m\u001b[38;5;241m*\u001b[39mloc_kwargs)\n",
      "File \u001b[1;32mc:\\users\\dhulse\\documents\\github\\fmdtools\\fmdtools\\define\\object\\base.py:130\u001b[0m, in \u001b[0;36mBaseObject.__init__\u001b[1;34m(self, name, roletypes, track, **kwargs)\u001b[0m\n\u001b[0;32m    128\u001b[0m     \u001b[38;5;28mself\u001b[39m\u001b[38;5;241m.\u001b[39mname \u001b[38;5;241m=\u001b[39m name\n\u001b[0;32m    129\u001b[0m \u001b[38;5;28mself\u001b[39m\u001b[38;5;241m.\u001b[39minit_indicators()\n\u001b[1;32m--> 130\u001b[0m \u001b[38;5;28mself\u001b[39m\u001b[38;5;241m.\u001b[39minit_roletypes(\u001b[38;5;241m*\u001b[39mroletypes, \u001b[38;5;241m*\u001b[39m\u001b[38;5;241m*\u001b[39mkwargs)\n\u001b[0;32m    131\u001b[0m \u001b[38;5;28mself\u001b[39m\u001b[38;5;241m.\u001b[39minit_track(track)\n",
      "File \u001b[1;32mc:\\users\\dhulse\\documents\\github\\fmdtools\\fmdtools\\define\\object\\base.py:176\u001b[0m, in \u001b[0;36mBaseObject.init_roletypes\u001b[1;34m(self, *roletypes, **kwargs)\u001b[0m\n\u001b[0;32m    173\u001b[0m \u001b[38;5;28;01mif\u001b[39;00m roletype \u001b[38;5;129;01mnot\u001b[39;00m \u001b[38;5;129;01min\u001b[39;00m \u001b[38;5;28mself\u001b[39m\u001b[38;5;241m.\u001b[39mroletypes:\n\u001b[0;32m    174\u001b[0m     \u001b[38;5;28;01mraise\u001b[39;00m \u001b[38;5;167;01mException\u001b[39;00m(\u001b[38;5;124m\"\u001b[39m\u001b[38;5;124mRoletype: \u001b[39m\u001b[38;5;124m\"\u001b[39m \u001b[38;5;241m+\u001b[39m roletype \u001b[38;5;241m+\u001b[39m \u001b[38;5;124m\"\u001b[39m\u001b[38;5;124m not in class variable\u001b[39m\u001b[38;5;124m\"\u001b[39m \u001b[38;5;241m+\u001b[39m\n\u001b[0;32m    175\u001b[0m                     \u001b[38;5;124m\"\u001b[39m\u001b[38;5;124m self.roletypes: \u001b[39m\u001b[38;5;124m\"\u001b[39m \u001b[38;5;241m+\u001b[39m \u001b[38;5;28mstr\u001b[39m(\u001b[38;5;28mself\u001b[39m\u001b[38;5;241m.\u001b[39mroletypes))\n\u001b[1;32m--> 176\u001b[0m \u001b[38;5;28mself\u001b[39m\u001b[38;5;241m.\u001b[39minit_roles(roletype, \u001b[38;5;241m*\u001b[39m\u001b[38;5;241m*\u001b[39mkwargs)\n",
      "File \u001b[1;32mc:\\users\\dhulse\\documents\\github\\fmdtools\\fmdtools\\define\\object\\base.py:212\u001b[0m, in \u001b[0;36mBaseObject.init_roles\u001b[1;34m(self, roletype, **kwargs)\u001b[0m\n\u001b[0;32m    210\u001b[0m \u001b[38;5;28;01melif\u001b[39;00m \u001b[38;5;28misinstance\u001b[39m(container_args, \u001b[38;5;28mdict\u001b[39m):\n\u001b[0;32m    211\u001b[0m     \u001b[38;5;28;01mtry\u001b[39;00m:\n\u001b[1;32m--> 212\u001b[0m         container \u001b[38;5;241m=\u001b[39m container_initializer(\u001b[38;5;241m*\u001b[39m\u001b[38;5;241m*\u001b[39mcontainer_args)\n\u001b[0;32m    213\u001b[0m     \u001b[38;5;28;01mexcept\u001b[39;00m \u001b[38;5;167;01mAttributeError\u001b[39;00m \u001b[38;5;28;01mas\u001b[39;00m ae:\n\u001b[0;32m    214\u001b[0m         \u001b[38;5;28;01mraise\u001b[39;00m \u001b[38;5;167;01mException\u001b[39;00m(\u001b[38;5;124m\"\u001b[39m\u001b[38;5;124mProblem initializing \u001b[39m\u001b[38;5;124m\"\u001b[39m \u001b[38;5;241m+\u001b[39m roletype \u001b[38;5;241m+\u001b[39m \u001b[38;5;124m\"\u001b[39m\u001b[38;5;124m_\u001b[39m\u001b[38;5;124m\"\u001b[39m \u001b[38;5;241m+\u001b[39m rolename\n\u001b[0;32m    215\u001b[0m                         \u001b[38;5;241m+\u001b[39m \u001b[38;5;124m\"\u001b[39m\u001b[38;5;124m: \u001b[39m\u001b[38;5;124m\"\u001b[39m \u001b[38;5;241m+\u001b[39m \u001b[38;5;28mstr\u001b[39m(container_initializer)) \u001b[38;5;28;01mfrom\u001b[39;00m \u001b[38;5;21;01mae\u001b[39;00m\n",
      "File \u001b[1;32mc:\\users\\dhulse\\documents\\github\\fmdtools\\fmdtools\\define\\block\\base.py:67\u001b[0m, in \u001b[0;36mSimParam.__init__\u001b[1;34m(self, *args, **kwargs)\u001b[0m\n\u001b[0;32m     65\u001b[0m     kwargs[\u001b[38;5;124m'\u001b[39m\u001b[38;5;124mphases\u001b[39m\u001b[38;5;124m'\u001b[39m] \u001b[38;5;241m=\u001b[39m p\n\u001b[0;32m     66\u001b[0m \u001b[38;5;28msuper\u001b[39m()\u001b[38;5;241m.\u001b[39m\u001b[38;5;21m__init__\u001b[39m(\u001b[38;5;241m*\u001b[39margs, \u001b[38;5;241m*\u001b[39m\u001b[38;5;241m*\u001b[39mkwargs)\n\u001b[1;32m---> 67\u001b[0m \u001b[38;5;28;43mself\u001b[39;49m\u001b[38;5;241;43m.\u001b[39;49m\u001b[43mfind_any_phase_overlap\u001b[49m\u001b[43m(\u001b[49m\u001b[43m)\u001b[49m\n",
      "File \u001b[1;32mc:\\users\\dhulse\\documents\\github\\fmdtools\\fmdtools\\define\\block\\base.py:73\u001b[0m, in \u001b[0;36mSimParam.find_any_phase_overlap\u001b[1;34m(self)\u001b[0m\n\u001b[0;32m     71\u001b[0m phase_dict \u001b[38;5;241m=\u001b[39m {v[\u001b[38;5;241m0\u001b[39m]: [v[\u001b[38;5;241m1\u001b[39m], v[\u001b[38;5;241m2\u001b[39m]] \u001b[38;5;28;01mfor\u001b[39;00m v \u001b[38;5;129;01min\u001b[39;00m \u001b[38;5;28mself\u001b[39m\u001b[38;5;241m.\u001b[39mphases}\n\u001b[0;32m     72\u001b[0m intervals \u001b[38;5;241m=\u001b[39m [\u001b[38;5;241m*\u001b[39mphase_dict\u001b[38;5;241m.\u001b[39mvalues()]\n\u001b[1;32m---> 73\u001b[0m int_low \u001b[38;5;241m=\u001b[39m \u001b[43mnp\u001b[49m\u001b[38;5;241;43m.\u001b[39;49m\u001b[43msort\u001b[49m\u001b[43m(\u001b[49m\u001b[43m[\u001b[49m\u001b[43mi\u001b[49m\u001b[43m[\u001b[49m\u001b[38;5;241;43m0\u001b[39;49m\u001b[43m]\u001b[49m\u001b[43m \u001b[49m\u001b[38;5;28;43;01mfor\u001b[39;49;00m\u001b[43m \u001b[49m\u001b[43mi\u001b[49m\u001b[43m \u001b[49m\u001b[38;5;129;43;01min\u001b[39;49;00m\u001b[43m \u001b[49m\u001b[43mintervals\u001b[49m\u001b[43m]\u001b[49m\u001b[43m)\u001b[49m\n\u001b[0;32m     74\u001b[0m int_high \u001b[38;5;241m=\u001b[39m np\u001b[38;5;241m.\u001b[39msort([i[\u001b[38;5;241m1\u001b[39m] \u001b[38;5;28;01mif\u001b[39;00m \u001b[38;5;28mlen\u001b[39m(i) \u001b[38;5;241m==\u001b[39m \u001b[38;5;241m2\u001b[39m \u001b[38;5;28;01melse\u001b[39;00m i[\u001b[38;5;241m0\u001b[39m] \u001b[38;5;28;01mfor\u001b[39;00m i \u001b[38;5;129;01min\u001b[39;00m intervals])\n\u001b[0;32m     75\u001b[0m \u001b[38;5;28;01mfor\u001b[39;00m i, il \u001b[38;5;129;01min\u001b[39;00m \u001b[38;5;28menumerate\u001b[39m(int_low):\n",
      "File \u001b[1;32m~\\AppData\\Roaming\\Python\\Python310\\site-packages\\numpy\\core\\fromnumeric.py:1017\u001b[0m, in \u001b[0;36msort\u001b[1;34m(a, axis, kind, order)\u001b[0m\n\u001b[0;32m   1015\u001b[0m \u001b[38;5;28;01melse\u001b[39;00m:\n\u001b[0;32m   1016\u001b[0m     a \u001b[38;5;241m=\u001b[39m asanyarray(a)\u001b[38;5;241m.\u001b[39mcopy(order\u001b[38;5;241m=\u001b[39m\u001b[38;5;124m\"\u001b[39m\u001b[38;5;124mK\u001b[39m\u001b[38;5;124m\"\u001b[39m)\n\u001b[1;32m-> 1017\u001b[0m \u001b[43ma\u001b[49m\u001b[38;5;241;43m.\u001b[39;49m\u001b[43msort\u001b[49m\u001b[43m(\u001b[49m\u001b[43maxis\u001b[49m\u001b[38;5;241;43m=\u001b[39;49m\u001b[43maxis\u001b[49m\u001b[43m,\u001b[49m\u001b[43m \u001b[49m\u001b[43mkind\u001b[49m\u001b[38;5;241;43m=\u001b[39;49m\u001b[43mkind\u001b[49m\u001b[43m,\u001b[49m\u001b[43m \u001b[49m\u001b[43morder\u001b[49m\u001b[38;5;241;43m=\u001b[39;49m\u001b[43morder\u001b[49m\u001b[43m)\u001b[49m\n\u001b[0;32m   1018\u001b[0m \u001b[38;5;28;01mreturn\u001b[39;00m a\n",
      "\u001b[1;31mKeyboardInterrupt\u001b[0m: "
     ]
    }
   ],
   "source": [
    "result, args, fhist, thist, xdhist = alternating_opt(pa.tot_tot_cost_full, pa.des_cd, pa.res_cr, max_alts=1)"
   ]
  },
  {
   "cell_type": "markdown",
   "metadata": {},
   "source": [
    "#### Bilevel Optimization:\n",
    "\n",
    "Additionally, a bilevel optimization would look like this:"
   ]
  },
  {
   "cell_type": "markdown",
   "metadata": {},
   "source": [
    "Bilevel optimizations have a lower level which is called repeatedly, see below:"
   ]
  },
  {
   "cell_type": "code",
   "execution_count": null,
   "metadata": {},
   "outputs": [],
   "source": [
    "def lower_level(xdes, args= {}):\n",
    "    if not args:\n",
    "        args = {'seed': seedpop(), 'll_opt': 1e6, 'll_optx': [], 'fhist': []}\n",
    "    do_cost = pa.des_cd(*xdes)\n",
    "    bestsol, rcost = EA(pa.res_cr, popsize=20, mutations=6, crossovers=4, numselect=6, args=args)\n",
    "    f = do_cost + rcost\n",
    "    args['fhist'].append(f)\n",
    "    print(' fval: '+str(f)+' xdes: '+str(xdes))\n",
    "    return f"
   ]
  },
  {
   "cell_type": "code",
   "execution_count": null,
   "metadata": {},
   "outputs": [],
   "source": [
    "lower_level([1,1])"
   ]
  },
  {
   "cell_type": "markdown",
   "metadata": {},
   "source": [
    "This is then called in bilevel_opt:"
   ]
  },
  {
   "cell_type": "code",
   "execution_count": 128,
   "metadata": {
    "execution": {
     "iopub.execute_input": "2023-08-11T03:20:12.447278Z",
     "iopub.status.busy": "2023-08-11T03:20:12.447278Z",
     "iopub.status.idle": "2023-08-11T03:20:12.462871Z",
     "shell.execute_reply": "2023-08-11T03:20:12.462871Z"
    }
   },
   "outputs": [],
   "source": [
    "def bilevel_opt(xdes=[21, .5], maxiter=1000):\n",
    "    args = {'seed': seedpop(), 'll_opt': 1e6, 'll_optx': [], 'fhist': [],\n",
    "            'thist': [], 'xdhist': [xdes]}\n",
    "    result = minimize(lower_level,\n",
    "                      xdes,\n",
    "                      method='Nelder-Mead',\n",
    "                      bounds=((10, 100), (0, 1)),\n",
    "                      callback=callbackF1,\n",
    "                      args=args,\n",
    "                      options={'disp': True, 'adaptive': True, 'fatol': 10, 'xtol': 0.00001, 'maxiter': maxiter})\n",
    "    fullfhist = args['fhist']\n",
    "    fullxdhist = args['xdhist']\n",
    "    bestfhist = [fullfhist[0]]+[min(fullfhist[:i])\n",
    "                                for i, f in enumerate(fullfhist) if i != 0]\n",
    "    return result, args, bestfhist"
   ]
  },
  {
   "cell_type": "code",
   "execution_count": 129,
   "metadata": {
    "execution": {
     "iopub.execute_input": "2023-08-11T03:20:12.462871Z",
     "iopub.status.busy": "2023-08-11T03:20:12.462871Z",
     "iopub.status.idle": "2023-08-11T03:22:36.000785Z",
     "shell.execute_reply": "2023-08-11T03:22:36.000785Z"
    }
   },
   "outputs": [],
   "source": [
    "bilevel_opt(maxiter=2)"
   ]
  },
  {
   "cell_type": "markdown",
   "metadata": {},
   "source": [
    "Note that these are the previously-recorded results for different strategies:\n",
    "\n",
    "|               |    𝑥_t      |   𝑥_l   |       𝑓     |    time     |\n",
    "|--------------------|----------:|---------:|--------------:|------------|\n",
    "|            Bilevel | 18.000015 | 0.580982 | 285708.991759 | 619.369699 |\n",
    "|   Alt. (no  𝐶 𝑅CR) | 10.000000 | 0.000000 | 893333.333333 | 168.275383 |\n",
    "| Alt. (with  𝐶 𝑅CR) | 20.000000 | 0.000000 | 452666.666823 | 306.776320 |\n",
    "| Seq. (with  𝐶 𝑅CR) | 22.000000 | 0.000000 | 466333.333389 |  61.702104 |\n",
    "|   Seq. (no  𝐶 𝑅CR) | 10.000000 | 0.000000 | 893333.333333 |  55.957946 |"
   ]
  },
  {
   "cell_type": "markdown",
   "metadata": {},
   "source": [
    "Generally, we would expect results to be somewhat consistent with this (not exactly, since the lower-level EA is a stochastic search), however, there have been many changes to the underlying toolkit/model, as well as the tank model which may lead to different results."
   ]
  },
  {
   "cell_type": "code",
   "execution_count": null,
   "metadata": {},
   "outputs": [],
   "source": []
  }
 ],
 "metadata": {
  "execution": {
   "allow_errors": true,
   "timeout": 20
  },
  "kernelspec": {
   "display_name": "Python 3 (ipykernel)",
   "language": "python",
   "name": "python3"
  },
  "language_info": {
   "codemirror_mode": {
    "name": "ipython",
    "version": 3
   },
   "file_extension": ".py",
   "mimetype": "text/x-python",
   "name": "python",
   "nbconvert_exporter": "python",
   "pygments_lexer": "ipython3",
   "version": "3.10.9"
  },
  "vscode": {
   "interpreter": {
    "hash": "e91384d516de244e8027664e7296e7623a911fd9d79a3021d1ef03e3e53e2456"
   }
  }
 },
 "nbformat": 4,
 "nbformat_minor": 2
}
