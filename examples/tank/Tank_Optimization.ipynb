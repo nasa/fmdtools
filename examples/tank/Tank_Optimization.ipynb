{
 "cells": [
  {
   "cell_type": "markdown",
   "metadata": {},
   "source": [
    "## Cooling Tank Model\n",
    "\n",
    "This notebook demonstrates the optimization of the tank model described in `tank_optimization_model.py` using the `ProblemInterface` class in the `fmdtools.search` module.\n",
    "\n",
    "Note that this problem/notebook was adapted from the identical problem here: https://github.com/DesignEngrLab/resil_opt_examples/tree/main/Cooling%20Tank%20Problem, which shows more comparisions of these architectures. "
   ]
  },
  {
   "cell_type": "code",
   "execution_count": 1,
   "metadata": {
    "execution": {
     "iopub.execute_input": "2023-06-15T17:26:55.986367Z",
     "iopub.status.busy": "2023-06-15T17:26:55.986367Z",
     "iopub.status.idle": "2023-06-15T17:26:57.718693Z",
     "shell.execute_reply": "2023-06-15T17:26:57.718181Z"
    }
   },
   "outputs": [
    {
     "ename": "ImportError",
     "evalue": "cannot import name 'SampleApproach' from 'fmdtools.define' (c:\\users\\dhulse\\documents\\github\\fmdtools\\fmdtools\\define\\__init__.py)",
     "output_type": "error",
     "traceback": [
      "\u001b[1;31m---------------------------------------------------------------------------\u001b[0m",
      "\u001b[1;31mImportError\u001b[0m                               Traceback (most recent call last)",
      "\u001b[1;32m~\\AppData\\Local\\Temp\\1/ipykernel_19036/2072176068.py\u001b[0m in \u001b[0;36m<module>\u001b[1;34m\u001b[0m\n\u001b[0;32m      7\u001b[0m \u001b[1;32mimport\u001b[0m \u001b[0mfmdtools\u001b[0m\u001b[1;33m.\u001b[0m\u001b[0msim\u001b[0m\u001b[1;33m.\u001b[0m\u001b[0msearch\u001b[0m \u001b[1;32mas\u001b[0m \u001b[0msearch\u001b[0m\u001b[1;33m\u001b[0m\u001b[1;33m\u001b[0m\u001b[0m\n\u001b[0;32m      8\u001b[0m \u001b[1;32mfrom\u001b[0m \u001b[0mtank_optimization_model\u001b[0m \u001b[1;32mimport\u001b[0m \u001b[0mTank\u001b[0m\u001b[1;33m\u001b[0m\u001b[1;33m\u001b[0m\u001b[0m\n\u001b[1;32m----> 9\u001b[1;33m \u001b[1;32mfrom\u001b[0m \u001b[0mfmdtools\u001b[0m\u001b[1;33m.\u001b[0m\u001b[0mdefine\u001b[0m \u001b[1;32mimport\u001b[0m \u001b[0mSampleApproach\u001b[0m\u001b[1;33m\u001b[0m\u001b[1;33m\u001b[0m\u001b[0m\n\u001b[0m\u001b[0;32m     10\u001b[0m \u001b[1;32mimport\u001b[0m \u001b[0mmatplotlib\u001b[0m\u001b[1;33m.\u001b[0m\u001b[0mpyplot\u001b[0m \u001b[1;32mas\u001b[0m \u001b[0mplt\u001b[0m\u001b[1;33m\u001b[0m\u001b[1;33m\u001b[0m\u001b[0m\n",
      "\u001b[1;31mImportError\u001b[0m: cannot import name 'SampleApproach' from 'fmdtools.define' (c:\\users\\dhulse\\documents\\github\\fmdtools\\fmdtools\\define\\__init__.py)"
     ]
    }
   ],
   "source": [
    "import numpy as np\n",
    "import time\n",
    "import pandas as pd\n",
    "\n",
    "import fmdtools.sim.propagate as propagate\n",
    "import fmdtools.analyze as an\n",
    "import fmdtools.sim.search as search\n",
    "from tank_optimization_model import Tank\n",
    "from fmdtools.define import SampleApproach\n",
    "import matplotlib.pyplot as plt"
   ]
  },
  {
   "cell_type": "markdown",
   "metadata": {},
   "source": [
    "# Simulation\n",
    "\n",
    "### Verifying the nominal state:\n",
    "\n",
    "In the nominal state, no change in system state should occurs."
   ]
  },
  {
   "cell_type": "code",
   "execution_count": 2,
   "metadata": {},
   "outputs": [],
   "source": [
    "mdl = Tank()\n",
    "resgraph, mdlhist = propagate.nominal(mdl, desired_result='fxngraph')"
   ]
  },
  {
   "cell_type": "code",
   "execution_count": 3,
   "metadata": {},
   "outputs": [],
   "source": [
    "an.graph.show(resgraph, gtype='fxngraph')"
   ]
  },
  {
   "cell_type": "code",
   "execution_count": 4,
   "metadata": {},
   "outputs": [],
   "source": [
    "an.plot.mdlhistvals(mdlhist)"
   ]
  },
  {
   "cell_type": "markdown",
   "metadata": {},
   "source": [
    "### What happens under component faults?\n",
    "\n",
    "\n",
    "Here we model a leak of the tank. As shown, the coolant leaks until there is no more coolant left in the tank. While this results in a warning signal, the default contingency management policy is to take no actions to alleviate the condition."
   ]
  },
  {
   "cell_type": "code",
   "execution_count": 5,
   "metadata": {},
   "outputs": [],
   "source": [
    "resgraph, mdlhist = propagate.one_fault(mdl,'Store_Coolant','Leak', time=3, gtype='fxngraph', desired_result='fxngraph')\n",
    "\n",
    "fig, ax = an.plot.mdlhistvals(mdlhist, fault='Leak', time=3, fxnflowvals={'Store_Coolant':['level', 'net_flow'], 'Tank_Sig':['indicator'], 'Valve1_Sig':['action']}, legend=False) #,\n",
    "#fig.axes[3].remove()\n",
    "fig.set_figheight(6)\n",
    "fig.set_figwidth(6)\n",
    "fig.subplots_adjust(top = 0.9, wspace=0.1, hspace=0.3)"
   ]
  },
  {
   "cell_type": "code",
   "execution_count": 6,
   "metadata": {
    "scrolled": false
   },
   "outputs": [],
   "source": [
    "#add graph view to figure\n",
    "import networkx as nx\n",
    "graph_fig, graph_ax = an.graph.show(resgraph,faultscen='Leak', time=3, scale=0.8, gtype='fxngraph', pos=nx.shell_layout(resgraph))\n",
    "graph_ax.figure = fig\n",
    "fig.axes.append(graph_ax)\n",
    "fig.add_axes(graph_ax)\n",
    "graph_ax.set_position([0.6,0.10,0.5,0.5])\n",
    "graph_ax.margins(0.3)"
   ]
  },
  {
   "cell_type": "code",
   "execution_count": 7,
   "metadata": {},
   "outputs": [],
   "source": [
    "fig"
   ]
  },
  {
   "cell_type": "markdown",
   "metadata": {},
   "source": [
    "### Full set of modes\n",
    "\n",
    "The tank leak mode will not be the only mode considered, but also leak and blockage faults in the Imput/Output blocks."
   ]
  },
  {
   "cell_type": "code",
   "execution_count": 8,
   "metadata": {},
   "outputs": [],
   "source": [
    "app_joint_faults = SampleApproach(mdl)\n",
    "endclasses, mdlhists = propagate.approach(mdl, app_joint_faults)\n",
    "fmea_tab = an.tabulate.simplefmea(endclasses)\n",
    "fmea_tab"
   ]
  },
  {
   "cell_type": "code",
   "execution_count": 9,
   "metadata": {},
   "outputs": [],
   "source": [
    "print(fmea_tab.to_latex(float_format=\"%.2g\"))"
   ]
  },
  {
   "cell_type": "markdown",
   "metadata": {},
   "source": [
    "### Defining Optimization Problem\n",
    "\n",
    "We can define an optimization problem around this model using the `ProblemInterface` class.\n",
    "\n",
    "In this case, we consider the joint minimization of design cost (defined in a function) and resilience cost (expected cost over the above list of scenarios). This is over two sets of variables\n",
    "\n",
    "- capacity and turnup (design variables that effect both design and resilience costs), and\n",
    "- the resilience policy (variables that only effect resilience cost)"
   ]
  },
  {
   "cell_type": "code",
   "execution_count": 10,
   "metadata": {},
   "outputs": [],
   "source": [
    "mdl= Tank()\n",
    "prob = search.ProblemInterface(\"res_problem\", mdl, staged=True)"
   ]
  },
  {
   "cell_type": "markdown",
   "metadata": {},
   "source": [
    "To model design cost (which does not involve simulation), we attach an external callable using the \"external\" option in `.add_simulation`. Note that this callable is defined in terms of its objective only."
   ]
  },
  {
   "cell_type": "code",
   "execution_count": 11,
   "metadata": {},
   "outputs": [],
   "source": [
    "def x_to_descost(xdes):\n",
    "    pen = 0 #determining upper-level penalty\n",
    "    if xdes[0]<10: pen+=1e5*(10-xdes[0])**2\n",
    "    if xdes[0]>100: pen+=1e5*(100-xdes[0])**2\n",
    "    if xdes[1]<0: pen+=1e5*(xdes[1])**2\n",
    "    if xdes[1]>1: pen+=1e5*(1-xdes[1])**2\n",
    "    return (xdes[0]-10)*1000 + (xdes[0]-10)**2*1000   + xdes[1]**2*10000 + pen\n",
    "prob.add_simulation(\"des_cost\", \"external\", x_to_descost)\n",
    "prob.add_objectives(\"des_cost\", cd=\"cd\")\n",
    "prob.add_variables(\"des_cost\",'capacity', 'turnup')"
   ]
  },
  {
   "cell_type": "code",
   "execution_count": 12,
   "metadata": {},
   "outputs": [],
   "source": [
    "prob"
   ]
  },
  {
   "cell_type": "markdown",
   "metadata": {},
   "source": [
    "Since the design variables affect both design and resilience costs, we can use the `upstream_sims` option to translate \"des_cost\" variables into \"res_sim\" simulation parameters. "
   ]
  },
  {
   "cell_type": "code",
   "execution_count": 13,
   "metadata": {},
   "outputs": [],
   "source": [
    "app = SampleApproach(mdl)\n",
    "prob.add_simulation(\"res_sim\", \"multi\", app.scenlist, upstream_sims = {\"des_cost\":{'params':{\"capacity\":\"capacity\", \"turnup\":\"turnup\"}}})\n",
    "\n",
    "res_vars_i = {param:1 for param,v in mdl.params.items() if param not in ['capacity','turnup']}\n",
    "res_vars = [(var, None) for var in res_vars_i.keys()]\n",
    "prob.add_variables(\"res_sim\", *res_vars, vartype=\"param\")\n",
    "prob.add_objectives(\"res_sim\", cost=\"expected cost\", objtype=\"endclass\")"
   ]
  },
  {
   "cell_type": "markdown",
   "metadata": {},
   "source": [
    "Finally, to get a callable for both objectives, we can use `add_combined_objective`, which will perform an opteration (default is sum) to combine the objectives:"
   ]
  },
  {
   "cell_type": "code",
   "execution_count": 14,
   "metadata": {},
   "outputs": [],
   "source": [
    "prob.add_combined_objective('tot_cost', 'cd', 'cost')"
   ]
  },
  {
   "cell_type": "code",
   "execution_count": 15,
   "metadata": {},
   "outputs": [],
   "source": [
    "prob"
   ]
  },
  {
   "cell_type": "markdown",
   "metadata": {},
   "source": [
    "Note that because the simulations are linked, changes to xdes in the `cd` function in turn change the lower-level `cost` function by default."
   ]
  },
  {
   "cell_type": "code",
   "execution_count": 16,
   "metadata": {},
   "outputs": [],
   "source": [
    "xdes = [1,2]\n",
    "prob.cd(xdes)"
   ]
  },
  {
   "cell_type": "code",
   "execution_count": 17,
   "metadata": {},
   "outputs": [],
   "source": [
    "prob.cost([*res_vars_i.values()])"
   ]
  },
  {
   "cell_type": "code",
   "execution_count": 18,
   "metadata": {},
   "outputs": [],
   "source": [
    "xdes = [1,3]\n",
    "prob.cd(xdes)"
   ]
  },
  {
   "cell_type": "code",
   "execution_count": 19,
   "metadata": {},
   "outputs": [],
   "source": [
    "prob.cost([*res_vars_i.values()])"
   ]
  },
  {
   "cell_type": "markdown",
   "metadata": {},
   "source": [
    "These costs can be treated as independent by clearing the problem prior to the lower-level cost evalutation."
   ]
  },
  {
   "cell_type": "code",
   "execution_count": 20,
   "metadata": {},
   "outputs": [],
   "source": [
    "prob.clear()\n",
    "prob.update_sim_vars(\"res_sim\", newparams={'capacity':1, 'turnup':2})\n",
    "prob.cost([*res_vars_i.values()])"
   ]
  },
  {
   "cell_type": "markdown",
   "metadata": {},
   "source": [
    "### Optimization\n",
    "\n",
    "This problem is optimized here using four different architectures, following the example in:\n",
    "\n",
    "Hulse, D., & Hoyle, C. (2022). Understanding Resilience Optimization Architectures: Alignment and Coupling in Multilevel Decomposition Strategies. Journal of Mechanical Design, 144(11), 111704.\n",
    "\n",
    "The implementation of these architectures is provided in `tank_opt` using the `ProblemInterface` class. Here we show some results for comparing the architectures, which as shown are consistent with the reference."
   ]
  },
  {
   "cell_type": "code",
   "execution_count": 21,
   "metadata": {},
   "outputs": [],
   "source": [
    "import importlib\n",
    "import tank_opt\n",
    "import multiprocessing as mp\n",
    "importlib.reload(tank_opt)\n",
    "pool = mp.Pool(5)"
   ]
  },
  {
   "cell_type": "markdown",
   "metadata": {},
   "source": [
    "alternating optimization structure"
   ]
  },
  {
   "cell_type": "code",
   "execution_count": 22,
   "metadata": {},
   "outputs": [],
   "source": [
    "result_alt, llargs_alt, fhist_alt, thist_alt, xdhist_alt = tank_opt.alternating_opt(pool=pool)"
   ]
  },
  {
   "cell_type": "code",
   "execution_count": 23,
   "metadata": {},
   "outputs": [],
   "source": [
    "result_alt.fun"
   ]
  },
  {
   "cell_type": "code",
   "execution_count": 24,
   "metadata": {},
   "outputs": [],
   "source": [
    "result_alt_nocr, llargs_alt_nocr, fhist_alt_nocr, thist_alt_nocr, xdhist_alt_nocr = tank_opt.alternating_opt(option=\"without_cr\",pool=pool)"
   ]
  },
  {
   "cell_type": "code",
   "execution_count": 25,
   "metadata": {},
   "outputs": [],
   "source": [
    "result_bi, llargs_bi, bestf_bi, bestxdes_bi = tank_opt.bilevel_opt(pool=pool)"
   ]
  },
  {
   "cell_type": "code",
   "execution_count": 26,
   "metadata": {},
   "outputs": [],
   "source": [
    "fig = plt.figure()\n",
    "fhist_alt_plot = [min(fhist_alt[:f+1]) for f,_ in enumerate(fhist_alt)]\n",
    "plt.plot(thist_alt, fhist_alt_plot, label=\"Alternating (with $C_R$)\")\n",
    "\n",
    "fhist_alt_nocr_plot = [min(fhist_alt_nocr[:f+1]) for f,_ in enumerate(fhist_alt_nocr)]\n",
    "plt.plot(thist_alt_nocr, fhist_alt_nocr_plot, label=\"Alternating  (no $C_R$)\")\n",
    "\n",
    "thist_bilevel_plot = [0]+llargs_bi['thist']\n",
    "fhist_bilevel_plot = [fhist_alt[0]]+llargs_bi['fhist']\n",
    "fhist_bilevel_plot = [min(fhist_bilevel_plot[:f+1]) for f,_ in enumerate(fhist_bilevel_plot)]\n",
    "plt.plot(thist_bilevel_plot, fhist_bilevel_plot, label=\"Bilevel\")\n",
    "#plt.plot(t, [fhist_alt[0]]+llargs_bi['fhist'], label=\"Bilevel\")\n",
    "plt.title(\"Optimization of Tank Problem\")\n",
    "plt.grid()\n",
    "plt.ylabel(\"$C_D+C_R$\")\n",
    "#plt.yscale(\"log\")\n",
    "plt.xlabel(\"Computational Time (s)\")\n",
    "plt.legend()"
   ]
  },
  {
   "cell_type": "code",
   "execution_count": 27,
   "metadata": {},
   "outputs": [],
   "source": [
    "fig.savefig('tank_optimization.pdf', format=\"pdf\", bbox_inches = 'tight', pad_inches = 0.0)"
   ]
  },
  {
   "cell_type": "code",
   "execution_count": 28,
   "metadata": {},
   "outputs": [],
   "source": [
    "tab = pd.DataFrame(columns = [\"$x_t$\", \"$x_l$\", \"$f^*$\", \"time\"])\n",
    "tab.loc['Bilevel'] = list(result_bi['x']) +  [result_bi['fun'], llargs_bi['thist'][-1]]\n",
    "tab.loc['Alt. (no $C_R$)'] = list(result_alt_nocr['x']) + [llargs_alt_nocr['ll_opt'], thist_alt_nocr[-1]]\n",
    "tab.loc['Alt. (with $C_R$)'] = list(result_alt['x']) + [result_alt['fun'], thist_alt[-1]]\n",
    "tab.loc['Seq. (with $C_R$)'] = list(xdhist_alt[1]) + [fhist_alt[1], thist_alt[1]]\n",
    "tab.loc['Seq. (no $C_R$)'] = list(xdhist_alt_nocr[1]) + [fhist_alt_nocr[1], thist_alt_nocr[1]]"
   ]
  },
  {
   "cell_type": "code",
   "execution_count": 29,
   "metadata": {},
   "outputs": [],
   "source": [
    "tab"
   ]
  },
  {
   "cell_type": "markdown",
   "metadata": {},
   "source": [
    "Note that these are the previously-recorded results:\n",
    "\n",
    "|               |    𝑥_t      |   𝑥_l   |       𝑓     |    time     |\n",
    "|--------------------|----------:|---------:|--------------:|------------|\n",
    "|            Bilevel | 18.000015 | 0.580982 | 285708.991759 | 619.369699 |\n",
    "|   Alt. (no  𝐶 𝑅CR) | 10.000000 | 0.000000 | 893333.333333 | 168.275383 |\n",
    "| Alt. (with  𝐶 𝑅CR) | 20.000000 | 0.000000 | 452666.666823 | 306.776320 |\n",
    "| Seq. (with  𝐶 𝑅CR) | 22.000000 | 0.000000 | 466333.333389 |  61.702104 |\n",
    "|   Seq. (no  𝐶 𝑅CR) | 10.000000 | 0.000000 | 893333.333333 |  55.957946 |"
   ]
  },
  {
   "cell_type": "markdown",
   "metadata": {},
   "source": [
    "As shown, the results are consistent (not exactly, since the lower-level EA is a stochastic search), and this problem gives better results from a bilevel search as expected. However, the optimization is somewhat slower, so it may (still) be helpful to implement interfaces manually to avoid some model instantiation overhead."
   ]
  },
  {
   "cell_type": "code",
   "execution_count": null,
   "metadata": {},
   "outputs": [],
   "source": []
  }
 ],
 "metadata": {
  "kernelspec": {
   "display_name": "Python 3 (ipykernel)",
   "language": "python",
   "name": "python3"
  },
  "language_info": {
   "codemirror_mode": {
    "name": "ipython",
    "version": 3
   },
   "file_extension": ".py",
   "mimetype": "text/x-python",
   "name": "python",
   "nbconvert_exporter": "python",
   "pygments_lexer": "ipython3",
   "version": "3.9.7"
  },
  "vscode": {
   "interpreter": {
    "hash": "e91384d516de244e8027664e7296e7623a911fd9d79a3021d1ef03e3e53e2456"
   }
  }
 },
 "nbformat": 4,
 "nbformat_minor": 2
}
