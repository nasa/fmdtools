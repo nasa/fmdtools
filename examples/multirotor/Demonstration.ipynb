{
 "cells": [
  {
   "cell_type": "markdown",
   "metadata": {},
   "source": [
    "# fmdtools Paper Demonstration\n",
    "\n",
    "This notebook shows some basic fmdtools use-cases presented in the paper:\n",
    "\n",
    "[Hulse, D., Walsh, H., Dong, A., Hoyle, C., Tumer, I., Kulkarni, C., & Goebel, K. (2021). fmdtools: A Fault Propagation Toolkit for Resilience Assessment in Early Design. International Journal of Prognostics and Health Management, 12(3)](https://doi.org/10.36001/ijphm.2021.v12i3.2954)\n",
    "\n",
    "This notebook uses a high-level model of a multirotor drone to illustrate the following fmdtools model types:\n",
    "- Network Model\n",
    "- Static Model\n",
    "- Dynamic Model\n",
    "- Hierarchical Model"
   ]
  },
  {
   "cell_type": "code",
   "execution_count": 1,
   "metadata": {
    "execution": {
     "iopub.execute_input": "2023-06-09T23:26:46.634494Z",
     "iopub.status.busy": "2023-06-09T23:26:46.633970Z",
     "iopub.status.idle": "2023-06-09T23:26:49.268135Z",
     "shell.execute_reply": "2023-06-09T23:26:49.267106Z"
    }
   },
   "outputs": [],
   "source": [
    "import matplotlib.pyplot as plt\n",
    "import numpy as np\n",
    "import pandas as pd\n",
    "\n",
    "import fmdtools.sim as fs\n",
    "import fmdtools.analyze as an\n",
    "from fmdtools.analyze.graph import ModelGraph, ModelFxnGraph\n",
    "import quadpy\n",
    "from IPython.display import HTML\n",
    "from fmdtools.sim.approach import SampleApproach\n",
    "from fmdtools.define.model import Model"
   ]
  },
  {
   "cell_type": "markdown",
   "metadata": {},
   "source": [
    "## Initial Model\n",
    "\n",
    "\n",
    "In our initial model, all we have is the flows, functions, and connections between them. These are set up in a model class as shown:"
   ]
  },
  {
   "cell_type": "code",
   "execution_count": 2,
   "metadata": {
    "execution": {
     "iopub.execute_input": "2023-06-09T23:26:49.271137Z",
     "iopub.status.busy": "2023-06-09T23:26:49.271137Z",
     "iopub.status.idle": "2023-06-09T23:26:49.299786Z",
     "shell.execute_reply": "2023-06-09T23:26:49.298784Z"
    }
   },
   "outputs": [
    {
     "name": "stderr",
     "output_type": "stream",
     "text": [
      "c:\\users\\dhulse\\documents\\github\\fmdtools\\fmdtools\\define\\block.py:61: UserWarning: these flows sent from model ['EE_1', 'Force_ST'] not added to class <class 'fmdtools.define.block.FxnBlock'>\n",
      "  warnings.warn(\"these flows sent from model \"+str([*flows.keys()])+\" not added to class \"+str(obj.__class__))\n",
      "c:\\users\\dhulse\\documents\\github\\fmdtools\\fmdtools\\define\\block.py:61: UserWarning: these flows sent from model ['EE_1', 'EEmot', 'EEctl', 'Force_ST'] not added to class <class 'fmdtools.define.block.FxnBlock'>\n",
      "  warnings.warn(\"these flows sent from model \"+str([*flows.keys()])+\" not added to class \"+str(obj.__class__))\n",
      "c:\\users\\dhulse\\documents\\github\\fmdtools\\fmdtools\\define\\block.py:61: UserWarning: these flows sent from model ['EEmot', 'Ctl1', 'DOFs', 'Force_Lin'] not added to class <class 'fmdtools.define.block.FxnBlock'>\n",
      "  warnings.warn(\"these flows sent from model \"+str([*flows.keys()])+\" not added to class \"+str(obj.__class__))\n",
      "c:\\users\\dhulse\\documents\\github\\fmdtools\\fmdtools\\define\\block.py:61: UserWarning: these flows sent from model ['EEctl', 'Dir1', 'Ctl1', 'DOFs', 'Force_ST'] not added to class <class 'fmdtools.define.block.FxnBlock'>\n",
      "  warnings.warn(\"these flows sent from model \"+str([*flows.keys()])+\" not added to class \"+str(obj.__class__))\n",
      "c:\\users\\dhulse\\documents\\github\\fmdtools\\fmdtools\\define\\block.py:61: UserWarning: these flows sent from model ['EEctl', 'Env1', 'Dir1', 'Force_ST'] not added to class <class 'fmdtools.define.block.FxnBlock'>\n",
      "  warnings.warn(\"these flows sent from model \"+str([*flows.keys()])+\" not added to class \"+str(obj.__class__))\n",
      "c:\\users\\dhulse\\documents\\github\\fmdtools\\fmdtools\\define\\block.py:61: UserWarning: these flows sent from model ['Env1', 'DOFs', 'Dir1', 'Force_GR'] not added to class <class 'fmdtools.define.block.FxnBlock'>\n",
      "  warnings.warn(\"these flows sent from model \"+str([*flows.keys()])+\" not added to class \"+str(obj.__class__))\n",
      "c:\\users\\dhulse\\documents\\github\\fmdtools\\fmdtools\\define\\block.py:61: UserWarning: these flows sent from model ['Force_GR', 'Force_LG'] not added to class <class 'fmdtools.define.block.FxnBlock'>\n",
      "  warnings.warn(\"these flows sent from model \"+str([*flows.keys()])+\" not added to class \"+str(obj.__class__))\n",
      "c:\\users\\dhulse\\documents\\github\\fmdtools\\fmdtools\\define\\block.py:61: UserWarning: these flows sent from model ['Force_LG', 'Force_Lin', 'Force_ST'] not added to class <class 'fmdtools.define.block.FxnBlock'>\n",
      "  warnings.warn(\"these flows sent from model \"+str([*flows.keys()])+\" not added to class \"+str(obj.__class__))\n",
      "c:\\users\\dhulse\\documents\\github\\fmdtools\\fmdtools\\define\\block.py:61: UserWarning: these flows sent from model ['Env1'] not added to class <class 'fmdtools.define.block.FxnBlock'>\n",
      "  warnings.warn(\"these flows sent from model \"+str([*flows.keys()])+\" not added to class \"+str(obj.__class__))\n"
     ]
    }
   ],
   "source": [
    "from fmdtools.define.block import FxnBlock\n",
    "class Drone(Model):\n",
    "    __slots__=()\n",
    "    default_sp={}\n",
    "    def __init__(self, **kwargs):\n",
    "        super().__init__(**kwargs)\n",
    "        #add flows to the model\n",
    "        self.add_flow('Force_ST')\n",
    "        self.add_flow('Force_Lin')\n",
    "        self.add_flow('Force_GR')\n",
    "        self.add_flow('Force_LG')\n",
    "        self.add_flow('EE_1')\n",
    "        self.add_flow('EEmot')\n",
    "        self.add_flow('EEctl')\n",
    "        self.add_flow('Ctl1')\n",
    "        self.add_flow('DOFs')\n",
    "        self.add_flow('Env1')\n",
    "        self.add_flow('Dir1')\n",
    "        #add functions to the model\n",
    "        self.add_fxn('StoreEE',  FxnBlock, 'EE_1', 'Force_ST')\n",
    "        self.add_fxn('DistEE',   FxnBlock, 'EE_1','EEmot','EEctl', 'Force_ST')\n",
    "        self.add_fxn('AffectDOF',FxnBlock, 'EEmot','Ctl1','DOFs','Force_Lin')\n",
    "        self.add_fxn('CtlDOF',   FxnBlock, 'EEctl', 'Dir1', 'Ctl1', 'DOFs', 'Force_ST')\n",
    "        self.add_fxn('Planpath', FxnBlock, 'EEctl', 'Env1','Dir1', 'Force_ST')\n",
    "        self.add_fxn('Trajectory',FxnBlock, 'Env1','DOFs','Dir1', 'Force_GR')\n",
    "        self.add_fxn('EngageLand',FxnBlock, 'Force_GR', 'Force_LG')\n",
    "        self.add_fxn('HoldPayload',FxnBlock,'Force_LG', 'Force_Lin', 'Force_ST')\n",
    "        self.add_fxn('ViewEnv', FxnBlock,   'Env1')\n",
    "        \n",
    "        self.build()\n",
    "\n",
    "mdl = Drone()"
   ]
  },
  {
   "cell_type": "markdown",
   "metadata": {},
   "source": [
    "## Setting Node Positions"
   ]
  },
  {
   "cell_type": "markdown",
   "metadata": {},
   "source": [
    "As shown below, it can be difficult to make sense of a model structure using the default graph layout. We might instead want to see something that more closely approximates a flow chart of the system."
   ]
  },
  {
   "cell_type": "code",
   "execution_count": 3,
   "metadata": {
    "execution": {
     "iopub.execute_input": "2023-06-09T23:26:49.303775Z",
     "iopub.status.busy": "2023-06-09T23:26:49.303775Z",
     "iopub.status.idle": "2023-06-09T23:26:49.888372Z",
     "shell.execute_reply": "2023-06-09T23:26:49.886329Z"
    },
    "scrolled": true
   },
   "outputs": [
    {
     "data": {
      "image/png": "[encoded data removed]",
      "text/plain": [
       "<Figure size 864x720 with 1 Axes>"
      ]
     },
     "metadata": {},
     "output_type": "display_data"
    }
   ],
   "source": [
    "mdl = Drone()\n",
    "mg = ModelGraph(mdl)\n",
    "fig, ax = mg.draw()"
   ]
  },
  {
   "cell_type": "markdown",
   "metadata": {},
   "source": [
    "To set node positions, we can use ``Graph.move_nodes``, which lets one drag the nodes to their desired locations. Node that while these node positions become attributes of the object (for future display) it is good practice to save node locations when one is done in the script so you don't have to move them every time."
   ]
  },
  {
   "cell_type": "code",
   "execution_count": 4,
   "metadata": {
    "execution": {
     "iopub.execute_input": "2023-06-09T23:26:49.895302Z",
     "iopub.status.busy": "2023-06-09T23:26:49.895302Z",
     "iopub.status.idle": "2023-06-09T23:26:50.456121Z",
     "shell.execute_reply": "2023-06-09T23:26:50.455273Z"
    }
   },
   "outputs": [],
   "source": [
    "%matplotlib qt5\n",
    "gi = mg.move_nodes()"
   ]
  },
  {
   "cell_type": "code",
   "execution_count": 5,
   "metadata": {
    "execution": {
     "iopub.execute_input": "2023-06-09T23:26:50.590867Z",
     "iopub.status.busy": "2023-06-09T23:26:50.590867Z",
     "iopub.status.idle": "2023-06-09T23:26:50.612988Z",
     "shell.execute_reply": "2023-06-09T23:26:50.612030Z"
    }
   },
   "outputs": [],
   "source": [
    "%matplotlib inline"
   ]
  },
  {
   "cell_type": "code",
   "execution_count": 6,
   "metadata": {
    "execution": {
     "iopub.execute_input": "2023-06-09T23:26:50.616977Z",
     "iopub.status.busy": "2023-06-09T23:26:50.616977Z",
     "iopub.status.idle": "2023-06-09T23:26:50.645900Z",
     "shell.execute_reply": "2023-06-09T23:26:50.642938Z"
    }
   },
   "outputs": [],
   "source": [
    "mg.pos={'StoreEE': [-1.067135163123663, 0.32466987344741055],\n",
    " 'DistEE': [-0.617149602161968, 0.3165981670924663],\n",
    " 'AffectDOF': [0.11827439153655106, 0.10792528450121897],\n",
    " 'CtlDOF': [-0.2636856982162134, 0.42422600969836144],\n",
    " 'Planpath': [-0.9347151173753852, 0.6943421719257798],\n",
    " 'Trajectory': [0.6180477286739998, 0.32930706399226856],\n",
    " 'EngageLand': [0.0015917696269229786, -0.2399760932810826],\n",
    " 'HoldPayload': [-0.8833099612826893, -0.247201580673997],\n",
    " 'ViewEnv': [0.5725955705698363, 0.6901513410348765],\n",
    " 'Force_ST': [-0.8925771348524384, -0.025638904424547027],\n",
    " 'Force_Lin': [-0.5530952425102891, -0.10380834289626095],\n",
    " 'Force_GR': [0.568921162299461, -0.22991830334765573],\n",
    " 'Force_LG': [-0.37244114591548894, -0.2355298479531287],\n",
    " 'EE_1': [-0.809433489993954, 0.319191761486317],\n",
    " 'EEmot': [-0.33469985340998853, 0.1307636433702345],\n",
    " 'EEctl': [-0.48751243650229525, 0.4852032717825657],\n",
    " 'Ctl1': [-0.06913038312848868, 0.2445174568603189],\n",
    " 'DOFs': [0.2606664304933561, 0.3243482171363975],\n",
    " 'Env1': [0.06157634305459603, 0.7099922980251693],\n",
    " 'Dir1': [-0.13617863906968142, 0.6037252153639261]}"
   ]
  },
  {
   "cell_type": "code",
   "execution_count": 7,
   "metadata": {
    "execution": {
     "iopub.execute_input": "2023-06-09T23:26:50.650949Z",
     "iopub.status.busy": "2023-06-09T23:26:50.650949Z",
     "iopub.status.idle": "2023-06-09T23:26:51.334950Z",
     "shell.execute_reply": "2023-06-09T23:26:51.332945Z"
    }
   },
   "outputs": [
    {
     "data": {
      "image/png": "[encoded data removed]",
      "text/plain": [
       "<Figure size 864x720 with 1 Axes>"
      ]
     },
     "metadata": {},
     "output_type": "display_data"
    }
   ],
   "source": [
    "fig, ax = mg.draw()"
   ]
  },
  {
   "cell_type": "markdown",
   "metadata": {},
   "source": [
    "Note that a variety of views of the model graph can be used for analysis/visualization. Below we use the ModelFxnGraph"
   ]
  },
  {
   "cell_type": "code",
   "execution_count": 8,
   "metadata": {
    "execution": {
     "iopub.execute_input": "2023-06-09T23:26:51.341963Z",
     "iopub.status.busy": "2023-06-09T23:26:51.341963Z",
     "iopub.status.idle": "2023-06-09T23:26:51.445509Z",
     "shell.execute_reply": "2023-06-09T23:26:51.444326Z"
    }
   },
   "outputs": [
    {
     "data": {
      "image/png": "[encoded data removed]",
      "text/plain": [
       "<Figure size 432x288 with 1 Axes>"
      ]
     },
     "metadata": {},
     "output_type": "display_data"
    }
   ],
   "source": [
    "fg = ModelFxnGraph(mdl)\n",
    "fg.pos={'StoreEE': [-1.0787279392101061, -0.06903523859088145],\n",
    " 'DistEE': [-0.361531174332526, -0.0935883732235363],\n",
    " 'AffectDOF': [0.36541282312106205, -0.09674444529230719],\n",
    " 'CtlDOF': [0.4664934329906758, 0.5822138245848214],\n",
    " 'Planpath': [-0.7095750728126631, 0.8482786785038505],\n",
    " 'Trajectory': [1.1006824683444765, -0.10423208715241583],\n",
    " 'EngageLand': [0.8423521094741182, -0.8813666134484857],\n",
    " 'HoldPayload': [-0.5857395187723944, -0.86974898769837],\n",
    " 'ViewEnv': [1.1035500215472247, 0.9373523025760659]}\n",
    "fg.set_edge_labels(title='', subtext='')\n",
    "fig, ax = fg.draw(figsize=(6,4), withlegend=False)"
   ]
  },
  {
   "cell_type": "markdown",
   "metadata": {},
   "source": [
    "## Network Model\n",
    "\n",
    "A network model can be used to compute network metrics and visualize network vulnerabilities."
   ]
  },
  {
   "cell_type": "markdown",
   "metadata": {},
   "source": [
    "We can calculate network metrics using calc_aspl, calc_modularity, and calc_robustness_coefficient in the `networks` module."
   ]
  },
  {
   "cell_type": "code",
   "execution_count": 9,
   "metadata": {
    "execution": {
     "iopub.execute_input": "2023-06-09T23:26:51.448504Z",
     "iopub.status.busy": "2023-06-09T23:26:51.447540Z",
     "iopub.status.idle": "2023-06-09T23:26:51.476175Z",
     "shell.execute_reply": "2023-06-09T23:26:51.475168Z"
    }
   },
   "outputs": [
    {
     "name": "stdout",
     "output_type": "stream",
     "text": [
      "ASPL: 1.44\n",
      "Modularity: 0.12\n",
      "Robustness Coefficient: 95.19\n"
     ]
    }
   ],
   "source": [
    "aspl = fg.calc_aspl()\n",
    "q = fg.calc_modularity()\n",
    "rc = fg.calc_robustness_coefficient()\n",
    "\n",
    "print(\"ASPL: %.2f\" % round(aspl, 2))\n",
    "print(\"Modularity: %.2f\" % round(q,2))\n",
    "print(\"Robustness Coefficient: %.2f\" % round(rc,2))"
   ]
  },
  {
   "cell_type": "markdown",
   "metadata": {},
   "source": [
    "Next, we visualize network vulnerabilities using find_bridging_nodes and find_high_degree_nodes."
   ]
  },
  {
   "cell_type": "code",
   "execution_count": 10,
   "metadata": {
    "execution": {
     "iopub.execute_input": "2023-06-09T23:26:51.483152Z",
     "iopub.status.busy": "2023-06-09T23:26:51.483152Z",
     "iopub.status.idle": "2023-06-09T23:26:51.744461Z",
     "shell.execute_reply": "2023-06-09T23:26:51.743464Z"
    }
   },
   "outputs": [
    {
     "data": {
      "image/png": "[encoded data removed]",
      "text/plain": [
       "<Figure size 432x288 with 1 Axes>"
      ]
     },
     "metadata": {},
     "output_type": "display_data"
    }
   ],
   "source": [
    "fig_bridging_nodes, ax_bridging_nodes = fg.plot_bridging_nodes(figsize=(6,4), withlegend=False)\n",
    "fig_bridging_nodes.savefig('bridgingnodes.pdf', format=\"pdf\", bbox_inches = 'tight', pad_inches = 0)"
   ]
  },
  {
   "cell_type": "code",
   "execution_count": 11,
   "metadata": {
    "execution": {
     "iopub.execute_input": "2023-06-09T23:26:51.748253Z",
     "iopub.status.busy": "2023-06-09T23:26:51.747453Z",
     "iopub.status.idle": "2023-06-09T23:26:51.949466Z",
     "shell.execute_reply": "2023-06-09T23:26:51.948452Z"
    }
   },
   "outputs": [
    {
     "data": {
      "image/png": "[encoded data removed]",
      "text/plain": [
       "<Figure size 432x288 with 1 Axes>"
      ]
     },
     "metadata": {},
     "output_type": "display_data"
    }
   ],
   "source": [
    "fig_high_degree_nodes, ax_high_degree_nodes = fg.plot_high_degree_nodes(figsize=(6,4), withlegend=False)\n",
    "fig_bridging_nodes.savefig('highdegreenodes.pdf', format=\"pdf\", bbox_inches = 'tight', pad_inches = 0)"
   ]
  },
  {
   "cell_type": "markdown",
   "metadata": {},
   "source": [
    "High degree nodes (along with their degrees) and bridging nodes are also obtainable as lists."
   ]
  },
  {
   "cell_type": "code",
   "execution_count": 12,
   "metadata": {
    "execution": {
     "iopub.execute_input": "2023-06-09T23:26:51.952500Z",
     "iopub.status.busy": "2023-06-09T23:26:51.952500Z",
     "iopub.status.idle": "2023-06-09T23:26:51.964576Z",
     "shell.execute_reply": "2023-06-09T23:26:51.963573Z"
    }
   },
   "outputs": [
    {
     "name": "stdout",
     "output_type": "stream",
     "text": [
      "Bridging Nodes: ['AffectDOF', 'CtlDOF', 'DistEE', 'EngageLand', 'HoldPayload', 'Planpath', 'StoreEE', 'Trajectory']\n",
      "High Degree Nodes: [('CtlDOF', 6), ('Planpath', 6), ('HoldPayload', 6)]\n"
     ]
    }
   ],
   "source": [
    "print('Bridging Nodes:', fg.find_bridging_nodes())\n",
    "print('High Degree Nodes:',fg.find_high_degree_nodes())"
   ]
  },
  {
   "cell_type": "markdown",
   "metadata": {},
   "source": [
    "Finally, we can plot the degree distribution of the network using degree_dist."
   ]
  },
  {
   "cell_type": "code",
   "execution_count": 13,
   "metadata": {
    "execution": {
     "iopub.execute_input": "2023-06-09T23:26:51.967567Z",
     "iopub.status.busy": "2023-06-09T23:26:51.967567Z",
     "iopub.status.idle": "2023-06-09T23:26:52.218141Z",
     "shell.execute_reply": "2023-06-09T23:26:52.216147Z"
    }
   },
   "outputs": [
    {
     "data": {
      "image/png": "[encoded data removed]",
      "text/plain": [
       "<Figure size 432x288 with 1 Axes>"
      ]
     },
     "metadata": {
      "needs_background": "light"
     },
     "output_type": "display_data"
    }
   ],
   "source": [
    "fig = fg.plot_degree_dist()\n",
    "fig.savefig('degreedist.pdf', format=\"pdf\", bbox_inches = 'tight', pad_inches = 0.0)"
   ]
  },
  {
   "cell_type": "markdown",
   "metadata": {},
   "source": [
    "The above analysis includes only function nodes. It is also possible to treat the entire model graph (containing both functions and flows) as a unipartite-like graph and perform similar analysis on both function and flow nodes."
   ]
  },
  {
   "cell_type": "code",
   "execution_count": 14,
   "metadata": {
    "execution": {
     "iopub.execute_input": "2023-06-09T23:26:52.224167Z",
     "iopub.status.busy": "2023-06-09T23:26:52.224167Z",
     "iopub.status.idle": "2023-06-09T23:26:52.296117Z",
     "shell.execute_reply": "2023-06-09T23:26:52.294167Z"
    }
   },
   "outputs": [
    {
     "name": "stdout",
     "output_type": "stream",
     "text": [
      "ASPL, functions and flows: 2.77\n",
      "Modularity, functions and flows: 0.35\n",
      "Robustness Coefficient, functions and flows: 81.27\n"
     ]
    }
   ],
   "source": [
    "aspl = mg.calc_aspl()\n",
    "q = mg.calc_modularity()\n",
    "rc = mg.calc_robustness_coefficient()\n",
    "\n",
    "print(\"ASPL, functions and flows: %.2f\" % round(aspl, 2))\n",
    "print(\"Modularity, functions and flows: %.2f\" % round(q,2))\n",
    "print(\"Robustness Coefficient, functions and flows: %.2f\" % round(rc,2))"
   ]
  },
  {
   "cell_type": "code",
   "execution_count": 15,
   "metadata": {
    "execution": {
     "iopub.execute_input": "2023-06-09T23:26:52.302138Z",
     "iopub.status.busy": "2023-06-09T23:26:52.302138Z",
     "iopub.status.idle": "2023-06-09T23:26:53.187006Z",
     "shell.execute_reply": "2023-06-09T23:26:53.186008Z"
    }
   },
   "outputs": [
    {
     "data": {
      "image/png": "[encoded data removed]",
      "text/plain": [
       "<Figure size 432x288 with 1 Axes>"
      ]
     },
     "metadata": {},
     "output_type": "display_data"
    },
    {
     "data": {
      "image/png": "[encoded data removed]",
      "text/plain": [
       "<Figure size 432x288 with 1 Axes>"
      ]
     },
     "metadata": {},
     "output_type": "display_data"
    }
   ],
   "source": [
    "fig_bridging_nodes, ax_bridging_nodes = mg.plot_bridging_nodes(figsize=(6,4), withlegend=False)\n",
    "fig_high_degree_nodes, ax_high_degree_nodes = mg.plot_high_degree_nodes(figsize=(6,4), withlegend=False)"
   ]
  },
  {
   "cell_type": "code",
   "execution_count": 16,
   "metadata": {
    "execution": {
     "iopub.execute_input": "2023-06-09T23:26:53.193981Z",
     "iopub.status.busy": "2023-06-09T23:26:53.192987Z",
     "iopub.status.idle": "2023-06-09T23:26:53.201953Z",
     "shell.execute_reply": "2023-06-09T23:26:53.201953Z"
    }
   },
   "outputs": [
    {
     "name": "stdout",
     "output_type": "stream",
     "text": [
      "Bridging Nodes: ['AffectDOF', 'Ctl1', 'CtlDOF', 'DOFs', 'Dir1', 'DistEE', 'EEctl', 'EEmot', 'Env1', 'Force_GR', 'Force_Lin', 'Force_ST', 'HoldPayload', 'Planpath', 'StoreEE', 'Trajectory']\n",
      "High Degree Nodes: [('CtlDOF', 5), ('Force_ST', 5)]\n"
     ]
    }
   ],
   "source": [
    "print('Bridging Nodes:',mg.find_bridging_nodes())\n",
    "print('High Degree Nodes:',mg.find_high_degree_nodes())"
   ]
  },
  {
   "cell_type": "code",
   "execution_count": 17,
   "metadata": {
    "execution": {
     "iopub.execute_input": "2023-06-09T23:26:53.205909Z",
     "iopub.status.busy": "2023-06-09T23:26:53.205909Z",
     "iopub.status.idle": "2023-06-09T23:26:53.328296Z",
     "shell.execute_reply": "2023-06-09T23:26:53.327315Z"
    },
    "scrolled": true
   },
   "outputs": [
    {
     "data": {
      "image/png": "[encoded data removed]",
      "text/plain": [
       "<Figure size 432x288 with 1 Axes>"
      ]
     },
     "metadata": {
      "needs_background": "light"
     },
     "output_type": "display_data"
    }
   ],
   "source": [
    "fig = mg.plot_degree_dist()"
   ]
  },
  {
   "cell_type": "markdown",
   "metadata": {},
   "source": [
    "The SFF model can be simulated with options for simulation time, infection (failure) rate, and recovery (fix) rate. The start node can be selected or chosen randomly. Plotting includes an option for error bars. This models the system's response to a failure using an analogy of an epidemic spreading through a network."
   ]
  },
  {
   "cell_type": "code",
   "execution_count": 18,
   "metadata": {
    "execution": {
     "iopub.execute_input": "2023-06-09T23:26:53.334276Z",
     "iopub.status.busy": "2023-06-09T23:26:53.334276Z",
     "iopub.status.idle": "2023-06-09T23:26:53.707317Z",
     "shell.execute_reply": "2023-06-09T23:26:53.706322Z"
    }
   },
   "outputs": [
    {
     "data": {
      "image/png": "[encoded data removed]",
      "text/plain": [
       "<Figure size 432x288 with 1 Axes>"
      ]
     },
     "metadata": {
      "needs_background": "light"
     },
     "output_type": "display_data"
    }
   ],
   "source": [
    "fig = fg.sff_model(endtime=15,pi=.3,pr=.1,start_node='AffectDOF',error_bar_option='on')\n",
    "fig.savefig('sff_model.pdf', format=\"pdf\", bbox_inches = 'tight', pad_inches = 0)"
   ]
  },
  {
   "cell_type": "markdown",
   "metadata": {},
   "source": [
    "## Static Model\n",
    "\n",
    "In this demonstration, we will use a static representation of the system model to displaygraph views of fault scenarios and produce a static FMEA\n",
    "\n",
    "The static model is located in `drone_mdl_static.py`."
   ]
  },
  {
   "cell_type": "code",
   "execution_count": 19,
   "metadata": {
    "execution": {
     "iopub.execute_input": "2023-06-09T23:26:53.714297Z",
     "iopub.status.busy": "2023-06-09T23:26:53.713336Z",
     "iopub.status.idle": "2023-06-09T23:26:53.721470Z",
     "shell.execute_reply": "2023-06-09T23:26:53.721470Z"
    }
   },
   "outputs": [],
   "source": [
    "from drone_mdl_static import Drone as Drone_Static"
   ]
  },
  {
   "cell_type": "markdown",
   "metadata": {},
   "source": [
    "In design, it often helps to quantify the relative impact of fault scenarios. Here we produce a scenario-based FMEA to show which scenarios are most important in the model:"
   ]
  },
  {
   "cell_type": "code",
   "execution_count": 20,
   "metadata": {
    "execution": {
     "iopub.execute_input": "2023-06-09T23:26:53.725446Z",
     "iopub.status.busy": "2023-06-09T23:26:53.725446Z",
     "iopub.status.idle": "2023-06-09T23:26:54.071489Z",
     "shell.execute_reply": "2023-06-09T23:26:54.070482Z"
    }
   },
   "outputs": [
    {
     "name": "stderr",
     "output_type": "stream",
     "text": [
      "\r",
      "SCENARIOS COMPLETE:   0%|          | 0/50 [00:00<?, ?it/s]"
     ]
    },
    {
     "name": "stderr",
     "output_type": "stream",
     "text": [
      "\r",
      "SCENARIOS COMPLETE:  34%|███▍      | 17/50 [00:00<00:00, 160.80it/s]"
     ]
    },
    {
     "name": "stderr",
     "output_type": "stream",
     "text": [
      "\r",
      "SCENARIOS COMPLETE:  68%|██████▊   | 34/50 [00:00<00:00, 158.91it/s]"
     ]
    },
    {
     "name": "stderr",
     "output_type": "stream",
     "text": [
      "\r",
      "SCENARIOS COMPLETE: 100%|██████████| 50/50 [00:00<00:00, 160.59it/s]"
     ]
    },
    {
     "name": "stderr",
     "output_type": "stream",
     "text": [
      "\n"
     ]
    }
   ],
   "source": [
    "static_mdl = Drone_Static()\n",
    "endclasses, mdlhists = fs.propagate.single_faults(static_mdl)"
   ]
  },
  {
   "cell_type": "code",
   "execution_count": 21,
   "metadata": {
    "execution": {
     "iopub.execute_input": "2023-06-09T23:26:54.077506Z",
     "iopub.status.busy": "2023-06-09T23:26:54.077506Z",
     "iopub.status.idle": "2023-06-09T23:26:54.243203Z",
     "shell.execute_reply": "2023-06-09T23:26:54.242202Z"
    }
   },
   "outputs": [
    {
     "data": {
      "text/html": [
       "<div>\n",
       "<style scoped>\n",
       "    .dataframe tbody tr th:only-of-type {\n",
       "        vertical-align: middle;\n",
       "    }\n",
       "\n",
       "    .dataframe tbody tr th {\n",
       "        vertical-align: top;\n",
       "    }\n",
       "\n",
       "    .dataframe thead th {\n",
       "        text-align: right;\n",
       "    }\n",
       "</style>\n",
       "<table border=\"1\" class=\"dataframe\">\n",
       "  <thead>\n",
       "    <tr style=\"text-align: right;\">\n",
       "      <th></th>\n",
       "      <th>degraded</th>\n",
       "      <th>faulty</th>\n",
       "      <th>rate</th>\n",
       "      <th>cost</th>\n",
       "      <th>expected cost</th>\n",
       "    </tr>\n",
       "  </thead>\n",
       "  <tbody>\n",
       "    <tr>\n",
       "      <th>store_ee_nocharge_t1</th>\n",
       "      <td>['store_ee', 'dist_ee', 'ctl_dof', 'plan_path'...</td>\n",
       "      <td>['store_ee', 'dist_ee', 'ctl_dof', 'plan_path'...</td>\n",
       "      <td>0.00001</td>\n",
       "      <td>183300.0</td>\n",
       "      <td>183300.0</td>\n",
       "    </tr>\n",
       "    <tr>\n",
       "      <th>store_ee_nocharge_t0</th>\n",
       "      <td>['store_ee', 'dist_ee', 'ctl_dof', 'plan_path'...</td>\n",
       "      <td>['store_ee', 'dist_ee', 'ctl_dof', 'plan_path'...</td>\n",
       "      <td>0.00001</td>\n",
       "      <td>183300.0</td>\n",
       "      <td>183300.0</td>\n",
       "    </tr>\n",
       "    <tr>\n",
       "      <th>plan_path_degloc_t1</th>\n",
       "      <td>['dist_ee', 'ctl_dof', 'plan_path', 'trajector...</td>\n",
       "      <td>['dist_ee', 'ctl_dof', 'plan_path', 'trajector...</td>\n",
       "      <td>0.000008</td>\n",
       "      <td>193000.0</td>\n",
       "      <td>154400.0</td>\n",
       "    </tr>\n",
       "    <tr>\n",
       "      <th>plan_path_degloc_t0</th>\n",
       "      <td>['dist_ee', 'ctl_dof', 'plan_path', 'trajector...</td>\n",
       "      <td>['dist_ee', 'ctl_dof', 'plan_path', 'trajector...</td>\n",
       "      <td>0.000008</td>\n",
       "      <td>193000.0</td>\n",
       "      <td>154400.0</td>\n",
       "    </tr>\n",
       "    <tr>\n",
       "      <th>dist_ee_short_t0</th>\n",
       "      <td>['dist_ee', 'ctl_dof', 'plan_path', 'trajector...</td>\n",
       "      <td>['dist_ee', 'ctl_dof', 'plan_path', 'trajector...</td>\n",
       "      <td>0.000003</td>\n",
       "      <td>186000.0</td>\n",
       "      <td>55800.0</td>\n",
       "    </tr>\n",
       "    <tr>\n",
       "      <th>dist_ee_short_t1</th>\n",
       "      <td>['dist_ee', 'ctl_dof', 'plan_path', 'trajector...</td>\n",
       "      <td>['dist_ee', 'ctl_dof', 'plan_path', 'trajector...</td>\n",
       "      <td>0.000003</td>\n",
       "      <td>186000.0</td>\n",
       "      <td>55800.0</td>\n",
       "    </tr>\n",
       "    <tr>\n",
       "      <th>affect_dof_ctlbreak_t0</th>\n",
       "      <td>['dist_ee', 'affect_dof', 'ctl_dof', 'plan_pat...</td>\n",
       "      <td>['dist_ee', 'affect_dof', 'ctl_dof', 'plan_pat...</td>\n",
       "      <td>0.000002</td>\n",
       "      <td>184000.0</td>\n",
       "      <td>36800.0</td>\n",
       "    </tr>\n",
       "    <tr>\n",
       "      <th>affect_dof_ctlbreak_t1</th>\n",
       "      <td>['dist_ee', 'affect_dof', 'ctl_dof', 'plan_pat...</td>\n",
       "      <td>['dist_ee', 'affect_dof', 'ctl_dof', 'plan_pat...</td>\n",
       "      <td>0.000002</td>\n",
       "      <td>184000.0</td>\n",
       "      <td>36800.0</td>\n",
       "    </tr>\n",
       "    <tr>\n",
       "      <th>affect_dof_ctlup_t1</th>\n",
       "      <td>['dist_ee', 'affect_dof', 'ctl_dof', 'plan_pat...</td>\n",
       "      <td>['dist_ee', 'affect_dof', 'ctl_dof', 'plan_pat...</td>\n",
       "      <td>0.000002</td>\n",
       "      <td>183500.0</td>\n",
       "      <td>36700.0</td>\n",
       "    </tr>\n",
       "    <tr>\n",
       "      <th>affect_dof_ctlup_t0</th>\n",
       "      <td>['dist_ee', 'affect_dof', 'ctl_dof', 'plan_pat...</td>\n",
       "      <td>['dist_ee', 'affect_dof', 'ctl_dof', 'plan_pat...</td>\n",
       "      <td>0.000002</td>\n",
       "      <td>183500.0</td>\n",
       "      <td>36700.0</td>\n",
       "    </tr>\n",
       "    <tr>\n",
       "      <th>ctl_dof_noctl_t0</th>\n",
       "      <td>['dist_ee', 'ctl_dof', 'plan_path', 'trajector...</td>\n",
       "      <td>['dist_ee', 'ctl_dof', 'plan_path', 'trajector...</td>\n",
       "      <td>0.000002</td>\n",
       "      <td>183000.0</td>\n",
       "      <td>36600.0</td>\n",
       "    </tr>\n",
       "    <tr>\n",
       "      <th>dist_ee_break_t1</th>\n",
       "      <td>['dist_ee', 'ctl_dof', 'plan_path', 'trajector...</td>\n",
       "      <td>['dist_ee', 'ctl_dof', 'plan_path', 'trajector...</td>\n",
       "      <td>0.000002</td>\n",
       "      <td>183000.0</td>\n",
       "      <td>36600.0</td>\n",
       "    </tr>\n",
       "    <tr>\n",
       "      <th>dist_ee_break_t0</th>\n",
       "      <td>['dist_ee', 'ctl_dof', 'plan_path', 'trajector...</td>\n",
       "      <td>['dist_ee', 'ctl_dof', 'plan_path', 'trajector...</td>\n",
       "      <td>0.000002</td>\n",
       "      <td>183000.0</td>\n",
       "      <td>36600.0</td>\n",
       "    </tr>\n",
       "    <tr>\n",
       "      <th>ctl_dof_noctl_t1</th>\n",
       "      <td>['dist_ee', 'ctl_dof', 'plan_path', 'trajector...</td>\n",
       "      <td>['dist_ee', 'ctl_dof', 'plan_path', 'trajector...</td>\n",
       "      <td>0.000002</td>\n",
       "      <td>183000.0</td>\n",
       "      <td>36600.0</td>\n",
       "    </tr>\n",
       "    <tr>\n",
       "      <th>affect_dof_mechbreak_t0</th>\n",
       "      <td>['dist_ee', 'affect_dof', 'ctl_dof', 'plan_pat...</td>\n",
       "      <td>['dist_ee', 'affect_dof', 'ctl_dof', 'plan_pat...</td>\n",
       "      <td>0.000001</td>\n",
       "      <td>183500.0</td>\n",
       "      <td>18350.0</td>\n",
       "    </tr>\n",
       "    <tr>\n",
       "      <th>affect_dof_mechbreak_t1</th>\n",
       "      <td>['dist_ee', 'affect_dof', 'ctl_dof', 'plan_pat...</td>\n",
       "      <td>['dist_ee', 'affect_dof', 'ctl_dof', 'plan_pat...</td>\n",
       "      <td>0.000001</td>\n",
       "      <td>183500.0</td>\n",
       "      <td>18350.0</td>\n",
       "    </tr>\n",
       "    <tr>\n",
       "      <th>affect_dof_openc_t0</th>\n",
       "      <td>['dist_ee', 'affect_dof', 'ctl_dof', 'plan_pat...</td>\n",
       "      <td>['dist_ee', 'affect_dof', 'ctl_dof', 'plan_pat...</td>\n",
       "      <td>0.000001</td>\n",
       "      <td>183200.0</td>\n",
       "      <td>18320.0</td>\n",
       "    </tr>\n",
       "    <tr>\n",
       "      <th>affect_dof_short_t0</th>\n",
       "      <td>['dist_ee', 'affect_dof', 'ctl_dof', 'plan_pat...</td>\n",
       "      <td>['dist_ee', 'affect_dof', 'ctl_dof', 'plan_pat...</td>\n",
       "      <td>0.000001</td>\n",
       "      <td>183200.0</td>\n",
       "      <td>18320.0</td>\n",
       "    </tr>\n",
       "    <tr>\n",
       "      <th>affect_dof_short_t1</th>\n",
       "      <td>['dist_ee', 'affect_dof', 'ctl_dof', 'plan_pat...</td>\n",
       "      <td>['dist_ee', 'affect_dof', 'ctl_dof', 'plan_pat...</td>\n",
       "      <td>0.000001</td>\n",
       "      <td>183200.0</td>\n",
       "      <td>18320.0</td>\n",
       "    </tr>\n",
       "    <tr>\n",
       "      <th>affect_dof_openc_t1</th>\n",
       "      <td>['dist_ee', 'affect_dof', 'ctl_dof', 'plan_pat...</td>\n",
       "      <td>['dist_ee', 'affect_dof', 'ctl_dof', 'plan_pat...</td>\n",
       "      <td>0.000001</td>\n",
       "      <td>183200.0</td>\n",
       "      <td>18320.0</td>\n",
       "    </tr>\n",
       "    <tr>\n",
       "      <th>hold_payload_deform_t0</th>\n",
       "      <td>['dist_ee', 'ctl_dof', 'plan_path', 'trajector...</td>\n",
       "      <td>['dist_ee', 'ctl_dof', 'plan_path', 'trajector...</td>\n",
       "      <td>0.000001</td>\n",
       "      <td>193000.0</td>\n",
       "      <td>15440.0</td>\n",
       "    </tr>\n",
       "    <tr>\n",
       "      <th>plan_path_noloc_t0</th>\n",
       "      <td>['plan_path', 'trajectory', 'ctl', 'dofs', 'en...</td>\n",
       "      <td>['plan_path', 'trajectory']</td>\n",
       "      <td>0.000002</td>\n",
       "      <td>60000.0</td>\n",
       "      <td>12000.0</td>\n",
       "    </tr>\n",
       "    <tr>\n",
       "      <th>plan_path_noloc_t1</th>\n",
       "      <td>['plan_path', 'trajectory', 'ctl', 'dofs', 'en...</td>\n",
       "      <td>['plan_path', 'trajectory']</td>\n",
       "      <td>0.000002</td>\n",
       "      <td>60000.0</td>\n",
       "      <td>12000.0</td>\n",
       "    </tr>\n",
       "    <tr>\n",
       "      <th>ctl_dof_degctl_t1</th>\n",
       "      <td>['ctl_dof', 'force_gr', 'force_lg', 'ctl', 'do...</td>\n",
       "      <td>['ctl_dof']</td>\n",
       "      <td>0.000008</td>\n",
       "      <td>10000.0</td>\n",
       "      <td>8000.0</td>\n",
       "    </tr>\n",
       "    <tr>\n",
       "      <th>ctl_dof_degctl_t0</th>\n",
       "      <td>['ctl_dof', 'force_gr', 'force_lg', 'ctl', 'do...</td>\n",
       "      <td>['ctl_dof']</td>\n",
       "      <td>0.000008</td>\n",
       "      <td>10000.0</td>\n",
       "      <td>8000.0</td>\n",
       "    </tr>\n",
       "    <tr>\n",
       "      <th>affect_dof_propbreak_t0</th>\n",
       "      <td>['dist_ee', 'affect_dof', 'ctl_dof', 'plan_pat...</td>\n",
       "      <td>['dist_ee', 'affect_dof', 'ctl_dof', 'plan_pat...</td>\n",
       "      <td>0.0</td>\n",
       "      <td>183200.0</td>\n",
       "      <td>5496.0</td>\n",
       "    </tr>\n",
       "    <tr>\n",
       "      <th>affect_dof_propbreak_t1</th>\n",
       "      <td>['dist_ee', 'affect_dof', 'ctl_dof', 'plan_pat...</td>\n",
       "      <td>['dist_ee', 'affect_dof', 'ctl_dof', 'plan_pat...</td>\n",
       "      <td>0.0</td>\n",
       "      <td>183200.0</td>\n",
       "      <td>5496.0</td>\n",
       "    </tr>\n",
       "    <tr>\n",
       "      <th>affect_dof_propstuck_t1</th>\n",
       "      <td>['dist_ee', 'affect_dof', 'ctl_dof', 'plan_pat...</td>\n",
       "      <td>['dist_ee', 'affect_dof', 'ctl_dof', 'plan_pat...</td>\n",
       "      <td>0.0</td>\n",
       "      <td>183200.0</td>\n",
       "      <td>3664.0</td>\n",
       "    </tr>\n",
       "    <tr>\n",
       "      <th>affect_dof_propstuck_t0</th>\n",
       "      <td>['dist_ee', 'affect_dof', 'ctl_dof', 'plan_pat...</td>\n",
       "      <td>['dist_ee', 'affect_dof', 'ctl_dof', 'plan_pat...</td>\n",
       "      <td>0.0</td>\n",
       "      <td>183200.0</td>\n",
       "      <td>3664.0</td>\n",
       "    </tr>\n",
       "    <tr>\n",
       "      <th>hold_payload_break_t1</th>\n",
       "      <td>['dist_ee', 'ctl_dof', 'plan_path', 'trajector...</td>\n",
       "      <td>['dist_ee', 'ctl_dof', 'plan_path', 'trajector...</td>\n",
       "      <td>0.0</td>\n",
       "      <td>183000.0</td>\n",
       "      <td>3660.0</td>\n",
       "    </tr>\n",
       "    <tr>\n",
       "      <th>hold_payload_break_t0</th>\n",
       "      <td>['dist_ee', 'ctl_dof', 'plan_path', 'trajector...</td>\n",
       "      <td>['dist_ee', 'ctl_dof', 'plan_path', 'trajector...</td>\n",
       "      <td>0.0</td>\n",
       "      <td>183000.0</td>\n",
       "      <td>3660.0</td>\n",
       "    </tr>\n",
       "    <tr>\n",
       "      <th>view_env_poorview_t0</th>\n",
       "      <td>['view_env', 'env']</td>\n",
       "      <td>['view_env']</td>\n",
       "      <td>0.000002</td>\n",
       "      <td>10000.0</td>\n",
       "      <td>2000.0</td>\n",
       "    </tr>\n",
       "    <tr>\n",
       "      <th>view_env_poorview_t1</th>\n",
       "      <td>['view_env', 'env']</td>\n",
       "      <td>['view_env']</td>\n",
       "      <td>0.000002</td>\n",
       "      <td>10000.0</td>\n",
       "      <td>2000.0</td>\n",
       "    </tr>\n",
       "    <tr>\n",
       "      <th>engage_land_deform_t1</th>\n",
       "      <td>['engage_land']</td>\n",
       "      <td>['engage_land']</td>\n",
       "      <td>0.000008</td>\n",
       "      <td>1000.0</td>\n",
       "      <td>800.0</td>\n",
       "    </tr>\n",
       "    <tr>\n",
       "      <th>engage_land_deform_t0</th>\n",
       "      <td>['engage_land']</td>\n",
       "      <td>['engage_land']</td>\n",
       "      <td>0.000008</td>\n",
       "      <td>1000.0</td>\n",
       "      <td>800.0</td>\n",
       "    </tr>\n",
       "    <tr>\n",
       "      <th>hold_payload_deform_t1</th>\n",
       "      <td>['hold_payload', 'force_st', 'force_lin']</td>\n",
       "      <td>['hold_payload']</td>\n",
       "      <td>0.000001</td>\n",
       "      <td>10000.0</td>\n",
       "      <td>800.0</td>\n",
       "    </tr>\n",
       "    <tr>\n",
       "      <th>dist_ee_degr_t0</th>\n",
       "      <td>['dist_ee', 'force_gr', 'force_lg', 'ee_mot', ...</td>\n",
       "      <td>['dist_ee']</td>\n",
       "      <td>0.000005</td>\n",
       "      <td>1000.0</td>\n",
       "      <td>500.0</td>\n",
       "    </tr>\n",
       "    <tr>\n",
       "      <th>dist_ee_degr_t1</th>\n",
       "      <td>['dist_ee', 'force_gr', 'force_lg', 'ee_mot', ...</td>\n",
       "      <td>['dist_ee']</td>\n",
       "      <td>0.000005</td>\n",
       "      <td>1000.0</td>\n",
       "      <td>500.0</td>\n",
       "    </tr>\n",
       "    <tr>\n",
       "      <th>engage_land_break_t1</th>\n",
       "      <td>['engage_land']</td>\n",
       "      <td>['engage_land']</td>\n",
       "      <td>0.000002</td>\n",
       "      <td>1000.0</td>\n",
       "      <td>200.0</td>\n",
       "    </tr>\n",
       "    <tr>\n",
       "      <th>engage_land_break_t0</th>\n",
       "      <td>['engage_land']</td>\n",
       "      <td>['engage_land']</td>\n",
       "      <td>0.000002</td>\n",
       "      <td>1000.0</td>\n",
       "      <td>200.0</td>\n",
       "    </tr>\n",
       "    <tr>\n",
       "      <th>affect_dof_ctldn_t0</th>\n",
       "      <td>['affect_dof', 'force_gr', 'force_lg', 'ctl', ...</td>\n",
       "      <td>['affect_dof']</td>\n",
       "      <td>0.000002</td>\n",
       "      <td>500.0</td>\n",
       "      <td>100.0</td>\n",
       "    </tr>\n",
       "    <tr>\n",
       "      <th>affect_dof_ctldn_t1</th>\n",
       "      <td>['affect_dof', 'force_gr', 'force_lg', 'ctl', ...</td>\n",
       "      <td>['affect_dof']</td>\n",
       "      <td>0.000002</td>\n",
       "      <td>500.0</td>\n",
       "      <td>100.0</td>\n",
       "    </tr>\n",
       "    <tr>\n",
       "      <th>affect_dof_mechfriction_t0</th>\n",
       "      <td>['affect_dof', 'ee_1', 'ee_mot']</td>\n",
       "      <td>['affect_dof']</td>\n",
       "      <td>0.000001</td>\n",
       "      <td>500.0</td>\n",
       "      <td>25.0</td>\n",
       "    </tr>\n",
       "    <tr>\n",
       "      <th>affect_dof_mechfriction_t1</th>\n",
       "      <td>['affect_dof', 'ee_1', 'ee_mot']</td>\n",
       "      <td>['affect_dof']</td>\n",
       "      <td>0.000001</td>\n",
       "      <td>500.0</td>\n",
       "      <td>25.0</td>\n",
       "    </tr>\n",
       "    <tr>\n",
       "      <th>affect_dof_propwarp_t1</th>\n",
       "      <td>['affect_dof', 'force_gr', 'force_lg', 'dofs']</td>\n",
       "      <td>['affect_dof']</td>\n",
       "      <td>0.0</td>\n",
       "      <td>200.0</td>\n",
       "      <td>2.0</td>\n",
       "    </tr>\n",
       "    <tr>\n",
       "      <th>affect_dof_propwarp_t0</th>\n",
       "      <td>['affect_dof', 'force_gr', 'force_lg', 'dofs']</td>\n",
       "      <td>['affect_dof']</td>\n",
       "      <td>0.0</td>\n",
       "      <td>200.0</td>\n",
       "      <td>2.0</td>\n",
       "    </tr>\n",
       "    <tr>\n",
       "      <th>trajectory_lost_t1</th>\n",
       "      <td>['trajectory']</td>\n",
       "      <td>['trajectory']</td>\n",
       "      <td>0.0</td>\n",
       "      <td>50000.0</td>\n",
       "      <td>0.0</td>\n",
       "    </tr>\n",
       "    <tr>\n",
       "      <th>trajectory_lost_t0</th>\n",
       "      <td>['trajectory']</td>\n",
       "      <td>['trajectory']</td>\n",
       "      <td>0.0</td>\n",
       "      <td>50000.0</td>\n",
       "      <td>0.0</td>\n",
       "    </tr>\n",
       "    <tr>\n",
       "      <th>trajectory_crash_t1</th>\n",
       "      <td>['trajectory']</td>\n",
       "      <td>['trajectory']</td>\n",
       "      <td>0.0</td>\n",
       "      <td>100000.0</td>\n",
       "      <td>0.0</td>\n",
       "    </tr>\n",
       "    <tr>\n",
       "      <th>nominal</th>\n",
       "      <td>[]</td>\n",
       "      <td>[]</td>\n",
       "      <td>1.0</td>\n",
       "      <td>0.0</td>\n",
       "      <td>0.0</td>\n",
       "    </tr>\n",
       "    <tr>\n",
       "      <th>trajectory_crash_t0</th>\n",
       "      <td>['trajectory']</td>\n",
       "      <td>['trajectory']</td>\n",
       "      <td>0.0</td>\n",
       "      <td>100000.0</td>\n",
       "      <td>0.0</td>\n",
       "    </tr>\n",
       "  </tbody>\n",
       "</table>\n",
       "</div>"
      ],
      "text/plain": [
       "                                                                     degraded  \\\n",
       "store_ee_nocharge_t1        ['store_ee', 'dist_ee', 'ctl_dof', 'plan_path'...   \n",
       "store_ee_nocharge_t0        ['store_ee', 'dist_ee', 'ctl_dof', 'plan_path'...   \n",
       "plan_path_degloc_t1         ['dist_ee', 'ctl_dof', 'plan_path', 'trajector...   \n",
       "plan_path_degloc_t0         ['dist_ee', 'ctl_dof', 'plan_path', 'trajector...   \n",
       "dist_ee_short_t0            ['dist_ee', 'ctl_dof', 'plan_path', 'trajector...   \n",
       "dist_ee_short_t1            ['dist_ee', 'ctl_dof', 'plan_path', 'trajector...   \n",
       "affect_dof_ctlbreak_t0      ['dist_ee', 'affect_dof', 'ctl_dof', 'plan_pat...   \n",
       "affect_dof_ctlbreak_t1      ['dist_ee', 'affect_dof', 'ctl_dof', 'plan_pat...   \n",
       "affect_dof_ctlup_t1         ['dist_ee', 'affect_dof', 'ctl_dof', 'plan_pat...   \n",
       "affect_dof_ctlup_t0         ['dist_ee', 'affect_dof', 'ctl_dof', 'plan_pat...   \n",
       "ctl_dof_noctl_t0            ['dist_ee', 'ctl_dof', 'plan_path', 'trajector...   \n",
       "dist_ee_break_t1            ['dist_ee', 'ctl_dof', 'plan_path', 'trajector...   \n",
       "dist_ee_break_t0            ['dist_ee', 'ctl_dof', 'plan_path', 'trajector...   \n",
       "ctl_dof_noctl_t1            ['dist_ee', 'ctl_dof', 'plan_path', 'trajector...   \n",
       "affect_dof_mechbreak_t0     ['dist_ee', 'affect_dof', 'ctl_dof', 'plan_pat...   \n",
       "affect_dof_mechbreak_t1     ['dist_ee', 'affect_dof', 'ctl_dof', 'plan_pat...   \n",
       "affect_dof_openc_t0         ['dist_ee', 'affect_dof', 'ctl_dof', 'plan_pat...   \n",
       "affect_dof_short_t0         ['dist_ee', 'affect_dof', 'ctl_dof', 'plan_pat...   \n",
       "affect_dof_short_t1         ['dist_ee', 'affect_dof', 'ctl_dof', 'plan_pat...   \n",
       "affect_dof_openc_t1         ['dist_ee', 'affect_dof', 'ctl_dof', 'plan_pat...   \n",
       "hold_payload_deform_t0      ['dist_ee', 'ctl_dof', 'plan_path', 'trajector...   \n",
       "plan_path_noloc_t0          ['plan_path', 'trajectory', 'ctl', 'dofs', 'en...   \n",
       "plan_path_noloc_t1          ['plan_path', 'trajectory', 'ctl', 'dofs', 'en...   \n",
       "ctl_dof_degctl_t1           ['ctl_dof', 'force_gr', 'force_lg', 'ctl', 'do...   \n",
       "ctl_dof_degctl_t0           ['ctl_dof', 'force_gr', 'force_lg', 'ctl', 'do...   \n",
       "affect_dof_propbreak_t0     ['dist_ee', 'affect_dof', 'ctl_dof', 'plan_pat...   \n",
       "affect_dof_propbreak_t1     ['dist_ee', 'affect_dof', 'ctl_dof', 'plan_pat...   \n",
       "affect_dof_propstuck_t1     ['dist_ee', 'affect_dof', 'ctl_dof', 'plan_pat...   \n",
       "affect_dof_propstuck_t0     ['dist_ee', 'affect_dof', 'ctl_dof', 'plan_pat...   \n",
       "hold_payload_break_t1       ['dist_ee', 'ctl_dof', 'plan_path', 'trajector...   \n",
       "hold_payload_break_t0       ['dist_ee', 'ctl_dof', 'plan_path', 'trajector...   \n",
       "view_env_poorview_t0                                      ['view_env', 'env']   \n",
       "view_env_poorview_t1                                      ['view_env', 'env']   \n",
       "engage_land_deform_t1                                         ['engage_land']   \n",
       "engage_land_deform_t0                                         ['engage_land']   \n",
       "hold_payload_deform_t1              ['hold_payload', 'force_st', 'force_lin']   \n",
       "dist_ee_degr_t0             ['dist_ee', 'force_gr', 'force_lg', 'ee_mot', ...   \n",
       "dist_ee_degr_t1             ['dist_ee', 'force_gr', 'force_lg', 'ee_mot', ...   \n",
       "engage_land_break_t1                                          ['engage_land']   \n",
       "engage_land_break_t0                                          ['engage_land']   \n",
       "affect_dof_ctldn_t0         ['affect_dof', 'force_gr', 'force_lg', 'ctl', ...   \n",
       "affect_dof_ctldn_t1         ['affect_dof', 'force_gr', 'force_lg', 'ctl', ...   \n",
       "affect_dof_mechfriction_t0                   ['affect_dof', 'ee_1', 'ee_mot']   \n",
       "affect_dof_mechfriction_t1                   ['affect_dof', 'ee_1', 'ee_mot']   \n",
       "affect_dof_propwarp_t1         ['affect_dof', 'force_gr', 'force_lg', 'dofs']   \n",
       "affect_dof_propwarp_t0         ['affect_dof', 'force_gr', 'force_lg', 'dofs']   \n",
       "trajectory_lost_t1                                             ['trajectory']   \n",
       "trajectory_lost_t0                                             ['trajectory']   \n",
       "trajectory_crash_t1                                            ['trajectory']   \n",
       "nominal                                                                    []   \n",
       "trajectory_crash_t0                                            ['trajectory']   \n",
       "\n",
       "                                                                       faulty  \\\n",
       "store_ee_nocharge_t1        ['store_ee', 'dist_ee', 'ctl_dof', 'plan_path'...   \n",
       "store_ee_nocharge_t0        ['store_ee', 'dist_ee', 'ctl_dof', 'plan_path'...   \n",
       "plan_path_degloc_t1         ['dist_ee', 'ctl_dof', 'plan_path', 'trajector...   \n",
       "plan_path_degloc_t0         ['dist_ee', 'ctl_dof', 'plan_path', 'trajector...   \n",
       "dist_ee_short_t0            ['dist_ee', 'ctl_dof', 'plan_path', 'trajector...   \n",
       "dist_ee_short_t1            ['dist_ee', 'ctl_dof', 'plan_path', 'trajector...   \n",
       "affect_dof_ctlbreak_t0      ['dist_ee', 'affect_dof', 'ctl_dof', 'plan_pat...   \n",
       "affect_dof_ctlbreak_t1      ['dist_ee', 'affect_dof', 'ctl_dof', 'plan_pat...   \n",
       "affect_dof_ctlup_t1         ['dist_ee', 'affect_dof', 'ctl_dof', 'plan_pat...   \n",
       "affect_dof_ctlup_t0         ['dist_ee', 'affect_dof', 'ctl_dof', 'plan_pat...   \n",
       "ctl_dof_noctl_t0            ['dist_ee', 'ctl_dof', 'plan_path', 'trajector...   \n",
       "dist_ee_break_t1            ['dist_ee', 'ctl_dof', 'plan_path', 'trajector...   \n",
       "dist_ee_break_t0            ['dist_ee', 'ctl_dof', 'plan_path', 'trajector...   \n",
       "ctl_dof_noctl_t1            ['dist_ee', 'ctl_dof', 'plan_path', 'trajector...   \n",
       "affect_dof_mechbreak_t0     ['dist_ee', 'affect_dof', 'ctl_dof', 'plan_pat...   \n",
       "affect_dof_mechbreak_t1     ['dist_ee', 'affect_dof', 'ctl_dof', 'plan_pat...   \n",
       "affect_dof_openc_t0         ['dist_ee', 'affect_dof', 'ctl_dof', 'plan_pat...   \n",
       "affect_dof_short_t0         ['dist_ee', 'affect_dof', 'ctl_dof', 'plan_pat...   \n",
       "affect_dof_short_t1         ['dist_ee', 'affect_dof', 'ctl_dof', 'plan_pat...   \n",
       "affect_dof_openc_t1         ['dist_ee', 'affect_dof', 'ctl_dof', 'plan_pat...   \n",
       "hold_payload_deform_t0      ['dist_ee', 'ctl_dof', 'plan_path', 'trajector...   \n",
       "plan_path_noloc_t0                                ['plan_path', 'trajectory']   \n",
       "plan_path_noloc_t1                                ['plan_path', 'trajectory']   \n",
       "ctl_dof_degctl_t1                                                 ['ctl_dof']   \n",
       "ctl_dof_degctl_t0                                                 ['ctl_dof']   \n",
       "affect_dof_propbreak_t0     ['dist_ee', 'affect_dof', 'ctl_dof', 'plan_pat...   \n",
       "affect_dof_propbreak_t1     ['dist_ee', 'affect_dof', 'ctl_dof', 'plan_pat...   \n",
       "affect_dof_propstuck_t1     ['dist_ee', 'affect_dof', 'ctl_dof', 'plan_pat...   \n",
       "affect_dof_propstuck_t0     ['dist_ee', 'affect_dof', 'ctl_dof', 'plan_pat...   \n",
       "hold_payload_break_t1       ['dist_ee', 'ctl_dof', 'plan_path', 'trajector...   \n",
       "hold_payload_break_t0       ['dist_ee', 'ctl_dof', 'plan_path', 'trajector...   \n",
       "view_env_poorview_t0                                             ['view_env']   \n",
       "view_env_poorview_t1                                             ['view_env']   \n",
       "engage_land_deform_t1                                         ['engage_land']   \n",
       "engage_land_deform_t0                                         ['engage_land']   \n",
       "hold_payload_deform_t1                                       ['hold_payload']   \n",
       "dist_ee_degr_t0                                                   ['dist_ee']   \n",
       "dist_ee_degr_t1                                                   ['dist_ee']   \n",
       "engage_land_break_t1                                          ['engage_land']   \n",
       "engage_land_break_t0                                          ['engage_land']   \n",
       "affect_dof_ctldn_t0                                            ['affect_dof']   \n",
       "affect_dof_ctldn_t1                                            ['affect_dof']   \n",
       "affect_dof_mechfriction_t0                                     ['affect_dof']   \n",
       "affect_dof_mechfriction_t1                                     ['affect_dof']   \n",
       "affect_dof_propwarp_t1                                         ['affect_dof']   \n",
       "affect_dof_propwarp_t0                                         ['affect_dof']   \n",
       "trajectory_lost_t1                                             ['trajectory']   \n",
       "trajectory_lost_t0                                             ['trajectory']   \n",
       "trajectory_crash_t1                                            ['trajectory']   \n",
       "nominal                                                                    []   \n",
       "trajectory_crash_t0                                            ['trajectory']   \n",
       "\n",
       "                                rate      cost expected cost  \n",
       "store_ee_nocharge_t1         0.00001  183300.0      183300.0  \n",
       "store_ee_nocharge_t0         0.00001  183300.0      183300.0  \n",
       "plan_path_degloc_t1         0.000008  193000.0      154400.0  \n",
       "plan_path_degloc_t0         0.000008  193000.0      154400.0  \n",
       "dist_ee_short_t0            0.000003  186000.0       55800.0  \n",
       "dist_ee_short_t1            0.000003  186000.0       55800.0  \n",
       "affect_dof_ctlbreak_t0      0.000002  184000.0       36800.0  \n",
       "affect_dof_ctlbreak_t1      0.000002  184000.0       36800.0  \n",
       "affect_dof_ctlup_t1         0.000002  183500.0       36700.0  \n",
       "affect_dof_ctlup_t0         0.000002  183500.0       36700.0  \n",
       "ctl_dof_noctl_t0            0.000002  183000.0       36600.0  \n",
       "dist_ee_break_t1            0.000002  183000.0       36600.0  \n",
       "dist_ee_break_t0            0.000002  183000.0       36600.0  \n",
       "ctl_dof_noctl_t1            0.000002  183000.0       36600.0  \n",
       "affect_dof_mechbreak_t0     0.000001  183500.0       18350.0  \n",
       "affect_dof_mechbreak_t1     0.000001  183500.0       18350.0  \n",
       "affect_dof_openc_t0         0.000001  183200.0       18320.0  \n",
       "affect_dof_short_t0         0.000001  183200.0       18320.0  \n",
       "affect_dof_short_t1         0.000001  183200.0       18320.0  \n",
       "affect_dof_openc_t1         0.000001  183200.0       18320.0  \n",
       "hold_payload_deform_t0      0.000001  193000.0       15440.0  \n",
       "plan_path_noloc_t0          0.000002   60000.0       12000.0  \n",
       "plan_path_noloc_t1          0.000002   60000.0       12000.0  \n",
       "ctl_dof_degctl_t1           0.000008   10000.0        8000.0  \n",
       "ctl_dof_degctl_t0           0.000008   10000.0        8000.0  \n",
       "affect_dof_propbreak_t0          0.0  183200.0        5496.0  \n",
       "affect_dof_propbreak_t1          0.0  183200.0        5496.0  \n",
       "affect_dof_propstuck_t1          0.0  183200.0        3664.0  \n",
       "affect_dof_propstuck_t0          0.0  183200.0        3664.0  \n",
       "hold_payload_break_t1            0.0  183000.0        3660.0  \n",
       "hold_payload_break_t0            0.0  183000.0        3660.0  \n",
       "view_env_poorview_t0        0.000002   10000.0        2000.0  \n",
       "view_env_poorview_t1        0.000002   10000.0        2000.0  \n",
       "engage_land_deform_t1       0.000008    1000.0         800.0  \n",
       "engage_land_deform_t0       0.000008    1000.0         800.0  \n",
       "hold_payload_deform_t1      0.000001   10000.0         800.0  \n",
       "dist_ee_degr_t0             0.000005    1000.0         500.0  \n",
       "dist_ee_degr_t1             0.000005    1000.0         500.0  \n",
       "engage_land_break_t1        0.000002    1000.0         200.0  \n",
       "engage_land_break_t0        0.000002    1000.0         200.0  \n",
       "affect_dof_ctldn_t0         0.000002     500.0         100.0  \n",
       "affect_dof_ctldn_t1         0.000002     500.0         100.0  \n",
       "affect_dof_mechfriction_t0  0.000001     500.0          25.0  \n",
       "affect_dof_mechfriction_t1  0.000001     500.0          25.0  \n",
       "affect_dof_propwarp_t1           0.0     200.0           2.0  \n",
       "affect_dof_propwarp_t0           0.0     200.0           2.0  \n",
       "trajectory_lost_t1               0.0   50000.0           0.0  \n",
       "trajectory_lost_t0               0.0   50000.0           0.0  \n",
       "trajectory_crash_t1              0.0  100000.0           0.0  \n",
       "nominal                          1.0       0.0           0.0  \n",
       "trajectory_crash_t0              0.0  100000.0           0.0  "
      ]
     },
     "execution_count": 21,
     "metadata": {},
     "output_type": "execute_result"
    }
   ],
   "source": [
    "static_fmea = an.tabulate.result_summary_fmea(endclasses, mdlhists, *static_mdl.fxns, *static_mdl.flows)\n",
    "static_fmea.sort_values('expected cost', ascending=False)"
   ]
  },
  {
   "cell_type": "code",
   "execution_count": 22,
   "metadata": {
    "execution": {
     "iopub.execute_input": "2023-06-09T23:26:54.246194Z",
     "iopub.status.busy": "2023-06-09T23:26:54.245231Z",
     "iopub.status.idle": "2023-06-09T23:26:54.274299Z",
     "shell.execute_reply": "2023-06-09T23:26:54.273297Z"
    }
   },
   "outputs": [
    {
     "name": "stdout",
     "output_type": "stream",
     "text": [
      "\\begin{tabular}{llllll}\n",
      "\\toprule\n",
      "{} &                                           degraded &                                             faulty &      rate &      cost & expected cost \\\\\n",
      "\\midrule\n",
      "store\\_ee\\_nocharge\\_t1       &  ['store\\_ee', 'dist\\_ee', 'ctl\\_dof', 'plan\\_path'... &  ['store\\_ee', 'dist\\_ee', 'ctl\\_dof', 'plan\\_path'... &   0.00001 &  183300.0 &      183300.0 \\\\\n",
      "store\\_ee\\_nocharge\\_t0       &  ['store\\_ee', 'dist\\_ee', 'ctl\\_dof', 'plan\\_path'... &  ['store\\_ee', 'dist\\_ee', 'ctl\\_dof', 'plan\\_path'... &   0.00001 &  183300.0 &      183300.0 \\\\\n",
      "plan\\_path\\_degloc\\_t1        &  ['dist\\_ee', 'ctl\\_dof', 'plan\\_path', 'trajector... &  ['dist\\_ee', 'ctl\\_dof', 'plan\\_path', 'trajector... &  0.000008 &  193000.0 &      154400.0 \\\\\n",
      "plan\\_path\\_degloc\\_t0        &  ['dist\\_ee', 'ctl\\_dof', 'plan\\_path', 'trajector... &  ['dist\\_ee', 'ctl\\_dof', 'plan\\_path', 'trajector... &  0.000008 &  193000.0 &      154400.0 \\\\\n",
      "dist\\_ee\\_short\\_t0           &  ['dist\\_ee', 'ctl\\_dof', 'plan\\_path', 'trajector... &  ['dist\\_ee', 'ctl\\_dof', 'plan\\_path', 'trajector... &  0.000003 &  186000.0 &       55800.0 \\\\\n",
      "dist\\_ee\\_short\\_t1           &  ['dist\\_ee', 'ctl\\_dof', 'plan\\_path', 'trajector... &  ['dist\\_ee', 'ctl\\_dof', 'plan\\_path', 'trajector... &  0.000003 &  186000.0 &       55800.0 \\\\\n",
      "affect\\_dof\\_ctlbreak\\_t0     &  ['dist\\_ee', 'affect\\_dof', 'ctl\\_dof', 'plan\\_pat... &  ['dist\\_ee', 'affect\\_dof', 'ctl\\_dof', 'plan\\_pat... &  0.000002 &  184000.0 &       36800.0 \\\\\n",
      "affect\\_dof\\_ctlbreak\\_t1     &  ['dist\\_ee', 'affect\\_dof', 'ctl\\_dof', 'plan\\_pat... &  ['dist\\_ee', 'affect\\_dof', 'ctl\\_dof', 'plan\\_pat... &  0.000002 &  184000.0 &       36800.0 \\\\\n",
      "affect\\_dof\\_ctlup\\_t1        &  ['dist\\_ee', 'affect\\_dof', 'ctl\\_dof', 'plan\\_pat... &  ['dist\\_ee', 'affect\\_dof', 'ctl\\_dof', 'plan\\_pat... &  0.000002 &  183500.0 &       36700.0 \\\\\n",
      "affect\\_dof\\_ctlup\\_t0        &  ['dist\\_ee', 'affect\\_dof', 'ctl\\_dof', 'plan\\_pat... &  ['dist\\_ee', 'affect\\_dof', 'ctl\\_dof', 'plan\\_pat... &  0.000002 &  183500.0 &       36700.0 \\\\\n",
      "ctl\\_dof\\_noctl\\_t0           &  ['dist\\_ee', 'ctl\\_dof', 'plan\\_path', 'trajector... &  ['dist\\_ee', 'ctl\\_dof', 'plan\\_path', 'trajector... &  0.000002 &  183000.0 &       36600.0 \\\\\n",
      "dist\\_ee\\_break\\_t1           &  ['dist\\_ee', 'ctl\\_dof', 'plan\\_path', 'trajector... &  ['dist\\_ee', 'ctl\\_dof', 'plan\\_path', 'trajector... &  0.000002 &  183000.0 &       36600.0 \\\\\n",
      "dist\\_ee\\_break\\_t0           &  ['dist\\_ee', 'ctl\\_dof', 'plan\\_path', 'trajector... &  ['dist\\_ee', 'ctl\\_dof', 'plan\\_path', 'trajector... &  0.000002 &  183000.0 &       36600.0 \\\\\n",
      "ctl\\_dof\\_noctl\\_t1           &  ['dist\\_ee', 'ctl\\_dof', 'plan\\_path', 'trajector... &  ['dist\\_ee', 'ctl\\_dof', 'plan\\_path', 'trajector... &  0.000002 &  183000.0 &       36600.0 \\\\\n",
      "affect\\_dof\\_mechbreak\\_t0    &  ['dist\\_ee', 'affect\\_dof', 'ctl\\_dof', 'plan\\_pat... &  ['dist\\_ee', 'affect\\_dof', 'ctl\\_dof', 'plan\\_pat... &  0.000001 &  183500.0 &       18350.0 \\\\\n",
      "affect\\_dof\\_mechbreak\\_t1    &  ['dist\\_ee', 'affect\\_dof', 'ctl\\_dof', 'plan\\_pat... &  ['dist\\_ee', 'affect\\_dof', 'ctl\\_dof', 'plan\\_pat... &  0.000001 &  183500.0 &       18350.0 \\\\\n",
      "affect\\_dof\\_openc\\_t0        &  ['dist\\_ee', 'affect\\_dof', 'ctl\\_dof', 'plan\\_pat... &  ['dist\\_ee', 'affect\\_dof', 'ctl\\_dof', 'plan\\_pat... &  0.000001 &  183200.0 &       18320.0 \\\\\n",
      "affect\\_dof\\_short\\_t0        &  ['dist\\_ee', 'affect\\_dof', 'ctl\\_dof', 'plan\\_pat... &  ['dist\\_ee', 'affect\\_dof', 'ctl\\_dof', 'plan\\_pat... &  0.000001 &  183200.0 &       18320.0 \\\\\n",
      "affect\\_dof\\_short\\_t1        &  ['dist\\_ee', 'affect\\_dof', 'ctl\\_dof', 'plan\\_pat... &  ['dist\\_ee', 'affect\\_dof', 'ctl\\_dof', 'plan\\_pat... &  0.000001 &  183200.0 &       18320.0 \\\\\n",
      "affect\\_dof\\_openc\\_t1        &  ['dist\\_ee', 'affect\\_dof', 'ctl\\_dof', 'plan\\_pat... &  ['dist\\_ee', 'affect\\_dof', 'ctl\\_dof', 'plan\\_pat... &  0.000001 &  183200.0 &       18320.0 \\\\\n",
      "hold\\_payload\\_deform\\_t0     &  ['dist\\_ee', 'ctl\\_dof', 'plan\\_path', 'trajector... &  ['dist\\_ee', 'ctl\\_dof', 'plan\\_path', 'trajector... &  0.000001 &  193000.0 &       15440.0 \\\\\n",
      "plan\\_path\\_noloc\\_t0         &  ['plan\\_path', 'trajectory', 'ctl', 'dofs', 'en... &                        ['plan\\_path', 'trajectory'] &  0.000002 &   60000.0 &       12000.0 \\\\\n",
      "plan\\_path\\_noloc\\_t1         &  ['plan\\_path', 'trajectory', 'ctl', 'dofs', 'en... &                        ['plan\\_path', 'trajectory'] &  0.000002 &   60000.0 &       12000.0 \\\\\n",
      "ctl\\_dof\\_degctl\\_t1          &  ['ctl\\_dof', 'force\\_gr', 'force\\_lg', 'ctl', 'do... &                                        ['ctl\\_dof'] &  0.000008 &   10000.0 &        8000.0 \\\\\n",
      "ctl\\_dof\\_degctl\\_t0          &  ['ctl\\_dof', 'force\\_gr', 'force\\_lg', 'ctl', 'do... &                                        ['ctl\\_dof'] &  0.000008 &   10000.0 &        8000.0 \\\\\n",
      "affect\\_dof\\_propbreak\\_t0    &  ['dist\\_ee', 'affect\\_dof', 'ctl\\_dof', 'plan\\_pat... &  ['dist\\_ee', 'affect\\_dof', 'ctl\\_dof', 'plan\\_pat... &       0.0 &  183200.0 &        5496.0 \\\\\n",
      "affect\\_dof\\_propbreak\\_t1    &  ['dist\\_ee', 'affect\\_dof', 'ctl\\_dof', 'plan\\_pat... &  ['dist\\_ee', 'affect\\_dof', 'ctl\\_dof', 'plan\\_pat... &       0.0 &  183200.0 &        5496.0 \\\\\n",
      "affect\\_dof\\_propstuck\\_t1    &  ['dist\\_ee', 'affect\\_dof', 'ctl\\_dof', 'plan\\_pat... &  ['dist\\_ee', 'affect\\_dof', 'ctl\\_dof', 'plan\\_pat... &       0.0 &  183200.0 &        3664.0 \\\\\n",
      "affect\\_dof\\_propstuck\\_t0    &  ['dist\\_ee', 'affect\\_dof', 'ctl\\_dof', 'plan\\_pat... &  ['dist\\_ee', 'affect\\_dof', 'ctl\\_dof', 'plan\\_pat... &       0.0 &  183200.0 &        3664.0 \\\\\n",
      "hold\\_payload\\_break\\_t1      &  ['dist\\_ee', 'ctl\\_dof', 'plan\\_path', 'trajector... &  ['dist\\_ee', 'ctl\\_dof', 'plan\\_path', 'trajector... &       0.0 &  183000.0 &        3660.0 \\\\\n",
      "hold\\_payload\\_break\\_t0      &  ['dist\\_ee', 'ctl\\_dof', 'plan\\_path', 'trajector... &  ['dist\\_ee', 'ctl\\_dof', 'plan\\_path', 'trajector... &       0.0 &  183000.0 &        3660.0 \\\\\n",
      "view\\_env\\_poorview\\_t0       &                                ['view\\_env', 'env'] &                                       ['view\\_env'] &  0.000002 &   10000.0 &        2000.0 \\\\\n",
      "view\\_env\\_poorview\\_t1       &                                ['view\\_env', 'env'] &                                       ['view\\_env'] &  0.000002 &   10000.0 &        2000.0 \\\\\n",
      "engage\\_land\\_deform\\_t1      &                                    ['engage\\_land'] &                                    ['engage\\_land'] &  0.000008 &    1000.0 &         800.0 \\\\\n",
      "engage\\_land\\_deform\\_t0      &                                    ['engage\\_land'] &                                    ['engage\\_land'] &  0.000008 &    1000.0 &         800.0 \\\\\n",
      "hold\\_payload\\_deform\\_t1     &          ['hold\\_payload', 'force\\_st', 'force\\_lin'] &                                   ['hold\\_payload'] &  0.000001 &   10000.0 &         800.0 \\\\\n",
      "dist\\_ee\\_degr\\_t0            &  ['dist\\_ee', 'force\\_gr', 'force\\_lg', 'ee\\_mot', ... &                                        ['dist\\_ee'] &  0.000005 &    1000.0 &         500.0 \\\\\n",
      "dist\\_ee\\_degr\\_t1            &  ['dist\\_ee', 'force\\_gr', 'force\\_lg', 'ee\\_mot', ... &                                        ['dist\\_ee'] &  0.000005 &    1000.0 &         500.0 \\\\\n",
      "engage\\_land\\_break\\_t1       &                                    ['engage\\_land'] &                                    ['engage\\_land'] &  0.000002 &    1000.0 &         200.0 \\\\\n",
      "engage\\_land\\_break\\_t0       &                                    ['engage\\_land'] &                                    ['engage\\_land'] &  0.000002 &    1000.0 &         200.0 \\\\\n",
      "affect\\_dof\\_ctldn\\_t0        &  ['affect\\_dof', 'force\\_gr', 'force\\_lg', 'ctl', ... &                                     ['affect\\_dof'] &  0.000002 &     500.0 &         100.0 \\\\\n",
      "affect\\_dof\\_ctldn\\_t1        &  ['affect\\_dof', 'force\\_gr', 'force\\_lg', 'ctl', ... &                                     ['affect\\_dof'] &  0.000002 &     500.0 &         100.0 \\\\\n",
      "affect\\_dof\\_mechfriction\\_t0 &                   ['affect\\_dof', 'ee\\_1', 'ee\\_mot'] &                                     ['affect\\_dof'] &  0.000001 &     500.0 &          25.0 \\\\\n",
      "affect\\_dof\\_mechfriction\\_t1 &                   ['affect\\_dof', 'ee\\_1', 'ee\\_mot'] &                                     ['affect\\_dof'] &  0.000001 &     500.0 &          25.0 \\\\\n",
      "affect\\_dof\\_propwarp\\_t1     &     ['affect\\_dof', 'force\\_gr', 'force\\_lg', 'dofs'] &                                     ['affect\\_dof'] &       0.0 &     200.0 &           2.0 \\\\\n",
      "affect\\_dof\\_propwarp\\_t0     &     ['affect\\_dof', 'force\\_gr', 'force\\_lg', 'dofs'] &                                     ['affect\\_dof'] &       0.0 &     200.0 &           2.0 \\\\\n",
      "trajectory\\_lost\\_t1         &                                     ['trajectory'] &                                     ['trajectory'] &       0.0 &   50000.0 &           0.0 \\\\\n",
      "trajectory\\_lost\\_t0         &                                     ['trajectory'] &                                     ['trajectory'] &       0.0 &   50000.0 &           0.0 \\\\\n",
      "trajectory\\_crash\\_t1        &                                     ['trajectory'] &                                     ['trajectory'] &       0.0 &  100000.0 &           0.0 \\\\\n",
      "nominal                    &                                                 [] &                                                 [] &       1.0 &       0.0 &           0.0 \\\\\n",
      "trajectory\\_crash\\_t0        &                                     ['trajectory'] &                                     ['trajectory'] &       0.0 &  100000.0 &           0.0 \\\\\n",
      "\\bottomrule\n",
      "\\end{tabular}\n",
      "\n"
     ]
    }
   ],
   "source": [
    "print(static_fmea.sort_values('expected cost', ascending=False).to_latex())"
   ]
  },
  {
   "cell_type": "markdown",
   "metadata": {},
   "source": [
    "We can in turn visualize these faults on the graph representation of the system. Here we will focus on the break of one of the rotors in the AffectDOF function, the effects of which are shown below:"
   ]
  },
  {
   "cell_type": "code",
   "execution_count": 23,
   "metadata": {
    "execution": {
     "iopub.execute_input": "2023-06-09T23:26:54.276675Z",
     "iopub.status.busy": "2023-06-09T23:26:54.276675Z",
     "iopub.status.idle": "2023-06-09T23:26:54.745168Z",
     "shell.execute_reply": "2023-06-09T23:26:54.744230Z"
    }
   },
   "outputs": [
    {
     "data": {
      "image/png": "[encoded data removed]",
      "text/plain": [
       "<Figure size 864x720 with 1 Axes>"
      ]
     },
     "metadata": {},
     "output_type": "display_data"
    }
   ],
   "source": [
    "static_mdl = Drone_Static()\n",
    "result, mdlhist = fs.propagate.one_fault(static_mdl,'affect_dof', 'mechbreak', t=0, desired_result='graph')\n",
    "\n",
    "result.graph.set_edge_labels(title='')\n",
    "fig, ax = result.graph.draw(title = 'AffectDOF: Mechbreak at final sim time')\n",
    "#fig.savefig('static_propagation.pdf', format=\"pdf\", bbox_inches = 'tight', pad_inches = 0)"
   ]
  },
  {
   "cell_type": "markdown",
   "metadata": {},
   "source": [
    "## Dynamic Model\n",
    "\n",
    "In the dynamic model, we add time ranges and dynamic behaviors to generate behavior-over-time graphs and dynamic/phase-based FMEAs.\n",
    "\n",
    "This model is located in `drone_mdl_dynamic.py`."
   ]
  },
  {
   "cell_type": "code",
   "execution_count": 24,
   "metadata": {
    "execution": {
     "iopub.execute_input": "2023-06-09T23:26:54.748159Z",
     "iopub.status.busy": "2023-06-09T23:26:54.748159Z",
     "iopub.status.idle": "2023-06-09T23:26:54.791043Z",
     "shell.execute_reply": "2023-06-09T23:26:54.791043Z"
    }
   },
   "outputs": [],
   "source": [
    "from drone_mdl_dynamic import Drone as Drone_Dynamic"
   ]
  },
  {
   "cell_type": "markdown",
   "metadata": {},
   "source": [
    "Here we can see how the system operates over time in the nominal case:"
   ]
  },
  {
   "cell_type": "code",
   "execution_count": 25,
   "metadata": {
    "execution": {
     "iopub.execute_input": "2023-06-09T23:26:54.795071Z",
     "iopub.status.busy": "2023-06-09T23:26:54.795071Z",
     "iopub.status.idle": "2023-06-09T23:26:56.028986Z",
     "shell.execute_reply": "2023-06-09T23:26:56.028986Z"
    }
   },
   "outputs": [],
   "source": [
    "# Note: because of the complicated functions, the model must be re-instantiated for each function in order to work in this case\n",
    "\n",
    "dynamic_mdl = Drone_Dynamic()\n",
    "endclass, mdlhist = fs.propagate.nominal(dynamic_mdl)"
   ]
  },
  {
   "cell_type": "code",
   "execution_count": 26,
   "metadata": {
    "execution": {
     "iopub.execute_input": "2023-06-09T23:26:56.031978Z",
     "iopub.status.busy": "2023-06-09T23:26:56.031978Z",
     "iopub.status.idle": "2023-06-09T23:26:57.011727Z",
     "shell.execute_reply": "2023-06-09T23:26:57.010726Z"
    }
   },
   "outputs": [
    {
     "data": {
      "image/png": "[encoded data removed]",
      "text/plain": [
       "<Figure size 432x864 with 12 Axes>"
      ]
     },
     "metadata": {
      "needs_background": "light"
     },
     "output_type": "display_data"
    }
   ],
   "source": [
    "fig, ax = an.plot.hist(mdlhist,'fxns.store_ee.s.soc',\n",
    "                       'flows.env.s.x',\n",
    "                       'flows.env.s.y',\n",
    "                       'flows.env.s.z',\n",
    "                       'flows.dofs.s.planvel',\n",
    "                       'flows.dofs.s.vertvel',\n",
    "                      'flows.dir.s.x',\n",
    "                      'flows.dir.s.y',\n",
    "                      'fxns.plan_path.s.dx',\n",
    "                       'fxns.plan_path.s.dy',\n",
    "                      'fxns.plan_path.m.mode')"
   ]
  },
  {
   "cell_type": "markdown",
   "metadata": {},
   "source": [
    "As shown below, in the case of the break in the AffectDOF function, the system crashes:"
   ]
  },
  {
   "cell_type": "code",
   "execution_count": 27,
   "metadata": {
    "execution": {
     "iopub.execute_input": "2023-06-09T23:26:57.013941Z",
     "iopub.status.busy": "2023-06-09T23:26:57.013941Z",
     "iopub.status.idle": "2023-06-09T23:26:59.356335Z",
     "shell.execute_reply": "2023-06-09T23:26:59.355482Z"
    }
   },
   "outputs": [],
   "source": [
    "dynamic_mdl = Drone_Dynamic()\n",
    "endclass, mdlhist = fs.propagate.one_fault(dynamic_mdl,'affect_dof', 'mechbreak', time=50)"
   ]
  },
  {
   "cell_type": "code",
   "execution_count": 28,
   "metadata": {
    "execution": {
     "iopub.execute_input": "2023-06-09T23:26:59.358824Z",
     "iopub.status.busy": "2023-06-09T23:26:59.358824Z",
     "iopub.status.idle": "2023-06-09T23:26:59.957248Z",
     "shell.execute_reply": "2023-06-09T23:26:59.956444Z"
    }
   },
   "outputs": [
    {
     "data": {
      "image/png": "[encoded data removed]",
      "text/plain": [
       "<Figure size 432x288 with 4 Axes>"
      ]
     },
     "metadata": {
      "needs_background": "light"
     },
     "output_type": "display_data"
    }
   ],
   "source": [
    "fig, axs = an.plot.hist(mdlhist, 'env.s.x','env.s.y','env.s.z', 'store_ee.s.soc',\n",
    "                         title ='Drone Response to AffectDOF mechbreak', time_slice=50, \n",
    "                        ylabels={'env.s.x':'m','env.s.y':'m','env.s.z':'m','store_ee.s.soc':'%'},\\\n",
    "                        h_padding=0.3, legend_loc=2, xlabel='time (s)')\n",
    "\n",
    "fig.savefig(\"fault_behavior.pdf\", format=\"pdf\", bbox_inches = 'tight', pad_inches = 0)"
   ]
  },
  {
   "cell_type": "markdown",
   "metadata": {},
   "source": [
    "Finally, we can see how the cost function of this scenario changes over time. As shown, when the fault is injected early, it has a lower cost because it crashes at the landing pad and not in a dangerous area. When it is injected at the end, the cost is minimal because the drone has already landed."
   ]
  },
  {
   "cell_type": "code",
   "execution_count": 29,
   "metadata": {
    "execution": {
     "iopub.execute_input": "2023-06-09T23:26:59.960238Z",
     "iopub.status.busy": "2023-06-09T23:26:59.960238Z",
     "iopub.status.idle": "2023-06-09T23:27:12.396596Z",
     "shell.execute_reply": "2023-06-09T23:27:12.395561Z"
    }
   },
   "outputs": [
    {
     "name": "stderr",
     "output_type": "stream",
     "text": [
      "\r",
      "SCENARIOS COMPLETE:   0%|          | 0/16 [00:00<?, ?it/s]"
     ]
    },
    {
     "name": "stderr",
     "output_type": "stream",
     "text": [
      "\r",
      "SCENARIOS COMPLETE:   6%|▋         | 1/16 [00:01<00:16,  1.09s/it]"
     ]
    },
    {
     "name": "stderr",
     "output_type": "stream",
     "text": [
      "\r",
      "SCENARIOS COMPLETE:  12%|█▎        | 2/16 [00:02<00:15,  1.10s/it]"
     ]
    },
    {
     "name": "stderr",
     "output_type": "stream",
     "text": [
      "\r",
      "SCENARIOS COMPLETE:  19%|█▉        | 3/16 [00:03<00:14,  1.10s/it]"
     ]
    },
    {
     "name": "stderr",
     "output_type": "stream",
     "text": [
      "\r",
      "SCENARIOS COMPLETE:  25%|██▌       | 4/16 [00:04<00:13,  1.11s/it]"
     ]
    },
    {
     "name": "stderr",
     "output_type": "stream",
     "text": [
      "\r",
      "SCENARIOS COMPLETE:  31%|███▏      | 5/16 [00:05<00:12,  1.11s/it]"
     ]
    },
    {
     "name": "stderr",
     "output_type": "stream",
     "text": [
      "\r",
      "SCENARIOS COMPLETE:  38%|███▊      | 6/16 [00:06<00:10,  1.06s/it]"
     ]
    },
    {
     "name": "stderr",
     "output_type": "stream",
     "text": [
      "\r",
      "SCENARIOS COMPLETE:  44%|████▍     | 7/16 [00:07<00:08,  1.01it/s]"
     ]
    },
    {
     "name": "stderr",
     "output_type": "stream",
     "text": [
      "\r",
      "SCENARIOS COMPLETE:  50%|█████     | 8/16 [00:08<00:07,  1.10it/s]"
     ]
    },
    {
     "name": "stderr",
     "output_type": "stream",
     "text": [
      "\r",
      "SCENARIOS COMPLETE:  56%|█████▋    | 9/16 [00:08<00:05,  1.23it/s]"
     ]
    },
    {
     "name": "stderr",
     "output_type": "stream",
     "text": [
      "\r",
      "SCENARIOS COMPLETE:  62%|██████▎   | 10/16 [00:09<00:04,  1.40it/s]"
     ]
    },
    {
     "name": "stderr",
     "output_type": "stream",
     "text": [
      "\r",
      "SCENARIOS COMPLETE:  69%|██████▉   | 11/16 [00:09<00:03,  1.66it/s]"
     ]
    },
    {
     "name": "stderr",
     "output_type": "stream",
     "text": [
      "\r",
      "SCENARIOS COMPLETE:  75%|███████▌  | 12/16 [00:09<00:02,  1.92it/s]"
     ]
    },
    {
     "name": "stderr",
     "output_type": "stream",
     "text": [
      "\r",
      "SCENARIOS COMPLETE:  81%|████████▏ | 13/16 [00:10<00:01,  2.16it/s]"
     ]
    },
    {
     "name": "stderr",
     "output_type": "stream",
     "text": [
      "\r",
      "SCENARIOS COMPLETE:  88%|████████▊ | 14/16 [00:10<00:00,  2.38it/s]"
     ]
    },
    {
     "name": "stderr",
     "output_type": "stream",
     "text": [
      "\r",
      "SCENARIOS COMPLETE:  94%|█████████▍| 15/16 [00:10<00:00,  2.60it/s]"
     ]
    },
    {
     "name": "stderr",
     "output_type": "stream",
     "text": [
      "\r",
      "SCENARIOS COMPLETE: 100%|██████████| 16/16 [00:11<00:00,  2.78it/s]"
     ]
    },
    {
     "name": "stderr",
     "output_type": "stream",
     "text": [
      "\r",
      "SCENARIOS COMPLETE: 100%|██████████| 16/16 [00:11<00:00,  1.44it/s]"
     ]
    },
    {
     "name": "stderr",
     "output_type": "stream",
     "text": [
      "\n"
     ]
    }
   ],
   "source": [
    "mdl_quad_comp = Drone_Dynamic()\n",
    "quad_comp_app = SampleApproach(mdl_quad_comp, faults=[('affect_dof', 'mechbreak')],\n",
    "                               defaultsamp={'samp':'evenspacing','numpts':5})\n",
    "quad_comp_endclasses, quad_comp_mdlhists = fs.propagate.approach(mdl_quad_comp, quad_comp_app, staged=True)"
   ]
  },
  {
   "cell_type": "code",
   "execution_count": 30,
   "metadata": {
    "execution": {
     "iopub.execute_input": "2023-06-09T23:27:12.398918Z",
     "iopub.status.busy": "2023-06-09T23:27:12.398918Z",
     "iopub.status.idle": "2023-06-09T23:27:12.413146Z",
     "shell.execute_reply": "2023-06-09T23:27:12.412145Z"
    }
   },
   "outputs": [
    {
     "data": {
      "text/plain": [
       "dict_keys(['affect_dof_mechbreak_t0p0.fxns.store_ee.s.soc', 'affect_dof_mechbreak_t0p0.fxns.store_ee.m.faults.nocharge', 'affect_dof_mechbreak_t0p0.fxns.store_ee.m.mode', 'affect_dof_mechbreak_t0p0.fxns.dist_ee.s.ee_tr', 'affect_dof_mechbreak_t0p0.fxns.dist_ee.s.ee_te', 'affect_dof_mechbreak_t0p0.fxns.dist_ee.m.faults.short', 'affect_dof_mechbreak_t0p0.fxns.dist_ee.m.faults.degr', 'affect_dof_mechbreak_t0p0.fxns.dist_ee.m.faults.break', 'affect_dof_mechbreak_t0p0.fxns.dist_ee.m.mode', 'affect_dof_mechbreak_t0p0.fxns.affect_dof.s.e_to', 'affect_dof_mechbreak_t0p0.fxns.affect_dof.s.e_ti', 'affect_dof_mechbreak_t0p0.fxns.affect_dof.s.ct', 'affect_dof_mechbreak_t0p0.fxns.affect_dof.s.mt', 'affect_dof_mechbreak_t0p0.fxns.affect_dof.s.pt', 'affect_dof_mechbreak_t0p0.fxns.affect_dof.m.faults.short', 'affect_dof_mechbreak_t0p0.fxns.affect_dof.m.faults.openc', 'affect_dof_mechbreak_t0p0.fxns.affect_dof.m.faults.ctlup', 'affect_dof_mechbreak_t0p0.fxns.affect_dof.m.faults.ctldn', 'affect_dof_mechbreak_t0p0.fxns.affect_dof.m.faults.ctlbreak', 'affect_dof_mechbreak_t0p0.fxns.affect_dof.m.faults.mechbreak', 'affect_dof_mechbreak_t0p0.fxns.affect_dof.m.faults.mechfriction', 'affect_dof_mechbreak_t0p0.fxns.affect_dof.m.faults.propwarp', 'affect_dof_mechbreak_t0p0.fxns.affect_dof.m.faults.propstuck', 'affect_dof_mechbreak_t0p0.fxns.affect_dof.m.faults.propbreak', 'affect_dof_mechbreak_t0p0.fxns.affect_dof.m.mode', 'affect_dof_mechbreak_t0p0.fxns.ctl_dof.s.cs', 'affect_dof_mechbreak_t0p0.fxns.ctl_dof.s.vel', 'affect_dof_mechbreak_t0p0.fxns.ctl_dof.m.faults.noctl', 'affect_dof_mechbreak_t0p0.fxns.ctl_dof.m.faults.degctl', 'affect_dof_mechbreak_t0p0.fxns.ctl_dof.m.mode', 'affect_dof_mechbreak_t0p0.fxns.plan_path.s.dx', 'affect_dof_mechbreak_t0p0.fxns.plan_path.s.dy', 'affect_dof_mechbreak_t0p0.fxns.plan_path.s.dz', 'affect_dof_mechbreak_t0p0.fxns.plan_path.s.pt', 'affect_dof_mechbreak_t0p0.fxns.plan_path.s.goal', 'affect_dof_mechbreak_t0p0.fxns.plan_path.m.faults.noloc', 'affect_dof_mechbreak_t0p0.fxns.plan_path.m.faults.degloc', 'affect_dof_mechbreak_t0p0.fxns.plan_path.m.mode', 'affect_dof_mechbreak_t0p0.fxns.plan_path.t.pause.time', 'affect_dof_mechbreak_t0p0.fxns.plan_path.t.pause.mode', 'affect_dof_mechbreak_t0p0.fxns.trajectory.m.mode', 'affect_dof_mechbreak_t0p0.fxns.engage_land.m.faults.break', 'affect_dof_mechbreak_t0p0.fxns.engage_land.m.faults.deform', 'affect_dof_mechbreak_t0p0.fxns.engage_land.m.mode', 'affect_dof_mechbreak_t0p0.fxns.hold_payload.m.faults.break', 'affect_dof_mechbreak_t0p0.fxns.hold_payload.m.faults.deform', 'affect_dof_mechbreak_t0p0.fxns.hold_payload.m.mode', 'affect_dof_mechbreak_t0p0.fxns.view_env.m.mode', 'affect_dof_mechbreak_t0p0.flows.force_st.s.support', 'affect_dof_mechbreak_t0p0.flows.force_lin.s.support', 'affect_dof_mechbreak_t0p0.flows.force_gr.s.support', 'affect_dof_mechbreak_t0p0.flows.force_lg.s.support', 'affect_dof_mechbreak_t0p0.flows.ee_1.s.rate', 'affect_dof_mechbreak_t0p0.flows.ee_1.s.effort', 'affect_dof_mechbreak_t0p0.flows.ee_mot.s.rate', 'affect_dof_mechbreak_t0p0.flows.ee_mot.s.effort', 'affect_dof_mechbreak_t0p0.flows.ee_ctl.s.rate', 'affect_dof_mechbreak_t0p0.flows.ee_ctl.s.effort', 'affect_dof_mechbreak_t0p0.flows.ctl.s.forward', 'affect_dof_mechbreak_t0p0.flows.ctl.s.upward', 'affect_dof_mechbreak_t0p0.flows.dofs.s.vertvel', 'affect_dof_mechbreak_t0p0.flows.dofs.s.planvel', 'affect_dof_mechbreak_t0p0.flows.dofs.s.planpwr', 'affect_dof_mechbreak_t0p0.flows.dofs.s.uppwr', 'affect_dof_mechbreak_t0p0.flows.env.s.x', 'affect_dof_mechbreak_t0p0.flows.env.s.y', 'affect_dof_mechbreak_t0p0.flows.env.s.z', 'affect_dof_mechbreak_t0p0.flows.dir.s.x', 'affect_dof_mechbreak_t0p0.flows.dir.s.y', 'affect_dof_mechbreak_t0p0.flows.dir.s.z', 'affect_dof_mechbreak_t0p0.flows.dir.s.power', 'affect_dof_mechbreak_t0p0.time', 'affect_dof_mechbreak_t1p0.fxns.store_ee.s.soc', 'affect_dof_mechbreak_t1p0.fxns.store_ee.m.faults.nocharge', 'affect_dof_mechbreak_t1p0.fxns.store_ee.m.mode', 'affect_dof_mechbreak_t1p0.fxns.dist_ee.s.ee_tr', 'affect_dof_mechbreak_t1p0.fxns.dist_ee.s.ee_te', 'affect_dof_mechbreak_t1p0.fxns.dist_ee.m.faults.short', 'affect_dof_mechbreak_t1p0.fxns.dist_ee.m.faults.degr', 'affect_dof_mechbreak_t1p0.fxns.dist_ee.m.faults.break', 'affect_dof_mechbreak_t1p0.fxns.dist_ee.m.mode', 'affect_dof_mechbreak_t1p0.fxns.affect_dof.s.e_to', 'affect_dof_mechbreak_t1p0.fxns.affect_dof.s.e_ti', 'affect_dof_mechbreak_t1p0.fxns.affect_dof.s.ct', 'affect_dof_mechbreak_t1p0.fxns.affect_dof.s.mt', 'affect_dof_mechbreak_t1p0.fxns.affect_dof.s.pt', 'affect_dof_mechbreak_t1p0.fxns.affect_dof.m.faults.short', 'affect_dof_mechbreak_t1p0.fxns.affect_dof.m.faults.openc', 'affect_dof_mechbreak_t1p0.fxns.affect_dof.m.faults.ctlup', 'affect_dof_mechbreak_t1p0.fxns.affect_dof.m.faults.ctldn', 'affect_dof_mechbreak_t1p0.fxns.affect_dof.m.faults.ctlbreak', 'affect_dof_mechbreak_t1p0.fxns.affect_dof.m.faults.mechbreak', 'affect_dof_mechbreak_t1p0.fxns.affect_dof.m.faults.mechfriction', 'affect_dof_mechbreak_t1p0.fxns.affect_dof.m.faults.propwarp', 'affect_dof_mechbreak_t1p0.fxns.affect_dof.m.faults.propstuck', 'affect_dof_mechbreak_t1p0.fxns.affect_dof.m.faults.propbreak', 'affect_dof_mechbreak_t1p0.fxns.affect_dof.m.mode', 'affect_dof_mechbreak_t1p0.fxns.ctl_dof.s.cs', 'affect_dof_mechbreak_t1p0.fxns.ctl_dof.s.vel', 'affect_dof_mechbreak_t1p0.fxns.ctl_dof.m.faults.noctl', 'affect_dof_mechbreak_t1p0.fxns.ctl_dof.m.faults.degctl', 'affect_dof_mechbreak_t1p0.fxns.ctl_dof.m.mode', 'affect_dof_mechbreak_t1p0.fxns.plan_path.s.dx', 'affect_dof_mechbreak_t1p0.fxns.plan_path.s.dy', 'affect_dof_mechbreak_t1p0.fxns.plan_path.s.dz', 'affect_dof_mechbreak_t1p0.fxns.plan_path.s.pt', 'affect_dof_mechbreak_t1p0.fxns.plan_path.s.goal', 'affect_dof_mechbreak_t1p0.fxns.plan_path.m.faults.noloc', 'affect_dof_mechbreak_t1p0.fxns.plan_path.m.faults.degloc', 'affect_dof_mechbreak_t1p0.fxns.plan_path.m.mode', 'affect_dof_mechbreak_t1p0.fxns.plan_path.t.pause.time', 'affect_dof_mechbreak_t1p0.fxns.plan_path.t.pause.mode', 'affect_dof_mechbreak_t1p0.fxns.trajectory.m.mode', 'affect_dof_mechbreak_t1p0.fxns.engage_land.m.faults.break', 'affect_dof_mechbreak_t1p0.fxns.engage_land.m.faults.deform', 'affect_dof_mechbreak_t1p0.fxns.engage_land.m.mode', 'affect_dof_mechbreak_t1p0.fxns.hold_payload.m.faults.break', 'affect_dof_mechbreak_t1p0.fxns.hold_payload.m.faults.deform', 'affect_dof_mechbreak_t1p0.fxns.hold_payload.m.mode', 'affect_dof_mechbreak_t1p0.fxns.view_env.m.mode', 'affect_dof_mechbreak_t1p0.flows.force_st.s.support', 'affect_dof_mechbreak_t1p0.flows.force_lin.s.support', 'affect_dof_mechbreak_t1p0.flows.force_gr.s.support', 'affect_dof_mechbreak_t1p0.flows.force_lg.s.support', 'affect_dof_mechbreak_t1p0.flows.ee_1.s.rate', 'affect_dof_mechbreak_t1p0.flows.ee_1.s.effort', 'affect_dof_mechbreak_t1p0.flows.ee_mot.s.rate', 'affect_dof_mechbreak_t1p0.flows.ee_mot.s.effort', 'affect_dof_mechbreak_t1p0.flows.ee_ctl.s.rate', 'affect_dof_mechbreak_t1p0.flows.ee_ctl.s.effort', 'affect_dof_mechbreak_t1p0.flows.ctl.s.forward', 'affect_dof_mechbreak_t1p0.flows.ctl.s.upward', 'affect_dof_mechbreak_t1p0.flows.dofs.s.vertvel', 'affect_dof_mechbreak_t1p0.flows.dofs.s.planvel', 'affect_dof_mechbreak_t1p0.flows.dofs.s.planpwr', 'affect_dof_mechbreak_t1p0.flows.dofs.s.uppwr', 'affect_dof_mechbreak_t1p0.flows.env.s.x', 'affect_dof_mechbreak_t1p0.flows.env.s.y', 'affect_dof_mechbreak_t1p0.flows.env.s.z', 'affect_dof_mechbreak_t1p0.flows.dir.s.x', 'affect_dof_mechbreak_t1p0.flows.dir.s.y', 'affect_dof_mechbreak_t1p0.flows.dir.s.z', 'affect_dof_mechbreak_t1p0.flows.dir.s.power', 'affect_dof_mechbreak_t1p0.time', 'affect_dof_mechbreak_t2p0.fxns.store_ee.s.soc', 'affect_dof_mechbreak_t2p0.fxns.store_ee.m.faults.nocharge', 'affect_dof_mechbreak_t2p0.fxns.store_ee.m.mode', 'affect_dof_mechbreak_t2p0.fxns.dist_ee.s.ee_tr', 'affect_dof_mechbreak_t2p0.fxns.dist_ee.s.ee_te', 'affect_dof_mechbreak_t2p0.fxns.dist_ee.m.faults.short', 'affect_dof_mechbreak_t2p0.fxns.dist_ee.m.faults.degr', 'affect_dof_mechbreak_t2p0.fxns.dist_ee.m.faults.break', 'affect_dof_mechbreak_t2p0.fxns.dist_ee.m.mode', 'affect_dof_mechbreak_t2p0.fxns.affect_dof.s.e_to', 'affect_dof_mechbreak_t2p0.fxns.affect_dof.s.e_ti', 'affect_dof_mechbreak_t2p0.fxns.affect_dof.s.ct', 'affect_dof_mechbreak_t2p0.fxns.affect_dof.s.mt', 'affect_dof_mechbreak_t2p0.fxns.affect_dof.s.pt', 'affect_dof_mechbreak_t2p0.fxns.affect_dof.m.faults.short', 'affect_dof_mechbreak_t2p0.fxns.affect_dof.m.faults.openc', 'affect_dof_mechbreak_t2p0.fxns.affect_dof.m.faults.ctlup', 'affect_dof_mechbreak_t2p0.fxns.affect_dof.m.faults.ctldn', 'affect_dof_mechbreak_t2p0.fxns.affect_dof.m.faults.ctlbreak', 'affect_dof_mechbreak_t2p0.fxns.affect_dof.m.faults.mechbreak', 'affect_dof_mechbreak_t2p0.fxns.affect_dof.m.faults.mechfriction', 'affect_dof_mechbreak_t2p0.fxns.affect_dof.m.faults.propwarp', 'affect_dof_mechbreak_t2p0.fxns.affect_dof.m.faults.propstuck', 'affect_dof_mechbreak_t2p0.fxns.affect_dof.m.faults.propbreak', 'affect_dof_mechbreak_t2p0.fxns.affect_dof.m.mode', 'affect_dof_mechbreak_t2p0.fxns.ctl_dof.s.cs', 'affect_dof_mechbreak_t2p0.fxns.ctl_dof.s.vel', 'affect_dof_mechbreak_t2p0.fxns.ctl_dof.m.faults.noctl', 'affect_dof_mechbreak_t2p0.fxns.ctl_dof.m.faults.degctl', 'affect_dof_mechbreak_t2p0.fxns.ctl_dof.m.mode', 'affect_dof_mechbreak_t2p0.fxns.plan_path.s.dx', 'affect_dof_mechbreak_t2p0.fxns.plan_path.s.dy', 'affect_dof_mechbreak_t2p0.fxns.plan_path.s.dz', 'affect_dof_mechbreak_t2p0.fxns.plan_path.s.pt', 'affect_dof_mechbreak_t2p0.fxns.plan_path.s.goal', 'affect_dof_mechbreak_t2p0.fxns.plan_path.m.faults.noloc', 'affect_dof_mechbreak_t2p0.fxns.plan_path.m.faults.degloc', 'affect_dof_mechbreak_t2p0.fxns.plan_path.m.mode', 'affect_dof_mechbreak_t2p0.fxns.plan_path.t.pause.time', 'affect_dof_mechbreak_t2p0.fxns.plan_path.t.pause.mode', 'affect_dof_mechbreak_t2p0.fxns.trajectory.m.mode', 'affect_dof_mechbreak_t2p0.fxns.engage_land.m.faults.break', 'affect_dof_mechbreak_t2p0.fxns.engage_land.m.faults.deform', 'affect_dof_mechbreak_t2p0.fxns.engage_land.m.mode', 'affect_dof_mechbreak_t2p0.fxns.hold_payload.m.faults.break', 'affect_dof_mechbreak_t2p0.fxns.hold_payload.m.faults.deform', 'affect_dof_mechbreak_t2p0.fxns.hold_payload.m.mode', 'affect_dof_mechbreak_t2p0.fxns.view_env.m.mode', 'affect_dof_mechbreak_t2p0.flows.force_st.s.support', 'affect_dof_mechbreak_t2p0.flows.force_lin.s.support', 'affect_dof_mechbreak_t2p0.flows.force_gr.s.support', 'affect_dof_mechbreak_t2p0.flows.force_lg.s.support', 'affect_dof_mechbreak_t2p0.flows.ee_1.s.rate', 'affect_dof_mechbreak_t2p0.flows.ee_1.s.effort', 'affect_dof_mechbreak_t2p0.flows.ee_mot.s.rate', 'affect_dof_mechbreak_t2p0.flows.ee_mot.s.effort', 'affect_dof_mechbreak_t2p0.flows.ee_ctl.s.rate', 'affect_dof_mechbreak_t2p0.flows.ee_ctl.s.effort', 'affect_dof_mechbreak_t2p0.flows.ctl.s.forward', 'affect_dof_mechbreak_t2p0.flows.ctl.s.upward', 'affect_dof_mechbreak_t2p0.flows.dofs.s.vertvel', 'affect_dof_mechbreak_t2p0.flows.dofs.s.planvel', 'affect_dof_mechbreak_t2p0.flows.dofs.s.planpwr', 'affect_dof_mechbreak_t2p0.flows.dofs.s.uppwr', 'affect_dof_mechbreak_t2p0.flows.env.s.x', 'affect_dof_mechbreak_t2p0.flows.env.s.y', 'affect_dof_mechbreak_t2p0.flows.env.s.z', 'affect_dof_mechbreak_t2p0.flows.dir.s.x', 'affect_dof_mechbreak_t2p0.flows.dir.s.y', 'affect_dof_mechbreak_t2p0.flows.dir.s.z', 'affect_dof_mechbreak_t2p0.flows.dir.s.power', 'affect_dof_mechbreak_t2p0.time', 'affect_dof_mechbreak_t3p0.fxns.store_ee.s.soc', 'affect_dof_mechbreak_t3p0.fxns.store_ee.m.faults.nocharge', 'affect_dof_mechbreak_t3p0.fxns.store_ee.m.mode', 'affect_dof_mechbreak_t3p0.fxns.dist_ee.s.ee_tr', 'affect_dof_mechbreak_t3p0.fxns.dist_ee.s.ee_te', 'affect_dof_mechbreak_t3p0.fxns.dist_ee.m.faults.short', 'affect_dof_mechbreak_t3p0.fxns.dist_ee.m.faults.degr', 'affect_dof_mechbreak_t3p0.fxns.dist_ee.m.faults.break', 'affect_dof_mechbreak_t3p0.fxns.dist_ee.m.mode', 'affect_dof_mechbreak_t3p0.fxns.affect_dof.s.e_to', 'affect_dof_mechbreak_t3p0.fxns.affect_dof.s.e_ti', 'affect_dof_mechbreak_t3p0.fxns.affect_dof.s.ct', 'affect_dof_mechbreak_t3p0.fxns.affect_dof.s.mt', 'affect_dof_mechbreak_t3p0.fxns.affect_dof.s.pt', 'affect_dof_mechbreak_t3p0.fxns.affect_dof.m.faults.short', 'affect_dof_mechbreak_t3p0.fxns.affect_dof.m.faults.openc', 'affect_dof_mechbreak_t3p0.fxns.affect_dof.m.faults.ctlup', 'affect_dof_mechbreak_t3p0.fxns.affect_dof.m.faults.ctldn', 'affect_dof_mechbreak_t3p0.fxns.affect_dof.m.faults.ctlbreak', 'affect_dof_mechbreak_t3p0.fxns.affect_dof.m.faults.mechbreak', 'affect_dof_mechbreak_t3p0.fxns.affect_dof.m.faults.mechfriction', 'affect_dof_mechbreak_t3p0.fxns.affect_dof.m.faults.propwarp', 'affect_dof_mechbreak_t3p0.fxns.affect_dof.m.faults.propstuck', 'affect_dof_mechbreak_t3p0.fxns.affect_dof.m.faults.propbreak', 'affect_dof_mechbreak_t3p0.fxns.affect_dof.m.mode', 'affect_dof_mechbreak_t3p0.fxns.ctl_dof.s.cs', 'affect_dof_mechbreak_t3p0.fxns.ctl_dof.s.vel', 'affect_dof_mechbreak_t3p0.fxns.ctl_dof.m.faults.noctl', 'affect_dof_mechbreak_t3p0.fxns.ctl_dof.m.faults.degctl', 'affect_dof_mechbreak_t3p0.fxns.ctl_dof.m.mode', 'affect_dof_mechbreak_t3p0.fxns.plan_path.s.dx', 'affect_dof_mechbreak_t3p0.fxns.plan_path.s.dy', 'affect_dof_mechbreak_t3p0.fxns.plan_path.s.dz', 'affect_dof_mechbreak_t3p0.fxns.plan_path.s.pt', 'affect_dof_mechbreak_t3p0.fxns.plan_path.s.goal', 'affect_dof_mechbreak_t3p0.fxns.plan_path.m.faults.noloc', 'affect_dof_mechbreak_t3p0.fxns.plan_path.m.faults.degloc', 'affect_dof_mechbreak_t3p0.fxns.plan_path.m.mode', 'affect_dof_mechbreak_t3p0.fxns.plan_path.t.pause.time', 'affect_dof_mechbreak_t3p0.fxns.plan_path.t.pause.mode', 'affect_dof_mechbreak_t3p0.fxns.trajectory.m.mode', 'affect_dof_mechbreak_t3p0.fxns.engage_land.m.faults.break', 'affect_dof_mechbreak_t3p0.fxns.engage_land.m.faults.deform', 'affect_dof_mechbreak_t3p0.fxns.engage_land.m.mode', 'affect_dof_mechbreak_t3p0.fxns.hold_payload.m.faults.break', 'affect_dof_mechbreak_t3p0.fxns.hold_payload.m.faults.deform', 'affect_dof_mechbreak_t3p0.fxns.hold_payload.m.mode', 'affect_dof_mechbreak_t3p0.fxns.view_env.m.mode', 'affect_dof_mechbreak_t3p0.flows.force_st.s.support', 'affect_dof_mechbreak_t3p0.flows.force_lin.s.support', 'affect_dof_mechbreak_t3p0.flows.force_gr.s.support', 'affect_dof_mechbreak_t3p0.flows.force_lg.s.support', 'affect_dof_mechbreak_t3p0.flows.ee_1.s.rate', 'affect_dof_mechbreak_t3p0.flows.ee_1.s.effort', 'affect_dof_mechbreak_t3p0.flows.ee_mot.s.rate', 'affect_dof_mechbreak_t3p0.flows.ee_mot.s.effort', 'affect_dof_mechbreak_t3p0.flows.ee_ctl.s.rate', 'affect_dof_mechbreak_t3p0.flows.ee_ctl.s.effort', 'affect_dof_mechbreak_t3p0.flows.ctl.s.forward', 'affect_dof_mechbreak_t3p0.flows.ctl.s.upward', 'affect_dof_mechbreak_t3p0.flows.dofs.s.vertvel', 'affect_dof_mechbreak_t3p0.flows.dofs.s.planvel', 'affect_dof_mechbreak_t3p0.flows.dofs.s.planpwr', 'affect_dof_mechbreak_t3p0.flows.dofs.s.uppwr', 'affect_dof_mechbreak_t3p0.flows.env.s.x', 'affect_dof_mechbreak_t3p0.flows.env.s.y', 'affect_dof_mechbreak_t3p0.flows.env.s.z', 'affect_dof_mechbreak_t3p0.flows.dir.s.x', 'affect_dof_mechbreak_t3p0.flows.dir.s.y', 'affect_dof_mechbreak_t3p0.flows.dir.s.z', 'affect_dof_mechbreak_t3p0.flows.dir.s.power', 'affect_dof_mechbreak_t3p0.time', 'affect_dof_mechbreak_t4p0.fxns.store_ee.s.soc', 'affect_dof_mechbreak_t4p0.fxns.store_ee.m.faults.nocharge', 'affect_dof_mechbreak_t4p0.fxns.store_ee.m.mode', 'affect_dof_mechbreak_t4p0.fxns.dist_ee.s.ee_tr', 'affect_dof_mechbreak_t4p0.fxns.dist_ee.s.ee_te', 'affect_dof_mechbreak_t4p0.fxns.dist_ee.m.faults.short', 'affect_dof_mechbreak_t4p0.fxns.dist_ee.m.faults.degr', 'affect_dof_mechbreak_t4p0.fxns.dist_ee.m.faults.break', 'affect_dof_mechbreak_t4p0.fxns.dist_ee.m.mode', 'affect_dof_mechbreak_t4p0.fxns.affect_dof.s.e_to', 'affect_dof_mechbreak_t4p0.fxns.affect_dof.s.e_ti', 'affect_dof_mechbreak_t4p0.fxns.affect_dof.s.ct', 'affect_dof_mechbreak_t4p0.fxns.affect_dof.s.mt', 'affect_dof_mechbreak_t4p0.fxns.affect_dof.s.pt', 'affect_dof_mechbreak_t4p0.fxns.affect_dof.m.faults.short', 'affect_dof_mechbreak_t4p0.fxns.affect_dof.m.faults.openc', 'affect_dof_mechbreak_t4p0.fxns.affect_dof.m.faults.ctlup', 'affect_dof_mechbreak_t4p0.fxns.affect_dof.m.faults.ctldn', 'affect_dof_mechbreak_t4p0.fxns.affect_dof.m.faults.ctlbreak', 'affect_dof_mechbreak_t4p0.fxns.affect_dof.m.faults.mechbreak', 'affect_dof_mechbreak_t4p0.fxns.affect_dof.m.faults.mechfriction', 'affect_dof_mechbreak_t4p0.fxns.affect_dof.m.faults.propwarp', 'affect_dof_mechbreak_t4p0.fxns.affect_dof.m.faults.propstuck', 'affect_dof_mechbreak_t4p0.fxns.affect_dof.m.faults.propbreak', 'affect_dof_mechbreak_t4p0.fxns.affect_dof.m.mode', 'affect_dof_mechbreak_t4p0.fxns.ctl_dof.s.cs', 'affect_dof_mechbreak_t4p0.fxns.ctl_dof.s.vel', 'affect_dof_mechbreak_t4p0.fxns.ctl_dof.m.faults.noctl', 'affect_dof_mechbreak_t4p0.fxns.ctl_dof.m.faults.degctl', 'affect_dof_mechbreak_t4p0.fxns.ctl_dof.m.mode', 'affect_dof_mechbreak_t4p0.fxns.plan_path.s.dx', 'affect_dof_mechbreak_t4p0.fxns.plan_path.s.dy', 'affect_dof_mechbreak_t4p0.fxns.plan_path.s.dz', 'affect_dof_mechbreak_t4p0.fxns.plan_path.s.pt', 'affect_dof_mechbreak_t4p0.fxns.plan_path.s.goal', 'affect_dof_mechbreak_t4p0.fxns.plan_path.m.faults.noloc', 'affect_dof_mechbreak_t4p0.fxns.plan_path.m.faults.degloc', 'affect_dof_mechbreak_t4p0.fxns.plan_path.m.mode', 'affect_dof_mechbreak_t4p0.fxns.plan_path.t.pause.time', 'affect_dof_mechbreak_t4p0.fxns.plan_path.t.pause.mode', 'affect_dof_mechbreak_t4p0.fxns.trajectory.m.mode', 'affect_dof_mechbreak_t4p0.fxns.engage_land.m.faults.break', 'affect_dof_mechbreak_t4p0.fxns.engage_land.m.faults.deform', 'affect_dof_mechbreak_t4p0.fxns.engage_land.m.mode', 'affect_dof_mechbreak_t4p0.fxns.hold_payload.m.faults.break', 'affect_dof_mechbreak_t4p0.fxns.hold_payload.m.faults.deform', 'affect_dof_mechbreak_t4p0.fxns.hold_payload.m.mode', 'affect_dof_mechbreak_t4p0.fxns.view_env.m.mode', 'affect_dof_mechbreak_t4p0.flows.force_st.s.support', 'affect_dof_mechbreak_t4p0.flows.force_lin.s.support', 'affect_dof_mechbreak_t4p0.flows.force_gr.s.support', 'affect_dof_mechbreak_t4p0.flows.force_lg.s.support', 'affect_dof_mechbreak_t4p0.flows.ee_1.s.rate', 'affect_dof_mechbreak_t4p0.flows.ee_1.s.effort', 'affect_dof_mechbreak_t4p0.flows.ee_mot.s.rate', 'affect_dof_mechbreak_t4p0.flows.ee_mot.s.effort', 'affect_dof_mechbreak_t4p0.flows.ee_ctl.s.rate', 'affect_dof_mechbreak_t4p0.flows.ee_ctl.s.effort', 'affect_dof_mechbreak_t4p0.flows.ctl.s.forward', 'affect_dof_mechbreak_t4p0.flows.ctl.s.upward', 'affect_dof_mechbreak_t4p0.flows.dofs.s.vertvel', 'affect_dof_mechbreak_t4p0.flows.dofs.s.planvel', 'affect_dof_mechbreak_t4p0.flows.dofs.s.planpwr', 'affect_dof_mechbreak_t4p0.flows.dofs.s.uppwr', 'affect_dof_mechbreak_t4p0.flows.env.s.x', 'affect_dof_mechbreak_t4p0.flows.env.s.y', 'affect_dof_mechbreak_t4p0.flows.env.s.z', 'affect_dof_mechbreak_t4p0.flows.dir.s.x', 'affect_dof_mechbreak_t4p0.flows.dir.s.y', 'affect_dof_mechbreak_t4p0.flows.dir.s.z', 'affect_dof_mechbreak_t4p0.flows.dir.s.power', 'affect_dof_mechbreak_t4p0.time', 'affect_dof_mechbreak_t20p0.fxns.store_ee.s.soc', 'affect_dof_mechbreak_t20p0.fxns.store_ee.m.faults.nocharge', 'affect_dof_mechbreak_t20p0.fxns.store_ee.m.mode', 'affect_dof_mechbreak_t20p0.fxns.dist_ee.s.ee_tr', 'affect_dof_mechbreak_t20p0.fxns.dist_ee.s.ee_te', 'affect_dof_mechbreak_t20p0.fxns.dist_ee.m.faults.short', 'affect_dof_mechbreak_t20p0.fxns.dist_ee.m.faults.degr', 'affect_dof_mechbreak_t20p0.fxns.dist_ee.m.faults.break', 'affect_dof_mechbreak_t20p0.fxns.dist_ee.m.mode', 'affect_dof_mechbreak_t20p0.fxns.affect_dof.s.e_to', 'affect_dof_mechbreak_t20p0.fxns.affect_dof.s.e_ti', 'affect_dof_mechbreak_t20p0.fxns.affect_dof.s.ct', 'affect_dof_mechbreak_t20p0.fxns.affect_dof.s.mt', 'affect_dof_mechbreak_t20p0.fxns.affect_dof.s.pt', 'affect_dof_mechbreak_t20p0.fxns.affect_dof.m.faults.short', 'affect_dof_mechbreak_t20p0.fxns.affect_dof.m.faults.openc', 'affect_dof_mechbreak_t20p0.fxns.affect_dof.m.faults.ctlup', 'affect_dof_mechbreak_t20p0.fxns.affect_dof.m.faults.ctldn', 'affect_dof_mechbreak_t20p0.fxns.affect_dof.m.faults.ctlbreak', 'affect_dof_mechbreak_t20p0.fxns.affect_dof.m.faults.mechbreak', 'affect_dof_mechbreak_t20p0.fxns.affect_dof.m.faults.mechfriction', 'affect_dof_mechbreak_t20p0.fxns.affect_dof.m.faults.propwarp', 'affect_dof_mechbreak_t20p0.fxns.affect_dof.m.faults.propstuck', 'affect_dof_mechbreak_t20p0.fxns.affect_dof.m.faults.propbreak', 'affect_dof_mechbreak_t20p0.fxns.affect_dof.m.mode', 'affect_dof_mechbreak_t20p0.fxns.ctl_dof.s.cs', 'affect_dof_mechbreak_t20p0.fxns.ctl_dof.s.vel', 'affect_dof_mechbreak_t20p0.fxns.ctl_dof.m.faults.noctl', 'affect_dof_mechbreak_t20p0.fxns.ctl_dof.m.faults.degctl', 'affect_dof_mechbreak_t20p0.fxns.ctl_dof.m.mode', 'affect_dof_mechbreak_t20p0.fxns.plan_path.s.dx', 'affect_dof_mechbreak_t20p0.fxns.plan_path.s.dy', 'affect_dof_mechbreak_t20p0.fxns.plan_path.s.dz', 'affect_dof_mechbreak_t20p0.fxns.plan_path.s.pt', 'affect_dof_mechbreak_t20p0.fxns.plan_path.s.goal', 'affect_dof_mechbreak_t20p0.fxns.plan_path.m.faults.noloc', 'affect_dof_mechbreak_t20p0.fxns.plan_path.m.faults.degloc', 'affect_dof_mechbreak_t20p0.fxns.plan_path.m.mode', 'affect_dof_mechbreak_t20p0.fxns.plan_path.t.pause.time', 'affect_dof_mechbreak_t20p0.fxns.plan_path.t.pause.mode', 'affect_dof_mechbreak_t20p0.fxns.trajectory.m.mode', 'affect_dof_mechbreak_t20p0.fxns.engage_land.m.faults.break', 'affect_dof_mechbreak_t20p0.fxns.engage_land.m.faults.deform', 'affect_dof_mechbreak_t20p0.fxns.engage_land.m.mode', 'affect_dof_mechbreak_t20p0.fxns.hold_payload.m.faults.break', 'affect_dof_mechbreak_t20p0.fxns.hold_payload.m.faults.deform', 'affect_dof_mechbreak_t20p0.fxns.hold_payload.m.mode', 'affect_dof_mechbreak_t20p0.fxns.view_env.m.mode', 'affect_dof_mechbreak_t20p0.flows.force_st.s.support', 'affect_dof_mechbreak_t20p0.flows.force_lin.s.support', 'affect_dof_mechbreak_t20p0.flows.force_gr.s.support', 'affect_dof_mechbreak_t20p0.flows.force_lg.s.support', 'affect_dof_mechbreak_t20p0.flows.ee_1.s.rate', 'affect_dof_mechbreak_t20p0.flows.ee_1.s.effort', 'affect_dof_mechbreak_t20p0.flows.ee_mot.s.rate', 'affect_dof_mechbreak_t20p0.flows.ee_mot.s.effort', 'affect_dof_mechbreak_t20p0.flows.ee_ctl.s.rate', 'affect_dof_mechbreak_t20p0.flows.ee_ctl.s.effort', 'affect_dof_mechbreak_t20p0.flows.ctl.s.forward', 'affect_dof_mechbreak_t20p0.flows.ctl.s.upward', 'affect_dof_mechbreak_t20p0.flows.dofs.s.vertvel', 'affect_dof_mechbreak_t20p0.flows.dofs.s.planvel', 'affect_dof_mechbreak_t20p0.flows.dofs.s.planpwr', 'affect_dof_mechbreak_t20p0.flows.dofs.s.uppwr', 'affect_dof_mechbreak_t20p0.flows.env.s.x', 'affect_dof_mechbreak_t20p0.flows.env.s.y', 'affect_dof_mechbreak_t20p0.flows.env.s.z', 'affect_dof_mechbreak_t20p0.flows.dir.s.x', 'affect_dof_mechbreak_t20p0.flows.dir.s.y', 'affect_dof_mechbreak_t20p0.flows.dir.s.z', 'affect_dof_mechbreak_t20p0.flows.dir.s.power', 'affect_dof_mechbreak_t20p0.time', 'affect_dof_mechbreak_t35p0.fxns.store_ee.s.soc', 'affect_dof_mechbreak_t35p0.fxns.store_ee.m.faults.nocharge', 'affect_dof_mechbreak_t35p0.fxns.store_ee.m.mode', 'affect_dof_mechbreak_t35p0.fxns.dist_ee.s.ee_tr', 'affect_dof_mechbreak_t35p0.fxns.dist_ee.s.ee_te', 'affect_dof_mechbreak_t35p0.fxns.dist_ee.m.faults.short', 'affect_dof_mechbreak_t35p0.fxns.dist_ee.m.faults.degr', 'affect_dof_mechbreak_t35p0.fxns.dist_ee.m.faults.break', 'affect_dof_mechbreak_t35p0.fxns.dist_ee.m.mode', 'affect_dof_mechbreak_t35p0.fxns.affect_dof.s.e_to', 'affect_dof_mechbreak_t35p0.fxns.affect_dof.s.e_ti', 'affect_dof_mechbreak_t35p0.fxns.affect_dof.s.ct', 'affect_dof_mechbreak_t35p0.fxns.affect_dof.s.mt', 'affect_dof_mechbreak_t35p0.fxns.affect_dof.s.pt', 'affect_dof_mechbreak_t35p0.fxns.affect_dof.m.faults.short', 'affect_dof_mechbreak_t35p0.fxns.affect_dof.m.faults.openc', 'affect_dof_mechbreak_t35p0.fxns.affect_dof.m.faults.ctlup', 'affect_dof_mechbreak_t35p0.fxns.affect_dof.m.faults.ctldn', 'affect_dof_mechbreak_t35p0.fxns.affect_dof.m.faults.ctlbreak', 'affect_dof_mechbreak_t35p0.fxns.affect_dof.m.faults.mechbreak', 'affect_dof_mechbreak_t35p0.fxns.affect_dof.m.faults.mechfriction', 'affect_dof_mechbreak_t35p0.fxns.affect_dof.m.faults.propwarp', 'affect_dof_mechbreak_t35p0.fxns.affect_dof.m.faults.propstuck', 'affect_dof_mechbreak_t35p0.fxns.affect_dof.m.faults.propbreak', 'affect_dof_mechbreak_t35p0.fxns.affect_dof.m.mode', 'affect_dof_mechbreak_t35p0.fxns.ctl_dof.s.cs', 'affect_dof_mechbreak_t35p0.fxns.ctl_dof.s.vel', 'affect_dof_mechbreak_t35p0.fxns.ctl_dof.m.faults.noctl', 'affect_dof_mechbreak_t35p0.fxns.ctl_dof.m.faults.degctl', 'affect_dof_mechbreak_t35p0.fxns.ctl_dof.m.mode', 'affect_dof_mechbreak_t35p0.fxns.plan_path.s.dx', 'affect_dof_mechbreak_t35p0.fxns.plan_path.s.dy', 'affect_dof_mechbreak_t35p0.fxns.plan_path.s.dz', 'affect_dof_mechbreak_t35p0.fxns.plan_path.s.pt', 'affect_dof_mechbreak_t35p0.fxns.plan_path.s.goal', 'affect_dof_mechbreak_t35p0.fxns.plan_path.m.faults.noloc', 'affect_dof_mechbreak_t35p0.fxns.plan_path.m.faults.degloc', 'affect_dof_mechbreak_t35p0.fxns.plan_path.m.mode', 'affect_dof_mechbreak_t35p0.fxns.plan_path.t.pause.time', 'affect_dof_mechbreak_t35p0.fxns.plan_path.t.pause.mode', 'affect_dof_mechbreak_t35p0.fxns.trajectory.m.mode', 'affect_dof_mechbreak_t35p0.fxns.engage_land.m.faults.break', 'affect_dof_mechbreak_t35p0.fxns.engage_land.m.faults.deform', 'affect_dof_mechbreak_t35p0.fxns.engage_land.m.mode', 'affect_dof_mechbreak_t35p0.fxns.hold_payload.m.faults.break', 'affect_dof_mechbreak_t35p0.fxns.hold_payload.m.faults.deform', 'affect_dof_mechbreak_t35p0.fxns.hold_payload.m.mode', 'affect_dof_mechbreak_t35p0.fxns.view_env.m.mode', 'affect_dof_mechbreak_t35p0.flows.force_st.s.support', 'affect_dof_mechbreak_t35p0.flows.force_lin.s.support', 'affect_dof_mechbreak_t35p0.flows.force_gr.s.support', 'affect_dof_mechbreak_t35p0.flows.force_lg.s.support', 'affect_dof_mechbreak_t35p0.flows.ee_1.s.rate', 'affect_dof_mechbreak_t35p0.flows.ee_1.s.effort', 'affect_dof_mechbreak_t35p0.flows.ee_mot.s.rate', 'affect_dof_mechbreak_t35p0.flows.ee_mot.s.effort', 'affect_dof_mechbreak_t35p0.flows.ee_ctl.s.rate', 'affect_dof_mechbreak_t35p0.flows.ee_ctl.s.effort', 'affect_dof_mechbreak_t35p0.flows.ctl.s.forward', 'affect_dof_mechbreak_t35p0.flows.ctl.s.upward', 'affect_dof_mechbreak_t35p0.flows.dofs.s.vertvel', 'affect_dof_mechbreak_t35p0.flows.dofs.s.planvel', 'affect_dof_mechbreak_t35p0.flows.dofs.s.planpwr', 'affect_dof_mechbreak_t35p0.flows.dofs.s.uppwr', 'affect_dof_mechbreak_t35p0.flows.env.s.x', 'affect_dof_mechbreak_t35p0.flows.env.s.y', 'affect_dof_mechbreak_t35p0.flows.env.s.z', 'affect_dof_mechbreak_t35p0.flows.dir.s.x', 'affect_dof_mechbreak_t35p0.flows.dir.s.y', 'affect_dof_mechbreak_t35p0.flows.dir.s.z', 'affect_dof_mechbreak_t35p0.flows.dir.s.power', 'affect_dof_mechbreak_t35p0.time', 'affect_dof_mechbreak_t49p0.fxns.store_ee.s.soc', 'affect_dof_mechbreak_t49p0.fxns.store_ee.m.faults.nocharge', 'affect_dof_mechbreak_t49p0.fxns.store_ee.m.mode', 'affect_dof_mechbreak_t49p0.fxns.dist_ee.s.ee_tr', 'affect_dof_mechbreak_t49p0.fxns.dist_ee.s.ee_te', 'affect_dof_mechbreak_t49p0.fxns.dist_ee.m.faults.short', 'affect_dof_mechbreak_t49p0.fxns.dist_ee.m.faults.degr', 'affect_dof_mechbreak_t49p0.fxns.dist_ee.m.faults.break', 'affect_dof_mechbreak_t49p0.fxns.dist_ee.m.mode', 'affect_dof_mechbreak_t49p0.fxns.affect_dof.s.e_to', 'affect_dof_mechbreak_t49p0.fxns.affect_dof.s.e_ti', 'affect_dof_mechbreak_t49p0.fxns.affect_dof.s.ct', 'affect_dof_mechbreak_t49p0.fxns.affect_dof.s.mt', 'affect_dof_mechbreak_t49p0.fxns.affect_dof.s.pt', 'affect_dof_mechbreak_t49p0.fxns.affect_dof.m.faults.short', 'affect_dof_mechbreak_t49p0.fxns.affect_dof.m.faults.openc', 'affect_dof_mechbreak_t49p0.fxns.affect_dof.m.faults.ctlup', 'affect_dof_mechbreak_t49p0.fxns.affect_dof.m.faults.ctldn', 'affect_dof_mechbreak_t49p0.fxns.affect_dof.m.faults.ctlbreak', 'affect_dof_mechbreak_t49p0.fxns.affect_dof.m.faults.mechbreak', 'affect_dof_mechbreak_t49p0.fxns.affect_dof.m.faults.mechfriction', 'affect_dof_mechbreak_t49p0.fxns.affect_dof.m.faults.propwarp', 'affect_dof_mechbreak_t49p0.fxns.affect_dof.m.faults.propstuck', 'affect_dof_mechbreak_t49p0.fxns.affect_dof.m.faults.propbreak', 'affect_dof_mechbreak_t49p0.fxns.affect_dof.m.mode', 'affect_dof_mechbreak_t49p0.fxns.ctl_dof.s.cs', 'affect_dof_mechbreak_t49p0.fxns.ctl_dof.s.vel', 'affect_dof_mechbreak_t49p0.fxns.ctl_dof.m.faults.noctl', 'affect_dof_mechbreak_t49p0.fxns.ctl_dof.m.faults.degctl', 'affect_dof_mechbreak_t49p0.fxns.ctl_dof.m.mode', 'affect_dof_mechbreak_t49p0.fxns.plan_path.s.dx', 'affect_dof_mechbreak_t49p0.fxns.plan_path.s.dy', 'affect_dof_mechbreak_t49p0.fxns.plan_path.s.dz', 'affect_dof_mechbreak_t49p0.fxns.plan_path.s.pt', 'affect_dof_mechbreak_t49p0.fxns.plan_path.s.goal', 'affect_dof_mechbreak_t49p0.fxns.plan_path.m.faults.noloc', 'affect_dof_mechbreak_t49p0.fxns.plan_path.m.faults.degloc', 'affect_dof_mechbreak_t49p0.fxns.plan_path.m.mode', 'affect_dof_mechbreak_t49p0.fxns.plan_path.t.pause.time', 'affect_dof_mechbreak_t49p0.fxns.plan_path.t.pause.mode', 'affect_dof_mechbreak_t49p0.fxns.trajectory.m.mode', 'affect_dof_mechbreak_t49p0.fxns.engage_land.m.faults.break', 'affect_dof_mechbreak_t49p0.fxns.engage_land.m.faults.deform', 'affect_dof_mechbreak_t49p0.fxns.engage_land.m.mode', 'affect_dof_mechbreak_t49p0.fxns.hold_payload.m.faults.break', 'affect_dof_mechbreak_t49p0.fxns.hold_payload.m.faults.deform', 'affect_dof_mechbreak_t49p0.fxns.hold_payload.m.mode', 'affect_dof_mechbreak_t49p0.fxns.view_env.m.mode', 'affect_dof_mechbreak_t49p0.flows.force_st.s.support', 'affect_dof_mechbreak_t49p0.flows.force_lin.s.support', 'affect_dof_mechbreak_t49p0.flows.force_gr.s.support', 'affect_dof_mechbreak_t49p0.flows.force_lg.s.support', 'affect_dof_mechbreak_t49p0.flows.ee_1.s.rate', 'affect_dof_mechbreak_t49p0.flows.ee_1.s.effort', 'affect_dof_mechbreak_t49p0.flows.ee_mot.s.rate', 'affect_dof_mechbreak_t49p0.flows.ee_mot.s.effort', 'affect_dof_mechbreak_t49p0.flows.ee_ctl.s.rate', 'affect_dof_mechbreak_t49p0.flows.ee_ctl.s.effort', 'affect_dof_mechbreak_t49p0.flows.ctl.s.forward', 'affect_dof_mechbreak_t49p0.flows.ctl.s.upward', 'affect_dof_mechbreak_t49p0.flows.dofs.s.vertvel', 'affect_dof_mechbreak_t49p0.flows.dofs.s.planvel', 'affect_dof_mechbreak_t49p0.flows.dofs.s.planpwr', 'affect_dof_mechbreak_t49p0.flows.dofs.s.uppwr', 'affect_dof_mechbreak_t49p0.flows.env.s.x', 'affect_dof_mechbreak_t49p0.flows.env.s.y', 'affect_dof_mechbreak_t49p0.flows.env.s.z', 'affect_dof_mechbreak_t49p0.flows.dir.s.x', 'affect_dof_mechbreak_t49p0.flows.dir.s.y', 'affect_dof_mechbreak_t49p0.flows.dir.s.z', 'affect_dof_mechbreak_t49p0.flows.dir.s.power', 'affect_dof_mechbreak_t49p0.time', 'affect_dof_mechbreak_t64p0.fxns.store_ee.s.soc', 'affect_dof_mechbreak_t64p0.fxns.store_ee.m.faults.nocharge', 'affect_dof_mechbreak_t64p0.fxns.store_ee.m.mode', 'affect_dof_mechbreak_t64p0.fxns.dist_ee.s.ee_tr', 'affect_dof_mechbreak_t64p0.fxns.dist_ee.s.ee_te', 'affect_dof_mechbreak_t64p0.fxns.dist_ee.m.faults.short', 'affect_dof_mechbreak_t64p0.fxns.dist_ee.m.faults.degr', 'affect_dof_mechbreak_t64p0.fxns.dist_ee.m.faults.break', 'affect_dof_mechbreak_t64p0.fxns.dist_ee.m.mode', 'affect_dof_mechbreak_t64p0.fxns.affect_dof.s.e_to', 'affect_dof_mechbreak_t64p0.fxns.affect_dof.s.e_ti', 'affect_dof_mechbreak_t64p0.fxns.affect_dof.s.ct', 'affect_dof_mechbreak_t64p0.fxns.affect_dof.s.mt', 'affect_dof_mechbreak_t64p0.fxns.affect_dof.s.pt', 'affect_dof_mechbreak_t64p0.fxns.affect_dof.m.faults.short', 'affect_dof_mechbreak_t64p0.fxns.affect_dof.m.faults.openc', 'affect_dof_mechbreak_t64p0.fxns.affect_dof.m.faults.ctlup', 'affect_dof_mechbreak_t64p0.fxns.affect_dof.m.faults.ctldn', 'affect_dof_mechbreak_t64p0.fxns.affect_dof.m.faults.ctlbreak', 'affect_dof_mechbreak_t64p0.fxns.affect_dof.m.faults.mechbreak', 'affect_dof_mechbreak_t64p0.fxns.affect_dof.m.faults.mechfriction', 'affect_dof_mechbreak_t64p0.fxns.affect_dof.m.faults.propwarp', 'affect_dof_mechbreak_t64p0.fxns.affect_dof.m.faults.propstuck', 'affect_dof_mechbreak_t64p0.fxns.affect_dof.m.faults.propbreak', 'affect_dof_mechbreak_t64p0.fxns.affect_dof.m.mode', 'affect_dof_mechbreak_t64p0.fxns.ctl_dof.s.cs', 'affect_dof_mechbreak_t64p0.fxns.ctl_dof.s.vel', 'affect_dof_mechbreak_t64p0.fxns.ctl_dof.m.faults.noctl', 'affect_dof_mechbreak_t64p0.fxns.ctl_dof.m.faults.degctl', 'affect_dof_mechbreak_t64p0.fxns.ctl_dof.m.mode', 'affect_dof_mechbreak_t64p0.fxns.plan_path.s.dx', 'affect_dof_mechbreak_t64p0.fxns.plan_path.s.dy', 'affect_dof_mechbreak_t64p0.fxns.plan_path.s.dz', 'affect_dof_mechbreak_t64p0.fxns.plan_path.s.pt', 'affect_dof_mechbreak_t64p0.fxns.plan_path.s.goal', 'affect_dof_mechbreak_t64p0.fxns.plan_path.m.faults.noloc', 'affect_dof_mechbreak_t64p0.fxns.plan_path.m.faults.degloc', 'affect_dof_mechbreak_t64p0.fxns.plan_path.m.mode', 'affect_dof_mechbreak_t64p0.fxns.plan_path.t.pause.time', 'affect_dof_mechbreak_t64p0.fxns.plan_path.t.pause.mode', 'affect_dof_mechbreak_t64p0.fxns.trajectory.m.mode', 'affect_dof_mechbreak_t64p0.fxns.engage_land.m.faults.break', 'affect_dof_mechbreak_t64p0.fxns.engage_land.m.faults.deform', 'affect_dof_mechbreak_t64p0.fxns.engage_land.m.mode', 'affect_dof_mechbreak_t64p0.fxns.hold_payload.m.faults.break', 'affect_dof_mechbreak_t64p0.fxns.hold_payload.m.faults.deform', 'affect_dof_mechbreak_t64p0.fxns.hold_payload.m.mode', 'affect_dof_mechbreak_t64p0.fxns.view_env.m.mode', 'affect_dof_mechbreak_t64p0.flows.force_st.s.support', 'affect_dof_mechbreak_t64p0.flows.force_lin.s.support', 'affect_dof_mechbreak_t64p0.flows.force_gr.s.support', 'affect_dof_mechbreak_t64p0.flows.force_lg.s.support', 'affect_dof_mechbreak_t64p0.flows.ee_1.s.rate', 'affect_dof_mechbreak_t64p0.flows.ee_1.s.effort', 'affect_dof_mechbreak_t64p0.flows.ee_mot.s.rate', 'affect_dof_mechbreak_t64p0.flows.ee_mot.s.effort', 'affect_dof_mechbreak_t64p0.flows.ee_ctl.s.rate', 'affect_dof_mechbreak_t64p0.flows.ee_ctl.s.effort', 'affect_dof_mechbreak_t64p0.flows.ctl.s.forward', 'affect_dof_mechbreak_t64p0.flows.ctl.s.upward', 'affect_dof_mechbreak_t64p0.flows.dofs.s.vertvel', 'affect_dof_mechbreak_t64p0.flows.dofs.s.planvel', 'affect_dof_mechbreak_t64p0.flows.dofs.s.planpwr', 'affect_dof_mechbreak_t64p0.flows.dofs.s.uppwr', 'affect_dof_mechbreak_t64p0.flows.env.s.x', 'affect_dof_mechbreak_t64p0.flows.env.s.y', 'affect_dof_mechbreak_t64p0.flows.env.s.z', 'affect_dof_mechbreak_t64p0.flows.dir.s.x', 'affect_dof_mechbreak_t64p0.flows.dir.s.y', 'affect_dof_mechbreak_t64p0.flows.dir.s.z', 'affect_dof_mechbreak_t64p0.flows.dir.s.power', 'affect_dof_mechbreak_t64p0.time', 'affect_dof_mechbreak_t79p0.fxns.store_ee.s.soc', 'affect_dof_mechbreak_t79p0.fxns.store_ee.m.faults.nocharge', 'affect_dof_mechbreak_t79p0.fxns.store_ee.m.mode', 'affect_dof_mechbreak_t79p0.fxns.dist_ee.s.ee_tr', 'affect_dof_mechbreak_t79p0.fxns.dist_ee.s.ee_te', 'affect_dof_mechbreak_t79p0.fxns.dist_ee.m.faults.short', 'affect_dof_mechbreak_t79p0.fxns.dist_ee.m.faults.degr', 'affect_dof_mechbreak_t79p0.fxns.dist_ee.m.faults.break', 'affect_dof_mechbreak_t79p0.fxns.dist_ee.m.mode', 'affect_dof_mechbreak_t79p0.fxns.affect_dof.s.e_to', 'affect_dof_mechbreak_t79p0.fxns.affect_dof.s.e_ti', 'affect_dof_mechbreak_t79p0.fxns.affect_dof.s.ct', 'affect_dof_mechbreak_t79p0.fxns.affect_dof.s.mt', 'affect_dof_mechbreak_t79p0.fxns.affect_dof.s.pt', 'affect_dof_mechbreak_t79p0.fxns.affect_dof.m.faults.short', 'affect_dof_mechbreak_t79p0.fxns.affect_dof.m.faults.openc', 'affect_dof_mechbreak_t79p0.fxns.affect_dof.m.faults.ctlup', 'affect_dof_mechbreak_t79p0.fxns.affect_dof.m.faults.ctldn', 'affect_dof_mechbreak_t79p0.fxns.affect_dof.m.faults.ctlbreak', 'affect_dof_mechbreak_t79p0.fxns.affect_dof.m.faults.mechbreak', 'affect_dof_mechbreak_t79p0.fxns.affect_dof.m.faults.mechfriction', 'affect_dof_mechbreak_t79p0.fxns.affect_dof.m.faults.propwarp', 'affect_dof_mechbreak_t79p0.fxns.affect_dof.m.faults.propstuck', 'affect_dof_mechbreak_t79p0.fxns.affect_dof.m.faults.propbreak', 'affect_dof_mechbreak_t79p0.fxns.affect_dof.m.mode', 'affect_dof_mechbreak_t79p0.fxns.ctl_dof.s.cs', 'affect_dof_mechbreak_t79p0.fxns.ctl_dof.s.vel', 'affect_dof_mechbreak_t79p0.fxns.ctl_dof.m.faults.noctl', 'affect_dof_mechbreak_t79p0.fxns.ctl_dof.m.faults.degctl', 'affect_dof_mechbreak_t79p0.fxns.ctl_dof.m.mode', 'affect_dof_mechbreak_t79p0.fxns.plan_path.s.dx', 'affect_dof_mechbreak_t79p0.fxns.plan_path.s.dy', 'affect_dof_mechbreak_t79p0.fxns.plan_path.s.dz', 'affect_dof_mechbreak_t79p0.fxns.plan_path.s.pt', 'affect_dof_mechbreak_t79p0.fxns.plan_path.s.goal', 'affect_dof_mechbreak_t79p0.fxns.plan_path.m.faults.noloc', 'affect_dof_mechbreak_t79p0.fxns.plan_path.m.faults.degloc', 'affect_dof_mechbreak_t79p0.fxns.plan_path.m.mode', 'affect_dof_mechbreak_t79p0.fxns.plan_path.t.pause.time', 'affect_dof_mechbreak_t79p0.fxns.plan_path.t.pause.mode', 'affect_dof_mechbreak_t79p0.fxns.trajectory.m.mode', 'affect_dof_mechbreak_t79p0.fxns.engage_land.m.faults.break', 'affect_dof_mechbreak_t79p0.fxns.engage_land.m.faults.deform', 'affect_dof_mechbreak_t79p0.fxns.engage_land.m.mode', 'affect_dof_mechbreak_t79p0.fxns.hold_payload.m.faults.break', 'affect_dof_mechbreak_t79p0.fxns.hold_payload.m.faults.deform', 'affect_dof_mechbreak_t79p0.fxns.hold_payload.m.mode', 'affect_dof_mechbreak_t79p0.fxns.view_env.m.mode', 'affect_dof_mechbreak_t79p0.flows.force_st.s.support', 'affect_dof_mechbreak_t79p0.flows.force_lin.s.support', 'affect_dof_mechbreak_t79p0.flows.force_gr.s.support', 'affect_dof_mechbreak_t79p0.flows.force_lg.s.support', 'affect_dof_mechbreak_t79p0.flows.ee_1.s.rate', 'affect_dof_mechbreak_t79p0.flows.ee_1.s.effort', 'affect_dof_mechbreak_t79p0.flows.ee_mot.s.rate', 'affect_dof_mechbreak_t79p0.flows.ee_mot.s.effort', 'affect_dof_mechbreak_t79p0.flows.ee_ctl.s.rate', 'affect_dof_mechbreak_t79p0.flows.ee_ctl.s.effort', 'affect_dof_mechbreak_t79p0.flows.ctl.s.forward', 'affect_dof_mechbreak_t79p0.flows.ctl.s.upward', 'affect_dof_mechbreak_t79p0.flows.dofs.s.vertvel', 'affect_dof_mechbreak_t79p0.flows.dofs.s.planvel', 'affect_dof_mechbreak_t79p0.flows.dofs.s.planpwr', 'affect_dof_mechbreak_t79p0.flows.dofs.s.uppwr', 'affect_dof_mechbreak_t79p0.flows.env.s.x', 'affect_dof_mechbreak_t79p0.flows.env.s.y', 'affect_dof_mechbreak_t79p0.flows.env.s.z', 'affect_dof_mechbreak_t79p0.flows.dir.s.x', 'affect_dof_mechbreak_t79p0.flows.dir.s.y', 'affect_dof_mechbreak_t79p0.flows.dir.s.z', 'affect_dof_mechbreak_t79p0.flows.dir.s.power', 'affect_dof_mechbreak_t79p0.time', 'affect_dof_mechbreak_t95p0.fxns.store_ee.s.soc', 'affect_dof_mechbreak_t95p0.fxns.store_ee.m.faults.nocharge', 'affect_dof_mechbreak_t95p0.fxns.store_ee.m.mode', 'affect_dof_mechbreak_t95p0.fxns.dist_ee.s.ee_tr', 'affect_dof_mechbreak_t95p0.fxns.dist_ee.s.ee_te', 'affect_dof_mechbreak_t95p0.fxns.dist_ee.m.faults.short', 'affect_dof_mechbreak_t95p0.fxns.dist_ee.m.faults.degr', 'affect_dof_mechbreak_t95p0.fxns.dist_ee.m.faults.break', 'affect_dof_mechbreak_t95p0.fxns.dist_ee.m.mode', 'affect_dof_mechbreak_t95p0.fxns.affect_dof.s.e_to', 'affect_dof_mechbreak_t95p0.fxns.affect_dof.s.e_ti', 'affect_dof_mechbreak_t95p0.fxns.affect_dof.s.ct', 'affect_dof_mechbreak_t95p0.fxns.affect_dof.s.mt', 'affect_dof_mechbreak_t95p0.fxns.affect_dof.s.pt', 'affect_dof_mechbreak_t95p0.fxns.affect_dof.m.faults.short', 'affect_dof_mechbreak_t95p0.fxns.affect_dof.m.faults.openc', 'affect_dof_mechbreak_t95p0.fxns.affect_dof.m.faults.ctlup', 'affect_dof_mechbreak_t95p0.fxns.affect_dof.m.faults.ctldn', 'affect_dof_mechbreak_t95p0.fxns.affect_dof.m.faults.ctlbreak', 'affect_dof_mechbreak_t95p0.fxns.affect_dof.m.faults.mechbreak', 'affect_dof_mechbreak_t95p0.fxns.affect_dof.m.faults.mechfriction', 'affect_dof_mechbreak_t95p0.fxns.affect_dof.m.faults.propwarp', 'affect_dof_mechbreak_t95p0.fxns.affect_dof.m.faults.propstuck', 'affect_dof_mechbreak_t95p0.fxns.affect_dof.m.faults.propbreak', 'affect_dof_mechbreak_t95p0.fxns.affect_dof.m.mode', 'affect_dof_mechbreak_t95p0.fxns.ctl_dof.s.cs', 'affect_dof_mechbreak_t95p0.fxns.ctl_dof.s.vel', 'affect_dof_mechbreak_t95p0.fxns.ctl_dof.m.faults.noctl', 'affect_dof_mechbreak_t95p0.fxns.ctl_dof.m.faults.degctl', 'affect_dof_mechbreak_t95p0.fxns.ctl_dof.m.mode', 'affect_dof_mechbreak_t95p0.fxns.plan_path.s.dx', 'affect_dof_mechbreak_t95p0.fxns.plan_path.s.dy', 'affect_dof_mechbreak_t95p0.fxns.plan_path.s.dz', 'affect_dof_mechbreak_t95p0.fxns.plan_path.s.pt', 'affect_dof_mechbreak_t95p0.fxns.plan_path.s.goal', 'affect_dof_mechbreak_t95p0.fxns.plan_path.m.faults.noloc', 'affect_dof_mechbreak_t95p0.fxns.plan_path.m.faults.degloc', 'affect_dof_mechbreak_t95p0.fxns.plan_path.m.mode', 'affect_dof_mechbreak_t95p0.fxns.plan_path.t.pause.time', 'affect_dof_mechbreak_t95p0.fxns.plan_path.t.pause.mode', 'affect_dof_mechbreak_t95p0.fxns.trajectory.m.mode', 'affect_dof_mechbreak_t95p0.fxns.engage_land.m.faults.break', 'affect_dof_mechbreak_t95p0.fxns.engage_land.m.faults.deform', 'affect_dof_mechbreak_t95p0.fxns.engage_land.m.mode', 'affect_dof_mechbreak_t95p0.fxns.hold_payload.m.faults.break', 'affect_dof_mechbreak_t95p0.fxns.hold_payload.m.faults.deform', 'affect_dof_mechbreak_t95p0.fxns.hold_payload.m.mode', 'affect_dof_mechbreak_t95p0.fxns.view_env.m.mode', 'affect_dof_mechbreak_t95p0.flows.force_st.s.support', 'affect_dof_mechbreak_t95p0.flows.force_lin.s.support', 'affect_dof_mechbreak_t95p0.flows.force_gr.s.support', 'affect_dof_mechbreak_t95p0.flows.force_lg.s.support', 'affect_dof_mechbreak_t95p0.flows.ee_1.s.rate', 'affect_dof_mechbreak_t95p0.flows.ee_1.s.effort', 'affect_dof_mechbreak_t95p0.flows.ee_mot.s.rate', 'affect_dof_mechbreak_t95p0.flows.ee_mot.s.effort', 'affect_dof_mechbreak_t95p0.flows.ee_ctl.s.rate', 'affect_dof_mechbreak_t95p0.flows.ee_ctl.s.effort', 'affect_dof_mechbreak_t95p0.flows.ctl.s.forward', 'affect_dof_mechbreak_t95p0.flows.ctl.s.upward', 'affect_dof_mechbreak_t95p0.flows.dofs.s.vertvel', 'affect_dof_mechbreak_t95p0.flows.dofs.s.planvel', 'affect_dof_mechbreak_t95p0.flows.dofs.s.planpwr', 'affect_dof_mechbreak_t95p0.flows.dofs.s.uppwr', 'affect_dof_mechbreak_t95p0.flows.env.s.x', 'affect_dof_mechbreak_t95p0.flows.env.s.y', 'affect_dof_mechbreak_t95p0.flows.env.s.z', 'affect_dof_mechbreak_t95p0.flows.dir.s.x', 'affect_dof_mechbreak_t95p0.flows.dir.s.y', 'affect_dof_mechbreak_t95p0.flows.dir.s.z', 'affect_dof_mechbreak_t95p0.flows.dir.s.power', 'affect_dof_mechbreak_t95p0.time', 'affect_dof_mechbreak_t96p0.fxns.store_ee.s.soc', 'affect_dof_mechbreak_t96p0.fxns.store_ee.m.faults.nocharge', 'affect_dof_mechbreak_t96p0.fxns.store_ee.m.mode', 'affect_dof_mechbreak_t96p0.fxns.dist_ee.s.ee_tr', 'affect_dof_mechbreak_t96p0.fxns.dist_ee.s.ee_te', 'affect_dof_mechbreak_t96p0.fxns.dist_ee.m.faults.short', 'affect_dof_mechbreak_t96p0.fxns.dist_ee.m.faults.degr', 'affect_dof_mechbreak_t96p0.fxns.dist_ee.m.faults.break', 'affect_dof_mechbreak_t96p0.fxns.dist_ee.m.mode', 'affect_dof_mechbreak_t96p0.fxns.affect_dof.s.e_to', 'affect_dof_mechbreak_t96p0.fxns.affect_dof.s.e_ti', 'affect_dof_mechbreak_t96p0.fxns.affect_dof.s.ct', 'affect_dof_mechbreak_t96p0.fxns.affect_dof.s.mt', 'affect_dof_mechbreak_t96p0.fxns.affect_dof.s.pt', 'affect_dof_mechbreak_t96p0.fxns.affect_dof.m.faults.short', 'affect_dof_mechbreak_t96p0.fxns.affect_dof.m.faults.openc', 'affect_dof_mechbreak_t96p0.fxns.affect_dof.m.faults.ctlup', 'affect_dof_mechbreak_t96p0.fxns.affect_dof.m.faults.ctldn', 'affect_dof_mechbreak_t96p0.fxns.affect_dof.m.faults.ctlbreak', 'affect_dof_mechbreak_t96p0.fxns.affect_dof.m.faults.mechbreak', 'affect_dof_mechbreak_t96p0.fxns.affect_dof.m.faults.mechfriction', 'affect_dof_mechbreak_t96p0.fxns.affect_dof.m.faults.propwarp', 'affect_dof_mechbreak_t96p0.fxns.affect_dof.m.faults.propstuck', 'affect_dof_mechbreak_t96p0.fxns.affect_dof.m.faults.propbreak', 'affect_dof_mechbreak_t96p0.fxns.affect_dof.m.mode', 'affect_dof_mechbreak_t96p0.fxns.ctl_dof.s.cs', 'affect_dof_mechbreak_t96p0.fxns.ctl_dof.s.vel', 'affect_dof_mechbreak_t96p0.fxns.ctl_dof.m.faults.noctl', 'affect_dof_mechbreak_t96p0.fxns.ctl_dof.m.faults.degctl', 'affect_dof_mechbreak_t96p0.fxns.ctl_dof.m.mode', 'affect_dof_mechbreak_t96p0.fxns.plan_path.s.dx', 'affect_dof_mechbreak_t96p0.fxns.plan_path.s.dy', 'affect_dof_mechbreak_t96p0.fxns.plan_path.s.dz', 'affect_dof_mechbreak_t96p0.fxns.plan_path.s.pt', 'affect_dof_mechbreak_t96p0.fxns.plan_path.s.goal', 'affect_dof_mechbreak_t96p0.fxns.plan_path.m.faults.noloc', 'affect_dof_mechbreak_t96p0.fxns.plan_path.m.faults.degloc', 'affect_dof_mechbreak_t96p0.fxns.plan_path.m.mode', 'affect_dof_mechbreak_t96p0.fxns.plan_path.t.pause.time', 'affect_dof_mechbreak_t96p0.fxns.plan_path.t.pause.mode', 'affect_dof_mechbreak_t96p0.fxns.trajectory.m.mode', 'affect_dof_mechbreak_t96p0.fxns.engage_land.m.faults.break', 'affect_dof_mechbreak_t96p0.fxns.engage_land.m.faults.deform', 'affect_dof_mechbreak_t96p0.fxns.engage_land.m.mode', 'affect_dof_mechbreak_t96p0.fxns.hold_payload.m.faults.break', 'affect_dof_mechbreak_t96p0.fxns.hold_payload.m.faults.deform', 'affect_dof_mechbreak_t96p0.fxns.hold_payload.m.mode', 'affect_dof_mechbreak_t96p0.fxns.view_env.m.mode', 'affect_dof_mechbreak_t96p0.flows.force_st.s.support', 'affect_dof_mechbreak_t96p0.flows.force_lin.s.support', 'affect_dof_mechbreak_t96p0.flows.force_gr.s.support', 'affect_dof_mechbreak_t96p0.flows.force_lg.s.support', 'affect_dof_mechbreak_t96p0.flows.ee_1.s.rate', 'affect_dof_mechbreak_t96p0.flows.ee_1.s.effort', 'affect_dof_mechbreak_t96p0.flows.ee_mot.s.rate', 'affect_dof_mechbreak_t96p0.flows.ee_mot.s.effort', 'affect_dof_mechbreak_t96p0.flows.ee_ctl.s.rate', 'affect_dof_mechbreak_t96p0.flows.ee_ctl.s.effort', 'affect_dof_mechbreak_t96p0.flows.ctl.s.forward', 'affect_dof_mechbreak_t96p0.flows.ctl.s.upward', 'affect_dof_mechbreak_t96p0.flows.dofs.s.vertvel', 'affect_dof_mechbreak_t96p0.flows.dofs.s.planvel', 'affect_dof_mechbreak_t96p0.flows.dofs.s.planpwr', 'affect_dof_mechbreak_t96p0.flows.dofs.s.uppwr', 'affect_dof_mechbreak_t96p0.flows.env.s.x', 'affect_dof_mechbreak_t96p0.flows.env.s.y', 'affect_dof_mechbreak_t96p0.flows.env.s.z', 'affect_dof_mechbreak_t96p0.flows.dir.s.x', 'affect_dof_mechbreak_t96p0.flows.dir.s.y', 'affect_dof_mechbreak_t96p0.flows.dir.s.z', 'affect_dof_mechbreak_t96p0.flows.dir.s.power', 'affect_dof_mechbreak_t96p0.time', 'affect_dof_mechbreak_t97p0.fxns.store_ee.s.soc', 'affect_dof_mechbreak_t97p0.fxns.store_ee.m.faults.nocharge', 'affect_dof_mechbreak_t97p0.fxns.store_ee.m.mode', 'affect_dof_mechbreak_t97p0.fxns.dist_ee.s.ee_tr', 'affect_dof_mechbreak_t97p0.fxns.dist_ee.s.ee_te', 'affect_dof_mechbreak_t97p0.fxns.dist_ee.m.faults.short', 'affect_dof_mechbreak_t97p0.fxns.dist_ee.m.faults.degr', 'affect_dof_mechbreak_t97p0.fxns.dist_ee.m.faults.break', 'affect_dof_mechbreak_t97p0.fxns.dist_ee.m.mode', 'affect_dof_mechbreak_t97p0.fxns.affect_dof.s.e_to', 'affect_dof_mechbreak_t97p0.fxns.affect_dof.s.e_ti', 'affect_dof_mechbreak_t97p0.fxns.affect_dof.s.ct', 'affect_dof_mechbreak_t97p0.fxns.affect_dof.s.mt', 'affect_dof_mechbreak_t97p0.fxns.affect_dof.s.pt', 'affect_dof_mechbreak_t97p0.fxns.affect_dof.m.faults.short', 'affect_dof_mechbreak_t97p0.fxns.affect_dof.m.faults.openc', 'affect_dof_mechbreak_t97p0.fxns.affect_dof.m.faults.ctlup', 'affect_dof_mechbreak_t97p0.fxns.affect_dof.m.faults.ctldn', 'affect_dof_mechbreak_t97p0.fxns.affect_dof.m.faults.ctlbreak', 'affect_dof_mechbreak_t97p0.fxns.affect_dof.m.faults.mechbreak', 'affect_dof_mechbreak_t97p0.fxns.affect_dof.m.faults.mechfriction', 'affect_dof_mechbreak_t97p0.fxns.affect_dof.m.faults.propwarp', 'affect_dof_mechbreak_t97p0.fxns.affect_dof.m.faults.propstuck', 'affect_dof_mechbreak_t97p0.fxns.affect_dof.m.faults.propbreak', 'affect_dof_mechbreak_t97p0.fxns.affect_dof.m.mode', 'affect_dof_mechbreak_t97p0.fxns.ctl_dof.s.cs', 'affect_dof_mechbreak_t97p0.fxns.ctl_dof.s.vel', 'affect_dof_mechbreak_t97p0.fxns.ctl_dof.m.faults.noctl', 'affect_dof_mechbreak_t97p0.fxns.ctl_dof.m.faults.degctl', 'affect_dof_mechbreak_t97p0.fxns.ctl_dof.m.mode', 'affect_dof_mechbreak_t97p0.fxns.plan_path.s.dx', 'affect_dof_mechbreak_t97p0.fxns.plan_path.s.dy', 'affect_dof_mechbreak_t97p0.fxns.plan_path.s.dz', 'affect_dof_mechbreak_t97p0.fxns.plan_path.s.pt', 'affect_dof_mechbreak_t97p0.fxns.plan_path.s.goal', 'affect_dof_mechbreak_t97p0.fxns.plan_path.m.faults.noloc', 'affect_dof_mechbreak_t97p0.fxns.plan_path.m.faults.degloc', 'affect_dof_mechbreak_t97p0.fxns.plan_path.m.mode', 'affect_dof_mechbreak_t97p0.fxns.plan_path.t.pause.time', 'affect_dof_mechbreak_t97p0.fxns.plan_path.t.pause.mode', 'affect_dof_mechbreak_t97p0.fxns.trajectory.m.mode', 'affect_dof_mechbreak_t97p0.fxns.engage_land.m.faults.break', 'affect_dof_mechbreak_t97p0.fxns.engage_land.m.faults.deform', 'affect_dof_mechbreak_t97p0.fxns.engage_land.m.mode', 'affect_dof_mechbreak_t97p0.fxns.hold_payload.m.faults.break', 'affect_dof_mechbreak_t97p0.fxns.hold_payload.m.faults.deform', 'affect_dof_mechbreak_t97p0.fxns.hold_payload.m.mode', 'affect_dof_mechbreak_t97p0.fxns.view_env.m.mode', 'affect_dof_mechbreak_t97p0.flows.force_st.s.support', 'affect_dof_mechbreak_t97p0.flows.force_lin.s.support', 'affect_dof_mechbreak_t97p0.flows.force_gr.s.support', 'affect_dof_mechbreak_t97p0.flows.force_lg.s.support', 'affect_dof_mechbreak_t97p0.flows.ee_1.s.rate', 'affect_dof_mechbreak_t97p0.flows.ee_1.s.effort', 'affect_dof_mechbreak_t97p0.flows.ee_mot.s.rate', 'affect_dof_mechbreak_t97p0.flows.ee_mot.s.effort', 'affect_dof_mechbreak_t97p0.flows.ee_ctl.s.rate', 'affect_dof_mechbreak_t97p0.flows.ee_ctl.s.effort', 'affect_dof_mechbreak_t97p0.flows.ctl.s.forward', 'affect_dof_mechbreak_t97p0.flows.ctl.s.upward', 'affect_dof_mechbreak_t97p0.flows.dofs.s.vertvel', 'affect_dof_mechbreak_t97p0.flows.dofs.s.planvel', 'affect_dof_mechbreak_t97p0.flows.dofs.s.planpwr', 'affect_dof_mechbreak_t97p0.flows.dofs.s.uppwr', 'affect_dof_mechbreak_t97p0.flows.env.s.x', 'affect_dof_mechbreak_t97p0.flows.env.s.y', 'affect_dof_mechbreak_t97p0.flows.env.s.z', 'affect_dof_mechbreak_t97p0.flows.dir.s.x', 'affect_dof_mechbreak_t97p0.flows.dir.s.y', 'affect_dof_mechbreak_t97p0.flows.dir.s.z', 'affect_dof_mechbreak_t97p0.flows.dir.s.power', 'affect_dof_mechbreak_t97p0.time', 'affect_dof_mechbreak_t98p0.fxns.store_ee.s.soc', 'affect_dof_mechbreak_t98p0.fxns.store_ee.m.faults.nocharge', 'affect_dof_mechbreak_t98p0.fxns.store_ee.m.mode', 'affect_dof_mechbreak_t98p0.fxns.dist_ee.s.ee_tr', 'affect_dof_mechbreak_t98p0.fxns.dist_ee.s.ee_te', 'affect_dof_mechbreak_t98p0.fxns.dist_ee.m.faults.short', 'affect_dof_mechbreak_t98p0.fxns.dist_ee.m.faults.degr', 'affect_dof_mechbreak_t98p0.fxns.dist_ee.m.faults.break', 'affect_dof_mechbreak_t98p0.fxns.dist_ee.m.mode', 'affect_dof_mechbreak_t98p0.fxns.affect_dof.s.e_to', 'affect_dof_mechbreak_t98p0.fxns.affect_dof.s.e_ti', 'affect_dof_mechbreak_t98p0.fxns.affect_dof.s.ct', 'affect_dof_mechbreak_t98p0.fxns.affect_dof.s.mt', 'affect_dof_mechbreak_t98p0.fxns.affect_dof.s.pt', 'affect_dof_mechbreak_t98p0.fxns.affect_dof.m.faults.short', 'affect_dof_mechbreak_t98p0.fxns.affect_dof.m.faults.openc', 'affect_dof_mechbreak_t98p0.fxns.affect_dof.m.faults.ctlup', 'affect_dof_mechbreak_t98p0.fxns.affect_dof.m.faults.ctldn', 'affect_dof_mechbreak_t98p0.fxns.affect_dof.m.faults.ctlbreak', 'affect_dof_mechbreak_t98p0.fxns.affect_dof.m.faults.mechbreak', 'affect_dof_mechbreak_t98p0.fxns.affect_dof.m.faults.mechfriction', 'affect_dof_mechbreak_t98p0.fxns.affect_dof.m.faults.propwarp', 'affect_dof_mechbreak_t98p0.fxns.affect_dof.m.faults.propstuck', 'affect_dof_mechbreak_t98p0.fxns.affect_dof.m.faults.propbreak', 'affect_dof_mechbreak_t98p0.fxns.affect_dof.m.mode', 'affect_dof_mechbreak_t98p0.fxns.ctl_dof.s.cs', 'affect_dof_mechbreak_t98p0.fxns.ctl_dof.s.vel', 'affect_dof_mechbreak_t98p0.fxns.ctl_dof.m.faults.noctl', 'affect_dof_mechbreak_t98p0.fxns.ctl_dof.m.faults.degctl', 'affect_dof_mechbreak_t98p0.fxns.ctl_dof.m.mode', 'affect_dof_mechbreak_t98p0.fxns.plan_path.s.dx', 'affect_dof_mechbreak_t98p0.fxns.plan_path.s.dy', 'affect_dof_mechbreak_t98p0.fxns.plan_path.s.dz', 'affect_dof_mechbreak_t98p0.fxns.plan_path.s.pt', 'affect_dof_mechbreak_t98p0.fxns.plan_path.s.goal', 'affect_dof_mechbreak_t98p0.fxns.plan_path.m.faults.noloc', 'affect_dof_mechbreak_t98p0.fxns.plan_path.m.faults.degloc', 'affect_dof_mechbreak_t98p0.fxns.plan_path.m.mode', 'affect_dof_mechbreak_t98p0.fxns.plan_path.t.pause.time', 'affect_dof_mechbreak_t98p0.fxns.plan_path.t.pause.mode', 'affect_dof_mechbreak_t98p0.fxns.trajectory.m.mode', 'affect_dof_mechbreak_t98p0.fxns.engage_land.m.faults.break', 'affect_dof_mechbreak_t98p0.fxns.engage_land.m.faults.deform', 'affect_dof_mechbreak_t98p0.fxns.engage_land.m.mode', 'affect_dof_mechbreak_t98p0.fxns.hold_payload.m.faults.break', 'affect_dof_mechbreak_t98p0.fxns.hold_payload.m.faults.deform', 'affect_dof_mechbreak_t98p0.fxns.hold_payload.m.mode', 'affect_dof_mechbreak_t98p0.fxns.view_env.m.mode', 'affect_dof_mechbreak_t98p0.flows.force_st.s.support', 'affect_dof_mechbreak_t98p0.flows.force_lin.s.support', 'affect_dof_mechbreak_t98p0.flows.force_gr.s.support', 'affect_dof_mechbreak_t98p0.flows.force_lg.s.support', 'affect_dof_mechbreak_t98p0.flows.ee_1.s.rate', 'affect_dof_mechbreak_t98p0.flows.ee_1.s.effort', 'affect_dof_mechbreak_t98p0.flows.ee_mot.s.rate', 'affect_dof_mechbreak_t98p0.flows.ee_mot.s.effort', 'affect_dof_mechbreak_t98p0.flows.ee_ctl.s.rate', 'affect_dof_mechbreak_t98p0.flows.ee_ctl.s.effort', 'affect_dof_mechbreak_t98p0.flows.ctl.s.forward', 'affect_dof_mechbreak_t98p0.flows.ctl.s.upward', 'affect_dof_mechbreak_t98p0.flows.dofs.s.vertvel', 'affect_dof_mechbreak_t98p0.flows.dofs.s.planvel', 'affect_dof_mechbreak_t98p0.flows.dofs.s.planpwr', 'affect_dof_mechbreak_t98p0.flows.dofs.s.uppwr', 'affect_dof_mechbreak_t98p0.flows.env.s.x', 'affect_dof_mechbreak_t98p0.flows.env.s.y', 'affect_dof_mechbreak_t98p0.flows.env.s.z', 'affect_dof_mechbreak_t98p0.flows.dir.s.x', 'affect_dof_mechbreak_t98p0.flows.dir.s.y', 'affect_dof_mechbreak_t98p0.flows.dir.s.z', 'affect_dof_mechbreak_t98p0.flows.dir.s.power', 'affect_dof_mechbreak_t98p0.time', 'affect_dof_mechbreak_t99p0.fxns.store_ee.s.soc', 'affect_dof_mechbreak_t99p0.fxns.store_ee.m.faults.nocharge', 'affect_dof_mechbreak_t99p0.fxns.store_ee.m.mode', 'affect_dof_mechbreak_t99p0.fxns.dist_ee.s.ee_tr', 'affect_dof_mechbreak_t99p0.fxns.dist_ee.s.ee_te', 'affect_dof_mechbreak_t99p0.fxns.dist_ee.m.faults.short', 'affect_dof_mechbreak_t99p0.fxns.dist_ee.m.faults.degr', 'affect_dof_mechbreak_t99p0.fxns.dist_ee.m.faults.break', 'affect_dof_mechbreak_t99p0.fxns.dist_ee.m.mode', 'affect_dof_mechbreak_t99p0.fxns.affect_dof.s.e_to', 'affect_dof_mechbreak_t99p0.fxns.affect_dof.s.e_ti', 'affect_dof_mechbreak_t99p0.fxns.affect_dof.s.ct', 'affect_dof_mechbreak_t99p0.fxns.affect_dof.s.mt', 'affect_dof_mechbreak_t99p0.fxns.affect_dof.s.pt', 'affect_dof_mechbreak_t99p0.fxns.affect_dof.m.faults.short', 'affect_dof_mechbreak_t99p0.fxns.affect_dof.m.faults.openc', 'affect_dof_mechbreak_t99p0.fxns.affect_dof.m.faults.ctlup', 'affect_dof_mechbreak_t99p0.fxns.affect_dof.m.faults.ctldn', 'affect_dof_mechbreak_t99p0.fxns.affect_dof.m.faults.ctlbreak', 'affect_dof_mechbreak_t99p0.fxns.affect_dof.m.faults.mechbreak', 'affect_dof_mechbreak_t99p0.fxns.affect_dof.m.faults.mechfriction', 'affect_dof_mechbreak_t99p0.fxns.affect_dof.m.faults.propwarp', 'affect_dof_mechbreak_t99p0.fxns.affect_dof.m.faults.propstuck', 'affect_dof_mechbreak_t99p0.fxns.affect_dof.m.faults.propbreak', 'affect_dof_mechbreak_t99p0.fxns.affect_dof.m.mode', 'affect_dof_mechbreak_t99p0.fxns.ctl_dof.s.cs', 'affect_dof_mechbreak_t99p0.fxns.ctl_dof.s.vel', 'affect_dof_mechbreak_t99p0.fxns.ctl_dof.m.faults.noctl', 'affect_dof_mechbreak_t99p0.fxns.ctl_dof.m.faults.degctl', 'affect_dof_mechbreak_t99p0.fxns.ctl_dof.m.mode', 'affect_dof_mechbreak_t99p0.fxns.plan_path.s.dx', 'affect_dof_mechbreak_t99p0.fxns.plan_path.s.dy', 'affect_dof_mechbreak_t99p0.fxns.plan_path.s.dz', 'affect_dof_mechbreak_t99p0.fxns.plan_path.s.pt', 'affect_dof_mechbreak_t99p0.fxns.plan_path.s.goal', 'affect_dof_mechbreak_t99p0.fxns.plan_path.m.faults.noloc', 'affect_dof_mechbreak_t99p0.fxns.plan_path.m.faults.degloc', 'affect_dof_mechbreak_t99p0.fxns.plan_path.m.mode', 'affect_dof_mechbreak_t99p0.fxns.plan_path.t.pause.time', 'affect_dof_mechbreak_t99p0.fxns.plan_path.t.pause.mode', 'affect_dof_mechbreak_t99p0.fxns.trajectory.m.mode', 'affect_dof_mechbreak_t99p0.fxns.engage_land.m.faults.break', 'affect_dof_mechbreak_t99p0.fxns.engage_land.m.faults.deform', 'affect_dof_mechbreak_t99p0.fxns.engage_land.m.mode', 'affect_dof_mechbreak_t99p0.fxns.hold_payload.m.faults.break', 'affect_dof_mechbreak_t99p0.fxns.hold_payload.m.faults.deform', 'affect_dof_mechbreak_t99p0.fxns.hold_payload.m.mode', 'affect_dof_mechbreak_t99p0.fxns.view_env.m.mode', 'affect_dof_mechbreak_t99p0.flows.force_st.s.support', 'affect_dof_mechbreak_t99p0.flows.force_lin.s.support', 'affect_dof_mechbreak_t99p0.flows.force_gr.s.support', 'affect_dof_mechbreak_t99p0.flows.force_lg.s.support', 'affect_dof_mechbreak_t99p0.flows.ee_1.s.rate', 'affect_dof_mechbreak_t99p0.flows.ee_1.s.effort', 'affect_dof_mechbreak_t99p0.flows.ee_mot.s.rate', 'affect_dof_mechbreak_t99p0.flows.ee_mot.s.effort', 'affect_dof_mechbreak_t99p0.flows.ee_ctl.s.rate', 'affect_dof_mechbreak_t99p0.flows.ee_ctl.s.effort', 'affect_dof_mechbreak_t99p0.flows.ctl.s.forward', 'affect_dof_mechbreak_t99p0.flows.ctl.s.upward', 'affect_dof_mechbreak_t99p0.flows.dofs.s.vertvel', 'affect_dof_mechbreak_t99p0.flows.dofs.s.planvel', 'affect_dof_mechbreak_t99p0.flows.dofs.s.planpwr', 'affect_dof_mechbreak_t99p0.flows.dofs.s.uppwr', 'affect_dof_mechbreak_t99p0.flows.env.s.x', 'affect_dof_mechbreak_t99p0.flows.env.s.y', 'affect_dof_mechbreak_t99p0.flows.env.s.z', 'affect_dof_mechbreak_t99p0.flows.dir.s.x', 'affect_dof_mechbreak_t99p0.flows.dir.s.y', 'affect_dof_mechbreak_t99p0.flows.dir.s.z', 'affect_dof_mechbreak_t99p0.flows.dir.s.power', 'affect_dof_mechbreak_t99p0.time', 'affect_dof_mechbreak_t100p0.fxns.store_ee.s.soc', 'affect_dof_mechbreak_t100p0.fxns.store_ee.m.faults.nocharge', 'affect_dof_mechbreak_t100p0.fxns.store_ee.m.mode', 'affect_dof_mechbreak_t100p0.fxns.dist_ee.s.ee_tr', 'affect_dof_mechbreak_t100p0.fxns.dist_ee.s.ee_te', 'affect_dof_mechbreak_t100p0.fxns.dist_ee.m.faults.short', 'affect_dof_mechbreak_t100p0.fxns.dist_ee.m.faults.degr', 'affect_dof_mechbreak_t100p0.fxns.dist_ee.m.faults.break', 'affect_dof_mechbreak_t100p0.fxns.dist_ee.m.mode', 'affect_dof_mechbreak_t100p0.fxns.affect_dof.s.e_to', 'affect_dof_mechbreak_t100p0.fxns.affect_dof.s.e_ti', 'affect_dof_mechbreak_t100p0.fxns.affect_dof.s.ct', 'affect_dof_mechbreak_t100p0.fxns.affect_dof.s.mt', 'affect_dof_mechbreak_t100p0.fxns.affect_dof.s.pt', 'affect_dof_mechbreak_t100p0.fxns.affect_dof.m.faults.short', 'affect_dof_mechbreak_t100p0.fxns.affect_dof.m.faults.openc', 'affect_dof_mechbreak_t100p0.fxns.affect_dof.m.faults.ctlup', 'affect_dof_mechbreak_t100p0.fxns.affect_dof.m.faults.ctldn', 'affect_dof_mechbreak_t100p0.fxns.affect_dof.m.faults.ctlbreak', 'affect_dof_mechbreak_t100p0.fxns.affect_dof.m.faults.mechbreak', 'affect_dof_mechbreak_t100p0.fxns.affect_dof.m.faults.mechfriction', 'affect_dof_mechbreak_t100p0.fxns.affect_dof.m.faults.propwarp', 'affect_dof_mechbreak_t100p0.fxns.affect_dof.m.faults.propstuck', 'affect_dof_mechbreak_t100p0.fxns.affect_dof.m.faults.propbreak', 'affect_dof_mechbreak_t100p0.fxns.affect_dof.m.mode', 'affect_dof_mechbreak_t100p0.fxns.ctl_dof.s.cs', 'affect_dof_mechbreak_t100p0.fxns.ctl_dof.s.vel', 'affect_dof_mechbreak_t100p0.fxns.ctl_dof.m.faults.noctl', 'affect_dof_mechbreak_t100p0.fxns.ctl_dof.m.faults.degctl', 'affect_dof_mechbreak_t100p0.fxns.ctl_dof.m.mode', 'affect_dof_mechbreak_t100p0.fxns.plan_path.s.dx', 'affect_dof_mechbreak_t100p0.fxns.plan_path.s.dy', 'affect_dof_mechbreak_t100p0.fxns.plan_path.s.dz', 'affect_dof_mechbreak_t100p0.fxns.plan_path.s.pt', 'affect_dof_mechbreak_t100p0.fxns.plan_path.s.goal', 'affect_dof_mechbreak_t100p0.fxns.plan_path.m.faults.noloc', 'affect_dof_mechbreak_t100p0.fxns.plan_path.m.faults.degloc', 'affect_dof_mechbreak_t100p0.fxns.plan_path.m.mode', 'affect_dof_mechbreak_t100p0.fxns.plan_path.t.pause.time', 'affect_dof_mechbreak_t100p0.fxns.plan_path.t.pause.mode', 'affect_dof_mechbreak_t100p0.fxns.trajectory.m.mode', 'affect_dof_mechbreak_t100p0.fxns.engage_land.m.faults.break', 'affect_dof_mechbreak_t100p0.fxns.engage_land.m.faults.deform', 'affect_dof_mechbreak_t100p0.fxns.engage_land.m.mode', 'affect_dof_mechbreak_t100p0.fxns.hold_payload.m.faults.break', 'affect_dof_mechbreak_t100p0.fxns.hold_payload.m.faults.deform', 'affect_dof_mechbreak_t100p0.fxns.hold_payload.m.mode', 'affect_dof_mechbreak_t100p0.fxns.view_env.m.mode', 'affect_dof_mechbreak_t100p0.flows.force_st.s.support', 'affect_dof_mechbreak_t100p0.flows.force_lin.s.support', 'affect_dof_mechbreak_t100p0.flows.force_gr.s.support', 'affect_dof_mechbreak_t100p0.flows.force_lg.s.support', 'affect_dof_mechbreak_t100p0.flows.ee_1.s.rate', 'affect_dof_mechbreak_t100p0.flows.ee_1.s.effort', 'affect_dof_mechbreak_t100p0.flows.ee_mot.s.rate', 'affect_dof_mechbreak_t100p0.flows.ee_mot.s.effort', 'affect_dof_mechbreak_t100p0.flows.ee_ctl.s.rate', 'affect_dof_mechbreak_t100p0.flows.ee_ctl.s.effort', 'affect_dof_mechbreak_t100p0.flows.ctl.s.forward', 'affect_dof_mechbreak_t100p0.flows.ctl.s.upward', 'affect_dof_mechbreak_t100p0.flows.dofs.s.vertvel', 'affect_dof_mechbreak_t100p0.flows.dofs.s.planvel', 'affect_dof_mechbreak_t100p0.flows.dofs.s.planpwr', 'affect_dof_mechbreak_t100p0.flows.dofs.s.uppwr', 'affect_dof_mechbreak_t100p0.flows.env.s.x', 'affect_dof_mechbreak_t100p0.flows.env.s.y', 'affect_dof_mechbreak_t100p0.flows.env.s.z', 'affect_dof_mechbreak_t100p0.flows.dir.s.x', 'affect_dof_mechbreak_t100p0.flows.dir.s.y', 'affect_dof_mechbreak_t100p0.flows.dir.s.z', 'affect_dof_mechbreak_t100p0.flows.dir.s.power', 'affect_dof_mechbreak_t100p0.time', 'nominal.fxns.store_ee.s.soc', 'nominal.fxns.store_ee.m.faults.nocharge', 'nominal.fxns.store_ee.m.mode', 'nominal.fxns.dist_ee.s.ee_tr', 'nominal.fxns.dist_ee.s.ee_te', 'nominal.fxns.dist_ee.m.faults.short', 'nominal.fxns.dist_ee.m.faults.degr', 'nominal.fxns.dist_ee.m.faults.break', 'nominal.fxns.dist_ee.m.mode', 'nominal.fxns.affect_dof.s.e_to', 'nominal.fxns.affect_dof.s.e_ti', 'nominal.fxns.affect_dof.s.ct', 'nominal.fxns.affect_dof.s.mt', 'nominal.fxns.affect_dof.s.pt', 'nominal.fxns.affect_dof.m.faults.short', 'nominal.fxns.affect_dof.m.faults.openc', 'nominal.fxns.affect_dof.m.faults.ctlup', 'nominal.fxns.affect_dof.m.faults.ctldn', 'nominal.fxns.affect_dof.m.faults.ctlbreak', 'nominal.fxns.affect_dof.m.faults.mechbreak', 'nominal.fxns.affect_dof.m.faults.mechfriction', 'nominal.fxns.affect_dof.m.faults.propwarp', 'nominal.fxns.affect_dof.m.faults.propstuck', 'nominal.fxns.affect_dof.m.faults.propbreak', 'nominal.fxns.affect_dof.m.mode', 'nominal.fxns.ctl_dof.s.cs', 'nominal.fxns.ctl_dof.s.vel', 'nominal.fxns.ctl_dof.m.faults.noctl', 'nominal.fxns.ctl_dof.m.faults.degctl', 'nominal.fxns.ctl_dof.m.mode', 'nominal.fxns.plan_path.s.dx', 'nominal.fxns.plan_path.s.dy', 'nominal.fxns.plan_path.s.dz', 'nominal.fxns.plan_path.s.pt', 'nominal.fxns.plan_path.s.goal', 'nominal.fxns.plan_path.m.faults.noloc', 'nominal.fxns.plan_path.m.faults.degloc', 'nominal.fxns.plan_path.m.mode', 'nominal.fxns.plan_path.t.pause.time', 'nominal.fxns.plan_path.t.pause.mode', 'nominal.fxns.trajectory.m.mode', 'nominal.fxns.engage_land.m.faults.break', 'nominal.fxns.engage_land.m.faults.deform', 'nominal.fxns.engage_land.m.mode', 'nominal.fxns.hold_payload.m.faults.break', 'nominal.fxns.hold_payload.m.faults.deform', 'nominal.fxns.hold_payload.m.mode', 'nominal.fxns.view_env.m.mode', 'nominal.flows.force_st.s.support', 'nominal.flows.force_lin.s.support', 'nominal.flows.force_gr.s.support', 'nominal.flows.force_lg.s.support', 'nominal.flows.ee_1.s.rate', 'nominal.flows.ee_1.s.effort', 'nominal.flows.ee_mot.s.rate', 'nominal.flows.ee_mot.s.effort', 'nominal.flows.ee_ctl.s.rate', 'nominal.flows.ee_ctl.s.effort', 'nominal.flows.ctl.s.forward', 'nominal.flows.ctl.s.upward', 'nominal.flows.dofs.s.vertvel', 'nominal.flows.dofs.s.planvel', 'nominal.flows.dofs.s.planpwr', 'nominal.flows.dofs.s.uppwr', 'nominal.flows.env.s.x', 'nominal.flows.env.s.y', 'nominal.flows.env.s.z', 'nominal.flows.dir.s.x', 'nominal.flows.dir.s.y', 'nominal.flows.dir.s.z', 'nominal.flows.dir.s.power', 'nominal.time'])"
      ]
     },
     "execution_count": 30,
     "metadata": {},
     "output_type": "execute_result"
    }
   ],
   "source": [
    "quad_comp_mdlhists.keys()"
   ]
  },
  {
   "cell_type": "code",
   "execution_count": 31,
   "metadata": {
    "execution": {
     "iopub.execute_input": "2023-06-09T23:27:12.415425Z",
     "iopub.status.busy": "2023-06-09T23:27:12.415425Z",
     "iopub.status.idle": "2023-06-09T23:27:12.428817Z",
     "shell.execute_reply": "2023-06-09T23:27:12.427808Z"
    }
   },
   "outputs": [
    {
     "data": {
      "text/plain": [
       "39.82614350378407"
      ]
     },
     "execution_count": 31,
     "metadata": {},
     "output_type": "execute_result"
    }
   ],
   "source": [
    "quad_comp_mdlhists.affect_dof_mechbreak_t20p0.flows.env.s.x[-1]"
   ]
  },
  {
   "cell_type": "code",
   "execution_count": 32,
   "metadata": {
    "execution": {
     "iopub.execute_input": "2023-06-09T23:27:12.431812Z",
     "iopub.status.busy": "2023-06-09T23:27:12.430849Z",
     "iopub.status.idle": "2023-06-09T23:27:12.793596Z",
     "shell.execute_reply": "2023-06-09T23:27:12.792594Z"
    }
   },
   "outputs": [
    {
     "data": {
      "image/png": "[encoded data removed]",
      "text/plain": [
       "<Figure size 432x288 with 2 Axes>"
      ]
     },
     "metadata": {
      "needs_background": "light"
     },
     "output_type": "display_data"
    }
   ],
   "source": [
    "an.plot.samplemetric(quad_comp_app, quad_comp_endclasses, ('affect_dof', 'mechbreak'))\n",
    "fig = plt.gcf()\n",
    "fig.savefig(\"cost_over_time.pdf\", format=\"pdf\", bbox_inches = 'tight', pad_inches = 0)"
   ]
  },
  {
   "cell_type": "code",
   "execution_count": 33,
   "metadata": {
    "execution": {
     "iopub.execute_input": "2023-06-09T23:27:12.795982Z",
     "iopub.status.busy": "2023-06-09T23:27:12.795982Z",
     "iopub.status.idle": "2023-06-09T23:27:12.809353Z",
     "shell.execute_reply": "2023-06-09T23:27:12.808341Z"
    }
   },
   "outputs": [
    {
     "data": {
      "text/plain": [
       "affect_dof_mechbreak9.25925925925926e-10\n",
       "affect_dof_mechbreak                 500\n",
       "affect_dof_mechbreak  0.0462962962962963\n",
       "affect_dof_mechbreak9.25925925925926e-10\n",
       "affect_dof_mechbreak              133500\n",
       "affect_dof_mechbreak  12.361111111111112\n",
       "affect_dof_mechbreak9.25925925925926e-10\n",
       "affect_dof_mechbreak              133500\n",
       "affect_dof_mechbreak  12.361111111111112\n",
       "affect_dof_mechbreak9.25925925925926e-10\n",
       "affect_dof_mechbreak              133500\n",
       "affect_dof_mechbreak  12.361111111111112\n",
       "affect_dof_mechbreak9.25925925925926e-10\n",
       "affect_dof_mechbreak              133500\n",
       "affect_dof_mechbreak  12.361111111111112\n",
       "affect_dof_mechbreak1.6666666666666667e-08\n",
       "affect_dof_mechbreak              183500\n",
       "affect_dof_mechbreak  305.83333333333337\n",
       "affect_dof_mechbreak1.6666666666666667e-08\n",
       "affect_dof_mechbreak              183500\n",
       "affect_dof_mechbreak  305.83333333333337\n",
       "affect_dof_mechbreak1.6666666666666667e-08\n",
       "affect_dof_mechbreak              183500\n",
       "affect_dof_mechbreak  305.83333333333337\n",
       "affect_dof_mechbreak1.6666666666666667e-08\n",
       "affect_dof_mechbreak              183500\n",
       "affect_dof_mechbreak  305.83333333333337\n",
       "affect_dof_mechbreak1.6666666666666667e-08\n",
       "affect_dof_mechbreak              133500\n",
       "affect_dof_mechbreak               222.5\n",
       "affect_dof_mechbreak9.259259259259261e-10\n",
       "affect_dof_mechbreak                 500\n",
       "affect_dof_mechbreak 0.04629629629629631\n",
       "affect_dof_mechbreak9.259259259259261e-10\n",
       "affect_dof_mechbreak                 500\n",
       "affect_dof_mechbreak 0.04629629629629631\n",
       "affect_dof_mechbreak9.259259259259261e-10\n",
       "affect_dof_mechbreak                 500\n",
       "affect_dof_mechbreak 0.04629629629629631\n",
       "affect_dof_mechbreak9.259259259259261e-10\n",
       "affect_dof_mechbreak                 500\n",
       "affect_dof_mechbreak 0.04629629629629631\n",
       "affect_dof_mechbreak9.259259259259261e-10\n",
       "affect_dof_mechbreak                 500\n",
       "affect_dof_mechbreak 0.04629629629629631\n",
       "affect_dof_mechbreak9.259259259259261e-10\n",
       "affect_dof_mechbreak                 500\n",
       "affect_dof_mechbreak 0.04629629629629631\n",
       "nominal.endclass.rate:               1.0\n",
       "nominal.endclass.cost:                 0\n",
       "nominal.endclass.expected cost:      0.0"
      ]
     },
     "execution_count": 33,
     "metadata": {},
     "output_type": "execute_result"
    }
   ],
   "source": [
    "quad_comp_endclasses"
   ]
  },
  {
   "cell_type": "markdown",
   "metadata": {},
   "source": [
    "## Hierarchical Model\n",
    "\n",
    "In the hierarchical model, we can use the simulation to compare system architectures. First by seeing how faults effect the behaviors in each architechture, then by seing how it affects the overall system resilience. \n",
    "\n",
    "This model is located in `drone_mdl_hierarchical.py`."
   ]
  },
  {
   "cell_type": "code",
   "execution_count": 34,
   "metadata": {
    "execution": {
     "iopub.execute_input": "2023-06-09T23:27:12.812014Z",
     "iopub.status.busy": "2023-06-09T23:27:12.812014Z",
     "iopub.status.idle": "2023-06-09T23:27:12.825331Z",
     "shell.execute_reply": "2023-06-09T23:27:12.824372Z"
    }
   },
   "outputs": [],
   "source": [
    "from drone_mdl_hierarchical import Drone as Drone_Hierarchical"
   ]
  },
  {
   "cell_type": "markdown",
   "metadata": {},
   "source": [
    "First, we can model how the quadrotor architecture behaves under faults--in this case, identically to the non-hierarchical model:"
   ]
  },
  {
   "cell_type": "code",
   "execution_count": 35,
   "metadata": {
    "execution": {
     "iopub.execute_input": "2023-06-09T23:27:12.828322Z",
     "iopub.status.busy": "2023-06-09T23:27:12.828322Z",
     "iopub.status.idle": "2023-06-09T23:27:15.365300Z",
     "shell.execute_reply": "2023-06-09T23:27:15.364368Z"
    }
   },
   "outputs": [],
   "source": [
    "hierarchical_model = Drone_Hierarchical(p={'arch':'quad'})\n",
    "endclass, mdlhist = fs.propagate.one_fault(hierarchical_model,'affect_dof', 'rf_mechbreak', time=50)"
   ]
  },
  {
   "cell_type": "code",
   "execution_count": 36,
   "metadata": {
    "execution": {
     "iopub.execute_input": "2023-06-09T23:27:15.367775Z",
     "iopub.status.busy": "2023-06-09T23:27:15.367775Z",
     "iopub.status.idle": "2023-06-09T23:27:15.698107Z",
     "shell.execute_reply": "2023-06-09T23:27:15.697109Z"
    }
   },
   "outputs": [
    {
     "data": {
      "image/png": "[encoded data removed]",
      "text/plain": [
       "<Figure size 432x288 with 4 Axes>"
      ]
     },
     "metadata": {
      "needs_background": "light"
     },
     "output_type": "display_data"
    }
   ],
   "source": [
    "fig, axs = an.plot.hist(mdlhist, 'flows.env.s.x', 'env.s.y', 'env.s.z', 'store_ee.s.soc',\n",
    "                        title='Response of Drone to AffectDOF mechbreak', time_slice=50, legend_loc=False)"
   ]
  },
  {
   "cell_type": "markdown",
   "metadata": {},
   "source": [
    "Then we can see how the octorotor architecture performs in the same case:"
   ]
  },
  {
   "cell_type": "code",
   "execution_count": 37,
   "metadata": {
    "execution": {
     "iopub.execute_input": "2023-06-09T23:27:15.704090Z",
     "iopub.status.busy": "2023-06-09T23:27:15.703092Z",
     "iopub.status.idle": "2023-06-09T23:27:18.512322Z",
     "shell.execute_reply": "2023-06-09T23:27:18.511316Z"
    }
   },
   "outputs": [],
   "source": [
    "hierarchical_model = Drone_Hierarchical(p={'arch':'oct'})\n",
    "endclass, mdlhist = fs.propagate.one_fault(hierarchical_model,'affect_dof', 'rf_mechbreak', time=50)"
   ]
  },
  {
   "cell_type": "code",
   "execution_count": 38,
   "metadata": {
    "execution": {
     "iopub.execute_input": "2023-06-09T23:27:18.515348Z",
     "iopub.status.busy": "2023-06-09T23:27:18.515348Z",
     "iopub.status.idle": "2023-06-09T23:27:19.100107Z",
     "shell.execute_reply": "2023-06-09T23:27:19.099068Z"
    }
   },
   "outputs": [
    {
     "data": {
      "image/png": "[encoded data removed]",
      "text/plain": [
       "<Figure size 432x288 with 4 Axes>"
      ]
     },
     "metadata": {
      "needs_background": "light"
     },
     "output_type": "display_data"
    }
   ],
   "source": [
    "fig, axs = an.plot.hist(mdlhist, 'flows.env.s.x', 'env.s.y', 'env.s.z', 'store_ee.s.soc',\n",
    "                        title='Response of Drone to AffectDOF: RFmechbreak', \n",
    "                        ylabels={'flows.env.s.x':'m','flows.env.s.y':'m','flows.env.s.z':'m','fxns.store_ee.s.soc':'%'},\\\n",
    "                        time_slice=50, h_padding=0.3, legend_loc=2)\n",
    "\n",
    "fig.savefig(\"red_fault_behavior.pdf\", format=\"pdf\", bbox_inches = 'tight', pad_inches = 0)"
   ]
  },
  {
   "cell_type": "markdown",
   "metadata": {},
   "source": [
    "As shown, the octorotor architecture enables the quadrotor to recover from the fault and land."
   ]
  },
  {
   "cell_type": "markdown",
   "metadata": {},
   "source": [
    "Next, we can compare how each architecture mitigates the set of faults that originiate in each function:\n",
    "### Quadcopter Resilience\n",
    "\n",
    "Here we quantify the expected costs of faults originiating in the quadcopter architecture:"
   ]
  },
  {
   "cell_type": "code",
   "execution_count": 39,
   "metadata": {
    "execution": {
     "iopub.execute_input": "2023-06-09T23:27:19.105045Z",
     "iopub.status.busy": "2023-06-09T23:27:19.105045Z",
     "iopub.status.idle": "2023-06-09T23:27:19.162547Z",
     "shell.execute_reply": "2023-06-09T23:27:19.161544Z"
    }
   },
   "outputs": [],
   "source": [
    "mdl_quad = Drone_Hierarchical(p={'arch':'quad'})\n",
    "mdl_quad.fxns['affect_dof'].m.faultmodes\n",
    "quad_faults = [('affect_dof', fault) for fault in list(mdl_quad.fxns['affect_dof'].m.faultmodes.keys())]"
   ]
  },
  {
   "cell_type": "code",
   "execution_count": 40,
   "metadata": {
    "execution": {
     "iopub.execute_input": "2023-06-09T23:27:19.165539Z",
     "iopub.status.busy": "2023-06-09T23:27:19.165539Z",
     "iopub.status.idle": "2023-06-09T23:29:00.472682Z",
     "shell.execute_reply": "2023-06-09T23:29:00.471678Z"
    }
   },
   "outputs": [
    {
     "name": "stderr",
     "output_type": "stream",
     "text": [
      "\r",
      "SCENARIOS COMPLETE:   0%|          | 0/120 [00:00<?, ?it/s]"
     ]
    },
    {
     "name": "stderr",
     "output_type": "stream",
     "text": [
      "\r",
      "SCENARIOS COMPLETE:   1%|          | 1/120 [00:01<02:26,  1.23s/it]"
     ]
    },
    {
     "name": "stderr",
     "output_type": "stream",
     "text": [
      "\r",
      "SCENARIOS COMPLETE:   2%|▏         | 2/120 [00:02<02:26,  1.24s/it]"
     ]
    },
    {
     "name": "stderr",
     "output_type": "stream",
     "text": [
      "\r",
      "SCENARIOS COMPLETE:   2%|▎         | 3/120 [00:03<02:22,  1.21s/it]"
     ]
    },
    {
     "name": "stderr",
     "output_type": "stream",
     "text": [
      "\r",
      "SCENARIOS COMPLETE:   3%|▎         | 4/120 [00:04<02:23,  1.23s/it]"
     ]
    },
    {
     "name": "stderr",
     "output_type": "stream",
     "text": [
      "\r",
      "SCENARIOS COMPLETE:   4%|▍         | 5/120 [00:06<02:18,  1.21s/it]"
     ]
    },
    {
     "name": "stderr",
     "output_type": "stream",
     "text": [
      "\r",
      "SCENARIOS COMPLETE:   5%|▌         | 6/120 [00:07<02:17,  1.21s/it]"
     ]
    },
    {
     "name": "stderr",
     "output_type": "stream",
     "text": [
      "\r",
      "SCENARIOS COMPLETE:   6%|▌         | 7/120 [00:08<02:18,  1.22s/it]"
     ]
    },
    {
     "name": "stderr",
     "output_type": "stream",
     "text": [
      "\r",
      "SCENARIOS COMPLETE:   7%|▋         | 8/120 [00:09<02:18,  1.23s/it]"
     ]
    },
    {
     "name": "stderr",
     "output_type": "stream",
     "text": [
      "\r",
      "SCENARIOS COMPLETE:   8%|▊         | 9/120 [00:11<02:16,  1.23s/it]"
     ]
    },
    {
     "name": "stderr",
     "output_type": "stream",
     "text": [
      "\r",
      "SCENARIOS COMPLETE:   8%|▊         | 10/120 [00:12<02:13,  1.21s/it]"
     ]
    },
    {
     "name": "stderr",
     "output_type": "stream",
     "text": [
      "\r",
      "SCENARIOS COMPLETE:   9%|▉         | 11/120 [00:13<02:13,  1.22s/it]"
     ]
    },
    {
     "name": "stderr",
     "output_type": "stream",
     "text": [
      "\r",
      "SCENARIOS COMPLETE:  10%|█         | 12/120 [00:14<02:10,  1.21s/it]"
     ]
    },
    {
     "name": "stderr",
     "output_type": "stream",
     "text": [
      "\r",
      "SCENARIOS COMPLETE:  11%|█         | 13/120 [00:15<02:09,  1.21s/it]"
     ]
    },
    {
     "name": "stderr",
     "output_type": "stream",
     "text": [
      "\r",
      "SCENARIOS COMPLETE:  12%|█▏        | 14/120 [00:17<02:08,  1.22s/it]"
     ]
    },
    {
     "name": "stderr",
     "output_type": "stream",
     "text": [
      "\r",
      "SCENARIOS COMPLETE:  12%|█▎        | 15/120 [00:18<02:06,  1.21s/it]"
     ]
    },
    {
     "name": "stderr",
     "output_type": "stream",
     "text": [
      "\r",
      "SCENARIOS COMPLETE:  13%|█▎        | 16/120 [00:19<02:05,  1.21s/it]"
     ]
    },
    {
     "name": "stderr",
     "output_type": "stream",
     "text": [
      "\r",
      "SCENARIOS COMPLETE:  14%|█▍        | 17/120 [00:20<02:05,  1.22s/it]"
     ]
    },
    {
     "name": "stderr",
     "output_type": "stream",
     "text": [
      "\r",
      "SCENARIOS COMPLETE:  15%|█▌        | 18/120 [00:21<02:04,  1.23s/it]"
     ]
    },
    {
     "name": "stderr",
     "output_type": "stream",
     "text": [
      "\r",
      "SCENARIOS COMPLETE:  16%|█▌        | 19/120 [00:23<02:02,  1.21s/it]"
     ]
    },
    {
     "name": "stderr",
     "output_type": "stream",
     "text": [
      "\r",
      "SCENARIOS COMPLETE:  17%|█▋        | 20/120 [00:24<02:01,  1.21s/it]"
     ]
    },
    {
     "name": "stderr",
     "output_type": "stream",
     "text": [
      "\r",
      "SCENARIOS COMPLETE:  18%|█▊        | 21/120 [00:25<02:00,  1.21s/it]"
     ]
    },
    {
     "name": "stderr",
     "output_type": "stream",
     "text": [
      "\r",
      "SCENARIOS COMPLETE:  18%|█▊        | 22/120 [00:26<01:59,  1.22s/it]"
     ]
    },
    {
     "name": "stderr",
     "output_type": "stream",
     "text": [
      "\r",
      "SCENARIOS COMPLETE:  19%|█▉        | 23/120 [00:28<01:59,  1.23s/it]"
     ]
    },
    {
     "name": "stderr",
     "output_type": "stream",
     "text": [
      "\r",
      "SCENARIOS COMPLETE:  20%|██        | 24/120 [00:29<02:09,  1.35s/it]"
     ]
    },
    {
     "name": "stderr",
     "output_type": "stream",
     "text": [
      "\r",
      "SCENARIOS COMPLETE:  21%|██        | 25/120 [00:31<02:09,  1.36s/it]"
     ]
    },
    {
     "name": "stderr",
     "output_type": "stream",
     "text": [
      "\r",
      "SCENARIOS COMPLETE:  22%|██▏       | 26/120 [00:32<02:10,  1.39s/it]"
     ]
    },
    {
     "name": "stderr",
     "output_type": "stream",
     "text": [
      "\r",
      "SCENARIOS COMPLETE:  22%|██▎       | 27/120 [00:33<02:09,  1.40s/it]"
     ]
    },
    {
     "name": "stderr",
     "output_type": "stream",
     "text": [
      "\r",
      "SCENARIOS COMPLETE:  23%|██▎       | 28/120 [00:35<02:10,  1.42s/it]"
     ]
    },
    {
     "name": "stderr",
     "output_type": "stream",
     "text": [
      "\r",
      "SCENARIOS COMPLETE:  24%|██▍       | 29/120 [00:37<02:18,  1.52s/it]"
     ]
    },
    {
     "name": "stderr",
     "output_type": "stream",
     "text": [
      "\r",
      "SCENARIOS COMPLETE:  25%|██▌       | 30/120 [00:38<02:09,  1.44s/it]"
     ]
    },
    {
     "name": "stderr",
     "output_type": "stream",
     "text": [
      "\r",
      "SCENARIOS COMPLETE:  26%|██▌       | 31/120 [00:39<02:08,  1.45s/it]"
     ]
    },
    {
     "name": "stderr",
     "output_type": "stream",
     "text": [
      "\r",
      "SCENARIOS COMPLETE:  27%|██▋       | 32/120 [00:41<02:04,  1.42s/it]"
     ]
    },
    {
     "name": "stderr",
     "output_type": "stream",
     "text": [
      "\r",
      "SCENARIOS COMPLETE:  28%|██▊       | 33/120 [00:42<02:06,  1.45s/it]"
     ]
    },
    {
     "name": "stderr",
     "output_type": "stream",
     "text": [
      "\r",
      "SCENARIOS COMPLETE:  28%|██▊       | 34/120 [00:44<02:04,  1.45s/it]"
     ]
    },
    {
     "name": "stderr",
     "output_type": "stream",
     "text": [
      "\r",
      "SCENARIOS COMPLETE:  29%|██▉       | 35/120 [00:45<02:05,  1.48s/it]"
     ]
    },
    {
     "name": "stderr",
     "output_type": "stream",
     "text": [
      "\r",
      "SCENARIOS COMPLETE:  30%|███       | 36/120 [00:47<02:05,  1.49s/it]"
     ]
    },
    {
     "name": "stderr",
     "output_type": "stream",
     "text": [
      "\r",
      "SCENARIOS COMPLETE:  31%|███       | 37/120 [00:48<02:04,  1.50s/it]"
     ]
    },
    {
     "name": "stderr",
     "output_type": "stream",
     "text": [
      "\r",
      "SCENARIOS COMPLETE:  32%|███▏      | 38/120 [00:50<02:00,  1.47s/it]"
     ]
    },
    {
     "name": "stderr",
     "output_type": "stream",
     "text": [
      "\r",
      "SCENARIOS COMPLETE:  32%|███▎      | 39/120 [00:51<01:54,  1.41s/it]"
     ]
    },
    {
     "name": "stderr",
     "output_type": "stream",
     "text": [
      "\r",
      "SCENARIOS COMPLETE:  33%|███▎      | 40/120 [00:52<01:48,  1.36s/it]"
     ]
    },
    {
     "name": "stderr",
     "output_type": "stream",
     "text": [
      "\r",
      "SCENARIOS COMPLETE:  34%|███▍      | 41/120 [00:53<01:34,  1.19s/it]"
     ]
    },
    {
     "name": "stderr",
     "output_type": "stream",
     "text": [
      "\r",
      "SCENARIOS COMPLETE:  35%|███▌      | 42/120 [00:54<01:24,  1.08s/it]"
     ]
    },
    {
     "name": "stderr",
     "output_type": "stream",
     "text": [
      "\r",
      "SCENARIOS COMPLETE:  36%|███▌      | 43/120 [00:55<01:17,  1.01s/it]"
     ]
    },
    {
     "name": "stderr",
     "output_type": "stream",
     "text": [
      "\r",
      "SCENARIOS COMPLETE:  37%|███▋      | 44/120 [00:55<01:12,  1.04it/s]"
     ]
    },
    {
     "name": "stderr",
     "output_type": "stream",
     "text": [
      "\r",
      "SCENARIOS COMPLETE:  38%|███▊      | 45/120 [00:56<01:08,  1.09it/s]"
     ]
    },
    {
     "name": "stderr",
     "output_type": "stream",
     "text": [
      "\r",
      "SCENARIOS COMPLETE:  38%|███▊      | 46/120 [00:57<01:05,  1.12it/s]"
     ]
    },
    {
     "name": "stderr",
     "output_type": "stream",
     "text": [
      "\r",
      "SCENARIOS COMPLETE:  39%|███▉      | 47/120 [00:58<01:04,  1.13it/s]"
     ]
    },
    {
     "name": "stderr",
     "output_type": "stream",
     "text": [
      "\r",
      "SCENARIOS COMPLETE:  40%|████      | 48/120 [00:59<01:04,  1.12it/s]"
     ]
    },
    {
     "name": "stderr",
     "output_type": "stream",
     "text": [
      "\r",
      "SCENARIOS COMPLETE:  41%|████      | 49/120 [01:00<01:02,  1.14it/s]"
     ]
    },
    {
     "name": "stderr",
     "output_type": "stream",
     "text": [
      "\r",
      "SCENARIOS COMPLETE:  42%|████▏     | 50/120 [01:01<01:00,  1.16it/s]"
     ]
    },
    {
     "name": "stderr",
     "output_type": "stream",
     "text": [
      "\r",
      "SCENARIOS COMPLETE:  42%|████▎     | 51/120 [01:01<00:59,  1.17it/s]"
     ]
    },
    {
     "name": "stderr",
     "output_type": "stream",
     "text": [
      "\r",
      "SCENARIOS COMPLETE:  43%|████▎     | 52/120 [01:02<00:57,  1.18it/s]"
     ]
    },
    {
     "name": "stderr",
     "output_type": "stream",
     "text": [
      "\r",
      "SCENARIOS COMPLETE:  44%|████▍     | 53/120 [01:03<00:56,  1.18it/s]"
     ]
    },
    {
     "name": "stderr",
     "output_type": "stream",
     "text": [
      "\r",
      "SCENARIOS COMPLETE:  45%|████▌     | 54/120 [01:04<00:55,  1.18it/s]"
     ]
    },
    {
     "name": "stderr",
     "output_type": "stream",
     "text": [
      "\r",
      "SCENARIOS COMPLETE:  46%|████▌     | 55/120 [01:05<00:54,  1.20it/s]"
     ]
    },
    {
     "name": "stderr",
     "output_type": "stream",
     "text": [
      "\r",
      "SCENARIOS COMPLETE:  47%|████▋     | 56/120 [01:06<00:52,  1.21it/s]"
     ]
    },
    {
     "name": "stderr",
     "output_type": "stream",
     "text": [
      "\r",
      "SCENARIOS COMPLETE:  48%|████▊     | 57/120 [01:06<00:51,  1.21it/s]"
     ]
    },
    {
     "name": "stderr",
     "output_type": "stream",
     "text": [
      "\r",
      "SCENARIOS COMPLETE:  48%|████▊     | 58/120 [01:07<00:51,  1.21it/s]"
     ]
    },
    {
     "name": "stderr",
     "output_type": "stream",
     "text": [
      "\r",
      "SCENARIOS COMPLETE:  49%|████▉     | 59/120 [01:08<00:49,  1.22it/s]"
     ]
    },
    {
     "name": "stderr",
     "output_type": "stream",
     "text": [
      "\r",
      "SCENARIOS COMPLETE:  50%|█████     | 60/120 [01:09<00:48,  1.23it/s]"
     ]
    },
    {
     "name": "stderr",
     "output_type": "stream",
     "text": [
      "\r",
      "SCENARIOS COMPLETE:  51%|█████     | 61/120 [01:10<00:47,  1.24it/s]"
     ]
    },
    {
     "name": "stderr",
     "output_type": "stream",
     "text": [
      "\r",
      "SCENARIOS COMPLETE:  52%|█████▏    | 62/120 [01:10<00:46,  1.25it/s]"
     ]
    },
    {
     "name": "stderr",
     "output_type": "stream",
     "text": [
      "\r",
      "SCENARIOS COMPLETE:  52%|█████▎    | 63/120 [01:11<00:45,  1.25it/s]"
     ]
    },
    {
     "name": "stderr",
     "output_type": "stream",
     "text": [
      "\r",
      "SCENARIOS COMPLETE:  53%|█████▎    | 64/120 [01:12<00:45,  1.23it/s]"
     ]
    },
    {
     "name": "stderr",
     "output_type": "stream",
     "text": [
      "\r",
      "SCENARIOS COMPLETE:  54%|█████▍    | 65/120 [01:13<00:44,  1.23it/s]"
     ]
    },
    {
     "name": "stderr",
     "output_type": "stream",
     "text": [
      "\r",
      "SCENARIOS COMPLETE:  55%|█████▌    | 66/120 [01:14<00:43,  1.24it/s]"
     ]
    },
    {
     "name": "stderr",
     "output_type": "stream",
     "text": [
      "\r",
      "SCENARIOS COMPLETE:  56%|█████▌    | 67/120 [01:14<00:42,  1.24it/s]"
     ]
    },
    {
     "name": "stderr",
     "output_type": "stream",
     "text": [
      "\r",
      "SCENARIOS COMPLETE:  57%|█████▋    | 68/120 [01:15<00:42,  1.24it/s]"
     ]
    },
    {
     "name": "stderr",
     "output_type": "stream",
     "text": [
      "\r",
      "SCENARIOS COMPLETE:  57%|█████▊    | 69/120 [01:16<00:41,  1.24it/s]"
     ]
    },
    {
     "name": "stderr",
     "output_type": "stream",
     "text": [
      "\r",
      "SCENARIOS COMPLETE:  58%|█████▊    | 70/120 [01:17<00:40,  1.23it/s]"
     ]
    },
    {
     "name": "stderr",
     "output_type": "stream",
     "text": [
      "\r",
      "SCENARIOS COMPLETE:  59%|█████▉    | 71/120 [01:18<00:39,  1.24it/s]"
     ]
    },
    {
     "name": "stderr",
     "output_type": "stream",
     "text": [
      "\r",
      "SCENARIOS COMPLETE:  60%|██████    | 72/120 [01:18<00:38,  1.26it/s]"
     ]
    },
    {
     "name": "stderr",
     "output_type": "stream",
     "text": [
      "\r",
      "SCENARIOS COMPLETE:  61%|██████    | 73/120 [01:19<00:37,  1.25it/s]"
     ]
    },
    {
     "name": "stderr",
     "output_type": "stream",
     "text": [
      "\r",
      "SCENARIOS COMPLETE:  62%|██████▏   | 74/120 [01:20<00:37,  1.24it/s]"
     ]
    },
    {
     "name": "stderr",
     "output_type": "stream",
     "text": [
      "\r",
      "SCENARIOS COMPLETE:  62%|██████▎   | 75/120 [01:21<00:36,  1.23it/s]"
     ]
    },
    {
     "name": "stderr",
     "output_type": "stream",
     "text": [
      "\r",
      "SCENARIOS COMPLETE:  63%|██████▎   | 76/120 [01:22<00:35,  1.25it/s]"
     ]
    },
    {
     "name": "stderr",
     "output_type": "stream",
     "text": [
      "\r",
      "SCENARIOS COMPLETE:  64%|██████▍   | 77/120 [01:22<00:34,  1.25it/s]"
     ]
    },
    {
     "name": "stderr",
     "output_type": "stream",
     "text": [
      "\r",
      "SCENARIOS COMPLETE:  65%|██████▌   | 78/120 [01:23<00:33,  1.24it/s]"
     ]
    },
    {
     "name": "stderr",
     "output_type": "stream",
     "text": [
      "\r",
      "SCENARIOS COMPLETE:  66%|██████▌   | 79/120 [01:24<00:33,  1.24it/s]"
     ]
    },
    {
     "name": "stderr",
     "output_type": "stream",
     "text": [
      "\r",
      "SCENARIOS COMPLETE:  67%|██████▋   | 80/120 [01:25<00:32,  1.23it/s]"
     ]
    },
    {
     "name": "stderr",
     "output_type": "stream",
     "text": [
      "\r",
      "SCENARIOS COMPLETE:  68%|██████▊   | 81/120 [01:25<00:26,  1.48it/s]"
     ]
    },
    {
     "name": "stderr",
     "output_type": "stream",
     "text": [
      "\r",
      "SCENARIOS COMPLETE:  68%|██████▊   | 82/120 [01:26<00:21,  1.74it/s]"
     ]
    },
    {
     "name": "stderr",
     "output_type": "stream",
     "text": [
      "\r",
      "SCENARIOS COMPLETE:  69%|██████▉   | 83/120 [01:26<00:18,  1.96it/s]"
     ]
    },
    {
     "name": "stderr",
     "output_type": "stream",
     "text": [
      "\r",
      "SCENARIOS COMPLETE:  70%|███████   | 84/120 [01:26<00:16,  2.15it/s]"
     ]
    },
    {
     "name": "stderr",
     "output_type": "stream",
     "text": [
      "\r",
      "SCENARIOS COMPLETE:  71%|███████   | 85/120 [01:27<00:15,  2.31it/s]"
     ]
    },
    {
     "name": "stderr",
     "output_type": "stream",
     "text": [
      "\r",
      "SCENARIOS COMPLETE:  72%|███████▏  | 86/120 [01:27<00:13,  2.44it/s]"
     ]
    },
    {
     "name": "stderr",
     "output_type": "stream",
     "text": [
      "\r",
      "SCENARIOS COMPLETE:  72%|███████▎  | 87/120 [01:27<00:12,  2.54it/s]"
     ]
    },
    {
     "name": "stderr",
     "output_type": "stream",
     "text": [
      "\r",
      "SCENARIOS COMPLETE:  73%|███████▎  | 88/120 [01:28<00:12,  2.62it/s]"
     ]
    },
    {
     "name": "stderr",
     "output_type": "stream",
     "text": [
      "\r",
      "SCENARIOS COMPLETE:  74%|███████▍  | 89/120 [01:28<00:11,  2.67it/s]"
     ]
    },
    {
     "name": "stderr",
     "output_type": "stream",
     "text": [
      "\r",
      "SCENARIOS COMPLETE:  75%|███████▌  | 90/120 [01:28<00:11,  2.72it/s]"
     ]
    },
    {
     "name": "stderr",
     "output_type": "stream",
     "text": [
      "\r",
      "SCENARIOS COMPLETE:  76%|███████▌  | 91/120 [01:29<00:10,  2.73it/s]"
     ]
    },
    {
     "name": "stderr",
     "output_type": "stream",
     "text": [
      "\r",
      "SCENARIOS COMPLETE:  77%|███████▋  | 92/120 [01:29<00:10,  2.74it/s]"
     ]
    },
    {
     "name": "stderr",
     "output_type": "stream",
     "text": [
      "\r",
      "SCENARIOS COMPLETE:  78%|███████▊  | 93/120 [01:30<00:09,  2.75it/s]"
     ]
    },
    {
     "name": "stderr",
     "output_type": "stream",
     "text": [
      "\r",
      "SCENARIOS COMPLETE:  78%|███████▊  | 94/120 [01:30<00:09,  2.73it/s]"
     ]
    },
    {
     "name": "stderr",
     "output_type": "stream",
     "text": [
      "\r",
      "SCENARIOS COMPLETE:  79%|███████▉  | 95/120 [01:30<00:08,  2.79it/s]"
     ]
    },
    {
     "name": "stderr",
     "output_type": "stream",
     "text": [
      "\r",
      "SCENARIOS COMPLETE:  80%|████████  | 96/120 [01:31<00:08,  2.79it/s]"
     ]
    },
    {
     "name": "stderr",
     "output_type": "stream",
     "text": [
      "\r",
      "SCENARIOS COMPLETE:  81%|████████  | 97/120 [01:31<00:08,  2.79it/s]"
     ]
    },
    {
     "name": "stderr",
     "output_type": "stream",
     "text": [
      "\r",
      "SCENARIOS COMPLETE:  82%|████████▏ | 98/120 [01:31<00:07,  2.82it/s]"
     ]
    },
    {
     "name": "stderr",
     "output_type": "stream",
     "text": [
      "\r",
      "SCENARIOS COMPLETE:  82%|████████▎ | 99/120 [01:32<00:07,  2.81it/s]"
     ]
    },
    {
     "name": "stderr",
     "output_type": "stream",
     "text": [
      "\r",
      "SCENARIOS COMPLETE:  83%|████████▎ | 100/120 [01:32<00:07,  2.78it/s]"
     ]
    },
    {
     "name": "stderr",
     "output_type": "stream",
     "text": [
      "\r",
      "SCENARIOS COMPLETE:  84%|████████▍ | 101/120 [01:32<00:06,  2.75it/s]"
     ]
    },
    {
     "name": "stderr",
     "output_type": "stream",
     "text": [
      "\r",
      "SCENARIOS COMPLETE:  85%|████████▌ | 102/120 [01:33<00:06,  2.78it/s]"
     ]
    },
    {
     "name": "stderr",
     "output_type": "stream",
     "text": [
      "\r",
      "SCENARIOS COMPLETE:  86%|████████▌ | 103/120 [01:33<00:06,  2.79it/s]"
     ]
    },
    {
     "name": "stderr",
     "output_type": "stream",
     "text": [
      "\r",
      "SCENARIOS COMPLETE:  87%|████████▋ | 104/120 [01:33<00:05,  2.78it/s]"
     ]
    },
    {
     "name": "stderr",
     "output_type": "stream",
     "text": [
      "\r",
      "SCENARIOS COMPLETE:  88%|████████▊ | 105/120 [01:34<00:05,  2.76it/s]"
     ]
    },
    {
     "name": "stderr",
     "output_type": "stream",
     "text": [
      "\r",
      "SCENARIOS COMPLETE:  88%|████████▊ | 106/120 [01:34<00:05,  2.71it/s]"
     ]
    },
    {
     "name": "stderr",
     "output_type": "stream",
     "text": [
      "\r",
      "SCENARIOS COMPLETE:  89%|████████▉ | 107/120 [01:35<00:04,  2.66it/s]"
     ]
    },
    {
     "name": "stderr",
     "output_type": "stream",
     "text": [
      "\r",
      "SCENARIOS COMPLETE:  90%|█████████ | 108/120 [01:35<00:04,  2.65it/s]"
     ]
    },
    {
     "name": "stderr",
     "output_type": "stream",
     "text": [
      "\r",
      "SCENARIOS COMPLETE:  91%|█████████ | 109/120 [01:35<00:04,  2.64it/s]"
     ]
    },
    {
     "name": "stderr",
     "output_type": "stream",
     "text": [
      "\r",
      "SCENARIOS COMPLETE:  92%|█████████▏| 110/120 [01:36<00:03,  2.65it/s]"
     ]
    },
    {
     "name": "stderr",
     "output_type": "stream",
     "text": [
      "\r",
      "SCENARIOS COMPLETE:  92%|█████████▎| 111/120 [01:36<00:03,  2.72it/s]"
     ]
    },
    {
     "name": "stderr",
     "output_type": "stream",
     "text": [
      "\r",
      "SCENARIOS COMPLETE:  93%|█████████▎| 112/120 [01:36<00:02,  2.75it/s]"
     ]
    },
    {
     "name": "stderr",
     "output_type": "stream",
     "text": [
      "\r",
      "SCENARIOS COMPLETE:  94%|█████████▍| 113/120 [01:37<00:02,  2.74it/s]"
     ]
    },
    {
     "name": "stderr",
     "output_type": "stream",
     "text": [
      "\r",
      "SCENARIOS COMPLETE:  95%|█████████▌| 114/120 [01:37<00:02,  2.75it/s]"
     ]
    },
    {
     "name": "stderr",
     "output_type": "stream",
     "text": [
      "\r",
      "SCENARIOS COMPLETE:  96%|█████████▌| 115/120 [01:38<00:01,  2.75it/s]"
     ]
    },
    {
     "name": "stderr",
     "output_type": "stream",
     "text": [
      "\r",
      "SCENARIOS COMPLETE:  97%|█████████▋| 116/120 [01:38<00:01,  2.77it/s]"
     ]
    },
    {
     "name": "stderr",
     "output_type": "stream",
     "text": [
      "\r",
      "SCENARIOS COMPLETE:  98%|█████████▊| 117/120 [01:38<00:01,  2.80it/s]"
     ]
    },
    {
     "name": "stderr",
     "output_type": "stream",
     "text": [
      "\r",
      "SCENARIOS COMPLETE:  98%|█████████▊| 118/120 [01:39<00:00,  2.78it/s]"
     ]
    },
    {
     "name": "stderr",
     "output_type": "stream",
     "text": [
      "\r",
      "SCENARIOS COMPLETE:  99%|█████████▉| 119/120 [01:39<00:00,  2.75it/s]"
     ]
    },
    {
     "name": "stderr",
     "output_type": "stream",
     "text": [
      "\r",
      "SCENARIOS COMPLETE: 100%|██████████| 120/120 [01:39<00:00,  2.75it/s]"
     ]
    },
    {
     "name": "stderr",
     "output_type": "stream",
     "text": [
      "\r",
      "SCENARIOS COMPLETE: 100%|██████████| 120/120 [01:39<00:00,  1.20it/s]"
     ]
    },
    {
     "name": "stderr",
     "output_type": "stream",
     "text": [
      "\n"
     ]
    }
   ],
   "source": [
    "quad_app = SampleApproach(mdl_quad, faults=quad_faults)\n",
    "quad_endclasses, quad_mdlhists = fs.propagate.approach(mdl_quad, quad_app, staged=True)"
   ]
  },
  {
   "cell_type": "code",
   "execution_count": 41,
   "metadata": {
    "execution": {
     "iopub.execute_input": "2023-06-09T23:29:00.480713Z",
     "iopub.status.busy": "2023-06-09T23:29:00.480713Z",
     "iopub.status.idle": "2023-06-09T23:29:00.566149Z",
     "shell.execute_reply": "2023-06-09T23:29:00.565035Z"
    }
   },
   "outputs": [
    {
     "data": {
      "text/html": [
       "<div>\n",
       "<style scoped>\n",
       "    .dataframe tbody tr th:only-of-type {\n",
       "        vertical-align: middle;\n",
       "    }\n",
       "\n",
       "    .dataframe tbody tr th {\n",
       "        vertical-align: top;\n",
       "    }\n",
       "\n",
       "    .dataframe thead th {\n",
       "        text-align: right;\n",
       "    }\n",
       "</style>\n",
       "<table border=\"1\" class=\"dataframe\">\n",
       "  <thead>\n",
       "    <tr style=\"text-align: right;\">\n",
       "      <th></th>\n",
       "      <th>rate</th>\n",
       "      <th>cost</th>\n",
       "      <th>expected cost</th>\n",
       "    </tr>\n",
       "  </thead>\n",
       "  <tbody>\n",
       "    <tr>\n",
       "      <th>affect_dof_lr_ctlbreak_t49p0</th>\n",
       "      <td>1.666667e-07</td>\n",
       "      <td>186800.0</td>\n",
       "      <td>3113.333333</td>\n",
       "    </tr>\n",
       "    <tr>\n",
       "      <th>affect_dof_rf_ctlbreak_t49p0</th>\n",
       "      <td>1.666667e-07</td>\n",
       "      <td>186800.0</td>\n",
       "      <td>3113.333333</td>\n",
       "    </tr>\n",
       "    <tr>\n",
       "      <th>affect_dof_rr_ctlbreak_t49p0</th>\n",
       "      <td>1.666667e-07</td>\n",
       "      <td>186800.0</td>\n",
       "      <td>3113.333333</td>\n",
       "    </tr>\n",
       "    <tr>\n",
       "      <th>affect_dof_lf_ctlbreak_t49p0</th>\n",
       "      <td>1.666667e-07</td>\n",
       "      <td>186800.0</td>\n",
       "      <td>3113.333333</td>\n",
       "    </tr>\n",
       "    <tr>\n",
       "      <th>affect_dof_lf_ctlup_t49p0</th>\n",
       "      <td>1.666667e-07</td>\n",
       "      <td>186300.0</td>\n",
       "      <td>3105.000000</td>\n",
       "    </tr>\n",
       "    <tr>\n",
       "      <th>...</th>\n",
       "      <td>...</td>\n",
       "      <td>...</td>\n",
       "      <td>...</td>\n",
       "    </tr>\n",
       "    <tr>\n",
       "      <th>affect_dof_rf_propwarp_t97p0</th>\n",
       "      <td>5.555556e-10</td>\n",
       "      <td>200.0</td>\n",
       "      <td>0.011111</td>\n",
       "    </tr>\n",
       "    <tr>\n",
       "      <th>affect_dof_lf_propwarp_t97p0</th>\n",
       "      <td>5.555556e-10</td>\n",
       "      <td>200.0</td>\n",
       "      <td>0.011111</td>\n",
       "    </tr>\n",
       "    <tr>\n",
       "      <th>affect_dof_rr_propwarp_t2p0</th>\n",
       "      <td>4.629630e-10</td>\n",
       "      <td>200.0</td>\n",
       "      <td>0.009259</td>\n",
       "    </tr>\n",
       "    <tr>\n",
       "      <th>affect_dof_lr_propwarp_t2p0</th>\n",
       "      <td>4.629630e-10</td>\n",
       "      <td>200.0</td>\n",
       "      <td>0.009259</td>\n",
       "    </tr>\n",
       "    <tr>\n",
       "      <th>nominal</th>\n",
       "      <td>1.000000e+00</td>\n",
       "      <td>0.0</td>\n",
       "      <td>0.000000</td>\n",
       "    </tr>\n",
       "  </tbody>\n",
       "</table>\n",
       "<p>121 rows × 3 columns</p>\n",
       "</div>"
      ],
      "text/plain": [
       "                                      rate      cost  expected cost\n",
       "affect_dof_lr_ctlbreak_t49p0  1.666667e-07  186800.0    3113.333333\n",
       "affect_dof_rf_ctlbreak_t49p0  1.666667e-07  186800.0    3113.333333\n",
       "affect_dof_rr_ctlbreak_t49p0  1.666667e-07  186800.0    3113.333333\n",
       "affect_dof_lf_ctlbreak_t49p0  1.666667e-07  186800.0    3113.333333\n",
       "affect_dof_lf_ctlup_t49p0     1.666667e-07  186300.0    3105.000000\n",
       "...                                    ...       ...            ...\n",
       "affect_dof_rf_propwarp_t97p0  5.555556e-10     200.0       0.011111\n",
       "affect_dof_lf_propwarp_t97p0  5.555556e-10     200.0       0.011111\n",
       "affect_dof_rr_propwarp_t2p0   4.629630e-10     200.0       0.009259\n",
       "affect_dof_lr_propwarp_t2p0   4.629630e-10     200.0       0.009259\n",
       "nominal                       1.000000e+00       0.0       0.000000\n",
       "\n",
       "[121 rows x 3 columns]"
      ]
     },
     "execution_count": 41,
     "metadata": {},
     "output_type": "execute_result"
    }
   ],
   "source": [
    "quad_tab=quad_endclasses.create_simple_fmea()\n",
    "quad_tab.sort_values('expected cost', ascending=False)"
   ]
  },
  {
   "cell_type": "markdown",
   "metadata": {},
   "source": [
    "Based on this model, we can calculate some metrics that quantify how resilient the system was to the set of faults, such as the cost of resilience:"
   ]
  },
  {
   "cell_type": "code",
   "execution_count": 42,
   "metadata": {
    "execution": {
     "iopub.execute_input": "2023-06-09T23:29:00.568187Z",
     "iopub.status.busy": "2023-06-09T23:29:00.568187Z",
     "iopub.status.idle": "2023-06-09T23:29:00.581918Z",
     "shell.execute_reply": "2023-06-09T23:29:00.580916Z"
    }
   },
   "outputs": [
    {
     "data": {
      "text/plain": [
       "47341.71111111111"
      ]
     },
     "execution_count": 42,
     "metadata": {},
     "output_type": "execute_result"
    }
   ],
   "source": [
    "quad_res = sum(quad_tab['expected cost'])\n",
    "quad_res"
   ]
  },
  {
   "cell_type": "markdown",
   "metadata": {},
   "source": [
    "The overall rate of crashes:"
   ]
  },
  {
   "cell_type": "code",
   "execution_count": 43,
   "metadata": {
    "execution": {
     "iopub.execute_input": "2023-06-09T23:29:00.584909Z",
     "iopub.status.busy": "2023-06-09T23:29:00.584909Z",
     "iopub.status.idle": "2023-06-09T23:29:00.595919Z",
     "shell.execute_reply": "2023-06-09T23:29:00.595919Z"
    }
   },
   "outputs": [
    {
     "data": {
      "text/plain": [
       "2.675000000000001e-06"
      ]
     },
     "execution_count": 43,
     "metadata": {},
     "output_type": "execute_result"
    }
   ],
   "source": [
    "quad_crashes = quad_tab[quad_tab['cost']>100000]\n",
    "quad_rate = sum(quad_crashes['rate'])\n",
    "quad_rate"
   ]
  },
  {
   "cell_type": "markdown",
   "metadata": {},
   "source": [
    "The number of crashes:"
   ]
  },
  {
   "cell_type": "code",
   "execution_count": 44,
   "metadata": {
    "execution": {
     "iopub.execute_input": "2023-06-09T23:29:00.599911Z",
     "iopub.status.busy": "2023-06-09T23:29:00.598950Z",
     "iopub.status.idle": "2023-06-09T23:29:00.613033Z",
     "shell.execute_reply": "2023-06-09T23:29:00.611998Z"
    }
   },
   "outputs": [
    {
     "data": {
      "text/plain": [
       "62"
      ]
     },
     "execution_count": 44,
     "metadata": {},
     "output_type": "execute_result"
    }
   ],
   "source": [
    "quad_num_crashes = len(quad_crashes['rate'])\n",
    "quad_num_crashes"
   ]
  },
  {
   "cell_type": "markdown",
   "metadata": {},
   "source": [
    "The percentage of crashes:"
   ]
  },
  {
   "cell_type": "code",
   "execution_count": 45,
   "metadata": {
    "execution": {
     "iopub.execute_input": "2023-06-09T23:29:00.616027Z",
     "iopub.status.busy": "2023-06-09T23:29:00.615064Z",
     "iopub.status.idle": "2023-06-09T23:29:00.628229Z",
     "shell.execute_reply": "2023-06-09T23:29:00.628229Z"
    }
   },
   "outputs": [
    {
     "data": {
      "text/plain": [
       "0.512396694214876"
      ]
     },
     "execution_count": 45,
     "metadata": {},
     "output_type": "execute_result"
    }
   ],
   "source": [
    "quad_perc_crashes = len(quad_crashes['rate'])/len(quad_tab['rate'])\n",
    "quad_perc_crashes"
   ]
  },
  {
   "cell_type": "markdown",
   "metadata": {},
   "source": [
    "### Octocopter Resilience\n",
    "\n",
    "Here we quantify the expected costs of faults originiating in the octocopter architecture:"
   ]
  },
  {
   "cell_type": "code",
   "execution_count": 46,
   "metadata": {
    "execution": {
     "iopub.execute_input": "2023-06-09T23:29:00.632221Z",
     "iopub.status.busy": "2023-06-09T23:29:00.631258Z",
     "iopub.status.idle": "2023-06-09T23:29:00.660164Z",
     "shell.execute_reply": "2023-06-09T23:29:00.660164Z"
    }
   },
   "outputs": [],
   "source": [
    "mdl_oct = Drone_Hierarchical(p={'arch':'oct'})\n",
    "mdl_oct.fxns['affect_dof'].m.faultmodes\n",
    "oct_faults = [('affect_dof', fault) for fault in list(mdl_oct.fxns['affect_dof'].m.faultmodes.keys())]"
   ]
  },
  {
   "cell_type": "code",
   "execution_count": 47,
   "metadata": {
    "execution": {
     "iopub.execute_input": "2023-06-09T23:29:00.664156Z",
     "iopub.status.busy": "2023-06-09T23:29:00.663193Z",
     "iopub.status.idle": "2023-06-09T23:32:38.346993Z",
     "shell.execute_reply": "2023-06-09T23:32:38.345983Z"
    }
   },
   "outputs": [
    {
     "name": "stderr",
     "output_type": "stream",
     "text": [
      "\r",
      "SCENARIOS COMPLETE:   0%|          | 0/240 [00:00<?, ?it/s]"
     ]
    },
    {
     "name": "stderr",
     "output_type": "stream",
     "text": [
      "\r",
      "SCENARIOS COMPLETE:   0%|          | 1/240 [00:01<05:18,  1.33s/it]"
     ]
    },
    {
     "name": "stderr",
     "output_type": "stream",
     "text": [
      "\r",
      "SCENARIOS COMPLETE:   1%|          | 2/240 [00:02<05:34,  1.41s/it]"
     ]
    },
    {
     "name": "stderr",
     "output_type": "stream",
     "text": [
      "\r",
      "SCENARIOS COMPLETE:   1%|▏         | 3/240 [00:04<05:33,  1.41s/it]"
     ]
    },
    {
     "name": "stderr",
     "output_type": "stream",
     "text": [
      "\r",
      "SCENARIOS COMPLETE:   2%|▏         | 4/240 [00:05<05:30,  1.40s/it]"
     ]
    },
    {
     "name": "stderr",
     "output_type": "stream",
     "text": [
      "\r",
      "SCENARIOS COMPLETE:   2%|▏         | 5/240 [00:07<05:31,  1.41s/it]"
     ]
    },
    {
     "name": "stderr",
     "output_type": "stream",
     "text": [
      "\r",
      "SCENARIOS COMPLETE:   2%|▎         | 6/240 [00:08<05:30,  1.41s/it]"
     ]
    },
    {
     "name": "stderr",
     "output_type": "stream",
     "text": [
      "\r",
      "SCENARIOS COMPLETE:   3%|▎         | 7/240 [00:09<05:25,  1.40s/it]"
     ]
    },
    {
     "name": "stderr",
     "output_type": "stream",
     "text": [
      "\r",
      "SCENARIOS COMPLETE:   3%|▎         | 8/240 [00:11<05:20,  1.38s/it]"
     ]
    },
    {
     "name": "stderr",
     "output_type": "stream",
     "text": [
      "\r",
      "SCENARIOS COMPLETE:   4%|▍         | 9/240 [00:12<05:21,  1.39s/it]"
     ]
    },
    {
     "name": "stderr",
     "output_type": "stream",
     "text": [
      "\r",
      "SCENARIOS COMPLETE:   4%|▍         | 10/240 [00:13<05:20,  1.39s/it]"
     ]
    },
    {
     "name": "stderr",
     "output_type": "stream",
     "text": [
      "\r",
      "SCENARIOS COMPLETE:   5%|▍         | 11/240 [00:15<05:11,  1.36s/it]"
     ]
    },
    {
     "name": "stderr",
     "output_type": "stream",
     "text": [
      "\r",
      "SCENARIOS COMPLETE:   5%|▌         | 12/240 [00:16<05:13,  1.38s/it]"
     ]
    },
    {
     "name": "stderr",
     "output_type": "stream",
     "text": [
      "\r",
      "SCENARIOS COMPLETE:   5%|▌         | 13/240 [00:18<05:10,  1.37s/it]"
     ]
    },
    {
     "name": "stderr",
     "output_type": "stream",
     "text": [
      "\r",
      "SCENARIOS COMPLETE:   6%|▌         | 14/240 [00:19<05:12,  1.38s/it]"
     ]
    },
    {
     "name": "stderr",
     "output_type": "stream",
     "text": [
      "\r",
      "SCENARIOS COMPLETE:   6%|▋         | 15/240 [00:20<05:16,  1.41s/it]"
     ]
    },
    {
     "name": "stderr",
     "output_type": "stream",
     "text": [
      "\r",
      "SCENARIOS COMPLETE:   7%|▋         | 16/240 [00:22<05:15,  1.41s/it]"
     ]
    },
    {
     "name": "stderr",
     "output_type": "stream",
     "text": [
      "\r",
      "SCENARIOS COMPLETE:   7%|▋         | 17/240 [00:23<05:13,  1.41s/it]"
     ]
    },
    {
     "name": "stderr",
     "output_type": "stream",
     "text": [
      "\r",
      "SCENARIOS COMPLETE:   8%|▊         | 18/240 [00:25<05:11,  1.40s/it]"
     ]
    },
    {
     "name": "stderr",
     "output_type": "stream",
     "text": [
      "\r",
      "SCENARIOS COMPLETE:   8%|▊         | 19/240 [00:26<05:12,  1.42s/it]"
     ]
    },
    {
     "name": "stderr",
     "output_type": "stream",
     "text": [
      "\r",
      "SCENARIOS COMPLETE:   8%|▊         | 20/240 [00:27<05:14,  1.43s/it]"
     ]
    },
    {
     "name": "stderr",
     "output_type": "stream",
     "text": [
      "\r",
      "SCENARIOS COMPLETE:   9%|▉         | 21/240 [00:29<05:03,  1.38s/it]"
     ]
    },
    {
     "name": "stderr",
     "output_type": "stream",
     "text": [
      "\r",
      "SCENARIOS COMPLETE:   9%|▉         | 22/240 [00:30<05:03,  1.39s/it]"
     ]
    },
    {
     "name": "stderr",
     "output_type": "stream",
     "text": [
      "\r",
      "SCENARIOS COMPLETE:  10%|▉         | 23/240 [00:32<04:58,  1.38s/it]"
     ]
    },
    {
     "name": "stderr",
     "output_type": "stream",
     "text": [
      "\r",
      "SCENARIOS COMPLETE:  10%|█         | 24/240 [00:33<04:58,  1.38s/it]"
     ]
    },
    {
     "name": "stderr",
     "output_type": "stream",
     "text": [
      "\r",
      "SCENARIOS COMPLETE:  10%|█         | 25/240 [00:34<04:57,  1.39s/it]"
     ]
    },
    {
     "name": "stderr",
     "output_type": "stream",
     "text": [
      "\r",
      "SCENARIOS COMPLETE:  11%|█         | 26/240 [00:36<04:59,  1.40s/it]"
     ]
    },
    {
     "name": "stderr",
     "output_type": "stream",
     "text": [
      "\r",
      "SCENARIOS COMPLETE:  11%|█▏        | 27/240 [00:37<04:55,  1.39s/it]"
     ]
    },
    {
     "name": "stderr",
     "output_type": "stream",
     "text": [
      "\r",
      "SCENARIOS COMPLETE:  12%|█▏        | 28/240 [00:38<04:52,  1.38s/it]"
     ]
    },
    {
     "name": "stderr",
     "output_type": "stream",
     "text": [
      "\r",
      "SCENARIOS COMPLETE:  12%|█▏        | 29/240 [00:40<04:50,  1.38s/it]"
     ]
    },
    {
     "name": "stderr",
     "output_type": "stream",
     "text": [
      "\r",
      "SCENARIOS COMPLETE:  12%|█▎        | 30/240 [00:41<04:49,  1.38s/it]"
     ]
    },
    {
     "name": "stderr",
     "output_type": "stream",
     "text": [
      "\r",
      "SCENARIOS COMPLETE:  13%|█▎        | 31/240 [00:43<04:43,  1.35s/it]"
     ]
    },
    {
     "name": "stderr",
     "output_type": "stream",
     "text": [
      "\r",
      "SCENARIOS COMPLETE:  13%|█▎        | 32/240 [00:44<04:45,  1.37s/it]"
     ]
    },
    {
     "name": "stderr",
     "output_type": "stream",
     "text": [
      "\r",
      "SCENARIOS COMPLETE:  14%|█▍        | 33/240 [00:45<04:42,  1.37s/it]"
     ]
    },
    {
     "name": "stderr",
     "output_type": "stream",
     "text": [
      "\r",
      "SCENARIOS COMPLETE:  14%|█▍        | 34/240 [00:47<04:41,  1.37s/it]"
     ]
    },
    {
     "name": "stderr",
     "output_type": "stream",
     "text": [
      "\r",
      "SCENARIOS COMPLETE:  15%|█▍        | 35/240 [00:48<04:45,  1.39s/it]"
     ]
    },
    {
     "name": "stderr",
     "output_type": "stream",
     "text": [
      "\r",
      "SCENARIOS COMPLETE:  15%|█▌        | 36/240 [00:49<04:41,  1.38s/it]"
     ]
    },
    {
     "name": "stderr",
     "output_type": "stream",
     "text": [
      "\r",
      "SCENARIOS COMPLETE:  15%|█▌        | 37/240 [00:51<04:42,  1.39s/it]"
     ]
    },
    {
     "name": "stderr",
     "output_type": "stream",
     "text": [
      "\r",
      "SCENARIOS COMPLETE:  16%|█▌        | 38/240 [00:52<04:42,  1.40s/it]"
     ]
    },
    {
     "name": "stderr",
     "output_type": "stream",
     "text": [
      "\r",
      "SCENARIOS COMPLETE:  16%|█▋        | 39/240 [00:54<04:46,  1.43s/it]"
     ]
    },
    {
     "name": "stderr",
     "output_type": "stream",
     "text": [
      "\r",
      "SCENARIOS COMPLETE:  17%|█▋        | 40/240 [00:55<04:47,  1.44s/it]"
     ]
    },
    {
     "name": "stderr",
     "output_type": "stream",
     "text": [
      "\r",
      "SCENARIOS COMPLETE:  17%|█▋        | 41/240 [00:57<04:39,  1.40s/it]"
     ]
    },
    {
     "name": "stderr",
     "output_type": "stream",
     "text": [
      "\r",
      "SCENARIOS COMPLETE:  18%|█▊        | 42/240 [00:58<04:33,  1.38s/it]"
     ]
    },
    {
     "name": "stderr",
     "output_type": "stream",
     "text": [
      "\r",
      "SCENARIOS COMPLETE:  18%|█▊        | 43/240 [00:59<04:30,  1.37s/it]"
     ]
    },
    {
     "name": "stderr",
     "output_type": "stream",
     "text": [
      "\r",
      "SCENARIOS COMPLETE:  18%|█▊        | 44/240 [01:01<04:28,  1.37s/it]"
     ]
    },
    {
     "name": "stderr",
     "output_type": "stream",
     "text": [
      "\r",
      "SCENARIOS COMPLETE:  19%|█▉        | 45/240 [01:02<04:25,  1.36s/it]"
     ]
    },
    {
     "name": "stderr",
     "output_type": "stream",
     "text": [
      "\r",
      "SCENARIOS COMPLETE:  19%|█▉        | 46/240 [01:03<04:26,  1.37s/it]"
     ]
    },
    {
     "name": "stderr",
     "output_type": "stream",
     "text": [
      "\r",
      "SCENARIOS COMPLETE:  20%|█▉        | 47/240 [01:05<04:25,  1.38s/it]"
     ]
    },
    {
     "name": "stderr",
     "output_type": "stream",
     "text": [
      "\r",
      "SCENARIOS COMPLETE:  20%|██        | 48/240 [01:06<04:25,  1.38s/it]"
     ]
    },
    {
     "name": "stderr",
     "output_type": "stream",
     "text": [
      "\r",
      "SCENARIOS COMPLETE:  20%|██        | 49/240 [01:08<04:24,  1.38s/it]"
     ]
    },
    {
     "name": "stderr",
     "output_type": "stream",
     "text": [
      "\r",
      "SCENARIOS COMPLETE:  21%|██        | 50/240 [01:09<04:21,  1.38s/it]"
     ]
    },
    {
     "name": "stderr",
     "output_type": "stream",
     "text": [
      "\r",
      "SCENARIOS COMPLETE:  21%|██▏       | 51/240 [01:10<04:14,  1.35s/it]"
     ]
    },
    {
     "name": "stderr",
     "output_type": "stream",
     "text": [
      "\r",
      "SCENARIOS COMPLETE:  22%|██▏       | 52/240 [01:12<04:14,  1.35s/it]"
     ]
    },
    {
     "name": "stderr",
     "output_type": "stream",
     "text": [
      "\r",
      "SCENARIOS COMPLETE:  22%|██▏       | 53/240 [01:13<04:13,  1.36s/it]"
     ]
    },
    {
     "name": "stderr",
     "output_type": "stream",
     "text": [
      "\r",
      "SCENARIOS COMPLETE:  22%|██▎       | 54/240 [01:14<04:12,  1.36s/it]"
     ]
    },
    {
     "name": "stderr",
     "output_type": "stream",
     "text": [
      "\r",
      "SCENARIOS COMPLETE:  23%|██▎       | 55/240 [01:16<04:09,  1.35s/it]"
     ]
    },
    {
     "name": "stderr",
     "output_type": "stream",
     "text": [
      "\r",
      "SCENARIOS COMPLETE:  23%|██▎       | 56/240 [01:17<04:09,  1.36s/it]"
     ]
    },
    {
     "name": "stderr",
     "output_type": "stream",
     "text": [
      "\r",
      "SCENARIOS COMPLETE:  24%|██▍       | 57/240 [01:18<04:08,  1.36s/it]"
     ]
    },
    {
     "name": "stderr",
     "output_type": "stream",
     "text": [
      "\r",
      "SCENARIOS COMPLETE:  24%|██▍       | 58/240 [01:20<04:06,  1.36s/it]"
     ]
    },
    {
     "name": "stderr",
     "output_type": "stream",
     "text": [
      "\r",
      "SCENARIOS COMPLETE:  25%|██▍       | 59/240 [01:21<04:05,  1.36s/it]"
     ]
    },
    {
     "name": "stderr",
     "output_type": "stream",
     "text": [
      "\r",
      "SCENARIOS COMPLETE:  25%|██▌       | 60/240 [01:22<04:03,  1.35s/it]"
     ]
    },
    {
     "name": "stderr",
     "output_type": "stream",
     "text": [
      "\r",
      "SCENARIOS COMPLETE:  25%|██▌       | 61/240 [01:24<04:00,  1.34s/it]"
     ]
    },
    {
     "name": "stderr",
     "output_type": "stream",
     "text": [
      "\r",
      "SCENARIOS COMPLETE:  26%|██▌       | 62/240 [01:25<04:00,  1.35s/it]"
     ]
    },
    {
     "name": "stderr",
     "output_type": "stream",
     "text": [
      "\r",
      "SCENARIOS COMPLETE:  26%|██▋       | 63/240 [01:26<03:59,  1.36s/it]"
     ]
    },
    {
     "name": "stderr",
     "output_type": "stream",
     "text": [
      "\r",
      "SCENARIOS COMPLETE:  27%|██▋       | 64/240 [01:28<03:57,  1.35s/it]"
     ]
    },
    {
     "name": "stderr",
     "output_type": "stream",
     "text": [
      "\r",
      "SCENARIOS COMPLETE:  27%|██▋       | 65/240 [01:29<03:55,  1.35s/it]"
     ]
    },
    {
     "name": "stderr",
     "output_type": "stream",
     "text": [
      "\r",
      "SCENARIOS COMPLETE:  28%|██▊       | 66/240 [01:31<03:56,  1.36s/it]"
     ]
    },
    {
     "name": "stderr",
     "output_type": "stream",
     "text": [
      "\r",
      "SCENARIOS COMPLETE:  28%|██▊       | 67/240 [01:32<03:57,  1.37s/it]"
     ]
    },
    {
     "name": "stderr",
     "output_type": "stream",
     "text": [
      "\r",
      "SCENARIOS COMPLETE:  28%|██▊       | 68/240 [01:33<03:54,  1.36s/it]"
     ]
    },
    {
     "name": "stderr",
     "output_type": "stream",
     "text": [
      "\r",
      "SCENARIOS COMPLETE:  29%|██▉       | 69/240 [01:35<03:53,  1.36s/it]"
     ]
    },
    {
     "name": "stderr",
     "output_type": "stream",
     "text": [
      "\r",
      "SCENARIOS COMPLETE:  29%|██▉       | 70/240 [01:36<03:51,  1.36s/it]"
     ]
    },
    {
     "name": "stderr",
     "output_type": "stream",
     "text": [
      "\r",
      "SCENARIOS COMPLETE:  30%|██▉       | 71/240 [01:37<03:44,  1.33s/it]"
     ]
    },
    {
     "name": "stderr",
     "output_type": "stream",
     "text": [
      "\r",
      "SCENARIOS COMPLETE:  30%|███       | 72/240 [01:39<03:45,  1.34s/it]"
     ]
    },
    {
     "name": "stderr",
     "output_type": "stream",
     "text": [
      "\r",
      "SCENARIOS COMPLETE:  30%|███       | 73/240 [01:40<03:44,  1.34s/it]"
     ]
    },
    {
     "name": "stderr",
     "output_type": "stream",
     "text": [
      "\r",
      "SCENARIOS COMPLETE:  31%|███       | 74/240 [01:41<03:42,  1.34s/it]"
     ]
    },
    {
     "name": "stderr",
     "output_type": "stream",
     "text": [
      "\r",
      "SCENARIOS COMPLETE:  31%|███▏      | 75/240 [01:43<03:40,  1.34s/it]"
     ]
    },
    {
     "name": "stderr",
     "output_type": "stream",
     "text": [
      "\r",
      "SCENARIOS COMPLETE:  32%|███▏      | 76/240 [01:44<03:38,  1.33s/it]"
     ]
    },
    {
     "name": "stderr",
     "output_type": "stream",
     "text": [
      "\r",
      "SCENARIOS COMPLETE:  32%|███▏      | 77/240 [01:45<03:37,  1.34s/it]"
     ]
    },
    {
     "name": "stderr",
     "output_type": "stream",
     "text": [
      "\r",
      "SCENARIOS COMPLETE:  32%|███▎      | 78/240 [01:47<03:36,  1.34s/it]"
     ]
    },
    {
     "name": "stderr",
     "output_type": "stream",
     "text": [
      "\r",
      "SCENARIOS COMPLETE:  33%|███▎      | 79/240 [01:48<03:36,  1.34s/it]"
     ]
    },
    {
     "name": "stderr",
     "output_type": "stream",
     "text": [
      "\r",
      "SCENARIOS COMPLETE:  33%|███▎      | 80/240 [01:49<03:36,  1.35s/it]"
     ]
    },
    {
     "name": "stderr",
     "output_type": "stream",
     "text": [
      "\r",
      "SCENARIOS COMPLETE:  34%|███▍      | 81/240 [01:50<03:11,  1.20s/it]"
     ]
    },
    {
     "name": "stderr",
     "output_type": "stream",
     "text": [
      "\r",
      "SCENARIOS COMPLETE:  34%|███▍      | 82/240 [01:51<02:56,  1.11s/it]"
     ]
    },
    {
     "name": "stderr",
     "output_type": "stream",
     "text": [
      "\r",
      "SCENARIOS COMPLETE:  35%|███▍      | 83/240 [01:52<02:44,  1.05s/it]"
     ]
    },
    {
     "name": "stderr",
     "output_type": "stream",
     "text": [
      "\r",
      "SCENARIOS COMPLETE:  35%|███▌      | 84/240 [01:53<02:38,  1.02s/it]"
     ]
    },
    {
     "name": "stderr",
     "output_type": "stream",
     "text": [
      "\r",
      "SCENARIOS COMPLETE:  35%|███▌      | 85/240 [01:54<02:34,  1.00it/s]"
     ]
    },
    {
     "name": "stderr",
     "output_type": "stream",
     "text": [
      "\r",
      "SCENARIOS COMPLETE:  36%|███▌      | 86/240 [01:55<02:28,  1.04it/s]"
     ]
    },
    {
     "name": "stderr",
     "output_type": "stream",
     "text": [
      "\r",
      "SCENARIOS COMPLETE:  36%|███▋      | 87/240 [01:56<02:23,  1.06it/s]"
     ]
    },
    {
     "name": "stderr",
     "output_type": "stream",
     "text": [
      "\r",
      "SCENARIOS COMPLETE:  37%|███▋      | 88/240 [01:57<02:19,  1.09it/s]"
     ]
    },
    {
     "name": "stderr",
     "output_type": "stream",
     "text": [
      "\r",
      "SCENARIOS COMPLETE:  37%|███▋      | 89/240 [01:57<02:17,  1.10it/s]"
     ]
    },
    {
     "name": "stderr",
     "output_type": "stream",
     "text": [
      "\r",
      "SCENARIOS COMPLETE:  38%|███▊      | 90/240 [01:58<02:16,  1.10it/s]"
     ]
    },
    {
     "name": "stderr",
     "output_type": "stream",
     "text": [
      "\r",
      "SCENARIOS COMPLETE:  38%|███▊      | 91/240 [01:59<02:12,  1.12it/s]"
     ]
    },
    {
     "name": "stderr",
     "output_type": "stream",
     "text": [
      "\r",
      "SCENARIOS COMPLETE:  38%|███▊      | 92/240 [02:00<02:12,  1.11it/s]"
     ]
    },
    {
     "name": "stderr",
     "output_type": "stream",
     "text": [
      "\r",
      "SCENARIOS COMPLETE:  39%|███▉      | 93/240 [02:01<02:11,  1.11it/s]"
     ]
    },
    {
     "name": "stderr",
     "output_type": "stream",
     "text": [
      "\r",
      "SCENARIOS COMPLETE:  39%|███▉      | 94/240 [02:02<02:10,  1.12it/s]"
     ]
    },
    {
     "name": "stderr",
     "output_type": "stream",
     "text": [
      "\r",
      "SCENARIOS COMPLETE:  40%|███▉      | 95/240 [02:03<02:11,  1.10it/s]"
     ]
    },
    {
     "name": "stderr",
     "output_type": "stream",
     "text": [
      "\r",
      "SCENARIOS COMPLETE:  40%|████      | 96/240 [02:04<02:12,  1.09it/s]"
     ]
    },
    {
     "name": "stderr",
     "output_type": "stream",
     "text": [
      "\r",
      "SCENARIOS COMPLETE:  40%|████      | 97/240 [02:05<02:09,  1.11it/s]"
     ]
    },
    {
     "name": "stderr",
     "output_type": "stream",
     "text": [
      "\r",
      "SCENARIOS COMPLETE:  41%|████      | 98/240 [02:06<02:08,  1.11it/s]"
     ]
    },
    {
     "name": "stderr",
     "output_type": "stream",
     "text": [
      "\r",
      "SCENARIOS COMPLETE:  41%|████▏     | 99/240 [02:06<02:07,  1.11it/s]"
     ]
    },
    {
     "name": "stderr",
     "output_type": "stream",
     "text": [
      "\r",
      "SCENARIOS COMPLETE:  42%|████▏     | 100/240 [02:07<02:07,  1.10it/s]"
     ]
    },
    {
     "name": "stderr",
     "output_type": "stream",
     "text": [
      "\r",
      "SCENARIOS COMPLETE:  42%|████▏     | 101/240 [02:08<02:04,  1.11it/s]"
     ]
    },
    {
     "name": "stderr",
     "output_type": "stream",
     "text": [
      "\r",
      "SCENARIOS COMPLETE:  42%|████▎     | 102/240 [02:09<02:03,  1.11it/s]"
     ]
    },
    {
     "name": "stderr",
     "output_type": "stream",
     "text": [
      "\r",
      "SCENARIOS COMPLETE:  43%|████▎     | 103/240 [02:10<02:02,  1.12it/s]"
     ]
    },
    {
     "name": "stderr",
     "output_type": "stream",
     "text": [
      "\r",
      "SCENARIOS COMPLETE:  43%|████▎     | 104/240 [02:11<02:01,  1.12it/s]"
     ]
    },
    {
     "name": "stderr",
     "output_type": "stream",
     "text": [
      "\r",
      "SCENARIOS COMPLETE:  44%|████▍     | 105/240 [02:12<02:00,  1.12it/s]"
     ]
    },
    {
     "name": "stderr",
     "output_type": "stream",
     "text": [
      "\r",
      "SCENARIOS COMPLETE:  44%|████▍     | 106/240 [02:13<01:58,  1.13it/s]"
     ]
    },
    {
     "name": "stderr",
     "output_type": "stream",
     "text": [
      "\r",
      "SCENARIOS COMPLETE:  45%|████▍     | 107/240 [02:14<01:57,  1.13it/s]"
     ]
    },
    {
     "name": "stderr",
     "output_type": "stream",
     "text": [
      "\r",
      "SCENARIOS COMPLETE:  45%|████▌     | 108/240 [02:14<01:56,  1.13it/s]"
     ]
    },
    {
     "name": "stderr",
     "output_type": "stream",
     "text": [
      "\r",
      "SCENARIOS COMPLETE:  45%|████▌     | 109/240 [02:15<01:55,  1.14it/s]"
     ]
    },
    {
     "name": "stderr",
     "output_type": "stream",
     "text": [
      "\r",
      "SCENARIOS COMPLETE:  46%|████▌     | 110/240 [02:16<01:55,  1.12it/s]"
     ]
    },
    {
     "name": "stderr",
     "output_type": "stream",
     "text": [
      "\r",
      "SCENARIOS COMPLETE:  46%|████▋     | 111/240 [02:17<01:53,  1.14it/s]"
     ]
    },
    {
     "name": "stderr",
     "output_type": "stream",
     "text": [
      "\r",
      "SCENARIOS COMPLETE:  47%|████▋     | 112/240 [02:18<01:52,  1.14it/s]"
     ]
    },
    {
     "name": "stderr",
     "output_type": "stream",
     "text": [
      "\r",
      "SCENARIOS COMPLETE:  47%|████▋     | 113/240 [02:19<01:50,  1.15it/s]"
     ]
    },
    {
     "name": "stderr",
     "output_type": "stream",
     "text": [
      "\r",
      "SCENARIOS COMPLETE:  48%|████▊     | 114/240 [02:20<01:50,  1.15it/s]"
     ]
    },
    {
     "name": "stderr",
     "output_type": "stream",
     "text": [
      "\r",
      "SCENARIOS COMPLETE:  48%|████▊     | 115/240 [02:21<01:50,  1.13it/s]"
     ]
    },
    {
     "name": "stderr",
     "output_type": "stream",
     "text": [
      "\r",
      "SCENARIOS COMPLETE:  48%|████▊     | 116/240 [02:21<01:49,  1.13it/s]"
     ]
    },
    {
     "name": "stderr",
     "output_type": "stream",
     "text": [
      "\r",
      "SCENARIOS COMPLETE:  49%|████▉     | 117/240 [02:22<01:48,  1.13it/s]"
     ]
    },
    {
     "name": "stderr",
     "output_type": "stream",
     "text": [
      "\r",
      "SCENARIOS COMPLETE:  49%|████▉     | 118/240 [02:23<01:47,  1.14it/s]"
     ]
    },
    {
     "name": "stderr",
     "output_type": "stream",
     "text": [
      "\r",
      "SCENARIOS COMPLETE:  50%|████▉     | 119/240 [02:24<01:46,  1.13it/s]"
     ]
    },
    {
     "name": "stderr",
     "output_type": "stream",
     "text": [
      "\r",
      "SCENARIOS COMPLETE:  50%|█████     | 120/240 [02:25<01:46,  1.13it/s]"
     ]
    },
    {
     "name": "stderr",
     "output_type": "stream",
     "text": [
      "\r",
      "SCENARIOS COMPLETE:  50%|█████     | 121/240 [02:26<01:43,  1.14it/s]"
     ]
    },
    {
     "name": "stderr",
     "output_type": "stream",
     "text": [
      "\r",
      "SCENARIOS COMPLETE:  51%|█████     | 122/240 [02:27<01:44,  1.13it/s]"
     ]
    },
    {
     "name": "stderr",
     "output_type": "stream",
     "text": [
      "\r",
      "SCENARIOS COMPLETE:  51%|█████▏    | 123/240 [02:28<01:42,  1.14it/s]"
     ]
    },
    {
     "name": "stderr",
     "output_type": "stream",
     "text": [
      "\r",
      "SCENARIOS COMPLETE:  52%|█████▏    | 124/240 [02:28<01:41,  1.14it/s]"
     ]
    },
    {
     "name": "stderr",
     "output_type": "stream",
     "text": [
      "\r",
      "SCENARIOS COMPLETE:  52%|█████▏    | 125/240 [02:29<01:41,  1.13it/s]"
     ]
    },
    {
     "name": "stderr",
     "output_type": "stream",
     "text": [
      "\r",
      "SCENARIOS COMPLETE:  52%|█████▎    | 126/240 [02:30<01:40,  1.13it/s]"
     ]
    },
    {
     "name": "stderr",
     "output_type": "stream",
     "text": [
      "\r",
      "SCENARIOS COMPLETE:  53%|█████▎    | 127/240 [02:31<01:39,  1.13it/s]"
     ]
    },
    {
     "name": "stderr",
     "output_type": "stream",
     "text": [
      "\r",
      "SCENARIOS COMPLETE:  53%|█████▎    | 128/240 [02:32<01:38,  1.14it/s]"
     ]
    },
    {
     "name": "stderr",
     "output_type": "stream",
     "text": [
      "\r",
      "SCENARIOS COMPLETE:  54%|█████▍    | 129/240 [02:33<01:38,  1.13it/s]"
     ]
    },
    {
     "name": "stderr",
     "output_type": "stream",
     "text": [
      "\r",
      "SCENARIOS COMPLETE:  54%|█████▍    | 130/240 [02:34<01:38,  1.12it/s]"
     ]
    },
    {
     "name": "stderr",
     "output_type": "stream",
     "text": [
      "\r",
      "SCENARIOS COMPLETE:  55%|█████▍    | 131/240 [02:35<01:34,  1.15it/s]"
     ]
    },
    {
     "name": "stderr",
     "output_type": "stream",
     "text": [
      "\r",
      "SCENARIOS COMPLETE:  55%|█████▌    | 132/240 [02:36<01:34,  1.14it/s]"
     ]
    },
    {
     "name": "stderr",
     "output_type": "stream",
     "text": [
      "\r",
      "SCENARIOS COMPLETE:  55%|█████▌    | 133/240 [02:36<01:34,  1.14it/s]"
     ]
    },
    {
     "name": "stderr",
     "output_type": "stream",
     "text": [
      "\r",
      "SCENARIOS COMPLETE:  56%|█████▌    | 134/240 [02:37<01:32,  1.15it/s]"
     ]
    },
    {
     "name": "stderr",
     "output_type": "stream",
     "text": [
      "\r",
      "SCENARIOS COMPLETE:  56%|█████▋    | 135/240 [02:38<01:31,  1.15it/s]"
     ]
    },
    {
     "name": "stderr",
     "output_type": "stream",
     "text": [
      "\r",
      "SCENARIOS COMPLETE:  57%|█████▋    | 136/240 [02:39<01:31,  1.14it/s]"
     ]
    },
    {
     "name": "stderr",
     "output_type": "stream",
     "text": [
      "\r",
      "SCENARIOS COMPLETE:  57%|█████▋    | 137/240 [02:40<01:29,  1.15it/s]"
     ]
    },
    {
     "name": "stderr",
     "output_type": "stream",
     "text": [
      "\r",
      "SCENARIOS COMPLETE:  57%|█████▊    | 138/240 [02:41<01:30,  1.13it/s]"
     ]
    },
    {
     "name": "stderr",
     "output_type": "stream",
     "text": [
      "\r",
      "SCENARIOS COMPLETE:  58%|█████▊    | 139/240 [02:42<01:29,  1.13it/s]"
     ]
    },
    {
     "name": "stderr",
     "output_type": "stream",
     "text": [
      "\r",
      "SCENARIOS COMPLETE:  58%|█████▊    | 140/240 [02:43<01:29,  1.12it/s]"
     ]
    },
    {
     "name": "stderr",
     "output_type": "stream",
     "text": [
      "\r",
      "SCENARIOS COMPLETE:  59%|█████▉    | 141/240 [02:43<01:27,  1.14it/s]"
     ]
    },
    {
     "name": "stderr",
     "output_type": "stream",
     "text": [
      "\r",
      "SCENARIOS COMPLETE:  59%|█████▉    | 142/240 [02:44<01:26,  1.13it/s]"
     ]
    },
    {
     "name": "stderr",
     "output_type": "stream",
     "text": [
      "\r",
      "SCENARIOS COMPLETE:  60%|█████▉    | 143/240 [02:45<01:26,  1.13it/s]"
     ]
    },
    {
     "name": "stderr",
     "output_type": "stream",
     "text": [
      "\r",
      "SCENARIOS COMPLETE:  60%|██████    | 144/240 [02:46<01:25,  1.12it/s]"
     ]
    },
    {
     "name": "stderr",
     "output_type": "stream",
     "text": [
      "\r",
      "SCENARIOS COMPLETE:  60%|██████    | 145/240 [02:47<01:25,  1.11it/s]"
     ]
    },
    {
     "name": "stderr",
     "output_type": "stream",
     "text": [
      "\r",
      "SCENARIOS COMPLETE:  61%|██████    | 146/240 [02:48<01:24,  1.11it/s]"
     ]
    },
    {
     "name": "stderr",
     "output_type": "stream",
     "text": [
      "\r",
      "SCENARIOS COMPLETE:  61%|██████▏   | 147/240 [02:49<01:22,  1.12it/s]"
     ]
    },
    {
     "name": "stderr",
     "output_type": "stream",
     "text": [
      "\r",
      "SCENARIOS COMPLETE:  62%|██████▏   | 148/240 [02:50<01:21,  1.13it/s]"
     ]
    },
    {
     "name": "stderr",
     "output_type": "stream",
     "text": [
      "\r",
      "SCENARIOS COMPLETE:  62%|██████▏   | 149/240 [02:51<01:20,  1.13it/s]"
     ]
    },
    {
     "name": "stderr",
     "output_type": "stream",
     "text": [
      "\r",
      "SCENARIOS COMPLETE:  62%|██████▎   | 150/240 [02:52<01:20,  1.12it/s]"
     ]
    },
    {
     "name": "stderr",
     "output_type": "stream",
     "text": [
      "\r",
      "SCENARIOS COMPLETE:  63%|██████▎   | 151/240 [02:52<01:17,  1.15it/s]"
     ]
    },
    {
     "name": "stderr",
     "output_type": "stream",
     "text": [
      "\r",
      "SCENARIOS COMPLETE:  63%|██████▎   | 152/240 [02:53<01:18,  1.12it/s]"
     ]
    },
    {
     "name": "stderr",
     "output_type": "stream",
     "text": [
      "\r",
      "SCENARIOS COMPLETE:  64%|██████▍   | 153/240 [02:54<01:19,  1.10it/s]"
     ]
    },
    {
     "name": "stderr",
     "output_type": "stream",
     "text": [
      "\r",
      "SCENARIOS COMPLETE:  64%|██████▍   | 154/240 [02:55<01:17,  1.11it/s]"
     ]
    },
    {
     "name": "stderr",
     "output_type": "stream",
     "text": [
      "\r",
      "SCENARIOS COMPLETE:  65%|██████▍   | 155/240 [02:56<01:16,  1.11it/s]"
     ]
    },
    {
     "name": "stderr",
     "output_type": "stream",
     "text": [
      "\r",
      "SCENARIOS COMPLETE:  65%|██████▌   | 156/240 [02:57<01:15,  1.11it/s]"
     ]
    },
    {
     "name": "stderr",
     "output_type": "stream",
     "text": [
      "\r",
      "SCENARIOS COMPLETE:  65%|██████▌   | 157/240 [02:58<01:14,  1.12it/s]"
     ]
    },
    {
     "name": "stderr",
     "output_type": "stream",
     "text": [
      "\r",
      "SCENARIOS COMPLETE:  66%|██████▌   | 158/240 [02:59<01:12,  1.12it/s]"
     ]
    },
    {
     "name": "stderr",
     "output_type": "stream",
     "text": [
      "\r",
      "SCENARIOS COMPLETE:  66%|██████▋   | 159/240 [03:00<01:12,  1.12it/s]"
     ]
    },
    {
     "name": "stderr",
     "output_type": "stream",
     "text": [
      "\r",
      "SCENARIOS COMPLETE:  67%|██████▋   | 160/240 [03:00<01:11,  1.12it/s]"
     ]
    },
    {
     "name": "stderr",
     "output_type": "stream",
     "text": [
      "\r",
      "SCENARIOS COMPLETE:  67%|██████▋   | 161/240 [03:01<00:58,  1.35it/s]"
     ]
    },
    {
     "name": "stderr",
     "output_type": "stream",
     "text": [
      "\r",
      "SCENARIOS COMPLETE:  68%|██████▊   | 162/240 [03:01<00:49,  1.58it/s]"
     ]
    },
    {
     "name": "stderr",
     "output_type": "stream",
     "text": [
      "\r",
      "SCENARIOS COMPLETE:  68%|██████▊   | 163/240 [03:02<00:43,  1.77it/s]"
     ]
    },
    {
     "name": "stderr",
     "output_type": "stream",
     "text": [
      "\r",
      "SCENARIOS COMPLETE:  68%|██████▊   | 164/240 [03:02<00:38,  1.97it/s]"
     ]
    },
    {
     "name": "stderr",
     "output_type": "stream",
     "text": [
      "\r",
      "SCENARIOS COMPLETE:  69%|██████▉   | 165/240 [03:02<00:35,  2.12it/s]"
     ]
    },
    {
     "name": "stderr",
     "output_type": "stream",
     "text": [
      "\r",
      "SCENARIOS COMPLETE:  69%|██████▉   | 166/240 [03:03<00:33,  2.21it/s]"
     ]
    },
    {
     "name": "stderr",
     "output_type": "stream",
     "text": [
      "\r",
      "SCENARIOS COMPLETE:  70%|██████▉   | 167/240 [03:03<00:32,  2.28it/s]"
     ]
    },
    {
     "name": "stderr",
     "output_type": "stream",
     "text": [
      "\r",
      "SCENARIOS COMPLETE:  70%|███████   | 168/240 [03:04<00:32,  2.25it/s]"
     ]
    },
    {
     "name": "stderr",
     "output_type": "stream",
     "text": [
      "\r",
      "SCENARIOS COMPLETE:  70%|███████   | 169/240 [03:04<00:32,  2.17it/s]"
     ]
    },
    {
     "name": "stderr",
     "output_type": "stream",
     "text": [
      "\r",
      "SCENARIOS COMPLETE:  71%|███████   | 170/240 [03:05<00:33,  2.11it/s]"
     ]
    },
    {
     "name": "stderr",
     "output_type": "stream",
     "text": [
      "\r",
      "SCENARIOS COMPLETE:  71%|███████▏  | 171/240 [03:05<00:33,  2.03it/s]"
     ]
    },
    {
     "name": "stderr",
     "output_type": "stream",
     "text": [
      "\r",
      "SCENARIOS COMPLETE:  72%|███████▏  | 172/240 [03:06<00:32,  2.08it/s]"
     ]
    },
    {
     "name": "stderr",
     "output_type": "stream",
     "text": [
      "\r",
      "SCENARIOS COMPLETE:  72%|███████▏  | 173/240 [03:06<00:30,  2.17it/s]"
     ]
    },
    {
     "name": "stderr",
     "output_type": "stream",
     "text": [
      "\r",
      "SCENARIOS COMPLETE:  72%|███████▎  | 174/240 [03:06<00:29,  2.24it/s]"
     ]
    },
    {
     "name": "stderr",
     "output_type": "stream",
     "text": [
      "\r",
      "SCENARIOS COMPLETE:  73%|███████▎  | 175/240 [03:07<00:31,  2.05it/s]"
     ]
    },
    {
     "name": "stderr",
     "output_type": "stream",
     "text": [
      "\r",
      "SCENARIOS COMPLETE:  73%|███████▎  | 176/240 [03:08<00:34,  1.87it/s]"
     ]
    },
    {
     "name": "stderr",
     "output_type": "stream",
     "text": [
      "\r",
      "SCENARIOS COMPLETE:  74%|███████▍  | 177/240 [03:08<00:33,  1.91it/s]"
     ]
    },
    {
     "name": "stderr",
     "output_type": "stream",
     "text": [
      "\r",
      "SCENARIOS COMPLETE:  74%|███████▍  | 178/240 [03:09<00:32,  1.91it/s]"
     ]
    },
    {
     "name": "stderr",
     "output_type": "stream",
     "text": [
      "\r",
      "SCENARIOS COMPLETE:  75%|███████▍  | 179/240 [03:09<00:31,  1.94it/s]"
     ]
    },
    {
     "name": "stderr",
     "output_type": "stream",
     "text": [
      "\r",
      "SCENARIOS COMPLETE:  75%|███████▌  | 180/240 [03:10<00:29,  2.00it/s]"
     ]
    },
    {
     "name": "stderr",
     "output_type": "stream",
     "text": [
      "\r",
      "SCENARIOS COMPLETE:  75%|███████▌  | 181/240 [03:10<00:28,  2.09it/s]"
     ]
    },
    {
     "name": "stderr",
     "output_type": "stream",
     "text": [
      "\r",
      "SCENARIOS COMPLETE:  76%|███████▌  | 182/240 [03:11<00:26,  2.17it/s]"
     ]
    },
    {
     "name": "stderr",
     "output_type": "stream",
     "text": [
      "\r",
      "SCENARIOS COMPLETE:  76%|███████▋  | 183/240 [03:11<00:25,  2.20it/s]"
     ]
    },
    {
     "name": "stderr",
     "output_type": "stream",
     "text": [
      "\r",
      "SCENARIOS COMPLETE:  77%|███████▋  | 184/240 [03:11<00:25,  2.19it/s]"
     ]
    },
    {
     "name": "stderr",
     "output_type": "stream",
     "text": [
      "\r",
      "SCENARIOS COMPLETE:  77%|███████▋  | 185/240 [03:12<00:25,  2.19it/s]"
     ]
    },
    {
     "name": "stderr",
     "output_type": "stream",
     "text": [
      "\r",
      "SCENARIOS COMPLETE:  78%|███████▊  | 186/240 [03:12<00:24,  2.22it/s]"
     ]
    },
    {
     "name": "stderr",
     "output_type": "stream",
     "text": [
      "\r",
      "SCENARIOS COMPLETE:  78%|███████▊  | 187/240 [03:13<00:23,  2.23it/s]"
     ]
    },
    {
     "name": "stderr",
     "output_type": "stream",
     "text": [
      "\r",
      "SCENARIOS COMPLETE:  78%|███████▊  | 188/240 [03:13<00:23,  2.23it/s]"
     ]
    },
    {
     "name": "stderr",
     "output_type": "stream",
     "text": [
      "\r",
      "SCENARIOS COMPLETE:  79%|███████▉  | 189/240 [03:14<00:23,  2.20it/s]"
     ]
    },
    {
     "name": "stderr",
     "output_type": "stream",
     "text": [
      "\r",
      "SCENARIOS COMPLETE:  79%|███████▉  | 190/240 [03:14<00:22,  2.18it/s]"
     ]
    },
    {
     "name": "stderr",
     "output_type": "stream",
     "text": [
      "\r",
      "SCENARIOS COMPLETE:  80%|███████▉  | 191/240 [03:15<00:22,  2.18it/s]"
     ]
    },
    {
     "name": "stderr",
     "output_type": "stream",
     "text": [
      "\r",
      "SCENARIOS COMPLETE:  80%|████████  | 192/240 [03:15<00:22,  2.15it/s]"
     ]
    },
    {
     "name": "stderr",
     "output_type": "stream",
     "text": [
      "\r",
      "SCENARIOS COMPLETE:  80%|████████  | 193/240 [03:16<00:21,  2.21it/s]"
     ]
    },
    {
     "name": "stderr",
     "output_type": "stream",
     "text": [
      "\r",
      "SCENARIOS COMPLETE:  81%|████████  | 194/240 [03:16<00:20,  2.23it/s]"
     ]
    },
    {
     "name": "stderr",
     "output_type": "stream",
     "text": [
      "\r",
      "SCENARIOS COMPLETE:  81%|████████▏ | 195/240 [03:16<00:20,  2.24it/s]"
     ]
    },
    {
     "name": "stderr",
     "output_type": "stream",
     "text": [
      "\r",
      "SCENARIOS COMPLETE:  82%|████████▏ | 196/240 [03:17<00:19,  2.27it/s]"
     ]
    },
    {
     "name": "stderr",
     "output_type": "stream",
     "text": [
      "\r",
      "SCENARIOS COMPLETE:  82%|████████▏ | 197/240 [03:17<00:18,  2.29it/s]"
     ]
    },
    {
     "name": "stderr",
     "output_type": "stream",
     "text": [
      "\r",
      "SCENARIOS COMPLETE:  82%|████████▎ | 198/240 [03:18<00:18,  2.28it/s]"
     ]
    },
    {
     "name": "stderr",
     "output_type": "stream",
     "text": [
      "\r",
      "SCENARIOS COMPLETE:  83%|████████▎ | 199/240 [03:18<00:18,  2.26it/s]"
     ]
    },
    {
     "name": "stderr",
     "output_type": "stream",
     "text": [
      "\r",
      "SCENARIOS COMPLETE:  83%|████████▎ | 200/240 [03:19<00:17,  2.25it/s]"
     ]
    },
    {
     "name": "stderr",
     "output_type": "stream",
     "text": [
      "\r",
      "SCENARIOS COMPLETE:  84%|████████▍ | 201/240 [03:19<00:17,  2.24it/s]"
     ]
    },
    {
     "name": "stderr",
     "output_type": "stream",
     "text": [
      "\r",
      "SCENARIOS COMPLETE:  84%|████████▍ | 202/240 [03:20<00:17,  2.23it/s]"
     ]
    },
    {
     "name": "stderr",
     "output_type": "stream",
     "text": [
      "\r",
      "SCENARIOS COMPLETE:  85%|████████▍ | 203/240 [03:20<00:16,  2.23it/s]"
     ]
    },
    {
     "name": "stderr",
     "output_type": "stream",
     "text": [
      "\r",
      "SCENARIOS COMPLETE:  85%|████████▌ | 204/240 [03:20<00:15,  2.26it/s]"
     ]
    },
    {
     "name": "stderr",
     "output_type": "stream",
     "text": [
      "\r",
      "SCENARIOS COMPLETE:  85%|████████▌ | 205/240 [03:21<00:15,  2.28it/s]"
     ]
    },
    {
     "name": "stderr",
     "output_type": "stream",
     "text": [
      "\r",
      "SCENARIOS COMPLETE:  86%|████████▌ | 206/240 [03:21<00:14,  2.28it/s]"
     ]
    },
    {
     "name": "stderr",
     "output_type": "stream",
     "text": [
      "\r",
      "SCENARIOS COMPLETE:  86%|████████▋ | 207/240 [03:22<00:14,  2.30it/s]"
     ]
    },
    {
     "name": "stderr",
     "output_type": "stream",
     "text": [
      "\r",
      "SCENARIOS COMPLETE:  87%|████████▋ | 208/240 [03:22<00:13,  2.30it/s]"
     ]
    },
    {
     "name": "stderr",
     "output_type": "stream",
     "text": [
      "\r",
      "SCENARIOS COMPLETE:  87%|████████▋ | 209/240 [03:23<00:13,  2.30it/s]"
     ]
    },
    {
     "name": "stderr",
     "output_type": "stream",
     "text": [
      "\r",
      "SCENARIOS COMPLETE:  88%|████████▊ | 210/240 [03:23<00:13,  2.30it/s]"
     ]
    },
    {
     "name": "stderr",
     "output_type": "stream",
     "text": [
      "\r",
      "SCENARIOS COMPLETE:  88%|████████▊ | 211/240 [03:23<00:12,  2.30it/s]"
     ]
    },
    {
     "name": "stderr",
     "output_type": "stream",
     "text": [
      "\r",
      "SCENARIOS COMPLETE:  88%|████████▊ | 212/240 [03:24<00:12,  2.29it/s]"
     ]
    },
    {
     "name": "stderr",
     "output_type": "stream",
     "text": [
      "\r",
      "SCENARIOS COMPLETE:  89%|████████▉ | 213/240 [03:24<00:11,  2.29it/s]"
     ]
    },
    {
     "name": "stderr",
     "output_type": "stream",
     "text": [
      "\r",
      "SCENARIOS COMPLETE:  89%|████████▉ | 214/240 [03:25<00:11,  2.28it/s]"
     ]
    },
    {
     "name": "stderr",
     "output_type": "stream",
     "text": [
      "\r",
      "SCENARIOS COMPLETE:  90%|████████▉ | 215/240 [03:25<00:10,  2.28it/s]"
     ]
    },
    {
     "name": "stderr",
     "output_type": "stream",
     "text": [
      "\r",
      "SCENARIOS COMPLETE:  90%|█████████ | 216/240 [03:26<00:10,  2.30it/s]"
     ]
    },
    {
     "name": "stderr",
     "output_type": "stream",
     "text": [
      "\r",
      "SCENARIOS COMPLETE:  90%|█████████ | 217/240 [03:26<00:09,  2.32it/s]"
     ]
    },
    {
     "name": "stderr",
     "output_type": "stream",
     "text": [
      "\r",
      "SCENARIOS COMPLETE:  91%|█████████ | 218/240 [03:26<00:09,  2.31it/s]"
     ]
    },
    {
     "name": "stderr",
     "output_type": "stream",
     "text": [
      "\r",
      "SCENARIOS COMPLETE:  91%|█████████▏| 219/240 [03:27<00:09,  2.32it/s]"
     ]
    },
    {
     "name": "stderr",
     "output_type": "stream",
     "text": [
      "\r",
      "SCENARIOS COMPLETE:  92%|█████████▏| 220/240 [03:27<00:08,  2.33it/s]"
     ]
    },
    {
     "name": "stderr",
     "output_type": "stream",
     "text": [
      "\r",
      "SCENARIOS COMPLETE:  92%|█████████▏| 221/240 [03:28<00:08,  2.35it/s]"
     ]
    },
    {
     "name": "stderr",
     "output_type": "stream",
     "text": [
      "\r",
      "SCENARIOS COMPLETE:  92%|█████████▎| 222/240 [03:28<00:07,  2.33it/s]"
     ]
    },
    {
     "name": "stderr",
     "output_type": "stream",
     "text": [
      "\r",
      "SCENARIOS COMPLETE:  93%|█████████▎| 223/240 [03:29<00:07,  2.32it/s]"
     ]
    },
    {
     "name": "stderr",
     "output_type": "stream",
     "text": [
      "\r",
      "SCENARIOS COMPLETE:  93%|█████████▎| 224/240 [03:29<00:06,  2.33it/s]"
     ]
    },
    {
     "name": "stderr",
     "output_type": "stream",
     "text": [
      "\r",
      "SCENARIOS COMPLETE:  94%|█████████▍| 225/240 [03:29<00:06,  2.36it/s]"
     ]
    },
    {
     "name": "stderr",
     "output_type": "stream",
     "text": [
      "\r",
      "SCENARIOS COMPLETE:  94%|█████████▍| 226/240 [03:30<00:05,  2.36it/s]"
     ]
    },
    {
     "name": "stderr",
     "output_type": "stream",
     "text": [
      "\r",
      "SCENARIOS COMPLETE:  95%|█████████▍| 227/240 [03:30<00:05,  2.33it/s]"
     ]
    },
    {
     "name": "stderr",
     "output_type": "stream",
     "text": [
      "\r",
      "SCENARIOS COMPLETE:  95%|█████████▌| 228/240 [03:31<00:05,  2.33it/s]"
     ]
    },
    {
     "name": "stderr",
     "output_type": "stream",
     "text": [
      "\r",
      "SCENARIOS COMPLETE:  95%|█████████▌| 229/240 [03:31<00:04,  2.40it/s]"
     ]
    },
    {
     "name": "stderr",
     "output_type": "stream",
     "text": [
      "\r",
      "SCENARIOS COMPLETE:  96%|█████████▌| 230/240 [03:32<00:04,  2.44it/s]"
     ]
    },
    {
     "name": "stderr",
     "output_type": "stream",
     "text": [
      "\r",
      "SCENARIOS COMPLETE:  96%|█████████▋| 231/240 [03:32<00:03,  2.45it/s]"
     ]
    },
    {
     "name": "stderr",
     "output_type": "stream",
     "text": [
      "\r",
      "SCENARIOS COMPLETE:  97%|█████████▋| 232/240 [03:32<00:03,  2.48it/s]"
     ]
    },
    {
     "name": "stderr",
     "output_type": "stream",
     "text": [
      "\r",
      "SCENARIOS COMPLETE:  97%|█████████▋| 233/240 [03:33<00:02,  2.46it/s]"
     ]
    },
    {
     "name": "stderr",
     "output_type": "stream",
     "text": [
      "\r",
      "SCENARIOS COMPLETE:  98%|█████████▊| 234/240 [03:33<00:02,  2.51it/s]"
     ]
    },
    {
     "name": "stderr",
     "output_type": "stream",
     "text": [
      "\r",
      "SCENARIOS COMPLETE:  98%|█████████▊| 235/240 [03:34<00:02,  2.49it/s]"
     ]
    },
    {
     "name": "stderr",
     "output_type": "stream",
     "text": [
      "\r",
      "SCENARIOS COMPLETE:  98%|█████████▊| 236/240 [03:34<00:01,  2.49it/s]"
     ]
    },
    {
     "name": "stderr",
     "output_type": "stream",
     "text": [
      "\r",
      "SCENARIOS COMPLETE:  99%|█████████▉| 237/240 [03:34<00:01,  2.48it/s]"
     ]
    },
    {
     "name": "stderr",
     "output_type": "stream",
     "text": [
      "\r",
      "SCENARIOS COMPLETE:  99%|█████████▉| 238/240 [03:35<00:00,  2.50it/s]"
     ]
    },
    {
     "name": "stderr",
     "output_type": "stream",
     "text": [
      "\r",
      "SCENARIOS COMPLETE: 100%|█████████▉| 239/240 [03:35<00:00,  2.51it/s]"
     ]
    },
    {
     "name": "stderr",
     "output_type": "stream",
     "text": [
      "\r",
      "SCENARIOS COMPLETE: 100%|██████████| 240/240 [03:36<00:00,  2.51it/s]"
     ]
    },
    {
     "name": "stderr",
     "output_type": "stream",
     "text": [
      "\r",
      "SCENARIOS COMPLETE: 100%|██████████| 240/240 [03:36<00:00,  1.11it/s]"
     ]
    },
    {
     "name": "stderr",
     "output_type": "stream",
     "text": [
      "\n"
     ]
    }
   ],
   "source": [
    "oct_app = SampleApproach(mdl_oct, faults=oct_faults)\n",
    "oct_endclasses, oct_mdlhists = fs.propagate.approach(mdl_oct, oct_app, staged=True)"
   ]
  },
  {
   "cell_type": "code",
   "execution_count": 48,
   "metadata": {
    "execution": {
     "iopub.execute_input": "2023-06-09T23:32:38.349416Z",
     "iopub.status.busy": "2023-06-09T23:32:38.349416Z",
     "iopub.status.idle": "2023-06-09T23:32:38.409983Z",
     "shell.execute_reply": "2023-06-09T23:32:38.408050Z"
    }
   },
   "outputs": [
    {
     "data": {
      "text/html": [
       "<div>\n",
       "<style scoped>\n",
       "    .dataframe tbody tr th:only-of-type {\n",
       "        vertical-align: middle;\n",
       "    }\n",
       "\n",
       "    .dataframe tbody tr th {\n",
       "        vertical-align: top;\n",
       "    }\n",
       "\n",
       "    .dataframe thead th {\n",
       "        text-align: right;\n",
       "    }\n",
       "</style>\n",
       "<table border=\"1\" class=\"dataframe\">\n",
       "  <thead>\n",
       "    <tr style=\"text-align: right;\">\n",
       "      <th></th>\n",
       "      <th>rate</th>\n",
       "      <th>cost</th>\n",
       "      <th>expected cost</th>\n",
       "    </tr>\n",
       "  </thead>\n",
       "  <tbody>\n",
       "    <tr>\n",
       "      <th>affect_dof_lf2_ctlbreak_t49p0</th>\n",
       "      <td>1.666667e-07</td>\n",
       "      <td>139600.0</td>\n",
       "      <td>2326.666667</td>\n",
       "    </tr>\n",
       "    <tr>\n",
       "      <th>affect_dof_lf_ctlbreak_t49p0</th>\n",
       "      <td>1.666667e-07</td>\n",
       "      <td>139600.0</td>\n",
       "      <td>2326.666667</td>\n",
       "    </tr>\n",
       "    <tr>\n",
       "      <th>affect_dof_rf2_ctlbreak_t49p0</th>\n",
       "      <td>1.666667e-07</td>\n",
       "      <td>139600.0</td>\n",
       "      <td>2326.666667</td>\n",
       "    </tr>\n",
       "    <tr>\n",
       "      <th>affect_dof_rf_ctlbreak_t49p0</th>\n",
       "      <td>1.666667e-07</td>\n",
       "      <td>139600.0</td>\n",
       "      <td>2326.666667</td>\n",
       "    </tr>\n",
       "    <tr>\n",
       "      <th>affect_dof_rf_ctldn_t49p0</th>\n",
       "      <td>1.666667e-07</td>\n",
       "      <td>139100.0</td>\n",
       "      <td>2318.333333</td>\n",
       "    </tr>\n",
       "    <tr>\n",
       "      <th>...</th>\n",
       "      <td>...</td>\n",
       "      <td>...</td>\n",
       "      <td>...</td>\n",
       "    </tr>\n",
       "    <tr>\n",
       "      <th>affect_dof_lr_propwarp_t2p0</th>\n",
       "      <td>4.629630e-10</td>\n",
       "      <td>200.0</td>\n",
       "      <td>0.009259</td>\n",
       "    </tr>\n",
       "    <tr>\n",
       "      <th>affect_dof_lr2_propwarp_t2p0</th>\n",
       "      <td>4.629630e-10</td>\n",
       "      <td>200.0</td>\n",
       "      <td>0.009259</td>\n",
       "    </tr>\n",
       "    <tr>\n",
       "      <th>affect_dof_rr2_propwarp_t2p0</th>\n",
       "      <td>4.629630e-10</td>\n",
       "      <td>200.0</td>\n",
       "      <td>0.009259</td>\n",
       "    </tr>\n",
       "    <tr>\n",
       "      <th>affect_dof_rr_propwarp_t2p0</th>\n",
       "      <td>4.629630e-10</td>\n",
       "      <td>200.0</td>\n",
       "      <td>0.009259</td>\n",
       "    </tr>\n",
       "    <tr>\n",
       "      <th>nominal</th>\n",
       "      <td>1.000000e+00</td>\n",
       "      <td>0.0</td>\n",
       "      <td>0.000000</td>\n",
       "    </tr>\n",
       "  </tbody>\n",
       "</table>\n",
       "<p>241 rows × 3 columns</p>\n",
       "</div>"
      ],
      "text/plain": [
       "                                       rate      cost  expected cost\n",
       "affect_dof_lf2_ctlbreak_t49p0  1.666667e-07  139600.0    2326.666667\n",
       "affect_dof_lf_ctlbreak_t49p0   1.666667e-07  139600.0    2326.666667\n",
       "affect_dof_rf2_ctlbreak_t49p0  1.666667e-07  139600.0    2326.666667\n",
       "affect_dof_rf_ctlbreak_t49p0   1.666667e-07  139600.0    2326.666667\n",
       "affect_dof_rf_ctldn_t49p0      1.666667e-07  139100.0    2318.333333\n",
       "...                                     ...       ...            ...\n",
       "affect_dof_lr_propwarp_t2p0    4.629630e-10     200.0       0.009259\n",
       "affect_dof_lr2_propwarp_t2p0   4.629630e-10     200.0       0.009259\n",
       "affect_dof_rr2_propwarp_t2p0   4.629630e-10     200.0       0.009259\n",
       "affect_dof_rr_propwarp_t2p0    4.629630e-10     200.0       0.009259\n",
       "nominal                        1.000000e+00       0.0       0.000000\n",
       "\n",
       "[241 rows x 3 columns]"
      ]
     },
     "execution_count": 48,
     "metadata": {},
     "output_type": "execute_result"
    }
   ],
   "source": [
    "oct_tab = oct_endclasses.create_simple_fmea()\n",
    "oct_tab.sort_values('expected cost', ascending=False)"
   ]
  },
  {
   "cell_type": "markdown",
   "metadata": {},
   "source": [
    "Based on this model, we can calculate some metrics that quantify how resilient the system was to the set of faults, such as the cost of resilience:"
   ]
  },
  {
   "cell_type": "code",
   "execution_count": 49,
   "metadata": {
    "execution": {
     "iopub.execute_input": "2023-06-09T23:32:38.416003Z",
     "iopub.status.busy": "2023-06-09T23:32:38.416003Z",
     "iopub.status.idle": "2023-06-09T23:32:38.423941Z",
     "shell.execute_reply": "2023-06-09T23:32:38.422988Z"
    }
   },
   "outputs": [
    {
     "data": {
      "text/plain": [
       "49174.644444444464"
      ]
     },
     "execution_count": 49,
     "metadata": {},
     "output_type": "execute_result"
    }
   ],
   "source": [
    "oct_res = sum(oct_tab['expected cost'])\n",
    "oct_res"
   ]
  },
  {
   "cell_type": "markdown",
   "metadata": {},
   "source": [
    "The overall rate of crashes:"
   ]
  },
  {
   "cell_type": "code",
   "execution_count": 50,
   "metadata": {
    "execution": {
     "iopub.execute_input": "2023-06-09T23:32:38.426977Z",
     "iopub.status.busy": "2023-06-09T23:32:38.426977Z",
     "iopub.status.idle": "2023-06-09T23:32:38.439697Z",
     "shell.execute_reply": "2023-06-09T23:32:38.438693Z"
    }
   },
   "outputs": [
    {
     "data": {
      "text/plain": [
       "3.025925925925928e-06"
      ]
     },
     "execution_count": 50,
     "metadata": {},
     "output_type": "execute_result"
    }
   ],
   "source": [
    "oct_crashes = oct_tab[oct_tab['cost']>100000]\n",
    "oct_rate = sum(oct_crashes['rate'])\n",
    "oct_rate"
   ]
  },
  {
   "cell_type": "markdown",
   "metadata": {},
   "source": [
    "Number of crashes:"
   ]
  },
  {
   "cell_type": "code",
   "execution_count": 51,
   "metadata": {
    "execution": {
     "iopub.execute_input": "2023-06-09T23:32:38.446722Z",
     "iopub.status.busy": "2023-06-09T23:32:38.445721Z",
     "iopub.status.idle": "2023-06-09T23:32:38.456711Z",
     "shell.execute_reply": "2023-06-09T23:32:38.454705Z"
    }
   },
   "outputs": [
    {
     "data": {
      "text/plain": [
       "72"
      ]
     },
     "execution_count": 51,
     "metadata": {},
     "output_type": "execute_result"
    }
   ],
   "source": [
    "oct_num_crashes = len(oct_crashes['rate'])\n",
    "oct_num_crashes"
   ]
  },
  {
   "cell_type": "markdown",
   "metadata": {},
   "source": [
    "Percent of crashes:"
   ]
  },
  {
   "cell_type": "code",
   "execution_count": 52,
   "metadata": {
    "execution": {
     "iopub.execute_input": "2023-06-09T23:32:38.464722Z",
     "iopub.status.busy": "2023-06-09T23:32:38.463736Z",
     "iopub.status.idle": "2023-06-09T23:32:38.487188Z",
     "shell.execute_reply": "2023-06-09T23:32:38.486134Z"
    }
   },
   "outputs": [
    {
     "data": {
      "text/plain": [
       "0.2987551867219917"
      ]
     },
     "execution_count": 52,
     "metadata": {},
     "output_type": "execute_result"
    }
   ],
   "source": [
    "oct_perc_crashes = len(oct_crashes['rate'])/len(oct_tab['rate'])\n",
    "oct_perc_crashes"
   ]
  },
  {
   "cell_type": "code",
   "execution_count": null,
   "metadata": {},
   "outputs": [],
   "source": []
  }
 ],
 "metadata": {
  "kernelspec": {
   "display_name": "Python 3 (ipykernel)",
   "language": "python",
   "name": "python3"
  },
  "language_info": {
   "codemirror_mode": {
    "name": "ipython",
    "version": 3
   },
   "file_extension": ".py",
   "mimetype": "text/x-python",
   "name": "python",
   "nbconvert_exporter": "python",
   "pygments_lexer": "ipython3",
   "version": "3.9.7"
  }
 },
 "nbformat": 4,
 "nbformat_minor": 4
}
