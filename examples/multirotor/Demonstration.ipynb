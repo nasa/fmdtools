{
 "cells": [
  {
   "attachments": {},
   "cell_type": "markdown",
   "metadata": {},
   "source": [
    "# fmdtools Paper Demonstration\n",
    "\n",
    "This notebook shows some basic fmdtools use-cases presented in the paper:\n",
    "\n",
    "[Hulse, D., Walsh, H., Dong, A., Hoyle, C., Tumer, I., Kulkarni, C., & Goebel, K. (2021). fmdtools: A Fault Propagation Toolkit for Resilience Assessment in Early Design. International Journal of Prognostics and Health Management, 12(3)](https://doi.org/10.36001/ijphm.2021.v12i3.2954)\n",
    "\n",
    "This notebook uses a high-level model of a multirotor drone to illustrate the following fmdtools model types:\n",
    "- Network Model\n",
    "- Static Model\n",
    "- Dynamic Model\n",
    "- Hierarchical Model"
   ]
  },
  {
   "cell_type": "code",
   "execution_count": 1,
   "metadata": {
    "execution": {
     "iopub.execute_input": "2023-08-04T16:21:31.146182Z",
     "iopub.status.busy": "2023-08-04T16:21:31.145183Z",
     "iopub.status.idle": "2023-08-04T16:21:32.383170Z",
     "shell.execute_reply": "2023-08-04T16:21:32.382260Z"
    }
   },
   "outputs": [],
   "source": [
    "import matplotlib.pyplot as plt\n",
    "import numpy as np\n",
    "import pandas as pd\n",
    "from IPython.display import HTML\n",
    "\n",
    "import fmdtools.sim as fs\n",
    "import fmdtools.analyze as an\n",
    "from fmdtools.analyze.graph import ModelGraph, ModelFxnGraph\n",
    "from fmdtools.sim.approach import SampleApproach\n",
    "from fmdtools.define.model import Model"
   ]
  },
  {
   "attachments": {},
   "cell_type": "markdown",
   "metadata": {},
   "source": [
    "## Initial Model\n",
    "\n",
    "\n",
    "In our initial model, all we have is the flows, functions, and connections between them. These are set up in a model class as shown:"
   ]
  },
  {
   "cell_type": "code",
   "execution_count": 2,
   "metadata": {
    "execution": {
     "iopub.execute_input": "2023-08-04T16:21:32.386162Z",
     "iopub.status.busy": "2023-08-04T16:21:32.386162Z",
     "iopub.status.idle": "2023-08-04T16:21:32.414667Z",
     "shell.execute_reply": "2023-08-04T16:21:32.414083Z"
    }
   },
   "outputs": [
    {
     "name": "stderr",
     "output_type": "stream",
     "text": [
      "c:\\users\\dhulse\\documents\\github\\fmdtools\\fmdtools\\define\\block.py:68: UserWarning: these flows sent from model ['ee_1', 'force_st'] not added to class <class 'fmdtools.define.block.FxnBlock'>\n",
      "  warnings.warn(\"these flows sent from model \"+str([*flows.keys()])+\" not added to class \"+str(obj.__class__))\n",
      "c:\\users\\dhulse\\documents\\github\\fmdtools\\fmdtools\\define\\block.py:68: UserWarning: these flows sent from model ['ee_1', 'ee_mot', 'ee_ctl', 'force_st'] not added to class <class 'fmdtools.define.block.FxnBlock'>\n",
      "  warnings.warn(\"these flows sent from model \"+str([*flows.keys()])+\" not added to class \"+str(obj.__class__))\n",
      "c:\\users\\dhulse\\documents\\github\\fmdtools\\fmdtools\\define\\block.py:68: UserWarning: these flows sent from model ['ee_mot', 'ctl', 'dofs', 'force_lin'] not added to class <class 'fmdtools.define.block.FxnBlock'>\n",
      "  warnings.warn(\"these flows sent from model \"+str([*flows.keys()])+\" not added to class \"+str(obj.__class__))\n",
      "c:\\users\\dhulse\\documents\\github\\fmdtools\\fmdtools\\define\\block.py:68: UserWarning: these flows sent from model ['ee_ctl', 'dir', 'ctl', 'dofs', 'force_st'] not added to class <class 'fmdtools.define.block.FxnBlock'>\n",
      "  warnings.warn(\"these flows sent from model \"+str([*flows.keys()])+\" not added to class \"+str(obj.__class__))\n",
      "c:\\users\\dhulse\\documents\\github\\fmdtools\\fmdtools\\define\\block.py:68: UserWarning: these flows sent from model ['ee_ctl', 'env', 'dir', 'force_st'] not added to class <class 'fmdtools.define.block.FxnBlock'>\n",
      "  warnings.warn(\"these flows sent from model \"+str([*flows.keys()])+\" not added to class \"+str(obj.__class__))\n",
      "c:\\users\\dhulse\\documents\\github\\fmdtools\\fmdtools\\define\\block.py:68: UserWarning: these flows sent from model ['env', 'dofs', 'dir', 'force_gr'] not added to class <class 'fmdtools.define.block.FxnBlock'>\n",
      "  warnings.warn(\"these flows sent from model \"+str([*flows.keys()])+\" not added to class \"+str(obj.__class__))\n",
      "c:\\users\\dhulse\\documents\\github\\fmdtools\\fmdtools\\define\\block.py:68: UserWarning: these flows sent from model ['force_gr', 'force_lg'] not added to class <class 'fmdtools.define.block.FxnBlock'>\n",
      "  warnings.warn(\"these flows sent from model \"+str([*flows.keys()])+\" not added to class \"+str(obj.__class__))\n",
      "c:\\users\\dhulse\\documents\\github\\fmdtools\\fmdtools\\define\\block.py:68: UserWarning: these flows sent from model ['force_lg', 'force_lin', 'force_st'] not added to class <class 'fmdtools.define.block.FxnBlock'>\n",
      "  warnings.warn(\"these flows sent from model \"+str([*flows.keys()])+\" not added to class \"+str(obj.__class__))\n",
      "c:\\users\\dhulse\\documents\\github\\fmdtools\\fmdtools\\define\\block.py:68: UserWarning: these flows sent from model ['env'] not added to class <class 'fmdtools.define.block.FxnBlock'>\n",
      "  warnings.warn(\"these flows sent from model \"+str([*flows.keys()])+\" not added to class \"+str(obj.__class__))\n"
     ]
    }
   ],
   "source": [
    "from fmdtools.define.block import FxnBlock\n",
    "class Drone(Model):\n",
    "    __slots__=()\n",
    "    default_sp={}\n",
    "    def __init__(self, **kwargs):\n",
    "        super().__init__(**kwargs)\n",
    "        #add flows to the model\n",
    "        self.add_flow('force_st')\n",
    "        self.add_flow('force_lin')\n",
    "        self.add_flow('force_gr')\n",
    "        self.add_flow('force_lg')\n",
    "        self.add_flow('ee_1')\n",
    "        self.add_flow('ee_mot')\n",
    "        self.add_flow('ee_ctl')\n",
    "        self.add_flow('ctl')\n",
    "        self.add_flow('dofs')\n",
    "        self.add_flow('env')\n",
    "        self.add_flow('dir')\n",
    "        #add functions to the model\n",
    "        self.add_fxn('store_ee',  FxnBlock, 'ee_1', 'force_st')\n",
    "        self.add_fxn('dist_ee',   FxnBlock, 'ee_1','ee_mot','ee_ctl', 'force_st')\n",
    "        self.add_fxn('affect_dof',FxnBlock, 'ee_mot','ctl','dofs','force_lin')\n",
    "        self.add_fxn('ctl_dof',   FxnBlock, 'ee_ctl', 'dir', 'ctl', 'dofs', 'force_st')\n",
    "        self.add_fxn('plan_path', FxnBlock, 'ee_ctl', 'env','dir', 'force_st')\n",
    "        self.add_fxn('trajectory',FxnBlock, 'env','dofs','dir', 'force_gr')\n",
    "        self.add_fxn('engage_land',FxnBlock, 'force_gr', 'force_lg')\n",
    "        self.add_fxn('hold_payload',FxnBlock,'force_lg', 'force_lin', 'force_st')\n",
    "        self.add_fxn('view_env', FxnBlock,   'env')\n",
    "        \n",
    "        self.build()\n",
    "\n",
    "mdl = Drone()"
   ]
  },
  {
   "attachments": {},
   "cell_type": "markdown",
   "metadata": {},
   "source": [
    "## Setting Node Positions"
   ]
  },
  {
   "attachments": {},
   "cell_type": "markdown",
   "metadata": {},
   "source": [
    "As shown below, it can be difficult to make sense of a model structure using the default graph layout. We might instead want to see something that more closely approximates a flow chart of the system."
   ]
  },
  {
   "cell_type": "code",
   "execution_count": 3,
   "metadata": {
    "execution": {
     "iopub.execute_input": "2023-08-04T16:21:32.417693Z",
     "iopub.status.busy": "2023-08-04T16:21:32.417693Z",
     "iopub.status.idle": "2023-08-04T16:21:32.952602Z",
     "shell.execute_reply": "2023-08-04T16:21:32.951925Z"
    },
    "scrolled": true
   },
   "outputs": [
    {
     "data": {
      "image/png": "[encoded data removed]",
      "text/plain": [
       "<Figure size 864x720 with 1 Axes>"
      ]
     },
     "metadata": {},
     "output_type": "display_data"
    }
   ],
   "source": [
    "mdl = Drone()\n",
    "mg = ModelGraph(mdl)\n",
    "fig, ax = mg.draw()"
   ]
  },
  {
   "attachments": {},
   "cell_type": "markdown",
   "metadata": {},
   "source": [
    "To set node positions, we can use ``Graph.move_nodes``, which lets one drag the nodes to their desired locations. Node that while these node positions become attributes of the object (for future display) it is good practice to save node locations when one is done in the script so you don't have to move them every time."
   ]
  },
  {
   "cell_type": "code",
   "execution_count": 4,
   "metadata": {
    "execution": {
     "iopub.execute_input": "2023-08-04T16:21:32.955591Z",
     "iopub.status.busy": "2023-08-04T16:21:32.955591Z",
     "iopub.status.idle": "2023-08-04T16:21:33.346522Z",
     "shell.execute_reply": "2023-08-04T16:21:33.345511Z"
    }
   },
   "outputs": [],
   "source": [
    "%matplotlib qt5\n",
    "gi = mg.move_nodes()"
   ]
  },
  {
   "cell_type": "code",
   "execution_count": 5,
   "metadata": {
    "execution": {
     "iopub.execute_input": "2023-08-04T16:21:33.485472Z",
     "iopub.status.busy": "2023-08-04T16:21:33.484473Z",
     "iopub.status.idle": "2023-08-04T16:21:33.496834Z",
     "shell.execute_reply": "2023-08-04T16:21:33.495866Z"
    }
   },
   "outputs": [],
   "source": [
    "%matplotlib inline"
   ]
  },
  {
   "cell_type": "code",
   "execution_count": 6,
   "metadata": {
    "execution": {
     "iopub.execute_input": "2023-08-04T16:21:33.502912Z",
     "iopub.status.busy": "2023-08-04T16:21:33.501917Z",
     "iopub.status.idle": "2023-08-04T16:21:33.519748Z",
     "shell.execute_reply": "2023-08-04T16:21:33.519748Z"
    }
   },
   "outputs": [],
   "source": [
    "mg.pos={'store_ee': [-1.067135163123663, 0.32466987344741055],\n",
    " 'dist_ee': [-0.617149602161968, 0.3165981670924663],\n",
    " 'affect_dof': [0.11827439153655106, 0.10792528450121897],\n",
    " 'ctl_dof': [-0.2636856982162134, 0.42422600969836144],\n",
    " 'plan_path': [-0.9347151173753852, 0.6943421719257798],\n",
    " 'trajectory': [0.6180477286739998, 0.32930706399226856],\n",
    " 'engage_land': [0.0015917696269229786, -0.2399760932810826],\n",
    " 'hold_payload': [-0.8833099612826893, -0.247201580673997],\n",
    " 'view_env': [0.5725955705698363, 0.6901513410348765],\n",
    " 'force_st': [-0.8925771348524384, -0.025638904424547027],\n",
    " 'force_lin': [-0.5530952425102891, -0.10380834289626095],\n",
    " 'force_gr': [0.568921162299461, -0.22991830334765573],\n",
    " 'force_lg': [-0.37244114591548894, -0.2355298479531287],\n",
    " 'ee_1': [-0.809433489993954, 0.319191761486317],\n",
    " 'ee_mot': [-0.33469985340998853, 0.1307636433702345],\n",
    " 'ee_ctl': [-0.48751243650229525, 0.4852032717825657],\n",
    " 'ctl': [-0.06913038312848868, 0.2445174568603189],\n",
    " 'dofs': [0.2606664304933561, 0.3243482171363975],\n",
    " 'env': [0.06157634305459603, 0.7099922980251693],\n",
    " 'dir': [-0.13617863906968142, 0.6037252153639261]}"
   ]
  },
  {
   "cell_type": "code",
   "execution_count": 7,
   "metadata": {
    "execution": {
     "iopub.execute_input": "2023-08-04T16:21:33.523069Z",
     "iopub.status.busy": "2023-08-04T16:21:33.523069Z",
     "iopub.status.idle": "2023-08-04T16:21:34.102743Z",
     "shell.execute_reply": "2023-08-04T16:21:34.102244Z"
    }
   },
   "outputs": [
    {
     "data": {
      "image/png": "[encoded data removed]",
      "text/plain": [
       "<Figure size 864x720 with 1 Axes>"
      ]
     },
     "metadata": {},
     "output_type": "display_data"
    }
   ],
   "source": [
    "fig, ax = mg.draw()"
   ]
  },
  {
   "attachments": {},
   "cell_type": "markdown",
   "metadata": {},
   "source": [
    "Note that a variety of views of the model graph can be used for analysis/visualization. Below we use the ModelFxnGraph"
   ]
  },
  {
   "cell_type": "code",
   "execution_count": 8,
   "metadata": {
    "execution": {
     "iopub.execute_input": "2023-08-04T16:21:34.105556Z",
     "iopub.status.busy": "2023-08-04T16:21:34.105556Z",
     "iopub.status.idle": "2023-08-04T16:21:34.212367Z",
     "shell.execute_reply": "2023-08-04T16:21:34.210987Z"
    }
   },
   "outputs": [
    {
     "data": {
      "image/png": "[encoded data removed]",
      "text/plain": [
       "<Figure size 432x288 with 1 Axes>"
      ]
     },
     "metadata": {},
     "output_type": "display_data"
    }
   ],
   "source": [
    "fg = ModelFxnGraph(mdl)\n",
    "fg.pos={'store_ee': [-1.0787279392101061, -0.06903523859088145],\n",
    " 'dist_ee': [-0.361531174332526, -0.0935883732235363],\n",
    " 'affect_dof': [0.36541282312106205, -0.09674444529230719],\n",
    " 'ctl_dof': [0.4664934329906758, 0.5822138245848214],\n",
    " 'plan_path': [-0.7095750728126631, 0.8482786785038505],\n",
    " 'trajectory': [1.1006824683444765, -0.10423208715241583],\n",
    " 'engage_land': [0.8423521094741182, -0.8813666134484857],\n",
    " 'hold_payload': [-0.5857395187723944, -0.86974898769837],\n",
    " 'view_env': [1.1035500215472247, 0.9373523025760659]}\n",
    "fg.set_edge_labels(title='', subtext='')\n",
    "fig, ax = fg.draw(figsize=(6,4), withlegend=False)"
   ]
  },
  {
   "attachments": {},
   "cell_type": "markdown",
   "metadata": {},
   "source": [
    "## Network Model\n",
    "\n",
    "A network model can be used to compute network metrics and visualize network vulnerabilities."
   ]
  },
  {
   "attachments": {},
   "cell_type": "markdown",
   "metadata": {},
   "source": [
    "We can calculate network metrics using calc_aspl, calc_modularity, and calc_robustness_coefficient in the `networks` module."
   ]
  },
  {
   "cell_type": "code",
   "execution_count": 9,
   "metadata": {
    "execution": {
     "iopub.execute_input": "2023-08-04T16:21:34.214398Z",
     "iopub.status.busy": "2023-08-04T16:21:34.214398Z",
     "iopub.status.idle": "2023-08-04T16:21:34.288965Z",
     "shell.execute_reply": "2023-08-04T16:21:34.288965Z"
    }
   },
   "outputs": [
    {
     "name": "stdout",
     "output_type": "stream",
     "text": [
      "ASPL: 1.44\n",
      "Modularity: 0.12\n",
      "Robustness Coefficient: 95.38\n"
     ]
    }
   ],
   "source": [
    "aspl = fg.calc_aspl()\n",
    "q = fg.calc_modularity()\n",
    "rc = fg.calc_robustness_coefficient()\n",
    "\n",
    "print(\"ASPL: %.2f\" % round(aspl, 2))\n",
    "print(\"Modularity: %.2f\" % round(q,2))\n",
    "print(\"Robustness Coefficient: %.2f\" % round(rc,2))"
   ]
  },
  {
   "attachments": {},
   "cell_type": "markdown",
   "metadata": {},
   "source": [
    "Next, we visualize network vulnerabilities using find_bridging_nodes and find_high_degree_nodes."
   ]
  },
  {
   "cell_type": "code",
   "execution_count": 10,
   "metadata": {
    "execution": {
     "iopub.execute_input": "2023-08-04T16:21:34.291676Z",
     "iopub.status.busy": "2023-08-04T16:21:34.291676Z",
     "iopub.status.idle": "2023-08-04T16:21:34.573643Z",
     "shell.execute_reply": "2023-08-04T16:21:34.573044Z"
    }
   },
   "outputs": [
    {
     "data": {
      "image/png": "[encoded data removed]",
      "text/plain": [
       "<Figure size 432x288 with 1 Axes>"
      ]
     },
     "metadata": {},
     "output_type": "display_data"
    }
   ],
   "source": [
    "fig_bridging_nodes, ax_bridging_nodes = fg.plot_bridging_nodes(figsize=(6,4), withlegend=False)\n",
    "fig_bridging_nodes.savefig('bridgingnodes.pdf', format=\"pdf\", bbox_inches = 'tight', pad_inches = 0)"
   ]
  },
  {
   "cell_type": "code",
   "execution_count": 11,
   "metadata": {
    "execution": {
     "iopub.execute_input": "2023-08-04T16:21:34.577667Z",
     "iopub.status.busy": "2023-08-04T16:21:34.577667Z",
     "iopub.status.idle": "2023-08-04T16:21:34.795827Z",
     "shell.execute_reply": "2023-08-04T16:21:34.794885Z"
    }
   },
   "outputs": [
    {
     "data": {
      "image/png": "[encoded data removed]",
      "text/plain": [
       "<Figure size 432x288 with 1 Axes>"
      ]
     },
     "metadata": {},
     "output_type": "display_data"
    }
   ],
   "source": [
    "fig_high_degree_nodes, ax_high_degree_nodes = fg.plot_high_degree_nodes(figsize=(6,4), withlegend=False)\n",
    "fig_bridging_nodes.savefig('highdegreenodes.pdf', format=\"pdf\", bbox_inches = 'tight', pad_inches = 0)"
   ]
  },
  {
   "attachments": {},
   "cell_type": "markdown",
   "metadata": {},
   "source": [
    "High degree nodes (along with their degrees) and bridging nodes are also obtainable as lists."
   ]
  },
  {
   "cell_type": "code",
   "execution_count": 12,
   "metadata": {
    "execution": {
     "iopub.execute_input": "2023-08-04T16:21:34.799825Z",
     "iopub.status.busy": "2023-08-04T16:21:34.798829Z",
     "iopub.status.idle": "2023-08-04T16:21:34.810802Z",
     "shell.execute_reply": "2023-08-04T16:21:34.809988Z"
    }
   },
   "outputs": [
    {
     "name": "stdout",
     "output_type": "stream",
     "text": [
      "Bridging Nodes: ['affect_dof', 'ctl_dof', 'dist_ee', 'engage_land', 'hold_payload', 'plan_path', 'store_ee', 'trajectory']\n",
      "High Degree Nodes: [('ctl_dof', 6), ('plan_path', 6), ('hold_payload', 6)]\n"
     ]
    }
   ],
   "source": [
    "print('Bridging Nodes:', fg.find_bridging_nodes())\n",
    "print('High Degree Nodes:',fg.find_high_degree_nodes())"
   ]
  },
  {
   "attachments": {},
   "cell_type": "markdown",
   "metadata": {},
   "source": [
    "Finally, we can plot the degree distribution of the network using degree_dist."
   ]
  },
  {
   "cell_type": "code",
   "execution_count": 13,
   "metadata": {
    "execution": {
     "iopub.execute_input": "2023-08-04T16:21:34.813335Z",
     "iopub.status.busy": "2023-08-04T16:21:34.813335Z",
     "iopub.status.idle": "2023-08-04T16:21:34.984078Z",
     "shell.execute_reply": "2023-08-04T16:21:34.983105Z"
    }
   },
   "outputs": [
    {
     "data": {
      "image/png": "[encoded data removed]",
      "text/plain": [
       "<Figure size 432x288 with 1 Axes>"
      ]
     },
     "metadata": {
      "needs_background": "light"
     },
     "output_type": "display_data"
    }
   ],
   "source": [
    "fig = fg.plot_degree_dist()\n",
    "fig.savefig('degreedist.pdf', format=\"pdf\", bbox_inches = 'tight', pad_inches = 0.0)"
   ]
  },
  {
   "attachments": {},
   "cell_type": "markdown",
   "metadata": {},
   "source": [
    "The above analysis includes only function nodes. It is also possible to treat the entire model graph (containing both functions and flows) as a unipartite-like graph and perform similar analysis on both function and flow nodes."
   ]
  },
  {
   "cell_type": "code",
   "execution_count": 14,
   "metadata": {
    "execution": {
     "iopub.execute_input": "2023-08-04T16:21:34.986109Z",
     "iopub.status.busy": "2023-08-04T16:21:34.986109Z",
     "iopub.status.idle": "2023-08-04T16:21:35.046923Z",
     "shell.execute_reply": "2023-08-04T16:21:35.046143Z"
    }
   },
   "outputs": [
    {
     "name": "stdout",
     "output_type": "stream",
     "text": [
      "ASPL, functions and flows: 2.77\n",
      "Modularity, functions and flows: 0.35\n",
      "Robustness Coefficient, functions and flows: 82.22\n"
     ]
    }
   ],
   "source": [
    "aspl = mg.calc_aspl()\n",
    "q = mg.calc_modularity()\n",
    "rc = mg.calc_robustness_coefficient()\n",
    "\n",
    "print(\"ASPL, functions and flows: %.2f\" % round(aspl, 2))\n",
    "print(\"Modularity, functions and flows: %.2f\" % round(q,2))\n",
    "print(\"Robustness Coefficient, functions and flows: %.2f\" % round(rc,2))"
   ]
  },
  {
   "cell_type": "code",
   "execution_count": 15,
   "metadata": {
    "execution": {
     "iopub.execute_input": "2023-08-04T16:21:35.049952Z",
     "iopub.status.busy": "2023-08-04T16:21:35.048954Z",
     "iopub.status.idle": "2023-08-04T16:21:35.970855Z",
     "shell.execute_reply": "2023-08-04T16:21:35.969809Z"
    }
   },
   "outputs": [
    {
     "data": {
      "image/png": "[encoded data removed]",
      "text/plain": [
       "<Figure size 432x288 with 1 Axes>"
      ]
     },
     "metadata": {},
     "output_type": "display_data"
    },
    {
     "data": {
      "image/png": "[encoded data removed]",
      "text/plain": [
       "<Figure size 432x288 with 1 Axes>"
      ]
     },
     "metadata": {},
     "output_type": "display_data"
    }
   ],
   "source": [
    "fig_bridging_nodes, ax_bridging_nodes = mg.plot_bridging_nodes(figsize=(6,4), withlegend=False)\n",
    "fig_high_degree_nodes, ax_high_degree_nodes = mg.plot_high_degree_nodes(figsize=(6,4), withlegend=False)"
   ]
  },
  {
   "cell_type": "code",
   "execution_count": 16,
   "metadata": {
    "execution": {
     "iopub.execute_input": "2023-08-04T16:21:35.973884Z",
     "iopub.status.busy": "2023-08-04T16:21:35.972886Z",
     "iopub.status.idle": "2023-08-04T16:21:35.986488Z",
     "shell.execute_reply": "2023-08-04T16:21:35.985577Z"
    }
   },
   "outputs": [
    {
     "name": "stdout",
     "output_type": "stream",
     "text": [
      "Bridging Nodes: ['affect_dof', 'ctl', 'ctl_dof', 'dir', 'dist_ee', 'dofs', 'ee_ctl', 'ee_mot', 'env', 'force_gr', 'force_lin', 'force_st', 'hold_payload', 'plan_path', 'store_ee', 'trajectory']\n",
      "High Degree Nodes: [('ctl_dof', 5), ('force_st', 5)]\n"
     ]
    }
   ],
   "source": [
    "print('Bridging Nodes:',mg.find_bridging_nodes())\n",
    "print('High Degree Nodes:',mg.find_high_degree_nodes())"
   ]
  },
  {
   "cell_type": "code",
   "execution_count": 17,
   "metadata": {
    "execution": {
     "iopub.execute_input": "2023-08-04T16:21:35.988520Z",
     "iopub.status.busy": "2023-08-04T16:21:35.988520Z",
     "iopub.status.idle": "2023-08-04T16:21:36.111867Z",
     "shell.execute_reply": "2023-08-04T16:21:36.109881Z"
    },
    "scrolled": true
   },
   "outputs": [
    {
     "data": {
      "image/png": "[encoded data removed]",
      "text/plain": [
       "<Figure size 432x288 with 1 Axes>"
      ]
     },
     "metadata": {
      "needs_background": "light"
     },
     "output_type": "display_data"
    }
   ],
   "source": [
    "fig = mg.plot_degree_dist()"
   ]
  },
  {
   "attachments": {},
   "cell_type": "markdown",
   "metadata": {},
   "source": [
    "The SFF model can be simulated with options for simulation time, infection (failure) rate, and recovery (fix) rate. The start node can be selected or chosen randomly. Plotting includes an option for error bars. This models the system's response to a failure using an analogy of an epidemic spreading through a network."
   ]
  },
  {
   "cell_type": "code",
   "execution_count": 18,
   "metadata": {
    "execution": {
     "iopub.execute_input": "2023-08-04T16:21:36.115850Z",
     "iopub.status.busy": "2023-08-04T16:21:36.115850Z",
     "iopub.status.idle": "2023-08-04T16:21:36.424210Z",
     "shell.execute_reply": "2023-08-04T16:21:36.423613Z"
    }
   },
   "outputs": [
    {
     "data": {
      "image/png": "[encoded data removed]",
      "text/plain": [
       "<Figure size 432x288 with 1 Axes>"
      ]
     },
     "metadata": {
      "needs_background": "light"
     },
     "output_type": "display_data"
    }
   ],
   "source": [
    "fig = fg.sff_model(endtime=15,pi=.3,pr=.1,start_node='affect_dof',error_bar_option='on')\n",
    "fig.savefig('sff_model.pdf', format=\"pdf\", bbox_inches = 'tight', pad_inches = 0)"
   ]
  },
  {
   "attachments": {},
   "cell_type": "markdown",
   "metadata": {},
   "source": [
    "## Static Model\n",
    "\n",
    "In this demonstration, we will use a static representation of the system model to displaygraph views of fault scenarios and produce a static FMEA\n",
    "\n",
    "The static model is located in `drone_mdl_static.py`."
   ]
  },
  {
   "cell_type": "code",
   "execution_count": 19,
   "metadata": {
    "execution": {
     "iopub.execute_input": "2023-08-04T16:21:36.427201Z",
     "iopub.status.busy": "2023-08-04T16:21:36.427201Z",
     "iopub.status.idle": "2023-08-04T16:21:36.440850Z",
     "shell.execute_reply": "2023-08-04T16:21:36.439979Z"
    }
   },
   "outputs": [],
   "source": [
    "from drone_mdl_static import Drone as Drone_Static"
   ]
  },
  {
   "attachments": {},
   "cell_type": "markdown",
   "metadata": {},
   "source": [
    "In design, it often helps to quantify the relative impact of fault scenarios. Here we produce a scenario-based FMEA to show which scenarios are most important in the model:"
   ]
  },
  {
   "cell_type": "code",
   "execution_count": 20,
   "metadata": {
    "execution": {
     "iopub.execute_input": "2023-08-04T16:21:36.444948Z",
     "iopub.status.busy": "2023-08-04T16:21:36.444948Z",
     "iopub.status.idle": "2023-08-04T16:21:36.835432Z",
     "shell.execute_reply": "2023-08-04T16:21:36.834430Z"
    }
   },
   "outputs": [
    {
     "name": "stderr",
     "output_type": "stream",
     "text": [
      "\r",
      "SCENARIOS COMPLETE:   0%|          | 0/50 [00:00<?, ?it/s]"
     ]
    },
    {
     "name": "stderr",
     "output_type": "stream",
     "text": [
      "\r",
      "SCENARIOS COMPLETE:  30%|███       | 15/50 [00:00<00:00, 141.87it/s]"
     ]
    },
    {
     "name": "stderr",
     "output_type": "stream",
     "text": [
      "\r",
      "SCENARIOS COMPLETE:  60%|██████    | 30/50 [00:00<00:00, 143.34it/s]"
     ]
    },
    {
     "name": "stderr",
     "output_type": "stream",
     "text": [
      "\r",
      "SCENARIOS COMPLETE:  90%|█████████ | 45/50 [00:00<00:00, 143.88it/s]"
     ]
    },
    {
     "name": "stderr",
     "output_type": "stream",
     "text": [
      "\r",
      "SCENARIOS COMPLETE: 100%|██████████| 50/50 [00:00<00:00, 143.58it/s]"
     ]
    },
    {
     "name": "stderr",
     "output_type": "stream",
     "text": [
      "\n"
     ]
    }
   ],
   "source": [
    "static_mdl = Drone_Static()\n",
    "endclasses, mdlhists = fs.propagate.single_faults(static_mdl)"
   ]
  },
  {
   "cell_type": "code",
   "execution_count": 21,
   "metadata": {
    "execution": {
     "iopub.execute_input": "2023-08-04T16:21:36.838455Z",
     "iopub.status.busy": "2023-08-04T16:21:36.838455Z",
     "iopub.status.idle": "2023-08-04T16:21:36.993102Z",
     "shell.execute_reply": "2023-08-04T16:21:36.992133Z"
    }
   },
   "outputs": [
    {
     "data": {
      "text/html": [
       "<div>\n",
       "<style scoped>\n",
       "    .dataframe tbody tr th:only-of-type {\n",
       "        vertical-align: middle;\n",
       "    }\n",
       "\n",
       "    .dataframe tbody tr th {\n",
       "        vertical-align: top;\n",
       "    }\n",
       "\n",
       "    .dataframe thead th {\n",
       "        text-align: right;\n",
       "    }\n",
       "</style>\n",
       "<table border=\"1\" class=\"dataframe\">\n",
       "  <thead>\n",
       "    <tr style=\"text-align: right;\">\n",
       "      <th></th>\n",
       "      <th>degraded</th>\n",
       "      <th>faulty</th>\n",
       "      <th>rate</th>\n",
       "      <th>cost</th>\n",
       "      <th>expected cost</th>\n",
       "    </tr>\n",
       "  </thead>\n",
       "  <tbody>\n",
       "    <tr>\n",
       "      <th>store_ee_nocharge_t1</th>\n",
       "      <td>['store_ee', 'dist_ee', 'ctl_dof', 'plan_path'...</td>\n",
       "      <td>['store_ee', 'dist_ee', 'ctl_dof', 'plan_path'...</td>\n",
       "      <td>0.00001</td>\n",
       "      <td>183300.0</td>\n",
       "      <td>183300.0</td>\n",
       "    </tr>\n",
       "    <tr>\n",
       "      <th>store_ee_nocharge_t0</th>\n",
       "      <td>['store_ee', 'dist_ee', 'ctl_dof', 'plan_path'...</td>\n",
       "      <td>['store_ee', 'dist_ee', 'ctl_dof', 'plan_path'...</td>\n",
       "      <td>0.00001</td>\n",
       "      <td>183300.0</td>\n",
       "      <td>183300.0</td>\n",
       "    </tr>\n",
       "    <tr>\n",
       "      <th>plan_path_degloc_t1</th>\n",
       "      <td>['dist_ee', 'ctl_dof', 'plan_path', 'trajector...</td>\n",
       "      <td>['dist_ee', 'ctl_dof', 'plan_path', 'trajector...</td>\n",
       "      <td>0.000008</td>\n",
       "      <td>193000.0</td>\n",
       "      <td>154400.0</td>\n",
       "    </tr>\n",
       "    <tr>\n",
       "      <th>plan_path_degloc_t0</th>\n",
       "      <td>['dist_ee', 'ctl_dof', 'plan_path', 'trajector...</td>\n",
       "      <td>['dist_ee', 'ctl_dof', 'plan_path', 'trajector...</td>\n",
       "      <td>0.000008</td>\n",
       "      <td>193000.0</td>\n",
       "      <td>154400.0</td>\n",
       "    </tr>\n",
       "    <tr>\n",
       "      <th>dist_ee_short_t0</th>\n",
       "      <td>['dist_ee', 'ctl_dof', 'plan_path', 'trajector...</td>\n",
       "      <td>['dist_ee', 'ctl_dof', 'plan_path', 'trajector...</td>\n",
       "      <td>0.000003</td>\n",
       "      <td>186000.0</td>\n",
       "      <td>55800.0</td>\n",
       "    </tr>\n",
       "    <tr>\n",
       "      <th>dist_ee_short_t1</th>\n",
       "      <td>['dist_ee', 'ctl_dof', 'plan_path', 'trajector...</td>\n",
       "      <td>['dist_ee', 'ctl_dof', 'plan_path', 'trajector...</td>\n",
       "      <td>0.000003</td>\n",
       "      <td>186000.0</td>\n",
       "      <td>55800.0</td>\n",
       "    </tr>\n",
       "    <tr>\n",
       "      <th>affect_dof_ctlbreak_t0</th>\n",
       "      <td>['dist_ee', 'affect_dof', 'ctl_dof', 'plan_pat...</td>\n",
       "      <td>['dist_ee', 'affect_dof', 'ctl_dof', 'plan_pat...</td>\n",
       "      <td>0.000002</td>\n",
       "      <td>184000.0</td>\n",
       "      <td>36800.0</td>\n",
       "    </tr>\n",
       "    <tr>\n",
       "      <th>affect_dof_ctlbreak_t1</th>\n",
       "      <td>['dist_ee', 'affect_dof', 'ctl_dof', 'plan_pat...</td>\n",
       "      <td>['dist_ee', 'affect_dof', 'ctl_dof', 'plan_pat...</td>\n",
       "      <td>0.000002</td>\n",
       "      <td>184000.0</td>\n",
       "      <td>36800.0</td>\n",
       "    </tr>\n",
       "    <tr>\n",
       "      <th>affect_dof_ctlup_t1</th>\n",
       "      <td>['dist_ee', 'affect_dof', 'ctl_dof', 'plan_pat...</td>\n",
       "      <td>['dist_ee', 'affect_dof', 'ctl_dof', 'plan_pat...</td>\n",
       "      <td>0.000002</td>\n",
       "      <td>183500.0</td>\n",
       "      <td>36700.0</td>\n",
       "    </tr>\n",
       "    <tr>\n",
       "      <th>affect_dof_ctlup_t0</th>\n",
       "      <td>['dist_ee', 'affect_dof', 'ctl_dof', 'plan_pat...</td>\n",
       "      <td>['dist_ee', 'affect_dof', 'ctl_dof', 'plan_pat...</td>\n",
       "      <td>0.000002</td>\n",
       "      <td>183500.0</td>\n",
       "      <td>36700.0</td>\n",
       "    </tr>\n",
       "    <tr>\n",
       "      <th>ctl_dof_noctl_t0</th>\n",
       "      <td>['dist_ee', 'ctl_dof', 'plan_path', 'trajector...</td>\n",
       "      <td>['dist_ee', 'ctl_dof', 'plan_path', 'trajector...</td>\n",
       "      <td>0.000002</td>\n",
       "      <td>183000.0</td>\n",
       "      <td>36600.0</td>\n",
       "    </tr>\n",
       "    <tr>\n",
       "      <th>dist_ee_break_t0</th>\n",
       "      <td>['dist_ee', 'ctl_dof', 'plan_path', 'trajector...</td>\n",
       "      <td>['dist_ee', 'ctl_dof', 'plan_path', 'trajector...</td>\n",
       "      <td>0.000002</td>\n",
       "      <td>183000.0</td>\n",
       "      <td>36600.0</td>\n",
       "    </tr>\n",
       "    <tr>\n",
       "      <th>dist_ee_break_t1</th>\n",
       "      <td>['dist_ee', 'ctl_dof', 'plan_path', 'trajector...</td>\n",
       "      <td>['dist_ee', 'ctl_dof', 'plan_path', 'trajector...</td>\n",
       "      <td>0.000002</td>\n",
       "      <td>183000.0</td>\n",
       "      <td>36600.0</td>\n",
       "    </tr>\n",
       "    <tr>\n",
       "      <th>ctl_dof_noctl_t1</th>\n",
       "      <td>['dist_ee', 'ctl_dof', 'plan_path', 'trajector...</td>\n",
       "      <td>['dist_ee', 'ctl_dof', 'plan_path', 'trajector...</td>\n",
       "      <td>0.000002</td>\n",
       "      <td>183000.0</td>\n",
       "      <td>36600.0</td>\n",
       "    </tr>\n",
       "    <tr>\n",
       "      <th>affect_dof_mechbreak_t0</th>\n",
       "      <td>['dist_ee', 'affect_dof', 'ctl_dof', 'plan_pat...</td>\n",
       "      <td>['dist_ee', 'affect_dof', 'ctl_dof', 'plan_pat...</td>\n",
       "      <td>0.000001</td>\n",
       "      <td>183500.0</td>\n",
       "      <td>18350.0</td>\n",
       "    </tr>\n",
       "    <tr>\n",
       "      <th>affect_dof_mechbreak_t1</th>\n",
       "      <td>['dist_ee', 'affect_dof', 'ctl_dof', 'plan_pat...</td>\n",
       "      <td>['dist_ee', 'affect_dof', 'ctl_dof', 'plan_pat...</td>\n",
       "      <td>0.000001</td>\n",
       "      <td>183500.0</td>\n",
       "      <td>18350.0</td>\n",
       "    </tr>\n",
       "    <tr>\n",
       "      <th>affect_dof_short_t1</th>\n",
       "      <td>['dist_ee', 'affect_dof', 'ctl_dof', 'plan_pat...</td>\n",
       "      <td>['dist_ee', 'affect_dof', 'ctl_dof', 'plan_pat...</td>\n",
       "      <td>0.000001</td>\n",
       "      <td>183200.0</td>\n",
       "      <td>18320.0</td>\n",
       "    </tr>\n",
       "    <tr>\n",
       "      <th>affect_dof_openc_t1</th>\n",
       "      <td>['dist_ee', 'affect_dof', 'ctl_dof', 'plan_pat...</td>\n",
       "      <td>['dist_ee', 'affect_dof', 'ctl_dof', 'plan_pat...</td>\n",
       "      <td>0.000001</td>\n",
       "      <td>183200.0</td>\n",
       "      <td>18320.0</td>\n",
       "    </tr>\n",
       "    <tr>\n",
       "      <th>affect_dof_openc_t0</th>\n",
       "      <td>['dist_ee', 'affect_dof', 'ctl_dof', 'plan_pat...</td>\n",
       "      <td>['dist_ee', 'affect_dof', 'ctl_dof', 'plan_pat...</td>\n",
       "      <td>0.000001</td>\n",
       "      <td>183200.0</td>\n",
       "      <td>18320.0</td>\n",
       "    </tr>\n",
       "    <tr>\n",
       "      <th>affect_dof_short_t0</th>\n",
       "      <td>['dist_ee', 'affect_dof', 'ctl_dof', 'plan_pat...</td>\n",
       "      <td>['dist_ee', 'affect_dof', 'ctl_dof', 'plan_pat...</td>\n",
       "      <td>0.000001</td>\n",
       "      <td>183200.0</td>\n",
       "      <td>18320.0</td>\n",
       "    </tr>\n",
       "    <tr>\n",
       "      <th>hold_payload_deform_t0</th>\n",
       "      <td>['dist_ee', 'ctl_dof', 'plan_path', 'trajector...</td>\n",
       "      <td>['dist_ee', 'ctl_dof', 'plan_path', 'trajector...</td>\n",
       "      <td>0.000001</td>\n",
       "      <td>193000.0</td>\n",
       "      <td>15440.0</td>\n",
       "    </tr>\n",
       "    <tr>\n",
       "      <th>plan_path_noloc_t1</th>\n",
       "      <td>['plan_path', 'trajectory', 'ctl', 'dofs', 'en...</td>\n",
       "      <td>['plan_path', 'trajectory']</td>\n",
       "      <td>0.000002</td>\n",
       "      <td>60000.0</td>\n",
       "      <td>12000.0</td>\n",
       "    </tr>\n",
       "    <tr>\n",
       "      <th>plan_path_noloc_t0</th>\n",
       "      <td>['plan_path', 'trajectory', 'ctl', 'dofs', 'en...</td>\n",
       "      <td>['plan_path', 'trajectory']</td>\n",
       "      <td>0.000002</td>\n",
       "      <td>60000.0</td>\n",
       "      <td>12000.0</td>\n",
       "    </tr>\n",
       "    <tr>\n",
       "      <th>ctl_dof_degctl_t1</th>\n",
       "      <td>['ctl_dof', 'force_gr', 'force_lg', 'ctl', 'do...</td>\n",
       "      <td>['ctl_dof']</td>\n",
       "      <td>0.000008</td>\n",
       "      <td>10000.0</td>\n",
       "      <td>8000.0</td>\n",
       "    </tr>\n",
       "    <tr>\n",
       "      <th>ctl_dof_degctl_t0</th>\n",
       "      <td>['ctl_dof', 'force_gr', 'force_lg', 'ctl', 'do...</td>\n",
       "      <td>['ctl_dof']</td>\n",
       "      <td>0.000008</td>\n",
       "      <td>10000.0</td>\n",
       "      <td>8000.0</td>\n",
       "    </tr>\n",
       "    <tr>\n",
       "      <th>affect_dof_propbreak_t0</th>\n",
       "      <td>['dist_ee', 'affect_dof', 'ctl_dof', 'plan_pat...</td>\n",
       "      <td>['dist_ee', 'affect_dof', 'ctl_dof', 'plan_pat...</td>\n",
       "      <td>0.0</td>\n",
       "      <td>183200.0</td>\n",
       "      <td>5496.0</td>\n",
       "    </tr>\n",
       "    <tr>\n",
       "      <th>affect_dof_propbreak_t1</th>\n",
       "      <td>['dist_ee', 'affect_dof', 'ctl_dof', 'plan_pat...</td>\n",
       "      <td>['dist_ee', 'affect_dof', 'ctl_dof', 'plan_pat...</td>\n",
       "      <td>0.0</td>\n",
       "      <td>183200.0</td>\n",
       "      <td>5496.0</td>\n",
       "    </tr>\n",
       "    <tr>\n",
       "      <th>affect_dof_propstuck_t0</th>\n",
       "      <td>['dist_ee', 'affect_dof', 'ctl_dof', 'plan_pat...</td>\n",
       "      <td>['dist_ee', 'affect_dof', 'ctl_dof', 'plan_pat...</td>\n",
       "      <td>0.0</td>\n",
       "      <td>183200.0</td>\n",
       "      <td>3664.0</td>\n",
       "    </tr>\n",
       "    <tr>\n",
       "      <th>affect_dof_propstuck_t1</th>\n",
       "      <td>['dist_ee', 'affect_dof', 'ctl_dof', 'plan_pat...</td>\n",
       "      <td>['dist_ee', 'affect_dof', 'ctl_dof', 'plan_pat...</td>\n",
       "      <td>0.0</td>\n",
       "      <td>183200.0</td>\n",
       "      <td>3664.0</td>\n",
       "    </tr>\n",
       "    <tr>\n",
       "      <th>hold_payload_break_t1</th>\n",
       "      <td>['dist_ee', 'ctl_dof', 'plan_path', 'trajector...</td>\n",
       "      <td>['dist_ee', 'ctl_dof', 'plan_path', 'trajector...</td>\n",
       "      <td>0.0</td>\n",
       "      <td>183000.0</td>\n",
       "      <td>3660.0</td>\n",
       "    </tr>\n",
       "    <tr>\n",
       "      <th>hold_payload_break_t0</th>\n",
       "      <td>['dist_ee', 'ctl_dof', 'plan_path', 'trajector...</td>\n",
       "      <td>['dist_ee', 'ctl_dof', 'plan_path', 'trajector...</td>\n",
       "      <td>0.0</td>\n",
       "      <td>183000.0</td>\n",
       "      <td>3660.0</td>\n",
       "    </tr>\n",
       "    <tr>\n",
       "      <th>view_env_poorview_t0</th>\n",
       "      <td>['view_env', 'env']</td>\n",
       "      <td>['view_env']</td>\n",
       "      <td>0.000002</td>\n",
       "      <td>10000.0</td>\n",
       "      <td>2000.0</td>\n",
       "    </tr>\n",
       "    <tr>\n",
       "      <th>view_env_poorview_t1</th>\n",
       "      <td>['view_env', 'env']</td>\n",
       "      <td>['view_env']</td>\n",
       "      <td>0.000002</td>\n",
       "      <td>10000.0</td>\n",
       "      <td>2000.0</td>\n",
       "    </tr>\n",
       "    <tr>\n",
       "      <th>engage_land_deform_t0</th>\n",
       "      <td>['engage_land']</td>\n",
       "      <td>['engage_land']</td>\n",
       "      <td>0.000008</td>\n",
       "      <td>1000.0</td>\n",
       "      <td>800.0</td>\n",
       "    </tr>\n",
       "    <tr>\n",
       "      <th>engage_land_deform_t1</th>\n",
       "      <td>['engage_land']</td>\n",
       "      <td>['engage_land']</td>\n",
       "      <td>0.000008</td>\n",
       "      <td>1000.0</td>\n",
       "      <td>800.0</td>\n",
       "    </tr>\n",
       "    <tr>\n",
       "      <th>hold_payload_deform_t1</th>\n",
       "      <td>['hold_payload', 'force_st', 'force_lin']</td>\n",
       "      <td>['hold_payload']</td>\n",
       "      <td>0.000001</td>\n",
       "      <td>10000.0</td>\n",
       "      <td>800.0</td>\n",
       "    </tr>\n",
       "    <tr>\n",
       "      <th>dist_ee_degr_t0</th>\n",
       "      <td>['dist_ee', 'force_gr', 'force_lg', 'ee_mot', ...</td>\n",
       "      <td>['dist_ee']</td>\n",
       "      <td>0.000005</td>\n",
       "      <td>1000.0</td>\n",
       "      <td>500.0</td>\n",
       "    </tr>\n",
       "    <tr>\n",
       "      <th>dist_ee_degr_t1</th>\n",
       "      <td>['dist_ee', 'force_gr', 'force_lg', 'ee_mot', ...</td>\n",
       "      <td>['dist_ee']</td>\n",
       "      <td>0.000005</td>\n",
       "      <td>1000.0</td>\n",
       "      <td>500.0</td>\n",
       "    </tr>\n",
       "    <tr>\n",
       "      <th>engage_land_break_t0</th>\n",
       "      <td>['engage_land']</td>\n",
       "      <td>['engage_land']</td>\n",
       "      <td>0.000002</td>\n",
       "      <td>1000.0</td>\n",
       "      <td>200.0</td>\n",
       "    </tr>\n",
       "    <tr>\n",
       "      <th>engage_land_break_t1</th>\n",
       "      <td>['engage_land']</td>\n",
       "      <td>['engage_land']</td>\n",
       "      <td>0.000002</td>\n",
       "      <td>1000.0</td>\n",
       "      <td>200.0</td>\n",
       "    </tr>\n",
       "    <tr>\n",
       "      <th>affect_dof_ctldn_t0</th>\n",
       "      <td>['affect_dof', 'force_gr', 'force_lg', 'ctl', ...</td>\n",
       "      <td>['affect_dof']</td>\n",
       "      <td>0.000002</td>\n",
       "      <td>500.0</td>\n",
       "      <td>100.0</td>\n",
       "    </tr>\n",
       "    <tr>\n",
       "      <th>affect_dof_ctldn_t1</th>\n",
       "      <td>['affect_dof', 'force_gr', 'force_lg', 'ctl', ...</td>\n",
       "      <td>['affect_dof']</td>\n",
       "      <td>0.000002</td>\n",
       "      <td>500.0</td>\n",
       "      <td>100.0</td>\n",
       "    </tr>\n",
       "    <tr>\n",
       "      <th>affect_dof_mechfriction_t1</th>\n",
       "      <td>['affect_dof', 'ee_1', 'ee_mot']</td>\n",
       "      <td>['affect_dof']</td>\n",
       "      <td>0.000001</td>\n",
       "      <td>500.0</td>\n",
       "      <td>25.0</td>\n",
       "    </tr>\n",
       "    <tr>\n",
       "      <th>affect_dof_mechfriction_t0</th>\n",
       "      <td>['affect_dof', 'ee_1', 'ee_mot']</td>\n",
       "      <td>['affect_dof']</td>\n",
       "      <td>0.000001</td>\n",
       "      <td>500.0</td>\n",
       "      <td>25.0</td>\n",
       "    </tr>\n",
       "    <tr>\n",
       "      <th>affect_dof_propwarp_t1</th>\n",
       "      <td>['affect_dof', 'force_gr', 'force_lg', 'dofs']</td>\n",
       "      <td>['affect_dof']</td>\n",
       "      <td>0.0</td>\n",
       "      <td>200.0</td>\n",
       "      <td>2.0</td>\n",
       "    </tr>\n",
       "    <tr>\n",
       "      <th>affect_dof_propwarp_t0</th>\n",
       "      <td>['affect_dof', 'force_gr', 'force_lg', 'dofs']</td>\n",
       "      <td>['affect_dof']</td>\n",
       "      <td>0.0</td>\n",
       "      <td>200.0</td>\n",
       "      <td>2.0</td>\n",
       "    </tr>\n",
       "    <tr>\n",
       "      <th>nominal</th>\n",
       "      <td>[]</td>\n",
       "      <td>[]</td>\n",
       "      <td>1.0</td>\n",
       "      <td>0.0</td>\n",
       "      <td>0.0</td>\n",
       "    </tr>\n",
       "    <tr>\n",
       "      <th>trajectory_crash_t0</th>\n",
       "      <td>['trajectory']</td>\n",
       "      <td>['trajectory']</td>\n",
       "      <td>0.0</td>\n",
       "      <td>100000.0</td>\n",
       "      <td>0.0</td>\n",
       "    </tr>\n",
       "    <tr>\n",
       "      <th>trajectory_lost_t0</th>\n",
       "      <td>['trajectory']</td>\n",
       "      <td>['trajectory']</td>\n",
       "      <td>0.0</td>\n",
       "      <td>50000.0</td>\n",
       "      <td>0.0</td>\n",
       "    </tr>\n",
       "    <tr>\n",
       "      <th>trajectory_crash_t1</th>\n",
       "      <td>['trajectory']</td>\n",
       "      <td>['trajectory']</td>\n",
       "      <td>0.0</td>\n",
       "      <td>100000.0</td>\n",
       "      <td>0.0</td>\n",
       "    </tr>\n",
       "    <tr>\n",
       "      <th>trajectory_lost_t1</th>\n",
       "      <td>['trajectory']</td>\n",
       "      <td>['trajectory']</td>\n",
       "      <td>0.0</td>\n",
       "      <td>50000.0</td>\n",
       "      <td>0.0</td>\n",
       "    </tr>\n",
       "  </tbody>\n",
       "</table>\n",
       "</div>"
      ],
      "text/plain": [
       "                                                                     degraded  \\\n",
       "store_ee_nocharge_t1        ['store_ee', 'dist_ee', 'ctl_dof', 'plan_path'...   \n",
       "store_ee_nocharge_t0        ['store_ee', 'dist_ee', 'ctl_dof', 'plan_path'...   \n",
       "plan_path_degloc_t1         ['dist_ee', 'ctl_dof', 'plan_path', 'trajector...   \n",
       "plan_path_degloc_t0         ['dist_ee', 'ctl_dof', 'plan_path', 'trajector...   \n",
       "dist_ee_short_t0            ['dist_ee', 'ctl_dof', 'plan_path', 'trajector...   \n",
       "dist_ee_short_t1            ['dist_ee', 'ctl_dof', 'plan_path', 'trajector...   \n",
       "affect_dof_ctlbreak_t0      ['dist_ee', 'affect_dof', 'ctl_dof', 'plan_pat...   \n",
       "affect_dof_ctlbreak_t1      ['dist_ee', 'affect_dof', 'ctl_dof', 'plan_pat...   \n",
       "affect_dof_ctlup_t1         ['dist_ee', 'affect_dof', 'ctl_dof', 'plan_pat...   \n",
       "affect_dof_ctlup_t0         ['dist_ee', 'affect_dof', 'ctl_dof', 'plan_pat...   \n",
       "ctl_dof_noctl_t0            ['dist_ee', 'ctl_dof', 'plan_path', 'trajector...   \n",
       "dist_ee_break_t0            ['dist_ee', 'ctl_dof', 'plan_path', 'trajector...   \n",
       "dist_ee_break_t1            ['dist_ee', 'ctl_dof', 'plan_path', 'trajector...   \n",
       "ctl_dof_noctl_t1            ['dist_ee', 'ctl_dof', 'plan_path', 'trajector...   \n",
       "affect_dof_mechbreak_t0     ['dist_ee', 'affect_dof', 'ctl_dof', 'plan_pat...   \n",
       "affect_dof_mechbreak_t1     ['dist_ee', 'affect_dof', 'ctl_dof', 'plan_pat...   \n",
       "affect_dof_short_t1         ['dist_ee', 'affect_dof', 'ctl_dof', 'plan_pat...   \n",
       "affect_dof_openc_t1         ['dist_ee', 'affect_dof', 'ctl_dof', 'plan_pat...   \n",
       "affect_dof_openc_t0         ['dist_ee', 'affect_dof', 'ctl_dof', 'plan_pat...   \n",
       "affect_dof_short_t0         ['dist_ee', 'affect_dof', 'ctl_dof', 'plan_pat...   \n",
       "hold_payload_deform_t0      ['dist_ee', 'ctl_dof', 'plan_path', 'trajector...   \n",
       "plan_path_noloc_t1          ['plan_path', 'trajectory', 'ctl', 'dofs', 'en...   \n",
       "plan_path_noloc_t0          ['plan_path', 'trajectory', 'ctl', 'dofs', 'en...   \n",
       "ctl_dof_degctl_t1           ['ctl_dof', 'force_gr', 'force_lg', 'ctl', 'do...   \n",
       "ctl_dof_degctl_t0           ['ctl_dof', 'force_gr', 'force_lg', 'ctl', 'do...   \n",
       "affect_dof_propbreak_t0     ['dist_ee', 'affect_dof', 'ctl_dof', 'plan_pat...   \n",
       "affect_dof_propbreak_t1     ['dist_ee', 'affect_dof', 'ctl_dof', 'plan_pat...   \n",
       "affect_dof_propstuck_t0     ['dist_ee', 'affect_dof', 'ctl_dof', 'plan_pat...   \n",
       "affect_dof_propstuck_t1     ['dist_ee', 'affect_dof', 'ctl_dof', 'plan_pat...   \n",
       "hold_payload_break_t1       ['dist_ee', 'ctl_dof', 'plan_path', 'trajector...   \n",
       "hold_payload_break_t0       ['dist_ee', 'ctl_dof', 'plan_path', 'trajector...   \n",
       "view_env_poorview_t0                                      ['view_env', 'env']   \n",
       "view_env_poorview_t1                                      ['view_env', 'env']   \n",
       "engage_land_deform_t0                                         ['engage_land']   \n",
       "engage_land_deform_t1                                         ['engage_land']   \n",
       "hold_payload_deform_t1              ['hold_payload', 'force_st', 'force_lin']   \n",
       "dist_ee_degr_t0             ['dist_ee', 'force_gr', 'force_lg', 'ee_mot', ...   \n",
       "dist_ee_degr_t1             ['dist_ee', 'force_gr', 'force_lg', 'ee_mot', ...   \n",
       "engage_land_break_t0                                          ['engage_land']   \n",
       "engage_land_break_t1                                          ['engage_land']   \n",
       "affect_dof_ctldn_t0         ['affect_dof', 'force_gr', 'force_lg', 'ctl', ...   \n",
       "affect_dof_ctldn_t1         ['affect_dof', 'force_gr', 'force_lg', 'ctl', ...   \n",
       "affect_dof_mechfriction_t1                   ['affect_dof', 'ee_1', 'ee_mot']   \n",
       "affect_dof_mechfriction_t0                   ['affect_dof', 'ee_1', 'ee_mot']   \n",
       "affect_dof_propwarp_t1         ['affect_dof', 'force_gr', 'force_lg', 'dofs']   \n",
       "affect_dof_propwarp_t0         ['affect_dof', 'force_gr', 'force_lg', 'dofs']   \n",
       "nominal                                                                    []   \n",
       "trajectory_crash_t0                                            ['trajectory']   \n",
       "trajectory_lost_t0                                             ['trajectory']   \n",
       "trajectory_crash_t1                                            ['trajectory']   \n",
       "trajectory_lost_t1                                             ['trajectory']   \n",
       "\n",
       "                                                                       faulty  \\\n",
       "store_ee_nocharge_t1        ['store_ee', 'dist_ee', 'ctl_dof', 'plan_path'...   \n",
       "store_ee_nocharge_t0        ['store_ee', 'dist_ee', 'ctl_dof', 'plan_path'...   \n",
       "plan_path_degloc_t1         ['dist_ee', 'ctl_dof', 'plan_path', 'trajector...   \n",
       "plan_path_degloc_t0         ['dist_ee', 'ctl_dof', 'plan_path', 'trajector...   \n",
       "dist_ee_short_t0            ['dist_ee', 'ctl_dof', 'plan_path', 'trajector...   \n",
       "dist_ee_short_t1            ['dist_ee', 'ctl_dof', 'plan_path', 'trajector...   \n",
       "affect_dof_ctlbreak_t0      ['dist_ee', 'affect_dof', 'ctl_dof', 'plan_pat...   \n",
       "affect_dof_ctlbreak_t1      ['dist_ee', 'affect_dof', 'ctl_dof', 'plan_pat...   \n",
       "affect_dof_ctlup_t1         ['dist_ee', 'affect_dof', 'ctl_dof', 'plan_pat...   \n",
       "affect_dof_ctlup_t0         ['dist_ee', 'affect_dof', 'ctl_dof', 'plan_pat...   \n",
       "ctl_dof_noctl_t0            ['dist_ee', 'ctl_dof', 'plan_path', 'trajector...   \n",
       "dist_ee_break_t0            ['dist_ee', 'ctl_dof', 'plan_path', 'trajector...   \n",
       "dist_ee_break_t1            ['dist_ee', 'ctl_dof', 'plan_path', 'trajector...   \n",
       "ctl_dof_noctl_t1            ['dist_ee', 'ctl_dof', 'plan_path', 'trajector...   \n",
       "affect_dof_mechbreak_t0     ['dist_ee', 'affect_dof', 'ctl_dof', 'plan_pat...   \n",
       "affect_dof_mechbreak_t1     ['dist_ee', 'affect_dof', 'ctl_dof', 'plan_pat...   \n",
       "affect_dof_short_t1         ['dist_ee', 'affect_dof', 'ctl_dof', 'plan_pat...   \n",
       "affect_dof_openc_t1         ['dist_ee', 'affect_dof', 'ctl_dof', 'plan_pat...   \n",
       "affect_dof_openc_t0         ['dist_ee', 'affect_dof', 'ctl_dof', 'plan_pat...   \n",
       "affect_dof_short_t0         ['dist_ee', 'affect_dof', 'ctl_dof', 'plan_pat...   \n",
       "hold_payload_deform_t0      ['dist_ee', 'ctl_dof', 'plan_path', 'trajector...   \n",
       "plan_path_noloc_t1                                ['plan_path', 'trajectory']   \n",
       "plan_path_noloc_t0                                ['plan_path', 'trajectory']   \n",
       "ctl_dof_degctl_t1                                                 ['ctl_dof']   \n",
       "ctl_dof_degctl_t0                                                 ['ctl_dof']   \n",
       "affect_dof_propbreak_t0     ['dist_ee', 'affect_dof', 'ctl_dof', 'plan_pat...   \n",
       "affect_dof_propbreak_t1     ['dist_ee', 'affect_dof', 'ctl_dof', 'plan_pat...   \n",
       "affect_dof_propstuck_t0     ['dist_ee', 'affect_dof', 'ctl_dof', 'plan_pat...   \n",
       "affect_dof_propstuck_t1     ['dist_ee', 'affect_dof', 'ctl_dof', 'plan_pat...   \n",
       "hold_payload_break_t1       ['dist_ee', 'ctl_dof', 'plan_path', 'trajector...   \n",
       "hold_payload_break_t0       ['dist_ee', 'ctl_dof', 'plan_path', 'trajector...   \n",
       "view_env_poorview_t0                                             ['view_env']   \n",
       "view_env_poorview_t1                                             ['view_env']   \n",
       "engage_land_deform_t0                                         ['engage_land']   \n",
       "engage_land_deform_t1                                         ['engage_land']   \n",
       "hold_payload_deform_t1                                       ['hold_payload']   \n",
       "dist_ee_degr_t0                                                   ['dist_ee']   \n",
       "dist_ee_degr_t1                                                   ['dist_ee']   \n",
       "engage_land_break_t0                                          ['engage_land']   \n",
       "engage_land_break_t1                                          ['engage_land']   \n",
       "affect_dof_ctldn_t0                                            ['affect_dof']   \n",
       "affect_dof_ctldn_t1                                            ['affect_dof']   \n",
       "affect_dof_mechfriction_t1                                     ['affect_dof']   \n",
       "affect_dof_mechfriction_t0                                     ['affect_dof']   \n",
       "affect_dof_propwarp_t1                                         ['affect_dof']   \n",
       "affect_dof_propwarp_t0                                         ['affect_dof']   \n",
       "nominal                                                                    []   \n",
       "trajectory_crash_t0                                            ['trajectory']   \n",
       "trajectory_lost_t0                                             ['trajectory']   \n",
       "trajectory_crash_t1                                            ['trajectory']   \n",
       "trajectory_lost_t1                                             ['trajectory']   \n",
       "\n",
       "                                rate      cost expected cost  \n",
       "store_ee_nocharge_t1         0.00001  183300.0      183300.0  \n",
       "store_ee_nocharge_t0         0.00001  183300.0      183300.0  \n",
       "plan_path_degloc_t1         0.000008  193000.0      154400.0  \n",
       "plan_path_degloc_t0         0.000008  193000.0      154400.0  \n",
       "dist_ee_short_t0            0.000003  186000.0       55800.0  \n",
       "dist_ee_short_t1            0.000003  186000.0       55800.0  \n",
       "affect_dof_ctlbreak_t0      0.000002  184000.0       36800.0  \n",
       "affect_dof_ctlbreak_t1      0.000002  184000.0       36800.0  \n",
       "affect_dof_ctlup_t1         0.000002  183500.0       36700.0  \n",
       "affect_dof_ctlup_t0         0.000002  183500.0       36700.0  \n",
       "ctl_dof_noctl_t0            0.000002  183000.0       36600.0  \n",
       "dist_ee_break_t0            0.000002  183000.0       36600.0  \n",
       "dist_ee_break_t1            0.000002  183000.0       36600.0  \n",
       "ctl_dof_noctl_t1            0.000002  183000.0       36600.0  \n",
       "affect_dof_mechbreak_t0     0.000001  183500.0       18350.0  \n",
       "affect_dof_mechbreak_t1     0.000001  183500.0       18350.0  \n",
       "affect_dof_short_t1         0.000001  183200.0       18320.0  \n",
       "affect_dof_openc_t1         0.000001  183200.0       18320.0  \n",
       "affect_dof_openc_t0         0.000001  183200.0       18320.0  \n",
       "affect_dof_short_t0         0.000001  183200.0       18320.0  \n",
       "hold_payload_deform_t0      0.000001  193000.0       15440.0  \n",
       "plan_path_noloc_t1          0.000002   60000.0       12000.0  \n",
       "plan_path_noloc_t0          0.000002   60000.0       12000.0  \n",
       "ctl_dof_degctl_t1           0.000008   10000.0        8000.0  \n",
       "ctl_dof_degctl_t0           0.000008   10000.0        8000.0  \n",
       "affect_dof_propbreak_t0          0.0  183200.0        5496.0  \n",
       "affect_dof_propbreak_t1          0.0  183200.0        5496.0  \n",
       "affect_dof_propstuck_t0          0.0  183200.0        3664.0  \n",
       "affect_dof_propstuck_t1          0.0  183200.0        3664.0  \n",
       "hold_payload_break_t1            0.0  183000.0        3660.0  \n",
       "hold_payload_break_t0            0.0  183000.0        3660.0  \n",
       "view_env_poorview_t0        0.000002   10000.0        2000.0  \n",
       "view_env_poorview_t1        0.000002   10000.0        2000.0  \n",
       "engage_land_deform_t0       0.000008    1000.0         800.0  \n",
       "engage_land_deform_t1       0.000008    1000.0         800.0  \n",
       "hold_payload_deform_t1      0.000001   10000.0         800.0  \n",
       "dist_ee_degr_t0             0.000005    1000.0         500.0  \n",
       "dist_ee_degr_t1             0.000005    1000.0         500.0  \n",
       "engage_land_break_t0        0.000002    1000.0         200.0  \n",
       "engage_land_break_t1        0.000002    1000.0         200.0  \n",
       "affect_dof_ctldn_t0         0.000002     500.0         100.0  \n",
       "affect_dof_ctldn_t1         0.000002     500.0         100.0  \n",
       "affect_dof_mechfriction_t1  0.000001     500.0          25.0  \n",
       "affect_dof_mechfriction_t0  0.000001     500.0          25.0  \n",
       "affect_dof_propwarp_t1           0.0     200.0           2.0  \n",
       "affect_dof_propwarp_t0           0.0     200.0           2.0  \n",
       "nominal                          1.0       0.0           0.0  \n",
       "trajectory_crash_t0              0.0  100000.0           0.0  \n",
       "trajectory_lost_t0               0.0   50000.0           0.0  \n",
       "trajectory_crash_t1              0.0  100000.0           0.0  \n",
       "trajectory_lost_t1               0.0   50000.0           0.0  "
      ]
     },
     "execution_count": 21,
     "metadata": {},
     "output_type": "execute_result"
    }
   ],
   "source": [
    "static_fmea = an.tabulate.result_summary_fmea(endclasses, mdlhists, *static_mdl.fxns, *static_mdl.flows)\n",
    "static_fmea.sort_values('expected cost', ascending=False)"
   ]
  },
  {
   "cell_type": "code",
   "execution_count": 22,
   "metadata": {
    "execution": {
     "iopub.execute_input": "2023-08-04T16:21:36.997091Z",
     "iopub.status.busy": "2023-08-04T16:21:36.997091Z",
     "iopub.status.idle": "2023-08-04T16:21:37.024398Z",
     "shell.execute_reply": "2023-08-04T16:21:37.023400Z"
    }
   },
   "outputs": [
    {
     "name": "stdout",
     "output_type": "stream",
     "text": [
      "\\begin{tabular}{llllll}\n",
      "\\toprule\n",
      "{} &                                           degraded &                                             faulty &      rate &      cost & expected cost \\\\\n",
      "\\midrule\n",
      "store\\_ee\\_nocharge\\_t1       &  ['store\\_ee', 'dist\\_ee', 'ctl\\_dof', 'plan\\_path'... &  ['store\\_ee', 'dist\\_ee', 'ctl\\_dof', 'plan\\_path'... &   0.00001 &  183300.0 &      183300.0 \\\\\n",
      "store\\_ee\\_nocharge\\_t0       &  ['store\\_ee', 'dist\\_ee', 'ctl\\_dof', 'plan\\_path'... &  ['store\\_ee', 'dist\\_ee', 'ctl\\_dof', 'plan\\_path'... &   0.00001 &  183300.0 &      183300.0 \\\\\n",
      "plan\\_path\\_degloc\\_t1        &  ['dist\\_ee', 'ctl\\_dof', 'plan\\_path', 'trajector... &  ['dist\\_ee', 'ctl\\_dof', 'plan\\_path', 'trajector... &  0.000008 &  193000.0 &      154400.0 \\\\\n",
      "plan\\_path\\_degloc\\_t0        &  ['dist\\_ee', 'ctl\\_dof', 'plan\\_path', 'trajector... &  ['dist\\_ee', 'ctl\\_dof', 'plan\\_path', 'trajector... &  0.000008 &  193000.0 &      154400.0 \\\\\n",
      "dist\\_ee\\_short\\_t0           &  ['dist\\_ee', 'ctl\\_dof', 'plan\\_path', 'trajector... &  ['dist\\_ee', 'ctl\\_dof', 'plan\\_path', 'trajector... &  0.000003 &  186000.0 &       55800.0 \\\\\n",
      "dist\\_ee\\_short\\_t1           &  ['dist\\_ee', 'ctl\\_dof', 'plan\\_path', 'trajector... &  ['dist\\_ee', 'ctl\\_dof', 'plan\\_path', 'trajector... &  0.000003 &  186000.0 &       55800.0 \\\\\n",
      "affect\\_dof\\_ctlbreak\\_t0     &  ['dist\\_ee', 'affect\\_dof', 'ctl\\_dof', 'plan\\_pat... &  ['dist\\_ee', 'affect\\_dof', 'ctl\\_dof', 'plan\\_pat... &  0.000002 &  184000.0 &       36800.0 \\\\\n",
      "affect\\_dof\\_ctlbreak\\_t1     &  ['dist\\_ee', 'affect\\_dof', 'ctl\\_dof', 'plan\\_pat... &  ['dist\\_ee', 'affect\\_dof', 'ctl\\_dof', 'plan\\_pat... &  0.000002 &  184000.0 &       36800.0 \\\\\n",
      "affect\\_dof\\_ctlup\\_t1        &  ['dist\\_ee', 'affect\\_dof', 'ctl\\_dof', 'plan\\_pat... &  ['dist\\_ee', 'affect\\_dof', 'ctl\\_dof', 'plan\\_pat... &  0.000002 &  183500.0 &       36700.0 \\\\\n",
      "affect\\_dof\\_ctlup\\_t0        &  ['dist\\_ee', 'affect\\_dof', 'ctl\\_dof', 'plan\\_pat... &  ['dist\\_ee', 'affect\\_dof', 'ctl\\_dof', 'plan\\_pat... &  0.000002 &  183500.0 &       36700.0 \\\\\n",
      "ctl\\_dof\\_noctl\\_t0           &  ['dist\\_ee', 'ctl\\_dof', 'plan\\_path', 'trajector... &  ['dist\\_ee', 'ctl\\_dof', 'plan\\_path', 'trajector... &  0.000002 &  183000.0 &       36600.0 \\\\\n",
      "dist\\_ee\\_break\\_t0           &  ['dist\\_ee', 'ctl\\_dof', 'plan\\_path', 'trajector... &  ['dist\\_ee', 'ctl\\_dof', 'plan\\_path', 'trajector... &  0.000002 &  183000.0 &       36600.0 \\\\\n",
      "dist\\_ee\\_break\\_t1           &  ['dist\\_ee', 'ctl\\_dof', 'plan\\_path', 'trajector... &  ['dist\\_ee', 'ctl\\_dof', 'plan\\_path', 'trajector... &  0.000002 &  183000.0 &       36600.0 \\\\\n",
      "ctl\\_dof\\_noctl\\_t1           &  ['dist\\_ee', 'ctl\\_dof', 'plan\\_path', 'trajector... &  ['dist\\_ee', 'ctl\\_dof', 'plan\\_path', 'trajector... &  0.000002 &  183000.0 &       36600.0 \\\\\n",
      "affect\\_dof\\_mechbreak\\_t0    &  ['dist\\_ee', 'affect\\_dof', 'ctl\\_dof', 'plan\\_pat... &  ['dist\\_ee', 'affect\\_dof', 'ctl\\_dof', 'plan\\_pat... &  0.000001 &  183500.0 &       18350.0 \\\\\n",
      "affect\\_dof\\_mechbreak\\_t1    &  ['dist\\_ee', 'affect\\_dof', 'ctl\\_dof', 'plan\\_pat... &  ['dist\\_ee', 'affect\\_dof', 'ctl\\_dof', 'plan\\_pat... &  0.000001 &  183500.0 &       18350.0 \\\\\n",
      "affect\\_dof\\_short\\_t1        &  ['dist\\_ee', 'affect\\_dof', 'ctl\\_dof', 'plan\\_pat... &  ['dist\\_ee', 'affect\\_dof', 'ctl\\_dof', 'plan\\_pat... &  0.000001 &  183200.0 &       18320.0 \\\\\n",
      "affect\\_dof\\_openc\\_t1        &  ['dist\\_ee', 'affect\\_dof', 'ctl\\_dof', 'plan\\_pat... &  ['dist\\_ee', 'affect\\_dof', 'ctl\\_dof', 'plan\\_pat... &  0.000001 &  183200.0 &       18320.0 \\\\\n",
      "affect\\_dof\\_openc\\_t0        &  ['dist\\_ee', 'affect\\_dof', 'ctl\\_dof', 'plan\\_pat... &  ['dist\\_ee', 'affect\\_dof', 'ctl\\_dof', 'plan\\_pat... &  0.000001 &  183200.0 &       18320.0 \\\\\n",
      "affect\\_dof\\_short\\_t0        &  ['dist\\_ee', 'affect\\_dof', 'ctl\\_dof', 'plan\\_pat... &  ['dist\\_ee', 'affect\\_dof', 'ctl\\_dof', 'plan\\_pat... &  0.000001 &  183200.0 &       18320.0 \\\\\n",
      "hold\\_payload\\_deform\\_t0     &  ['dist\\_ee', 'ctl\\_dof', 'plan\\_path', 'trajector... &  ['dist\\_ee', 'ctl\\_dof', 'plan\\_path', 'trajector... &  0.000001 &  193000.0 &       15440.0 \\\\\n",
      "plan\\_path\\_noloc\\_t1         &  ['plan\\_path', 'trajectory', 'ctl', 'dofs', 'en... &                        ['plan\\_path', 'trajectory'] &  0.000002 &   60000.0 &       12000.0 \\\\\n",
      "plan\\_path\\_noloc\\_t0         &  ['plan\\_path', 'trajectory', 'ctl', 'dofs', 'en... &                        ['plan\\_path', 'trajectory'] &  0.000002 &   60000.0 &       12000.0 \\\\\n",
      "ctl\\_dof\\_degctl\\_t1          &  ['ctl\\_dof', 'force\\_gr', 'force\\_lg', 'ctl', 'do... &                                        ['ctl\\_dof'] &  0.000008 &   10000.0 &        8000.0 \\\\\n",
      "ctl\\_dof\\_degctl\\_t0          &  ['ctl\\_dof', 'force\\_gr', 'force\\_lg', 'ctl', 'do... &                                        ['ctl\\_dof'] &  0.000008 &   10000.0 &        8000.0 \\\\\n",
      "affect\\_dof\\_propbreak\\_t0    &  ['dist\\_ee', 'affect\\_dof', 'ctl\\_dof', 'plan\\_pat... &  ['dist\\_ee', 'affect\\_dof', 'ctl\\_dof', 'plan\\_pat... &       0.0 &  183200.0 &        5496.0 \\\\\n",
      "affect\\_dof\\_propbreak\\_t1    &  ['dist\\_ee', 'affect\\_dof', 'ctl\\_dof', 'plan\\_pat... &  ['dist\\_ee', 'affect\\_dof', 'ctl\\_dof', 'plan\\_pat... &       0.0 &  183200.0 &        5496.0 \\\\\n",
      "affect\\_dof\\_propstuck\\_t0    &  ['dist\\_ee', 'affect\\_dof', 'ctl\\_dof', 'plan\\_pat... &  ['dist\\_ee', 'affect\\_dof', 'ctl\\_dof', 'plan\\_pat... &       0.0 &  183200.0 &        3664.0 \\\\\n",
      "affect\\_dof\\_propstuck\\_t1    &  ['dist\\_ee', 'affect\\_dof', 'ctl\\_dof', 'plan\\_pat... &  ['dist\\_ee', 'affect\\_dof', 'ctl\\_dof', 'plan\\_pat... &       0.0 &  183200.0 &        3664.0 \\\\\n",
      "hold\\_payload\\_break\\_t1      &  ['dist\\_ee', 'ctl\\_dof', 'plan\\_path', 'trajector... &  ['dist\\_ee', 'ctl\\_dof', 'plan\\_path', 'trajector... &       0.0 &  183000.0 &        3660.0 \\\\\n",
      "hold\\_payload\\_break\\_t0      &  ['dist\\_ee', 'ctl\\_dof', 'plan\\_path', 'trajector... &  ['dist\\_ee', 'ctl\\_dof', 'plan\\_path', 'trajector... &       0.0 &  183000.0 &        3660.0 \\\\\n",
      "view\\_env\\_poorview\\_t0       &                                ['view\\_env', 'env'] &                                       ['view\\_env'] &  0.000002 &   10000.0 &        2000.0 \\\\\n",
      "view\\_env\\_poorview\\_t1       &                                ['view\\_env', 'env'] &                                       ['view\\_env'] &  0.000002 &   10000.0 &        2000.0 \\\\\n",
      "engage\\_land\\_deform\\_t0      &                                    ['engage\\_land'] &                                    ['engage\\_land'] &  0.000008 &    1000.0 &         800.0 \\\\\n",
      "engage\\_land\\_deform\\_t1      &                                    ['engage\\_land'] &                                    ['engage\\_land'] &  0.000008 &    1000.0 &         800.0 \\\\\n",
      "hold\\_payload\\_deform\\_t1     &          ['hold\\_payload', 'force\\_st', 'force\\_lin'] &                                   ['hold\\_payload'] &  0.000001 &   10000.0 &         800.0 \\\\\n",
      "dist\\_ee\\_degr\\_t0            &  ['dist\\_ee', 'force\\_gr', 'force\\_lg', 'ee\\_mot', ... &                                        ['dist\\_ee'] &  0.000005 &    1000.0 &         500.0 \\\\\n",
      "dist\\_ee\\_degr\\_t1            &  ['dist\\_ee', 'force\\_gr', 'force\\_lg', 'ee\\_mot', ... &                                        ['dist\\_ee'] &  0.000005 &    1000.0 &         500.0 \\\\\n",
      "engage\\_land\\_break\\_t0       &                                    ['engage\\_land'] &                                    ['engage\\_land'] &  0.000002 &    1000.0 &         200.0 \\\\\n",
      "engage\\_land\\_break\\_t1       &                                    ['engage\\_land'] &                                    ['engage\\_land'] &  0.000002 &    1000.0 &         200.0 \\\\\n",
      "affect\\_dof\\_ctldn\\_t0        &  ['affect\\_dof', 'force\\_gr', 'force\\_lg', 'ctl', ... &                                     ['affect\\_dof'] &  0.000002 &     500.0 &         100.0 \\\\\n",
      "affect\\_dof\\_ctldn\\_t1        &  ['affect\\_dof', 'force\\_gr', 'force\\_lg', 'ctl', ... &                                     ['affect\\_dof'] &  0.000002 &     500.0 &         100.0 \\\\\n",
      "affect\\_dof\\_mechfriction\\_t1 &                   ['affect\\_dof', 'ee\\_1', 'ee\\_mot'] &                                     ['affect\\_dof'] &  0.000001 &     500.0 &          25.0 \\\\\n",
      "affect\\_dof\\_mechfriction\\_t0 &                   ['affect\\_dof', 'ee\\_1', 'ee\\_mot'] &                                     ['affect\\_dof'] &  0.000001 &     500.0 &          25.0 \\\\\n",
      "affect\\_dof\\_propwarp\\_t1     &     ['affect\\_dof', 'force\\_gr', 'force\\_lg', 'dofs'] &                                     ['affect\\_dof'] &       0.0 &     200.0 &           2.0 \\\\\n",
      "affect\\_dof\\_propwarp\\_t0     &     ['affect\\_dof', 'force\\_gr', 'force\\_lg', 'dofs'] &                                     ['affect\\_dof'] &       0.0 &     200.0 &           2.0 \\\\\n",
      "nominal                    &                                                 [] &                                                 [] &       1.0 &       0.0 &           0.0 \\\\\n",
      "trajectory\\_crash\\_t0        &                                     ['trajectory'] &                                     ['trajectory'] &       0.0 &  100000.0 &           0.0 \\\\\n",
      "trajectory\\_lost\\_t0         &                                     ['trajectory'] &                                     ['trajectory'] &       0.0 &   50000.0 &           0.0 \\\\\n",
      "trajectory\\_crash\\_t1        &                                     ['trajectory'] &                                     ['trajectory'] &       0.0 &  100000.0 &           0.0 \\\\\n",
      "trajectory\\_lost\\_t1         &                                     ['trajectory'] &                                     ['trajectory'] &       0.0 &   50000.0 &           0.0 \\\\\n",
      "\\bottomrule\n",
      "\\end{tabular}\n",
      "\n"
     ]
    }
   ],
   "source": [
    "print(static_fmea.sort_values('expected cost', ascending=False).to_latex())"
   ]
  },
  {
   "attachments": {},
   "cell_type": "markdown",
   "metadata": {},
   "source": [
    "We can in turn visualize these faults on the graph representation of the system. Here we will focus on the break of one of the rotors in the AffectDOF function, the effects of which are shown below:"
   ]
  },
  {
   "cell_type": "code",
   "execution_count": 23,
   "metadata": {
    "execution": {
     "iopub.execute_input": "2023-08-04T16:21:37.027389Z",
     "iopub.status.busy": "2023-08-04T16:21:37.027389Z",
     "iopub.status.idle": "2023-08-04T16:21:37.586619Z",
     "shell.execute_reply": "2023-08-04T16:21:37.585617Z"
    }
   },
   "outputs": [
    {
     "data": {
      "image/png": "[encoded data removed]",
      "text/plain": [
       "<Figure size 864x720 with 1 Axes>"
      ]
     },
     "metadata": {},
     "output_type": "display_data"
    }
   ],
   "source": [
    "static_mdl = Drone_Static()\n",
    "result, mdlhist = fs.propagate.one_fault(static_mdl,'affect_dof', 'mechbreak', t=0, desired_result='graph')\n",
    "\n",
    "result.graph.set_edge_labels(title='')\n",
    "fig, ax = result.graph.draw(title = 'AffectDOF: Mechbreak at final sim time')\n",
    "#fig.savefig('static_propagation.pdf', format=\"pdf\", bbox_inches = 'tight', pad_inches = 0)"
   ]
  },
  {
   "attachments": {},
   "cell_type": "markdown",
   "metadata": {},
   "source": [
    "## Dynamic Model\n",
    "\n",
    "In the dynamic model, we add time ranges and dynamic behaviors to generate behavior-over-time graphs and dynamic/phase-based FMEAs.\n",
    "\n",
    "This model is located in `drone_mdl_dynamic.py`."
   ]
  },
  {
   "cell_type": "code",
   "execution_count": 24,
   "metadata": {
    "execution": {
     "iopub.execute_input": "2023-08-04T16:21:37.589644Z",
     "iopub.status.busy": "2023-08-04T16:21:37.588647Z",
     "iopub.status.idle": "2023-08-04T16:21:37.618091Z",
     "shell.execute_reply": "2023-08-04T16:21:37.617055Z"
    }
   },
   "outputs": [],
   "source": [
    "from drone_mdl_dynamic import Drone as Drone_Dynamic"
   ]
  },
  {
   "attachments": {},
   "cell_type": "markdown",
   "metadata": {},
   "source": [
    "Here we can see how the system operates over time in the nominal case:"
   ]
  },
  {
   "cell_type": "code",
   "execution_count": 25,
   "metadata": {
    "execution": {
     "iopub.execute_input": "2023-08-04T16:21:37.620887Z",
     "iopub.status.busy": "2023-08-04T16:21:37.620887Z",
     "iopub.status.idle": "2023-08-04T16:21:38.820262Z",
     "shell.execute_reply": "2023-08-04T16:21:38.819255Z"
    }
   },
   "outputs": [],
   "source": [
    "# Note: because of the complicated functions, the model must be re-instantiated for each function in order to work in this case\n",
    "\n",
    "dynamic_mdl = Drone_Dynamic()\n",
    "endclass, mdlhist = fs.propagate.nominal(dynamic_mdl)"
   ]
  },
  {
   "cell_type": "code",
   "execution_count": 26,
   "metadata": {
    "execution": {
     "iopub.execute_input": "2023-08-04T16:21:38.822377Z",
     "iopub.status.busy": "2023-08-04T16:21:38.822377Z",
     "iopub.status.idle": "2023-08-04T16:21:39.917999Z",
     "shell.execute_reply": "2023-08-04T16:21:39.917999Z"
    }
   },
   "outputs": [
    {
     "data": {
      "image/png": "[encoded data removed]",
      "text/plain": [
       "<Figure size 432x864 with 12 Axes>"
      ]
     },
     "metadata": {
      "needs_background": "light"
     },
     "output_type": "display_data"
    }
   ],
   "source": [
    "fig, ax = an.plot.hist(mdlhist,'fxns.store_ee.s.soc',\n",
    "                       'flows.env.s.x',\n",
    "                       'flows.env.s.y',\n",
    "                       'flows.env.s.z',\n",
    "                       'flows.dofs.s.planvel',\n",
    "                       'flows.dofs.s.vertvel',\n",
    "                      'flows.dir.s.x',\n",
    "                      'flows.dir.s.y',\n",
    "                      'fxns.plan_path.s.dx',\n",
    "                       'fxns.plan_path.s.dy',\n",
    "                      'fxns.plan_path.m.mode')"
   ]
  },
  {
   "attachments": {},
   "cell_type": "markdown",
   "metadata": {},
   "source": [
    "As shown below, in the case of the break in the AffectDOF function, the system crashes:"
   ]
  },
  {
   "cell_type": "code",
   "execution_count": 27,
   "metadata": {
    "execution": {
     "iopub.execute_input": "2023-08-04T16:21:39.921609Z",
     "iopub.status.busy": "2023-08-04T16:21:39.921609Z",
     "iopub.status.idle": "2023-08-04T16:21:42.634231Z",
     "shell.execute_reply": "2023-08-04T16:21:42.633282Z"
    }
   },
   "outputs": [],
   "source": [
    "dynamic_mdl = Drone_Dynamic()\n",
    "endclass, mdlhist = fs.propagate.one_fault(dynamic_mdl,'affect_dof', 'mechbreak', time=50)"
   ]
  },
  {
   "cell_type": "code",
   "execution_count": 28,
   "metadata": {
    "execution": {
     "iopub.execute_input": "2023-08-04T16:21:42.636261Z",
     "iopub.status.busy": "2023-08-04T16:21:42.636261Z",
     "iopub.status.idle": "2023-08-04T16:21:43.243700Z",
     "shell.execute_reply": "2023-08-04T16:21:43.242709Z"
    }
   },
   "outputs": [
    {
     "data": {
      "image/png": "[encoded data removed]",
      "text/plain": [
       "<Figure size 432x288 with 4 Axes>"
      ]
     },
     "metadata": {
      "needs_background": "light"
     },
     "output_type": "display_data"
    }
   ],
   "source": [
    "fig, axs = an.plot.hist(mdlhist, 'env.s.x','env.s.y','env.s.z', 'store_ee.s.soc',\n",
    "                         title ='Drone Response to AffectDOF mechbreak', time_slice=50, \n",
    "                        ylabels={'env.s.x':'m','env.s.y':'m','env.s.z':'m','store_ee.s.soc':'%'},\\\n",
    "                        h_padding=0.3, legend_loc=2, xlabel='time (s)')\n",
    "\n",
    "fig.savefig(\"fault_behavior.pdf\", format=\"pdf\", bbox_inches = 'tight', pad_inches = 0)"
   ]
  },
  {
   "attachments": {},
   "cell_type": "markdown",
   "metadata": {},
   "source": [
    "Finally, we can see how the cost function of this scenario changes over time. As shown, when the fault is injected early, it has a lower cost because it crashes at the landing pad and not in a dangerous area. When it is injected at the end, the cost is minimal because the drone has already landed."
   ]
  },
  {
   "cell_type": "code",
   "execution_count": 29,
   "metadata": {
    "execution": {
     "iopub.execute_input": "2023-08-04T16:21:43.246694Z",
     "iopub.status.busy": "2023-08-04T16:21:43.245697Z",
     "iopub.status.idle": "2023-08-04T16:21:56.085591Z",
     "shell.execute_reply": "2023-08-04T16:21:56.085591Z"
    }
   },
   "outputs": [
    {
     "name": "stderr",
     "output_type": "stream",
     "text": [
      "\r",
      "SCENARIOS COMPLETE:   0%|          | 0/16 [00:00<?, ?it/s]"
     ]
    },
    {
     "name": "stderr",
     "output_type": "stream",
     "text": [
      "\r",
      "SCENARIOS COMPLETE:   6%|▋         | 1/16 [00:01<00:17,  1.15s/it]"
     ]
    },
    {
     "name": "stderr",
     "output_type": "stream",
     "text": [
      "\r",
      "SCENARIOS COMPLETE:  12%|█▎        | 2/16 [00:02<00:16,  1.15s/it]"
     ]
    },
    {
     "name": "stderr",
     "output_type": "stream",
     "text": [
      "\r",
      "SCENARIOS COMPLETE:  19%|█▉        | 3/16 [00:03<00:14,  1.13s/it]"
     ]
    },
    {
     "name": "stderr",
     "output_type": "stream",
     "text": [
      "\r",
      "SCENARIOS COMPLETE:  25%|██▌       | 4/16 [00:04<00:13,  1.14s/it]"
     ]
    },
    {
     "name": "stderr",
     "output_type": "stream",
     "text": [
      "\r",
      "SCENARIOS COMPLETE:  31%|███▏      | 5/16 [00:05<00:12,  1.14s/it]"
     ]
    },
    {
     "name": "stderr",
     "output_type": "stream",
     "text": [
      "\r",
      "SCENARIOS COMPLETE:  38%|███▊      | 6/16 [00:06<00:10,  1.09s/it]"
     ]
    },
    {
     "name": "stderr",
     "output_type": "stream",
     "text": [
      "\r",
      "SCENARIOS COMPLETE:  44%|████▍     | 7/16 [00:07<00:09,  1.02s/it]"
     ]
    },
    {
     "name": "stderr",
     "output_type": "stream",
     "text": [
      "\r",
      "SCENARIOS COMPLETE:  50%|█████     | 8/16 [00:08<00:07,  1.07it/s]"
     ]
    },
    {
     "name": "stderr",
     "output_type": "stream",
     "text": [
      "\r",
      "SCENARIOS COMPLETE:  56%|█████▋    | 9/16 [00:08<00:05,  1.18it/s]"
     ]
    },
    {
     "name": "stderr",
     "output_type": "stream",
     "text": [
      "\r",
      "SCENARIOS COMPLETE:  62%|██████▎   | 10/16 [00:09<00:04,  1.36it/s]"
     ]
    },
    {
     "name": "stderr",
     "output_type": "stream",
     "text": [
      "\r",
      "SCENARIOS COMPLETE:  69%|██████▉   | 11/16 [00:09<00:03,  1.62it/s]"
     ]
    },
    {
     "name": "stderr",
     "output_type": "stream",
     "text": [
      "\r",
      "SCENARIOS COMPLETE:  75%|███████▌  | 12/16 [00:10<00:02,  1.86it/s]"
     ]
    },
    {
     "name": "stderr",
     "output_type": "stream",
     "text": [
      "\r",
      "SCENARIOS COMPLETE:  81%|████████▏ | 13/16 [00:10<00:01,  2.09it/s]"
     ]
    },
    {
     "name": "stderr",
     "output_type": "stream",
     "text": [
      "\r",
      "SCENARIOS COMPLETE:  88%|████████▊ | 14/16 [00:10<00:00,  2.31it/s]"
     ]
    },
    {
     "name": "stderr",
     "output_type": "stream",
     "text": [
      "\r",
      "SCENARIOS COMPLETE:  94%|█████████▍| 15/16 [00:11<00:00,  2.50it/s]"
     ]
    },
    {
     "name": "stderr",
     "output_type": "stream",
     "text": [
      "\r",
      "SCENARIOS COMPLETE: 100%|██████████| 16/16 [00:11<00:00,  2.69it/s]"
     ]
    },
    {
     "name": "stderr",
     "output_type": "stream",
     "text": [
      "\r",
      "SCENARIOS COMPLETE: 100%|██████████| 16/16 [00:11<00:00,  1.39it/s]"
     ]
    },
    {
     "name": "stderr",
     "output_type": "stream",
     "text": [
      "\n"
     ]
    }
   ],
   "source": [
    "mdl_quad_comp = Drone_Dynamic()\n",
    "quad_comp_app = SampleApproach(mdl_quad_comp, faults=[('affect_dof', 'mechbreak')],\n",
    "                               defaultsamp={'samp':'evenspacing','numpts':5})\n",
    "quad_comp_endclasses, quad_comp_mdlhists = fs.propagate.approach(mdl_quad_comp, quad_comp_app, staged=True)"
   ]
  },
  {
   "cell_type": "code",
   "execution_count": 30,
   "metadata": {
    "execution": {
     "iopub.execute_input": "2023-08-04T16:21:56.089583Z",
     "iopub.status.busy": "2023-08-04T16:21:56.088592Z",
     "iopub.status.idle": "2023-08-04T16:21:56.101845Z",
     "shell.execute_reply": "2023-08-04T16:21:56.100880Z"
    }
   },
   "outputs": [
    {
     "data": {
      "text/plain": [
       "dict_keys(['affect_dof_mechbreak_t0p0.fxns.store_ee.s.soc', 'affect_dof_mechbreak_t0p0.fxns.store_ee.m.faults.nocharge', 'affect_dof_mechbreak_t0p0.fxns.store_ee.m.mode', 'affect_dof_mechbreak_t0p0.fxns.dist_ee.s.ee_tr', 'affect_dof_mechbreak_t0p0.fxns.dist_ee.s.ee_te', 'affect_dof_mechbreak_t0p0.fxns.dist_ee.m.faults.short', 'affect_dof_mechbreak_t0p0.fxns.dist_ee.m.faults.degr', 'affect_dof_mechbreak_t0p0.fxns.dist_ee.m.faults.break', 'affect_dof_mechbreak_t0p0.fxns.dist_ee.m.mode', 'affect_dof_mechbreak_t0p0.fxns.affect_dof.s.e_to', 'affect_dof_mechbreak_t0p0.fxns.affect_dof.s.e_ti', 'affect_dof_mechbreak_t0p0.fxns.affect_dof.s.ct', 'affect_dof_mechbreak_t0p0.fxns.affect_dof.s.mt', 'affect_dof_mechbreak_t0p0.fxns.affect_dof.s.pt', 'affect_dof_mechbreak_t0p0.fxns.affect_dof.m.faults.short', 'affect_dof_mechbreak_t0p0.fxns.affect_dof.m.faults.openc', 'affect_dof_mechbreak_t0p0.fxns.affect_dof.m.faults.ctlup', 'affect_dof_mechbreak_t0p0.fxns.affect_dof.m.faults.ctldn', 'affect_dof_mechbreak_t0p0.fxns.affect_dof.m.faults.ctlbreak', 'affect_dof_mechbreak_t0p0.fxns.affect_dof.m.faults.mechbreak', 'affect_dof_mechbreak_t0p0.fxns.affect_dof.m.faults.mechfriction', 'affect_dof_mechbreak_t0p0.fxns.affect_dof.m.faults.propwarp', 'affect_dof_mechbreak_t0p0.fxns.affect_dof.m.faults.propstuck', 'affect_dof_mechbreak_t0p0.fxns.affect_dof.m.faults.propbreak', 'affect_dof_mechbreak_t0p0.fxns.affect_dof.m.mode', 'affect_dof_mechbreak_t0p0.fxns.ctl_dof.s.cs', 'affect_dof_mechbreak_t0p0.fxns.ctl_dof.s.vel', 'affect_dof_mechbreak_t0p0.fxns.ctl_dof.m.faults.noctl', 'affect_dof_mechbreak_t0p0.fxns.ctl_dof.m.faults.degctl', 'affect_dof_mechbreak_t0p0.fxns.ctl_dof.m.mode', 'affect_dof_mechbreak_t0p0.fxns.plan_path.s.dx', 'affect_dof_mechbreak_t0p0.fxns.plan_path.s.dy', 'affect_dof_mechbreak_t0p0.fxns.plan_path.s.dz', 'affect_dof_mechbreak_t0p0.fxns.plan_path.s.pt', 'affect_dof_mechbreak_t0p0.fxns.plan_path.s.goal', 'affect_dof_mechbreak_t0p0.fxns.plan_path.m.faults.noloc', 'affect_dof_mechbreak_t0p0.fxns.plan_path.m.faults.degloc', 'affect_dof_mechbreak_t0p0.fxns.plan_path.m.mode', 'affect_dof_mechbreak_t0p0.fxns.plan_path.t.pause.time', 'affect_dof_mechbreak_t0p0.fxns.plan_path.t.pause.mode', 'affect_dof_mechbreak_t0p0.fxns.trajectory.m.mode', 'affect_dof_mechbreak_t0p0.fxns.engage_land.m.faults.break', 'affect_dof_mechbreak_t0p0.fxns.engage_land.m.faults.deform', 'affect_dof_mechbreak_t0p0.fxns.engage_land.m.mode', 'affect_dof_mechbreak_t0p0.fxns.hold_payload.m.faults.break', 'affect_dof_mechbreak_t0p0.fxns.hold_payload.m.faults.deform', 'affect_dof_mechbreak_t0p0.fxns.hold_payload.m.mode', 'affect_dof_mechbreak_t0p0.fxns.view_env.m.mode', 'affect_dof_mechbreak_t0p0.flows.force_st.s.support', 'affect_dof_mechbreak_t0p0.flows.force_lin.s.support', 'affect_dof_mechbreak_t0p0.flows.force_gr.s.support', 'affect_dof_mechbreak_t0p0.flows.force_lg.s.support', 'affect_dof_mechbreak_t0p0.flows.ee_1.s.rate', 'affect_dof_mechbreak_t0p0.flows.ee_1.s.effort', 'affect_dof_mechbreak_t0p0.flows.ee_mot.s.rate', 'affect_dof_mechbreak_t0p0.flows.ee_mot.s.effort', 'affect_dof_mechbreak_t0p0.flows.ee_ctl.s.rate', 'affect_dof_mechbreak_t0p0.flows.ee_ctl.s.effort', 'affect_dof_mechbreak_t0p0.flows.ctl.s.forward', 'affect_dof_mechbreak_t0p0.flows.ctl.s.upward', 'affect_dof_mechbreak_t0p0.flows.dofs.s.vertvel', 'affect_dof_mechbreak_t0p0.flows.dofs.s.planvel', 'affect_dof_mechbreak_t0p0.flows.dofs.s.planpwr', 'affect_dof_mechbreak_t0p0.flows.dofs.s.uppwr', 'affect_dof_mechbreak_t0p0.flows.env.s.x', 'affect_dof_mechbreak_t0p0.flows.env.s.y', 'affect_dof_mechbreak_t0p0.flows.env.s.z', 'affect_dof_mechbreak_t0p0.flows.dir.s.x', 'affect_dof_mechbreak_t0p0.flows.dir.s.y', 'affect_dof_mechbreak_t0p0.flows.dir.s.z', 'affect_dof_mechbreak_t0p0.flows.dir.s.power', 'affect_dof_mechbreak_t0p0.time', 'affect_dof_mechbreak_t1p0.fxns.store_ee.s.soc', 'affect_dof_mechbreak_t1p0.fxns.store_ee.m.faults.nocharge', 'affect_dof_mechbreak_t1p0.fxns.store_ee.m.mode', 'affect_dof_mechbreak_t1p0.fxns.dist_ee.s.ee_tr', 'affect_dof_mechbreak_t1p0.fxns.dist_ee.s.ee_te', 'affect_dof_mechbreak_t1p0.fxns.dist_ee.m.faults.short', 'affect_dof_mechbreak_t1p0.fxns.dist_ee.m.faults.degr', 'affect_dof_mechbreak_t1p0.fxns.dist_ee.m.faults.break', 'affect_dof_mechbreak_t1p0.fxns.dist_ee.m.mode', 'affect_dof_mechbreak_t1p0.fxns.affect_dof.s.e_to', 'affect_dof_mechbreak_t1p0.fxns.affect_dof.s.e_ti', 'affect_dof_mechbreak_t1p0.fxns.affect_dof.s.ct', 'affect_dof_mechbreak_t1p0.fxns.affect_dof.s.mt', 'affect_dof_mechbreak_t1p0.fxns.affect_dof.s.pt', 'affect_dof_mechbreak_t1p0.fxns.affect_dof.m.faults.short', 'affect_dof_mechbreak_t1p0.fxns.affect_dof.m.faults.openc', 'affect_dof_mechbreak_t1p0.fxns.affect_dof.m.faults.ctlup', 'affect_dof_mechbreak_t1p0.fxns.affect_dof.m.faults.ctldn', 'affect_dof_mechbreak_t1p0.fxns.affect_dof.m.faults.ctlbreak', 'affect_dof_mechbreak_t1p0.fxns.affect_dof.m.faults.mechbreak', 'affect_dof_mechbreak_t1p0.fxns.affect_dof.m.faults.mechfriction', 'affect_dof_mechbreak_t1p0.fxns.affect_dof.m.faults.propwarp', 'affect_dof_mechbreak_t1p0.fxns.affect_dof.m.faults.propstuck', 'affect_dof_mechbreak_t1p0.fxns.affect_dof.m.faults.propbreak', 'affect_dof_mechbreak_t1p0.fxns.affect_dof.m.mode', 'affect_dof_mechbreak_t1p0.fxns.ctl_dof.s.cs', 'affect_dof_mechbreak_t1p0.fxns.ctl_dof.s.vel', 'affect_dof_mechbreak_t1p0.fxns.ctl_dof.m.faults.noctl', 'affect_dof_mechbreak_t1p0.fxns.ctl_dof.m.faults.degctl', 'affect_dof_mechbreak_t1p0.fxns.ctl_dof.m.mode', 'affect_dof_mechbreak_t1p0.fxns.plan_path.s.dx', 'affect_dof_mechbreak_t1p0.fxns.plan_path.s.dy', 'affect_dof_mechbreak_t1p0.fxns.plan_path.s.dz', 'affect_dof_mechbreak_t1p0.fxns.plan_path.s.pt', 'affect_dof_mechbreak_t1p0.fxns.plan_path.s.goal', 'affect_dof_mechbreak_t1p0.fxns.plan_path.m.faults.noloc', 'affect_dof_mechbreak_t1p0.fxns.plan_path.m.faults.degloc', 'affect_dof_mechbreak_t1p0.fxns.plan_path.m.mode', 'affect_dof_mechbreak_t1p0.fxns.plan_path.t.pause.time', 'affect_dof_mechbreak_t1p0.fxns.plan_path.t.pause.mode', 'affect_dof_mechbreak_t1p0.fxns.trajectory.m.mode', 'affect_dof_mechbreak_t1p0.fxns.engage_land.m.faults.break', 'affect_dof_mechbreak_t1p0.fxns.engage_land.m.faults.deform', 'affect_dof_mechbreak_t1p0.fxns.engage_land.m.mode', 'affect_dof_mechbreak_t1p0.fxns.hold_payload.m.faults.break', 'affect_dof_mechbreak_t1p0.fxns.hold_payload.m.faults.deform', 'affect_dof_mechbreak_t1p0.fxns.hold_payload.m.mode', 'affect_dof_mechbreak_t1p0.fxns.view_env.m.mode', 'affect_dof_mechbreak_t1p0.flows.force_st.s.support', 'affect_dof_mechbreak_t1p0.flows.force_lin.s.support', 'affect_dof_mechbreak_t1p0.flows.force_gr.s.support', 'affect_dof_mechbreak_t1p0.flows.force_lg.s.support', 'affect_dof_mechbreak_t1p0.flows.ee_1.s.rate', 'affect_dof_mechbreak_t1p0.flows.ee_1.s.effort', 'affect_dof_mechbreak_t1p0.flows.ee_mot.s.rate', 'affect_dof_mechbreak_t1p0.flows.ee_mot.s.effort', 'affect_dof_mechbreak_t1p0.flows.ee_ctl.s.rate', 'affect_dof_mechbreak_t1p0.flows.ee_ctl.s.effort', 'affect_dof_mechbreak_t1p0.flows.ctl.s.forward', 'affect_dof_mechbreak_t1p0.flows.ctl.s.upward', 'affect_dof_mechbreak_t1p0.flows.dofs.s.vertvel', 'affect_dof_mechbreak_t1p0.flows.dofs.s.planvel', 'affect_dof_mechbreak_t1p0.flows.dofs.s.planpwr', 'affect_dof_mechbreak_t1p0.flows.dofs.s.uppwr', 'affect_dof_mechbreak_t1p0.flows.env.s.x', 'affect_dof_mechbreak_t1p0.flows.env.s.y', 'affect_dof_mechbreak_t1p0.flows.env.s.z', 'affect_dof_mechbreak_t1p0.flows.dir.s.x', 'affect_dof_mechbreak_t1p0.flows.dir.s.y', 'affect_dof_mechbreak_t1p0.flows.dir.s.z', 'affect_dof_mechbreak_t1p0.flows.dir.s.power', 'affect_dof_mechbreak_t1p0.time', 'affect_dof_mechbreak_t2p0.fxns.store_ee.s.soc', 'affect_dof_mechbreak_t2p0.fxns.store_ee.m.faults.nocharge', 'affect_dof_mechbreak_t2p0.fxns.store_ee.m.mode', 'affect_dof_mechbreak_t2p0.fxns.dist_ee.s.ee_tr', 'affect_dof_mechbreak_t2p0.fxns.dist_ee.s.ee_te', 'affect_dof_mechbreak_t2p0.fxns.dist_ee.m.faults.short', 'affect_dof_mechbreak_t2p0.fxns.dist_ee.m.faults.degr', 'affect_dof_mechbreak_t2p0.fxns.dist_ee.m.faults.break', 'affect_dof_mechbreak_t2p0.fxns.dist_ee.m.mode', 'affect_dof_mechbreak_t2p0.fxns.affect_dof.s.e_to', 'affect_dof_mechbreak_t2p0.fxns.affect_dof.s.e_ti', 'affect_dof_mechbreak_t2p0.fxns.affect_dof.s.ct', 'affect_dof_mechbreak_t2p0.fxns.affect_dof.s.mt', 'affect_dof_mechbreak_t2p0.fxns.affect_dof.s.pt', 'affect_dof_mechbreak_t2p0.fxns.affect_dof.m.faults.short', 'affect_dof_mechbreak_t2p0.fxns.affect_dof.m.faults.openc', 'affect_dof_mechbreak_t2p0.fxns.affect_dof.m.faults.ctlup', 'affect_dof_mechbreak_t2p0.fxns.affect_dof.m.faults.ctldn', 'affect_dof_mechbreak_t2p0.fxns.affect_dof.m.faults.ctlbreak', 'affect_dof_mechbreak_t2p0.fxns.affect_dof.m.faults.mechbreak', 'affect_dof_mechbreak_t2p0.fxns.affect_dof.m.faults.mechfriction', 'affect_dof_mechbreak_t2p0.fxns.affect_dof.m.faults.propwarp', 'affect_dof_mechbreak_t2p0.fxns.affect_dof.m.faults.propstuck', 'affect_dof_mechbreak_t2p0.fxns.affect_dof.m.faults.propbreak', 'affect_dof_mechbreak_t2p0.fxns.affect_dof.m.mode', 'affect_dof_mechbreak_t2p0.fxns.ctl_dof.s.cs', 'affect_dof_mechbreak_t2p0.fxns.ctl_dof.s.vel', 'affect_dof_mechbreak_t2p0.fxns.ctl_dof.m.faults.noctl', 'affect_dof_mechbreak_t2p0.fxns.ctl_dof.m.faults.degctl', 'affect_dof_mechbreak_t2p0.fxns.ctl_dof.m.mode', 'affect_dof_mechbreak_t2p0.fxns.plan_path.s.dx', 'affect_dof_mechbreak_t2p0.fxns.plan_path.s.dy', 'affect_dof_mechbreak_t2p0.fxns.plan_path.s.dz', 'affect_dof_mechbreak_t2p0.fxns.plan_path.s.pt', 'affect_dof_mechbreak_t2p0.fxns.plan_path.s.goal', 'affect_dof_mechbreak_t2p0.fxns.plan_path.m.faults.noloc', 'affect_dof_mechbreak_t2p0.fxns.plan_path.m.faults.degloc', 'affect_dof_mechbreak_t2p0.fxns.plan_path.m.mode', 'affect_dof_mechbreak_t2p0.fxns.plan_path.t.pause.time', 'affect_dof_mechbreak_t2p0.fxns.plan_path.t.pause.mode', 'affect_dof_mechbreak_t2p0.fxns.trajectory.m.mode', 'affect_dof_mechbreak_t2p0.fxns.engage_land.m.faults.break', 'affect_dof_mechbreak_t2p0.fxns.engage_land.m.faults.deform', 'affect_dof_mechbreak_t2p0.fxns.engage_land.m.mode', 'affect_dof_mechbreak_t2p0.fxns.hold_payload.m.faults.break', 'affect_dof_mechbreak_t2p0.fxns.hold_payload.m.faults.deform', 'affect_dof_mechbreak_t2p0.fxns.hold_payload.m.mode', 'affect_dof_mechbreak_t2p0.fxns.view_env.m.mode', 'affect_dof_mechbreak_t2p0.flows.force_st.s.support', 'affect_dof_mechbreak_t2p0.flows.force_lin.s.support', 'affect_dof_mechbreak_t2p0.flows.force_gr.s.support', 'affect_dof_mechbreak_t2p0.flows.force_lg.s.support', 'affect_dof_mechbreak_t2p0.flows.ee_1.s.rate', 'affect_dof_mechbreak_t2p0.flows.ee_1.s.effort', 'affect_dof_mechbreak_t2p0.flows.ee_mot.s.rate', 'affect_dof_mechbreak_t2p0.flows.ee_mot.s.effort', 'affect_dof_mechbreak_t2p0.flows.ee_ctl.s.rate', 'affect_dof_mechbreak_t2p0.flows.ee_ctl.s.effort', 'affect_dof_mechbreak_t2p0.flows.ctl.s.forward', 'affect_dof_mechbreak_t2p0.flows.ctl.s.upward', 'affect_dof_mechbreak_t2p0.flows.dofs.s.vertvel', 'affect_dof_mechbreak_t2p0.flows.dofs.s.planvel', 'affect_dof_mechbreak_t2p0.flows.dofs.s.planpwr', 'affect_dof_mechbreak_t2p0.flows.dofs.s.uppwr', 'affect_dof_mechbreak_t2p0.flows.env.s.x', 'affect_dof_mechbreak_t2p0.flows.env.s.y', 'affect_dof_mechbreak_t2p0.flows.env.s.z', 'affect_dof_mechbreak_t2p0.flows.dir.s.x', 'affect_dof_mechbreak_t2p0.flows.dir.s.y', 'affect_dof_mechbreak_t2p0.flows.dir.s.z', 'affect_dof_mechbreak_t2p0.flows.dir.s.power', 'affect_dof_mechbreak_t2p0.time', 'affect_dof_mechbreak_t3p0.fxns.store_ee.s.soc', 'affect_dof_mechbreak_t3p0.fxns.store_ee.m.faults.nocharge', 'affect_dof_mechbreak_t3p0.fxns.store_ee.m.mode', 'affect_dof_mechbreak_t3p0.fxns.dist_ee.s.ee_tr', 'affect_dof_mechbreak_t3p0.fxns.dist_ee.s.ee_te', 'affect_dof_mechbreak_t3p0.fxns.dist_ee.m.faults.short', 'affect_dof_mechbreak_t3p0.fxns.dist_ee.m.faults.degr', 'affect_dof_mechbreak_t3p0.fxns.dist_ee.m.faults.break', 'affect_dof_mechbreak_t3p0.fxns.dist_ee.m.mode', 'affect_dof_mechbreak_t3p0.fxns.affect_dof.s.e_to', 'affect_dof_mechbreak_t3p0.fxns.affect_dof.s.e_ti', 'affect_dof_mechbreak_t3p0.fxns.affect_dof.s.ct', 'affect_dof_mechbreak_t3p0.fxns.affect_dof.s.mt', 'affect_dof_mechbreak_t3p0.fxns.affect_dof.s.pt', 'affect_dof_mechbreak_t3p0.fxns.affect_dof.m.faults.short', 'affect_dof_mechbreak_t3p0.fxns.affect_dof.m.faults.openc', 'affect_dof_mechbreak_t3p0.fxns.affect_dof.m.faults.ctlup', 'affect_dof_mechbreak_t3p0.fxns.affect_dof.m.faults.ctldn', 'affect_dof_mechbreak_t3p0.fxns.affect_dof.m.faults.ctlbreak', 'affect_dof_mechbreak_t3p0.fxns.affect_dof.m.faults.mechbreak', 'affect_dof_mechbreak_t3p0.fxns.affect_dof.m.faults.mechfriction', 'affect_dof_mechbreak_t3p0.fxns.affect_dof.m.faults.propwarp', 'affect_dof_mechbreak_t3p0.fxns.affect_dof.m.faults.propstuck', 'affect_dof_mechbreak_t3p0.fxns.affect_dof.m.faults.propbreak', 'affect_dof_mechbreak_t3p0.fxns.affect_dof.m.mode', 'affect_dof_mechbreak_t3p0.fxns.ctl_dof.s.cs', 'affect_dof_mechbreak_t3p0.fxns.ctl_dof.s.vel', 'affect_dof_mechbreak_t3p0.fxns.ctl_dof.m.faults.noctl', 'affect_dof_mechbreak_t3p0.fxns.ctl_dof.m.faults.degctl', 'affect_dof_mechbreak_t3p0.fxns.ctl_dof.m.mode', 'affect_dof_mechbreak_t3p0.fxns.plan_path.s.dx', 'affect_dof_mechbreak_t3p0.fxns.plan_path.s.dy', 'affect_dof_mechbreak_t3p0.fxns.plan_path.s.dz', 'affect_dof_mechbreak_t3p0.fxns.plan_path.s.pt', 'affect_dof_mechbreak_t3p0.fxns.plan_path.s.goal', 'affect_dof_mechbreak_t3p0.fxns.plan_path.m.faults.noloc', 'affect_dof_mechbreak_t3p0.fxns.plan_path.m.faults.degloc', 'affect_dof_mechbreak_t3p0.fxns.plan_path.m.mode', 'affect_dof_mechbreak_t3p0.fxns.plan_path.t.pause.time', 'affect_dof_mechbreak_t3p0.fxns.plan_path.t.pause.mode', 'affect_dof_mechbreak_t3p0.fxns.trajectory.m.mode', 'affect_dof_mechbreak_t3p0.fxns.engage_land.m.faults.break', 'affect_dof_mechbreak_t3p0.fxns.engage_land.m.faults.deform', 'affect_dof_mechbreak_t3p0.fxns.engage_land.m.mode', 'affect_dof_mechbreak_t3p0.fxns.hold_payload.m.faults.break', 'affect_dof_mechbreak_t3p0.fxns.hold_payload.m.faults.deform', 'affect_dof_mechbreak_t3p0.fxns.hold_payload.m.mode', 'affect_dof_mechbreak_t3p0.fxns.view_env.m.mode', 'affect_dof_mechbreak_t3p0.flows.force_st.s.support', 'affect_dof_mechbreak_t3p0.flows.force_lin.s.support', 'affect_dof_mechbreak_t3p0.flows.force_gr.s.support', 'affect_dof_mechbreak_t3p0.flows.force_lg.s.support', 'affect_dof_mechbreak_t3p0.flows.ee_1.s.rate', 'affect_dof_mechbreak_t3p0.flows.ee_1.s.effort', 'affect_dof_mechbreak_t3p0.flows.ee_mot.s.rate', 'affect_dof_mechbreak_t3p0.flows.ee_mot.s.effort', 'affect_dof_mechbreak_t3p0.flows.ee_ctl.s.rate', 'affect_dof_mechbreak_t3p0.flows.ee_ctl.s.effort', 'affect_dof_mechbreak_t3p0.flows.ctl.s.forward', 'affect_dof_mechbreak_t3p0.flows.ctl.s.upward', 'affect_dof_mechbreak_t3p0.flows.dofs.s.vertvel', 'affect_dof_mechbreak_t3p0.flows.dofs.s.planvel', 'affect_dof_mechbreak_t3p0.flows.dofs.s.planpwr', 'affect_dof_mechbreak_t3p0.flows.dofs.s.uppwr', 'affect_dof_mechbreak_t3p0.flows.env.s.x', 'affect_dof_mechbreak_t3p0.flows.env.s.y', 'affect_dof_mechbreak_t3p0.flows.env.s.z', 'affect_dof_mechbreak_t3p0.flows.dir.s.x', 'affect_dof_mechbreak_t3p0.flows.dir.s.y', 'affect_dof_mechbreak_t3p0.flows.dir.s.z', 'affect_dof_mechbreak_t3p0.flows.dir.s.power', 'affect_dof_mechbreak_t3p0.time', 'affect_dof_mechbreak_t4p0.fxns.store_ee.s.soc', 'affect_dof_mechbreak_t4p0.fxns.store_ee.m.faults.nocharge', 'affect_dof_mechbreak_t4p0.fxns.store_ee.m.mode', 'affect_dof_mechbreak_t4p0.fxns.dist_ee.s.ee_tr', 'affect_dof_mechbreak_t4p0.fxns.dist_ee.s.ee_te', 'affect_dof_mechbreak_t4p0.fxns.dist_ee.m.faults.short', 'affect_dof_mechbreak_t4p0.fxns.dist_ee.m.faults.degr', 'affect_dof_mechbreak_t4p0.fxns.dist_ee.m.faults.break', 'affect_dof_mechbreak_t4p0.fxns.dist_ee.m.mode', 'affect_dof_mechbreak_t4p0.fxns.affect_dof.s.e_to', 'affect_dof_mechbreak_t4p0.fxns.affect_dof.s.e_ti', 'affect_dof_mechbreak_t4p0.fxns.affect_dof.s.ct', 'affect_dof_mechbreak_t4p0.fxns.affect_dof.s.mt', 'affect_dof_mechbreak_t4p0.fxns.affect_dof.s.pt', 'affect_dof_mechbreak_t4p0.fxns.affect_dof.m.faults.short', 'affect_dof_mechbreak_t4p0.fxns.affect_dof.m.faults.openc', 'affect_dof_mechbreak_t4p0.fxns.affect_dof.m.faults.ctlup', 'affect_dof_mechbreak_t4p0.fxns.affect_dof.m.faults.ctldn', 'affect_dof_mechbreak_t4p0.fxns.affect_dof.m.faults.ctlbreak', 'affect_dof_mechbreak_t4p0.fxns.affect_dof.m.faults.mechbreak', 'affect_dof_mechbreak_t4p0.fxns.affect_dof.m.faults.mechfriction', 'affect_dof_mechbreak_t4p0.fxns.affect_dof.m.faults.propwarp', 'affect_dof_mechbreak_t4p0.fxns.affect_dof.m.faults.propstuck', 'affect_dof_mechbreak_t4p0.fxns.affect_dof.m.faults.propbreak', 'affect_dof_mechbreak_t4p0.fxns.affect_dof.m.mode', 'affect_dof_mechbreak_t4p0.fxns.ctl_dof.s.cs', 'affect_dof_mechbreak_t4p0.fxns.ctl_dof.s.vel', 'affect_dof_mechbreak_t4p0.fxns.ctl_dof.m.faults.noctl', 'affect_dof_mechbreak_t4p0.fxns.ctl_dof.m.faults.degctl', 'affect_dof_mechbreak_t4p0.fxns.ctl_dof.m.mode', 'affect_dof_mechbreak_t4p0.fxns.plan_path.s.dx', 'affect_dof_mechbreak_t4p0.fxns.plan_path.s.dy', 'affect_dof_mechbreak_t4p0.fxns.plan_path.s.dz', 'affect_dof_mechbreak_t4p0.fxns.plan_path.s.pt', 'affect_dof_mechbreak_t4p0.fxns.plan_path.s.goal', 'affect_dof_mechbreak_t4p0.fxns.plan_path.m.faults.noloc', 'affect_dof_mechbreak_t4p0.fxns.plan_path.m.faults.degloc', 'affect_dof_mechbreak_t4p0.fxns.plan_path.m.mode', 'affect_dof_mechbreak_t4p0.fxns.plan_path.t.pause.time', 'affect_dof_mechbreak_t4p0.fxns.plan_path.t.pause.mode', 'affect_dof_mechbreak_t4p0.fxns.trajectory.m.mode', 'affect_dof_mechbreak_t4p0.fxns.engage_land.m.faults.break', 'affect_dof_mechbreak_t4p0.fxns.engage_land.m.faults.deform', 'affect_dof_mechbreak_t4p0.fxns.engage_land.m.mode', 'affect_dof_mechbreak_t4p0.fxns.hold_payload.m.faults.break', 'affect_dof_mechbreak_t4p0.fxns.hold_payload.m.faults.deform', 'affect_dof_mechbreak_t4p0.fxns.hold_payload.m.mode', 'affect_dof_mechbreak_t4p0.fxns.view_env.m.mode', 'affect_dof_mechbreak_t4p0.flows.force_st.s.support', 'affect_dof_mechbreak_t4p0.flows.force_lin.s.support', 'affect_dof_mechbreak_t4p0.flows.force_gr.s.support', 'affect_dof_mechbreak_t4p0.flows.force_lg.s.support', 'affect_dof_mechbreak_t4p0.flows.ee_1.s.rate', 'affect_dof_mechbreak_t4p0.flows.ee_1.s.effort', 'affect_dof_mechbreak_t4p0.flows.ee_mot.s.rate', 'affect_dof_mechbreak_t4p0.flows.ee_mot.s.effort', 'affect_dof_mechbreak_t4p0.flows.ee_ctl.s.rate', 'affect_dof_mechbreak_t4p0.flows.ee_ctl.s.effort', 'affect_dof_mechbreak_t4p0.flows.ctl.s.forward', 'affect_dof_mechbreak_t4p0.flows.ctl.s.upward', 'affect_dof_mechbreak_t4p0.flows.dofs.s.vertvel', 'affect_dof_mechbreak_t4p0.flows.dofs.s.planvel', 'affect_dof_mechbreak_t4p0.flows.dofs.s.planpwr', 'affect_dof_mechbreak_t4p0.flows.dofs.s.uppwr', 'affect_dof_mechbreak_t4p0.flows.env.s.x', 'affect_dof_mechbreak_t4p0.flows.env.s.y', 'affect_dof_mechbreak_t4p0.flows.env.s.z', 'affect_dof_mechbreak_t4p0.flows.dir.s.x', 'affect_dof_mechbreak_t4p0.flows.dir.s.y', 'affect_dof_mechbreak_t4p0.flows.dir.s.z', 'affect_dof_mechbreak_t4p0.flows.dir.s.power', 'affect_dof_mechbreak_t4p0.time', 'affect_dof_mechbreak_t20p0.fxns.store_ee.s.soc', 'affect_dof_mechbreak_t20p0.fxns.store_ee.m.faults.nocharge', 'affect_dof_mechbreak_t20p0.fxns.store_ee.m.mode', 'affect_dof_mechbreak_t20p0.fxns.dist_ee.s.ee_tr', 'affect_dof_mechbreak_t20p0.fxns.dist_ee.s.ee_te', 'affect_dof_mechbreak_t20p0.fxns.dist_ee.m.faults.short', 'affect_dof_mechbreak_t20p0.fxns.dist_ee.m.faults.degr', 'affect_dof_mechbreak_t20p0.fxns.dist_ee.m.faults.break', 'affect_dof_mechbreak_t20p0.fxns.dist_ee.m.mode', 'affect_dof_mechbreak_t20p0.fxns.affect_dof.s.e_to', 'affect_dof_mechbreak_t20p0.fxns.affect_dof.s.e_ti', 'affect_dof_mechbreak_t20p0.fxns.affect_dof.s.ct', 'affect_dof_mechbreak_t20p0.fxns.affect_dof.s.mt', 'affect_dof_mechbreak_t20p0.fxns.affect_dof.s.pt', 'affect_dof_mechbreak_t20p0.fxns.affect_dof.m.faults.short', 'affect_dof_mechbreak_t20p0.fxns.affect_dof.m.faults.openc', 'affect_dof_mechbreak_t20p0.fxns.affect_dof.m.faults.ctlup', 'affect_dof_mechbreak_t20p0.fxns.affect_dof.m.faults.ctldn', 'affect_dof_mechbreak_t20p0.fxns.affect_dof.m.faults.ctlbreak', 'affect_dof_mechbreak_t20p0.fxns.affect_dof.m.faults.mechbreak', 'affect_dof_mechbreak_t20p0.fxns.affect_dof.m.faults.mechfriction', 'affect_dof_mechbreak_t20p0.fxns.affect_dof.m.faults.propwarp', 'affect_dof_mechbreak_t20p0.fxns.affect_dof.m.faults.propstuck', 'affect_dof_mechbreak_t20p0.fxns.affect_dof.m.faults.propbreak', 'affect_dof_mechbreak_t20p0.fxns.affect_dof.m.mode', 'affect_dof_mechbreak_t20p0.fxns.ctl_dof.s.cs', 'affect_dof_mechbreak_t20p0.fxns.ctl_dof.s.vel', 'affect_dof_mechbreak_t20p0.fxns.ctl_dof.m.faults.noctl', 'affect_dof_mechbreak_t20p0.fxns.ctl_dof.m.faults.degctl', 'affect_dof_mechbreak_t20p0.fxns.ctl_dof.m.mode', 'affect_dof_mechbreak_t20p0.fxns.plan_path.s.dx', 'affect_dof_mechbreak_t20p0.fxns.plan_path.s.dy', 'affect_dof_mechbreak_t20p0.fxns.plan_path.s.dz', 'affect_dof_mechbreak_t20p0.fxns.plan_path.s.pt', 'affect_dof_mechbreak_t20p0.fxns.plan_path.s.goal', 'affect_dof_mechbreak_t20p0.fxns.plan_path.m.faults.noloc', 'affect_dof_mechbreak_t20p0.fxns.plan_path.m.faults.degloc', 'affect_dof_mechbreak_t20p0.fxns.plan_path.m.mode', 'affect_dof_mechbreak_t20p0.fxns.plan_path.t.pause.time', 'affect_dof_mechbreak_t20p0.fxns.plan_path.t.pause.mode', 'affect_dof_mechbreak_t20p0.fxns.trajectory.m.mode', 'affect_dof_mechbreak_t20p0.fxns.engage_land.m.faults.break', 'affect_dof_mechbreak_t20p0.fxns.engage_land.m.faults.deform', 'affect_dof_mechbreak_t20p0.fxns.engage_land.m.mode', 'affect_dof_mechbreak_t20p0.fxns.hold_payload.m.faults.break', 'affect_dof_mechbreak_t20p0.fxns.hold_payload.m.faults.deform', 'affect_dof_mechbreak_t20p0.fxns.hold_payload.m.mode', 'affect_dof_mechbreak_t20p0.fxns.view_env.m.mode', 'affect_dof_mechbreak_t20p0.flows.force_st.s.support', 'affect_dof_mechbreak_t20p0.flows.force_lin.s.support', 'affect_dof_mechbreak_t20p0.flows.force_gr.s.support', 'affect_dof_mechbreak_t20p0.flows.force_lg.s.support', 'affect_dof_mechbreak_t20p0.flows.ee_1.s.rate', 'affect_dof_mechbreak_t20p0.flows.ee_1.s.effort', 'affect_dof_mechbreak_t20p0.flows.ee_mot.s.rate', 'affect_dof_mechbreak_t20p0.flows.ee_mot.s.effort', 'affect_dof_mechbreak_t20p0.flows.ee_ctl.s.rate', 'affect_dof_mechbreak_t20p0.flows.ee_ctl.s.effort', 'affect_dof_mechbreak_t20p0.flows.ctl.s.forward', 'affect_dof_mechbreak_t20p0.flows.ctl.s.upward', 'affect_dof_mechbreak_t20p0.flows.dofs.s.vertvel', 'affect_dof_mechbreak_t20p0.flows.dofs.s.planvel', 'affect_dof_mechbreak_t20p0.flows.dofs.s.planpwr', 'affect_dof_mechbreak_t20p0.flows.dofs.s.uppwr', 'affect_dof_mechbreak_t20p0.flows.env.s.x', 'affect_dof_mechbreak_t20p0.flows.env.s.y', 'affect_dof_mechbreak_t20p0.flows.env.s.z', 'affect_dof_mechbreak_t20p0.flows.dir.s.x', 'affect_dof_mechbreak_t20p0.flows.dir.s.y', 'affect_dof_mechbreak_t20p0.flows.dir.s.z', 'affect_dof_mechbreak_t20p0.flows.dir.s.power', 'affect_dof_mechbreak_t20p0.time', 'affect_dof_mechbreak_t35p0.fxns.store_ee.s.soc', 'affect_dof_mechbreak_t35p0.fxns.store_ee.m.faults.nocharge', 'affect_dof_mechbreak_t35p0.fxns.store_ee.m.mode', 'affect_dof_mechbreak_t35p0.fxns.dist_ee.s.ee_tr', 'affect_dof_mechbreak_t35p0.fxns.dist_ee.s.ee_te', 'affect_dof_mechbreak_t35p0.fxns.dist_ee.m.faults.short', 'affect_dof_mechbreak_t35p0.fxns.dist_ee.m.faults.degr', 'affect_dof_mechbreak_t35p0.fxns.dist_ee.m.faults.break', 'affect_dof_mechbreak_t35p0.fxns.dist_ee.m.mode', 'affect_dof_mechbreak_t35p0.fxns.affect_dof.s.e_to', 'affect_dof_mechbreak_t35p0.fxns.affect_dof.s.e_ti', 'affect_dof_mechbreak_t35p0.fxns.affect_dof.s.ct', 'affect_dof_mechbreak_t35p0.fxns.affect_dof.s.mt', 'affect_dof_mechbreak_t35p0.fxns.affect_dof.s.pt', 'affect_dof_mechbreak_t35p0.fxns.affect_dof.m.faults.short', 'affect_dof_mechbreak_t35p0.fxns.affect_dof.m.faults.openc', 'affect_dof_mechbreak_t35p0.fxns.affect_dof.m.faults.ctlup', 'affect_dof_mechbreak_t35p0.fxns.affect_dof.m.faults.ctldn', 'affect_dof_mechbreak_t35p0.fxns.affect_dof.m.faults.ctlbreak', 'affect_dof_mechbreak_t35p0.fxns.affect_dof.m.faults.mechbreak', 'affect_dof_mechbreak_t35p0.fxns.affect_dof.m.faults.mechfriction', 'affect_dof_mechbreak_t35p0.fxns.affect_dof.m.faults.propwarp', 'affect_dof_mechbreak_t35p0.fxns.affect_dof.m.faults.propstuck', 'affect_dof_mechbreak_t35p0.fxns.affect_dof.m.faults.propbreak', 'affect_dof_mechbreak_t35p0.fxns.affect_dof.m.mode', 'affect_dof_mechbreak_t35p0.fxns.ctl_dof.s.cs', 'affect_dof_mechbreak_t35p0.fxns.ctl_dof.s.vel', 'affect_dof_mechbreak_t35p0.fxns.ctl_dof.m.faults.noctl', 'affect_dof_mechbreak_t35p0.fxns.ctl_dof.m.faults.degctl', 'affect_dof_mechbreak_t35p0.fxns.ctl_dof.m.mode', 'affect_dof_mechbreak_t35p0.fxns.plan_path.s.dx', 'affect_dof_mechbreak_t35p0.fxns.plan_path.s.dy', 'affect_dof_mechbreak_t35p0.fxns.plan_path.s.dz', 'affect_dof_mechbreak_t35p0.fxns.plan_path.s.pt', 'affect_dof_mechbreak_t35p0.fxns.plan_path.s.goal', 'affect_dof_mechbreak_t35p0.fxns.plan_path.m.faults.noloc', 'affect_dof_mechbreak_t35p0.fxns.plan_path.m.faults.degloc', 'affect_dof_mechbreak_t35p0.fxns.plan_path.m.mode', 'affect_dof_mechbreak_t35p0.fxns.plan_path.t.pause.time', 'affect_dof_mechbreak_t35p0.fxns.plan_path.t.pause.mode', 'affect_dof_mechbreak_t35p0.fxns.trajectory.m.mode', 'affect_dof_mechbreak_t35p0.fxns.engage_land.m.faults.break', 'affect_dof_mechbreak_t35p0.fxns.engage_land.m.faults.deform', 'affect_dof_mechbreak_t35p0.fxns.engage_land.m.mode', 'affect_dof_mechbreak_t35p0.fxns.hold_payload.m.faults.break', 'affect_dof_mechbreak_t35p0.fxns.hold_payload.m.faults.deform', 'affect_dof_mechbreak_t35p0.fxns.hold_payload.m.mode', 'affect_dof_mechbreak_t35p0.fxns.view_env.m.mode', 'affect_dof_mechbreak_t35p0.flows.force_st.s.support', 'affect_dof_mechbreak_t35p0.flows.force_lin.s.support', 'affect_dof_mechbreak_t35p0.flows.force_gr.s.support', 'affect_dof_mechbreak_t35p0.flows.force_lg.s.support', 'affect_dof_mechbreak_t35p0.flows.ee_1.s.rate', 'affect_dof_mechbreak_t35p0.flows.ee_1.s.effort', 'affect_dof_mechbreak_t35p0.flows.ee_mot.s.rate', 'affect_dof_mechbreak_t35p0.flows.ee_mot.s.effort', 'affect_dof_mechbreak_t35p0.flows.ee_ctl.s.rate', 'affect_dof_mechbreak_t35p0.flows.ee_ctl.s.effort', 'affect_dof_mechbreak_t35p0.flows.ctl.s.forward', 'affect_dof_mechbreak_t35p0.flows.ctl.s.upward', 'affect_dof_mechbreak_t35p0.flows.dofs.s.vertvel', 'affect_dof_mechbreak_t35p0.flows.dofs.s.planvel', 'affect_dof_mechbreak_t35p0.flows.dofs.s.planpwr', 'affect_dof_mechbreak_t35p0.flows.dofs.s.uppwr', 'affect_dof_mechbreak_t35p0.flows.env.s.x', 'affect_dof_mechbreak_t35p0.flows.env.s.y', 'affect_dof_mechbreak_t35p0.flows.env.s.z', 'affect_dof_mechbreak_t35p0.flows.dir.s.x', 'affect_dof_mechbreak_t35p0.flows.dir.s.y', 'affect_dof_mechbreak_t35p0.flows.dir.s.z', 'affect_dof_mechbreak_t35p0.flows.dir.s.power', 'affect_dof_mechbreak_t35p0.time', 'affect_dof_mechbreak_t49p0.fxns.store_ee.s.soc', 'affect_dof_mechbreak_t49p0.fxns.store_ee.m.faults.nocharge', 'affect_dof_mechbreak_t49p0.fxns.store_ee.m.mode', 'affect_dof_mechbreak_t49p0.fxns.dist_ee.s.ee_tr', 'affect_dof_mechbreak_t49p0.fxns.dist_ee.s.ee_te', 'affect_dof_mechbreak_t49p0.fxns.dist_ee.m.faults.short', 'affect_dof_mechbreak_t49p0.fxns.dist_ee.m.faults.degr', 'affect_dof_mechbreak_t49p0.fxns.dist_ee.m.faults.break', 'affect_dof_mechbreak_t49p0.fxns.dist_ee.m.mode', 'affect_dof_mechbreak_t49p0.fxns.affect_dof.s.e_to', 'affect_dof_mechbreak_t49p0.fxns.affect_dof.s.e_ti', 'affect_dof_mechbreak_t49p0.fxns.affect_dof.s.ct', 'affect_dof_mechbreak_t49p0.fxns.affect_dof.s.mt', 'affect_dof_mechbreak_t49p0.fxns.affect_dof.s.pt', 'affect_dof_mechbreak_t49p0.fxns.affect_dof.m.faults.short', 'affect_dof_mechbreak_t49p0.fxns.affect_dof.m.faults.openc', 'affect_dof_mechbreak_t49p0.fxns.affect_dof.m.faults.ctlup', 'affect_dof_mechbreak_t49p0.fxns.affect_dof.m.faults.ctldn', 'affect_dof_mechbreak_t49p0.fxns.affect_dof.m.faults.ctlbreak', 'affect_dof_mechbreak_t49p0.fxns.affect_dof.m.faults.mechbreak', 'affect_dof_mechbreak_t49p0.fxns.affect_dof.m.faults.mechfriction', 'affect_dof_mechbreak_t49p0.fxns.affect_dof.m.faults.propwarp', 'affect_dof_mechbreak_t49p0.fxns.affect_dof.m.faults.propstuck', 'affect_dof_mechbreak_t49p0.fxns.affect_dof.m.faults.propbreak', 'affect_dof_mechbreak_t49p0.fxns.affect_dof.m.mode', 'affect_dof_mechbreak_t49p0.fxns.ctl_dof.s.cs', 'affect_dof_mechbreak_t49p0.fxns.ctl_dof.s.vel', 'affect_dof_mechbreak_t49p0.fxns.ctl_dof.m.faults.noctl', 'affect_dof_mechbreak_t49p0.fxns.ctl_dof.m.faults.degctl', 'affect_dof_mechbreak_t49p0.fxns.ctl_dof.m.mode', 'affect_dof_mechbreak_t49p0.fxns.plan_path.s.dx', 'affect_dof_mechbreak_t49p0.fxns.plan_path.s.dy', 'affect_dof_mechbreak_t49p0.fxns.plan_path.s.dz', 'affect_dof_mechbreak_t49p0.fxns.plan_path.s.pt', 'affect_dof_mechbreak_t49p0.fxns.plan_path.s.goal', 'affect_dof_mechbreak_t49p0.fxns.plan_path.m.faults.noloc', 'affect_dof_mechbreak_t49p0.fxns.plan_path.m.faults.degloc', 'affect_dof_mechbreak_t49p0.fxns.plan_path.m.mode', 'affect_dof_mechbreak_t49p0.fxns.plan_path.t.pause.time', 'affect_dof_mechbreak_t49p0.fxns.plan_path.t.pause.mode', 'affect_dof_mechbreak_t49p0.fxns.trajectory.m.mode', 'affect_dof_mechbreak_t49p0.fxns.engage_land.m.faults.break', 'affect_dof_mechbreak_t49p0.fxns.engage_land.m.faults.deform', 'affect_dof_mechbreak_t49p0.fxns.engage_land.m.mode', 'affect_dof_mechbreak_t49p0.fxns.hold_payload.m.faults.break', 'affect_dof_mechbreak_t49p0.fxns.hold_payload.m.faults.deform', 'affect_dof_mechbreak_t49p0.fxns.hold_payload.m.mode', 'affect_dof_mechbreak_t49p0.fxns.view_env.m.mode', 'affect_dof_mechbreak_t49p0.flows.force_st.s.support', 'affect_dof_mechbreak_t49p0.flows.force_lin.s.support', 'affect_dof_mechbreak_t49p0.flows.force_gr.s.support', 'affect_dof_mechbreak_t49p0.flows.force_lg.s.support', 'affect_dof_mechbreak_t49p0.flows.ee_1.s.rate', 'affect_dof_mechbreak_t49p0.flows.ee_1.s.effort', 'affect_dof_mechbreak_t49p0.flows.ee_mot.s.rate', 'affect_dof_mechbreak_t49p0.flows.ee_mot.s.effort', 'affect_dof_mechbreak_t49p0.flows.ee_ctl.s.rate', 'affect_dof_mechbreak_t49p0.flows.ee_ctl.s.effort', 'affect_dof_mechbreak_t49p0.flows.ctl.s.forward', 'affect_dof_mechbreak_t49p0.flows.ctl.s.upward', 'affect_dof_mechbreak_t49p0.flows.dofs.s.vertvel', 'affect_dof_mechbreak_t49p0.flows.dofs.s.planvel', 'affect_dof_mechbreak_t49p0.flows.dofs.s.planpwr', 'affect_dof_mechbreak_t49p0.flows.dofs.s.uppwr', 'affect_dof_mechbreak_t49p0.flows.env.s.x', 'affect_dof_mechbreak_t49p0.flows.env.s.y', 'affect_dof_mechbreak_t49p0.flows.env.s.z', 'affect_dof_mechbreak_t49p0.flows.dir.s.x', 'affect_dof_mechbreak_t49p0.flows.dir.s.y', 'affect_dof_mechbreak_t49p0.flows.dir.s.z', 'affect_dof_mechbreak_t49p0.flows.dir.s.power', 'affect_dof_mechbreak_t49p0.time', 'affect_dof_mechbreak_t64p0.fxns.store_ee.s.soc', 'affect_dof_mechbreak_t64p0.fxns.store_ee.m.faults.nocharge', 'affect_dof_mechbreak_t64p0.fxns.store_ee.m.mode', 'affect_dof_mechbreak_t64p0.fxns.dist_ee.s.ee_tr', 'affect_dof_mechbreak_t64p0.fxns.dist_ee.s.ee_te', 'affect_dof_mechbreak_t64p0.fxns.dist_ee.m.faults.short', 'affect_dof_mechbreak_t64p0.fxns.dist_ee.m.faults.degr', 'affect_dof_mechbreak_t64p0.fxns.dist_ee.m.faults.break', 'affect_dof_mechbreak_t64p0.fxns.dist_ee.m.mode', 'affect_dof_mechbreak_t64p0.fxns.affect_dof.s.e_to', 'affect_dof_mechbreak_t64p0.fxns.affect_dof.s.e_ti', 'affect_dof_mechbreak_t64p0.fxns.affect_dof.s.ct', 'affect_dof_mechbreak_t64p0.fxns.affect_dof.s.mt', 'affect_dof_mechbreak_t64p0.fxns.affect_dof.s.pt', 'affect_dof_mechbreak_t64p0.fxns.affect_dof.m.faults.short', 'affect_dof_mechbreak_t64p0.fxns.affect_dof.m.faults.openc', 'affect_dof_mechbreak_t64p0.fxns.affect_dof.m.faults.ctlup', 'affect_dof_mechbreak_t64p0.fxns.affect_dof.m.faults.ctldn', 'affect_dof_mechbreak_t64p0.fxns.affect_dof.m.faults.ctlbreak', 'affect_dof_mechbreak_t64p0.fxns.affect_dof.m.faults.mechbreak', 'affect_dof_mechbreak_t64p0.fxns.affect_dof.m.faults.mechfriction', 'affect_dof_mechbreak_t64p0.fxns.affect_dof.m.faults.propwarp', 'affect_dof_mechbreak_t64p0.fxns.affect_dof.m.faults.propstuck', 'affect_dof_mechbreak_t64p0.fxns.affect_dof.m.faults.propbreak', 'affect_dof_mechbreak_t64p0.fxns.affect_dof.m.mode', 'affect_dof_mechbreak_t64p0.fxns.ctl_dof.s.cs', 'affect_dof_mechbreak_t64p0.fxns.ctl_dof.s.vel', 'affect_dof_mechbreak_t64p0.fxns.ctl_dof.m.faults.noctl', 'affect_dof_mechbreak_t64p0.fxns.ctl_dof.m.faults.degctl', 'affect_dof_mechbreak_t64p0.fxns.ctl_dof.m.mode', 'affect_dof_mechbreak_t64p0.fxns.plan_path.s.dx', 'affect_dof_mechbreak_t64p0.fxns.plan_path.s.dy', 'affect_dof_mechbreak_t64p0.fxns.plan_path.s.dz', 'affect_dof_mechbreak_t64p0.fxns.plan_path.s.pt', 'affect_dof_mechbreak_t64p0.fxns.plan_path.s.goal', 'affect_dof_mechbreak_t64p0.fxns.plan_path.m.faults.noloc', 'affect_dof_mechbreak_t64p0.fxns.plan_path.m.faults.degloc', 'affect_dof_mechbreak_t64p0.fxns.plan_path.m.mode', 'affect_dof_mechbreak_t64p0.fxns.plan_path.t.pause.time', 'affect_dof_mechbreak_t64p0.fxns.plan_path.t.pause.mode', 'affect_dof_mechbreak_t64p0.fxns.trajectory.m.mode', 'affect_dof_mechbreak_t64p0.fxns.engage_land.m.faults.break', 'affect_dof_mechbreak_t64p0.fxns.engage_land.m.faults.deform', 'affect_dof_mechbreak_t64p0.fxns.engage_land.m.mode', 'affect_dof_mechbreak_t64p0.fxns.hold_payload.m.faults.break', 'affect_dof_mechbreak_t64p0.fxns.hold_payload.m.faults.deform', 'affect_dof_mechbreak_t64p0.fxns.hold_payload.m.mode', 'affect_dof_mechbreak_t64p0.fxns.view_env.m.mode', 'affect_dof_mechbreak_t64p0.flows.force_st.s.support', 'affect_dof_mechbreak_t64p0.flows.force_lin.s.support', 'affect_dof_mechbreak_t64p0.flows.force_gr.s.support', 'affect_dof_mechbreak_t64p0.flows.force_lg.s.support', 'affect_dof_mechbreak_t64p0.flows.ee_1.s.rate', 'affect_dof_mechbreak_t64p0.flows.ee_1.s.effort', 'affect_dof_mechbreak_t64p0.flows.ee_mot.s.rate', 'affect_dof_mechbreak_t64p0.flows.ee_mot.s.effort', 'affect_dof_mechbreak_t64p0.flows.ee_ctl.s.rate', 'affect_dof_mechbreak_t64p0.flows.ee_ctl.s.effort', 'affect_dof_mechbreak_t64p0.flows.ctl.s.forward', 'affect_dof_mechbreak_t64p0.flows.ctl.s.upward', 'affect_dof_mechbreak_t64p0.flows.dofs.s.vertvel', 'affect_dof_mechbreak_t64p0.flows.dofs.s.planvel', 'affect_dof_mechbreak_t64p0.flows.dofs.s.planpwr', 'affect_dof_mechbreak_t64p0.flows.dofs.s.uppwr', 'affect_dof_mechbreak_t64p0.flows.env.s.x', 'affect_dof_mechbreak_t64p0.flows.env.s.y', 'affect_dof_mechbreak_t64p0.flows.env.s.z', 'affect_dof_mechbreak_t64p0.flows.dir.s.x', 'affect_dof_mechbreak_t64p0.flows.dir.s.y', 'affect_dof_mechbreak_t64p0.flows.dir.s.z', 'affect_dof_mechbreak_t64p0.flows.dir.s.power', 'affect_dof_mechbreak_t64p0.time', 'affect_dof_mechbreak_t79p0.fxns.store_ee.s.soc', 'affect_dof_mechbreak_t79p0.fxns.store_ee.m.faults.nocharge', 'affect_dof_mechbreak_t79p0.fxns.store_ee.m.mode', 'affect_dof_mechbreak_t79p0.fxns.dist_ee.s.ee_tr', 'affect_dof_mechbreak_t79p0.fxns.dist_ee.s.ee_te', 'affect_dof_mechbreak_t79p0.fxns.dist_ee.m.faults.short', 'affect_dof_mechbreak_t79p0.fxns.dist_ee.m.faults.degr', 'affect_dof_mechbreak_t79p0.fxns.dist_ee.m.faults.break', 'affect_dof_mechbreak_t79p0.fxns.dist_ee.m.mode', 'affect_dof_mechbreak_t79p0.fxns.affect_dof.s.e_to', 'affect_dof_mechbreak_t79p0.fxns.affect_dof.s.e_ti', 'affect_dof_mechbreak_t79p0.fxns.affect_dof.s.ct', 'affect_dof_mechbreak_t79p0.fxns.affect_dof.s.mt', 'affect_dof_mechbreak_t79p0.fxns.affect_dof.s.pt', 'affect_dof_mechbreak_t79p0.fxns.affect_dof.m.faults.short', 'affect_dof_mechbreak_t79p0.fxns.affect_dof.m.faults.openc', 'affect_dof_mechbreak_t79p0.fxns.affect_dof.m.faults.ctlup', 'affect_dof_mechbreak_t79p0.fxns.affect_dof.m.faults.ctldn', 'affect_dof_mechbreak_t79p0.fxns.affect_dof.m.faults.ctlbreak', 'affect_dof_mechbreak_t79p0.fxns.affect_dof.m.faults.mechbreak', 'affect_dof_mechbreak_t79p0.fxns.affect_dof.m.faults.mechfriction', 'affect_dof_mechbreak_t79p0.fxns.affect_dof.m.faults.propwarp', 'affect_dof_mechbreak_t79p0.fxns.affect_dof.m.faults.propstuck', 'affect_dof_mechbreak_t79p0.fxns.affect_dof.m.faults.propbreak', 'affect_dof_mechbreak_t79p0.fxns.affect_dof.m.mode', 'affect_dof_mechbreak_t79p0.fxns.ctl_dof.s.cs', 'affect_dof_mechbreak_t79p0.fxns.ctl_dof.s.vel', 'affect_dof_mechbreak_t79p0.fxns.ctl_dof.m.faults.noctl', 'affect_dof_mechbreak_t79p0.fxns.ctl_dof.m.faults.degctl', 'affect_dof_mechbreak_t79p0.fxns.ctl_dof.m.mode', 'affect_dof_mechbreak_t79p0.fxns.plan_path.s.dx', 'affect_dof_mechbreak_t79p0.fxns.plan_path.s.dy', 'affect_dof_mechbreak_t79p0.fxns.plan_path.s.dz', 'affect_dof_mechbreak_t79p0.fxns.plan_path.s.pt', 'affect_dof_mechbreak_t79p0.fxns.plan_path.s.goal', 'affect_dof_mechbreak_t79p0.fxns.plan_path.m.faults.noloc', 'affect_dof_mechbreak_t79p0.fxns.plan_path.m.faults.degloc', 'affect_dof_mechbreak_t79p0.fxns.plan_path.m.mode', 'affect_dof_mechbreak_t79p0.fxns.plan_path.t.pause.time', 'affect_dof_mechbreak_t79p0.fxns.plan_path.t.pause.mode', 'affect_dof_mechbreak_t79p0.fxns.trajectory.m.mode', 'affect_dof_mechbreak_t79p0.fxns.engage_land.m.faults.break', 'affect_dof_mechbreak_t79p0.fxns.engage_land.m.faults.deform', 'affect_dof_mechbreak_t79p0.fxns.engage_land.m.mode', 'affect_dof_mechbreak_t79p0.fxns.hold_payload.m.faults.break', 'affect_dof_mechbreak_t79p0.fxns.hold_payload.m.faults.deform', 'affect_dof_mechbreak_t79p0.fxns.hold_payload.m.mode', 'affect_dof_mechbreak_t79p0.fxns.view_env.m.mode', 'affect_dof_mechbreak_t79p0.flows.force_st.s.support', 'affect_dof_mechbreak_t79p0.flows.force_lin.s.support', 'affect_dof_mechbreak_t79p0.flows.force_gr.s.support', 'affect_dof_mechbreak_t79p0.flows.force_lg.s.support', 'affect_dof_mechbreak_t79p0.flows.ee_1.s.rate', 'affect_dof_mechbreak_t79p0.flows.ee_1.s.effort', 'affect_dof_mechbreak_t79p0.flows.ee_mot.s.rate', 'affect_dof_mechbreak_t79p0.flows.ee_mot.s.effort', 'affect_dof_mechbreak_t79p0.flows.ee_ctl.s.rate', 'affect_dof_mechbreak_t79p0.flows.ee_ctl.s.effort', 'affect_dof_mechbreak_t79p0.flows.ctl.s.forward', 'affect_dof_mechbreak_t79p0.flows.ctl.s.upward', 'affect_dof_mechbreak_t79p0.flows.dofs.s.vertvel', 'affect_dof_mechbreak_t79p0.flows.dofs.s.planvel', 'affect_dof_mechbreak_t79p0.flows.dofs.s.planpwr', 'affect_dof_mechbreak_t79p0.flows.dofs.s.uppwr', 'affect_dof_mechbreak_t79p0.flows.env.s.x', 'affect_dof_mechbreak_t79p0.flows.env.s.y', 'affect_dof_mechbreak_t79p0.flows.env.s.z', 'affect_dof_mechbreak_t79p0.flows.dir.s.x', 'affect_dof_mechbreak_t79p0.flows.dir.s.y', 'affect_dof_mechbreak_t79p0.flows.dir.s.z', 'affect_dof_mechbreak_t79p0.flows.dir.s.power', 'affect_dof_mechbreak_t79p0.time', 'affect_dof_mechbreak_t95p0.fxns.store_ee.s.soc', 'affect_dof_mechbreak_t95p0.fxns.store_ee.m.faults.nocharge', 'affect_dof_mechbreak_t95p0.fxns.store_ee.m.mode', 'affect_dof_mechbreak_t95p0.fxns.dist_ee.s.ee_tr', 'affect_dof_mechbreak_t95p0.fxns.dist_ee.s.ee_te', 'affect_dof_mechbreak_t95p0.fxns.dist_ee.m.faults.short', 'affect_dof_mechbreak_t95p0.fxns.dist_ee.m.faults.degr', 'affect_dof_mechbreak_t95p0.fxns.dist_ee.m.faults.break', 'affect_dof_mechbreak_t95p0.fxns.dist_ee.m.mode', 'affect_dof_mechbreak_t95p0.fxns.affect_dof.s.e_to', 'affect_dof_mechbreak_t95p0.fxns.affect_dof.s.e_ti', 'affect_dof_mechbreak_t95p0.fxns.affect_dof.s.ct', 'affect_dof_mechbreak_t95p0.fxns.affect_dof.s.mt', 'affect_dof_mechbreak_t95p0.fxns.affect_dof.s.pt', 'affect_dof_mechbreak_t95p0.fxns.affect_dof.m.faults.short', 'affect_dof_mechbreak_t95p0.fxns.affect_dof.m.faults.openc', 'affect_dof_mechbreak_t95p0.fxns.affect_dof.m.faults.ctlup', 'affect_dof_mechbreak_t95p0.fxns.affect_dof.m.faults.ctldn', 'affect_dof_mechbreak_t95p0.fxns.affect_dof.m.faults.ctlbreak', 'affect_dof_mechbreak_t95p0.fxns.affect_dof.m.faults.mechbreak', 'affect_dof_mechbreak_t95p0.fxns.affect_dof.m.faults.mechfriction', 'affect_dof_mechbreak_t95p0.fxns.affect_dof.m.faults.propwarp', 'affect_dof_mechbreak_t95p0.fxns.affect_dof.m.faults.propstuck', 'affect_dof_mechbreak_t95p0.fxns.affect_dof.m.faults.propbreak', 'affect_dof_mechbreak_t95p0.fxns.affect_dof.m.mode', 'affect_dof_mechbreak_t95p0.fxns.ctl_dof.s.cs', 'affect_dof_mechbreak_t95p0.fxns.ctl_dof.s.vel', 'affect_dof_mechbreak_t95p0.fxns.ctl_dof.m.faults.noctl', 'affect_dof_mechbreak_t95p0.fxns.ctl_dof.m.faults.degctl', 'affect_dof_mechbreak_t95p0.fxns.ctl_dof.m.mode', 'affect_dof_mechbreak_t95p0.fxns.plan_path.s.dx', 'affect_dof_mechbreak_t95p0.fxns.plan_path.s.dy', 'affect_dof_mechbreak_t95p0.fxns.plan_path.s.dz', 'affect_dof_mechbreak_t95p0.fxns.plan_path.s.pt', 'affect_dof_mechbreak_t95p0.fxns.plan_path.s.goal', 'affect_dof_mechbreak_t95p0.fxns.plan_path.m.faults.noloc', 'affect_dof_mechbreak_t95p0.fxns.plan_path.m.faults.degloc', 'affect_dof_mechbreak_t95p0.fxns.plan_path.m.mode', 'affect_dof_mechbreak_t95p0.fxns.plan_path.t.pause.time', 'affect_dof_mechbreak_t95p0.fxns.plan_path.t.pause.mode', 'affect_dof_mechbreak_t95p0.fxns.trajectory.m.mode', 'affect_dof_mechbreak_t95p0.fxns.engage_land.m.faults.break', 'affect_dof_mechbreak_t95p0.fxns.engage_land.m.faults.deform', 'affect_dof_mechbreak_t95p0.fxns.engage_land.m.mode', 'affect_dof_mechbreak_t95p0.fxns.hold_payload.m.faults.break', 'affect_dof_mechbreak_t95p0.fxns.hold_payload.m.faults.deform', 'affect_dof_mechbreak_t95p0.fxns.hold_payload.m.mode', 'affect_dof_mechbreak_t95p0.fxns.view_env.m.mode', 'affect_dof_mechbreak_t95p0.flows.force_st.s.support', 'affect_dof_mechbreak_t95p0.flows.force_lin.s.support', 'affect_dof_mechbreak_t95p0.flows.force_gr.s.support', 'affect_dof_mechbreak_t95p0.flows.force_lg.s.support', 'affect_dof_mechbreak_t95p0.flows.ee_1.s.rate', 'affect_dof_mechbreak_t95p0.flows.ee_1.s.effort', 'affect_dof_mechbreak_t95p0.flows.ee_mot.s.rate', 'affect_dof_mechbreak_t95p0.flows.ee_mot.s.effort', 'affect_dof_mechbreak_t95p0.flows.ee_ctl.s.rate', 'affect_dof_mechbreak_t95p0.flows.ee_ctl.s.effort', 'affect_dof_mechbreak_t95p0.flows.ctl.s.forward', 'affect_dof_mechbreak_t95p0.flows.ctl.s.upward', 'affect_dof_mechbreak_t95p0.flows.dofs.s.vertvel', 'affect_dof_mechbreak_t95p0.flows.dofs.s.planvel', 'affect_dof_mechbreak_t95p0.flows.dofs.s.planpwr', 'affect_dof_mechbreak_t95p0.flows.dofs.s.uppwr', 'affect_dof_mechbreak_t95p0.flows.env.s.x', 'affect_dof_mechbreak_t95p0.flows.env.s.y', 'affect_dof_mechbreak_t95p0.flows.env.s.z', 'affect_dof_mechbreak_t95p0.flows.dir.s.x', 'affect_dof_mechbreak_t95p0.flows.dir.s.y', 'affect_dof_mechbreak_t95p0.flows.dir.s.z', 'affect_dof_mechbreak_t95p0.flows.dir.s.power', 'affect_dof_mechbreak_t95p0.time', 'affect_dof_mechbreak_t96p0.fxns.store_ee.s.soc', 'affect_dof_mechbreak_t96p0.fxns.store_ee.m.faults.nocharge', 'affect_dof_mechbreak_t96p0.fxns.store_ee.m.mode', 'affect_dof_mechbreak_t96p0.fxns.dist_ee.s.ee_tr', 'affect_dof_mechbreak_t96p0.fxns.dist_ee.s.ee_te', 'affect_dof_mechbreak_t96p0.fxns.dist_ee.m.faults.short', 'affect_dof_mechbreak_t96p0.fxns.dist_ee.m.faults.degr', 'affect_dof_mechbreak_t96p0.fxns.dist_ee.m.faults.break', 'affect_dof_mechbreak_t96p0.fxns.dist_ee.m.mode', 'affect_dof_mechbreak_t96p0.fxns.affect_dof.s.e_to', 'affect_dof_mechbreak_t96p0.fxns.affect_dof.s.e_ti', 'affect_dof_mechbreak_t96p0.fxns.affect_dof.s.ct', 'affect_dof_mechbreak_t96p0.fxns.affect_dof.s.mt', 'affect_dof_mechbreak_t96p0.fxns.affect_dof.s.pt', 'affect_dof_mechbreak_t96p0.fxns.affect_dof.m.faults.short', 'affect_dof_mechbreak_t96p0.fxns.affect_dof.m.faults.openc', 'affect_dof_mechbreak_t96p0.fxns.affect_dof.m.faults.ctlup', 'affect_dof_mechbreak_t96p0.fxns.affect_dof.m.faults.ctldn', 'affect_dof_mechbreak_t96p0.fxns.affect_dof.m.faults.ctlbreak', 'affect_dof_mechbreak_t96p0.fxns.affect_dof.m.faults.mechbreak', 'affect_dof_mechbreak_t96p0.fxns.affect_dof.m.faults.mechfriction', 'affect_dof_mechbreak_t96p0.fxns.affect_dof.m.faults.propwarp', 'affect_dof_mechbreak_t96p0.fxns.affect_dof.m.faults.propstuck', 'affect_dof_mechbreak_t96p0.fxns.affect_dof.m.faults.propbreak', 'affect_dof_mechbreak_t96p0.fxns.affect_dof.m.mode', 'affect_dof_mechbreak_t96p0.fxns.ctl_dof.s.cs', 'affect_dof_mechbreak_t96p0.fxns.ctl_dof.s.vel', 'affect_dof_mechbreak_t96p0.fxns.ctl_dof.m.faults.noctl', 'affect_dof_mechbreak_t96p0.fxns.ctl_dof.m.faults.degctl', 'affect_dof_mechbreak_t96p0.fxns.ctl_dof.m.mode', 'affect_dof_mechbreak_t96p0.fxns.plan_path.s.dx', 'affect_dof_mechbreak_t96p0.fxns.plan_path.s.dy', 'affect_dof_mechbreak_t96p0.fxns.plan_path.s.dz', 'affect_dof_mechbreak_t96p0.fxns.plan_path.s.pt', 'affect_dof_mechbreak_t96p0.fxns.plan_path.s.goal', 'affect_dof_mechbreak_t96p0.fxns.plan_path.m.faults.noloc', 'affect_dof_mechbreak_t96p0.fxns.plan_path.m.faults.degloc', 'affect_dof_mechbreak_t96p0.fxns.plan_path.m.mode', 'affect_dof_mechbreak_t96p0.fxns.plan_path.t.pause.time', 'affect_dof_mechbreak_t96p0.fxns.plan_path.t.pause.mode', 'affect_dof_mechbreak_t96p0.fxns.trajectory.m.mode', 'affect_dof_mechbreak_t96p0.fxns.engage_land.m.faults.break', 'affect_dof_mechbreak_t96p0.fxns.engage_land.m.faults.deform', 'affect_dof_mechbreak_t96p0.fxns.engage_land.m.mode', 'affect_dof_mechbreak_t96p0.fxns.hold_payload.m.faults.break', 'affect_dof_mechbreak_t96p0.fxns.hold_payload.m.faults.deform', 'affect_dof_mechbreak_t96p0.fxns.hold_payload.m.mode', 'affect_dof_mechbreak_t96p0.fxns.view_env.m.mode', 'affect_dof_mechbreak_t96p0.flows.force_st.s.support', 'affect_dof_mechbreak_t96p0.flows.force_lin.s.support', 'affect_dof_mechbreak_t96p0.flows.force_gr.s.support', 'affect_dof_mechbreak_t96p0.flows.force_lg.s.support', 'affect_dof_mechbreak_t96p0.flows.ee_1.s.rate', 'affect_dof_mechbreak_t96p0.flows.ee_1.s.effort', 'affect_dof_mechbreak_t96p0.flows.ee_mot.s.rate', 'affect_dof_mechbreak_t96p0.flows.ee_mot.s.effort', 'affect_dof_mechbreak_t96p0.flows.ee_ctl.s.rate', 'affect_dof_mechbreak_t96p0.flows.ee_ctl.s.effort', 'affect_dof_mechbreak_t96p0.flows.ctl.s.forward', 'affect_dof_mechbreak_t96p0.flows.ctl.s.upward', 'affect_dof_mechbreak_t96p0.flows.dofs.s.vertvel', 'affect_dof_mechbreak_t96p0.flows.dofs.s.planvel', 'affect_dof_mechbreak_t96p0.flows.dofs.s.planpwr', 'affect_dof_mechbreak_t96p0.flows.dofs.s.uppwr', 'affect_dof_mechbreak_t96p0.flows.env.s.x', 'affect_dof_mechbreak_t96p0.flows.env.s.y', 'affect_dof_mechbreak_t96p0.flows.env.s.z', 'affect_dof_mechbreak_t96p0.flows.dir.s.x', 'affect_dof_mechbreak_t96p0.flows.dir.s.y', 'affect_dof_mechbreak_t96p0.flows.dir.s.z', 'affect_dof_mechbreak_t96p0.flows.dir.s.power', 'affect_dof_mechbreak_t96p0.time', 'affect_dof_mechbreak_t97p0.fxns.store_ee.s.soc', 'affect_dof_mechbreak_t97p0.fxns.store_ee.m.faults.nocharge', 'affect_dof_mechbreak_t97p0.fxns.store_ee.m.mode', 'affect_dof_mechbreak_t97p0.fxns.dist_ee.s.ee_tr', 'affect_dof_mechbreak_t97p0.fxns.dist_ee.s.ee_te', 'affect_dof_mechbreak_t97p0.fxns.dist_ee.m.faults.short', 'affect_dof_mechbreak_t97p0.fxns.dist_ee.m.faults.degr', 'affect_dof_mechbreak_t97p0.fxns.dist_ee.m.faults.break', 'affect_dof_mechbreak_t97p0.fxns.dist_ee.m.mode', 'affect_dof_mechbreak_t97p0.fxns.affect_dof.s.e_to', 'affect_dof_mechbreak_t97p0.fxns.affect_dof.s.e_ti', 'affect_dof_mechbreak_t97p0.fxns.affect_dof.s.ct', 'affect_dof_mechbreak_t97p0.fxns.affect_dof.s.mt', 'affect_dof_mechbreak_t97p0.fxns.affect_dof.s.pt', 'affect_dof_mechbreak_t97p0.fxns.affect_dof.m.faults.short', 'affect_dof_mechbreak_t97p0.fxns.affect_dof.m.faults.openc', 'affect_dof_mechbreak_t97p0.fxns.affect_dof.m.faults.ctlup', 'affect_dof_mechbreak_t97p0.fxns.affect_dof.m.faults.ctldn', 'affect_dof_mechbreak_t97p0.fxns.affect_dof.m.faults.ctlbreak', 'affect_dof_mechbreak_t97p0.fxns.affect_dof.m.faults.mechbreak', 'affect_dof_mechbreak_t97p0.fxns.affect_dof.m.faults.mechfriction', 'affect_dof_mechbreak_t97p0.fxns.affect_dof.m.faults.propwarp', 'affect_dof_mechbreak_t97p0.fxns.affect_dof.m.faults.propstuck', 'affect_dof_mechbreak_t97p0.fxns.affect_dof.m.faults.propbreak', 'affect_dof_mechbreak_t97p0.fxns.affect_dof.m.mode', 'affect_dof_mechbreak_t97p0.fxns.ctl_dof.s.cs', 'affect_dof_mechbreak_t97p0.fxns.ctl_dof.s.vel', 'affect_dof_mechbreak_t97p0.fxns.ctl_dof.m.faults.noctl', 'affect_dof_mechbreak_t97p0.fxns.ctl_dof.m.faults.degctl', 'affect_dof_mechbreak_t97p0.fxns.ctl_dof.m.mode', 'affect_dof_mechbreak_t97p0.fxns.plan_path.s.dx', 'affect_dof_mechbreak_t97p0.fxns.plan_path.s.dy', 'affect_dof_mechbreak_t97p0.fxns.plan_path.s.dz', 'affect_dof_mechbreak_t97p0.fxns.plan_path.s.pt', 'affect_dof_mechbreak_t97p0.fxns.plan_path.s.goal', 'affect_dof_mechbreak_t97p0.fxns.plan_path.m.faults.noloc', 'affect_dof_mechbreak_t97p0.fxns.plan_path.m.faults.degloc', 'affect_dof_mechbreak_t97p0.fxns.plan_path.m.mode', 'affect_dof_mechbreak_t97p0.fxns.plan_path.t.pause.time', 'affect_dof_mechbreak_t97p0.fxns.plan_path.t.pause.mode', 'affect_dof_mechbreak_t97p0.fxns.trajectory.m.mode', 'affect_dof_mechbreak_t97p0.fxns.engage_land.m.faults.break', 'affect_dof_mechbreak_t97p0.fxns.engage_land.m.faults.deform', 'affect_dof_mechbreak_t97p0.fxns.engage_land.m.mode', 'affect_dof_mechbreak_t97p0.fxns.hold_payload.m.faults.break', 'affect_dof_mechbreak_t97p0.fxns.hold_payload.m.faults.deform', 'affect_dof_mechbreak_t97p0.fxns.hold_payload.m.mode', 'affect_dof_mechbreak_t97p0.fxns.view_env.m.mode', 'affect_dof_mechbreak_t97p0.flows.force_st.s.support', 'affect_dof_mechbreak_t97p0.flows.force_lin.s.support', 'affect_dof_mechbreak_t97p0.flows.force_gr.s.support', 'affect_dof_mechbreak_t97p0.flows.force_lg.s.support', 'affect_dof_mechbreak_t97p0.flows.ee_1.s.rate', 'affect_dof_mechbreak_t97p0.flows.ee_1.s.effort', 'affect_dof_mechbreak_t97p0.flows.ee_mot.s.rate', 'affect_dof_mechbreak_t97p0.flows.ee_mot.s.effort', 'affect_dof_mechbreak_t97p0.flows.ee_ctl.s.rate', 'affect_dof_mechbreak_t97p0.flows.ee_ctl.s.effort', 'affect_dof_mechbreak_t97p0.flows.ctl.s.forward', 'affect_dof_mechbreak_t97p0.flows.ctl.s.upward', 'affect_dof_mechbreak_t97p0.flows.dofs.s.vertvel', 'affect_dof_mechbreak_t97p0.flows.dofs.s.planvel', 'affect_dof_mechbreak_t97p0.flows.dofs.s.planpwr', 'affect_dof_mechbreak_t97p0.flows.dofs.s.uppwr', 'affect_dof_mechbreak_t97p0.flows.env.s.x', 'affect_dof_mechbreak_t97p0.flows.env.s.y', 'affect_dof_mechbreak_t97p0.flows.env.s.z', 'affect_dof_mechbreak_t97p0.flows.dir.s.x', 'affect_dof_mechbreak_t97p0.flows.dir.s.y', 'affect_dof_mechbreak_t97p0.flows.dir.s.z', 'affect_dof_mechbreak_t97p0.flows.dir.s.power', 'affect_dof_mechbreak_t97p0.time', 'affect_dof_mechbreak_t98p0.fxns.store_ee.s.soc', 'affect_dof_mechbreak_t98p0.fxns.store_ee.m.faults.nocharge', 'affect_dof_mechbreak_t98p0.fxns.store_ee.m.mode', 'affect_dof_mechbreak_t98p0.fxns.dist_ee.s.ee_tr', 'affect_dof_mechbreak_t98p0.fxns.dist_ee.s.ee_te', 'affect_dof_mechbreak_t98p0.fxns.dist_ee.m.faults.short', 'affect_dof_mechbreak_t98p0.fxns.dist_ee.m.faults.degr', 'affect_dof_mechbreak_t98p0.fxns.dist_ee.m.faults.break', 'affect_dof_mechbreak_t98p0.fxns.dist_ee.m.mode', 'affect_dof_mechbreak_t98p0.fxns.affect_dof.s.e_to', 'affect_dof_mechbreak_t98p0.fxns.affect_dof.s.e_ti', 'affect_dof_mechbreak_t98p0.fxns.affect_dof.s.ct', 'affect_dof_mechbreak_t98p0.fxns.affect_dof.s.mt', 'affect_dof_mechbreak_t98p0.fxns.affect_dof.s.pt', 'affect_dof_mechbreak_t98p0.fxns.affect_dof.m.faults.short', 'affect_dof_mechbreak_t98p0.fxns.affect_dof.m.faults.openc', 'affect_dof_mechbreak_t98p0.fxns.affect_dof.m.faults.ctlup', 'affect_dof_mechbreak_t98p0.fxns.affect_dof.m.faults.ctldn', 'affect_dof_mechbreak_t98p0.fxns.affect_dof.m.faults.ctlbreak', 'affect_dof_mechbreak_t98p0.fxns.affect_dof.m.faults.mechbreak', 'affect_dof_mechbreak_t98p0.fxns.affect_dof.m.faults.mechfriction', 'affect_dof_mechbreak_t98p0.fxns.affect_dof.m.faults.propwarp', 'affect_dof_mechbreak_t98p0.fxns.affect_dof.m.faults.propstuck', 'affect_dof_mechbreak_t98p0.fxns.affect_dof.m.faults.propbreak', 'affect_dof_mechbreak_t98p0.fxns.affect_dof.m.mode', 'affect_dof_mechbreak_t98p0.fxns.ctl_dof.s.cs', 'affect_dof_mechbreak_t98p0.fxns.ctl_dof.s.vel', 'affect_dof_mechbreak_t98p0.fxns.ctl_dof.m.faults.noctl', 'affect_dof_mechbreak_t98p0.fxns.ctl_dof.m.faults.degctl', 'affect_dof_mechbreak_t98p0.fxns.ctl_dof.m.mode', 'affect_dof_mechbreak_t98p0.fxns.plan_path.s.dx', 'affect_dof_mechbreak_t98p0.fxns.plan_path.s.dy', 'affect_dof_mechbreak_t98p0.fxns.plan_path.s.dz', 'affect_dof_mechbreak_t98p0.fxns.plan_path.s.pt', 'affect_dof_mechbreak_t98p0.fxns.plan_path.s.goal', 'affect_dof_mechbreak_t98p0.fxns.plan_path.m.faults.noloc', 'affect_dof_mechbreak_t98p0.fxns.plan_path.m.faults.degloc', 'affect_dof_mechbreak_t98p0.fxns.plan_path.m.mode', 'affect_dof_mechbreak_t98p0.fxns.plan_path.t.pause.time', 'affect_dof_mechbreak_t98p0.fxns.plan_path.t.pause.mode', 'affect_dof_mechbreak_t98p0.fxns.trajectory.m.mode', 'affect_dof_mechbreak_t98p0.fxns.engage_land.m.faults.break', 'affect_dof_mechbreak_t98p0.fxns.engage_land.m.faults.deform', 'affect_dof_mechbreak_t98p0.fxns.engage_land.m.mode', 'affect_dof_mechbreak_t98p0.fxns.hold_payload.m.faults.break', 'affect_dof_mechbreak_t98p0.fxns.hold_payload.m.faults.deform', 'affect_dof_mechbreak_t98p0.fxns.hold_payload.m.mode', 'affect_dof_mechbreak_t98p0.fxns.view_env.m.mode', 'affect_dof_mechbreak_t98p0.flows.force_st.s.support', 'affect_dof_mechbreak_t98p0.flows.force_lin.s.support', 'affect_dof_mechbreak_t98p0.flows.force_gr.s.support', 'affect_dof_mechbreak_t98p0.flows.force_lg.s.support', 'affect_dof_mechbreak_t98p0.flows.ee_1.s.rate', 'affect_dof_mechbreak_t98p0.flows.ee_1.s.effort', 'affect_dof_mechbreak_t98p0.flows.ee_mot.s.rate', 'affect_dof_mechbreak_t98p0.flows.ee_mot.s.effort', 'affect_dof_mechbreak_t98p0.flows.ee_ctl.s.rate', 'affect_dof_mechbreak_t98p0.flows.ee_ctl.s.effort', 'affect_dof_mechbreak_t98p0.flows.ctl.s.forward', 'affect_dof_mechbreak_t98p0.flows.ctl.s.upward', 'affect_dof_mechbreak_t98p0.flows.dofs.s.vertvel', 'affect_dof_mechbreak_t98p0.flows.dofs.s.planvel', 'affect_dof_mechbreak_t98p0.flows.dofs.s.planpwr', 'affect_dof_mechbreak_t98p0.flows.dofs.s.uppwr', 'affect_dof_mechbreak_t98p0.flows.env.s.x', 'affect_dof_mechbreak_t98p0.flows.env.s.y', 'affect_dof_mechbreak_t98p0.flows.env.s.z', 'affect_dof_mechbreak_t98p0.flows.dir.s.x', 'affect_dof_mechbreak_t98p0.flows.dir.s.y', 'affect_dof_mechbreak_t98p0.flows.dir.s.z', 'affect_dof_mechbreak_t98p0.flows.dir.s.power', 'affect_dof_mechbreak_t98p0.time', 'affect_dof_mechbreak_t99p0.fxns.store_ee.s.soc', 'affect_dof_mechbreak_t99p0.fxns.store_ee.m.faults.nocharge', 'affect_dof_mechbreak_t99p0.fxns.store_ee.m.mode', 'affect_dof_mechbreak_t99p0.fxns.dist_ee.s.ee_tr', 'affect_dof_mechbreak_t99p0.fxns.dist_ee.s.ee_te', 'affect_dof_mechbreak_t99p0.fxns.dist_ee.m.faults.short', 'affect_dof_mechbreak_t99p0.fxns.dist_ee.m.faults.degr', 'affect_dof_mechbreak_t99p0.fxns.dist_ee.m.faults.break', 'affect_dof_mechbreak_t99p0.fxns.dist_ee.m.mode', 'affect_dof_mechbreak_t99p0.fxns.affect_dof.s.e_to', 'affect_dof_mechbreak_t99p0.fxns.affect_dof.s.e_ti', 'affect_dof_mechbreak_t99p0.fxns.affect_dof.s.ct', 'affect_dof_mechbreak_t99p0.fxns.affect_dof.s.mt', 'affect_dof_mechbreak_t99p0.fxns.affect_dof.s.pt', 'affect_dof_mechbreak_t99p0.fxns.affect_dof.m.faults.short', 'affect_dof_mechbreak_t99p0.fxns.affect_dof.m.faults.openc', 'affect_dof_mechbreak_t99p0.fxns.affect_dof.m.faults.ctlup', 'affect_dof_mechbreak_t99p0.fxns.affect_dof.m.faults.ctldn', 'affect_dof_mechbreak_t99p0.fxns.affect_dof.m.faults.ctlbreak', 'affect_dof_mechbreak_t99p0.fxns.affect_dof.m.faults.mechbreak', 'affect_dof_mechbreak_t99p0.fxns.affect_dof.m.faults.mechfriction', 'affect_dof_mechbreak_t99p0.fxns.affect_dof.m.faults.propwarp', 'affect_dof_mechbreak_t99p0.fxns.affect_dof.m.faults.propstuck', 'affect_dof_mechbreak_t99p0.fxns.affect_dof.m.faults.propbreak', 'affect_dof_mechbreak_t99p0.fxns.affect_dof.m.mode', 'affect_dof_mechbreak_t99p0.fxns.ctl_dof.s.cs', 'affect_dof_mechbreak_t99p0.fxns.ctl_dof.s.vel', 'affect_dof_mechbreak_t99p0.fxns.ctl_dof.m.faults.noctl', 'affect_dof_mechbreak_t99p0.fxns.ctl_dof.m.faults.degctl', 'affect_dof_mechbreak_t99p0.fxns.ctl_dof.m.mode', 'affect_dof_mechbreak_t99p0.fxns.plan_path.s.dx', 'affect_dof_mechbreak_t99p0.fxns.plan_path.s.dy', 'affect_dof_mechbreak_t99p0.fxns.plan_path.s.dz', 'affect_dof_mechbreak_t99p0.fxns.plan_path.s.pt', 'affect_dof_mechbreak_t99p0.fxns.plan_path.s.goal', 'affect_dof_mechbreak_t99p0.fxns.plan_path.m.faults.noloc', 'affect_dof_mechbreak_t99p0.fxns.plan_path.m.faults.degloc', 'affect_dof_mechbreak_t99p0.fxns.plan_path.m.mode', 'affect_dof_mechbreak_t99p0.fxns.plan_path.t.pause.time', 'affect_dof_mechbreak_t99p0.fxns.plan_path.t.pause.mode', 'affect_dof_mechbreak_t99p0.fxns.trajectory.m.mode', 'affect_dof_mechbreak_t99p0.fxns.engage_land.m.faults.break', 'affect_dof_mechbreak_t99p0.fxns.engage_land.m.faults.deform', 'affect_dof_mechbreak_t99p0.fxns.engage_land.m.mode', 'affect_dof_mechbreak_t99p0.fxns.hold_payload.m.faults.break', 'affect_dof_mechbreak_t99p0.fxns.hold_payload.m.faults.deform', 'affect_dof_mechbreak_t99p0.fxns.hold_payload.m.mode', 'affect_dof_mechbreak_t99p0.fxns.view_env.m.mode', 'affect_dof_mechbreak_t99p0.flows.force_st.s.support', 'affect_dof_mechbreak_t99p0.flows.force_lin.s.support', 'affect_dof_mechbreak_t99p0.flows.force_gr.s.support', 'affect_dof_mechbreak_t99p0.flows.force_lg.s.support', 'affect_dof_mechbreak_t99p0.flows.ee_1.s.rate', 'affect_dof_mechbreak_t99p0.flows.ee_1.s.effort', 'affect_dof_mechbreak_t99p0.flows.ee_mot.s.rate', 'affect_dof_mechbreak_t99p0.flows.ee_mot.s.effort', 'affect_dof_mechbreak_t99p0.flows.ee_ctl.s.rate', 'affect_dof_mechbreak_t99p0.flows.ee_ctl.s.effort', 'affect_dof_mechbreak_t99p0.flows.ctl.s.forward', 'affect_dof_mechbreak_t99p0.flows.ctl.s.upward', 'affect_dof_mechbreak_t99p0.flows.dofs.s.vertvel', 'affect_dof_mechbreak_t99p0.flows.dofs.s.planvel', 'affect_dof_mechbreak_t99p0.flows.dofs.s.planpwr', 'affect_dof_mechbreak_t99p0.flows.dofs.s.uppwr', 'affect_dof_mechbreak_t99p0.flows.env.s.x', 'affect_dof_mechbreak_t99p0.flows.env.s.y', 'affect_dof_mechbreak_t99p0.flows.env.s.z', 'affect_dof_mechbreak_t99p0.flows.dir.s.x', 'affect_dof_mechbreak_t99p0.flows.dir.s.y', 'affect_dof_mechbreak_t99p0.flows.dir.s.z', 'affect_dof_mechbreak_t99p0.flows.dir.s.power', 'affect_dof_mechbreak_t99p0.time', 'affect_dof_mechbreak_t100p0.fxns.store_ee.s.soc', 'affect_dof_mechbreak_t100p0.fxns.store_ee.m.faults.nocharge', 'affect_dof_mechbreak_t100p0.fxns.store_ee.m.mode', 'affect_dof_mechbreak_t100p0.fxns.dist_ee.s.ee_tr', 'affect_dof_mechbreak_t100p0.fxns.dist_ee.s.ee_te', 'affect_dof_mechbreak_t100p0.fxns.dist_ee.m.faults.short', 'affect_dof_mechbreak_t100p0.fxns.dist_ee.m.faults.degr', 'affect_dof_mechbreak_t100p0.fxns.dist_ee.m.faults.break', 'affect_dof_mechbreak_t100p0.fxns.dist_ee.m.mode', 'affect_dof_mechbreak_t100p0.fxns.affect_dof.s.e_to', 'affect_dof_mechbreak_t100p0.fxns.affect_dof.s.e_ti', 'affect_dof_mechbreak_t100p0.fxns.affect_dof.s.ct', 'affect_dof_mechbreak_t100p0.fxns.affect_dof.s.mt', 'affect_dof_mechbreak_t100p0.fxns.affect_dof.s.pt', 'affect_dof_mechbreak_t100p0.fxns.affect_dof.m.faults.short', 'affect_dof_mechbreak_t100p0.fxns.affect_dof.m.faults.openc', 'affect_dof_mechbreak_t100p0.fxns.affect_dof.m.faults.ctlup', 'affect_dof_mechbreak_t100p0.fxns.affect_dof.m.faults.ctldn', 'affect_dof_mechbreak_t100p0.fxns.affect_dof.m.faults.ctlbreak', 'affect_dof_mechbreak_t100p0.fxns.affect_dof.m.faults.mechbreak', 'affect_dof_mechbreak_t100p0.fxns.affect_dof.m.faults.mechfriction', 'affect_dof_mechbreak_t100p0.fxns.affect_dof.m.faults.propwarp', 'affect_dof_mechbreak_t100p0.fxns.affect_dof.m.faults.propstuck', 'affect_dof_mechbreak_t100p0.fxns.affect_dof.m.faults.propbreak', 'affect_dof_mechbreak_t100p0.fxns.affect_dof.m.mode', 'affect_dof_mechbreak_t100p0.fxns.ctl_dof.s.cs', 'affect_dof_mechbreak_t100p0.fxns.ctl_dof.s.vel', 'affect_dof_mechbreak_t100p0.fxns.ctl_dof.m.faults.noctl', 'affect_dof_mechbreak_t100p0.fxns.ctl_dof.m.faults.degctl', 'affect_dof_mechbreak_t100p0.fxns.ctl_dof.m.mode', 'affect_dof_mechbreak_t100p0.fxns.plan_path.s.dx', 'affect_dof_mechbreak_t100p0.fxns.plan_path.s.dy', 'affect_dof_mechbreak_t100p0.fxns.plan_path.s.dz', 'affect_dof_mechbreak_t100p0.fxns.plan_path.s.pt', 'affect_dof_mechbreak_t100p0.fxns.plan_path.s.goal', 'affect_dof_mechbreak_t100p0.fxns.plan_path.m.faults.noloc', 'affect_dof_mechbreak_t100p0.fxns.plan_path.m.faults.degloc', 'affect_dof_mechbreak_t100p0.fxns.plan_path.m.mode', 'affect_dof_mechbreak_t100p0.fxns.plan_path.t.pause.time', 'affect_dof_mechbreak_t100p0.fxns.plan_path.t.pause.mode', 'affect_dof_mechbreak_t100p0.fxns.trajectory.m.mode', 'affect_dof_mechbreak_t100p0.fxns.engage_land.m.faults.break', 'affect_dof_mechbreak_t100p0.fxns.engage_land.m.faults.deform', 'affect_dof_mechbreak_t100p0.fxns.engage_land.m.mode', 'affect_dof_mechbreak_t100p0.fxns.hold_payload.m.faults.break', 'affect_dof_mechbreak_t100p0.fxns.hold_payload.m.faults.deform', 'affect_dof_mechbreak_t100p0.fxns.hold_payload.m.mode', 'affect_dof_mechbreak_t100p0.fxns.view_env.m.mode', 'affect_dof_mechbreak_t100p0.flows.force_st.s.support', 'affect_dof_mechbreak_t100p0.flows.force_lin.s.support', 'affect_dof_mechbreak_t100p0.flows.force_gr.s.support', 'affect_dof_mechbreak_t100p0.flows.force_lg.s.support', 'affect_dof_mechbreak_t100p0.flows.ee_1.s.rate', 'affect_dof_mechbreak_t100p0.flows.ee_1.s.effort', 'affect_dof_mechbreak_t100p0.flows.ee_mot.s.rate', 'affect_dof_mechbreak_t100p0.flows.ee_mot.s.effort', 'affect_dof_mechbreak_t100p0.flows.ee_ctl.s.rate', 'affect_dof_mechbreak_t100p0.flows.ee_ctl.s.effort', 'affect_dof_mechbreak_t100p0.flows.ctl.s.forward', 'affect_dof_mechbreak_t100p0.flows.ctl.s.upward', 'affect_dof_mechbreak_t100p0.flows.dofs.s.vertvel', 'affect_dof_mechbreak_t100p0.flows.dofs.s.planvel', 'affect_dof_mechbreak_t100p0.flows.dofs.s.planpwr', 'affect_dof_mechbreak_t100p0.flows.dofs.s.uppwr', 'affect_dof_mechbreak_t100p0.flows.env.s.x', 'affect_dof_mechbreak_t100p0.flows.env.s.y', 'affect_dof_mechbreak_t100p0.flows.env.s.z', 'affect_dof_mechbreak_t100p0.flows.dir.s.x', 'affect_dof_mechbreak_t100p0.flows.dir.s.y', 'affect_dof_mechbreak_t100p0.flows.dir.s.z', 'affect_dof_mechbreak_t100p0.flows.dir.s.power', 'affect_dof_mechbreak_t100p0.time', 'nominal.fxns.store_ee.s.soc', 'nominal.fxns.store_ee.m.faults.nocharge', 'nominal.fxns.store_ee.m.mode', 'nominal.fxns.dist_ee.s.ee_tr', 'nominal.fxns.dist_ee.s.ee_te', 'nominal.fxns.dist_ee.m.faults.short', 'nominal.fxns.dist_ee.m.faults.degr', 'nominal.fxns.dist_ee.m.faults.break', 'nominal.fxns.dist_ee.m.mode', 'nominal.fxns.affect_dof.s.e_to', 'nominal.fxns.affect_dof.s.e_ti', 'nominal.fxns.affect_dof.s.ct', 'nominal.fxns.affect_dof.s.mt', 'nominal.fxns.affect_dof.s.pt', 'nominal.fxns.affect_dof.m.faults.short', 'nominal.fxns.affect_dof.m.faults.openc', 'nominal.fxns.affect_dof.m.faults.ctlup', 'nominal.fxns.affect_dof.m.faults.ctldn', 'nominal.fxns.affect_dof.m.faults.ctlbreak', 'nominal.fxns.affect_dof.m.faults.mechbreak', 'nominal.fxns.affect_dof.m.faults.mechfriction', 'nominal.fxns.affect_dof.m.faults.propwarp', 'nominal.fxns.affect_dof.m.faults.propstuck', 'nominal.fxns.affect_dof.m.faults.propbreak', 'nominal.fxns.affect_dof.m.mode', 'nominal.fxns.ctl_dof.s.cs', 'nominal.fxns.ctl_dof.s.vel', 'nominal.fxns.ctl_dof.m.faults.noctl', 'nominal.fxns.ctl_dof.m.faults.degctl', 'nominal.fxns.ctl_dof.m.mode', 'nominal.fxns.plan_path.s.dx', 'nominal.fxns.plan_path.s.dy', 'nominal.fxns.plan_path.s.dz', 'nominal.fxns.plan_path.s.pt', 'nominal.fxns.plan_path.s.goal', 'nominal.fxns.plan_path.m.faults.noloc', 'nominal.fxns.plan_path.m.faults.degloc', 'nominal.fxns.plan_path.m.mode', 'nominal.fxns.plan_path.t.pause.time', 'nominal.fxns.plan_path.t.pause.mode', 'nominal.fxns.trajectory.m.mode', 'nominal.fxns.engage_land.m.faults.break', 'nominal.fxns.engage_land.m.faults.deform', 'nominal.fxns.engage_land.m.mode', 'nominal.fxns.hold_payload.m.faults.break', 'nominal.fxns.hold_payload.m.faults.deform', 'nominal.fxns.hold_payload.m.mode', 'nominal.fxns.view_env.m.mode', 'nominal.flows.force_st.s.support', 'nominal.flows.force_lin.s.support', 'nominal.flows.force_gr.s.support', 'nominal.flows.force_lg.s.support', 'nominal.flows.ee_1.s.rate', 'nominal.flows.ee_1.s.effort', 'nominal.flows.ee_mot.s.rate', 'nominal.flows.ee_mot.s.effort', 'nominal.flows.ee_ctl.s.rate', 'nominal.flows.ee_ctl.s.effort', 'nominal.flows.ctl.s.forward', 'nominal.flows.ctl.s.upward', 'nominal.flows.dofs.s.vertvel', 'nominal.flows.dofs.s.planvel', 'nominal.flows.dofs.s.planpwr', 'nominal.flows.dofs.s.uppwr', 'nominal.flows.env.s.x', 'nominal.flows.env.s.y', 'nominal.flows.env.s.z', 'nominal.flows.dir.s.x', 'nominal.flows.dir.s.y', 'nominal.flows.dir.s.z', 'nominal.flows.dir.s.power', 'nominal.time'])"
      ]
     },
     "execution_count": 30,
     "metadata": {},
     "output_type": "execute_result"
    }
   ],
   "source": [
    "quad_comp_mdlhists.keys()"
   ]
  },
  {
   "cell_type": "code",
   "execution_count": 31,
   "metadata": {
    "execution": {
     "iopub.execute_input": "2023-08-04T16:21:56.103991Z",
     "iopub.status.busy": "2023-08-04T16:21:56.103991Z",
     "iopub.status.idle": "2023-08-04T16:21:56.116800Z",
     "shell.execute_reply": "2023-08-04T16:21:56.116800Z"
    }
   },
   "outputs": [
    {
     "data": {
      "text/plain": [
       "39.82614350378407"
      ]
     },
     "execution_count": 31,
     "metadata": {},
     "output_type": "execute_result"
    }
   ],
   "source": [
    "quad_comp_mdlhists.affect_dof_mechbreak_t20p0.flows.env.s.x[-1]"
   ]
  },
  {
   "cell_type": "code",
   "execution_count": 32,
   "metadata": {
    "execution": {
     "iopub.execute_input": "2023-08-04T16:21:56.120765Z",
     "iopub.status.busy": "2023-08-04T16:21:56.120765Z",
     "iopub.status.idle": "2023-08-04T16:21:56.480788Z",
     "shell.execute_reply": "2023-08-04T16:21:56.479799Z"
    }
   },
   "outputs": [
    {
     "data": {
      "image/png": "[encoded data removed]",
      "text/plain": [
       "<Figure size 432x288 with 2 Axes>"
      ]
     },
     "metadata": {
      "needs_background": "light"
     },
     "output_type": "display_data"
    }
   ],
   "source": [
    "an.plot.samplemetric(quad_comp_app, quad_comp_endclasses, ('affect_dof', 'mechbreak'))\n",
    "fig = plt.gcf()\n",
    "fig.savefig(\"cost_over_time.pdf\", format=\"pdf\", bbox_inches = 'tight', pad_inches = 0)"
   ]
  },
  {
   "cell_type": "code",
   "execution_count": 33,
   "metadata": {
    "execution": {
     "iopub.execute_input": "2023-08-04T16:21:56.482786Z",
     "iopub.status.busy": "2023-08-04T16:21:56.482786Z",
     "iopub.status.idle": "2023-08-04T16:21:56.495496Z",
     "shell.execute_reply": "2023-08-04T16:21:56.494702Z"
    }
   },
   "outputs": [
    {
     "data": {
      "text/plain": [
       "affect_dof_mechbreak9.25925925925926e-10\n",
       "affect_dof_mechbreak                 500\n",
       "affect_dof_mechbreak  0.0462962962962963\n",
       "affect_dof_mechbreak9.25925925925926e-10\n",
       "affect_dof_mechbreak              133500\n",
       "affect_dof_mechbreak  12.361111111111112\n",
       "affect_dof_mechbreak9.25925925925926e-10\n",
       "affect_dof_mechbreak              133500\n",
       "affect_dof_mechbreak  12.361111111111112\n",
       "affect_dof_mechbreak9.25925925925926e-10\n",
       "affect_dof_mechbreak              133500\n",
       "affect_dof_mechbreak  12.361111111111112\n",
       "affect_dof_mechbreak9.25925925925926e-10\n",
       "affect_dof_mechbreak              133500\n",
       "affect_dof_mechbreak  12.361111111111112\n",
       "affect_dof_mechbreak1.6666666666666667e-08\n",
       "affect_dof_mechbreak              183500\n",
       "affect_dof_mechbreak  305.83333333333337\n",
       "affect_dof_mechbreak1.6666666666666667e-08\n",
       "affect_dof_mechbreak              183500\n",
       "affect_dof_mechbreak  305.83333333333337\n",
       "affect_dof_mechbreak1.6666666666666667e-08\n",
       "affect_dof_mechbreak              183500\n",
       "affect_dof_mechbreak  305.83333333333337\n",
       "affect_dof_mechbreak1.6666666666666667e-08\n",
       "affect_dof_mechbreak              183500\n",
       "affect_dof_mechbreak  305.83333333333337\n",
       "affect_dof_mechbreak1.6666666666666667e-08\n",
       "affect_dof_mechbreak              133500\n",
       "affect_dof_mechbreak               222.5\n",
       "affect_dof_mechbreak9.259259259259261e-10\n",
       "affect_dof_mechbreak                 500\n",
       "affect_dof_mechbreak 0.04629629629629631\n",
       "affect_dof_mechbreak9.259259259259261e-10\n",
       "affect_dof_mechbreak                 500\n",
       "affect_dof_mechbreak 0.04629629629629631\n",
       "affect_dof_mechbreak9.259259259259261e-10\n",
       "affect_dof_mechbreak                 500\n",
       "affect_dof_mechbreak 0.04629629629629631\n",
       "affect_dof_mechbreak9.259259259259261e-10\n",
       "affect_dof_mechbreak                 500\n",
       "affect_dof_mechbreak 0.04629629629629631\n",
       "affect_dof_mechbreak9.259259259259261e-10\n",
       "affect_dof_mechbreak                 500\n",
       "affect_dof_mechbreak 0.04629629629629631\n",
       "affect_dof_mechbreak9.259259259259261e-10\n",
       "affect_dof_mechbreak                 500\n",
       "affect_dof_mechbreak 0.04629629629629631\n",
       "nominal.endclass.rate:               1.0\n",
       "nominal.endclass.cost:                 0\n",
       "nominal.endclass.expected cost:      0.0"
      ]
     },
     "execution_count": 33,
     "metadata": {},
     "output_type": "execute_result"
    }
   ],
   "source": [
    "quad_comp_endclasses"
   ]
  },
  {
   "attachments": {},
   "cell_type": "markdown",
   "metadata": {},
   "source": [
    "## Hierarchical Model\n",
    "\n",
    "In the hierarchical model, we can use the simulation to compare system architectures. First by seeing how faults effect the behaviors in each architechture, then by seing how it affects the overall system resilience. \n",
    "\n",
    "This model is located in `drone_mdl_hierarchical.py`."
   ]
  },
  {
   "cell_type": "code",
   "execution_count": 34,
   "metadata": {
    "execution": {
     "iopub.execute_input": "2023-08-04T16:21:56.498524Z",
     "iopub.status.busy": "2023-08-04T16:21:56.497528Z",
     "iopub.status.idle": "2023-08-04T16:21:56.512300Z",
     "shell.execute_reply": "2023-08-04T16:21:56.511256Z"
    }
   },
   "outputs": [],
   "source": [
    "from drone_mdl_hierarchical import Drone as Drone_Hierarchical"
   ]
  },
  {
   "attachments": {},
   "cell_type": "markdown",
   "metadata": {},
   "source": [
    "First, we can model how the quadrotor architecture behaves under faults--in this case, identically to the non-hierarchical model:"
   ]
  },
  {
   "cell_type": "code",
   "execution_count": 35,
   "metadata": {
    "execution": {
     "iopub.execute_input": "2023-08-04T16:21:56.515289Z",
     "iopub.status.busy": "2023-08-04T16:21:56.514331Z",
     "iopub.status.idle": "2023-08-04T16:21:59.026004Z",
     "shell.execute_reply": "2023-08-04T16:21:59.024971Z"
    }
   },
   "outputs": [],
   "source": [
    "hierarchical_model = Drone_Hierarchical(p={'arch':'quad'})\n",
    "endclass, mdlhist = fs.propagate.one_fault(hierarchical_model,'affect_dof', 'rf_mechbreak', time=50)"
   ]
  },
  {
   "cell_type": "code",
   "execution_count": 36,
   "metadata": {
    "execution": {
     "iopub.execute_input": "2023-08-04T16:21:59.028967Z",
     "iopub.status.busy": "2023-08-04T16:21:59.028967Z",
     "iopub.status.idle": "2023-08-04T16:21:59.419128Z",
     "shell.execute_reply": "2023-08-04T16:21:59.418544Z"
    }
   },
   "outputs": [
    {
     "data": {
      "image/png": "[encoded data removed]",
      "text/plain": [
       "<Figure size 432x288 with 4 Axes>"
      ]
     },
     "metadata": {
      "needs_background": "light"
     },
     "output_type": "display_data"
    }
   ],
   "source": [
    "fig, axs = an.plot.hist(mdlhist, 'flows.env.s.x', 'env.s.y', 'env.s.z', 'store_ee.s.soc',\n",
    "                        title='Response of Drone to AffectDOF mechbreak', time_slice=50, legend_loc=False)"
   ]
  },
  {
   "attachments": {},
   "cell_type": "markdown",
   "metadata": {},
   "source": [
    "Then we can see how the octorotor architecture performs in the same case:"
   ]
  },
  {
   "cell_type": "code",
   "execution_count": 37,
   "metadata": {
    "execution": {
     "iopub.execute_input": "2023-08-04T16:21:59.421664Z",
     "iopub.status.busy": "2023-08-04T16:21:59.421664Z",
     "iopub.status.idle": "2023-08-04T16:22:02.231658Z",
     "shell.execute_reply": "2023-08-04T16:22:02.230705Z"
    }
   },
   "outputs": [],
   "source": [
    "hierarchical_model = Drone_Hierarchical(p={'arch':'oct'})\n",
    "endclass, mdlhist = fs.propagate.one_fault(hierarchical_model,'affect_dof', 'rf_mechbreak', time=50)"
   ]
  },
  {
   "cell_type": "code",
   "execution_count": 38,
   "metadata": {
    "execution": {
     "iopub.execute_input": "2023-08-04T16:22:02.233801Z",
     "iopub.status.busy": "2023-08-04T16:22:02.233801Z",
     "iopub.status.idle": "2023-08-04T16:22:02.861096Z",
     "shell.execute_reply": "2023-08-04T16:22:02.861096Z"
    }
   },
   "outputs": [
    {
     "data": {
      "image/png": "[encoded data removed]",
      "text/plain": [
       "<Figure size 432x288 with 4 Axes>"
      ]
     },
     "metadata": {
      "needs_background": "light"
     },
     "output_type": "display_data"
    }
   ],
   "source": [
    "fig, axs = an.plot.hist(mdlhist, 'flows.env.s.x', 'env.s.y', 'env.s.z', 'store_ee.s.soc',\n",
    "                        title='Response of Drone to AffectDOF: RFmechbreak', \n",
    "                        ylabels={'flows.env.s.x':'m','flows.env.s.y':'m','flows.env.s.z':'m','fxns.store_ee.s.soc':'%'},\\\n",
    "                        time_slice=50, h_padding=0.3, legend_loc=2)\n",
    "\n",
    "fig.savefig(\"red_fault_behavior.pdf\", format=\"pdf\", bbox_inches = 'tight', pad_inches = 0)"
   ]
  },
  {
   "attachments": {},
   "cell_type": "markdown",
   "metadata": {},
   "source": [
    "As shown, the octorotor architecture enables the quadrotor to recover from the fault and land."
   ]
  },
  {
   "attachments": {},
   "cell_type": "markdown",
   "metadata": {},
   "source": [
    "Next, we can compare how each architecture mitigates the set of faults that originiate in each function:\n",
    "### Quadcopter Resilience\n",
    "\n",
    "Here we quantify the expected costs of faults originiating in the quadcopter architecture:"
   ]
  },
  {
   "cell_type": "code",
   "execution_count": 39,
   "metadata": {
    "execution": {
     "iopub.execute_input": "2023-08-04T16:22:02.865051Z",
     "iopub.status.busy": "2023-08-04T16:22:02.865051Z",
     "iopub.status.idle": "2023-08-04T16:22:02.892457Z",
     "shell.execute_reply": "2023-08-04T16:22:02.892457Z"
    }
   },
   "outputs": [],
   "source": [
    "mdl_quad = Drone_Hierarchical(p={'arch':'quad'})\n",
    "mdl_quad.fxns['affect_dof'].m.faultmodes\n",
    "quad_faults = [('affect_dof', fault) for fault in list(mdl_quad.fxns['affect_dof'].m.faultmodes.keys())]"
   ]
  },
  {
   "cell_type": "code",
   "execution_count": 40,
   "metadata": {
    "execution": {
     "iopub.execute_input": "2023-08-04T16:22:02.896482Z",
     "iopub.status.busy": "2023-08-04T16:22:02.896482Z",
     "iopub.status.idle": "2023-08-04T16:23:45.462069Z",
     "shell.execute_reply": "2023-08-04T16:23:45.462069Z"
    }
   },
   "outputs": [
    {
     "name": "stderr",
     "output_type": "stream",
     "text": [
      "\r",
      "SCENARIOS COMPLETE:   0%|          | 0/120 [00:00<?, ?it/s]"
     ]
    },
    {
     "name": "stderr",
     "output_type": "stream",
     "text": [
      "\r",
      "SCENARIOS COMPLETE:   1%|          | 1/120 [00:01<02:28,  1.25s/it]"
     ]
    },
    {
     "name": "stderr",
     "output_type": "stream",
     "text": [
      "\r",
      "SCENARIOS COMPLETE:   2%|▏         | 2/120 [00:02<02:33,  1.30s/it]"
     ]
    },
    {
     "name": "stderr",
     "output_type": "stream",
     "text": [
      "\r",
      "SCENARIOS COMPLETE:   2%|▎         | 3/120 [00:03<02:34,  1.32s/it]"
     ]
    },
    {
     "name": "stderr",
     "output_type": "stream",
     "text": [
      "\r",
      "SCENARIOS COMPLETE:   3%|▎         | 4/120 [00:05<02:35,  1.34s/it]"
     ]
    },
    {
     "name": "stderr",
     "output_type": "stream",
     "text": [
      "\r",
      "SCENARIOS COMPLETE:   4%|▍         | 5/120 [00:06<02:33,  1.34s/it]"
     ]
    },
    {
     "name": "stderr",
     "output_type": "stream",
     "text": [
      "\r",
      "SCENARIOS COMPLETE:   5%|▌         | 6/120 [00:07<02:29,  1.31s/it]"
     ]
    },
    {
     "name": "stderr",
     "output_type": "stream",
     "text": [
      "\r",
      "SCENARIOS COMPLETE:   6%|▌         | 7/120 [00:09<02:27,  1.31s/it]"
     ]
    },
    {
     "name": "stderr",
     "output_type": "stream",
     "text": [
      "\r",
      "SCENARIOS COMPLETE:   7%|▋         | 8/120 [00:10<02:26,  1.31s/it]"
     ]
    },
    {
     "name": "stderr",
     "output_type": "stream",
     "text": [
      "\r",
      "SCENARIOS COMPLETE:   8%|▊         | 9/120 [00:11<02:23,  1.30s/it]"
     ]
    },
    {
     "name": "stderr",
     "output_type": "stream",
     "text": [
      "\r",
      "SCENARIOS COMPLETE:   8%|▊         | 10/120 [00:13<02:23,  1.30s/it]"
     ]
    },
    {
     "name": "stderr",
     "output_type": "stream",
     "text": [
      "\r",
      "SCENARIOS COMPLETE:   9%|▉         | 11/120 [00:14<02:21,  1.29s/it]"
     ]
    },
    {
     "name": "stderr",
     "output_type": "stream",
     "text": [
      "\r",
      "SCENARIOS COMPLETE:  10%|█         | 12/120 [00:15<02:20,  1.30s/it]"
     ]
    },
    {
     "name": "stderr",
     "output_type": "stream",
     "text": [
      "\r",
      "SCENARIOS COMPLETE:  11%|█         | 13/120 [00:17<02:25,  1.36s/it]"
     ]
    },
    {
     "name": "stderr",
     "output_type": "stream",
     "text": [
      "\r",
      "SCENARIOS COMPLETE:  12%|█▏        | 14/120 [00:18<02:20,  1.33s/it]"
     ]
    },
    {
     "name": "stderr",
     "output_type": "stream",
     "text": [
      "\r",
      "SCENARIOS COMPLETE:  12%|█▎        | 15/120 [00:19<02:18,  1.32s/it]"
     ]
    },
    {
     "name": "stderr",
     "output_type": "stream",
     "text": [
      "\r",
      "SCENARIOS COMPLETE:  13%|█▎        | 16/120 [00:21<02:16,  1.31s/it]"
     ]
    },
    {
     "name": "stderr",
     "output_type": "stream",
     "text": [
      "\r",
      "SCENARIOS COMPLETE:  14%|█▍        | 17/120 [00:22<02:14,  1.30s/it]"
     ]
    },
    {
     "name": "stderr",
     "output_type": "stream",
     "text": [
      "\r",
      "SCENARIOS COMPLETE:  15%|█▌        | 18/120 [00:23<02:11,  1.29s/it]"
     ]
    },
    {
     "name": "stderr",
     "output_type": "stream",
     "text": [
      "\r",
      "SCENARIOS COMPLETE:  16%|█▌        | 19/120 [00:24<02:09,  1.28s/it]"
     ]
    },
    {
     "name": "stderr",
     "output_type": "stream",
     "text": [
      "\r",
      "SCENARIOS COMPLETE:  17%|█▋        | 20/120 [00:26<02:07,  1.27s/it]"
     ]
    },
    {
     "name": "stderr",
     "output_type": "stream",
     "text": [
      "\r",
      "SCENARIOS COMPLETE:  18%|█▊        | 21/120 [00:27<02:05,  1.26s/it]"
     ]
    },
    {
     "name": "stderr",
     "output_type": "stream",
     "text": [
      "\r",
      "SCENARIOS COMPLETE:  18%|█▊        | 22/120 [00:28<02:10,  1.33s/it]"
     ]
    },
    {
     "name": "stderr",
     "output_type": "stream",
     "text": [
      "\r",
      "SCENARIOS COMPLETE:  19%|█▉        | 23/120 [00:30<02:11,  1.35s/it]"
     ]
    },
    {
     "name": "stderr",
     "output_type": "stream",
     "text": [
      "\r",
      "SCENARIOS COMPLETE:  20%|██        | 24/120 [00:31<02:11,  1.37s/it]"
     ]
    },
    {
     "name": "stderr",
     "output_type": "stream",
     "text": [
      "\r",
      "SCENARIOS COMPLETE:  21%|██        | 25/120 [00:32<02:09,  1.36s/it]"
     ]
    },
    {
     "name": "stderr",
     "output_type": "stream",
     "text": [
      "\r",
      "SCENARIOS COMPLETE:  22%|██▏       | 26/120 [00:34<02:05,  1.34s/it]"
     ]
    },
    {
     "name": "stderr",
     "output_type": "stream",
     "text": [
      "\r",
      "SCENARIOS COMPLETE:  22%|██▎       | 27/120 [00:35<02:02,  1.31s/it]"
     ]
    },
    {
     "name": "stderr",
     "output_type": "stream",
     "text": [
      "\r",
      "SCENARIOS COMPLETE:  23%|██▎       | 28/120 [00:36<01:59,  1.30s/it]"
     ]
    },
    {
     "name": "stderr",
     "output_type": "stream",
     "text": [
      "\r",
      "SCENARIOS COMPLETE:  24%|██▍       | 29/120 [00:38<01:59,  1.31s/it]"
     ]
    },
    {
     "name": "stderr",
     "output_type": "stream",
     "text": [
      "\r",
      "SCENARIOS COMPLETE:  25%|██▌       | 30/120 [00:39<01:58,  1.31s/it]"
     ]
    },
    {
     "name": "stderr",
     "output_type": "stream",
     "text": [
      "\r",
      "SCENARIOS COMPLETE:  26%|██▌       | 31/120 [00:40<01:55,  1.30s/it]"
     ]
    },
    {
     "name": "stderr",
     "output_type": "stream",
     "text": [
      "\r",
      "SCENARIOS COMPLETE:  27%|██▋       | 32/120 [00:41<01:53,  1.29s/it]"
     ]
    },
    {
     "name": "stderr",
     "output_type": "stream",
     "text": [
      "\r",
      "SCENARIOS COMPLETE:  28%|██▊       | 33/120 [00:43<01:51,  1.29s/it]"
     ]
    },
    {
     "name": "stderr",
     "output_type": "stream",
     "text": [
      "\r",
      "SCENARIOS COMPLETE:  28%|██▊       | 34/120 [00:44<01:49,  1.27s/it]"
     ]
    },
    {
     "name": "stderr",
     "output_type": "stream",
     "text": [
      "\r",
      "SCENARIOS COMPLETE:  29%|██▉       | 35/120 [00:45<01:47,  1.27s/it]"
     ]
    },
    {
     "name": "stderr",
     "output_type": "stream",
     "text": [
      "\r",
      "SCENARIOS COMPLETE:  30%|███       | 36/120 [00:47<01:46,  1.27s/it]"
     ]
    },
    {
     "name": "stderr",
     "output_type": "stream",
     "text": [
      "\r",
      "SCENARIOS COMPLETE:  31%|███       | 37/120 [00:48<01:45,  1.28s/it]"
     ]
    },
    {
     "name": "stderr",
     "output_type": "stream",
     "text": [
      "\r",
      "SCENARIOS COMPLETE:  32%|███▏      | 38/120 [00:49<01:44,  1.27s/it]"
     ]
    },
    {
     "name": "stderr",
     "output_type": "stream",
     "text": [
      "\r",
      "SCENARIOS COMPLETE:  32%|███▎      | 39/120 [00:50<01:43,  1.27s/it]"
     ]
    },
    {
     "name": "stderr",
     "output_type": "stream",
     "text": [
      "\r",
      "SCENARIOS COMPLETE:  33%|███▎      | 40/120 [00:52<01:40,  1.26s/it]"
     ]
    },
    {
     "name": "stderr",
     "output_type": "stream",
     "text": [
      "\r",
      "SCENARIOS COMPLETE:  34%|███▍      | 41/120 [00:52<01:29,  1.13s/it]"
     ]
    },
    {
     "name": "stderr",
     "output_type": "stream",
     "text": [
      "\r",
      "SCENARIOS COMPLETE:  35%|███▌      | 42/120 [00:53<01:21,  1.04s/it]"
     ]
    },
    {
     "name": "stderr",
     "output_type": "stream",
     "text": [
      "\r",
      "SCENARIOS COMPLETE:  36%|███▌      | 43/120 [00:54<01:16,  1.00it/s]"
     ]
    },
    {
     "name": "stderr",
     "output_type": "stream",
     "text": [
      "\r",
      "SCENARIOS COMPLETE:  37%|███▋      | 44/120 [00:55<01:11,  1.06it/s]"
     ]
    },
    {
     "name": "stderr",
     "output_type": "stream",
     "text": [
      "\r",
      "SCENARIOS COMPLETE:  38%|███▊      | 45/120 [00:56<01:08,  1.10it/s]"
     ]
    },
    {
     "name": "stderr",
     "output_type": "stream",
     "text": [
      "\r",
      "SCENARIOS COMPLETE:  38%|███▊      | 46/120 [00:57<01:04,  1.14it/s]"
     ]
    },
    {
     "name": "stderr",
     "output_type": "stream",
     "text": [
      "\r",
      "SCENARIOS COMPLETE:  39%|███▉      | 47/120 [00:57<01:02,  1.17it/s]"
     ]
    },
    {
     "name": "stderr",
     "output_type": "stream",
     "text": [
      "\r",
      "SCENARIOS COMPLETE:  40%|████      | 48/120 [00:58<01:03,  1.13it/s]"
     ]
    },
    {
     "name": "stderr",
     "output_type": "stream",
     "text": [
      "\r",
      "SCENARIOS COMPLETE:  41%|████      | 49/120 [00:59<01:02,  1.14it/s]"
     ]
    },
    {
     "name": "stderr",
     "output_type": "stream",
     "text": [
      "\r",
      "SCENARIOS COMPLETE:  42%|████▏     | 50/120 [01:00<01:01,  1.14it/s]"
     ]
    },
    {
     "name": "stderr",
     "output_type": "stream",
     "text": [
      "\r",
      "SCENARIOS COMPLETE:  42%|████▎     | 51/120 [01:01<01:00,  1.14it/s]"
     ]
    },
    {
     "name": "stderr",
     "output_type": "stream",
     "text": [
      "\r",
      "SCENARIOS COMPLETE:  43%|████▎     | 52/120 [01:02<01:00,  1.12it/s]"
     ]
    },
    {
     "name": "stderr",
     "output_type": "stream",
     "text": [
      "\r",
      "SCENARIOS COMPLETE:  44%|████▍     | 53/120 [01:03<01:03,  1.06it/s]"
     ]
    },
    {
     "name": "stderr",
     "output_type": "stream",
     "text": [
      "\r",
      "SCENARIOS COMPLETE:  45%|████▌     | 54/120 [01:04<01:02,  1.06it/s]"
     ]
    },
    {
     "name": "stderr",
     "output_type": "stream",
     "text": [
      "\r",
      "SCENARIOS COMPLETE:  46%|████▌     | 55/120 [01:05<01:00,  1.07it/s]"
     ]
    },
    {
     "name": "stderr",
     "output_type": "stream",
     "text": [
      "\r",
      "SCENARIOS COMPLETE:  47%|████▋     | 56/120 [01:06<00:59,  1.08it/s]"
     ]
    },
    {
     "name": "stderr",
     "output_type": "stream",
     "text": [
      "\r",
      "SCENARIOS COMPLETE:  48%|████▊     | 57/120 [01:07<00:56,  1.11it/s]"
     ]
    },
    {
     "name": "stderr",
     "output_type": "stream",
     "text": [
      "\r",
      "SCENARIOS COMPLETE:  48%|████▊     | 58/120 [01:07<00:55,  1.13it/s]"
     ]
    },
    {
     "name": "stderr",
     "output_type": "stream",
     "text": [
      "\r",
      "SCENARIOS COMPLETE:  49%|████▉     | 59/120 [01:08<00:54,  1.13it/s]"
     ]
    },
    {
     "name": "stderr",
     "output_type": "stream",
     "text": [
      "\r",
      "SCENARIOS COMPLETE:  50%|█████     | 60/120 [01:09<00:51,  1.16it/s]"
     ]
    },
    {
     "name": "stderr",
     "output_type": "stream",
     "text": [
      "\r",
      "SCENARIOS COMPLETE:  51%|█████     | 61/120 [01:10<00:50,  1.17it/s]"
     ]
    },
    {
     "name": "stderr",
     "output_type": "stream",
     "text": [
      "\r",
      "SCENARIOS COMPLETE:  52%|█████▏    | 62/120 [01:11<00:49,  1.17it/s]"
     ]
    },
    {
     "name": "stderr",
     "output_type": "stream",
     "text": [
      "\r",
      "SCENARIOS COMPLETE:  52%|█████▎    | 63/120 [01:12<00:49,  1.16it/s]"
     ]
    },
    {
     "name": "stderr",
     "output_type": "stream",
     "text": [
      "\r",
      "SCENARIOS COMPLETE:  53%|█████▎    | 64/120 [01:13<00:48,  1.16it/s]"
     ]
    },
    {
     "name": "stderr",
     "output_type": "stream",
     "text": [
      "\r",
      "SCENARIOS COMPLETE:  54%|█████▍    | 65/120 [01:13<00:47,  1.17it/s]"
     ]
    },
    {
     "name": "stderr",
     "output_type": "stream",
     "text": [
      "\r",
      "SCENARIOS COMPLETE:  55%|█████▌    | 66/120 [01:14<00:45,  1.18it/s]"
     ]
    },
    {
     "name": "stderr",
     "output_type": "stream",
     "text": [
      "\r",
      "SCENARIOS COMPLETE:  56%|█████▌    | 67/120 [01:15<00:44,  1.19it/s]"
     ]
    },
    {
     "name": "stderr",
     "output_type": "stream",
     "text": [
      "\r",
      "SCENARIOS COMPLETE:  57%|█████▋    | 68/120 [01:16<00:43,  1.21it/s]"
     ]
    },
    {
     "name": "stderr",
     "output_type": "stream",
     "text": [
      "\r",
      "SCENARIOS COMPLETE:  57%|█████▊    | 69/120 [01:17<00:42,  1.21it/s]"
     ]
    },
    {
     "name": "stderr",
     "output_type": "stream",
     "text": [
      "\r",
      "SCENARIOS COMPLETE:  58%|█████▊    | 70/120 [01:17<00:41,  1.21it/s]"
     ]
    },
    {
     "name": "stderr",
     "output_type": "stream",
     "text": [
      "\r",
      "SCENARIOS COMPLETE:  59%|█████▉    | 71/120 [01:18<00:40,  1.22it/s]"
     ]
    },
    {
     "name": "stderr",
     "output_type": "stream",
     "text": [
      "\r",
      "SCENARIOS COMPLETE:  60%|██████    | 72/120 [01:19<00:39,  1.22it/s]"
     ]
    },
    {
     "name": "stderr",
     "output_type": "stream",
     "text": [
      "\r",
      "SCENARIOS COMPLETE:  61%|██████    | 73/120 [01:20<00:38,  1.22it/s]"
     ]
    },
    {
     "name": "stderr",
     "output_type": "stream",
     "text": [
      "\r",
      "SCENARIOS COMPLETE:  62%|██████▏   | 74/120 [01:21<00:37,  1.22it/s]"
     ]
    },
    {
     "name": "stderr",
     "output_type": "stream",
     "text": [
      "\r",
      "SCENARIOS COMPLETE:  62%|██████▎   | 75/120 [01:22<00:37,  1.21it/s]"
     ]
    },
    {
     "name": "stderr",
     "output_type": "stream",
     "text": [
      "\r",
      "SCENARIOS COMPLETE:  63%|██████▎   | 76/120 [01:22<00:36,  1.22it/s]"
     ]
    },
    {
     "name": "stderr",
     "output_type": "stream",
     "text": [
      "\r",
      "SCENARIOS COMPLETE:  64%|██████▍   | 77/120 [01:23<00:35,  1.22it/s]"
     ]
    },
    {
     "name": "stderr",
     "output_type": "stream",
     "text": [
      "\r",
      "SCENARIOS COMPLETE:  65%|██████▌   | 78/120 [01:24<00:34,  1.22it/s]"
     ]
    },
    {
     "name": "stderr",
     "output_type": "stream",
     "text": [
      "\r",
      "SCENARIOS COMPLETE:  66%|██████▌   | 79/120 [01:25<00:33,  1.22it/s]"
     ]
    },
    {
     "name": "stderr",
     "output_type": "stream",
     "text": [
      "\r",
      "SCENARIOS COMPLETE:  67%|██████▋   | 80/120 [01:26<00:32,  1.23it/s]"
     ]
    },
    {
     "name": "stderr",
     "output_type": "stream",
     "text": [
      "\r",
      "SCENARIOS COMPLETE:  68%|██████▊   | 81/120 [01:26<00:26,  1.46it/s]"
     ]
    },
    {
     "name": "stderr",
     "output_type": "stream",
     "text": [
      "\r",
      "SCENARIOS COMPLETE:  68%|██████▊   | 82/120 [01:26<00:22,  1.70it/s]"
     ]
    },
    {
     "name": "stderr",
     "output_type": "stream",
     "text": [
      "\r",
      "SCENARIOS COMPLETE:  69%|██████▉   | 83/120 [01:27<00:19,  1.90it/s]"
     ]
    },
    {
     "name": "stderr",
     "output_type": "stream",
     "text": [
      "\r",
      "SCENARIOS COMPLETE:  70%|███████   | 84/120 [01:27<00:17,  2.09it/s]"
     ]
    },
    {
     "name": "stderr",
     "output_type": "stream",
     "text": [
      "\r",
      "SCENARIOS COMPLETE:  71%|███████   | 85/120 [01:28<00:15,  2.24it/s]"
     ]
    },
    {
     "name": "stderr",
     "output_type": "stream",
     "text": [
      "\r",
      "SCENARIOS COMPLETE:  72%|███████▏  | 86/120 [01:28<00:14,  2.38it/s]"
     ]
    },
    {
     "name": "stderr",
     "output_type": "stream",
     "text": [
      "\r",
      "SCENARIOS COMPLETE:  72%|███████▎  | 87/120 [01:28<00:13,  2.45it/s]"
     ]
    },
    {
     "name": "stderr",
     "output_type": "stream",
     "text": [
      "\r",
      "SCENARIOS COMPLETE:  73%|███████▎  | 88/120 [01:29<00:12,  2.53it/s]"
     ]
    },
    {
     "name": "stderr",
     "output_type": "stream",
     "text": [
      "\r",
      "SCENARIOS COMPLETE:  74%|███████▍  | 89/120 [01:29<00:12,  2.55it/s]"
     ]
    },
    {
     "name": "stderr",
     "output_type": "stream",
     "text": [
      "\r",
      "SCENARIOS COMPLETE:  75%|███████▌  | 90/120 [01:29<00:11,  2.60it/s]"
     ]
    },
    {
     "name": "stderr",
     "output_type": "stream",
     "text": [
      "\r",
      "SCENARIOS COMPLETE:  76%|███████▌  | 91/120 [01:30<00:11,  2.61it/s]"
     ]
    },
    {
     "name": "stderr",
     "output_type": "stream",
     "text": [
      "\r",
      "SCENARIOS COMPLETE:  77%|███████▋  | 92/120 [01:30<00:10,  2.66it/s]"
     ]
    },
    {
     "name": "stderr",
     "output_type": "stream",
     "text": [
      "\r",
      "SCENARIOS COMPLETE:  78%|███████▊  | 93/120 [01:30<00:09,  2.70it/s]"
     ]
    },
    {
     "name": "stderr",
     "output_type": "stream",
     "text": [
      "\r",
      "SCENARIOS COMPLETE:  78%|███████▊  | 94/120 [01:31<00:09,  2.67it/s]"
     ]
    },
    {
     "name": "stderr",
     "output_type": "stream",
     "text": [
      "\r",
      "SCENARIOS COMPLETE:  79%|███████▉  | 95/120 [01:31<00:09,  2.63it/s]"
     ]
    },
    {
     "name": "stderr",
     "output_type": "stream",
     "text": [
      "\r",
      "SCENARIOS COMPLETE:  80%|████████  | 96/120 [01:32<00:09,  2.63it/s]"
     ]
    },
    {
     "name": "stderr",
     "output_type": "stream",
     "text": [
      "\r",
      "SCENARIOS COMPLETE:  81%|████████  | 97/120 [01:32<00:08,  2.64it/s]"
     ]
    },
    {
     "name": "stderr",
     "output_type": "stream",
     "text": [
      "\r",
      "SCENARIOS COMPLETE:  82%|████████▏ | 98/120 [01:32<00:08,  2.68it/s]"
     ]
    },
    {
     "name": "stderr",
     "output_type": "stream",
     "text": [
      "\r",
      "SCENARIOS COMPLETE:  82%|████████▎ | 99/120 [01:33<00:07,  2.63it/s]"
     ]
    },
    {
     "name": "stderr",
     "output_type": "stream",
     "text": [
      "\r",
      "SCENARIOS COMPLETE:  83%|████████▎ | 100/120 [01:33<00:07,  2.62it/s]"
     ]
    },
    {
     "name": "stderr",
     "output_type": "stream",
     "text": [
      "\r",
      "SCENARIOS COMPLETE:  84%|████████▍ | 101/120 [01:34<00:07,  2.63it/s]"
     ]
    },
    {
     "name": "stderr",
     "output_type": "stream",
     "text": [
      "\r",
      "SCENARIOS COMPLETE:  85%|████████▌ | 102/120 [01:34<00:06,  2.66it/s]"
     ]
    },
    {
     "name": "stderr",
     "output_type": "stream",
     "text": [
      "\r",
      "SCENARIOS COMPLETE:  86%|████████▌ | 103/120 [01:34<00:06,  2.69it/s]"
     ]
    },
    {
     "name": "stderr",
     "output_type": "stream",
     "text": [
      "\r",
      "SCENARIOS COMPLETE:  87%|████████▋ | 104/120 [01:35<00:05,  2.68it/s]"
     ]
    },
    {
     "name": "stderr",
     "output_type": "stream",
     "text": [
      "\r",
      "SCENARIOS COMPLETE:  88%|████████▊ | 105/120 [01:35<00:05,  2.69it/s]"
     ]
    },
    {
     "name": "stderr",
     "output_type": "stream",
     "text": [
      "\r",
      "SCENARIOS COMPLETE:  88%|████████▊ | 106/120 [01:35<00:05,  2.69it/s]"
     ]
    },
    {
     "name": "stderr",
     "output_type": "stream",
     "text": [
      "\r",
      "SCENARIOS COMPLETE:  89%|████████▉ | 107/120 [01:36<00:04,  2.70it/s]"
     ]
    },
    {
     "name": "stderr",
     "output_type": "stream",
     "text": [
      "\r",
      "SCENARIOS COMPLETE:  90%|█████████ | 108/120 [01:36<00:04,  2.70it/s]"
     ]
    },
    {
     "name": "stderr",
     "output_type": "stream",
     "text": [
      "\r",
      "SCENARIOS COMPLETE:  91%|█████████ | 109/120 [01:36<00:04,  2.69it/s]"
     ]
    },
    {
     "name": "stderr",
     "output_type": "stream",
     "text": [
      "\r",
      "SCENARIOS COMPLETE:  92%|█████████▏| 110/120 [01:37<00:03,  2.65it/s]"
     ]
    },
    {
     "name": "stderr",
     "output_type": "stream",
     "text": [
      "\r",
      "SCENARIOS COMPLETE:  92%|█████████▎| 111/120 [01:37<00:03,  2.60it/s]"
     ]
    },
    {
     "name": "stderr",
     "output_type": "stream",
     "text": [
      "\r",
      "SCENARIOS COMPLETE:  93%|█████████▎| 112/120 [01:38<00:03,  2.64it/s]"
     ]
    },
    {
     "name": "stderr",
     "output_type": "stream",
     "text": [
      "\r",
      "SCENARIOS COMPLETE:  94%|█████████▍| 113/120 [01:38<00:02,  2.64it/s]"
     ]
    },
    {
     "name": "stderr",
     "output_type": "stream",
     "text": [
      "\r",
      "SCENARIOS COMPLETE:  95%|█████████▌| 114/120 [01:38<00:02,  2.68it/s]"
     ]
    },
    {
     "name": "stderr",
     "output_type": "stream",
     "text": [
      "\r",
      "SCENARIOS COMPLETE:  96%|█████████▌| 115/120 [01:39<00:01,  2.66it/s]"
     ]
    },
    {
     "name": "stderr",
     "output_type": "stream",
     "text": [
      "\r",
      "SCENARIOS COMPLETE:  97%|█████████▋| 116/120 [01:39<00:01,  2.68it/s]"
     ]
    },
    {
     "name": "stderr",
     "output_type": "stream",
     "text": [
      "\r",
      "SCENARIOS COMPLETE:  98%|█████████▊| 117/120 [01:39<00:01,  2.70it/s]"
     ]
    },
    {
     "name": "stderr",
     "output_type": "stream",
     "text": [
      "\r",
      "SCENARIOS COMPLETE:  98%|█████████▊| 118/120 [01:40<00:00,  2.73it/s]"
     ]
    },
    {
     "name": "stderr",
     "output_type": "stream",
     "text": [
      "\r",
      "SCENARIOS COMPLETE:  99%|█████████▉| 119/120 [01:40<00:00,  2.73it/s]"
     ]
    },
    {
     "name": "stderr",
     "output_type": "stream",
     "text": [
      "\r",
      "SCENARIOS COMPLETE: 100%|██████████| 120/120 [01:41<00:00,  2.74it/s]"
     ]
    },
    {
     "name": "stderr",
     "output_type": "stream",
     "text": [
      "\r",
      "SCENARIOS COMPLETE: 100%|██████████| 120/120 [01:41<00:00,  1.19it/s]"
     ]
    },
    {
     "name": "stderr",
     "output_type": "stream",
     "text": [
      "\n"
     ]
    }
   ],
   "source": [
    "quad_app = SampleApproach(mdl_quad, faults=quad_faults)\n",
    "quad_endclasses, quad_mdlhists = fs.propagate.approach(mdl_quad, quad_app, staged=True)"
   ]
  },
  {
   "cell_type": "code",
   "execution_count": 41,
   "metadata": {
    "execution": {
     "iopub.execute_input": "2023-08-04T16:23:45.462069Z",
     "iopub.status.busy": "2023-08-04T16:23:45.462069Z",
     "iopub.status.idle": "2023-08-04T16:23:45.524621Z",
     "shell.execute_reply": "2023-08-04T16:23:45.524621Z"
    }
   },
   "outputs": [
    {
     "data": {
      "text/html": [
       "<div>\n",
       "<style scoped>\n",
       "    .dataframe tbody tr th:only-of-type {\n",
       "        vertical-align: middle;\n",
       "    }\n",
       "\n",
       "    .dataframe tbody tr th {\n",
       "        vertical-align: top;\n",
       "    }\n",
       "\n",
       "    .dataframe thead th {\n",
       "        text-align: right;\n",
       "    }\n",
       "</style>\n",
       "<table border=\"1\" class=\"dataframe\">\n",
       "  <thead>\n",
       "    <tr style=\"text-align: right;\">\n",
       "      <th></th>\n",
       "      <th>rate</th>\n",
       "      <th>cost</th>\n",
       "      <th>expected cost</th>\n",
       "    </tr>\n",
       "  </thead>\n",
       "  <tbody>\n",
       "    <tr>\n",
       "      <th>affect_dof_rf_ctlbreak_t49p0</th>\n",
       "      <td>1.666667e-07</td>\n",
       "      <td>186800.0</td>\n",
       "      <td>3113.333333</td>\n",
       "    </tr>\n",
       "    <tr>\n",
       "      <th>affect_dof_lf_ctlbreak_t49p0</th>\n",
       "      <td>1.666667e-07</td>\n",
       "      <td>186800.0</td>\n",
       "      <td>3113.333333</td>\n",
       "    </tr>\n",
       "    <tr>\n",
       "      <th>affect_dof_lr_ctlbreak_t49p0</th>\n",
       "      <td>1.666667e-07</td>\n",
       "      <td>186800.0</td>\n",
       "      <td>3113.333333</td>\n",
       "    </tr>\n",
       "    <tr>\n",
       "      <th>affect_dof_rr_ctlbreak_t49p0</th>\n",
       "      <td>1.666667e-07</td>\n",
       "      <td>186800.0</td>\n",
       "      <td>3113.333333</td>\n",
       "    </tr>\n",
       "    <tr>\n",
       "      <th>affect_dof_lf_ctlup_t49p0</th>\n",
       "      <td>1.666667e-07</td>\n",
       "      <td>186300.0</td>\n",
       "      <td>3105.000000</td>\n",
       "    </tr>\n",
       "    <tr>\n",
       "      <th>...</th>\n",
       "      <td>...</td>\n",
       "      <td>...</td>\n",
       "      <td>...</td>\n",
       "    </tr>\n",
       "    <tr>\n",
       "      <th>affect_dof_lr_propwarp_t97p0</th>\n",
       "      <td>5.555556e-10</td>\n",
       "      <td>200.0</td>\n",
       "      <td>0.011111</td>\n",
       "    </tr>\n",
       "    <tr>\n",
       "      <th>affect_dof_lf_propwarp_t97p0</th>\n",
       "      <td>5.555556e-10</td>\n",
       "      <td>200.0</td>\n",
       "      <td>0.011111</td>\n",
       "    </tr>\n",
       "    <tr>\n",
       "      <th>affect_dof_rr_propwarp_t2p0</th>\n",
       "      <td>4.629630e-10</td>\n",
       "      <td>200.0</td>\n",
       "      <td>0.009259</td>\n",
       "    </tr>\n",
       "    <tr>\n",
       "      <th>affect_dof_lr_propwarp_t2p0</th>\n",
       "      <td>4.629630e-10</td>\n",
       "      <td>200.0</td>\n",
       "      <td>0.009259</td>\n",
       "    </tr>\n",
       "    <tr>\n",
       "      <th>nominal</th>\n",
       "      <td>1.000000e+00</td>\n",
       "      <td>0.0</td>\n",
       "      <td>0.000000</td>\n",
       "    </tr>\n",
       "  </tbody>\n",
       "</table>\n",
       "<p>121 rows × 3 columns</p>\n",
       "</div>"
      ],
      "text/plain": [
       "                                      rate      cost  expected cost\n",
       "affect_dof_rf_ctlbreak_t49p0  1.666667e-07  186800.0    3113.333333\n",
       "affect_dof_lf_ctlbreak_t49p0  1.666667e-07  186800.0    3113.333333\n",
       "affect_dof_lr_ctlbreak_t49p0  1.666667e-07  186800.0    3113.333333\n",
       "affect_dof_rr_ctlbreak_t49p0  1.666667e-07  186800.0    3113.333333\n",
       "affect_dof_lf_ctlup_t49p0     1.666667e-07  186300.0    3105.000000\n",
       "...                                    ...       ...            ...\n",
       "affect_dof_lr_propwarp_t97p0  5.555556e-10     200.0       0.011111\n",
       "affect_dof_lf_propwarp_t97p0  5.555556e-10     200.0       0.011111\n",
       "affect_dof_rr_propwarp_t2p0   4.629630e-10     200.0       0.009259\n",
       "affect_dof_lr_propwarp_t2p0   4.629630e-10     200.0       0.009259\n",
       "nominal                       1.000000e+00       0.0       0.000000\n",
       "\n",
       "[121 rows x 3 columns]"
      ]
     },
     "execution_count": 41,
     "metadata": {},
     "output_type": "execute_result"
    }
   ],
   "source": [
    "quad_tab=quad_endclasses.create_simple_fmea()\n",
    "quad_tab.sort_values('expected cost', ascending=False)"
   ]
  },
  {
   "attachments": {},
   "cell_type": "markdown",
   "metadata": {},
   "source": [
    "Based on this model, we can calculate some metrics that quantify how resilient the system was to the set of faults, such as the cost of resilience:"
   ]
  },
  {
   "cell_type": "code",
   "execution_count": 42,
   "metadata": {
    "execution": {
     "iopub.execute_input": "2023-08-04T16:23:45.524621Z",
     "iopub.status.busy": "2023-08-04T16:23:45.524621Z",
     "iopub.status.idle": "2023-08-04T16:23:45.540253Z",
     "shell.execute_reply": "2023-08-04T16:23:45.540253Z"
    }
   },
   "outputs": [
    {
     "data": {
      "text/plain": [
       "47341.71111111108"
      ]
     },
     "execution_count": 42,
     "metadata": {},
     "output_type": "execute_result"
    }
   ],
   "source": [
    "quad_res = sum(quad_tab['expected cost'])\n",
    "quad_res"
   ]
  },
  {
   "attachments": {},
   "cell_type": "markdown",
   "metadata": {},
   "source": [
    "The overall rate of crashes:"
   ]
  },
  {
   "cell_type": "code",
   "execution_count": 43,
   "metadata": {
    "execution": {
     "iopub.execute_input": "2023-08-04T16:23:45.540253Z",
     "iopub.status.busy": "2023-08-04T16:23:45.540253Z",
     "iopub.status.idle": "2023-08-04T16:23:45.562375Z",
     "shell.execute_reply": "2023-08-04T16:23:45.562375Z"
    }
   },
   "outputs": [
    {
     "data": {
      "text/plain": [
       "2.6750000000000006e-06"
      ]
     },
     "execution_count": 43,
     "metadata": {},
     "output_type": "execute_result"
    }
   ],
   "source": [
    "quad_crashes = quad_tab[quad_tab['cost']>100000]\n",
    "quad_rate = sum(quad_crashes['rate'])\n",
    "quad_rate"
   ]
  },
  {
   "attachments": {},
   "cell_type": "markdown",
   "metadata": {},
   "source": [
    "The number of crashes:"
   ]
  },
  {
   "cell_type": "code",
   "execution_count": 44,
   "metadata": {
    "execution": {
     "iopub.execute_input": "2023-08-04T16:23:45.562375Z",
     "iopub.status.busy": "2023-08-04T16:23:45.562375Z",
     "iopub.status.idle": "2023-08-04T16:23:45.578001Z",
     "shell.execute_reply": "2023-08-04T16:23:45.578001Z"
    }
   },
   "outputs": [
    {
     "data": {
      "text/plain": [
       "62"
      ]
     },
     "execution_count": 44,
     "metadata": {},
     "output_type": "execute_result"
    }
   ],
   "source": [
    "quad_num_crashes = len(quad_crashes['rate'])\n",
    "quad_num_crashes"
   ]
  },
  {
   "attachments": {},
   "cell_type": "markdown",
   "metadata": {},
   "source": [
    "The percentage of crashes:"
   ]
  },
  {
   "cell_type": "code",
   "execution_count": 45,
   "metadata": {
    "execution": {
     "iopub.execute_input": "2023-08-04T16:23:45.578001Z",
     "iopub.status.busy": "2023-08-04T16:23:45.578001Z",
     "iopub.status.idle": "2023-08-04T16:23:45.593613Z",
     "shell.execute_reply": "2023-08-04T16:23:45.593613Z"
    }
   },
   "outputs": [
    {
     "data": {
      "text/plain": [
       "0.512396694214876"
      ]
     },
     "execution_count": 45,
     "metadata": {},
     "output_type": "execute_result"
    }
   ],
   "source": [
    "quad_perc_crashes = len(quad_crashes['rate'])/len(quad_tab['rate'])\n",
    "quad_perc_crashes"
   ]
  },
  {
   "attachments": {},
   "cell_type": "markdown",
   "metadata": {},
   "source": [
    "### Octocopter Resilience\n",
    "\n",
    "Here we quantify the expected costs of faults originiating in the octocopter architecture:"
   ]
  },
  {
   "cell_type": "code",
   "execution_count": 46,
   "metadata": {
    "execution": {
     "iopub.execute_input": "2023-08-04T16:23:45.593613Z",
     "iopub.status.busy": "2023-08-04T16:23:45.593613Z",
     "iopub.status.idle": "2023-08-04T16:23:45.624862Z",
     "shell.execute_reply": "2023-08-04T16:23:45.624862Z"
    }
   },
   "outputs": [],
   "source": [
    "mdl_oct = Drone_Hierarchical(p={'arch':'oct'})\n",
    "mdl_oct.fxns['affect_dof'].m.faultmodes\n",
    "oct_faults = [('affect_dof', fault) for fault in list(mdl_oct.fxns['affect_dof'].m.faultmodes.keys())]"
   ]
  },
  {
   "cell_type": "code",
   "execution_count": 47,
   "metadata": {
    "execution": {
     "iopub.execute_input": "2023-08-04T16:23:45.624862Z",
     "iopub.status.busy": "2023-08-04T16:23:45.624862Z",
     "iopub.status.idle": "2023-08-04T16:27:18.322583Z",
     "shell.execute_reply": "2023-08-04T16:27:18.321584Z"
    }
   },
   "outputs": [
    {
     "name": "stderr",
     "output_type": "stream",
     "text": [
      "\r",
      "SCENARIOS COMPLETE:   0%|          | 0/240 [00:00<?, ?it/s]"
     ]
    },
    {
     "name": "stderr",
     "output_type": "stream",
     "text": [
      "\r",
      "SCENARIOS COMPLETE:   0%|          | 1/240 [00:01<05:10,  1.30s/it]"
     ]
    },
    {
     "name": "stderr",
     "output_type": "stream",
     "text": [
      "\r",
      "SCENARIOS COMPLETE:   1%|          | 2/240 [00:02<05:22,  1.35s/it]"
     ]
    },
    {
     "name": "stderr",
     "output_type": "stream",
     "text": [
      "\r",
      "SCENARIOS COMPLETE:   1%|▏         | 3/240 [00:04<05:17,  1.34s/it]"
     ]
    },
    {
     "name": "stderr",
     "output_type": "stream",
     "text": [
      "\r",
      "SCENARIOS COMPLETE:   2%|▏         | 4/240 [00:05<05:17,  1.35s/it]"
     ]
    },
    {
     "name": "stderr",
     "output_type": "stream",
     "text": [
      "\r",
      "SCENARIOS COMPLETE:   2%|▏         | 5/240 [00:06<05:18,  1.36s/it]"
     ]
    },
    {
     "name": "stderr",
     "output_type": "stream",
     "text": [
      "\r",
      "SCENARIOS COMPLETE:   2%|▎         | 6/240 [00:08<05:18,  1.36s/it]"
     ]
    },
    {
     "name": "stderr",
     "output_type": "stream",
     "text": [
      "\r",
      "SCENARIOS COMPLETE:   3%|▎         | 7/240 [00:09<05:16,  1.36s/it]"
     ]
    },
    {
     "name": "stderr",
     "output_type": "stream",
     "text": [
      "\r",
      "SCENARIOS COMPLETE:   3%|▎         | 8/240 [00:10<05:14,  1.35s/it]"
     ]
    },
    {
     "name": "stderr",
     "output_type": "stream",
     "text": [
      "\r",
      "SCENARIOS COMPLETE:   4%|▍         | 9/240 [00:12<05:14,  1.36s/it]"
     ]
    },
    {
     "name": "stderr",
     "output_type": "stream",
     "text": [
      "\r",
      "SCENARIOS COMPLETE:   4%|▍         | 10/240 [00:13<05:14,  1.37s/it]"
     ]
    },
    {
     "name": "stderr",
     "output_type": "stream",
     "text": [
      "\r",
      "SCENARIOS COMPLETE:   5%|▍         | 11/240 [00:14<05:10,  1.36s/it]"
     ]
    },
    {
     "name": "stderr",
     "output_type": "stream",
     "text": [
      "\r",
      "SCENARIOS COMPLETE:   5%|▌         | 12/240 [00:16<05:11,  1.36s/it]"
     ]
    },
    {
     "name": "stderr",
     "output_type": "stream",
     "text": [
      "\r",
      "SCENARIOS COMPLETE:   5%|▌         | 13/240 [00:17<05:08,  1.36s/it]"
     ]
    },
    {
     "name": "stderr",
     "output_type": "stream",
     "text": [
      "\r",
      "SCENARIOS COMPLETE:   6%|▌         | 14/240 [00:19<05:08,  1.37s/it]"
     ]
    },
    {
     "name": "stderr",
     "output_type": "stream",
     "text": [
      "\r",
      "SCENARIOS COMPLETE:   6%|▋         | 15/240 [00:20<05:15,  1.40s/it]"
     ]
    },
    {
     "name": "stderr",
     "output_type": "stream",
     "text": [
      "\r",
      "SCENARIOS COMPLETE:   7%|▋         | 16/240 [00:21<05:11,  1.39s/it]"
     ]
    },
    {
     "name": "stderr",
     "output_type": "stream",
     "text": [
      "\r",
      "SCENARIOS COMPLETE:   7%|▋         | 17/240 [00:23<05:08,  1.38s/it]"
     ]
    },
    {
     "name": "stderr",
     "output_type": "stream",
     "text": [
      "\r",
      "SCENARIOS COMPLETE:   8%|▊         | 18/240 [00:24<05:04,  1.37s/it]"
     ]
    },
    {
     "name": "stderr",
     "output_type": "stream",
     "text": [
      "\r",
      "SCENARIOS COMPLETE:   8%|▊         | 19/240 [00:25<05:01,  1.37s/it]"
     ]
    },
    {
     "name": "stderr",
     "output_type": "stream",
     "text": [
      "\r",
      "SCENARIOS COMPLETE:   8%|▊         | 20/240 [00:27<05:01,  1.37s/it]"
     ]
    },
    {
     "name": "stderr",
     "output_type": "stream",
     "text": [
      "\r",
      "SCENARIOS COMPLETE:   9%|▉         | 21/240 [00:28<04:56,  1.36s/it]"
     ]
    },
    {
     "name": "stderr",
     "output_type": "stream",
     "text": [
      "\r",
      "SCENARIOS COMPLETE:   9%|▉         | 22/240 [00:29<04:55,  1.35s/it]"
     ]
    },
    {
     "name": "stderr",
     "output_type": "stream",
     "text": [
      "\r",
      "SCENARIOS COMPLETE:  10%|▉         | 23/240 [00:31<04:51,  1.34s/it]"
     ]
    },
    {
     "name": "stderr",
     "output_type": "stream",
     "text": [
      "\r",
      "SCENARIOS COMPLETE:  10%|█         | 24/240 [00:32<04:50,  1.34s/it]"
     ]
    },
    {
     "name": "stderr",
     "output_type": "stream",
     "text": [
      "\r",
      "SCENARIOS COMPLETE:  10%|█         | 25/240 [00:34<04:50,  1.35s/it]"
     ]
    },
    {
     "name": "stderr",
     "output_type": "stream",
     "text": [
      "\r",
      "SCENARIOS COMPLETE:  11%|█         | 26/240 [00:35<04:49,  1.35s/it]"
     ]
    },
    {
     "name": "stderr",
     "output_type": "stream",
     "text": [
      "\r",
      "SCENARIOS COMPLETE:  11%|█▏        | 27/240 [00:36<04:46,  1.35s/it]"
     ]
    },
    {
     "name": "stderr",
     "output_type": "stream",
     "text": [
      "\r",
      "SCENARIOS COMPLETE:  12%|█▏        | 28/240 [00:38<04:42,  1.33s/it]"
     ]
    },
    {
     "name": "stderr",
     "output_type": "stream",
     "text": [
      "\r",
      "SCENARIOS COMPLETE:  12%|█▏        | 29/240 [00:39<04:43,  1.34s/it]"
     ]
    },
    {
     "name": "stderr",
     "output_type": "stream",
     "text": [
      "\r",
      "SCENARIOS COMPLETE:  12%|█▎        | 30/240 [00:40<04:43,  1.35s/it]"
     ]
    },
    {
     "name": "stderr",
     "output_type": "stream",
     "text": [
      "\r",
      "SCENARIOS COMPLETE:  13%|█▎        | 31/240 [00:42<04:40,  1.34s/it]"
     ]
    },
    {
     "name": "stderr",
     "output_type": "stream",
     "text": [
      "\r",
      "SCENARIOS COMPLETE:  13%|█▎        | 32/240 [00:43<04:40,  1.35s/it]"
     ]
    },
    {
     "name": "stderr",
     "output_type": "stream",
     "text": [
      "\r",
      "SCENARIOS COMPLETE:  14%|█▍        | 33/240 [00:44<04:38,  1.34s/it]"
     ]
    },
    {
     "name": "stderr",
     "output_type": "stream",
     "text": [
      "\r",
      "SCENARIOS COMPLETE:  14%|█▍        | 34/240 [00:46<04:38,  1.35s/it]"
     ]
    },
    {
     "name": "stderr",
     "output_type": "stream",
     "text": [
      "\r",
      "SCENARIOS COMPLETE:  15%|█▍        | 35/240 [00:47<04:39,  1.36s/it]"
     ]
    },
    {
     "name": "stderr",
     "output_type": "stream",
     "text": [
      "\r",
      "SCENARIOS COMPLETE:  15%|█▌        | 36/240 [00:48<04:37,  1.36s/it]"
     ]
    },
    {
     "name": "stderr",
     "output_type": "stream",
     "text": [
      "\r",
      "SCENARIOS COMPLETE:  15%|█▌        | 37/240 [00:50<04:34,  1.35s/it]"
     ]
    },
    {
     "name": "stderr",
     "output_type": "stream",
     "text": [
      "\r",
      "SCENARIOS COMPLETE:  16%|█▌        | 38/240 [00:51<04:33,  1.35s/it]"
     ]
    },
    {
     "name": "stderr",
     "output_type": "stream",
     "text": [
      "\r",
      "SCENARIOS COMPLETE:  16%|█▋        | 39/240 [00:52<04:32,  1.36s/it]"
     ]
    },
    {
     "name": "stderr",
     "output_type": "stream",
     "text": [
      "\r",
      "SCENARIOS COMPLETE:  17%|█▋        | 40/240 [00:54<04:31,  1.36s/it]"
     ]
    },
    {
     "name": "stderr",
     "output_type": "stream",
     "text": [
      "\r",
      "SCENARIOS COMPLETE:  17%|█▋        | 41/240 [00:55<04:29,  1.35s/it]"
     ]
    },
    {
     "name": "stderr",
     "output_type": "stream",
     "text": [
      "\r",
      "SCENARIOS COMPLETE:  18%|█▊        | 42/240 [00:56<04:26,  1.34s/it]"
     ]
    },
    {
     "name": "stderr",
     "output_type": "stream",
     "text": [
      "\r",
      "SCENARIOS COMPLETE:  18%|█▊        | 43/240 [00:58<04:24,  1.34s/it]"
     ]
    },
    {
     "name": "stderr",
     "output_type": "stream",
     "text": [
      "\r",
      "SCENARIOS COMPLETE:  18%|█▊        | 44/240 [00:59<04:22,  1.34s/it]"
     ]
    },
    {
     "name": "stderr",
     "output_type": "stream",
     "text": [
      "\r",
      "SCENARIOS COMPLETE:  19%|█▉        | 45/240 [01:00<04:19,  1.33s/it]"
     ]
    },
    {
     "name": "stderr",
     "output_type": "stream",
     "text": [
      "\r",
      "SCENARIOS COMPLETE:  19%|█▉        | 46/240 [01:02<04:18,  1.33s/it]"
     ]
    },
    {
     "name": "stderr",
     "output_type": "stream",
     "text": [
      "\r",
      "SCENARIOS COMPLETE:  20%|█▉        | 47/240 [01:03<04:17,  1.33s/it]"
     ]
    },
    {
     "name": "stderr",
     "output_type": "stream",
     "text": [
      "\r",
      "SCENARIOS COMPLETE:  20%|██        | 48/240 [01:04<04:15,  1.33s/it]"
     ]
    },
    {
     "name": "stderr",
     "output_type": "stream",
     "text": [
      "\r",
      "SCENARIOS COMPLETE:  20%|██        | 49/240 [01:06<04:14,  1.33s/it]"
     ]
    },
    {
     "name": "stderr",
     "output_type": "stream",
     "text": [
      "\r",
      "SCENARIOS COMPLETE:  21%|██        | 50/240 [01:07<04:13,  1.33s/it]"
     ]
    },
    {
     "name": "stderr",
     "output_type": "stream",
     "text": [
      "\r",
      "SCENARIOS COMPLETE:  21%|██▏       | 51/240 [01:08<04:11,  1.33s/it]"
     ]
    },
    {
     "name": "stderr",
     "output_type": "stream",
     "text": [
      "\r",
      "SCENARIOS COMPLETE:  22%|██▏       | 52/240 [01:10<04:11,  1.34s/it]"
     ]
    },
    {
     "name": "stderr",
     "output_type": "stream",
     "text": [
      "\r",
      "SCENARIOS COMPLETE:  22%|██▏       | 53/240 [01:11<04:09,  1.33s/it]"
     ]
    },
    {
     "name": "stderr",
     "output_type": "stream",
     "text": [
      "\r",
      "SCENARIOS COMPLETE:  22%|██▎       | 54/240 [01:12<04:08,  1.34s/it]"
     ]
    },
    {
     "name": "stderr",
     "output_type": "stream",
     "text": [
      "\r",
      "SCENARIOS COMPLETE:  23%|██▎       | 55/240 [01:14<04:07,  1.34s/it]"
     ]
    },
    {
     "name": "stderr",
     "output_type": "stream",
     "text": [
      "\r",
      "SCENARIOS COMPLETE:  23%|██▎       | 56/240 [01:15<04:06,  1.34s/it]"
     ]
    },
    {
     "name": "stderr",
     "output_type": "stream",
     "text": [
      "\r",
      "SCENARIOS COMPLETE:  24%|██▍       | 57/240 [01:16<04:05,  1.34s/it]"
     ]
    },
    {
     "name": "stderr",
     "output_type": "stream",
     "text": [
      "\r",
      "SCENARIOS COMPLETE:  24%|██▍       | 58/240 [01:18<04:05,  1.35s/it]"
     ]
    },
    {
     "name": "stderr",
     "output_type": "stream",
     "text": [
      "\r",
      "SCENARIOS COMPLETE:  25%|██▍       | 59/240 [01:19<04:05,  1.36s/it]"
     ]
    },
    {
     "name": "stderr",
     "output_type": "stream",
     "text": [
      "\r",
      "SCENARIOS COMPLETE:  25%|██▌       | 60/240 [01:21<04:11,  1.40s/it]"
     ]
    },
    {
     "name": "stderr",
     "output_type": "stream",
     "text": [
      "\r",
      "SCENARIOS COMPLETE:  25%|██▌       | 61/240 [01:22<04:08,  1.39s/it]"
     ]
    },
    {
     "name": "stderr",
     "output_type": "stream",
     "text": [
      "\r",
      "SCENARIOS COMPLETE:  26%|██▌       | 62/240 [01:23<04:08,  1.39s/it]"
     ]
    },
    {
     "name": "stderr",
     "output_type": "stream",
     "text": [
      "\r",
      "SCENARIOS COMPLETE:  26%|██▋       | 63/240 [01:25<04:05,  1.39s/it]"
     ]
    },
    {
     "name": "stderr",
     "output_type": "stream",
     "text": [
      "\r",
      "SCENARIOS COMPLETE:  27%|██▋       | 64/240 [01:26<04:03,  1.38s/it]"
     ]
    },
    {
     "name": "stderr",
     "output_type": "stream",
     "text": [
      "\r",
      "SCENARIOS COMPLETE:  27%|██▋       | 65/240 [01:28<04:00,  1.38s/it]"
     ]
    },
    {
     "name": "stderr",
     "output_type": "stream",
     "text": [
      "\r",
      "SCENARIOS COMPLETE:  28%|██▊       | 66/240 [01:29<03:59,  1.38s/it]"
     ]
    },
    {
     "name": "stderr",
     "output_type": "stream",
     "text": [
      "\r",
      "SCENARIOS COMPLETE:  28%|██▊       | 67/240 [01:30<03:59,  1.39s/it]"
     ]
    },
    {
     "name": "stderr",
     "output_type": "stream",
     "text": [
      "\r",
      "SCENARIOS COMPLETE:  28%|██▊       | 68/240 [01:32<03:57,  1.38s/it]"
     ]
    },
    {
     "name": "stderr",
     "output_type": "stream",
     "text": [
      "\r",
      "SCENARIOS COMPLETE:  29%|██▉       | 69/240 [01:33<03:57,  1.39s/it]"
     ]
    },
    {
     "name": "stderr",
     "output_type": "stream",
     "text": [
      "\r",
      "SCENARIOS COMPLETE:  29%|██▉       | 70/240 [01:35<03:55,  1.39s/it]"
     ]
    },
    {
     "name": "stderr",
     "output_type": "stream",
     "text": [
      "\r",
      "SCENARIOS COMPLETE:  30%|██▉       | 71/240 [01:36<03:52,  1.37s/it]"
     ]
    },
    {
     "name": "stderr",
     "output_type": "stream",
     "text": [
      "\r",
      "SCENARIOS COMPLETE:  30%|███       | 72/240 [01:37<03:47,  1.36s/it]"
     ]
    },
    {
     "name": "stderr",
     "output_type": "stream",
     "text": [
      "\r",
      "SCENARIOS COMPLETE:  30%|███       | 73/240 [01:39<03:46,  1.36s/it]"
     ]
    },
    {
     "name": "stderr",
     "output_type": "stream",
     "text": [
      "\r",
      "SCENARIOS COMPLETE:  31%|███       | 74/240 [01:40<03:45,  1.36s/it]"
     ]
    },
    {
     "name": "stderr",
     "output_type": "stream",
     "text": [
      "\r",
      "SCENARIOS COMPLETE:  31%|███▏      | 75/240 [01:41<03:41,  1.34s/it]"
     ]
    },
    {
     "name": "stderr",
     "output_type": "stream",
     "text": [
      "\r",
      "SCENARIOS COMPLETE:  32%|███▏      | 76/240 [01:43<03:40,  1.34s/it]"
     ]
    },
    {
     "name": "stderr",
     "output_type": "stream",
     "text": [
      "\r",
      "SCENARIOS COMPLETE:  32%|███▏      | 77/240 [01:44<03:38,  1.34s/it]"
     ]
    },
    {
     "name": "stderr",
     "output_type": "stream",
     "text": [
      "\r",
      "SCENARIOS COMPLETE:  32%|███▎      | 78/240 [01:45<03:38,  1.35s/it]"
     ]
    },
    {
     "name": "stderr",
     "output_type": "stream",
     "text": [
      "\r",
      "SCENARIOS COMPLETE:  33%|███▎      | 79/240 [01:47<03:37,  1.35s/it]"
     ]
    },
    {
     "name": "stderr",
     "output_type": "stream",
     "text": [
      "\r",
      "SCENARIOS COMPLETE:  33%|███▎      | 80/240 [01:48<03:37,  1.36s/it]"
     ]
    },
    {
     "name": "stderr",
     "output_type": "stream",
     "text": [
      "\r",
      "SCENARIOS COMPLETE:  34%|███▍      | 81/240 [01:49<03:12,  1.21s/it]"
     ]
    },
    {
     "name": "stderr",
     "output_type": "stream",
     "text": [
      "\r",
      "SCENARIOS COMPLETE:  34%|███▍      | 82/240 [01:50<02:56,  1.12s/it]"
     ]
    },
    {
     "name": "stderr",
     "output_type": "stream",
     "text": [
      "\r",
      "SCENARIOS COMPLETE:  35%|███▍      | 83/240 [01:51<02:42,  1.04s/it]"
     ]
    },
    {
     "name": "stderr",
     "output_type": "stream",
     "text": [
      "\r",
      "SCENARIOS COMPLETE:  35%|███▌      | 84/240 [01:51<02:34,  1.01it/s]"
     ]
    },
    {
     "name": "stderr",
     "output_type": "stream",
     "text": [
      "\r",
      "SCENARIOS COMPLETE:  35%|███▌      | 85/240 [01:52<02:27,  1.05it/s]"
     ]
    },
    {
     "name": "stderr",
     "output_type": "stream",
     "text": [
      "\r",
      "SCENARIOS COMPLETE:  36%|███▌      | 86/240 [01:53<02:23,  1.07it/s]"
     ]
    },
    {
     "name": "stderr",
     "output_type": "stream",
     "text": [
      "\r",
      "SCENARIOS COMPLETE:  36%|███▋      | 87/240 [01:54<02:20,  1.09it/s]"
     ]
    },
    {
     "name": "stderr",
     "output_type": "stream",
     "text": [
      "\r",
      "SCENARIOS COMPLETE:  37%|███▋      | 88/240 [01:55<02:17,  1.10it/s]"
     ]
    },
    {
     "name": "stderr",
     "output_type": "stream",
     "text": [
      "\r",
      "SCENARIOS COMPLETE:  37%|███▋      | 89/240 [01:56<02:15,  1.11it/s]"
     ]
    },
    {
     "name": "stderr",
     "output_type": "stream",
     "text": [
      "\r",
      "SCENARIOS COMPLETE:  38%|███▊      | 90/240 [01:57<02:14,  1.11it/s]"
     ]
    },
    {
     "name": "stderr",
     "output_type": "stream",
     "text": [
      "\r",
      "SCENARIOS COMPLETE:  38%|███▊      | 91/240 [01:58<02:12,  1.13it/s]"
     ]
    },
    {
     "name": "stderr",
     "output_type": "stream",
     "text": [
      "\r",
      "SCENARIOS COMPLETE:  38%|███▊      | 92/240 [01:59<02:10,  1.13it/s]"
     ]
    },
    {
     "name": "stderr",
     "output_type": "stream",
     "text": [
      "\r",
      "SCENARIOS COMPLETE:  39%|███▉      | 93/240 [01:59<02:09,  1.13it/s]"
     ]
    },
    {
     "name": "stderr",
     "output_type": "stream",
     "text": [
      "\r",
      "SCENARIOS COMPLETE:  39%|███▉      | 94/240 [02:00<02:08,  1.14it/s]"
     ]
    },
    {
     "name": "stderr",
     "output_type": "stream",
     "text": [
      "\r",
      "SCENARIOS COMPLETE:  40%|███▉      | 95/240 [02:01<02:06,  1.14it/s]"
     ]
    },
    {
     "name": "stderr",
     "output_type": "stream",
     "text": [
      "\r",
      "SCENARIOS COMPLETE:  40%|████      | 96/240 [02:02<02:05,  1.15it/s]"
     ]
    },
    {
     "name": "stderr",
     "output_type": "stream",
     "text": [
      "\r",
      "SCENARIOS COMPLETE:  40%|████      | 97/240 [02:03<02:04,  1.15it/s]"
     ]
    },
    {
     "name": "stderr",
     "output_type": "stream",
     "text": [
      "\r",
      "SCENARIOS COMPLETE:  41%|████      | 98/240 [02:04<02:03,  1.15it/s]"
     ]
    },
    {
     "name": "stderr",
     "output_type": "stream",
     "text": [
      "\r",
      "SCENARIOS COMPLETE:  41%|████▏     | 99/240 [02:05<02:02,  1.15it/s]"
     ]
    },
    {
     "name": "stderr",
     "output_type": "stream",
     "text": [
      "\r",
      "SCENARIOS COMPLETE:  42%|████▏     | 100/240 [02:05<02:01,  1.15it/s]"
     ]
    },
    {
     "name": "stderr",
     "output_type": "stream",
     "text": [
      "\r",
      "SCENARIOS COMPLETE:  42%|████▏     | 101/240 [02:06<02:01,  1.14it/s]"
     ]
    },
    {
     "name": "stderr",
     "output_type": "stream",
     "text": [
      "\r",
      "SCENARIOS COMPLETE:  42%|████▎     | 102/240 [02:07<02:03,  1.12it/s]"
     ]
    },
    {
     "name": "stderr",
     "output_type": "stream",
     "text": [
      "\r",
      "SCENARIOS COMPLETE:  43%|████▎     | 103/240 [02:08<02:02,  1.11it/s]"
     ]
    },
    {
     "name": "stderr",
     "output_type": "stream",
     "text": [
      "\r",
      "SCENARIOS COMPLETE:  43%|████▎     | 104/240 [02:09<02:00,  1.13it/s]"
     ]
    },
    {
     "name": "stderr",
     "output_type": "stream",
     "text": [
      "\r",
      "SCENARIOS COMPLETE:  44%|████▍     | 105/240 [02:10<01:58,  1.14it/s]"
     ]
    },
    {
     "name": "stderr",
     "output_type": "stream",
     "text": [
      "\r",
      "SCENARIOS COMPLETE:  44%|████▍     | 106/240 [02:11<01:57,  1.14it/s]"
     ]
    },
    {
     "name": "stderr",
     "output_type": "stream",
     "text": [
      "\r",
      "SCENARIOS COMPLETE:  45%|████▍     | 107/240 [02:12<01:55,  1.15it/s]"
     ]
    },
    {
     "name": "stderr",
     "output_type": "stream",
     "text": [
      "\r",
      "SCENARIOS COMPLETE:  45%|████▌     | 108/240 [02:13<01:54,  1.15it/s]"
     ]
    },
    {
     "name": "stderr",
     "output_type": "stream",
     "text": [
      "\r",
      "SCENARIOS COMPLETE:  45%|████▌     | 109/240 [02:13<01:54,  1.15it/s]"
     ]
    },
    {
     "name": "stderr",
     "output_type": "stream",
     "text": [
      "\r",
      "SCENARIOS COMPLETE:  46%|████▌     | 110/240 [02:14<01:53,  1.15it/s]"
     ]
    },
    {
     "name": "stderr",
     "output_type": "stream",
     "text": [
      "\r",
      "SCENARIOS COMPLETE:  46%|████▋     | 111/240 [02:15<01:51,  1.15it/s]"
     ]
    },
    {
     "name": "stderr",
     "output_type": "stream",
     "text": [
      "\r",
      "SCENARIOS COMPLETE:  47%|████▋     | 112/240 [02:16<01:51,  1.15it/s]"
     ]
    },
    {
     "name": "stderr",
     "output_type": "stream",
     "text": [
      "\r",
      "SCENARIOS COMPLETE:  47%|████▋     | 113/240 [02:17<01:50,  1.15it/s]"
     ]
    },
    {
     "name": "stderr",
     "output_type": "stream",
     "text": [
      "\r",
      "SCENARIOS COMPLETE:  48%|████▊     | 114/240 [02:18<01:50,  1.14it/s]"
     ]
    },
    {
     "name": "stderr",
     "output_type": "stream",
     "text": [
      "\r",
      "SCENARIOS COMPLETE:  48%|████▊     | 115/240 [02:19<01:50,  1.13it/s]"
     ]
    },
    {
     "name": "stderr",
     "output_type": "stream",
     "text": [
      "\r",
      "SCENARIOS COMPLETE:  48%|████▊     | 116/240 [02:20<01:50,  1.12it/s]"
     ]
    },
    {
     "name": "stderr",
     "output_type": "stream",
     "text": [
      "\r",
      "SCENARIOS COMPLETE:  49%|████▉     | 117/240 [02:20<01:50,  1.12it/s]"
     ]
    },
    {
     "name": "stderr",
     "output_type": "stream",
     "text": [
      "\r",
      "SCENARIOS COMPLETE:  49%|████▉     | 118/240 [02:21<01:48,  1.12it/s]"
     ]
    },
    {
     "name": "stderr",
     "output_type": "stream",
     "text": [
      "\r",
      "SCENARIOS COMPLETE:  50%|████▉     | 119/240 [02:22<01:46,  1.13it/s]"
     ]
    },
    {
     "name": "stderr",
     "output_type": "stream",
     "text": [
      "\r",
      "SCENARIOS COMPLETE:  50%|█████     | 120/240 [02:23<01:45,  1.13it/s]"
     ]
    },
    {
     "name": "stderr",
     "output_type": "stream",
     "text": [
      "\r",
      "SCENARIOS COMPLETE:  50%|█████     | 121/240 [02:24<01:44,  1.14it/s]"
     ]
    },
    {
     "name": "stderr",
     "output_type": "stream",
     "text": [
      "\r",
      "SCENARIOS COMPLETE:  51%|█████     | 122/240 [02:25<01:42,  1.15it/s]"
     ]
    },
    {
     "name": "stderr",
     "output_type": "stream",
     "text": [
      "\r",
      "SCENARIOS COMPLETE:  51%|█████▏    | 123/240 [02:26<01:42,  1.15it/s]"
     ]
    },
    {
     "name": "stderr",
     "output_type": "stream",
     "text": [
      "\r",
      "SCENARIOS COMPLETE:  52%|█████▏    | 124/240 [02:27<01:41,  1.15it/s]"
     ]
    },
    {
     "name": "stderr",
     "output_type": "stream",
     "text": [
      "\r",
      "SCENARIOS COMPLETE:  52%|█████▏    | 125/240 [02:27<01:39,  1.16it/s]"
     ]
    },
    {
     "name": "stderr",
     "output_type": "stream",
     "text": [
      "\r",
      "SCENARIOS COMPLETE:  52%|█████▎    | 126/240 [02:28<01:38,  1.15it/s]"
     ]
    },
    {
     "name": "stderr",
     "output_type": "stream",
     "text": [
      "\r",
      "SCENARIOS COMPLETE:  53%|█████▎    | 127/240 [02:29<01:37,  1.16it/s]"
     ]
    },
    {
     "name": "stderr",
     "output_type": "stream",
     "text": [
      "\r",
      "SCENARIOS COMPLETE:  53%|█████▎    | 128/240 [02:30<01:36,  1.16it/s]"
     ]
    },
    {
     "name": "stderr",
     "output_type": "stream",
     "text": [
      "\r",
      "SCENARIOS COMPLETE:  54%|█████▍    | 129/240 [02:31<01:35,  1.16it/s]"
     ]
    },
    {
     "name": "stderr",
     "output_type": "stream",
     "text": [
      "\r",
      "SCENARIOS COMPLETE:  54%|█████▍    | 130/240 [02:32<01:34,  1.16it/s]"
     ]
    },
    {
     "name": "stderr",
     "output_type": "stream",
     "text": [
      "\r",
      "SCENARIOS COMPLETE:  55%|█████▍    | 131/240 [02:33<01:33,  1.17it/s]"
     ]
    },
    {
     "name": "stderr",
     "output_type": "stream",
     "text": [
      "\r",
      "SCENARIOS COMPLETE:  55%|█████▌    | 132/240 [02:33<01:33,  1.16it/s]"
     ]
    },
    {
     "name": "stderr",
     "output_type": "stream",
     "text": [
      "\r",
      "SCENARIOS COMPLETE:  55%|█████▌    | 133/240 [02:34<01:31,  1.16it/s]"
     ]
    },
    {
     "name": "stderr",
     "output_type": "stream",
     "text": [
      "\r",
      "SCENARIOS COMPLETE:  56%|█████▌    | 134/240 [02:35<01:30,  1.17it/s]"
     ]
    },
    {
     "name": "stderr",
     "output_type": "stream",
     "text": [
      "\r",
      "SCENARIOS COMPLETE:  56%|█████▋    | 135/240 [02:36<01:30,  1.17it/s]"
     ]
    },
    {
     "name": "stderr",
     "output_type": "stream",
     "text": [
      "\r",
      "SCENARIOS COMPLETE:  57%|█████▋    | 136/240 [02:37<01:29,  1.17it/s]"
     ]
    },
    {
     "name": "stderr",
     "output_type": "stream",
     "text": [
      "\r",
      "SCENARIOS COMPLETE:  57%|█████▋    | 137/240 [02:38<01:28,  1.17it/s]"
     ]
    },
    {
     "name": "stderr",
     "output_type": "stream",
     "text": [
      "\r",
      "SCENARIOS COMPLETE:  57%|█████▊    | 138/240 [02:39<01:28,  1.16it/s]"
     ]
    },
    {
     "name": "stderr",
     "output_type": "stream",
     "text": [
      "\r",
      "SCENARIOS COMPLETE:  58%|█████▊    | 139/240 [02:39<01:26,  1.17it/s]"
     ]
    },
    {
     "name": "stderr",
     "output_type": "stream",
     "text": [
      "\r",
      "SCENARIOS COMPLETE:  58%|█████▊    | 140/240 [02:40<01:26,  1.16it/s]"
     ]
    },
    {
     "name": "stderr",
     "output_type": "stream",
     "text": [
      "\r",
      "SCENARIOS COMPLETE:  59%|█████▉    | 141/240 [02:41<01:24,  1.17it/s]"
     ]
    },
    {
     "name": "stderr",
     "output_type": "stream",
     "text": [
      "\r",
      "SCENARIOS COMPLETE:  59%|█████▉    | 142/240 [02:42<01:24,  1.16it/s]"
     ]
    },
    {
     "name": "stderr",
     "output_type": "stream",
     "text": [
      "\r",
      "SCENARIOS COMPLETE:  60%|█████▉    | 143/240 [02:43<01:22,  1.17it/s]"
     ]
    },
    {
     "name": "stderr",
     "output_type": "stream",
     "text": [
      "\r",
      "SCENARIOS COMPLETE:  60%|██████    | 144/240 [02:44<01:21,  1.18it/s]"
     ]
    },
    {
     "name": "stderr",
     "output_type": "stream",
     "text": [
      "\r",
      "SCENARIOS COMPLETE:  60%|██████    | 145/240 [02:45<01:20,  1.17it/s]"
     ]
    },
    {
     "name": "stderr",
     "output_type": "stream",
     "text": [
      "\r",
      "SCENARIOS COMPLETE:  61%|██████    | 146/240 [02:45<01:21,  1.16it/s]"
     ]
    },
    {
     "name": "stderr",
     "output_type": "stream",
     "text": [
      "\r",
      "SCENARIOS COMPLETE:  61%|██████▏   | 147/240 [02:46<01:20,  1.16it/s]"
     ]
    },
    {
     "name": "stderr",
     "output_type": "stream",
     "text": [
      "\r",
      "SCENARIOS COMPLETE:  62%|██████▏   | 148/240 [02:47<01:19,  1.16it/s]"
     ]
    },
    {
     "name": "stderr",
     "output_type": "stream",
     "text": [
      "\r",
      "SCENARIOS COMPLETE:  62%|██████▏   | 149/240 [02:48<01:18,  1.17it/s]"
     ]
    },
    {
     "name": "stderr",
     "output_type": "stream",
     "text": [
      "\r",
      "SCENARIOS COMPLETE:  62%|██████▎   | 150/240 [02:49<01:17,  1.16it/s]"
     ]
    },
    {
     "name": "stderr",
     "output_type": "stream",
     "text": [
      "\r",
      "SCENARIOS COMPLETE:  63%|██████▎   | 151/240 [02:50<01:16,  1.17it/s]"
     ]
    },
    {
     "name": "stderr",
     "output_type": "stream",
     "text": [
      "\r",
      "SCENARIOS COMPLETE:  63%|██████▎   | 152/240 [02:51<01:15,  1.16it/s]"
     ]
    },
    {
     "name": "stderr",
     "output_type": "stream",
     "text": [
      "\r",
      "SCENARIOS COMPLETE:  64%|██████▍   | 153/240 [02:51<01:14,  1.17it/s]"
     ]
    },
    {
     "name": "stderr",
     "output_type": "stream",
     "text": [
      "\r",
      "SCENARIOS COMPLETE:  64%|██████▍   | 154/240 [02:52<01:14,  1.16it/s]"
     ]
    },
    {
     "name": "stderr",
     "output_type": "stream",
     "text": [
      "\r",
      "SCENARIOS COMPLETE:  65%|██████▍   | 155/240 [02:53<01:13,  1.16it/s]"
     ]
    },
    {
     "name": "stderr",
     "output_type": "stream",
     "text": [
      "\r",
      "SCENARIOS COMPLETE:  65%|██████▌   | 156/240 [02:54<01:12,  1.16it/s]"
     ]
    },
    {
     "name": "stderr",
     "output_type": "stream",
     "text": [
      "\r",
      "SCENARIOS COMPLETE:  65%|██████▌   | 157/240 [02:55<01:11,  1.17it/s]"
     ]
    },
    {
     "name": "stderr",
     "output_type": "stream",
     "text": [
      "\r",
      "SCENARIOS COMPLETE:  66%|██████▌   | 158/240 [02:56<01:10,  1.16it/s]"
     ]
    },
    {
     "name": "stderr",
     "output_type": "stream",
     "text": [
      "\r",
      "SCENARIOS COMPLETE:  66%|██████▋   | 159/240 [02:57<01:09,  1.16it/s]"
     ]
    },
    {
     "name": "stderr",
     "output_type": "stream",
     "text": [
      "\r",
      "SCENARIOS COMPLETE:  67%|██████▋   | 160/240 [02:57<01:08,  1.17it/s]"
     ]
    },
    {
     "name": "stderr",
     "output_type": "stream",
     "text": [
      "\r",
      "SCENARIOS COMPLETE:  67%|██████▋   | 161/240 [02:58<00:56,  1.39it/s]"
     ]
    },
    {
     "name": "stderr",
     "output_type": "stream",
     "text": [
      "\r",
      "SCENARIOS COMPLETE:  68%|██████▊   | 162/240 [02:58<00:48,  1.61it/s]"
     ]
    },
    {
     "name": "stderr",
     "output_type": "stream",
     "text": [
      "\r",
      "SCENARIOS COMPLETE:  68%|██████▊   | 163/240 [02:59<00:42,  1.81it/s]"
     ]
    },
    {
     "name": "stderr",
     "output_type": "stream",
     "text": [
      "\r",
      "SCENARIOS COMPLETE:  68%|██████▊   | 164/240 [02:59<00:38,  2.00it/s]"
     ]
    },
    {
     "name": "stderr",
     "output_type": "stream",
     "text": [
      "\r",
      "SCENARIOS COMPLETE:  69%|██████▉   | 165/240 [02:59<00:34,  2.15it/s]"
     ]
    },
    {
     "name": "stderr",
     "output_type": "stream",
     "text": [
      "\r",
      "SCENARIOS COMPLETE:  69%|██████▉   | 166/240 [03:00<00:33,  2.24it/s]"
     ]
    },
    {
     "name": "stderr",
     "output_type": "stream",
     "text": [
      "\r",
      "SCENARIOS COMPLETE:  70%|██████▉   | 167/240 [03:00<00:31,  2.34it/s]"
     ]
    },
    {
     "name": "stderr",
     "output_type": "stream",
     "text": [
      "\r",
      "SCENARIOS COMPLETE:  70%|███████   | 168/240 [03:01<00:30,  2.38it/s]"
     ]
    },
    {
     "name": "stderr",
     "output_type": "stream",
     "text": [
      "\r",
      "SCENARIOS COMPLETE:  70%|███████   | 169/240 [03:01<00:29,  2.40it/s]"
     ]
    },
    {
     "name": "stderr",
     "output_type": "stream",
     "text": [
      "\r",
      "SCENARIOS COMPLETE:  71%|███████   | 170/240 [03:01<00:28,  2.46it/s]"
     ]
    },
    {
     "name": "stderr",
     "output_type": "stream",
     "text": [
      "\r",
      "SCENARIOS COMPLETE:  71%|███████▏  | 171/240 [03:02<00:28,  2.45it/s]"
     ]
    },
    {
     "name": "stderr",
     "output_type": "stream",
     "text": [
      "\r",
      "SCENARIOS COMPLETE:  72%|███████▏  | 172/240 [03:02<00:27,  2.44it/s]"
     ]
    },
    {
     "name": "stderr",
     "output_type": "stream",
     "text": [
      "\r",
      "SCENARIOS COMPLETE:  72%|███████▏  | 173/240 [03:03<00:26,  2.49it/s]"
     ]
    },
    {
     "name": "stderr",
     "output_type": "stream",
     "text": [
      "\r",
      "SCENARIOS COMPLETE:  72%|███████▎  | 174/240 [03:03<00:26,  2.47it/s]"
     ]
    },
    {
     "name": "stderr",
     "output_type": "stream",
     "text": [
      "\r",
      "SCENARIOS COMPLETE:  73%|███████▎  | 175/240 [03:03<00:26,  2.47it/s]"
     ]
    },
    {
     "name": "stderr",
     "output_type": "stream",
     "text": [
      "\r",
      "SCENARIOS COMPLETE:  73%|███████▎  | 176/240 [03:04<00:25,  2.48it/s]"
     ]
    },
    {
     "name": "stderr",
     "output_type": "stream",
     "text": [
      "\r",
      "SCENARIOS COMPLETE:  74%|███████▍  | 177/240 [03:04<00:25,  2.49it/s]"
     ]
    },
    {
     "name": "stderr",
     "output_type": "stream",
     "text": [
      "\r",
      "SCENARIOS COMPLETE:  74%|███████▍  | 178/240 [03:05<00:25,  2.47it/s]"
     ]
    },
    {
     "name": "stderr",
     "output_type": "stream",
     "text": [
      "\r",
      "SCENARIOS COMPLETE:  75%|███████▍  | 179/240 [03:05<00:24,  2.49it/s]"
     ]
    },
    {
     "name": "stderr",
     "output_type": "stream",
     "text": [
      "\r",
      "SCENARIOS COMPLETE:  75%|███████▌  | 180/240 [03:05<00:24,  2.47it/s]"
     ]
    },
    {
     "name": "stderr",
     "output_type": "stream",
     "text": [
      "\r",
      "SCENARIOS COMPLETE:  75%|███████▌  | 181/240 [03:06<00:24,  2.46it/s]"
     ]
    },
    {
     "name": "stderr",
     "output_type": "stream",
     "text": [
      "\r",
      "SCENARIOS COMPLETE:  76%|███████▌  | 182/240 [03:06<00:23,  2.46it/s]"
     ]
    },
    {
     "name": "stderr",
     "output_type": "stream",
     "text": [
      "\r",
      "SCENARIOS COMPLETE:  76%|███████▋  | 183/240 [03:07<00:22,  2.48it/s]"
     ]
    },
    {
     "name": "stderr",
     "output_type": "stream",
     "text": [
      "\r",
      "SCENARIOS COMPLETE:  77%|███████▋  | 184/240 [03:07<00:22,  2.47it/s]"
     ]
    },
    {
     "name": "stderr",
     "output_type": "stream",
     "text": [
      "\r",
      "SCENARIOS COMPLETE:  77%|███████▋  | 185/240 [03:07<00:22,  2.49it/s]"
     ]
    },
    {
     "name": "stderr",
     "output_type": "stream",
     "text": [
      "\r",
      "SCENARIOS COMPLETE:  78%|███████▊  | 186/240 [03:08<00:21,  2.51it/s]"
     ]
    },
    {
     "name": "stderr",
     "output_type": "stream",
     "text": [
      "\r",
      "SCENARIOS COMPLETE:  78%|███████▊  | 187/240 [03:08<00:21,  2.51it/s]"
     ]
    },
    {
     "name": "stderr",
     "output_type": "stream",
     "text": [
      "\r",
      "SCENARIOS COMPLETE:  78%|███████▊  | 188/240 [03:09<00:20,  2.52it/s]"
     ]
    },
    {
     "name": "stderr",
     "output_type": "stream",
     "text": [
      "\r",
      "SCENARIOS COMPLETE:  79%|███████▉  | 189/240 [03:09<00:20,  2.51it/s]"
     ]
    },
    {
     "name": "stderr",
     "output_type": "stream",
     "text": [
      "\r",
      "SCENARIOS COMPLETE:  79%|███████▉  | 190/240 [03:09<00:19,  2.54it/s]"
     ]
    },
    {
     "name": "stderr",
     "output_type": "stream",
     "text": [
      "\r",
      "SCENARIOS COMPLETE:  80%|███████▉  | 191/240 [03:10<00:19,  2.56it/s]"
     ]
    },
    {
     "name": "stderr",
     "output_type": "stream",
     "text": [
      "\r",
      "SCENARIOS COMPLETE:  80%|████████  | 192/240 [03:10<00:18,  2.55it/s]"
     ]
    },
    {
     "name": "stderr",
     "output_type": "stream",
     "text": [
      "\r",
      "SCENARIOS COMPLETE:  80%|████████  | 193/240 [03:11<00:18,  2.51it/s]"
     ]
    },
    {
     "name": "stderr",
     "output_type": "stream",
     "text": [
      "\r",
      "SCENARIOS COMPLETE:  81%|████████  | 194/240 [03:11<00:18,  2.49it/s]"
     ]
    },
    {
     "name": "stderr",
     "output_type": "stream",
     "text": [
      "\r",
      "SCENARIOS COMPLETE:  81%|████████▏ | 195/240 [03:11<00:18,  2.50it/s]"
     ]
    },
    {
     "name": "stderr",
     "output_type": "stream",
     "text": [
      "\r",
      "SCENARIOS COMPLETE:  82%|████████▏ | 196/240 [03:12<00:17,  2.48it/s]"
     ]
    },
    {
     "name": "stderr",
     "output_type": "stream",
     "text": [
      "\r",
      "SCENARIOS COMPLETE:  82%|████████▏ | 197/240 [03:12<00:17,  2.51it/s]"
     ]
    },
    {
     "name": "stderr",
     "output_type": "stream",
     "text": [
      "\r",
      "SCENARIOS COMPLETE:  82%|████████▎ | 198/240 [03:13<00:16,  2.53it/s]"
     ]
    },
    {
     "name": "stderr",
     "output_type": "stream",
     "text": [
      "\r",
      "SCENARIOS COMPLETE:  83%|████████▎ | 199/240 [03:13<00:16,  2.52it/s]"
     ]
    },
    {
     "name": "stderr",
     "output_type": "stream",
     "text": [
      "\r",
      "SCENARIOS COMPLETE:  83%|████████▎ | 200/240 [03:13<00:15,  2.52it/s]"
     ]
    },
    {
     "name": "stderr",
     "output_type": "stream",
     "text": [
      "\r",
      "SCENARIOS COMPLETE:  84%|████████▍ | 201/240 [03:14<00:15,  2.51it/s]"
     ]
    },
    {
     "name": "stderr",
     "output_type": "stream",
     "text": [
      "\r",
      "SCENARIOS COMPLETE:  84%|████████▍ | 202/240 [03:14<00:15,  2.53it/s]"
     ]
    },
    {
     "name": "stderr",
     "output_type": "stream",
     "text": [
      "\r",
      "SCENARIOS COMPLETE:  85%|████████▍ | 203/240 [03:15<00:14,  2.53it/s]"
     ]
    },
    {
     "name": "stderr",
     "output_type": "stream",
     "text": [
      "\r",
      "SCENARIOS COMPLETE:  85%|████████▌ | 204/240 [03:15<00:14,  2.52it/s]"
     ]
    },
    {
     "name": "stderr",
     "output_type": "stream",
     "text": [
      "\r",
      "SCENARIOS COMPLETE:  85%|████████▌ | 205/240 [03:15<00:13,  2.51it/s]"
     ]
    },
    {
     "name": "stderr",
     "output_type": "stream",
     "text": [
      "\r",
      "SCENARIOS COMPLETE:  86%|████████▌ | 206/240 [03:16<00:13,  2.51it/s]"
     ]
    },
    {
     "name": "stderr",
     "output_type": "stream",
     "text": [
      "\r",
      "SCENARIOS COMPLETE:  86%|████████▋ | 207/240 [03:16<00:13,  2.51it/s]"
     ]
    },
    {
     "name": "stderr",
     "output_type": "stream",
     "text": [
      "\r",
      "SCENARIOS COMPLETE:  87%|████████▋ | 208/240 [03:17<00:12,  2.54it/s]"
     ]
    },
    {
     "name": "stderr",
     "output_type": "stream",
     "text": [
      "\r",
      "SCENARIOS COMPLETE:  87%|████████▋ | 209/240 [03:17<00:12,  2.56it/s]"
     ]
    },
    {
     "name": "stderr",
     "output_type": "stream",
     "text": [
      "\r",
      "SCENARIOS COMPLETE:  88%|████████▊ | 210/240 [03:17<00:12,  2.48it/s]"
     ]
    },
    {
     "name": "stderr",
     "output_type": "stream",
     "text": [
      "\r",
      "SCENARIOS COMPLETE:  88%|████████▊ | 211/240 [03:18<00:11,  2.48it/s]"
     ]
    },
    {
     "name": "stderr",
     "output_type": "stream",
     "text": [
      "\r",
      "SCENARIOS COMPLETE:  88%|████████▊ | 212/240 [03:18<00:11,  2.52it/s]"
     ]
    },
    {
     "name": "stderr",
     "output_type": "stream",
     "text": [
      "\r",
      "SCENARIOS COMPLETE:  89%|████████▉ | 213/240 [03:19<00:10,  2.51it/s]"
     ]
    },
    {
     "name": "stderr",
     "output_type": "stream",
     "text": [
      "\r",
      "SCENARIOS COMPLETE:  89%|████████▉ | 214/240 [03:19<00:10,  2.51it/s]"
     ]
    },
    {
     "name": "stderr",
     "output_type": "stream",
     "text": [
      "\r",
      "SCENARIOS COMPLETE:  90%|████████▉ | 215/240 [03:19<00:10,  2.50it/s]"
     ]
    },
    {
     "name": "stderr",
     "output_type": "stream",
     "text": [
      "\r",
      "SCENARIOS COMPLETE:  90%|█████████ | 216/240 [03:20<00:09,  2.44it/s]"
     ]
    },
    {
     "name": "stderr",
     "output_type": "stream",
     "text": [
      "\r",
      "SCENARIOS COMPLETE:  90%|█████████ | 217/240 [03:20<00:09,  2.38it/s]"
     ]
    },
    {
     "name": "stderr",
     "output_type": "stream",
     "text": [
      "\r",
      "SCENARIOS COMPLETE:  91%|█████████ | 218/240 [03:21<00:09,  2.28it/s]"
     ]
    },
    {
     "name": "stderr",
     "output_type": "stream",
     "text": [
      "\r",
      "SCENARIOS COMPLETE:  91%|█████████▏| 219/240 [03:21<00:09,  2.32it/s]"
     ]
    },
    {
     "name": "stderr",
     "output_type": "stream",
     "text": [
      "\r",
      "SCENARIOS COMPLETE:  92%|█████████▏| 220/240 [03:22<00:08,  2.28it/s]"
     ]
    },
    {
     "name": "stderr",
     "output_type": "stream",
     "text": [
      "\r",
      "SCENARIOS COMPLETE:  92%|█████████▏| 221/240 [03:22<00:08,  2.35it/s]"
     ]
    },
    {
     "name": "stderr",
     "output_type": "stream",
     "text": [
      "\r",
      "SCENARIOS COMPLETE:  92%|█████████▎| 222/240 [03:22<00:07,  2.39it/s]"
     ]
    },
    {
     "name": "stderr",
     "output_type": "stream",
     "text": [
      "\r",
      "SCENARIOS COMPLETE:  93%|█████████▎| 223/240 [03:23<00:06,  2.43it/s]"
     ]
    },
    {
     "name": "stderr",
     "output_type": "stream",
     "text": [
      "\r",
      "SCENARIOS COMPLETE:  93%|█████████▎| 224/240 [03:23<00:06,  2.45it/s]"
     ]
    },
    {
     "name": "stderr",
     "output_type": "stream",
     "text": [
      "\r",
      "SCENARIOS COMPLETE:  94%|█████████▍| 225/240 [03:24<00:05,  2.50it/s]"
     ]
    },
    {
     "name": "stderr",
     "output_type": "stream",
     "text": [
      "\r",
      "SCENARIOS COMPLETE:  94%|█████████▍| 226/240 [03:24<00:05,  2.49it/s]"
     ]
    },
    {
     "name": "stderr",
     "output_type": "stream",
     "text": [
      "\r",
      "SCENARIOS COMPLETE:  95%|█████████▍| 227/240 [03:24<00:05,  2.50it/s]"
     ]
    },
    {
     "name": "stderr",
     "output_type": "stream",
     "text": [
      "\r",
      "SCENARIOS COMPLETE:  95%|█████████▌| 228/240 [03:25<00:04,  2.50it/s]"
     ]
    },
    {
     "name": "stderr",
     "output_type": "stream",
     "text": [
      "\r",
      "SCENARIOS COMPLETE:  95%|█████████▌| 229/240 [03:25<00:04,  2.49it/s]"
     ]
    },
    {
     "name": "stderr",
     "output_type": "stream",
     "text": [
      "\r",
      "SCENARIOS COMPLETE:  96%|█████████▌| 230/240 [03:26<00:04,  2.48it/s]"
     ]
    },
    {
     "name": "stderr",
     "output_type": "stream",
     "text": [
      "\r",
      "SCENARIOS COMPLETE:  96%|█████████▋| 231/240 [03:26<00:03,  2.53it/s]"
     ]
    },
    {
     "name": "stderr",
     "output_type": "stream",
     "text": [
      "\r",
      "SCENARIOS COMPLETE:  97%|█████████▋| 232/240 [03:26<00:03,  2.51it/s]"
     ]
    },
    {
     "name": "stderr",
     "output_type": "stream",
     "text": [
      "\r",
      "SCENARIOS COMPLETE:  97%|█████████▋| 233/240 [03:27<00:02,  2.50it/s]"
     ]
    },
    {
     "name": "stderr",
     "output_type": "stream",
     "text": [
      "\r",
      "SCENARIOS COMPLETE:  98%|█████████▊| 234/240 [03:27<00:02,  2.51it/s]"
     ]
    },
    {
     "name": "stderr",
     "output_type": "stream",
     "text": [
      "\r",
      "SCENARIOS COMPLETE:  98%|█████████▊| 235/240 [03:28<00:01,  2.54it/s]"
     ]
    },
    {
     "name": "stderr",
     "output_type": "stream",
     "text": [
      "\r",
      "SCENARIOS COMPLETE:  98%|█████████▊| 236/240 [03:28<00:01,  2.53it/s]"
     ]
    },
    {
     "name": "stderr",
     "output_type": "stream",
     "text": [
      "\r",
      "SCENARIOS COMPLETE:  99%|█████████▉| 237/240 [03:28<00:01,  2.51it/s]"
     ]
    },
    {
     "name": "stderr",
     "output_type": "stream",
     "text": [
      "\r",
      "SCENARIOS COMPLETE:  99%|█████████▉| 238/240 [03:29<00:00,  2.23it/s]"
     ]
    },
    {
     "name": "stderr",
     "output_type": "stream",
     "text": [
      "\r",
      "SCENARIOS COMPLETE: 100%|█████████▉| 239/240 [03:30<00:00,  1.78it/s]"
     ]
    },
    {
     "name": "stderr",
     "output_type": "stream",
     "text": [
      "\r",
      "SCENARIOS COMPLETE: 100%|██████████| 240/240 [03:30<00:00,  1.67it/s]"
     ]
    },
    {
     "name": "stderr",
     "output_type": "stream",
     "text": [
      "\r",
      "SCENARIOS COMPLETE: 100%|██████████| 240/240 [03:30<00:00,  1.14it/s]"
     ]
    },
    {
     "name": "stderr",
     "output_type": "stream",
     "text": [
      "\n"
     ]
    }
   ],
   "source": [
    "oct_app = SampleApproach(mdl_oct, faults=oct_faults)\n",
    "oct_endclasses, oct_mdlhists = fs.propagate.approach(mdl_oct, oct_app, staged=True)"
   ]
  },
  {
   "cell_type": "code",
   "execution_count": 48,
   "metadata": {
    "execution": {
     "iopub.execute_input": "2023-08-04T16:27:18.326572Z",
     "iopub.status.busy": "2023-08-04T16:27:18.326572Z",
     "iopub.status.idle": "2023-08-04T16:27:18.402369Z",
     "shell.execute_reply": "2023-08-04T16:27:18.401372Z"
    }
   },
   "outputs": [
    {
     "data": {
      "text/html": [
       "<div>\n",
       "<style scoped>\n",
       "    .dataframe tbody tr th:only-of-type {\n",
       "        vertical-align: middle;\n",
       "    }\n",
       "\n",
       "    .dataframe tbody tr th {\n",
       "        vertical-align: top;\n",
       "    }\n",
       "\n",
       "    .dataframe thead th {\n",
       "        text-align: right;\n",
       "    }\n",
       "</style>\n",
       "<table border=\"1\" class=\"dataframe\">\n",
       "  <thead>\n",
       "    <tr style=\"text-align: right;\">\n",
       "      <th></th>\n",
       "      <th>rate</th>\n",
       "      <th>cost</th>\n",
       "      <th>expected cost</th>\n",
       "    </tr>\n",
       "  </thead>\n",
       "  <tbody>\n",
       "    <tr>\n",
       "      <th>affect_dof_lf2_ctlbreak_t49p0</th>\n",
       "      <td>1.666667e-07</td>\n",
       "      <td>139600.0</td>\n",
       "      <td>2326.666667</td>\n",
       "    </tr>\n",
       "    <tr>\n",
       "      <th>affect_dof_rf_ctlbreak_t49p0</th>\n",
       "      <td>1.666667e-07</td>\n",
       "      <td>139600.0</td>\n",
       "      <td>2326.666667</td>\n",
       "    </tr>\n",
       "    <tr>\n",
       "      <th>affect_dof_rf2_ctlbreak_t49p0</th>\n",
       "      <td>1.666667e-07</td>\n",
       "      <td>139600.0</td>\n",
       "      <td>2326.666667</td>\n",
       "    </tr>\n",
       "    <tr>\n",
       "      <th>affect_dof_lf_ctlbreak_t49p0</th>\n",
       "      <td>1.666667e-07</td>\n",
       "      <td>139600.0</td>\n",
       "      <td>2326.666667</td>\n",
       "    </tr>\n",
       "    <tr>\n",
       "      <th>affect_dof_lf2_ctldn_t49p0</th>\n",
       "      <td>1.666667e-07</td>\n",
       "      <td>139100.0</td>\n",
       "      <td>2318.333333</td>\n",
       "    </tr>\n",
       "    <tr>\n",
       "      <th>...</th>\n",
       "      <td>...</td>\n",
       "      <td>...</td>\n",
       "      <td>...</td>\n",
       "    </tr>\n",
       "    <tr>\n",
       "      <th>affect_dof_lr_propwarp_t2p0</th>\n",
       "      <td>4.629630e-10</td>\n",
       "      <td>200.0</td>\n",
       "      <td>0.009259</td>\n",
       "    </tr>\n",
       "    <tr>\n",
       "      <th>affect_dof_rr2_propwarp_t2p0</th>\n",
       "      <td>4.629630e-10</td>\n",
       "      <td>200.0</td>\n",
       "      <td>0.009259</td>\n",
       "    </tr>\n",
       "    <tr>\n",
       "      <th>affect_dof_lr2_propwarp_t2p0</th>\n",
       "      <td>4.629630e-10</td>\n",
       "      <td>200.0</td>\n",
       "      <td>0.009259</td>\n",
       "    </tr>\n",
       "    <tr>\n",
       "      <th>affect_dof_rr_propwarp_t2p0</th>\n",
       "      <td>4.629630e-10</td>\n",
       "      <td>200.0</td>\n",
       "      <td>0.009259</td>\n",
       "    </tr>\n",
       "    <tr>\n",
       "      <th>nominal</th>\n",
       "      <td>1.000000e+00</td>\n",
       "      <td>0.0</td>\n",
       "      <td>0.000000</td>\n",
       "    </tr>\n",
       "  </tbody>\n",
       "</table>\n",
       "<p>241 rows × 3 columns</p>\n",
       "</div>"
      ],
      "text/plain": [
       "                                       rate      cost  expected cost\n",
       "affect_dof_lf2_ctlbreak_t49p0  1.666667e-07  139600.0    2326.666667\n",
       "affect_dof_rf_ctlbreak_t49p0   1.666667e-07  139600.0    2326.666667\n",
       "affect_dof_rf2_ctlbreak_t49p0  1.666667e-07  139600.0    2326.666667\n",
       "affect_dof_lf_ctlbreak_t49p0   1.666667e-07  139600.0    2326.666667\n",
       "affect_dof_lf2_ctldn_t49p0     1.666667e-07  139100.0    2318.333333\n",
       "...                                     ...       ...            ...\n",
       "affect_dof_lr_propwarp_t2p0    4.629630e-10     200.0       0.009259\n",
       "affect_dof_rr2_propwarp_t2p0   4.629630e-10     200.0       0.009259\n",
       "affect_dof_lr2_propwarp_t2p0   4.629630e-10     200.0       0.009259\n",
       "affect_dof_rr_propwarp_t2p0    4.629630e-10     200.0       0.009259\n",
       "nominal                        1.000000e+00       0.0       0.000000\n",
       "\n",
       "[241 rows x 3 columns]"
      ]
     },
     "execution_count": 48,
     "metadata": {},
     "output_type": "execute_result"
    }
   ],
   "source": [
    "oct_tab = oct_endclasses.create_simple_fmea()\n",
    "oct_tab.sort_values('expected cost', ascending=False)"
   ]
  },
  {
   "attachments": {},
   "cell_type": "markdown",
   "metadata": {},
   "source": [
    "Based on this model, we can calculate some metrics that quantify how resilient the system was to the set of faults, such as the cost of resilience:"
   ]
  },
  {
   "cell_type": "code",
   "execution_count": 49,
   "metadata": {
    "execution": {
     "iopub.execute_input": "2023-08-04T16:27:18.405396Z",
     "iopub.status.busy": "2023-08-04T16:27:18.405396Z",
     "iopub.status.idle": "2023-08-04T16:27:18.417362Z",
     "shell.execute_reply": "2023-08-04T16:27:18.417362Z"
    }
   },
   "outputs": [
    {
     "data": {
      "text/plain": [
       "49174.64444444445"
      ]
     },
     "execution_count": 49,
     "metadata": {},
     "output_type": "execute_result"
    }
   ],
   "source": [
    "oct_res = sum(oct_tab['expected cost'])\n",
    "oct_res"
   ]
  },
  {
   "attachments": {},
   "cell_type": "markdown",
   "metadata": {},
   "source": [
    "The overall rate of crashes:"
   ]
  },
  {
   "cell_type": "code",
   "execution_count": 50,
   "metadata": {
    "execution": {
     "iopub.execute_input": "2023-08-04T16:27:18.421318Z",
     "iopub.status.busy": "2023-08-04T16:27:18.420320Z",
     "iopub.status.idle": "2023-08-04T16:27:18.434285Z",
     "shell.execute_reply": "2023-08-04T16:27:18.433320Z"
    }
   },
   "outputs": [
    {
     "data": {
      "text/plain": [
       "3.025925925925927e-06"
      ]
     },
     "execution_count": 50,
     "metadata": {},
     "output_type": "execute_result"
    }
   ],
   "source": [
    "oct_crashes = oct_tab[oct_tab['cost']>100000]\n",
    "oct_rate = sum(oct_crashes['rate'])\n",
    "oct_rate"
   ]
  },
  {
   "attachments": {},
   "cell_type": "markdown",
   "metadata": {},
   "source": [
    "Number of crashes:"
   ]
  },
  {
   "cell_type": "code",
   "execution_count": 51,
   "metadata": {
    "execution": {
     "iopub.execute_input": "2023-08-04T16:27:18.438273Z",
     "iopub.status.busy": "2023-08-04T16:27:18.438273Z",
     "iopub.status.idle": "2023-08-04T16:27:18.450275Z",
     "shell.execute_reply": "2023-08-04T16:27:18.449277Z"
    }
   },
   "outputs": [
    {
     "data": {
      "text/plain": [
       "72"
      ]
     },
     "execution_count": 51,
     "metadata": {},
     "output_type": "execute_result"
    }
   ],
   "source": [
    "oct_num_crashes = len(oct_crashes['rate'])\n",
    "oct_num_crashes"
   ]
  },
  {
   "attachments": {},
   "cell_type": "markdown",
   "metadata": {},
   "source": [
    "Percent of crashes:"
   ]
  },
  {
   "cell_type": "code",
   "execution_count": 52,
   "metadata": {
    "execution": {
     "iopub.execute_input": "2023-08-04T16:27:18.453267Z",
     "iopub.status.busy": "2023-08-04T16:27:18.452269Z",
     "iopub.status.idle": "2023-08-04T16:27:18.466200Z",
     "shell.execute_reply": "2023-08-04T16:27:18.465202Z"
    }
   },
   "outputs": [
    {
     "data": {
      "text/plain": [
       "0.2987551867219917"
      ]
     },
     "execution_count": 52,
     "metadata": {},
     "output_type": "execute_result"
    }
   ],
   "source": [
    "oct_perc_crashes = len(oct_crashes['rate'])/len(oct_tab['rate'])\n",
    "oct_perc_crashes"
   ]
  },
  {
   "cell_type": "code",
   "execution_count": null,
   "metadata": {},
   "outputs": [],
   "source": []
  }
 ],
 "metadata": {
  "kernelspec": {
   "display_name": "Python 3 (ipykernel)",
   "language": "python",
   "name": "python3"
  },
  "language_info": {
   "codemirror_mode": {
    "name": "ipython",
    "version": 3
   },
   "file_extension": ".py",
   "mimetype": "text/x-python",
   "name": "python",
   "nbconvert_exporter": "python",
   "pygments_lexer": "ipython3",
   "version": "3.9.7"
  }
 },
 "nbformat": 4,
 "nbformat_minor": 4
}
