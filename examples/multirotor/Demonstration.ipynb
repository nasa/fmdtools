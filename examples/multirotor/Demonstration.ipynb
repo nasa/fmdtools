{
 "cells": [
  {
   "attachments": {},
   "cell_type": "markdown",
   "metadata": {},
   "source": [
    "# fmdtools Paper Demonstration\n",
    "\n",
    "This notebook shows some basic fmdtools use-cases presented in the paper:\n",
    "\n",
    "[Hulse, D., Walsh, H., Dong, A., Hoyle, C., Tumer, I., Kulkarni, C., & Goebel, K. (2021). fmdtools: A Fault Propagation Toolkit for Resilience Assessment in Early Design. International Journal of Prognostics and Health Management, 12(3)](https://doi.org/10.36001/ijphm.2021.v12i3.2954)\n",
    "\n",
    "This notebook uses a high-level model of a multirotor drone to illustrate the following fmdtools model types:\n",
    "- Network Model\n",
    "- Static Model\n",
    "- Dynamic Model\n",
    "- Hierarchical Model"
   ]
  },
  {
   "cell_type": "code",
   "execution_count": 1,
   "metadata": {
    "execution": {
     "iopub.execute_input": "2023-08-11T03:08:04.380826Z",
     "iopub.status.busy": "2023-08-11T03:08:04.380826Z",
     "iopub.status.idle": "2023-08-11T03:08:05.786273Z",
     "shell.execute_reply": "2023-08-11T03:08:05.786273Z"
    }
   },
   "outputs": [],
   "source": [
    "import matplotlib.pyplot as plt\n",
    "import numpy as np\n",
    "import pandas as pd\n",
    "from IPython.display import HTML\n",
    "\n",
    "import fmdtools.sim as fs\n",
    "import fmdtools.analyze as an\n",
    "from fmdtools.analyze.graph import ModelGraph, ModelFxnGraph\n",
    "from fmdtools.sim.approach import SampleApproach\n",
    "from fmdtools.define.model import Model"
   ]
  },
  {
   "attachments": {},
   "cell_type": "markdown",
   "metadata": {},
   "source": [
    "## Initial Model\n",
    "\n",
    "\n",
    "In our initial model, all we have is the flows, functions, and connections between them. These are set up in a model class as shown:"
   ]
  },
  {
   "cell_type": "code",
   "execution_count": 2,
   "metadata": {
    "execution": {
     "iopub.execute_input": "2023-08-11T03:08:05.786273Z",
     "iopub.status.busy": "2023-08-11T03:08:05.786273Z",
     "iopub.status.idle": "2023-08-11T03:08:05.818057Z",
     "shell.execute_reply": "2023-08-11T03:08:05.817515Z"
    }
   },
   "outputs": [
    {
     "name": "stderr",
     "output_type": "stream",
     "text": [
      "c:\\users\\dhulse\\documents\\github\\fmdtools\\fmdtools\\define\\block.py:68: UserWarning: these flows sent from model ['ee_1', 'force_st'] not added to class <class 'fmdtools.define.block.FxnBlock'>\n",
      "  warnings.warn(\"these flows sent from model \"+str([*flows.keys()])+\" not added to class \"+str(obj.__class__))\n",
      "c:\\users\\dhulse\\documents\\github\\fmdtools\\fmdtools\\define\\block.py:68: UserWarning: these flows sent from model ['ee_1', 'ee_mot', 'ee_ctl', 'force_st'] not added to class <class 'fmdtools.define.block.FxnBlock'>\n",
      "  warnings.warn(\"these flows sent from model \"+str([*flows.keys()])+\" not added to class \"+str(obj.__class__))\n",
      "c:\\users\\dhulse\\documents\\github\\fmdtools\\fmdtools\\define\\block.py:68: UserWarning: these flows sent from model ['ee_mot', 'ctl', 'dofs', 'force_lin'] not added to class <class 'fmdtools.define.block.FxnBlock'>\n",
      "  warnings.warn(\"these flows sent from model \"+str([*flows.keys()])+\" not added to class \"+str(obj.__class__))\n",
      "c:\\users\\dhulse\\documents\\github\\fmdtools\\fmdtools\\define\\block.py:68: UserWarning: these flows sent from model ['ee_ctl', 'dir', 'ctl', 'dofs', 'force_st'] not added to class <class 'fmdtools.define.block.FxnBlock'>\n",
      "  warnings.warn(\"these flows sent from model \"+str([*flows.keys()])+\" not added to class \"+str(obj.__class__))\n",
      "c:\\users\\dhulse\\documents\\github\\fmdtools\\fmdtools\\define\\block.py:68: UserWarning: these flows sent from model ['ee_ctl', 'env', 'dir', 'force_st'] not added to class <class 'fmdtools.define.block.FxnBlock'>\n",
      "  warnings.warn(\"these flows sent from model \"+str([*flows.keys()])+\" not added to class \"+str(obj.__class__))\n",
      "c:\\users\\dhulse\\documents\\github\\fmdtools\\fmdtools\\define\\block.py:68: UserWarning: these flows sent from model ['env', 'dofs', 'dir', 'force_gr'] not added to class <class 'fmdtools.define.block.FxnBlock'>\n",
      "  warnings.warn(\"these flows sent from model \"+str([*flows.keys()])+\" not added to class \"+str(obj.__class__))\n",
      "c:\\users\\dhulse\\documents\\github\\fmdtools\\fmdtools\\define\\block.py:68: UserWarning: these flows sent from model ['force_gr', 'force_lg'] not added to class <class 'fmdtools.define.block.FxnBlock'>\n",
      "  warnings.warn(\"these flows sent from model \"+str([*flows.keys()])+\" not added to class \"+str(obj.__class__))\n",
      "c:\\users\\dhulse\\documents\\github\\fmdtools\\fmdtools\\define\\block.py:68: UserWarning: these flows sent from model ['force_lg', 'force_lin', 'force_st'] not added to class <class 'fmdtools.define.block.FxnBlock'>\n",
      "  warnings.warn(\"these flows sent from model \"+str([*flows.keys()])+\" not added to class \"+str(obj.__class__))\n",
      "c:\\users\\dhulse\\documents\\github\\fmdtools\\fmdtools\\define\\block.py:68: UserWarning: these flows sent from model ['env'] not added to class <class 'fmdtools.define.block.FxnBlock'>\n",
      "  warnings.warn(\"these flows sent from model \"+str([*flows.keys()])+\" not added to class \"+str(obj.__class__))\n"
     ]
    }
   ],
   "source": [
    "from fmdtools.define.block import FxnBlock\n",
    "class Drone(Model):\n",
    "    __slots__=()\n",
    "    default_sp={}\n",
    "    def __init__(self, **kwargs):\n",
    "        super().__init__(**kwargs)\n",
    "        #add flows to the model\n",
    "        self.add_flow('force_st')\n",
    "        self.add_flow('force_lin')\n",
    "        self.add_flow('force_gr')\n",
    "        self.add_flow('force_lg')\n",
    "        self.add_flow('ee_1')\n",
    "        self.add_flow('ee_mot')\n",
    "        self.add_flow('ee_ctl')\n",
    "        self.add_flow('ctl')\n",
    "        self.add_flow('dofs')\n",
    "        self.add_flow('env')\n",
    "        self.add_flow('dir')\n",
    "        #add functions to the model\n",
    "        self.add_fxn('store_ee',  FxnBlock, 'ee_1', 'force_st')\n",
    "        self.add_fxn('dist_ee',   FxnBlock, 'ee_1','ee_mot','ee_ctl', 'force_st')\n",
    "        self.add_fxn('affect_dof',FxnBlock, 'ee_mot','ctl','dofs','force_lin')\n",
    "        self.add_fxn('ctl_dof',   FxnBlock, 'ee_ctl', 'dir', 'ctl', 'dofs', 'force_st')\n",
    "        self.add_fxn('plan_path', FxnBlock, 'ee_ctl', 'env','dir', 'force_st')\n",
    "        self.add_fxn('trajectory',FxnBlock, 'env','dofs','dir', 'force_gr')\n",
    "        self.add_fxn('engage_land',FxnBlock, 'force_gr', 'force_lg')\n",
    "        self.add_fxn('hold_payload',FxnBlock,'force_lg', 'force_lin', 'force_st')\n",
    "        self.add_fxn('view_env', FxnBlock,   'env')\n",
    "        \n",
    "        self.build()\n",
    "\n",
    "mdl = Drone()"
   ]
  },
  {
   "attachments": {},
   "cell_type": "markdown",
   "metadata": {},
   "source": [
    "## Setting Node Positions"
   ]
  },
  {
   "attachments": {},
   "cell_type": "markdown",
   "metadata": {},
   "source": [
    "As shown below, it can be difficult to make sense of a model structure using the default graph layout. We might instead want to see something that more closely approximates a flow chart of the system."
   ]
  },
  {
   "cell_type": "code",
   "execution_count": 3,
   "metadata": {
    "execution": {
     "iopub.execute_input": "2023-08-11T03:08:05.818057Z",
     "iopub.status.busy": "2023-08-11T03:08:05.818057Z",
     "iopub.status.idle": "2023-08-11T03:08:06.350784Z",
     "shell.execute_reply": "2023-08-11T03:08:06.350784Z"
    },
    "scrolled": true
   },
   "outputs": [
    {
     "data": {
      "image/png": "[encoded data removed]",
      "text/plain": [
       "<Figure size 864x720 with 1 Axes>"
      ]
     },
     "metadata": {},
     "output_type": "display_data"
    }
   ],
   "source": [
    "mdl = Drone()\n",
    "mg = ModelGraph(mdl)\n",
    "fig, ax = mg.draw()"
   ]
  },
  {
   "attachments": {},
   "cell_type": "markdown",
   "metadata": {},
   "source": [
    "To set node positions, we can use ``Graph.move_nodes``, which lets one drag the nodes to their desired locations. Node that while these node positions become attributes of the object (for future display) it is good practice to save node locations when one is done in the script so you don't have to move them every time."
   ]
  },
  {
   "cell_type": "code",
   "execution_count": 4,
   "metadata": {
    "execution": {
     "iopub.execute_input": "2023-08-11T03:08:06.350784Z",
     "iopub.status.busy": "2023-08-11T03:08:06.350784Z",
     "iopub.status.idle": "2023-08-11T03:08:06.936417Z",
     "shell.execute_reply": "2023-08-11T03:08:06.936417Z"
    }
   },
   "outputs": [
    {
     "ename": "ImportError",
     "evalue": "The Qt version imported is 5.9.7 but Matplotlib requires Qt>=5.10",
     "output_type": "error",
     "traceback": [
      "\u001b[1;31m---------------------------------------------------------------------------\u001b[0m",
      "\u001b[1;31mImportError\u001b[0m                               Traceback (most recent call last)",
      "\u001b[1;32m~\\AppData\\Local\\Temp\\1/ipykernel_4044/1451165344.py\u001b[0m in \u001b[0;36m<module>\u001b[1;34m\u001b[0m\n\u001b[1;32m----> 1\u001b[1;33m \u001b[0mget_ipython\u001b[0m\u001b[1;33m(\u001b[0m\u001b[1;33m)\u001b[0m\u001b[1;33m.\u001b[0m\u001b[0mrun_line_magic\u001b[0m\u001b[1;33m(\u001b[0m\u001b[1;34m'matplotlib'\u001b[0m\u001b[1;33m,\u001b[0m \u001b[1;34m'qt5'\u001b[0m\u001b[1;33m)\u001b[0m\u001b[1;33m\u001b[0m\u001b[1;33m\u001b[0m\u001b[0m\n\u001b[0m\u001b[0;32m      2\u001b[0m \u001b[0mgi\u001b[0m \u001b[1;33m=\u001b[0m \u001b[0mmg\u001b[0m\u001b[1;33m.\u001b[0m\u001b[0mmove_nodes\u001b[0m\u001b[1;33m(\u001b[0m\u001b[1;33m)\u001b[0m\u001b[1;33m\u001b[0m\u001b[1;33m\u001b[0m\u001b[0m\n",
      "\u001b[1;32m~\\Anaconda3\\lib\\site-packages\\IPython\\core\\interactiveshell.py\u001b[0m in \u001b[0;36mrun_line_magic\u001b[1;34m(self, magic_name, line, _stack_depth)\u001b[0m\n\u001b[0;32m   2349\u001b[0m                 \u001b[0mkwargs\u001b[0m\u001b[1;33m[\u001b[0m\u001b[1;34m'local_ns'\u001b[0m\u001b[1;33m]\u001b[0m \u001b[1;33m=\u001b[0m \u001b[0mself\u001b[0m\u001b[1;33m.\u001b[0m\u001b[0mget_local_scope\u001b[0m\u001b[1;33m(\u001b[0m\u001b[0mstack_depth\u001b[0m\u001b[1;33m)\u001b[0m\u001b[1;33m\u001b[0m\u001b[1;33m\u001b[0m\u001b[0m\n\u001b[0;32m   2350\u001b[0m             \u001b[1;32mwith\u001b[0m \u001b[0mself\u001b[0m\u001b[1;33m.\u001b[0m\u001b[0mbuiltin_trap\u001b[0m\u001b[1;33m:\u001b[0m\u001b[1;33m\u001b[0m\u001b[1;33m\u001b[0m\u001b[0m\n\u001b[1;32m-> 2351\u001b[1;33m                 \u001b[0mresult\u001b[0m \u001b[1;33m=\u001b[0m \u001b[0mfn\u001b[0m\u001b[1;33m(\u001b[0m\u001b[1;33m*\u001b[0m\u001b[0margs\u001b[0m\u001b[1;33m,\u001b[0m \u001b[1;33m**\u001b[0m\u001b[0mkwargs\u001b[0m\u001b[1;33m)\u001b[0m\u001b[1;33m\u001b[0m\u001b[1;33m\u001b[0m\u001b[0m\n\u001b[0m\u001b[0;32m   2352\u001b[0m             \u001b[1;32mreturn\u001b[0m \u001b[0mresult\u001b[0m\u001b[1;33m\u001b[0m\u001b[1;33m\u001b[0m\u001b[0m\n\u001b[0;32m   2353\u001b[0m \u001b[1;33m\u001b[0m\u001b[0m\n",
      "\u001b[1;32m~\\Anaconda3\\lib\\site-packages\\decorator.py\u001b[0m in \u001b[0;36mfun\u001b[1;34m(*args, **kw)\u001b[0m\n\u001b[0;32m    230\u001b[0m             \u001b[1;32mif\u001b[0m \u001b[1;32mnot\u001b[0m \u001b[0mkwsyntax\u001b[0m\u001b[1;33m:\u001b[0m\u001b[1;33m\u001b[0m\u001b[1;33m\u001b[0m\u001b[0m\n\u001b[0;32m    231\u001b[0m                 \u001b[0margs\u001b[0m\u001b[1;33m,\u001b[0m \u001b[0mkw\u001b[0m \u001b[1;33m=\u001b[0m \u001b[0mfix\u001b[0m\u001b[1;33m(\u001b[0m\u001b[0margs\u001b[0m\u001b[1;33m,\u001b[0m \u001b[0mkw\u001b[0m\u001b[1;33m,\u001b[0m \u001b[0msig\u001b[0m\u001b[1;33m)\u001b[0m\u001b[1;33m\u001b[0m\u001b[1;33m\u001b[0m\u001b[0m\n\u001b[1;32m--> 232\u001b[1;33m             \u001b[1;32mreturn\u001b[0m \u001b[0mcaller\u001b[0m\u001b[1;33m(\u001b[0m\u001b[0mfunc\u001b[0m\u001b[1;33m,\u001b[0m \u001b[1;33m*\u001b[0m\u001b[1;33m(\u001b[0m\u001b[0mextras\u001b[0m \u001b[1;33m+\u001b[0m \u001b[0margs\u001b[0m\u001b[1;33m)\u001b[0m\u001b[1;33m,\u001b[0m \u001b[1;33m**\u001b[0m\u001b[0mkw\u001b[0m\u001b[1;33m)\u001b[0m\u001b[1;33m\u001b[0m\u001b[1;33m\u001b[0m\u001b[0m\n\u001b[0m\u001b[0;32m    233\u001b[0m     \u001b[0mfun\u001b[0m\u001b[1;33m.\u001b[0m\u001b[0m__name__\u001b[0m \u001b[1;33m=\u001b[0m \u001b[0mfunc\u001b[0m\u001b[1;33m.\u001b[0m\u001b[0m__name__\u001b[0m\u001b[1;33m\u001b[0m\u001b[1;33m\u001b[0m\u001b[0m\n\u001b[0;32m    234\u001b[0m     \u001b[0mfun\u001b[0m\u001b[1;33m.\u001b[0m\u001b[0m__doc__\u001b[0m \u001b[1;33m=\u001b[0m \u001b[0mfunc\u001b[0m\u001b[1;33m.\u001b[0m\u001b[0m__doc__\u001b[0m\u001b[1;33m\u001b[0m\u001b[1;33m\u001b[0m\u001b[0m\n",
      "\u001b[1;32m~\\Anaconda3\\lib\\site-packages\\IPython\\core\\magic.py\u001b[0m in \u001b[0;36m<lambda>\u001b[1;34m(f, *a, **k)\u001b[0m\n\u001b[0;32m    185\u001b[0m     \u001b[1;31m# but it's overkill for just that one bit of state.\u001b[0m\u001b[1;33m\u001b[0m\u001b[1;33m\u001b[0m\u001b[0m\n\u001b[0;32m    186\u001b[0m     \u001b[1;32mdef\u001b[0m \u001b[0mmagic_deco\u001b[0m\u001b[1;33m(\u001b[0m\u001b[0marg\u001b[0m\u001b[1;33m)\u001b[0m\u001b[1;33m:\u001b[0m\u001b[1;33m\u001b[0m\u001b[1;33m\u001b[0m\u001b[0m\n\u001b[1;32m--> 187\u001b[1;33m         \u001b[0mcall\u001b[0m \u001b[1;33m=\u001b[0m \u001b[1;32mlambda\u001b[0m \u001b[0mf\u001b[0m\u001b[1;33m,\u001b[0m \u001b[1;33m*\u001b[0m\u001b[0ma\u001b[0m\u001b[1;33m,\u001b[0m \u001b[1;33m**\u001b[0m\u001b[0mk\u001b[0m\u001b[1;33m:\u001b[0m \u001b[0mf\u001b[0m\u001b[1;33m(\u001b[0m\u001b[1;33m*\u001b[0m\u001b[0ma\u001b[0m\u001b[1;33m,\u001b[0m \u001b[1;33m**\u001b[0m\u001b[0mk\u001b[0m\u001b[1;33m)\u001b[0m\u001b[1;33m\u001b[0m\u001b[1;33m\u001b[0m\u001b[0m\n\u001b[0m\u001b[0;32m    188\u001b[0m \u001b[1;33m\u001b[0m\u001b[0m\n\u001b[0;32m    189\u001b[0m         \u001b[1;32mif\u001b[0m \u001b[0mcallable\u001b[0m\u001b[1;33m(\u001b[0m\u001b[0marg\u001b[0m\u001b[1;33m)\u001b[0m\u001b[1;33m:\u001b[0m\u001b[1;33m\u001b[0m\u001b[1;33m\u001b[0m\u001b[0m\n",
      "\u001b[1;32m~\\Anaconda3\\lib\\site-packages\\IPython\\core\\magics\\pylab.py\u001b[0m in \u001b[0;36mmatplotlib\u001b[1;34m(self, line)\u001b[0m\n\u001b[0;32m     97\u001b[0m             \u001b[0mprint\u001b[0m\u001b[1;33m(\u001b[0m\u001b[1;34m\"Available matplotlib backends: %s\"\u001b[0m \u001b[1;33m%\u001b[0m \u001b[0mbackends_list\u001b[0m\u001b[1;33m)\u001b[0m\u001b[1;33m\u001b[0m\u001b[1;33m\u001b[0m\u001b[0m\n\u001b[0;32m     98\u001b[0m         \u001b[1;32melse\u001b[0m\u001b[1;33m:\u001b[0m\u001b[1;33m\u001b[0m\u001b[1;33m\u001b[0m\u001b[0m\n\u001b[1;32m---> 99\u001b[1;33m             \u001b[0mgui\u001b[0m\u001b[1;33m,\u001b[0m \u001b[0mbackend\u001b[0m \u001b[1;33m=\u001b[0m \u001b[0mself\u001b[0m\u001b[1;33m.\u001b[0m\u001b[0mshell\u001b[0m\u001b[1;33m.\u001b[0m\u001b[0menable_matplotlib\u001b[0m\u001b[1;33m(\u001b[0m\u001b[0margs\u001b[0m\u001b[1;33m.\u001b[0m\u001b[0mgui\u001b[0m\u001b[1;33m.\u001b[0m\u001b[0mlower\u001b[0m\u001b[1;33m(\u001b[0m\u001b[1;33m)\u001b[0m \u001b[1;32mif\u001b[0m \u001b[0misinstance\u001b[0m\u001b[1;33m(\u001b[0m\u001b[0margs\u001b[0m\u001b[1;33m.\u001b[0m\u001b[0mgui\u001b[0m\u001b[1;33m,\u001b[0m \u001b[0mstr\u001b[0m\u001b[1;33m)\u001b[0m \u001b[1;32melse\u001b[0m \u001b[0margs\u001b[0m\u001b[1;33m.\u001b[0m\u001b[0mgui\u001b[0m\u001b[1;33m)\u001b[0m\u001b[1;33m\u001b[0m\u001b[1;33m\u001b[0m\u001b[0m\n\u001b[0m\u001b[0;32m    100\u001b[0m             \u001b[0mself\u001b[0m\u001b[1;33m.\u001b[0m\u001b[0m_show_matplotlib_backend\u001b[0m\u001b[1;33m(\u001b[0m\u001b[0margs\u001b[0m\u001b[1;33m.\u001b[0m\u001b[0mgui\u001b[0m\u001b[1;33m,\u001b[0m \u001b[0mbackend\u001b[0m\u001b[1;33m)\u001b[0m\u001b[1;33m\u001b[0m\u001b[1;33m\u001b[0m\u001b[0m\n\u001b[0;32m    101\u001b[0m \u001b[1;33m\u001b[0m\u001b[0m\n",
      "\u001b[1;32m~\\Anaconda3\\lib\\site-packages\\IPython\\core\\interactiveshell.py\u001b[0m in \u001b[0;36menable_matplotlib\u001b[1;34m(self, gui)\u001b[0m\n\u001b[0;32m   3531\u001b[0m                 \u001b[0mgui\u001b[0m\u001b[1;33m,\u001b[0m \u001b[0mbackend\u001b[0m \u001b[1;33m=\u001b[0m \u001b[0mpt\u001b[0m\u001b[1;33m.\u001b[0m\u001b[0mfind_gui_and_backend\u001b[0m\u001b[1;33m(\u001b[0m\u001b[0mself\u001b[0m\u001b[1;33m.\u001b[0m\u001b[0mpylab_gui_select\u001b[0m\u001b[1;33m)\u001b[0m\u001b[1;33m\u001b[0m\u001b[1;33m\u001b[0m\u001b[0m\n\u001b[0;32m   3532\u001b[0m \u001b[1;33m\u001b[0m\u001b[0m\n\u001b[1;32m-> 3533\u001b[1;33m         \u001b[0mpt\u001b[0m\u001b[1;33m.\u001b[0m\u001b[0mactivate_matplotlib\u001b[0m\u001b[1;33m(\u001b[0m\u001b[0mbackend\u001b[0m\u001b[1;33m)\u001b[0m\u001b[1;33m\u001b[0m\u001b[1;33m\u001b[0m\u001b[0m\n\u001b[0m\u001b[0;32m   3534\u001b[0m         \u001b[0mconfigure_inline_support\u001b[0m\u001b[1;33m(\u001b[0m\u001b[0mself\u001b[0m\u001b[1;33m,\u001b[0m \u001b[0mbackend\u001b[0m\u001b[1;33m)\u001b[0m\u001b[1;33m\u001b[0m\u001b[1;33m\u001b[0m\u001b[0m\n\u001b[0;32m   3535\u001b[0m \u001b[1;33m\u001b[0m\u001b[0m\n",
      "\u001b[1;32m~\\Anaconda3\\lib\\site-packages\\IPython\\core\\pylabtools.py\u001b[0m in \u001b[0;36mactivate_matplotlib\u001b[1;34m(backend)\u001b[0m\n\u001b[0;32m    357\u001b[0m     \u001b[1;32mfrom\u001b[0m \u001b[0mmatplotlib\u001b[0m \u001b[1;32mimport\u001b[0m \u001b[0mpyplot\u001b[0m \u001b[1;32mas\u001b[0m \u001b[0mplt\u001b[0m\u001b[1;33m\u001b[0m\u001b[1;33m\u001b[0m\u001b[0m\n\u001b[0;32m    358\u001b[0m \u001b[1;33m\u001b[0m\u001b[0m\n\u001b[1;32m--> 359\u001b[1;33m     \u001b[0mplt\u001b[0m\u001b[1;33m.\u001b[0m\u001b[0mswitch_backend\u001b[0m\u001b[1;33m(\u001b[0m\u001b[0mbackend\u001b[0m\u001b[1;33m)\u001b[0m\u001b[1;33m\u001b[0m\u001b[1;33m\u001b[0m\u001b[0m\n\u001b[0m\u001b[0;32m    360\u001b[0m \u001b[1;33m\u001b[0m\u001b[0m\n\u001b[0;32m    361\u001b[0m     \u001b[0mplt\u001b[0m\u001b[1;33m.\u001b[0m\u001b[0mshow\u001b[0m\u001b[1;33m.\u001b[0m\u001b[0m_needmain\u001b[0m \u001b[1;33m=\u001b[0m \u001b[1;32mFalse\u001b[0m\u001b[1;33m\u001b[0m\u001b[1;33m\u001b[0m\u001b[0m\n",
      "\u001b[1;32m~\\Anaconda3\\lib\\site-packages\\matplotlib\\pyplot.py\u001b[0m in \u001b[0;36mswitch_backend\u001b[1;34m(newbackend)\u001b[0m\n\u001b[0;32m    269\u001b[0m     \u001b[0mold_backend\u001b[0m \u001b[1;33m=\u001b[0m \u001b[0mdict\u001b[0m\u001b[1;33m.\u001b[0m\u001b[0m__getitem__\u001b[0m\u001b[1;33m(\u001b[0m\u001b[0mrcParams\u001b[0m\u001b[1;33m,\u001b[0m \u001b[1;34m'backend'\u001b[0m\u001b[1;33m)\u001b[0m\u001b[1;33m\u001b[0m\u001b[1;33m\u001b[0m\u001b[0m\n\u001b[0;32m    270\u001b[0m \u001b[1;33m\u001b[0m\u001b[0m\n\u001b[1;32m--> 271\u001b[1;33m     backend_mod = importlib.import_module(\n\u001b[0m\u001b[0;32m    272\u001b[0m         cbook._backend_module_name(newbackend))\n\u001b[0;32m    273\u001b[0m \u001b[1;33m\u001b[0m\u001b[0m\n",
      "\u001b[1;32m~\\Anaconda3\\lib\\importlib\\__init__.py\u001b[0m in \u001b[0;36mimport_module\u001b[1;34m(name, package)\u001b[0m\n\u001b[0;32m    125\u001b[0m                 \u001b[1;32mbreak\u001b[0m\u001b[1;33m\u001b[0m\u001b[1;33m\u001b[0m\u001b[0m\n\u001b[0;32m    126\u001b[0m             \u001b[0mlevel\u001b[0m \u001b[1;33m+=\u001b[0m \u001b[1;36m1\u001b[0m\u001b[1;33m\u001b[0m\u001b[1;33m\u001b[0m\u001b[0m\n\u001b[1;32m--> 127\u001b[1;33m     \u001b[1;32mreturn\u001b[0m \u001b[0m_bootstrap\u001b[0m\u001b[1;33m.\u001b[0m\u001b[0m_gcd_import\u001b[0m\u001b[1;33m(\u001b[0m\u001b[0mname\u001b[0m\u001b[1;33m[\u001b[0m\u001b[0mlevel\u001b[0m\u001b[1;33m:\u001b[0m\u001b[1;33m]\u001b[0m\u001b[1;33m,\u001b[0m \u001b[0mpackage\u001b[0m\u001b[1;33m,\u001b[0m \u001b[0mlevel\u001b[0m\u001b[1;33m)\u001b[0m\u001b[1;33m\u001b[0m\u001b[1;33m\u001b[0m\u001b[0m\n\u001b[0m\u001b[0;32m    128\u001b[0m \u001b[1;33m\u001b[0m\u001b[0m\n\u001b[0;32m    129\u001b[0m \u001b[1;33m\u001b[0m\u001b[0m\n",
      "\u001b[1;32m~\\Anaconda3\\lib\\importlib\\_bootstrap.py\u001b[0m in \u001b[0;36m_gcd_import\u001b[1;34m(name, package, level)\u001b[0m\n",
      "\u001b[1;32m~\\Anaconda3\\lib\\importlib\\_bootstrap.py\u001b[0m in \u001b[0;36m_find_and_load\u001b[1;34m(name, import_)\u001b[0m\n",
      "\u001b[1;32m~\\Anaconda3\\lib\\importlib\\_bootstrap.py\u001b[0m in \u001b[0;36m_find_and_load_unlocked\u001b[1;34m(name, import_)\u001b[0m\n",
      "\u001b[1;32m~\\Anaconda3\\lib\\importlib\\_bootstrap.py\u001b[0m in \u001b[0;36m_load_unlocked\u001b[1;34m(spec)\u001b[0m\n",
      "\u001b[1;32m~\\Anaconda3\\lib\\importlib\\_bootstrap_external.py\u001b[0m in \u001b[0;36mexec_module\u001b[1;34m(self, module)\u001b[0m\n",
      "\u001b[1;32m~\\Anaconda3\\lib\\importlib\\_bootstrap.py\u001b[0m in \u001b[0;36m_call_with_frames_removed\u001b[1;34m(f, *args, **kwds)\u001b[0m\n",
      "\u001b[1;32m~\\Anaconda3\\lib\\site-packages\\matplotlib\\backends\\backend_qt5agg.py\u001b[0m in \u001b[0;36m<module>\u001b[1;34m\u001b[0m\n\u001b[0;32m      5\u001b[0m \u001b[1;33m\u001b[0m\u001b[0m\n\u001b[0;32m      6\u001b[0m \u001b[0mbackends\u001b[0m\u001b[1;33m.\u001b[0m\u001b[0m_QT_FORCE_QT5_BINDING\u001b[0m \u001b[1;33m=\u001b[0m \u001b[1;32mTrue\u001b[0m\u001b[1;33m\u001b[0m\u001b[1;33m\u001b[0m\u001b[0m\n\u001b[1;32m----> 7\u001b[1;33m from .backend_qtagg import (    # noqa: F401, E402 # pylint: disable=W0611\n\u001b[0m\u001b[0;32m      8\u001b[0m     \u001b[0m_BackendQTAgg\u001b[0m\u001b[1;33m,\u001b[0m \u001b[0mFigureCanvasQTAgg\u001b[0m\u001b[1;33m,\u001b[0m \u001b[0mFigureManagerQT\u001b[0m\u001b[1;33m,\u001b[0m \u001b[0mNavigationToolbar2QT\u001b[0m\u001b[1;33m,\u001b[0m\u001b[1;33m\u001b[0m\u001b[1;33m\u001b[0m\u001b[0m\n\u001b[0;32m      9\u001b[0m     FigureCanvasAgg, FigureCanvasQT)\n",
      "\u001b[1;32m~\\Anaconda3\\lib\\site-packages\\matplotlib\\backends\\backend_qtagg.py\u001b[0m in \u001b[0;36m<module>\u001b[1;34m\u001b[0m\n\u001b[0;32m      7\u001b[0m \u001b[1;32mfrom\u001b[0m \u001b[0mmatplotlib\u001b[0m\u001b[1;33m.\u001b[0m\u001b[0mtransforms\u001b[0m \u001b[1;32mimport\u001b[0m \u001b[0mBbox\u001b[0m\u001b[1;33m\u001b[0m\u001b[1;33m\u001b[0m\u001b[0m\n\u001b[0;32m      8\u001b[0m \u001b[1;33m\u001b[0m\u001b[0m\n\u001b[1;32m----> 9\u001b[1;33m \u001b[1;32mfrom\u001b[0m \u001b[1;33m.\u001b[0m\u001b[0mqt_compat\u001b[0m \u001b[1;32mimport\u001b[0m \u001b[0mQT_API\u001b[0m\u001b[1;33m,\u001b[0m \u001b[0m_enum\u001b[0m\u001b[1;33m\u001b[0m\u001b[1;33m\u001b[0m\u001b[0m\n\u001b[0m\u001b[0;32m     10\u001b[0m \u001b[1;32mfrom\u001b[0m \u001b[1;33m.\u001b[0m\u001b[0mbackend_agg\u001b[0m \u001b[1;32mimport\u001b[0m \u001b[0mFigureCanvasAgg\u001b[0m\u001b[1;33m\u001b[0m\u001b[1;33m\u001b[0m\u001b[0m\n\u001b[0;32m     11\u001b[0m \u001b[1;32mfrom\u001b[0m \u001b[1;33m.\u001b[0m\u001b[0mbackend_qt\u001b[0m \u001b[1;32mimport\u001b[0m \u001b[0mQtCore\u001b[0m\u001b[1;33m,\u001b[0m \u001b[0mQtGui\u001b[0m\u001b[1;33m,\u001b[0m \u001b[0m_BackendQT\u001b[0m\u001b[1;33m,\u001b[0m \u001b[0mFigureCanvasQT\u001b[0m\u001b[1;33m\u001b[0m\u001b[1;33m\u001b[0m\u001b[0m\n",
      "\u001b[1;32m~\\Anaconda3\\lib\\site-packages\\matplotlib\\backends\\qt_compat.py\u001b[0m in \u001b[0;36m<module>\u001b[1;34m\u001b[0m\n\u001b[0;32m    142\u001b[0m \u001b[1;33m\u001b[0m\u001b[0m\n\u001b[0;32m    143\u001b[0m \u001b[1;32mif\u001b[0m \u001b[0m_version_info\u001b[0m \u001b[1;33m<\u001b[0m \u001b[1;33m(\u001b[0m\u001b[1;36m5\u001b[0m\u001b[1;33m,\u001b[0m \u001b[1;36m10\u001b[0m\u001b[1;33m)\u001b[0m\u001b[1;33m:\u001b[0m\u001b[1;33m\u001b[0m\u001b[1;33m\u001b[0m\u001b[0m\n\u001b[1;32m--> 144\u001b[1;33m     raise ImportError(\n\u001b[0m\u001b[0;32m    145\u001b[0m         \u001b[1;34mf\"The Qt version imported is \"\u001b[0m\u001b[1;33m\u001b[0m\u001b[1;33m\u001b[0m\u001b[0m\n\u001b[0;32m    146\u001b[0m         \u001b[1;34mf\"{QtCore.QLibraryInfo.version().toString()} but Matplotlib requires \"\u001b[0m\u001b[1;33m\u001b[0m\u001b[1;33m\u001b[0m\u001b[0m\n",
      "\u001b[1;31mImportError\u001b[0m: The Qt version imported is 5.9.7 but Matplotlib requires Qt>=5.10"
     ]
    }
   ],
   "source": [
    "%matplotlib qt5\n",
    "gi = mg.move_nodes()"
   ]
  },
  {
   "cell_type": "code",
   "execution_count": 5,
   "metadata": {
    "execution": {
     "iopub.execute_input": "2023-08-04T16:21:33.485472Z",
     "iopub.status.busy": "2023-08-04T16:21:33.484473Z",
     "iopub.status.idle": "2023-08-04T16:21:33.496834Z",
     "shell.execute_reply": "2023-08-04T16:21:33.495866Z"
    }
   },
   "outputs": [],
   "source": [
    "%matplotlib inline"
   ]
  },
  {
   "cell_type": "code",
   "execution_count": 6,
   "metadata": {
    "execution": {
     "iopub.execute_input": "2023-08-04T16:21:33.502912Z",
     "iopub.status.busy": "2023-08-04T16:21:33.501917Z",
     "iopub.status.idle": "2023-08-04T16:21:33.519748Z",
     "shell.execute_reply": "2023-08-04T16:21:33.519748Z"
    }
   },
   "outputs": [],
   "source": [
    "mg.pos={'store_ee': [-1.067135163123663, 0.32466987344741055],\n",
    " 'dist_ee': [-0.617149602161968, 0.3165981670924663],\n",
    " 'affect_dof': [0.11827439153655106, 0.10792528450121897],\n",
    " 'ctl_dof': [-0.2636856982162134, 0.42422600969836144],\n",
    " 'plan_path': [-0.9347151173753852, 0.6943421719257798],\n",
    " 'trajectory': [0.6180477286739998, 0.32930706399226856],\n",
    " 'engage_land': [0.0015917696269229786, -0.2399760932810826],\n",
    " 'hold_payload': [-0.8833099612826893, -0.247201580673997],\n",
    " 'view_env': [0.5725955705698363, 0.6901513410348765],\n",
    " 'force_st': [-0.8925771348524384, -0.025638904424547027],\n",
    " 'force_lin': [-0.5530952425102891, -0.10380834289626095],\n",
    " 'force_gr': [0.568921162299461, -0.22991830334765573],\n",
    " 'force_lg': [-0.37244114591548894, -0.2355298479531287],\n",
    " 'ee_1': [-0.809433489993954, 0.319191761486317],\n",
    " 'ee_mot': [-0.33469985340998853, 0.1307636433702345],\n",
    " 'ee_ctl': [-0.48751243650229525, 0.4852032717825657],\n",
    " 'ctl': [-0.06913038312848868, 0.2445174568603189],\n",
    " 'dofs': [0.2606664304933561, 0.3243482171363975],\n",
    " 'env': [0.06157634305459603, 0.7099922980251693],\n",
    " 'dir': [-0.13617863906968142, 0.6037252153639261]}"
   ]
  },
  {
   "cell_type": "code",
   "execution_count": 7,
   "metadata": {
    "execution": {
     "iopub.execute_input": "2023-08-04T16:21:33.523069Z",
     "iopub.status.busy": "2023-08-04T16:21:33.523069Z",
     "iopub.status.idle": "2023-08-04T16:21:34.102743Z",
     "shell.execute_reply": "2023-08-04T16:21:34.102244Z"
    }
   },
   "outputs": [],
   "source": [
    "fig, ax = mg.draw()"
   ]
  },
  {
   "attachments": {},
   "cell_type": "markdown",
   "metadata": {},
   "source": [
    "Note that a variety of views of the model graph can be used for analysis/visualization. Below we use the ModelFxnGraph"
   ]
  },
  {
   "cell_type": "code",
   "execution_count": 8,
   "metadata": {
    "execution": {
     "iopub.execute_input": "2023-08-04T16:21:34.105556Z",
     "iopub.status.busy": "2023-08-04T16:21:34.105556Z",
     "iopub.status.idle": "2023-08-04T16:21:34.212367Z",
     "shell.execute_reply": "2023-08-04T16:21:34.210987Z"
    }
   },
   "outputs": [],
   "source": [
    "fg = ModelFxnGraph(mdl)\n",
    "fg.pos={'store_ee': [-1.0787279392101061, -0.06903523859088145],\n",
    " 'dist_ee': [-0.361531174332526, -0.0935883732235363],\n",
    " 'affect_dof': [0.36541282312106205, -0.09674444529230719],\n",
    " 'ctl_dof': [0.4664934329906758, 0.5822138245848214],\n",
    " 'plan_path': [-0.7095750728126631, 0.8482786785038505],\n",
    " 'trajectory': [1.1006824683444765, -0.10423208715241583],\n",
    " 'engage_land': [0.8423521094741182, -0.8813666134484857],\n",
    " 'hold_payload': [-0.5857395187723944, -0.86974898769837],\n",
    " 'view_env': [1.1035500215472247, 0.9373523025760659]}\n",
    "fg.set_edge_labels(title='', subtext='')\n",
    "fig, ax = fg.draw(figsize=(6,4), withlegend=False)"
   ]
  },
  {
   "attachments": {},
   "cell_type": "markdown",
   "metadata": {},
   "source": [
    "## Network Model\n",
    "\n",
    "A network model can be used to compute network metrics and visualize network vulnerabilities."
   ]
  },
  {
   "attachments": {},
   "cell_type": "markdown",
   "metadata": {},
   "source": [
    "We can calculate network metrics using calc_aspl, calc_modularity, and calc_robustness_coefficient in the `networks` module."
   ]
  },
  {
   "cell_type": "code",
   "execution_count": 9,
   "metadata": {
    "execution": {
     "iopub.execute_input": "2023-08-04T16:21:34.214398Z",
     "iopub.status.busy": "2023-08-04T16:21:34.214398Z",
     "iopub.status.idle": "2023-08-04T16:21:34.288965Z",
     "shell.execute_reply": "2023-08-04T16:21:34.288965Z"
    }
   },
   "outputs": [],
   "source": [
    "aspl = fg.calc_aspl()\n",
    "q = fg.calc_modularity()\n",
    "rc = fg.calc_robustness_coefficient()\n",
    "\n",
    "print(\"ASPL: %.2f\" % round(aspl, 2))\n",
    "print(\"Modularity: %.2f\" % round(q,2))\n",
    "print(\"Robustness Coefficient: %.2f\" % round(rc,2))"
   ]
  },
  {
   "attachments": {},
   "cell_type": "markdown",
   "metadata": {},
   "source": [
    "Next, we visualize network vulnerabilities using find_bridging_nodes and find_high_degree_nodes."
   ]
  },
  {
   "cell_type": "code",
   "execution_count": 10,
   "metadata": {
    "execution": {
     "iopub.execute_input": "2023-08-04T16:21:34.291676Z",
     "iopub.status.busy": "2023-08-04T16:21:34.291676Z",
     "iopub.status.idle": "2023-08-04T16:21:34.573643Z",
     "shell.execute_reply": "2023-08-04T16:21:34.573044Z"
    }
   },
   "outputs": [],
   "source": [
    "fig_bridging_nodes, ax_bridging_nodes = fg.plot_bridging_nodes(figsize=(6,4), withlegend=False)\n",
    "fig_bridging_nodes.savefig('bridgingnodes.pdf', format=\"pdf\", bbox_inches = 'tight', pad_inches = 0)"
   ]
  },
  {
   "cell_type": "code",
   "execution_count": 11,
   "metadata": {
    "execution": {
     "iopub.execute_input": "2023-08-04T16:21:34.577667Z",
     "iopub.status.busy": "2023-08-04T16:21:34.577667Z",
     "iopub.status.idle": "2023-08-04T16:21:34.795827Z",
     "shell.execute_reply": "2023-08-04T16:21:34.794885Z"
    }
   },
   "outputs": [],
   "source": [
    "fig_high_degree_nodes, ax_high_degree_nodes = fg.plot_high_degree_nodes(figsize=(6,4), withlegend=False)\n",
    "fig_bridging_nodes.savefig('highdegreenodes.pdf', format=\"pdf\", bbox_inches = 'tight', pad_inches = 0)"
   ]
  },
  {
   "attachments": {},
   "cell_type": "markdown",
   "metadata": {},
   "source": [
    "High degree nodes (along with their degrees) and bridging nodes are also obtainable as lists."
   ]
  },
  {
   "cell_type": "code",
   "execution_count": 12,
   "metadata": {
    "execution": {
     "iopub.execute_input": "2023-08-04T16:21:34.799825Z",
     "iopub.status.busy": "2023-08-04T16:21:34.798829Z",
     "iopub.status.idle": "2023-08-04T16:21:34.810802Z",
     "shell.execute_reply": "2023-08-04T16:21:34.809988Z"
    }
   },
   "outputs": [],
   "source": [
    "print('Bridging Nodes:', fg.find_bridging_nodes())\n",
    "print('High Degree Nodes:',fg.find_high_degree_nodes())"
   ]
  },
  {
   "attachments": {},
   "cell_type": "markdown",
   "metadata": {},
   "source": [
    "Finally, we can plot the degree distribution of the network using degree_dist."
   ]
  },
  {
   "cell_type": "code",
   "execution_count": 13,
   "metadata": {
    "execution": {
     "iopub.execute_input": "2023-08-04T16:21:34.813335Z",
     "iopub.status.busy": "2023-08-04T16:21:34.813335Z",
     "iopub.status.idle": "2023-08-04T16:21:34.984078Z",
     "shell.execute_reply": "2023-08-04T16:21:34.983105Z"
    }
   },
   "outputs": [],
   "source": [
    "fig = fg.plot_degree_dist()\n",
    "fig.savefig('degreedist.pdf', format=\"pdf\", bbox_inches = 'tight', pad_inches = 0.0)"
   ]
  },
  {
   "attachments": {},
   "cell_type": "markdown",
   "metadata": {},
   "source": [
    "The above analysis includes only function nodes. It is also possible to treat the entire model graph (containing both functions and flows) as a unipartite-like graph and perform similar analysis on both function and flow nodes."
   ]
  },
  {
   "cell_type": "code",
   "execution_count": 14,
   "metadata": {
    "execution": {
     "iopub.execute_input": "2023-08-04T16:21:34.986109Z",
     "iopub.status.busy": "2023-08-04T16:21:34.986109Z",
     "iopub.status.idle": "2023-08-04T16:21:35.046923Z",
     "shell.execute_reply": "2023-08-04T16:21:35.046143Z"
    }
   },
   "outputs": [],
   "source": [
    "aspl = mg.calc_aspl()\n",
    "q = mg.calc_modularity()\n",
    "rc = mg.calc_robustness_coefficient()\n",
    "\n",
    "print(\"ASPL, functions and flows: %.2f\" % round(aspl, 2))\n",
    "print(\"Modularity, functions and flows: %.2f\" % round(q,2))\n",
    "print(\"Robustness Coefficient, functions and flows: %.2f\" % round(rc,2))"
   ]
  },
  {
   "cell_type": "code",
   "execution_count": 15,
   "metadata": {
    "execution": {
     "iopub.execute_input": "2023-08-04T16:21:35.049952Z",
     "iopub.status.busy": "2023-08-04T16:21:35.048954Z",
     "iopub.status.idle": "2023-08-04T16:21:35.970855Z",
     "shell.execute_reply": "2023-08-04T16:21:35.969809Z"
    }
   },
   "outputs": [],
   "source": [
    "fig_bridging_nodes, ax_bridging_nodes = mg.plot_bridging_nodes(figsize=(6,4), withlegend=False)\n",
    "fig_high_degree_nodes, ax_high_degree_nodes = mg.plot_high_degree_nodes(figsize=(6,4), withlegend=False)"
   ]
  },
  {
   "cell_type": "code",
   "execution_count": 16,
   "metadata": {
    "execution": {
     "iopub.execute_input": "2023-08-04T16:21:35.973884Z",
     "iopub.status.busy": "2023-08-04T16:21:35.972886Z",
     "iopub.status.idle": "2023-08-04T16:21:35.986488Z",
     "shell.execute_reply": "2023-08-04T16:21:35.985577Z"
    }
   },
   "outputs": [],
   "source": [
    "print('Bridging Nodes:',mg.find_bridging_nodes())\n",
    "print('High Degree Nodes:',mg.find_high_degree_nodes())"
   ]
  },
  {
   "cell_type": "code",
   "execution_count": 17,
   "metadata": {
    "execution": {
     "iopub.execute_input": "2023-08-04T16:21:35.988520Z",
     "iopub.status.busy": "2023-08-04T16:21:35.988520Z",
     "iopub.status.idle": "2023-08-04T16:21:36.111867Z",
     "shell.execute_reply": "2023-08-04T16:21:36.109881Z"
    },
    "scrolled": true
   },
   "outputs": [],
   "source": [
    "fig = mg.plot_degree_dist()"
   ]
  },
  {
   "attachments": {},
   "cell_type": "markdown",
   "metadata": {},
   "source": [
    "The SFF model can be simulated with options for simulation time, infection (failure) rate, and recovery (fix) rate. The start node can be selected or chosen randomly. Plotting includes an option for error bars. This models the system's response to a failure using an analogy of an epidemic spreading through a network."
   ]
  },
  {
   "cell_type": "code",
   "execution_count": 18,
   "metadata": {
    "execution": {
     "iopub.execute_input": "2023-08-04T16:21:36.115850Z",
     "iopub.status.busy": "2023-08-04T16:21:36.115850Z",
     "iopub.status.idle": "2023-08-04T16:21:36.424210Z",
     "shell.execute_reply": "2023-08-04T16:21:36.423613Z"
    }
   },
   "outputs": [],
   "source": [
    "fig = fg.sff_model(endtime=15,pi=.3,pr=.1,start_node='affect_dof',error_bar_option='on')\n",
    "fig.savefig('sff_model.pdf', format=\"pdf\", bbox_inches = 'tight', pad_inches = 0)"
   ]
  },
  {
   "attachments": {},
   "cell_type": "markdown",
   "metadata": {},
   "source": [
    "## Static Model\n",
    "\n",
    "In this demonstration, we will use a static representation of the system model to displaygraph views of fault scenarios and produce a static FMEA\n",
    "\n",
    "The static model is located in `drone_mdl_static.py`."
   ]
  },
  {
   "cell_type": "code",
   "execution_count": 19,
   "metadata": {
    "execution": {
     "iopub.execute_input": "2023-08-04T16:21:36.427201Z",
     "iopub.status.busy": "2023-08-04T16:21:36.427201Z",
     "iopub.status.idle": "2023-08-04T16:21:36.440850Z",
     "shell.execute_reply": "2023-08-04T16:21:36.439979Z"
    }
   },
   "outputs": [],
   "source": [
    "from drone_mdl_static import Drone as Drone_Static"
   ]
  },
  {
   "attachments": {},
   "cell_type": "markdown",
   "metadata": {},
   "source": [
    "In design, it often helps to quantify the relative impact of fault scenarios. Here we produce a scenario-based FMEA to show which scenarios are most important in the model:"
   ]
  },
  {
   "cell_type": "code",
   "execution_count": 20,
   "metadata": {
    "execution": {
     "iopub.execute_input": "2023-08-04T16:21:36.444948Z",
     "iopub.status.busy": "2023-08-04T16:21:36.444948Z",
     "iopub.status.idle": "2023-08-04T16:21:36.835432Z",
     "shell.execute_reply": "2023-08-04T16:21:36.834430Z"
    }
   },
   "outputs": [],
   "source": [
    "static_mdl = Drone_Static()\n",
    "endclasses, mdlhists = fs.propagate.single_faults(static_mdl)"
   ]
  },
  {
   "cell_type": "code",
   "execution_count": 21,
   "metadata": {
    "execution": {
     "iopub.execute_input": "2023-08-04T16:21:36.838455Z",
     "iopub.status.busy": "2023-08-04T16:21:36.838455Z",
     "iopub.status.idle": "2023-08-04T16:21:36.993102Z",
     "shell.execute_reply": "2023-08-04T16:21:36.992133Z"
    }
   },
   "outputs": [],
   "source": [
    "static_fmea = an.tabulate.result_summary_fmea(endclasses, mdlhists, *static_mdl.fxns, *static_mdl.flows)\n",
    "static_fmea.sort_values('expected cost', ascending=False)"
   ]
  },
  {
   "cell_type": "code",
   "execution_count": 22,
   "metadata": {
    "execution": {
     "iopub.execute_input": "2023-08-04T16:21:36.997091Z",
     "iopub.status.busy": "2023-08-04T16:21:36.997091Z",
     "iopub.status.idle": "2023-08-04T16:21:37.024398Z",
     "shell.execute_reply": "2023-08-04T16:21:37.023400Z"
    }
   },
   "outputs": [],
   "source": [
    "print(static_fmea.sort_values('expected cost', ascending=False).to_latex())"
   ]
  },
  {
   "attachments": {},
   "cell_type": "markdown",
   "metadata": {},
   "source": [
    "We can in turn visualize these faults on the graph representation of the system. Here we will focus on the break of one of the rotors in the AffectDOF function, the effects of which are shown below:"
   ]
  },
  {
   "cell_type": "code",
   "execution_count": 23,
   "metadata": {
    "execution": {
     "iopub.execute_input": "2023-08-04T16:21:37.027389Z",
     "iopub.status.busy": "2023-08-04T16:21:37.027389Z",
     "iopub.status.idle": "2023-08-04T16:21:37.586619Z",
     "shell.execute_reply": "2023-08-04T16:21:37.585617Z"
    }
   },
   "outputs": [],
   "source": [
    "static_mdl = Drone_Static()\n",
    "result, mdlhist = fs.propagate.one_fault(static_mdl,'affect_dof', 'mechbreak', t=0, desired_result='graph')\n",
    "\n",
    "result.graph.set_edge_labels(title='')\n",
    "fig, ax = result.graph.draw(title = 'AffectDOF: Mechbreak at final sim time')\n",
    "#fig.savefig('static_propagation.pdf', format=\"pdf\", bbox_inches = 'tight', pad_inches = 0)"
   ]
  },
  {
   "attachments": {},
   "cell_type": "markdown",
   "metadata": {},
   "source": [
    "## Dynamic Model\n",
    "\n",
    "In the dynamic model, we add time ranges and dynamic behaviors to generate behavior-over-time graphs and dynamic/phase-based FMEAs.\n",
    "\n",
    "This model is located in `drone_mdl_dynamic.py`."
   ]
  },
  {
   "cell_type": "code",
   "execution_count": 24,
   "metadata": {
    "execution": {
     "iopub.execute_input": "2023-08-04T16:21:37.589644Z",
     "iopub.status.busy": "2023-08-04T16:21:37.588647Z",
     "iopub.status.idle": "2023-08-04T16:21:37.618091Z",
     "shell.execute_reply": "2023-08-04T16:21:37.617055Z"
    }
   },
   "outputs": [],
   "source": [
    "from drone_mdl_dynamic import Drone as Drone_Dynamic"
   ]
  },
  {
   "attachments": {},
   "cell_type": "markdown",
   "metadata": {},
   "source": [
    "Here we can see how the system operates over time in the nominal case:"
   ]
  },
  {
   "cell_type": "code",
   "execution_count": 25,
   "metadata": {
    "execution": {
     "iopub.execute_input": "2023-08-04T16:21:37.620887Z",
     "iopub.status.busy": "2023-08-04T16:21:37.620887Z",
     "iopub.status.idle": "2023-08-04T16:21:38.820262Z",
     "shell.execute_reply": "2023-08-04T16:21:38.819255Z"
    }
   },
   "outputs": [],
   "source": [
    "# Note: because of the complicated functions, the model must be re-instantiated for each function in order to work in this case\n",
    "\n",
    "dynamic_mdl = Drone_Dynamic()\n",
    "endclass, mdlhist = fs.propagate.nominal(dynamic_mdl)"
   ]
  },
  {
   "cell_type": "code",
   "execution_count": 26,
   "metadata": {
    "execution": {
     "iopub.execute_input": "2023-08-04T16:21:38.822377Z",
     "iopub.status.busy": "2023-08-04T16:21:38.822377Z",
     "iopub.status.idle": "2023-08-04T16:21:39.917999Z",
     "shell.execute_reply": "2023-08-04T16:21:39.917999Z"
    }
   },
   "outputs": [],
   "source": [
    "fig, ax = an.plot.hist(mdlhist,'fxns.store_ee.s.soc',\n",
    "                       'flows.env.s.x',\n",
    "                       'flows.env.s.y',\n",
    "                       'flows.env.s.z',\n",
    "                       'flows.dofs.s.planvel',\n",
    "                       'flows.dofs.s.vertvel',\n",
    "                      'flows.dir.s.x',\n",
    "                      'flows.dir.s.y',\n",
    "                      'fxns.plan_path.s.dx',\n",
    "                       'fxns.plan_path.s.dy',\n",
    "                      'fxns.plan_path.m.mode')"
   ]
  },
  {
   "attachments": {},
   "cell_type": "markdown",
   "metadata": {},
   "source": [
    "As shown below, in the case of the break in the AffectDOF function, the system crashes:"
   ]
  },
  {
   "cell_type": "code",
   "execution_count": 27,
   "metadata": {
    "execution": {
     "iopub.execute_input": "2023-08-04T16:21:39.921609Z",
     "iopub.status.busy": "2023-08-04T16:21:39.921609Z",
     "iopub.status.idle": "2023-08-04T16:21:42.634231Z",
     "shell.execute_reply": "2023-08-04T16:21:42.633282Z"
    }
   },
   "outputs": [],
   "source": [
    "dynamic_mdl = Drone_Dynamic()\n",
    "endclass, mdlhist = fs.propagate.one_fault(dynamic_mdl,'affect_dof', 'mechbreak', time=50)"
   ]
  },
  {
   "cell_type": "code",
   "execution_count": 28,
   "metadata": {
    "execution": {
     "iopub.execute_input": "2023-08-04T16:21:42.636261Z",
     "iopub.status.busy": "2023-08-04T16:21:42.636261Z",
     "iopub.status.idle": "2023-08-04T16:21:43.243700Z",
     "shell.execute_reply": "2023-08-04T16:21:43.242709Z"
    }
   },
   "outputs": [],
   "source": [
    "fig, axs = an.plot.hist(mdlhist, 'env.s.x','env.s.y','env.s.z', 'store_ee.s.soc',\n",
    "                         title ='Drone Response to AffectDOF mechbreak', time_slice=50, \n",
    "                        ylabels={'env.s.x':'m','env.s.y':'m','env.s.z':'m','store_ee.s.soc':'%'},\\\n",
    "                        h_padding=0.3, legend_loc=2, xlabel='time (s)')\n",
    "\n",
    "fig.savefig(\"fault_behavior.pdf\", format=\"pdf\", bbox_inches = 'tight', pad_inches = 0)"
   ]
  },
  {
   "attachments": {},
   "cell_type": "markdown",
   "metadata": {},
   "source": [
    "Finally, we can see how the cost function of this scenario changes over time. As shown, when the fault is injected early, it has a lower cost because it crashes at the landing pad and not in a dangerous area. When it is injected at the end, the cost is minimal because the drone has already landed."
   ]
  },
  {
   "cell_type": "code",
   "execution_count": 29,
   "metadata": {
    "execution": {
     "iopub.execute_input": "2023-08-04T16:21:43.246694Z",
     "iopub.status.busy": "2023-08-04T16:21:43.245697Z",
     "iopub.status.idle": "2023-08-04T16:21:56.085591Z",
     "shell.execute_reply": "2023-08-04T16:21:56.085591Z"
    }
   },
   "outputs": [],
   "source": [
    "mdl_quad_comp = Drone_Dynamic()\n",
    "quad_comp_app = SampleApproach(mdl_quad_comp, faults=[('affect_dof', 'mechbreak')],\n",
    "                               defaultsamp={'samp':'evenspacing','numpts':5})\n",
    "quad_comp_endclasses, quad_comp_mdlhists = fs.propagate.approach(mdl_quad_comp, quad_comp_app, staged=True)"
   ]
  },
  {
   "cell_type": "code",
   "execution_count": 30,
   "metadata": {
    "execution": {
     "iopub.execute_input": "2023-08-04T16:21:56.089583Z",
     "iopub.status.busy": "2023-08-04T16:21:56.088592Z",
     "iopub.status.idle": "2023-08-04T16:21:56.101845Z",
     "shell.execute_reply": "2023-08-04T16:21:56.100880Z"
    }
   },
   "outputs": [],
   "source": [
    "quad_comp_mdlhists.keys()"
   ]
  },
  {
   "cell_type": "code",
   "execution_count": 31,
   "metadata": {
    "execution": {
     "iopub.execute_input": "2023-08-04T16:21:56.103991Z",
     "iopub.status.busy": "2023-08-04T16:21:56.103991Z",
     "iopub.status.idle": "2023-08-04T16:21:56.116800Z",
     "shell.execute_reply": "2023-08-04T16:21:56.116800Z"
    }
   },
   "outputs": [],
   "source": [
    "quad_comp_mdlhists.affect_dof_mechbreak_t20p0.flows.env.s.x[-1]"
   ]
  },
  {
   "cell_type": "code",
   "execution_count": 32,
   "metadata": {
    "execution": {
     "iopub.execute_input": "2023-08-04T16:21:56.120765Z",
     "iopub.status.busy": "2023-08-04T16:21:56.120765Z",
     "iopub.status.idle": "2023-08-04T16:21:56.480788Z",
     "shell.execute_reply": "2023-08-04T16:21:56.479799Z"
    }
   },
   "outputs": [],
   "source": [
    "an.plot.samplemetric(quad_comp_app, quad_comp_endclasses, ('affect_dof', 'mechbreak'))\n",
    "fig = plt.gcf()\n",
    "fig.savefig(\"cost_over_time.pdf\", format=\"pdf\", bbox_inches = 'tight', pad_inches = 0)"
   ]
  },
  {
   "cell_type": "code",
   "execution_count": 33,
   "metadata": {
    "execution": {
     "iopub.execute_input": "2023-08-04T16:21:56.482786Z",
     "iopub.status.busy": "2023-08-04T16:21:56.482786Z",
     "iopub.status.idle": "2023-08-04T16:21:56.495496Z",
     "shell.execute_reply": "2023-08-04T16:21:56.494702Z"
    }
   },
   "outputs": [],
   "source": [
    "quad_comp_endclasses"
   ]
  },
  {
   "attachments": {},
   "cell_type": "markdown",
   "metadata": {},
   "source": [
    "## Hierarchical Model\n",
    "\n",
    "In the hierarchical model, we can use the simulation to compare system architectures. First by seeing how faults effect the behaviors in each architechture, then by seing how it affects the overall system resilience. \n",
    "\n",
    "This model is located in `drone_mdl_hierarchical.py`."
   ]
  },
  {
   "cell_type": "code",
   "execution_count": 34,
   "metadata": {
    "execution": {
     "iopub.execute_input": "2023-08-04T16:21:56.498524Z",
     "iopub.status.busy": "2023-08-04T16:21:56.497528Z",
     "iopub.status.idle": "2023-08-04T16:21:56.512300Z",
     "shell.execute_reply": "2023-08-04T16:21:56.511256Z"
    }
   },
   "outputs": [],
   "source": [
    "from drone_mdl_hierarchical import Drone as Drone_Hierarchical"
   ]
  },
  {
   "attachments": {},
   "cell_type": "markdown",
   "metadata": {},
   "source": [
    "First, we can model how the quadrotor architecture behaves under faults--in this case, identically to the non-hierarchical model:"
   ]
  },
  {
   "cell_type": "code",
   "execution_count": 35,
   "metadata": {
    "execution": {
     "iopub.execute_input": "2023-08-04T16:21:56.515289Z",
     "iopub.status.busy": "2023-08-04T16:21:56.514331Z",
     "iopub.status.idle": "2023-08-04T16:21:59.026004Z",
     "shell.execute_reply": "2023-08-04T16:21:59.024971Z"
    }
   },
   "outputs": [],
   "source": [
    "hierarchical_model = Drone_Hierarchical(p={'arch':'quad'})\n",
    "endclass, mdlhist = fs.propagate.one_fault(hierarchical_model,'affect_dof', 'rf_mechbreak', time=50)"
   ]
  },
  {
   "cell_type": "code",
   "execution_count": 36,
   "metadata": {
    "execution": {
     "iopub.execute_input": "2023-08-04T16:21:59.028967Z",
     "iopub.status.busy": "2023-08-04T16:21:59.028967Z",
     "iopub.status.idle": "2023-08-04T16:21:59.419128Z",
     "shell.execute_reply": "2023-08-04T16:21:59.418544Z"
    }
   },
   "outputs": [],
   "source": [
    "fig, axs = an.plot.hist(mdlhist, 'flows.env.s.x', 'env.s.y', 'env.s.z', 'store_ee.s.soc',\n",
    "                        title='Response of Drone to AffectDOF mechbreak', time_slice=50, legend_loc=False)"
   ]
  },
  {
   "attachments": {},
   "cell_type": "markdown",
   "metadata": {},
   "source": [
    "Then we can see how the octorotor architecture performs in the same case:"
   ]
  },
  {
   "cell_type": "code",
   "execution_count": 37,
   "metadata": {
    "execution": {
     "iopub.execute_input": "2023-08-04T16:21:59.421664Z",
     "iopub.status.busy": "2023-08-04T16:21:59.421664Z",
     "iopub.status.idle": "2023-08-04T16:22:02.231658Z",
     "shell.execute_reply": "2023-08-04T16:22:02.230705Z"
    }
   },
   "outputs": [],
   "source": [
    "hierarchical_model = Drone_Hierarchical(p={'arch':'oct'})\n",
    "endclass, mdlhist = fs.propagate.one_fault(hierarchical_model,'affect_dof', 'rf_mechbreak', time=50)"
   ]
  },
  {
   "cell_type": "code",
   "execution_count": 38,
   "metadata": {
    "execution": {
     "iopub.execute_input": "2023-08-04T16:22:02.233801Z",
     "iopub.status.busy": "2023-08-04T16:22:02.233801Z",
     "iopub.status.idle": "2023-08-04T16:22:02.861096Z",
     "shell.execute_reply": "2023-08-04T16:22:02.861096Z"
    }
   },
   "outputs": [],
   "source": [
    "fig, axs = an.plot.hist(mdlhist, 'flows.env.s.x', 'env.s.y', 'env.s.z', 'store_ee.s.soc',\n",
    "                        title='Response of Drone to AffectDOF: RFmechbreak', \n",
    "                        ylabels={'flows.env.s.x':'m','flows.env.s.y':'m','flows.env.s.z':'m','fxns.store_ee.s.soc':'%'},\\\n",
    "                        time_slice=50, h_padding=0.3, legend_loc=2)\n",
    "\n",
    "fig.savefig(\"red_fault_behavior.pdf\", format=\"pdf\", bbox_inches = 'tight', pad_inches = 0)"
   ]
  },
  {
   "attachments": {},
   "cell_type": "markdown",
   "metadata": {},
   "source": [
    "As shown, the octorotor architecture enables the quadrotor to recover from the fault and land."
   ]
  },
  {
   "attachments": {},
   "cell_type": "markdown",
   "metadata": {},
   "source": [
    "Next, we can compare how each architecture mitigates the set of faults that originiate in each function:\n",
    "### Quadcopter Resilience\n",
    "\n",
    "Here we quantify the expected costs of faults originiating in the quadcopter architecture:"
   ]
  },
  {
   "cell_type": "code",
   "execution_count": 39,
   "metadata": {
    "execution": {
     "iopub.execute_input": "2023-08-04T16:22:02.865051Z",
     "iopub.status.busy": "2023-08-04T16:22:02.865051Z",
     "iopub.status.idle": "2023-08-04T16:22:02.892457Z",
     "shell.execute_reply": "2023-08-04T16:22:02.892457Z"
    }
   },
   "outputs": [],
   "source": [
    "mdl_quad = Drone_Hierarchical(p={'arch':'quad'})\n",
    "mdl_quad.fxns['affect_dof'].m.faultmodes\n",
    "quad_faults = [('affect_dof', fault) for fault in list(mdl_quad.fxns['affect_dof'].m.faultmodes.keys())]"
   ]
  },
  {
   "cell_type": "code",
   "execution_count": 40,
   "metadata": {
    "execution": {
     "iopub.execute_input": "2023-08-04T16:22:02.896482Z",
     "iopub.status.busy": "2023-08-04T16:22:02.896482Z",
     "iopub.status.idle": "2023-08-04T16:23:45.462069Z",
     "shell.execute_reply": "2023-08-04T16:23:45.462069Z"
    }
   },
   "outputs": [],
   "source": [
    "quad_app = SampleApproach(mdl_quad, faults=quad_faults)\n",
    "quad_endclasses, quad_mdlhists = fs.propagate.approach(mdl_quad, quad_app, staged=True)"
   ]
  },
  {
   "cell_type": "code",
   "execution_count": 41,
   "metadata": {
    "execution": {
     "iopub.execute_input": "2023-08-04T16:23:45.462069Z",
     "iopub.status.busy": "2023-08-04T16:23:45.462069Z",
     "iopub.status.idle": "2023-08-04T16:23:45.524621Z",
     "shell.execute_reply": "2023-08-04T16:23:45.524621Z"
    }
   },
   "outputs": [],
   "source": [
    "quad_tab=quad_endclasses.create_simple_fmea()\n",
    "quad_tab.sort_values('expected cost', ascending=False)"
   ]
  },
  {
   "attachments": {},
   "cell_type": "markdown",
   "metadata": {},
   "source": [
    "Based on this model, we can calculate some metrics that quantify how resilient the system was to the set of faults, such as the cost of resilience:"
   ]
  },
  {
   "cell_type": "code",
   "execution_count": 42,
   "metadata": {
    "execution": {
     "iopub.execute_input": "2023-08-04T16:23:45.524621Z",
     "iopub.status.busy": "2023-08-04T16:23:45.524621Z",
     "iopub.status.idle": "2023-08-04T16:23:45.540253Z",
     "shell.execute_reply": "2023-08-04T16:23:45.540253Z"
    }
   },
   "outputs": [],
   "source": [
    "quad_res = sum(quad_tab['expected cost'])\n",
    "quad_res"
   ]
  },
  {
   "attachments": {},
   "cell_type": "markdown",
   "metadata": {},
   "source": [
    "The overall rate of crashes:"
   ]
  },
  {
   "cell_type": "code",
   "execution_count": 43,
   "metadata": {
    "execution": {
     "iopub.execute_input": "2023-08-04T16:23:45.540253Z",
     "iopub.status.busy": "2023-08-04T16:23:45.540253Z",
     "iopub.status.idle": "2023-08-04T16:23:45.562375Z",
     "shell.execute_reply": "2023-08-04T16:23:45.562375Z"
    }
   },
   "outputs": [],
   "source": [
    "quad_crashes = quad_tab[quad_tab['cost']>100000]\n",
    "quad_rate = sum(quad_crashes['rate'])\n",
    "quad_rate"
   ]
  },
  {
   "attachments": {},
   "cell_type": "markdown",
   "metadata": {},
   "source": [
    "The number of crashes:"
   ]
  },
  {
   "cell_type": "code",
   "execution_count": 44,
   "metadata": {
    "execution": {
     "iopub.execute_input": "2023-08-04T16:23:45.562375Z",
     "iopub.status.busy": "2023-08-04T16:23:45.562375Z",
     "iopub.status.idle": "2023-08-04T16:23:45.578001Z",
     "shell.execute_reply": "2023-08-04T16:23:45.578001Z"
    }
   },
   "outputs": [],
   "source": [
    "quad_num_crashes = len(quad_crashes['rate'])\n",
    "quad_num_crashes"
   ]
  },
  {
   "attachments": {},
   "cell_type": "markdown",
   "metadata": {},
   "source": [
    "The percentage of crashes:"
   ]
  },
  {
   "cell_type": "code",
   "execution_count": 45,
   "metadata": {
    "execution": {
     "iopub.execute_input": "2023-08-04T16:23:45.578001Z",
     "iopub.status.busy": "2023-08-04T16:23:45.578001Z",
     "iopub.status.idle": "2023-08-04T16:23:45.593613Z",
     "shell.execute_reply": "2023-08-04T16:23:45.593613Z"
    }
   },
   "outputs": [],
   "source": [
    "quad_perc_crashes = len(quad_crashes['rate'])/len(quad_tab['rate'])\n",
    "quad_perc_crashes"
   ]
  },
  {
   "attachments": {},
   "cell_type": "markdown",
   "metadata": {},
   "source": [
    "### Octocopter Resilience\n",
    "\n",
    "Here we quantify the expected costs of faults originiating in the octocopter architecture:"
   ]
  },
  {
   "cell_type": "code",
   "execution_count": 46,
   "metadata": {
    "execution": {
     "iopub.execute_input": "2023-08-04T16:23:45.593613Z",
     "iopub.status.busy": "2023-08-04T16:23:45.593613Z",
     "iopub.status.idle": "2023-08-04T16:23:45.624862Z",
     "shell.execute_reply": "2023-08-04T16:23:45.624862Z"
    }
   },
   "outputs": [],
   "source": [
    "mdl_oct = Drone_Hierarchical(p={'arch':'oct'})\n",
    "mdl_oct.fxns['affect_dof'].m.faultmodes\n",
    "oct_faults = [('affect_dof', fault) for fault in list(mdl_oct.fxns['affect_dof'].m.faultmodes.keys())]"
   ]
  },
  {
   "cell_type": "code",
   "execution_count": 47,
   "metadata": {
    "execution": {
     "iopub.execute_input": "2023-08-04T16:23:45.624862Z",
     "iopub.status.busy": "2023-08-04T16:23:45.624862Z",
     "iopub.status.idle": "2023-08-04T16:27:18.322583Z",
     "shell.execute_reply": "2023-08-04T16:27:18.321584Z"
    }
   },
   "outputs": [],
   "source": [
    "oct_app = SampleApproach(mdl_oct, faults=oct_faults)\n",
    "oct_endclasses, oct_mdlhists = fs.propagate.approach(mdl_oct, oct_app, staged=True)"
   ]
  },
  {
   "cell_type": "code",
   "execution_count": 48,
   "metadata": {
    "execution": {
     "iopub.execute_input": "2023-08-04T16:27:18.326572Z",
     "iopub.status.busy": "2023-08-04T16:27:18.326572Z",
     "iopub.status.idle": "2023-08-04T16:27:18.402369Z",
     "shell.execute_reply": "2023-08-04T16:27:18.401372Z"
    }
   },
   "outputs": [],
   "source": [
    "oct_tab = oct_endclasses.create_simple_fmea()\n",
    "oct_tab.sort_values('expected cost', ascending=False)"
   ]
  },
  {
   "attachments": {},
   "cell_type": "markdown",
   "metadata": {},
   "source": [
    "Based on this model, we can calculate some metrics that quantify how resilient the system was to the set of faults, such as the cost of resilience:"
   ]
  },
  {
   "cell_type": "code",
   "execution_count": 49,
   "metadata": {
    "execution": {
     "iopub.execute_input": "2023-08-04T16:27:18.405396Z",
     "iopub.status.busy": "2023-08-04T16:27:18.405396Z",
     "iopub.status.idle": "2023-08-04T16:27:18.417362Z",
     "shell.execute_reply": "2023-08-04T16:27:18.417362Z"
    }
   },
   "outputs": [],
   "source": [
    "oct_res = sum(oct_tab['expected cost'])\n",
    "oct_res"
   ]
  },
  {
   "attachments": {},
   "cell_type": "markdown",
   "metadata": {},
   "source": [
    "The overall rate of crashes:"
   ]
  },
  {
   "cell_type": "code",
   "execution_count": 50,
   "metadata": {
    "execution": {
     "iopub.execute_input": "2023-08-04T16:27:18.421318Z",
     "iopub.status.busy": "2023-08-04T16:27:18.420320Z",
     "iopub.status.idle": "2023-08-04T16:27:18.434285Z",
     "shell.execute_reply": "2023-08-04T16:27:18.433320Z"
    }
   },
   "outputs": [],
   "source": [
    "oct_crashes = oct_tab[oct_tab['cost']>100000]\n",
    "oct_rate = sum(oct_crashes['rate'])\n",
    "oct_rate"
   ]
  },
  {
   "attachments": {},
   "cell_type": "markdown",
   "metadata": {},
   "source": [
    "Number of crashes:"
   ]
  },
  {
   "cell_type": "code",
   "execution_count": 51,
   "metadata": {
    "execution": {
     "iopub.execute_input": "2023-08-04T16:27:18.438273Z",
     "iopub.status.busy": "2023-08-04T16:27:18.438273Z",
     "iopub.status.idle": "2023-08-04T16:27:18.450275Z",
     "shell.execute_reply": "2023-08-04T16:27:18.449277Z"
    }
   },
   "outputs": [],
   "source": [
    "oct_num_crashes = len(oct_crashes['rate'])\n",
    "oct_num_crashes"
   ]
  },
  {
   "attachments": {},
   "cell_type": "markdown",
   "metadata": {},
   "source": [
    "Percent of crashes:"
   ]
  },
  {
   "cell_type": "code",
   "execution_count": 52,
   "metadata": {
    "execution": {
     "iopub.execute_input": "2023-08-04T16:27:18.453267Z",
     "iopub.status.busy": "2023-08-04T16:27:18.452269Z",
     "iopub.status.idle": "2023-08-04T16:27:18.466200Z",
     "shell.execute_reply": "2023-08-04T16:27:18.465202Z"
    }
   },
   "outputs": [],
   "source": [
    "oct_perc_crashes = len(oct_crashes['rate'])/len(oct_tab['rate'])\n",
    "oct_perc_crashes"
   ]
  },
  {
   "cell_type": "code",
   "execution_count": null,
   "metadata": {},
   "outputs": [],
   "source": []
  }
 ],
 "metadata": {
  "kernelspec": {
   "display_name": "Python 3 (ipykernel)",
   "language": "python",
   "name": "python3"
  },
  "language_info": {
   "codemirror_mode": {
    "name": "ipython",
    "version": 3
   },
   "file_extension": ".py",
   "mimetype": "text/x-python",
   "name": "python",
   "nbconvert_exporter": "python",
   "pygments_lexer": "ipython3",
   "version": "3.9.7"
  }
 },
 "nbformat": 4,
 "nbformat_minor": 4
}
