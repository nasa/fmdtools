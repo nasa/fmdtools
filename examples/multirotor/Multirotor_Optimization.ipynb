{
 "cells": [
  {
   "cell_type": "markdown",
   "id": "55fa0b2a",
   "metadata": {},
   "source": [
    "# Integrated Resilience Optimization Architectures"
   ]
  },
  {
   "cell_type": "code",
   "execution_count": 1,
   "id": "35a8770f",
   "metadata": {
    "execution": {
     "iopub.execute_input": "2023-07-06T18:29:41.270137Z",
     "iopub.status.busy": "2023-07-06T18:29:41.270137Z",
     "iopub.status.idle": "2023-07-06T18:29:42.022755Z",
     "shell.execute_reply": "2023-07-06T18:29:42.022755Z"
    }
   },
   "outputs": [],
   "source": [
    "import numpy as np\n",
    "from fmdtools.sim import propagate\n",
    "from fmdtools.sim.search import ProblemInterface\n",
    "import fmdtools.analyze as an\n",
    "import multiprocessing as mp"
   ]
  },
  {
   "cell_type": "markdown",
   "id": "67b07ca5",
   "metadata": {},
   "source": [
    "In this notebook, we use the drone model defined in `drone_mdl_opt.py` to illustrate the use of the `ProblemInterface` class to set up optimization architectures. Prior to viewing this study, it may be helpful to get some background on the problem and optimization architectures, thus it may be helpful to review the following references:\n",
    "- Hulse, D., Biswas, A., Hoyle, C., Tumer, I. Y., Kulkarni, C., & Goebel, K. (2021). Exploring Architectures for Integrated Resilience Optimization. Journal of Aerospace Information Systems, 18(10), 665-678.\n",
    "    - This reference presents a version of this Drone Optimization case study, and also introduces the concept of a resilience optimization architecture. \n",
    "    - This drone case study can further be viewed here: https://github.com/DesignEngrLab/resil_opt_examples/tree/main/Drone%20Problem\n",
    "- Hulse, D., & Hoyle, C. (2022). Understanding Resilience Optimization Architectures: Alignment and Coupling in Multilevel Decomposition Strategies. Journal of Mechanical Design, 144(11), 111704.\n",
    "    - This reference provides a better review of what is meant by \"optimization architectures\" as well as different formulations which may be used in this context. While not necessary for comprehending this demonstration, it may be helpful for understanding how it should be used in practice."
   ]
  },
  {
   "cell_type": "code",
   "execution_count": 2,
   "id": "e76e6e78",
   "metadata": {
    "execution": {
     "iopub.execute_input": "2023-07-06T18:29:42.025834Z",
     "iopub.status.busy": "2023-07-06T18:29:42.024839Z",
     "iopub.status.idle": "2023-07-06T18:29:42.053942Z",
     "shell.execute_reply": "2023-07-06T18:29:42.053942Z"
    }
   },
   "outputs": [],
   "source": [
    "from drone_mdl_opt import Drone\n",
    "\n",
    "mdl = Drone()"
   ]
  },
  {
   "cell_type": "markdown",
   "id": "8c00d24a",
   "metadata": {},
   "source": [
    "This drone has similar structure and behaviors to the drone in `drone_mdl_hierarchical.py` (see below), encompassing the autonomous path planning, control, rotors, electrical system, and control of the drone. However, this model has been parameterized with the following parameters:\n",
    "\n",
    "- The rotor and battery architecture can be changed\n",
    "- The flight height can be changed to support different heights, which in turn changes the drone's flight plan\n",
    "- There is now a `ManageHealth` function which reconfigures the flight depending on detected faults."
   ]
  },
  {
   "cell_type": "code",
   "execution_count": 3,
   "id": "21bd37da",
   "metadata": {
    "execution": {
     "iopub.execute_input": "2023-07-06T18:29:42.055933Z",
     "iopub.status.busy": "2023-07-06T18:29:42.055933Z",
     "iopub.status.idle": "2023-07-06T18:29:42.544999Z",
     "shell.execute_reply": "2023-07-06T18:29:42.544086Z"
    }
   },
   "outputs": [
    {
     "ename": "ModuleNotFoundError",
     "evalue": "No module named 'analyze'",
     "output_type": "error",
     "traceback": [
      "\u001b[1;31m---------------------------------------------------------------------------\u001b[0m",
      "\u001b[1;31mModuleNotFoundError\u001b[0m                       Traceback (most recent call last)",
      "Cell \u001b[1;32mIn[3], line 1\u001b[0m\n\u001b[1;32m----> 1\u001b[0m \u001b[38;5;28;01mfrom\u001b[39;00m \u001b[38;5;21;01manalyze\u001b[39;00m\u001b[38;5;21;01m.\u001b[39;00m\u001b[38;5;21;01mgraph\u001b[39;00m \u001b[38;5;28;01mimport\u001b[39;00m ModelGraph\n",
      "\u001b[1;31mModuleNotFoundError\u001b[0m: No module named 'analyze'"
     ]
    }
   ],
   "source": [
    "from analyze.graph import ModelGraph"
   ]
  },
  {
   "cell_type": "code",
   "execution_count": 4,
   "id": "e1dbb8f7",
   "metadata": {
    "execution": {
     "iopub.execute_input": "2023-06-15T17:11:48.969531Z",
     "iopub.status.busy": "2023-06-15T17:11:48.969531Z",
     "iopub.status.idle": "2023-06-15T17:11:49.775611Z",
     "shell.execute_reply": "2023-06-15T17:11:49.774601Z"
    }
   },
   "outputs": [],
   "source": [
    "mg = ModelGraph(mdl)\n",
    "fig, ax = mg.draw()"
   ]
  },
  {
   "cell_type": "markdown",
   "id": "8ab27b39",
   "metadata": {},
   "source": [
    "This is what is called and *integrated resilience optimization* problem, the combined optimization of Design (cost of design architecture), Operations (cost/revenue of a single flight), and Resilience (cost of a set of hazardous scenarios).\n",
    "\n",
    "Note that it is *integrated* because design model/variables (architecture) affects the operational model/variables (nominal flight), which in turn affects the resilience model (performance over scenarios).\n",
    "\n",
    "Below we define each of these disciplines. First a problem should be instantiated:"
   ]
  },
  {
   "cell_type": "code",
   "execution_count": 5,
   "id": "b711927c",
   "metadata": {
    "execution": {
     "iopub.execute_input": "2023-06-15T17:11:49.781582Z",
     "iopub.status.busy": "2023-06-15T17:11:49.781582Z",
     "iopub.status.idle": "2023-06-15T17:11:49.789692Z",
     "shell.execute_reply": "2023-06-15T17:11:49.789692Z"
    }
   },
   "outputs": [],
   "source": [
    "opt_prob = ProblemInterface(\"drone_problem\", mdl)"
   ]
  },
  {
   "cell_type": "markdown",
   "id": "c3252269",
   "metadata": {},
   "source": [
    "## Design Model\n",
    "\n",
    "The cost model for the architectures is fairly simple, and involves reading costs from a dictionary (rather than any sort of dictionary). As a result, we call it from an external function, as shown:"
   ]
  },
  {
   "cell_type": "code",
   "execution_count": 6,
   "id": "92f59dd0",
   "metadata": {
    "execution": {
     "iopub.execute_input": "2023-06-15T17:11:49.795677Z",
     "iopub.status.busy": "2023-06-15T17:11:49.795677Z",
     "iopub.status.idle": "2023-06-15T17:11:49.806125Z",
     "shell.execute_reply": "2023-06-15T17:11:49.805127Z"
    }
   },
   "outputs": [],
   "source": [
    "bats = ['monolithic', 'series-split', 'parallel-split', 'split-both']\n",
    "linarchs = ['quad', 'hex', 'oct']\n",
    "batcostdict = {'monolithic':0, 'series-split':300, 'parallel-split':300, 'split-both':600}\n",
    "linecostdict = {'quad':0, 'hex':1000, 'oct':2000}\n",
    "def x_to_dcost(xdes):\n",
    "    descost = batcostdict[bats[int(xdes[0])]] + linecostdict[linarchs[int(xdes[1])]]\n",
    "    return descost"
   ]
  },
  {
   "cell_type": "markdown",
   "id": "9a9d4f4a",
   "metadata": {},
   "source": [
    "To make this a part of the `ProblemInterface`, we add it as an external simulation using the following syntax: "
   ]
  },
  {
   "cell_type": "code",
   "execution_count": 7,
   "id": "5557b831",
   "metadata": {
    "execution": {
     "iopub.execute_input": "2023-06-15T17:11:49.810115Z",
     "iopub.status.busy": "2023-06-15T17:11:49.809116Z",
     "iopub.status.idle": "2023-06-15T17:11:49.821917Z",
     "shell.execute_reply": "2023-06-15T17:11:49.820919Z"
    }
   },
   "outputs": [],
   "source": [
    "opt_prob.add_simulation(\"design_model\", \"external\", x_to_dcost)"
   ]
  },
  {
   "cell_type": "markdown",
   "id": "1b32288f",
   "metadata": {},
   "source": [
    "we can further add the associated objectives and variables:"
   ]
  },
  {
   "cell_type": "code",
   "execution_count": 8,
   "id": "9050ae81",
   "metadata": {
    "execution": {
     "iopub.execute_input": "2023-06-15T17:11:49.825904Z",
     "iopub.status.busy": "2023-06-15T17:11:49.824908Z",
     "iopub.status.idle": "2023-06-15T17:11:49.836876Z",
     "shell.execute_reply": "2023-06-15T17:11:49.835878Z"
    }
   },
   "outputs": [],
   "source": [
    "opt_prob.add_objectives(\"design_model\", cd=\"cd\")\n",
    "opt_prob.add_variables(\"design_model\",('batteryarch',(0,3)),('linearch',(0,3)))"
   ]
  },
  {
   "cell_type": "markdown",
   "id": "34b2d00f",
   "metadata": {},
   "source": [
    "We can then use the `cd` callable to the the design cost from this model in terms of the battery and line architecture variables:"
   ]
  },
  {
   "cell_type": "code",
   "execution_count": 9,
   "id": "6dc052fb",
   "metadata": {
    "execution": {
     "iopub.execute_input": "2023-06-15T17:11:49.840864Z",
     "iopub.status.busy": "2023-06-15T17:11:49.839867Z",
     "iopub.status.idle": "2023-06-15T17:11:49.852834Z",
     "shell.execute_reply": "2023-06-15T17:11:49.851836Z"
    }
   },
   "outputs": [],
   "source": [
    "opt_prob.cd([0,0])"
   ]
  },
  {
   "cell_type": "code",
   "execution_count": 10,
   "id": "1ee131b5",
   "metadata": {
    "execution": {
     "iopub.execute_input": "2023-06-15T17:11:49.857839Z",
     "iopub.status.busy": "2023-06-15T17:11:49.856822Z",
     "iopub.status.idle": "2023-06-15T17:11:49.868380Z",
     "shell.execute_reply": "2023-06-15T17:11:49.867383Z"
    }
   },
   "outputs": [],
   "source": [
    "opt_prob.cd([2,0])"
   ]
  },
  {
   "cell_type": "code",
   "execution_count": 11,
   "id": "18a2862d",
   "metadata": {
    "execution": {
     "iopub.execute_input": "2023-06-15T17:11:49.872369Z",
     "iopub.status.busy": "2023-06-15T17:11:49.872369Z",
     "iopub.status.idle": "2023-06-15T17:11:49.883341Z",
     "shell.execute_reply": "2023-06-15T17:11:49.882343Z"
    }
   },
   "outputs": [],
   "source": [
    "opt_prob.cd([2,2])"
   ]
  },
  {
   "cell_type": "markdown",
   "id": "eb4ea529",
   "metadata": {},
   "source": [
    "## Operational Model\n",
    "\n",
    "The operational model comes from the flight height of the drone and its performance in the nominal scenario. To optimize this, we define the following parameters, which specify that the model is optimized in a single scenario, where using `xd_paramfunc` as a function that translates the design variables into model parameters: "
   ]
  },
  {
   "cell_type": "code",
   "execution_count": 12,
   "id": "78934ac2",
   "metadata": {
    "execution": {
     "iopub.execute_input": "2023-06-15T17:11:49.887329Z",
     "iopub.status.busy": "2023-06-15T17:11:49.887329Z",
     "iopub.status.idle": "2023-06-15T17:11:49.897305Z",
     "shell.execute_reply": "2023-06-15T17:11:49.897305Z"
    }
   },
   "outputs": [],
   "source": [
    "def xd_paramfunc(xdes):\n",
    "    return {'bat':bats[int(xdes[0])],'linearch':linarchs[int(xdes[1])]}"
   ]
  },
  {
   "cell_type": "code",
   "execution_count": 13,
   "id": "1533c13f",
   "metadata": {
    "execution": {
     "iopub.execute_input": "2023-06-15T17:11:49.901295Z",
     "iopub.status.busy": "2023-06-15T17:11:49.901295Z",
     "iopub.status.idle": "2023-06-15T17:11:49.913267Z",
     "shell.execute_reply": "2023-06-15T17:11:49.912270Z"
    }
   },
   "outputs": [],
   "source": [
    "opt_prob.add_simulation(\"operational_model\", \"single\", {}, staged=False,\n",
    "                        upstream_sims = {\"design_model\":{'paramfunc':xd_paramfunc}})"
   ]
  },
  {
   "cell_type": "markdown",
   "id": "e6a48ecc",
   "metadata": {},
   "source": [
    "We can further define the following objectives and constraints:"
   ]
  },
  {
   "cell_type": "code",
   "execution_count": 14,
   "id": "81a3ca31",
   "metadata": {
    "execution": {
     "iopub.execute_input": "2023-06-15T17:11:49.918103Z",
     "iopub.status.busy": "2023-06-15T17:11:49.917107Z",
     "iopub.status.idle": "2023-06-15T17:11:49.928076Z",
     "shell.execute_reply": "2023-06-15T17:11:49.927167Z"
    }
   },
   "outputs": [],
   "source": [
    "opt_prob.add_objectives(\"operational_model\", co=\"expected cost\")\n",
    "opt_prob.add_constraints(\"operational_model\", g_soc=(\"store_ee.s.soc\", \"vars\", \"end\",(\"greater\", 20)),\n",
    "                                  g_max_height=(\"dofs.s.z\", \"vars\", \"all\", (\"less\", 122)),\n",
    "                                  g_faults=(\"repcost\", \"endclass\", \"end\", (\"less\", 0.1)))"
   ]
  },
  {
   "cell_type": "markdown",
   "id": "227224aa",
   "metadata": {},
   "source": [
    "The flight height controls the flight plan, which is a parameter in the model that results from the function `plan_flight`. As a result, we can't just define it as a normal model parameter, instead we have to send the function `plan_flight` as the vartype, see:"
   ]
  },
  {
   "cell_type": "code",
   "execution_count": 15,
   "id": "fb06b981",
   "metadata": {
    "execution": {
     "iopub.execute_input": "2023-06-15T17:11:49.933063Z",
     "iopub.status.busy": "2023-06-15T17:11:49.932064Z",
     "iopub.status.idle": "2023-06-15T17:11:49.944032Z",
     "shell.execute_reply": "2023-06-15T17:11:49.943036Z"
    }
   },
   "outputs": [],
   "source": [
    "from drone_mdl_opt import plan_flight"
   ]
  },
  {
   "cell_type": "code",
   "execution_count": 16,
   "id": "0fb6b5ca",
   "metadata": {
    "execution": {
     "iopub.execute_input": "2023-06-15T17:11:49.948401Z",
     "iopub.status.busy": "2023-06-15T17:11:49.948197Z",
     "iopub.status.idle": "2023-06-15T17:11:49.958176Z",
     "shell.execute_reply": "2023-06-15T17:11:49.958176Z"
    }
   },
   "outputs": [],
   "source": [
    "opt_prob.add_variables(\"operational_model\", \"height\", vartype=plan_flight)"
   ]
  },
  {
   "cell_type": "markdown",
   "id": "2ae73162",
   "metadata": {},
   "source": [
    "We can now use the `co` callable (note that design variables should be sent first e.g. by calling `cd`):"
   ]
  },
  {
   "cell_type": "code",
   "execution_count": 17,
   "id": "37683190",
   "metadata": {
    "execution": {
     "iopub.execute_input": "2023-06-15T17:11:49.963164Z",
     "iopub.status.busy": "2023-06-15T17:11:49.963164Z",
     "iopub.status.idle": "2023-06-15T17:11:50.424411Z",
     "shell.execute_reply": "2023-06-15T17:11:50.423413Z"
    }
   },
   "outputs": [],
   "source": [
    "opt_prob.cd([2,2])\n",
    "opt_prob.co([50])"
   ]
  },
  {
   "cell_type": "code",
   "execution_count": 18,
   "id": "c4f11366",
   "metadata": {
    "execution": {
     "iopub.execute_input": "2023-06-15T17:11:50.428552Z",
     "iopub.status.busy": "2023-06-15T17:11:50.427554Z",
     "iopub.status.idle": "2023-06-15T17:11:50.624499Z",
     "shell.execute_reply": "2023-06-15T17:11:50.623502Z"
    }
   },
   "outputs": [],
   "source": [
    "opt_prob.co([10])"
   ]
  },
  {
   "cell_type": "code",
   "execution_count": 19,
   "id": "bff488d4",
   "metadata": {
    "execution": {
     "iopub.execute_input": "2023-06-15T17:11:50.628170Z",
     "iopub.status.busy": "2023-06-15T17:11:50.628170Z",
     "iopub.status.idle": "2023-06-15T17:11:50.828366Z",
     "shell.execute_reply": "2023-06-15T17:11:50.826445Z"
    }
   },
   "outputs": [],
   "source": [
    "opt_prob.co([20])"
   ]
  },
  {
   "cell_type": "code",
   "execution_count": 20,
   "id": "5c85983b",
   "metadata": {
    "execution": {
     "iopub.execute_input": "2023-06-15T17:11:50.835346Z",
     "iopub.status.busy": "2023-06-15T17:11:50.835346Z",
     "iopub.status.idle": "2023-06-15T17:11:50.997958Z",
     "shell.execute_reply": "2023-06-15T17:11:50.997958Z"
    }
   },
   "outputs": [],
   "source": [
    "opt_prob.co([150])"
   ]
  },
  {
   "cell_type": "markdown",
   "id": "27304512",
   "metadata": {},
   "source": [
    "Note that we can view the results of these simulations by looking in `_sims`, provided the history is being tracked. "
   ]
  },
  {
   "cell_type": "code",
   "execution_count": 21,
   "id": "7ddd1d1f",
   "metadata": {
    "execution": {
     "iopub.execute_input": "2023-06-15T17:11:51.000950Z",
     "iopub.status.busy": "2023-06-15T17:11:51.000950Z",
     "iopub.status.idle": "2023-06-15T17:11:51.558880Z",
     "shell.execute_reply": "2023-06-15T17:11:51.558880Z"
    }
   },
   "outputs": [],
   "source": [
    "fig, ax = an.plot.hist(opt_prob._sims['operational_model']['mdlhists']['nominal'], \n",
    "                       \"dofs.s.x\", \"dofs.s.y\", \"dofs.s.z\", \n",
    "                       \"store_ee.s.soc\",\"ee_mot.s.rate\",\n",
    "                       \"ee_1.s.rate\", time_slice=6)"
   ]
  },
  {
   "cell_type": "code",
   "execution_count": 22,
   "id": "0d13cee5",
   "metadata": {
    "execution": {
     "iopub.execute_input": "2023-06-15T17:11:51.562888Z",
     "iopub.status.busy": "2023-06-15T17:11:51.562888Z",
     "iopub.status.idle": "2023-06-15T17:11:51.580337Z",
     "shell.execute_reply": "2023-06-15T17:11:51.574747Z"
    }
   },
   "outputs": [],
   "source": [
    "from drone_mdl_opt import plot_nomtraj"
   ]
  },
  {
   "cell_type": "code",
   "execution_count": 23,
   "id": "9fdbc28f",
   "metadata": {
    "execution": {
     "iopub.execute_input": "2023-06-15T17:11:51.583329Z",
     "iopub.status.busy": "2023-06-15T17:11:51.583329Z",
     "iopub.status.idle": "2023-06-15T17:11:51.777123Z",
     "shell.execute_reply": "2023-06-15T17:11:51.775915Z"
    }
   },
   "outputs": [],
   "source": [
    "plot_nomtraj(opt_prob._sims['operational_model']['mdlhists']['nominal'], \n",
    "             opt_prob._sims['operational_model']['c_mdls'][0].p, title='Nominal Simulation')"
   ]
  },
  {
   "cell_type": "markdown",
   "id": "23cf1d98",
   "metadata": {},
   "source": [
    "Note also how the cost model changes depending on the design model (Due to weight/capacity):"
   ]
  },
  {
   "cell_type": "code",
   "execution_count": 24,
   "id": "fd8f9acd",
   "metadata": {
    "execution": {
     "iopub.execute_input": "2023-06-15T17:11:51.782096Z",
     "iopub.status.busy": "2023-06-15T17:11:51.781098Z",
     "iopub.status.idle": "2023-06-15T17:11:52.229960Z",
     "shell.execute_reply": "2023-06-15T17:11:52.229960Z"
    }
   },
   "outputs": [],
   "source": [
    "opt_prob.cd([2,1])\n",
    "opt_prob.g_soc([50])"
   ]
  },
  {
   "cell_type": "code",
   "execution_count": 25,
   "id": "89db6f1f",
   "metadata": {
    "execution": {
     "iopub.execute_input": "2023-06-15T17:11:52.234947Z",
     "iopub.status.busy": "2023-06-15T17:11:52.234947Z",
     "iopub.status.idle": "2023-06-15T17:11:52.615683Z",
     "shell.execute_reply": "2023-06-15T17:11:52.615683Z"
    }
   },
   "outputs": [],
   "source": [
    "opt_prob.cd([0,1])\n",
    "opt_prob.g_soc([50])"
   ]
  },
  {
   "cell_type": "markdown",
   "id": "944becc3",
   "metadata": {},
   "source": [
    "## Resilience Model\n",
    "\n",
    "We can finally set this problem up with a resilience model portion. Similar to the operational cost model, the inputs of the resilience model are outputs of the operational model, which we account for using the upstream_sims option. Additionally, because the architecture changes, the approach is regenerated at each time with the arguments `app_args` as well as updated phases from the nominal simulation (which we do by sending the `phases` parameter).\n",
    "\n",
    "Additionally, since the approach is regenerated from the operational cost model, we don't have to provide an initial approach. \n",
    "\n",
    "To explain this input, we will be optimizing the expected cost over the single-fault battery faults which occur when the drone is moving (planpath=move phase)."
   ]
  },
  {
   "cell_type": "code",
   "execution_count": 26,
   "id": "73bbbe1c",
   "metadata": {
    "execution": {
     "iopub.execute_input": "2023-06-15T17:11:52.621127Z",
     "iopub.status.busy": "2023-06-15T17:11:52.620129Z",
     "iopub.status.idle": "2023-06-15T17:11:52.632461Z",
     "shell.execute_reply": "2023-06-15T17:11:52.631462Z"
    }
   },
   "outputs": [],
   "source": [
    "opt_prob.add_simulation(\"resilience_model\", \"multi\", [], include_nominal=False,\\\n",
    "                        upstream_sims={'operational_model':{'phases':{'plan_path':'move'},'pass_mdl':[]}},\\\n",
    "                        app_args={'faults':('single-component', 'store_ee')},\\\n",
    "                        staged=False)"
   ]
  },
  {
   "cell_type": "markdown",
   "id": "4a68651b",
   "metadata": {},
   "source": [
    "We further define the objectives for the resilience model:"
   ]
  },
  {
   "cell_type": "code",
   "execution_count": 27,
   "id": "679a0e5d",
   "metadata": {
    "execution": {
     "iopub.execute_input": "2023-06-15T17:11:52.637447Z",
     "iopub.status.busy": "2023-06-15T17:11:52.636447Z",
     "iopub.status.idle": "2023-06-15T17:11:52.646725Z",
     "shell.execute_reply": "2023-06-15T17:11:52.646725Z"
    }
   },
   "outputs": [],
   "source": [
    "opt_prob.add_objectives(\"resilience_model\", cr=\"expected cost\")"
   ]
  },
  {
   "cell_type": "markdown",
   "id": "5357622d",
   "metadata": {},
   "source": [
    "As well as the variable for the resilience policy, which, (like the operational parameters) is translated into a parameter using the function `spec_respol`:"
   ]
  },
  {
   "cell_type": "code",
   "execution_count": 28,
   "id": "6a612f75",
   "metadata": {
    "execution": {
     "iopub.execute_input": "2023-06-15T17:11:52.650704Z",
     "iopub.status.busy": "2023-06-15T17:11:52.650704Z",
     "iopub.status.idle": "2023-06-15T17:11:52.663268Z",
     "shell.execute_reply": "2023-06-15T17:11:52.662271Z"
    }
   },
   "outputs": [],
   "source": [
    "from drone_mdl_opt import ResPolicy"
   ]
  },
  {
   "cell_type": "code",
   "execution_count": 29,
   "id": "56de0e1e",
   "metadata": {
    "execution": {
     "iopub.execute_input": "2023-06-15T17:11:52.670249Z",
     "iopub.status.busy": "2023-06-15T17:11:52.669252Z",
     "iopub.status.idle": "2023-06-15T17:11:52.679083Z",
     "shell.execute_reply": "2023-06-15T17:11:52.678086Z"
    }
   },
   "outputs": [],
   "source": [
    "respols = ['continue', 'to_home', 'to_nearest', 'emland']\n",
    "\n",
    "def spec_respol(bat, line):\n",
    "    return {'respolicy': ResPolicy(bat=respols[int(bat)], line=respols[int(line)])}\n",
    "opt_prob.add_variables(\"resilience_model\", \"bat\",\"line\", vartype=spec_respol)"
   ]
  },
  {
   "cell_type": "markdown",
   "id": "c6d797ef",
   "metadata": {},
   "source": [
    "We can now use the callable `cr`:"
   ]
  },
  {
   "cell_type": "code",
   "execution_count": 30,
   "id": "5987f85a",
   "metadata": {
    "execution": {
     "iopub.execute_input": "2023-06-15T17:11:52.683079Z",
     "iopub.status.busy": "2023-06-15T17:11:52.682111Z",
     "iopub.status.idle": "2023-06-15T17:11:55.216089Z",
     "shell.execute_reply": "2023-06-15T17:11:55.215092Z"
    }
   },
   "outputs": [],
   "source": [
    "opt_prob.cd([2,1])\n",
    "opt_prob.co([100])\n",
    "opt_prob.cr([1,0])"
   ]
  },
  {
   "cell_type": "code",
   "execution_count": 31,
   "id": "b477ec99",
   "metadata": {
    "execution": {
     "iopub.execute_input": "2023-06-15T17:11:55.218938Z",
     "iopub.status.busy": "2023-06-15T17:11:55.218938Z",
     "iopub.status.idle": "2023-06-15T17:11:57.668721Z",
     "shell.execute_reply": "2023-06-15T17:11:57.665732Z"
    }
   },
   "outputs": [],
   "source": [
    "opt_prob.cr([2,0])"
   ]
  },
  {
   "cell_type": "code",
   "execution_count": 32,
   "id": "854996b1",
   "metadata": {
    "execution": {
     "iopub.execute_input": "2023-06-15T17:11:57.672707Z",
     "iopub.status.busy": "2023-06-15T17:11:57.672707Z",
     "iopub.status.idle": "2023-06-15T17:12:00.013256Z",
     "shell.execute_reply": "2023-06-15T17:12:00.012256Z"
    }
   },
   "outputs": [],
   "source": [
    "opt_prob.cr([0,0])"
   ]
  },
  {
   "cell_type": "markdown",
   "id": "3685ff4e",
   "metadata": {},
   "source": [
    "## Combined Simulation/Optimization\n",
    "We thus have a combined optimization architecture, where each model callable can be called externally while keeping dependent relationships with the upstream models. We can view these architectures using:"
   ]
  },
  {
   "cell_type": "code",
   "execution_count": 33,
   "id": "d1e75dd0",
   "metadata": {
    "execution": {
     "iopub.execute_input": "2023-06-15T17:12:00.017242Z",
     "iopub.status.busy": "2023-06-15T17:12:00.017242Z",
     "iopub.status.idle": "2023-06-15T17:12:00.170676Z",
     "shell.execute_reply": "2023-06-15T17:12:00.169707Z"
    }
   },
   "outputs": [],
   "source": [
    "fig = opt_prob.show_architecture()"
   ]
  },
  {
   "cell_type": "markdown",
   "id": "e0cf1c41",
   "metadata": {},
   "source": [
    "We can also define a combined objective summing each of the costs from each model:"
   ]
  },
  {
   "cell_type": "code",
   "execution_count": 34,
   "id": "e0e072b5",
   "metadata": {
    "execution": {
     "iopub.execute_input": "2023-06-15T17:12:00.172846Z",
     "iopub.status.busy": "2023-06-15T17:12:00.172846Z",
     "iopub.status.idle": "2023-06-15T17:12:00.184702Z",
     "shell.execute_reply": "2023-06-15T17:12:00.184702Z"
    }
   },
   "outputs": [],
   "source": [
    "opt_prob.add_combined_objective(\"total_cost\", 'cd', 'co', 'cr')"
   ]
  },
  {
   "cell_type": "code",
   "execution_count": 35,
   "id": "e6343bff",
   "metadata": {
    "execution": {
     "iopub.execute_input": "2023-06-15T17:12:00.191451Z",
     "iopub.status.busy": "2023-06-15T17:12:00.190488Z",
     "iopub.status.idle": "2023-06-15T17:12:02.301924Z",
     "shell.execute_reply": "2023-06-15T17:12:02.299929Z"
    }
   },
   "outputs": [],
   "source": [
    "opt_prob.total_cost([1,1],[100],[1,1])"
   ]
  },
  {
   "cell_type": "code",
   "execution_count": 36,
   "id": "da0403a3",
   "metadata": {
    "execution": {
     "iopub.execute_input": "2023-06-15T17:12:02.309909Z",
     "iopub.status.busy": "2023-06-15T17:12:02.309909Z",
     "iopub.status.idle": "2023-06-15T17:12:02.331031Z",
     "shell.execute_reply": "2023-06-15T17:12:02.330034Z"
    }
   },
   "outputs": [],
   "source": [
    "opt_prob.total_cost([1,1],[100],[1,1])"
   ]
  },
  {
   "cell_type": "markdown",
   "id": "138a5d52",
   "metadata": {},
   "source": [
    "To get an idea of the times of the different simulations, we can also use the method `time_sims` (provided a given variable)."
   ]
  },
  {
   "cell_type": "code",
   "execution_count": 37,
   "id": "389a3b07",
   "metadata": {
    "execution": {
     "iopub.execute_input": "2023-06-15T17:12:02.333024Z",
     "iopub.status.busy": "2023-06-15T17:12:02.333024Z",
     "iopub.status.idle": "2023-06-15T17:12:04.318640Z",
     "shell.execute_reply": "2023-06-15T17:12:04.318093Z"
    }
   },
   "outputs": [],
   "source": [
    "_ = opt_prob.time_sims([1,1,100,1,1])"
   ]
  },
  {
   "cell_type": "markdown",
   "id": "6db9101a",
   "metadata": {},
   "source": [
    "We can further speed this up by updating the simulation options to track specific parts of the model history (instead of all) as well as provide a multiprocessing pool."
   ]
  },
  {
   "cell_type": "code",
   "execution_count": 38,
   "id": "5409aeba",
   "metadata": {
    "execution": {
     "iopub.execute_input": "2023-06-15T17:12:04.321300Z",
     "iopub.status.busy": "2023-06-15T17:12:04.321300Z",
     "iopub.status.idle": "2023-06-15T17:12:04.381134Z",
     "shell.execute_reply": "2023-06-15T17:12:04.381134Z"
    }
   },
   "outputs": [],
   "source": [
    "opt_prob.update_sim_options(\"resilience_model\", log_iter_hist=True, pool=mp.Pool(4), \n",
    "                            track={\"fxns\":{\"store_ee\":\"faults\"}, \"flows\":{\"dofs\":\"s\"}})"
   ]
  },
  {
   "cell_type": "code",
   "execution_count": 39,
   "id": "665e3953",
   "metadata": {
    "execution": {
     "iopub.execute_input": "2023-06-15T17:12:04.385124Z",
     "iopub.status.busy": "2023-06-15T17:12:04.385124Z",
     "iopub.status.idle": "2023-06-15T17:12:07.487263Z",
     "shell.execute_reply": "2023-06-15T17:12:07.486299Z"
    }
   },
   "outputs": [],
   "source": [
    "_ = opt_prob.time_sims([1,1,100,1,1])"
   ]
  },
  {
   "cell_type": "markdown",
   "id": "16f54674",
   "metadata": {},
   "source": [
    "Note that cost savings from parallelism often come after a single simulation (since initialization of the pool takes time), but are still not major in this case. This is because the parameters in the approach both require re-instantiation of the model (which is a significant amount of the computational cost). "
   ]
  },
  {
   "cell_type": "code",
   "execution_count": 40,
   "id": "63d94f93",
   "metadata": {
    "execution": {
     "iopub.execute_input": "2023-06-15T17:12:07.490484Z",
     "iopub.status.busy": "2023-06-15T17:12:07.489480Z",
     "iopub.status.idle": "2023-06-15T17:12:08.273229Z",
     "shell.execute_reply": "2023-06-15T17:12:08.272222Z"
    }
   },
   "outputs": [],
   "source": [
    "_ = opt_prob.time_sims([1,1,100,1,1])"
   ]
  },
  {
   "cell_type": "markdown",
   "id": "c36ae2b1",
   "metadata": {},
   "source": [
    "Below we show a very simple optimization of these variables using brute force search. Much more sophisticated architectures/methods can be used on this problem, this code is mainly to demonstrate how these disciplines can be used together as a single objective/problem."
   ]
  },
  {
   "cell_type": "code",
   "execution_count": 41,
   "id": "658cc477",
   "metadata": {
    "execution": {
     "iopub.execute_input": "2023-06-15T17:12:08.280243Z",
     "iopub.status.busy": "2023-06-15T17:12:08.279245Z",
     "iopub.status.idle": "2023-06-15T17:12:08.288184Z",
     "shell.execute_reply": "2023-06-15T17:12:08.288184Z"
    }
   },
   "outputs": [],
   "source": [
    "import itertools\n",
    "def brute_search(Xranges = [[0,4,1],[0,3,1],[10, 130, 10],[0,4,1],[0,4,1]]):\n",
    "    Xvals = [ e for e in itertools.product(*(range(x[0],x[1],x[2]) for x in Xranges))]\n",
    "    results = dict(); opt_hist = []\n",
    "    for X in Xvals:\n",
    "        tot_cost = opt_prob.total_cost(X[:2], [X[2]], X[3:])\n",
    "        is_feasible = all([i<=0.0 for k,i in opt_prob.current_iter['consts'].items() if 'set' not in k])\n",
    "        if not opt_hist:                                     opt_hist= [[tot_cost, X]]\n",
    "        elif tot_cost < opt_hist[-1][0] and is_feasible:     opt_hist.append([tot_cost, X])\n",
    "    return opt_hist"
   ]
  },
  {
   "cell_type": "code",
   "execution_count": 42,
   "id": "feffb3df",
   "metadata": {
    "execution": {
     "iopub.execute_input": "2023-06-15T17:12:08.292207Z",
     "iopub.status.busy": "2023-06-15T17:12:08.291176Z",
     "iopub.status.idle": "2023-06-15T17:17:09.007909Z"
    }
   },
   "outputs": [],
   "source": [
    "opt_hist = brute_search()"
   ]
  },
  {
   "cell_type": "code",
   "execution_count": 44,
   "id": "b1a681d8",
   "metadata": {},
   "outputs": [],
   "source": [
    "opt_prob.total_cost([2,2,40,1,0])"
   ]
  },
  {
   "cell_type": "code",
   "execution_count": 45,
   "id": "e96d13e8",
   "metadata": {},
   "outputs": [],
   "source": [
    "from matplotlib import pyplot as plt"
   ]
  },
  {
   "cell_type": "markdown",
   "id": "81460b7e",
   "metadata": {},
   "source": [
    "The full history of objective values can be viewed in `iter_hist`:"
   ]
  },
  {
   "cell_type": "code",
   "execution_count": 46,
   "id": "5bb30634",
   "metadata": {},
   "outputs": [],
   "source": [
    "plt.plot(opt_prob.iter_hist['cd'])"
   ]
  },
  {
   "cell_type": "code",
   "execution_count": 47,
   "id": "47a60035",
   "metadata": {},
   "outputs": [],
   "source": [
    "plt.plot(opt_prob.iter_hist['co'])"
   ]
  },
  {
   "cell_type": "code",
   "execution_count": 48,
   "id": "a66ae849",
   "metadata": {},
   "outputs": [],
   "source": [
    "plt.plot(opt_prob.iter_hist['cr'])"
   ]
  },
  {
   "cell_type": "code",
   "execution_count": 49,
   "id": "faa85f90",
   "metadata": {},
   "outputs": [],
   "source": [
    "opt_hist[-1]"
   ]
  },
  {
   "cell_type": "markdown",
   "id": "2848d0bb",
   "metadata": {},
   "source": [
    "This illustrates the use of a monolithic optimization architecture for exploring the variables in these sims. We could create more, per the references, or use specialized methods to speed up the search:\n",
    "- e.g., using one of the architectures (bilevel, multi-stage, etc) defined previously\n",
    "- searching the variables with a specialized optimization method (e.g., tree search)\n",
    "- Setting the policy as a disturbance, rather than a parameter. This would enable staged execution of the resilience scenarios, greatly decreasing computational time."
   ]
  },
  {
   "cell_type": "code",
   "execution_count": null,
   "id": "7f2a4f07",
   "metadata": {},
   "outputs": [],
   "source": []
  }
 ],
 "metadata": {
  "kernelspec": {
   "display_name": "Python 3 (ipykernel)",
   "language": "python",
   "name": "python3"
  },
  "language_info": {
   "codemirror_mode": {
    "name": "ipython",
    "version": 3
   },
   "file_extension": ".py",
   "mimetype": "text/x-python",
   "name": "python",
   "nbconvert_exporter": "python",
   "pygments_lexer": "ipython3",
   "version": "3.10.9"
  }
 },
 "nbformat": 4,
 "nbformat_minor": 5
}
