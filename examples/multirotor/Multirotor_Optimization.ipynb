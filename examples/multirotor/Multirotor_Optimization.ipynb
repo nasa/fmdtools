{
 "cells": [
  {
   "cell_type": "markdown",
   "id": "55fa0b2a",
   "metadata": {},
   "source": [
    "# Integrated Resilience Optimization Architectures\n",
    "\n",
    "\n",
    "**DISCLAIMER: Optimization modules do not work currently, see RAD-225**"
   ]
  },
  {
   "cell_type": "code",
   "execution_count": 1,
   "id": "35a8770f",
   "metadata": {
    "execution": {
     "iopub.execute_input": "2023-11-01T23:02:21.106621Z",
     "iopub.status.busy": "2023-11-01T23:02:21.106621Z",
     "iopub.status.idle": "2023-11-01T23:02:22.081947Z",
     "shell.execute_reply": "2023-11-01T23:02:22.081947Z"
    }
   },
   "outputs": [],
   "source": [
    "import numpy as np\n",
    "from fmdtools.sim import propagate\n",
    "from fmdtools.sim.search import ProblemInterface\n",
    "import fmdtools.analyze as an\n",
    "import multiprocessing as mp"
   ]
  },
  {
   "cell_type": "markdown",
   "id": "67b07ca5",
   "metadata": {},
   "source": [
    "In this notebook, we use the drone model defined in `drone_mdl_opt.py` to illustrate the use of the `ProblemInterface` class to set up optimization architectures. Prior to viewing this study, it may be helpful to get some background on the problem and optimization architectures, thus it may be helpful to review the following references:\n",
    "- Hulse, D., Biswas, A., Hoyle, C., Tumer, I. Y., Kulkarni, C., & Goebel, K. (2021). Exploring Architectures for Integrated Resilience Optimization. Journal of Aerospace Information Systems, 18(10), 665-678.\n",
    "    - This reference presents a version of this Drone Optimization case study, and also introduces the concept of a resilience optimization architecture. \n",
    "    - This drone case study can further be viewed here: https://github.com/DesignEngrLab/resil_opt_examples/tree/main/Drone%20Problem\n",
    "- Hulse, D., & Hoyle, C. (2022). Understanding Resilience Optimization Architectures: Alignment and Coupling in Multilevel Decomposition Strategies. Journal of Mechanical Design, 144(11), 111704.\n",
    "    - This reference provides a better review of what is meant by \"optimization architectures\" as well as different formulations which may be used in this context. While not necessary for comprehending this demonstration, it may be helpful for understanding how it should be used in practice."
   ]
  },
  {
   "cell_type": "code",
   "execution_count": 2,
   "id": "e76e6e78",
   "metadata": {
    "execution": {
     "iopub.execute_input": "2023-11-01T23:02:22.084947Z",
     "iopub.status.busy": "2023-11-01T23:02:22.084947Z",
     "iopub.status.idle": "2023-11-01T23:02:22.689297Z",
     "shell.execute_reply": "2023-11-01T23:02:22.689297Z"
    }
   },
   "outputs": [
    {
     "ename": "ModuleNotFoundError",
     "evalue": "No module named 'drone_mdl_opt'",
     "output_type": "error",
     "traceback": [
      "\u001b[1;31m---------------------------------------------------------------------------\u001b[0m",
      "\u001b[1;31mModuleNotFoundError\u001b[0m                       Traceback (most recent call last)",
      "Cell \u001b[1;32mIn[2], line 1\u001b[0m\n\u001b[1;32m----> 1\u001b[0m \u001b[38;5;28;01mfrom\u001b[39;00m \u001b[38;5;21;01mdrone_mdl_opt\u001b[39;00m \u001b[38;5;28;01mimport\u001b[39;00m Drone\n\u001b[0;32m      3\u001b[0m mdl \u001b[38;5;241m=\u001b[39m Drone()\n",
      "\u001b[1;31mModuleNotFoundError\u001b[0m: No module named 'drone_mdl_opt'"
     ]
    }
   ],
   "source": [
    "from drone_mdl_opt import Drone\n",
    "\n",
    "mdl = Drone()"
   ]
  },
  {
   "cell_type": "markdown",
   "id": "8c00d24a",
   "metadata": {},
   "source": [
    "This drone has similar structure and behaviors to the drone in `drone_mdl_hierarchical.py` (see below), encompassing the autonomous path planning, control, rotors, electrical system, and control of the drone. However, this model has been parameterized with the following parameters:\n",
    "\n",
    "- The rotor and battery architecture can be changed\n",
    "- The flight height can be changed to support different heights, which in turn changes the drone's flight plan\n",
    "- There is now a `ManageHealth` function which reconfigures the flight depending on detected faults."
   ]
  },
  {
   "cell_type": "code",
   "execution_count": 3,
   "id": "21bd37da",
   "metadata": {
    "execution": {
     "iopub.execute_input": "2023-08-11T03:08:10.746972Z",
     "iopub.status.busy": "2023-08-11T03:08:10.746972Z",
     "iopub.status.idle": "2023-08-11T03:08:10.762708Z",
     "shell.execute_reply": "2023-08-11T03:08:10.762708Z"
    }
   },
   "outputs": [],
   "source": [
    "from fmdtools.analyze.graph import ModelGraph"
   ]
  },
  {
   "cell_type": "code",
   "execution_count": 4,
   "id": "e1dbb8f7",
   "metadata": {
    "execution": {
     "iopub.execute_input": "2023-08-11T03:08:10.762708Z",
     "iopub.status.busy": "2023-08-11T03:08:10.762708Z",
     "iopub.status.idle": "2023-08-11T03:08:11.348683Z",
     "shell.execute_reply": "2023-08-11T03:08:11.348683Z"
    }
   },
   "outputs": [],
   "source": [
    "mg = ModelGraph(mdl)\n",
    "fig, ax = mg.draw()"
   ]
  },
  {
   "cell_type": "markdown",
   "id": "8ab27b39",
   "metadata": {},
   "source": [
    "This is what is called and *integrated resilience optimization* problem, the combined optimization of Design (cost of design architecture), Operations (cost/revenue of a single flight), and Resilience (cost of a set of hazardous scenarios).\n",
    "\n",
    "Note that it is *integrated* because design model/variables (architecture) affects the operational model/variables (nominal flight), which in turn affects the resilience model (performance over scenarios).\n",
    "\n",
    "Below we define each of these disciplines. First a problem should be instantiated:"
   ]
  },
  {
   "cell_type": "code",
   "execution_count": 5,
   "id": "b711927c",
   "metadata": {
    "execution": {
     "iopub.execute_input": "2023-08-11T03:08:11.348683Z",
     "iopub.status.busy": "2023-08-11T03:08:11.348683Z",
     "iopub.status.idle": "2023-08-11T03:08:11.364398Z",
     "shell.execute_reply": "2023-08-11T03:08:11.364398Z"
    }
   },
   "outputs": [],
   "source": [
    "opt_prob = ProblemInterface(\"drone_problem\", mdl)"
   ]
  },
  {
   "cell_type": "markdown",
   "id": "c3252269",
   "metadata": {},
   "source": [
    "## Design Model\n",
    "\n",
    "The cost model for the architectures is fairly simple, and involves reading costs from a dictionary (rather than any sort of dictionary). As a result, we call it from an external function, as shown:"
   ]
  },
  {
   "cell_type": "code",
   "execution_count": 6,
   "id": "92f59dd0",
   "metadata": {
    "execution": {
     "iopub.execute_input": "2023-08-11T03:08:11.364398Z",
     "iopub.status.busy": "2023-08-11T03:08:11.364398Z",
     "iopub.status.idle": "2023-08-11T03:08:11.380021Z",
     "shell.execute_reply": "2023-08-11T03:08:11.380021Z"
    }
   },
   "outputs": [],
   "source": [
    "bats = ['monolithic', 'series-split', 'parallel-split', 'split-both']\n",
    "linarchs = ['quad', 'hex', 'oct']\n",
    "batcostdict = {'monolithic':0, 'series-split':300, 'parallel-split':300, 'split-both':600}\n",
    "linecostdict = {'quad':0, 'hex':1000, 'oct':2000}\n",
    "def x_to_dcost(xdes):\n",
    "    descost = batcostdict[bats[int(xdes[0])]] + linecostdict[linarchs[int(xdes[1])]]\n",
    "    return descost"
   ]
  },
  {
   "cell_type": "markdown",
   "id": "9a9d4f4a",
   "metadata": {},
   "source": [
    "To make this a part of the `ProblemInterface`, we add it as an external simulation using the following syntax: "
   ]
  },
  {
   "cell_type": "code",
   "execution_count": 7,
   "id": "5557b831",
   "metadata": {
    "execution": {
     "iopub.execute_input": "2023-08-11T03:08:11.380021Z",
     "iopub.status.busy": "2023-08-11T03:08:11.380021Z",
     "iopub.status.idle": "2023-08-11T03:08:11.395633Z",
     "shell.execute_reply": "2023-08-11T03:08:11.395633Z"
    }
   },
   "outputs": [],
   "source": [
    "opt_prob.add_simulation(\"design_model\", \"external\", x_to_dcost)"
   ]
  },
  {
   "cell_type": "markdown",
   "id": "1b32288f",
   "metadata": {},
   "source": [
    "we can further add the associated objectives and variables:"
   ]
  },
  {
   "cell_type": "code",
   "execution_count": 8,
   "id": "9050ae81",
   "metadata": {
    "execution": {
     "iopub.execute_input": "2023-08-11T03:08:11.395633Z",
     "iopub.status.busy": "2023-08-11T03:08:11.395633Z",
     "iopub.status.idle": "2023-08-11T03:08:11.411248Z",
     "shell.execute_reply": "2023-08-11T03:08:11.411248Z"
    }
   },
   "outputs": [],
   "source": [
    "opt_prob.add_objectives(\"design_model\", cd=\"cd\")\n",
    "opt_prob.add_variables(\"design_model\",('batteryarch',(0,3)),('linearch',(0,3)))"
   ]
  },
  {
   "cell_type": "markdown",
   "id": "34b2d00f",
   "metadata": {},
   "source": [
    "We can then use the `cd` callable to the the design cost from this model in terms of the battery and line architecture variables:"
   ]
  },
  {
   "cell_type": "code",
   "execution_count": 9,
   "id": "6dc052fb",
   "metadata": {
    "execution": {
     "iopub.execute_input": "2023-08-11T03:08:11.411248Z",
     "iopub.status.busy": "2023-08-11T03:08:11.411248Z",
     "iopub.status.idle": "2023-08-11T03:08:11.426871Z",
     "shell.execute_reply": "2023-08-11T03:08:11.426871Z"
    }
   },
   "outputs": [],
   "source": [
    "opt_prob.cd([0,0])"
   ]
  },
  {
   "cell_type": "code",
   "execution_count": 10,
   "id": "1ee131b5",
   "metadata": {
    "execution": {
     "iopub.execute_input": "2023-08-11T03:08:11.426871Z",
     "iopub.status.busy": "2023-08-11T03:08:11.426871Z",
     "iopub.status.idle": "2023-08-11T03:08:11.448991Z",
     "shell.execute_reply": "2023-08-11T03:08:11.448991Z"
    }
   },
   "outputs": [],
   "source": [
    "opt_prob.cd([2,0])"
   ]
  },
  {
   "cell_type": "code",
   "execution_count": 11,
   "id": "18a2862d",
   "metadata": {
    "execution": {
     "iopub.execute_input": "2023-08-11T03:08:11.448991Z",
     "iopub.status.busy": "2023-08-11T03:08:11.448991Z",
     "iopub.status.idle": "2023-08-11T03:08:11.464616Z",
     "shell.execute_reply": "2023-08-11T03:08:11.464616Z"
    }
   },
   "outputs": [],
   "source": [
    "opt_prob.cd([2,2])"
   ]
  },
  {
   "cell_type": "markdown",
   "id": "eb4ea529",
   "metadata": {},
   "source": [
    "## Operational Model\n",
    "\n",
    "The operational model comes from the flight height of the drone and its performance in the nominal scenario. To optimize this, we define the following parameters, which specify that the model is optimized in a single scenario, where using `xd_paramfunc` as a function that translates the design variables into model parameters: "
   ]
  },
  {
   "cell_type": "code",
   "execution_count": 12,
   "id": "78934ac2",
   "metadata": {
    "execution": {
     "iopub.execute_input": "2023-08-11T03:08:11.464616Z",
     "iopub.status.busy": "2023-08-11T03:08:11.464616Z",
     "iopub.status.idle": "2023-08-11T03:08:11.479764Z",
     "shell.execute_reply": "2023-08-11T03:08:11.479764Z"
    }
   },
   "outputs": [],
   "source": [
    "def xd_paramfunc(xdes):\n",
    "    return {'bat':bats[int(xdes[0])],'linearch':linarchs[int(xdes[1])]}"
   ]
  },
  {
   "cell_type": "code",
   "execution_count": 13,
   "id": "1533c13f",
   "metadata": {
    "execution": {
     "iopub.execute_input": "2023-08-11T03:08:11.479764Z",
     "iopub.status.busy": "2023-08-11T03:08:11.479764Z",
     "iopub.status.idle": "2023-08-11T03:08:11.495383Z",
     "shell.execute_reply": "2023-08-11T03:08:11.495383Z"
    }
   },
   "outputs": [],
   "source": [
    "opt_prob.add_simulation(\"operational_model\", \"single\", {}, staged=False,\n",
    "                        upstream_sims = {\"design_model\":{'paramfunc':xd_paramfunc}})"
   ]
  },
  {
   "cell_type": "markdown",
   "id": "e6a48ecc",
   "metadata": {},
   "source": [
    "We can further define the following objectives and constraints:"
   ]
  },
  {
   "cell_type": "code",
   "execution_count": 14,
   "id": "81a3ca31",
   "metadata": {
    "execution": {
     "iopub.execute_input": "2023-08-11T03:08:11.495383Z",
     "iopub.status.busy": "2023-08-11T03:08:11.495383Z",
     "iopub.status.idle": "2023-08-11T03:08:11.511478Z",
     "shell.execute_reply": "2023-08-11T03:08:11.511478Z"
    }
   },
   "outputs": [],
   "source": [
    "opt_prob.add_objectives(\"operational_model\", co=\"expected cost\")\n",
    "opt_prob.add_constraints(\"operational_model\", g_soc=(\"store_ee.s.soc\", \"vars\", \"end\",(\"greater\", 20)),\n",
    "                                  g_max_height=(\"dofs.s.z\", \"vars\", \"all\", (\"less\", 122)),\n",
    "                                  g_faults=(\"repcost\", \"endclass\", \"end\", (\"less\", 0.1)))"
   ]
  },
  {
   "cell_type": "markdown",
   "id": "227224aa",
   "metadata": {},
   "source": [
    "The flight height controls the flight plan, which is a parameter in the model that results from the function `plan_flight`. As a result, we can't just define it as a normal model parameter, instead we have to send the function `plan_flight` as the vartype, see:"
   ]
  },
  {
   "cell_type": "code",
   "execution_count": 15,
   "id": "fb06b981",
   "metadata": {
    "execution": {
     "iopub.execute_input": "2023-08-11T03:08:11.511478Z",
     "iopub.status.busy": "2023-08-11T03:08:11.511478Z",
     "iopub.status.idle": "2023-08-11T03:08:11.527106Z",
     "shell.execute_reply": "2023-08-11T03:08:11.527106Z"
    }
   },
   "outputs": [],
   "source": [
    "from drone_mdl_opt import plan_flight"
   ]
  },
  {
   "cell_type": "code",
   "execution_count": 16,
   "id": "0fb6b5ca",
   "metadata": {
    "execution": {
     "iopub.execute_input": "2023-08-11T03:08:11.527106Z",
     "iopub.status.busy": "2023-08-11T03:08:11.527106Z",
     "iopub.status.idle": "2023-08-11T03:08:11.549244Z",
     "shell.execute_reply": "2023-08-11T03:08:11.549244Z"
    }
   },
   "outputs": [],
   "source": [
    "opt_prob.add_variables(\"operational_model\", \"height\", vartype=plan_flight)"
   ]
  },
  {
   "cell_type": "markdown",
   "id": "2ae73162",
   "metadata": {},
   "source": [
    "We can now use the `co` callable (note that design variables should be sent first e.g. by calling `cd`):"
   ]
  },
  {
   "cell_type": "code",
   "execution_count": 17,
   "id": "37683190",
   "metadata": {
    "execution": {
     "iopub.execute_input": "2023-08-11T03:08:11.549244Z",
     "iopub.status.busy": "2023-08-11T03:08:11.549244Z",
     "iopub.status.idle": "2023-08-11T03:08:11.833632Z",
     "shell.execute_reply": "2023-08-11T03:08:11.832844Z"
    }
   },
   "outputs": [],
   "source": [
    "opt_prob.cd([2,2])\n",
    "opt_prob.co([50])"
   ]
  },
  {
   "cell_type": "code",
   "execution_count": 18,
   "id": "c4f11366",
   "metadata": {
    "execution": {
     "iopub.execute_input": "2023-08-11T03:08:11.836489Z",
     "iopub.status.busy": "2023-08-11T03:08:11.836489Z",
     "iopub.status.idle": "2023-08-11T03:08:11.974268Z",
     "shell.execute_reply": "2023-08-11T03:08:11.973157Z"
    }
   },
   "outputs": [],
   "source": [
    "opt_prob.co([10])"
   ]
  },
  {
   "cell_type": "code",
   "execution_count": 19,
   "id": "bff488d4",
   "metadata": {
    "execution": {
     "iopub.execute_input": "2023-08-11T03:08:11.976712Z",
     "iopub.status.busy": "2023-08-11T03:08:11.976712Z",
     "iopub.status.idle": "2023-08-11T03:08:12.125343Z",
     "shell.execute_reply": "2023-08-11T03:08:12.125343Z"
    }
   },
   "outputs": [],
   "source": [
    "opt_prob.co([20])"
   ]
  },
  {
   "cell_type": "code",
   "execution_count": 20,
   "id": "5c85983b",
   "metadata": {
    "execution": {
     "iopub.execute_input": "2023-08-11T03:08:12.125343Z",
     "iopub.status.busy": "2023-08-11T03:08:12.125343Z",
     "iopub.status.idle": "2023-08-11T03:08:12.250278Z",
     "shell.execute_reply": "2023-08-11T03:08:12.249003Z"
    }
   },
   "outputs": [],
   "source": [
    "opt_prob.co([150])"
   ]
  },
  {
   "cell_type": "markdown",
   "id": "27304512",
   "metadata": {},
   "source": [
    "Note that we can view the results of these simulations by looking in `_sims`, provided the history is being tracked. "
   ]
  },
  {
   "cell_type": "code",
   "execution_count": 21,
   "id": "7ddd1d1f",
   "metadata": {
    "execution": {
     "iopub.execute_input": "2023-08-11T03:08:12.253272Z",
     "iopub.status.busy": "2023-08-11T03:08:12.253272Z",
     "iopub.status.idle": "2023-08-11T03:08:13.123307Z",
     "shell.execute_reply": "2023-08-11T03:08:13.122307Z"
    }
   },
   "outputs": [],
   "source": [
    "fig, ax = an.plot.hist(opt_prob._sims['operational_model']['mdlhists']['nominal'], \n",
    "                       \"dofs.s.x\", \"dofs.s.y\", \"dofs.s.z\", \n",
    "                       \"store_ee.s.soc\",\"ee_mot.s.rate\",\n",
    "                       \"ee_1.s.rate\", time_slice=6)"
   ]
  },
  {
   "cell_type": "code",
   "execution_count": 22,
   "id": "0d13cee5",
   "metadata": {
    "execution": {
     "iopub.execute_input": "2023-08-11T03:08:13.126298Z",
     "iopub.status.busy": "2023-08-11T03:08:13.126298Z",
     "iopub.status.idle": "2023-08-11T03:08:13.139414Z",
     "shell.execute_reply": "2023-08-11T03:08:13.138718Z"
    }
   },
   "outputs": [],
   "source": [
    "from drone_mdl_opt import plot_nomtraj"
   ]
  },
  {
   "cell_type": "code",
   "execution_count": 23,
   "id": "9fdbc28f",
   "metadata": {
    "execution": {
     "iopub.execute_input": "2023-08-11T03:08:13.142404Z",
     "iopub.status.busy": "2023-08-11T03:08:13.142404Z",
     "iopub.status.idle": "2023-08-11T03:08:13.297110Z",
     "shell.execute_reply": "2023-08-11T03:08:13.296694Z"
    }
   },
   "outputs": [],
   "source": [
    "plot_nomtraj(opt_prob._sims['operational_model']['mdlhists']['nominal'], \n",
    "             opt_prob._sims['operational_model']['c_mdls'][0].p, title='Nominal Simulation')"
   ]
  },
  {
   "cell_type": "markdown",
   "id": "23cf1d98",
   "metadata": {},
   "source": [
    "Note also how the cost model changes depending on the design model (Due to weight/capacity):"
   ]
  },
  {
   "cell_type": "code",
   "execution_count": 24,
   "id": "fd8f9acd",
   "metadata": {
    "execution": {
     "iopub.execute_input": "2023-08-11T03:08:13.300401Z",
     "iopub.status.busy": "2023-08-11T03:08:13.300401Z",
     "iopub.status.idle": "2023-08-11T03:08:13.565051Z",
     "shell.execute_reply": "2023-08-11T03:08:13.564050Z"
    }
   },
   "outputs": [],
   "source": [
    "opt_prob.cd([2,1])\n",
    "opt_prob.g_soc([50])"
   ]
  },
  {
   "cell_type": "code",
   "execution_count": 25,
   "id": "89db6f1f",
   "metadata": {
    "execution": {
     "iopub.execute_input": "2023-08-11T03:08:13.568077Z",
     "iopub.status.busy": "2023-08-11T03:08:13.568077Z",
     "iopub.status.idle": "2023-08-11T03:08:13.816735Z",
     "shell.execute_reply": "2023-08-11T03:08:13.815732Z"
    }
   },
   "outputs": [],
   "source": [
    "opt_prob.cd([0,1])\n",
    "opt_prob.g_soc([50])"
   ]
  },
  {
   "cell_type": "markdown",
   "id": "944becc3",
   "metadata": {},
   "source": [
    "## Resilience Model\n",
    "\n",
    "We can finally set this problem up with a resilience model portion. Similar to the operational cost model, the inputs of the resilience model are outputs of the operational model, which we account for using the upstream_sims option. Additionally, because the architecture changes, the approach is regenerated at each time with the arguments `app_args` as well as updated phases from the nominal simulation (which we do by sending the `phases` parameter).\n",
    "\n",
    "Additionally, since the approach is regenerated from the operational cost model, we don't have to provide an initial approach. \n",
    "\n",
    "To explain this input, we will be optimizing the expected cost over the single-fault battery faults which occur when the drone is moving (planpath=move phase)."
   ]
  },
  {
   "cell_type": "code",
   "execution_count": 26,
   "id": "73bbbe1c",
   "metadata": {
    "execution": {
     "iopub.execute_input": "2023-08-11T03:08:13.819140Z",
     "iopub.status.busy": "2023-08-11T03:08:13.819140Z",
     "iopub.status.idle": "2023-08-11T03:08:13.832209Z",
     "shell.execute_reply": "2023-08-11T03:08:13.831379Z"
    }
   },
   "outputs": [],
   "source": [
    "opt_prob.add_simulation(\"resilience_model\", \"multi\", [], include_nominal=False,\\\n",
    "                        upstream_sims={'operational_model':{'phases':{'plan_path':'move'},'pass_mdl':[]}},\\\n",
    "                        app_args={'faults':('single-component', 'store_ee')},\\\n",
    "                        staged=False)"
   ]
  },
  {
   "cell_type": "markdown",
   "id": "4a68651b",
   "metadata": {},
   "source": [
    "We further define the objectives for the resilience model:"
   ]
  },
  {
   "cell_type": "code",
   "execution_count": 27,
   "id": "679a0e5d",
   "metadata": {
    "execution": {
     "iopub.execute_input": "2023-08-11T03:08:13.834770Z",
     "iopub.status.busy": "2023-08-11T03:08:13.834770Z",
     "iopub.status.idle": "2023-08-11T03:08:13.847762Z",
     "shell.execute_reply": "2023-08-11T03:08:13.846760Z"
    }
   },
   "outputs": [],
   "source": [
    "opt_prob.add_objectives(\"resilience_model\", cr=\"expected cost\")"
   ]
  },
  {
   "cell_type": "markdown",
   "id": "5357622d",
   "metadata": {},
   "source": [
    "As well as the variable for the resilience policy, which, (like the operational parameters) is translated into a parameter using the function `spec_respol`:"
   ]
  },
  {
   "cell_type": "code",
   "execution_count": 28,
   "id": "6a612f75",
   "metadata": {
    "execution": {
     "iopub.execute_input": "2023-08-11T03:08:13.850781Z",
     "iopub.status.busy": "2023-08-11T03:08:13.849756Z",
     "iopub.status.idle": "2023-08-11T03:08:13.863358Z",
     "shell.execute_reply": "2023-08-11T03:08:13.862734Z"
    }
   },
   "outputs": [],
   "source": [
    "from drone_mdl_opt import ResPolicy"
   ]
  },
  {
   "cell_type": "code",
   "execution_count": 29,
   "id": "56de0e1e",
   "metadata": {
    "execution": {
     "iopub.execute_input": "2023-08-11T03:08:13.866402Z",
     "iopub.status.busy": "2023-08-11T03:08:13.866402Z",
     "iopub.status.idle": "2023-08-11T03:08:13.879587Z",
     "shell.execute_reply": "2023-08-11T03:08:13.878589Z"
    }
   },
   "outputs": [],
   "source": [
    "respols = ['continue', 'to_home', 'to_nearest', 'emland']\n",
    "\n",
    "def spec_respol(bat, line):\n",
    "    return {'respolicy': ResPolicy(bat=respols[int(bat)], line=respols[int(line)])}\n",
    "opt_prob.add_variables(\"resilience_model\", \"bat\",\"line\", vartype=spec_respol)"
   ]
  },
  {
   "cell_type": "markdown",
   "id": "c6d797ef",
   "metadata": {},
   "source": [
    "We can now use the callable `cr`:"
   ]
  },
  {
   "cell_type": "code",
   "execution_count": 30,
   "id": "5987f85a",
   "metadata": {
    "execution": {
     "iopub.execute_input": "2023-08-11T03:08:13.882613Z",
     "iopub.status.busy": "2023-08-11T03:08:13.882613Z",
     "iopub.status.idle": "2023-08-11T03:08:15.301195Z",
     "shell.execute_reply": "2023-08-11T03:08:15.301195Z"
    }
   },
   "outputs": [],
   "source": [
    "opt_prob.cd([2,1])\n",
    "opt_prob.co([100])\n",
    "opt_prob.cr([1,0])"
   ]
  },
  {
   "cell_type": "code",
   "execution_count": 31,
   "id": "b477ec99",
   "metadata": {
    "execution": {
     "iopub.execute_input": "2023-08-11T03:08:15.305202Z",
     "iopub.status.busy": "2023-08-11T03:08:15.305202Z",
     "iopub.status.idle": "2023-08-11T03:08:16.465660Z",
     "shell.execute_reply": "2023-08-11T03:08:16.465660Z"
    }
   },
   "outputs": [],
   "source": [
    "opt_prob.cr([2,0])"
   ]
  },
  {
   "cell_type": "code",
   "execution_count": 32,
   "id": "854996b1",
   "metadata": {
    "execution": {
     "iopub.execute_input": "2023-08-11T03:08:16.465660Z",
     "iopub.status.busy": "2023-08-11T03:08:16.465660Z",
     "iopub.status.idle": "2023-08-11T03:08:17.668106Z",
     "shell.execute_reply": "2023-08-11T03:08:17.668106Z"
    }
   },
   "outputs": [],
   "source": [
    "opt_prob.cr([0,0])"
   ]
  },
  {
   "cell_type": "markdown",
   "id": "3685ff4e",
   "metadata": {},
   "source": [
    "## Combined Simulation/Optimization\n",
    "We thus have a combined optimization architecture, where each model callable can be called externally while keeping dependent relationships with the upstream models. We can view these architectures using:"
   ]
  },
  {
   "cell_type": "code",
   "execution_count": 33,
   "id": "d1e75dd0",
   "metadata": {
    "execution": {
     "iopub.execute_input": "2023-08-11T03:08:17.668106Z",
     "iopub.status.busy": "2023-08-11T03:08:17.668106Z",
     "iopub.status.idle": "2023-08-11T03:08:17.683571Z",
     "shell.execute_reply": "2023-08-11T03:08:17.683571Z"
    }
   },
   "outputs": [],
   "source": [
    "#fig = opt_prob.show_architecture() #show_archtecture() function on the TODO lists"
   ]
  },
  {
   "cell_type": "markdown",
   "id": "e0cf1c41",
   "metadata": {},
   "source": [
    "We can also define a combined objective summing each of the costs from each model:"
   ]
  },
  {
   "cell_type": "code",
   "execution_count": 34,
   "id": "e0e072b5",
   "metadata": {
    "execution": {
     "iopub.execute_input": "2023-08-11T03:08:17.683571Z",
     "iopub.status.busy": "2023-08-11T03:08:17.683571Z",
     "iopub.status.idle": "2023-08-11T03:08:17.699200Z",
     "shell.execute_reply": "2023-08-11T03:08:17.699200Z"
    }
   },
   "outputs": [],
   "source": [
    "opt_prob.add_combined_objective(\"total_cost\", 'cd', 'co', 'cr')"
   ]
  },
  {
   "cell_type": "code",
   "execution_count": 35,
   "id": "e6343bff",
   "metadata": {
    "execution": {
     "iopub.execute_input": "2023-08-11T03:08:17.699200Z",
     "iopub.status.busy": "2023-08-11T03:08:17.699200Z",
     "iopub.status.idle": "2023-08-11T03:08:19.162391Z",
     "shell.execute_reply": "2023-08-11T03:08:19.162391Z"
    }
   },
   "outputs": [],
   "source": [
    "opt_prob.total_cost([1,1],[100],[1,1])"
   ]
  },
  {
   "cell_type": "code",
   "execution_count": 36,
   "id": "da0403a3",
   "metadata": {
    "execution": {
     "iopub.execute_input": "2023-08-11T03:08:19.166534Z",
     "iopub.status.busy": "2023-08-11T03:08:19.166534Z",
     "iopub.status.idle": "2023-08-11T03:08:19.178868Z",
     "shell.execute_reply": "2023-08-11T03:08:19.177812Z"
    }
   },
   "outputs": [],
   "source": [
    "opt_prob.total_cost([1,1],[100],[1,1])"
   ]
  },
  {
   "cell_type": "markdown",
   "id": "138a5d52",
   "metadata": {},
   "source": [
    "To get an idea of the times of the different simulations, we can also use the method `time_sims` (provided a given variable)."
   ]
  },
  {
   "cell_type": "code",
   "execution_count": 37,
   "id": "389a3b07",
   "metadata": {
    "execution": {
     "iopub.execute_input": "2023-08-11T03:08:19.181954Z",
     "iopub.status.busy": "2023-08-11T03:08:19.181954Z",
     "iopub.status.idle": "2023-08-11T03:08:20.554273Z",
     "shell.execute_reply": "2023-08-11T03:08:20.554273Z"
    }
   },
   "outputs": [],
   "source": [
    "_ = opt_prob.time_sims([1,1,100,1,1])"
   ]
  },
  {
   "cell_type": "markdown",
   "id": "6db9101a",
   "metadata": {},
   "source": [
    "We can further speed this up by updating the simulation options to track specific parts of the model history (instead of all) as well as provide a multiprocessing pool."
   ]
  },
  {
   "cell_type": "code",
   "execution_count": 38,
   "id": "5409aeba",
   "metadata": {
    "execution": {
     "iopub.execute_input": "2023-08-11T03:08:20.554273Z",
     "iopub.status.busy": "2023-08-11T03:08:20.554273Z",
     "iopub.status.idle": "2023-08-11T03:08:20.591582Z",
     "shell.execute_reply": "2023-08-11T03:08:20.591582Z"
    }
   },
   "outputs": [],
   "source": [
    "opt_prob.update_sim_options(\"resilience_model\", log_iter_hist=True, pool=mp.Pool(4), \n",
    "                            track={\"fxns\":{\"store_ee\":\"faults\"}, \"flows\":{\"dofs\":\"s\"}})"
   ]
  },
  {
   "cell_type": "code",
   "execution_count": 39,
   "id": "665e3953",
   "metadata": {
    "execution": {
     "iopub.execute_input": "2023-08-11T03:08:20.591582Z",
     "iopub.status.busy": "2023-08-11T03:08:20.591582Z",
     "iopub.status.idle": "2023-08-11T03:08:23.379265Z",
     "shell.execute_reply": "2023-08-11T03:08:23.379265Z"
    }
   },
   "outputs": [],
   "source": [
    "_ = opt_prob.time_sims([1,1,100,1,1])"
   ]
  },
  {
   "cell_type": "markdown",
   "id": "16f54674",
   "metadata": {},
   "source": [
    "Note that cost savings from parallelism often come after a single simulation (since initialization of the pool takes time), but are still not major in this case. This is because the parameters in the approach both require re-instantiation of the model (which is a significant amount of the computational cost). "
   ]
  },
  {
   "cell_type": "code",
   "execution_count": 40,
   "id": "63d94f93",
   "metadata": {
    "execution": {
     "iopub.execute_input": "2023-08-11T03:08:23.379265Z",
     "iopub.status.busy": "2023-08-11T03:08:23.379265Z",
     "iopub.status.idle": "2023-08-11T03:08:24.183959Z",
     "shell.execute_reply": "2023-08-11T03:08:24.181910Z"
    }
   },
   "outputs": [],
   "source": [
    "_ = opt_prob.time_sims([1,1,100,1,1])"
   ]
  },
  {
   "cell_type": "markdown",
   "id": "c36ae2b1",
   "metadata": {},
   "source": [
    "Below we show a very simple optimization of these variables using brute force search. Much more sophisticated architectures/methods can be used on this problem, this code is mainly to demonstrate how these disciplines can be used together as a single objective/problem."
   ]
  },
  {
   "cell_type": "code",
   "execution_count": 41,
   "id": "658cc477",
   "metadata": {
    "execution": {
     "iopub.execute_input": "2023-08-11T03:08:24.183959Z",
     "iopub.status.busy": "2023-08-11T03:08:24.183959Z",
     "iopub.status.idle": "2023-08-11T03:08:24.202177Z",
     "shell.execute_reply": "2023-08-11T03:08:24.202177Z"
    }
   },
   "outputs": [],
   "source": [
    "import itertools\n",
    "def brute_search(Xranges = [[0,4,1],[0,3,1],[10, 130, 10],[0,4,1],[0,4,1]], skip_iter = False):\n",
    "    Xvals = [ e for e in itertools.product(*(range(x[0],x[1],x[2]) for x in Xranges))]\n",
    "    results = dict(); opt_hist = []\n",
    "    iter = 0\n",
    "    for X in Xvals:\n",
    "        tot_cost = opt_prob.total_cost(X[:2], [X[2]], X[3:])\n",
    "        is_feasible = all([i<=0.0 for k,i in opt_prob.current_iter['consts'].items() if 'set' not in k])\n",
    "        if not opt_hist:\n",
    "            opt_hist= [[tot_cost, X]]\n",
    "        elif tot_cost < opt_hist[-1][0] and is_feasible:\n",
    "            opt_hist.append([tot_cost, X])\n",
    "        if skip_iter <= iter:\n",
    "            break\n",
    "        else:\n",
    "            iter += 1\n",
    "\n",
    "    return opt_hist"
   ]
  },
  {
   "cell_type": "code",
   "execution_count": 42,
   "id": "feffb3df",
   "metadata": {
    "execution": {
     "iopub.execute_input": "2023-08-11T03:08:24.202177Z",
     "iopub.status.busy": "2023-08-11T03:08:24.202177Z",
     "iopub.status.idle": "2023-08-11T03:08:27.528820Z",
     "shell.execute_reply": "2023-08-11T03:08:27.528820Z"
    }
   },
   "outputs": [],
   "source": [
    "opt_hist = brute_search(skip_iter=2)"
   ]
  },
  {
   "cell_type": "code",
   "execution_count": 43,
   "id": "b1a681d8",
   "metadata": {
    "execution": {
     "iopub.execute_input": "2023-08-11T03:08:27.532775Z",
     "iopub.status.busy": "2023-08-11T03:08:27.532775Z",
     "iopub.status.idle": "2023-08-11T03:08:28.588450Z",
     "shell.execute_reply": "2023-08-11T03:08:28.588450Z"
    }
   },
   "outputs": [],
   "source": [
    "opt_prob.total_cost([2,2,40,1,0])"
   ]
  },
  {
   "cell_type": "code",
   "execution_count": 44,
   "id": "e96d13e8",
   "metadata": {
    "execution": {
     "iopub.execute_input": "2023-08-11T03:08:28.590574Z",
     "iopub.status.busy": "2023-08-11T03:08:28.590574Z",
     "iopub.status.idle": "2023-08-11T03:08:28.608955Z",
     "shell.execute_reply": "2023-08-11T03:08:28.608955Z"
    }
   },
   "outputs": [],
   "source": [
    "from matplotlib import pyplot as plt"
   ]
  },
  {
   "cell_type": "markdown",
   "id": "81460b7e",
   "metadata": {},
   "source": [
    "The full history of objective values can be viewed in `iter_hist`:"
   ]
  },
  {
   "cell_type": "code",
   "execution_count": 45,
   "id": "5bb30634",
   "metadata": {
    "execution": {
     "iopub.execute_input": "2023-08-11T03:08:28.611107Z",
     "iopub.status.busy": "2023-08-11T03:08:28.611107Z",
     "iopub.status.idle": "2023-08-11T03:08:28.760683Z",
     "shell.execute_reply": "2023-08-11T03:08:28.760683Z"
    }
   },
   "outputs": [],
   "source": [
    "plt.plot(opt_prob.iter_hist['cd'])"
   ]
  },
  {
   "cell_type": "code",
   "execution_count": 46,
   "id": "47a60035",
   "metadata": {
    "execution": {
     "iopub.execute_input": "2023-08-11T03:08:28.760683Z",
     "iopub.status.busy": "2023-08-11T03:08:28.760683Z",
     "iopub.status.idle": "2023-08-11T03:08:28.907819Z",
     "shell.execute_reply": "2023-08-11T03:08:28.907819Z"
    }
   },
   "outputs": [],
   "source": [
    "plt.plot(opt_prob.iter_hist['co'])"
   ]
  },
  {
   "cell_type": "code",
   "execution_count": 47,
   "id": "a66ae849",
   "metadata": {
    "execution": {
     "iopub.execute_input": "2023-08-11T03:08:28.907819Z",
     "iopub.status.busy": "2023-08-11T03:08:28.907819Z",
     "iopub.status.idle": "2023-08-11T03:08:29.061559Z",
     "shell.execute_reply": "2023-08-11T03:08:29.061559Z"
    }
   },
   "outputs": [],
   "source": [
    "plt.plot(opt_prob.iter_hist['cr'])"
   ]
  },
  {
   "cell_type": "code",
   "execution_count": 48,
   "id": "faa85f90",
   "metadata": {
    "execution": {
     "iopub.execute_input": "2023-08-11T03:08:29.061559Z",
     "iopub.status.busy": "2023-08-11T03:08:29.061559Z",
     "iopub.status.idle": "2023-08-11T03:08:29.077177Z",
     "shell.execute_reply": "2023-08-11T03:08:29.077177Z"
    }
   },
   "outputs": [],
   "source": [
    "opt_hist[-1]"
   ]
  },
  {
   "cell_type": "markdown",
   "id": "2848d0bb",
   "metadata": {},
   "source": [
    "This illustrates the use of a monolithic optimization architecture for exploring the variables in these sims. We could create more, per the references, or use specialized methods to speed up the search:\n",
    "- e.g., using one of the architectures (bilevel, multi-stage, etc) defined previously\n",
    "- searching the variables with a specialized optimization method (e.g., tree search)\n",
    "- Setting the policy as a disturbance, rather than a parameter. This would enable staged execution of the resilience scenarios, greatly decreasing computational time."
   ]
  },
  {
   "cell_type": "code",
   "execution_count": null,
   "id": "7f2a4f07",
   "metadata": {},
   "outputs": [],
   "source": []
  }
 ],
 "metadata": {
  "kernelspec": {
   "display_name": "Python 3 (ipykernel)",
   "language": "python",
   "name": "python3"
  },
  "language_info": {
   "codemirror_mode": {
    "name": "ipython",
    "version": 3
   },
   "file_extension": ".py",
   "mimetype": "text/x-python",
   "name": "python",
   "nbconvert_exporter": "python",
   "pygments_lexer": "ipython3",
   "version": "3.10.9"
  }
 },
 "nbformat": 4,
 "nbformat_minor": 5
}
