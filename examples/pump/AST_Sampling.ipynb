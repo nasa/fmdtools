{
 "cells": [
  {
   "cell_type": "markdown",
   "id": "02b1fbf2",
   "metadata": {},
   "source": [
    "# fmdtools-AdaStress integration\n",
    "\n",
    "\n",
    "**NOTE: This notebook may not run correctly, see ticket RAD-224**\n",
    "\n",
    "This goal of this notebook is to illustrate running [Adaptive Stress Testing](https://www.nasa.gov/content/tech/rse/research/adastress) on fmdtools model using the AdaStress package.\n",
    "\n",
    "For this setup to work, first install:\n",
    "- AdaStress (and related packages) in Julia\n",
    "- fmdtools (and related packages) in Python\n",
    "- PyCall in Julia\n",
    "- PyJulia in Python"
   ]
  },
  {
   "cell_type": "code",
   "execution_count": 1,
   "id": "46221b91",
   "metadata": {
    "execution": {
     "iopub.execute_input": "2023-06-15T10:17:37.185000Z",
     "iopub.status.busy": "2023-06-15T10:17:36.791000Z",
     "iopub.status.idle": "2023-06-15T10:17:45.189000Z",
     "shell.execute_reply": "2023-06-15T10:17:45.127000Z"
    }
   },
   "outputs": [],
   "source": [
    "using Plots\n",
    "using AdaStress"
   ]
  },
  {
   "cell_type": "markdown",
   "id": "4505fa77",
   "metadata": {},
   "source": [
    "### Python setup:\n",
    "\n",
    "First, we get the fmdtools model from its respective folder"
   ]
  },
  {
   "cell_type": "code",
   "execution_count": 2,
   "id": "2267448f",
   "metadata": {
    "execution": {
     "iopub.execute_input": "2023-06-15T10:17:46.426000Z",
     "iopub.status.busy": "2023-06-15T10:17:45.189000Z",
     "iopub.status.idle": "2023-06-15T10:17:52.117000Z",
     "shell.execute_reply": "2023-06-15T10:17:52.117000Z"
    }
   },
   "outputs": [],
   "source": [
    "using PyCall\n",
    "#ENV[\"MPLBACKEND\"]=\"qt5agg\"\n",
    "using PyPlot\n",
    "py\"\"\"\n",
    "import sys, os\n",
    "sys.path.insert(0,os.curdir)\n",
    "sys.path.insert(1,os.path.join('..'))\n",
    "\"\"\""
   ]
  },
  {
   "cell_type": "code",
   "execution_count": 3,
   "id": "09139504",
   "metadata": {
    "execution": {
     "iopub.execute_input": "2023-06-15T10:17:52.863000Z",
     "iopub.status.busy": "2023-06-15T10:17:52.117000Z",
     "iopub.status.idle": "2023-06-15T10:17:52.901000Z",
     "shell.execute_reply": "2023-06-15T10:17:52.901000Z"
    }
   },
   "outputs": [],
   "source": [
    "#pygui_start(:qt)\n",
    "#PyCall.fixqtpath()"
   ]
  },
  {
   "cell_type": "markdown",
   "id": "85b18451",
   "metadata": {},
   "source": [
    "Next, we get the module--in this case we will be using the stochastic pump model in `/example_pump/pump_stochastic`"
   ]
  },
  {
   "cell_type": "code",
   "execution_count": 4,
   "id": "98bcfa5e",
   "metadata": {
    "execution": {
     "iopub.execute_input": "2023-06-15T10:17:52.904000Z",
     "iopub.status.busy": "2023-06-15T10:17:52.904000Z",
     "iopub.status.idle": "2023-06-15T10:17:54.210000Z",
     "shell.execute_reply": "2023-06-15T10:17:54.210000Z"
    }
   },
   "outputs": [],
   "source": [
    "pump_module = pyimport(\"pump_stochastic\")\n",
    "pump_model = pump_module.Pump()"
   ]
  },
  {
   "cell_type": "markdown",
   "id": "68a67d1b",
   "metadata": {},
   "source": [
    "To get the propagation/analysis methods, we can further import the fmdtools packages..."
   ]
  },
  {
   "cell_type": "code",
   "execution_count": 5,
   "id": "dc59387f",
   "metadata": {
    "execution": {
     "iopub.execute_input": "2023-06-15T10:17:54.210000Z",
     "iopub.status.busy": "2023-06-15T10:17:54.210000Z",
     "iopub.status.idle": "2023-06-15T10:17:54.218000Z",
     "shell.execute_reply": "2023-06-15T10:17:54.218000Z"
    }
   },
   "outputs": [],
   "source": [
    "prop = pyimport(\"sim.propagate\")\n",
    "an = pyimport(\"analyze\")"
   ]
  },
  {
   "cell_type": "markdown",
   "id": "8444934b",
   "metadata": {},
   "source": [
    "Example simulation"
   ]
  },
  {
   "cell_type": "code",
   "execution_count": 6,
   "id": "7dcfe4f0",
   "metadata": {
    "execution": {
     "iopub.execute_input": "2023-06-15T10:17:54.218000Z",
     "iopub.status.busy": "2023-06-15T10:17:54.218000Z",
     "iopub.status.idle": "2023-06-15T10:17:54.444000Z",
     "shell.execute_reply": "2023-06-15T10:17:54.444000Z"
    }
   },
   "outputs": [],
   "source": [
    "endresult, mdlhist = prop.nominal(pump_model, run_stochastic=true);"
   ]
  },
  {
   "cell_type": "markdown",
   "id": "17405c00",
   "metadata": {},
   "source": [
    "NOTE: in order for `an.plot.mdlhists` to work correctly, make sure to use the `Using PyCall` command at the beginning."
   ]
  },
  {
   "cell_type": "code",
   "execution_count": 7,
   "id": "266479ce",
   "metadata": {
    "execution": {
     "iopub.execute_input": "2023-06-15T10:17:54.444000Z",
     "iopub.status.busy": "2023-06-15T10:17:54.444000Z",
     "iopub.status.idle": "2023-06-15T10:17:58.497000Z",
     "shell.execute_reply": "2023-06-15T10:17:58.497000Z"
    }
   },
   "outputs": [],
   "source": [
    "fig, axs = an.plot.hist(mdlhist, \"fxns.move_water.s.eff\", \n",
    "                                 \"fxns.move_water.s.total_flow\", \n",
    "                                 \"flows.wat_2.s.flowrate\", \n",
    "                                 \"flows.wat_2.s.pressure\")"
   ]
  },
  {
   "cell_type": "markdown",
   "id": "153ace5a",
   "metadata": {},
   "source": [
    "## AdaStress Setup\n",
    "\n",
    "Interfacing AdaStress with fmdtools models is enabled by the `DynamicProblem` class in `sim.search` (though this can also be done manually). See below. "
   ]
  },
  {
   "cell_type": "code",
   "execution_count": 8,
   "id": "a48dc64c",
   "metadata": {
    "execution": {
     "iopub.execute_input": "2023-06-15T10:17:58.497000Z",
     "iopub.status.busy": "2023-06-15T10:17:58.497000Z",
     "iopub.status.idle": "2023-06-15T10:17:58.505000Z",
     "shell.execute_reply": "2023-06-15T10:17:58.505000Z"
    }
   },
   "outputs": [],
   "source": [
    "search = pyimport(\"sim.search\")\n",
    "DynamicProblem = search.DynamicInterface"
   ]
  },
  {
   "cell_type": "code",
   "execution_count": 9,
   "id": "ef67cf58",
   "metadata": {
    "execution": {
     "iopub.execute_input": "2023-06-15T10:17:58.505000Z",
     "iopub.status.busy": "2023-06-15T10:17:58.505000Z",
     "iopub.status.idle": "2023-06-15T10:17:58.515000Z",
     "shell.execute_reply": "2023-06-15T10:17:58.515000Z"
    }
   },
   "outputs": [],
   "source": [
    "prob = DynamicProblem(pump_model)"
   ]
  },
  {
   "cell_type": "markdown",
   "id": "760aa341",
   "metadata": {},
   "source": [
    "Defining the simulation is quite simple with the DynamicProblem class. Note the possible options from this class"
   ]
  },
  {
   "cell_type": "code",
   "execution_count": 10,
   "id": "06627f99",
   "metadata": {
    "execution": {
     "iopub.execute_input": "2023-06-15T10:17:58.517000Z",
     "iopub.status.busy": "2023-06-15T10:17:58.517000Z",
     "iopub.status.idle": "2023-06-15T10:17:59.007000Z",
     "shell.execute_reply": "2023-06-15T10:17:59.007000Z"
    }
   },
   "outputs": [],
   "source": [
    "?DynamicProblem.__init__"
   ]
  },
  {
   "cell_type": "code",
   "execution_count": 11,
   "id": "c94fe3cc",
   "metadata": {
    "execution": {
     "iopub.execute_input": "2023-06-15T10:17:59.007000Z",
     "iopub.status.busy": "2023-06-15T10:17:59.007000Z",
     "iopub.status.idle": "2023-06-15T10:17:59.365000Z",
     "shell.execute_reply": "2023-06-15T10:17:59.365000Z"
    }
   },
   "outputs": [],
   "source": [
    "Base.@kwdef mutable struct PumpSim <: AdaStress.BlackBox\n",
    "    sim::PyObject = DynamicProblem(pump_model)\n",
    "end"
   ]
  },
  {
   "cell_type": "code",
   "execution_count": 12,
   "id": "933cf0b5",
   "metadata": {
    "execution": {
     "iopub.execute_input": "2023-06-15T10:17:59.365000Z",
     "iopub.status.busy": "2023-06-15T10:17:59.365000Z",
     "iopub.status.idle": "2023-06-15T10:17:59.592000Z",
     "shell.execute_reply": "2023-06-15T10:17:59.592000Z"
    }
   },
   "outputs": [],
   "source": [
    "function initialize!(sim::PumpSim)\n",
    "    sim.sim = DynamicProblem(pump_model)\n",
    "end"
   ]
  },
  {
   "cell_type": "markdown",
   "id": "57a3d513",
   "metadata": {},
   "source": [
    "Updating is further enabled by DynamicProblem.update"
   ]
  },
  {
   "cell_type": "code",
   "execution_count": 13,
   "id": "fd7159cd",
   "metadata": {
    "execution": {
     "iopub.execute_input": "2023-06-15T10:17:59.600000Z",
     "iopub.status.busy": "2023-06-15T10:17:59.600000Z",
     "iopub.status.idle": "2023-06-15T10:17:59.600000Z",
     "shell.execute_reply": "2023-06-15T10:17:59.600000Z"
    }
   },
   "outputs": [],
   "source": [
    "?DynamicProblem.update"
   ]
  },
  {
   "cell_type": "code",
   "execution_count": 14,
   "id": "87be1b0f",
   "metadata": {
    "execution": {
     "iopub.execute_input": "2023-06-15T10:17:59.600000Z",
     "iopub.status.busy": "2023-06-15T10:17:59.600000Z",
     "iopub.status.idle": "2023-06-15T10:17:59.710000Z",
     "shell.execute_reply": "2023-06-15T10:17:59.710000Z"
    }
   },
   "outputs": [],
   "source": [
    "function update!(sim::PumpSim)\n",
    "    seed = rand(0:1_000_000_000)\n",
    "    returns = sim.sim.update(seed=seed)\n",
    "    return log(returns[\"pdf\"]) # note: needs to return a probability from somewhere - needs to be a log pdf?\n",
    "end"
   ]
  },
  {
   "cell_type": "markdown",
   "id": "0804eed8",
   "metadata": {},
   "source": [
    "Model end-states can be interfaced with using `DynamicProblem.check_sim_end`, which additionally accomodates external conditions."
   ]
  },
  {
   "cell_type": "code",
   "execution_count": 15,
   "id": "ea418b84",
   "metadata": {
    "execution": {
     "iopub.execute_input": "2023-06-15T10:17:59.710000Z",
     "iopub.status.busy": "2023-06-15T10:17:59.710000Z",
     "iopub.status.idle": "2023-06-15T10:17:59.789000Z",
     "shell.execute_reply": "2023-06-15T10:17:59.789000Z"
    }
   },
   "outputs": [],
   "source": [
    "function isterminal!(sim::PumpSim)\n",
    "    has_faults = sim.sim.mdl.fxns[\"move_water\"].m.any_faults() # our external condition\n",
    "    terminal = sim.sim.check_sim_end(external_condition=has_faults)\n",
    "    return terminal\n",
    "end"
   ]
  },
  {
   "cell_type": "code",
   "execution_count": 16,
   "id": "4ecc3e3f",
   "metadata": {
    "execution": {
     "iopub.execute_input": "2023-06-15T10:17:59.804000Z",
     "iopub.status.busy": "2023-06-15T10:17:59.804000Z",
     "iopub.status.idle": "2023-06-15T10:17:59.889000Z",
     "shell.execute_reply": "2023-06-15T10:17:59.889000Z"
    }
   },
   "outputs": [],
   "source": [
    "function isevent!(sim::PumpSim)\n",
    "    faults = sim.sim.mdl.fxns[\"move_water\"].m.any_faults()\n",
    "    return faults\n",
    "end"
   ]
  },
  {
   "cell_type": "markdown",
   "id": "46c84a95",
   "metadata": {},
   "source": [
    "Finally, the below shows the full setup:"
   ]
  },
  {
   "cell_type": "code",
   "execution_count": 17,
   "id": "2e90ff57",
   "metadata": {
    "execution": {
     "iopub.execute_input": "2023-06-15T10:17:59.889000Z",
     "iopub.status.busy": "2023-06-15T10:17:59.889000Z",
     "iopub.status.idle": "2023-06-15T10:17:59.889000Z",
     "shell.execute_reply": "2023-06-15T10:17:59.889000Z"
    }
   },
   "outputs": [],
   "source": [
    "AdaStress.reset!(sim::PumpSim) = initialize!(sim)\n",
    "AdaStress.step!(sim::PumpSim) = update!(sim)\n",
    "AdaStress.isterminal(sim::PumpSim) = isterminal!(sim)\n",
    "AdaStress.isevent(sim::PumpSim) = isevent!(sim)     # difficult: get pressure > 15 ten times\n",
    "# AdaStress.isevent(sim::PumpSim) = 15.0-sim.mdl.flows[\"Wat_1\"].pressure <= 0 # - easy: just get pressure > 15 (once!)\n",
    "#AdaStress.distance(sim::PumpSim) = 15.0-sim.mdl.flows[\"Wat_1\"].pressure\n",
    "AdaStress.distance(sim::PumpSim) = float(sum(sim.sim.hist.flows.wat_1.s.pressure.<=15))"
   ]
  },
  {
   "cell_type": "markdown",
   "id": "7d67cf2f",
   "metadata": {},
   "source": [
    "### Running AdaStress Methods\n",
    "\n",
    "Monte Carlo Search"
   ]
  },
  {
   "cell_type": "code",
   "execution_count": 18,
   "id": "4654a064",
   "metadata": {
    "execution": {
     "iopub.execute_input": "2023-06-15T10:17:59.889000Z",
     "iopub.status.busy": "2023-06-15T10:17:59.889000Z",
     "iopub.status.idle": "2023-06-15T10:18:00.174000Z",
     "shell.execute_reply": "2023-06-15T10:18:00.174000Z"
    }
   },
   "outputs": [],
   "source": [
    "mcs = AdaStress.Solvers.MCS(num_iterations=10_00)"
   ]
  },
  {
   "cell_type": "code",
   "execution_count": 19,
   "id": "8186e879",
   "metadata": {
    "execution": {
     "iopub.execute_input": "2023-06-15T10:18:00.174000Z",
     "iopub.status.busy": "2023-06-15T10:18:00.174000Z",
     "iopub.status.idle": "2023-06-15T10:18:00.528000Z",
     "shell.execute_reply": "2023-06-15T10:18:00.528000Z"
    }
   },
   "outputs": [],
   "source": [
    "mdp = AdaStress.ASTMDP(PumpSim())\n",
    "mdp.reward.event_bonus = 200.0"
   ]
  },
  {
   "cell_type": "code",
   "execution_count": 20,
   "id": "0a8f52cb",
   "metadata": {
    "execution": {
     "iopub.execute_input": "2023-06-15T10:18:00.544000Z",
     "iopub.status.busy": "2023-06-15T10:18:00.544000Z",
     "iopub.status.idle": "2023-06-15T10:18:00.560000Z",
     "shell.execute_reply": "2023-06-15T10:18:00.560000Z"
    }
   },
   "outputs": [],
   "source": [
    "using Random"
   ]
  },
  {
   "cell_type": "code",
   "execution_count": 21,
   "id": "45fbe92a",
   "metadata": {
    "execution": {
     "iopub.execute_input": "2023-06-15T10:18:00.560000Z",
     "iopub.status.busy": "2023-06-15T10:18:00.560000Z",
     "iopub.status.idle": "2023-06-15T10:18:03.959000Z",
     "shell.execute_reply": "2023-06-15T10:18:03.959000Z"
    }
   },
   "outputs": [],
   "source": [
    "Random.seed!(0)\n",
    "sol = mcs(() -> mdp)"
   ]
  },
  {
   "cell_type": "code",
   "execution_count": 45,
   "id": "cc905111",
   "metadata": {},
   "outputs": [],
   "source": [
    "i=0\n",
    "mdlhists = Dict()\n",
    "for (result, r) in sol\n",
    "    AdaStress.replay!(mdp, result)\n",
    "    mdlhists[string(\"scen\", i)] = mdp.sim.sim.hist\n",
    "    i+=1\n",
    "end\n",
    "mdlhists = an.result.History(mdlhists)\n",
    "mdlhists = mdlhists.flatten()"
   ]
  },
  {
   "cell_type": "code",
   "execution_count": 52,
   "id": "d39d5238",
   "metadata": {},
   "outputs": [],
   "source": [
    "an.plot.hist(mdlhists, \"fxns.move_water.s.eff\", \n",
    "                        \"fxns.move_water.s.total_flow\", \n",
    "                        \"flows.wat_2.s.flowrate\", \n",
    "                        \"flows.wat_2.s.pressure\", comp_groups=Dict())"
   ]
  },
  {
   "cell_type": "markdown",
   "id": "694dfcca",
   "metadata": {},
   "source": [
    "### MCTS\n",
    "\n",
    "Monte Carlo Tree Search"
   ]
  },
  {
   "cell_type": "code",
   "execution_count": 28,
   "id": "19fc8863",
   "metadata": {},
   "outputs": [],
   "source": [
    "mcts = AdaStress.Solvers.MCTS(num_iterations=1000)"
   ]
  },
  {
   "cell_type": "code",
   "execution_count": 29,
   "id": "baf75882",
   "metadata": {},
   "outputs": [],
   "source": [
    "Random.seed!(0)\n",
    "@time sol = mcts(() -> mdp)"
   ]
  },
  {
   "cell_type": "code",
   "execution_count": 30,
   "id": "1d049974",
   "metadata": {},
   "outputs": [],
   "source": [
    "i=0\n",
    "mdlhists2 = Dict()\n",
    "for (result, r) in sol\n",
    "    AdaStress.replay!(mdp, result)\n",
    "    mdlhists2[i] = mdp.sim.sim.log\n",
    "    i+=1\n",
    "end"
   ]
  },
  {
   "cell_type": "code",
   "execution_count": 31,
   "id": "0d6c7d7d",
   "metadata": {},
   "outputs": [],
   "source": [
    "an.plot.mdlhists(mdlhists2, fxnflowvals=fxnflows2, aggregation=\"percentile\")"
   ]
  },
  {
   "cell_type": "code",
   "execution_count": 32,
   "id": "5ddbf6bc",
   "metadata": {},
   "outputs": [],
   "source": [
    "fxnflows = Dict(\"MoveWater\"=>[\"pressure\",\"faults\"], \"Wat_2\"=>[\"flowrate\",\"pressure\"])\n",
    "an.plot.mdlhists(mdlhists2, fxnflowvals=fxnflows, legend_loc=1)"
   ]
  },
  {
   "cell_type": "markdown",
   "id": "796eacc7",
   "metadata": {},
   "source": [
    "As we can see, MCTS finds more breakage faults (8 instead of 3), as a result of being a more informed search method."
   ]
  },
  {
   "cell_type": "markdown",
   "id": "dda77c6a",
   "metadata": {},
   "source": [
    "## Grey Box Methods\n",
    "\n",
    "As opposed to black box methods, which share no information about the system state with the agent, grey box methods let the agent sample the random distributions and pass disturbances to the model directly, rather than just passing seeds.\n",
    "\n",
    "Implementation is based off of: https://github.com/NASA-SW-VnV/AdaStress.jl/blob/master/examples/walk2d/walk2d.ipynb"
   ]
  },
  {
   "cell_type": "code",
   "execution_count": 33,
   "id": "ead2f54c",
   "metadata": {},
   "outputs": [],
   "source": [
    "using AdaStress\n",
    "import AdaStress.GrayBox\n",
    "using Distributions\n",
    "using Random"
   ]
  },
  {
   "cell_type": "markdown",
   "id": "3064d55e",
   "metadata": {},
   "source": [
    "### Pump"
   ]
  },
  {
   "cell_type": "markdown",
   "id": "4ba2b6a9",
   "metadata": {},
   "source": [
    "To use the gray box method, we have to first define which variables in the model to sample/update. fmdtools models have two types of random states:\n",
    "- general random states, which are updated in the behavioral method (whose distributions thus cannot be accessed without looking at the code)\n",
    "- auto-updating random states, which are updated from a given distribution defined with auto_update=(dist,params). These distributions can be accessed directly from the model.\n",
    "\n",
    "Both can be queried in AdaStress, but using different methods. In general, however, using a Gray Box method means that *all* stochastic behavior (desired by the analysis) should be represented in AdaStress/Julia, since integration relies on running the model as deterministic.\n",
    "\n",
    "Below are the random states of the model:"
   ]
  },
  {
   "cell_type": "code",
   "execution_count": 34,
   "id": "78389ef5",
   "metadata": {},
   "outputs": [],
   "source": [
    "rand_states = pump_model.get_rand_states()"
   ]
  },
  {
   "cell_type": "markdown",
   "id": "7217502a",
   "metadata": {},
   "source": [
    "As well as the auto-updating random states:"
   ]
  },
  {
   "cell_type": "code",
   "execution_count": 35,
   "id": "38cf8386",
   "metadata": {},
   "outputs": [],
   "source": [
    "rand_states = pump_model.get_rand_states(auto_update_only=true)"
   ]
  },
  {
   "cell_type": "markdown",
   "id": "7910fc1c",
   "metadata": {},
   "source": [
    "Because of the different methods that julia/AdaStress uses to sample random distributions, these distributions need to be re-implemented in julia. In this example we do this for the eff parameter in MoveWater.\n",
    "\n",
    "Below we create a `Pump` struct, and define random disturbances which will affect the model."
   ]
  },
  {
   "cell_type": "code",
   "execution_count": 36,
   "id": "f7006ee2",
   "metadata": {},
   "outputs": [],
   "source": [
    "#define distributions for the model\n",
    "#Base.@kwdef mutable struct Init_Rand_Params\n",
    "#    eff::Distribution = Normal(1.0, 0.2)\n",
    "#end\n",
    "#Base.@kwdef mutable struct Pump\n",
    "#    t::Float64=0.0\n",
    "#    t_max::Float64=last(pump_model.times)\n",
    "#    t_ind::Int=0\n",
    "#    mdl::PyObject = pump_model\n",
    "#end\n",
    "#function initialize(pump::Pump, init::Init_Rand_Params)\n",
    "#    pump.mdl = pump.mdl.__class__()\n",
    "#    pump.mdl.fxns[\"MoveWater\"].eff = rand(init.eff)\n",
    "#end\n",
    "\n",
    "#function update(pump::Pump, eff::Float64)\n",
    "#    pump.mdl.fxns[\"MoveWater\"].eff = eff\n",
    "#end"
   ]
  },
  {
   "cell_type": "markdown",
   "id": "22aae2eb",
   "metadata": {},
   "source": [
    "Disturbance and failure models"
   ]
  },
  {
   "cell_type": "code",
   "execution_count": 37,
   "id": "1f55a498",
   "metadata": {},
   "outputs": [],
   "source": [
    "#Base.@kwdef mutable struct Disturbance\n",
    "#    eff::Distribution = Normal(1.0, 0.2)\n",
    "#end"
   ]
  },
  {
   "cell_type": "markdown",
   "id": "2a03c807",
   "metadata": {},
   "source": [
    "System under test: okay to remove, often refers to policy that we are trying to test within the system dynamics"
   ]
  },
  {
   "cell_type": "code",
   "execution_count": 38,
   "id": "901a9ede",
   "metadata": {},
   "outputs": [],
   "source": [
    "#mutable struct SystemUnderTest\n",
    "#    eff::Float64\n",
    "#end\n",
    "#update(pump::Pump, sut::SystemUnderTest) = update(pump, sut.eff)"
   ]
  },
  {
   "cell_type": "markdown",
   "id": "f5e646ab",
   "metadata": {},
   "source": [
    "### Simulator\n",
    "The simulator is roughly the same as the simulation for the black box model except it has an `environment` which samples stochastic variables and then changes parameters in the model. Note that in this case `run_stochastic` is set to `false`, since the variables are being sampled in AdaStress itself (rather than the model)."
   ]
  },
  {
   "cell_type": "code",
   "execution_count": 39,
   "id": "ff7af46e",
   "metadata": {},
   "outputs": [],
   "source": [
    "Base.@kwdef mutable struct Simulator <: AdaStress.GrayBox\n",
    "    sim::PyObject = DynamicProblem(pump_model)\n",
    "    env::AdaStress.Environment = AdaStress.Environment()\n",
    "end\n",
    "\n",
    "function initialize(sim::Simulator)\n",
    "    sim.env[:eff] = Normal(1.0, 0.2) #creating  \n",
    "    sim.sim=DynamicProblem(pump_model, run_stochastic=false)\n",
    "    return\n",
    "end\n",
    "\n",
    "function update!(sim::Simulator, value::AdaStress.EnvironmentValue)\n",
    "    #sim.mdl.set_values(\"MoveWater.eff\", value[:eff])\n",
    "    disturbances=Dict(\"MoveWater.eff\"=>value[:eff])\n",
    "    sim.sim.update(disturbances=disturbances)\n",
    "    return\n",
    "end"
   ]
  },
  {
   "cell_type": "markdown",
   "id": "dde5af67",
   "metadata": {},
   "source": [
    "The isterminal and isevent functions will be the same as in the black box model."
   ]
  },
  {
   "cell_type": "code",
   "execution_count": 40,
   "id": "1c045ee6",
   "metadata": {},
   "outputs": [],
   "source": [
    "function isterminal!(sim::Simulator)\n",
    "    has_faults = sim.sim.mdl.fxns[\"MoveWater\"].any_faults() # our external condition\n",
    "    terminal = sim.sim.check_sim_end(external_condition=has_faults)\n",
    "    return terminal\n",
    "end\n",
    "function isevent!(sim::Simulator)\n",
    "    faults = sim.sim.mdl.fxns[\"MoveWater\"].any_faults() \n",
    "    return faults\n",
    "end"
   ]
  },
  {
   "cell_type": "markdown",
   "id": "7e67b888",
   "metadata": {},
   "source": [
    "The interface to adastress is set up below. Of note is the observation interface, which observes `eff` (which is also the action in this simple setup)"
   ]
  },
  {
   "cell_type": "code",
   "execution_count": 41,
   "id": "1181b995",
   "metadata": {},
   "outputs": [],
   "source": [
    "Interface.reset!(sim::Simulator) = initialize(sim)\n",
    "\n",
    "Interface.environment(sim::Simulator) = sim.env\n",
    "\n",
    "Interface.observe(sim::Simulator) = vcat(sim.sim.mdl.flows[\"Wat_2\"].pressure, sim.sim.t / sim.sim.t_max)\n",
    "\n",
    "Interface.step!(sim::Simulator, value::AdaStress.EnvironmentValue) = update!(sim, value)\n",
    "\n",
    "Interface.isterminal(sim::Simulator) = isterminal!(sim)\n",
    "\n",
    "Interface.isevent(sim::Simulator) = isevent!(sim)\n",
    "\n",
    "Interface.distance(sim::Simulator) = float(sum([(16-max(min(i,16), 0))^2 for i in sim.sim.log[\"flows\"][\"Wat_1\"][\"pressure\"]]))"
   ]
  },
  {
   "cell_type": "code",
   "execution_count": 42,
   "id": "0d4dfab8",
   "metadata": {},
   "outputs": [],
   "source": [
    "function mdp_env(; kwargs...)\n",
    "    mdp = Interface.ASTMDP(Simulator(; kwargs...))\n",
    "    mdp.rewaan.event_bonus = 2000.0\n",
    "    return mdp\n",
    "end"
   ]
  },
  {
   "cell_type": "markdown",
   "id": "29c4f6d5",
   "metadata": {},
   "source": [
    "Now using the gray box mdp solver:"
   ]
  },
  {
   "cell_type": "code",
   "execution_count": 43,
   "id": "0b1cf116",
   "metadata": {},
   "outputs": [],
   "source": [
    "AdaStress.enable(\"SoftActorCritic\")\n",
    "using AdaStress.SoftActorCritic"
   ]
  },
  {
   "cell_type": "code",
   "execution_count": 44,
   "id": "21a23704",
   "metadata": {},
   "outputs": [],
   "source": [
    "Random.seed!(0)\n",
    "sac = SAC(;\n",
    "    obs_dim=2, \n",
    "    act_dim=1,\n",
    "    gamma=0.95,\n",
    "    act_mins=-1*ones(1),    #number of standard deviations\n",
    "    act_maxs=10*ones(1),\n",
    "    hidden_sizes=[30,30,30],\n",
    "    num_q=2,\n",
    "    max_buffer_size=1000000,\n",
    "    batch_size=128,\n",
    "    epochs=100,\n",
    "    update_after=0,\n",
    "    update_every=1,\n",
    "    steps_per_epoch=54,\n",
    "    start_steps=100,\n",
    "    max_ep_len=54,\n",
    "    num_test_episodes=100,\n",
    "    displays=[(:fails, mdp -> mdp.sim.sim.mdl.fxns[\"MoveWater\"].has_fault(\"mech_break\") )],\n",
    "    use_gpu=false\n",
    ")\n",
    "\n",
    "SoftActorCritic.ProgressMeter.ijulia_behavior(:clear)\n",
    "ac, info = sac(mdp_env)"
   ]
  },
  {
   "cell_type": "code",
   "execution_count": 45,
   "id": "7a0eaa77",
   "metadata": {},
   "outputs": [],
   "source": [
    "using PyPlot"
   ]
  },
  {
   "cell_type": "code",
   "execution_count": 46,
   "id": "b172aadf",
   "metadata": {},
   "outputs": [],
   "source": [
    "plt.plot(info[\"fails\"])"
   ]
  },
  {
   "cell_type": "code",
   "execution_count": 47,
   "id": "64fc9be8",
   "metadata": {},
   "outputs": [],
   "source": [
    "plt.plot(info[\"score\"])"
   ]
  },
  {
   "cell_type": "code",
   "execution_count": 48,
   "id": "9eebffd7",
   "metadata": {},
   "outputs": [],
   "source": [
    "ac"
   ]
  },
  {
   "cell_type": "code",
   "execution_count": 49,
   "id": "85d90481",
   "metadata": {},
   "outputs": [],
   "source": [
    "i=0\n",
    "mdlhists3 = Dict()\n",
    "mdp = mdp_env()\n",
    "for i in 1:100\n",
    "    a= AdaStress.replay!(mdp, ac)\n",
    "    mdlhists3[i] = mdp.sim.sim.log\n",
    "    i+=1\n",
    "end"
   ]
  },
  {
   "cell_type": "code",
   "execution_count": 50,
   "id": "d69724e9",
   "metadata": {},
   "outputs": [],
   "source": [
    "a= AdaStress.replay!(mdp, ac)"
   ]
  },
  {
   "cell_type": "code",
   "execution_count": 51,
   "id": "5bd8ddcb",
   "metadata": {},
   "outputs": [],
   "source": [
    "info"
   ]
  },
  {
   "cell_type": "code",
   "execution_count": 52,
   "id": "009b78fb",
   "metadata": {},
   "outputs": [],
   "source": [
    "fxnflows = Dict(\"MoveWater\"=>[\"eff\",\"total_flow\"], \"Wat_2\"=>[\"flowrate\",\"pressure\"])\n",
    "an.plot.mdlhists(mdlhists3, fxnflowvals=fxnflows, legend_loc=0)"
   ]
  },
  {
   "cell_type": "code",
   "execution_count": 53,
   "id": "acbae5ea",
   "metadata": {},
   "outputs": [],
   "source": [
    "fxnflows = Dict(\"MoveWater\"=>[\"pressure\",\"faults\"], \"Wat_2\"=>[\"flowrate\",\"pressure\"])\n",
    "an.plot.mdlhists(mdlhists3, fxnflowvals=fxnflows, legend_loc=0)"
   ]
  },
  {
   "cell_type": "code",
   "execution_count": null,
   "id": "e220ae47",
   "metadata": {},
   "outputs": [],
   "source": []
  }
 ],
 "metadata": {
  "kernelspec": {
   "display_name": "Julia 1.8.5",
   "language": "julia",
   "name": "julia-1.8"
  },
  "language_info": {
   "file_extension": ".jl",
   "mimetype": "application/julia",
   "name": "julia",
   "version": "1.8.5"
  },
  "varInspector": {
   "cols": {
    "lenName": 16,
    "lenType": 16,
    "lenVar": 40
   },
   "kernels_config": {
    "python": {
     "delete_cmd_postfix": "",
     "delete_cmd_prefix": "del ",
     "library": "var_list.py",
     "varRefreshCmd": "print(var_dic_list())"
    },
    "r": {
     "delete_cmd_postfix": ") ",
     "delete_cmd_prefix": "rm(",
     "library": "var_list.r",
     "varRefreshCmd": "cat(var_dic_list()) "
    }
   },
   "types_to_exclude": [
    "module",
    "function",
    "builtin_function_or_method",
    "instance",
    "_Feature"
   ],
   "window_display": false
  }
 },
 "nbformat": 4,
 "nbformat_minor": 5
}
