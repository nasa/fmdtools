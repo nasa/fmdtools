{
 "cells": [
  {
   "cell_type": "markdown",
   "id": "fe41d669",
   "metadata": {},
   "source": [
    "# Optimization using the ProblemInterface class\n",
    "\n",
    "This notebook will show the basics of setting up a resilience optimization problem with the `Problem` class in `fmdtools.sim.search` module."
   ]
  },
  {
   "cell_type": "code",
   "execution_count": 1,
   "id": "43a662d2",
   "metadata": {
    "execution": {
     "iopub.execute_input": "2024-05-10T18:28:47.142003Z",
     "iopub.status.busy": "2024-05-10T18:28:47.142003Z",
     "iopub.status.idle": "2024-05-10T18:28:48.351759Z",
     "shell.execute_reply": "2024-05-10T18:28:48.351759Z"
    }
   },
   "outputs": [],
   "source": [
    "import fmdtools.analyze as an\n",
    "from pump_stochastic import Pump"
   ]
  },
  {
   "cell_type": "markdown",
   "id": "8c7be27e",
   "metadata": {},
   "source": [
    "### Problem Setup\n",
    "The `search` module can be used to define an optimization problem around and fmdtools model/simulation in terms of variables, objectives, and constraints.\n",
    "\n",
    "Different classes enable the optimization of faults, disturbances, and parameters. Below we define a `DisturbanceProblem`, which will optimize the `s.eff` state in the `move_water` function at time `t=20`"
   ]
  },
  {
   "cell_type": "code",
   "execution_count": 2,
   "id": "949e8a24",
   "metadata": {
    "execution": {
     "iopub.execute_input": "2024-05-10T18:28:48.351759Z",
     "iopub.status.busy": "2024-05-10T18:28:48.351759Z",
     "iopub.status.idle": "2024-05-10T18:28:48.371782Z",
     "shell.execute_reply": "2024-05-10T18:28:48.371782Z"
    }
   },
   "outputs": [],
   "source": [
    "from fmdtools.sim.search import DisturbanceProblem\n",
    "mdl=Pump()\n",
    "new_problem = DisturbanceProblem(mdl, 20, \"move_water.r.s.eff\", faultseq={14: {\"import_water\": \"less_wat\"}})"
   ]
  },
  {
   "cell_type": "markdown",
   "id": "931b612b",
   "metadata": {},
   "source": [
    "In this case, we are optimizing the total flow in the `MoveWater` function as read at time t=25. "
   ]
  },
  {
   "cell_type": "code",
   "execution_count": 3,
   "id": "0a0da861",
   "metadata": {
    "execution": {
     "iopub.execute_input": "2024-05-10T18:28:48.371782Z",
     "iopub.status.busy": "2024-05-10T18:28:48.371782Z",
     "iopub.status.idle": "2024-05-10T18:28:48.391976Z",
     "shell.execute_reply": "2024-05-10T18:28:48.391848Z"
    }
   },
   "outputs": [],
   "source": [
    "new_problem.add_result_objective(\"f1\", \"move_water.s.total_flow\", time=25, negative=True)"
   ]
  },
  {
   "cell_type": "markdown",
   "id": "b6580b4f",
   "metadata": {},
   "source": [
    "We can additionally add constraints to the problem, in this case pressure as read at t=25."
   ]
  },
  {
   "cell_type": "code",
   "execution_count": 4,
   "id": "3a36c2c5",
   "metadata": {
    "execution": {
     "iopub.execute_input": "2024-05-10T18:28:48.391976Z",
     "iopub.status.busy": "2024-05-10T18:28:48.391976Z",
     "iopub.status.idle": "2024-05-10T18:28:48.411938Z",
     "shell.execute_reply": "2024-05-10T18:28:48.411811Z"
    }
   },
   "outputs": [],
   "source": [
    "new_problem.add_result_constraint('g1', \"wat_1.s.pressure\", time=25, threshold=20, comparator='less', negative=True)"
   ]
  },
  {
   "cell_type": "markdown",
   "id": "f87a3eee",
   "metadata": {},
   "source": [
    "Note that if all objectives and constraints are sampled in time before the defined simulation end-point, it will finish before completion to save computational time.\n"
   ]
  },
  {
   "cell_type": "code",
   "execution_count": 5,
   "id": "511557c0",
   "metadata": {
    "execution": {
     "iopub.execute_input": "2024-05-10T18:28:48.411938Z",
     "iopub.status.busy": "2024-05-10T18:28:48.411938Z",
     "iopub.status.idle": "2024-05-10T18:28:48.431814Z",
     "shell.execute_reply": "2024-05-10T18:28:48.431814Z"
    }
   },
   "outputs": [
    {
     "data": {
      "text/plain": [
       "DisturbanceProblem with:\n",
       "VARIABLES\n",
       " -move_water.r.s.eff                                            nan\n",
       "OBJECTIVES\n",
       " -f1                                                            nan\n",
       "CONSTRAINTS\n",
       " -g1                                                            nan"
      ]
     },
     "execution_count": 5,
     "metadata": {},
     "output_type": "execute_result"
    }
   ],
   "source": [
    "new_problem"
   ]
  },
  {
   "cell_type": "markdown",
   "id": "1b67abce",
   "metadata": {},
   "source": [
    "The string representation of the problem shows how the objectives/constraints have been set up, that reflects:\n",
    "- the form of the objectives as positive or negative for maximization/minimization (set with the `metric` parameter in `add_objective`).\n",
    "- the form of the constraints as positive or negative based on the `threshold` parameter in `add_constraint` and overall `negative` kwargs.\n",
    "\n",
    "These parameters will need to be adjusted depending on whether the interfacing optimization package is set up for minimization or maximization or in positive or negative null form (where feasible means positive or negative constraint values)."
   ]
  },
  {
   "cell_type": "markdown",
   "id": "7f61cea4",
   "metadata": {},
   "source": [
    "### Problem interfaces\n",
    "Now that this problem is set up, we now have interfaces which can be passed to optimization methods. These are methods which *match the names of the objectives/constraints defined earlier* which can be passed as callables to optimizaiton methods."
   ]
  },
  {
   "cell_type": "code",
   "execution_count": 6,
   "id": "0037f6c3",
   "metadata": {
    "execution": {
     "iopub.execute_input": "2024-05-10T18:28:48.433357Z",
     "iopub.status.busy": "2024-05-10T18:28:48.433357Z",
     "iopub.status.idle": "2024-05-10T18:28:48.561646Z",
     "shell.execute_reply": "2024-05-10T18:28:48.561646Z"
    }
   },
   "outputs": [
    {
     "data": {
      "text/plain": [
       "-5.5200000000000005"
      ]
     },
     "execution_count": 6,
     "metadata": {},
     "output_type": "execute_result"
    }
   ],
   "source": [
    "new_problem.f1(1)\n",
    "new_problem.f1(0.5)\n",
    "new_problem.f1(1.5)\n",
    "new_problem.f1(2)\n",
    "new_problem.f1(0.3)"
   ]
  },
  {
   "cell_type": "markdown",
   "id": "56549fee",
   "metadata": {},
   "source": [
    "Note that despite being different callables, to reduce simulation costs, `obj_1` and `con_1` only *simulate the model* when a new variable value is entered into the problem. This can be seen by looking at the `current_iter` __repr__, which shows the values of the objectives/constraints a the current variable value."
   ]
  },
  {
   "cell_type": "code",
   "execution_count": 7,
   "id": "eef9a628",
   "metadata": {
    "execution": {
     "iopub.execute_input": "2024-05-10T18:28:48.561646Z",
     "iopub.status.busy": "2024-05-10T18:28:48.561646Z",
     "iopub.status.idle": "2024-05-10T18:28:48.581948Z",
     "shell.execute_reply": "2024-05-10T18:28:48.581882Z"
    }
   },
   "outputs": [
    {
     "data": {
      "text/plain": [
       "DisturbanceProblem with:\n",
       "VARIABLES\n",
       " -move_water.r.s.eff                                         0.3000\n",
       "OBJECTIVES\n",
       " -f1                                                        -5.5200\n",
       "CONSTRAINTS\n",
       " -g1                                                        18.5000"
      ]
     },
     "execution_count": 7,
     "metadata": {},
     "output_type": "execute_result"
    }
   ],
   "source": [
    "new_problem"
   ]
  },
  {
   "cell_type": "markdown",
   "id": "b4ba6c0e",
   "metadata": {},
   "source": [
    "Additionally, we can look at the `iter_hist` iteration history for the problem."
   ]
  },
  {
   "cell_type": "code",
   "execution_count": 8,
   "id": "2d42ba2e",
   "metadata": {
    "execution": {
     "iopub.execute_input": "2024-05-10T18:28:48.581948Z",
     "iopub.status.busy": "2024-05-10T18:28:48.581948Z",
     "iopub.status.idle": "2024-05-10T18:28:48.931608Z",
     "shell.execute_reply": "2024-05-10T18:28:48.931608Z"
    }
   },
   "outputs": [
    {
     "data": {
      "image/png": "[encoded data removed]",
      "text/plain": [
       "<Figure size 600x400 with 4 Axes>"
      ]
     },
     "metadata": {},
     "output_type": "display_data"
    }
   ],
   "source": [
    "fig, ax = new_problem.iter_hist.plot_line('objectives.f1', 'variables.move_water.r.s.eff',\n",
    "                                          'constraints.g1')"
   ]
  },
  {
   "cell_type": "markdown",
   "id": "b060cef1",
   "metadata": {},
   "source": [
    "As well as the actual history of the sim at the current variable value:"
   ]
  },
  {
   "cell_type": "code",
   "execution_count": 9,
   "id": "ca0a7fbc",
   "metadata": {
    "execution": {
     "iopub.execute_input": "2024-05-10T18:28:48.934188Z",
     "iopub.status.busy": "2024-05-10T18:28:48.934188Z",
     "iopub.status.idle": "2024-05-10T18:28:51.737860Z",
     "shell.execute_reply": "2024-05-10T18:28:51.736851Z"
    }
   },
   "outputs": [
    {
     "ename": "Exception",
     "evalue": "Error at plot_value move_water.s.eff and group: nominal",
     "output_type": "error",
     "traceback": [
      "\u001b[1;31m---------------------------------------------------------------------------\u001b[0m",
      "\u001b[1;31mValueError\u001b[0m                                Traceback (most recent call last)",
      "File \u001b[1;32mc:\\users\\dhulse\\documents\\github\\fmdtools\\fmdtools\\analyze\\history.py:713\u001b[0m, in \u001b[0;36mHistory.plot_line\u001b[1;34m(self, cols, aggregation, legend_loc, xlabel, ylabels, max_ind, titles, title, indiv_kwargs, time_slice, time_slice_label, figsize, comp_groups, v_padding, h_padding, title_padding, phases, phase_kwargs, legend_title, *plot_values, **kwargs)\u001b[0m\n\u001b[0;32m    712\u001b[0m \u001b[38;5;28;01mif\u001b[39;00m aggregation \u001b[38;5;241m==\u001b[39m \u001b[38;5;124m'\u001b[39m\u001b[38;5;124mindividual\u001b[39m\u001b[38;5;124m'\u001b[39m:\n\u001b[1;32m--> 713\u001b[0m     hists\u001b[38;5;241m.\u001b[39mplot_individual_line(value, fig, ax, \u001b[38;5;241m*\u001b[39m\u001b[38;5;241m*\u001b[39mloc_kwargs)\n\u001b[0;32m    714\u001b[0m \u001b[38;5;28;01melif\u001b[39;00m aggregation \u001b[38;5;241m==\u001b[39m \u001b[38;5;124m'\u001b[39m\u001b[38;5;124mmean_std\u001b[39m\u001b[38;5;124m'\u001b[39m:\n",
      "File \u001b[1;32mc:\\users\\dhulse\\documents\\github\\fmdtools\\fmdtools\\analyze\\history.py:753\u001b[0m, in \u001b[0;36mHistory.plot_individual_line\u001b[1;34m(self, value, fig, ax, figsize, xlabel, ylabel, title, **kwargs)\u001b[0m\n\u001b[0;32m    752\u001b[0m     times \u001b[38;5;241m=\u001b[39m hist_to_plot\u001b[38;5;241m.\u001b[39mget(\u001b[38;5;124m'\u001b[39m\u001b[38;5;124mtime\u001b[39m\u001b[38;5;124m'\u001b[39m)\n\u001b[1;32m--> 753\u001b[0m     ax\u001b[38;5;241m.\u001b[39mplot(times, h_value, \u001b[38;5;241m*\u001b[39m\u001b[38;5;241m*\u001b[39mkwargs)\n\u001b[0;32m    754\u001b[0m \u001b[38;5;28;01mif\u001b[39;00m xlabel:\n",
      "File \u001b[1;32m~\\AppData\\Roaming\\Python\\Python310\\site-packages\\matplotlib\\axes\\_axes.py:1688\u001b[0m, in \u001b[0;36mAxes.plot\u001b[1;34m(self, scalex, scaley, data, *args, **kwargs)\u001b[0m\n\u001b[0;32m   1687\u001b[0m kwargs \u001b[38;5;241m=\u001b[39m cbook\u001b[38;5;241m.\u001b[39mnormalize_kwargs(kwargs, mlines\u001b[38;5;241m.\u001b[39mLine2D)\n\u001b[1;32m-> 1688\u001b[0m lines \u001b[38;5;241m=\u001b[39m [\u001b[38;5;241m*\u001b[39m\u001b[38;5;28mself\u001b[39m\u001b[38;5;241m.\u001b[39m_get_lines(\u001b[38;5;241m*\u001b[39margs, data\u001b[38;5;241m=\u001b[39mdata, \u001b[38;5;241m*\u001b[39m\u001b[38;5;241m*\u001b[39mkwargs)]\n\u001b[0;32m   1689\u001b[0m \u001b[38;5;28;01mfor\u001b[39;00m line \u001b[38;5;129;01min\u001b[39;00m lines:\n",
      "File \u001b[1;32m~\\AppData\\Roaming\\Python\\Python310\\site-packages\\matplotlib\\axes\\_base.py:311\u001b[0m, in \u001b[0;36m_process_plot_var_args.__call__\u001b[1;34m(self, data, *args, **kwargs)\u001b[0m\n\u001b[0;32m    310\u001b[0m     args \u001b[38;5;241m=\u001b[39m args[\u001b[38;5;241m1\u001b[39m:]\n\u001b[1;32m--> 311\u001b[0m \u001b[38;5;28;01myield from\u001b[39;00m \u001b[38;5;28;43mself\u001b[39;49m\u001b[38;5;241;43m.\u001b[39;49m\u001b[43m_plot_args\u001b[49m\u001b[43m(\u001b[49m\n\u001b[0;32m    312\u001b[0m \u001b[43m    \u001b[49m\u001b[43mthis\u001b[49m\u001b[43m,\u001b[49m\u001b[43m \u001b[49m\u001b[43mkwargs\u001b[49m\u001b[43m,\u001b[49m\u001b[43m \u001b[49m\u001b[43mambiguous_fmt_datakey\u001b[49m\u001b[38;5;241;43m=\u001b[39;49m\u001b[43mambiguous_fmt_datakey\u001b[49m\u001b[43m)\u001b[49m\n",
      "File \u001b[1;32m~\\AppData\\Roaming\\Python\\Python310\\site-packages\\matplotlib\\axes\\_base.py:465\u001b[0m, in \u001b[0;36m_process_plot_var_args._plot_args\u001b[1;34m(self, tup, kwargs, return_kwargs, ambiguous_fmt_datakey)\u001b[0m\n\u001b[0;32m    464\u001b[0m \u001b[38;5;28;01mif\u001b[39;00m \u001b[38;5;28many\u001b[39m(v \u001b[38;5;129;01mis\u001b[39;00m \u001b[38;5;28;01mNone\u001b[39;00m \u001b[38;5;28;01mfor\u001b[39;00m v \u001b[38;5;129;01min\u001b[39;00m tup):\n\u001b[1;32m--> 465\u001b[0m     \u001b[38;5;28;01mraise\u001b[39;00m \u001b[38;5;167;01mValueError\u001b[39;00m(\u001b[38;5;124m\"\u001b[39m\u001b[38;5;124mx, y, and format string must not be None\u001b[39m\u001b[38;5;124m\"\u001b[39m)\n\u001b[0;32m    467\u001b[0m kw \u001b[38;5;241m=\u001b[39m {}\n",
      "\u001b[1;31mValueError\u001b[0m: x, y, and format string must not be None",
      "\nThe above exception was the direct cause of the following exception:\n",
      "\u001b[1;31mException\u001b[0m                                 Traceback (most recent call last)",
      "Cell \u001b[1;32mIn[9], line 1\u001b[0m\n\u001b[1;32m----> 1\u001b[0m fig, ax \u001b[38;5;241m=\u001b[39m \u001b[43mnew_problem\u001b[49m\u001b[38;5;241;43m.\u001b[39;49m\u001b[43mhist\u001b[49m\u001b[38;5;241;43m.\u001b[39;49m\u001b[43mplot_line\u001b[49m\u001b[43m(\u001b[49m\u001b[38;5;124;43m'\u001b[39;49m\u001b[38;5;124;43mmove_water.s.eff\u001b[39;49m\u001b[38;5;124;43m'\u001b[39;49m\u001b[43m,\u001b[49m\u001b[43m \u001b[49m\u001b[38;5;124;43m'\u001b[39;49m\u001b[38;5;124;43mmove_water.s.total_flow\u001b[39;49m\u001b[38;5;124;43m'\u001b[39;49m\u001b[43m,\u001b[49m\u001b[43m \u001b[49m\u001b[38;5;124;43m'\u001b[39;49m\u001b[38;5;124;43mwat_1.s.flowrate\u001b[39;49m\u001b[38;5;124;43m'\u001b[39;49m\u001b[43m,\u001b[49m\u001b[43m \u001b[49m\u001b[38;5;124;43m'\u001b[39;49m\u001b[38;5;124;43mwat_1.s.pressure\u001b[39;49m\u001b[38;5;124;43m'\u001b[39;49m\u001b[43m,\u001b[49m\n\u001b[0;32m      2\u001b[0m \u001b[43m                                     \u001b[49m\u001b[43mtime_slice\u001b[49m\u001b[38;5;241;43m=\u001b[39;49m\u001b[43m[\u001b[49m\u001b[38;5;241;43m14\u001b[39;49m\u001b[43m,\u001b[49m\u001b[43m \u001b[49m\u001b[38;5;241;43m20\u001b[39;49m\u001b[43m,\u001b[49m\u001b[43m \u001b[49m\u001b[38;5;241;43m25\u001b[39;49m\u001b[43m]\u001b[49m\u001b[43m)\u001b[49m\n",
      "File \u001b[1;32mc:\\users\\dhulse\\documents\\github\\fmdtools\\fmdtools\\analyze\\history.py:726\u001b[0m, in \u001b[0;36mHistory.plot_line\u001b[1;34m(self, cols, aggregation, legend_loc, xlabel, ylabels, max_ind, titles, title, indiv_kwargs, time_slice, time_slice_label, figsize, comp_groups, v_padding, h_padding, title_padding, phases, phase_kwargs, legend_title, *plot_values, **kwargs)\u001b[0m\n\u001b[0;32m    724\u001b[0m         \u001b[38;5;28;01mraise\u001b[39;00m \u001b[38;5;167;01mException\u001b[39;00m(\u001b[38;5;124m\"\u001b[39m\u001b[38;5;124mInvalid aggregation option: \u001b[39m\u001b[38;5;124m\"\u001b[39m\u001b[38;5;241m+\u001b[39maggregation)\n\u001b[0;32m    725\u001b[0m \u001b[38;5;28;01mexcept\u001b[39;00m \u001b[38;5;167;01mException\u001b[39;00m \u001b[38;5;28;01mas\u001b[39;00m e:\n\u001b[1;32m--> 726\u001b[0m     \u001b[38;5;28;01mraise\u001b[39;00m \u001b[38;5;167;01mException\u001b[39;00m(\u001b[38;5;124m\"\u001b[39m\u001b[38;5;124mError at plot_value \u001b[39m\u001b[38;5;124m\"\u001b[39m \u001b[38;5;241m+\u001b[39m \u001b[38;5;28mstr\u001b[39m(value)\n\u001b[0;32m    727\u001b[0m                     \u001b[38;5;241m+\u001b[39m \u001b[38;5;124m\"\u001b[39m\u001b[38;5;124m and group: \u001b[39m\u001b[38;5;124m\"\u001b[39m \u001b[38;5;241m+\u001b[39m \u001b[38;5;28mstr\u001b[39m(group)) \u001b[38;5;28;01mfrom\u001b[39;00m \u001b[38;5;21;01me\u001b[39;00m\n\u001b[0;32m    728\u001b[0m \u001b[38;5;28;01mif\u001b[39;00m \u001b[38;5;28mlen\u001b[39m(value) \u001b[38;5;241m>\u001b[39m \u001b[38;5;241m1\u001b[39m \u001b[38;5;129;01mand\u001b[39;00m value[\u001b[38;5;241m1\u001b[39m] \u001b[38;5;129;01min\u001b[39;00m phases:\n\u001b[0;32m    729\u001b[0m     phase_overlay(ax, phases[value[\u001b[38;5;241m1\u001b[39m]], value[\u001b[38;5;241m1\u001b[39m])\n",
      "\u001b[1;31mException\u001b[0m: Error at plot_value move_water.s.eff and group: nominal"
     ]
    },
    {
     "data": {
      "image/png": "[encoded data removed]",
      "text/plain": [
       "<Figure size 600x400 with 4 Axes>"
      ]
     },
     "metadata": {},
     "output_type": "display_data"
    }
   ],
   "source": [
    "fig, ax = new_problem.hist.plot_line('fxns.move_water.s.eff', 'fxns.move_water.s.total_flow', 'flows.wat_1.s.flowrate', 'flows.wat_1.s.pressure',\n",
    "                                     time_slice=[14, 20, 25])"
   ]
  },
  {
   "cell_type": "markdown",
   "id": "fda87670",
   "metadata": {},
   "source": [
    "### Optimization:\n",
    "Now, we will demonstrate optimization using this problem as it is set up:"
   ]
  },
  {
   "cell_type": "code",
   "execution_count": 10,
   "id": "d3be1ddc",
   "metadata": {
    "execution": {
     "iopub.execute_input": "2024-02-03T00:54:37.220895Z",
     "iopub.status.busy": "2024-02-03T00:54:37.219891Z",
     "iopub.status.idle": "2024-02-03T00:54:37.232768Z",
     "shell.execute_reply": "2024-02-03T00:54:37.232768Z"
    }
   },
   "outputs": [],
   "source": [
    "from scipy.optimize import minimize"
   ]
  },
  {
   "cell_type": "code",
   "execution_count": 11,
   "id": "2ed5821b",
   "metadata": {
    "execution": {
     "iopub.execute_input": "2024-02-03T00:54:37.235772Z",
     "iopub.status.busy": "2024-02-03T00:54:37.235772Z",
     "iopub.status.idle": "2024-02-03T00:54:37.248626Z",
     "shell.execute_reply": "2024-02-03T00:54:37.247987Z"
    }
   },
   "outputs": [],
   "source": [
    "con_list = [{'type': 'ineq', 'fun':getattr(new_problem, con)} for con in new_problem.constraints]"
   ]
  },
  {
   "cell_type": "markdown",
   "id": "f20e5dd4",
   "metadata": {},
   "source": [
    "Note that scipy minimize assumes that:\n",
    "- objectives are to be minimized, and\n",
    "- constraints must be held positive \n",
    "\n",
    "The problem should thus be set up to accomodate this, by adjusting whether `negative=True` is sent to `add_result_objective` or `add_result_constraint`/"
   ]
  },
  {
   "cell_type": "code",
   "execution_count": 12,
   "id": "f266e3af",
   "metadata": {
    "execution": {
     "iopub.execute_input": "2024-02-03T00:54:37.250706Z",
     "iopub.status.busy": "2024-02-03T00:54:37.250706Z",
     "iopub.status.idle": "2024-02-03T00:54:37.451764Z",
     "shell.execute_reply": "2024-02-03T00:54:37.451764Z"
    }
   },
   "outputs": [],
   "source": [
    "res = minimize(new_problem.f1, [1], constraints=con_list)"
   ]
  },
  {
   "cell_type": "code",
   "execution_count": 13,
   "id": "c2cc10fb",
   "metadata": {
    "execution": {
     "iopub.execute_input": "2024-02-03T00:54:37.454763Z",
     "iopub.status.busy": "2024-02-03T00:54:37.454763Z",
     "iopub.status.idle": "2024-02-03T00:54:37.467669Z",
     "shell.execute_reply": "2024-02-03T00:54:37.467669Z"
    }
   },
   "outputs": [],
   "source": [
    "res"
   ]
  },
  {
   "cell_type": "markdown",
   "id": "5acd9645",
   "metadata": {},
   "source": [
    "As shown, the variables are optimized to a value of x=4.0, the maximum possible value of MoveWater.eff which was put in the problem. We can further verify the optimized result by looking at the problem:"
   ]
  },
  {
   "cell_type": "code",
   "execution_count": 14,
   "id": "dfbd5dee",
   "metadata": {
    "execution": {
     "iopub.execute_input": "2024-02-03T00:54:37.469681Z",
     "iopub.status.busy": "2024-02-03T00:54:37.469681Z",
     "iopub.status.idle": "2024-02-03T00:54:37.483762Z",
     "shell.execute_reply": "2024-02-03T00:54:37.483762Z"
    }
   },
   "outputs": [],
   "source": [
    "new_problem"
   ]
  },
  {
   "cell_type": "markdown",
   "id": "f77c66ef",
   "metadata": {},
   "source": [
    "As shown, the bound set constraint x>0 is active at the found minimum, as we would expect.\n",
    "\n",
    "We can further visualize this solution using:"
   ]
  },
  {
   "cell_type": "code",
   "execution_count": 15,
   "id": "0e25aa79",
   "metadata": {
    "execution": {
     "iopub.execute_input": "2024-02-03T00:54:37.486763Z",
     "iopub.status.busy": "2024-02-03T00:54:37.486763Z",
     "iopub.status.idle": "2024-02-03T00:54:37.813894Z",
     "shell.execute_reply": "2024-02-03T00:54:37.813894Z"
    }
   },
   "outputs": [],
   "source": [
    "fig, ax = new_problem.iter_hist.plot_line('objectives.f1', 'variables.move_water.r.s.eff',\n",
    "                                          'constraints.g1')"
   ]
  },
  {
   "cell_type": "code",
   "execution_count": 16,
   "id": "04fbb666",
   "metadata": {
    "execution": {
     "iopub.execute_input": "2024-02-03T00:54:37.816902Z",
     "iopub.status.busy": "2024-02-03T00:54:37.816902Z",
     "iopub.status.idle": "2024-02-03T00:54:38.240676Z",
     "shell.execute_reply": "2024-02-03T00:54:38.239609Z"
    }
   },
   "outputs": [],
   "source": [
    "fig, ax = new_problem.hist.plot_line('fxns.move_water.s.eff', 'fxns.move_water.s.total_flow',\n",
    "                                     'flows.wat_1.s.flowrate', 'flows.wat_1.s.pressure',\n",
    "                                     time_slice=[14, 20, 25])"
   ]
  },
  {
   "cell_type": "markdown",
   "id": "9102d650",
   "metadata": {},
   "source": [
    "As shown, the constraint `g1` is active, meaning the optimal presure at `t=20` is just at the threshold of 20. This corresponds to the optimized `MoveWater.eff` value of 4.0."
   ]
  },
  {
   "cell_type": "code",
   "execution_count": 17,
   "id": "550a11b5",
   "metadata": {
    "execution": {
     "iopub.execute_input": "2024-02-03T00:54:38.243648Z",
     "iopub.status.busy": "2024-02-03T00:54:38.243648Z",
     "iopub.status.idle": "2024-02-03T00:54:38.255414Z",
     "shell.execute_reply": "2024-02-03T00:54:38.254761Z"
    }
   },
   "outputs": [],
   "source": [
    "assert abs(new_problem.constraints['g1'].value) < 0.001\n",
    "assert abs(new_problem.variables['move_water.r.s.eff'] - 4.0)  < 0.001"
   ]
  },
  {
   "cell_type": "markdown",
   "id": "8bb3dcdf",
   "metadata": {},
   "source": [
    "### Multi-scenario Optimization\n",
    "\n",
    "In addition to optimizing over single-scenarios `ParameterSimProblem` can be used to optimize over lists of scenarios from an `FaultSample`.\n",
    "\n",
    "Here we define a slightly different problem, where instead of optimizing variable changes at specific times (e.g., faults), we instead optimize the model parameter `delay`, which changes how long of a delay there is before a fault when there is adverse pressure.\n",
    "\n",
    "To see the effect of this accross scenarios, we first define a `FaultSample`:"
   ]
  },
  {
   "cell_type": "code",
   "execution_count": 18,
   "id": "ddf0402c",
   "metadata": {
    "execution": {
     "iopub.execute_input": "2024-02-03T00:54:38.257416Z",
     "iopub.status.busy": "2024-02-03T00:54:38.257416Z",
     "iopub.status.idle": "2024-02-03T00:54:38.270621Z",
     "shell.execute_reply": "2024-02-03T00:54:38.270621Z"
    }
   },
   "outputs": [],
   "source": [
    "from fmdtools.sim.sample import FaultDomain, FaultSample\n",
    "fd = FaultDomain(mdl)\n",
    "fd.add_all_fxn_modes(\"export_water\")\n",
    "fs = FaultSample(fd)\n",
    "fs.add_fault_phases(\"on\", args=(4,))"
   ]
  },
  {
   "cell_type": "code",
   "execution_count": 19,
   "id": "ca8abc5b",
   "metadata": {
    "execution": {
     "iopub.execute_input": "2024-02-03T00:54:38.272520Z",
     "iopub.status.busy": "2024-02-03T00:54:38.272520Z",
     "iopub.status.idle": "2024-02-03T00:54:38.285750Z",
     "shell.execute_reply": "2024-02-03T00:54:38.285750Z"
    }
   },
   "outputs": [],
   "source": [
    "fs"
   ]
  },
  {
   "cell_type": "markdown",
   "id": "4d15670f",
   "metadata": {},
   "source": [
    "We also need to define a `ParameterDomain` for the `delay` parameter to optimize:"
   ]
  },
  {
   "cell_type": "code",
   "execution_count": 20,
   "id": "836f2b6a",
   "metadata": {
    "execution": {
     "iopub.execute_input": "2024-02-03T00:54:38.287765Z",
     "iopub.status.busy": "2024-02-03T00:54:38.287765Z",
     "iopub.status.idle": "2024-02-03T00:54:38.301638Z",
     "shell.execute_reply": "2024-02-03T00:54:38.301638Z"
    }
   },
   "outputs": [],
   "source": [
    "from fmdtools.sim.sample import ParameterDomain\n",
    "from examples.pump.pump_stochastic import PumpParam\n",
    "pd = ParameterDomain(PumpParam)\n",
    "pd.add_variables(\"delay\")\n",
    "pd(4)"
   ]
  },
  {
   "cell_type": "markdown",
   "id": "4d15f0b4",
   "metadata": {},
   "source": [
    "We can now set up the `ParameterSimProblem`:"
   ]
  },
  {
   "cell_type": "code",
   "execution_count": 21,
   "id": "3d2be79c",
   "metadata": {
    "execution": {
     "iopub.execute_input": "2024-02-03T00:54:38.304633Z",
     "iopub.status.busy": "2024-02-03T00:54:38.303631Z",
     "iopub.status.idle": "2024-02-03T00:54:38.317361Z",
     "shell.execute_reply": "2024-02-03T00:54:38.316862Z"
    }
   },
   "outputs": [],
   "source": [
    "from fmdtools.sim.search import ParameterSimProblem\n",
    "psp = ParameterSimProblem(mdl, pd, 'fault_sample', fs)"
   ]
  },
  {
   "cell_type": "markdown",
   "id": "14f8f3f1",
   "metadata": {},
   "source": [
    "Our objective for this problem will be to minimize the cost model overall scenarios that is defined in `mdl.find_classification`."
   ]
  },
  {
   "cell_type": "code",
   "execution_count": 22,
   "id": "894cea17",
   "metadata": {
    "execution": {
     "iopub.execute_input": "2024-02-03T00:54:38.319404Z",
     "iopub.status.busy": "2024-02-03T00:54:38.319404Z",
     "iopub.status.idle": "2024-02-03T00:54:38.333108Z",
     "shell.execute_reply": "2024-02-03T00:54:38.332632Z"
    }
   },
   "outputs": [],
   "source": [
    "psp.add_result_objective(\"f1\", 'expected_cost')"
   ]
  },
  {
   "cell_type": "markdown",
   "id": "786a8277",
   "metadata": {},
   "source": [
    "We can then verify the problem setup. Note that no constraints will be used in this problem:"
   ]
  },
  {
   "cell_type": "code",
   "execution_count": 23,
   "id": "96e1224b",
   "metadata": {
    "execution": {
     "iopub.execute_input": "2024-02-03T00:54:38.335109Z",
     "iopub.status.busy": "2024-02-03T00:54:38.335109Z",
     "iopub.status.idle": "2024-02-03T00:54:38.555813Z",
     "shell.execute_reply": "2024-02-03T00:54:38.555813Z"
    }
   },
   "outputs": [],
   "source": [
    "psp\n",
    "psp.f1(15)"
   ]
  },
  {
   "cell_type": "code",
   "execution_count": 24,
   "id": "028a3d86",
   "metadata": {
    "execution": {
     "iopub.execute_input": "2024-02-03T00:54:38.558832Z",
     "iopub.status.busy": "2024-02-03T00:54:38.558832Z",
     "iopub.status.idle": "2024-02-03T00:54:38.777454Z",
     "shell.execute_reply": "2024-02-03T00:54:38.777454Z"
    }
   },
   "outputs": [],
   "source": [
    "psp.f1(10)"
   ]
  },
  {
   "cell_type": "code",
   "execution_count": 25,
   "id": "4dcd3aaa",
   "metadata": {
    "execution": {
     "iopub.execute_input": "2024-02-03T00:54:38.780680Z",
     "iopub.status.busy": "2024-02-03T00:54:38.779673Z",
     "iopub.status.idle": "2024-02-03T00:54:39.215896Z",
     "shell.execute_reply": "2024-02-03T00:54:39.215896Z"
    }
   },
   "outputs": [],
   "source": [
    "fig, ax = psp.hist.plot_line('fxns.move_water.s.eff', 'fxns.move_water.s.total_flow',\n",
    "                             'flows.wat_1.s.flowrate', 'flows.wat_1.s.pressure')"
   ]
  },
  {
   "cell_type": "code",
   "execution_count": 26,
   "id": "d30ea3f9",
   "metadata": {
    "execution": {
     "iopub.execute_input": "2024-02-03T00:54:39.218187Z",
     "iopub.status.busy": "2024-02-03T00:54:39.218187Z",
     "iopub.status.idle": "2024-02-03T00:54:39.232778Z",
     "shell.execute_reply": "2024-02-03T00:54:39.231864Z"
    }
   },
   "outputs": [],
   "source": [
    "psp.res"
   ]
  },
  {
   "cell_type": "markdown",
   "id": "7e9dacbc",
   "metadata": {},
   "source": [
    "We may now minimize the objective function:"
   ]
  },
  {
   "cell_type": "code",
   "execution_count": 27,
   "id": "63f9f0f5",
   "metadata": {
    "execution": {
     "iopub.execute_input": "2024-02-03T00:54:39.234982Z",
     "iopub.status.busy": "2024-02-03T00:54:39.234982Z",
     "iopub.status.idle": "2024-02-03T00:54:39.642556Z",
     "shell.execute_reply": "2024-02-03T00:54:39.641671Z"
    }
   },
   "outputs": [],
   "source": [
    "res = minimize(psp.f1, [5], method=\"SLSQP\", bounds=[[0,40]])"
   ]
  },
  {
   "cell_type": "code",
   "execution_count": 28,
   "id": "665b14b4",
   "metadata": {
    "execution": {
     "iopub.execute_input": "2024-02-03T00:54:39.644640Z",
     "iopub.status.busy": "2024-02-03T00:54:39.644640Z",
     "iopub.status.idle": "2024-02-03T00:54:39.656762Z",
     "shell.execute_reply": "2024-02-03T00:54:39.656762Z"
    }
   },
   "outputs": [],
   "source": [
    "res"
   ]
  },
  {
   "cell_type": "code",
   "execution_count": 29,
   "id": "90a74714",
   "metadata": {
    "execution": {
     "iopub.execute_input": "2024-02-03T00:54:39.659309Z",
     "iopub.status.busy": "2024-02-03T00:54:39.659309Z",
     "iopub.status.idle": "2024-02-03T00:54:44.887734Z",
     "shell.execute_reply": "2024-02-03T00:54:44.886814Z"
    }
   },
   "outputs": [],
   "source": [
    "res = minimize(psp.f1, [5], method=\"nelder-mead\")"
   ]
  },
  {
   "cell_type": "code",
   "execution_count": 30,
   "id": "9a932151",
   "metadata": {
    "execution": {
     "iopub.execute_input": "2024-02-03T00:54:44.890700Z",
     "iopub.status.busy": "2024-02-03T00:54:44.890700Z",
     "iopub.status.idle": "2024-02-03T00:54:44.902628Z",
     "shell.execute_reply": "2024-02-03T00:54:44.902291Z"
    }
   },
   "outputs": [],
   "source": [
    "res"
   ]
  },
  {
   "cell_type": "markdown",
   "id": "980276d6",
   "metadata": {},
   "source": [
    "Interestingly enough, while the optimizer gives a \"optimization terminated successfully,\" it stays at the initial point. This may be because of a poor fit of oftimization method. See:"
   ]
  },
  {
   "cell_type": "code",
   "execution_count": 31,
   "id": "4d44bb84",
   "metadata": {
    "execution": {
     "iopub.execute_input": "2024-02-03T00:54:44.904680Z",
     "iopub.status.busy": "2024-02-03T00:54:44.904680Z",
     "iopub.status.idle": "2024-02-03T00:55:04.724747Z",
     "shell.execute_reply": "2024-02-03T00:55:04.723823Z"
    }
   },
   "outputs": [],
   "source": [
    "objs = [psp.f1(i) for i in range(100)]"
   ]
  },
  {
   "cell_type": "code",
   "execution_count": 32,
   "id": "51cb728e",
   "metadata": {
    "execution": {
     "iopub.execute_input": "2024-02-03T00:55:04.727746Z",
     "iopub.status.busy": "2024-02-03T00:55:04.727746Z",
     "iopub.status.idle": "2024-02-03T00:55:04.850749Z",
     "shell.execute_reply": "2024-02-03T00:55:04.849828Z"
    }
   },
   "outputs": [],
   "source": [
    "from matplotlib import pyplot as plt\n",
    "plt.plot(objs)\n",
    "plt.scatter(res.x, res.fun)"
   ]
  },
  {
   "cell_type": "markdown",
   "id": "2f13a785",
   "metadata": {},
   "source": [
    "As shown, the objective appears to be non-differentiable, with several plateaus between the starting point (20) and the minimum. Since the `SLSQP` solver is a gradient-based solver, it probably sees the gradient as 0 at this point, making it think the result is already an optimum. \n",
    "\n",
    "While many different optimization packages exist, one of the more-developed ones is the `pymoo` package ([see reference](https://pymoo.org/)). Below we show how to interface with `pymoo` to use a solver that will find the optimal solution."
   ]
  },
  {
   "cell_type": "code",
   "execution_count": 33,
   "id": "eeff5c38",
   "metadata": {
    "execution": {
     "iopub.execute_input": "2024-02-03T00:55:04.853747Z",
     "iopub.status.busy": "2024-02-03T00:55:04.853747Z",
     "iopub.status.idle": "2024-02-03T00:55:04.866768Z",
     "shell.execute_reply": "2024-02-03T00:55:04.865775Z"
    }
   },
   "outputs": [],
   "source": [
    "# import pip\n",
    "# pip.main(['install', 'pymoo'])\n"
   ]
  },
  {
   "cell_type": "markdown",
   "id": "161963dd",
   "metadata": {},
   "source": [
    "Below we set the problem up as a [pymoo problem object](https://pymoo.org/interface/problem.html) which can be used with a pymoo algorithm per the documentation. Note that this object corresponds directly (that is, is linked) to the original problem (see below)."
   ]
  },
  {
   "cell_type": "code",
   "execution_count": 34,
   "id": "f99785b0",
   "metadata": {
    "execution": {
     "iopub.execute_input": "2024-02-03T00:55:04.869767Z",
     "iopub.status.busy": "2024-02-03T00:55:04.869767Z",
     "iopub.status.idle": "2024-02-03T00:55:04.897137Z",
     "shell.execute_reply": "2024-02-03T00:55:04.896219Z"
    }
   },
   "outputs": [],
   "source": [
    "from pymoo.core.problem import ElementwiseProblem\n",
    "class Prob(ElementwiseProblem):\n",
    "    def __init__(self, problem_inter):\n",
    "        self.problem_inter = problem_inter\n",
    "        super().__init__(n_var=1, n_obj=1, n_con=0.0, xl=0.0, xu=40)\n",
    "    def _evaluate(self, x, out, *args, **kwargs):\n",
    "        out[\"F\"] = self.problem_inter.f1(x)"
   ]
  },
  {
   "cell_type": "markdown",
   "id": "15d9c816",
   "metadata": {},
   "source": [
    "We can then optimize with a PatternSearch:"
   ]
  },
  {
   "cell_type": "code",
   "execution_count": 35,
   "id": "fc552561",
   "metadata": {
    "execution": {
     "iopub.execute_input": "2024-02-03T00:55:04.900188Z",
     "iopub.status.busy": "2024-02-03T00:55:04.900188Z",
     "iopub.status.idle": "2024-02-03T00:55:05.040822Z",
     "shell.execute_reply": "2024-02-03T00:55:05.039927Z"
    }
   },
   "outputs": [],
   "source": [
    "from pymoo.optimize import minimize\n",
    "from pymoo.algorithms.soo.nonconvex.pattern import PatternSearch\n",
    "import numpy as np"
   ]
  },
  {
   "cell_type": "code",
   "execution_count": 36,
   "id": "5087f030",
   "metadata": {
    "execution": {
     "iopub.execute_input": "2024-02-03T00:55:05.043828Z",
     "iopub.status.busy": "2024-02-03T00:55:05.043828Z",
     "iopub.status.idle": "2024-02-03T00:55:05.056822Z",
     "shell.execute_reply": "2024-02-03T00:55:05.055829Z"
    }
   },
   "outputs": [],
   "source": [
    "algorithm=PatternSearch(x0=np.array([5])) "
   ]
  },
  {
   "cell_type": "code",
   "execution_count": 37,
   "id": "e59154ff",
   "metadata": {
    "execution": {
     "iopub.execute_input": "2024-02-03T00:55:05.059822Z",
     "iopub.status.busy": "2024-02-03T00:55:05.058822Z",
     "iopub.status.idle": "2024-02-03T00:55:05.072822Z",
     "shell.execute_reply": "2024-02-03T00:55:05.071822Z"
    }
   },
   "outputs": [],
   "source": [
    "pymoo_prob = Prob(psp)"
   ]
  },
  {
   "cell_type": "code",
   "execution_count": 38,
   "id": "6278f8ab",
   "metadata": {
    "execution": {
     "iopub.execute_input": "2024-02-03T00:55:05.074830Z",
     "iopub.status.busy": "2024-02-03T00:55:05.074830Z",
     "iopub.status.idle": "2024-02-03T00:55:10.663971Z",
     "shell.execute_reply": "2024-02-03T00:55:10.663971Z"
    }
   },
   "outputs": [],
   "source": [
    "res = minimize(pymoo_prob, algorithm, verbose=True)"
   ]
  },
  {
   "cell_type": "code",
   "execution_count": 39,
   "id": "81c885f8",
   "metadata": {
    "execution": {
     "iopub.execute_input": "2024-02-03T00:55:10.667011Z",
     "iopub.status.busy": "2024-02-03T00:55:10.667011Z",
     "iopub.status.idle": "2024-02-03T00:55:10.679507Z",
     "shell.execute_reply": "2024-02-03T00:55:10.679049Z"
    }
   },
   "outputs": [],
   "source": [
    "res.X"
   ]
  },
  {
   "cell_type": "code",
   "execution_count": 40,
   "id": "b2411b61",
   "metadata": {
    "execution": {
     "iopub.execute_input": "2024-02-03T00:55:10.681580Z",
     "iopub.status.busy": "2024-02-03T00:55:10.681580Z",
     "iopub.status.idle": "2024-02-03T00:55:10.694798Z",
     "shell.execute_reply": "2024-02-03T00:55:10.694798Z"
    }
   },
   "outputs": [],
   "source": [
    "res.F"
   ]
  },
  {
   "cell_type": "code",
   "execution_count": 41,
   "id": "0dac7ac6",
   "metadata": {
    "execution": {
     "iopub.execute_input": "2024-02-03T00:55:10.697404Z",
     "iopub.status.busy": "2024-02-03T00:55:10.697404Z",
     "iopub.status.idle": "2024-02-03T00:55:10.804836Z",
     "shell.execute_reply": "2024-02-03T00:55:10.804836Z"
    }
   },
   "outputs": [],
   "source": [
    "plt.plot(objs)\n",
    "plt.scatter(res.X, res.F)"
   ]
  },
  {
   "cell_type": "markdown",
   "id": "ff3fc39d",
   "metadata": {},
   "source": [
    "As shown, this method more capably finds the minimum in this case, in part because the underlying search algorithm (Hooke and Jeeves Pattern Search) is more robust to this type of problem."
   ]
  },
  {
   "cell_type": "markdown",
   "id": "beb04929",
   "metadata": {},
   "source": [
    "We can visualize the results of this problem by looking at the simulation log:"
   ]
  },
  {
   "cell_type": "code",
   "execution_count": 42,
   "id": "90dca149",
   "metadata": {
    "execution": {
     "iopub.execute_input": "2024-02-03T00:55:10.807633Z",
     "iopub.status.busy": "2024-02-03T00:55:10.807633Z",
     "iopub.status.idle": "2024-02-03T00:55:10.995069Z",
     "shell.execute_reply": "2024-02-03T00:55:10.994060Z"
    }
   },
   "outputs": [],
   "source": [
    "fig, ax = psp.iter_hist.plot_line('objectives.f1', 'variables.delay')"
   ]
  },
  {
   "cell_type": "markdown",
   "id": "f5daa5a8",
   "metadata": {},
   "source": [
    "As well as the history:"
   ]
  },
  {
   "cell_type": "code",
   "execution_count": 43,
   "id": "2c5daa7e",
   "metadata": {
    "execution": {
     "iopub.execute_input": "2024-02-03T00:55:10.999117Z",
     "iopub.status.busy": "2024-02-03T00:55:10.998069Z",
     "iopub.status.idle": "2024-02-03T00:55:11.424142Z",
     "shell.execute_reply": "2024-02-03T00:55:11.423146Z"
    }
   },
   "outputs": [],
   "source": [
    "fig, ax = psp.hist.plot_line('fxns.move_water.s.eff', 'fxns.move_water.s.total_flow',\n",
    "                             'flows.wat_1.s.flowrate', 'flows.wat_1.s.pressure')"
   ]
  },
  {
   "cell_type": "markdown",
   "id": "456c1316",
   "metadata": {},
   "source": [
    "As shown, the main difference is that at the initial point, the short delay causes the pump to break during the time of the simulation, while at a long delay, the pump breaks later in the simulation. The optimum is at t=40 since this is the first feasible point where three scenarios no longer result in a mechanical break of the pump."
   ]
  }
 ],
 "metadata": {
  "kernelspec": {
   "display_name": "Python 3 (ipykernel)",
   "language": "python",
   "name": "python3"
  },
  "language_info": {
   "codemirror_mode": {
    "name": "ipython",
    "version": 3
   },
   "file_extension": ".py",
   "mimetype": "text/x-python",
   "name": "python",
   "nbconvert_exporter": "python",
   "pygments_lexer": "ipython3",
   "version": "3.10.9"
  },
  "vscode": {
   "interpreter": {
    "hash": "e91384d516de244e8027664e7296e7623a911fd9d79a3021d1ef03e3e53e2456"
   }
  }
 },
 "nbformat": 4,
 "nbformat_minor": 5
}
