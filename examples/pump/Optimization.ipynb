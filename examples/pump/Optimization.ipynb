{
 "cells": [
  {
   "cell_type": "markdown",
   "id": "fe41d669",
   "metadata": {},
   "source": [
    "# Optimization using the ProblemInterface class\n",
    "\n",
    "\n",
    "**DISCLAIMER: Optimization modules do not work currently, see RAD-225**\n",
    "\n",
    "This notebook will show the basics of setting up a resilience optimization problem with the `Problem` class in `fmdtools.sim.search` module."
   ]
  },
  {
   "cell_type": "code",
   "execution_count": 1,
   "id": "43a662d2",
   "metadata": {
    "execution": {
     "iopub.execute_input": "2023-11-02T19:09:51.210189Z",
     "iopub.status.busy": "2023-11-02T19:09:51.210189Z",
     "iopub.status.idle": "2023-11-02T19:09:52.748499Z",
     "shell.execute_reply": "2023-11-02T19:09:52.748499Z"
    }
   },
   "outputs": [
    {
     "ename": "ModuleNotFoundError",
     "evalue": "No module named 'fmdtools.sim.approach'",
     "output_type": "error",
     "traceback": [
      "\u001b[1;31m---------------------------------------------------------------------------\u001b[0m",
      "\u001b[1;31mModuleNotFoundError\u001b[0m                       Traceback (most recent call last)",
      "Cell \u001b[1;32mIn[1], line 2\u001b[0m\n\u001b[0;32m      1\u001b[0m \u001b[38;5;28;01mfrom\u001b[39;00m \u001b[38;5;21;01mfmdtools\u001b[39;00m\u001b[38;5;21;01m.\u001b[39;00m\u001b[38;5;21;01msim\u001b[39;00m\u001b[38;5;21;01m.\u001b[39;00m\u001b[38;5;21;01msearch\u001b[39;00m \u001b[38;5;28;01mimport\u001b[39;00m ProblemInterface\n\u001b[1;32m----> 2\u001b[0m \u001b[38;5;28;01mfrom\u001b[39;00m \u001b[38;5;21;01mfmdtools\u001b[39;00m\u001b[38;5;21;01m.\u001b[39;00m\u001b[38;5;21;01msim\u001b[39;00m\u001b[38;5;21;01m.\u001b[39;00m\u001b[38;5;21;01mapproach\u001b[39;00m \u001b[38;5;28;01mimport\u001b[39;00m SampleApproach\n\u001b[0;32m      3\u001b[0m \u001b[38;5;28;01mfrom\u001b[39;00m \u001b[38;5;21;01mmatplotlib\u001b[39;00m \u001b[38;5;28;01mimport\u001b[39;00m pyplot \u001b[38;5;28;01mas\u001b[39;00m plt\n\u001b[0;32m      4\u001b[0m \u001b[38;5;28;01mimport\u001b[39;00m \u001b[38;5;21;01mfmdtools\u001b[39;00m\u001b[38;5;21;01m.\u001b[39;00m\u001b[38;5;21;01manalyze\u001b[39;00m \u001b[38;5;28;01mas\u001b[39;00m \u001b[38;5;21;01man\u001b[39;00m\n",
      "\u001b[1;31mModuleNotFoundError\u001b[0m: No module named 'fmdtools.sim.approach'"
     ]
    }
   ],
   "source": [
    "from fmdtools.sim.search import ProblemInterface\n",
    "from fmdtools.sim.approach import SampleApproach\n",
    "from matplotlib import pyplot as plt\n",
    "import fmdtools.analyze as an\n",
    "from pump_stochastic import Pump"
   ]
  },
  {
   "cell_type": "markdown",
   "id": "8c7be27e",
   "metadata": {},
   "source": [
    "### ProblemInterface Setup\n",
    "The `ProblemInterface` class can be used to define an optimization problem around and fmdtools model/simulation in terms of variables, objectives, and constraints. See below:"
   ]
  },
  {
   "cell_type": "code",
   "execution_count": 2,
   "id": "5120bf24",
   "metadata": {
    "execution": {
     "iopub.execute_input": "2023-09-29T21:47:23.147567Z",
     "iopub.status.busy": "2023-09-29T21:47:23.146558Z",
     "iopub.status.idle": "2023-09-29T21:47:23.152164Z",
     "shell.execute_reply": "2023-09-29T21:47:23.152164Z"
    }
   },
   "outputs": [],
   "source": [
    "print(ProblemInterface.__doc__)"
   ]
  },
  {
   "cell_type": "markdown",
   "id": "6aaed428",
   "metadata": {},
   "source": [
    "The problem class has many of the same objects as the methods in the `sim.propagate` module:"
   ]
  },
  {
   "cell_type": "code",
   "execution_count": 3,
   "id": "20e6a3a5",
   "metadata": {
    "execution": {
     "iopub.execute_input": "2023-09-29T21:47:23.155193Z",
     "iopub.status.busy": "2023-09-29T21:47:23.155193Z",
     "iopub.status.idle": "2023-09-29T21:47:23.158633Z",
     "shell.execute_reply": "2023-09-29T21:47:23.158633Z"
    }
   },
   "outputs": [],
   "source": [
    "help(ProblemInterface.__init__)"
   ]
  },
  {
   "cell_type": "markdown",
   "id": "bb6345b2",
   "metadata": {},
   "source": [
    "Below we send the pump model and specify to simulate it using the `staged` option (which should be much faster to iterate over)."
   ]
  },
  {
   "cell_type": "code",
   "execution_count": 4,
   "id": "949e8a24",
   "metadata": {
    "execution": {
     "iopub.execute_input": "2023-09-29T21:47:23.161663Z",
     "iopub.status.busy": "2023-09-29T21:47:23.161663Z",
     "iopub.status.idle": "2023-09-29T21:47:23.170006Z",
     "shell.execute_reply": "2023-09-29T21:47:23.169356Z"
    }
   },
   "outputs": [],
   "source": [
    "mdl=Pump()\n",
    "new_problem = ProblemInterface(\"new_problem\", mdl, staged=True, negative_form=False)"
   ]
  },
  {
   "cell_type": "markdown",
   "id": "3c8fd774",
   "metadata": {},
   "source": [
    "Next, a simulation is added to the `Problem` using `Problem.add_simulation`"
   ]
  },
  {
   "cell_type": "code",
   "execution_count": 5,
   "id": "f3e7d6a1",
   "metadata": {
    "execution": {
     "iopub.execute_input": "2023-09-29T21:47:23.172003Z",
     "iopub.status.busy": "2023-09-29T21:47:23.172003Z",
     "iopub.status.idle": "2023-09-29T21:47:23.176889Z",
     "shell.execute_reply": "2023-09-29T21:47:23.176242Z"
    }
   },
   "outputs": [],
   "source": [
    "help(ProblemInterface.add_simulation)"
   ]
  },
  {
   "cell_type": "markdown",
   "id": "451b198c",
   "metadata": {},
   "source": [
    "In this case, we will optimize over a single scenario, passing ``single`` as the simtype."
   ]
  },
  {
   "cell_type": "code",
   "execution_count": 6,
   "id": "aff01c2d",
   "metadata": {
    "execution": {
     "iopub.execute_input": "2023-09-29T21:47:23.178911Z",
     "iopub.status.busy": "2023-09-29T21:47:23.178911Z",
     "iopub.status.idle": "2023-09-29T21:47:23.183374Z",
     "shell.execute_reply": "2023-09-29T21:47:23.182786Z"
    }
   },
   "outputs": [],
   "source": [
    "new_problem.add_simulation(\"test_sim\",\"single\", sequence={20:{\"faults\":{\"import_ee\": \"no_v\"}}})"
   ]
  },
  {
   "cell_type": "markdown",
   "id": "926ce330",
   "metadata": {},
   "source": [
    "Variables may then be added using `Problem.add_variables`. "
   ]
  },
  {
   "cell_type": "code",
   "execution_count": 7,
   "id": "53230a7c",
   "metadata": {
    "execution": {
     "iopub.execute_input": "2023-09-29T21:47:23.186404Z",
     "iopub.status.busy": "2023-09-29T21:47:23.185407Z",
     "iopub.status.idle": "2023-09-29T21:47:23.190483Z",
     "shell.execute_reply": "2023-09-29T21:47:23.189819Z"
    }
   },
   "outputs": [],
   "source": [
    "help(ProblemInterface.add_variables)"
   ]
  },
  {
   "cell_type": "markdown",
   "id": "3e9a0c37",
   "metadata": {},
   "source": [
    "In this case, we are optimizing a change in the `eff` parameter at time t=10. Note that using the `staged` option, this means that the model will be copied at this time and then simulated to the final simulation time.\n",
    "\n",
    "This variable is also given the set constraint (bounds) of [0,5], which will show up in the `constraints` dictionary."
   ]
  },
  {
   "cell_type": "code",
   "execution_count": 8,
   "id": "0f566ed9",
   "metadata": {
    "execution": {
     "iopub.execute_input": "2023-09-29T21:47:23.192517Z",
     "iopub.status.busy": "2023-09-29T21:47:23.192517Z",
     "iopub.status.idle": "2023-09-29T21:47:23.197106Z",
     "shell.execute_reply": "2023-09-29T21:47:23.196293Z"
    }
   },
   "outputs": [],
   "source": [
    "new_problem.add_variables(\"test_sim\", (\"move_water.s.eff\", [0,5]), t=10)"
   ]
  },
  {
   "cell_type": "markdown",
   "id": "bc3fbbee",
   "metadata": {},
   "source": [
    "We can further add objectives using `Problem.add_objectives`"
   ]
  },
  {
   "cell_type": "code",
   "execution_count": 9,
   "id": "4b1a49e4",
   "metadata": {
    "execution": {
     "iopub.execute_input": "2023-09-29T21:47:23.199139Z",
     "iopub.status.busy": "2023-09-29T21:47:23.199139Z",
     "iopub.status.idle": "2023-09-29T21:47:23.202875Z",
     "shell.execute_reply": "2023-09-29T21:47:23.202875Z"
    }
   },
   "outputs": [],
   "source": [
    "help(ProblemInterface.add_objectives)"
   ]
  },
  {
   "cell_type": "markdown",
   "id": "931b612b",
   "metadata": {},
   "source": [
    "In this case, we are optimizing the total flow in the `MoveWater` function as read at time t=25. "
   ]
  },
  {
   "cell_type": "code",
   "execution_count": 10,
   "id": "0a0da861",
   "metadata": {
    "execution": {
     "iopub.execute_input": "2023-09-29T21:47:23.205866Z",
     "iopub.status.busy": "2023-09-29T21:47:23.205866Z",
     "iopub.status.idle": "2023-09-29T21:47:23.209202Z",
     "shell.execute_reply": "2023-09-29T21:47:23.209202Z"
    }
   },
   "outputs": [],
   "source": [
    "new_problem.add_objectives(\"test_sim\", obj_1=\"move_water.s.total_flow\", objtype='vars', t=25)"
   ]
  },
  {
   "cell_type": "markdown",
   "id": "b6580b4f",
   "metadata": {},
   "source": [
    "We can additionally add constraints to the problem, in this case power as read at t=25."
   ]
  },
  {
   "cell_type": "code",
   "execution_count": 11,
   "id": "3a36c2c5",
   "metadata": {
    "execution": {
     "iopub.execute_input": "2023-09-29T21:47:23.212202Z",
     "iopub.status.busy": "2023-09-29T21:47:23.212202Z",
     "iopub.status.idle": "2023-09-29T21:47:23.216683Z",
     "shell.execute_reply": "2023-09-29T21:47:23.216179Z"
    }
   },
   "outputs": [],
   "source": [
    "new_problem.add_constraints(\"test_sim\", con_1 = \"wat_1.s.pressure\", objtype='vars', t=11, threshold = ('less', 20))"
   ]
  },
  {
   "cell_type": "markdown",
   "id": "f87a3eee",
   "metadata": {},
   "source": [
    "Note that if all objectives and constraints are sampled in time before the defined simulation end-point, it will finish before completion to save computational time.\n"
   ]
  },
  {
   "cell_type": "code",
   "execution_count": 12,
   "id": "511557c0",
   "metadata": {
    "execution": {
     "iopub.execute_input": "2023-09-29T21:47:23.219677Z",
     "iopub.status.busy": "2023-09-29T21:47:23.219677Z",
     "iopub.status.idle": "2023-09-29T21:47:23.225457Z",
     "shell.execute_reply": "2023-09-29T21:47:23.225457Z"
    }
   },
   "outputs": [],
   "source": [
    "new_problem"
   ]
  },
  {
   "cell_type": "markdown",
   "id": "1b67abce",
   "metadata": {},
   "source": [
    "The string representation of the problem shows how the objectives/constraints have been set up, that reflects:\n",
    "- the form of the objectives as positive or negative for maximization/minimization (set with the `agg` parameter in `add_objectives`).\n",
    "- the form of the constraints as positive or negative based on the `threshold` parameter in `add_constraints` and overall `negative_form` setting.\n",
    "\n",
    "These parameters will need to be adjusted depending on whether the interfacing optimization package is set up for minimization or maximization or in positive or negative null form (where feasible means positive or negative constraint values)."
   ]
  },
  {
   "cell_type": "markdown",
   "id": "7f61cea4",
   "metadata": {},
   "source": [
    "### Problem interfaces\n",
    "Now that this problem is set up, we now have interfaces which can be passed to optimization methods. These are methods which *match the names of the objectives/constraints defined earlier* which can be passed as callables to optimizaiton methods."
   ]
  },
  {
   "cell_type": "code",
   "execution_count": 13,
   "id": "0037f6c3",
   "metadata": {
    "execution": {
     "iopub.execute_input": "2023-09-29T21:47:23.228451Z",
     "iopub.status.busy": "2023-09-29T21:47:23.228451Z",
     "iopub.status.idle": "2023-09-29T21:47:23.285702Z",
     "shell.execute_reply": "2023-09-29T21:47:23.285702Z"
    }
   },
   "outputs": [],
   "source": [
    "new_problem.obj_1([3])"
   ]
  },
  {
   "cell_type": "markdown",
   "id": "56549fee",
   "metadata": {},
   "source": [
    "Note that despite being different callables, to reduce simulation costs, `obj_1` and `con_1` only *simulate the model* when a new variable value is entered into the problem. This can be seen by looking at the `current_iter` __repr__, which shows the values of the objectives/constraints a the current variable value."
   ]
  },
  {
   "cell_type": "markdown",
   "id": "b4ba6c0e",
   "metadata": {},
   "source": [
    "Additionally, provided the tracking options are set to on, the `plot_obj_const` method enables rapid visualization of objectives, constraints, and variables (and where they are queried):"
   ]
  },
  {
   "cell_type": "code",
   "execution_count": 14,
   "id": "2d42ba2e",
   "metadata": {
    "execution": {
     "iopub.execute_input": "2023-09-29T21:47:23.288731Z",
     "iopub.status.busy": "2023-09-29T21:47:23.288731Z",
     "iopub.status.idle": "2023-09-29T21:47:23.857933Z",
     "shell.execute_reply": "2023-09-29T21:47:23.857401Z"
    }
   },
   "outputs": [],
   "source": [
    "new_problem.plot_obj_const('test_sim')"
   ]
  },
  {
   "cell_type": "markdown",
   "id": "fda87670",
   "metadata": {},
   "source": [
    "### Optimization:\n",
    "Now, we will demonstrate optimization using this problem as it is set up:"
   ]
  },
  {
   "cell_type": "code",
   "execution_count": 15,
   "id": "d3be1ddc",
   "metadata": {
    "execution": {
     "iopub.execute_input": "2023-09-29T21:47:23.860908Z",
     "iopub.status.busy": "2023-09-29T21:47:23.859929Z",
     "iopub.status.idle": "2023-09-29T21:47:23.864161Z",
     "shell.execute_reply": "2023-09-29T21:47:23.864161Z"
    }
   },
   "outputs": [],
   "source": [
    "from scipy.optimize import minimize"
   ]
  },
  {
   "cell_type": "code",
   "execution_count": 16,
   "id": "403a6892",
   "metadata": {
    "execution": {
     "iopub.execute_input": "2023-09-29T21:47:23.867176Z",
     "iopub.status.busy": "2023-09-29T21:47:23.867176Z",
     "iopub.status.idle": "2023-09-29T21:47:23.871237Z",
     "shell.execute_reply": "2023-09-29T21:47:23.871237Z"
    }
   },
   "outputs": [],
   "source": [
    "new_problem.current_iter"
   ]
  },
  {
   "cell_type": "code",
   "execution_count": 17,
   "id": "2ed5821b",
   "metadata": {
    "execution": {
     "iopub.execute_input": "2023-09-29T21:47:23.874267Z",
     "iopub.status.busy": "2023-09-29T21:47:23.874267Z",
     "iopub.status.idle": "2023-09-29T21:47:23.876647Z",
     "shell.execute_reply": "2023-09-29T21:47:23.876647Z"
    }
   },
   "outputs": [],
   "source": [
    "constraints=new_problem.get_constraint_list()"
   ]
  },
  {
   "cell_type": "code",
   "execution_count": 18,
   "id": "ffe809fe",
   "metadata": {
    "execution": {
     "iopub.execute_input": "2023-09-29T21:47:23.879679Z",
     "iopub.status.busy": "2023-09-29T21:47:23.879679Z",
     "iopub.status.idle": "2023-09-29T21:47:23.884417Z",
     "shell.execute_reply": "2023-09-29T21:47:23.884417Z"
    }
   },
   "outputs": [],
   "source": [
    "constraints[0]['fun']([8])"
   ]
  },
  {
   "cell_type": "markdown",
   "id": "f20e5dd4",
   "metadata": {},
   "source": [
    "Note that scipy minimize assumes that:\n",
    "- objectives are to be minimized, and\n",
    "- constraints must be held positive \n",
    "\n",
    "The problem should thus be set up to accomodate this, by stating whether objectives should be positive/negative and by setting `negative_form=False`."
   ]
  },
  {
   "cell_type": "code",
   "execution_count": 19,
   "id": "f266e3af",
   "metadata": {
    "execution": {
     "iopub.execute_input": "2023-09-29T21:47:23.887446Z",
     "iopub.status.busy": "2023-09-29T21:47:23.887446Z",
     "iopub.status.idle": "2023-09-29T21:47:23.958193Z",
     "shell.execute_reply": "2023-09-29T21:47:23.958193Z"
    }
   },
   "outputs": [],
   "source": [
    "res = minimize(new_problem.obj_1, [1], constraints=new_problem.get_constraint_list())"
   ]
  },
  {
   "cell_type": "code",
   "execution_count": 20,
   "id": "c2cc10fb",
   "metadata": {
    "execution": {
     "iopub.execute_input": "2023-09-29T21:47:23.961240Z",
     "iopub.status.busy": "2023-09-29T21:47:23.961240Z",
     "iopub.status.idle": "2023-09-29T21:47:23.965304Z",
     "shell.execute_reply": "2023-09-29T21:47:23.965304Z"
    }
   },
   "outputs": [],
   "source": [
    "res"
   ]
  },
  {
   "cell_type": "markdown",
   "id": "5acd9645",
   "metadata": {},
   "source": [
    "As shown, the variables are optimized to a value of x=0.0, the minimum possible value of MoveWater.eff which was put in the problem. We can further verify the optimized result by looking at the problem:"
   ]
  },
  {
   "cell_type": "code",
   "execution_count": 21,
   "id": "dfbd5dee",
   "metadata": {
    "execution": {
     "iopub.execute_input": "2023-09-29T21:47:23.968329Z",
     "iopub.status.busy": "2023-09-29T21:47:23.967332Z",
     "iopub.status.idle": "2023-09-29T21:47:23.971773Z",
     "shell.execute_reply": "2023-09-29T21:47:23.971773Z"
    }
   },
   "outputs": [],
   "source": [
    "new_problem"
   ]
  },
  {
   "cell_type": "markdown",
   "id": "f77c66ef",
   "metadata": {},
   "source": [
    "As shown, the bound set constraint x>0 is active at the found minimum, as we would expect.\n",
    "\n",
    "We can further visualize this solution using:"
   ]
  },
  {
   "cell_type": "code",
   "execution_count": 22,
   "id": "0e25aa79",
   "metadata": {
    "execution": {
     "iopub.execute_input": "2023-09-29T21:47:23.974801Z",
     "iopub.status.busy": "2023-09-29T21:47:23.974801Z",
     "iopub.status.idle": "2023-09-29T21:47:24.451730Z",
     "shell.execute_reply": "2023-09-29T21:47:24.451730Z"
    }
   },
   "outputs": [],
   "source": [
    "new_problem.plot_obj_const('test_sim')"
   ]
  },
  {
   "cell_type": "markdown",
   "id": "e16382c2",
   "metadata": {},
   "source": [
    "This result for this minimization is somewhat obvious. Alternatively, it may be interesting to see what would happen if we instead maximized the objective (as in, searched for the `eff` value that maximized total flow despite constraints/fault modes)."
   ]
  },
  {
   "cell_type": "code",
   "execution_count": 23,
   "id": "fe7c8aa1",
   "metadata": {
    "execution": {
     "iopub.execute_input": "2023-09-29T21:47:24.454759Z",
     "iopub.status.busy": "2023-09-29T21:47:24.454759Z",
     "iopub.status.idle": "2023-09-29T21:47:24.464182Z",
     "shell.execute_reply": "2023-09-29T21:47:24.464182Z"
    }
   },
   "outputs": [],
   "source": [
    "mdl=Pump()\n",
    "problem_2 = ProblemInterface(\"new_problem\", mdl, staged=True, negative_form=False)\n",
    "problem_2.add_variables(\"test_sim\", (\"move_water.s.eff\", [0,5]), t=10)\n",
    "problem_2.add_simulation(\"test_sim\",\"single\", sequence={20:{\"faults\":{\"import_ee\": \"no_v\"}}})\n",
    "problem_2.add_objectives(\"test_sim\", obj_1=\"move_water.s.total_flow\", objtype='vars', t=25, agg=(\"-\", \"sum\"))\n",
    "problem_2.add_constraints(\"test_sim\", con_1 = \"wat_1.s.pressure\", objtype='vars', t=11, threshold = ('less', 20))"
   ]
  },
  {
   "cell_type": "code",
   "execution_count": 24,
   "id": "365ec70c",
   "metadata": {
    "execution": {
     "iopub.execute_input": "2023-09-29T21:47:24.467224Z",
     "iopub.status.busy": "2023-09-29T21:47:24.467224Z",
     "iopub.status.idle": "2023-09-29T21:47:24.471221Z",
     "shell.execute_reply": "2023-09-29T21:47:24.471221Z"
    }
   },
   "outputs": [],
   "source": [
    "problem_2"
   ]
  },
  {
   "cell_type": "code",
   "execution_count": 25,
   "id": "19331080",
   "metadata": {
    "execution": {
     "iopub.execute_input": "2023-09-29T21:47:24.474201Z",
     "iopub.status.busy": "2023-09-29T21:47:24.474201Z",
     "iopub.status.idle": "2023-09-29T21:47:24.538758Z",
     "shell.execute_reply": "2023-09-29T21:47:24.537728Z"
    }
   },
   "outputs": [],
   "source": [
    "problem_2.con_1([1])"
   ]
  },
  {
   "cell_type": "code",
   "execution_count": 26,
   "id": "017602cf",
   "metadata": {
    "execution": {
     "iopub.execute_input": "2023-09-29T21:47:24.541746Z",
     "iopub.status.busy": "2023-09-29T21:47:24.540749Z",
     "iopub.status.idle": "2023-09-29T21:47:24.545454Z",
     "shell.execute_reply": "2023-09-29T21:47:24.545454Z"
    }
   },
   "outputs": [],
   "source": [
    "problem_2.x_to_obj_const([1], \"set_const\")"
   ]
  },
  {
   "cell_type": "code",
   "execution_count": 27,
   "id": "9256a154",
   "metadata": {
    "execution": {
     "iopub.execute_input": "2023-09-29T21:47:24.548477Z",
     "iopub.status.busy": "2023-09-29T21:47:24.547482Z",
     "iopub.status.idle": "2023-09-29T21:47:24.602274Z",
     "shell.execute_reply": "2023-09-29T21:47:24.602274Z"
    }
   },
   "outputs": [],
   "source": [
    "res = minimize(problem_2.obj_1, [1], constraints=problem_2.get_constraint_list())"
   ]
  },
  {
   "cell_type": "code",
   "execution_count": 28,
   "id": "37dddbcb",
   "metadata": {
    "execution": {
     "iopub.execute_input": "2023-09-29T21:47:24.605326Z",
     "iopub.status.busy": "2023-09-29T21:47:24.605326Z",
     "iopub.status.idle": "2023-09-29T21:47:24.609374Z",
     "shell.execute_reply": "2023-09-29T21:47:24.609374Z"
    }
   },
   "outputs": [],
   "source": [
    "res"
   ]
  },
  {
   "cell_type": "code",
   "execution_count": 29,
   "id": "d75741bb",
   "metadata": {
    "execution": {
     "iopub.execute_input": "2023-09-29T21:47:24.612402Z",
     "iopub.status.busy": "2023-09-29T21:47:24.612402Z",
     "iopub.status.idle": "2023-09-29T21:47:24.615828Z",
     "shell.execute_reply": "2023-09-29T21:47:24.615828Z"
    }
   },
   "outputs": [],
   "source": [
    "problem_2"
   ]
  },
  {
   "cell_type": "markdown",
   "id": "9102d650",
   "metadata": {},
   "source": [
    "As shown, the constraint `con_1` is active, meaning the optimal presure at `t=11` is just at the threshold of 20. This corresponds to the optimized `MoveWater.eff` value of 2.0.\n",
    "\n",
    "We can see this below:"
   ]
  },
  {
   "cell_type": "code",
   "execution_count": 30,
   "id": "0e1e5b28",
   "metadata": {
    "execution": {
     "iopub.execute_input": "2023-09-29T21:47:24.618855Z",
     "iopub.status.busy": "2023-09-29T21:47:24.617861Z",
     "iopub.status.idle": "2023-09-29T21:47:25.106601Z",
     "shell.execute_reply": "2023-09-29T21:47:25.106601Z"
    }
   },
   "outputs": [],
   "source": [
    "problem_2.plot_obj_const('test_sim')"
   ]
  },
  {
   "cell_type": "markdown",
   "id": "8bb3dcdf",
   "metadata": {},
   "source": [
    "### Multi-scenario Optimization\n",
    "\n",
    "In addition to optimizing over single-scenarios `Problem` can be used to optimize over lists of scenarios from an `SampleApproach` or `NominalApproach`.\n",
    "\n",
    "Here we define a slightly different problem, where instead of optimizing variable changes at specific times (e.g., faults), we instead optimize the model parameter `delay`, which changes how long of a delay there is before a fault when there is adverse pressure.\n",
    "\n",
    "To see the effect of this accross scenarios, we first define an approach:"
   ]
  },
  {
   "cell_type": "code",
   "execution_count": 31,
   "id": "ddf0402c",
   "metadata": {
    "execution": {
     "iopub.execute_input": "2023-09-29T21:47:25.109630Z",
     "iopub.status.busy": "2023-09-29T21:47:25.109630Z",
     "iopub.status.idle": "2023-09-29T21:47:25.114183Z",
     "shell.execute_reply": "2023-09-29T21:47:25.114183Z"
    }
   },
   "outputs": [],
   "source": [
    "app = SampleApproach(mdl, faults=\"export_water\", phases=[\"on\"], defaultsamp={'samp':'evenspacing','numpts':4})"
   ]
  },
  {
   "cell_type": "code",
   "execution_count": 32,
   "id": "ca8abc5b",
   "metadata": {
    "execution": {
     "iopub.execute_input": "2023-09-29T21:47:25.118174Z",
     "iopub.status.busy": "2023-09-29T21:47:25.117177Z",
     "iopub.status.idle": "2023-09-29T21:47:25.121877Z",
     "shell.execute_reply": "2023-09-29T21:47:25.121877Z"
    }
   },
   "outputs": [],
   "source": [
    "app"
   ]
  },
  {
   "cell_type": "markdown",
   "id": "4d15670f",
   "metadata": {},
   "source": [
    "The scenlist from this approach is given to the same model."
   ]
  },
  {
   "cell_type": "code",
   "execution_count": 33,
   "id": "3d2be79c",
   "metadata": {
    "execution": {
     "iopub.execute_input": "2023-09-29T21:47:25.124907Z",
     "iopub.status.busy": "2023-09-29T21:47:25.124907Z",
     "iopub.status.idle": "2023-09-29T21:47:25.128798Z",
     "shell.execute_reply": "2023-09-29T21:47:25.128410Z"
    }
   },
   "outputs": [],
   "source": [
    "multi_problem = ProblemInterface(\"multi_problem\", mdl, negative_form=False) #, track='valparams')\n",
    "multi_problem.add_simulation(\"test_multi\", \"multi\", app.scenlist)"
   ]
  },
  {
   "cell_type": "markdown",
   "id": "4bbc6971",
   "metadata": {},
   "source": [
    "Next the delay parameter is added. Note that since this a model parameter (set at the beginning of the simulation), `vartype` is set to \"param\"."
   ]
  },
  {
   "cell_type": "code",
   "execution_count": 34,
   "id": "1c0e6ae4",
   "metadata": {
    "execution": {
     "iopub.execute_input": "2023-09-29T21:47:25.131828Z",
     "iopub.status.busy": "2023-09-29T21:47:25.131828Z",
     "iopub.status.idle": "2023-09-29T21:47:25.135541Z",
     "shell.execute_reply": "2023-09-29T21:47:25.134953Z"
    }
   },
   "outputs": [],
   "source": [
    "multi_problem.add_variables(\"test_multi\", (\"delay\", [0,45]), vartype='param')"
   ]
  },
  {
   "cell_type": "markdown",
   "id": "14f8f3f1",
   "metadata": {},
   "source": [
    "Our objective for this problem will be to minimize the cost model overall scenarios that is defined in `mdl.find_classification`. Note that this means `objtype` must be set to \"endclass\", since the objective will be a value of the endclass dictionary corresponding to the key \"expected cost\"."
   ]
  },
  {
   "cell_type": "code",
   "execution_count": 35,
   "id": "894cea17",
   "metadata": {
    "execution": {
     "iopub.execute_input": "2023-09-29T21:47:25.138562Z",
     "iopub.status.busy": "2023-09-29T21:47:25.137565Z",
     "iopub.status.idle": "2023-09-29T21:47:25.141267Z",
     "shell.execute_reply": "2023-09-29T21:47:25.141267Z"
    }
   },
   "outputs": [],
   "source": [
    "multi_problem.add_objectives(\"test_multi\", cost=\"expected cost\", objtype='endclass')"
   ]
  },
  {
   "cell_type": "markdown",
   "id": "786a8277",
   "metadata": {},
   "source": [
    "We can then verify the problem setup. Note that no constraints will be used in this problem:"
   ]
  },
  {
   "cell_type": "code",
   "execution_count": 36,
   "id": "96e1224b",
   "metadata": {
    "execution": {
     "iopub.execute_input": "2023-09-29T21:47:25.144292Z",
     "iopub.status.busy": "2023-09-29T21:47:25.144292Z",
     "iopub.status.idle": "2023-09-29T21:47:25.147696Z",
     "shell.execute_reply": "2023-09-29T21:47:25.147696Z"
    }
   },
   "outputs": [],
   "source": [
    "multi_problem"
   ]
  },
  {
   "cell_type": "markdown",
   "id": "7e9dacbc",
   "metadata": {},
   "source": [
    "We may now minimize the objective function:"
   ]
  },
  {
   "cell_type": "code",
   "execution_count": 37,
   "id": "63f9f0f5",
   "metadata": {
    "execution": {
     "iopub.execute_input": "2023-09-29T21:47:25.150690Z",
     "iopub.status.busy": "2023-09-29T21:47:25.150690Z",
     "iopub.status.idle": "2023-09-29T21:47:27.732153Z",
     "shell.execute_reply": "2023-09-29T21:47:27.732153Z"
    }
   },
   "outputs": [],
   "source": [
    "res = minimize(multi_problem.cost, [5], method=\"SLSQP\", bounds=[[0,40]])"
   ]
  },
  {
   "cell_type": "code",
   "execution_count": 39,
   "id": "90a74714",
   "metadata": {},
   "outputs": [],
   "source": [
    "res = minimize(multi_problem.cost, [5], method=\"nelder-mead\")"
   ]
  },
  {
   "cell_type": "code",
   "execution_count": 40,
   "id": "9a932151",
   "metadata": {},
   "outputs": [],
   "source": [
    "res"
   ]
  },
  {
   "cell_type": "markdown",
   "id": "980276d6",
   "metadata": {},
   "source": [
    "Interestingly enough, while the optimizer gives a \"optimization terminated successfully,\" it stays at the initial point. This may be because of a poor fit of oftimization method. See:"
   ]
  },
  {
   "cell_type": "code",
   "execution_count": 41,
   "id": "4d44bb84",
   "metadata": {},
   "outputs": [],
   "source": [
    "objs = [multi_problem.cost([i]) for i in range(100)]"
   ]
  },
  {
   "cell_type": "code",
   "execution_count": 42,
   "id": "51cb728e",
   "metadata": {},
   "outputs": [],
   "source": [
    "plt.plot(objs)\n",
    "plt.scatter(res.x, res.fun)"
   ]
  },
  {
   "cell_type": "markdown",
   "id": "2f13a785",
   "metadata": {},
   "source": [
    "As shown, the objective appears to be non-differentiable, with several plateaus between the starting point (20) and the minimum. Since the `SLSQP` solver is a gradient-based solver, it probably sees the gradient as 0 at this point, making it think the result is already an optimum. \n",
    "\n",
    "While many different optimization packages exist, one of the more-developed ones is the `pymoo` package ([see reference](https://pymoo.org/)). Below we show how to interface with `pymoo` to use a solver that will find the optimal solution."
   ]
  },
  {
   "cell_type": "code",
   "execution_count": 43,
   "id": "fc552561",
   "metadata": {},
   "outputs": [],
   "source": [
    "from pymoo.optimize import minimize\n",
    "from pymoo.algorithms.soo.nonconvex.pattern import PatternSearch\n",
    "import numpy as np"
   ]
  },
  {
   "cell_type": "markdown",
   "id": "161963dd",
   "metadata": {},
   "source": [
    "The method `.to_pymoo_problem()` sets up a [pymoo problem object](https://pymoo.org/interface/problem.html) which can be used with a pymoo algorithm per the documentation. Note that this object corresponds directly (that is, is linked) to the original problem (see below)."
   ]
  },
  {
   "cell_type": "code",
   "execution_count": 44,
   "id": "f99785b0",
   "metadata": {},
   "outputs": [],
   "source": [
    "pymoo_prob = multi_problem.to_pymoo_problem()"
   ]
  },
  {
   "cell_type": "code",
   "execution_count": 45,
   "id": "5087f030",
   "metadata": {},
   "outputs": [],
   "source": [
    "algorithm=PatternSearch(x0=np.array([5])) "
   ]
  },
  {
   "cell_type": "code",
   "execution_count": 46,
   "id": "6278f8ab",
   "metadata": {},
   "outputs": [],
   "source": [
    "res = minimize(pymoo_prob, algorithm, verbose=True)"
   ]
  },
  {
   "cell_type": "code",
   "execution_count": 47,
   "id": "81c885f8",
   "metadata": {},
   "outputs": [],
   "source": [
    "res.X"
   ]
  },
  {
   "cell_type": "code",
   "execution_count": 48,
   "id": "b2411b61",
   "metadata": {},
   "outputs": [],
   "source": [
    "res.F"
   ]
  },
  {
   "cell_type": "code",
   "execution_count": 49,
   "id": "0dac7ac6",
   "metadata": {},
   "outputs": [],
   "source": [
    "plt.plot(objs)\n",
    "plt.scatter(res.X, res.F)"
   ]
  },
  {
   "cell_type": "markdown",
   "id": "ff3fc39d",
   "metadata": {},
   "source": [
    "As shown, this method more capably finds the minimum in this case, in part because the underlying search algorithm (Hooke and Jeeves Pattern Search) is more robust to this type of problem."
   ]
  },
  {
   "cell_type": "markdown",
   "id": "beb04929",
   "metadata": {},
   "source": [
    "We can visualize the results of this problem by looking at the simulation log:"
   ]
  },
  {
   "cell_type": "code",
   "execution_count": 50,
   "id": "90dca149",
   "metadata": {},
   "outputs": [],
   "source": [
    "fig, ax = an.plot.mdlhists(multi_problem._sims['test_multi']['mdlhists'],\\\n",
    "              fxnflowvals={\"MoveWater\":['total_flow', \"faults\"], \"Wat_2\":{\"area\", 'flowrate', 'pressure'}},\\\n",
    "              time_slice=app.times, legend_loc=False)"
   ]
  },
  {
   "cell_type": "markdown",
   "id": "f5daa5a8",
   "metadata": {},
   "source": [
    "Compare this with the response at the initial value:"
   ]
  },
  {
   "cell_type": "code",
   "execution_count": 51,
   "id": "2c5daa7e",
   "metadata": {},
   "outputs": [],
   "source": [
    "multi_problem.cost([1])\n",
    "fig, ax = an.plot.mdlhists(multi_problem._sims['test_multi']['mdlhists'],\\\n",
    "              fxnflowvals={\"MoveWater\":['total_flow', \"faults\"], \"Wat_2\":{\"area\", 'flowrate', 'pressure'}},\\\n",
    "              time_slice=app.times, legend_loc=False)"
   ]
  },
  {
   "cell_type": "markdown",
   "id": "456c1316",
   "metadata": {},
   "source": [
    "As shown, the main difference is that at the initial point, the short delay causes the pump to during the time of the simulation, while at a long delay, the pump breaks later in the simulation. The optimum is at t=37 since this is the first point where all four scenarios no longer result in a mechanical break of the pump."
   ]
  },
  {
   "cell_type": "code",
   "execution_count": null,
   "id": "391c49ad",
   "metadata": {},
   "outputs": [],
   "source": []
  }
 ],
 "metadata": {
  "kernelspec": {
   "display_name": "Python 3 (ipykernel)",
   "language": "python",
   "name": "python3"
  },
  "language_info": {
   "codemirror_mode": {
    "name": "ipython",
    "version": 3
   },
   "file_extension": ".py",
   "mimetype": "text/x-python",
   "name": "python",
   "nbconvert_exporter": "python",
   "pygments_lexer": "ipython3",
   "version": "3.10.9"
  },
  "vscode": {
   "interpreter": {
    "hash": "e91384d516de244e8027664e7296e7623a911fd9d79a3021d1ef03e3e53e2456"
   }
  }
 },
 "nbformat": 4,
 "nbformat_minor": 5
}
