{
 "cells": [
  {
   "cell_type": "markdown",
   "id": "fe41d669",
   "metadata": {},
   "source": [
    "# Optimization using the ProblemInterface class\n",
    "\n",
    "\n",
    "**DISCLAIMER: Optimization modules do not work currently, see RAD-225**\n",
    "\n",
    "This notebook will show the basics of setting up a resilience optimization problem with the `Problem` class in `fmdtools.sim.search` module."
   ]
  },
  {
   "cell_type": "code",
   "execution_count": 1,
   "id": "43a662d2",
   "metadata": {},
   "outputs": [],
   "source": [
    "from fmdtools.sim.search import ProblemInterface\n",
    "from fmdtools.sim.approach import SampleApproach\n",
    "from matplotlib import pyplot as plt\n",
    "import fmdtools.analyze as an\n",
    "from pump_stochastic import Pump"
   ]
  },
  {
   "cell_type": "markdown",
   "id": "8c7be27e",
   "metadata": {},
   "source": [
    "### ProblemInterface Setup\n",
    "The `ProblemInterface` class can be used to define an optimization problem around and fmdtools model/simulation in terms of variables, objectives, and constraints. See below:"
   ]
  },
  {
   "cell_type": "code",
   "execution_count": 2,
   "id": "5120bf24",
   "metadata": {},
   "outputs": [
    {
     "name": "stdout",
     "output_type": "stream",
     "text": [
      "\n",
      "    Interfaces for resilience optimization problems. \n",
      "    \n",
      "    Attributes\n",
      "    ----------\n",
      "        simulations : dict\n",
      "            Dictionary of simulations and their corresponding arguments\n",
      "        variables : list\n",
      "            List of variables and their properties\n",
      "        objectives : dict\n",
      "            Dictionary of objectives and their times/arguments\n",
      "        constraints : dict\n",
      "            Dictionary of constraints and their times/arguments\n",
      "        current_iter : dict\n",
      "            Dictionary of current values for variables/objectives/constraints/etc.\n",
      "    \n"
     ]
    }
   ],
   "source": [
    "print(ProblemInterface.__doc__)"
   ]
  },
  {
   "cell_type": "markdown",
   "id": "6aaed428",
   "metadata": {},
   "source": [
    "The problem class has many of the same objects as the methods in the `sim.propagate` module:"
   ]
  },
  {
   "cell_type": "code",
   "execution_count": 3,
   "id": "20e6a3a5",
   "metadata": {},
   "outputs": [
    {
     "name": "stdout",
     "output_type": "stream",
     "text": [
      "Help on function __init__ in module fmdtools.sim.search:\n",
      "\n",
      "__init__(self, name, mdl, default_p={}, negative_form=True, log_iter_hist=False, **kwargs)\n",
      "    Instantiates the Problem object.\n",
      "    \n",
      "    Parameters\n",
      "    ----------\n",
      "    \n",
      "    name : str\n",
      "        Name for the problem\n",
      "    mdl : Model\n",
      "        Model to optimize\n",
      "    negative_form : bool\n",
      "        Whether constraints are negative when feasible (True) or positive when feasible (False)\n",
      "    default_p : dict\n",
      "        Default parameters for the model\n",
      "    **kwargs : kwargs\n",
      "        Default run kwargs. See :data:`sim_kwargs`, :data:`run_kwargs`, :data:`mult_kwargs`\n",
      "\n"
     ]
    }
   ],
   "source": [
    "help(ProblemInterface.__init__)"
   ]
  },
  {
   "cell_type": "markdown",
   "id": "bb6345b2",
   "metadata": {},
   "source": [
    "Below we send the pump model and specify to simulate it using the `staged` option (which should be much faster to iterate over)."
   ]
  },
  {
   "cell_type": "code",
   "execution_count": 4,
   "id": "949e8a24",
   "metadata": {},
   "outputs": [],
   "source": [
    "mdl=Pump()\n",
    "new_problem = ProblemInterface(\"new_problem\", mdl, staged=True, negative_form=False)"
   ]
  },
  {
   "cell_type": "markdown",
   "id": "3c8fd774",
   "metadata": {},
   "source": [
    "Next, a simulation is added to the `Problem` using `Problem.add_simulation`"
   ]
  },
  {
   "cell_type": "code",
   "execution_count": 5,
   "id": "f3e7d6a1",
   "metadata": {},
   "outputs": [
    {
     "name": "stdout",
     "output_type": "stream",
     "text": [
      "Help on function add_simulation in module fmdtools.sim.search:\n",
      "\n",
      "add_simulation(self, simname, simtype, *args, **kwargs)\n",
      "    Defines a simulation to be used with the model\n",
      "    \n",
      "    Parameters\n",
      "    ----------\n",
      "    simname : str\n",
      "        Name/identifier for the simulation.\n",
      "    simtype : str, optional\n",
      "        Type of simulation(s) to run (aligns with propagate methods):\n",
      "            - single:      simulates a single scenario (the default)\n",
      "                - args: sequence: sequence defining fault scenario {time:{'faults':(fxn:mode), 'disturbances':{'Fxn1.var1'}})}\n",
      "            - multi:       simulates multiple scenarios (provided approach or nominalapproach)\n",
      "                - args: scenlist: dict with structure {\"scenname\":Scenario}\n",
      "                        (can be gotten from prop.list_init_faults, SampleApproach, or NominalApproach)\n",
      "            - nested:      simulates nested scenarios (provided approach and nominalapproach)\n",
      "                - args: see prop.nested_approach\n",
      "            - external_func:    calls an external function (rather than a simulation)\n",
      "                - args: callable\n",
      "            - custom_sim:       calls an external function with arguments (mdl) or (mdl, mdlhist)\n",
      "                - args: callable\n",
      "            - set_const:        used for set constraints\n",
      "    *args : args\n",
      "        Custom arguments for the given simulation type (see above)\n",
      "    **kwargs : dict\n",
      "        run, sim, and mult_kwargs from prop. \n",
      "        \n",
      "        include_nominal: bool\n",
      "            whether to include nominal scenario in multi simulation. default is True\n",
      "        upstream_sims: dict\n",
      "            Dictionary specifying connection with an upstream simulation. With structure:\n",
      "                {'upstream_simname':{'p':{'ext_varname':'paramname'}}}, 'vars':{'ext_varname':'varname'}}\n",
      "\n"
     ]
    }
   ],
   "source": [
    "help(ProblemInterface.add_simulation)"
   ]
  },
  {
   "cell_type": "markdown",
   "id": "451b198c",
   "metadata": {},
   "source": [
    "In this case, we will optimize over a single scenario, passing ``single`` as the simtype."
   ]
  },
  {
   "cell_type": "code",
   "execution_count": 6,
   "id": "aff01c2d",
   "metadata": {},
   "outputs": [],
   "source": [
    "new_problem.add_simulation(\"test_sim\",\"single\", sequence={20:{\"faults\":{\"import_ee\": \"no_v\"}}})"
   ]
  },
  {
   "cell_type": "markdown",
   "id": "926ce330",
   "metadata": {},
   "source": [
    "Variables may then be added using `Problem.add_variables`. "
   ]
  },
  {
   "cell_type": "code",
   "execution_count": 7,
   "id": "53230a7c",
   "metadata": {},
   "outputs": [
    {
     "name": "stdout",
     "output_type": "stream",
     "text": [
      "Help on function add_variables in module fmdtools.sim.search:\n",
      "\n",
      "add_variables(self, simnames, *args, vartype='vars', t=0)\n",
      "    Adds variable of specified type ('p', 'vars', or 'faults') to a given problem. \n",
      "    Also adds variable set constraints (if given)\n",
      "    \n",
      "    Parameters\n",
      "    ----------\n",
      "    simnames : str/list\n",
      "        identifier for the simulation(s) the variable is optimized over\n",
      "    *args : tuples\n",
      "        variables to add, where each tuple has the form:\n",
      "        (varname, set_const (optional), vartype (optional), t (optional)), where\n",
      "        - varname is:\n",
      "            an element of mdl.p (if vartype='params')\n",
      "            a model variable (if vartype='vars')\n",
      "            a function name (if vartype='faults')\n",
      "        - set_const defines the variable set constraints, which may be:\n",
      "            None (for none/inf)\n",
      "            A two-element tuple (for continuous variable bounds)\n",
      "            A multi-element list (for discrete variables)\n",
      "        - vartype is the individual variable type (overrides vartype)\n",
      "        - t is the individual time (overrides t)\n",
      "    vartype : str\n",
      "        overall variable type defining the variable(s). The default is 'vars'\n",
      "            - `param`: element(s) of mdl.p (set pre-simulation)\n",
      "            - `vars`: function/flow variables (set during the simulation)\n",
      "            - 'faults': fault scenario variables (set during the simulation)\n",
      "            - 'external': variables for external func\n",
      "            - paramfunc: generates p from variable in function paramfunc\n",
      "\n"
     ]
    }
   ],
   "source": [
    "help(ProblemInterface.add_variables)"
   ]
  },
  {
   "cell_type": "markdown",
   "id": "3e9a0c37",
   "metadata": {},
   "source": [
    "In this case, we are optimizing a change in the `eff` parameter at time t=10. Note that using the `staged` option, this means that the model will be copied at this time and then simulated to the final simulation time.\n",
    "\n",
    "This variable is also given the set constraint (bounds) of [0,5], which will show up in the `constraints` dictionary."
   ]
  },
  {
   "cell_type": "code",
   "execution_count": 8,
   "id": "0f566ed9",
   "metadata": {},
   "outputs": [],
   "source": [
    "new_problem.add_variables(\"test_sim\", (\"move_water.s.eff\", [0,5]), t=10)"
   ]
  },
  {
   "cell_type": "markdown",
   "id": "bc3fbbee",
   "metadata": {},
   "source": [
    "We can further add objectives using `Problem.add_objectives`"
   ]
  },
  {
   "cell_type": "code",
   "execution_count": 9,
   "id": "4b1a49e4",
   "metadata": {},
   "outputs": [
    {
     "name": "stdout",
     "output_type": "stream",
     "text": [
      "Help on function add_objectives in module fmdtools.sim.search:\n",
      "\n",
      "add_objectives(self, simname, *args, objtype='endclass', t='end', obj_const='objectives', agg=('+', 'sum'), **kwargs)\n",
      "    Adds objective to the given problem.\n",
      "    \n",
      "    Parameters\n",
      "    ----------\n",
      "    simname : str\n",
      "        identifier for the simulation\n",
      "    *args : strs/tuples\n",
      "        variables to use as objectives (auto-named to f1, f2...)\n",
      "        may take form: (variablename, objtype (optional), t (optional), agg (optional)) \n",
      "        or variablename, where variablename is the name of the variable (from Parameter, SimParam)\n",
      "        or index of the callable (for external)and objtype, t, and agg may override\n",
      "        the default objtype and t (see below)\n",
      "    objtype : str (optional)\n",
      "        default type of objective: `vars`, `endclass`, or `external`. Default is 'endclass'\n",
      "    t : int (optional)\n",
      "        default time to get objective: 'end' or set time t\n",
      "    agg : tuple\n",
      "        Specifies the aggregation of the objective/constraint:\n",
      "        - for objectives: ('+'/'-','sum'/'difference'/'mult'/'max'/'min'), specifying \n",
      "        (1) whether the objective is:\n",
      "                - \"+\": positive (for minimization of the variable if the algorithm minimizes)\n",
      "                - \"-\": negative (for maximization of the variable if the algorithm minimizes)\n",
      "        (2) how to aggregate objectives over scenarios \n",
      "        - for constraints: (less'/'greater', val) where value is the threshold value\n",
      "    **kwargs : str=strs/tuples\n",
      "        Named objectives with their corresponding arg values (see args)\n",
      "        objectivename = variablename\n",
      "\n"
     ]
    }
   ],
   "source": [
    "help(ProblemInterface.add_objectives)"
   ]
  },
  {
   "cell_type": "markdown",
   "id": "931b612b",
   "metadata": {},
   "source": [
    "In this case, we are optimizing the total flow in the `MoveWater` function as read at time t=25. "
   ]
  },
  {
   "cell_type": "code",
   "execution_count": 10,
   "id": "0a0da861",
   "metadata": {},
   "outputs": [],
   "source": [
    "new_problem.add_objectives(\"test_sim\", obj_1=\"move_water.s.total_flow\", objtype='vars', t=25)"
   ]
  },
  {
   "cell_type": "markdown",
   "id": "b6580b4f",
   "metadata": {},
   "source": [
    "We can additionally add constraints to the problem, in this case power as read at t=25."
   ]
  },
  {
   "cell_type": "code",
   "execution_count": 11,
   "id": "3a36c2c5",
   "metadata": {},
   "outputs": [],
   "source": [
    "new_problem.add_constraints(\"test_sim\", con_1 = \"wat_1.s.pressure\", objtype='vars', t=11, threshold = ('less', 20))"
   ]
  },
  {
   "cell_type": "markdown",
   "id": "f87a3eee",
   "metadata": {},
   "source": [
    "Note that if all objectives and constraints are sampled in time before the defined simulation end-point, it will finish before completion to save computational time.\n"
   ]
  },
  {
   "cell_type": "code",
   "execution_count": 12,
   "id": "511557c0",
   "metadata": {},
   "outputs": [
    {
     "data": {
      "text/plain": [
       "Problem new_problem                                                     current value\n",
       " Variables\n",
       " -vars move_water.s.eff at t=10: [0, 5]                                           nan\n",
       " Objectives\n",
       " -obj_1: +sum(test_sim vars move_water.s.total_flow at t=25)                      nan\n",
       " Constraints\n",
       " -con_1: -(test_sim vars wat_1.s.pressure at t=11 -20)                            nan\n",
       " Simulations\n",
       " -test_sim: single scen: {20: {'faults': {'import_ee': 'no_v'}}}"
      ]
     },
     "execution_count": 12,
     "metadata": {},
     "output_type": "execute_result"
    }
   ],
   "source": [
    "new_problem"
   ]
  },
  {
   "cell_type": "markdown",
   "id": "1b67abce",
   "metadata": {},
   "source": [
    "The string representation of the problem shows how the objectives/constraints have been set up, that reflects:\n",
    "- the form of the objectives as positive or negative for maximization/minimization (set with the `agg` parameter in `add_objectives`).\n",
    "- the form of the constraints as positive or negative based on the `threshold` parameter in `add_constraints` and overall `negative_form` setting.\n",
    "\n",
    "These parameters will need to be adjusted depending on whether the interfacing optimization package is set up for minimization or maximization or in positive or negative null form (where feasible means positive or negative constraint values)."
   ]
  },
  {
   "cell_type": "markdown",
   "id": "7f61cea4",
   "metadata": {},
   "source": [
    "### Problem interfaces\n",
    "Now that this problem is set up, we now have interfaces which can be passed to optimization methods. These are methods which *match the names of the objectives/constraints defined earlier* which can be passed as callables to optimizaiton methods."
   ]
  },
  {
   "cell_type": "code",
   "execution_count": 13,
   "id": "0037f6c3",
   "metadata": {},
   "outputs": [
    {
     "data": {
      "text/plain": [
       "2.6999999999999997"
      ]
     },
     "execution_count": 13,
     "metadata": {},
     "output_type": "execute_result"
    }
   ],
   "source": [
    "new_problem.obj_1([3])"
   ]
  },
  {
   "cell_type": "markdown",
   "id": "56549fee",
   "metadata": {},
   "source": [
    "Note that despite being different callables, to reduce simulation costs, `obj_1` and `con_1` only *simulate the model* when a new variable value is entered into the problem. This can be seen by looking at the `current_iter` __repr__, which shows the values of the objectives/constraints a the current variable value."
   ]
  },
  {
   "cell_type": "markdown",
   "id": "b4ba6c0e",
   "metadata": {},
   "source": [
    "Additionally, provided the tracking options are set to on, the `plot_obj_const` method enables rapid visualization of objectives, constraints, and variables (and where they are queried):"
   ]
  },
  {
   "cell_type": "code",
   "execution_count": 15,
   "id": "2d42ba2e",
   "metadata": {},
   "outputs": [
    {
     "data": {
      "text/plain": [
       "(<Figure size 432x288 with 4 Axes>,\n",
       " array([<AxesSubplot:title={'center':'move_water.s.total_flow'}>,\n",
       "        <AxesSubplot:title={'center':'wat_1.s.pressure'}>,\n",
       "        <AxesSubplot:title={'center':'move_water.s.eff'}, xlabel='time'>,\n",
       "        <AxesSubplot:>], dtype=object))"
      ]
     },
     "execution_count": 15,
     "metadata": {},
     "output_type": "execute_result"
    },
    {
     "data": {
      "image/png": "[encoded data removed]",
      "text/plain": [
       "<Figure size 432x288 with 4 Axes>"
      ]
     },
     "metadata": {
      "needs_background": "light"
     },
     "output_type": "display_data"
    }
   ],
   "source": [
    "new_problem.plot_obj_const('test_sim')"
   ]
  },
  {
   "cell_type": "markdown",
   "id": "fda87670",
   "metadata": {},
   "source": [
    "### Optimization:\n",
    "Now, we will demonstrate optimization using this problem as it is set up:"
   ]
  },
  {
   "cell_type": "code",
   "execution_count": 16,
   "id": "d3be1ddc",
   "metadata": {},
   "outputs": [],
   "source": [
    "from scipy.optimize import minimize"
   ]
  },
  {
   "cell_type": "code",
   "execution_count": 17,
   "id": "403a6892",
   "metadata": {},
   "outputs": [
    {
     "data": {
      "text/plain": [
       "{'vars': array([3]),\n",
       " 'objs': {'obj_1': 2.6999999999999997},\n",
       " 'consts': {'con_1': 20.0},\n",
       " 'sims': {'test_sim'},\n",
       " 'sims_to_update': {'set_const'}}"
      ]
     },
     "execution_count": 17,
     "metadata": {},
     "output_type": "execute_result"
    }
   ],
   "source": [
    "new_problem.current_iter"
   ]
  },
  {
   "cell_type": "code",
   "execution_count": 18,
   "id": "2ed5821b",
   "metadata": {},
   "outputs": [],
   "source": [
    "constraints=new_problem.get_constraint_list()"
   ]
  },
  {
   "cell_type": "code",
   "execution_count": 19,
   "id": "ffe809fe",
   "metadata": {},
   "outputs": [
    {
     "data": {
      "text/plain": [
       "8"
      ]
     },
     "execution_count": 19,
     "metadata": {},
     "output_type": "execute_result"
    }
   ],
   "source": [
    "constraints[0]['fun']([8])"
   ]
  },
  {
   "cell_type": "markdown",
   "id": "f20e5dd4",
   "metadata": {},
   "source": [
    "Note that scipy minimize assumes that:\n",
    "- objectives are to be minimized, and\n",
    "- constraints must be held positive \n",
    "\n",
    "The problem should thus be set up to accomodate this, by stating whether objectives should be positive/negative and by setting `negative_form=False`."
   ]
  },
  {
   "cell_type": "code",
   "execution_count": 20,
   "id": "f266e3af",
   "metadata": {},
   "outputs": [],
   "source": [
    "res = minimize(new_problem.obj_1, [1], constraints=new_problem.get_constraint_list())"
   ]
  },
  {
   "cell_type": "code",
   "execution_count": 21,
   "id": "c2cc10fb",
   "metadata": {},
   "outputs": [
    {
     "data": {
      "text/plain": [
       "     fun: 2.6999999999999997\n",
       "     jac: array([0.])\n",
       " message: 'Optimization terminated successfully'\n",
       "    nfev: 2\n",
       "     nit: 1\n",
       "    njev: 1\n",
       "  status: 0\n",
       " success: True\n",
       "       x: array([1.])"
      ]
     },
     "execution_count": 21,
     "metadata": {},
     "output_type": "execute_result"
    }
   ],
   "source": [
    "res"
   ]
  },
  {
   "cell_type": "markdown",
   "id": "5acd9645",
   "metadata": {},
   "source": [
    "As shown, the variables are optimized to a value of x=0.0, the minimum possible value of MoveWater.eff which was put in the problem. We can further verify the optimized result by looking at the problem:"
   ]
  },
  {
   "cell_type": "code",
   "execution_count": 22,
   "id": "dfbd5dee",
   "metadata": {},
   "outputs": [
    {
     "data": {
      "text/plain": [
       "Problem new_problem                                                     current value\n",
       " Variables\n",
       " -vars move_water.s.eff at t=10: [0, 5]                                        1.0000\n",
       " Objectives\n",
       " -obj_1: +sum(test_sim vars move_water.s.total_flow at t=25)                   2.7000\n",
       " Constraints\n",
       " -con_1: -(test_sim vars wat_1.s.pressure at t=11 -20)                        20.0000\n",
       " Simulations\n",
       " -test_sim: single scen: {20: {'faults': {'import_ee': 'no_v'}}}"
      ]
     },
     "execution_count": 22,
     "metadata": {},
     "output_type": "execute_result"
    }
   ],
   "source": [
    "new_problem"
   ]
  },
  {
   "cell_type": "markdown",
   "id": "f77c66ef",
   "metadata": {},
   "source": [
    "As shown, the bound set constraint x>0 is active at the found minimum, as we would expect.\n",
    "\n",
    "We can further visualize this solution using:"
   ]
  },
  {
   "cell_type": "code",
   "execution_count": 23,
   "id": "0e25aa79",
   "metadata": {},
   "outputs": [
    {
     "data": {
      "text/plain": [
       "(<Figure size 432x288 with 4 Axes>,\n",
       " array([<AxesSubplot:title={'center':'move_water.s.total_flow'}>,\n",
       "        <AxesSubplot:title={'center':'wat_1.s.pressure'}>,\n",
       "        <AxesSubplot:title={'center':'move_water.s.eff'}, xlabel='time'>,\n",
       "        <AxesSubplot:>], dtype=object))"
      ]
     },
     "execution_count": 23,
     "metadata": {},
     "output_type": "execute_result"
    },
    {
     "data": {
      "image/png": "[encoded data removed]",
      "text/plain": [
       "<Figure size 432x288 with 4 Axes>"
      ]
     },
     "metadata": {
      "needs_background": "light"
     },
     "output_type": "display_data"
    }
   ],
   "source": [
    "new_problem.plot_obj_const('test_sim')"
   ]
  },
  {
   "cell_type": "markdown",
   "id": "e16382c2",
   "metadata": {},
   "source": [
    "This result for this minimization is somewhat obvious. Alternatively, it may be interesting to see what would happen if we instead maximized the objective (as in, searched for the `eff` value that maximized total flow despite constraints/fault modes)."
   ]
  },
  {
   "cell_type": "code",
   "execution_count": 27,
   "id": "fe7c8aa1",
   "metadata": {},
   "outputs": [],
   "source": [
    "mdl=Pump()\n",
    "problem_2 = ProblemInterface(\"new_problem\", mdl, staged=True, negative_form=False)\n",
    "problem_2.add_variables(\"test_sim\", (\"move_water.s.eff\", [0,5]), t=10)\n",
    "problem_2.add_simulation(\"test_sim\",\"single\", sequence={20:{\"faults\":{\"import_ee\": \"no_v\"}}})\n",
    "problem_2.add_objectives(\"test_sim\", obj_1=\"move_water.s.total_flow\", objtype='vars', t=25, agg=(\"-\", \"sum\"))\n",
    "problem_2.add_constraints(\"test_sim\", con_1 = \"wat_1.s.pressure\", objtype='vars', t=11, threshold = ('less', 20))"
   ]
  },
  {
   "cell_type": "code",
   "execution_count": 28,
   "id": "365ec70c",
   "metadata": {},
   "outputs": [
    {
     "data": {
      "text/plain": [
       "Problem new_problem                                                     current value\n",
       " Variables\n",
       " -vars move_water.s.eff at t=10: [0, 5]                                           nan\n",
       " Objectives\n",
       " -obj_1: -sum(test_sim vars move_water.s.total_flow at t=25)                      nan\n",
       " Constraints\n",
       " -con_1: -(test_sim vars wat_1.s.pressure at t=11 -20)                            nan\n",
       " Simulations\n",
       " -test_sim: single scen: {20: {'faults': {'import_ee': 'no_v'}}}"
      ]
     },
     "execution_count": 28,
     "metadata": {},
     "output_type": "execute_result"
    }
   ],
   "source": [
    "problem_2"
   ]
  },
  {
   "cell_type": "code",
   "execution_count": 29,
   "id": "19331080",
   "metadata": {},
   "outputs": [
    {
     "data": {
      "text/plain": [
       "20.0"
      ]
     },
     "execution_count": 29,
     "metadata": {},
     "output_type": "execute_result"
    }
   ],
   "source": [
    "problem_2.con_1([1])"
   ]
  },
  {
   "cell_type": "code",
   "execution_count": 30,
   "id": "017602cf",
   "metadata": {},
   "outputs": [
    {
     "data": {
      "text/plain": [
       "({'obj_1': -0.0}, {'con_1': 20.0, 'set_var_0_ub': 4, 'set_var_0_lb': 1})"
      ]
     },
     "execution_count": 30,
     "metadata": {},
     "output_type": "execute_result"
    }
   ],
   "source": [
    "problem_2.x_to_obj_const([1], \"set_const\")"
   ]
  },
  {
   "cell_type": "code",
   "execution_count": 31,
   "id": "9256a154",
   "metadata": {},
   "outputs": [],
   "source": [
    "res = minimize(problem_2.obj_1, [1], constraints=problem_2.get_constraint_list())"
   ]
  },
  {
   "cell_type": "code",
   "execution_count": 32,
   "id": "37dddbcb",
   "metadata": {},
   "outputs": [
    {
     "data": {
      "text/plain": [
       "     fun: -0.0\n",
       "     jac: array([0.])\n",
       " message: 'Optimization terminated successfully'\n",
       "    nfev: 2\n",
       "     nit: 1\n",
       "    njev: 1\n",
       "  status: 0\n",
       " success: True\n",
       "       x: array([1.])"
      ]
     },
     "execution_count": 32,
     "metadata": {},
     "output_type": "execute_result"
    }
   ],
   "source": [
    "res"
   ]
  },
  {
   "cell_type": "code",
   "execution_count": 33,
   "id": "d75741bb",
   "metadata": {},
   "outputs": [
    {
     "data": {
      "text/plain": [
       "Problem new_problem                                                     current value\n",
       " Variables\n",
       " -vars move_water.s.eff at t=10: [0, 5]                                        1.0000\n",
       " Objectives\n",
       " -obj_1: -sum(test_sim vars move_water.s.total_flow at t=25)                  -0.0000\n",
       " Constraints\n",
       " -con_1: -(test_sim vars wat_1.s.pressure at t=11 -20)                        20.0000\n",
       " Simulations\n",
       " -test_sim: single scen: {20: {'faults': {'import_ee': 'no_v'}}}"
      ]
     },
     "execution_count": 33,
     "metadata": {},
     "output_type": "execute_result"
    }
   ],
   "source": [
    "problem_2"
   ]
  },
  {
   "cell_type": "markdown",
   "id": "9102d650",
   "metadata": {},
   "source": [
    "As shown, the constraint `con_1` is active, meaning the optimal presure at `t=11` is just at the threshold of 20. This corresponds to the optimized `MoveWater.eff` value of 2.0.\n",
    "\n",
    "We can see this below:"
   ]
  },
  {
   "cell_type": "code",
   "execution_count": 34,
   "id": "0e1e5b28",
   "metadata": {},
   "outputs": [
    {
     "data": {
      "text/plain": [
       "(<Figure size 432x288 with 4 Axes>,\n",
       " array([<AxesSubplot:title={'center':'move_water.s.total_flow'}>,\n",
       "        <AxesSubplot:title={'center':'wat_1.s.pressure'}>,\n",
       "        <AxesSubplot:title={'center':'move_water.s.eff'}, xlabel='time'>,\n",
       "        <AxesSubplot:>], dtype=object))"
      ]
     },
     "execution_count": 34,
     "metadata": {},
     "output_type": "execute_result"
    },
    {
     "data": {
      "image/png": "[encoded data removed]",
      "text/plain": [
       "<Figure size 432x288 with 4 Axes>"
      ]
     },
     "metadata": {
      "needs_background": "light"
     },
     "output_type": "display_data"
    }
   ],
   "source": [
    "problem_2.plot_obj_const('test_sim')"
   ]
  },
  {
   "cell_type": "markdown",
   "id": "8bb3dcdf",
   "metadata": {},
   "source": [
    "### Multi-scenario Optimization\n",
    "\n",
    "In addition to optimizing over single-scenarios `Problem` can be used to optimize over lists of scenarios from an `SampleApproach` or `NominalApproach`.\n",
    "\n",
    "Here we define a slightly different problem, where instead of optimizing variable changes at specific times (e.g., faults), we instead optimize the model parameter `delay`, which changes how long of a delay there is before a fault when there is adverse pressure.\n",
    "\n",
    "To see the effect of this accross scenarios, we first define an approach:"
   ]
  },
  {
   "cell_type": "code",
   "execution_count": 35,
   "id": "ddf0402c",
   "metadata": {},
   "outputs": [],
   "source": [
    "app = SampleApproach(mdl, faults=\"export_water\", phases=[\"on\"], defaultsamp={'samp':'evenspacing','numpts':4})"
   ]
  },
  {
   "cell_type": "code",
   "execution_count": 36,
   "id": "ca8abc5b",
   "metadata": {},
   "outputs": [
    {
     "data": {
      "text/plain": [
       "SampleApproach for Pump model with 1 modes: \n",
       " -export_water: block\n",
       "None joint modes (0 combinations), \n",
       "in 1 phases: \n",
       " -('global', 'on'): [5, 49] \n",
       "sampled at 4 times: \n",
       " -[14.0, 23.0, 31.0, 40.0]\n",
       "resulting in 4 total fault scenarios."
      ]
     },
     "execution_count": 36,
     "metadata": {},
     "output_type": "execute_result"
    }
   ],
   "source": [
    "app"
   ]
  },
  {
   "cell_type": "markdown",
   "id": "4d15670f",
   "metadata": {},
   "source": [
    "The scenlist from this approach is given to the same model."
   ]
  },
  {
   "cell_type": "code",
   "execution_count": 37,
   "id": "3d2be79c",
   "metadata": {},
   "outputs": [],
   "source": [
    "multi_problem = ProblemInterface(\"multi_problem\", mdl, negative_form=False) #, track='valparams')\n",
    "multi_problem.add_simulation(\"test_multi\", \"multi\", app.scenlist)"
   ]
  },
  {
   "cell_type": "markdown",
   "id": "4bbc6971",
   "metadata": {},
   "source": [
    "Next the delay parameter is added. Note that since this a model parameter (set at the beginning of the simulation), `vartype` is set to \"param\"."
   ]
  },
  {
   "cell_type": "code",
   "execution_count": 38,
   "id": "1c0e6ae4",
   "metadata": {},
   "outputs": [],
   "source": [
    "multi_problem.add_variables(\"test_multi\", (\"delay\", [0,45]), vartype='param')"
   ]
  },
  {
   "cell_type": "markdown",
   "id": "14f8f3f1",
   "metadata": {},
   "source": [
    "Our objective for this problem will be to minimize the cost model overall scenarios that is defined in `mdl.find_classification`. Note that this means `objtype` must be set to \"endclass\", since the objective will be a value of the endclass dictionary corresponding to the key \"expected cost\"."
   ]
  },
  {
   "cell_type": "code",
   "execution_count": 39,
   "id": "894cea17",
   "metadata": {},
   "outputs": [],
   "source": [
    "multi_problem.add_objectives(\"test_multi\", cost=\"expected cost\", objtype='endclass')"
   ]
  },
  {
   "cell_type": "markdown",
   "id": "786a8277",
   "metadata": {},
   "source": [
    "We can then verify the problem setup. Note that no constraints will be used in this problem:"
   ]
  },
  {
   "cell_type": "code",
   "execution_count": 40,
   "id": "96e1224b",
   "metadata": {},
   "outputs": [
    {
     "data": {
      "text/plain": [
       "Problem multi_problem                                                   current value\n",
       " Variables\n",
       " -param delay at t=0: [0, 45]                                                     nan\n",
       " Objectives\n",
       " -cost: +sum(test_multi endclass expected cost at t=end)                          nan\n",
       " Constraints\n",
       " -\n",
       " Simulations\n",
       " -test_multi: multi scen: "
      ]
     },
     "execution_count": 40,
     "metadata": {},
     "output_type": "execute_result"
    }
   ],
   "source": [
    "multi_problem"
   ]
  },
  {
   "cell_type": "markdown",
   "id": "7e9dacbc",
   "metadata": {},
   "source": [
    "We may now minimize the objective function:"
   ]
  },
  {
   "cell_type": "code",
   "execution_count": 41,
   "id": "63f9f0f5",
   "metadata": {},
   "outputs": [
    {
     "ename": "Exception",
     "evalue": "delay in <class 'examples.pump.ex_pump.PumpParam'> assigned incorrect type: <class 'numpy.float64'> (should be <class 'int'>)",
     "output_type": "error",
     "traceback": [
      "\u001b[1;31m---------------------------------------------------------------------------\u001b[0m",
      "\u001b[1;31mException\u001b[0m                                 Traceback (most recent call last)",
      "\u001b[1;32m~\\AppData\\Local\\Temp\\1/ipykernel_21312/2162782049.py\u001b[0m in \u001b[0;36m<module>\u001b[1;34m\u001b[0m\n\u001b[1;32m----> 1\u001b[1;33m \u001b[0mres\u001b[0m \u001b[1;33m=\u001b[0m \u001b[0mminimize\u001b[0m\u001b[1;33m(\u001b[0m\u001b[0mmulti_problem\u001b[0m\u001b[1;33m.\u001b[0m\u001b[0mcost\u001b[0m\u001b[1;33m,\u001b[0m \u001b[1;33m[\u001b[0m\u001b[1;36m5\u001b[0m\u001b[1;33m]\u001b[0m\u001b[1;33m,\u001b[0m \u001b[0mmethod\u001b[0m\u001b[1;33m=\u001b[0m\u001b[1;34m\"SLSQP\"\u001b[0m\u001b[1;33m,\u001b[0m \u001b[0mbounds\u001b[0m\u001b[1;33m=\u001b[0m\u001b[1;33m[\u001b[0m\u001b[1;33m[\u001b[0m\u001b[1;36m0\u001b[0m\u001b[1;33m,\u001b[0m\u001b[1;36m40\u001b[0m\u001b[1;33m]\u001b[0m\u001b[1;33m]\u001b[0m\u001b[1;33m)\u001b[0m\u001b[1;33m\u001b[0m\u001b[1;33m\u001b[0m\u001b[0m\n\u001b[0m",
      "\u001b[1;32m~\\Anaconda3\\lib\\site-packages\\scipy\\optimize\\_minimize.py\u001b[0m in \u001b[0;36mminimize\u001b[1;34m(fun, x0, args, method, jac, hess, hessp, bounds, constraints, tol, callback, options)\u001b[0m\n\u001b[0;32m    629\u001b[0m         \u001b[1;32mreturn\u001b[0m \u001b[0m_minimize_cobyla\u001b[0m\u001b[1;33m(\u001b[0m\u001b[0mfun\u001b[0m\u001b[1;33m,\u001b[0m \u001b[0mx0\u001b[0m\u001b[1;33m,\u001b[0m \u001b[0margs\u001b[0m\u001b[1;33m,\u001b[0m \u001b[0mconstraints\u001b[0m\u001b[1;33m,\u001b[0m \u001b[1;33m**\u001b[0m\u001b[0moptions\u001b[0m\u001b[1;33m)\u001b[0m\u001b[1;33m\u001b[0m\u001b[1;33m\u001b[0m\u001b[0m\n\u001b[0;32m    630\u001b[0m     \u001b[1;32melif\u001b[0m \u001b[0mmeth\u001b[0m \u001b[1;33m==\u001b[0m \u001b[1;34m'slsqp'\u001b[0m\u001b[1;33m:\u001b[0m\u001b[1;33m\u001b[0m\u001b[1;33m\u001b[0m\u001b[0m\n\u001b[1;32m--> 631\u001b[1;33m         return _minimize_slsqp(fun, x0, args, jac, bounds,\n\u001b[0m\u001b[0;32m    632\u001b[0m                                constraints, callback=callback, **options)\n\u001b[0;32m    633\u001b[0m     \u001b[1;32melif\u001b[0m \u001b[0mmeth\u001b[0m \u001b[1;33m==\u001b[0m \u001b[1;34m'trust-constr'\u001b[0m\u001b[1;33m:\u001b[0m\u001b[1;33m\u001b[0m\u001b[1;33m\u001b[0m\u001b[0m\n",
      "\u001b[1;32m~\\Anaconda3\\lib\\site-packages\\scipy\\optimize\\slsqp.py\u001b[0m in \u001b[0;36m_minimize_slsqp\u001b[1;34m(func, x0, args, jac, bounds, constraints, maxiter, ftol, iprint, disp, eps, callback, finite_diff_rel_step, **unknown_options)\u001b[0m\n\u001b[0;32m    373\u001b[0m \u001b[1;33m\u001b[0m\u001b[0m\n\u001b[0;32m    374\u001b[0m     \u001b[1;31m# ScalarFunction provides function and gradient evaluation\u001b[0m\u001b[1;33m\u001b[0m\u001b[1;33m\u001b[0m\u001b[0m\n\u001b[1;32m--> 375\u001b[1;33m     sf = _prepare_scalar_function(func, x, jac=jac, args=args, epsilon=eps,\n\u001b[0m\u001b[0;32m    376\u001b[0m                                   \u001b[0mfinite_diff_rel_step\u001b[0m\u001b[1;33m=\u001b[0m\u001b[0mfinite_diff_rel_step\u001b[0m\u001b[1;33m,\u001b[0m\u001b[1;33m\u001b[0m\u001b[1;33m\u001b[0m\u001b[0m\n\u001b[0;32m    377\u001b[0m                                   bounds=new_bounds)\n",
      "\u001b[1;32m~\\Anaconda3\\lib\\site-packages\\scipy\\optimize\\optimize.py\u001b[0m in \u001b[0;36m_prepare_scalar_function\u001b[1;34m(fun, x0, jac, args, bounds, epsilon, finite_diff_rel_step, hess)\u001b[0m\n\u001b[0;32m    259\u001b[0m     \u001b[1;31m# ScalarFunction caches. Reuse of fun(x) during grad\u001b[0m\u001b[1;33m\u001b[0m\u001b[1;33m\u001b[0m\u001b[0m\n\u001b[0;32m    260\u001b[0m     \u001b[1;31m# calculation reduces overall function evaluations.\u001b[0m\u001b[1;33m\u001b[0m\u001b[1;33m\u001b[0m\u001b[0m\n\u001b[1;32m--> 261\u001b[1;33m     sf = ScalarFunction(fun, x0, args, grad, hess,\n\u001b[0m\u001b[0;32m    262\u001b[0m                         finite_diff_rel_step, bounds, epsilon=epsilon)\n\u001b[0;32m    263\u001b[0m \u001b[1;33m\u001b[0m\u001b[0m\n",
      "\u001b[1;32m~\\Anaconda3\\lib\\site-packages\\scipy\\optimize\\_differentiable_functions.py\u001b[0m in \u001b[0;36m__init__\u001b[1;34m(self, fun, x0, args, grad, hess, finite_diff_rel_step, finite_diff_bounds, epsilon)\u001b[0m\n\u001b[0;32m    138\u001b[0m \u001b[1;33m\u001b[0m\u001b[0m\n\u001b[0;32m    139\u001b[0m         \u001b[0mself\u001b[0m\u001b[1;33m.\u001b[0m\u001b[0m_update_fun_impl\u001b[0m \u001b[1;33m=\u001b[0m \u001b[0mupdate_fun\u001b[0m\u001b[1;33m\u001b[0m\u001b[1;33m\u001b[0m\u001b[0m\n\u001b[1;32m--> 140\u001b[1;33m         \u001b[0mself\u001b[0m\u001b[1;33m.\u001b[0m\u001b[0m_update_fun\u001b[0m\u001b[1;33m(\u001b[0m\u001b[1;33m)\u001b[0m\u001b[1;33m\u001b[0m\u001b[1;33m\u001b[0m\u001b[0m\n\u001b[0m\u001b[0;32m    141\u001b[0m \u001b[1;33m\u001b[0m\u001b[0m\n\u001b[0;32m    142\u001b[0m         \u001b[1;31m# Gradient evaluation\u001b[0m\u001b[1;33m\u001b[0m\u001b[1;33m\u001b[0m\u001b[0m\n",
      "\u001b[1;32m~\\Anaconda3\\lib\\site-packages\\scipy\\optimize\\_differentiable_functions.py\u001b[0m in \u001b[0;36m_update_fun\u001b[1;34m(self)\u001b[0m\n\u001b[0;32m    231\u001b[0m     \u001b[1;32mdef\u001b[0m \u001b[0m_update_fun\u001b[0m\u001b[1;33m(\u001b[0m\u001b[0mself\u001b[0m\u001b[1;33m)\u001b[0m\u001b[1;33m:\u001b[0m\u001b[1;33m\u001b[0m\u001b[1;33m\u001b[0m\u001b[0m\n\u001b[0;32m    232\u001b[0m         \u001b[1;32mif\u001b[0m \u001b[1;32mnot\u001b[0m \u001b[0mself\u001b[0m\u001b[1;33m.\u001b[0m\u001b[0mf_updated\u001b[0m\u001b[1;33m:\u001b[0m\u001b[1;33m\u001b[0m\u001b[1;33m\u001b[0m\u001b[0m\n\u001b[1;32m--> 233\u001b[1;33m             \u001b[0mself\u001b[0m\u001b[1;33m.\u001b[0m\u001b[0m_update_fun_impl\u001b[0m\u001b[1;33m(\u001b[0m\u001b[1;33m)\u001b[0m\u001b[1;33m\u001b[0m\u001b[1;33m\u001b[0m\u001b[0m\n\u001b[0m\u001b[0;32m    234\u001b[0m             \u001b[0mself\u001b[0m\u001b[1;33m.\u001b[0m\u001b[0mf_updated\u001b[0m \u001b[1;33m=\u001b[0m \u001b[1;32mTrue\u001b[0m\u001b[1;33m\u001b[0m\u001b[1;33m\u001b[0m\u001b[0m\n\u001b[0;32m    235\u001b[0m \u001b[1;33m\u001b[0m\u001b[0m\n",
      "\u001b[1;32m~\\Anaconda3\\lib\\site-packages\\scipy\\optimize\\_differentiable_functions.py\u001b[0m in \u001b[0;36mupdate_fun\u001b[1;34m()\u001b[0m\n\u001b[0;32m    135\u001b[0m \u001b[1;33m\u001b[0m\u001b[0m\n\u001b[0;32m    136\u001b[0m         \u001b[1;32mdef\u001b[0m \u001b[0mupdate_fun\u001b[0m\u001b[1;33m(\u001b[0m\u001b[1;33m)\u001b[0m\u001b[1;33m:\u001b[0m\u001b[1;33m\u001b[0m\u001b[1;33m\u001b[0m\u001b[0m\n\u001b[1;32m--> 137\u001b[1;33m             \u001b[0mself\u001b[0m\u001b[1;33m.\u001b[0m\u001b[0mf\u001b[0m \u001b[1;33m=\u001b[0m \u001b[0mfun_wrapped\u001b[0m\u001b[1;33m(\u001b[0m\u001b[0mself\u001b[0m\u001b[1;33m.\u001b[0m\u001b[0mx\u001b[0m\u001b[1;33m)\u001b[0m\u001b[1;33m\u001b[0m\u001b[1;33m\u001b[0m\u001b[0m\n\u001b[0m\u001b[0;32m    138\u001b[0m \u001b[1;33m\u001b[0m\u001b[0m\n\u001b[0;32m    139\u001b[0m         \u001b[0mself\u001b[0m\u001b[1;33m.\u001b[0m\u001b[0m_update_fun_impl\u001b[0m \u001b[1;33m=\u001b[0m \u001b[0mupdate_fun\u001b[0m\u001b[1;33m\u001b[0m\u001b[1;33m\u001b[0m\u001b[0m\n",
      "\u001b[1;32m~\\Anaconda3\\lib\\site-packages\\scipy\\optimize\\_differentiable_functions.py\u001b[0m in \u001b[0;36mfun_wrapped\u001b[1;34m(x)\u001b[0m\n\u001b[0;32m    132\u001b[0m             \u001b[1;31m# Overwriting results in undefined behaviour because\u001b[0m\u001b[1;33m\u001b[0m\u001b[1;33m\u001b[0m\u001b[0m\n\u001b[0;32m    133\u001b[0m             \u001b[1;31m# fun(self.x) will change self.x, with the two no longer linked.\u001b[0m\u001b[1;33m\u001b[0m\u001b[1;33m\u001b[0m\u001b[0m\n\u001b[1;32m--> 134\u001b[1;33m             \u001b[1;32mreturn\u001b[0m \u001b[0mfun\u001b[0m\u001b[1;33m(\u001b[0m\u001b[0mnp\u001b[0m\u001b[1;33m.\u001b[0m\u001b[0mcopy\u001b[0m\u001b[1;33m(\u001b[0m\u001b[0mx\u001b[0m\u001b[1;33m)\u001b[0m\u001b[1;33m,\u001b[0m \u001b[1;33m*\u001b[0m\u001b[0margs\u001b[0m\u001b[1;33m)\u001b[0m\u001b[1;33m\u001b[0m\u001b[1;33m\u001b[0m\u001b[0m\n\u001b[0m\u001b[0;32m    135\u001b[0m \u001b[1;33m\u001b[0m\u001b[0m\n\u001b[0;32m    136\u001b[0m         \u001b[1;32mdef\u001b[0m \u001b[0mupdate_fun\u001b[0m\u001b[1;33m(\u001b[0m\u001b[1;33m)\u001b[0m\u001b[1;33m:\u001b[0m\u001b[1;33m\u001b[0m\u001b[1;33m\u001b[0m\u001b[0m\n",
      "\u001b[1;32mc:\\users\\dhulse\\documents\\github\\fmdtools\\fmdtools\\sim\\search.py\u001b[0m in \u001b[0;36mnewobj\u001b[1;34m(x)\u001b[0m\n\u001b[0;32m    250\u001b[0m     \u001b[1;32mdef\u001b[0m \u001b[0m_assoc_obj_con\u001b[0m\u001b[1;33m(\u001b[0m\u001b[0mself\u001b[0m\u001b[1;33m,\u001b[0m \u001b[0msimname\u001b[0m\u001b[1;33m,\u001b[0m \u001b[0mobjname\u001b[0m\u001b[1;33m,\u001b[0m \u001b[0mobj_const\u001b[0m\u001b[1;33m,\u001b[0m \u001b[0marg\u001b[0m\u001b[1;33m)\u001b[0m\u001b[1;33m:\u001b[0m\u001b[1;33m\u001b[0m\u001b[1;33m\u001b[0m\u001b[0m\n\u001b[0;32m    251\u001b[0m         \u001b[1;32mdef\u001b[0m \u001b[0mnewobj\u001b[0m\u001b[1;33m(\u001b[0m\u001b[0mx\u001b[0m\u001b[1;33m)\u001b[0m\u001b[1;33m:\u001b[0m\u001b[1;33m\u001b[0m\u001b[1;33m\u001b[0m\u001b[0m\n\u001b[1;32m--> 252\u001b[1;33m             \u001b[1;32mreturn\u001b[0m \u001b[0mself\u001b[0m\u001b[1;33m.\u001b[0m\u001b[0mx_to_obj_const\u001b[0m\u001b[1;33m(\u001b[0m\u001b[0mx\u001b[0m\u001b[1;33m,\u001b[0m \u001b[0msimname\u001b[0m\u001b[1;33m)\u001b[0m\u001b[1;33m[\u001b[0m\u001b[1;36m0\u001b[0m\u001b[1;33m]\u001b[0m\u001b[1;33m[\u001b[0m\u001b[0mobjname\u001b[0m\u001b[1;33m]\u001b[0m\u001b[1;33m\u001b[0m\u001b[1;33m\u001b[0m\u001b[0m\n\u001b[0m\u001b[0;32m    253\u001b[0m         \u001b[1;32mdef\u001b[0m \u001b[0mnewconst\u001b[0m\u001b[1;33m(\u001b[0m\u001b[0mx\u001b[0m\u001b[1;33m)\u001b[0m\u001b[1;33m:\u001b[0m\u001b[1;33m\u001b[0m\u001b[1;33m\u001b[0m\u001b[0m\n\u001b[0;32m    254\u001b[0m             \u001b[1;32mreturn\u001b[0m \u001b[0mself\u001b[0m\u001b[1;33m.\u001b[0m\u001b[0mx_to_obj_const\u001b[0m\u001b[1;33m(\u001b[0m\u001b[0mx\u001b[0m\u001b[1;33m,\u001b[0m \u001b[0msimname\u001b[0m\u001b[1;33m)\u001b[0m\u001b[1;33m[\u001b[0m\u001b[1;36m1\u001b[0m\u001b[1;33m]\u001b[0m\u001b[1;33m[\u001b[0m\u001b[0mobjname\u001b[0m\u001b[1;33m]\u001b[0m\u001b[1;33m\u001b[0m\u001b[1;33m\u001b[0m\u001b[0m\n",
      "\u001b[1;32mc:\\users\\dhulse\\documents\\github\\fmdtools\\fmdtools\\sim\\search.py\u001b[0m in \u001b[0;36mx_to_obj_const\u001b[1;34m(self, x, simnames)\u001b[0m\n\u001b[0;32m    599\u001b[0m             \u001b[1;31m# prep sims\u001b[0m\u001b[1;33m\u001b[0m\u001b[1;33m\u001b[0m\u001b[0m\n\u001b[0;32m    600\u001b[0m             \u001b[1;32mif\u001b[0m \u001b[0msimname\u001b[0m \u001b[1;32mnot\u001b[0m \u001b[1;32min\u001b[0m \u001b[0mself\u001b[0m\u001b[1;33m.\u001b[0m\u001b[0mcurrent_iter\u001b[0m\u001b[1;33m.\u001b[0m\u001b[0mget\u001b[0m\u001b[1;33m(\u001b[0m\u001b[1;34m'sims'\u001b[0m\u001b[1;33m,\u001b[0m \u001b[1;33m{\u001b[0m\u001b[1;33m}\u001b[0m\u001b[1;33m)\u001b[0m\u001b[1;33m:\u001b[0m\u001b[1;33m\u001b[0m\u001b[1;33m\u001b[0m\u001b[0m\n\u001b[1;32m--> 601\u001b[1;33m                 \u001b[0mself\u001b[0m\u001b[1;33m.\u001b[0m\u001b[0m_prep_sim_type\u001b[0m\u001b[1;33m(\u001b[0m\u001b[0mself\u001b[0m\u001b[1;33m.\u001b[0m\u001b[0msimulations\u001b[0m\u001b[1;33m[\u001b[0m\u001b[0msimname\u001b[0m\u001b[1;33m]\u001b[0m\u001b[1;33m[\u001b[0m\u001b[1;36m0\u001b[0m\u001b[1;33m]\u001b[0m\u001b[1;33m,\u001b[0m \u001b[0msimname\u001b[0m\u001b[1;33m,\u001b[0m \u001b[0mx\u001b[0m\u001b[1;33m)\u001b[0m\u001b[1;33m\u001b[0m\u001b[1;33m\u001b[0m\u001b[0m\n\u001b[0m\u001b[0;32m    602\u001b[0m                 \u001b[0mself\u001b[0m\u001b[1;33m.\u001b[0m\u001b[0mcurrent_iter\u001b[0m\u001b[1;33m[\u001b[0m\u001b[1;34m'sims'\u001b[0m\u001b[1;33m]\u001b[0m\u001b[1;33m.\u001b[0m\u001b[0madd\u001b[0m\u001b[1;33m(\u001b[0m\u001b[0msimname\u001b[0m\u001b[1;33m)\u001b[0m\u001b[1;33m\u001b[0m\u001b[1;33m\u001b[0m\u001b[0m\n\u001b[0;32m    603\u001b[0m \u001b[1;33m\u001b[0m\u001b[0m\n",
      "\u001b[1;32mc:\\users\\dhulse\\documents\\github\\fmdtools\\fmdtools\\sim\\search.py\u001b[0m in \u001b[0;36m_prep_sim_type\u001b[1;34m(self, simtype, simname, x)\u001b[0m\n\u001b[0;32m    464\u001b[0m     \u001b[1;32mdef\u001b[0m \u001b[0m_prep_sim_type\u001b[0m\u001b[1;33m(\u001b[0m\u001b[0mself\u001b[0m\u001b[1;33m,\u001b[0m \u001b[0msimtype\u001b[0m\u001b[1;33m,\u001b[0m \u001b[0msimname\u001b[0m\u001b[1;33m,\u001b[0m \u001b[0mx\u001b[0m\u001b[1;33m)\u001b[0m\u001b[1;33m:\u001b[0m\u001b[1;33m\u001b[0m\u001b[1;33m\u001b[0m\u001b[0m\n\u001b[0;32m    465\u001b[0m         \u001b[1;32mif\u001b[0m \u001b[0msimtype\u001b[0m\u001b[1;33m==\u001b[0m\u001b[1;34m'single'\u001b[0m\u001b[1;33m:\u001b[0m \u001b[0mself\u001b[0m\u001b[1;33m.\u001b[0m\u001b[0m_prep_single_sim\u001b[0m\u001b[1;33m(\u001b[0m\u001b[0msimname\u001b[0m\u001b[1;33m,\u001b[0m \u001b[0mx\u001b[0m\u001b[1;33m)\u001b[0m\u001b[1;33m\u001b[0m\u001b[1;33m\u001b[0m\u001b[0m\n\u001b[1;32m--> 466\u001b[1;33m         \u001b[1;32mif\u001b[0m \u001b[0msimtype\u001b[0m\u001b[1;33m==\u001b[0m\u001b[1;34m'multi'\u001b[0m\u001b[1;33m:\u001b[0m \u001b[0mself\u001b[0m\u001b[1;33m.\u001b[0m\u001b[0m_prep_multi_sim\u001b[0m\u001b[1;33m(\u001b[0m\u001b[0msimname\u001b[0m\u001b[1;33m,\u001b[0m \u001b[0mx\u001b[0m\u001b[1;33m)\u001b[0m\u001b[1;33m\u001b[0m\u001b[1;33m\u001b[0m\u001b[0m\n\u001b[0m\u001b[0;32m    467\u001b[0m     \u001b[1;32mdef\u001b[0m \u001b[0m_run_sim_type\u001b[0m\u001b[1;33m(\u001b[0m\u001b[0mself\u001b[0m\u001b[1;33m,\u001b[0m \u001b[0msimtype\u001b[0m\u001b[1;33m,\u001b[0m \u001b[0msimname\u001b[0m\u001b[1;33m,\u001b[0m \u001b[0mx\u001b[0m\u001b[1;33m)\u001b[0m\u001b[1;33m:\u001b[0m\u001b[1;33m\u001b[0m\u001b[1;33m\u001b[0m\u001b[0m\n\u001b[0;32m    468\u001b[0m         \u001b[1;32mif\u001b[0m \u001b[0msimtype\u001b[0m\u001b[1;33m==\u001b[0m\u001b[1;34m'set_const'\u001b[0m\u001b[1;33m:\u001b[0m    \u001b[1;32mreturn\u001b[0m \u001b[0mself\u001b[0m\u001b[1;33m.\u001b[0m\u001b[0m_get_set_const\u001b[0m\u001b[1;33m(\u001b[0m\u001b[0mx\u001b[0m\u001b[1;33m)\u001b[0m\u001b[1;33m\u001b[0m\u001b[1;33m\u001b[0m\u001b[0m\n",
      "\u001b[1;32mc:\\users\\dhulse\\documents\\github\\fmdtools\\fmdtools\\sim\\search.py\u001b[0m in \u001b[0;36m_prep_multi_sim\u001b[1;34m(self, simname, x)\u001b[0m\n\u001b[0;32m    318\u001b[0m         \u001b[0mvar_time\u001b[0m\u001b[1;33m,\u001b[0m \u001b[0mobj_time\u001b[0m \u001b[1;33m=\u001b[0m \u001b[0mself\u001b[0m\u001b[1;33m.\u001b[0m\u001b[0m_get_var_obj_time\u001b[0m\u001b[1;33m(\u001b[0m\u001b[0msimname\u001b[0m\u001b[1;33m)\u001b[0m\u001b[1;33m\u001b[0m\u001b[1;33m\u001b[0m\u001b[0m\n\u001b[0;32m    319\u001b[0m         \u001b[0mkwar\u001b[0m \u001b[1;33m=\u001b[0m \u001b[0mself\u001b[0m\u001b[1;33m.\u001b[0m\u001b[0msimulations\u001b[0m\u001b[1;33m[\u001b[0m\u001b[0msimname\u001b[0m\u001b[1;33m]\u001b[0m\u001b[1;33m[\u001b[0m\u001b[1;36m2\u001b[0m\u001b[1;33m]\u001b[0m\u001b[1;33m\u001b[0m\u001b[1;33m\u001b[0m\u001b[0m\n\u001b[1;32m--> 320\u001b[1;33m         \u001b[0mmdl\u001b[0m \u001b[1;33m=\u001b[0m \u001b[0mself\u001b[0m\u001b[1;33m.\u001b[0m\u001b[0m_check_new_mdl\u001b[0m\u001b[1;33m(\u001b[0m\u001b[0msimname\u001b[0m\u001b[1;33m,\u001b[0m \u001b[1;36m0\u001b[0m\u001b[1;33m,\u001b[0m \u001b[0mself\u001b[0m\u001b[1;33m.\u001b[0m\u001b[0mmdl\u001b[0m\u001b[1;33m,\u001b[0m \u001b[0mx\u001b[0m\u001b[1;33m,\u001b[0m \u001b[0mobj_time\u001b[0m\u001b[1;33m,\u001b[0m \u001b[0mdefault_p\u001b[0m \u001b[1;33m=\u001b[0m \u001b[0mkwar\u001b[0m\u001b[1;33m.\u001b[0m\u001b[0mget\u001b[0m\u001b[1;33m(\u001b[0m\u001b[1;34m'p'\u001b[0m\u001b[1;33m,\u001b[0m \u001b[1;33m{\u001b[0m\u001b[1;33m}\u001b[0m\u001b[1;33m)\u001b[0m\u001b[1;33m)\u001b[0m\u001b[1;33m\u001b[0m\u001b[1;33m\u001b[0m\u001b[0m\n\u001b[0m\u001b[0;32m    321\u001b[0m         \u001b[0mresult\u001b[0m\u001b[1;33m,\u001b[0m \u001b[0mnomhist\u001b[0m\u001b[1;33m,\u001b[0m \u001b[0mnomscen\u001b[0m\u001b[1;33m,\u001b[0m \u001b[0mc_mdls_nom\u001b[0m\u001b[1;33m,\u001b[0m \u001b[0mt_end\u001b[0m \u001b[1;33m=\u001b[0m \u001b[0mprop\u001b[0m\u001b[1;33m.\u001b[0m\u001b[0mnom_helper\u001b[0m\u001b[1;33m(\u001b[0m\u001b[0mmdl\u001b[0m\u001b[1;33m,\u001b[0m \u001b[1;33m[\u001b[0m\u001b[0mvar_time\u001b[0m\u001b[1;33m]\u001b[0m\u001b[1;33m,\u001b[0m \u001b[1;33m**\u001b[0m\u001b[1;33m{\u001b[0m\u001b[1;33m**\u001b[0m\u001b[0mkwar\u001b[0m\u001b[1;33m,\u001b[0m \u001b[1;34m'scen'\u001b[0m\u001b[1;33m:\u001b[0m\u001b[1;33m{\u001b[0m\u001b[1;33m}\u001b[0m\u001b[1;33m,\u001b[0m \u001b[1;34m'use_end_condition'\u001b[0m\u001b[1;33m:\u001b[0m\u001b[1;32mFalse\u001b[0m\u001b[1;33m}\u001b[0m\u001b[1;33m)\u001b[0m\u001b[1;33m\u001b[0m\u001b[1;33m\u001b[0m\u001b[0m\n\u001b[0;32m    322\u001b[0m \u001b[1;33m\u001b[0m\u001b[0m\n",
      "\u001b[1;32mc:\\users\\dhulse\\documents\\github\\fmdtools\\fmdtools\\sim\\search.py\u001b[0m in \u001b[0;36m_check_new_mdl\u001b[1;34m(self, simname, var_time, mdl, x, obj_time, staged, default_p)\u001b[0m\n\u001b[0;32m    350\u001b[0m             \u001b[1;32mfor\u001b[0m \u001b[0mfunc\u001b[0m\u001b[1;33m,\u001b[0m \u001b[0mfvars\u001b[0m \u001b[1;32min\u001b[0m \u001b[0mself\u001b[0m\u001b[1;33m.\u001b[0m\u001b[0mvar_mapping\u001b[0m\u001b[1;33m[\u001b[0m\u001b[0msimname\u001b[0m\u001b[1;33m]\u001b[0m\u001b[1;33m.\u001b[0m\u001b[0mget\u001b[0m\u001b[1;33m(\u001b[0m\u001b[1;34m'paramfunc'\u001b[0m\u001b[1;33m,\u001b[0m\u001b[1;33m{\u001b[0m\u001b[1;33m}\u001b[0m\u001b[1;33m)\u001b[0m\u001b[1;33m.\u001b[0m\u001b[0mitems\u001b[0m\u001b[1;33m(\u001b[0m\u001b[1;33m)\u001b[0m\u001b[1;33m:\u001b[0m\u001b[1;33m\u001b[0m\u001b[1;33m\u001b[0m\u001b[0m\n\u001b[0;32m    351\u001b[0m                 \u001b[0mp\u001b[0m\u001b[1;33m.\u001b[0m\u001b[0mupdate\u001b[0m\u001b[1;33m(\u001b[0m\u001b[0mfunc\u001b[0m\u001b[1;33m(\u001b[0m\u001b[1;33m*\u001b[0m\u001b[1;33m[\u001b[0m\u001b[0mx\u001b[0m\u001b[1;33m[\u001b[0m\u001b[0mind\u001b[0m\u001b[1;33m]\u001b[0m \u001b[1;32mfor\u001b[0m \u001b[0mind\u001b[0m \u001b[1;32min\u001b[0m \u001b[0mfvars\u001b[0m\u001b[1;33m.\u001b[0m\u001b[0mvalues\u001b[0m\u001b[1;33m(\u001b[0m\u001b[1;33m)\u001b[0m\u001b[1;33m]\u001b[0m\u001b[1;33m)\u001b[0m\u001b[1;33m)\u001b[0m\u001b[1;33m\u001b[0m\u001b[1;33m\u001b[0m\u001b[0m\n\u001b[1;32m--> 352\u001b[1;33m             \u001b[0mmdl\u001b[0m \u001b[1;33m=\u001b[0m \u001b[0mmdl\u001b[0m\u001b[1;33m.\u001b[0m\u001b[0mnew_with_params\u001b[0m\u001b[1;33m(\u001b[0m\u001b[0mp\u001b[0m\u001b[1;33m=\u001b[0m\u001b[0mp\u001b[0m\u001b[1;33m,\u001b[0m \u001b[0msp\u001b[0m\u001b[1;33m=\u001b[0m\u001b[1;33m{\u001b[0m\u001b[1;34m'times'\u001b[0m\u001b[1;33m:\u001b[0m\u001b[1;33m(\u001b[0m\u001b[1;36m0\u001b[0m\u001b[1;33m,\u001b[0m \u001b[0mobj_time\u001b[0m\u001b[1;33m)\u001b[0m\u001b[1;33m}\u001b[0m\u001b[1;33m)\u001b[0m\u001b[1;33m\u001b[0m\u001b[1;33m\u001b[0m\u001b[0m\n\u001b[0m\u001b[0;32m    353\u001b[0m \u001b[1;33m\u001b[0m\u001b[0m\n\u001b[0;32m    354\u001b[0m         \u001b[0mprop\u001b[0m\u001b[1;33m.\u001b[0m\u001b[0minit_histrange\u001b[0m\u001b[1;33m(\u001b[0m\u001b[0mmdl\u001b[0m\u001b[1;33m,\u001b[0m \u001b[0mvar_time\u001b[0m\u001b[1;33m,\u001b[0m \u001b[0mstaged\u001b[0m\u001b[1;33m,\u001b[0m \u001b[1;34m\"all\"\u001b[0m\u001b[1;33m,\u001b[0m \u001b[1;34m\"all\"\u001b[0m\u001b[1;33m)\u001b[0m\u001b[1;33m\u001b[0m\u001b[1;33m\u001b[0m\u001b[0m\n",
      "\u001b[1;32mc:\\users\\dhulse\\documents\\github\\fmdtools\\fmdtools\\define\\model.py\u001b[0m in \u001b[0;36mnew_with_params\u001b[1;34m(self, **kwargs)\u001b[0m\n\u001b[0;32m    276\u001b[0m         \u001b[1;32mwith\u001b[0m \u001b[0mchanges\u001b[0m \u001b[0mto\u001b[0m \u001b[0mparams\u001b[0m \u001b[1;33m(\u001b[0m\u001b[0mp\u001b[0m\u001b[1;33m,\u001b[0m \u001b[0msp\u001b[0m\u001b[1;33m,\u001b[0m \u001b[0mtrack\u001b[0m\u001b[1;33m,\u001b[0m \u001b[0mrand\u001b[0m \u001b[0metc\u001b[0m\u001b[1;33m.\u001b[0m\u001b[1;33m)\u001b[0m\u001b[1;33m\u001b[0m\u001b[1;33m\u001b[0m\u001b[0m\n\u001b[0;32m    277\u001b[0m         \"\"\"\n\u001b[1;32m--> 278\u001b[1;33m         \u001b[0mp\u001b[0m\u001b[1;33m,\u001b[0m \u001b[0msp\u001b[0m\u001b[1;33m,\u001b[0m \u001b[0mr\u001b[0m\u001b[1;33m,\u001b[0m \u001b[0mtrack\u001b[0m \u001b[1;33m=\u001b[0m \u001b[0msuper\u001b[0m\u001b[1;33m(\u001b[0m\u001b[1;33m)\u001b[0m\u001b[1;33m.\u001b[0m\u001b[0mnew_params\u001b[0m\u001b[1;33m(\u001b[0m\u001b[1;33m**\u001b[0m\u001b[0mkwargs\u001b[0m\u001b[1;33m)\u001b[0m\u001b[1;33m\u001b[0m\u001b[1;33m\u001b[0m\u001b[0m\n\u001b[0m\u001b[0;32m    279\u001b[0m         \u001b[1;32mreturn\u001b[0m \u001b[0mself\u001b[0m\u001b[1;33m.\u001b[0m\u001b[0m__class__\u001b[0m\u001b[1;33m(\u001b[0m\u001b[0mp\u001b[0m\u001b[1;33m=\u001b[0m\u001b[0mp\u001b[0m\u001b[1;33m,\u001b[0m \u001b[0msp\u001b[0m\u001b[1;33m=\u001b[0m\u001b[0msp\u001b[0m\u001b[1;33m,\u001b[0m \u001b[0mr\u001b[0m\u001b[1;33m=\u001b[0m\u001b[0mr\u001b[0m\u001b[1;33m,\u001b[0m \u001b[0mtrack\u001b[0m\u001b[1;33m=\u001b[0m\u001b[0mtrack\u001b[0m\u001b[1;33m)\u001b[0m\u001b[1;33m\u001b[0m\u001b[1;33m\u001b[0m\u001b[0m\n\u001b[0;32m    280\u001b[0m     \u001b[1;32mdef\u001b[0m \u001b[0mcopy\u001b[0m\u001b[1;33m(\u001b[0m\u001b[0mself\u001b[0m\u001b[1;33m)\u001b[0m\u001b[1;33m:\u001b[0m\u001b[1;33m\u001b[0m\u001b[1;33m\u001b[0m\u001b[0m\n",
      "\u001b[1;32mc:\\users\\dhulse\\documents\\github\\fmdtools\\fmdtools\\define\\block.py\u001b[0m in \u001b[0;36mnew_params\u001b[1;34m(self, p, sp, r, track)\u001b[0m\n\u001b[0;32m    204\u001b[0m             \u001b[0mtrack\u001b[0m \u001b[0margs\u001b[0m\u001b[1;33m\u001b[0m\u001b[1;33m\u001b[0m\u001b[0m\n\u001b[0;32m    205\u001b[0m         \"\"\"\n\u001b[1;32m--> 206\u001b[1;33m         \u001b[0mp\u001b[0m \u001b[1;33m=\u001b[0m \u001b[0mself\u001b[0m\u001b[1;33m.\u001b[0m\u001b[0mp\u001b[0m\u001b[1;33m.\u001b[0m\u001b[0mcopy_with_vals\u001b[0m\u001b[1;33m(\u001b[0m\u001b[1;33m**\u001b[0m\u001b[0mp\u001b[0m\u001b[1;33m)\u001b[0m\u001b[1;33m\u001b[0m\u001b[1;33m\u001b[0m\u001b[0m\n\u001b[0m\u001b[0;32m    207\u001b[0m         \u001b[0msp\u001b[0m \u001b[1;33m=\u001b[0m \u001b[0mself\u001b[0m\u001b[1;33m.\u001b[0m\u001b[0msp\u001b[0m\u001b[1;33m.\u001b[0m\u001b[0mcopy_with_vals\u001b[0m\u001b[1;33m(\u001b[0m\u001b[1;33m**\u001b[0m\u001b[0msp\u001b[0m\u001b[1;33m)\u001b[0m\u001b[1;33m\u001b[0m\u001b[1;33m\u001b[0m\u001b[0m\n\u001b[0;32m    208\u001b[0m         \u001b[1;32mif\u001b[0m \u001b[1;32mnot\u001b[0m \u001b[0mr\u001b[0m\u001b[1;33m:\u001b[0m\u001b[1;33m\u001b[0m\u001b[1;33m\u001b[0m\u001b[0m\n",
      "\u001b[1;32mc:\\users\\dhulse\\documents\\github\\fmdtools\\fmdtools\\define\\parameter.py\u001b[0m in \u001b[0;36mcopy_with_vals\u001b[1;34m(self, **kwargs)\u001b[0m\n\u001b[0;32m    117\u001b[0m     \u001b[1;32mdef\u001b[0m \u001b[0mcopy_with_vals\u001b[0m\u001b[1;33m(\u001b[0m\u001b[0mself\u001b[0m\u001b[1;33m,\u001b[0m \u001b[1;33m**\u001b[0m\u001b[0mkwargs\u001b[0m\u001b[1;33m)\u001b[0m\u001b[1;33m:\u001b[0m\u001b[1;33m\u001b[0m\u001b[1;33m\u001b[0m\u001b[0m\n\u001b[0;32m    118\u001b[0m         \u001b[1;34m\"\"\"Creates a copy of itself with modified values given by kwargs\"\"\"\u001b[0m\u001b[1;33m\u001b[0m\u001b[1;33m\u001b[0m\u001b[0m\n\u001b[1;32m--> 119\u001b[1;33m         \u001b[1;32mreturn\u001b[0m \u001b[0mself\u001b[0m\u001b[1;33m.\u001b[0m\u001b[0m__class__\u001b[0m\u001b[1;33m(\u001b[0m\u001b[1;33m**\u001b[0m\u001b[1;33m{\u001b[0m\u001b[1;33m**\u001b[0m\u001b[0masdict\u001b[0m\u001b[1;33m(\u001b[0m\u001b[0mself\u001b[0m\u001b[1;33m)\u001b[0m\u001b[1;33m,\u001b[0m \u001b[1;33m**\u001b[0m\u001b[0mkwargs\u001b[0m\u001b[1;33m}\u001b[0m\u001b[1;33m)\u001b[0m\u001b[1;33m\u001b[0m\u001b[1;33m\u001b[0m\u001b[0m\n\u001b[0m\u001b[0;32m    120\u001b[0m     \u001b[1;32mdef\u001b[0m \u001b[0mcheck_pickle\u001b[0m\u001b[1;33m(\u001b[0m\u001b[0mself\u001b[0m\u001b[1;33m)\u001b[0m\u001b[1;33m:\u001b[0m\u001b[1;33m\u001b[0m\u001b[1;33m\u001b[0m\u001b[0m\n\u001b[0;32m    121\u001b[0m         \u001b[1;34m\"\"\"Checks to make sure pickled object will get *args and **kwargs\"\"\"\u001b[0m\u001b[1;33m\u001b[0m\u001b[1;33m\u001b[0m\u001b[0m\n",
      "\u001b[1;32mc:\\users\\dhulse\\documents\\github\\fmdtools\\fmdtools\\define\\parameter.py\u001b[0m in \u001b[0;36m__init__\u001b[1;34m(self, strict_immutability, *args, **kwargs)\u001b[0m\n\u001b[0;32m     55\u001b[0m             \u001b[1;32mraise\u001b[0m \u001b[0mException\u001b[0m\u001b[1;33m(\u001b[0m\u001b[1;34m\"Invalid args/kwargs: \"\u001b[0m\u001b[1;33m+\u001b[0m\u001b[0mstr\u001b[0m\u001b[1;33m(\u001b[0m\u001b[0margs\u001b[0m\u001b[1;33m)\u001b[0m\u001b[1;33m+\u001b[0m\u001b[1;34m\" , \"\u001b[0m\u001b[1;33m+\u001b[0m\u001b[0mstr\u001b[0m\u001b[1;33m(\u001b[0m\u001b[0mkwargs\u001b[0m\u001b[1;33m)\u001b[0m\u001b[1;33m+\u001b[0m\u001b[1;34m\" in \"\u001b[0m\u001b[1;33m+\u001b[0m\u001b[0mstr\u001b[0m\u001b[1;33m(\u001b[0m\u001b[0mself\u001b[0m\u001b[1;33m.\u001b[0m\u001b[0m__class__\u001b[0m\u001b[1;33m)\u001b[0m\u001b[1;33m)\u001b[0m\u001b[1;33m\u001b[0m\u001b[1;33m\u001b[0m\u001b[0m\n\u001b[0;32m     56\u001b[0m         \u001b[1;32mif\u001b[0m \u001b[0mstrict_immutability\u001b[0m\u001b[1;33m:\u001b[0m \u001b[0mself\u001b[0m\u001b[1;33m.\u001b[0m\u001b[0mcheck_immutable\u001b[0m\u001b[1;33m(\u001b[0m\u001b[1;33m)\u001b[0m\u001b[1;33m\u001b[0m\u001b[1;33m\u001b[0m\u001b[0m\n\u001b[1;32m---> 57\u001b[1;33m         \u001b[0mself\u001b[0m\u001b[1;33m.\u001b[0m\u001b[0mcheck_type\u001b[0m\u001b[1;33m(\u001b[0m\u001b[1;33m)\u001b[0m\u001b[1;33m\u001b[0m\u001b[1;33m\u001b[0m\u001b[0m\n\u001b[0m\u001b[0;32m     58\u001b[0m         \u001b[0mself\u001b[0m\u001b[1;33m.\u001b[0m\u001b[0mcheck_pickle\u001b[0m\u001b[1;33m(\u001b[0m\u001b[1;33m)\u001b[0m\u001b[1;33m\u001b[0m\u001b[1;33m\u001b[0m\u001b[0m\n\u001b[0;32m     59\u001b[0m     \u001b[1;32mdef\u001b[0m \u001b[0mcheck_lim\u001b[0m\u001b[1;33m(\u001b[0m\u001b[0mself\u001b[0m\u001b[1;33m,\u001b[0m \u001b[0mk\u001b[0m\u001b[1;33m,\u001b[0m \u001b[0mv\u001b[0m\u001b[1;33m)\u001b[0m\u001b[1;33m:\u001b[0m\u001b[1;33m\u001b[0m\u001b[1;33m\u001b[0m\u001b[0m\n",
      "\u001b[1;32mc:\\users\\dhulse\\documents\\github\\fmdtools\\fmdtools\\define\\parameter.py\u001b[0m in \u001b[0;36mcheck_type\u001b[1;34m(self)\u001b[0m\n\u001b[0;32m    114\u001b[0m             if ((true_type and not attr_type==true_type) and\n\u001b[0;32m    115\u001b[0m                 str(true_type).split(\"'\")[1] not in str(attr_type)): # weaker, but enables use of np.str, np.float, etc\n\u001b[1;32m--> 116\u001b[1;33m                 \u001b[1;32mraise\u001b[0m \u001b[0mException\u001b[0m\u001b[1;33m(\u001b[0m\u001b[0mtyped_field\u001b[0m\u001b[1;33m+\u001b[0m\u001b[1;34m\" in \"\u001b[0m\u001b[1;33m+\u001b[0m\u001b[0mstr\u001b[0m\u001b[1;33m(\u001b[0m\u001b[0mself\u001b[0m\u001b[1;33m.\u001b[0m\u001b[0m__class__\u001b[0m\u001b[1;33m)\u001b[0m\u001b[1;33m+\u001b[0m\u001b[1;34m\" assigned incorrect type: \"\u001b[0m\u001b[1;33m+\u001b[0m\u001b[0mstr\u001b[0m\u001b[1;33m(\u001b[0m\u001b[0mattr_type\u001b[0m\u001b[1;33m)\u001b[0m\u001b[1;33m+\u001b[0m\u001b[1;34m\" (should be \"\u001b[0m\u001b[1;33m+\u001b[0m\u001b[0mstr\u001b[0m\u001b[1;33m(\u001b[0m\u001b[0mtrue_type\u001b[0m\u001b[1;33m)\u001b[0m\u001b[1;33m+\u001b[0m\u001b[1;34m\")\"\u001b[0m\u001b[1;33m)\u001b[0m\u001b[1;33m\u001b[0m\u001b[1;33m\u001b[0m\u001b[0m\n\u001b[0m\u001b[0;32m    117\u001b[0m     \u001b[1;32mdef\u001b[0m \u001b[0mcopy_with_vals\u001b[0m\u001b[1;33m(\u001b[0m\u001b[0mself\u001b[0m\u001b[1;33m,\u001b[0m \u001b[1;33m**\u001b[0m\u001b[0mkwargs\u001b[0m\u001b[1;33m)\u001b[0m\u001b[1;33m:\u001b[0m\u001b[1;33m\u001b[0m\u001b[1;33m\u001b[0m\u001b[0m\n\u001b[0;32m    118\u001b[0m         \u001b[1;34m\"\"\"Creates a copy of itself with modified values given by kwargs\"\"\"\u001b[0m\u001b[1;33m\u001b[0m\u001b[1;33m\u001b[0m\u001b[0m\n",
      "\u001b[1;31mException\u001b[0m: delay in <class 'examples.pump.ex_pump.PumpParam'> assigned incorrect type: <class 'numpy.float64'> (should be <class 'int'>)"
     ]
    }
   ],
   "source": [
    "res = minimize(multi_problem.cost, [5], method=\"SLSQP\", bounds=[[0,40]])"
   ]
  },
  {
   "cell_type": "code",
   "execution_count": 39,
   "id": "90a74714",
   "metadata": {},
   "outputs": [],
   "source": [
    "res = minimize(multi_problem.cost, [5], method=\"nelder-mead\")"
   ]
  },
  {
   "cell_type": "code",
   "execution_count": 40,
   "id": "9a932151",
   "metadata": {},
   "outputs": [
    {
     "data": {
      "text/plain": [
       " final_simplex: (array([[5.        ],\n",
       "       [5.00006104]]), array([682267.5, 682267.5]))\n",
       "           fun: 682267.5000000001\n",
       "       message: 'Optimization terminated successfully.'\n",
       "          nfev: 38\n",
       "           nit: 13\n",
       "        status: 0\n",
       "       success: True\n",
       "             x: array([5.])"
      ]
     },
     "execution_count": 40,
     "metadata": {},
     "output_type": "execute_result"
    }
   ],
   "source": [
    "res"
   ]
  },
  {
   "cell_type": "markdown",
   "id": "980276d6",
   "metadata": {},
   "source": [
    "Interestingly enough, while the optimizer gives a \"optimization terminated successfully,\" it stays at the initial point. This may be because of a poor fit of oftimization method. See:"
   ]
  },
  {
   "cell_type": "code",
   "execution_count": 41,
   "id": "4d44bb84",
   "metadata": {},
   "outputs": [],
   "source": [
    "objs = [multi_problem.cost([i]) for i in range(100)]"
   ]
  },
  {
   "cell_type": "code",
   "execution_count": 42,
   "id": "51cb728e",
   "metadata": {},
   "outputs": [
    {
     "data": {
      "text/plain": [
       "<matplotlib.collections.PathCollection at 0x23ac6f56220>"
      ]
     },
     "execution_count": 42,
     "metadata": {},
     "output_type": "execute_result"
    },
    {
     "data": {
      "image/png": "[encoded data removed]",
      "text/plain": [
       "<Figure size 432x288 with 1 Axes>"
      ]
     },
     "metadata": {
      "needs_background": "light"
     },
     "output_type": "display_data"
    }
   ],
   "source": [
    "plt.plot(objs)\n",
    "plt.scatter(res.x, res.fun)"
   ]
  },
  {
   "cell_type": "markdown",
   "id": "2f13a785",
   "metadata": {},
   "source": [
    "As shown, the objective appears to be non-differentiable, with several plateaus between the starting point (20) and the minimum. Since the `SLSQP` solver is a gradient-based solver, it probably sees the gradient as 0 at this point, making it think the result is already an optimum. \n",
    "\n",
    "While many different optimization packages exist, one of the more-developed ones is the `pymoo` package ([see reference](https://pymoo.org/)). Below we show how to interface with `pymoo` to use a solver that will find the optimal solution."
   ]
  },
  {
   "cell_type": "code",
   "execution_count": 43,
   "id": "fc552561",
   "metadata": {},
   "outputs": [],
   "source": [
    "from pymoo.optimize import minimize\n",
    "from pymoo.algorithms.soo.nonconvex.pattern import PatternSearch\n",
    "import numpy as np"
   ]
  },
  {
   "cell_type": "markdown",
   "id": "161963dd",
   "metadata": {},
   "source": [
    "The method `.to_pymoo_problem()` sets up a [pymoo problem object](https://pymoo.org/interface/problem.html) which can be used with a pymoo algorithm per the documentation. Note that this object corresponds directly (that is, is linked) to the original problem (see below)."
   ]
  },
  {
   "cell_type": "code",
   "execution_count": 44,
   "id": "f99785b0",
   "metadata": {},
   "outputs": [],
   "source": [
    "pymoo_prob = multi_problem.to_pymoo_problem()"
   ]
  },
  {
   "cell_type": "code",
   "execution_count": 45,
   "id": "5087f030",
   "metadata": {},
   "outputs": [],
   "source": [
    "algorithm=PatternSearch(x0=np.array([5])) "
   ]
  },
  {
   "cell_type": "code",
   "execution_count": 46,
   "id": "6278f8ab",
   "metadata": {},
   "outputs": [
    {
     "name": "stdout",
     "output_type": "stream",
     "text": [
      "=================================================\n",
      "n_gen  |  n_eval  |     f_avg     |     f_min    \n",
      "=================================================\n",
      "     1 |        1 |  6.822675E+05 |  6.822675E+05\n",
      "     2 |        2 |  6.539020E+05 |  6.255366E+05\n",
      "     3 |        4 |  5.970572E+05 |  5.685778E+05\n",
      "     4 |        6 |  5.120620E+05 |  4.555462E+05\n",
      "     5 |        9 |  4.555462E+05 |  4.555462E+05\n",
      "     6 |       11 |  4.555462E+05 |  4.555462E+05\n",
      "     7 |       13 |  4.555462E+05 |  4.555462E+05\n",
      "     8 |       15 |  4.555462E+05 |  4.555462E+05\n",
      "     9 |       17 |  4.555462E+05 |  4.555462E+05\n",
      "    10 |       19 |  4.555462E+05 |  4.555462E+05\n",
      "    11 |       21 |  4.555462E+05 |  4.555462E+05\n",
      "    12 |       23 |  4.555462E+05 |  4.555462E+05\n",
      "    13 |       25 |  4.555462E+05 |  4.555462E+05\n",
      "    14 |       27 |  4.555462E+05 |  4.555462E+05\n"
     ]
    }
   ],
   "source": [
    "res = minimize(pymoo_prob, algorithm, verbose=True)"
   ]
  },
  {
   "cell_type": "code",
   "execution_count": 47,
   "id": "81c885f8",
   "metadata": {},
   "outputs": [
    {
     "data": {
      "text/plain": [
       "array([36.875])"
      ]
     },
     "execution_count": 47,
     "metadata": {},
     "output_type": "execute_result"
    }
   ],
   "source": [
    "res.X"
   ]
  },
  {
   "cell_type": "code",
   "execution_count": 48,
   "id": "b2411b61",
   "metadata": {},
   "outputs": [
    {
     "data": {
      "text/plain": [
       "array([455546.25])"
      ]
     },
     "execution_count": 48,
     "metadata": {},
     "output_type": "execute_result"
    }
   ],
   "source": [
    "res.F"
   ]
  },
  {
   "cell_type": "code",
   "execution_count": 49,
   "id": "0dac7ac6",
   "metadata": {},
   "outputs": [
    {
     "data": {
      "text/plain": [
       "<matplotlib.collections.PathCollection at 0x23ac716b4c0>"
      ]
     },
     "execution_count": 49,
     "metadata": {},
     "output_type": "execute_result"
    },
    {
     "data": {
      "image/png": "[encoded data removed]",
      "text/plain": [
       "<Figure size 432x288 with 1 Axes>"
      ]
     },
     "metadata": {
      "needs_background": "light"
     },
     "output_type": "display_data"
    }
   ],
   "source": [
    "plt.plot(objs)\n",
    "plt.scatter(res.X, res.F)"
   ]
  },
  {
   "cell_type": "markdown",
   "id": "ff3fc39d",
   "metadata": {},
   "source": [
    "As shown, this method more capably finds the minimum in this case, in part because the underlying search algorithm (Hooke and Jeeves Pattern Search) is more robust to this type of problem."
   ]
  },
  {
   "cell_type": "markdown",
   "id": "beb04929",
   "metadata": {},
   "source": [
    "We can visualize the results of this problem by looking at the simulation log:"
   ]
  },
  {
   "cell_type": "code",
   "execution_count": 50,
   "id": "90dca149",
   "metadata": {},
   "outputs": [
    {
     "data": {
      "image/png": "[encoded data removed]",
      "text/plain": [
       "<Figure size 432x432 with 6 Axes>"
      ]
     },
     "metadata": {
      "needs_background": "light"
     },
     "output_type": "display_data"
    }
   ],
   "source": [
    "fig, ax = an.plot.mdlhists(multi_problem._sims['test_multi']['mdlhists'],\\\n",
    "              fxnflowvals={\"MoveWater\":['total_flow', \"faults\"], \"Wat_2\":{\"area\", 'flowrate', 'pressure'}},\\\n",
    "              time_slice=app.times, legend_loc=False)"
   ]
  },
  {
   "cell_type": "markdown",
   "id": "f5daa5a8",
   "metadata": {},
   "source": [
    "Compare this with the response at the initial value:"
   ]
  },
  {
   "cell_type": "code",
   "execution_count": 51,
   "id": "2c5daa7e",
   "metadata": {},
   "outputs": [
    {
     "data": {
      "image/png": "[encoded data removed]",
      "text/plain": [
       "<Figure size 432x432 with 6 Axes>"
      ]
     },
     "metadata": {
      "needs_background": "light"
     },
     "output_type": "display_data"
    }
   ],
   "source": [
    "multi_problem.cost([1])\n",
    "fig, ax = an.plot.mdlhists(multi_problem._sims['test_multi']['mdlhists'],\\\n",
    "              fxnflowvals={\"MoveWater\":['total_flow', \"faults\"], \"Wat_2\":{\"area\", 'flowrate', 'pressure'}},\\\n",
    "              time_slice=app.times, legend_loc=False)"
   ]
  },
  {
   "cell_type": "markdown",
   "id": "456c1316",
   "metadata": {},
   "source": [
    "As shown, the main difference is that at the initial point, the short delay causes the pump to during the time of the simulation, while at a long delay, the pump breaks later in the simulation. The optimum is at t=37 since this is the first point where all four scenarios no longer result in a mechanical break of the pump."
   ]
  },
  {
   "cell_type": "code",
   "execution_count": null,
   "id": "391c49ad",
   "metadata": {},
   "outputs": [],
   "source": []
  }
 ],
 "metadata": {
  "kernelspec": {
   "display_name": "Python 3 (ipykernel)",
   "language": "python",
   "name": "python3"
  },
  "language_info": {
   "codemirror_mode": {
    "name": "ipython",
    "version": 3
   },
   "file_extension": ".py",
   "mimetype": "text/x-python",
   "name": "python",
   "nbconvert_exporter": "python",
   "pygments_lexer": "ipython3",
   "version": "3.9.7"
  },
  "vscode": {
   "interpreter": {
    "hash": "e91384d516de244e8027664e7296e7623a911fd9d79a3021d1ef03e3e53e2456"
   }
  }
 },
 "nbformat": 4,
 "nbformat_minor": 5
}
