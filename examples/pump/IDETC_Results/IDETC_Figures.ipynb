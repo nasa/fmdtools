{
 "cells": [
  {
   "cell_type": "markdown",
   "metadata": {},
   "source": [
    "# Probability Modelling in fmdtools\n",
    "Here we will demonstrate the fmdtool toolkit's abilities to find a set of scenarios that represent the effects of a given mode."
   ]
  },
  {
   "cell_type": "code",
   "execution_count": 1,
   "metadata": {
    "execution": {
     "iopub.execute_input": "2023-06-09T23:37:36.253738Z",
     "iopub.status.busy": "2023-06-09T23:37:36.253738Z",
     "iopub.status.idle": "2023-06-09T23:37:37.473941Z",
     "shell.execute_reply": "2023-06-09T23:37:37.471936Z"
    }
   },
   "outputs": [],
   "source": [
    "#First, import the fault propogation library as well as the model\n",
    "#since the package is in a parallel location to examples...\n",
    "import fmdtools.sim.propagate as propagate\n",
    "import fmdtools.analyze as an"
   ]
  },
  {
   "cell_type": "code",
   "execution_count": 2,
   "metadata": {
    "execution": {
     "iopub.execute_input": "2023-06-09T23:37:37.483911Z",
     "iopub.status.busy": "2023-06-09T23:37:37.482915Z",
     "iopub.status.idle": "2023-06-09T23:37:37.504996Z",
     "shell.execute_reply": "2023-06-09T23:37:37.503994Z"
    }
   },
   "outputs": [
    {
     "name": "stdout",
     "output_type": "stream",
     "text": [
      "Help on package fmdtools:\n",
      "\n",
      "NAME\n",
      "    fmdtools\n",
      "\n",
      "PACKAGE CONTENTS\n",
      "    analyze (package)\n",
      "    define (package)\n",
      "    sim (package)\n",
      "\n",
      "DATA\n",
      "    __all__ = ['analyze', 'sim', 'define']\n",
      "\n",
      "FILE\n",
      "    c:\\users\\dhulse\\documents\\github\\fmdtools\\fmdtools\\__init__.py\n",
      "\n",
      "\n"
     ]
    }
   ],
   "source": [
    "import fmdtools\n",
    "help(fmdtools)"
   ]
  },
  {
   "cell_type": "code",
   "execution_count": 3,
   "metadata": {
    "execution": {
     "iopub.execute_input": "2023-06-09T23:37:37.509771Z",
     "iopub.status.busy": "2023-06-09T23:37:37.509771Z",
     "iopub.status.idle": "2023-06-09T23:37:38.752813Z",
     "shell.execute_reply": "2023-06-09T23:37:38.751775Z"
    }
   },
   "outputs": [
    {
     "ename": "TypeError",
     "evalue": "__init__() got an unexpected keyword argument 'params'",
     "output_type": "error",
     "traceback": [
      "\u001b[1;31m---------------------------------------------------------------------------\u001b[0m",
      "\u001b[1;31mTypeError\u001b[0m                                 Traceback (most recent call last)",
      "\u001b[1;32m~\\AppData\\Local\\Temp\\1/ipykernel_10936/4258221960.py\u001b[0m in \u001b[0;36m<module>\u001b[1;34m\u001b[0m\n\u001b[0;32m      6\u001b[0m \u001b[1;32mfrom\u001b[0m \u001b[0mex_pump\u001b[0m \u001b[1;32mimport\u001b[0m \u001b[1;33m*\u001b[0m\u001b[1;33m\u001b[0m\u001b[1;33m\u001b[0m\u001b[0m\n\u001b[0;32m      7\u001b[0m \u001b[1;32mfrom\u001b[0m \u001b[0mIPython\u001b[0m\u001b[1;33m.\u001b[0m\u001b[0mdisplay\u001b[0m \u001b[1;32mimport\u001b[0m \u001b[0mHTML\u001b[0m\u001b[1;33m\u001b[0m\u001b[1;33m\u001b[0m\u001b[0m\n\u001b[1;32m----> 8\u001b[1;33m \u001b[0mmdl\u001b[0m \u001b[1;33m=\u001b[0m \u001b[0mPump\u001b[0m\u001b[1;33m(\u001b[0m\u001b[1;33m)\u001b[0m\u001b[1;33m\u001b[0m\u001b[1;33m\u001b[0m\u001b[0m\n\u001b[0m",
      "\u001b[1;32m~\\Documents\\GitHub\\fmdtools\\examples\\pump\\IDETC Results\\ex_pump.py\u001b[0m in \u001b[0;36m__init__\u001b[1;34m(self, params, modelparams, valparams)\u001b[0m\n\u001b[0;32m    213\u001b[0m         \u001b[0msuper\u001b[0m\u001b[1;33m(\u001b[0m\u001b[1;33m)\u001b[0m\u001b[1;33m.\u001b[0m\u001b[0m__init__\u001b[0m\u001b[1;33m(\u001b[0m\u001b[1;33m)\u001b[0m\u001b[1;33m\u001b[0m\u001b[1;33m\u001b[0m\u001b[0m\n\u001b[0;32m    214\u001b[0m \u001b[1;33m\u001b[0m\u001b[0m\n\u001b[1;32m--> 215\u001b[1;33m         \u001b[0msuper\u001b[0m\u001b[1;33m(\u001b[0m\u001b[1;33m)\u001b[0m\u001b[1;33m.\u001b[0m\u001b[0m__init__\u001b[0m\u001b[1;33m(\u001b[0m\u001b[0mparams\u001b[0m\u001b[1;33m=\u001b[0m\u001b[0mparams\u001b[0m\u001b[1;33m,\u001b[0m \u001b[0mmodelparams\u001b[0m\u001b[1;33m=\u001b[0m\u001b[0mmodelparams\u001b[0m\u001b[1;33m,\u001b[0m \u001b[0mvalparams\u001b[0m\u001b[1;33m=\u001b[0m\u001b[0mvalparams\u001b[0m\u001b[1;33m)\u001b[0m\u001b[1;33m\u001b[0m\u001b[1;33m\u001b[0m\u001b[0m\n\u001b[0m\u001b[0;32m    216\u001b[0m         \u001b[1;31m#Stepsize: (change at your own risk, because this changes how the model will execute)\u001b[0m\u001b[1;33m\u001b[0m\u001b[1;33m\u001b[0m\u001b[0m\n\u001b[0;32m    217\u001b[0m         \u001b[1;31m# Timestep at the moment must be an integer.\u001b[0m\u001b[1;33m\u001b[0m\u001b[1;33m\u001b[0m\u001b[0m\n",
      "\u001b[1;31mTypeError\u001b[0m: __init__() got an unexpected keyword argument 'params'"
     ]
    }
   ],
   "source": [
    "import matplotlib.pyplot as plt\n",
    "import numpy as np\n",
    "import pandas as pd\n",
    "\n",
    "import quadpy\n",
    "from ex_pump import *\n",
    "from IPython.display import HTML\n",
    "mdl = Pump()"
   ]
  },
  {
   "cell_type": "markdown",
   "metadata": {},
   "source": [
    "## Theory and Goals\n",
    "\n",
    "The purpose of this document is to show the relative performance of various numerical integration techniques for resilience quantification.\n",
    "\n",
    "\n",
    "### Some approaches:\n",
    "\n",
    "- monte carlo with and without variance reduction\n",
    "\n",
    "- quadrature (from quadpy)\n",
    "\n",
    "- sample likeliest phase (`maxlike` option)\n"
   ]
  },
  {
   "cell_type": "markdown",
   "metadata": {},
   "source": [
    "## Model Description\n",
    " pump: defined in ex_pump. Has the following functions:\n",
    " - import EE\n",
    " - import Water\n",
    " - import Signal\n",
    " - move Water\n",
    " - export Water\n",
    " \n",
    "and flows:\n",
    "- EE (to power the pump)\n",
    "- Water_in\n",
    "- Water_out\n",
    "- Signal input (on/off)"
   ]
  },
  {
   "cell_type": "code",
   "execution_count": 4,
   "metadata": {},
   "outputs": [],
   "source": [
    "an.graph.show(mdl)\n",
    "plt.tight_layout(pad=-1)"
   ]
  },
  {
   "cell_type": "code",
   "execution_count": 5,
   "metadata": {},
   "outputs": [],
   "source": [
    "endresults, mdlhist=propagate.one_fault(mdl, 'ExportWater', 'block', time=10, staged=True)\n",
    "#rp.show_graph(resgraph)"
   ]
  },
  {
   "cell_type": "markdown",
   "metadata": {},
   "source": [
    "The following shows the states of the system over time with and without a fault:"
   ]
  },
  {
   "cell_type": "code",
   "execution_count": 6,
   "metadata": {},
   "outputs": [],
   "source": [
    "fig = an.plot.mdlhists(mdlhist, cols=3)"
   ]
  },
  {
   "cell_type": "code",
   "execution_count": 7,
   "metadata": {},
   "outputs": [],
   "source": [
    "fig, ax = an.plot.mdlhistvals(mdlhist, 'blockage', time=10,fxnflowvals={'Wat_2':['flowrate', 'pressure'],'EE_1':'current'}, cols=2, returnfig=True, timelabel=\"time (min)\")\n",
    "#plt.rcParams.update({'font.size': 14})\n",
    "fig.axes[0].set_ylabel(\"Amps\")\n",
    "fig.axes[1].set_ylabel(\"$m^3/s$\")\n",
    "fig.axes[2].set_ylabel(\"kPa\")\n",
    "fig.tight_layout(pad=0.3)\n",
    "plt.subplots_adjust(top=0.93)"
   ]
  },
  {
   "cell_type": "code",
   "execution_count": 8,
   "metadata": {},
   "outputs": [],
   "source": [
    "fig, ax = an.plot.mdlhists(mdlhist,fxnflowvals={'Wat_2':['flowrate', 'pressure'],'EE_1':'current'}, cols=2,xlabel=\"time (min)\",\\\n",
    "                           ylabels={('flows', \"EE_1\",'current'):'Amps', ('flows', 'Wat_2', 'flowrate'):\"$m^3/s$\", ('flows', 'Wat_2', 'pressure'):\"kPa\"},\\\n",
    "                          time_slice=[10], time_slice_label='fault time', title=\"Pump Response to Blockage\", h_padding=0.3)\n"
   ]
  },
  {
   "cell_type": "code",
   "execution_count": 9,
   "metadata": {},
   "outputs": [],
   "source": [
    "fig.savefig(\"behaviorovertime.pdf\", format=\"pdf\", bbox_inches = 'tight', pad_inches = 0)"
   ]
  },
  {
   "cell_type": "code",
   "execution_count": 10,
   "metadata": {},
   "outputs": [],
   "source": [
    "fig.savefig(\"behaviorovertime.pdf\", format=\"pdf\", bbox_inches = 'tight', pad_inches = 0)"
   ]
  },
  {
   "cell_type": "code",
   "execution_count": 11,
   "metadata": {},
   "outputs": [],
   "source": [
    "deghist_fault = mdlhist.get_degraded_hist(*mdl.fxns, *mdl.flows)\n",
    "fault_fault = mdlhist.get_faulty_hist(*mdl.fxns, *mdl.flows)\n",
    "\n",
    "fig, axis = an.graph.result_from(mdl, deghist_fault, 45, scale=1.0, gtype='fxngraph')\n",
    "axis.set_title(\"Pump System with Blockage Fault\")"
   ]
  },
  {
   "cell_type": "code",
   "execution_count": 12,
   "metadata": {},
   "outputs": [],
   "source": [
    "fig.savefig(\"modelgraph.pdf\", format=\"pdf\", bbox_inches = 'tight', pad_inches = 0)"
   ]
  },
  {
   "cell_type": "markdown",
   "metadata": {},
   "source": [
    "Each of these flows also have different different costs associated with degraded performance:\n",
    " - repair cost\n",
    " - lost water cost\n",
    " - ee use cost\n",
    " These costs also have different forms. "
   ]
  },
  {
   "cell_type": "markdown",
   "metadata": {},
   "source": [
    "## Experiments\n",
    "\n",
    "The goal of these experiments is to compare the error and efficiency of quadrature approaches at approximating the expected resilience over the simulation interval. "
   ]
  },
  {
   "cell_type": "markdown",
   "metadata": {},
   "source": [
    "### Introduce Quadratures\n",
    "The quadratures used in this experiment are shown below. While quadpy has a few other quadratures that can be used, these were chosen becuase they take a single argument for the number of points used."
   ]
  },
  {
   "cell_type": "code",
   "execution_count": 13,
   "metadata": {},
   "outputs": [],
   "source": [
    "quadratures = {}"
   ]
  },
  {
   "cell_type": "code",
   "execution_count": 14,
   "metadata": {},
   "outputs": [],
   "source": [
    "quadratures['gauss-legendre'] = quadpy.c1.gauss_legendre\n",
    "quadratures['gauss-legendre'](3).show()\n",
    "quadratures['gauss-legendre'](3).points\n"
   ]
  },
  {
   "cell_type": "code",
   "execution_count": 15,
   "metadata": {},
   "outputs": [],
   "source": [
    "quadratures['fejer 1'] = quadpy.c1.fejer_1 #argument is # of points\n",
    "quadratures['fejer 1'](5).show()\n",
    "quadratures['fejer 1'](5).points"
   ]
  },
  {
   "cell_type": "code",
   "execution_count": 16,
   "metadata": {},
   "outputs": [],
   "source": [
    "quadratures['fejer 2'] = quadpy.c1.fejer_2 #argument is # of points\n",
    "quadratures['fejer 2'](5).show()\n",
    "quadratures['fejer 2'](5).points"
   ]
  },
  {
   "cell_type": "code",
   "execution_count": 17,
   "metadata": {},
   "outputs": [],
   "source": [
    "quadratures['gauss lobatto'] = quadpy.c1.gauss_lobatto #argument is # of points\n",
    "quadratures['gauss lobatto'](5).show() \n",
    "(quadratures['gauss lobatto'](5).points)"
   ]
  },
  {
   "cell_type": "code",
   "execution_count": 18,
   "metadata": {},
   "outputs": [],
   "source": [
    "#argument is number of pts, (optional) bias left, bias right (maybe try flipping?)\n",
    "#quadratures['gauss radau'] = quadpy.line_segment.gauss_radau\n",
    "#quadratures['gauss radau'](3).show()"
   ]
  },
  {
   "cell_type": "code",
   "execution_count": 19,
   "metadata": {},
   "outputs": [],
   "source": [
    "#argument is n which makes the number of pts n+1\n",
    "#quadratures['newton cotes closed'] = quadpy.line_segment.newton_cotes_closed \n",
    "#quadratures['newton cotes closed'](2).show()"
   ]
  },
  {
   "cell_type": "code",
   "execution_count": 20,
   "metadata": {},
   "outputs": [],
   "source": [
    "#quadratures['newton cotes open'] = quadpy.line_segment.newton_cotes_open #argument num of pts\n",
    "#quadratures['newton cotes open'](3).show() "
   ]
  },
  {
   "cell_type": "markdown",
   "metadata": {},
   "source": [
    "Some other possible quadratures are shown below. "
   ]
  },
  {
   "cell_type": "code",
   "execution_count": 21,
   "metadata": {},
   "outputs": [],
   "source": [
    "#Gauss-kronrod\n",
    "quadpy.c1.gauss_kronrod(5).show() #argument is n which makes the number off pts 2*n+1\n",
    "#Gauss-jacobi\n",
    "quadpy.c1.gauss_jacobi(5, 1,2).show() #argument is # of points, left weighting, right weighting > -1\n",
    "#Gauss-patterson\n",
    "quadpy.c1.gauss_patterson(3).show() #argument is the order n, num pts is [1, 3, 7, 15, 31, 63, 127, 255 or 511]"
   ]
  },
  {
   "cell_type": "markdown",
   "metadata": {},
   "source": [
    "The code below calculates the error of each approach over the number of points used. For the monte-carlo approaches, the results are averaged over 10 simulations and the standard deviation is provided for error bars. The computational cost is also determined by determined by taking the number of simulations needed for each (which is 1 per point (from simulating the nominal) and a fraction based on the injection time of the simulation (faults injected later take less time in simulation))."
   ]
  },
  {
   "cell_type": "markdown",
   "metadata": {},
   "source": [
    "### Experimental setup\n",
    "The following function calculates the expected resilience of a model `mdl` (as well as a few other useful things) over the fault sampling approach defined in `approach`"
   ]
  },
  {
   "cell_type": "code",
   "execution_count": 22,
   "metadata": {},
   "outputs": [],
   "source": [
    "def resilquant(approach, mdl):\n",
    "    endclasses, mdlhists = propagate.approach(mdl, approach, showprogress=False)\n",
    "    \n",
    "    fmea = an.tabulate.summfmea(endclasses, approach)\n",
    "    fmea2 = an.tabulate.phasefmea(endclasses, approach)\n",
    "    util=sum(fmea['expected cost'])\n",
    "\n",
    "    return util, fmea, fmea2"
   ]
  },
  {
   "cell_type": "markdown",
   "metadata": {},
   "source": [
    "This experiment will test how well the quadratures approximate the expected costs of resilience by sampling different points in interval. This is done for the pump model introduced above using the blockage fault.\n",
    "\n",
    "Below each of the cost types are shown:\n",
    " - repair costs (which is a step function due to the conditional fault that occurs due to delays)\n",
    " - water costs (which is linear due to the water lost at each timestep)\n",
    " - EE costs (which is constant and then exponentially decreasing due to the interval of adverse high current draw)\n",
    " - all costs together\n",
    " \n",
    " where the delay for degradation is 20 time-steps"
   ]
  },
  {
   "cell_type": "code",
   "execution_count": 23,
   "metadata": {},
   "outputs": [],
   "source": [
    "costs = [{'repair'}, {'water'}, {'ee'}, {'repair', 'water', 'ee'}]\n",
    "costtitle={'repair':'Repair', 'water':' Decreased Flow', 'ee': 'Increased Current'}\n",
    "costfig = plt.figure(figsize=(5,4))\n",
    "costfig.add_subplot(2, 2, 4)\n",
    "plt.rcParams.update({'font.size': 11})\n",
    "n=1\n",
    "for cost in costs:\n",
    "    mdl = Pump(params={'cost':cost, 'delay':20})\n",
    "    app_full = SampleApproach(mdl, faults=[('ExportWater', 'block')], defaultsamp={'samp':'fullint'})\n",
    "    endclasses, mdlhists = propagate.approach(mdl, app_full, showprogress=False)\n",
    "    ax = costfig.add_subplot(2, 2, n)\n",
    "    an.plot.metricovertime(endclasses, app_full, metric='cost', metrictype='cost')\n",
    "    if len(cost)>1:\n",
    "        plt.title(\"Composite\")\n",
    "    else:\n",
    "        plt.title(costtitle[list(cost)[0]])\n",
    "    plt.ylim([0,30000])\n",
    "    plt.xlim(0,55)\n",
    "    if n%2<1:\n",
    "        ax.set_yticklabels([])\n",
    "        ax.set_ylabel(\"\")\n",
    "    else:\n",
    "        ax.set_ylabel(\"Cost (USD)\")\n",
    "    if n<3:\n",
    "        ax.set_xticklabels([])\n",
    "        ax.set_xlabel(\"\")\n",
    "    n+=1\n",
    "costfig.suptitle(\"Cost of Faults Over Injection Times\")\n",
    "plt.subplots_adjust(left=0.2)"
   ]
  },
  {
   "cell_type": "code",
   "execution_count": 24,
   "metadata": {},
   "outputs": [],
   "source": [
    "plt.savefig(\"costsovertime.pdf\", format=\"pdf\", bbox_inches = 'tight', pad_inches = 0)"
   ]
  },
  {
   "cell_type": "markdown",
   "metadata": {},
   "source": [
    "### Comparing Quadrature Error\n",
    "\n",
    "The functions below compare the result from a set of sampling approaches with the full integral given that quadrature can use a certain amount of points to approximate the function. The error being used is absolute error."
   ]
  },
  {
   "cell_type": "code",
   "execution_count": 25,
   "metadata": {},
   "outputs": [],
   "source": [
    "def calcerror(fullutil, util):    \n",
    "    return abs((fullutil-util)/(fullutil+0.000001))"
   ]
  },
  {
   "cell_type": "code",
   "execution_count": 26,
   "metadata": {},
   "outputs": [],
   "source": [
    "def calc_errors(mdl, quadratures, possible_pts, util_full):\n",
    "    errs = dict.fromkeys(quadratures)\n",
    "    num_samps = dict.fromkeys(quadratures)\n",
    "    for quadname, quad in quadratures.items():\n",
    "        errs[quadname] = []\n",
    "        num_samps[quadname] = []\n",
    "        if quadname=='likeliest':\n",
    "            app=SampleApproach(mdl,faults=[('ExportWater' ,'block')],defaultsamp={'samp':'likeliest'})\n",
    "            util, fmea, phasefmea = resilquant(app, mdl)\n",
    "            errs[quadname] = errs[quadname] + [calcerror(util_full, util)]\n",
    "            num_samps[quadname] = num_samps[quadname] + [len(app.times) + sum([(55-scen.time)/55 for scen in app.scenlist])]\n",
    "        else:\n",
    "            for pt in possible_pts:\n",
    "                try:\n",
    "                    if quadname == 'evenspacing': app=SampleApproach(mdl,faults=[('ExportWater' ,'block')],defaultsamp={'samp':'evenspacing','numpts':pt})\n",
    "                    else:  \n",
    "                        quadobj = quad(pt)\n",
    "                        app=SampleApproach(mdl,faults=[('ExportWater' ,'block')],defaultsamp={'samp':'quadrature','quad':{'nodes':quadobj.points,'weights':quadobj.weights}})\n",
    "                    util, fmea, phasefmea = resilquant(app, mdl)\n",
    "                    errs[quadname] = errs[quadname] + [calcerror(util_full, util)]\n",
    "                    num_samps[quadname] = num_samps[quadname] + [len(app.times) + sum([(55-scen.time)/55 for scen in app.scenlist])]\n",
    "                except: 0\n",
    "    return errs, num_samps"
   ]
  },
  {
   "cell_type": "markdown",
   "metadata": {},
   "source": [
    "Paremeters for the experiment:"
   ]
  },
  {
   "cell_type": "code",
   "execution_count": 27,
   "metadata": {},
   "outputs": [],
   "source": [
    "possible_pts = range(1,15) # points for the quadrature\n",
    "#quadratures['evenspacing'] = 1   # adding evenly spaced sampling \n",
    "#quadratures['likeliest'] = 1     # adding likeliest phase sampling\n",
    "delaytimes = [12, 23, 34]        # delay times to test"
   ]
  },
  {
   "cell_type": "markdown",
   "metadata": {},
   "source": [
    "Calculating the error over each cost type, delay, and number of points"
   ]
  },
  {
   "cell_type": "code",
   "execution_count": 28,
   "metadata": {},
   "outputs": [],
   "source": [
    "errovercosts=dict()\n",
    "for cost in costs:\n",
    "    errovercosts[str(cost)]=dict()\n",
    "    for delay in delaytimes:\n",
    "        n+=1\n",
    "        mdl = Pump(params={'cost':cost, 'delay':delay})\n",
    "        app_full = SampleApproach(mdl, faults=[('ExportWater', 'block')], defaultsamp={'samp':'fullint'})\n",
    "        util_full, fmea_full, phasefmea_full = resilquant(app_full, mdl)\n",
    "        errovercosts[str(cost),delay], num_samps = calc_errors(mdl, quadratures, possible_pts, util_full)"
   ]
  },
  {
   "cell_type": "markdown",
   "metadata": {},
   "source": [
    "Plotting results:"
   ]
  },
  {
   "cell_type": "code",
   "execution_count": 29,
   "metadata": {},
   "outputs": [],
   "source": [
    "figure = plt.figure(figsize=(11, 8))\n",
    "plt.rcParams.update({'font.size': 12})\n",
    "figure.add_subplot(len(costs), len(delaytimes), len(costs)*len(delaytimes))\n",
    "n=0\n",
    "markers = {\"gauss-legendre\":\"o\",\"fejer 1\":\"v\", \"fejer 2\":\"^\", \"gauss lobatto\":\"s\"}\n",
    "labs = {\"gauss-legendre\":\"Gauss-Legendre\",\"fejer 1\":\"Fejer 1\", \"fejer 2\":\"Fejer 2\", \"gauss lobatto\":\"Gauss-Lobatto\"}\n",
    "for cost in costs:\n",
    "    for delay in delaytimes:\n",
    "        n+=1\n",
    "        ax = figure.add_subplot(len(costs), len(delaytimes), n)\n",
    "        for quad in errovercosts[str(cost), delay]:\n",
    "            ax.plot(num_samps[quad], errovercosts[str(cost), delay][quad], marker=markers[quad], label=labs[quad])#, label=labels[quad], marker=markers[quad])\n",
    "        title = list(cost)\n",
    "        if len(title)>1: title=\"Composite\"\n",
    "        else: title = costtitle[list(cost)[0]]\n",
    "        ax.set_title(title+\", \"+str(delay))\n",
    "        ax.set_yscale(\"symlog\", linthresh=0.001)\n",
    "        ax.set_ylim([0,0.5])\n",
    "        ax.grid(True)\n",
    "        if delay != min(delaytimes): ax.set_yticklabels([])\n",
    "        if title != \"Composite\": ax.set_xticklabels([])\n",
    "        handles, labels = ax.get_legend_handles_labels()\n",
    "figure.suptitle(\"Error of Quadratures Over # of Points, Cost Types, and Delay Parameter\")\n",
    "figure.legend(handles, labels, loc=\"center right\") #bbox_to_anchor=(1.1, 0.5))\n",
    "figure.text(0.5, 0.04, 'Number of Full Model Runs', ha='center')\n",
    "figure.text(0.04, 0.5, 'Error', va='center', rotation='vertical')\n",
    "\n",
    "figure.tight_layout(pad=0.3)\n",
    "plt.subplots_adjust(right=0.80, left=0.1, top=0.91, bottom=0.1)"
   ]
  },
  {
   "cell_type": "code",
   "execution_count": 30,
   "metadata": {},
   "outputs": [],
   "source": [
    "plt.savefig(\"quad_errors.pdf\", format=\"pdf\", bbox_inches = 'tight', pad_inches = 0)"
   ]
  },
  {
   "cell_type": "code",
   "execution_count": 31,
   "metadata": {},
   "outputs": [],
   "source": [
    "avg_cost=pd.DataFrame()\n",
    "for cost in costs:\n",
    "    for delay in delaytimes:\n",
    "        ed=errovercosts[str(cost), delay]\n",
    "        df_cost = pd.DataFrame.from_dict(dict([(k,pd.Series(v)) for k,v in ed.items()]))\n",
    "        df_cost[\"gauss lobatto\"]=df_cost[\"gauss lobatto\"].shift(1)\n",
    "        avg_cost[str(cost),delay]=df_cost[1:11].mean()\n",
    "avg_cost = avg_cost.transpose()\n",
    "avg_cost"
   ]
  },
  {
   "cell_type": "code",
   "execution_count": 32,
   "metadata": {},
   "outputs": [],
   "source": [
    "averages = pd.DataFrame([avg_cost[0:3].mean(),avg_cost[3:6].mean() ,avg_cost[6:9].mean(), avg_cost[9:12].mean(), avg_cost.mean()])\n",
    "averages[\"names\"]=[\"repair\", \"water\", \"ee\", \"composite\", \"average\"]\n",
    "averages= averages[[\"names\", \"gauss-legendre\", \"fejer 1\", \"fejer 2\", \"gauss lobatto\"]]\n",
    "averages"
   ]
  },
  {
   "cell_type": "code",
   "execution_count": 33,
   "metadata": {},
   "outputs": [],
   "source": [
    "averages.to_latex()"
   ]
  },
  {
   "cell_type": "markdown",
   "metadata": {},
   "source": [
    "If individual plots are desired:"
   ]
  },
  {
   "cell_type": "code",
   "execution_count": 34,
   "metadata": {},
   "outputs": [],
   "source": [
    "def plot_errors(errs, num_samps, showlegend=True):\n",
    "    for quad in errs:\n",
    "        plt.plot(num_samps[quad], errs[quad], label=quad, marker='o')\n",
    "    if showlegend: plt.legend(loc='upper right')\n",
    "    plt.xlabel(\"Number of Full Model Runs\")\n",
    "    plt.yscale(\"symlog\", linthreshy=0.001)\n",
    "    plt.grid('both')\n",
    "    plt.ylabel(\"Percent Error\")"
   ]
  },
  {
   "cell_type": "code",
   "execution_count": 35,
   "metadata": {},
   "outputs": [],
   "source": [
    "for delay in delaytimes:\n",
    "    for cost in costs:\n",
    "        mdl = Pump(params={'cost':cost, 'delay':delay})\n",
    "        app_full = SampleApproach(mdl, faults=[('ExportWater', 'block')], defaultsamp={'samp':'fullint'})\n",
    "        util_full, fmea_full, phasefmea_full = resilquant(app_full, mdl)\n",
    "        errs, num_samps = calc_errors(mdl, quadratures, possible_pts, util_full)\n",
    "        plt.figure()\n",
    "        plt.title(\"Error of Sampling Approaches (cost: \"+str(cost)+\" delay: \"+str(delay))\n",
    "        plot_errors(errs, num_samps)"
   ]
  },
  {
   "cell_type": "markdown",
   "metadata": {},
   "source": [
    "What if the form of the integral was known beforehand? In that case one would be interested in knowing the points that best represente the space for future iteration. There are two options for that in this model: 'single-point' and 'piecewise'"
   ]
  },
  {
   "cell_type": "code",
   "execution_count": 36,
   "metadata": {},
   "outputs": [],
   "source": [
    "mdl = Pump(params={'cost':{'water', 'repair', 'ee'}, 'delay':10})\n",
    "app_full = SampleApproach(mdl, faults=[('ExportWater', 'block')], defaultsamp={'samp':'fullint'})\n",
    "app_piecewise = SampleApproach(mdl, faults=[('ExportWater', 'block')], defaultsamp={'samp':'fullint'})\n",
    "app_bestpt = SampleApproach(mdl, faults=[('ExportWater', 'block')], defaultsamp={'samp':'fullint'})\n",
    "endclasses, mdlhists = propagate.approach(mdl, app_full, showprogress=False)\n",
    "app_piecewise.prune_scenarios(endclasses, samptype='piecewise')\n",
    "app_bestpt.prune_scenarios(endclasses, samptype='bestpt')\n",
    "\n",
    "delaytimes = [i for i in range(0,45,1)]\n",
    "piecewiseerr=[]\n",
    "bestpterr=[]\n",
    "for delay in delaytimes:\n",
    "    mdl = Pump(params={'cost':{'water', 'repair', 'ee'}, 'delay':delay, 'units':'hrs'}) \n",
    "    util_full,  fmea_full, phasefmea_full = resilquant(app_full, mdl)\n",
    "    util_piecewise,  fmea_piecewise, phasefmea_piecewise = resilquant(app_piecewise, mdl)\n",
    "    util_bestpt,  fmea_bestpt, phasefmea_bestpt = resilquant(app_bestpt, mdl)\n",
    "    piecewiseerr=piecewiseerr+[calcerror(util_full, util_piecewise)]\n",
    "    bestpterr = bestpterr +[calcerror(util_full, util_bestpt)]\n"
   ]
  },
  {
   "cell_type": "code",
   "execution_count": 37,
   "metadata": {},
   "outputs": [],
   "source": [
    "plt.figure()\n",
    "plt.plot(delaytimes, piecewiseerr, label='piecewise')\n",
    "plt.axvline(10, color='black')\n",
    "plt.plot(delaytimes, bestpterr, label='bestpt')\n",
    "plt.legend()"
   ]
  },
  {
   "cell_type": "markdown",
   "metadata": {},
   "source": [
    "This may change over the delay time parameters chosen. The code below plots the value over a set of possible delay paremeters."
   ]
  },
  {
   "cell_type": "code",
   "execution_count": 38,
   "metadata": {},
   "outputs": [],
   "source": [
    "postplot = plt.figure(figsize=(5,4))\n",
    "plt.rcParams.update({'font.size': 12})\n",
    "postplot.add_subplot(2,2,4)\n",
    "n=0\n",
    "for initdelay in [9,18,27,36]:\n",
    "    n+=1\n",
    "    mdl = Pump(params={'cost':{'water', 'repair', 'ee'}, 'delay':initdelay})\n",
    "    app_full = SampleApproach(mdl, faults=[('ExportWater', 'block')], defaultsamp={'samp':'fullint'})\n",
    "    app_piecewise = SampleApproach(mdl, faults=[('ExportWater', 'block')], defaultsamp={'samp':'fullint'})\n",
    "    app_bestpt = SampleApproach(mdl, faults=[('ExportWater', 'block')], defaultsamp={'samp':'fullint'})\n",
    "    endclasses, mdlhists = propagate.approach(mdl, app_full, showprogress=False)\n",
    "    app_piecewise.prune_scenarios(endclasses, samptype='piecewise')\n",
    "    app_bestpt.prune_scenarios(endclasses, samptype='bestpt')\n",
    "\n",
    "    delays = [i for i in range(0,46,1)]\n",
    "    piecewiseerr=[]\n",
    "    bestpterr=[]\n",
    "    for delay in delays:\n",
    "        mdl = Pump(params={'cost':{'water', 'repair', 'ee'}, 'delay':delay}) \n",
    "        util_full, fmea_full, phasefmea_full = resilquant(app_full, mdl)\n",
    "        util_piecewise,  fmea_piecewise, phasefmea_piecewise = resilquant(app_piecewise, mdl)\n",
    "        util_bestpt,  fmea_bestpt, phasefmea_bestpt = resilquant(app_bestpt, mdl)\n",
    "        piecewiseerr=piecewiseerr+[calcerror(util_full, util_piecewise)]\n",
    "        bestpterr = bestpterr +[calcerror(util_full, util_bestpt)]\n",
    "    \n",
    "    ax = postplot.add_subplot(2,2,n)\n",
    "    plt.ylim([0,0.5])\n",
    "    plt.plot(delays, piecewiseerr, label='piecewise', color='blue')\n",
    "    plt.plot(delays, bestpterr, label='bestpt', linestyle='--', color='grey')\n",
    "    handles, labels = ax.get_legend_handles_labels()\n",
    "    plt.axvline(initdelay, color='black', label = 'init. delay')\n",
    "    plt.title(\"Initial delay = \"+str(initdelay))\n",
    "    plt.grid()\n",
    "    if n%2<1:\n",
    "        ax.set_yticklabels([])\n",
    "    else:\n",
    "        ax.set_ylabel(\"Error\")\n",
    "    if n<3:\n",
    "        ax.set_xticklabels([])\n",
    "    else:\n",
    "        ax.set_xlabel(\"Time (min)\")\n",
    "postplot.suptitle(\"A Posteriori Approach Robustness\")\n",
    "postplot.tight_layout()\n",
    "postplot.subplots_adjust(top=0.88)\n",
    "postplot.legend(handles, labels, bbox_to_anchor=(0.7, 0.4))"
   ]
  },
  {
   "cell_type": "code",
   "execution_count": 39,
   "metadata": {},
   "outputs": [],
   "source": [
    "postplot.savefig(\"posthoc_err.pdf\", format=\"pdf\", bbox_inches = 'tight', pad_inches = 0)"
   ]
  },
  {
   "cell_type": "markdown",
   "metadata": {},
   "source": [
    "This gives an overall look at how quadratures compare with other types of fault sampling approaches:"
   ]
  },
  {
   "cell_type": "code",
   "execution_count": 40,
   "metadata": {},
   "outputs": [],
   "source": [
    "app_full = SampleApproach(mdl, faults=[('ExportWater', 'block')], defaultsamp={'samp':'fullint'})\n",
    "util_full, fmea_full, phasefmea_full = resilquant(app_full, mdl)"
   ]
  },
  {
   "cell_type": "code",
   "execution_count": 41,
   "metadata": {},
   "outputs": [],
   "source": [
    "possible_pts=range(1,45)\n",
    "samp_types = ['evenspacing', 'randtimes', 'symrandtimes', 'quadrature']\n",
    "errs=dict.fromkeys(samp_types)\n",
    "errbars=dict.fromkeys(samp_types)\n",
    "errbar_samps = dict.fromkeys(samp_types)\n",
    "num_samples = dict.fromkeys(samp_types)\n",
    "ave_pts=20\n",
    "\n",
    "util_full, fmea_full, phasefmea_full = resilquant(app_full, mdl)\n",
    "for samp_type in samp_types:\n",
    "    errs[samp_type]=[]\n",
    "    errbars[samp_type]=[]\n",
    "    num_samples[samp_type]=[]\n",
    "    errbar_samps[samp_type] = []\n",
    "    for pt in possible_pts: #calc errors\n",
    "        if samp_type in ['randtimes', 'arandtimes', 'symrandtimes']:\n",
    "            samperrs=[]\n",
    "            samps = []\n",
    "            for ave_pt in range(ave_pts):\n",
    "                app=SampleApproach(mdl, faults=[('ExportWater', 'block')], defaultsamp={'samp':samp_type, 'numpts':pt})\n",
    "                util, fmea, phasefmea = resilquant(app, mdl)\n",
    "                samperrs=samperrs+[calcerror(util_full, util)]\n",
    "                samps = samps + [len(app.times) + sum([(55-scen.time)/55 for scen in app.scenlist])]\n",
    "            err=np.mean(samperrs)\n",
    "            errbar=np.std(samperrs)\n",
    "            num_samps= np.mean(samps)\n",
    "            errbar_samp = np.std(samps)\n",
    "        elif samp_type=='quadrature':\n",
    "            try:\n",
    "                quadrature = quadpy.c1.gauss_legendre(pt)\n",
    "                app=SampleApproach(mdl, faults=[('ExportWater', 'block')], defaultsamp={'samp':'quadrature', 'quad':{'nodes':quadrature.points, 'weights':quadrature.weights}})\n",
    "                util,  fmea, phasefmea = resilquant(app, mdl)\n",
    "                err = calcerror(util_full, util)\n",
    "                errbar=0.0\n",
    "                num_samps = len(app.times) + sum([(55-scen.time)/55 for scen in app.scenlist])\n",
    "                errbar_samp = 0.0\n",
    "            except:\n",
    "                0\n",
    "        else:\n",
    "            app=SampleApproach(mdl, faults=[('ExportWater', 'block')], defaultsamp={'samp':samp_type, 'numpts':pt})\n",
    "            util,  fmea, phasefmea = resilquant(app, mdl)\n",
    "            err = calcerror(util_full, util)\n",
    "            errbar=0.0\n",
    "            num_samps = len(app.times) + sum([(55-scen.time)/55 for scen in app.scenlist])\n",
    "            errbar_samp = 0.0\n",
    "        errs[samp_type]=errs[samp_type]+[err]\n",
    "        errbars[samp_type]=errbars[samp_type]+[errbar]\n",
    "        num_samples[samp_type] = num_samples[samp_type] + [num_samps]\n",
    "        errbar_samps[samp_type] = errbar_samps[samp_type] + [errbar_samp]\n"
   ]
  },
  {
   "cell_type": "code",
   "execution_count": 42,
   "metadata": {},
   "outputs": [],
   "source": [
    "fig=plt.figure(figsize=(6,4))\n",
    "plt.rcParams.update({'font.size': 11})\n",
    "errbar_samps['full'] = [0.0]\n",
    "errs['full']=[0.0]\n",
    "errbars['full']=[0.0]\n",
    "num_samples['full'] = [len(app_full.times) + sum([(55-scen.time)/55 for scen in app_full.scenlist])]\n",
    "\n",
    "\n",
    "app_maxlike = SampleApproach(mdl, faults=[('ExportWater', 'block')], defaultsamp={'samp':'likeliest'})\n",
    "util_maxlike, fmea_maxlike, phasefmea_maxlike = resilquant(app_maxlike, mdl)\n",
    "errbar_samps['likeliest'] = [0.0]\n",
    "errs['likeliest']=[calcerror(util_full, util_maxlike)]\n",
    "errbars['likeliest']=[0.0]\n",
    "num_samples['likeliest'] = [len(app_maxlike.times) + sum([(55-scen.time)/55 for scen in app_maxlike.scenlist])]\n",
    "\n",
    "\n",
    "markers = {\"evenspacing\":\"o\", \"randtimes\":\"v\", \"symrandtimes\":\"^\", \"full\":\"X\", \"likeliest\":\"P\", \"quadrature\":\"s\"}\n",
    "labels = {\"evenspacing\":\"Evenly-Spaced\", \"randtimes\":\"Monte Carlo\", \"symrandtimes\":\"Monte Carlo (AV)\", \"full\":\"Full\", \"likeliest\":\"Likeliest\", \"quadrature\":\"Gauss-Legendre\"}\n",
    "#for samp in num_samples:\n",
    "#    plt.errorbar(num_samples[samp], errs[samp], yerr=errbars[samp],marker = markers[samp], label=samp)\n",
    "for samp in num_samples:\n",
    "    if samp in [\"evenspacing\", \"randtimes\", \"symrandtimes\", \"quadrature\"]:\n",
    "        if samp==\"quadrature\":\n",
    "            p = plt.plot(possible_pts[0:22], errs[samp][0:22],marker = markers[samp], label=labels[samp])\n",
    "        else:\n",
    "            p = plt.plot(possible_pts, errs[samp],marker = markers[samp], label=labels[samp])\n",
    "        if samp in [\"symrandtimes\", \"randtimes\"]:\n",
    "            errline=np.array(errs[samp])\n",
    "            bars=np.array(errbars[samp])\n",
    "            plt.fill_between(possible_pts,errline+bars,errline-bars, alpha=0.2,color=p[0].get_color())\n",
    "    elif samp==\"likeliest\":\n",
    "        plt.errorbar(0.3, errs[samp], yerr=errbars[samp],marker = markers[samp], label=labels[samp], markersize=10)\n",
    "    elif samp==\"full\":\n",
    "        plt.errorbar(45, errs[samp], yerr=errbars[samp],marker = markers[samp], label=labels[samp], markersize=10)\n",
    "\n",
    "#plt.errorbar(range(len(num_samps)), list(num_samps.values(), )\n",
    "#plt.xticks(range(len(num_samps)), list(num_samps.keys())\n",
    "plt.legend(loc='upper right',bbox_to_anchor=(0.35, 0., 0.5, 0.48))\n",
    "plt.xlabel(\"Number of Points Used\")\n",
    "plt.yscale(\"symlog\", linthreshy=0.001)\n",
    "plt.ylim([-0.0001,1])\n",
    "#plt.xscale(\"log\")\n",
    "plt.grid('both')\n",
    "plt.ylabel(\"Error\")\n",
    "plt.title(\"Error of Sampling Approaches\")\n"
   ]
  },
  {
   "cell_type": "code",
   "execution_count": 43,
   "metadata": {},
   "outputs": [],
   "source": [
    "plt.savefig(\"hl_error.pdf\", format=\"pdf\", bbox_inches = 'tight', pad_inches = 0)"
   ]
  },
  {
   "cell_type": "code",
   "execution_count": 44,
   "metadata": {},
   "outputs": [],
   "source": [
    "avgoverallerr = {k: np.mean(v) for k,v in errs.items()}"
   ]
  },
  {
   "cell_type": "code",
   "execution_count": 45,
   "metadata": {},
   "outputs": [],
   "source": [
    "avgoverallerr"
   ]
  },
  {
   "cell_type": "code",
   "execution_count": null,
   "metadata": {},
   "outputs": [],
   "source": []
  }
 ],
 "metadata": {
  "kernelspec": {
   "display_name": "Python 3 (ipykernel)",
   "language": "python",
   "name": "python3"
  },
  "language_info": {
   "codemirror_mode": {
    "name": "ipython",
    "version": 3
   },
   "file_extension": ".py",
   "mimetype": "text/x-python",
   "name": "python",
   "nbconvert_exporter": "python",
   "pygments_lexer": "ipython3",
   "version": "3.9.7"
  }
 },
 "nbformat": 4,
 "nbformat_minor": 2
}
