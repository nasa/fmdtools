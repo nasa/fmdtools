{
 "cells": [
  {
   "cell_type": "markdown",
   "metadata": {},
   "source": [
    "# fmdtools Tutorial\n",
    "\n",
    "This tutorial notebook will show some of the basic commands needed to perform resilience analysis in fmdtools.\n",
    "\n",
    "For some context, it may be helpful to look through the accompanying presentation. This notebook uses the model defined in `ex_pump.py`. In this notebook, we will:\n",
    "\n",
    "- Load an environment and model\n",
    "- Simulate the system in nominal and faulty scenarios\n",
    "- Visualize and quantify the results\n",
    "\n",
    "```\n",
    "Copyright © 2024, United States Government, as represented by the Administrator of the National Aeronautics and Space Administration. All rights reserved.\n",
    "\n",
    "The “\"Fault Model Design tools - fmdtools version 2\"” software is licensed under the Apache License, Version 2.0 (the \"License\"); you may not use this file except in compliance with the License. You may obtain a copy of the License at http://www.apache.org/licenses/LICENSE-2.0. \n",
    "\n",
    "Unless required by applicable law or agreed to in writing, software distributed under the License is distributed on an \"AS IS\" BASIS, WITHOUT WARRANTIES OR CONDITIONS OF ANY KIND, either express or implied. See the License for the specific language governing permissions and limitations under the License.\n",
    "```"
   ]
  },
  {
   "cell_type": "markdown",
   "metadata": {},
   "source": [
    "## 1.) Loading the environment and model\n",
    "\n",
    "To load the `fmdtools` environment, we have to install and import it. This can be accomplished using `pip` for both the stable and development versions:"
   ]
  },
  {
   "cell_type": "code",
   "execution_count": 1,
   "metadata": {
    "execution": {
     "iopub.execute_input": "2024-02-03T00:14:37.081777Z",
     "iopub.status.busy": "2024-02-03T00:14:37.080767Z",
     "iopub.status.idle": "2024-02-03T00:14:37.099324Z",
     "shell.execute_reply": "2024-02-03T00:14:37.099324Z"
    }
   },
   "outputs": [],
   "source": [
    "##Stable (PyPl) version\n",
    "# pip install fmdtools\n",
    "\n",
    "##Development version (downloaded from git)\n",
    "# pip install -e /path/to/fmdtools ##Note that /path/to/fmdtools is the path to the fmdtools repo"
   ]
  },
  {
   "cell_type": "markdown",
   "metadata": {},
   "source": [
    "There are a number of different syntaxes for importing modules. Because of the long names of the module trees, it is often helpful to load the modules individually and abbreviate (e.g. ``import fmdtools.sim.propagate as propagate``). Below, import the propagate `fmdtools.sim.propagate` and `fmdtools.analyze` modules, as well as sampling using the `fmdtools.sim.sample` module."
   ]
  },
  {
   "cell_type": "code",
   "execution_count": 2,
   "metadata": {
    "execution": {
     "iopub.execute_input": "2024-02-03T00:14:37.103402Z",
     "iopub.status.busy": "2024-02-03T00:14:37.102366Z",
     "iopub.status.idle": "2024-02-03T00:14:38.278407Z",
     "shell.execute_reply": "2024-02-03T00:14:38.278407Z"
    }
   },
   "outputs": [],
   "source": [
    "import fmdtools.sim.propagate as propagate\n",
    "from fmdtools.sim.sample import FaultDomain, FaultSample\n",
    "from fmdtools.analyze.phases import PhaseMap\n",
    "import fmdtools.analyze as an"
   ]
  },
  {
   "cell_type": "markdown",
   "metadata": {},
   "source": [
    "Now, import the Pump class defined in the ex_pump module."
   ]
  },
  {
   "cell_type": "code",
   "execution_count": 3,
   "metadata": {
    "execution": {
     "iopub.execute_input": "2024-02-03T00:14:38.281447Z",
     "iopub.status.busy": "2024-02-03T00:14:38.281447Z",
     "iopub.status.idle": "2024-02-03T00:14:38.293175Z",
     "shell.execute_reply": "2024-02-03T00:14:38.293175Z"
    }
   },
   "outputs": [],
   "source": [
    "from ex_pump import Pump"
   ]
  },
  {
   "cell_type": "markdown",
   "metadata": {},
   "source": [
    "We can then use that to instantiate a model object. See:"
   ]
  },
  {
   "cell_type": "code",
   "execution_count": 169,
   "metadata": {
    "execution": {
     "iopub.execute_input": "2023-09-29T21:48:59.550289Z",
     "iopub.status.busy": "2023-09-29T21:48:59.550289Z",
     "iopub.status.idle": "2023-09-29T21:48:59.556601Z",
     "shell.execute_reply": "2023-09-29T21:48:59.555767Z"
    }
   },
   "outputs": [],
   "source": []
  },
  {
   "cell_type": "markdown",
   "metadata": {},
   "source": [
    "To get started, it can be helpful to view some of the aspects of the model. Try `dir(mdl)`, `mdl.fxns`, `mdl.flows`, `mdl.graph`, etc."
   ]
  },
  {
   "cell_type": "code",
   "execution_count": 4,
   "metadata": {
    "execution": {
     "iopub.execute_input": "2024-02-03T00:14:38.296176Z",
     "iopub.status.busy": "2024-02-03T00:14:38.295175Z",
     "iopub.status.idle": "2024-02-03T00:14:39.003957Z",
     "shell.execute_reply": "2024-02-03T00:14:39.003422Z"
    }
   },
   "outputs": [
    {
     "ename": "NameError",
     "evalue": "name 'mdl' is not defined",
     "output_type": "error",
     "traceback": [
      "\u001b[1;31m---------------------------------------------------------------------------\u001b[0m",
      "\u001b[1;31mNameError\u001b[0m                                 Traceback (most recent call last)",
      "Cell \u001b[1;32mIn[4], line 1\u001b[0m\n\u001b[1;32m----> 1\u001b[0m \u001b[43mmdl\u001b[49m\u001b[38;5;241m.\u001b[39mfxns\n",
      "\u001b[1;31mNameError\u001b[0m: name 'mdl' is not defined"
     ]
    }
   ],
   "source": [
    "mdl.fxns"
   ]
  },
  {
   "cell_type": "markdown",
   "metadata": {},
   "source": [
    "We can also view the run order to see how the model will be simulated. More details on run order are provided in [Model Structure Visualization Tutorial](../docs/Model_Structure_Visualization_Tutorial.ipynb), but in short static propagation functions simulate multiple times per time-step until the model converges, while dynamic propagation functions run once per timestep in a defined order."
   ]
  },
  {
   "cell_type": "code",
   "execution_count": 171,
   "metadata": {
    "execution": {
     "iopub.execute_input": "2023-09-29T21:48:59.567122Z",
     "iopub.status.busy": "2023-09-29T21:48:59.567122Z",
     "iopub.status.idle": "2023-09-29T21:48:59.571379Z",
     "shell.execute_reply": "2023-09-29T21:48:59.570561Z"
    }
   },
   "outputs": [],
   "source": []
  },
  {
   "cell_type": "code",
   "execution_count": 172,
   "metadata": {
    "execution": {
     "iopub.execute_input": "2023-09-29T21:48:59.573375Z",
     "iopub.status.busy": "2023-09-29T21:48:59.573375Z",
     "iopub.status.idle": "2023-09-29T21:48:59.577190Z",
     "shell.execute_reply": "2023-09-29T21:48:59.576363Z"
    }
   },
   "outputs": [],
   "source": []
  },
  {
   "cell_type": "code",
   "execution_count": 173,
   "metadata": {
    "execution": {
     "iopub.execute_input": "2023-09-29T21:48:59.580191Z",
     "iopub.status.busy": "2023-09-29T21:48:59.579186Z",
     "iopub.status.idle": "2023-09-29T21:48:59.960452Z",
     "shell.execute_reply": "2023-09-29T21:48:59.960452Z"
    }
   },
   "outputs": [],
   "source": []
  },
  {
   "cell_type": "markdown",
   "metadata": {},
   "source": [
    "As shown, because all of the methods were defined as generic behaviors, they are each run in the static propagation step. No order is shown in the static step because the static propagation step iterates between model functions until the values have converged. Nevertheless, one can view the initial static order using:"
   ]
  },
  {
   "cell_type": "code",
   "execution_count": 174,
   "metadata": {
    "execution": {
     "iopub.execute_input": "2023-09-29T21:48:59.963505Z",
     "iopub.status.busy": "2023-09-29T21:48:59.963505Z",
     "iopub.status.idle": "2023-09-29T21:48:59.968277Z",
     "shell.execute_reply": "2023-09-29T21:48:59.968277Z"
    }
   },
   "outputs": [],
   "source": [
    "mdl.staticfxns"
   ]
  },
  {
   "cell_type": "markdown",
   "metadata": {},
   "source": [
    "and the dynamic step order (if there was one):"
   ]
  },
  {
   "cell_type": "code",
   "execution_count": 175,
   "metadata": {
    "execution": {
     "iopub.execute_input": "2023-09-29T21:48:59.972269Z",
     "iopub.status.busy": "2023-09-29T21:48:59.971273Z",
     "iopub.status.idle": "2023-09-29T21:48:59.976596Z",
     "shell.execute_reply": "2023-09-29T21:48:59.976596Z"
    }
   },
   "outputs": [],
   "source": [
    "mdl.dynamicfxns"
   ]
  },
  {
   "cell_type": "markdown",
   "metadata": {},
   "source": [
    "We can also instantiate this model with different parameters. In Pump model, these are defined in `PumpParam`"
   ]
  },
  {
   "cell_type": "code",
   "execution_count": 176,
   "metadata": {
    "execution": {
     "iopub.execute_input": "2023-09-29T21:48:59.979623Z",
     "iopub.status.busy": "2023-09-29T21:48:59.979623Z",
     "iopub.status.idle": "2023-09-29T21:48:59.983438Z",
     "shell.execute_reply": "2023-09-29T21:48:59.983438Z"
    }
   },
   "outputs": [],
   "source": [
    "from ex_pump import PumpParam\n",
    "p = PumpParam()\n",
    "p"
   ]
  },
  {
   "cell_type": "markdown",
   "metadata": {},
   "source": [
    "We can pass non-default parameters to the model (as well as other non-defaults, such as simulation parameters `SimParam` and random seeds) by passing them as dictionaries. In this case:"
   ]
  },
  {
   "cell_type": "code",
   "execution_count": 177,
   "metadata": {
    "execution": {
     "iopub.execute_input": "2023-09-29T21:48:59.986462Z",
     "iopub.status.busy": "2023-09-29T21:48:59.986462Z",
     "iopub.status.idle": "2023-09-29T21:48:59.993126Z",
     "shell.execute_reply": "2023-09-29T21:48:59.993126Z"
    }
   },
   "outputs": [],
   "source": [
    "\n",
    "mdl2"
   ]
  },
  {
   "cell_type": "markdown",
   "metadata": {},
   "source": [
    "Note that, for a model:\n",
    "- `p` is the `Parameter` defining non-mutable attributes (which do not change over a simulation)\n",
    "- `sp` is the `SimParam` defining the simulation start, end, and end conditions\n",
    "- `r` is the `Rand` defining random variables (e.g., for setting a seed)"
   ]
  },
  {
   "cell_type": "markdown",
   "metadata": {},
   "source": [
    "## 2.), 3.), and 4.) Simulate and visualize the results!\n",
    "\n",
    "Now, we will use the methods in `propagate` and the visualization modules in `rd` to simulate the model and visualize the results."
   ]
  },
  {
   "cell_type": "markdown",
   "metadata": {},
   "source": [
    "### 2a.) Simulate nominal\n",
    "\n",
    "To simulate the model in the nominal scenario, use the `propagate.nominal` method, which returns:\n",
    "endresults, which is a result (or a dict of multiple results) specified by the `desired_result` option, e.g.:\n",
    "- 'endclass' (default), which provides the dict from `mdl.find_classification`\n",
    "- 'graph' or `fmdtools.define.graph.Graph` subclass for the model.\n",
    "- 'fxnname.varname'/'flowname.varname': which gets the values of these variables at a the end\n",
    "- a list of the above arguments (to return a dict of multiple)\n",
    "- a dict of lists (for multiple over time), e.g. `{time:[varnames,... 'endclass']}`\n",
    "\n",
    "and mdlhist, which is a history of model states specified by the `track` option. Some of these options include:\n",
    "- fxns'\n",
    "- 'flows' \n",
    "- 'all'\n",
    "- 'none'\n",
    "- 'valparams' (model states specified in mdl.valparams), \n",
    "- or a dict of form: `{'functions':{'fxn1':'att1'}, 'flows':{'flow1':'att1'}}`"
   ]
  },
  {
   "cell_type": "code",
   "execution_count": 178,
   "metadata": {
    "execution": {
     "iopub.execute_input": "2023-09-29T21:48:59.996153Z",
     "iopub.status.busy": "2023-09-29T21:48:59.996153Z",
     "iopub.status.idle": "2023-09-29T21:49:00.022273Z",
     "shell.execute_reply": "2023-09-29T21:49:00.021223Z"
    }
   },
   "outputs": [],
   "source": []
  },
  {
   "cell_type": "markdown",
   "metadata": {},
   "source": [
    "What do the results look like? Explore results structures using the `desired_results` and `track` arguments."
   ]
  },
  {
   "cell_type": "code",
   "execution_count": 179,
   "metadata": {
    "execution": {
     "iopub.execute_input": "2023-09-29T21:49:00.030243Z",
     "iopub.status.busy": "2023-09-29T21:49:00.029251Z",
     "iopub.status.idle": "2023-09-29T21:49:00.035703Z",
     "shell.execute_reply": "2023-09-29T21:49:00.035703Z"
    }
   },
   "outputs": [],
   "source": [
    "result_nominal"
   ]
  },
  {
   "cell_type": "markdown",
   "metadata": {},
   "source": [
    "Note that an `endclass` dictionary can take arbitrary form based on what is produced in `find_classification`. By default, we often return:\n",
    "- `rate`, which is the rate for the scenario calculated from the underlying fault probability model (defined in the `Mode` for each `Function`), \n",
    "- `cost`, which is some cost calculated based on the consequences of the scenario\n",
    "- `expected_cost`, which is the expected value of the cost of the scenario (i.e. `rate*cost`)."
   ]
  },
  {
   "cell_type": "code",
   "execution_count": 180,
   "metadata": {
    "execution": {
     "iopub.execute_input": "2023-09-29T21:49:00.039696Z",
     "iopub.status.busy": "2023-09-29T21:49:00.039696Z",
     "iopub.status.idle": "2023-09-29T21:49:00.044842Z",
     "shell.execute_reply": "2023-09-29T21:49:00.044842Z"
    }
   },
   "outputs": [],
   "source": [
    "mdlhist_nominal"
   ]
  },
  {
   "cell_type": "markdown",
   "metadata": {},
   "source": [
    "### 2b.) Visualize nominal model\n",
    "First, we can show the model graph using `Graph.draw` to see that it was set up correctly. We can do this both on the model graph itself (using `ModelGraph`) and the results of the nominal run (by passing `graph` as an argument in `desired_result`) to verify both are fault-free.\n",
    "\n",
    "Note that the underlyign `Graph` class is very flexible and enables a wide range of display options: \n",
    "- [Graph docs](https://nasa.github.io/fmdtools/docs/fmdtools.analyze.html#fmdtools.analyze.graph.Graph)\n",
    "- [Graph.draw](https://nasa.github.io/fmdtools/docs/fmdtools.analyze.html#fmdtools.analyze.graph.Graph.draw)"
   ]
  },
  {
   "cell_type": "code",
   "execution_count": 181,
   "metadata": {
    "execution": {
     "iopub.execute_input": "2023-09-29T21:49:00.047968Z",
     "iopub.status.busy": "2023-09-29T21:49:00.047968Z",
     "iopub.status.idle": "2023-09-29T21:49:00.326759Z",
     "shell.execute_reply": "2023-09-29T21:49:00.326759Z"
    }
   },
   "outputs": [],
   "source": []
  },
  {
   "cell_type": "markdown",
   "metadata": {},
   "source": [
    "We can also view the flow values of the model using `an.plot.hist` ([see docs](https://nasa.github.io/fmdtools/docs/fmdtools.analyze.html#fmdtools.analyze.plot.hist))\n",
    "\n",
    "\n",
    "It may be helpful to only view flows of interest."
   ]
  },
  {
   "cell_type": "code",
   "execution_count": 182,
   "metadata": {
    "execution": {
     "iopub.execute_input": "2023-09-29T21:49:00.329753Z",
     "iopub.status.busy": "2023-09-29T21:49:00.329753Z",
     "iopub.status.idle": "2023-09-29T21:49:00.852218Z",
     "shell.execute_reply": "2023-09-29T21:49:00.851535Z"
    }
   },
   "outputs": [],
   "source": []
  },
  {
   "cell_type": "markdown",
   "metadata": {},
   "source": [
    "Note: for quick access to the syntax and options for these methods, type the `?method` or `help(method)` in the terminal. For example `?an.plot.mdlhists`"
   ]
  },
  {
   "cell_type": "markdown",
   "metadata": {},
   "source": [
    "### 2b.) Simulate a fault mode\n",
    "To simulate the model in a fault scenario, use the `propagate.one_fault` method. The set of possible faults is defined in the function definitions in `ex_pump.py`, and we can propagate a fault at any time in the operational interval (0-55 seconds).\n",
    "\n",
    "For example, below we simulate a short in the `MoveWater` function at time t=10:"
   ]
  },
  {
   "cell_type": "code",
   "execution_count": 183,
   "metadata": {
    "execution": {
     "iopub.execute_input": "2023-09-29T21:49:00.854252Z",
     "iopub.status.busy": "2023-09-29T21:49:00.854252Z",
     "iopub.status.idle": "2023-09-29T21:49:00.892755Z",
     "shell.execute_reply": "2023-09-29T21:49:00.892755Z"
    }
   },
   "outputs": [],
   "source": []
  },
  {
   "cell_type": "markdown",
   "metadata": {},
   "source": [
    "We can also view the results for from this. In this case `mdlhist` gives a history of results for both the nominal and faulty runs."
   ]
  },
  {
   "cell_type": "code",
   "execution_count": 184,
   "metadata": {
    "execution": {
     "iopub.execute_input": "2023-09-29T21:49:00.895746Z",
     "iopub.status.busy": "2023-09-29T21:49:00.895746Z",
     "iopub.status.idle": "2023-09-29T21:49:00.899965Z",
     "shell.execute_reply": "2023-09-29T21:49:00.899965Z"
    }
   },
   "outputs": [],
   "source": [
    "results_fault"
   ]
  },
  {
   "cell_type": "code",
   "execution_count": 185,
   "metadata": {
    "execution": {
     "iopub.execute_input": "2023-09-29T21:49:00.902959Z",
     "iopub.status.busy": "2023-09-29T21:49:00.902959Z",
     "iopub.status.idle": "2023-09-29T21:49:00.909296Z",
     "shell.execute_reply": "2023-09-29T21:49:00.909296Z"
    }
   },
   "outputs": [],
   "source": [
    "mdlhist_fault"
   ]
  },
  {
   "cell_type": "markdown",
   "metadata": {},
   "source": [
    "### 3b.) Visualize fault model states\n",
    "`an.plot.mdlhistvals` also works for a mdlhists given from `propagate.one_fault`. We can view these results below. As shown, the function will give the nominal result in a blue dotted line and the faulty result in a red line."
   ]
  },
  {
   "cell_type": "code",
   "execution_count": 186,
   "metadata": {
    "execution": {
     "iopub.execute_input": "2023-09-29T21:49:00.912290Z",
     "iopub.status.busy": "2023-09-29T21:49:00.912290Z",
     "iopub.status.idle": "2023-09-29T21:49:01.444520Z",
     "shell.execute_reply": "2023-09-29T21:49:01.444520Z"
    }
   },
   "outputs": [],
   "source": []
  },
  {
   "cell_type": "markdown",
   "metadata": {},
   "source": [
    "We can also view this result graph using `Graph.draw`. In this case, it shows the state of the model at the final time-step of the model run. Thus, while the `EE_1` flow is shown in orange (because it is off-nominal), the Water flows are not, because they have the same state at the final time-step."
   ]
  },
  {
   "cell_type": "code",
   "execution_count": 187,
   "metadata": {
    "execution": {
     "iopub.execute_input": "2023-09-29T21:49:01.447550Z",
     "iopub.status.busy": "2023-09-29T21:49:01.447550Z",
     "iopub.status.idle": "2023-09-29T21:49:01.790066Z",
     "shell.execute_reply": "2023-09-29T21:49:01.790066Z"
    }
   },
   "outputs": [],
   "source": []
  },
  {
   "cell_type": "markdown",
   "metadata": {},
   "source": [
    "If we want to view the graph at another time-step, we can use `Graph.draw_from`, which will call `History.get_degraded_hist` to first process the model states into results which can be visualized and then map that onto a graph view at a given time."
   ]
  },
  {
   "cell_type": "code",
   "execution_count": 188,
   "metadata": {
    "execution": {
     "iopub.execute_input": "2023-09-29T21:49:01.793060Z",
     "iopub.status.busy": "2023-09-29T21:49:01.793060Z",
     "iopub.status.idle": "2023-09-29T21:49:02.168682Z",
     "shell.execute_reply": "2023-09-29T21:49:02.168682Z"
    }
   },
   "outputs": [],
   "source": []
  },
  {
   "cell_type": "markdown",
   "metadata": {},
   "source": [
    "Note that multiple graph representations are available for the graph if desired..."
   ]
  },
  {
   "cell_type": "code",
   "execution_count": 189,
   "metadata": {
    "execution": {
     "iopub.execute_input": "2023-09-29T21:49:02.171708Z",
     "iopub.status.busy": "2023-09-29T21:49:02.171708Z",
     "iopub.status.idle": "2023-09-29T21:49:02.441375Z",
     "shell.execute_reply": "2023-09-29T21:49:02.441375Z"
    }
   },
   "outputs": [],
   "source": []
  },
  {
   "cell_type": "markdown",
   "metadata": {},
   "source": [
    "### 4a.) Simulate set of fault modes\n",
    "\n",
    "To simulate the set of fault modes, we first choose a `FaultDomain` and `FaultSample`. For simplicity, we can choose default parameters at first."
   ]
  },
  {
   "cell_type": "code",
   "execution_count": 190,
   "metadata": {
    "execution": {
     "iopub.execute_input": "2023-09-29T21:49:02.444199Z",
     "iopub.status.busy": "2023-09-29T21:49:02.444199Z",
     "iopub.status.idle": "2023-09-29T21:49:02.456154Z",
     "shell.execute_reply": "2023-09-29T21:49:02.456154Z"
    }
   },
   "outputs": [],
   "source": []
  },
  {
   "cell_type": "code",
   "execution_count": 191,
   "metadata": {},
   "outputs": [],
   "source": []
  },
  {
   "cell_type": "code",
   "execution_count": 192,
   "metadata": {
    "execution": {
     "iopub.execute_input": "2023-09-29T21:49:02.459145Z",
     "iopub.status.busy": "2023-09-29T21:49:02.459145Z",
     "iopub.status.idle": "2023-09-29T21:49:02.684275Z",
     "shell.execute_reply": "2023-09-29T21:49:02.684275Z"
    }
   },
   "outputs": [],
   "source": []
  },
  {
   "cell_type": "markdown",
   "metadata": {},
   "source": [
    "It can be helpful to view what these results look like--a `Result` of faults injected at particular times with their correspnding `Result` dictionaries."
   ]
  },
  {
   "cell_type": "code",
   "execution_count": 193,
   "metadata": {
    "execution": {
     "iopub.execute_input": "2023-09-29T21:49:02.687305Z",
     "iopub.status.busy": "2023-09-29T21:49:02.687305Z",
     "iopub.status.idle": "2023-09-29T21:49:02.692253Z",
     "shell.execute_reply": "2023-09-29T21:49:02.692007Z"
    }
   },
   "outputs": [],
   "source": [
    "endclasses_samp"
   ]
  },
  {
   "cell_type": "markdown",
   "metadata": {},
   "source": [
    "We can look at/use a more structured version using:"
   ]
  },
  {
   "cell_type": "code",
   "execution_count": 194,
   "metadata": {
    "execution": {
     "iopub.execute_input": "2023-09-29T21:49:02.694478Z",
     "iopub.status.busy": "2023-09-29T21:49:02.694478Z",
     "iopub.status.idle": "2023-09-29T21:49:02.700063Z",
     "shell.execute_reply": "2023-09-29T21:49:02.699661Z"
    }
   },
   "outputs": [],
   "source": [
    "ec_nest = endclasses_samp.nest()\n",
    "ec_nest"
   ]
  },
  {
   "cell_type": "markdown",
   "metadata": {},
   "source": [
    "We often want to adjust the `FaultDomain` and `SampleApproach` to answer specific questions about the model (e.g. focussing on single faults, different numbers of sample points, etc). Both have different methods with options which can be changed to enable this, e.g.:"
   ]
  },
  {
   "cell_type": "code",
   "execution_count": 195,
   "metadata": {
    "execution": {
     "iopub.execute_input": "2023-09-29T21:49:02.702095Z",
     "iopub.status.busy": "2023-09-29T21:49:02.702095Z",
     "iopub.status.idle": "2023-09-29T21:49:02.707627Z",
     "shell.execute_reply": "2023-09-29T21:49:02.707159Z"
    }
   },
   "outputs": [],
   "source": []
  },
  {
   "cell_type": "code",
   "execution_count": 196,
   "metadata": {
    "execution": {
     "iopub.execute_input": "2023-09-29T21:49:02.709659Z",
     "iopub.status.busy": "2023-09-29T21:49:02.709659Z",
     "iopub.status.idle": "2023-09-29T21:49:02.714640Z",
     "shell.execute_reply": "2023-09-29T21:49:02.714167Z"
    }
   },
   "outputs": [],
   "source": []
  },
  {
   "cell_type": "markdown",
   "metadata": {},
   "source": [
    "There are a number of different ways to sample the scenarios in the approach:"
   ]
  },
  {
   "cell_type": "code",
   "execution_count": 197,
   "metadata": {
    "execution": {
     "iopub.execute_input": "2023-09-29T21:49:02.732590Z",
     "iopub.status.busy": "2023-09-29T21:49:02.731597Z",
     "iopub.status.idle": "2023-09-29T21:49:02.737294Z",
     "shell.execute_reply": "2023-09-29T21:49:02.736651Z"
    }
   },
   "outputs": [],
   "source": [
    "fs2.times"
   ]
  },
  {
   "cell_type": "markdown",
   "metadata": {},
   "source": [
    "### 4b.) Visualize set of fault modes\n",
    "\n",
    "Using this fault approach, we can now make an FMEA-like analyses of the different fault modes. The `an.tabulate.FMEA` class organizes endclasses such that you can create a table (or plot) for each fault."
   ]
  },
  {
   "cell_type": "code",
   "execution_count": 198,
   "metadata": {
    "execution": {
     "iopub.execute_input": "2023-09-29T21:49:02.739291Z",
     "iopub.status.busy": "2023-09-29T21:49:02.739291Z",
     "iopub.status.idle": "2023-09-29T21:49:02.751359Z",
     "shell.execute_reply": "2023-09-29T21:49:02.751359Z"
    }
   },
   "outputs": [],
   "source": []
  },
  {
   "cell_type": "markdown",
   "metadata": {},
   "source": [
    "We can also use `an.result_summary_fmea` with the processed results histories to get a better picture of which flows and functions degrade in each scenario. "
   ]
  },
  {
   "cell_type": "code",
   "execution_count": 199,
   "metadata": {
    "execution": {
     "iopub.execute_input": "2023-09-29T21:49:02.755367Z",
     "iopub.status.busy": "2023-09-29T21:49:02.754343Z",
     "iopub.status.idle": "2023-09-29T21:49:02.769217Z",
     "shell.execute_reply": "2023-09-29T21:49:02.769217Z"
    }
   },
   "outputs": [],
   "source": []
  },
  {
   "cell_type": "markdown",
   "metadata": {},
   "source": [
    "**Note that this is contingent on what we tracked in the history!** In the above model, we used the default, which is only a few variables defined in the model. \n",
    "\n",
    "If we tracked all, on the other hand, we would get the result below:"
   ]
  },
  {
   "cell_type": "code",
   "execution_count": 200,
   "metadata": {
    "execution": {
     "iopub.execute_input": "2023-09-29T21:49:02.772211Z",
     "iopub.status.busy": "2023-09-29T21:49:02.772211Z",
     "iopub.status.idle": "2023-09-29T21:49:03.133261Z",
     "shell.execute_reply": "2023-09-29T21:49:03.133261Z"
    }
   },
   "outputs": [],
   "source": []
  },
  {
   "cell_type": "markdown",
   "metadata": {},
   "source": [
    "## 5.) Saving Work\n",
    "\n",
    "In computationally expensive simulations, running a lot of computational simulations can take a considerable amount of time. As a result, it becomes impractical to run a new simulation every time one wishes to analyse its data. Results from fmdtools simulations (endclasses or mdlhists) can be saved as pickle, csv, or json files in this instance using either:\n",
    "- `Result.save`/`History.save` or \n",
    "- passing a save_args dictionary to the respective propagate functions (e.g., `{'endclass':{'filename':'file.pkl','overwrite':True}`)\n",
    "\n",
    "and then loaded using:\n",
    "- `Result.load`/`History.load`"
   ]
  },
  {
   "cell_type": "markdown",
   "metadata": {},
   "source": [
    "For example, for this variable:"
   ]
  },
  {
   "cell_type": "code",
   "execution_count": 201,
   "metadata": {
    "execution": {
     "iopub.execute_input": "2023-09-29T21:49:03.136314Z",
     "iopub.status.busy": "2023-09-29T21:49:03.136314Z",
     "iopub.status.idle": "2023-09-29T21:49:03.140883Z",
     "shell.execute_reply": "2023-09-29T21:49:03.140883Z"
    },
    "scrolled": true
   },
   "outputs": [],
   "source": [
    "endclasses_samp"
   ]
  },
  {
   "cell_type": "code",
   "execution_count": 202,
   "metadata": {
    "execution": {
     "iopub.execute_input": "2023-09-29T21:49:03.143900Z",
     "iopub.status.busy": "2023-09-29T21:49:03.143900Z",
     "iopub.status.idle": "2023-09-29T21:49:03.149755Z",
     "shell.execute_reply": "2023-09-29T21:49:03.149755Z"
    }
   },
   "outputs": [],
   "source": []
  },
  {
   "cell_type": "code",
   "execution_count": 203,
   "metadata": {
    "execution": {
     "iopub.execute_input": "2023-09-29T21:49:03.152775Z",
     "iopub.status.busy": "2023-09-29T21:49:03.152775Z",
     "iopub.status.idle": "2023-09-29T21:49:03.163178Z",
     "shell.execute_reply": "2023-09-29T21:49:03.163178Z"
    }
   },
   "outputs": [],
   "source": []
  },
  {
   "cell_type": "code",
   "execution_count": 204,
   "metadata": {
    "execution": {
     "iopub.execute_input": "2023-09-29T21:49:03.166219Z",
     "iopub.status.busy": "2023-09-29T21:49:03.166219Z",
     "iopub.status.idle": "2023-09-29T21:49:03.170525Z",
     "shell.execute_reply": "2023-09-29T21:49:03.170525Z"
    }
   },
   "outputs": [],
   "source": [
    "endclasses_saved"
   ]
  }
 ],
 "metadata": {
  "kernelspec": {
   "display_name": "Python 3 (ipykernel)",
   "language": "python",
   "name": "python3"
  },
  "language_info": {
   "codemirror_mode": {
    "name": "ipython",
    "version": 3
   },
   "file_extension": ".py",
   "mimetype": "text/x-python",
   "name": "python",
   "nbconvert_exporter": "python",
   "pygments_lexer": "ipython3",
   "version": "3.10.9"
  },
  "vscode": {
   "interpreter": {
    "hash": "e91384d516de244e8027664e7296e7623a911fd9d79a3021d1ef03e3e53e2456"
   }
  }
 },
 "nbformat": 4,
 "nbformat_minor": 2
}
