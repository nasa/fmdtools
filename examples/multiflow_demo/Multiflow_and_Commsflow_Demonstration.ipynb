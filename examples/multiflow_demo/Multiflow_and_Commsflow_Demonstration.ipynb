{
 "cells": [
  {
   "cell_type": "markdown",
   "id": "27f82fb4",
   "metadata": {},
   "source": [
    "## Demonstration on Using MultiFlow and CommsFlow\n",
    "\n",
    "This notebook is a demonstration on the use of MultiFlow and CommsFlow for the coordination of multiple devices via a single \"agent\". With the exception of the graphs, the code here is identical to `multiflow_demo.py` with the purpose of walking people through the step-by-step creation of the model. \n",
    "\n",
    "The model is a simple example of using `fmdtools` to create [System of Systems](https://en.wikipedia.org/wiki/System_of_systems) or an [Agent-Based](https://en.wikipedia.org/wiki/Agent-based_model) model. Depending on the representation and the goal of the model, it could be considered a [Multiagent System](https://en.wikipedia.org/wiki/Multi-agent_system) but the fundamental setup works all the same. \n",
    "\n",
    "When using `fmdtools` to do this, indivudal entities known as agents are programmed as functions, while the interactions between them are built using flows. Agents can represent a variety of things such as a representation of a more complicated system (such as a drone) or a software agent that helps control the others. The flows can be interactions such as communication channels or the environment that the agents exist in. For further explanation, see [this part of the documentation](https://nasa.github.io/fmdtools/docs/Development%20Guide.html#structuring-a-model)\n",
    "\n",
    "The concept for this example is as follows: two `mover` agents move in both the x and y direction. A `coordinator` agent is tasked with sending the messages to tell them how to move within the environment."
   ]
  },
  {
   "cell_type": "code",
   "execution_count": 1,
   "id": "ef6fa7c4",
   "metadata": {
    "execution": {
     "iopub.execute_input": "2023-08-04T16:21:24.414148Z",
     "iopub.status.busy": "2023-08-04T16:21:24.413155Z",
     "iopub.status.idle": "2023-08-04T16:21:25.615962Z",
     "shell.execute_reply": "2023-08-04T16:21:25.615962Z"
    }
   },
   "outputs": [],
   "source": [
    "#start by importing the necessary components for building and simulation the model\n",
    "\n",
    "import numpy as np\n",
    "\n",
    "#tools necessary for building the model\n",
    "from fmdtools.define.state import State\n",
    "from fmdtools.define.flow import CommsFlow, MultiFlow\n",
    "from fmdtools.define.parameter import Parameter\n",
    "from fmdtools.define.block import FxnBlock\n",
    "from fmdtools.define.model import Model\n",
    "\n",
    "#tools necessary for simulating the model\n",
    "from fmdtools.define.parameter import Parameter, SimParam\n",
    "from fmdtools.define.mode import Mode\n",
    "from fmdtools.sim import propagate\n",
    "\n",
    "#tools necessary for graphing the model and results\n",
    "from fmdtools.analyze.graph import ModelGraph, ModelFxnGraph, ModelTypeGraph\n",
    "import fmdtools.analyze as an"
   ]
  },
  {
   "cell_type": "markdown",
   "id": "7a4beab7",
   "metadata": {},
   "source": [
    "The first step is creating the flows and states that connect the model. This includes using a `LocationState` as the default starting location. This is given to the Communications channel which uses `CommsFlow` to allow for communications agent, and the locaiton `MultiFlow` to represent an \"environment\". Finally there is a parameter setup for the `Mover` agent, the purpose of which is elaborated on below."
   ]
  },
  {
   "cell_type": "code",
   "execution_count": 2,
   "id": "52479895",
   "metadata": {
    "execution": {
     "iopub.execute_input": "2023-08-04T16:21:25.619953Z",
     "iopub.status.busy": "2023-08-04T16:21:25.618991Z",
     "iopub.status.idle": "2023-08-04T16:21:25.632820Z",
     "shell.execute_reply": "2023-08-04T16:21:25.632035Z"
    }
   },
   "outputs": [],
   "source": [
    "class LocationState(State):\n",
    "    x: float=0.0\n",
    "    y: float=0.0\n",
    "        \n",
    "class Communications(CommsFlow):\n",
    "    _init_s = LocationState\n",
    "    \n",
    "class Location(MultiFlow):\n",
    "    _init_s = LocationState\n",
    "\n",
    "class MoveParam(Parameter):\n",
    "    x_up: float=0.0\n",
    "    y_up: float=0.0"
   ]
  },
  {
   "cell_type": "markdown",
   "id": "fabb4948",
   "metadata": {},
   "source": [
    "Next is the development of the  `Mover` agents. When the model is constructed, there will be two Movers. The first moves in the x direction and the second in the y. That is the purpose of the `MoverParam` and the if statement in the behavior function. When the model is initilized later, the two movers are sent parameters to turn on the x_up and y_up which determines how they move. \n",
    "\n",
    "Other parts necessary in the model are the initiation, which requires making a communications channel and a local copy of the location to track the state. The dynamic behavior function uses the increment (`inc`) function to move the device in the direction needed on each step. With that same update, it makes sure that it updates it's internal info from it's location to ensure that it can send out the correct information to the `coordinator` agent."
   ]
  },
  {
   "cell_type": "code",
   "execution_count": 3,
   "id": "16d50792",
   "metadata": {
    "execution": {
     "iopub.execute_input": "2023-08-04T16:21:25.635847Z",
     "iopub.status.busy": "2023-08-04T16:21:25.634814Z",
     "iopub.status.idle": "2023-08-04T16:21:25.648273Z",
     "shell.execute_reply": "2023-08-04T16:21:25.647631Z"
    }
   },
   "outputs": [],
   "source": [
    "class Mover(FxnBlock):\n",
    "    _init_p = MoveParam\n",
    "    _init_communications = Communications\n",
    "    _init_location = Location \n",
    "    \n",
    "    def __init__(self, name='mover', flows={}, **kwargs):\n",
    "        super().__init__(name=name, flows=flows, **kwargs)\n",
    "        self.internal_info = self.communications.create_comms(name)\n",
    "        self.loc = self.location.create_local(name)\n",
    "        \n",
    "    def dynamic_behavior(self, time):\n",
    "        #move\n",
    "        self.loc.s.inc(x=self.p.x_up, y=self.p.y_up)\n",
    "        # the inbox should be cleared each timestep to allow new messages\n",
    "        self.internal_info.clear_inbox()\n",
    "        \n",
    "    def behavior(self, time):\n",
    "        #recieve messages\n",
    "        self.internal_info.receive()\n",
    "        #communicate\n",
    "        if self.p.x_up!=0.0:  \n",
    "            self.internal_info.s.x=self.loc.s.x\n",
    "            self.internal_info.send(\"all\", \"local\", \"x\")\n",
    "        elif self.p.y_up!=0.0:   \n",
    "            self.internal_info.s.y=self.loc.s.y\n",
    "            self.internal_info.send(\"all\", \"local\", \"y\")           \n",
    "    def find_classification(self, scen, fxnhist):\n",
    "        return {\"last_x\": self.loc.s.x, \"min_x\": fxnhist.faulty.location.get(self.name).x}\n",
    "    "
   ]
  },
  {
   "cell_type": "markdown",
   "id": "1904e0b6",
   "metadata": {},
   "source": [
    "Finally, there is the creation of the `Coordinator` agent. It's main goal to allow for the transfer of information between the agents by receiving and transmiting information to the agents."
   ]
  },
  {
   "cell_type": "code",
   "execution_count": 4,
   "id": "100f307c",
   "metadata": {
    "execution": {
     "iopub.execute_input": "2023-08-04T16:21:25.651256Z",
     "iopub.status.busy": "2023-08-04T16:21:25.651256Z",
     "iopub.status.idle": "2023-08-04T16:21:25.665180Z",
     "shell.execute_reply": "2023-08-04T16:21:25.663183Z"
    }
   },
   "outputs": [],
   "source": [
    "class Coordinator(FxnBlock):\n",
    "    _init_communications = Communications\n",
    "    def __init__(self, name='coordinator', flows={}, **kwargs):\n",
    "        super().__init__(name=name, flows=flows, **kwargs)\n",
    "        self.coord_view= self.communications.create_comms(name, ports=[\"mover_1\", \"mover_2\"])\n",
    "    def dynamic_behavior(self, time):\n",
    "        self.coord_view.clear_inbox()\n",
    "    def behavior(self, time):\n",
    "        self.coord_view.receive()\n",
    "        self.coord_view.update(\"local\", \"mover_1\", \"y\")\n",
    "        self.coord_view.update(\"local\", \"mover_2\", \"x\")"
   ]
  },
  {
   "cell_type": "markdown",
   "id": "be08bb36",
   "metadata": {},
   "source": [
    "After building all the functions and flow, the entire model is put together and initialized with the correct parameters. Each flow and then function is added. Not the \"p = {\"x_up\":1.0}\" and \"p = {\"y_up\":1.0} when creating the two movers. This refers back to the behavior function when making the `Mover` agent before, allowing for each one to behave in its own way."
   ]
  },
  {
   "cell_type": "code",
   "execution_count": 5,
   "id": "90f67093",
   "metadata": {
    "execution": {
     "iopub.execute_input": "2023-08-04T16:21:25.670164Z",
     "iopub.status.busy": "2023-08-04T16:21:25.670164Z",
     "iopub.status.idle": "2023-08-04T16:21:25.681842Z",
     "shell.execute_reply": "2023-08-04T16:21:25.679851Z"
    }
   },
   "outputs": [],
   "source": [
    "class TestModel(Model):\n",
    "    default_sp = dict(times=(0,10))\n",
    "    def __init__(self, **kwargs):\n",
    "        super().__init__(**kwargs)\n",
    "        \n",
    "        self.add_flow(\"communications\", Communications)\n",
    "        self.add_flow(\"location\",       Location)\n",
    "        \n",
    "        self.add_fxn(\"mover_1\",     Mover, \"communications\", \"location\", p = {\"x_up\":1.0})\n",
    "        self.add_fxn(\"mover_2\",     Mover, \"communications\", \"location\", p = {\"y_up\":1.0})\n",
    "        \n",
    "        self.add_fxn(\"coordinator\", Coordinator, \"communications\")\n",
    "        \n",
    "        self.build()"
   ]
  },
  {
   "cell_type": "markdown",
   "id": "9b2bf63d",
   "metadata": {},
   "source": [
    "Before running the model, we start with loading up the model and using the `ModelGraph` function to view the components and their relations to eachother. The `CommsFlow` and `MultiFlow` nodes are represented by octogons and hexagons, respectively. This is different than the circle nodes in regular flows. See `default_node_kwargs` in `fmdtools.analyze.graph` for the different node shapes and colors. "
   ]
  },
  {
   "cell_type": "code",
   "execution_count": 6,
   "id": "f54502a7",
   "metadata": {
    "execution": {
     "iopub.execute_input": "2023-08-04T16:21:25.685832Z",
     "iopub.status.busy": "2023-08-04T16:21:25.685832Z",
     "iopub.status.idle": "2023-08-04T16:21:25.888445Z",
     "shell.execute_reply": "2023-08-04T16:21:25.887399Z"
    }
   },
   "outputs": [
    {
     "data": {
      "image/png": "[encoded data removed]",
      "text/plain": [
       "<Figure size 576x288 with 1 Axes>"
      ]
     },
     "metadata": {},
     "output_type": "display_data"
    }
   ],
   "source": [
    "mdl = TestModel()\n",
    "mg = ModelGraph(mdl)\n",
    "mg.set_edge_labels(title='')\n",
    "fig, ax = mg.draw(figsize=(8,4))"
   ]
  },
  {
   "cell_type": "markdown",
   "id": "133d88e5",
   "metadata": {},
   "source": [
    "Besides the model itself, we can use `ModelTypeGraph` to create a graph representation of hte model classes, showing the containment relationship between function classes and flow classes in the model."
   ]
  },
  {
   "cell_type": "code",
   "execution_count": 7,
   "id": "f1550143",
   "metadata": {
    "execution": {
     "iopub.execute_input": "2023-08-04T16:21:25.891280Z",
     "iopub.status.busy": "2023-08-04T16:21:25.891280Z",
     "iopub.status.idle": "2023-08-04T16:21:26.042789Z",
     "shell.execute_reply": "2023-08-04T16:21:26.042037Z"
    }
   },
   "outputs": [
    {
     "data": {
      "image/png": "[encoded data removed]",
      "text/plain": [
       "<Figure size 576x432 with 1 Axes>"
      ]
     },
     "metadata": {},
     "output_type": "display_data"
    }
   ],
   "source": [
    "tg = ModelTypeGraph(mdl)\n",
    "tg.set_edge_labels(title='')\n",
    "fig, ax = tg.draw(figsize=(8,6))"
   ]
  },
  {
   "cell_type": "markdown",
   "id": "4c568831",
   "metadata": {},
   "source": [
    "Finally, we can run the model and view it's history via `fmdtools.sim.propagate`. The communication is setup such that mover_1 is supposed to go 25 and transmit that information to allow for mover_2 to do the same."
   ]
  },
  {
   "cell_type": "code",
   "execution_count": 8,
   "id": "80d643d2",
   "metadata": {
    "execution": {
     "iopub.execute_input": "2023-08-04T16:21:26.046824Z",
     "iopub.status.busy": "2023-08-04T16:21:26.046824Z",
     "iopub.status.idle": "2023-08-04T16:21:26.073449Z",
     "shell.execute_reply": "2023-08-04T16:21:26.072504Z"
    }
   },
   "outputs": [
    {
     "data": {
      "text/plain": [
       "fxns.mover_1.m.mode:           array(11)\n",
       "fxns.mover_2.m.mode:           array(11)\n",
       "fxns.coordinator.m.mode:       array(11)\n",
       "flows.communications.s.x:      array(11)\n",
       "flows.communications.s.y:      array(11)\n",
       "flows.communications.mover_1.s.x: array(11)\n",
       "flows.communications.mover_1.s.y: array(11)\n",
       "flows.communications.mover_1_out.s.x: array(11)\n",
       "flows.communications.mover_1_out.s.y: array(11)\n",
       "flows.communications.mover_2.s.x: array(11)\n",
       "flows.communications.mover_2.s.y: array(11)\n",
       "flows.communications.mover_2_out.s.x: array(11)\n",
       "flows.communications.mover_2_out.s.y: array(11)\n",
       "flows.communications.coordinator.s.x: array(11)\n",
       "flows.communications.coordinator.s.y: array(11)\n",
       "flows.communications           array(11)\n",
       "flows.communications           array(11)\n",
       "flows.communications           array(11)\n",
       "flows.communications           array(11)\n",
       "flows.communications           array(11)\n",
       "flows.communications           array(11)\n",
       "flows.communications           array(11)\n",
       "flows.communications           array(11)\n",
       "flows.communications           array(11)\n",
       "flows.communications           array(11)\n",
       "flows.location.s.x:            array(11)\n",
       "flows.location.s.y:            array(11)\n",
       "flows.location.mover_1.s.x:    array(11)\n",
       "flows.location.mover_1.s.y:    array(11)\n",
       "flows.location.mover_2.s.x:    array(11)\n",
       "flows.location.mover_2.s.y:    array(11)\n",
       "time:                          array(11)"
      ]
     },
     "execution_count": 8,
     "metadata": {},
     "output_type": "execute_result"
    }
   ],
   "source": [
    "mdl.flows[\"communications\"].mover_1.s.x=25\n",
    "mdl.flows[\"communications\"].mover_1.send(\"mover_2\")\n",
    "from fmdtools.sim import propagate\n",
    "\n",
    "result, mdlhist = propagate.nominal(mdl,track='all', desired_result={'graph':ModelGraph})\n",
    "#fig = result.graph.draw(figsize=(8,6)) #graph can be drawn, but it's the same as before since it's nominal\n",
    "mdlhist"
   ]
  },
  {
   "cell_type": "code",
   "execution_count": 9,
   "id": "e6f38ef3",
   "metadata": {
    "execution": {
     "iopub.execute_input": "2023-08-04T16:21:26.075480Z",
     "iopub.status.busy": "2023-08-04T16:21:26.075480Z",
     "iopub.status.idle": "2023-08-04T16:21:26.389295Z",
     "shell.execute_reply": "2023-08-04T16:21:26.388293Z"
    }
   },
   "outputs": [
    {
     "data": {
      "image/png": "[encoded data removed]",
      "text/plain": [
       "<Figure size 432x288 with 4 Axes>"
      ]
     },
     "metadata": {
      "needs_background": "light"
     },
     "output_type": "display_data"
    }
   ],
   "source": [
    "import fmdtools.analyze as an\n",
    "fig, ax =an.plot.hist(mdlhist ,'flows.location.mover_1.s.x', \n",
    "                               'flows.location.mover_1.s.y', \n",
    "                             'flows.communications.mover_1.s.x', \n",
    "                               'flows.communications.mover_1.s.y') "
   ]
  }
 ],
 "metadata": {
  "kernelspec": {
   "display_name": "Python 3 (ipykernel)",
   "language": "python",
   "name": "python3"
  },
  "language_info": {
   "codemirror_mode": {
    "name": "ipython",
    "version": 3
   },
   "file_extension": ".py",
   "mimetype": "text/x-python",
   "name": "python",
   "nbconvert_exporter": "python",
   "pygments_lexer": "ipython3",
   "version": "3.9.7"
  },
  "varInspector": {
   "cols": {
    "lenName": 16,
    "lenType": 16,
    "lenVar": 40
   },
   "kernels_config": {
    "python": {
     "delete_cmd_postfix": "",
     "delete_cmd_prefix": "del ",
     "library": "var_list.py",
     "varRefreshCmd": "print(var_dic_list())"
    },
    "r": {
     "delete_cmd_postfix": ") ",
     "delete_cmd_prefix": "rm(",
     "library": "var_list.r",
     "varRefreshCmd": "cat(var_dic_list()) "
    }
   },
   "types_to_exclude": [
    "module",
    "function",
    "builtin_function_or_method",
    "instance",
    "_Feature"
   ],
   "window_display": false
  }
 },
 "nbformat": 4,
 "nbformat_minor": 5
}
