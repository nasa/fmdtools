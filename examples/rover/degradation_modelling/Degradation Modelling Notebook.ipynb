{
 "cells": [
  {
   "cell_type": "markdown",
   "id": "d009ff22",
   "metadata": {},
   "source": [
    "# Degradation Modelling \n",
    "\n",
    "This rover shows how degradation modelling can be performed to model the resilience of an engineered system over its entire lifecycle."
   ]
  },
  {
   "cell_type": "code",
   "execution_count": 1,
   "id": "58bb847b",
   "metadata": {},
   "outputs": [],
   "source": [
    "from fmdtools.sim.approach import SampleApproach, NominalApproach\n",
    "import fmdtools.analyze as an\n",
    "import fmdtools.sim.propagate as prop\n",
    "import numpy as np\n",
    "import matplotlib.pyplot as plt\n",
    "import multiprocessing as mp\n",
    "import scipy.stats as stats\n",
    "\n",
    "\n",
    "import multiprocessing as mp"
   ]
  },
  {
   "cell_type": "code",
   "execution_count": 2,
   "id": "1bb0fdce",
   "metadata": {},
   "outputs": [
    {
     "data": {
      "text/plain": [
       "<module 'fmdtools.sim.propagate' from 'c:\\\\users\\\\dhulse\\\\documents\\\\github\\\\fmdtools\\\\fmdtools\\\\sim\\\\propagate.py'>"
      ]
     },
     "execution_count": 2,
     "metadata": {},
     "output_type": "execute_result"
    }
   ],
   "source": [
    "prop"
   ]
  },
  {
   "cell_type": "code",
   "execution_count": 3,
   "id": "048c37aa",
   "metadata": {},
   "outputs": [
    {
     "ename": "NameError",
     "evalue": "name 'FxnBlock' is not defined",
     "output_type": "error",
     "traceback": [
      "\u001b[1;31m---------------------------------------------------------------------------\u001b[0m",
      "\u001b[1;31mNameError\u001b[0m                                 Traceback (most recent call last)",
      "\u001b[1;32m~\\AppData\\Local\\Temp\\1/ipykernel_16936/4227275924.py\u001b[0m in \u001b[0;36m<module>\u001b[1;34m\u001b[0m\n\u001b[1;32m----> 1\u001b[1;33m \u001b[1;32mfrom\u001b[0m \u001b[0mrover_model_human\u001b[0m \u001b[1;32mimport\u001b[0m \u001b[1;33m*\u001b[0m\u001b[1;33m\u001b[0m\u001b[1;33m\u001b[0m\u001b[0m\n\u001b[0m\u001b[0;32m      2\u001b[0m \u001b[1;32mfrom\u001b[0m \u001b[0mrover_model\u001b[0m \u001b[1;32mimport\u001b[0m \u001b[0mplot_trajectories\u001b[0m\u001b[1;33m,\u001b[0m \u001b[0mplot_map\u001b[0m\u001b[1;33m\u001b[0m\u001b[1;33m\u001b[0m\u001b[0m\n",
      "\u001b[1;32m~\\Documents\\GitHub\\fmdtools\\rad_models\\rover\\rover_model_human.py\u001b[0m in \u001b[0;36m<module>\u001b[1;34m\u001b[0m\n\u001b[0;32m     32\u001b[0m \u001b[1;32mfrom\u001b[0m \u001b[0mfmdtools\u001b[0m\u001b[1;33m.\u001b[0m\u001b[0mdefine\u001b[0m \u001b[1;32mimport\u001b[0m \u001b[1;33m*\u001b[0m\u001b[1;33m\u001b[0m\u001b[1;33m\u001b[0m\u001b[0m\n\u001b[0;32m     33\u001b[0m \u001b[1;33m\u001b[0m\u001b[0m\n\u001b[1;32m---> 34\u001b[1;33m \u001b[1;32mclass\u001b[0m \u001b[0mOperations\u001b[0m\u001b[1;33m(\u001b[0m\u001b[0mFxnBlock\u001b[0m\u001b[1;33m)\u001b[0m\u001b[1;33m:\u001b[0m\u001b[1;33m\u001b[0m\u001b[1;33m\u001b[0m\u001b[0m\n\u001b[0m\u001b[0;32m     35\u001b[0m     \u001b[1;32mdef\u001b[0m \u001b[0m__init__\u001b[0m\u001b[1;33m(\u001b[0m\u001b[0mself\u001b[0m\u001b[1;33m,\u001b[0m \u001b[0mname\u001b[0m\u001b[1;33m,\u001b[0m \u001b[0mflows\u001b[0m\u001b[1;33m,\u001b[0m \u001b[0mparams\u001b[0m\u001b[1;33m)\u001b[0m\u001b[1;33m:\u001b[0m\u001b[1;33m\u001b[0m\u001b[1;33m\u001b[0m\u001b[0m\n\u001b[0;32m     36\u001b[0m         \u001b[0mself\u001b[0m\u001b[1;33m.\u001b[0m\u001b[0madd_params\u001b[0m\u001b[1;33m(\u001b[0m\u001b[0mparams\u001b[0m\u001b[1;33m)\u001b[0m\u001b[1;33m\u001b[0m\u001b[1;33m\u001b[0m\u001b[0m\n",
      "\u001b[1;31mNameError\u001b[0m: name 'FxnBlock' is not defined"
     ]
    }
   ],
   "source": [
    "from rover_model_human import *\n",
    "from rover_model import plot_trajectories, plot_map"
   ]
  },
  {
   "cell_type": "code",
   "execution_count": null,
   "id": "88419326",
   "metadata": {},
   "outputs": [],
   "source": [
    "\"\"\"\n",
    "import importlib\n",
    "import rover_model_human\n",
    "importlib.reload(rover_model_human)\n",
    "importlib.reload(an.plot)\n",
    "from rover_model_human import *\n",
    "import fmdtools.analyze as an\n",
    "\"\"\""
   ]
  },
  {
   "cell_type": "markdown",
   "id": "01f8fe30",
   "metadata": {},
   "source": [
    "Degradation models are defined independently of the fault model, but have attributes (e.g., functions) which may correspond to it directly.\n",
    "\n",
    "Because degradation may only occur in specific functions/flows (and may not have inter-functional dependencies), it is not necessary for the degradation model to have the same "
   ]
  },
  {
   "cell_type": "code",
   "execution_count": null,
   "id": "9eea13aa",
   "metadata": {},
   "outputs": [],
   "source": [
    "deg_mdl = RoverDegradation()"
   ]
  },
  {
   "cell_type": "code",
   "execution_count": null,
   "id": "2168c128",
   "metadata": {},
   "outputs": [],
   "source": [
    "figax = an.graph.show(deg_mdl, gtype='fxngraph')"
   ]
  },
  {
   "cell_type": "code",
   "execution_count": null,
   "id": "54e353d8",
   "metadata": {},
   "outputs": [],
   "source": [
    "deg_mdl_hum_long = HumanDegradationLong()"
   ]
  },
  {
   "cell_type": "code",
   "execution_count": null,
   "id": "96fd25a2",
   "metadata": {},
   "outputs": [],
   "source": [
    "figax = an.graph.show(deg_mdl_hum_long, gtype='fxngraph')"
   ]
  },
  {
   "cell_type": "code",
   "execution_count": null,
   "id": "c560fecb",
   "metadata": {},
   "outputs": [],
   "source": [
    "deg_mdl_hum_short = HumanDegradationShort()\n",
    "figax = an.graph.show(deg_mdl_hum_short, gtype='fxngraph')"
   ]
  },
  {
   "cell_type": "code",
   "execution_count": null,
   "id": "e6bce1e4",
   "metadata": {},
   "outputs": [],
   "source": [
    "fault_mdl = Rover()\n",
    "fig, ax = an.graph.show(fault_mdl, gtype='fxnflowgraph')"
   ]
  },
  {
   "cell_type": "code",
   "execution_count": null,
   "id": "029b156f",
   "metadata": {},
   "outputs": [],
   "source": [
    "fig.savefig(\"func_model.pdf\", format=\"pdf\", bbox_inches = 'tight', pad_inches = 0)"
   ]
  },
  {
   "cell_type": "code",
   "execution_count": null,
   "id": "5a8dbe4a",
   "metadata": {},
   "outputs": [],
   "source": [
    "mdl = Rover(params=gen_params('sine', amplitude=1))\n",
    "endresults, mdlhist = prop.nominal(mdl)\n",
    "plot_map(mdl, mdlhist)\n",
    "fig = plt.gcf()"
   ]
  },
  {
   "cell_type": "code",
   "execution_count": null,
   "id": "451764a0",
   "metadata": {},
   "outputs": [],
   "source": [
    "fig.savefig(\"sine_rover_environment.pdf\", format=\"pdf\", bbox_inches = 'tight', pad_inches = 0)"
   ]
  },
  {
   "cell_type": "markdown",
   "id": "f24ae66f",
   "metadata": {},
   "source": [
    "As shown, there are two degradation models here:\n",
    "- one which focusses solely on faults in the drive system, and\n",
    "- one which focusses on the human degradation of fatigue\n",
    "Below we simulate these to model to the degradation behaviors being modelled in this drive system."
   ]
  },
  {
   "cell_type": "markdown",
   "id": "9b043c2f",
   "metadata": {},
   "source": [
    "## Drive Degradation"
   ]
  },
  {
   "cell_type": "code",
   "execution_count": null,
   "id": "5704cd6b",
   "metadata": {},
   "outputs": [],
   "source": [
    "deg_mdl = RoverDegradation()\n",
    "endresults, mdlhist = prop.nominal(deg_mdl)\n",
    "fig = an.plot.mdlhists(mdlhist)"
   ]
  },
  {
   "cell_type": "markdown",
   "id": "4b6ccd40",
   "metadata": {},
   "source": [
    "The major behaviors are:\n",
    "- wear\n",
    "- corrosion\n",
    "- friction\n",
    "- drift\n",
    "\n",
    "These behaviors result from the accumulation of the following rates over each time-step:\n",
    "- yaw_load \n",
    "- corrode_rate\n",
    "- wear_rate\n",
    "\n",
    "These degradation behaviors have additionally been defined to simulate stochastically if desired:"
   ]
  },
  {
   "cell_type": "code",
   "execution_count": null,
   "id": "df6524ef",
   "metadata": {},
   "outputs": [],
   "source": [
    "deg_mdl = RoverDegradation()\n",
    "endresults_deg, mdlhist_deg = prop.nominal(deg_mdl, run_stochastic=True)\n",
    "fig = an.plot.mdlhists(mdlhist_deg)"
   ]
  },
  {
   "cell_type": "markdown",
   "id": "e2deea0c",
   "metadata": {},
   "source": [
    "To get averages/percentages over a number of scenarios, we can view these behaviors over a given number of random seeds:"
   ]
  },
  {
   "cell_type": "code",
   "execution_count": null,
   "id": "812c5a17",
   "metadata": {},
   "outputs": [],
   "source": [
    "nomapp_deg = NominalApproach()\n",
    "nomapp_deg.add_seed_replicates('test', 100)\n",
    "endclasses_deg, mdlhists_deg = prop.nominal_approach(deg_mdl, nomapp_deg, run_stochastic=True)"
   ]
  },
  {
   "cell_type": "code",
   "execution_count": null,
   "id": "d0d2f84d",
   "metadata": {},
   "outputs": [],
   "source": [
    "fig, ax = an.plot.mdlhists(mdlhists_deg, aggregation='mean_std', fxnflowvals={'Drive':['friction','drift']}, title=\"\", xlabel='lifecycle time (months)')"
   ]
  },
  {
   "cell_type": "code",
   "execution_count": null,
   "id": "1cfc8334",
   "metadata": {},
   "outputs": [],
   "source": [
    "fig.savefig(\"drive_degradations.pdf\", format=\"pdf\", bbox_inches = 'tight', pad_inches = 0)"
   ]
  },
  {
   "cell_type": "markdown",
   "id": "708edde5",
   "metadata": {},
   "source": [
    "As shown, while wear and friction proceed monotonically, drift can go one way or another, meaning that whether the rover drifts left or right is basically up to chance. We can further look at slices of these distributions:"
   ]
  },
  {
   "cell_type": "code",
   "execution_count": null,
   "id": "b32f2988",
   "metadata": {},
   "outputs": [],
   "source": [
    "fig, axs = an.plot.metric_dist_from(mdlhists_deg, [10, 20, 25], fxnflowvals='Drive', bins=10, alpha=0.5)"
   ]
  },
  {
   "cell_type": "code",
   "execution_count": null,
   "id": "fcdda79d",
   "metadata": {},
   "outputs": [],
   "source": [
    "fig, axs = an.plot.metric_dist_from(mdlhists_deg, [1, 10, 20, 25], fxnflowvals='Drive', bins=10, alpha=0.5)"
   ]
  },
  {
   "cell_type": "markdown",
   "id": "b0a4437d",
   "metadata": {},
   "source": [
    "Given the parameter information (friction and drift) that the degradation model produced, we can now simulate the model with this information over time in the nominal scenarios."
   ]
  },
  {
   "cell_type": "code",
   "execution_count": null,
   "id": "cf827ed1",
   "metadata": {},
   "outputs": [],
   "source": [
    "behave_nomapp = NominalApproach()\n",
    "behave_nomapp.add_param_ranges(gen_sample_params_comp, 'behave_nomapp', mdlhists_deg, t=(1,12,1), scen = (1,30,1), turn='sine')"
   ]
  },
  {
   "cell_type": "code",
   "execution_count": null,
   "id": "8e28dac4",
   "metadata": {},
   "outputs": [],
   "source": [
    "mdl=Rover(valparams={'end_rad':3.0})\n",
    "behave_endclasses, behave_mdlhists = prop.nominal_approach(mdl, behave_nomapp)"
   ]
  },
  {
   "cell_type": "code",
   "execution_count": null,
   "id": "a961058c",
   "metadata": {},
   "outputs": [],
   "source": [
    "fig = an.plot.nominal_vals_2d(behave_nomapp, behave_endclasses, 't', 'scen', xlabel='lifecycle time (months)', ylabel='scenario', legendloc='upper left', metric='at_finish', nomlabel='True')"
   ]
  },
  {
   "cell_type": "code",
   "execution_count": null,
   "id": "5b936a53",
   "metadata": {},
   "outputs": [],
   "source": [
    "fig.savefig(\"drive_deg_envelope.pdf\", format=\"pdf\", bbox_inches = 'tight', pad_inches = 0)"
   ]
  },
  {
   "cell_type": "code",
   "execution_count": null,
   "id": "ab0cf293",
   "metadata": {},
   "outputs": [],
   "source": [
    "fig = plot_trajectories(behave_mdlhists)"
   ]
  },
  {
   "cell_type": "markdown",
   "id": "b8554c73",
   "metadata": {},
   "source": [
    "As shown, as the time (and thus degradation) increases, the rover becomes more likely to be unable to complete the mission. In this case, it results in the rover not completing the mission in time."
   ]
  },
  {
   "cell_type": "code",
   "execution_count": null,
   "id": "43b4beb6",
   "metadata": {},
   "outputs": [],
   "source": [
    "behave_endclasses_nested, behave_mdlhists_nested, behave_apps_nested = prop.nested_approach(mdl, behave_nomapp, pool=mp.Pool(5), faults='Drive', track='flows')\n"
   ]
  },
  {
   "cell_type": "markdown",
   "id": "c725bcc5",
   "metadata": {},
   "source": [
    "Finally, we can also visualize simulate and then view the effect of the degradation on average resilience..."
   ]
  },
  {
   "cell_type": "code",
   "execution_count": null,
   "id": "ffabcb1b",
   "metadata": {},
   "outputs": [],
   "source": [
    "res_comp = an.tabulate.resilience_factor_comparison(behave_nomapp, behave_endclasses_nested, ['t'], 'at_finish', percent=False)\n",
    "fig = an.plot.resilience_factor_comparison(res_comp, stack=True, maxy=1.1, xlabel='lifecycle time (months)', figsize=(5.5,4), title=\"\", stat=\"proportion complete\")   "
   ]
  },
  {
   "cell_type": "code",
   "execution_count": null,
   "id": "d18a70b8",
   "metadata": {},
   "outputs": [],
   "source": [
    "fig.savefig(\"drive_resilience_degradation.pdf\", format=\"pdf\", bbox_inches = 'tight', pad_inches = 0)"
   ]
  },
  {
   "cell_type": "markdown",
   "id": "b01ed2f2",
   "metadata": {},
   "source": [
    "As shown, while there is some resilience early in the lifecycle (resulting in a small proportion of faults being recovered), this resilience goes away with degradation."
   ]
  },
  {
   "cell_type": "code",
   "execution_count": null,
   "id": "199d53c7",
   "metadata": {},
   "outputs": [],
   "source": [
    "res_comp"
   ]
  },
  {
   "cell_type": "markdown",
   "id": "9ac007ca",
   "metadata": {},
   "source": [
    "## Human Degradation"
   ]
  },
  {
   "cell_type": "markdown",
   "id": "4a92437b",
   "metadata": {},
   "source": [
    "We can also perform this assessment for the human error model, which is split up into two parts:\n",
    "- long term \"degradation\" of experience over months\n",
    "- short term \"degradation\" of stress and fatigue over a day"
   ]
  },
  {
   "cell_type": "code",
   "execution_count": null,
   "id": "ce555f65",
   "metadata": {},
   "outputs": [],
   "source": [
    "deg_mdl_hum_long = HumanDegradationLong()\n",
    "endresults,  mdlhist_hum_long = prop.nominal(deg_mdl_hum_long)\n",
    "fig,ax = an.plot.mdlhists(mdlhist_hum_long)"
   ]
  },
  {
   "cell_type": "code",
   "execution_count": null,
   "id": "6889dab2",
   "metadata": {},
   "outputs": [],
   "source": [
    "nomapp_hum_long = NominalApproach()\n",
    "experience_param = np.random.default_rng(seed=101).gamma(1,1.9,101)\n",
    "experience_param = list(experience_param)\n",
    "nomapp_hum_long.add_param_ranges(gen_long_degPSF_param, 'nomapp_hum_long', experience_param, scen = (0,25,1))"
   ]
  },
  {
   "cell_type": "code",
   "execution_count": null,
   "id": "ebacd826",
   "metadata": {},
   "outputs": [],
   "source": [
    "endclasses, mdlhists_hum_long = prop.nominal_approach(deg_mdl_hum_long, nomapp_hum_long, run_stochastic=True)"
   ]
  },
  {
   "cell_type": "code",
   "execution_count": null,
   "id": "01920a54",
   "metadata": {},
   "outputs": [],
   "source": [
    "fig,ax = an.plot.mdlhists(mdlhists_hum_long, aggregation='mean_std', time_slice = [1,5,9,13], legend_loc=-1, xlabel=\"time (months)\", ylabels={(\"functions\", \"Control\", \"experience\"):\"experience\"})"
   ]
  },
  {
   "cell_type": "code",
   "execution_count": null,
   "id": "c3c17f56",
   "metadata": {},
   "outputs": [],
   "source": [
    "fig.savefig(\"experience_degradation.pdf\", format=\"pdf\", bbox_inches = 'tight', pad_inches = 0)"
   ]
  },
  {
   "cell_type": "markdown",
   "id": "f529ff8a",
   "metadata": {},
   "source": [
    "Short-term degradation"
   ]
  },
  {
   "cell_type": "code",
   "execution_count": null,
   "id": "922019f0",
   "metadata": {},
   "outputs": [],
   "source": [
    "deg_mdl_hum_short = HumanDegradationShort()\n",
    "endresults, mdlhist_hum_short = prop.nominal(deg_mdl_hum_short)\n",
    "fig, axs = an.plot.mdlhists(mdlhist_hum_short)\n",
    "endresults, mdlhist_hum_short = prop.nominal(deg_mdl_hum_short, run_stochastic=True)\n",
    "fig, axs = an.plot.mdlhists(mdlhist_hum_short)"
   ]
  },
  {
   "cell_type": "code",
   "execution_count": null,
   "id": "fd13637b",
   "metadata": {},
   "outputs": [],
   "source": [
    "mdlhist_hum_short"
   ]
  },
  {
   "cell_type": "markdown",
   "id": "23480a97",
   "metadata": {},
   "source": [
    "short-term degradation (over no external params)"
   ]
  },
  {
   "cell_type": "code",
   "execution_count": null,
   "id": "bba84d93",
   "metadata": {},
   "outputs": [],
   "source": [
    "nomapp_human_short = NominalApproach()\n",
    "nomapp_human_short.add_seed_replicates('test', 25)"
   ]
  },
  {
   "cell_type": "code",
   "execution_count": null,
   "id": "88f0a14c",
   "metadata": {},
   "outputs": [],
   "source": [
    "endclasses_human_short, mdlhists_human_short = prop.nominal_approach(deg_mdl_hum_short, nomapp_human_short, run_stochastic=True)"
   ]
  },
  {
   "cell_type": "code",
   "execution_count": null,
   "id": "010a9e23",
   "metadata": {},
   "outputs": [],
   "source": [
    "fig, ax = an.plot.mdlhists(mdlhists_human_short, aggregation='mean_std')"
   ]
  },
  {
   "cell_type": "markdown",
   "id": "eba26443",
   "metadata": {},
   "source": [
    "short-term degradation over long-term params"
   ]
  },
  {
   "cell_type": "code",
   "execution_count": null,
   "id": "a7a3c419",
   "metadata": {},
   "outputs": [],
   "source": [
    "stress_param = np.random.default_rng(seed=101).gamma(2,1.9,101)\n",
    "stress_param = list(stress_param)"
   ]
  },
  {
   "cell_type": "code",
   "execution_count": null,
   "id": "bc78b923",
   "metadata": {},
   "outputs": [],
   "source": [
    "nomapp_short_long = NominalApproach()\n",
    "nomapp_short_long.add_param_ranges(gen_short_degPSF_param, 'nomapp', mdlhists_hum_long, stress_param, scen = (0,25,1), t= (1,15,4))\n",
    "nomapp_short_long.update_factor_seeds('nomapp', 'scen')"
   ]
  },
  {
   "cell_type": "code",
   "execution_count": null,
   "id": "dac759f8",
   "metadata": {},
   "outputs": [],
   "source": [
    "endclasses, mdlhists_hum_short_long = prop.nominal_approach(deg_mdl_hum_short, nomapp_short_long, run_stochastic=True)    "
   ]
  },
  {
   "cell_type": "code",
   "execution_count": null,
   "id": "7590c0e5",
   "metadata": {},
   "outputs": [],
   "source": [
    "nomapp_short_long.ranges['nomapp']['inputranges']"
   ]
  },
  {
   "cell_type": "code",
   "execution_count": null,
   "id": "76ffe10c",
   "metadata": {},
   "outputs": [],
   "source": [
    "comp_groups = nomapp_short_long.get_param_scens('nomapp', 't')"
   ]
  },
  {
   "cell_type": "code",
   "execution_count": null,
   "id": "6670dc18",
   "metadata": {},
   "outputs": [],
   "source": [
    "fig, ax = an.plot.mdlhists(mdlhists_hum_short_long, fxnflowvals={\"Control\":\"stress\"}, comp_groups=comp_groups, aggregation='mean_std',\n",
    "                           xlabel=\"time (hours)\", cols=1,ylabels={(\"functions\", \"Control\", \"stress\"):\"stress\"}, legend_title='month')"
   ]
  },
  {
   "cell_type": "code",
   "execution_count": null,
   "id": "941c9f56",
   "metadata": {},
   "outputs": [],
   "source": [
    "fig.savefig(\"stress_degradation.pdf\", format=\"pdf\", bbox_inches = 'tight', pad_inches = 0)"
   ]
  },
  {
   "cell_type": "code",
   "execution_count": null,
   "id": "c9439423",
   "metadata": {},
   "outputs": [],
   "source": [
    "behave_nomapp_hum = NominalApproach()\n",
    "behave_nomapp_hum.add_param_ranges(gen_human_params_combined, 'behave_nomapp_hum', mdlhists_hum_short_long, nomapp_short_long, 'nomapp', t_stress=(1,11, 2), t_exp=(1,15,4), scen = (1,25, 1), turn='sine')"
   ]
  },
  {
   "cell_type": "code",
   "execution_count": null,
   "id": "ae9366df",
   "metadata": {},
   "outputs": [],
   "source": [
    "mdl=Rover(valparams={'end_rad':3.0})\n",
    "behave_endclasses_hum, behave_mdlhists_hum = prop.nominal_approach(mdl, behave_nomapp_hum, run_stochastic=True)   "
   ]
  },
  {
   "cell_type": "code",
   "execution_count": null,
   "id": "eaf7c939",
   "metadata": {},
   "outputs": [],
   "source": [
    "fig = an.plot.nominal_vals_2d(behave_nomapp_hum, behave_endclasses_hum, 't_stress', 'scen', xlabel='single-day time (hours)', ylabel='scenario',  metric='at_finish', nomlabel='True')"
   ]
  },
  {
   "cell_type": "code",
   "execution_count": null,
   "id": "bf8f2912",
   "metadata": {},
   "outputs": [],
   "source": [
    "fig = an.plot.nominal_vals_2d(behave_nomapp_hum, behave_endclasses_hum, 't_exp', 'scen', xlabel='learning time (months)', ylabel='scenario',  metric='at_finish', nomlabel='True')"
   ]
  },
  {
   "cell_type": "code",
   "execution_count": null,
   "id": "82444815",
   "metadata": {},
   "outputs": [],
   "source": [
    "fig = an.plot.nominal_vals_3d(behave_nomapp_hum, behave_endclasses_hum, 't_stress', 't_exp', 'scen', xlabel='single-day time (hours)', ylabel = 'experience time (months)', zlabel='scenario',  metric='at_finish', nomlabel='True', title=\"Mission Successes\")"
   ]
  },
  {
   "cell_type": "code",
   "execution_count": null,
   "id": "9d353ba3",
   "metadata": {},
   "outputs": [],
   "source": [
    "fig.savefig(\"human_nominal_joint_degradation.pdf\", format=\"pdf\", bbox_inches = 'tight', pad_inches = 0)"
   ]
  },
  {
   "cell_type": "code",
   "execution_count": null,
   "id": "7d5b8496",
   "metadata": {},
   "outputs": [],
   "source": [
    "fig = plot_trajectories(behave_mdlhists_hum)"
   ]
  },
  {
   "cell_type": "code",
   "execution_count": null,
   "id": "1125c12a",
   "metadata": {},
   "outputs": [],
   "source": [
    "fig, ax = an.plot.mdlhists(behave_mdlhists_hum, fxnflowvals='GlobalPSF',   legend_loc=False)"
   ]
  },
  {
   "cell_type": "code",
   "execution_count": null,
   "id": "fd2736ad",
   "metadata": {},
   "outputs": [],
   "source": [
    "fig, ax = an.plot.metric_dist_from(behave_mdlhists_hum, 1, fxnflowvals={'GlobalPSF':'stress'})"
   ]
  },
  {
   "cell_type": "code",
   "execution_count": null,
   "id": "e1e535c2",
   "metadata": {},
   "outputs": [],
   "source": [
    "nom_comp_hum = an.tabulate.nominal_factor_comparison(behave_nomapp_hum, behave_endclasses_hum, ['t_exp','t_stress'], ['at_finish'], give_ci=True, return_anyway=True, percent=True)\n",
    "nom_comp_hum"
   ]
  },
  {
   "cell_type": "code",
   "execution_count": null,
   "id": "2782fd0b",
   "metadata": {},
   "outputs": [],
   "source": [
    "scendict = behave_nomapp_hum.get_param_scens('behave_nomapp_hum', 't_exp','t_stress')\n",
    "late_scens = scendict[13,5]\n",
    "early_scens= scendict[13,1]"
   ]
  },
  {
   "cell_type": "code",
   "execution_count": null,
   "id": "ac1c2c49",
   "metadata": {},
   "outputs": [],
   "source": [
    "late_scens"
   ]
  },
  {
   "cell_type": "code",
   "execution_count": null,
   "id": "abed0279",
   "metadata": {},
   "outputs": [],
   "source": [
    "early_scens"
   ]
  },
  {
   "cell_type": "code",
   "execution_count": null,
   "id": "fd3e7653",
   "metadata": {},
   "outputs": [],
   "source": [
    "behave_nomapp_hum.scenarios['behave_nomapp_hum_90']['properties']['params']"
   ]
  },
  {
   "cell_type": "code",
   "execution_count": null,
   "id": "b721fb69",
   "metadata": {},
   "outputs": [],
   "source": [
    "plt.hist([behave_nomapp_hum.scenarios[scen]['properties']['params']['stress'] for scen in early_scens], alpha=0.5, label='early')\n",
    "plt.hist([behave_nomapp_hum.scenarios[scen]['properties']['params']['stress'] for scen in late_scens], alpha=0.5, label='late')\n",
    "plt.legend()"
   ]
  },
  {
   "cell_type": "code",
   "execution_count": null,
   "id": "faf634da",
   "metadata": {},
   "outputs": [],
   "source": [
    "behave_endclasses_hum"
   ]
  },
  {
   "cell_type": "code",
   "execution_count": null,
   "id": "89e2e9c2",
   "metadata": {},
   "outputs": [],
   "source": [
    "plt.hist([int(behave_endclasses_hum[scen]['at_finish']) for scen in early_scens], alpha=0.5, label='early')\n",
    "plt.hist([float(behave_endclasses_hum[scen]['at_finish']) for scen in late_scens], alpha=0.5, label='late')\n",
    "plt.legend()"
   ]
  },
  {
   "cell_type": "code",
   "execution_count": null,
   "id": "6b6cd938",
   "metadata": {},
   "outputs": [],
   "source": [
    "plt.hist([behave_endclasses_hum[scen]['end_dist'] for scen in early_scens], alpha=0.5, label='early')\n",
    "plt.hist([behave_endclasses_hum[scen]['end_dist'] for scen in late_scens], alpha=0.5, label='late')\n",
    "plt.legend()"
   ]
  },
  {
   "cell_type": "code",
   "execution_count": null,
   "id": "809fdbdf",
   "metadata": {},
   "outputs": [],
   "source": [
    "fig = an.plot.nominal_factor_comparison(nom_comp_hum, 'at_finish', maxy=1.1, xlabel='single-day time (hours)', figsize=(10,6), title=\"\", error_bars=True)  "
   ]
  },
  {
   "cell_type": "code",
   "execution_count": null,
   "id": "09088198",
   "metadata": {},
   "outputs": [],
   "source": [
    "nom_comp_hum = an.tabulate.nominal_factor_comparison(behave_nomapp_hum, behave_endclasses_hum, ['t_exp'], ['at_finish'], percent=False)\n",
    "nom_comp_hum"
   ]
  },
  {
   "cell_type": "code",
   "execution_count": null,
   "id": "904a2b2e",
   "metadata": {},
   "outputs": [],
   "source": [
    "nom_comp_hum = an.tabulate.nominal_factor_comparison(behave_nomapp_hum, behave_endclasses_hum, ['t_stress'], ['at_finish'],  percent=False)\n",
    "nom_comp_hum"
   ]
  },
  {
   "cell_type": "markdown",
   "id": "3052b29c",
   "metadata": {},
   "source": [
    "As for the human resilience:"
   ]
  },
  {
   "cell_type": "code",
   "execution_count": null,
   "id": "3f1eccf4",
   "metadata": {},
   "outputs": [],
   "source": [
    "behave_endclasses_nested_hum, behave_mdlhists_nested_hum, behave_apps_nested_hum = prop.nested_approach(mdl, behave_nomapp_hum, pool=mp.Pool(5), faults='Drive', track='flows')"
   ]
  },
  {
   "cell_type": "code",
   "execution_count": null,
   "id": "9115d48e",
   "metadata": {},
   "outputs": [],
   "source": [
    "res_comp_hum = an.tabulate.resilience_factor_comparison(behave_nomapp_hum, behave_endclasses_nested_hum, ['t_exp','t_stress'], 'at_finish')\n",
    "res_comp_hum"
   ]
  },
  {
   "cell_type": "code",
   "execution_count": null,
   "id": "a68d51f6",
   "metadata": {},
   "outputs": [],
   "source": [
    "fig = an.plot.resilience_factor_comparison(res_comp_hum, stack=True, maxy=1.1, xlabel='t_experience (months), t_stress (hours)', figsize=(10,4), title=\"\", stat=\"proportion complete\")  "
   ]
  },
  {
   "cell_type": "code",
   "execution_count": null,
   "id": "783de7dd",
   "metadata": {},
   "outputs": [],
   "source": [
    "fig.savefig(\"human_resilience_degradation.pdf\", format=\"pdf\", bbox_inches = 'tight', pad_inches = 0)"
   ]
  },
  {
   "cell_type": "code",
   "execution_count": null,
   "id": "8822217e",
   "metadata": {},
   "outputs": [],
   "source": [
    "res_comp_hum"
   ]
  },
  {
   "cell_type": "markdown",
   "id": "57434ddd",
   "metadata": {},
   "source": [
    "## Combined Degradation\n",
    "\n",
    "Idea: make same resilience plots as before but with degradation of resilience to drive faults at 0, 4, and 8 hours of fatigue.\n",
    "\n",
    "Need method of doing this:\n",
    "- take params for one and replace with the other (kind of hacky and requires independence)\n",
    "- create composite of both? (how do you determine the merge between output params?)\n",
    "- use a combined method with both histories as input and sample over t_life and t_day (use this one)"
   ]
  },
  {
   "cell_type": "code",
   "execution_count": null,
   "id": "64a1bc2c",
   "metadata": {},
   "outputs": [],
   "source": [
    "joint_nomapp = NominalApproach()\n",
    "joint_nomapp.add_param_ranges(gen_sample_params_combined, 'behave_jointapp', mdlhists_deg, mdlhists_hum_short_long, nomapp_short_long, stress_id='nomapp',  t_comp=(1,26,12), t_stress=(1,11, 4), t_exp=(1,10,8), scen = (1,25,1), turn='sine')"
   ]
  },
  {
   "cell_type": "code",
   "execution_count": null,
   "id": "17e393c1",
   "metadata": {},
   "outputs": [],
   "source": [
    "mdl=Rover(valparams={'end_rad':3.0})\n",
    "behave_endclasses_joint, behave_mdlhists_joint = prop.nominal_approach(mdl, joint_nomapp)"
   ]
  },
  {
   "cell_type": "code",
   "execution_count": null,
   "id": "ee004565",
   "metadata": {},
   "outputs": [],
   "source": [
    "fig = an.plot.nominal_vals_3d(joint_nomapp, behave_endclasses_joint, 't_comp', 't_stress', 'scen', xlabel='lifecycle time (months)', ylabel='single-day time (hours)', zlabel='scenario',  metric='at_finish', nomlabel='True')"
   ]
  },
  {
   "cell_type": "code",
   "execution_count": null,
   "id": "aed178ed",
   "metadata": {},
   "outputs": [],
   "source": [
    "nom_comp_hum = an.tabulate.nominal_factor_comparison(joint_nomapp, behave_endclasses_joint, ['t_exp', 't_comp', 't_stress'], ['at_finish'], percent=False, return_anyway=True)\n",
    "nom_comp_hum"
   ]
  },
  {
   "cell_type": "code",
   "execution_count": null,
   "id": "6dd026e6",
   "metadata": {},
   "outputs": [],
   "source": [
    "nom_comp_hum.columns"
   ]
  },
  {
   "cell_type": "code",
   "execution_count": null,
   "id": "c098dba2",
   "metadata": {},
   "outputs": [],
   "source": [
    "fig = an.plot.nominal_factor_comparison(nom_comp_hum, 'at_finish', maxy=1.1, xlabel='single-day time (hours)', figsize=(16,4), title=\"\", error_bars=True)  "
   ]
  },
  {
   "cell_type": "markdown",
   "id": "c81d03ae",
   "metadata": {},
   "source": [
    "Resilience assessment"
   ]
  },
  {
   "cell_type": "code",
   "execution_count": null,
   "id": "79b01d7d",
   "metadata": {},
   "outputs": [],
   "source": [
    "behave_endclasses_nested_joint, behave_mdlhists_nested_hum, _ = prop.nested_approach(mdl, joint_nomapp, pool=mp.Pool(5), faults='Drive', track='flows')"
   ]
  },
  {
   "cell_type": "code",
   "execution_count": null,
   "id": "37ad12b9",
   "metadata": {},
   "outputs": [],
   "source": [
    "res_joint = an.tabulate.resilience_factor_comparison(joint_nomapp, behave_endclasses_nested_joint, ['t_exp', 't_comp', 't_stress'], 'at_finish', percent=False) "
   ]
  },
  {
   "cell_type": "code",
   "execution_count": null,
   "id": "c7a42e74",
   "metadata": {},
   "outputs": [],
   "source": [
    "res_joint"
   ]
  },
  {
   "cell_type": "code",
   "execution_count": null,
   "id": "cb70263b",
   "metadata": {},
   "outputs": [],
   "source": [
    "fig = an.plot.resilience_factor_comparison(res_joint, stack=True, maxy=1.1, xlabel='t_experience, t_component, t_stress', figsize=(12,4), title=\"\", stat=\"proportion complete\") "
   ]
  },
  {
   "cell_type": "code",
   "execution_count": null,
   "id": "474a4a3b",
   "metadata": {},
   "outputs": [],
   "source": [
    "fig.savefig(\"joint_resilience_degradation.pdf\", format=\"pdf\", bbox_inches = 'tight', pad_inches = 0)"
   ]
  },
  {
   "cell_type": "code",
   "execution_count": null,
   "id": "d79f6f1a",
   "metadata": {},
   "outputs": [],
   "source": []
  }
 ],
 "metadata": {
  "kernelspec": {
   "display_name": "Python 3 (ipykernel)",
   "language": "python",
   "name": "python3"
  },
  "language_info": {
   "codemirror_mode": {
    "name": "ipython",
    "version": 3
   },
   "file_extension": ".py",
   "mimetype": "text/x-python",
   "name": "python",
   "nbconvert_exporter": "python",
   "pygments_lexer": "ipython3",
   "version": "3.9.7"
  }
 },
 "nbformat": 4,
 "nbformat_minor": 5
}
