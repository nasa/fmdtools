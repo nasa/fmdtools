{
 "cells": [
  {
   "cell_type": "markdown",
   "metadata": {},
   "source": [
    "# Defining Parameter Samples in fmdtools\n",
    "\n",
    "Parameter Samples are used to evaluate the performance of a model over a set of input parameters. It can then be used to do things like:\n",
    "- define/understand the operational envelope for different system parameters (i.e., what inputs can the system safely encounter)\n",
    "- quantify failure probabilities given stochastic inputs (i.e., if the statistical distribution of inputs are known, what is the resulting probability of hazards given the design)"
   ]
  },
  {
   "cell_type": "code",
   "execution_count": 1,
   "metadata": {
    "execution": {
     "iopub.execute_input": "2024-06-12T22:58:03.472139Z",
     "iopub.status.busy": "2024-06-12T22:58:03.471140Z",
     "iopub.status.idle": "2024-06-12T22:58:04.872583Z",
     "shell.execute_reply": "2024-06-12T22:58:04.872583Z"
    }
   },
   "outputs": [],
   "source": [
    "import fmdtools.sim.propagate as prop\n",
    "import inspect"
   ]
  },
  {
   "cell_type": "markdown",
   "metadata": {},
   "source": [
    "The rover model (`rover_model.py`) from the examples module will be used to demonstrate this approach. The main task of the rover is to follow a given line from a starting location to an ending location. "
   ]
  },
  {
   "cell_type": "code",
   "execution_count": 2,
   "metadata": {
    "execution": {
     "iopub.execute_input": "2024-06-12T22:58:04.875593Z",
     "iopub.status.busy": "2024-06-12T22:58:04.875593Z",
     "iopub.status.idle": "2024-06-12T22:58:04.882707Z",
     "shell.execute_reply": "2024-06-12T22:58:04.882707Z"
    }
   },
   "outputs": [],
   "source": [
    "from examples.rover.rover_model import Rover"
   ]
  },
  {
   "cell_type": "markdown",
   "metadata": {},
   "source": [
    "Additionally, this model has a corresponding `Parameter` class which generates the design parameters of the model given a reduced space of input parameters. "
   ]
  },
  {
   "cell_type": "code",
   "execution_count": 3,
   "metadata": {
    "execution": {
     "iopub.execute_input": "2024-06-12T22:58:04.885709Z",
     "iopub.status.busy": "2024-06-12T22:58:04.885709Z",
     "iopub.status.idle": "2024-06-12T22:58:04.898569Z",
     "shell.execute_reply": "2024-06-12T22:58:04.898569Z"
    }
   },
   "outputs": [
    {
     "name": "stdout",
     "output_type": "stream",
     "text": [
      "class RoverParam(Parameter):\n",
      "    \"\"\"Parameters for rover.\"\"\"\n",
      "\n",
      "    ground: GroundParam = GroundParam()\n",
      "    correction: ResCorrection = ResCorrection()\n",
      "    degradation: DegParam = DegParam()\n",
      "    drive_modes: dict = {\"mode_args\": \"set\"}\n",
      "\n",
      "    def __init__(self, *args, **kwargs):\n",
      "        super().__init__(*args, strict_immutability=False, **kwargs)\n",
      "\n"
     ]
    }
   ],
   "source": [
    "from examples.rover.rover_model import RoverParam\n",
    "print(inspect.getsource(RoverParam))"
   ]
  },
  {
   "cell_type": "markdown",
   "metadata": {},
   "source": [
    "This parameter is in turn made of other parameters:"
   ]
  },
  {
   "cell_type": "code",
   "execution_count": 4,
   "metadata": {
    "execution": {
     "iopub.execute_input": "2024-06-12T22:58:04.901571Z",
     "iopub.status.busy": "2024-06-12T22:58:04.901571Z",
     "iopub.status.idle": "2024-06-12T22:58:04.915264Z",
     "shell.execute_reply": "2024-06-12T22:58:04.914760Z"
    }
   },
   "outputs": [
    {
     "name": "stdout",
     "output_type": "stream",
     "text": [
      "class GroundParam(Parameter):\n",
      "    \"\"\"\n",
      "    Parameter defining line for rover to follow.\n",
      "\n",
      "    Fields\n",
      "    ------\n",
      "    linetype: str\n",
      "        line type (sine or turn)\n",
      "    amp: float\n",
      "        sine amplitude\n",
      "    period: float\n",
      "        sine period\n",
      "    radius: float\n",
      "        turn radius\n",
      "    x_start: float\n",
      "        turn starting x-value\n",
      "    y_end: float\n",
      "        turn y-distance (after turn/radius) before end\n",
      "    x_min: float\n",
      "        minimum x-value for line generation (sine or turn)\n",
      "    x_max: float\n",
      "        maximum x-value for line generation (sine)\n",
      "    x_res: float\n",
      "        resolution for line generation\n",
      "    \"\"\"\n",
      "\n",
      "    linetype: str = 'sine'\n",
      "    linetype_set = (\"sine\", \"turn\")\n",
      "    amp: float = 1.0\n",
      "    period: float = 2 * np.pi\n",
      "    radius: float = 20.0\n",
      "    x_start: float = 10.0\n",
      "    y_end: float = 10.0\n",
      "    x_min: float = 0.0\n",
      "    x_max: float = 30.0\n",
      "    x_res: float = 0.1\n",
      "    path_buffer_on: float = 0.2\n",
      "    path_buffer_poor: float = 0.3\n",
      "    path_buffer_near: float = 0.4\n",
      "    dest_buffer_on: float = 1.0\n",
      "    dest_buffer_near: float = 2.0\n",
      "\n",
      "    def gen_ls_sine(self):\n",
      "        \"\"\"Generate coordinates in sine environment.\"\"\"\n",
      "        ls = tuple([[x, sin_func(x, self.amp, self.period)]\n",
      "                    for x in np.arange(self.x_min, self.x_max, self.x_res)])\n",
      "        return ls\n",
      "\n",
      "    def gen_ls_turn(self):\n",
      "        \"\"\"Generate line coordinates in turn environment.\"\"\"\n",
      "        ls = [[x, turn_func(x, self.radius, self.x_start)]\n",
      "              for x in np.arange(self.x_min, self.radius+self.x_start, self.x_res)]\n",
      "        return tuple(ls)\n",
      "\n",
      "    def gen_ls(self):\n",
      "        \"\"\"Generate line coordinates.\"\"\"\n",
      "        if self.linetype == 'sine':\n",
      "            return self.gen_ls_sine()\n",
      "        elif self.linetype == 'turn':\n",
      "            return self.gen_ls_turn()\n",
      "        else:\n",
      "            raise Exception(\"Invalid line time: \"+self.linetype)\n",
      "\n"
     ]
    }
   ],
   "source": [
    "from rover_model import GroundParam\n",
    "print(inspect.getsource(GroundParam))"
   ]
  },
  {
   "cell_type": "markdown",
   "metadata": {},
   "source": [
    "Below shows the performance of the rover during a (default) turn with a radius of 20 meters that begins at 20 meters. As shown, there is a slight drift from the centerline, but not enough for the rover to get lost (that would take 1 meter of drift)."
   ]
  },
  {
   "cell_type": "code",
   "execution_count": 5,
   "metadata": {
    "execution": {
     "iopub.execute_input": "2024-06-12T22:58:04.917265Z",
     "iopub.status.busy": "2024-06-12T22:58:04.917265Z",
     "iopub.status.idle": "2024-06-12T22:58:05.115168Z",
     "shell.execute_reply": "2024-06-12T22:58:05.115168Z"
    }
   },
   "outputs": [],
   "source": [
    "p = RoverParam(ground=dict(linetype=\"turn\"))\n",
    "mdl = Rover(p=p)\n",
    "results, mdlhist = prop.nominal(mdl)"
   ]
  },
  {
   "cell_type": "code",
   "execution_count": 6,
   "metadata": {
    "execution": {
     "iopub.execute_input": "2024-06-12T22:58:05.118176Z",
     "iopub.status.busy": "2024-06-12T22:58:05.118176Z",
     "iopub.status.idle": "2024-06-12T22:58:05.312211Z",
     "shell.execute_reply": "2024-06-12T22:58:05.312211Z"
    }
   },
   "outputs": [
    {
     "data": {
      "text/plain": [
       "(<Figure size 400x400 with 1 Axes>, <Axes: >)"
      ]
     },
     "execution_count": 6,
     "metadata": {},
     "output_type": "execute_result"
    },
    {
     "data": {
      "image/png": "[encoded data removed]",
      "text/plain": [
       "<Figure size 400x400 with 1 Axes>"
      ]
     },
     "metadata": {},
     "output_type": "display_data"
    }
   ],
   "source": [
    "fig, ax = mdlhist.plot_trajectories(\"flows.pos.s.x\", \"flows.pos.s.y\")\n",
    "mdl.flows['ground'].ga.show(fig=fig, ax=ax)"
   ]
  },
  {
   "cell_type": "markdown",
   "metadata": {},
   "source": [
    "Below shows the performance of the model over a sine wave. As shown, similar to the turn line type, the drift small enough to where the rover completes its mission within acceptable bounds."
   ]
  },
  {
   "cell_type": "code",
   "execution_count": 7,
   "metadata": {
    "execution": {
     "iopub.execute_input": "2024-06-12T22:58:05.315197Z",
     "iopub.status.busy": "2024-06-12T22:58:05.315197Z",
     "iopub.status.idle": "2024-06-12T22:58:05.721042Z",
     "shell.execute_reply": "2024-06-12T22:58:05.721042Z"
    }
   },
   "outputs": [
    {
     "data": {
      "text/plain": [
       "(<Figure size 400x400 with 1 Axes>, <Axes: >)"
      ]
     },
     "execution_count": 7,
     "metadata": {},
     "output_type": "execute_result"
    },
    {
     "data": {
      "image/png": "[encoded data removed]",
      "text/plain": [
       "<Figure size 400x400 with 1 Axes>"
      ]
     },
     "metadata": {},
     "output_type": "display_data"
    }
   ],
   "source": [
    "p = RoverParam(ground=dict(linetype=\"sine\"))\n",
    "mdl = Rover(p=p)\n",
    "results, mdlhist = prop.nominal(mdl)\n",
    "fig, ax = mdlhist.plot_trajectories(\"flows.pos.s.x\", \"flows.pos.s.y\")\n",
    "mdl.flows['ground'].ga.show(fig=fig, ax=ax)"
   ]
  },
  {
   "cell_type": "markdown",
   "metadata": {},
   "source": [
    "The performance of the rover in these situations is dependent on the parameters of the situation (e.g., the radius of the curve and the amplitude of the sine wave). Thus, it is important to define the operational envelope for the system. This can be done using a `ParameterDomain`, which can be used to define ranges of variables to simulate the system under, and a `ParameterSample`, which then samples these ranges."
   ]
  },
  {
   "cell_type": "code",
   "execution_count": 8,
   "metadata": {
    "execution": {
     "iopub.execute_input": "2024-06-12T22:58:05.724050Z",
     "iopub.status.busy": "2024-06-12T22:58:05.724050Z",
     "iopub.status.idle": "2024-06-12T22:58:05.727233Z",
     "shell.execute_reply": "2024-06-12T22:58:05.727233Z"
    }
   },
   "outputs": [],
   "source": [
    "from fmdtools.sim.sample import ParameterDomain, ParameterSample"
   ]
  },
  {
   "cell_type": "markdown",
   "metadata": {},
   "source": [
    "In this approach we define a parameter domain for the sine wave scenario.\n",
    "\n",
    "Here we specify the linetype as sine (As a constant) and then add the variables \"amp\" and \"period\" which we will then sample:"
   ]
  },
  {
   "cell_type": "code",
   "execution_count": 9,
   "metadata": {
    "execution": {
     "iopub.execute_input": "2024-06-12T22:58:05.730243Z",
     "iopub.status.busy": "2024-06-12T22:58:05.729249Z",
     "iopub.status.idle": "2024-06-12T22:58:05.734258Z",
     "shell.execute_reply": "2024-06-12T22:58:05.734258Z"
    }
   },
   "outputs": [
    {
     "data": {
      "text/plain": [
       "ParameterDomain with:\n",
       " - variables: {'ground.amp': (0, 8), 'ground.period': (10, 50)}\n",
       " - constants: {'ground.linetype': 'sine'}\n",
       " - parameter_initializer: RoverParam"
      ]
     },
     "execution_count": 9,
     "metadata": {},
     "output_type": "execute_result"
    }
   ],
   "source": [
    "pd_sine = ParameterDomain(RoverParam)\n",
    "pd_sine.add_constant(\"ground.linetype\", \"sine\")\n",
    "pd_sine.add_variables(\"ground.amp\", \"ground.period\", lims={\"ground.amp\":(0, 8), \"ground.period\": (10, 50)})\n",
    "\n",
    "pd_sine"
   ]
  },
  {
   "cell_type": "markdown",
   "metadata": {},
   "source": [
    "These can then be sampled using the `ParameterSample`. \n",
    "\n",
    "Below we specify that we will sample the given variables in combination at certain resolutions:"
   ]
  },
  {
   "cell_type": "code",
   "execution_count": 10,
   "metadata": {
    "execution": {
     "iopub.execute_input": "2024-06-12T22:58:05.737259Z",
     "iopub.status.busy": "2024-06-12T22:58:05.736265Z",
     "iopub.status.idle": "2024-06-12T22:58:05.742891Z",
     "shell.execute_reply": "2024-06-12T22:58:05.742891Z"
    }
   },
   "outputs": [
    {
     "data": {
      "text/plain": [
       "ParameterSample of scenarios:\n",
       " - rep0_range_0\n",
       " - rep0_range_1\n",
       " - rep0_range_2\n",
       " - rep0_range_3\n",
       " - rep0_range_4\n",
       " - rep0_range_5\n",
       " - rep0_range_6\n",
       " - rep0_range_7\n",
       " - rep0_range_8\n",
       " - rep0_range_9\n",
       " - ... (85 total)"
      ]
     },
     "execution_count": 10,
     "metadata": {},
     "output_type": "execute_result"
    }
   ],
   "source": [
    "ps_sine = ParameterSample(pd_sine)\n",
    "ps_sine.add_variable_ranges(comb_kwargs={'resolutions':{'ground.amp': 0.5, \"ground.period\": 10}})\n",
    "\n",
    "ps_sine"
   ]
  },
  {
   "cell_type": "markdown",
   "metadata": {},
   "source": [
    "Notice that the properties of the scenarios are stored in their corresponding `ParameterScenario`s."
   ]
  },
  {
   "cell_type": "code",
   "execution_count": 11,
   "metadata": {
    "execution": {
     "iopub.execute_input": "2024-06-12T22:58:05.746050Z",
     "iopub.status.busy": "2024-06-12T22:58:05.745045Z",
     "iopub.status.idle": "2024-06-12T22:58:05.751872Z",
     "shell.execute_reply": "2024-06-12T22:58:05.751872Z"
    }
   },
   "outputs": [
    {
     "data": {
      "text/plain": [
       "[ParameterScenario(sequence={}, times=(), p={'ground': {'amp': 0.0, 'period': 10, 'linetype': 'sine'}}, r={}, sp={}, prob=0.011764705882352941, inputparams={0: 0.0, 1: 10}, rangeid='', name='rep0_range_0'),\n",
       " ParameterScenario(sequence={}, times=(), p={'ground': {'amp': 0.0, 'period': 20, 'linetype': 'sine'}}, r={}, sp={}, prob=0.011764705882352941, inputparams={0: 0.0, 1: 20}, rangeid='', name='rep0_range_1'),\n",
       " ParameterScenario(sequence={}, times=(), p={'ground': {'amp': 0.0, 'period': 30, 'linetype': 'sine'}}, r={}, sp={}, prob=0.011764705882352941, inputparams={0: 0.0, 1: 30}, rangeid='', name='rep0_range_2'),\n",
       " ParameterScenario(sequence={}, times=(), p={'ground': {'amp': 0.0, 'period': 40, 'linetype': 'sine'}}, r={}, sp={}, prob=0.011764705882352941, inputparams={0: 0.0, 1: 40}, rangeid='', name='rep0_range_3'),\n",
       " ParameterScenario(sequence={}, times=(), p={'ground': {'amp': 0.0, 'period': 50, 'linetype': 'sine'}}, r={}, sp={}, prob=0.011764705882352941, inputparams={0: 0.0, 1: 50}, rangeid='', name='rep0_range_4'),\n",
       " ParameterScenario(sequence={}, times=(), p={'ground': {'amp': 0.5, 'period': 10, 'linetype': 'sine'}}, r={}, sp={}, prob=0.011764705882352941, inputparams={0: 0.5, 1: 10}, rangeid='', name='rep0_range_5'),\n",
       " ParameterScenario(sequence={}, times=(), p={'ground': {'amp': 0.5, 'period': 20, 'linetype': 'sine'}}, r={}, sp={}, prob=0.011764705882352941, inputparams={0: 0.5, 1: 20}, rangeid='', name='rep0_range_6'),\n",
       " ParameterScenario(sequence={}, times=(), p={'ground': {'amp': 0.5, 'period': 30, 'linetype': 'sine'}}, r={}, sp={}, prob=0.011764705882352941, inputparams={0: 0.5, 1: 30}, rangeid='', name='rep0_range_7'),\n",
       " ParameterScenario(sequence={}, times=(), p={'ground': {'amp': 0.5, 'period': 40, 'linetype': 'sine'}}, r={}, sp={}, prob=0.011764705882352941, inputparams={0: 0.5, 1: 40}, rangeid='', name='rep0_range_8'),\n",
       " ParameterScenario(sequence={}, times=(), p={'ground': {'amp': 0.5, 'period': 50, 'linetype': 'sine'}}, r={}, sp={}, prob=0.011764705882352941, inputparams={0: 0.5, 1: 50}, rangeid='', name='rep0_range_9'),\n",
       " ParameterScenario(sequence={}, times=(), p={'ground': {'amp': 1.0, 'period': 10, 'linetype': 'sine'}}, r={}, sp={}, prob=0.011764705882352941, inputparams={0: 1.0, 1: 10}, rangeid='', name='rep0_range_10'),\n",
       " ParameterScenario(sequence={}, times=(), p={'ground': {'amp': 1.0, 'period': 20, 'linetype': 'sine'}}, r={}, sp={}, prob=0.011764705882352941, inputparams={0: 1.0, 1: 20}, rangeid='', name='rep0_range_11'),\n",
       " ParameterScenario(sequence={}, times=(), p={'ground': {'amp': 1.0, 'period': 30, 'linetype': 'sine'}}, r={}, sp={}, prob=0.011764705882352941, inputparams={0: 1.0, 1: 30}, rangeid='', name='rep0_range_12'),\n",
       " ParameterScenario(sequence={}, times=(), p={'ground': {'amp': 1.0, 'period': 40, 'linetype': 'sine'}}, r={}, sp={}, prob=0.011764705882352941, inputparams={0: 1.0, 1: 40}, rangeid='', name='rep0_range_13'),\n",
       " ParameterScenario(sequence={}, times=(), p={'ground': {'amp': 1.0, 'period': 50, 'linetype': 'sine'}}, r={}, sp={}, prob=0.011764705882352941, inputparams={0: 1.0, 1: 50}, rangeid='', name='rep0_range_14'),\n",
       " ParameterScenario(sequence={}, times=(), p={'ground': {'amp': 1.5, 'period': 10, 'linetype': 'sine'}}, r={}, sp={}, prob=0.011764705882352941, inputparams={0: 1.5, 1: 10}, rangeid='', name='rep0_range_15'),\n",
       " ParameterScenario(sequence={}, times=(), p={'ground': {'amp': 1.5, 'period': 20, 'linetype': 'sine'}}, r={}, sp={}, prob=0.011764705882352941, inputparams={0: 1.5, 1: 20}, rangeid='', name='rep0_range_16'),\n",
       " ParameterScenario(sequence={}, times=(), p={'ground': {'amp': 1.5, 'period': 30, 'linetype': 'sine'}}, r={}, sp={}, prob=0.011764705882352941, inputparams={0: 1.5, 1: 30}, rangeid='', name='rep0_range_17'),\n",
       " ParameterScenario(sequence={}, times=(), p={'ground': {'amp': 1.5, 'period': 40, 'linetype': 'sine'}}, r={}, sp={}, prob=0.011764705882352941, inputparams={0: 1.5, 1: 40}, rangeid='', name='rep0_range_18'),\n",
       " ParameterScenario(sequence={}, times=(), p={'ground': {'amp': 1.5, 'period': 50, 'linetype': 'sine'}}, r={}, sp={}, prob=0.011764705882352941, inputparams={0: 1.5, 1: 50}, rangeid='', name='rep0_range_19'),\n",
       " ParameterScenario(sequence={}, times=(), p={'ground': {'amp': 2.0, 'period': 10, 'linetype': 'sine'}}, r={}, sp={}, prob=0.011764705882352941, inputparams={0: 2.0, 1: 10}, rangeid='', name='rep0_range_20'),\n",
       " ParameterScenario(sequence={}, times=(), p={'ground': {'amp': 2.0, 'period': 20, 'linetype': 'sine'}}, r={}, sp={}, prob=0.011764705882352941, inputparams={0: 2.0, 1: 20}, rangeid='', name='rep0_range_21'),\n",
       " ParameterScenario(sequence={}, times=(), p={'ground': {'amp': 2.0, 'period': 30, 'linetype': 'sine'}}, r={}, sp={}, prob=0.011764705882352941, inputparams={0: 2.0, 1: 30}, rangeid='', name='rep0_range_22'),\n",
       " ParameterScenario(sequence={}, times=(), p={'ground': {'amp': 2.0, 'period': 40, 'linetype': 'sine'}}, r={}, sp={}, prob=0.011764705882352941, inputparams={0: 2.0, 1: 40}, rangeid='', name='rep0_range_23'),\n",
       " ParameterScenario(sequence={}, times=(), p={'ground': {'amp': 2.0, 'period': 50, 'linetype': 'sine'}}, r={}, sp={}, prob=0.011764705882352941, inputparams={0: 2.0, 1: 50}, rangeid='', name='rep0_range_24'),\n",
       " ParameterScenario(sequence={}, times=(), p={'ground': {'amp': 2.5, 'period': 10, 'linetype': 'sine'}}, r={}, sp={}, prob=0.011764705882352941, inputparams={0: 2.5, 1: 10}, rangeid='', name='rep0_range_25'),\n",
       " ParameterScenario(sequence={}, times=(), p={'ground': {'amp': 2.5, 'period': 20, 'linetype': 'sine'}}, r={}, sp={}, prob=0.011764705882352941, inputparams={0: 2.5, 1: 20}, rangeid='', name='rep0_range_26'),\n",
       " ParameterScenario(sequence={}, times=(), p={'ground': {'amp': 2.5, 'period': 30, 'linetype': 'sine'}}, r={}, sp={}, prob=0.011764705882352941, inputparams={0: 2.5, 1: 30}, rangeid='', name='rep0_range_27'),\n",
       " ParameterScenario(sequence={}, times=(), p={'ground': {'amp': 2.5, 'period': 40, 'linetype': 'sine'}}, r={}, sp={}, prob=0.011764705882352941, inputparams={0: 2.5, 1: 40}, rangeid='', name='rep0_range_28'),\n",
       " ParameterScenario(sequence={}, times=(), p={'ground': {'amp': 2.5, 'period': 50, 'linetype': 'sine'}}, r={}, sp={}, prob=0.011764705882352941, inputparams={0: 2.5, 1: 50}, rangeid='', name='rep0_range_29'),\n",
       " ParameterScenario(sequence={}, times=(), p={'ground': {'amp': 3.0, 'period': 10, 'linetype': 'sine'}}, r={}, sp={}, prob=0.011764705882352941, inputparams={0: 3.0, 1: 10}, rangeid='', name='rep0_range_30'),\n",
       " ParameterScenario(sequence={}, times=(), p={'ground': {'amp': 3.0, 'period': 20, 'linetype': 'sine'}}, r={}, sp={}, prob=0.011764705882352941, inputparams={0: 3.0, 1: 20}, rangeid='', name='rep0_range_31'),\n",
       " ParameterScenario(sequence={}, times=(), p={'ground': {'amp': 3.0, 'period': 30, 'linetype': 'sine'}}, r={}, sp={}, prob=0.011764705882352941, inputparams={0: 3.0, 1: 30}, rangeid='', name='rep0_range_32'),\n",
       " ParameterScenario(sequence={}, times=(), p={'ground': {'amp': 3.0, 'period': 40, 'linetype': 'sine'}}, r={}, sp={}, prob=0.011764705882352941, inputparams={0: 3.0, 1: 40}, rangeid='', name='rep0_range_33'),\n",
       " ParameterScenario(sequence={}, times=(), p={'ground': {'amp': 3.0, 'period': 50, 'linetype': 'sine'}}, r={}, sp={}, prob=0.011764705882352941, inputparams={0: 3.0, 1: 50}, rangeid='', name='rep0_range_34'),\n",
       " ParameterScenario(sequence={}, times=(), p={'ground': {'amp': 3.5, 'period': 10, 'linetype': 'sine'}}, r={}, sp={}, prob=0.011764705882352941, inputparams={0: 3.5, 1: 10}, rangeid='', name='rep0_range_35'),\n",
       " ParameterScenario(sequence={}, times=(), p={'ground': {'amp': 3.5, 'period': 20, 'linetype': 'sine'}}, r={}, sp={}, prob=0.011764705882352941, inputparams={0: 3.5, 1: 20}, rangeid='', name='rep0_range_36'),\n",
       " ParameterScenario(sequence={}, times=(), p={'ground': {'amp': 3.5, 'period': 30, 'linetype': 'sine'}}, r={}, sp={}, prob=0.011764705882352941, inputparams={0: 3.5, 1: 30}, rangeid='', name='rep0_range_37'),\n",
       " ParameterScenario(sequence={}, times=(), p={'ground': {'amp': 3.5, 'period': 40, 'linetype': 'sine'}}, r={}, sp={}, prob=0.011764705882352941, inputparams={0: 3.5, 1: 40}, rangeid='', name='rep0_range_38'),\n",
       " ParameterScenario(sequence={}, times=(), p={'ground': {'amp': 3.5, 'period': 50, 'linetype': 'sine'}}, r={}, sp={}, prob=0.011764705882352941, inputparams={0: 3.5, 1: 50}, rangeid='', name='rep0_range_39'),\n",
       " ParameterScenario(sequence={}, times=(), p={'ground': {'amp': 4.0, 'period': 10, 'linetype': 'sine'}}, r={}, sp={}, prob=0.011764705882352941, inputparams={0: 4.0, 1: 10}, rangeid='', name='rep0_range_40'),\n",
       " ParameterScenario(sequence={}, times=(), p={'ground': {'amp': 4.0, 'period': 20, 'linetype': 'sine'}}, r={}, sp={}, prob=0.011764705882352941, inputparams={0: 4.0, 1: 20}, rangeid='', name='rep0_range_41'),\n",
       " ParameterScenario(sequence={}, times=(), p={'ground': {'amp': 4.0, 'period': 30, 'linetype': 'sine'}}, r={}, sp={}, prob=0.011764705882352941, inputparams={0: 4.0, 1: 30}, rangeid='', name='rep0_range_42'),\n",
       " ParameterScenario(sequence={}, times=(), p={'ground': {'amp': 4.0, 'period': 40, 'linetype': 'sine'}}, r={}, sp={}, prob=0.011764705882352941, inputparams={0: 4.0, 1: 40}, rangeid='', name='rep0_range_43'),\n",
       " ParameterScenario(sequence={}, times=(), p={'ground': {'amp': 4.0, 'period': 50, 'linetype': 'sine'}}, r={}, sp={}, prob=0.011764705882352941, inputparams={0: 4.0, 1: 50}, rangeid='', name='rep0_range_44'),\n",
       " ParameterScenario(sequence={}, times=(), p={'ground': {'amp': 4.5, 'period': 10, 'linetype': 'sine'}}, r={}, sp={}, prob=0.011764705882352941, inputparams={0: 4.5, 1: 10}, rangeid='', name='rep0_range_45'),\n",
       " ParameterScenario(sequence={}, times=(), p={'ground': {'amp': 4.5, 'period': 20, 'linetype': 'sine'}}, r={}, sp={}, prob=0.011764705882352941, inputparams={0: 4.5, 1: 20}, rangeid='', name='rep0_range_46'),\n",
       " ParameterScenario(sequence={}, times=(), p={'ground': {'amp': 4.5, 'period': 30, 'linetype': 'sine'}}, r={}, sp={}, prob=0.011764705882352941, inputparams={0: 4.5, 1: 30}, rangeid='', name='rep0_range_47'),\n",
       " ParameterScenario(sequence={}, times=(), p={'ground': {'amp': 4.5, 'period': 40, 'linetype': 'sine'}}, r={}, sp={}, prob=0.011764705882352941, inputparams={0: 4.5, 1: 40}, rangeid='', name='rep0_range_48'),\n",
       " ParameterScenario(sequence={}, times=(), p={'ground': {'amp': 4.5, 'period': 50, 'linetype': 'sine'}}, r={}, sp={}, prob=0.011764705882352941, inputparams={0: 4.5, 1: 50}, rangeid='', name='rep0_range_49'),\n",
       " ParameterScenario(sequence={}, times=(), p={'ground': {'amp': 5.0, 'period': 10, 'linetype': 'sine'}}, r={}, sp={}, prob=0.011764705882352941, inputparams={0: 5.0, 1: 10}, rangeid='', name='rep0_range_50'),\n",
       " ParameterScenario(sequence={}, times=(), p={'ground': {'amp': 5.0, 'period': 20, 'linetype': 'sine'}}, r={}, sp={}, prob=0.011764705882352941, inputparams={0: 5.0, 1: 20}, rangeid='', name='rep0_range_51'),\n",
       " ParameterScenario(sequence={}, times=(), p={'ground': {'amp': 5.0, 'period': 30, 'linetype': 'sine'}}, r={}, sp={}, prob=0.011764705882352941, inputparams={0: 5.0, 1: 30}, rangeid='', name='rep0_range_52'),\n",
       " ParameterScenario(sequence={}, times=(), p={'ground': {'amp': 5.0, 'period': 40, 'linetype': 'sine'}}, r={}, sp={}, prob=0.011764705882352941, inputparams={0: 5.0, 1: 40}, rangeid='', name='rep0_range_53'),\n",
       " ParameterScenario(sequence={}, times=(), p={'ground': {'amp': 5.0, 'period': 50, 'linetype': 'sine'}}, r={}, sp={}, prob=0.011764705882352941, inputparams={0: 5.0, 1: 50}, rangeid='', name='rep0_range_54'),\n",
       " ParameterScenario(sequence={}, times=(), p={'ground': {'amp': 5.5, 'period': 10, 'linetype': 'sine'}}, r={}, sp={}, prob=0.011764705882352941, inputparams={0: 5.5, 1: 10}, rangeid='', name='rep0_range_55'),\n",
       " ParameterScenario(sequence={}, times=(), p={'ground': {'amp': 5.5, 'period': 20, 'linetype': 'sine'}}, r={}, sp={}, prob=0.011764705882352941, inputparams={0: 5.5, 1: 20}, rangeid='', name='rep0_range_56'),\n",
       " ParameterScenario(sequence={}, times=(), p={'ground': {'amp': 5.5, 'period': 30, 'linetype': 'sine'}}, r={}, sp={}, prob=0.011764705882352941, inputparams={0: 5.5, 1: 30}, rangeid='', name='rep0_range_57'),\n",
       " ParameterScenario(sequence={}, times=(), p={'ground': {'amp': 5.5, 'period': 40, 'linetype': 'sine'}}, r={}, sp={}, prob=0.011764705882352941, inputparams={0: 5.5, 1: 40}, rangeid='', name='rep0_range_58'),\n",
       " ParameterScenario(sequence={}, times=(), p={'ground': {'amp': 5.5, 'period': 50, 'linetype': 'sine'}}, r={}, sp={}, prob=0.011764705882352941, inputparams={0: 5.5, 1: 50}, rangeid='', name='rep0_range_59'),\n",
       " ParameterScenario(sequence={}, times=(), p={'ground': {'amp': 6.0, 'period': 10, 'linetype': 'sine'}}, r={}, sp={}, prob=0.011764705882352941, inputparams={0: 6.0, 1: 10}, rangeid='', name='rep0_range_60'),\n",
       " ParameterScenario(sequence={}, times=(), p={'ground': {'amp': 6.0, 'period': 20, 'linetype': 'sine'}}, r={}, sp={}, prob=0.011764705882352941, inputparams={0: 6.0, 1: 20}, rangeid='', name='rep0_range_61'),\n",
       " ParameterScenario(sequence={}, times=(), p={'ground': {'amp': 6.0, 'period': 30, 'linetype': 'sine'}}, r={}, sp={}, prob=0.011764705882352941, inputparams={0: 6.0, 1: 30}, rangeid='', name='rep0_range_62'),\n",
       " ParameterScenario(sequence={}, times=(), p={'ground': {'amp': 6.0, 'period': 40, 'linetype': 'sine'}}, r={}, sp={}, prob=0.011764705882352941, inputparams={0: 6.0, 1: 40}, rangeid='', name='rep0_range_63'),\n",
       " ParameterScenario(sequence={}, times=(), p={'ground': {'amp': 6.0, 'period': 50, 'linetype': 'sine'}}, r={}, sp={}, prob=0.011764705882352941, inputparams={0: 6.0, 1: 50}, rangeid='', name='rep0_range_64'),\n",
       " ParameterScenario(sequence={}, times=(), p={'ground': {'amp': 6.5, 'period': 10, 'linetype': 'sine'}}, r={}, sp={}, prob=0.011764705882352941, inputparams={0: 6.5, 1: 10}, rangeid='', name='rep0_range_65'),\n",
       " ParameterScenario(sequence={}, times=(), p={'ground': {'amp': 6.5, 'period': 20, 'linetype': 'sine'}}, r={}, sp={}, prob=0.011764705882352941, inputparams={0: 6.5, 1: 20}, rangeid='', name='rep0_range_66'),\n",
       " ParameterScenario(sequence={}, times=(), p={'ground': {'amp': 6.5, 'period': 30, 'linetype': 'sine'}}, r={}, sp={}, prob=0.011764705882352941, inputparams={0: 6.5, 1: 30}, rangeid='', name='rep0_range_67'),\n",
       " ParameterScenario(sequence={}, times=(), p={'ground': {'amp': 6.5, 'period': 40, 'linetype': 'sine'}}, r={}, sp={}, prob=0.011764705882352941, inputparams={0: 6.5, 1: 40}, rangeid='', name='rep0_range_68'),\n",
       " ParameterScenario(sequence={}, times=(), p={'ground': {'amp': 6.5, 'period': 50, 'linetype': 'sine'}}, r={}, sp={}, prob=0.011764705882352941, inputparams={0: 6.5, 1: 50}, rangeid='', name='rep0_range_69'),\n",
       " ParameterScenario(sequence={}, times=(), p={'ground': {'amp': 7.0, 'period': 10, 'linetype': 'sine'}}, r={}, sp={}, prob=0.011764705882352941, inputparams={0: 7.0, 1: 10}, rangeid='', name='rep0_range_70'),\n",
       " ParameterScenario(sequence={}, times=(), p={'ground': {'amp': 7.0, 'period': 20, 'linetype': 'sine'}}, r={}, sp={}, prob=0.011764705882352941, inputparams={0: 7.0, 1: 20}, rangeid='', name='rep0_range_71'),\n",
       " ParameterScenario(sequence={}, times=(), p={'ground': {'amp': 7.0, 'period': 30, 'linetype': 'sine'}}, r={}, sp={}, prob=0.011764705882352941, inputparams={0: 7.0, 1: 30}, rangeid='', name='rep0_range_72'),\n",
       " ParameterScenario(sequence={}, times=(), p={'ground': {'amp': 7.0, 'period': 40, 'linetype': 'sine'}}, r={}, sp={}, prob=0.011764705882352941, inputparams={0: 7.0, 1: 40}, rangeid='', name='rep0_range_73'),\n",
       " ParameterScenario(sequence={}, times=(), p={'ground': {'amp': 7.0, 'period': 50, 'linetype': 'sine'}}, r={}, sp={}, prob=0.011764705882352941, inputparams={0: 7.0, 1: 50}, rangeid='', name='rep0_range_74'),\n",
       " ParameterScenario(sequence={}, times=(), p={'ground': {'amp': 7.5, 'period': 10, 'linetype': 'sine'}}, r={}, sp={}, prob=0.011764705882352941, inputparams={0: 7.5, 1: 10}, rangeid='', name='rep0_range_75'),\n",
       " ParameterScenario(sequence={}, times=(), p={'ground': {'amp': 7.5, 'period': 20, 'linetype': 'sine'}}, r={}, sp={}, prob=0.011764705882352941, inputparams={0: 7.5, 1: 20}, rangeid='', name='rep0_range_76'),\n",
       " ParameterScenario(sequence={}, times=(), p={'ground': {'amp': 7.5, 'period': 30, 'linetype': 'sine'}}, r={}, sp={}, prob=0.011764705882352941, inputparams={0: 7.5, 1: 30}, rangeid='', name='rep0_range_77'),\n",
       " ParameterScenario(sequence={}, times=(), p={'ground': {'amp': 7.5, 'period': 40, 'linetype': 'sine'}}, r={}, sp={}, prob=0.011764705882352941, inputparams={0: 7.5, 1: 40}, rangeid='', name='rep0_range_78'),\n",
       " ParameterScenario(sequence={}, times=(), p={'ground': {'amp': 7.5, 'period': 50, 'linetype': 'sine'}}, r={}, sp={}, prob=0.011764705882352941, inputparams={0: 7.5, 1: 50}, rangeid='', name='rep0_range_79'),\n",
       " ParameterScenario(sequence={}, times=(), p={'ground': {'amp': 8.0, 'period': 10, 'linetype': 'sine'}}, r={}, sp={}, prob=0.011764705882352941, inputparams={0: 8.0, 1: 10}, rangeid='', name='rep0_range_80'),\n",
       " ParameterScenario(sequence={}, times=(), p={'ground': {'amp': 8.0, 'period': 20, 'linetype': 'sine'}}, r={}, sp={}, prob=0.011764705882352941, inputparams={0: 8.0, 1: 20}, rangeid='', name='rep0_range_81'),\n",
       " ParameterScenario(sequence={}, times=(), p={'ground': {'amp': 8.0, 'period': 30, 'linetype': 'sine'}}, r={}, sp={}, prob=0.011764705882352941, inputparams={0: 8.0, 1: 30}, rangeid='', name='rep0_range_82'),\n",
       " ParameterScenario(sequence={}, times=(), p={'ground': {'amp': 8.0, 'period': 40, 'linetype': 'sine'}}, r={}, sp={}, prob=0.011764705882352941, inputparams={0: 8.0, 1: 40}, rangeid='', name='rep0_range_83'),\n",
       " ParameterScenario(sequence={}, times=(), p={'ground': {'amp': 8.0, 'period': 50, 'linetype': 'sine'}}, r={}, sp={}, prob=0.011764705882352941, inputparams={0: 8.0, 1: 50}, rangeid='', name='rep0_range_84')]"
      ]
     },
     "execution_count": 11,
     "metadata": {},
     "output_type": "execute_result"
    }
   ],
   "source": [
    "ps_sine.scenarios()"
   ]
  },
  {
   "cell_type": "markdown",
   "metadata": {},
   "source": [
    "ParameterSamples are sampled using `prop.parameter_sample`:"
   ]
  },
  {
   "cell_type": "code",
   "execution_count": 12,
   "metadata": {
    "execution": {
     "iopub.execute_input": "2024-06-12T22:58:05.753891Z",
     "iopub.status.busy": "2024-06-12T22:58:05.753891Z",
     "iopub.status.idle": "2024-06-12T22:58:23.601639Z",
     "shell.execute_reply": "2024-06-12T22:58:23.601639Z"
    }
   },
   "outputs": [
    {
     "name": "stderr",
     "output_type": "stream",
     "text": [
      "\r",
      "SCENARIOS COMPLETE:   0%|          | 0/85 [00:00<?, ?it/s]"
     ]
    },
    {
     "name": "stderr",
     "output_type": "stream",
     "text": [
      "\r",
      "SCENARIOS COMPLETE:   1%|          | 1/85 [00:00<00:16,  5.00it/s]"
     ]
    },
    {
     "name": "stderr",
     "output_type": "stream",
     "text": [
      "\r",
      "SCENARIOS COMPLETE:   2%|▏         | 2/85 [00:00<00:16,  4.94it/s]"
     ]
    },
    {
     "name": "stderr",
     "output_type": "stream",
     "text": [
      "\r",
      "SCENARIOS COMPLETE:   4%|▎         | 3/85 [00:00<00:16,  4.98it/s]"
     ]
    },
    {
     "name": "stderr",
     "output_type": "stream",
     "text": [
      "\r",
      "SCENARIOS COMPLETE:   5%|▍         | 4/85 [00:00<00:16,  4.99it/s]"
     ]
    },
    {
     "name": "stderr",
     "output_type": "stream",
     "text": [
      "\r",
      "SCENARIOS COMPLETE:   6%|▌         | 5/85 [00:01<00:16,  4.96it/s]"
     ]
    },
    {
     "name": "stderr",
     "output_type": "stream",
     "text": [
      "\r",
      "SCENARIOS COMPLETE:   7%|▋         | 6/85 [00:01<00:16,  4.84it/s]"
     ]
    },
    {
     "name": "stderr",
     "output_type": "stream",
     "text": [
      "\r",
      "SCENARIOS COMPLETE:   8%|▊         | 7/85 [00:01<00:16,  4.82it/s]"
     ]
    },
    {
     "name": "stderr",
     "output_type": "stream",
     "text": [
      "\r",
      "SCENARIOS COMPLETE:   9%|▉         | 8/85 [00:01<00:15,  4.83it/s]"
     ]
    },
    {
     "name": "stderr",
     "output_type": "stream",
     "text": [
      "\r",
      "SCENARIOS COMPLETE:  11%|█         | 9/85 [00:01<00:15,  4.83it/s]"
     ]
    },
    {
     "name": "stderr",
     "output_type": "stream",
     "text": [
      "\r",
      "SCENARIOS COMPLETE:  12%|█▏        | 10/85 [00:02<00:15,  4.86it/s]"
     ]
    },
    {
     "name": "stderr",
     "output_type": "stream",
     "text": [
      "\r",
      "SCENARIOS COMPLETE:  13%|█▎        | 11/85 [00:02<00:15,  4.85it/s]"
     ]
    },
    {
     "name": "stderr",
     "output_type": "stream",
     "text": [
      "\r",
      "SCENARIOS COMPLETE:  14%|█▍        | 12/85 [00:02<00:15,  4.81it/s]"
     ]
    },
    {
     "name": "stderr",
     "output_type": "stream",
     "text": [
      "\r",
      "SCENARIOS COMPLETE:  15%|█▌        | 13/85 [00:02<00:14,  4.83it/s]"
     ]
    },
    {
     "name": "stderr",
     "output_type": "stream",
     "text": [
      "\r",
      "SCENARIOS COMPLETE:  16%|█▋        | 14/85 [00:02<00:14,  4.83it/s]"
     ]
    },
    {
     "name": "stderr",
     "output_type": "stream",
     "text": [
      "\r",
      "SCENARIOS COMPLETE:  18%|█▊        | 15/85 [00:03<00:14,  4.83it/s]"
     ]
    },
    {
     "name": "stderr",
     "output_type": "stream",
     "text": [
      "\r",
      "SCENARIOS COMPLETE:  19%|█▉        | 16/85 [00:03<00:14,  4.84it/s]"
     ]
    },
    {
     "name": "stderr",
     "output_type": "stream",
     "text": [
      "\r",
      "SCENARIOS COMPLETE:  20%|██        | 17/85 [00:03<00:14,  4.83it/s]"
     ]
    },
    {
     "name": "stderr",
     "output_type": "stream",
     "text": [
      "\r",
      "SCENARIOS COMPLETE:  21%|██        | 18/85 [00:03<00:13,  4.79it/s]"
     ]
    },
    {
     "name": "stderr",
     "output_type": "stream",
     "text": [
      "\r",
      "SCENARIOS COMPLETE:  22%|██▏       | 19/85 [00:03<00:13,  4.80it/s]"
     ]
    },
    {
     "name": "stderr",
     "output_type": "stream",
     "text": [
      "\r",
      "SCENARIOS COMPLETE:  24%|██▎       | 20/85 [00:04<00:13,  4.79it/s]"
     ]
    },
    {
     "name": "stderr",
     "output_type": "stream",
     "text": [
      "\r",
      "SCENARIOS COMPLETE:  25%|██▍       | 21/85 [00:04<00:13,  4.76it/s]"
     ]
    },
    {
     "name": "stderr",
     "output_type": "stream",
     "text": [
      "\r",
      "SCENARIOS COMPLETE:  26%|██▌       | 22/85 [00:04<00:13,  4.79it/s]"
     ]
    },
    {
     "name": "stderr",
     "output_type": "stream",
     "text": [
      "\r",
      "SCENARIOS COMPLETE:  27%|██▋       | 23/85 [00:04<00:12,  4.81it/s]"
     ]
    },
    {
     "name": "stderr",
     "output_type": "stream",
     "text": [
      "\r",
      "SCENARIOS COMPLETE:  28%|██▊       | 24/85 [00:04<00:12,  4.70it/s]"
     ]
    },
    {
     "name": "stderr",
     "output_type": "stream",
     "text": [
      "\r",
      "SCENARIOS COMPLETE:  29%|██▉       | 25/85 [00:05<00:12,  4.73it/s]"
     ]
    },
    {
     "name": "stderr",
     "output_type": "stream",
     "text": [
      "\r",
      "SCENARIOS COMPLETE:  31%|███       | 26/85 [00:05<00:12,  4.72it/s]"
     ]
    },
    {
     "name": "stderr",
     "output_type": "stream",
     "text": [
      "\r",
      "SCENARIOS COMPLETE:  32%|███▏      | 27/85 [00:05<00:12,  4.66it/s]"
     ]
    },
    {
     "name": "stderr",
     "output_type": "stream",
     "text": [
      "\r",
      "SCENARIOS COMPLETE:  33%|███▎      | 28/85 [00:05<00:12,  4.75it/s]"
     ]
    },
    {
     "name": "stderr",
     "output_type": "stream",
     "text": [
      "\r",
      "SCENARIOS COMPLETE:  34%|███▍      | 29/85 [00:06<00:11,  4.78it/s]"
     ]
    },
    {
     "name": "stderr",
     "output_type": "stream",
     "text": [
      "\r",
      "SCENARIOS COMPLETE:  35%|███▌      | 30/85 [00:06<00:11,  4.77it/s]"
     ]
    },
    {
     "name": "stderr",
     "output_type": "stream",
     "text": [
      "\r",
      "SCENARIOS COMPLETE:  36%|███▋      | 31/85 [00:06<00:11,  4.76it/s]"
     ]
    },
    {
     "name": "stderr",
     "output_type": "stream",
     "text": [
      "\r",
      "SCENARIOS COMPLETE:  38%|███▊      | 32/85 [00:06<00:11,  4.76it/s]"
     ]
    },
    {
     "name": "stderr",
     "output_type": "stream",
     "text": [
      "\r",
      "SCENARIOS COMPLETE:  39%|███▉      | 33/85 [00:06<00:10,  4.81it/s]"
     ]
    },
    {
     "name": "stderr",
     "output_type": "stream",
     "text": [
      "\r",
      "SCENARIOS COMPLETE:  40%|████      | 34/85 [00:07<00:10,  4.82it/s]"
     ]
    },
    {
     "name": "stderr",
     "output_type": "stream",
     "text": [
      "\r",
      "SCENARIOS COMPLETE:  41%|████      | 35/85 [00:07<00:10,  4.81it/s]"
     ]
    },
    {
     "name": "stderr",
     "output_type": "stream",
     "text": [
      "\r",
      "SCENARIOS COMPLETE:  42%|████▏     | 36/85 [00:07<00:10,  4.75it/s]"
     ]
    },
    {
     "name": "stderr",
     "output_type": "stream",
     "text": [
      "\r",
      "SCENARIOS COMPLETE:  44%|████▎     | 37/85 [00:07<00:10,  4.75it/s]"
     ]
    },
    {
     "name": "stderr",
     "output_type": "stream",
     "text": [
      "\r",
      "SCENARIOS COMPLETE:  45%|████▍     | 38/85 [00:07<00:09,  4.76it/s]"
     ]
    },
    {
     "name": "stderr",
     "output_type": "stream",
     "text": [
      "\r",
      "SCENARIOS COMPLETE:  46%|████▌     | 39/85 [00:08<00:09,  4.77it/s]"
     ]
    },
    {
     "name": "stderr",
     "output_type": "stream",
     "text": [
      "\r",
      "SCENARIOS COMPLETE:  47%|████▋     | 40/85 [00:08<00:09,  4.83it/s]"
     ]
    },
    {
     "name": "stderr",
     "output_type": "stream",
     "text": [
      "\r",
      "SCENARIOS COMPLETE:  48%|████▊     | 41/85 [00:08<00:09,  4.81it/s]"
     ]
    },
    {
     "name": "stderr",
     "output_type": "stream",
     "text": [
      "\r",
      "SCENARIOS COMPLETE:  49%|████▉     | 42/85 [00:08<00:08,  4.78it/s]"
     ]
    },
    {
     "name": "stderr",
     "output_type": "stream",
     "text": [
      "\r",
      "SCENARIOS COMPLETE:  51%|█████     | 43/85 [00:08<00:08,  4.76it/s]"
     ]
    },
    {
     "name": "stderr",
     "output_type": "stream",
     "text": [
      "\r",
      "SCENARIOS COMPLETE:  52%|█████▏    | 44/85 [00:09<00:08,  4.75it/s]"
     ]
    },
    {
     "name": "stderr",
     "output_type": "stream",
     "text": [
      "\r",
      "SCENARIOS COMPLETE:  53%|█████▎    | 45/85 [00:09<00:08,  4.75it/s]"
     ]
    },
    {
     "name": "stderr",
     "output_type": "stream",
     "text": [
      "\r",
      "SCENARIOS COMPLETE:  54%|█████▍    | 46/85 [00:09<00:08,  4.74it/s]"
     ]
    },
    {
     "name": "stderr",
     "output_type": "stream",
     "text": [
      "\r",
      "SCENARIOS COMPLETE:  55%|█████▌    | 47/85 [00:09<00:08,  4.72it/s]"
     ]
    },
    {
     "name": "stderr",
     "output_type": "stream",
     "text": [
      "\r",
      "SCENARIOS COMPLETE:  56%|█████▋    | 48/85 [00:10<00:07,  4.66it/s]"
     ]
    },
    {
     "name": "stderr",
     "output_type": "stream",
     "text": [
      "\r",
      "SCENARIOS COMPLETE:  58%|█████▊    | 49/85 [00:10<00:07,  4.59it/s]"
     ]
    },
    {
     "name": "stderr",
     "output_type": "stream",
     "text": [
      "\r",
      "SCENARIOS COMPLETE:  59%|█████▉    | 50/85 [00:10<00:07,  4.57it/s]"
     ]
    },
    {
     "name": "stderr",
     "output_type": "stream",
     "text": [
      "\r",
      "SCENARIOS COMPLETE:  60%|██████    | 51/85 [00:10<00:07,  4.54it/s]"
     ]
    },
    {
     "name": "stderr",
     "output_type": "stream",
     "text": [
      "\r",
      "SCENARIOS COMPLETE:  61%|██████    | 52/85 [00:10<00:07,  4.58it/s]"
     ]
    },
    {
     "name": "stderr",
     "output_type": "stream",
     "text": [
      "\r",
      "SCENARIOS COMPLETE:  62%|██████▏   | 53/85 [00:11<00:06,  4.62it/s]"
     ]
    },
    {
     "name": "stderr",
     "output_type": "stream",
     "text": [
      "\r",
      "SCENARIOS COMPLETE:  64%|██████▎   | 54/85 [00:11<00:06,  4.61it/s]"
     ]
    },
    {
     "name": "stderr",
     "output_type": "stream",
     "text": [
      "\r",
      "SCENARIOS COMPLETE:  65%|██████▍   | 55/85 [00:11<00:06,  4.63it/s]"
     ]
    },
    {
     "name": "stderr",
     "output_type": "stream",
     "text": [
      "\r",
      "SCENARIOS COMPLETE:  66%|██████▌   | 56/85 [00:11<00:06,  4.63it/s]"
     ]
    },
    {
     "name": "stderr",
     "output_type": "stream",
     "text": [
      "\r",
      "SCENARIOS COMPLETE:  67%|██████▋   | 57/85 [00:11<00:06,  4.62it/s]"
     ]
    },
    {
     "name": "stderr",
     "output_type": "stream",
     "text": [
      "\r",
      "SCENARIOS COMPLETE:  68%|██████▊   | 58/85 [00:12<00:05,  4.67it/s]"
     ]
    },
    {
     "name": "stderr",
     "output_type": "stream",
     "text": [
      "\r",
      "SCENARIOS COMPLETE:  69%|██████▉   | 59/85 [00:12<00:05,  4.69it/s]"
     ]
    },
    {
     "name": "stderr",
     "output_type": "stream",
     "text": [
      "\r",
      "SCENARIOS COMPLETE:  71%|███████   | 60/85 [00:12<00:05,  4.72it/s]"
     ]
    },
    {
     "name": "stderr",
     "output_type": "stream",
     "text": [
      "\r",
      "SCENARIOS COMPLETE:  72%|███████▏  | 61/85 [00:12<00:04,  5.00it/s]"
     ]
    },
    {
     "name": "stderr",
     "output_type": "stream",
     "text": [
      "\r",
      "SCENARIOS COMPLETE:  73%|███████▎  | 62/85 [00:13<00:04,  4.90it/s]"
     ]
    },
    {
     "name": "stderr",
     "output_type": "stream",
     "text": [
      "\r",
      "SCENARIOS COMPLETE:  74%|███████▍  | 63/85 [00:13<00:04,  4.80it/s]"
     ]
    },
    {
     "name": "stderr",
     "output_type": "stream",
     "text": [
      "\r",
      "SCENARIOS COMPLETE:  75%|███████▌  | 64/85 [00:13<00:04,  4.77it/s]"
     ]
    },
    {
     "name": "stderr",
     "output_type": "stream",
     "text": [
      "\r",
      "SCENARIOS COMPLETE:  76%|███████▋  | 65/85 [00:13<00:04,  4.79it/s]"
     ]
    },
    {
     "name": "stderr",
     "output_type": "stream",
     "text": [
      "\r",
      "SCENARIOS COMPLETE:  78%|███████▊  | 66/85 [00:13<00:03,  5.03it/s]"
     ]
    },
    {
     "name": "stderr",
     "output_type": "stream",
     "text": [
      "\r",
      "SCENARIOS COMPLETE:  79%|███████▉  | 67/85 [00:14<00:03,  4.92it/s]"
     ]
    },
    {
     "name": "stderr",
     "output_type": "stream",
     "text": [
      "\r",
      "SCENARIOS COMPLETE:  80%|████████  | 68/85 [00:14<00:03,  4.83it/s]"
     ]
    },
    {
     "name": "stderr",
     "output_type": "stream",
     "text": [
      "\r",
      "SCENARIOS COMPLETE:  81%|████████  | 69/85 [00:14<00:03,  4.78it/s]"
     ]
    },
    {
     "name": "stderr",
     "output_type": "stream",
     "text": [
      "\r",
      "SCENARIOS COMPLETE:  82%|████████▏ | 70/85 [00:14<00:03,  4.76it/s]"
     ]
    },
    {
     "name": "stderr",
     "output_type": "stream",
     "text": [
      "\r",
      "SCENARIOS COMPLETE:  84%|████████▎ | 71/85 [00:14<00:02,  5.01it/s]"
     ]
    },
    {
     "name": "stderr",
     "output_type": "stream",
     "text": [
      "\r",
      "SCENARIOS COMPLETE:  85%|████████▍ | 72/85 [00:15<00:02,  4.90it/s]"
     ]
    },
    {
     "name": "stderr",
     "output_type": "stream",
     "text": [
      "\r",
      "SCENARIOS COMPLETE:  86%|████████▌ | 73/85 [00:15<00:02,  4.79it/s]"
     ]
    },
    {
     "name": "stderr",
     "output_type": "stream",
     "text": [
      "\r",
      "SCENARIOS COMPLETE:  87%|████████▋ | 74/85 [00:15<00:02,  4.75it/s]"
     ]
    },
    {
     "name": "stderr",
     "output_type": "stream",
     "text": [
      "\r",
      "SCENARIOS COMPLETE:  88%|████████▊ | 75/85 [00:15<00:02,  4.72it/s]"
     ]
    },
    {
     "name": "stderr",
     "output_type": "stream",
     "text": [
      "\r",
      "SCENARIOS COMPLETE:  89%|████████▉ | 76/85 [00:15<00:01,  4.92it/s]"
     ]
    },
    {
     "name": "stderr",
     "output_type": "stream",
     "text": [
      "\r",
      "SCENARIOS COMPLETE:  91%|█████████ | 77/85 [00:16<00:01,  4.84it/s]"
     ]
    },
    {
     "name": "stderr",
     "output_type": "stream",
     "text": [
      "\r",
      "SCENARIOS COMPLETE:  92%|█████████▏| 78/85 [00:16<00:01,  4.78it/s]"
     ]
    },
    {
     "name": "stderr",
     "output_type": "stream",
     "text": [
      "\r",
      "SCENARIOS COMPLETE:  93%|█████████▎| 79/85 [00:16<00:01,  4.72it/s]"
     ]
    },
    {
     "name": "stderr",
     "output_type": "stream",
     "text": [
      "\r",
      "SCENARIOS COMPLETE:  94%|█████████▍| 80/85 [00:16<00:01,  4.74it/s]"
     ]
    },
    {
     "name": "stderr",
     "output_type": "stream",
     "text": [
      "\r",
      "SCENARIOS COMPLETE:  95%|█████████▌| 81/85 [00:16<00:00,  4.96it/s]"
     ]
    },
    {
     "name": "stderr",
     "output_type": "stream",
     "text": [
      "\r",
      "SCENARIOS COMPLETE:  96%|█████████▋| 82/85 [00:17<00:00,  4.87it/s]"
     ]
    },
    {
     "name": "stderr",
     "output_type": "stream",
     "text": [
      "\r",
      "SCENARIOS COMPLETE:  98%|█████████▊| 83/85 [00:17<00:00,  4.77it/s]"
     ]
    },
    {
     "name": "stderr",
     "output_type": "stream",
     "text": [
      "\r",
      "SCENARIOS COMPLETE:  99%|█████████▉| 84/85 [00:17<00:00,  4.76it/s]"
     ]
    },
    {
     "name": "stderr",
     "output_type": "stream",
     "text": [
      "\r",
      "SCENARIOS COMPLETE: 100%|██████████| 85/85 [00:17<00:00,  4.76it/s]"
     ]
    },
    {
     "name": "stderr",
     "output_type": "stream",
     "text": [
      "\r",
      "SCENARIOS COMPLETE: 100%|██████████| 85/85 [00:17<00:00,  4.78it/s]"
     ]
    },
    {
     "name": "stderr",
     "output_type": "stream",
     "text": [
      "\n"
     ]
    },
    {
     "data": {
      "text/plain": [
       "rep0_range_0.endclass.rate:          1.0\n",
       "rep0_range_0.endclass.cost:            0\n",
       "rep0_range_0.endclass.prob: 0.011764705882352941\n",
       "rep0_range_0.endclass.expected_cost:   0\n",
       "rep0_range_0.endclass.in_bound:     True\n",
       "rep0_range_0.endclass.at_finish:    True\n",
       "rep0_range_0.endclass.line_dist:       1\n",
       "rep0_range_0.endclass.num_modes:       0\n",
       "rep0_range_0.endclass.end_dist:      0.0\n",
       "rep0_range_0.endclass.tot_deviation: 0.0\n",
       "rep0_range_0.endclass.faults:         {}\n",
       "rep0_range_0.endclass.classification: nominal mission\n",
       "rep0_range_0.endclass.end_x: 28.999999999999964\n",
       "rep0_range_0.endclass.end_y:         0.0\n",
       "rep0_range_0.endclass.endpt:    array(2)\n",
       "rep0_range_1.endclass.rate:          1.0\n",
       "rep0_range_1.endclass.cost:            0\n",
       "rep0_range_1.endclass.prob: 0.011764705882352941\n",
       "rep0_range_1.endclass.expected_cost:   0\n",
       "rep0_range_1.endclass.in_bound:     True\n",
       "rep0_range_1.endclass.at_finish:    True\n",
       "rep0_range_1.endclass.line_dist:       1\n",
       "rep0_range_1.endclass.num_modes:       0\n",
       "rep0_range_1.endclass.end_dist:      0.0\n",
       "rep0_range_1.endclass.tot_deviation: 0.0\n",
       "rep0_range_1.endclass.faults:         {}\n",
       "rep0_range_1.endclass.classification: nominal mission\n",
       "rep0_range_1.endclass.end_x: 28.999999999999964\n",
       "rep0_range_1.endclass.end_y:         0.0\n",
       "rep0_range_1.endclass.endpt:    array(2)\n",
       "rep0_range_2.endclass.rate:          1.0\n",
       "rep0_range_2.endclass.cost:            0\n",
       "rep0_range_2.endclass.prob: 0.011764705882352941\n",
       "rep0_range_2.endclass.expected_cost:   0\n",
       "rep0_range_2.endclass.in_bound:     True\n",
       "rep0_range_2.endclass.at_finish:    True\n",
       "rep0_range_2.endclass.line_dist:       1\n",
       "rep0_range_2.endclass.num_modes:       0\n",
       "rep0_range_2.endclass.end_dist:      0.0\n",
       "rep0_range_2.endclass.tot_deviation: 0.0\n",
       "rep0_range_2.endclass.faults:         {}\n",
       "rep0_range_2.endclass.classification: nominal mission\n",
       "rep0_range_2.endclass.end_x: 28.999999999999964\n",
       "rep0_range_2.endclass.end_y:         0.0\n",
       "rep0_range_2.endclass.endpt:    array(2)\n",
       "rep0_range_3.endclass.rate:          1.0\n",
       "rep0_range_3.endclass.cost:            0\n",
       "rep0_range_3.endclass.prob: 0.011764705882352941\n",
       "rep0_range_3.endclass.expected_cost:   0\n",
       "rep0_range_3.endclass.in_bound:     True\n",
       "rep0_range_3.endclass.at_finish:    True\n",
       "rep0_range_3.endclass.line_dist:       1\n",
       "rep0_range_3.endclass.num_modes:       0\n",
       "rep0_range_3.endclass.end_dist:      0.0\n",
       "rep0_range_3.endclass.tot_deviation: 0.0\n",
       "rep0_range_3.endclass.faults:         {}\n",
       "rep0_range_3.endclass.classification: nominal mission\n",
       "rep0_range_3.endclass.end_x: 28.999999999999964\n",
       "rep0_range_3.endclass.end_y:         0.0\n",
       "rep0_range_3.endclass.endpt:    array(2)\n",
       "rep0_range_4.endclass.rate:          1.0\n",
       "rep0_range_4.endclass.cost:            0\n",
       "rep0_range_4.endclass.prob: 0.011764705882352941\n",
       "rep0_range_4.endclass.expected_cost:   0\n",
       "rep0_range_4.endclass.in_bound:     True\n",
       "rep0_range_4.endclass.at_finish:    True\n",
       "rep0_range_4.endclass.line_dist:       1\n",
       "rep0_range_4.endclass.num_modes:       0\n",
       "rep0_range_4.endclass.end_dist:      0.0\n",
       "rep0_range_4.endclass.tot_deviation: 0.0\n",
       "rep0_range_4.endclass.faults:         {}\n",
       "rep0_range_4.endclass.classification: nominal mission\n",
       "rep0_range_4.endclass.end_x: 28.999999999999964\n",
       "rep0_range_4.endclass.end_y:         0.0\n",
       "rep0_range_4.endclass.endpt:    array(2)\n",
       "rep0_range_5.endclass.rate:          1.0\n",
       "rep0_range_5.endclass.cost:            0\n",
       "rep0_range_5.endclass.prob: 0.011764705882352941\n",
       "rep0_range_5.endclass.expected_cost:   0\n",
       "rep0_range_5.endclass.in_bound:     True\n",
       "rep0_range_5.endclass.at_finish:    True\n",
       "rep0_range_5.endclass.line_dist:       1\n",
       "rep0_range_5.endclass.num_modes:       0\n",
       "rep0_range_5.endclass.end_dist:      0.0\n",
       "rep0_range_5.endclass.tot_deviation: 0.04031193364617163\n",
       "rep0_range_5.endclass.faults:         {}\n",
       "rep0_range_5.endclass.classification: nominal mission\n",
       "rep0_range_5.endclass.end_x: 28.954484372396227\n",
       "rep0_range_5.endclass.end_y: -0.33577828948066196\n",
       "rep0_range_5.endclass.endpt:    array(2)\n",
       "rep0_range_6.endclass.rate:          1.0\n",
       "rep0_range_6.endclass.cost:            0\n",
       "rep0_range_6.endclass.prob: 0.011764705882352941\n",
       "rep0_range_6.endclass.expected_cost:   0\n",
       "rep0_range_6.endclass.in_bound:     True\n",
       "rep0_range_6.endclass.at_finish:    True\n",
       "rep0_range_6.endclass.line_dist:       1\n",
       "rep0_range_6.endclass.num_modes:       0\n",
       "rep0_range_6.endclass.end_dist:      0.0\n",
       "rep0_range_6.endclass.tot_deviation: 0.013287216610996896\n",
       "rep0_range_6.endclass.faults:         {}\n",
       "rep0_range_6.endclass.classification: nominal mission\n",
       "rep0_range_6.endclass.end_x: 29.159994285962927\n",
       "rep0_range_6.endclass.end_y: 0.12176108577474055\n",
       "rep0_range_6.endclass.endpt:    array(2)\n",
       "rep0_range_7.endclass.rate:          1.0\n",
       "rep0_range_7.endclass.cost:            0\n",
       "rep0_range_7.endclass.prob: 0.011764705882352941\n",
       "rep0_range_7.endclass.expected_cost:   0\n",
       "rep0_range_7.endclass.in_bound:     True\n",
       "rep0_range_7.endclass.at_finish:    True\n",
       "rep0_range_7.endclass.line_dist:       1\n",
       "rep0_range_7.endclass.num_modes:       0\n",
       "rep0_range_7.endclass.end_dist:      0.0\n",
       "rep0_range_7.endclass.tot_deviation: 0.020979046204939525\n",
       "rep0_range_7.endclass.faults:         {}\n",
       "rep0_range_7.endclass.classification: nominal mission\n",
       "rep0_range_7.endclass.end_x: 28.917836557667336\n",
       "rep0_range_7.endclass.end_y: -0.12293083654799107\n",
       "rep0_range_7.endclass.endpt:    array(2)\n",
       "rep0_range_8.endclass.rate:          1.0\n",
       "rep0_range_8.endclass.cost:            0\n",
       "rep0_range_8.endclass.prob: 0.011764705882352941\n",
       "rep0_range_8.endclass.expected_cost:   0\n",
       "rep0_range_8.endclass.in_bound:     True\n",
       "rep0_range_8.endclass.at_finish:    True\n",
       "rep0_range_8.endclass.line_dist:       1\n",
       "rep0_range_8.endclass.num_modes:       0\n",
       "rep0_range_8.endclass.end_dist:      0.0\n",
       "rep0_range_8.endclass.tot_deviation: 0.012689026281263317\n",
       "rep0_range_8.endclass.faults:         {}\n",
       "rep0_range_8.endclass.classification: nominal mission\n",
       "rep0_range_8.endclass.end_x: 28.950969682009344\n",
       "rep0_range_8.endclass.end_y: -0.501713030304046\n",
       "rep0_range_8.endclass.endpt:    array(2)\n",
       "rep0_range_9.endclass.rate:          1.0\n",
       "rep0_range_9.endclass.cost:            0\n",
       "rep0_range_9.endclass.prob: 0.011764705882352941\n",
       "rep0_range_9.endclass.expected_cost:   0\n",
       "rep0_range_9.endclass.in_bound:     True\n",
       "rep0_range_9.endclass.at_finish:    True\n",
       "rep0_range_9.endclass.line_dist:       1\n",
       "rep0_range_9.endclass.num_modes:       0\n",
       "rep0_range_9.endclass.end_dist:      0.0\n",
       "rep0_range_9.endclass.tot_deviation: 0.008709416578409242\n",
       "rep0_range_9.endclass.faults:         {}\n",
       "rep0_range_9.endclass.classification: nominal mission\n",
       "rep0_range_9.endclass.end_x: 28.966405094769144\n",
       "rep0_range_9.endclass.end_y: -0.239309282710179\n",
       "rep0_range_9.endclass.endpt:    array(2)\n",
       "rep0_range_10.endclass.rate:         1.0\n",
       "rep0_range_10.endclass.cost:           0\n",
       "rep0_range_10.endclass.prob: 0.011764705882352941\n",
       "rep0_range_10.endclass.expected_cost:  0\n",
       "rep0_range_10.endclass.in_bound:    True\n",
       "rep0_range_10.endclass.at_finish:   True\n",
       "rep0_range_10.endclass.line_dist:      1\n",
       "rep0_range_10.endclass.num_modes:      0\n",
       "rep0_range_10.endclass.end_dist:     0.0\n",
       "rep0_range_10.endclass.tot_deviation: 0.07265907374931083\n",
       "rep0_range_10.endclass.faults:        {}\n",
       "rep0_range_10.endclass.classification: nominal mission\n",
       "rep0_range_10.endclass.end_x: 29.24509887978839\n",
       "rep0_range_10.endclass.end_y: -0.5264756208112762\n",
       "rep0_range_10.endclass.endpt:   array(2)\n",
       "rep0_range_11.endclass.rate:         1.0\n",
       "rep0_range_11.endclass.cost:           0\n",
       "rep0_range_11.endclass.prob: 0.011764705882352941\n",
       "rep0_range_11.endclass.expected_cost:  0\n",
       "rep0_range_11.endclass.in_bound:    True\n",
       "rep0_range_11.endclass.at_finish:   True\n",
       "rep0_range_11.endclass.line_dist:      1\n",
       "rep0_range_11.endclass.num_modes:      0\n",
       "rep0_range_11.endclass.end_dist:     0.0\n",
       "rep0_range_11.endclass.tot_deviation: 0.01882428399199615\n",
       "rep0_range_11.endclass.faults:        {}\n",
       "rep0_range_11.endclass.classification: nominal mission\n",
       "rep0_range_11.endclass.end_x: 28.978851134353565\n",
       "rep0_range_11.endclass.end_y: 0.33031616038277367\n",
       "rep0_range_11.endclass.endpt:   array(2)\n",
       "rep0_range_12.endclass.rate:         1.0\n",
       "rep0_range_12.endclass.cost:           0\n",
       "rep0_range_12.endclass.prob: 0.011764705882352941\n",
       "rep0_range_12.endclass.expected_cost:  0\n",
       "rep0_range_12.endclass.in_bound:    True\n",
       "rep0_range_12.endclass.at_finish:   True\n",
       "rep0_range_12.endclass.line_dist:      1\n",
       "rep0_range_12.endclass.num_modes:      0\n",
       "rep0_range_12.endclass.end_dist:     0.0\n",
       "rep0_range_12.endclass.tot_deviation: 0.020940135808406236\n",
       "rep0_range_12.endclass.faults:        {}\n",
       "rep0_range_12.endclass.classification: nominal mission\n",
       "rep0_range_12.endclass.end_x: 29.02667378003487\n",
       "rep0_range_12.endclass.end_y: -0.19112420094406496\n",
       "rep0_range_12.endclass.endpt:   array(2)\n",
       "rep0_range_13.endclass.rate:         1.0\n",
       "rep0_range_13.endclass.cost:           0\n",
       "rep0_range_13.endclass.prob: 0.011764705882352941\n",
       "rep0_range_13.endclass.expected_cost:  0\n",
       "rep0_range_13.endclass.in_bound:    True\n",
       "rep0_range_13.endclass.at_finish:   True\n",
       "rep0_range_13.endclass.line_dist:      1\n",
       "rep0_range_13.endclass.num_modes:      0\n",
       "rep0_range_13.endclass.end_dist:     0.0\n",
       "rep0_range_13.endclass.tot_deviation: 0.023959689114854337\n",
       "rep0_range_13.endclass.faults:        {}\n",
       "rep0_range_13.endclass.classification: nominal mission\n",
       "rep0_range_13.endclass.end_x: 29.140699707404103\n",
       "rep0_range_13.endclass.end_y: -1.009399162379895\n",
       "rep0_range_13.endclass.endpt:   array(2)\n",
       "rep0_range_14.endclass.rate:         1.0\n",
       "rep0_range_14.endclass.cost:           0\n",
       "rep0_range_14.endclass.prob: 0.011764705882352941\n",
       "rep0_range_14.endclass.expected_cost:  0\n",
       "rep0_range_14.endclass.in_bound:    True\n",
       "rep0_range_14.endclass.at_finish:   True\n",
       "rep0_range_14.endclass.line_dist:      1\n",
       "rep0_range_14.endclass.num_modes:      0\n",
       "rep0_range_14.endclass.end_dist:     0.0\n",
       "rep0_range_14.endclass.tot_deviation: 0.016012109187890512\n",
       "rep0_range_14.endclass.faults:        {}\n",
       "rep0_range_14.endclass.classification: nominal mission\n",
       "rep0_range_14.endclass.end_x: 29.200384936771\n",
       "rep0_range_14.endclass.end_y: -0.5088740949686043\n",
       "rep0_range_14.endclass.endpt:   array(2)\n",
       "rep0_range_15.endclass.rate:         1.0\n",
       "rep0_range_15.endclass.cost:           0\n",
       "rep0_range_15.endclass.prob: 0.011764705882352941\n",
       "rep0_range_15.endclass.expected_cost:  0\n",
       "rep0_range_15.endclass.in_bound:    True\n",
       "rep0_range_15.endclass.at_finish:   True\n",
       "rep0_range_15.endclass.line_dist:      1\n",
       "rep0_range_15.endclass.num_modes:      0\n",
       "rep0_range_15.endclass.end_dist:     0.0\n",
       "rep0_range_15.endclass.tot_deviation: 0.09641579639279106\n",
       "rep0_range_15.endclass.faults:        {}\n",
       "rep0_range_15.endclass.classification: nominal mission\n",
       "rep0_range_15.endclass.end_x: 29.22890544654618\n",
       "rep0_range_15.endclass.end_y: -0.8066111491747783\n",
       "rep0_range_15.endclass.endpt:   array(2)\n",
       "rep0_range_16.endclass.rate:         1.0\n",
       "rep0_range_16.endclass.cost:           0\n",
       "rep0_range_16.endclass.prob: 0.011764705882352941\n",
       "rep0_range_16.endclass.expected_cost:  0\n",
       "rep0_range_16.endclass.in_bound:    True\n",
       "rep0_range_16.endclass.at_finish:   True\n",
       "rep0_range_16.endclass.line_dist:      1\n",
       "rep0_range_16.endclass.num_modes:      0\n",
       "rep0_range_16.endclass.end_dist:     0.0\n",
       "rep0_range_16.endclass.tot_deviation: 0.034271198916084405\n",
       "rep0_range_16.endclass.faults:        {}\n",
       "rep0_range_16.endclass.classification: nominal mission\n",
       "rep0_range_16.endclass.end_x: 29.127166031966276\n",
       "rep0_range_16.endclass.end_y: 0.4353308249083395\n",
       "rep0_range_16.endclass.endpt:   array(2)\n",
       "rep0_range_17.endclass.rate:         1.0\n",
       "rep0_range_17.endclass.cost:           0\n",
       "rep0_range_17.endclass.prob: 0.011764705882352941\n",
       "rep0_range_17.endclass.expected_cost:  0\n",
       "rep0_range_17.endclass.in_bound:    True\n",
       "rep0_range_17.endclass.at_finish:   True\n",
       "rep0_range_17.endclass.line_dist:      1\n",
       "rep0_range_17.endclass.num_modes:      0\n",
       "rep0_range_17.endclass.end_dist:     0.0\n",
       "rep0_range_17.endclass.tot_deviation: 0.008665927334266237\n",
       "rep0_range_17.endclass.faults:        {}\n",
       "rep0_range_17.endclass.classification: nominal mission\n",
       "rep0_range_17.endclass.end_x: 28.988004309049906\n",
       "rep0_range_17.endclass.end_y: -0.31557029037246215\n",
       "rep0_range_17.endclass.endpt:   array(2)\n",
       "rep0_range_18.endclass.rate:         1.0\n",
       "rep0_range_18.endclass.cost:           0\n",
       "rep0_range_18.endclass.prob: 0.011764705882352941\n",
       "rep0_range_18.endclass.expected_cost:  0\n",
       "rep0_range_18.endclass.in_bound:    True\n",
       "rep0_range_18.endclass.at_finish:   True\n",
       "rep0_range_18.endclass.line_dist:      1\n",
       "rep0_range_18.endclass.num_modes:      0\n",
       "rep0_range_18.endclass.end_dist:     0.0\n",
       "rep0_range_18.endclass.tot_deviation: 0.017464958885312847\n",
       "rep0_range_18.endclass.faults:        {}\n",
       "rep0_range_18.endclass.classification: nominal mission\n",
       "rep0_range_18.endclass.end_x: 28.912657782705324\n",
       "rep0_range_18.endclass.end_y: -1.4894469618395239\n",
       "rep0_range_18.endclass.endpt:   array(2)\n",
       "rep0_range_19.endclass.rate:         1.0\n",
       "rep0_range_19.endclass.cost:           0\n",
       "rep0_range_19.endclass.prob: 0.011764705882352941\n",
       "rep0_range_19.endclass.expected_cost:  0\n",
       "rep0_range_19.endclass.in_bound:    True\n",
       "rep0_range_19.endclass.at_finish:   True\n",
       "rep0_range_19.endclass.line_dist:      1\n",
       "rep0_range_19.endclass.num_modes:      0\n",
       "rep0_range_19.endclass.end_dist:     0.0\n",
       "rep0_range_19.endclass.tot_deviation: 0.023312475882955888\n",
       "rep0_range_19.endclass.faults:        {}\n",
       "rep0_range_19.endclass.classification: nominal mission\n",
       "rep0_range_19.endclass.end_x: 29.03938920851671\n",
       "rep0_range_19.endclass.end_y: -0.732846538594535\n",
       "rep0_range_19.endclass.endpt:   array(2)\n",
       "rep0_range_20.endclass.rate:         1.0\n",
       "rep0_range_20.endclass.cost:           0\n",
       "rep0_range_20.endclass.prob: 0.011764705882352941\n",
       "rep0_range_20.endclass.expected_cost:  0\n",
       "rep0_range_20.endclass.in_bound:    True\n",
       "rep0_range_20.endclass.at_finish:   True\n",
       "rep0_range_20.endclass.line_dist:      1\n",
       "rep0_range_20.endclass.num_modes:      0\n",
       "rep0_range_20.endclass.end_dist:     0.0\n",
       "rep0_range_20.endclass.tot_deviation: 0.11284511123392486\n",
       "rep0_range_20.endclass.faults:        {}\n",
       "rep0_range_20.endclass.classification: nominal mission\n",
       "rep0_range_20.endclass.end_x: 29.38997261168595\n",
       "rep0_range_20.endclass.end_y: -0.8981879973680189\n",
       "rep0_range_20.endclass.endpt:   array(2)\n",
       "rep0_range_21.endclass.rate:         1.0\n",
       "rep0_range_21.endclass.cost:           0\n",
       "rep0_range_21.endclass.prob: 0.011764705882352941\n",
       "rep0_range_21.endclass.expected_cost:  0\n",
       "rep0_range_21.endclass.in_bound:    True\n",
       "rep0_range_21.endclass.at_finish:   True\n",
       "rep0_range_21.endclass.line_dist:      1\n",
       "rep0_range_21.endclass.num_modes:      0\n",
       "rep0_range_21.endclass.end_dist:     0.0\n",
       "rep0_range_21.endclass.tot_deviation: 0.04880058739211242\n",
       "rep0_range_21.endclass.faults:        {}\n",
       "rep0_range_21.endclass.classification: nominal mission\n",
       "rep0_range_21.endclass.end_x: 29.30163064374983\n",
       "rep0_range_21.endclass.end_y: 0.47762213257624786\n",
       "rep0_range_21.endclass.endpt:   array(2)\n",
       "rep0_range_22.endclass.rate:         1.0\n",
       "rep0_range_22.endclass.cost:           0\n",
       "rep0_range_22.endclass.prob: 0.011764705882352941\n",
       "rep0_range_22.endclass.expected_cost:  0\n",
       "rep0_range_22.endclass.in_bound:    True\n",
       "rep0_range_22.endclass.at_finish:   True\n",
       "rep0_range_22.endclass.line_dist:      1\n",
       "rep0_range_22.endclass.num_modes:      0\n",
       "rep0_range_22.endclass.end_dist:     0.0\n",
       "rep0_range_22.endclass.tot_deviation: 0.015106130029186112\n",
       "rep0_range_22.endclass.faults:        {}\n",
       "rep0_range_22.endclass.classification: nominal mission\n",
       "rep0_range_22.endclass.end_x: 29.12413778936169\n",
       "rep0_range_22.endclass.end_y: -0.3705635585347911\n",
       "rep0_range_22.endclass.endpt:   array(2)\n",
       "rep0_range_23.endclass.rate:         1.0\n",
       "rep0_range_23.endclass.cost:           0\n",
       "rep0_range_23.endclass.prob: 0.011764705882352941\n",
       "rep0_range_23.endclass.expected_cost:  0\n",
       "rep0_range_23.endclass.in_bound:    True\n",
       "rep0_range_23.endclass.at_finish:   True\n",
       "rep0_range_23.endclass.line_dist:      1\n",
       "rep0_range_23.endclass.num_modes:      0\n",
       "rep0_range_23.endclass.end_dist:     0.0\n",
       "rep0_range_23.endclass.tot_deviation: 0.018560494077101537\n",
       "rep0_range_23.endclass.faults:        {}\n",
       "rep0_range_23.endclass.classification: nominal mission\n",
       "rep0_range_23.endclass.end_x: 28.94026562393683\n",
       "rep0_range_23.endclass.end_y: -1.9687845632662222\n",
       "rep0_range_23.endclass.endpt:   array(2)\n",
       "rep0_range_24.endclass.rate:         1.0\n",
       "rep0_range_24.endclass.cost:           0\n",
       "rep0_range_24.endclass.prob: 0.011764705882352941\n",
       "rep0_range_24.endclass.expected_cost:  0\n",
       "rep0_range_24.endclass.in_bound:    True\n",
       "rep0_range_24.endclass.at_finish:   True\n",
       "rep0_range_24.endclass.line_dist:      1\n",
       "rep0_range_24.endclass.num_modes:      0\n",
       "rep0_range_24.endclass.end_dist:     0.0\n",
       "rep0_range_24.endclass.tot_deviation: 0.030551740099704457\n",
       "rep0_range_24.endclass.faults:        {}\n",
       "rep0_range_24.endclass.classification: nominal mission\n",
       "rep0_range_24.endclass.end_x: 29.144526240438584\n",
       "rep0_range_24.endclass.end_y: -1.00390993910328\n",
       "rep0_range_24.endclass.endpt:   array(2)\n",
       "rep0_range_25.endclass.rate:         1.0\n",
       "rep0_range_25.endclass.cost:           0\n",
       "rep0_range_25.endclass.prob: 0.011764705882352941\n",
       "rep0_range_25.endclass.expected_cost:  0\n",
       "rep0_range_25.endclass.in_bound:    True\n",
       "rep0_range_25.endclass.at_finish:   True\n",
       "rep0_range_25.endclass.line_dist:      1\n",
       "rep0_range_25.endclass.num_modes:      0\n",
       "rep0_range_25.endclass.end_dist:     0.0\n",
       "rep0_range_25.endclass.tot_deviation: 0.12704827454099682\n",
       "rep0_range_25.endclass.faults:        {}\n",
       "rep0_range_25.endclass.classification: nominal mission\n",
       "rep0_range_25.endclass.end_x: 29.609865640536785\n",
       "rep0_range_25.endclass.end_y: -0.7967210632055489\n",
       "rep0_range_25.endclass.endpt:   array(2)\n",
       "rep0_range_26.endclass.rate:         1.0\n",
       "rep0_range_26.endclass.cost:           0\n",
       "rep0_range_26.endclass.prob: 0.011764705882352941\n",
       "rep0_range_26.endclass.expected_cost:  0\n",
       "rep0_range_26.endclass.in_bound:    True\n",
       "rep0_range_26.endclass.at_finish:   True\n",
       "rep0_range_26.endclass.line_dist:      1\n",
       "rep0_range_26.endclass.num_modes:      0\n",
       "rep0_range_26.endclass.end_dist:     0.0\n",
       "rep0_range_26.endclass.tot_deviation: 0.0601103630798466\n",
       "rep0_range_26.endclass.faults:        {}\n",
       "rep0_range_26.endclass.classification: nominal mission\n",
       "rep0_range_26.endclass.end_x: 29.25170469072636\n",
       "rep0_range_26.endclass.end_y: 0.6347985115430519\n",
       "rep0_range_26.endclass.endpt:   array(2)\n",
       "rep0_range_27.endclass.rate:         1.0\n",
       "rep0_range_27.endclass.cost:           0\n",
       "rep0_range_27.endclass.prob: 0.011764705882352941\n",
       "rep0_range_27.endclass.expected_cost:  0\n",
       "rep0_range_27.endclass.in_bound:    True\n",
       "rep0_range_27.endclass.at_finish:   True\n",
       "rep0_range_27.endclass.line_dist:      1\n",
       "rep0_range_27.endclass.num_modes:      0\n",
       "rep0_range_27.endclass.end_dist:     0.0\n",
       "rep0_range_27.endclass.tot_deviation: 0.025249343998657622\n",
       "rep0_range_27.endclass.faults:        {}\n",
       "rep0_range_27.endclass.classification: nominal mission\n",
       "rep0_range_27.endclass.end_x: 29.13110106039093\n",
       "rep0_range_27.endclass.end_y: -0.4635193917148366\n",
       "rep0_range_27.endclass.endpt:   array(2)\n",
       "rep0_range_28.endclass.rate:         1.0\n",
       "rep0_range_28.endclass.cost:           0\n",
       "rep0_range_28.endclass.prob: 0.011764705882352941\n",
       "rep0_range_28.endclass.expected_cost:  0\n",
       "rep0_range_28.endclass.in_bound:    True\n",
       "rep0_range_28.endclass.at_finish:   True\n",
       "rep0_range_28.endclass.line_dist:      1\n",
       "rep0_range_28.endclass.num_modes:      0\n",
       "rep0_range_28.endclass.end_dist:     0.0\n",
       "rep0_range_28.endclass.tot_deviation: 0.011989833834154728\n",
       "rep0_range_28.endclass.faults:        {}\n",
       "rep0_range_28.endclass.classification: nominal mission\n",
       "rep0_range_28.endclass.end_x: 29.210174823054277\n",
       "rep0_range_28.endclass.end_y: -2.477559578188976\n",
       "rep0_range_28.endclass.endpt:   array(2)\n",
       "rep0_range_29.endclass.rate:         1.0\n",
       "rep0_range_29.endclass.cost:           0\n",
       "rep0_range_29.endclass.prob: 0.011764705882352941\n",
       "rep0_range_29.endclass.expected_cost:  0\n",
       "rep0_range_29.endclass.in_bound:    True\n",
       "rep0_range_29.endclass.at_finish:   True\n",
       "rep0_range_29.endclass.line_dist:      1\n",
       "rep0_range_29.endclass.num_modes:      0\n",
       "rep0_range_29.endclass.end_dist:     0.0\n",
       "rep0_range_29.endclass.tot_deviation: 0.021520934615468466\n",
       "rep0_range_29.endclass.faults:        {}\n",
       "rep0_range_29.endclass.classification: nominal mission\n",
       "rep0_range_29.endclass.end_x: 29.196821875790913\n",
       "rep0_range_29.endclass.end_y: -1.2689214678770406\n",
       "rep0_range_29.endclass.endpt:   array(2)\n",
       "rep0_range_30.endclass.rate:         1.0\n",
       "rep0_range_30.endclass.cost:           0\n",
       "rep0_range_30.endclass.prob: 0.011764705882352941\n",
       "rep0_range_30.endclass.expected_cost:  0\n",
       "rep0_range_30.endclass.in_bound:    True\n",
       "rep0_range_30.endclass.at_finish:  False\n",
       "rep0_range_30.endclass.line_dist:      1\n",
       "rep0_range_30.endclass.num_modes:      0\n",
       "rep0_range_30.endclass.end_dist: 0.1701974261981555\n",
       "rep0_range_30.endclass.tot_deviation: 0.14492921371085954\n",
       "rep0_range_30.endclass.faults:        {}\n",
       "rep0_range_30.endclass.classification: incomplete mission\n",
       "rep0_range_30.endclass.end_x: 29.434993679668953\n",
       "rep0_range_30.endclass.end_y: -1.2615889838921517\n",
       "rep0_range_30.endclass.endpt:   array(2)\n",
       "rep0_range_31.endclass.rate:         1.0\n",
       "rep0_range_31.endclass.cost:           0\n",
       "rep0_range_31.endclass.prob: 0.011764705882352941\n",
       "rep0_range_31.endclass.expected_cost:  0\n",
       "rep0_range_31.endclass.in_bound:    True\n",
       "rep0_range_31.endclass.at_finish:   True\n",
       "rep0_range_31.endclass.line_dist:      1\n",
       "rep0_range_31.endclass.num_modes:      0\n",
       "rep0_range_31.endclass.end_dist:     0.0\n",
       "rep0_range_31.endclass.tot_deviation: 0.07019798659455637\n",
       "rep0_range_31.endclass.faults:        {}\n",
       "rep0_range_31.endclass.classification: nominal mission\n",
       "rep0_range_31.endclass.end_x: 29.309039641891463\n",
       "rep0_range_31.endclass.end_y: 0.714583411451293\n",
       "rep0_range_31.endclass.endpt:   array(2)\n",
       "rep0_range_32.endclass.rate:         1.0\n",
       "rep0_range_32.endclass.cost:           0\n",
       "rep0_range_32.endclass.prob: 0.011764705882352941\n",
       "rep0_range_32.endclass.expected_cost:  0\n",
       "rep0_range_32.endclass.in_bound:    True\n",
       "rep0_range_32.endclass.at_finish:   True\n",
       "rep0_range_32.endclass.line_dist:      1\n",
       "rep0_range_32.endclass.num_modes:      0\n",
       "rep0_range_32.endclass.end_dist:     0.0\n",
       "rep0_range_32.endclass.tot_deviation: 0.033095408698309625\n",
       "rep0_range_32.endclass.faults:        {}\n",
       "rep0_range_32.endclass.classification: nominal mission\n",
       "rep0_range_32.endclass.end_x: 29.326174325808566\n",
       "rep0_range_32.endclass.end_y: -0.44188457676692694\n",
       "rep0_range_32.endclass.endpt:   array(2)\n",
       "rep0_range_33.endclass.rate:         1.0\n",
       "rep0_range_33.endclass.cost:           0\n",
       "rep0_range_33.endclass.prob: 0.011764705882352941\n",
       "rep0_range_33.endclass.expected_cost:  0\n",
       "rep0_range_33.endclass.in_bound:    True\n",
       "rep0_range_33.endclass.at_finish:   True\n",
       "rep0_range_33.endclass.line_dist:      1\n",
       "rep0_range_33.endclass.num_modes:      0\n",
       "rep0_range_33.endclass.end_dist:     0.0\n",
       "rep0_range_33.endclass.tot_deviation: 0.008947958132256198\n",
       "rep0_range_33.endclass.faults:        {}\n",
       "rep0_range_33.endclass.classification: nominal mission\n",
       "rep0_range_33.endclass.end_x: 29.062675330702344\n",
       "rep0_range_33.endclass.end_y: -2.971390738580973\n",
       "rep0_range_33.endclass.endpt:   array(2)\n",
       "rep0_range_34.endclass.rate:         1.0\n",
       "rep0_range_34.endclass.cost:           0\n",
       "rep0_range_34.endclass.prob: 0.011764705882352941\n",
       "rep0_range_34.endclass.expected_cost:  0\n",
       "rep0_range_34.endclass.in_bound:    True\n",
       "rep0_range_34.endclass.at_finish:   True\n",
       "rep0_range_34.endclass.line_dist:      1\n",
       "rep0_range_34.endclass.num_modes:      0\n",
       "rep0_range_34.endclass.end_dist:     0.0\n",
       "rep0_range_34.endclass.tot_deviation: 0.023799143752141937\n",
       "rep0_range_34.endclass.faults:        {}\n",
       "rep0_range_34.endclass.classification: nominal mission\n",
       "rep0_range_34.endclass.end_x: 29.201210080179663\n",
       "rep0_range_34.endclass.end_y: -1.5209535998153236\n",
       "rep0_range_34.endclass.endpt:   array(2)\n",
       "rep0_range_35.endclass.rate:         1.0\n",
       "rep0_range_35.endclass.cost:           0\n",
       "rep0_range_35.endclass.prob: 0.011764705882352941\n",
       "rep0_range_35.endclass.expected_cost:  0\n",
       "rep0_range_35.endclass.in_bound:    True\n",
       "rep0_range_35.endclass.at_finish:  False\n",
       "rep0_range_35.endclass.line_dist:      1\n",
       "rep0_range_35.endclass.num_modes:      0\n",
       "rep0_range_35.endclass.end_dist: 3.2491374911124042\n",
       "rep0_range_35.endclass.tot_deviation: 0.1573084616393087\n",
       "rep0_range_35.endclass.faults:        {}\n",
       "rep0_range_35.endclass.classification: incomplete mission\n",
       "rep0_range_35.endclass.end_x: 26.207221354099755\n",
       "rep0_range_35.endclass.end_y: -2.32087985463916\n",
       "rep0_range_35.endclass.endpt:   array(2)\n",
       "rep0_range_36.endclass.rate:         1.0\n",
       "rep0_range_36.endclass.cost:           0\n",
       "rep0_range_36.endclass.prob: 0.011764705882352941\n",
       "rep0_range_36.endclass.expected_cost:  0\n",
       "rep0_range_36.endclass.in_bound:    True\n",
       "rep0_range_36.endclass.at_finish:   True\n",
       "rep0_range_36.endclass.line_dist:      1\n",
       "rep0_range_36.endclass.num_modes:      0\n",
       "rep0_range_36.endclass.end_dist:     0.0\n",
       "rep0_range_36.endclass.tot_deviation: 0.07909996723249132\n",
       "rep0_range_36.endclass.faults:        {}\n",
       "rep0_range_36.endclass.classification: nominal mission\n",
       "rep0_range_36.endclass.end_x: 29.465026352745042\n",
       "rep0_range_36.endclass.end_y: 0.6636458576071678\n",
       "rep0_range_36.endclass.endpt:   array(2)\n",
       "rep0_range_37.endclass.rate:         1.0\n",
       "rep0_range_37.endclass.cost:           0\n",
       "rep0_range_37.endclass.prob: 0.011764705882352941\n",
       "rep0_range_37.endclass.expected_cost:  0\n",
       "rep0_range_37.endclass.in_bound:    True\n",
       "rep0_range_37.endclass.at_finish:   True\n",
       "rep0_range_37.endclass.line_dist:      1\n",
       "rep0_range_37.endclass.num_modes:      0\n",
       "rep0_range_37.endclass.end_dist:     0.0\n",
       "rep0_range_37.endclass.tot_deviation: 0.040569119949447216\n",
       "rep0_range_37.endclass.faults:        {}\n",
       "rep0_range_37.endclass.classification: nominal mission\n",
       "rep0_range_37.endclass.end_x: 29.140772222353664\n",
       "rep0_range_37.endclass.end_y: -0.6526840810332275\n",
       "rep0_range_37.endclass.endpt:   array(2)\n",
       "rep0_range_38.endclass.rate:         1.0\n",
       "rep0_range_38.endclass.cost:           0\n",
       "rep0_range_38.endclass.prob: 0.011764705882352941\n",
       "rep0_range_38.endclass.expected_cost:  0\n",
       "rep0_range_38.endclass.in_bound:    True\n",
       "rep0_range_38.endclass.at_finish:   True\n",
       "rep0_range_38.endclass.line_dist:      1\n",
       "rep0_range_38.endclass.num_modes:      0\n",
       "rep0_range_38.endclass.end_dist:     0.0\n",
       "rep0_range_38.endclass.tot_deviation: 0.015221764715137661\n",
       "rep0_range_38.endclass.faults:        {}\n",
       "rep0_range_38.endclass.classification: nominal mission\n",
       "rep0_range_38.endclass.end_x: 29.17533981045304\n",
       "rep0_range_38.endclass.end_y: -3.4793141221156323\n",
       "rep0_range_38.endclass.endpt:   array(2)\n",
       "rep0_range_39.endclass.rate:         1.0\n",
       "rep0_range_39.endclass.cost:           0\n",
       "rep0_range_39.endclass.prob: 0.011764705882352941\n",
       "rep0_range_39.endclass.expected_cost:  0\n",
       "rep0_range_39.endclass.in_bound:    True\n",
       "rep0_range_39.endclass.at_finish:   True\n",
       "rep0_range_39.endclass.line_dist:      1\n",
       "rep0_range_39.endclass.num_modes:      0\n",
       "rep0_range_39.endclass.end_dist:     0.0\n",
       "rep0_range_39.endclass.tot_deviation: 0.01812310565797931\n",
       "rep0_range_39.endclass.faults:        {}\n",
       "rep0_range_39.endclass.classification: nominal mission\n",
       "rep0_range_39.endclass.end_x: 29.14060880327211\n",
       "rep0_range_39.endclass.end_y: -1.754213472272745\n",
       "rep0_range_39.endclass.endpt:   array(2)\n",
       "rep0_range_40.endclass.rate:         1.0\n",
       "rep0_range_40.endclass.cost:           0\n",
       "rep0_range_40.endclass.prob: 0.011764705882352941\n",
       "rep0_range_40.endclass.expected_cost:  0\n",
       "rep0_range_40.endclass.in_bound:    True\n",
       "rep0_range_40.endclass.at_finish:  False\n",
       "rep0_range_40.endclass.line_dist:      1\n",
       "rep0_range_40.endclass.num_modes:      0\n",
       "rep0_range_40.endclass.end_dist: 4.796434605680536\n",
       "rep0_range_40.endclass.tot_deviation: 0.1718769398529267\n",
       "rep0_range_40.endclass.faults:        {}\n",
       "rep0_range_40.endclass.classification: incomplete mission\n",
       "rep0_range_40.endclass.end_x: 24.43562416078548\n",
       "rep0_range_40.endclass.end_y: 1.6790813352594796\n",
       "rep0_range_40.endclass.endpt:   array(2)\n",
       "rep0_range_41.endclass.rate:         1.0\n",
       "rep0_range_41.endclass.cost:           0\n",
       "rep0_range_41.endclass.prob: 0.011764705882352941\n",
       "rep0_range_41.endclass.expected_cost:  0\n",
       "rep0_range_41.endclass.in_bound:    True\n",
       "rep0_range_41.endclass.at_finish:   True\n",
       "rep0_range_41.endclass.line_dist:      1\n",
       "rep0_range_41.endclass.num_modes:      0\n",
       "rep0_range_41.endclass.end_dist:     0.0\n",
       "rep0_range_41.endclass.tot_deviation: 0.089390407355406\n",
       "rep0_range_41.endclass.faults:        {}\n",
       "rep0_range_41.endclass.classification: nominal mission\n",
       "rep0_range_41.endclass.end_x: 29.499710787735783\n",
       "rep0_range_41.endclass.end_y: 0.7031795984206857\n",
       "rep0_range_41.endclass.endpt:   array(2)\n",
       "rep0_range_42.endclass.rate:         1.0\n",
       "rep0_range_42.endclass.cost:           0\n",
       "rep0_range_42.endclass.prob: 0.011764705882352941\n",
       "rep0_range_42.endclass.expected_cost:  0\n",
       "rep0_range_42.endclass.in_bound:    True\n",
       "rep0_range_42.endclass.at_finish:   True\n",
       "rep0_range_42.endclass.line_dist:      1\n",
       "rep0_range_42.endclass.num_modes:      0\n",
       "rep0_range_42.endclass.end_dist:     0.0\n",
       "rep0_range_42.endclass.tot_deviation: 0.04851410792877185\n",
       "rep0_range_42.endclass.faults:        {}\n",
       "rep0_range_42.endclass.classification: nominal mission\n",
       "rep0_range_42.endclass.end_x: 29.15183689041273\n",
       "rep0_range_42.endclass.end_y: -0.7357180582368594\n",
       "rep0_range_42.endclass.endpt:   array(2)\n",
       "rep0_range_43.endclass.rate:         1.0\n",
       "rep0_range_43.endclass.cost:           0\n",
       "rep0_range_43.endclass.prob: 0.011764705882352941\n",
       "rep0_range_43.endclass.expected_cost:  0\n",
       "rep0_range_43.endclass.in_bound:    True\n",
       "rep0_range_43.endclass.at_finish:   True\n",
       "rep0_range_43.endclass.line_dist:      1\n",
       "rep0_range_43.endclass.num_modes:      0\n",
       "rep0_range_43.endclass.end_dist:     0.0\n",
       "rep0_range_43.endclass.tot_deviation: 0.021399348812334133\n",
       "rep0_range_43.endclass.faults:        {}\n",
       "rep0_range_43.endclass.classification: nominal mission\n",
       "rep0_range_43.endclass.end_x: 29.216795141317544\n",
       "rep0_range_43.endclass.end_y: -3.982867618902233\n",
       "rep0_range_43.endclass.endpt:   array(2)\n",
       "rep0_range_44.endclass.rate:         1.0\n",
       "rep0_range_44.endclass.cost:           0\n",
       "rep0_range_44.endclass.prob: 0.011764705882352941\n",
       "rep0_range_44.endclass.expected_cost:  0\n",
       "rep0_range_44.endclass.in_bound:    True\n",
       "rep0_range_44.endclass.at_finish:   True\n",
       "rep0_range_44.endclass.line_dist:      1\n",
       "rep0_range_44.endclass.num_modes:      0\n",
       "rep0_range_44.endclass.end_dist:     0.0\n",
       "rep0_range_44.endclass.tot_deviation: 0.015112800240589815\n",
       "rep0_range_44.endclass.faults:        {}\n",
       "rep0_range_44.endclass.classification: nominal mission\n",
       "rep0_range_44.endclass.end_x: 29.037344989024888\n",
       "rep0_range_44.endclass.end_y: -1.9584604542297777\n",
       "rep0_range_44.endclass.endpt:   array(2)\n",
       "rep0_range_45.endclass.rate:         1.0\n",
       "rep0_range_45.endclass.cost:           0\n",
       "rep0_range_45.endclass.prob: 0.011764705882352941\n",
       "rep0_range_45.endclass.expected_cost:  0\n",
       "rep0_range_45.endclass.in_bound:    True\n",
       "rep0_range_45.endclass.at_finish:  False\n",
       "rep0_range_45.endclass.line_dist:      1\n",
       "rep0_range_45.endclass.num_modes:      0\n",
       "rep0_range_45.endclass.end_dist: 8.159540248052002\n",
       "rep0_range_45.endclass.tot_deviation: 0.17642298651427404\n",
       "rep0_range_45.endclass.faults:        {}\n",
       "rep0_range_45.endclass.classification: incomplete mission\n",
       "rep0_range_45.endclass.end_x: 21.904074485238326\n",
       "rep0_range_45.endclass.end_y: 4.184967598174154\n",
       "rep0_range_45.endclass.endpt:   array(2)\n",
       "rep0_range_46.endclass.rate:         1.0\n",
       "rep0_range_46.endclass.cost:           0\n",
       "rep0_range_46.endclass.prob: 0.011764705882352941\n",
       "rep0_range_46.endclass.expected_cost:  0\n",
       "rep0_range_46.endclass.in_bound:    True\n",
       "rep0_range_46.endclass.at_finish:   True\n",
       "rep0_range_46.endclass.line_dist:      1\n",
       "rep0_range_46.endclass.num_modes:      0\n",
       "rep0_range_46.endclass.end_dist:     0.0\n",
       "rep0_range_46.endclass.tot_deviation: 0.09362925739683162\n",
       "rep0_range_46.endclass.faults:        {}\n",
       "rep0_range_46.endclass.classification: nominal mission\n",
       "rep0_range_46.endclass.end_x: 29.472057448236693\n",
       "rep0_range_46.endclass.end_y: 0.8324437751946532\n",
       "rep0_range_46.endclass.endpt:   array(2)\n",
       "rep0_range_47.endclass.rate:         1.0\n",
       "rep0_range_47.endclass.cost:           0\n",
       "rep0_range_47.endclass.prob: 0.011764705882352941\n",
       "rep0_range_47.endclass.expected_cost:  0\n",
       "rep0_range_47.endclass.in_bound:    True\n",
       "rep0_range_47.endclass.at_finish:   True\n",
       "rep0_range_47.endclass.line_dist:      1\n",
       "rep0_range_47.endclass.num_modes:      0\n",
       "rep0_range_47.endclass.end_dist:     0.0\n",
       "rep0_range_47.endclass.tot_deviation: 0.05523840411284116\n",
       "rep0_range_47.endclass.faults:        {}\n",
       "rep0_range_47.endclass.classification: nominal mission\n",
       "rep0_range_47.endclass.end_x: 29.347957239646547\n",
       "rep0_range_47.endclass.end_y: -0.6459451241581151\n",
       "rep0_range_47.endclass.endpt:   array(2)\n",
       "rep0_range_48.endclass.rate:         1.0\n",
       "rep0_range_48.endclass.cost:           0\n",
       "rep0_range_48.endclass.prob: 0.011764705882352941\n",
       "rep0_range_48.endclass.expected_cost:  0\n",
       "rep0_range_48.endclass.in_bound:    True\n",
       "rep0_range_48.endclass.at_finish:   True\n",
       "rep0_range_48.endclass.line_dist:      1\n",
       "rep0_range_48.endclass.num_modes:      0\n",
       "rep0_range_48.endclass.end_dist:     0.0\n",
       "rep0_range_48.endclass.tot_deviation: 0.027107771695039033\n",
       "rep0_range_48.endclass.faults:        {}\n",
       "rep0_range_48.endclass.classification: nominal mission\n",
       "rep0_range_48.endclass.end_x: 29.195053779162567\n",
       "rep0_range_48.endclass.end_y: -4.480553472177286\n",
       "rep0_range_48.endclass.endpt:   array(2)\n",
       "rep0_range_49.endclass.rate:         1.0\n",
       "rep0_range_49.endclass.cost:           0\n",
       "rep0_range_49.endclass.prob: 0.011764705882352941\n",
       "rep0_range_49.endclass.expected_cost:  0\n",
       "rep0_range_49.endclass.in_bound:    True\n",
       "rep0_range_49.endclass.at_finish:   True\n",
       "rep0_range_49.endclass.line_dist:      1\n",
       "rep0_range_49.endclass.num_modes:      0\n",
       "rep0_range_49.endclass.end_dist:     0.0\n",
       "rep0_range_49.endclass.tot_deviation: 0.013128698021386258\n",
       "rep0_range_49.endclass.faults:        {}\n",
       "rep0_range_49.endclass.classification: nominal mission\n",
       "rep0_range_49.endclass.end_x: 29.195282489544713\n",
       "rep0_range_49.endclass.end_y: -2.2705440476057746\n",
       "rep0_range_49.endclass.endpt:   array(2)\n",
       "rep0_range_50.endclass.rate:         1.0\n",
       "rep0_range_50.endclass.cost:           0\n",
       "rep0_range_50.endclass.prob: 0.011764705882352941\n",
       "rep0_range_50.endclass.expected_cost:  0\n",
       "rep0_range_50.endclass.in_bound:    True\n",
       "rep0_range_50.endclass.at_finish:  False\n",
       "rep0_range_50.endclass.line_dist:      1\n",
       "rep0_range_50.endclass.num_modes:      0\n",
       "rep0_range_50.endclass.end_dist: 8.621391343800537\n",
       "rep0_range_50.endclass.tot_deviation: 0.19223663123032816\n",
       "rep0_range_50.endclass.faults:        {}\n",
       "rep0_range_50.endclass.classification: incomplete mission\n",
       "rep0_range_50.endclass.end_x: 20.35124747887383\n",
       "rep0_range_50.endclass.end_y: 0.8633544428667195\n",
       "rep0_range_50.endclass.endpt:   array(2)\n",
       "rep0_range_51.endclass.rate:         1.0\n",
       "rep0_range_51.endclass.cost:           0\n",
       "rep0_range_51.endclass.prob: 0.011764705882352941\n",
       "rep0_range_51.endclass.expected_cost:  0\n",
       "rep0_range_51.endclass.in_bound:    True\n",
       "rep0_range_51.endclass.at_finish:   True\n",
       "rep0_range_51.endclass.line_dist:      1\n",
       "rep0_range_51.endclass.num_modes:      0\n",
       "rep0_range_51.endclass.end_dist:     0.0\n",
       "rep0_range_51.endclass.tot_deviation: 0.10276433291970202\n",
       "rep0_range_51.endclass.faults:        {}\n",
       "rep0_range_51.endclass.classification: nominal mission\n",
       "rep0_range_51.endclass.end_x: 29.558832445428926\n",
       "rep0_range_51.endclass.end_y: 0.7821513291334509\n",
       "rep0_range_51.endclass.endpt:   array(2)\n",
       "rep0_range_52.endclass.rate:         1.0\n",
       "rep0_range_52.endclass.cost:           0\n",
       "rep0_range_52.endclass.prob: 0.011764705882352941\n",
       "rep0_range_52.endclass.expected_cost:  0\n",
       "rep0_range_52.endclass.in_bound:    True\n",
       "rep0_range_52.endclass.at_finish:   True\n",
       "rep0_range_52.endclass.line_dist:      1\n",
       "rep0_range_52.endclass.num_modes:      0\n",
       "rep0_range_52.endclass.end_dist:     0.0\n",
       "rep0_range_52.endclass.tot_deviation: 0.060501672317475934\n",
       "rep0_range_52.endclass.faults:        {}\n",
       "rep0_range_52.endclass.classification: nominal mission\n",
       "rep0_range_52.endclass.end_x: 29.23771666028621\n",
       "rep0_range_52.endclass.end_y: -0.8299853862990831\n",
       "rep0_range_52.endclass.endpt:   array(2)\n",
       "rep0_range_53.endclass.rate:         1.0\n",
       "rep0_range_53.endclass.cost:           0\n",
       "rep0_range_53.endclass.prob: 0.011764705882352941\n",
       "rep0_range_53.endclass.expected_cost:  0\n",
       "rep0_range_53.endclass.in_bound:    True\n",
       "rep0_range_53.endclass.at_finish:   True\n",
       "rep0_range_53.endclass.line_dist:      1\n",
       "rep0_range_53.endclass.num_modes:      0\n",
       "rep0_range_53.endclass.end_dist:     0.0\n",
       "rep0_range_53.endclass.tot_deviation: 0.03223606544381252\n",
       "rep0_range_53.endclass.faults:        {}\n",
       "rep0_range_53.endclass.classification: nominal mission\n",
       "rep0_range_53.endclass.end_x: 29.114064393459476\n",
       "rep0_range_53.endclass.end_y: -4.97141529517165\n",
       "rep0_range_53.endclass.endpt:   array(2)\n",
       "rep0_range_54.endclass.rate:         1.0\n",
       "rep0_range_54.endclass.cost:           0\n",
       "rep0_range_54.endclass.prob: 0.011764705882352941\n",
       "rep0_range_54.endclass.expected_cost:  0\n",
       "rep0_range_54.endclass.in_bound:    True\n",
       "rep0_range_54.endclass.at_finish:   True\n",
       "rep0_range_54.endclass.line_dist:      1\n",
       "rep0_range_54.endclass.num_modes:      0\n",
       "rep0_range_54.endclass.end_dist:     0.0\n",
       "rep0_range_54.endclass.tot_deviation: 0.016576042731110394\n",
       "rep0_range_54.endclass.faults:        {}\n",
       "rep0_range_54.endclass.classification: nominal mission\n",
       "rep0_range_54.endclass.end_x: 29.303595488012697\n",
       "rep0_range_54.endclass.end_y: -2.5842050284625966\n",
       "rep0_range_54.endclass.endpt:   array(2)\n",
       "rep0_range_55.endclass.rate:         1.0\n",
       "rep0_range_55.endclass.cost:           0\n",
       "rep0_range_55.endclass.prob: 0.011764705882352941\n",
       "rep0_range_55.endclass.expected_cost:  0\n",
       "rep0_range_55.endclass.in_bound:   False\n",
       "rep0_range_55.endclass.at_finish:  False\n",
       "rep0_range_55.endclass.line_dist:      1\n",
       "rep0_range_55.endclass.num_modes:      0\n",
       "rep0_range_55.endclass.end_dist: 11.54409096763301\n",
       "rep0_range_55.endclass.tot_deviation: 0.20001736233060288\n",
       "rep0_range_55.endclass.faults:        {}\n",
       "rep0_range_55.endclass.classification: incomplete mission\n",
       "rep0_range_55.endclass.end_x: 18.315635242908417\n",
       "rep0_range_55.endclass.end_y: -5.157488485132333\n",
       "rep0_range_55.endclass.endpt:   array(2)\n",
       "rep0_range_56.endclass.rate:         1.0\n",
       "rep0_range_56.endclass.cost:           0\n",
       "rep0_range_56.endclass.prob: 0.011764705882352941\n",
       "rep0_range_56.endclass.expected_cost:  0\n",
       "rep0_range_56.endclass.in_bound:    True\n",
       "rep0_range_56.endclass.at_finish:   True\n",
       "rep0_range_56.endclass.line_dist:      1\n",
       "rep0_range_56.endclass.num_modes:      0\n",
       "rep0_range_56.endclass.end_dist:     0.0\n",
       "rep0_range_56.endclass.tot_deviation: 0.10976061305075449\n",
       "rep0_range_56.endclass.faults:        {}\n",
       "rep0_range_56.endclass.classification: nominal mission\n",
       "rep0_range_56.endclass.end_x: 29.592755394685636\n",
       "rep0_range_56.endclass.end_y: 0.8001113444364056\n",
       "rep0_range_56.endclass.endpt:   array(2)\n",
       "rep0_range_57.endclass.rate:         1.0\n",
       "rep0_range_57.endclass.cost:           0\n",
       "rep0_range_57.endclass.prob: 0.011764705882352941\n",
       "rep0_range_57.endclass.expected_cost:  0\n",
       "rep0_range_57.endclass.in_bound:    True\n",
       "rep0_range_57.endclass.at_finish:   True\n",
       "rep0_range_57.endclass.line_dist:      1\n",
       "rep0_range_57.endclass.num_modes:      0\n",
       "rep0_range_57.endclass.end_dist:     0.0\n",
       "rep0_range_57.endclass.tot_deviation: 0.06539432566375045\n",
       "rep0_range_57.endclass.faults:        {}\n",
       "rep0_range_57.endclass.classification: nominal mission\n",
       "rep0_range_57.endclass.end_x: 29.31319210776906\n",
       "rep0_range_57.endclass.end_y: -0.8268760905770671\n",
       "rep0_range_57.endclass.endpt:   array(2)\n",
       "rep0_range_58.endclass.rate:         1.0\n",
       "rep0_range_58.endclass.cost:           0\n",
       "rep0_range_58.endclass.prob: 0.011764705882352941\n",
       "rep0_range_58.endclass.expected_cost:  0\n",
       "rep0_range_58.endclass.in_bound:    True\n",
       "rep0_range_58.endclass.at_finish:   True\n",
       "rep0_range_58.endclass.line_dist:      1\n",
       "rep0_range_58.endclass.num_modes:      0\n",
       "rep0_range_58.endclass.end_dist:     0.0\n",
       "rep0_range_58.endclass.tot_deviation: 0.03632176954016553\n",
       "rep0_range_58.endclass.faults:        {}\n",
       "rep0_range_58.endclass.classification: nominal mission\n",
       "rep0_range_58.endclass.end_x: 28.98440092513973\n",
       "rep0_range_58.endclass.end_y: -5.450945905963565\n",
       "rep0_range_58.endclass.endpt:   array(2)\n",
       "rep0_range_59.endclass.rate:         1.0\n",
       "rep0_range_59.endclass.cost:           0\n",
       "rep0_range_59.endclass.prob: 0.011764705882352941\n",
       "rep0_range_59.endclass.expected_cost:  0\n",
       "rep0_range_59.endclass.in_bound:    True\n",
       "rep0_range_59.endclass.at_finish:   True\n",
       "rep0_range_59.endclass.line_dist:      1\n",
       "rep0_range_59.endclass.num_modes:      0\n",
       "rep0_range_59.endclass.end_dist:     0.0\n",
       "rep0_range_59.endclass.tot_deviation: 0.020278746383925902\n",
       "rep0_range_59.endclass.faults:        {}\n",
       "rep0_range_59.endclass.classification: nominal mission\n",
       "rep0_range_59.endclass.end_x: 29.08254111086972\n",
       "rep0_range_59.endclass.end_y: -2.7068971005127866\n",
       "rep0_range_59.endclass.endpt:   array(2)\n",
       "rep0_range_60.endclass.rate:         1.0\n",
       "rep0_range_60.endclass.cost:           0\n",
       "rep0_range_60.endclass.prob: 0.011764705882352941\n",
       "rep0_range_60.endclass.expected_cost:  0\n",
       "rep0_range_60.endclass.in_bound:   False\n",
       "rep0_range_60.endclass.at_finish:  False\n",
       "rep0_range_60.endclass.line_dist:      1\n",
       "rep0_range_60.endclass.num_modes:      0\n",
       "rep0_range_60.endclass.end_dist: 26.345580095871306\n",
       "rep0_range_60.endclass.tot_deviation: 0.20338367346864575\n",
       "rep0_range_60.endclass.faults:        {}\n",
       "rep0_range_60.endclass.classification: incomplete mission\n",
       "rep0_range_60.endclass.end_x: 3.244172048054306\n",
       "rep0_range_60.endclass.end_y: 5.724426649145389\n",
       "rep0_range_60.endclass.endpt:   array(2)\n",
       "rep0_range_61.endclass.rate:         1.0\n",
       "rep0_range_61.endclass.cost:           0\n",
       "rep0_range_61.endclass.prob: 0.011764705882352941\n",
       "rep0_range_61.endclass.expected_cost:  0\n",
       "rep0_range_61.endclass.in_bound:    True\n",
       "rep0_range_61.endclass.at_finish:   True\n",
       "rep0_range_61.endclass.line_dist:      1\n",
       "rep0_range_61.endclass.num_modes:      0\n",
       "rep0_range_61.endclass.end_dist:     0.0\n",
       "rep0_range_61.endclass.tot_deviation: 0.11540617233743503\n",
       "rep0_range_61.endclass.faults:        {}\n",
       "rep0_range_61.endclass.classification: nominal mission\n",
       "rep0_range_61.endclass.end_x: 29.583329136273232\n",
       "rep0_range_61.endclass.end_y: 0.8720821348409515\n",
       "rep0_range_61.endclass.endpt:   array(2)\n",
       "rep0_range_62.endclass.rate:         1.0\n",
       "rep0_range_62.endclass.cost:           0\n",
       "rep0_range_62.endclass.prob: 0.011764705882352941\n",
       "rep0_range_62.endclass.expected_cost:  0\n",
       "rep0_range_62.endclass.in_bound:    True\n",
       "rep0_range_62.endclass.at_finish:   True\n",
       "rep0_range_62.endclass.line_dist:      1\n",
       "rep0_range_62.endclass.num_modes:      0\n",
       "rep0_range_62.endclass.end_dist:     0.0\n",
       "rep0_range_62.endclass.tot_deviation: 0.07052979148498371\n",
       "rep0_range_62.endclass.faults:        {}\n",
       "rep0_range_62.endclass.classification: nominal mission\n",
       "rep0_range_62.endclass.end_x: 29.34401041748718\n",
       "rep0_range_62.endclass.end_y: -0.8644398197636842\n",
       "rep0_range_62.endclass.endpt:   array(2)\n",
       "rep0_range_63.endclass.rate:         1.0\n",
       "rep0_range_63.endclass.cost:           0\n",
       "rep0_range_63.endclass.prob: 0.011764705882352941\n",
       "rep0_range_63.endclass.expected_cost:  0\n",
       "rep0_range_63.endclass.in_bound:    True\n",
       "rep0_range_63.endclass.at_finish:   True\n",
       "rep0_range_63.endclass.line_dist:      1\n",
       "rep0_range_63.endclass.num_modes:      0\n",
       "rep0_range_63.endclass.end_dist:     0.0\n",
       "rep0_range_63.endclass.tot_deviation: 0.041055902419956415\n",
       "rep0_range_63.endclass.faults:        {}\n",
       "rep0_range_63.endclass.classification: nominal mission\n",
       "rep0_range_63.endclass.end_x: 29.132488571587903\n",
       "rep0_range_63.endclass.end_y: -5.969042055913237\n",
       "rep0_range_63.endclass.endpt:   array(2)\n",
       "rep0_range_64.endclass.rate:         1.0\n",
       "rep0_range_64.endclass.cost:           0\n",
       "rep0_range_64.endclass.prob: 0.011764705882352941\n",
       "rep0_range_64.endclass.expected_cost:  0\n",
       "rep0_range_64.endclass.in_bound:    True\n",
       "rep0_range_64.endclass.at_finish:   True\n",
       "rep0_range_64.endclass.line_dist:      1\n",
       "rep0_range_64.endclass.num_modes:      0\n",
       "rep0_range_64.endclass.end_dist:     0.0\n",
       "rep0_range_64.endclass.tot_deviation: 0.024145794288878388\n",
       "rep0_range_64.endclass.faults:        {}\n",
       "rep0_range_64.endclass.classification: nominal mission\n",
       "rep0_range_64.endclass.end_x: 29.115397290789332\n",
       "rep0_range_64.endclass.end_y: -2.9764674834001332\n",
       "rep0_range_64.endclass.endpt:   array(2)\n",
       "rep0_range_65.endclass.rate:         1.0\n",
       "rep0_range_65.endclass.cost:           0\n",
       "rep0_range_65.endclass.prob: 0.011764705882352941\n",
       "rep0_range_65.endclass.expected_cost:  0\n",
       "rep0_range_65.endclass.in_bound:   False\n",
       "rep0_range_65.endclass.at_finish:  False\n",
       "rep0_range_65.endclass.line_dist:      1\n",
       "rep0_range_65.endclass.num_modes:      0\n",
       "rep0_range_65.endclass.end_dist: 26.57966178555577\n",
       "rep0_range_65.endclass.tot_deviation: 0.20284704935506792\n",
       "rep0_range_65.endclass.faults:        {}\n",
       "rep0_range_65.endclass.classification: incomplete mission\n",
       "rep0_range_65.endclass.end_x: 3.1534563435982577\n",
       "rep0_range_65.endclass.end_y: 6.314525096143149\n",
       "rep0_range_65.endclass.endpt:   array(2)\n",
       "rep0_range_66.endclass.rate:         1.0\n",
       "rep0_range_66.endclass.cost:           0\n",
       "rep0_range_66.endclass.prob: 0.011764705882352941\n",
       "rep0_range_66.endclass.expected_cost:  0\n",
       "rep0_range_66.endclass.in_bound:    True\n",
       "rep0_range_66.endclass.at_finish:  False\n",
       "rep0_range_66.endclass.line_dist:      1\n",
       "rep0_range_66.endclass.num_modes:      0\n",
       "rep0_range_66.endclass.end_dist: 2.198881636367323\n",
       "rep0_range_66.endclass.tot_deviation: 0.11854376111531574\n",
       "rep0_range_66.endclass.faults:        {}\n",
       "rep0_range_66.endclass.classification: incomplete mission\n",
       "rep0_range_66.endclass.end_x: 28.504283016988044\n",
       "rep0_range_66.endclass.end_y: 3.0813402802537593\n",
       "rep0_range_66.endclass.endpt:   array(2)\n",
       "rep0_range_67.endclass.rate:         1.0\n",
       "rep0_range_67.endclass.cost:           0\n",
       "rep0_range_67.endclass.prob: 0.011764705882352941\n",
       "rep0_range_67.endclass.expected_cost:  0\n",
       "rep0_range_67.endclass.in_bound:    True\n",
       "rep0_range_67.endclass.at_finish:   True\n",
       "rep0_range_67.endclass.line_dist:      1\n",
       "rep0_range_67.endclass.num_modes:      0\n",
       "rep0_range_67.endclass.end_dist:     0.0\n",
       "rep0_range_67.endclass.tot_deviation: 0.0771081674675882\n",
       "rep0_range_67.endclass.faults:        {}\n",
       "rep0_range_67.endclass.classification: nominal mission\n",
       "rep0_range_67.endclass.end_x: 29.336048086964233\n",
       "rep0_range_67.endclass.end_y: -0.9457348531805283\n",
       "rep0_range_67.endclass.endpt:   array(2)\n",
       "rep0_range_68.endclass.rate:         1.0\n",
       "rep0_range_68.endclass.cost:           0\n",
       "rep0_range_68.endclass.prob: 0.011764705882352941\n",
       "rep0_range_68.endclass.expected_cost:  0\n",
       "rep0_range_68.endclass.in_bound:    True\n",
       "rep0_range_68.endclass.at_finish:   True\n",
       "rep0_range_68.endclass.line_dist:      1\n",
       "rep0_range_68.endclass.num_modes:      0\n",
       "rep0_range_68.endclass.end_dist:     0.0\n",
       "rep0_range_68.endclass.tot_deviation: 0.04474820768614523\n",
       "rep0_range_68.endclass.faults:        {}\n",
       "rep0_range_68.endclass.classification: nominal mission\n",
       "rep0_range_68.endclass.end_x: 28.908813125338703\n",
       "rep0_range_68.endclass.end_y: -6.4304668406770125\n",
       "rep0_range_68.endclass.endpt:   array(2)\n",
       "rep0_range_69.endclass.rate:         1.0\n",
       "rep0_range_69.endclass.cost:           0\n",
       "rep0_range_69.endclass.prob: 0.011764705882352941\n",
       "rep0_range_69.endclass.expected_cost:  0\n",
       "rep0_range_69.endclass.in_bound:    True\n",
       "rep0_range_69.endclass.at_finish:   True\n",
       "rep0_range_69.endclass.line_dist:      1\n",
       "rep0_range_69.endclass.num_modes:      0\n",
       "rep0_range_69.endclass.end_dist:     0.0\n",
       "rep0_range_69.endclass.tot_deviation: 0.028115646146894564\n",
       "rep0_range_69.endclass.faults:        {}\n",
       "rep0_range_69.endclass.classification: nominal mission\n",
       "rep0_range_69.endclass.end_x: 29.116436099060007\n",
       "rep0_range_69.endclass.end_y: -3.225055887229985\n",
       "rep0_range_69.endclass.endpt:   array(2)\n",
       "rep0_range_70.endclass.rate:         1.0\n",
       "rep0_range_70.endclass.cost:           0\n",
       "rep0_range_70.endclass.prob: 0.011764705882352941\n",
       "rep0_range_70.endclass.expected_cost:  0\n",
       "rep0_range_70.endclass.in_bound:   False\n",
       "rep0_range_70.endclass.at_finish:  False\n",
       "rep0_range_70.endclass.line_dist:      1\n",
       "rep0_range_70.endclass.num_modes:      0\n",
       "rep0_range_70.endclass.end_dist: 26.823138110731406\n",
       "rep0_range_70.endclass.tot_deviation: 0.20645065180004699\n",
       "rep0_range_70.endclass.faults:        {}\n",
       "rep0_range_70.endclass.classification: incomplete mission\n",
       "rep0_range_70.endclass.end_x: 3.064238683651353\n",
       "rep0_range_70.endclass.end_y: 6.905349736476489\n",
       "rep0_range_70.endclass.endpt:   array(2)\n",
       "rep0_range_71.endclass.rate:         1.0\n",
       "rep0_range_71.endclass.cost:           0\n",
       "rep0_range_71.endclass.prob: 0.011764705882352941\n",
       "rep0_range_71.endclass.expected_cost:  0\n",
       "rep0_range_71.endclass.in_bound:    True\n",
       "rep0_range_71.endclass.at_finish:  False\n",
       "rep0_range_71.endclass.line_dist:      1\n",
       "rep0_range_71.endclass.num_modes:      0\n",
       "rep0_range_71.endclass.end_dist: 4.706638544330022\n",
       "rep0_range_71.endclass.tot_deviation: 0.12755065536085175\n",
       "rep0_range_71.endclass.faults:        {}\n",
       "rep0_range_71.endclass.classification: incomplete mission\n",
       "rep0_range_71.endclass.end_x: 27.36719115123559\n",
       "rep0_range_71.endclass.end_y: 5.332993393422351\n",
       "rep0_range_71.endclass.endpt:   array(2)\n",
       "rep0_range_72.endclass.rate:         1.0\n",
       "rep0_range_72.endclass.cost:           0\n",
       "rep0_range_72.endclass.prob: 0.011764705882352941\n",
       "rep0_range_72.endclass.expected_cost:  0\n",
       "rep0_range_72.endclass.in_bound:    True\n",
       "rep0_range_72.endclass.at_finish:   True\n",
       "rep0_range_72.endclass.line_dist:      1\n",
       "rep0_range_72.endclass.num_modes:      0\n",
       "rep0_range_72.endclass.end_dist:     0.0\n",
       "rep0_range_72.endclass.tot_deviation: 0.08241168312823173\n",
       "rep0_range_72.endclass.faults:        {}\n",
       "rep0_range_72.endclass.classification: nominal mission\n",
       "rep0_range_72.endclass.end_x: 29.48765747739592\n",
       "rep0_range_72.endclass.end_y: -0.7904473109208641\n",
       "rep0_range_72.endclass.endpt:   array(2)\n",
       "rep0_range_73.endclass.rate:         1.0\n",
       "rep0_range_73.endclass.cost:           0\n",
       "rep0_range_73.endclass.prob: 0.011764705882352941\n",
       "rep0_range_73.endclass.expected_cost:  0\n",
       "rep0_range_73.endclass.in_bound:    True\n",
       "rep0_range_73.endclass.at_finish:   True\n",
       "rep0_range_73.endclass.line_dist:      1\n",
       "rep0_range_73.endclass.num_modes:      0\n",
       "rep0_range_73.endclass.end_dist:     0.0\n",
       "rep0_range_73.endclass.tot_deviation: 0.048906467417241244\n",
       "rep0_range_73.endclass.faults:        {}\n",
       "rep0_range_73.endclass.classification: nominal mission\n",
       "rep0_range_73.endclass.end_x: 28.971267111905096\n",
       "rep0_range_73.endclass.end_y: -6.936898211758005\n",
       "rep0_range_73.endclass.endpt:   array(2)\n",
       "rep0_range_74.endclass.rate:         1.0\n",
       "rep0_range_74.endclass.cost:           0\n",
       "rep0_range_74.endclass.prob: 0.011764705882352941\n",
       "rep0_range_74.endclass.expected_cost:  0\n",
       "rep0_range_74.endclass.in_bound:    True\n",
       "rep0_range_74.endclass.at_finish:   True\n",
       "rep0_range_74.endclass.line_dist:      1\n",
       "rep0_range_74.endclass.num_modes:      0\n",
       "rep0_range_74.endclass.end_dist:     0.0\n",
       "rep0_range_74.endclass.tot_deviation: 0.03213489486981362\n",
       "rep0_range_74.endclass.faults:        {}\n",
       "rep0_range_74.endclass.classification: nominal mission\n",
       "rep0_range_74.endclass.end_x: 29.355563239023194\n",
       "rep0_range_74.endclass.end_y: -3.6557764559372896\n",
       "rep0_range_74.endclass.endpt:   array(2)\n",
       "rep0_range_75.endclass.rate:         1.0\n",
       "rep0_range_75.endclass.cost:           0\n",
       "rep0_range_75.endclass.prob: 0.011764705882352941\n",
       "rep0_range_75.endclass.expected_cost:  0\n",
       "rep0_range_75.endclass.in_bound:   False\n",
       "rep0_range_75.endclass.at_finish:  False\n",
       "rep0_range_75.endclass.line_dist:      1\n",
       "rep0_range_75.endclass.num_modes:      0\n",
       "rep0_range_75.endclass.end_dist: 27.100934207948242\n",
       "rep0_range_75.endclass.tot_deviation: 0.20616476938507275\n",
       "rep0_range_75.endclass.faults:        {}\n",
       "rep0_range_75.endclass.classification: incomplete mission\n",
       "rep0_range_75.endclass.end_x: 2.9544758962846203\n",
       "rep0_range_75.endclass.end_y: 7.504025499000269\n",
       "rep0_range_75.endclass.endpt:   array(2)\n",
       "rep0_range_76.endclass.rate:         1.0\n",
       "rep0_range_76.endclass.cost:           0\n",
       "rep0_range_76.endclass.prob: 0.011764705882352941\n",
       "rep0_range_76.endclass.expected_cost:  0\n",
       "rep0_range_76.endclass.in_bound:    True\n",
       "rep0_range_76.endclass.at_finish:  False\n",
       "rep0_range_76.endclass.line_dist:      1\n",
       "rep0_range_76.endclass.num_modes:      0\n",
       "rep0_range_76.endclass.end_dist: 7.172076922667674\n",
       "rep0_range_76.endclass.tot_deviation: 0.13077214484659536\n",
       "rep0_range_76.endclass.faults:        {}\n",
       "rep0_range_76.endclass.classification: incomplete mission\n",
       "rep0_range_76.endclass.end_x: 25.895516761943107\n",
       "rep0_range_76.endclass.end_y: 7.358975113627673\n",
       "rep0_range_76.endclass.endpt:   array(2)\n",
       "rep0_range_77.endclass.rate:         1.0\n",
       "rep0_range_77.endclass.cost:           0\n",
       "rep0_range_77.endclass.prob: 0.011764705882352941\n",
       "rep0_range_77.endclass.expected_cost:  0\n",
       "rep0_range_77.endclass.in_bound:    True\n",
       "rep0_range_77.endclass.at_finish:   True\n",
       "rep0_range_77.endclass.line_dist:      1\n",
       "rep0_range_77.endclass.num_modes:      0\n",
       "rep0_range_77.endclass.end_dist:     0.0\n",
       "rep0_range_77.endclass.tot_deviation: 0.08645760722947114\n",
       "rep0_range_77.endclass.faults:        {}\n",
       "rep0_range_77.endclass.classification: nominal mission\n",
       "rep0_range_77.endclass.end_x: 29.425951628409738\n",
       "rep0_range_77.endclass.end_y: -0.9372430125336007\n",
       "rep0_range_77.endclass.endpt:   array(2)\n",
       "rep0_range_78.endclass.rate:         1.0\n",
       "rep0_range_78.endclass.cost:           0\n",
       "rep0_range_78.endclass.prob: 0.011764705882352941\n",
       "rep0_range_78.endclass.expected_cost:  0\n",
       "rep0_range_78.endclass.in_bound:    True\n",
       "rep0_range_78.endclass.at_finish:   True\n",
       "rep0_range_78.endclass.line_dist:      1\n",
       "rep0_range_78.endclass.num_modes:      0\n",
       "rep0_range_78.endclass.end_dist:     0.0\n",
       "rep0_range_78.endclass.tot_deviation: 0.05242733460217779\n",
       "rep0_range_78.endclass.faults:        {}\n",
       "rep0_range_78.endclass.classification: nominal mission\n",
       "rep0_range_78.endclass.end_x: 28.99668482843865\n",
       "rep0_range_78.endclass.end_y: -7.438957825123864\n",
       "rep0_range_78.endclass.endpt:   array(2)\n",
       "rep0_range_79.endclass.rate:         1.0\n",
       "rep0_range_79.endclass.cost:           0\n",
       "rep0_range_79.endclass.prob: 0.011764705882352941\n",
       "rep0_range_79.endclass.expected_cost:  0\n",
       "rep0_range_79.endclass.in_bound:    True\n",
       "rep0_range_79.endclass.at_finish:   True\n",
       "rep0_range_79.endclass.line_dist:      1\n",
       "rep0_range_79.endclass.num_modes:      0\n",
       "rep0_range_79.endclass.end_dist:     0.0\n",
       "rep0_range_79.endclass.tot_deviation: 0.03615875502895397\n",
       "rep0_range_79.endclass.faults:        {}\n",
       "rep0_range_79.endclass.classification: nominal mission\n",
       "rep0_range_79.endclass.end_x: 29.296223597696212\n",
       "rep0_range_79.endclass.end_y: -3.868440839854516\n",
       "rep0_range_79.endclass.endpt:   array(2)\n",
       "rep0_range_80.endclass.rate:         1.0\n",
       "rep0_range_80.endclass.cost:           0\n",
       "rep0_range_80.endclass.prob: 0.011764705882352941\n",
       "rep0_range_80.endclass.expected_cost:  0\n",
       "rep0_range_80.endclass.in_bound:   False\n",
       "rep0_range_80.endclass.at_finish:  False\n",
       "rep0_range_80.endclass.line_dist:      1\n",
       "rep0_range_80.endclass.num_modes:      0\n",
       "rep0_range_80.endclass.end_dist: 27.10663026149649\n",
       "rep0_range_80.endclass.tot_deviation: 0.2291470953234815\n",
       "rep0_range_80.endclass.faults:        {}\n",
       "rep0_range_80.endclass.classification: incomplete mission\n",
       "rep0_range_80.endclass.end_x: 3.0769258596114826\n",
       "rep0_range_80.endclass.end_y: 7.894286824166977\n",
       "rep0_range_80.endclass.endpt:   array(2)\n",
       "rep0_range_81.endclass.rate:         1.0\n",
       "rep0_range_81.endclass.cost:           0\n",
       "rep0_range_81.endclass.prob: 0.011764705882352941\n",
       "rep0_range_81.endclass.expected_cost:  0\n",
       "rep0_range_81.endclass.in_bound:    True\n",
       "rep0_range_81.endclass.at_finish:  False\n",
       "rep0_range_81.endclass.line_dist:      1\n",
       "rep0_range_81.endclass.num_modes:      0\n",
       "rep0_range_81.endclass.end_dist: 8.451600957356657\n",
       "rep0_range_81.endclass.tot_deviation: 0.13644617918369573\n",
       "rep0_range_81.endclass.faults:        {}\n",
       "rep0_range_81.endclass.classification: incomplete mission\n",
       "rep0_range_81.endclass.end_x: 23.92486026024334\n",
       "rep0_range_81.endclass.end_y: 7.57456263046494\n",
       "rep0_range_81.endclass.endpt:   array(2)\n",
       "rep0_range_82.endclass.rate:         1.0\n",
       "rep0_range_82.endclass.cost:           0\n",
       "rep0_range_82.endclass.prob: 0.011764705882352941\n",
       "rep0_range_82.endclass.expected_cost:  0\n",
       "rep0_range_82.endclass.in_bound:    True\n",
       "rep0_range_82.endclass.at_finish:   True\n",
       "rep0_range_82.endclass.line_dist:      1\n",
       "rep0_range_82.endclass.num_modes:      0\n",
       "rep0_range_82.endclass.end_dist:     0.0\n",
       "rep0_range_82.endclass.tot_deviation: 0.08966577184875783\n",
       "rep0_range_82.endclass.faults:        {}\n",
       "rep0_range_82.endclass.classification: nominal mission\n",
       "rep0_range_82.endclass.end_x: 29.517328157372404\n",
       "rep0_range_82.endclass.end_y: -0.8402492510690385\n",
       "rep0_range_82.endclass.endpt:   array(2)\n",
       "rep0_range_83.endclass.rate:         1.0\n",
       "rep0_range_83.endclass.cost:           0\n",
       "rep0_range_83.endclass.prob: 0.011764705882352941\n",
       "rep0_range_83.endclass.expected_cost:  0\n",
       "rep0_range_83.endclass.in_bound:    True\n",
       "rep0_range_83.endclass.at_finish:   True\n",
       "rep0_range_83.endclass.line_dist:      1\n",
       "rep0_range_83.endclass.num_modes:      0\n",
       "rep0_range_83.endclass.end_dist:     0.0\n",
       "rep0_range_83.endclass.tot_deviation: 0.055920369123655764\n",
       "rep0_range_83.endclass.faults:        {}\n",
       "rep0_range_83.endclass.classification: nominal mission\n",
       "rep0_range_83.endclass.end_x: 28.989660201763556\n",
       "rep0_range_83.endclass.end_y: -7.932951735588295\n",
       "rep0_range_83.endclass.endpt:   array(2)\n",
       "rep0_range_84.endclass.rate:         1.0\n",
       "rep0_range_84.endclass.cost:           0\n",
       "rep0_range_84.endclass.prob: 0.011764705882352941\n",
       "rep0_range_84.endclass.expected_cost:  0\n",
       "rep0_range_84.endclass.in_bound:    True\n",
       "rep0_range_84.endclass.at_finish:   True\n",
       "rep0_range_84.endclass.line_dist:      1\n",
       "rep0_range_84.endclass.num_modes:      0\n",
       "rep0_range_84.endclass.end_dist:     0.0\n",
       "rep0_range_84.endclass.tot_deviation: 0.04015079601641714\n",
       "rep0_range_84.endclass.faults:        {}\n",
       "rep0_range_84.endclass.classification: nominal mission\n",
       "rep0_range_84.endclass.end_x: 29.22108539365357\n",
       "rep0_range_84.endclass.end_y: -4.057941864347776\n",
       "rep0_range_84.endclass.endpt:   array(2)"
      ]
     },
     "execution_count": 12,
     "metadata": {},
     "output_type": "execute_result"
    }
   ],
   "source": [
    "res, hist = prop.parameter_sample(mdl, ps_sine)\n",
    "res"
   ]
  },
  {
   "cell_type": "markdown",
   "metadata": {},
   "source": [
    "To speed up execution over large numbers of scenarios, multiprocessing can also be used to run the scenarios in parallel by passing an execution pool. This is not done here because it would require the model to be in a different file, and because the gains on a light-weight model like this are not significant."
   ]
  },
  {
   "cell_type": "markdown",
   "metadata": {},
   "source": [
    "Now that the approach has been simulated, the operational envelope can be visualized using the `fmdtools.analyze.tabulate.NominalEnvelope` class, which can be used to plot the *classification* of the model in the 1/2/3 dimensions over the set of given parameters as nominal or incomplete. \n",
    "\n",
    "Note that this classification must be in the dictionary returned from the Model's `find_classification` function at the end of the model run under the key `classification` as is done in the rover model. This classification must also be encoded as a string."
   ]
  },
  {
   "cell_type": "code",
   "execution_count": 13,
   "metadata": {
    "execution": {
     "iopub.execute_input": "2024-06-12T22:58:23.605328Z",
     "iopub.status.busy": "2024-06-12T22:58:23.605328Z",
     "iopub.status.idle": "2024-06-12T22:58:23.608592Z",
     "shell.execute_reply": "2024-06-12T22:58:23.608592Z"
    }
   },
   "outputs": [],
   "source": [
    "from fmdtools.analyze.tabulate import NominalEnvelope"
   ]
  },
  {
   "cell_type": "markdown",
   "metadata": {},
   "source": [
    "We can then use these results to visualize the operational envelope for the system over each case. In this case, the parameter ranges of the sine wave are plotted, showing that the rover can only a low ration of amplitude to wavelenght."
   ]
  },
  {
   "cell_type": "code",
   "execution_count": 14,
   "metadata": {
    "execution": {
     "iopub.execute_input": "2024-06-12T22:58:23.611638Z",
     "iopub.status.busy": "2024-06-12T22:58:23.611638Z",
     "iopub.status.idle": "2024-06-12T22:58:24.259355Z",
     "shell.execute_reply": "2024-06-12T22:58:24.259355Z"
    }
   },
   "outputs": [
    {
     "data": {
      "text/plain": [
       "(<Figure size 600x400 with 1 Axes>,\n",
       " <Axes: xlabel='p.ground.amp', ylabel='p.ground.period'>)"
      ]
     },
     "execution_count": 14,
     "metadata": {},
     "output_type": "execute_result"
    },
    {
     "data": {
      "image/png": "[encoded data removed]",
      "text/plain": [
       "<Figure size 600x400 with 1 Axes>"
      ]
     },
     "metadata": {},
     "output_type": "display_data"
    }
   ],
   "source": [
    "ne = NominalEnvelope(ps_sine, res, 'at_finish', 'p.ground.amp', 'p.ground.period', func=lambda x: x == True)\n",
    "ne.as_plot()"
   ]
  },
  {
   "cell_type": "markdown",
   "metadata": {},
   "source": [
    "While this is helpful for plotting string classifications, we also might want to compare numeric quantities (e.g., costs, hazard probabilities, etc) over the set of factors. For this, `fmdtools.analyze.tabulate.Comparison` is used, which creates a comparison which can be visualized as a table or plot."
   ]
  },
  {
   "cell_type": "code",
   "execution_count": 15,
   "metadata": {
    "execution": {
     "iopub.execute_input": "2024-06-12T22:58:24.262408Z",
     "iopub.status.busy": "2024-06-12T22:58:24.262408Z",
     "iopub.status.idle": "2024-06-12T22:58:24.385829Z",
     "shell.execute_reply": "2024-06-12T22:58:24.385829Z"
    }
   },
   "outputs": [
    {
     "data": {
      "text/html": [
       "<div>\n",
       "<style scoped>\n",
       "    .dataframe tbody tr th:only-of-type {\n",
       "        vertical-align: middle;\n",
       "    }\n",
       "\n",
       "    .dataframe tbody tr th {\n",
       "        vertical-align: top;\n",
       "    }\n",
       "\n",
       "    .dataframe thead th {\n",
       "        text-align: right;\n",
       "    }\n",
       "</style>\n",
       "<table border=\"1\" class=\"dataframe\">\n",
       "  <thead>\n",
       "    <tr style=\"text-align: right;\">\n",
       "      <th></th>\n",
       "      <th></th>\n",
       "      <th>end_dist</th>\n",
       "      <th>tot_deviation</th>\n",
       "    </tr>\n",
       "  </thead>\n",
       "  <tbody>\n",
       "    <tr>\n",
       "      <th>8.0</th>\n",
       "      <th>10</th>\n",
       "      <td>27.106630</td>\n",
       "      <td>0.229147</td>\n",
       "    </tr>\n",
       "    <tr>\n",
       "      <th>7.0</th>\n",
       "      <th>10</th>\n",
       "      <td>26.823138</td>\n",
       "      <td>0.206451</td>\n",
       "    </tr>\n",
       "    <tr>\n",
       "      <th>7.5</th>\n",
       "      <th>10</th>\n",
       "      <td>27.100934</td>\n",
       "      <td>0.206165</td>\n",
       "    </tr>\n",
       "    <tr>\n",
       "      <th>6.0</th>\n",
       "      <th>10</th>\n",
       "      <td>26.345580</td>\n",
       "      <td>0.203384</td>\n",
       "    </tr>\n",
       "    <tr>\n",
       "      <th>6.5</th>\n",
       "      <th>10</th>\n",
       "      <td>26.579662</td>\n",
       "      <td>0.202847</td>\n",
       "    </tr>\n",
       "    <tr>\n",
       "      <th>...</th>\n",
       "      <th>...</th>\n",
       "      <td>...</td>\n",
       "      <td>...</td>\n",
       "    </tr>\n",
       "    <tr>\n",
       "      <th rowspan=\"5\" valign=\"top\">0.0</th>\n",
       "      <th>30</th>\n",
       "      <td>0.000000</td>\n",
       "      <td>0.000000</td>\n",
       "    </tr>\n",
       "    <tr>\n",
       "      <th>20</th>\n",
       "      <td>0.000000</td>\n",
       "      <td>0.000000</td>\n",
       "    </tr>\n",
       "    <tr>\n",
       "      <th>40</th>\n",
       "      <td>0.000000</td>\n",
       "      <td>0.000000</td>\n",
       "    </tr>\n",
       "    <tr>\n",
       "      <th>10</th>\n",
       "      <td>0.000000</td>\n",
       "      <td>0.000000</td>\n",
       "    </tr>\n",
       "    <tr>\n",
       "      <th>50</th>\n",
       "      <td>0.000000</td>\n",
       "      <td>0.000000</td>\n",
       "    </tr>\n",
       "  </tbody>\n",
       "</table>\n",
       "<p>85 rows × 2 columns</p>\n",
       "</div>"
      ],
      "text/plain": [
       "         end_dist  tot_deviation\n",
       "8.0 10  27.106630       0.229147\n",
       "7.0 10  26.823138       0.206451\n",
       "7.5 10  27.100934       0.206165\n",
       "6.0 10  26.345580       0.203384\n",
       "6.5 10  26.579662       0.202847\n",
       "...           ...            ...\n",
       "0.0 30   0.000000       0.000000\n",
       "    20   0.000000       0.000000\n",
       "    40   0.000000       0.000000\n",
       "    10   0.000000       0.000000\n",
       "    50   0.000000       0.000000\n",
       "\n",
       "[85 rows x 2 columns]"
      ]
     },
     "execution_count": 15,
     "metadata": {},
     "output_type": "execute_result"
    }
   ],
   "source": [
    "from fmdtools.analyze.tabulate import Comparison\n",
    "\n",
    "comp = Comparison(res, ps_sine, metrics=['end_dist', 'tot_deviation'], factors=['p.ground.amp', 'p.ground.period'])\n",
    "comp.sort_by_metric(\"end_dist\")\n",
    "comp.as_table()"
   ]
  },
  {
   "cell_type": "code",
   "execution_count": 16,
   "metadata": {
    "execution": {
     "iopub.execute_input": "2024-06-12T22:58:24.388920Z",
     "iopub.status.busy": "2024-06-12T22:58:24.388920Z",
     "iopub.status.idle": "2024-06-12T22:58:24.845908Z",
     "shell.execute_reply": "2024-06-12T22:58:24.845908Z"
    }
   },
   "outputs": [
    {
     "data": {
      "image/png": "[encoded data removed]",
      "text/plain": [
       "<Figure size 2000x100 with 1 Axes>"
      ]
     },
     "metadata": {},
     "output_type": "display_data"
    }
   ],
   "source": [
    "comp.sort_by_factor(\"p.ground.period\", reverse=True)\n",
    "comp.sort_by_factor(\"p.ground.amp\")\n",
    "fig, ax = comp.as_plot(\"end_dist\", color_factor = \"p.ground.period\", figsize=(20, 1))"
   ]
  },
  {
   "cell_type": "markdown",
   "metadata": {},
   "source": [
    "This table can also be summarized on individual factors:"
   ]
  },
  {
   "cell_type": "code",
   "execution_count": 17,
   "metadata": {
    "execution": {
     "iopub.execute_input": "2024-06-12T22:58:24.848910Z",
     "iopub.status.busy": "2024-06-12T22:58:24.848910Z",
     "iopub.status.idle": "2024-06-12T22:58:24.921922Z",
     "shell.execute_reply": "2024-06-12T22:58:24.921922Z"
    }
   },
   "outputs": [
    {
     "data": {
      "text/html": [
       "<div>\n",
       "<style scoped>\n",
       "    .dataframe tbody tr th:only-of-type {\n",
       "        vertical-align: middle;\n",
       "    }\n",
       "\n",
       "    .dataframe tbody tr th {\n",
       "        vertical-align: top;\n",
       "    }\n",
       "\n",
       "    .dataframe thead th {\n",
       "        text-align: right;\n",
       "    }\n",
       "</style>\n",
       "<table border=\"1\" class=\"dataframe\">\n",
       "  <thead>\n",
       "    <tr style=\"text-align: right;\">\n",
       "      <th></th>\n",
       "      <th>end_dist</th>\n",
       "    </tr>\n",
       "  </thead>\n",
       "  <tbody>\n",
       "    <tr>\n",
       "      <th>8.0</th>\n",
       "      <td>35.558231</td>\n",
       "    </tr>\n",
       "    <tr>\n",
       "      <th>7.5</th>\n",
       "      <td>34.273011</td>\n",
       "    </tr>\n",
       "    <tr>\n",
       "      <th>7.0</th>\n",
       "      <td>31.529777</td>\n",
       "    </tr>\n",
       "    <tr>\n",
       "      <th>6.5</th>\n",
       "      <td>28.778543</td>\n",
       "    </tr>\n",
       "    <tr>\n",
       "      <th>6.0</th>\n",
       "      <td>26.345580</td>\n",
       "    </tr>\n",
       "    <tr>\n",
       "      <th>5.5</th>\n",
       "      <td>11.544091</td>\n",
       "    </tr>\n",
       "    <tr>\n",
       "      <th>5.0</th>\n",
       "      <td>8.621391</td>\n",
       "    </tr>\n",
       "    <tr>\n",
       "      <th>4.5</th>\n",
       "      <td>8.159540</td>\n",
       "    </tr>\n",
       "    <tr>\n",
       "      <th>4.0</th>\n",
       "      <td>4.796435</td>\n",
       "    </tr>\n",
       "    <tr>\n",
       "      <th>3.5</th>\n",
       "      <td>3.249137</td>\n",
       "    </tr>\n",
       "    <tr>\n",
       "      <th>3.0</th>\n",
       "      <td>0.170197</td>\n",
       "    </tr>\n",
       "    <tr>\n",
       "      <th>0.5</th>\n",
       "      <td>0.000000</td>\n",
       "    </tr>\n",
       "    <tr>\n",
       "      <th>2.5</th>\n",
       "      <td>0.000000</td>\n",
       "    </tr>\n",
       "    <tr>\n",
       "      <th>2.0</th>\n",
       "      <td>0.000000</td>\n",
       "    </tr>\n",
       "    <tr>\n",
       "      <th>1.5</th>\n",
       "      <td>0.000000</td>\n",
       "    </tr>\n",
       "    <tr>\n",
       "      <th>1.0</th>\n",
       "      <td>0.000000</td>\n",
       "    </tr>\n",
       "    <tr>\n",
       "      <th>0.0</th>\n",
       "      <td>0.000000</td>\n",
       "    </tr>\n",
       "  </tbody>\n",
       "</table>\n",
       "</div>"
      ],
      "text/plain": [
       "      end_dist\n",
       "8.0  35.558231\n",
       "7.5  34.273011\n",
       "7.0  31.529777\n",
       "6.5  28.778543\n",
       "6.0  26.345580\n",
       "5.5  11.544091\n",
       "5.0   8.621391\n",
       "4.5   8.159540\n",
       "4.0   4.796435\n",
       "3.5   3.249137\n",
       "3.0   0.170197\n",
       "0.5   0.000000\n",
       "2.5   0.000000\n",
       "2.0   0.000000\n",
       "1.5   0.000000\n",
       "1.0   0.000000\n",
       "0.0   0.000000"
      ]
     },
     "execution_count": 17,
     "metadata": {},
     "output_type": "execute_result"
    }
   ],
   "source": [
    "scomp = Comparison(res, ps_sine, metrics=['end_dist'], factors=['p.ground.amp'])\n",
    "scomp.sort_by_factor('p.ground.amp')\n",
    "scomp.as_table()"
   ]
  },
  {
   "cell_type": "code",
   "execution_count": 18,
   "metadata": {
    "execution": {
     "iopub.execute_input": "2024-06-12T22:58:24.924964Z",
     "iopub.status.busy": "2024-06-12T22:58:24.924964Z",
     "iopub.status.idle": "2024-06-12T22:58:25.053719Z",
     "shell.execute_reply": "2024-06-12T22:58:25.053719Z"
    }
   },
   "outputs": [
    {
     "data": {
      "text/plain": [
       "(<Figure size 600x400 with 1 Axes>, <Axes: xlabel='p.ground.amp'>)"
      ]
     },
     "execution_count": 18,
     "metadata": {},
     "output_type": "execute_result"
    },
    {
     "data": {
      "image/png": "[encoded data removed]",
      "text/plain": [
       "<Figure size 600x400 with 1 Axes>"
      ]
     },
     "metadata": {},
     "output_type": "display_data"
    }
   ],
   "source": [
    "scomp.as_plot(\"end_dist\")"
   ]
  },
  {
   "cell_type": "markdown",
   "metadata": {},
   "source": [
    "## Quantifying probabilities\n",
    "\n",
    "Given the ability to simulate over ranges, it can additionally be used to quantify probabilities of the different end-state classifications. `Result.state_probabilities()` can be used to quantify the probability these classifications."
   ]
  },
  {
   "cell_type": "code",
   "execution_count": 19,
   "metadata": {
    "execution": {
     "iopub.execute_input": "2024-06-12T22:58:25.057042Z",
     "iopub.status.busy": "2024-06-12T22:58:25.057042Z",
     "iopub.status.idle": "2024-06-12T22:58:25.070089Z",
     "shell.execute_reply": "2024-06-12T22:58:25.069110Z"
    }
   },
   "outputs": [
    {
     "data": {
      "text/plain": [
       "{'nominal mission': 0.8235294117647052,\n",
       " 'incomplete mission': 0.17647058823529416}"
      ]
     },
     "execution_count": 19,
     "metadata": {},
     "output_type": "execute_result"
    }
   ],
   "source": [
    "res.state_probabilities()"
   ]
  },
  {
   "cell_type": "markdown",
   "metadata": {},
   "source": [
    "## Nested Scenario Sampling\n",
    "\n",
    "Thus far, we have introduced two types of samples \n",
    "- `FaultSample`, which is used to evaluate the system resilience to a set of faults\n",
    "- `ParameterSample`, which is used to evaluate system performance over a set of parameters\n",
    "\n",
    "These both have their limitations when used alone. Simulating a `FaultSample` using `propagate.fault_sample` solely evaluates evaluates fault-driven hazards in a single nominal set of parameters (which may not generalize) while simulating a `ParameterSample` using `propagate.parameter_sample` evaluates the systerm performance/resilience to external parameters (But not faults).\n",
    "\n",
    "To resolve these limitations, one can use a *nested* scenario sampling approach where a `SampleApproach` is simulated at each parameter level of a `ParameterSample`, giving the resilience of the system to faults over a set of operational parameters. This is called using the `propagate.nested_sample` method."
   ]
  },
  {
   "cell_type": "markdown",
   "metadata": {},
   "source": [
    "Here we use the nominal approach generated earlier with a default sampling approach to quantify resilience."
   ]
  },
  {
   "cell_type": "code",
   "execution_count": 20,
   "metadata": {
    "execution": {
     "iopub.execute_input": "2024-06-12T22:58:25.073089Z",
     "iopub.status.busy": "2024-06-12T22:58:25.072098Z",
     "iopub.status.idle": "2024-06-12T22:58:25.077656Z",
     "shell.execute_reply": "2024-06-12T22:58:25.077656Z"
    }
   },
   "outputs": [
    {
     "data": {
      "text/plain": [
       "SampleApproach for rover with: \n",
       " faultdomains: power\n",
       " faultsamples: power"
      ]
     },
     "execution_count": 20,
     "metadata": {},
     "output_type": "execute_result"
    }
   ],
   "source": [
    "from fmdtools.sim.sample import SampleApproach\n",
    "sa = SampleApproach(mdl)\n",
    "# adding fault domains\n",
    "sa.add_faultdomain(\"power\", \"all_fxn_modes\", \"power\")\n",
    "sa.add_faultsample(\"power\", \"fault_times\", \"power\", [1,2])\n",
    "sa"
   ]
  },
  {
   "cell_type": "code",
   "execution_count": 21,
   "metadata": {
    "execution": {
     "iopub.execute_input": "2024-06-12T22:58:25.080660Z",
     "iopub.status.busy": "2024-06-12T22:58:25.079660Z",
     "iopub.status.idle": "2024-06-12T22:59:27.474951Z",
     "shell.execute_reply": "2024-06-12T22:59:27.474951Z"
    }
   },
   "outputs": [
    {
     "name": "stderr",
     "output_type": "stream",
     "text": [
      "\r",
      "NESTED SCENARIOS COMPLETE:   0%|          | 0/85 [00:00<?, ?it/s]"
     ]
    },
    {
     "name": "stderr",
     "output_type": "stream",
     "text": [
      "\r",
      "NESTED SCENARIOS COMPLETE:   1%|          | 1/85 [00:00<00:54,  1.55it/s]"
     ]
    },
    {
     "name": "stderr",
     "output_type": "stream",
     "text": [
      "\r",
      "NESTED SCENARIOS COMPLETE:   2%|▏         | 2/85 [00:01<00:53,  1.54it/s]"
     ]
    },
    {
     "name": "stderr",
     "output_type": "stream",
     "text": [
      "\r",
      "NESTED SCENARIOS COMPLETE:   4%|▎         | 3/85 [00:01<00:53,  1.55it/s]"
     ]
    },
    {
     "name": "stderr",
     "output_type": "stream",
     "text": [
      "\r",
      "NESTED SCENARIOS COMPLETE:   5%|▍         | 4/85 [00:02<00:52,  1.55it/s]"
     ]
    },
    {
     "name": "stderr",
     "output_type": "stream",
     "text": [
      "\r",
      "NESTED SCENARIOS COMPLETE:   6%|▌         | 5/85 [00:03<00:52,  1.54it/s]"
     ]
    },
    {
     "name": "stderr",
     "output_type": "stream",
     "text": [
      "\r",
      "NESTED SCENARIOS COMPLETE:   7%|▋         | 6/85 [00:03<00:52,  1.52it/s]"
     ]
    },
    {
     "name": "stderr",
     "output_type": "stream",
     "text": [
      "\r",
      "NESTED SCENARIOS COMPLETE:   8%|▊         | 7/85 [00:04<00:51,  1.50it/s]"
     ]
    },
    {
     "name": "stderr",
     "output_type": "stream",
     "text": [
      "\r",
      "NESTED SCENARIOS COMPLETE:   9%|▉         | 8/85 [00:05<00:51,  1.50it/s]"
     ]
    },
    {
     "name": "stderr",
     "output_type": "stream",
     "text": [
      "\r",
      "NESTED SCENARIOS COMPLETE:  11%|█         | 9/85 [00:05<00:51,  1.49it/s]"
     ]
    },
    {
     "name": "stderr",
     "output_type": "stream",
     "text": [
      "\r",
      "NESTED SCENARIOS COMPLETE:  12%|█▏        | 10/85 [00:06<00:49,  1.50it/s]"
     ]
    },
    {
     "name": "stderr",
     "output_type": "stream",
     "text": [
      "\r",
      "NESTED SCENARIOS COMPLETE:  13%|█▎        | 11/85 [00:07<00:50,  1.46it/s]"
     ]
    },
    {
     "name": "stderr",
     "output_type": "stream",
     "text": [
      "\r",
      "NESTED SCENARIOS COMPLETE:  14%|█▍        | 12/85 [00:08<00:49,  1.47it/s]"
     ]
    },
    {
     "name": "stderr",
     "output_type": "stream",
     "text": [
      "\r",
      "NESTED SCENARIOS COMPLETE:  15%|█▌        | 13/85 [00:08<00:49,  1.47it/s]"
     ]
    },
    {
     "name": "stderr",
     "output_type": "stream",
     "text": [
      "\r",
      "NESTED SCENARIOS COMPLETE:  16%|█▋        | 14/85 [00:09<00:48,  1.47it/s]"
     ]
    },
    {
     "name": "stderr",
     "output_type": "stream",
     "text": [
      "\r",
      "NESTED SCENARIOS COMPLETE:  18%|█▊        | 15/85 [00:10<00:47,  1.47it/s]"
     ]
    },
    {
     "name": "stderr",
     "output_type": "stream",
     "text": [
      "\r",
      "NESTED SCENARIOS COMPLETE:  19%|█▉        | 16/85 [00:10<00:48,  1.43it/s]"
     ]
    },
    {
     "name": "stderr",
     "output_type": "stream",
     "text": [
      "\r",
      "NESTED SCENARIOS COMPLETE:  20%|██        | 17/85 [00:11<00:47,  1.43it/s]"
     ]
    },
    {
     "name": "stderr",
     "output_type": "stream",
     "text": [
      "\r",
      "NESTED SCENARIOS COMPLETE:  21%|██        | 18/85 [00:12<00:46,  1.45it/s]"
     ]
    },
    {
     "name": "stderr",
     "output_type": "stream",
     "text": [
      "\r",
      "NESTED SCENARIOS COMPLETE:  22%|██▏       | 19/85 [00:12<00:45,  1.46it/s]"
     ]
    },
    {
     "name": "stderr",
     "output_type": "stream",
     "text": [
      "\r",
      "NESTED SCENARIOS COMPLETE:  24%|██▎       | 20/85 [00:13<00:44,  1.46it/s]"
     ]
    },
    {
     "name": "stderr",
     "output_type": "stream",
     "text": [
      "\r",
      "NESTED SCENARIOS COMPLETE:  25%|██▍       | 21/85 [00:14<00:46,  1.38it/s]"
     ]
    },
    {
     "name": "stderr",
     "output_type": "stream",
     "text": [
      "\r",
      "NESTED SCENARIOS COMPLETE:  26%|██▌       | 22/85 [00:15<00:45,  1.39it/s]"
     ]
    },
    {
     "name": "stderr",
     "output_type": "stream",
     "text": [
      "\r",
      "NESTED SCENARIOS COMPLETE:  27%|██▋       | 23/85 [00:15<00:44,  1.41it/s]"
     ]
    },
    {
     "name": "stderr",
     "output_type": "stream",
     "text": [
      "\r",
      "NESTED SCENARIOS COMPLETE:  28%|██▊       | 24/85 [00:16<00:43,  1.39it/s]"
     ]
    },
    {
     "name": "stderr",
     "output_type": "stream",
     "text": [
      "\r",
      "NESTED SCENARIOS COMPLETE:  29%|██▉       | 25/85 [00:17<00:42,  1.41it/s]"
     ]
    },
    {
     "name": "stderr",
     "output_type": "stream",
     "text": [
      "\r",
      "NESTED SCENARIOS COMPLETE:  31%|███       | 26/85 [00:17<00:44,  1.33it/s]"
     ]
    },
    {
     "name": "stderr",
     "output_type": "stream",
     "text": [
      "\r",
      "NESTED SCENARIOS COMPLETE:  32%|███▏      | 27/85 [00:18<00:43,  1.34it/s]"
     ]
    },
    {
     "name": "stderr",
     "output_type": "stream",
     "text": [
      "\r",
      "NESTED SCENARIOS COMPLETE:  33%|███▎      | 28/85 [00:19<00:41,  1.37it/s]"
     ]
    },
    {
     "name": "stderr",
     "output_type": "stream",
     "text": [
      "\r",
      "NESTED SCENARIOS COMPLETE:  34%|███▍      | 29/85 [00:20<00:40,  1.40it/s]"
     ]
    },
    {
     "name": "stderr",
     "output_type": "stream",
     "text": [
      "\r",
      "NESTED SCENARIOS COMPLETE:  35%|███▌      | 30/85 [00:20<00:38,  1.42it/s]"
     ]
    },
    {
     "name": "stderr",
     "output_type": "stream",
     "text": [
      "\r",
      "NESTED SCENARIOS COMPLETE:  36%|███▋      | 31/85 [00:21<00:41,  1.30it/s]"
     ]
    },
    {
     "name": "stderr",
     "output_type": "stream",
     "text": [
      "\r",
      "NESTED SCENARIOS COMPLETE:  38%|███▊      | 32/85 [00:22<00:40,  1.31it/s]"
     ]
    },
    {
     "name": "stderr",
     "output_type": "stream",
     "text": [
      "\r",
      "NESTED SCENARIOS COMPLETE:  39%|███▉      | 33/85 [00:23<00:38,  1.34it/s]"
     ]
    },
    {
     "name": "stderr",
     "output_type": "stream",
     "text": [
      "\r",
      "NESTED SCENARIOS COMPLETE:  40%|████      | 34/85 [00:23<00:37,  1.37it/s]"
     ]
    },
    {
     "name": "stderr",
     "output_type": "stream",
     "text": [
      "\r",
      "NESTED SCENARIOS COMPLETE:  41%|████      | 35/85 [00:24<00:35,  1.39it/s]"
     ]
    },
    {
     "name": "stderr",
     "output_type": "stream",
     "text": [
      "\r",
      "NESTED SCENARIOS COMPLETE:  42%|████▏     | 36/85 [00:25<00:38,  1.29it/s]"
     ]
    },
    {
     "name": "stderr",
     "output_type": "stream",
     "text": [
      "\r",
      "NESTED SCENARIOS COMPLETE:  44%|████▎     | 37/85 [00:26<00:37,  1.29it/s]"
     ]
    },
    {
     "name": "stderr",
     "output_type": "stream",
     "text": [
      "\r",
      "NESTED SCENARIOS COMPLETE:  45%|████▍     | 38/85 [00:26<00:35,  1.32it/s]"
     ]
    },
    {
     "name": "stderr",
     "output_type": "stream",
     "text": [
      "\r",
      "NESTED SCENARIOS COMPLETE:  46%|████▌     | 39/85 [00:27<00:34,  1.35it/s]"
     ]
    },
    {
     "name": "stderr",
     "output_type": "stream",
     "text": [
      "\r",
      "NESTED SCENARIOS COMPLETE:  47%|████▋     | 40/85 [00:28<00:32,  1.38it/s]"
     ]
    },
    {
     "name": "stderr",
     "output_type": "stream",
     "text": [
      "\r",
      "NESTED SCENARIOS COMPLETE:  48%|████▊     | 41/85 [00:29<00:34,  1.28it/s]"
     ]
    },
    {
     "name": "stderr",
     "output_type": "stream",
     "text": [
      "\r",
      "NESTED SCENARIOS COMPLETE:  49%|████▉     | 42/85 [00:30<00:33,  1.27it/s]"
     ]
    },
    {
     "name": "stderr",
     "output_type": "stream",
     "text": [
      "\r",
      "NESTED SCENARIOS COMPLETE:  51%|█████     | 43/85 [00:30<00:32,  1.30it/s]"
     ]
    },
    {
     "name": "stderr",
     "output_type": "stream",
     "text": [
      "\r",
      "NESTED SCENARIOS COMPLETE:  52%|█████▏    | 44/85 [00:31<00:30,  1.33it/s]"
     ]
    },
    {
     "name": "stderr",
     "output_type": "stream",
     "text": [
      "\r",
      "NESTED SCENARIOS COMPLETE:  53%|█████▎    | 45/85 [00:32<00:29,  1.37it/s]"
     ]
    },
    {
     "name": "stderr",
     "output_type": "stream",
     "text": [
      "\r",
      "NESTED SCENARIOS COMPLETE:  54%|█████▍    | 46/85 [00:33<00:30,  1.27it/s]"
     ]
    },
    {
     "name": "stderr",
     "output_type": "stream",
     "text": [
      "\r",
      "NESTED SCENARIOS COMPLETE:  55%|█████▌    | 47/85 [00:33<00:30,  1.26it/s]"
     ]
    },
    {
     "name": "stderr",
     "output_type": "stream",
     "text": [
      "\r",
      "NESTED SCENARIOS COMPLETE:  56%|█████▋    | 48/85 [00:34<00:28,  1.28it/s]"
     ]
    },
    {
     "name": "stderr",
     "output_type": "stream",
     "text": [
      "\r",
      "NESTED SCENARIOS COMPLETE:  58%|█████▊    | 49/85 [00:35<00:27,  1.32it/s]"
     ]
    },
    {
     "name": "stderr",
     "output_type": "stream",
     "text": [
      "\r",
      "NESTED SCENARIOS COMPLETE:  59%|█████▉    | 50/85 [00:36<00:25,  1.35it/s]"
     ]
    },
    {
     "name": "stderr",
     "output_type": "stream",
     "text": [
      "\r",
      "NESTED SCENARIOS COMPLETE:  60%|██████    | 51/85 [00:36<00:26,  1.26it/s]"
     ]
    },
    {
     "name": "stderr",
     "output_type": "stream",
     "text": [
      "\r",
      "NESTED SCENARIOS COMPLETE:  61%|██████    | 52/85 [00:37<00:26,  1.23it/s]"
     ]
    },
    {
     "name": "stderr",
     "output_type": "stream",
     "text": [
      "\r",
      "NESTED SCENARIOS COMPLETE:  62%|██████▏   | 53/85 [00:38<00:25,  1.26it/s]"
     ]
    },
    {
     "name": "stderr",
     "output_type": "stream",
     "text": [
      "\r",
      "NESTED SCENARIOS COMPLETE:  64%|██████▎   | 54/85 [00:39<00:24,  1.29it/s]"
     ]
    },
    {
     "name": "stderr",
     "output_type": "stream",
     "text": [
      "\r",
      "NESTED SCENARIOS COMPLETE:  65%|██████▍   | 55/85 [00:40<00:22,  1.32it/s]"
     ]
    },
    {
     "name": "stderr",
     "output_type": "stream",
     "text": [
      "\r",
      "NESTED SCENARIOS COMPLETE:  66%|██████▌   | 56/85 [00:40<00:22,  1.26it/s]"
     ]
    },
    {
     "name": "stderr",
     "output_type": "stream",
     "text": [
      "\r",
      "NESTED SCENARIOS COMPLETE:  67%|██████▋   | 57/85 [00:41<00:23,  1.19it/s]"
     ]
    },
    {
     "name": "stderr",
     "output_type": "stream",
     "text": [
      "\r",
      "NESTED SCENARIOS COMPLETE:  68%|██████▊   | 58/85 [00:42<00:22,  1.22it/s]"
     ]
    },
    {
     "name": "stderr",
     "output_type": "stream",
     "text": [
      "\r",
      "NESTED SCENARIOS COMPLETE:  69%|██████▉   | 59/85 [00:43<00:20,  1.26it/s]"
     ]
    },
    {
     "name": "stderr",
     "output_type": "stream",
     "text": [
      "\r",
      "NESTED SCENARIOS COMPLETE:  71%|███████   | 60/85 [00:44<00:19,  1.30it/s]"
     ]
    },
    {
     "name": "stderr",
     "output_type": "stream",
     "text": [
      "\r",
      "NESTED SCENARIOS COMPLETE:  72%|███████▏  | 61/85 [00:44<00:15,  1.53it/s]"
     ]
    },
    {
     "name": "stderr",
     "output_type": "stream",
     "text": [
      "\r",
      "NESTED SCENARIOS COMPLETE:  73%|███████▎  | 62/85 [00:45<00:16,  1.37it/s]"
     ]
    },
    {
     "name": "stderr",
     "output_type": "stream",
     "text": [
      "\r",
      "NESTED SCENARIOS COMPLETE:  74%|███████▍  | 63/85 [00:46<00:16,  1.34it/s]"
     ]
    },
    {
     "name": "stderr",
     "output_type": "stream",
     "text": [
      "\r",
      "NESTED SCENARIOS COMPLETE:  75%|███████▌  | 64/85 [00:46<00:15,  1.34it/s]"
     ]
    },
    {
     "name": "stderr",
     "output_type": "stream",
     "text": [
      "\r",
      "NESTED SCENARIOS COMPLETE:  76%|███████▋  | 65/85 [00:47<00:14,  1.36it/s]"
     ]
    },
    {
     "name": "stderr",
     "output_type": "stream",
     "text": [
      "\r",
      "NESTED SCENARIOS COMPLETE:  78%|███████▊  | 66/85 [00:47<00:12,  1.58it/s]"
     ]
    },
    {
     "name": "stderr",
     "output_type": "stream",
     "text": [
      "\r",
      "NESTED SCENARIOS COMPLETE:  79%|███████▉  | 67/85 [00:48<00:12,  1.39it/s]"
     ]
    },
    {
     "name": "stderr",
     "output_type": "stream",
     "text": [
      "\r",
      "NESTED SCENARIOS COMPLETE:  80%|████████  | 68/85 [00:49<00:12,  1.34it/s]"
     ]
    },
    {
     "name": "stderr",
     "output_type": "stream",
     "text": [
      "\r",
      "NESTED SCENARIOS COMPLETE:  81%|████████  | 69/85 [00:50<00:11,  1.34it/s]"
     ]
    },
    {
     "name": "stderr",
     "output_type": "stream",
     "text": [
      "\r",
      "NESTED SCENARIOS COMPLETE:  82%|████████▏ | 70/85 [00:51<00:11,  1.36it/s]"
     ]
    },
    {
     "name": "stderr",
     "output_type": "stream",
     "text": [
      "\r",
      "NESTED SCENARIOS COMPLETE:  84%|████████▎ | 71/85 [00:51<00:08,  1.59it/s]"
     ]
    },
    {
     "name": "stderr",
     "output_type": "stream",
     "text": [
      "\r",
      "NESTED SCENARIOS COMPLETE:  85%|████████▍ | 72/85 [00:52<00:09,  1.41it/s]"
     ]
    },
    {
     "name": "stderr",
     "output_type": "stream",
     "text": [
      "\r",
      "NESTED SCENARIOS COMPLETE:  86%|████████▌ | 73/85 [00:53<00:08,  1.34it/s]"
     ]
    },
    {
     "name": "stderr",
     "output_type": "stream",
     "text": [
      "\r",
      "NESTED SCENARIOS COMPLETE:  87%|████████▋ | 74/85 [00:54<00:08,  1.33it/s]"
     ]
    },
    {
     "name": "stderr",
     "output_type": "stream",
     "text": [
      "\r",
      "NESTED SCENARIOS COMPLETE:  88%|████████▊ | 75/85 [00:54<00:07,  1.34it/s]"
     ]
    },
    {
     "name": "stderr",
     "output_type": "stream",
     "text": [
      "\r",
      "NESTED SCENARIOS COMPLETE:  89%|████████▉ | 76/85 [00:55<00:05,  1.56it/s]"
     ]
    },
    {
     "name": "stderr",
     "output_type": "stream",
     "text": [
      "\r",
      "NESTED SCENARIOS COMPLETE:  91%|█████████ | 77/85 [00:56<00:05,  1.37it/s]"
     ]
    },
    {
     "name": "stderr",
     "output_type": "stream",
     "text": [
      "\r",
      "NESTED SCENARIOS COMPLETE:  92%|█████████▏| 78/85 [00:56<00:05,  1.30it/s]"
     ]
    },
    {
     "name": "stderr",
     "output_type": "stream",
     "text": [
      "\r",
      "NESTED SCENARIOS COMPLETE:  93%|█████████▎| 79/85 [00:57<00:04,  1.29it/s]"
     ]
    },
    {
     "name": "stderr",
     "output_type": "stream",
     "text": [
      "\r",
      "NESTED SCENARIOS COMPLETE:  94%|█████████▍| 80/85 [00:58<00:03,  1.30it/s]"
     ]
    },
    {
     "name": "stderr",
     "output_type": "stream",
     "text": [
      "\r",
      "NESTED SCENARIOS COMPLETE:  95%|█████████▌| 81/85 [00:58<00:02,  1.53it/s]"
     ]
    },
    {
     "name": "stderr",
     "output_type": "stream",
     "text": [
      "\r",
      "NESTED SCENARIOS COMPLETE:  96%|█████████▋| 82/85 [00:59<00:02,  1.36it/s]"
     ]
    },
    {
     "name": "stderr",
     "output_type": "stream",
     "text": [
      "\r",
      "NESTED SCENARIOS COMPLETE:  98%|█████████▊| 83/85 [01:00<00:01,  1.29it/s]"
     ]
    },
    {
     "name": "stderr",
     "output_type": "stream",
     "text": [
      "\r",
      "NESTED SCENARIOS COMPLETE:  99%|█████████▉| 84/85 [01:01<00:00,  1.29it/s]"
     ]
    },
    {
     "name": "stderr",
     "output_type": "stream",
     "text": [
      "\r",
      "NESTED SCENARIOS COMPLETE: 100%|██████████| 85/85 [01:02<00:00,  1.30it/s]"
     ]
    },
    {
     "name": "stderr",
     "output_type": "stream",
     "text": [
      "\r",
      "NESTED SCENARIOS COMPLETE: 100%|██████████| 85/85 [01:02<00:00,  1.37it/s]"
     ]
    },
    {
     "name": "stderr",
     "output_type": "stream",
     "text": [
      "\n"
     ]
    }
   ],
   "source": [
    "\n",
    "nest_res, nest_hist, apps = prop.nested_sample(mdl, ps_sine,\n",
    "                                               faultdomains = {\"power\": (('all_fxn_modes', 'power'), {})},\n",
    "                                               faultsamples = {\"power\": ((\"fault_times\", \"power\", [1,2]), {})})"
   ]
  },
  {
   "cell_type": "markdown",
   "metadata": {},
   "source": [
    " The resulting endclass/mdlhist dictionary is in turn nested within operational scenarios."
   ]
  },
  {
   "cell_type": "code",
   "execution_count": 22,
   "metadata": {
    "execution": {
     "iopub.execute_input": "2024-06-12T22:59:27.479124Z",
     "iopub.status.busy": "2024-06-12T22:59:27.478110Z",
     "iopub.status.idle": "2024-06-12T22:59:27.491541Z",
     "shell.execute_reply": "2024-06-12T22:59:27.490510Z"
    }
   },
   "outputs": [
    {
     "data": {
      "text/plain": [
       "dict_keys(['rep0_range_0.power_no_charge_t1.endclass.rate', 'rep0_range_0.power_no_charge_t1.endclass.cost', 'rep0_range_0.power_no_charge_t1.endclass.prob', 'rep0_range_0.power_no_charge_t1.endclass.expected_cost', 'rep0_range_0.power_no_charge_t1.endclass.in_bound', 'rep0_range_0.power_no_charge_t1.endclass.at_finish', 'rep0_range_0.power_no_charge_t1.endclass.line_dist', 'rep0_range_0.power_no_charge_t1.endclass.num_modes', 'rep0_range_0.power_no_charge_t1.endclass.end_dist', 'rep0_range_0.power_no_charge_t1.endclass.tot_deviation', 'rep0_range_0.power_no_charge_t1.endclass.faults', 'rep0_range_0.power_no_charge_t1.endclass.classification', 'rep0_range_0.power_no_charge_t1.endclass.end_x', 'rep0_range_0.power_no_charge_t1.endclass.end_y', 'rep0_range_0.power_no_charge_t1.endclass.endpt', 'rep0_range_0.power_no_charge_t2.endclass.rate', 'rep0_range_0.power_no_charge_t2.endclass.cost', 'rep0_range_0.power_no_charge_t2.endclass.prob', 'rep0_range_0.power_no_charge_t2.endclass.expected_cost', 'rep0_range_0.power_no_charge_t2.endclass.in_bound', 'rep0_range_0.power_no_charge_t2.endclass.at_finish', 'rep0_range_0.power_no_charge_t2.endclass.line_dist', 'rep0_range_0.power_no_charge_t2.endclass.num_modes', 'rep0_range_0.power_no_charge_t2.endclass.end_dist', 'rep0_range_0.power_no_charge_t2.endclass.tot_deviation', 'rep0_range_0.power_no_charge_t2.endclass.faults', 'rep0_range_0.power_no_charge_t2.endclass.classification', 'rep0_range_0.power_no_charge_t2.endclass.end_x', 'rep0_range_0.power_no_charge_t2.endclass.end_y', 'rep0_range_0.power_no_charge_t2.endclass.endpt', 'rep0_range_0.power_short_t1.endclass.rate', 'rep0_range_0.power_short_t1.endclass.cost', 'rep0_range_0.power_short_t1.endclass.prob', 'rep0_range_0.power_short_t1.endclass.expected_cost', 'rep0_range_0.power_short_t1.endclass.in_bound', 'rep0_range_0.power_short_t1.endclass.at_finish', 'rep0_range_0.power_short_t1.endclass.line_dist', 'rep0_range_0.power_short_t1.endclass.num_modes', 'rep0_range_0.power_short_t1.endclass.end_dist', 'rep0_range_0.power_short_t1.endclass.tot_deviation', 'rep0_range_0.power_short_t1.endclass.faults', 'rep0_range_0.power_short_t1.endclass.classification', 'rep0_range_0.power_short_t1.endclass.end_x', 'rep0_range_0.power_short_t1.endclass.end_y', 'rep0_range_0.power_short_t1.endclass.endpt', 'rep0_range_0.power_short_t2.endclass.rate', 'rep0_range_0.power_short_t2.endclass.cost', 'rep0_range_0.power_short_t2.endclass.prob', 'rep0_range_0.power_short_t2.endclass.expected_cost', 'rep0_range_0.power_short_t2.endclass.in_bound', 'rep0_range_0.power_short_t2.endclass.at_finish', 'rep0_range_0.power_short_t2.endclass.line_dist', 'rep0_range_0.power_short_t2.endclass.num_modes', 'rep0_range_0.power_short_t2.endclass.end_dist', 'rep0_range_0.power_short_t2.endclass.tot_deviation', 'rep0_range_0.power_short_t2.endclass.faults', 'rep0_range_0.power_short_t2.endclass.classification', 'rep0_range_0.power_short_t2.endclass.end_x', 'rep0_range_0.power_short_t2.endclass.end_y', 'rep0_range_0.power_short_t2.endclass.endpt', 'rep0_range_0.nominal.endclass.rate', 'rep0_range_0.nominal.endclass.cost', 'rep0_range_0.nominal.endclass.prob', 'rep0_range_0.nominal.endclass.expected_cost', 'rep0_range_0.nominal.endclass.in_bound', 'rep0_range_0.nominal.endclass.at_finish', 'rep0_range_0.nominal.endclass.line_dist', 'rep0_range_0.nominal.endclass.num_modes', 'rep0_range_0.nominal.endclass.end_dist', 'rep0_range_0.nominal.endclass.tot_deviation', 'rep0_range_0.nominal.endclass.faults', 'rep0_range_0.nominal.endclass.classification', 'rep0_range_0.nominal.endclass.end_x', 'rep0_range_0.nominal.endclass.end_y', 'rep0_range_0.nominal.endclass.endpt', 'rep0_range_1.power_no_charge_t1.endclass.rate', 'rep0_range_1.power_no_charge_t1.endclass.cost', 'rep0_range_1.power_no_charge_t1.endclass.prob', 'rep0_range_1.power_no_charge_t1.endclass.expected_cost', 'rep0_range_1.power_no_charge_t1.endclass.in_bound', 'rep0_range_1.power_no_charge_t1.endclass.at_finish', 'rep0_range_1.power_no_charge_t1.endclass.line_dist', 'rep0_range_1.power_no_charge_t1.endclass.num_modes', 'rep0_range_1.power_no_charge_t1.endclass.end_dist', 'rep0_range_1.power_no_charge_t1.endclass.tot_deviation', 'rep0_range_1.power_no_charge_t1.endclass.faults', 'rep0_range_1.power_no_charge_t1.endclass.classification', 'rep0_range_1.power_no_charge_t1.endclass.end_x', 'rep0_range_1.power_no_charge_t1.endclass.end_y', 'rep0_range_1.power_no_charge_t1.endclass.endpt', 'rep0_range_1.power_no_charge_t2.endclass.rate', 'rep0_range_1.power_no_charge_t2.endclass.cost', 'rep0_range_1.power_no_charge_t2.endclass.prob', 'rep0_range_1.power_no_charge_t2.endclass.expected_cost', 'rep0_range_1.power_no_charge_t2.endclass.in_bound', 'rep0_range_1.power_no_charge_t2.endclass.at_finish', 'rep0_range_1.power_no_charge_t2.endclass.line_dist', 'rep0_range_1.power_no_charge_t2.endclass.num_modes', 'rep0_range_1.power_no_charge_t2.endclass.end_dist', 'rep0_range_1.power_no_charge_t2.endclass.tot_deviation', 'rep0_range_1.power_no_charge_t2.endclass.faults', 'rep0_range_1.power_no_charge_t2.endclass.classification', 'rep0_range_1.power_no_charge_t2.endclass.end_x', 'rep0_range_1.power_no_charge_t2.endclass.end_y', 'rep0_range_1.power_no_charge_t2.endclass.endpt', 'rep0_range_1.power_short_t1.endclass.rate', 'rep0_range_1.power_short_t1.endclass.cost', 'rep0_range_1.power_short_t1.endclass.prob', 'rep0_range_1.power_short_t1.endclass.expected_cost', 'rep0_range_1.power_short_t1.endclass.in_bound', 'rep0_range_1.power_short_t1.endclass.at_finish', 'rep0_range_1.power_short_t1.endclass.line_dist', 'rep0_range_1.power_short_t1.endclass.num_modes', 'rep0_range_1.power_short_t1.endclass.end_dist', 'rep0_range_1.power_short_t1.endclass.tot_deviation', 'rep0_range_1.power_short_t1.endclass.faults', 'rep0_range_1.power_short_t1.endclass.classification', 'rep0_range_1.power_short_t1.endclass.end_x', 'rep0_range_1.power_short_t1.endclass.end_y', 'rep0_range_1.power_short_t1.endclass.endpt', 'rep0_range_1.power_short_t2.endclass.rate', 'rep0_range_1.power_short_t2.endclass.cost', 'rep0_range_1.power_short_t2.endclass.prob', 'rep0_range_1.power_short_t2.endclass.expected_cost', 'rep0_range_1.power_short_t2.endclass.in_bound', 'rep0_range_1.power_short_t2.endclass.at_finish', 'rep0_range_1.power_short_t2.endclass.line_dist', 'rep0_range_1.power_short_t2.endclass.num_modes', 'rep0_range_1.power_short_t2.endclass.end_dist', 'rep0_range_1.power_short_t2.endclass.tot_deviation', 'rep0_range_1.power_short_t2.endclass.faults', 'rep0_range_1.power_short_t2.endclass.classification', 'rep0_range_1.power_short_t2.endclass.end_x', 'rep0_range_1.power_short_t2.endclass.end_y', 'rep0_range_1.power_short_t2.endclass.endpt', 'rep0_range_1.nominal.endclass.rate', 'rep0_range_1.nominal.endclass.cost', 'rep0_range_1.nominal.endclass.prob', 'rep0_range_1.nominal.endclass.expected_cost', 'rep0_range_1.nominal.endclass.in_bound', 'rep0_range_1.nominal.endclass.at_finish', 'rep0_range_1.nominal.endclass.line_dist', 'rep0_range_1.nominal.endclass.num_modes', 'rep0_range_1.nominal.endclass.end_dist', 'rep0_range_1.nominal.endclass.tot_deviation', 'rep0_range_1.nominal.endclass.faults', 'rep0_range_1.nominal.endclass.classification', 'rep0_range_1.nominal.endclass.end_x', 'rep0_range_1.nominal.endclass.end_y', 'rep0_range_1.nominal.endclass.endpt', 'rep0_range_2.power_no_charge_t1.endclass.rate', 'rep0_range_2.power_no_charge_t1.endclass.cost', 'rep0_range_2.power_no_charge_t1.endclass.prob', 'rep0_range_2.power_no_charge_t1.endclass.expected_cost', 'rep0_range_2.power_no_charge_t1.endclass.in_bound', 'rep0_range_2.power_no_charge_t1.endclass.at_finish', 'rep0_range_2.power_no_charge_t1.endclass.line_dist', 'rep0_range_2.power_no_charge_t1.endclass.num_modes', 'rep0_range_2.power_no_charge_t1.endclass.end_dist', 'rep0_range_2.power_no_charge_t1.endclass.tot_deviation', 'rep0_range_2.power_no_charge_t1.endclass.faults', 'rep0_range_2.power_no_charge_t1.endclass.classification', 'rep0_range_2.power_no_charge_t1.endclass.end_x', 'rep0_range_2.power_no_charge_t1.endclass.end_y', 'rep0_range_2.power_no_charge_t1.endclass.endpt', 'rep0_range_2.power_no_charge_t2.endclass.rate', 'rep0_range_2.power_no_charge_t2.endclass.cost', 'rep0_range_2.power_no_charge_t2.endclass.prob', 'rep0_range_2.power_no_charge_t2.endclass.expected_cost', 'rep0_range_2.power_no_charge_t2.endclass.in_bound', 'rep0_range_2.power_no_charge_t2.endclass.at_finish', 'rep0_range_2.power_no_charge_t2.endclass.line_dist', 'rep0_range_2.power_no_charge_t2.endclass.num_modes', 'rep0_range_2.power_no_charge_t2.endclass.end_dist', 'rep0_range_2.power_no_charge_t2.endclass.tot_deviation', 'rep0_range_2.power_no_charge_t2.endclass.faults', 'rep0_range_2.power_no_charge_t2.endclass.classification', 'rep0_range_2.power_no_charge_t2.endclass.end_x', 'rep0_range_2.power_no_charge_t2.endclass.end_y', 'rep0_range_2.power_no_charge_t2.endclass.endpt', 'rep0_range_2.power_short_t1.endclass.rate', 'rep0_range_2.power_short_t1.endclass.cost', 'rep0_range_2.power_short_t1.endclass.prob', 'rep0_range_2.power_short_t1.endclass.expected_cost', 'rep0_range_2.power_short_t1.endclass.in_bound', 'rep0_range_2.power_short_t1.endclass.at_finish', 'rep0_range_2.power_short_t1.endclass.line_dist', 'rep0_range_2.power_short_t1.endclass.num_modes', 'rep0_range_2.power_short_t1.endclass.end_dist', 'rep0_range_2.power_short_t1.endclass.tot_deviation', 'rep0_range_2.power_short_t1.endclass.faults', 'rep0_range_2.power_short_t1.endclass.classification', 'rep0_range_2.power_short_t1.endclass.end_x', 'rep0_range_2.power_short_t1.endclass.end_y', 'rep0_range_2.power_short_t1.endclass.endpt', 'rep0_range_2.power_short_t2.endclass.rate', 'rep0_range_2.power_short_t2.endclass.cost', 'rep0_range_2.power_short_t2.endclass.prob', 'rep0_range_2.power_short_t2.endclass.expected_cost', 'rep0_range_2.power_short_t2.endclass.in_bound', 'rep0_range_2.power_short_t2.endclass.at_finish', 'rep0_range_2.power_short_t2.endclass.line_dist', 'rep0_range_2.power_short_t2.endclass.num_modes', 'rep0_range_2.power_short_t2.endclass.end_dist', 'rep0_range_2.power_short_t2.endclass.tot_deviation', 'rep0_range_2.power_short_t2.endclass.faults', 'rep0_range_2.power_short_t2.endclass.classification', 'rep0_range_2.power_short_t2.endclass.end_x', 'rep0_range_2.power_short_t2.endclass.end_y', 'rep0_range_2.power_short_t2.endclass.endpt', 'rep0_range_2.nominal.endclass.rate', 'rep0_range_2.nominal.endclass.cost', 'rep0_range_2.nominal.endclass.prob', 'rep0_range_2.nominal.endclass.expected_cost', 'rep0_range_2.nominal.endclass.in_bound', 'rep0_range_2.nominal.endclass.at_finish', 'rep0_range_2.nominal.endclass.line_dist', 'rep0_range_2.nominal.endclass.num_modes', 'rep0_range_2.nominal.endclass.end_dist', 'rep0_range_2.nominal.endclass.tot_deviation', 'rep0_range_2.nominal.endclass.faults', 'rep0_range_2.nominal.endclass.classification', 'rep0_range_2.nominal.endclass.end_x', 'rep0_range_2.nominal.endclass.end_y', 'rep0_range_2.nominal.endclass.endpt', 'rep0_range_3.power_no_charge_t1.endclass.rate', 'rep0_range_3.power_no_charge_t1.endclass.cost', 'rep0_range_3.power_no_charge_t1.endclass.prob', 'rep0_range_3.power_no_charge_t1.endclass.expected_cost', 'rep0_range_3.power_no_charge_t1.endclass.in_bound', 'rep0_range_3.power_no_charge_t1.endclass.at_finish', 'rep0_range_3.power_no_charge_t1.endclass.line_dist', 'rep0_range_3.power_no_charge_t1.endclass.num_modes', 'rep0_range_3.power_no_charge_t1.endclass.end_dist', 'rep0_range_3.power_no_charge_t1.endclass.tot_deviation', 'rep0_range_3.power_no_charge_t1.endclass.faults', 'rep0_range_3.power_no_charge_t1.endclass.classification', 'rep0_range_3.power_no_charge_t1.endclass.end_x', 'rep0_range_3.power_no_charge_t1.endclass.end_y', 'rep0_range_3.power_no_charge_t1.endclass.endpt', 'rep0_range_3.power_no_charge_t2.endclass.rate', 'rep0_range_3.power_no_charge_t2.endclass.cost', 'rep0_range_3.power_no_charge_t2.endclass.prob', 'rep0_range_3.power_no_charge_t2.endclass.expected_cost', 'rep0_range_3.power_no_charge_t2.endclass.in_bound', 'rep0_range_3.power_no_charge_t2.endclass.at_finish', 'rep0_range_3.power_no_charge_t2.endclass.line_dist', 'rep0_range_3.power_no_charge_t2.endclass.num_modes', 'rep0_range_3.power_no_charge_t2.endclass.end_dist', 'rep0_range_3.power_no_charge_t2.endclass.tot_deviation', 'rep0_range_3.power_no_charge_t2.endclass.faults', 'rep0_range_3.power_no_charge_t2.endclass.classification', 'rep0_range_3.power_no_charge_t2.endclass.end_x', 'rep0_range_3.power_no_charge_t2.endclass.end_y', 'rep0_range_3.power_no_charge_t2.endclass.endpt', 'rep0_range_3.power_short_t1.endclass.rate', 'rep0_range_3.power_short_t1.endclass.cost', 'rep0_range_3.power_short_t1.endclass.prob', 'rep0_range_3.power_short_t1.endclass.expected_cost', 'rep0_range_3.power_short_t1.endclass.in_bound', 'rep0_range_3.power_short_t1.endclass.at_finish', 'rep0_range_3.power_short_t1.endclass.line_dist', 'rep0_range_3.power_short_t1.endclass.num_modes', 'rep0_range_3.power_short_t1.endclass.end_dist', 'rep0_range_3.power_short_t1.endclass.tot_deviation', 'rep0_range_3.power_short_t1.endclass.faults', 'rep0_range_3.power_short_t1.endclass.classification', 'rep0_range_3.power_short_t1.endclass.end_x', 'rep0_range_3.power_short_t1.endclass.end_y', 'rep0_range_3.power_short_t1.endclass.endpt', 'rep0_range_3.power_short_t2.endclass.rate', 'rep0_range_3.power_short_t2.endclass.cost', 'rep0_range_3.power_short_t2.endclass.prob', 'rep0_range_3.power_short_t2.endclass.expected_cost', 'rep0_range_3.power_short_t2.endclass.in_bound', 'rep0_range_3.power_short_t2.endclass.at_finish', 'rep0_range_3.power_short_t2.endclass.line_dist', 'rep0_range_3.power_short_t2.endclass.num_modes', 'rep0_range_3.power_short_t2.endclass.end_dist', 'rep0_range_3.power_short_t2.endclass.tot_deviation', 'rep0_range_3.power_short_t2.endclass.faults', 'rep0_range_3.power_short_t2.endclass.classification', 'rep0_range_3.power_short_t2.endclass.end_x', 'rep0_range_3.power_short_t2.endclass.end_y', 'rep0_range_3.power_short_t2.endclass.endpt', 'rep0_range_3.nominal.endclass.rate', 'rep0_range_3.nominal.endclass.cost', 'rep0_range_3.nominal.endclass.prob', 'rep0_range_3.nominal.endclass.expected_cost', 'rep0_range_3.nominal.endclass.in_bound', 'rep0_range_3.nominal.endclass.at_finish', 'rep0_range_3.nominal.endclass.line_dist', 'rep0_range_3.nominal.endclass.num_modes', 'rep0_range_3.nominal.endclass.end_dist', 'rep0_range_3.nominal.endclass.tot_deviation', 'rep0_range_3.nominal.endclass.faults', 'rep0_range_3.nominal.endclass.classification', 'rep0_range_3.nominal.endclass.end_x', 'rep0_range_3.nominal.endclass.end_y', 'rep0_range_3.nominal.endclass.endpt', 'rep0_range_4.power_no_charge_t1.endclass.rate', 'rep0_range_4.power_no_charge_t1.endclass.cost', 'rep0_range_4.power_no_charge_t1.endclass.prob', 'rep0_range_4.power_no_charge_t1.endclass.expected_cost', 'rep0_range_4.power_no_charge_t1.endclass.in_bound', 'rep0_range_4.power_no_charge_t1.endclass.at_finish', 'rep0_range_4.power_no_charge_t1.endclass.line_dist', 'rep0_range_4.power_no_charge_t1.endclass.num_modes', 'rep0_range_4.power_no_charge_t1.endclass.end_dist', 'rep0_range_4.power_no_charge_t1.endclass.tot_deviation', 'rep0_range_4.power_no_charge_t1.endclass.faults', 'rep0_range_4.power_no_charge_t1.endclass.classification', 'rep0_range_4.power_no_charge_t1.endclass.end_x', 'rep0_range_4.power_no_charge_t1.endclass.end_y', 'rep0_range_4.power_no_charge_t1.endclass.endpt', 'rep0_range_4.power_no_charge_t2.endclass.rate', 'rep0_range_4.power_no_charge_t2.endclass.cost', 'rep0_range_4.power_no_charge_t2.endclass.prob', 'rep0_range_4.power_no_charge_t2.endclass.expected_cost', 'rep0_range_4.power_no_charge_t2.endclass.in_bound', 'rep0_range_4.power_no_charge_t2.endclass.at_finish', 'rep0_range_4.power_no_charge_t2.endclass.line_dist', 'rep0_range_4.power_no_charge_t2.endclass.num_modes', 'rep0_range_4.power_no_charge_t2.endclass.end_dist', 'rep0_range_4.power_no_charge_t2.endclass.tot_deviation', 'rep0_range_4.power_no_charge_t2.endclass.faults', 'rep0_range_4.power_no_charge_t2.endclass.classification', 'rep0_range_4.power_no_charge_t2.endclass.end_x', 'rep0_range_4.power_no_charge_t2.endclass.end_y', 'rep0_range_4.power_no_charge_t2.endclass.endpt', 'rep0_range_4.power_short_t1.endclass.rate', 'rep0_range_4.power_short_t1.endclass.cost', 'rep0_range_4.power_short_t1.endclass.prob', 'rep0_range_4.power_short_t1.endclass.expected_cost', 'rep0_range_4.power_short_t1.endclass.in_bound', 'rep0_range_4.power_short_t1.endclass.at_finish', 'rep0_range_4.power_short_t1.endclass.line_dist', 'rep0_range_4.power_short_t1.endclass.num_modes', 'rep0_range_4.power_short_t1.endclass.end_dist', 'rep0_range_4.power_short_t1.endclass.tot_deviation', 'rep0_range_4.power_short_t1.endclass.faults', 'rep0_range_4.power_short_t1.endclass.classification', 'rep0_range_4.power_short_t1.endclass.end_x', 'rep0_range_4.power_short_t1.endclass.end_y', 'rep0_range_4.power_short_t1.endclass.endpt', 'rep0_range_4.power_short_t2.endclass.rate', 'rep0_range_4.power_short_t2.endclass.cost', 'rep0_range_4.power_short_t2.endclass.prob', 'rep0_range_4.power_short_t2.endclass.expected_cost', 'rep0_range_4.power_short_t2.endclass.in_bound', 'rep0_range_4.power_short_t2.endclass.at_finish', 'rep0_range_4.power_short_t2.endclass.line_dist', 'rep0_range_4.power_short_t2.endclass.num_modes', 'rep0_range_4.power_short_t2.endclass.end_dist', 'rep0_range_4.power_short_t2.endclass.tot_deviation', 'rep0_range_4.power_short_t2.endclass.faults', 'rep0_range_4.power_short_t2.endclass.classification', 'rep0_range_4.power_short_t2.endclass.end_x', 'rep0_range_4.power_short_t2.endclass.end_y', 'rep0_range_4.power_short_t2.endclass.endpt', 'rep0_range_4.nominal.endclass.rate', 'rep0_range_4.nominal.endclass.cost', 'rep0_range_4.nominal.endclass.prob', 'rep0_range_4.nominal.endclass.expected_cost', 'rep0_range_4.nominal.endclass.in_bound', 'rep0_range_4.nominal.endclass.at_finish', 'rep0_range_4.nominal.endclass.line_dist', 'rep0_range_4.nominal.endclass.num_modes', 'rep0_range_4.nominal.endclass.end_dist', 'rep0_range_4.nominal.endclass.tot_deviation', 'rep0_range_4.nominal.endclass.faults', 'rep0_range_4.nominal.endclass.classification', 'rep0_range_4.nominal.endclass.end_x', 'rep0_range_4.nominal.endclass.end_y', 'rep0_range_4.nominal.endclass.endpt', 'rep0_range_5.power_no_charge_t1.endclass.rate', 'rep0_range_5.power_no_charge_t1.endclass.cost', 'rep0_range_5.power_no_charge_t1.endclass.prob', 'rep0_range_5.power_no_charge_t1.endclass.expected_cost', 'rep0_range_5.power_no_charge_t1.endclass.in_bound', 'rep0_range_5.power_no_charge_t1.endclass.at_finish', 'rep0_range_5.power_no_charge_t1.endclass.line_dist', 'rep0_range_5.power_no_charge_t1.endclass.num_modes', 'rep0_range_5.power_no_charge_t1.endclass.end_dist', 'rep0_range_5.power_no_charge_t1.endclass.tot_deviation', 'rep0_range_5.power_no_charge_t1.endclass.faults', 'rep0_range_5.power_no_charge_t1.endclass.classification', 'rep0_range_5.power_no_charge_t1.endclass.end_x', 'rep0_range_5.power_no_charge_t1.endclass.end_y', 'rep0_range_5.power_no_charge_t1.endclass.endpt', 'rep0_range_5.power_no_charge_t2.endclass.rate', 'rep0_range_5.power_no_charge_t2.endclass.cost', 'rep0_range_5.power_no_charge_t2.endclass.prob', 'rep0_range_5.power_no_charge_t2.endclass.expected_cost', 'rep0_range_5.power_no_charge_t2.endclass.in_bound', 'rep0_range_5.power_no_charge_t2.endclass.at_finish', 'rep0_range_5.power_no_charge_t2.endclass.line_dist', 'rep0_range_5.power_no_charge_t2.endclass.num_modes', 'rep0_range_5.power_no_charge_t2.endclass.end_dist', 'rep0_range_5.power_no_charge_t2.endclass.tot_deviation', 'rep0_range_5.power_no_charge_t2.endclass.faults', 'rep0_range_5.power_no_charge_t2.endclass.classification', 'rep0_range_5.power_no_charge_t2.endclass.end_x', 'rep0_range_5.power_no_charge_t2.endclass.end_y', 'rep0_range_5.power_no_charge_t2.endclass.endpt', 'rep0_range_5.power_short_t1.endclass.rate', 'rep0_range_5.power_short_t1.endclass.cost', 'rep0_range_5.power_short_t1.endclass.prob', 'rep0_range_5.power_short_t1.endclass.expected_cost', 'rep0_range_5.power_short_t1.endclass.in_bound', 'rep0_range_5.power_short_t1.endclass.at_finish', 'rep0_range_5.power_short_t1.endclass.line_dist', 'rep0_range_5.power_short_t1.endclass.num_modes', 'rep0_range_5.power_short_t1.endclass.end_dist', 'rep0_range_5.power_short_t1.endclass.tot_deviation', 'rep0_range_5.power_short_t1.endclass.faults', 'rep0_range_5.power_short_t1.endclass.classification', 'rep0_range_5.power_short_t1.endclass.end_x', 'rep0_range_5.power_short_t1.endclass.end_y', 'rep0_range_5.power_short_t1.endclass.endpt', 'rep0_range_5.power_short_t2.endclass.rate', 'rep0_range_5.power_short_t2.endclass.cost', 'rep0_range_5.power_short_t2.endclass.prob', 'rep0_range_5.power_short_t2.endclass.expected_cost', 'rep0_range_5.power_short_t2.endclass.in_bound', 'rep0_range_5.power_short_t2.endclass.at_finish', 'rep0_range_5.power_short_t2.endclass.line_dist', 'rep0_range_5.power_short_t2.endclass.num_modes', 'rep0_range_5.power_short_t2.endclass.end_dist', 'rep0_range_5.power_short_t2.endclass.tot_deviation', 'rep0_range_5.power_short_t2.endclass.faults', 'rep0_range_5.power_short_t2.endclass.classification', 'rep0_range_5.power_short_t2.endclass.end_x', 'rep0_range_5.power_short_t2.endclass.end_y', 'rep0_range_5.power_short_t2.endclass.endpt', 'rep0_range_5.nominal.endclass.rate', 'rep0_range_5.nominal.endclass.cost', 'rep0_range_5.nominal.endclass.prob', 'rep0_range_5.nominal.endclass.expected_cost', 'rep0_range_5.nominal.endclass.in_bound', 'rep0_range_5.nominal.endclass.at_finish', 'rep0_range_5.nominal.endclass.line_dist', 'rep0_range_5.nominal.endclass.num_modes', 'rep0_range_5.nominal.endclass.end_dist', 'rep0_range_5.nominal.endclass.tot_deviation', 'rep0_range_5.nominal.endclass.faults', 'rep0_range_5.nominal.endclass.classification', 'rep0_range_5.nominal.endclass.end_x', 'rep0_range_5.nominal.endclass.end_y', 'rep0_range_5.nominal.endclass.endpt', 'rep0_range_6.power_no_charge_t1.endclass.rate', 'rep0_range_6.power_no_charge_t1.endclass.cost', 'rep0_range_6.power_no_charge_t1.endclass.prob', 'rep0_range_6.power_no_charge_t1.endclass.expected_cost', 'rep0_range_6.power_no_charge_t1.endclass.in_bound', 'rep0_range_6.power_no_charge_t1.endclass.at_finish', 'rep0_range_6.power_no_charge_t1.endclass.line_dist', 'rep0_range_6.power_no_charge_t1.endclass.num_modes', 'rep0_range_6.power_no_charge_t1.endclass.end_dist', 'rep0_range_6.power_no_charge_t1.endclass.tot_deviation', 'rep0_range_6.power_no_charge_t1.endclass.faults', 'rep0_range_6.power_no_charge_t1.endclass.classification', 'rep0_range_6.power_no_charge_t1.endclass.end_x', 'rep0_range_6.power_no_charge_t1.endclass.end_y', 'rep0_range_6.power_no_charge_t1.endclass.endpt', 'rep0_range_6.power_no_charge_t2.endclass.rate', 'rep0_range_6.power_no_charge_t2.endclass.cost', 'rep0_range_6.power_no_charge_t2.endclass.prob', 'rep0_range_6.power_no_charge_t2.endclass.expected_cost', 'rep0_range_6.power_no_charge_t2.endclass.in_bound', 'rep0_range_6.power_no_charge_t2.endclass.at_finish', 'rep0_range_6.power_no_charge_t2.endclass.line_dist', 'rep0_range_6.power_no_charge_t2.endclass.num_modes', 'rep0_range_6.power_no_charge_t2.endclass.end_dist', 'rep0_range_6.power_no_charge_t2.endclass.tot_deviation', 'rep0_range_6.power_no_charge_t2.endclass.faults', 'rep0_range_6.power_no_charge_t2.endclass.classification', 'rep0_range_6.power_no_charge_t2.endclass.end_x', 'rep0_range_6.power_no_charge_t2.endclass.end_y', 'rep0_range_6.power_no_charge_t2.endclass.endpt', 'rep0_range_6.power_short_t1.endclass.rate', 'rep0_range_6.power_short_t1.endclass.cost', 'rep0_range_6.power_short_t1.endclass.prob', 'rep0_range_6.power_short_t1.endclass.expected_cost', 'rep0_range_6.power_short_t1.endclass.in_bound', 'rep0_range_6.power_short_t1.endclass.at_finish', 'rep0_range_6.power_short_t1.endclass.line_dist', 'rep0_range_6.power_short_t1.endclass.num_modes', 'rep0_range_6.power_short_t1.endclass.end_dist', 'rep0_range_6.power_short_t1.endclass.tot_deviation', 'rep0_range_6.power_short_t1.endclass.faults', 'rep0_range_6.power_short_t1.endclass.classification', 'rep0_range_6.power_short_t1.endclass.end_x', 'rep0_range_6.power_short_t1.endclass.end_y', 'rep0_range_6.power_short_t1.endclass.endpt', 'rep0_range_6.power_short_t2.endclass.rate', 'rep0_range_6.power_short_t2.endclass.cost', 'rep0_range_6.power_short_t2.endclass.prob', 'rep0_range_6.power_short_t2.endclass.expected_cost', 'rep0_range_6.power_short_t2.endclass.in_bound', 'rep0_range_6.power_short_t2.endclass.at_finish', 'rep0_range_6.power_short_t2.endclass.line_dist', 'rep0_range_6.power_short_t2.endclass.num_modes', 'rep0_range_6.power_short_t2.endclass.end_dist', 'rep0_range_6.power_short_t2.endclass.tot_deviation', 'rep0_range_6.power_short_t2.endclass.faults', 'rep0_range_6.power_short_t2.endclass.classification', 'rep0_range_6.power_short_t2.endclass.end_x', 'rep0_range_6.power_short_t2.endclass.end_y', 'rep0_range_6.power_short_t2.endclass.endpt', 'rep0_range_6.nominal.endclass.rate', 'rep0_range_6.nominal.endclass.cost', 'rep0_range_6.nominal.endclass.prob', 'rep0_range_6.nominal.endclass.expected_cost', 'rep0_range_6.nominal.endclass.in_bound', 'rep0_range_6.nominal.endclass.at_finish', 'rep0_range_6.nominal.endclass.line_dist', 'rep0_range_6.nominal.endclass.num_modes', 'rep0_range_6.nominal.endclass.end_dist', 'rep0_range_6.nominal.endclass.tot_deviation', 'rep0_range_6.nominal.endclass.faults', 'rep0_range_6.nominal.endclass.classification', 'rep0_range_6.nominal.endclass.end_x', 'rep0_range_6.nominal.endclass.end_y', 'rep0_range_6.nominal.endclass.endpt', 'rep0_range_7.power_no_charge_t1.endclass.rate', 'rep0_range_7.power_no_charge_t1.endclass.cost', 'rep0_range_7.power_no_charge_t1.endclass.prob', 'rep0_range_7.power_no_charge_t1.endclass.expected_cost', 'rep0_range_7.power_no_charge_t1.endclass.in_bound', 'rep0_range_7.power_no_charge_t1.endclass.at_finish', 'rep0_range_7.power_no_charge_t1.endclass.line_dist', 'rep0_range_7.power_no_charge_t1.endclass.num_modes', 'rep0_range_7.power_no_charge_t1.endclass.end_dist', 'rep0_range_7.power_no_charge_t1.endclass.tot_deviation', 'rep0_range_7.power_no_charge_t1.endclass.faults', 'rep0_range_7.power_no_charge_t1.endclass.classification', 'rep0_range_7.power_no_charge_t1.endclass.end_x', 'rep0_range_7.power_no_charge_t1.endclass.end_y', 'rep0_range_7.power_no_charge_t1.endclass.endpt', 'rep0_range_7.power_no_charge_t2.endclass.rate', 'rep0_range_7.power_no_charge_t2.endclass.cost', 'rep0_range_7.power_no_charge_t2.endclass.prob', 'rep0_range_7.power_no_charge_t2.endclass.expected_cost', 'rep0_range_7.power_no_charge_t2.endclass.in_bound', 'rep0_range_7.power_no_charge_t2.endclass.at_finish', 'rep0_range_7.power_no_charge_t2.endclass.line_dist', 'rep0_range_7.power_no_charge_t2.endclass.num_modes', 'rep0_range_7.power_no_charge_t2.endclass.end_dist', 'rep0_range_7.power_no_charge_t2.endclass.tot_deviation', 'rep0_range_7.power_no_charge_t2.endclass.faults', 'rep0_range_7.power_no_charge_t2.endclass.classification', 'rep0_range_7.power_no_charge_t2.endclass.end_x', 'rep0_range_7.power_no_charge_t2.endclass.end_y', 'rep0_range_7.power_no_charge_t2.endclass.endpt', 'rep0_range_7.power_short_t1.endclass.rate', 'rep0_range_7.power_short_t1.endclass.cost', 'rep0_range_7.power_short_t1.endclass.prob', 'rep0_range_7.power_short_t1.endclass.expected_cost', 'rep0_range_7.power_short_t1.endclass.in_bound', 'rep0_range_7.power_short_t1.endclass.at_finish', 'rep0_range_7.power_short_t1.endclass.line_dist', 'rep0_range_7.power_short_t1.endclass.num_modes', 'rep0_range_7.power_short_t1.endclass.end_dist', 'rep0_range_7.power_short_t1.endclass.tot_deviation', 'rep0_range_7.power_short_t1.endclass.faults', 'rep0_range_7.power_short_t1.endclass.classification', 'rep0_range_7.power_short_t1.endclass.end_x', 'rep0_range_7.power_short_t1.endclass.end_y', 'rep0_range_7.power_short_t1.endclass.endpt', 'rep0_range_7.power_short_t2.endclass.rate', 'rep0_range_7.power_short_t2.endclass.cost', 'rep0_range_7.power_short_t2.endclass.prob', 'rep0_range_7.power_short_t2.endclass.expected_cost', 'rep0_range_7.power_short_t2.endclass.in_bound', 'rep0_range_7.power_short_t2.endclass.at_finish', 'rep0_range_7.power_short_t2.endclass.line_dist', 'rep0_range_7.power_short_t2.endclass.num_modes', 'rep0_range_7.power_short_t2.endclass.end_dist', 'rep0_range_7.power_short_t2.endclass.tot_deviation', 'rep0_range_7.power_short_t2.endclass.faults', 'rep0_range_7.power_short_t2.endclass.classification', 'rep0_range_7.power_short_t2.endclass.end_x', 'rep0_range_7.power_short_t2.endclass.end_y', 'rep0_range_7.power_short_t2.endclass.endpt', 'rep0_range_7.nominal.endclass.rate', 'rep0_range_7.nominal.endclass.cost', 'rep0_range_7.nominal.endclass.prob', 'rep0_range_7.nominal.endclass.expected_cost', 'rep0_range_7.nominal.endclass.in_bound', 'rep0_range_7.nominal.endclass.at_finish', 'rep0_range_7.nominal.endclass.line_dist', 'rep0_range_7.nominal.endclass.num_modes', 'rep0_range_7.nominal.endclass.end_dist', 'rep0_range_7.nominal.endclass.tot_deviation', 'rep0_range_7.nominal.endclass.faults', 'rep0_range_7.nominal.endclass.classification', 'rep0_range_7.nominal.endclass.end_x', 'rep0_range_7.nominal.endclass.end_y', 'rep0_range_7.nominal.endclass.endpt', 'rep0_range_8.power_no_charge_t1.endclass.rate', 'rep0_range_8.power_no_charge_t1.endclass.cost', 'rep0_range_8.power_no_charge_t1.endclass.prob', 'rep0_range_8.power_no_charge_t1.endclass.expected_cost', 'rep0_range_8.power_no_charge_t1.endclass.in_bound', 'rep0_range_8.power_no_charge_t1.endclass.at_finish', 'rep0_range_8.power_no_charge_t1.endclass.line_dist', 'rep0_range_8.power_no_charge_t1.endclass.num_modes', 'rep0_range_8.power_no_charge_t1.endclass.end_dist', 'rep0_range_8.power_no_charge_t1.endclass.tot_deviation', 'rep0_range_8.power_no_charge_t1.endclass.faults', 'rep0_range_8.power_no_charge_t1.endclass.classification', 'rep0_range_8.power_no_charge_t1.endclass.end_x', 'rep0_range_8.power_no_charge_t1.endclass.end_y', 'rep0_range_8.power_no_charge_t1.endclass.endpt', 'rep0_range_8.power_no_charge_t2.endclass.rate', 'rep0_range_8.power_no_charge_t2.endclass.cost', 'rep0_range_8.power_no_charge_t2.endclass.prob', 'rep0_range_8.power_no_charge_t2.endclass.expected_cost', 'rep0_range_8.power_no_charge_t2.endclass.in_bound', 'rep0_range_8.power_no_charge_t2.endclass.at_finish', 'rep0_range_8.power_no_charge_t2.endclass.line_dist', 'rep0_range_8.power_no_charge_t2.endclass.num_modes', 'rep0_range_8.power_no_charge_t2.endclass.end_dist', 'rep0_range_8.power_no_charge_t2.endclass.tot_deviation', 'rep0_range_8.power_no_charge_t2.endclass.faults', 'rep0_range_8.power_no_charge_t2.endclass.classification', 'rep0_range_8.power_no_charge_t2.endclass.end_x', 'rep0_range_8.power_no_charge_t2.endclass.end_y', 'rep0_range_8.power_no_charge_t2.endclass.endpt', 'rep0_range_8.power_short_t1.endclass.rate', 'rep0_range_8.power_short_t1.endclass.cost', 'rep0_range_8.power_short_t1.endclass.prob', 'rep0_range_8.power_short_t1.endclass.expected_cost', 'rep0_range_8.power_short_t1.endclass.in_bound', 'rep0_range_8.power_short_t1.endclass.at_finish', 'rep0_range_8.power_short_t1.endclass.line_dist', 'rep0_range_8.power_short_t1.endclass.num_modes', 'rep0_range_8.power_short_t1.endclass.end_dist', 'rep0_range_8.power_short_t1.endclass.tot_deviation', 'rep0_range_8.power_short_t1.endclass.faults', 'rep0_range_8.power_short_t1.endclass.classification', 'rep0_range_8.power_short_t1.endclass.end_x', 'rep0_range_8.power_short_t1.endclass.end_y', 'rep0_range_8.power_short_t1.endclass.endpt', 'rep0_range_8.power_short_t2.endclass.rate', 'rep0_range_8.power_short_t2.endclass.cost', 'rep0_range_8.power_short_t2.endclass.prob', 'rep0_range_8.power_short_t2.endclass.expected_cost', 'rep0_range_8.power_short_t2.endclass.in_bound', 'rep0_range_8.power_short_t2.endclass.at_finish', 'rep0_range_8.power_short_t2.endclass.line_dist', 'rep0_range_8.power_short_t2.endclass.num_modes', 'rep0_range_8.power_short_t2.endclass.end_dist', 'rep0_range_8.power_short_t2.endclass.tot_deviation', 'rep0_range_8.power_short_t2.endclass.faults', 'rep0_range_8.power_short_t2.endclass.classification', 'rep0_range_8.power_short_t2.endclass.end_x', 'rep0_range_8.power_short_t2.endclass.end_y', 'rep0_range_8.power_short_t2.endclass.endpt', 'rep0_range_8.nominal.endclass.rate', 'rep0_range_8.nominal.endclass.cost', 'rep0_range_8.nominal.endclass.prob', 'rep0_range_8.nominal.endclass.expected_cost', 'rep0_range_8.nominal.endclass.in_bound', 'rep0_range_8.nominal.endclass.at_finish', 'rep0_range_8.nominal.endclass.line_dist', 'rep0_range_8.nominal.endclass.num_modes', 'rep0_range_8.nominal.endclass.end_dist', 'rep0_range_8.nominal.endclass.tot_deviation', 'rep0_range_8.nominal.endclass.faults', 'rep0_range_8.nominal.endclass.classification', 'rep0_range_8.nominal.endclass.end_x', 'rep0_range_8.nominal.endclass.end_y', 'rep0_range_8.nominal.endclass.endpt', 'rep0_range_9.power_no_charge_t1.endclass.rate', 'rep0_range_9.power_no_charge_t1.endclass.cost', 'rep0_range_9.power_no_charge_t1.endclass.prob', 'rep0_range_9.power_no_charge_t1.endclass.expected_cost', 'rep0_range_9.power_no_charge_t1.endclass.in_bound', 'rep0_range_9.power_no_charge_t1.endclass.at_finish', 'rep0_range_9.power_no_charge_t1.endclass.line_dist', 'rep0_range_9.power_no_charge_t1.endclass.num_modes', 'rep0_range_9.power_no_charge_t1.endclass.end_dist', 'rep0_range_9.power_no_charge_t1.endclass.tot_deviation', 'rep0_range_9.power_no_charge_t1.endclass.faults', 'rep0_range_9.power_no_charge_t1.endclass.classification', 'rep0_range_9.power_no_charge_t1.endclass.end_x', 'rep0_range_9.power_no_charge_t1.endclass.end_y', 'rep0_range_9.power_no_charge_t1.endclass.endpt', 'rep0_range_9.power_no_charge_t2.endclass.rate', 'rep0_range_9.power_no_charge_t2.endclass.cost', 'rep0_range_9.power_no_charge_t2.endclass.prob', 'rep0_range_9.power_no_charge_t2.endclass.expected_cost', 'rep0_range_9.power_no_charge_t2.endclass.in_bound', 'rep0_range_9.power_no_charge_t2.endclass.at_finish', 'rep0_range_9.power_no_charge_t2.endclass.line_dist', 'rep0_range_9.power_no_charge_t2.endclass.num_modes', 'rep0_range_9.power_no_charge_t2.endclass.end_dist', 'rep0_range_9.power_no_charge_t2.endclass.tot_deviation', 'rep0_range_9.power_no_charge_t2.endclass.faults', 'rep0_range_9.power_no_charge_t2.endclass.classification', 'rep0_range_9.power_no_charge_t2.endclass.end_x', 'rep0_range_9.power_no_charge_t2.endclass.end_y', 'rep0_range_9.power_no_charge_t2.endclass.endpt', 'rep0_range_9.power_short_t1.endclass.rate', 'rep0_range_9.power_short_t1.endclass.cost', 'rep0_range_9.power_short_t1.endclass.prob', 'rep0_range_9.power_short_t1.endclass.expected_cost', 'rep0_range_9.power_short_t1.endclass.in_bound', 'rep0_range_9.power_short_t1.endclass.at_finish', 'rep0_range_9.power_short_t1.endclass.line_dist', 'rep0_range_9.power_short_t1.endclass.num_modes', 'rep0_range_9.power_short_t1.endclass.end_dist', 'rep0_range_9.power_short_t1.endclass.tot_deviation', 'rep0_range_9.power_short_t1.endclass.faults', 'rep0_range_9.power_short_t1.endclass.classification', 'rep0_range_9.power_short_t1.endclass.end_x', 'rep0_range_9.power_short_t1.endclass.end_y', 'rep0_range_9.power_short_t1.endclass.endpt', 'rep0_range_9.power_short_t2.endclass.rate', 'rep0_range_9.power_short_t2.endclass.cost', 'rep0_range_9.power_short_t2.endclass.prob', 'rep0_range_9.power_short_t2.endclass.expected_cost', 'rep0_range_9.power_short_t2.endclass.in_bound', 'rep0_range_9.power_short_t2.endclass.at_finish', 'rep0_range_9.power_short_t2.endclass.line_dist', 'rep0_range_9.power_short_t2.endclass.num_modes', 'rep0_range_9.power_short_t2.endclass.end_dist', 'rep0_range_9.power_short_t2.endclass.tot_deviation', 'rep0_range_9.power_short_t2.endclass.faults', 'rep0_range_9.power_short_t2.endclass.classification', 'rep0_range_9.power_short_t2.endclass.end_x', 'rep0_range_9.power_short_t2.endclass.end_y', 'rep0_range_9.power_short_t2.endclass.endpt', 'rep0_range_9.nominal.endclass.rate', 'rep0_range_9.nominal.endclass.cost', 'rep0_range_9.nominal.endclass.prob', 'rep0_range_9.nominal.endclass.expected_cost', 'rep0_range_9.nominal.endclass.in_bound', 'rep0_range_9.nominal.endclass.at_finish', 'rep0_range_9.nominal.endclass.line_dist', 'rep0_range_9.nominal.endclass.num_modes', 'rep0_range_9.nominal.endclass.end_dist', 'rep0_range_9.nominal.endclass.tot_deviation', 'rep0_range_9.nominal.endclass.faults', 'rep0_range_9.nominal.endclass.classification', 'rep0_range_9.nominal.endclass.end_x', 'rep0_range_9.nominal.endclass.end_y', 'rep0_range_9.nominal.endclass.endpt', 'rep0_range_10.power_no_charge_t1.endclass.rate', 'rep0_range_10.power_no_charge_t1.endclass.cost', 'rep0_range_10.power_no_charge_t1.endclass.prob', 'rep0_range_10.power_no_charge_t1.endclass.expected_cost', 'rep0_range_10.power_no_charge_t1.endclass.in_bound', 'rep0_range_10.power_no_charge_t1.endclass.at_finish', 'rep0_range_10.power_no_charge_t1.endclass.line_dist', 'rep0_range_10.power_no_charge_t1.endclass.num_modes', 'rep0_range_10.power_no_charge_t1.endclass.end_dist', 'rep0_range_10.power_no_charge_t1.endclass.tot_deviation', 'rep0_range_10.power_no_charge_t1.endclass.faults', 'rep0_range_10.power_no_charge_t1.endclass.classification', 'rep0_range_10.power_no_charge_t1.endclass.end_x', 'rep0_range_10.power_no_charge_t1.endclass.end_y', 'rep0_range_10.power_no_charge_t1.endclass.endpt', 'rep0_range_10.power_no_charge_t2.endclass.rate', 'rep0_range_10.power_no_charge_t2.endclass.cost', 'rep0_range_10.power_no_charge_t2.endclass.prob', 'rep0_range_10.power_no_charge_t2.endclass.expected_cost', 'rep0_range_10.power_no_charge_t2.endclass.in_bound', 'rep0_range_10.power_no_charge_t2.endclass.at_finish', 'rep0_range_10.power_no_charge_t2.endclass.line_dist', 'rep0_range_10.power_no_charge_t2.endclass.num_modes', 'rep0_range_10.power_no_charge_t2.endclass.end_dist', 'rep0_range_10.power_no_charge_t2.endclass.tot_deviation', 'rep0_range_10.power_no_charge_t2.endclass.faults', 'rep0_range_10.power_no_charge_t2.endclass.classification', 'rep0_range_10.power_no_charge_t2.endclass.end_x', 'rep0_range_10.power_no_charge_t2.endclass.end_y', 'rep0_range_10.power_no_charge_t2.endclass.endpt', 'rep0_range_10.power_short_t1.endclass.rate', 'rep0_range_10.power_short_t1.endclass.cost', 'rep0_range_10.power_short_t1.endclass.prob', 'rep0_range_10.power_short_t1.endclass.expected_cost', 'rep0_range_10.power_short_t1.endclass.in_bound', 'rep0_range_10.power_short_t1.endclass.at_finish', 'rep0_range_10.power_short_t1.endclass.line_dist', 'rep0_range_10.power_short_t1.endclass.num_modes', 'rep0_range_10.power_short_t1.endclass.end_dist', 'rep0_range_10.power_short_t1.endclass.tot_deviation', 'rep0_range_10.power_short_t1.endclass.faults', 'rep0_range_10.power_short_t1.endclass.classification', 'rep0_range_10.power_short_t1.endclass.end_x', 'rep0_range_10.power_short_t1.endclass.end_y', 'rep0_range_10.power_short_t1.endclass.endpt', 'rep0_range_10.power_short_t2.endclass.rate', 'rep0_range_10.power_short_t2.endclass.cost', 'rep0_range_10.power_short_t2.endclass.prob', 'rep0_range_10.power_short_t2.endclass.expected_cost', 'rep0_range_10.power_short_t2.endclass.in_bound', 'rep0_range_10.power_short_t2.endclass.at_finish', 'rep0_range_10.power_short_t2.endclass.line_dist', 'rep0_range_10.power_short_t2.endclass.num_modes', 'rep0_range_10.power_short_t2.endclass.end_dist', 'rep0_range_10.power_short_t2.endclass.tot_deviation', 'rep0_range_10.power_short_t2.endclass.faults', 'rep0_range_10.power_short_t2.endclass.classification', 'rep0_range_10.power_short_t2.endclass.end_x', 'rep0_range_10.power_short_t2.endclass.end_y', 'rep0_range_10.power_short_t2.endclass.endpt', 'rep0_range_10.nominal.endclass.rate', 'rep0_range_10.nominal.endclass.cost', 'rep0_range_10.nominal.endclass.prob', 'rep0_range_10.nominal.endclass.expected_cost', 'rep0_range_10.nominal.endclass.in_bound', 'rep0_range_10.nominal.endclass.at_finish', 'rep0_range_10.nominal.endclass.line_dist', 'rep0_range_10.nominal.endclass.num_modes', 'rep0_range_10.nominal.endclass.end_dist', 'rep0_range_10.nominal.endclass.tot_deviation', 'rep0_range_10.nominal.endclass.faults', 'rep0_range_10.nominal.endclass.classification', 'rep0_range_10.nominal.endclass.end_x', 'rep0_range_10.nominal.endclass.end_y', 'rep0_range_10.nominal.endclass.endpt', 'rep0_range_11.power_no_charge_t1.endclass.rate', 'rep0_range_11.power_no_charge_t1.endclass.cost', 'rep0_range_11.power_no_charge_t1.endclass.prob', 'rep0_range_11.power_no_charge_t1.endclass.expected_cost', 'rep0_range_11.power_no_charge_t1.endclass.in_bound', 'rep0_range_11.power_no_charge_t1.endclass.at_finish', 'rep0_range_11.power_no_charge_t1.endclass.line_dist', 'rep0_range_11.power_no_charge_t1.endclass.num_modes', 'rep0_range_11.power_no_charge_t1.endclass.end_dist', 'rep0_range_11.power_no_charge_t1.endclass.tot_deviation', 'rep0_range_11.power_no_charge_t1.endclass.faults', 'rep0_range_11.power_no_charge_t1.endclass.classification', 'rep0_range_11.power_no_charge_t1.endclass.end_x', 'rep0_range_11.power_no_charge_t1.endclass.end_y', 'rep0_range_11.power_no_charge_t1.endclass.endpt', 'rep0_range_11.power_no_charge_t2.endclass.rate', 'rep0_range_11.power_no_charge_t2.endclass.cost', 'rep0_range_11.power_no_charge_t2.endclass.prob', 'rep0_range_11.power_no_charge_t2.endclass.expected_cost', 'rep0_range_11.power_no_charge_t2.endclass.in_bound', 'rep0_range_11.power_no_charge_t2.endclass.at_finish', 'rep0_range_11.power_no_charge_t2.endclass.line_dist', 'rep0_range_11.power_no_charge_t2.endclass.num_modes', 'rep0_range_11.power_no_charge_t2.endclass.end_dist', 'rep0_range_11.power_no_charge_t2.endclass.tot_deviation', 'rep0_range_11.power_no_charge_t2.endclass.faults', 'rep0_range_11.power_no_charge_t2.endclass.classification', 'rep0_range_11.power_no_charge_t2.endclass.end_x', 'rep0_range_11.power_no_charge_t2.endclass.end_y', 'rep0_range_11.power_no_charge_t2.endclass.endpt', 'rep0_range_11.power_short_t1.endclass.rate', 'rep0_range_11.power_short_t1.endclass.cost', 'rep0_range_11.power_short_t1.endclass.prob', 'rep0_range_11.power_short_t1.endclass.expected_cost', 'rep0_range_11.power_short_t1.endclass.in_bound', 'rep0_range_11.power_short_t1.endclass.at_finish', 'rep0_range_11.power_short_t1.endclass.line_dist', 'rep0_range_11.power_short_t1.endclass.num_modes', 'rep0_range_11.power_short_t1.endclass.end_dist', 'rep0_range_11.power_short_t1.endclass.tot_deviation', 'rep0_range_11.power_short_t1.endclass.faults', 'rep0_range_11.power_short_t1.endclass.classification', 'rep0_range_11.power_short_t1.endclass.end_x', 'rep0_range_11.power_short_t1.endclass.end_y', 'rep0_range_11.power_short_t1.endclass.endpt', 'rep0_range_11.power_short_t2.endclass.rate', 'rep0_range_11.power_short_t2.endclass.cost', 'rep0_range_11.power_short_t2.endclass.prob', 'rep0_range_11.power_short_t2.endclass.expected_cost', 'rep0_range_11.power_short_t2.endclass.in_bound', 'rep0_range_11.power_short_t2.endclass.at_finish', 'rep0_range_11.power_short_t2.endclass.line_dist', 'rep0_range_11.power_short_t2.endclass.num_modes', 'rep0_range_11.power_short_t2.endclass.end_dist', 'rep0_range_11.power_short_t2.endclass.tot_deviation', 'rep0_range_11.power_short_t2.endclass.faults', 'rep0_range_11.power_short_t2.endclass.classification', 'rep0_range_11.power_short_t2.endclass.end_x', 'rep0_range_11.power_short_t2.endclass.end_y', 'rep0_range_11.power_short_t2.endclass.endpt', 'rep0_range_11.nominal.endclass.rate', 'rep0_range_11.nominal.endclass.cost', 'rep0_range_11.nominal.endclass.prob', 'rep0_range_11.nominal.endclass.expected_cost', 'rep0_range_11.nominal.endclass.in_bound', 'rep0_range_11.nominal.endclass.at_finish', 'rep0_range_11.nominal.endclass.line_dist', 'rep0_range_11.nominal.endclass.num_modes', 'rep0_range_11.nominal.endclass.end_dist', 'rep0_range_11.nominal.endclass.tot_deviation', 'rep0_range_11.nominal.endclass.faults', 'rep0_range_11.nominal.endclass.classification', 'rep0_range_11.nominal.endclass.end_x', 'rep0_range_11.nominal.endclass.end_y', 'rep0_range_11.nominal.endclass.endpt', 'rep0_range_12.power_no_charge_t1.endclass.rate', 'rep0_range_12.power_no_charge_t1.endclass.cost', 'rep0_range_12.power_no_charge_t1.endclass.prob', 'rep0_range_12.power_no_charge_t1.endclass.expected_cost', 'rep0_range_12.power_no_charge_t1.endclass.in_bound', 'rep0_range_12.power_no_charge_t1.endclass.at_finish', 'rep0_range_12.power_no_charge_t1.endclass.line_dist', 'rep0_range_12.power_no_charge_t1.endclass.num_modes', 'rep0_range_12.power_no_charge_t1.endclass.end_dist', 'rep0_range_12.power_no_charge_t1.endclass.tot_deviation', 'rep0_range_12.power_no_charge_t1.endclass.faults', 'rep0_range_12.power_no_charge_t1.endclass.classification', 'rep0_range_12.power_no_charge_t1.endclass.end_x', 'rep0_range_12.power_no_charge_t1.endclass.end_y', 'rep0_range_12.power_no_charge_t1.endclass.endpt', 'rep0_range_12.power_no_charge_t2.endclass.rate', 'rep0_range_12.power_no_charge_t2.endclass.cost', 'rep0_range_12.power_no_charge_t2.endclass.prob', 'rep0_range_12.power_no_charge_t2.endclass.expected_cost', 'rep0_range_12.power_no_charge_t2.endclass.in_bound', 'rep0_range_12.power_no_charge_t2.endclass.at_finish', 'rep0_range_12.power_no_charge_t2.endclass.line_dist', 'rep0_range_12.power_no_charge_t2.endclass.num_modes', 'rep0_range_12.power_no_charge_t2.endclass.end_dist', 'rep0_range_12.power_no_charge_t2.endclass.tot_deviation', 'rep0_range_12.power_no_charge_t2.endclass.faults', 'rep0_range_12.power_no_charge_t2.endclass.classification', 'rep0_range_12.power_no_charge_t2.endclass.end_x', 'rep0_range_12.power_no_charge_t2.endclass.end_y', 'rep0_range_12.power_no_charge_t2.endclass.endpt', 'rep0_range_12.power_short_t1.endclass.rate', 'rep0_range_12.power_short_t1.endclass.cost', 'rep0_range_12.power_short_t1.endclass.prob', 'rep0_range_12.power_short_t1.endclass.expected_cost', 'rep0_range_12.power_short_t1.endclass.in_bound', 'rep0_range_12.power_short_t1.endclass.at_finish', 'rep0_range_12.power_short_t1.endclass.line_dist', 'rep0_range_12.power_short_t1.endclass.num_modes', 'rep0_range_12.power_short_t1.endclass.end_dist', 'rep0_range_12.power_short_t1.endclass.tot_deviation', 'rep0_range_12.power_short_t1.endclass.faults', 'rep0_range_12.power_short_t1.endclass.classification', 'rep0_range_12.power_short_t1.endclass.end_x', 'rep0_range_12.power_short_t1.endclass.end_y', 'rep0_range_12.power_short_t1.endclass.endpt', 'rep0_range_12.power_short_t2.endclass.rate', 'rep0_range_12.power_short_t2.endclass.cost', 'rep0_range_12.power_short_t2.endclass.prob', 'rep0_range_12.power_short_t2.endclass.expected_cost', 'rep0_range_12.power_short_t2.endclass.in_bound', 'rep0_range_12.power_short_t2.endclass.at_finish', 'rep0_range_12.power_short_t2.endclass.line_dist', 'rep0_range_12.power_short_t2.endclass.num_modes', 'rep0_range_12.power_short_t2.endclass.end_dist', 'rep0_range_12.power_short_t2.endclass.tot_deviation', 'rep0_range_12.power_short_t2.endclass.faults', 'rep0_range_12.power_short_t2.endclass.classification', 'rep0_range_12.power_short_t2.endclass.end_x', 'rep0_range_12.power_short_t2.endclass.end_y', 'rep0_range_12.power_short_t2.endclass.endpt', 'rep0_range_12.nominal.endclass.rate', 'rep0_range_12.nominal.endclass.cost', 'rep0_range_12.nominal.endclass.prob', 'rep0_range_12.nominal.endclass.expected_cost', 'rep0_range_12.nominal.endclass.in_bound', 'rep0_range_12.nominal.endclass.at_finish', 'rep0_range_12.nominal.endclass.line_dist', 'rep0_range_12.nominal.endclass.num_modes', 'rep0_range_12.nominal.endclass.end_dist', 'rep0_range_12.nominal.endclass.tot_deviation', 'rep0_range_12.nominal.endclass.faults', 'rep0_range_12.nominal.endclass.classification', 'rep0_range_12.nominal.endclass.end_x', 'rep0_range_12.nominal.endclass.end_y', 'rep0_range_12.nominal.endclass.endpt', 'rep0_range_13.power_no_charge_t1.endclass.rate', 'rep0_range_13.power_no_charge_t1.endclass.cost', 'rep0_range_13.power_no_charge_t1.endclass.prob', 'rep0_range_13.power_no_charge_t1.endclass.expected_cost', 'rep0_range_13.power_no_charge_t1.endclass.in_bound', 'rep0_range_13.power_no_charge_t1.endclass.at_finish', 'rep0_range_13.power_no_charge_t1.endclass.line_dist', 'rep0_range_13.power_no_charge_t1.endclass.num_modes', 'rep0_range_13.power_no_charge_t1.endclass.end_dist', 'rep0_range_13.power_no_charge_t1.endclass.tot_deviation', 'rep0_range_13.power_no_charge_t1.endclass.faults', 'rep0_range_13.power_no_charge_t1.endclass.classification', 'rep0_range_13.power_no_charge_t1.endclass.end_x', 'rep0_range_13.power_no_charge_t1.endclass.end_y', 'rep0_range_13.power_no_charge_t1.endclass.endpt', 'rep0_range_13.power_no_charge_t2.endclass.rate', 'rep0_range_13.power_no_charge_t2.endclass.cost', 'rep0_range_13.power_no_charge_t2.endclass.prob', 'rep0_range_13.power_no_charge_t2.endclass.expected_cost', 'rep0_range_13.power_no_charge_t2.endclass.in_bound', 'rep0_range_13.power_no_charge_t2.endclass.at_finish', 'rep0_range_13.power_no_charge_t2.endclass.line_dist', 'rep0_range_13.power_no_charge_t2.endclass.num_modes', 'rep0_range_13.power_no_charge_t2.endclass.end_dist', 'rep0_range_13.power_no_charge_t2.endclass.tot_deviation', 'rep0_range_13.power_no_charge_t2.endclass.faults', 'rep0_range_13.power_no_charge_t2.endclass.classification', 'rep0_range_13.power_no_charge_t2.endclass.end_x', 'rep0_range_13.power_no_charge_t2.endclass.end_y', 'rep0_range_13.power_no_charge_t2.endclass.endpt', 'rep0_range_13.power_short_t1.endclass.rate', 'rep0_range_13.power_short_t1.endclass.cost', 'rep0_range_13.power_short_t1.endclass.prob', 'rep0_range_13.power_short_t1.endclass.expected_cost', 'rep0_range_13.power_short_t1.endclass.in_bound', 'rep0_range_13.power_short_t1.endclass.at_finish', 'rep0_range_13.power_short_t1.endclass.line_dist', 'rep0_range_13.power_short_t1.endclass.num_modes', 'rep0_range_13.power_short_t1.endclass.end_dist', 'rep0_range_13.power_short_t1.endclass.tot_deviation', 'rep0_range_13.power_short_t1.endclass.faults', 'rep0_range_13.power_short_t1.endclass.classification', 'rep0_range_13.power_short_t1.endclass.end_x', 'rep0_range_13.power_short_t1.endclass.end_y', 'rep0_range_13.power_short_t1.endclass.endpt', 'rep0_range_13.power_short_t2.endclass.rate', 'rep0_range_13.power_short_t2.endclass.cost', 'rep0_range_13.power_short_t2.endclass.prob', 'rep0_range_13.power_short_t2.endclass.expected_cost', 'rep0_range_13.power_short_t2.endclass.in_bound', 'rep0_range_13.power_short_t2.endclass.at_finish', 'rep0_range_13.power_short_t2.endclass.line_dist', 'rep0_range_13.power_short_t2.endclass.num_modes', 'rep0_range_13.power_short_t2.endclass.end_dist', 'rep0_range_13.power_short_t2.endclass.tot_deviation', 'rep0_range_13.power_short_t2.endclass.faults', 'rep0_range_13.power_short_t2.endclass.classification', 'rep0_range_13.power_short_t2.endclass.end_x', 'rep0_range_13.power_short_t2.endclass.end_y', 'rep0_range_13.power_short_t2.endclass.endpt', 'rep0_range_13.nominal.endclass.rate', 'rep0_range_13.nominal.endclass.cost', 'rep0_range_13.nominal.endclass.prob', 'rep0_range_13.nominal.endclass.expected_cost', 'rep0_range_13.nominal.endclass.in_bound', 'rep0_range_13.nominal.endclass.at_finish', 'rep0_range_13.nominal.endclass.line_dist', 'rep0_range_13.nominal.endclass.num_modes', 'rep0_range_13.nominal.endclass.end_dist', 'rep0_range_13.nominal.endclass.tot_deviation', 'rep0_range_13.nominal.endclass.faults', 'rep0_range_13.nominal.endclass.classification', 'rep0_range_13.nominal.endclass.end_x', 'rep0_range_13.nominal.endclass.end_y', 'rep0_range_13.nominal.endclass.endpt', 'rep0_range_14.power_no_charge_t1.endclass.rate', 'rep0_range_14.power_no_charge_t1.endclass.cost', 'rep0_range_14.power_no_charge_t1.endclass.prob', 'rep0_range_14.power_no_charge_t1.endclass.expected_cost', 'rep0_range_14.power_no_charge_t1.endclass.in_bound', 'rep0_range_14.power_no_charge_t1.endclass.at_finish', 'rep0_range_14.power_no_charge_t1.endclass.line_dist', 'rep0_range_14.power_no_charge_t1.endclass.num_modes', 'rep0_range_14.power_no_charge_t1.endclass.end_dist', 'rep0_range_14.power_no_charge_t1.endclass.tot_deviation', 'rep0_range_14.power_no_charge_t1.endclass.faults', 'rep0_range_14.power_no_charge_t1.endclass.classification', 'rep0_range_14.power_no_charge_t1.endclass.end_x', 'rep0_range_14.power_no_charge_t1.endclass.end_y', 'rep0_range_14.power_no_charge_t1.endclass.endpt', 'rep0_range_14.power_no_charge_t2.endclass.rate', 'rep0_range_14.power_no_charge_t2.endclass.cost', 'rep0_range_14.power_no_charge_t2.endclass.prob', 'rep0_range_14.power_no_charge_t2.endclass.expected_cost', 'rep0_range_14.power_no_charge_t2.endclass.in_bound', 'rep0_range_14.power_no_charge_t2.endclass.at_finish', 'rep0_range_14.power_no_charge_t2.endclass.line_dist', 'rep0_range_14.power_no_charge_t2.endclass.num_modes', 'rep0_range_14.power_no_charge_t2.endclass.end_dist', 'rep0_range_14.power_no_charge_t2.endclass.tot_deviation', 'rep0_range_14.power_no_charge_t2.endclass.faults', 'rep0_range_14.power_no_charge_t2.endclass.classification', 'rep0_range_14.power_no_charge_t2.endclass.end_x', 'rep0_range_14.power_no_charge_t2.endclass.end_y', 'rep0_range_14.power_no_charge_t2.endclass.endpt', 'rep0_range_14.power_short_t1.endclass.rate', 'rep0_range_14.power_short_t1.endclass.cost', 'rep0_range_14.power_short_t1.endclass.prob', 'rep0_range_14.power_short_t1.endclass.expected_cost', 'rep0_range_14.power_short_t1.endclass.in_bound', 'rep0_range_14.power_short_t1.endclass.at_finish', 'rep0_range_14.power_short_t1.endclass.line_dist', 'rep0_range_14.power_short_t1.endclass.num_modes', 'rep0_range_14.power_short_t1.endclass.end_dist', 'rep0_range_14.power_short_t1.endclass.tot_deviation', 'rep0_range_14.power_short_t1.endclass.faults', 'rep0_range_14.power_short_t1.endclass.classification', 'rep0_range_14.power_short_t1.endclass.end_x', 'rep0_range_14.power_short_t1.endclass.end_y', 'rep0_range_14.power_short_t1.endclass.endpt', 'rep0_range_14.power_short_t2.endclass.rate', 'rep0_range_14.power_short_t2.endclass.cost', 'rep0_range_14.power_short_t2.endclass.prob', 'rep0_range_14.power_short_t2.endclass.expected_cost', 'rep0_range_14.power_short_t2.endclass.in_bound', 'rep0_range_14.power_short_t2.endclass.at_finish', 'rep0_range_14.power_short_t2.endclass.line_dist', 'rep0_range_14.power_short_t2.endclass.num_modes', 'rep0_range_14.power_short_t2.endclass.end_dist', 'rep0_range_14.power_short_t2.endclass.tot_deviation', 'rep0_range_14.power_short_t2.endclass.faults', 'rep0_range_14.power_short_t2.endclass.classification', 'rep0_range_14.power_short_t2.endclass.end_x', 'rep0_range_14.power_short_t2.endclass.end_y', 'rep0_range_14.power_short_t2.endclass.endpt', 'rep0_range_14.nominal.endclass.rate', 'rep0_range_14.nominal.endclass.cost', 'rep0_range_14.nominal.endclass.prob', 'rep0_range_14.nominal.endclass.expected_cost', 'rep0_range_14.nominal.endclass.in_bound', 'rep0_range_14.nominal.endclass.at_finish', 'rep0_range_14.nominal.endclass.line_dist', 'rep0_range_14.nominal.endclass.num_modes', 'rep0_range_14.nominal.endclass.end_dist', 'rep0_range_14.nominal.endclass.tot_deviation', 'rep0_range_14.nominal.endclass.faults', 'rep0_range_14.nominal.endclass.classification', 'rep0_range_14.nominal.endclass.end_x', 'rep0_range_14.nominal.endclass.end_y', 'rep0_range_14.nominal.endclass.endpt', 'rep0_range_15.power_no_charge_t1.endclass.rate', 'rep0_range_15.power_no_charge_t1.endclass.cost', 'rep0_range_15.power_no_charge_t1.endclass.prob', 'rep0_range_15.power_no_charge_t1.endclass.expected_cost', 'rep0_range_15.power_no_charge_t1.endclass.in_bound', 'rep0_range_15.power_no_charge_t1.endclass.at_finish', 'rep0_range_15.power_no_charge_t1.endclass.line_dist', 'rep0_range_15.power_no_charge_t1.endclass.num_modes', 'rep0_range_15.power_no_charge_t1.endclass.end_dist', 'rep0_range_15.power_no_charge_t1.endclass.tot_deviation', 'rep0_range_15.power_no_charge_t1.endclass.faults', 'rep0_range_15.power_no_charge_t1.endclass.classification', 'rep0_range_15.power_no_charge_t1.endclass.end_x', 'rep0_range_15.power_no_charge_t1.endclass.end_y', 'rep0_range_15.power_no_charge_t1.endclass.endpt', 'rep0_range_15.power_no_charge_t2.endclass.rate', 'rep0_range_15.power_no_charge_t2.endclass.cost', 'rep0_range_15.power_no_charge_t2.endclass.prob', 'rep0_range_15.power_no_charge_t2.endclass.expected_cost', 'rep0_range_15.power_no_charge_t2.endclass.in_bound', 'rep0_range_15.power_no_charge_t2.endclass.at_finish', 'rep0_range_15.power_no_charge_t2.endclass.line_dist', 'rep0_range_15.power_no_charge_t2.endclass.num_modes', 'rep0_range_15.power_no_charge_t2.endclass.end_dist', 'rep0_range_15.power_no_charge_t2.endclass.tot_deviation', 'rep0_range_15.power_no_charge_t2.endclass.faults', 'rep0_range_15.power_no_charge_t2.endclass.classification', 'rep0_range_15.power_no_charge_t2.endclass.end_x', 'rep0_range_15.power_no_charge_t2.endclass.end_y', 'rep0_range_15.power_no_charge_t2.endclass.endpt', 'rep0_range_15.power_short_t1.endclass.rate', 'rep0_range_15.power_short_t1.endclass.cost', 'rep0_range_15.power_short_t1.endclass.prob', 'rep0_range_15.power_short_t1.endclass.expected_cost', 'rep0_range_15.power_short_t1.endclass.in_bound', 'rep0_range_15.power_short_t1.endclass.at_finish', 'rep0_range_15.power_short_t1.endclass.line_dist', 'rep0_range_15.power_short_t1.endclass.num_modes', 'rep0_range_15.power_short_t1.endclass.end_dist', 'rep0_range_15.power_short_t1.endclass.tot_deviation', 'rep0_range_15.power_short_t1.endclass.faults', 'rep0_range_15.power_short_t1.endclass.classification', 'rep0_range_15.power_short_t1.endclass.end_x', 'rep0_range_15.power_short_t1.endclass.end_y', 'rep0_range_15.power_short_t1.endclass.endpt', 'rep0_range_15.power_short_t2.endclass.rate', 'rep0_range_15.power_short_t2.endclass.cost', 'rep0_range_15.power_short_t2.endclass.prob', 'rep0_range_15.power_short_t2.endclass.expected_cost', 'rep0_range_15.power_short_t2.endclass.in_bound', 'rep0_range_15.power_short_t2.endclass.at_finish', 'rep0_range_15.power_short_t2.endclass.line_dist', 'rep0_range_15.power_short_t2.endclass.num_modes', 'rep0_range_15.power_short_t2.endclass.end_dist', 'rep0_range_15.power_short_t2.endclass.tot_deviation', 'rep0_range_15.power_short_t2.endclass.faults', 'rep0_range_15.power_short_t2.endclass.classification', 'rep0_range_15.power_short_t2.endclass.end_x', 'rep0_range_15.power_short_t2.endclass.end_y', 'rep0_range_15.power_short_t2.endclass.endpt', 'rep0_range_15.nominal.endclass.rate', 'rep0_range_15.nominal.endclass.cost', 'rep0_range_15.nominal.endclass.prob', 'rep0_range_15.nominal.endclass.expected_cost', 'rep0_range_15.nominal.endclass.in_bound', 'rep0_range_15.nominal.endclass.at_finish', 'rep0_range_15.nominal.endclass.line_dist', 'rep0_range_15.nominal.endclass.num_modes', 'rep0_range_15.nominal.endclass.end_dist', 'rep0_range_15.nominal.endclass.tot_deviation', 'rep0_range_15.nominal.endclass.faults', 'rep0_range_15.nominal.endclass.classification', 'rep0_range_15.nominal.endclass.end_x', 'rep0_range_15.nominal.endclass.end_y', 'rep0_range_15.nominal.endclass.endpt', 'rep0_range_16.power_no_charge_t1.endclass.rate', 'rep0_range_16.power_no_charge_t1.endclass.cost', 'rep0_range_16.power_no_charge_t1.endclass.prob', 'rep0_range_16.power_no_charge_t1.endclass.expected_cost', 'rep0_range_16.power_no_charge_t1.endclass.in_bound', 'rep0_range_16.power_no_charge_t1.endclass.at_finish', 'rep0_range_16.power_no_charge_t1.endclass.line_dist', 'rep0_range_16.power_no_charge_t1.endclass.num_modes', 'rep0_range_16.power_no_charge_t1.endclass.end_dist', 'rep0_range_16.power_no_charge_t1.endclass.tot_deviation', 'rep0_range_16.power_no_charge_t1.endclass.faults', 'rep0_range_16.power_no_charge_t1.endclass.classification', 'rep0_range_16.power_no_charge_t1.endclass.end_x', 'rep0_range_16.power_no_charge_t1.endclass.end_y', 'rep0_range_16.power_no_charge_t1.endclass.endpt', 'rep0_range_16.power_no_charge_t2.endclass.rate', 'rep0_range_16.power_no_charge_t2.endclass.cost', 'rep0_range_16.power_no_charge_t2.endclass.prob', 'rep0_range_16.power_no_charge_t2.endclass.expected_cost', 'rep0_range_16.power_no_charge_t2.endclass.in_bound', 'rep0_range_16.power_no_charge_t2.endclass.at_finish', 'rep0_range_16.power_no_charge_t2.endclass.line_dist', 'rep0_range_16.power_no_charge_t2.endclass.num_modes', 'rep0_range_16.power_no_charge_t2.endclass.end_dist', 'rep0_range_16.power_no_charge_t2.endclass.tot_deviation', 'rep0_range_16.power_no_charge_t2.endclass.faults', 'rep0_range_16.power_no_charge_t2.endclass.classification', 'rep0_range_16.power_no_charge_t2.endclass.end_x', 'rep0_range_16.power_no_charge_t2.endclass.end_y', 'rep0_range_16.power_no_charge_t2.endclass.endpt', 'rep0_range_16.power_short_t1.endclass.rate', 'rep0_range_16.power_short_t1.endclass.cost', 'rep0_range_16.power_short_t1.endclass.prob', 'rep0_range_16.power_short_t1.endclass.expected_cost', 'rep0_range_16.power_short_t1.endclass.in_bound', 'rep0_range_16.power_short_t1.endclass.at_finish', 'rep0_range_16.power_short_t1.endclass.line_dist', 'rep0_range_16.power_short_t1.endclass.num_modes', 'rep0_range_16.power_short_t1.endclass.end_dist', 'rep0_range_16.power_short_t1.endclass.tot_deviation', 'rep0_range_16.power_short_t1.endclass.faults', 'rep0_range_16.power_short_t1.endclass.classification', 'rep0_range_16.power_short_t1.endclass.end_x', 'rep0_range_16.power_short_t1.endclass.end_y', 'rep0_range_16.power_short_t1.endclass.endpt', 'rep0_range_16.power_short_t2.endclass.rate', 'rep0_range_16.power_short_t2.endclass.cost', 'rep0_range_16.power_short_t2.endclass.prob', 'rep0_range_16.power_short_t2.endclass.expected_cost', 'rep0_range_16.power_short_t2.endclass.in_bound', 'rep0_range_16.power_short_t2.endclass.at_finish', 'rep0_range_16.power_short_t2.endclass.line_dist', 'rep0_range_16.power_short_t2.endclass.num_modes', 'rep0_range_16.power_short_t2.endclass.end_dist', 'rep0_range_16.power_short_t2.endclass.tot_deviation', 'rep0_range_16.power_short_t2.endclass.faults', 'rep0_range_16.power_short_t2.endclass.classification', 'rep0_range_16.power_short_t2.endclass.end_x', 'rep0_range_16.power_short_t2.endclass.end_y', 'rep0_range_16.power_short_t2.endclass.endpt', 'rep0_range_16.nominal.endclass.rate', 'rep0_range_16.nominal.endclass.cost', 'rep0_range_16.nominal.endclass.prob', 'rep0_range_16.nominal.endclass.expected_cost', 'rep0_range_16.nominal.endclass.in_bound', 'rep0_range_16.nominal.endclass.at_finish', 'rep0_range_16.nominal.endclass.line_dist', 'rep0_range_16.nominal.endclass.num_modes', 'rep0_range_16.nominal.endclass.end_dist', 'rep0_range_16.nominal.endclass.tot_deviation', 'rep0_range_16.nominal.endclass.faults', 'rep0_range_16.nominal.endclass.classification', 'rep0_range_16.nominal.endclass.end_x', 'rep0_range_16.nominal.endclass.end_y', 'rep0_range_16.nominal.endclass.endpt', 'rep0_range_17.power_no_charge_t1.endclass.rate', 'rep0_range_17.power_no_charge_t1.endclass.cost', 'rep0_range_17.power_no_charge_t1.endclass.prob', 'rep0_range_17.power_no_charge_t1.endclass.expected_cost', 'rep0_range_17.power_no_charge_t1.endclass.in_bound', 'rep0_range_17.power_no_charge_t1.endclass.at_finish', 'rep0_range_17.power_no_charge_t1.endclass.line_dist', 'rep0_range_17.power_no_charge_t1.endclass.num_modes', 'rep0_range_17.power_no_charge_t1.endclass.end_dist', 'rep0_range_17.power_no_charge_t1.endclass.tot_deviation', 'rep0_range_17.power_no_charge_t1.endclass.faults', 'rep0_range_17.power_no_charge_t1.endclass.classification', 'rep0_range_17.power_no_charge_t1.endclass.end_x', 'rep0_range_17.power_no_charge_t1.endclass.end_y', 'rep0_range_17.power_no_charge_t1.endclass.endpt', 'rep0_range_17.power_no_charge_t2.endclass.rate', 'rep0_range_17.power_no_charge_t2.endclass.cost', 'rep0_range_17.power_no_charge_t2.endclass.prob', 'rep0_range_17.power_no_charge_t2.endclass.expected_cost', 'rep0_range_17.power_no_charge_t2.endclass.in_bound', 'rep0_range_17.power_no_charge_t2.endclass.at_finish', 'rep0_range_17.power_no_charge_t2.endclass.line_dist', 'rep0_range_17.power_no_charge_t2.endclass.num_modes', 'rep0_range_17.power_no_charge_t2.endclass.end_dist', 'rep0_range_17.power_no_charge_t2.endclass.tot_deviation', 'rep0_range_17.power_no_charge_t2.endclass.faults', 'rep0_range_17.power_no_charge_t2.endclass.classification', 'rep0_range_17.power_no_charge_t2.endclass.end_x', 'rep0_range_17.power_no_charge_t2.endclass.end_y', 'rep0_range_17.power_no_charge_t2.endclass.endpt', 'rep0_range_17.power_short_t1.endclass.rate', 'rep0_range_17.power_short_t1.endclass.cost', 'rep0_range_17.power_short_t1.endclass.prob', 'rep0_range_17.power_short_t1.endclass.expected_cost', 'rep0_range_17.power_short_t1.endclass.in_bound', 'rep0_range_17.power_short_t1.endclass.at_finish', 'rep0_range_17.power_short_t1.endclass.line_dist', 'rep0_range_17.power_short_t1.endclass.num_modes', 'rep0_range_17.power_short_t1.endclass.end_dist', 'rep0_range_17.power_short_t1.endclass.tot_deviation', 'rep0_range_17.power_short_t1.endclass.faults', 'rep0_range_17.power_short_t1.endclass.classification', 'rep0_range_17.power_short_t1.endclass.end_x', 'rep0_range_17.power_short_t1.endclass.end_y', 'rep0_range_17.power_short_t1.endclass.endpt', 'rep0_range_17.power_short_t2.endclass.rate', 'rep0_range_17.power_short_t2.endclass.cost', 'rep0_range_17.power_short_t2.endclass.prob', 'rep0_range_17.power_short_t2.endclass.expected_cost', 'rep0_range_17.power_short_t2.endclass.in_bound', 'rep0_range_17.power_short_t2.endclass.at_finish', 'rep0_range_17.power_short_t2.endclass.line_dist', 'rep0_range_17.power_short_t2.endclass.num_modes', 'rep0_range_17.power_short_t2.endclass.end_dist', 'rep0_range_17.power_short_t2.endclass.tot_deviation', 'rep0_range_17.power_short_t2.endclass.faults', 'rep0_range_17.power_short_t2.endclass.classification', 'rep0_range_17.power_short_t2.endclass.end_x', 'rep0_range_17.power_short_t2.endclass.end_y', 'rep0_range_17.power_short_t2.endclass.endpt', 'rep0_range_17.nominal.endclass.rate', 'rep0_range_17.nominal.endclass.cost', 'rep0_range_17.nominal.endclass.prob', 'rep0_range_17.nominal.endclass.expected_cost', 'rep0_range_17.nominal.endclass.in_bound', 'rep0_range_17.nominal.endclass.at_finish', 'rep0_range_17.nominal.endclass.line_dist', 'rep0_range_17.nominal.endclass.num_modes', 'rep0_range_17.nominal.endclass.end_dist', 'rep0_range_17.nominal.endclass.tot_deviation', 'rep0_range_17.nominal.endclass.faults', 'rep0_range_17.nominal.endclass.classification', 'rep0_range_17.nominal.endclass.end_x', 'rep0_range_17.nominal.endclass.end_y', 'rep0_range_17.nominal.endclass.endpt', 'rep0_range_18.power_no_charge_t1.endclass.rate', 'rep0_range_18.power_no_charge_t1.endclass.cost', 'rep0_range_18.power_no_charge_t1.endclass.prob', 'rep0_range_18.power_no_charge_t1.endclass.expected_cost', 'rep0_range_18.power_no_charge_t1.endclass.in_bound', 'rep0_range_18.power_no_charge_t1.endclass.at_finish', 'rep0_range_18.power_no_charge_t1.endclass.line_dist', 'rep0_range_18.power_no_charge_t1.endclass.num_modes', 'rep0_range_18.power_no_charge_t1.endclass.end_dist', 'rep0_range_18.power_no_charge_t1.endclass.tot_deviation', 'rep0_range_18.power_no_charge_t1.endclass.faults', 'rep0_range_18.power_no_charge_t1.endclass.classification', 'rep0_range_18.power_no_charge_t1.endclass.end_x', 'rep0_range_18.power_no_charge_t1.endclass.end_y', 'rep0_range_18.power_no_charge_t1.endclass.endpt', 'rep0_range_18.power_no_charge_t2.endclass.rate', 'rep0_range_18.power_no_charge_t2.endclass.cost', 'rep0_range_18.power_no_charge_t2.endclass.prob', 'rep0_range_18.power_no_charge_t2.endclass.expected_cost', 'rep0_range_18.power_no_charge_t2.endclass.in_bound', 'rep0_range_18.power_no_charge_t2.endclass.at_finish', 'rep0_range_18.power_no_charge_t2.endclass.line_dist', 'rep0_range_18.power_no_charge_t2.endclass.num_modes', 'rep0_range_18.power_no_charge_t2.endclass.end_dist', 'rep0_range_18.power_no_charge_t2.endclass.tot_deviation', 'rep0_range_18.power_no_charge_t2.endclass.faults', 'rep0_range_18.power_no_charge_t2.endclass.classification', 'rep0_range_18.power_no_charge_t2.endclass.end_x', 'rep0_range_18.power_no_charge_t2.endclass.end_y', 'rep0_range_18.power_no_charge_t2.endclass.endpt', 'rep0_range_18.power_short_t1.endclass.rate', 'rep0_range_18.power_short_t1.endclass.cost', 'rep0_range_18.power_short_t1.endclass.prob', 'rep0_range_18.power_short_t1.endclass.expected_cost', 'rep0_range_18.power_short_t1.endclass.in_bound', 'rep0_range_18.power_short_t1.endclass.at_finish', 'rep0_range_18.power_short_t1.endclass.line_dist', 'rep0_range_18.power_short_t1.endclass.num_modes', 'rep0_range_18.power_short_t1.endclass.end_dist', 'rep0_range_18.power_short_t1.endclass.tot_deviation', 'rep0_range_18.power_short_t1.endclass.faults', 'rep0_range_18.power_short_t1.endclass.classification', 'rep0_range_18.power_short_t1.endclass.end_x', 'rep0_range_18.power_short_t1.endclass.end_y', 'rep0_range_18.power_short_t1.endclass.endpt', 'rep0_range_18.power_short_t2.endclass.rate', 'rep0_range_18.power_short_t2.endclass.cost', 'rep0_range_18.power_short_t2.endclass.prob', 'rep0_range_18.power_short_t2.endclass.expected_cost', 'rep0_range_18.power_short_t2.endclass.in_bound', 'rep0_range_18.power_short_t2.endclass.at_finish', 'rep0_range_18.power_short_t2.endclass.line_dist', 'rep0_range_18.power_short_t2.endclass.num_modes', 'rep0_range_18.power_short_t2.endclass.end_dist', 'rep0_range_18.power_short_t2.endclass.tot_deviation', 'rep0_range_18.power_short_t2.endclass.faults', 'rep0_range_18.power_short_t2.endclass.classification', 'rep0_range_18.power_short_t2.endclass.end_x', 'rep0_range_18.power_short_t2.endclass.end_y', 'rep0_range_18.power_short_t2.endclass.endpt', 'rep0_range_18.nominal.endclass.rate', 'rep0_range_18.nominal.endclass.cost', 'rep0_range_18.nominal.endclass.prob', 'rep0_range_18.nominal.endclass.expected_cost', 'rep0_range_18.nominal.endclass.in_bound', 'rep0_range_18.nominal.endclass.at_finish', 'rep0_range_18.nominal.endclass.line_dist', 'rep0_range_18.nominal.endclass.num_modes', 'rep0_range_18.nominal.endclass.end_dist', 'rep0_range_18.nominal.endclass.tot_deviation', 'rep0_range_18.nominal.endclass.faults', 'rep0_range_18.nominal.endclass.classification', 'rep0_range_18.nominal.endclass.end_x', 'rep0_range_18.nominal.endclass.end_y', 'rep0_range_18.nominal.endclass.endpt', 'rep0_range_19.power_no_charge_t1.endclass.rate', 'rep0_range_19.power_no_charge_t1.endclass.cost', 'rep0_range_19.power_no_charge_t1.endclass.prob', 'rep0_range_19.power_no_charge_t1.endclass.expected_cost', 'rep0_range_19.power_no_charge_t1.endclass.in_bound', 'rep0_range_19.power_no_charge_t1.endclass.at_finish', 'rep0_range_19.power_no_charge_t1.endclass.line_dist', 'rep0_range_19.power_no_charge_t1.endclass.num_modes', 'rep0_range_19.power_no_charge_t1.endclass.end_dist', 'rep0_range_19.power_no_charge_t1.endclass.tot_deviation', 'rep0_range_19.power_no_charge_t1.endclass.faults', 'rep0_range_19.power_no_charge_t1.endclass.classification', 'rep0_range_19.power_no_charge_t1.endclass.end_x', 'rep0_range_19.power_no_charge_t1.endclass.end_y', 'rep0_range_19.power_no_charge_t1.endclass.endpt', 'rep0_range_19.power_no_charge_t2.endclass.rate', 'rep0_range_19.power_no_charge_t2.endclass.cost', 'rep0_range_19.power_no_charge_t2.endclass.prob', 'rep0_range_19.power_no_charge_t2.endclass.expected_cost', 'rep0_range_19.power_no_charge_t2.endclass.in_bound', 'rep0_range_19.power_no_charge_t2.endclass.at_finish', 'rep0_range_19.power_no_charge_t2.endclass.line_dist', 'rep0_range_19.power_no_charge_t2.endclass.num_modes', 'rep0_range_19.power_no_charge_t2.endclass.end_dist', 'rep0_range_19.power_no_charge_t2.endclass.tot_deviation', 'rep0_range_19.power_no_charge_t2.endclass.faults', 'rep0_range_19.power_no_charge_t2.endclass.classification', 'rep0_range_19.power_no_charge_t2.endclass.end_x', 'rep0_range_19.power_no_charge_t2.endclass.end_y', 'rep0_range_19.power_no_charge_t2.endclass.endpt', 'rep0_range_19.power_short_t1.endclass.rate', 'rep0_range_19.power_short_t1.endclass.cost', 'rep0_range_19.power_short_t1.endclass.prob', 'rep0_range_19.power_short_t1.endclass.expected_cost', 'rep0_range_19.power_short_t1.endclass.in_bound', 'rep0_range_19.power_short_t1.endclass.at_finish', 'rep0_range_19.power_short_t1.endclass.line_dist', 'rep0_range_19.power_short_t1.endclass.num_modes', 'rep0_range_19.power_short_t1.endclass.end_dist', 'rep0_range_19.power_short_t1.endclass.tot_deviation', 'rep0_range_19.power_short_t1.endclass.faults', 'rep0_range_19.power_short_t1.endclass.classification', 'rep0_range_19.power_short_t1.endclass.end_x', 'rep0_range_19.power_short_t1.endclass.end_y', 'rep0_range_19.power_short_t1.endclass.endpt', 'rep0_range_19.power_short_t2.endclass.rate', 'rep0_range_19.power_short_t2.endclass.cost', 'rep0_range_19.power_short_t2.endclass.prob', 'rep0_range_19.power_short_t2.endclass.expected_cost', 'rep0_range_19.power_short_t2.endclass.in_bound', 'rep0_range_19.power_short_t2.endclass.at_finish', 'rep0_range_19.power_short_t2.endclass.line_dist', 'rep0_range_19.power_short_t2.endclass.num_modes', 'rep0_range_19.power_short_t2.endclass.end_dist', 'rep0_range_19.power_short_t2.endclass.tot_deviation', 'rep0_range_19.power_short_t2.endclass.faults', 'rep0_range_19.power_short_t2.endclass.classification', 'rep0_range_19.power_short_t2.endclass.end_x', 'rep0_range_19.power_short_t2.endclass.end_y', 'rep0_range_19.power_short_t2.endclass.endpt', 'rep0_range_19.nominal.endclass.rate', 'rep0_range_19.nominal.endclass.cost', 'rep0_range_19.nominal.endclass.prob', 'rep0_range_19.nominal.endclass.expected_cost', 'rep0_range_19.nominal.endclass.in_bound', 'rep0_range_19.nominal.endclass.at_finish', 'rep0_range_19.nominal.endclass.line_dist', 'rep0_range_19.nominal.endclass.num_modes', 'rep0_range_19.nominal.endclass.end_dist', 'rep0_range_19.nominal.endclass.tot_deviation', 'rep0_range_19.nominal.endclass.faults', 'rep0_range_19.nominal.endclass.classification', 'rep0_range_19.nominal.endclass.end_x', 'rep0_range_19.nominal.endclass.end_y', 'rep0_range_19.nominal.endclass.endpt', 'rep0_range_20.power_no_charge_t1.endclass.rate', 'rep0_range_20.power_no_charge_t1.endclass.cost', 'rep0_range_20.power_no_charge_t1.endclass.prob', 'rep0_range_20.power_no_charge_t1.endclass.expected_cost', 'rep0_range_20.power_no_charge_t1.endclass.in_bound', 'rep0_range_20.power_no_charge_t1.endclass.at_finish', 'rep0_range_20.power_no_charge_t1.endclass.line_dist', 'rep0_range_20.power_no_charge_t1.endclass.num_modes', 'rep0_range_20.power_no_charge_t1.endclass.end_dist', 'rep0_range_20.power_no_charge_t1.endclass.tot_deviation', 'rep0_range_20.power_no_charge_t1.endclass.faults', 'rep0_range_20.power_no_charge_t1.endclass.classification', 'rep0_range_20.power_no_charge_t1.endclass.end_x', 'rep0_range_20.power_no_charge_t1.endclass.end_y', 'rep0_range_20.power_no_charge_t1.endclass.endpt', 'rep0_range_20.power_no_charge_t2.endclass.rate', 'rep0_range_20.power_no_charge_t2.endclass.cost', 'rep0_range_20.power_no_charge_t2.endclass.prob', 'rep0_range_20.power_no_charge_t2.endclass.expected_cost', 'rep0_range_20.power_no_charge_t2.endclass.in_bound', 'rep0_range_20.power_no_charge_t2.endclass.at_finish', 'rep0_range_20.power_no_charge_t2.endclass.line_dist', 'rep0_range_20.power_no_charge_t2.endclass.num_modes', 'rep0_range_20.power_no_charge_t2.endclass.end_dist', 'rep0_range_20.power_no_charge_t2.endclass.tot_deviation', 'rep0_range_20.power_no_charge_t2.endclass.faults', 'rep0_range_20.power_no_charge_t2.endclass.classification', 'rep0_range_20.power_no_charge_t2.endclass.end_x', 'rep0_range_20.power_no_charge_t2.endclass.end_y', 'rep0_range_20.power_no_charge_t2.endclass.endpt', 'rep0_range_20.power_short_t1.endclass.rate', 'rep0_range_20.power_short_t1.endclass.cost', 'rep0_range_20.power_short_t1.endclass.prob', 'rep0_range_20.power_short_t1.endclass.expected_cost', 'rep0_range_20.power_short_t1.endclass.in_bound', 'rep0_range_20.power_short_t1.endclass.at_finish', 'rep0_range_20.power_short_t1.endclass.line_dist', 'rep0_range_20.power_short_t1.endclass.num_modes', 'rep0_range_20.power_short_t1.endclass.end_dist', 'rep0_range_20.power_short_t1.endclass.tot_deviation', 'rep0_range_20.power_short_t1.endclass.faults', 'rep0_range_20.power_short_t1.endclass.classification', 'rep0_range_20.power_short_t1.endclass.end_x', 'rep0_range_20.power_short_t1.endclass.end_y', 'rep0_range_20.power_short_t1.endclass.endpt', 'rep0_range_20.power_short_t2.endclass.rate', 'rep0_range_20.power_short_t2.endclass.cost', 'rep0_range_20.power_short_t2.endclass.prob', 'rep0_range_20.power_short_t2.endclass.expected_cost', 'rep0_range_20.power_short_t2.endclass.in_bound', 'rep0_range_20.power_short_t2.endclass.at_finish', 'rep0_range_20.power_short_t2.endclass.line_dist', 'rep0_range_20.power_short_t2.endclass.num_modes', 'rep0_range_20.power_short_t2.endclass.end_dist', 'rep0_range_20.power_short_t2.endclass.tot_deviation', 'rep0_range_20.power_short_t2.endclass.faults', 'rep0_range_20.power_short_t2.endclass.classification', 'rep0_range_20.power_short_t2.endclass.end_x', 'rep0_range_20.power_short_t2.endclass.end_y', 'rep0_range_20.power_short_t2.endclass.endpt', 'rep0_range_20.nominal.endclass.rate', 'rep0_range_20.nominal.endclass.cost', 'rep0_range_20.nominal.endclass.prob', 'rep0_range_20.nominal.endclass.expected_cost', 'rep0_range_20.nominal.endclass.in_bound', 'rep0_range_20.nominal.endclass.at_finish', 'rep0_range_20.nominal.endclass.line_dist', 'rep0_range_20.nominal.endclass.num_modes', 'rep0_range_20.nominal.endclass.end_dist', 'rep0_range_20.nominal.endclass.tot_deviation', 'rep0_range_20.nominal.endclass.faults', 'rep0_range_20.nominal.endclass.classification', 'rep0_range_20.nominal.endclass.end_x', 'rep0_range_20.nominal.endclass.end_y', 'rep0_range_20.nominal.endclass.endpt', 'rep0_range_21.power_no_charge_t1.endclass.rate', 'rep0_range_21.power_no_charge_t1.endclass.cost', 'rep0_range_21.power_no_charge_t1.endclass.prob', 'rep0_range_21.power_no_charge_t1.endclass.expected_cost', 'rep0_range_21.power_no_charge_t1.endclass.in_bound', 'rep0_range_21.power_no_charge_t1.endclass.at_finish', 'rep0_range_21.power_no_charge_t1.endclass.line_dist', 'rep0_range_21.power_no_charge_t1.endclass.num_modes', 'rep0_range_21.power_no_charge_t1.endclass.end_dist', 'rep0_range_21.power_no_charge_t1.endclass.tot_deviation', 'rep0_range_21.power_no_charge_t1.endclass.faults', 'rep0_range_21.power_no_charge_t1.endclass.classification', 'rep0_range_21.power_no_charge_t1.endclass.end_x', 'rep0_range_21.power_no_charge_t1.endclass.end_y', 'rep0_range_21.power_no_charge_t1.endclass.endpt', 'rep0_range_21.power_no_charge_t2.endclass.rate', 'rep0_range_21.power_no_charge_t2.endclass.cost', 'rep0_range_21.power_no_charge_t2.endclass.prob', 'rep0_range_21.power_no_charge_t2.endclass.expected_cost', 'rep0_range_21.power_no_charge_t2.endclass.in_bound', 'rep0_range_21.power_no_charge_t2.endclass.at_finish', 'rep0_range_21.power_no_charge_t2.endclass.line_dist', 'rep0_range_21.power_no_charge_t2.endclass.num_modes', 'rep0_range_21.power_no_charge_t2.endclass.end_dist', 'rep0_range_21.power_no_charge_t2.endclass.tot_deviation', 'rep0_range_21.power_no_charge_t2.endclass.faults', 'rep0_range_21.power_no_charge_t2.endclass.classification', 'rep0_range_21.power_no_charge_t2.endclass.end_x', 'rep0_range_21.power_no_charge_t2.endclass.end_y', 'rep0_range_21.power_no_charge_t2.endclass.endpt', 'rep0_range_21.power_short_t1.endclass.rate', 'rep0_range_21.power_short_t1.endclass.cost', 'rep0_range_21.power_short_t1.endclass.prob', 'rep0_range_21.power_short_t1.endclass.expected_cost', 'rep0_range_21.power_short_t1.endclass.in_bound', 'rep0_range_21.power_short_t1.endclass.at_finish', 'rep0_range_21.power_short_t1.endclass.line_dist', 'rep0_range_21.power_short_t1.endclass.num_modes', 'rep0_range_21.power_short_t1.endclass.end_dist', 'rep0_range_21.power_short_t1.endclass.tot_deviation', 'rep0_range_21.power_short_t1.endclass.faults', 'rep0_range_21.power_short_t1.endclass.classification', 'rep0_range_21.power_short_t1.endclass.end_x', 'rep0_range_21.power_short_t1.endclass.end_y', 'rep0_range_21.power_short_t1.endclass.endpt', 'rep0_range_21.power_short_t2.endclass.rate', 'rep0_range_21.power_short_t2.endclass.cost', 'rep0_range_21.power_short_t2.endclass.prob', 'rep0_range_21.power_short_t2.endclass.expected_cost', 'rep0_range_21.power_short_t2.endclass.in_bound', 'rep0_range_21.power_short_t2.endclass.at_finish', 'rep0_range_21.power_short_t2.endclass.line_dist', 'rep0_range_21.power_short_t2.endclass.num_modes', 'rep0_range_21.power_short_t2.endclass.end_dist', 'rep0_range_21.power_short_t2.endclass.tot_deviation', 'rep0_range_21.power_short_t2.endclass.faults', 'rep0_range_21.power_short_t2.endclass.classification', 'rep0_range_21.power_short_t2.endclass.end_x', 'rep0_range_21.power_short_t2.endclass.end_y', 'rep0_range_21.power_short_t2.endclass.endpt', 'rep0_range_21.nominal.endclass.rate', 'rep0_range_21.nominal.endclass.cost', 'rep0_range_21.nominal.endclass.prob', 'rep0_range_21.nominal.endclass.expected_cost', 'rep0_range_21.nominal.endclass.in_bound', 'rep0_range_21.nominal.endclass.at_finish', 'rep0_range_21.nominal.endclass.line_dist', 'rep0_range_21.nominal.endclass.num_modes', 'rep0_range_21.nominal.endclass.end_dist', 'rep0_range_21.nominal.endclass.tot_deviation', 'rep0_range_21.nominal.endclass.faults', 'rep0_range_21.nominal.endclass.classification', 'rep0_range_21.nominal.endclass.end_x', 'rep0_range_21.nominal.endclass.end_y', 'rep0_range_21.nominal.endclass.endpt', 'rep0_range_22.power_no_charge_t1.endclass.rate', 'rep0_range_22.power_no_charge_t1.endclass.cost', 'rep0_range_22.power_no_charge_t1.endclass.prob', 'rep0_range_22.power_no_charge_t1.endclass.expected_cost', 'rep0_range_22.power_no_charge_t1.endclass.in_bound', 'rep0_range_22.power_no_charge_t1.endclass.at_finish', 'rep0_range_22.power_no_charge_t1.endclass.line_dist', 'rep0_range_22.power_no_charge_t1.endclass.num_modes', 'rep0_range_22.power_no_charge_t1.endclass.end_dist', 'rep0_range_22.power_no_charge_t1.endclass.tot_deviation', 'rep0_range_22.power_no_charge_t1.endclass.faults', 'rep0_range_22.power_no_charge_t1.endclass.classification', 'rep0_range_22.power_no_charge_t1.endclass.end_x', 'rep0_range_22.power_no_charge_t1.endclass.end_y', 'rep0_range_22.power_no_charge_t1.endclass.endpt', 'rep0_range_22.power_no_charge_t2.endclass.rate', 'rep0_range_22.power_no_charge_t2.endclass.cost', 'rep0_range_22.power_no_charge_t2.endclass.prob', 'rep0_range_22.power_no_charge_t2.endclass.expected_cost', 'rep0_range_22.power_no_charge_t2.endclass.in_bound', 'rep0_range_22.power_no_charge_t2.endclass.at_finish', 'rep0_range_22.power_no_charge_t2.endclass.line_dist', 'rep0_range_22.power_no_charge_t2.endclass.num_modes', 'rep0_range_22.power_no_charge_t2.endclass.end_dist', 'rep0_range_22.power_no_charge_t2.endclass.tot_deviation', 'rep0_range_22.power_no_charge_t2.endclass.faults', 'rep0_range_22.power_no_charge_t2.endclass.classification', 'rep0_range_22.power_no_charge_t2.endclass.end_x', 'rep0_range_22.power_no_charge_t2.endclass.end_y', 'rep0_range_22.power_no_charge_t2.endclass.endpt', 'rep0_range_22.power_short_t1.endclass.rate', 'rep0_range_22.power_short_t1.endclass.cost', 'rep0_range_22.power_short_t1.endclass.prob', 'rep0_range_22.power_short_t1.endclass.expected_cost', 'rep0_range_22.power_short_t1.endclass.in_bound', 'rep0_range_22.power_short_t1.endclass.at_finish', 'rep0_range_22.power_short_t1.endclass.line_dist', 'rep0_range_22.power_short_t1.endclass.num_modes', 'rep0_range_22.power_short_t1.endclass.end_dist', 'rep0_range_22.power_short_t1.endclass.tot_deviation', 'rep0_range_22.power_short_t1.endclass.faults', 'rep0_range_22.power_short_t1.endclass.classification', 'rep0_range_22.power_short_t1.endclass.end_x', 'rep0_range_22.power_short_t1.endclass.end_y', 'rep0_range_22.power_short_t1.endclass.endpt', 'rep0_range_22.power_short_t2.endclass.rate', 'rep0_range_22.power_short_t2.endclass.cost', 'rep0_range_22.power_short_t2.endclass.prob', 'rep0_range_22.power_short_t2.endclass.expected_cost', 'rep0_range_22.power_short_t2.endclass.in_bound', 'rep0_range_22.power_short_t2.endclass.at_finish', 'rep0_range_22.power_short_t2.endclass.line_dist', 'rep0_range_22.power_short_t2.endclass.num_modes', 'rep0_range_22.power_short_t2.endclass.end_dist', 'rep0_range_22.power_short_t2.endclass.tot_deviation', 'rep0_range_22.power_short_t2.endclass.faults', 'rep0_range_22.power_short_t2.endclass.classification', 'rep0_range_22.power_short_t2.endclass.end_x', 'rep0_range_22.power_short_t2.endclass.end_y', 'rep0_range_22.power_short_t2.endclass.endpt', 'rep0_range_22.nominal.endclass.rate', 'rep0_range_22.nominal.endclass.cost', 'rep0_range_22.nominal.endclass.prob', 'rep0_range_22.nominal.endclass.expected_cost', 'rep0_range_22.nominal.endclass.in_bound', 'rep0_range_22.nominal.endclass.at_finish', 'rep0_range_22.nominal.endclass.line_dist', 'rep0_range_22.nominal.endclass.num_modes', 'rep0_range_22.nominal.endclass.end_dist', 'rep0_range_22.nominal.endclass.tot_deviation', 'rep0_range_22.nominal.endclass.faults', 'rep0_range_22.nominal.endclass.classification', 'rep0_range_22.nominal.endclass.end_x', 'rep0_range_22.nominal.endclass.end_y', 'rep0_range_22.nominal.endclass.endpt', 'rep0_range_23.power_no_charge_t1.endclass.rate', 'rep0_range_23.power_no_charge_t1.endclass.cost', 'rep0_range_23.power_no_charge_t1.endclass.prob', 'rep0_range_23.power_no_charge_t1.endclass.expected_cost', 'rep0_range_23.power_no_charge_t1.endclass.in_bound', 'rep0_range_23.power_no_charge_t1.endclass.at_finish', 'rep0_range_23.power_no_charge_t1.endclass.line_dist', 'rep0_range_23.power_no_charge_t1.endclass.num_modes', 'rep0_range_23.power_no_charge_t1.endclass.end_dist', 'rep0_range_23.power_no_charge_t1.endclass.tot_deviation', 'rep0_range_23.power_no_charge_t1.endclass.faults', 'rep0_range_23.power_no_charge_t1.endclass.classification', 'rep0_range_23.power_no_charge_t1.endclass.end_x', 'rep0_range_23.power_no_charge_t1.endclass.end_y', 'rep0_range_23.power_no_charge_t1.endclass.endpt', 'rep0_range_23.power_no_charge_t2.endclass.rate', 'rep0_range_23.power_no_charge_t2.endclass.cost', 'rep0_range_23.power_no_charge_t2.endclass.prob', 'rep0_range_23.power_no_charge_t2.endclass.expected_cost', 'rep0_range_23.power_no_charge_t2.endclass.in_bound', 'rep0_range_23.power_no_charge_t2.endclass.at_finish', 'rep0_range_23.power_no_charge_t2.endclass.line_dist', 'rep0_range_23.power_no_charge_t2.endclass.num_modes', 'rep0_range_23.power_no_charge_t2.endclass.end_dist', 'rep0_range_23.power_no_charge_t2.endclass.tot_deviation', 'rep0_range_23.power_no_charge_t2.endclass.faults', 'rep0_range_23.power_no_charge_t2.endclass.classification', 'rep0_range_23.power_no_charge_t2.endclass.end_x', 'rep0_range_23.power_no_charge_t2.endclass.end_y', 'rep0_range_23.power_no_charge_t2.endclass.endpt', 'rep0_range_23.power_short_t1.endclass.rate', 'rep0_range_23.power_short_t1.endclass.cost', 'rep0_range_23.power_short_t1.endclass.prob', 'rep0_range_23.power_short_t1.endclass.expected_cost', 'rep0_range_23.power_short_t1.endclass.in_bound', 'rep0_range_23.power_short_t1.endclass.at_finish', 'rep0_range_23.power_short_t1.endclass.line_dist', 'rep0_range_23.power_short_t1.endclass.num_modes', 'rep0_range_23.power_short_t1.endclass.end_dist', 'rep0_range_23.power_short_t1.endclass.tot_deviation', 'rep0_range_23.power_short_t1.endclass.faults', 'rep0_range_23.power_short_t1.endclass.classification', 'rep0_range_23.power_short_t1.endclass.end_x', 'rep0_range_23.power_short_t1.endclass.end_y', 'rep0_range_23.power_short_t1.endclass.endpt', 'rep0_range_23.power_short_t2.endclass.rate', 'rep0_range_23.power_short_t2.endclass.cost', 'rep0_range_23.power_short_t2.endclass.prob', 'rep0_range_23.power_short_t2.endclass.expected_cost', 'rep0_range_23.power_short_t2.endclass.in_bound', 'rep0_range_23.power_short_t2.endclass.at_finish', 'rep0_range_23.power_short_t2.endclass.line_dist', 'rep0_range_23.power_short_t2.endclass.num_modes', 'rep0_range_23.power_short_t2.endclass.end_dist', 'rep0_range_23.power_short_t2.endclass.tot_deviation', 'rep0_range_23.power_short_t2.endclass.faults', 'rep0_range_23.power_short_t2.endclass.classification', 'rep0_range_23.power_short_t2.endclass.end_x', 'rep0_range_23.power_short_t2.endclass.end_y', 'rep0_range_23.power_short_t2.endclass.endpt', 'rep0_range_23.nominal.endclass.rate', 'rep0_range_23.nominal.endclass.cost', 'rep0_range_23.nominal.endclass.prob', 'rep0_range_23.nominal.endclass.expected_cost', 'rep0_range_23.nominal.endclass.in_bound', 'rep0_range_23.nominal.endclass.at_finish', 'rep0_range_23.nominal.endclass.line_dist', 'rep0_range_23.nominal.endclass.num_modes', 'rep0_range_23.nominal.endclass.end_dist', 'rep0_range_23.nominal.endclass.tot_deviation', 'rep0_range_23.nominal.endclass.faults', 'rep0_range_23.nominal.endclass.classification', 'rep0_range_23.nominal.endclass.end_x', 'rep0_range_23.nominal.endclass.end_y', 'rep0_range_23.nominal.endclass.endpt', 'rep0_range_24.power_no_charge_t1.endclass.rate', 'rep0_range_24.power_no_charge_t1.endclass.cost', 'rep0_range_24.power_no_charge_t1.endclass.prob', 'rep0_range_24.power_no_charge_t1.endclass.expected_cost', 'rep0_range_24.power_no_charge_t1.endclass.in_bound', 'rep0_range_24.power_no_charge_t1.endclass.at_finish', 'rep0_range_24.power_no_charge_t1.endclass.line_dist', 'rep0_range_24.power_no_charge_t1.endclass.num_modes', 'rep0_range_24.power_no_charge_t1.endclass.end_dist', 'rep0_range_24.power_no_charge_t1.endclass.tot_deviation', 'rep0_range_24.power_no_charge_t1.endclass.faults', 'rep0_range_24.power_no_charge_t1.endclass.classification', 'rep0_range_24.power_no_charge_t1.endclass.end_x', 'rep0_range_24.power_no_charge_t1.endclass.end_y', 'rep0_range_24.power_no_charge_t1.endclass.endpt', 'rep0_range_24.power_no_charge_t2.endclass.rate', 'rep0_range_24.power_no_charge_t2.endclass.cost', 'rep0_range_24.power_no_charge_t2.endclass.prob', 'rep0_range_24.power_no_charge_t2.endclass.expected_cost', 'rep0_range_24.power_no_charge_t2.endclass.in_bound', 'rep0_range_24.power_no_charge_t2.endclass.at_finish', 'rep0_range_24.power_no_charge_t2.endclass.line_dist', 'rep0_range_24.power_no_charge_t2.endclass.num_modes', 'rep0_range_24.power_no_charge_t2.endclass.end_dist', 'rep0_range_24.power_no_charge_t2.endclass.tot_deviation', 'rep0_range_24.power_no_charge_t2.endclass.faults', 'rep0_range_24.power_no_charge_t2.endclass.classification', 'rep0_range_24.power_no_charge_t2.endclass.end_x', 'rep0_range_24.power_no_charge_t2.endclass.end_y', 'rep0_range_24.power_no_charge_t2.endclass.endpt', 'rep0_range_24.power_short_t1.endclass.rate', 'rep0_range_24.power_short_t1.endclass.cost', 'rep0_range_24.power_short_t1.endclass.prob', 'rep0_range_24.power_short_t1.endclass.expected_cost', 'rep0_range_24.power_short_t1.endclass.in_bound', 'rep0_range_24.power_short_t1.endclass.at_finish', 'rep0_range_24.power_short_t1.endclass.line_dist', 'rep0_range_24.power_short_t1.endclass.num_modes', 'rep0_range_24.power_short_t1.endclass.end_dist', 'rep0_range_24.power_short_t1.endclass.tot_deviation', 'rep0_range_24.power_short_t1.endclass.faults', 'rep0_range_24.power_short_t1.endclass.classification', 'rep0_range_24.power_short_t1.endclass.end_x', 'rep0_range_24.power_short_t1.endclass.end_y', 'rep0_range_24.power_short_t1.endclass.endpt', 'rep0_range_24.power_short_t2.endclass.rate', 'rep0_range_24.power_short_t2.endclass.cost', 'rep0_range_24.power_short_t2.endclass.prob', 'rep0_range_24.power_short_t2.endclass.expected_cost', 'rep0_range_24.power_short_t2.endclass.in_bound', 'rep0_range_24.power_short_t2.endclass.at_finish', 'rep0_range_24.power_short_t2.endclass.line_dist', 'rep0_range_24.power_short_t2.endclass.num_modes', 'rep0_range_24.power_short_t2.endclass.end_dist', 'rep0_range_24.power_short_t2.endclass.tot_deviation', 'rep0_range_24.power_short_t2.endclass.faults', 'rep0_range_24.power_short_t2.endclass.classification', 'rep0_range_24.power_short_t2.endclass.end_x', 'rep0_range_24.power_short_t2.endclass.end_y', 'rep0_range_24.power_short_t2.endclass.endpt', 'rep0_range_24.nominal.endclass.rate', 'rep0_range_24.nominal.endclass.cost', 'rep0_range_24.nominal.endclass.prob', 'rep0_range_24.nominal.endclass.expected_cost', 'rep0_range_24.nominal.endclass.in_bound', 'rep0_range_24.nominal.endclass.at_finish', 'rep0_range_24.nominal.endclass.line_dist', 'rep0_range_24.nominal.endclass.num_modes', 'rep0_range_24.nominal.endclass.end_dist', 'rep0_range_24.nominal.endclass.tot_deviation', 'rep0_range_24.nominal.endclass.faults', 'rep0_range_24.nominal.endclass.classification', 'rep0_range_24.nominal.endclass.end_x', 'rep0_range_24.nominal.endclass.end_y', 'rep0_range_24.nominal.endclass.endpt', 'rep0_range_25.power_no_charge_t1.endclass.rate', 'rep0_range_25.power_no_charge_t1.endclass.cost', 'rep0_range_25.power_no_charge_t1.endclass.prob', 'rep0_range_25.power_no_charge_t1.endclass.expected_cost', 'rep0_range_25.power_no_charge_t1.endclass.in_bound', 'rep0_range_25.power_no_charge_t1.endclass.at_finish', 'rep0_range_25.power_no_charge_t1.endclass.line_dist', 'rep0_range_25.power_no_charge_t1.endclass.num_modes', 'rep0_range_25.power_no_charge_t1.endclass.end_dist', 'rep0_range_25.power_no_charge_t1.endclass.tot_deviation', 'rep0_range_25.power_no_charge_t1.endclass.faults', 'rep0_range_25.power_no_charge_t1.endclass.classification', 'rep0_range_25.power_no_charge_t1.endclass.end_x', 'rep0_range_25.power_no_charge_t1.endclass.end_y', 'rep0_range_25.power_no_charge_t1.endclass.endpt', 'rep0_range_25.power_no_charge_t2.endclass.rate', 'rep0_range_25.power_no_charge_t2.endclass.cost', 'rep0_range_25.power_no_charge_t2.endclass.prob', 'rep0_range_25.power_no_charge_t2.endclass.expected_cost', 'rep0_range_25.power_no_charge_t2.endclass.in_bound', 'rep0_range_25.power_no_charge_t2.endclass.at_finish', 'rep0_range_25.power_no_charge_t2.endclass.line_dist', 'rep0_range_25.power_no_charge_t2.endclass.num_modes', 'rep0_range_25.power_no_charge_t2.endclass.end_dist', 'rep0_range_25.power_no_charge_t2.endclass.tot_deviation', 'rep0_range_25.power_no_charge_t2.endclass.faults', 'rep0_range_25.power_no_charge_t2.endclass.classification', 'rep0_range_25.power_no_charge_t2.endclass.end_x', 'rep0_range_25.power_no_charge_t2.endclass.end_y', 'rep0_range_25.power_no_charge_t2.endclass.endpt', 'rep0_range_25.power_short_t1.endclass.rate', 'rep0_range_25.power_short_t1.endclass.cost', 'rep0_range_25.power_short_t1.endclass.prob', 'rep0_range_25.power_short_t1.endclass.expected_cost', 'rep0_range_25.power_short_t1.endclass.in_bound', 'rep0_range_25.power_short_t1.endclass.at_finish', 'rep0_range_25.power_short_t1.endclass.line_dist', 'rep0_range_25.power_short_t1.endclass.num_modes', 'rep0_range_25.power_short_t1.endclass.end_dist', 'rep0_range_25.power_short_t1.endclass.tot_deviation', 'rep0_range_25.power_short_t1.endclass.faults', 'rep0_range_25.power_short_t1.endclass.classification', 'rep0_range_25.power_short_t1.endclass.end_x', 'rep0_range_25.power_short_t1.endclass.end_y', 'rep0_range_25.power_short_t1.endclass.endpt', 'rep0_range_25.power_short_t2.endclass.rate', 'rep0_range_25.power_short_t2.endclass.cost', 'rep0_range_25.power_short_t2.endclass.prob', 'rep0_range_25.power_short_t2.endclass.expected_cost', 'rep0_range_25.power_short_t2.endclass.in_bound', 'rep0_range_25.power_short_t2.endclass.at_finish', 'rep0_range_25.power_short_t2.endclass.line_dist', 'rep0_range_25.power_short_t2.endclass.num_modes', 'rep0_range_25.power_short_t2.endclass.end_dist', 'rep0_range_25.power_short_t2.endclass.tot_deviation', 'rep0_range_25.power_short_t2.endclass.faults', 'rep0_range_25.power_short_t2.endclass.classification', 'rep0_range_25.power_short_t2.endclass.end_x', 'rep0_range_25.power_short_t2.endclass.end_y', 'rep0_range_25.power_short_t2.endclass.endpt', 'rep0_range_25.nominal.endclass.rate', 'rep0_range_25.nominal.endclass.cost', 'rep0_range_25.nominal.endclass.prob', 'rep0_range_25.nominal.endclass.expected_cost', 'rep0_range_25.nominal.endclass.in_bound', 'rep0_range_25.nominal.endclass.at_finish', 'rep0_range_25.nominal.endclass.line_dist', 'rep0_range_25.nominal.endclass.num_modes', 'rep0_range_25.nominal.endclass.end_dist', 'rep0_range_25.nominal.endclass.tot_deviation', 'rep0_range_25.nominal.endclass.faults', 'rep0_range_25.nominal.endclass.classification', 'rep0_range_25.nominal.endclass.end_x', 'rep0_range_25.nominal.endclass.end_y', 'rep0_range_25.nominal.endclass.endpt', 'rep0_range_26.power_no_charge_t1.endclass.rate', 'rep0_range_26.power_no_charge_t1.endclass.cost', 'rep0_range_26.power_no_charge_t1.endclass.prob', 'rep0_range_26.power_no_charge_t1.endclass.expected_cost', 'rep0_range_26.power_no_charge_t1.endclass.in_bound', 'rep0_range_26.power_no_charge_t1.endclass.at_finish', 'rep0_range_26.power_no_charge_t1.endclass.line_dist', 'rep0_range_26.power_no_charge_t1.endclass.num_modes', 'rep0_range_26.power_no_charge_t1.endclass.end_dist', 'rep0_range_26.power_no_charge_t1.endclass.tot_deviation', 'rep0_range_26.power_no_charge_t1.endclass.faults', 'rep0_range_26.power_no_charge_t1.endclass.classification', 'rep0_range_26.power_no_charge_t1.endclass.end_x', 'rep0_range_26.power_no_charge_t1.endclass.end_y', 'rep0_range_26.power_no_charge_t1.endclass.endpt', 'rep0_range_26.power_no_charge_t2.endclass.rate', 'rep0_range_26.power_no_charge_t2.endclass.cost', 'rep0_range_26.power_no_charge_t2.endclass.prob', 'rep0_range_26.power_no_charge_t2.endclass.expected_cost', 'rep0_range_26.power_no_charge_t2.endclass.in_bound', 'rep0_range_26.power_no_charge_t2.endclass.at_finish', 'rep0_range_26.power_no_charge_t2.endclass.line_dist', 'rep0_range_26.power_no_charge_t2.endclass.num_modes', 'rep0_range_26.power_no_charge_t2.endclass.end_dist', 'rep0_range_26.power_no_charge_t2.endclass.tot_deviation', 'rep0_range_26.power_no_charge_t2.endclass.faults', 'rep0_range_26.power_no_charge_t2.endclass.classification', 'rep0_range_26.power_no_charge_t2.endclass.end_x', 'rep0_range_26.power_no_charge_t2.endclass.end_y', 'rep0_range_26.power_no_charge_t2.endclass.endpt', 'rep0_range_26.power_short_t1.endclass.rate', 'rep0_range_26.power_short_t1.endclass.cost', 'rep0_range_26.power_short_t1.endclass.prob', 'rep0_range_26.power_short_t1.endclass.expected_cost', 'rep0_range_26.power_short_t1.endclass.in_bound', 'rep0_range_26.power_short_t1.endclass.at_finish', 'rep0_range_26.power_short_t1.endclass.line_dist', 'rep0_range_26.power_short_t1.endclass.num_modes', 'rep0_range_26.power_short_t1.endclass.end_dist', 'rep0_range_26.power_short_t1.endclass.tot_deviation', 'rep0_range_26.power_short_t1.endclass.faults', 'rep0_range_26.power_short_t1.endclass.classification', 'rep0_range_26.power_short_t1.endclass.end_x', 'rep0_range_26.power_short_t1.endclass.end_y', 'rep0_range_26.power_short_t1.endclass.endpt', 'rep0_range_26.power_short_t2.endclass.rate', 'rep0_range_26.power_short_t2.endclass.cost', 'rep0_range_26.power_short_t2.endclass.prob', 'rep0_range_26.power_short_t2.endclass.expected_cost', 'rep0_range_26.power_short_t2.endclass.in_bound', 'rep0_range_26.power_short_t2.endclass.at_finish', 'rep0_range_26.power_short_t2.endclass.line_dist', 'rep0_range_26.power_short_t2.endclass.num_modes', 'rep0_range_26.power_short_t2.endclass.end_dist', 'rep0_range_26.power_short_t2.endclass.tot_deviation', 'rep0_range_26.power_short_t2.endclass.faults', 'rep0_range_26.power_short_t2.endclass.classification', 'rep0_range_26.power_short_t2.endclass.end_x', 'rep0_range_26.power_short_t2.endclass.end_y', 'rep0_range_26.power_short_t2.endclass.endpt', 'rep0_range_26.nominal.endclass.rate', 'rep0_range_26.nominal.endclass.cost', 'rep0_range_26.nominal.endclass.prob', 'rep0_range_26.nominal.endclass.expected_cost', 'rep0_range_26.nominal.endclass.in_bound', 'rep0_range_26.nominal.endclass.at_finish', 'rep0_range_26.nominal.endclass.line_dist', 'rep0_range_26.nominal.endclass.num_modes', 'rep0_range_26.nominal.endclass.end_dist', 'rep0_range_26.nominal.endclass.tot_deviation', 'rep0_range_26.nominal.endclass.faults', 'rep0_range_26.nominal.endclass.classification', 'rep0_range_26.nominal.endclass.end_x', 'rep0_range_26.nominal.endclass.end_y', 'rep0_range_26.nominal.endclass.endpt', 'rep0_range_27.power_no_charge_t1.endclass.rate', 'rep0_range_27.power_no_charge_t1.endclass.cost', 'rep0_range_27.power_no_charge_t1.endclass.prob', 'rep0_range_27.power_no_charge_t1.endclass.expected_cost', 'rep0_range_27.power_no_charge_t1.endclass.in_bound', 'rep0_range_27.power_no_charge_t1.endclass.at_finish', 'rep0_range_27.power_no_charge_t1.endclass.line_dist', 'rep0_range_27.power_no_charge_t1.endclass.num_modes', 'rep0_range_27.power_no_charge_t1.endclass.end_dist', 'rep0_range_27.power_no_charge_t1.endclass.tot_deviation', 'rep0_range_27.power_no_charge_t1.endclass.faults', 'rep0_range_27.power_no_charge_t1.endclass.classification', 'rep0_range_27.power_no_charge_t1.endclass.end_x', 'rep0_range_27.power_no_charge_t1.endclass.end_y', 'rep0_range_27.power_no_charge_t1.endclass.endpt', 'rep0_range_27.power_no_charge_t2.endclass.rate', 'rep0_range_27.power_no_charge_t2.endclass.cost', 'rep0_range_27.power_no_charge_t2.endclass.prob', 'rep0_range_27.power_no_charge_t2.endclass.expected_cost', 'rep0_range_27.power_no_charge_t2.endclass.in_bound', 'rep0_range_27.power_no_charge_t2.endclass.at_finish', 'rep0_range_27.power_no_charge_t2.endclass.line_dist', 'rep0_range_27.power_no_charge_t2.endclass.num_modes', 'rep0_range_27.power_no_charge_t2.endclass.end_dist', 'rep0_range_27.power_no_charge_t2.endclass.tot_deviation', 'rep0_range_27.power_no_charge_t2.endclass.faults', 'rep0_range_27.power_no_charge_t2.endclass.classification', 'rep0_range_27.power_no_charge_t2.endclass.end_x', 'rep0_range_27.power_no_charge_t2.endclass.end_y', 'rep0_range_27.power_no_charge_t2.endclass.endpt', 'rep0_range_27.power_short_t1.endclass.rate', 'rep0_range_27.power_short_t1.endclass.cost', 'rep0_range_27.power_short_t1.endclass.prob', 'rep0_range_27.power_short_t1.endclass.expected_cost', 'rep0_range_27.power_short_t1.endclass.in_bound', 'rep0_range_27.power_short_t1.endclass.at_finish', 'rep0_range_27.power_short_t1.endclass.line_dist', 'rep0_range_27.power_short_t1.endclass.num_modes', 'rep0_range_27.power_short_t1.endclass.end_dist', 'rep0_range_27.power_short_t1.endclass.tot_deviation', 'rep0_range_27.power_short_t1.endclass.faults', 'rep0_range_27.power_short_t1.endclass.classification', 'rep0_range_27.power_short_t1.endclass.end_x', 'rep0_range_27.power_short_t1.endclass.end_y', 'rep0_range_27.power_short_t1.endclass.endpt', 'rep0_range_27.power_short_t2.endclass.rate', 'rep0_range_27.power_short_t2.endclass.cost', 'rep0_range_27.power_short_t2.endclass.prob', 'rep0_range_27.power_short_t2.endclass.expected_cost', 'rep0_range_27.power_short_t2.endclass.in_bound', 'rep0_range_27.power_short_t2.endclass.at_finish', 'rep0_range_27.power_short_t2.endclass.line_dist', 'rep0_range_27.power_short_t2.endclass.num_modes', 'rep0_range_27.power_short_t2.endclass.end_dist', 'rep0_range_27.power_short_t2.endclass.tot_deviation', 'rep0_range_27.power_short_t2.endclass.faults', 'rep0_range_27.power_short_t2.endclass.classification', 'rep0_range_27.power_short_t2.endclass.end_x', 'rep0_range_27.power_short_t2.endclass.end_y', 'rep0_range_27.power_short_t2.endclass.endpt', 'rep0_range_27.nominal.endclass.rate', 'rep0_range_27.nominal.endclass.cost', 'rep0_range_27.nominal.endclass.prob', 'rep0_range_27.nominal.endclass.expected_cost', 'rep0_range_27.nominal.endclass.in_bound', 'rep0_range_27.nominal.endclass.at_finish', 'rep0_range_27.nominal.endclass.line_dist', 'rep0_range_27.nominal.endclass.num_modes', 'rep0_range_27.nominal.endclass.end_dist', 'rep0_range_27.nominal.endclass.tot_deviation', 'rep0_range_27.nominal.endclass.faults', 'rep0_range_27.nominal.endclass.classification', 'rep0_range_27.nominal.endclass.end_x', 'rep0_range_27.nominal.endclass.end_y', 'rep0_range_27.nominal.endclass.endpt', 'rep0_range_28.power_no_charge_t1.endclass.rate', 'rep0_range_28.power_no_charge_t1.endclass.cost', 'rep0_range_28.power_no_charge_t1.endclass.prob', 'rep0_range_28.power_no_charge_t1.endclass.expected_cost', 'rep0_range_28.power_no_charge_t1.endclass.in_bound', 'rep0_range_28.power_no_charge_t1.endclass.at_finish', 'rep0_range_28.power_no_charge_t1.endclass.line_dist', 'rep0_range_28.power_no_charge_t1.endclass.num_modes', 'rep0_range_28.power_no_charge_t1.endclass.end_dist', 'rep0_range_28.power_no_charge_t1.endclass.tot_deviation', 'rep0_range_28.power_no_charge_t1.endclass.faults', 'rep0_range_28.power_no_charge_t1.endclass.classification', 'rep0_range_28.power_no_charge_t1.endclass.end_x', 'rep0_range_28.power_no_charge_t1.endclass.end_y', 'rep0_range_28.power_no_charge_t1.endclass.endpt', 'rep0_range_28.power_no_charge_t2.endclass.rate', 'rep0_range_28.power_no_charge_t2.endclass.cost', 'rep0_range_28.power_no_charge_t2.endclass.prob', 'rep0_range_28.power_no_charge_t2.endclass.expected_cost', 'rep0_range_28.power_no_charge_t2.endclass.in_bound', 'rep0_range_28.power_no_charge_t2.endclass.at_finish', 'rep0_range_28.power_no_charge_t2.endclass.line_dist', 'rep0_range_28.power_no_charge_t2.endclass.num_modes', 'rep0_range_28.power_no_charge_t2.endclass.end_dist', 'rep0_range_28.power_no_charge_t2.endclass.tot_deviation', 'rep0_range_28.power_no_charge_t2.endclass.faults', 'rep0_range_28.power_no_charge_t2.endclass.classification', 'rep0_range_28.power_no_charge_t2.endclass.end_x', 'rep0_range_28.power_no_charge_t2.endclass.end_y', 'rep0_range_28.power_no_charge_t2.endclass.endpt', 'rep0_range_28.power_short_t1.endclass.rate', 'rep0_range_28.power_short_t1.endclass.cost', 'rep0_range_28.power_short_t1.endclass.prob', 'rep0_range_28.power_short_t1.endclass.expected_cost', 'rep0_range_28.power_short_t1.endclass.in_bound', 'rep0_range_28.power_short_t1.endclass.at_finish', 'rep0_range_28.power_short_t1.endclass.line_dist', 'rep0_range_28.power_short_t1.endclass.num_modes', 'rep0_range_28.power_short_t1.endclass.end_dist', 'rep0_range_28.power_short_t1.endclass.tot_deviation', 'rep0_range_28.power_short_t1.endclass.faults', 'rep0_range_28.power_short_t1.endclass.classification', 'rep0_range_28.power_short_t1.endclass.end_x', 'rep0_range_28.power_short_t1.endclass.end_y', 'rep0_range_28.power_short_t1.endclass.endpt', 'rep0_range_28.power_short_t2.endclass.rate', 'rep0_range_28.power_short_t2.endclass.cost', 'rep0_range_28.power_short_t2.endclass.prob', 'rep0_range_28.power_short_t2.endclass.expected_cost', 'rep0_range_28.power_short_t2.endclass.in_bound', 'rep0_range_28.power_short_t2.endclass.at_finish', 'rep0_range_28.power_short_t2.endclass.line_dist', 'rep0_range_28.power_short_t2.endclass.num_modes', 'rep0_range_28.power_short_t2.endclass.end_dist', 'rep0_range_28.power_short_t2.endclass.tot_deviation', 'rep0_range_28.power_short_t2.endclass.faults', 'rep0_range_28.power_short_t2.endclass.classification', 'rep0_range_28.power_short_t2.endclass.end_x', 'rep0_range_28.power_short_t2.endclass.end_y', 'rep0_range_28.power_short_t2.endclass.endpt', 'rep0_range_28.nominal.endclass.rate', 'rep0_range_28.nominal.endclass.cost', 'rep0_range_28.nominal.endclass.prob', 'rep0_range_28.nominal.endclass.expected_cost', 'rep0_range_28.nominal.endclass.in_bound', 'rep0_range_28.nominal.endclass.at_finish', 'rep0_range_28.nominal.endclass.line_dist', 'rep0_range_28.nominal.endclass.num_modes', 'rep0_range_28.nominal.endclass.end_dist', 'rep0_range_28.nominal.endclass.tot_deviation', 'rep0_range_28.nominal.endclass.faults', 'rep0_range_28.nominal.endclass.classification', 'rep0_range_28.nominal.endclass.end_x', 'rep0_range_28.nominal.endclass.end_y', 'rep0_range_28.nominal.endclass.endpt', 'rep0_range_29.power_no_charge_t1.endclass.rate', 'rep0_range_29.power_no_charge_t1.endclass.cost', 'rep0_range_29.power_no_charge_t1.endclass.prob', 'rep0_range_29.power_no_charge_t1.endclass.expected_cost', 'rep0_range_29.power_no_charge_t1.endclass.in_bound', 'rep0_range_29.power_no_charge_t1.endclass.at_finish', 'rep0_range_29.power_no_charge_t1.endclass.line_dist', 'rep0_range_29.power_no_charge_t1.endclass.num_modes', 'rep0_range_29.power_no_charge_t1.endclass.end_dist', 'rep0_range_29.power_no_charge_t1.endclass.tot_deviation', 'rep0_range_29.power_no_charge_t1.endclass.faults', 'rep0_range_29.power_no_charge_t1.endclass.classification', 'rep0_range_29.power_no_charge_t1.endclass.end_x', 'rep0_range_29.power_no_charge_t1.endclass.end_y', 'rep0_range_29.power_no_charge_t1.endclass.endpt', 'rep0_range_29.power_no_charge_t2.endclass.rate', 'rep0_range_29.power_no_charge_t2.endclass.cost', 'rep0_range_29.power_no_charge_t2.endclass.prob', 'rep0_range_29.power_no_charge_t2.endclass.expected_cost', 'rep0_range_29.power_no_charge_t2.endclass.in_bound', 'rep0_range_29.power_no_charge_t2.endclass.at_finish', 'rep0_range_29.power_no_charge_t2.endclass.line_dist', 'rep0_range_29.power_no_charge_t2.endclass.num_modes', 'rep0_range_29.power_no_charge_t2.endclass.end_dist', 'rep0_range_29.power_no_charge_t2.endclass.tot_deviation', 'rep0_range_29.power_no_charge_t2.endclass.faults', 'rep0_range_29.power_no_charge_t2.endclass.classification', 'rep0_range_29.power_no_charge_t2.endclass.end_x', 'rep0_range_29.power_no_charge_t2.endclass.end_y', 'rep0_range_29.power_no_charge_t2.endclass.endpt', 'rep0_range_29.power_short_t1.endclass.rate', 'rep0_range_29.power_short_t1.endclass.cost', 'rep0_range_29.power_short_t1.endclass.prob', 'rep0_range_29.power_short_t1.endclass.expected_cost', 'rep0_range_29.power_short_t1.endclass.in_bound', 'rep0_range_29.power_short_t1.endclass.at_finish', 'rep0_range_29.power_short_t1.endclass.line_dist', 'rep0_range_29.power_short_t1.endclass.num_modes', 'rep0_range_29.power_short_t1.endclass.end_dist', 'rep0_range_29.power_short_t1.endclass.tot_deviation', 'rep0_range_29.power_short_t1.endclass.faults', 'rep0_range_29.power_short_t1.endclass.classification', 'rep0_range_29.power_short_t1.endclass.end_x', 'rep0_range_29.power_short_t1.endclass.end_y', 'rep0_range_29.power_short_t1.endclass.endpt', 'rep0_range_29.power_short_t2.endclass.rate', 'rep0_range_29.power_short_t2.endclass.cost', 'rep0_range_29.power_short_t2.endclass.prob', 'rep0_range_29.power_short_t2.endclass.expected_cost', 'rep0_range_29.power_short_t2.endclass.in_bound', 'rep0_range_29.power_short_t2.endclass.at_finish', 'rep0_range_29.power_short_t2.endclass.line_dist', 'rep0_range_29.power_short_t2.endclass.num_modes', 'rep0_range_29.power_short_t2.endclass.end_dist', 'rep0_range_29.power_short_t2.endclass.tot_deviation', 'rep0_range_29.power_short_t2.endclass.faults', 'rep0_range_29.power_short_t2.endclass.classification', 'rep0_range_29.power_short_t2.endclass.end_x', 'rep0_range_29.power_short_t2.endclass.end_y', 'rep0_range_29.power_short_t2.endclass.endpt', 'rep0_range_29.nominal.endclass.rate', 'rep0_range_29.nominal.endclass.cost', 'rep0_range_29.nominal.endclass.prob', 'rep0_range_29.nominal.endclass.expected_cost', 'rep0_range_29.nominal.endclass.in_bound', 'rep0_range_29.nominal.endclass.at_finish', 'rep0_range_29.nominal.endclass.line_dist', 'rep0_range_29.nominal.endclass.num_modes', 'rep0_range_29.nominal.endclass.end_dist', 'rep0_range_29.nominal.endclass.tot_deviation', 'rep0_range_29.nominal.endclass.faults', 'rep0_range_29.nominal.endclass.classification', 'rep0_range_29.nominal.endclass.end_x', 'rep0_range_29.nominal.endclass.end_y', 'rep0_range_29.nominal.endclass.endpt', 'rep0_range_30.power_no_charge_t1.endclass.rate', 'rep0_range_30.power_no_charge_t1.endclass.cost', 'rep0_range_30.power_no_charge_t1.endclass.prob', 'rep0_range_30.power_no_charge_t1.endclass.expected_cost', 'rep0_range_30.power_no_charge_t1.endclass.in_bound', 'rep0_range_30.power_no_charge_t1.endclass.at_finish', 'rep0_range_30.power_no_charge_t1.endclass.line_dist', 'rep0_range_30.power_no_charge_t1.endclass.num_modes', 'rep0_range_30.power_no_charge_t1.endclass.end_dist', 'rep0_range_30.power_no_charge_t1.endclass.tot_deviation', 'rep0_range_30.power_no_charge_t1.endclass.faults', 'rep0_range_30.power_no_charge_t1.endclass.classification', 'rep0_range_30.power_no_charge_t1.endclass.end_x', 'rep0_range_30.power_no_charge_t1.endclass.end_y', 'rep0_range_30.power_no_charge_t1.endclass.endpt', 'rep0_range_30.power_no_charge_t2.endclass.rate', 'rep0_range_30.power_no_charge_t2.endclass.cost', 'rep0_range_30.power_no_charge_t2.endclass.prob', 'rep0_range_30.power_no_charge_t2.endclass.expected_cost', 'rep0_range_30.power_no_charge_t2.endclass.in_bound', 'rep0_range_30.power_no_charge_t2.endclass.at_finish', 'rep0_range_30.power_no_charge_t2.endclass.line_dist', 'rep0_range_30.power_no_charge_t2.endclass.num_modes', 'rep0_range_30.power_no_charge_t2.endclass.end_dist', 'rep0_range_30.power_no_charge_t2.endclass.tot_deviation', 'rep0_range_30.power_no_charge_t2.endclass.faults', 'rep0_range_30.power_no_charge_t2.endclass.classification', 'rep0_range_30.power_no_charge_t2.endclass.end_x', 'rep0_range_30.power_no_charge_t2.endclass.end_y', 'rep0_range_30.power_no_charge_t2.endclass.endpt', 'rep0_range_30.power_short_t1.endclass.rate', 'rep0_range_30.power_short_t1.endclass.cost', 'rep0_range_30.power_short_t1.endclass.prob', 'rep0_range_30.power_short_t1.endclass.expected_cost', 'rep0_range_30.power_short_t1.endclass.in_bound', 'rep0_range_30.power_short_t1.endclass.at_finish', 'rep0_range_30.power_short_t1.endclass.line_dist', 'rep0_range_30.power_short_t1.endclass.num_modes', 'rep0_range_30.power_short_t1.endclass.end_dist', 'rep0_range_30.power_short_t1.endclass.tot_deviation', 'rep0_range_30.power_short_t1.endclass.faults', 'rep0_range_30.power_short_t1.endclass.classification', 'rep0_range_30.power_short_t1.endclass.end_x', 'rep0_range_30.power_short_t1.endclass.end_y', 'rep0_range_30.power_short_t1.endclass.endpt', 'rep0_range_30.power_short_t2.endclass.rate', 'rep0_range_30.power_short_t2.endclass.cost', 'rep0_range_30.power_short_t2.endclass.prob', 'rep0_range_30.power_short_t2.endclass.expected_cost', 'rep0_range_30.power_short_t2.endclass.in_bound', 'rep0_range_30.power_short_t2.endclass.at_finish', 'rep0_range_30.power_short_t2.endclass.line_dist', 'rep0_range_30.power_short_t2.endclass.num_modes', 'rep0_range_30.power_short_t2.endclass.end_dist', 'rep0_range_30.power_short_t2.endclass.tot_deviation', 'rep0_range_30.power_short_t2.endclass.faults', 'rep0_range_30.power_short_t2.endclass.classification', 'rep0_range_30.power_short_t2.endclass.end_x', 'rep0_range_30.power_short_t2.endclass.end_y', 'rep0_range_30.power_short_t2.endclass.endpt', 'rep0_range_30.nominal.endclass.rate', 'rep0_range_30.nominal.endclass.cost', 'rep0_range_30.nominal.endclass.prob', 'rep0_range_30.nominal.endclass.expected_cost', 'rep0_range_30.nominal.endclass.in_bound', 'rep0_range_30.nominal.endclass.at_finish', 'rep0_range_30.nominal.endclass.line_dist', 'rep0_range_30.nominal.endclass.num_modes', 'rep0_range_30.nominal.endclass.end_dist', 'rep0_range_30.nominal.endclass.tot_deviation', 'rep0_range_30.nominal.endclass.faults', 'rep0_range_30.nominal.endclass.classification', 'rep0_range_30.nominal.endclass.end_x', 'rep0_range_30.nominal.endclass.end_y', 'rep0_range_30.nominal.endclass.endpt', 'rep0_range_31.power_no_charge_t1.endclass.rate', 'rep0_range_31.power_no_charge_t1.endclass.cost', 'rep0_range_31.power_no_charge_t1.endclass.prob', 'rep0_range_31.power_no_charge_t1.endclass.expected_cost', 'rep0_range_31.power_no_charge_t1.endclass.in_bound', 'rep0_range_31.power_no_charge_t1.endclass.at_finish', 'rep0_range_31.power_no_charge_t1.endclass.line_dist', 'rep0_range_31.power_no_charge_t1.endclass.num_modes', 'rep0_range_31.power_no_charge_t1.endclass.end_dist', 'rep0_range_31.power_no_charge_t1.endclass.tot_deviation', 'rep0_range_31.power_no_charge_t1.endclass.faults', 'rep0_range_31.power_no_charge_t1.endclass.classification', 'rep0_range_31.power_no_charge_t1.endclass.end_x', 'rep0_range_31.power_no_charge_t1.endclass.end_y', 'rep0_range_31.power_no_charge_t1.endclass.endpt', 'rep0_range_31.power_no_charge_t2.endclass.rate', 'rep0_range_31.power_no_charge_t2.endclass.cost', 'rep0_range_31.power_no_charge_t2.endclass.prob', 'rep0_range_31.power_no_charge_t2.endclass.expected_cost', 'rep0_range_31.power_no_charge_t2.endclass.in_bound', 'rep0_range_31.power_no_charge_t2.endclass.at_finish', 'rep0_range_31.power_no_charge_t2.endclass.line_dist', 'rep0_range_31.power_no_charge_t2.endclass.num_modes', 'rep0_range_31.power_no_charge_t2.endclass.end_dist', 'rep0_range_31.power_no_charge_t2.endclass.tot_deviation', 'rep0_range_31.power_no_charge_t2.endclass.faults', 'rep0_range_31.power_no_charge_t2.endclass.classification', 'rep0_range_31.power_no_charge_t2.endclass.end_x', 'rep0_range_31.power_no_charge_t2.endclass.end_y', 'rep0_range_31.power_no_charge_t2.endclass.endpt', 'rep0_range_31.power_short_t1.endclass.rate', 'rep0_range_31.power_short_t1.endclass.cost', 'rep0_range_31.power_short_t1.endclass.prob', 'rep0_range_31.power_short_t1.endclass.expected_cost', 'rep0_range_31.power_short_t1.endclass.in_bound', 'rep0_range_31.power_short_t1.endclass.at_finish', 'rep0_range_31.power_short_t1.endclass.line_dist', 'rep0_range_31.power_short_t1.endclass.num_modes', 'rep0_range_31.power_short_t1.endclass.end_dist', 'rep0_range_31.power_short_t1.endclass.tot_deviation', 'rep0_range_31.power_short_t1.endclass.faults', 'rep0_range_31.power_short_t1.endclass.classification', 'rep0_range_31.power_short_t1.endclass.end_x', 'rep0_range_31.power_short_t1.endclass.end_y', 'rep0_range_31.power_short_t1.endclass.endpt', 'rep0_range_31.power_short_t2.endclass.rate', 'rep0_range_31.power_short_t2.endclass.cost', 'rep0_range_31.power_short_t2.endclass.prob', 'rep0_range_31.power_short_t2.endclass.expected_cost', 'rep0_range_31.power_short_t2.endclass.in_bound', 'rep0_range_31.power_short_t2.endclass.at_finish', 'rep0_range_31.power_short_t2.endclass.line_dist', 'rep0_range_31.power_short_t2.endclass.num_modes', 'rep0_range_31.power_short_t2.endclass.end_dist', 'rep0_range_31.power_short_t2.endclass.tot_deviation', 'rep0_range_31.power_short_t2.endclass.faults', 'rep0_range_31.power_short_t2.endclass.classification', 'rep0_range_31.power_short_t2.endclass.end_x', 'rep0_range_31.power_short_t2.endclass.end_y', 'rep0_range_31.power_short_t2.endclass.endpt', 'rep0_range_31.nominal.endclass.rate', 'rep0_range_31.nominal.endclass.cost', 'rep0_range_31.nominal.endclass.prob', 'rep0_range_31.nominal.endclass.expected_cost', 'rep0_range_31.nominal.endclass.in_bound', 'rep0_range_31.nominal.endclass.at_finish', 'rep0_range_31.nominal.endclass.line_dist', 'rep0_range_31.nominal.endclass.num_modes', 'rep0_range_31.nominal.endclass.end_dist', 'rep0_range_31.nominal.endclass.tot_deviation', 'rep0_range_31.nominal.endclass.faults', 'rep0_range_31.nominal.endclass.classification', 'rep0_range_31.nominal.endclass.end_x', 'rep0_range_31.nominal.endclass.end_y', 'rep0_range_31.nominal.endclass.endpt', 'rep0_range_32.power_no_charge_t1.endclass.rate', 'rep0_range_32.power_no_charge_t1.endclass.cost', 'rep0_range_32.power_no_charge_t1.endclass.prob', 'rep0_range_32.power_no_charge_t1.endclass.expected_cost', 'rep0_range_32.power_no_charge_t1.endclass.in_bound', 'rep0_range_32.power_no_charge_t1.endclass.at_finish', 'rep0_range_32.power_no_charge_t1.endclass.line_dist', 'rep0_range_32.power_no_charge_t1.endclass.num_modes', 'rep0_range_32.power_no_charge_t1.endclass.end_dist', 'rep0_range_32.power_no_charge_t1.endclass.tot_deviation', 'rep0_range_32.power_no_charge_t1.endclass.faults', 'rep0_range_32.power_no_charge_t1.endclass.classification', 'rep0_range_32.power_no_charge_t1.endclass.end_x', 'rep0_range_32.power_no_charge_t1.endclass.end_y', 'rep0_range_32.power_no_charge_t1.endclass.endpt', 'rep0_range_32.power_no_charge_t2.endclass.rate', 'rep0_range_32.power_no_charge_t2.endclass.cost', 'rep0_range_32.power_no_charge_t2.endclass.prob', 'rep0_range_32.power_no_charge_t2.endclass.expected_cost', 'rep0_range_32.power_no_charge_t2.endclass.in_bound', 'rep0_range_32.power_no_charge_t2.endclass.at_finish', 'rep0_range_32.power_no_charge_t2.endclass.line_dist', 'rep0_range_32.power_no_charge_t2.endclass.num_modes', 'rep0_range_32.power_no_charge_t2.endclass.end_dist', 'rep0_range_32.power_no_charge_t2.endclass.tot_deviation', 'rep0_range_32.power_no_charge_t2.endclass.faults', 'rep0_range_32.power_no_charge_t2.endclass.classification', 'rep0_range_32.power_no_charge_t2.endclass.end_x', 'rep0_range_32.power_no_charge_t2.endclass.end_y', 'rep0_range_32.power_no_charge_t2.endclass.endpt', 'rep0_range_32.power_short_t1.endclass.rate', 'rep0_range_32.power_short_t1.endclass.cost', 'rep0_range_32.power_short_t1.endclass.prob', 'rep0_range_32.power_short_t1.endclass.expected_cost', 'rep0_range_32.power_short_t1.endclass.in_bound', 'rep0_range_32.power_short_t1.endclass.at_finish', 'rep0_range_32.power_short_t1.endclass.line_dist', 'rep0_range_32.power_short_t1.endclass.num_modes', 'rep0_range_32.power_short_t1.endclass.end_dist', 'rep0_range_32.power_short_t1.endclass.tot_deviation', 'rep0_range_32.power_short_t1.endclass.faults', 'rep0_range_32.power_short_t1.endclass.classification', 'rep0_range_32.power_short_t1.endclass.end_x', 'rep0_range_32.power_short_t1.endclass.end_y', 'rep0_range_32.power_short_t1.endclass.endpt', 'rep0_range_32.power_short_t2.endclass.rate', 'rep0_range_32.power_short_t2.endclass.cost', 'rep0_range_32.power_short_t2.endclass.prob', 'rep0_range_32.power_short_t2.endclass.expected_cost', 'rep0_range_32.power_short_t2.endclass.in_bound', 'rep0_range_32.power_short_t2.endclass.at_finish', 'rep0_range_32.power_short_t2.endclass.line_dist', 'rep0_range_32.power_short_t2.endclass.num_modes', 'rep0_range_32.power_short_t2.endclass.end_dist', 'rep0_range_32.power_short_t2.endclass.tot_deviation', 'rep0_range_32.power_short_t2.endclass.faults', 'rep0_range_32.power_short_t2.endclass.classification', 'rep0_range_32.power_short_t2.endclass.end_x', 'rep0_range_32.power_short_t2.endclass.end_y', 'rep0_range_32.power_short_t2.endclass.endpt', 'rep0_range_32.nominal.endclass.rate', 'rep0_range_32.nominal.endclass.cost', 'rep0_range_32.nominal.endclass.prob', 'rep0_range_32.nominal.endclass.expected_cost', 'rep0_range_32.nominal.endclass.in_bound', 'rep0_range_32.nominal.endclass.at_finish', 'rep0_range_32.nominal.endclass.line_dist', 'rep0_range_32.nominal.endclass.num_modes', 'rep0_range_32.nominal.endclass.end_dist', 'rep0_range_32.nominal.endclass.tot_deviation', 'rep0_range_32.nominal.endclass.faults', 'rep0_range_32.nominal.endclass.classification', 'rep0_range_32.nominal.endclass.end_x', 'rep0_range_32.nominal.endclass.end_y', 'rep0_range_32.nominal.endclass.endpt', 'rep0_range_33.power_no_charge_t1.endclass.rate', 'rep0_range_33.power_no_charge_t1.endclass.cost', 'rep0_range_33.power_no_charge_t1.endclass.prob', 'rep0_range_33.power_no_charge_t1.endclass.expected_cost', 'rep0_range_33.power_no_charge_t1.endclass.in_bound', 'rep0_range_33.power_no_charge_t1.endclass.at_finish', 'rep0_range_33.power_no_charge_t1.endclass.line_dist', 'rep0_range_33.power_no_charge_t1.endclass.num_modes', 'rep0_range_33.power_no_charge_t1.endclass.end_dist', 'rep0_range_33.power_no_charge_t1.endclass.tot_deviation', 'rep0_range_33.power_no_charge_t1.endclass.faults', 'rep0_range_33.power_no_charge_t1.endclass.classification', 'rep0_range_33.power_no_charge_t1.endclass.end_x', 'rep0_range_33.power_no_charge_t1.endclass.end_y', 'rep0_range_33.power_no_charge_t1.endclass.endpt', 'rep0_range_33.power_no_charge_t2.endclass.rate', 'rep0_range_33.power_no_charge_t2.endclass.cost', 'rep0_range_33.power_no_charge_t2.endclass.prob', 'rep0_range_33.power_no_charge_t2.endclass.expected_cost', 'rep0_range_33.power_no_charge_t2.endclass.in_bound', 'rep0_range_33.power_no_charge_t2.endclass.at_finish', 'rep0_range_33.power_no_charge_t2.endclass.line_dist', 'rep0_range_33.power_no_charge_t2.endclass.num_modes', 'rep0_range_33.power_no_charge_t2.endclass.end_dist', 'rep0_range_33.power_no_charge_t2.endclass.tot_deviation', 'rep0_range_33.power_no_charge_t2.endclass.faults', 'rep0_range_33.power_no_charge_t2.endclass.classification', 'rep0_range_33.power_no_charge_t2.endclass.end_x', 'rep0_range_33.power_no_charge_t2.endclass.end_y', 'rep0_range_33.power_no_charge_t2.endclass.endpt', 'rep0_range_33.power_short_t1.endclass.rate', 'rep0_range_33.power_short_t1.endclass.cost', 'rep0_range_33.power_short_t1.endclass.prob', 'rep0_range_33.power_short_t1.endclass.expected_cost', 'rep0_range_33.power_short_t1.endclass.in_bound', 'rep0_range_33.power_short_t1.endclass.at_finish', 'rep0_range_33.power_short_t1.endclass.line_dist', 'rep0_range_33.power_short_t1.endclass.num_modes', 'rep0_range_33.power_short_t1.endclass.end_dist', 'rep0_range_33.power_short_t1.endclass.tot_deviation', 'rep0_range_33.power_short_t1.endclass.faults', 'rep0_range_33.power_short_t1.endclass.classification', 'rep0_range_33.power_short_t1.endclass.end_x', 'rep0_range_33.power_short_t1.endclass.end_y', 'rep0_range_33.power_short_t1.endclass.endpt', 'rep0_range_33.power_short_t2.endclass.rate', 'rep0_range_33.power_short_t2.endclass.cost', 'rep0_range_33.power_short_t2.endclass.prob', 'rep0_range_33.power_short_t2.endclass.expected_cost', 'rep0_range_33.power_short_t2.endclass.in_bound', 'rep0_range_33.power_short_t2.endclass.at_finish', 'rep0_range_33.power_short_t2.endclass.line_dist', 'rep0_range_33.power_short_t2.endclass.num_modes', 'rep0_range_33.power_short_t2.endclass.end_dist', 'rep0_range_33.power_short_t2.endclass.tot_deviation', 'rep0_range_33.power_short_t2.endclass.faults', 'rep0_range_33.power_short_t2.endclass.classification', 'rep0_range_33.power_short_t2.endclass.end_x', 'rep0_range_33.power_short_t2.endclass.end_y', 'rep0_range_33.power_short_t2.endclass.endpt', 'rep0_range_33.nominal.endclass.rate', 'rep0_range_33.nominal.endclass.cost', 'rep0_range_33.nominal.endclass.prob', 'rep0_range_33.nominal.endclass.expected_cost', 'rep0_range_33.nominal.endclass.in_bound', 'rep0_range_33.nominal.endclass.at_finish', 'rep0_range_33.nominal.endclass.line_dist', 'rep0_range_33.nominal.endclass.num_modes', 'rep0_range_33.nominal.endclass.end_dist', 'rep0_range_33.nominal.endclass.tot_deviation', 'rep0_range_33.nominal.endclass.faults', 'rep0_range_33.nominal.endclass.classification', 'rep0_range_33.nominal.endclass.end_x', 'rep0_range_33.nominal.endclass.end_y', 'rep0_range_33.nominal.endclass.endpt', 'rep0_range_34.power_no_charge_t1.endclass.rate', 'rep0_range_34.power_no_charge_t1.endclass.cost', 'rep0_range_34.power_no_charge_t1.endclass.prob', 'rep0_range_34.power_no_charge_t1.endclass.expected_cost', 'rep0_range_34.power_no_charge_t1.endclass.in_bound', 'rep0_range_34.power_no_charge_t1.endclass.at_finish', 'rep0_range_34.power_no_charge_t1.endclass.line_dist', 'rep0_range_34.power_no_charge_t1.endclass.num_modes', 'rep0_range_34.power_no_charge_t1.endclass.end_dist', 'rep0_range_34.power_no_charge_t1.endclass.tot_deviation', 'rep0_range_34.power_no_charge_t1.endclass.faults', 'rep0_range_34.power_no_charge_t1.endclass.classification', 'rep0_range_34.power_no_charge_t1.endclass.end_x', 'rep0_range_34.power_no_charge_t1.endclass.end_y', 'rep0_range_34.power_no_charge_t1.endclass.endpt', 'rep0_range_34.power_no_charge_t2.endclass.rate', 'rep0_range_34.power_no_charge_t2.endclass.cost', 'rep0_range_34.power_no_charge_t2.endclass.prob', 'rep0_range_34.power_no_charge_t2.endclass.expected_cost', 'rep0_range_34.power_no_charge_t2.endclass.in_bound', 'rep0_range_34.power_no_charge_t2.endclass.at_finish', 'rep0_range_34.power_no_charge_t2.endclass.line_dist', 'rep0_range_34.power_no_charge_t2.endclass.num_modes', 'rep0_range_34.power_no_charge_t2.endclass.end_dist', 'rep0_range_34.power_no_charge_t2.endclass.tot_deviation', 'rep0_range_34.power_no_charge_t2.endclass.faults', 'rep0_range_34.power_no_charge_t2.endclass.classification', 'rep0_range_34.power_no_charge_t2.endclass.end_x', 'rep0_range_34.power_no_charge_t2.endclass.end_y', 'rep0_range_34.power_no_charge_t2.endclass.endpt', 'rep0_range_34.power_short_t1.endclass.rate', 'rep0_range_34.power_short_t1.endclass.cost', 'rep0_range_34.power_short_t1.endclass.prob', 'rep0_range_34.power_short_t1.endclass.expected_cost', 'rep0_range_34.power_short_t1.endclass.in_bound', 'rep0_range_34.power_short_t1.endclass.at_finish', 'rep0_range_34.power_short_t1.endclass.line_dist', 'rep0_range_34.power_short_t1.endclass.num_modes', 'rep0_range_34.power_short_t1.endclass.end_dist', 'rep0_range_34.power_short_t1.endclass.tot_deviation', 'rep0_range_34.power_short_t1.endclass.faults', 'rep0_range_34.power_short_t1.endclass.classification', 'rep0_range_34.power_short_t1.endclass.end_x', 'rep0_range_34.power_short_t1.endclass.end_y', 'rep0_range_34.power_short_t1.endclass.endpt', 'rep0_range_34.power_short_t2.endclass.rate', 'rep0_range_34.power_short_t2.endclass.cost', 'rep0_range_34.power_short_t2.endclass.prob', 'rep0_range_34.power_short_t2.endclass.expected_cost', 'rep0_range_34.power_short_t2.endclass.in_bound', 'rep0_range_34.power_short_t2.endclass.at_finish', 'rep0_range_34.power_short_t2.endclass.line_dist', 'rep0_range_34.power_short_t2.endclass.num_modes', 'rep0_range_34.power_short_t2.endclass.end_dist', 'rep0_range_34.power_short_t2.endclass.tot_deviation', 'rep0_range_34.power_short_t2.endclass.faults', 'rep0_range_34.power_short_t2.endclass.classification', 'rep0_range_34.power_short_t2.endclass.end_x', 'rep0_range_34.power_short_t2.endclass.end_y', 'rep0_range_34.power_short_t2.endclass.endpt', 'rep0_range_34.nominal.endclass.rate', 'rep0_range_34.nominal.endclass.cost', 'rep0_range_34.nominal.endclass.prob', 'rep0_range_34.nominal.endclass.expected_cost', 'rep0_range_34.nominal.endclass.in_bound', 'rep0_range_34.nominal.endclass.at_finish', 'rep0_range_34.nominal.endclass.line_dist', 'rep0_range_34.nominal.endclass.num_modes', 'rep0_range_34.nominal.endclass.end_dist', 'rep0_range_34.nominal.endclass.tot_deviation', 'rep0_range_34.nominal.endclass.faults', 'rep0_range_34.nominal.endclass.classification', 'rep0_range_34.nominal.endclass.end_x', 'rep0_range_34.nominal.endclass.end_y', 'rep0_range_34.nominal.endclass.endpt', 'rep0_range_35.power_no_charge_t1.endclass.rate', 'rep0_range_35.power_no_charge_t1.endclass.cost', 'rep0_range_35.power_no_charge_t1.endclass.prob', 'rep0_range_35.power_no_charge_t1.endclass.expected_cost', 'rep0_range_35.power_no_charge_t1.endclass.in_bound', 'rep0_range_35.power_no_charge_t1.endclass.at_finish', 'rep0_range_35.power_no_charge_t1.endclass.line_dist', 'rep0_range_35.power_no_charge_t1.endclass.num_modes', 'rep0_range_35.power_no_charge_t1.endclass.end_dist', 'rep0_range_35.power_no_charge_t1.endclass.tot_deviation', 'rep0_range_35.power_no_charge_t1.endclass.faults', 'rep0_range_35.power_no_charge_t1.endclass.classification', 'rep0_range_35.power_no_charge_t1.endclass.end_x', 'rep0_range_35.power_no_charge_t1.endclass.end_y', 'rep0_range_35.power_no_charge_t1.endclass.endpt', 'rep0_range_35.power_no_charge_t2.endclass.rate', 'rep0_range_35.power_no_charge_t2.endclass.cost', 'rep0_range_35.power_no_charge_t2.endclass.prob', 'rep0_range_35.power_no_charge_t2.endclass.expected_cost', 'rep0_range_35.power_no_charge_t2.endclass.in_bound', 'rep0_range_35.power_no_charge_t2.endclass.at_finish', 'rep0_range_35.power_no_charge_t2.endclass.line_dist', 'rep0_range_35.power_no_charge_t2.endclass.num_modes', 'rep0_range_35.power_no_charge_t2.endclass.end_dist', 'rep0_range_35.power_no_charge_t2.endclass.tot_deviation', 'rep0_range_35.power_no_charge_t2.endclass.faults', 'rep0_range_35.power_no_charge_t2.endclass.classification', 'rep0_range_35.power_no_charge_t2.endclass.end_x', 'rep0_range_35.power_no_charge_t2.endclass.end_y', 'rep0_range_35.power_no_charge_t2.endclass.endpt', 'rep0_range_35.power_short_t1.endclass.rate', 'rep0_range_35.power_short_t1.endclass.cost', 'rep0_range_35.power_short_t1.endclass.prob', 'rep0_range_35.power_short_t1.endclass.expected_cost', 'rep0_range_35.power_short_t1.endclass.in_bound', 'rep0_range_35.power_short_t1.endclass.at_finish', 'rep0_range_35.power_short_t1.endclass.line_dist', 'rep0_range_35.power_short_t1.endclass.num_modes', 'rep0_range_35.power_short_t1.endclass.end_dist', 'rep0_range_35.power_short_t1.endclass.tot_deviation', 'rep0_range_35.power_short_t1.endclass.faults', 'rep0_range_35.power_short_t1.endclass.classification', 'rep0_range_35.power_short_t1.endclass.end_x', 'rep0_range_35.power_short_t1.endclass.end_y', 'rep0_range_35.power_short_t1.endclass.endpt', 'rep0_range_35.power_short_t2.endclass.rate', 'rep0_range_35.power_short_t2.endclass.cost', 'rep0_range_35.power_short_t2.endclass.prob', 'rep0_range_35.power_short_t2.endclass.expected_cost', 'rep0_range_35.power_short_t2.endclass.in_bound', 'rep0_range_35.power_short_t2.endclass.at_finish', 'rep0_range_35.power_short_t2.endclass.line_dist', 'rep0_range_35.power_short_t2.endclass.num_modes', 'rep0_range_35.power_short_t2.endclass.end_dist', 'rep0_range_35.power_short_t2.endclass.tot_deviation', 'rep0_range_35.power_short_t2.endclass.faults', 'rep0_range_35.power_short_t2.endclass.classification', 'rep0_range_35.power_short_t2.endclass.end_x', 'rep0_range_35.power_short_t2.endclass.end_y', 'rep0_range_35.power_short_t2.endclass.endpt', 'rep0_range_35.nominal.endclass.rate', 'rep0_range_35.nominal.endclass.cost', 'rep0_range_35.nominal.endclass.prob', 'rep0_range_35.nominal.endclass.expected_cost', 'rep0_range_35.nominal.endclass.in_bound', 'rep0_range_35.nominal.endclass.at_finish', 'rep0_range_35.nominal.endclass.line_dist', 'rep0_range_35.nominal.endclass.num_modes', 'rep0_range_35.nominal.endclass.end_dist', 'rep0_range_35.nominal.endclass.tot_deviation', 'rep0_range_35.nominal.endclass.faults', 'rep0_range_35.nominal.endclass.classification', 'rep0_range_35.nominal.endclass.end_x', 'rep0_range_35.nominal.endclass.end_y', 'rep0_range_35.nominal.endclass.endpt', 'rep0_range_36.power_no_charge_t1.endclass.rate', 'rep0_range_36.power_no_charge_t1.endclass.cost', 'rep0_range_36.power_no_charge_t1.endclass.prob', 'rep0_range_36.power_no_charge_t1.endclass.expected_cost', 'rep0_range_36.power_no_charge_t1.endclass.in_bound', 'rep0_range_36.power_no_charge_t1.endclass.at_finish', 'rep0_range_36.power_no_charge_t1.endclass.line_dist', 'rep0_range_36.power_no_charge_t1.endclass.num_modes', 'rep0_range_36.power_no_charge_t1.endclass.end_dist', 'rep0_range_36.power_no_charge_t1.endclass.tot_deviation', 'rep0_range_36.power_no_charge_t1.endclass.faults', 'rep0_range_36.power_no_charge_t1.endclass.classification', 'rep0_range_36.power_no_charge_t1.endclass.end_x', 'rep0_range_36.power_no_charge_t1.endclass.end_y', 'rep0_range_36.power_no_charge_t1.endclass.endpt', 'rep0_range_36.power_no_charge_t2.endclass.rate', 'rep0_range_36.power_no_charge_t2.endclass.cost', 'rep0_range_36.power_no_charge_t2.endclass.prob', 'rep0_range_36.power_no_charge_t2.endclass.expected_cost', 'rep0_range_36.power_no_charge_t2.endclass.in_bound', 'rep0_range_36.power_no_charge_t2.endclass.at_finish', 'rep0_range_36.power_no_charge_t2.endclass.line_dist', 'rep0_range_36.power_no_charge_t2.endclass.num_modes', 'rep0_range_36.power_no_charge_t2.endclass.end_dist', 'rep0_range_36.power_no_charge_t2.endclass.tot_deviation', 'rep0_range_36.power_no_charge_t2.endclass.faults', 'rep0_range_36.power_no_charge_t2.endclass.classification', 'rep0_range_36.power_no_charge_t2.endclass.end_x', 'rep0_range_36.power_no_charge_t2.endclass.end_y', 'rep0_range_36.power_no_charge_t2.endclass.endpt', 'rep0_range_36.power_short_t1.endclass.rate', 'rep0_range_36.power_short_t1.endclass.cost', 'rep0_range_36.power_short_t1.endclass.prob', 'rep0_range_36.power_short_t1.endclass.expected_cost', 'rep0_range_36.power_short_t1.endclass.in_bound', 'rep0_range_36.power_short_t1.endclass.at_finish', 'rep0_range_36.power_short_t1.endclass.line_dist', 'rep0_range_36.power_short_t1.endclass.num_modes', 'rep0_range_36.power_short_t1.endclass.end_dist', 'rep0_range_36.power_short_t1.endclass.tot_deviation', 'rep0_range_36.power_short_t1.endclass.faults', 'rep0_range_36.power_short_t1.endclass.classification', 'rep0_range_36.power_short_t1.endclass.end_x', 'rep0_range_36.power_short_t1.endclass.end_y', 'rep0_range_36.power_short_t1.endclass.endpt', 'rep0_range_36.power_short_t2.endclass.rate', 'rep0_range_36.power_short_t2.endclass.cost', 'rep0_range_36.power_short_t2.endclass.prob', 'rep0_range_36.power_short_t2.endclass.expected_cost', 'rep0_range_36.power_short_t2.endclass.in_bound', 'rep0_range_36.power_short_t2.endclass.at_finish', 'rep0_range_36.power_short_t2.endclass.line_dist', 'rep0_range_36.power_short_t2.endclass.num_modes', 'rep0_range_36.power_short_t2.endclass.end_dist', 'rep0_range_36.power_short_t2.endclass.tot_deviation', 'rep0_range_36.power_short_t2.endclass.faults', 'rep0_range_36.power_short_t2.endclass.classification', 'rep0_range_36.power_short_t2.endclass.end_x', 'rep0_range_36.power_short_t2.endclass.end_y', 'rep0_range_36.power_short_t2.endclass.endpt', 'rep0_range_36.nominal.endclass.rate', 'rep0_range_36.nominal.endclass.cost', 'rep0_range_36.nominal.endclass.prob', 'rep0_range_36.nominal.endclass.expected_cost', 'rep0_range_36.nominal.endclass.in_bound', 'rep0_range_36.nominal.endclass.at_finish', 'rep0_range_36.nominal.endclass.line_dist', 'rep0_range_36.nominal.endclass.num_modes', 'rep0_range_36.nominal.endclass.end_dist', 'rep0_range_36.nominal.endclass.tot_deviation', 'rep0_range_36.nominal.endclass.faults', 'rep0_range_36.nominal.endclass.classification', 'rep0_range_36.nominal.endclass.end_x', 'rep0_range_36.nominal.endclass.end_y', 'rep0_range_36.nominal.endclass.endpt', 'rep0_range_37.power_no_charge_t1.endclass.rate', 'rep0_range_37.power_no_charge_t1.endclass.cost', 'rep0_range_37.power_no_charge_t1.endclass.prob', 'rep0_range_37.power_no_charge_t1.endclass.expected_cost', 'rep0_range_37.power_no_charge_t1.endclass.in_bound', 'rep0_range_37.power_no_charge_t1.endclass.at_finish', 'rep0_range_37.power_no_charge_t1.endclass.line_dist', 'rep0_range_37.power_no_charge_t1.endclass.num_modes', 'rep0_range_37.power_no_charge_t1.endclass.end_dist', 'rep0_range_37.power_no_charge_t1.endclass.tot_deviation', 'rep0_range_37.power_no_charge_t1.endclass.faults', 'rep0_range_37.power_no_charge_t1.endclass.classification', 'rep0_range_37.power_no_charge_t1.endclass.end_x', 'rep0_range_37.power_no_charge_t1.endclass.end_y', 'rep0_range_37.power_no_charge_t1.endclass.endpt', 'rep0_range_37.power_no_charge_t2.endclass.rate', 'rep0_range_37.power_no_charge_t2.endclass.cost', 'rep0_range_37.power_no_charge_t2.endclass.prob', 'rep0_range_37.power_no_charge_t2.endclass.expected_cost', 'rep0_range_37.power_no_charge_t2.endclass.in_bound', 'rep0_range_37.power_no_charge_t2.endclass.at_finish', 'rep0_range_37.power_no_charge_t2.endclass.line_dist', 'rep0_range_37.power_no_charge_t2.endclass.num_modes', 'rep0_range_37.power_no_charge_t2.endclass.end_dist', 'rep0_range_37.power_no_charge_t2.endclass.tot_deviation', 'rep0_range_37.power_no_charge_t2.endclass.faults', 'rep0_range_37.power_no_charge_t2.endclass.classification', 'rep0_range_37.power_no_charge_t2.endclass.end_x', 'rep0_range_37.power_no_charge_t2.endclass.end_y', 'rep0_range_37.power_no_charge_t2.endclass.endpt', 'rep0_range_37.power_short_t1.endclass.rate', 'rep0_range_37.power_short_t1.endclass.cost', 'rep0_range_37.power_short_t1.endclass.prob', 'rep0_range_37.power_short_t1.endclass.expected_cost', 'rep0_range_37.power_short_t1.endclass.in_bound', 'rep0_range_37.power_short_t1.endclass.at_finish', 'rep0_range_37.power_short_t1.endclass.line_dist', 'rep0_range_37.power_short_t1.endclass.num_modes', 'rep0_range_37.power_short_t1.endclass.end_dist', 'rep0_range_37.power_short_t1.endclass.tot_deviation', 'rep0_range_37.power_short_t1.endclass.faults', 'rep0_range_37.power_short_t1.endclass.classification', 'rep0_range_37.power_short_t1.endclass.end_x', 'rep0_range_37.power_short_t1.endclass.end_y', 'rep0_range_37.power_short_t1.endclass.endpt', 'rep0_range_37.power_short_t2.endclass.rate', 'rep0_range_37.power_short_t2.endclass.cost', 'rep0_range_37.power_short_t2.endclass.prob', 'rep0_range_37.power_short_t2.endclass.expected_cost', 'rep0_range_37.power_short_t2.endclass.in_bound', 'rep0_range_37.power_short_t2.endclass.at_finish', 'rep0_range_37.power_short_t2.endclass.line_dist', 'rep0_range_37.power_short_t2.endclass.num_modes', 'rep0_range_37.power_short_t2.endclass.end_dist', 'rep0_range_37.power_short_t2.endclass.tot_deviation', 'rep0_range_37.power_short_t2.endclass.faults', 'rep0_range_37.power_short_t2.endclass.classification', 'rep0_range_37.power_short_t2.endclass.end_x', 'rep0_range_37.power_short_t2.endclass.end_y', 'rep0_range_37.power_short_t2.endclass.endpt', 'rep0_range_37.nominal.endclass.rate', 'rep0_range_37.nominal.endclass.cost', 'rep0_range_37.nominal.endclass.prob', 'rep0_range_37.nominal.endclass.expected_cost', 'rep0_range_37.nominal.endclass.in_bound', 'rep0_range_37.nominal.endclass.at_finish', 'rep0_range_37.nominal.endclass.line_dist', 'rep0_range_37.nominal.endclass.num_modes', 'rep0_range_37.nominal.endclass.end_dist', 'rep0_range_37.nominal.endclass.tot_deviation', 'rep0_range_37.nominal.endclass.faults', 'rep0_range_37.nominal.endclass.classification', 'rep0_range_37.nominal.endclass.end_x', 'rep0_range_37.nominal.endclass.end_y', 'rep0_range_37.nominal.endclass.endpt', 'rep0_range_38.power_no_charge_t1.endclass.rate', 'rep0_range_38.power_no_charge_t1.endclass.cost', 'rep0_range_38.power_no_charge_t1.endclass.prob', 'rep0_range_38.power_no_charge_t1.endclass.expected_cost', 'rep0_range_38.power_no_charge_t1.endclass.in_bound', 'rep0_range_38.power_no_charge_t1.endclass.at_finish', 'rep0_range_38.power_no_charge_t1.endclass.line_dist', 'rep0_range_38.power_no_charge_t1.endclass.num_modes', 'rep0_range_38.power_no_charge_t1.endclass.end_dist', 'rep0_range_38.power_no_charge_t1.endclass.tot_deviation', 'rep0_range_38.power_no_charge_t1.endclass.faults', 'rep0_range_38.power_no_charge_t1.endclass.classification', 'rep0_range_38.power_no_charge_t1.endclass.end_x', 'rep0_range_38.power_no_charge_t1.endclass.end_y', 'rep0_range_38.power_no_charge_t1.endclass.endpt', 'rep0_range_38.power_no_charge_t2.endclass.rate', 'rep0_range_38.power_no_charge_t2.endclass.cost', 'rep0_range_38.power_no_charge_t2.endclass.prob', 'rep0_range_38.power_no_charge_t2.endclass.expected_cost', 'rep0_range_38.power_no_charge_t2.endclass.in_bound', 'rep0_range_38.power_no_charge_t2.endclass.at_finish', 'rep0_range_38.power_no_charge_t2.endclass.line_dist', 'rep0_range_38.power_no_charge_t2.endclass.num_modes', 'rep0_range_38.power_no_charge_t2.endclass.end_dist', 'rep0_range_38.power_no_charge_t2.endclass.tot_deviation', 'rep0_range_38.power_no_charge_t2.endclass.faults', 'rep0_range_38.power_no_charge_t2.endclass.classification', 'rep0_range_38.power_no_charge_t2.endclass.end_x', 'rep0_range_38.power_no_charge_t2.endclass.end_y', 'rep0_range_38.power_no_charge_t2.endclass.endpt', 'rep0_range_38.power_short_t1.endclass.rate', 'rep0_range_38.power_short_t1.endclass.cost', 'rep0_range_38.power_short_t1.endclass.prob', 'rep0_range_38.power_short_t1.endclass.expected_cost', 'rep0_range_38.power_short_t1.endclass.in_bound', 'rep0_range_38.power_short_t1.endclass.at_finish', 'rep0_range_38.power_short_t1.endclass.line_dist', 'rep0_range_38.power_short_t1.endclass.num_modes', 'rep0_range_38.power_short_t1.endclass.end_dist', 'rep0_range_38.power_short_t1.endclass.tot_deviation', 'rep0_range_38.power_short_t1.endclass.faults', 'rep0_range_38.power_short_t1.endclass.classification', 'rep0_range_38.power_short_t1.endclass.end_x', 'rep0_range_38.power_short_t1.endclass.end_y', 'rep0_range_38.power_short_t1.endclass.endpt', 'rep0_range_38.power_short_t2.endclass.rate', 'rep0_range_38.power_short_t2.endclass.cost', 'rep0_range_38.power_short_t2.endclass.prob', 'rep0_range_38.power_short_t2.endclass.expected_cost', 'rep0_range_38.power_short_t2.endclass.in_bound', 'rep0_range_38.power_short_t2.endclass.at_finish', 'rep0_range_38.power_short_t2.endclass.line_dist', 'rep0_range_38.power_short_t2.endclass.num_modes', 'rep0_range_38.power_short_t2.endclass.end_dist', 'rep0_range_38.power_short_t2.endclass.tot_deviation', 'rep0_range_38.power_short_t2.endclass.faults', 'rep0_range_38.power_short_t2.endclass.classification', 'rep0_range_38.power_short_t2.endclass.end_x', 'rep0_range_38.power_short_t2.endclass.end_y', 'rep0_range_38.power_short_t2.endclass.endpt', 'rep0_range_38.nominal.endclass.rate', 'rep0_range_38.nominal.endclass.cost', 'rep0_range_38.nominal.endclass.prob', 'rep0_range_38.nominal.endclass.expected_cost', 'rep0_range_38.nominal.endclass.in_bound', 'rep0_range_38.nominal.endclass.at_finish', 'rep0_range_38.nominal.endclass.line_dist', 'rep0_range_38.nominal.endclass.num_modes', 'rep0_range_38.nominal.endclass.end_dist', 'rep0_range_38.nominal.endclass.tot_deviation', 'rep0_range_38.nominal.endclass.faults', 'rep0_range_38.nominal.endclass.classification', 'rep0_range_38.nominal.endclass.end_x', 'rep0_range_38.nominal.endclass.end_y', 'rep0_range_38.nominal.endclass.endpt', 'rep0_range_39.power_no_charge_t1.endclass.rate', 'rep0_range_39.power_no_charge_t1.endclass.cost', 'rep0_range_39.power_no_charge_t1.endclass.prob', 'rep0_range_39.power_no_charge_t1.endclass.expected_cost', 'rep0_range_39.power_no_charge_t1.endclass.in_bound', 'rep0_range_39.power_no_charge_t1.endclass.at_finish', 'rep0_range_39.power_no_charge_t1.endclass.line_dist', 'rep0_range_39.power_no_charge_t1.endclass.num_modes', 'rep0_range_39.power_no_charge_t1.endclass.end_dist', 'rep0_range_39.power_no_charge_t1.endclass.tot_deviation', 'rep0_range_39.power_no_charge_t1.endclass.faults', 'rep0_range_39.power_no_charge_t1.endclass.classification', 'rep0_range_39.power_no_charge_t1.endclass.end_x', 'rep0_range_39.power_no_charge_t1.endclass.end_y', 'rep0_range_39.power_no_charge_t1.endclass.endpt', 'rep0_range_39.power_no_charge_t2.endclass.rate', 'rep0_range_39.power_no_charge_t2.endclass.cost', 'rep0_range_39.power_no_charge_t2.endclass.prob', 'rep0_range_39.power_no_charge_t2.endclass.expected_cost', 'rep0_range_39.power_no_charge_t2.endclass.in_bound', 'rep0_range_39.power_no_charge_t2.endclass.at_finish', 'rep0_range_39.power_no_charge_t2.endclass.line_dist', 'rep0_range_39.power_no_charge_t2.endclass.num_modes', 'rep0_range_39.power_no_charge_t2.endclass.end_dist', 'rep0_range_39.power_no_charge_t2.endclass.tot_deviation', 'rep0_range_39.power_no_charge_t2.endclass.faults', 'rep0_range_39.power_no_charge_t2.endclass.classification', 'rep0_range_39.power_no_charge_t2.endclass.end_x', 'rep0_range_39.power_no_charge_t2.endclass.end_y', 'rep0_range_39.power_no_charge_t2.endclass.endpt', 'rep0_range_39.power_short_t1.endclass.rate', 'rep0_range_39.power_short_t1.endclass.cost', 'rep0_range_39.power_short_t1.endclass.prob', 'rep0_range_39.power_short_t1.endclass.expected_cost', 'rep0_range_39.power_short_t1.endclass.in_bound', 'rep0_range_39.power_short_t1.endclass.at_finish', 'rep0_range_39.power_short_t1.endclass.line_dist', 'rep0_range_39.power_short_t1.endclass.num_modes', 'rep0_range_39.power_short_t1.endclass.end_dist', 'rep0_range_39.power_short_t1.endclass.tot_deviation', 'rep0_range_39.power_short_t1.endclass.faults', 'rep0_range_39.power_short_t1.endclass.classification', 'rep0_range_39.power_short_t1.endclass.end_x', 'rep0_range_39.power_short_t1.endclass.end_y', 'rep0_range_39.power_short_t1.endclass.endpt', 'rep0_range_39.power_short_t2.endclass.rate', 'rep0_range_39.power_short_t2.endclass.cost', 'rep0_range_39.power_short_t2.endclass.prob', 'rep0_range_39.power_short_t2.endclass.expected_cost', 'rep0_range_39.power_short_t2.endclass.in_bound', 'rep0_range_39.power_short_t2.endclass.at_finish', 'rep0_range_39.power_short_t2.endclass.line_dist', 'rep0_range_39.power_short_t2.endclass.num_modes', 'rep0_range_39.power_short_t2.endclass.end_dist', 'rep0_range_39.power_short_t2.endclass.tot_deviation', 'rep0_range_39.power_short_t2.endclass.faults', 'rep0_range_39.power_short_t2.endclass.classification', 'rep0_range_39.power_short_t2.endclass.end_x', 'rep0_range_39.power_short_t2.endclass.end_y', 'rep0_range_39.power_short_t2.endclass.endpt', 'rep0_range_39.nominal.endclass.rate', 'rep0_range_39.nominal.endclass.cost', 'rep0_range_39.nominal.endclass.prob', 'rep0_range_39.nominal.endclass.expected_cost', 'rep0_range_39.nominal.endclass.in_bound', 'rep0_range_39.nominal.endclass.at_finish', 'rep0_range_39.nominal.endclass.line_dist', 'rep0_range_39.nominal.endclass.num_modes', 'rep0_range_39.nominal.endclass.end_dist', 'rep0_range_39.nominal.endclass.tot_deviation', 'rep0_range_39.nominal.endclass.faults', 'rep0_range_39.nominal.endclass.classification', 'rep0_range_39.nominal.endclass.end_x', 'rep0_range_39.nominal.endclass.end_y', 'rep0_range_39.nominal.endclass.endpt', 'rep0_range_40.power_no_charge_t1.endclass.rate', 'rep0_range_40.power_no_charge_t1.endclass.cost', 'rep0_range_40.power_no_charge_t1.endclass.prob', 'rep0_range_40.power_no_charge_t1.endclass.expected_cost', 'rep0_range_40.power_no_charge_t1.endclass.in_bound', 'rep0_range_40.power_no_charge_t1.endclass.at_finish', 'rep0_range_40.power_no_charge_t1.endclass.line_dist', 'rep0_range_40.power_no_charge_t1.endclass.num_modes', 'rep0_range_40.power_no_charge_t1.endclass.end_dist', 'rep0_range_40.power_no_charge_t1.endclass.tot_deviation', 'rep0_range_40.power_no_charge_t1.endclass.faults', 'rep0_range_40.power_no_charge_t1.endclass.classification', 'rep0_range_40.power_no_charge_t1.endclass.end_x', 'rep0_range_40.power_no_charge_t1.endclass.end_y', 'rep0_range_40.power_no_charge_t1.endclass.endpt', 'rep0_range_40.power_no_charge_t2.endclass.rate', 'rep0_range_40.power_no_charge_t2.endclass.cost', 'rep0_range_40.power_no_charge_t2.endclass.prob', 'rep0_range_40.power_no_charge_t2.endclass.expected_cost', 'rep0_range_40.power_no_charge_t2.endclass.in_bound', 'rep0_range_40.power_no_charge_t2.endclass.at_finish', 'rep0_range_40.power_no_charge_t2.endclass.line_dist', 'rep0_range_40.power_no_charge_t2.endclass.num_modes', 'rep0_range_40.power_no_charge_t2.endclass.end_dist', 'rep0_range_40.power_no_charge_t2.endclass.tot_deviation', 'rep0_range_40.power_no_charge_t2.endclass.faults', 'rep0_range_40.power_no_charge_t2.endclass.classification', 'rep0_range_40.power_no_charge_t2.endclass.end_x', 'rep0_range_40.power_no_charge_t2.endclass.end_y', 'rep0_range_40.power_no_charge_t2.endclass.endpt', 'rep0_range_40.power_short_t1.endclass.rate', 'rep0_range_40.power_short_t1.endclass.cost', 'rep0_range_40.power_short_t1.endclass.prob', 'rep0_range_40.power_short_t1.endclass.expected_cost', 'rep0_range_40.power_short_t1.endclass.in_bound', 'rep0_range_40.power_short_t1.endclass.at_finish', 'rep0_range_40.power_short_t1.endclass.line_dist', 'rep0_range_40.power_short_t1.endclass.num_modes', 'rep0_range_40.power_short_t1.endclass.end_dist', 'rep0_range_40.power_short_t1.endclass.tot_deviation', 'rep0_range_40.power_short_t1.endclass.faults', 'rep0_range_40.power_short_t1.endclass.classification', 'rep0_range_40.power_short_t1.endclass.end_x', 'rep0_range_40.power_short_t1.endclass.end_y', 'rep0_range_40.power_short_t1.endclass.endpt', 'rep0_range_40.power_short_t2.endclass.rate', 'rep0_range_40.power_short_t2.endclass.cost', 'rep0_range_40.power_short_t2.endclass.prob', 'rep0_range_40.power_short_t2.endclass.expected_cost', 'rep0_range_40.power_short_t2.endclass.in_bound', 'rep0_range_40.power_short_t2.endclass.at_finish', 'rep0_range_40.power_short_t2.endclass.line_dist', 'rep0_range_40.power_short_t2.endclass.num_modes', 'rep0_range_40.power_short_t2.endclass.end_dist', 'rep0_range_40.power_short_t2.endclass.tot_deviation', 'rep0_range_40.power_short_t2.endclass.faults', 'rep0_range_40.power_short_t2.endclass.classification', 'rep0_range_40.power_short_t2.endclass.end_x', 'rep0_range_40.power_short_t2.endclass.end_y', 'rep0_range_40.power_short_t2.endclass.endpt', 'rep0_range_40.nominal.endclass.rate', 'rep0_range_40.nominal.endclass.cost', 'rep0_range_40.nominal.endclass.prob', 'rep0_range_40.nominal.endclass.expected_cost', 'rep0_range_40.nominal.endclass.in_bound', 'rep0_range_40.nominal.endclass.at_finish', 'rep0_range_40.nominal.endclass.line_dist', 'rep0_range_40.nominal.endclass.num_modes', 'rep0_range_40.nominal.endclass.end_dist', 'rep0_range_40.nominal.endclass.tot_deviation', 'rep0_range_40.nominal.endclass.faults', 'rep0_range_40.nominal.endclass.classification', 'rep0_range_40.nominal.endclass.end_x', 'rep0_range_40.nominal.endclass.end_y', 'rep0_range_40.nominal.endclass.endpt', 'rep0_range_41.power_no_charge_t1.endclass.rate', 'rep0_range_41.power_no_charge_t1.endclass.cost', 'rep0_range_41.power_no_charge_t1.endclass.prob', 'rep0_range_41.power_no_charge_t1.endclass.expected_cost', 'rep0_range_41.power_no_charge_t1.endclass.in_bound', 'rep0_range_41.power_no_charge_t1.endclass.at_finish', 'rep0_range_41.power_no_charge_t1.endclass.line_dist', 'rep0_range_41.power_no_charge_t1.endclass.num_modes', 'rep0_range_41.power_no_charge_t1.endclass.end_dist', 'rep0_range_41.power_no_charge_t1.endclass.tot_deviation', 'rep0_range_41.power_no_charge_t1.endclass.faults', 'rep0_range_41.power_no_charge_t1.endclass.classification', 'rep0_range_41.power_no_charge_t1.endclass.end_x', 'rep0_range_41.power_no_charge_t1.endclass.end_y', 'rep0_range_41.power_no_charge_t1.endclass.endpt', 'rep0_range_41.power_no_charge_t2.endclass.rate', 'rep0_range_41.power_no_charge_t2.endclass.cost', 'rep0_range_41.power_no_charge_t2.endclass.prob', 'rep0_range_41.power_no_charge_t2.endclass.expected_cost', 'rep0_range_41.power_no_charge_t2.endclass.in_bound', 'rep0_range_41.power_no_charge_t2.endclass.at_finish', 'rep0_range_41.power_no_charge_t2.endclass.line_dist', 'rep0_range_41.power_no_charge_t2.endclass.num_modes', 'rep0_range_41.power_no_charge_t2.endclass.end_dist', 'rep0_range_41.power_no_charge_t2.endclass.tot_deviation', 'rep0_range_41.power_no_charge_t2.endclass.faults', 'rep0_range_41.power_no_charge_t2.endclass.classification', 'rep0_range_41.power_no_charge_t2.endclass.end_x', 'rep0_range_41.power_no_charge_t2.endclass.end_y', 'rep0_range_41.power_no_charge_t2.endclass.endpt', 'rep0_range_41.power_short_t1.endclass.rate', 'rep0_range_41.power_short_t1.endclass.cost', 'rep0_range_41.power_short_t1.endclass.prob', 'rep0_range_41.power_short_t1.endclass.expected_cost', 'rep0_range_41.power_short_t1.endclass.in_bound', 'rep0_range_41.power_short_t1.endclass.at_finish', 'rep0_range_41.power_short_t1.endclass.line_dist', 'rep0_range_41.power_short_t1.endclass.num_modes', 'rep0_range_41.power_short_t1.endclass.end_dist', 'rep0_range_41.power_short_t1.endclass.tot_deviation', 'rep0_range_41.power_short_t1.endclass.faults', 'rep0_range_41.power_short_t1.endclass.classification', 'rep0_range_41.power_short_t1.endclass.end_x', 'rep0_range_41.power_short_t1.endclass.end_y', 'rep0_range_41.power_short_t1.endclass.endpt', 'rep0_range_41.power_short_t2.endclass.rate', 'rep0_range_41.power_short_t2.endclass.cost', 'rep0_range_41.power_short_t2.endclass.prob', 'rep0_range_41.power_short_t2.endclass.expected_cost', 'rep0_range_41.power_short_t2.endclass.in_bound', 'rep0_range_41.power_short_t2.endclass.at_finish', 'rep0_range_41.power_short_t2.endclass.line_dist', 'rep0_range_41.power_short_t2.endclass.num_modes', 'rep0_range_41.power_short_t2.endclass.end_dist', 'rep0_range_41.power_short_t2.endclass.tot_deviation', 'rep0_range_41.power_short_t2.endclass.faults', 'rep0_range_41.power_short_t2.endclass.classification', 'rep0_range_41.power_short_t2.endclass.end_x', 'rep0_range_41.power_short_t2.endclass.end_y', 'rep0_range_41.power_short_t2.endclass.endpt', 'rep0_range_41.nominal.endclass.rate', 'rep0_range_41.nominal.endclass.cost', 'rep0_range_41.nominal.endclass.prob', 'rep0_range_41.nominal.endclass.expected_cost', 'rep0_range_41.nominal.endclass.in_bound', 'rep0_range_41.nominal.endclass.at_finish', 'rep0_range_41.nominal.endclass.line_dist', 'rep0_range_41.nominal.endclass.num_modes', 'rep0_range_41.nominal.endclass.end_dist', 'rep0_range_41.nominal.endclass.tot_deviation', 'rep0_range_41.nominal.endclass.faults', 'rep0_range_41.nominal.endclass.classification', 'rep0_range_41.nominal.endclass.end_x', 'rep0_range_41.nominal.endclass.end_y', 'rep0_range_41.nominal.endclass.endpt', 'rep0_range_42.power_no_charge_t1.endclass.rate', 'rep0_range_42.power_no_charge_t1.endclass.cost', 'rep0_range_42.power_no_charge_t1.endclass.prob', 'rep0_range_42.power_no_charge_t1.endclass.expected_cost', 'rep0_range_42.power_no_charge_t1.endclass.in_bound', 'rep0_range_42.power_no_charge_t1.endclass.at_finish', 'rep0_range_42.power_no_charge_t1.endclass.line_dist', 'rep0_range_42.power_no_charge_t1.endclass.num_modes', 'rep0_range_42.power_no_charge_t1.endclass.end_dist', 'rep0_range_42.power_no_charge_t1.endclass.tot_deviation', 'rep0_range_42.power_no_charge_t1.endclass.faults', 'rep0_range_42.power_no_charge_t1.endclass.classification', 'rep0_range_42.power_no_charge_t1.endclass.end_x', 'rep0_range_42.power_no_charge_t1.endclass.end_y', 'rep0_range_42.power_no_charge_t1.endclass.endpt', 'rep0_range_42.power_no_charge_t2.endclass.rate', 'rep0_range_42.power_no_charge_t2.endclass.cost', 'rep0_range_42.power_no_charge_t2.endclass.prob', 'rep0_range_42.power_no_charge_t2.endclass.expected_cost', 'rep0_range_42.power_no_charge_t2.endclass.in_bound', 'rep0_range_42.power_no_charge_t2.endclass.at_finish', 'rep0_range_42.power_no_charge_t2.endclass.line_dist', 'rep0_range_42.power_no_charge_t2.endclass.num_modes', 'rep0_range_42.power_no_charge_t2.endclass.end_dist', 'rep0_range_42.power_no_charge_t2.endclass.tot_deviation', 'rep0_range_42.power_no_charge_t2.endclass.faults', 'rep0_range_42.power_no_charge_t2.endclass.classification', 'rep0_range_42.power_no_charge_t2.endclass.end_x', 'rep0_range_42.power_no_charge_t2.endclass.end_y', 'rep0_range_42.power_no_charge_t2.endclass.endpt', 'rep0_range_42.power_short_t1.endclass.rate', 'rep0_range_42.power_short_t1.endclass.cost', 'rep0_range_42.power_short_t1.endclass.prob', 'rep0_range_42.power_short_t1.endclass.expected_cost', 'rep0_range_42.power_short_t1.endclass.in_bound', 'rep0_range_42.power_short_t1.endclass.at_finish', 'rep0_range_42.power_short_t1.endclass.line_dist', 'rep0_range_42.power_short_t1.endclass.num_modes', 'rep0_range_42.power_short_t1.endclass.end_dist', 'rep0_range_42.power_short_t1.endclass.tot_deviation', 'rep0_range_42.power_short_t1.endclass.faults', 'rep0_range_42.power_short_t1.endclass.classification', 'rep0_range_42.power_short_t1.endclass.end_x', 'rep0_range_42.power_short_t1.endclass.end_y', 'rep0_range_42.power_short_t1.endclass.endpt', 'rep0_range_42.power_short_t2.endclass.rate', 'rep0_range_42.power_short_t2.endclass.cost', 'rep0_range_42.power_short_t2.endclass.prob', 'rep0_range_42.power_short_t2.endclass.expected_cost', 'rep0_range_42.power_short_t2.endclass.in_bound', 'rep0_range_42.power_short_t2.endclass.at_finish', 'rep0_range_42.power_short_t2.endclass.line_dist', 'rep0_range_42.power_short_t2.endclass.num_modes', 'rep0_range_42.power_short_t2.endclass.end_dist', 'rep0_range_42.power_short_t2.endclass.tot_deviation', 'rep0_range_42.power_short_t2.endclass.faults', 'rep0_range_42.power_short_t2.endclass.classification', 'rep0_range_42.power_short_t2.endclass.end_x', 'rep0_range_42.power_short_t2.endclass.end_y', 'rep0_range_42.power_short_t2.endclass.endpt', 'rep0_range_42.nominal.endclass.rate', 'rep0_range_42.nominal.endclass.cost', 'rep0_range_42.nominal.endclass.prob', 'rep0_range_42.nominal.endclass.expected_cost', 'rep0_range_42.nominal.endclass.in_bound', 'rep0_range_42.nominal.endclass.at_finish', 'rep0_range_42.nominal.endclass.line_dist', 'rep0_range_42.nominal.endclass.num_modes', 'rep0_range_42.nominal.endclass.end_dist', 'rep0_range_42.nominal.endclass.tot_deviation', 'rep0_range_42.nominal.endclass.faults', 'rep0_range_42.nominal.endclass.classification', 'rep0_range_42.nominal.endclass.end_x', 'rep0_range_42.nominal.endclass.end_y', 'rep0_range_42.nominal.endclass.endpt', 'rep0_range_43.power_no_charge_t1.endclass.rate', 'rep0_range_43.power_no_charge_t1.endclass.cost', 'rep0_range_43.power_no_charge_t1.endclass.prob', 'rep0_range_43.power_no_charge_t1.endclass.expected_cost', 'rep0_range_43.power_no_charge_t1.endclass.in_bound', 'rep0_range_43.power_no_charge_t1.endclass.at_finish', 'rep0_range_43.power_no_charge_t1.endclass.line_dist', 'rep0_range_43.power_no_charge_t1.endclass.num_modes', 'rep0_range_43.power_no_charge_t1.endclass.end_dist', 'rep0_range_43.power_no_charge_t1.endclass.tot_deviation', 'rep0_range_43.power_no_charge_t1.endclass.faults', 'rep0_range_43.power_no_charge_t1.endclass.classification', 'rep0_range_43.power_no_charge_t1.endclass.end_x', 'rep0_range_43.power_no_charge_t1.endclass.end_y', 'rep0_range_43.power_no_charge_t1.endclass.endpt', 'rep0_range_43.power_no_charge_t2.endclass.rate', 'rep0_range_43.power_no_charge_t2.endclass.cost', 'rep0_range_43.power_no_charge_t2.endclass.prob', 'rep0_range_43.power_no_charge_t2.endclass.expected_cost', 'rep0_range_43.power_no_charge_t2.endclass.in_bound', 'rep0_range_43.power_no_charge_t2.endclass.at_finish', 'rep0_range_43.power_no_charge_t2.endclass.line_dist', 'rep0_range_43.power_no_charge_t2.endclass.num_modes', 'rep0_range_43.power_no_charge_t2.endclass.end_dist', 'rep0_range_43.power_no_charge_t2.endclass.tot_deviation', 'rep0_range_43.power_no_charge_t2.endclass.faults', 'rep0_range_43.power_no_charge_t2.endclass.classification', 'rep0_range_43.power_no_charge_t2.endclass.end_x', 'rep0_range_43.power_no_charge_t2.endclass.end_y', 'rep0_range_43.power_no_charge_t2.endclass.endpt', 'rep0_range_43.power_short_t1.endclass.rate', 'rep0_range_43.power_short_t1.endclass.cost', 'rep0_range_43.power_short_t1.endclass.prob', 'rep0_range_43.power_short_t1.endclass.expected_cost', 'rep0_range_43.power_short_t1.endclass.in_bound', 'rep0_range_43.power_short_t1.endclass.at_finish', 'rep0_range_43.power_short_t1.endclass.line_dist', 'rep0_range_43.power_short_t1.endclass.num_modes', 'rep0_range_43.power_short_t1.endclass.end_dist', 'rep0_range_43.power_short_t1.endclass.tot_deviation', 'rep0_range_43.power_short_t1.endclass.faults', 'rep0_range_43.power_short_t1.endclass.classification', 'rep0_range_43.power_short_t1.endclass.end_x', 'rep0_range_43.power_short_t1.endclass.end_y', 'rep0_range_43.power_short_t1.endclass.endpt', 'rep0_range_43.power_short_t2.endclass.rate', 'rep0_range_43.power_short_t2.endclass.cost', 'rep0_range_43.power_short_t2.endclass.prob', 'rep0_range_43.power_short_t2.endclass.expected_cost', 'rep0_range_43.power_short_t2.endclass.in_bound', 'rep0_range_43.power_short_t2.endclass.at_finish', 'rep0_range_43.power_short_t2.endclass.line_dist', 'rep0_range_43.power_short_t2.endclass.num_modes', 'rep0_range_43.power_short_t2.endclass.end_dist', 'rep0_range_43.power_short_t2.endclass.tot_deviation', 'rep0_range_43.power_short_t2.endclass.faults', 'rep0_range_43.power_short_t2.endclass.classification', 'rep0_range_43.power_short_t2.endclass.end_x', 'rep0_range_43.power_short_t2.endclass.end_y', 'rep0_range_43.power_short_t2.endclass.endpt', 'rep0_range_43.nominal.endclass.rate', 'rep0_range_43.nominal.endclass.cost', 'rep0_range_43.nominal.endclass.prob', 'rep0_range_43.nominal.endclass.expected_cost', 'rep0_range_43.nominal.endclass.in_bound', 'rep0_range_43.nominal.endclass.at_finish', 'rep0_range_43.nominal.endclass.line_dist', 'rep0_range_43.nominal.endclass.num_modes', 'rep0_range_43.nominal.endclass.end_dist', 'rep0_range_43.nominal.endclass.tot_deviation', 'rep0_range_43.nominal.endclass.faults', 'rep0_range_43.nominal.endclass.classification', 'rep0_range_43.nominal.endclass.end_x', 'rep0_range_43.nominal.endclass.end_y', 'rep0_range_43.nominal.endclass.endpt', 'rep0_range_44.power_no_charge_t1.endclass.rate', 'rep0_range_44.power_no_charge_t1.endclass.cost', 'rep0_range_44.power_no_charge_t1.endclass.prob', 'rep0_range_44.power_no_charge_t1.endclass.expected_cost', 'rep0_range_44.power_no_charge_t1.endclass.in_bound', 'rep0_range_44.power_no_charge_t1.endclass.at_finish', 'rep0_range_44.power_no_charge_t1.endclass.line_dist', 'rep0_range_44.power_no_charge_t1.endclass.num_modes', 'rep0_range_44.power_no_charge_t1.endclass.end_dist', 'rep0_range_44.power_no_charge_t1.endclass.tot_deviation', 'rep0_range_44.power_no_charge_t1.endclass.faults', 'rep0_range_44.power_no_charge_t1.endclass.classification', 'rep0_range_44.power_no_charge_t1.endclass.end_x', 'rep0_range_44.power_no_charge_t1.endclass.end_y', 'rep0_range_44.power_no_charge_t1.endclass.endpt', 'rep0_range_44.power_no_charge_t2.endclass.rate', 'rep0_range_44.power_no_charge_t2.endclass.cost', 'rep0_range_44.power_no_charge_t2.endclass.prob', 'rep0_range_44.power_no_charge_t2.endclass.expected_cost', 'rep0_range_44.power_no_charge_t2.endclass.in_bound', 'rep0_range_44.power_no_charge_t2.endclass.at_finish', 'rep0_range_44.power_no_charge_t2.endclass.line_dist', 'rep0_range_44.power_no_charge_t2.endclass.num_modes', 'rep0_range_44.power_no_charge_t2.endclass.end_dist', 'rep0_range_44.power_no_charge_t2.endclass.tot_deviation', 'rep0_range_44.power_no_charge_t2.endclass.faults', 'rep0_range_44.power_no_charge_t2.endclass.classification', 'rep0_range_44.power_no_charge_t2.endclass.end_x', 'rep0_range_44.power_no_charge_t2.endclass.end_y', 'rep0_range_44.power_no_charge_t2.endclass.endpt', 'rep0_range_44.power_short_t1.endclass.rate', 'rep0_range_44.power_short_t1.endclass.cost', 'rep0_range_44.power_short_t1.endclass.prob', 'rep0_range_44.power_short_t1.endclass.expected_cost', 'rep0_range_44.power_short_t1.endclass.in_bound', 'rep0_range_44.power_short_t1.endclass.at_finish', 'rep0_range_44.power_short_t1.endclass.line_dist', 'rep0_range_44.power_short_t1.endclass.num_modes', 'rep0_range_44.power_short_t1.endclass.end_dist', 'rep0_range_44.power_short_t1.endclass.tot_deviation', 'rep0_range_44.power_short_t1.endclass.faults', 'rep0_range_44.power_short_t1.endclass.classification', 'rep0_range_44.power_short_t1.endclass.end_x', 'rep0_range_44.power_short_t1.endclass.end_y', 'rep0_range_44.power_short_t1.endclass.endpt', 'rep0_range_44.power_short_t2.endclass.rate', 'rep0_range_44.power_short_t2.endclass.cost', 'rep0_range_44.power_short_t2.endclass.prob', 'rep0_range_44.power_short_t2.endclass.expected_cost', 'rep0_range_44.power_short_t2.endclass.in_bound', 'rep0_range_44.power_short_t2.endclass.at_finish', 'rep0_range_44.power_short_t2.endclass.line_dist', 'rep0_range_44.power_short_t2.endclass.num_modes', 'rep0_range_44.power_short_t2.endclass.end_dist', 'rep0_range_44.power_short_t2.endclass.tot_deviation', 'rep0_range_44.power_short_t2.endclass.faults', 'rep0_range_44.power_short_t2.endclass.classification', 'rep0_range_44.power_short_t2.endclass.end_x', 'rep0_range_44.power_short_t2.endclass.end_y', 'rep0_range_44.power_short_t2.endclass.endpt', 'rep0_range_44.nominal.endclass.rate', 'rep0_range_44.nominal.endclass.cost', 'rep0_range_44.nominal.endclass.prob', 'rep0_range_44.nominal.endclass.expected_cost', 'rep0_range_44.nominal.endclass.in_bound', 'rep0_range_44.nominal.endclass.at_finish', 'rep0_range_44.nominal.endclass.line_dist', 'rep0_range_44.nominal.endclass.num_modes', 'rep0_range_44.nominal.endclass.end_dist', 'rep0_range_44.nominal.endclass.tot_deviation', 'rep0_range_44.nominal.endclass.faults', 'rep0_range_44.nominal.endclass.classification', 'rep0_range_44.nominal.endclass.end_x', 'rep0_range_44.nominal.endclass.end_y', 'rep0_range_44.nominal.endclass.endpt', 'rep0_range_45.power_no_charge_t1.endclass.rate', 'rep0_range_45.power_no_charge_t1.endclass.cost', 'rep0_range_45.power_no_charge_t1.endclass.prob', 'rep0_range_45.power_no_charge_t1.endclass.expected_cost', 'rep0_range_45.power_no_charge_t1.endclass.in_bound', 'rep0_range_45.power_no_charge_t1.endclass.at_finish', 'rep0_range_45.power_no_charge_t1.endclass.line_dist', 'rep0_range_45.power_no_charge_t1.endclass.num_modes', 'rep0_range_45.power_no_charge_t1.endclass.end_dist', 'rep0_range_45.power_no_charge_t1.endclass.tot_deviation', 'rep0_range_45.power_no_charge_t1.endclass.faults', 'rep0_range_45.power_no_charge_t1.endclass.classification', 'rep0_range_45.power_no_charge_t1.endclass.end_x', 'rep0_range_45.power_no_charge_t1.endclass.end_y', 'rep0_range_45.power_no_charge_t1.endclass.endpt', 'rep0_range_45.power_no_charge_t2.endclass.rate', 'rep0_range_45.power_no_charge_t2.endclass.cost', 'rep0_range_45.power_no_charge_t2.endclass.prob', 'rep0_range_45.power_no_charge_t2.endclass.expected_cost', 'rep0_range_45.power_no_charge_t2.endclass.in_bound', 'rep0_range_45.power_no_charge_t2.endclass.at_finish', 'rep0_range_45.power_no_charge_t2.endclass.line_dist', 'rep0_range_45.power_no_charge_t2.endclass.num_modes', 'rep0_range_45.power_no_charge_t2.endclass.end_dist', 'rep0_range_45.power_no_charge_t2.endclass.tot_deviation', 'rep0_range_45.power_no_charge_t2.endclass.faults', 'rep0_range_45.power_no_charge_t2.endclass.classification', 'rep0_range_45.power_no_charge_t2.endclass.end_x', 'rep0_range_45.power_no_charge_t2.endclass.end_y', 'rep0_range_45.power_no_charge_t2.endclass.endpt', 'rep0_range_45.power_short_t1.endclass.rate', 'rep0_range_45.power_short_t1.endclass.cost', 'rep0_range_45.power_short_t1.endclass.prob', 'rep0_range_45.power_short_t1.endclass.expected_cost', 'rep0_range_45.power_short_t1.endclass.in_bound', 'rep0_range_45.power_short_t1.endclass.at_finish', 'rep0_range_45.power_short_t1.endclass.line_dist', 'rep0_range_45.power_short_t1.endclass.num_modes', 'rep0_range_45.power_short_t1.endclass.end_dist', 'rep0_range_45.power_short_t1.endclass.tot_deviation', 'rep0_range_45.power_short_t1.endclass.faults', 'rep0_range_45.power_short_t1.endclass.classification', 'rep0_range_45.power_short_t1.endclass.end_x', 'rep0_range_45.power_short_t1.endclass.end_y', 'rep0_range_45.power_short_t1.endclass.endpt', 'rep0_range_45.power_short_t2.endclass.rate', 'rep0_range_45.power_short_t2.endclass.cost', 'rep0_range_45.power_short_t2.endclass.prob', 'rep0_range_45.power_short_t2.endclass.expected_cost', 'rep0_range_45.power_short_t2.endclass.in_bound', 'rep0_range_45.power_short_t2.endclass.at_finish', 'rep0_range_45.power_short_t2.endclass.line_dist', 'rep0_range_45.power_short_t2.endclass.num_modes', 'rep0_range_45.power_short_t2.endclass.end_dist', 'rep0_range_45.power_short_t2.endclass.tot_deviation', 'rep0_range_45.power_short_t2.endclass.faults', 'rep0_range_45.power_short_t2.endclass.classification', 'rep0_range_45.power_short_t2.endclass.end_x', 'rep0_range_45.power_short_t2.endclass.end_y', 'rep0_range_45.power_short_t2.endclass.endpt', 'rep0_range_45.nominal.endclass.rate', 'rep0_range_45.nominal.endclass.cost', 'rep0_range_45.nominal.endclass.prob', 'rep0_range_45.nominal.endclass.expected_cost', 'rep0_range_45.nominal.endclass.in_bound', 'rep0_range_45.nominal.endclass.at_finish', 'rep0_range_45.nominal.endclass.line_dist', 'rep0_range_45.nominal.endclass.num_modes', 'rep0_range_45.nominal.endclass.end_dist', 'rep0_range_45.nominal.endclass.tot_deviation', 'rep0_range_45.nominal.endclass.faults', 'rep0_range_45.nominal.endclass.classification', 'rep0_range_45.nominal.endclass.end_x', 'rep0_range_45.nominal.endclass.end_y', 'rep0_range_45.nominal.endclass.endpt', 'rep0_range_46.power_no_charge_t1.endclass.rate', 'rep0_range_46.power_no_charge_t1.endclass.cost', 'rep0_range_46.power_no_charge_t1.endclass.prob', 'rep0_range_46.power_no_charge_t1.endclass.expected_cost', 'rep0_range_46.power_no_charge_t1.endclass.in_bound', 'rep0_range_46.power_no_charge_t1.endclass.at_finish', 'rep0_range_46.power_no_charge_t1.endclass.line_dist', 'rep0_range_46.power_no_charge_t1.endclass.num_modes', 'rep0_range_46.power_no_charge_t1.endclass.end_dist', 'rep0_range_46.power_no_charge_t1.endclass.tot_deviation', 'rep0_range_46.power_no_charge_t1.endclass.faults', 'rep0_range_46.power_no_charge_t1.endclass.classification', 'rep0_range_46.power_no_charge_t1.endclass.end_x', 'rep0_range_46.power_no_charge_t1.endclass.end_y', 'rep0_range_46.power_no_charge_t1.endclass.endpt', 'rep0_range_46.power_no_charge_t2.endclass.rate', 'rep0_range_46.power_no_charge_t2.endclass.cost', 'rep0_range_46.power_no_charge_t2.endclass.prob', 'rep0_range_46.power_no_charge_t2.endclass.expected_cost', 'rep0_range_46.power_no_charge_t2.endclass.in_bound', 'rep0_range_46.power_no_charge_t2.endclass.at_finish', 'rep0_range_46.power_no_charge_t2.endclass.line_dist', 'rep0_range_46.power_no_charge_t2.endclass.num_modes', 'rep0_range_46.power_no_charge_t2.endclass.end_dist', 'rep0_range_46.power_no_charge_t2.endclass.tot_deviation', 'rep0_range_46.power_no_charge_t2.endclass.faults', 'rep0_range_46.power_no_charge_t2.endclass.classification', 'rep0_range_46.power_no_charge_t2.endclass.end_x', 'rep0_range_46.power_no_charge_t2.endclass.end_y', 'rep0_range_46.power_no_charge_t2.endclass.endpt', 'rep0_range_46.power_short_t1.endclass.rate', 'rep0_range_46.power_short_t1.endclass.cost', 'rep0_range_46.power_short_t1.endclass.prob', 'rep0_range_46.power_short_t1.endclass.expected_cost', 'rep0_range_46.power_short_t1.endclass.in_bound', 'rep0_range_46.power_short_t1.endclass.at_finish', 'rep0_range_46.power_short_t1.endclass.line_dist', 'rep0_range_46.power_short_t1.endclass.num_modes', 'rep0_range_46.power_short_t1.endclass.end_dist', 'rep0_range_46.power_short_t1.endclass.tot_deviation', 'rep0_range_46.power_short_t1.endclass.faults', 'rep0_range_46.power_short_t1.endclass.classification', 'rep0_range_46.power_short_t1.endclass.end_x', 'rep0_range_46.power_short_t1.endclass.end_y', 'rep0_range_46.power_short_t1.endclass.endpt', 'rep0_range_46.power_short_t2.endclass.rate', 'rep0_range_46.power_short_t2.endclass.cost', 'rep0_range_46.power_short_t2.endclass.prob', 'rep0_range_46.power_short_t2.endclass.expected_cost', 'rep0_range_46.power_short_t2.endclass.in_bound', 'rep0_range_46.power_short_t2.endclass.at_finish', 'rep0_range_46.power_short_t2.endclass.line_dist', 'rep0_range_46.power_short_t2.endclass.num_modes', 'rep0_range_46.power_short_t2.endclass.end_dist', 'rep0_range_46.power_short_t2.endclass.tot_deviation', 'rep0_range_46.power_short_t2.endclass.faults', 'rep0_range_46.power_short_t2.endclass.classification', 'rep0_range_46.power_short_t2.endclass.end_x', 'rep0_range_46.power_short_t2.endclass.end_y', 'rep0_range_46.power_short_t2.endclass.endpt', 'rep0_range_46.nominal.endclass.rate', 'rep0_range_46.nominal.endclass.cost', 'rep0_range_46.nominal.endclass.prob', 'rep0_range_46.nominal.endclass.expected_cost', 'rep0_range_46.nominal.endclass.in_bound', 'rep0_range_46.nominal.endclass.at_finish', 'rep0_range_46.nominal.endclass.line_dist', 'rep0_range_46.nominal.endclass.num_modes', 'rep0_range_46.nominal.endclass.end_dist', 'rep0_range_46.nominal.endclass.tot_deviation', 'rep0_range_46.nominal.endclass.faults', 'rep0_range_46.nominal.endclass.classification', 'rep0_range_46.nominal.endclass.end_x', 'rep0_range_46.nominal.endclass.end_y', 'rep0_range_46.nominal.endclass.endpt', 'rep0_range_47.power_no_charge_t1.endclass.rate', 'rep0_range_47.power_no_charge_t1.endclass.cost', 'rep0_range_47.power_no_charge_t1.endclass.prob', 'rep0_range_47.power_no_charge_t1.endclass.expected_cost', 'rep0_range_47.power_no_charge_t1.endclass.in_bound', 'rep0_range_47.power_no_charge_t1.endclass.at_finish', 'rep0_range_47.power_no_charge_t1.endclass.line_dist', 'rep0_range_47.power_no_charge_t1.endclass.num_modes', 'rep0_range_47.power_no_charge_t1.endclass.end_dist', 'rep0_range_47.power_no_charge_t1.endclass.tot_deviation', 'rep0_range_47.power_no_charge_t1.endclass.faults', 'rep0_range_47.power_no_charge_t1.endclass.classification', 'rep0_range_47.power_no_charge_t1.endclass.end_x', 'rep0_range_47.power_no_charge_t1.endclass.end_y', 'rep0_range_47.power_no_charge_t1.endclass.endpt', 'rep0_range_47.power_no_charge_t2.endclass.rate', 'rep0_range_47.power_no_charge_t2.endclass.cost', 'rep0_range_47.power_no_charge_t2.endclass.prob', 'rep0_range_47.power_no_charge_t2.endclass.expected_cost', 'rep0_range_47.power_no_charge_t2.endclass.in_bound', 'rep0_range_47.power_no_charge_t2.endclass.at_finish', 'rep0_range_47.power_no_charge_t2.endclass.line_dist', 'rep0_range_47.power_no_charge_t2.endclass.num_modes', 'rep0_range_47.power_no_charge_t2.endclass.end_dist', 'rep0_range_47.power_no_charge_t2.endclass.tot_deviation', 'rep0_range_47.power_no_charge_t2.endclass.faults', 'rep0_range_47.power_no_charge_t2.endclass.classification', 'rep0_range_47.power_no_charge_t2.endclass.end_x', 'rep0_range_47.power_no_charge_t2.endclass.end_y', 'rep0_range_47.power_no_charge_t2.endclass.endpt', 'rep0_range_47.power_short_t1.endclass.rate', 'rep0_range_47.power_short_t1.endclass.cost', 'rep0_range_47.power_short_t1.endclass.prob', 'rep0_range_47.power_short_t1.endclass.expected_cost', 'rep0_range_47.power_short_t1.endclass.in_bound', 'rep0_range_47.power_short_t1.endclass.at_finish', 'rep0_range_47.power_short_t1.endclass.line_dist', 'rep0_range_47.power_short_t1.endclass.num_modes', 'rep0_range_47.power_short_t1.endclass.end_dist', 'rep0_range_47.power_short_t1.endclass.tot_deviation', 'rep0_range_47.power_short_t1.endclass.faults', 'rep0_range_47.power_short_t1.endclass.classification', 'rep0_range_47.power_short_t1.endclass.end_x', 'rep0_range_47.power_short_t1.endclass.end_y', 'rep0_range_47.power_short_t1.endclass.endpt', 'rep0_range_47.power_short_t2.endclass.rate', 'rep0_range_47.power_short_t2.endclass.cost', 'rep0_range_47.power_short_t2.endclass.prob', 'rep0_range_47.power_short_t2.endclass.expected_cost', 'rep0_range_47.power_short_t2.endclass.in_bound', 'rep0_range_47.power_short_t2.endclass.at_finish', 'rep0_range_47.power_short_t2.endclass.line_dist', 'rep0_range_47.power_short_t2.endclass.num_modes', 'rep0_range_47.power_short_t2.endclass.end_dist', 'rep0_range_47.power_short_t2.endclass.tot_deviation', 'rep0_range_47.power_short_t2.endclass.faults', 'rep0_range_47.power_short_t2.endclass.classification', 'rep0_range_47.power_short_t2.endclass.end_x', 'rep0_range_47.power_short_t2.endclass.end_y', 'rep0_range_47.power_short_t2.endclass.endpt', 'rep0_range_47.nominal.endclass.rate', 'rep0_range_47.nominal.endclass.cost', 'rep0_range_47.nominal.endclass.prob', 'rep0_range_47.nominal.endclass.expected_cost', 'rep0_range_47.nominal.endclass.in_bound', 'rep0_range_47.nominal.endclass.at_finish', 'rep0_range_47.nominal.endclass.line_dist', 'rep0_range_47.nominal.endclass.num_modes', 'rep0_range_47.nominal.endclass.end_dist', 'rep0_range_47.nominal.endclass.tot_deviation', 'rep0_range_47.nominal.endclass.faults', 'rep0_range_47.nominal.endclass.classification', 'rep0_range_47.nominal.endclass.end_x', 'rep0_range_47.nominal.endclass.end_y', 'rep0_range_47.nominal.endclass.endpt', 'rep0_range_48.power_no_charge_t1.endclass.rate', 'rep0_range_48.power_no_charge_t1.endclass.cost', 'rep0_range_48.power_no_charge_t1.endclass.prob', 'rep0_range_48.power_no_charge_t1.endclass.expected_cost', 'rep0_range_48.power_no_charge_t1.endclass.in_bound', 'rep0_range_48.power_no_charge_t1.endclass.at_finish', 'rep0_range_48.power_no_charge_t1.endclass.line_dist', 'rep0_range_48.power_no_charge_t1.endclass.num_modes', 'rep0_range_48.power_no_charge_t1.endclass.end_dist', 'rep0_range_48.power_no_charge_t1.endclass.tot_deviation', 'rep0_range_48.power_no_charge_t1.endclass.faults', 'rep0_range_48.power_no_charge_t1.endclass.classification', 'rep0_range_48.power_no_charge_t1.endclass.end_x', 'rep0_range_48.power_no_charge_t1.endclass.end_y', 'rep0_range_48.power_no_charge_t1.endclass.endpt', 'rep0_range_48.power_no_charge_t2.endclass.rate', 'rep0_range_48.power_no_charge_t2.endclass.cost', 'rep0_range_48.power_no_charge_t2.endclass.prob', 'rep0_range_48.power_no_charge_t2.endclass.expected_cost', 'rep0_range_48.power_no_charge_t2.endclass.in_bound', 'rep0_range_48.power_no_charge_t2.endclass.at_finish', 'rep0_range_48.power_no_charge_t2.endclass.line_dist', 'rep0_range_48.power_no_charge_t2.endclass.num_modes', 'rep0_range_48.power_no_charge_t2.endclass.end_dist', 'rep0_range_48.power_no_charge_t2.endclass.tot_deviation', 'rep0_range_48.power_no_charge_t2.endclass.faults', 'rep0_range_48.power_no_charge_t2.endclass.classification', 'rep0_range_48.power_no_charge_t2.endclass.end_x', 'rep0_range_48.power_no_charge_t2.endclass.end_y', 'rep0_range_48.power_no_charge_t2.endclass.endpt', 'rep0_range_48.power_short_t1.endclass.rate', 'rep0_range_48.power_short_t1.endclass.cost', 'rep0_range_48.power_short_t1.endclass.prob', 'rep0_range_48.power_short_t1.endclass.expected_cost', 'rep0_range_48.power_short_t1.endclass.in_bound', 'rep0_range_48.power_short_t1.endclass.at_finish', 'rep0_range_48.power_short_t1.endclass.line_dist', 'rep0_range_48.power_short_t1.endclass.num_modes', 'rep0_range_48.power_short_t1.endclass.end_dist', 'rep0_range_48.power_short_t1.endclass.tot_deviation', 'rep0_range_48.power_short_t1.endclass.faults', 'rep0_range_48.power_short_t1.endclass.classification', 'rep0_range_48.power_short_t1.endclass.end_x', 'rep0_range_48.power_short_t1.endclass.end_y', 'rep0_range_48.power_short_t1.endclass.endpt', 'rep0_range_48.power_short_t2.endclass.rate', 'rep0_range_48.power_short_t2.endclass.cost', 'rep0_range_48.power_short_t2.endclass.prob', 'rep0_range_48.power_short_t2.endclass.expected_cost', 'rep0_range_48.power_short_t2.endclass.in_bound', 'rep0_range_48.power_short_t2.endclass.at_finish', 'rep0_range_48.power_short_t2.endclass.line_dist', 'rep0_range_48.power_short_t2.endclass.num_modes', 'rep0_range_48.power_short_t2.endclass.end_dist', 'rep0_range_48.power_short_t2.endclass.tot_deviation', 'rep0_range_48.power_short_t2.endclass.faults', 'rep0_range_48.power_short_t2.endclass.classification', 'rep0_range_48.power_short_t2.endclass.end_x', 'rep0_range_48.power_short_t2.endclass.end_y', 'rep0_range_48.power_short_t2.endclass.endpt', 'rep0_range_48.nominal.endclass.rate', 'rep0_range_48.nominal.endclass.cost', 'rep0_range_48.nominal.endclass.prob', 'rep0_range_48.nominal.endclass.expected_cost', 'rep0_range_48.nominal.endclass.in_bound', 'rep0_range_48.nominal.endclass.at_finish', 'rep0_range_48.nominal.endclass.line_dist', 'rep0_range_48.nominal.endclass.num_modes', 'rep0_range_48.nominal.endclass.end_dist', 'rep0_range_48.nominal.endclass.tot_deviation', 'rep0_range_48.nominal.endclass.faults', 'rep0_range_48.nominal.endclass.classification', 'rep0_range_48.nominal.endclass.end_x', 'rep0_range_48.nominal.endclass.end_y', 'rep0_range_48.nominal.endclass.endpt', 'rep0_range_49.power_no_charge_t1.endclass.rate', 'rep0_range_49.power_no_charge_t1.endclass.cost', 'rep0_range_49.power_no_charge_t1.endclass.prob', 'rep0_range_49.power_no_charge_t1.endclass.expected_cost', 'rep0_range_49.power_no_charge_t1.endclass.in_bound', 'rep0_range_49.power_no_charge_t1.endclass.at_finish', 'rep0_range_49.power_no_charge_t1.endclass.line_dist', 'rep0_range_49.power_no_charge_t1.endclass.num_modes', 'rep0_range_49.power_no_charge_t1.endclass.end_dist', 'rep0_range_49.power_no_charge_t1.endclass.tot_deviation', 'rep0_range_49.power_no_charge_t1.endclass.faults', 'rep0_range_49.power_no_charge_t1.endclass.classification', 'rep0_range_49.power_no_charge_t1.endclass.end_x', 'rep0_range_49.power_no_charge_t1.endclass.end_y', 'rep0_range_49.power_no_charge_t1.endclass.endpt', 'rep0_range_49.power_no_charge_t2.endclass.rate', 'rep0_range_49.power_no_charge_t2.endclass.cost', 'rep0_range_49.power_no_charge_t2.endclass.prob', 'rep0_range_49.power_no_charge_t2.endclass.expected_cost', 'rep0_range_49.power_no_charge_t2.endclass.in_bound', 'rep0_range_49.power_no_charge_t2.endclass.at_finish', 'rep0_range_49.power_no_charge_t2.endclass.line_dist', 'rep0_range_49.power_no_charge_t2.endclass.num_modes', 'rep0_range_49.power_no_charge_t2.endclass.end_dist', 'rep0_range_49.power_no_charge_t2.endclass.tot_deviation', 'rep0_range_49.power_no_charge_t2.endclass.faults', 'rep0_range_49.power_no_charge_t2.endclass.classification', 'rep0_range_49.power_no_charge_t2.endclass.end_x', 'rep0_range_49.power_no_charge_t2.endclass.end_y', 'rep0_range_49.power_no_charge_t2.endclass.endpt', 'rep0_range_49.power_short_t1.endclass.rate', 'rep0_range_49.power_short_t1.endclass.cost', 'rep0_range_49.power_short_t1.endclass.prob', 'rep0_range_49.power_short_t1.endclass.expected_cost', 'rep0_range_49.power_short_t1.endclass.in_bound', 'rep0_range_49.power_short_t1.endclass.at_finish', 'rep0_range_49.power_short_t1.endclass.line_dist', 'rep0_range_49.power_short_t1.endclass.num_modes', 'rep0_range_49.power_short_t1.endclass.end_dist', 'rep0_range_49.power_short_t1.endclass.tot_deviation', 'rep0_range_49.power_short_t1.endclass.faults', 'rep0_range_49.power_short_t1.endclass.classification', 'rep0_range_49.power_short_t1.endclass.end_x', 'rep0_range_49.power_short_t1.endclass.end_y', 'rep0_range_49.power_short_t1.endclass.endpt', 'rep0_range_49.power_short_t2.endclass.rate', 'rep0_range_49.power_short_t2.endclass.cost', 'rep0_range_49.power_short_t2.endclass.prob', 'rep0_range_49.power_short_t2.endclass.expected_cost', 'rep0_range_49.power_short_t2.endclass.in_bound', 'rep0_range_49.power_short_t2.endclass.at_finish', 'rep0_range_49.power_short_t2.endclass.line_dist', 'rep0_range_49.power_short_t2.endclass.num_modes', 'rep0_range_49.power_short_t2.endclass.end_dist', 'rep0_range_49.power_short_t2.endclass.tot_deviation', 'rep0_range_49.power_short_t2.endclass.faults', 'rep0_range_49.power_short_t2.endclass.classification', 'rep0_range_49.power_short_t2.endclass.end_x', 'rep0_range_49.power_short_t2.endclass.end_y', 'rep0_range_49.power_short_t2.endclass.endpt', 'rep0_range_49.nominal.endclass.rate', 'rep0_range_49.nominal.endclass.cost', 'rep0_range_49.nominal.endclass.prob', 'rep0_range_49.nominal.endclass.expected_cost', 'rep0_range_49.nominal.endclass.in_bound', 'rep0_range_49.nominal.endclass.at_finish', 'rep0_range_49.nominal.endclass.line_dist', 'rep0_range_49.nominal.endclass.num_modes', 'rep0_range_49.nominal.endclass.end_dist', 'rep0_range_49.nominal.endclass.tot_deviation', 'rep0_range_49.nominal.endclass.faults', 'rep0_range_49.nominal.endclass.classification', 'rep0_range_49.nominal.endclass.end_x', 'rep0_range_49.nominal.endclass.end_y', 'rep0_range_49.nominal.endclass.endpt', 'rep0_range_50.power_no_charge_t1.endclass.rate', 'rep0_range_50.power_no_charge_t1.endclass.cost', 'rep0_range_50.power_no_charge_t1.endclass.prob', 'rep0_range_50.power_no_charge_t1.endclass.expected_cost', 'rep0_range_50.power_no_charge_t1.endclass.in_bound', 'rep0_range_50.power_no_charge_t1.endclass.at_finish', 'rep0_range_50.power_no_charge_t1.endclass.line_dist', 'rep0_range_50.power_no_charge_t1.endclass.num_modes', 'rep0_range_50.power_no_charge_t1.endclass.end_dist', 'rep0_range_50.power_no_charge_t1.endclass.tot_deviation', 'rep0_range_50.power_no_charge_t1.endclass.faults', 'rep0_range_50.power_no_charge_t1.endclass.classification', 'rep0_range_50.power_no_charge_t1.endclass.end_x', 'rep0_range_50.power_no_charge_t1.endclass.end_y', 'rep0_range_50.power_no_charge_t1.endclass.endpt', 'rep0_range_50.power_no_charge_t2.endclass.rate', 'rep0_range_50.power_no_charge_t2.endclass.cost', 'rep0_range_50.power_no_charge_t2.endclass.prob', 'rep0_range_50.power_no_charge_t2.endclass.expected_cost', 'rep0_range_50.power_no_charge_t2.endclass.in_bound', 'rep0_range_50.power_no_charge_t2.endclass.at_finish', 'rep0_range_50.power_no_charge_t2.endclass.line_dist', 'rep0_range_50.power_no_charge_t2.endclass.num_modes', 'rep0_range_50.power_no_charge_t2.endclass.end_dist', 'rep0_range_50.power_no_charge_t2.endclass.tot_deviation', 'rep0_range_50.power_no_charge_t2.endclass.faults', 'rep0_range_50.power_no_charge_t2.endclass.classification', 'rep0_range_50.power_no_charge_t2.endclass.end_x', 'rep0_range_50.power_no_charge_t2.endclass.end_y', 'rep0_range_50.power_no_charge_t2.endclass.endpt', 'rep0_range_50.power_short_t1.endclass.rate', 'rep0_range_50.power_short_t1.endclass.cost', 'rep0_range_50.power_short_t1.endclass.prob', 'rep0_range_50.power_short_t1.endclass.expected_cost', 'rep0_range_50.power_short_t1.endclass.in_bound', 'rep0_range_50.power_short_t1.endclass.at_finish', 'rep0_range_50.power_short_t1.endclass.line_dist', 'rep0_range_50.power_short_t1.endclass.num_modes', 'rep0_range_50.power_short_t1.endclass.end_dist', 'rep0_range_50.power_short_t1.endclass.tot_deviation', 'rep0_range_50.power_short_t1.endclass.faults', 'rep0_range_50.power_short_t1.endclass.classification', 'rep0_range_50.power_short_t1.endclass.end_x', 'rep0_range_50.power_short_t1.endclass.end_y', 'rep0_range_50.power_short_t1.endclass.endpt', 'rep0_range_50.power_short_t2.endclass.rate', 'rep0_range_50.power_short_t2.endclass.cost', 'rep0_range_50.power_short_t2.endclass.prob', 'rep0_range_50.power_short_t2.endclass.expected_cost', 'rep0_range_50.power_short_t2.endclass.in_bound', 'rep0_range_50.power_short_t2.endclass.at_finish', 'rep0_range_50.power_short_t2.endclass.line_dist', 'rep0_range_50.power_short_t2.endclass.num_modes', 'rep0_range_50.power_short_t2.endclass.end_dist', 'rep0_range_50.power_short_t2.endclass.tot_deviation', 'rep0_range_50.power_short_t2.endclass.faults', 'rep0_range_50.power_short_t2.endclass.classification', 'rep0_range_50.power_short_t2.endclass.end_x', 'rep0_range_50.power_short_t2.endclass.end_y', 'rep0_range_50.power_short_t2.endclass.endpt', 'rep0_range_50.nominal.endclass.rate', 'rep0_range_50.nominal.endclass.cost', 'rep0_range_50.nominal.endclass.prob', 'rep0_range_50.nominal.endclass.expected_cost', 'rep0_range_50.nominal.endclass.in_bound', 'rep0_range_50.nominal.endclass.at_finish', 'rep0_range_50.nominal.endclass.line_dist', 'rep0_range_50.nominal.endclass.num_modes', 'rep0_range_50.nominal.endclass.end_dist', 'rep0_range_50.nominal.endclass.tot_deviation', 'rep0_range_50.nominal.endclass.faults', 'rep0_range_50.nominal.endclass.classification', 'rep0_range_50.nominal.endclass.end_x', 'rep0_range_50.nominal.endclass.end_y', 'rep0_range_50.nominal.endclass.endpt', 'rep0_range_51.power_no_charge_t1.endclass.rate', 'rep0_range_51.power_no_charge_t1.endclass.cost', 'rep0_range_51.power_no_charge_t1.endclass.prob', 'rep0_range_51.power_no_charge_t1.endclass.expected_cost', 'rep0_range_51.power_no_charge_t1.endclass.in_bound', 'rep0_range_51.power_no_charge_t1.endclass.at_finish', 'rep0_range_51.power_no_charge_t1.endclass.line_dist', 'rep0_range_51.power_no_charge_t1.endclass.num_modes', 'rep0_range_51.power_no_charge_t1.endclass.end_dist', 'rep0_range_51.power_no_charge_t1.endclass.tot_deviation', 'rep0_range_51.power_no_charge_t1.endclass.faults', 'rep0_range_51.power_no_charge_t1.endclass.classification', 'rep0_range_51.power_no_charge_t1.endclass.end_x', 'rep0_range_51.power_no_charge_t1.endclass.end_y', 'rep0_range_51.power_no_charge_t1.endclass.endpt', 'rep0_range_51.power_no_charge_t2.endclass.rate', 'rep0_range_51.power_no_charge_t2.endclass.cost', 'rep0_range_51.power_no_charge_t2.endclass.prob', 'rep0_range_51.power_no_charge_t2.endclass.expected_cost', 'rep0_range_51.power_no_charge_t2.endclass.in_bound', 'rep0_range_51.power_no_charge_t2.endclass.at_finish', 'rep0_range_51.power_no_charge_t2.endclass.line_dist', 'rep0_range_51.power_no_charge_t2.endclass.num_modes', 'rep0_range_51.power_no_charge_t2.endclass.end_dist', 'rep0_range_51.power_no_charge_t2.endclass.tot_deviation', 'rep0_range_51.power_no_charge_t2.endclass.faults', 'rep0_range_51.power_no_charge_t2.endclass.classification', 'rep0_range_51.power_no_charge_t2.endclass.end_x', 'rep0_range_51.power_no_charge_t2.endclass.end_y', 'rep0_range_51.power_no_charge_t2.endclass.endpt', 'rep0_range_51.power_short_t1.endclass.rate', 'rep0_range_51.power_short_t1.endclass.cost', 'rep0_range_51.power_short_t1.endclass.prob', 'rep0_range_51.power_short_t1.endclass.expected_cost', 'rep0_range_51.power_short_t1.endclass.in_bound', 'rep0_range_51.power_short_t1.endclass.at_finish', 'rep0_range_51.power_short_t1.endclass.line_dist', 'rep0_range_51.power_short_t1.endclass.num_modes', 'rep0_range_51.power_short_t1.endclass.end_dist', 'rep0_range_51.power_short_t1.endclass.tot_deviation', 'rep0_range_51.power_short_t1.endclass.faults', 'rep0_range_51.power_short_t1.endclass.classification', 'rep0_range_51.power_short_t1.endclass.end_x', 'rep0_range_51.power_short_t1.endclass.end_y', 'rep0_range_51.power_short_t1.endclass.endpt', 'rep0_range_51.power_short_t2.endclass.rate', 'rep0_range_51.power_short_t2.endclass.cost', 'rep0_range_51.power_short_t2.endclass.prob', 'rep0_range_51.power_short_t2.endclass.expected_cost', 'rep0_range_51.power_short_t2.endclass.in_bound', 'rep0_range_51.power_short_t2.endclass.at_finish', 'rep0_range_51.power_short_t2.endclass.line_dist', 'rep0_range_51.power_short_t2.endclass.num_modes', 'rep0_range_51.power_short_t2.endclass.end_dist', 'rep0_range_51.power_short_t2.endclass.tot_deviation', 'rep0_range_51.power_short_t2.endclass.faults', 'rep0_range_51.power_short_t2.endclass.classification', 'rep0_range_51.power_short_t2.endclass.end_x', 'rep0_range_51.power_short_t2.endclass.end_y', 'rep0_range_51.power_short_t2.endclass.endpt', 'rep0_range_51.nominal.endclass.rate', 'rep0_range_51.nominal.endclass.cost', 'rep0_range_51.nominal.endclass.prob', 'rep0_range_51.nominal.endclass.expected_cost', 'rep0_range_51.nominal.endclass.in_bound', 'rep0_range_51.nominal.endclass.at_finish', 'rep0_range_51.nominal.endclass.line_dist', 'rep0_range_51.nominal.endclass.num_modes', 'rep0_range_51.nominal.endclass.end_dist', 'rep0_range_51.nominal.endclass.tot_deviation', 'rep0_range_51.nominal.endclass.faults', 'rep0_range_51.nominal.endclass.classification', 'rep0_range_51.nominal.endclass.end_x', 'rep0_range_51.nominal.endclass.end_y', 'rep0_range_51.nominal.endclass.endpt', 'rep0_range_52.power_no_charge_t1.endclass.rate', 'rep0_range_52.power_no_charge_t1.endclass.cost', 'rep0_range_52.power_no_charge_t1.endclass.prob', 'rep0_range_52.power_no_charge_t1.endclass.expected_cost', 'rep0_range_52.power_no_charge_t1.endclass.in_bound', 'rep0_range_52.power_no_charge_t1.endclass.at_finish', 'rep0_range_52.power_no_charge_t1.endclass.line_dist', 'rep0_range_52.power_no_charge_t1.endclass.num_modes', 'rep0_range_52.power_no_charge_t1.endclass.end_dist', 'rep0_range_52.power_no_charge_t1.endclass.tot_deviation', 'rep0_range_52.power_no_charge_t1.endclass.faults', 'rep0_range_52.power_no_charge_t1.endclass.classification', 'rep0_range_52.power_no_charge_t1.endclass.end_x', 'rep0_range_52.power_no_charge_t1.endclass.end_y', 'rep0_range_52.power_no_charge_t1.endclass.endpt', 'rep0_range_52.power_no_charge_t2.endclass.rate', 'rep0_range_52.power_no_charge_t2.endclass.cost', 'rep0_range_52.power_no_charge_t2.endclass.prob', 'rep0_range_52.power_no_charge_t2.endclass.expected_cost', 'rep0_range_52.power_no_charge_t2.endclass.in_bound', 'rep0_range_52.power_no_charge_t2.endclass.at_finish', 'rep0_range_52.power_no_charge_t2.endclass.line_dist', 'rep0_range_52.power_no_charge_t2.endclass.num_modes', 'rep0_range_52.power_no_charge_t2.endclass.end_dist', 'rep0_range_52.power_no_charge_t2.endclass.tot_deviation', 'rep0_range_52.power_no_charge_t2.endclass.faults', 'rep0_range_52.power_no_charge_t2.endclass.classification', 'rep0_range_52.power_no_charge_t2.endclass.end_x', 'rep0_range_52.power_no_charge_t2.endclass.end_y', 'rep0_range_52.power_no_charge_t2.endclass.endpt', 'rep0_range_52.power_short_t1.endclass.rate', 'rep0_range_52.power_short_t1.endclass.cost', 'rep0_range_52.power_short_t1.endclass.prob', 'rep0_range_52.power_short_t1.endclass.expected_cost', 'rep0_range_52.power_short_t1.endclass.in_bound', 'rep0_range_52.power_short_t1.endclass.at_finish', 'rep0_range_52.power_short_t1.endclass.line_dist', 'rep0_range_52.power_short_t1.endclass.num_modes', 'rep0_range_52.power_short_t1.endclass.end_dist', 'rep0_range_52.power_short_t1.endclass.tot_deviation', 'rep0_range_52.power_short_t1.endclass.faults', 'rep0_range_52.power_short_t1.endclass.classification', 'rep0_range_52.power_short_t1.endclass.end_x', 'rep0_range_52.power_short_t1.endclass.end_y', 'rep0_range_52.power_short_t1.endclass.endpt', 'rep0_range_52.power_short_t2.endclass.rate', 'rep0_range_52.power_short_t2.endclass.cost', 'rep0_range_52.power_short_t2.endclass.prob', 'rep0_range_52.power_short_t2.endclass.expected_cost', 'rep0_range_52.power_short_t2.endclass.in_bound', 'rep0_range_52.power_short_t2.endclass.at_finish', 'rep0_range_52.power_short_t2.endclass.line_dist', 'rep0_range_52.power_short_t2.endclass.num_modes', 'rep0_range_52.power_short_t2.endclass.end_dist', 'rep0_range_52.power_short_t2.endclass.tot_deviation', 'rep0_range_52.power_short_t2.endclass.faults', 'rep0_range_52.power_short_t2.endclass.classification', 'rep0_range_52.power_short_t2.endclass.end_x', 'rep0_range_52.power_short_t2.endclass.end_y', 'rep0_range_52.power_short_t2.endclass.endpt', 'rep0_range_52.nominal.endclass.rate', 'rep0_range_52.nominal.endclass.cost', 'rep0_range_52.nominal.endclass.prob', 'rep0_range_52.nominal.endclass.expected_cost', 'rep0_range_52.nominal.endclass.in_bound', 'rep0_range_52.nominal.endclass.at_finish', 'rep0_range_52.nominal.endclass.line_dist', 'rep0_range_52.nominal.endclass.num_modes', 'rep0_range_52.nominal.endclass.end_dist', 'rep0_range_52.nominal.endclass.tot_deviation', 'rep0_range_52.nominal.endclass.faults', 'rep0_range_52.nominal.endclass.classification', 'rep0_range_52.nominal.endclass.end_x', 'rep0_range_52.nominal.endclass.end_y', 'rep0_range_52.nominal.endclass.endpt', 'rep0_range_53.power_no_charge_t1.endclass.rate', 'rep0_range_53.power_no_charge_t1.endclass.cost', 'rep0_range_53.power_no_charge_t1.endclass.prob', 'rep0_range_53.power_no_charge_t1.endclass.expected_cost', 'rep0_range_53.power_no_charge_t1.endclass.in_bound', 'rep0_range_53.power_no_charge_t1.endclass.at_finish', 'rep0_range_53.power_no_charge_t1.endclass.line_dist', 'rep0_range_53.power_no_charge_t1.endclass.num_modes', 'rep0_range_53.power_no_charge_t1.endclass.end_dist', 'rep0_range_53.power_no_charge_t1.endclass.tot_deviation', 'rep0_range_53.power_no_charge_t1.endclass.faults', 'rep0_range_53.power_no_charge_t1.endclass.classification', 'rep0_range_53.power_no_charge_t1.endclass.end_x', 'rep0_range_53.power_no_charge_t1.endclass.end_y', 'rep0_range_53.power_no_charge_t1.endclass.endpt', 'rep0_range_53.power_no_charge_t2.endclass.rate', 'rep0_range_53.power_no_charge_t2.endclass.cost', 'rep0_range_53.power_no_charge_t2.endclass.prob', 'rep0_range_53.power_no_charge_t2.endclass.expected_cost', 'rep0_range_53.power_no_charge_t2.endclass.in_bound', 'rep0_range_53.power_no_charge_t2.endclass.at_finish', 'rep0_range_53.power_no_charge_t2.endclass.line_dist', 'rep0_range_53.power_no_charge_t2.endclass.num_modes', 'rep0_range_53.power_no_charge_t2.endclass.end_dist', 'rep0_range_53.power_no_charge_t2.endclass.tot_deviation', 'rep0_range_53.power_no_charge_t2.endclass.faults', 'rep0_range_53.power_no_charge_t2.endclass.classification', 'rep0_range_53.power_no_charge_t2.endclass.end_x', 'rep0_range_53.power_no_charge_t2.endclass.end_y', 'rep0_range_53.power_no_charge_t2.endclass.endpt', 'rep0_range_53.power_short_t1.endclass.rate', 'rep0_range_53.power_short_t1.endclass.cost', 'rep0_range_53.power_short_t1.endclass.prob', 'rep0_range_53.power_short_t1.endclass.expected_cost', 'rep0_range_53.power_short_t1.endclass.in_bound', 'rep0_range_53.power_short_t1.endclass.at_finish', 'rep0_range_53.power_short_t1.endclass.line_dist', 'rep0_range_53.power_short_t1.endclass.num_modes', 'rep0_range_53.power_short_t1.endclass.end_dist', 'rep0_range_53.power_short_t1.endclass.tot_deviation', 'rep0_range_53.power_short_t1.endclass.faults', 'rep0_range_53.power_short_t1.endclass.classification', 'rep0_range_53.power_short_t1.endclass.end_x', 'rep0_range_53.power_short_t1.endclass.end_y', 'rep0_range_53.power_short_t1.endclass.endpt', 'rep0_range_53.power_short_t2.endclass.rate', 'rep0_range_53.power_short_t2.endclass.cost', 'rep0_range_53.power_short_t2.endclass.prob', 'rep0_range_53.power_short_t2.endclass.expected_cost', 'rep0_range_53.power_short_t2.endclass.in_bound', 'rep0_range_53.power_short_t2.endclass.at_finish', 'rep0_range_53.power_short_t2.endclass.line_dist', 'rep0_range_53.power_short_t2.endclass.num_modes', 'rep0_range_53.power_short_t2.endclass.end_dist', 'rep0_range_53.power_short_t2.endclass.tot_deviation', 'rep0_range_53.power_short_t2.endclass.faults', 'rep0_range_53.power_short_t2.endclass.classification', 'rep0_range_53.power_short_t2.endclass.end_x', 'rep0_range_53.power_short_t2.endclass.end_y', 'rep0_range_53.power_short_t2.endclass.endpt', 'rep0_range_53.nominal.endclass.rate', 'rep0_range_53.nominal.endclass.cost', 'rep0_range_53.nominal.endclass.prob', 'rep0_range_53.nominal.endclass.expected_cost', 'rep0_range_53.nominal.endclass.in_bound', 'rep0_range_53.nominal.endclass.at_finish', 'rep0_range_53.nominal.endclass.line_dist', 'rep0_range_53.nominal.endclass.num_modes', 'rep0_range_53.nominal.endclass.end_dist', 'rep0_range_53.nominal.endclass.tot_deviation', 'rep0_range_53.nominal.endclass.faults', 'rep0_range_53.nominal.endclass.classification', 'rep0_range_53.nominal.endclass.end_x', 'rep0_range_53.nominal.endclass.end_y', 'rep0_range_53.nominal.endclass.endpt', 'rep0_range_54.power_no_charge_t1.endclass.rate', 'rep0_range_54.power_no_charge_t1.endclass.cost', 'rep0_range_54.power_no_charge_t1.endclass.prob', 'rep0_range_54.power_no_charge_t1.endclass.expected_cost', 'rep0_range_54.power_no_charge_t1.endclass.in_bound', 'rep0_range_54.power_no_charge_t1.endclass.at_finish', 'rep0_range_54.power_no_charge_t1.endclass.line_dist', 'rep0_range_54.power_no_charge_t1.endclass.num_modes', 'rep0_range_54.power_no_charge_t1.endclass.end_dist', 'rep0_range_54.power_no_charge_t1.endclass.tot_deviation', 'rep0_range_54.power_no_charge_t1.endclass.faults', 'rep0_range_54.power_no_charge_t1.endclass.classification', 'rep0_range_54.power_no_charge_t1.endclass.end_x', 'rep0_range_54.power_no_charge_t1.endclass.end_y', 'rep0_range_54.power_no_charge_t1.endclass.endpt', 'rep0_range_54.power_no_charge_t2.endclass.rate', 'rep0_range_54.power_no_charge_t2.endclass.cost', 'rep0_range_54.power_no_charge_t2.endclass.prob', 'rep0_range_54.power_no_charge_t2.endclass.expected_cost', 'rep0_range_54.power_no_charge_t2.endclass.in_bound', 'rep0_range_54.power_no_charge_t2.endclass.at_finish', 'rep0_range_54.power_no_charge_t2.endclass.line_dist', 'rep0_range_54.power_no_charge_t2.endclass.num_modes', 'rep0_range_54.power_no_charge_t2.endclass.end_dist', 'rep0_range_54.power_no_charge_t2.endclass.tot_deviation', 'rep0_range_54.power_no_charge_t2.endclass.faults', 'rep0_range_54.power_no_charge_t2.endclass.classification', 'rep0_range_54.power_no_charge_t2.endclass.end_x', 'rep0_range_54.power_no_charge_t2.endclass.end_y', 'rep0_range_54.power_no_charge_t2.endclass.endpt', 'rep0_range_54.power_short_t1.endclass.rate', 'rep0_range_54.power_short_t1.endclass.cost', 'rep0_range_54.power_short_t1.endclass.prob', 'rep0_range_54.power_short_t1.endclass.expected_cost', 'rep0_range_54.power_short_t1.endclass.in_bound', 'rep0_range_54.power_short_t1.endclass.at_finish', 'rep0_range_54.power_short_t1.endclass.line_dist', 'rep0_range_54.power_short_t1.endclass.num_modes', 'rep0_range_54.power_short_t1.endclass.end_dist', 'rep0_range_54.power_short_t1.endclass.tot_deviation', 'rep0_range_54.power_short_t1.endclass.faults', 'rep0_range_54.power_short_t1.endclass.classification', 'rep0_range_54.power_short_t1.endclass.end_x', 'rep0_range_54.power_short_t1.endclass.end_y', 'rep0_range_54.power_short_t1.endclass.endpt', 'rep0_range_54.power_short_t2.endclass.rate', 'rep0_range_54.power_short_t2.endclass.cost', 'rep0_range_54.power_short_t2.endclass.prob', 'rep0_range_54.power_short_t2.endclass.expected_cost', 'rep0_range_54.power_short_t2.endclass.in_bound', 'rep0_range_54.power_short_t2.endclass.at_finish', 'rep0_range_54.power_short_t2.endclass.line_dist', 'rep0_range_54.power_short_t2.endclass.num_modes', 'rep0_range_54.power_short_t2.endclass.end_dist', 'rep0_range_54.power_short_t2.endclass.tot_deviation', 'rep0_range_54.power_short_t2.endclass.faults', 'rep0_range_54.power_short_t2.endclass.classification', 'rep0_range_54.power_short_t2.endclass.end_x', 'rep0_range_54.power_short_t2.endclass.end_y', 'rep0_range_54.power_short_t2.endclass.endpt', 'rep0_range_54.nominal.endclass.rate', 'rep0_range_54.nominal.endclass.cost', 'rep0_range_54.nominal.endclass.prob', 'rep0_range_54.nominal.endclass.expected_cost', 'rep0_range_54.nominal.endclass.in_bound', 'rep0_range_54.nominal.endclass.at_finish', 'rep0_range_54.nominal.endclass.line_dist', 'rep0_range_54.nominal.endclass.num_modes', 'rep0_range_54.nominal.endclass.end_dist', 'rep0_range_54.nominal.endclass.tot_deviation', 'rep0_range_54.nominal.endclass.faults', 'rep0_range_54.nominal.endclass.classification', 'rep0_range_54.nominal.endclass.end_x', 'rep0_range_54.nominal.endclass.end_y', 'rep0_range_54.nominal.endclass.endpt', 'rep0_range_55.power_no_charge_t1.endclass.rate', 'rep0_range_55.power_no_charge_t1.endclass.cost', 'rep0_range_55.power_no_charge_t1.endclass.prob', 'rep0_range_55.power_no_charge_t1.endclass.expected_cost', 'rep0_range_55.power_no_charge_t1.endclass.in_bound', 'rep0_range_55.power_no_charge_t1.endclass.at_finish', 'rep0_range_55.power_no_charge_t1.endclass.line_dist', 'rep0_range_55.power_no_charge_t1.endclass.num_modes', 'rep0_range_55.power_no_charge_t1.endclass.end_dist', 'rep0_range_55.power_no_charge_t1.endclass.tot_deviation', 'rep0_range_55.power_no_charge_t1.endclass.faults', 'rep0_range_55.power_no_charge_t1.endclass.classification', 'rep0_range_55.power_no_charge_t1.endclass.end_x', 'rep0_range_55.power_no_charge_t1.endclass.end_y', 'rep0_range_55.power_no_charge_t1.endclass.endpt', 'rep0_range_55.power_no_charge_t2.endclass.rate', 'rep0_range_55.power_no_charge_t2.endclass.cost', 'rep0_range_55.power_no_charge_t2.endclass.prob', 'rep0_range_55.power_no_charge_t2.endclass.expected_cost', 'rep0_range_55.power_no_charge_t2.endclass.in_bound', 'rep0_range_55.power_no_charge_t2.endclass.at_finish', 'rep0_range_55.power_no_charge_t2.endclass.line_dist', 'rep0_range_55.power_no_charge_t2.endclass.num_modes', 'rep0_range_55.power_no_charge_t2.endclass.end_dist', 'rep0_range_55.power_no_charge_t2.endclass.tot_deviation', 'rep0_range_55.power_no_charge_t2.endclass.faults', 'rep0_range_55.power_no_charge_t2.endclass.classification', 'rep0_range_55.power_no_charge_t2.endclass.end_x', 'rep0_range_55.power_no_charge_t2.endclass.end_y', 'rep0_range_55.power_no_charge_t2.endclass.endpt', 'rep0_range_55.power_short_t1.endclass.rate', 'rep0_range_55.power_short_t1.endclass.cost', 'rep0_range_55.power_short_t1.endclass.prob', 'rep0_range_55.power_short_t1.endclass.expected_cost', 'rep0_range_55.power_short_t1.endclass.in_bound', 'rep0_range_55.power_short_t1.endclass.at_finish', 'rep0_range_55.power_short_t1.endclass.line_dist', 'rep0_range_55.power_short_t1.endclass.num_modes', 'rep0_range_55.power_short_t1.endclass.end_dist', 'rep0_range_55.power_short_t1.endclass.tot_deviation', 'rep0_range_55.power_short_t1.endclass.faults', 'rep0_range_55.power_short_t1.endclass.classification', 'rep0_range_55.power_short_t1.endclass.end_x', 'rep0_range_55.power_short_t1.endclass.end_y', 'rep0_range_55.power_short_t1.endclass.endpt', 'rep0_range_55.power_short_t2.endclass.rate', 'rep0_range_55.power_short_t2.endclass.cost', 'rep0_range_55.power_short_t2.endclass.prob', 'rep0_range_55.power_short_t2.endclass.expected_cost', 'rep0_range_55.power_short_t2.endclass.in_bound', 'rep0_range_55.power_short_t2.endclass.at_finish', 'rep0_range_55.power_short_t2.endclass.line_dist', 'rep0_range_55.power_short_t2.endclass.num_modes', 'rep0_range_55.power_short_t2.endclass.end_dist', 'rep0_range_55.power_short_t2.endclass.tot_deviation', 'rep0_range_55.power_short_t2.endclass.faults', 'rep0_range_55.power_short_t2.endclass.classification', 'rep0_range_55.power_short_t2.endclass.end_x', 'rep0_range_55.power_short_t2.endclass.end_y', 'rep0_range_55.power_short_t2.endclass.endpt', 'rep0_range_55.nominal.endclass.rate', 'rep0_range_55.nominal.endclass.cost', 'rep0_range_55.nominal.endclass.prob', 'rep0_range_55.nominal.endclass.expected_cost', 'rep0_range_55.nominal.endclass.in_bound', 'rep0_range_55.nominal.endclass.at_finish', 'rep0_range_55.nominal.endclass.line_dist', 'rep0_range_55.nominal.endclass.num_modes', 'rep0_range_55.nominal.endclass.end_dist', 'rep0_range_55.nominal.endclass.tot_deviation', 'rep0_range_55.nominal.endclass.faults', 'rep0_range_55.nominal.endclass.classification', 'rep0_range_55.nominal.endclass.end_x', 'rep0_range_55.nominal.endclass.end_y', 'rep0_range_55.nominal.endclass.endpt', 'rep0_range_56.power_no_charge_t1.endclass.rate', 'rep0_range_56.power_no_charge_t1.endclass.cost', 'rep0_range_56.power_no_charge_t1.endclass.prob', 'rep0_range_56.power_no_charge_t1.endclass.expected_cost', 'rep0_range_56.power_no_charge_t1.endclass.in_bound', 'rep0_range_56.power_no_charge_t1.endclass.at_finish', 'rep0_range_56.power_no_charge_t1.endclass.line_dist', 'rep0_range_56.power_no_charge_t1.endclass.num_modes', 'rep0_range_56.power_no_charge_t1.endclass.end_dist', 'rep0_range_56.power_no_charge_t1.endclass.tot_deviation', 'rep0_range_56.power_no_charge_t1.endclass.faults', 'rep0_range_56.power_no_charge_t1.endclass.classification', 'rep0_range_56.power_no_charge_t1.endclass.end_x', 'rep0_range_56.power_no_charge_t1.endclass.end_y', 'rep0_range_56.power_no_charge_t1.endclass.endpt', 'rep0_range_56.power_no_charge_t2.endclass.rate', 'rep0_range_56.power_no_charge_t2.endclass.cost', 'rep0_range_56.power_no_charge_t2.endclass.prob', 'rep0_range_56.power_no_charge_t2.endclass.expected_cost', 'rep0_range_56.power_no_charge_t2.endclass.in_bound', 'rep0_range_56.power_no_charge_t2.endclass.at_finish', 'rep0_range_56.power_no_charge_t2.endclass.line_dist', 'rep0_range_56.power_no_charge_t2.endclass.num_modes', 'rep0_range_56.power_no_charge_t2.endclass.end_dist', 'rep0_range_56.power_no_charge_t2.endclass.tot_deviation', 'rep0_range_56.power_no_charge_t2.endclass.faults', 'rep0_range_56.power_no_charge_t2.endclass.classification', 'rep0_range_56.power_no_charge_t2.endclass.end_x', 'rep0_range_56.power_no_charge_t2.endclass.end_y', 'rep0_range_56.power_no_charge_t2.endclass.endpt', 'rep0_range_56.power_short_t1.endclass.rate', 'rep0_range_56.power_short_t1.endclass.cost', 'rep0_range_56.power_short_t1.endclass.prob', 'rep0_range_56.power_short_t1.endclass.expected_cost', 'rep0_range_56.power_short_t1.endclass.in_bound', 'rep0_range_56.power_short_t1.endclass.at_finish', 'rep0_range_56.power_short_t1.endclass.line_dist', 'rep0_range_56.power_short_t1.endclass.num_modes', 'rep0_range_56.power_short_t1.endclass.end_dist', 'rep0_range_56.power_short_t1.endclass.tot_deviation', 'rep0_range_56.power_short_t1.endclass.faults', 'rep0_range_56.power_short_t1.endclass.classification', 'rep0_range_56.power_short_t1.endclass.end_x', 'rep0_range_56.power_short_t1.endclass.end_y', 'rep0_range_56.power_short_t1.endclass.endpt', 'rep0_range_56.power_short_t2.endclass.rate', 'rep0_range_56.power_short_t2.endclass.cost', 'rep0_range_56.power_short_t2.endclass.prob', 'rep0_range_56.power_short_t2.endclass.expected_cost', 'rep0_range_56.power_short_t2.endclass.in_bound', 'rep0_range_56.power_short_t2.endclass.at_finish', 'rep0_range_56.power_short_t2.endclass.line_dist', 'rep0_range_56.power_short_t2.endclass.num_modes', 'rep0_range_56.power_short_t2.endclass.end_dist', 'rep0_range_56.power_short_t2.endclass.tot_deviation', 'rep0_range_56.power_short_t2.endclass.faults', 'rep0_range_56.power_short_t2.endclass.classification', 'rep0_range_56.power_short_t2.endclass.end_x', 'rep0_range_56.power_short_t2.endclass.end_y', 'rep0_range_56.power_short_t2.endclass.endpt', 'rep0_range_56.nominal.endclass.rate', 'rep0_range_56.nominal.endclass.cost', 'rep0_range_56.nominal.endclass.prob', 'rep0_range_56.nominal.endclass.expected_cost', 'rep0_range_56.nominal.endclass.in_bound', 'rep0_range_56.nominal.endclass.at_finish', 'rep0_range_56.nominal.endclass.line_dist', 'rep0_range_56.nominal.endclass.num_modes', 'rep0_range_56.nominal.endclass.end_dist', 'rep0_range_56.nominal.endclass.tot_deviation', 'rep0_range_56.nominal.endclass.faults', 'rep0_range_56.nominal.endclass.classification', 'rep0_range_56.nominal.endclass.end_x', 'rep0_range_56.nominal.endclass.end_y', 'rep0_range_56.nominal.endclass.endpt', 'rep0_range_57.power_no_charge_t1.endclass.rate', 'rep0_range_57.power_no_charge_t1.endclass.cost', 'rep0_range_57.power_no_charge_t1.endclass.prob', 'rep0_range_57.power_no_charge_t1.endclass.expected_cost', 'rep0_range_57.power_no_charge_t1.endclass.in_bound', 'rep0_range_57.power_no_charge_t1.endclass.at_finish', 'rep0_range_57.power_no_charge_t1.endclass.line_dist', 'rep0_range_57.power_no_charge_t1.endclass.num_modes', 'rep0_range_57.power_no_charge_t1.endclass.end_dist', 'rep0_range_57.power_no_charge_t1.endclass.tot_deviation', 'rep0_range_57.power_no_charge_t1.endclass.faults', 'rep0_range_57.power_no_charge_t1.endclass.classification', 'rep0_range_57.power_no_charge_t1.endclass.end_x', 'rep0_range_57.power_no_charge_t1.endclass.end_y', 'rep0_range_57.power_no_charge_t1.endclass.endpt', 'rep0_range_57.power_no_charge_t2.endclass.rate', 'rep0_range_57.power_no_charge_t2.endclass.cost', 'rep0_range_57.power_no_charge_t2.endclass.prob', 'rep0_range_57.power_no_charge_t2.endclass.expected_cost', 'rep0_range_57.power_no_charge_t2.endclass.in_bound', 'rep0_range_57.power_no_charge_t2.endclass.at_finish', 'rep0_range_57.power_no_charge_t2.endclass.line_dist', 'rep0_range_57.power_no_charge_t2.endclass.num_modes', 'rep0_range_57.power_no_charge_t2.endclass.end_dist', 'rep0_range_57.power_no_charge_t2.endclass.tot_deviation', 'rep0_range_57.power_no_charge_t2.endclass.faults', 'rep0_range_57.power_no_charge_t2.endclass.classification', 'rep0_range_57.power_no_charge_t2.endclass.end_x', 'rep0_range_57.power_no_charge_t2.endclass.end_y', 'rep0_range_57.power_no_charge_t2.endclass.endpt', 'rep0_range_57.power_short_t1.endclass.rate', 'rep0_range_57.power_short_t1.endclass.cost', 'rep0_range_57.power_short_t1.endclass.prob', 'rep0_range_57.power_short_t1.endclass.expected_cost', 'rep0_range_57.power_short_t1.endclass.in_bound', 'rep0_range_57.power_short_t1.endclass.at_finish', 'rep0_range_57.power_short_t1.endclass.line_dist', 'rep0_range_57.power_short_t1.endclass.num_modes', 'rep0_range_57.power_short_t1.endclass.end_dist', 'rep0_range_57.power_short_t1.endclass.tot_deviation', 'rep0_range_57.power_short_t1.endclass.faults', 'rep0_range_57.power_short_t1.endclass.classification', 'rep0_range_57.power_short_t1.endclass.end_x', 'rep0_range_57.power_short_t1.endclass.end_y', 'rep0_range_57.power_short_t1.endclass.endpt', 'rep0_range_57.power_short_t2.endclass.rate', 'rep0_range_57.power_short_t2.endclass.cost', 'rep0_range_57.power_short_t2.endclass.prob', 'rep0_range_57.power_short_t2.endclass.expected_cost', 'rep0_range_57.power_short_t2.endclass.in_bound', 'rep0_range_57.power_short_t2.endclass.at_finish', 'rep0_range_57.power_short_t2.endclass.line_dist', 'rep0_range_57.power_short_t2.endclass.num_modes', 'rep0_range_57.power_short_t2.endclass.end_dist', 'rep0_range_57.power_short_t2.endclass.tot_deviation', 'rep0_range_57.power_short_t2.endclass.faults', 'rep0_range_57.power_short_t2.endclass.classification', 'rep0_range_57.power_short_t2.endclass.end_x', 'rep0_range_57.power_short_t2.endclass.end_y', 'rep0_range_57.power_short_t2.endclass.endpt', 'rep0_range_57.nominal.endclass.rate', 'rep0_range_57.nominal.endclass.cost', 'rep0_range_57.nominal.endclass.prob', 'rep0_range_57.nominal.endclass.expected_cost', 'rep0_range_57.nominal.endclass.in_bound', 'rep0_range_57.nominal.endclass.at_finish', 'rep0_range_57.nominal.endclass.line_dist', 'rep0_range_57.nominal.endclass.num_modes', 'rep0_range_57.nominal.endclass.end_dist', 'rep0_range_57.nominal.endclass.tot_deviation', 'rep0_range_57.nominal.endclass.faults', 'rep0_range_57.nominal.endclass.classification', 'rep0_range_57.nominal.endclass.end_x', 'rep0_range_57.nominal.endclass.end_y', 'rep0_range_57.nominal.endclass.endpt', 'rep0_range_58.power_no_charge_t1.endclass.rate', 'rep0_range_58.power_no_charge_t1.endclass.cost', 'rep0_range_58.power_no_charge_t1.endclass.prob', 'rep0_range_58.power_no_charge_t1.endclass.expected_cost', 'rep0_range_58.power_no_charge_t1.endclass.in_bound', 'rep0_range_58.power_no_charge_t1.endclass.at_finish', 'rep0_range_58.power_no_charge_t1.endclass.line_dist', 'rep0_range_58.power_no_charge_t1.endclass.num_modes', 'rep0_range_58.power_no_charge_t1.endclass.end_dist', 'rep0_range_58.power_no_charge_t1.endclass.tot_deviation', 'rep0_range_58.power_no_charge_t1.endclass.faults', 'rep0_range_58.power_no_charge_t1.endclass.classification', 'rep0_range_58.power_no_charge_t1.endclass.end_x', 'rep0_range_58.power_no_charge_t1.endclass.end_y', 'rep0_range_58.power_no_charge_t1.endclass.endpt', 'rep0_range_58.power_no_charge_t2.endclass.rate', 'rep0_range_58.power_no_charge_t2.endclass.cost', 'rep0_range_58.power_no_charge_t2.endclass.prob', 'rep0_range_58.power_no_charge_t2.endclass.expected_cost', 'rep0_range_58.power_no_charge_t2.endclass.in_bound', 'rep0_range_58.power_no_charge_t2.endclass.at_finish', 'rep0_range_58.power_no_charge_t2.endclass.line_dist', 'rep0_range_58.power_no_charge_t2.endclass.num_modes', 'rep0_range_58.power_no_charge_t2.endclass.end_dist', 'rep0_range_58.power_no_charge_t2.endclass.tot_deviation', 'rep0_range_58.power_no_charge_t2.endclass.faults', 'rep0_range_58.power_no_charge_t2.endclass.classification', 'rep0_range_58.power_no_charge_t2.endclass.end_x', 'rep0_range_58.power_no_charge_t2.endclass.end_y', 'rep0_range_58.power_no_charge_t2.endclass.endpt', 'rep0_range_58.power_short_t1.endclass.rate', 'rep0_range_58.power_short_t1.endclass.cost', 'rep0_range_58.power_short_t1.endclass.prob', 'rep0_range_58.power_short_t1.endclass.expected_cost', 'rep0_range_58.power_short_t1.endclass.in_bound', 'rep0_range_58.power_short_t1.endclass.at_finish', 'rep0_range_58.power_short_t1.endclass.line_dist', 'rep0_range_58.power_short_t1.endclass.num_modes', 'rep0_range_58.power_short_t1.endclass.end_dist', 'rep0_range_58.power_short_t1.endclass.tot_deviation', 'rep0_range_58.power_short_t1.endclass.faults', 'rep0_range_58.power_short_t1.endclass.classification', 'rep0_range_58.power_short_t1.endclass.end_x', 'rep0_range_58.power_short_t1.endclass.end_y', 'rep0_range_58.power_short_t1.endclass.endpt', 'rep0_range_58.power_short_t2.endclass.rate', 'rep0_range_58.power_short_t2.endclass.cost', 'rep0_range_58.power_short_t2.endclass.prob', 'rep0_range_58.power_short_t2.endclass.expected_cost', 'rep0_range_58.power_short_t2.endclass.in_bound', 'rep0_range_58.power_short_t2.endclass.at_finish', 'rep0_range_58.power_short_t2.endclass.line_dist', 'rep0_range_58.power_short_t2.endclass.num_modes', 'rep0_range_58.power_short_t2.endclass.end_dist', 'rep0_range_58.power_short_t2.endclass.tot_deviation', 'rep0_range_58.power_short_t2.endclass.faults', 'rep0_range_58.power_short_t2.endclass.classification', 'rep0_range_58.power_short_t2.endclass.end_x', 'rep0_range_58.power_short_t2.endclass.end_y', 'rep0_range_58.power_short_t2.endclass.endpt', 'rep0_range_58.nominal.endclass.rate', 'rep0_range_58.nominal.endclass.cost', 'rep0_range_58.nominal.endclass.prob', 'rep0_range_58.nominal.endclass.expected_cost', 'rep0_range_58.nominal.endclass.in_bound', 'rep0_range_58.nominal.endclass.at_finish', 'rep0_range_58.nominal.endclass.line_dist', 'rep0_range_58.nominal.endclass.num_modes', 'rep0_range_58.nominal.endclass.end_dist', 'rep0_range_58.nominal.endclass.tot_deviation', 'rep0_range_58.nominal.endclass.faults', 'rep0_range_58.nominal.endclass.classification', 'rep0_range_58.nominal.endclass.end_x', 'rep0_range_58.nominal.endclass.end_y', 'rep0_range_58.nominal.endclass.endpt', 'rep0_range_59.power_no_charge_t1.endclass.rate', 'rep0_range_59.power_no_charge_t1.endclass.cost', 'rep0_range_59.power_no_charge_t1.endclass.prob', 'rep0_range_59.power_no_charge_t1.endclass.expected_cost', 'rep0_range_59.power_no_charge_t1.endclass.in_bound', 'rep0_range_59.power_no_charge_t1.endclass.at_finish', 'rep0_range_59.power_no_charge_t1.endclass.line_dist', 'rep0_range_59.power_no_charge_t1.endclass.num_modes', 'rep0_range_59.power_no_charge_t1.endclass.end_dist', 'rep0_range_59.power_no_charge_t1.endclass.tot_deviation', 'rep0_range_59.power_no_charge_t1.endclass.faults', 'rep0_range_59.power_no_charge_t1.endclass.classification', 'rep0_range_59.power_no_charge_t1.endclass.end_x', 'rep0_range_59.power_no_charge_t1.endclass.end_y', 'rep0_range_59.power_no_charge_t1.endclass.endpt', 'rep0_range_59.power_no_charge_t2.endclass.rate', 'rep0_range_59.power_no_charge_t2.endclass.cost', 'rep0_range_59.power_no_charge_t2.endclass.prob', 'rep0_range_59.power_no_charge_t2.endclass.expected_cost', 'rep0_range_59.power_no_charge_t2.endclass.in_bound', 'rep0_range_59.power_no_charge_t2.endclass.at_finish', 'rep0_range_59.power_no_charge_t2.endclass.line_dist', 'rep0_range_59.power_no_charge_t2.endclass.num_modes', 'rep0_range_59.power_no_charge_t2.endclass.end_dist', 'rep0_range_59.power_no_charge_t2.endclass.tot_deviation', 'rep0_range_59.power_no_charge_t2.endclass.faults', 'rep0_range_59.power_no_charge_t2.endclass.classification', 'rep0_range_59.power_no_charge_t2.endclass.end_x', 'rep0_range_59.power_no_charge_t2.endclass.end_y', 'rep0_range_59.power_no_charge_t2.endclass.endpt', 'rep0_range_59.power_short_t1.endclass.rate', 'rep0_range_59.power_short_t1.endclass.cost', 'rep0_range_59.power_short_t1.endclass.prob', 'rep0_range_59.power_short_t1.endclass.expected_cost', 'rep0_range_59.power_short_t1.endclass.in_bound', 'rep0_range_59.power_short_t1.endclass.at_finish', 'rep0_range_59.power_short_t1.endclass.line_dist', 'rep0_range_59.power_short_t1.endclass.num_modes', 'rep0_range_59.power_short_t1.endclass.end_dist', 'rep0_range_59.power_short_t1.endclass.tot_deviation', 'rep0_range_59.power_short_t1.endclass.faults', 'rep0_range_59.power_short_t1.endclass.classification', 'rep0_range_59.power_short_t1.endclass.end_x', 'rep0_range_59.power_short_t1.endclass.end_y', 'rep0_range_59.power_short_t1.endclass.endpt', 'rep0_range_59.power_short_t2.endclass.rate', 'rep0_range_59.power_short_t2.endclass.cost', 'rep0_range_59.power_short_t2.endclass.prob', 'rep0_range_59.power_short_t2.endclass.expected_cost', 'rep0_range_59.power_short_t2.endclass.in_bound', 'rep0_range_59.power_short_t2.endclass.at_finish', 'rep0_range_59.power_short_t2.endclass.line_dist', 'rep0_range_59.power_short_t2.endclass.num_modes', 'rep0_range_59.power_short_t2.endclass.end_dist', 'rep0_range_59.power_short_t2.endclass.tot_deviation', 'rep0_range_59.power_short_t2.endclass.faults', 'rep0_range_59.power_short_t2.endclass.classification', 'rep0_range_59.power_short_t2.endclass.end_x', 'rep0_range_59.power_short_t2.endclass.end_y', 'rep0_range_59.power_short_t2.endclass.endpt', 'rep0_range_59.nominal.endclass.rate', 'rep0_range_59.nominal.endclass.cost', 'rep0_range_59.nominal.endclass.prob', 'rep0_range_59.nominal.endclass.expected_cost', 'rep0_range_59.nominal.endclass.in_bound', 'rep0_range_59.nominal.endclass.at_finish', 'rep0_range_59.nominal.endclass.line_dist', 'rep0_range_59.nominal.endclass.num_modes', 'rep0_range_59.nominal.endclass.end_dist', 'rep0_range_59.nominal.endclass.tot_deviation', 'rep0_range_59.nominal.endclass.faults', 'rep0_range_59.nominal.endclass.classification', 'rep0_range_59.nominal.endclass.end_x', 'rep0_range_59.nominal.endclass.end_y', 'rep0_range_59.nominal.endclass.endpt', 'rep0_range_60.power_no_charge_t1.endclass.rate', 'rep0_range_60.power_no_charge_t1.endclass.cost', 'rep0_range_60.power_no_charge_t1.endclass.prob', 'rep0_range_60.power_no_charge_t1.endclass.expected_cost', 'rep0_range_60.power_no_charge_t1.endclass.in_bound', 'rep0_range_60.power_no_charge_t1.endclass.at_finish', 'rep0_range_60.power_no_charge_t1.endclass.line_dist', 'rep0_range_60.power_no_charge_t1.endclass.num_modes', 'rep0_range_60.power_no_charge_t1.endclass.end_dist', 'rep0_range_60.power_no_charge_t1.endclass.tot_deviation', 'rep0_range_60.power_no_charge_t1.endclass.faults', 'rep0_range_60.power_no_charge_t1.endclass.classification', 'rep0_range_60.power_no_charge_t1.endclass.end_x', 'rep0_range_60.power_no_charge_t1.endclass.end_y', 'rep0_range_60.power_no_charge_t1.endclass.endpt', 'rep0_range_60.power_no_charge_t2.endclass.rate', 'rep0_range_60.power_no_charge_t2.endclass.cost', 'rep0_range_60.power_no_charge_t2.endclass.prob', 'rep0_range_60.power_no_charge_t2.endclass.expected_cost', 'rep0_range_60.power_no_charge_t2.endclass.in_bound', 'rep0_range_60.power_no_charge_t2.endclass.at_finish', 'rep0_range_60.power_no_charge_t2.endclass.line_dist', 'rep0_range_60.power_no_charge_t2.endclass.num_modes', 'rep0_range_60.power_no_charge_t2.endclass.end_dist', 'rep0_range_60.power_no_charge_t2.endclass.tot_deviation', 'rep0_range_60.power_no_charge_t2.endclass.faults', 'rep0_range_60.power_no_charge_t2.endclass.classification', 'rep0_range_60.power_no_charge_t2.endclass.end_x', 'rep0_range_60.power_no_charge_t2.endclass.end_y', 'rep0_range_60.power_no_charge_t2.endclass.endpt', 'rep0_range_60.power_short_t1.endclass.rate', 'rep0_range_60.power_short_t1.endclass.cost', 'rep0_range_60.power_short_t1.endclass.prob', 'rep0_range_60.power_short_t1.endclass.expected_cost', 'rep0_range_60.power_short_t1.endclass.in_bound', 'rep0_range_60.power_short_t1.endclass.at_finish', 'rep0_range_60.power_short_t1.endclass.line_dist', 'rep0_range_60.power_short_t1.endclass.num_modes', 'rep0_range_60.power_short_t1.endclass.end_dist', 'rep0_range_60.power_short_t1.endclass.tot_deviation', 'rep0_range_60.power_short_t1.endclass.faults', 'rep0_range_60.power_short_t1.endclass.classification', 'rep0_range_60.power_short_t1.endclass.end_x', 'rep0_range_60.power_short_t1.endclass.end_y', 'rep0_range_60.power_short_t1.endclass.endpt', 'rep0_range_60.power_short_t2.endclass.rate', 'rep0_range_60.power_short_t2.endclass.cost', 'rep0_range_60.power_short_t2.endclass.prob', 'rep0_range_60.power_short_t2.endclass.expected_cost', 'rep0_range_60.power_short_t2.endclass.in_bound', 'rep0_range_60.power_short_t2.endclass.at_finish', 'rep0_range_60.power_short_t2.endclass.line_dist', 'rep0_range_60.power_short_t2.endclass.num_modes', 'rep0_range_60.power_short_t2.endclass.end_dist', 'rep0_range_60.power_short_t2.endclass.tot_deviation', 'rep0_range_60.power_short_t2.endclass.faults', 'rep0_range_60.power_short_t2.endclass.classification', 'rep0_range_60.power_short_t2.endclass.end_x', 'rep0_range_60.power_short_t2.endclass.end_y', 'rep0_range_60.power_short_t2.endclass.endpt', 'rep0_range_60.nominal.endclass.rate', 'rep0_range_60.nominal.endclass.cost', 'rep0_range_60.nominal.endclass.prob', 'rep0_range_60.nominal.endclass.expected_cost', 'rep0_range_60.nominal.endclass.in_bound', 'rep0_range_60.nominal.endclass.at_finish', 'rep0_range_60.nominal.endclass.line_dist', 'rep0_range_60.nominal.endclass.num_modes', 'rep0_range_60.nominal.endclass.end_dist', 'rep0_range_60.nominal.endclass.tot_deviation', 'rep0_range_60.nominal.endclass.faults', 'rep0_range_60.nominal.endclass.classification', 'rep0_range_60.nominal.endclass.end_x', 'rep0_range_60.nominal.endclass.end_y', 'rep0_range_60.nominal.endclass.endpt', 'rep0_range_61.power_no_charge_t1.endclass.rate', 'rep0_range_61.power_no_charge_t1.endclass.cost', 'rep0_range_61.power_no_charge_t1.endclass.prob', 'rep0_range_61.power_no_charge_t1.endclass.expected_cost', 'rep0_range_61.power_no_charge_t1.endclass.in_bound', 'rep0_range_61.power_no_charge_t1.endclass.at_finish', 'rep0_range_61.power_no_charge_t1.endclass.line_dist', 'rep0_range_61.power_no_charge_t1.endclass.num_modes', 'rep0_range_61.power_no_charge_t1.endclass.end_dist', 'rep0_range_61.power_no_charge_t1.endclass.tot_deviation', 'rep0_range_61.power_no_charge_t1.endclass.faults', 'rep0_range_61.power_no_charge_t1.endclass.classification', 'rep0_range_61.power_no_charge_t1.endclass.end_x', 'rep0_range_61.power_no_charge_t1.endclass.end_y', 'rep0_range_61.power_no_charge_t1.endclass.endpt', 'rep0_range_61.power_no_charge_t2.endclass.rate', 'rep0_range_61.power_no_charge_t2.endclass.cost', 'rep0_range_61.power_no_charge_t2.endclass.prob', 'rep0_range_61.power_no_charge_t2.endclass.expected_cost', 'rep0_range_61.power_no_charge_t2.endclass.in_bound', 'rep0_range_61.power_no_charge_t2.endclass.at_finish', 'rep0_range_61.power_no_charge_t2.endclass.line_dist', 'rep0_range_61.power_no_charge_t2.endclass.num_modes', 'rep0_range_61.power_no_charge_t2.endclass.end_dist', 'rep0_range_61.power_no_charge_t2.endclass.tot_deviation', 'rep0_range_61.power_no_charge_t2.endclass.faults', 'rep0_range_61.power_no_charge_t2.endclass.classification', 'rep0_range_61.power_no_charge_t2.endclass.end_x', 'rep0_range_61.power_no_charge_t2.endclass.end_y', 'rep0_range_61.power_no_charge_t2.endclass.endpt', 'rep0_range_61.power_short_t1.endclass.rate', 'rep0_range_61.power_short_t1.endclass.cost', 'rep0_range_61.power_short_t1.endclass.prob', 'rep0_range_61.power_short_t1.endclass.expected_cost', 'rep0_range_61.power_short_t1.endclass.in_bound', 'rep0_range_61.power_short_t1.endclass.at_finish', 'rep0_range_61.power_short_t1.endclass.line_dist', 'rep0_range_61.power_short_t1.endclass.num_modes', 'rep0_range_61.power_short_t1.endclass.end_dist', 'rep0_range_61.power_short_t1.endclass.tot_deviation', 'rep0_range_61.power_short_t1.endclass.faults', 'rep0_range_61.power_short_t1.endclass.classification', 'rep0_range_61.power_short_t1.endclass.end_x', 'rep0_range_61.power_short_t1.endclass.end_y', 'rep0_range_61.power_short_t1.endclass.endpt', 'rep0_range_61.power_short_t2.endclass.rate', 'rep0_range_61.power_short_t2.endclass.cost', 'rep0_range_61.power_short_t2.endclass.prob', 'rep0_range_61.power_short_t2.endclass.expected_cost', 'rep0_range_61.power_short_t2.endclass.in_bound', 'rep0_range_61.power_short_t2.endclass.at_finish', 'rep0_range_61.power_short_t2.endclass.line_dist', 'rep0_range_61.power_short_t2.endclass.num_modes', 'rep0_range_61.power_short_t2.endclass.end_dist', 'rep0_range_61.power_short_t2.endclass.tot_deviation', 'rep0_range_61.power_short_t2.endclass.faults', 'rep0_range_61.power_short_t2.endclass.classification', 'rep0_range_61.power_short_t2.endclass.end_x', 'rep0_range_61.power_short_t2.endclass.end_y', 'rep0_range_61.power_short_t2.endclass.endpt', 'rep0_range_61.nominal.endclass.rate', 'rep0_range_61.nominal.endclass.cost', 'rep0_range_61.nominal.endclass.prob', 'rep0_range_61.nominal.endclass.expected_cost', 'rep0_range_61.nominal.endclass.in_bound', 'rep0_range_61.nominal.endclass.at_finish', 'rep0_range_61.nominal.endclass.line_dist', 'rep0_range_61.nominal.endclass.num_modes', 'rep0_range_61.nominal.endclass.end_dist', 'rep0_range_61.nominal.endclass.tot_deviation', 'rep0_range_61.nominal.endclass.faults', 'rep0_range_61.nominal.endclass.classification', 'rep0_range_61.nominal.endclass.end_x', 'rep0_range_61.nominal.endclass.end_y', 'rep0_range_61.nominal.endclass.endpt', 'rep0_range_62.power_no_charge_t1.endclass.rate', 'rep0_range_62.power_no_charge_t1.endclass.cost', 'rep0_range_62.power_no_charge_t1.endclass.prob', 'rep0_range_62.power_no_charge_t1.endclass.expected_cost', 'rep0_range_62.power_no_charge_t1.endclass.in_bound', 'rep0_range_62.power_no_charge_t1.endclass.at_finish', 'rep0_range_62.power_no_charge_t1.endclass.line_dist', 'rep0_range_62.power_no_charge_t1.endclass.num_modes', 'rep0_range_62.power_no_charge_t1.endclass.end_dist', 'rep0_range_62.power_no_charge_t1.endclass.tot_deviation', 'rep0_range_62.power_no_charge_t1.endclass.faults', 'rep0_range_62.power_no_charge_t1.endclass.classification', 'rep0_range_62.power_no_charge_t1.endclass.end_x', 'rep0_range_62.power_no_charge_t1.endclass.end_y', 'rep0_range_62.power_no_charge_t1.endclass.endpt', 'rep0_range_62.power_no_charge_t2.endclass.rate', 'rep0_range_62.power_no_charge_t2.endclass.cost', 'rep0_range_62.power_no_charge_t2.endclass.prob', 'rep0_range_62.power_no_charge_t2.endclass.expected_cost', 'rep0_range_62.power_no_charge_t2.endclass.in_bound', 'rep0_range_62.power_no_charge_t2.endclass.at_finish', 'rep0_range_62.power_no_charge_t2.endclass.line_dist', 'rep0_range_62.power_no_charge_t2.endclass.num_modes', 'rep0_range_62.power_no_charge_t2.endclass.end_dist', 'rep0_range_62.power_no_charge_t2.endclass.tot_deviation', 'rep0_range_62.power_no_charge_t2.endclass.faults', 'rep0_range_62.power_no_charge_t2.endclass.classification', 'rep0_range_62.power_no_charge_t2.endclass.end_x', 'rep0_range_62.power_no_charge_t2.endclass.end_y', 'rep0_range_62.power_no_charge_t2.endclass.endpt', 'rep0_range_62.power_short_t1.endclass.rate', 'rep0_range_62.power_short_t1.endclass.cost', 'rep0_range_62.power_short_t1.endclass.prob', 'rep0_range_62.power_short_t1.endclass.expected_cost', 'rep0_range_62.power_short_t1.endclass.in_bound', 'rep0_range_62.power_short_t1.endclass.at_finish', 'rep0_range_62.power_short_t1.endclass.line_dist', 'rep0_range_62.power_short_t1.endclass.num_modes', 'rep0_range_62.power_short_t1.endclass.end_dist', 'rep0_range_62.power_short_t1.endclass.tot_deviation', 'rep0_range_62.power_short_t1.endclass.faults', 'rep0_range_62.power_short_t1.endclass.classification', 'rep0_range_62.power_short_t1.endclass.end_x', 'rep0_range_62.power_short_t1.endclass.end_y', 'rep0_range_62.power_short_t1.endclass.endpt', 'rep0_range_62.power_short_t2.endclass.rate', 'rep0_range_62.power_short_t2.endclass.cost', 'rep0_range_62.power_short_t2.endclass.prob', 'rep0_range_62.power_short_t2.endclass.expected_cost', 'rep0_range_62.power_short_t2.endclass.in_bound', 'rep0_range_62.power_short_t2.endclass.at_finish', 'rep0_range_62.power_short_t2.endclass.line_dist', 'rep0_range_62.power_short_t2.endclass.num_modes', 'rep0_range_62.power_short_t2.endclass.end_dist', 'rep0_range_62.power_short_t2.endclass.tot_deviation', 'rep0_range_62.power_short_t2.endclass.faults', 'rep0_range_62.power_short_t2.endclass.classification', 'rep0_range_62.power_short_t2.endclass.end_x', 'rep0_range_62.power_short_t2.endclass.end_y', 'rep0_range_62.power_short_t2.endclass.endpt', 'rep0_range_62.nominal.endclass.rate', 'rep0_range_62.nominal.endclass.cost', 'rep0_range_62.nominal.endclass.prob', 'rep0_range_62.nominal.endclass.expected_cost', 'rep0_range_62.nominal.endclass.in_bound', 'rep0_range_62.nominal.endclass.at_finish', 'rep0_range_62.nominal.endclass.line_dist', 'rep0_range_62.nominal.endclass.num_modes', 'rep0_range_62.nominal.endclass.end_dist', 'rep0_range_62.nominal.endclass.tot_deviation', 'rep0_range_62.nominal.endclass.faults', 'rep0_range_62.nominal.endclass.classification', 'rep0_range_62.nominal.endclass.end_x', 'rep0_range_62.nominal.endclass.end_y', 'rep0_range_62.nominal.endclass.endpt', 'rep0_range_63.power_no_charge_t1.endclass.rate', 'rep0_range_63.power_no_charge_t1.endclass.cost', 'rep0_range_63.power_no_charge_t1.endclass.prob', 'rep0_range_63.power_no_charge_t1.endclass.expected_cost', 'rep0_range_63.power_no_charge_t1.endclass.in_bound', 'rep0_range_63.power_no_charge_t1.endclass.at_finish', 'rep0_range_63.power_no_charge_t1.endclass.line_dist', 'rep0_range_63.power_no_charge_t1.endclass.num_modes', 'rep0_range_63.power_no_charge_t1.endclass.end_dist', 'rep0_range_63.power_no_charge_t1.endclass.tot_deviation', 'rep0_range_63.power_no_charge_t1.endclass.faults', 'rep0_range_63.power_no_charge_t1.endclass.classification', 'rep0_range_63.power_no_charge_t1.endclass.end_x', 'rep0_range_63.power_no_charge_t1.endclass.end_y', 'rep0_range_63.power_no_charge_t1.endclass.endpt', 'rep0_range_63.power_no_charge_t2.endclass.rate', 'rep0_range_63.power_no_charge_t2.endclass.cost', 'rep0_range_63.power_no_charge_t2.endclass.prob', 'rep0_range_63.power_no_charge_t2.endclass.expected_cost', 'rep0_range_63.power_no_charge_t2.endclass.in_bound', 'rep0_range_63.power_no_charge_t2.endclass.at_finish', 'rep0_range_63.power_no_charge_t2.endclass.line_dist', 'rep0_range_63.power_no_charge_t2.endclass.num_modes', 'rep0_range_63.power_no_charge_t2.endclass.end_dist', 'rep0_range_63.power_no_charge_t2.endclass.tot_deviation', 'rep0_range_63.power_no_charge_t2.endclass.faults', 'rep0_range_63.power_no_charge_t2.endclass.classification', 'rep0_range_63.power_no_charge_t2.endclass.end_x', 'rep0_range_63.power_no_charge_t2.endclass.end_y', 'rep0_range_63.power_no_charge_t2.endclass.endpt', 'rep0_range_63.power_short_t1.endclass.rate', 'rep0_range_63.power_short_t1.endclass.cost', 'rep0_range_63.power_short_t1.endclass.prob', 'rep0_range_63.power_short_t1.endclass.expected_cost', 'rep0_range_63.power_short_t1.endclass.in_bound', 'rep0_range_63.power_short_t1.endclass.at_finish', 'rep0_range_63.power_short_t1.endclass.line_dist', 'rep0_range_63.power_short_t1.endclass.num_modes', 'rep0_range_63.power_short_t1.endclass.end_dist', 'rep0_range_63.power_short_t1.endclass.tot_deviation', 'rep0_range_63.power_short_t1.endclass.faults', 'rep0_range_63.power_short_t1.endclass.classification', 'rep0_range_63.power_short_t1.endclass.end_x', 'rep0_range_63.power_short_t1.endclass.end_y', 'rep0_range_63.power_short_t1.endclass.endpt', 'rep0_range_63.power_short_t2.endclass.rate', 'rep0_range_63.power_short_t2.endclass.cost', 'rep0_range_63.power_short_t2.endclass.prob', 'rep0_range_63.power_short_t2.endclass.expected_cost', 'rep0_range_63.power_short_t2.endclass.in_bound', 'rep0_range_63.power_short_t2.endclass.at_finish', 'rep0_range_63.power_short_t2.endclass.line_dist', 'rep0_range_63.power_short_t2.endclass.num_modes', 'rep0_range_63.power_short_t2.endclass.end_dist', 'rep0_range_63.power_short_t2.endclass.tot_deviation', 'rep0_range_63.power_short_t2.endclass.faults', 'rep0_range_63.power_short_t2.endclass.classification', 'rep0_range_63.power_short_t2.endclass.end_x', 'rep0_range_63.power_short_t2.endclass.end_y', 'rep0_range_63.power_short_t2.endclass.endpt', 'rep0_range_63.nominal.endclass.rate', 'rep0_range_63.nominal.endclass.cost', 'rep0_range_63.nominal.endclass.prob', 'rep0_range_63.nominal.endclass.expected_cost', 'rep0_range_63.nominal.endclass.in_bound', 'rep0_range_63.nominal.endclass.at_finish', 'rep0_range_63.nominal.endclass.line_dist', 'rep0_range_63.nominal.endclass.num_modes', 'rep0_range_63.nominal.endclass.end_dist', 'rep0_range_63.nominal.endclass.tot_deviation', 'rep0_range_63.nominal.endclass.faults', 'rep0_range_63.nominal.endclass.classification', 'rep0_range_63.nominal.endclass.end_x', 'rep0_range_63.nominal.endclass.end_y', 'rep0_range_63.nominal.endclass.endpt', 'rep0_range_64.power_no_charge_t1.endclass.rate', 'rep0_range_64.power_no_charge_t1.endclass.cost', 'rep0_range_64.power_no_charge_t1.endclass.prob', 'rep0_range_64.power_no_charge_t1.endclass.expected_cost', 'rep0_range_64.power_no_charge_t1.endclass.in_bound', 'rep0_range_64.power_no_charge_t1.endclass.at_finish', 'rep0_range_64.power_no_charge_t1.endclass.line_dist', 'rep0_range_64.power_no_charge_t1.endclass.num_modes', 'rep0_range_64.power_no_charge_t1.endclass.end_dist', 'rep0_range_64.power_no_charge_t1.endclass.tot_deviation', 'rep0_range_64.power_no_charge_t1.endclass.faults', 'rep0_range_64.power_no_charge_t1.endclass.classification', 'rep0_range_64.power_no_charge_t1.endclass.end_x', 'rep0_range_64.power_no_charge_t1.endclass.end_y', 'rep0_range_64.power_no_charge_t1.endclass.endpt', 'rep0_range_64.power_no_charge_t2.endclass.rate', 'rep0_range_64.power_no_charge_t2.endclass.cost', 'rep0_range_64.power_no_charge_t2.endclass.prob', 'rep0_range_64.power_no_charge_t2.endclass.expected_cost', 'rep0_range_64.power_no_charge_t2.endclass.in_bound', 'rep0_range_64.power_no_charge_t2.endclass.at_finish', 'rep0_range_64.power_no_charge_t2.endclass.line_dist', 'rep0_range_64.power_no_charge_t2.endclass.num_modes', 'rep0_range_64.power_no_charge_t2.endclass.end_dist', 'rep0_range_64.power_no_charge_t2.endclass.tot_deviation', 'rep0_range_64.power_no_charge_t2.endclass.faults', 'rep0_range_64.power_no_charge_t2.endclass.classification', 'rep0_range_64.power_no_charge_t2.endclass.end_x', 'rep0_range_64.power_no_charge_t2.endclass.end_y', 'rep0_range_64.power_no_charge_t2.endclass.endpt', 'rep0_range_64.power_short_t1.endclass.rate', 'rep0_range_64.power_short_t1.endclass.cost', 'rep0_range_64.power_short_t1.endclass.prob', 'rep0_range_64.power_short_t1.endclass.expected_cost', 'rep0_range_64.power_short_t1.endclass.in_bound', 'rep0_range_64.power_short_t1.endclass.at_finish', 'rep0_range_64.power_short_t1.endclass.line_dist', 'rep0_range_64.power_short_t1.endclass.num_modes', 'rep0_range_64.power_short_t1.endclass.end_dist', 'rep0_range_64.power_short_t1.endclass.tot_deviation', 'rep0_range_64.power_short_t1.endclass.faults', 'rep0_range_64.power_short_t1.endclass.classification', 'rep0_range_64.power_short_t1.endclass.end_x', 'rep0_range_64.power_short_t1.endclass.end_y', 'rep0_range_64.power_short_t1.endclass.endpt', 'rep0_range_64.power_short_t2.endclass.rate', 'rep0_range_64.power_short_t2.endclass.cost', 'rep0_range_64.power_short_t2.endclass.prob', 'rep0_range_64.power_short_t2.endclass.expected_cost', 'rep0_range_64.power_short_t2.endclass.in_bound', 'rep0_range_64.power_short_t2.endclass.at_finish', 'rep0_range_64.power_short_t2.endclass.line_dist', 'rep0_range_64.power_short_t2.endclass.num_modes', 'rep0_range_64.power_short_t2.endclass.end_dist', 'rep0_range_64.power_short_t2.endclass.tot_deviation', 'rep0_range_64.power_short_t2.endclass.faults', 'rep0_range_64.power_short_t2.endclass.classification', 'rep0_range_64.power_short_t2.endclass.end_x', 'rep0_range_64.power_short_t2.endclass.end_y', 'rep0_range_64.power_short_t2.endclass.endpt', 'rep0_range_64.nominal.endclass.rate', 'rep0_range_64.nominal.endclass.cost', 'rep0_range_64.nominal.endclass.prob', 'rep0_range_64.nominal.endclass.expected_cost', 'rep0_range_64.nominal.endclass.in_bound', 'rep0_range_64.nominal.endclass.at_finish', 'rep0_range_64.nominal.endclass.line_dist', 'rep0_range_64.nominal.endclass.num_modes', 'rep0_range_64.nominal.endclass.end_dist', 'rep0_range_64.nominal.endclass.tot_deviation', 'rep0_range_64.nominal.endclass.faults', 'rep0_range_64.nominal.endclass.classification', 'rep0_range_64.nominal.endclass.end_x', 'rep0_range_64.nominal.endclass.end_y', 'rep0_range_64.nominal.endclass.endpt', 'rep0_range_65.power_no_charge_t1.endclass.rate', 'rep0_range_65.power_no_charge_t1.endclass.cost', 'rep0_range_65.power_no_charge_t1.endclass.prob', 'rep0_range_65.power_no_charge_t1.endclass.expected_cost', 'rep0_range_65.power_no_charge_t1.endclass.in_bound', 'rep0_range_65.power_no_charge_t1.endclass.at_finish', 'rep0_range_65.power_no_charge_t1.endclass.line_dist', 'rep0_range_65.power_no_charge_t1.endclass.num_modes', 'rep0_range_65.power_no_charge_t1.endclass.end_dist', 'rep0_range_65.power_no_charge_t1.endclass.tot_deviation', 'rep0_range_65.power_no_charge_t1.endclass.faults', 'rep0_range_65.power_no_charge_t1.endclass.classification', 'rep0_range_65.power_no_charge_t1.endclass.end_x', 'rep0_range_65.power_no_charge_t1.endclass.end_y', 'rep0_range_65.power_no_charge_t1.endclass.endpt', 'rep0_range_65.power_no_charge_t2.endclass.rate', 'rep0_range_65.power_no_charge_t2.endclass.cost', 'rep0_range_65.power_no_charge_t2.endclass.prob', 'rep0_range_65.power_no_charge_t2.endclass.expected_cost', 'rep0_range_65.power_no_charge_t2.endclass.in_bound', 'rep0_range_65.power_no_charge_t2.endclass.at_finish', 'rep0_range_65.power_no_charge_t2.endclass.line_dist', 'rep0_range_65.power_no_charge_t2.endclass.num_modes', 'rep0_range_65.power_no_charge_t2.endclass.end_dist', 'rep0_range_65.power_no_charge_t2.endclass.tot_deviation', 'rep0_range_65.power_no_charge_t2.endclass.faults', 'rep0_range_65.power_no_charge_t2.endclass.classification', 'rep0_range_65.power_no_charge_t2.endclass.end_x', 'rep0_range_65.power_no_charge_t2.endclass.end_y', 'rep0_range_65.power_no_charge_t2.endclass.endpt', 'rep0_range_65.power_short_t1.endclass.rate', 'rep0_range_65.power_short_t1.endclass.cost', 'rep0_range_65.power_short_t1.endclass.prob', 'rep0_range_65.power_short_t1.endclass.expected_cost', 'rep0_range_65.power_short_t1.endclass.in_bound', 'rep0_range_65.power_short_t1.endclass.at_finish', 'rep0_range_65.power_short_t1.endclass.line_dist', 'rep0_range_65.power_short_t1.endclass.num_modes', 'rep0_range_65.power_short_t1.endclass.end_dist', 'rep0_range_65.power_short_t1.endclass.tot_deviation', 'rep0_range_65.power_short_t1.endclass.faults', 'rep0_range_65.power_short_t1.endclass.classification', 'rep0_range_65.power_short_t1.endclass.end_x', 'rep0_range_65.power_short_t1.endclass.end_y', 'rep0_range_65.power_short_t1.endclass.endpt', 'rep0_range_65.power_short_t2.endclass.rate', 'rep0_range_65.power_short_t2.endclass.cost', 'rep0_range_65.power_short_t2.endclass.prob', 'rep0_range_65.power_short_t2.endclass.expected_cost', 'rep0_range_65.power_short_t2.endclass.in_bound', 'rep0_range_65.power_short_t2.endclass.at_finish', 'rep0_range_65.power_short_t2.endclass.line_dist', 'rep0_range_65.power_short_t2.endclass.num_modes', 'rep0_range_65.power_short_t2.endclass.end_dist', 'rep0_range_65.power_short_t2.endclass.tot_deviation', 'rep0_range_65.power_short_t2.endclass.faults', 'rep0_range_65.power_short_t2.endclass.classification', 'rep0_range_65.power_short_t2.endclass.end_x', 'rep0_range_65.power_short_t2.endclass.end_y', 'rep0_range_65.power_short_t2.endclass.endpt', 'rep0_range_65.nominal.endclass.rate', 'rep0_range_65.nominal.endclass.cost', 'rep0_range_65.nominal.endclass.prob', 'rep0_range_65.nominal.endclass.expected_cost', 'rep0_range_65.nominal.endclass.in_bound', 'rep0_range_65.nominal.endclass.at_finish', 'rep0_range_65.nominal.endclass.line_dist', 'rep0_range_65.nominal.endclass.num_modes', 'rep0_range_65.nominal.endclass.end_dist', 'rep0_range_65.nominal.endclass.tot_deviation', 'rep0_range_65.nominal.endclass.faults', 'rep0_range_65.nominal.endclass.classification', 'rep0_range_65.nominal.endclass.end_x', 'rep0_range_65.nominal.endclass.end_y', 'rep0_range_65.nominal.endclass.endpt', 'rep0_range_66.power_no_charge_t1.endclass.rate', 'rep0_range_66.power_no_charge_t1.endclass.cost', 'rep0_range_66.power_no_charge_t1.endclass.prob', 'rep0_range_66.power_no_charge_t1.endclass.expected_cost', 'rep0_range_66.power_no_charge_t1.endclass.in_bound', 'rep0_range_66.power_no_charge_t1.endclass.at_finish', 'rep0_range_66.power_no_charge_t1.endclass.line_dist', 'rep0_range_66.power_no_charge_t1.endclass.num_modes', 'rep0_range_66.power_no_charge_t1.endclass.end_dist', 'rep0_range_66.power_no_charge_t1.endclass.tot_deviation', 'rep0_range_66.power_no_charge_t1.endclass.faults', 'rep0_range_66.power_no_charge_t1.endclass.classification', 'rep0_range_66.power_no_charge_t1.endclass.end_x', 'rep0_range_66.power_no_charge_t1.endclass.end_y', 'rep0_range_66.power_no_charge_t1.endclass.endpt', 'rep0_range_66.power_no_charge_t2.endclass.rate', 'rep0_range_66.power_no_charge_t2.endclass.cost', 'rep0_range_66.power_no_charge_t2.endclass.prob', 'rep0_range_66.power_no_charge_t2.endclass.expected_cost', 'rep0_range_66.power_no_charge_t2.endclass.in_bound', 'rep0_range_66.power_no_charge_t2.endclass.at_finish', 'rep0_range_66.power_no_charge_t2.endclass.line_dist', 'rep0_range_66.power_no_charge_t2.endclass.num_modes', 'rep0_range_66.power_no_charge_t2.endclass.end_dist', 'rep0_range_66.power_no_charge_t2.endclass.tot_deviation', 'rep0_range_66.power_no_charge_t2.endclass.faults', 'rep0_range_66.power_no_charge_t2.endclass.classification', 'rep0_range_66.power_no_charge_t2.endclass.end_x', 'rep0_range_66.power_no_charge_t2.endclass.end_y', 'rep0_range_66.power_no_charge_t2.endclass.endpt', 'rep0_range_66.power_short_t1.endclass.rate', 'rep0_range_66.power_short_t1.endclass.cost', 'rep0_range_66.power_short_t1.endclass.prob', 'rep0_range_66.power_short_t1.endclass.expected_cost', 'rep0_range_66.power_short_t1.endclass.in_bound', 'rep0_range_66.power_short_t1.endclass.at_finish', 'rep0_range_66.power_short_t1.endclass.line_dist', 'rep0_range_66.power_short_t1.endclass.num_modes', 'rep0_range_66.power_short_t1.endclass.end_dist', 'rep0_range_66.power_short_t1.endclass.tot_deviation', 'rep0_range_66.power_short_t1.endclass.faults', 'rep0_range_66.power_short_t1.endclass.classification', 'rep0_range_66.power_short_t1.endclass.end_x', 'rep0_range_66.power_short_t1.endclass.end_y', 'rep0_range_66.power_short_t1.endclass.endpt', 'rep0_range_66.power_short_t2.endclass.rate', 'rep0_range_66.power_short_t2.endclass.cost', 'rep0_range_66.power_short_t2.endclass.prob', 'rep0_range_66.power_short_t2.endclass.expected_cost', 'rep0_range_66.power_short_t2.endclass.in_bound', 'rep0_range_66.power_short_t2.endclass.at_finish', 'rep0_range_66.power_short_t2.endclass.line_dist', 'rep0_range_66.power_short_t2.endclass.num_modes', 'rep0_range_66.power_short_t2.endclass.end_dist', 'rep0_range_66.power_short_t2.endclass.tot_deviation', 'rep0_range_66.power_short_t2.endclass.faults', 'rep0_range_66.power_short_t2.endclass.classification', 'rep0_range_66.power_short_t2.endclass.end_x', 'rep0_range_66.power_short_t2.endclass.end_y', 'rep0_range_66.power_short_t2.endclass.endpt', 'rep0_range_66.nominal.endclass.rate', 'rep0_range_66.nominal.endclass.cost', 'rep0_range_66.nominal.endclass.prob', 'rep0_range_66.nominal.endclass.expected_cost', 'rep0_range_66.nominal.endclass.in_bound', 'rep0_range_66.nominal.endclass.at_finish', 'rep0_range_66.nominal.endclass.line_dist', 'rep0_range_66.nominal.endclass.num_modes', 'rep0_range_66.nominal.endclass.end_dist', 'rep0_range_66.nominal.endclass.tot_deviation', 'rep0_range_66.nominal.endclass.faults', 'rep0_range_66.nominal.endclass.classification', 'rep0_range_66.nominal.endclass.end_x', 'rep0_range_66.nominal.endclass.end_y', 'rep0_range_66.nominal.endclass.endpt', 'rep0_range_67.power_no_charge_t1.endclass.rate', 'rep0_range_67.power_no_charge_t1.endclass.cost', 'rep0_range_67.power_no_charge_t1.endclass.prob', 'rep0_range_67.power_no_charge_t1.endclass.expected_cost', 'rep0_range_67.power_no_charge_t1.endclass.in_bound', 'rep0_range_67.power_no_charge_t1.endclass.at_finish', 'rep0_range_67.power_no_charge_t1.endclass.line_dist', 'rep0_range_67.power_no_charge_t1.endclass.num_modes', 'rep0_range_67.power_no_charge_t1.endclass.end_dist', 'rep0_range_67.power_no_charge_t1.endclass.tot_deviation', 'rep0_range_67.power_no_charge_t1.endclass.faults', 'rep0_range_67.power_no_charge_t1.endclass.classification', 'rep0_range_67.power_no_charge_t1.endclass.end_x', 'rep0_range_67.power_no_charge_t1.endclass.end_y', 'rep0_range_67.power_no_charge_t1.endclass.endpt', 'rep0_range_67.power_no_charge_t2.endclass.rate', 'rep0_range_67.power_no_charge_t2.endclass.cost', 'rep0_range_67.power_no_charge_t2.endclass.prob', 'rep0_range_67.power_no_charge_t2.endclass.expected_cost', 'rep0_range_67.power_no_charge_t2.endclass.in_bound', 'rep0_range_67.power_no_charge_t2.endclass.at_finish', 'rep0_range_67.power_no_charge_t2.endclass.line_dist', 'rep0_range_67.power_no_charge_t2.endclass.num_modes', 'rep0_range_67.power_no_charge_t2.endclass.end_dist', 'rep0_range_67.power_no_charge_t2.endclass.tot_deviation', 'rep0_range_67.power_no_charge_t2.endclass.faults', 'rep0_range_67.power_no_charge_t2.endclass.classification', 'rep0_range_67.power_no_charge_t2.endclass.end_x', 'rep0_range_67.power_no_charge_t2.endclass.end_y', 'rep0_range_67.power_no_charge_t2.endclass.endpt', 'rep0_range_67.power_short_t1.endclass.rate', 'rep0_range_67.power_short_t1.endclass.cost', 'rep0_range_67.power_short_t1.endclass.prob', 'rep0_range_67.power_short_t1.endclass.expected_cost', 'rep0_range_67.power_short_t1.endclass.in_bound', 'rep0_range_67.power_short_t1.endclass.at_finish', 'rep0_range_67.power_short_t1.endclass.line_dist', 'rep0_range_67.power_short_t1.endclass.num_modes', 'rep0_range_67.power_short_t1.endclass.end_dist', 'rep0_range_67.power_short_t1.endclass.tot_deviation', 'rep0_range_67.power_short_t1.endclass.faults', 'rep0_range_67.power_short_t1.endclass.classification', 'rep0_range_67.power_short_t1.endclass.end_x', 'rep0_range_67.power_short_t1.endclass.end_y', 'rep0_range_67.power_short_t1.endclass.endpt', 'rep0_range_67.power_short_t2.endclass.rate', 'rep0_range_67.power_short_t2.endclass.cost', 'rep0_range_67.power_short_t2.endclass.prob', 'rep0_range_67.power_short_t2.endclass.expected_cost', 'rep0_range_67.power_short_t2.endclass.in_bound', 'rep0_range_67.power_short_t2.endclass.at_finish', 'rep0_range_67.power_short_t2.endclass.line_dist', 'rep0_range_67.power_short_t2.endclass.num_modes', 'rep0_range_67.power_short_t2.endclass.end_dist', 'rep0_range_67.power_short_t2.endclass.tot_deviation', 'rep0_range_67.power_short_t2.endclass.faults', 'rep0_range_67.power_short_t2.endclass.classification', 'rep0_range_67.power_short_t2.endclass.end_x', 'rep0_range_67.power_short_t2.endclass.end_y', 'rep0_range_67.power_short_t2.endclass.endpt', 'rep0_range_67.nominal.endclass.rate', 'rep0_range_67.nominal.endclass.cost', 'rep0_range_67.nominal.endclass.prob', 'rep0_range_67.nominal.endclass.expected_cost', 'rep0_range_67.nominal.endclass.in_bound', 'rep0_range_67.nominal.endclass.at_finish', 'rep0_range_67.nominal.endclass.line_dist', 'rep0_range_67.nominal.endclass.num_modes', 'rep0_range_67.nominal.endclass.end_dist', 'rep0_range_67.nominal.endclass.tot_deviation', 'rep0_range_67.nominal.endclass.faults', 'rep0_range_67.nominal.endclass.classification', 'rep0_range_67.nominal.endclass.end_x', 'rep0_range_67.nominal.endclass.end_y', 'rep0_range_67.nominal.endclass.endpt', 'rep0_range_68.power_no_charge_t1.endclass.rate', 'rep0_range_68.power_no_charge_t1.endclass.cost', 'rep0_range_68.power_no_charge_t1.endclass.prob', 'rep0_range_68.power_no_charge_t1.endclass.expected_cost', 'rep0_range_68.power_no_charge_t1.endclass.in_bound', 'rep0_range_68.power_no_charge_t1.endclass.at_finish', 'rep0_range_68.power_no_charge_t1.endclass.line_dist', 'rep0_range_68.power_no_charge_t1.endclass.num_modes', 'rep0_range_68.power_no_charge_t1.endclass.end_dist', 'rep0_range_68.power_no_charge_t1.endclass.tot_deviation', 'rep0_range_68.power_no_charge_t1.endclass.faults', 'rep0_range_68.power_no_charge_t1.endclass.classification', 'rep0_range_68.power_no_charge_t1.endclass.end_x', 'rep0_range_68.power_no_charge_t1.endclass.end_y', 'rep0_range_68.power_no_charge_t1.endclass.endpt', 'rep0_range_68.power_no_charge_t2.endclass.rate', 'rep0_range_68.power_no_charge_t2.endclass.cost', 'rep0_range_68.power_no_charge_t2.endclass.prob', 'rep0_range_68.power_no_charge_t2.endclass.expected_cost', 'rep0_range_68.power_no_charge_t2.endclass.in_bound', 'rep0_range_68.power_no_charge_t2.endclass.at_finish', 'rep0_range_68.power_no_charge_t2.endclass.line_dist', 'rep0_range_68.power_no_charge_t2.endclass.num_modes', 'rep0_range_68.power_no_charge_t2.endclass.end_dist', 'rep0_range_68.power_no_charge_t2.endclass.tot_deviation', 'rep0_range_68.power_no_charge_t2.endclass.faults', 'rep0_range_68.power_no_charge_t2.endclass.classification', 'rep0_range_68.power_no_charge_t2.endclass.end_x', 'rep0_range_68.power_no_charge_t2.endclass.end_y', 'rep0_range_68.power_no_charge_t2.endclass.endpt', 'rep0_range_68.power_short_t1.endclass.rate', 'rep0_range_68.power_short_t1.endclass.cost', 'rep0_range_68.power_short_t1.endclass.prob', 'rep0_range_68.power_short_t1.endclass.expected_cost', 'rep0_range_68.power_short_t1.endclass.in_bound', 'rep0_range_68.power_short_t1.endclass.at_finish', 'rep0_range_68.power_short_t1.endclass.line_dist', 'rep0_range_68.power_short_t1.endclass.num_modes', 'rep0_range_68.power_short_t1.endclass.end_dist', 'rep0_range_68.power_short_t1.endclass.tot_deviation', 'rep0_range_68.power_short_t1.endclass.faults', 'rep0_range_68.power_short_t1.endclass.classification', 'rep0_range_68.power_short_t1.endclass.end_x', 'rep0_range_68.power_short_t1.endclass.end_y', 'rep0_range_68.power_short_t1.endclass.endpt', 'rep0_range_68.power_short_t2.endclass.rate', 'rep0_range_68.power_short_t2.endclass.cost', 'rep0_range_68.power_short_t2.endclass.prob', 'rep0_range_68.power_short_t2.endclass.expected_cost', 'rep0_range_68.power_short_t2.endclass.in_bound', 'rep0_range_68.power_short_t2.endclass.at_finish', 'rep0_range_68.power_short_t2.endclass.line_dist', 'rep0_range_68.power_short_t2.endclass.num_modes', 'rep0_range_68.power_short_t2.endclass.end_dist', 'rep0_range_68.power_short_t2.endclass.tot_deviation', 'rep0_range_68.power_short_t2.endclass.faults', 'rep0_range_68.power_short_t2.endclass.classification', 'rep0_range_68.power_short_t2.endclass.end_x', 'rep0_range_68.power_short_t2.endclass.end_y', 'rep0_range_68.power_short_t2.endclass.endpt', 'rep0_range_68.nominal.endclass.rate', 'rep0_range_68.nominal.endclass.cost', 'rep0_range_68.nominal.endclass.prob', 'rep0_range_68.nominal.endclass.expected_cost', 'rep0_range_68.nominal.endclass.in_bound', 'rep0_range_68.nominal.endclass.at_finish', 'rep0_range_68.nominal.endclass.line_dist', 'rep0_range_68.nominal.endclass.num_modes', 'rep0_range_68.nominal.endclass.end_dist', 'rep0_range_68.nominal.endclass.tot_deviation', 'rep0_range_68.nominal.endclass.faults', 'rep0_range_68.nominal.endclass.classification', 'rep0_range_68.nominal.endclass.end_x', 'rep0_range_68.nominal.endclass.end_y', 'rep0_range_68.nominal.endclass.endpt', 'rep0_range_69.power_no_charge_t1.endclass.rate', 'rep0_range_69.power_no_charge_t1.endclass.cost', 'rep0_range_69.power_no_charge_t1.endclass.prob', 'rep0_range_69.power_no_charge_t1.endclass.expected_cost', 'rep0_range_69.power_no_charge_t1.endclass.in_bound', 'rep0_range_69.power_no_charge_t1.endclass.at_finish', 'rep0_range_69.power_no_charge_t1.endclass.line_dist', 'rep0_range_69.power_no_charge_t1.endclass.num_modes', 'rep0_range_69.power_no_charge_t1.endclass.end_dist', 'rep0_range_69.power_no_charge_t1.endclass.tot_deviation', 'rep0_range_69.power_no_charge_t1.endclass.faults', 'rep0_range_69.power_no_charge_t1.endclass.classification', 'rep0_range_69.power_no_charge_t1.endclass.end_x', 'rep0_range_69.power_no_charge_t1.endclass.end_y', 'rep0_range_69.power_no_charge_t1.endclass.endpt', 'rep0_range_69.power_no_charge_t2.endclass.rate', 'rep0_range_69.power_no_charge_t2.endclass.cost', 'rep0_range_69.power_no_charge_t2.endclass.prob', 'rep0_range_69.power_no_charge_t2.endclass.expected_cost', 'rep0_range_69.power_no_charge_t2.endclass.in_bound', 'rep0_range_69.power_no_charge_t2.endclass.at_finish', 'rep0_range_69.power_no_charge_t2.endclass.line_dist', 'rep0_range_69.power_no_charge_t2.endclass.num_modes', 'rep0_range_69.power_no_charge_t2.endclass.end_dist', 'rep0_range_69.power_no_charge_t2.endclass.tot_deviation', 'rep0_range_69.power_no_charge_t2.endclass.faults', 'rep0_range_69.power_no_charge_t2.endclass.classification', 'rep0_range_69.power_no_charge_t2.endclass.end_x', 'rep0_range_69.power_no_charge_t2.endclass.end_y', 'rep0_range_69.power_no_charge_t2.endclass.endpt', 'rep0_range_69.power_short_t1.endclass.rate', 'rep0_range_69.power_short_t1.endclass.cost', 'rep0_range_69.power_short_t1.endclass.prob', 'rep0_range_69.power_short_t1.endclass.expected_cost', 'rep0_range_69.power_short_t1.endclass.in_bound', 'rep0_range_69.power_short_t1.endclass.at_finish', 'rep0_range_69.power_short_t1.endclass.line_dist', 'rep0_range_69.power_short_t1.endclass.num_modes', 'rep0_range_69.power_short_t1.endclass.end_dist', 'rep0_range_69.power_short_t1.endclass.tot_deviation', 'rep0_range_69.power_short_t1.endclass.faults', 'rep0_range_69.power_short_t1.endclass.classification', 'rep0_range_69.power_short_t1.endclass.end_x', 'rep0_range_69.power_short_t1.endclass.end_y', 'rep0_range_69.power_short_t1.endclass.endpt', 'rep0_range_69.power_short_t2.endclass.rate', 'rep0_range_69.power_short_t2.endclass.cost', 'rep0_range_69.power_short_t2.endclass.prob', 'rep0_range_69.power_short_t2.endclass.expected_cost', 'rep0_range_69.power_short_t2.endclass.in_bound', 'rep0_range_69.power_short_t2.endclass.at_finish', 'rep0_range_69.power_short_t2.endclass.line_dist', 'rep0_range_69.power_short_t2.endclass.num_modes', 'rep0_range_69.power_short_t2.endclass.end_dist', 'rep0_range_69.power_short_t2.endclass.tot_deviation', 'rep0_range_69.power_short_t2.endclass.faults', 'rep0_range_69.power_short_t2.endclass.classification', 'rep0_range_69.power_short_t2.endclass.end_x', 'rep0_range_69.power_short_t2.endclass.end_y', 'rep0_range_69.power_short_t2.endclass.endpt', 'rep0_range_69.nominal.endclass.rate', 'rep0_range_69.nominal.endclass.cost', 'rep0_range_69.nominal.endclass.prob', 'rep0_range_69.nominal.endclass.expected_cost', 'rep0_range_69.nominal.endclass.in_bound', 'rep0_range_69.nominal.endclass.at_finish', 'rep0_range_69.nominal.endclass.line_dist', 'rep0_range_69.nominal.endclass.num_modes', 'rep0_range_69.nominal.endclass.end_dist', 'rep0_range_69.nominal.endclass.tot_deviation', 'rep0_range_69.nominal.endclass.faults', 'rep0_range_69.nominal.endclass.classification', 'rep0_range_69.nominal.endclass.end_x', 'rep0_range_69.nominal.endclass.end_y', 'rep0_range_69.nominal.endclass.endpt', 'rep0_range_70.power_no_charge_t1.endclass.rate', 'rep0_range_70.power_no_charge_t1.endclass.cost', 'rep0_range_70.power_no_charge_t1.endclass.prob', 'rep0_range_70.power_no_charge_t1.endclass.expected_cost', 'rep0_range_70.power_no_charge_t1.endclass.in_bound', 'rep0_range_70.power_no_charge_t1.endclass.at_finish', 'rep0_range_70.power_no_charge_t1.endclass.line_dist', 'rep0_range_70.power_no_charge_t1.endclass.num_modes', 'rep0_range_70.power_no_charge_t1.endclass.end_dist', 'rep0_range_70.power_no_charge_t1.endclass.tot_deviation', 'rep0_range_70.power_no_charge_t1.endclass.faults', 'rep0_range_70.power_no_charge_t1.endclass.classification', 'rep0_range_70.power_no_charge_t1.endclass.end_x', 'rep0_range_70.power_no_charge_t1.endclass.end_y', 'rep0_range_70.power_no_charge_t1.endclass.endpt', 'rep0_range_70.power_no_charge_t2.endclass.rate', 'rep0_range_70.power_no_charge_t2.endclass.cost', 'rep0_range_70.power_no_charge_t2.endclass.prob', 'rep0_range_70.power_no_charge_t2.endclass.expected_cost', 'rep0_range_70.power_no_charge_t2.endclass.in_bound', 'rep0_range_70.power_no_charge_t2.endclass.at_finish', 'rep0_range_70.power_no_charge_t2.endclass.line_dist', 'rep0_range_70.power_no_charge_t2.endclass.num_modes', 'rep0_range_70.power_no_charge_t2.endclass.end_dist', 'rep0_range_70.power_no_charge_t2.endclass.tot_deviation', 'rep0_range_70.power_no_charge_t2.endclass.faults', 'rep0_range_70.power_no_charge_t2.endclass.classification', 'rep0_range_70.power_no_charge_t2.endclass.end_x', 'rep0_range_70.power_no_charge_t2.endclass.end_y', 'rep0_range_70.power_no_charge_t2.endclass.endpt', 'rep0_range_70.power_short_t1.endclass.rate', 'rep0_range_70.power_short_t1.endclass.cost', 'rep0_range_70.power_short_t1.endclass.prob', 'rep0_range_70.power_short_t1.endclass.expected_cost', 'rep0_range_70.power_short_t1.endclass.in_bound', 'rep0_range_70.power_short_t1.endclass.at_finish', 'rep0_range_70.power_short_t1.endclass.line_dist', 'rep0_range_70.power_short_t1.endclass.num_modes', 'rep0_range_70.power_short_t1.endclass.end_dist', 'rep0_range_70.power_short_t1.endclass.tot_deviation', 'rep0_range_70.power_short_t1.endclass.faults', 'rep0_range_70.power_short_t1.endclass.classification', 'rep0_range_70.power_short_t1.endclass.end_x', 'rep0_range_70.power_short_t1.endclass.end_y', 'rep0_range_70.power_short_t1.endclass.endpt', 'rep0_range_70.power_short_t2.endclass.rate', 'rep0_range_70.power_short_t2.endclass.cost', 'rep0_range_70.power_short_t2.endclass.prob', 'rep0_range_70.power_short_t2.endclass.expected_cost', 'rep0_range_70.power_short_t2.endclass.in_bound', 'rep0_range_70.power_short_t2.endclass.at_finish', 'rep0_range_70.power_short_t2.endclass.line_dist', 'rep0_range_70.power_short_t2.endclass.num_modes', 'rep0_range_70.power_short_t2.endclass.end_dist', 'rep0_range_70.power_short_t2.endclass.tot_deviation', 'rep0_range_70.power_short_t2.endclass.faults', 'rep0_range_70.power_short_t2.endclass.classification', 'rep0_range_70.power_short_t2.endclass.end_x', 'rep0_range_70.power_short_t2.endclass.end_y', 'rep0_range_70.power_short_t2.endclass.endpt', 'rep0_range_70.nominal.endclass.rate', 'rep0_range_70.nominal.endclass.cost', 'rep0_range_70.nominal.endclass.prob', 'rep0_range_70.nominal.endclass.expected_cost', 'rep0_range_70.nominal.endclass.in_bound', 'rep0_range_70.nominal.endclass.at_finish', 'rep0_range_70.nominal.endclass.line_dist', 'rep0_range_70.nominal.endclass.num_modes', 'rep0_range_70.nominal.endclass.end_dist', 'rep0_range_70.nominal.endclass.tot_deviation', 'rep0_range_70.nominal.endclass.faults', 'rep0_range_70.nominal.endclass.classification', 'rep0_range_70.nominal.endclass.end_x', 'rep0_range_70.nominal.endclass.end_y', 'rep0_range_70.nominal.endclass.endpt', 'rep0_range_71.power_no_charge_t1.endclass.rate', 'rep0_range_71.power_no_charge_t1.endclass.cost', 'rep0_range_71.power_no_charge_t1.endclass.prob', 'rep0_range_71.power_no_charge_t1.endclass.expected_cost', 'rep0_range_71.power_no_charge_t1.endclass.in_bound', 'rep0_range_71.power_no_charge_t1.endclass.at_finish', 'rep0_range_71.power_no_charge_t1.endclass.line_dist', 'rep0_range_71.power_no_charge_t1.endclass.num_modes', 'rep0_range_71.power_no_charge_t1.endclass.end_dist', 'rep0_range_71.power_no_charge_t1.endclass.tot_deviation', 'rep0_range_71.power_no_charge_t1.endclass.faults', 'rep0_range_71.power_no_charge_t1.endclass.classification', 'rep0_range_71.power_no_charge_t1.endclass.end_x', 'rep0_range_71.power_no_charge_t1.endclass.end_y', 'rep0_range_71.power_no_charge_t1.endclass.endpt', 'rep0_range_71.power_no_charge_t2.endclass.rate', 'rep0_range_71.power_no_charge_t2.endclass.cost', 'rep0_range_71.power_no_charge_t2.endclass.prob', 'rep0_range_71.power_no_charge_t2.endclass.expected_cost', 'rep0_range_71.power_no_charge_t2.endclass.in_bound', 'rep0_range_71.power_no_charge_t2.endclass.at_finish', 'rep0_range_71.power_no_charge_t2.endclass.line_dist', 'rep0_range_71.power_no_charge_t2.endclass.num_modes', 'rep0_range_71.power_no_charge_t2.endclass.end_dist', 'rep0_range_71.power_no_charge_t2.endclass.tot_deviation', 'rep0_range_71.power_no_charge_t2.endclass.faults', 'rep0_range_71.power_no_charge_t2.endclass.classification', 'rep0_range_71.power_no_charge_t2.endclass.end_x', 'rep0_range_71.power_no_charge_t2.endclass.end_y', 'rep0_range_71.power_no_charge_t2.endclass.endpt', 'rep0_range_71.power_short_t1.endclass.rate', 'rep0_range_71.power_short_t1.endclass.cost', 'rep0_range_71.power_short_t1.endclass.prob', 'rep0_range_71.power_short_t1.endclass.expected_cost', 'rep0_range_71.power_short_t1.endclass.in_bound', 'rep0_range_71.power_short_t1.endclass.at_finish', 'rep0_range_71.power_short_t1.endclass.line_dist', 'rep0_range_71.power_short_t1.endclass.num_modes', 'rep0_range_71.power_short_t1.endclass.end_dist', 'rep0_range_71.power_short_t1.endclass.tot_deviation', 'rep0_range_71.power_short_t1.endclass.faults', 'rep0_range_71.power_short_t1.endclass.classification', 'rep0_range_71.power_short_t1.endclass.end_x', 'rep0_range_71.power_short_t1.endclass.end_y', 'rep0_range_71.power_short_t1.endclass.endpt', 'rep0_range_71.power_short_t2.endclass.rate', 'rep0_range_71.power_short_t2.endclass.cost', 'rep0_range_71.power_short_t2.endclass.prob', 'rep0_range_71.power_short_t2.endclass.expected_cost', 'rep0_range_71.power_short_t2.endclass.in_bound', 'rep0_range_71.power_short_t2.endclass.at_finish', 'rep0_range_71.power_short_t2.endclass.line_dist', 'rep0_range_71.power_short_t2.endclass.num_modes', 'rep0_range_71.power_short_t2.endclass.end_dist', 'rep0_range_71.power_short_t2.endclass.tot_deviation', 'rep0_range_71.power_short_t2.endclass.faults', 'rep0_range_71.power_short_t2.endclass.classification', 'rep0_range_71.power_short_t2.endclass.end_x', 'rep0_range_71.power_short_t2.endclass.end_y', 'rep0_range_71.power_short_t2.endclass.endpt', 'rep0_range_71.nominal.endclass.rate', 'rep0_range_71.nominal.endclass.cost', 'rep0_range_71.nominal.endclass.prob', 'rep0_range_71.nominal.endclass.expected_cost', 'rep0_range_71.nominal.endclass.in_bound', 'rep0_range_71.nominal.endclass.at_finish', 'rep0_range_71.nominal.endclass.line_dist', 'rep0_range_71.nominal.endclass.num_modes', 'rep0_range_71.nominal.endclass.end_dist', 'rep0_range_71.nominal.endclass.tot_deviation', 'rep0_range_71.nominal.endclass.faults', 'rep0_range_71.nominal.endclass.classification', 'rep0_range_71.nominal.endclass.end_x', 'rep0_range_71.nominal.endclass.end_y', 'rep0_range_71.nominal.endclass.endpt', 'rep0_range_72.power_no_charge_t1.endclass.rate', 'rep0_range_72.power_no_charge_t1.endclass.cost', 'rep0_range_72.power_no_charge_t1.endclass.prob', 'rep0_range_72.power_no_charge_t1.endclass.expected_cost', 'rep0_range_72.power_no_charge_t1.endclass.in_bound', 'rep0_range_72.power_no_charge_t1.endclass.at_finish', 'rep0_range_72.power_no_charge_t1.endclass.line_dist', 'rep0_range_72.power_no_charge_t1.endclass.num_modes', 'rep0_range_72.power_no_charge_t1.endclass.end_dist', 'rep0_range_72.power_no_charge_t1.endclass.tot_deviation', 'rep0_range_72.power_no_charge_t1.endclass.faults', 'rep0_range_72.power_no_charge_t1.endclass.classification', 'rep0_range_72.power_no_charge_t1.endclass.end_x', 'rep0_range_72.power_no_charge_t1.endclass.end_y', 'rep0_range_72.power_no_charge_t1.endclass.endpt', 'rep0_range_72.power_no_charge_t2.endclass.rate', 'rep0_range_72.power_no_charge_t2.endclass.cost', 'rep0_range_72.power_no_charge_t2.endclass.prob', 'rep0_range_72.power_no_charge_t2.endclass.expected_cost', 'rep0_range_72.power_no_charge_t2.endclass.in_bound', 'rep0_range_72.power_no_charge_t2.endclass.at_finish', 'rep0_range_72.power_no_charge_t2.endclass.line_dist', 'rep0_range_72.power_no_charge_t2.endclass.num_modes', 'rep0_range_72.power_no_charge_t2.endclass.end_dist', 'rep0_range_72.power_no_charge_t2.endclass.tot_deviation', 'rep0_range_72.power_no_charge_t2.endclass.faults', 'rep0_range_72.power_no_charge_t2.endclass.classification', 'rep0_range_72.power_no_charge_t2.endclass.end_x', 'rep0_range_72.power_no_charge_t2.endclass.end_y', 'rep0_range_72.power_no_charge_t2.endclass.endpt', 'rep0_range_72.power_short_t1.endclass.rate', 'rep0_range_72.power_short_t1.endclass.cost', 'rep0_range_72.power_short_t1.endclass.prob', 'rep0_range_72.power_short_t1.endclass.expected_cost', 'rep0_range_72.power_short_t1.endclass.in_bound', 'rep0_range_72.power_short_t1.endclass.at_finish', 'rep0_range_72.power_short_t1.endclass.line_dist', 'rep0_range_72.power_short_t1.endclass.num_modes', 'rep0_range_72.power_short_t1.endclass.end_dist', 'rep0_range_72.power_short_t1.endclass.tot_deviation', 'rep0_range_72.power_short_t1.endclass.faults', 'rep0_range_72.power_short_t1.endclass.classification', 'rep0_range_72.power_short_t1.endclass.end_x', 'rep0_range_72.power_short_t1.endclass.end_y', 'rep0_range_72.power_short_t1.endclass.endpt', 'rep0_range_72.power_short_t2.endclass.rate', 'rep0_range_72.power_short_t2.endclass.cost', 'rep0_range_72.power_short_t2.endclass.prob', 'rep0_range_72.power_short_t2.endclass.expected_cost', 'rep0_range_72.power_short_t2.endclass.in_bound', 'rep0_range_72.power_short_t2.endclass.at_finish', 'rep0_range_72.power_short_t2.endclass.line_dist', 'rep0_range_72.power_short_t2.endclass.num_modes', 'rep0_range_72.power_short_t2.endclass.end_dist', 'rep0_range_72.power_short_t2.endclass.tot_deviation', 'rep0_range_72.power_short_t2.endclass.faults', 'rep0_range_72.power_short_t2.endclass.classification', 'rep0_range_72.power_short_t2.endclass.end_x', 'rep0_range_72.power_short_t2.endclass.end_y', 'rep0_range_72.power_short_t2.endclass.endpt', 'rep0_range_72.nominal.endclass.rate', 'rep0_range_72.nominal.endclass.cost', 'rep0_range_72.nominal.endclass.prob', 'rep0_range_72.nominal.endclass.expected_cost', 'rep0_range_72.nominal.endclass.in_bound', 'rep0_range_72.nominal.endclass.at_finish', 'rep0_range_72.nominal.endclass.line_dist', 'rep0_range_72.nominal.endclass.num_modes', 'rep0_range_72.nominal.endclass.end_dist', 'rep0_range_72.nominal.endclass.tot_deviation', 'rep0_range_72.nominal.endclass.faults', 'rep0_range_72.nominal.endclass.classification', 'rep0_range_72.nominal.endclass.end_x', 'rep0_range_72.nominal.endclass.end_y', 'rep0_range_72.nominal.endclass.endpt', 'rep0_range_73.power_no_charge_t1.endclass.rate', 'rep0_range_73.power_no_charge_t1.endclass.cost', 'rep0_range_73.power_no_charge_t1.endclass.prob', 'rep0_range_73.power_no_charge_t1.endclass.expected_cost', 'rep0_range_73.power_no_charge_t1.endclass.in_bound', 'rep0_range_73.power_no_charge_t1.endclass.at_finish', 'rep0_range_73.power_no_charge_t1.endclass.line_dist', 'rep0_range_73.power_no_charge_t1.endclass.num_modes', 'rep0_range_73.power_no_charge_t1.endclass.end_dist', 'rep0_range_73.power_no_charge_t1.endclass.tot_deviation', 'rep0_range_73.power_no_charge_t1.endclass.faults', 'rep0_range_73.power_no_charge_t1.endclass.classification', 'rep0_range_73.power_no_charge_t1.endclass.end_x', 'rep0_range_73.power_no_charge_t1.endclass.end_y', 'rep0_range_73.power_no_charge_t1.endclass.endpt', 'rep0_range_73.power_no_charge_t2.endclass.rate', 'rep0_range_73.power_no_charge_t2.endclass.cost', 'rep0_range_73.power_no_charge_t2.endclass.prob', 'rep0_range_73.power_no_charge_t2.endclass.expected_cost', 'rep0_range_73.power_no_charge_t2.endclass.in_bound', 'rep0_range_73.power_no_charge_t2.endclass.at_finish', 'rep0_range_73.power_no_charge_t2.endclass.line_dist', 'rep0_range_73.power_no_charge_t2.endclass.num_modes', 'rep0_range_73.power_no_charge_t2.endclass.end_dist', 'rep0_range_73.power_no_charge_t2.endclass.tot_deviation', 'rep0_range_73.power_no_charge_t2.endclass.faults', 'rep0_range_73.power_no_charge_t2.endclass.classification', 'rep0_range_73.power_no_charge_t2.endclass.end_x', 'rep0_range_73.power_no_charge_t2.endclass.end_y', 'rep0_range_73.power_no_charge_t2.endclass.endpt', 'rep0_range_73.power_short_t1.endclass.rate', 'rep0_range_73.power_short_t1.endclass.cost', 'rep0_range_73.power_short_t1.endclass.prob', 'rep0_range_73.power_short_t1.endclass.expected_cost', 'rep0_range_73.power_short_t1.endclass.in_bound', 'rep0_range_73.power_short_t1.endclass.at_finish', 'rep0_range_73.power_short_t1.endclass.line_dist', 'rep0_range_73.power_short_t1.endclass.num_modes', 'rep0_range_73.power_short_t1.endclass.end_dist', 'rep0_range_73.power_short_t1.endclass.tot_deviation', 'rep0_range_73.power_short_t1.endclass.faults', 'rep0_range_73.power_short_t1.endclass.classification', 'rep0_range_73.power_short_t1.endclass.end_x', 'rep0_range_73.power_short_t1.endclass.end_y', 'rep0_range_73.power_short_t1.endclass.endpt', 'rep0_range_73.power_short_t2.endclass.rate', 'rep0_range_73.power_short_t2.endclass.cost', 'rep0_range_73.power_short_t2.endclass.prob', 'rep0_range_73.power_short_t2.endclass.expected_cost', 'rep0_range_73.power_short_t2.endclass.in_bound', 'rep0_range_73.power_short_t2.endclass.at_finish', 'rep0_range_73.power_short_t2.endclass.line_dist', 'rep0_range_73.power_short_t2.endclass.num_modes', 'rep0_range_73.power_short_t2.endclass.end_dist', 'rep0_range_73.power_short_t2.endclass.tot_deviation', 'rep0_range_73.power_short_t2.endclass.faults', 'rep0_range_73.power_short_t2.endclass.classification', 'rep0_range_73.power_short_t2.endclass.end_x', 'rep0_range_73.power_short_t2.endclass.end_y', 'rep0_range_73.power_short_t2.endclass.endpt', 'rep0_range_73.nominal.endclass.rate', 'rep0_range_73.nominal.endclass.cost', 'rep0_range_73.nominal.endclass.prob', 'rep0_range_73.nominal.endclass.expected_cost', 'rep0_range_73.nominal.endclass.in_bound', 'rep0_range_73.nominal.endclass.at_finish', 'rep0_range_73.nominal.endclass.line_dist', 'rep0_range_73.nominal.endclass.num_modes', 'rep0_range_73.nominal.endclass.end_dist', 'rep0_range_73.nominal.endclass.tot_deviation', 'rep0_range_73.nominal.endclass.faults', 'rep0_range_73.nominal.endclass.classification', 'rep0_range_73.nominal.endclass.end_x', 'rep0_range_73.nominal.endclass.end_y', 'rep0_range_73.nominal.endclass.endpt', 'rep0_range_74.power_no_charge_t1.endclass.rate', 'rep0_range_74.power_no_charge_t1.endclass.cost', 'rep0_range_74.power_no_charge_t1.endclass.prob', 'rep0_range_74.power_no_charge_t1.endclass.expected_cost', 'rep0_range_74.power_no_charge_t1.endclass.in_bound', 'rep0_range_74.power_no_charge_t1.endclass.at_finish', 'rep0_range_74.power_no_charge_t1.endclass.line_dist', 'rep0_range_74.power_no_charge_t1.endclass.num_modes', 'rep0_range_74.power_no_charge_t1.endclass.end_dist', 'rep0_range_74.power_no_charge_t1.endclass.tot_deviation', 'rep0_range_74.power_no_charge_t1.endclass.faults', 'rep0_range_74.power_no_charge_t1.endclass.classification', 'rep0_range_74.power_no_charge_t1.endclass.end_x', 'rep0_range_74.power_no_charge_t1.endclass.end_y', 'rep0_range_74.power_no_charge_t1.endclass.endpt', 'rep0_range_74.power_no_charge_t2.endclass.rate', 'rep0_range_74.power_no_charge_t2.endclass.cost', 'rep0_range_74.power_no_charge_t2.endclass.prob', 'rep0_range_74.power_no_charge_t2.endclass.expected_cost', 'rep0_range_74.power_no_charge_t2.endclass.in_bound', 'rep0_range_74.power_no_charge_t2.endclass.at_finish', 'rep0_range_74.power_no_charge_t2.endclass.line_dist', 'rep0_range_74.power_no_charge_t2.endclass.num_modes', 'rep0_range_74.power_no_charge_t2.endclass.end_dist', 'rep0_range_74.power_no_charge_t2.endclass.tot_deviation', 'rep0_range_74.power_no_charge_t2.endclass.faults', 'rep0_range_74.power_no_charge_t2.endclass.classification', 'rep0_range_74.power_no_charge_t2.endclass.end_x', 'rep0_range_74.power_no_charge_t2.endclass.end_y', 'rep0_range_74.power_no_charge_t2.endclass.endpt', 'rep0_range_74.power_short_t1.endclass.rate', 'rep0_range_74.power_short_t1.endclass.cost', 'rep0_range_74.power_short_t1.endclass.prob', 'rep0_range_74.power_short_t1.endclass.expected_cost', 'rep0_range_74.power_short_t1.endclass.in_bound', 'rep0_range_74.power_short_t1.endclass.at_finish', 'rep0_range_74.power_short_t1.endclass.line_dist', 'rep0_range_74.power_short_t1.endclass.num_modes', 'rep0_range_74.power_short_t1.endclass.end_dist', 'rep0_range_74.power_short_t1.endclass.tot_deviation', 'rep0_range_74.power_short_t1.endclass.faults', 'rep0_range_74.power_short_t1.endclass.classification', 'rep0_range_74.power_short_t1.endclass.end_x', 'rep0_range_74.power_short_t1.endclass.end_y', 'rep0_range_74.power_short_t1.endclass.endpt', 'rep0_range_74.power_short_t2.endclass.rate', 'rep0_range_74.power_short_t2.endclass.cost', 'rep0_range_74.power_short_t2.endclass.prob', 'rep0_range_74.power_short_t2.endclass.expected_cost', 'rep0_range_74.power_short_t2.endclass.in_bound', 'rep0_range_74.power_short_t2.endclass.at_finish', 'rep0_range_74.power_short_t2.endclass.line_dist', 'rep0_range_74.power_short_t2.endclass.num_modes', 'rep0_range_74.power_short_t2.endclass.end_dist', 'rep0_range_74.power_short_t2.endclass.tot_deviation', 'rep0_range_74.power_short_t2.endclass.faults', 'rep0_range_74.power_short_t2.endclass.classification', 'rep0_range_74.power_short_t2.endclass.end_x', 'rep0_range_74.power_short_t2.endclass.end_y', 'rep0_range_74.power_short_t2.endclass.endpt', 'rep0_range_74.nominal.endclass.rate', 'rep0_range_74.nominal.endclass.cost', 'rep0_range_74.nominal.endclass.prob', 'rep0_range_74.nominal.endclass.expected_cost', 'rep0_range_74.nominal.endclass.in_bound', 'rep0_range_74.nominal.endclass.at_finish', 'rep0_range_74.nominal.endclass.line_dist', 'rep0_range_74.nominal.endclass.num_modes', 'rep0_range_74.nominal.endclass.end_dist', 'rep0_range_74.nominal.endclass.tot_deviation', 'rep0_range_74.nominal.endclass.faults', 'rep0_range_74.nominal.endclass.classification', 'rep0_range_74.nominal.endclass.end_x', 'rep0_range_74.nominal.endclass.end_y', 'rep0_range_74.nominal.endclass.endpt', 'rep0_range_75.power_no_charge_t1.endclass.rate', 'rep0_range_75.power_no_charge_t1.endclass.cost', 'rep0_range_75.power_no_charge_t1.endclass.prob', 'rep0_range_75.power_no_charge_t1.endclass.expected_cost', 'rep0_range_75.power_no_charge_t1.endclass.in_bound', 'rep0_range_75.power_no_charge_t1.endclass.at_finish', 'rep0_range_75.power_no_charge_t1.endclass.line_dist', 'rep0_range_75.power_no_charge_t1.endclass.num_modes', 'rep0_range_75.power_no_charge_t1.endclass.end_dist', 'rep0_range_75.power_no_charge_t1.endclass.tot_deviation', 'rep0_range_75.power_no_charge_t1.endclass.faults', 'rep0_range_75.power_no_charge_t1.endclass.classification', 'rep0_range_75.power_no_charge_t1.endclass.end_x', 'rep0_range_75.power_no_charge_t1.endclass.end_y', 'rep0_range_75.power_no_charge_t1.endclass.endpt', 'rep0_range_75.power_no_charge_t2.endclass.rate', 'rep0_range_75.power_no_charge_t2.endclass.cost', 'rep0_range_75.power_no_charge_t2.endclass.prob', 'rep0_range_75.power_no_charge_t2.endclass.expected_cost', 'rep0_range_75.power_no_charge_t2.endclass.in_bound', 'rep0_range_75.power_no_charge_t2.endclass.at_finish', 'rep0_range_75.power_no_charge_t2.endclass.line_dist', 'rep0_range_75.power_no_charge_t2.endclass.num_modes', 'rep0_range_75.power_no_charge_t2.endclass.end_dist', 'rep0_range_75.power_no_charge_t2.endclass.tot_deviation', 'rep0_range_75.power_no_charge_t2.endclass.faults', 'rep0_range_75.power_no_charge_t2.endclass.classification', 'rep0_range_75.power_no_charge_t2.endclass.end_x', 'rep0_range_75.power_no_charge_t2.endclass.end_y', 'rep0_range_75.power_no_charge_t2.endclass.endpt', 'rep0_range_75.power_short_t1.endclass.rate', 'rep0_range_75.power_short_t1.endclass.cost', 'rep0_range_75.power_short_t1.endclass.prob', 'rep0_range_75.power_short_t1.endclass.expected_cost', 'rep0_range_75.power_short_t1.endclass.in_bound', 'rep0_range_75.power_short_t1.endclass.at_finish', 'rep0_range_75.power_short_t1.endclass.line_dist', 'rep0_range_75.power_short_t1.endclass.num_modes', 'rep0_range_75.power_short_t1.endclass.end_dist', 'rep0_range_75.power_short_t1.endclass.tot_deviation', 'rep0_range_75.power_short_t1.endclass.faults', 'rep0_range_75.power_short_t1.endclass.classification', 'rep0_range_75.power_short_t1.endclass.end_x', 'rep0_range_75.power_short_t1.endclass.end_y', 'rep0_range_75.power_short_t1.endclass.endpt', 'rep0_range_75.power_short_t2.endclass.rate', 'rep0_range_75.power_short_t2.endclass.cost', 'rep0_range_75.power_short_t2.endclass.prob', 'rep0_range_75.power_short_t2.endclass.expected_cost', 'rep0_range_75.power_short_t2.endclass.in_bound', 'rep0_range_75.power_short_t2.endclass.at_finish', 'rep0_range_75.power_short_t2.endclass.line_dist', 'rep0_range_75.power_short_t2.endclass.num_modes', 'rep0_range_75.power_short_t2.endclass.end_dist', 'rep0_range_75.power_short_t2.endclass.tot_deviation', 'rep0_range_75.power_short_t2.endclass.faults', 'rep0_range_75.power_short_t2.endclass.classification', 'rep0_range_75.power_short_t2.endclass.end_x', 'rep0_range_75.power_short_t2.endclass.end_y', 'rep0_range_75.power_short_t2.endclass.endpt', 'rep0_range_75.nominal.endclass.rate', 'rep0_range_75.nominal.endclass.cost', 'rep0_range_75.nominal.endclass.prob', 'rep0_range_75.nominal.endclass.expected_cost', 'rep0_range_75.nominal.endclass.in_bound', 'rep0_range_75.nominal.endclass.at_finish', 'rep0_range_75.nominal.endclass.line_dist', 'rep0_range_75.nominal.endclass.num_modes', 'rep0_range_75.nominal.endclass.end_dist', 'rep0_range_75.nominal.endclass.tot_deviation', 'rep0_range_75.nominal.endclass.faults', 'rep0_range_75.nominal.endclass.classification', 'rep0_range_75.nominal.endclass.end_x', 'rep0_range_75.nominal.endclass.end_y', 'rep0_range_75.nominal.endclass.endpt', 'rep0_range_76.power_no_charge_t1.endclass.rate', 'rep0_range_76.power_no_charge_t1.endclass.cost', 'rep0_range_76.power_no_charge_t1.endclass.prob', 'rep0_range_76.power_no_charge_t1.endclass.expected_cost', 'rep0_range_76.power_no_charge_t1.endclass.in_bound', 'rep0_range_76.power_no_charge_t1.endclass.at_finish', 'rep0_range_76.power_no_charge_t1.endclass.line_dist', 'rep0_range_76.power_no_charge_t1.endclass.num_modes', 'rep0_range_76.power_no_charge_t1.endclass.end_dist', 'rep0_range_76.power_no_charge_t1.endclass.tot_deviation', 'rep0_range_76.power_no_charge_t1.endclass.faults', 'rep0_range_76.power_no_charge_t1.endclass.classification', 'rep0_range_76.power_no_charge_t1.endclass.end_x', 'rep0_range_76.power_no_charge_t1.endclass.end_y', 'rep0_range_76.power_no_charge_t1.endclass.endpt', 'rep0_range_76.power_no_charge_t2.endclass.rate', 'rep0_range_76.power_no_charge_t2.endclass.cost', 'rep0_range_76.power_no_charge_t2.endclass.prob', 'rep0_range_76.power_no_charge_t2.endclass.expected_cost', 'rep0_range_76.power_no_charge_t2.endclass.in_bound', 'rep0_range_76.power_no_charge_t2.endclass.at_finish', 'rep0_range_76.power_no_charge_t2.endclass.line_dist', 'rep0_range_76.power_no_charge_t2.endclass.num_modes', 'rep0_range_76.power_no_charge_t2.endclass.end_dist', 'rep0_range_76.power_no_charge_t2.endclass.tot_deviation', 'rep0_range_76.power_no_charge_t2.endclass.faults', 'rep0_range_76.power_no_charge_t2.endclass.classification', 'rep0_range_76.power_no_charge_t2.endclass.end_x', 'rep0_range_76.power_no_charge_t2.endclass.end_y', 'rep0_range_76.power_no_charge_t2.endclass.endpt', 'rep0_range_76.power_short_t1.endclass.rate', 'rep0_range_76.power_short_t1.endclass.cost', 'rep0_range_76.power_short_t1.endclass.prob', 'rep0_range_76.power_short_t1.endclass.expected_cost', 'rep0_range_76.power_short_t1.endclass.in_bound', 'rep0_range_76.power_short_t1.endclass.at_finish', 'rep0_range_76.power_short_t1.endclass.line_dist', 'rep0_range_76.power_short_t1.endclass.num_modes', 'rep0_range_76.power_short_t1.endclass.end_dist', 'rep0_range_76.power_short_t1.endclass.tot_deviation', 'rep0_range_76.power_short_t1.endclass.faults', 'rep0_range_76.power_short_t1.endclass.classification', 'rep0_range_76.power_short_t1.endclass.end_x', 'rep0_range_76.power_short_t1.endclass.end_y', 'rep0_range_76.power_short_t1.endclass.endpt', 'rep0_range_76.power_short_t2.endclass.rate', 'rep0_range_76.power_short_t2.endclass.cost', 'rep0_range_76.power_short_t2.endclass.prob', 'rep0_range_76.power_short_t2.endclass.expected_cost', 'rep0_range_76.power_short_t2.endclass.in_bound', 'rep0_range_76.power_short_t2.endclass.at_finish', 'rep0_range_76.power_short_t2.endclass.line_dist', 'rep0_range_76.power_short_t2.endclass.num_modes', 'rep0_range_76.power_short_t2.endclass.end_dist', 'rep0_range_76.power_short_t2.endclass.tot_deviation', 'rep0_range_76.power_short_t2.endclass.faults', 'rep0_range_76.power_short_t2.endclass.classification', 'rep0_range_76.power_short_t2.endclass.end_x', 'rep0_range_76.power_short_t2.endclass.end_y', 'rep0_range_76.power_short_t2.endclass.endpt', 'rep0_range_76.nominal.endclass.rate', 'rep0_range_76.nominal.endclass.cost', 'rep0_range_76.nominal.endclass.prob', 'rep0_range_76.nominal.endclass.expected_cost', 'rep0_range_76.nominal.endclass.in_bound', 'rep0_range_76.nominal.endclass.at_finish', 'rep0_range_76.nominal.endclass.line_dist', 'rep0_range_76.nominal.endclass.num_modes', 'rep0_range_76.nominal.endclass.end_dist', 'rep0_range_76.nominal.endclass.tot_deviation', 'rep0_range_76.nominal.endclass.faults', 'rep0_range_76.nominal.endclass.classification', 'rep0_range_76.nominal.endclass.end_x', 'rep0_range_76.nominal.endclass.end_y', 'rep0_range_76.nominal.endclass.endpt', 'rep0_range_77.power_no_charge_t1.endclass.rate', 'rep0_range_77.power_no_charge_t1.endclass.cost', 'rep0_range_77.power_no_charge_t1.endclass.prob', 'rep0_range_77.power_no_charge_t1.endclass.expected_cost', 'rep0_range_77.power_no_charge_t1.endclass.in_bound', 'rep0_range_77.power_no_charge_t1.endclass.at_finish', 'rep0_range_77.power_no_charge_t1.endclass.line_dist', 'rep0_range_77.power_no_charge_t1.endclass.num_modes', 'rep0_range_77.power_no_charge_t1.endclass.end_dist', 'rep0_range_77.power_no_charge_t1.endclass.tot_deviation', 'rep0_range_77.power_no_charge_t1.endclass.faults', 'rep0_range_77.power_no_charge_t1.endclass.classification', 'rep0_range_77.power_no_charge_t1.endclass.end_x', 'rep0_range_77.power_no_charge_t1.endclass.end_y', 'rep0_range_77.power_no_charge_t1.endclass.endpt', 'rep0_range_77.power_no_charge_t2.endclass.rate', 'rep0_range_77.power_no_charge_t2.endclass.cost', 'rep0_range_77.power_no_charge_t2.endclass.prob', 'rep0_range_77.power_no_charge_t2.endclass.expected_cost', 'rep0_range_77.power_no_charge_t2.endclass.in_bound', 'rep0_range_77.power_no_charge_t2.endclass.at_finish', 'rep0_range_77.power_no_charge_t2.endclass.line_dist', 'rep0_range_77.power_no_charge_t2.endclass.num_modes', 'rep0_range_77.power_no_charge_t2.endclass.end_dist', 'rep0_range_77.power_no_charge_t2.endclass.tot_deviation', 'rep0_range_77.power_no_charge_t2.endclass.faults', 'rep0_range_77.power_no_charge_t2.endclass.classification', 'rep0_range_77.power_no_charge_t2.endclass.end_x', 'rep0_range_77.power_no_charge_t2.endclass.end_y', 'rep0_range_77.power_no_charge_t2.endclass.endpt', 'rep0_range_77.power_short_t1.endclass.rate', 'rep0_range_77.power_short_t1.endclass.cost', 'rep0_range_77.power_short_t1.endclass.prob', 'rep0_range_77.power_short_t1.endclass.expected_cost', 'rep0_range_77.power_short_t1.endclass.in_bound', 'rep0_range_77.power_short_t1.endclass.at_finish', 'rep0_range_77.power_short_t1.endclass.line_dist', 'rep0_range_77.power_short_t1.endclass.num_modes', 'rep0_range_77.power_short_t1.endclass.end_dist', 'rep0_range_77.power_short_t1.endclass.tot_deviation', 'rep0_range_77.power_short_t1.endclass.faults', 'rep0_range_77.power_short_t1.endclass.classification', 'rep0_range_77.power_short_t1.endclass.end_x', 'rep0_range_77.power_short_t1.endclass.end_y', 'rep0_range_77.power_short_t1.endclass.endpt', 'rep0_range_77.power_short_t2.endclass.rate', 'rep0_range_77.power_short_t2.endclass.cost', 'rep0_range_77.power_short_t2.endclass.prob', 'rep0_range_77.power_short_t2.endclass.expected_cost', 'rep0_range_77.power_short_t2.endclass.in_bound', 'rep0_range_77.power_short_t2.endclass.at_finish', 'rep0_range_77.power_short_t2.endclass.line_dist', 'rep0_range_77.power_short_t2.endclass.num_modes', 'rep0_range_77.power_short_t2.endclass.end_dist', 'rep0_range_77.power_short_t2.endclass.tot_deviation', 'rep0_range_77.power_short_t2.endclass.faults', 'rep0_range_77.power_short_t2.endclass.classification', 'rep0_range_77.power_short_t2.endclass.end_x', 'rep0_range_77.power_short_t2.endclass.end_y', 'rep0_range_77.power_short_t2.endclass.endpt', 'rep0_range_77.nominal.endclass.rate', 'rep0_range_77.nominal.endclass.cost', 'rep0_range_77.nominal.endclass.prob', 'rep0_range_77.nominal.endclass.expected_cost', 'rep0_range_77.nominal.endclass.in_bound', 'rep0_range_77.nominal.endclass.at_finish', 'rep0_range_77.nominal.endclass.line_dist', 'rep0_range_77.nominal.endclass.num_modes', 'rep0_range_77.nominal.endclass.end_dist', 'rep0_range_77.nominal.endclass.tot_deviation', 'rep0_range_77.nominal.endclass.faults', 'rep0_range_77.nominal.endclass.classification', 'rep0_range_77.nominal.endclass.end_x', 'rep0_range_77.nominal.endclass.end_y', 'rep0_range_77.nominal.endclass.endpt', 'rep0_range_78.power_no_charge_t1.endclass.rate', 'rep0_range_78.power_no_charge_t1.endclass.cost', 'rep0_range_78.power_no_charge_t1.endclass.prob', 'rep0_range_78.power_no_charge_t1.endclass.expected_cost', 'rep0_range_78.power_no_charge_t1.endclass.in_bound', 'rep0_range_78.power_no_charge_t1.endclass.at_finish', 'rep0_range_78.power_no_charge_t1.endclass.line_dist', 'rep0_range_78.power_no_charge_t1.endclass.num_modes', 'rep0_range_78.power_no_charge_t1.endclass.end_dist', 'rep0_range_78.power_no_charge_t1.endclass.tot_deviation', 'rep0_range_78.power_no_charge_t1.endclass.faults', 'rep0_range_78.power_no_charge_t1.endclass.classification', 'rep0_range_78.power_no_charge_t1.endclass.end_x', 'rep0_range_78.power_no_charge_t1.endclass.end_y', 'rep0_range_78.power_no_charge_t1.endclass.endpt', 'rep0_range_78.power_no_charge_t2.endclass.rate', 'rep0_range_78.power_no_charge_t2.endclass.cost', 'rep0_range_78.power_no_charge_t2.endclass.prob', 'rep0_range_78.power_no_charge_t2.endclass.expected_cost', 'rep0_range_78.power_no_charge_t2.endclass.in_bound', 'rep0_range_78.power_no_charge_t2.endclass.at_finish', 'rep0_range_78.power_no_charge_t2.endclass.line_dist', 'rep0_range_78.power_no_charge_t2.endclass.num_modes', 'rep0_range_78.power_no_charge_t2.endclass.end_dist', 'rep0_range_78.power_no_charge_t2.endclass.tot_deviation', 'rep0_range_78.power_no_charge_t2.endclass.faults', 'rep0_range_78.power_no_charge_t2.endclass.classification', 'rep0_range_78.power_no_charge_t2.endclass.end_x', 'rep0_range_78.power_no_charge_t2.endclass.end_y', 'rep0_range_78.power_no_charge_t2.endclass.endpt', 'rep0_range_78.power_short_t1.endclass.rate', 'rep0_range_78.power_short_t1.endclass.cost', 'rep0_range_78.power_short_t1.endclass.prob', 'rep0_range_78.power_short_t1.endclass.expected_cost', 'rep0_range_78.power_short_t1.endclass.in_bound', 'rep0_range_78.power_short_t1.endclass.at_finish', 'rep0_range_78.power_short_t1.endclass.line_dist', 'rep0_range_78.power_short_t1.endclass.num_modes', 'rep0_range_78.power_short_t1.endclass.end_dist', 'rep0_range_78.power_short_t1.endclass.tot_deviation', 'rep0_range_78.power_short_t1.endclass.faults', 'rep0_range_78.power_short_t1.endclass.classification', 'rep0_range_78.power_short_t1.endclass.end_x', 'rep0_range_78.power_short_t1.endclass.end_y', 'rep0_range_78.power_short_t1.endclass.endpt', 'rep0_range_78.power_short_t2.endclass.rate', 'rep0_range_78.power_short_t2.endclass.cost', 'rep0_range_78.power_short_t2.endclass.prob', 'rep0_range_78.power_short_t2.endclass.expected_cost', 'rep0_range_78.power_short_t2.endclass.in_bound', 'rep0_range_78.power_short_t2.endclass.at_finish', 'rep0_range_78.power_short_t2.endclass.line_dist', 'rep0_range_78.power_short_t2.endclass.num_modes', 'rep0_range_78.power_short_t2.endclass.end_dist', 'rep0_range_78.power_short_t2.endclass.tot_deviation', 'rep0_range_78.power_short_t2.endclass.faults', 'rep0_range_78.power_short_t2.endclass.classification', 'rep0_range_78.power_short_t2.endclass.end_x', 'rep0_range_78.power_short_t2.endclass.end_y', 'rep0_range_78.power_short_t2.endclass.endpt', 'rep0_range_78.nominal.endclass.rate', 'rep0_range_78.nominal.endclass.cost', 'rep0_range_78.nominal.endclass.prob', 'rep0_range_78.nominal.endclass.expected_cost', 'rep0_range_78.nominal.endclass.in_bound', 'rep0_range_78.nominal.endclass.at_finish', 'rep0_range_78.nominal.endclass.line_dist', 'rep0_range_78.nominal.endclass.num_modes', 'rep0_range_78.nominal.endclass.end_dist', 'rep0_range_78.nominal.endclass.tot_deviation', 'rep0_range_78.nominal.endclass.faults', 'rep0_range_78.nominal.endclass.classification', 'rep0_range_78.nominal.endclass.end_x', 'rep0_range_78.nominal.endclass.end_y', 'rep0_range_78.nominal.endclass.endpt', 'rep0_range_79.power_no_charge_t1.endclass.rate', 'rep0_range_79.power_no_charge_t1.endclass.cost', 'rep0_range_79.power_no_charge_t1.endclass.prob', 'rep0_range_79.power_no_charge_t1.endclass.expected_cost', 'rep0_range_79.power_no_charge_t1.endclass.in_bound', 'rep0_range_79.power_no_charge_t1.endclass.at_finish', 'rep0_range_79.power_no_charge_t1.endclass.line_dist', 'rep0_range_79.power_no_charge_t1.endclass.num_modes', 'rep0_range_79.power_no_charge_t1.endclass.end_dist', 'rep0_range_79.power_no_charge_t1.endclass.tot_deviation', 'rep0_range_79.power_no_charge_t1.endclass.faults', 'rep0_range_79.power_no_charge_t1.endclass.classification', 'rep0_range_79.power_no_charge_t1.endclass.end_x', 'rep0_range_79.power_no_charge_t1.endclass.end_y', 'rep0_range_79.power_no_charge_t1.endclass.endpt', 'rep0_range_79.power_no_charge_t2.endclass.rate', 'rep0_range_79.power_no_charge_t2.endclass.cost', 'rep0_range_79.power_no_charge_t2.endclass.prob', 'rep0_range_79.power_no_charge_t2.endclass.expected_cost', 'rep0_range_79.power_no_charge_t2.endclass.in_bound', 'rep0_range_79.power_no_charge_t2.endclass.at_finish', 'rep0_range_79.power_no_charge_t2.endclass.line_dist', 'rep0_range_79.power_no_charge_t2.endclass.num_modes', 'rep0_range_79.power_no_charge_t2.endclass.end_dist', 'rep0_range_79.power_no_charge_t2.endclass.tot_deviation', 'rep0_range_79.power_no_charge_t2.endclass.faults', 'rep0_range_79.power_no_charge_t2.endclass.classification', 'rep0_range_79.power_no_charge_t2.endclass.end_x', 'rep0_range_79.power_no_charge_t2.endclass.end_y', 'rep0_range_79.power_no_charge_t2.endclass.endpt', 'rep0_range_79.power_short_t1.endclass.rate', 'rep0_range_79.power_short_t1.endclass.cost', 'rep0_range_79.power_short_t1.endclass.prob', 'rep0_range_79.power_short_t1.endclass.expected_cost', 'rep0_range_79.power_short_t1.endclass.in_bound', 'rep0_range_79.power_short_t1.endclass.at_finish', 'rep0_range_79.power_short_t1.endclass.line_dist', 'rep0_range_79.power_short_t1.endclass.num_modes', 'rep0_range_79.power_short_t1.endclass.end_dist', 'rep0_range_79.power_short_t1.endclass.tot_deviation', 'rep0_range_79.power_short_t1.endclass.faults', 'rep0_range_79.power_short_t1.endclass.classification', 'rep0_range_79.power_short_t1.endclass.end_x', 'rep0_range_79.power_short_t1.endclass.end_y', 'rep0_range_79.power_short_t1.endclass.endpt', 'rep0_range_79.power_short_t2.endclass.rate', 'rep0_range_79.power_short_t2.endclass.cost', 'rep0_range_79.power_short_t2.endclass.prob', 'rep0_range_79.power_short_t2.endclass.expected_cost', 'rep0_range_79.power_short_t2.endclass.in_bound', 'rep0_range_79.power_short_t2.endclass.at_finish', 'rep0_range_79.power_short_t2.endclass.line_dist', 'rep0_range_79.power_short_t2.endclass.num_modes', 'rep0_range_79.power_short_t2.endclass.end_dist', 'rep0_range_79.power_short_t2.endclass.tot_deviation', 'rep0_range_79.power_short_t2.endclass.faults', 'rep0_range_79.power_short_t2.endclass.classification', 'rep0_range_79.power_short_t2.endclass.end_x', 'rep0_range_79.power_short_t2.endclass.end_y', 'rep0_range_79.power_short_t2.endclass.endpt', 'rep0_range_79.nominal.endclass.rate', 'rep0_range_79.nominal.endclass.cost', 'rep0_range_79.nominal.endclass.prob', 'rep0_range_79.nominal.endclass.expected_cost', 'rep0_range_79.nominal.endclass.in_bound', 'rep0_range_79.nominal.endclass.at_finish', 'rep0_range_79.nominal.endclass.line_dist', 'rep0_range_79.nominal.endclass.num_modes', 'rep0_range_79.nominal.endclass.end_dist', 'rep0_range_79.nominal.endclass.tot_deviation', 'rep0_range_79.nominal.endclass.faults', 'rep0_range_79.nominal.endclass.classification', 'rep0_range_79.nominal.endclass.end_x', 'rep0_range_79.nominal.endclass.end_y', 'rep0_range_79.nominal.endclass.endpt', 'rep0_range_80.power_no_charge_t1.endclass.rate', 'rep0_range_80.power_no_charge_t1.endclass.cost', 'rep0_range_80.power_no_charge_t1.endclass.prob', 'rep0_range_80.power_no_charge_t1.endclass.expected_cost', 'rep0_range_80.power_no_charge_t1.endclass.in_bound', 'rep0_range_80.power_no_charge_t1.endclass.at_finish', 'rep0_range_80.power_no_charge_t1.endclass.line_dist', 'rep0_range_80.power_no_charge_t1.endclass.num_modes', 'rep0_range_80.power_no_charge_t1.endclass.end_dist', 'rep0_range_80.power_no_charge_t1.endclass.tot_deviation', 'rep0_range_80.power_no_charge_t1.endclass.faults', 'rep0_range_80.power_no_charge_t1.endclass.classification', 'rep0_range_80.power_no_charge_t1.endclass.end_x', 'rep0_range_80.power_no_charge_t1.endclass.end_y', 'rep0_range_80.power_no_charge_t1.endclass.endpt', 'rep0_range_80.power_no_charge_t2.endclass.rate', 'rep0_range_80.power_no_charge_t2.endclass.cost', 'rep0_range_80.power_no_charge_t2.endclass.prob', 'rep0_range_80.power_no_charge_t2.endclass.expected_cost', 'rep0_range_80.power_no_charge_t2.endclass.in_bound', 'rep0_range_80.power_no_charge_t2.endclass.at_finish', 'rep0_range_80.power_no_charge_t2.endclass.line_dist', 'rep0_range_80.power_no_charge_t2.endclass.num_modes', 'rep0_range_80.power_no_charge_t2.endclass.end_dist', 'rep0_range_80.power_no_charge_t2.endclass.tot_deviation', 'rep0_range_80.power_no_charge_t2.endclass.faults', 'rep0_range_80.power_no_charge_t2.endclass.classification', 'rep0_range_80.power_no_charge_t2.endclass.end_x', 'rep0_range_80.power_no_charge_t2.endclass.end_y', 'rep0_range_80.power_no_charge_t2.endclass.endpt', 'rep0_range_80.power_short_t1.endclass.rate', 'rep0_range_80.power_short_t1.endclass.cost', 'rep0_range_80.power_short_t1.endclass.prob', 'rep0_range_80.power_short_t1.endclass.expected_cost', 'rep0_range_80.power_short_t1.endclass.in_bound', 'rep0_range_80.power_short_t1.endclass.at_finish', 'rep0_range_80.power_short_t1.endclass.line_dist', 'rep0_range_80.power_short_t1.endclass.num_modes', 'rep0_range_80.power_short_t1.endclass.end_dist', 'rep0_range_80.power_short_t1.endclass.tot_deviation', 'rep0_range_80.power_short_t1.endclass.faults', 'rep0_range_80.power_short_t1.endclass.classification', 'rep0_range_80.power_short_t1.endclass.end_x', 'rep0_range_80.power_short_t1.endclass.end_y', 'rep0_range_80.power_short_t1.endclass.endpt', 'rep0_range_80.power_short_t2.endclass.rate', 'rep0_range_80.power_short_t2.endclass.cost', 'rep0_range_80.power_short_t2.endclass.prob', 'rep0_range_80.power_short_t2.endclass.expected_cost', 'rep0_range_80.power_short_t2.endclass.in_bound', 'rep0_range_80.power_short_t2.endclass.at_finish', 'rep0_range_80.power_short_t2.endclass.line_dist', 'rep0_range_80.power_short_t2.endclass.num_modes', 'rep0_range_80.power_short_t2.endclass.end_dist', 'rep0_range_80.power_short_t2.endclass.tot_deviation', 'rep0_range_80.power_short_t2.endclass.faults', 'rep0_range_80.power_short_t2.endclass.classification', 'rep0_range_80.power_short_t2.endclass.end_x', 'rep0_range_80.power_short_t2.endclass.end_y', 'rep0_range_80.power_short_t2.endclass.endpt', 'rep0_range_80.nominal.endclass.rate', 'rep0_range_80.nominal.endclass.cost', 'rep0_range_80.nominal.endclass.prob', 'rep0_range_80.nominal.endclass.expected_cost', 'rep0_range_80.nominal.endclass.in_bound', 'rep0_range_80.nominal.endclass.at_finish', 'rep0_range_80.nominal.endclass.line_dist', 'rep0_range_80.nominal.endclass.num_modes', 'rep0_range_80.nominal.endclass.end_dist', 'rep0_range_80.nominal.endclass.tot_deviation', 'rep0_range_80.nominal.endclass.faults', 'rep0_range_80.nominal.endclass.classification', 'rep0_range_80.nominal.endclass.end_x', 'rep0_range_80.nominal.endclass.end_y', 'rep0_range_80.nominal.endclass.endpt', 'rep0_range_81.power_no_charge_t1.endclass.rate', 'rep0_range_81.power_no_charge_t1.endclass.cost', 'rep0_range_81.power_no_charge_t1.endclass.prob', 'rep0_range_81.power_no_charge_t1.endclass.expected_cost', 'rep0_range_81.power_no_charge_t1.endclass.in_bound', 'rep0_range_81.power_no_charge_t1.endclass.at_finish', 'rep0_range_81.power_no_charge_t1.endclass.line_dist', 'rep0_range_81.power_no_charge_t1.endclass.num_modes', 'rep0_range_81.power_no_charge_t1.endclass.end_dist', 'rep0_range_81.power_no_charge_t1.endclass.tot_deviation', 'rep0_range_81.power_no_charge_t1.endclass.faults', 'rep0_range_81.power_no_charge_t1.endclass.classification', 'rep0_range_81.power_no_charge_t1.endclass.end_x', 'rep0_range_81.power_no_charge_t1.endclass.end_y', 'rep0_range_81.power_no_charge_t1.endclass.endpt', 'rep0_range_81.power_no_charge_t2.endclass.rate', 'rep0_range_81.power_no_charge_t2.endclass.cost', 'rep0_range_81.power_no_charge_t2.endclass.prob', 'rep0_range_81.power_no_charge_t2.endclass.expected_cost', 'rep0_range_81.power_no_charge_t2.endclass.in_bound', 'rep0_range_81.power_no_charge_t2.endclass.at_finish', 'rep0_range_81.power_no_charge_t2.endclass.line_dist', 'rep0_range_81.power_no_charge_t2.endclass.num_modes', 'rep0_range_81.power_no_charge_t2.endclass.end_dist', 'rep0_range_81.power_no_charge_t2.endclass.tot_deviation', 'rep0_range_81.power_no_charge_t2.endclass.faults', 'rep0_range_81.power_no_charge_t2.endclass.classification', 'rep0_range_81.power_no_charge_t2.endclass.end_x', 'rep0_range_81.power_no_charge_t2.endclass.end_y', 'rep0_range_81.power_no_charge_t2.endclass.endpt', 'rep0_range_81.power_short_t1.endclass.rate', 'rep0_range_81.power_short_t1.endclass.cost', 'rep0_range_81.power_short_t1.endclass.prob', 'rep0_range_81.power_short_t1.endclass.expected_cost', 'rep0_range_81.power_short_t1.endclass.in_bound', 'rep0_range_81.power_short_t1.endclass.at_finish', 'rep0_range_81.power_short_t1.endclass.line_dist', 'rep0_range_81.power_short_t1.endclass.num_modes', 'rep0_range_81.power_short_t1.endclass.end_dist', 'rep0_range_81.power_short_t1.endclass.tot_deviation', 'rep0_range_81.power_short_t1.endclass.faults', 'rep0_range_81.power_short_t1.endclass.classification', 'rep0_range_81.power_short_t1.endclass.end_x', 'rep0_range_81.power_short_t1.endclass.end_y', 'rep0_range_81.power_short_t1.endclass.endpt', 'rep0_range_81.power_short_t2.endclass.rate', 'rep0_range_81.power_short_t2.endclass.cost', 'rep0_range_81.power_short_t2.endclass.prob', 'rep0_range_81.power_short_t2.endclass.expected_cost', 'rep0_range_81.power_short_t2.endclass.in_bound', 'rep0_range_81.power_short_t2.endclass.at_finish', 'rep0_range_81.power_short_t2.endclass.line_dist', 'rep0_range_81.power_short_t2.endclass.num_modes', 'rep0_range_81.power_short_t2.endclass.end_dist', 'rep0_range_81.power_short_t2.endclass.tot_deviation', 'rep0_range_81.power_short_t2.endclass.faults', 'rep0_range_81.power_short_t2.endclass.classification', 'rep0_range_81.power_short_t2.endclass.end_x', 'rep0_range_81.power_short_t2.endclass.end_y', 'rep0_range_81.power_short_t2.endclass.endpt', 'rep0_range_81.nominal.endclass.rate', 'rep0_range_81.nominal.endclass.cost', 'rep0_range_81.nominal.endclass.prob', 'rep0_range_81.nominal.endclass.expected_cost', 'rep0_range_81.nominal.endclass.in_bound', 'rep0_range_81.nominal.endclass.at_finish', 'rep0_range_81.nominal.endclass.line_dist', 'rep0_range_81.nominal.endclass.num_modes', 'rep0_range_81.nominal.endclass.end_dist', 'rep0_range_81.nominal.endclass.tot_deviation', 'rep0_range_81.nominal.endclass.faults', 'rep0_range_81.nominal.endclass.classification', 'rep0_range_81.nominal.endclass.end_x', 'rep0_range_81.nominal.endclass.end_y', 'rep0_range_81.nominal.endclass.endpt', 'rep0_range_82.power_no_charge_t1.endclass.rate', 'rep0_range_82.power_no_charge_t1.endclass.cost', 'rep0_range_82.power_no_charge_t1.endclass.prob', 'rep0_range_82.power_no_charge_t1.endclass.expected_cost', 'rep0_range_82.power_no_charge_t1.endclass.in_bound', 'rep0_range_82.power_no_charge_t1.endclass.at_finish', 'rep0_range_82.power_no_charge_t1.endclass.line_dist', 'rep0_range_82.power_no_charge_t1.endclass.num_modes', 'rep0_range_82.power_no_charge_t1.endclass.end_dist', 'rep0_range_82.power_no_charge_t1.endclass.tot_deviation', 'rep0_range_82.power_no_charge_t1.endclass.faults', 'rep0_range_82.power_no_charge_t1.endclass.classification', 'rep0_range_82.power_no_charge_t1.endclass.end_x', 'rep0_range_82.power_no_charge_t1.endclass.end_y', 'rep0_range_82.power_no_charge_t1.endclass.endpt', 'rep0_range_82.power_no_charge_t2.endclass.rate', 'rep0_range_82.power_no_charge_t2.endclass.cost', 'rep0_range_82.power_no_charge_t2.endclass.prob', 'rep0_range_82.power_no_charge_t2.endclass.expected_cost', 'rep0_range_82.power_no_charge_t2.endclass.in_bound', 'rep0_range_82.power_no_charge_t2.endclass.at_finish', 'rep0_range_82.power_no_charge_t2.endclass.line_dist', 'rep0_range_82.power_no_charge_t2.endclass.num_modes', 'rep0_range_82.power_no_charge_t2.endclass.end_dist', 'rep0_range_82.power_no_charge_t2.endclass.tot_deviation', 'rep0_range_82.power_no_charge_t2.endclass.faults', 'rep0_range_82.power_no_charge_t2.endclass.classification', 'rep0_range_82.power_no_charge_t2.endclass.end_x', 'rep0_range_82.power_no_charge_t2.endclass.end_y', 'rep0_range_82.power_no_charge_t2.endclass.endpt', 'rep0_range_82.power_short_t1.endclass.rate', 'rep0_range_82.power_short_t1.endclass.cost', 'rep0_range_82.power_short_t1.endclass.prob', 'rep0_range_82.power_short_t1.endclass.expected_cost', 'rep0_range_82.power_short_t1.endclass.in_bound', 'rep0_range_82.power_short_t1.endclass.at_finish', 'rep0_range_82.power_short_t1.endclass.line_dist', 'rep0_range_82.power_short_t1.endclass.num_modes', 'rep0_range_82.power_short_t1.endclass.end_dist', 'rep0_range_82.power_short_t1.endclass.tot_deviation', 'rep0_range_82.power_short_t1.endclass.faults', 'rep0_range_82.power_short_t1.endclass.classification', 'rep0_range_82.power_short_t1.endclass.end_x', 'rep0_range_82.power_short_t1.endclass.end_y', 'rep0_range_82.power_short_t1.endclass.endpt', 'rep0_range_82.power_short_t2.endclass.rate', 'rep0_range_82.power_short_t2.endclass.cost', 'rep0_range_82.power_short_t2.endclass.prob', 'rep0_range_82.power_short_t2.endclass.expected_cost', 'rep0_range_82.power_short_t2.endclass.in_bound', 'rep0_range_82.power_short_t2.endclass.at_finish', 'rep0_range_82.power_short_t2.endclass.line_dist', 'rep0_range_82.power_short_t2.endclass.num_modes', 'rep0_range_82.power_short_t2.endclass.end_dist', 'rep0_range_82.power_short_t2.endclass.tot_deviation', 'rep0_range_82.power_short_t2.endclass.faults', 'rep0_range_82.power_short_t2.endclass.classification', 'rep0_range_82.power_short_t2.endclass.end_x', 'rep0_range_82.power_short_t2.endclass.end_y', 'rep0_range_82.power_short_t2.endclass.endpt', 'rep0_range_82.nominal.endclass.rate', 'rep0_range_82.nominal.endclass.cost', 'rep0_range_82.nominal.endclass.prob', 'rep0_range_82.nominal.endclass.expected_cost', 'rep0_range_82.nominal.endclass.in_bound', 'rep0_range_82.nominal.endclass.at_finish', 'rep0_range_82.nominal.endclass.line_dist', 'rep0_range_82.nominal.endclass.num_modes', 'rep0_range_82.nominal.endclass.end_dist', 'rep0_range_82.nominal.endclass.tot_deviation', 'rep0_range_82.nominal.endclass.faults', 'rep0_range_82.nominal.endclass.classification', 'rep0_range_82.nominal.endclass.end_x', 'rep0_range_82.nominal.endclass.end_y', 'rep0_range_82.nominal.endclass.endpt', 'rep0_range_83.power_no_charge_t1.endclass.rate', 'rep0_range_83.power_no_charge_t1.endclass.cost', 'rep0_range_83.power_no_charge_t1.endclass.prob', 'rep0_range_83.power_no_charge_t1.endclass.expected_cost', 'rep0_range_83.power_no_charge_t1.endclass.in_bound', 'rep0_range_83.power_no_charge_t1.endclass.at_finish', 'rep0_range_83.power_no_charge_t1.endclass.line_dist', 'rep0_range_83.power_no_charge_t1.endclass.num_modes', 'rep0_range_83.power_no_charge_t1.endclass.end_dist', 'rep0_range_83.power_no_charge_t1.endclass.tot_deviation', 'rep0_range_83.power_no_charge_t1.endclass.faults', 'rep0_range_83.power_no_charge_t1.endclass.classification', 'rep0_range_83.power_no_charge_t1.endclass.end_x', 'rep0_range_83.power_no_charge_t1.endclass.end_y', 'rep0_range_83.power_no_charge_t1.endclass.endpt', 'rep0_range_83.power_no_charge_t2.endclass.rate', 'rep0_range_83.power_no_charge_t2.endclass.cost', 'rep0_range_83.power_no_charge_t2.endclass.prob', 'rep0_range_83.power_no_charge_t2.endclass.expected_cost', 'rep0_range_83.power_no_charge_t2.endclass.in_bound', 'rep0_range_83.power_no_charge_t2.endclass.at_finish', 'rep0_range_83.power_no_charge_t2.endclass.line_dist', 'rep0_range_83.power_no_charge_t2.endclass.num_modes', 'rep0_range_83.power_no_charge_t2.endclass.end_dist', 'rep0_range_83.power_no_charge_t2.endclass.tot_deviation', 'rep0_range_83.power_no_charge_t2.endclass.faults', 'rep0_range_83.power_no_charge_t2.endclass.classification', 'rep0_range_83.power_no_charge_t2.endclass.end_x', 'rep0_range_83.power_no_charge_t2.endclass.end_y', 'rep0_range_83.power_no_charge_t2.endclass.endpt', 'rep0_range_83.power_short_t1.endclass.rate', 'rep0_range_83.power_short_t1.endclass.cost', 'rep0_range_83.power_short_t1.endclass.prob', 'rep0_range_83.power_short_t1.endclass.expected_cost', 'rep0_range_83.power_short_t1.endclass.in_bound', 'rep0_range_83.power_short_t1.endclass.at_finish', 'rep0_range_83.power_short_t1.endclass.line_dist', 'rep0_range_83.power_short_t1.endclass.num_modes', 'rep0_range_83.power_short_t1.endclass.end_dist', 'rep0_range_83.power_short_t1.endclass.tot_deviation', 'rep0_range_83.power_short_t1.endclass.faults', 'rep0_range_83.power_short_t1.endclass.classification', 'rep0_range_83.power_short_t1.endclass.end_x', 'rep0_range_83.power_short_t1.endclass.end_y', 'rep0_range_83.power_short_t1.endclass.endpt', 'rep0_range_83.power_short_t2.endclass.rate', 'rep0_range_83.power_short_t2.endclass.cost', 'rep0_range_83.power_short_t2.endclass.prob', 'rep0_range_83.power_short_t2.endclass.expected_cost', 'rep0_range_83.power_short_t2.endclass.in_bound', 'rep0_range_83.power_short_t2.endclass.at_finish', 'rep0_range_83.power_short_t2.endclass.line_dist', 'rep0_range_83.power_short_t2.endclass.num_modes', 'rep0_range_83.power_short_t2.endclass.end_dist', 'rep0_range_83.power_short_t2.endclass.tot_deviation', 'rep0_range_83.power_short_t2.endclass.faults', 'rep0_range_83.power_short_t2.endclass.classification', 'rep0_range_83.power_short_t2.endclass.end_x', 'rep0_range_83.power_short_t2.endclass.end_y', 'rep0_range_83.power_short_t2.endclass.endpt', 'rep0_range_83.nominal.endclass.rate', 'rep0_range_83.nominal.endclass.cost', 'rep0_range_83.nominal.endclass.prob', 'rep0_range_83.nominal.endclass.expected_cost', 'rep0_range_83.nominal.endclass.in_bound', 'rep0_range_83.nominal.endclass.at_finish', 'rep0_range_83.nominal.endclass.line_dist', 'rep0_range_83.nominal.endclass.num_modes', 'rep0_range_83.nominal.endclass.end_dist', 'rep0_range_83.nominal.endclass.tot_deviation', 'rep0_range_83.nominal.endclass.faults', 'rep0_range_83.nominal.endclass.classification', 'rep0_range_83.nominal.endclass.end_x', 'rep0_range_83.nominal.endclass.end_y', 'rep0_range_83.nominal.endclass.endpt', 'rep0_range_84.power_no_charge_t1.endclass.rate', 'rep0_range_84.power_no_charge_t1.endclass.cost', 'rep0_range_84.power_no_charge_t1.endclass.prob', 'rep0_range_84.power_no_charge_t1.endclass.expected_cost', 'rep0_range_84.power_no_charge_t1.endclass.in_bound', 'rep0_range_84.power_no_charge_t1.endclass.at_finish', 'rep0_range_84.power_no_charge_t1.endclass.line_dist', 'rep0_range_84.power_no_charge_t1.endclass.num_modes', 'rep0_range_84.power_no_charge_t1.endclass.end_dist', 'rep0_range_84.power_no_charge_t1.endclass.tot_deviation', 'rep0_range_84.power_no_charge_t1.endclass.faults', 'rep0_range_84.power_no_charge_t1.endclass.classification', 'rep0_range_84.power_no_charge_t1.endclass.end_x', 'rep0_range_84.power_no_charge_t1.endclass.end_y', 'rep0_range_84.power_no_charge_t1.endclass.endpt', 'rep0_range_84.power_no_charge_t2.endclass.rate', 'rep0_range_84.power_no_charge_t2.endclass.cost', 'rep0_range_84.power_no_charge_t2.endclass.prob', 'rep0_range_84.power_no_charge_t2.endclass.expected_cost', 'rep0_range_84.power_no_charge_t2.endclass.in_bound', 'rep0_range_84.power_no_charge_t2.endclass.at_finish', 'rep0_range_84.power_no_charge_t2.endclass.line_dist', 'rep0_range_84.power_no_charge_t2.endclass.num_modes', 'rep0_range_84.power_no_charge_t2.endclass.end_dist', 'rep0_range_84.power_no_charge_t2.endclass.tot_deviation', 'rep0_range_84.power_no_charge_t2.endclass.faults', 'rep0_range_84.power_no_charge_t2.endclass.classification', 'rep0_range_84.power_no_charge_t2.endclass.end_x', 'rep0_range_84.power_no_charge_t2.endclass.end_y', 'rep0_range_84.power_no_charge_t2.endclass.endpt', 'rep0_range_84.power_short_t1.endclass.rate', 'rep0_range_84.power_short_t1.endclass.cost', 'rep0_range_84.power_short_t1.endclass.prob', 'rep0_range_84.power_short_t1.endclass.expected_cost', 'rep0_range_84.power_short_t1.endclass.in_bound', 'rep0_range_84.power_short_t1.endclass.at_finish', 'rep0_range_84.power_short_t1.endclass.line_dist', 'rep0_range_84.power_short_t1.endclass.num_modes', 'rep0_range_84.power_short_t1.endclass.end_dist', 'rep0_range_84.power_short_t1.endclass.tot_deviation', 'rep0_range_84.power_short_t1.endclass.faults', 'rep0_range_84.power_short_t1.endclass.classification', 'rep0_range_84.power_short_t1.endclass.end_x', 'rep0_range_84.power_short_t1.endclass.end_y', 'rep0_range_84.power_short_t1.endclass.endpt', 'rep0_range_84.power_short_t2.endclass.rate', 'rep0_range_84.power_short_t2.endclass.cost', 'rep0_range_84.power_short_t2.endclass.prob', 'rep0_range_84.power_short_t2.endclass.expected_cost', 'rep0_range_84.power_short_t2.endclass.in_bound', 'rep0_range_84.power_short_t2.endclass.at_finish', 'rep0_range_84.power_short_t2.endclass.line_dist', 'rep0_range_84.power_short_t2.endclass.num_modes', 'rep0_range_84.power_short_t2.endclass.end_dist', 'rep0_range_84.power_short_t2.endclass.tot_deviation', 'rep0_range_84.power_short_t2.endclass.faults', 'rep0_range_84.power_short_t2.endclass.classification', 'rep0_range_84.power_short_t2.endclass.end_x', 'rep0_range_84.power_short_t2.endclass.end_y', 'rep0_range_84.power_short_t2.endclass.endpt', 'rep0_range_84.nominal.endclass.rate', 'rep0_range_84.nominal.endclass.cost', 'rep0_range_84.nominal.endclass.prob', 'rep0_range_84.nominal.endclass.expected_cost', 'rep0_range_84.nominal.endclass.in_bound', 'rep0_range_84.nominal.endclass.at_finish', 'rep0_range_84.nominal.endclass.line_dist', 'rep0_range_84.nominal.endclass.num_modes', 'rep0_range_84.nominal.endclass.end_dist', 'rep0_range_84.nominal.endclass.tot_deviation', 'rep0_range_84.nominal.endclass.faults', 'rep0_range_84.nominal.endclass.classification', 'rep0_range_84.nominal.endclass.end_x', 'rep0_range_84.nominal.endclass.end_y', 'rep0_range_84.nominal.endclass.endpt'])"
      ]
     },
     "execution_count": 22,
     "metadata": {},
     "output_type": "execute_result"
    }
   ],
   "source": [
    "nest_res.keys()"
   ]
  },
  {
   "cell_type": "code",
   "execution_count": 23,
   "metadata": {
    "execution": {
     "iopub.execute_input": "2024-06-12T22:59:27.494549Z",
     "iopub.status.busy": "2024-06-12T22:59:27.494549Z",
     "iopub.status.idle": "2024-06-12T22:59:27.501934Z",
     "shell.execute_reply": "2024-06-12T22:59:27.501934Z"
    }
   },
   "outputs": [
    {
     "data": {
      "text/plain": [
       "{'rep0_range_0': SampleApproach for rover with: \n",
       "  faultdomains: power\n",
       "  faultsamples: power,\n",
       " 'rep0_range_1': SampleApproach for rover with: \n",
       "  faultdomains: power\n",
       "  faultsamples: power,\n",
       " 'rep0_range_2': SampleApproach for rover with: \n",
       "  faultdomains: power\n",
       "  faultsamples: power,\n",
       " 'rep0_range_3': SampleApproach for rover with: \n",
       "  faultdomains: power\n",
       "  faultsamples: power,\n",
       " 'rep0_range_4': SampleApproach for rover with: \n",
       "  faultdomains: power\n",
       "  faultsamples: power,\n",
       " 'rep0_range_5': SampleApproach for rover with: \n",
       "  faultdomains: power\n",
       "  faultsamples: power,\n",
       " 'rep0_range_6': SampleApproach for rover with: \n",
       "  faultdomains: power\n",
       "  faultsamples: power,\n",
       " 'rep0_range_7': SampleApproach for rover with: \n",
       "  faultdomains: power\n",
       "  faultsamples: power,\n",
       " 'rep0_range_8': SampleApproach for rover with: \n",
       "  faultdomains: power\n",
       "  faultsamples: power,\n",
       " 'rep0_range_9': SampleApproach for rover with: \n",
       "  faultdomains: power\n",
       "  faultsamples: power,\n",
       " 'rep0_range_10': SampleApproach for rover with: \n",
       "  faultdomains: power\n",
       "  faultsamples: power,\n",
       " 'rep0_range_11': SampleApproach for rover with: \n",
       "  faultdomains: power\n",
       "  faultsamples: power,\n",
       " 'rep0_range_12': SampleApproach for rover with: \n",
       "  faultdomains: power\n",
       "  faultsamples: power,\n",
       " 'rep0_range_13': SampleApproach for rover with: \n",
       "  faultdomains: power\n",
       "  faultsamples: power,\n",
       " 'rep0_range_14': SampleApproach for rover with: \n",
       "  faultdomains: power\n",
       "  faultsamples: power,\n",
       " 'rep0_range_15': SampleApproach for rover with: \n",
       "  faultdomains: power\n",
       "  faultsamples: power,\n",
       " 'rep0_range_16': SampleApproach for rover with: \n",
       "  faultdomains: power\n",
       "  faultsamples: power,\n",
       " 'rep0_range_17': SampleApproach for rover with: \n",
       "  faultdomains: power\n",
       "  faultsamples: power,\n",
       " 'rep0_range_18': SampleApproach for rover with: \n",
       "  faultdomains: power\n",
       "  faultsamples: power,\n",
       " 'rep0_range_19': SampleApproach for rover with: \n",
       "  faultdomains: power\n",
       "  faultsamples: power,\n",
       " 'rep0_range_20': SampleApproach for rover with: \n",
       "  faultdomains: power\n",
       "  faultsamples: power,\n",
       " 'rep0_range_21': SampleApproach for rover with: \n",
       "  faultdomains: power\n",
       "  faultsamples: power,\n",
       " 'rep0_range_22': SampleApproach for rover with: \n",
       "  faultdomains: power\n",
       "  faultsamples: power,\n",
       " 'rep0_range_23': SampleApproach for rover with: \n",
       "  faultdomains: power\n",
       "  faultsamples: power,\n",
       " 'rep0_range_24': SampleApproach for rover with: \n",
       "  faultdomains: power\n",
       "  faultsamples: power,\n",
       " 'rep0_range_25': SampleApproach for rover with: \n",
       "  faultdomains: power\n",
       "  faultsamples: power,\n",
       " 'rep0_range_26': SampleApproach for rover with: \n",
       "  faultdomains: power\n",
       "  faultsamples: power,\n",
       " 'rep0_range_27': SampleApproach for rover with: \n",
       "  faultdomains: power\n",
       "  faultsamples: power,\n",
       " 'rep0_range_28': SampleApproach for rover with: \n",
       "  faultdomains: power\n",
       "  faultsamples: power,\n",
       " 'rep0_range_29': SampleApproach for rover with: \n",
       "  faultdomains: power\n",
       "  faultsamples: power,\n",
       " 'rep0_range_30': SampleApproach for rover with: \n",
       "  faultdomains: power\n",
       "  faultsamples: power,\n",
       " 'rep0_range_31': SampleApproach for rover with: \n",
       "  faultdomains: power\n",
       "  faultsamples: power,\n",
       " 'rep0_range_32': SampleApproach for rover with: \n",
       "  faultdomains: power\n",
       "  faultsamples: power,\n",
       " 'rep0_range_33': SampleApproach for rover with: \n",
       "  faultdomains: power\n",
       "  faultsamples: power,\n",
       " 'rep0_range_34': SampleApproach for rover with: \n",
       "  faultdomains: power\n",
       "  faultsamples: power,\n",
       " 'rep0_range_35': SampleApproach for rover with: \n",
       "  faultdomains: power\n",
       "  faultsamples: power,\n",
       " 'rep0_range_36': SampleApproach for rover with: \n",
       "  faultdomains: power\n",
       "  faultsamples: power,\n",
       " 'rep0_range_37': SampleApproach for rover with: \n",
       "  faultdomains: power\n",
       "  faultsamples: power,\n",
       " 'rep0_range_38': SampleApproach for rover with: \n",
       "  faultdomains: power\n",
       "  faultsamples: power,\n",
       " 'rep0_range_39': SampleApproach for rover with: \n",
       "  faultdomains: power\n",
       "  faultsamples: power,\n",
       " 'rep0_range_40': SampleApproach for rover with: \n",
       "  faultdomains: power\n",
       "  faultsamples: power,\n",
       " 'rep0_range_41': SampleApproach for rover with: \n",
       "  faultdomains: power\n",
       "  faultsamples: power,\n",
       " 'rep0_range_42': SampleApproach for rover with: \n",
       "  faultdomains: power\n",
       "  faultsamples: power,\n",
       " 'rep0_range_43': SampleApproach for rover with: \n",
       "  faultdomains: power\n",
       "  faultsamples: power,\n",
       " 'rep0_range_44': SampleApproach for rover with: \n",
       "  faultdomains: power\n",
       "  faultsamples: power,\n",
       " 'rep0_range_45': SampleApproach for rover with: \n",
       "  faultdomains: power\n",
       "  faultsamples: power,\n",
       " 'rep0_range_46': SampleApproach for rover with: \n",
       "  faultdomains: power\n",
       "  faultsamples: power,\n",
       " 'rep0_range_47': SampleApproach for rover with: \n",
       "  faultdomains: power\n",
       "  faultsamples: power,\n",
       " 'rep0_range_48': SampleApproach for rover with: \n",
       "  faultdomains: power\n",
       "  faultsamples: power,\n",
       " 'rep0_range_49': SampleApproach for rover with: \n",
       "  faultdomains: power\n",
       "  faultsamples: power,\n",
       " 'rep0_range_50': SampleApproach for rover with: \n",
       "  faultdomains: power\n",
       "  faultsamples: power,\n",
       " 'rep0_range_51': SampleApproach for rover with: \n",
       "  faultdomains: power\n",
       "  faultsamples: power,\n",
       " 'rep0_range_52': SampleApproach for rover with: \n",
       "  faultdomains: power\n",
       "  faultsamples: power,\n",
       " 'rep0_range_53': SampleApproach for rover with: \n",
       "  faultdomains: power\n",
       "  faultsamples: power,\n",
       " 'rep0_range_54': SampleApproach for rover with: \n",
       "  faultdomains: power\n",
       "  faultsamples: power,\n",
       " 'rep0_range_55': SampleApproach for rover with: \n",
       "  faultdomains: power\n",
       "  faultsamples: power,\n",
       " 'rep0_range_56': SampleApproach for rover with: \n",
       "  faultdomains: power\n",
       "  faultsamples: power,\n",
       " 'rep0_range_57': SampleApproach for rover with: \n",
       "  faultdomains: power\n",
       "  faultsamples: power,\n",
       " 'rep0_range_58': SampleApproach for rover with: \n",
       "  faultdomains: power\n",
       "  faultsamples: power,\n",
       " 'rep0_range_59': SampleApproach for rover with: \n",
       "  faultdomains: power\n",
       "  faultsamples: power,\n",
       " 'rep0_range_60': SampleApproach for rover with: \n",
       "  faultdomains: power\n",
       "  faultsamples: power,\n",
       " 'rep0_range_61': SampleApproach for rover with: \n",
       "  faultdomains: power\n",
       "  faultsamples: power,\n",
       " 'rep0_range_62': SampleApproach for rover with: \n",
       "  faultdomains: power\n",
       "  faultsamples: power,\n",
       " 'rep0_range_63': SampleApproach for rover with: \n",
       "  faultdomains: power\n",
       "  faultsamples: power,\n",
       " 'rep0_range_64': SampleApproach for rover with: \n",
       "  faultdomains: power\n",
       "  faultsamples: power,\n",
       " 'rep0_range_65': SampleApproach for rover with: \n",
       "  faultdomains: power\n",
       "  faultsamples: power,\n",
       " 'rep0_range_66': SampleApproach for rover with: \n",
       "  faultdomains: power\n",
       "  faultsamples: power,\n",
       " 'rep0_range_67': SampleApproach for rover with: \n",
       "  faultdomains: power\n",
       "  faultsamples: power,\n",
       " 'rep0_range_68': SampleApproach for rover with: \n",
       "  faultdomains: power\n",
       "  faultsamples: power,\n",
       " 'rep0_range_69': SampleApproach for rover with: \n",
       "  faultdomains: power\n",
       "  faultsamples: power,\n",
       " 'rep0_range_70': SampleApproach for rover with: \n",
       "  faultdomains: power\n",
       "  faultsamples: power,\n",
       " 'rep0_range_71': SampleApproach for rover with: \n",
       "  faultdomains: power\n",
       "  faultsamples: power,\n",
       " 'rep0_range_72': SampleApproach for rover with: \n",
       "  faultdomains: power\n",
       "  faultsamples: power,\n",
       " 'rep0_range_73': SampleApproach for rover with: \n",
       "  faultdomains: power\n",
       "  faultsamples: power,\n",
       " 'rep0_range_74': SampleApproach for rover with: \n",
       "  faultdomains: power\n",
       "  faultsamples: power,\n",
       " 'rep0_range_75': SampleApproach for rover with: \n",
       "  faultdomains: power\n",
       "  faultsamples: power,\n",
       " 'rep0_range_76': SampleApproach for rover with: \n",
       "  faultdomains: power\n",
       "  faultsamples: power,\n",
       " 'rep0_range_77': SampleApproach for rover with: \n",
       "  faultdomains: power\n",
       "  faultsamples: power,\n",
       " 'rep0_range_78': SampleApproach for rover with: \n",
       "  faultdomains: power\n",
       "  faultsamples: power,\n",
       " 'rep0_range_79': SampleApproach for rover with: \n",
       "  faultdomains: power\n",
       "  faultsamples: power,\n",
       " 'rep0_range_80': SampleApproach for rover with: \n",
       "  faultdomains: power\n",
       "  faultsamples: power,\n",
       " 'rep0_range_81': SampleApproach for rover with: \n",
       "  faultdomains: power\n",
       "  faultsamples: power,\n",
       " 'rep0_range_82': SampleApproach for rover with: \n",
       "  faultdomains: power\n",
       "  faultsamples: power,\n",
       " 'rep0_range_83': SampleApproach for rover with: \n",
       "  faultdomains: power\n",
       "  faultsamples: power,\n",
       " 'rep0_range_84': SampleApproach for rover with: \n",
       "  faultdomains: power\n",
       "  faultsamples: power}"
      ]
     },
     "execution_count": 23,
     "metadata": {},
     "output_type": "execute_result"
    }
   ],
   "source": [
    "apps"
   ]
  },
  {
   "cell_type": "markdown",
   "metadata": {},
   "source": [
    "We can now compare the performance of the system over faults using a `NestedComparison`:"
   ]
  },
  {
   "cell_type": "code",
   "execution_count": 24,
   "metadata": {
    "execution": {
     "iopub.execute_input": "2024-06-12T22:59:27.504951Z",
     "iopub.status.busy": "2024-06-12T22:59:27.504951Z",
     "iopub.status.idle": "2024-06-12T22:59:28.821835Z",
     "shell.execute_reply": "2024-06-12T22:59:28.820772Z"
    }
   },
   "outputs": [
    {
     "data": {
      "text/html": [
       "<div>\n",
       "<style scoped>\n",
       "    .dataframe tbody tr th:only-of-type {\n",
       "        vertical-align: middle;\n",
       "    }\n",
       "\n",
       "    .dataframe tbody tr th {\n",
       "        vertical-align: top;\n",
       "    }\n",
       "\n",
       "    .dataframe thead th {\n",
       "        text-align: right;\n",
       "    }\n",
       "</style>\n",
       "<table border=\"1\" class=\"dataframe\">\n",
       "  <thead>\n",
       "    <tr style=\"text-align: right;\">\n",
       "      <th></th>\n",
       "      <th></th>\n",
       "      <th>end_dist</th>\n",
       "      <th>end_dist_lb</th>\n",
       "      <th>end_dist_ub</th>\n",
       "    </tr>\n",
       "  </thead>\n",
       "  <tbody>\n",
       "    <tr>\n",
       "      <th>8.0</th>\n",
       "      <th>40</th>\n",
       "      <td>14.976024</td>\n",
       "      <td>0.000000</td>\n",
       "      <td>29.952048</td>\n",
       "    </tr>\n",
       "    <tr>\n",
       "      <th>7.5</th>\n",
       "      <th>40</th>\n",
       "      <td>14.913633</td>\n",
       "      <td>0.000000</td>\n",
       "      <td>29.827266</td>\n",
       "    </tr>\n",
       "    <tr>\n",
       "      <th>7.0</th>\n",
       "      <th>40</th>\n",
       "      <td>14.854427</td>\n",
       "      <td>0.000000</td>\n",
       "      <td>29.708854</td>\n",
       "    </tr>\n",
       "    <tr>\n",
       "      <th>6.5</th>\n",
       "      <th>40</th>\n",
       "      <td>14.799179</td>\n",
       "      <td>0.000000</td>\n",
       "      <td>29.598357</td>\n",
       "    </tr>\n",
       "    <tr>\n",
       "      <th>6.0</th>\n",
       "      <th>40</th>\n",
       "      <td>14.747961</td>\n",
       "      <td>0.000000</td>\n",
       "      <td>29.495921</td>\n",
       "    </tr>\n",
       "    <tr>\n",
       "      <th>...</th>\n",
       "      <th>...</th>\n",
       "      <td>...</td>\n",
       "      <td>...</td>\n",
       "      <td>...</td>\n",
       "    </tr>\n",
       "    <tr>\n",
       "      <th rowspan=\"3\" valign=\"top\">0.0</th>\n",
       "      <th>10</th>\n",
       "      <td>14.450000</td>\n",
       "      <td>0.000000</td>\n",
       "      <td>28.900000</td>\n",
       "    </tr>\n",
       "    <tr>\n",
       "      <th>30</th>\n",
       "      <td>14.450000</td>\n",
       "      <td>0.000000</td>\n",
       "      <td>28.900000</td>\n",
       "    </tr>\n",
       "    <tr>\n",
       "      <th>50</th>\n",
       "      <td>14.450000</td>\n",
       "      <td>0.000000</td>\n",
       "      <td>28.900000</td>\n",
       "    </tr>\n",
       "    <tr>\n",
       "      <th>7.5</th>\n",
       "      <th>10</th>\n",
       "      <td>28.002385</td>\n",
       "      <td>27.100934</td>\n",
       "      <td>28.453111</td>\n",
       "    </tr>\n",
       "    <tr>\n",
       "      <th>7.0</th>\n",
       "      <th>10</th>\n",
       "      <td>27.863240</td>\n",
       "      <td>26.823138</td>\n",
       "      <td>28.383291</td>\n",
       "    </tr>\n",
       "  </tbody>\n",
       "</table>\n",
       "<p>85 rows × 3 columns</p>\n",
       "</div>"
      ],
      "text/plain": [
       "         end_dist  end_dist_lb  end_dist_ub\n",
       "8.0 40  14.976024     0.000000    29.952048\n",
       "7.5 40  14.913633     0.000000    29.827266\n",
       "7.0 40  14.854427     0.000000    29.708854\n",
       "6.5 40  14.799179     0.000000    29.598357\n",
       "6.0 40  14.747961     0.000000    29.495921\n",
       "...           ...          ...          ...\n",
       "0.0 10  14.450000     0.000000    28.900000\n",
       "    30  14.450000     0.000000    28.900000\n",
       "    50  14.450000     0.000000    28.900000\n",
       "7.5 10  28.002385    27.100934    28.453111\n",
       "7.0 10  27.863240    26.823138    28.383291\n",
       "\n",
       "[85 rows x 3 columns]"
      ]
     },
     "execution_count": 24,
     "metadata": {},
     "output_type": "execute_result"
    }
   ],
   "source": [
    "import numpy as np\n",
    "from fmdtools.analyze.tabulate import NestedComparison\n",
    "\n",
    "n_comp = NestedComparison(nest_res, ps_sine, ['p.ground.amp', 'p.ground.period'], apps, [], #['fault'],\n",
    "                          metrics=['end_dist'], default_stat=np.mean, ci_metrics=['end_dist'])\n",
    "\n",
    "n_comp.as_table()"
   ]
  },
  {
   "cell_type": "code",
   "execution_count": 25,
   "metadata": {
    "execution": {
     "iopub.execute_input": "2024-06-12T22:59:28.824963Z",
     "iopub.status.busy": "2024-06-12T22:59:28.824963Z",
     "iopub.status.idle": "2024-06-12T22:59:29.276454Z",
     "shell.execute_reply": "2024-06-12T22:59:29.276454Z"
    }
   },
   "outputs": [
    {
     "data": {
      "text/plain": [
       "(<Figure size 2000x300 with 1 Axes>, <Axes: xlabel='p.ground.amp'>)"
      ]
     },
     "execution_count": 25,
     "metadata": {},
     "output_type": "execute_result"
    },
    {
     "data": {
      "image/png": "[encoded data removed]",
      "text/plain": [
       "<Figure size 2000x300 with 1 Axes>"
      ]
     },
     "metadata": {},
     "output_type": "display_data"
    }
   ],
   "source": [
    "n_comp.sort_by_factor(\"p.ground.period\", reverse=True)\n",
    "n_comp.sort_by_factor(\"p.ground.amp\")\n",
    "n_comp.as_plot(\"end_dist\", color_factor=\"p.ground.period\", figsize=(20,3))"
   ]
  },
  {
   "cell_type": "markdown",
   "metadata": {},
   "source": [
    "This is of course consistent with the nominal case, with a higher average in all cases, since fault modes inherently deviate the trajectory.\n",
    "\n",
    "Also note the wide error bars on the fault plot--this is again because individual fault modes have a substantial impact on the trajectory (and we are only sampling a few scenarios for the bootstrap)"
   ]
  },
  {
   "cell_type": "code",
   "execution_count": 26,
   "metadata": {
    "execution": {
     "iopub.execute_input": "2024-06-12T22:59:29.279956Z",
     "iopub.status.busy": "2024-06-12T22:59:29.279956Z",
     "iopub.status.idle": "2024-06-12T22:59:29.798863Z",
     "shell.execute_reply": "2024-06-12T22:59:29.797798Z"
    }
   },
   "outputs": [
    {
     "data": {
      "image/png": "[encoded data removed]",
      "text/plain": [
       "<Figure size 2000x300 with 1 Axes>"
      ]
     },
     "metadata": {},
     "output_type": "display_data"
    }
   ],
   "source": [
    "fig, ax = comp.as_plot(\"end_dist\", color_factor = \"p.ground.period\", figsize=(20, 3))"
   ]
  },
  {
   "cell_type": "code",
   "execution_count": null,
   "metadata": {},
   "outputs": [],
   "source": []
  },
  {
   "cell_type": "code",
   "execution_count": null,
   "metadata": {},
   "outputs": [],
   "source": []
  }
 ],
 "metadata": {
  "kernelspec": {
   "display_name": "Python 3 (ipykernel)",
   "language": "python",
   "name": "python3"
  },
  "language_info": {
   "codemirror_mode": {
    "name": "ipython",
    "version": 3
   },
   "file_extension": ".py",
   "mimetype": "text/x-python",
   "name": "python",
   "nbconvert_exporter": "python",
   "pygments_lexer": "ipython3",
   "version": "3.11.9"
  }
 },
 "nbformat": 4,
 "nbformat_minor": 4
}
