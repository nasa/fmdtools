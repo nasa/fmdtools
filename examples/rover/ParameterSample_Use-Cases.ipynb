{
 "cells": [
  {
   "attachments": {},
   "cell_type": "markdown",
   "metadata": {},
   "source": [
    "# Defining Parameter Samples in fmdtools\n",
    "\n",
    "Parameter Samples are used to evaluate the performance of a model over a set of input parameters. It can then be used to do things like:\n",
    "- define/understand the operational envelope for different system parameters (i.e., what inputs can the system safely encounter)\n",
    "- quantify failure probabilities given stochastic inputs (i.e., if the statistical distribution of inputs are known, what is the resulting probability of hazards given the design)"
   ]
  },
  {
   "cell_type": "code",
   "execution_count": 1,
   "metadata": {
    "execution": {
     "iopub.execute_input": "2024-01-08T23:01:53.691888Z",
     "iopub.status.busy": "2024-01-08T23:01:53.690892Z",
     "iopub.status.idle": "2024-01-08T23:01:54.974043Z",
     "shell.execute_reply": "2024-01-08T23:01:54.974043Z"
    }
   },
   "outputs": [],
   "source": [
    "import fmdtools.sim.propagate as prop\n",
    "import inspect"
   ]
  },
  {
   "cell_type": "markdown",
   "metadata": {},
   "source": [
    "The rover model (`rover_model.py`) from the examples module will be used to demonstrate this approach. The main task of the rover is to follow a given line from a starting location to an ending location. "
   ]
  },
  {
   "cell_type": "code",
   "execution_count": 2,
   "metadata": {
    "execution": {
     "iopub.execute_input": "2024-01-08T23:01:54.977174Z",
     "iopub.status.busy": "2024-01-08T23:01:54.977174Z",
     "iopub.status.idle": "2024-01-08T23:01:54.983558Z",
     "shell.execute_reply": "2024-01-08T23:01:54.983508Z"
    }
   },
   "outputs": [],
   "source": [
    "from rover_model import Rover"
   ]
  },
  {
   "attachments": {},
   "cell_type": "markdown",
   "metadata": {},
   "source": [
    "Additionally, this model has a corresponding `Parameter` class which generates the design parameters of the model given a reduced space of input parameters. "
   ]
  },
  {
   "cell_type": "code",
   "execution_count": 3,
   "metadata": {
    "execution": {
     "iopub.execute_input": "2024-01-08T23:01:54.985636Z",
     "iopub.status.busy": "2024-01-08T23:01:54.985636Z",
     "iopub.status.idle": "2024-01-08T23:01:54.998034Z",
     "shell.execute_reply": "2024-01-08T23:01:54.997981Z"
    }
   },
   "outputs": [
    {
     "name": "stdout",
     "output_type": "stream",
     "text": [
      "class RoverParam(Parameter):\n",
      "    \"\"\"Parameters for rover.\"\"\"\n",
      "\n",
      "    ground: GroundParam = GroundParam()\n",
      "    correction: ResCorrection = ResCorrection()\n",
      "    degradation: DegParam = DegParam()\n",
      "    drive_modes: dict = {\"mode_args\": \"set\"}\n",
      "\n",
      "    def __init__(self, *args, **kwargs):\n",
      "        super().__init__(*args, strict_immutability=False, **kwargs)\n",
      "\n"
     ]
    }
   ],
   "source": [
    "from rover_model import RoverParam\n",
    "print(inspect.getsource(RoverParam))"
   ]
  },
  {
   "cell_type": "markdown",
   "metadata": {},
   "source": [
    "This parameter is in turn made of other parameters:"
   ]
  },
  {
   "cell_type": "code",
   "execution_count": 4,
   "metadata": {
    "execution": {
     "iopub.execute_input": "2024-01-08T23:01:55.000317Z",
     "iopub.status.busy": "2024-01-08T23:01:55.000317Z",
     "iopub.status.idle": "2024-01-08T23:01:55.011447Z",
     "shell.execute_reply": "2024-01-08T23:01:55.011364Z"
    }
   },
   "outputs": [
    {
     "name": "stdout",
     "output_type": "stream",
     "text": [
      "class GroundParam(Parameter):\n",
      "    \"\"\"\n",
      "    Parameter defining line for rover to follow.\n",
      "\n",
      "    Fields\n",
      "    ------\n",
      "    linetype: str\n",
      "        line type (sine or turn)\n",
      "    amp: float\n",
      "        sine amplitude\n",
      "    period: float\n",
      "        sine period\n",
      "    radius: float\n",
      "        turn radius\n",
      "    x_start: float\n",
      "        turn starting x-value\n",
      "    y_end: float\n",
      "        turn y-distance (after turn/radius) before end\n",
      "    x_min: float\n",
      "        minimum x-value for line generation (sine or turn)\n",
      "    x_max: float\n",
      "        maximum x-value for line generation (sine)\n",
      "    x_res: float\n",
      "        resolution for line generation\n",
      "    \"\"\"\n",
      "\n",
      "    linetype: str = 'sine'\n",
      "    linetype_set = (\"sine\", \"turn\")\n",
      "    amp: float = 1.0\n",
      "    period: float = 2 * np.pi\n",
      "    radius: float = 20.0\n",
      "    x_start: float = 10.0\n",
      "    y_end: float = 10.0\n",
      "    x_min: float = 0.0\n",
      "    x_max: float = 30.0\n",
      "    x_res: float = 0.1\n",
      "\n",
      "    def gen_ls_sine(self):\n",
      "        \"\"\"Generate coordinates in sine environment.\"\"\"\n",
      "        ls = tuple([[x, sin_func(x, self.amp, self.period)]\n",
      "                    for x in np.arange(self.x_min, self.x_max, self.x_res)])\n",
      "        return ls\n",
      "\n",
      "    def gen_ls_turn(self):\n",
      "        \"\"\"Generate line coordinates in turn environment.\"\"\"\n",
      "        ls = [[x, turn_func(x, self.radius, self.x_start)]\n",
      "              for x in np.arange(self.x_min, self.radius+self.x_start, self.x_res)]\n",
      "        return tuple(ls)\n",
      "\n",
      "    def gen_ls(self):\n",
      "        \"\"\"Generate line coordinates.\"\"\"\n",
      "        if self.linetype == 'sine':\n",
      "            return self.gen_ls_sine()\n",
      "        elif self.linetype == 'turn':\n",
      "            return self.gen_ls_turn()\n",
      "        else:\n",
      "            raise Exception(\"Invalid line time: \"+self.linetype)\n",
      "\n"
     ]
    }
   ],
   "source": [
    "from rover_model import GroundParam\n",
    "print(inspect.getsource(GroundParam))"
   ]
  },
  {
   "attachments": {},
   "cell_type": "markdown",
   "metadata": {},
   "source": [
    "Below shows the performance of the rover during a (default) turn with a radius of 20 meters that begins at 20 meters. As shown, there is a slight drift from the centerline, but not enough for the rover to get lost (that would take 1 meter of drift)."
   ]
  },
  {
   "cell_type": "code",
   "execution_count": 5,
   "metadata": {
    "execution": {
     "iopub.execute_input": "2024-01-08T23:01:55.013448Z",
     "iopub.status.busy": "2024-01-08T23:01:55.013448Z",
     "iopub.status.idle": "2024-01-08T23:01:55.165086Z",
     "shell.execute_reply": "2024-01-08T23:01:55.165086Z"
    }
   },
   "outputs": [],
   "source": [
    "p = RoverParam(ground=dict(linetype=\"turn\"))\n",
    "mdl = Rover(p=p)\n",
    "results, mdlhist = prop.nominal(mdl)"
   ]
  },
  {
   "cell_type": "code",
   "execution_count": 6,
   "metadata": {
    "execution": {
     "iopub.execute_input": "2024-01-08T23:01:55.167396Z",
     "iopub.status.busy": "2024-01-08T23:01:55.167396Z",
     "iopub.status.idle": "2024-01-08T23:01:55.400479Z",
     "shell.execute_reply": "2024-01-08T23:01:55.399926Z"
    }
   },
   "outputs": [
    {
     "data": {
      "text/plain": [
       "(<Figure size 400x400 with 1 Axes>, <Axes: >)"
      ]
     },
     "execution_count": 6,
     "metadata": {},
     "output_type": "execute_result"
    },
    {
     "data": {
      "image/png": "[encoded data removed]",
      "text/plain": [
       "<Figure size 400x400 with 1 Axes>"
      ]
     },
     "metadata": {},
     "output_type": "display_data"
    }
   ],
   "source": [
    "fig, ax = mdlhist.plot_trajectories(\"flows.pos.s.x\", \"flows.pos.s.y\")\n",
    "mdl.flows['ground'].ga.show(fig=fig, ax=ax)"
   ]
  },
  {
   "attachments": {},
   "cell_type": "markdown",
   "metadata": {},
   "source": [
    "Below shows the performance of the model over a sine wave. As shown, similar to the turn line type, the drift small enough to where the rover completes its mission within acceptable bounds."
   ]
  },
  {
   "cell_type": "code",
   "execution_count": 7,
   "metadata": {
    "execution": {
     "iopub.execute_input": "2024-01-08T23:01:55.402514Z",
     "iopub.status.busy": "2024-01-08T23:01:55.402514Z",
     "iopub.status.idle": "2024-01-08T23:01:55.817679Z",
     "shell.execute_reply": "2024-01-08T23:01:55.817559Z"
    }
   },
   "outputs": [
    {
     "data": {
      "text/plain": [
       "(<Figure size 400x400 with 1 Axes>, <Axes: >)"
      ]
     },
     "execution_count": 7,
     "metadata": {},
     "output_type": "execute_result"
    },
    {
     "data": {
      "image/png": "[encoded data removed]",
      "text/plain": [
       "<Figure size 400x400 with 1 Axes>"
      ]
     },
     "metadata": {},
     "output_type": "display_data"
    }
   ],
   "source": [
    "p = RoverParam(ground=dict(linetype=\"sine\"))\n",
    "mdl = Rover(p=p)\n",
    "results, mdlhist = prop.nominal(mdl)\n",
    "fig, ax = mdlhist.plot_trajectories(\"flows.pos.s.x\", \"flows.pos.s.y\")\n",
    "mdl.flows['ground'].ga.show(fig=fig, ax=ax)"
   ]
  },
  {
   "attachments": {},
   "cell_type": "markdown",
   "metadata": {},
   "source": [
    "The performance of the rover in these situations is dependent on the parameters of the situation (e.g., the radius of the curve and the amplitude of the sine wave). Thus, it is important to define the operational envelope for the system. This can be done using a `ParameterDomain`, which can be used to define ranges of variables to simulate the system under, and a `ParameterSample`, which then samples these ranges."
   ]
  },
  {
   "cell_type": "code",
   "execution_count": 8,
   "metadata": {
    "execution": {
     "iopub.execute_input": "2024-01-08T23:01:55.820741Z",
     "iopub.status.busy": "2024-01-08T23:01:55.819681Z",
     "iopub.status.idle": "2024-01-08T23:01:55.832870Z",
     "shell.execute_reply": "2024-01-08T23:01:55.832870Z"
    }
   },
   "outputs": [],
   "source": [
    "from fmdtools.sim.sample import ParameterDomain, ParameterSample"
   ]
  },
  {
   "attachments": {},
   "cell_type": "markdown",
   "metadata": {},
   "source": [
    "In this approach we define a parameter domain for the sine wave scenario.\n",
    "\n",
    "Here we specify the linetype as sine (As a constant) and then add the variables \"amp\" and \"period\" which we will then sample:"
   ]
  },
  {
   "cell_type": "code",
   "execution_count": 9,
   "metadata": {
    "execution": {
     "iopub.execute_input": "2024-01-08T23:01:55.835486Z",
     "iopub.status.busy": "2024-01-08T23:01:55.835486Z",
     "iopub.status.idle": "2024-01-08T23:01:55.850770Z",
     "shell.execute_reply": "2024-01-08T23:01:55.850770Z"
    }
   },
   "outputs": [
    {
     "data": {
      "text/plain": [
       "ParameterDomain with:\n",
       " - variables: {'ground.amp': (0, 8), 'ground.period': (10, 50)}\n",
       " - constants: {'ground.linetype': 'sine'}\n",
       " - parameter_initializer: RoverParam"
      ]
     },
     "execution_count": 9,
     "metadata": {},
     "output_type": "execute_result"
    }
   ],
   "source": [
    "pd_sine = ParameterDomain(RoverParam)\n",
    "pd_sine.add_constant(\"ground.linetype\", \"sine\")\n",
    "pd_sine.add_variables(\"ground.amp\", \"ground.period\", lims={\"ground.amp\":(0, 8), \"ground.period\": (10, 50)})\n",
    "\n",
    "pd_sine"
   ]
  },
  {
   "cell_type": "markdown",
   "metadata": {},
   "source": [
    "These can then be sampled using the `ParameterSample`. \n",
    "\n",
    "Below we specify that we will sample the given variables in combination at certain resolutions:"
   ]
  },
  {
   "cell_type": "code",
   "execution_count": 10,
   "metadata": {
    "execution": {
     "iopub.execute_input": "2024-01-08T23:01:55.853760Z",
     "iopub.status.busy": "2024-01-08T23:01:55.853760Z",
     "iopub.status.idle": "2024-01-08T23:01:55.866999Z",
     "shell.execute_reply": "2024-01-08T23:01:55.866394Z"
    }
   },
   "outputs": [
    {
     "data": {
      "text/plain": [
       "ParameterSample of scenarios:\n",
       " - rep0_range_0\n",
       " - rep0_range_1\n",
       " - rep0_range_2\n",
       " - rep0_range_3\n",
       " - rep0_range_4\n",
       " - rep0_range_5\n",
       " - rep0_range_6\n",
       " - rep0_range_7\n",
       " - rep0_range_8\n",
       " - rep0_range_9\n",
       " - ... (85 total)"
      ]
     },
     "execution_count": 10,
     "metadata": {},
     "output_type": "execute_result"
    }
   ],
   "source": [
    "ps_sine = ParameterSample(pd_sine)\n",
    "ps_sine.add_variable_ranges(comb_kwargs={'resolutions':{'ground.amp': 0.5, \"ground.period\": 10}})\n",
    "\n",
    "ps_sine"
   ]
  },
  {
   "attachments": {},
   "cell_type": "markdown",
   "metadata": {},
   "source": [
    "Notice that the properties of the scenarios are stored in their corresponding `ParameterScenario`s."
   ]
  },
  {
   "cell_type": "code",
   "execution_count": 11,
   "metadata": {
    "execution": {
     "iopub.execute_input": "2024-01-08T23:01:55.868478Z",
     "iopub.status.busy": "2024-01-08T23:01:55.868478Z",
     "iopub.status.idle": "2024-01-08T23:01:55.881359Z",
     "shell.execute_reply": "2024-01-08T23:01:55.881359Z"
    }
   },
   "outputs": [
    {
     "data": {
      "text/plain": [
       "[ParameterScenario(sequence={}, times=(), p={'ground': {'linetype': 'sine', 'amp': 0.0, 'period': 10}}, r={}, sp={}, prob=0.011764705882352941, inputparams=(0.0, 10), rangeid='', name='rep0_range_0'),\n",
       " ParameterScenario(sequence={}, times=(), p={'ground': {'linetype': 'sine', 'amp': 0.0, 'period': 20}}, r={}, sp={}, prob=0.011764705882352941, inputparams=(0.0, 20), rangeid='', name='rep0_range_1'),\n",
       " ParameterScenario(sequence={}, times=(), p={'ground': {'linetype': 'sine', 'amp': 0.0, 'period': 30}}, r={}, sp={}, prob=0.011764705882352941, inputparams=(0.0, 30), rangeid='', name='rep0_range_2'),\n",
       " ParameterScenario(sequence={}, times=(), p={'ground': {'linetype': 'sine', 'amp': 0.0, 'period': 40}}, r={}, sp={}, prob=0.011764705882352941, inputparams=(0.0, 40), rangeid='', name='rep0_range_3'),\n",
       " ParameterScenario(sequence={}, times=(), p={'ground': {'linetype': 'sine', 'amp': 0.0, 'period': 50}}, r={}, sp={}, prob=0.011764705882352941, inputparams=(0.0, 50), rangeid='', name='rep0_range_4'),\n",
       " ParameterScenario(sequence={}, times=(), p={'ground': {'linetype': 'sine', 'amp': 0.5, 'period': 10}}, r={}, sp={}, prob=0.011764705882352941, inputparams=(0.5, 10), rangeid='', name='rep0_range_5'),\n",
       " ParameterScenario(sequence={}, times=(), p={'ground': {'linetype': 'sine', 'amp': 0.5, 'period': 20}}, r={}, sp={}, prob=0.011764705882352941, inputparams=(0.5, 20), rangeid='', name='rep0_range_6'),\n",
       " ParameterScenario(sequence={}, times=(), p={'ground': {'linetype': 'sine', 'amp': 0.5, 'period': 30}}, r={}, sp={}, prob=0.011764705882352941, inputparams=(0.5, 30), rangeid='', name='rep0_range_7'),\n",
       " ParameterScenario(sequence={}, times=(), p={'ground': {'linetype': 'sine', 'amp': 0.5, 'period': 40}}, r={}, sp={}, prob=0.011764705882352941, inputparams=(0.5, 40), rangeid='', name='rep0_range_8'),\n",
       " ParameterScenario(sequence={}, times=(), p={'ground': {'linetype': 'sine', 'amp': 0.5, 'period': 50}}, r={}, sp={}, prob=0.011764705882352941, inputparams=(0.5, 50), rangeid='', name='rep0_range_9'),\n",
       " ParameterScenario(sequence={}, times=(), p={'ground': {'linetype': 'sine', 'amp': 1.0, 'period': 10}}, r={}, sp={}, prob=0.011764705882352941, inputparams=(1.0, 10), rangeid='', name='rep0_range_10'),\n",
       " ParameterScenario(sequence={}, times=(), p={'ground': {'linetype': 'sine', 'amp': 1.0, 'period': 20}}, r={}, sp={}, prob=0.011764705882352941, inputparams=(1.0, 20), rangeid='', name='rep0_range_11'),\n",
       " ParameterScenario(sequence={}, times=(), p={'ground': {'linetype': 'sine', 'amp': 1.0, 'period': 30}}, r={}, sp={}, prob=0.011764705882352941, inputparams=(1.0, 30), rangeid='', name='rep0_range_12'),\n",
       " ParameterScenario(sequence={}, times=(), p={'ground': {'linetype': 'sine', 'amp': 1.0, 'period': 40}}, r={}, sp={}, prob=0.011764705882352941, inputparams=(1.0, 40), rangeid='', name='rep0_range_13'),\n",
       " ParameterScenario(sequence={}, times=(), p={'ground': {'linetype': 'sine', 'amp': 1.0, 'period': 50}}, r={}, sp={}, prob=0.011764705882352941, inputparams=(1.0, 50), rangeid='', name='rep0_range_14'),\n",
       " ParameterScenario(sequence={}, times=(), p={'ground': {'linetype': 'sine', 'amp': 1.5, 'period': 10}}, r={}, sp={}, prob=0.011764705882352941, inputparams=(1.5, 10), rangeid='', name='rep0_range_15'),\n",
       " ParameterScenario(sequence={}, times=(), p={'ground': {'linetype': 'sine', 'amp': 1.5, 'period': 20}}, r={}, sp={}, prob=0.011764705882352941, inputparams=(1.5, 20), rangeid='', name='rep0_range_16'),\n",
       " ParameterScenario(sequence={}, times=(), p={'ground': {'linetype': 'sine', 'amp': 1.5, 'period': 30}}, r={}, sp={}, prob=0.011764705882352941, inputparams=(1.5, 30), rangeid='', name='rep0_range_17'),\n",
       " ParameterScenario(sequence={}, times=(), p={'ground': {'linetype': 'sine', 'amp': 1.5, 'period': 40}}, r={}, sp={}, prob=0.011764705882352941, inputparams=(1.5, 40), rangeid='', name='rep0_range_18'),\n",
       " ParameterScenario(sequence={}, times=(), p={'ground': {'linetype': 'sine', 'amp': 1.5, 'period': 50}}, r={}, sp={}, prob=0.011764705882352941, inputparams=(1.5, 50), rangeid='', name='rep0_range_19'),\n",
       " ParameterScenario(sequence={}, times=(), p={'ground': {'linetype': 'sine', 'amp': 2.0, 'period': 10}}, r={}, sp={}, prob=0.011764705882352941, inputparams=(2.0, 10), rangeid='', name='rep0_range_20'),\n",
       " ParameterScenario(sequence={}, times=(), p={'ground': {'linetype': 'sine', 'amp': 2.0, 'period': 20}}, r={}, sp={}, prob=0.011764705882352941, inputparams=(2.0, 20), rangeid='', name='rep0_range_21'),\n",
       " ParameterScenario(sequence={}, times=(), p={'ground': {'linetype': 'sine', 'amp': 2.0, 'period': 30}}, r={}, sp={}, prob=0.011764705882352941, inputparams=(2.0, 30), rangeid='', name='rep0_range_22'),\n",
       " ParameterScenario(sequence={}, times=(), p={'ground': {'linetype': 'sine', 'amp': 2.0, 'period': 40}}, r={}, sp={}, prob=0.011764705882352941, inputparams=(2.0, 40), rangeid='', name='rep0_range_23'),\n",
       " ParameterScenario(sequence={}, times=(), p={'ground': {'linetype': 'sine', 'amp': 2.0, 'period': 50}}, r={}, sp={}, prob=0.011764705882352941, inputparams=(2.0, 50), rangeid='', name='rep0_range_24'),\n",
       " ParameterScenario(sequence={}, times=(), p={'ground': {'linetype': 'sine', 'amp': 2.5, 'period': 10}}, r={}, sp={}, prob=0.011764705882352941, inputparams=(2.5, 10), rangeid='', name='rep0_range_25'),\n",
       " ParameterScenario(sequence={}, times=(), p={'ground': {'linetype': 'sine', 'amp': 2.5, 'period': 20}}, r={}, sp={}, prob=0.011764705882352941, inputparams=(2.5, 20), rangeid='', name='rep0_range_26'),\n",
       " ParameterScenario(sequence={}, times=(), p={'ground': {'linetype': 'sine', 'amp': 2.5, 'period': 30}}, r={}, sp={}, prob=0.011764705882352941, inputparams=(2.5, 30), rangeid='', name='rep0_range_27'),\n",
       " ParameterScenario(sequence={}, times=(), p={'ground': {'linetype': 'sine', 'amp': 2.5, 'period': 40}}, r={}, sp={}, prob=0.011764705882352941, inputparams=(2.5, 40), rangeid='', name='rep0_range_28'),\n",
       " ParameterScenario(sequence={}, times=(), p={'ground': {'linetype': 'sine', 'amp': 2.5, 'period': 50}}, r={}, sp={}, prob=0.011764705882352941, inputparams=(2.5, 50), rangeid='', name='rep0_range_29'),\n",
       " ParameterScenario(sequence={}, times=(), p={'ground': {'linetype': 'sine', 'amp': 3.0, 'period': 10}}, r={}, sp={}, prob=0.011764705882352941, inputparams=(3.0, 10), rangeid='', name='rep0_range_30'),\n",
       " ParameterScenario(sequence={}, times=(), p={'ground': {'linetype': 'sine', 'amp': 3.0, 'period': 20}}, r={}, sp={}, prob=0.011764705882352941, inputparams=(3.0, 20), rangeid='', name='rep0_range_31'),\n",
       " ParameterScenario(sequence={}, times=(), p={'ground': {'linetype': 'sine', 'amp': 3.0, 'period': 30}}, r={}, sp={}, prob=0.011764705882352941, inputparams=(3.0, 30), rangeid='', name='rep0_range_32'),\n",
       " ParameterScenario(sequence={}, times=(), p={'ground': {'linetype': 'sine', 'amp': 3.0, 'period': 40}}, r={}, sp={}, prob=0.011764705882352941, inputparams=(3.0, 40), rangeid='', name='rep0_range_33'),\n",
       " ParameterScenario(sequence={}, times=(), p={'ground': {'linetype': 'sine', 'amp': 3.0, 'period': 50}}, r={}, sp={}, prob=0.011764705882352941, inputparams=(3.0, 50), rangeid='', name='rep0_range_34'),\n",
       " ParameterScenario(sequence={}, times=(), p={'ground': {'linetype': 'sine', 'amp': 3.5, 'period': 10}}, r={}, sp={}, prob=0.011764705882352941, inputparams=(3.5, 10), rangeid='', name='rep0_range_35'),\n",
       " ParameterScenario(sequence={}, times=(), p={'ground': {'linetype': 'sine', 'amp': 3.5, 'period': 20}}, r={}, sp={}, prob=0.011764705882352941, inputparams=(3.5, 20), rangeid='', name='rep0_range_36'),\n",
       " ParameterScenario(sequence={}, times=(), p={'ground': {'linetype': 'sine', 'amp': 3.5, 'period': 30}}, r={}, sp={}, prob=0.011764705882352941, inputparams=(3.5, 30), rangeid='', name='rep0_range_37'),\n",
       " ParameterScenario(sequence={}, times=(), p={'ground': {'linetype': 'sine', 'amp': 3.5, 'period': 40}}, r={}, sp={}, prob=0.011764705882352941, inputparams=(3.5, 40), rangeid='', name='rep0_range_38'),\n",
       " ParameterScenario(sequence={}, times=(), p={'ground': {'linetype': 'sine', 'amp': 3.5, 'period': 50}}, r={}, sp={}, prob=0.011764705882352941, inputparams=(3.5, 50), rangeid='', name='rep0_range_39'),\n",
       " ParameterScenario(sequence={}, times=(), p={'ground': {'linetype': 'sine', 'amp': 4.0, 'period': 10}}, r={}, sp={}, prob=0.011764705882352941, inputparams=(4.0, 10), rangeid='', name='rep0_range_40'),\n",
       " ParameterScenario(sequence={}, times=(), p={'ground': {'linetype': 'sine', 'amp': 4.0, 'period': 20}}, r={}, sp={}, prob=0.011764705882352941, inputparams=(4.0, 20), rangeid='', name='rep0_range_41'),\n",
       " ParameterScenario(sequence={}, times=(), p={'ground': {'linetype': 'sine', 'amp': 4.0, 'period': 30}}, r={}, sp={}, prob=0.011764705882352941, inputparams=(4.0, 30), rangeid='', name='rep0_range_42'),\n",
       " ParameterScenario(sequence={}, times=(), p={'ground': {'linetype': 'sine', 'amp': 4.0, 'period': 40}}, r={}, sp={}, prob=0.011764705882352941, inputparams=(4.0, 40), rangeid='', name='rep0_range_43'),\n",
       " ParameterScenario(sequence={}, times=(), p={'ground': {'linetype': 'sine', 'amp': 4.0, 'period': 50}}, r={}, sp={}, prob=0.011764705882352941, inputparams=(4.0, 50), rangeid='', name='rep0_range_44'),\n",
       " ParameterScenario(sequence={}, times=(), p={'ground': {'linetype': 'sine', 'amp': 4.5, 'period': 10}}, r={}, sp={}, prob=0.011764705882352941, inputparams=(4.5, 10), rangeid='', name='rep0_range_45'),\n",
       " ParameterScenario(sequence={}, times=(), p={'ground': {'linetype': 'sine', 'amp': 4.5, 'period': 20}}, r={}, sp={}, prob=0.011764705882352941, inputparams=(4.5, 20), rangeid='', name='rep0_range_46'),\n",
       " ParameterScenario(sequence={}, times=(), p={'ground': {'linetype': 'sine', 'amp': 4.5, 'period': 30}}, r={}, sp={}, prob=0.011764705882352941, inputparams=(4.5, 30), rangeid='', name='rep0_range_47'),\n",
       " ParameterScenario(sequence={}, times=(), p={'ground': {'linetype': 'sine', 'amp': 4.5, 'period': 40}}, r={}, sp={}, prob=0.011764705882352941, inputparams=(4.5, 40), rangeid='', name='rep0_range_48'),\n",
       " ParameterScenario(sequence={}, times=(), p={'ground': {'linetype': 'sine', 'amp': 4.5, 'period': 50}}, r={}, sp={}, prob=0.011764705882352941, inputparams=(4.5, 50), rangeid='', name='rep0_range_49'),\n",
       " ParameterScenario(sequence={}, times=(), p={'ground': {'linetype': 'sine', 'amp': 5.0, 'period': 10}}, r={}, sp={}, prob=0.011764705882352941, inputparams=(5.0, 10), rangeid='', name='rep0_range_50'),\n",
       " ParameterScenario(sequence={}, times=(), p={'ground': {'linetype': 'sine', 'amp': 5.0, 'period': 20}}, r={}, sp={}, prob=0.011764705882352941, inputparams=(5.0, 20), rangeid='', name='rep0_range_51'),\n",
       " ParameterScenario(sequence={}, times=(), p={'ground': {'linetype': 'sine', 'amp': 5.0, 'period': 30}}, r={}, sp={}, prob=0.011764705882352941, inputparams=(5.0, 30), rangeid='', name='rep0_range_52'),\n",
       " ParameterScenario(sequence={}, times=(), p={'ground': {'linetype': 'sine', 'amp': 5.0, 'period': 40}}, r={}, sp={}, prob=0.011764705882352941, inputparams=(5.0, 40), rangeid='', name='rep0_range_53'),\n",
       " ParameterScenario(sequence={}, times=(), p={'ground': {'linetype': 'sine', 'amp': 5.0, 'period': 50}}, r={}, sp={}, prob=0.011764705882352941, inputparams=(5.0, 50), rangeid='', name='rep0_range_54'),\n",
       " ParameterScenario(sequence={}, times=(), p={'ground': {'linetype': 'sine', 'amp': 5.5, 'period': 10}}, r={}, sp={}, prob=0.011764705882352941, inputparams=(5.5, 10), rangeid='', name='rep0_range_55'),\n",
       " ParameterScenario(sequence={}, times=(), p={'ground': {'linetype': 'sine', 'amp': 5.5, 'period': 20}}, r={}, sp={}, prob=0.011764705882352941, inputparams=(5.5, 20), rangeid='', name='rep0_range_56'),\n",
       " ParameterScenario(sequence={}, times=(), p={'ground': {'linetype': 'sine', 'amp': 5.5, 'period': 30}}, r={}, sp={}, prob=0.011764705882352941, inputparams=(5.5, 30), rangeid='', name='rep0_range_57'),\n",
       " ParameterScenario(sequence={}, times=(), p={'ground': {'linetype': 'sine', 'amp': 5.5, 'period': 40}}, r={}, sp={}, prob=0.011764705882352941, inputparams=(5.5, 40), rangeid='', name='rep0_range_58'),\n",
       " ParameterScenario(sequence={}, times=(), p={'ground': {'linetype': 'sine', 'amp': 5.5, 'period': 50}}, r={}, sp={}, prob=0.011764705882352941, inputparams=(5.5, 50), rangeid='', name='rep0_range_59'),\n",
       " ParameterScenario(sequence={}, times=(), p={'ground': {'linetype': 'sine', 'amp': 6.0, 'period': 10}}, r={}, sp={}, prob=0.011764705882352941, inputparams=(6.0, 10), rangeid='', name='rep0_range_60'),\n",
       " ParameterScenario(sequence={}, times=(), p={'ground': {'linetype': 'sine', 'amp': 6.0, 'period': 20}}, r={}, sp={}, prob=0.011764705882352941, inputparams=(6.0, 20), rangeid='', name='rep0_range_61'),\n",
       " ParameterScenario(sequence={}, times=(), p={'ground': {'linetype': 'sine', 'amp': 6.0, 'period': 30}}, r={}, sp={}, prob=0.011764705882352941, inputparams=(6.0, 30), rangeid='', name='rep0_range_62'),\n",
       " ParameterScenario(sequence={}, times=(), p={'ground': {'linetype': 'sine', 'amp': 6.0, 'period': 40}}, r={}, sp={}, prob=0.011764705882352941, inputparams=(6.0, 40), rangeid='', name='rep0_range_63'),\n",
       " ParameterScenario(sequence={}, times=(), p={'ground': {'linetype': 'sine', 'amp': 6.0, 'period': 50}}, r={}, sp={}, prob=0.011764705882352941, inputparams=(6.0, 50), rangeid='', name='rep0_range_64'),\n",
       " ParameterScenario(sequence={}, times=(), p={'ground': {'linetype': 'sine', 'amp': 6.5, 'period': 10}}, r={}, sp={}, prob=0.011764705882352941, inputparams=(6.5, 10), rangeid='', name='rep0_range_65'),\n",
       " ParameterScenario(sequence={}, times=(), p={'ground': {'linetype': 'sine', 'amp': 6.5, 'period': 20}}, r={}, sp={}, prob=0.011764705882352941, inputparams=(6.5, 20), rangeid='', name='rep0_range_66'),\n",
       " ParameterScenario(sequence={}, times=(), p={'ground': {'linetype': 'sine', 'amp': 6.5, 'period': 30}}, r={}, sp={}, prob=0.011764705882352941, inputparams=(6.5, 30), rangeid='', name='rep0_range_67'),\n",
       " ParameterScenario(sequence={}, times=(), p={'ground': {'linetype': 'sine', 'amp': 6.5, 'period': 40}}, r={}, sp={}, prob=0.011764705882352941, inputparams=(6.5, 40), rangeid='', name='rep0_range_68'),\n",
       " ParameterScenario(sequence={}, times=(), p={'ground': {'linetype': 'sine', 'amp': 6.5, 'period': 50}}, r={}, sp={}, prob=0.011764705882352941, inputparams=(6.5, 50), rangeid='', name='rep0_range_69'),\n",
       " ParameterScenario(sequence={}, times=(), p={'ground': {'linetype': 'sine', 'amp': 7.0, 'period': 10}}, r={}, sp={}, prob=0.011764705882352941, inputparams=(7.0, 10), rangeid='', name='rep0_range_70'),\n",
       " ParameterScenario(sequence={}, times=(), p={'ground': {'linetype': 'sine', 'amp': 7.0, 'period': 20}}, r={}, sp={}, prob=0.011764705882352941, inputparams=(7.0, 20), rangeid='', name='rep0_range_71'),\n",
       " ParameterScenario(sequence={}, times=(), p={'ground': {'linetype': 'sine', 'amp': 7.0, 'period': 30}}, r={}, sp={}, prob=0.011764705882352941, inputparams=(7.0, 30), rangeid='', name='rep0_range_72'),\n",
       " ParameterScenario(sequence={}, times=(), p={'ground': {'linetype': 'sine', 'amp': 7.0, 'period': 40}}, r={}, sp={}, prob=0.011764705882352941, inputparams=(7.0, 40), rangeid='', name='rep0_range_73'),\n",
       " ParameterScenario(sequence={}, times=(), p={'ground': {'linetype': 'sine', 'amp': 7.0, 'period': 50}}, r={}, sp={}, prob=0.011764705882352941, inputparams=(7.0, 50), rangeid='', name='rep0_range_74'),\n",
       " ParameterScenario(sequence={}, times=(), p={'ground': {'linetype': 'sine', 'amp': 7.5, 'period': 10}}, r={}, sp={}, prob=0.011764705882352941, inputparams=(7.5, 10), rangeid='', name='rep0_range_75'),\n",
       " ParameterScenario(sequence={}, times=(), p={'ground': {'linetype': 'sine', 'amp': 7.5, 'period': 20}}, r={}, sp={}, prob=0.011764705882352941, inputparams=(7.5, 20), rangeid='', name='rep0_range_76'),\n",
       " ParameterScenario(sequence={}, times=(), p={'ground': {'linetype': 'sine', 'amp': 7.5, 'period': 30}}, r={}, sp={}, prob=0.011764705882352941, inputparams=(7.5, 30), rangeid='', name='rep0_range_77'),\n",
       " ParameterScenario(sequence={}, times=(), p={'ground': {'linetype': 'sine', 'amp': 7.5, 'period': 40}}, r={}, sp={}, prob=0.011764705882352941, inputparams=(7.5, 40), rangeid='', name='rep0_range_78'),\n",
       " ParameterScenario(sequence={}, times=(), p={'ground': {'linetype': 'sine', 'amp': 7.5, 'period': 50}}, r={}, sp={}, prob=0.011764705882352941, inputparams=(7.5, 50), rangeid='', name='rep0_range_79'),\n",
       " ParameterScenario(sequence={}, times=(), p={'ground': {'linetype': 'sine', 'amp': 8.0, 'period': 10}}, r={}, sp={}, prob=0.011764705882352941, inputparams=(8.0, 10), rangeid='', name='rep0_range_80'),\n",
       " ParameterScenario(sequence={}, times=(), p={'ground': {'linetype': 'sine', 'amp': 8.0, 'period': 20}}, r={}, sp={}, prob=0.011764705882352941, inputparams=(8.0, 20), rangeid='', name='rep0_range_81'),\n",
       " ParameterScenario(sequence={}, times=(), p={'ground': {'linetype': 'sine', 'amp': 8.0, 'period': 30}}, r={}, sp={}, prob=0.011764705882352941, inputparams=(8.0, 30), rangeid='', name='rep0_range_82'),\n",
       " ParameterScenario(sequence={}, times=(), p={'ground': {'linetype': 'sine', 'amp': 8.0, 'period': 40}}, r={}, sp={}, prob=0.011764705882352941, inputparams=(8.0, 40), rangeid='', name='rep0_range_83'),\n",
       " ParameterScenario(sequence={}, times=(), p={'ground': {'linetype': 'sine', 'amp': 8.0, 'period': 50}}, r={}, sp={}, prob=0.011764705882352941, inputparams=(8.0, 50), rangeid='', name='rep0_range_84')]"
      ]
     },
     "execution_count": 11,
     "metadata": {},
     "output_type": "execute_result"
    }
   ],
   "source": [
    "ps_sine.scenarios()"
   ]
  },
  {
   "attachments": {},
   "cell_type": "markdown",
   "metadata": {},
   "source": [
    "ParameterSamples are sampled using `prop.parameter_sample`:"
   ]
  },
  {
   "cell_type": "code",
   "execution_count": 12,
   "metadata": {
    "execution": {
     "iopub.execute_input": "2024-01-08T23:01:55.884083Z",
     "iopub.status.busy": "2024-01-08T23:01:55.884083Z",
     "iopub.status.idle": "2024-01-08T23:02:10.265864Z",
     "shell.execute_reply": "2024-01-08T23:02:10.265864Z"
    }
   },
   "outputs": [
    {
     "name": "stderr",
     "output_type": "stream",
     "text": [
      "\r",
      "SCENARIOS COMPLETE:   0%|          | 0/85 [00:00<?, ?it/s]"
     ]
    },
    {
     "name": "stderr",
     "output_type": "stream",
     "text": [
      "\r",
      "SCENARIOS COMPLETE:   1%|          | 1/85 [00:00<00:13,  6.09it/s]"
     ]
    },
    {
     "name": "stderr",
     "output_type": "stream",
     "text": [
      "\r",
      "SCENARIOS COMPLETE:   2%|▏         | 2/85 [00:00<00:13,  6.10it/s]"
     ]
    },
    {
     "name": "stderr",
     "output_type": "stream",
     "text": [
      "\r",
      "SCENARIOS COMPLETE:   4%|▎         | 3/85 [00:00<00:13,  6.16it/s]"
     ]
    },
    {
     "name": "stderr",
     "output_type": "stream",
     "text": [
      "\r",
      "SCENARIOS COMPLETE:   5%|▍         | 4/85 [00:00<00:13,  6.19it/s]"
     ]
    },
    {
     "name": "stderr",
     "output_type": "stream",
     "text": [
      "\r",
      "SCENARIOS COMPLETE:   6%|▌         | 5/85 [00:00<00:12,  6.16it/s]"
     ]
    },
    {
     "name": "stderr",
     "output_type": "stream",
     "text": [
      "\r",
      "SCENARIOS COMPLETE:   7%|▋         | 6/85 [00:00<00:13,  5.87it/s]"
     ]
    },
    {
     "name": "stderr",
     "output_type": "stream",
     "text": [
      "\r",
      "SCENARIOS COMPLETE:   8%|▊         | 7/85 [00:01<00:13,  5.77it/s]"
     ]
    },
    {
     "name": "stderr",
     "output_type": "stream",
     "text": [
      "\r",
      "SCENARIOS COMPLETE:   9%|▉         | 8/85 [00:01<00:13,  5.65it/s]"
     ]
    },
    {
     "name": "stderr",
     "output_type": "stream",
     "text": [
      "\r",
      "SCENARIOS COMPLETE:  11%|█         | 9/85 [00:01<00:13,  5.76it/s]"
     ]
    },
    {
     "name": "stderr",
     "output_type": "stream",
     "text": [
      "\r",
      "SCENARIOS COMPLETE:  12%|█▏        | 10/85 [00:01<00:14,  5.26it/s]"
     ]
    },
    {
     "name": "stderr",
     "output_type": "stream",
     "text": [
      "\r",
      "SCENARIOS COMPLETE:  13%|█▎        | 11/85 [00:01<00:13,  5.41it/s]"
     ]
    },
    {
     "name": "stderr",
     "output_type": "stream",
     "text": [
      "\r",
      "SCENARIOS COMPLETE:  14%|█▍        | 12/85 [00:02<00:13,  5.55it/s]"
     ]
    },
    {
     "name": "stderr",
     "output_type": "stream",
     "text": [
      "\r",
      "SCENARIOS COMPLETE:  15%|█▌        | 13/85 [00:02<00:13,  5.45it/s]"
     ]
    },
    {
     "name": "stderr",
     "output_type": "stream",
     "text": [
      "\r",
      "SCENARIOS COMPLETE:  16%|█▋        | 14/85 [00:02<00:12,  5.47it/s]"
     ]
    },
    {
     "name": "stderr",
     "output_type": "stream",
     "text": [
      "\r",
      "SCENARIOS COMPLETE:  18%|█▊        | 15/85 [00:02<00:12,  5.48it/s]"
     ]
    },
    {
     "name": "stderr",
     "output_type": "stream",
     "text": [
      "\r",
      "SCENARIOS COMPLETE:  19%|█▉        | 16/85 [00:02<00:12,  5.51it/s]"
     ]
    },
    {
     "name": "stderr",
     "output_type": "stream",
     "text": [
      "\r",
      "SCENARIOS COMPLETE:  20%|██        | 17/85 [00:03<00:12,  5.55it/s]"
     ]
    },
    {
     "name": "stderr",
     "output_type": "stream",
     "text": [
      "\r",
      "SCENARIOS COMPLETE:  21%|██        | 18/85 [00:03<00:12,  5.50it/s]"
     ]
    },
    {
     "name": "stderr",
     "output_type": "stream",
     "text": [
      "\r",
      "SCENARIOS COMPLETE:  22%|██▏       | 19/85 [00:03<00:12,  5.47it/s]"
     ]
    },
    {
     "name": "stderr",
     "output_type": "stream",
     "text": [
      "\r",
      "SCENARIOS COMPLETE:  24%|██▎       | 20/85 [00:03<00:11,  5.51it/s]"
     ]
    },
    {
     "name": "stderr",
     "output_type": "stream",
     "text": [
      "\r",
      "SCENARIOS COMPLETE:  25%|██▍       | 21/85 [00:03<00:11,  5.50it/s]"
     ]
    },
    {
     "name": "stderr",
     "output_type": "stream",
     "text": [
      "\r",
      "SCENARIOS COMPLETE:  26%|██▌       | 22/85 [00:03<00:11,  5.46it/s]"
     ]
    },
    {
     "name": "stderr",
     "output_type": "stream",
     "text": [
      "\r",
      "SCENARIOS COMPLETE:  27%|██▋       | 23/85 [00:04<00:11,  5.39it/s]"
     ]
    },
    {
     "name": "stderr",
     "output_type": "stream",
     "text": [
      "\r",
      "SCENARIOS COMPLETE:  28%|██▊       | 24/85 [00:04<00:11,  5.40it/s]"
     ]
    },
    {
     "name": "stderr",
     "output_type": "stream",
     "text": [
      "\r",
      "SCENARIOS COMPLETE:  29%|██▉       | 25/85 [00:04<00:11,  5.37it/s]"
     ]
    },
    {
     "name": "stderr",
     "output_type": "stream",
     "text": [
      "\r",
      "SCENARIOS COMPLETE:  31%|███       | 26/85 [00:04<00:10,  5.71it/s]"
     ]
    },
    {
     "name": "stderr",
     "output_type": "stream",
     "text": [
      "\r",
      "SCENARIOS COMPLETE:  32%|███▏      | 27/85 [00:04<00:10,  5.69it/s]"
     ]
    },
    {
     "name": "stderr",
     "output_type": "stream",
     "text": [
      "\r",
      "SCENARIOS COMPLETE:  33%|███▎      | 28/85 [00:04<00:10,  5.63it/s]"
     ]
    },
    {
     "name": "stderr",
     "output_type": "stream",
     "text": [
      "\r",
      "SCENARIOS COMPLETE:  34%|███▍      | 29/85 [00:05<00:10,  5.52it/s]"
     ]
    },
    {
     "name": "stderr",
     "output_type": "stream",
     "text": [
      "\r",
      "SCENARIOS COMPLETE:  35%|███▌      | 30/85 [00:05<00:09,  5.57it/s]"
     ]
    },
    {
     "name": "stderr",
     "output_type": "stream",
     "text": [
      "\r",
      "SCENARIOS COMPLETE:  36%|███▋      | 31/85 [00:05<00:09,  6.00it/s]"
     ]
    },
    {
     "name": "stderr",
     "output_type": "stream",
     "text": [
      "\r",
      "SCENARIOS COMPLETE:  38%|███▊      | 32/85 [00:05<00:09,  5.87it/s]"
     ]
    },
    {
     "name": "stderr",
     "output_type": "stream",
     "text": [
      "\r",
      "SCENARIOS COMPLETE:  39%|███▉      | 33/85 [00:05<00:09,  5.72it/s]"
     ]
    },
    {
     "name": "stderr",
     "output_type": "stream",
     "text": [
      "\r",
      "SCENARIOS COMPLETE:  40%|████      | 34/85 [00:06<00:09,  5.65it/s]"
     ]
    },
    {
     "name": "stderr",
     "output_type": "stream",
     "text": [
      "\r",
      "SCENARIOS COMPLETE:  41%|████      | 35/85 [00:06<00:08,  5.70it/s]"
     ]
    },
    {
     "name": "stderr",
     "output_type": "stream",
     "text": [
      "\r",
      "SCENARIOS COMPLETE:  42%|████▏     | 36/85 [00:06<00:08,  6.09it/s]"
     ]
    },
    {
     "name": "stderr",
     "output_type": "stream",
     "text": [
      "\r",
      "SCENARIOS COMPLETE:  44%|████▎     | 37/85 [00:06<00:08,  5.94it/s]"
     ]
    },
    {
     "name": "stderr",
     "output_type": "stream",
     "text": [
      "\r",
      "SCENARIOS COMPLETE:  45%|████▍     | 38/85 [00:06<00:08,  5.87it/s]"
     ]
    },
    {
     "name": "stderr",
     "output_type": "stream",
     "text": [
      "\r",
      "SCENARIOS COMPLETE:  46%|████▌     | 39/85 [00:06<00:08,  5.74it/s]"
     ]
    },
    {
     "name": "stderr",
     "output_type": "stream",
     "text": [
      "\r",
      "SCENARIOS COMPLETE:  47%|████▋     | 40/85 [00:07<00:07,  5.66it/s]"
     ]
    },
    {
     "name": "stderr",
     "output_type": "stream",
     "text": [
      "\r",
      "SCENARIOS COMPLETE:  48%|████▊     | 41/85 [00:07<00:07,  6.06it/s]"
     ]
    },
    {
     "name": "stderr",
     "output_type": "stream",
     "text": [
      "\r",
      "SCENARIOS COMPLETE:  49%|████▉     | 42/85 [00:07<00:07,  5.96it/s]"
     ]
    },
    {
     "name": "stderr",
     "output_type": "stream",
     "text": [
      "\r",
      "SCENARIOS COMPLETE:  51%|█████     | 43/85 [00:07<00:07,  5.92it/s]"
     ]
    },
    {
     "name": "stderr",
     "output_type": "stream",
     "text": [
      "\r",
      "SCENARIOS COMPLETE:  52%|█████▏    | 44/85 [00:07<00:06,  5.91it/s]"
     ]
    },
    {
     "name": "stderr",
     "output_type": "stream",
     "text": [
      "\r",
      "SCENARIOS COMPLETE:  53%|█████▎    | 45/85 [00:07<00:06,  5.82it/s]"
     ]
    },
    {
     "name": "stderr",
     "output_type": "stream",
     "text": [
      "\r",
      "SCENARIOS COMPLETE:  54%|█████▍    | 46/85 [00:08<00:06,  6.25it/s]"
     ]
    },
    {
     "name": "stderr",
     "output_type": "stream",
     "text": [
      "\r",
      "SCENARIOS COMPLETE:  55%|█████▌    | 47/85 [00:08<00:06,  6.14it/s]"
     ]
    },
    {
     "name": "stderr",
     "output_type": "stream",
     "text": [
      "\r",
      "SCENARIOS COMPLETE:  56%|█████▋    | 48/85 [00:08<00:06,  5.88it/s]"
     ]
    },
    {
     "name": "stderr",
     "output_type": "stream",
     "text": [
      "\r",
      "SCENARIOS COMPLETE:  58%|█████▊    | 49/85 [00:08<00:06,  5.76it/s]"
     ]
    },
    {
     "name": "stderr",
     "output_type": "stream",
     "text": [
      "\r",
      "SCENARIOS COMPLETE:  59%|█████▉    | 50/85 [00:08<00:06,  5.78it/s]"
     ]
    },
    {
     "name": "stderr",
     "output_type": "stream",
     "text": [
      "\r",
      "SCENARIOS COMPLETE:  60%|██████    | 51/85 [00:08<00:05,  6.25it/s]"
     ]
    },
    {
     "name": "stderr",
     "output_type": "stream",
     "text": [
      "\r",
      "SCENARIOS COMPLETE:  61%|██████    | 52/85 [00:09<00:05,  6.49it/s]"
     ]
    },
    {
     "name": "stderr",
     "output_type": "stream",
     "text": [
      "\r",
      "SCENARIOS COMPLETE:  62%|██████▏   | 53/85 [00:09<00:05,  6.20it/s]"
     ]
    },
    {
     "name": "stderr",
     "output_type": "stream",
     "text": [
      "\r",
      "SCENARIOS COMPLETE:  64%|██████▎   | 54/85 [00:09<00:05,  6.09it/s]"
     ]
    },
    {
     "name": "stderr",
     "output_type": "stream",
     "text": [
      "\r",
      "SCENARIOS COMPLETE:  65%|██████▍   | 55/85 [00:09<00:05,  5.91it/s]"
     ]
    },
    {
     "name": "stderr",
     "output_type": "stream",
     "text": [
      "\r",
      "SCENARIOS COMPLETE:  66%|██████▌   | 56/85 [00:09<00:04,  6.35it/s]"
     ]
    },
    {
     "name": "stderr",
     "output_type": "stream",
     "text": [
      "\r",
      "SCENARIOS COMPLETE:  67%|██████▋   | 57/85 [00:09<00:04,  6.57it/s]"
     ]
    },
    {
     "name": "stderr",
     "output_type": "stream",
     "text": [
      "\r",
      "SCENARIOS COMPLETE:  68%|██████▊   | 58/85 [00:09<00:04,  6.22it/s]"
     ]
    },
    {
     "name": "stderr",
     "output_type": "stream",
     "text": [
      "\r",
      "SCENARIOS COMPLETE:  69%|██████▉   | 59/85 [00:10<00:04,  5.92it/s]"
     ]
    },
    {
     "name": "stderr",
     "output_type": "stream",
     "text": [
      "\r",
      "SCENARIOS COMPLETE:  71%|███████   | 60/85 [00:10<00:04,  5.79it/s]"
     ]
    },
    {
     "name": "stderr",
     "output_type": "stream",
     "text": [
      "\r",
      "SCENARIOS COMPLETE:  72%|███████▏  | 61/85 [00:10<00:03,  6.16it/s]"
     ]
    },
    {
     "name": "stderr",
     "output_type": "stream",
     "text": [
      "\r",
      "SCENARIOS COMPLETE:  73%|███████▎  | 62/85 [00:10<00:03,  6.51it/s]"
     ]
    },
    {
     "name": "stderr",
     "output_type": "stream",
     "text": [
      "\r",
      "SCENARIOS COMPLETE:  74%|███████▍  | 63/85 [00:10<00:03,  6.20it/s]"
     ]
    },
    {
     "name": "stderr",
     "output_type": "stream",
     "text": [
      "\r",
      "SCENARIOS COMPLETE:  75%|███████▌  | 64/85 [00:10<00:03,  6.00it/s]"
     ]
    },
    {
     "name": "stderr",
     "output_type": "stream",
     "text": [
      "\r",
      "SCENARIOS COMPLETE:  76%|███████▋  | 65/85 [00:11<00:03,  5.83it/s]"
     ]
    },
    {
     "name": "stderr",
     "output_type": "stream",
     "text": [
      "\r",
      "SCENARIOS COMPLETE:  78%|███████▊  | 66/85 [00:11<00:03,  6.21it/s]"
     ]
    },
    {
     "name": "stderr",
     "output_type": "stream",
     "text": [
      "\r",
      "SCENARIOS COMPLETE:  79%|███████▉  | 67/85 [00:11<00:02,  6.59it/s]"
     ]
    },
    {
     "name": "stderr",
     "output_type": "stream",
     "text": [
      "\r",
      "SCENARIOS COMPLETE:  80%|████████  | 68/85 [00:11<00:02,  6.24it/s]"
     ]
    },
    {
     "name": "stderr",
     "output_type": "stream",
     "text": [
      "\r",
      "SCENARIOS COMPLETE:  81%|████████  | 69/85 [00:11<00:02,  6.03it/s]"
     ]
    },
    {
     "name": "stderr",
     "output_type": "stream",
     "text": [
      "\r",
      "SCENARIOS COMPLETE:  82%|████████▏ | 70/85 [00:11<00:02,  5.97it/s]"
     ]
    },
    {
     "name": "stderr",
     "output_type": "stream",
     "text": [
      "\r",
      "SCENARIOS COMPLETE:  84%|████████▎ | 71/85 [00:12<00:02,  6.30it/s]"
     ]
    },
    {
     "name": "stderr",
     "output_type": "stream",
     "text": [
      "\r",
      "SCENARIOS COMPLETE:  85%|████████▍ | 72/85 [00:12<00:01,  6.66it/s]"
     ]
    },
    {
     "name": "stderr",
     "output_type": "stream",
     "text": [
      "\r",
      "SCENARIOS COMPLETE:  86%|████████▌ | 73/85 [00:12<00:01,  6.34it/s]"
     ]
    },
    {
     "name": "stderr",
     "output_type": "stream",
     "text": [
      "\r",
      "SCENARIOS COMPLETE:  87%|████████▋ | 74/85 [00:12<00:01,  6.09it/s]"
     ]
    },
    {
     "name": "stderr",
     "output_type": "stream",
     "text": [
      "\r",
      "SCENARIOS COMPLETE:  88%|████████▊ | 75/85 [00:12<00:01,  5.97it/s]"
     ]
    },
    {
     "name": "stderr",
     "output_type": "stream",
     "text": [
      "\r",
      "SCENARIOS COMPLETE:  89%|████████▉ | 76/85 [00:12<00:01,  6.39it/s]"
     ]
    },
    {
     "name": "stderr",
     "output_type": "stream",
     "text": [
      "\r",
      "SCENARIOS COMPLETE:  91%|█████████ | 77/85 [00:13<00:01,  6.61it/s]"
     ]
    },
    {
     "name": "stderr",
     "output_type": "stream",
     "text": [
      "\r",
      "SCENARIOS COMPLETE:  92%|█████████▏| 78/85 [00:13<00:01,  6.73it/s]"
     ]
    },
    {
     "name": "stderr",
     "output_type": "stream",
     "text": [
      "\r",
      "SCENARIOS COMPLETE:  93%|█████████▎| 79/85 [00:13<00:00,  6.35it/s]"
     ]
    },
    {
     "name": "stderr",
     "output_type": "stream",
     "text": [
      "\r",
      "SCENARIOS COMPLETE:  94%|█████████▍| 80/85 [00:13<00:00,  6.08it/s]"
     ]
    },
    {
     "name": "stderr",
     "output_type": "stream",
     "text": [
      "\r",
      "SCENARIOS COMPLETE:  95%|█████████▌| 81/85 [00:13<00:00,  6.35it/s]"
     ]
    },
    {
     "name": "stderr",
     "output_type": "stream",
     "text": [
      "\r",
      "SCENARIOS COMPLETE:  96%|█████████▋| 82/85 [00:13<00:00,  6.63it/s]"
     ]
    },
    {
     "name": "stderr",
     "output_type": "stream",
     "text": [
      "\r",
      "SCENARIOS COMPLETE:  98%|█████████▊| 83/85 [00:13<00:00,  6.83it/s]"
     ]
    },
    {
     "name": "stderr",
     "output_type": "stream",
     "text": [
      "\r",
      "SCENARIOS COMPLETE:  99%|█████████▉| 84/85 [00:14<00:00,  6.43it/s]"
     ]
    },
    {
     "name": "stderr",
     "output_type": "stream",
     "text": [
      "\r",
      "SCENARIOS COMPLETE: 100%|██████████| 85/85 [00:14<00:00,  6.10it/s]"
     ]
    },
    {
     "name": "stderr",
     "output_type": "stream",
     "text": [
      "\r",
      "SCENARIOS COMPLETE: 100%|██████████| 85/85 [00:14<00:00,  5.94it/s]"
     ]
    },
    {
     "name": "stderr",
     "output_type": "stream",
     "text": [
      "\n"
     ]
    },
    {
     "data": {
      "text/plain": [
       "rep0_range_0.endclass.rate:          1.0\n",
       "rep0_range_0.endclass.cost:            0\n",
       "rep0_range_0.endclass.prob: 0.011764705882352941\n",
       "rep0_range_0.endclass.expected_cost:   0\n",
       "rep0_range_0.endclass.in_bound:     True\n",
       "rep0_range_0.endclass.at_finish:    True\n",
       "rep0_range_0.endclass.line_dist:       1\n",
       "rep0_range_0.endclass.num_modes:       0\n",
       "rep0_range_0.endclass.end_dist:      0.0\n",
       "rep0_range_0.endclass.tot_deviation: 0.0\n",
       "rep0_range_0.endclass.faults:         {}\n",
       "rep0_range_0.endclass.classification: nominal mission\n",
       "rep0_range_0.endclass.end_x:        29.0\n",
       "rep0_range_0.endclass.end_y:         0.0\n",
       "rep0_range_0.endclass.endpt:    array(2)\n",
       "rep0_range_1.endclass.rate:          1.0\n",
       "rep0_range_1.endclass.cost:            0\n",
       "rep0_range_1.endclass.prob: 0.011764705882352941\n",
       "rep0_range_1.endclass.expected_cost:   0\n",
       "rep0_range_1.endclass.in_bound:     True\n",
       "rep0_range_1.endclass.at_finish:    True\n",
       "rep0_range_1.endclass.line_dist:       1\n",
       "rep0_range_1.endclass.num_modes:       0\n",
       "rep0_range_1.endclass.end_dist:      0.0\n",
       "rep0_range_1.endclass.tot_deviation: 0.0\n",
       "rep0_range_1.endclass.faults:         {}\n",
       "rep0_range_1.endclass.classification: nominal mission\n",
       "rep0_range_1.endclass.end_x:        29.0\n",
       "rep0_range_1.endclass.end_y:         0.0\n",
       "rep0_range_1.endclass.endpt:    array(2)\n",
       "rep0_range_2.endclass.rate:          1.0\n",
       "rep0_range_2.endclass.cost:            0\n",
       "rep0_range_2.endclass.prob: 0.011764705882352941\n",
       "rep0_range_2.endclass.expected_cost:   0\n",
       "rep0_range_2.endclass.in_bound:     True\n",
       "rep0_range_2.endclass.at_finish:    True\n",
       "rep0_range_2.endclass.line_dist:       1\n",
       "rep0_range_2.endclass.num_modes:       0\n",
       "rep0_range_2.endclass.end_dist:      0.0\n",
       "rep0_range_2.endclass.tot_deviation: 0.0\n",
       "rep0_range_2.endclass.faults:         {}\n",
       "rep0_range_2.endclass.classification: nominal mission\n",
       "rep0_range_2.endclass.end_x:        29.0\n",
       "rep0_range_2.endclass.end_y:         0.0\n",
       "rep0_range_2.endclass.endpt:    array(2)\n",
       "rep0_range_3.endclass.rate:          1.0\n",
       "rep0_range_3.endclass.cost:            0\n",
       "rep0_range_3.endclass.prob: 0.011764705882352941\n",
       "rep0_range_3.endclass.expected_cost:   0\n",
       "rep0_range_3.endclass.in_bound:     True\n",
       "rep0_range_3.endclass.at_finish:    True\n",
       "rep0_range_3.endclass.line_dist:       1\n",
       "rep0_range_3.endclass.num_modes:       0\n",
       "rep0_range_3.endclass.end_dist:      0.0\n",
       "rep0_range_3.endclass.tot_deviation: 0.0\n",
       "rep0_range_3.endclass.faults:         {}\n",
       "rep0_range_3.endclass.classification: nominal mission\n",
       "rep0_range_3.endclass.end_x:        29.0\n",
       "rep0_range_3.endclass.end_y:         0.0\n",
       "rep0_range_3.endclass.endpt:    array(2)\n",
       "rep0_range_4.endclass.rate:          1.0\n",
       "rep0_range_4.endclass.cost:            0\n",
       "rep0_range_4.endclass.prob: 0.011764705882352941\n",
       "rep0_range_4.endclass.expected_cost:   0\n",
       "rep0_range_4.endclass.in_bound:     True\n",
       "rep0_range_4.endclass.at_finish:    True\n",
       "rep0_range_4.endclass.line_dist:       1\n",
       "rep0_range_4.endclass.num_modes:       0\n",
       "rep0_range_4.endclass.end_dist:      0.0\n",
       "rep0_range_4.endclass.tot_deviation: 0.0\n",
       "rep0_range_4.endclass.faults:         {}\n",
       "rep0_range_4.endclass.classification: nominal mission\n",
       "rep0_range_4.endclass.end_x:        29.0\n",
       "rep0_range_4.endclass.end_y:         0.0\n",
       "rep0_range_4.endclass.endpt:    array(2)\n",
       "rep0_range_5.endclass.rate:          1.0\n",
       "rep0_range_5.endclass.cost:            0\n",
       "rep0_range_5.endclass.prob: 0.011764705882352941\n",
       "rep0_range_5.endclass.expected_cost:   0\n",
       "rep0_range_5.endclass.in_bound:     True\n",
       "rep0_range_5.endclass.at_finish:    True\n",
       "rep0_range_5.endclass.line_dist:       1\n",
       "rep0_range_5.endclass.num_modes:       0\n",
       "rep0_range_5.endclass.end_dist:      0.0\n",
       "rep0_range_5.endclass.tot_deviation: 0.07938511512082397\n",
       "rep0_range_5.endclass.faults:         {}\n",
       "rep0_range_5.endclass.classification: nominal mission\n",
       "rep0_range_5.endclass.end_x: 28.98239567571418\n",
       "rep0_range_5.endclass.end_y: -0.3278904290295951\n",
       "rep0_range_5.endclass.endpt:    array(2)\n",
       "rep0_range_6.endclass.rate:          1.0\n",
       "rep0_range_6.endclass.cost:            0\n",
       "rep0_range_6.endclass.prob: 0.011764705882352941\n",
       "rep0_range_6.endclass.expected_cost:   0\n",
       "rep0_range_6.endclass.in_bound:     True\n",
       "rep0_range_6.endclass.at_finish:    True\n",
       "rep0_range_6.endclass.line_dist:       1\n",
       "rep0_range_6.endclass.num_modes:       0\n",
       "rep0_range_6.endclass.end_dist:      0.0\n",
       "rep0_range_6.endclass.tot_deviation: 0.01597643798558636\n",
       "rep0_range_6.endclass.faults:         {}\n",
       "rep0_range_6.endclass.classification: nominal mission\n",
       "rep0_range_6.endclass.end_x: 28.99666782931965\n",
       "rep0_range_6.endclass.end_y: 0.16964022270368895\n",
       "rep0_range_6.endclass.endpt:    array(2)\n",
       "rep0_range_7.endclass.rate:          1.0\n",
       "rep0_range_7.endclass.cost:            0\n",
       "rep0_range_7.endclass.prob: 0.011764705882352941\n",
       "rep0_range_7.endclass.expected_cost:   0\n",
       "rep0_range_7.endclass.in_bound:     True\n",
       "rep0_range_7.endclass.at_finish:    True\n",
       "rep0_range_7.endclass.line_dist:       1\n",
       "rep0_range_7.endclass.num_modes:       0\n",
       "rep0_range_7.endclass.end_dist:      0.0\n",
       "rep0_range_7.endclass.tot_deviation: 0.014483015349601851\n",
       "rep0_range_7.endclass.faults:         {}\n",
       "rep0_range_7.endclass.classification: nominal mission\n",
       "rep0_range_7.endclass.end_x: 28.985080988954063\n",
       "rep0_range_7.endclass.end_y: -0.1148458299673761\n",
       "rep0_range_7.endclass.endpt:    array(2)\n",
       "rep0_range_8.endclass.rate:          1.0\n",
       "rep0_range_8.endclass.cost:            0\n",
       "rep0_range_8.endclass.prob: 0.011764705882352941\n",
       "rep0_range_8.endclass.expected_cost:   0\n",
       "rep0_range_8.endclass.in_bound:     True\n",
       "rep0_range_8.endclass.at_finish:    True\n",
       "rep0_range_8.endclass.line_dist:       1\n",
       "rep0_range_8.endclass.num_modes:       0\n",
       "rep0_range_8.endclass.end_dist:      0.0\n",
       "rep0_range_8.endclass.tot_deviation: 0.016761044887508503\n",
       "rep0_range_8.endclass.faults:         {}\n",
       "rep0_range_8.endclass.classification: nominal mission\n",
       "rep0_range_8.endclass.end_x: 29.125052884759747\n",
       "rep0_range_8.endclass.end_y: -0.5074193028322059\n",
       "rep0_range_8.endclass.endpt:    array(2)\n",
       "rep0_range_9.endclass.rate:          1.0\n",
       "rep0_range_9.endclass.cost:            0\n",
       "rep0_range_9.endclass.prob: 0.011764705882352941\n",
       "rep0_range_9.endclass.expected_cost:   0\n",
       "rep0_range_9.endclass.in_bound:     True\n",
       "rep0_range_9.endclass.at_finish:    True\n",
       "rep0_range_9.endclass.line_dist:       1\n",
       "rep0_range_9.endclass.num_modes:       0\n",
       "rep0_range_9.endclass.end_dist:      0.0\n",
       "rep0_range_9.endclass.tot_deviation: 0.01228522632988805\n",
       "rep0_range_9.endclass.faults:         {}\n",
       "rep0_range_9.endclass.classification: nominal mission\n",
       "rep0_range_9.endclass.end_x: 29.20449461325114\n",
       "rep0_range_9.endclass.end_y: -0.2480009138310285\n",
       "rep0_range_9.endclass.endpt:    array(2)\n",
       "rep0_range_10.endclass.rate:         1.0\n",
       "rep0_range_10.endclass.cost:           0\n",
       "rep0_range_10.endclass.prob: 0.011764705882352941\n",
       "rep0_range_10.endclass.expected_cost:  0\n",
       "rep0_range_10.endclass.in_bound:    True\n",
       "rep0_range_10.endclass.at_finish:   True\n",
       "rep0_range_10.endclass.line_dist:      1\n",
       "rep0_range_10.endclass.num_modes:      0\n",
       "rep0_range_10.endclass.end_dist:     0.0\n",
       "rep0_range_10.endclass.tot_deviation: 0.1286905414839801\n",
       "rep0_range_10.endclass.faults:        {}\n",
       "rep0_range_10.endclass.classification: nominal mission\n",
       "rep0_range_10.endclass.end_x: 29.192925377782856\n",
       "rep0_range_10.endclass.end_y: -0.5980118763374519\n",
       "rep0_range_10.endclass.endpt:   array(2)\n",
       "rep0_range_11.endclass.rate:         1.0\n",
       "rep0_range_11.endclass.cost:           0\n",
       "rep0_range_11.endclass.prob: 0.011764705882352941\n",
       "rep0_range_11.endclass.expected_cost:  0\n",
       "rep0_range_11.endclass.in_bound:    True\n",
       "rep0_range_11.endclass.at_finish:   True\n",
       "rep0_range_11.endclass.line_dist:      1\n",
       "rep0_range_11.endclass.num_modes:      0\n",
       "rep0_range_11.endclass.end_dist:     0.0\n",
       "rep0_range_11.endclass.tot_deviation: 0.016243060140341454\n",
       "rep0_range_11.endclass.faults:        {}\n",
       "rep0_range_11.endclass.classification: nominal mission\n",
       "rep0_range_11.endclass.end_x: 29.106368282157625\n",
       "rep0_range_11.endclass.end_y: 0.2825064842745505\n",
       "rep0_range_11.endclass.endpt:   array(2)\n",
       "rep0_range_12.endclass.rate:         1.0\n",
       "rep0_range_12.endclass.cost:           0\n",
       "rep0_range_12.endclass.prob: 0.011764705882352941\n",
       "rep0_range_12.endclass.expected_cost:  0\n",
       "rep0_range_12.endclass.in_bound:    True\n",
       "rep0_range_12.endclass.at_finish:   True\n",
       "rep0_range_12.endclass.line_dist:      1\n",
       "rep0_range_12.endclass.num_modes:      0\n",
       "rep0_range_12.endclass.end_dist:     0.0\n",
       "rep0_range_12.endclass.tot_deviation: 0.022570429487067674\n",
       "rep0_range_12.endclass.faults:        {}\n",
       "rep0_range_12.endclass.classification: nominal mission\n",
       "rep0_range_12.endclass.end_x: 28.972265117689133\n",
       "rep0_range_12.endclass.end_y: -0.22716452386199446\n",
       "rep0_range_12.endclass.endpt:   array(2)\n",
       "rep0_range_13.endclass.rate:         1.0\n",
       "rep0_range_13.endclass.cost:           0\n",
       "rep0_range_13.endclass.prob: 0.011764705882352941\n",
       "rep0_range_13.endclass.expected_cost:  0\n",
       "rep0_range_13.endclass.in_bound:    True\n",
       "rep0_range_13.endclass.at_finish:   True\n",
       "rep0_range_13.endclass.line_dist:      1\n",
       "rep0_range_13.endclass.num_modes:      0\n",
       "rep0_range_13.endclass.end_dist:     0.0\n",
       "rep0_range_13.endclass.tot_deviation: 0.012912154157010762\n",
       "rep0_range_13.endclass.faults:        {}\n",
       "rep0_range_13.endclass.classification: nominal mission\n",
       "rep0_range_13.endclass.end_x: 29.487273033227115\n",
       "rep0_range_13.endclass.end_y: -1.0016940122989169\n",
       "rep0_range_13.endclass.endpt:   array(2)\n",
       "rep0_range_14.endclass.rate:         1.0\n",
       "rep0_range_14.endclass.cost:           0\n",
       "rep0_range_14.endclass.prob: 0.011764705882352941\n",
       "rep0_range_14.endclass.expected_cost:  0\n",
       "rep0_range_14.endclass.in_bound:    True\n",
       "rep0_range_14.endclass.at_finish:   True\n",
       "rep0_range_14.endclass.line_dist:      1\n",
       "rep0_range_14.endclass.num_modes:      0\n",
       "rep0_range_14.endclass.end_dist:     0.0\n",
       "rep0_range_14.endclass.tot_deviation: 0.013435541754276204\n",
       "rep0_range_14.endclass.faults:        {}\n",
       "rep0_range_14.endclass.classification: nominal mission\n",
       "rep0_range_14.endclass.end_x: 29.198898982776793\n",
       "rep0_range_14.endclass.end_y: -0.5151243235449108\n",
       "rep0_range_14.endclass.endpt:   array(2)\n",
       "rep0_range_15.endclass.rate:         1.0\n",
       "rep0_range_15.endclass.cost:           0\n",
       "rep0_range_15.endclass.prob: 0.011764705882352941\n",
       "rep0_range_15.endclass.expected_cost:  0\n",
       "rep0_range_15.endclass.in_bound:   False\n",
       "rep0_range_15.endclass.at_finish:  False\n",
       "rep0_range_15.endclass.line_dist:      1\n",
       "rep0_range_15.endclass.num_modes:      0\n",
       "rep0_range_15.endclass.end_dist: 6.298142532660087\n",
       "rep0_range_15.endclass.tot_deviation: 0.2014145588151497\n",
       "rep0_range_15.endclass.faults:        {}\n",
       "rep0_range_15.endclass.classification: incomplete mission\n",
       "rep0_range_15.endclass.end_x: 22.820532208787583\n",
       "rep0_range_15.endclass.end_y: 1.6739953767826836\n",
       "rep0_range_15.endclass.endpt:   array(2)\n",
       "rep0_range_16.endclass.rate:         1.0\n",
       "rep0_range_16.endclass.cost:           0\n",
       "rep0_range_16.endclass.prob: 0.011764705882352941\n",
       "rep0_range_16.endclass.expected_cost:  0\n",
       "rep0_range_16.endclass.in_bound:    True\n",
       "rep0_range_16.endclass.at_finish:   True\n",
       "rep0_range_16.endclass.line_dist:      1\n",
       "rep0_range_16.endclass.num_modes:      0\n",
       "rep0_range_16.endclass.end_dist:     0.0\n",
       "rep0_range_16.endclass.tot_deviation: 0.037846412605042554\n",
       "rep0_range_16.endclass.faults:        {}\n",
       "rep0_range_16.endclass.classification: nominal mission\n",
       "rep0_range_16.endclass.end_x: 29.228291989607136\n",
       "rep0_range_16.endclass.end_y: 0.3667042576454643\n",
       "rep0_range_16.endclass.endpt:   array(2)\n",
       "rep0_range_17.endclass.rate:         1.0\n",
       "rep0_range_17.endclass.cost:           0\n",
       "rep0_range_17.endclass.prob: 0.011764705882352941\n",
       "rep0_range_17.endclass.expected_cost:  0\n",
       "rep0_range_17.endclass.in_bound:    True\n",
       "rep0_range_17.endclass.at_finish:   True\n",
       "rep0_range_17.endclass.line_dist:      1\n",
       "rep0_range_17.endclass.num_modes:      0\n",
       "rep0_range_17.endclass.end_dist:     0.0\n",
       "rep0_range_17.endclass.tot_deviation: 0.009342437871385018\n",
       "rep0_range_17.endclass.faults:        {}\n",
       "rep0_range_17.endclass.classification: nominal mission\n",
       "rep0_range_17.endclass.end_x: 29.199294152791225\n",
       "rep0_range_17.endclass.end_y: -0.24856561999623034\n",
       "rep0_range_17.endclass.endpt:   array(2)\n",
       "rep0_range_18.endclass.rate:         1.0\n",
       "rep0_range_18.endclass.cost:           0\n",
       "rep0_range_18.endclass.prob: 0.011764705882352941\n",
       "rep0_range_18.endclass.expected_cost:  0\n",
       "rep0_range_18.endclass.in_bound:    True\n",
       "rep0_range_18.endclass.at_finish:   True\n",
       "rep0_range_18.endclass.line_dist:      1\n",
       "rep0_range_18.endclass.num_modes:      0\n",
       "rep0_range_18.endclass.end_dist:     0.0\n",
       "rep0_range_18.endclass.tot_deviation: 0.019649125766733083\n",
       "rep0_range_18.endclass.faults:        {}\n",
       "rep0_range_18.endclass.classification: nominal mission\n",
       "rep0_range_18.endclass.end_x: 29.20981734468701\n",
       "rep0_range_18.endclass.end_y: -1.4952068613372713\n",
       "rep0_range_18.endclass.endpt:   array(2)\n",
       "rep0_range_19.endclass.rate:         1.0\n",
       "rep0_range_19.endclass.cost:           0\n",
       "rep0_range_19.endclass.prob: 0.011764705882352941\n",
       "rep0_range_19.endclass.expected_cost:  0\n",
       "rep0_range_19.endclass.in_bound:    True\n",
       "rep0_range_19.endclass.at_finish:   True\n",
       "rep0_range_19.endclass.line_dist:      1\n",
       "rep0_range_19.endclass.num_modes:      0\n",
       "rep0_range_19.endclass.end_dist:     0.0\n",
       "rep0_range_19.endclass.tot_deviation: 0.013250929045056477\n",
       "rep0_range_19.endclass.faults:        {}\n",
       "rep0_range_19.endclass.classification: nominal mission\n",
       "rep0_range_19.endclass.end_x: 29.37562851815764\n",
       "rep0_range_19.endclass.end_y: -0.7762528735593929\n",
       "rep0_range_19.endclass.endpt:   array(2)\n",
       "rep0_range_20.endclass.rate:         1.0\n",
       "rep0_range_20.endclass.cost:           0\n",
       "rep0_range_20.endclass.prob: 0.011764705882352941\n",
       "rep0_range_20.endclass.expected_cost:  0\n",
       "rep0_range_20.endclass.in_bound:    True\n",
       "rep0_range_20.endclass.at_finish:  False\n",
       "rep0_range_20.endclass.line_dist:      1\n",
       "rep0_range_20.endclass.num_modes:      0\n",
       "rep0_range_20.endclass.end_dist: 4.97673755786017\n",
       "rep0_range_20.endclass.tot_deviation: 0.15346516863417273\n",
       "rep0_range_20.endclass.faults:        {}\n",
       "rep0_range_20.endclass.classification: incomplete mission\n",
       "rep0_range_20.endclass.end_x: 24.081373688264453\n",
       "rep0_range_20.endclass.end_y: 1.237075501796257\n",
       "rep0_range_20.endclass.endpt:   array(2)\n",
       "rep0_range_21.endclass.rate:         1.0\n",
       "rep0_range_21.endclass.cost:           0\n",
       "rep0_range_21.endclass.prob: 0.011764705882352941\n",
       "rep0_range_21.endclass.expected_cost:  0\n",
       "rep0_range_21.endclass.in_bound:    True\n",
       "rep0_range_21.endclass.at_finish:  False\n",
       "rep0_range_21.endclass.line_dist:      1\n",
       "rep0_range_21.endclass.num_modes:      0\n",
       "rep0_range_21.endclass.end_dist: 0.12044763809031671\n",
       "rep0_range_21.endclass.tot_deviation: 0.045082954486655426\n",
       "rep0_range_21.endclass.faults:        {}\n",
       "rep0_range_21.endclass.classification: incomplete mission\n",
       "rep0_range_21.endclass.end_x: 28.952411491766856\n",
       "rep0_range_21.endclass.end_y: 0.6589461717162802\n",
       "rep0_range_21.endclass.endpt:   array(2)\n",
       "rep0_range_22.endclass.rate:         1.0\n",
       "rep0_range_22.endclass.cost:           0\n",
       "rep0_range_22.endclass.prob: 0.011764705882352941\n",
       "rep0_range_22.endclass.expected_cost:  0\n",
       "rep0_range_22.endclass.in_bound:    True\n",
       "rep0_range_22.endclass.at_finish:   True\n",
       "rep0_range_22.endclass.line_dist:      1\n",
       "rep0_range_22.endclass.num_modes:      0\n",
       "rep0_range_22.endclass.end_dist:     0.0\n",
       "rep0_range_22.endclass.tot_deviation: 0.016824688297475885\n",
       "rep0_range_22.endclass.faults:        {}\n",
       "rep0_range_22.endclass.classification: nominal mission\n",
       "rep0_range_22.endclass.end_x: 29.349691160970252\n",
       "rep0_range_22.endclass.end_y: -0.2701326571320684\n",
       "rep0_range_22.endclass.endpt:   array(2)\n",
       "rep0_range_23.endclass.rate:         1.0\n",
       "rep0_range_23.endclass.cost:           0\n",
       "rep0_range_23.endclass.prob: 0.011764705882352941\n",
       "rep0_range_23.endclass.expected_cost:  0\n",
       "rep0_range_23.endclass.in_bound:    True\n",
       "rep0_range_23.endclass.at_finish:   True\n",
       "rep0_range_23.endclass.line_dist:      1\n",
       "rep0_range_23.endclass.num_modes:      0\n",
       "rep0_range_23.endclass.end_dist:     0.0\n",
       "rep0_range_23.endclass.tot_deviation: 0.016319452106950356\n",
       "rep0_range_23.endclass.faults:        {}\n",
       "rep0_range_23.endclass.classification: nominal mission\n",
       "rep0_range_23.endclass.end_x: 29.248052279128693\n",
       "rep0_range_23.endclass.end_y: -1.9941509850232608\n",
       "rep0_range_23.endclass.endpt:   array(2)\n",
       "rep0_range_24.endclass.rate:         1.0\n",
       "rep0_range_24.endclass.cost:           0\n",
       "rep0_range_24.endclass.prob: 0.011764705882352941\n",
       "rep0_range_24.endclass.expected_cost:  0\n",
       "rep0_range_24.endclass.in_bound:    True\n",
       "rep0_range_24.endclass.at_finish:   True\n",
       "rep0_range_24.endclass.line_dist:      1\n",
       "rep0_range_24.endclass.num_modes:      0\n",
       "rep0_range_24.endclass.end_dist:     0.0\n",
       "rep0_range_24.endclass.tot_deviation: 0.017095546491822072\n",
       "rep0_range_24.endclass.faults:        {}\n",
       "rep0_range_24.endclass.classification: nominal mission\n",
       "rep0_range_24.endclass.end_x: 29.32914136938406\n",
       "rep0_range_24.endclass.end_y: -1.0240422296162524\n",
       "rep0_range_24.endclass.endpt:   array(2)\n",
       "rep0_range_25.endclass.rate:         1.0\n",
       "rep0_range_25.endclass.cost:           0\n",
       "rep0_range_25.endclass.prob: 0.011764705882352941\n",
       "rep0_range_25.endclass.expected_cost:  0\n",
       "rep0_range_25.endclass.in_bound:   False\n",
       "rep0_range_25.endclass.at_finish:  False\n",
       "rep0_range_25.endclass.line_dist:      1\n",
       "rep0_range_25.endclass.num_modes:      0\n",
       "rep0_range_25.endclass.end_dist: 28.20852808099358\n",
       "rep0_range_25.endclass.tot_deviation: 0.20630699276536996\n",
       "rep0_range_25.endclass.faults:        {}\n",
       "rep0_range_25.endclass.classification: incomplete mission\n",
       "rep0_range_25.endclass.end_x: 0.7047037982844006\n",
       "rep0_range_25.endclass.end_y: 0.7069268171133591\n",
       "rep0_range_25.endclass.endpt:   array(2)\n",
       "rep0_range_26.endclass.rate:         1.0\n",
       "rep0_range_26.endclass.cost:           0\n",
       "rep0_range_26.endclass.prob: 0.011764705882352941\n",
       "rep0_range_26.endclass.expected_cost:  0\n",
       "rep0_range_26.endclass.in_bound:    True\n",
       "rep0_range_26.endclass.at_finish:  False\n",
       "rep0_range_26.endclass.line_dist:      1\n",
       "rep0_range_26.endclass.num_modes:      0\n",
       "rep0_range_26.endclass.end_dist: 1.6363074902929695\n",
       "rep0_range_26.endclass.tot_deviation: 0.07353485508497205\n",
       "rep0_range_26.endclass.faults:        {}\n",
       "rep0_range_26.endclass.classification: incomplete mission\n",
       "rep0_range_26.endclass.end_x: 27.772362688176745\n",
       "rep0_range_26.endclass.end_y: 1.6332855257444368\n",
       "rep0_range_26.endclass.endpt:   array(2)\n",
       "rep0_range_27.endclass.rate:         1.0\n",
       "rep0_range_27.endclass.cost:           0\n",
       "rep0_range_27.endclass.prob: 0.011764705882352941\n",
       "rep0_range_27.endclass.expected_cost:  0\n",
       "rep0_range_27.endclass.in_bound:    True\n",
       "rep0_range_27.endclass.at_finish:   True\n",
       "rep0_range_27.endclass.line_dist:      1\n",
       "rep0_range_27.endclass.num_modes:      0\n",
       "rep0_range_27.endclass.end_dist:     0.0\n",
       "rep0_range_27.endclass.tot_deviation: 0.034309964693866574\n",
       "rep0_range_27.endclass.faults:        {}\n",
       "rep0_range_27.endclass.classification: nominal mission\n",
       "rep0_range_27.endclass.end_x: 29.240687825059428\n",
       "rep0_range_27.endclass.end_y: -0.3963211354346584\n",
       "rep0_range_27.endclass.endpt:   array(2)\n",
       "rep0_range_28.endclass.rate:         1.0\n",
       "rep0_range_28.endclass.cost:           0\n",
       "rep0_range_28.endclass.prob: 0.011764705882352941\n",
       "rep0_range_28.endclass.expected_cost:  0\n",
       "rep0_range_28.endclass.in_bound:    True\n",
       "rep0_range_28.endclass.at_finish:   True\n",
       "rep0_range_28.endclass.line_dist:      1\n",
       "rep0_range_28.endclass.num_modes:      0\n",
       "rep0_range_28.endclass.end_dist:     0.0\n",
       "rep0_range_28.endclass.tot_deviation: 0.017954866083916343\n",
       "rep0_range_28.endclass.faults:        {}\n",
       "rep0_range_28.endclass.classification: nominal mission\n",
       "rep0_range_28.endclass.end_x: 29.06993925731318\n",
       "rep0_range_28.endclass.end_y: -2.4866488194541794\n",
       "rep0_range_28.endclass.endpt:   array(2)\n",
       "rep0_range_29.endclass.rate:         1.0\n",
       "rep0_range_29.endclass.cost:           0\n",
       "rep0_range_29.endclass.prob: 0.011764705882352941\n",
       "rep0_range_29.endclass.expected_cost:  0\n",
       "rep0_range_29.endclass.in_bound:    True\n",
       "rep0_range_29.endclass.at_finish:   True\n",
       "rep0_range_29.endclass.line_dist:      1\n",
       "rep0_range_29.endclass.num_modes:      0\n",
       "rep0_range_29.endclass.end_dist:     0.0\n",
       "rep0_range_29.endclass.tot_deviation: 0.01327694089110737\n",
       "rep0_range_29.endclass.faults:        {}\n",
       "rep0_range_29.endclass.classification: nominal mission\n",
       "rep0_range_29.endclass.end_x: 29.097703947338516\n",
       "rep0_range_29.endclass.end_y: -1.220016512909051\n",
       "rep0_range_29.endclass.endpt:   array(2)\n",
       "rep0_range_30.endclass.rate:         1.0\n",
       "rep0_range_30.endclass.cost:           0\n",
       "rep0_range_30.endclass.prob: 0.011764705882352941\n",
       "rep0_range_30.endclass.expected_cost:  0\n",
       "rep0_range_30.endclass.in_bound:   False\n",
       "rep0_range_30.endclass.at_finish:  False\n",
       "rep0_range_30.endclass.line_dist:      1\n",
       "rep0_range_30.endclass.num_modes:      0\n",
       "rep0_range_30.endclass.end_dist: 28.26473898400901\n",
       "rep0_range_30.endclass.tot_deviation: 0.23808567605319\n",
       "rep0_range_30.endclass.faults:        {}\n",
       "rep0_range_30.endclass.classification: incomplete mission\n",
       "rep0_range_30.endclass.end_x: 0.6493869027086476\n",
       "rep0_range_30.endclass.end_y: 0.705121284869211\n",
       "rep0_range_30.endclass.endpt:   array(2)\n",
       "rep0_range_31.endclass.rate:         1.0\n",
       "rep0_range_31.endclass.cost:           0\n",
       "rep0_range_31.endclass.prob: 0.011764705882352941\n",
       "rep0_range_31.endclass.expected_cost:  0\n",
       "rep0_range_31.endclass.in_bound:    True\n",
       "rep0_range_31.endclass.at_finish:  False\n",
       "rep0_range_31.endclass.line_dist:      1\n",
       "rep0_range_31.endclass.num_modes:      0\n",
       "rep0_range_31.endclass.end_dist: 2.6546086874718853\n",
       "rep0_range_31.endclass.tot_deviation: 0.10423366631457652\n",
       "rep0_range_31.endclass.faults:        {}\n",
       "rep0_range_31.endclass.classification: incomplete mission\n",
       "rep0_range_31.endclass.end_x: 27.081798517415738\n",
       "rep0_range_31.endclass.end_y: 2.4210028649544793\n",
       "rep0_range_31.endclass.endpt:   array(2)\n",
       "rep0_range_32.endclass.rate:         1.0\n",
       "rep0_range_32.endclass.cost:           0\n",
       "rep0_range_32.endclass.prob: 0.011764705882352941\n",
       "rep0_range_32.endclass.expected_cost:  0\n",
       "rep0_range_32.endclass.in_bound:    True\n",
       "rep0_range_32.endclass.at_finish:   True\n",
       "rep0_range_32.endclass.line_dist:      1\n",
       "rep0_range_32.endclass.num_modes:      0\n",
       "rep0_range_32.endclass.end_dist:     0.0\n",
       "rep0_range_32.endclass.tot_deviation: 0.047458057912325956\n",
       "rep0_range_32.endclass.faults:        {}\n",
       "rep0_range_32.endclass.classification: nominal mission\n",
       "rep0_range_32.endclass.end_x: 29.26991436591824\n",
       "rep0_range_32.endclass.end_y: -0.4574532789312075\n",
       "rep0_range_32.endclass.endpt:   array(2)\n",
       "rep0_range_33.endclass.rate:         1.0\n",
       "rep0_range_33.endclass.cost:           0\n",
       "rep0_range_33.endclass.prob: 0.011764705882352941\n",
       "rep0_range_33.endclass.expected_cost:  0\n",
       "rep0_range_33.endclass.in_bound:    True\n",
       "rep0_range_33.endclass.at_finish:   True\n",
       "rep0_range_33.endclass.line_dist:      1\n",
       "rep0_range_33.endclass.num_modes:      0\n",
       "rep0_range_33.endclass.end_dist:     0.0\n",
       "rep0_range_33.endclass.tot_deviation: 0.02625809884142386\n",
       "rep0_range_33.endclass.faults:        {}\n",
       "rep0_range_33.endclass.classification: nominal mission\n",
       "rep0_range_33.endclass.end_x: 28.99398964908361\n",
       "rep0_range_33.endclass.end_y: -2.976849599077134\n",
       "rep0_range_33.endclass.endpt:   array(2)\n",
       "rep0_range_34.endclass.rate:         1.0\n",
       "rep0_range_34.endclass.cost:           0\n",
       "rep0_range_34.endclass.prob: 0.011764705882352941\n",
       "rep0_range_34.endclass.expected_cost:  0\n",
       "rep0_range_34.endclass.in_bound:    True\n",
       "rep0_range_34.endclass.at_finish:   True\n",
       "rep0_range_34.endclass.line_dist:      1\n",
       "rep0_range_34.endclass.num_modes:      0\n",
       "rep0_range_34.endclass.end_dist:     0.0\n",
       "rep0_range_34.endclass.tot_deviation: 0.013669088959652857\n",
       "rep0_range_34.endclass.faults:        {}\n",
       "rep0_range_34.endclass.classification: nominal mission\n",
       "rep0_range_34.endclass.end_x: 29.022838522622425\n",
       "rep0_range_34.endclass.end_y: -1.4642263064187775\n",
       "rep0_range_34.endclass.endpt:   array(2)\n",
       "rep0_range_35.endclass.rate:         1.0\n",
       "rep0_range_35.endclass.cost:           0\n",
       "rep0_range_35.endclass.prob: 0.011764705882352941\n",
       "rep0_range_35.endclass.expected_cost:  0\n",
       "rep0_range_35.endclass.in_bound:   False\n",
       "rep0_range_35.endclass.at_finish:  False\n",
       "rep0_range_35.endclass.line_dist:      1\n",
       "rep0_range_35.endclass.num_modes:      0\n",
       "rep0_range_35.endclass.end_dist: 28.30730555921831\n",
       "rep0_range_35.endclass.tot_deviation: 0.25961125170795796\n",
       "rep0_range_35.endclass.faults:        {}\n",
       "rep0_range_35.endclass.classification: incomplete mission\n",
       "rep0_range_35.endclass.end_x: 0.6076890680567851\n",
       "rep0_range_35.endclass.end_y: 0.7014769893325896\n",
       "rep0_range_35.endclass.endpt:   array(2)\n",
       "rep0_range_36.endclass.rate:         1.0\n",
       "rep0_range_36.endclass.cost:           0\n",
       "rep0_range_36.endclass.prob: 0.011764705882352941\n",
       "rep0_range_36.endclass.expected_cost:  0\n",
       "rep0_range_36.endclass.in_bound:    True\n",
       "rep0_range_36.endclass.at_finish:  False\n",
       "rep0_range_36.endclass.line_dist:      1\n",
       "rep0_range_36.endclass.num_modes:      0\n",
       "rep0_range_36.endclass.end_dist: 3.9390786128953446\n",
       "rep0_range_36.endclass.tot_deviation: 0.13447036170414453\n",
       "rep0_range_36.endclass.faults:        {}\n",
       "rep0_range_36.endclass.classification: incomplete mission\n",
       "rep0_range_36.endclass.end_x: 26.14435306816135\n",
       "rep0_range_36.endclass.end_y: 3.317309750767116\n",
       "rep0_range_36.endclass.endpt:   array(2)\n",
       "rep0_range_37.endclass.rate:         1.0\n",
       "rep0_range_37.endclass.cost:           0\n",
       "rep0_range_37.endclass.prob: 0.011764705882352941\n",
       "rep0_range_37.endclass.expected_cost:  0\n",
       "rep0_range_37.endclass.in_bound:    True\n",
       "rep0_range_37.endclass.at_finish:   True\n",
       "rep0_range_37.endclass.line_dist:      1\n",
       "rep0_range_37.endclass.num_modes:      0\n",
       "rep0_range_37.endclass.end_dist:     0.0\n",
       "rep0_range_37.endclass.tot_deviation: 0.06637366496296679\n",
       "rep0_range_37.endclass.faults:        {}\n",
       "rep0_range_37.endclass.classification: nominal mission\n",
       "rep0_range_37.endclass.end_x: 29.600111641284474\n",
       "rep0_range_37.endclass.end_y: -0.2894491464509304\n",
       "rep0_range_37.endclass.endpt:   array(2)\n",
       "rep0_range_38.endclass.rate:         1.0\n",
       "rep0_range_38.endclass.cost:           0\n",
       "rep0_range_38.endclass.prob: 0.011764705882352941\n",
       "rep0_range_38.endclass.expected_cost:  0\n",
       "rep0_range_38.endclass.in_bound:    True\n",
       "rep0_range_38.endclass.at_finish:   True\n",
       "rep0_range_38.endclass.line_dist:      1\n",
       "rep0_range_38.endclass.num_modes:      0\n",
       "rep0_range_38.endclass.end_dist:     0.0\n",
       "rep0_range_38.endclass.tot_deviation: 0.03560866144943147\n",
       "rep0_range_38.endclass.faults:        {}\n",
       "rep0_range_38.endclass.classification: nominal mission\n",
       "rep0_range_38.endclass.end_x: 29.004417374372515\n",
       "rep0_range_38.endclass.end_y: -3.468051302306419\n",
       "rep0_range_38.endclass.endpt:   array(2)\n",
       "rep0_range_39.endclass.rate:         1.0\n",
       "rep0_range_39.endclass.cost:           0\n",
       "rep0_range_39.endclass.prob: 0.011764705882352941\n",
       "rep0_range_39.endclass.expected_cost:  0\n",
       "rep0_range_39.endclass.in_bound:    True\n",
       "rep0_range_39.endclass.at_finish:   True\n",
       "rep0_range_39.endclass.line_dist:      1\n",
       "rep0_range_39.endclass.num_modes:      0\n",
       "rep0_range_39.endclass.end_dist:     0.0\n",
       "rep0_range_39.endclass.tot_deviation: 0.020708714207007248\n",
       "rep0_range_39.endclass.faults:        {}\n",
       "rep0_range_39.endclass.classification: nominal mission\n",
       "rep0_range_39.endclass.end_x: 29.437126836527973\n",
       "rep0_range_39.endclass.end_y: -1.8509907961630265\n",
       "rep0_range_39.endclass.endpt:   array(2)\n",
       "rep0_range_40.endclass.rate:         1.0\n",
       "rep0_range_40.endclass.cost:           0\n",
       "rep0_range_40.endclass.prob: 0.011764705882352941\n",
       "rep0_range_40.endclass.expected_cost:  0\n",
       "rep0_range_40.endclass.in_bound:   False\n",
       "rep0_range_40.endclass.at_finish:  False\n",
       "rep0_range_40.endclass.line_dist:      1\n",
       "rep0_range_40.endclass.num_modes:      0\n",
       "rep0_range_40.endclass.end_dist: 28.340420554783\n",
       "rep0_range_40.endclass.tot_deviation: 0.2748060969443043\n",
       "rep0_range_40.endclass.faults:        {}\n",
       "rep0_range_40.endclass.classification: incomplete mission\n",
       "rep0_range_40.endclass.end_x: 0.5754526977131285\n",
       "rep0_range_40.endclass.end_y: 0.697235171182967\n",
       "rep0_range_40.endclass.endpt:   array(2)\n",
       "rep0_range_41.endclass.rate:         1.0\n",
       "rep0_range_41.endclass.cost:           0\n",
       "rep0_range_41.endclass.prob: 0.011764705882352941\n",
       "rep0_range_41.endclass.expected_cost:  0\n",
       "rep0_range_41.endclass.in_bound:    True\n",
       "rep0_range_41.endclass.at_finish:  False\n",
       "rep0_range_41.endclass.line_dist:      1\n",
       "rep0_range_41.endclass.num_modes:      0\n",
       "rep0_range_41.endclass.end_dist: 6.573477716230237\n",
       "rep0_range_41.endclass.tot_deviation: 0.163000375818198\n",
       "rep0_range_41.endclass.faults:        {}\n",
       "rep0_range_41.endclass.classification: incomplete mission\n",
       "rep0_range_41.endclass.end_x: 22.98187330410633\n",
       "rep0_range_41.endclass.end_y: 3.2064017511813576\n",
       "rep0_range_41.endclass.endpt:   array(2)\n",
       "rep0_range_42.endclass.rate:         1.0\n",
       "rep0_range_42.endclass.cost:           0\n",
       "rep0_range_42.endclass.prob: 0.011764705882352941\n",
       "rep0_range_42.endclass.expected_cost:  0\n",
       "rep0_range_42.endclass.in_bound:    True\n",
       "rep0_range_42.endclass.at_finish:   True\n",
       "rep0_range_42.endclass.line_dist:      1\n",
       "rep0_range_42.endclass.num_modes:      0\n",
       "rep0_range_42.endclass.end_dist:     0.0\n",
       "rep0_range_42.endclass.tot_deviation: 0.08634125284983565\n",
       "rep0_range_42.endclass.faults:        {}\n",
       "rep0_range_42.endclass.classification: nominal mission\n",
       "rep0_range_42.endclass.end_x: 29.68948807724263\n",
       "rep0_range_42.endclass.end_y: -0.2544511377232265\n",
       "rep0_range_42.endclass.endpt:   array(2)\n",
       "rep0_range_43.endclass.rate:         1.0\n",
       "rep0_range_43.endclass.cost:           0\n",
       "rep0_range_43.endclass.prob: 0.011764705882352941\n",
       "rep0_range_43.endclass.expected_cost:  0\n",
       "rep0_range_43.endclass.in_bound:    True\n",
       "rep0_range_43.endclass.at_finish:   True\n",
       "rep0_range_43.endclass.line_dist:      1\n",
       "rep0_range_43.endclass.num_modes:      0\n",
       "rep0_range_43.endclass.end_dist:     0.0\n",
       "rep0_range_43.endclass.tot_deviation: 0.048492555683169736\n",
       "rep0_range_43.endclass.faults:        {}\n",
       "rep0_range_43.endclass.classification: nominal mission\n",
       "rep0_range_43.endclass.end_x: 29.09615140425916\n",
       "rep0_range_43.endclass.end_y: -3.9701381573424968\n",
       "rep0_range_43.endclass.endpt:   array(2)\n",
       "rep0_range_44.endclass.rate:         1.0\n",
       "rep0_range_44.endclass.cost:           0\n",
       "rep0_range_44.endclass.prob: 0.011764705882352941\n",
       "rep0_range_44.endclass.expected_cost:  0\n",
       "rep0_range_44.endclass.in_bound:    True\n",
       "rep0_range_44.endclass.at_finish:   True\n",
       "rep0_range_44.endclass.line_dist:      1\n",
       "rep0_range_44.endclass.num_modes:      0\n",
       "rep0_range_44.endclass.end_dist:     0.0\n",
       "rep0_range_44.endclass.tot_deviation: 0.029066958295064064\n",
       "rep0_range_44.endclass.faults:        {}\n",
       "rep0_range_44.endclass.classification: nominal mission\n",
       "rep0_range_44.endclass.end_x: 29.61142695117701\n",
       "rep0_range_44.endclass.end_y: -2.195583037817789\n",
       "rep0_range_44.endclass.endpt:   array(2)\n",
       "rep0_range_45.endclass.rate:         1.0\n",
       "rep0_range_45.endclass.cost:           0\n",
       "rep0_range_45.endclass.prob: 0.011764705882352941\n",
       "rep0_range_45.endclass.expected_cost:  0\n",
       "rep0_range_45.endclass.in_bound:   False\n",
       "rep0_range_45.endclass.at_finish:  False\n",
       "rep0_range_45.endclass.line_dist:      1\n",
       "rep0_range_45.endclass.num_modes:      0\n",
       "rep0_range_45.endclass.end_dist: 28.36683256495202\n",
       "rep0_range_45.endclass.tot_deviation: 0.28597405012749527\n",
       "rep0_range_45.endclass.faults:        {}\n",
       "rep0_range_45.endclass.classification: incomplete mission\n",
       "rep0_range_45.endclass.end_x: 0.5499458975173706\n",
       "rep0_range_45.endclass.end_y: 0.692953889285752\n",
       "rep0_range_45.endclass.endpt:   array(2)\n",
       "rep0_range_46.endclass.rate:         1.0\n",
       "rep0_range_46.endclass.cost:           0\n",
       "rep0_range_46.endclass.prob: 0.011764705882352941\n",
       "rep0_range_46.endclass.expected_cost:  0\n",
       "rep0_range_46.endclass.in_bound:    True\n",
       "rep0_range_46.endclass.at_finish:  False\n",
       "rep0_range_46.endclass.line_dist:      1\n",
       "rep0_range_46.endclass.num_modes:      0\n",
       "rep0_range_46.endclass.end_dist: 6.81284622667979\n",
       "rep0_range_46.endclass.tot_deviation: 0.18922575396160357\n",
       "rep0_range_46.endclass.faults:        {}\n",
       "rep0_range_46.endclass.classification: incomplete mission\n",
       "rep0_range_46.endclass.end_x: 22.88709395273906\n",
       "rep0_range_46.endclass.end_y: 3.583586666471165\n",
       "rep0_range_46.endclass.endpt:   array(2)\n",
       "rep0_range_47.endclass.rate:         1.0\n",
       "rep0_range_47.endclass.cost:           0\n",
       "rep0_range_47.endclass.prob: 0.011764705882352941\n",
       "rep0_range_47.endclass.expected_cost:  0\n",
       "rep0_range_47.endclass.in_bound:    True\n",
       "rep0_range_47.endclass.at_finish:   True\n",
       "rep0_range_47.endclass.line_dist:      1\n",
       "rep0_range_47.endclass.num_modes:      0\n",
       "rep0_range_47.endclass.end_dist:     0.0\n",
       "rep0_range_47.endclass.tot_deviation: 0.10664735348330223\n",
       "rep0_range_47.endclass.faults:        {}\n",
       "rep0_range_47.endclass.classification: nominal mission\n",
       "rep0_range_47.endclass.end_x: 29.73304603104002\n",
       "rep0_range_47.endclass.end_y: -0.24431980782371832\n",
       "rep0_range_47.endclass.endpt:   array(2)\n",
       "rep0_range_48.endclass.rate:         1.0\n",
       "rep0_range_48.endclass.cost:           0\n",
       "rep0_range_48.endclass.prob: 0.011764705882352941\n",
       "rep0_range_48.endclass.expected_cost:  0\n",
       "rep0_range_48.endclass.in_bound:    True\n",
       "rep0_range_48.endclass.at_finish:   True\n",
       "rep0_range_48.endclass.line_dist:      1\n",
       "rep0_range_48.endclass.num_modes:      0\n",
       "rep0_range_48.endclass.end_dist:     0.0\n",
       "rep0_range_48.endclass.tot_deviation: 0.0625059017708973\n",
       "rep0_range_48.endclass.faults:        {}\n",
       "rep0_range_48.endclass.classification: nominal mission\n",
       "rep0_range_48.endclass.end_x: 28.916559762970515\n",
       "rep0_range_48.endclass.end_y: -4.445644545240353\n",
       "rep0_range_48.endclass.endpt:   array(2)\n",
       "rep0_range_49.endclass.rate:         1.0\n",
       "rep0_range_49.endclass.cost:           0\n",
       "rep0_range_49.endclass.prob: 0.011764705882352941\n",
       "rep0_range_49.endclass.expected_cost:  0\n",
       "rep0_range_49.endclass.in_bound:    True\n",
       "rep0_range_49.endclass.at_finish:   True\n",
       "rep0_range_49.endclass.line_dist:      1\n",
       "rep0_range_49.endclass.num_modes:      0\n",
       "rep0_range_49.endclass.end_dist:     0.0\n",
       "rep0_range_49.endclass.tot_deviation: 0.03855438914714991\n",
       "rep0_range_49.endclass.faults:        {}\n",
       "rep0_range_49.endclass.classification: nominal mission\n",
       "rep0_range_49.endclass.end_x: 29.472764195049972\n",
       "rep0_range_49.endclass.end_y: -2.403618818078738\n",
       "rep0_range_49.endclass.endpt:   array(2)\n",
       "rep0_range_50.endclass.rate:         1.0\n",
       "rep0_range_50.endclass.cost:           0\n",
       "rep0_range_50.endclass.prob: 0.011764705882352941\n",
       "rep0_range_50.endclass.expected_cost:  0\n",
       "rep0_range_50.endclass.in_bound:   False\n",
       "rep0_range_50.endclass.at_finish:  False\n",
       "rep0_range_50.endclass.line_dist:      1\n",
       "rep0_range_50.endclass.num_modes:      0\n",
       "rep0_range_50.endclass.end_dist: 28.38837238599716\n",
       "rep0_range_50.endclass.tot_deviation: 0.2943795757333332\n",
       "rep0_range_50.endclass.faults:        {}\n",
       "rep0_range_50.endclass.classification: incomplete mission\n",
       "rep0_range_50.endclass.end_x: 0.5293456817722989\n",
       "rep0_range_50.endclass.end_y: 0.6888735496361815\n",
       "rep0_range_50.endclass.endpt:   array(2)\n",
       "rep0_range_51.endclass.rate:         1.0\n",
       "rep0_range_51.endclass.cost:           0\n",
       "rep0_range_51.endclass.prob: 0.011764705882352941\n",
       "rep0_range_51.endclass.expected_cost:  0\n",
       "rep0_range_51.endclass.in_bound:   False\n",
       "rep0_range_51.endclass.at_finish:  False\n",
       "rep0_range_51.endclass.line_dist:      1\n",
       "rep0_range_51.endclass.num_modes:      0\n",
       "rep0_range_51.endclass.end_dist: 28.200815486796124\n",
       "rep0_range_51.endclass.tot_deviation: 0.21263470638518298\n",
       "rep0_range_51.endclass.faults:        {}\n",
       "rep0_range_51.endclass.classification: incomplete mission\n",
       "rep0_range_51.endclass.end_x: 0.7045458584366886\n",
       "rep0_range_51.endclass.end_y: 0.7069263909255318\n",
       "rep0_range_51.endclass.endpt:   array(2)\n",
       "rep0_range_52.endclass.rate:         1.0\n",
       "rep0_range_52.endclass.cost:           0\n",
       "rep0_range_52.endclass.prob: 0.011764705882352941\n",
       "rep0_range_52.endclass.expected_cost:  0\n",
       "rep0_range_52.endclass.in_bound:    True\n",
       "rep0_range_52.endclass.at_finish:  False\n",
       "rep0_range_52.endclass.line_dist:      1\n",
       "rep0_range_52.endclass.num_modes:      0\n",
       "rep0_range_52.endclass.end_dist: 2.8776964887902823\n",
       "rep0_range_52.endclass.tot_deviation: 0.12671027160024995\n",
       "rep0_range_52.endclass.faults:        {}\n",
       "rep0_range_52.endclass.classification: incomplete mission\n",
       "rep0_range_52.endclass.end_x: 27.140887747811487\n",
       "rep0_range_52.endclass.end_y: -2.8293447487333805\n",
       "rep0_range_52.endclass.endpt:   array(2)\n",
       "rep0_range_53.endclass.rate:         1.0\n",
       "rep0_range_53.endclass.cost:           0\n",
       "rep0_range_53.endclass.prob: 0.011764705882352941\n",
       "rep0_range_53.endclass.expected_cost:  0\n",
       "rep0_range_53.endclass.in_bound:    True\n",
       "rep0_range_53.endclass.at_finish:   True\n",
       "rep0_range_53.endclass.line_dist:      1\n",
       "rep0_range_53.endclass.num_modes:      0\n",
       "rep0_range_53.endclass.end_dist:     0.0\n",
       "rep0_range_53.endclass.tot_deviation: 0.07723040541724244\n",
       "rep0_range_53.endclass.faults:        {}\n",
       "rep0_range_53.endclass.classification: nominal mission\n",
       "rep0_range_53.endclass.end_x: 29.112483140018977\n",
       "rep0_range_53.endclass.end_y: -4.962425094916853\n",
       "rep0_range_53.endclass.endpt:   array(2)\n",
       "rep0_range_54.endclass.rate:         1.0\n",
       "rep0_range_54.endclass.cost:           0\n",
       "rep0_range_54.endclass.prob: 0.011764705882352941\n",
       "rep0_range_54.endclass.expected_cost:  0\n",
       "rep0_range_54.endclass.in_bound:    True\n",
       "rep0_range_54.endclass.at_finish:   True\n",
       "rep0_range_54.endclass.line_dist:      1\n",
       "rep0_range_54.endclass.num_modes:      0\n",
       "rep0_range_54.endclass.end_dist:     0.0\n",
       "rep0_range_54.endclass.tot_deviation: 0.04897034103001493\n",
       "rep0_range_54.endclass.faults:        {}\n",
       "rep0_range_54.endclass.classification: nominal mission\n",
       "rep0_range_54.endclass.end_x: 29.09615133964248\n",
       "rep0_range_54.endclass.end_y: -2.4764766650444425\n",
       "rep0_range_54.endclass.endpt:   array(2)\n",
       "rep0_range_55.endclass.rate:         1.0\n",
       "rep0_range_55.endclass.cost:           0\n",
       "rep0_range_55.endclass.prob: 0.011764705882352941\n",
       "rep0_range_55.endclass.expected_cost:  0\n",
       "rep0_range_55.endclass.in_bound:   False\n",
       "rep0_range_55.endclass.at_finish:  False\n",
       "rep0_range_55.endclass.line_dist:      1\n",
       "rep0_range_55.endclass.num_modes:      0\n",
       "rep0_range_55.endclass.end_dist: 28.40628740333588\n",
       "rep0_range_55.endclass.tot_deviation: 0.30099608616874424\n",
       "rep0_range_55.endclass.faults:        {}\n",
       "rep0_range_55.endclass.classification: incomplete mission\n",
       "rep0_range_55.endclass.end_x: 0.5124081713056564\n",
       "rep0_range_55.endclass.end_y: 0.6850861328883633\n",
       "rep0_range_55.endclass.endpt:   array(2)\n",
       "rep0_range_56.endclass.rate:         1.0\n",
       "rep0_range_56.endclass.cost:           0\n",
       "rep0_range_56.endclass.prob: 0.011764705882352941\n",
       "rep0_range_56.endclass.expected_cost:  0\n",
       "rep0_range_56.endclass.in_bound:   False\n",
       "rep0_range_56.endclass.at_finish:  False\n",
       "rep0_range_56.endclass.line_dist:      1\n",
       "rep0_range_56.endclass.num_modes:      0\n",
       "rep0_range_56.endclass.end_dist: 28.23018435550321\n",
       "rep0_range_56.endclass.tot_deviation: 0.22868811970746997\n",
       "rep0_range_56.endclass.faults:        {}\n",
       "rep0_range_56.endclass.classification: incomplete mission\n",
       "rep0_range_56.endclass.end_x: 0.6748592882570589\n",
       "rep0_range_56.endclass.end_y: 0.706370033148768\n",
       "rep0_range_56.endclass.endpt:   array(2)\n",
       "rep0_range_57.endclass.rate:         1.0\n",
       "rep0_range_57.endclass.cost:           0\n",
       "rep0_range_57.endclass.prob: 0.011764705882352941\n",
       "rep0_range_57.endclass.expected_cost:  0\n",
       "rep0_range_57.endclass.in_bound:    True\n",
       "rep0_range_57.endclass.at_finish:  False\n",
       "rep0_range_57.endclass.line_dist:      1\n",
       "rep0_range_57.endclass.num_modes:      0\n",
       "rep0_range_57.endclass.end_dist: 3.5138847008610155\n",
       "rep0_range_57.endclass.tot_deviation: 0.14611712008119818\n",
       "rep0_range_57.endclass.faults:        {}\n",
       "rep0_range_57.endclass.classification: incomplete mission\n",
       "rep0_range_57.endclass.end_x: 26.823313484328825\n",
       "rep0_range_57.endclass.end_y: -3.416991917897211\n",
       "rep0_range_57.endclass.endpt:   array(2)\n",
       "rep0_range_58.endclass.rate:         1.0\n",
       "rep0_range_58.endclass.cost:           0\n",
       "rep0_range_58.endclass.prob: 0.011764705882352941\n",
       "rep0_range_58.endclass.expected_cost:  0\n",
       "rep0_range_58.endclass.in_bound:    True\n",
       "rep0_range_58.endclass.at_finish:   True\n",
       "rep0_range_58.endclass.line_dist:      1\n",
       "rep0_range_58.endclass.num_modes:      0\n",
       "rep0_range_58.endclass.end_dist:     0.0\n",
       "rep0_range_58.endclass.tot_deviation: 0.09231252412855706\n",
       "rep0_range_58.endclass.faults:        {}\n",
       "rep0_range_58.endclass.classification: nominal mission\n",
       "rep0_range_58.endclass.end_x: 29.059764611326536\n",
       "rep0_range_58.endclass.end_y: -5.451159941547954\n",
       "rep0_range_58.endclass.endpt:   array(2)\n",
       "rep0_range_59.endclass.rate:         1.0\n",
       "rep0_range_59.endclass.cost:           0\n",
       "rep0_range_59.endclass.prob: 0.011764705882352941\n",
       "rep0_range_59.endclass.expected_cost:  0\n",
       "rep0_range_59.endclass.in_bound:    True\n",
       "rep0_range_59.endclass.at_finish:   True\n",
       "rep0_range_59.endclass.line_dist:      1\n",
       "rep0_range_59.endclass.num_modes:      0\n",
       "rep0_range_59.endclass.end_dist:     0.0\n",
       "rep0_range_59.endclass.tot_deviation: 0.06009902047803829\n",
       "rep0_range_59.endclass.faults:        {}\n",
       "rep0_range_59.endclass.classification: nominal mission\n",
       "rep0_range_59.endclass.end_x: 29.22869847878602\n",
       "rep0_range_59.endclass.end_y: -2.7746897936170347\n",
       "rep0_range_59.endclass.endpt:   array(2)\n",
       "rep0_range_60.endclass.rate:         1.0\n",
       "rep0_range_60.endclass.cost:           0\n",
       "rep0_range_60.endclass.prob: 0.011764705882352941\n",
       "rep0_range_60.endclass.expected_cost:  0\n",
       "rep0_range_60.endclass.in_bound:   False\n",
       "rep0_range_60.endclass.at_finish:  False\n",
       "rep0_range_60.endclass.line_dist:      1\n",
       "rep0_range_60.endclass.num_modes:      0\n",
       "rep0_range_60.endclass.end_dist: 28.421448153300027\n",
       "rep0_range_60.endclass.tot_deviation: 0.30631236802771045\n",
       "rep0_range_60.endclass.faults:        {}\n",
       "rep0_range_60.endclass.classification: incomplete mission\n",
       "rep0_range_60.endclass.end_x: 0.49826423646282736\n",
       "rep0_range_60.endclass.end_y: 0.6816144542218703\n",
       "rep0_range_60.endclass.endpt:   array(2)\n",
       "rep0_range_61.endclass.rate:         1.0\n",
       "rep0_range_61.endclass.cost:           0\n",
       "rep0_range_61.endclass.prob: 0.011764705882352941\n",
       "rep0_range_61.endclass.expected_cost:  0\n",
       "rep0_range_61.endclass.in_bound:   False\n",
       "rep0_range_61.endclass.at_finish:  False\n",
       "rep0_range_61.endclass.line_dist:      1\n",
       "rep0_range_61.endclass.num_modes:      0\n",
       "rep0_range_61.endclass.end_dist: 28.255478032897106\n",
       "rep0_range_61.endclass.tot_deviation: 0.24183613938422435\n",
       "rep0_range_61.endclass.faults:        {}\n",
       "rep0_range_61.endclass.classification: incomplete mission\n",
       "rep0_range_61.endclass.end_x: 0.6492457811284543\n",
       "rep0_range_61.endclass.end_y: 0.7051123382075083\n",
       "rep0_range_61.endclass.endpt:   array(2)\n",
       "rep0_range_62.endclass.rate:         1.0\n",
       "rep0_range_62.endclass.cost:           0\n",
       "rep0_range_62.endclass.prob: 0.011764705882352941\n",
       "rep0_range_62.endclass.expected_cost:  0\n",
       "rep0_range_62.endclass.in_bound:    True\n",
       "rep0_range_62.endclass.at_finish:  False\n",
       "rep0_range_62.endclass.line_dist:      1\n",
       "rep0_range_62.endclass.num_modes:      0\n",
       "rep0_range_62.endclass.end_dist: 4.5310039311797645\n",
       "rep0_range_62.endclass.tot_deviation: 0.1646815061944902\n",
       "rep0_range_62.endclass.faults:        {}\n",
       "rep0_range_62.endclass.classification: incomplete mission\n",
       "rep0_range_62.endclass.end_x: 26.239376896625192\n",
       "rep0_range_62.endclass.end_y: -4.270894162039491\n",
       "rep0_range_62.endclass.endpt:   array(2)\n",
       "rep0_range_63.endclass.rate:         1.0\n",
       "rep0_range_63.endclass.cost:           0\n",
       "rep0_range_63.endclass.prob: 0.011764705882352941\n",
       "rep0_range_63.endclass.expected_cost:  0\n",
       "rep0_range_63.endclass.in_bound:    True\n",
       "rep0_range_63.endclass.at_finish:   True\n",
       "rep0_range_63.endclass.line_dist:      1\n",
       "rep0_range_63.endclass.num_modes:      0\n",
       "rep0_range_63.endclass.end_dist:     0.0\n",
       "rep0_range_63.endclass.tot_deviation: 0.10748404516450766\n",
       "rep0_range_63.endclass.faults:        {}\n",
       "rep0_range_63.endclass.classification: nominal mission\n",
       "rep0_range_63.endclass.end_x: 29.100098488021217\n",
       "rep0_range_63.endclass.end_y: -5.9514685138403784\n",
       "rep0_range_63.endclass.endpt:   array(2)\n",
       "rep0_range_64.endclass.rate:         1.0\n",
       "rep0_range_64.endclass.cost:           0\n",
       "rep0_range_64.endclass.prob: 0.011764705882352941\n",
       "rep0_range_64.endclass.expected_cost:  0\n",
       "rep0_range_64.endclass.in_bound:    True\n",
       "rep0_range_64.endclass.at_finish:   True\n",
       "rep0_range_64.endclass.line_dist:      1\n",
       "rep0_range_64.endclass.num_modes:      0\n",
       "rep0_range_64.endclass.end_dist:     0.0\n",
       "rep0_range_64.endclass.tot_deviation: 0.07173195503361116\n",
       "rep0_range_64.endclass.faults:        {}\n",
       "rep0_range_64.endclass.classification: nominal mission\n",
       "rep0_range_64.endclass.end_x: 29.14847778956668\n",
       "rep0_range_64.endclass.end_y: -2.975280169777914\n",
       "rep0_range_64.endclass.endpt:   array(2)\n",
       "rep0_range_65.endclass.rate:         1.0\n",
       "rep0_range_65.endclass.cost:           0\n",
       "rep0_range_65.endclass.prob: 0.011764705882352941\n",
       "rep0_range_65.endclass.expected_cost:  0\n",
       "rep0_range_65.endclass.in_bound:   False\n",
       "rep0_range_65.endclass.at_finish:  False\n",
       "rep0_range_65.endclass.line_dist:      1\n",
       "rep0_range_65.endclass.num_modes:      0\n",
       "rep0_range_65.endclass.end_dist: 28.43447643077065\n",
       "rep0_range_65.endclass.tot_deviation: 0.31054236879938535\n",
       "rep0_range_65.endclass.faults:        {}\n",
       "rep0_range_65.endclass.classification: incomplete mission\n",
       "rep0_range_65.endclass.end_x: 0.48629246619998606\n",
       "rep0_range_65.endclass.end_y: 0.6784498963847527\n",
       "rep0_range_65.endclass.endpt:   array(2)\n",
       "rep0_range_66.endclass.rate:         1.0\n",
       "rep0_range_66.endclass.cost:           0\n",
       "rep0_range_66.endclass.prob: 0.011764705882352941\n",
       "rep0_range_66.endclass.expected_cost:  0\n",
       "rep0_range_66.endclass.in_bound:   False\n",
       "rep0_range_66.endclass.at_finish:  False\n",
       "rep0_range_66.endclass.line_dist:      1\n",
       "rep0_range_66.endclass.num_modes:      0\n",
       "rep0_range_66.endclass.end_dist: 28.277404288264588\n",
       "rep0_range_66.endclass.tot_deviation: 0.25279618440772844\n",
       "rep0_range_66.endclass.faults:        {}\n",
       "rep0_range_66.endclass.classification: incomplete mission\n",
       "rep0_range_66.endclass.end_x: 0.6270032453420129\n",
       "rep0_range_66.endclass.end_y: 0.7034171604031787\n",
       "rep0_range_66.endclass.endpt:   array(2)\n",
       "rep0_range_67.endclass.rate:         1.0\n",
       "rep0_range_67.endclass.cost:           0\n",
       "rep0_range_67.endclass.prob: 0.011764705882352941\n",
       "rep0_range_67.endclass.expected_cost:  0\n",
       "rep0_range_67.endclass.in_bound:    True\n",
       "rep0_range_67.endclass.at_finish:  False\n",
       "rep0_range_67.endclass.line_dist:      1\n",
       "rep0_range_67.endclass.num_modes:      0\n",
       "rep0_range_67.endclass.end_dist: 5.6942890816851435\n",
       "rep0_range_67.endclass.tot_deviation: 0.18223502785226045\n",
       "rep0_range_67.endclass.faults:        {}\n",
       "rep0_range_67.endclass.classification: incomplete mission\n",
       "rep0_range_67.endclass.end_x: 25.56463051953614\n",
       "rep0_range_67.endclass.end_y: -5.236687839167172\n",
       "rep0_range_67.endclass.endpt:   array(2)\n",
       "rep0_range_68.endclass.rate:         1.0\n",
       "rep0_range_68.endclass.cost:           0\n",
       "rep0_range_68.endclass.prob: 0.011764705882352941\n",
       "rep0_range_68.endclass.expected_cost:  0\n",
       "rep0_range_68.endclass.in_bound:    True\n",
       "rep0_range_68.endclass.at_finish:   True\n",
       "rep0_range_68.endclass.line_dist:      1\n",
       "rep0_range_68.endclass.num_modes:      0\n",
       "rep0_range_68.endclass.end_dist:     0.0\n",
       "rep0_range_68.endclass.tot_deviation: 0.1225151434877088\n",
       "rep0_range_68.endclass.faults:        {}\n",
       "rep0_range_68.endclass.classification: nominal mission\n",
       "rep0_range_68.endclass.end_x: 28.9849136922847\n",
       "rep0_range_68.endclass.end_y: -6.429238234483911\n",
       "rep0_range_68.endclass.endpt:   array(2)\n",
       "rep0_range_69.endclass.rate:         1.0\n",
       "rep0_range_69.endclass.cost:           0\n",
       "rep0_range_69.endclass.prob: 0.011764705882352941\n",
       "rep0_range_69.endclass.expected_cost:  0\n",
       "rep0_range_69.endclass.in_bound:    True\n",
       "rep0_range_69.endclass.at_finish:   True\n",
       "rep0_range_69.endclass.line_dist:      1\n",
       "rep0_range_69.endclass.num_modes:      0\n",
       "rep0_range_69.endclass.end_dist:     0.0\n",
       "rep0_range_69.endclass.tot_deviation: 0.08366717622777053\n",
       "rep0_range_69.endclass.faults:        {}\n",
       "rep0_range_69.endclass.classification: nominal mission\n",
       "rep0_range_69.endclass.end_x: 29.138085325670218\n",
       "rep0_range_69.endclass.end_y: -3.243907713839231\n",
       "rep0_range_69.endclass.endpt:   array(2)\n",
       "rep0_range_70.endclass.rate:         1.0\n",
       "rep0_range_70.endclass.cost:           0\n",
       "rep0_range_70.endclass.prob: 0.011764705882352941\n",
       "rep0_range_70.endclass.expected_cost:  0\n",
       "rep0_range_70.endclass.in_bound:   False\n",
       "rep0_range_70.endclass.at_finish:  False\n",
       "rep0_range_70.endclass.line_dist:      1\n",
       "rep0_range_70.endclass.num_modes:      0\n",
       "rep0_range_70.endclass.end_dist: 28.445826042740585\n",
       "rep0_range_70.endclass.tot_deviation: 0.314036446266242\n",
       "rep0_range_70.endclass.faults:        {}\n",
       "rep0_range_70.endclass.classification: incomplete mission\n",
       "rep0_range_70.endclass.end_x: 0.4760389492712123\n",
       "rep0_range_70.endclass.end_y: 0.6755705918363415\n",
       "rep0_range_70.endclass.endpt:   array(2)\n",
       "rep0_range_71.endclass.rate:         1.0\n",
       "rep0_range_71.endclass.cost:           0\n",
       "rep0_range_71.endclass.prob: 0.011764705882352941\n",
       "rep0_range_71.endclass.expected_cost:  0\n",
       "rep0_range_71.endclass.in_bound:   False\n",
       "rep0_range_71.endclass.at_finish:  False\n",
       "rep0_range_71.endclass.line_dist:      1\n",
       "rep0_range_71.endclass.num_modes:      0\n",
       "rep0_range_71.endclass.end_dist: 28.29653515637125\n",
       "rep0_range_71.endclass.tot_deviation: 0.2619154224258985\n",
       "rep0_range_71.endclass.faults:        {}\n",
       "rep0_range_71.endclass.classification: incomplete mission\n",
       "rep0_range_71.endclass.end_x: 0.6075632853584889\n",
       "rep0_range_71.endclass.end_y: 0.7014629003459592\n",
       "rep0_range_71.endclass.endpt:   array(2)\n",
       "rep0_range_72.endclass.rate:         1.0\n",
       "rep0_range_72.endclass.cost:           0\n",
       "rep0_range_72.endclass.prob: 0.011764705882352941\n",
       "rep0_range_72.endclass.expected_cost:  0\n",
       "rep0_range_72.endclass.in_bound:    True\n",
       "rep0_range_72.endclass.at_finish:  False\n",
       "rep0_range_72.endclass.line_dist:      1\n",
       "rep0_range_72.endclass.num_modes:      0\n",
       "rep0_range_72.endclass.end_dist: 6.890147241315012\n",
       "rep0_range_72.endclass.tot_deviation: 0.19872465093713085\n",
       "rep0_range_72.endclass.faults:        {}\n",
       "rep0_range_72.endclass.classification: incomplete mission\n",
       "rep0_range_72.endclass.end_x: 24.848064081728296\n",
       "rep0_range_72.endclass.end_y: -6.207276641169724\n",
       "rep0_range_72.endclass.endpt:   array(2)\n",
       "rep0_range_73.endclass.rate:         1.0\n",
       "rep0_range_73.endclass.cost:           0\n",
       "rep0_range_73.endclass.prob: 0.011764705882352941\n",
       "rep0_range_73.endclass.expected_cost:  0\n",
       "rep0_range_73.endclass.in_bound:    True\n",
       "rep0_range_73.endclass.at_finish:   True\n",
       "rep0_range_73.endclass.line_dist:      1\n",
       "rep0_range_73.endclass.num_modes:      0\n",
       "rep0_range_73.endclass.end_dist:     0.0\n",
       "rep0_range_73.endclass.tot_deviation: 0.1372137456637202\n",
       "rep0_range_73.endclass.faults:        {}\n",
       "rep0_range_73.endclass.classification: nominal mission\n",
       "rep0_range_73.endclass.end_x: 29.06597575460469\n",
       "rep0_range_73.endclass.end_y: -6.937122775298684\n",
       "rep0_range_73.endclass.endpt:   array(2)\n",
       "rep0_range_74.endclass.rate:         1.0\n",
       "rep0_range_74.endclass.cost:           0\n",
       "rep0_range_74.endclass.prob: 0.011764705882352941\n",
       "rep0_range_74.endclass.expected_cost:  0\n",
       "rep0_range_74.endclass.in_bound:    True\n",
       "rep0_range_74.endclass.at_finish:   True\n",
       "rep0_range_74.endclass.line_dist:      1\n",
       "rep0_range_74.endclass.num_modes:      0\n",
       "rep0_range_74.endclass.end_dist:     0.0\n",
       "rep0_range_74.endclass.tot_deviation: 0.09575844094097263\n",
       "rep0_range_74.endclass.faults:        {}\n",
       "rep0_range_74.endclass.classification: nominal mission\n",
       "rep0_range_74.endclass.end_x: 29.167928392027573\n",
       "rep0_range_74.endclass.end_y: -3.5177121370112236\n",
       "rep0_range_74.endclass.endpt:   array(2)\n",
       "rep0_range_75.endclass.rate:         1.0\n",
       "rep0_range_75.endclass.cost:           0\n",
       "rep0_range_75.endclass.prob: 0.011764705882352941\n",
       "rep0_range_75.endclass.expected_cost:  0\n",
       "rep0_range_75.endclass.in_bound:   False\n",
       "rep0_range_75.endclass.at_finish:  False\n",
       "rep0_range_75.endclass.line_dist:      1\n",
       "rep0_range_75.endclass.num_modes:      0\n",
       "rep0_range_75.endclass.end_dist: 28.45583477972009\n",
       "rep0_range_75.endclass.tot_deviation: 0.31697408986565734\n",
       "rep0_range_75.endclass.faults:        {}\n",
       "rep0_range_75.endclass.classification: incomplete mission\n",
       "rep0_range_75.endclass.end_x: 0.46716557167960754\n",
       "rep0_range_75.endclass.end_y: 0.6729501978604223\n",
       "rep0_range_75.endclass.endpt:   array(2)\n",
       "rep0_range_76.endclass.rate:         1.0\n",
       "rep0_range_76.endclass.cost:           0\n",
       "rep0_range_76.endclass.prob: 0.011764705882352941\n",
       "rep0_range_76.endclass.expected_cost:  0\n",
       "rep0_range_76.endclass.in_bound:   False\n",
       "rep0_range_76.endclass.at_finish:  False\n",
       "rep0_range_76.endclass.line_dist:      1\n",
       "rep0_range_76.endclass.num_modes:      0\n",
       "rep0_range_76.endclass.end_dist: 28.313332477150254\n",
       "rep0_range_76.endclass.tot_deviation: 0.26966160612923196\n",
       "rep0_range_76.endclass.faults:        {}\n",
       "rep0_range_76.endclass.classification: incomplete mission\n",
       "rep0_range_76.endclass.end_x: 0.5904663460069287\n",
       "rep0_range_76.endclass.end_y: 0.699369713099375\n",
       "rep0_range_76.endclass.endpt:   array(2)\n",
       "rep0_range_77.endclass.rate:         1.0\n",
       "rep0_range_77.endclass.cost:           0\n",
       "rep0_range_77.endclass.prob: 0.011764705882352941\n",
       "rep0_range_77.endclass.expected_cost:  0\n",
       "rep0_range_77.endclass.in_bound:   False\n",
       "rep0_range_77.endclass.at_finish:  False\n",
       "rep0_range_77.endclass.line_dist:      1\n",
       "rep0_range_77.endclass.num_modes:      0\n",
       "rep0_range_77.endclass.end_dist: 28.208717970684507\n",
       "rep0_range_77.endclass.tot_deviation: 0.2137573628689993\n",
       "rep0_range_77.endclass.faults:        {}\n",
       "rep0_range_77.endclass.classification: incomplete mission\n",
       "rep0_range_77.endclass.end_x: 0.7045166183349069\n",
       "rep0_range_77.endclass.end_y: 0.7069263091131811\n",
       "rep0_range_77.endclass.endpt:   array(2)\n",
       "rep0_range_78.endclass.rate:         1.0\n",
       "rep0_range_78.endclass.cost:           0\n",
       "rep0_range_78.endclass.prob: 0.011764705882352941\n",
       "rep0_range_78.endclass.expected_cost:  0\n",
       "rep0_range_78.endclass.in_bound:    True\n",
       "rep0_range_78.endclass.at_finish:  False\n",
       "rep0_range_78.endclass.line_dist:      1\n",
       "rep0_range_78.endclass.num_modes:      0\n",
       "rep0_range_78.endclass.end_dist: 1.5855378215111895\n",
       "rep0_range_78.endclass.tot_deviation: 0.1514899446098637\n",
       "rep0_range_78.endclass.faults:        {}\n",
       "rep0_range_78.endclass.classification: incomplete mission\n",
       "rep0_range_78.endclass.end_x: 27.38841623442044\n",
       "rep0_range_78.endclass.end_y: -6.889895302939244\n",
       "rep0_range_78.endclass.endpt:   array(2)\n",
       "rep0_range_79.endclass.rate:         1.0\n",
       "rep0_range_79.endclass.cost:           0\n",
       "rep0_range_79.endclass.prob: 0.011764705882352941\n",
       "rep0_range_79.endclass.expected_cost:  0\n",
       "rep0_range_79.endclass.in_bound:    True\n",
       "rep0_range_79.endclass.at_finish:   True\n",
       "rep0_range_79.endclass.line_dist:      1\n",
       "rep0_range_79.endclass.num_modes:      0\n",
       "rep0_range_79.endclass.end_dist:     0.0\n",
       "rep0_range_79.endclass.tot_deviation: 0.10786989409874645\n",
       "rep0_range_79.endclass.faults:        {}\n",
       "rep0_range_79.endclass.classification: nominal mission\n",
       "rep0_range_79.endclass.end_x: 29.604163902300524\n",
       "rep0_range_79.endclass.end_y: -4.108534325762307\n",
       "rep0_range_79.endclass.endpt:   array(2)\n",
       "rep0_range_80.endclass.rate:         1.0\n",
       "rep0_range_80.endclass.cost:           0\n",
       "rep0_range_80.endclass.prob: 0.011764705882352941\n",
       "rep0_range_80.endclass.expected_cost:  0\n",
       "rep0_range_80.endclass.in_bound:   False\n",
       "rep0_range_80.endclass.at_finish:  False\n",
       "rep0_range_80.endclass.line_dist:      1\n",
       "rep0_range_80.endclass.num_modes:      0\n",
       "rep0_range_80.endclass.end_dist: 28.464758603286114\n",
       "rep0_range_80.endclass.tot_deviation: 0.31947310466698464\n",
       "rep0_range_80.endclass.faults:        {}\n",
       "rep0_range_80.endclass.classification: incomplete mission\n",
       "rep0_range_80.endclass.end_x: 0.4594159647529185\n",
       "rep0_range_80.endclass.end_y: 0.6705620604973453\n",
       "rep0_range_80.endclass.endpt:   array(2)\n",
       "rep0_range_81.endclass.rate:         1.0\n",
       "rep0_range_81.endclass.cost:           0\n",
       "rep0_range_81.endclass.prob: 0.011764705882352941\n",
       "rep0_range_81.endclass.expected_cost:  0\n",
       "rep0_range_81.endclass.in_bound:   False\n",
       "rep0_range_81.endclass.at_finish:  False\n",
       "rep0_range_81.endclass.line_dist:      1\n",
       "rep0_range_81.endclass.num_modes:      0\n",
       "rep0_range_81.endclass.end_dist: 28.32816990227081\n",
       "rep0_range_81.endclass.tot_deviation: 0.27630020290174767\n",
       "rep0_range_81.endclass.faults:        {}\n",
       "rep0_range_81.endclass.classification: incomplete mission\n",
       "rep0_range_81.endclass.end_x: 0.5753401674204985\n",
       "rep0_range_81.endclass.end_y: 0.6972181084548181\n",
       "rep0_range_81.endclass.endpt:   array(2)\n",
       "rep0_range_82.endclass.rate:         1.0\n",
       "rep0_range_82.endclass.cost:           0\n",
       "rep0_range_82.endclass.prob: 0.011764705882352941\n",
       "rep0_range_82.endclass.expected_cost:  0\n",
       "rep0_range_82.endclass.in_bound:   False\n",
       "rep0_range_82.endclass.at_finish:  False\n",
       "rep0_range_82.endclass.line_dist:      1\n",
       "rep0_range_82.endclass.num_modes:      0\n",
       "rep0_range_82.endclass.end_dist: 28.229303884062908\n",
       "rep0_range_82.endclass.tot_deviation: 0.22464200266132195\n",
       "rep0_range_82.endclass.faults:        {}\n",
       "rep0_range_82.endclass.classification: incomplete mission\n",
       "rep0_range_82.endclass.end_x: 0.6842350326878053\n",
       "rep0_range_82.endclass.end_y: 0.7066488862024055\n",
       "rep0_range_82.endclass.endpt:   array(2)\n",
       "rep0_range_83.endclass.rate:         1.0\n",
       "rep0_range_83.endclass.cost:           0\n",
       "rep0_range_83.endclass.prob: 0.011764705882352941\n",
       "rep0_range_83.endclass.expected_cost:  0\n",
       "rep0_range_83.endclass.in_bound:    True\n",
       "rep0_range_83.endclass.at_finish:  False\n",
       "rep0_range_83.endclass.line_dist:      1\n",
       "rep0_range_83.endclass.num_modes:      0\n",
       "rep0_range_83.endclass.end_dist: 0.22753625934866703\n",
       "rep0_range_83.endclass.tot_deviation: 0.16526381042223026\n",
       "rep0_range_83.endclass.faults:        {}\n",
       "rep0_range_83.endclass.classification: incomplete mission\n",
       "rep0_range_83.endclass.end_x: 28.68345922393005\n",
       "rep0_range_83.endclass.end_y: -7.8425482454625834\n",
       "rep0_range_83.endclass.endpt:   array(2)\n",
       "rep0_range_84.endclass.rate:         1.0\n",
       "rep0_range_84.endclass.cost:           0\n",
       "rep0_range_84.endclass.prob: 0.011764705882352941\n",
       "rep0_range_84.endclass.expected_cost:  0\n",
       "rep0_range_84.endclass.in_bound:    True\n",
       "rep0_range_84.endclass.at_finish:   True\n",
       "rep0_range_84.endclass.line_dist:      1\n",
       "rep0_range_84.endclass.num_modes:      0\n",
       "rep0_range_84.endclass.end_dist:     0.0\n",
       "rep0_range_84.endclass.tot_deviation: 0.11989088615099242\n",
       "rep0_range_84.endclass.faults:        {}\n",
       "rep0_range_84.endclass.classification: nominal mission\n",
       "rep0_range_84.endclass.end_x: 29.246112622860345\n",
       "rep0_range_84.endclass.end_y: -4.086569755049319\n",
       "rep0_range_84.endclass.endpt:   array(2)"
      ]
     },
     "execution_count": 12,
     "metadata": {},
     "output_type": "execute_result"
    }
   ],
   "source": [
    "res, hist = prop.parameter_sample(mdl, ps_sine)\n",
    "res"
   ]
  },
  {
   "attachments": {},
   "cell_type": "markdown",
   "metadata": {},
   "source": [
    "To speed up execution over large numbers of scenarios, multiprocessing can also be used to run the scenarios in parallel by passing an execution pool. This is not done here because it would require the model to be in a different file, and because the gains on a light-weight model like this are not significant."
   ]
  },
  {
   "attachments": {},
   "cell_type": "markdown",
   "metadata": {},
   "source": [
    "Now that the approach has been simulated, the operational envelope can be visualized using the `fmdtools.analyze.tabulate.NominalEnvelope` class, which can be used to plot the *classification* of the model in the 1/2/3 dimensions over the set of given parameters as nominal or incomplete. \n",
    "\n",
    "Note that this classification must be in the dictionary returned from the Model's `find_classification` function at the end of the model run under the key `classification` as is done in the rover model. This classification must also be encoded as a string."
   ]
  },
  {
   "cell_type": "code",
   "execution_count": 13,
   "metadata": {
    "execution": {
     "iopub.execute_input": "2024-01-08T23:02:10.267787Z",
     "iopub.status.busy": "2024-01-08T23:02:10.267787Z",
     "iopub.status.idle": "2024-01-08T23:02:10.278106Z",
     "shell.execute_reply": "2024-01-08T23:02:10.277576Z"
    }
   },
   "outputs": [],
   "source": [
    "from fmdtools.analyze.tabulate import NominalEnvelope"
   ]
  },
  {
   "attachments": {},
   "cell_type": "markdown",
   "metadata": {},
   "source": [
    "We can then use these results to visualize the operational envelope for the system over each case. In this case, the parameter ranges of the sine wave are plotted, showing that the rover can only a low ration of amplitude to wavelenght."
   ]
  },
  {
   "cell_type": "code",
   "execution_count": 14,
   "metadata": {
    "execution": {
     "iopub.execute_input": "2024-01-08T23:02:10.278106Z",
     "iopub.status.busy": "2024-01-08T23:02:10.278106Z",
     "iopub.status.idle": "2024-01-08T23:02:10.916712Z",
     "shell.execute_reply": "2024-01-08T23:02:10.916158Z"
    }
   },
   "outputs": [
    {
     "data": {
      "text/plain": [
       "(<Figure size 600x400 with 1 Axes>,\n",
       " <Axes: xlabel='p.ground.amp', ylabel='p.ground.period'>)"
      ]
     },
     "execution_count": 14,
     "metadata": {},
     "output_type": "execute_result"
    },
    {
     "data": {
      "image/png": "[encoded data removed]",
      "text/plain": [
       "<Figure size 600x400 with 1 Axes>"
      ]
     },
     "metadata": {},
     "output_type": "display_data"
    }
   ],
   "source": [
    "ne = NominalEnvelope(ps_sine, res, 'at_finish', 'p.ground.amp', 'p.ground.period', func=lambda x: x == True)\n",
    "ne.as_plot()"
   ]
  },
  {
   "attachments": {},
   "cell_type": "markdown",
   "metadata": {},
   "source": [
    "While this is helpful for plotting string classifications, we also might want to compare numeric quantities (e.g., costs, hazard probabilities, etc) over the set of factors. For this, `fmdtools.analyze.tabulate.Comparison` is used, which creates a comparison which can be visualized as a table or plot."
   ]
  },
  {
   "cell_type": "code",
   "execution_count": 15,
   "metadata": {
    "execution": {
     "iopub.execute_input": "2024-01-08T23:02:10.917643Z",
     "iopub.status.busy": "2024-01-08T23:02:10.917643Z",
     "iopub.status.idle": "2024-01-08T23:02:11.056535Z",
     "shell.execute_reply": "2024-01-08T23:02:11.055996Z"
    }
   },
   "outputs": [
    {
     "data": {
      "text/html": [
       "<div>\n",
       "<style scoped>\n",
       "    .dataframe tbody tr th:only-of-type {\n",
       "        vertical-align: middle;\n",
       "    }\n",
       "\n",
       "    .dataframe tbody tr th {\n",
       "        vertical-align: top;\n",
       "    }\n",
       "\n",
       "    .dataframe thead th {\n",
       "        text-align: right;\n",
       "    }\n",
       "</style>\n",
       "<table border=\"1\" class=\"dataframe\">\n",
       "  <thead>\n",
       "    <tr style=\"text-align: right;\">\n",
       "      <th></th>\n",
       "      <th></th>\n",
       "      <th>end_dist</th>\n",
       "      <th>tot_deviation</th>\n",
       "    </tr>\n",
       "  </thead>\n",
       "  <tbody>\n",
       "    <tr>\n",
       "      <th>8.0</th>\n",
       "      <th>10</th>\n",
       "      <td>28.464759</td>\n",
       "      <td>0.319473</td>\n",
       "    </tr>\n",
       "    <tr>\n",
       "      <th>7.5</th>\n",
       "      <th>10</th>\n",
       "      <td>28.455835</td>\n",
       "      <td>0.316974</td>\n",
       "    </tr>\n",
       "    <tr>\n",
       "      <th>7.0</th>\n",
       "      <th>10</th>\n",
       "      <td>28.445826</td>\n",
       "      <td>0.314036</td>\n",
       "    </tr>\n",
       "    <tr>\n",
       "      <th>6.5</th>\n",
       "      <th>10</th>\n",
       "      <td>28.434476</td>\n",
       "      <td>0.310542</td>\n",
       "    </tr>\n",
       "    <tr>\n",
       "      <th>6.0</th>\n",
       "      <th>10</th>\n",
       "      <td>28.421448</td>\n",
       "      <td>0.306312</td>\n",
       "    </tr>\n",
       "    <tr>\n",
       "      <th>...</th>\n",
       "      <th>...</th>\n",
       "      <td>...</td>\n",
       "      <td>...</td>\n",
       "    </tr>\n",
       "    <tr>\n",
       "      <th rowspan=\"5\" valign=\"top\">0.0</th>\n",
       "      <th>30</th>\n",
       "      <td>0.000000</td>\n",
       "      <td>0.000000</td>\n",
       "    </tr>\n",
       "    <tr>\n",
       "      <th>50</th>\n",
       "      <td>0.000000</td>\n",
       "      <td>0.000000</td>\n",
       "    </tr>\n",
       "    <tr>\n",
       "      <th>10</th>\n",
       "      <td>0.000000</td>\n",
       "      <td>0.000000</td>\n",
       "    </tr>\n",
       "    <tr>\n",
       "      <th>40</th>\n",
       "      <td>0.000000</td>\n",
       "      <td>0.000000</td>\n",
       "    </tr>\n",
       "    <tr>\n",
       "      <th>20</th>\n",
       "      <td>0.000000</td>\n",
       "      <td>0.000000</td>\n",
       "    </tr>\n",
       "  </tbody>\n",
       "</table>\n",
       "<p>85 rows × 2 columns</p>\n",
       "</div>"
      ],
      "text/plain": [
       "         end_dist  tot_deviation\n",
       "8.0 10  28.464759       0.319473\n",
       "7.5 10  28.455835       0.316974\n",
       "7.0 10  28.445826       0.314036\n",
       "6.5 10  28.434476       0.310542\n",
       "6.0 10  28.421448       0.306312\n",
       "...           ...            ...\n",
       "0.0 30   0.000000       0.000000\n",
       "    50   0.000000       0.000000\n",
       "    10   0.000000       0.000000\n",
       "    40   0.000000       0.000000\n",
       "    20   0.000000       0.000000\n",
       "\n",
       "[85 rows x 2 columns]"
      ]
     },
     "execution_count": 15,
     "metadata": {},
     "output_type": "execute_result"
    }
   ],
   "source": [
    "from fmdtools.analyze.tabulate import Comparison\n",
    "\n",
    "comp = Comparison(res, ps_sine, metrics=['end_dist', 'tot_deviation'], factors=['p.ground.amp', 'p.ground.period'])\n",
    "comp.sort_by_metric(\"end_dist\")\n",
    "comp.as_table()"
   ]
  },
  {
   "cell_type": "code",
   "execution_count": 16,
   "metadata": {
    "execution": {
     "iopub.execute_input": "2024-01-08T23:02:11.059663Z",
     "iopub.status.busy": "2024-01-08T23:02:11.058455Z",
     "iopub.status.idle": "2024-01-08T23:02:11.586748Z",
     "shell.execute_reply": "2024-01-08T23:02:11.586209Z"
    }
   },
   "outputs": [
    {
     "data": {
      "image/png": "[encoded data removed]",
      "text/plain": [
       "<Figure size 2000x100 with 1 Axes>"
      ]
     },
     "metadata": {},
     "output_type": "display_data"
    }
   ],
   "source": [
    "comp.sort_by_factor(\"p.ground.period\", reverse=True)\n",
    "comp.sort_by_factor(\"p.ground.amp\")\n",
    "fig, ax = comp.as_plot(\"end_dist\", color_factor = \"p.ground.period\", figsize=(20, 1))"
   ]
  },
  {
   "attachments": {},
   "cell_type": "markdown",
   "metadata": {},
   "source": [
    "This table can also be summarized on individual factors:"
   ]
  },
  {
   "cell_type": "code",
   "execution_count": 17,
   "metadata": {
    "execution": {
     "iopub.execute_input": "2024-01-08T23:02:11.587690Z",
     "iopub.status.busy": "2024-01-08T23:02:11.587690Z",
     "iopub.status.idle": "2024-01-08T23:02:11.666840Z",
     "shell.execute_reply": "2024-01-08T23:02:11.666298Z"
    }
   },
   "outputs": [
    {
     "data": {
      "text/html": [
       "<div>\n",
       "<style scoped>\n",
       "    .dataframe tbody tr th:only-of-type {\n",
       "        vertical-align: middle;\n",
       "    }\n",
       "\n",
       "    .dataframe tbody tr th {\n",
       "        vertical-align: top;\n",
       "    }\n",
       "\n",
       "    .dataframe thead th {\n",
       "        text-align: right;\n",
       "    }\n",
       "</style>\n",
       "<table border=\"1\" class=\"dataframe\">\n",
       "  <thead>\n",
       "    <tr style=\"text-align: right;\">\n",
       "      <th></th>\n",
       "      <th>end_dist</th>\n",
       "    </tr>\n",
       "  </thead>\n",
       "  <tbody>\n",
       "    <tr>\n",
       "      <th>7.5</th>\n",
       "      <td>86.563423</td>\n",
       "    </tr>\n",
       "    <tr>\n",
       "      <th>8.0</th>\n",
       "      <td>85.249769</td>\n",
       "    </tr>\n",
       "    <tr>\n",
       "      <th>7.0</th>\n",
       "      <td>63.632508</td>\n",
       "    </tr>\n",
       "    <tr>\n",
       "      <th>6.5</th>\n",
       "      <td>62.406170</td>\n",
       "    </tr>\n",
       "    <tr>\n",
       "      <th>6.0</th>\n",
       "      <td>61.207930</td>\n",
       "    </tr>\n",
       "    <tr>\n",
       "      <th>5.5</th>\n",
       "      <td>60.150356</td>\n",
       "    </tr>\n",
       "    <tr>\n",
       "      <th>5.0</th>\n",
       "      <td>59.466884</td>\n",
       "    </tr>\n",
       "    <tr>\n",
       "      <th>4.5</th>\n",
       "      <td>35.179679</td>\n",
       "    </tr>\n",
       "    <tr>\n",
       "      <th>4.0</th>\n",
       "      <td>34.913898</td>\n",
       "    </tr>\n",
       "    <tr>\n",
       "      <th>3.5</th>\n",
       "      <td>32.246384</td>\n",
       "    </tr>\n",
       "    <tr>\n",
       "      <th>3.0</th>\n",
       "      <td>30.919348</td>\n",
       "    </tr>\n",
       "    <tr>\n",
       "      <th>2.5</th>\n",
       "      <td>29.844836</td>\n",
       "    </tr>\n",
       "    <tr>\n",
       "      <th>1.5</th>\n",
       "      <td>6.298143</td>\n",
       "    </tr>\n",
       "    <tr>\n",
       "      <th>2.0</th>\n",
       "      <td>5.097185</td>\n",
       "    </tr>\n",
       "    <tr>\n",
       "      <th>0.5</th>\n",
       "      <td>0.000000</td>\n",
       "    </tr>\n",
       "    <tr>\n",
       "      <th>1.0</th>\n",
       "      <td>0.000000</td>\n",
       "    </tr>\n",
       "    <tr>\n",
       "      <th>0.0</th>\n",
       "      <td>0.000000</td>\n",
       "    </tr>\n",
       "  </tbody>\n",
       "</table>\n",
       "</div>"
      ],
      "text/plain": [
       "      end_dist\n",
       "7.5  86.563423\n",
       "8.0  85.249769\n",
       "7.0  63.632508\n",
       "6.5  62.406170\n",
       "6.0  61.207930\n",
       "5.5  60.150356\n",
       "5.0  59.466884\n",
       "4.5  35.179679\n",
       "4.0  34.913898\n",
       "3.5  32.246384\n",
       "3.0  30.919348\n",
       "2.5  29.844836\n",
       "1.5   6.298143\n",
       "2.0   5.097185\n",
       "0.5   0.000000\n",
       "1.0   0.000000\n",
       "0.0   0.000000"
      ]
     },
     "execution_count": 17,
     "metadata": {},
     "output_type": "execute_result"
    }
   ],
   "source": [
    "scomp = Comparison(res, ps_sine, metrics=['end_dist'], factors=['p.ground.amp'])\n",
    "scomp.sort_by_factor('p.ground.amp')\n",
    "scomp.as_table()"
   ]
  },
  {
   "cell_type": "code",
   "execution_count": 18,
   "metadata": {
    "execution": {
     "iopub.execute_input": "2024-01-08T23:02:11.666840Z",
     "iopub.status.busy": "2024-01-08T23:02:11.666840Z",
     "iopub.status.idle": "2024-01-08T23:02:11.806675Z",
     "shell.execute_reply": "2024-01-08T23:02:11.806288Z"
    }
   },
   "outputs": [
    {
     "data": {
      "text/plain": [
       "(<Figure size 600x400 with 1 Axes>, <Axes: xlabel='p.ground.amp'>)"
      ]
     },
     "execution_count": 18,
     "metadata": {},
     "output_type": "execute_result"
    },
    {
     "data": {
      "image/png": "[encoded data removed]",
      "text/plain": [
       "<Figure size 600x400 with 1 Axes>"
      ]
     },
     "metadata": {},
     "output_type": "display_data"
    }
   ],
   "source": [
    "scomp.as_plot(\"end_dist\")"
   ]
  },
  {
   "attachments": {},
   "cell_type": "markdown",
   "metadata": {},
   "source": [
    "## Quantifying probabilities\n",
    "\n",
    "Given the ability to simulate over ranges, it can additionally be used to quantify probabilities of the different end-state classifications. `Result.state_probabilities()` can be used to quantify the probability these classifications."
   ]
  },
  {
   "cell_type": "code",
   "execution_count": 19,
   "metadata": {
    "execution": {
     "iopub.execute_input": "2024-01-08T23:02:11.809699Z",
     "iopub.status.busy": "2024-01-08T23:02:11.809699Z",
     "iopub.status.idle": "2024-01-08T23:02:11.821649Z",
     "shell.execute_reply": "2024-01-08T23:02:11.821649Z"
    }
   },
   "outputs": [
    {
     "data": {
      "text/plain": [
       "{'nominal mission': 0.5764705882352943,\n",
       " 'incomplete mission': 0.4235294117647062}"
      ]
     },
     "execution_count": 19,
     "metadata": {},
     "output_type": "execute_result"
    }
   ],
   "source": [
    "res.state_probabilities()"
   ]
  },
  {
   "attachments": {},
   "cell_type": "markdown",
   "metadata": {},
   "source": [
    "## Nested Scenario Sampling\n",
    "\n",
    "Thus far, we have introduced two types of samples \n",
    "- `FaultSample`, which is used to evaluate the system resilience to a set of faults\n",
    "- `ParameterSample`, which is used to evaluate system performance over a set of parameters\n",
    "\n",
    "These both have their limitations when used alone. Simulating a `FaultSample` using `propagate.fault_sample` solely evaluates evaluates fault-driven hazards in a single nominal set of parameters (which may not generalize) while simulating a `ParameterSample` using `propagate.parameter_sample` evaluates the systerm performance/resilience to external parameters (But not faults).\n",
    "\n",
    "To resolve these limitations, one can use a *nested* scenario sampling approach where a `SampleApproach` is simulated at each parameter level of a `ParameterSample`, giving the resilience of the system to faults over a set of operational parameters. This is called using the `propagate.nested_sample` method."
   ]
  },
  {
   "attachments": {},
   "cell_type": "markdown",
   "metadata": {},
   "source": [
    "Here we use the nominal approach generated earlier with a default sampling approach to quantify resilience."
   ]
  },
  {
   "cell_type": "code",
   "execution_count": 20,
   "metadata": {
    "execution": {
     "iopub.execute_input": "2024-01-08T23:02:11.824382Z",
     "iopub.status.busy": "2024-01-08T23:02:11.824382Z",
     "iopub.status.idle": "2024-01-08T23:02:11.836822Z",
     "shell.execute_reply": "2024-01-08T23:02:11.836822Z"
    }
   },
   "outputs": [
    {
     "data": {
      "text/plain": [
       "SampleApproach for rover with: \n",
       " faultdomains: power\n",
       " faultsamples: power"
      ]
     },
     "execution_count": 20,
     "metadata": {},
     "output_type": "execute_result"
    }
   ],
   "source": [
    "from fmdtools.sim.sample import SampleApproach\n",
    "sa = SampleApproach(mdl)\n",
    "# adding fault domains\n",
    "sa.add_faultdomain(\"power\", \"all_fxn_modes\", \"power\")\n",
    "sa.add_faultsample(\"power\", \"fault_times\", \"power\", [1,2])\n",
    "sa"
   ]
  },
  {
   "cell_type": "code",
   "execution_count": 21,
   "metadata": {
    "execution": {
     "iopub.execute_input": "2024-01-08T23:02:11.839714Z",
     "iopub.status.busy": "2024-01-08T23:02:11.839714Z",
     "iopub.status.idle": "2024-01-08T23:02:59.006491Z",
     "shell.execute_reply": "2024-01-08T23:02:59.005949Z"
    }
   },
   "outputs": [
    {
     "name": "stderr",
     "output_type": "stream",
     "text": [
      "\r",
      "NESTED SCENARIOS COMPLETE:   0%|          | 0/85 [00:00<?, ?it/s]"
     ]
    },
    {
     "name": "stderr",
     "output_type": "stream",
     "text": [
      "\r",
      "NESTED SCENARIOS COMPLETE:   1%|          | 1/85 [00:00<00:28,  2.93it/s]"
     ]
    },
    {
     "name": "stderr",
     "output_type": "stream",
     "text": [
      "\r",
      "NESTED SCENARIOS COMPLETE:   2%|▏         | 2/85 [00:00<00:28,  2.91it/s]"
     ]
    },
    {
     "name": "stderr",
     "output_type": "stream",
     "text": [
      "\r",
      "NESTED SCENARIOS COMPLETE:   4%|▎         | 3/85 [00:01<00:28,  2.85it/s]"
     ]
    },
    {
     "name": "stderr",
     "output_type": "stream",
     "text": [
      "\r",
      "NESTED SCENARIOS COMPLETE:   5%|▍         | 4/85 [00:01<00:28,  2.85it/s]"
     ]
    },
    {
     "name": "stderr",
     "output_type": "stream",
     "text": [
      "\r",
      "NESTED SCENARIOS COMPLETE:   6%|▌         | 5/85 [00:01<00:27,  2.86it/s]"
     ]
    },
    {
     "name": "stderr",
     "output_type": "stream",
     "text": [
      "\r",
      "NESTED SCENARIOS COMPLETE:   7%|▋         | 6/85 [00:02<00:37,  2.13it/s]"
     ]
    },
    {
     "name": "stderr",
     "output_type": "stream",
     "text": [
      "\r",
      "NESTED SCENARIOS COMPLETE:   8%|▊         | 7/85 [00:03<00:39,  1.99it/s]"
     ]
    },
    {
     "name": "stderr",
     "output_type": "stream",
     "text": [
      "\r",
      "NESTED SCENARIOS COMPLETE:   9%|▉         | 8/85 [00:03<00:41,  1.88it/s]"
     ]
    },
    {
     "name": "stderr",
     "output_type": "stream",
     "text": [
      "\r",
      "NESTED SCENARIOS COMPLETE:  11%|█         | 9/85 [00:04<00:39,  1.90it/s]"
     ]
    },
    {
     "name": "stderr",
     "output_type": "stream",
     "text": [
      "\r",
      "NESTED SCENARIOS COMPLETE:  12%|█▏        | 10/85 [00:04<00:40,  1.87it/s]"
     ]
    },
    {
     "name": "stderr",
     "output_type": "stream",
     "text": [
      "\r",
      "NESTED SCENARIOS COMPLETE:  13%|█▎        | 11/85 [00:05<00:44,  1.66it/s]"
     ]
    },
    {
     "name": "stderr",
     "output_type": "stream",
     "text": [
      "\r",
      "NESTED SCENARIOS COMPLETE:  14%|█▍        | 12/85 [00:05<00:42,  1.70it/s]"
     ]
    },
    {
     "name": "stderr",
     "output_type": "stream",
     "text": [
      "\r",
      "NESTED SCENARIOS COMPLETE:  15%|█▌        | 13/85 [00:06<00:42,  1.71it/s]"
     ]
    },
    {
     "name": "stderr",
     "output_type": "stream",
     "text": [
      "\r",
      "NESTED SCENARIOS COMPLETE:  16%|█▋        | 14/85 [00:07<00:39,  1.80it/s]"
     ]
    },
    {
     "name": "stderr",
     "output_type": "stream",
     "text": [
      "\r",
      "NESTED SCENARIOS COMPLETE:  18%|█▊        | 15/85 [00:07<00:39,  1.78it/s]"
     ]
    },
    {
     "name": "stderr",
     "output_type": "stream",
     "text": [
      "\r",
      "NESTED SCENARIOS COMPLETE:  19%|█▉        | 16/85 [00:08<00:41,  1.65it/s]"
     ]
    },
    {
     "name": "stderr",
     "output_type": "stream",
     "text": [
      "\r",
      "NESTED SCENARIOS COMPLETE:  20%|██        | 17/85 [00:09<00:42,  1.58it/s]"
     ]
    },
    {
     "name": "stderr",
     "output_type": "stream",
     "text": [
      "\r",
      "NESTED SCENARIOS COMPLETE:  21%|██        | 18/85 [00:09<00:39,  1.71it/s]"
     ]
    },
    {
     "name": "stderr",
     "output_type": "stream",
     "text": [
      "\r",
      "NESTED SCENARIOS COMPLETE:  22%|██▏       | 19/85 [00:10<00:40,  1.61it/s]"
     ]
    },
    {
     "name": "stderr",
     "output_type": "stream",
     "text": [
      "\r",
      "NESTED SCENARIOS COMPLETE:  24%|██▎       | 20/85 [00:10<00:41,  1.58it/s]"
     ]
    },
    {
     "name": "stderr",
     "output_type": "stream",
     "text": [
      "\r",
      "NESTED SCENARIOS COMPLETE:  25%|██▍       | 21/85 [00:11<00:43,  1.48it/s]"
     ]
    },
    {
     "name": "stderr",
     "output_type": "stream",
     "text": [
      "\r",
      "NESTED SCENARIOS COMPLETE:  26%|██▌       | 22/85 [00:12<00:44,  1.42it/s]"
     ]
    },
    {
     "name": "stderr",
     "output_type": "stream",
     "text": [
      "\r",
      "NESTED SCENARIOS COMPLETE:  27%|██▋       | 23/85 [00:12<00:41,  1.50it/s]"
     ]
    },
    {
     "name": "stderr",
     "output_type": "stream",
     "text": [
      "\r",
      "NESTED SCENARIOS COMPLETE:  28%|██▊       | 24/85 [00:13<00:39,  1.56it/s]"
     ]
    },
    {
     "name": "stderr",
     "output_type": "stream",
     "text": [
      "\r",
      "NESTED SCENARIOS COMPLETE:  29%|██▉       | 25/85 [00:14<00:39,  1.54it/s]"
     ]
    },
    {
     "name": "stderr",
     "output_type": "stream",
     "text": [
      "\r",
      "NESTED SCENARIOS COMPLETE:  31%|███       | 26/85 [00:14<00:31,  1.90it/s]"
     ]
    },
    {
     "name": "stderr",
     "output_type": "stream",
     "text": [
      "\r",
      "NESTED SCENARIOS COMPLETE:  32%|███▏      | 27/85 [00:15<00:34,  1.66it/s]"
     ]
    },
    {
     "name": "stderr",
     "output_type": "stream",
     "text": [
      "\r",
      "NESTED SCENARIOS COMPLETE:  33%|███▎      | 28/85 [00:15<00:35,  1.59it/s]"
     ]
    },
    {
     "name": "stderr",
     "output_type": "stream",
     "text": [
      "\r",
      "NESTED SCENARIOS COMPLETE:  34%|███▍      | 29/85 [00:16<00:34,  1.62it/s]"
     ]
    },
    {
     "name": "stderr",
     "output_type": "stream",
     "text": [
      "\r",
      "NESTED SCENARIOS COMPLETE:  35%|███▌      | 30/85 [00:17<00:31,  1.73it/s]"
     ]
    },
    {
     "name": "stderr",
     "output_type": "stream",
     "text": [
      "\r",
      "NESTED SCENARIOS COMPLETE:  36%|███▋      | 31/85 [00:17<00:25,  2.12it/s]"
     ]
    },
    {
     "name": "stderr",
     "output_type": "stream",
     "text": [
      "\r",
      "NESTED SCENARIOS COMPLETE:  38%|███▊      | 32/85 [00:18<00:30,  1.76it/s]"
     ]
    },
    {
     "name": "stderr",
     "output_type": "stream",
     "text": [
      "\r",
      "NESTED SCENARIOS COMPLETE:  39%|███▉      | 33/85 [00:18<00:31,  1.64it/s]"
     ]
    },
    {
     "name": "stderr",
     "output_type": "stream",
     "text": [
      "\r",
      "NESTED SCENARIOS COMPLETE:  40%|████      | 34/85 [00:19<00:33,  1.51it/s]"
     ]
    },
    {
     "name": "stderr",
     "output_type": "stream",
     "text": [
      "\r",
      "NESTED SCENARIOS COMPLETE:  41%|████      | 35/85 [00:20<00:30,  1.64it/s]"
     ]
    },
    {
     "name": "stderr",
     "output_type": "stream",
     "text": [
      "\r",
      "NESTED SCENARIOS COMPLETE:  42%|████▏     | 36/85 [00:20<00:24,  2.02it/s]"
     ]
    },
    {
     "name": "stderr",
     "output_type": "stream",
     "text": [
      "\r",
      "NESTED SCENARIOS COMPLETE:  44%|████▎     | 37/85 [00:21<00:27,  1.74it/s]"
     ]
    },
    {
     "name": "stderr",
     "output_type": "stream",
     "text": [
      "\r",
      "NESTED SCENARIOS COMPLETE:  45%|████▍     | 38/85 [00:21<00:28,  1.63it/s]"
     ]
    },
    {
     "name": "stderr",
     "output_type": "stream",
     "text": [
      "\r",
      "NESTED SCENARIOS COMPLETE:  46%|████▌     | 39/85 [00:22<00:30,  1.52it/s]"
     ]
    },
    {
     "name": "stderr",
     "output_type": "stream",
     "text": [
      "\r",
      "NESTED SCENARIOS COMPLETE:  47%|████▋     | 40/85 [00:23<00:30,  1.50it/s]"
     ]
    },
    {
     "name": "stderr",
     "output_type": "stream",
     "text": [
      "\r",
      "NESTED SCENARIOS COMPLETE:  48%|████▊     | 41/85 [00:23<00:23,  1.85it/s]"
     ]
    },
    {
     "name": "stderr",
     "output_type": "stream",
     "text": [
      "\r",
      "NESTED SCENARIOS COMPLETE:  49%|████▉     | 42/85 [00:24<00:26,  1.65it/s]"
     ]
    },
    {
     "name": "stderr",
     "output_type": "stream",
     "text": [
      "\r",
      "NESTED SCENARIOS COMPLETE:  51%|█████     | 43/85 [00:24<00:26,  1.60it/s]"
     ]
    },
    {
     "name": "stderr",
     "output_type": "stream",
     "text": [
      "\r",
      "NESTED SCENARIOS COMPLETE:  52%|█████▏    | 44/85 [00:25<00:25,  1.62it/s]"
     ]
    },
    {
     "name": "stderr",
     "output_type": "stream",
     "text": [
      "\r",
      "NESTED SCENARIOS COMPLETE:  53%|█████▎    | 45/85 [00:26<00:25,  1.58it/s]"
     ]
    },
    {
     "name": "stderr",
     "output_type": "stream",
     "text": [
      "\r",
      "NESTED SCENARIOS COMPLETE:  54%|█████▍    | 46/85 [00:26<00:20,  1.95it/s]"
     ]
    },
    {
     "name": "stderr",
     "output_type": "stream",
     "text": [
      "\r",
      "NESTED SCENARIOS COMPLETE:  55%|█████▌    | 47/85 [00:27<00:22,  1.71it/s]"
     ]
    },
    {
     "name": "stderr",
     "output_type": "stream",
     "text": [
      "\r",
      "NESTED SCENARIOS COMPLETE:  56%|█████▋    | 48/85 [00:27<00:23,  1.58it/s]"
     ]
    },
    {
     "name": "stderr",
     "output_type": "stream",
     "text": [
      "\r",
      "NESTED SCENARIOS COMPLETE:  58%|█████▊    | 49/85 [00:28<00:24,  1.50it/s]"
     ]
    },
    {
     "name": "stderr",
     "output_type": "stream",
     "text": [
      "\r",
      "NESTED SCENARIOS COMPLETE:  59%|█████▉    | 50/85 [00:29<00:23,  1.48it/s]"
     ]
    },
    {
     "name": "stderr",
     "output_type": "stream",
     "text": [
      "\r",
      "NESTED SCENARIOS COMPLETE:  60%|██████    | 51/85 [00:29<00:18,  1.84it/s]"
     ]
    },
    {
     "name": "stderr",
     "output_type": "stream",
     "text": [
      "\r",
      "NESTED SCENARIOS COMPLETE:  61%|██████    | 52/85 [00:29<00:14,  2.23it/s]"
     ]
    },
    {
     "name": "stderr",
     "output_type": "stream",
     "text": [
      "\r",
      "NESTED SCENARIOS COMPLETE:  62%|██████▏   | 53/85 [00:30<00:17,  1.83it/s]"
     ]
    },
    {
     "name": "stderr",
     "output_type": "stream",
     "text": [
      "\r",
      "NESTED SCENARIOS COMPLETE:  64%|██████▎   | 54/85 [00:31<00:18,  1.70it/s]"
     ]
    },
    {
     "name": "stderr",
     "output_type": "stream",
     "text": [
      "\r",
      "NESTED SCENARIOS COMPLETE:  65%|██████▍   | 55/85 [00:31<00:19,  1.56it/s]"
     ]
    },
    {
     "name": "stderr",
     "output_type": "stream",
     "text": [
      "\r",
      "NESTED SCENARIOS COMPLETE:  66%|██████▌   | 56/85 [00:32<00:14,  1.93it/s]"
     ]
    },
    {
     "name": "stderr",
     "output_type": "stream",
     "text": [
      "\r",
      "NESTED SCENARIOS COMPLETE:  67%|██████▋   | 57/85 [00:32<00:12,  2.32it/s]"
     ]
    },
    {
     "name": "stderr",
     "output_type": "stream",
     "text": [
      "\r",
      "NESTED SCENARIOS COMPLETE:  68%|██████▊   | 58/85 [00:33<00:14,  1.91it/s]"
     ]
    },
    {
     "name": "stderr",
     "output_type": "stream",
     "text": [
      "\r",
      "NESTED SCENARIOS COMPLETE:  69%|██████▉   | 59/85 [00:33<00:15,  1.73it/s]"
     ]
    },
    {
     "name": "stderr",
     "output_type": "stream",
     "text": [
      "\r",
      "NESTED SCENARIOS COMPLETE:  71%|███████   | 60/85 [00:34<00:15,  1.60it/s]"
     ]
    },
    {
     "name": "stderr",
     "output_type": "stream",
     "text": [
      "\r",
      "NESTED SCENARIOS COMPLETE:  72%|███████▏  | 61/85 [00:34<00:12,  1.97it/s]"
     ]
    },
    {
     "name": "stderr",
     "output_type": "stream",
     "text": [
      "\r",
      "NESTED SCENARIOS COMPLETE:  73%|███████▎  | 62/85 [00:35<00:09,  2.35it/s]"
     ]
    },
    {
     "name": "stderr",
     "output_type": "stream",
     "text": [
      "\r",
      "NESTED SCENARIOS COMPLETE:  74%|███████▍  | 63/85 [00:35<00:11,  1.90it/s]"
     ]
    },
    {
     "name": "stderr",
     "output_type": "stream",
     "text": [
      "\r",
      "NESTED SCENARIOS COMPLETE:  75%|███████▌  | 64/85 [00:36<00:12,  1.69it/s]"
     ]
    },
    {
     "name": "stderr",
     "output_type": "stream",
     "text": [
      "\r",
      "NESTED SCENARIOS COMPLETE:  76%|███████▋  | 65/85 [00:37<00:12,  1.57it/s]"
     ]
    },
    {
     "name": "stderr",
     "output_type": "stream",
     "text": [
      "\r",
      "NESTED SCENARIOS COMPLETE:  78%|███████▊  | 66/85 [00:37<00:09,  1.95it/s]"
     ]
    },
    {
     "name": "stderr",
     "output_type": "stream",
     "text": [
      "\r",
      "NESTED SCENARIOS COMPLETE:  79%|███████▉  | 67/85 [00:37<00:07,  2.34it/s]"
     ]
    },
    {
     "name": "stderr",
     "output_type": "stream",
     "text": [
      "\r",
      "NESTED SCENARIOS COMPLETE:  80%|████████  | 68/85 [00:38<00:08,  1.90it/s]"
     ]
    },
    {
     "name": "stderr",
     "output_type": "stream",
     "text": [
      "\r",
      "NESTED SCENARIOS COMPLETE:  81%|████████  | 69/85 [00:39<00:09,  1.70it/s]"
     ]
    },
    {
     "name": "stderr",
     "output_type": "stream",
     "text": [
      "\r",
      "NESTED SCENARIOS COMPLETE:  82%|████████▏ | 70/85 [00:39<00:09,  1.63it/s]"
     ]
    },
    {
     "name": "stderr",
     "output_type": "stream",
     "text": [
      "\r",
      "NESTED SCENARIOS COMPLETE:  84%|████████▎ | 71/85 [00:40<00:06,  2.01it/s]"
     ]
    },
    {
     "name": "stderr",
     "output_type": "stream",
     "text": [
      "\r",
      "NESTED SCENARIOS COMPLETE:  85%|████████▍ | 72/85 [00:40<00:05,  2.40it/s]"
     ]
    },
    {
     "name": "stderr",
     "output_type": "stream",
     "text": [
      "\r",
      "NESTED SCENARIOS COMPLETE:  86%|████████▌ | 73/85 [00:41<00:06,  1.93it/s]"
     ]
    },
    {
     "name": "stderr",
     "output_type": "stream",
     "text": [
      "\r",
      "NESTED SCENARIOS COMPLETE:  87%|████████▋ | 74/85 [00:41<00:06,  1.71it/s]"
     ]
    },
    {
     "name": "stderr",
     "output_type": "stream",
     "text": [
      "\r",
      "NESTED SCENARIOS COMPLETE:  88%|████████▊ | 75/85 [00:42<00:06,  1.63it/s]"
     ]
    },
    {
     "name": "stderr",
     "output_type": "stream",
     "text": [
      "\r",
      "NESTED SCENARIOS COMPLETE:  89%|████████▉ | 76/85 [00:42<00:04,  2.00it/s]"
     ]
    },
    {
     "name": "stderr",
     "output_type": "stream",
     "text": [
      "\r",
      "NESTED SCENARIOS COMPLETE:  91%|█████████ | 77/85 [00:43<00:03,  2.40it/s]"
     ]
    },
    {
     "name": "stderr",
     "output_type": "stream",
     "text": [
      "\r",
      "NESTED SCENARIOS COMPLETE:  92%|█████████▏| 78/85 [00:43<00:02,  2.75it/s]"
     ]
    },
    {
     "name": "stderr",
     "output_type": "stream",
     "text": [
      "\r",
      "NESTED SCENARIOS COMPLETE:  93%|█████████▎| 79/85 [00:44<00:02,  2.05it/s]"
     ]
    },
    {
     "name": "stderr",
     "output_type": "stream",
     "text": [
      "\r",
      "NESTED SCENARIOS COMPLETE:  94%|█████████▍| 80/85 [00:44<00:02,  1.76it/s]"
     ]
    },
    {
     "name": "stderr",
     "output_type": "stream",
     "text": [
      "\r",
      "NESTED SCENARIOS COMPLETE:  95%|█████████▌| 81/85 [00:45<00:01,  2.12it/s]"
     ]
    },
    {
     "name": "stderr",
     "output_type": "stream",
     "text": [
      "\r",
      "NESTED SCENARIOS COMPLETE:  96%|█████████▋| 82/85 [00:45<00:01,  2.50it/s]"
     ]
    },
    {
     "name": "stderr",
     "output_type": "stream",
     "text": [
      "\r",
      "NESTED SCENARIOS COMPLETE:  98%|█████████▊| 83/85 [00:45<00:00,  2.84it/s]"
     ]
    },
    {
     "name": "stderr",
     "output_type": "stream",
     "text": [
      "\r",
      "NESTED SCENARIOS COMPLETE:  99%|█████████▉| 84/85 [00:46<00:00,  2.09it/s]"
     ]
    },
    {
     "name": "stderr",
     "output_type": "stream",
     "text": [
      "\r",
      "NESTED SCENARIOS COMPLETE: 100%|██████████| 85/85 [00:47<00:00,  1.81it/s]"
     ]
    },
    {
     "name": "stderr",
     "output_type": "stream",
     "text": [
      "\r",
      "NESTED SCENARIOS COMPLETE: 100%|██████████| 85/85 [00:47<00:00,  1.81it/s]"
     ]
    },
    {
     "name": "stderr",
     "output_type": "stream",
     "text": [
      "\n"
     ]
    }
   ],
   "source": [
    "\n",
    "nest_res, nest_hist, apps = prop.nested_sample(mdl, ps_sine,\n",
    "                                               faultdomains = {\"power\": (('all_fxn_modes', 'power'), {})},\n",
    "                                               faultsamples = {\"power\": ((\"fault_times\", \"power\", [1,2]), {})})"
   ]
  },
  {
   "attachments": {},
   "cell_type": "markdown",
   "metadata": {},
   "source": [
    " The resulting endclass/mdlhist dictionary is in turn nested within operational scenarios."
   ]
  },
  {
   "cell_type": "code",
   "execution_count": 22,
   "metadata": {
    "execution": {
     "iopub.execute_input": "2024-01-08T23:02:59.006491Z",
     "iopub.status.busy": "2024-01-08T23:02:59.006491Z",
     "iopub.status.idle": "2024-01-08T23:02:59.026622Z",
     "shell.execute_reply": "2024-01-08T23:02:59.026060Z"
    }
   },
   "outputs": [
    {
     "data": {
      "text/plain": [
       "dict_keys(['rep0_range_0.power_no_charge_t1.endclass.rate', 'rep0_range_0.power_no_charge_t1.endclass.cost', 'rep0_range_0.power_no_charge_t1.endclass.prob', 'rep0_range_0.power_no_charge_t1.endclass.expected_cost', 'rep0_range_0.power_no_charge_t1.endclass.in_bound', 'rep0_range_0.power_no_charge_t1.endclass.at_finish', 'rep0_range_0.power_no_charge_t1.endclass.line_dist', 'rep0_range_0.power_no_charge_t1.endclass.num_modes', 'rep0_range_0.power_no_charge_t1.endclass.end_dist', 'rep0_range_0.power_no_charge_t1.endclass.tot_deviation', 'rep0_range_0.power_no_charge_t1.endclass.faults', 'rep0_range_0.power_no_charge_t1.endclass.classification', 'rep0_range_0.power_no_charge_t1.endclass.end_x', 'rep0_range_0.power_no_charge_t1.endclass.end_y', 'rep0_range_0.power_no_charge_t1.endclass.endpt', 'rep0_range_0.power_no_charge_t2.endclass.rate', 'rep0_range_0.power_no_charge_t2.endclass.cost', 'rep0_range_0.power_no_charge_t2.endclass.prob', 'rep0_range_0.power_no_charge_t2.endclass.expected_cost', 'rep0_range_0.power_no_charge_t2.endclass.in_bound', 'rep0_range_0.power_no_charge_t2.endclass.at_finish', 'rep0_range_0.power_no_charge_t2.endclass.line_dist', 'rep0_range_0.power_no_charge_t2.endclass.num_modes', 'rep0_range_0.power_no_charge_t2.endclass.end_dist', 'rep0_range_0.power_no_charge_t2.endclass.tot_deviation', 'rep0_range_0.power_no_charge_t2.endclass.faults', 'rep0_range_0.power_no_charge_t2.endclass.classification', 'rep0_range_0.power_no_charge_t2.endclass.end_x', 'rep0_range_0.power_no_charge_t2.endclass.end_y', 'rep0_range_0.power_no_charge_t2.endclass.endpt', 'rep0_range_0.power_short_t1.endclass.rate', 'rep0_range_0.power_short_t1.endclass.cost', 'rep0_range_0.power_short_t1.endclass.prob', 'rep0_range_0.power_short_t1.endclass.expected_cost', 'rep0_range_0.power_short_t1.endclass.in_bound', 'rep0_range_0.power_short_t1.endclass.at_finish', 'rep0_range_0.power_short_t1.endclass.line_dist', 'rep0_range_0.power_short_t1.endclass.num_modes', 'rep0_range_0.power_short_t1.endclass.end_dist', 'rep0_range_0.power_short_t1.endclass.tot_deviation', 'rep0_range_0.power_short_t1.endclass.faults', 'rep0_range_0.power_short_t1.endclass.classification', 'rep0_range_0.power_short_t1.endclass.end_x', 'rep0_range_0.power_short_t1.endclass.end_y', 'rep0_range_0.power_short_t1.endclass.endpt', 'rep0_range_0.power_short_t2.endclass.rate', 'rep0_range_0.power_short_t2.endclass.cost', 'rep0_range_0.power_short_t2.endclass.prob', 'rep0_range_0.power_short_t2.endclass.expected_cost', 'rep0_range_0.power_short_t2.endclass.in_bound', 'rep0_range_0.power_short_t2.endclass.at_finish', 'rep0_range_0.power_short_t2.endclass.line_dist', 'rep0_range_0.power_short_t2.endclass.num_modes', 'rep0_range_0.power_short_t2.endclass.end_dist', 'rep0_range_0.power_short_t2.endclass.tot_deviation', 'rep0_range_0.power_short_t2.endclass.faults', 'rep0_range_0.power_short_t2.endclass.classification', 'rep0_range_0.power_short_t2.endclass.end_x', 'rep0_range_0.power_short_t2.endclass.end_y', 'rep0_range_0.power_short_t2.endclass.endpt', 'rep0_range_0.nominal.endclass.rate', 'rep0_range_0.nominal.endclass.cost', 'rep0_range_0.nominal.endclass.prob', 'rep0_range_0.nominal.endclass.expected_cost', 'rep0_range_0.nominal.endclass.in_bound', 'rep0_range_0.nominal.endclass.at_finish', 'rep0_range_0.nominal.endclass.line_dist', 'rep0_range_0.nominal.endclass.num_modes', 'rep0_range_0.nominal.endclass.end_dist', 'rep0_range_0.nominal.endclass.tot_deviation', 'rep0_range_0.nominal.endclass.faults', 'rep0_range_0.nominal.endclass.classification', 'rep0_range_0.nominal.endclass.end_x', 'rep0_range_0.nominal.endclass.end_y', 'rep0_range_0.nominal.endclass.endpt', 'rep0_range_1.power_no_charge_t1.endclass.rate', 'rep0_range_1.power_no_charge_t1.endclass.cost', 'rep0_range_1.power_no_charge_t1.endclass.prob', 'rep0_range_1.power_no_charge_t1.endclass.expected_cost', 'rep0_range_1.power_no_charge_t1.endclass.in_bound', 'rep0_range_1.power_no_charge_t1.endclass.at_finish', 'rep0_range_1.power_no_charge_t1.endclass.line_dist', 'rep0_range_1.power_no_charge_t1.endclass.num_modes', 'rep0_range_1.power_no_charge_t1.endclass.end_dist', 'rep0_range_1.power_no_charge_t1.endclass.tot_deviation', 'rep0_range_1.power_no_charge_t1.endclass.faults', 'rep0_range_1.power_no_charge_t1.endclass.classification', 'rep0_range_1.power_no_charge_t1.endclass.end_x', 'rep0_range_1.power_no_charge_t1.endclass.end_y', 'rep0_range_1.power_no_charge_t1.endclass.endpt', 'rep0_range_1.power_no_charge_t2.endclass.rate', 'rep0_range_1.power_no_charge_t2.endclass.cost', 'rep0_range_1.power_no_charge_t2.endclass.prob', 'rep0_range_1.power_no_charge_t2.endclass.expected_cost', 'rep0_range_1.power_no_charge_t2.endclass.in_bound', 'rep0_range_1.power_no_charge_t2.endclass.at_finish', 'rep0_range_1.power_no_charge_t2.endclass.line_dist', 'rep0_range_1.power_no_charge_t2.endclass.num_modes', 'rep0_range_1.power_no_charge_t2.endclass.end_dist', 'rep0_range_1.power_no_charge_t2.endclass.tot_deviation', 'rep0_range_1.power_no_charge_t2.endclass.faults', 'rep0_range_1.power_no_charge_t2.endclass.classification', 'rep0_range_1.power_no_charge_t2.endclass.end_x', 'rep0_range_1.power_no_charge_t2.endclass.end_y', 'rep0_range_1.power_no_charge_t2.endclass.endpt', 'rep0_range_1.power_short_t1.endclass.rate', 'rep0_range_1.power_short_t1.endclass.cost', 'rep0_range_1.power_short_t1.endclass.prob', 'rep0_range_1.power_short_t1.endclass.expected_cost', 'rep0_range_1.power_short_t1.endclass.in_bound', 'rep0_range_1.power_short_t1.endclass.at_finish', 'rep0_range_1.power_short_t1.endclass.line_dist', 'rep0_range_1.power_short_t1.endclass.num_modes', 'rep0_range_1.power_short_t1.endclass.end_dist', 'rep0_range_1.power_short_t1.endclass.tot_deviation', 'rep0_range_1.power_short_t1.endclass.faults', 'rep0_range_1.power_short_t1.endclass.classification', 'rep0_range_1.power_short_t1.endclass.end_x', 'rep0_range_1.power_short_t1.endclass.end_y', 'rep0_range_1.power_short_t1.endclass.endpt', 'rep0_range_1.power_short_t2.endclass.rate', 'rep0_range_1.power_short_t2.endclass.cost', 'rep0_range_1.power_short_t2.endclass.prob', 'rep0_range_1.power_short_t2.endclass.expected_cost', 'rep0_range_1.power_short_t2.endclass.in_bound', 'rep0_range_1.power_short_t2.endclass.at_finish', 'rep0_range_1.power_short_t2.endclass.line_dist', 'rep0_range_1.power_short_t2.endclass.num_modes', 'rep0_range_1.power_short_t2.endclass.end_dist', 'rep0_range_1.power_short_t2.endclass.tot_deviation', 'rep0_range_1.power_short_t2.endclass.faults', 'rep0_range_1.power_short_t2.endclass.classification', 'rep0_range_1.power_short_t2.endclass.end_x', 'rep0_range_1.power_short_t2.endclass.end_y', 'rep0_range_1.power_short_t2.endclass.endpt', 'rep0_range_1.nominal.endclass.rate', 'rep0_range_1.nominal.endclass.cost', 'rep0_range_1.nominal.endclass.prob', 'rep0_range_1.nominal.endclass.expected_cost', 'rep0_range_1.nominal.endclass.in_bound', 'rep0_range_1.nominal.endclass.at_finish', 'rep0_range_1.nominal.endclass.line_dist', 'rep0_range_1.nominal.endclass.num_modes', 'rep0_range_1.nominal.endclass.end_dist', 'rep0_range_1.nominal.endclass.tot_deviation', 'rep0_range_1.nominal.endclass.faults', 'rep0_range_1.nominal.endclass.classification', 'rep0_range_1.nominal.endclass.end_x', 'rep0_range_1.nominal.endclass.end_y', 'rep0_range_1.nominal.endclass.endpt', 'rep0_range_2.power_no_charge_t1.endclass.rate', 'rep0_range_2.power_no_charge_t1.endclass.cost', 'rep0_range_2.power_no_charge_t1.endclass.prob', 'rep0_range_2.power_no_charge_t1.endclass.expected_cost', 'rep0_range_2.power_no_charge_t1.endclass.in_bound', 'rep0_range_2.power_no_charge_t1.endclass.at_finish', 'rep0_range_2.power_no_charge_t1.endclass.line_dist', 'rep0_range_2.power_no_charge_t1.endclass.num_modes', 'rep0_range_2.power_no_charge_t1.endclass.end_dist', 'rep0_range_2.power_no_charge_t1.endclass.tot_deviation', 'rep0_range_2.power_no_charge_t1.endclass.faults', 'rep0_range_2.power_no_charge_t1.endclass.classification', 'rep0_range_2.power_no_charge_t1.endclass.end_x', 'rep0_range_2.power_no_charge_t1.endclass.end_y', 'rep0_range_2.power_no_charge_t1.endclass.endpt', 'rep0_range_2.power_no_charge_t2.endclass.rate', 'rep0_range_2.power_no_charge_t2.endclass.cost', 'rep0_range_2.power_no_charge_t2.endclass.prob', 'rep0_range_2.power_no_charge_t2.endclass.expected_cost', 'rep0_range_2.power_no_charge_t2.endclass.in_bound', 'rep0_range_2.power_no_charge_t2.endclass.at_finish', 'rep0_range_2.power_no_charge_t2.endclass.line_dist', 'rep0_range_2.power_no_charge_t2.endclass.num_modes', 'rep0_range_2.power_no_charge_t2.endclass.end_dist', 'rep0_range_2.power_no_charge_t2.endclass.tot_deviation', 'rep0_range_2.power_no_charge_t2.endclass.faults', 'rep0_range_2.power_no_charge_t2.endclass.classification', 'rep0_range_2.power_no_charge_t2.endclass.end_x', 'rep0_range_2.power_no_charge_t2.endclass.end_y', 'rep0_range_2.power_no_charge_t2.endclass.endpt', 'rep0_range_2.power_short_t1.endclass.rate', 'rep0_range_2.power_short_t1.endclass.cost', 'rep0_range_2.power_short_t1.endclass.prob', 'rep0_range_2.power_short_t1.endclass.expected_cost', 'rep0_range_2.power_short_t1.endclass.in_bound', 'rep0_range_2.power_short_t1.endclass.at_finish', 'rep0_range_2.power_short_t1.endclass.line_dist', 'rep0_range_2.power_short_t1.endclass.num_modes', 'rep0_range_2.power_short_t1.endclass.end_dist', 'rep0_range_2.power_short_t1.endclass.tot_deviation', 'rep0_range_2.power_short_t1.endclass.faults', 'rep0_range_2.power_short_t1.endclass.classification', 'rep0_range_2.power_short_t1.endclass.end_x', 'rep0_range_2.power_short_t1.endclass.end_y', 'rep0_range_2.power_short_t1.endclass.endpt', 'rep0_range_2.power_short_t2.endclass.rate', 'rep0_range_2.power_short_t2.endclass.cost', 'rep0_range_2.power_short_t2.endclass.prob', 'rep0_range_2.power_short_t2.endclass.expected_cost', 'rep0_range_2.power_short_t2.endclass.in_bound', 'rep0_range_2.power_short_t2.endclass.at_finish', 'rep0_range_2.power_short_t2.endclass.line_dist', 'rep0_range_2.power_short_t2.endclass.num_modes', 'rep0_range_2.power_short_t2.endclass.end_dist', 'rep0_range_2.power_short_t2.endclass.tot_deviation', 'rep0_range_2.power_short_t2.endclass.faults', 'rep0_range_2.power_short_t2.endclass.classification', 'rep0_range_2.power_short_t2.endclass.end_x', 'rep0_range_2.power_short_t2.endclass.end_y', 'rep0_range_2.power_short_t2.endclass.endpt', 'rep0_range_2.nominal.endclass.rate', 'rep0_range_2.nominal.endclass.cost', 'rep0_range_2.nominal.endclass.prob', 'rep0_range_2.nominal.endclass.expected_cost', 'rep0_range_2.nominal.endclass.in_bound', 'rep0_range_2.nominal.endclass.at_finish', 'rep0_range_2.nominal.endclass.line_dist', 'rep0_range_2.nominal.endclass.num_modes', 'rep0_range_2.nominal.endclass.end_dist', 'rep0_range_2.nominal.endclass.tot_deviation', 'rep0_range_2.nominal.endclass.faults', 'rep0_range_2.nominal.endclass.classification', 'rep0_range_2.nominal.endclass.end_x', 'rep0_range_2.nominal.endclass.end_y', 'rep0_range_2.nominal.endclass.endpt', 'rep0_range_3.power_no_charge_t1.endclass.rate', 'rep0_range_3.power_no_charge_t1.endclass.cost', 'rep0_range_3.power_no_charge_t1.endclass.prob', 'rep0_range_3.power_no_charge_t1.endclass.expected_cost', 'rep0_range_3.power_no_charge_t1.endclass.in_bound', 'rep0_range_3.power_no_charge_t1.endclass.at_finish', 'rep0_range_3.power_no_charge_t1.endclass.line_dist', 'rep0_range_3.power_no_charge_t1.endclass.num_modes', 'rep0_range_3.power_no_charge_t1.endclass.end_dist', 'rep0_range_3.power_no_charge_t1.endclass.tot_deviation', 'rep0_range_3.power_no_charge_t1.endclass.faults', 'rep0_range_3.power_no_charge_t1.endclass.classification', 'rep0_range_3.power_no_charge_t1.endclass.end_x', 'rep0_range_3.power_no_charge_t1.endclass.end_y', 'rep0_range_3.power_no_charge_t1.endclass.endpt', 'rep0_range_3.power_no_charge_t2.endclass.rate', 'rep0_range_3.power_no_charge_t2.endclass.cost', 'rep0_range_3.power_no_charge_t2.endclass.prob', 'rep0_range_3.power_no_charge_t2.endclass.expected_cost', 'rep0_range_3.power_no_charge_t2.endclass.in_bound', 'rep0_range_3.power_no_charge_t2.endclass.at_finish', 'rep0_range_3.power_no_charge_t2.endclass.line_dist', 'rep0_range_3.power_no_charge_t2.endclass.num_modes', 'rep0_range_3.power_no_charge_t2.endclass.end_dist', 'rep0_range_3.power_no_charge_t2.endclass.tot_deviation', 'rep0_range_3.power_no_charge_t2.endclass.faults', 'rep0_range_3.power_no_charge_t2.endclass.classification', 'rep0_range_3.power_no_charge_t2.endclass.end_x', 'rep0_range_3.power_no_charge_t2.endclass.end_y', 'rep0_range_3.power_no_charge_t2.endclass.endpt', 'rep0_range_3.power_short_t1.endclass.rate', 'rep0_range_3.power_short_t1.endclass.cost', 'rep0_range_3.power_short_t1.endclass.prob', 'rep0_range_3.power_short_t1.endclass.expected_cost', 'rep0_range_3.power_short_t1.endclass.in_bound', 'rep0_range_3.power_short_t1.endclass.at_finish', 'rep0_range_3.power_short_t1.endclass.line_dist', 'rep0_range_3.power_short_t1.endclass.num_modes', 'rep0_range_3.power_short_t1.endclass.end_dist', 'rep0_range_3.power_short_t1.endclass.tot_deviation', 'rep0_range_3.power_short_t1.endclass.faults', 'rep0_range_3.power_short_t1.endclass.classification', 'rep0_range_3.power_short_t1.endclass.end_x', 'rep0_range_3.power_short_t1.endclass.end_y', 'rep0_range_3.power_short_t1.endclass.endpt', 'rep0_range_3.power_short_t2.endclass.rate', 'rep0_range_3.power_short_t2.endclass.cost', 'rep0_range_3.power_short_t2.endclass.prob', 'rep0_range_3.power_short_t2.endclass.expected_cost', 'rep0_range_3.power_short_t2.endclass.in_bound', 'rep0_range_3.power_short_t2.endclass.at_finish', 'rep0_range_3.power_short_t2.endclass.line_dist', 'rep0_range_3.power_short_t2.endclass.num_modes', 'rep0_range_3.power_short_t2.endclass.end_dist', 'rep0_range_3.power_short_t2.endclass.tot_deviation', 'rep0_range_3.power_short_t2.endclass.faults', 'rep0_range_3.power_short_t2.endclass.classification', 'rep0_range_3.power_short_t2.endclass.end_x', 'rep0_range_3.power_short_t2.endclass.end_y', 'rep0_range_3.power_short_t2.endclass.endpt', 'rep0_range_3.nominal.endclass.rate', 'rep0_range_3.nominal.endclass.cost', 'rep0_range_3.nominal.endclass.prob', 'rep0_range_3.nominal.endclass.expected_cost', 'rep0_range_3.nominal.endclass.in_bound', 'rep0_range_3.nominal.endclass.at_finish', 'rep0_range_3.nominal.endclass.line_dist', 'rep0_range_3.nominal.endclass.num_modes', 'rep0_range_3.nominal.endclass.end_dist', 'rep0_range_3.nominal.endclass.tot_deviation', 'rep0_range_3.nominal.endclass.faults', 'rep0_range_3.nominal.endclass.classification', 'rep0_range_3.nominal.endclass.end_x', 'rep0_range_3.nominal.endclass.end_y', 'rep0_range_3.nominal.endclass.endpt', 'rep0_range_4.power_no_charge_t1.endclass.rate', 'rep0_range_4.power_no_charge_t1.endclass.cost', 'rep0_range_4.power_no_charge_t1.endclass.prob', 'rep0_range_4.power_no_charge_t1.endclass.expected_cost', 'rep0_range_4.power_no_charge_t1.endclass.in_bound', 'rep0_range_4.power_no_charge_t1.endclass.at_finish', 'rep0_range_4.power_no_charge_t1.endclass.line_dist', 'rep0_range_4.power_no_charge_t1.endclass.num_modes', 'rep0_range_4.power_no_charge_t1.endclass.end_dist', 'rep0_range_4.power_no_charge_t1.endclass.tot_deviation', 'rep0_range_4.power_no_charge_t1.endclass.faults', 'rep0_range_4.power_no_charge_t1.endclass.classification', 'rep0_range_4.power_no_charge_t1.endclass.end_x', 'rep0_range_4.power_no_charge_t1.endclass.end_y', 'rep0_range_4.power_no_charge_t1.endclass.endpt', 'rep0_range_4.power_no_charge_t2.endclass.rate', 'rep0_range_4.power_no_charge_t2.endclass.cost', 'rep0_range_4.power_no_charge_t2.endclass.prob', 'rep0_range_4.power_no_charge_t2.endclass.expected_cost', 'rep0_range_4.power_no_charge_t2.endclass.in_bound', 'rep0_range_4.power_no_charge_t2.endclass.at_finish', 'rep0_range_4.power_no_charge_t2.endclass.line_dist', 'rep0_range_4.power_no_charge_t2.endclass.num_modes', 'rep0_range_4.power_no_charge_t2.endclass.end_dist', 'rep0_range_4.power_no_charge_t2.endclass.tot_deviation', 'rep0_range_4.power_no_charge_t2.endclass.faults', 'rep0_range_4.power_no_charge_t2.endclass.classification', 'rep0_range_4.power_no_charge_t2.endclass.end_x', 'rep0_range_4.power_no_charge_t2.endclass.end_y', 'rep0_range_4.power_no_charge_t2.endclass.endpt', 'rep0_range_4.power_short_t1.endclass.rate', 'rep0_range_4.power_short_t1.endclass.cost', 'rep0_range_4.power_short_t1.endclass.prob', 'rep0_range_4.power_short_t1.endclass.expected_cost', 'rep0_range_4.power_short_t1.endclass.in_bound', 'rep0_range_4.power_short_t1.endclass.at_finish', 'rep0_range_4.power_short_t1.endclass.line_dist', 'rep0_range_4.power_short_t1.endclass.num_modes', 'rep0_range_4.power_short_t1.endclass.end_dist', 'rep0_range_4.power_short_t1.endclass.tot_deviation', 'rep0_range_4.power_short_t1.endclass.faults', 'rep0_range_4.power_short_t1.endclass.classification', 'rep0_range_4.power_short_t1.endclass.end_x', 'rep0_range_4.power_short_t1.endclass.end_y', 'rep0_range_4.power_short_t1.endclass.endpt', 'rep0_range_4.power_short_t2.endclass.rate', 'rep0_range_4.power_short_t2.endclass.cost', 'rep0_range_4.power_short_t2.endclass.prob', 'rep0_range_4.power_short_t2.endclass.expected_cost', 'rep0_range_4.power_short_t2.endclass.in_bound', 'rep0_range_4.power_short_t2.endclass.at_finish', 'rep0_range_4.power_short_t2.endclass.line_dist', 'rep0_range_4.power_short_t2.endclass.num_modes', 'rep0_range_4.power_short_t2.endclass.end_dist', 'rep0_range_4.power_short_t2.endclass.tot_deviation', 'rep0_range_4.power_short_t2.endclass.faults', 'rep0_range_4.power_short_t2.endclass.classification', 'rep0_range_4.power_short_t2.endclass.end_x', 'rep0_range_4.power_short_t2.endclass.end_y', 'rep0_range_4.power_short_t2.endclass.endpt', 'rep0_range_4.nominal.endclass.rate', 'rep0_range_4.nominal.endclass.cost', 'rep0_range_4.nominal.endclass.prob', 'rep0_range_4.nominal.endclass.expected_cost', 'rep0_range_4.nominal.endclass.in_bound', 'rep0_range_4.nominal.endclass.at_finish', 'rep0_range_4.nominal.endclass.line_dist', 'rep0_range_4.nominal.endclass.num_modes', 'rep0_range_4.nominal.endclass.end_dist', 'rep0_range_4.nominal.endclass.tot_deviation', 'rep0_range_4.nominal.endclass.faults', 'rep0_range_4.nominal.endclass.classification', 'rep0_range_4.nominal.endclass.end_x', 'rep0_range_4.nominal.endclass.end_y', 'rep0_range_4.nominal.endclass.endpt', 'rep0_range_5.power_no_charge_t1.endclass.rate', 'rep0_range_5.power_no_charge_t1.endclass.cost', 'rep0_range_5.power_no_charge_t1.endclass.prob', 'rep0_range_5.power_no_charge_t1.endclass.expected_cost', 'rep0_range_5.power_no_charge_t1.endclass.in_bound', 'rep0_range_5.power_no_charge_t1.endclass.at_finish', 'rep0_range_5.power_no_charge_t1.endclass.line_dist', 'rep0_range_5.power_no_charge_t1.endclass.num_modes', 'rep0_range_5.power_no_charge_t1.endclass.end_dist', 'rep0_range_5.power_no_charge_t1.endclass.tot_deviation', 'rep0_range_5.power_no_charge_t1.endclass.faults', 'rep0_range_5.power_no_charge_t1.endclass.classification', 'rep0_range_5.power_no_charge_t1.endclass.end_x', 'rep0_range_5.power_no_charge_t1.endclass.end_y', 'rep0_range_5.power_no_charge_t1.endclass.endpt', 'rep0_range_5.power_no_charge_t2.endclass.rate', 'rep0_range_5.power_no_charge_t2.endclass.cost', 'rep0_range_5.power_no_charge_t2.endclass.prob', 'rep0_range_5.power_no_charge_t2.endclass.expected_cost', 'rep0_range_5.power_no_charge_t2.endclass.in_bound', 'rep0_range_5.power_no_charge_t2.endclass.at_finish', 'rep0_range_5.power_no_charge_t2.endclass.line_dist', 'rep0_range_5.power_no_charge_t2.endclass.num_modes', 'rep0_range_5.power_no_charge_t2.endclass.end_dist', 'rep0_range_5.power_no_charge_t2.endclass.tot_deviation', 'rep0_range_5.power_no_charge_t2.endclass.faults', 'rep0_range_5.power_no_charge_t2.endclass.classification', 'rep0_range_5.power_no_charge_t2.endclass.end_x', 'rep0_range_5.power_no_charge_t2.endclass.end_y', 'rep0_range_5.power_no_charge_t2.endclass.endpt', 'rep0_range_5.power_short_t1.endclass.rate', 'rep0_range_5.power_short_t1.endclass.cost', 'rep0_range_5.power_short_t1.endclass.prob', 'rep0_range_5.power_short_t1.endclass.expected_cost', 'rep0_range_5.power_short_t1.endclass.in_bound', 'rep0_range_5.power_short_t1.endclass.at_finish', 'rep0_range_5.power_short_t1.endclass.line_dist', 'rep0_range_5.power_short_t1.endclass.num_modes', 'rep0_range_5.power_short_t1.endclass.end_dist', 'rep0_range_5.power_short_t1.endclass.tot_deviation', 'rep0_range_5.power_short_t1.endclass.faults', 'rep0_range_5.power_short_t1.endclass.classification', 'rep0_range_5.power_short_t1.endclass.end_x', 'rep0_range_5.power_short_t1.endclass.end_y', 'rep0_range_5.power_short_t1.endclass.endpt', 'rep0_range_5.power_short_t2.endclass.rate', 'rep0_range_5.power_short_t2.endclass.cost', 'rep0_range_5.power_short_t2.endclass.prob', 'rep0_range_5.power_short_t2.endclass.expected_cost', 'rep0_range_5.power_short_t2.endclass.in_bound', 'rep0_range_5.power_short_t2.endclass.at_finish', 'rep0_range_5.power_short_t2.endclass.line_dist', 'rep0_range_5.power_short_t2.endclass.num_modes', 'rep0_range_5.power_short_t2.endclass.end_dist', 'rep0_range_5.power_short_t2.endclass.tot_deviation', 'rep0_range_5.power_short_t2.endclass.faults', 'rep0_range_5.power_short_t2.endclass.classification', 'rep0_range_5.power_short_t2.endclass.end_x', 'rep0_range_5.power_short_t2.endclass.end_y', 'rep0_range_5.power_short_t2.endclass.endpt', 'rep0_range_5.nominal.endclass.rate', 'rep0_range_5.nominal.endclass.cost', 'rep0_range_5.nominal.endclass.prob', 'rep0_range_5.nominal.endclass.expected_cost', 'rep0_range_5.nominal.endclass.in_bound', 'rep0_range_5.nominal.endclass.at_finish', 'rep0_range_5.nominal.endclass.line_dist', 'rep0_range_5.nominal.endclass.num_modes', 'rep0_range_5.nominal.endclass.end_dist', 'rep0_range_5.nominal.endclass.tot_deviation', 'rep0_range_5.nominal.endclass.faults', 'rep0_range_5.nominal.endclass.classification', 'rep0_range_5.nominal.endclass.end_x', 'rep0_range_5.nominal.endclass.end_y', 'rep0_range_5.nominal.endclass.endpt', 'rep0_range_6.power_no_charge_t1.endclass.rate', 'rep0_range_6.power_no_charge_t1.endclass.cost', 'rep0_range_6.power_no_charge_t1.endclass.prob', 'rep0_range_6.power_no_charge_t1.endclass.expected_cost', 'rep0_range_6.power_no_charge_t1.endclass.in_bound', 'rep0_range_6.power_no_charge_t1.endclass.at_finish', 'rep0_range_6.power_no_charge_t1.endclass.line_dist', 'rep0_range_6.power_no_charge_t1.endclass.num_modes', 'rep0_range_6.power_no_charge_t1.endclass.end_dist', 'rep0_range_6.power_no_charge_t1.endclass.tot_deviation', 'rep0_range_6.power_no_charge_t1.endclass.faults', 'rep0_range_6.power_no_charge_t1.endclass.classification', 'rep0_range_6.power_no_charge_t1.endclass.end_x', 'rep0_range_6.power_no_charge_t1.endclass.end_y', 'rep0_range_6.power_no_charge_t1.endclass.endpt', 'rep0_range_6.power_no_charge_t2.endclass.rate', 'rep0_range_6.power_no_charge_t2.endclass.cost', 'rep0_range_6.power_no_charge_t2.endclass.prob', 'rep0_range_6.power_no_charge_t2.endclass.expected_cost', 'rep0_range_6.power_no_charge_t2.endclass.in_bound', 'rep0_range_6.power_no_charge_t2.endclass.at_finish', 'rep0_range_6.power_no_charge_t2.endclass.line_dist', 'rep0_range_6.power_no_charge_t2.endclass.num_modes', 'rep0_range_6.power_no_charge_t2.endclass.end_dist', 'rep0_range_6.power_no_charge_t2.endclass.tot_deviation', 'rep0_range_6.power_no_charge_t2.endclass.faults', 'rep0_range_6.power_no_charge_t2.endclass.classification', 'rep0_range_6.power_no_charge_t2.endclass.end_x', 'rep0_range_6.power_no_charge_t2.endclass.end_y', 'rep0_range_6.power_no_charge_t2.endclass.endpt', 'rep0_range_6.power_short_t1.endclass.rate', 'rep0_range_6.power_short_t1.endclass.cost', 'rep0_range_6.power_short_t1.endclass.prob', 'rep0_range_6.power_short_t1.endclass.expected_cost', 'rep0_range_6.power_short_t1.endclass.in_bound', 'rep0_range_6.power_short_t1.endclass.at_finish', 'rep0_range_6.power_short_t1.endclass.line_dist', 'rep0_range_6.power_short_t1.endclass.num_modes', 'rep0_range_6.power_short_t1.endclass.end_dist', 'rep0_range_6.power_short_t1.endclass.tot_deviation', 'rep0_range_6.power_short_t1.endclass.faults', 'rep0_range_6.power_short_t1.endclass.classification', 'rep0_range_6.power_short_t1.endclass.end_x', 'rep0_range_6.power_short_t1.endclass.end_y', 'rep0_range_6.power_short_t1.endclass.endpt', 'rep0_range_6.power_short_t2.endclass.rate', 'rep0_range_6.power_short_t2.endclass.cost', 'rep0_range_6.power_short_t2.endclass.prob', 'rep0_range_6.power_short_t2.endclass.expected_cost', 'rep0_range_6.power_short_t2.endclass.in_bound', 'rep0_range_6.power_short_t2.endclass.at_finish', 'rep0_range_6.power_short_t2.endclass.line_dist', 'rep0_range_6.power_short_t2.endclass.num_modes', 'rep0_range_6.power_short_t2.endclass.end_dist', 'rep0_range_6.power_short_t2.endclass.tot_deviation', 'rep0_range_6.power_short_t2.endclass.faults', 'rep0_range_6.power_short_t2.endclass.classification', 'rep0_range_6.power_short_t2.endclass.end_x', 'rep0_range_6.power_short_t2.endclass.end_y', 'rep0_range_6.power_short_t2.endclass.endpt', 'rep0_range_6.nominal.endclass.rate', 'rep0_range_6.nominal.endclass.cost', 'rep0_range_6.nominal.endclass.prob', 'rep0_range_6.nominal.endclass.expected_cost', 'rep0_range_6.nominal.endclass.in_bound', 'rep0_range_6.nominal.endclass.at_finish', 'rep0_range_6.nominal.endclass.line_dist', 'rep0_range_6.nominal.endclass.num_modes', 'rep0_range_6.nominal.endclass.end_dist', 'rep0_range_6.nominal.endclass.tot_deviation', 'rep0_range_6.nominal.endclass.faults', 'rep0_range_6.nominal.endclass.classification', 'rep0_range_6.nominal.endclass.end_x', 'rep0_range_6.nominal.endclass.end_y', 'rep0_range_6.nominal.endclass.endpt', 'rep0_range_7.power_no_charge_t1.endclass.rate', 'rep0_range_7.power_no_charge_t1.endclass.cost', 'rep0_range_7.power_no_charge_t1.endclass.prob', 'rep0_range_7.power_no_charge_t1.endclass.expected_cost', 'rep0_range_7.power_no_charge_t1.endclass.in_bound', 'rep0_range_7.power_no_charge_t1.endclass.at_finish', 'rep0_range_7.power_no_charge_t1.endclass.line_dist', 'rep0_range_7.power_no_charge_t1.endclass.num_modes', 'rep0_range_7.power_no_charge_t1.endclass.end_dist', 'rep0_range_7.power_no_charge_t1.endclass.tot_deviation', 'rep0_range_7.power_no_charge_t1.endclass.faults', 'rep0_range_7.power_no_charge_t1.endclass.classification', 'rep0_range_7.power_no_charge_t1.endclass.end_x', 'rep0_range_7.power_no_charge_t1.endclass.end_y', 'rep0_range_7.power_no_charge_t1.endclass.endpt', 'rep0_range_7.power_no_charge_t2.endclass.rate', 'rep0_range_7.power_no_charge_t2.endclass.cost', 'rep0_range_7.power_no_charge_t2.endclass.prob', 'rep0_range_7.power_no_charge_t2.endclass.expected_cost', 'rep0_range_7.power_no_charge_t2.endclass.in_bound', 'rep0_range_7.power_no_charge_t2.endclass.at_finish', 'rep0_range_7.power_no_charge_t2.endclass.line_dist', 'rep0_range_7.power_no_charge_t2.endclass.num_modes', 'rep0_range_7.power_no_charge_t2.endclass.end_dist', 'rep0_range_7.power_no_charge_t2.endclass.tot_deviation', 'rep0_range_7.power_no_charge_t2.endclass.faults', 'rep0_range_7.power_no_charge_t2.endclass.classification', 'rep0_range_7.power_no_charge_t2.endclass.end_x', 'rep0_range_7.power_no_charge_t2.endclass.end_y', 'rep0_range_7.power_no_charge_t2.endclass.endpt', 'rep0_range_7.power_short_t1.endclass.rate', 'rep0_range_7.power_short_t1.endclass.cost', 'rep0_range_7.power_short_t1.endclass.prob', 'rep0_range_7.power_short_t1.endclass.expected_cost', 'rep0_range_7.power_short_t1.endclass.in_bound', 'rep0_range_7.power_short_t1.endclass.at_finish', 'rep0_range_7.power_short_t1.endclass.line_dist', 'rep0_range_7.power_short_t1.endclass.num_modes', 'rep0_range_7.power_short_t1.endclass.end_dist', 'rep0_range_7.power_short_t1.endclass.tot_deviation', 'rep0_range_7.power_short_t1.endclass.faults', 'rep0_range_7.power_short_t1.endclass.classification', 'rep0_range_7.power_short_t1.endclass.end_x', 'rep0_range_7.power_short_t1.endclass.end_y', 'rep0_range_7.power_short_t1.endclass.endpt', 'rep0_range_7.power_short_t2.endclass.rate', 'rep0_range_7.power_short_t2.endclass.cost', 'rep0_range_7.power_short_t2.endclass.prob', 'rep0_range_7.power_short_t2.endclass.expected_cost', 'rep0_range_7.power_short_t2.endclass.in_bound', 'rep0_range_7.power_short_t2.endclass.at_finish', 'rep0_range_7.power_short_t2.endclass.line_dist', 'rep0_range_7.power_short_t2.endclass.num_modes', 'rep0_range_7.power_short_t2.endclass.end_dist', 'rep0_range_7.power_short_t2.endclass.tot_deviation', 'rep0_range_7.power_short_t2.endclass.faults', 'rep0_range_7.power_short_t2.endclass.classification', 'rep0_range_7.power_short_t2.endclass.end_x', 'rep0_range_7.power_short_t2.endclass.end_y', 'rep0_range_7.power_short_t2.endclass.endpt', 'rep0_range_7.nominal.endclass.rate', 'rep0_range_7.nominal.endclass.cost', 'rep0_range_7.nominal.endclass.prob', 'rep0_range_7.nominal.endclass.expected_cost', 'rep0_range_7.nominal.endclass.in_bound', 'rep0_range_7.nominal.endclass.at_finish', 'rep0_range_7.nominal.endclass.line_dist', 'rep0_range_7.nominal.endclass.num_modes', 'rep0_range_7.nominal.endclass.end_dist', 'rep0_range_7.nominal.endclass.tot_deviation', 'rep0_range_7.nominal.endclass.faults', 'rep0_range_7.nominal.endclass.classification', 'rep0_range_7.nominal.endclass.end_x', 'rep0_range_7.nominal.endclass.end_y', 'rep0_range_7.nominal.endclass.endpt', 'rep0_range_8.power_no_charge_t1.endclass.rate', 'rep0_range_8.power_no_charge_t1.endclass.cost', 'rep0_range_8.power_no_charge_t1.endclass.prob', 'rep0_range_8.power_no_charge_t1.endclass.expected_cost', 'rep0_range_8.power_no_charge_t1.endclass.in_bound', 'rep0_range_8.power_no_charge_t1.endclass.at_finish', 'rep0_range_8.power_no_charge_t1.endclass.line_dist', 'rep0_range_8.power_no_charge_t1.endclass.num_modes', 'rep0_range_8.power_no_charge_t1.endclass.end_dist', 'rep0_range_8.power_no_charge_t1.endclass.tot_deviation', 'rep0_range_8.power_no_charge_t1.endclass.faults', 'rep0_range_8.power_no_charge_t1.endclass.classification', 'rep0_range_8.power_no_charge_t1.endclass.end_x', 'rep0_range_8.power_no_charge_t1.endclass.end_y', 'rep0_range_8.power_no_charge_t1.endclass.endpt', 'rep0_range_8.power_no_charge_t2.endclass.rate', 'rep0_range_8.power_no_charge_t2.endclass.cost', 'rep0_range_8.power_no_charge_t2.endclass.prob', 'rep0_range_8.power_no_charge_t2.endclass.expected_cost', 'rep0_range_8.power_no_charge_t2.endclass.in_bound', 'rep0_range_8.power_no_charge_t2.endclass.at_finish', 'rep0_range_8.power_no_charge_t2.endclass.line_dist', 'rep0_range_8.power_no_charge_t2.endclass.num_modes', 'rep0_range_8.power_no_charge_t2.endclass.end_dist', 'rep0_range_8.power_no_charge_t2.endclass.tot_deviation', 'rep0_range_8.power_no_charge_t2.endclass.faults', 'rep0_range_8.power_no_charge_t2.endclass.classification', 'rep0_range_8.power_no_charge_t2.endclass.end_x', 'rep0_range_8.power_no_charge_t2.endclass.end_y', 'rep0_range_8.power_no_charge_t2.endclass.endpt', 'rep0_range_8.power_short_t1.endclass.rate', 'rep0_range_8.power_short_t1.endclass.cost', 'rep0_range_8.power_short_t1.endclass.prob', 'rep0_range_8.power_short_t1.endclass.expected_cost', 'rep0_range_8.power_short_t1.endclass.in_bound', 'rep0_range_8.power_short_t1.endclass.at_finish', 'rep0_range_8.power_short_t1.endclass.line_dist', 'rep0_range_8.power_short_t1.endclass.num_modes', 'rep0_range_8.power_short_t1.endclass.end_dist', 'rep0_range_8.power_short_t1.endclass.tot_deviation', 'rep0_range_8.power_short_t1.endclass.faults', 'rep0_range_8.power_short_t1.endclass.classification', 'rep0_range_8.power_short_t1.endclass.end_x', 'rep0_range_8.power_short_t1.endclass.end_y', 'rep0_range_8.power_short_t1.endclass.endpt', 'rep0_range_8.power_short_t2.endclass.rate', 'rep0_range_8.power_short_t2.endclass.cost', 'rep0_range_8.power_short_t2.endclass.prob', 'rep0_range_8.power_short_t2.endclass.expected_cost', 'rep0_range_8.power_short_t2.endclass.in_bound', 'rep0_range_8.power_short_t2.endclass.at_finish', 'rep0_range_8.power_short_t2.endclass.line_dist', 'rep0_range_8.power_short_t2.endclass.num_modes', 'rep0_range_8.power_short_t2.endclass.end_dist', 'rep0_range_8.power_short_t2.endclass.tot_deviation', 'rep0_range_8.power_short_t2.endclass.faults', 'rep0_range_8.power_short_t2.endclass.classification', 'rep0_range_8.power_short_t2.endclass.end_x', 'rep0_range_8.power_short_t2.endclass.end_y', 'rep0_range_8.power_short_t2.endclass.endpt', 'rep0_range_8.nominal.endclass.rate', 'rep0_range_8.nominal.endclass.cost', 'rep0_range_8.nominal.endclass.prob', 'rep0_range_8.nominal.endclass.expected_cost', 'rep0_range_8.nominal.endclass.in_bound', 'rep0_range_8.nominal.endclass.at_finish', 'rep0_range_8.nominal.endclass.line_dist', 'rep0_range_8.nominal.endclass.num_modes', 'rep0_range_8.nominal.endclass.end_dist', 'rep0_range_8.nominal.endclass.tot_deviation', 'rep0_range_8.nominal.endclass.faults', 'rep0_range_8.nominal.endclass.classification', 'rep0_range_8.nominal.endclass.end_x', 'rep0_range_8.nominal.endclass.end_y', 'rep0_range_8.nominal.endclass.endpt', 'rep0_range_9.power_no_charge_t1.endclass.rate', 'rep0_range_9.power_no_charge_t1.endclass.cost', 'rep0_range_9.power_no_charge_t1.endclass.prob', 'rep0_range_9.power_no_charge_t1.endclass.expected_cost', 'rep0_range_9.power_no_charge_t1.endclass.in_bound', 'rep0_range_9.power_no_charge_t1.endclass.at_finish', 'rep0_range_9.power_no_charge_t1.endclass.line_dist', 'rep0_range_9.power_no_charge_t1.endclass.num_modes', 'rep0_range_9.power_no_charge_t1.endclass.end_dist', 'rep0_range_9.power_no_charge_t1.endclass.tot_deviation', 'rep0_range_9.power_no_charge_t1.endclass.faults', 'rep0_range_9.power_no_charge_t1.endclass.classification', 'rep0_range_9.power_no_charge_t1.endclass.end_x', 'rep0_range_9.power_no_charge_t1.endclass.end_y', 'rep0_range_9.power_no_charge_t1.endclass.endpt', 'rep0_range_9.power_no_charge_t2.endclass.rate', 'rep0_range_9.power_no_charge_t2.endclass.cost', 'rep0_range_9.power_no_charge_t2.endclass.prob', 'rep0_range_9.power_no_charge_t2.endclass.expected_cost', 'rep0_range_9.power_no_charge_t2.endclass.in_bound', 'rep0_range_9.power_no_charge_t2.endclass.at_finish', 'rep0_range_9.power_no_charge_t2.endclass.line_dist', 'rep0_range_9.power_no_charge_t2.endclass.num_modes', 'rep0_range_9.power_no_charge_t2.endclass.end_dist', 'rep0_range_9.power_no_charge_t2.endclass.tot_deviation', 'rep0_range_9.power_no_charge_t2.endclass.faults', 'rep0_range_9.power_no_charge_t2.endclass.classification', 'rep0_range_9.power_no_charge_t2.endclass.end_x', 'rep0_range_9.power_no_charge_t2.endclass.end_y', 'rep0_range_9.power_no_charge_t2.endclass.endpt', 'rep0_range_9.power_short_t1.endclass.rate', 'rep0_range_9.power_short_t1.endclass.cost', 'rep0_range_9.power_short_t1.endclass.prob', 'rep0_range_9.power_short_t1.endclass.expected_cost', 'rep0_range_9.power_short_t1.endclass.in_bound', 'rep0_range_9.power_short_t1.endclass.at_finish', 'rep0_range_9.power_short_t1.endclass.line_dist', 'rep0_range_9.power_short_t1.endclass.num_modes', 'rep0_range_9.power_short_t1.endclass.end_dist', 'rep0_range_9.power_short_t1.endclass.tot_deviation', 'rep0_range_9.power_short_t1.endclass.faults', 'rep0_range_9.power_short_t1.endclass.classification', 'rep0_range_9.power_short_t1.endclass.end_x', 'rep0_range_9.power_short_t1.endclass.end_y', 'rep0_range_9.power_short_t1.endclass.endpt', 'rep0_range_9.power_short_t2.endclass.rate', 'rep0_range_9.power_short_t2.endclass.cost', 'rep0_range_9.power_short_t2.endclass.prob', 'rep0_range_9.power_short_t2.endclass.expected_cost', 'rep0_range_9.power_short_t2.endclass.in_bound', 'rep0_range_9.power_short_t2.endclass.at_finish', 'rep0_range_9.power_short_t2.endclass.line_dist', 'rep0_range_9.power_short_t2.endclass.num_modes', 'rep0_range_9.power_short_t2.endclass.end_dist', 'rep0_range_9.power_short_t2.endclass.tot_deviation', 'rep0_range_9.power_short_t2.endclass.faults', 'rep0_range_9.power_short_t2.endclass.classification', 'rep0_range_9.power_short_t2.endclass.end_x', 'rep0_range_9.power_short_t2.endclass.end_y', 'rep0_range_9.power_short_t2.endclass.endpt', 'rep0_range_9.nominal.endclass.rate', 'rep0_range_9.nominal.endclass.cost', 'rep0_range_9.nominal.endclass.prob', 'rep0_range_9.nominal.endclass.expected_cost', 'rep0_range_9.nominal.endclass.in_bound', 'rep0_range_9.nominal.endclass.at_finish', 'rep0_range_9.nominal.endclass.line_dist', 'rep0_range_9.nominal.endclass.num_modes', 'rep0_range_9.nominal.endclass.end_dist', 'rep0_range_9.nominal.endclass.tot_deviation', 'rep0_range_9.nominal.endclass.faults', 'rep0_range_9.nominal.endclass.classification', 'rep0_range_9.nominal.endclass.end_x', 'rep0_range_9.nominal.endclass.end_y', 'rep0_range_9.nominal.endclass.endpt', 'rep0_range_10.power_no_charge_t1.endclass.rate', 'rep0_range_10.power_no_charge_t1.endclass.cost', 'rep0_range_10.power_no_charge_t1.endclass.prob', 'rep0_range_10.power_no_charge_t1.endclass.expected_cost', 'rep0_range_10.power_no_charge_t1.endclass.in_bound', 'rep0_range_10.power_no_charge_t1.endclass.at_finish', 'rep0_range_10.power_no_charge_t1.endclass.line_dist', 'rep0_range_10.power_no_charge_t1.endclass.num_modes', 'rep0_range_10.power_no_charge_t1.endclass.end_dist', 'rep0_range_10.power_no_charge_t1.endclass.tot_deviation', 'rep0_range_10.power_no_charge_t1.endclass.faults', 'rep0_range_10.power_no_charge_t1.endclass.classification', 'rep0_range_10.power_no_charge_t1.endclass.end_x', 'rep0_range_10.power_no_charge_t1.endclass.end_y', 'rep0_range_10.power_no_charge_t1.endclass.endpt', 'rep0_range_10.power_no_charge_t2.endclass.rate', 'rep0_range_10.power_no_charge_t2.endclass.cost', 'rep0_range_10.power_no_charge_t2.endclass.prob', 'rep0_range_10.power_no_charge_t2.endclass.expected_cost', 'rep0_range_10.power_no_charge_t2.endclass.in_bound', 'rep0_range_10.power_no_charge_t2.endclass.at_finish', 'rep0_range_10.power_no_charge_t2.endclass.line_dist', 'rep0_range_10.power_no_charge_t2.endclass.num_modes', 'rep0_range_10.power_no_charge_t2.endclass.end_dist', 'rep0_range_10.power_no_charge_t2.endclass.tot_deviation', 'rep0_range_10.power_no_charge_t2.endclass.faults', 'rep0_range_10.power_no_charge_t2.endclass.classification', 'rep0_range_10.power_no_charge_t2.endclass.end_x', 'rep0_range_10.power_no_charge_t2.endclass.end_y', 'rep0_range_10.power_no_charge_t2.endclass.endpt', 'rep0_range_10.power_short_t1.endclass.rate', 'rep0_range_10.power_short_t1.endclass.cost', 'rep0_range_10.power_short_t1.endclass.prob', 'rep0_range_10.power_short_t1.endclass.expected_cost', 'rep0_range_10.power_short_t1.endclass.in_bound', 'rep0_range_10.power_short_t1.endclass.at_finish', 'rep0_range_10.power_short_t1.endclass.line_dist', 'rep0_range_10.power_short_t1.endclass.num_modes', 'rep0_range_10.power_short_t1.endclass.end_dist', 'rep0_range_10.power_short_t1.endclass.tot_deviation', 'rep0_range_10.power_short_t1.endclass.faults', 'rep0_range_10.power_short_t1.endclass.classification', 'rep0_range_10.power_short_t1.endclass.end_x', 'rep0_range_10.power_short_t1.endclass.end_y', 'rep0_range_10.power_short_t1.endclass.endpt', 'rep0_range_10.power_short_t2.endclass.rate', 'rep0_range_10.power_short_t2.endclass.cost', 'rep0_range_10.power_short_t2.endclass.prob', 'rep0_range_10.power_short_t2.endclass.expected_cost', 'rep0_range_10.power_short_t2.endclass.in_bound', 'rep0_range_10.power_short_t2.endclass.at_finish', 'rep0_range_10.power_short_t2.endclass.line_dist', 'rep0_range_10.power_short_t2.endclass.num_modes', 'rep0_range_10.power_short_t2.endclass.end_dist', 'rep0_range_10.power_short_t2.endclass.tot_deviation', 'rep0_range_10.power_short_t2.endclass.faults', 'rep0_range_10.power_short_t2.endclass.classification', 'rep0_range_10.power_short_t2.endclass.end_x', 'rep0_range_10.power_short_t2.endclass.end_y', 'rep0_range_10.power_short_t2.endclass.endpt', 'rep0_range_10.nominal.endclass.rate', 'rep0_range_10.nominal.endclass.cost', 'rep0_range_10.nominal.endclass.prob', 'rep0_range_10.nominal.endclass.expected_cost', 'rep0_range_10.nominal.endclass.in_bound', 'rep0_range_10.nominal.endclass.at_finish', 'rep0_range_10.nominal.endclass.line_dist', 'rep0_range_10.nominal.endclass.num_modes', 'rep0_range_10.nominal.endclass.end_dist', 'rep0_range_10.nominal.endclass.tot_deviation', 'rep0_range_10.nominal.endclass.faults', 'rep0_range_10.nominal.endclass.classification', 'rep0_range_10.nominal.endclass.end_x', 'rep0_range_10.nominal.endclass.end_y', 'rep0_range_10.nominal.endclass.endpt', 'rep0_range_11.power_no_charge_t1.endclass.rate', 'rep0_range_11.power_no_charge_t1.endclass.cost', 'rep0_range_11.power_no_charge_t1.endclass.prob', 'rep0_range_11.power_no_charge_t1.endclass.expected_cost', 'rep0_range_11.power_no_charge_t1.endclass.in_bound', 'rep0_range_11.power_no_charge_t1.endclass.at_finish', 'rep0_range_11.power_no_charge_t1.endclass.line_dist', 'rep0_range_11.power_no_charge_t1.endclass.num_modes', 'rep0_range_11.power_no_charge_t1.endclass.end_dist', 'rep0_range_11.power_no_charge_t1.endclass.tot_deviation', 'rep0_range_11.power_no_charge_t1.endclass.faults', 'rep0_range_11.power_no_charge_t1.endclass.classification', 'rep0_range_11.power_no_charge_t1.endclass.end_x', 'rep0_range_11.power_no_charge_t1.endclass.end_y', 'rep0_range_11.power_no_charge_t1.endclass.endpt', 'rep0_range_11.power_no_charge_t2.endclass.rate', 'rep0_range_11.power_no_charge_t2.endclass.cost', 'rep0_range_11.power_no_charge_t2.endclass.prob', 'rep0_range_11.power_no_charge_t2.endclass.expected_cost', 'rep0_range_11.power_no_charge_t2.endclass.in_bound', 'rep0_range_11.power_no_charge_t2.endclass.at_finish', 'rep0_range_11.power_no_charge_t2.endclass.line_dist', 'rep0_range_11.power_no_charge_t2.endclass.num_modes', 'rep0_range_11.power_no_charge_t2.endclass.end_dist', 'rep0_range_11.power_no_charge_t2.endclass.tot_deviation', 'rep0_range_11.power_no_charge_t2.endclass.faults', 'rep0_range_11.power_no_charge_t2.endclass.classification', 'rep0_range_11.power_no_charge_t2.endclass.end_x', 'rep0_range_11.power_no_charge_t2.endclass.end_y', 'rep0_range_11.power_no_charge_t2.endclass.endpt', 'rep0_range_11.power_short_t1.endclass.rate', 'rep0_range_11.power_short_t1.endclass.cost', 'rep0_range_11.power_short_t1.endclass.prob', 'rep0_range_11.power_short_t1.endclass.expected_cost', 'rep0_range_11.power_short_t1.endclass.in_bound', 'rep0_range_11.power_short_t1.endclass.at_finish', 'rep0_range_11.power_short_t1.endclass.line_dist', 'rep0_range_11.power_short_t1.endclass.num_modes', 'rep0_range_11.power_short_t1.endclass.end_dist', 'rep0_range_11.power_short_t1.endclass.tot_deviation', 'rep0_range_11.power_short_t1.endclass.faults', 'rep0_range_11.power_short_t1.endclass.classification', 'rep0_range_11.power_short_t1.endclass.end_x', 'rep0_range_11.power_short_t1.endclass.end_y', 'rep0_range_11.power_short_t1.endclass.endpt', 'rep0_range_11.power_short_t2.endclass.rate', 'rep0_range_11.power_short_t2.endclass.cost', 'rep0_range_11.power_short_t2.endclass.prob', 'rep0_range_11.power_short_t2.endclass.expected_cost', 'rep0_range_11.power_short_t2.endclass.in_bound', 'rep0_range_11.power_short_t2.endclass.at_finish', 'rep0_range_11.power_short_t2.endclass.line_dist', 'rep0_range_11.power_short_t2.endclass.num_modes', 'rep0_range_11.power_short_t2.endclass.end_dist', 'rep0_range_11.power_short_t2.endclass.tot_deviation', 'rep0_range_11.power_short_t2.endclass.faults', 'rep0_range_11.power_short_t2.endclass.classification', 'rep0_range_11.power_short_t2.endclass.end_x', 'rep0_range_11.power_short_t2.endclass.end_y', 'rep0_range_11.power_short_t2.endclass.endpt', 'rep0_range_11.nominal.endclass.rate', 'rep0_range_11.nominal.endclass.cost', 'rep0_range_11.nominal.endclass.prob', 'rep0_range_11.nominal.endclass.expected_cost', 'rep0_range_11.nominal.endclass.in_bound', 'rep0_range_11.nominal.endclass.at_finish', 'rep0_range_11.nominal.endclass.line_dist', 'rep0_range_11.nominal.endclass.num_modes', 'rep0_range_11.nominal.endclass.end_dist', 'rep0_range_11.nominal.endclass.tot_deviation', 'rep0_range_11.nominal.endclass.faults', 'rep0_range_11.nominal.endclass.classification', 'rep0_range_11.nominal.endclass.end_x', 'rep0_range_11.nominal.endclass.end_y', 'rep0_range_11.nominal.endclass.endpt', 'rep0_range_12.power_no_charge_t1.endclass.rate', 'rep0_range_12.power_no_charge_t1.endclass.cost', 'rep0_range_12.power_no_charge_t1.endclass.prob', 'rep0_range_12.power_no_charge_t1.endclass.expected_cost', 'rep0_range_12.power_no_charge_t1.endclass.in_bound', 'rep0_range_12.power_no_charge_t1.endclass.at_finish', 'rep0_range_12.power_no_charge_t1.endclass.line_dist', 'rep0_range_12.power_no_charge_t1.endclass.num_modes', 'rep0_range_12.power_no_charge_t1.endclass.end_dist', 'rep0_range_12.power_no_charge_t1.endclass.tot_deviation', 'rep0_range_12.power_no_charge_t1.endclass.faults', 'rep0_range_12.power_no_charge_t1.endclass.classification', 'rep0_range_12.power_no_charge_t1.endclass.end_x', 'rep0_range_12.power_no_charge_t1.endclass.end_y', 'rep0_range_12.power_no_charge_t1.endclass.endpt', 'rep0_range_12.power_no_charge_t2.endclass.rate', 'rep0_range_12.power_no_charge_t2.endclass.cost', 'rep0_range_12.power_no_charge_t2.endclass.prob', 'rep0_range_12.power_no_charge_t2.endclass.expected_cost', 'rep0_range_12.power_no_charge_t2.endclass.in_bound', 'rep0_range_12.power_no_charge_t2.endclass.at_finish', 'rep0_range_12.power_no_charge_t2.endclass.line_dist', 'rep0_range_12.power_no_charge_t2.endclass.num_modes', 'rep0_range_12.power_no_charge_t2.endclass.end_dist', 'rep0_range_12.power_no_charge_t2.endclass.tot_deviation', 'rep0_range_12.power_no_charge_t2.endclass.faults', 'rep0_range_12.power_no_charge_t2.endclass.classification', 'rep0_range_12.power_no_charge_t2.endclass.end_x', 'rep0_range_12.power_no_charge_t2.endclass.end_y', 'rep0_range_12.power_no_charge_t2.endclass.endpt', 'rep0_range_12.power_short_t1.endclass.rate', 'rep0_range_12.power_short_t1.endclass.cost', 'rep0_range_12.power_short_t1.endclass.prob', 'rep0_range_12.power_short_t1.endclass.expected_cost', 'rep0_range_12.power_short_t1.endclass.in_bound', 'rep0_range_12.power_short_t1.endclass.at_finish', 'rep0_range_12.power_short_t1.endclass.line_dist', 'rep0_range_12.power_short_t1.endclass.num_modes', 'rep0_range_12.power_short_t1.endclass.end_dist', 'rep0_range_12.power_short_t1.endclass.tot_deviation', 'rep0_range_12.power_short_t1.endclass.faults', 'rep0_range_12.power_short_t1.endclass.classification', 'rep0_range_12.power_short_t1.endclass.end_x', 'rep0_range_12.power_short_t1.endclass.end_y', 'rep0_range_12.power_short_t1.endclass.endpt', 'rep0_range_12.power_short_t2.endclass.rate', 'rep0_range_12.power_short_t2.endclass.cost', 'rep0_range_12.power_short_t2.endclass.prob', 'rep0_range_12.power_short_t2.endclass.expected_cost', 'rep0_range_12.power_short_t2.endclass.in_bound', 'rep0_range_12.power_short_t2.endclass.at_finish', 'rep0_range_12.power_short_t2.endclass.line_dist', 'rep0_range_12.power_short_t2.endclass.num_modes', 'rep0_range_12.power_short_t2.endclass.end_dist', 'rep0_range_12.power_short_t2.endclass.tot_deviation', 'rep0_range_12.power_short_t2.endclass.faults', 'rep0_range_12.power_short_t2.endclass.classification', 'rep0_range_12.power_short_t2.endclass.end_x', 'rep0_range_12.power_short_t2.endclass.end_y', 'rep0_range_12.power_short_t2.endclass.endpt', 'rep0_range_12.nominal.endclass.rate', 'rep0_range_12.nominal.endclass.cost', 'rep0_range_12.nominal.endclass.prob', 'rep0_range_12.nominal.endclass.expected_cost', 'rep0_range_12.nominal.endclass.in_bound', 'rep0_range_12.nominal.endclass.at_finish', 'rep0_range_12.nominal.endclass.line_dist', 'rep0_range_12.nominal.endclass.num_modes', 'rep0_range_12.nominal.endclass.end_dist', 'rep0_range_12.nominal.endclass.tot_deviation', 'rep0_range_12.nominal.endclass.faults', 'rep0_range_12.nominal.endclass.classification', 'rep0_range_12.nominal.endclass.end_x', 'rep0_range_12.nominal.endclass.end_y', 'rep0_range_12.nominal.endclass.endpt', 'rep0_range_13.power_no_charge_t1.endclass.rate', 'rep0_range_13.power_no_charge_t1.endclass.cost', 'rep0_range_13.power_no_charge_t1.endclass.prob', 'rep0_range_13.power_no_charge_t1.endclass.expected_cost', 'rep0_range_13.power_no_charge_t1.endclass.in_bound', 'rep0_range_13.power_no_charge_t1.endclass.at_finish', 'rep0_range_13.power_no_charge_t1.endclass.line_dist', 'rep0_range_13.power_no_charge_t1.endclass.num_modes', 'rep0_range_13.power_no_charge_t1.endclass.end_dist', 'rep0_range_13.power_no_charge_t1.endclass.tot_deviation', 'rep0_range_13.power_no_charge_t1.endclass.faults', 'rep0_range_13.power_no_charge_t1.endclass.classification', 'rep0_range_13.power_no_charge_t1.endclass.end_x', 'rep0_range_13.power_no_charge_t1.endclass.end_y', 'rep0_range_13.power_no_charge_t1.endclass.endpt', 'rep0_range_13.power_no_charge_t2.endclass.rate', 'rep0_range_13.power_no_charge_t2.endclass.cost', 'rep0_range_13.power_no_charge_t2.endclass.prob', 'rep0_range_13.power_no_charge_t2.endclass.expected_cost', 'rep0_range_13.power_no_charge_t2.endclass.in_bound', 'rep0_range_13.power_no_charge_t2.endclass.at_finish', 'rep0_range_13.power_no_charge_t2.endclass.line_dist', 'rep0_range_13.power_no_charge_t2.endclass.num_modes', 'rep0_range_13.power_no_charge_t2.endclass.end_dist', 'rep0_range_13.power_no_charge_t2.endclass.tot_deviation', 'rep0_range_13.power_no_charge_t2.endclass.faults', 'rep0_range_13.power_no_charge_t2.endclass.classification', 'rep0_range_13.power_no_charge_t2.endclass.end_x', 'rep0_range_13.power_no_charge_t2.endclass.end_y', 'rep0_range_13.power_no_charge_t2.endclass.endpt', 'rep0_range_13.power_short_t1.endclass.rate', 'rep0_range_13.power_short_t1.endclass.cost', 'rep0_range_13.power_short_t1.endclass.prob', 'rep0_range_13.power_short_t1.endclass.expected_cost', 'rep0_range_13.power_short_t1.endclass.in_bound', 'rep0_range_13.power_short_t1.endclass.at_finish', 'rep0_range_13.power_short_t1.endclass.line_dist', 'rep0_range_13.power_short_t1.endclass.num_modes', 'rep0_range_13.power_short_t1.endclass.end_dist', 'rep0_range_13.power_short_t1.endclass.tot_deviation', 'rep0_range_13.power_short_t1.endclass.faults', 'rep0_range_13.power_short_t1.endclass.classification', 'rep0_range_13.power_short_t1.endclass.end_x', 'rep0_range_13.power_short_t1.endclass.end_y', 'rep0_range_13.power_short_t1.endclass.endpt', 'rep0_range_13.power_short_t2.endclass.rate', 'rep0_range_13.power_short_t2.endclass.cost', 'rep0_range_13.power_short_t2.endclass.prob', 'rep0_range_13.power_short_t2.endclass.expected_cost', 'rep0_range_13.power_short_t2.endclass.in_bound', 'rep0_range_13.power_short_t2.endclass.at_finish', 'rep0_range_13.power_short_t2.endclass.line_dist', 'rep0_range_13.power_short_t2.endclass.num_modes', 'rep0_range_13.power_short_t2.endclass.end_dist', 'rep0_range_13.power_short_t2.endclass.tot_deviation', 'rep0_range_13.power_short_t2.endclass.faults', 'rep0_range_13.power_short_t2.endclass.classification', 'rep0_range_13.power_short_t2.endclass.end_x', 'rep0_range_13.power_short_t2.endclass.end_y', 'rep0_range_13.power_short_t2.endclass.endpt', 'rep0_range_13.nominal.endclass.rate', 'rep0_range_13.nominal.endclass.cost', 'rep0_range_13.nominal.endclass.prob', 'rep0_range_13.nominal.endclass.expected_cost', 'rep0_range_13.nominal.endclass.in_bound', 'rep0_range_13.nominal.endclass.at_finish', 'rep0_range_13.nominal.endclass.line_dist', 'rep0_range_13.nominal.endclass.num_modes', 'rep0_range_13.nominal.endclass.end_dist', 'rep0_range_13.nominal.endclass.tot_deviation', 'rep0_range_13.nominal.endclass.faults', 'rep0_range_13.nominal.endclass.classification', 'rep0_range_13.nominal.endclass.end_x', 'rep0_range_13.nominal.endclass.end_y', 'rep0_range_13.nominal.endclass.endpt', 'rep0_range_14.power_no_charge_t1.endclass.rate', 'rep0_range_14.power_no_charge_t1.endclass.cost', 'rep0_range_14.power_no_charge_t1.endclass.prob', 'rep0_range_14.power_no_charge_t1.endclass.expected_cost', 'rep0_range_14.power_no_charge_t1.endclass.in_bound', 'rep0_range_14.power_no_charge_t1.endclass.at_finish', 'rep0_range_14.power_no_charge_t1.endclass.line_dist', 'rep0_range_14.power_no_charge_t1.endclass.num_modes', 'rep0_range_14.power_no_charge_t1.endclass.end_dist', 'rep0_range_14.power_no_charge_t1.endclass.tot_deviation', 'rep0_range_14.power_no_charge_t1.endclass.faults', 'rep0_range_14.power_no_charge_t1.endclass.classification', 'rep0_range_14.power_no_charge_t1.endclass.end_x', 'rep0_range_14.power_no_charge_t1.endclass.end_y', 'rep0_range_14.power_no_charge_t1.endclass.endpt', 'rep0_range_14.power_no_charge_t2.endclass.rate', 'rep0_range_14.power_no_charge_t2.endclass.cost', 'rep0_range_14.power_no_charge_t2.endclass.prob', 'rep0_range_14.power_no_charge_t2.endclass.expected_cost', 'rep0_range_14.power_no_charge_t2.endclass.in_bound', 'rep0_range_14.power_no_charge_t2.endclass.at_finish', 'rep0_range_14.power_no_charge_t2.endclass.line_dist', 'rep0_range_14.power_no_charge_t2.endclass.num_modes', 'rep0_range_14.power_no_charge_t2.endclass.end_dist', 'rep0_range_14.power_no_charge_t2.endclass.tot_deviation', 'rep0_range_14.power_no_charge_t2.endclass.faults', 'rep0_range_14.power_no_charge_t2.endclass.classification', 'rep0_range_14.power_no_charge_t2.endclass.end_x', 'rep0_range_14.power_no_charge_t2.endclass.end_y', 'rep0_range_14.power_no_charge_t2.endclass.endpt', 'rep0_range_14.power_short_t1.endclass.rate', 'rep0_range_14.power_short_t1.endclass.cost', 'rep0_range_14.power_short_t1.endclass.prob', 'rep0_range_14.power_short_t1.endclass.expected_cost', 'rep0_range_14.power_short_t1.endclass.in_bound', 'rep0_range_14.power_short_t1.endclass.at_finish', 'rep0_range_14.power_short_t1.endclass.line_dist', 'rep0_range_14.power_short_t1.endclass.num_modes', 'rep0_range_14.power_short_t1.endclass.end_dist', 'rep0_range_14.power_short_t1.endclass.tot_deviation', 'rep0_range_14.power_short_t1.endclass.faults', 'rep0_range_14.power_short_t1.endclass.classification', 'rep0_range_14.power_short_t1.endclass.end_x', 'rep0_range_14.power_short_t1.endclass.end_y', 'rep0_range_14.power_short_t1.endclass.endpt', 'rep0_range_14.power_short_t2.endclass.rate', 'rep0_range_14.power_short_t2.endclass.cost', 'rep0_range_14.power_short_t2.endclass.prob', 'rep0_range_14.power_short_t2.endclass.expected_cost', 'rep0_range_14.power_short_t2.endclass.in_bound', 'rep0_range_14.power_short_t2.endclass.at_finish', 'rep0_range_14.power_short_t2.endclass.line_dist', 'rep0_range_14.power_short_t2.endclass.num_modes', 'rep0_range_14.power_short_t2.endclass.end_dist', 'rep0_range_14.power_short_t2.endclass.tot_deviation', 'rep0_range_14.power_short_t2.endclass.faults', 'rep0_range_14.power_short_t2.endclass.classification', 'rep0_range_14.power_short_t2.endclass.end_x', 'rep0_range_14.power_short_t2.endclass.end_y', 'rep0_range_14.power_short_t2.endclass.endpt', 'rep0_range_14.nominal.endclass.rate', 'rep0_range_14.nominal.endclass.cost', 'rep0_range_14.nominal.endclass.prob', 'rep0_range_14.nominal.endclass.expected_cost', 'rep0_range_14.nominal.endclass.in_bound', 'rep0_range_14.nominal.endclass.at_finish', 'rep0_range_14.nominal.endclass.line_dist', 'rep0_range_14.nominal.endclass.num_modes', 'rep0_range_14.nominal.endclass.end_dist', 'rep0_range_14.nominal.endclass.tot_deviation', 'rep0_range_14.nominal.endclass.faults', 'rep0_range_14.nominal.endclass.classification', 'rep0_range_14.nominal.endclass.end_x', 'rep0_range_14.nominal.endclass.end_y', 'rep0_range_14.nominal.endclass.endpt', 'rep0_range_15.power_no_charge_t1.endclass.rate', 'rep0_range_15.power_no_charge_t1.endclass.cost', 'rep0_range_15.power_no_charge_t1.endclass.prob', 'rep0_range_15.power_no_charge_t1.endclass.expected_cost', 'rep0_range_15.power_no_charge_t1.endclass.in_bound', 'rep0_range_15.power_no_charge_t1.endclass.at_finish', 'rep0_range_15.power_no_charge_t1.endclass.line_dist', 'rep0_range_15.power_no_charge_t1.endclass.num_modes', 'rep0_range_15.power_no_charge_t1.endclass.end_dist', 'rep0_range_15.power_no_charge_t1.endclass.tot_deviation', 'rep0_range_15.power_no_charge_t1.endclass.faults', 'rep0_range_15.power_no_charge_t1.endclass.classification', 'rep0_range_15.power_no_charge_t1.endclass.end_x', 'rep0_range_15.power_no_charge_t1.endclass.end_y', 'rep0_range_15.power_no_charge_t1.endclass.endpt', 'rep0_range_15.power_no_charge_t2.endclass.rate', 'rep0_range_15.power_no_charge_t2.endclass.cost', 'rep0_range_15.power_no_charge_t2.endclass.prob', 'rep0_range_15.power_no_charge_t2.endclass.expected_cost', 'rep0_range_15.power_no_charge_t2.endclass.in_bound', 'rep0_range_15.power_no_charge_t2.endclass.at_finish', 'rep0_range_15.power_no_charge_t2.endclass.line_dist', 'rep0_range_15.power_no_charge_t2.endclass.num_modes', 'rep0_range_15.power_no_charge_t2.endclass.end_dist', 'rep0_range_15.power_no_charge_t2.endclass.tot_deviation', 'rep0_range_15.power_no_charge_t2.endclass.faults', 'rep0_range_15.power_no_charge_t2.endclass.classification', 'rep0_range_15.power_no_charge_t2.endclass.end_x', 'rep0_range_15.power_no_charge_t2.endclass.end_y', 'rep0_range_15.power_no_charge_t2.endclass.endpt', 'rep0_range_15.power_short_t1.endclass.rate', 'rep0_range_15.power_short_t1.endclass.cost', 'rep0_range_15.power_short_t1.endclass.prob', 'rep0_range_15.power_short_t1.endclass.expected_cost', 'rep0_range_15.power_short_t1.endclass.in_bound', 'rep0_range_15.power_short_t1.endclass.at_finish', 'rep0_range_15.power_short_t1.endclass.line_dist', 'rep0_range_15.power_short_t1.endclass.num_modes', 'rep0_range_15.power_short_t1.endclass.end_dist', 'rep0_range_15.power_short_t1.endclass.tot_deviation', 'rep0_range_15.power_short_t1.endclass.faults', 'rep0_range_15.power_short_t1.endclass.classification', 'rep0_range_15.power_short_t1.endclass.end_x', 'rep0_range_15.power_short_t1.endclass.end_y', 'rep0_range_15.power_short_t1.endclass.endpt', 'rep0_range_15.power_short_t2.endclass.rate', 'rep0_range_15.power_short_t2.endclass.cost', 'rep0_range_15.power_short_t2.endclass.prob', 'rep0_range_15.power_short_t2.endclass.expected_cost', 'rep0_range_15.power_short_t2.endclass.in_bound', 'rep0_range_15.power_short_t2.endclass.at_finish', 'rep0_range_15.power_short_t2.endclass.line_dist', 'rep0_range_15.power_short_t2.endclass.num_modes', 'rep0_range_15.power_short_t2.endclass.end_dist', 'rep0_range_15.power_short_t2.endclass.tot_deviation', 'rep0_range_15.power_short_t2.endclass.faults', 'rep0_range_15.power_short_t2.endclass.classification', 'rep0_range_15.power_short_t2.endclass.end_x', 'rep0_range_15.power_short_t2.endclass.end_y', 'rep0_range_15.power_short_t2.endclass.endpt', 'rep0_range_15.nominal.endclass.rate', 'rep0_range_15.nominal.endclass.cost', 'rep0_range_15.nominal.endclass.prob', 'rep0_range_15.nominal.endclass.expected_cost', 'rep0_range_15.nominal.endclass.in_bound', 'rep0_range_15.nominal.endclass.at_finish', 'rep0_range_15.nominal.endclass.line_dist', 'rep0_range_15.nominal.endclass.num_modes', 'rep0_range_15.nominal.endclass.end_dist', 'rep0_range_15.nominal.endclass.tot_deviation', 'rep0_range_15.nominal.endclass.faults', 'rep0_range_15.nominal.endclass.classification', 'rep0_range_15.nominal.endclass.end_x', 'rep0_range_15.nominal.endclass.end_y', 'rep0_range_15.nominal.endclass.endpt', 'rep0_range_16.power_no_charge_t1.endclass.rate', 'rep0_range_16.power_no_charge_t1.endclass.cost', 'rep0_range_16.power_no_charge_t1.endclass.prob', 'rep0_range_16.power_no_charge_t1.endclass.expected_cost', 'rep0_range_16.power_no_charge_t1.endclass.in_bound', 'rep0_range_16.power_no_charge_t1.endclass.at_finish', 'rep0_range_16.power_no_charge_t1.endclass.line_dist', 'rep0_range_16.power_no_charge_t1.endclass.num_modes', 'rep0_range_16.power_no_charge_t1.endclass.end_dist', 'rep0_range_16.power_no_charge_t1.endclass.tot_deviation', 'rep0_range_16.power_no_charge_t1.endclass.faults', 'rep0_range_16.power_no_charge_t1.endclass.classification', 'rep0_range_16.power_no_charge_t1.endclass.end_x', 'rep0_range_16.power_no_charge_t1.endclass.end_y', 'rep0_range_16.power_no_charge_t1.endclass.endpt', 'rep0_range_16.power_no_charge_t2.endclass.rate', 'rep0_range_16.power_no_charge_t2.endclass.cost', 'rep0_range_16.power_no_charge_t2.endclass.prob', 'rep0_range_16.power_no_charge_t2.endclass.expected_cost', 'rep0_range_16.power_no_charge_t2.endclass.in_bound', 'rep0_range_16.power_no_charge_t2.endclass.at_finish', 'rep0_range_16.power_no_charge_t2.endclass.line_dist', 'rep0_range_16.power_no_charge_t2.endclass.num_modes', 'rep0_range_16.power_no_charge_t2.endclass.end_dist', 'rep0_range_16.power_no_charge_t2.endclass.tot_deviation', 'rep0_range_16.power_no_charge_t2.endclass.faults', 'rep0_range_16.power_no_charge_t2.endclass.classification', 'rep0_range_16.power_no_charge_t2.endclass.end_x', 'rep0_range_16.power_no_charge_t2.endclass.end_y', 'rep0_range_16.power_no_charge_t2.endclass.endpt', 'rep0_range_16.power_short_t1.endclass.rate', 'rep0_range_16.power_short_t1.endclass.cost', 'rep0_range_16.power_short_t1.endclass.prob', 'rep0_range_16.power_short_t1.endclass.expected_cost', 'rep0_range_16.power_short_t1.endclass.in_bound', 'rep0_range_16.power_short_t1.endclass.at_finish', 'rep0_range_16.power_short_t1.endclass.line_dist', 'rep0_range_16.power_short_t1.endclass.num_modes', 'rep0_range_16.power_short_t1.endclass.end_dist', 'rep0_range_16.power_short_t1.endclass.tot_deviation', 'rep0_range_16.power_short_t1.endclass.faults', 'rep0_range_16.power_short_t1.endclass.classification', 'rep0_range_16.power_short_t1.endclass.end_x', 'rep0_range_16.power_short_t1.endclass.end_y', 'rep0_range_16.power_short_t1.endclass.endpt', 'rep0_range_16.power_short_t2.endclass.rate', 'rep0_range_16.power_short_t2.endclass.cost', 'rep0_range_16.power_short_t2.endclass.prob', 'rep0_range_16.power_short_t2.endclass.expected_cost', 'rep0_range_16.power_short_t2.endclass.in_bound', 'rep0_range_16.power_short_t2.endclass.at_finish', 'rep0_range_16.power_short_t2.endclass.line_dist', 'rep0_range_16.power_short_t2.endclass.num_modes', 'rep0_range_16.power_short_t2.endclass.end_dist', 'rep0_range_16.power_short_t2.endclass.tot_deviation', 'rep0_range_16.power_short_t2.endclass.faults', 'rep0_range_16.power_short_t2.endclass.classification', 'rep0_range_16.power_short_t2.endclass.end_x', 'rep0_range_16.power_short_t2.endclass.end_y', 'rep0_range_16.power_short_t2.endclass.endpt', 'rep0_range_16.nominal.endclass.rate', 'rep0_range_16.nominal.endclass.cost', 'rep0_range_16.nominal.endclass.prob', 'rep0_range_16.nominal.endclass.expected_cost', 'rep0_range_16.nominal.endclass.in_bound', 'rep0_range_16.nominal.endclass.at_finish', 'rep0_range_16.nominal.endclass.line_dist', 'rep0_range_16.nominal.endclass.num_modes', 'rep0_range_16.nominal.endclass.end_dist', 'rep0_range_16.nominal.endclass.tot_deviation', 'rep0_range_16.nominal.endclass.faults', 'rep0_range_16.nominal.endclass.classification', 'rep0_range_16.nominal.endclass.end_x', 'rep0_range_16.nominal.endclass.end_y', 'rep0_range_16.nominal.endclass.endpt', 'rep0_range_17.power_no_charge_t1.endclass.rate', 'rep0_range_17.power_no_charge_t1.endclass.cost', 'rep0_range_17.power_no_charge_t1.endclass.prob', 'rep0_range_17.power_no_charge_t1.endclass.expected_cost', 'rep0_range_17.power_no_charge_t1.endclass.in_bound', 'rep0_range_17.power_no_charge_t1.endclass.at_finish', 'rep0_range_17.power_no_charge_t1.endclass.line_dist', 'rep0_range_17.power_no_charge_t1.endclass.num_modes', 'rep0_range_17.power_no_charge_t1.endclass.end_dist', 'rep0_range_17.power_no_charge_t1.endclass.tot_deviation', 'rep0_range_17.power_no_charge_t1.endclass.faults', 'rep0_range_17.power_no_charge_t1.endclass.classification', 'rep0_range_17.power_no_charge_t1.endclass.end_x', 'rep0_range_17.power_no_charge_t1.endclass.end_y', 'rep0_range_17.power_no_charge_t1.endclass.endpt', 'rep0_range_17.power_no_charge_t2.endclass.rate', 'rep0_range_17.power_no_charge_t2.endclass.cost', 'rep0_range_17.power_no_charge_t2.endclass.prob', 'rep0_range_17.power_no_charge_t2.endclass.expected_cost', 'rep0_range_17.power_no_charge_t2.endclass.in_bound', 'rep0_range_17.power_no_charge_t2.endclass.at_finish', 'rep0_range_17.power_no_charge_t2.endclass.line_dist', 'rep0_range_17.power_no_charge_t2.endclass.num_modes', 'rep0_range_17.power_no_charge_t2.endclass.end_dist', 'rep0_range_17.power_no_charge_t2.endclass.tot_deviation', 'rep0_range_17.power_no_charge_t2.endclass.faults', 'rep0_range_17.power_no_charge_t2.endclass.classification', 'rep0_range_17.power_no_charge_t2.endclass.end_x', 'rep0_range_17.power_no_charge_t2.endclass.end_y', 'rep0_range_17.power_no_charge_t2.endclass.endpt', 'rep0_range_17.power_short_t1.endclass.rate', 'rep0_range_17.power_short_t1.endclass.cost', 'rep0_range_17.power_short_t1.endclass.prob', 'rep0_range_17.power_short_t1.endclass.expected_cost', 'rep0_range_17.power_short_t1.endclass.in_bound', 'rep0_range_17.power_short_t1.endclass.at_finish', 'rep0_range_17.power_short_t1.endclass.line_dist', 'rep0_range_17.power_short_t1.endclass.num_modes', 'rep0_range_17.power_short_t1.endclass.end_dist', 'rep0_range_17.power_short_t1.endclass.tot_deviation', 'rep0_range_17.power_short_t1.endclass.faults', 'rep0_range_17.power_short_t1.endclass.classification', 'rep0_range_17.power_short_t1.endclass.end_x', 'rep0_range_17.power_short_t1.endclass.end_y', 'rep0_range_17.power_short_t1.endclass.endpt', 'rep0_range_17.power_short_t2.endclass.rate', 'rep0_range_17.power_short_t2.endclass.cost', 'rep0_range_17.power_short_t2.endclass.prob', 'rep0_range_17.power_short_t2.endclass.expected_cost', 'rep0_range_17.power_short_t2.endclass.in_bound', 'rep0_range_17.power_short_t2.endclass.at_finish', 'rep0_range_17.power_short_t2.endclass.line_dist', 'rep0_range_17.power_short_t2.endclass.num_modes', 'rep0_range_17.power_short_t2.endclass.end_dist', 'rep0_range_17.power_short_t2.endclass.tot_deviation', 'rep0_range_17.power_short_t2.endclass.faults', 'rep0_range_17.power_short_t2.endclass.classification', 'rep0_range_17.power_short_t2.endclass.end_x', 'rep0_range_17.power_short_t2.endclass.end_y', 'rep0_range_17.power_short_t2.endclass.endpt', 'rep0_range_17.nominal.endclass.rate', 'rep0_range_17.nominal.endclass.cost', 'rep0_range_17.nominal.endclass.prob', 'rep0_range_17.nominal.endclass.expected_cost', 'rep0_range_17.nominal.endclass.in_bound', 'rep0_range_17.nominal.endclass.at_finish', 'rep0_range_17.nominal.endclass.line_dist', 'rep0_range_17.nominal.endclass.num_modes', 'rep0_range_17.nominal.endclass.end_dist', 'rep0_range_17.nominal.endclass.tot_deviation', 'rep0_range_17.nominal.endclass.faults', 'rep0_range_17.nominal.endclass.classification', 'rep0_range_17.nominal.endclass.end_x', 'rep0_range_17.nominal.endclass.end_y', 'rep0_range_17.nominal.endclass.endpt', 'rep0_range_18.power_no_charge_t1.endclass.rate', 'rep0_range_18.power_no_charge_t1.endclass.cost', 'rep0_range_18.power_no_charge_t1.endclass.prob', 'rep0_range_18.power_no_charge_t1.endclass.expected_cost', 'rep0_range_18.power_no_charge_t1.endclass.in_bound', 'rep0_range_18.power_no_charge_t1.endclass.at_finish', 'rep0_range_18.power_no_charge_t1.endclass.line_dist', 'rep0_range_18.power_no_charge_t1.endclass.num_modes', 'rep0_range_18.power_no_charge_t1.endclass.end_dist', 'rep0_range_18.power_no_charge_t1.endclass.tot_deviation', 'rep0_range_18.power_no_charge_t1.endclass.faults', 'rep0_range_18.power_no_charge_t1.endclass.classification', 'rep0_range_18.power_no_charge_t1.endclass.end_x', 'rep0_range_18.power_no_charge_t1.endclass.end_y', 'rep0_range_18.power_no_charge_t1.endclass.endpt', 'rep0_range_18.power_no_charge_t2.endclass.rate', 'rep0_range_18.power_no_charge_t2.endclass.cost', 'rep0_range_18.power_no_charge_t2.endclass.prob', 'rep0_range_18.power_no_charge_t2.endclass.expected_cost', 'rep0_range_18.power_no_charge_t2.endclass.in_bound', 'rep0_range_18.power_no_charge_t2.endclass.at_finish', 'rep0_range_18.power_no_charge_t2.endclass.line_dist', 'rep0_range_18.power_no_charge_t2.endclass.num_modes', 'rep0_range_18.power_no_charge_t2.endclass.end_dist', 'rep0_range_18.power_no_charge_t2.endclass.tot_deviation', 'rep0_range_18.power_no_charge_t2.endclass.faults', 'rep0_range_18.power_no_charge_t2.endclass.classification', 'rep0_range_18.power_no_charge_t2.endclass.end_x', 'rep0_range_18.power_no_charge_t2.endclass.end_y', 'rep0_range_18.power_no_charge_t2.endclass.endpt', 'rep0_range_18.power_short_t1.endclass.rate', 'rep0_range_18.power_short_t1.endclass.cost', 'rep0_range_18.power_short_t1.endclass.prob', 'rep0_range_18.power_short_t1.endclass.expected_cost', 'rep0_range_18.power_short_t1.endclass.in_bound', 'rep0_range_18.power_short_t1.endclass.at_finish', 'rep0_range_18.power_short_t1.endclass.line_dist', 'rep0_range_18.power_short_t1.endclass.num_modes', 'rep0_range_18.power_short_t1.endclass.end_dist', 'rep0_range_18.power_short_t1.endclass.tot_deviation', 'rep0_range_18.power_short_t1.endclass.faults', 'rep0_range_18.power_short_t1.endclass.classification', 'rep0_range_18.power_short_t1.endclass.end_x', 'rep0_range_18.power_short_t1.endclass.end_y', 'rep0_range_18.power_short_t1.endclass.endpt', 'rep0_range_18.power_short_t2.endclass.rate', 'rep0_range_18.power_short_t2.endclass.cost', 'rep0_range_18.power_short_t2.endclass.prob', 'rep0_range_18.power_short_t2.endclass.expected_cost', 'rep0_range_18.power_short_t2.endclass.in_bound', 'rep0_range_18.power_short_t2.endclass.at_finish', 'rep0_range_18.power_short_t2.endclass.line_dist', 'rep0_range_18.power_short_t2.endclass.num_modes', 'rep0_range_18.power_short_t2.endclass.end_dist', 'rep0_range_18.power_short_t2.endclass.tot_deviation', 'rep0_range_18.power_short_t2.endclass.faults', 'rep0_range_18.power_short_t2.endclass.classification', 'rep0_range_18.power_short_t2.endclass.end_x', 'rep0_range_18.power_short_t2.endclass.end_y', 'rep0_range_18.power_short_t2.endclass.endpt', 'rep0_range_18.nominal.endclass.rate', 'rep0_range_18.nominal.endclass.cost', 'rep0_range_18.nominal.endclass.prob', 'rep0_range_18.nominal.endclass.expected_cost', 'rep0_range_18.nominal.endclass.in_bound', 'rep0_range_18.nominal.endclass.at_finish', 'rep0_range_18.nominal.endclass.line_dist', 'rep0_range_18.nominal.endclass.num_modes', 'rep0_range_18.nominal.endclass.end_dist', 'rep0_range_18.nominal.endclass.tot_deviation', 'rep0_range_18.nominal.endclass.faults', 'rep0_range_18.nominal.endclass.classification', 'rep0_range_18.nominal.endclass.end_x', 'rep0_range_18.nominal.endclass.end_y', 'rep0_range_18.nominal.endclass.endpt', 'rep0_range_19.power_no_charge_t1.endclass.rate', 'rep0_range_19.power_no_charge_t1.endclass.cost', 'rep0_range_19.power_no_charge_t1.endclass.prob', 'rep0_range_19.power_no_charge_t1.endclass.expected_cost', 'rep0_range_19.power_no_charge_t1.endclass.in_bound', 'rep0_range_19.power_no_charge_t1.endclass.at_finish', 'rep0_range_19.power_no_charge_t1.endclass.line_dist', 'rep0_range_19.power_no_charge_t1.endclass.num_modes', 'rep0_range_19.power_no_charge_t1.endclass.end_dist', 'rep0_range_19.power_no_charge_t1.endclass.tot_deviation', 'rep0_range_19.power_no_charge_t1.endclass.faults', 'rep0_range_19.power_no_charge_t1.endclass.classification', 'rep0_range_19.power_no_charge_t1.endclass.end_x', 'rep0_range_19.power_no_charge_t1.endclass.end_y', 'rep0_range_19.power_no_charge_t1.endclass.endpt', 'rep0_range_19.power_no_charge_t2.endclass.rate', 'rep0_range_19.power_no_charge_t2.endclass.cost', 'rep0_range_19.power_no_charge_t2.endclass.prob', 'rep0_range_19.power_no_charge_t2.endclass.expected_cost', 'rep0_range_19.power_no_charge_t2.endclass.in_bound', 'rep0_range_19.power_no_charge_t2.endclass.at_finish', 'rep0_range_19.power_no_charge_t2.endclass.line_dist', 'rep0_range_19.power_no_charge_t2.endclass.num_modes', 'rep0_range_19.power_no_charge_t2.endclass.end_dist', 'rep0_range_19.power_no_charge_t2.endclass.tot_deviation', 'rep0_range_19.power_no_charge_t2.endclass.faults', 'rep0_range_19.power_no_charge_t2.endclass.classification', 'rep0_range_19.power_no_charge_t2.endclass.end_x', 'rep0_range_19.power_no_charge_t2.endclass.end_y', 'rep0_range_19.power_no_charge_t2.endclass.endpt', 'rep0_range_19.power_short_t1.endclass.rate', 'rep0_range_19.power_short_t1.endclass.cost', 'rep0_range_19.power_short_t1.endclass.prob', 'rep0_range_19.power_short_t1.endclass.expected_cost', 'rep0_range_19.power_short_t1.endclass.in_bound', 'rep0_range_19.power_short_t1.endclass.at_finish', 'rep0_range_19.power_short_t1.endclass.line_dist', 'rep0_range_19.power_short_t1.endclass.num_modes', 'rep0_range_19.power_short_t1.endclass.end_dist', 'rep0_range_19.power_short_t1.endclass.tot_deviation', 'rep0_range_19.power_short_t1.endclass.faults', 'rep0_range_19.power_short_t1.endclass.classification', 'rep0_range_19.power_short_t1.endclass.end_x', 'rep0_range_19.power_short_t1.endclass.end_y', 'rep0_range_19.power_short_t1.endclass.endpt', 'rep0_range_19.power_short_t2.endclass.rate', 'rep0_range_19.power_short_t2.endclass.cost', 'rep0_range_19.power_short_t2.endclass.prob', 'rep0_range_19.power_short_t2.endclass.expected_cost', 'rep0_range_19.power_short_t2.endclass.in_bound', 'rep0_range_19.power_short_t2.endclass.at_finish', 'rep0_range_19.power_short_t2.endclass.line_dist', 'rep0_range_19.power_short_t2.endclass.num_modes', 'rep0_range_19.power_short_t2.endclass.end_dist', 'rep0_range_19.power_short_t2.endclass.tot_deviation', 'rep0_range_19.power_short_t2.endclass.faults', 'rep0_range_19.power_short_t2.endclass.classification', 'rep0_range_19.power_short_t2.endclass.end_x', 'rep0_range_19.power_short_t2.endclass.end_y', 'rep0_range_19.power_short_t2.endclass.endpt', 'rep0_range_19.nominal.endclass.rate', 'rep0_range_19.nominal.endclass.cost', 'rep0_range_19.nominal.endclass.prob', 'rep0_range_19.nominal.endclass.expected_cost', 'rep0_range_19.nominal.endclass.in_bound', 'rep0_range_19.nominal.endclass.at_finish', 'rep0_range_19.nominal.endclass.line_dist', 'rep0_range_19.nominal.endclass.num_modes', 'rep0_range_19.nominal.endclass.end_dist', 'rep0_range_19.nominal.endclass.tot_deviation', 'rep0_range_19.nominal.endclass.faults', 'rep0_range_19.nominal.endclass.classification', 'rep0_range_19.nominal.endclass.end_x', 'rep0_range_19.nominal.endclass.end_y', 'rep0_range_19.nominal.endclass.endpt', 'rep0_range_20.power_no_charge_t1.endclass.rate', 'rep0_range_20.power_no_charge_t1.endclass.cost', 'rep0_range_20.power_no_charge_t1.endclass.prob', 'rep0_range_20.power_no_charge_t1.endclass.expected_cost', 'rep0_range_20.power_no_charge_t1.endclass.in_bound', 'rep0_range_20.power_no_charge_t1.endclass.at_finish', 'rep0_range_20.power_no_charge_t1.endclass.line_dist', 'rep0_range_20.power_no_charge_t1.endclass.num_modes', 'rep0_range_20.power_no_charge_t1.endclass.end_dist', 'rep0_range_20.power_no_charge_t1.endclass.tot_deviation', 'rep0_range_20.power_no_charge_t1.endclass.faults', 'rep0_range_20.power_no_charge_t1.endclass.classification', 'rep0_range_20.power_no_charge_t1.endclass.end_x', 'rep0_range_20.power_no_charge_t1.endclass.end_y', 'rep0_range_20.power_no_charge_t1.endclass.endpt', 'rep0_range_20.power_no_charge_t2.endclass.rate', 'rep0_range_20.power_no_charge_t2.endclass.cost', 'rep0_range_20.power_no_charge_t2.endclass.prob', 'rep0_range_20.power_no_charge_t2.endclass.expected_cost', 'rep0_range_20.power_no_charge_t2.endclass.in_bound', 'rep0_range_20.power_no_charge_t2.endclass.at_finish', 'rep0_range_20.power_no_charge_t2.endclass.line_dist', 'rep0_range_20.power_no_charge_t2.endclass.num_modes', 'rep0_range_20.power_no_charge_t2.endclass.end_dist', 'rep0_range_20.power_no_charge_t2.endclass.tot_deviation', 'rep0_range_20.power_no_charge_t2.endclass.faults', 'rep0_range_20.power_no_charge_t2.endclass.classification', 'rep0_range_20.power_no_charge_t2.endclass.end_x', 'rep0_range_20.power_no_charge_t2.endclass.end_y', 'rep0_range_20.power_no_charge_t2.endclass.endpt', 'rep0_range_20.power_short_t1.endclass.rate', 'rep0_range_20.power_short_t1.endclass.cost', 'rep0_range_20.power_short_t1.endclass.prob', 'rep0_range_20.power_short_t1.endclass.expected_cost', 'rep0_range_20.power_short_t1.endclass.in_bound', 'rep0_range_20.power_short_t1.endclass.at_finish', 'rep0_range_20.power_short_t1.endclass.line_dist', 'rep0_range_20.power_short_t1.endclass.num_modes', 'rep0_range_20.power_short_t1.endclass.end_dist', 'rep0_range_20.power_short_t1.endclass.tot_deviation', 'rep0_range_20.power_short_t1.endclass.faults', 'rep0_range_20.power_short_t1.endclass.classification', 'rep0_range_20.power_short_t1.endclass.end_x', 'rep0_range_20.power_short_t1.endclass.end_y', 'rep0_range_20.power_short_t1.endclass.endpt', 'rep0_range_20.power_short_t2.endclass.rate', 'rep0_range_20.power_short_t2.endclass.cost', 'rep0_range_20.power_short_t2.endclass.prob', 'rep0_range_20.power_short_t2.endclass.expected_cost', 'rep0_range_20.power_short_t2.endclass.in_bound', 'rep0_range_20.power_short_t2.endclass.at_finish', 'rep0_range_20.power_short_t2.endclass.line_dist', 'rep0_range_20.power_short_t2.endclass.num_modes', 'rep0_range_20.power_short_t2.endclass.end_dist', 'rep0_range_20.power_short_t2.endclass.tot_deviation', 'rep0_range_20.power_short_t2.endclass.faults', 'rep0_range_20.power_short_t2.endclass.classification', 'rep0_range_20.power_short_t2.endclass.end_x', 'rep0_range_20.power_short_t2.endclass.end_y', 'rep0_range_20.power_short_t2.endclass.endpt', 'rep0_range_20.nominal.endclass.rate', 'rep0_range_20.nominal.endclass.cost', 'rep0_range_20.nominal.endclass.prob', 'rep0_range_20.nominal.endclass.expected_cost', 'rep0_range_20.nominal.endclass.in_bound', 'rep0_range_20.nominal.endclass.at_finish', 'rep0_range_20.nominal.endclass.line_dist', 'rep0_range_20.nominal.endclass.num_modes', 'rep0_range_20.nominal.endclass.end_dist', 'rep0_range_20.nominal.endclass.tot_deviation', 'rep0_range_20.nominal.endclass.faults', 'rep0_range_20.nominal.endclass.classification', 'rep0_range_20.nominal.endclass.end_x', 'rep0_range_20.nominal.endclass.end_y', 'rep0_range_20.nominal.endclass.endpt', 'rep0_range_21.power_no_charge_t1.endclass.rate', 'rep0_range_21.power_no_charge_t1.endclass.cost', 'rep0_range_21.power_no_charge_t1.endclass.prob', 'rep0_range_21.power_no_charge_t1.endclass.expected_cost', 'rep0_range_21.power_no_charge_t1.endclass.in_bound', 'rep0_range_21.power_no_charge_t1.endclass.at_finish', 'rep0_range_21.power_no_charge_t1.endclass.line_dist', 'rep0_range_21.power_no_charge_t1.endclass.num_modes', 'rep0_range_21.power_no_charge_t1.endclass.end_dist', 'rep0_range_21.power_no_charge_t1.endclass.tot_deviation', 'rep0_range_21.power_no_charge_t1.endclass.faults', 'rep0_range_21.power_no_charge_t1.endclass.classification', 'rep0_range_21.power_no_charge_t1.endclass.end_x', 'rep0_range_21.power_no_charge_t1.endclass.end_y', 'rep0_range_21.power_no_charge_t1.endclass.endpt', 'rep0_range_21.power_no_charge_t2.endclass.rate', 'rep0_range_21.power_no_charge_t2.endclass.cost', 'rep0_range_21.power_no_charge_t2.endclass.prob', 'rep0_range_21.power_no_charge_t2.endclass.expected_cost', 'rep0_range_21.power_no_charge_t2.endclass.in_bound', 'rep0_range_21.power_no_charge_t2.endclass.at_finish', 'rep0_range_21.power_no_charge_t2.endclass.line_dist', 'rep0_range_21.power_no_charge_t2.endclass.num_modes', 'rep0_range_21.power_no_charge_t2.endclass.end_dist', 'rep0_range_21.power_no_charge_t2.endclass.tot_deviation', 'rep0_range_21.power_no_charge_t2.endclass.faults', 'rep0_range_21.power_no_charge_t2.endclass.classification', 'rep0_range_21.power_no_charge_t2.endclass.end_x', 'rep0_range_21.power_no_charge_t2.endclass.end_y', 'rep0_range_21.power_no_charge_t2.endclass.endpt', 'rep0_range_21.power_short_t1.endclass.rate', 'rep0_range_21.power_short_t1.endclass.cost', 'rep0_range_21.power_short_t1.endclass.prob', 'rep0_range_21.power_short_t1.endclass.expected_cost', 'rep0_range_21.power_short_t1.endclass.in_bound', 'rep0_range_21.power_short_t1.endclass.at_finish', 'rep0_range_21.power_short_t1.endclass.line_dist', 'rep0_range_21.power_short_t1.endclass.num_modes', 'rep0_range_21.power_short_t1.endclass.end_dist', 'rep0_range_21.power_short_t1.endclass.tot_deviation', 'rep0_range_21.power_short_t1.endclass.faults', 'rep0_range_21.power_short_t1.endclass.classification', 'rep0_range_21.power_short_t1.endclass.end_x', 'rep0_range_21.power_short_t1.endclass.end_y', 'rep0_range_21.power_short_t1.endclass.endpt', 'rep0_range_21.power_short_t2.endclass.rate', 'rep0_range_21.power_short_t2.endclass.cost', 'rep0_range_21.power_short_t2.endclass.prob', 'rep0_range_21.power_short_t2.endclass.expected_cost', 'rep0_range_21.power_short_t2.endclass.in_bound', 'rep0_range_21.power_short_t2.endclass.at_finish', 'rep0_range_21.power_short_t2.endclass.line_dist', 'rep0_range_21.power_short_t2.endclass.num_modes', 'rep0_range_21.power_short_t2.endclass.end_dist', 'rep0_range_21.power_short_t2.endclass.tot_deviation', 'rep0_range_21.power_short_t2.endclass.faults', 'rep0_range_21.power_short_t2.endclass.classification', 'rep0_range_21.power_short_t2.endclass.end_x', 'rep0_range_21.power_short_t2.endclass.end_y', 'rep0_range_21.power_short_t2.endclass.endpt', 'rep0_range_21.nominal.endclass.rate', 'rep0_range_21.nominal.endclass.cost', 'rep0_range_21.nominal.endclass.prob', 'rep0_range_21.nominal.endclass.expected_cost', 'rep0_range_21.nominal.endclass.in_bound', 'rep0_range_21.nominal.endclass.at_finish', 'rep0_range_21.nominal.endclass.line_dist', 'rep0_range_21.nominal.endclass.num_modes', 'rep0_range_21.nominal.endclass.end_dist', 'rep0_range_21.nominal.endclass.tot_deviation', 'rep0_range_21.nominal.endclass.faults', 'rep0_range_21.nominal.endclass.classification', 'rep0_range_21.nominal.endclass.end_x', 'rep0_range_21.nominal.endclass.end_y', 'rep0_range_21.nominal.endclass.endpt', 'rep0_range_22.power_no_charge_t1.endclass.rate', 'rep0_range_22.power_no_charge_t1.endclass.cost', 'rep0_range_22.power_no_charge_t1.endclass.prob', 'rep0_range_22.power_no_charge_t1.endclass.expected_cost', 'rep0_range_22.power_no_charge_t1.endclass.in_bound', 'rep0_range_22.power_no_charge_t1.endclass.at_finish', 'rep0_range_22.power_no_charge_t1.endclass.line_dist', 'rep0_range_22.power_no_charge_t1.endclass.num_modes', 'rep0_range_22.power_no_charge_t1.endclass.end_dist', 'rep0_range_22.power_no_charge_t1.endclass.tot_deviation', 'rep0_range_22.power_no_charge_t1.endclass.faults', 'rep0_range_22.power_no_charge_t1.endclass.classification', 'rep0_range_22.power_no_charge_t1.endclass.end_x', 'rep0_range_22.power_no_charge_t1.endclass.end_y', 'rep0_range_22.power_no_charge_t1.endclass.endpt', 'rep0_range_22.power_no_charge_t2.endclass.rate', 'rep0_range_22.power_no_charge_t2.endclass.cost', 'rep0_range_22.power_no_charge_t2.endclass.prob', 'rep0_range_22.power_no_charge_t2.endclass.expected_cost', 'rep0_range_22.power_no_charge_t2.endclass.in_bound', 'rep0_range_22.power_no_charge_t2.endclass.at_finish', 'rep0_range_22.power_no_charge_t2.endclass.line_dist', 'rep0_range_22.power_no_charge_t2.endclass.num_modes', 'rep0_range_22.power_no_charge_t2.endclass.end_dist', 'rep0_range_22.power_no_charge_t2.endclass.tot_deviation', 'rep0_range_22.power_no_charge_t2.endclass.faults', 'rep0_range_22.power_no_charge_t2.endclass.classification', 'rep0_range_22.power_no_charge_t2.endclass.end_x', 'rep0_range_22.power_no_charge_t2.endclass.end_y', 'rep0_range_22.power_no_charge_t2.endclass.endpt', 'rep0_range_22.power_short_t1.endclass.rate', 'rep0_range_22.power_short_t1.endclass.cost', 'rep0_range_22.power_short_t1.endclass.prob', 'rep0_range_22.power_short_t1.endclass.expected_cost', 'rep0_range_22.power_short_t1.endclass.in_bound', 'rep0_range_22.power_short_t1.endclass.at_finish', 'rep0_range_22.power_short_t1.endclass.line_dist', 'rep0_range_22.power_short_t1.endclass.num_modes', 'rep0_range_22.power_short_t1.endclass.end_dist', 'rep0_range_22.power_short_t1.endclass.tot_deviation', 'rep0_range_22.power_short_t1.endclass.faults', 'rep0_range_22.power_short_t1.endclass.classification', 'rep0_range_22.power_short_t1.endclass.end_x', 'rep0_range_22.power_short_t1.endclass.end_y', 'rep0_range_22.power_short_t1.endclass.endpt', 'rep0_range_22.power_short_t2.endclass.rate', 'rep0_range_22.power_short_t2.endclass.cost', 'rep0_range_22.power_short_t2.endclass.prob', 'rep0_range_22.power_short_t2.endclass.expected_cost', 'rep0_range_22.power_short_t2.endclass.in_bound', 'rep0_range_22.power_short_t2.endclass.at_finish', 'rep0_range_22.power_short_t2.endclass.line_dist', 'rep0_range_22.power_short_t2.endclass.num_modes', 'rep0_range_22.power_short_t2.endclass.end_dist', 'rep0_range_22.power_short_t2.endclass.tot_deviation', 'rep0_range_22.power_short_t2.endclass.faults', 'rep0_range_22.power_short_t2.endclass.classification', 'rep0_range_22.power_short_t2.endclass.end_x', 'rep0_range_22.power_short_t2.endclass.end_y', 'rep0_range_22.power_short_t2.endclass.endpt', 'rep0_range_22.nominal.endclass.rate', 'rep0_range_22.nominal.endclass.cost', 'rep0_range_22.nominal.endclass.prob', 'rep0_range_22.nominal.endclass.expected_cost', 'rep0_range_22.nominal.endclass.in_bound', 'rep0_range_22.nominal.endclass.at_finish', 'rep0_range_22.nominal.endclass.line_dist', 'rep0_range_22.nominal.endclass.num_modes', 'rep0_range_22.nominal.endclass.end_dist', 'rep0_range_22.nominal.endclass.tot_deviation', 'rep0_range_22.nominal.endclass.faults', 'rep0_range_22.nominal.endclass.classification', 'rep0_range_22.nominal.endclass.end_x', 'rep0_range_22.nominal.endclass.end_y', 'rep0_range_22.nominal.endclass.endpt', 'rep0_range_23.power_no_charge_t1.endclass.rate', 'rep0_range_23.power_no_charge_t1.endclass.cost', 'rep0_range_23.power_no_charge_t1.endclass.prob', 'rep0_range_23.power_no_charge_t1.endclass.expected_cost', 'rep0_range_23.power_no_charge_t1.endclass.in_bound', 'rep0_range_23.power_no_charge_t1.endclass.at_finish', 'rep0_range_23.power_no_charge_t1.endclass.line_dist', 'rep0_range_23.power_no_charge_t1.endclass.num_modes', 'rep0_range_23.power_no_charge_t1.endclass.end_dist', 'rep0_range_23.power_no_charge_t1.endclass.tot_deviation', 'rep0_range_23.power_no_charge_t1.endclass.faults', 'rep0_range_23.power_no_charge_t1.endclass.classification', 'rep0_range_23.power_no_charge_t1.endclass.end_x', 'rep0_range_23.power_no_charge_t1.endclass.end_y', 'rep0_range_23.power_no_charge_t1.endclass.endpt', 'rep0_range_23.power_no_charge_t2.endclass.rate', 'rep0_range_23.power_no_charge_t2.endclass.cost', 'rep0_range_23.power_no_charge_t2.endclass.prob', 'rep0_range_23.power_no_charge_t2.endclass.expected_cost', 'rep0_range_23.power_no_charge_t2.endclass.in_bound', 'rep0_range_23.power_no_charge_t2.endclass.at_finish', 'rep0_range_23.power_no_charge_t2.endclass.line_dist', 'rep0_range_23.power_no_charge_t2.endclass.num_modes', 'rep0_range_23.power_no_charge_t2.endclass.end_dist', 'rep0_range_23.power_no_charge_t2.endclass.tot_deviation', 'rep0_range_23.power_no_charge_t2.endclass.faults', 'rep0_range_23.power_no_charge_t2.endclass.classification', 'rep0_range_23.power_no_charge_t2.endclass.end_x', 'rep0_range_23.power_no_charge_t2.endclass.end_y', 'rep0_range_23.power_no_charge_t2.endclass.endpt', 'rep0_range_23.power_short_t1.endclass.rate', 'rep0_range_23.power_short_t1.endclass.cost', 'rep0_range_23.power_short_t1.endclass.prob', 'rep0_range_23.power_short_t1.endclass.expected_cost', 'rep0_range_23.power_short_t1.endclass.in_bound', 'rep0_range_23.power_short_t1.endclass.at_finish', 'rep0_range_23.power_short_t1.endclass.line_dist', 'rep0_range_23.power_short_t1.endclass.num_modes', 'rep0_range_23.power_short_t1.endclass.end_dist', 'rep0_range_23.power_short_t1.endclass.tot_deviation', 'rep0_range_23.power_short_t1.endclass.faults', 'rep0_range_23.power_short_t1.endclass.classification', 'rep0_range_23.power_short_t1.endclass.end_x', 'rep0_range_23.power_short_t1.endclass.end_y', 'rep0_range_23.power_short_t1.endclass.endpt', 'rep0_range_23.power_short_t2.endclass.rate', 'rep0_range_23.power_short_t2.endclass.cost', 'rep0_range_23.power_short_t2.endclass.prob', 'rep0_range_23.power_short_t2.endclass.expected_cost', 'rep0_range_23.power_short_t2.endclass.in_bound', 'rep0_range_23.power_short_t2.endclass.at_finish', 'rep0_range_23.power_short_t2.endclass.line_dist', 'rep0_range_23.power_short_t2.endclass.num_modes', 'rep0_range_23.power_short_t2.endclass.end_dist', 'rep0_range_23.power_short_t2.endclass.tot_deviation', 'rep0_range_23.power_short_t2.endclass.faults', 'rep0_range_23.power_short_t2.endclass.classification', 'rep0_range_23.power_short_t2.endclass.end_x', 'rep0_range_23.power_short_t2.endclass.end_y', 'rep0_range_23.power_short_t2.endclass.endpt', 'rep0_range_23.nominal.endclass.rate', 'rep0_range_23.nominal.endclass.cost', 'rep0_range_23.nominal.endclass.prob', 'rep0_range_23.nominal.endclass.expected_cost', 'rep0_range_23.nominal.endclass.in_bound', 'rep0_range_23.nominal.endclass.at_finish', 'rep0_range_23.nominal.endclass.line_dist', 'rep0_range_23.nominal.endclass.num_modes', 'rep0_range_23.nominal.endclass.end_dist', 'rep0_range_23.nominal.endclass.tot_deviation', 'rep0_range_23.nominal.endclass.faults', 'rep0_range_23.nominal.endclass.classification', 'rep0_range_23.nominal.endclass.end_x', 'rep0_range_23.nominal.endclass.end_y', 'rep0_range_23.nominal.endclass.endpt', 'rep0_range_24.power_no_charge_t1.endclass.rate', 'rep0_range_24.power_no_charge_t1.endclass.cost', 'rep0_range_24.power_no_charge_t1.endclass.prob', 'rep0_range_24.power_no_charge_t1.endclass.expected_cost', 'rep0_range_24.power_no_charge_t1.endclass.in_bound', 'rep0_range_24.power_no_charge_t1.endclass.at_finish', 'rep0_range_24.power_no_charge_t1.endclass.line_dist', 'rep0_range_24.power_no_charge_t1.endclass.num_modes', 'rep0_range_24.power_no_charge_t1.endclass.end_dist', 'rep0_range_24.power_no_charge_t1.endclass.tot_deviation', 'rep0_range_24.power_no_charge_t1.endclass.faults', 'rep0_range_24.power_no_charge_t1.endclass.classification', 'rep0_range_24.power_no_charge_t1.endclass.end_x', 'rep0_range_24.power_no_charge_t1.endclass.end_y', 'rep0_range_24.power_no_charge_t1.endclass.endpt', 'rep0_range_24.power_no_charge_t2.endclass.rate', 'rep0_range_24.power_no_charge_t2.endclass.cost', 'rep0_range_24.power_no_charge_t2.endclass.prob', 'rep0_range_24.power_no_charge_t2.endclass.expected_cost', 'rep0_range_24.power_no_charge_t2.endclass.in_bound', 'rep0_range_24.power_no_charge_t2.endclass.at_finish', 'rep0_range_24.power_no_charge_t2.endclass.line_dist', 'rep0_range_24.power_no_charge_t2.endclass.num_modes', 'rep0_range_24.power_no_charge_t2.endclass.end_dist', 'rep0_range_24.power_no_charge_t2.endclass.tot_deviation', 'rep0_range_24.power_no_charge_t2.endclass.faults', 'rep0_range_24.power_no_charge_t2.endclass.classification', 'rep0_range_24.power_no_charge_t2.endclass.end_x', 'rep0_range_24.power_no_charge_t2.endclass.end_y', 'rep0_range_24.power_no_charge_t2.endclass.endpt', 'rep0_range_24.power_short_t1.endclass.rate', 'rep0_range_24.power_short_t1.endclass.cost', 'rep0_range_24.power_short_t1.endclass.prob', 'rep0_range_24.power_short_t1.endclass.expected_cost', 'rep0_range_24.power_short_t1.endclass.in_bound', 'rep0_range_24.power_short_t1.endclass.at_finish', 'rep0_range_24.power_short_t1.endclass.line_dist', 'rep0_range_24.power_short_t1.endclass.num_modes', 'rep0_range_24.power_short_t1.endclass.end_dist', 'rep0_range_24.power_short_t1.endclass.tot_deviation', 'rep0_range_24.power_short_t1.endclass.faults', 'rep0_range_24.power_short_t1.endclass.classification', 'rep0_range_24.power_short_t1.endclass.end_x', 'rep0_range_24.power_short_t1.endclass.end_y', 'rep0_range_24.power_short_t1.endclass.endpt', 'rep0_range_24.power_short_t2.endclass.rate', 'rep0_range_24.power_short_t2.endclass.cost', 'rep0_range_24.power_short_t2.endclass.prob', 'rep0_range_24.power_short_t2.endclass.expected_cost', 'rep0_range_24.power_short_t2.endclass.in_bound', 'rep0_range_24.power_short_t2.endclass.at_finish', 'rep0_range_24.power_short_t2.endclass.line_dist', 'rep0_range_24.power_short_t2.endclass.num_modes', 'rep0_range_24.power_short_t2.endclass.end_dist', 'rep0_range_24.power_short_t2.endclass.tot_deviation', 'rep0_range_24.power_short_t2.endclass.faults', 'rep0_range_24.power_short_t2.endclass.classification', 'rep0_range_24.power_short_t2.endclass.end_x', 'rep0_range_24.power_short_t2.endclass.end_y', 'rep0_range_24.power_short_t2.endclass.endpt', 'rep0_range_24.nominal.endclass.rate', 'rep0_range_24.nominal.endclass.cost', 'rep0_range_24.nominal.endclass.prob', 'rep0_range_24.nominal.endclass.expected_cost', 'rep0_range_24.nominal.endclass.in_bound', 'rep0_range_24.nominal.endclass.at_finish', 'rep0_range_24.nominal.endclass.line_dist', 'rep0_range_24.nominal.endclass.num_modes', 'rep0_range_24.nominal.endclass.end_dist', 'rep0_range_24.nominal.endclass.tot_deviation', 'rep0_range_24.nominal.endclass.faults', 'rep0_range_24.nominal.endclass.classification', 'rep0_range_24.nominal.endclass.end_x', 'rep0_range_24.nominal.endclass.end_y', 'rep0_range_24.nominal.endclass.endpt', 'rep0_range_25.power_no_charge_t1.endclass.rate', 'rep0_range_25.power_no_charge_t1.endclass.cost', 'rep0_range_25.power_no_charge_t1.endclass.prob', 'rep0_range_25.power_no_charge_t1.endclass.expected_cost', 'rep0_range_25.power_no_charge_t1.endclass.in_bound', 'rep0_range_25.power_no_charge_t1.endclass.at_finish', 'rep0_range_25.power_no_charge_t1.endclass.line_dist', 'rep0_range_25.power_no_charge_t1.endclass.num_modes', 'rep0_range_25.power_no_charge_t1.endclass.end_dist', 'rep0_range_25.power_no_charge_t1.endclass.tot_deviation', 'rep0_range_25.power_no_charge_t1.endclass.faults', 'rep0_range_25.power_no_charge_t1.endclass.classification', 'rep0_range_25.power_no_charge_t1.endclass.end_x', 'rep0_range_25.power_no_charge_t1.endclass.end_y', 'rep0_range_25.power_no_charge_t1.endclass.endpt', 'rep0_range_25.power_no_charge_t2.endclass.rate', 'rep0_range_25.power_no_charge_t2.endclass.cost', 'rep0_range_25.power_no_charge_t2.endclass.prob', 'rep0_range_25.power_no_charge_t2.endclass.expected_cost', 'rep0_range_25.power_no_charge_t2.endclass.in_bound', 'rep0_range_25.power_no_charge_t2.endclass.at_finish', 'rep0_range_25.power_no_charge_t2.endclass.line_dist', 'rep0_range_25.power_no_charge_t2.endclass.num_modes', 'rep0_range_25.power_no_charge_t2.endclass.end_dist', 'rep0_range_25.power_no_charge_t2.endclass.tot_deviation', 'rep0_range_25.power_no_charge_t2.endclass.faults', 'rep0_range_25.power_no_charge_t2.endclass.classification', 'rep0_range_25.power_no_charge_t2.endclass.end_x', 'rep0_range_25.power_no_charge_t2.endclass.end_y', 'rep0_range_25.power_no_charge_t2.endclass.endpt', 'rep0_range_25.power_short_t1.endclass.rate', 'rep0_range_25.power_short_t1.endclass.cost', 'rep0_range_25.power_short_t1.endclass.prob', 'rep0_range_25.power_short_t1.endclass.expected_cost', 'rep0_range_25.power_short_t1.endclass.in_bound', 'rep0_range_25.power_short_t1.endclass.at_finish', 'rep0_range_25.power_short_t1.endclass.line_dist', 'rep0_range_25.power_short_t1.endclass.num_modes', 'rep0_range_25.power_short_t1.endclass.end_dist', 'rep0_range_25.power_short_t1.endclass.tot_deviation', 'rep0_range_25.power_short_t1.endclass.faults', 'rep0_range_25.power_short_t1.endclass.classification', 'rep0_range_25.power_short_t1.endclass.end_x', 'rep0_range_25.power_short_t1.endclass.end_y', 'rep0_range_25.power_short_t1.endclass.endpt', 'rep0_range_25.power_short_t2.endclass.rate', 'rep0_range_25.power_short_t2.endclass.cost', 'rep0_range_25.power_short_t2.endclass.prob', 'rep0_range_25.power_short_t2.endclass.expected_cost', 'rep0_range_25.power_short_t2.endclass.in_bound', 'rep0_range_25.power_short_t2.endclass.at_finish', 'rep0_range_25.power_short_t2.endclass.line_dist', 'rep0_range_25.power_short_t2.endclass.num_modes', 'rep0_range_25.power_short_t2.endclass.end_dist', 'rep0_range_25.power_short_t2.endclass.tot_deviation', 'rep0_range_25.power_short_t2.endclass.faults', 'rep0_range_25.power_short_t2.endclass.classification', 'rep0_range_25.power_short_t2.endclass.end_x', 'rep0_range_25.power_short_t2.endclass.end_y', 'rep0_range_25.power_short_t2.endclass.endpt', 'rep0_range_25.nominal.endclass.rate', 'rep0_range_25.nominal.endclass.cost', 'rep0_range_25.nominal.endclass.prob', 'rep0_range_25.nominal.endclass.expected_cost', 'rep0_range_25.nominal.endclass.in_bound', 'rep0_range_25.nominal.endclass.at_finish', 'rep0_range_25.nominal.endclass.line_dist', 'rep0_range_25.nominal.endclass.num_modes', 'rep0_range_25.nominal.endclass.end_dist', 'rep0_range_25.nominal.endclass.tot_deviation', 'rep0_range_25.nominal.endclass.faults', 'rep0_range_25.nominal.endclass.classification', 'rep0_range_25.nominal.endclass.end_x', 'rep0_range_25.nominal.endclass.end_y', 'rep0_range_25.nominal.endclass.endpt', 'rep0_range_26.power_no_charge_t1.endclass.rate', 'rep0_range_26.power_no_charge_t1.endclass.cost', 'rep0_range_26.power_no_charge_t1.endclass.prob', 'rep0_range_26.power_no_charge_t1.endclass.expected_cost', 'rep0_range_26.power_no_charge_t1.endclass.in_bound', 'rep0_range_26.power_no_charge_t1.endclass.at_finish', 'rep0_range_26.power_no_charge_t1.endclass.line_dist', 'rep0_range_26.power_no_charge_t1.endclass.num_modes', 'rep0_range_26.power_no_charge_t1.endclass.end_dist', 'rep0_range_26.power_no_charge_t1.endclass.tot_deviation', 'rep0_range_26.power_no_charge_t1.endclass.faults', 'rep0_range_26.power_no_charge_t1.endclass.classification', 'rep0_range_26.power_no_charge_t1.endclass.end_x', 'rep0_range_26.power_no_charge_t1.endclass.end_y', 'rep0_range_26.power_no_charge_t1.endclass.endpt', 'rep0_range_26.power_no_charge_t2.endclass.rate', 'rep0_range_26.power_no_charge_t2.endclass.cost', 'rep0_range_26.power_no_charge_t2.endclass.prob', 'rep0_range_26.power_no_charge_t2.endclass.expected_cost', 'rep0_range_26.power_no_charge_t2.endclass.in_bound', 'rep0_range_26.power_no_charge_t2.endclass.at_finish', 'rep0_range_26.power_no_charge_t2.endclass.line_dist', 'rep0_range_26.power_no_charge_t2.endclass.num_modes', 'rep0_range_26.power_no_charge_t2.endclass.end_dist', 'rep0_range_26.power_no_charge_t2.endclass.tot_deviation', 'rep0_range_26.power_no_charge_t2.endclass.faults', 'rep0_range_26.power_no_charge_t2.endclass.classification', 'rep0_range_26.power_no_charge_t2.endclass.end_x', 'rep0_range_26.power_no_charge_t2.endclass.end_y', 'rep0_range_26.power_no_charge_t2.endclass.endpt', 'rep0_range_26.power_short_t1.endclass.rate', 'rep0_range_26.power_short_t1.endclass.cost', 'rep0_range_26.power_short_t1.endclass.prob', 'rep0_range_26.power_short_t1.endclass.expected_cost', 'rep0_range_26.power_short_t1.endclass.in_bound', 'rep0_range_26.power_short_t1.endclass.at_finish', 'rep0_range_26.power_short_t1.endclass.line_dist', 'rep0_range_26.power_short_t1.endclass.num_modes', 'rep0_range_26.power_short_t1.endclass.end_dist', 'rep0_range_26.power_short_t1.endclass.tot_deviation', 'rep0_range_26.power_short_t1.endclass.faults', 'rep0_range_26.power_short_t1.endclass.classification', 'rep0_range_26.power_short_t1.endclass.end_x', 'rep0_range_26.power_short_t1.endclass.end_y', 'rep0_range_26.power_short_t1.endclass.endpt', 'rep0_range_26.power_short_t2.endclass.rate', 'rep0_range_26.power_short_t2.endclass.cost', 'rep0_range_26.power_short_t2.endclass.prob', 'rep0_range_26.power_short_t2.endclass.expected_cost', 'rep0_range_26.power_short_t2.endclass.in_bound', 'rep0_range_26.power_short_t2.endclass.at_finish', 'rep0_range_26.power_short_t2.endclass.line_dist', 'rep0_range_26.power_short_t2.endclass.num_modes', 'rep0_range_26.power_short_t2.endclass.end_dist', 'rep0_range_26.power_short_t2.endclass.tot_deviation', 'rep0_range_26.power_short_t2.endclass.faults', 'rep0_range_26.power_short_t2.endclass.classification', 'rep0_range_26.power_short_t2.endclass.end_x', 'rep0_range_26.power_short_t2.endclass.end_y', 'rep0_range_26.power_short_t2.endclass.endpt', 'rep0_range_26.nominal.endclass.rate', 'rep0_range_26.nominal.endclass.cost', 'rep0_range_26.nominal.endclass.prob', 'rep0_range_26.nominal.endclass.expected_cost', 'rep0_range_26.nominal.endclass.in_bound', 'rep0_range_26.nominal.endclass.at_finish', 'rep0_range_26.nominal.endclass.line_dist', 'rep0_range_26.nominal.endclass.num_modes', 'rep0_range_26.nominal.endclass.end_dist', 'rep0_range_26.nominal.endclass.tot_deviation', 'rep0_range_26.nominal.endclass.faults', 'rep0_range_26.nominal.endclass.classification', 'rep0_range_26.nominal.endclass.end_x', 'rep0_range_26.nominal.endclass.end_y', 'rep0_range_26.nominal.endclass.endpt', 'rep0_range_27.power_no_charge_t1.endclass.rate', 'rep0_range_27.power_no_charge_t1.endclass.cost', 'rep0_range_27.power_no_charge_t1.endclass.prob', 'rep0_range_27.power_no_charge_t1.endclass.expected_cost', 'rep0_range_27.power_no_charge_t1.endclass.in_bound', 'rep0_range_27.power_no_charge_t1.endclass.at_finish', 'rep0_range_27.power_no_charge_t1.endclass.line_dist', 'rep0_range_27.power_no_charge_t1.endclass.num_modes', 'rep0_range_27.power_no_charge_t1.endclass.end_dist', 'rep0_range_27.power_no_charge_t1.endclass.tot_deviation', 'rep0_range_27.power_no_charge_t1.endclass.faults', 'rep0_range_27.power_no_charge_t1.endclass.classification', 'rep0_range_27.power_no_charge_t1.endclass.end_x', 'rep0_range_27.power_no_charge_t1.endclass.end_y', 'rep0_range_27.power_no_charge_t1.endclass.endpt', 'rep0_range_27.power_no_charge_t2.endclass.rate', 'rep0_range_27.power_no_charge_t2.endclass.cost', 'rep0_range_27.power_no_charge_t2.endclass.prob', 'rep0_range_27.power_no_charge_t2.endclass.expected_cost', 'rep0_range_27.power_no_charge_t2.endclass.in_bound', 'rep0_range_27.power_no_charge_t2.endclass.at_finish', 'rep0_range_27.power_no_charge_t2.endclass.line_dist', 'rep0_range_27.power_no_charge_t2.endclass.num_modes', 'rep0_range_27.power_no_charge_t2.endclass.end_dist', 'rep0_range_27.power_no_charge_t2.endclass.tot_deviation', 'rep0_range_27.power_no_charge_t2.endclass.faults', 'rep0_range_27.power_no_charge_t2.endclass.classification', 'rep0_range_27.power_no_charge_t2.endclass.end_x', 'rep0_range_27.power_no_charge_t2.endclass.end_y', 'rep0_range_27.power_no_charge_t2.endclass.endpt', 'rep0_range_27.power_short_t1.endclass.rate', 'rep0_range_27.power_short_t1.endclass.cost', 'rep0_range_27.power_short_t1.endclass.prob', 'rep0_range_27.power_short_t1.endclass.expected_cost', 'rep0_range_27.power_short_t1.endclass.in_bound', 'rep0_range_27.power_short_t1.endclass.at_finish', 'rep0_range_27.power_short_t1.endclass.line_dist', 'rep0_range_27.power_short_t1.endclass.num_modes', 'rep0_range_27.power_short_t1.endclass.end_dist', 'rep0_range_27.power_short_t1.endclass.tot_deviation', 'rep0_range_27.power_short_t1.endclass.faults', 'rep0_range_27.power_short_t1.endclass.classification', 'rep0_range_27.power_short_t1.endclass.end_x', 'rep0_range_27.power_short_t1.endclass.end_y', 'rep0_range_27.power_short_t1.endclass.endpt', 'rep0_range_27.power_short_t2.endclass.rate', 'rep0_range_27.power_short_t2.endclass.cost', 'rep0_range_27.power_short_t2.endclass.prob', 'rep0_range_27.power_short_t2.endclass.expected_cost', 'rep0_range_27.power_short_t2.endclass.in_bound', 'rep0_range_27.power_short_t2.endclass.at_finish', 'rep0_range_27.power_short_t2.endclass.line_dist', 'rep0_range_27.power_short_t2.endclass.num_modes', 'rep0_range_27.power_short_t2.endclass.end_dist', 'rep0_range_27.power_short_t2.endclass.tot_deviation', 'rep0_range_27.power_short_t2.endclass.faults', 'rep0_range_27.power_short_t2.endclass.classification', 'rep0_range_27.power_short_t2.endclass.end_x', 'rep0_range_27.power_short_t2.endclass.end_y', 'rep0_range_27.power_short_t2.endclass.endpt', 'rep0_range_27.nominal.endclass.rate', 'rep0_range_27.nominal.endclass.cost', 'rep0_range_27.nominal.endclass.prob', 'rep0_range_27.nominal.endclass.expected_cost', 'rep0_range_27.nominal.endclass.in_bound', 'rep0_range_27.nominal.endclass.at_finish', 'rep0_range_27.nominal.endclass.line_dist', 'rep0_range_27.nominal.endclass.num_modes', 'rep0_range_27.nominal.endclass.end_dist', 'rep0_range_27.nominal.endclass.tot_deviation', 'rep0_range_27.nominal.endclass.faults', 'rep0_range_27.nominal.endclass.classification', 'rep0_range_27.nominal.endclass.end_x', 'rep0_range_27.nominal.endclass.end_y', 'rep0_range_27.nominal.endclass.endpt', 'rep0_range_28.power_no_charge_t1.endclass.rate', 'rep0_range_28.power_no_charge_t1.endclass.cost', 'rep0_range_28.power_no_charge_t1.endclass.prob', 'rep0_range_28.power_no_charge_t1.endclass.expected_cost', 'rep0_range_28.power_no_charge_t1.endclass.in_bound', 'rep0_range_28.power_no_charge_t1.endclass.at_finish', 'rep0_range_28.power_no_charge_t1.endclass.line_dist', 'rep0_range_28.power_no_charge_t1.endclass.num_modes', 'rep0_range_28.power_no_charge_t1.endclass.end_dist', 'rep0_range_28.power_no_charge_t1.endclass.tot_deviation', 'rep0_range_28.power_no_charge_t1.endclass.faults', 'rep0_range_28.power_no_charge_t1.endclass.classification', 'rep0_range_28.power_no_charge_t1.endclass.end_x', 'rep0_range_28.power_no_charge_t1.endclass.end_y', 'rep0_range_28.power_no_charge_t1.endclass.endpt', 'rep0_range_28.power_no_charge_t2.endclass.rate', 'rep0_range_28.power_no_charge_t2.endclass.cost', 'rep0_range_28.power_no_charge_t2.endclass.prob', 'rep0_range_28.power_no_charge_t2.endclass.expected_cost', 'rep0_range_28.power_no_charge_t2.endclass.in_bound', 'rep0_range_28.power_no_charge_t2.endclass.at_finish', 'rep0_range_28.power_no_charge_t2.endclass.line_dist', 'rep0_range_28.power_no_charge_t2.endclass.num_modes', 'rep0_range_28.power_no_charge_t2.endclass.end_dist', 'rep0_range_28.power_no_charge_t2.endclass.tot_deviation', 'rep0_range_28.power_no_charge_t2.endclass.faults', 'rep0_range_28.power_no_charge_t2.endclass.classification', 'rep0_range_28.power_no_charge_t2.endclass.end_x', 'rep0_range_28.power_no_charge_t2.endclass.end_y', 'rep0_range_28.power_no_charge_t2.endclass.endpt', 'rep0_range_28.power_short_t1.endclass.rate', 'rep0_range_28.power_short_t1.endclass.cost', 'rep0_range_28.power_short_t1.endclass.prob', 'rep0_range_28.power_short_t1.endclass.expected_cost', 'rep0_range_28.power_short_t1.endclass.in_bound', 'rep0_range_28.power_short_t1.endclass.at_finish', 'rep0_range_28.power_short_t1.endclass.line_dist', 'rep0_range_28.power_short_t1.endclass.num_modes', 'rep0_range_28.power_short_t1.endclass.end_dist', 'rep0_range_28.power_short_t1.endclass.tot_deviation', 'rep0_range_28.power_short_t1.endclass.faults', 'rep0_range_28.power_short_t1.endclass.classification', 'rep0_range_28.power_short_t1.endclass.end_x', 'rep0_range_28.power_short_t1.endclass.end_y', 'rep0_range_28.power_short_t1.endclass.endpt', 'rep0_range_28.power_short_t2.endclass.rate', 'rep0_range_28.power_short_t2.endclass.cost', 'rep0_range_28.power_short_t2.endclass.prob', 'rep0_range_28.power_short_t2.endclass.expected_cost', 'rep0_range_28.power_short_t2.endclass.in_bound', 'rep0_range_28.power_short_t2.endclass.at_finish', 'rep0_range_28.power_short_t2.endclass.line_dist', 'rep0_range_28.power_short_t2.endclass.num_modes', 'rep0_range_28.power_short_t2.endclass.end_dist', 'rep0_range_28.power_short_t2.endclass.tot_deviation', 'rep0_range_28.power_short_t2.endclass.faults', 'rep0_range_28.power_short_t2.endclass.classification', 'rep0_range_28.power_short_t2.endclass.end_x', 'rep0_range_28.power_short_t2.endclass.end_y', 'rep0_range_28.power_short_t2.endclass.endpt', 'rep0_range_28.nominal.endclass.rate', 'rep0_range_28.nominal.endclass.cost', 'rep0_range_28.nominal.endclass.prob', 'rep0_range_28.nominal.endclass.expected_cost', 'rep0_range_28.nominal.endclass.in_bound', 'rep0_range_28.nominal.endclass.at_finish', 'rep0_range_28.nominal.endclass.line_dist', 'rep0_range_28.nominal.endclass.num_modes', 'rep0_range_28.nominal.endclass.end_dist', 'rep0_range_28.nominal.endclass.tot_deviation', 'rep0_range_28.nominal.endclass.faults', 'rep0_range_28.nominal.endclass.classification', 'rep0_range_28.nominal.endclass.end_x', 'rep0_range_28.nominal.endclass.end_y', 'rep0_range_28.nominal.endclass.endpt', 'rep0_range_29.power_no_charge_t1.endclass.rate', 'rep0_range_29.power_no_charge_t1.endclass.cost', 'rep0_range_29.power_no_charge_t1.endclass.prob', 'rep0_range_29.power_no_charge_t1.endclass.expected_cost', 'rep0_range_29.power_no_charge_t1.endclass.in_bound', 'rep0_range_29.power_no_charge_t1.endclass.at_finish', 'rep0_range_29.power_no_charge_t1.endclass.line_dist', 'rep0_range_29.power_no_charge_t1.endclass.num_modes', 'rep0_range_29.power_no_charge_t1.endclass.end_dist', 'rep0_range_29.power_no_charge_t1.endclass.tot_deviation', 'rep0_range_29.power_no_charge_t1.endclass.faults', 'rep0_range_29.power_no_charge_t1.endclass.classification', 'rep0_range_29.power_no_charge_t1.endclass.end_x', 'rep0_range_29.power_no_charge_t1.endclass.end_y', 'rep0_range_29.power_no_charge_t1.endclass.endpt', 'rep0_range_29.power_no_charge_t2.endclass.rate', 'rep0_range_29.power_no_charge_t2.endclass.cost', 'rep0_range_29.power_no_charge_t2.endclass.prob', 'rep0_range_29.power_no_charge_t2.endclass.expected_cost', 'rep0_range_29.power_no_charge_t2.endclass.in_bound', 'rep0_range_29.power_no_charge_t2.endclass.at_finish', 'rep0_range_29.power_no_charge_t2.endclass.line_dist', 'rep0_range_29.power_no_charge_t2.endclass.num_modes', 'rep0_range_29.power_no_charge_t2.endclass.end_dist', 'rep0_range_29.power_no_charge_t2.endclass.tot_deviation', 'rep0_range_29.power_no_charge_t2.endclass.faults', 'rep0_range_29.power_no_charge_t2.endclass.classification', 'rep0_range_29.power_no_charge_t2.endclass.end_x', 'rep0_range_29.power_no_charge_t2.endclass.end_y', 'rep0_range_29.power_no_charge_t2.endclass.endpt', 'rep0_range_29.power_short_t1.endclass.rate', 'rep0_range_29.power_short_t1.endclass.cost', 'rep0_range_29.power_short_t1.endclass.prob', 'rep0_range_29.power_short_t1.endclass.expected_cost', 'rep0_range_29.power_short_t1.endclass.in_bound', 'rep0_range_29.power_short_t1.endclass.at_finish', 'rep0_range_29.power_short_t1.endclass.line_dist', 'rep0_range_29.power_short_t1.endclass.num_modes', 'rep0_range_29.power_short_t1.endclass.end_dist', 'rep0_range_29.power_short_t1.endclass.tot_deviation', 'rep0_range_29.power_short_t1.endclass.faults', 'rep0_range_29.power_short_t1.endclass.classification', 'rep0_range_29.power_short_t1.endclass.end_x', 'rep0_range_29.power_short_t1.endclass.end_y', 'rep0_range_29.power_short_t1.endclass.endpt', 'rep0_range_29.power_short_t2.endclass.rate', 'rep0_range_29.power_short_t2.endclass.cost', 'rep0_range_29.power_short_t2.endclass.prob', 'rep0_range_29.power_short_t2.endclass.expected_cost', 'rep0_range_29.power_short_t2.endclass.in_bound', 'rep0_range_29.power_short_t2.endclass.at_finish', 'rep0_range_29.power_short_t2.endclass.line_dist', 'rep0_range_29.power_short_t2.endclass.num_modes', 'rep0_range_29.power_short_t2.endclass.end_dist', 'rep0_range_29.power_short_t2.endclass.tot_deviation', 'rep0_range_29.power_short_t2.endclass.faults', 'rep0_range_29.power_short_t2.endclass.classification', 'rep0_range_29.power_short_t2.endclass.end_x', 'rep0_range_29.power_short_t2.endclass.end_y', 'rep0_range_29.power_short_t2.endclass.endpt', 'rep0_range_29.nominal.endclass.rate', 'rep0_range_29.nominal.endclass.cost', 'rep0_range_29.nominal.endclass.prob', 'rep0_range_29.nominal.endclass.expected_cost', 'rep0_range_29.nominal.endclass.in_bound', 'rep0_range_29.nominal.endclass.at_finish', 'rep0_range_29.nominal.endclass.line_dist', 'rep0_range_29.nominal.endclass.num_modes', 'rep0_range_29.nominal.endclass.end_dist', 'rep0_range_29.nominal.endclass.tot_deviation', 'rep0_range_29.nominal.endclass.faults', 'rep0_range_29.nominal.endclass.classification', 'rep0_range_29.nominal.endclass.end_x', 'rep0_range_29.nominal.endclass.end_y', 'rep0_range_29.nominal.endclass.endpt', 'rep0_range_30.power_no_charge_t1.endclass.rate', 'rep0_range_30.power_no_charge_t1.endclass.cost', 'rep0_range_30.power_no_charge_t1.endclass.prob', 'rep0_range_30.power_no_charge_t1.endclass.expected_cost', 'rep0_range_30.power_no_charge_t1.endclass.in_bound', 'rep0_range_30.power_no_charge_t1.endclass.at_finish', 'rep0_range_30.power_no_charge_t1.endclass.line_dist', 'rep0_range_30.power_no_charge_t1.endclass.num_modes', 'rep0_range_30.power_no_charge_t1.endclass.end_dist', 'rep0_range_30.power_no_charge_t1.endclass.tot_deviation', 'rep0_range_30.power_no_charge_t1.endclass.faults', 'rep0_range_30.power_no_charge_t1.endclass.classification', 'rep0_range_30.power_no_charge_t1.endclass.end_x', 'rep0_range_30.power_no_charge_t1.endclass.end_y', 'rep0_range_30.power_no_charge_t1.endclass.endpt', 'rep0_range_30.power_no_charge_t2.endclass.rate', 'rep0_range_30.power_no_charge_t2.endclass.cost', 'rep0_range_30.power_no_charge_t2.endclass.prob', 'rep0_range_30.power_no_charge_t2.endclass.expected_cost', 'rep0_range_30.power_no_charge_t2.endclass.in_bound', 'rep0_range_30.power_no_charge_t2.endclass.at_finish', 'rep0_range_30.power_no_charge_t2.endclass.line_dist', 'rep0_range_30.power_no_charge_t2.endclass.num_modes', 'rep0_range_30.power_no_charge_t2.endclass.end_dist', 'rep0_range_30.power_no_charge_t2.endclass.tot_deviation', 'rep0_range_30.power_no_charge_t2.endclass.faults', 'rep0_range_30.power_no_charge_t2.endclass.classification', 'rep0_range_30.power_no_charge_t2.endclass.end_x', 'rep0_range_30.power_no_charge_t2.endclass.end_y', 'rep0_range_30.power_no_charge_t2.endclass.endpt', 'rep0_range_30.power_short_t1.endclass.rate', 'rep0_range_30.power_short_t1.endclass.cost', 'rep0_range_30.power_short_t1.endclass.prob', 'rep0_range_30.power_short_t1.endclass.expected_cost', 'rep0_range_30.power_short_t1.endclass.in_bound', 'rep0_range_30.power_short_t1.endclass.at_finish', 'rep0_range_30.power_short_t1.endclass.line_dist', 'rep0_range_30.power_short_t1.endclass.num_modes', 'rep0_range_30.power_short_t1.endclass.end_dist', 'rep0_range_30.power_short_t1.endclass.tot_deviation', 'rep0_range_30.power_short_t1.endclass.faults', 'rep0_range_30.power_short_t1.endclass.classification', 'rep0_range_30.power_short_t1.endclass.end_x', 'rep0_range_30.power_short_t1.endclass.end_y', 'rep0_range_30.power_short_t1.endclass.endpt', 'rep0_range_30.power_short_t2.endclass.rate', 'rep0_range_30.power_short_t2.endclass.cost', 'rep0_range_30.power_short_t2.endclass.prob', 'rep0_range_30.power_short_t2.endclass.expected_cost', 'rep0_range_30.power_short_t2.endclass.in_bound', 'rep0_range_30.power_short_t2.endclass.at_finish', 'rep0_range_30.power_short_t2.endclass.line_dist', 'rep0_range_30.power_short_t2.endclass.num_modes', 'rep0_range_30.power_short_t2.endclass.end_dist', 'rep0_range_30.power_short_t2.endclass.tot_deviation', 'rep0_range_30.power_short_t2.endclass.faults', 'rep0_range_30.power_short_t2.endclass.classification', 'rep0_range_30.power_short_t2.endclass.end_x', 'rep0_range_30.power_short_t2.endclass.end_y', 'rep0_range_30.power_short_t2.endclass.endpt', 'rep0_range_30.nominal.endclass.rate', 'rep0_range_30.nominal.endclass.cost', 'rep0_range_30.nominal.endclass.prob', 'rep0_range_30.nominal.endclass.expected_cost', 'rep0_range_30.nominal.endclass.in_bound', 'rep0_range_30.nominal.endclass.at_finish', 'rep0_range_30.nominal.endclass.line_dist', 'rep0_range_30.nominal.endclass.num_modes', 'rep0_range_30.nominal.endclass.end_dist', 'rep0_range_30.nominal.endclass.tot_deviation', 'rep0_range_30.nominal.endclass.faults', 'rep0_range_30.nominal.endclass.classification', 'rep0_range_30.nominal.endclass.end_x', 'rep0_range_30.nominal.endclass.end_y', 'rep0_range_30.nominal.endclass.endpt', 'rep0_range_31.power_no_charge_t1.endclass.rate', 'rep0_range_31.power_no_charge_t1.endclass.cost', 'rep0_range_31.power_no_charge_t1.endclass.prob', 'rep0_range_31.power_no_charge_t1.endclass.expected_cost', 'rep0_range_31.power_no_charge_t1.endclass.in_bound', 'rep0_range_31.power_no_charge_t1.endclass.at_finish', 'rep0_range_31.power_no_charge_t1.endclass.line_dist', 'rep0_range_31.power_no_charge_t1.endclass.num_modes', 'rep0_range_31.power_no_charge_t1.endclass.end_dist', 'rep0_range_31.power_no_charge_t1.endclass.tot_deviation', 'rep0_range_31.power_no_charge_t1.endclass.faults', 'rep0_range_31.power_no_charge_t1.endclass.classification', 'rep0_range_31.power_no_charge_t1.endclass.end_x', 'rep0_range_31.power_no_charge_t1.endclass.end_y', 'rep0_range_31.power_no_charge_t1.endclass.endpt', 'rep0_range_31.power_no_charge_t2.endclass.rate', 'rep0_range_31.power_no_charge_t2.endclass.cost', 'rep0_range_31.power_no_charge_t2.endclass.prob', 'rep0_range_31.power_no_charge_t2.endclass.expected_cost', 'rep0_range_31.power_no_charge_t2.endclass.in_bound', 'rep0_range_31.power_no_charge_t2.endclass.at_finish', 'rep0_range_31.power_no_charge_t2.endclass.line_dist', 'rep0_range_31.power_no_charge_t2.endclass.num_modes', 'rep0_range_31.power_no_charge_t2.endclass.end_dist', 'rep0_range_31.power_no_charge_t2.endclass.tot_deviation', 'rep0_range_31.power_no_charge_t2.endclass.faults', 'rep0_range_31.power_no_charge_t2.endclass.classification', 'rep0_range_31.power_no_charge_t2.endclass.end_x', 'rep0_range_31.power_no_charge_t2.endclass.end_y', 'rep0_range_31.power_no_charge_t2.endclass.endpt', 'rep0_range_31.power_short_t1.endclass.rate', 'rep0_range_31.power_short_t1.endclass.cost', 'rep0_range_31.power_short_t1.endclass.prob', 'rep0_range_31.power_short_t1.endclass.expected_cost', 'rep0_range_31.power_short_t1.endclass.in_bound', 'rep0_range_31.power_short_t1.endclass.at_finish', 'rep0_range_31.power_short_t1.endclass.line_dist', 'rep0_range_31.power_short_t1.endclass.num_modes', 'rep0_range_31.power_short_t1.endclass.end_dist', 'rep0_range_31.power_short_t1.endclass.tot_deviation', 'rep0_range_31.power_short_t1.endclass.faults', 'rep0_range_31.power_short_t1.endclass.classification', 'rep0_range_31.power_short_t1.endclass.end_x', 'rep0_range_31.power_short_t1.endclass.end_y', 'rep0_range_31.power_short_t1.endclass.endpt', 'rep0_range_31.power_short_t2.endclass.rate', 'rep0_range_31.power_short_t2.endclass.cost', 'rep0_range_31.power_short_t2.endclass.prob', 'rep0_range_31.power_short_t2.endclass.expected_cost', 'rep0_range_31.power_short_t2.endclass.in_bound', 'rep0_range_31.power_short_t2.endclass.at_finish', 'rep0_range_31.power_short_t2.endclass.line_dist', 'rep0_range_31.power_short_t2.endclass.num_modes', 'rep0_range_31.power_short_t2.endclass.end_dist', 'rep0_range_31.power_short_t2.endclass.tot_deviation', 'rep0_range_31.power_short_t2.endclass.faults', 'rep0_range_31.power_short_t2.endclass.classification', 'rep0_range_31.power_short_t2.endclass.end_x', 'rep0_range_31.power_short_t2.endclass.end_y', 'rep0_range_31.power_short_t2.endclass.endpt', 'rep0_range_31.nominal.endclass.rate', 'rep0_range_31.nominal.endclass.cost', 'rep0_range_31.nominal.endclass.prob', 'rep0_range_31.nominal.endclass.expected_cost', 'rep0_range_31.nominal.endclass.in_bound', 'rep0_range_31.nominal.endclass.at_finish', 'rep0_range_31.nominal.endclass.line_dist', 'rep0_range_31.nominal.endclass.num_modes', 'rep0_range_31.nominal.endclass.end_dist', 'rep0_range_31.nominal.endclass.tot_deviation', 'rep0_range_31.nominal.endclass.faults', 'rep0_range_31.nominal.endclass.classification', 'rep0_range_31.nominal.endclass.end_x', 'rep0_range_31.nominal.endclass.end_y', 'rep0_range_31.nominal.endclass.endpt', 'rep0_range_32.power_no_charge_t1.endclass.rate', 'rep0_range_32.power_no_charge_t1.endclass.cost', 'rep0_range_32.power_no_charge_t1.endclass.prob', 'rep0_range_32.power_no_charge_t1.endclass.expected_cost', 'rep0_range_32.power_no_charge_t1.endclass.in_bound', 'rep0_range_32.power_no_charge_t1.endclass.at_finish', 'rep0_range_32.power_no_charge_t1.endclass.line_dist', 'rep0_range_32.power_no_charge_t1.endclass.num_modes', 'rep0_range_32.power_no_charge_t1.endclass.end_dist', 'rep0_range_32.power_no_charge_t1.endclass.tot_deviation', 'rep0_range_32.power_no_charge_t1.endclass.faults', 'rep0_range_32.power_no_charge_t1.endclass.classification', 'rep0_range_32.power_no_charge_t1.endclass.end_x', 'rep0_range_32.power_no_charge_t1.endclass.end_y', 'rep0_range_32.power_no_charge_t1.endclass.endpt', 'rep0_range_32.power_no_charge_t2.endclass.rate', 'rep0_range_32.power_no_charge_t2.endclass.cost', 'rep0_range_32.power_no_charge_t2.endclass.prob', 'rep0_range_32.power_no_charge_t2.endclass.expected_cost', 'rep0_range_32.power_no_charge_t2.endclass.in_bound', 'rep0_range_32.power_no_charge_t2.endclass.at_finish', 'rep0_range_32.power_no_charge_t2.endclass.line_dist', 'rep0_range_32.power_no_charge_t2.endclass.num_modes', 'rep0_range_32.power_no_charge_t2.endclass.end_dist', 'rep0_range_32.power_no_charge_t2.endclass.tot_deviation', 'rep0_range_32.power_no_charge_t2.endclass.faults', 'rep0_range_32.power_no_charge_t2.endclass.classification', 'rep0_range_32.power_no_charge_t2.endclass.end_x', 'rep0_range_32.power_no_charge_t2.endclass.end_y', 'rep0_range_32.power_no_charge_t2.endclass.endpt', 'rep0_range_32.power_short_t1.endclass.rate', 'rep0_range_32.power_short_t1.endclass.cost', 'rep0_range_32.power_short_t1.endclass.prob', 'rep0_range_32.power_short_t1.endclass.expected_cost', 'rep0_range_32.power_short_t1.endclass.in_bound', 'rep0_range_32.power_short_t1.endclass.at_finish', 'rep0_range_32.power_short_t1.endclass.line_dist', 'rep0_range_32.power_short_t1.endclass.num_modes', 'rep0_range_32.power_short_t1.endclass.end_dist', 'rep0_range_32.power_short_t1.endclass.tot_deviation', 'rep0_range_32.power_short_t1.endclass.faults', 'rep0_range_32.power_short_t1.endclass.classification', 'rep0_range_32.power_short_t1.endclass.end_x', 'rep0_range_32.power_short_t1.endclass.end_y', 'rep0_range_32.power_short_t1.endclass.endpt', 'rep0_range_32.power_short_t2.endclass.rate', 'rep0_range_32.power_short_t2.endclass.cost', 'rep0_range_32.power_short_t2.endclass.prob', 'rep0_range_32.power_short_t2.endclass.expected_cost', 'rep0_range_32.power_short_t2.endclass.in_bound', 'rep0_range_32.power_short_t2.endclass.at_finish', 'rep0_range_32.power_short_t2.endclass.line_dist', 'rep0_range_32.power_short_t2.endclass.num_modes', 'rep0_range_32.power_short_t2.endclass.end_dist', 'rep0_range_32.power_short_t2.endclass.tot_deviation', 'rep0_range_32.power_short_t2.endclass.faults', 'rep0_range_32.power_short_t2.endclass.classification', 'rep0_range_32.power_short_t2.endclass.end_x', 'rep0_range_32.power_short_t2.endclass.end_y', 'rep0_range_32.power_short_t2.endclass.endpt', 'rep0_range_32.nominal.endclass.rate', 'rep0_range_32.nominal.endclass.cost', 'rep0_range_32.nominal.endclass.prob', 'rep0_range_32.nominal.endclass.expected_cost', 'rep0_range_32.nominal.endclass.in_bound', 'rep0_range_32.nominal.endclass.at_finish', 'rep0_range_32.nominal.endclass.line_dist', 'rep0_range_32.nominal.endclass.num_modes', 'rep0_range_32.nominal.endclass.end_dist', 'rep0_range_32.nominal.endclass.tot_deviation', 'rep0_range_32.nominal.endclass.faults', 'rep0_range_32.nominal.endclass.classification', 'rep0_range_32.nominal.endclass.end_x', 'rep0_range_32.nominal.endclass.end_y', 'rep0_range_32.nominal.endclass.endpt', 'rep0_range_33.power_no_charge_t1.endclass.rate', 'rep0_range_33.power_no_charge_t1.endclass.cost', 'rep0_range_33.power_no_charge_t1.endclass.prob', 'rep0_range_33.power_no_charge_t1.endclass.expected_cost', 'rep0_range_33.power_no_charge_t1.endclass.in_bound', 'rep0_range_33.power_no_charge_t1.endclass.at_finish', 'rep0_range_33.power_no_charge_t1.endclass.line_dist', 'rep0_range_33.power_no_charge_t1.endclass.num_modes', 'rep0_range_33.power_no_charge_t1.endclass.end_dist', 'rep0_range_33.power_no_charge_t1.endclass.tot_deviation', 'rep0_range_33.power_no_charge_t1.endclass.faults', 'rep0_range_33.power_no_charge_t1.endclass.classification', 'rep0_range_33.power_no_charge_t1.endclass.end_x', 'rep0_range_33.power_no_charge_t1.endclass.end_y', 'rep0_range_33.power_no_charge_t1.endclass.endpt', 'rep0_range_33.power_no_charge_t2.endclass.rate', 'rep0_range_33.power_no_charge_t2.endclass.cost', 'rep0_range_33.power_no_charge_t2.endclass.prob', 'rep0_range_33.power_no_charge_t2.endclass.expected_cost', 'rep0_range_33.power_no_charge_t2.endclass.in_bound', 'rep0_range_33.power_no_charge_t2.endclass.at_finish', 'rep0_range_33.power_no_charge_t2.endclass.line_dist', 'rep0_range_33.power_no_charge_t2.endclass.num_modes', 'rep0_range_33.power_no_charge_t2.endclass.end_dist', 'rep0_range_33.power_no_charge_t2.endclass.tot_deviation', 'rep0_range_33.power_no_charge_t2.endclass.faults', 'rep0_range_33.power_no_charge_t2.endclass.classification', 'rep0_range_33.power_no_charge_t2.endclass.end_x', 'rep0_range_33.power_no_charge_t2.endclass.end_y', 'rep0_range_33.power_no_charge_t2.endclass.endpt', 'rep0_range_33.power_short_t1.endclass.rate', 'rep0_range_33.power_short_t1.endclass.cost', 'rep0_range_33.power_short_t1.endclass.prob', 'rep0_range_33.power_short_t1.endclass.expected_cost', 'rep0_range_33.power_short_t1.endclass.in_bound', 'rep0_range_33.power_short_t1.endclass.at_finish', 'rep0_range_33.power_short_t1.endclass.line_dist', 'rep0_range_33.power_short_t1.endclass.num_modes', 'rep0_range_33.power_short_t1.endclass.end_dist', 'rep0_range_33.power_short_t1.endclass.tot_deviation', 'rep0_range_33.power_short_t1.endclass.faults', 'rep0_range_33.power_short_t1.endclass.classification', 'rep0_range_33.power_short_t1.endclass.end_x', 'rep0_range_33.power_short_t1.endclass.end_y', 'rep0_range_33.power_short_t1.endclass.endpt', 'rep0_range_33.power_short_t2.endclass.rate', 'rep0_range_33.power_short_t2.endclass.cost', 'rep0_range_33.power_short_t2.endclass.prob', 'rep0_range_33.power_short_t2.endclass.expected_cost', 'rep0_range_33.power_short_t2.endclass.in_bound', 'rep0_range_33.power_short_t2.endclass.at_finish', 'rep0_range_33.power_short_t2.endclass.line_dist', 'rep0_range_33.power_short_t2.endclass.num_modes', 'rep0_range_33.power_short_t2.endclass.end_dist', 'rep0_range_33.power_short_t2.endclass.tot_deviation', 'rep0_range_33.power_short_t2.endclass.faults', 'rep0_range_33.power_short_t2.endclass.classification', 'rep0_range_33.power_short_t2.endclass.end_x', 'rep0_range_33.power_short_t2.endclass.end_y', 'rep0_range_33.power_short_t2.endclass.endpt', 'rep0_range_33.nominal.endclass.rate', 'rep0_range_33.nominal.endclass.cost', 'rep0_range_33.nominal.endclass.prob', 'rep0_range_33.nominal.endclass.expected_cost', 'rep0_range_33.nominal.endclass.in_bound', 'rep0_range_33.nominal.endclass.at_finish', 'rep0_range_33.nominal.endclass.line_dist', 'rep0_range_33.nominal.endclass.num_modes', 'rep0_range_33.nominal.endclass.end_dist', 'rep0_range_33.nominal.endclass.tot_deviation', 'rep0_range_33.nominal.endclass.faults', 'rep0_range_33.nominal.endclass.classification', 'rep0_range_33.nominal.endclass.end_x', 'rep0_range_33.nominal.endclass.end_y', 'rep0_range_33.nominal.endclass.endpt', 'rep0_range_34.power_no_charge_t1.endclass.rate', 'rep0_range_34.power_no_charge_t1.endclass.cost', 'rep0_range_34.power_no_charge_t1.endclass.prob', 'rep0_range_34.power_no_charge_t1.endclass.expected_cost', 'rep0_range_34.power_no_charge_t1.endclass.in_bound', 'rep0_range_34.power_no_charge_t1.endclass.at_finish', 'rep0_range_34.power_no_charge_t1.endclass.line_dist', 'rep0_range_34.power_no_charge_t1.endclass.num_modes', 'rep0_range_34.power_no_charge_t1.endclass.end_dist', 'rep0_range_34.power_no_charge_t1.endclass.tot_deviation', 'rep0_range_34.power_no_charge_t1.endclass.faults', 'rep0_range_34.power_no_charge_t1.endclass.classification', 'rep0_range_34.power_no_charge_t1.endclass.end_x', 'rep0_range_34.power_no_charge_t1.endclass.end_y', 'rep0_range_34.power_no_charge_t1.endclass.endpt', 'rep0_range_34.power_no_charge_t2.endclass.rate', 'rep0_range_34.power_no_charge_t2.endclass.cost', 'rep0_range_34.power_no_charge_t2.endclass.prob', 'rep0_range_34.power_no_charge_t2.endclass.expected_cost', 'rep0_range_34.power_no_charge_t2.endclass.in_bound', 'rep0_range_34.power_no_charge_t2.endclass.at_finish', 'rep0_range_34.power_no_charge_t2.endclass.line_dist', 'rep0_range_34.power_no_charge_t2.endclass.num_modes', 'rep0_range_34.power_no_charge_t2.endclass.end_dist', 'rep0_range_34.power_no_charge_t2.endclass.tot_deviation', 'rep0_range_34.power_no_charge_t2.endclass.faults', 'rep0_range_34.power_no_charge_t2.endclass.classification', 'rep0_range_34.power_no_charge_t2.endclass.end_x', 'rep0_range_34.power_no_charge_t2.endclass.end_y', 'rep0_range_34.power_no_charge_t2.endclass.endpt', 'rep0_range_34.power_short_t1.endclass.rate', 'rep0_range_34.power_short_t1.endclass.cost', 'rep0_range_34.power_short_t1.endclass.prob', 'rep0_range_34.power_short_t1.endclass.expected_cost', 'rep0_range_34.power_short_t1.endclass.in_bound', 'rep0_range_34.power_short_t1.endclass.at_finish', 'rep0_range_34.power_short_t1.endclass.line_dist', 'rep0_range_34.power_short_t1.endclass.num_modes', 'rep0_range_34.power_short_t1.endclass.end_dist', 'rep0_range_34.power_short_t1.endclass.tot_deviation', 'rep0_range_34.power_short_t1.endclass.faults', 'rep0_range_34.power_short_t1.endclass.classification', 'rep0_range_34.power_short_t1.endclass.end_x', 'rep0_range_34.power_short_t1.endclass.end_y', 'rep0_range_34.power_short_t1.endclass.endpt', 'rep0_range_34.power_short_t2.endclass.rate', 'rep0_range_34.power_short_t2.endclass.cost', 'rep0_range_34.power_short_t2.endclass.prob', 'rep0_range_34.power_short_t2.endclass.expected_cost', 'rep0_range_34.power_short_t2.endclass.in_bound', 'rep0_range_34.power_short_t2.endclass.at_finish', 'rep0_range_34.power_short_t2.endclass.line_dist', 'rep0_range_34.power_short_t2.endclass.num_modes', 'rep0_range_34.power_short_t2.endclass.end_dist', 'rep0_range_34.power_short_t2.endclass.tot_deviation', 'rep0_range_34.power_short_t2.endclass.faults', 'rep0_range_34.power_short_t2.endclass.classification', 'rep0_range_34.power_short_t2.endclass.end_x', 'rep0_range_34.power_short_t2.endclass.end_y', 'rep0_range_34.power_short_t2.endclass.endpt', 'rep0_range_34.nominal.endclass.rate', 'rep0_range_34.nominal.endclass.cost', 'rep0_range_34.nominal.endclass.prob', 'rep0_range_34.nominal.endclass.expected_cost', 'rep0_range_34.nominal.endclass.in_bound', 'rep0_range_34.nominal.endclass.at_finish', 'rep0_range_34.nominal.endclass.line_dist', 'rep0_range_34.nominal.endclass.num_modes', 'rep0_range_34.nominal.endclass.end_dist', 'rep0_range_34.nominal.endclass.tot_deviation', 'rep0_range_34.nominal.endclass.faults', 'rep0_range_34.nominal.endclass.classification', 'rep0_range_34.nominal.endclass.end_x', 'rep0_range_34.nominal.endclass.end_y', 'rep0_range_34.nominal.endclass.endpt', 'rep0_range_35.power_no_charge_t1.endclass.rate', 'rep0_range_35.power_no_charge_t1.endclass.cost', 'rep0_range_35.power_no_charge_t1.endclass.prob', 'rep0_range_35.power_no_charge_t1.endclass.expected_cost', 'rep0_range_35.power_no_charge_t1.endclass.in_bound', 'rep0_range_35.power_no_charge_t1.endclass.at_finish', 'rep0_range_35.power_no_charge_t1.endclass.line_dist', 'rep0_range_35.power_no_charge_t1.endclass.num_modes', 'rep0_range_35.power_no_charge_t1.endclass.end_dist', 'rep0_range_35.power_no_charge_t1.endclass.tot_deviation', 'rep0_range_35.power_no_charge_t1.endclass.faults', 'rep0_range_35.power_no_charge_t1.endclass.classification', 'rep0_range_35.power_no_charge_t1.endclass.end_x', 'rep0_range_35.power_no_charge_t1.endclass.end_y', 'rep0_range_35.power_no_charge_t1.endclass.endpt', 'rep0_range_35.power_no_charge_t2.endclass.rate', 'rep0_range_35.power_no_charge_t2.endclass.cost', 'rep0_range_35.power_no_charge_t2.endclass.prob', 'rep0_range_35.power_no_charge_t2.endclass.expected_cost', 'rep0_range_35.power_no_charge_t2.endclass.in_bound', 'rep0_range_35.power_no_charge_t2.endclass.at_finish', 'rep0_range_35.power_no_charge_t2.endclass.line_dist', 'rep0_range_35.power_no_charge_t2.endclass.num_modes', 'rep0_range_35.power_no_charge_t2.endclass.end_dist', 'rep0_range_35.power_no_charge_t2.endclass.tot_deviation', 'rep0_range_35.power_no_charge_t2.endclass.faults', 'rep0_range_35.power_no_charge_t2.endclass.classification', 'rep0_range_35.power_no_charge_t2.endclass.end_x', 'rep0_range_35.power_no_charge_t2.endclass.end_y', 'rep0_range_35.power_no_charge_t2.endclass.endpt', 'rep0_range_35.power_short_t1.endclass.rate', 'rep0_range_35.power_short_t1.endclass.cost', 'rep0_range_35.power_short_t1.endclass.prob', 'rep0_range_35.power_short_t1.endclass.expected_cost', 'rep0_range_35.power_short_t1.endclass.in_bound', 'rep0_range_35.power_short_t1.endclass.at_finish', 'rep0_range_35.power_short_t1.endclass.line_dist', 'rep0_range_35.power_short_t1.endclass.num_modes', 'rep0_range_35.power_short_t1.endclass.end_dist', 'rep0_range_35.power_short_t1.endclass.tot_deviation', 'rep0_range_35.power_short_t1.endclass.faults', 'rep0_range_35.power_short_t1.endclass.classification', 'rep0_range_35.power_short_t1.endclass.end_x', 'rep0_range_35.power_short_t1.endclass.end_y', 'rep0_range_35.power_short_t1.endclass.endpt', 'rep0_range_35.power_short_t2.endclass.rate', 'rep0_range_35.power_short_t2.endclass.cost', 'rep0_range_35.power_short_t2.endclass.prob', 'rep0_range_35.power_short_t2.endclass.expected_cost', 'rep0_range_35.power_short_t2.endclass.in_bound', 'rep0_range_35.power_short_t2.endclass.at_finish', 'rep0_range_35.power_short_t2.endclass.line_dist', 'rep0_range_35.power_short_t2.endclass.num_modes', 'rep0_range_35.power_short_t2.endclass.end_dist', 'rep0_range_35.power_short_t2.endclass.tot_deviation', 'rep0_range_35.power_short_t2.endclass.faults', 'rep0_range_35.power_short_t2.endclass.classification', 'rep0_range_35.power_short_t2.endclass.end_x', 'rep0_range_35.power_short_t2.endclass.end_y', 'rep0_range_35.power_short_t2.endclass.endpt', 'rep0_range_35.nominal.endclass.rate', 'rep0_range_35.nominal.endclass.cost', 'rep0_range_35.nominal.endclass.prob', 'rep0_range_35.nominal.endclass.expected_cost', 'rep0_range_35.nominal.endclass.in_bound', 'rep0_range_35.nominal.endclass.at_finish', 'rep0_range_35.nominal.endclass.line_dist', 'rep0_range_35.nominal.endclass.num_modes', 'rep0_range_35.nominal.endclass.end_dist', 'rep0_range_35.nominal.endclass.tot_deviation', 'rep0_range_35.nominal.endclass.faults', 'rep0_range_35.nominal.endclass.classification', 'rep0_range_35.nominal.endclass.end_x', 'rep0_range_35.nominal.endclass.end_y', 'rep0_range_35.nominal.endclass.endpt', 'rep0_range_36.power_no_charge_t1.endclass.rate', 'rep0_range_36.power_no_charge_t1.endclass.cost', 'rep0_range_36.power_no_charge_t1.endclass.prob', 'rep0_range_36.power_no_charge_t1.endclass.expected_cost', 'rep0_range_36.power_no_charge_t1.endclass.in_bound', 'rep0_range_36.power_no_charge_t1.endclass.at_finish', 'rep0_range_36.power_no_charge_t1.endclass.line_dist', 'rep0_range_36.power_no_charge_t1.endclass.num_modes', 'rep0_range_36.power_no_charge_t1.endclass.end_dist', 'rep0_range_36.power_no_charge_t1.endclass.tot_deviation', 'rep0_range_36.power_no_charge_t1.endclass.faults', 'rep0_range_36.power_no_charge_t1.endclass.classification', 'rep0_range_36.power_no_charge_t1.endclass.end_x', 'rep0_range_36.power_no_charge_t1.endclass.end_y', 'rep0_range_36.power_no_charge_t1.endclass.endpt', 'rep0_range_36.power_no_charge_t2.endclass.rate', 'rep0_range_36.power_no_charge_t2.endclass.cost', 'rep0_range_36.power_no_charge_t2.endclass.prob', 'rep0_range_36.power_no_charge_t2.endclass.expected_cost', 'rep0_range_36.power_no_charge_t2.endclass.in_bound', 'rep0_range_36.power_no_charge_t2.endclass.at_finish', 'rep0_range_36.power_no_charge_t2.endclass.line_dist', 'rep0_range_36.power_no_charge_t2.endclass.num_modes', 'rep0_range_36.power_no_charge_t2.endclass.end_dist', 'rep0_range_36.power_no_charge_t2.endclass.tot_deviation', 'rep0_range_36.power_no_charge_t2.endclass.faults', 'rep0_range_36.power_no_charge_t2.endclass.classification', 'rep0_range_36.power_no_charge_t2.endclass.end_x', 'rep0_range_36.power_no_charge_t2.endclass.end_y', 'rep0_range_36.power_no_charge_t2.endclass.endpt', 'rep0_range_36.power_short_t1.endclass.rate', 'rep0_range_36.power_short_t1.endclass.cost', 'rep0_range_36.power_short_t1.endclass.prob', 'rep0_range_36.power_short_t1.endclass.expected_cost', 'rep0_range_36.power_short_t1.endclass.in_bound', 'rep0_range_36.power_short_t1.endclass.at_finish', 'rep0_range_36.power_short_t1.endclass.line_dist', 'rep0_range_36.power_short_t1.endclass.num_modes', 'rep0_range_36.power_short_t1.endclass.end_dist', 'rep0_range_36.power_short_t1.endclass.tot_deviation', 'rep0_range_36.power_short_t1.endclass.faults', 'rep0_range_36.power_short_t1.endclass.classification', 'rep0_range_36.power_short_t1.endclass.end_x', 'rep0_range_36.power_short_t1.endclass.end_y', 'rep0_range_36.power_short_t1.endclass.endpt', 'rep0_range_36.power_short_t2.endclass.rate', 'rep0_range_36.power_short_t2.endclass.cost', 'rep0_range_36.power_short_t2.endclass.prob', 'rep0_range_36.power_short_t2.endclass.expected_cost', 'rep0_range_36.power_short_t2.endclass.in_bound', 'rep0_range_36.power_short_t2.endclass.at_finish', 'rep0_range_36.power_short_t2.endclass.line_dist', 'rep0_range_36.power_short_t2.endclass.num_modes', 'rep0_range_36.power_short_t2.endclass.end_dist', 'rep0_range_36.power_short_t2.endclass.tot_deviation', 'rep0_range_36.power_short_t2.endclass.faults', 'rep0_range_36.power_short_t2.endclass.classification', 'rep0_range_36.power_short_t2.endclass.end_x', 'rep0_range_36.power_short_t2.endclass.end_y', 'rep0_range_36.power_short_t2.endclass.endpt', 'rep0_range_36.nominal.endclass.rate', 'rep0_range_36.nominal.endclass.cost', 'rep0_range_36.nominal.endclass.prob', 'rep0_range_36.nominal.endclass.expected_cost', 'rep0_range_36.nominal.endclass.in_bound', 'rep0_range_36.nominal.endclass.at_finish', 'rep0_range_36.nominal.endclass.line_dist', 'rep0_range_36.nominal.endclass.num_modes', 'rep0_range_36.nominal.endclass.end_dist', 'rep0_range_36.nominal.endclass.tot_deviation', 'rep0_range_36.nominal.endclass.faults', 'rep0_range_36.nominal.endclass.classification', 'rep0_range_36.nominal.endclass.end_x', 'rep0_range_36.nominal.endclass.end_y', 'rep0_range_36.nominal.endclass.endpt', 'rep0_range_37.power_no_charge_t1.endclass.rate', 'rep0_range_37.power_no_charge_t1.endclass.cost', 'rep0_range_37.power_no_charge_t1.endclass.prob', 'rep0_range_37.power_no_charge_t1.endclass.expected_cost', 'rep0_range_37.power_no_charge_t1.endclass.in_bound', 'rep0_range_37.power_no_charge_t1.endclass.at_finish', 'rep0_range_37.power_no_charge_t1.endclass.line_dist', 'rep0_range_37.power_no_charge_t1.endclass.num_modes', 'rep0_range_37.power_no_charge_t1.endclass.end_dist', 'rep0_range_37.power_no_charge_t1.endclass.tot_deviation', 'rep0_range_37.power_no_charge_t1.endclass.faults', 'rep0_range_37.power_no_charge_t1.endclass.classification', 'rep0_range_37.power_no_charge_t1.endclass.end_x', 'rep0_range_37.power_no_charge_t1.endclass.end_y', 'rep0_range_37.power_no_charge_t1.endclass.endpt', 'rep0_range_37.power_no_charge_t2.endclass.rate', 'rep0_range_37.power_no_charge_t2.endclass.cost', 'rep0_range_37.power_no_charge_t2.endclass.prob', 'rep0_range_37.power_no_charge_t2.endclass.expected_cost', 'rep0_range_37.power_no_charge_t2.endclass.in_bound', 'rep0_range_37.power_no_charge_t2.endclass.at_finish', 'rep0_range_37.power_no_charge_t2.endclass.line_dist', 'rep0_range_37.power_no_charge_t2.endclass.num_modes', 'rep0_range_37.power_no_charge_t2.endclass.end_dist', 'rep0_range_37.power_no_charge_t2.endclass.tot_deviation', 'rep0_range_37.power_no_charge_t2.endclass.faults', 'rep0_range_37.power_no_charge_t2.endclass.classification', 'rep0_range_37.power_no_charge_t2.endclass.end_x', 'rep0_range_37.power_no_charge_t2.endclass.end_y', 'rep0_range_37.power_no_charge_t2.endclass.endpt', 'rep0_range_37.power_short_t1.endclass.rate', 'rep0_range_37.power_short_t1.endclass.cost', 'rep0_range_37.power_short_t1.endclass.prob', 'rep0_range_37.power_short_t1.endclass.expected_cost', 'rep0_range_37.power_short_t1.endclass.in_bound', 'rep0_range_37.power_short_t1.endclass.at_finish', 'rep0_range_37.power_short_t1.endclass.line_dist', 'rep0_range_37.power_short_t1.endclass.num_modes', 'rep0_range_37.power_short_t1.endclass.end_dist', 'rep0_range_37.power_short_t1.endclass.tot_deviation', 'rep0_range_37.power_short_t1.endclass.faults', 'rep0_range_37.power_short_t1.endclass.classification', 'rep0_range_37.power_short_t1.endclass.end_x', 'rep0_range_37.power_short_t1.endclass.end_y', 'rep0_range_37.power_short_t1.endclass.endpt', 'rep0_range_37.power_short_t2.endclass.rate', 'rep0_range_37.power_short_t2.endclass.cost', 'rep0_range_37.power_short_t2.endclass.prob', 'rep0_range_37.power_short_t2.endclass.expected_cost', 'rep0_range_37.power_short_t2.endclass.in_bound', 'rep0_range_37.power_short_t2.endclass.at_finish', 'rep0_range_37.power_short_t2.endclass.line_dist', 'rep0_range_37.power_short_t2.endclass.num_modes', 'rep0_range_37.power_short_t2.endclass.end_dist', 'rep0_range_37.power_short_t2.endclass.tot_deviation', 'rep0_range_37.power_short_t2.endclass.faults', 'rep0_range_37.power_short_t2.endclass.classification', 'rep0_range_37.power_short_t2.endclass.end_x', 'rep0_range_37.power_short_t2.endclass.end_y', 'rep0_range_37.power_short_t2.endclass.endpt', 'rep0_range_37.nominal.endclass.rate', 'rep0_range_37.nominal.endclass.cost', 'rep0_range_37.nominal.endclass.prob', 'rep0_range_37.nominal.endclass.expected_cost', 'rep0_range_37.nominal.endclass.in_bound', 'rep0_range_37.nominal.endclass.at_finish', 'rep0_range_37.nominal.endclass.line_dist', 'rep0_range_37.nominal.endclass.num_modes', 'rep0_range_37.nominal.endclass.end_dist', 'rep0_range_37.nominal.endclass.tot_deviation', 'rep0_range_37.nominal.endclass.faults', 'rep0_range_37.nominal.endclass.classification', 'rep0_range_37.nominal.endclass.end_x', 'rep0_range_37.nominal.endclass.end_y', 'rep0_range_37.nominal.endclass.endpt', 'rep0_range_38.power_no_charge_t1.endclass.rate', 'rep0_range_38.power_no_charge_t1.endclass.cost', 'rep0_range_38.power_no_charge_t1.endclass.prob', 'rep0_range_38.power_no_charge_t1.endclass.expected_cost', 'rep0_range_38.power_no_charge_t1.endclass.in_bound', 'rep0_range_38.power_no_charge_t1.endclass.at_finish', 'rep0_range_38.power_no_charge_t1.endclass.line_dist', 'rep0_range_38.power_no_charge_t1.endclass.num_modes', 'rep0_range_38.power_no_charge_t1.endclass.end_dist', 'rep0_range_38.power_no_charge_t1.endclass.tot_deviation', 'rep0_range_38.power_no_charge_t1.endclass.faults', 'rep0_range_38.power_no_charge_t1.endclass.classification', 'rep0_range_38.power_no_charge_t1.endclass.end_x', 'rep0_range_38.power_no_charge_t1.endclass.end_y', 'rep0_range_38.power_no_charge_t1.endclass.endpt', 'rep0_range_38.power_no_charge_t2.endclass.rate', 'rep0_range_38.power_no_charge_t2.endclass.cost', 'rep0_range_38.power_no_charge_t2.endclass.prob', 'rep0_range_38.power_no_charge_t2.endclass.expected_cost', 'rep0_range_38.power_no_charge_t2.endclass.in_bound', 'rep0_range_38.power_no_charge_t2.endclass.at_finish', 'rep0_range_38.power_no_charge_t2.endclass.line_dist', 'rep0_range_38.power_no_charge_t2.endclass.num_modes', 'rep0_range_38.power_no_charge_t2.endclass.end_dist', 'rep0_range_38.power_no_charge_t2.endclass.tot_deviation', 'rep0_range_38.power_no_charge_t2.endclass.faults', 'rep0_range_38.power_no_charge_t2.endclass.classification', 'rep0_range_38.power_no_charge_t2.endclass.end_x', 'rep0_range_38.power_no_charge_t2.endclass.end_y', 'rep0_range_38.power_no_charge_t2.endclass.endpt', 'rep0_range_38.power_short_t1.endclass.rate', 'rep0_range_38.power_short_t1.endclass.cost', 'rep0_range_38.power_short_t1.endclass.prob', 'rep0_range_38.power_short_t1.endclass.expected_cost', 'rep0_range_38.power_short_t1.endclass.in_bound', 'rep0_range_38.power_short_t1.endclass.at_finish', 'rep0_range_38.power_short_t1.endclass.line_dist', 'rep0_range_38.power_short_t1.endclass.num_modes', 'rep0_range_38.power_short_t1.endclass.end_dist', 'rep0_range_38.power_short_t1.endclass.tot_deviation', 'rep0_range_38.power_short_t1.endclass.faults', 'rep0_range_38.power_short_t1.endclass.classification', 'rep0_range_38.power_short_t1.endclass.end_x', 'rep0_range_38.power_short_t1.endclass.end_y', 'rep0_range_38.power_short_t1.endclass.endpt', 'rep0_range_38.power_short_t2.endclass.rate', 'rep0_range_38.power_short_t2.endclass.cost', 'rep0_range_38.power_short_t2.endclass.prob', 'rep0_range_38.power_short_t2.endclass.expected_cost', 'rep0_range_38.power_short_t2.endclass.in_bound', 'rep0_range_38.power_short_t2.endclass.at_finish', 'rep0_range_38.power_short_t2.endclass.line_dist', 'rep0_range_38.power_short_t2.endclass.num_modes', 'rep0_range_38.power_short_t2.endclass.end_dist', 'rep0_range_38.power_short_t2.endclass.tot_deviation', 'rep0_range_38.power_short_t2.endclass.faults', 'rep0_range_38.power_short_t2.endclass.classification', 'rep0_range_38.power_short_t2.endclass.end_x', 'rep0_range_38.power_short_t2.endclass.end_y', 'rep0_range_38.power_short_t2.endclass.endpt', 'rep0_range_38.nominal.endclass.rate', 'rep0_range_38.nominal.endclass.cost', 'rep0_range_38.nominal.endclass.prob', 'rep0_range_38.nominal.endclass.expected_cost', 'rep0_range_38.nominal.endclass.in_bound', 'rep0_range_38.nominal.endclass.at_finish', 'rep0_range_38.nominal.endclass.line_dist', 'rep0_range_38.nominal.endclass.num_modes', 'rep0_range_38.nominal.endclass.end_dist', 'rep0_range_38.nominal.endclass.tot_deviation', 'rep0_range_38.nominal.endclass.faults', 'rep0_range_38.nominal.endclass.classification', 'rep0_range_38.nominal.endclass.end_x', 'rep0_range_38.nominal.endclass.end_y', 'rep0_range_38.nominal.endclass.endpt', 'rep0_range_39.power_no_charge_t1.endclass.rate', 'rep0_range_39.power_no_charge_t1.endclass.cost', 'rep0_range_39.power_no_charge_t1.endclass.prob', 'rep0_range_39.power_no_charge_t1.endclass.expected_cost', 'rep0_range_39.power_no_charge_t1.endclass.in_bound', 'rep0_range_39.power_no_charge_t1.endclass.at_finish', 'rep0_range_39.power_no_charge_t1.endclass.line_dist', 'rep0_range_39.power_no_charge_t1.endclass.num_modes', 'rep0_range_39.power_no_charge_t1.endclass.end_dist', 'rep0_range_39.power_no_charge_t1.endclass.tot_deviation', 'rep0_range_39.power_no_charge_t1.endclass.faults', 'rep0_range_39.power_no_charge_t1.endclass.classification', 'rep0_range_39.power_no_charge_t1.endclass.end_x', 'rep0_range_39.power_no_charge_t1.endclass.end_y', 'rep0_range_39.power_no_charge_t1.endclass.endpt', 'rep0_range_39.power_no_charge_t2.endclass.rate', 'rep0_range_39.power_no_charge_t2.endclass.cost', 'rep0_range_39.power_no_charge_t2.endclass.prob', 'rep0_range_39.power_no_charge_t2.endclass.expected_cost', 'rep0_range_39.power_no_charge_t2.endclass.in_bound', 'rep0_range_39.power_no_charge_t2.endclass.at_finish', 'rep0_range_39.power_no_charge_t2.endclass.line_dist', 'rep0_range_39.power_no_charge_t2.endclass.num_modes', 'rep0_range_39.power_no_charge_t2.endclass.end_dist', 'rep0_range_39.power_no_charge_t2.endclass.tot_deviation', 'rep0_range_39.power_no_charge_t2.endclass.faults', 'rep0_range_39.power_no_charge_t2.endclass.classification', 'rep0_range_39.power_no_charge_t2.endclass.end_x', 'rep0_range_39.power_no_charge_t2.endclass.end_y', 'rep0_range_39.power_no_charge_t2.endclass.endpt', 'rep0_range_39.power_short_t1.endclass.rate', 'rep0_range_39.power_short_t1.endclass.cost', 'rep0_range_39.power_short_t1.endclass.prob', 'rep0_range_39.power_short_t1.endclass.expected_cost', 'rep0_range_39.power_short_t1.endclass.in_bound', 'rep0_range_39.power_short_t1.endclass.at_finish', 'rep0_range_39.power_short_t1.endclass.line_dist', 'rep0_range_39.power_short_t1.endclass.num_modes', 'rep0_range_39.power_short_t1.endclass.end_dist', 'rep0_range_39.power_short_t1.endclass.tot_deviation', 'rep0_range_39.power_short_t1.endclass.faults', 'rep0_range_39.power_short_t1.endclass.classification', 'rep0_range_39.power_short_t1.endclass.end_x', 'rep0_range_39.power_short_t1.endclass.end_y', 'rep0_range_39.power_short_t1.endclass.endpt', 'rep0_range_39.power_short_t2.endclass.rate', 'rep0_range_39.power_short_t2.endclass.cost', 'rep0_range_39.power_short_t2.endclass.prob', 'rep0_range_39.power_short_t2.endclass.expected_cost', 'rep0_range_39.power_short_t2.endclass.in_bound', 'rep0_range_39.power_short_t2.endclass.at_finish', 'rep0_range_39.power_short_t2.endclass.line_dist', 'rep0_range_39.power_short_t2.endclass.num_modes', 'rep0_range_39.power_short_t2.endclass.end_dist', 'rep0_range_39.power_short_t2.endclass.tot_deviation', 'rep0_range_39.power_short_t2.endclass.faults', 'rep0_range_39.power_short_t2.endclass.classification', 'rep0_range_39.power_short_t2.endclass.end_x', 'rep0_range_39.power_short_t2.endclass.end_y', 'rep0_range_39.power_short_t2.endclass.endpt', 'rep0_range_39.nominal.endclass.rate', 'rep0_range_39.nominal.endclass.cost', 'rep0_range_39.nominal.endclass.prob', 'rep0_range_39.nominal.endclass.expected_cost', 'rep0_range_39.nominal.endclass.in_bound', 'rep0_range_39.nominal.endclass.at_finish', 'rep0_range_39.nominal.endclass.line_dist', 'rep0_range_39.nominal.endclass.num_modes', 'rep0_range_39.nominal.endclass.end_dist', 'rep0_range_39.nominal.endclass.tot_deviation', 'rep0_range_39.nominal.endclass.faults', 'rep0_range_39.nominal.endclass.classification', 'rep0_range_39.nominal.endclass.end_x', 'rep0_range_39.nominal.endclass.end_y', 'rep0_range_39.nominal.endclass.endpt', 'rep0_range_40.power_no_charge_t1.endclass.rate', 'rep0_range_40.power_no_charge_t1.endclass.cost', 'rep0_range_40.power_no_charge_t1.endclass.prob', 'rep0_range_40.power_no_charge_t1.endclass.expected_cost', 'rep0_range_40.power_no_charge_t1.endclass.in_bound', 'rep0_range_40.power_no_charge_t1.endclass.at_finish', 'rep0_range_40.power_no_charge_t1.endclass.line_dist', 'rep0_range_40.power_no_charge_t1.endclass.num_modes', 'rep0_range_40.power_no_charge_t1.endclass.end_dist', 'rep0_range_40.power_no_charge_t1.endclass.tot_deviation', 'rep0_range_40.power_no_charge_t1.endclass.faults', 'rep0_range_40.power_no_charge_t1.endclass.classification', 'rep0_range_40.power_no_charge_t1.endclass.end_x', 'rep0_range_40.power_no_charge_t1.endclass.end_y', 'rep0_range_40.power_no_charge_t1.endclass.endpt', 'rep0_range_40.power_no_charge_t2.endclass.rate', 'rep0_range_40.power_no_charge_t2.endclass.cost', 'rep0_range_40.power_no_charge_t2.endclass.prob', 'rep0_range_40.power_no_charge_t2.endclass.expected_cost', 'rep0_range_40.power_no_charge_t2.endclass.in_bound', 'rep0_range_40.power_no_charge_t2.endclass.at_finish', 'rep0_range_40.power_no_charge_t2.endclass.line_dist', 'rep0_range_40.power_no_charge_t2.endclass.num_modes', 'rep0_range_40.power_no_charge_t2.endclass.end_dist', 'rep0_range_40.power_no_charge_t2.endclass.tot_deviation', 'rep0_range_40.power_no_charge_t2.endclass.faults', 'rep0_range_40.power_no_charge_t2.endclass.classification', 'rep0_range_40.power_no_charge_t2.endclass.end_x', 'rep0_range_40.power_no_charge_t2.endclass.end_y', 'rep0_range_40.power_no_charge_t2.endclass.endpt', 'rep0_range_40.power_short_t1.endclass.rate', 'rep0_range_40.power_short_t1.endclass.cost', 'rep0_range_40.power_short_t1.endclass.prob', 'rep0_range_40.power_short_t1.endclass.expected_cost', 'rep0_range_40.power_short_t1.endclass.in_bound', 'rep0_range_40.power_short_t1.endclass.at_finish', 'rep0_range_40.power_short_t1.endclass.line_dist', 'rep0_range_40.power_short_t1.endclass.num_modes', 'rep0_range_40.power_short_t1.endclass.end_dist', 'rep0_range_40.power_short_t1.endclass.tot_deviation', 'rep0_range_40.power_short_t1.endclass.faults', 'rep0_range_40.power_short_t1.endclass.classification', 'rep0_range_40.power_short_t1.endclass.end_x', 'rep0_range_40.power_short_t1.endclass.end_y', 'rep0_range_40.power_short_t1.endclass.endpt', 'rep0_range_40.power_short_t2.endclass.rate', 'rep0_range_40.power_short_t2.endclass.cost', 'rep0_range_40.power_short_t2.endclass.prob', 'rep0_range_40.power_short_t2.endclass.expected_cost', 'rep0_range_40.power_short_t2.endclass.in_bound', 'rep0_range_40.power_short_t2.endclass.at_finish', 'rep0_range_40.power_short_t2.endclass.line_dist', 'rep0_range_40.power_short_t2.endclass.num_modes', 'rep0_range_40.power_short_t2.endclass.end_dist', 'rep0_range_40.power_short_t2.endclass.tot_deviation', 'rep0_range_40.power_short_t2.endclass.faults', 'rep0_range_40.power_short_t2.endclass.classification', 'rep0_range_40.power_short_t2.endclass.end_x', 'rep0_range_40.power_short_t2.endclass.end_y', 'rep0_range_40.power_short_t2.endclass.endpt', 'rep0_range_40.nominal.endclass.rate', 'rep0_range_40.nominal.endclass.cost', 'rep0_range_40.nominal.endclass.prob', 'rep0_range_40.nominal.endclass.expected_cost', 'rep0_range_40.nominal.endclass.in_bound', 'rep0_range_40.nominal.endclass.at_finish', 'rep0_range_40.nominal.endclass.line_dist', 'rep0_range_40.nominal.endclass.num_modes', 'rep0_range_40.nominal.endclass.end_dist', 'rep0_range_40.nominal.endclass.tot_deviation', 'rep0_range_40.nominal.endclass.faults', 'rep0_range_40.nominal.endclass.classification', 'rep0_range_40.nominal.endclass.end_x', 'rep0_range_40.nominal.endclass.end_y', 'rep0_range_40.nominal.endclass.endpt', 'rep0_range_41.power_no_charge_t1.endclass.rate', 'rep0_range_41.power_no_charge_t1.endclass.cost', 'rep0_range_41.power_no_charge_t1.endclass.prob', 'rep0_range_41.power_no_charge_t1.endclass.expected_cost', 'rep0_range_41.power_no_charge_t1.endclass.in_bound', 'rep0_range_41.power_no_charge_t1.endclass.at_finish', 'rep0_range_41.power_no_charge_t1.endclass.line_dist', 'rep0_range_41.power_no_charge_t1.endclass.num_modes', 'rep0_range_41.power_no_charge_t1.endclass.end_dist', 'rep0_range_41.power_no_charge_t1.endclass.tot_deviation', 'rep0_range_41.power_no_charge_t1.endclass.faults', 'rep0_range_41.power_no_charge_t1.endclass.classification', 'rep0_range_41.power_no_charge_t1.endclass.end_x', 'rep0_range_41.power_no_charge_t1.endclass.end_y', 'rep0_range_41.power_no_charge_t1.endclass.endpt', 'rep0_range_41.power_no_charge_t2.endclass.rate', 'rep0_range_41.power_no_charge_t2.endclass.cost', 'rep0_range_41.power_no_charge_t2.endclass.prob', 'rep0_range_41.power_no_charge_t2.endclass.expected_cost', 'rep0_range_41.power_no_charge_t2.endclass.in_bound', 'rep0_range_41.power_no_charge_t2.endclass.at_finish', 'rep0_range_41.power_no_charge_t2.endclass.line_dist', 'rep0_range_41.power_no_charge_t2.endclass.num_modes', 'rep0_range_41.power_no_charge_t2.endclass.end_dist', 'rep0_range_41.power_no_charge_t2.endclass.tot_deviation', 'rep0_range_41.power_no_charge_t2.endclass.faults', 'rep0_range_41.power_no_charge_t2.endclass.classification', 'rep0_range_41.power_no_charge_t2.endclass.end_x', 'rep0_range_41.power_no_charge_t2.endclass.end_y', 'rep0_range_41.power_no_charge_t2.endclass.endpt', 'rep0_range_41.power_short_t1.endclass.rate', 'rep0_range_41.power_short_t1.endclass.cost', 'rep0_range_41.power_short_t1.endclass.prob', 'rep0_range_41.power_short_t1.endclass.expected_cost', 'rep0_range_41.power_short_t1.endclass.in_bound', 'rep0_range_41.power_short_t1.endclass.at_finish', 'rep0_range_41.power_short_t1.endclass.line_dist', 'rep0_range_41.power_short_t1.endclass.num_modes', 'rep0_range_41.power_short_t1.endclass.end_dist', 'rep0_range_41.power_short_t1.endclass.tot_deviation', 'rep0_range_41.power_short_t1.endclass.faults', 'rep0_range_41.power_short_t1.endclass.classification', 'rep0_range_41.power_short_t1.endclass.end_x', 'rep0_range_41.power_short_t1.endclass.end_y', 'rep0_range_41.power_short_t1.endclass.endpt', 'rep0_range_41.power_short_t2.endclass.rate', 'rep0_range_41.power_short_t2.endclass.cost', 'rep0_range_41.power_short_t2.endclass.prob', 'rep0_range_41.power_short_t2.endclass.expected_cost', 'rep0_range_41.power_short_t2.endclass.in_bound', 'rep0_range_41.power_short_t2.endclass.at_finish', 'rep0_range_41.power_short_t2.endclass.line_dist', 'rep0_range_41.power_short_t2.endclass.num_modes', 'rep0_range_41.power_short_t2.endclass.end_dist', 'rep0_range_41.power_short_t2.endclass.tot_deviation', 'rep0_range_41.power_short_t2.endclass.faults', 'rep0_range_41.power_short_t2.endclass.classification', 'rep0_range_41.power_short_t2.endclass.end_x', 'rep0_range_41.power_short_t2.endclass.end_y', 'rep0_range_41.power_short_t2.endclass.endpt', 'rep0_range_41.nominal.endclass.rate', 'rep0_range_41.nominal.endclass.cost', 'rep0_range_41.nominal.endclass.prob', 'rep0_range_41.nominal.endclass.expected_cost', 'rep0_range_41.nominal.endclass.in_bound', 'rep0_range_41.nominal.endclass.at_finish', 'rep0_range_41.nominal.endclass.line_dist', 'rep0_range_41.nominal.endclass.num_modes', 'rep0_range_41.nominal.endclass.end_dist', 'rep0_range_41.nominal.endclass.tot_deviation', 'rep0_range_41.nominal.endclass.faults', 'rep0_range_41.nominal.endclass.classification', 'rep0_range_41.nominal.endclass.end_x', 'rep0_range_41.nominal.endclass.end_y', 'rep0_range_41.nominal.endclass.endpt', 'rep0_range_42.power_no_charge_t1.endclass.rate', 'rep0_range_42.power_no_charge_t1.endclass.cost', 'rep0_range_42.power_no_charge_t1.endclass.prob', 'rep0_range_42.power_no_charge_t1.endclass.expected_cost', 'rep0_range_42.power_no_charge_t1.endclass.in_bound', 'rep0_range_42.power_no_charge_t1.endclass.at_finish', 'rep0_range_42.power_no_charge_t1.endclass.line_dist', 'rep0_range_42.power_no_charge_t1.endclass.num_modes', 'rep0_range_42.power_no_charge_t1.endclass.end_dist', 'rep0_range_42.power_no_charge_t1.endclass.tot_deviation', 'rep0_range_42.power_no_charge_t1.endclass.faults', 'rep0_range_42.power_no_charge_t1.endclass.classification', 'rep0_range_42.power_no_charge_t1.endclass.end_x', 'rep0_range_42.power_no_charge_t1.endclass.end_y', 'rep0_range_42.power_no_charge_t1.endclass.endpt', 'rep0_range_42.power_no_charge_t2.endclass.rate', 'rep0_range_42.power_no_charge_t2.endclass.cost', 'rep0_range_42.power_no_charge_t2.endclass.prob', 'rep0_range_42.power_no_charge_t2.endclass.expected_cost', 'rep0_range_42.power_no_charge_t2.endclass.in_bound', 'rep0_range_42.power_no_charge_t2.endclass.at_finish', 'rep0_range_42.power_no_charge_t2.endclass.line_dist', 'rep0_range_42.power_no_charge_t2.endclass.num_modes', 'rep0_range_42.power_no_charge_t2.endclass.end_dist', 'rep0_range_42.power_no_charge_t2.endclass.tot_deviation', 'rep0_range_42.power_no_charge_t2.endclass.faults', 'rep0_range_42.power_no_charge_t2.endclass.classification', 'rep0_range_42.power_no_charge_t2.endclass.end_x', 'rep0_range_42.power_no_charge_t2.endclass.end_y', 'rep0_range_42.power_no_charge_t2.endclass.endpt', 'rep0_range_42.power_short_t1.endclass.rate', 'rep0_range_42.power_short_t1.endclass.cost', 'rep0_range_42.power_short_t1.endclass.prob', 'rep0_range_42.power_short_t1.endclass.expected_cost', 'rep0_range_42.power_short_t1.endclass.in_bound', 'rep0_range_42.power_short_t1.endclass.at_finish', 'rep0_range_42.power_short_t1.endclass.line_dist', 'rep0_range_42.power_short_t1.endclass.num_modes', 'rep0_range_42.power_short_t1.endclass.end_dist', 'rep0_range_42.power_short_t1.endclass.tot_deviation', 'rep0_range_42.power_short_t1.endclass.faults', 'rep0_range_42.power_short_t1.endclass.classification', 'rep0_range_42.power_short_t1.endclass.end_x', 'rep0_range_42.power_short_t1.endclass.end_y', 'rep0_range_42.power_short_t1.endclass.endpt', 'rep0_range_42.power_short_t2.endclass.rate', 'rep0_range_42.power_short_t2.endclass.cost', 'rep0_range_42.power_short_t2.endclass.prob', 'rep0_range_42.power_short_t2.endclass.expected_cost', 'rep0_range_42.power_short_t2.endclass.in_bound', 'rep0_range_42.power_short_t2.endclass.at_finish', 'rep0_range_42.power_short_t2.endclass.line_dist', 'rep0_range_42.power_short_t2.endclass.num_modes', 'rep0_range_42.power_short_t2.endclass.end_dist', 'rep0_range_42.power_short_t2.endclass.tot_deviation', 'rep0_range_42.power_short_t2.endclass.faults', 'rep0_range_42.power_short_t2.endclass.classification', 'rep0_range_42.power_short_t2.endclass.end_x', 'rep0_range_42.power_short_t2.endclass.end_y', 'rep0_range_42.power_short_t2.endclass.endpt', 'rep0_range_42.nominal.endclass.rate', 'rep0_range_42.nominal.endclass.cost', 'rep0_range_42.nominal.endclass.prob', 'rep0_range_42.nominal.endclass.expected_cost', 'rep0_range_42.nominal.endclass.in_bound', 'rep0_range_42.nominal.endclass.at_finish', 'rep0_range_42.nominal.endclass.line_dist', 'rep0_range_42.nominal.endclass.num_modes', 'rep0_range_42.nominal.endclass.end_dist', 'rep0_range_42.nominal.endclass.tot_deviation', 'rep0_range_42.nominal.endclass.faults', 'rep0_range_42.nominal.endclass.classification', 'rep0_range_42.nominal.endclass.end_x', 'rep0_range_42.nominal.endclass.end_y', 'rep0_range_42.nominal.endclass.endpt', 'rep0_range_43.power_no_charge_t1.endclass.rate', 'rep0_range_43.power_no_charge_t1.endclass.cost', 'rep0_range_43.power_no_charge_t1.endclass.prob', 'rep0_range_43.power_no_charge_t1.endclass.expected_cost', 'rep0_range_43.power_no_charge_t1.endclass.in_bound', 'rep0_range_43.power_no_charge_t1.endclass.at_finish', 'rep0_range_43.power_no_charge_t1.endclass.line_dist', 'rep0_range_43.power_no_charge_t1.endclass.num_modes', 'rep0_range_43.power_no_charge_t1.endclass.end_dist', 'rep0_range_43.power_no_charge_t1.endclass.tot_deviation', 'rep0_range_43.power_no_charge_t1.endclass.faults', 'rep0_range_43.power_no_charge_t1.endclass.classification', 'rep0_range_43.power_no_charge_t1.endclass.end_x', 'rep0_range_43.power_no_charge_t1.endclass.end_y', 'rep0_range_43.power_no_charge_t1.endclass.endpt', 'rep0_range_43.power_no_charge_t2.endclass.rate', 'rep0_range_43.power_no_charge_t2.endclass.cost', 'rep0_range_43.power_no_charge_t2.endclass.prob', 'rep0_range_43.power_no_charge_t2.endclass.expected_cost', 'rep0_range_43.power_no_charge_t2.endclass.in_bound', 'rep0_range_43.power_no_charge_t2.endclass.at_finish', 'rep0_range_43.power_no_charge_t2.endclass.line_dist', 'rep0_range_43.power_no_charge_t2.endclass.num_modes', 'rep0_range_43.power_no_charge_t2.endclass.end_dist', 'rep0_range_43.power_no_charge_t2.endclass.tot_deviation', 'rep0_range_43.power_no_charge_t2.endclass.faults', 'rep0_range_43.power_no_charge_t2.endclass.classification', 'rep0_range_43.power_no_charge_t2.endclass.end_x', 'rep0_range_43.power_no_charge_t2.endclass.end_y', 'rep0_range_43.power_no_charge_t2.endclass.endpt', 'rep0_range_43.power_short_t1.endclass.rate', 'rep0_range_43.power_short_t1.endclass.cost', 'rep0_range_43.power_short_t1.endclass.prob', 'rep0_range_43.power_short_t1.endclass.expected_cost', 'rep0_range_43.power_short_t1.endclass.in_bound', 'rep0_range_43.power_short_t1.endclass.at_finish', 'rep0_range_43.power_short_t1.endclass.line_dist', 'rep0_range_43.power_short_t1.endclass.num_modes', 'rep0_range_43.power_short_t1.endclass.end_dist', 'rep0_range_43.power_short_t1.endclass.tot_deviation', 'rep0_range_43.power_short_t1.endclass.faults', 'rep0_range_43.power_short_t1.endclass.classification', 'rep0_range_43.power_short_t1.endclass.end_x', 'rep0_range_43.power_short_t1.endclass.end_y', 'rep0_range_43.power_short_t1.endclass.endpt', 'rep0_range_43.power_short_t2.endclass.rate', 'rep0_range_43.power_short_t2.endclass.cost', 'rep0_range_43.power_short_t2.endclass.prob', 'rep0_range_43.power_short_t2.endclass.expected_cost', 'rep0_range_43.power_short_t2.endclass.in_bound', 'rep0_range_43.power_short_t2.endclass.at_finish', 'rep0_range_43.power_short_t2.endclass.line_dist', 'rep0_range_43.power_short_t2.endclass.num_modes', 'rep0_range_43.power_short_t2.endclass.end_dist', 'rep0_range_43.power_short_t2.endclass.tot_deviation', 'rep0_range_43.power_short_t2.endclass.faults', 'rep0_range_43.power_short_t2.endclass.classification', 'rep0_range_43.power_short_t2.endclass.end_x', 'rep0_range_43.power_short_t2.endclass.end_y', 'rep0_range_43.power_short_t2.endclass.endpt', 'rep0_range_43.nominal.endclass.rate', 'rep0_range_43.nominal.endclass.cost', 'rep0_range_43.nominal.endclass.prob', 'rep0_range_43.nominal.endclass.expected_cost', 'rep0_range_43.nominal.endclass.in_bound', 'rep0_range_43.nominal.endclass.at_finish', 'rep0_range_43.nominal.endclass.line_dist', 'rep0_range_43.nominal.endclass.num_modes', 'rep0_range_43.nominal.endclass.end_dist', 'rep0_range_43.nominal.endclass.tot_deviation', 'rep0_range_43.nominal.endclass.faults', 'rep0_range_43.nominal.endclass.classification', 'rep0_range_43.nominal.endclass.end_x', 'rep0_range_43.nominal.endclass.end_y', 'rep0_range_43.nominal.endclass.endpt', 'rep0_range_44.power_no_charge_t1.endclass.rate', 'rep0_range_44.power_no_charge_t1.endclass.cost', 'rep0_range_44.power_no_charge_t1.endclass.prob', 'rep0_range_44.power_no_charge_t1.endclass.expected_cost', 'rep0_range_44.power_no_charge_t1.endclass.in_bound', 'rep0_range_44.power_no_charge_t1.endclass.at_finish', 'rep0_range_44.power_no_charge_t1.endclass.line_dist', 'rep0_range_44.power_no_charge_t1.endclass.num_modes', 'rep0_range_44.power_no_charge_t1.endclass.end_dist', 'rep0_range_44.power_no_charge_t1.endclass.tot_deviation', 'rep0_range_44.power_no_charge_t1.endclass.faults', 'rep0_range_44.power_no_charge_t1.endclass.classification', 'rep0_range_44.power_no_charge_t1.endclass.end_x', 'rep0_range_44.power_no_charge_t1.endclass.end_y', 'rep0_range_44.power_no_charge_t1.endclass.endpt', 'rep0_range_44.power_no_charge_t2.endclass.rate', 'rep0_range_44.power_no_charge_t2.endclass.cost', 'rep0_range_44.power_no_charge_t2.endclass.prob', 'rep0_range_44.power_no_charge_t2.endclass.expected_cost', 'rep0_range_44.power_no_charge_t2.endclass.in_bound', 'rep0_range_44.power_no_charge_t2.endclass.at_finish', 'rep0_range_44.power_no_charge_t2.endclass.line_dist', 'rep0_range_44.power_no_charge_t2.endclass.num_modes', 'rep0_range_44.power_no_charge_t2.endclass.end_dist', 'rep0_range_44.power_no_charge_t2.endclass.tot_deviation', 'rep0_range_44.power_no_charge_t2.endclass.faults', 'rep0_range_44.power_no_charge_t2.endclass.classification', 'rep0_range_44.power_no_charge_t2.endclass.end_x', 'rep0_range_44.power_no_charge_t2.endclass.end_y', 'rep0_range_44.power_no_charge_t2.endclass.endpt', 'rep0_range_44.power_short_t1.endclass.rate', 'rep0_range_44.power_short_t1.endclass.cost', 'rep0_range_44.power_short_t1.endclass.prob', 'rep0_range_44.power_short_t1.endclass.expected_cost', 'rep0_range_44.power_short_t1.endclass.in_bound', 'rep0_range_44.power_short_t1.endclass.at_finish', 'rep0_range_44.power_short_t1.endclass.line_dist', 'rep0_range_44.power_short_t1.endclass.num_modes', 'rep0_range_44.power_short_t1.endclass.end_dist', 'rep0_range_44.power_short_t1.endclass.tot_deviation', 'rep0_range_44.power_short_t1.endclass.faults', 'rep0_range_44.power_short_t1.endclass.classification', 'rep0_range_44.power_short_t1.endclass.end_x', 'rep0_range_44.power_short_t1.endclass.end_y', 'rep0_range_44.power_short_t1.endclass.endpt', 'rep0_range_44.power_short_t2.endclass.rate', 'rep0_range_44.power_short_t2.endclass.cost', 'rep0_range_44.power_short_t2.endclass.prob', 'rep0_range_44.power_short_t2.endclass.expected_cost', 'rep0_range_44.power_short_t2.endclass.in_bound', 'rep0_range_44.power_short_t2.endclass.at_finish', 'rep0_range_44.power_short_t2.endclass.line_dist', 'rep0_range_44.power_short_t2.endclass.num_modes', 'rep0_range_44.power_short_t2.endclass.end_dist', 'rep0_range_44.power_short_t2.endclass.tot_deviation', 'rep0_range_44.power_short_t2.endclass.faults', 'rep0_range_44.power_short_t2.endclass.classification', 'rep0_range_44.power_short_t2.endclass.end_x', 'rep0_range_44.power_short_t2.endclass.end_y', 'rep0_range_44.power_short_t2.endclass.endpt', 'rep0_range_44.nominal.endclass.rate', 'rep0_range_44.nominal.endclass.cost', 'rep0_range_44.nominal.endclass.prob', 'rep0_range_44.nominal.endclass.expected_cost', 'rep0_range_44.nominal.endclass.in_bound', 'rep0_range_44.nominal.endclass.at_finish', 'rep0_range_44.nominal.endclass.line_dist', 'rep0_range_44.nominal.endclass.num_modes', 'rep0_range_44.nominal.endclass.end_dist', 'rep0_range_44.nominal.endclass.tot_deviation', 'rep0_range_44.nominal.endclass.faults', 'rep0_range_44.nominal.endclass.classification', 'rep0_range_44.nominal.endclass.end_x', 'rep0_range_44.nominal.endclass.end_y', 'rep0_range_44.nominal.endclass.endpt', 'rep0_range_45.power_no_charge_t1.endclass.rate', 'rep0_range_45.power_no_charge_t1.endclass.cost', 'rep0_range_45.power_no_charge_t1.endclass.prob', 'rep0_range_45.power_no_charge_t1.endclass.expected_cost', 'rep0_range_45.power_no_charge_t1.endclass.in_bound', 'rep0_range_45.power_no_charge_t1.endclass.at_finish', 'rep0_range_45.power_no_charge_t1.endclass.line_dist', 'rep0_range_45.power_no_charge_t1.endclass.num_modes', 'rep0_range_45.power_no_charge_t1.endclass.end_dist', 'rep0_range_45.power_no_charge_t1.endclass.tot_deviation', 'rep0_range_45.power_no_charge_t1.endclass.faults', 'rep0_range_45.power_no_charge_t1.endclass.classification', 'rep0_range_45.power_no_charge_t1.endclass.end_x', 'rep0_range_45.power_no_charge_t1.endclass.end_y', 'rep0_range_45.power_no_charge_t1.endclass.endpt', 'rep0_range_45.power_no_charge_t2.endclass.rate', 'rep0_range_45.power_no_charge_t2.endclass.cost', 'rep0_range_45.power_no_charge_t2.endclass.prob', 'rep0_range_45.power_no_charge_t2.endclass.expected_cost', 'rep0_range_45.power_no_charge_t2.endclass.in_bound', 'rep0_range_45.power_no_charge_t2.endclass.at_finish', 'rep0_range_45.power_no_charge_t2.endclass.line_dist', 'rep0_range_45.power_no_charge_t2.endclass.num_modes', 'rep0_range_45.power_no_charge_t2.endclass.end_dist', 'rep0_range_45.power_no_charge_t2.endclass.tot_deviation', 'rep0_range_45.power_no_charge_t2.endclass.faults', 'rep0_range_45.power_no_charge_t2.endclass.classification', 'rep0_range_45.power_no_charge_t2.endclass.end_x', 'rep0_range_45.power_no_charge_t2.endclass.end_y', 'rep0_range_45.power_no_charge_t2.endclass.endpt', 'rep0_range_45.power_short_t1.endclass.rate', 'rep0_range_45.power_short_t1.endclass.cost', 'rep0_range_45.power_short_t1.endclass.prob', 'rep0_range_45.power_short_t1.endclass.expected_cost', 'rep0_range_45.power_short_t1.endclass.in_bound', 'rep0_range_45.power_short_t1.endclass.at_finish', 'rep0_range_45.power_short_t1.endclass.line_dist', 'rep0_range_45.power_short_t1.endclass.num_modes', 'rep0_range_45.power_short_t1.endclass.end_dist', 'rep0_range_45.power_short_t1.endclass.tot_deviation', 'rep0_range_45.power_short_t1.endclass.faults', 'rep0_range_45.power_short_t1.endclass.classification', 'rep0_range_45.power_short_t1.endclass.end_x', 'rep0_range_45.power_short_t1.endclass.end_y', 'rep0_range_45.power_short_t1.endclass.endpt', 'rep0_range_45.power_short_t2.endclass.rate', 'rep0_range_45.power_short_t2.endclass.cost', 'rep0_range_45.power_short_t2.endclass.prob', 'rep0_range_45.power_short_t2.endclass.expected_cost', 'rep0_range_45.power_short_t2.endclass.in_bound', 'rep0_range_45.power_short_t2.endclass.at_finish', 'rep0_range_45.power_short_t2.endclass.line_dist', 'rep0_range_45.power_short_t2.endclass.num_modes', 'rep0_range_45.power_short_t2.endclass.end_dist', 'rep0_range_45.power_short_t2.endclass.tot_deviation', 'rep0_range_45.power_short_t2.endclass.faults', 'rep0_range_45.power_short_t2.endclass.classification', 'rep0_range_45.power_short_t2.endclass.end_x', 'rep0_range_45.power_short_t2.endclass.end_y', 'rep0_range_45.power_short_t2.endclass.endpt', 'rep0_range_45.nominal.endclass.rate', 'rep0_range_45.nominal.endclass.cost', 'rep0_range_45.nominal.endclass.prob', 'rep0_range_45.nominal.endclass.expected_cost', 'rep0_range_45.nominal.endclass.in_bound', 'rep0_range_45.nominal.endclass.at_finish', 'rep0_range_45.nominal.endclass.line_dist', 'rep0_range_45.nominal.endclass.num_modes', 'rep0_range_45.nominal.endclass.end_dist', 'rep0_range_45.nominal.endclass.tot_deviation', 'rep0_range_45.nominal.endclass.faults', 'rep0_range_45.nominal.endclass.classification', 'rep0_range_45.nominal.endclass.end_x', 'rep0_range_45.nominal.endclass.end_y', 'rep0_range_45.nominal.endclass.endpt', 'rep0_range_46.power_no_charge_t1.endclass.rate', 'rep0_range_46.power_no_charge_t1.endclass.cost', 'rep0_range_46.power_no_charge_t1.endclass.prob', 'rep0_range_46.power_no_charge_t1.endclass.expected_cost', 'rep0_range_46.power_no_charge_t1.endclass.in_bound', 'rep0_range_46.power_no_charge_t1.endclass.at_finish', 'rep0_range_46.power_no_charge_t1.endclass.line_dist', 'rep0_range_46.power_no_charge_t1.endclass.num_modes', 'rep0_range_46.power_no_charge_t1.endclass.end_dist', 'rep0_range_46.power_no_charge_t1.endclass.tot_deviation', 'rep0_range_46.power_no_charge_t1.endclass.faults', 'rep0_range_46.power_no_charge_t1.endclass.classification', 'rep0_range_46.power_no_charge_t1.endclass.end_x', 'rep0_range_46.power_no_charge_t1.endclass.end_y', 'rep0_range_46.power_no_charge_t1.endclass.endpt', 'rep0_range_46.power_no_charge_t2.endclass.rate', 'rep0_range_46.power_no_charge_t2.endclass.cost', 'rep0_range_46.power_no_charge_t2.endclass.prob', 'rep0_range_46.power_no_charge_t2.endclass.expected_cost', 'rep0_range_46.power_no_charge_t2.endclass.in_bound', 'rep0_range_46.power_no_charge_t2.endclass.at_finish', 'rep0_range_46.power_no_charge_t2.endclass.line_dist', 'rep0_range_46.power_no_charge_t2.endclass.num_modes', 'rep0_range_46.power_no_charge_t2.endclass.end_dist', 'rep0_range_46.power_no_charge_t2.endclass.tot_deviation', 'rep0_range_46.power_no_charge_t2.endclass.faults', 'rep0_range_46.power_no_charge_t2.endclass.classification', 'rep0_range_46.power_no_charge_t2.endclass.end_x', 'rep0_range_46.power_no_charge_t2.endclass.end_y', 'rep0_range_46.power_no_charge_t2.endclass.endpt', 'rep0_range_46.power_short_t1.endclass.rate', 'rep0_range_46.power_short_t1.endclass.cost', 'rep0_range_46.power_short_t1.endclass.prob', 'rep0_range_46.power_short_t1.endclass.expected_cost', 'rep0_range_46.power_short_t1.endclass.in_bound', 'rep0_range_46.power_short_t1.endclass.at_finish', 'rep0_range_46.power_short_t1.endclass.line_dist', 'rep0_range_46.power_short_t1.endclass.num_modes', 'rep0_range_46.power_short_t1.endclass.end_dist', 'rep0_range_46.power_short_t1.endclass.tot_deviation', 'rep0_range_46.power_short_t1.endclass.faults', 'rep0_range_46.power_short_t1.endclass.classification', 'rep0_range_46.power_short_t1.endclass.end_x', 'rep0_range_46.power_short_t1.endclass.end_y', 'rep0_range_46.power_short_t1.endclass.endpt', 'rep0_range_46.power_short_t2.endclass.rate', 'rep0_range_46.power_short_t2.endclass.cost', 'rep0_range_46.power_short_t2.endclass.prob', 'rep0_range_46.power_short_t2.endclass.expected_cost', 'rep0_range_46.power_short_t2.endclass.in_bound', 'rep0_range_46.power_short_t2.endclass.at_finish', 'rep0_range_46.power_short_t2.endclass.line_dist', 'rep0_range_46.power_short_t2.endclass.num_modes', 'rep0_range_46.power_short_t2.endclass.end_dist', 'rep0_range_46.power_short_t2.endclass.tot_deviation', 'rep0_range_46.power_short_t2.endclass.faults', 'rep0_range_46.power_short_t2.endclass.classification', 'rep0_range_46.power_short_t2.endclass.end_x', 'rep0_range_46.power_short_t2.endclass.end_y', 'rep0_range_46.power_short_t2.endclass.endpt', 'rep0_range_46.nominal.endclass.rate', 'rep0_range_46.nominal.endclass.cost', 'rep0_range_46.nominal.endclass.prob', 'rep0_range_46.nominal.endclass.expected_cost', 'rep0_range_46.nominal.endclass.in_bound', 'rep0_range_46.nominal.endclass.at_finish', 'rep0_range_46.nominal.endclass.line_dist', 'rep0_range_46.nominal.endclass.num_modes', 'rep0_range_46.nominal.endclass.end_dist', 'rep0_range_46.nominal.endclass.tot_deviation', 'rep0_range_46.nominal.endclass.faults', 'rep0_range_46.nominal.endclass.classification', 'rep0_range_46.nominal.endclass.end_x', 'rep0_range_46.nominal.endclass.end_y', 'rep0_range_46.nominal.endclass.endpt', 'rep0_range_47.power_no_charge_t1.endclass.rate', 'rep0_range_47.power_no_charge_t1.endclass.cost', 'rep0_range_47.power_no_charge_t1.endclass.prob', 'rep0_range_47.power_no_charge_t1.endclass.expected_cost', 'rep0_range_47.power_no_charge_t1.endclass.in_bound', 'rep0_range_47.power_no_charge_t1.endclass.at_finish', 'rep0_range_47.power_no_charge_t1.endclass.line_dist', 'rep0_range_47.power_no_charge_t1.endclass.num_modes', 'rep0_range_47.power_no_charge_t1.endclass.end_dist', 'rep0_range_47.power_no_charge_t1.endclass.tot_deviation', 'rep0_range_47.power_no_charge_t1.endclass.faults', 'rep0_range_47.power_no_charge_t1.endclass.classification', 'rep0_range_47.power_no_charge_t1.endclass.end_x', 'rep0_range_47.power_no_charge_t1.endclass.end_y', 'rep0_range_47.power_no_charge_t1.endclass.endpt', 'rep0_range_47.power_no_charge_t2.endclass.rate', 'rep0_range_47.power_no_charge_t2.endclass.cost', 'rep0_range_47.power_no_charge_t2.endclass.prob', 'rep0_range_47.power_no_charge_t2.endclass.expected_cost', 'rep0_range_47.power_no_charge_t2.endclass.in_bound', 'rep0_range_47.power_no_charge_t2.endclass.at_finish', 'rep0_range_47.power_no_charge_t2.endclass.line_dist', 'rep0_range_47.power_no_charge_t2.endclass.num_modes', 'rep0_range_47.power_no_charge_t2.endclass.end_dist', 'rep0_range_47.power_no_charge_t2.endclass.tot_deviation', 'rep0_range_47.power_no_charge_t2.endclass.faults', 'rep0_range_47.power_no_charge_t2.endclass.classification', 'rep0_range_47.power_no_charge_t2.endclass.end_x', 'rep0_range_47.power_no_charge_t2.endclass.end_y', 'rep0_range_47.power_no_charge_t2.endclass.endpt', 'rep0_range_47.power_short_t1.endclass.rate', 'rep0_range_47.power_short_t1.endclass.cost', 'rep0_range_47.power_short_t1.endclass.prob', 'rep0_range_47.power_short_t1.endclass.expected_cost', 'rep0_range_47.power_short_t1.endclass.in_bound', 'rep0_range_47.power_short_t1.endclass.at_finish', 'rep0_range_47.power_short_t1.endclass.line_dist', 'rep0_range_47.power_short_t1.endclass.num_modes', 'rep0_range_47.power_short_t1.endclass.end_dist', 'rep0_range_47.power_short_t1.endclass.tot_deviation', 'rep0_range_47.power_short_t1.endclass.faults', 'rep0_range_47.power_short_t1.endclass.classification', 'rep0_range_47.power_short_t1.endclass.end_x', 'rep0_range_47.power_short_t1.endclass.end_y', 'rep0_range_47.power_short_t1.endclass.endpt', 'rep0_range_47.power_short_t2.endclass.rate', 'rep0_range_47.power_short_t2.endclass.cost', 'rep0_range_47.power_short_t2.endclass.prob', 'rep0_range_47.power_short_t2.endclass.expected_cost', 'rep0_range_47.power_short_t2.endclass.in_bound', 'rep0_range_47.power_short_t2.endclass.at_finish', 'rep0_range_47.power_short_t2.endclass.line_dist', 'rep0_range_47.power_short_t2.endclass.num_modes', 'rep0_range_47.power_short_t2.endclass.end_dist', 'rep0_range_47.power_short_t2.endclass.tot_deviation', 'rep0_range_47.power_short_t2.endclass.faults', 'rep0_range_47.power_short_t2.endclass.classification', 'rep0_range_47.power_short_t2.endclass.end_x', 'rep0_range_47.power_short_t2.endclass.end_y', 'rep0_range_47.power_short_t2.endclass.endpt', 'rep0_range_47.nominal.endclass.rate', 'rep0_range_47.nominal.endclass.cost', 'rep0_range_47.nominal.endclass.prob', 'rep0_range_47.nominal.endclass.expected_cost', 'rep0_range_47.nominal.endclass.in_bound', 'rep0_range_47.nominal.endclass.at_finish', 'rep0_range_47.nominal.endclass.line_dist', 'rep0_range_47.nominal.endclass.num_modes', 'rep0_range_47.nominal.endclass.end_dist', 'rep0_range_47.nominal.endclass.tot_deviation', 'rep0_range_47.nominal.endclass.faults', 'rep0_range_47.nominal.endclass.classification', 'rep0_range_47.nominal.endclass.end_x', 'rep0_range_47.nominal.endclass.end_y', 'rep0_range_47.nominal.endclass.endpt', 'rep0_range_48.power_no_charge_t1.endclass.rate', 'rep0_range_48.power_no_charge_t1.endclass.cost', 'rep0_range_48.power_no_charge_t1.endclass.prob', 'rep0_range_48.power_no_charge_t1.endclass.expected_cost', 'rep0_range_48.power_no_charge_t1.endclass.in_bound', 'rep0_range_48.power_no_charge_t1.endclass.at_finish', 'rep0_range_48.power_no_charge_t1.endclass.line_dist', 'rep0_range_48.power_no_charge_t1.endclass.num_modes', 'rep0_range_48.power_no_charge_t1.endclass.end_dist', 'rep0_range_48.power_no_charge_t1.endclass.tot_deviation', 'rep0_range_48.power_no_charge_t1.endclass.faults', 'rep0_range_48.power_no_charge_t1.endclass.classification', 'rep0_range_48.power_no_charge_t1.endclass.end_x', 'rep0_range_48.power_no_charge_t1.endclass.end_y', 'rep0_range_48.power_no_charge_t1.endclass.endpt', 'rep0_range_48.power_no_charge_t2.endclass.rate', 'rep0_range_48.power_no_charge_t2.endclass.cost', 'rep0_range_48.power_no_charge_t2.endclass.prob', 'rep0_range_48.power_no_charge_t2.endclass.expected_cost', 'rep0_range_48.power_no_charge_t2.endclass.in_bound', 'rep0_range_48.power_no_charge_t2.endclass.at_finish', 'rep0_range_48.power_no_charge_t2.endclass.line_dist', 'rep0_range_48.power_no_charge_t2.endclass.num_modes', 'rep0_range_48.power_no_charge_t2.endclass.end_dist', 'rep0_range_48.power_no_charge_t2.endclass.tot_deviation', 'rep0_range_48.power_no_charge_t2.endclass.faults', 'rep0_range_48.power_no_charge_t2.endclass.classification', 'rep0_range_48.power_no_charge_t2.endclass.end_x', 'rep0_range_48.power_no_charge_t2.endclass.end_y', 'rep0_range_48.power_no_charge_t2.endclass.endpt', 'rep0_range_48.power_short_t1.endclass.rate', 'rep0_range_48.power_short_t1.endclass.cost', 'rep0_range_48.power_short_t1.endclass.prob', 'rep0_range_48.power_short_t1.endclass.expected_cost', 'rep0_range_48.power_short_t1.endclass.in_bound', 'rep0_range_48.power_short_t1.endclass.at_finish', 'rep0_range_48.power_short_t1.endclass.line_dist', 'rep0_range_48.power_short_t1.endclass.num_modes', 'rep0_range_48.power_short_t1.endclass.end_dist', 'rep0_range_48.power_short_t1.endclass.tot_deviation', 'rep0_range_48.power_short_t1.endclass.faults', 'rep0_range_48.power_short_t1.endclass.classification', 'rep0_range_48.power_short_t1.endclass.end_x', 'rep0_range_48.power_short_t1.endclass.end_y', 'rep0_range_48.power_short_t1.endclass.endpt', 'rep0_range_48.power_short_t2.endclass.rate', 'rep0_range_48.power_short_t2.endclass.cost', 'rep0_range_48.power_short_t2.endclass.prob', 'rep0_range_48.power_short_t2.endclass.expected_cost', 'rep0_range_48.power_short_t2.endclass.in_bound', 'rep0_range_48.power_short_t2.endclass.at_finish', 'rep0_range_48.power_short_t2.endclass.line_dist', 'rep0_range_48.power_short_t2.endclass.num_modes', 'rep0_range_48.power_short_t2.endclass.end_dist', 'rep0_range_48.power_short_t2.endclass.tot_deviation', 'rep0_range_48.power_short_t2.endclass.faults', 'rep0_range_48.power_short_t2.endclass.classification', 'rep0_range_48.power_short_t2.endclass.end_x', 'rep0_range_48.power_short_t2.endclass.end_y', 'rep0_range_48.power_short_t2.endclass.endpt', 'rep0_range_48.nominal.endclass.rate', 'rep0_range_48.nominal.endclass.cost', 'rep0_range_48.nominal.endclass.prob', 'rep0_range_48.nominal.endclass.expected_cost', 'rep0_range_48.nominal.endclass.in_bound', 'rep0_range_48.nominal.endclass.at_finish', 'rep0_range_48.nominal.endclass.line_dist', 'rep0_range_48.nominal.endclass.num_modes', 'rep0_range_48.nominal.endclass.end_dist', 'rep0_range_48.nominal.endclass.tot_deviation', 'rep0_range_48.nominal.endclass.faults', 'rep0_range_48.nominal.endclass.classification', 'rep0_range_48.nominal.endclass.end_x', 'rep0_range_48.nominal.endclass.end_y', 'rep0_range_48.nominal.endclass.endpt', 'rep0_range_49.power_no_charge_t1.endclass.rate', 'rep0_range_49.power_no_charge_t1.endclass.cost', 'rep0_range_49.power_no_charge_t1.endclass.prob', 'rep0_range_49.power_no_charge_t1.endclass.expected_cost', 'rep0_range_49.power_no_charge_t1.endclass.in_bound', 'rep0_range_49.power_no_charge_t1.endclass.at_finish', 'rep0_range_49.power_no_charge_t1.endclass.line_dist', 'rep0_range_49.power_no_charge_t1.endclass.num_modes', 'rep0_range_49.power_no_charge_t1.endclass.end_dist', 'rep0_range_49.power_no_charge_t1.endclass.tot_deviation', 'rep0_range_49.power_no_charge_t1.endclass.faults', 'rep0_range_49.power_no_charge_t1.endclass.classification', 'rep0_range_49.power_no_charge_t1.endclass.end_x', 'rep0_range_49.power_no_charge_t1.endclass.end_y', 'rep0_range_49.power_no_charge_t1.endclass.endpt', 'rep0_range_49.power_no_charge_t2.endclass.rate', 'rep0_range_49.power_no_charge_t2.endclass.cost', 'rep0_range_49.power_no_charge_t2.endclass.prob', 'rep0_range_49.power_no_charge_t2.endclass.expected_cost', 'rep0_range_49.power_no_charge_t2.endclass.in_bound', 'rep0_range_49.power_no_charge_t2.endclass.at_finish', 'rep0_range_49.power_no_charge_t2.endclass.line_dist', 'rep0_range_49.power_no_charge_t2.endclass.num_modes', 'rep0_range_49.power_no_charge_t2.endclass.end_dist', 'rep0_range_49.power_no_charge_t2.endclass.tot_deviation', 'rep0_range_49.power_no_charge_t2.endclass.faults', 'rep0_range_49.power_no_charge_t2.endclass.classification', 'rep0_range_49.power_no_charge_t2.endclass.end_x', 'rep0_range_49.power_no_charge_t2.endclass.end_y', 'rep0_range_49.power_no_charge_t2.endclass.endpt', 'rep0_range_49.power_short_t1.endclass.rate', 'rep0_range_49.power_short_t1.endclass.cost', 'rep0_range_49.power_short_t1.endclass.prob', 'rep0_range_49.power_short_t1.endclass.expected_cost', 'rep0_range_49.power_short_t1.endclass.in_bound', 'rep0_range_49.power_short_t1.endclass.at_finish', 'rep0_range_49.power_short_t1.endclass.line_dist', 'rep0_range_49.power_short_t1.endclass.num_modes', 'rep0_range_49.power_short_t1.endclass.end_dist', 'rep0_range_49.power_short_t1.endclass.tot_deviation', 'rep0_range_49.power_short_t1.endclass.faults', 'rep0_range_49.power_short_t1.endclass.classification', 'rep0_range_49.power_short_t1.endclass.end_x', 'rep0_range_49.power_short_t1.endclass.end_y', 'rep0_range_49.power_short_t1.endclass.endpt', 'rep0_range_49.power_short_t2.endclass.rate', 'rep0_range_49.power_short_t2.endclass.cost', 'rep0_range_49.power_short_t2.endclass.prob', 'rep0_range_49.power_short_t2.endclass.expected_cost', 'rep0_range_49.power_short_t2.endclass.in_bound', 'rep0_range_49.power_short_t2.endclass.at_finish', 'rep0_range_49.power_short_t2.endclass.line_dist', 'rep0_range_49.power_short_t2.endclass.num_modes', 'rep0_range_49.power_short_t2.endclass.end_dist', 'rep0_range_49.power_short_t2.endclass.tot_deviation', 'rep0_range_49.power_short_t2.endclass.faults', 'rep0_range_49.power_short_t2.endclass.classification', 'rep0_range_49.power_short_t2.endclass.end_x', 'rep0_range_49.power_short_t2.endclass.end_y', 'rep0_range_49.power_short_t2.endclass.endpt', 'rep0_range_49.nominal.endclass.rate', 'rep0_range_49.nominal.endclass.cost', 'rep0_range_49.nominal.endclass.prob', 'rep0_range_49.nominal.endclass.expected_cost', 'rep0_range_49.nominal.endclass.in_bound', 'rep0_range_49.nominal.endclass.at_finish', 'rep0_range_49.nominal.endclass.line_dist', 'rep0_range_49.nominal.endclass.num_modes', 'rep0_range_49.nominal.endclass.end_dist', 'rep0_range_49.nominal.endclass.tot_deviation', 'rep0_range_49.nominal.endclass.faults', 'rep0_range_49.nominal.endclass.classification', 'rep0_range_49.nominal.endclass.end_x', 'rep0_range_49.nominal.endclass.end_y', 'rep0_range_49.nominal.endclass.endpt', 'rep0_range_50.power_no_charge_t1.endclass.rate', 'rep0_range_50.power_no_charge_t1.endclass.cost', 'rep0_range_50.power_no_charge_t1.endclass.prob', 'rep0_range_50.power_no_charge_t1.endclass.expected_cost', 'rep0_range_50.power_no_charge_t1.endclass.in_bound', 'rep0_range_50.power_no_charge_t1.endclass.at_finish', 'rep0_range_50.power_no_charge_t1.endclass.line_dist', 'rep0_range_50.power_no_charge_t1.endclass.num_modes', 'rep0_range_50.power_no_charge_t1.endclass.end_dist', 'rep0_range_50.power_no_charge_t1.endclass.tot_deviation', 'rep0_range_50.power_no_charge_t1.endclass.faults', 'rep0_range_50.power_no_charge_t1.endclass.classification', 'rep0_range_50.power_no_charge_t1.endclass.end_x', 'rep0_range_50.power_no_charge_t1.endclass.end_y', 'rep0_range_50.power_no_charge_t1.endclass.endpt', 'rep0_range_50.power_no_charge_t2.endclass.rate', 'rep0_range_50.power_no_charge_t2.endclass.cost', 'rep0_range_50.power_no_charge_t2.endclass.prob', 'rep0_range_50.power_no_charge_t2.endclass.expected_cost', 'rep0_range_50.power_no_charge_t2.endclass.in_bound', 'rep0_range_50.power_no_charge_t2.endclass.at_finish', 'rep0_range_50.power_no_charge_t2.endclass.line_dist', 'rep0_range_50.power_no_charge_t2.endclass.num_modes', 'rep0_range_50.power_no_charge_t2.endclass.end_dist', 'rep0_range_50.power_no_charge_t2.endclass.tot_deviation', 'rep0_range_50.power_no_charge_t2.endclass.faults', 'rep0_range_50.power_no_charge_t2.endclass.classification', 'rep0_range_50.power_no_charge_t2.endclass.end_x', 'rep0_range_50.power_no_charge_t2.endclass.end_y', 'rep0_range_50.power_no_charge_t2.endclass.endpt', 'rep0_range_50.power_short_t1.endclass.rate', 'rep0_range_50.power_short_t1.endclass.cost', 'rep0_range_50.power_short_t1.endclass.prob', 'rep0_range_50.power_short_t1.endclass.expected_cost', 'rep0_range_50.power_short_t1.endclass.in_bound', 'rep0_range_50.power_short_t1.endclass.at_finish', 'rep0_range_50.power_short_t1.endclass.line_dist', 'rep0_range_50.power_short_t1.endclass.num_modes', 'rep0_range_50.power_short_t1.endclass.end_dist', 'rep0_range_50.power_short_t1.endclass.tot_deviation', 'rep0_range_50.power_short_t1.endclass.faults', 'rep0_range_50.power_short_t1.endclass.classification', 'rep0_range_50.power_short_t1.endclass.end_x', 'rep0_range_50.power_short_t1.endclass.end_y', 'rep0_range_50.power_short_t1.endclass.endpt', 'rep0_range_50.power_short_t2.endclass.rate', 'rep0_range_50.power_short_t2.endclass.cost', 'rep0_range_50.power_short_t2.endclass.prob', 'rep0_range_50.power_short_t2.endclass.expected_cost', 'rep0_range_50.power_short_t2.endclass.in_bound', 'rep0_range_50.power_short_t2.endclass.at_finish', 'rep0_range_50.power_short_t2.endclass.line_dist', 'rep0_range_50.power_short_t2.endclass.num_modes', 'rep0_range_50.power_short_t2.endclass.end_dist', 'rep0_range_50.power_short_t2.endclass.tot_deviation', 'rep0_range_50.power_short_t2.endclass.faults', 'rep0_range_50.power_short_t2.endclass.classification', 'rep0_range_50.power_short_t2.endclass.end_x', 'rep0_range_50.power_short_t2.endclass.end_y', 'rep0_range_50.power_short_t2.endclass.endpt', 'rep0_range_50.nominal.endclass.rate', 'rep0_range_50.nominal.endclass.cost', 'rep0_range_50.nominal.endclass.prob', 'rep0_range_50.nominal.endclass.expected_cost', 'rep0_range_50.nominal.endclass.in_bound', 'rep0_range_50.nominal.endclass.at_finish', 'rep0_range_50.nominal.endclass.line_dist', 'rep0_range_50.nominal.endclass.num_modes', 'rep0_range_50.nominal.endclass.end_dist', 'rep0_range_50.nominal.endclass.tot_deviation', 'rep0_range_50.nominal.endclass.faults', 'rep0_range_50.nominal.endclass.classification', 'rep0_range_50.nominal.endclass.end_x', 'rep0_range_50.nominal.endclass.end_y', 'rep0_range_50.nominal.endclass.endpt', 'rep0_range_51.power_no_charge_t1.endclass.rate', 'rep0_range_51.power_no_charge_t1.endclass.cost', 'rep0_range_51.power_no_charge_t1.endclass.prob', 'rep0_range_51.power_no_charge_t1.endclass.expected_cost', 'rep0_range_51.power_no_charge_t1.endclass.in_bound', 'rep0_range_51.power_no_charge_t1.endclass.at_finish', 'rep0_range_51.power_no_charge_t1.endclass.line_dist', 'rep0_range_51.power_no_charge_t1.endclass.num_modes', 'rep0_range_51.power_no_charge_t1.endclass.end_dist', 'rep0_range_51.power_no_charge_t1.endclass.tot_deviation', 'rep0_range_51.power_no_charge_t1.endclass.faults', 'rep0_range_51.power_no_charge_t1.endclass.classification', 'rep0_range_51.power_no_charge_t1.endclass.end_x', 'rep0_range_51.power_no_charge_t1.endclass.end_y', 'rep0_range_51.power_no_charge_t1.endclass.endpt', 'rep0_range_51.power_no_charge_t2.endclass.rate', 'rep0_range_51.power_no_charge_t2.endclass.cost', 'rep0_range_51.power_no_charge_t2.endclass.prob', 'rep0_range_51.power_no_charge_t2.endclass.expected_cost', 'rep0_range_51.power_no_charge_t2.endclass.in_bound', 'rep0_range_51.power_no_charge_t2.endclass.at_finish', 'rep0_range_51.power_no_charge_t2.endclass.line_dist', 'rep0_range_51.power_no_charge_t2.endclass.num_modes', 'rep0_range_51.power_no_charge_t2.endclass.end_dist', 'rep0_range_51.power_no_charge_t2.endclass.tot_deviation', 'rep0_range_51.power_no_charge_t2.endclass.faults', 'rep0_range_51.power_no_charge_t2.endclass.classification', 'rep0_range_51.power_no_charge_t2.endclass.end_x', 'rep0_range_51.power_no_charge_t2.endclass.end_y', 'rep0_range_51.power_no_charge_t2.endclass.endpt', 'rep0_range_51.power_short_t1.endclass.rate', 'rep0_range_51.power_short_t1.endclass.cost', 'rep0_range_51.power_short_t1.endclass.prob', 'rep0_range_51.power_short_t1.endclass.expected_cost', 'rep0_range_51.power_short_t1.endclass.in_bound', 'rep0_range_51.power_short_t1.endclass.at_finish', 'rep0_range_51.power_short_t1.endclass.line_dist', 'rep0_range_51.power_short_t1.endclass.num_modes', 'rep0_range_51.power_short_t1.endclass.end_dist', 'rep0_range_51.power_short_t1.endclass.tot_deviation', 'rep0_range_51.power_short_t1.endclass.faults', 'rep0_range_51.power_short_t1.endclass.classification', 'rep0_range_51.power_short_t1.endclass.end_x', 'rep0_range_51.power_short_t1.endclass.end_y', 'rep0_range_51.power_short_t1.endclass.endpt', 'rep0_range_51.power_short_t2.endclass.rate', 'rep0_range_51.power_short_t2.endclass.cost', 'rep0_range_51.power_short_t2.endclass.prob', 'rep0_range_51.power_short_t2.endclass.expected_cost', 'rep0_range_51.power_short_t2.endclass.in_bound', 'rep0_range_51.power_short_t2.endclass.at_finish', 'rep0_range_51.power_short_t2.endclass.line_dist', 'rep0_range_51.power_short_t2.endclass.num_modes', 'rep0_range_51.power_short_t2.endclass.end_dist', 'rep0_range_51.power_short_t2.endclass.tot_deviation', 'rep0_range_51.power_short_t2.endclass.faults', 'rep0_range_51.power_short_t2.endclass.classification', 'rep0_range_51.power_short_t2.endclass.end_x', 'rep0_range_51.power_short_t2.endclass.end_y', 'rep0_range_51.power_short_t2.endclass.endpt', 'rep0_range_51.nominal.endclass.rate', 'rep0_range_51.nominal.endclass.cost', 'rep0_range_51.nominal.endclass.prob', 'rep0_range_51.nominal.endclass.expected_cost', 'rep0_range_51.nominal.endclass.in_bound', 'rep0_range_51.nominal.endclass.at_finish', 'rep0_range_51.nominal.endclass.line_dist', 'rep0_range_51.nominal.endclass.num_modes', 'rep0_range_51.nominal.endclass.end_dist', 'rep0_range_51.nominal.endclass.tot_deviation', 'rep0_range_51.nominal.endclass.faults', 'rep0_range_51.nominal.endclass.classification', 'rep0_range_51.nominal.endclass.end_x', 'rep0_range_51.nominal.endclass.end_y', 'rep0_range_51.nominal.endclass.endpt', 'rep0_range_52.power_no_charge_t1.endclass.rate', 'rep0_range_52.power_no_charge_t1.endclass.cost', 'rep0_range_52.power_no_charge_t1.endclass.prob', 'rep0_range_52.power_no_charge_t1.endclass.expected_cost', 'rep0_range_52.power_no_charge_t1.endclass.in_bound', 'rep0_range_52.power_no_charge_t1.endclass.at_finish', 'rep0_range_52.power_no_charge_t1.endclass.line_dist', 'rep0_range_52.power_no_charge_t1.endclass.num_modes', 'rep0_range_52.power_no_charge_t1.endclass.end_dist', 'rep0_range_52.power_no_charge_t1.endclass.tot_deviation', 'rep0_range_52.power_no_charge_t1.endclass.faults', 'rep0_range_52.power_no_charge_t1.endclass.classification', 'rep0_range_52.power_no_charge_t1.endclass.end_x', 'rep0_range_52.power_no_charge_t1.endclass.end_y', 'rep0_range_52.power_no_charge_t1.endclass.endpt', 'rep0_range_52.power_no_charge_t2.endclass.rate', 'rep0_range_52.power_no_charge_t2.endclass.cost', 'rep0_range_52.power_no_charge_t2.endclass.prob', 'rep0_range_52.power_no_charge_t2.endclass.expected_cost', 'rep0_range_52.power_no_charge_t2.endclass.in_bound', 'rep0_range_52.power_no_charge_t2.endclass.at_finish', 'rep0_range_52.power_no_charge_t2.endclass.line_dist', 'rep0_range_52.power_no_charge_t2.endclass.num_modes', 'rep0_range_52.power_no_charge_t2.endclass.end_dist', 'rep0_range_52.power_no_charge_t2.endclass.tot_deviation', 'rep0_range_52.power_no_charge_t2.endclass.faults', 'rep0_range_52.power_no_charge_t2.endclass.classification', 'rep0_range_52.power_no_charge_t2.endclass.end_x', 'rep0_range_52.power_no_charge_t2.endclass.end_y', 'rep0_range_52.power_no_charge_t2.endclass.endpt', 'rep0_range_52.power_short_t1.endclass.rate', 'rep0_range_52.power_short_t1.endclass.cost', 'rep0_range_52.power_short_t1.endclass.prob', 'rep0_range_52.power_short_t1.endclass.expected_cost', 'rep0_range_52.power_short_t1.endclass.in_bound', 'rep0_range_52.power_short_t1.endclass.at_finish', 'rep0_range_52.power_short_t1.endclass.line_dist', 'rep0_range_52.power_short_t1.endclass.num_modes', 'rep0_range_52.power_short_t1.endclass.end_dist', 'rep0_range_52.power_short_t1.endclass.tot_deviation', 'rep0_range_52.power_short_t1.endclass.faults', 'rep0_range_52.power_short_t1.endclass.classification', 'rep0_range_52.power_short_t1.endclass.end_x', 'rep0_range_52.power_short_t1.endclass.end_y', 'rep0_range_52.power_short_t1.endclass.endpt', 'rep0_range_52.power_short_t2.endclass.rate', 'rep0_range_52.power_short_t2.endclass.cost', 'rep0_range_52.power_short_t2.endclass.prob', 'rep0_range_52.power_short_t2.endclass.expected_cost', 'rep0_range_52.power_short_t2.endclass.in_bound', 'rep0_range_52.power_short_t2.endclass.at_finish', 'rep0_range_52.power_short_t2.endclass.line_dist', 'rep0_range_52.power_short_t2.endclass.num_modes', 'rep0_range_52.power_short_t2.endclass.end_dist', 'rep0_range_52.power_short_t2.endclass.tot_deviation', 'rep0_range_52.power_short_t2.endclass.faults', 'rep0_range_52.power_short_t2.endclass.classification', 'rep0_range_52.power_short_t2.endclass.end_x', 'rep0_range_52.power_short_t2.endclass.end_y', 'rep0_range_52.power_short_t2.endclass.endpt', 'rep0_range_52.nominal.endclass.rate', 'rep0_range_52.nominal.endclass.cost', 'rep0_range_52.nominal.endclass.prob', 'rep0_range_52.nominal.endclass.expected_cost', 'rep0_range_52.nominal.endclass.in_bound', 'rep0_range_52.nominal.endclass.at_finish', 'rep0_range_52.nominal.endclass.line_dist', 'rep0_range_52.nominal.endclass.num_modes', 'rep0_range_52.nominal.endclass.end_dist', 'rep0_range_52.nominal.endclass.tot_deviation', 'rep0_range_52.nominal.endclass.faults', 'rep0_range_52.nominal.endclass.classification', 'rep0_range_52.nominal.endclass.end_x', 'rep0_range_52.nominal.endclass.end_y', 'rep0_range_52.nominal.endclass.endpt', 'rep0_range_53.power_no_charge_t1.endclass.rate', 'rep0_range_53.power_no_charge_t1.endclass.cost', 'rep0_range_53.power_no_charge_t1.endclass.prob', 'rep0_range_53.power_no_charge_t1.endclass.expected_cost', 'rep0_range_53.power_no_charge_t1.endclass.in_bound', 'rep0_range_53.power_no_charge_t1.endclass.at_finish', 'rep0_range_53.power_no_charge_t1.endclass.line_dist', 'rep0_range_53.power_no_charge_t1.endclass.num_modes', 'rep0_range_53.power_no_charge_t1.endclass.end_dist', 'rep0_range_53.power_no_charge_t1.endclass.tot_deviation', 'rep0_range_53.power_no_charge_t1.endclass.faults', 'rep0_range_53.power_no_charge_t1.endclass.classification', 'rep0_range_53.power_no_charge_t1.endclass.end_x', 'rep0_range_53.power_no_charge_t1.endclass.end_y', 'rep0_range_53.power_no_charge_t1.endclass.endpt', 'rep0_range_53.power_no_charge_t2.endclass.rate', 'rep0_range_53.power_no_charge_t2.endclass.cost', 'rep0_range_53.power_no_charge_t2.endclass.prob', 'rep0_range_53.power_no_charge_t2.endclass.expected_cost', 'rep0_range_53.power_no_charge_t2.endclass.in_bound', 'rep0_range_53.power_no_charge_t2.endclass.at_finish', 'rep0_range_53.power_no_charge_t2.endclass.line_dist', 'rep0_range_53.power_no_charge_t2.endclass.num_modes', 'rep0_range_53.power_no_charge_t2.endclass.end_dist', 'rep0_range_53.power_no_charge_t2.endclass.tot_deviation', 'rep0_range_53.power_no_charge_t2.endclass.faults', 'rep0_range_53.power_no_charge_t2.endclass.classification', 'rep0_range_53.power_no_charge_t2.endclass.end_x', 'rep0_range_53.power_no_charge_t2.endclass.end_y', 'rep0_range_53.power_no_charge_t2.endclass.endpt', 'rep0_range_53.power_short_t1.endclass.rate', 'rep0_range_53.power_short_t1.endclass.cost', 'rep0_range_53.power_short_t1.endclass.prob', 'rep0_range_53.power_short_t1.endclass.expected_cost', 'rep0_range_53.power_short_t1.endclass.in_bound', 'rep0_range_53.power_short_t1.endclass.at_finish', 'rep0_range_53.power_short_t1.endclass.line_dist', 'rep0_range_53.power_short_t1.endclass.num_modes', 'rep0_range_53.power_short_t1.endclass.end_dist', 'rep0_range_53.power_short_t1.endclass.tot_deviation', 'rep0_range_53.power_short_t1.endclass.faults', 'rep0_range_53.power_short_t1.endclass.classification', 'rep0_range_53.power_short_t1.endclass.end_x', 'rep0_range_53.power_short_t1.endclass.end_y', 'rep0_range_53.power_short_t1.endclass.endpt', 'rep0_range_53.power_short_t2.endclass.rate', 'rep0_range_53.power_short_t2.endclass.cost', 'rep0_range_53.power_short_t2.endclass.prob', 'rep0_range_53.power_short_t2.endclass.expected_cost', 'rep0_range_53.power_short_t2.endclass.in_bound', 'rep0_range_53.power_short_t2.endclass.at_finish', 'rep0_range_53.power_short_t2.endclass.line_dist', 'rep0_range_53.power_short_t2.endclass.num_modes', 'rep0_range_53.power_short_t2.endclass.end_dist', 'rep0_range_53.power_short_t2.endclass.tot_deviation', 'rep0_range_53.power_short_t2.endclass.faults', 'rep0_range_53.power_short_t2.endclass.classification', 'rep0_range_53.power_short_t2.endclass.end_x', 'rep0_range_53.power_short_t2.endclass.end_y', 'rep0_range_53.power_short_t2.endclass.endpt', 'rep0_range_53.nominal.endclass.rate', 'rep0_range_53.nominal.endclass.cost', 'rep0_range_53.nominal.endclass.prob', 'rep0_range_53.nominal.endclass.expected_cost', 'rep0_range_53.nominal.endclass.in_bound', 'rep0_range_53.nominal.endclass.at_finish', 'rep0_range_53.nominal.endclass.line_dist', 'rep0_range_53.nominal.endclass.num_modes', 'rep0_range_53.nominal.endclass.end_dist', 'rep0_range_53.nominal.endclass.tot_deviation', 'rep0_range_53.nominal.endclass.faults', 'rep0_range_53.nominal.endclass.classification', 'rep0_range_53.nominal.endclass.end_x', 'rep0_range_53.nominal.endclass.end_y', 'rep0_range_53.nominal.endclass.endpt', 'rep0_range_54.power_no_charge_t1.endclass.rate', 'rep0_range_54.power_no_charge_t1.endclass.cost', 'rep0_range_54.power_no_charge_t1.endclass.prob', 'rep0_range_54.power_no_charge_t1.endclass.expected_cost', 'rep0_range_54.power_no_charge_t1.endclass.in_bound', 'rep0_range_54.power_no_charge_t1.endclass.at_finish', 'rep0_range_54.power_no_charge_t1.endclass.line_dist', 'rep0_range_54.power_no_charge_t1.endclass.num_modes', 'rep0_range_54.power_no_charge_t1.endclass.end_dist', 'rep0_range_54.power_no_charge_t1.endclass.tot_deviation', 'rep0_range_54.power_no_charge_t1.endclass.faults', 'rep0_range_54.power_no_charge_t1.endclass.classification', 'rep0_range_54.power_no_charge_t1.endclass.end_x', 'rep0_range_54.power_no_charge_t1.endclass.end_y', 'rep0_range_54.power_no_charge_t1.endclass.endpt', 'rep0_range_54.power_no_charge_t2.endclass.rate', 'rep0_range_54.power_no_charge_t2.endclass.cost', 'rep0_range_54.power_no_charge_t2.endclass.prob', 'rep0_range_54.power_no_charge_t2.endclass.expected_cost', 'rep0_range_54.power_no_charge_t2.endclass.in_bound', 'rep0_range_54.power_no_charge_t2.endclass.at_finish', 'rep0_range_54.power_no_charge_t2.endclass.line_dist', 'rep0_range_54.power_no_charge_t2.endclass.num_modes', 'rep0_range_54.power_no_charge_t2.endclass.end_dist', 'rep0_range_54.power_no_charge_t2.endclass.tot_deviation', 'rep0_range_54.power_no_charge_t2.endclass.faults', 'rep0_range_54.power_no_charge_t2.endclass.classification', 'rep0_range_54.power_no_charge_t2.endclass.end_x', 'rep0_range_54.power_no_charge_t2.endclass.end_y', 'rep0_range_54.power_no_charge_t2.endclass.endpt', 'rep0_range_54.power_short_t1.endclass.rate', 'rep0_range_54.power_short_t1.endclass.cost', 'rep0_range_54.power_short_t1.endclass.prob', 'rep0_range_54.power_short_t1.endclass.expected_cost', 'rep0_range_54.power_short_t1.endclass.in_bound', 'rep0_range_54.power_short_t1.endclass.at_finish', 'rep0_range_54.power_short_t1.endclass.line_dist', 'rep0_range_54.power_short_t1.endclass.num_modes', 'rep0_range_54.power_short_t1.endclass.end_dist', 'rep0_range_54.power_short_t1.endclass.tot_deviation', 'rep0_range_54.power_short_t1.endclass.faults', 'rep0_range_54.power_short_t1.endclass.classification', 'rep0_range_54.power_short_t1.endclass.end_x', 'rep0_range_54.power_short_t1.endclass.end_y', 'rep0_range_54.power_short_t1.endclass.endpt', 'rep0_range_54.power_short_t2.endclass.rate', 'rep0_range_54.power_short_t2.endclass.cost', 'rep0_range_54.power_short_t2.endclass.prob', 'rep0_range_54.power_short_t2.endclass.expected_cost', 'rep0_range_54.power_short_t2.endclass.in_bound', 'rep0_range_54.power_short_t2.endclass.at_finish', 'rep0_range_54.power_short_t2.endclass.line_dist', 'rep0_range_54.power_short_t2.endclass.num_modes', 'rep0_range_54.power_short_t2.endclass.end_dist', 'rep0_range_54.power_short_t2.endclass.tot_deviation', 'rep0_range_54.power_short_t2.endclass.faults', 'rep0_range_54.power_short_t2.endclass.classification', 'rep0_range_54.power_short_t2.endclass.end_x', 'rep0_range_54.power_short_t2.endclass.end_y', 'rep0_range_54.power_short_t2.endclass.endpt', 'rep0_range_54.nominal.endclass.rate', 'rep0_range_54.nominal.endclass.cost', 'rep0_range_54.nominal.endclass.prob', 'rep0_range_54.nominal.endclass.expected_cost', 'rep0_range_54.nominal.endclass.in_bound', 'rep0_range_54.nominal.endclass.at_finish', 'rep0_range_54.nominal.endclass.line_dist', 'rep0_range_54.nominal.endclass.num_modes', 'rep0_range_54.nominal.endclass.end_dist', 'rep0_range_54.nominal.endclass.tot_deviation', 'rep0_range_54.nominal.endclass.faults', 'rep0_range_54.nominal.endclass.classification', 'rep0_range_54.nominal.endclass.end_x', 'rep0_range_54.nominal.endclass.end_y', 'rep0_range_54.nominal.endclass.endpt', 'rep0_range_55.power_no_charge_t1.endclass.rate', 'rep0_range_55.power_no_charge_t1.endclass.cost', 'rep0_range_55.power_no_charge_t1.endclass.prob', 'rep0_range_55.power_no_charge_t1.endclass.expected_cost', 'rep0_range_55.power_no_charge_t1.endclass.in_bound', 'rep0_range_55.power_no_charge_t1.endclass.at_finish', 'rep0_range_55.power_no_charge_t1.endclass.line_dist', 'rep0_range_55.power_no_charge_t1.endclass.num_modes', 'rep0_range_55.power_no_charge_t1.endclass.end_dist', 'rep0_range_55.power_no_charge_t1.endclass.tot_deviation', 'rep0_range_55.power_no_charge_t1.endclass.faults', 'rep0_range_55.power_no_charge_t1.endclass.classification', 'rep0_range_55.power_no_charge_t1.endclass.end_x', 'rep0_range_55.power_no_charge_t1.endclass.end_y', 'rep0_range_55.power_no_charge_t1.endclass.endpt', 'rep0_range_55.power_no_charge_t2.endclass.rate', 'rep0_range_55.power_no_charge_t2.endclass.cost', 'rep0_range_55.power_no_charge_t2.endclass.prob', 'rep0_range_55.power_no_charge_t2.endclass.expected_cost', 'rep0_range_55.power_no_charge_t2.endclass.in_bound', 'rep0_range_55.power_no_charge_t2.endclass.at_finish', 'rep0_range_55.power_no_charge_t2.endclass.line_dist', 'rep0_range_55.power_no_charge_t2.endclass.num_modes', 'rep0_range_55.power_no_charge_t2.endclass.end_dist', 'rep0_range_55.power_no_charge_t2.endclass.tot_deviation', 'rep0_range_55.power_no_charge_t2.endclass.faults', 'rep0_range_55.power_no_charge_t2.endclass.classification', 'rep0_range_55.power_no_charge_t2.endclass.end_x', 'rep0_range_55.power_no_charge_t2.endclass.end_y', 'rep0_range_55.power_no_charge_t2.endclass.endpt', 'rep0_range_55.power_short_t1.endclass.rate', 'rep0_range_55.power_short_t1.endclass.cost', 'rep0_range_55.power_short_t1.endclass.prob', 'rep0_range_55.power_short_t1.endclass.expected_cost', 'rep0_range_55.power_short_t1.endclass.in_bound', 'rep0_range_55.power_short_t1.endclass.at_finish', 'rep0_range_55.power_short_t1.endclass.line_dist', 'rep0_range_55.power_short_t1.endclass.num_modes', 'rep0_range_55.power_short_t1.endclass.end_dist', 'rep0_range_55.power_short_t1.endclass.tot_deviation', 'rep0_range_55.power_short_t1.endclass.faults', 'rep0_range_55.power_short_t1.endclass.classification', 'rep0_range_55.power_short_t1.endclass.end_x', 'rep0_range_55.power_short_t1.endclass.end_y', 'rep0_range_55.power_short_t1.endclass.endpt', 'rep0_range_55.power_short_t2.endclass.rate', 'rep0_range_55.power_short_t2.endclass.cost', 'rep0_range_55.power_short_t2.endclass.prob', 'rep0_range_55.power_short_t2.endclass.expected_cost', 'rep0_range_55.power_short_t2.endclass.in_bound', 'rep0_range_55.power_short_t2.endclass.at_finish', 'rep0_range_55.power_short_t2.endclass.line_dist', 'rep0_range_55.power_short_t2.endclass.num_modes', 'rep0_range_55.power_short_t2.endclass.end_dist', 'rep0_range_55.power_short_t2.endclass.tot_deviation', 'rep0_range_55.power_short_t2.endclass.faults', 'rep0_range_55.power_short_t2.endclass.classification', 'rep0_range_55.power_short_t2.endclass.end_x', 'rep0_range_55.power_short_t2.endclass.end_y', 'rep0_range_55.power_short_t2.endclass.endpt', 'rep0_range_55.nominal.endclass.rate', 'rep0_range_55.nominal.endclass.cost', 'rep0_range_55.nominal.endclass.prob', 'rep0_range_55.nominal.endclass.expected_cost', 'rep0_range_55.nominal.endclass.in_bound', 'rep0_range_55.nominal.endclass.at_finish', 'rep0_range_55.nominal.endclass.line_dist', 'rep0_range_55.nominal.endclass.num_modes', 'rep0_range_55.nominal.endclass.end_dist', 'rep0_range_55.nominal.endclass.tot_deviation', 'rep0_range_55.nominal.endclass.faults', 'rep0_range_55.nominal.endclass.classification', 'rep0_range_55.nominal.endclass.end_x', 'rep0_range_55.nominal.endclass.end_y', 'rep0_range_55.nominal.endclass.endpt', 'rep0_range_56.power_no_charge_t1.endclass.rate', 'rep0_range_56.power_no_charge_t1.endclass.cost', 'rep0_range_56.power_no_charge_t1.endclass.prob', 'rep0_range_56.power_no_charge_t1.endclass.expected_cost', 'rep0_range_56.power_no_charge_t1.endclass.in_bound', 'rep0_range_56.power_no_charge_t1.endclass.at_finish', 'rep0_range_56.power_no_charge_t1.endclass.line_dist', 'rep0_range_56.power_no_charge_t1.endclass.num_modes', 'rep0_range_56.power_no_charge_t1.endclass.end_dist', 'rep0_range_56.power_no_charge_t1.endclass.tot_deviation', 'rep0_range_56.power_no_charge_t1.endclass.faults', 'rep0_range_56.power_no_charge_t1.endclass.classification', 'rep0_range_56.power_no_charge_t1.endclass.end_x', 'rep0_range_56.power_no_charge_t1.endclass.end_y', 'rep0_range_56.power_no_charge_t1.endclass.endpt', 'rep0_range_56.power_no_charge_t2.endclass.rate', 'rep0_range_56.power_no_charge_t2.endclass.cost', 'rep0_range_56.power_no_charge_t2.endclass.prob', 'rep0_range_56.power_no_charge_t2.endclass.expected_cost', 'rep0_range_56.power_no_charge_t2.endclass.in_bound', 'rep0_range_56.power_no_charge_t2.endclass.at_finish', 'rep0_range_56.power_no_charge_t2.endclass.line_dist', 'rep0_range_56.power_no_charge_t2.endclass.num_modes', 'rep0_range_56.power_no_charge_t2.endclass.end_dist', 'rep0_range_56.power_no_charge_t2.endclass.tot_deviation', 'rep0_range_56.power_no_charge_t2.endclass.faults', 'rep0_range_56.power_no_charge_t2.endclass.classification', 'rep0_range_56.power_no_charge_t2.endclass.end_x', 'rep0_range_56.power_no_charge_t2.endclass.end_y', 'rep0_range_56.power_no_charge_t2.endclass.endpt', 'rep0_range_56.power_short_t1.endclass.rate', 'rep0_range_56.power_short_t1.endclass.cost', 'rep0_range_56.power_short_t1.endclass.prob', 'rep0_range_56.power_short_t1.endclass.expected_cost', 'rep0_range_56.power_short_t1.endclass.in_bound', 'rep0_range_56.power_short_t1.endclass.at_finish', 'rep0_range_56.power_short_t1.endclass.line_dist', 'rep0_range_56.power_short_t1.endclass.num_modes', 'rep0_range_56.power_short_t1.endclass.end_dist', 'rep0_range_56.power_short_t1.endclass.tot_deviation', 'rep0_range_56.power_short_t1.endclass.faults', 'rep0_range_56.power_short_t1.endclass.classification', 'rep0_range_56.power_short_t1.endclass.end_x', 'rep0_range_56.power_short_t1.endclass.end_y', 'rep0_range_56.power_short_t1.endclass.endpt', 'rep0_range_56.power_short_t2.endclass.rate', 'rep0_range_56.power_short_t2.endclass.cost', 'rep0_range_56.power_short_t2.endclass.prob', 'rep0_range_56.power_short_t2.endclass.expected_cost', 'rep0_range_56.power_short_t2.endclass.in_bound', 'rep0_range_56.power_short_t2.endclass.at_finish', 'rep0_range_56.power_short_t2.endclass.line_dist', 'rep0_range_56.power_short_t2.endclass.num_modes', 'rep0_range_56.power_short_t2.endclass.end_dist', 'rep0_range_56.power_short_t2.endclass.tot_deviation', 'rep0_range_56.power_short_t2.endclass.faults', 'rep0_range_56.power_short_t2.endclass.classification', 'rep0_range_56.power_short_t2.endclass.end_x', 'rep0_range_56.power_short_t2.endclass.end_y', 'rep0_range_56.power_short_t2.endclass.endpt', 'rep0_range_56.nominal.endclass.rate', 'rep0_range_56.nominal.endclass.cost', 'rep0_range_56.nominal.endclass.prob', 'rep0_range_56.nominal.endclass.expected_cost', 'rep0_range_56.nominal.endclass.in_bound', 'rep0_range_56.nominal.endclass.at_finish', 'rep0_range_56.nominal.endclass.line_dist', 'rep0_range_56.nominal.endclass.num_modes', 'rep0_range_56.nominal.endclass.end_dist', 'rep0_range_56.nominal.endclass.tot_deviation', 'rep0_range_56.nominal.endclass.faults', 'rep0_range_56.nominal.endclass.classification', 'rep0_range_56.nominal.endclass.end_x', 'rep0_range_56.nominal.endclass.end_y', 'rep0_range_56.nominal.endclass.endpt', 'rep0_range_57.power_no_charge_t1.endclass.rate', 'rep0_range_57.power_no_charge_t1.endclass.cost', 'rep0_range_57.power_no_charge_t1.endclass.prob', 'rep0_range_57.power_no_charge_t1.endclass.expected_cost', 'rep0_range_57.power_no_charge_t1.endclass.in_bound', 'rep0_range_57.power_no_charge_t1.endclass.at_finish', 'rep0_range_57.power_no_charge_t1.endclass.line_dist', 'rep0_range_57.power_no_charge_t1.endclass.num_modes', 'rep0_range_57.power_no_charge_t1.endclass.end_dist', 'rep0_range_57.power_no_charge_t1.endclass.tot_deviation', 'rep0_range_57.power_no_charge_t1.endclass.faults', 'rep0_range_57.power_no_charge_t1.endclass.classification', 'rep0_range_57.power_no_charge_t1.endclass.end_x', 'rep0_range_57.power_no_charge_t1.endclass.end_y', 'rep0_range_57.power_no_charge_t1.endclass.endpt', 'rep0_range_57.power_no_charge_t2.endclass.rate', 'rep0_range_57.power_no_charge_t2.endclass.cost', 'rep0_range_57.power_no_charge_t2.endclass.prob', 'rep0_range_57.power_no_charge_t2.endclass.expected_cost', 'rep0_range_57.power_no_charge_t2.endclass.in_bound', 'rep0_range_57.power_no_charge_t2.endclass.at_finish', 'rep0_range_57.power_no_charge_t2.endclass.line_dist', 'rep0_range_57.power_no_charge_t2.endclass.num_modes', 'rep0_range_57.power_no_charge_t2.endclass.end_dist', 'rep0_range_57.power_no_charge_t2.endclass.tot_deviation', 'rep0_range_57.power_no_charge_t2.endclass.faults', 'rep0_range_57.power_no_charge_t2.endclass.classification', 'rep0_range_57.power_no_charge_t2.endclass.end_x', 'rep0_range_57.power_no_charge_t2.endclass.end_y', 'rep0_range_57.power_no_charge_t2.endclass.endpt', 'rep0_range_57.power_short_t1.endclass.rate', 'rep0_range_57.power_short_t1.endclass.cost', 'rep0_range_57.power_short_t1.endclass.prob', 'rep0_range_57.power_short_t1.endclass.expected_cost', 'rep0_range_57.power_short_t1.endclass.in_bound', 'rep0_range_57.power_short_t1.endclass.at_finish', 'rep0_range_57.power_short_t1.endclass.line_dist', 'rep0_range_57.power_short_t1.endclass.num_modes', 'rep0_range_57.power_short_t1.endclass.end_dist', 'rep0_range_57.power_short_t1.endclass.tot_deviation', 'rep0_range_57.power_short_t1.endclass.faults', 'rep0_range_57.power_short_t1.endclass.classification', 'rep0_range_57.power_short_t1.endclass.end_x', 'rep0_range_57.power_short_t1.endclass.end_y', 'rep0_range_57.power_short_t1.endclass.endpt', 'rep0_range_57.power_short_t2.endclass.rate', 'rep0_range_57.power_short_t2.endclass.cost', 'rep0_range_57.power_short_t2.endclass.prob', 'rep0_range_57.power_short_t2.endclass.expected_cost', 'rep0_range_57.power_short_t2.endclass.in_bound', 'rep0_range_57.power_short_t2.endclass.at_finish', 'rep0_range_57.power_short_t2.endclass.line_dist', 'rep0_range_57.power_short_t2.endclass.num_modes', 'rep0_range_57.power_short_t2.endclass.end_dist', 'rep0_range_57.power_short_t2.endclass.tot_deviation', 'rep0_range_57.power_short_t2.endclass.faults', 'rep0_range_57.power_short_t2.endclass.classification', 'rep0_range_57.power_short_t2.endclass.end_x', 'rep0_range_57.power_short_t2.endclass.end_y', 'rep0_range_57.power_short_t2.endclass.endpt', 'rep0_range_57.nominal.endclass.rate', 'rep0_range_57.nominal.endclass.cost', 'rep0_range_57.nominal.endclass.prob', 'rep0_range_57.nominal.endclass.expected_cost', 'rep0_range_57.nominal.endclass.in_bound', 'rep0_range_57.nominal.endclass.at_finish', 'rep0_range_57.nominal.endclass.line_dist', 'rep0_range_57.nominal.endclass.num_modes', 'rep0_range_57.nominal.endclass.end_dist', 'rep0_range_57.nominal.endclass.tot_deviation', 'rep0_range_57.nominal.endclass.faults', 'rep0_range_57.nominal.endclass.classification', 'rep0_range_57.nominal.endclass.end_x', 'rep0_range_57.nominal.endclass.end_y', 'rep0_range_57.nominal.endclass.endpt', 'rep0_range_58.power_no_charge_t1.endclass.rate', 'rep0_range_58.power_no_charge_t1.endclass.cost', 'rep0_range_58.power_no_charge_t1.endclass.prob', 'rep0_range_58.power_no_charge_t1.endclass.expected_cost', 'rep0_range_58.power_no_charge_t1.endclass.in_bound', 'rep0_range_58.power_no_charge_t1.endclass.at_finish', 'rep0_range_58.power_no_charge_t1.endclass.line_dist', 'rep0_range_58.power_no_charge_t1.endclass.num_modes', 'rep0_range_58.power_no_charge_t1.endclass.end_dist', 'rep0_range_58.power_no_charge_t1.endclass.tot_deviation', 'rep0_range_58.power_no_charge_t1.endclass.faults', 'rep0_range_58.power_no_charge_t1.endclass.classification', 'rep0_range_58.power_no_charge_t1.endclass.end_x', 'rep0_range_58.power_no_charge_t1.endclass.end_y', 'rep0_range_58.power_no_charge_t1.endclass.endpt', 'rep0_range_58.power_no_charge_t2.endclass.rate', 'rep0_range_58.power_no_charge_t2.endclass.cost', 'rep0_range_58.power_no_charge_t2.endclass.prob', 'rep0_range_58.power_no_charge_t2.endclass.expected_cost', 'rep0_range_58.power_no_charge_t2.endclass.in_bound', 'rep0_range_58.power_no_charge_t2.endclass.at_finish', 'rep0_range_58.power_no_charge_t2.endclass.line_dist', 'rep0_range_58.power_no_charge_t2.endclass.num_modes', 'rep0_range_58.power_no_charge_t2.endclass.end_dist', 'rep0_range_58.power_no_charge_t2.endclass.tot_deviation', 'rep0_range_58.power_no_charge_t2.endclass.faults', 'rep0_range_58.power_no_charge_t2.endclass.classification', 'rep0_range_58.power_no_charge_t2.endclass.end_x', 'rep0_range_58.power_no_charge_t2.endclass.end_y', 'rep0_range_58.power_no_charge_t2.endclass.endpt', 'rep0_range_58.power_short_t1.endclass.rate', 'rep0_range_58.power_short_t1.endclass.cost', 'rep0_range_58.power_short_t1.endclass.prob', 'rep0_range_58.power_short_t1.endclass.expected_cost', 'rep0_range_58.power_short_t1.endclass.in_bound', 'rep0_range_58.power_short_t1.endclass.at_finish', 'rep0_range_58.power_short_t1.endclass.line_dist', 'rep0_range_58.power_short_t1.endclass.num_modes', 'rep0_range_58.power_short_t1.endclass.end_dist', 'rep0_range_58.power_short_t1.endclass.tot_deviation', 'rep0_range_58.power_short_t1.endclass.faults', 'rep0_range_58.power_short_t1.endclass.classification', 'rep0_range_58.power_short_t1.endclass.end_x', 'rep0_range_58.power_short_t1.endclass.end_y', 'rep0_range_58.power_short_t1.endclass.endpt', 'rep0_range_58.power_short_t2.endclass.rate', 'rep0_range_58.power_short_t2.endclass.cost', 'rep0_range_58.power_short_t2.endclass.prob', 'rep0_range_58.power_short_t2.endclass.expected_cost', 'rep0_range_58.power_short_t2.endclass.in_bound', 'rep0_range_58.power_short_t2.endclass.at_finish', 'rep0_range_58.power_short_t2.endclass.line_dist', 'rep0_range_58.power_short_t2.endclass.num_modes', 'rep0_range_58.power_short_t2.endclass.end_dist', 'rep0_range_58.power_short_t2.endclass.tot_deviation', 'rep0_range_58.power_short_t2.endclass.faults', 'rep0_range_58.power_short_t2.endclass.classification', 'rep0_range_58.power_short_t2.endclass.end_x', 'rep0_range_58.power_short_t2.endclass.end_y', 'rep0_range_58.power_short_t2.endclass.endpt', 'rep0_range_58.nominal.endclass.rate', 'rep0_range_58.nominal.endclass.cost', 'rep0_range_58.nominal.endclass.prob', 'rep0_range_58.nominal.endclass.expected_cost', 'rep0_range_58.nominal.endclass.in_bound', 'rep0_range_58.nominal.endclass.at_finish', 'rep0_range_58.nominal.endclass.line_dist', 'rep0_range_58.nominal.endclass.num_modes', 'rep0_range_58.nominal.endclass.end_dist', 'rep0_range_58.nominal.endclass.tot_deviation', 'rep0_range_58.nominal.endclass.faults', 'rep0_range_58.nominal.endclass.classification', 'rep0_range_58.nominal.endclass.end_x', 'rep0_range_58.nominal.endclass.end_y', 'rep0_range_58.nominal.endclass.endpt', 'rep0_range_59.power_no_charge_t1.endclass.rate', 'rep0_range_59.power_no_charge_t1.endclass.cost', 'rep0_range_59.power_no_charge_t1.endclass.prob', 'rep0_range_59.power_no_charge_t1.endclass.expected_cost', 'rep0_range_59.power_no_charge_t1.endclass.in_bound', 'rep0_range_59.power_no_charge_t1.endclass.at_finish', 'rep0_range_59.power_no_charge_t1.endclass.line_dist', 'rep0_range_59.power_no_charge_t1.endclass.num_modes', 'rep0_range_59.power_no_charge_t1.endclass.end_dist', 'rep0_range_59.power_no_charge_t1.endclass.tot_deviation', 'rep0_range_59.power_no_charge_t1.endclass.faults', 'rep0_range_59.power_no_charge_t1.endclass.classification', 'rep0_range_59.power_no_charge_t1.endclass.end_x', 'rep0_range_59.power_no_charge_t1.endclass.end_y', 'rep0_range_59.power_no_charge_t1.endclass.endpt', 'rep0_range_59.power_no_charge_t2.endclass.rate', 'rep0_range_59.power_no_charge_t2.endclass.cost', 'rep0_range_59.power_no_charge_t2.endclass.prob', 'rep0_range_59.power_no_charge_t2.endclass.expected_cost', 'rep0_range_59.power_no_charge_t2.endclass.in_bound', 'rep0_range_59.power_no_charge_t2.endclass.at_finish', 'rep0_range_59.power_no_charge_t2.endclass.line_dist', 'rep0_range_59.power_no_charge_t2.endclass.num_modes', 'rep0_range_59.power_no_charge_t2.endclass.end_dist', 'rep0_range_59.power_no_charge_t2.endclass.tot_deviation', 'rep0_range_59.power_no_charge_t2.endclass.faults', 'rep0_range_59.power_no_charge_t2.endclass.classification', 'rep0_range_59.power_no_charge_t2.endclass.end_x', 'rep0_range_59.power_no_charge_t2.endclass.end_y', 'rep0_range_59.power_no_charge_t2.endclass.endpt', 'rep0_range_59.power_short_t1.endclass.rate', 'rep0_range_59.power_short_t1.endclass.cost', 'rep0_range_59.power_short_t1.endclass.prob', 'rep0_range_59.power_short_t1.endclass.expected_cost', 'rep0_range_59.power_short_t1.endclass.in_bound', 'rep0_range_59.power_short_t1.endclass.at_finish', 'rep0_range_59.power_short_t1.endclass.line_dist', 'rep0_range_59.power_short_t1.endclass.num_modes', 'rep0_range_59.power_short_t1.endclass.end_dist', 'rep0_range_59.power_short_t1.endclass.tot_deviation', 'rep0_range_59.power_short_t1.endclass.faults', 'rep0_range_59.power_short_t1.endclass.classification', 'rep0_range_59.power_short_t1.endclass.end_x', 'rep0_range_59.power_short_t1.endclass.end_y', 'rep0_range_59.power_short_t1.endclass.endpt', 'rep0_range_59.power_short_t2.endclass.rate', 'rep0_range_59.power_short_t2.endclass.cost', 'rep0_range_59.power_short_t2.endclass.prob', 'rep0_range_59.power_short_t2.endclass.expected_cost', 'rep0_range_59.power_short_t2.endclass.in_bound', 'rep0_range_59.power_short_t2.endclass.at_finish', 'rep0_range_59.power_short_t2.endclass.line_dist', 'rep0_range_59.power_short_t2.endclass.num_modes', 'rep0_range_59.power_short_t2.endclass.end_dist', 'rep0_range_59.power_short_t2.endclass.tot_deviation', 'rep0_range_59.power_short_t2.endclass.faults', 'rep0_range_59.power_short_t2.endclass.classification', 'rep0_range_59.power_short_t2.endclass.end_x', 'rep0_range_59.power_short_t2.endclass.end_y', 'rep0_range_59.power_short_t2.endclass.endpt', 'rep0_range_59.nominal.endclass.rate', 'rep0_range_59.nominal.endclass.cost', 'rep0_range_59.nominal.endclass.prob', 'rep0_range_59.nominal.endclass.expected_cost', 'rep0_range_59.nominal.endclass.in_bound', 'rep0_range_59.nominal.endclass.at_finish', 'rep0_range_59.nominal.endclass.line_dist', 'rep0_range_59.nominal.endclass.num_modes', 'rep0_range_59.nominal.endclass.end_dist', 'rep0_range_59.nominal.endclass.tot_deviation', 'rep0_range_59.nominal.endclass.faults', 'rep0_range_59.nominal.endclass.classification', 'rep0_range_59.nominal.endclass.end_x', 'rep0_range_59.nominal.endclass.end_y', 'rep0_range_59.nominal.endclass.endpt', 'rep0_range_60.power_no_charge_t1.endclass.rate', 'rep0_range_60.power_no_charge_t1.endclass.cost', 'rep0_range_60.power_no_charge_t1.endclass.prob', 'rep0_range_60.power_no_charge_t1.endclass.expected_cost', 'rep0_range_60.power_no_charge_t1.endclass.in_bound', 'rep0_range_60.power_no_charge_t1.endclass.at_finish', 'rep0_range_60.power_no_charge_t1.endclass.line_dist', 'rep0_range_60.power_no_charge_t1.endclass.num_modes', 'rep0_range_60.power_no_charge_t1.endclass.end_dist', 'rep0_range_60.power_no_charge_t1.endclass.tot_deviation', 'rep0_range_60.power_no_charge_t1.endclass.faults', 'rep0_range_60.power_no_charge_t1.endclass.classification', 'rep0_range_60.power_no_charge_t1.endclass.end_x', 'rep0_range_60.power_no_charge_t1.endclass.end_y', 'rep0_range_60.power_no_charge_t1.endclass.endpt', 'rep0_range_60.power_no_charge_t2.endclass.rate', 'rep0_range_60.power_no_charge_t2.endclass.cost', 'rep0_range_60.power_no_charge_t2.endclass.prob', 'rep0_range_60.power_no_charge_t2.endclass.expected_cost', 'rep0_range_60.power_no_charge_t2.endclass.in_bound', 'rep0_range_60.power_no_charge_t2.endclass.at_finish', 'rep0_range_60.power_no_charge_t2.endclass.line_dist', 'rep0_range_60.power_no_charge_t2.endclass.num_modes', 'rep0_range_60.power_no_charge_t2.endclass.end_dist', 'rep0_range_60.power_no_charge_t2.endclass.tot_deviation', 'rep0_range_60.power_no_charge_t2.endclass.faults', 'rep0_range_60.power_no_charge_t2.endclass.classification', 'rep0_range_60.power_no_charge_t2.endclass.end_x', 'rep0_range_60.power_no_charge_t2.endclass.end_y', 'rep0_range_60.power_no_charge_t2.endclass.endpt', 'rep0_range_60.power_short_t1.endclass.rate', 'rep0_range_60.power_short_t1.endclass.cost', 'rep0_range_60.power_short_t1.endclass.prob', 'rep0_range_60.power_short_t1.endclass.expected_cost', 'rep0_range_60.power_short_t1.endclass.in_bound', 'rep0_range_60.power_short_t1.endclass.at_finish', 'rep0_range_60.power_short_t1.endclass.line_dist', 'rep0_range_60.power_short_t1.endclass.num_modes', 'rep0_range_60.power_short_t1.endclass.end_dist', 'rep0_range_60.power_short_t1.endclass.tot_deviation', 'rep0_range_60.power_short_t1.endclass.faults', 'rep0_range_60.power_short_t1.endclass.classification', 'rep0_range_60.power_short_t1.endclass.end_x', 'rep0_range_60.power_short_t1.endclass.end_y', 'rep0_range_60.power_short_t1.endclass.endpt', 'rep0_range_60.power_short_t2.endclass.rate', 'rep0_range_60.power_short_t2.endclass.cost', 'rep0_range_60.power_short_t2.endclass.prob', 'rep0_range_60.power_short_t2.endclass.expected_cost', 'rep0_range_60.power_short_t2.endclass.in_bound', 'rep0_range_60.power_short_t2.endclass.at_finish', 'rep0_range_60.power_short_t2.endclass.line_dist', 'rep0_range_60.power_short_t2.endclass.num_modes', 'rep0_range_60.power_short_t2.endclass.end_dist', 'rep0_range_60.power_short_t2.endclass.tot_deviation', 'rep0_range_60.power_short_t2.endclass.faults', 'rep0_range_60.power_short_t2.endclass.classification', 'rep0_range_60.power_short_t2.endclass.end_x', 'rep0_range_60.power_short_t2.endclass.end_y', 'rep0_range_60.power_short_t2.endclass.endpt', 'rep0_range_60.nominal.endclass.rate', 'rep0_range_60.nominal.endclass.cost', 'rep0_range_60.nominal.endclass.prob', 'rep0_range_60.nominal.endclass.expected_cost', 'rep0_range_60.nominal.endclass.in_bound', 'rep0_range_60.nominal.endclass.at_finish', 'rep0_range_60.nominal.endclass.line_dist', 'rep0_range_60.nominal.endclass.num_modes', 'rep0_range_60.nominal.endclass.end_dist', 'rep0_range_60.nominal.endclass.tot_deviation', 'rep0_range_60.nominal.endclass.faults', 'rep0_range_60.nominal.endclass.classification', 'rep0_range_60.nominal.endclass.end_x', 'rep0_range_60.nominal.endclass.end_y', 'rep0_range_60.nominal.endclass.endpt', 'rep0_range_61.power_no_charge_t1.endclass.rate', 'rep0_range_61.power_no_charge_t1.endclass.cost', 'rep0_range_61.power_no_charge_t1.endclass.prob', 'rep0_range_61.power_no_charge_t1.endclass.expected_cost', 'rep0_range_61.power_no_charge_t1.endclass.in_bound', 'rep0_range_61.power_no_charge_t1.endclass.at_finish', 'rep0_range_61.power_no_charge_t1.endclass.line_dist', 'rep0_range_61.power_no_charge_t1.endclass.num_modes', 'rep0_range_61.power_no_charge_t1.endclass.end_dist', 'rep0_range_61.power_no_charge_t1.endclass.tot_deviation', 'rep0_range_61.power_no_charge_t1.endclass.faults', 'rep0_range_61.power_no_charge_t1.endclass.classification', 'rep0_range_61.power_no_charge_t1.endclass.end_x', 'rep0_range_61.power_no_charge_t1.endclass.end_y', 'rep0_range_61.power_no_charge_t1.endclass.endpt', 'rep0_range_61.power_no_charge_t2.endclass.rate', 'rep0_range_61.power_no_charge_t2.endclass.cost', 'rep0_range_61.power_no_charge_t2.endclass.prob', 'rep0_range_61.power_no_charge_t2.endclass.expected_cost', 'rep0_range_61.power_no_charge_t2.endclass.in_bound', 'rep0_range_61.power_no_charge_t2.endclass.at_finish', 'rep0_range_61.power_no_charge_t2.endclass.line_dist', 'rep0_range_61.power_no_charge_t2.endclass.num_modes', 'rep0_range_61.power_no_charge_t2.endclass.end_dist', 'rep0_range_61.power_no_charge_t2.endclass.tot_deviation', 'rep0_range_61.power_no_charge_t2.endclass.faults', 'rep0_range_61.power_no_charge_t2.endclass.classification', 'rep0_range_61.power_no_charge_t2.endclass.end_x', 'rep0_range_61.power_no_charge_t2.endclass.end_y', 'rep0_range_61.power_no_charge_t2.endclass.endpt', 'rep0_range_61.power_short_t1.endclass.rate', 'rep0_range_61.power_short_t1.endclass.cost', 'rep0_range_61.power_short_t1.endclass.prob', 'rep0_range_61.power_short_t1.endclass.expected_cost', 'rep0_range_61.power_short_t1.endclass.in_bound', 'rep0_range_61.power_short_t1.endclass.at_finish', 'rep0_range_61.power_short_t1.endclass.line_dist', 'rep0_range_61.power_short_t1.endclass.num_modes', 'rep0_range_61.power_short_t1.endclass.end_dist', 'rep0_range_61.power_short_t1.endclass.tot_deviation', 'rep0_range_61.power_short_t1.endclass.faults', 'rep0_range_61.power_short_t1.endclass.classification', 'rep0_range_61.power_short_t1.endclass.end_x', 'rep0_range_61.power_short_t1.endclass.end_y', 'rep0_range_61.power_short_t1.endclass.endpt', 'rep0_range_61.power_short_t2.endclass.rate', 'rep0_range_61.power_short_t2.endclass.cost', 'rep0_range_61.power_short_t2.endclass.prob', 'rep0_range_61.power_short_t2.endclass.expected_cost', 'rep0_range_61.power_short_t2.endclass.in_bound', 'rep0_range_61.power_short_t2.endclass.at_finish', 'rep0_range_61.power_short_t2.endclass.line_dist', 'rep0_range_61.power_short_t2.endclass.num_modes', 'rep0_range_61.power_short_t2.endclass.end_dist', 'rep0_range_61.power_short_t2.endclass.tot_deviation', 'rep0_range_61.power_short_t2.endclass.faults', 'rep0_range_61.power_short_t2.endclass.classification', 'rep0_range_61.power_short_t2.endclass.end_x', 'rep0_range_61.power_short_t2.endclass.end_y', 'rep0_range_61.power_short_t2.endclass.endpt', 'rep0_range_61.nominal.endclass.rate', 'rep0_range_61.nominal.endclass.cost', 'rep0_range_61.nominal.endclass.prob', 'rep0_range_61.nominal.endclass.expected_cost', 'rep0_range_61.nominal.endclass.in_bound', 'rep0_range_61.nominal.endclass.at_finish', 'rep0_range_61.nominal.endclass.line_dist', 'rep0_range_61.nominal.endclass.num_modes', 'rep0_range_61.nominal.endclass.end_dist', 'rep0_range_61.nominal.endclass.tot_deviation', 'rep0_range_61.nominal.endclass.faults', 'rep0_range_61.nominal.endclass.classification', 'rep0_range_61.nominal.endclass.end_x', 'rep0_range_61.nominal.endclass.end_y', 'rep0_range_61.nominal.endclass.endpt', 'rep0_range_62.power_no_charge_t1.endclass.rate', 'rep0_range_62.power_no_charge_t1.endclass.cost', 'rep0_range_62.power_no_charge_t1.endclass.prob', 'rep0_range_62.power_no_charge_t1.endclass.expected_cost', 'rep0_range_62.power_no_charge_t1.endclass.in_bound', 'rep0_range_62.power_no_charge_t1.endclass.at_finish', 'rep0_range_62.power_no_charge_t1.endclass.line_dist', 'rep0_range_62.power_no_charge_t1.endclass.num_modes', 'rep0_range_62.power_no_charge_t1.endclass.end_dist', 'rep0_range_62.power_no_charge_t1.endclass.tot_deviation', 'rep0_range_62.power_no_charge_t1.endclass.faults', 'rep0_range_62.power_no_charge_t1.endclass.classification', 'rep0_range_62.power_no_charge_t1.endclass.end_x', 'rep0_range_62.power_no_charge_t1.endclass.end_y', 'rep0_range_62.power_no_charge_t1.endclass.endpt', 'rep0_range_62.power_no_charge_t2.endclass.rate', 'rep0_range_62.power_no_charge_t2.endclass.cost', 'rep0_range_62.power_no_charge_t2.endclass.prob', 'rep0_range_62.power_no_charge_t2.endclass.expected_cost', 'rep0_range_62.power_no_charge_t2.endclass.in_bound', 'rep0_range_62.power_no_charge_t2.endclass.at_finish', 'rep0_range_62.power_no_charge_t2.endclass.line_dist', 'rep0_range_62.power_no_charge_t2.endclass.num_modes', 'rep0_range_62.power_no_charge_t2.endclass.end_dist', 'rep0_range_62.power_no_charge_t2.endclass.tot_deviation', 'rep0_range_62.power_no_charge_t2.endclass.faults', 'rep0_range_62.power_no_charge_t2.endclass.classification', 'rep0_range_62.power_no_charge_t2.endclass.end_x', 'rep0_range_62.power_no_charge_t2.endclass.end_y', 'rep0_range_62.power_no_charge_t2.endclass.endpt', 'rep0_range_62.power_short_t1.endclass.rate', 'rep0_range_62.power_short_t1.endclass.cost', 'rep0_range_62.power_short_t1.endclass.prob', 'rep0_range_62.power_short_t1.endclass.expected_cost', 'rep0_range_62.power_short_t1.endclass.in_bound', 'rep0_range_62.power_short_t1.endclass.at_finish', 'rep0_range_62.power_short_t1.endclass.line_dist', 'rep0_range_62.power_short_t1.endclass.num_modes', 'rep0_range_62.power_short_t1.endclass.end_dist', 'rep0_range_62.power_short_t1.endclass.tot_deviation', 'rep0_range_62.power_short_t1.endclass.faults', 'rep0_range_62.power_short_t1.endclass.classification', 'rep0_range_62.power_short_t1.endclass.end_x', 'rep0_range_62.power_short_t1.endclass.end_y', 'rep0_range_62.power_short_t1.endclass.endpt', 'rep0_range_62.power_short_t2.endclass.rate', 'rep0_range_62.power_short_t2.endclass.cost', 'rep0_range_62.power_short_t2.endclass.prob', 'rep0_range_62.power_short_t2.endclass.expected_cost', 'rep0_range_62.power_short_t2.endclass.in_bound', 'rep0_range_62.power_short_t2.endclass.at_finish', 'rep0_range_62.power_short_t2.endclass.line_dist', 'rep0_range_62.power_short_t2.endclass.num_modes', 'rep0_range_62.power_short_t2.endclass.end_dist', 'rep0_range_62.power_short_t2.endclass.tot_deviation', 'rep0_range_62.power_short_t2.endclass.faults', 'rep0_range_62.power_short_t2.endclass.classification', 'rep0_range_62.power_short_t2.endclass.end_x', 'rep0_range_62.power_short_t2.endclass.end_y', 'rep0_range_62.power_short_t2.endclass.endpt', 'rep0_range_62.nominal.endclass.rate', 'rep0_range_62.nominal.endclass.cost', 'rep0_range_62.nominal.endclass.prob', 'rep0_range_62.nominal.endclass.expected_cost', 'rep0_range_62.nominal.endclass.in_bound', 'rep0_range_62.nominal.endclass.at_finish', 'rep0_range_62.nominal.endclass.line_dist', 'rep0_range_62.nominal.endclass.num_modes', 'rep0_range_62.nominal.endclass.end_dist', 'rep0_range_62.nominal.endclass.tot_deviation', 'rep0_range_62.nominal.endclass.faults', 'rep0_range_62.nominal.endclass.classification', 'rep0_range_62.nominal.endclass.end_x', 'rep0_range_62.nominal.endclass.end_y', 'rep0_range_62.nominal.endclass.endpt', 'rep0_range_63.power_no_charge_t1.endclass.rate', 'rep0_range_63.power_no_charge_t1.endclass.cost', 'rep0_range_63.power_no_charge_t1.endclass.prob', 'rep0_range_63.power_no_charge_t1.endclass.expected_cost', 'rep0_range_63.power_no_charge_t1.endclass.in_bound', 'rep0_range_63.power_no_charge_t1.endclass.at_finish', 'rep0_range_63.power_no_charge_t1.endclass.line_dist', 'rep0_range_63.power_no_charge_t1.endclass.num_modes', 'rep0_range_63.power_no_charge_t1.endclass.end_dist', 'rep0_range_63.power_no_charge_t1.endclass.tot_deviation', 'rep0_range_63.power_no_charge_t1.endclass.faults', 'rep0_range_63.power_no_charge_t1.endclass.classification', 'rep0_range_63.power_no_charge_t1.endclass.end_x', 'rep0_range_63.power_no_charge_t1.endclass.end_y', 'rep0_range_63.power_no_charge_t1.endclass.endpt', 'rep0_range_63.power_no_charge_t2.endclass.rate', 'rep0_range_63.power_no_charge_t2.endclass.cost', 'rep0_range_63.power_no_charge_t2.endclass.prob', 'rep0_range_63.power_no_charge_t2.endclass.expected_cost', 'rep0_range_63.power_no_charge_t2.endclass.in_bound', 'rep0_range_63.power_no_charge_t2.endclass.at_finish', 'rep0_range_63.power_no_charge_t2.endclass.line_dist', 'rep0_range_63.power_no_charge_t2.endclass.num_modes', 'rep0_range_63.power_no_charge_t2.endclass.end_dist', 'rep0_range_63.power_no_charge_t2.endclass.tot_deviation', 'rep0_range_63.power_no_charge_t2.endclass.faults', 'rep0_range_63.power_no_charge_t2.endclass.classification', 'rep0_range_63.power_no_charge_t2.endclass.end_x', 'rep0_range_63.power_no_charge_t2.endclass.end_y', 'rep0_range_63.power_no_charge_t2.endclass.endpt', 'rep0_range_63.power_short_t1.endclass.rate', 'rep0_range_63.power_short_t1.endclass.cost', 'rep0_range_63.power_short_t1.endclass.prob', 'rep0_range_63.power_short_t1.endclass.expected_cost', 'rep0_range_63.power_short_t1.endclass.in_bound', 'rep0_range_63.power_short_t1.endclass.at_finish', 'rep0_range_63.power_short_t1.endclass.line_dist', 'rep0_range_63.power_short_t1.endclass.num_modes', 'rep0_range_63.power_short_t1.endclass.end_dist', 'rep0_range_63.power_short_t1.endclass.tot_deviation', 'rep0_range_63.power_short_t1.endclass.faults', 'rep0_range_63.power_short_t1.endclass.classification', 'rep0_range_63.power_short_t1.endclass.end_x', 'rep0_range_63.power_short_t1.endclass.end_y', 'rep0_range_63.power_short_t1.endclass.endpt', 'rep0_range_63.power_short_t2.endclass.rate', 'rep0_range_63.power_short_t2.endclass.cost', 'rep0_range_63.power_short_t2.endclass.prob', 'rep0_range_63.power_short_t2.endclass.expected_cost', 'rep0_range_63.power_short_t2.endclass.in_bound', 'rep0_range_63.power_short_t2.endclass.at_finish', 'rep0_range_63.power_short_t2.endclass.line_dist', 'rep0_range_63.power_short_t2.endclass.num_modes', 'rep0_range_63.power_short_t2.endclass.end_dist', 'rep0_range_63.power_short_t2.endclass.tot_deviation', 'rep0_range_63.power_short_t2.endclass.faults', 'rep0_range_63.power_short_t2.endclass.classification', 'rep0_range_63.power_short_t2.endclass.end_x', 'rep0_range_63.power_short_t2.endclass.end_y', 'rep0_range_63.power_short_t2.endclass.endpt', 'rep0_range_63.nominal.endclass.rate', 'rep0_range_63.nominal.endclass.cost', 'rep0_range_63.nominal.endclass.prob', 'rep0_range_63.nominal.endclass.expected_cost', 'rep0_range_63.nominal.endclass.in_bound', 'rep0_range_63.nominal.endclass.at_finish', 'rep0_range_63.nominal.endclass.line_dist', 'rep0_range_63.nominal.endclass.num_modes', 'rep0_range_63.nominal.endclass.end_dist', 'rep0_range_63.nominal.endclass.tot_deviation', 'rep0_range_63.nominal.endclass.faults', 'rep0_range_63.nominal.endclass.classification', 'rep0_range_63.nominal.endclass.end_x', 'rep0_range_63.nominal.endclass.end_y', 'rep0_range_63.nominal.endclass.endpt', 'rep0_range_64.power_no_charge_t1.endclass.rate', 'rep0_range_64.power_no_charge_t1.endclass.cost', 'rep0_range_64.power_no_charge_t1.endclass.prob', 'rep0_range_64.power_no_charge_t1.endclass.expected_cost', 'rep0_range_64.power_no_charge_t1.endclass.in_bound', 'rep0_range_64.power_no_charge_t1.endclass.at_finish', 'rep0_range_64.power_no_charge_t1.endclass.line_dist', 'rep0_range_64.power_no_charge_t1.endclass.num_modes', 'rep0_range_64.power_no_charge_t1.endclass.end_dist', 'rep0_range_64.power_no_charge_t1.endclass.tot_deviation', 'rep0_range_64.power_no_charge_t1.endclass.faults', 'rep0_range_64.power_no_charge_t1.endclass.classification', 'rep0_range_64.power_no_charge_t1.endclass.end_x', 'rep0_range_64.power_no_charge_t1.endclass.end_y', 'rep0_range_64.power_no_charge_t1.endclass.endpt', 'rep0_range_64.power_no_charge_t2.endclass.rate', 'rep0_range_64.power_no_charge_t2.endclass.cost', 'rep0_range_64.power_no_charge_t2.endclass.prob', 'rep0_range_64.power_no_charge_t2.endclass.expected_cost', 'rep0_range_64.power_no_charge_t2.endclass.in_bound', 'rep0_range_64.power_no_charge_t2.endclass.at_finish', 'rep0_range_64.power_no_charge_t2.endclass.line_dist', 'rep0_range_64.power_no_charge_t2.endclass.num_modes', 'rep0_range_64.power_no_charge_t2.endclass.end_dist', 'rep0_range_64.power_no_charge_t2.endclass.tot_deviation', 'rep0_range_64.power_no_charge_t2.endclass.faults', 'rep0_range_64.power_no_charge_t2.endclass.classification', 'rep0_range_64.power_no_charge_t2.endclass.end_x', 'rep0_range_64.power_no_charge_t2.endclass.end_y', 'rep0_range_64.power_no_charge_t2.endclass.endpt', 'rep0_range_64.power_short_t1.endclass.rate', 'rep0_range_64.power_short_t1.endclass.cost', 'rep0_range_64.power_short_t1.endclass.prob', 'rep0_range_64.power_short_t1.endclass.expected_cost', 'rep0_range_64.power_short_t1.endclass.in_bound', 'rep0_range_64.power_short_t1.endclass.at_finish', 'rep0_range_64.power_short_t1.endclass.line_dist', 'rep0_range_64.power_short_t1.endclass.num_modes', 'rep0_range_64.power_short_t1.endclass.end_dist', 'rep0_range_64.power_short_t1.endclass.tot_deviation', 'rep0_range_64.power_short_t1.endclass.faults', 'rep0_range_64.power_short_t1.endclass.classification', 'rep0_range_64.power_short_t1.endclass.end_x', 'rep0_range_64.power_short_t1.endclass.end_y', 'rep0_range_64.power_short_t1.endclass.endpt', 'rep0_range_64.power_short_t2.endclass.rate', 'rep0_range_64.power_short_t2.endclass.cost', 'rep0_range_64.power_short_t2.endclass.prob', 'rep0_range_64.power_short_t2.endclass.expected_cost', 'rep0_range_64.power_short_t2.endclass.in_bound', 'rep0_range_64.power_short_t2.endclass.at_finish', 'rep0_range_64.power_short_t2.endclass.line_dist', 'rep0_range_64.power_short_t2.endclass.num_modes', 'rep0_range_64.power_short_t2.endclass.end_dist', 'rep0_range_64.power_short_t2.endclass.tot_deviation', 'rep0_range_64.power_short_t2.endclass.faults', 'rep0_range_64.power_short_t2.endclass.classification', 'rep0_range_64.power_short_t2.endclass.end_x', 'rep0_range_64.power_short_t2.endclass.end_y', 'rep0_range_64.power_short_t2.endclass.endpt', 'rep0_range_64.nominal.endclass.rate', 'rep0_range_64.nominal.endclass.cost', 'rep0_range_64.nominal.endclass.prob', 'rep0_range_64.nominal.endclass.expected_cost', 'rep0_range_64.nominal.endclass.in_bound', 'rep0_range_64.nominal.endclass.at_finish', 'rep0_range_64.nominal.endclass.line_dist', 'rep0_range_64.nominal.endclass.num_modes', 'rep0_range_64.nominal.endclass.end_dist', 'rep0_range_64.nominal.endclass.tot_deviation', 'rep0_range_64.nominal.endclass.faults', 'rep0_range_64.nominal.endclass.classification', 'rep0_range_64.nominal.endclass.end_x', 'rep0_range_64.nominal.endclass.end_y', 'rep0_range_64.nominal.endclass.endpt', 'rep0_range_65.power_no_charge_t1.endclass.rate', 'rep0_range_65.power_no_charge_t1.endclass.cost', 'rep0_range_65.power_no_charge_t1.endclass.prob', 'rep0_range_65.power_no_charge_t1.endclass.expected_cost', 'rep0_range_65.power_no_charge_t1.endclass.in_bound', 'rep0_range_65.power_no_charge_t1.endclass.at_finish', 'rep0_range_65.power_no_charge_t1.endclass.line_dist', 'rep0_range_65.power_no_charge_t1.endclass.num_modes', 'rep0_range_65.power_no_charge_t1.endclass.end_dist', 'rep0_range_65.power_no_charge_t1.endclass.tot_deviation', 'rep0_range_65.power_no_charge_t1.endclass.faults', 'rep0_range_65.power_no_charge_t1.endclass.classification', 'rep0_range_65.power_no_charge_t1.endclass.end_x', 'rep0_range_65.power_no_charge_t1.endclass.end_y', 'rep0_range_65.power_no_charge_t1.endclass.endpt', 'rep0_range_65.power_no_charge_t2.endclass.rate', 'rep0_range_65.power_no_charge_t2.endclass.cost', 'rep0_range_65.power_no_charge_t2.endclass.prob', 'rep0_range_65.power_no_charge_t2.endclass.expected_cost', 'rep0_range_65.power_no_charge_t2.endclass.in_bound', 'rep0_range_65.power_no_charge_t2.endclass.at_finish', 'rep0_range_65.power_no_charge_t2.endclass.line_dist', 'rep0_range_65.power_no_charge_t2.endclass.num_modes', 'rep0_range_65.power_no_charge_t2.endclass.end_dist', 'rep0_range_65.power_no_charge_t2.endclass.tot_deviation', 'rep0_range_65.power_no_charge_t2.endclass.faults', 'rep0_range_65.power_no_charge_t2.endclass.classification', 'rep0_range_65.power_no_charge_t2.endclass.end_x', 'rep0_range_65.power_no_charge_t2.endclass.end_y', 'rep0_range_65.power_no_charge_t2.endclass.endpt', 'rep0_range_65.power_short_t1.endclass.rate', 'rep0_range_65.power_short_t1.endclass.cost', 'rep0_range_65.power_short_t1.endclass.prob', 'rep0_range_65.power_short_t1.endclass.expected_cost', 'rep0_range_65.power_short_t1.endclass.in_bound', 'rep0_range_65.power_short_t1.endclass.at_finish', 'rep0_range_65.power_short_t1.endclass.line_dist', 'rep0_range_65.power_short_t1.endclass.num_modes', 'rep0_range_65.power_short_t1.endclass.end_dist', 'rep0_range_65.power_short_t1.endclass.tot_deviation', 'rep0_range_65.power_short_t1.endclass.faults', 'rep0_range_65.power_short_t1.endclass.classification', 'rep0_range_65.power_short_t1.endclass.end_x', 'rep0_range_65.power_short_t1.endclass.end_y', 'rep0_range_65.power_short_t1.endclass.endpt', 'rep0_range_65.power_short_t2.endclass.rate', 'rep0_range_65.power_short_t2.endclass.cost', 'rep0_range_65.power_short_t2.endclass.prob', 'rep0_range_65.power_short_t2.endclass.expected_cost', 'rep0_range_65.power_short_t2.endclass.in_bound', 'rep0_range_65.power_short_t2.endclass.at_finish', 'rep0_range_65.power_short_t2.endclass.line_dist', 'rep0_range_65.power_short_t2.endclass.num_modes', 'rep0_range_65.power_short_t2.endclass.end_dist', 'rep0_range_65.power_short_t2.endclass.tot_deviation', 'rep0_range_65.power_short_t2.endclass.faults', 'rep0_range_65.power_short_t2.endclass.classification', 'rep0_range_65.power_short_t2.endclass.end_x', 'rep0_range_65.power_short_t2.endclass.end_y', 'rep0_range_65.power_short_t2.endclass.endpt', 'rep0_range_65.nominal.endclass.rate', 'rep0_range_65.nominal.endclass.cost', 'rep0_range_65.nominal.endclass.prob', 'rep0_range_65.nominal.endclass.expected_cost', 'rep0_range_65.nominal.endclass.in_bound', 'rep0_range_65.nominal.endclass.at_finish', 'rep0_range_65.nominal.endclass.line_dist', 'rep0_range_65.nominal.endclass.num_modes', 'rep0_range_65.nominal.endclass.end_dist', 'rep0_range_65.nominal.endclass.tot_deviation', 'rep0_range_65.nominal.endclass.faults', 'rep0_range_65.nominal.endclass.classification', 'rep0_range_65.nominal.endclass.end_x', 'rep0_range_65.nominal.endclass.end_y', 'rep0_range_65.nominal.endclass.endpt', 'rep0_range_66.power_no_charge_t1.endclass.rate', 'rep0_range_66.power_no_charge_t1.endclass.cost', 'rep0_range_66.power_no_charge_t1.endclass.prob', 'rep0_range_66.power_no_charge_t1.endclass.expected_cost', 'rep0_range_66.power_no_charge_t1.endclass.in_bound', 'rep0_range_66.power_no_charge_t1.endclass.at_finish', 'rep0_range_66.power_no_charge_t1.endclass.line_dist', 'rep0_range_66.power_no_charge_t1.endclass.num_modes', 'rep0_range_66.power_no_charge_t1.endclass.end_dist', 'rep0_range_66.power_no_charge_t1.endclass.tot_deviation', 'rep0_range_66.power_no_charge_t1.endclass.faults', 'rep0_range_66.power_no_charge_t1.endclass.classification', 'rep0_range_66.power_no_charge_t1.endclass.end_x', 'rep0_range_66.power_no_charge_t1.endclass.end_y', 'rep0_range_66.power_no_charge_t1.endclass.endpt', 'rep0_range_66.power_no_charge_t2.endclass.rate', 'rep0_range_66.power_no_charge_t2.endclass.cost', 'rep0_range_66.power_no_charge_t2.endclass.prob', 'rep0_range_66.power_no_charge_t2.endclass.expected_cost', 'rep0_range_66.power_no_charge_t2.endclass.in_bound', 'rep0_range_66.power_no_charge_t2.endclass.at_finish', 'rep0_range_66.power_no_charge_t2.endclass.line_dist', 'rep0_range_66.power_no_charge_t2.endclass.num_modes', 'rep0_range_66.power_no_charge_t2.endclass.end_dist', 'rep0_range_66.power_no_charge_t2.endclass.tot_deviation', 'rep0_range_66.power_no_charge_t2.endclass.faults', 'rep0_range_66.power_no_charge_t2.endclass.classification', 'rep0_range_66.power_no_charge_t2.endclass.end_x', 'rep0_range_66.power_no_charge_t2.endclass.end_y', 'rep0_range_66.power_no_charge_t2.endclass.endpt', 'rep0_range_66.power_short_t1.endclass.rate', 'rep0_range_66.power_short_t1.endclass.cost', 'rep0_range_66.power_short_t1.endclass.prob', 'rep0_range_66.power_short_t1.endclass.expected_cost', 'rep0_range_66.power_short_t1.endclass.in_bound', 'rep0_range_66.power_short_t1.endclass.at_finish', 'rep0_range_66.power_short_t1.endclass.line_dist', 'rep0_range_66.power_short_t1.endclass.num_modes', 'rep0_range_66.power_short_t1.endclass.end_dist', 'rep0_range_66.power_short_t1.endclass.tot_deviation', 'rep0_range_66.power_short_t1.endclass.faults', 'rep0_range_66.power_short_t1.endclass.classification', 'rep0_range_66.power_short_t1.endclass.end_x', 'rep0_range_66.power_short_t1.endclass.end_y', 'rep0_range_66.power_short_t1.endclass.endpt', 'rep0_range_66.power_short_t2.endclass.rate', 'rep0_range_66.power_short_t2.endclass.cost', 'rep0_range_66.power_short_t2.endclass.prob', 'rep0_range_66.power_short_t2.endclass.expected_cost', 'rep0_range_66.power_short_t2.endclass.in_bound', 'rep0_range_66.power_short_t2.endclass.at_finish', 'rep0_range_66.power_short_t2.endclass.line_dist', 'rep0_range_66.power_short_t2.endclass.num_modes', 'rep0_range_66.power_short_t2.endclass.end_dist', 'rep0_range_66.power_short_t2.endclass.tot_deviation', 'rep0_range_66.power_short_t2.endclass.faults', 'rep0_range_66.power_short_t2.endclass.classification', 'rep0_range_66.power_short_t2.endclass.end_x', 'rep0_range_66.power_short_t2.endclass.end_y', 'rep0_range_66.power_short_t2.endclass.endpt', 'rep0_range_66.nominal.endclass.rate', 'rep0_range_66.nominal.endclass.cost', 'rep0_range_66.nominal.endclass.prob', 'rep0_range_66.nominal.endclass.expected_cost', 'rep0_range_66.nominal.endclass.in_bound', 'rep0_range_66.nominal.endclass.at_finish', 'rep0_range_66.nominal.endclass.line_dist', 'rep0_range_66.nominal.endclass.num_modes', 'rep0_range_66.nominal.endclass.end_dist', 'rep0_range_66.nominal.endclass.tot_deviation', 'rep0_range_66.nominal.endclass.faults', 'rep0_range_66.nominal.endclass.classification', 'rep0_range_66.nominal.endclass.end_x', 'rep0_range_66.nominal.endclass.end_y', 'rep0_range_66.nominal.endclass.endpt', 'rep0_range_67.power_no_charge_t1.endclass.rate', 'rep0_range_67.power_no_charge_t1.endclass.cost', 'rep0_range_67.power_no_charge_t1.endclass.prob', 'rep0_range_67.power_no_charge_t1.endclass.expected_cost', 'rep0_range_67.power_no_charge_t1.endclass.in_bound', 'rep0_range_67.power_no_charge_t1.endclass.at_finish', 'rep0_range_67.power_no_charge_t1.endclass.line_dist', 'rep0_range_67.power_no_charge_t1.endclass.num_modes', 'rep0_range_67.power_no_charge_t1.endclass.end_dist', 'rep0_range_67.power_no_charge_t1.endclass.tot_deviation', 'rep0_range_67.power_no_charge_t1.endclass.faults', 'rep0_range_67.power_no_charge_t1.endclass.classification', 'rep0_range_67.power_no_charge_t1.endclass.end_x', 'rep0_range_67.power_no_charge_t1.endclass.end_y', 'rep0_range_67.power_no_charge_t1.endclass.endpt', 'rep0_range_67.power_no_charge_t2.endclass.rate', 'rep0_range_67.power_no_charge_t2.endclass.cost', 'rep0_range_67.power_no_charge_t2.endclass.prob', 'rep0_range_67.power_no_charge_t2.endclass.expected_cost', 'rep0_range_67.power_no_charge_t2.endclass.in_bound', 'rep0_range_67.power_no_charge_t2.endclass.at_finish', 'rep0_range_67.power_no_charge_t2.endclass.line_dist', 'rep0_range_67.power_no_charge_t2.endclass.num_modes', 'rep0_range_67.power_no_charge_t2.endclass.end_dist', 'rep0_range_67.power_no_charge_t2.endclass.tot_deviation', 'rep0_range_67.power_no_charge_t2.endclass.faults', 'rep0_range_67.power_no_charge_t2.endclass.classification', 'rep0_range_67.power_no_charge_t2.endclass.end_x', 'rep0_range_67.power_no_charge_t2.endclass.end_y', 'rep0_range_67.power_no_charge_t2.endclass.endpt', 'rep0_range_67.power_short_t1.endclass.rate', 'rep0_range_67.power_short_t1.endclass.cost', 'rep0_range_67.power_short_t1.endclass.prob', 'rep0_range_67.power_short_t1.endclass.expected_cost', 'rep0_range_67.power_short_t1.endclass.in_bound', 'rep0_range_67.power_short_t1.endclass.at_finish', 'rep0_range_67.power_short_t1.endclass.line_dist', 'rep0_range_67.power_short_t1.endclass.num_modes', 'rep0_range_67.power_short_t1.endclass.end_dist', 'rep0_range_67.power_short_t1.endclass.tot_deviation', 'rep0_range_67.power_short_t1.endclass.faults', 'rep0_range_67.power_short_t1.endclass.classification', 'rep0_range_67.power_short_t1.endclass.end_x', 'rep0_range_67.power_short_t1.endclass.end_y', 'rep0_range_67.power_short_t1.endclass.endpt', 'rep0_range_67.power_short_t2.endclass.rate', 'rep0_range_67.power_short_t2.endclass.cost', 'rep0_range_67.power_short_t2.endclass.prob', 'rep0_range_67.power_short_t2.endclass.expected_cost', 'rep0_range_67.power_short_t2.endclass.in_bound', 'rep0_range_67.power_short_t2.endclass.at_finish', 'rep0_range_67.power_short_t2.endclass.line_dist', 'rep0_range_67.power_short_t2.endclass.num_modes', 'rep0_range_67.power_short_t2.endclass.end_dist', 'rep0_range_67.power_short_t2.endclass.tot_deviation', 'rep0_range_67.power_short_t2.endclass.faults', 'rep0_range_67.power_short_t2.endclass.classification', 'rep0_range_67.power_short_t2.endclass.end_x', 'rep0_range_67.power_short_t2.endclass.end_y', 'rep0_range_67.power_short_t2.endclass.endpt', 'rep0_range_67.nominal.endclass.rate', 'rep0_range_67.nominal.endclass.cost', 'rep0_range_67.nominal.endclass.prob', 'rep0_range_67.nominal.endclass.expected_cost', 'rep0_range_67.nominal.endclass.in_bound', 'rep0_range_67.nominal.endclass.at_finish', 'rep0_range_67.nominal.endclass.line_dist', 'rep0_range_67.nominal.endclass.num_modes', 'rep0_range_67.nominal.endclass.end_dist', 'rep0_range_67.nominal.endclass.tot_deviation', 'rep0_range_67.nominal.endclass.faults', 'rep0_range_67.nominal.endclass.classification', 'rep0_range_67.nominal.endclass.end_x', 'rep0_range_67.nominal.endclass.end_y', 'rep0_range_67.nominal.endclass.endpt', 'rep0_range_68.power_no_charge_t1.endclass.rate', 'rep0_range_68.power_no_charge_t1.endclass.cost', 'rep0_range_68.power_no_charge_t1.endclass.prob', 'rep0_range_68.power_no_charge_t1.endclass.expected_cost', 'rep0_range_68.power_no_charge_t1.endclass.in_bound', 'rep0_range_68.power_no_charge_t1.endclass.at_finish', 'rep0_range_68.power_no_charge_t1.endclass.line_dist', 'rep0_range_68.power_no_charge_t1.endclass.num_modes', 'rep0_range_68.power_no_charge_t1.endclass.end_dist', 'rep0_range_68.power_no_charge_t1.endclass.tot_deviation', 'rep0_range_68.power_no_charge_t1.endclass.faults', 'rep0_range_68.power_no_charge_t1.endclass.classification', 'rep0_range_68.power_no_charge_t1.endclass.end_x', 'rep0_range_68.power_no_charge_t1.endclass.end_y', 'rep0_range_68.power_no_charge_t1.endclass.endpt', 'rep0_range_68.power_no_charge_t2.endclass.rate', 'rep0_range_68.power_no_charge_t2.endclass.cost', 'rep0_range_68.power_no_charge_t2.endclass.prob', 'rep0_range_68.power_no_charge_t2.endclass.expected_cost', 'rep0_range_68.power_no_charge_t2.endclass.in_bound', 'rep0_range_68.power_no_charge_t2.endclass.at_finish', 'rep0_range_68.power_no_charge_t2.endclass.line_dist', 'rep0_range_68.power_no_charge_t2.endclass.num_modes', 'rep0_range_68.power_no_charge_t2.endclass.end_dist', 'rep0_range_68.power_no_charge_t2.endclass.tot_deviation', 'rep0_range_68.power_no_charge_t2.endclass.faults', 'rep0_range_68.power_no_charge_t2.endclass.classification', 'rep0_range_68.power_no_charge_t2.endclass.end_x', 'rep0_range_68.power_no_charge_t2.endclass.end_y', 'rep0_range_68.power_no_charge_t2.endclass.endpt', 'rep0_range_68.power_short_t1.endclass.rate', 'rep0_range_68.power_short_t1.endclass.cost', 'rep0_range_68.power_short_t1.endclass.prob', 'rep0_range_68.power_short_t1.endclass.expected_cost', 'rep0_range_68.power_short_t1.endclass.in_bound', 'rep0_range_68.power_short_t1.endclass.at_finish', 'rep0_range_68.power_short_t1.endclass.line_dist', 'rep0_range_68.power_short_t1.endclass.num_modes', 'rep0_range_68.power_short_t1.endclass.end_dist', 'rep0_range_68.power_short_t1.endclass.tot_deviation', 'rep0_range_68.power_short_t1.endclass.faults', 'rep0_range_68.power_short_t1.endclass.classification', 'rep0_range_68.power_short_t1.endclass.end_x', 'rep0_range_68.power_short_t1.endclass.end_y', 'rep0_range_68.power_short_t1.endclass.endpt', 'rep0_range_68.power_short_t2.endclass.rate', 'rep0_range_68.power_short_t2.endclass.cost', 'rep0_range_68.power_short_t2.endclass.prob', 'rep0_range_68.power_short_t2.endclass.expected_cost', 'rep0_range_68.power_short_t2.endclass.in_bound', 'rep0_range_68.power_short_t2.endclass.at_finish', 'rep0_range_68.power_short_t2.endclass.line_dist', 'rep0_range_68.power_short_t2.endclass.num_modes', 'rep0_range_68.power_short_t2.endclass.end_dist', 'rep0_range_68.power_short_t2.endclass.tot_deviation', 'rep0_range_68.power_short_t2.endclass.faults', 'rep0_range_68.power_short_t2.endclass.classification', 'rep0_range_68.power_short_t2.endclass.end_x', 'rep0_range_68.power_short_t2.endclass.end_y', 'rep0_range_68.power_short_t2.endclass.endpt', 'rep0_range_68.nominal.endclass.rate', 'rep0_range_68.nominal.endclass.cost', 'rep0_range_68.nominal.endclass.prob', 'rep0_range_68.nominal.endclass.expected_cost', 'rep0_range_68.nominal.endclass.in_bound', 'rep0_range_68.nominal.endclass.at_finish', 'rep0_range_68.nominal.endclass.line_dist', 'rep0_range_68.nominal.endclass.num_modes', 'rep0_range_68.nominal.endclass.end_dist', 'rep0_range_68.nominal.endclass.tot_deviation', 'rep0_range_68.nominal.endclass.faults', 'rep0_range_68.nominal.endclass.classification', 'rep0_range_68.nominal.endclass.end_x', 'rep0_range_68.nominal.endclass.end_y', 'rep0_range_68.nominal.endclass.endpt', 'rep0_range_69.power_no_charge_t1.endclass.rate', 'rep0_range_69.power_no_charge_t1.endclass.cost', 'rep0_range_69.power_no_charge_t1.endclass.prob', 'rep0_range_69.power_no_charge_t1.endclass.expected_cost', 'rep0_range_69.power_no_charge_t1.endclass.in_bound', 'rep0_range_69.power_no_charge_t1.endclass.at_finish', 'rep0_range_69.power_no_charge_t1.endclass.line_dist', 'rep0_range_69.power_no_charge_t1.endclass.num_modes', 'rep0_range_69.power_no_charge_t1.endclass.end_dist', 'rep0_range_69.power_no_charge_t1.endclass.tot_deviation', 'rep0_range_69.power_no_charge_t1.endclass.faults', 'rep0_range_69.power_no_charge_t1.endclass.classification', 'rep0_range_69.power_no_charge_t1.endclass.end_x', 'rep0_range_69.power_no_charge_t1.endclass.end_y', 'rep0_range_69.power_no_charge_t1.endclass.endpt', 'rep0_range_69.power_no_charge_t2.endclass.rate', 'rep0_range_69.power_no_charge_t2.endclass.cost', 'rep0_range_69.power_no_charge_t2.endclass.prob', 'rep0_range_69.power_no_charge_t2.endclass.expected_cost', 'rep0_range_69.power_no_charge_t2.endclass.in_bound', 'rep0_range_69.power_no_charge_t2.endclass.at_finish', 'rep0_range_69.power_no_charge_t2.endclass.line_dist', 'rep0_range_69.power_no_charge_t2.endclass.num_modes', 'rep0_range_69.power_no_charge_t2.endclass.end_dist', 'rep0_range_69.power_no_charge_t2.endclass.tot_deviation', 'rep0_range_69.power_no_charge_t2.endclass.faults', 'rep0_range_69.power_no_charge_t2.endclass.classification', 'rep0_range_69.power_no_charge_t2.endclass.end_x', 'rep0_range_69.power_no_charge_t2.endclass.end_y', 'rep0_range_69.power_no_charge_t2.endclass.endpt', 'rep0_range_69.power_short_t1.endclass.rate', 'rep0_range_69.power_short_t1.endclass.cost', 'rep0_range_69.power_short_t1.endclass.prob', 'rep0_range_69.power_short_t1.endclass.expected_cost', 'rep0_range_69.power_short_t1.endclass.in_bound', 'rep0_range_69.power_short_t1.endclass.at_finish', 'rep0_range_69.power_short_t1.endclass.line_dist', 'rep0_range_69.power_short_t1.endclass.num_modes', 'rep0_range_69.power_short_t1.endclass.end_dist', 'rep0_range_69.power_short_t1.endclass.tot_deviation', 'rep0_range_69.power_short_t1.endclass.faults', 'rep0_range_69.power_short_t1.endclass.classification', 'rep0_range_69.power_short_t1.endclass.end_x', 'rep0_range_69.power_short_t1.endclass.end_y', 'rep0_range_69.power_short_t1.endclass.endpt', 'rep0_range_69.power_short_t2.endclass.rate', 'rep0_range_69.power_short_t2.endclass.cost', 'rep0_range_69.power_short_t2.endclass.prob', 'rep0_range_69.power_short_t2.endclass.expected_cost', 'rep0_range_69.power_short_t2.endclass.in_bound', 'rep0_range_69.power_short_t2.endclass.at_finish', 'rep0_range_69.power_short_t2.endclass.line_dist', 'rep0_range_69.power_short_t2.endclass.num_modes', 'rep0_range_69.power_short_t2.endclass.end_dist', 'rep0_range_69.power_short_t2.endclass.tot_deviation', 'rep0_range_69.power_short_t2.endclass.faults', 'rep0_range_69.power_short_t2.endclass.classification', 'rep0_range_69.power_short_t2.endclass.end_x', 'rep0_range_69.power_short_t2.endclass.end_y', 'rep0_range_69.power_short_t2.endclass.endpt', 'rep0_range_69.nominal.endclass.rate', 'rep0_range_69.nominal.endclass.cost', 'rep0_range_69.nominal.endclass.prob', 'rep0_range_69.nominal.endclass.expected_cost', 'rep0_range_69.nominal.endclass.in_bound', 'rep0_range_69.nominal.endclass.at_finish', 'rep0_range_69.nominal.endclass.line_dist', 'rep0_range_69.nominal.endclass.num_modes', 'rep0_range_69.nominal.endclass.end_dist', 'rep0_range_69.nominal.endclass.tot_deviation', 'rep0_range_69.nominal.endclass.faults', 'rep0_range_69.nominal.endclass.classification', 'rep0_range_69.nominal.endclass.end_x', 'rep0_range_69.nominal.endclass.end_y', 'rep0_range_69.nominal.endclass.endpt', 'rep0_range_70.power_no_charge_t1.endclass.rate', 'rep0_range_70.power_no_charge_t1.endclass.cost', 'rep0_range_70.power_no_charge_t1.endclass.prob', 'rep0_range_70.power_no_charge_t1.endclass.expected_cost', 'rep0_range_70.power_no_charge_t1.endclass.in_bound', 'rep0_range_70.power_no_charge_t1.endclass.at_finish', 'rep0_range_70.power_no_charge_t1.endclass.line_dist', 'rep0_range_70.power_no_charge_t1.endclass.num_modes', 'rep0_range_70.power_no_charge_t1.endclass.end_dist', 'rep0_range_70.power_no_charge_t1.endclass.tot_deviation', 'rep0_range_70.power_no_charge_t1.endclass.faults', 'rep0_range_70.power_no_charge_t1.endclass.classification', 'rep0_range_70.power_no_charge_t1.endclass.end_x', 'rep0_range_70.power_no_charge_t1.endclass.end_y', 'rep0_range_70.power_no_charge_t1.endclass.endpt', 'rep0_range_70.power_no_charge_t2.endclass.rate', 'rep0_range_70.power_no_charge_t2.endclass.cost', 'rep0_range_70.power_no_charge_t2.endclass.prob', 'rep0_range_70.power_no_charge_t2.endclass.expected_cost', 'rep0_range_70.power_no_charge_t2.endclass.in_bound', 'rep0_range_70.power_no_charge_t2.endclass.at_finish', 'rep0_range_70.power_no_charge_t2.endclass.line_dist', 'rep0_range_70.power_no_charge_t2.endclass.num_modes', 'rep0_range_70.power_no_charge_t2.endclass.end_dist', 'rep0_range_70.power_no_charge_t2.endclass.tot_deviation', 'rep0_range_70.power_no_charge_t2.endclass.faults', 'rep0_range_70.power_no_charge_t2.endclass.classification', 'rep0_range_70.power_no_charge_t2.endclass.end_x', 'rep0_range_70.power_no_charge_t2.endclass.end_y', 'rep0_range_70.power_no_charge_t2.endclass.endpt', 'rep0_range_70.power_short_t1.endclass.rate', 'rep0_range_70.power_short_t1.endclass.cost', 'rep0_range_70.power_short_t1.endclass.prob', 'rep0_range_70.power_short_t1.endclass.expected_cost', 'rep0_range_70.power_short_t1.endclass.in_bound', 'rep0_range_70.power_short_t1.endclass.at_finish', 'rep0_range_70.power_short_t1.endclass.line_dist', 'rep0_range_70.power_short_t1.endclass.num_modes', 'rep0_range_70.power_short_t1.endclass.end_dist', 'rep0_range_70.power_short_t1.endclass.tot_deviation', 'rep0_range_70.power_short_t1.endclass.faults', 'rep0_range_70.power_short_t1.endclass.classification', 'rep0_range_70.power_short_t1.endclass.end_x', 'rep0_range_70.power_short_t1.endclass.end_y', 'rep0_range_70.power_short_t1.endclass.endpt', 'rep0_range_70.power_short_t2.endclass.rate', 'rep0_range_70.power_short_t2.endclass.cost', 'rep0_range_70.power_short_t2.endclass.prob', 'rep0_range_70.power_short_t2.endclass.expected_cost', 'rep0_range_70.power_short_t2.endclass.in_bound', 'rep0_range_70.power_short_t2.endclass.at_finish', 'rep0_range_70.power_short_t2.endclass.line_dist', 'rep0_range_70.power_short_t2.endclass.num_modes', 'rep0_range_70.power_short_t2.endclass.end_dist', 'rep0_range_70.power_short_t2.endclass.tot_deviation', 'rep0_range_70.power_short_t2.endclass.faults', 'rep0_range_70.power_short_t2.endclass.classification', 'rep0_range_70.power_short_t2.endclass.end_x', 'rep0_range_70.power_short_t2.endclass.end_y', 'rep0_range_70.power_short_t2.endclass.endpt', 'rep0_range_70.nominal.endclass.rate', 'rep0_range_70.nominal.endclass.cost', 'rep0_range_70.nominal.endclass.prob', 'rep0_range_70.nominal.endclass.expected_cost', 'rep0_range_70.nominal.endclass.in_bound', 'rep0_range_70.nominal.endclass.at_finish', 'rep0_range_70.nominal.endclass.line_dist', 'rep0_range_70.nominal.endclass.num_modes', 'rep0_range_70.nominal.endclass.end_dist', 'rep0_range_70.nominal.endclass.tot_deviation', 'rep0_range_70.nominal.endclass.faults', 'rep0_range_70.nominal.endclass.classification', 'rep0_range_70.nominal.endclass.end_x', 'rep0_range_70.nominal.endclass.end_y', 'rep0_range_70.nominal.endclass.endpt', 'rep0_range_71.power_no_charge_t1.endclass.rate', 'rep0_range_71.power_no_charge_t1.endclass.cost', 'rep0_range_71.power_no_charge_t1.endclass.prob', 'rep0_range_71.power_no_charge_t1.endclass.expected_cost', 'rep0_range_71.power_no_charge_t1.endclass.in_bound', 'rep0_range_71.power_no_charge_t1.endclass.at_finish', 'rep0_range_71.power_no_charge_t1.endclass.line_dist', 'rep0_range_71.power_no_charge_t1.endclass.num_modes', 'rep0_range_71.power_no_charge_t1.endclass.end_dist', 'rep0_range_71.power_no_charge_t1.endclass.tot_deviation', 'rep0_range_71.power_no_charge_t1.endclass.faults', 'rep0_range_71.power_no_charge_t1.endclass.classification', 'rep0_range_71.power_no_charge_t1.endclass.end_x', 'rep0_range_71.power_no_charge_t1.endclass.end_y', 'rep0_range_71.power_no_charge_t1.endclass.endpt', 'rep0_range_71.power_no_charge_t2.endclass.rate', 'rep0_range_71.power_no_charge_t2.endclass.cost', 'rep0_range_71.power_no_charge_t2.endclass.prob', 'rep0_range_71.power_no_charge_t2.endclass.expected_cost', 'rep0_range_71.power_no_charge_t2.endclass.in_bound', 'rep0_range_71.power_no_charge_t2.endclass.at_finish', 'rep0_range_71.power_no_charge_t2.endclass.line_dist', 'rep0_range_71.power_no_charge_t2.endclass.num_modes', 'rep0_range_71.power_no_charge_t2.endclass.end_dist', 'rep0_range_71.power_no_charge_t2.endclass.tot_deviation', 'rep0_range_71.power_no_charge_t2.endclass.faults', 'rep0_range_71.power_no_charge_t2.endclass.classification', 'rep0_range_71.power_no_charge_t2.endclass.end_x', 'rep0_range_71.power_no_charge_t2.endclass.end_y', 'rep0_range_71.power_no_charge_t2.endclass.endpt', 'rep0_range_71.power_short_t1.endclass.rate', 'rep0_range_71.power_short_t1.endclass.cost', 'rep0_range_71.power_short_t1.endclass.prob', 'rep0_range_71.power_short_t1.endclass.expected_cost', 'rep0_range_71.power_short_t1.endclass.in_bound', 'rep0_range_71.power_short_t1.endclass.at_finish', 'rep0_range_71.power_short_t1.endclass.line_dist', 'rep0_range_71.power_short_t1.endclass.num_modes', 'rep0_range_71.power_short_t1.endclass.end_dist', 'rep0_range_71.power_short_t1.endclass.tot_deviation', 'rep0_range_71.power_short_t1.endclass.faults', 'rep0_range_71.power_short_t1.endclass.classification', 'rep0_range_71.power_short_t1.endclass.end_x', 'rep0_range_71.power_short_t1.endclass.end_y', 'rep0_range_71.power_short_t1.endclass.endpt', 'rep0_range_71.power_short_t2.endclass.rate', 'rep0_range_71.power_short_t2.endclass.cost', 'rep0_range_71.power_short_t2.endclass.prob', 'rep0_range_71.power_short_t2.endclass.expected_cost', 'rep0_range_71.power_short_t2.endclass.in_bound', 'rep0_range_71.power_short_t2.endclass.at_finish', 'rep0_range_71.power_short_t2.endclass.line_dist', 'rep0_range_71.power_short_t2.endclass.num_modes', 'rep0_range_71.power_short_t2.endclass.end_dist', 'rep0_range_71.power_short_t2.endclass.tot_deviation', 'rep0_range_71.power_short_t2.endclass.faults', 'rep0_range_71.power_short_t2.endclass.classification', 'rep0_range_71.power_short_t2.endclass.end_x', 'rep0_range_71.power_short_t2.endclass.end_y', 'rep0_range_71.power_short_t2.endclass.endpt', 'rep0_range_71.nominal.endclass.rate', 'rep0_range_71.nominal.endclass.cost', 'rep0_range_71.nominal.endclass.prob', 'rep0_range_71.nominal.endclass.expected_cost', 'rep0_range_71.nominal.endclass.in_bound', 'rep0_range_71.nominal.endclass.at_finish', 'rep0_range_71.nominal.endclass.line_dist', 'rep0_range_71.nominal.endclass.num_modes', 'rep0_range_71.nominal.endclass.end_dist', 'rep0_range_71.nominal.endclass.tot_deviation', 'rep0_range_71.nominal.endclass.faults', 'rep0_range_71.nominal.endclass.classification', 'rep0_range_71.nominal.endclass.end_x', 'rep0_range_71.nominal.endclass.end_y', 'rep0_range_71.nominal.endclass.endpt', 'rep0_range_72.power_no_charge_t1.endclass.rate', 'rep0_range_72.power_no_charge_t1.endclass.cost', 'rep0_range_72.power_no_charge_t1.endclass.prob', 'rep0_range_72.power_no_charge_t1.endclass.expected_cost', 'rep0_range_72.power_no_charge_t1.endclass.in_bound', 'rep0_range_72.power_no_charge_t1.endclass.at_finish', 'rep0_range_72.power_no_charge_t1.endclass.line_dist', 'rep0_range_72.power_no_charge_t1.endclass.num_modes', 'rep0_range_72.power_no_charge_t1.endclass.end_dist', 'rep0_range_72.power_no_charge_t1.endclass.tot_deviation', 'rep0_range_72.power_no_charge_t1.endclass.faults', 'rep0_range_72.power_no_charge_t1.endclass.classification', 'rep0_range_72.power_no_charge_t1.endclass.end_x', 'rep0_range_72.power_no_charge_t1.endclass.end_y', 'rep0_range_72.power_no_charge_t1.endclass.endpt', 'rep0_range_72.power_no_charge_t2.endclass.rate', 'rep0_range_72.power_no_charge_t2.endclass.cost', 'rep0_range_72.power_no_charge_t2.endclass.prob', 'rep0_range_72.power_no_charge_t2.endclass.expected_cost', 'rep0_range_72.power_no_charge_t2.endclass.in_bound', 'rep0_range_72.power_no_charge_t2.endclass.at_finish', 'rep0_range_72.power_no_charge_t2.endclass.line_dist', 'rep0_range_72.power_no_charge_t2.endclass.num_modes', 'rep0_range_72.power_no_charge_t2.endclass.end_dist', 'rep0_range_72.power_no_charge_t2.endclass.tot_deviation', 'rep0_range_72.power_no_charge_t2.endclass.faults', 'rep0_range_72.power_no_charge_t2.endclass.classification', 'rep0_range_72.power_no_charge_t2.endclass.end_x', 'rep0_range_72.power_no_charge_t2.endclass.end_y', 'rep0_range_72.power_no_charge_t2.endclass.endpt', 'rep0_range_72.power_short_t1.endclass.rate', 'rep0_range_72.power_short_t1.endclass.cost', 'rep0_range_72.power_short_t1.endclass.prob', 'rep0_range_72.power_short_t1.endclass.expected_cost', 'rep0_range_72.power_short_t1.endclass.in_bound', 'rep0_range_72.power_short_t1.endclass.at_finish', 'rep0_range_72.power_short_t1.endclass.line_dist', 'rep0_range_72.power_short_t1.endclass.num_modes', 'rep0_range_72.power_short_t1.endclass.end_dist', 'rep0_range_72.power_short_t1.endclass.tot_deviation', 'rep0_range_72.power_short_t1.endclass.faults', 'rep0_range_72.power_short_t1.endclass.classification', 'rep0_range_72.power_short_t1.endclass.end_x', 'rep0_range_72.power_short_t1.endclass.end_y', 'rep0_range_72.power_short_t1.endclass.endpt', 'rep0_range_72.power_short_t2.endclass.rate', 'rep0_range_72.power_short_t2.endclass.cost', 'rep0_range_72.power_short_t2.endclass.prob', 'rep0_range_72.power_short_t2.endclass.expected_cost', 'rep0_range_72.power_short_t2.endclass.in_bound', 'rep0_range_72.power_short_t2.endclass.at_finish', 'rep0_range_72.power_short_t2.endclass.line_dist', 'rep0_range_72.power_short_t2.endclass.num_modes', 'rep0_range_72.power_short_t2.endclass.end_dist', 'rep0_range_72.power_short_t2.endclass.tot_deviation', 'rep0_range_72.power_short_t2.endclass.faults', 'rep0_range_72.power_short_t2.endclass.classification', 'rep0_range_72.power_short_t2.endclass.end_x', 'rep0_range_72.power_short_t2.endclass.end_y', 'rep0_range_72.power_short_t2.endclass.endpt', 'rep0_range_72.nominal.endclass.rate', 'rep0_range_72.nominal.endclass.cost', 'rep0_range_72.nominal.endclass.prob', 'rep0_range_72.nominal.endclass.expected_cost', 'rep0_range_72.nominal.endclass.in_bound', 'rep0_range_72.nominal.endclass.at_finish', 'rep0_range_72.nominal.endclass.line_dist', 'rep0_range_72.nominal.endclass.num_modes', 'rep0_range_72.nominal.endclass.end_dist', 'rep0_range_72.nominal.endclass.tot_deviation', 'rep0_range_72.nominal.endclass.faults', 'rep0_range_72.nominal.endclass.classification', 'rep0_range_72.nominal.endclass.end_x', 'rep0_range_72.nominal.endclass.end_y', 'rep0_range_72.nominal.endclass.endpt', 'rep0_range_73.power_no_charge_t1.endclass.rate', 'rep0_range_73.power_no_charge_t1.endclass.cost', 'rep0_range_73.power_no_charge_t1.endclass.prob', 'rep0_range_73.power_no_charge_t1.endclass.expected_cost', 'rep0_range_73.power_no_charge_t1.endclass.in_bound', 'rep0_range_73.power_no_charge_t1.endclass.at_finish', 'rep0_range_73.power_no_charge_t1.endclass.line_dist', 'rep0_range_73.power_no_charge_t1.endclass.num_modes', 'rep0_range_73.power_no_charge_t1.endclass.end_dist', 'rep0_range_73.power_no_charge_t1.endclass.tot_deviation', 'rep0_range_73.power_no_charge_t1.endclass.faults', 'rep0_range_73.power_no_charge_t1.endclass.classification', 'rep0_range_73.power_no_charge_t1.endclass.end_x', 'rep0_range_73.power_no_charge_t1.endclass.end_y', 'rep0_range_73.power_no_charge_t1.endclass.endpt', 'rep0_range_73.power_no_charge_t2.endclass.rate', 'rep0_range_73.power_no_charge_t2.endclass.cost', 'rep0_range_73.power_no_charge_t2.endclass.prob', 'rep0_range_73.power_no_charge_t2.endclass.expected_cost', 'rep0_range_73.power_no_charge_t2.endclass.in_bound', 'rep0_range_73.power_no_charge_t2.endclass.at_finish', 'rep0_range_73.power_no_charge_t2.endclass.line_dist', 'rep0_range_73.power_no_charge_t2.endclass.num_modes', 'rep0_range_73.power_no_charge_t2.endclass.end_dist', 'rep0_range_73.power_no_charge_t2.endclass.tot_deviation', 'rep0_range_73.power_no_charge_t2.endclass.faults', 'rep0_range_73.power_no_charge_t2.endclass.classification', 'rep0_range_73.power_no_charge_t2.endclass.end_x', 'rep0_range_73.power_no_charge_t2.endclass.end_y', 'rep0_range_73.power_no_charge_t2.endclass.endpt', 'rep0_range_73.power_short_t1.endclass.rate', 'rep0_range_73.power_short_t1.endclass.cost', 'rep0_range_73.power_short_t1.endclass.prob', 'rep0_range_73.power_short_t1.endclass.expected_cost', 'rep0_range_73.power_short_t1.endclass.in_bound', 'rep0_range_73.power_short_t1.endclass.at_finish', 'rep0_range_73.power_short_t1.endclass.line_dist', 'rep0_range_73.power_short_t1.endclass.num_modes', 'rep0_range_73.power_short_t1.endclass.end_dist', 'rep0_range_73.power_short_t1.endclass.tot_deviation', 'rep0_range_73.power_short_t1.endclass.faults', 'rep0_range_73.power_short_t1.endclass.classification', 'rep0_range_73.power_short_t1.endclass.end_x', 'rep0_range_73.power_short_t1.endclass.end_y', 'rep0_range_73.power_short_t1.endclass.endpt', 'rep0_range_73.power_short_t2.endclass.rate', 'rep0_range_73.power_short_t2.endclass.cost', 'rep0_range_73.power_short_t2.endclass.prob', 'rep0_range_73.power_short_t2.endclass.expected_cost', 'rep0_range_73.power_short_t2.endclass.in_bound', 'rep0_range_73.power_short_t2.endclass.at_finish', 'rep0_range_73.power_short_t2.endclass.line_dist', 'rep0_range_73.power_short_t2.endclass.num_modes', 'rep0_range_73.power_short_t2.endclass.end_dist', 'rep0_range_73.power_short_t2.endclass.tot_deviation', 'rep0_range_73.power_short_t2.endclass.faults', 'rep0_range_73.power_short_t2.endclass.classification', 'rep0_range_73.power_short_t2.endclass.end_x', 'rep0_range_73.power_short_t2.endclass.end_y', 'rep0_range_73.power_short_t2.endclass.endpt', 'rep0_range_73.nominal.endclass.rate', 'rep0_range_73.nominal.endclass.cost', 'rep0_range_73.nominal.endclass.prob', 'rep0_range_73.nominal.endclass.expected_cost', 'rep0_range_73.nominal.endclass.in_bound', 'rep0_range_73.nominal.endclass.at_finish', 'rep0_range_73.nominal.endclass.line_dist', 'rep0_range_73.nominal.endclass.num_modes', 'rep0_range_73.nominal.endclass.end_dist', 'rep0_range_73.nominal.endclass.tot_deviation', 'rep0_range_73.nominal.endclass.faults', 'rep0_range_73.nominal.endclass.classification', 'rep0_range_73.nominal.endclass.end_x', 'rep0_range_73.nominal.endclass.end_y', 'rep0_range_73.nominal.endclass.endpt', 'rep0_range_74.power_no_charge_t1.endclass.rate', 'rep0_range_74.power_no_charge_t1.endclass.cost', 'rep0_range_74.power_no_charge_t1.endclass.prob', 'rep0_range_74.power_no_charge_t1.endclass.expected_cost', 'rep0_range_74.power_no_charge_t1.endclass.in_bound', 'rep0_range_74.power_no_charge_t1.endclass.at_finish', 'rep0_range_74.power_no_charge_t1.endclass.line_dist', 'rep0_range_74.power_no_charge_t1.endclass.num_modes', 'rep0_range_74.power_no_charge_t1.endclass.end_dist', 'rep0_range_74.power_no_charge_t1.endclass.tot_deviation', 'rep0_range_74.power_no_charge_t1.endclass.faults', 'rep0_range_74.power_no_charge_t1.endclass.classification', 'rep0_range_74.power_no_charge_t1.endclass.end_x', 'rep0_range_74.power_no_charge_t1.endclass.end_y', 'rep0_range_74.power_no_charge_t1.endclass.endpt', 'rep0_range_74.power_no_charge_t2.endclass.rate', 'rep0_range_74.power_no_charge_t2.endclass.cost', 'rep0_range_74.power_no_charge_t2.endclass.prob', 'rep0_range_74.power_no_charge_t2.endclass.expected_cost', 'rep0_range_74.power_no_charge_t2.endclass.in_bound', 'rep0_range_74.power_no_charge_t2.endclass.at_finish', 'rep0_range_74.power_no_charge_t2.endclass.line_dist', 'rep0_range_74.power_no_charge_t2.endclass.num_modes', 'rep0_range_74.power_no_charge_t2.endclass.end_dist', 'rep0_range_74.power_no_charge_t2.endclass.tot_deviation', 'rep0_range_74.power_no_charge_t2.endclass.faults', 'rep0_range_74.power_no_charge_t2.endclass.classification', 'rep0_range_74.power_no_charge_t2.endclass.end_x', 'rep0_range_74.power_no_charge_t2.endclass.end_y', 'rep0_range_74.power_no_charge_t2.endclass.endpt', 'rep0_range_74.power_short_t1.endclass.rate', 'rep0_range_74.power_short_t1.endclass.cost', 'rep0_range_74.power_short_t1.endclass.prob', 'rep0_range_74.power_short_t1.endclass.expected_cost', 'rep0_range_74.power_short_t1.endclass.in_bound', 'rep0_range_74.power_short_t1.endclass.at_finish', 'rep0_range_74.power_short_t1.endclass.line_dist', 'rep0_range_74.power_short_t1.endclass.num_modes', 'rep0_range_74.power_short_t1.endclass.end_dist', 'rep0_range_74.power_short_t1.endclass.tot_deviation', 'rep0_range_74.power_short_t1.endclass.faults', 'rep0_range_74.power_short_t1.endclass.classification', 'rep0_range_74.power_short_t1.endclass.end_x', 'rep0_range_74.power_short_t1.endclass.end_y', 'rep0_range_74.power_short_t1.endclass.endpt', 'rep0_range_74.power_short_t2.endclass.rate', 'rep0_range_74.power_short_t2.endclass.cost', 'rep0_range_74.power_short_t2.endclass.prob', 'rep0_range_74.power_short_t2.endclass.expected_cost', 'rep0_range_74.power_short_t2.endclass.in_bound', 'rep0_range_74.power_short_t2.endclass.at_finish', 'rep0_range_74.power_short_t2.endclass.line_dist', 'rep0_range_74.power_short_t2.endclass.num_modes', 'rep0_range_74.power_short_t2.endclass.end_dist', 'rep0_range_74.power_short_t2.endclass.tot_deviation', 'rep0_range_74.power_short_t2.endclass.faults', 'rep0_range_74.power_short_t2.endclass.classification', 'rep0_range_74.power_short_t2.endclass.end_x', 'rep0_range_74.power_short_t2.endclass.end_y', 'rep0_range_74.power_short_t2.endclass.endpt', 'rep0_range_74.nominal.endclass.rate', 'rep0_range_74.nominal.endclass.cost', 'rep0_range_74.nominal.endclass.prob', 'rep0_range_74.nominal.endclass.expected_cost', 'rep0_range_74.nominal.endclass.in_bound', 'rep0_range_74.nominal.endclass.at_finish', 'rep0_range_74.nominal.endclass.line_dist', 'rep0_range_74.nominal.endclass.num_modes', 'rep0_range_74.nominal.endclass.end_dist', 'rep0_range_74.nominal.endclass.tot_deviation', 'rep0_range_74.nominal.endclass.faults', 'rep0_range_74.nominal.endclass.classification', 'rep0_range_74.nominal.endclass.end_x', 'rep0_range_74.nominal.endclass.end_y', 'rep0_range_74.nominal.endclass.endpt', 'rep0_range_75.power_no_charge_t1.endclass.rate', 'rep0_range_75.power_no_charge_t1.endclass.cost', 'rep0_range_75.power_no_charge_t1.endclass.prob', 'rep0_range_75.power_no_charge_t1.endclass.expected_cost', 'rep0_range_75.power_no_charge_t1.endclass.in_bound', 'rep0_range_75.power_no_charge_t1.endclass.at_finish', 'rep0_range_75.power_no_charge_t1.endclass.line_dist', 'rep0_range_75.power_no_charge_t1.endclass.num_modes', 'rep0_range_75.power_no_charge_t1.endclass.end_dist', 'rep0_range_75.power_no_charge_t1.endclass.tot_deviation', 'rep0_range_75.power_no_charge_t1.endclass.faults', 'rep0_range_75.power_no_charge_t1.endclass.classification', 'rep0_range_75.power_no_charge_t1.endclass.end_x', 'rep0_range_75.power_no_charge_t1.endclass.end_y', 'rep0_range_75.power_no_charge_t1.endclass.endpt', 'rep0_range_75.power_no_charge_t2.endclass.rate', 'rep0_range_75.power_no_charge_t2.endclass.cost', 'rep0_range_75.power_no_charge_t2.endclass.prob', 'rep0_range_75.power_no_charge_t2.endclass.expected_cost', 'rep0_range_75.power_no_charge_t2.endclass.in_bound', 'rep0_range_75.power_no_charge_t2.endclass.at_finish', 'rep0_range_75.power_no_charge_t2.endclass.line_dist', 'rep0_range_75.power_no_charge_t2.endclass.num_modes', 'rep0_range_75.power_no_charge_t2.endclass.end_dist', 'rep0_range_75.power_no_charge_t2.endclass.tot_deviation', 'rep0_range_75.power_no_charge_t2.endclass.faults', 'rep0_range_75.power_no_charge_t2.endclass.classification', 'rep0_range_75.power_no_charge_t2.endclass.end_x', 'rep0_range_75.power_no_charge_t2.endclass.end_y', 'rep0_range_75.power_no_charge_t2.endclass.endpt', 'rep0_range_75.power_short_t1.endclass.rate', 'rep0_range_75.power_short_t1.endclass.cost', 'rep0_range_75.power_short_t1.endclass.prob', 'rep0_range_75.power_short_t1.endclass.expected_cost', 'rep0_range_75.power_short_t1.endclass.in_bound', 'rep0_range_75.power_short_t1.endclass.at_finish', 'rep0_range_75.power_short_t1.endclass.line_dist', 'rep0_range_75.power_short_t1.endclass.num_modes', 'rep0_range_75.power_short_t1.endclass.end_dist', 'rep0_range_75.power_short_t1.endclass.tot_deviation', 'rep0_range_75.power_short_t1.endclass.faults', 'rep0_range_75.power_short_t1.endclass.classification', 'rep0_range_75.power_short_t1.endclass.end_x', 'rep0_range_75.power_short_t1.endclass.end_y', 'rep0_range_75.power_short_t1.endclass.endpt', 'rep0_range_75.power_short_t2.endclass.rate', 'rep0_range_75.power_short_t2.endclass.cost', 'rep0_range_75.power_short_t2.endclass.prob', 'rep0_range_75.power_short_t2.endclass.expected_cost', 'rep0_range_75.power_short_t2.endclass.in_bound', 'rep0_range_75.power_short_t2.endclass.at_finish', 'rep0_range_75.power_short_t2.endclass.line_dist', 'rep0_range_75.power_short_t2.endclass.num_modes', 'rep0_range_75.power_short_t2.endclass.end_dist', 'rep0_range_75.power_short_t2.endclass.tot_deviation', 'rep0_range_75.power_short_t2.endclass.faults', 'rep0_range_75.power_short_t2.endclass.classification', 'rep0_range_75.power_short_t2.endclass.end_x', 'rep0_range_75.power_short_t2.endclass.end_y', 'rep0_range_75.power_short_t2.endclass.endpt', 'rep0_range_75.nominal.endclass.rate', 'rep0_range_75.nominal.endclass.cost', 'rep0_range_75.nominal.endclass.prob', 'rep0_range_75.nominal.endclass.expected_cost', 'rep0_range_75.nominal.endclass.in_bound', 'rep0_range_75.nominal.endclass.at_finish', 'rep0_range_75.nominal.endclass.line_dist', 'rep0_range_75.nominal.endclass.num_modes', 'rep0_range_75.nominal.endclass.end_dist', 'rep0_range_75.nominal.endclass.tot_deviation', 'rep0_range_75.nominal.endclass.faults', 'rep0_range_75.nominal.endclass.classification', 'rep0_range_75.nominal.endclass.end_x', 'rep0_range_75.nominal.endclass.end_y', 'rep0_range_75.nominal.endclass.endpt', 'rep0_range_76.power_no_charge_t1.endclass.rate', 'rep0_range_76.power_no_charge_t1.endclass.cost', 'rep0_range_76.power_no_charge_t1.endclass.prob', 'rep0_range_76.power_no_charge_t1.endclass.expected_cost', 'rep0_range_76.power_no_charge_t1.endclass.in_bound', 'rep0_range_76.power_no_charge_t1.endclass.at_finish', 'rep0_range_76.power_no_charge_t1.endclass.line_dist', 'rep0_range_76.power_no_charge_t1.endclass.num_modes', 'rep0_range_76.power_no_charge_t1.endclass.end_dist', 'rep0_range_76.power_no_charge_t1.endclass.tot_deviation', 'rep0_range_76.power_no_charge_t1.endclass.faults', 'rep0_range_76.power_no_charge_t1.endclass.classification', 'rep0_range_76.power_no_charge_t1.endclass.end_x', 'rep0_range_76.power_no_charge_t1.endclass.end_y', 'rep0_range_76.power_no_charge_t1.endclass.endpt', 'rep0_range_76.power_no_charge_t2.endclass.rate', 'rep0_range_76.power_no_charge_t2.endclass.cost', 'rep0_range_76.power_no_charge_t2.endclass.prob', 'rep0_range_76.power_no_charge_t2.endclass.expected_cost', 'rep0_range_76.power_no_charge_t2.endclass.in_bound', 'rep0_range_76.power_no_charge_t2.endclass.at_finish', 'rep0_range_76.power_no_charge_t2.endclass.line_dist', 'rep0_range_76.power_no_charge_t2.endclass.num_modes', 'rep0_range_76.power_no_charge_t2.endclass.end_dist', 'rep0_range_76.power_no_charge_t2.endclass.tot_deviation', 'rep0_range_76.power_no_charge_t2.endclass.faults', 'rep0_range_76.power_no_charge_t2.endclass.classification', 'rep0_range_76.power_no_charge_t2.endclass.end_x', 'rep0_range_76.power_no_charge_t2.endclass.end_y', 'rep0_range_76.power_no_charge_t2.endclass.endpt', 'rep0_range_76.power_short_t1.endclass.rate', 'rep0_range_76.power_short_t1.endclass.cost', 'rep0_range_76.power_short_t1.endclass.prob', 'rep0_range_76.power_short_t1.endclass.expected_cost', 'rep0_range_76.power_short_t1.endclass.in_bound', 'rep0_range_76.power_short_t1.endclass.at_finish', 'rep0_range_76.power_short_t1.endclass.line_dist', 'rep0_range_76.power_short_t1.endclass.num_modes', 'rep0_range_76.power_short_t1.endclass.end_dist', 'rep0_range_76.power_short_t1.endclass.tot_deviation', 'rep0_range_76.power_short_t1.endclass.faults', 'rep0_range_76.power_short_t1.endclass.classification', 'rep0_range_76.power_short_t1.endclass.end_x', 'rep0_range_76.power_short_t1.endclass.end_y', 'rep0_range_76.power_short_t1.endclass.endpt', 'rep0_range_76.power_short_t2.endclass.rate', 'rep0_range_76.power_short_t2.endclass.cost', 'rep0_range_76.power_short_t2.endclass.prob', 'rep0_range_76.power_short_t2.endclass.expected_cost', 'rep0_range_76.power_short_t2.endclass.in_bound', 'rep0_range_76.power_short_t2.endclass.at_finish', 'rep0_range_76.power_short_t2.endclass.line_dist', 'rep0_range_76.power_short_t2.endclass.num_modes', 'rep0_range_76.power_short_t2.endclass.end_dist', 'rep0_range_76.power_short_t2.endclass.tot_deviation', 'rep0_range_76.power_short_t2.endclass.faults', 'rep0_range_76.power_short_t2.endclass.classification', 'rep0_range_76.power_short_t2.endclass.end_x', 'rep0_range_76.power_short_t2.endclass.end_y', 'rep0_range_76.power_short_t2.endclass.endpt', 'rep0_range_76.nominal.endclass.rate', 'rep0_range_76.nominal.endclass.cost', 'rep0_range_76.nominal.endclass.prob', 'rep0_range_76.nominal.endclass.expected_cost', 'rep0_range_76.nominal.endclass.in_bound', 'rep0_range_76.nominal.endclass.at_finish', 'rep0_range_76.nominal.endclass.line_dist', 'rep0_range_76.nominal.endclass.num_modes', 'rep0_range_76.nominal.endclass.end_dist', 'rep0_range_76.nominal.endclass.tot_deviation', 'rep0_range_76.nominal.endclass.faults', 'rep0_range_76.nominal.endclass.classification', 'rep0_range_76.nominal.endclass.end_x', 'rep0_range_76.nominal.endclass.end_y', 'rep0_range_76.nominal.endclass.endpt', 'rep0_range_77.power_no_charge_t1.endclass.rate', 'rep0_range_77.power_no_charge_t1.endclass.cost', 'rep0_range_77.power_no_charge_t1.endclass.prob', 'rep0_range_77.power_no_charge_t1.endclass.expected_cost', 'rep0_range_77.power_no_charge_t1.endclass.in_bound', 'rep0_range_77.power_no_charge_t1.endclass.at_finish', 'rep0_range_77.power_no_charge_t1.endclass.line_dist', 'rep0_range_77.power_no_charge_t1.endclass.num_modes', 'rep0_range_77.power_no_charge_t1.endclass.end_dist', 'rep0_range_77.power_no_charge_t1.endclass.tot_deviation', 'rep0_range_77.power_no_charge_t1.endclass.faults', 'rep0_range_77.power_no_charge_t1.endclass.classification', 'rep0_range_77.power_no_charge_t1.endclass.end_x', 'rep0_range_77.power_no_charge_t1.endclass.end_y', 'rep0_range_77.power_no_charge_t1.endclass.endpt', 'rep0_range_77.power_no_charge_t2.endclass.rate', 'rep0_range_77.power_no_charge_t2.endclass.cost', 'rep0_range_77.power_no_charge_t2.endclass.prob', 'rep0_range_77.power_no_charge_t2.endclass.expected_cost', 'rep0_range_77.power_no_charge_t2.endclass.in_bound', 'rep0_range_77.power_no_charge_t2.endclass.at_finish', 'rep0_range_77.power_no_charge_t2.endclass.line_dist', 'rep0_range_77.power_no_charge_t2.endclass.num_modes', 'rep0_range_77.power_no_charge_t2.endclass.end_dist', 'rep0_range_77.power_no_charge_t2.endclass.tot_deviation', 'rep0_range_77.power_no_charge_t2.endclass.faults', 'rep0_range_77.power_no_charge_t2.endclass.classification', 'rep0_range_77.power_no_charge_t2.endclass.end_x', 'rep0_range_77.power_no_charge_t2.endclass.end_y', 'rep0_range_77.power_no_charge_t2.endclass.endpt', 'rep0_range_77.power_short_t1.endclass.rate', 'rep0_range_77.power_short_t1.endclass.cost', 'rep0_range_77.power_short_t1.endclass.prob', 'rep0_range_77.power_short_t1.endclass.expected_cost', 'rep0_range_77.power_short_t1.endclass.in_bound', 'rep0_range_77.power_short_t1.endclass.at_finish', 'rep0_range_77.power_short_t1.endclass.line_dist', 'rep0_range_77.power_short_t1.endclass.num_modes', 'rep0_range_77.power_short_t1.endclass.end_dist', 'rep0_range_77.power_short_t1.endclass.tot_deviation', 'rep0_range_77.power_short_t1.endclass.faults', 'rep0_range_77.power_short_t1.endclass.classification', 'rep0_range_77.power_short_t1.endclass.end_x', 'rep0_range_77.power_short_t1.endclass.end_y', 'rep0_range_77.power_short_t1.endclass.endpt', 'rep0_range_77.power_short_t2.endclass.rate', 'rep0_range_77.power_short_t2.endclass.cost', 'rep0_range_77.power_short_t2.endclass.prob', 'rep0_range_77.power_short_t2.endclass.expected_cost', 'rep0_range_77.power_short_t2.endclass.in_bound', 'rep0_range_77.power_short_t2.endclass.at_finish', 'rep0_range_77.power_short_t2.endclass.line_dist', 'rep0_range_77.power_short_t2.endclass.num_modes', 'rep0_range_77.power_short_t2.endclass.end_dist', 'rep0_range_77.power_short_t2.endclass.tot_deviation', 'rep0_range_77.power_short_t2.endclass.faults', 'rep0_range_77.power_short_t2.endclass.classification', 'rep0_range_77.power_short_t2.endclass.end_x', 'rep0_range_77.power_short_t2.endclass.end_y', 'rep0_range_77.power_short_t2.endclass.endpt', 'rep0_range_77.nominal.endclass.rate', 'rep0_range_77.nominal.endclass.cost', 'rep0_range_77.nominal.endclass.prob', 'rep0_range_77.nominal.endclass.expected_cost', 'rep0_range_77.nominal.endclass.in_bound', 'rep0_range_77.nominal.endclass.at_finish', 'rep0_range_77.nominal.endclass.line_dist', 'rep0_range_77.nominal.endclass.num_modes', 'rep0_range_77.nominal.endclass.end_dist', 'rep0_range_77.nominal.endclass.tot_deviation', 'rep0_range_77.nominal.endclass.faults', 'rep0_range_77.nominal.endclass.classification', 'rep0_range_77.nominal.endclass.end_x', 'rep0_range_77.nominal.endclass.end_y', 'rep0_range_77.nominal.endclass.endpt', 'rep0_range_78.power_no_charge_t1.endclass.rate', 'rep0_range_78.power_no_charge_t1.endclass.cost', 'rep0_range_78.power_no_charge_t1.endclass.prob', 'rep0_range_78.power_no_charge_t1.endclass.expected_cost', 'rep0_range_78.power_no_charge_t1.endclass.in_bound', 'rep0_range_78.power_no_charge_t1.endclass.at_finish', 'rep0_range_78.power_no_charge_t1.endclass.line_dist', 'rep0_range_78.power_no_charge_t1.endclass.num_modes', 'rep0_range_78.power_no_charge_t1.endclass.end_dist', 'rep0_range_78.power_no_charge_t1.endclass.tot_deviation', 'rep0_range_78.power_no_charge_t1.endclass.faults', 'rep0_range_78.power_no_charge_t1.endclass.classification', 'rep0_range_78.power_no_charge_t1.endclass.end_x', 'rep0_range_78.power_no_charge_t1.endclass.end_y', 'rep0_range_78.power_no_charge_t1.endclass.endpt', 'rep0_range_78.power_no_charge_t2.endclass.rate', 'rep0_range_78.power_no_charge_t2.endclass.cost', 'rep0_range_78.power_no_charge_t2.endclass.prob', 'rep0_range_78.power_no_charge_t2.endclass.expected_cost', 'rep0_range_78.power_no_charge_t2.endclass.in_bound', 'rep0_range_78.power_no_charge_t2.endclass.at_finish', 'rep0_range_78.power_no_charge_t2.endclass.line_dist', 'rep0_range_78.power_no_charge_t2.endclass.num_modes', 'rep0_range_78.power_no_charge_t2.endclass.end_dist', 'rep0_range_78.power_no_charge_t2.endclass.tot_deviation', 'rep0_range_78.power_no_charge_t2.endclass.faults', 'rep0_range_78.power_no_charge_t2.endclass.classification', 'rep0_range_78.power_no_charge_t2.endclass.end_x', 'rep0_range_78.power_no_charge_t2.endclass.end_y', 'rep0_range_78.power_no_charge_t2.endclass.endpt', 'rep0_range_78.power_short_t1.endclass.rate', 'rep0_range_78.power_short_t1.endclass.cost', 'rep0_range_78.power_short_t1.endclass.prob', 'rep0_range_78.power_short_t1.endclass.expected_cost', 'rep0_range_78.power_short_t1.endclass.in_bound', 'rep0_range_78.power_short_t1.endclass.at_finish', 'rep0_range_78.power_short_t1.endclass.line_dist', 'rep0_range_78.power_short_t1.endclass.num_modes', 'rep0_range_78.power_short_t1.endclass.end_dist', 'rep0_range_78.power_short_t1.endclass.tot_deviation', 'rep0_range_78.power_short_t1.endclass.faults', 'rep0_range_78.power_short_t1.endclass.classification', 'rep0_range_78.power_short_t1.endclass.end_x', 'rep0_range_78.power_short_t1.endclass.end_y', 'rep0_range_78.power_short_t1.endclass.endpt', 'rep0_range_78.power_short_t2.endclass.rate', 'rep0_range_78.power_short_t2.endclass.cost', 'rep0_range_78.power_short_t2.endclass.prob', 'rep0_range_78.power_short_t2.endclass.expected_cost', 'rep0_range_78.power_short_t2.endclass.in_bound', 'rep0_range_78.power_short_t2.endclass.at_finish', 'rep0_range_78.power_short_t2.endclass.line_dist', 'rep0_range_78.power_short_t2.endclass.num_modes', 'rep0_range_78.power_short_t2.endclass.end_dist', 'rep0_range_78.power_short_t2.endclass.tot_deviation', 'rep0_range_78.power_short_t2.endclass.faults', 'rep0_range_78.power_short_t2.endclass.classification', 'rep0_range_78.power_short_t2.endclass.end_x', 'rep0_range_78.power_short_t2.endclass.end_y', 'rep0_range_78.power_short_t2.endclass.endpt', 'rep0_range_78.nominal.endclass.rate', 'rep0_range_78.nominal.endclass.cost', 'rep0_range_78.nominal.endclass.prob', 'rep0_range_78.nominal.endclass.expected_cost', 'rep0_range_78.nominal.endclass.in_bound', 'rep0_range_78.nominal.endclass.at_finish', 'rep0_range_78.nominal.endclass.line_dist', 'rep0_range_78.nominal.endclass.num_modes', 'rep0_range_78.nominal.endclass.end_dist', 'rep0_range_78.nominal.endclass.tot_deviation', 'rep0_range_78.nominal.endclass.faults', 'rep0_range_78.nominal.endclass.classification', 'rep0_range_78.nominal.endclass.end_x', 'rep0_range_78.nominal.endclass.end_y', 'rep0_range_78.nominal.endclass.endpt', 'rep0_range_79.power_no_charge_t1.endclass.rate', 'rep0_range_79.power_no_charge_t1.endclass.cost', 'rep0_range_79.power_no_charge_t1.endclass.prob', 'rep0_range_79.power_no_charge_t1.endclass.expected_cost', 'rep0_range_79.power_no_charge_t1.endclass.in_bound', 'rep0_range_79.power_no_charge_t1.endclass.at_finish', 'rep0_range_79.power_no_charge_t1.endclass.line_dist', 'rep0_range_79.power_no_charge_t1.endclass.num_modes', 'rep0_range_79.power_no_charge_t1.endclass.end_dist', 'rep0_range_79.power_no_charge_t1.endclass.tot_deviation', 'rep0_range_79.power_no_charge_t1.endclass.faults', 'rep0_range_79.power_no_charge_t1.endclass.classification', 'rep0_range_79.power_no_charge_t1.endclass.end_x', 'rep0_range_79.power_no_charge_t1.endclass.end_y', 'rep0_range_79.power_no_charge_t1.endclass.endpt', 'rep0_range_79.power_no_charge_t2.endclass.rate', 'rep0_range_79.power_no_charge_t2.endclass.cost', 'rep0_range_79.power_no_charge_t2.endclass.prob', 'rep0_range_79.power_no_charge_t2.endclass.expected_cost', 'rep0_range_79.power_no_charge_t2.endclass.in_bound', 'rep0_range_79.power_no_charge_t2.endclass.at_finish', 'rep0_range_79.power_no_charge_t2.endclass.line_dist', 'rep0_range_79.power_no_charge_t2.endclass.num_modes', 'rep0_range_79.power_no_charge_t2.endclass.end_dist', 'rep0_range_79.power_no_charge_t2.endclass.tot_deviation', 'rep0_range_79.power_no_charge_t2.endclass.faults', 'rep0_range_79.power_no_charge_t2.endclass.classification', 'rep0_range_79.power_no_charge_t2.endclass.end_x', 'rep0_range_79.power_no_charge_t2.endclass.end_y', 'rep0_range_79.power_no_charge_t2.endclass.endpt', 'rep0_range_79.power_short_t1.endclass.rate', 'rep0_range_79.power_short_t1.endclass.cost', 'rep0_range_79.power_short_t1.endclass.prob', 'rep0_range_79.power_short_t1.endclass.expected_cost', 'rep0_range_79.power_short_t1.endclass.in_bound', 'rep0_range_79.power_short_t1.endclass.at_finish', 'rep0_range_79.power_short_t1.endclass.line_dist', 'rep0_range_79.power_short_t1.endclass.num_modes', 'rep0_range_79.power_short_t1.endclass.end_dist', 'rep0_range_79.power_short_t1.endclass.tot_deviation', 'rep0_range_79.power_short_t1.endclass.faults', 'rep0_range_79.power_short_t1.endclass.classification', 'rep0_range_79.power_short_t1.endclass.end_x', 'rep0_range_79.power_short_t1.endclass.end_y', 'rep0_range_79.power_short_t1.endclass.endpt', 'rep0_range_79.power_short_t2.endclass.rate', 'rep0_range_79.power_short_t2.endclass.cost', 'rep0_range_79.power_short_t2.endclass.prob', 'rep0_range_79.power_short_t2.endclass.expected_cost', 'rep0_range_79.power_short_t2.endclass.in_bound', 'rep0_range_79.power_short_t2.endclass.at_finish', 'rep0_range_79.power_short_t2.endclass.line_dist', 'rep0_range_79.power_short_t2.endclass.num_modes', 'rep0_range_79.power_short_t2.endclass.end_dist', 'rep0_range_79.power_short_t2.endclass.tot_deviation', 'rep0_range_79.power_short_t2.endclass.faults', 'rep0_range_79.power_short_t2.endclass.classification', 'rep0_range_79.power_short_t2.endclass.end_x', 'rep0_range_79.power_short_t2.endclass.end_y', 'rep0_range_79.power_short_t2.endclass.endpt', 'rep0_range_79.nominal.endclass.rate', 'rep0_range_79.nominal.endclass.cost', 'rep0_range_79.nominal.endclass.prob', 'rep0_range_79.nominal.endclass.expected_cost', 'rep0_range_79.nominal.endclass.in_bound', 'rep0_range_79.nominal.endclass.at_finish', 'rep0_range_79.nominal.endclass.line_dist', 'rep0_range_79.nominal.endclass.num_modes', 'rep0_range_79.nominal.endclass.end_dist', 'rep0_range_79.nominal.endclass.tot_deviation', 'rep0_range_79.nominal.endclass.faults', 'rep0_range_79.nominal.endclass.classification', 'rep0_range_79.nominal.endclass.end_x', 'rep0_range_79.nominal.endclass.end_y', 'rep0_range_79.nominal.endclass.endpt', 'rep0_range_80.power_no_charge_t1.endclass.rate', 'rep0_range_80.power_no_charge_t1.endclass.cost', 'rep0_range_80.power_no_charge_t1.endclass.prob', 'rep0_range_80.power_no_charge_t1.endclass.expected_cost', 'rep0_range_80.power_no_charge_t1.endclass.in_bound', 'rep0_range_80.power_no_charge_t1.endclass.at_finish', 'rep0_range_80.power_no_charge_t1.endclass.line_dist', 'rep0_range_80.power_no_charge_t1.endclass.num_modes', 'rep0_range_80.power_no_charge_t1.endclass.end_dist', 'rep0_range_80.power_no_charge_t1.endclass.tot_deviation', 'rep0_range_80.power_no_charge_t1.endclass.faults', 'rep0_range_80.power_no_charge_t1.endclass.classification', 'rep0_range_80.power_no_charge_t1.endclass.end_x', 'rep0_range_80.power_no_charge_t1.endclass.end_y', 'rep0_range_80.power_no_charge_t1.endclass.endpt', 'rep0_range_80.power_no_charge_t2.endclass.rate', 'rep0_range_80.power_no_charge_t2.endclass.cost', 'rep0_range_80.power_no_charge_t2.endclass.prob', 'rep0_range_80.power_no_charge_t2.endclass.expected_cost', 'rep0_range_80.power_no_charge_t2.endclass.in_bound', 'rep0_range_80.power_no_charge_t2.endclass.at_finish', 'rep0_range_80.power_no_charge_t2.endclass.line_dist', 'rep0_range_80.power_no_charge_t2.endclass.num_modes', 'rep0_range_80.power_no_charge_t2.endclass.end_dist', 'rep0_range_80.power_no_charge_t2.endclass.tot_deviation', 'rep0_range_80.power_no_charge_t2.endclass.faults', 'rep0_range_80.power_no_charge_t2.endclass.classification', 'rep0_range_80.power_no_charge_t2.endclass.end_x', 'rep0_range_80.power_no_charge_t2.endclass.end_y', 'rep0_range_80.power_no_charge_t2.endclass.endpt', 'rep0_range_80.power_short_t1.endclass.rate', 'rep0_range_80.power_short_t1.endclass.cost', 'rep0_range_80.power_short_t1.endclass.prob', 'rep0_range_80.power_short_t1.endclass.expected_cost', 'rep0_range_80.power_short_t1.endclass.in_bound', 'rep0_range_80.power_short_t1.endclass.at_finish', 'rep0_range_80.power_short_t1.endclass.line_dist', 'rep0_range_80.power_short_t1.endclass.num_modes', 'rep0_range_80.power_short_t1.endclass.end_dist', 'rep0_range_80.power_short_t1.endclass.tot_deviation', 'rep0_range_80.power_short_t1.endclass.faults', 'rep0_range_80.power_short_t1.endclass.classification', 'rep0_range_80.power_short_t1.endclass.end_x', 'rep0_range_80.power_short_t1.endclass.end_y', 'rep0_range_80.power_short_t1.endclass.endpt', 'rep0_range_80.power_short_t2.endclass.rate', 'rep0_range_80.power_short_t2.endclass.cost', 'rep0_range_80.power_short_t2.endclass.prob', 'rep0_range_80.power_short_t2.endclass.expected_cost', 'rep0_range_80.power_short_t2.endclass.in_bound', 'rep0_range_80.power_short_t2.endclass.at_finish', 'rep0_range_80.power_short_t2.endclass.line_dist', 'rep0_range_80.power_short_t2.endclass.num_modes', 'rep0_range_80.power_short_t2.endclass.end_dist', 'rep0_range_80.power_short_t2.endclass.tot_deviation', 'rep0_range_80.power_short_t2.endclass.faults', 'rep0_range_80.power_short_t2.endclass.classification', 'rep0_range_80.power_short_t2.endclass.end_x', 'rep0_range_80.power_short_t2.endclass.end_y', 'rep0_range_80.power_short_t2.endclass.endpt', 'rep0_range_80.nominal.endclass.rate', 'rep0_range_80.nominal.endclass.cost', 'rep0_range_80.nominal.endclass.prob', 'rep0_range_80.nominal.endclass.expected_cost', 'rep0_range_80.nominal.endclass.in_bound', 'rep0_range_80.nominal.endclass.at_finish', 'rep0_range_80.nominal.endclass.line_dist', 'rep0_range_80.nominal.endclass.num_modes', 'rep0_range_80.nominal.endclass.end_dist', 'rep0_range_80.nominal.endclass.tot_deviation', 'rep0_range_80.nominal.endclass.faults', 'rep0_range_80.nominal.endclass.classification', 'rep0_range_80.nominal.endclass.end_x', 'rep0_range_80.nominal.endclass.end_y', 'rep0_range_80.nominal.endclass.endpt', 'rep0_range_81.power_no_charge_t1.endclass.rate', 'rep0_range_81.power_no_charge_t1.endclass.cost', 'rep0_range_81.power_no_charge_t1.endclass.prob', 'rep0_range_81.power_no_charge_t1.endclass.expected_cost', 'rep0_range_81.power_no_charge_t1.endclass.in_bound', 'rep0_range_81.power_no_charge_t1.endclass.at_finish', 'rep0_range_81.power_no_charge_t1.endclass.line_dist', 'rep0_range_81.power_no_charge_t1.endclass.num_modes', 'rep0_range_81.power_no_charge_t1.endclass.end_dist', 'rep0_range_81.power_no_charge_t1.endclass.tot_deviation', 'rep0_range_81.power_no_charge_t1.endclass.faults', 'rep0_range_81.power_no_charge_t1.endclass.classification', 'rep0_range_81.power_no_charge_t1.endclass.end_x', 'rep0_range_81.power_no_charge_t1.endclass.end_y', 'rep0_range_81.power_no_charge_t1.endclass.endpt', 'rep0_range_81.power_no_charge_t2.endclass.rate', 'rep0_range_81.power_no_charge_t2.endclass.cost', 'rep0_range_81.power_no_charge_t2.endclass.prob', 'rep0_range_81.power_no_charge_t2.endclass.expected_cost', 'rep0_range_81.power_no_charge_t2.endclass.in_bound', 'rep0_range_81.power_no_charge_t2.endclass.at_finish', 'rep0_range_81.power_no_charge_t2.endclass.line_dist', 'rep0_range_81.power_no_charge_t2.endclass.num_modes', 'rep0_range_81.power_no_charge_t2.endclass.end_dist', 'rep0_range_81.power_no_charge_t2.endclass.tot_deviation', 'rep0_range_81.power_no_charge_t2.endclass.faults', 'rep0_range_81.power_no_charge_t2.endclass.classification', 'rep0_range_81.power_no_charge_t2.endclass.end_x', 'rep0_range_81.power_no_charge_t2.endclass.end_y', 'rep0_range_81.power_no_charge_t2.endclass.endpt', 'rep0_range_81.power_short_t1.endclass.rate', 'rep0_range_81.power_short_t1.endclass.cost', 'rep0_range_81.power_short_t1.endclass.prob', 'rep0_range_81.power_short_t1.endclass.expected_cost', 'rep0_range_81.power_short_t1.endclass.in_bound', 'rep0_range_81.power_short_t1.endclass.at_finish', 'rep0_range_81.power_short_t1.endclass.line_dist', 'rep0_range_81.power_short_t1.endclass.num_modes', 'rep0_range_81.power_short_t1.endclass.end_dist', 'rep0_range_81.power_short_t1.endclass.tot_deviation', 'rep0_range_81.power_short_t1.endclass.faults', 'rep0_range_81.power_short_t1.endclass.classification', 'rep0_range_81.power_short_t1.endclass.end_x', 'rep0_range_81.power_short_t1.endclass.end_y', 'rep0_range_81.power_short_t1.endclass.endpt', 'rep0_range_81.power_short_t2.endclass.rate', 'rep0_range_81.power_short_t2.endclass.cost', 'rep0_range_81.power_short_t2.endclass.prob', 'rep0_range_81.power_short_t2.endclass.expected_cost', 'rep0_range_81.power_short_t2.endclass.in_bound', 'rep0_range_81.power_short_t2.endclass.at_finish', 'rep0_range_81.power_short_t2.endclass.line_dist', 'rep0_range_81.power_short_t2.endclass.num_modes', 'rep0_range_81.power_short_t2.endclass.end_dist', 'rep0_range_81.power_short_t2.endclass.tot_deviation', 'rep0_range_81.power_short_t2.endclass.faults', 'rep0_range_81.power_short_t2.endclass.classification', 'rep0_range_81.power_short_t2.endclass.end_x', 'rep0_range_81.power_short_t2.endclass.end_y', 'rep0_range_81.power_short_t2.endclass.endpt', 'rep0_range_81.nominal.endclass.rate', 'rep0_range_81.nominal.endclass.cost', 'rep0_range_81.nominal.endclass.prob', 'rep0_range_81.nominal.endclass.expected_cost', 'rep0_range_81.nominal.endclass.in_bound', 'rep0_range_81.nominal.endclass.at_finish', 'rep0_range_81.nominal.endclass.line_dist', 'rep0_range_81.nominal.endclass.num_modes', 'rep0_range_81.nominal.endclass.end_dist', 'rep0_range_81.nominal.endclass.tot_deviation', 'rep0_range_81.nominal.endclass.faults', 'rep0_range_81.nominal.endclass.classification', 'rep0_range_81.nominal.endclass.end_x', 'rep0_range_81.nominal.endclass.end_y', 'rep0_range_81.nominal.endclass.endpt', 'rep0_range_82.power_no_charge_t1.endclass.rate', 'rep0_range_82.power_no_charge_t1.endclass.cost', 'rep0_range_82.power_no_charge_t1.endclass.prob', 'rep0_range_82.power_no_charge_t1.endclass.expected_cost', 'rep0_range_82.power_no_charge_t1.endclass.in_bound', 'rep0_range_82.power_no_charge_t1.endclass.at_finish', 'rep0_range_82.power_no_charge_t1.endclass.line_dist', 'rep0_range_82.power_no_charge_t1.endclass.num_modes', 'rep0_range_82.power_no_charge_t1.endclass.end_dist', 'rep0_range_82.power_no_charge_t1.endclass.tot_deviation', 'rep0_range_82.power_no_charge_t1.endclass.faults', 'rep0_range_82.power_no_charge_t1.endclass.classification', 'rep0_range_82.power_no_charge_t1.endclass.end_x', 'rep0_range_82.power_no_charge_t1.endclass.end_y', 'rep0_range_82.power_no_charge_t1.endclass.endpt', 'rep0_range_82.power_no_charge_t2.endclass.rate', 'rep0_range_82.power_no_charge_t2.endclass.cost', 'rep0_range_82.power_no_charge_t2.endclass.prob', 'rep0_range_82.power_no_charge_t2.endclass.expected_cost', 'rep0_range_82.power_no_charge_t2.endclass.in_bound', 'rep0_range_82.power_no_charge_t2.endclass.at_finish', 'rep0_range_82.power_no_charge_t2.endclass.line_dist', 'rep0_range_82.power_no_charge_t2.endclass.num_modes', 'rep0_range_82.power_no_charge_t2.endclass.end_dist', 'rep0_range_82.power_no_charge_t2.endclass.tot_deviation', 'rep0_range_82.power_no_charge_t2.endclass.faults', 'rep0_range_82.power_no_charge_t2.endclass.classification', 'rep0_range_82.power_no_charge_t2.endclass.end_x', 'rep0_range_82.power_no_charge_t2.endclass.end_y', 'rep0_range_82.power_no_charge_t2.endclass.endpt', 'rep0_range_82.power_short_t1.endclass.rate', 'rep0_range_82.power_short_t1.endclass.cost', 'rep0_range_82.power_short_t1.endclass.prob', 'rep0_range_82.power_short_t1.endclass.expected_cost', 'rep0_range_82.power_short_t1.endclass.in_bound', 'rep0_range_82.power_short_t1.endclass.at_finish', 'rep0_range_82.power_short_t1.endclass.line_dist', 'rep0_range_82.power_short_t1.endclass.num_modes', 'rep0_range_82.power_short_t1.endclass.end_dist', 'rep0_range_82.power_short_t1.endclass.tot_deviation', 'rep0_range_82.power_short_t1.endclass.faults', 'rep0_range_82.power_short_t1.endclass.classification', 'rep0_range_82.power_short_t1.endclass.end_x', 'rep0_range_82.power_short_t1.endclass.end_y', 'rep0_range_82.power_short_t1.endclass.endpt', 'rep0_range_82.power_short_t2.endclass.rate', 'rep0_range_82.power_short_t2.endclass.cost', 'rep0_range_82.power_short_t2.endclass.prob', 'rep0_range_82.power_short_t2.endclass.expected_cost', 'rep0_range_82.power_short_t2.endclass.in_bound', 'rep0_range_82.power_short_t2.endclass.at_finish', 'rep0_range_82.power_short_t2.endclass.line_dist', 'rep0_range_82.power_short_t2.endclass.num_modes', 'rep0_range_82.power_short_t2.endclass.end_dist', 'rep0_range_82.power_short_t2.endclass.tot_deviation', 'rep0_range_82.power_short_t2.endclass.faults', 'rep0_range_82.power_short_t2.endclass.classification', 'rep0_range_82.power_short_t2.endclass.end_x', 'rep0_range_82.power_short_t2.endclass.end_y', 'rep0_range_82.power_short_t2.endclass.endpt', 'rep0_range_82.nominal.endclass.rate', 'rep0_range_82.nominal.endclass.cost', 'rep0_range_82.nominal.endclass.prob', 'rep0_range_82.nominal.endclass.expected_cost', 'rep0_range_82.nominal.endclass.in_bound', 'rep0_range_82.nominal.endclass.at_finish', 'rep0_range_82.nominal.endclass.line_dist', 'rep0_range_82.nominal.endclass.num_modes', 'rep0_range_82.nominal.endclass.end_dist', 'rep0_range_82.nominal.endclass.tot_deviation', 'rep0_range_82.nominal.endclass.faults', 'rep0_range_82.nominal.endclass.classification', 'rep0_range_82.nominal.endclass.end_x', 'rep0_range_82.nominal.endclass.end_y', 'rep0_range_82.nominal.endclass.endpt', 'rep0_range_83.power_no_charge_t1.endclass.rate', 'rep0_range_83.power_no_charge_t1.endclass.cost', 'rep0_range_83.power_no_charge_t1.endclass.prob', 'rep0_range_83.power_no_charge_t1.endclass.expected_cost', 'rep0_range_83.power_no_charge_t1.endclass.in_bound', 'rep0_range_83.power_no_charge_t1.endclass.at_finish', 'rep0_range_83.power_no_charge_t1.endclass.line_dist', 'rep0_range_83.power_no_charge_t1.endclass.num_modes', 'rep0_range_83.power_no_charge_t1.endclass.end_dist', 'rep0_range_83.power_no_charge_t1.endclass.tot_deviation', 'rep0_range_83.power_no_charge_t1.endclass.faults', 'rep0_range_83.power_no_charge_t1.endclass.classification', 'rep0_range_83.power_no_charge_t1.endclass.end_x', 'rep0_range_83.power_no_charge_t1.endclass.end_y', 'rep0_range_83.power_no_charge_t1.endclass.endpt', 'rep0_range_83.power_no_charge_t2.endclass.rate', 'rep0_range_83.power_no_charge_t2.endclass.cost', 'rep0_range_83.power_no_charge_t2.endclass.prob', 'rep0_range_83.power_no_charge_t2.endclass.expected_cost', 'rep0_range_83.power_no_charge_t2.endclass.in_bound', 'rep0_range_83.power_no_charge_t2.endclass.at_finish', 'rep0_range_83.power_no_charge_t2.endclass.line_dist', 'rep0_range_83.power_no_charge_t2.endclass.num_modes', 'rep0_range_83.power_no_charge_t2.endclass.end_dist', 'rep0_range_83.power_no_charge_t2.endclass.tot_deviation', 'rep0_range_83.power_no_charge_t2.endclass.faults', 'rep0_range_83.power_no_charge_t2.endclass.classification', 'rep0_range_83.power_no_charge_t2.endclass.end_x', 'rep0_range_83.power_no_charge_t2.endclass.end_y', 'rep0_range_83.power_no_charge_t2.endclass.endpt', 'rep0_range_83.power_short_t1.endclass.rate', 'rep0_range_83.power_short_t1.endclass.cost', 'rep0_range_83.power_short_t1.endclass.prob', 'rep0_range_83.power_short_t1.endclass.expected_cost', 'rep0_range_83.power_short_t1.endclass.in_bound', 'rep0_range_83.power_short_t1.endclass.at_finish', 'rep0_range_83.power_short_t1.endclass.line_dist', 'rep0_range_83.power_short_t1.endclass.num_modes', 'rep0_range_83.power_short_t1.endclass.end_dist', 'rep0_range_83.power_short_t1.endclass.tot_deviation', 'rep0_range_83.power_short_t1.endclass.faults', 'rep0_range_83.power_short_t1.endclass.classification', 'rep0_range_83.power_short_t1.endclass.end_x', 'rep0_range_83.power_short_t1.endclass.end_y', 'rep0_range_83.power_short_t1.endclass.endpt', 'rep0_range_83.power_short_t2.endclass.rate', 'rep0_range_83.power_short_t2.endclass.cost', 'rep0_range_83.power_short_t2.endclass.prob', 'rep0_range_83.power_short_t2.endclass.expected_cost', 'rep0_range_83.power_short_t2.endclass.in_bound', 'rep0_range_83.power_short_t2.endclass.at_finish', 'rep0_range_83.power_short_t2.endclass.line_dist', 'rep0_range_83.power_short_t2.endclass.num_modes', 'rep0_range_83.power_short_t2.endclass.end_dist', 'rep0_range_83.power_short_t2.endclass.tot_deviation', 'rep0_range_83.power_short_t2.endclass.faults', 'rep0_range_83.power_short_t2.endclass.classification', 'rep0_range_83.power_short_t2.endclass.end_x', 'rep0_range_83.power_short_t2.endclass.end_y', 'rep0_range_83.power_short_t2.endclass.endpt', 'rep0_range_83.nominal.endclass.rate', 'rep0_range_83.nominal.endclass.cost', 'rep0_range_83.nominal.endclass.prob', 'rep0_range_83.nominal.endclass.expected_cost', 'rep0_range_83.nominal.endclass.in_bound', 'rep0_range_83.nominal.endclass.at_finish', 'rep0_range_83.nominal.endclass.line_dist', 'rep0_range_83.nominal.endclass.num_modes', 'rep0_range_83.nominal.endclass.end_dist', 'rep0_range_83.nominal.endclass.tot_deviation', 'rep0_range_83.nominal.endclass.faults', 'rep0_range_83.nominal.endclass.classification', 'rep0_range_83.nominal.endclass.end_x', 'rep0_range_83.nominal.endclass.end_y', 'rep0_range_83.nominal.endclass.endpt', 'rep0_range_84.power_no_charge_t1.endclass.rate', 'rep0_range_84.power_no_charge_t1.endclass.cost', 'rep0_range_84.power_no_charge_t1.endclass.prob', 'rep0_range_84.power_no_charge_t1.endclass.expected_cost', 'rep0_range_84.power_no_charge_t1.endclass.in_bound', 'rep0_range_84.power_no_charge_t1.endclass.at_finish', 'rep0_range_84.power_no_charge_t1.endclass.line_dist', 'rep0_range_84.power_no_charge_t1.endclass.num_modes', 'rep0_range_84.power_no_charge_t1.endclass.end_dist', 'rep0_range_84.power_no_charge_t1.endclass.tot_deviation', 'rep0_range_84.power_no_charge_t1.endclass.faults', 'rep0_range_84.power_no_charge_t1.endclass.classification', 'rep0_range_84.power_no_charge_t1.endclass.end_x', 'rep0_range_84.power_no_charge_t1.endclass.end_y', 'rep0_range_84.power_no_charge_t1.endclass.endpt', 'rep0_range_84.power_no_charge_t2.endclass.rate', 'rep0_range_84.power_no_charge_t2.endclass.cost', 'rep0_range_84.power_no_charge_t2.endclass.prob', 'rep0_range_84.power_no_charge_t2.endclass.expected_cost', 'rep0_range_84.power_no_charge_t2.endclass.in_bound', 'rep0_range_84.power_no_charge_t2.endclass.at_finish', 'rep0_range_84.power_no_charge_t2.endclass.line_dist', 'rep0_range_84.power_no_charge_t2.endclass.num_modes', 'rep0_range_84.power_no_charge_t2.endclass.end_dist', 'rep0_range_84.power_no_charge_t2.endclass.tot_deviation', 'rep0_range_84.power_no_charge_t2.endclass.faults', 'rep0_range_84.power_no_charge_t2.endclass.classification', 'rep0_range_84.power_no_charge_t2.endclass.end_x', 'rep0_range_84.power_no_charge_t2.endclass.end_y', 'rep0_range_84.power_no_charge_t2.endclass.endpt', 'rep0_range_84.power_short_t1.endclass.rate', 'rep0_range_84.power_short_t1.endclass.cost', 'rep0_range_84.power_short_t1.endclass.prob', 'rep0_range_84.power_short_t1.endclass.expected_cost', 'rep0_range_84.power_short_t1.endclass.in_bound', 'rep0_range_84.power_short_t1.endclass.at_finish', 'rep0_range_84.power_short_t1.endclass.line_dist', 'rep0_range_84.power_short_t1.endclass.num_modes', 'rep0_range_84.power_short_t1.endclass.end_dist', 'rep0_range_84.power_short_t1.endclass.tot_deviation', 'rep0_range_84.power_short_t1.endclass.faults', 'rep0_range_84.power_short_t1.endclass.classification', 'rep0_range_84.power_short_t1.endclass.end_x', 'rep0_range_84.power_short_t1.endclass.end_y', 'rep0_range_84.power_short_t1.endclass.endpt', 'rep0_range_84.power_short_t2.endclass.rate', 'rep0_range_84.power_short_t2.endclass.cost', 'rep0_range_84.power_short_t2.endclass.prob', 'rep0_range_84.power_short_t2.endclass.expected_cost', 'rep0_range_84.power_short_t2.endclass.in_bound', 'rep0_range_84.power_short_t2.endclass.at_finish', 'rep0_range_84.power_short_t2.endclass.line_dist', 'rep0_range_84.power_short_t2.endclass.num_modes', 'rep0_range_84.power_short_t2.endclass.end_dist', 'rep0_range_84.power_short_t2.endclass.tot_deviation', 'rep0_range_84.power_short_t2.endclass.faults', 'rep0_range_84.power_short_t2.endclass.classification', 'rep0_range_84.power_short_t2.endclass.end_x', 'rep0_range_84.power_short_t2.endclass.end_y', 'rep0_range_84.power_short_t2.endclass.endpt', 'rep0_range_84.nominal.endclass.rate', 'rep0_range_84.nominal.endclass.cost', 'rep0_range_84.nominal.endclass.prob', 'rep0_range_84.nominal.endclass.expected_cost', 'rep0_range_84.nominal.endclass.in_bound', 'rep0_range_84.nominal.endclass.at_finish', 'rep0_range_84.nominal.endclass.line_dist', 'rep0_range_84.nominal.endclass.num_modes', 'rep0_range_84.nominal.endclass.end_dist', 'rep0_range_84.nominal.endclass.tot_deviation', 'rep0_range_84.nominal.endclass.faults', 'rep0_range_84.nominal.endclass.classification', 'rep0_range_84.nominal.endclass.end_x', 'rep0_range_84.nominal.endclass.end_y', 'rep0_range_84.nominal.endclass.endpt'])"
      ]
     },
     "execution_count": 22,
     "metadata": {},
     "output_type": "execute_result"
    }
   ],
   "source": [
    "nest_res.keys()"
   ]
  },
  {
   "cell_type": "code",
   "execution_count": 23,
   "metadata": {
    "execution": {
     "iopub.execute_input": "2024-01-08T23:02:59.027470Z",
     "iopub.status.busy": "2024-01-08T23:02:59.027470Z",
     "iopub.status.idle": "2024-01-08T23:02:59.046773Z",
     "shell.execute_reply": "2024-01-08T23:02:59.046235Z"
    }
   },
   "outputs": [
    {
     "data": {
      "text/plain": [
       "{'rep0_range_0': SampleApproach for rover with: \n",
       "  faultdomains: power\n",
       "  faultsamples: power,\n",
       " 'rep0_range_1': SampleApproach for rover with: \n",
       "  faultdomains: power\n",
       "  faultsamples: power,\n",
       " 'rep0_range_2': SampleApproach for rover with: \n",
       "  faultdomains: power\n",
       "  faultsamples: power,\n",
       " 'rep0_range_3': SampleApproach for rover with: \n",
       "  faultdomains: power\n",
       "  faultsamples: power,\n",
       " 'rep0_range_4': SampleApproach for rover with: \n",
       "  faultdomains: power\n",
       "  faultsamples: power,\n",
       " 'rep0_range_5': SampleApproach for rover with: \n",
       "  faultdomains: power\n",
       "  faultsamples: power,\n",
       " 'rep0_range_6': SampleApproach for rover with: \n",
       "  faultdomains: power\n",
       "  faultsamples: power,\n",
       " 'rep0_range_7': SampleApproach for rover with: \n",
       "  faultdomains: power\n",
       "  faultsamples: power,\n",
       " 'rep0_range_8': SampleApproach for rover with: \n",
       "  faultdomains: power\n",
       "  faultsamples: power,\n",
       " 'rep0_range_9': SampleApproach for rover with: \n",
       "  faultdomains: power\n",
       "  faultsamples: power,\n",
       " 'rep0_range_10': SampleApproach for rover with: \n",
       "  faultdomains: power\n",
       "  faultsamples: power,\n",
       " 'rep0_range_11': SampleApproach for rover with: \n",
       "  faultdomains: power\n",
       "  faultsamples: power,\n",
       " 'rep0_range_12': SampleApproach for rover with: \n",
       "  faultdomains: power\n",
       "  faultsamples: power,\n",
       " 'rep0_range_13': SampleApproach for rover with: \n",
       "  faultdomains: power\n",
       "  faultsamples: power,\n",
       " 'rep0_range_14': SampleApproach for rover with: \n",
       "  faultdomains: power\n",
       "  faultsamples: power,\n",
       " 'rep0_range_15': SampleApproach for rover with: \n",
       "  faultdomains: power\n",
       "  faultsamples: power,\n",
       " 'rep0_range_16': SampleApproach for rover with: \n",
       "  faultdomains: power\n",
       "  faultsamples: power,\n",
       " 'rep0_range_17': SampleApproach for rover with: \n",
       "  faultdomains: power\n",
       "  faultsamples: power,\n",
       " 'rep0_range_18': SampleApproach for rover with: \n",
       "  faultdomains: power\n",
       "  faultsamples: power,\n",
       " 'rep0_range_19': SampleApproach for rover with: \n",
       "  faultdomains: power\n",
       "  faultsamples: power,\n",
       " 'rep0_range_20': SampleApproach for rover with: \n",
       "  faultdomains: power\n",
       "  faultsamples: power,\n",
       " 'rep0_range_21': SampleApproach for rover with: \n",
       "  faultdomains: power\n",
       "  faultsamples: power,\n",
       " 'rep0_range_22': SampleApproach for rover with: \n",
       "  faultdomains: power\n",
       "  faultsamples: power,\n",
       " 'rep0_range_23': SampleApproach for rover with: \n",
       "  faultdomains: power\n",
       "  faultsamples: power,\n",
       " 'rep0_range_24': SampleApproach for rover with: \n",
       "  faultdomains: power\n",
       "  faultsamples: power,\n",
       " 'rep0_range_25': SampleApproach for rover with: \n",
       "  faultdomains: power\n",
       "  faultsamples: power,\n",
       " 'rep0_range_26': SampleApproach for rover with: \n",
       "  faultdomains: power\n",
       "  faultsamples: power,\n",
       " 'rep0_range_27': SampleApproach for rover with: \n",
       "  faultdomains: power\n",
       "  faultsamples: power,\n",
       " 'rep0_range_28': SampleApproach for rover with: \n",
       "  faultdomains: power\n",
       "  faultsamples: power,\n",
       " 'rep0_range_29': SampleApproach for rover with: \n",
       "  faultdomains: power\n",
       "  faultsamples: power,\n",
       " 'rep0_range_30': SampleApproach for rover with: \n",
       "  faultdomains: power\n",
       "  faultsamples: power,\n",
       " 'rep0_range_31': SampleApproach for rover with: \n",
       "  faultdomains: power\n",
       "  faultsamples: power,\n",
       " 'rep0_range_32': SampleApproach for rover with: \n",
       "  faultdomains: power\n",
       "  faultsamples: power,\n",
       " 'rep0_range_33': SampleApproach for rover with: \n",
       "  faultdomains: power\n",
       "  faultsamples: power,\n",
       " 'rep0_range_34': SampleApproach for rover with: \n",
       "  faultdomains: power\n",
       "  faultsamples: power,\n",
       " 'rep0_range_35': SampleApproach for rover with: \n",
       "  faultdomains: power\n",
       "  faultsamples: power,\n",
       " 'rep0_range_36': SampleApproach for rover with: \n",
       "  faultdomains: power\n",
       "  faultsamples: power,\n",
       " 'rep0_range_37': SampleApproach for rover with: \n",
       "  faultdomains: power\n",
       "  faultsamples: power,\n",
       " 'rep0_range_38': SampleApproach for rover with: \n",
       "  faultdomains: power\n",
       "  faultsamples: power,\n",
       " 'rep0_range_39': SampleApproach for rover with: \n",
       "  faultdomains: power\n",
       "  faultsamples: power,\n",
       " 'rep0_range_40': SampleApproach for rover with: \n",
       "  faultdomains: power\n",
       "  faultsamples: power,\n",
       " 'rep0_range_41': SampleApproach for rover with: \n",
       "  faultdomains: power\n",
       "  faultsamples: power,\n",
       " 'rep0_range_42': SampleApproach for rover with: \n",
       "  faultdomains: power\n",
       "  faultsamples: power,\n",
       " 'rep0_range_43': SampleApproach for rover with: \n",
       "  faultdomains: power\n",
       "  faultsamples: power,\n",
       " 'rep0_range_44': SampleApproach for rover with: \n",
       "  faultdomains: power\n",
       "  faultsamples: power,\n",
       " 'rep0_range_45': SampleApproach for rover with: \n",
       "  faultdomains: power\n",
       "  faultsamples: power,\n",
       " 'rep0_range_46': SampleApproach for rover with: \n",
       "  faultdomains: power\n",
       "  faultsamples: power,\n",
       " 'rep0_range_47': SampleApproach for rover with: \n",
       "  faultdomains: power\n",
       "  faultsamples: power,\n",
       " 'rep0_range_48': SampleApproach for rover with: \n",
       "  faultdomains: power\n",
       "  faultsamples: power,\n",
       " 'rep0_range_49': SampleApproach for rover with: \n",
       "  faultdomains: power\n",
       "  faultsamples: power,\n",
       " 'rep0_range_50': SampleApproach for rover with: \n",
       "  faultdomains: power\n",
       "  faultsamples: power,\n",
       " 'rep0_range_51': SampleApproach for rover with: \n",
       "  faultdomains: power\n",
       "  faultsamples: power,\n",
       " 'rep0_range_52': SampleApproach for rover with: \n",
       "  faultdomains: power\n",
       "  faultsamples: power,\n",
       " 'rep0_range_53': SampleApproach for rover with: \n",
       "  faultdomains: power\n",
       "  faultsamples: power,\n",
       " 'rep0_range_54': SampleApproach for rover with: \n",
       "  faultdomains: power\n",
       "  faultsamples: power,\n",
       " 'rep0_range_55': SampleApproach for rover with: \n",
       "  faultdomains: power\n",
       "  faultsamples: power,\n",
       " 'rep0_range_56': SampleApproach for rover with: \n",
       "  faultdomains: power\n",
       "  faultsamples: power,\n",
       " 'rep0_range_57': SampleApproach for rover with: \n",
       "  faultdomains: power\n",
       "  faultsamples: power,\n",
       " 'rep0_range_58': SampleApproach for rover with: \n",
       "  faultdomains: power\n",
       "  faultsamples: power,\n",
       " 'rep0_range_59': SampleApproach for rover with: \n",
       "  faultdomains: power\n",
       "  faultsamples: power,\n",
       " 'rep0_range_60': SampleApproach for rover with: \n",
       "  faultdomains: power\n",
       "  faultsamples: power,\n",
       " 'rep0_range_61': SampleApproach for rover with: \n",
       "  faultdomains: power\n",
       "  faultsamples: power,\n",
       " 'rep0_range_62': SampleApproach for rover with: \n",
       "  faultdomains: power\n",
       "  faultsamples: power,\n",
       " 'rep0_range_63': SampleApproach for rover with: \n",
       "  faultdomains: power\n",
       "  faultsamples: power,\n",
       " 'rep0_range_64': SampleApproach for rover with: \n",
       "  faultdomains: power\n",
       "  faultsamples: power,\n",
       " 'rep0_range_65': SampleApproach for rover with: \n",
       "  faultdomains: power\n",
       "  faultsamples: power,\n",
       " 'rep0_range_66': SampleApproach for rover with: \n",
       "  faultdomains: power\n",
       "  faultsamples: power,\n",
       " 'rep0_range_67': SampleApproach for rover with: \n",
       "  faultdomains: power\n",
       "  faultsamples: power,\n",
       " 'rep0_range_68': SampleApproach for rover with: \n",
       "  faultdomains: power\n",
       "  faultsamples: power,\n",
       " 'rep0_range_69': SampleApproach for rover with: \n",
       "  faultdomains: power\n",
       "  faultsamples: power,\n",
       " 'rep0_range_70': SampleApproach for rover with: \n",
       "  faultdomains: power\n",
       "  faultsamples: power,\n",
       " 'rep0_range_71': SampleApproach for rover with: \n",
       "  faultdomains: power\n",
       "  faultsamples: power,\n",
       " 'rep0_range_72': SampleApproach for rover with: \n",
       "  faultdomains: power\n",
       "  faultsamples: power,\n",
       " 'rep0_range_73': SampleApproach for rover with: \n",
       "  faultdomains: power\n",
       "  faultsamples: power,\n",
       " 'rep0_range_74': SampleApproach for rover with: \n",
       "  faultdomains: power\n",
       "  faultsamples: power,\n",
       " 'rep0_range_75': SampleApproach for rover with: \n",
       "  faultdomains: power\n",
       "  faultsamples: power,\n",
       " 'rep0_range_76': SampleApproach for rover with: \n",
       "  faultdomains: power\n",
       "  faultsamples: power,\n",
       " 'rep0_range_77': SampleApproach for rover with: \n",
       "  faultdomains: power\n",
       "  faultsamples: power,\n",
       " 'rep0_range_78': SampleApproach for rover with: \n",
       "  faultdomains: power\n",
       "  faultsamples: power,\n",
       " 'rep0_range_79': SampleApproach for rover with: \n",
       "  faultdomains: power\n",
       "  faultsamples: power,\n",
       " 'rep0_range_80': SampleApproach for rover with: \n",
       "  faultdomains: power\n",
       "  faultsamples: power,\n",
       " 'rep0_range_81': SampleApproach for rover with: \n",
       "  faultdomains: power\n",
       "  faultsamples: power,\n",
       " 'rep0_range_82': SampleApproach for rover with: \n",
       "  faultdomains: power\n",
       "  faultsamples: power,\n",
       " 'rep0_range_83': SampleApproach for rover with: \n",
       "  faultdomains: power\n",
       "  faultsamples: power,\n",
       " 'rep0_range_84': SampleApproach for rover with: \n",
       "  faultdomains: power\n",
       "  faultsamples: power}"
      ]
     },
     "execution_count": 23,
     "metadata": {},
     "output_type": "execute_result"
    }
   ],
   "source": [
    "apps"
   ]
  },
  {
   "cell_type": "markdown",
   "metadata": {},
   "source": [
    "We can now compare the performance of the system over faults using a `NestedComparison`:"
   ]
  },
  {
   "cell_type": "code",
   "execution_count": 24,
   "metadata": {
    "execution": {
     "iopub.execute_input": "2024-01-08T23:02:59.047387Z",
     "iopub.status.busy": "2024-01-08T23:02:59.047387Z",
     "iopub.status.idle": "2024-01-08T23:03:00.378061Z",
     "shell.execute_reply": "2024-01-08T23:03:00.377989Z"
    }
   },
   "outputs": [
    {
     "data": {
      "text/html": [
       "<div>\n",
       "<style scoped>\n",
       "    .dataframe tbody tr th:only-of-type {\n",
       "        vertical-align: middle;\n",
       "    }\n",
       "\n",
       "    .dataframe tbody tr th {\n",
       "        vertical-align: top;\n",
       "    }\n",
       "\n",
       "    .dataframe thead th {\n",
       "        text-align: right;\n",
       "    }\n",
       "</style>\n",
       "<table border=\"1\" class=\"dataframe\">\n",
       "  <thead>\n",
       "    <tr style=\"text-align: right;\">\n",
       "      <th></th>\n",
       "      <th></th>\n",
       "      <th>end_dist</th>\n",
       "      <th>end_dist_lb</th>\n",
       "      <th>end_dist_ub</th>\n",
       "    </tr>\n",
       "  </thead>\n",
       "  <tbody>\n",
       "    <tr>\n",
       "      <th>8.0</th>\n",
       "      <th>40</th>\n",
       "      <td>15.089792</td>\n",
       "      <td>0.227536</td>\n",
       "      <td>29.952048</td>\n",
       "    </tr>\n",
       "    <tr>\n",
       "      <th>7.0</th>\n",
       "      <th>40</th>\n",
       "      <td>14.854427</td>\n",
       "      <td>0.000000</td>\n",
       "      <td>29.708854</td>\n",
       "    </tr>\n",
       "    <tr>\n",
       "      <th>6.5</th>\n",
       "      <th>40</th>\n",
       "      <td>14.799179</td>\n",
       "      <td>0.000000</td>\n",
       "      <td>29.598357</td>\n",
       "    </tr>\n",
       "    <tr>\n",
       "      <th>6.0</th>\n",
       "      <th>40</th>\n",
       "      <td>14.747961</td>\n",
       "      <td>0.000000</td>\n",
       "      <td>29.495921</td>\n",
       "    </tr>\n",
       "    <tr>\n",
       "      <th>5.5</th>\n",
       "      <th>40</th>\n",
       "      <td>14.700815</td>\n",
       "      <td>0.000000</td>\n",
       "      <td>29.401630</td>\n",
       "    </tr>\n",
       "    <tr>\n",
       "      <th>...</th>\n",
       "      <th>...</th>\n",
       "      <td>...</td>\n",
       "      <td>...</td>\n",
       "      <td>...</td>\n",
       "    </tr>\n",
       "    <tr>\n",
       "      <th>6.5</th>\n",
       "      <th>10</th>\n",
       "      <td>28.668679</td>\n",
       "      <td>28.434476</td>\n",
       "      <td>28.785780</td>\n",
       "    </tr>\n",
       "    <tr>\n",
       "      <th>5.5</th>\n",
       "      <th>10</th>\n",
       "      <td>28.654175</td>\n",
       "      <td>28.406287</td>\n",
       "      <td>28.778119</td>\n",
       "    </tr>\n",
       "    <tr>\n",
       "      <th>4.5</th>\n",
       "      <th>10</th>\n",
       "      <td>28.634107</td>\n",
       "      <td>28.366833</td>\n",
       "      <td>28.767744</td>\n",
       "    </tr>\n",
       "    <tr>\n",
       "      <th>1.5</th>\n",
       "      <th>10</th>\n",
       "      <td>17.599148</td>\n",
       "      <td>6.298143</td>\n",
       "      <td>23.249651</td>\n",
       "    </tr>\n",
       "    <tr>\n",
       "      <th>7.5</th>\n",
       "      <th>40</th>\n",
       "      <td>15.706402</td>\n",
       "      <td>1.585538</td>\n",
       "      <td>22.766834</td>\n",
       "    </tr>\n",
       "  </tbody>\n",
       "</table>\n",
       "<p>85 rows × 3 columns</p>\n",
       "</div>"
      ],
      "text/plain": [
       "         end_dist  end_dist_lb  end_dist_ub\n",
       "8.0 40  15.089792     0.227536    29.952048\n",
       "7.0 40  14.854427     0.000000    29.708854\n",
       "6.5 40  14.799179     0.000000    29.598357\n",
       "6.0 40  14.747961     0.000000    29.495921\n",
       "5.5 40  14.700815     0.000000    29.401630\n",
       "...           ...          ...          ...\n",
       "6.5 10  28.668679    28.434476    28.785780\n",
       "5.5 10  28.654175    28.406287    28.778119\n",
       "4.5 10  28.634107    28.366833    28.767744\n",
       "1.5 10  17.599148     6.298143    23.249651\n",
       "7.5 40  15.706402     1.585538    22.766834\n",
       "\n",
       "[85 rows x 3 columns]"
      ]
     },
     "execution_count": 24,
     "metadata": {},
     "output_type": "execute_result"
    }
   ],
   "source": [
    "import numpy as np\n",
    "from fmdtools.analyze.tabulate import NestedComparison\n",
    "\n",
    "n_comp = NestedComparison(nest_res, ps_sine, ['p.ground.amp', 'p.ground.period'], apps, [], #['fault'],\n",
    "                          metrics=['end_dist'], default_stat=np.mean, ci_metrics=['end_dist'])\n",
    "\n",
    "n_comp.as_table()"
   ]
  },
  {
   "cell_type": "code",
   "execution_count": 25,
   "metadata": {
    "execution": {
     "iopub.execute_input": "2024-01-08T23:03:00.380692Z",
     "iopub.status.busy": "2024-01-08T23:03:00.380692Z",
     "iopub.status.idle": "2024-01-08T23:03:00.977824Z",
     "shell.execute_reply": "2024-01-08T23:03:00.977824Z"
    }
   },
   "outputs": [
    {
     "data": {
      "text/plain": [
       "(<Figure size 2000x300 with 1 Axes>, <Axes: xlabel='p.ground.amp'>)"
      ]
     },
     "execution_count": 25,
     "metadata": {},
     "output_type": "execute_result"
    },
    {
     "data": {
      "image/png": "[encoded data removed]",
      "text/plain": [
       "<Figure size 2000x300 with 1 Axes>"
      ]
     },
     "metadata": {},
     "output_type": "display_data"
    }
   ],
   "source": [
    "n_comp.sort_by_factor(\"p.ground.period\", reverse=True)\n",
    "n_comp.sort_by_factor(\"p.ground.amp\")\n",
    "n_comp.as_plot(\"end_dist\", color_factor=\"p.ground.period\", figsize=(20,3))"
   ]
  },
  {
   "cell_type": "markdown",
   "metadata": {},
   "source": [
    "This is of course consistent with the nominal case, with a higher average in all cases, since fault modes inherently deviate the trajectory.\n",
    "\n",
    "Also note the wide error bars on the fault plot--this is again because individual fault modes have a substantial impact on the trajectory (and we are only sampling a few scenarios for the bootstrap)"
   ]
  },
  {
   "cell_type": "code",
   "execution_count": 26,
   "metadata": {
    "execution": {
     "iopub.execute_input": "2024-01-08T23:03:00.980687Z",
     "iopub.status.busy": "2024-01-08T23:03:00.980687Z",
     "iopub.status.idle": "2024-01-08T23:03:01.497014Z",
     "shell.execute_reply": "2024-01-08T23:03:01.495935Z"
    }
   },
   "outputs": [
    {
     "data": {
      "image/png": "[encoded data removed]",
      "text/plain": [
       "<Figure size 2000x300 with 1 Axes>"
      ]
     },
     "metadata": {},
     "output_type": "display_data"
    }
   ],
   "source": [
    "fig, ax = comp.as_plot(\"end_dist\", color_factor = \"p.ground.period\", figsize=(20, 3))"
   ]
  }
 ],
 "metadata": {
  "kernelspec": {
   "display_name": "Python 3 (ipykernel)",
   "language": "python",
   "name": "python3"
  },
  "language_info": {
   "codemirror_mode": {
    "name": "ipython",
    "version": 3
   },
   "file_extension": ".py",
   "mimetype": "text/x-python",
   "name": "python",
   "nbconvert_exporter": "python",
   "pygments_lexer": "ipython3",
   "version": "3.10.9"
  }
 },
 "nbformat": 4,
 "nbformat_minor": 4
}
