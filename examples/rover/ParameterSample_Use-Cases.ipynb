{
 "cells": [
  {
   "attachments": {},
   "cell_type": "markdown",
   "metadata": {},
   "source": [
    "# Defining Nominal Approaches in fmdtools\n",
    "\n",
    "Nominal simulation approaches are used to evaluate the performance of a model over a set of input parameters. It can then be used to:\n",
    "- define/understand the operational envelope for different system parameters (i.e., what inputs can the system safely encounter)\n",
    "- quantify failure probabilities given stochastic inputs (i.e., if the statistical distribution of inputs are known, what is the resulting probability of hazards given the design)"
   ]
  },
  {
   "cell_type": "code",
   "execution_count": 1,
   "metadata": {
    "execution": {
     "iopub.execute_input": "2023-09-29T21:51:59.021327Z",
     "iopub.status.busy": "2023-09-29T21:51:59.021327Z",
     "iopub.status.idle": "2023-09-29T21:52:01.059440Z",
     "shell.execute_reply": "2023-09-29T21:52:01.058438Z"
    }
   },
   "outputs": [],
   "source": [
    "from fmdtools.define.model import Model\n",
    "from fmdtools.define.block import FxnBlock\n",
    "\n",
    "import fmdtools.analyze as an\n",
    "import fmdtools.sim.propagate as prop"
   ]
  },
  {
   "attachments": {},
   "cell_type": "markdown",
   "metadata": {},
   "source": [
    "The rover model (rover_model.py) from the examples module will be used to demonstrate this approach. The main task of the rover is to follow a given line from a starting location to an ending location. It model is made of following functions and flows.\n",
    "\n",
    "Functions:\n",
    "    - Power\n",
    "    - Operator\n",
    "    - Communications\n",
    "    - Perception\n",
    "    - Avionics\n",
    "    - Override\n",
    "    - Drive\n",
    "    - Environment\n",
    "\n",
    "Flows:\n",
    "    - Groud\n",
    "    - Pos_Signal\n",
    "    - EE_12\n",
    "    - EE_15\n",
    "    - EE_5\n",
    "    - Video\n",
    "    - Avionics_Control\n",
    "    - Motor_control\n",
    "    - Switch\n",
    "    - Comms\n",
    "    - Ovverride_comms\n",
    "    - Faultystates\n",
    "\n",
    "It has helper functions that help visualize the rovers behavior overtime.\n",
    "\n",
    "    - plot_map(mdl, mdlhist): helps visualize the ability of the rover to track a given line\n",
    "    - plot_trajectories(\n",
    "                            mdlhists,\n",
    "                            nomhist=[],\n",
    "                            app=[],\n",
    "                            faultlabel=\"Faulty\",\n",
    "                            faultalpha=0.1,\n",
    "                            range_hist={},\n",
    "                            rangealpha=0.1,\n",
    "                            setalpha=0.3,\n",
    "                            show_labels=True,\n",
    "                            title=\"Fault Trajectories\",\n",
    "                            textoffset=2.0,\n",
    "                            mode_trunc=5,\n",
    "                            mode_trunc_end=5,\n",
    "                            xlim=None,\n",
    "                            ylim=None,\n",
    "                            figsize=(4, 4),\n",
    "                            ax=False,\n",
    "                            legend=True,\n",
    "                        ): helps visualize the rover trajectories\n",
    "\n",
    "    - plot_centerline_err(mdl, mdlhist): helps visualize how mucht the rover has deviated from the centerline.\n",
    "\n",
    "Additionally, this model has a corresponding *parameter generation* class which generates the design parameters of the model given a reduced space of input parameters. The pssoible parameter inputs and their dafaults are listed below.\n",
    "\n",
    "    linetype: str = \"sine\"              # line type (sine or turn)\n",
    "    period: float = 1.0                 # period of the curve (for sine linetype)\n",
    "    end: tuple = (10.0, 10.0)           # end of the curve (requires instantiation)\n",
    "    initangle: float = 0.0              # initial rover angle\n",
    "    linetype_set = (\"sine\", \"turn\")\n",
    "    amp: float = 1.0                    # amplitude of sine wave   (input for sine linetype)\n",
    "    wavelength: float = 50.0            # wavelength of sine wave (input for sine linetype)\n",
    "    radius: float = 20.0                # radius of turn (input for turn linetype)\n",
    "    start: float = 20.0                 # start of turn (input for turn linetype)\n",
    "    ub_f: float = 10.0                  \n",
    "    lb_f: float = -1.0\n",
    "    ub_t: float = 10.0\n",
    "    lb_t: float = -1.0\n",
    "    ub_d: float = 2.0\n",
    "    lb_d: float = -2.0\n",
    "    cor_d: float = 1.0\n",
    "    cor_t: float = 1.0\n",
    "    cor_f: float = 1.0\n",
    "    degradation: DegParam = DegParam()  # Degradation parameters\n",
    "    drive_modes: dict = {\"mode_args\": \"set\"}   "
   ]
  },
  {
   "cell_type": "code",
   "execution_count": 2,
   "metadata": {
    "execution": {
     "iopub.execute_input": "2023-09-29T21:52:01.062430Z",
     "iopub.status.busy": "2023-09-29T21:52:01.062430Z",
     "iopub.status.idle": "2023-09-29T21:52:02.096708Z",
     "shell.execute_reply": "2023-09-29T21:52:02.095711Z"
    }
   },
   "outputs": [
    {
     "ename": "ImportError",
     "evalue": "cannot import name 'plot_map' from 'rover_model' (C:\\Users\\dhulse\\Documents\\GitHub\\fmdtools\\examples\\rover\\rover_model.py)",
     "output_type": "error",
     "traceback": [
      "\u001b[1;31m---------------------------------------------------------------------------\u001b[0m",
      "\u001b[1;31mImportError\u001b[0m                               Traceback (most recent call last)",
      "Cell \u001b[1;32mIn[2], line 1\u001b[0m\n\u001b[1;32m----> 1\u001b[0m \u001b[38;5;28;01mfrom\u001b[39;00m \u001b[38;5;21;01mrover_model\u001b[39;00m \u001b[38;5;28;01mimport\u001b[39;00m Rover, plot_map, plot_centerline_err, RoverParam\n",
      "\u001b[1;31mImportError\u001b[0m: cannot import name 'plot_map' from 'rover_model' (C:\\Users\\dhulse\\Documents\\GitHub\\fmdtools\\examples\\rover\\rover_model.py)"
     ]
    }
   ],
   "source": [
    "from rover_model import Rover, plot_map, plot_centerline_err, RoverParam"
   ]
  },
  {
   "attachments": {},
   "cell_type": "markdown",
   "metadata": {},
   "source": [
    "Below shows the performance of the rover during a (default) turn with a radius of 20 meters that begins at 20 meters. As shown, there is a slight drift from the centerline, but not enough for the rover to get lost (that would take 1 meter of drift)."
   ]
  },
  {
   "cell_type": "code",
   "execution_count": 3,
   "metadata": {
    "execution": {
     "iopub.execute_input": "2023-08-11T03:12:59.511884Z",
     "iopub.status.busy": "2023-08-11T03:12:59.511884Z",
     "iopub.status.idle": "2023-08-11T03:12:59.817728Z",
     "shell.execute_reply": "2023-08-11T03:12:59.817728Z"
    }
   },
   "outputs": [],
   "source": [
    "p = RoverParam(linetype=\"turn\")\n",
    "mdl = Rover(p=p)\n",
    "results, mdlhist = prop.nominal(mdl)\n",
    "plot_map(mdl, mdlhist)"
   ]
  },
  {
   "attachments": {},
   "cell_type": "markdown",
   "metadata": {},
   "source": [
    "Below shows the performance of the model over a sine wave. As shown, similar to the turn line type, the drift small enough to where the rover completes its mission within acceptable bounds."
   ]
  },
  {
   "cell_type": "code",
   "execution_count": 4,
   "metadata": {
    "execution": {
     "iopub.execute_input": "2023-08-11T03:12:59.817728Z",
     "iopub.status.busy": "2023-08-11T03:12:59.817728Z",
     "iopub.status.idle": "2023-08-11T03:13:00.097996Z",
     "shell.execute_reply": "2023-08-11T03:13:00.097996Z"
    }
   },
   "outputs": [],
   "source": [
    "p = RoverParam(linetype=\"sine\")\n",
    "mdl = Rover(p=p)\n",
    "results, mdlhist = prop.nominal(mdl)\n",
    "plot_map(mdl, mdlhist)"
   ]
  },
  {
   "attachments": {},
   "cell_type": "markdown",
   "metadata": {},
   "source": [
    "The performance of the rover in these situations is dependent on the parameters of the situation (e.g., the radius of the curve and the amplitude of the sine wave). Thus, it is important to define the operational envelope for the system. This can be done using a `NominalApproach`, which can be used to define ranges of variables to simulate the system under."
   ]
  },
  {
   "cell_type": "code",
   "execution_count": 5,
   "metadata": {
    "execution": {
     "iopub.execute_input": "2023-08-11T03:13:00.097996Z",
     "iopub.status.busy": "2023-08-11T03:13:00.097996Z",
     "iopub.status.idle": "2023-08-11T03:13:00.113613Z",
     "shell.execute_reply": "2023-08-11T03:13:00.113613Z"
    }
   },
   "outputs": [],
   "source": [
    "from fmdtools.sim.approach import NominalApproach"
   ]
  },
  {
   "cell_type": "code",
   "execution_count": 6,
   "metadata": {
    "execution": {
     "iopub.execute_input": "2023-08-11T03:13:00.113613Z",
     "iopub.status.busy": "2023-08-11T03:13:00.113613Z",
     "iopub.status.idle": "2023-08-11T03:13:00.129235Z",
     "shell.execute_reply": "2023-08-11T03:13:00.129235Z"
    }
   },
   "outputs": [],
   "source": [
    "help(NominalApproach)"
   ]
  },
  {
   "attachments": {},
   "cell_type": "markdown",
   "metadata": {},
   "source": [
    "In this approach we define parameter ranges for the two major situations--a wavelength and amplitude for the sine wave, and a radius and start location for the turn.\n",
    "\n",
    "Defining an approach in terms of ranges is performed with `.add_param_ranges()`"
   ]
  },
  {
   "cell_type": "code",
   "execution_count": 7,
   "metadata": {
    "execution": {
     "iopub.execute_input": "2023-08-11T03:13:00.129235Z",
     "iopub.status.busy": "2023-08-11T03:13:00.129235Z",
     "iopub.status.idle": "2023-08-11T03:13:00.151272Z",
     "shell.execute_reply": "2023-08-11T03:13:00.151272Z"
    }
   },
   "outputs": [],
   "source": [
    "nomapp = NominalApproach()\n",
    "help(nomapp.add_param_ranges)"
   ]
  },
  {
   "cell_type": "code",
   "execution_count": 8,
   "metadata": {
    "execution": {
     "iopub.execute_input": "2023-08-11T03:13:00.151272Z",
     "iopub.status.busy": "2023-08-11T03:13:00.151272Z",
     "iopub.status.idle": "2023-08-11T03:13:00.182631Z",
     "shell.execute_reply": "2023-08-11T03:13:00.182631Z"
    }
   },
   "outputs": [],
   "source": [
    "nomapp.add_param_ranges(RoverParam,'sine', linetype='sine', amp=(0, 10, 0.2), wavelength=(10.0,50.0,10.0))\n",
    "nomapp.add_param_ranges(RoverParam,'turn', linetype='turn', radius=(5.0,40.0,5.0), start=(0.0, 20.0,5.0))"
   ]
  },
  {
   "attachments": {},
   "cell_type": "markdown",
   "metadata": {},
   "source": [
    "Notice that `RoverParam` is the class that generatse the nominal parameters of the model, `linetype = 'sine'` is a fixed parameter defining a discrete case of scenarios, and `amp` and `wavelenth` are parameters that are varied (the given tuples define the respective ranges).\n",
    "\n",
    "The result is a defined set of scenarios which can be run in the model:"
   ]
  },
  {
   "cell_type": "code",
   "execution_count": 9,
   "metadata": {
    "execution": {
     "iopub.execute_input": "2023-08-11T03:13:00.182631Z",
     "iopub.status.busy": "2023-08-11T03:13:00.182631Z",
     "iopub.status.idle": "2023-08-11T03:13:00.213712Z",
     "shell.execute_reply": "2023-08-11T03:13:00.213712Z"
    }
   },
   "outputs": [],
   "source": [
    "nomapp.scenarios"
   ]
  },
  {
   "attachments": {},
   "cell_type": "markdown",
   "metadata": {},
   "source": [
    "Nominal Approaches are simulated using `prop.nominal_approach`."
   ]
  },
  {
   "cell_type": "code",
   "execution_count": 10,
   "metadata": {
    "execution": {
     "iopub.execute_input": "2023-08-11T03:13:00.213712Z",
     "iopub.status.busy": "2023-08-11T03:13:00.213712Z",
     "iopub.status.idle": "2023-08-11T03:13:00.229490Z",
     "shell.execute_reply": "2023-08-11T03:13:00.229490Z"
    }
   },
   "outputs": [],
   "source": [
    "help(prop.nominal_approach)"
   ]
  },
  {
   "cell_type": "code",
   "execution_count": 11,
   "metadata": {
    "execution": {
     "iopub.execute_input": "2023-08-11T03:13:00.229490Z",
     "iopub.status.busy": "2023-08-11T03:13:00.229490Z",
     "iopub.status.idle": "2023-08-11T03:13:13.253198Z",
     "shell.execute_reply": "2023-08-11T03:13:13.253198Z"
    }
   },
   "outputs": [],
   "source": [
    "endclasses, mdlhists= prop.nominal_approach(mdl, nomapp)"
   ]
  },
  {
   "attachments": {},
   "cell_type": "markdown",
   "metadata": {},
   "source": [
    "To speed up execution over large numbers of scenarios, multiprocessing can also be used to run the scenarios in parallel by passing an execution pool. This is not done here because it would require the model to be in a different file, and because the gains on a light-weight model like this are not significant."
   ]
  },
  {
   "attachments": {},
   "cell_type": "markdown",
   "metadata": {},
   "source": [
    "Now that the approach has been simulated, the operational envelope can be visualized. There are three methods to perform this visualization `an.plot.nominal_vals_1d`, `an.plot.nominal_vals_2d`, and `an.plot.nominal_vals_3d`, which each plot the *classification* of the model in the 1/2/3 dimensions over the set of given parameters as nominal or incomplete. \n",
    "\n",
    "Note that this classification must be in the dictionary returned from the Model's `find_classification` function at the end of the model run under the key `classification` as is done in the rover model. This classification must also be encoded as a string."
   ]
  },
  {
   "cell_type": "code",
   "execution_count": 12,
   "metadata": {
    "execution": {
     "iopub.execute_input": "2023-08-11T03:13:13.253198Z",
     "iopub.status.busy": "2023-08-11T03:13:13.253198Z",
     "iopub.status.idle": "2023-08-11T03:13:13.269081Z",
     "shell.execute_reply": "2023-08-11T03:13:13.269081Z"
    }
   },
   "outputs": [],
   "source": [
    "help(an.plot.nominal_vals_2d)"
   ]
  },
  {
   "attachments": {},
   "cell_type": "markdown",
   "metadata": {},
   "source": [
    "We can then use these results to visualize the operational envelope for the system over each case. In this case, the parameter ranges of the sine wave are plotted, showing that the rover can only a low ration of amplitude to wavelenght."
   ]
  },
  {
   "cell_type": "code",
   "execution_count": 13,
   "metadata": {
    "execution": {
     "iopub.execute_input": "2023-08-11T03:13:13.269081Z",
     "iopub.status.busy": "2023-08-11T03:13:13.269081Z",
     "iopub.status.idle": "2023-08-11T03:13:13.685434Z",
     "shell.execute_reply": "2023-08-11T03:13:13.685434Z"
    }
   },
   "outputs": [],
   "source": [
    "fig = an.plot.nominal_vals_2d(nomapp, endclasses, 'inputparams.amp', 'inputparams.wavelength', metric = 'at_finish')"
   ]
  },
  {
   "attachments": {},
   "cell_type": "markdown",
   "metadata": {},
   "source": [
    "The plot below shows the same results for the turn parameters."
   ]
  },
  {
   "cell_type": "code",
   "execution_count": 14,
   "metadata": {
    "execution": {
     "iopub.execute_input": "2023-08-11T03:13:13.685434Z",
     "iopub.status.busy": "2023-08-11T03:13:13.685434Z",
     "iopub.status.idle": "2023-08-11T03:13:14.101963Z",
     "shell.execute_reply": "2023-08-11T03:13:14.101963Z"
    }
   },
   "outputs": [],
   "source": [
    "fig = an.plot.nominal_vals_2d(nomapp, endclasses, 'inputparams.radius', 'inputparams.start', metric = 'at_finish')"
   ]
  },
  {
   "attachments": {},
   "cell_type": "markdown",
   "metadata": {},
   "source": [
    "Because the primary effect is one in terms of radius, we might visualize this trend in one dimension instead:"
   ]
  },
  {
   "cell_type": "code",
   "execution_count": 15,
   "metadata": {
    "execution": {
     "iopub.execute_input": "2023-08-11T03:13:14.101963Z",
     "iopub.status.busy": "2023-08-11T03:13:14.101963Z",
     "iopub.status.idle": "2023-08-11T03:13:14.487459Z",
     "shell.execute_reply": "2023-08-11T03:13:14.487459Z"
    }
   },
   "outputs": [],
   "source": [
    "fig = an.plot.nominal_vals_1d(nomapp, endclasses, 'inputparams.radius', metric = 'at_finish')"
   ]
  },
  {
   "attachments": {},
   "cell_type": "markdown",
   "metadata": {},
   "source": [
    "While this is helpful for plotting string classifications, we also might want to compare numeric quantities (e.g., costs, hazard probabilities, etc) over the set of factors. For this, `an.tabulate.nominal_factor_comparison` is used, which creates a table of  metrics over a given set of parameters."
   ]
  },
  {
   "cell_type": "code",
   "execution_count": 16,
   "metadata": {
    "execution": {
     "iopub.execute_input": "2023-08-11T03:13:14.487459Z",
     "iopub.status.busy": "2023-08-11T03:13:14.487459Z",
     "iopub.status.idle": "2023-08-11T03:13:14.503053Z",
     "shell.execute_reply": "2023-08-11T03:13:14.503053Z"
    }
   },
   "outputs": [],
   "source": [
    "help(an.tabulate.nominal_factor_comparison)"
   ]
  },
  {
   "cell_type": "code",
   "execution_count": 17,
   "metadata": {
    "execution": {
     "iopub.execute_input": "2023-08-11T03:13:14.503053Z",
     "iopub.status.busy": "2023-08-11T03:13:14.503053Z",
     "iopub.status.idle": "2023-08-11T03:13:14.518772Z",
     "shell.execute_reply": "2023-08-11T03:13:14.518772Z"
    }
   },
   "outputs": [],
   "source": [
    "endclasses.state_probabilities()"
   ]
  },
  {
   "cell_type": "code",
   "execution_count": 18,
   "metadata": {
    "execution": {
     "iopub.execute_input": "2023-08-11T03:13:14.518772Z",
     "iopub.status.busy": "2023-08-11T03:13:14.518772Z",
     "iopub.status.idle": "2023-08-11T03:13:15.079343Z",
     "shell.execute_reply": "2023-08-11T03:13:15.079343Z"
    }
   },
   "outputs": [],
   "source": [
    "nomtab = an.tabulate.nominal_factor_comparison(nomapp, endclasses, ['inputparams.radius', 'inputparams.start'], rangeid='turn', percent=False)"
   ]
  },
  {
   "cell_type": "code",
   "execution_count": null,
   "metadata": {},
   "outputs": [],
   "source": [
    "nomtab"
   ]
  },
  {
   "attachments": {},
   "cell_type": "markdown",
   "metadata": {},
   "source": [
    "This table can also be summarized on individual factors:"
   ]
  },
  {
   "cell_type": "code",
   "execution_count": null,
   "metadata": {},
   "outputs": [],
   "source": [
    "nomtab_summ = an.tabulate.nominal_factor_comparison(nomapp, endclasses, ['start'], rangeid='turn', percent=False)\n",
    "nomtab_summ"
   ]
  },
  {
   "attachments": {},
   "cell_type": "markdown",
   "metadata": {},
   "source": [
    "`an.plot.nominal_factor_comparison` can then be used to visualize one metric from this table as a bar plot."
   ]
  },
  {
   "cell_type": "code",
   "execution_count": null,
   "metadata": {},
   "outputs": [],
   "source": [
    "help(an.plot.nominal_factor_comparison)"
   ]
  },
  {
   "cell_type": "code",
   "execution_count": null,
   "metadata": {},
   "outputs": [],
   "source": [
    "fig = an.plot.nominal_factor_comparison(nomtab_summ, 'cost', ylabel='cost', title='average cost at different start locations', maxy=150)"
   ]
  },
  {
   "attachments": {},
   "cell_type": "markdown",
   "metadata": {},
   "source": [
    "## Quantifying probabilities\n",
    "\n",
    "Given the ability to simulate over ranges, it can additionally be used to quantify probabilities of the different end-state classifications. `an.process.state_probabilities(endclasses)` can be used to quantify the probability these classifications."
   ]
  },
  {
   "attachments": {},
   "cell_type": "markdown",
   "metadata": {},
   "source": [
    "The default probability model over ranges is to assume a uniform distribution and only assume one range has been added. This can lead to fallacious results:"
   ]
  },
  {
   "cell_type": "code",
   "execution_count": 19,
   "metadata": {},
   "outputs": [],
   "source": [
    "state_probabilities = endclasses.state_probabilities()\n",
    "state_probabilities"
   ]
  },
  {
   "attachments": {},
   "cell_type": "markdown",
   "metadata": {},
   "source": [
    "Thus, `.assoc_probs` to:\n",
    "- associate the probabilities with their corresponding distributions (which may be non-uniform), and\n",
    "- rebalance the overall probability of discrete cases\n",
    "when running the approach over ranges. "
   ]
  },
  {
   "cell_type": "code",
   "execution_count": 20,
   "metadata": {},
   "outputs": [],
   "source": [
    "help(nomapp.assoc_probs)"
   ]
  },
  {
   "attachments": {},
   "cell_type": "markdown",
   "metadata": {},
   "source": [
    "Here, each case is given a weight defining the probability of the discrete case, while the corresponding parameters are given corresponding pdf functions (in this case uniform distributions from the scipy stats package)."
   ]
  },
  {
   "cell_type": "code",
   "execution_count": 21,
   "metadata": {},
   "outputs": [],
   "source": [
    "from scipy import stats"
   ]
  },
  {
   "cell_type": "code",
   "execution_count": 22,
   "metadata": {},
   "outputs": [],
   "source": [
    "nomapp.assoc_probs('sine', prob_weight=0.5, amp=(stats.uniform.pdf, {'loc':0,'scale':10}), wavelength=(stats.uniform.pdf,{'loc':10, 'scale':40}))\n",
    "nomapp.assoc_probs('turn', prob_weight=0.5, start=(stats.uniform.pdf, {'loc':5,'scale':10}), radius=(stats.uniform.pdf,{'loc':5, 'scale':30}))"
   ]
  },
  {
   "attachments": {},
   "cell_type": "markdown",
   "metadata": {},
   "source": [
    "Now, when the scenarios are run, they should have the correct corresponding probabilities:"
   ]
  },
  {
   "cell_type": "code",
   "execution_count": 23,
   "metadata": {},
   "outputs": [],
   "source": [
    "endclasses, mdlhists= prop.nominal_approach(mdl, nomapp)"
   ]
  },
  {
   "cell_type": "code",
   "execution_count": 24,
   "metadata": {},
   "outputs": [],
   "source": [
    "state_probabilities = endclasses.state_probabilities()\n",
    "state_probabilities"
   ]
  },
  {
   "attachments": {},
   "cell_type": "markdown",
   "metadata": {},
   "source": [
    "This result (while seemingly extreme due to the large ranges explored) is consistent with the operational envelopes presented earlier."
   ]
  },
  {
   "attachments": {},
   "cell_type": "markdown",
   "metadata": {},
   "source": [
    "## Random input generation\n",
    "\n",
    "It may additionally be helpful to perform simulations over randomly generated inputs, when there are many parameters and it is difficult to easily quantify the stochastic process. This approach is called Monte Carlo sampling, and enables one to quantify probabilities given stochasticly-generated inputs. Random inputs are assigned using `.add_rand_params`"
   ]
  },
  {
   "cell_type": "code",
   "execution_count": 25,
   "metadata": {},
   "outputs": [],
   "source": [
    "nomapp_rand = NominalApproach()\n",
    "help(nomapp_rand.add_rand_params)"
   ]
  },
  {
   "attachments": {},
   "cell_type": "markdown",
   "metadata": {},
   "source": [
    "Below, the same probability model/scenarios used above will be generated using stochastic inputs (rather than a range)."
   ]
  },
  {
   "cell_type": "code",
   "execution_count": null,
   "metadata": {},
   "outputs": [],
   "source": [
    "import numpy as np"
   ]
  },
  {
   "cell_type": "code",
   "execution_count": null,
   "metadata": {},
   "outputs": [],
   "source": [
    "nomapp_rand.add_rand_params(RoverParam,'sine', 'sine', prob_weight=0.5, replicates=100, amp=(np.random.uniform, 0, 10), wavelength=(np.random.uniform,10,40))\n",
    "nomapp_rand.add_rand_params(RoverParam,'turn', 'turn', prob_weight=0.5, replicates=100, radius=(np.random.uniform,5,40), start=(np.random.uniform,0, 20))"
   ]
  },
  {
   "attachments": {},
   "cell_type": "markdown",
   "metadata": {},
   "source": [
    "We can go through the same process to verify that it tracks the range/pdf method."
   ]
  },
  {
   "cell_type": "code",
   "execution_count": null,
   "metadata": {},
   "outputs": [],
   "source": [
    "endclasses, mdlhists= prop.nominal_approach(mdl, nomapp_rand)"
   ]
  },
  {
   "cell_type": "code",
   "execution_count": null,
   "metadata": {},
   "outputs": [],
   "source": [
    "fig = an.plot.nominal_vals_2d(nomapp_rand, endclasses,'inputparams.amp', 'inputparams.wavelength', metric = 'at_finish')"
   ]
  },
  {
   "cell_type": "code",
   "execution_count": null,
   "metadata": {},
   "outputs": [],
   "source": [
    "fig = an.plot.nominal_vals_2d(nomapp_rand, endclasses, 'inputparams.radius', 'inputparams.start', metric = 'at_finish')"
   ]
  },
  {
   "cell_type": "code",
   "execution_count": null,
   "metadata": {},
   "outputs": [],
   "source": [
    "fig = an.plot.nominal_vals_1d(nomapp_rand, endclasses, 'inputparams.radius', metric = 'at_finish')"
   ]
  },
  {
   "attachments": {},
   "cell_type": "markdown",
   "metadata": {},
   "source": [
    "As shown, these results track the uniform approach, although the spread catches some non-nominal scenarios that were not caught using uniform sampling. The resulting probabilities are:"
   ]
  },
  {
   "cell_type": "code",
   "execution_count": null,
   "metadata": {},
   "outputs": [],
   "source": [
    "state_probabilities = an.process.state_probabilities(endclasses)\n",
    "state_probabilities"
   ]
  },
  {
   "attachments": {},
   "cell_type": "markdown",
   "metadata": {},
   "source": [
    "Which is similar to (but not exactly the same as) the uniform approach. The error of Monte Carlo sampling approaches can be reduced by increasing the number of points, but these points increase computational costs."
   ]
  },
  {
   "attachments": {},
   "cell_type": "markdown",
   "metadata": {},
   "source": [
    "## Nested Scenario Sampling\n",
    "\n",
    "Thus far, we have introduced two types of approaches: \n",
    "- SampleApproach, which is used to evaluate the system resilience to a set of faults\n",
    "- NominalApproach, which is used to evaluate system performance over a set of parameters\n",
    "\n",
    "These both have their limitations when used alone. Simulating a `SampleApproach` using `propagate.approach` solely evaluates evaluates fault-driven hazards in a single nominal set of parameters (which may not generalize) while simulating a `NominalApproach` using `propagate.nominal_approach` evaluates the systerm performance/resilience to external parameters (But not faults).\n",
    "\n",
    "To resolve these limitations, one can use a *nested* scenario sampling approach where a `SampleApproach` is simulated at each parameter level of a `NominalApproach`, giving the resilience of the system to faults over a set of operational parameters. This is called using the `propagate.nested_approach` method."
   ]
  },
  {
   "cell_type": "code",
   "execution_count": null,
   "metadata": {},
   "outputs": [],
   "source": [
    "help(prop.nested_approach)"
   ]
  },
  {
   "attachments": {},
   "cell_type": "markdown",
   "metadata": {},
   "source": [
    "Here we use the nominal approach generated earlier with a default sampling approach to quantify resilience."
   ]
  },
  {
   "cell_type": "code",
   "execution_count": null,
   "metadata": {},
   "outputs": [],
   "source": [
    "nested_endclasses, nested_mdlhists, nested_apps = prop.nested_approach(mdl, nomapp)"
   ]
  },
  {
   "attachments": {},
   "cell_type": "markdown",
   "metadata": {},
   "source": [
    " The resulting endclass/mdlhist dictionary is in turn nested within operational scenarios."
   ]
  },
  {
   "cell_type": "code",
   "execution_count": null,
   "metadata": {},
   "outputs": [],
   "source": [
    "nested_endclasses.keys()"
   ]
  },
  {
   "cell_type": "code",
   "execution_count": null,
   "metadata": {},
   "outputs": [],
   "source": [
    "nested_endclasses.sine_1.nominal"
   ]
  },
  {
   "attachments": {},
   "cell_type": "markdown",
   "metadata": {},
   "source": [
    "We can compare resilience to faults over the operational envelope using `an.tabulate.resilience_factor_comparison`, which generates at table similar to `an.tabulate.nominal_factor_comparison` except for a single metric with rows for each fault scenario."
   ]
  },
  {
   "cell_type": "code",
   "execution_count": null,
   "metadata": {},
   "outputs": [],
   "source": [
    "restab = an.tabulate.nested_factor_comparison(nomapp, nested_endclasses,['start'], 'cost', rangeid='turn', percent=False, difference=False)"
   ]
  },
  {
   "cell_type": "code",
   "execution_count": null,
   "metadata": {},
   "outputs": [],
   "source": [
    "restab"
   ]
  },
  {
   "attachments": {},
   "cell_type": "markdown",
   "metadata": {},
   "source": [
    "These factors can further be visualized using `an.plot.nested_factor_comparison`, which generates a set of bar graphs similar to `an.plot.nominal_factor_comparison`."
   ]
  },
  {
   "cell_type": "code",
   "execution_count": null,
   "metadata": {},
   "outputs": [],
   "source": [
    "help(an.plot.nested_factor_comparison)"
   ]
  },
  {
   "cell_type": "code",
   "execution_count": null,
   "metadata": {},
   "outputs": [],
   "source": [
    "fig = an.plot.nested_factor_comparison(restab, stat='cost', figsize = (6,4), xlabel='curve start point')"
   ]
  },
  {
   "attachments": {},
   "cell_type": "markdown",
   "metadata": {},
   "source": [
    "As shown, on average the costs are higher over fault scenarios than in their nominal counterparts. While this difference appears to be uniform for Avionics faults (`no_con`, which merely adds a fault at the times instantiated (since the rover is already in `drive` mode)), resulting in a uniform cost of 100), it changes for the Drive fault depending on the location of the curve. This is because in some cases this fault stops the rover at the finish line (when the line is short), and sometimes during its mission (when the line is long), leading to a cost from the incomplete mission.\n",
    "\n",
    "Thus, the assessed consequences of faults are somewhat prone to parameters leading to a different injection time. We might prefer, for example, for avionics faults to be injected when they would make a difference (i.e. at the start) and for drive faults to be injected multiple. This can be fixed by:\n",
    "- encoding phase information in with modes to ensure they are injected at the right intervals\n",
    "- using the `get_phases` option in `propagate.nested_approach` to get the phases and inject the faults in the corresponding times\n",
    "- passing appropriate Approach arguments to `propagate.nested_approach` (e.g., defaultsamp, etc)\n",
    "\n",
    "This has already been done in the Power faults, which we evaluate below. (note that they were not included above because they were listed to be injected in specific phases using the `key_phases_by` option in `assoc_modes()`)."
   ]
  },
  {
   "cell_type": "code",
   "execution_count": null,
   "metadata": {},
   "outputs": [],
   "source": [
    "nested_endclasses_power, nested_mdlhists_power, nested_apps_power = prop.nested_approach(mdl, nomapp, get_phases=True, faults='Power')"
   ]
  },
  {
   "cell_type": "code",
   "execution_count": null,
   "metadata": {},
   "outputs": [],
   "source": [
    "restab_power = an.tabulate.nested_factor_comparison(nomapp, nested_endclasses_power,['start'], 'cost', rangeid='turn', difference=True, percent=False, faults='modes')\n",
    "restab_power"
   ]
  },
  {
   "cell_type": "code",
   "execution_count": null,
   "metadata": {},
   "outputs": [],
   "source": [
    "fig = an.plot.nested_factor_comparison(restab_power, stat='cost', figsize = (6,4), xlabel='curve start point', stack=True, maxy=800)"
   ]
  },
  {
   "attachments": {},
   "cell_type": "markdown",
   "metadata": {},
   "source": [
    "As shown, all power faults result in the same cost, since they all result in both a fault and an incomplete mission, in part because none of them are injected after the rover completes its mission (which would happen if we were using the global phases as in the drive faults)."
   ]
  },
  {
   "cell_type": "code",
   "execution_count": null,
   "metadata": {},
   "outputs": [],
   "source": []
  }
 ],
 "metadata": {
  "kernelspec": {
   "display_name": "Python 3 (ipykernel)",
   "language": "python",
   "name": "python3"
  },
  "language_info": {
   "codemirror_mode": {
    "name": "ipython",
    "version": 3
   },
   "file_extension": ".py",
   "mimetype": "text/x-python",
   "name": "python",
   "nbconvert_exporter": "python",
   "pygments_lexer": "ipython3",
   "version": "3.11.4"
  }
 },
 "nbformat": 4,
 "nbformat_minor": 4
}
