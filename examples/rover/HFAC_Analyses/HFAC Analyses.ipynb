{
 "cells": [
  {
   "cell_type": "code",
   "execution_count": 1,
   "id": "f0e4a762",
   "metadata": {
    "execution": {
     "iopub.execute_input": "2023-06-09T23:38:15.051837Z",
     "iopub.status.busy": "2023-06-09T23:38:15.051837Z",
     "iopub.status.idle": "2023-06-09T23:38:16.227473Z",
     "shell.execute_reply": "2023-06-09T23:38:16.226388Z"
    }
   },
   "outputs": [],
   "source": [
    "from fmdtools.sim.approach import SampleApproach, NominalApproach\n",
    "import fmdtools.analyze as an\n",
    "import fmdtools.sim.propagate as prop\n",
    "import numpy as np\n",
    "import matplotlib.pyplot as plt\n",
    "plt.rcParams['pdf.fonttype'] = 42\n",
    "import multiprocessing as mp\n",
    "import scipy.stats as stats\n",
    "\n",
    "\n",
    "import multiprocessing as mp"
   ]
  },
  {
   "cell_type": "code",
   "execution_count": 2,
   "id": "9dad7daf",
   "metadata": {
    "execution": {
     "iopub.execute_input": "2023-06-09T23:38:16.230468Z",
     "iopub.status.busy": "2023-06-09T23:38:16.229470Z",
     "iopub.status.idle": "2023-06-09T23:38:16.702253Z",
     "shell.execute_reply": "2023-06-09T23:38:16.701256Z"
    }
   },
   "outputs": [
    {
     "ename": "ModuleNotFoundError",
     "evalue": "No module named 'rover_model_human'",
     "output_type": "error",
     "traceback": [
      "\u001b[1;31m---------------------------------------------------------------------------\u001b[0m",
      "\u001b[1;31mModuleNotFoundError\u001b[0m                       Traceback (most recent call last)",
      "\u001b[1;32m~\\AppData\\Local\\Temp\\1/ipykernel_17088/4227275924.py\u001b[0m in \u001b[0;36m<module>\u001b[1;34m\u001b[0m\n\u001b[1;32m----> 1\u001b[1;33m \u001b[1;32mfrom\u001b[0m \u001b[0mrover_model_human\u001b[0m \u001b[1;32mimport\u001b[0m \u001b[1;33m*\u001b[0m\u001b[1;33m\u001b[0m\u001b[1;33m\u001b[0m\u001b[0m\n\u001b[0m\u001b[0;32m      2\u001b[0m \u001b[1;32mfrom\u001b[0m \u001b[0mrover_model\u001b[0m \u001b[1;32mimport\u001b[0m \u001b[0mplot_trajectories\u001b[0m\u001b[1;33m,\u001b[0m \u001b[0mplot_map\u001b[0m\u001b[1;33m\u001b[0m\u001b[1;33m\u001b[0m\u001b[0m\n",
      "\u001b[1;31mModuleNotFoundError\u001b[0m: No module named 'rover_model_human'"
     ]
    }
   ],
   "source": [
    "from rover_model_human import *\n",
    "from rover_model import plot_trajectories, plot_map"
   ]
  },
  {
   "cell_type": "code",
   "execution_count": 3,
   "id": "c5a3a6ce",
   "metadata": {},
   "outputs": [],
   "source": [
    "mdl = Rover()\n",
    "fig, ax = an.graph.show(mdl, gtype='fxnflowgraph')"
   ]
  },
  {
   "cell_type": "code",
   "execution_count": 4,
   "id": "a61c4945",
   "metadata": {},
   "outputs": [],
   "source": [
    "an.graph.exec_order(mdl, gtype='fxnflowgraph')"
   ]
  },
  {
   "cell_type": "code",
   "execution_count": 5,
   "id": "313d5dbc",
   "metadata": {},
   "outputs": [],
   "source": [
    "act_pos={'Press': [0.942, 0.076], 'ComprehendOut': [0.302, 0.452], 'SeeOut': [0.028, 0.732], \n",
    "             'Project': [0.499, 0.46], 'PressOut': [0.958, -0.07], 'Reach': [0.797, 0.175], \n",
    "             'ProjectOut': [0.482, 0.302], 'ReachOut': [0.806, 0.041], 'Comprehend': [0.317, 0.595], \n",
    "             'Look': [0.038, 0.877], 'Decide': [0.667, 0.308], 'DecideOut': [0.652, 0.189], \n",
    "             'Signal': [0.721, 0.736], 'Percieve': [0.165, 0.738], 'PercieveOut': [0.102, 0.594], \n",
    "             'Video': [0.418, 0.889], 'Stimulus': [0.026, 1.034], 'LocalPSF': [0.717, 0.484], \n",
    "             'GlobalPSF': [0.521, 0.836]}"
   ]
  },
  {
   "cell_type": "code",
   "execution_count": 6,
   "id": "6b66b49d",
   "metadata": {},
   "outputs": [],
   "source": [
    "fig = mdl.fxns['Controller'].show_ASG(pos=act_pos, with_cond_labels=False)"
   ]
  },
  {
   "cell_type": "code",
   "execution_count": 7,
   "id": "273d3314",
   "metadata": {},
   "outputs": [],
   "source": [
    "fig.savefig(\"action_graph.pdf\", format=\"pdf\", bbox_inches = 'tight', pad_inches = 0)"
   ]
  },
  {
   "cell_type": "code",
   "execution_count": 8,
   "id": "db2931d9",
   "metadata": {},
   "outputs": [],
   "source": [
    "mdl = Rover(params=gen_params('sine', amp=2, wavelength=30))\n",
    "endresults, mdlhist = prop.nominal(mdl)\n",
    "plot_map(mdl, mdlhist)"
   ]
  },
  {
   "cell_type": "code",
   "execution_count": null,
   "id": "bd452d38",
   "metadata": {},
   "outputs": [],
   "source": [
    "app_human = SampleApproach(mdl, faults='Controller', phases={'start':[0,50]})"
   ]
  },
  {
   "cell_type": "code",
   "execution_count": null,
   "id": "ff6782c0",
   "metadata": {},
   "outputs": [],
   "source": [
    "app_human.sampletimes"
   ]
  },
  {
   "cell_type": "code",
   "execution_count": null,
   "id": "0f4e325c",
   "metadata": {},
   "outputs": [],
   "source": [
    "endclasses,mdlhists = prop.approach(mdl, app_human)"
   ]
  },
  {
   "cell_type": "code",
   "execution_count": null,
   "id": "6522e4ad",
   "metadata": {},
   "outputs": [],
   "source": [
    "comp_groups={'faulty': [i[0] for i in app_human.scenids.values()],'nominal': ['nominal']}"
   ]
  },
  {
   "cell_type": "code",
   "execution_count": null,
   "id": "59d9e9b9",
   "metadata": {},
   "outputs": [],
   "source": [
    "fig, axs = an.plot.mdlhists(mdlhists, comp_groups=comp_groups, fxnflowvals={'Ground':['vel', 'x','y'], 'Power':'power'}, time_slice=[14],\\\n",
    "                           title=\"Rover Response to Human Fault Modes at t=14\", indiv_kwargs={'faulty':{'alpha':0.5, 'color':'red'}},\n",
    "                           ylabels={('flows','Ground','x'):'meters',('flows','Ground','y'):'meters', ('flows', 'Ground', 'vel'):'m/s',\n",
    "                                   ('functions', 'Power', 'power'): 'Volts'}, xlabel='time (s)',\n",
    "                            titles={('flows','Ground','x'):'x position',('flows','Ground','y'):'y position', ('flows', 'Ground', 'vel'):'velocity',\n",
    "                                   ('functions', 'Power', 'power'): 'throttle'}, h_padding=0.3)"
   ]
  },
  {
   "cell_type": "code",
   "execution_count": null,
   "id": "93343e51",
   "metadata": {},
   "outputs": [],
   "source": [
    "fig.savefig(\"rover_fault_behavior.pdf\", format=\"pdf\", bbox_inches = 'tight', pad_inches = 0)"
   ]
  },
  {
   "cell_type": "code",
   "execution_count": null,
   "id": "2ee8f0b9",
   "metadata": {},
   "outputs": [],
   "source": [
    "def stress_param_func(stress_param=1.0, experience=1.0):\n",
    "    return {'stress_param': stress_param, 'experience': experience}"
   ]
  },
  {
   "cell_type": "code",
   "execution_count": null,
   "id": "36132d01",
   "metadata": {},
   "outputs": [],
   "source": [
    "nomapp_human_short = NominalApproach()\n",
    "#nomapp_human_short.add_seed_replicates('test', 25)\n",
    "nomapp_human_short.add_param_ranges(stress_param_func, 'test', experience=(1.0,5,1), replicates=10)"
   ]
  },
  {
   "cell_type": "code",
   "execution_count": null,
   "id": "e51e2b2a",
   "metadata": {},
   "outputs": [],
   "source": [
    "deg_mdl_hum_short = HumanDegradationShort(params={'experience' : 1, 'stress_param': 0,'stoch_fatigue':True})\n",
    "endclasses_human_short, mdlhists_human_short = prop.nominal_approach(deg_mdl_hum_short, nomapp_human_short, run_stochastic=True)"
   ]
  },
  {
   "cell_type": "code",
   "execution_count": null,
   "id": "f279d298",
   "metadata": {},
   "outputs": [],
   "source": [
    "fig, axs = an.plot.mdlhists(mdlhists_human_short, fxnflowvals={\"Control\":['fatigue','stress']}, aggregation='mean_bound', xlabel=\"time (hours)\",\n",
    "                           ylabels={('functions', 'Control', 'fatigue'):'level',('functions','Control','stress'):'level (%)'}, h_padding=0.3,\n",
    "                           titles={('functions', 'Control', 'fatigue'):'fatigue',('functions','Control','stress'):'stress'})"
   ]
  },
  {
   "cell_type": "code",
   "execution_count": null,
   "id": "8ebe9632",
   "metadata": {},
   "outputs": [],
   "source": [
    "fig.savefig(\"degraded_PSFs.pdf\", format=\"pdf\", bbox_inches = 'tight', pad_inches = 0)"
   ]
  },
  {
   "cell_type": "code",
   "execution_count": null,
   "id": "54a033d6",
   "metadata": {},
   "outputs": [],
   "source": [
    "nomapp_human_short.num_scenarios"
   ]
  },
  {
   "cell_type": "code",
   "execution_count": null,
   "id": "8593be0f",
   "metadata": {},
   "outputs": [],
   "source": [
    "behave_nomapp = NominalApproach()\n",
    "behave_nomapp.add_param_ranges(sample_human_params, 'behave_nomapp', mdlhists_human_short, t=(0,10, 1), scen = (0,nomapp_human_short.num_scenarios))"
   ]
  },
  {
   "cell_type": "code",
   "execution_count": null,
   "id": "82590cd8",
   "metadata": {},
   "outputs": [],
   "source": [
    "mdl=Rover(params=gen_params('sine', amp=2, wavelength=30))\n",
    "behave_endclasses_hum, behave_mdlhists_hum = prop.nominal_approach(mdl, behave_nomapp, run_stochastic=True)"
   ]
  },
  {
   "cell_type": "code",
   "execution_count": null,
   "id": "12bd843e",
   "metadata": {},
   "outputs": [],
   "source": [
    "fig = an.plot.nominal_vals_2d(behave_nomapp, behave_endclasses_hum, 't', 'scen', xlabel='single-day time (hours)', ylabel='scenario',  metric='at_finish', title=\"Nominal Mission Completed?\")"
   ]
  },
  {
   "cell_type": "code",
   "execution_count": null,
   "id": "f947db7d",
   "metadata": {},
   "outputs": [],
   "source": [
    "fig.savefig(\"nominal_PSF_completions.pdf\", format=\"pdf\", bbox_inches = 'tight', pad_inches = 0)"
   ]
  },
  {
   "cell_type": "code",
   "execution_count": null,
   "id": "07dd5ff7",
   "metadata": {},
   "outputs": [],
   "source": [
    "app_drive= SampleApproach(mdl, faults='Operations', phases={'start':[0,50]})"
   ]
  },
  {
   "cell_type": "code",
   "execution_count": null,
   "id": "49b7ef22",
   "metadata": {},
   "outputs": [],
   "source": [
    "endclasses,mdlhists = prop.approach(mdl, app_drive)"
   ]
  },
  {
   "cell_type": "code",
   "execution_count": null,
   "id": "e472a77d",
   "metadata": {},
   "outputs": [],
   "source": [
    "app_human_nest = NominalApproach()\n",
    "app_human_nest.add_param_ranges(sample_human_params, 'Communications', mdlhists_human_short, t=(4,9, 4), scen = (0,nomapp_human_short.num_scenarios))"
   ]
  },
  {
   "cell_type": "code",
   "execution_count": null,
   "id": "5ccec78e",
   "metadata": {},
   "outputs": [],
   "source": [
    "endclasses,mdlhists,apps = prop.nested_approach(mdl, app_human_nest, faults='Communications', phases={'start':[0,50]})"
   ]
  },
  {
   "cell_type": "code",
   "execution_count": null,
   "id": "f214206c",
   "metadata": {},
   "outputs": [],
   "source": [
    "res_comp_hum = an.tabulate.resilience_factor_comparison(app_human_nest, endclasses, ['t'], 'at_finish', faults='modes')\n",
    "res_comp_hum"
   ]
  },
  {
   "cell_type": "code",
   "execution_count": null,
   "id": "11429812",
   "metadata": {},
   "outputs": [],
   "source": [
    "fig = an.plot.resilience_factor_comparison(res_comp_hum, stack=True, maxy=1.1, xlabel='time (workday)', figsize=(10,4), title=\"\", stat=\"proportion complete\")  "
   ]
  },
  {
   "cell_type": "code",
   "execution_count": null,
   "id": "578f0b7d",
   "metadata": {},
   "outputs": [],
   "source": [
    "endclasses,mdlhists, apps = prop.nested_approach(mdl, app_human_nest, faults='Operations', phases={'start':[0,1]})"
   ]
  },
  {
   "cell_type": "code",
   "execution_count": null,
   "id": "019f44d8",
   "metadata": {},
   "outputs": [],
   "source": [
    "mdlhists['Communications_1']['Operations no_con, t=0']['functions']['Operations']"
   ]
  },
  {
   "cell_type": "code",
   "execution_count": null,
   "id": "8f01e112",
   "metadata": {},
   "outputs": [],
   "source": [
    "mdlhists['Communications_1']['Operations no_con, t=0']['flows']['Control']"
   ]
  },
  {
   "cell_type": "code",
   "execution_count": null,
   "id": "ac1d9bc4",
   "metadata": {},
   "outputs": [],
   "source": [
    "apps"
   ]
  },
  {
   "cell_type": "code",
   "execution_count": null,
   "id": "404fb2f9",
   "metadata": {},
   "outputs": [],
   "source": [
    "res_comp_hum = an.tabulate.resilience_factor_comparison(app_human_nest, endclasses, ['t'], 'at_finish', faults='modes')\n",
    "res_comp_hum"
   ]
  },
  {
   "cell_type": "code",
   "execution_count": null,
   "id": "97b58dbe",
   "metadata": {},
   "outputs": [],
   "source": [
    "fig = an.plot.resilience_factor_comparison(res_comp_hum, stack=True, maxy=1.1, xlabel='time (workday)', figsize=(10,4), title=\"\", stat=\"proportion complete\")  "
   ]
  },
  {
   "cell_type": "code",
   "execution_count": null,
   "id": "1e80bf26",
   "metadata": {},
   "outputs": [],
   "source": []
  }
 ],
 "metadata": {
  "kernelspec": {
   "display_name": "Python 3 (ipykernel)",
   "language": "python",
   "name": "python3"
  },
  "language_info": {
   "codemirror_mode": {
    "name": "ipython",
    "version": 3
   },
   "file_extension": ".py",
   "mimetype": "text/x-python",
   "name": "python",
   "nbconvert_exporter": "python",
   "pygments_lexer": "ipython3",
   "version": "3.9.7"
  }
 },
 "nbformat": 4,
 "nbformat_minor": 5
}
