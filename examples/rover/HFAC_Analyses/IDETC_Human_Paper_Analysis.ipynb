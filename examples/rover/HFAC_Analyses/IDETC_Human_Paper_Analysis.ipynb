{
 "cells": [
  {
   "cell_type": "markdown",
   "id": "8aab9003",
   "metadata": {},
   "source": [
    "# Human Failure Representation\n",
    "\n",
    "This paper covers the exploration and analysis of error producing conditions by a human operator in the rover model."
   ]
  },
  {
   "cell_type": "code",
   "execution_count": 1,
   "id": "777ac185",
   "metadata": {
    "execution": {
     "iopub.execute_input": "2023-06-15T17:23:15.371655Z",
     "iopub.status.busy": "2023-06-15T17:23:15.371655Z",
     "iopub.status.idle": "2023-06-15T17:23:15.587580Z",
     "shell.execute_reply": "2023-06-15T17:23:15.587580Z"
    }
   },
   "outputs": [
    {
     "ename": "ModuleNotFoundError",
     "evalue": "No module named 'rover_model_human'",
     "output_type": "error",
     "traceback": [
      "\u001b[1;31m---------------------------------------------------------------------------\u001b[0m",
      "\u001b[1;31mModuleNotFoundError\u001b[0m                       Traceback (most recent call last)",
      "\u001b[1;32m~\\AppData\\Local\\Temp\\1/ipykernel_17168/1671020471.py\u001b[0m in \u001b[0;36m<module>\u001b[1;34m\u001b[0m\n\u001b[1;32m----> 1\u001b[1;33m \u001b[1;32mfrom\u001b[0m \u001b[0mrover_model_human\u001b[0m \u001b[1;32mimport\u001b[0m \u001b[0mRover\u001b[0m\u001b[1;33m,\u001b[0m \u001b[0mgen_params\u001b[0m\u001b[1;33m\u001b[0m\u001b[1;33m\u001b[0m\u001b[0m\n\u001b[0m\u001b[0;32m      2\u001b[0m \u001b[1;32mfrom\u001b[0m \u001b[0mrover_model\u001b[0m \u001b[1;32mimport\u001b[0m \u001b[0mplot_map\u001b[0m\u001b[1;33m,\u001b[0m \u001b[0mplot_trajectories\u001b[0m\u001b[1;33m\u001b[0m\u001b[1;33m\u001b[0m\u001b[0m\n\u001b[0;32m      3\u001b[0m \u001b[1;32mimport\u001b[0m \u001b[0mfmdtools\u001b[0m\u001b[1;33m.\u001b[0m\u001b[0manalyze\u001b[0m \u001b[1;32mas\u001b[0m \u001b[0man\u001b[0m\u001b[1;33m\u001b[0m\u001b[1;33m\u001b[0m\u001b[0m\n\u001b[0;32m      4\u001b[0m \u001b[1;32mimport\u001b[0m \u001b[0mfmdtools\u001b[0m\u001b[1;33m.\u001b[0m\u001b[0msim\u001b[0m\u001b[1;33m.\u001b[0m\u001b[0mpropagate\u001b[0m \u001b[1;32mas\u001b[0m \u001b[0mprop\u001b[0m\u001b[1;33m\u001b[0m\u001b[1;33m\u001b[0m\u001b[0m\n\u001b[0;32m      5\u001b[0m \u001b[1;32mfrom\u001b[0m \u001b[0mfmdtools\u001b[0m\u001b[1;33m.\u001b[0m\u001b[0msim\u001b[0m\u001b[1;33m.\u001b[0m\u001b[0mapproach\u001b[0m \u001b[1;32mimport\u001b[0m \u001b[0mSampleApproach\u001b[0m\u001b[1;33m,\u001b[0m \u001b[0mNominalApproach\u001b[0m\u001b[1;33m\u001b[0m\u001b[1;33m\u001b[0m\u001b[0m\n",
      "\u001b[1;31mModuleNotFoundError\u001b[0m: No module named 'rover_model_human'"
     ]
    }
   ],
   "source": [
    "from rover_model_human import Rover, gen_params\n",
    "from rover_model import plot_map, plot_trajectories\n",
    "import fmdtools.analyze as an\n",
    "import fmdtools.sim.propagate as prop\n",
    "from fmdtools.sim.approach import SampleApproach, NominalApproach\n",
    "\n",
    "import numpy as np\n",
    "import matplotlib.pyplot as plt"
   ]
  },
  {
   "cell_type": "code",
   "execution_count": 2,
   "id": "9a5e7f75",
   "metadata": {},
   "outputs": [],
   "source": [
    "prop"
   ]
  },
  {
   "cell_type": "markdown",
   "id": "dc3658bd",
   "metadata": {},
   "source": [
    "Visualizing Rover Structure"
   ]
  },
  {
   "cell_type": "code",
   "execution_count": 3,
   "id": "6c2a8a2e",
   "metadata": {},
   "outputs": [],
   "source": [
    "mdl = Rover()"
   ]
  },
  {
   "cell_type": "code",
   "execution_count": 4,
   "id": "0d94feec",
   "metadata": {},
   "outputs": [],
   "source": [
    "#%matplotlib qt\n",
    "#an.graph.set_pos(mdl, gtype='fxnflowgraph')"
   ]
  },
  {
   "cell_type": "code",
   "execution_count": 5,
   "id": "e2f3bf38",
   "metadata": {},
   "outputs": [],
   "source": [
    "#%matplotlib inline"
   ]
  },
  {
   "cell_type": "code",
   "execution_count": 6,
   "id": "bc6a4bec",
   "metadata": {},
   "outputs": [],
   "source": [
    "mdl = Rover()\n",
    "fig, ax = an.graph.show(mdl, gtype='fxnflowgraph')"
   ]
  },
  {
   "cell_type": "code",
   "execution_count": 7,
   "id": "e34a2353",
   "metadata": {},
   "outputs": [],
   "source": [
    "fig.savefig(\"rover_structure.pdf\", format=\"pdf\", bbox_inches = 'tight', pad_inches = 0)"
   ]
  },
  {
   "cell_type": "markdown",
   "id": "e5d635e2",
   "metadata": {},
   "source": [
    "Visualizing Action Sequence Graph for the Controller"
   ]
  },
  {
   "cell_type": "code",
   "execution_count": 8,
   "id": "c788be51",
   "metadata": {},
   "outputs": [],
   "source": [
    "mdl.fxns['Controller'].action_graph"
   ]
  },
  {
   "cell_type": "code",
   "execution_count": 9,
   "id": "632b6362",
   "metadata": {},
   "outputs": [],
   "source": [
    "#%matplotlib qt\n",
    "#an.graph.set_pos(mdl.fxns['Controller'].flow_graph)"
   ]
  },
  {
   "cell_type": "code",
   "execution_count": 10,
   "id": "3ec73eb6",
   "metadata": {},
   "outputs": [],
   "source": [
    "#%matplotlib inline"
   ]
  },
  {
   "cell_type": "code",
   "execution_count": 11,
   "id": "8f9f8ffc",
   "metadata": {},
   "outputs": [],
   "source": [
    "act_pos={'Press': [0.942, 0.076], 'ComprehendOut': [0.302, 0.452], 'SeeOut': [0.028, 0.732], \n",
    "             'Project': [0.499, 0.46], 'PressOut': [0.958, -0.07], 'Reach': [0.797, 0.175], \n",
    "             'ProjectOut': [0.482, 0.302], 'ReachOut': [0.806, 0.041], 'Comprehend': [0.317, 0.595], \n",
    "             'Look': [0.038, 0.877], 'Decide': [0.667, 0.308], 'DecideOut': [0.652, 0.189], \n",
    "             'Signal': [0.721, 0.736], 'Percieve': [0.165, 0.738], 'PercieveOut': [0.102, 0.594], \n",
    "             'Video': [0.418, 0.889], 'Stimulus': [0.026, 1.034], 'LocalPSF': [0.717, 0.484], \n",
    "             'GlobalPSF': [0.521, 0.836]}"
   ]
  },
  {
   "cell_type": "code",
   "execution_count": 12,
   "id": "107d99c7",
   "metadata": {},
   "outputs": [],
   "source": [
    "%matplotlib qt\n",
    "an.graph.set_pos(mdl.fxns['Controller'].flow_graph, pos=act_pos)"
   ]
  },
  {
   "cell_type": "code",
   "execution_count": 13,
   "id": "5ed6fffb",
   "metadata": {},
   "outputs": [],
   "source": [
    "%matplotlib inline"
   ]
  },
  {
   "cell_type": "code",
   "execution_count": 14,
   "id": "1792f861",
   "metadata": {},
   "outputs": [],
   "source": [
    "fig = mdl.fxns['Controller'].show_ASG(pos=act_pos, with_cond_labels=False)"
   ]
  },
  {
   "cell_type": "code",
   "execution_count": 15,
   "id": "c3efbb4c",
   "metadata": {},
   "outputs": [],
   "source": [
    "fig.savefig(\"action_graph.pdf\", format=\"pdf\", bbox_inches = 'tight', pad_inches = 0)"
   ]
  },
  {
   "cell_type": "markdown",
   "id": "8486e268",
   "metadata": {},
   "source": [
    "## Testing behavioral simulation"
   ]
  },
  {
   "cell_type": "code",
   "execution_count": 16,
   "id": "cf990965",
   "metadata": {},
   "outputs": [],
   "source": [
    "mdl = Rover()"
   ]
  },
  {
   "cell_type": "markdown",
   "id": "52a2c98e",
   "metadata": {},
   "source": [
    "Execution order"
   ]
  },
  {
   "cell_type": "code",
   "execution_count": 17,
   "id": "698225b1",
   "metadata": {},
   "outputs": [],
   "source": [
    "order_fig = an.graph.exec_order(mdl, gtype='fxnflowgraph')"
   ]
  },
  {
   "cell_type": "markdown",
   "id": "f8da2d44",
   "metadata": {},
   "source": [
    "Performance on turn"
   ]
  },
  {
   "cell_type": "code",
   "execution_count": 18,
   "id": "de65df80",
   "metadata": {},
   "outputs": [],
   "source": [
    "mdl = Rover(params=gen_params('turn', start=5))\n",
    "endresults, mdlhist = prop.nominal(mdl)\n",
    "plot_map(mdl, mdlhist)"
   ]
  },
  {
   "cell_type": "markdown",
   "id": "09976b17",
   "metadata": {},
   "source": [
    "Performance on sine map"
   ]
  },
  {
   "cell_type": "code",
   "execution_count": null,
   "id": "e5888343",
   "metadata": {},
   "outputs": [],
   "source": [
    "mdl = Rover(params=gen_params('sine', amp=2, wavelength=30))\n",
    "endresults, mdlhist = prop.nominal(mdl)\n",
    "plot_map(mdl, mdlhist)"
   ]
  },
  {
   "cell_type": "code",
   "execution_count": null,
   "id": "f401c761",
   "metadata": {},
   "outputs": [],
   "source": [
    "phases, modephases = mdlhist.get_modephases()"
   ]
  },
  {
   "cell_type": "code",
   "execution_count": null,
   "id": "eb19e25b",
   "metadata": {},
   "outputs": [],
   "source": [
    "phase_fig = an.plot.phases(phases, modephases=modephases, title_padding=-0.05, v_padding=0.5)"
   ]
  },
  {
   "cell_type": "markdown",
   "id": "f5eb75a8",
   "metadata": {},
   "source": [
    "## Testing Faults"
   ]
  },
  {
   "cell_type": "code",
   "execution_count": null,
   "id": "94c7a69d",
   "metadata": {},
   "outputs": [],
   "source": [
    "app=SampleApproach(mdl, faults='Controller', phases={'drive':phases['Operations']['drive']})"
   ]
  },
  {
   "cell_type": "code",
   "execution_count": null,
   "id": "1a94ecc3",
   "metadata": {},
   "outputs": [],
   "source": [
    "app.rates"
   ]
  },
  {
   "cell_type": "code",
   "execution_count": null,
   "id": "128de0af",
   "metadata": {},
   "outputs": [],
   "source": [
    "app.times"
   ]
  },
  {
   "cell_type": "code",
   "execution_count": null,
   "id": "8ecbb557",
   "metadata": {},
   "outputs": [],
   "source": [
    "endclasses,mdlhists = prop.approach(mdl, app)"
   ]
  },
  {
   "cell_type": "code",
   "execution_count": null,
   "id": "d4bcce8f",
   "metadata": {},
   "outputs": [],
   "source": [
    "fig = plt.figure(figsize=(5.25,3.5))\n",
    "fig = plot_trajectories(mdlhists, app=app, faultlabel='Faulty Scenarios', title='', mode_trunc=len('Controller'), mode_trunc_end=4, show_labels=False, xlim=(-1,65), ylim=(-12,12))"
   ]
  },
  {
   "cell_type": "code",
   "execution_count": null,
   "id": "fe548bfa",
   "metadata": {},
   "outputs": [],
   "source": [
    "fig"
   ]
  },
  {
   "cell_type": "code",
   "execution_count": null,
   "id": "aa928570",
   "metadata": {},
   "outputs": [],
   "source": [
    "fig.savefig(\"rover_map.pdf\", format=\"pdf\", bbox_inches = 'tight', pad_inches = 0)"
   ]
  },
  {
   "cell_type": "markdown",
   "id": "7a92e3de",
   "metadata": {},
   "source": [
    "Below shows the impact of each fault:"
   ]
  },
  {
   "cell_type": "code",
   "execution_count": null,
   "id": "64b7ac78",
   "metadata": {},
   "outputs": [],
   "source": [
    "new_fault_tab = an.tabulate.result_summary_fmea(endclasses, mdlhists)\n",
    "new_fault_tab = new_fault_tab.sort_values('end_dist', ascending=False)\n",
    "\n",
    "new_fault_tab "
   ]
  },
  {
   "cell_type": "code",
   "execution_count": null,
   "id": "28e1256d",
   "metadata": {},
   "outputs": [],
   "source": [
    "fault_tab = new_fault_tab[['degraded functions','degraded flows', 'classification', 'end_dist']]\n",
    "fault_tab"
   ]
  },
  {
   "cell_type": "code",
   "execution_count": null,
   "id": "ba01e0cb",
   "metadata": {},
   "outputs": [],
   "source": [
    "fault_tab"
   ]
  },
  {
   "cell_type": "code",
   "execution_count": null,
   "id": "63116abe",
   "metadata": {},
   "outputs": [],
   "source": [
    "fault_tab = fault_tab[:15]"
   ]
  },
  {
   "cell_type": "code",
   "execution_count": null,
   "id": "b702de57",
   "metadata": {},
   "outputs": [],
   "source": [
    "print(fault_tab.to_latex())"
   ]
  },
  {
   "cell_type": "markdown",
   "id": "29471eb7",
   "metadata": {},
   "source": [
    "As shown, most modes now have an effect."
   ]
  },
  {
   "cell_type": "markdown",
   "id": "7c807c54",
   "metadata": {},
   "source": [
    "## Examining Performance Shaping Factors"
   ]
  },
  {
   "cell_type": "code",
   "execution_count": null,
   "id": "bf503fe9",
   "metadata": {},
   "outputs": [],
   "source": [
    "nomapp = NominalApproach()\n",
    "nomapp.add_param_ranges(gen_params,'PSFs', 'sine', fatigue=(0,11,1),attention=(0,11,1), amp=4)"
   ]
  },
  {
   "cell_type": "code",
   "execution_count": null,
   "id": "b39adb84",
   "metadata": {},
   "outputs": [],
   "source": [
    "endresults, mdlhists = prop.nominal_approach(mdl, nomapp)"
   ]
  },
  {
   "cell_type": "code",
   "execution_count": null,
   "id": "516023fd",
   "metadata": {},
   "outputs": [],
   "source": [
    "\n",
    "fig = an.plot.nominal_vals_2d(nomapp, endresults, 'fatigue', 'attention', title=\"\", legendloc=\"upper left\", figsize=(3.5,3.5))"
   ]
  },
  {
   "cell_type": "code",
   "execution_count": null,
   "id": "8669e1ed",
   "metadata": {},
   "outputs": [],
   "source": [
    "fig.savefig(\"nominal_psfs.pdf\", format=\"pdf\", bbox_inches = 'tight', pad_inches = 0)"
   ]
  },
  {
   "cell_type": "code",
   "execution_count": null,
   "id": "eb3c84b5",
   "metadata": {},
   "outputs": [],
   "source": [
    "mdl = Rover(params=gen_params('sine', amp=2, fatigue=0, wavelength=30))\n",
    "endresults, mdlhist = prop.one_fault(mdl, 'Operations', 'no_con', time=15)"
   ]
  },
  {
   "cell_type": "code",
   "execution_count": null,
   "id": "b5251415",
   "metadata": {},
   "outputs": [],
   "source": [
    "endresults['faults']"
   ]
  },
  {
   "cell_type": "code",
   "execution_count": null,
   "id": "1168cbd8",
   "metadata": {},
   "outputs": [],
   "source": [
    "traj_fig = plot_trajectories(mdlhist, faultalpha=0.9)"
   ]
  },
  {
   "cell_type": "code",
   "execution_count": null,
   "id": "af6f2ea8",
   "metadata": {},
   "outputs": [],
   "source": [
    "fig = an.plot.mdlhistvals(mdlhist, time=15, fxnflowvals={'GlobalPSF':['fatigue','attention'], 'Ground':['ang', 'vel']}, legend=False)"
   ]
  },
  {
   "cell_type": "code",
   "execution_count": null,
   "id": "52d6f10b",
   "metadata": {},
   "outputs": [],
   "source": [
    "mdlhist['nominal'].keys()"
   ]
  },
  {
   "cell_type": "code",
   "execution_count": null,
   "id": "3f1f381e",
   "metadata": {
    "scrolled": true
   },
   "outputs": [],
   "source": [
    "faulthists = {}\n",
    "faulttimes = [j for j in range(0,30,5)]\n",
    "for j in faulttimes:\n",
    "    for i in range(10):\n",
    "        np.random.seed()\n",
    "        mdl = Rover(params=gen_params('turn', start=10, fatigue=0))\n",
    "        endresults, mdlhist = prop.one_fault(mdl, 'Operations', 'no_con', time=j)\n",
    "        faulthists[str(i+j)] = mdlhist['faulty']"
   ]
  },
  {
   "cell_type": "code",
   "execution_count": null,
   "id": "30d49f7e",
   "metadata": {},
   "outputs": [],
   "source": [
    "fig = plt.figure(figsize=(4.5,3))\n",
    "fig = plot_trajectories(faulthists,mdlhist['nominal'], faultalpha=0.5, show_labels=False, xlim=(-1,45), ylim=(-5,22))\n",
    "for t in faulttimes:\n",
    "    plt.annotate(\"t=\"+str(t), (mdlhist['nominal']['flows']['Ground']['x'][t], mdlhist['nominal']['flows']['Ground']['y'][t]))\n",
    "plt.scatter(mdlhist['nominal']['flows']['Ground']['x'][faulttimes], mdlhist['nominal']['flows']['Ground']['y'][faulttimes], marker='X', color='black', label='fault time')\n",
    "handles, labels = plt.gca().get_legend_handles_labels()\n",
    "by_label = dict(zip(labels, handles))\n",
    "plt.legend(by_label.values(), by_label.keys())"
   ]
  },
  {
   "cell_type": "code",
   "execution_count": null,
   "id": "a30f438b",
   "metadata": {},
   "outputs": [],
   "source": [
    "fig.savefig(\"nocon_trajectories.pdf\", format=\"pdf\", bbox_inches = 'tight', pad_inches = 0)"
   ]
  },
  {
   "cell_type": "code",
   "execution_count": null,
   "id": "6239148e",
   "metadata": {},
   "outputs": [],
   "source": [
    "plothists = faulthists\n",
    "plothists['nominal'] = mdlhist['nominal']"
   ]
  },
  {
   "cell_type": "code",
   "execution_count": null,
   "id": "33946521",
   "metadata": {},
   "outputs": [],
   "source": [
    "fig, ax = an.plot.mdlhists(plothists, comp_groups={'no_con':faulthists.keys(),'nominal':['nominal']}, fxnflowvals={'GlobalPSF':['attention']}, cols=1, time_slice=faulttimes, indiv_kwargs={'no_con':{'alpha':0.5, 'color':'red'}, 'nominal':{'color':'blue'}}, time_slice_label='fault time', figsize=(4.5,3),  ylabels={('GlobalPSF','attention'):'attention parameter'})"
   ]
  },
  {
   "cell_type": "code",
   "execution_count": null,
   "id": "48a3e082",
   "metadata": {},
   "outputs": [],
   "source": [
    "fig.savefig(\"nocon_attention.pdf\", format=\"pdf\", bbox_inches = 'tight', pad_inches = 0)"
   ]
  },
  {
   "cell_type": "code",
   "execution_count": null,
   "id": "ed36fbdc",
   "metadata": {},
   "outputs": [],
   "source": [
    "faulthists = {}\n",
    "faulttimes = [j for j in range(0,30,5)]\n",
    "for j in faulttimes:\n",
    "    for i in range(10):\n",
    "        np.random.seed()\n",
    "        mdl = Rover(params=gen_params('sine', amp=2, fatigue=0, wavelength=30))\n",
    "        endresults, mdlhist = prop.one_fault(mdl, 'Operations', 'no_con', time=j)\n",
    "        faulthists[str(i+j)] = mdlhist['faulty']"
   ]
  },
  {
   "cell_type": "code",
   "execution_count": null,
   "id": "90a2fe5f",
   "metadata": {},
   "outputs": [],
   "source": [
    "fig = plt.figure(figsize=(4.5,3))\n",
    "fig = plot_trajectories(faulthists,mdlhist['nominal'], faultalpha=0.3, show_labels=False, xlim=(-1,32), ylim=(-8,8))\n",
    "for t in faulttimes:\n",
    "    plt.annotate(\"t=\"+str(t), (mdlhist['nominal']['flows']['Ground']['x'][t], mdlhist['nominal']['flows']['Ground']['y'][t]))\n",
    "plt.scatter(mdlhist['nominal']['flows']['Ground']['x'][faulttimes], mdlhist['nominal']['flows']['Ground']['y'][faulttimes], marker='X', color='black', label='fault time')\n",
    "handles, labels = plt.gca().get_legend_handles_labels()\n",
    "by_label = dict(zip(labels, handles))\n",
    "plt.legend(by_label.values(), by_label.keys())"
   ]
  },
  {
   "cell_type": "code",
   "execution_count": null,
   "id": "8a94c106",
   "metadata": {},
   "outputs": [],
   "source": [
    "fig.savefig(\"nocon_trajectories_sine.pdf\", format=\"pdf\", bbox_inches = 'tight', pad_inches = 0)"
   ]
  },
  {
   "cell_type": "code",
   "execution_count": null,
   "id": "827c5901",
   "metadata": {},
   "outputs": [],
   "source": [
    "plothists = faulthists\n",
    "plothists['nominal'] = mdlhist['nominal']"
   ]
  },
  {
   "cell_type": "code",
   "execution_count": null,
   "id": "0791ca32",
   "metadata": {},
   "outputs": [],
   "source": [
    "fig, ax = an.plot.mdlhists(plothists, comp_groups={'no_con':faulthists.keys(),'nominal':['nominal']}, fxnflowvals={'GlobalPSF':['attention']}, cols=1, time_slice=faulttimes, indiv_kwargs={'no_con':{'alpha':0.5, 'color':'red'}, 'nominal':{'color':'blue'}}, time_slice_label='fault time', figsize=(4.5,3), ylabels={('GlobalPSF','attention'):'attention parameter'})"
   ]
  },
  {
   "cell_type": "code",
   "execution_count": null,
   "id": "d0510df1",
   "metadata": {},
   "outputs": [],
   "source": [
    "fig.savefig(\"nocon_attention_sine.pdf\", format=\"pdf\", bbox_inches = 'tight', pad_inches = 0)"
   ]
  },
  {
   "cell_type": "code",
   "execution_count": null,
   "id": "748f309f",
   "metadata": {},
   "outputs": [],
   "source": []
  }
 ],
 "metadata": {
  "kernelspec": {
   "display_name": "Python 3 (ipykernel)",
   "language": "python",
   "name": "python3"
  },
  "language_info": {
   "codemirror_mode": {
    "name": "ipython",
    "version": 3
   },
   "file_extension": ".py",
   "mimetype": "text/x-python",
   "name": "python",
   "nbconvert_exporter": "python",
   "pygments_lexer": "ipython3",
   "version": "3.9.7"
  }
 },
 "nbformat": 4,
 "nbformat_minor": 5
}
