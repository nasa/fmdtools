{
 "cells": [
  {
   "cell_type": "markdown",
   "metadata": {},
   "source": [
    "# Defining Fault Sampling Approaches in fmdtools\n",
    "\n",
    "Fault Sampling is used to evaluate the overall resilience of a system to a set of faults and the corresponding risks associated with these faults. There is no single best way to define the set of scenarios to evaluate resilience with, because a given resilience analysis may need more or less detail, support more or less computational time, or be interested in specific scenario types of interest.\n",
    "\n",
    "Thus, there are a number of use-cases supported by fmdtools for different sampling models. This document will demonstrate and showcase a few of them."
   ]
  },
  {
   "cell_type": "code",
   "execution_count": 1,
   "metadata": {
    "execution": {
     "iopub.execute_input": "2024-01-08T23:01:22.236476Z",
     "iopub.status.busy": "2024-01-08T23:01:22.236476Z",
     "iopub.status.idle": "2024-01-08T23:01:23.516348Z",
     "shell.execute_reply": "2024-01-08T23:01:23.515842Z"
    }
   },
   "outputs": [],
   "source": [
    "from fmdtools.sim.sample import SampleApproach, FaultSample, FaultDomain\n",
    "from fmdtools.analyze.tabulate import FMEA, Comparison\n",
    "import fmdtools.sim.propagate as prop\n",
    "import numpy as np"
   ]
  },
  {
   "cell_type": "markdown",
   "metadata": {},
   "source": [
    "### Basics\n",
    "\n",
    "Fault sampling involves:\n",
    "- Defining faults and fault models for each function/component/flows of the model is done using the 'Mode' Class\n",
    "- Defining a fault sampling approach, using the: \n",
    "    - `SampleApproach` class, or\n",
    "    -  `FaultDomain` and `FaultSample` calsses directly\n",
    "- Propagating faults through the model (using the `propagate.faultsample` method)\n",
    "Before proceeding, it can be helpful to look through their respective documentation."
   ]
  },
  {
   "cell_type": "markdown",
   "metadata": {},
   "source": [
    "### Model Setup\n",
    "\n",
    "Consider the rover model in `rover_model`"
   ]
  },
  {
   "cell_type": "code",
   "execution_count": 2,
   "metadata": {
    "execution": {
     "iopub.execute_input": "2024-01-08T23:01:23.517208Z",
     "iopub.status.busy": "2024-01-08T23:01:23.517208Z",
     "iopub.status.idle": "2024-01-08T23:01:23.535790Z",
     "shell.execute_reply": "2024-01-08T23:01:23.535790Z"
    }
   },
   "outputs": [],
   "source": [
    "import inspect\n",
    "from rover_model import Power, PowerMode"
   ]
  },
  {
   "cell_type": "markdown",
   "metadata": {},
   "source": [
    "This rover has a Power function:"
   ]
  },
  {
   "cell_type": "code",
   "execution_count": 3,
   "metadata": {
    "execution": {
     "iopub.execute_input": "2024-01-08T23:01:23.537588Z",
     "iopub.status.busy": "2024-01-08T23:01:23.537588Z",
     "iopub.status.idle": "2024-01-08T23:01:23.575659Z",
     "shell.execute_reply": "2024-01-08T23:01:23.575659Z"
    }
   },
   "outputs": [
    {
     "name": "stdout",
     "output_type": "stream",
     "text": [
      "class Power(Function):\n",
      "    \"\"\"Rover power supply.\"\"\"\n",
      "\n",
      "    __slots__ = (\"ee_15\", \"ee_5\", \"ee_12\", \"switch\")\n",
      "    container_s = PowerState\n",
      "    container_m = PowerMode\n",
      "    flow_ee_15 = EE\n",
      "    flow_ee_5 = EE\n",
      "    flow_ee_12 = EE\n",
      "    flow_switch = Switch\n",
      "\n",
      "    def static_behavior(self, time):\n",
      "        \"\"\"Determine power use based on mode.\"\"\"\n",
      "        if self.m.in_mode(\"off\"):\n",
      "            self.off_power()\n",
      "        elif self.m.in_mode(\"supply\"):\n",
      "            self.supply_power()\n",
      "        elif self.m.in_mode(\"short\"):\n",
      "            self.short_power()\n",
      "        elif self.m.in_mode(\"no_charge\"):\n",
      "            self.no_charge_power()\n",
      "\n",
      "        if self.m.in_mode(\"charge\"):\n",
      "            self.charge_power_usage()\n",
      "        else:\n",
      "            self.power_usage()\n",
      "            if self.m.in_mode(\"short\"):\n",
      "                self.short_power_usage()\n",
      "\n",
      "    def dynamic_behavior(self, time):\n",
      "        \"\"\"Charge increment over time.\"\"\"\n",
      "        self.s.inc(charge=-self.s.power / 100)\n",
      "        self.s.limit(charge=(0, 100))\n",
      "\n",
      "    def short_power(self):\n",
      "        \"\"\"Power in case of a short has normal voltage.\"\"\"\n",
      "        self.ee_5.s.v = 5\n",
      "        self.ee_12.s.v = 12\n",
      "        self.ee_15.s.v = 15\n",
      "\n",
      "    def no_charge_power(self):\n",
      "        \"\"\"Battery is out of charge.\"\"\"\n",
      "        self.ee_5.s.v = 0\n",
      "        self.ee_12.s.v = 0\n",
      "        self.ee_15.s.v = 0\n",
      "\n",
      "    def off_power(self):\n",
      "        \"\"\"Power supply is shut off.\"\"\"\n",
      "        self.ee_5.s.put(v=0, a=0)\n",
      "        self.ee_12.s.put(v=0, a=0)\n",
      "        self.ee_15.s.put(v=0, a=0)\n",
      "        if self.switch.s.power == 1:\n",
      "            self.m.set_mode(\"supply\")\n",
      "\n",
      "    def supply_power(self):\n",
      "        \"\"\"Power supply is in supply mode.\"\"\"\n",
      "        if self.s.charge > 0:\n",
      "            self.ee_5.s.v = 5\n",
      "            self.ee_12.s.v = 12\n",
      "            self.ee_15.s.v = 15\n",
      "        else:\n",
      "            self.m.set_mode(\"no_charge\")\n",
      "        if self.switch.s.power == 0:\n",
      "            self.m.set_mode(\"off\")\n",
      "\n",
      "    def power_usage(self):\n",
      "        \"\"\"Calculate the power usage in general.\"\"\"\n",
      "        self.s.power = (1.0 + self.ee_12.s.mul(\"v\", \"a\") +\n",
      "                        self.ee_5.s.mul(\"v\", \"a\") + self.ee_15.s.mul(\"v\", \"a\"))\n",
      "\n",
      "    def charge_power_usage(self):\n",
      "        \"\"\"Calculate the power usage when the battery charges.\"\"\"\n",
      "        self.s.power = -1\n",
      "        if self.s.charge == 100:\n",
      "            self.m.set_mode(\"off\")\n",
      "\n",
      "    def short_power_usage(self):\n",
      "        \"\"\"Calculate power usage when there is a short (calculated as double).\"\"\"\n",
      "        self.s.power = self.s.power * 2\n",
      "        if self.s.charge == 0:\n",
      "            self.m.set_mode(\"no_charge\")\n",
      "        if self.switch.s.power == 0:\n",
      "            self.m.set_mode(\"off\")\n",
      "\n"
     ]
    }
   ],
   "source": [
    "print(inspect.getsource(Power))"
   ]
  },
  {
   "cell_type": "markdown",
   "metadata": {},
   "source": [
    "Which contains the mode `PowerMode`:"
   ]
  },
  {
   "cell_type": "code",
   "execution_count": 4,
   "metadata": {
    "execution": {
     "iopub.execute_input": "2024-01-08T23:01:23.577527Z",
     "iopub.status.busy": "2024-01-08T23:01:23.577527Z",
     "iopub.status.idle": "2024-01-08T23:01:23.594519Z",
     "shell.execute_reply": "2024-01-08T23:01:23.594519Z"
    }
   },
   "outputs": [
    {
     "name": "stdout",
     "output_type": "stream",
     "text": [
      "class PowerMode(Mode):\n",
      "    \"\"\"\n",
      "    Possible modes for Power function.\n",
      "\n",
      "    Modes\n",
      "    -------\n",
      "    no_charge : Fault\n",
      "        Battery is out of charge.\n",
      "    short: Fault\n",
      "        There is a short.\n",
      "    supply: Mode\n",
      "        supply power\n",
      "    charge: Mode\n",
      "        charge battery\n",
      "    standby: Mode\n",
      "        power supply is in stand by\n",
      "    off: Mode\n",
      "        power supply is off\n",
      "    \"\"\"\n",
      "\n",
      "    fm_args = {\"no_charge\": (1e-5, 100, {\"off\": 1.0}),\n",
      "               \"short\": (1e-5, 100, {\"supply\": 1.0})}\n",
      "    opermodes = (\"supply\", \"charge\", \"off\")\n",
      "    mode: str = \"off\"\n",
      "    exclusive = True\n",
      "\n"
     ]
    }
   ],
   "source": [
    "print(inspect.getsource(PowerMode))"
   ]
  },
  {
   "cell_type": "markdown",
   "metadata": {},
   "source": [
    "The class variable `fm_args` specifies that there are two possible modes to inject, \"no_charge\", and \"shortn\", with no more information given for each mode. More information has been added in the tuples of the dictionary, including:\n",
    "- rate\n",
    "- repair cost\n",
    "- phase dictionary\n",
    "The phase dictionary is important because it specifies that this mode is to occur in a given phase. In this case, `no_charge` is supposed to only occur during the `standby` phase while `short` is only supposed to occur during the `supply` phase. In this `Mode`, these phases correspond to the operational modes (`opermodes`), but they may correspond to other operational modes also.\n",
    "\n",
    "All of these fields are optional, but they do help us develop a more informed statistical sample of the fault modes."
   ]
  },
  {
   "cell_type": "markdown",
   "metadata": {},
   "source": [
    "### Setting up a FaultSample\n",
    "\n",
    "Sampling using `FaultSample` first requires creating a `FaultDomain` to sample from. These faultdomains can be created from both models and individual functions:"
   ]
  },
  {
   "cell_type": "code",
   "execution_count": 5,
   "metadata": {
    "execution": {
     "iopub.execute_input": "2024-01-08T23:01:23.597990Z",
     "iopub.status.busy": "2024-01-08T23:01:23.596531Z",
     "iopub.status.idle": "2024-01-08T23:01:23.610441Z",
     "shell.execute_reply": "2024-01-08T23:01:23.610389Z"
    }
   },
   "outputs": [
    {
     "data": {
      "text/plain": [
       "FaultDomain with faults:\n",
       " -('power', 'no_charge')\n",
       " -('power', 'short')"
      ]
     },
     "execution_count": 5,
     "metadata": {},
     "output_type": "execute_result"
    }
   ],
   "source": [
    "fd_power = FaultDomain(Power())\n",
    "fd_power.add_all()\n",
    "fd_power"
   ]
  },
  {
   "cell_type": "code",
   "execution_count": 6,
   "metadata": {
    "execution": {
     "iopub.execute_input": "2024-01-08T23:01:23.611330Z",
     "iopub.status.busy": "2024-01-08T23:01:23.611330Z",
     "iopub.status.idle": "2024-01-08T23:01:23.644564Z",
     "shell.execute_reply": "2024-01-08T23:01:23.644151Z"
    }
   },
   "outputs": [
    {
     "data": {
      "text/plain": [
       "FaultDomain with faults:\n",
       " -('power', 'no_charge')\n",
       " -('power', 'short')\n",
       " -('perception', 'bad_feed')\n",
       " -('plan_path', 'no_con')\n",
       " -('plan_path', 'crash')\n",
       " -('drive', 'hmode_0')\n",
       " -('drive', 'hmode_1')\n",
       " -('drive', 'hmode_2')\n",
       " -('drive', 'hmode_3')\n",
       " -('drive', 'hmode_4')\n",
       " -...more"
      ]
     },
     "execution_count": 6,
     "metadata": {},
     "output_type": "execute_result"
    }
   ],
   "source": [
    "from rover_model import Rover\n",
    "fd_rvr = FaultDomain(Rover())\n",
    "fd_rvr.add_all()\n",
    "fd_rvr"
   ]
  },
  {
   "cell_type": "markdown",
   "metadata": {},
   "source": [
    "Note that there are several methods in FaultDomain which let us specify the list of faults we want to sample from, e.g.:"
   ]
  },
  {
   "cell_type": "code",
   "execution_count": 7,
   "metadata": {
    "execution": {
     "iopub.execute_input": "2024-01-08T23:01:23.647294Z",
     "iopub.status.busy": "2024-01-08T23:01:23.647294Z",
     "iopub.status.idle": "2024-01-08T23:01:23.661734Z",
     "shell.execute_reply": "2024-01-08T23:01:23.661734Z"
    }
   },
   "outputs": [
    {
     "data": {
      "text/plain": [
       "FaultDomain with faults:\n",
       " -('power', 'short')"
      ]
     },
     "execution_count": 7,
     "metadata": {},
     "output_type": "execute_result"
    }
   ],
   "source": [
    "fd_short = FaultDomain(Rover())\n",
    "fd_short.add_all_modes(\"short\")\n",
    "fd_short"
   ]
  },
  {
   "cell_type": "markdown",
   "metadata": {},
   "source": [
    "or:"
   ]
  },
  {
   "cell_type": "code",
   "execution_count": 8,
   "metadata": {
    "execution": {
     "iopub.execute_input": "2024-01-08T23:01:23.661734Z",
     "iopub.status.busy": "2024-01-08T23:01:23.661734Z",
     "iopub.status.idle": "2024-01-08T23:01:23.694800Z",
     "shell.execute_reply": "2024-01-08T23:01:23.694282Z"
    }
   },
   "outputs": [
    {
     "data": {
      "text/plain": [
       "FaultDomain with faults:\n",
       " -('power', 'no_charge')\n",
       " -('power', 'short')"
      ]
     },
     "execution_count": 8,
     "metadata": {},
     "output_type": "execute_result"
    }
   ],
   "source": [
    "fd_pwr = FaultDomain(Rover())\n",
    "fd_pwr.add_all_fxn_modes(\"power\")\n",
    "fd_pwr"
   ]
  },
  {
   "cell_type": "markdown",
   "metadata": {},
   "source": [
    "We can then sample this domain using a `FaultSample`:"
   ]
  },
  {
   "cell_type": "code",
   "execution_count": 9,
   "metadata": {
    "execution": {
     "iopub.execute_input": "2024-01-08T23:01:23.697413Z",
     "iopub.status.busy": "2024-01-08T23:01:23.697413Z",
     "iopub.status.idle": "2024-01-08T23:01:23.710608Z",
     "shell.execute_reply": "2024-01-08T23:01:23.710608Z"
    }
   },
   "outputs": [],
   "source": [
    "fs_pwr = FaultSample(fd_pwr, def_mdl_phasemap=False)"
   ]
  },
  {
   "cell_type": "markdown",
   "metadata": {},
   "source": [
    "Note that FaultSamples have two main variables: faultdomain and phasemap. A PhaseMap is essentially a dictionary of phases to sample from.\n",
    "\n",
    "In the above case, we don't want to use phase information to form the sample, so we don't provide any and we set `def_mdl_phasemap=False`, since this would get phase information from the model."
   ]
  },
  {
   "cell_type": "markdown",
   "metadata": {},
   "source": [
    "To add scenarios to the `FaultSample`, we can then use one of the `add` methods:"
   ]
  },
  {
   "cell_type": "code",
   "execution_count": 10,
   "metadata": {
    "execution": {
     "iopub.execute_input": "2024-01-08T23:01:23.713601Z",
     "iopub.status.busy": "2024-01-08T23:01:23.712610Z",
     "iopub.status.idle": "2024-01-08T23:01:23.725685Z",
     "shell.execute_reply": "2024-01-08T23:01:23.725685Z"
    }
   },
   "outputs": [
    {
     "data": {
      "text/plain": [
       "FaultSample of scenarios: \n",
       " - power_no_charge_t2\n",
       " - power_no_charge_t5\n",
       " - power_no_charge_t10\n",
       " - power_short_t2\n",
       " - power_short_t5\n",
       " - power_short_t10"
      ]
     },
     "execution_count": 10,
     "metadata": {},
     "output_type": "execute_result"
    }
   ],
   "source": [
    "fs_pwr.add_fault_times([2,5,10])\n",
    "fs_pwr"
   ]
  },
  {
   "cell_type": "markdown",
   "metadata": {},
   "source": [
    "As shown, this adds the list of faults in the faultdomain over the given times.\n",
    "\n",
    "Note the underlying rate information in these scenarios is all the same:"
   ]
  },
  {
   "cell_type": "code",
   "execution_count": 11,
   "metadata": {
    "execution": {
     "iopub.execute_input": "2024-01-08T23:01:23.727835Z",
     "iopub.status.busy": "2024-01-08T23:01:23.727835Z",
     "iopub.status.idle": "2024-01-08T23:01:23.740555Z",
     "shell.execute_reply": "2024-01-08T23:01:23.740555Z"
    }
   },
   "outputs": [
    {
     "data": {
      "text/plain": [
       "[SingleFaultScenario(sequence={2.0: Injection(faults={'power': ['no_charge']}, disturbances={})}, times=(2,), function='power', fault='no_charge', rate=1e-05, name='power_no_charge_t2', time=2, phase=''),\n",
       " SingleFaultScenario(sequence={5.0: Injection(faults={'power': ['no_charge']}, disturbances={})}, times=(5,), function='power', fault='no_charge', rate=1e-05, name='power_no_charge_t5', time=5, phase=''),\n",
       " SingleFaultScenario(sequence={10.0: Injection(faults={'power': ['no_charge']}, disturbances={})}, times=(10,), function='power', fault='no_charge', rate=1e-05, name='power_no_charge_t10', time=10, phase=''),\n",
       " SingleFaultScenario(sequence={2.0: Injection(faults={'power': ['short']}, disturbances={})}, times=(2,), function='power', fault='short', rate=1e-05, name='power_short_t2', time=2, phase=''),\n",
       " SingleFaultScenario(sequence={5.0: Injection(faults={'power': ['short']}, disturbances={})}, times=(5,), function='power', fault='short', rate=1e-05, name='power_short_t5', time=5, phase=''),\n",
       " SingleFaultScenario(sequence={10.0: Injection(faults={'power': ['short']}, disturbances={})}, times=(10,), function='power', fault='short', rate=1e-05, name='power_short_t10', time=10, phase='')]"
      ]
     },
     "execution_count": 11,
     "metadata": {},
     "output_type": "execute_result"
    }
   ],
   "source": [
    "fs_pwr.scenarios()"
   ]
  },
  {
   "cell_type": "markdown",
   "metadata": {},
   "source": [
    "But we know better than this--some of the faults should have zero rate if they are going to occur in phases they don't apply to!"
   ]
  },
  {
   "cell_type": "markdown",
   "metadata": {},
   "source": [
    "If we want to sample the given phases for the sample, we can additionally pass a phasemap generated by first running the model in the nominal state:"
   ]
  },
  {
   "cell_type": "code",
   "execution_count": 12,
   "metadata": {
    "execution": {
     "iopub.execute_input": "2024-01-08T23:01:23.743546Z",
     "iopub.status.busy": "2024-01-08T23:01:23.742549Z",
     "iopub.status.idle": "2024-01-08T23:01:23.976457Z",
     "shell.execute_reply": "2024-01-08T23:01:23.975767Z"
    }
   },
   "outputs": [],
   "source": [
    "res, hist = prop.nominal(Rover())"
   ]
  },
  {
   "cell_type": "markdown",
   "metadata": {},
   "source": [
    "We can then get phase information from this history using the `fmdtools.analyze.phases.from_hist`:"
   ]
  },
  {
   "cell_type": "code",
   "execution_count": 13,
   "metadata": {
    "execution": {
     "iopub.execute_input": "2024-01-08T23:01:23.977052Z",
     "iopub.status.busy": "2024-01-08T23:01:23.977052Z",
     "iopub.status.idle": "2024-01-08T23:01:23.995566Z",
     "shell.execute_reply": "2024-01-08T23:01:23.995566Z"
    }
   },
   "outputs": [
    {
     "data": {
      "text/plain": [
       "{'power': PhaseMap({'off': [0.0, 0.0], 'supply': [1.0, 149.0]}, {'off': {'off'}, 'supply': {'supply'}}),\n",
       " 'perception': PhaseMap({'off': [0.0, 1.0], 'feed': [2.0, 149.0]}, {'off': {'off'}, 'feed': {'feed'}}),\n",
       " 'plan_path': PhaseMap({'standby': [0.0, 4.0], 'drive': [5.0, 148.0], 'standby1': [149.0, 149.0]}, {'standby': {'standby1', 'standby'}, 'drive': {'drive'}}),\n",
       " 'override': PhaseMap({'off': [0.0, 1.0], 'standby': [2.0, 149.0]}, {'off': {'off'}, 'standby': {'standby'}})}"
      ]
     },
     "execution_count": 13,
     "metadata": {},
     "output_type": "execute_result"
    }
   ],
   "source": [
    "from fmdtools.analyze.phases import from_hist, phaseplot\n",
    "phases = from_hist(hist)\n",
    "phases"
   ]
  },
  {
   "cell_type": "markdown",
   "metadata": {},
   "source": [
    "Which can be visualized using:"
   ]
  },
  {
   "cell_type": "code",
   "execution_count": 14,
   "metadata": {
    "execution": {
     "iopub.execute_input": "2024-01-08T23:01:23.998124Z",
     "iopub.status.busy": "2024-01-08T23:01:23.998124Z",
     "iopub.status.idle": "2024-01-08T23:01:25.810261Z",
     "shell.execute_reply": "2024-01-08T23:01:25.809645Z"
    }
   },
   "outputs": [
    {
     "data": {
      "image/png": "[encoded data removed]",
      "text/plain": [
       "<Figure size 400x800 with 4 Axes>"
      ]
     },
     "metadata": {},
     "output_type": "display_data"
    }
   ],
   "source": [
    "fig = phaseplot(phases)"
   ]
  },
  {
   "cell_type": "markdown",
   "metadata": {},
   "source": [
    "The `PhaseMap` for `Power` is here in `power`:"
   ]
  },
  {
   "cell_type": "code",
   "execution_count": 15,
   "metadata": {
    "execution": {
     "iopub.execute_input": "2024-01-08T23:01:25.812471Z",
     "iopub.status.busy": "2024-01-08T23:01:25.812471Z",
     "iopub.status.idle": "2024-01-08T23:01:25.827255Z",
     "shell.execute_reply": "2024-01-08T23:01:25.827169Z"
    }
   },
   "outputs": [
    {
     "data": {
      "text/plain": [
       "PhaseMap({'off': [0.0, 0.0], 'supply': [1.0, 149.0]}, {'off': {'off'}, 'supply': {'supply'}})"
      ]
     },
     "execution_count": 15,
     "metadata": {},
     "output_type": "execute_result"
    }
   ],
   "source": [
    "phases['power']"
   ]
  },
  {
   "cell_type": "markdown",
   "metadata": {},
   "source": [
    "Which we can use to create a `FaultSample` which only samples the phases corresponding to the information given in `Mode`:"
   ]
  },
  {
   "cell_type": "code",
   "execution_count": 16,
   "metadata": {
    "execution": {
     "iopub.execute_input": "2024-01-08T23:01:25.827255Z",
     "iopub.status.busy": "2024-01-08T23:01:25.827255Z",
     "iopub.status.idle": "2024-01-08T23:01:25.842929Z",
     "shell.execute_reply": "2024-01-08T23:01:25.842929Z"
    }
   },
   "outputs": [
    {
     "data": {
      "text/plain": [
       "FaultSample of scenarios: \n",
       " - power_no_charge_t0p0\n",
       " - power_short_t0p0\n",
       " - power_no_charge_t75p0\n",
       " - power_short_t75p0"
      ]
     },
     "execution_count": 16,
     "metadata": {},
     "output_type": "execute_result"
    }
   ],
   "source": [
    "fs_pwr = FaultSample(fd_pwr, phasemap=phases['power'])\n",
    "fs_pwr.add_fault_phases()\n",
    "fs_pwr"
   ]
  },
  {
   "cell_type": "markdown",
   "metadata": {},
   "source": [
    "If we look at the rate information, however:"
   ]
  },
  {
   "cell_type": "code",
   "execution_count": 17,
   "metadata": {
    "execution": {
     "iopub.execute_input": "2024-01-08T23:01:25.845650Z",
     "iopub.status.busy": "2024-01-08T23:01:25.845650Z",
     "iopub.status.idle": "2024-01-08T23:01:25.860547Z",
     "shell.execute_reply": "2024-01-08T23:01:25.860463Z"
    }
   },
   "outputs": [
    {
     "data": {
      "text/plain": [
       "[SingleFaultScenario(sequence={0.0: Injection(faults={'power': ['no_charge']}, disturbances={})}, times=(0.0,), function='power', fault='no_charge', rate=1e-05, name='power_no_charge_t0p0', time=0.0, phase='off'),\n",
       " SingleFaultScenario(sequence={0.0: Injection(faults={'power': ['short']}, disturbances={})}, times=(0.0,), function='power', fault='short', rate=0.0, name='power_short_t0p0', time=0.0, phase='off'),\n",
       " SingleFaultScenario(sequence={75.0: Injection(faults={'power': ['no_charge']}, disturbances={})}, times=(75.0,), function='power', fault='no_charge', rate=0.0, name='power_no_charge_t75p0', time=75.0, phase='supply'),\n",
       " SingleFaultScenario(sequence={75.0: Injection(faults={'power': ['short']}, disturbances={})}, times=(75.0,), function='power', fault='short', rate=1e-05, name='power_short_t75p0', time=75.0, phase='supply')]"
      ]
     },
     "execution_count": 17,
     "metadata": {},
     "output_type": "execute_result"
    }
   ],
   "source": [
    "fs_pwr.scenarios()"
   ]
  },
  {
   "cell_type": "markdown",
   "metadata": {},
   "source": [
    "The rate for scenarios outside the phases is zero!\n",
    "\n",
    "We can remove these scenarios using `FaultSample.prune_scenarios`:"
   ]
  },
  {
   "cell_type": "code",
   "execution_count": 18,
   "metadata": {
    "execution": {
     "iopub.execute_input": "2024-01-08T23:01:25.861896Z",
     "iopub.status.busy": "2024-01-08T23:01:25.861896Z",
     "iopub.status.idle": "2024-01-08T23:01:25.877293Z",
     "shell.execute_reply": "2024-01-08T23:01:25.877293Z"
    }
   },
   "outputs": [
    {
     "data": {
      "text/plain": [
       "FaultSample of scenarios: \n",
       " - power_no_charge_t0p0\n",
       " - power_short_t75p0"
      ]
     },
     "execution_count": 18,
     "metadata": {},
     "output_type": "execute_result"
    }
   ],
   "source": [
    "fs_pwr.prune_scenarios(\"rate\", np.greater, 0.0)\n",
    "fs_pwr"
   ]
  },
  {
   "cell_type": "code",
   "execution_count": 19,
   "metadata": {
    "execution": {
     "iopub.execute_input": "2024-01-08T23:01:25.880291Z",
     "iopub.status.busy": "2024-01-08T23:01:25.880291Z",
     "iopub.status.idle": "2024-01-08T23:01:25.897831Z",
     "shell.execute_reply": "2024-01-08T23:01:25.896867Z"
    }
   },
   "outputs": [
    {
     "data": {
      "text/plain": [
       "[SingleFaultScenario(sequence={0.0: Injection(faults={'power': ['no_charge']}, disturbances={})}, times=(0.0,), function='power', fault='no_charge', rate=1e-05, name='power_no_charge_t0p0', time=0.0, phase='off'),\n",
       " SingleFaultScenario(sequence={75.0: Injection(faults={'power': ['short']}, disturbances={})}, times=(75.0,), function='power', fault='short', rate=1e-05, name='power_short_t75p0', time=75.0, phase='supply')]"
      ]
     },
     "execution_count": 19,
     "metadata": {},
     "output_type": "execute_result"
    }
   ],
   "source": [
    "fs_pwr.scenarios()"
   ]
  },
  {
   "cell_type": "markdown",
   "metadata": {},
   "source": [
    "As shown, now the only scenarios in the `FaultSample` are ones which have nonzero rate."
   ]
  },
  {
   "cell_type": "code",
   "execution_count": 20,
   "metadata": {
    "execution": {
     "iopub.execute_input": "2024-01-08T23:01:25.900831Z",
     "iopub.status.busy": "2024-01-08T23:01:25.900831Z",
     "iopub.status.idle": "2024-01-08T23:01:25.912808Z",
     "shell.execute_reply": "2024-01-08T23:01:25.912808Z"
    }
   },
   "outputs": [],
   "source": [
    "assert all([scen.rate > 0 for scen in fs_pwr.scenarios()])"
   ]
  },
  {
   "cell_type": "markdown",
   "metadata": {},
   "source": [
    "To enable multiple samples to be generated for different faultdomains accross the model, we can use `SampleApproach`, e.g.:"
   ]
  },
  {
   "cell_type": "code",
   "execution_count": 21,
   "metadata": {
    "execution": {
     "iopub.execute_input": "2024-01-08T23:01:25.915791Z",
     "iopub.status.busy": "2024-01-08T23:01:25.915791Z",
     "iopub.status.idle": "2024-01-08T23:01:25.928100Z",
     "shell.execute_reply": "2024-01-08T23:01:25.928100Z"
    }
   },
   "outputs": [
    {
     "data": {
      "text/plain": [
       "{'power': PhaseMap({'off': [0.0, 0.0], 'supply': [1.0, 149.0]}, {'off': {'off'}, 'supply': {'supply'}}),\n",
       " 'perception': PhaseMap({'off': [0.0, 1.0], 'feed': [2.0, 149.0]}, {'off': {'off'}, 'feed': {'feed'}}),\n",
       " 'plan_path': PhaseMap({'standby': [0.0, 4.0], 'drive': [5.0, 148.0], 'standby1': [149.0, 149.0]}, {'standby': {'standby1', 'standby'}, 'drive': {'drive'}}),\n",
       " 'override': PhaseMap({'off': [0.0, 1.0], 'standby': [2.0, 149.0]}, {'off': {'off'}, 'standby': {'standby'}})}"
      ]
     },
     "execution_count": 21,
     "metadata": {},
     "output_type": "execute_result"
    }
   ],
   "source": [
    "phases"
   ]
  },
  {
   "cell_type": "code",
   "execution_count": 22,
   "metadata": {
    "execution": {
     "iopub.execute_input": "2024-01-08T23:01:25.928100Z",
     "iopub.status.busy": "2024-01-08T23:01:25.928100Z",
     "iopub.status.idle": "2024-01-08T23:01:25.960022Z",
     "shell.execute_reply": "2024-01-08T23:01:25.959735Z"
    }
   },
   "outputs": [],
   "source": [
    "sa = SampleApproach(Rover(), phasemaps=phases)\n",
    "# adding fault domains\n",
    "sa.add_faultdomain(\"drive\", \"fault\", \"drive\", \"hmode_1\")\n",
    "sa.add_faultdomain(\"plan_path\", \"all_fxn_modes\", \"plan_path\")\n",
    "sa.add_faultdomain(\"power\", \"all_fxn_modes\", \"power\")\n",
    "sa.add_faultsample(\"drive\", \"fault_phases\", \"drive\", phasemap=\"plan_path\")\n",
    "sa.add_faultsample(\"plan_path\", \"fault_phases\", \"plan_path\", phasemap=\"plan_path\")\n",
    "sa.add_faultsample(\"power\", \"fault_phases\", \"power\", phasemap=\"power\")\n",
    "sa.prune_scenarios()"
   ]
  },
  {
   "cell_type": "code",
   "execution_count": 23,
   "metadata": {
    "execution": {
     "iopub.execute_input": "2024-01-08T23:01:25.960022Z",
     "iopub.status.busy": "2024-01-08T23:01:25.960022Z",
     "iopub.status.idle": "2024-01-08T23:01:25.976294Z",
     "shell.execute_reply": "2024-01-08T23:01:25.976008Z"
    }
   },
   "outputs": [
    {
     "data": {
      "text/plain": [
       "SampleApproach for rover with: \n",
       " faultdomains: drive, plan_path, power\n",
       " faultsamples: drive, plan_path, power"
      ]
     },
     "execution_count": 23,
     "metadata": {},
     "output_type": "execute_result"
    }
   ],
   "source": [
    "sa"
   ]
  },
  {
   "cell_type": "code",
   "execution_count": 24,
   "metadata": {
    "execution": {
     "iopub.execute_input": "2024-01-08T23:01:25.977624Z",
     "iopub.status.busy": "2024-01-08T23:01:25.977624Z",
     "iopub.status.idle": "2024-01-08T23:01:25.993521Z",
     "shell.execute_reply": "2024-01-08T23:01:25.993034Z"
    }
   },
   "outputs": [
    {
     "data": {
      "text/plain": [
       "[SingleFaultScenario(sequence={76.0: Injection(faults={'drive': ['hmode_1']}, disturbances={})}, times=(76.0,), function='drive', fault='hmode_1', rate=0.02857142857142857, name='drive_hmode_1_t76p0', time=76.0, phase='drive'),\n",
       " SingleFaultScenario(sequence={2.0: Injection(faults={'plan_path': ['no_con']}, disturbances={})}, times=(2.0,), function='plan_path', fault='no_con', rate=0.0001, name='plan_path_no_con_t2p0', time=2.0, phase='standby'),\n",
       " SingleFaultScenario(sequence={2.0: Injection(faults={'plan_path': ['crash']}, disturbances={})}, times=(2.0,), function='plan_path', fault='crash', rate=0.0001, name='plan_path_crash_t2p0', time=2.0, phase='standby'),\n",
       " SingleFaultScenario(sequence={76.0: Injection(faults={'plan_path': ['no_con']}, disturbances={})}, times=(76.0,), function='plan_path', fault='no_con', rate=0.0001, name='plan_path_no_con_t76p0', time=76.0, phase='drive'),\n",
       " SingleFaultScenario(sequence={76.0: Injection(faults={'plan_path': ['crash']}, disturbances={})}, times=(76.0,), function='plan_path', fault='crash', rate=0.0001, name='plan_path_crash_t76p0', time=76.0, phase='drive'),\n",
       " SingleFaultScenario(sequence={0.0: Injection(faults={'power': ['no_charge']}, disturbances={})}, times=(0.0,), function='power', fault='no_charge', rate=1e-05, name='power_no_charge_t0p0', time=0.0, phase='off'),\n",
       " SingleFaultScenario(sequence={75.0: Injection(faults={'power': ['short']}, disturbances={})}, times=(75.0,), function='power', fault='short', rate=1e-05, name='power_short_t75p0', time=75.0, phase='supply')]"
      ]
     },
     "execution_count": 24,
     "metadata": {},
     "output_type": "execute_result"
    }
   ],
   "source": [
    "sa.scenarios()"
   ]
  },
  {
   "cell_type": "markdown",
   "metadata": {},
   "source": [
    "This is mostly useful when we would like to sample different functions in a model differently than others (e.g., using different phases), but still want to propagate the scenarios together as a part of a single sample."
   ]
  },
  {
   "cell_type": "markdown",
   "metadata": {},
   "source": [
    "### Propagating Faults\n",
    "\n",
    "Given the `FaultSample` approach, faults can then be propagated through the model to get results. Note that these faults can be sampled in parallel if desired using a user-provided pool (see the parallel pool tutorial in the `\\pump example` folder)."
   ]
  },
  {
   "cell_type": "code",
   "execution_count": 25,
   "metadata": {
    "execution": {
     "iopub.execute_input": "2024-01-08T23:01:25.995567Z",
     "iopub.status.busy": "2024-01-08T23:01:25.995567Z",
     "iopub.status.idle": "2024-01-08T23:01:26.443489Z",
     "shell.execute_reply": "2024-01-08T23:01:26.442942Z"
    }
   },
   "outputs": [
    {
     "name": "stderr",
     "output_type": "stream",
     "text": [
      "SCENARIOS COMPLETE: 100%|██████████| 2/2 [00:00<00:00,  9.07it/s]\n"
     ]
    }
   ],
   "source": [
    "res, hist = prop.fault_sample(Rover(), fs_pwr)"
   ]
  },
  {
   "cell_type": "code",
   "execution_count": 26,
   "metadata": {
    "execution": {
     "iopub.execute_input": "2024-01-08T23:01:26.446518Z",
     "iopub.status.busy": "2024-01-08T23:01:26.445484Z",
     "iopub.status.idle": "2024-01-08T23:01:26.459904Z",
     "shell.execute_reply": "2024-01-08T23:01:26.459904Z"
    }
   },
   "outputs": [
    {
     "data": {
      "text/plain": [
       "power_no_charge_t0p0.endclass.rate: 1e-05\n",
       "power_no_charge_t0p0.endclass.cost:    0\n",
       "power_no_charge_t0p0.endclass.prob:  1.0\n",
       "power_no_charge_t0p0                   0\n",
       "power_no_charge_t0p0.endclass.in_bound: True\n",
       "power_no_charge_t0p0               False\n",
       "power_no_charge_t0p0                   1\n",
       "power_no_charge_t0p0                   1\n",
       "power_no_charge_t0p0.endclass.end_dist: 28.91724385770989\n",
       "power_no_charge_t0p0                 0.0\n",
       "power_no_charge_t0p0.endclass.faults: {'power': ['no_charge']}\n",
       "power_no_charge_t0p0incomplete mission faulty\n",
       "power_no_charge_t0p0.endclass.end_x: 0.0\n",
       "power_no_charge_t0p0.endclass.end_y: 0.0\n",
       "power_no_charge_t0p0.endclass.endpt: array(2)\n",
       "power_short_t75p0.endclass.rate:   1e-05\n",
       "power_short_t75p0.endclass.cost:       0\n",
       "power_short_t75p0.endclass.prob:     1.0\n",
       "power_short_t75p0.en                   0\n",
       "power_short_t75p0.endclass.in_bound: True\n",
       "power_short_t75p0.endclass.at_finish: False\n",
       "power_short_t75p0.endclass.line_dist:  1\n",
       "power_short_t75p0.endclass.num_modes:  1\n",
       "power_short_t75p0.endclass.end_dist: 2.0873256513551914\n",
       "power_short_t75p0.en 0.14980808415676147\n",
       "power_short_t75p0.endclass.faults: {'power': ['short']}\n",
       "power_short_t75p0.enincomplete mission faulty\n",
       "power_short_t75p0.endclass.end_x: 27.46715394950123\n",
       "power_short_t75p0.endclass.end_y: 0.9015499296277614\n",
       "power_short_t75p0.endclass.endpt: array(2)\n",
       "nominal.endclass.rate:               1.0\n",
       "nominal.endclass.cost:                 0\n",
       "nominal.endclass.prob:               1.0\n",
       "nominal.endclass.expected_cost:        0\n",
       "nominal.endclass.in_bound:          True\n",
       "nominal.endclass.at_finish:        False\n",
       "nominal.endclass.line_dist:            1\n",
       "nominal.endclass.num_modes:            0\n",
       "nominal.endclass.end_dist: 2.0873256513551914\n",
       "nominal.endclass.tot_deviation: 0.14980808415676147\n",
       "nominal.endclass.faults:              {}\n",
       "nominal.endclass.classification: incomplete mission\n",
       "nominal.endclass.end_x: 27.46715394950123\n",
       "nominal.endclass.end_y: 0.9015499296277614\n",
       "nominal.endclass.endpt:         array(2)"
      ]
     },
     "execution_count": 26,
     "metadata": {},
     "output_type": "execute_result"
    }
   ],
   "source": [
    "res"
   ]
  },
  {
   "cell_type": "markdown",
   "metadata": {},
   "source": [
    "These responses can be visualized over the given faults:"
   ]
  },
  {
   "cell_type": "code",
   "execution_count": 27,
   "metadata": {
    "execution": {
     "iopub.execute_input": "2024-01-08T23:01:26.460696Z",
     "iopub.status.busy": "2024-01-08T23:01:26.460696Z",
     "iopub.status.idle": "2024-01-08T23:01:26.476129Z",
     "shell.execute_reply": "2024-01-08T23:01:26.475705Z"
    }
   },
   "outputs": [
    {
     "data": {
      "text/html": [
       "<div>\n",
       "<style scoped>\n",
       "    .dataframe tbody tr th:only-of-type {\n",
       "        vertical-align: middle;\n",
       "    }\n",
       "\n",
       "    .dataframe tbody tr th {\n",
       "        vertical-align: top;\n",
       "    }\n",
       "\n",
       "    .dataframe thead th {\n",
       "        text-align: right;\n",
       "    }\n",
       "</style>\n",
       "<table border=\"1\" class=\"dataframe\">\n",
       "  <thead>\n",
       "    <tr style=\"text-align: right;\">\n",
       "      <th></th>\n",
       "      <th></th>\n",
       "      <th>end_dist</th>\n",
       "      <th>line_dist</th>\n",
       "      <th>tot_deviation</th>\n",
       "    </tr>\n",
       "  </thead>\n",
       "  <tbody>\n",
       "    <tr>\n",
       "      <th rowspan=\"2\" valign=\"top\">power</th>\n",
       "      <th>short</th>\n",
       "      <td>2.087326</td>\n",
       "      <td>1</td>\n",
       "      <td>0.149808</td>\n",
       "    </tr>\n",
       "    <tr>\n",
       "      <th>no_charge</th>\n",
       "      <td>28.917244</td>\n",
       "      <td>1</td>\n",
       "      <td>0.000000</td>\n",
       "    </tr>\n",
       "  </tbody>\n",
       "</table>\n",
       "</div>"
      ],
      "text/plain": [
       "                  end_dist  line_dist  tot_deviation\n",
       "power short       2.087326          1       0.149808\n",
       "      no_charge  28.917244          1       0.000000"
      ]
     },
     "execution_count": 27,
     "metadata": {},
     "output_type": "execute_result"
    }
   ],
   "source": [
    "fmea = FMEA(res, fs_pwr, metrics = [\"end_dist\", \"line_dist\", \"tot_deviation\"])\n",
    "fmea.as_table()"
   ]
  },
  {
   "cell_type": "code",
   "execution_count": 28,
   "metadata": {
    "execution": {
     "iopub.execute_input": "2024-01-08T23:01:26.477497Z",
     "iopub.status.busy": "2024-01-08T23:01:26.477497Z",
     "iopub.status.idle": "2024-01-08T23:01:26.776026Z",
     "shell.execute_reply": "2024-01-08T23:01:26.776026Z"
    }
   },
   "outputs": [
    {
     "data": {
      "text/plain": [
       "(<Figure size 600x400 with 4 Axes>,\n",
       " array([<Axes: title={'center': 'end_dist'}>,\n",
       "        <Axes: title={'center': 'line_dist'}>,\n",
       "        <Axes: title={'center': 'tot_deviation'}, xlabel=\"['function', 'fault']\">,\n",
       "        <Axes: >], dtype=object))"
      ]
     },
     "execution_count": 28,
     "metadata": {},
     "output_type": "execute_result"
    },
    {
     "data": {
      "image/png": "[encoded data removed]",
      "text/plain": [
       "<Figure size 600x400 with 4 Axes>"
      ]
     },
     "metadata": {},
     "output_type": "display_data"
    }
   ],
   "source": [
    "fmea.as_plots(cols=2)"
   ]
  },
  {
   "cell_type": "markdown",
   "metadata": {},
   "source": [
    "Or over time/any other variable:"
   ]
  },
  {
   "cell_type": "code",
   "execution_count": 29,
   "metadata": {
    "execution": {
     "iopub.execute_input": "2024-01-08T23:01:26.776669Z",
     "iopub.status.busy": "2024-01-08T23:01:26.776669Z",
     "iopub.status.idle": "2024-01-08T23:01:26.796469Z",
     "shell.execute_reply": "2024-01-08T23:01:26.795930Z"
    }
   },
   "outputs": [
    {
     "data": {
      "text/html": [
       "<div>\n",
       "<style scoped>\n",
       "    .dataframe tbody tr th:only-of-type {\n",
       "        vertical-align: middle;\n",
       "    }\n",
       "\n",
       "    .dataframe tbody tr th {\n",
       "        vertical-align: top;\n",
       "    }\n",
       "\n",
       "    .dataframe thead th {\n",
       "        text-align: right;\n",
       "    }\n",
       "</style>\n",
       "<table border=\"1\" class=\"dataframe\">\n",
       "  <thead>\n",
       "    <tr style=\"text-align: right;\">\n",
       "      <th></th>\n",
       "      <th>end_dist</th>\n",
       "      <th>line_dist</th>\n",
       "      <th>tot_deviation</th>\n",
       "    </tr>\n",
       "  </thead>\n",
       "  <tbody>\n",
       "    <tr>\n",
       "      <th>75.0</th>\n",
       "      <td>0.000021</td>\n",
       "      <td>0.00001</td>\n",
       "      <td>0.000001</td>\n",
       "    </tr>\n",
       "    <tr>\n",
       "      <th>0.0</th>\n",
       "      <td>0.000289</td>\n",
       "      <td>0.00001</td>\n",
       "      <td>0.000000</td>\n",
       "    </tr>\n",
       "  </tbody>\n",
       "</table>\n",
       "</div>"
      ],
      "text/plain": [
       "      end_dist  line_dist  tot_deviation\n",
       "75.0  0.000021    0.00001       0.000001\n",
       "0.0   0.000289    0.00001       0.000000"
      ]
     },
     "execution_count": 29,
     "metadata": {},
     "output_type": "execute_result"
    }
   ],
   "source": [
    "comp = Comparison(res, fs_pwr, metrics = [\"end_dist\", \"line_dist\", \"tot_deviation\"], factors =['time'])\n",
    "comp.as_table()"
   ]
  },
  {
   "cell_type": "code",
   "execution_count": 30,
   "metadata": {
    "execution": {
     "iopub.execute_input": "2024-01-08T23:01:26.797341Z",
     "iopub.status.busy": "2024-01-08T23:01:26.797341Z",
     "iopub.status.idle": "2024-01-08T23:01:27.102799Z",
     "shell.execute_reply": "2024-01-08T23:01:27.102799Z"
    }
   },
   "outputs": [
    {
     "data": {
      "text/plain": [
       "(<Figure size 600x400 with 4 Axes>,\n",
       " array([<Axes: title={'center': 'end_dist'}>,\n",
       "        <Axes: title={'center': 'line_dist'}>,\n",
       "        <Axes: title={'center': 'tot_deviation'}, xlabel='time'>, <Axes: >],\n",
       "       dtype=object))"
      ]
     },
     "execution_count": 30,
     "metadata": {},
     "output_type": "execute_result"
    },
    {
     "data": {
      "image/png": "[encoded data removed]",
      "text/plain": [
       "<Figure size 600x400 with 4 Axes>"
      ]
     },
     "metadata": {},
     "output_type": "display_data"
    }
   ],
   "source": [
    "comp.as_plots(cols=2)"
   ]
  }
 ],
 "metadata": {
  "kernelspec": {
   "display_name": "Python 3 (ipykernel)",
   "language": "python",
   "name": "python3"
  },
  "language_info": {
   "codemirror_mode": {
    "name": "ipython",
    "version": 3
   },
   "file_extension": ".py",
   "mimetype": "text/x-python",
   "name": "python",
   "nbconvert_exporter": "python",
   "pygments_lexer": "ipython3",
   "version": "3.9.7"
  }
 },
 "nbformat": 4,
 "nbformat_minor": 4
}
