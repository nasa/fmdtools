{
 "cells": [
  {
   "cell_type": "markdown",
   "metadata": {},
   "source": [
    "# Defining and Visualizing fmdtools Model Structures\n",
    "\n",
    "To ensure that a simulation meets the intent of a modeller, it is important to carefully define the structure of the model and run order. This notebook will demonstrate fmdtools' interfaces both for setting up model structures and for fault visualization.\n",
    "\n",
    "NOTE: For some of these visualizations to display properly without re-running code use, `File -> Trust Notebook`."
   ]
  },
  {
   "cell_type": "code",
   "execution_count": 1,
   "metadata": {
    "execution": {
     "iopub.execute_input": "2023-07-06T18:32:01.518478Z",
     "iopub.status.busy": "2023-07-06T18:32:01.517478Z",
     "iopub.status.idle": "2023-07-06T18:32:02.310019Z",
     "shell.execute_reply": "2023-07-06T18:32:02.310019Z"
    }
   },
   "outputs": [],
   "source": [
    "from fmdtools.define.model import Model\n",
    "from fmdtools.define.block import FxnBlock, Component\n",
    "import fmdtools.analyze as an\n",
    "import fmdtools.sim.propagate as prop"
   ]
  },
  {
   "cell_type": "markdown",
   "metadata": {},
   "source": [
    "## Basics\n",
    "\n",
    "An fmdtools model is made up of functions--model structures with behavioral methods and internal states--and flows--data relationships between functions. These functions and flows are defined in python classes and thus may be instantiated multiple times in a model to create multi-component models with complex interactions. The structure of these model classes is shown below:\n",
    "\n",
    "![Model Classes](files/figures/example_model.png)\n",
    "\n",
    "Creating a model thus involves:\n",
    "- defining the function and flow classes defining the behavior of the model in the model module\n",
    "- defining the specific structure for the model: function and flow *objects* (instantiations of functions) and their relationships.\n",
    "\n",
    "Model structure visualization is performed in the `an.graph.ModelGraph` class and its sub-classes. "
   ]
  },
  {
   "cell_type": "code",
   "execution_count": 2,
   "metadata": {
    "execution": {
     "iopub.execute_input": "2023-07-06T18:32:02.313154Z",
     "iopub.status.busy": "2023-07-06T18:32:02.313154Z",
     "iopub.status.idle": "2023-07-06T18:32:02.325295Z",
     "shell.execute_reply": "2023-07-06T18:32:02.325295Z"
    }
   },
   "outputs": [
    {
     "name": "stdout",
     "output_type": "stream",
     "text": [
      "Help on class ModelGraph in module fmdtools.analyze.graph:\n",
      "\n",
      "class ModelGraph(Graph)\n",
      " |  ModelGraph(mdl, withstates=True, **kwargs)\n",
      " |  \n",
      " |  Creates a Graph of Model functions and flow for display, where both functions\n",
      " |  and flows are nodes.\n",
      " |  \n",
      " |  If withstates option is used on instantiation, a `states` dict is associated\n",
      " |  with the edges/nodes which can then be used to visualize function/flow attributes.\n",
      " |  \n",
      " |  Method resolution order:\n",
      " |      ModelGraph\n",
      " |      Graph\n",
      " |      builtins.object\n",
      " |  \n",
      " |  Methods defined here:\n",
      " |  \n",
      " |  __init__(self, mdl, withstates=True, **kwargs)\n",
      " |      Generates the ModelGraph corresponding to a given Model\n",
      " |      \n",
      " |      Parameters\n",
      " |      ----------\n",
      " |      mdl : define.Model\n",
      " |          fmdtools model to represent graphically\n",
      " |      withstates : bool, optional\n",
      " |          Whether to copy states to the node/edge 'states' property. The default is True.\n",
      " |      **kwargs : kwargs\n",
      " |          (placeholder for kwargs)\n",
      " |  \n",
      " |  draw_graphviz(self, layout='twopi', overlap='voronoi', **kwargs)\n",
      " |      Draws the graph using pygraphviz for publication-quality figures.\n",
      " |      \n",
      " |      Note that the style may not match one-to-one with the defined none/edge styles.\n",
      " |      \n",
      " |      Parameters\n",
      " |      ----------\n",
      " |      filename : str, optional\n",
      " |          Name to save the figure to (if saving the figure). The default is ''.\n",
      " |      filetype : str, optional\n",
      " |          Type of file to safe. The default is 'png'.\n",
      " |      **kwargs : kwargs\n",
      " |          kwargs to \n",
      " |      \n",
      " |      Returns\n",
      " |      -------\n",
      " |      dot : PyGraphviz DiGraph\n",
      " |          Graph object corresponding to the figure.\n",
      " |  \n",
      " |  get_multi_edges(self, mdl, subedges)\n",
      " |      Used by subclasses to attach functions/flows (subedges arg) to edges\n",
      " |      \n",
      " |      Parameters\n",
      " |      ----------\n",
      " |      mdl: Model\n",
      " |          Model to represent.\n",
      " |      subedges : list\n",
      " |          nodes from the full graph which will become edges in the subgraph (e.g. individual flows)\n",
      " |      \n",
      " |      Returns\n",
      " |      -------\n",
      " |      flows : dict\n",
      " |              Dictionary of edges with keys representing each sub-attribute of the edge (e.g., flows)\n",
      " |  \n",
      " |  nx_from_obj(self, mdl)\n",
      " |      Generates the networkx.graph object corresponding to the model.\n",
      " |      Parameters\n",
      " |      ----------\n",
      " |      mdl: Model\n",
      " |          Model to create the graph representation of.\n",
      " |      \n",
      " |      Returns\n",
      " |      -------\n",
      " |      g : networkx.Graph\n",
      " |          networkx.Graph representation of model functions and flows (along with their attributes)\n",
      " |  \n",
      " |  set_exec_order(self, mdl, static={}, dynamic={}, next_edges={}, label_order=True, label_tstep=True)\n",
      " |      Enables the plotting of ModelGraph execution order.\n",
      " |      \n",
      " |      Parameters\n",
      " |      ----------\n",
      " |      mdl : Model\n",
      " |          Model to plot the execution order of.\n",
      " |      static : dict/False, optional\n",
      " |          kwargs to overwrite the default style for functions/flows in the static execution step.\n",
      " |          If False, static functions are not differentiated. The default is {}.\n",
      " |      dynamic : dict/False, optional\n",
      " |          kwargs to overwrite the default style for functions/flows in the dynamic execution step.\n",
      " |          If False, dynamic functions are not differentiated. The default is {}.\n",
      " |      next_edges : dict\n",
      " |          kwargs to overwrite the default style for edges indicating the flow order.\n",
      " |          If False, these edges are not added. the default is {}.\n",
      " |      label_order : bool, optional\n",
      " |          Whether to label execution order (with a number on each node). The default is True.\n",
      " |      label_tstep : bool, optional\n",
      " |          Whether to label each timestep (with a number in the subtitle). The default is True.\n",
      " |  \n",
      " |  set_flow_nodestates(self, mdl)\n",
      " |      Attaches node state attributes to Graph corresponding to the states of the model that belong to flows.\n",
      " |      \n",
      " |      Parameters\n",
      " |      ----------\n",
      " |      mdl: Model\n",
      " |          Model to represent.\n",
      " |      \n",
      " |      Returns\n",
      " |      -------\n",
      " |  \n",
      " |  set_fxn_nodestates(self, mdl)\n",
      " |      Attaches state attributes to Graph corresponding to the states of the model that belong to functions\n",
      " |      Parameters\n",
      " |      ----------\n",
      " |      mdl: Model\n",
      " |          Model to represent.\n",
      " |      \n",
      " |      Returns\n",
      " |      -------\n",
      " |  \n",
      " |  set_nx_states(self, mdl)\n",
      " |      Attaches state attributes to Graph corresponding to the states of the model\n",
      " |      Parameters\n",
      " |      ----------\n",
      " |      mdl: Model\n",
      " |          Model to represent.\n",
      " |      \n",
      " |      Returns\n",
      " |      -------\n",
      " |  \n",
      " |  ----------------------------------------------------------------------\n",
      " |  Methods inherited from Graph:\n",
      " |  \n",
      " |  add_node_groups(self, **node_groups)\n",
      " |      Creates arbitrary groups of nodes which may be then be displayed with different styles\n",
      " |      \n",
      " |      Parameters\n",
      " |      ----------\n",
      " |      **node_groups : iterable\n",
      " |          \n",
      " |      e.g. \n",
      " |      graph.add_node_groups(group1=('node1', 'node2'), group2=('node3'))\n",
      " |      graph.set_node_styles(group={'group1':{'color':'green'}, 'group2':{'color':'red'}})\n",
      " |      graph.draw()\n",
      " |      \n",
      " |      would show two different groups of nodes, one with green nodes, and the other with red nodes\n",
      " |  \n",
      " |  animate_from(self, history, times='all', figsize=(6, 4), **kwargs)\n",
      " |      Successively animates a plot using Graph.draw_from\n",
      " |      \n",
      " |      Parameters\n",
      " |      ----------\n",
      " |      history : History\n",
      " |          History with faulty and nominal states\n",
      " |      times : list, optional\n",
      " |          List of times to animate over. The default is 'all'.\n",
      " |      figsize : tuple, optional\n",
      " |          Size for the figure. The default is (6,4).\n",
      " |      **kwargs : kwargs\n",
      " |      \n",
      " |      Returns\n",
      " |      -------\n",
      " |      ani : matplotlib.animation.FuncAnimation\n",
      " |          Animation object with the given frames\n",
      " |  \n",
      " |  calc_aspl(self)\n",
      " |      Computes average shortest path length of\n",
      " |      \n",
      " |      Returns\n",
      " |      -------\n",
      " |      aspl: float\n",
      " |          Average shortest path length\n",
      " |  \n",
      " |  calc_modularity(self)\n",
      " |      Computes network modularity of the graph.\n",
      " |          \n",
      " |      Returns\n",
      " |      -------\n",
      " |      modularity : Modularity\n",
      " |  \n",
      " |  calc_robustness_coefficient(self, trials=100, seed=False)\n",
      " |      Computes robustness coefficient of graph representation of model mdl.\n",
      " |      \n",
      " |      Parameters\n",
      " |      ----------\n",
      " |      trials : int \n",
      " |          number of times to run robustness coefficient algorithm (result is averaged over all trials)\n",
      " |      seed : int\n",
      " |          optional seed to instantiate test with\n",
      " |      \n",
      " |      Returns\n",
      " |      -------\n",
      " |      RC : robustness coefficient\n",
      " |  \n",
      " |  draw(self, figsize=(12, 10), title='', fig=False, ax=False, withlegend=True, legend_bbox=(1, 0.5), legend_loc='center left', legend_labelspacing=2, legend_borderpad=1, **kwargs)\n",
      " |      Draws a networkx graph g with given styles corresponding to the node/edge properties.\n",
      " |      \n",
      " |      Parameters\n",
      " |      ----------\n",
      " |      figsize : tuple, optional\n",
      " |          Size for the figure (plt.figure arg). The default is (12,10).\n",
      " |      title : str, optional\n",
      " |          Title for the plot. The default is \"\".\n",
      " |      fig : bool, optional\n",
      " |          matplotlib figure to project on (if provided). The default is False.\n",
      " |      ax : bool, optional\n",
      " |          matplotlib axis to plot on (if provided). The default is False.\n",
      " |      withlegend : bool, optional\n",
      " |          Whether to include a legend. The default is True.\n",
      " |      legend_bbox : tuple, optional\n",
      " |          bbox to anchor the legend to. The default is (1,0.5) (places legend on the right)\n",
      " |      legend_loc : str, optional\n",
      " |          loc argument for plt.legend. the default is \"center left\"\n",
      " |      legend_labelspacing : float, optional\n",
      " |          labelspacing argument for plt.legend. the default is \"2\n",
      " |      legend_borderpad : str, optional\n",
      " |          borderpad argument for plt.legend. the default is 1\n",
      " |      **kwargs : kwargs\n",
      " |          Arguments for various supporting functions:\n",
      " |              (set_pos, set_edge_styles, set_edge_labels, set_node_styles, set_node_labels, etc)\n",
      " |      \n",
      " |      Returns\n",
      " |      -------\n",
      " |      fig : matplotlib figure\n",
      " |          matplotlib figure to draw\n",
      " |      ax : matplotlib axis\n",
      " |          Ax in the figure\n",
      " |  \n",
      " |  draw_from(self, time, history=, **kwargs)\n",
      " |      Draws the graph with degraded/fault data at a given time.\n",
      " |      \n",
      " |      Parameters\n",
      " |      ----------\n",
      " |      time : int\n",
      " |          Time to draw the graph (in the history)\n",
      " |      history : History, optional\n",
      " |          History with nominal and faulty history. The default is History().\n",
      " |      **kwargs : **kwargs\n",
      " |          arguments for Graph.draw\n",
      " |      \n",
      " |      Returns\n",
      " |      -------\n",
      " |      fig : matplotlib figure\n",
      " |          matplotlib figure to draw\n",
      " |      ax : matplotlib axis\n",
      " |          Ax in the figure\n",
      " |  \n",
      " |  draw_pyvis(self, filename='graph', width=1000, filt=True, physics=False, notebook=False)\n",
      " |      Method for plotting graphs with pyvis. Produces interactive HTML!\n",
      " |      \n",
      " |      Parameters\n",
      " |      ----------\n",
      " |      filename : str, optional\n",
      " |          File to save the html to. The default is \"typegraph.html\".\n",
      " |      width : int, optional\n",
      " |          Width of the frame in px. The default is 1000.\n",
      " |      filt : Dict/Bool, optional\n",
      " |          Whether to display sliders. The default is True.\n",
      " |      physics : Bool, optional\n",
      " |          Whether to use physics during node placement. The default is False.\n",
      " |      notebook : Bool, optional\n",
      " |          passes notebook arg to pyviz Network (for displaying in jupyter)\n",
      " |      Returns\n",
      " |      -------\n",
      " |      n : pyvis object\n",
      " |          pyvis object of the drawn graph\n",
      " |  \n",
      " |  find_bridging_nodes(self)\n",
      " |      Determines bridging nodes in a graph representation of model mdl. \n",
      " |      \n",
      " |      Returns\n",
      " |      -------\n",
      " |      bridgingNodes : list of bridging nodes\n",
      " |  \n",
      " |  find_high_degree_nodes(self, p=90)\n",
      " |      Determines highest degree nodes, up to percentile p, in graph representation of model mdl.\n",
      " |      \n",
      " |      Parameters\n",
      " |      ----------\n",
      " |      p : int (optional)\n",
      " |          percentile of degrees to return, between 0 and 100\n",
      " |      \n",
      " |      Returns\n",
      " |      -------\n",
      " |      highDegreeNodes : list of high degree nodes in format (node,degree)\n",
      " |  \n",
      " |  move_nodes(self, **kwargs)\n",
      " |      Sets the position of nodes for plots in analyze.graph using a graphical tool.\n",
      " |      Note: make sure matplotlib is set to plot in an external window (e.g using '%matplotlib qt)\n",
      " |      \n",
      " |      Parameters\n",
      " |      ----------\n",
      " |      **kwargs : kwargs\n",
      " |          keyword arguments for graph.draw\n",
      " |      \n",
      " |      Returns\n",
      " |      -------\n",
      " |      p : GraphIterator\n",
      " |          Graph Iterator (in analyze.Graph)\n",
      " |  \n",
      " |  plot_bridging_nodes(self, title='bridging nodes', node_kwargs={'node_color': 'red'}, **kwargs)\n",
      " |      Plots bridging nodes using self.draw()\n",
      " |      \n",
      " |      Parameters\n",
      " |      ----------\n",
      " |      title : str, optional\n",
      " |          Title for the plot. The default is 'bridging nodes'.\n",
      " |      node_kwargs : TODO : need documentation update.\n",
      " |      **kwargs : kwargs\n",
      " |          kwargs for Graph.draw\n",
      " |      \n",
      " |      Returns\n",
      " |      -------\n",
      " |      fig : matplotlib figure\n",
      " |          Figure\n",
      " |  \n",
      " |  plot_degree_dist(self)\n",
      " |      Plots degree distribution of graph representation of model mdl.\n",
      " |      \n",
      " |      Returns\n",
      " |      -------\n",
      " |      fig : matplotlib figure\n",
      " |          plot of distribution\n",
      " |  \n",
      " |  plot_high_degree_nodes(self, p=90, title='', node_kwargs={'node_color': 'red'}, **kwargs)\n",
      " |      Plots high-degree nodes using self.draw()\n",
      " |      \n",
      " |      Parameters\n",
      " |      ----------\n",
      " |      p : int (optional)\n",
      " |          percentile of degrees to return, between 0 and 100\n",
      " |      title : str, optional\n",
      " |          Title for the plot. The default is 'High Degree Nodes'.\n",
      " |      node_kwargs : dict : kwargs to overwrite the default NodeStyle\n",
      " |      **kwargs : kwargs\n",
      " |          kwargs for Graph.draw\n",
      " |      \n",
      " |      Returns\n",
      " |      -------\n",
      " |      fig : matplotlib figure\n",
      " |          Figure\n",
      " |  \n",
      " |  set_degraded(self, other)\n",
      " |      Sets 'degraded' state in underlying networkx graph based on difference between\n",
      " |      states with another Graph object\n",
      " |      \n",
      " |      Parameters\n",
      " |      ----------\n",
      " |      other : Graph\n",
      " |          (assumed nominal) Graph to compare to\n",
      " |  \n",
      " |  set_edge_labels(self, title='label', title2='', subtext='states', **edge_label_styles)\n",
      " |      Creates labels using Labels.from_iterator for the edges in the graph\n",
      " |      \n",
      " |      Parameters\n",
      " |      ----------\n",
      " |      title : str, optional\n",
      " |          property to get for title text. The default is 'id'.\n",
      " |      title2 : str, optional\n",
      " |          property to get for title text after the colon. The default is ''.\n",
      " |      subtext : str, optional\n",
      " |          property to get for the subtext. The default is ''.\n",
      " |      **node_label_styles : dict\n",
      " |          LabelStyle arguments to overwrite.\n",
      " |      \n",
      " |      Returns\n",
      " |      -------\n",
      " |  \n",
      " |  set_edge_styles(self, **edge_styles)\n",
      " |      Sets self.edge_styles and self.edge_groups given the provided edge styles.\n",
      " |      \n",
      " |      Parameters\n",
      " |      ----------\n",
      " |      **edge_styles : dict, optional\n",
      " |          Dictionary of tags, labels, and styles for the edges that overwrite the default. \n",
      " |          Has structure {tag:{label:kwargs}}, where kwargs are the keyword arguments to \n",
      " |          nx.draw_networkx_edges. The default is {\"label\":{}}.\n",
      " |  \n",
      " |  set_heatmap(self, heatmap, cmap=<matplotlib.colors.LinearSegmentedColormap object at 0x0000025E435BAE30>, default_color_val=0.0)\n",
      " |      Enables the association and plotting of a heatmap on a graph.\n",
      " |      \n",
      " |      e.g. graph.set_heatmap({'node_1':1.0, 'node_2': 0.0, 'node_3':0.5})\n",
      " |      graph.draw()\n",
      " |      Should draw node_1 the bluest, node_2 the reddest, and node_3 in between.\n",
      " |      \n",
      " |      Parameters\n",
      " |      ----------\n",
      " |      heatmap : dict/result\n",
      " |          dict/result with keys corresponding to the nodes and values in the range \n",
      " |          of a heatmap (0-1)\n",
      " |      cmap : mpl.Colormap, optional\n",
      " |          Colormap to use for the heatmap. The default is plt.cm.coolwarm.\n",
      " |      default_color_val : float, optional\n",
      " |          Value to use if a node is not in the heatmap dict. The default is 0.0.\n",
      " |  \n",
      " |  set_node_labels(self, title='id', title2='', subtext='', **node_label_styles)\n",
      " |      Creates labels using Labels.from_iterator for the nodes in the graph\n",
      " |      \n",
      " |      Parameters\n",
      " |      ----------\n",
      " |      title\n",
      " |      title2\n",
      " |      subtext\n",
      " |      node_label_styles\n",
      " |      \n",
      " |      Returns\n",
      " |      -------\n",
      " |  \n",
      " |  set_node_styles(self, **node_styles)\n",
      " |      Sets self.node_styles and self.edge_groups given the provided node styles.\n",
      " |      \n",
      " |      Parameters\n",
      " |      ----------\n",
      " |      **node_styles : dict, optional\n",
      " |          Dictionary of tags, labels, and style kwargs for the nodes that overwrite the default. \n",
      " |          Has structure {tag:{label:kwargs}}, where kwargs are the keyword arguments to \n",
      " |          nx.draw_networkx_nodes. The default is {\"label\":{}}.\n",
      " |  \n",
      " |  set_pos(self, auto=True, **pos)\n",
      " |      Sets graph positions to given positions, (automatically or manually)\n",
      " |      \n",
      " |      Parameters\n",
      " |      ----------\n",
      " |      auto : str, optional\n",
      " |          Whether to auto-layout the node position. The default is True. \n",
      " |      **pos : nodename=(x,y)\n",
      " |          Positions of nodes to set. Otherwise updates to the auto-layout or (0.5,0.5)\n",
      " |  \n",
      " |  set_resgraph(self, other=False)\n",
      " |      Standard results processing for results graphs (show faults and degradations)\n",
      " |      \n",
      " |      Parameters\n",
      " |      ----------\n",
      " |      other : Graph, optional\n",
      " |          Graph to compare with (for degradations). The default is False.\n",
      " |  \n",
      " |  sff_model(self, endtime=5, pi=0.1, pr=0.1, num_trials=100, start_node='random', error_bar_option='off')\n",
      " |      susc-fix-fail model.\n",
      " |      \n",
      " |      Parameters\n",
      " |      ----------\n",
      " |      endtime: int\n",
      " |          simulation end time\n",
      " |      pi : float\n",
      " |          infection (failure spread) rate\n",
      " |      pr : float\n",
      " |          recovery (fix) rate\n",
      " |      num_trials : int \n",
      " |          number of times to run the epidemic model, default is 100\n",
      " |      error_bar_option : str \n",
      " |          option for plotting error bars (first to third quartile), default is off\n",
      " |      start_node : str\n",
      " |          start node to use in the trial. default is 'random'\n",
      " |      \n",
      " |      Returns\n",
      " |      -------\n",
      " |      fig: plot of susc, fail, and fix nodes over time\n",
      " |  \n",
      " |  ----------------------------------------------------------------------\n",
      " |  Data descriptors inherited from Graph:\n",
      " |  \n",
      " |  __dict__\n",
      " |      dictionary for instance variables (if defined)\n",
      " |  \n",
      " |  __weakref__\n",
      " |      list of weak references to the object (if defined)\n",
      "\n"
     ]
    }
   ],
   "source": [
    "help(an.graph.ModelGraph)"
   ]
  },
  {
   "cell_type": "markdown",
   "metadata": {},
   "source": [
    "The main function used for displaying model structure is `draw()`"
   ]
  },
  {
   "cell_type": "code",
   "execution_count": 3,
   "metadata": {
    "execution": {
     "iopub.execute_input": "2023-07-06T18:32:02.327387Z",
     "iopub.status.busy": "2023-07-06T18:32:02.327387Z",
     "iopub.status.idle": "2023-07-06T18:32:02.340588Z",
     "shell.execute_reply": "2023-07-06T18:32:02.340588Z"
    }
   },
   "outputs": [
    {
     "name": "stdout",
     "output_type": "stream",
     "text": [
      "Help on function draw in module fmdtools.analyze.graph:\n",
      "\n",
      "draw(self, figsize=(12, 10), title='', fig=False, ax=False, withlegend=True, legend_bbox=(1, 0.5), legend_loc='center left', legend_labelspacing=2, legend_borderpad=1, **kwargs)\n",
      "    Draws a networkx graph g with given styles corresponding to the node/edge properties.\n",
      "    \n",
      "    Parameters\n",
      "    ----------\n",
      "    figsize : tuple, optional\n",
      "        Size for the figure (plt.figure arg). The default is (12,10).\n",
      "    title : str, optional\n",
      "        Title for the plot. The default is \"\".\n",
      "    fig : bool, optional\n",
      "        matplotlib figure to project on (if provided). The default is False.\n",
      "    ax : bool, optional\n",
      "        matplotlib axis to plot on (if provided). The default is False.\n",
      "    withlegend : bool, optional\n",
      "        Whether to include a legend. The default is True.\n",
      "    legend_bbox : tuple, optional\n",
      "        bbox to anchor the legend to. The default is (1,0.5) (places legend on the right)\n",
      "    legend_loc : str, optional\n",
      "        loc argument for plt.legend. the default is \"center left\"\n",
      "    legend_labelspacing : float, optional\n",
      "        labelspacing argument for plt.legend. the default is \"2\n",
      "    legend_borderpad : str, optional\n",
      "        borderpad argument for plt.legend. the default is 1\n",
      "    **kwargs : kwargs\n",
      "        Arguments for various supporting functions:\n",
      "            (set_pos, set_edge_styles, set_edge_labels, set_node_styles, set_node_labels, etc)\n",
      "    \n",
      "    Returns\n",
      "    -------\n",
      "    fig : matplotlib figure\n",
      "        matplotlib figure to draw\n",
      "    ax : matplotlib axis\n",
      "        Ax in the figure\n",
      "\n"
     ]
    }
   ],
   "source": [
    "help(an.graph.ModelGraph.draw)"
   ]
  },
  {
   "cell_type": "markdown",
   "metadata": {},
   "source": [
    "However, these relationships only define the *structure* of the model--for the model to simulate correctly and efficiently, the run order of fuctions additionally must be defined.\n",
    "\n",
    "Each timestep of a model simulation can be broken down into two steps: \n",
    "\n",
    "![Dynamic Propagation Step](figures/dynamic_step.png) \n",
    "\n",
    "- **Dynamic Propagation Step:** In the dynamic propagation step, the time-based behaviors (e.g. accumulations, movement, etc.) are each run *once* in a specified order. These steps are generally quicker to execute because each behavior is only run once and the flows do not need to be tracked to determine which behaviors to execute next. This step is run first at each time-step of the model.\n",
    "\n",
    "![Static Propagation Step](figures/propagation.PNG)\n",
    "\n",
    "- **Static Propagation Step:**\n",
    "    In the static propagation step, behaviors are propagated between functions iteratively until the state of the model converges to a single value. This may require an update of multiple function behaviors until there are no more new behaviors to run. Thus, static behaviors should be ''timeless'' (always give the same output for the same input) and convergent (behaviors in each function should not change each other ad infinitum). This step is run second at each time-step of the model.\n",
    "\n",
    "With these different behaviors, one can express a range of different types of models:\n",
    "- **static models** where only only one timestep is run, where fault scenarios show the immediate propagation of faults through the system.\n",
    "- **dynamic models** where a number of timesteps are run (but behaviors are only run once).\n",
    "- **hybrid models** where dynamic behaviors are run once and then a static propagation step is performed at each time-step."
   ]
  },
  {
   "cell_type": "markdown",
   "metadata": {},
   "source": [
    "The main interfaces/functions involved in defining run order are:\n",
    "- `FxnBlock.static_behavior(self, time)` and `FxnBlock.behavior(self, time)`, which define function behaviors which occur during the static propagation step. \n",
    "- `FxnBlock.dynamic_behavior(self, time)`, which defines function behaviors during the dynamic propagation step.\n",
    "- `FxnBlock.condfaults(self, time)`, does not define run order, but it can be used for behaviors which would at any time during simulation (dynamic or static) lead to the system entering a fault mode (e.g., conditional faults).\n",
    "- `Model.add_fxn()`, which when used successively for each function specifies that those functions run in the order they are added.\n",
    "\n",
    "There is additionally `Model.build()`, which enables one to manually specify the order of the dynamic propagation step (and initial static step):"
   ]
  },
  {
   "cell_type": "code",
   "execution_count": 4,
   "metadata": {
    "execution": {
     "iopub.execute_input": "2023-07-06T18:32:02.342673Z",
     "iopub.status.busy": "2023-07-06T18:32:02.342673Z",
     "iopub.status.idle": "2023-07-06T18:32:02.356238Z",
     "shell.execute_reply": "2023-07-06T18:32:02.356238Z"
    }
   },
   "outputs": [
    {
     "name": "stdout",
     "output_type": "stream",
     "text": [
      "Help on function build in module fmdtools.define.model:\n",
      "\n",
      "build(self, functionorder=[], require_connections=True)\n",
      "    Builds the model graph after the functions have been added.\n",
      "    \n",
      "    Parameters\n",
      "    ----------\n",
      "    functionorder : list, optional\n",
      "        The order for the functions to be executed in. The default is [].\n",
      "\n"
     ]
    }
   ],
   "source": [
    "help(Model.build)"
   ]
  },
  {
   "cell_type": "markdown",
   "metadata": {},
   "source": [
    "The overall static/dynamic propagation steps of the model can then be visualized using `ModelGraph.set_exec_order` successively with `ModelGraph.draw()`."
   ]
  },
  {
   "cell_type": "code",
   "execution_count": 5,
   "metadata": {
    "execution": {
     "iopub.execute_input": "2023-07-06T18:32:02.358324Z",
     "iopub.status.busy": "2023-07-06T18:32:02.358324Z",
     "iopub.status.idle": "2023-07-06T18:32:02.371538Z",
     "shell.execute_reply": "2023-07-06T18:32:02.371538Z"
    }
   },
   "outputs": [
    {
     "name": "stdout",
     "output_type": "stream",
     "text": [
      "Help on function set_exec_order in module fmdtools.analyze.graph:\n",
      "\n",
      "set_exec_order(self, mdl, static={}, dynamic={}, next_edges={}, label_order=True, label_tstep=True)\n",
      "    Enables the plotting of ModelGraph execution order.\n",
      "    \n",
      "    Parameters\n",
      "    ----------\n",
      "    mdl : Model\n",
      "        Model to plot the execution order of.\n",
      "    static : dict/False, optional\n",
      "        kwargs to overwrite the default style for functions/flows in the static execution step.\n",
      "        If False, static functions are not differentiated. The default is {}.\n",
      "    dynamic : dict/False, optional\n",
      "        kwargs to overwrite the default style for functions/flows in the dynamic execution step.\n",
      "        If False, dynamic functions are not differentiated. The default is {}.\n",
      "    next_edges : dict\n",
      "        kwargs to overwrite the default style for edges indicating the flow order.\n",
      "        If False, these edges are not added. the default is {}.\n",
      "    label_order : bool, optional\n",
      "        Whether to label execution order (with a number on each node). The default is True.\n",
      "    label_tstep : bool, optional\n",
      "        Whether to label each timestep (with a number in the subtitle). The default is True.\n",
      "\n"
     ]
    }
   ],
   "source": [
    "help(an.graph.ModelGraph.set_exec_order)"
   ]
  },
  {
   "cell_type": "markdown",
   "metadata": {},
   "source": [
    "The next sections will demonstrate these functions using a simple hybrid model."
   ]
  },
  {
   "cell_type": "markdown",
   "metadata": {},
   "source": [
    "## Model Setup\n",
    "\n",
    "Consider the following (highly simplified) rover electrical/navigation model. We can define the functions of this rover using the classes:"
   ]
  },
  {
   "cell_type": "code",
   "execution_count": 6,
   "metadata": {
    "execution": {
     "iopub.execute_input": "2023-07-06T18:32:02.373586Z",
     "iopub.status.busy": "2023-07-06T18:32:02.373586Z",
     "iopub.status.idle": "2023-07-06T18:32:02.386493Z",
     "shell.execute_reply": "2023-07-06T18:32:02.386493Z"
    }
   },
   "outputs": [],
   "source": [
    "from fmdtools.define.state import State\n",
    "from fmdtools.define.flow import Flow\n",
    "from fmdtools.define.mode import Mode\n",
    "class ControlState(State):\n",
    "    power: float=0.0\n",
    "    vel:   float=0.0\n",
    "class Control(Flow):\n",
    "    _init_s = ControlState\n",
    "class ControlRoverMode(Mode):\n",
    "    faultparams={'no_con':(1e-4, 200)}\n",
    "    opermodes = ('drive', 'standby')\n",
    "    mode : str='standby'\n",
    "\n",
    "class ControlRover(FxnBlock):\n",
    "    _init_m = ControlRoverMode\n",
    "    _init_control = Control\n",
    "    def dynamic_behavior(self,time):\n",
    "        if not self.m.in_mode('no_con'):\n",
    "            if time == 5:  self.m.set_mode('drive')\n",
    "            if time == 50: self.m.set_mode('standby')\n",
    "        if self.m.in_mode('drive'):\n",
    "            self.control.s.power = 1.0\n",
    "            self.control.s.vel = 1.0\n",
    "        elif self.m.in_mode('standby'):\n",
    "            self.control.s.vel = 0.0\n",
    "            self.control.s.power=0.0"
   ]
  },
  {
   "cell_type": "markdown",
   "metadata": {},
   "source": [
    "This function uses `dynamic_behavior()` to define the dynamic behavior of going through different modes depending on what model time it is. While this could also be entered in as a static behavior, because none of the defined behaviors themselves result from external inputs, there is no reason to."
   ]
  },
  {
   "cell_type": "code",
   "execution_count": 7,
   "metadata": {
    "execution": {
     "iopub.execute_input": "2023-07-06T18:32:02.388568Z",
     "iopub.status.busy": "2023-07-06T18:32:02.388568Z",
     "iopub.status.idle": "2023-07-06T18:32:02.401733Z",
     "shell.execute_reply": "2023-07-06T18:32:02.401733Z"
    }
   },
   "outputs": [],
   "source": [
    "class EEState(State):\n",
    "    v:  float=0.0\n",
    "    a:  float=0.0\n",
    "class EE(Flow):\n",
    "    _init_s = EEState\n",
    "class GroundState(State):\n",
    "    x:  float=0.0\n",
    "class Ground(Flow):\n",
    "    _init_s = GroundState\n",
    "\n",
    "class MoveRoverMode(Mode):\n",
    "    faultparams={\"mech_loss\":1.0, \"short\":1.0, \"elec_open\":1.0}\n",
    "class MoveRoverState(State):\n",
    "    power: float=0.0\n",
    "\n",
    "class MoveRover(FxnBlock):\n",
    "    _init_s = MoveRoverState\n",
    "    _init_m = MoveRoverMode\n",
    "    _init_ee = EE\n",
    "    _init_control = Control\n",
    "    _init_ground = Ground\n",
    "    def static_behavior(self, time):\n",
    "        self.s.power = self.ee.s.v * self.control.s.vel *self.m.no_fault(\"elec_open\")\n",
    "        self.ee.s.a = self.s.power/(12*(self.m.no_fault('short')+0.001))\n",
    "        if self.s.power >100: self.m.add_fault(\"elec_open\")\n",
    "    def dynamic_behavior(self, time):\n",
    "        if not self.m.has_fault(\"elec_open\", \"mech_loss\"): \n",
    "            self.ground.s.x = self.ground.s.x + self.s.power*self.m.no_fault(\"mech_loss\")"
   ]
  },
  {
   "cell_type": "markdown",
   "metadata": {},
   "source": [
    "The `Move_Rover` function uses both:\n",
    "- a static behavior which defines the input/output of electrical power at each instant, and\n",
    "- a dynamic behavior which defines the movement of the rover over time\n",
    "\n",
    "In this instance, the static behavior is important for enabling faults to propagate instantaneously in a single time-step (in this case, a short causing high current load to the battery). "
   ]
  },
  {
   "cell_type": "code",
   "execution_count": 8,
   "metadata": {
    "execution": {
     "iopub.execute_input": "2023-07-06T18:32:02.403822Z",
     "iopub.status.busy": "2023-07-06T18:32:02.403822Z",
     "iopub.status.idle": "2023-07-06T18:32:02.417544Z",
     "shell.execute_reply": "2023-07-06T18:32:02.417544Z"
    }
   },
   "outputs": [],
   "source": [
    "from fmdtools.define.time import Time\n",
    "\n",
    "class StoreEnergyState(State):\n",
    "    charge: float=100.0\n",
    "class StoreEnergyTime(Time):\n",
    "    dt: float = 0.5\n",
    "class StoreEnergyMode(Mode):\n",
    "    faultparams = {\"no_charge\":(1e-5, {'standby':1.0}, 100),\n",
    "                   \"short\":(1e-5, {'supply':1.0}, 100)}\n",
    "    opermodes = (\"supply\",\"charge\",\"standby\")\n",
    "    exclusive = True\n",
    "    key_phases_by = \"self\"\n",
    "    mode: str = \"standby\"\n",
    "    \n",
    "class StoreEnergy(FxnBlock):\n",
    "    _init_s = StoreEnergyState\n",
    "    _init_t = StoreEnergyTime\n",
    "    _init_m = StoreEnergyMode\n",
    "    _init_ee = EE\n",
    "    _init_control = Control\n",
    "    def static_behavior(self,time):\n",
    "        if self.ee.s.a > 5: self.m.add_fault(\"no_charge\")\n",
    "    def dynamic_behavior(self,time):\n",
    "        if self.m.in_mode(\"standby\"):     \n",
    "            self.ee.s.put(v = 0.0, a=0.0)\n",
    "            if self.control.s.power==1: self.m.set_mode(\"supply\")\n",
    "        elif self.m.in_mode(\"charge\"):    \n",
    "            self.s.charge =min(self.s.charge+self.t.dt, 20.0)\n",
    "        elif self.m.in_mode(\"supply\"):\n",
    "            if self.s.charge > 0:         \n",
    "                self.ee.s.v = 12.0\n",
    "                self.s.charge -= self.t.dt\n",
    "            else: self.m.set_mode(\"no_charge\")\n",
    "            if self.control.s.power==0: \n",
    "                self.m.set_mode(\"standby\")\n",
    "        elif self.m.in_mode(\"short\"):     \n",
    "            self.ee.s.v = 100.0\n",
    "            self.s.charge = 0.0\n",
    "        elif self.m.in_mode(\"no_charge\"): \n",
    "            self.ee.s.v=0.0 \n",
    "            self.s.charge = 0.0"
   ]
  },
  {
   "cell_type": "markdown",
   "metadata": {},
   "source": [
    "The `Store_Energy` function has both a static behavior and a dynamic behavior. In this case, the static behavior enables the propagation of an adverse current from the drive system to damage the battery instantaneously, (instead of over several timesteps).\n",
    "\n",
    "We've also set a *local timestep* dt=0.5, which simulates the 'dynamic_behavior' twice as often as fxngraph. This could be used to enable higher-grained behaviors for dt<tstep or lower simulation costs for dt>tstep--in this case, the expected behaviors are not expected to change."
   ]
  },
  {
   "cell_type": "code",
   "execution_count": 9,
   "metadata": {
    "execution": {
     "iopub.execute_input": "2023-07-06T18:32:02.419357Z",
     "iopub.status.busy": "2023-07-06T18:32:02.419357Z",
     "iopub.status.idle": "2023-07-06T18:32:02.432691Z",
     "shell.execute_reply": "2023-07-06T18:32:02.432691Z"
    }
   },
   "outputs": [],
   "source": [
    "class ForceState(State):\n",
    "    transfer:  float=1.0\n",
    "    magnitude: float=1.0\n",
    "class Force(Flow):\n",
    "    _init_s = ForceState\n",
    "class VideoState(State):\n",
    "    line:  float=0.0\n",
    "    angle: float=0.0\n",
    "class Video(Flow):\n",
    "    _init_s = VideoState\n",
    "        \n",
    "class Rover(Model):\n",
    "    default_sp = {'times':(0,60), 'phases':(('start',1,30), ('end',31, 60))}\n",
    "    def __init__(self, **kwargs):\n",
    "        super().__init__(**kwargs)\n",
    "        \n",
    "        self.add_flow('ground',  Ground)\n",
    "        self.add_flow('force',   Force)\n",
    "        self.add_flow('ee',      EE)\n",
    "        self.add_flow('video',   Video)\n",
    "        self.add_flow('control', Control)\n",
    "        self.add_flow('comms',   Flow) #{'x':0,'y':0}\n",
    "        \n",
    "        self.add_fxn(\"control_rover\", ControlRover, \"video\",\"comms\", \"ee\", \"control\",\"force\")\n",
    "        self.add_fxn(\"store_energy\",  StoreEnergy,  \"ee\", \"force\", \"control\")\n",
    "        self.add_fxn(\"move_rover\",    MoveRover, \"ground\",\"force\",\"ee\", \"control\")\n",
    "        self.add_fxn(\"view_ground\",   FxnBlock, \"ground\", \"ee\", \"video\",\"force\")\n",
    "        self.add_fxn(\"communicate\",   FxnBlock, \"comms\", \"ee\",\"force\")\n",
    "        self.build()\n",
    "rover_pos = {'control_rover': [-0.017014983401385075, 0.8197778602536954],\n",
    " 'move_rover': [0.1943738434915952, -0.5118219332727401],\n",
    " 'store_energy': [-0.256309000069049, -0.004117688709924516],\n",
    " 'view_ground': [-0.7869889764273651, 0.47147713497270827],\n",
    " 'communicate': [0.5107674237596388, 0.4117119127760298],\n",
    " 'ground': [-0.7803536309752367, -0.4502200140852195],\n",
    " 'force': [0.4327741966569625, 0.13966361395868865],\n",
    " 'ee': [-0.6981138376424448, 0.13829658866345518],\n",
    " 'video': [-0.49486453723245205, 0.698244546263499],\n",
    " 'control': [0.11615283552311584, -0.1842023746850714],\n",
    " 'comms': [0.3373143873188402, 0.6507526319915691]}\n",
    "        "
   ]
  },
  {
   "cell_type": "markdown",
   "metadata": {},
   "source": [
    "### Graph Visualization"
   ]
  },
  {
   "cell_type": "markdown",
   "metadata": {},
   "source": [
    "Without defining anything about the simulation itself, the containment relationships between the model structures can be visualized using `ModelGraph`, `ModelFlowGraph`, `ModelFxnGraph`, and `ModelTypeGraph`."
   ]
  },
  {
   "cell_type": "code",
   "execution_count": 10,
   "metadata": {
    "execution": {
     "iopub.execute_input": "2023-07-06T18:32:02.434627Z",
     "iopub.status.busy": "2023-07-06T18:32:02.434627Z",
     "iopub.status.idle": "2023-07-06T18:32:02.447844Z",
     "shell.execute_reply": "2023-07-06T18:32:02.447844Z"
    }
   },
   "outputs": [],
   "source": [
    "from fmdtools.analyze.graph import ModelGraph, ModelFlowGraph, ModelFxnGraph, ModelTypeGraph"
   ]
  },
  {
   "cell_type": "code",
   "execution_count": 11,
   "metadata": {
    "execution": {
     "iopub.execute_input": "2023-07-06T18:32:02.449923Z",
     "iopub.status.busy": "2023-07-06T18:32:02.449923Z",
     "iopub.status.idle": "2023-07-06T18:32:02.637726Z",
     "shell.execute_reply": "2023-07-06T18:32:02.637726Z"
    }
   },
   "outputs": [
    {
     "name": "stderr",
     "output_type": "stream",
     "text": [
      "c:\\users\\dhulse\\documents\\github\\fmdtools\\fmdtools\\define\\block.py:67: UserWarning: these flows sent from model ['video', 'comms', 'ee', 'force'] not added to class <class '__main__.ControlRover'>\n",
      "  warnings.warn(\"these flows sent from model \"+str([*flows.keys()])+\" not added to class \"+str(obj.__class__))\n",
      "c:\\users\\dhulse\\documents\\github\\fmdtools\\fmdtools\\define\\block.py:67: UserWarning: these flows sent from model ['force'] not added to class <class '__main__.StoreEnergy'>\n",
      "  warnings.warn(\"these flows sent from model \"+str([*flows.keys()])+\" not added to class \"+str(obj.__class__))\n",
      "c:\\users\\dhulse\\documents\\github\\fmdtools\\fmdtools\\define\\block.py:67: UserWarning: these flows sent from model ['force'] not added to class <class '__main__.MoveRover'>\n",
      "  warnings.warn(\"these flows sent from model \"+str([*flows.keys()])+\" not added to class \"+str(obj.__class__))\n",
      "c:\\users\\dhulse\\documents\\github\\fmdtools\\fmdtools\\define\\block.py:67: UserWarning: these flows sent from model ['ground', 'ee', 'video', 'force'] not added to class <class 'fmdtools.define.block.FxnBlock'>\n",
      "  warnings.warn(\"these flows sent from model \"+str([*flows.keys()])+\" not added to class \"+str(obj.__class__))\n",
      "c:\\users\\dhulse\\documents\\github\\fmdtools\\fmdtools\\define\\block.py:67: UserWarning: these flows sent from model ['comms', 'ee', 'force'] not added to class <class 'fmdtools.define.block.FxnBlock'>\n",
      "  warnings.warn(\"these flows sent from model \"+str([*flows.keys()])+\" not added to class \"+str(obj.__class__))\n"
     ]
    },
    {
     "data": {
      "image/png": "[encoded data removed]",
      "text/plain": [
       "<Figure size 1200x1000 with 1 Axes>"
      ]
     },
     "metadata": {},
     "output_type": "display_data"
    }
   ],
   "source": [
    "mdl = Rover()\n",
    "mtg = ModelTypeGraph(mdl)\n",
    "fig, ax =mtg.draw()"
   ]
  },
  {
   "cell_type": "markdown",
   "metadata": {},
   "source": [
    "As shown, because the class for `view ground` and `communicate` are undefined, they are shown here as both instantiations of the `FxnBlock` class, which does not simulate. Additionally, `Force`, `Ground`, `Video` and `Flow` (used for comms) are left dangling since they aren't actually connected to anything.\n",
    "\n",
    "\n",
    "This same structure can also be visualized using the `graphviz` and `pyviz` renderers, as shown below."
   ]
  },
  {
   "cell_type": "code",
   "execution_count": 12,
   "metadata": {
    "execution": {
     "iopub.execute_input": "2023-07-06T18:32:02.639732Z",
     "iopub.status.busy": "2023-07-06T18:32:02.639732Z",
     "iopub.status.idle": "2023-07-06T18:32:03.349494Z",
     "shell.execute_reply": "2023-07-06T18:32:03.348485Z"
    }
   },
   "outputs": [
    {
     "ename": "AttributeError",
     "evalue": "'ModuleNotFoundError' object has no attribute 'message'",
     "output_type": "error",
     "traceback": [
      "\u001b[1;31m---------------------------------------------------------------------------\u001b[0m",
      "\u001b[1;31mModuleNotFoundError\u001b[0m                       Traceback (most recent call last)",
      "File \u001b[1;32mc:\\users\\dhulse\\documents\\github\\fmdtools\\fmdtools\\analyze\\graph.py:1235\u001b[0m, in \u001b[0;36mgv_import_check\u001b[1;34m()\u001b[0m\n\u001b[0;32m   1234\u001b[0m \u001b[38;5;28;01mtry\u001b[39;00m:\n\u001b[1;32m-> 1235\u001b[0m     \u001b[38;5;28;01mfrom\u001b[39;00m \u001b[38;5;21;01mgraphviz\u001b[39;00m \u001b[38;5;28;01mimport\u001b[39;00m Digraph, Graph\n\u001b[0;32m   1236\u001b[0m \u001b[38;5;28;01mexcept\u001b[39;00m \u001b[38;5;167;01mImportError\u001b[39;00m \u001b[38;5;28;01mas\u001b[39;00m error:\n",
      "\u001b[1;31mModuleNotFoundError\u001b[0m: No module named 'graphviz'",
      "\nDuring handling of the above exception, another exception occurred:\n",
      "\u001b[1;31mAttributeError\u001b[0m                            Traceback (most recent call last)",
      "Cell \u001b[1;32mIn[12], line 1\u001b[0m\n\u001b[1;32m----> 1\u001b[0m dot \u001b[38;5;241m=\u001b[39m\u001b[43mmtg\u001b[49m\u001b[38;5;241;43m.\u001b[39;49m\u001b[43mdraw_graphviz\u001b[49m\u001b[43m(\u001b[49m\u001b[43m)\u001b[49m\n",
      "File \u001b[1;32mc:\\users\\dhulse\\documents\\github\\fmdtools\\fmdtools\\analyze\\graph.py:1737\u001b[0m, in \u001b[0;36mModelTypeGraph.draw_graphviz\u001b[1;34m(self, layout, ranksep, **kwargs)\u001b[0m\n\u001b[0;32m   1736\u001b[0m \u001b[38;5;28;01mdef\u001b[39;00m \u001b[38;5;21mdraw_graphviz\u001b[39m(\u001b[38;5;28mself\u001b[39m, layout\u001b[38;5;241m=\u001b[39m\u001b[38;5;124m\"\u001b[39m\u001b[38;5;124mdot\u001b[39m\u001b[38;5;124m\"\u001b[39m, ranksep\u001b[38;5;241m=\u001b[39m\u001b[38;5;124m'\u001b[39m\u001b[38;5;124m2.0\u001b[39m\u001b[38;5;124m'\u001b[39m, \u001b[38;5;241m*\u001b[39m\u001b[38;5;241m*\u001b[39mkwargs):\n\u001b[1;32m-> 1737\u001b[0m     \u001b[38;5;28;01mreturn\u001b[39;00m \u001b[38;5;28msuper\u001b[39m()\u001b[38;5;241m.\u001b[39mdraw_graphviz(layout\u001b[38;5;241m=\u001b[39mlayout, ranksep\u001b[38;5;241m=\u001b[39mranksep, \u001b[38;5;241m*\u001b[39m\u001b[38;5;241m*\u001b[39mkwargs)\n",
      "File \u001b[1;32mc:\\users\\dhulse\\documents\\github\\fmdtools\\fmdtools\\analyze\\graph.py:1563\u001b[0m, in \u001b[0;36mModelGraph.draw_graphviz\u001b[1;34m(self, layout, overlap, **kwargs)\u001b[0m\n\u001b[0;32m   1562\u001b[0m \u001b[38;5;28;01mdef\u001b[39;00m \u001b[38;5;21mdraw_graphviz\u001b[39m(\u001b[38;5;28mself\u001b[39m, layout\u001b[38;5;241m=\u001b[39m\u001b[38;5;124m\"\u001b[39m\u001b[38;5;124mtwopi\u001b[39m\u001b[38;5;124m\"\u001b[39m, overlap\u001b[38;5;241m=\u001b[39m\u001b[38;5;124m'\u001b[39m\u001b[38;5;124mvoronoi\u001b[39m\u001b[38;5;124m'\u001b[39m, \u001b[38;5;241m*\u001b[39m\u001b[38;5;241m*\u001b[39mkwargs):\n\u001b[1;32m-> 1563\u001b[0m     \u001b[38;5;28;01mreturn\u001b[39;00m \u001b[38;5;28msuper\u001b[39m()\u001b[38;5;241m.\u001b[39mdraw_graphviz(layout\u001b[38;5;241m=\u001b[39mlayout, overlap\u001b[38;5;241m=\u001b[39moverlap, \u001b[38;5;241m*\u001b[39m\u001b[38;5;241m*\u001b[39mkwargs)\n",
      "File \u001b[1;32mc:\\users\\dhulse\\documents\\github\\fmdtools\\fmdtools\\analyze\\graph.py:777\u001b[0m, in \u001b[0;36mGraph.draw_graphviz\u001b[1;34m(self, filename, filetype, **kwargs)\u001b[0m\n\u001b[0;32m    757\u001b[0m \u001b[38;5;250m\u001b[39m\u001b[38;5;124;03m\"\"\"\u001b[39;00m\n\u001b[0;32m    758\u001b[0m \u001b[38;5;124;03mDraws the graph using pygraphviz for publication-quality figures.\u001b[39;00m\n\u001b[0;32m    759\u001b[0m \u001b[38;5;124;03m\u001b[39;00m\n\u001b[1;32m   (...)\u001b[0m\n\u001b[0;32m    774\u001b[0m \u001b[38;5;124;03m    Graph object corresponding to the figure.\u001b[39;00m\n\u001b[0;32m    775\u001b[0m \u001b[38;5;124;03m\"\"\"\u001b[39;00m\n\u001b[0;32m    776\u001b[0m \u001b[38;5;28;01mfrom\u001b[39;00m \u001b[38;5;21;01mIPython\u001b[39;00m\u001b[38;5;21;01m.\u001b[39;00m\u001b[38;5;21;01mdisplay\u001b[39;00m \u001b[38;5;28;01mimport\u001b[39;00m display, SVG\n\u001b[1;32m--> 777\u001b[0m Digraph, Graph \u001b[38;5;241m=\u001b[39m \u001b[43mgv_import_check\u001b[49m\u001b[43m(\u001b[49m\u001b[43m)\u001b[49m\n\u001b[0;32m    778\u001b[0m dot \u001b[38;5;241m=\u001b[39m Digraph(graph_attr\u001b[38;5;241m=\u001b[39mkwargs)\n\u001b[0;32m    780\u001b[0m \u001b[38;5;28;01mfor\u001b[39;00m group, nodes \u001b[38;5;129;01min\u001b[39;00m \u001b[38;5;28mself\u001b[39m\u001b[38;5;241m.\u001b[39mnode_groups\u001b[38;5;241m.\u001b[39mitems():\n",
      "File \u001b[1;32mc:\\users\\dhulse\\documents\\github\\fmdtools\\fmdtools\\analyze\\graph.py:1237\u001b[0m, in \u001b[0;36mgv_import_check\u001b[1;34m()\u001b[0m\n\u001b[0;32m   1235\u001b[0m     \u001b[38;5;28;01mfrom\u001b[39;00m \u001b[38;5;21;01mgraphviz\u001b[39;00m \u001b[38;5;28;01mimport\u001b[39;00m Digraph, Graph\n\u001b[0;32m   1236\u001b[0m \u001b[38;5;28;01mexcept\u001b[39;00m \u001b[38;5;167;01mImportError\u001b[39;00m \u001b[38;5;28;01mas\u001b[39;00m error:\n\u001b[1;32m-> 1237\u001b[0m     \u001b[38;5;28mprint\u001b[39m(error\u001b[38;5;241m.\u001b[39m\u001b[38;5;18m__class__\u001b[39m\u001b[38;5;241m.\u001b[39m\u001b[38;5;18m__name__\u001b[39m \u001b[38;5;241m+\u001b[39m \u001b[38;5;124m\"\u001b[39m\u001b[38;5;124m: \u001b[39m\u001b[38;5;124m\"\u001b[39m \u001b[38;5;241m+\u001b[39m \u001b[43merror\u001b[49m\u001b[38;5;241;43m.\u001b[39;49m\u001b[43mmessage\u001b[49m)\n\u001b[0;32m   1238\u001b[0m     \u001b[38;5;28;01mraise\u001b[39;00m \u001b[38;5;167;01mException\u001b[39;00m(\u001b[38;5;124m\"\u001b[39m\u001b[38;5;124mGraphViz not installed. Please see:\u001b[39m\u001b[38;5;130;01m\\n\u001b[39;00m\u001b[38;5;124m https://pypi.org/project/graphviz/ \u001b[39m\u001b[38;5;130;01m\\n\u001b[39;00m\u001b[38;5;124m https://www.graphviz.org/download/\u001b[39m\u001b[38;5;124m\"\u001b[39m)\n\u001b[0;32m   1239\u001b[0m \u001b[38;5;28;01mreturn\u001b[39;00m Digraph, Graph\n",
      "\u001b[1;31mAttributeError\u001b[0m: 'ModuleNotFoundError' object has no attribute 'message'"
     ]
    }
   ],
   "source": [
    "dot =mtg.draw_graphviz()"
   ]
  },
  {
   "cell_type": "code",
   "execution_count": 13,
   "metadata": {
    "execution": {
     "iopub.execute_input": "2023-06-15T17:22:42.529414Z",
     "iopub.status.busy": "2023-06-15T17:22:42.529414Z",
     "iopub.status.idle": "2023-06-15T17:22:42.607238Z",
     "shell.execute_reply": "2023-06-15T17:22:42.607238Z"
    }
   },
   "outputs": [],
   "source": [
    "n = mtg.draw_pyvis(filename=\"typegraph\", notebook=True)\n",
    "n.show(\"typegraph.html\")"
   ]
  },
  {
   "cell_type": "markdown",
   "metadata": {},
   "source": [
    "By default, `draw` uses `matplotlib` via `networkx`'s built-in plotting functions Other renderers are considered experimental and may not support every interface style argument without bugs.\n",
    "\n",
    "However, `graphviz` is much more fully-featured and often creates nicer-looking plots. The reason it is not used by default (and why `Graph` was not build around it) is that `graphviz` needs to be installed externally. \n",
    "\n",
    "The `pyviz` renderer is even more experimental and `draw_pyviz` only works for looking at model structures and has no function/fault visualization capabilities implemented. However, it produces nice interactive html views which can be quickly modified. "
   ]
  },
  {
   "cell_type": "markdown",
   "metadata": {},
   "source": [
    "## Graph Views"
   ]
  },
  {
   "cell_type": "markdown",
   "metadata": {},
   "source": [
    "While the `ModelTypeGraph` view shows the containtment relationships of the *classes*, the *structural* relationships between the model functions and flows can be viewed using the `ModelFxnGraph`, `ModelFlowGraph` and `ModelGraph` classes, shown below."
   ]
  },
  {
   "cell_type": "code",
   "execution_count": 14,
   "metadata": {
    "execution": {
     "iopub.execute_input": "2023-06-15T17:22:42.607238Z",
     "iopub.status.busy": "2023-06-15T17:22:42.607238Z",
     "iopub.status.idle": "2023-06-15T17:22:42.829494Z",
     "shell.execute_reply": "2023-06-15T17:22:42.829494Z"
    }
   },
   "outputs": [],
   "source": [
    "mfg = ModelFxnGraph(mdl)\n",
    "fig, ax = mfg.draw()"
   ]
  },
  {
   "cell_type": "markdown",
   "metadata": {},
   "source": [
    "Note the limitations with this representation. Specifically, flows mapped onto edges may duplicated each other (notice, for example, how many edges are listed with the `ee` flow! This \n",
    "- makes it difficult to visualize how multiple nodes are connected through the same flow \n",
    "- makes it difficult to label edges (since each edge may have a number of flows on it)\n",
    "- leads to many edge overlaps\n",
    "\n",
    "The `ModelFlowGraph` is similarly limited:"
   ]
  },
  {
   "cell_type": "code",
   "execution_count": 15,
   "metadata": {
    "execution": {
     "iopub.execute_input": "2023-06-15T17:22:42.829494Z",
     "iopub.status.busy": "2023-06-15T17:22:42.829494Z",
     "iopub.status.idle": "2023-06-15T17:22:43.107036Z",
     "shell.execute_reply": "2023-06-15T17:22:43.107036Z"
    }
   },
   "outputs": [],
   "source": [
    "mfg = ModelFlowGraph(mdl)\n",
    "fig, ax = mfg.draw()"
   ]
  },
  {
   "cell_type": "markdown",
   "metadata": {},
   "source": [
    "As a result, we usually use the standard `ModelGraph` class, which captures the full bipartite structure of models--where both functions and flows are nodes in the graph. "
   ]
  },
  {
   "cell_type": "code",
   "execution_count": 16,
   "metadata": {
    "execution": {
     "iopub.execute_input": "2023-06-15T17:22:43.109106Z",
     "iopub.status.busy": "2023-06-15T17:22:43.109106Z",
     "iopub.status.idle": "2023-06-15T17:22:43.453893Z",
     "shell.execute_reply": "2023-06-15T17:22:43.453893Z"
    }
   },
   "outputs": [],
   "source": [
    "mg = ModelGraph(mdl)\n",
    "mg.set_pos(**rover_pos)\n",
    "fig, ax = mg.draw()"
   ]
  },
  {
   "cell_type": "markdown",
   "metadata": {},
   "source": [
    "Note that these types are also compatible with pyviz/graphviz. Graphviz output can be customized using options for the renderer (see http://www.graphviz.org/doc/info/attrs.html for all options)\n",
    "\n",
    "For example:"
   ]
  },
  {
   "cell_type": "code",
   "execution_count": 17,
   "metadata": {
    "execution": {
     "iopub.execute_input": "2023-06-15T17:22:43.453893Z",
     "iopub.status.busy": "2023-06-15T17:22:43.453893Z",
     "iopub.status.idle": "2023-06-15T17:22:43.554027Z",
     "shell.execute_reply": "2023-06-15T17:22:43.554027Z"
    }
   },
   "outputs": [],
   "source": [
    "dot = mg.draw_graphviz(layout='neato', overlap=\"voronoi\")"
   ]
  },
  {
   "cell_type": "markdown",
   "metadata": {},
   "source": [
    "Note: the pyviz renderer does not support the \"fxngraph\" graph view"
   ]
  },
  {
   "cell_type": "code",
   "execution_count": 18,
   "metadata": {
    "execution": {
     "iopub.execute_input": "2023-06-15T17:22:43.554027Z",
     "iopub.status.busy": "2023-06-15T17:22:43.554027Z",
     "iopub.status.idle": "2023-06-15T17:22:43.585231Z",
     "shell.execute_reply": "2023-06-15T17:22:43.585231Z"
    }
   },
   "outputs": [],
   "source": [
    "n = mg.draw_pyvis(filename=\"modelgraph\", notebook=True)"
   ]
  },
  {
   "cell_type": "markdown",
   "metadata": {},
   "source": [
    "when using the nodebook option, use show:"
   ]
  },
  {
   "cell_type": "code",
   "execution_count": 19,
   "metadata": {
    "execution": {
     "iopub.execute_input": "2023-06-15T17:22:43.585231Z",
     "iopub.status.busy": "2023-06-15T17:22:43.585231Z",
     "iopub.status.idle": "2023-06-15T17:22:43.600882Z",
     "shell.execute_reply": "2023-06-15T17:22:43.600882Z"
    }
   },
   "outputs": [],
   "source": [
    "n.show(\"modelgraph.html\")"
   ]
  },
  {
   "cell_type": "markdown",
   "metadata": {},
   "source": [
    "## Run Order\n",
    "To specify the run order of this model, the `add_fxn` method is used. The order of the call defines the run order of each instantiated function (`Control_Rover` -> `Move_Rover` -> `Store_Energy` ->  `View_Ground` -> `Communicate_Externally`).\n",
    "\n",
    "In addition to the functions which have been defined here, this model additionally has a number of functions which have not been defined (and will thus not execute). We can overlay these execution characteristics onto the graph using `ModelGraph.set_exec_order`."
   ]
  },
  {
   "cell_type": "code",
   "execution_count": 20,
   "metadata": {
    "execution": {
     "iopub.execute_input": "2023-06-15T17:22:43.600882Z",
     "iopub.status.busy": "2023-06-15T17:22:43.600882Z",
     "iopub.status.idle": "2023-06-15T17:22:43.616491Z",
     "shell.execute_reply": "2023-06-15T17:22:43.616491Z"
    }
   },
   "outputs": [],
   "source": [
    "help(ModelGraph.set_exec_order)"
   ]
  },
  {
   "cell_type": "code",
   "execution_count": 21,
   "metadata": {
    "execution": {
     "iopub.execute_input": "2023-06-15T17:22:43.616491Z",
     "iopub.status.busy": "2023-06-15T17:22:43.616491Z",
     "iopub.status.idle": "2023-06-15T17:22:44.006188Z",
     "shell.execute_reply": "2023-06-15T17:22:44.006188Z"
    }
   },
   "outputs": [],
   "source": [
    "mg.set_exec_order(mdl)\n",
    "fig, ax = mg.draw()"
   ]
  },
  {
   "cell_type": "markdown",
   "metadata": {},
   "source": [
    "As shown, functions and flows active in the static propagation step are highlighted in cyan while the functions in the dynamic propagation step are shown (or given a border) in teal. Functions without behaviors are shown in light grey, and the run order of the dynamic propagation step is shown as numbers under the corresponding functions.\n",
    "\n",
    "Additionally, by default the local timestep `dt` is labelled so we can see if/how it deviates from the overall model timestep--see, for example, the `Store_Energy` function.\n",
    "\n",
    "In addition, `an.plot.dyn_order` can be used to visualize the dynamic propagation step."
   ]
  },
  {
   "cell_type": "code",
   "execution_count": 22,
   "metadata": {
    "execution": {
     "iopub.execute_input": "2023-06-15T17:22:44.006188Z",
     "iopub.status.busy": "2023-06-15T17:22:44.006188Z",
     "iopub.status.idle": "2023-06-15T17:22:44.186718Z",
     "shell.execute_reply": "2023-06-15T17:22:44.186718Z"
    }
   },
   "outputs": [],
   "source": [
    "an.plot.dyn_order(mdl)"
   ]
  },
  {
   "cell_type": "markdown",
   "metadata": {},
   "source": [
    "This plot shows that the dynamic execution step runs in the order defined in the `Model` module: first, Control_Rover, then, Store_Energy, and finally Move_Rover (reading left-to-right in the upper axis). The plot additionally shows which flows correspond to these function as it progresses through execution, which enables some understanding of which data structures are used or acted on at each execution time. "
   ]
  },
  {
   "cell_type": "markdown",
   "metadata": {},
   "source": [
    "## Behavior/Fault Visualization"
   ]
  },
  {
   "cell_type": "markdown",
   "metadata": {},
   "source": [
    "To verify the static propagation of the `short` mode in the `move_rover` function, we can view the results of that scenario. As was set up, the intention of using the static propagation step was to enable the resulting fault behavior (a spike in current followed by a loss of charge) to occur in a single timestep.\n",
    "\n",
    "In general, one can plot the effects of faults over time, using methods in `plot`, as shown below."
   ]
  },
  {
   "cell_type": "code",
   "execution_count": 23,
   "metadata": {
    "execution": {
     "iopub.execute_input": "2023-06-15T17:22:44.186718Z",
     "iopub.status.busy": "2023-06-15T17:22:44.186718Z",
     "iopub.status.idle": "2023-06-15T17:22:44.233548Z",
     "shell.execute_reply": "2023-06-15T17:22:44.233548Z"
    }
   },
   "outputs": [],
   "source": [
    "result, mdlhist = prop.one_fault(mdl, \"move_rover\", \"short\", 10, desired_result='graph')"
   ]
  },
  {
   "cell_type": "code",
   "execution_count": 24,
   "metadata": {
    "execution": {
     "iopub.execute_input": "2023-06-15T17:22:44.233548Z",
     "iopub.status.busy": "2023-06-15T17:22:44.233548Z",
     "iopub.status.idle": "2023-06-15T17:22:44.250332Z",
     "shell.execute_reply": "2023-06-15T17:22:44.250332Z"
    }
   },
   "outputs": [],
   "source": [
    "result.graph"
   ]
  },
  {
   "cell_type": "code",
   "execution_count": 25,
   "metadata": {
    "execution": {
     "iopub.execute_input": "2023-06-15T17:22:44.250332Z",
     "iopub.status.busy": "2023-06-15T17:22:44.250332Z",
     "iopub.status.idle": "2023-06-15T17:22:44.803415Z",
     "shell.execute_reply": "2023-06-15T17:22:44.803415Z"
    }
   },
   "outputs": [],
   "source": [
    "fig, axs = an.plot.hist(mdlhist, \n",
    "                        'flows.ee.s.v', \n",
    "                        'flows.ee.s.a', \n",
    "                        'flows.control.s.power',\n",
    "                        'flows.control.s.vel',\n",
    "                        'fxns.store_energy.s.charge', \n",
    "                        'store_energy.m.mode',\n",
    "                        'move_rover.s.power', time_slice=10)"
   ]
  },
  {
   "cell_type": "markdown",
   "metadata": {},
   "source": [
    "As shown, the static propagation step enables the mode to propagate back to the `store_energy` function (causing the `no_charge` fault) in the same timestep it is injected, even though it occurs later in the propagation order. \n",
    "\n",
    "However, because the voltage and current output behaviors for the function are defined in the `dynamic_behavior` method of the `store_energy` function, these are only updated to their final value (of zero) at the next step. While this enables some visualization of the current spike, it may keep faults and behaviors from further propagating through the functions as desired. Thus, to enable this, one might reallocate some of the behaviors from the `dynamic_behavior` method to the `static_behavior` method."
   ]
  },
  {
   "cell_type": "markdown",
   "metadata": {},
   "source": [
    "### Visualizing time-slices"
   ]
  },
  {
   "cell_type": "markdown",
   "metadata": {},
   "source": [
    "Contained in the `result` output in `propagate.one_fault` is the `graph` specified in `desired_result`, which is a graph (multiple types may be provided). When output from `propagate` the Resgraph is by default given state information for each function/flow, as well as `degraded` and `faulty` properties which correlate with whether the `State` values deviate from those in the nominal.\n",
    "\n",
    "Note that by default there are three main classifications for functions/flows visualized in this type of plot:\n",
    "- red: faulty function. Notes that the function is in a fault mode\n",
    "- orange: degraded function/flow. Nodes that the values of the flow or states of the function are *different* from the nominal scenario. Note that this is different than saying the values represent a problem, since contingency actions are also different between the nominal and faulty runs.\n",
    "- grey: nominal function/flow. This notes that there is nothing different between the nominal and faulty run in that function or flow. \n",
    "\n",
    "These styles may be changed at will."
   ]
  },
  {
   "cell_type": "code",
   "execution_count": 26,
   "metadata": {
    "execution": {
     "iopub.execute_input": "2023-06-15T17:22:44.803415Z",
     "iopub.status.busy": "2023-06-15T17:22:44.803415Z",
     "iopub.status.idle": "2023-06-15T17:22:45.189023Z",
     "shell.execute_reply": "2023-06-15T17:22:45.189023Z"
    }
   },
   "outputs": [],
   "source": [
    "result.graph.set_pos(**rover_pos)\n",
    "fig, ax = result.graph.draw()"
   ]
  },
  {
   "cell_type": "code",
   "execution_count": 27,
   "metadata": {
    "execution": {
     "iopub.execute_input": "2023-06-15T17:22:45.189023Z",
     "iopub.status.busy": "2023-06-15T17:22:45.189023Z",
     "iopub.status.idle": "2023-06-15T17:22:45.252000Z",
     "shell.execute_reply": "2023-06-15T17:22:45.252000Z"
    }
   },
   "outputs": [],
   "source": [
    "dot = result.graph.draw_graphviz()"
   ]
  },
  {
   "cell_type": "markdown",
   "metadata": {},
   "source": [
    "The `resgraph` only gives the state of the model at the final state. We might instead want to visualize the graph at different given times. This is performed with `Graph.draw_from`:"
   ]
  },
  {
   "cell_type": "code",
   "execution_count": 28,
   "metadata": {
    "execution": {
     "iopub.execute_input": "2023-06-15T17:22:45.252000Z",
     "iopub.status.busy": "2023-06-15T17:22:45.252000Z",
     "iopub.status.idle": "2023-06-15T17:22:45.274126Z",
     "shell.execute_reply": "2023-06-15T17:22:45.274126Z"
    }
   },
   "outputs": [],
   "source": [
    "help(ModelGraph.draw_from)"
   ]
  },
  {
   "cell_type": "code",
   "execution_count": 29,
   "metadata": {
    "execution": {
     "iopub.execute_input": "2023-06-15T17:22:45.274126Z",
     "iopub.status.busy": "2023-06-15T17:22:45.274126Z",
     "iopub.status.idle": "2023-06-15T17:22:45.629734Z",
     "shell.execute_reply": "2023-06-15T17:22:45.629734Z"
    }
   },
   "outputs": [],
   "source": [
    "rmg = ModelGraph(mdl)\n",
    "rmg.set_pos(**rover_pos)\n",
    "fig, ax = rmg.draw_from(5, mdlhist)"
   ]
  },
  {
   "cell_type": "code",
   "execution_count": 30,
   "metadata": {
    "execution": {
     "iopub.execute_input": "2023-06-15T17:22:45.629734Z",
     "iopub.status.busy": "2023-06-15T17:22:45.629734Z",
     "iopub.status.idle": "2023-06-15T17:22:46.021411Z",
     "shell.execute_reply": "2023-06-15T17:22:46.021411Z"
    }
   },
   "outputs": [],
   "source": [
    "fig, ax = rmg.draw_from(10, mdlhist)"
   ]
  },
  {
   "cell_type": "code",
   "execution_count": 31,
   "metadata": {
    "execution": {
     "iopub.execute_input": "2023-06-15T17:22:46.023463Z",
     "iopub.status.busy": "2023-06-15T17:22:46.023463Z",
     "iopub.status.idle": "2023-06-15T17:22:46.430867Z",
     "shell.execute_reply": "2023-06-15T17:22:46.430867Z"
    }
   },
   "outputs": [],
   "source": [
    "fig, ax = rmg.draw_from(25, mdlhist)"
   ]
  },
  {
   "cell_type": "markdown",
   "metadata": {},
   "source": [
    "This can can be done automatically over a number of different times using `Graph.animate_from`:"
   ]
  },
  {
   "cell_type": "code",
   "execution_count": 32,
   "metadata": {
    "execution": {
     "iopub.execute_input": "2023-06-15T17:22:46.432920Z",
     "iopub.status.busy": "2023-06-15T17:22:46.432920Z",
     "iopub.status.idle": "2023-06-15T17:22:46.451533Z",
     "shell.execute_reply": "2023-06-15T17:22:46.451533Z"
    }
   },
   "outputs": [],
   "source": [
    "help(ModelGraph.animate_from)"
   ]
  },
  {
   "cell_type": "code",
   "execution_count": 33,
   "metadata": {
    "execution": {
     "iopub.execute_input": "2023-06-15T17:22:46.453589Z",
     "iopub.status.busy": "2023-06-15T17:22:46.453589Z",
     "iopub.status.idle": "2023-06-15T17:22:46.472208Z",
     "shell.execute_reply": "2023-06-15T17:22:46.472208Z"
    }
   },
   "outputs": [],
   "source": [
    "ani = rmg.animate_from(mdlhist)"
   ]
  },
  {
   "cell_type": "code",
   "execution_count": 34,
   "metadata": {
    "execution": {
     "iopub.execute_input": "2023-06-15T17:22:46.474261Z",
     "iopub.status.busy": "2023-06-15T17:22:46.474261Z",
     "iopub.status.idle": "2023-06-15T17:23:01.076990Z",
     "shell.execute_reply": "2023-06-15T17:23:01.076990Z"
    }
   },
   "outputs": [],
   "source": [
    "from IPython.display import HTML\n",
    "HTML(ani.to_jshtml())"
   ]
  }
 ],
 "metadata": {
  "kernelspec": {
   "display_name": "Python 3 (ipykernel)",
   "language": "python",
   "name": "python3"
  },
  "language_info": {
   "codemirror_mode": {
    "name": "ipython",
    "version": 3
   },
   "file_extension": ".py",
   "mimetype": "text/x-python",
   "name": "python",
   "nbconvert_exporter": "python",
   "pygments_lexer": "ipython3",
   "version": "3.10.9"
  },
  "vscode": {
   "interpreter": {
    "hash": "e91384d516de244e8027664e7296e7623a911fd9d79a3021d1ef03e3e53e2456"
   }
  }
 },
 "nbformat": 4,
 "nbformat_minor": 4
}
