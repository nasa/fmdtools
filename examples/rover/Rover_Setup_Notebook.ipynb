{
 "cells": [
  {
   "cell_type": "markdown",
   "metadata": {},
   "source": [
    "# Rover Model Explanation and Preliminaries\n",
    "\n",
    "This notebook covers the setup of a lane-following rover fault model for understanding the effects of faults in AI-driven systems. This model uses the fmdtools simulation toolkit to simulate the nominal and faulty behaviors of the rover over a set of fault scenarios and classify/assess risk."
   ]
  },
  {
   "cell_type": "code",
   "execution_count": 1,
   "metadata": {
    "execution": {
     "iopub.execute_input": "2023-06-09T23:38:11.143421Z",
     "iopub.status.busy": "2023-06-09T23:38:11.143421Z",
     "iopub.status.idle": "2023-06-09T23:38:12.330696Z",
     "shell.execute_reply": "2023-06-09T23:38:12.329682Z"
    }
   },
   "outputs": [],
   "source": [
    "import fmdtools.analyze as an\n",
    "import fmdtools.sim.propagate as prop\n",
    "import numpy as np\n",
    "import matplotlib.pyplot as plt\n",
    "import multiprocessing as mp"
   ]
  },
  {
   "cell_type": "markdown",
   "metadata": {},
   "source": [
    "This model is defined in `rover_model.py`.\n",
    "- `Rover` is the class defining the model, \n",
    "- `gen_params` is a function used to generate model parameters (given design variables), and \n",
    "- `plot_map` is used to visualize the trajectory of the rover over time"
   ]
  },
  {
   "cell_type": "code",
   "execution_count": 2,
   "metadata": {
    "execution": {
     "iopub.execute_input": "2023-06-09T23:38:12.333674Z",
     "iopub.status.busy": "2023-06-09T23:38:12.333674Z",
     "iopub.status.idle": "2023-06-09T23:38:12.833297Z",
     "shell.execute_reply": "2023-06-09T23:38:12.832295Z"
    }
   },
   "outputs": [
    {
     "ename": "ImportError",
     "evalue": "cannot import name 'gen_params' from 'rover_model' (C:\\Users\\dhulse\\Documents\\GitHub\\fmdtools\\examples\\rover\\rover_model.py)",
     "output_type": "error",
     "traceback": [
      "\u001b[1;31m---------------------------------------------------------------------------\u001b[0m",
      "\u001b[1;31mImportError\u001b[0m                               Traceback (most recent call last)",
      "\u001b[1;32m~\\AppData\\Local\\Temp\\1/ipykernel_20428/947193376.py\u001b[0m in \u001b[0;36m<module>\u001b[1;34m\u001b[0m\n\u001b[1;32m----> 1\u001b[1;33m \u001b[1;32mfrom\u001b[0m \u001b[0mrover_model\u001b[0m \u001b[1;32mimport\u001b[0m \u001b[0mRover\u001b[0m\u001b[1;33m,\u001b[0m \u001b[0mgen_params\u001b[0m\u001b[1;33m,\u001b[0m \u001b[0mplot_map\u001b[0m\u001b[1;33m,\u001b[0m \u001b[0mplot_trajectories\u001b[0m\u001b[1;33m\u001b[0m\u001b[1;33m\u001b[0m\u001b[0m\n\u001b[0m",
      "\u001b[1;31mImportError\u001b[0m: cannot import name 'gen_params' from 'rover_model' (C:\\Users\\dhulse\\Documents\\GitHub\\fmdtools\\examples\\rover\\rover_model.py)"
     ]
    }
   ],
   "source": [
    "from rover_model import Rover, gen_params, plot_map, plot_trajectories"
   ]
  },
  {
   "cell_type": "markdown",
   "metadata": {},
   "source": [
    "## Model Setup"
   ]
  },
  {
   "cell_type": "code",
   "execution_count": 3,
   "metadata": {},
   "outputs": [],
   "source": [
    "mdl = Rover()"
   ]
  },
  {
   "cell_type": "code",
   "execution_count": 4,
   "metadata": {},
   "outputs": [],
   "source": [
    "#%matplotlib qt\n",
    "#an.graph.set_pos(mdl, gtype='fxnflowgraph')"
   ]
  },
  {
   "cell_type": "markdown",
   "metadata": {},
   "source": [
    "The functions and flows of the model are shown below, and were taken from the design of the system:"
   ]
  },
  {
   "cell_type": "code",
   "execution_count": 5,
   "metadata": {},
   "outputs": [],
   "source": [
    "an.graph.show(mdl, gtype='fxnflowgraph')"
   ]
  },
  {
   "cell_type": "markdown",
   "metadata": {},
   "source": [
    "The functions are:\n",
    "- `Operator`, the operator of the rover who turns it on/off and takes control if needed (not fully implemented)\n",
    "- `Power`, the battery and power supply\n",
    "- `Communications`, the radio used to relay back position/etc. to the operator\n",
    "- `Avionics`, the computer/control system which determines where to direct the given position information\n",
    "- `Override`, the system that enables the operator to control the rover instead\n",
    "- `Perception`, the camera/AI system which percieves the ground and then (not fully implemented)\n",
    "- `Environment`, which defines the lines and/or changes to the environment based on environmental conditions and/or the movement of the system\n",
    "\n",
    "The flows are:\n",
    "- `Control`, the physical interactions between the operator and the rover (i.e. on/off)\n",
    "- `Comms`, the communications between the operator and the rover (position, video, etc.)\n",
    "- `OverrideComms`, the communications between the operator and the \n",
    "- `Pos_Signal`, the rover's internal idea of its position and velocity\n",
    "- `EE5`, `EE12`, `EE15`, the electrical power provided by the  battery\n",
    "- `AvionicsControl`, the contol signals from the avionics to the drive system\n",
    "- `Video`, the video feed/signal from the camera to the avionics\n",
    "- `MotorControl`, the control signals to the drive system(s)\n",
    "- `Ground`, the real position of the rover and the ground/environment/etc."
   ]
  },
  {
   "cell_type": "markdown",
   "metadata": {},
   "source": [
    "The model is presently a mixed static/dynamic propagation model in which most function behaviors propagate over time, except for the power system, which propagates in a dynamic step. This may change depending on the necessity to model interactions between these systems. This is shown below."
   ]
  },
  {
   "cell_type": "code",
   "execution_count": 6,
   "metadata": {},
   "outputs": [],
   "source": [
    "an.graph.exec_order(mdl, gtype='fxnflowgraph')"
   ]
  },
  {
   "cell_type": "markdown",
   "metadata": {},
   "source": [
    "The run order for this model is additionally shown below."
   ]
  },
  {
   "cell_type": "code",
   "execution_count": 7,
   "metadata": {},
   "outputs": [],
   "source": [
    "an.plot.dyn_order(mdl, rotateticks=True)"
   ]
  },
  {
   "cell_type": "markdown",
   "metadata": {},
   "source": [
    "## Model simulation\n",
    "\n",
    "Currently, the model can be simulated in a few situations for lane-tracking: a sine wave and a 90-degree turn.\n",
    "\n",
    "Below shows the 90-degree turn. As shown, the centerline tracking is not perfect, with a fairly large deviation in distance (current limit for viewing the line in the model is 1 meter). This should be controlled in the future by lowering the timestep (enabling more corrections) or enabling some reduction to velocity when going around corners."
   ]
  },
  {
   "cell_type": "code",
   "execution_count": 8,
   "metadata": {},
   "outputs": [],
   "source": [
    "mdl = Rover(params=gen_params('turn'))\n",
    "endresults, mdlhist = prop.nominal(mdl)\n",
    "plot_map(mdl, mdlhist)"
   ]
  },
  {
   "cell_type": "code",
   "execution_count": 9,
   "metadata": {},
   "outputs": [],
   "source": [
    "mdlhist['time']"
   ]
  },
  {
   "cell_type": "markdown",
   "metadata": {},
   "source": [
    "Below shows the sine wave. As shown, this curve has a relatively low amplitude (see the y-axis), which results in low tracking error."
   ]
  },
  {
   "cell_type": "code",
   "execution_count": 10,
   "metadata": {},
   "outputs": [],
   "source": [
    "mdl = Rover(params=gen_params('sine'))\n",
    "endresults, mdlhist = prop.nominal(mdl)\n",
    "plot_map(mdl, mdlhist)"
   ]
  },
  {
   "cell_type": "code",
   "execution_count": 11,
   "metadata": {},
   "outputs": [],
   "source": [
    "mdlhist['time']"
   ]
  },
  {
   "cell_type": "markdown",
   "metadata": {},
   "source": [
    "The performance of the rover in these situations is dependent on the parameters of the situation (e.g., the radius of the curve and the amplitude of the sine wave). Thus, it is important to define the operational envelope for the system. This can be done using a `NominalApproach`, which can be used to define ranges of variables to simulate the system under."
   ]
  },
  {
   "cell_type": "code",
   "execution_count": 12,
   "metadata": {},
   "outputs": [],
   "source": [
    "from fmdtools.sim.approach import NominalApproach"
   ]
  },
  {
   "cell_type": "markdown",
   "metadata": {},
   "source": [
    "In this approach we define parameter ranges for the two major situations--a wavelength and amplitude for the sine wave, and a radius and start location for the turn."
   ]
  },
  {
   "cell_type": "code",
   "execution_count": 13,
   "metadata": {},
   "outputs": [],
   "source": [
    "app = NominalApproach()\n",
    "app.add_param_ranges(gen_params,'sine', 'sine', amp=(0, 8, 0.2), wavelength=(10,50,10))\n",
    "app.add_param_ranges(gen_params,'turn','turn', radius=(5,40,5), start=(0, 20,5))"
   ]
  },
  {
   "cell_type": "code",
   "execution_count": 14,
   "metadata": {},
   "outputs": [],
   "source": [
    "app"
   ]
  },
  {
   "cell_type": "markdown",
   "metadata": {},
   "source": [
    "This approach can then be run using `prop.nominal_approach`"
   ]
  },
  {
   "cell_type": "code",
   "execution_count": 15,
   "metadata": {},
   "outputs": [],
   "source": [
    "endclasses, mdlhists= prop.nominal_approach(mdl, app, pool = mp.Pool(5))"
   ]
  },
  {
   "cell_type": "markdown",
   "metadata": {},
   "source": [
    "We can then use these results to visualize the operational envelope for the system--which sets of parameters lead to the system getting lost/going off track, and which sets of parameters the system is capable of accomodating."
   ]
  },
  {
   "cell_type": "code",
   "execution_count": 16,
   "metadata": {},
   "outputs": [],
   "source": [
    "fig = an.plot.nominal_vals_2d(app, endclasses, 'amp', 'wavelength', nomlabel='True', metric='at_finish')"
   ]
  },
  {
   "cell_type": "markdown",
   "metadata": {},
   "source": [
    "As shown, if the amplitude of the sine curve is too high at low wavelength, it causes the rover to go off track and not be able to complete the mission."
   ]
  },
  {
   "cell_type": "code",
   "execution_count": 17,
   "metadata": {},
   "outputs": [],
   "source": [
    "fig = an.plot.nominal_vals_2d(app, endclasses, 'radius', 'start', nomlabel='True', metric='at_finish')"
   ]
  },
  {
   "cell_type": "markdown",
   "metadata": {},
   "source": [
    "Similarly, if the radius of the curve is too small, it can additionally lead to the rover going off course by overshooting the curve."
   ]
  },
  {
   "cell_type": "code",
   "execution_count": 18,
   "metadata": {},
   "outputs": [],
   "source": [
    "fig = plot_trajectories({k:v for k,v in mdlhists.items() if k[0:4]=='sine'})"
   ]
  },
  {
   "cell_type": "code",
   "execution_count": 19,
   "metadata": {},
   "outputs": [],
   "source": [
    "fig = plot_trajectories({k:v for k,v in mdlhists.items() if k[0:4]=='turn'})"
   ]
  },
  {
   "cell_type": "code",
   "execution_count": 20,
   "metadata": {},
   "outputs": [],
   "source": [
    "[s for s,v in app.scenarios.items() if (v.inputparams.get('wavelength','')==40 and v.inputparams.get('amp','')==9)]"
   ]
  },
  {
   "cell_type": "code",
   "execution_count": 21,
   "metadata": {},
   "outputs": [],
   "source": [
    "mdlhist"
   ]
  },
  {
   "cell_type": "code",
   "execution_count": null,
   "metadata": {},
   "outputs": [],
   "source": []
  }
 ],
 "metadata": {
  "kernelspec": {
   "display_name": "Python 3 (ipykernel)",
   "language": "python",
   "name": "python3"
  },
  "language_info": {
   "codemirror_mode": {
    "name": "ipython",
    "version": 3
   },
   "file_extension": ".py",
   "mimetype": "text/x-python",
   "name": "python",
   "nbconvert_exporter": "python",
   "pygments_lexer": "ipython3",
   "version": "3.9.7"
  }
 },
 "nbformat": 4,
 "nbformat_minor": 4
}
