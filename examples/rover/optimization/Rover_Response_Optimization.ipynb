{
 "cells": [
  {
   "cell_type": "markdown",
   "metadata": {},
   "source": [
    "# Rover Response Optimization\n",
    "\n",
    "This notebook shows how variables in an fmdtools model can be optimized for resilience."
   ]
  },
  {
   "cell_type": "code",
   "execution_count": 1,
   "metadata": {
    "execution": {
     "iopub.execute_input": "2023-06-09T23:38:30.715632Z",
     "iopub.status.busy": "2023-06-09T23:38:30.715632Z",
     "iopub.status.idle": "2023-06-09T23:38:31.910984Z",
     "shell.execute_reply": "2023-06-09T23:38:31.909982Z"
    }
   },
   "outputs": [],
   "source": [
    "from fmdtools.sim.approach import SampleApproach\n",
    "import fmdtools.analyze as an\n",
    "import fmdtools.sim.propagate as prop\n",
    "import fmdtools.sim.search as search\n",
    "import matplotlib.pyplot as plt\n",
    "import multiprocessing as mp\n",
    "import time"
   ]
  },
  {
   "cell_type": "markdown",
   "metadata": {},
   "source": [
    "Model is in defined rover_model.py"
   ]
  },
  {
   "cell_type": "code",
   "execution_count": 2,
   "metadata": {
    "execution": {
     "iopub.execute_input": "2023-06-09T23:38:31.917966Z",
     "iopub.status.busy": "2023-06-09T23:38:31.916969Z",
     "iopub.status.idle": "2023-06-09T23:38:32.386162Z",
     "shell.execute_reply": "2023-06-09T23:38:32.385208Z"
    }
   },
   "outputs": [
    {
     "ename": "ModuleNotFoundError",
     "evalue": "No module named 'rover_model'",
     "output_type": "error",
     "traceback": [
      "\u001b[1;31m---------------------------------------------------------------------------\u001b[0m",
      "\u001b[1;31mModuleNotFoundError\u001b[0m                       Traceback (most recent call last)",
      "\u001b[1;32m~\\AppData\\Local\\Temp\\1/ipykernel_9680/947193376.py\u001b[0m in \u001b[0;36m<module>\u001b[1;34m\u001b[0m\n\u001b[1;32m----> 1\u001b[1;33m \u001b[1;32mfrom\u001b[0m \u001b[0mrover_model\u001b[0m \u001b[1;32mimport\u001b[0m \u001b[0mRover\u001b[0m\u001b[1;33m,\u001b[0m \u001b[0mgen_params\u001b[0m\u001b[1;33m,\u001b[0m \u001b[0mplot_map\u001b[0m\u001b[1;33m,\u001b[0m \u001b[0mplot_trajectories\u001b[0m\u001b[1;33m\u001b[0m\u001b[1;33m\u001b[0m\u001b[0m\n\u001b[0m",
      "\u001b[1;31mModuleNotFoundError\u001b[0m: No module named 'rover_model'"
     ]
    }
   ],
   "source": [
    "from rover_model import Rover, gen_params, plot_map, plot_trajectories"
   ]
  },
  {
   "cell_type": "markdown",
   "metadata": {},
   "source": [
    "## Optimization\n",
    "\n",
    "Here we define the optimization problem for the rover.\n",
    "\n",
    "We use a parallel pool, staged execution, and minimal tracking options to lower computational cost as much as possible."
   ]
  },
  {
   "cell_type": "code",
   "execution_count": 6,
   "metadata": {},
   "outputs": [],
   "source": [
    "mdl = Rover()\n",
    "mdl.modelparams['end_condition']=''\n",
    "track={'functions':{\"Environment\":\"in_bound\"},'flows':{\"Ground\":\"all\"}}\n",
    "rover_prob = search.ProblemInterface(\"rover_problem\", mdl, pool=mp.Pool(5), staged=True, track=track)"
   ]
  },
  {
   "cell_type": "code",
   "execution_count": 7,
   "metadata": {},
   "outputs": [],
   "source": [
    "mdl.params"
   ]
  },
  {
   "cell_type": "markdown",
   "metadata": {},
   "source": [
    "Here we will be optimizing over faults in the drive system at 3 points during the drive simulation interval:"
   ]
  },
  {
   "cell_type": "code",
   "execution_count": 8,
   "metadata": {},
   "outputs": [],
   "source": [
    "app_drive = SampleApproach(mdl, faults='Drive', phases={'global':[0,39]}, defaultsamp={'samp':'evenspacing','numpts':3})\n",
    "rover_prob.add_simulation(\"drive_faults\", \"multi\", app_drive.scenlist)"
   ]
  },
  {
   "cell_type": "markdown",
   "metadata": {},
   "source": [
    "The variables are the correction factors int the fault management: "
   ]
  },
  {
   "cell_type": "code",
   "execution_count": 9,
   "metadata": {},
   "outputs": [],
   "source": [
    "rover_prob.add_variables(\"drive_faults\", (\"cor_f\", (-10,100)), (\"cor_d\", (-100, 100)), (\"cor_t\", (-10,100)), vartype=\"param\")"
   ]
  },
  {
   "cell_type": "markdown",
   "metadata": {},
   "source": [
    "We can define multiple objectives, below we will use the end distance from find_classification. "
   ]
  },
  {
   "cell_type": "code",
   "execution_count": 10,
   "metadata": {},
   "outputs": [],
   "source": [
    "rover_prob.add_objectives(\"drive_faults\", end_dist=\"end_dist\", tot_deviation=\"tot_deviation\")"
   ]
  },
  {
   "cell_type": "markdown",
   "metadata": {},
   "source": [
    "Here we do some basic timing:"
   ]
  },
  {
   "cell_type": "code",
   "execution_count": 11,
   "metadata": {},
   "outputs": [],
   "source": [
    "rover_prob.end_dist([0.5,0.5,0.5])\n",
    "a=time.time()\n",
    "rover_prob.end_dist([0.6,0.5,0.5])\n",
    "t=time.time()-a"
   ]
  },
  {
   "cell_type": "code",
   "execution_count": 12,
   "metadata": {},
   "outputs": [],
   "source": [
    "t"
   ]
  },
  {
   "cell_type": "markdown",
   "metadata": {},
   "source": [
    "Alternatively, we can use:"
   ]
  },
  {
   "cell_type": "code",
   "execution_count": 13,
   "metadata": {},
   "outputs": [],
   "source": [
    "rover_prob.time_sims([0.7,0.5,0.5])"
   ]
  },
  {
   "cell_type": "code",
   "execution_count": 14,
   "metadata": {},
   "outputs": [],
   "source": [
    "rover_prob"
   ]
  },
  {
   "cell_type": "markdown",
   "metadata": {},
   "source": [
    "### Rover Optimization: "
   ]
  },
  {
   "cell_type": "code",
   "execution_count": 15,
   "metadata": {},
   "outputs": [],
   "source": [
    "from pymoo.optimize import minimize\n",
    "from pymoo.algorithms.soo.nonconvex.pattern import PatternSearch\n",
    "import numpy as np"
   ]
  },
  {
   "cell_type": "code",
   "execution_count": 16,
   "metadata": {},
   "outputs": [],
   "source": [
    "pymoo_prob = rover_prob.to_pymoo_problem(objectives=\"end_dist\")"
   ]
  },
  {
   "cell_type": "code",
   "execution_count": 17,
   "metadata": {},
   "outputs": [],
   "source": [
    "arg={}\n",
    "pymoo_prob._evaluate([1,1,2],arg)"
   ]
  },
  {
   "cell_type": "code",
   "execution_count": 18,
   "metadata": {},
   "outputs": [],
   "source": [
    "arg"
   ]
  },
  {
   "cell_type": "code",
   "execution_count": 19,
   "metadata": {},
   "outputs": [],
   "source": [
    "algorithm=PatternSearch(x0=np.array([0,0,0])) "
   ]
  },
  {
   "cell_type": "code",
   "execution_count": 31,
   "metadata": {},
   "outputs": [],
   "source": [
    "res = minimize(pymoo_prob, algorithm, verbose=True)"
   ]
  },
  {
   "cell_type": "code",
   "execution_count": 32,
   "metadata": {},
   "outputs": [],
   "source": [
    "res.X"
   ]
  },
  {
   "cell_type": "markdown",
   "metadata": {},
   "source": [
    "### Results visualization\n",
    "\n",
    "Here we look at the optimized results and compare with the starting results:"
   ]
  },
  {
   "cell_type": "code",
   "execution_count": 34,
   "metadata": {},
   "outputs": [],
   "source": [
    "rover_prob.end_dist([   0.65790489, -100.        ,   -1.45828247])"
   ]
  },
  {
   "cell_type": "code",
   "execution_count": 35,
   "metadata": {},
   "outputs": [],
   "source": [
    "fig = plot_trajectories(rover_prob._sims['drive_faults']['mdlhists'], app= app_drive)"
   ]
  },
  {
   "cell_type": "code",
   "execution_count": 39,
   "metadata": {},
   "outputs": [],
   "source": [
    "an.plot.mdlhists(rover_prob._sims['drive_faults']['mdlhists'], fxnflowvals=\"Ground\", time_slice=app_drive.times)"
   ]
  },
  {
   "cell_type": "code",
   "execution_count": 40,
   "metadata": {},
   "outputs": [],
   "source": [
    "ecs = {k: v['endclass'] for k, v in rover_prob._sims['drive_faults']['results'].items()}\n",
    "fig = an.plot.metric_dist(ecs, 'end_dist')"
   ]
  },
  {
   "cell_type": "markdown",
   "metadata": {},
   "source": [
    "starting solution:"
   ]
  },
  {
   "cell_type": "code",
   "execution_count": 41,
   "metadata": {},
   "outputs": [],
   "source": [
    "rover_prob.end_dist([0,0,0])"
   ]
  },
  {
   "cell_type": "code",
   "execution_count": 42,
   "metadata": {},
   "outputs": [],
   "source": [
    "fig = plot_trajectories(rover_prob._sims['drive_faults']['mdlhists'], app= app_drive)"
   ]
  },
  {
   "cell_type": "code",
   "execution_count": 43,
   "metadata": {},
   "outputs": [],
   "source": [
    "ecs = {k: v['endclass'] for k, v in rover_prob._sims['drive_faults']['results'].items()}\n",
    "fig = an.plot.metric_dist(ecs, 'end_dist')"
   ]
  },
  {
   "cell_type": "markdown",
   "metadata": {},
   "source": [
    "As shown, while the optimized correction factors don't mitigate all scenarios, they do increase the number of scenarios that are mitigated."
   ]
  },
  {
   "cell_type": "code",
   "execution_count": null,
   "metadata": {},
   "outputs": [],
   "source": []
  }
 ],
 "metadata": {
  "kernelspec": {
   "display_name": "Python 3 (ipykernel)",
   "language": "python",
   "name": "python3"
  },
  "language_info": {
   "codemirror_mode": {
    "name": "ipython",
    "version": 3
   },
   "file_extension": ".py",
   "mimetype": "text/x-python",
   "name": "python",
   "nbconvert_exporter": "python",
   "pygments_lexer": "ipython3",
   "version": "3.9.7"
  }
 },
 "nbformat": 4,
 "nbformat_minor": 4
}
