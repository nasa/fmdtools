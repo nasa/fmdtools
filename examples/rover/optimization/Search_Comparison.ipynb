{
 "cells": [
  {
   "cell_type": "markdown",
   "id": "bf6994cc",
   "metadata": {},
   "source": [
    "# Faulty State-Space Search Method Comparison\n",
    "\n",
    "The goal of this notebook is to demonstrate the performance of evolutionary search methods on the hazard elicitation problem. The methods to compare are:\n",
    "- monte_carlo (a random search)\n",
    "- evolutionary algorithm\n",
    "- cooperative coevolutionary algorithm\n",
    "\n",
    "These methods have been coded up using the ``deap`` simulation package in ``search_rover.py``. "
   ]
  },
  {
   "cell_type": "code",
   "execution_count": 1,
   "id": "04d3eb04",
   "metadata": {
    "execution": {
     "iopub.execute_input": "2023-06-15T17:23:31.040813Z",
     "iopub.status.busy": "2023-06-15T17:23:31.040813Z",
     "iopub.status.idle": "2023-06-15T17:23:32.256508Z",
     "shell.execute_reply": "2023-06-15T17:23:32.256508Z"
    }
   },
   "outputs": [],
   "source": [
    "from search_rover import *\n",
    "import pandas as pd"
   ]
  },
  {
   "cell_type": "markdown",
   "id": "fb029e08",
   "metadata": {},
   "source": [
    "An experiment can be run calling the following methods:"
   ]
  },
  {
   "cell_type": "code",
   "execution_count": 2,
   "id": "c63fd5d8",
   "metadata": {
    "execution": {
     "iopub.execute_input": "2023-06-15T17:23:32.258639Z",
     "iopub.status.busy": "2023-06-15T17:23:32.258639Z",
     "iopub.status.idle": "2023-06-15T17:26:49.867976Z",
     "shell.execute_reply": "2023-06-15T17:26:49.866978Z"
    }
   },
   "outputs": [
    {
     "name": "stdout",
     "output_type": "stream",
     "text": [
      "MC PERFORMANCE:\n"
     ]
    },
    {
     "name": "stderr",
     "output_type": "stream",
     "text": [
      "\r",
      "  0%|          | 0/50 [00:00<?, ?it/s]"
     ]
    },
    {
     "name": "stderr",
     "output_type": "stream",
     "text": [
      "\r",
      "  2%|▏         | 1/50 [00:04<03:22,  4.13s/it]"
     ]
    },
    {
     "name": "stderr",
     "output_type": "stream",
     "text": [
      "\r",
      "  4%|▍         | 2/50 [00:07<03:04,  3.85s/it]"
     ]
    },
    {
     "name": "stderr",
     "output_type": "stream",
     "text": [
      "\r",
      "  6%|▌         | 3/50 [00:11<03:01,  3.87s/it]"
     ]
    },
    {
     "name": "stderr",
     "output_type": "stream",
     "text": [
      "\r",
      "  8%|▊         | 4/50 [00:15<02:58,  3.89s/it]"
     ]
    },
    {
     "name": "stderr",
     "output_type": "stream",
     "text": [
      "\r",
      " 10%|█         | 5/50 [00:19<02:54,  3.87s/it]"
     ]
    },
    {
     "name": "stderr",
     "output_type": "stream",
     "text": [
      "\r",
      " 12%|█▏        | 6/50 [00:23<02:55,  3.99s/it]"
     ]
    },
    {
     "name": "stderr",
     "output_type": "stream",
     "text": [
      "\r",
      " 14%|█▍        | 7/50 [00:27<02:52,  4.02s/it]"
     ]
    },
    {
     "name": "stderr",
     "output_type": "stream",
     "text": [
      "\r",
      " 16%|█▌        | 8/50 [00:31<02:46,  3.96s/it]"
     ]
    },
    {
     "name": "stderr",
     "output_type": "stream",
     "text": [
      "\r",
      " 18%|█▊        | 9/50 [00:35<02:42,  3.96s/it]"
     ]
    },
    {
     "name": "stderr",
     "output_type": "stream",
     "text": [
      "\r",
      " 20%|██        | 10/50 [00:39<02:35,  3.89s/it]"
     ]
    },
    {
     "name": "stderr",
     "output_type": "stream",
     "text": [
      "\r",
      " 22%|██▏       | 11/50 [00:43<02:34,  3.96s/it]"
     ]
    },
    {
     "name": "stderr",
     "output_type": "stream",
     "text": [
      "\r",
      " 24%|██▍       | 12/50 [00:47<02:32,  4.00s/it]"
     ]
    },
    {
     "name": "stderr",
     "output_type": "stream",
     "text": [
      "\r",
      " 26%|██▌       | 13/50 [00:51<02:27,  3.99s/it]"
     ]
    },
    {
     "name": "stderr",
     "output_type": "stream",
     "text": [
      "\r",
      " 28%|██▊       | 14/50 [00:55<02:21,  3.94s/it]"
     ]
    },
    {
     "name": "stderr",
     "output_type": "stream",
     "text": [
      "\r",
      " 30%|███       | 15/50 [00:59<02:18,  3.94s/it]"
     ]
    },
    {
     "name": "stderr",
     "output_type": "stream",
     "text": [
      "\r",
      " 32%|███▏      | 16/50 [01:03<02:13,  3.93s/it]"
     ]
    },
    {
     "name": "stderr",
     "output_type": "stream",
     "text": [
      "\r",
      " 34%|███▍      | 17/50 [01:07<02:11,  3.98s/it]"
     ]
    },
    {
     "name": "stderr",
     "output_type": "stream",
     "text": [
      "\r",
      " 36%|███▌      | 18/50 [01:11<02:06,  3.94s/it]"
     ]
    },
    {
     "name": "stderr",
     "output_type": "stream",
     "text": [
      "\r",
      " 38%|███▊      | 19/50 [01:14<02:01,  3.92s/it]"
     ]
    },
    {
     "name": "stderr",
     "output_type": "stream",
     "text": [
      "\r",
      " 40%|████      | 20/50 [01:18<01:57,  3.91s/it]"
     ]
    },
    {
     "name": "stderr",
     "output_type": "stream",
     "text": [
      "\r",
      " 42%|████▏     | 21/50 [01:22<01:54,  3.95s/it]"
     ]
    },
    {
     "name": "stderr",
     "output_type": "stream",
     "text": [
      "\r",
      " 44%|████▍     | 22/50 [01:26<01:49,  3.93s/it]"
     ]
    },
    {
     "name": "stderr",
     "output_type": "stream",
     "text": [
      "\r",
      " 46%|████▌     | 23/50 [01:30<01:46,  3.95s/it]"
     ]
    },
    {
     "name": "stderr",
     "output_type": "stream",
     "text": [
      "\r",
      " 48%|████▊     | 24/50 [01:34<01:41,  3.90s/it]"
     ]
    },
    {
     "name": "stderr",
     "output_type": "stream",
     "text": [
      "\r",
      " 50%|█████     | 25/50 [01:38<01:37,  3.90s/it]"
     ]
    },
    {
     "name": "stderr",
     "output_type": "stream",
     "text": [
      "\r",
      " 52%|█████▏    | 26/50 [01:42<01:34,  3.94s/it]"
     ]
    },
    {
     "name": "stderr",
     "output_type": "stream",
     "text": [
      "\r",
      " 54%|█████▍    | 27/50 [01:46<01:30,  3.93s/it]"
     ]
    },
    {
     "name": "stderr",
     "output_type": "stream",
     "text": [
      "\r",
      " 56%|█████▌    | 28/50 [01:50<01:26,  3.92s/it]"
     ]
    },
    {
     "name": "stderr",
     "output_type": "stream",
     "text": [
      "\r",
      " 58%|█████▊    | 29/50 [01:54<01:23,  3.99s/it]"
     ]
    },
    {
     "name": "stderr",
     "output_type": "stream",
     "text": [
      "\r",
      " 60%|██████    | 30/50 [01:58<01:19,  3.96s/it]"
     ]
    },
    {
     "name": "stderr",
     "output_type": "stream",
     "text": [
      "\r",
      " 62%|██████▏   | 31/50 [02:02<01:15,  3.99s/it]"
     ]
    },
    {
     "name": "stderr",
     "output_type": "stream",
     "text": [
      "\r",
      " 64%|██████▍   | 32/50 [02:06<01:11,  3.99s/it]"
     ]
    },
    {
     "name": "stderr",
     "output_type": "stream",
     "text": [
      "\r",
      " 66%|██████▌   | 33/50 [02:10<01:07,  3.95s/it]"
     ]
    },
    {
     "name": "stderr",
     "output_type": "stream",
     "text": [
      "\r",
      " 68%|██████▊   | 34/50 [02:14<01:03,  3.94s/it]"
     ]
    },
    {
     "name": "stderr",
     "output_type": "stream",
     "text": [
      "\r",
      " 70%|███████   | 35/50 [02:18<00:59,  3.98s/it]"
     ]
    },
    {
     "name": "stderr",
     "output_type": "stream",
     "text": [
      "\r",
      " 72%|███████▏  | 36/50 [02:21<00:54,  3.90s/it]"
     ]
    },
    {
     "name": "stderr",
     "output_type": "stream",
     "text": [
      "\r",
      " 74%|███████▍  | 37/50 [02:25<00:49,  3.82s/it]"
     ]
    },
    {
     "name": "stderr",
     "output_type": "stream",
     "text": [
      "\r",
      " 76%|███████▌  | 38/50 [02:29<00:46,  3.85s/it]"
     ]
    },
    {
     "name": "stderr",
     "output_type": "stream",
     "text": [
      "\r",
      " 78%|███████▊  | 39/50 [02:33<00:42,  3.87s/it]"
     ]
    },
    {
     "name": "stderr",
     "output_type": "stream",
     "text": [
      "\r",
      " 80%|████████  | 40/50 [02:37<00:38,  3.87s/it]"
     ]
    },
    {
     "name": "stderr",
     "output_type": "stream",
     "text": [
      "\r",
      " 82%|████████▏ | 41/50 [02:41<00:34,  3.88s/it]"
     ]
    },
    {
     "name": "stderr",
     "output_type": "stream",
     "text": [
      "\r",
      " 84%|████████▍ | 42/50 [02:44<00:31,  3.88s/it]"
     ]
    },
    {
     "name": "stderr",
     "output_type": "stream",
     "text": [
      "\r",
      " 86%|████████▌ | 43/50 [02:48<00:27,  3.90s/it]"
     ]
    },
    {
     "name": "stderr",
     "output_type": "stream",
     "text": [
      "\r",
      " 88%|████████▊ | 44/50 [02:52<00:23,  3.92s/it]"
     ]
    },
    {
     "name": "stderr",
     "output_type": "stream",
     "text": [
      "\r",
      " 90%|█████████ | 45/50 [02:56<00:19,  3.96s/it]"
     ]
    },
    {
     "name": "stderr",
     "output_type": "stream",
     "text": [
      "\r",
      " 92%|█████████▏| 46/50 [03:00<00:15,  3.90s/it]"
     ]
    },
    {
     "name": "stderr",
     "output_type": "stream",
     "text": [
      "\r",
      " 94%|█████████▍| 47/50 [03:04<00:11,  3.97s/it]"
     ]
    },
    {
     "name": "stderr",
     "output_type": "stream",
     "text": [
      "\r",
      " 96%|█████████▌| 48/50 [03:08<00:08,  4.01s/it]"
     ]
    },
    {
     "name": "stderr",
     "output_type": "stream",
     "text": [
      "\r",
      " 98%|█████████▊| 49/50 [03:12<00:03,  3.99s/it]"
     ]
    },
    {
     "name": "stderr",
     "output_type": "stream",
     "text": [
      "\r",
      "100%|██████████| 50/50 [03:16<00:00,  4.02s/it]"
     ]
    },
    {
     "name": "stderr",
     "output_type": "stream",
     "text": [
      "\r",
      "100%|██████████| 50/50 [03:16<00:00,  3.94s/it]"
     ]
    },
    {
     "name": "stderr",
     "output_type": "stream",
     "text": [
      "\n"
     ]
    },
    {
     "name": "stdout",
     "output_type": "stream",
     "text": [
      "Best Fitness: 8.227302382858275\n"
     ]
    },
    {
     "ename": "TypeError",
     "evalue": "__init__() got an unexpected keyword argument 'params'",
     "output_type": "error",
     "traceback": [
      "\u001b[1;31m---------------------------------------------------------------------------\u001b[0m",
      "\u001b[1;31mTypeError\u001b[0m                                 Traceback (most recent call last)",
      "\u001b[1;32m~\\AppData\\Local\\Temp\\1/ipykernel_19128/2259828233.py\u001b[0m in \u001b[0;36m<module>\u001b[1;34m\u001b[0m\n\u001b[1;32m----> 1\u001b[1;33m \u001b[0mresult_mc\u001b[0m\u001b[1;33m,\u001b[0m \u001b[0msol_mc\u001b[0m\u001b[1;33m=\u001b[0m \u001b[0mmontecarlo\u001b[0m\u001b[1;33m(\u001b[0m\u001b[0mngen\u001b[0m\u001b[1;33m=\u001b[0m\u001b[1;36m50\u001b[0m\u001b[1;33m,\u001b[0m \u001b[0mweight\u001b[0m\u001b[1;33m=\u001b[0m\u001b[1;36m0.5\u001b[0m\u001b[1;33m,\u001b[0m \u001b[0mfilename\u001b[0m\u001b[1;33m=\u001b[0m\u001b[1;34m'results/rslt_random.csv'\u001b[0m\u001b[1;33m)\u001b[0m\u001b[1;33m\u001b[0m\u001b[1;33m\u001b[0m\u001b[0m\n\u001b[0m\u001b[0;32m      2\u001b[0m \u001b[0mresult_ea\u001b[0m\u001b[1;33m,\u001b[0m \u001b[0msol_ea\u001b[0m\u001b[1;33m=\u001b[0m \u001b[0mea\u001b[0m\u001b[1;33m(\u001b[0m\u001b[0mngen\u001b[0m\u001b[1;33m=\u001b[0m\u001b[1;36m50\u001b[0m\u001b[1;33m,\u001b[0m \u001b[0mweight\u001b[0m\u001b[1;33m=\u001b[0m\u001b[1;36m0.5\u001b[0m\u001b[1;33m,\u001b[0m \u001b[0mfilename\u001b[0m\u001b[1;33m=\u001b[0m\u001b[1;34m'results/rslt_ea.csv'\u001b[0m\u001b[1;33m)\u001b[0m\u001b[1;33m\u001b[0m\u001b[1;33m\u001b[0m\u001b[0m\n\u001b[0;32m      3\u001b[0m \u001b[0mresult_ccea\u001b[0m\u001b[1;33m,\u001b[0m \u001b[0msol_ccea\u001b[0m\u001b[1;33m,\u001b[0m \u001b[0mpop\u001b[0m\u001b[1;33m=\u001b[0m \u001b[0mccea\u001b[0m\u001b[1;33m(\u001b[0m\u001b[0mngen\u001b[0m\u001b[1;33m=\u001b[0m\u001b[1;36m50\u001b[0m\u001b[1;33m,\u001b[0m \u001b[0mweight\u001b[0m\u001b[1;33m=\u001b[0m\u001b[1;36m0.5\u001b[0m\u001b[1;33m,\u001b[0m \u001b[0mfilename\u001b[0m\u001b[1;33m=\u001b[0m\u001b[1;34m\"results/rslt_ccea.csv\"\u001b[0m\u001b[1;33m)\u001b[0m\u001b[1;33m\u001b[0m\u001b[1;33m\u001b[0m\u001b[0m\n",
      "\u001b[1;32m~\\Documents\\GitHub\\fmdtools\\examples\\rover\\optimization\\search_rover.py\u001b[0m in \u001b[0;36mmontecarlo\u001b[1;34m(verbose, ngen, show_sol, weight, filename, formulation)\u001b[0m\n\u001b[0;32m    313\u001b[0m \u001b[1;33m\u001b[0m\u001b[0m\n\u001b[0;32m    314\u001b[0m     \u001b[0msoln\u001b[0m \u001b[1;33m=\u001b[0m \u001b[0msol_hist\u001b[0m\u001b[1;33m[\u001b[0m\u001b[1;33m-\u001b[0m\u001b[1;36m1\u001b[0m\u001b[1;33m]\u001b[0m\u001b[1;33m\u001b[0m\u001b[1;33m\u001b[0m\u001b[0m\n\u001b[1;32m--> 315\u001b[1;33m     \u001b[1;32mif\u001b[0m \u001b[0mshow_sol\u001b[0m\u001b[1;33m:\u001b[0m \u001b[0mvisualizations\u001b[0m\u001b[1;33m(\u001b[0m\u001b[0mlist\u001b[0m\u001b[1;33m(\u001b[0m\u001b[0msoln\u001b[0m\u001b[1;33m)\u001b[0m\u001b[1;33m,\u001b[0m \u001b[0mmethod\u001b[0m\u001b[1;33m=\u001b[0m\u001b[1;34m\"MC\"\u001b[0m\u001b[1;33m)\u001b[0m\u001b[1;33m\u001b[0m\u001b[1;33m\u001b[0m\u001b[0m\n\u001b[0m\u001b[0;32m    316\u001b[0m \u001b[1;33m\u001b[0m\u001b[0m\n\u001b[0;32m    317\u001b[0m     \u001b[1;32mreturn\u001b[0m \u001b[0mrslt\u001b[0m\u001b[1;33m,\u001b[0m \u001b[0msoln\u001b[0m\u001b[1;33m\u001b[0m\u001b[1;33m\u001b[0m\u001b[0m\n",
      "\u001b[1;32m~\\Documents\\GitHub\\fmdtools\\examples\\rover\\optimization\\search_rover.py\u001b[0m in \u001b[0;36mvisualizations\u001b[1;34m(soln, method, figsize, ax, legend, xlim, ylim)\u001b[0m\n\u001b[0;32m    547\u001b[0m \u001b[1;32mdef\u001b[0m \u001b[0mvisualizations\u001b[0m\u001b[1;33m(\u001b[0m\u001b[0msoln\u001b[0m\u001b[1;33m,\u001b[0m \u001b[0mmethod\u001b[0m\u001b[1;33m=\u001b[0m\u001b[1;34m\"EA\"\u001b[0m\u001b[1;33m,\u001b[0m \u001b[0mfigsize\u001b[0m\u001b[1;33m=\u001b[0m\u001b[1;33m(\u001b[0m\u001b[1;36m4\u001b[0m\u001b[1;33m,\u001b[0m\u001b[1;36m4\u001b[0m\u001b[1;33m)\u001b[0m\u001b[1;33m,\u001b[0m \u001b[0max\u001b[0m\u001b[1;33m=\u001b[0m\u001b[1;32mFalse\u001b[0m\u001b[1;33m,\u001b[0m \u001b[0mlegend\u001b[0m\u001b[1;33m=\u001b[0m\u001b[1;32mTrue\u001b[0m\u001b[1;33m,\u001b[0m \u001b[0mxlim\u001b[0m\u001b[1;33m=\u001b[0m\u001b[1;33m[\u001b[0m\u001b[1;36m15\u001b[0m\u001b[1;33m,\u001b[0m\u001b[1;36m25\u001b[0m\u001b[1;33m]\u001b[0m\u001b[1;33m,\u001b[0m \u001b[0mylim\u001b[0m\u001b[1;33m=\u001b[0m\u001b[1;33m[\u001b[0m\u001b[1;36m0\u001b[0m\u001b[1;33m,\u001b[0m\u001b[1;36m10\u001b[0m\u001b[1;33m]\u001b[0m\u001b[1;33m)\u001b[0m\u001b[1;33m:\u001b[0m\u001b[1;33m\u001b[0m\u001b[1;33m\u001b[0m\u001b[0m\n\u001b[0;32m    548\u001b[0m \u001b[1;33m\u001b[0m\u001b[0m\n\u001b[1;32m--> 549\u001b[1;33m     \u001b[0mmdl_range\u001b[0m \u001b[1;33m=\u001b[0m \u001b[0mrvr\u001b[0m\u001b[1;33m.\u001b[0m\u001b[0mRover\u001b[0m\u001b[1;33m(\u001b[0m\u001b[0mparams\u001b[0m\u001b[1;33m=\u001b[0m\u001b[0mrvr\u001b[0m\u001b[1;33m.\u001b[0m\u001b[0mRoverParam\u001b[0m\u001b[1;33m(\u001b[0m\u001b[0mlinetype\u001b[0m\u001b[1;33m=\u001b[0m\u001b[1;34m'turn'\u001b[0m\u001b[1;33m,\u001b[0m \u001b[0mstart\u001b[0m\u001b[1;33m=\u001b[0m\u001b[1;36m5.0\u001b[0m\u001b[1;33m)\u001b[0m\u001b[1;33m,\u001b[0m \u001b[0mvalparams\u001b[0m\u001b[1;33m=\u001b[0m\u001b[1;33m{\u001b[0m\u001b[1;34m'drive_modes'\u001b[0m\u001b[1;33m:\u001b[0m\u001b[0mlist\u001b[0m\u001b[1;33m(\u001b[0m\u001b[0msoln\u001b[0m\u001b[1;33m)\u001b[0m\u001b[1;33m}\u001b[0m\u001b[1;33m)\u001b[0m\u001b[1;33m\u001b[0m\u001b[1;33m\u001b[0m\u001b[0m\n\u001b[0m\u001b[0;32m    550\u001b[0m     \u001b[0m_\u001b[0m\u001b[1;33m,\u001b[0m \u001b[0mmdlhists\u001b[0m \u001b[1;33m=\u001b[0m \u001b[0mprop\u001b[0m\u001b[1;33m.\u001b[0m\u001b[0mnominal\u001b[0m\u001b[1;33m(\u001b[0m\u001b[0mmdl_range\u001b[0m\u001b[1;33m)\u001b[0m\u001b[1;33m\u001b[0m\u001b[1;33m\u001b[0m\u001b[0m\n\u001b[0;32m    551\u001b[0m     \u001b[0mphases\u001b[0m\u001b[1;33m,\u001b[0m \u001b[0mmodephases\u001b[0m \u001b[1;33m=\u001b[0m \u001b[0mmdlhists\u001b[0m\u001b[1;33m.\u001b[0m\u001b[0mget_modephases\u001b[0m\u001b[1;33m(\u001b[0m\u001b[1;33m)\u001b[0m\u001b[1;33m\u001b[0m\u001b[1;33m\u001b[0m\u001b[0m\n",
      "\u001b[1;32mc:\\users\\dhulse\\documents\\github\\fmdtools\\examples\\rover\\rover_model.py\u001b[0m in \u001b[0;36m__init__\u001b[1;34m(self, **kwargs)\u001b[0m\n\u001b[0;32m    454\u001b[0m     \u001b[0mdefault_sp\u001b[0m \u001b[1;33m=\u001b[0m \u001b[0mdict\u001b[0m\u001b[1;33m(\u001b[0m\u001b[0mtimes\u001b[0m\u001b[1;33m=\u001b[0m\u001b[1;33m(\u001b[0m\u001b[1;36m0\u001b[0m\u001b[1;33m,\u001b[0m \u001b[1;36m100\u001b[0m\u001b[1;33m)\u001b[0m\u001b[1;33m,\u001b[0m \u001b[0mphases\u001b[0m\u001b[1;33m=\u001b[0m\u001b[1;33m(\u001b[0m\u001b[1;33m(\u001b[0m\u001b[1;34m'start'\u001b[0m\u001b[1;33m,\u001b[0m\u001b[1;36m0\u001b[0m\u001b[1;33m,\u001b[0m \u001b[1;36m30\u001b[0m\u001b[1;33m)\u001b[0m\u001b[1;33m,\u001b[0m \u001b[1;33m(\u001b[0m\u001b[1;34m'end'\u001b[0m\u001b[1;33m,\u001b[0m \u001b[1;36m31\u001b[0m\u001b[1;33m,\u001b[0m \u001b[1;36m60\u001b[0m\u001b[1;33m)\u001b[0m\u001b[1;33m)\u001b[0m\u001b[1;33m,\u001b[0m \u001b[0mend_condition\u001b[0m\u001b[1;33m=\u001b[0m\u001b[1;34m'indicate_finished'\u001b[0m\u001b[1;33m)\u001b[0m\u001b[1;33m\u001b[0m\u001b[1;33m\u001b[0m\u001b[0m\n\u001b[0;32m    455\u001b[0m     \u001b[1;32mdef\u001b[0m \u001b[0m__init__\u001b[0m\u001b[1;33m(\u001b[0m\u001b[0mself\u001b[0m\u001b[1;33m,\u001b[0m \u001b[1;33m**\u001b[0m\u001b[0mkwargs\u001b[0m\u001b[1;33m)\u001b[0m\u001b[1;33m:\u001b[0m\u001b[1;33m\u001b[0m\u001b[1;33m\u001b[0m\u001b[0m\n\u001b[1;32m--> 456\u001b[1;33m         \u001b[0msuper\u001b[0m\u001b[1;33m(\u001b[0m\u001b[1;33m)\u001b[0m\u001b[1;33m.\u001b[0m\u001b[0m__init__\u001b[0m\u001b[1;33m(\u001b[0m\u001b[1;33m**\u001b[0m\u001b[0mkwargs\u001b[0m\u001b[1;33m)\u001b[0m\u001b[1;33m\u001b[0m\u001b[1;33m\u001b[0m\u001b[0m\n\u001b[0m\u001b[0;32m    457\u001b[0m \u001b[1;33m\u001b[0m\u001b[0m\n\u001b[0;32m    458\u001b[0m         \u001b[0mself\u001b[0m\u001b[1;33m.\u001b[0m\u001b[0madd_flow\u001b[0m\u001b[1;33m(\u001b[0m\u001b[1;34m'ground'\u001b[0m\u001b[1;33m,\u001b[0m             \u001b[0mGround\u001b[0m\u001b[1;33m,\u001b[0m \u001b[0ms\u001b[0m\u001b[1;33m=\u001b[0m\u001b[1;33m{\u001b[0m\u001b[1;34m'angle'\u001b[0m\u001b[1;33m:\u001b[0m\u001b[0mself\u001b[0m\u001b[1;33m.\u001b[0m\u001b[0mp\u001b[0m\u001b[1;33m.\u001b[0m\u001b[0minitangle\u001b[0m\u001b[1;33m}\u001b[0m\u001b[1;33m)\u001b[0m\u001b[1;33m\u001b[0m\u001b[1;33m\u001b[0m\u001b[0m\n",
      "\u001b[1;31mTypeError\u001b[0m: __init__() got an unexpected keyword argument 'params'"
     ]
    }
   ],
   "source": [
    "result_mc, sol_mc= montecarlo(ngen=50, weight=0.5, filename='results/rslt_random.csv')\n",
    "result_ea, sol_ea= ea(ngen=50, weight=0.5, filename='results/rslt_ea.csv')\n",
    "result_ccea, sol_ccea, pop= ccea(ngen=50, weight=0.5, filename=\"results/rslt_ccea.csv\")"
   ]
  },
  {
   "cell_type": "markdown",
   "id": "daf9b3c4",
   "metadata": {},
   "source": [
    "Alternatively, we can pull this data from saves:"
   ]
  },
  {
   "cell_type": "code",
   "execution_count": 3,
   "id": "1b923f0c",
   "metadata": {},
   "outputs": [],
   "source": [
    "dfrand = pd.read_csv('results/rslt_random.csv')\n",
    "dfea = pd.read_csv('results/rslt_ea.csv')\n",
    "dfccea = pd.read_csv(\"results/rslt_ccea.csv\")"
   ]
  },
  {
   "cell_type": "markdown",
   "id": "7fe7af56",
   "metadata": {},
   "source": [
    "This shows the computational performance of (one run) of these methods:"
   ]
  },
  {
   "cell_type": "code",
   "execution_count": 4,
   "id": "8f7c5be9",
   "metadata": {},
   "outputs": [],
   "source": [
    "# scatter plot\n",
    "ax = dfea.plot(x='time', y= 'EA Fitness Values',c='r', kind='scatter', label='EA')\n",
    "dfrand.plot(x='time', y='Random Fitness Values', kind='scatter', ax=ax, c='g', label='Monte Carlo')\n",
    "dfccea.plot(x='time', y='CCEA Fitness Values', kind='scatter', ax=ax, c='b', label='CCEA')\n",
    " \n",
    "# set the title\n",
    "\n",
    "plt.ylabel(\"Objective Value\")\n",
    "plt.xlabel(\"Computational Time (s)\")\n",
    "plt.title(\"Search Performance Comparison\")"
   ]
  },
  {
   "cell_type": "code",
   "execution_count": 5,
   "id": "98373ab2",
   "metadata": {},
   "outputs": [],
   "source": [
    "sol_ea = eval(dfea[\"EA Health States\"].iloc[-1])\n",
    "sol_mc = eval(dfrand[\"Random Health States\"].iloc[-1])\n",
    "sol_ccea = eval(dfccea[\"Best_Sol\"].iloc[-1])\n",
    "sols = {\"Monte Carlo\":sol_mc, \"Evolutionary Algorithm\":sol_ea, \"Cooperative Coevolution\":sol_ccea}"
   ]
  },
  {
   "cell_type": "code",
   "execution_count": 6,
   "id": "299d1684",
   "metadata": {},
   "outputs": [],
   "source": [
    "fig = plot_hspaces(sols)"
   ]
  },
  {
   "cell_type": "code",
   "execution_count": 7,
   "id": "5648e065",
   "metadata": {},
   "outputs": [],
   "source": [
    "fig = plot_line_dist(sols)"
   ]
  },
  {
   "cell_type": "code",
   "execution_count": 8,
   "id": "558bb439",
   "metadata": {},
   "outputs": [],
   "source": [
    "fig = plot_trajs(sols)"
   ]
  },
  {
   "cell_type": "markdown",
   "id": "69de268a",
   "metadata": {},
   "source": [
    "## Performance Comparison\n",
    "\n",
    "Comparing algorithm performance over 20 replicates, 100 (50 CCEA) generations,  weight=0.5.\n",
    "\n",
    "Estimated time = 3 mins * 3 types * 20 replicates = 180 minutes (3 hours)."
   ]
  },
  {
   "cell_type": "code",
   "execution_count": 9,
   "id": "1690d375",
   "metadata": {},
   "outputs": [],
   "source": [
    "num_replicates = 20"
   ]
  },
  {
   "cell_type": "code",
   "execution_count": 10,
   "id": "71149e16",
   "metadata": {},
   "outputs": [],
   "source": [
    "for i in range(num_replicates):\n",
    "    result_mc, sol_mc= montecarlo(ngen=100, weight=0.5, filename=\"results/result_mc_\"+str(i)+\".csv\", show_sol=False)\n",
    "    result_ea, sol_ea= ea(ngen=100, weight=0.5, filename=\"results/result_ea_\"+str(i)+\".csv\", show_sol=False)\n",
    "    result_ccea, sol_ccea, pop= ccea(ngen=100, weight=0.5, filename=\"results/result_ccea_\"+str(i)+\".csv\", show_sol=False)"
   ]
  },
  {
   "cell_type": "markdown",
   "id": "80ef0904",
   "metadata": {},
   "source": [
    "Loading results from saves:"
   ]
  },
  {
   "cell_type": "code",
   "execution_count": 11,
   "id": "5a102de0",
   "metadata": {},
   "outputs": [],
   "source": [
    "dfs_mc, dfs_ea, dfs_ccea = [], [], []\n",
    "for i in range(num_replicates):\n",
    "    dfs_mc.append(pd.read_csv(\"results/result_mc_\"+str(i)+\".csv\"))\n",
    "    dfs_ea.append(pd.read_csv(\"results/result_ea_\"+str(i)+\".csv\"))\n",
    "    dfs_ccea.append(pd.read_csv(\"results/result_ccea_\"+str(i)+\".csv\"))"
   ]
  },
  {
   "cell_type": "markdown",
   "id": "369b19c9",
   "metadata": {},
   "source": [
    "Plotting results:"
   ]
  },
  {
   "cell_type": "code",
   "execution_count": 12,
   "id": "0b267151",
   "metadata": {},
   "outputs": [],
   "source": [
    "from matplotlib.lines import Line2D\n",
    "dfs = [dfea, dfrand, dfccea]\n",
    "for i, hist in enumerate(dfs_mc):\n",
    "    plt.plot(hist['time'], hist['Random Fitness Values'], color='green', label=\"MC\", alpha=0.2)\n",
    "    plt.scatter(hist['time'].iloc[-1], hist['Random Fitness Values'].iloc[-1],  color='green', marker=\"*\")\n",
    "for i, hist in enumerate(dfs_ea):\n",
    "    plt.plot(hist['time'], hist['EA Fitness Values'], color='blue', label=\"EA\", alpha=0.2)\n",
    "    plt.scatter(hist['time'].iloc[-1], hist['EA Fitness Values'].iloc[-1],  color='blue', marker=\"*\")\n",
    "for i, hist in enumerate(dfs_ccea):\n",
    "    plt.plot(hist['time'], hist['CCEA Fitness Values'], color='red', label=\"CCEA\", alpha=0.2)\n",
    "    plt.scatter(hist['time'].iloc[-1], hist['CCEA Fitness Values'].iloc[-1],color='red', marker=\"*\")\n",
    "plt.legend()\n",
    "ax = plt.gca()\n",
    "handles, labels = ax.get_legend_handles_labels()\n",
    "ax.get_legend().remove()\n",
    "by_label = dict(zip(labels, handles))\n",
    "\n",
    "\n",
    "legend_elements = [Line2D([0], [0], color='green', lw=1, label='CCEA'),\n",
    "                   Line2D([0], [0], color='blue', lw=1, label='EA'),\n",
    "                   Line2D([0], [0], color='orange', lw=1, label='Monte Carlo'),\n",
    "                   Line2D([0], [0], marker='*', color='black', label='Convergence',\n",
    "                          markerfacecolor='black',linestyle = 'None')]\n",
    "\n",
    "ax.legend(handles=legend_elements)\n",
    "#ax.legend(by_label.values(), by_label.keys(), prop={'size': 8})\n",
    "plt.title(\"Algorithm Comparison\")\n",
    "plt.ylabel(\"Objective Value\")\n",
    "#plt.yscale(\"log\")\n",
    "plt.xlabel(\"Computational Time (s)\")\n",
    "plt.grid()\n",
    "fig = plt.gcf()"
   ]
  },
  {
   "cell_type": "code",
   "execution_count": 13,
   "id": "468bd1a2",
   "metadata": {},
   "outputs": [],
   "source": [
    "mean_ea = np.mean([df['EA Fitness Values'] for df in dfs_ea],0)\n",
    "times_ea = np.mean([df['time'] for df in dfs_ea],0)\n",
    "std_ea = np.std([df['EA Fitness Values'] for df in dfs_ea],0)\n",
    "mean_ccea = np.mean([df['CCEA Fitness Values'] for df in dfs_ccea],0)\n",
    "times_ccea = np.mean([df['time'] for df in dfs_ccea],0)\n",
    "std_ccea = np.std([df['CCEA Fitness Values'] for df in dfs_ccea],0)\n",
    "mean_mc = np.mean([df['Random Fitness Values'] for df in dfs_mc],0)\n",
    "times_mc = np.mean([df['time'] for df in dfs_mc],0)\n",
    "std_mc = np.std([df['Random Fitness Values'] for df in dfs_mc],0)\n",
    "\n",
    "\n",
    "plt.plot(times_ccea, mean_ccea, label=\"CCEA\")\n",
    "ax = plt.gca()\n",
    "ax.fill_between(times_ccea,mean_ccea-std_ccea, mean_ccea+std_ccea, alpha=0.3)\n",
    "plt.plot(times_ea, mean_ea, label=\"EA\", linestyle='--')\n",
    "ax.fill_between(times_ea,mean_ea-std_ea, mean_ea+std_ea, alpha=0.3)\n",
    "plt.plot(times_mc, mean_mc, label=\"Monte Carlo\", linestyle=':')\n",
    "ax.fill_between(times_mc,mean_mc-std_mc, mean_mc+std_mc, alpha=0.3)\n",
    "plt.legend()\n",
    "plt.title(\"Search Performance ($\\mu \\pm \\dfrac{\\sigma}{2}$ over 20 Replicates)\")\n",
    "plt.ylabel(\"Objective Value\")\n",
    "#plt.yscale(\"log\")\n",
    "plt.xlabel(\"Computational Time (s)\")\n",
    "plt.grid()\n",
    "fig = plt.gcf()\n",
    "plt.xlim([0,207])\n",
    "plt.ylim([0.5,1.06])\n",
    "fig = plt.gcf()"
   ]
  },
  {
   "cell_type": "code",
   "execution_count": 14,
   "id": "5877c049",
   "metadata": {},
   "outputs": [],
   "source": [
    "fig.savefig(\"alg_perf_comp.pdf\", format=\"pdf\", bbox_inches = 'tight', pad_inches = 0)"
   ]
  },
  {
   "cell_type": "markdown",
   "id": "4ee38853",
   "metadata": {},
   "source": [
    "## Comparing Solutions over weights - Fault-Space Formulation\n",
    "\n",
    "Comparing results over weights given the goal is to explore the faulty state-space.\n",
    "\n",
    "3 mins * 5 weights = 15 mins"
   ]
  },
  {
   "cell_type": "code",
   "execution_count": 15,
   "id": "d3d2d0b5",
   "metadata": {},
   "outputs": [],
   "source": [
    "weights = [0.0, 0.25, 0.5, 0.75, 1.0]"
   ]
  },
  {
   "cell_type": "code",
   "execution_count": 16,
   "id": "d7dc5b37",
   "metadata": {},
   "outputs": [],
   "source": [
    "for i, w in enumerate(weights):\n",
    "    result_ccea, sol_ccea, pop= ccea(ngen=100, weight=w, filename=\"results/result_weight_\"+str(i)+\".csv\", show_sol=False)"
   ]
  },
  {
   "cell_type": "markdown",
   "id": "6b143edc",
   "metadata": {},
   "source": [
    "Load Results"
   ]
  },
  {
   "cell_type": "code",
   "execution_count": 17,
   "id": "b9c52925",
   "metadata": {},
   "outputs": [],
   "source": [
    "weight_sols = {}; weight_results = {}\n",
    "for i, w in enumerate(weights):\n",
    "    results = pd.read_csv(\"results/result_weight_\"+str(i)+\".csv\")\n",
    "    weight_sols[\"w=\"+str(w)] = eval(results[\"Best_Sol\"].iloc[-1])"
   ]
  },
  {
   "cell_type": "code",
   "execution_count": 18,
   "id": "eafd2155",
   "metadata": {},
   "outputs": [],
   "source": [
    "fig = plot_hspaces(weight_sols, v_padding=0.6)"
   ]
  },
  {
   "cell_type": "code",
   "execution_count": 19,
   "id": "bb626664",
   "metadata": {},
   "outputs": [],
   "source": [
    "fig.savefig(\"form1_fs_comp.pdf\", format=\"pdf\", bbox_inches = 'tight', pad_inches = 0)"
   ]
  },
  {
   "cell_type": "code",
   "execution_count": 20,
   "id": "9ed9566e",
   "metadata": {},
   "outputs": [],
   "source": [
    "fig = plot_line_dist(weight_sols)"
   ]
  },
  {
   "cell_type": "code",
   "execution_count": 21,
   "id": "0d48fff7",
   "metadata": {},
   "outputs": [],
   "source": [
    "fig.savefig(\"form1_ld_comp.pdf\", format=\"pdf\", bbox_inches = 'tight', pad_inches = 0)"
   ]
  },
  {
   "cell_type": "code",
   "execution_count": 22,
   "id": "1d7c7ea5",
   "metadata": {},
   "outputs": [],
   "source": [
    "fig = plot_trajs(weight_sols, v_padding=0.35)"
   ]
  },
  {
   "cell_type": "code",
   "execution_count": 23,
   "id": "8c880dd6",
   "metadata": {},
   "outputs": [],
   "source": [
    "fig.savefig(\"form1_traj_comp.pdf\", format=\"pdf\", bbox_inches = 'tight', pad_inches = 0)"
   ]
  },
  {
   "cell_type": "code",
   "execution_count": 24,
   "id": "b2cf844e",
   "metadata": {},
   "outputs": [],
   "source": [
    "line_dists = [sum([line_dist_faster(i)[0] for i in sol]) for sol in weight_sols.values()]"
   ]
  },
  {
   "cell_type": "code",
   "execution_count": 25,
   "id": "b19c1026",
   "metadata": {},
   "outputs": [],
   "source": [
    "hs_dists = [f_2(sol) for sol in weight_sols.values()]"
   ]
  },
  {
   "cell_type": "code",
   "execution_count": 26,
   "id": "ffdc5845",
   "metadata": {},
   "outputs": [],
   "source": [
    "plt.scatter(line_dists, hs_dists, color='red')\n",
    "for i,name in enumerate(weight_sols):\n",
    "    plt.annotate(name, (line_dists[i], hs_dists[i]))\n",
    "plt.xlabel(\"Sum of Line Distance\")\n",
    "plt.ylabel(\"Sum of Min Health State Separation\")\n",
    "plt.title(\"Revealed Pareto Front - Formulation 1\")\n",
    "plt.grid()\n",
    "fig = plt.gcf()"
   ]
  },
  {
   "cell_type": "code",
   "execution_count": 27,
   "id": "15496f82",
   "metadata": {},
   "outputs": [],
   "source": [
    "fig.savefig(\"form1_fs_pareto.pdf\", format=\"pdf\", bbox_inches = 'tight', pad_inches = 0)"
   ]
  },
  {
   "cell_type": "markdown",
   "id": "5cacd505",
   "metadata": {},
   "source": [
    "### Multiplicative Formulation\n"
   ]
  },
  {
   "cell_type": "code",
   "execution_count": 28,
   "id": "2cb8c586",
   "metadata": {},
   "outputs": [],
   "source": [
    "result_ccea_1, sol_ccea_1, pop_1= ccea(ngen=100,  formulation=12, filename=\"results/result12_weight_.csv\", show_sol=False)"
   ]
  },
  {
   "cell_type": "code",
   "execution_count": 29,
   "id": "920782c8",
   "metadata": {},
   "outputs": [],
   "source": [
    "visualizations(sol_ccea_1, method=\"CCEA-mult1\")"
   ]
  },
  {
   "cell_type": "code",
   "execution_count": 30,
   "id": "2721b582",
   "metadata": {},
   "outputs": [],
   "source": [
    "fig=plot_hspace([sol_ccea_1])"
   ]
  },
  {
   "cell_type": "code",
   "execution_count": 31,
   "id": "83872ad7",
   "metadata": {},
   "outputs": [],
   "source": [
    "linedists = [s.linedist for s in sol_ccea_1]\n",
    "plt.hist(linedists, bins=[j for j in np.arange(0,2.5, 0.25)])\n",
    "plt.title(\"CCEA-Mult1 Formulation\")\n",
    "plt.grid(axis=\"y\")\n",
    "plt.ylim([0,10])"
   ]
  },
  {
   "cell_type": "code",
   "execution_count": 32,
   "id": "d2730ec1",
   "metadata": {},
   "outputs": [],
   "source": [
    "line_dist_mult = f_1(sol_ccea_1)\n",
    "point_dist_mult = f_2(sol_ccea_1)"
   ]
  },
  {
   "cell_type": "code",
   "execution_count": 33,
   "id": "dc16bc0d",
   "metadata": {},
   "outputs": [],
   "source": [
    "plt.scatter(line_dists, hs_dists, color='blue')\n",
    "for i,name in enumerate(weight_sols):\n",
    "    plt.annotate(name, (line_dists[i], hs_dists[i]))\n",
    "plt.xlabel(\"Sum of Line Distance\")\n",
    "plt.ylabel(\"Sum of Min Health State Separation\")\n",
    "plt.title(\"Pareto\")\n",
    "plt.grid()\n",
    "\n",
    "plt.scatter([line_dist_mult], [point_dist_mult], color='red')\n",
    "plt.annotate('mult', (line_dist_mult, point_dist_mult))\n",
    "plt.xlabel(\"Sum of Line Distance\")\n",
    "plt.ylabel(\"Sum of Min Health State Separation\")"
   ]
  },
  {
   "cell_type": "markdown",
   "id": "eaa289b7",
   "metadata": {},
   "source": [
    "As shown, the multiplicative formulation produces degenerate results, placing all weight on a single point instead of producing points that are both spread out and hazardous."
   ]
  },
  {
   "cell_type": "markdown",
   "id": "9e9605ff",
   "metadata": {},
   "source": [
    "## Comparing Solutions over weights - Result-Space Formulation\n",
    "\n",
    "Comparing results over weights given the goal is to uncover new trajectories.\n",
    "\n",
    "3 mins * 5 weights = 15 mins"
   ]
  },
  {
   "cell_type": "code",
   "execution_count": 34,
   "id": "ad49279f",
   "metadata": {},
   "outputs": [],
   "source": [
    "weights = [0.0, 0.25, 0.5, 0.75, 1.0]"
   ]
  },
  {
   "cell_type": "code",
   "execution_count": 35,
   "id": "89a8019d",
   "metadata": {},
   "outputs": [],
   "source": [
    "for i, w in enumerate(weights):\n",
    "    result_ccea, sol_ccea, pop= ccea(ngen=100, weight=w, formulation=2, filename=\"results/result2_weight_\"+str(i)+\".csv\", show_sol=False)"
   ]
  },
  {
   "cell_type": "code",
   "execution_count": 36,
   "id": "f80fff59",
   "metadata": {},
   "outputs": [],
   "source": [
    "weight_sols = {}; weight_results = {}\n",
    "for i, w in enumerate(weights):\n",
    "    results = pd.read_csv(\"results/result2_weight_\"+str(i)+\".csv\")\n",
    "    weight_sols[\"w=\"+str(w)] = eval(results[\"Best_Sol\"].iloc[-1])"
   ]
  },
  {
   "cell_type": "code",
   "execution_count": 37,
   "id": "7ffa11bf",
   "metadata": {},
   "outputs": [],
   "source": [
    "fig = plot_hspaces(weight_sols, v_padding=0.6)"
   ]
  },
  {
   "cell_type": "code",
   "execution_count": 38,
   "id": "0434a116",
   "metadata": {},
   "outputs": [],
   "source": [
    "fig.savefig(\"form2_fs_comp.pdf\", format=\"pdf\", bbox_inches = 'tight', pad_inches = 0)"
   ]
  },
  {
   "cell_type": "code",
   "execution_count": 39,
   "id": "5cfb2c77",
   "metadata": {},
   "outputs": [],
   "source": [
    "fig = plot_line_dist(weight_sols)"
   ]
  },
  {
   "cell_type": "code",
   "execution_count": 40,
   "id": "3ef13ceb",
   "metadata": {},
   "outputs": [],
   "source": [
    "fig.savefig(\"form2_ld_comp.pdf\", format=\"pdf\", bbox_inches = 'tight', pad_inches = 0)"
   ]
  },
  {
   "cell_type": "code",
   "execution_count": 41,
   "id": "ca496121",
   "metadata": {},
   "outputs": [],
   "source": [
    "fig = plot_trajs(weight_sols, v_padding=0.35)"
   ]
  },
  {
   "cell_type": "code",
   "execution_count": 42,
   "id": "ffe984ec",
   "metadata": {},
   "outputs": [],
   "source": [
    "fig.savefig(\"form2_traj_comp.pdf\", format=\"pdf\", bbox_inches = 'tight', pad_inches = 0)"
   ]
  },
  {
   "cell_type": "code",
   "execution_count": 43,
   "id": "40ab4b62",
   "metadata": {},
   "outputs": [],
   "source": [
    "class ind(list):\n",
    "    def __init__(self):\n",
    "        self.endpt=[]"
   ]
  },
  {
   "cell_type": "code",
   "execution_count": 44,
   "id": "4c4327d8",
   "metadata": {},
   "outputs": [],
   "source": [
    "for w, sol in weight_sols.items():\n",
    "    for index, i in enumerate(sol):\n",
    "        new_i = ind()\n",
    "        for j in i:\n",
    "            new_i.append(j)\n",
    "            new_i.endpt = line_dist_faster(i)[2] \n",
    "        weight_sols[w][index]=new_i"
   ]
  },
  {
   "cell_type": "code",
   "execution_count": 45,
   "id": "bfbb3764",
   "metadata": {},
   "outputs": [],
   "source": [
    "line_dists = [sum([line_dist_faster(i)[0] for i in s]) for s in weight_sols.values()]\n",
    "d_dists = [f_4(sol) for sol in weight_sols.values()]"
   ]
  },
  {
   "cell_type": "code",
   "execution_count": 46,
   "id": "e2a3745e",
   "metadata": {},
   "outputs": [],
   "source": [
    "plt.scatter(line_dists, d_dists, color='red')\n",
    "for i,name in enumerate(weight_sols):\n",
    "    plt.annotate(name, (line_dists[i], d_dists[i]))\n",
    "plt.xlabel(\"Sum of Line Distance\")\n",
    "plt.ylabel(\"Sum of Min Result State Separation\")\n",
    "plt.title(\"Revealed Pareto Front - Formulation 2\")\n",
    "plt.grid()\n",
    "fig = plt.gcf()"
   ]
  },
  {
   "cell_type": "code",
   "execution_count": 47,
   "id": "41e4ae4e",
   "metadata": {},
   "outputs": [],
   "source": [
    "fig.savefig(\"form2_fs_pareto.pdf\", format=\"pdf\", bbox_inches = 'tight', pad_inches = 0)"
   ]
  },
  {
   "cell_type": "code",
   "execution_count": 48,
   "id": "3de549b0",
   "metadata": {},
   "outputs": [],
   "source": [
    "result_ccea_2, sol_ccea_2, pop_2= ccea(ngen=100,  formulation=22, filename=\"results/result22_weight_.csv\", show_sol=False)"
   ]
  },
  {
   "cell_type": "code",
   "execution_count": 49,
   "id": "d942a607",
   "metadata": {},
   "outputs": [],
   "source": [
    "visualizations(sol_ccea_2, method=\"CCEA-mult\")"
   ]
  },
  {
   "cell_type": "code",
   "execution_count": 50,
   "id": "a5930d2a",
   "metadata": {},
   "outputs": [],
   "source": [
    "fig=plot_hspace([sol_ccea_2])"
   ]
  },
  {
   "cell_type": "code",
   "execution_count": 51,
   "id": "0b4df250",
   "metadata": {},
   "outputs": [],
   "source": [
    "linedists = [s.linedist for s in sol_ccea_2]\n",
    "plt.hist(linedists, bins=[j for j in np.arange(0,2.5, 0.25)])\n",
    "plt.title(\"CCEA-Mult2 Formulation\")\n",
    "plt.grid(axis=\"y\")\n",
    "plt.ylim([0,10])"
   ]
  },
  {
   "cell_type": "code",
   "execution_count": 52,
   "id": "5c7a23cc",
   "metadata": {},
   "outputs": [],
   "source": [
    "plt.scatter(line_dists, d_dists, color='red')\n",
    "for i,name in enumerate(weight_sols):\n",
    "    plt.annotate(name, (line_dists[i], d_dists[i]))\n",
    "plt.xlabel(\"Sum of Line Distance\")\n",
    "plt.ylabel(\"Sum of Min Result State Separation\")\n",
    "plt.title(\"Pareto\")\n",
    "plt.grid()"
   ]
  },
  {
   "cell_type": "code",
   "execution_count": 53,
   "id": "198d9142",
   "metadata": {},
   "outputs": [],
   "source": [
    "line_dist_mult = f_1(sol_ccea_2)\n",
    "point_dist_mult = f_4(sol_ccea_2)"
   ]
  },
  {
   "cell_type": "code",
   "execution_count": 54,
   "id": "836a4b12",
   "metadata": {},
   "outputs": [],
   "source": [
    "plt.scatter(line_dists, d_dists, color='blue')\n",
    "for i,name in enumerate(weight_sols):\n",
    "    plt.annotate(name, (line_dists[i], d_dists[i]))\n",
    "plt.xlabel(\"Sum of Line Distance\")\n",
    "plt.ylabel(\"Sum of Min Result State Separation\")\n",
    "plt.title(\"Pareto\")\n",
    "plt.grid()\n",
    "\n",
    "plt.scatter([line_dist_mult], [point_dist_mult], color='red')\n",
    "plt.annotate('mult', (line_dist_mult, point_dist_mult))\n",
    "plt.xlabel(\"Sum of Line Distance\")\n",
    "plt.ylabel(\"Sum of Min Health State Separation\")"
   ]
  },
  {
   "cell_type": "markdown",
   "id": "f35b8077",
   "metadata": {},
   "source": [
    "As with the previous objective, the solutions produced appear degenerate in terms of objectives. Qualitatively, however, the results look \"good\" with both a wide range of trajectories and points with a high line distance."
   ]
  },
  {
   "cell_type": "code",
   "execution_count": null,
   "id": "695296b9",
   "metadata": {},
   "outputs": [],
   "source": []
  }
 ],
 "metadata": {
  "kernelspec": {
   "display_name": "Python 3 (ipykernel)",
   "language": "python",
   "name": "python3"
  },
  "language_info": {
   "codemirror_mode": {
    "name": "ipython",
    "version": 3
   },
   "file_extension": ".py",
   "mimetype": "text/x-python",
   "name": "python",
   "nbconvert_exporter": "python",
   "pygments_lexer": "ipython3",
   "version": "3.9.7"
  }
 },
 "nbformat": 4,
 "nbformat_minor": 5
}
