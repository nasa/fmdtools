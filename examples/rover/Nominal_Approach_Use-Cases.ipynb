{
 "cells": [
  {
   "attachments": {},
   "cell_type": "markdown",
   "metadata": {},
   "source": [
    "# Defining Nominal Approaches in fmdtools\n",
    "\n",
    "Nominal simulation approaches are used to evaluate the performance of a model over a set of input parameters. It can then be used to:\n",
    "- define/understand the operational envelope for different system parameters (i.e., what inputs can the system safely encounter)\n",
    "- quantify failure probabilities given stochastic inputs (i.e., if the statistical distribution of inputs are known, what is the resulting probability of hazards given the design)"
   ]
  },
  {
   "cell_type": "code",
   "execution_count": 1,
   "metadata": {
    "execution": {
     "iopub.execute_input": "2023-08-11T02:46:32.708583Z",
     "iopub.status.busy": "2023-08-11T02:46:32.708583Z",
     "iopub.status.idle": "2023-08-11T02:46:34.127745Z",
     "shell.execute_reply": "2023-08-11T02:46:34.127745Z"
    }
   },
   "outputs": [],
   "source": [
    "from fmdtools.define.model import Model\n",
    "from fmdtools.define.block import FxnBlock\n",
    "\n",
    "import fmdtools.analyze as an\n",
    "import fmdtools.sim.propagate as prop"
   ]
  },
  {
   "attachments": {},
   "cell_type": "markdown",
   "metadata": {},
   "source": [
    "The rover model (rover_model.py) from the examples module will be used to demonstrate this approach. The main task of the rover is to follow a given line from a starting location to an ending location. It model is made of following functions and flows.\n",
    "\n",
    "Functions:\n",
    "    - Power\n",
    "    - Operator\n",
    "    - Communications\n",
    "    - Perception\n",
    "    - Avionics\n",
    "    - Override\n",
    "    - Drive\n",
    "    - Environment\n",
    "\n",
    "Flows:\n",
    "    - Groud\n",
    "    - Pos_Signal\n",
    "    - EE_12\n",
    "    - EE_15\n",
    "    - EE_5\n",
    "    - Video\n",
    "    - Avionics_Control\n",
    "    - Motor_control\n",
    "    - Switch\n",
    "    - Comms\n",
    "    - Ovverride_comms\n",
    "    - Faultystates\n",
    "\n",
    "It has helper functions that help visualize the rovers behavior overtime.\n",
    "\n",
    "    - plot_map(mdl, mdlhist): helps visualize the ability of the rover to track a given line\n",
    "    - plot_trajectories(\n",
    "                            mdlhists,\n",
    "                            nomhist=[],\n",
    "                            app=[],\n",
    "                            faultlabel=\"Faulty\",\n",
    "                            faultalpha=0.1,\n",
    "                            range_hist={},\n",
    "                            rangealpha=0.1,\n",
    "                            setalpha=0.3,\n",
    "                            show_labels=True,\n",
    "                            title=\"Fault Trajectories\",\n",
    "                            textoffset=2.0,\n",
    "                            mode_trunc=5,\n",
    "                            mode_trunc_end=5,\n",
    "                            xlim=None,\n",
    "                            ylim=None,\n",
    "                            figsize=(4, 4),\n",
    "                            ax=False,\n",
    "                            legend=True,\n",
    "                        ): helps visualize the rover trajectories\n",
    "\n",
    "    - plot_centerline_err(mdl, mdlhist): helps visualize how mucht the rover has deviated from the centerline.\n",
    "\n",
    "Additionally, this model has a corresponding *parameter generation* class which generates the design parameters of the model given a reduced space of input parameters. The pssoible parameter inputs and their dafaults are listed below.\n",
    "\n",
    "    linetype: str = \"sine\"              # line type (sine or turn)\n",
    "    period: float = 1.0                 # period of the curve (for sine linetype)\n",
    "    end: tuple = (10.0, 10.0)           # end of the curve (requires instantiation)\n",
    "    initangle: float = 0.0              # initial rover angle\n",
    "    linetype_set = (\"sine\", \"turn\")\n",
    "    amp: float = 1.0                    # amplitude of sine wave   (input for sine linetype)\n",
    "    wavelength: float = 50.0            # wavelength of sine wave (input for sine linetype)\n",
    "    radius: float = 20.0                # radius of turn (input for turn linetype)\n",
    "    start: float = 20.0                 # start of turn (input for turn linetype)\n",
    "    ub_f: float = 10.0                  \n",
    "    lb_f: float = -1.0\n",
    "    ub_t: float = 10.0\n",
    "    lb_t: float = -1.0\n",
    "    ub_d: float = 2.0\n",
    "    lb_d: float = -2.0\n",
    "    cor_d: float = 1.0\n",
    "    cor_t: float = 1.0\n",
    "    cor_f: float = 1.0\n",
    "    degradation: DegParam = DegParam()  # Degradation parameters\n",
    "    drive_modes: dict = {\"mode_args\": \"set\"}   "
   ]
  },
  {
   "cell_type": "code",
   "execution_count": 2,
   "metadata": {
    "execution": {
     "iopub.execute_input": "2023-08-11T02:46:34.129774Z",
     "iopub.status.busy": "2023-08-11T02:46:34.129774Z",
     "iopub.status.idle": "2023-08-11T02:46:34.148101Z",
     "shell.execute_reply": "2023-08-11T02:46:34.148101Z"
    }
   },
   "outputs": [],
   "source": [
    "from rover_model import Rover, plot_map, plot_centerline_err, RoverParam"
   ]
  },
  {
   "attachments": {},
   "cell_type": "markdown",
   "metadata": {},
   "source": [
    "Below shows the performance of the rover during a (default) turn with a radius of 20 meters that begins at 20 meters. As shown, there is a slight drift from the centerline, but not enough for the rover to get lost (that would take 1 meter of drift)."
   ]
  },
  {
   "cell_type": "code",
   "execution_count": 3,
   "metadata": {
    "execution": {
     "iopub.execute_input": "2023-08-11T02:46:34.150222Z",
     "iopub.status.busy": "2023-08-11T02:46:34.150222Z",
     "iopub.status.idle": "2023-08-11T02:46:34.482004Z",
     "shell.execute_reply": "2023-08-11T02:46:34.482004Z"
    }
   },
   "outputs": [
    {
     "data": {
      "image/png": "[encoded data removed]",
      "text/plain": [
       "<Figure size 432x288 with 1 Axes>"
      ]
     },
     "metadata": {
      "needs_background": "light"
     },
     "output_type": "display_data"
    }
   ],
   "source": [
    "p = RoverParam(linetype=\"turn\")\n",
    "mdl = Rover(p=p)\n",
    "results, mdlhist = prop.nominal(mdl)\n",
    "plot_map(mdl, mdlhist)"
   ]
  },
  {
   "attachments": {},
   "cell_type": "markdown",
   "metadata": {},
   "source": [
    "Below shows the performance of the model over a sine wave. As shown, similar to the turn line type, the drift small enough to where the rover completes its mission within acceptable bounds."
   ]
  },
  {
   "cell_type": "code",
   "execution_count": 4,
   "metadata": {
    "execution": {
     "iopub.execute_input": "2023-08-11T02:46:34.482004Z",
     "iopub.status.busy": "2023-08-11T02:46:34.482004Z",
     "iopub.status.idle": "2023-08-11T02:46:34.780774Z",
     "shell.execute_reply": "2023-08-11T02:46:34.780774Z"
    }
   },
   "outputs": [
    {
     "data": {
      "image/png": "[encoded data removed]",
      "text/plain": [
       "<Figure size 432x288 with 1 Axes>"
      ]
     },
     "metadata": {
      "needs_background": "light"
     },
     "output_type": "display_data"
    }
   ],
   "source": [
    "p = RoverParam(linetype=\"sine\")\n",
    "mdl = Rover(p=p)\n",
    "results, mdlhist = prop.nominal(mdl)\n",
    "plot_map(mdl, mdlhist)"
   ]
  },
  {
   "attachments": {},
   "cell_type": "markdown",
   "metadata": {},
   "source": [
    "The performance of the rover in these situations is dependent on the parameters of the situation (e.g., the radius of the curve and the amplitude of the sine wave). Thus, it is important to define the operational envelope for the system. This can be done using a `NominalApproach`, which can be used to define ranges of variables to simulate the system under."
   ]
  },
  {
   "cell_type": "code",
   "execution_count": 5,
   "metadata": {
    "execution": {
     "iopub.execute_input": "2023-08-11T02:46:34.780774Z",
     "iopub.status.busy": "2023-08-11T02:46:34.780774Z",
     "iopub.status.idle": "2023-08-11T02:46:34.796270Z",
     "shell.execute_reply": "2023-08-11T02:46:34.796270Z"
    }
   },
   "outputs": [],
   "source": [
    "from fmdtools.sim.approach import NominalApproach"
   ]
  },
  {
   "cell_type": "code",
   "execution_count": 6,
   "metadata": {
    "execution": {
     "iopub.execute_input": "2023-08-11T02:46:34.796270Z",
     "iopub.status.busy": "2023-08-11T02:46:34.796270Z",
     "iopub.status.idle": "2023-08-11T02:46:34.811853Z",
     "shell.execute_reply": "2023-08-11T02:46:34.811853Z"
    }
   },
   "outputs": [
    {
     "name": "stdout",
     "output_type": "stream",
     "text": [
      "Help on class NominalApproach in module fmdtools.sim.approach:\n",
      "\n",
      "class NominalApproach(builtins.object)\n",
      " |  Class for defining sets of nominal simulations. To explain, a given system \n",
      " |  may have a number of input situations (missions, terrain, etc) which the \n",
      " |  user may want to simulate to ensure the system operates as desired. This \n",
      " |  class (in conjunction with propagate.nominal_approach()) can be used to \n",
      " |  perform these simulations.\n",
      " |  \n",
      " |  Attributes\n",
      " |  ----------\n",
      " |  scenarios : dict\n",
      " |      scenarios to inject based on the approach\n",
      " |  num_scenarios : int\n",
      " |      number of scenarios in the approach\n",
      " |  ranges : dict\n",
      " |      dict of the parameters defined in each method for the approach\n",
      " |  \n",
      " |  Methods defined here:\n",
      " |  \n",
      " |  __init__(self)\n",
      " |      Instantiates NominalApproach (simulation p are defined using methods)\n",
      " |  \n",
      " |  __repr__(self)\n",
      " |      Return repr(self).\n",
      " |  \n",
      " |  add_param_ranges(self, paramfunc, rangeid, *args, replicates=1, seeds='shared', set_args={}, **kwargs)\n",
      " |      Adds a set of scenarios to the approach.\n",
      " |      \n",
      " |      Parameters\n",
      " |      ----------\n",
      " |      paramfunc : method\n",
      " |          Python method which generates a set of model parameters given the input arguments.\n",
      " |          method should have form: method(fixedarg, fixedarg..., inputarg=X, inputarg=X)\n",
      " |      rangeid : str\n",
      " |          Name for the range being used. Default is 'nominal'\n",
      " |      *args: specifies values for positional args of paramfunc.\n",
      " |          May be given as a fixed float/int/dict/str defining a set value for positional arguments\n",
      " |      replicates : int\n",
      " |          Number of points to take over each range (for random parameters). Default is 1.\n",
      " |      seeds : str/list\n",
      " |          Options for seeding models/replicates: (Default is 'shared')\n",
      " |              - 'shared' creates random seeds and shares them between parameters and models\n",
      " |              - 'independent' creates separate random seeds for models and parameter generation\n",
      " |              - 'keep_model' uses the seed provided in the model for all of the model\n",
      " |          When a list is provided, these seeds are are used (and shared). Must be of length replicates.\n",
      " |      set_args : dict\n",
      " |          Dictionary of lists of values for each param e.g., {'param1':[value1, value2, value3]}\n",
      " |      **kwargs : specifies range for keyword args of paramfunc\n",
      " |          May be given as a fixed float/int/dict/str (k=value) defining a set value for the range (if not the default) or\n",
      " |          as a tuple k=(start, end, step) for the range, or\n",
      " |  \n",
      " |  add_param_replicates(self, paramfunc, rangeid, replicates, *args, ind_seeds=True, **kwargs)\n",
      " |      Adds a set of repeated scenarios to the approach. For use in (external) random scenario generation.\n",
      " |      \n",
      " |      Parameters\n",
      " |      ----------\n",
      " |      paramfunc : method\n",
      " |          Python method which generates a set of model parameters given the input arguments.\n",
      " |          method should have form: method(fixedarg, fixedarg..., inputarg=X, inputarg=X)\n",
      " |      rangeid : str\n",
      " |          Name for the set of replicates\n",
      " |      replicates : int\n",
      " |          Number of replicates to use\n",
      " |      *args : any\n",
      " |          arguments to send to paramfunc\n",
      " |      ind_seeds : Bool/list\n",
      " |          Whether the models should be run with different seeds (rather than the same seed). Default is True\n",
      " |          When a list is provided, these seeds are are used. Must be of length replicates.\n",
      " |      **kwargs : any\n",
      " |          keyword arguments to send to paramfunc\n",
      " |  \n",
      " |  add_rand_params(self, paramfunc, rangeid, *fixedargs, prob_weight=1.0, replicates=1000, seeds='shared', **randvars)\n",
      " |      Adds a set of random scenarios to the approach.\n",
      " |      \n",
      " |      Parameters\n",
      " |      ----------\n",
      " |      paramfunc : method\n",
      " |          Python method which generates a set of model parameters given the input arguments.\n",
      " |          method should have form: method(fixedarg, fixedarg..., inputarg=X, inputarg=X)\n",
      " |      rangeid : str\n",
      " |          Name for the range being used. Default is 'nominal'\n",
      " |      prob_weight : float (0-1)\n",
      " |          Overall probability for the set of scenarios (to use if adding more ranges). Default is 1.0\n",
      " |      *fixedargs : any\n",
      " |          Fixed positional arguments in the parameter generator function. \n",
      " |          Useful for discrete modes with different parameters.\n",
      " |      seeds : str/list\n",
      " |          Options for seeding models/replicates: (Default is 'shared')\n",
      " |              - 'shared' creates random seeds and shares them between parameters and models\n",
      " |              - 'independent' creates separate random seeds for models and parameter generation\n",
      " |              - 'keep_model' uses the seed provided in the model for all of the model\n",
      " |          When a list is provided, these seeds are are used (and shared). Must be of length replicates.\n",
      " |      **randvars : key=tuple\n",
      " |          Specification for each random input parameter, specified as \n",
      " |          input = (randfunc, param1, param2...)\n",
      " |          where randfunc is the method producing random outputs (e.g. numpy.random.rand)\n",
      " |          and the successive parameters param1, param2, etc are inputs to the method\n",
      " |  \n",
      " |  add_seed_replicates(self, rangeid, seeds)\n",
      " |      Generates an approach with different seeds to use for the model's internal stochastic behaviors\n",
      " |      \n",
      " |      Parameters\n",
      " |      ----------\n",
      " |      rangeid : str\n",
      " |          Name for the set of replicates\n",
      " |      seeds : int/list\n",
      " |          Number of seeds (if an int) or a list of seeds to use.\n",
      " |  \n",
      " |  assoc_probs(self, rangeid, prob_weight=1.0, **inputpdfs)\n",
      " |      Associates a probability model (assuming variable independence) with a \n",
      " |      given previously-defined range of scenarios using given pdfs\n",
      " |      \n",
      " |      Parameters\n",
      " |      ----------\n",
      " |      rangeid : str\n",
      " |          Name of the range to apply the probability model to.\n",
      " |      prob_weight : float, optional\n",
      " |          Overall probability for the set of scenarios (to use if adding more ranges \n",
      " |          or if the range does not cover the space of probability). The default is 1.0.\n",
      " |      **inputpdfs : key=(pdf, params)\n",
      " |          pdf to associate with the different variables of the model. \n",
      " |          Where the pdf has form pdf(x, **kwargs) where x is the location and **kwargs is parameters\n",
      " |          (for example, scipy.stats.norm.pdf)\n",
      " |          and params is a dictionary of parameters (e.g., {'mu':1,'std':1}) to use '\n",
      " |          as the key/parameter inputs to the pdf\n",
      " |  \n",
      " |  copy(self)\n",
      " |      Copies the given sampleapproach. Used in nested scenario sampling.\n",
      " |  \n",
      " |  get_param_scens(self, *params, only_params=False, default='NA')\n",
      " |  \n",
      " |  range_to_space(self, inputranges)\n",
      " |  \n",
      " |  update_factor_seeds(self, rangeid, inputparam, seeds='new')\n",
      " |      Changes/randomizes the seeds along a given factor in a range\n",
      " |      \n",
      " |      Parameters\n",
      " |      ----------\n",
      " |      rangeid : str\n",
      " |          Name of the range being updated\n",
      " |      inputparam : str\n",
      " |          Name of the parameter to vary the seeds over\n",
      " |      seeds : str/list, optional\n",
      " |          List of seeds to update to. The default is 'new', which picks them randomly\n",
      " |  \n",
      " |  ----------------------------------------------------------------------\n",
      " |  Data descriptors defined here:\n",
      " |  \n",
      " |  __dict__\n",
      " |      dictionary for instance variables (if defined)\n",
      " |  \n",
      " |  __weakref__\n",
      " |      list of weak references to the object (if defined)\n",
      "\n"
     ]
    }
   ],
   "source": [
    "help(NominalApproach)"
   ]
  },
  {
   "attachments": {},
   "cell_type": "markdown",
   "metadata": {},
   "source": [
    "In this approach we define parameter ranges for the two major situations--a wavelength and amplitude for the sine wave, and a radius and start location for the turn.\n",
    "\n",
    "Defining an approach in terms of ranges is performed with `.add_param_ranges()`"
   ]
  },
  {
   "cell_type": "code",
   "execution_count": 7,
   "metadata": {
    "execution": {
     "iopub.execute_input": "2023-08-11T02:46:34.811853Z",
     "iopub.status.busy": "2023-08-11T02:46:34.811853Z",
     "iopub.status.idle": "2023-08-11T02:46:34.827382Z",
     "shell.execute_reply": "2023-08-11T02:46:34.827382Z"
    }
   },
   "outputs": [
    {
     "name": "stdout",
     "output_type": "stream",
     "text": [
      "Help on method add_param_ranges in module fmdtools.sim.approach:\n",
      "\n",
      "add_param_ranges(paramfunc, rangeid, *args, replicates=1, seeds='shared', set_args={}, **kwargs) method of fmdtools.sim.approach.NominalApproach instance\n",
      "    Adds a set of scenarios to the approach.\n",
      "    \n",
      "    Parameters\n",
      "    ----------\n",
      "    paramfunc : method\n",
      "        Python method which generates a set of model parameters given the input arguments.\n",
      "        method should have form: method(fixedarg, fixedarg..., inputarg=X, inputarg=X)\n",
      "    rangeid : str\n",
      "        Name for the range being used. Default is 'nominal'\n",
      "    *args: specifies values for positional args of paramfunc.\n",
      "        May be given as a fixed float/int/dict/str defining a set value for positional arguments\n",
      "    replicates : int\n",
      "        Number of points to take over each range (for random parameters). Default is 1.\n",
      "    seeds : str/list\n",
      "        Options for seeding models/replicates: (Default is 'shared')\n",
      "            - 'shared' creates random seeds and shares them between parameters and models\n",
      "            - 'independent' creates separate random seeds for models and parameter generation\n",
      "            - 'keep_model' uses the seed provided in the model for all of the model\n",
      "        When a list is provided, these seeds are are used (and shared). Must be of length replicates.\n",
      "    set_args : dict\n",
      "        Dictionary of lists of values for each param e.g., {'param1':[value1, value2, value3]}\n",
      "    **kwargs : specifies range for keyword args of paramfunc\n",
      "        May be given as a fixed float/int/dict/str (k=value) defining a set value for the range (if not the default) or\n",
      "        as a tuple k=(start, end, step) for the range, or\n",
      "\n"
     ]
    }
   ],
   "source": [
    "nomapp = NominalApproach()\n",
    "help(nomapp.add_param_ranges)"
   ]
  },
  {
   "cell_type": "code",
   "execution_count": 8,
   "metadata": {
    "execution": {
     "iopub.execute_input": "2023-08-11T02:46:34.827382Z",
     "iopub.status.busy": "2023-08-11T02:46:34.827382Z",
     "iopub.status.idle": "2023-08-11T02:46:34.858441Z",
     "shell.execute_reply": "2023-08-11T02:46:34.858441Z"
    }
   },
   "outputs": [],
   "source": [
    "nomapp.add_param_ranges(RoverParam,'sine', linetype='sine', amp=(0, 10, 0.2), wavelength=(10.0,50.0,10.0))\n",
    "nomapp.add_param_ranges(RoverParam,'turn', linetype='turn', radius=(5.0,40.0,5.0), start=(0.0, 20.0,5.0))"
   ]
  },
  {
   "attachments": {},
   "cell_type": "markdown",
   "metadata": {},
   "source": [
    "Notice that `RoverParam` is the class that generatse the nominal parameters of the model, `linetype = 'sine'` is a fixed parameter defining a discrete case of scenarios, and `amp` and `wavelenth` are parameters that are varied (the given tuples define the respective ranges).\n",
    "\n",
    "The result is a defined set of scenarios which can be run in the model:"
   ]
  },
  {
   "cell_type": "code",
   "execution_count": 9,
   "metadata": {
    "execution": {
     "iopub.execute_input": "2023-08-11T02:46:34.858441Z",
     "iopub.status.busy": "2023-08-11T02:46:34.858441Z",
     "iopub.status.idle": "2023-08-11T02:46:34.896039Z",
     "shell.execute_reply": "2023-08-11T02:46:34.896039Z"
    }
   },
   "outputs": [
    {
     "data": {
      "text/plain": [
       "{'sine_1': ParamScenario(sequence={}, times=(), p=RoverParam(linetype='sine', period=0.6283185307179586, end=(10.0, 0.0), initangle=0.0, amp=0.0, wavelength=10.0, radius=20.0, start=20.0, ub_f=10.0, lb_f=-1.0, ub_t=10.0, lb_t=-1.0, ub_d=2.0, lb_d=-2.0, cor_d=1.0, cor_t=1.0, cor_f=1.0, degradation=DegParam(friction=0.0, drift=0.0), drive_modes={'mode_args': 'set'}), r={'seed': 662546124}, sp={}, prob=0.005, inputparams={'amp': 0.0, 'wavelength': 10.0, 'linetype': 'sine'}, rangeid='sine', name='sine_1', paramfunc=<class 'rover_model.RoverParam'>, fixedargs=(), fixedkwargs={'linetype': 'sine'}),\n",
       " 'sine_2': ParamScenario(sequence={}, times=(), p=RoverParam(linetype='sine', period=0.3141592653589793, end=(20.0, 0.0), initangle=0.0, amp=0.0, wavelength=20.0, radius=20.0, start=20.0, ub_f=10.0, lb_f=-1.0, ub_t=10.0, lb_t=-1.0, ub_d=2.0, lb_d=-2.0, cor_d=1.0, cor_t=1.0, cor_f=1.0, degradation=DegParam(friction=0.0, drift=0.0), drive_modes={'mode_args': 'set'}), r={'seed': 662546124}, sp={}, prob=0.005, inputparams={'amp': 0.0, 'wavelength': 20.0, 'linetype': 'sine'}, rangeid='sine', name='sine_2', paramfunc=<class 'rover_model.RoverParam'>, fixedargs=(), fixedkwargs={'linetype': 'sine'}),\n",
       " 'sine_3': ParamScenario(sequence={}, times=(), p=RoverParam(linetype='sine', period=0.20943951023931953, end=(30.0, 0.0), initangle=0.0, amp=0.0, wavelength=30.0, radius=20.0, start=20.0, ub_f=10.0, lb_f=-1.0, ub_t=10.0, lb_t=-1.0, ub_d=2.0, lb_d=-2.0, cor_d=1.0, cor_t=1.0, cor_f=1.0, degradation=DegParam(friction=0.0, drift=0.0), drive_modes={'mode_args': 'set'}), r={'seed': 662546124}, sp={}, prob=0.005, inputparams={'amp': 0.0, 'wavelength': 30.0, 'linetype': 'sine'}, rangeid='sine', name='sine_3', paramfunc=<class 'rover_model.RoverParam'>, fixedargs=(), fixedkwargs={'linetype': 'sine'}),\n",
       " 'sine_4': ParamScenario(sequence={}, times=(), p=RoverParam(linetype='sine', period=0.15707963267948966, end=(40.0, 0.0), initangle=0.0, amp=0.0, wavelength=40.0, radius=20.0, start=20.0, ub_f=10.0, lb_f=-1.0, ub_t=10.0, lb_t=-1.0, ub_d=2.0, lb_d=-2.0, cor_d=1.0, cor_t=1.0, cor_f=1.0, degradation=DegParam(friction=0.0, drift=0.0), drive_modes={'mode_args': 'set'}), r={'seed': 662546124}, sp={}, prob=0.005, inputparams={'amp': 0.0, 'wavelength': 40.0, 'linetype': 'sine'}, rangeid='sine', name='sine_4', paramfunc=<class 'rover_model.RoverParam'>, fixedargs=(), fixedkwargs={'linetype': 'sine'}),\n",
       " 'sine_5': ParamScenario(sequence={}, times=(), p=RoverParam(linetype='sine', period=0.6283185307179586, end=(10.0, 0.0), initangle=7.162455806725823, amp=0.2, wavelength=10.0, radius=20.0, start=20.0, ub_f=10.0, lb_f=-1.0, ub_t=10.0, lb_t=-1.0, ub_d=2.0, lb_d=-2.0, cor_d=1.0, cor_t=1.0, cor_f=1.0, degradation=DegParam(friction=0.0, drift=0.0), drive_modes={'mode_args': 'set'}), r={'seed': 662546124}, sp={}, prob=0.005, inputparams={'amp': 0.2, 'wavelength': 10.0, 'linetype': 'sine'}, rangeid='sine', name='sine_5', paramfunc=<class 'rover_model.RoverParam'>, fixedargs=(), fixedkwargs={'linetype': 'sine'}),\n",
       " 'sine_6': ParamScenario(sequence={}, times=(), p=RoverParam(linetype='sine', period=0.3141592653589793, end=(20.0, 0.0), initangle=3.5952737798681755, amp=0.2, wavelength=20.0, radius=20.0, start=20.0, ub_f=10.0, lb_f=-1.0, ub_t=10.0, lb_t=-1.0, ub_d=2.0, lb_d=-2.0, cor_d=1.0, cor_t=1.0, cor_f=1.0, degradation=DegParam(friction=0.0, drift=0.0), drive_modes={'mode_args': 'set'}), r={'seed': 662546124}, sp={}, prob=0.005, inputparams={'amp': 0.2, 'wavelength': 20.0, 'linetype': 'sine'}, rangeid='sine', name='sine_6', paramfunc=<class 'rover_model.RoverParam'>, fixedargs=(), fixedkwargs={'linetype': 'sine'}),\n",
       " 'sine_7': ParamScenario(sequence={}, times=(), p=RoverParam(linetype='sine', period=0.20943951023931953, end=(30.0, 0.0), initangle=2.3985977988121188, amp=0.2, wavelength=30.0, radius=20.0, start=20.0, ub_f=10.0, lb_f=-1.0, ub_t=10.0, lb_t=-1.0, ub_d=2.0, lb_d=-2.0, cor_d=1.0, cor_t=1.0, cor_f=1.0, degradation=DegParam(friction=0.0, drift=0.0), drive_modes={'mode_args': 'set'}), r={'seed': 662546124}, sp={}, prob=0.005, inputparams={'amp': 0.2, 'wavelength': 30.0, 'linetype': 'sine'}, rangeid='sine', name='sine_7', paramfunc=<class 'rover_model.RoverParam'>, fixedargs=(), fixedkwargs={'linetype': 'sine'}),\n",
       " 'sine_8': ParamScenario(sequence={}, times=(), p=RoverParam(linetype='sine', period=0.15707963267948966, end=(40.0, 0.0), initangle=1.7994081741616377, amp=0.2, wavelength=40.0, radius=20.0, start=20.0, ub_f=10.0, lb_f=-1.0, ub_t=10.0, lb_t=-1.0, ub_d=2.0, lb_d=-2.0, cor_d=1.0, cor_t=1.0, cor_f=1.0, degradation=DegParam(friction=0.0, drift=0.0), drive_modes={'mode_args': 'set'}), r={'seed': 662546124}, sp={}, prob=0.005, inputparams={'amp': 0.2, 'wavelength': 40.0, 'linetype': 'sine'}, rangeid='sine', name='sine_8', paramfunc=<class 'rover_model.RoverParam'>, fixedargs=(), fixedkwargs={'linetype': 'sine'}),\n",
       " 'sine_9': ParamScenario(sequence={}, times=(), p=RoverParam(linetype='sine', period=0.6283185307179586, end=(10.0, 0.0), initangle=14.107802371590129, amp=0.4, wavelength=10.0, radius=20.0, start=20.0, ub_f=10.0, lb_f=-1.0, ub_t=10.0, lb_t=-1.0, ub_d=2.0, lb_d=-2.0, cor_d=1.0, cor_t=1.0, cor_f=1.0, degradation=DegParam(friction=0.0, drift=0.0), drive_modes={'mode_args': 'set'}), r={'seed': 662546124}, sp={}, prob=0.005, inputparams={'amp': 0.4, 'wavelength': 10.0, 'linetype': 'sine'}, rangeid='sine', name='sine_9', paramfunc=<class 'rover_model.RoverParam'>, fixedargs=(), fixedkwargs={'linetype': 'sine'}),\n",
       " 'sine_10': ParamScenario(sequence={}, times=(), p=RoverParam(linetype='sine', period=0.3141592653589793, end=(20.0, 0.0), initangle=7.162455806725823, amp=0.4, wavelength=20.0, radius=20.0, start=20.0, ub_f=10.0, lb_f=-1.0, ub_t=10.0, lb_t=-1.0, ub_d=2.0, lb_d=-2.0, cor_d=1.0, cor_t=1.0, cor_f=1.0, degradation=DegParam(friction=0.0, drift=0.0), drive_modes={'mode_args': 'set'}), r={'seed': 662546124}, sp={}, prob=0.005, inputparams={'amp': 0.4, 'wavelength': 20.0, 'linetype': 'sine'}, rangeid='sine', name='sine_10', paramfunc=<class 'rover_model.RoverParam'>, fixedargs=(), fixedkwargs={'linetype': 'sine'}),\n",
       " 'sine_11': ParamScenario(sequence={}, times=(), p=RoverParam(linetype='sine', period=0.20943951023931953, end=(30.0, 0.0), initangle=4.78881763508915, amp=0.4, wavelength=30.0, radius=20.0, start=20.0, ub_f=10.0, lb_f=-1.0, ub_t=10.0, lb_t=-1.0, ub_d=2.0, lb_d=-2.0, cor_d=1.0, cor_t=1.0, cor_f=1.0, degradation=DegParam(friction=0.0, drift=0.0), drive_modes={'mode_args': 'set'}), r={'seed': 662546124}, sp={}, prob=0.005, inputparams={'amp': 0.4, 'wavelength': 30.0, 'linetype': 'sine'}, rangeid='sine', name='sine_11', paramfunc=<class 'rover_model.RoverParam'>, fixedargs=(), fixedkwargs={'linetype': 'sine'}),\n",
       " 'sine_12': ParamScenario(sequence={}, times=(), p=RoverParam(linetype='sine', period=0.15707963267948966, end=(40.0, 0.0), initangle=3.5952737798681755, amp=0.4, wavelength=40.0, radius=20.0, start=20.0, ub_f=10.0, lb_f=-1.0, ub_t=10.0, lb_t=-1.0, ub_d=2.0, lb_d=-2.0, cor_d=1.0, cor_t=1.0, cor_f=1.0, degradation=DegParam(friction=0.0, drift=0.0), drive_modes={'mode_args': 'set'}), r={'seed': 662546124}, sp={}, prob=0.005, inputparams={'amp': 0.4, 'wavelength': 40.0, 'linetype': 'sine'}, rangeid='sine', name='sine_12', paramfunc=<class 'rover_model.RoverParam'>, fixedargs=(), fixedkwargs={'linetype': 'sine'}),\n",
       " 'sine_13': ParamScenario(sequence={}, times=(), p=RoverParam(linetype='sine', period=0.6283185307179586, end=(10.0, 0.0), initangle=20.655997382339663, amp=0.6000000000000001, wavelength=10.0, radius=20.0, start=20.0, ub_f=10.0, lb_f=-1.0, ub_t=10.0, lb_t=-1.0, ub_d=2.0, lb_d=-2.0, cor_d=1.0, cor_t=1.0, cor_f=1.0, degradation=DegParam(friction=0.0, drift=0.0), drive_modes={'mode_args': 'set'}), r={'seed': 662546124}, sp={}, prob=0.005, inputparams={'amp': 0.6000000000000001, 'wavelength': 10.0, 'linetype': 'sine'}, rangeid='sine', name='sine_13', paramfunc=<class 'rover_model.RoverParam'>, fixedargs=(), fixedkwargs={'linetype': 'sine'}),\n",
       " 'sine_14': ParamScenario(sequence={}, times=(), p=RoverParam(linetype='sine', period=0.3141592653589793, end=(20.0, 0.0), initangle=10.674749412368762, amp=0.6000000000000001, wavelength=20.0, radius=20.0, start=20.0, ub_f=10.0, lb_f=-1.0, ub_t=10.0, lb_t=-1.0, ub_d=2.0, lb_d=-2.0, cor_d=1.0, cor_t=1.0, cor_f=1.0, degradation=DegParam(friction=0.0, drift=0.0), drive_modes={'mode_args': 'set'}), r={'seed': 662546124}, sp={}, prob=0.005, inputparams={'amp': 0.6000000000000001, 'wavelength': 20.0, 'linetype': 'sine'}, rangeid='sine', name='sine_14', paramfunc=<class 'rover_model.RoverParam'>, fixedargs=(), fixedkwargs={'linetype': 'sine'}),\n",
       " 'sine_15': ParamScenario(sequence={}, times=(), p=RoverParam(linetype='sine', period=0.20943951023931953, end=(30.0, 0.0), initangle=7.162455806725823, amp=0.6000000000000001, wavelength=30.0, radius=20.0, start=20.0, ub_f=10.0, lb_f=-1.0, ub_t=10.0, lb_t=-1.0, ub_d=2.0, lb_d=-2.0, cor_d=1.0, cor_t=1.0, cor_f=1.0, degradation=DegParam(friction=0.0, drift=0.0), drive_modes={'mode_args': 'set'}), r={'seed': 662546124}, sp={}, prob=0.005, inputparams={'amp': 0.6000000000000001, 'wavelength': 30.0, 'linetype': 'sine'}, rangeid='sine', name='sine_15', paramfunc=<class 'rover_model.RoverParam'>, fixedargs=(), fixedkwargs={'linetype': 'sine'}),\n",
       " 'sine_16': ParamScenario(sequence={}, times=(), p=RoverParam(linetype='sine', period=0.15707963267948966, end=(40.0, 0.0), initangle=5.384095917393569, amp=0.6000000000000001, wavelength=40.0, radius=20.0, start=20.0, ub_f=10.0, lb_f=-1.0, ub_t=10.0, lb_t=-1.0, ub_d=2.0, lb_d=-2.0, cor_d=1.0, cor_t=1.0, cor_f=1.0, degradation=DegParam(friction=0.0, drift=0.0), drive_modes={'mode_args': 'set'}), r={'seed': 662546124}, sp={}, prob=0.005, inputparams={'amp': 0.6000000000000001, 'wavelength': 40.0, 'linetype': 'sine'}, rangeid='sine', name='sine_16', paramfunc=<class 'rover_model.RoverParam'>, fixedargs=(), fixedkwargs={'linetype': 'sine'}),\n",
       " 'sine_17': ParamScenario(sequence={}, times=(), p=RoverParam(linetype='sine', period=0.6283185307179586, end=(10.0, 0.0), initangle=26.68661010221531, amp=0.8, wavelength=10.0, radius=20.0, start=20.0, ub_f=10.0, lb_f=-1.0, ub_t=10.0, lb_t=-1.0, ub_d=2.0, lb_d=-2.0, cor_d=1.0, cor_t=1.0, cor_f=1.0, degradation=DegParam(friction=0.0, drift=0.0), drive_modes={'mode_args': 'set'}), r={'seed': 662546124}, sp={}, prob=0.005, inputparams={'amp': 0.8, 'wavelength': 10.0, 'linetype': 'sine'}, rangeid='sine', name='sine_17', paramfunc=<class 'rover_model.RoverParam'>, fixedargs=(), fixedkwargs={'linetype': 'sine'}),\n",
       " 'sine_18': ParamScenario(sequence={}, times=(), p=RoverParam(linetype='sine', period=0.3141592653589793, end=(20.0, 0.0), initangle=14.107802371590129, amp=0.8, wavelength=20.0, radius=20.0, start=20.0, ub_f=10.0, lb_f=-1.0, ub_t=10.0, lb_t=-1.0, ub_d=2.0, lb_d=-2.0, cor_d=1.0, cor_t=1.0, cor_f=1.0, degradation=DegParam(friction=0.0, drift=0.0), drive_modes={'mode_args': 'set'}), r={'seed': 662546124}, sp={}, prob=0.005, inputparams={'amp': 0.8, 'wavelength': 20.0, 'linetype': 'sine'}, rangeid='sine', name='sine_18', paramfunc=<class 'rover_model.RoverParam'>, fixedargs=(), fixedkwargs={'linetype': 'sine'}),\n",
       " 'sine_19': ParamScenario(sequence={}, times=(), p=RoverParam(linetype='sine', period=0.20943951023931953, end=(30.0, 0.0), initangle=9.511648169296214, amp=0.8, wavelength=30.0, radius=20.0, start=20.0, ub_f=10.0, lb_f=-1.0, ub_t=10.0, lb_t=-1.0, ub_d=2.0, lb_d=-2.0, cor_d=1.0, cor_t=1.0, cor_f=1.0, degradation=DegParam(friction=0.0, drift=0.0), drive_modes={'mode_args': 'set'}), r={'seed': 662546124}, sp={}, prob=0.005, inputparams={'amp': 0.8, 'wavelength': 30.0, 'linetype': 'sine'}, rangeid='sine', name='sine_19', paramfunc=<class 'rover_model.RoverParam'>, fixedargs=(), fixedkwargs={'linetype': 'sine'}),\n",
       " 'sine_20': ParamScenario(sequence={}, times=(), p=RoverParam(linetype='sine', period=0.15707963267948966, end=(40.0, 0.0), initangle=7.162455806725823, amp=0.8, wavelength=40.0, radius=20.0, start=20.0, ub_f=10.0, lb_f=-1.0, ub_t=10.0, lb_t=-1.0, ub_d=2.0, lb_d=-2.0, cor_d=1.0, cor_t=1.0, cor_f=1.0, degradation=DegParam(friction=0.0, drift=0.0), drive_modes={'mode_args': 'set'}), r={'seed': 662546124}, sp={}, prob=0.005, inputparams={'amp': 0.8, 'wavelength': 40.0, 'linetype': 'sine'}, rangeid='sine', name='sine_20', paramfunc=<class 'rover_model.RoverParam'>, fixedargs=(), fixedkwargs={'linetype': 'sine'}),\n",
       " 'sine_21': ParamScenario(sequence={}, times=(), p=RoverParam(linetype='sine', period=0.6283185307179586, end=(10.0, 0.0), initangle=32.14190763534206, amp=1.0, wavelength=10.0, radius=20.0, start=20.0, ub_f=10.0, lb_f=-1.0, ub_t=10.0, lb_t=-1.0, ub_d=2.0, lb_d=-2.0, cor_d=1.0, cor_t=1.0, cor_f=1.0, degradation=DegParam(friction=0.0, drift=0.0), drive_modes={'mode_args': 'set'}), r={'seed': 662546124}, sp={}, prob=0.005, inputparams={'amp': 1.0, 'wavelength': 10.0, 'linetype': 'sine'}, rangeid='sine', name='sine_21', paramfunc=<class 'rover_model.RoverParam'>, fixedargs=(), fixedkwargs={'linetype': 'sine'}),\n",
       " 'sine_22': ParamScenario(sequence={}, times=(), p=RoverParam(linetype='sine', period=0.3141592653589793, end=(20.0, 0.0), initangle=17.44059449051187, amp=1.0, wavelength=20.0, radius=20.0, start=20.0, ub_f=10.0, lb_f=-1.0, ub_t=10.0, lb_t=-1.0, ub_d=2.0, lb_d=-2.0, cor_d=1.0, cor_t=1.0, cor_f=1.0, degradation=DegParam(friction=0.0, drift=0.0), drive_modes={'mode_args': 'set'}), r={'seed': 662546124}, sp={}, prob=0.005, inputparams={'amp': 1.0, 'wavelength': 20.0, 'linetype': 'sine'}, rangeid='sine', name='sine_22', paramfunc=<class 'rover_model.RoverParam'>, fixedargs=(), fixedkwargs={'linetype': 'sine'}),\n",
       " 'sine_23': ParamScenario(sequence={}, times=(), p=RoverParam(linetype='sine', period=0.20943951023931953, end=(30.0, 0.0), initangle=11.82901835541632, amp=1.0, wavelength=30.0, radius=20.0, start=20.0, ub_f=10.0, lb_f=-1.0, ub_t=10.0, lb_t=-1.0, ub_d=2.0, lb_d=-2.0, cor_d=1.0, cor_t=1.0, cor_f=1.0, degradation=DegParam(friction=0.0, drift=0.0), drive_modes={'mode_args': 'set'}), r={'seed': 662546124}, sp={}, prob=0.005, inputparams={'amp': 1.0, 'wavelength': 30.0, 'linetype': 'sine'}, rangeid='sine', name='sine_23', paramfunc=<class 'rover_model.RoverParam'>, fixedargs=(), fixedkwargs={'linetype': 'sine'}),\n",
       " 'sine_24': ParamScenario(sequence={}, times=(), p=RoverParam(linetype='sine', period=0.15707963267948966, end=(40.0, 0.0), initangle=8.92705486895993, amp=1.0, wavelength=40.0, radius=20.0, start=20.0, ub_f=10.0, lb_f=-1.0, ub_t=10.0, lb_t=-1.0, ub_d=2.0, lb_d=-2.0, cor_d=1.0, cor_t=1.0, cor_f=1.0, degradation=DegParam(friction=0.0, drift=0.0), drive_modes={'mode_args': 'set'}), r={'seed': 662546124}, sp={}, prob=0.005, inputparams={'amp': 1.0, 'wavelength': 40.0, 'linetype': 'sine'}, rangeid='sine', name='sine_24', paramfunc=<class 'rover_model.RoverParam'>, fixedargs=(), fixedkwargs={'linetype': 'sine'}),\n",
       " 'sine_25': ParamScenario(sequence={}, times=(), p=RoverParam(linetype='sine', period=0.6283185307179586, end=(10.0, 0.0), initangle=37.01564457318208, amp=1.2000000000000002, wavelength=10.0, radius=20.0, start=20.0, ub_f=10.0, lb_f=-1.0, ub_t=10.0, lb_t=-1.0, ub_d=2.0, lb_d=-2.0, cor_d=1.0, cor_t=1.0, cor_f=1.0, degradation=DegParam(friction=0.0, drift=0.0), drive_modes={'mode_args': 'set'}), r={'seed': 662546124}, sp={}, prob=0.005, inputparams={'amp': 1.2000000000000002, 'wavelength': 10.0, 'linetype': 'sine'}, rangeid='sine', name='sine_25', paramfunc=<class 'rover_model.RoverParam'>, fixedargs=(), fixedkwargs={'linetype': 'sine'}),\n",
       " 'sine_26': ParamScenario(sequence={}, times=(), p=RoverParam(linetype='sine', period=0.3141592653589793, end=(20.0, 0.0), initangle=20.655997382339663, amp=1.2000000000000002, wavelength=20.0, radius=20.0, start=20.0, ub_f=10.0, lb_f=-1.0, ub_t=10.0, lb_t=-1.0, ub_d=2.0, lb_d=-2.0, cor_d=1.0, cor_t=1.0, cor_f=1.0, degradation=DegParam(friction=0.0, drift=0.0), drive_modes={'mode_args': 'set'}), r={'seed': 662546124}, sp={}, prob=0.005, inputparams={'amp': 1.2000000000000002, 'wavelength': 20.0, 'linetype': 'sine'}, rangeid='sine', name='sine_26', paramfunc=<class 'rover_model.RoverParam'>, fixedargs=(), fixedkwargs={'linetype': 'sine'}),\n",
       " 'sine_27': ParamScenario(sequence={}, times=(), p=RoverParam(linetype='sine', period=0.20943951023931953, end=(30.0, 0.0), initangle=14.107802371590129, amp=1.2000000000000002, wavelength=30.0, radius=20.0, start=20.0, ub_f=10.0, lb_f=-1.0, ub_t=10.0, lb_t=-1.0, ub_d=2.0, lb_d=-2.0, cor_d=1.0, cor_t=1.0, cor_f=1.0, degradation=DegParam(friction=0.0, drift=0.0), drive_modes={'mode_args': 'set'}), r={'seed': 662546124}, sp={}, prob=0.005, inputparams={'amp': 1.2000000000000002, 'wavelength': 30.0, 'linetype': 'sine'}, rangeid='sine', name='sine_27', paramfunc=<class 'rover_model.RoverParam'>, fixedargs=(), fixedkwargs={'linetype': 'sine'}),\n",
       " 'sine_28': ParamScenario(sequence={}, times=(), p=RoverParam(linetype='sine', period=0.15707963267948966, end=(40.0, 0.0), initangle=10.674749412368762, amp=1.2000000000000002, wavelength=40.0, radius=20.0, start=20.0, ub_f=10.0, lb_f=-1.0, ub_t=10.0, lb_t=-1.0, ub_d=2.0, lb_d=-2.0, cor_d=1.0, cor_t=1.0, cor_f=1.0, degradation=DegParam(friction=0.0, drift=0.0), drive_modes={'mode_args': 'set'}), r={'seed': 662546124}, sp={}, prob=0.005, inputparams={'amp': 1.2000000000000002, 'wavelength': 40.0, 'linetype': 'sine'}, rangeid='sine', name='sine_28', paramfunc=<class 'rover_model.RoverParam'>, fixedargs=(), fixedkwargs={'linetype': 'sine'}),\n",
       " 'sine_29': ParamScenario(sequence={}, times=(), p=RoverParam(linetype='sine', period=0.6283185307179586, end=(10.0, 0.0), initangle=41.33634263114563, amp=1.4000000000000001, wavelength=10.0, radius=20.0, start=20.0, ub_f=10.0, lb_f=-1.0, ub_t=10.0, lb_t=-1.0, ub_d=2.0, lb_d=-2.0, cor_d=1.0, cor_t=1.0, cor_f=1.0, degradation=DegParam(friction=0.0, drift=0.0), drive_modes={'mode_args': 'set'}), r={'seed': 662546124}, sp={}, prob=0.005, inputparams={'amp': 1.4000000000000001, 'wavelength': 10.0, 'linetype': 'sine'}, rangeid='sine', name='sine_29', paramfunc=<class 'rover_model.RoverParam'>, fixedargs=(), fixedkwargs={'linetype': 'sine'}),\n",
       " 'sine_30': ParamScenario(sequence={}, times=(), p=RoverParam(linetype='sine', period=0.3141592653589793, end=(20.0, 0.0), initangle=23.740996128556265, amp=1.4000000000000001, wavelength=20.0, radius=20.0, start=20.0, ub_f=10.0, lb_f=-1.0, ub_t=10.0, lb_t=-1.0, ub_d=2.0, lb_d=-2.0, cor_d=1.0, cor_t=1.0, cor_f=1.0, degradation=DegParam(friction=0.0, drift=0.0), drive_modes={'mode_args': 'set'}), r={'seed': 662546124}, sp={}, prob=0.005, inputparams={'amp': 1.4000000000000001, 'wavelength': 20.0, 'linetype': 'sine'}, rangeid='sine', name='sine_30', paramfunc=<class 'rover_model.RoverParam'>, fixedargs=(), fixedkwargs={'linetype': 'sine'}),\n",
       " 'sine_31': ParamScenario(sequence={}, times=(), p=RoverParam(linetype='sine', period=0.20943951023931953, end=(30.0, 0.0), initangle=16.3419450931162, amp=1.4000000000000001, wavelength=30.0, radius=20.0, start=20.0, ub_f=10.0, lb_f=-1.0, ub_t=10.0, lb_t=-1.0, ub_d=2.0, lb_d=-2.0, cor_d=1.0, cor_t=1.0, cor_f=1.0, degradation=DegParam(friction=0.0, drift=0.0), drive_modes={'mode_args': 'set'}), r={'seed': 662546124}, sp={}, prob=0.005, inputparams={'amp': 1.4000000000000001, 'wavelength': 30.0, 'linetype': 'sine'}, rangeid='sine', name='sine_31', paramfunc=<class 'rover_model.RoverParam'>, fixedargs=(), fixedkwargs={'linetype': 'sine'}),\n",
       " 'sine_32': ParamScenario(sequence={}, times=(), p=RoverParam(linetype='sine', period=0.15707963267948966, end=(40.0, 0.0), initangle=12.402581073121407, amp=1.4000000000000001, wavelength=40.0, radius=20.0, start=20.0, ub_f=10.0, lb_f=-1.0, ub_t=10.0, lb_t=-1.0, ub_d=2.0, lb_d=-2.0, cor_d=1.0, cor_t=1.0, cor_f=1.0, degradation=DegParam(friction=0.0, drift=0.0), drive_modes={'mode_args': 'set'}), r={'seed': 662546124}, sp={}, prob=0.005, inputparams={'amp': 1.4000000000000001, 'wavelength': 40.0, 'linetype': 'sine'}, rangeid='sine', name='sine_32', paramfunc=<class 'rover_model.RoverParam'>, fixedargs=(), fixedkwargs={'linetype': 'sine'}),\n",
       " 'sine_33': ParamScenario(sequence={}, times=(), p=RoverParam(linetype='sine', period=0.6283185307179586, end=(10.0, 0.0), initangle=45.151707132165285, amp=1.6, wavelength=10.0, radius=20.0, start=20.0, ub_f=10.0, lb_f=-1.0, ub_t=10.0, lb_t=-1.0, ub_d=2.0, lb_d=-2.0, cor_d=1.0, cor_t=1.0, cor_f=1.0, degradation=DegParam(friction=0.0, drift=0.0), drive_modes={'mode_args': 'set'}), r={'seed': 662546124}, sp={}, prob=0.005, inputparams={'amp': 1.6, 'wavelength': 10.0, 'linetype': 'sine'}, rangeid='sine', name='sine_33', paramfunc=<class 'rover_model.RoverParam'>, fixedargs=(), fixedkwargs={'linetype': 'sine'}),\n",
       " 'sine_34': ParamScenario(sequence={}, times=(), p=RoverParam(linetype='sine', period=0.3141592653589793, end=(20.0, 0.0), initangle=26.68661010221531, amp=1.6, wavelength=20.0, radius=20.0, start=20.0, ub_f=10.0, lb_f=-1.0, ub_t=10.0, lb_t=-1.0, ub_d=2.0, lb_d=-2.0, cor_d=1.0, cor_t=1.0, cor_f=1.0, degradation=DegParam(friction=0.0, drift=0.0), drive_modes={'mode_args': 'set'}), r={'seed': 662546124}, sp={}, prob=0.005, inputparams={'amp': 1.6, 'wavelength': 20.0, 'linetype': 'sine'}, rangeid='sine', name='sine_34', paramfunc=<class 'rover_model.RoverParam'>, fixedargs=(), fixedkwargs={'linetype': 'sine'}),\n",
       " 'sine_35': ParamScenario(sequence={}, times=(), p=RoverParam(linetype='sine', period=0.20943951023931953, end=(30.0, 0.0), initangle=18.526166458524937, amp=1.6, wavelength=30.0, radius=20.0, start=20.0, ub_f=10.0, lb_f=-1.0, ub_t=10.0, lb_t=-1.0, ub_d=2.0, lb_d=-2.0, cor_d=1.0, cor_t=1.0, cor_f=1.0, degradation=DegParam(friction=0.0, drift=0.0), drive_modes={'mode_args': 'set'}), r={'seed': 662546124}, sp={}, prob=0.005, inputparams={'amp': 1.6, 'wavelength': 30.0, 'linetype': 'sine'}, rangeid='sine', name='sine_35', paramfunc=<class 'rover_model.RoverParam'>, fixedargs=(), fixedkwargs={'linetype': 'sine'}),\n",
       " 'sine_36': ParamScenario(sequence={}, times=(), p=RoverParam(linetype='sine', period=0.15707963267948966, end=(40.0, 0.0), initangle=14.107802371590129, amp=1.6, wavelength=40.0, radius=20.0, start=20.0, ub_f=10.0, lb_f=-1.0, ub_t=10.0, lb_t=-1.0, ub_d=2.0, lb_d=-2.0, cor_d=1.0, cor_t=1.0, cor_f=1.0, degradation=DegParam(friction=0.0, drift=0.0), drive_modes={'mode_args': 'set'}), r={'seed': 662546124}, sp={}, prob=0.005, inputparams={'amp': 1.6, 'wavelength': 40.0, 'linetype': 'sine'}, rangeid='sine', name='sine_36', paramfunc=<class 'rover_model.RoverParam'>, fixedargs=(), fixedkwargs={'linetype': 'sine'}),\n",
       " 'sine_37': ParamScenario(sequence={}, times=(), p=RoverParam(linetype='sine', period=0.6283185307179586, end=(10.0, 0.0), initangle=48.51707478924927, amp=1.8, wavelength=10.0, radius=20.0, start=20.0, ub_f=10.0, lb_f=-1.0, ub_t=10.0, lb_t=-1.0, ub_d=2.0, lb_d=-2.0, cor_d=1.0, cor_t=1.0, cor_f=1.0, degradation=DegParam(friction=0.0, drift=0.0), drive_modes={'mode_args': 'set'}), r={'seed': 662546124}, sp={}, prob=0.005, inputparams={'amp': 1.8, 'wavelength': 10.0, 'linetype': 'sine'}, rangeid='sine', name='sine_37', paramfunc=<class 'rover_model.RoverParam'>, fixedargs=(), fixedkwargs={'linetype': 'sine'}),\n",
       " 'sine_38': ParamScenario(sequence={}, times=(), p=RoverParam(linetype='sine', period=0.3141592653589793, end=(20.0, 0.0), initangle=29.48758095751294, amp=1.8, wavelength=20.0, radius=20.0, start=20.0, ub_f=10.0, lb_f=-1.0, ub_t=10.0, lb_t=-1.0, ub_d=2.0, lb_d=-2.0, cor_d=1.0, cor_t=1.0, cor_f=1.0, degradation=DegParam(friction=0.0, drift=0.0), drive_modes={'mode_args': 'set'}), r={'seed': 662546124}, sp={}, prob=0.005, inputparams={'amp': 1.8, 'wavelength': 20.0, 'linetype': 'sine'}, rangeid='sine', name='sine_38', paramfunc=<class 'rover_model.RoverParam'>, fixedargs=(), fixedkwargs={'linetype': 'sine'}),\n",
       " 'sine_39': ParamScenario(sequence={}, times=(), p=RoverParam(linetype='sine', period=0.20943951023931953, end=(30.0, 0.0), initangle=20.655997382339656, amp=1.8, wavelength=30.0, radius=20.0, start=20.0, ub_f=10.0, lb_f=-1.0, ub_t=10.0, lb_t=-1.0, ub_d=2.0, lb_d=-2.0, cor_d=1.0, cor_t=1.0, cor_f=1.0, degradation=DegParam(friction=0.0, drift=0.0), drive_modes={'mode_args': 'set'}), r={'seed': 662546124}, sp={}, prob=0.005, inputparams={'amp': 1.8, 'wavelength': 30.0, 'linetype': 'sine'}, rangeid='sine', name='sine_39', paramfunc=<class 'rover_model.RoverParam'>, fixedargs=(), fixedkwargs={'linetype': 'sine'}),\n",
       " 'sine_40': ParamScenario(sequence={}, times=(), p=RoverParam(linetype='sine', period=0.15707963267948966, end=(40.0, 0.0), initangle=15.78789697512082, amp=1.8, wavelength=40.0, radius=20.0, start=20.0, ub_f=10.0, lb_f=-1.0, ub_t=10.0, lb_t=-1.0, ub_d=2.0, lb_d=-2.0, cor_d=1.0, cor_t=1.0, cor_f=1.0, degradation=DegParam(friction=0.0, drift=0.0), drive_modes={'mode_args': 'set'}), r={'seed': 662546124}, sp={}, prob=0.005, inputparams={'amp': 1.8, 'wavelength': 40.0, 'linetype': 'sine'}, rangeid='sine', name='sine_40', paramfunc=<class 'rover_model.RoverParam'>, fixedargs=(), fixedkwargs={'linetype': 'sine'}),\n",
       " 'sine_41': ParamScenario(sequence={}, times=(), p=RoverParam(linetype='sine', period=0.6283185307179586, end=(10.0, 0.0), initangle=51.48811274603342, amp=2.0, wavelength=10.0, radius=20.0, start=20.0, ub_f=10.0, lb_f=-1.0, ub_t=10.0, lb_t=-1.0, ub_d=2.0, lb_d=-2.0, cor_d=1.0, cor_t=1.0, cor_f=1.0, degradation=DegParam(friction=0.0, drift=0.0), drive_modes={'mode_args': 'set'}), r={'seed': 662546124}, sp={}, prob=0.005, inputparams={'amp': 2.0, 'wavelength': 10.0, 'linetype': 'sine'}, rangeid='sine', name='sine_41', paramfunc=<class 'rover_model.RoverParam'>, fixedargs=(), fixedkwargs={'linetype': 'sine'}),\n",
       " 'sine_42': ParamScenario(sequence={}, times=(), p=RoverParam(linetype='sine', period=0.3141592653589793, end=(20.0, 0.0), initangle=32.14190763534206, amp=2.0, wavelength=20.0, radius=20.0, start=20.0, ub_f=10.0, lb_f=-1.0, ub_t=10.0, lb_t=-1.0, ub_d=2.0, lb_d=-2.0, cor_d=1.0, cor_t=1.0, cor_f=1.0, degradation=DegParam(friction=0.0, drift=0.0), drive_modes={'mode_args': 'set'}), r={'seed': 662546124}, sp={}, prob=0.005, inputparams={'amp': 2.0, 'wavelength': 20.0, 'linetype': 'sine'}, rangeid='sine', name='sine_42', paramfunc=<class 'rover_model.RoverParam'>, fixedargs=(), fixedkwargs={'linetype': 'sine'}),\n",
       " 'sine_43': ParamScenario(sequence={}, times=(), p=RoverParam(linetype='sine', period=0.20943951023931953, end=(30.0, 0.0), initangle=22.727787326021502, amp=2.0, wavelength=30.0, radius=20.0, start=20.0, ub_f=10.0, lb_f=-1.0, ub_t=10.0, lb_t=-1.0, ub_d=2.0, lb_d=-2.0, cor_d=1.0, cor_t=1.0, cor_f=1.0, degradation=DegParam(friction=0.0, drift=0.0), drive_modes={'mode_args': 'set'}), r={'seed': 662546124}, sp={}, prob=0.005, inputparams={'amp': 2.0, 'wavelength': 30.0, 'linetype': 'sine'}, rangeid='sine', name='sine_43', paramfunc=<class 'rover_model.RoverParam'>, fixedargs=(), fixedkwargs={'linetype': 'sine'}),\n",
       " 'sine_44': ParamScenario(sequence={}, times=(), p=RoverParam(linetype='sine', period=0.15707963267948966, end=(40.0, 0.0), initangle=17.44059449051187, amp=2.0, wavelength=40.0, radius=20.0, start=20.0, ub_f=10.0, lb_f=-1.0, ub_t=10.0, lb_t=-1.0, ub_d=2.0, lb_d=-2.0, cor_d=1.0, cor_t=1.0, cor_f=1.0, degradation=DegParam(friction=0.0, drift=0.0), drive_modes={'mode_args': 'set'}), r={'seed': 662546124}, sp={}, prob=0.005, inputparams={'amp': 2.0, 'wavelength': 40.0, 'linetype': 'sine'}, rangeid='sine', name='sine_44', paramfunc=<class 'rover_model.RoverParam'>, fixedargs=(), fixedkwargs={'linetype': 'sine'}),\n",
       " 'sine_45': ParamScenario(sequence={}, times=(), p=RoverParam(linetype='sine', period=0.6283185307179586, end=(10.0, 0.0), initangle=54.116835785734274, amp=2.2, wavelength=10.0, radius=20.0, start=20.0, ub_f=10.0, lb_f=-1.0, ub_t=10.0, lb_t=-1.0, ub_d=2.0, lb_d=-2.0, cor_d=1.0, cor_t=1.0, cor_f=1.0, degradation=DegParam(friction=0.0, drift=0.0), drive_modes={'mode_args': 'set'}), r={'seed': 662546124}, sp={}, prob=0.005, inputparams={'amp': 2.2, 'wavelength': 10.0, 'linetype': 'sine'}, rangeid='sine', name='sine_45', paramfunc=<class 'rover_model.RoverParam'>, fixedargs=(), fixedkwargs={'linetype': 'sine'}),\n",
       " 'sine_46': ParamScenario(sequence={}, times=(), p=RoverParam(linetype='sine', period=0.3141592653589793, end=(20.0, 0.0), initangle=34.65030443708276, amp=2.2, wavelength=20.0, radius=20.0, start=20.0, ub_f=10.0, lb_f=-1.0, ub_t=10.0, lb_t=-1.0, ub_d=2.0, lb_d=-2.0, cor_d=1.0, cor_t=1.0, cor_f=1.0, degradation=DegParam(friction=0.0, drift=0.0), drive_modes={'mode_args': 'set'}), r={'seed': 662546124}, sp={}, prob=0.005, inputparams={'amp': 2.2, 'wavelength': 20.0, 'linetype': 'sine'}, rangeid='sine', name='sine_46', paramfunc=<class 'rover_model.RoverParam'>, fixedargs=(), fixedkwargs={'linetype': 'sine'}),\n",
       " 'sine_47': ParamScenario(sequence={}, times=(), p=RoverParam(linetype='sine', period=0.20943951023931953, end=(30.0, 0.0), initangle=24.738686935692517, amp=2.2, wavelength=30.0, radius=20.0, start=20.0, ub_f=10.0, lb_f=-1.0, ub_t=10.0, lb_t=-1.0, ub_d=2.0, lb_d=-2.0, cor_d=1.0, cor_t=1.0, cor_f=1.0, degradation=DegParam(friction=0.0, drift=0.0), drive_modes={'mode_args': 'set'}), r={'seed': 662546124}, sp={}, prob=0.005, inputparams={'amp': 2.2, 'wavelength': 30.0, 'linetype': 'sine'}, rangeid='sine', name='sine_47', paramfunc=<class 'rover_model.RoverParam'>, fixedargs=(), fixedkwargs={'linetype': 'sine'}),\n",
       " 'sine_48': ParamScenario(sequence={}, times=(), p=RoverParam(linetype='sine', period=0.15707963267948966, end=(40.0, 0.0), initangle=19.06387982914528, amp=2.2, wavelength=40.0, radius=20.0, start=20.0, ub_f=10.0, lb_f=-1.0, ub_t=10.0, lb_t=-1.0, ub_d=2.0, lb_d=-2.0, cor_d=1.0, cor_t=1.0, cor_f=1.0, degradation=DegParam(friction=0.0, drift=0.0), drive_modes={'mode_args': 'set'}), r={'seed': 662546124}, sp={}, prob=0.005, inputparams={'amp': 2.2, 'wavelength': 40.0, 'linetype': 'sine'}, rangeid='sine', name='sine_48', paramfunc=<class 'rover_model.RoverParam'>, fixedargs=(), fixedkwargs={'linetype': 'sine'}),\n",
       " 'sine_49': ParamScenario(sequence={}, times=(), p=RoverParam(linetype='sine', period=0.6283185307179586, end=(10.0, 0.0), initangle=56.44982740917768, amp=2.4000000000000004, wavelength=10.0, radius=20.0, start=20.0, ub_f=10.0, lb_f=-1.0, ub_t=10.0, lb_t=-1.0, ub_d=2.0, lb_d=-2.0, cor_d=1.0, cor_t=1.0, cor_f=1.0, degradation=DegParam(friction=0.0, drift=0.0), drive_modes={'mode_args': 'set'}), r={'seed': 662546124}, sp={}, prob=0.005, inputparams={'amp': 2.4000000000000004, 'wavelength': 10.0, 'linetype': 'sine'}, rangeid='sine', name='sine_49', paramfunc=<class 'rover_model.RoverParam'>, fixedargs=(), fixedkwargs={'linetype': 'sine'}),\n",
       " 'sine_50': ParamScenario(sequence={}, times=(), p=RoverParam(linetype='sine', period=0.3141592653589793, end=(20.0, 0.0), initangle=37.01564457318208, amp=2.4000000000000004, wavelength=20.0, radius=20.0, start=20.0, ub_f=10.0, lb_f=-1.0, ub_t=10.0, lb_t=-1.0, ub_d=2.0, lb_d=-2.0, cor_d=1.0, cor_t=1.0, cor_f=1.0, degradation=DegParam(friction=0.0, drift=0.0), drive_modes={'mode_args': 'set'}), r={'seed': 662546124}, sp={}, prob=0.005, inputparams={'amp': 2.4000000000000004, 'wavelength': 20.0, 'linetype': 'sine'}, rangeid='sine', name='sine_50', paramfunc=<class 'rover_model.RoverParam'>, fixedargs=(), fixedkwargs={'linetype': 'sine'}),\n",
       " 'sine_51': ParamScenario(sequence={}, times=(), p=RoverParam(linetype='sine', period=0.20943951023931953, end=(30.0, 0.0), initangle=26.68661010221531, amp=2.4000000000000004, wavelength=30.0, radius=20.0, start=20.0, ub_f=10.0, lb_f=-1.0, ub_t=10.0, lb_t=-1.0, ub_d=2.0, lb_d=-2.0, cor_d=1.0, cor_t=1.0, cor_f=1.0, degradation=DegParam(friction=0.0, drift=0.0), drive_modes={'mode_args': 'set'}), r={'seed': 662546124}, sp={}, prob=0.005, inputparams={'amp': 2.4000000000000004, 'wavelength': 30.0, 'linetype': 'sine'}, rangeid='sine', name='sine_51', paramfunc=<class 'rover_model.RoverParam'>, fixedargs=(), fixedkwargs={'linetype': 'sine'}),\n",
       " 'sine_52': ParamScenario(sequence={}, times=(), p=RoverParam(linetype='sine', period=0.15707963267948966, end=(40.0, 0.0), initangle=20.655997382339663, amp=2.4000000000000004, wavelength=40.0, radius=20.0, start=20.0, ub_f=10.0, lb_f=-1.0, ub_t=10.0, lb_t=-1.0, ub_d=2.0, lb_d=-2.0, cor_d=1.0, cor_t=1.0, cor_f=1.0, degradation=DegParam(friction=0.0, drift=0.0), drive_modes={'mode_args': 'set'}), r={'seed': 662546124}, sp={}, prob=0.005, inputparams={'amp': 2.4000000000000004, 'wavelength': 40.0, 'linetype': 'sine'}, rangeid='sine', name='sine_52', paramfunc=<class 'rover_model.RoverParam'>, fixedargs=(), fixedkwargs={'linetype': 'sine'}),\n",
       " 'sine_53': ParamScenario(sequence={}, times=(), p=RoverParam(linetype='sine', period=0.6283185307179586, end=(10.0, 0.0), initangle=58.52776595780276, amp=2.6, wavelength=10.0, radius=20.0, start=20.0, ub_f=10.0, lb_f=-1.0, ub_t=10.0, lb_t=-1.0, ub_d=2.0, lb_d=-2.0, cor_d=1.0, cor_t=1.0, cor_f=1.0, degradation=DegParam(friction=0.0, drift=0.0), drive_modes={'mode_args': 'set'}), r={'seed': 662546124}, sp={}, prob=0.005, inputparams={'amp': 2.6, 'wavelength': 10.0, 'linetype': 'sine'}, rangeid='sine', name='sine_53', paramfunc=<class 'rover_model.RoverParam'>, fixedargs=(), fixedkwargs={'linetype': 'sine'}),\n",
       " 'sine_54': ParamScenario(sequence={}, times=(), p=RoverParam(linetype='sine', period=0.3141592653589793, end=(20.0, 0.0), initangle=39.242433941492166, amp=2.6, wavelength=20.0, radius=20.0, start=20.0, ub_f=10.0, lb_f=-1.0, ub_t=10.0, lb_t=-1.0, ub_d=2.0, lb_d=-2.0, cor_d=1.0, cor_t=1.0, cor_f=1.0, degradation=DegParam(friction=0.0, drift=0.0), drive_modes={'mode_args': 'set'}), r={'seed': 662546124}, sp={}, prob=0.005, inputparams={'amp': 2.6, 'wavelength': 20.0, 'linetype': 'sine'}, rangeid='sine', name='sine_54', paramfunc=<class 'rover_model.RoverParam'>, fixedargs=(), fixedkwargs={'linetype': 'sine'}),\n",
       " 'sine_55': ParamScenario(sequence={}, times=(), p=RoverParam(linetype='sine', period=0.20943951023931953, end=(30.0, 0.0), initangle=28.570180233863383, amp=2.6, wavelength=30.0, radius=20.0, start=20.0, ub_f=10.0, lb_f=-1.0, ub_t=10.0, lb_t=-1.0, ub_d=2.0, lb_d=-2.0, cor_d=1.0, cor_t=1.0, cor_f=1.0, degradation=DegParam(friction=0.0, drift=0.0), drive_modes={'mode_args': 'set'}), r={'seed': 662546124}, sp={}, prob=0.005, inputparams={'amp': 2.6, 'wavelength': 30.0, 'linetype': 'sine'}, rangeid='sine', name='sine_55', paramfunc=<class 'rover_model.RoverParam'>, fixedargs=(), fixedkwargs={'linetype': 'sine'}),\n",
       " 'sine_56': ParamScenario(sequence={}, times=(), p=RoverParam(linetype='sine', period=0.15707963267948966, end=(40.0, 0.0), initangle=22.215450405160606, amp=2.6, wavelength=40.0, radius=20.0, start=20.0, ub_f=10.0, lb_f=-1.0, ub_t=10.0, lb_t=-1.0, ub_d=2.0, lb_d=-2.0, cor_d=1.0, cor_t=1.0, cor_f=1.0, degradation=DegParam(friction=0.0, drift=0.0), drive_modes={'mode_args': 'set'}), r={'seed': 662546124}, sp={}, prob=0.005, inputparams={'amp': 2.6, 'wavelength': 40.0, 'linetype': 'sine'}, rangeid='sine', name='sine_56', paramfunc=<class 'rover_model.RoverParam'>, fixedargs=(), fixedkwargs={'linetype': 'sine'}),\n",
       " 'sine_57': ParamScenario(sequence={}, times=(), p=RoverParam(linetype='sine', period=0.6283185307179586, end=(10.0, 0.0), initangle=60.3856448498835, amp=2.8000000000000003, wavelength=10.0, radius=20.0, start=20.0, ub_f=10.0, lb_f=-1.0, ub_t=10.0, lb_t=-1.0, ub_d=2.0, lb_d=-2.0, cor_d=1.0, cor_t=1.0, cor_f=1.0, degradation=DegParam(friction=0.0, drift=0.0), drive_modes={'mode_args': 'set'}), r={'seed': 662546124}, sp={}, prob=0.005, inputparams={'amp': 2.8000000000000003, 'wavelength': 10.0, 'linetype': 'sine'}, rangeid='sine', name='sine_57', paramfunc=<class 'rover_model.RoverParam'>, fixedargs=(), fixedkwargs={'linetype': 'sine'}),\n",
       " 'sine_58': ParamScenario(sequence={}, times=(), p=RoverParam(linetype='sine', period=0.3141592653589793, end=(20.0, 0.0), initangle=41.33634263114563, amp=2.8000000000000003, wavelength=20.0, radius=20.0, start=20.0, ub_f=10.0, lb_f=-1.0, ub_t=10.0, lb_t=-1.0, ub_d=2.0, lb_d=-2.0, cor_d=1.0, cor_t=1.0, cor_f=1.0, degradation=DegParam(friction=0.0, drift=0.0), drive_modes={'mode_args': 'set'}), r={'seed': 662546124}, sp={}, prob=0.005, inputparams={'amp': 2.8000000000000003, 'wavelength': 20.0, 'linetype': 'sine'}, rangeid='sine', name='sine_58', paramfunc=<class 'rover_model.RoverParam'>, fixedargs=(), fixedkwargs={'linetype': 'sine'}),\n",
       " 'sine_59': ParamScenario(sequence={}, times=(), p=RoverParam(linetype='sine', period=0.20943951023931953, end=(30.0, 0.0), initangle=30.388665522645628, amp=2.8000000000000003, wavelength=30.0, radius=20.0, start=20.0, ub_f=10.0, lb_f=-1.0, ub_t=10.0, lb_t=-1.0, ub_d=2.0, lb_d=-2.0, cor_d=1.0, cor_t=1.0, cor_f=1.0, degradation=DegParam(friction=0.0, drift=0.0), drive_modes={'mode_args': 'set'}), r={'seed': 662546124}, sp={}, prob=0.005, inputparams={'amp': 2.8000000000000003, 'wavelength': 30.0, 'linetype': 'sine'}, rangeid='sine', name='sine_59', paramfunc=<class 'rover_model.RoverParam'>, fixedargs=(), fixedkwargs={'linetype': 'sine'}),\n",
       " 'sine_60': ParamScenario(sequence={}, times=(), p=RoverParam(linetype='sine', period=0.15707963267948966, end=(40.0, 0.0), initangle=23.740996128556265, amp=2.8000000000000003, wavelength=40.0, radius=20.0, start=20.0, ub_f=10.0, lb_f=-1.0, ub_t=10.0, lb_t=-1.0, ub_d=2.0, lb_d=-2.0, cor_d=1.0, cor_t=1.0, cor_f=1.0, degradation=DegParam(friction=0.0, drift=0.0), drive_modes={'mode_args': 'set'}), r={'seed': 662546124}, sp={}, prob=0.005, inputparams={'amp': 2.8000000000000003, 'wavelength': 40.0, 'linetype': 'sine'}, rangeid='sine', name='sine_60', paramfunc=<class 'rover_model.RoverParam'>, fixedargs=(), fixedkwargs={'linetype': 'sine'}),\n",
       " 'sine_61': ParamScenario(sequence={}, times=(), p=RoverParam(linetype='sine', period=0.6283185307179586, end=(10.0, 0.0), initangle=62.05331275452114, amp=3.0, wavelength=10.0, radius=20.0, start=20.0, ub_f=10.0, lb_f=-1.0, ub_t=10.0, lb_t=-1.0, ub_d=2.0, lb_d=-2.0, cor_d=1.0, cor_t=1.0, cor_f=1.0, degradation=DegParam(friction=0.0, drift=0.0), drive_modes={'mode_args': 'set'}), r={'seed': 662546124}, sp={}, prob=0.005, inputparams={'amp': 3.0, 'wavelength': 10.0, 'linetype': 'sine'}, rangeid='sine', name='sine_61', paramfunc=<class 'rover_model.RoverParam'>, fixedargs=(), fixedkwargs={'linetype': 'sine'}),\n",
       " 'sine_62': ParamScenario(sequence={}, times=(), p=RoverParam(linetype='sine', period=0.3141592653589793, end=(20.0, 0.0), initangle=43.303807307170665, amp=3.0, wavelength=20.0, radius=20.0, start=20.0, ub_f=10.0, lb_f=-1.0, ub_t=10.0, lb_t=-1.0, ub_d=2.0, lb_d=-2.0, cor_d=1.0, cor_t=1.0, cor_f=1.0, degradation=DegParam(friction=0.0, drift=0.0), drive_modes={'mode_args': 'set'}), r={'seed': 662546124}, sp={}, prob=0.005, inputparams={'amp': 3.0, 'wavelength': 20.0, 'linetype': 'sine'}, rangeid='sine', name='sine_62', paramfunc=<class 'rover_model.RoverParam'>, fixedargs=(), fixedkwargs={'linetype': 'sine'}),\n",
       " 'sine_63': ParamScenario(sequence={}, times=(), p=RoverParam(linetype='sine', period=0.20943951023931953, end=(30.0, 0.0), initangle=32.14190763534206, amp=3.0, wavelength=30.0, radius=20.0, start=20.0, ub_f=10.0, lb_f=-1.0, ub_t=10.0, lb_t=-1.0, ub_d=2.0, lb_d=-2.0, cor_d=1.0, cor_t=1.0, cor_f=1.0, degradation=DegParam(friction=0.0, drift=0.0), drive_modes={'mode_args': 'set'}), r={'seed': 662546124}, sp={}, prob=0.005, inputparams={'amp': 3.0, 'wavelength': 30.0, 'linetype': 'sine'}, rangeid='sine', name='sine_63', paramfunc=<class 'rover_model.RoverParam'>, fixedargs=(), fixedkwargs={'linetype': 'sine'}),\n",
       " 'sine_64': ParamScenario(sequence={}, times=(), p=RoverParam(linetype='sine', period=0.15707963267948966, end=(40.0, 0.0), initangle=25.231637200867823, amp=3.0, wavelength=40.0, radius=20.0, start=20.0, ub_f=10.0, lb_f=-1.0, ub_t=10.0, lb_t=-1.0, ub_d=2.0, lb_d=-2.0, cor_d=1.0, cor_t=1.0, cor_f=1.0, degradation=DegParam(friction=0.0, drift=0.0), drive_modes={'mode_args': 'set'}), r={'seed': 662546124}, sp={}, prob=0.005, inputparams={'amp': 3.0, 'wavelength': 40.0, 'linetype': 'sine'}, rangeid='sine', name='sine_64', paramfunc=<class 'rover_model.RoverParam'>, fixedargs=(), fixedkwargs={'linetype': 'sine'}),\n",
       " 'sine_65': ParamScenario(sequence={}, times=(), p=RoverParam(linetype='sine', period=0.6283185307179586, end=(10.0, 0.0), initangle=63.55612212608379, amp=3.2, wavelength=10.0, radius=20.0, start=20.0, ub_f=10.0, lb_f=-1.0, ub_t=10.0, lb_t=-1.0, ub_d=2.0, lb_d=-2.0, cor_d=1.0, cor_t=1.0, cor_f=1.0, degradation=DegParam(friction=0.0, drift=0.0), drive_modes={'mode_args': 'set'}), r={'seed': 662546124}, sp={}, prob=0.005, inputparams={'amp': 3.2, 'wavelength': 10.0, 'linetype': 'sine'}, rangeid='sine', name='sine_65', paramfunc=<class 'rover_model.RoverParam'>, fixedargs=(), fixedkwargs={'linetype': 'sine'}),\n",
       " 'sine_66': ParamScenario(sequence={}, times=(), p=RoverParam(linetype='sine', period=0.3141592653589793, end=(20.0, 0.0), initangle=45.151707132165285, amp=3.2, wavelength=20.0, radius=20.0, start=20.0, ub_f=10.0, lb_f=-1.0, ub_t=10.0, lb_t=-1.0, ub_d=2.0, lb_d=-2.0, cor_d=1.0, cor_t=1.0, cor_f=1.0, degradation=DegParam(friction=0.0, drift=0.0), drive_modes={'mode_args': 'set'}), r={'seed': 662546124}, sp={}, prob=0.005, inputparams={'amp': 3.2, 'wavelength': 20.0, 'linetype': 'sine'}, rangeid='sine', name='sine_66', paramfunc=<class 'rover_model.RoverParam'>, fixedargs=(), fixedkwargs={'linetype': 'sine'}),\n",
       " 'sine_67': ParamScenario(sequence={}, times=(), p=RoverParam(linetype='sine', period=0.20943951023931953, end=(30.0, 0.0), initangle=33.83024768364381, amp=3.2, wavelength=30.0, radius=20.0, start=20.0, ub_f=10.0, lb_f=-1.0, ub_t=10.0, lb_t=-1.0, ub_d=2.0, lb_d=-2.0, cor_d=1.0, cor_t=1.0, cor_f=1.0, degradation=DegParam(friction=0.0, drift=0.0), drive_modes={'mode_args': 'set'}), r={'seed': 662546124}, sp={}, prob=0.005, inputparams={'amp': 3.2, 'wavelength': 30.0, 'linetype': 'sine'}, rangeid='sine', name='sine_67', paramfunc=<class 'rover_model.RoverParam'>, fixedargs=(), fixedkwargs={'linetype': 'sine'}),\n",
       " 'sine_68': ParamScenario(sequence={}, times=(), p=RoverParam(linetype='sine', period=0.15707963267948966, end=(40.0, 0.0), initangle=26.68661010221531, amp=3.2, wavelength=40.0, radius=20.0, start=20.0, ub_f=10.0, lb_f=-1.0, ub_t=10.0, lb_t=-1.0, ub_d=2.0, lb_d=-2.0, cor_d=1.0, cor_t=1.0, cor_f=1.0, degradation=DegParam(friction=0.0, drift=0.0), drive_modes={'mode_args': 'set'}), r={'seed': 662546124}, sp={}, prob=0.005, inputparams={'amp': 3.2, 'wavelength': 40.0, 'linetype': 'sine'}, rangeid='sine', name='sine_68', paramfunc=<class 'rover_model.RoverParam'>, fixedargs=(), fixedkwargs={'linetype': 'sine'}),\n",
       " 'sine_69': ParamScenario(sequence={}, times=(), p=RoverParam(linetype='sine', period=0.6283185307179586, end=(10.0, 0.0), initangle=64.91557566118576, amp=3.4000000000000004, wavelength=10.0, radius=20.0, start=20.0, ub_f=10.0, lb_f=-1.0, ub_t=10.0, lb_t=-1.0, ub_d=2.0, lb_d=-2.0, cor_d=1.0, cor_t=1.0, cor_f=1.0, degradation=DegParam(friction=0.0, drift=0.0), drive_modes={'mode_args': 'set'}), r={'seed': 662546124}, sp={}, prob=0.005, inputparams={'amp': 3.4000000000000004, 'wavelength': 10.0, 'linetype': 'sine'}, rangeid='sine', name='sine_69', paramfunc=<class 'rover_model.RoverParam'>, fixedargs=(), fixedkwargs={'linetype': 'sine'}),\n",
       " 'sine_70': ParamScenario(sequence={}, times=(), p=RoverParam(linetype='sine', period=0.3141592653589793, end=(20.0, 0.0), initangle=46.887109086835764, amp=3.4000000000000004, wavelength=20.0, radius=20.0, start=20.0, ub_f=10.0, lb_f=-1.0, ub_t=10.0, lb_t=-1.0, ub_d=2.0, lb_d=-2.0, cor_d=1.0, cor_t=1.0, cor_f=1.0, degradation=DegParam(friction=0.0, drift=0.0), drive_modes={'mode_args': 'set'}), r={'seed': 662546124}, sp={}, prob=0.005, inputparams={'amp': 3.4000000000000004, 'wavelength': 20.0, 'linetype': 'sine'}, rangeid='sine', name='sine_70', paramfunc=<class 'rover_model.RoverParam'>, fixedargs=(), fixedkwargs={'linetype': 'sine'}),\n",
       " 'sine_71': ParamScenario(sequence={}, times=(), p=RoverParam(linetype='sine', period=0.20943951023931953, end=(30.0, 0.0), initangle=35.45445263173481, amp=3.4000000000000004, wavelength=30.0, radius=20.0, start=20.0, ub_f=10.0, lb_f=-1.0, ub_t=10.0, lb_t=-1.0, ub_d=2.0, lb_d=-2.0, cor_d=1.0, cor_t=1.0, cor_f=1.0, degradation=DegParam(friction=0.0, drift=0.0), drive_modes={'mode_args': 'set'}), r={'seed': 662546124}, sp={}, prob=0.005, inputparams={'amp': 3.4000000000000004, 'wavelength': 30.0, 'linetype': 'sine'}, rangeid='sine', name='sine_71', paramfunc=<class 'rover_model.RoverParam'>, fixedargs=(), fixedkwargs={'linetype': 'sine'}),\n",
       " 'sine_72': ParamScenario(sequence={}, times=(), p=RoverParam(linetype='sine', period=0.15707963267948966, end=(40.0, 0.0), initangle=28.105371183101663, amp=3.4000000000000004, wavelength=40.0, radius=20.0, start=20.0, ub_f=10.0, lb_f=-1.0, ub_t=10.0, lb_t=-1.0, ub_d=2.0, lb_d=-2.0, cor_d=1.0, cor_t=1.0, cor_f=1.0, degradation=DegParam(friction=0.0, drift=0.0), drive_modes={'mode_args': 'set'}), r={'seed': 662546124}, sp={}, prob=0.005, inputparams={'amp': 3.4000000000000004, 'wavelength': 40.0, 'linetype': 'sine'}, rangeid='sine', name='sine_72', paramfunc=<class 'rover_model.RoverParam'>, fixedargs=(), fixedkwargs={'linetype': 'sine'}),\n",
       " 'sine_73': ParamScenario(sequence={}, times=(), p=RoverParam(linetype='sine', period=0.6283185307179586, end=(10.0, 0.0), initangle=66.14991905485098, amp=3.6, wavelength=10.0, radius=20.0, start=20.0, ub_f=10.0, lb_f=-1.0, ub_t=10.0, lb_t=-1.0, ub_d=2.0, lb_d=-2.0, cor_d=1.0, cor_t=1.0, cor_f=1.0, degradation=DegParam(friction=0.0, drift=0.0), drive_modes={'mode_args': 'set'}), r={'seed': 662546124}, sp={}, prob=0.005, inputparams={'amp': 3.6, 'wavelength': 10.0, 'linetype': 'sine'}, rangeid='sine', name='sine_73', paramfunc=<class 'rover_model.RoverParam'>, fixedargs=(), fixedkwargs={'linetype': 'sine'}),\n",
       " 'sine_74': ParamScenario(sequence={}, times=(), p=RoverParam(linetype='sine', period=0.3141592653589793, end=(20.0, 0.0), initangle=48.51707478924927, amp=3.6, wavelength=20.0, radius=20.0, start=20.0, ub_f=10.0, lb_f=-1.0, ub_t=10.0, lb_t=-1.0, ub_d=2.0, lb_d=-2.0, cor_d=1.0, cor_t=1.0, cor_f=1.0, degradation=DegParam(friction=0.0, drift=0.0), drive_modes={'mode_args': 'set'}), r={'seed': 662546124}, sp={}, prob=0.005, inputparams={'amp': 3.6, 'wavelength': 20.0, 'linetype': 'sine'}, rangeid='sine', name='sine_74', paramfunc=<class 'rover_model.RoverParam'>, fixedargs=(), fixedkwargs={'linetype': 'sine'}),\n",
       " 'sine_75': ParamScenario(sequence={}, times=(), p=RoverParam(linetype='sine', period=0.20943951023931953, end=(30.0, 0.0), initangle=37.015644573182065, amp=3.6, wavelength=30.0, radius=20.0, start=20.0, ub_f=10.0, lb_f=-1.0, ub_t=10.0, lb_t=-1.0, ub_d=2.0, lb_d=-2.0, cor_d=1.0, cor_t=1.0, cor_f=1.0, degradation=DegParam(friction=0.0, drift=0.0), drive_modes={'mode_args': 'set'}), r={'seed': 662546124}, sp={}, prob=0.005, inputparams={'amp': 3.6, 'wavelength': 30.0, 'linetype': 'sine'}, rangeid='sine', name='sine_75', paramfunc=<class 'rover_model.RoverParam'>, fixedargs=(), fixedkwargs={'linetype': 'sine'}),\n",
       " 'sine_76': ParamScenario(sequence={}, times=(), p=RoverParam(linetype='sine', period=0.15707963267948966, end=(40.0, 0.0), initangle=29.48758095751294, amp=3.6, wavelength=40.0, radius=20.0, start=20.0, ub_f=10.0, lb_f=-1.0, ub_t=10.0, lb_t=-1.0, ub_d=2.0, lb_d=-2.0, cor_d=1.0, cor_t=1.0, cor_f=1.0, degradation=DegParam(friction=0.0, drift=0.0), drive_modes={'mode_args': 'set'}), r={'seed': 662546124}, sp={}, prob=0.005, inputparams={'amp': 3.6, 'wavelength': 40.0, 'linetype': 'sine'}, rangeid='sine', name='sine_76', paramfunc=<class 'rover_model.RoverParam'>, fixedargs=(), fixedkwargs={'linetype': 'sine'}),\n",
       " 'sine_77': ParamScenario(sequence={}, times=(), p=RoverParam(linetype='sine', period=0.6283185307179586, end=(10.0, 0.0), initangle=67.27466074604328, amp=3.8000000000000003, wavelength=10.0, radius=20.0, start=20.0, ub_f=10.0, lb_f=-1.0, ub_t=10.0, lb_t=-1.0, ub_d=2.0, lb_d=-2.0, cor_d=1.0, cor_t=1.0, cor_f=1.0, degradation=DegParam(friction=0.0, drift=0.0), drive_modes={'mode_args': 'set'}), r={'seed': 662546124}, sp={}, prob=0.005, inputparams={'amp': 3.8000000000000003, 'wavelength': 10.0, 'linetype': 'sine'}, rangeid='sine', name='sine_77', paramfunc=<class 'rover_model.RoverParam'>, fixedargs=(), fixedkwargs={'linetype': 'sine'}),\n",
       " 'sine_78': ParamScenario(sequence={}, times=(), p=RoverParam(linetype='sine', period=0.3141592653589793, end=(20.0, 0.0), initangle=50.04851935710306, amp=3.8000000000000003, wavelength=20.0, radius=20.0, start=20.0, ub_f=10.0, lb_f=-1.0, ub_t=10.0, lb_t=-1.0, ub_d=2.0, lb_d=-2.0, cor_d=1.0, cor_t=1.0, cor_f=1.0, degradation=DegParam(friction=0.0, drift=0.0), drive_modes={'mode_args': 'set'}), r={'seed': 662546124}, sp={}, prob=0.005, inputparams={'amp': 3.8000000000000003, 'wavelength': 20.0, 'linetype': 'sine'}, rangeid='sine', name='sine_78', paramfunc=<class 'rover_model.RoverParam'>, fixedargs=(), fixedkwargs={'linetype': 'sine'}),\n",
       " 'sine_79': ParamScenario(sequence={}, times=(), p=RoverParam(linetype='sine', period=0.20943951023931953, end=(30.0, 0.0), initangle=38.51523461780848, amp=3.8000000000000003, wavelength=30.0, radius=20.0, start=20.0, ub_f=10.0, lb_f=-1.0, ub_t=10.0, lb_t=-1.0, ub_d=2.0, lb_d=-2.0, cor_d=1.0, cor_t=1.0, cor_f=1.0, degradation=DegParam(friction=0.0, drift=0.0), drive_modes={'mode_args': 'set'}), r={'seed': 662546124}, sp={}, prob=0.005, inputparams={'amp': 3.8000000000000003, 'wavelength': 30.0, 'linetype': 'sine'}, rangeid='sine', name='sine_79', paramfunc=<class 'rover_model.RoverParam'>, fixedargs=(), fixedkwargs={'linetype': 'sine'}),\n",
       " 'sine_80': ParamScenario(sequence={}, times=(), p=RoverParam(linetype='sine', period=0.15707963267948966, end=(40.0, 0.0), initangle=30.833087237305055, amp=3.8000000000000003, wavelength=40.0, radius=20.0, start=20.0, ub_f=10.0, lb_f=-1.0, ub_t=10.0, lb_t=-1.0, ub_d=2.0, lb_d=-2.0, cor_d=1.0, cor_t=1.0, cor_f=1.0, degradation=DegParam(friction=0.0, drift=0.0), drive_modes={'mode_args': 'set'}), r={'seed': 662546124}, sp={}, prob=0.005, inputparams={'amp': 3.8000000000000003, 'wavelength': 40.0, 'linetype': 'sine'}, rangeid='sine', name='sine_80', paramfunc=<class 'rover_model.RoverParam'>, fixedargs=(), fixedkwargs={'linetype': 'sine'}),\n",
       " 'sine_81': ParamScenario(sequence={}, times=(), p=RoverParam(linetype='sine', period=0.6283185307179586, end=(10.0, 0.0), initangle=68.30301602845995, amp=4.0, wavelength=10.0, radius=20.0, start=20.0, ub_f=10.0, lb_f=-1.0, ub_t=10.0, lb_t=-1.0, ub_d=2.0, lb_d=-2.0, cor_d=1.0, cor_t=1.0, cor_f=1.0, degradation=DegParam(friction=0.0, drift=0.0), drive_modes={'mode_args': 'set'}), r={'seed': 662546124}, sp={}, prob=0.005, inputparams={'amp': 4.0, 'wavelength': 10.0, 'linetype': 'sine'}, rangeid='sine', name='sine_81', paramfunc=<class 'rover_model.RoverParam'>, fixedargs=(), fixedkwargs={'linetype': 'sine'}),\n",
       " 'sine_82': ParamScenario(sequence={}, times=(), p=RoverParam(linetype='sine', period=0.3141592653589793, end=(20.0, 0.0), initangle=51.48811274603342, amp=4.0, wavelength=20.0, radius=20.0, start=20.0, ub_f=10.0, lb_f=-1.0, ub_t=10.0, lb_t=-1.0, ub_d=2.0, lb_d=-2.0, cor_d=1.0, cor_t=1.0, cor_f=1.0, degradation=DegParam(friction=0.0, drift=0.0), drive_modes={'mode_args': 'set'}), r={'seed': 662546124}, sp={}, prob=0.005, inputparams={'amp': 4.0, 'wavelength': 20.0, 'linetype': 'sine'}, rangeid='sine', name='sine_82', paramfunc=<class 'rover_model.RoverParam'>, fixedargs=(), fixedkwargs={'linetype': 'sine'}),\n",
       " 'sine_83': ParamScenario(sequence={}, times=(), p=RoverParam(linetype='sine', period=0.20943951023931953, end=(30.0, 0.0), initangle=39.95486251564436, amp=4.0, wavelength=30.0, radius=20.0, start=20.0, ub_f=10.0, lb_f=-1.0, ub_t=10.0, lb_t=-1.0, ub_d=2.0, lb_d=-2.0, cor_d=1.0, cor_t=1.0, cor_f=1.0, degradation=DegParam(friction=0.0, drift=0.0), drive_modes={'mode_args': 'set'}), r={'seed': 662546124}, sp={}, prob=0.005, inputparams={'amp': 4.0, 'wavelength': 30.0, 'linetype': 'sine'}, rangeid='sine', name='sine_83', paramfunc=<class 'rover_model.RoverParam'>, fixedargs=(), fixedkwargs={'linetype': 'sine'}),\n",
       " 'sine_84': ParamScenario(sequence={}, times=(), p=RoverParam(linetype='sine', period=0.15707963267948966, end=(40.0, 0.0), initangle=32.14190763534206, amp=4.0, wavelength=40.0, radius=20.0, start=20.0, ub_f=10.0, lb_f=-1.0, ub_t=10.0, lb_t=-1.0, ub_d=2.0, lb_d=-2.0, cor_d=1.0, cor_t=1.0, cor_f=1.0, degradation=DegParam(friction=0.0, drift=0.0), drive_modes={'mode_args': 'set'}), r={'seed': 662546124}, sp={}, prob=0.005, inputparams={'amp': 4.0, 'wavelength': 40.0, 'linetype': 'sine'}, rangeid='sine', name='sine_84', paramfunc=<class 'rover_model.RoverParam'>, fixedargs=(), fixedkwargs={'linetype': 'sine'}),\n",
       " 'sine_85': ParamScenario(sequence={}, times=(), p=RoverParam(linetype='sine', period=0.6283185307179586, end=(10.0, 0.0), initangle=69.24628077947847, amp=4.2, wavelength=10.0, radius=20.0, start=20.0, ub_f=10.0, lb_f=-1.0, ub_t=10.0, lb_t=-1.0, ub_d=2.0, lb_d=-2.0, cor_d=1.0, cor_t=1.0, cor_f=1.0, degradation=DegParam(friction=0.0, drift=0.0), drive_modes={'mode_args': 'set'}), r={'seed': 662546124}, sp={}, prob=0.005, inputparams={'amp': 4.2, 'wavelength': 10.0, 'linetype': 'sine'}, rangeid='sine', name='sine_85', paramfunc=<class 'rover_model.RoverParam'>, fixedargs=(), fixedkwargs={'linetype': 'sine'}),\n",
       " 'sine_86': ParamScenario(sequence={}, times=(), p=RoverParam(linetype='sine', period=0.3141592653589793, end=(20.0, 0.0), initangle=52.842214725054696, amp=4.2, wavelength=20.0, radius=20.0, start=20.0, ub_f=10.0, lb_f=-1.0, ub_t=10.0, lb_t=-1.0, ub_d=2.0, lb_d=-2.0, cor_d=1.0, cor_t=1.0, cor_f=1.0, degradation=DegParam(friction=0.0, drift=0.0), drive_modes={'mode_args': 'set'}), r={'seed': 662546124}, sp={}, prob=0.005, inputparams={'amp': 4.2, 'wavelength': 20.0, 'linetype': 'sine'}, rangeid='sine', name='sine_86', paramfunc=<class 'rover_model.RoverParam'>, fixedargs=(), fixedkwargs={'linetype': 'sine'}),\n",
       " 'sine_87': ParamScenario(sequence={}, times=(), p=RoverParam(linetype='sine', period=0.20943951023931953, end=(30.0, 0.0), initangle=41.33634263114562, amp=4.2, wavelength=30.0, radius=20.0, start=20.0, ub_f=10.0, lb_f=-1.0, ub_t=10.0, lb_t=-1.0, ub_d=2.0, lb_d=-2.0, cor_d=1.0, cor_t=1.0, cor_f=1.0, degradation=DegParam(friction=0.0, drift=0.0), drive_modes={'mode_args': 'set'}), r={'seed': 662546124}, sp={}, prob=0.005, inputparams={'amp': 4.2, 'wavelength': 30.0, 'linetype': 'sine'}, rangeid='sine', name='sine_87', paramfunc=<class 'rover_model.RoverParam'>, fixedargs=(), fixedkwargs={'linetype': 'sine'}),\n",
       " 'sine_88': ParamScenario(sequence={}, times=(), p=RoverParam(linetype='sine', period=0.15707963267948966, end=(40.0, 0.0), initangle=33.414211895843685, amp=4.2, wavelength=40.0, radius=20.0, start=20.0, ub_f=10.0, lb_f=-1.0, ub_t=10.0, lb_t=-1.0, ub_d=2.0, lb_d=-2.0, cor_d=1.0, cor_t=1.0, cor_f=1.0, degradation=DegParam(friction=0.0, drift=0.0), drive_modes={'mode_args': 'set'}), r={'seed': 662546124}, sp={}, prob=0.005, inputparams={'amp': 4.2, 'wavelength': 40.0, 'linetype': 'sine'}, rangeid='sine', name='sine_88', paramfunc=<class 'rover_model.RoverParam'>, fixedargs=(), fixedkwargs={'linetype': 'sine'}),\n",
       " 'sine_89': ParamScenario(sequence={}, times=(), p=RoverParam(linetype='sine', period=0.6283185307179586, end=(10.0, 0.0), initangle=70.11414317732839, amp=4.4, wavelength=10.0, radius=20.0, start=20.0, ub_f=10.0, lb_f=-1.0, ub_t=10.0, lb_t=-1.0, ub_d=2.0, lb_d=-2.0, cor_d=1.0, cor_t=1.0, cor_f=1.0, degradation=DegParam(friction=0.0, drift=0.0), drive_modes={'mode_args': 'set'}), r={'seed': 662546124}, sp={}, prob=0.005, inputparams={'amp': 4.4, 'wavelength': 10.0, 'linetype': 'sine'}, rangeid='sine', name='sine_89', paramfunc=<class 'rover_model.RoverParam'>, fixedargs=(), fixedkwargs={'linetype': 'sine'}),\n",
       " 'sine_90': ParamScenario(sequence={}, times=(), p=RoverParam(linetype='sine', period=0.3141592653589793, end=(20.0, 0.0), initangle=54.116835785734274, amp=4.4, wavelength=20.0, radius=20.0, start=20.0, ub_f=10.0, lb_f=-1.0, ub_t=10.0, lb_t=-1.0, ub_d=2.0, lb_d=-2.0, cor_d=1.0, cor_t=1.0, cor_f=1.0, degradation=DegParam(friction=0.0, drift=0.0), drive_modes={'mode_args': 'set'}), r={'seed': 662546124}, sp={}, prob=0.005, inputparams={'amp': 4.4, 'wavelength': 20.0, 'linetype': 'sine'}, rangeid='sine', name='sine_90', paramfunc=<class 'rover_model.RoverParam'>, fixedargs=(), fixedkwargs={'linetype': 'sine'}),\n",
       " 'sine_91': ParamScenario(sequence={}, times=(), p=RoverParam(linetype='sine', period=0.20943951023931953, end=(30.0, 0.0), initangle=42.661616472953824, amp=4.4, wavelength=30.0, radius=20.0, start=20.0, ub_f=10.0, lb_f=-1.0, ub_t=10.0, lb_t=-1.0, ub_d=2.0, lb_d=-2.0, cor_d=1.0, cor_t=1.0, cor_f=1.0, degradation=DegParam(friction=0.0, drift=0.0), drive_modes={'mode_args': 'set'}), r={'seed': 662546124}, sp={}, prob=0.005, inputparams={'amp': 4.4, 'wavelength': 30.0, 'linetype': 'sine'}, rangeid='sine', name='sine_91', paramfunc=<class 'rover_model.RoverParam'>, fixedargs=(), fixedkwargs={'linetype': 'sine'}),\n",
       " 'sine_92': ParamScenario(sequence={}, times=(), p=RoverParam(linetype='sine', period=0.15707963267948966, end=(40.0, 0.0), initangle=34.65030443708276, amp=4.4, wavelength=40.0, radius=20.0, start=20.0, ub_f=10.0, lb_f=-1.0, ub_t=10.0, lb_t=-1.0, ub_d=2.0, lb_d=-2.0, cor_d=1.0, cor_t=1.0, cor_f=1.0, degradation=DegParam(friction=0.0, drift=0.0), drive_modes={'mode_args': 'set'}), r={'seed': 662546124}, sp={}, prob=0.005, inputparams={'amp': 4.4, 'wavelength': 40.0, 'linetype': 'sine'}, rangeid='sine', name='sine_92', paramfunc=<class 'rover_model.RoverParam'>, fixedargs=(), fixedkwargs={'linetype': 'sine'}),\n",
       " 'sine_93': ParamScenario(sequence={}, times=(), p=RoverParam(linetype='sine', period=0.6283185307179586, end=(10.0, 0.0), initangle=70.91494244791546, amp=4.6000000000000005, wavelength=10.0, radius=20.0, start=20.0, ub_f=10.0, lb_f=-1.0, ub_t=10.0, lb_t=-1.0, ub_d=2.0, lb_d=-2.0, cor_d=1.0, cor_t=1.0, cor_f=1.0, degradation=DegParam(friction=0.0, drift=0.0), drive_modes={'mode_args': 'set'}), r={'seed': 662546124}, sp={}, prob=0.005, inputparams={'amp': 4.6000000000000005, 'wavelength': 10.0, 'linetype': 'sine'}, rangeid='sine', name='sine_93', paramfunc=<class 'rover_model.RoverParam'>, fixedargs=(), fixedkwargs={'linetype': 'sine'}),\n",
       " 'sine_94': ParamScenario(sequence={}, times=(), p=RoverParam(linetype='sine', period=0.3141592653589793, end=(20.0, 0.0), initangle=55.31761754329711, amp=4.6000000000000005, wavelength=20.0, radius=20.0, start=20.0, ub_f=10.0, lb_f=-1.0, ub_t=10.0, lb_t=-1.0, ub_d=2.0, lb_d=-2.0, cor_d=1.0, cor_t=1.0, cor_f=1.0, degradation=DegParam(friction=0.0, drift=0.0), drive_modes={'mode_args': 'set'}), r={'seed': 662546124}, sp={}, prob=0.005, inputparams={'amp': 4.6000000000000005, 'wavelength': 20.0, 'linetype': 'sine'}, rangeid='sine', name='sine_94', paramfunc=<class 'rover_model.RoverParam'>, fixedargs=(), fixedkwargs={'linetype': 'sine'}),\n",
       " 'sine_95': ParamScenario(sequence={}, times=(), p=RoverParam(linetype='sine', period=0.20943951023931953, end=(30.0, 0.0), initangle=43.932711677965436, amp=4.6000000000000005, wavelength=30.0, radius=20.0, start=20.0, ub_f=10.0, lb_f=-1.0, ub_t=10.0, lb_t=-1.0, ub_d=2.0, lb_d=-2.0, cor_d=1.0, cor_t=1.0, cor_f=1.0, degradation=DegParam(friction=0.0, drift=0.0), drive_modes={'mode_args': 'set'}), r={'seed': 662546124}, sp={}, prob=0.005, inputparams={'amp': 4.6000000000000005, 'wavelength': 30.0, 'linetype': 'sine'}, rangeid='sine', name='sine_95', paramfunc=<class 'rover_model.RoverParam'>, fixedargs=(), fixedkwargs={'linetype': 'sine'}),\n",
       " 'sine_96': ParamScenario(sequence={}, times=(), p=RoverParam(linetype='sine', period=0.15707963267948966, end=(40.0, 0.0), initangle=35.850607418335656, amp=4.6000000000000005, wavelength=40.0, radius=20.0, start=20.0, ub_f=10.0, lb_f=-1.0, ub_t=10.0, lb_t=-1.0, ub_d=2.0, lb_d=-2.0, cor_d=1.0, cor_t=1.0, cor_f=1.0, degradation=DegParam(friction=0.0, drift=0.0), drive_modes={'mode_args': 'set'}), r={'seed': 662546124}, sp={}, prob=0.005, inputparams={'amp': 4.6000000000000005, 'wavelength': 40.0, 'linetype': 'sine'}, rangeid='sine', name='sine_96', paramfunc=<class 'rover_model.RoverParam'>, fixedargs=(), fixedkwargs={'linetype': 'sine'}),\n",
       " 'sine_97': ParamScenario(sequence={}, times=(), p=RoverParam(linetype='sine', period=0.6283185307179586, end=(10.0, 0.0), initangle=71.6558831891914, amp=4.800000000000001, wavelength=10.0, radius=20.0, start=20.0, ub_f=10.0, lb_f=-1.0, ub_t=10.0, lb_t=-1.0, ub_d=2.0, lb_d=-2.0, cor_d=1.0, cor_t=1.0, cor_f=1.0, degradation=DegParam(friction=0.0, drift=0.0), drive_modes={'mode_args': 'set'}), r={'seed': 662546124}, sp={}, prob=0.005, inputparams={'amp': 4.800000000000001, 'wavelength': 10.0, 'linetype': 'sine'}, rangeid='sine', name='sine_97', paramfunc=<class 'rover_model.RoverParam'>, fixedargs=(), fixedkwargs={'linetype': 'sine'}),\n",
       " 'sine_98': ParamScenario(sequence={}, times=(), p=RoverParam(linetype='sine', period=0.3141592653589793, end=(20.0, 0.0), initangle=56.44982740917768, amp=4.800000000000001, wavelength=20.0, radius=20.0, start=20.0, ub_f=10.0, lb_f=-1.0, ub_t=10.0, lb_t=-1.0, ub_d=2.0, lb_d=-2.0, cor_d=1.0, cor_t=1.0, cor_f=1.0, degradation=DegParam(friction=0.0, drift=0.0), drive_modes={'mode_args': 'set'}), r={'seed': 662546124}, sp={}, prob=0.005, inputparams={'amp': 4.800000000000001, 'wavelength': 20.0, 'linetype': 'sine'}, rangeid='sine', name='sine_98', paramfunc=<class 'rover_model.RoverParam'>, fixedargs=(), fixedkwargs={'linetype': 'sine'}),\n",
       " 'sine_99': ParamScenario(sequence={}, times=(), p=RoverParam(linetype='sine', period=0.20943951023931953, end=(30.0, 0.0), initangle=45.151707132165285, amp=4.800000000000001, wavelength=30.0, radius=20.0, start=20.0, ub_f=10.0, lb_f=-1.0, ub_t=10.0, lb_t=-1.0, ub_d=2.0, lb_d=-2.0, cor_d=1.0, cor_t=1.0, cor_f=1.0, degradation=DegParam(friction=0.0, drift=0.0), drive_modes={'mode_args': 'set'}), r={'seed': 662546124}, sp={}, prob=0.005, inputparams={'amp': 4.800000000000001, 'wavelength': 30.0, 'linetype': 'sine'}, rangeid='sine', name='sine_99', paramfunc=<class 'rover_model.RoverParam'>, fixedargs=(), fixedkwargs={'linetype': 'sine'}),\n",
       " 'sine_100': ParamScenario(sequence={}, times=(), p=RoverParam(linetype='sine', period=0.15707963267948966, end=(40.0, 0.0), initangle=37.01564457318208, amp=4.800000000000001, wavelength=40.0, radius=20.0, start=20.0, ub_f=10.0, lb_f=-1.0, ub_t=10.0, lb_t=-1.0, ub_d=2.0, lb_d=-2.0, cor_d=1.0, cor_t=1.0, cor_f=1.0, degradation=DegParam(friction=0.0, drift=0.0), drive_modes={'mode_args': 'set'}), r={'seed': 662546124}, sp={}, prob=0.005, inputparams={'amp': 4.800000000000001, 'wavelength': 40.0, 'linetype': 'sine'}, rangeid='sine', name='sine_100', paramfunc=<class 'rover_model.RoverParam'>, fixedargs=(), fixedkwargs={'linetype': 'sine'}),\n",
       " 'sine_101': ParamScenario(sequence={}, times=(), p=RoverParam(linetype='sine', period=0.6283185307179586, end=(10.0, 0.0), initangle=72.34321284858713, amp=5.0, wavelength=10.0, radius=20.0, start=20.0, ub_f=10.0, lb_f=-1.0, ub_t=10.0, lb_t=-1.0, ub_d=2.0, lb_d=-2.0, cor_d=1.0, cor_t=1.0, cor_f=1.0, degradation=DegParam(friction=0.0, drift=0.0), drive_modes={'mode_args': 'set'}), r={'seed': 662546124}, sp={}, prob=0.005, inputparams={'amp': 5.0, 'wavelength': 10.0, 'linetype': 'sine'}, rangeid='sine', name='sine_101', paramfunc=<class 'rover_model.RoverParam'>, fixedargs=(), fixedkwargs={'linetype': 'sine'}),\n",
       " 'sine_102': ParamScenario(sequence={}, times=(), p=RoverParam(linetype='sine', period=0.3141592653589793, end=(20.0, 0.0), initangle=57.51836340947025, amp=5.0, wavelength=20.0, radius=20.0, start=20.0, ub_f=10.0, lb_f=-1.0, ub_t=10.0, lb_t=-1.0, ub_d=2.0, lb_d=-2.0, cor_d=1.0, cor_t=1.0, cor_f=1.0, degradation=DegParam(friction=0.0, drift=0.0), drive_modes={'mode_args': 'set'}), r={'seed': 662546124}, sp={}, prob=0.005, inputparams={'amp': 5.0, 'wavelength': 20.0, 'linetype': 'sine'}, rangeid='sine', name='sine_102', paramfunc=<class 'rover_model.RoverParam'>, fixedargs=(), fixedkwargs={'linetype': 'sine'}),\n",
       " 'sine_103': ParamScenario(sequence={}, times=(), p=RoverParam(linetype='sine', period=0.20943951023931953, end=(30.0, 0.0), initangle=46.32070377014736, amp=5.0, wavelength=30.0, radius=20.0, start=20.0, ub_f=10.0, lb_f=-1.0, ub_t=10.0, lb_t=-1.0, ub_d=2.0, lb_d=-2.0, cor_d=1.0, cor_t=1.0, cor_f=1.0, degradation=DegParam(friction=0.0, drift=0.0), drive_modes={'mode_args': 'set'}), r={'seed': 662546124}, sp={}, prob=0.005, inputparams={'amp': 5.0, 'wavelength': 30.0, 'linetype': 'sine'}, rangeid='sine', name='sine_103', paramfunc=<class 'rover_model.RoverParam'>, fixedargs=(), fixedkwargs={'linetype': 'sine'}),\n",
       " 'sine_104': ParamScenario(sequence={}, times=(), p=RoverParam(linetype='sine', period=0.15707963267948966, end=(40.0, 0.0), initangle=38.146025987222544, amp=5.0, wavelength=40.0, radius=20.0, start=20.0, ub_f=10.0, lb_f=-1.0, ub_t=10.0, lb_t=-1.0, ub_d=2.0, lb_d=-2.0, cor_d=1.0, cor_t=1.0, cor_f=1.0, degradation=DegParam(friction=0.0, drift=0.0), drive_modes={'mode_args': 'set'}), r={'seed': 662546124}, sp={}, prob=0.005, inputparams={'amp': 5.0, 'wavelength': 40.0, 'linetype': 'sine'}, rangeid='sine', name='sine_104', paramfunc=<class 'rover_model.RoverParam'>, fixedargs=(), fixedkwargs={'linetype': 'sine'}),\n",
       " 'sine_105': ParamScenario(sequence={}, times=(), p=RoverParam(linetype='sine', period=0.6283185307179586, end=(10.0, 0.0), initangle=72.98236882997156, amp=5.2, wavelength=10.0, radius=20.0, start=20.0, ub_f=10.0, lb_f=-1.0, ub_t=10.0, lb_t=-1.0, ub_d=2.0, lb_d=-2.0, cor_d=1.0, cor_t=1.0, cor_f=1.0, degradation=DegParam(friction=0.0, drift=0.0), drive_modes={'mode_args': 'set'}), r={'seed': 662546124}, sp={}, prob=0.005, inputparams={'amp': 5.2, 'wavelength': 10.0, 'linetype': 'sine'}, rangeid='sine', name='sine_105', paramfunc=<class 'rover_model.RoverParam'>, fixedargs=(), fixedkwargs={'linetype': 'sine'}),\n",
       " 'sine_106': ParamScenario(sequence={}, times=(), p=RoverParam(linetype='sine', period=0.3141592653589793, end=(20.0, 0.0), initangle=58.52776595780276, amp=5.2, wavelength=20.0, radius=20.0, start=20.0, ub_f=10.0, lb_f=-1.0, ub_t=10.0, lb_t=-1.0, ub_d=2.0, lb_d=-2.0, cor_d=1.0, cor_t=1.0, cor_f=1.0, degradation=DegParam(friction=0.0, drift=0.0), drive_modes={'mode_args': 'set'}), r={'seed': 662546124}, sp={}, prob=0.005, inputparams={'amp': 5.2, 'wavelength': 20.0, 'linetype': 'sine'}, rangeid='sine', name='sine_106', paramfunc=<class 'rover_model.RoverParam'>, fixedargs=(), fixedkwargs={'linetype': 'sine'}),\n",
       " 'sine_107': ParamScenario(sequence={}, times=(), p=RoverParam(linetype='sine', period=0.20943951023931953, end=(30.0, 0.0), initangle=47.44180051533094, amp=5.2, wavelength=30.0, radius=20.0, start=20.0, ub_f=10.0, lb_f=-1.0, ub_t=10.0, lb_t=-1.0, ub_d=2.0, lb_d=-2.0, cor_d=1.0, cor_t=1.0, cor_f=1.0, degradation=DegParam(friction=0.0, drift=0.0), drive_modes={'mode_args': 'set'}), r={'seed': 662546124}, sp={}, prob=0.005, inputparams={'amp': 5.2, 'wavelength': 30.0, 'linetype': 'sine'}, rangeid='sine', name='sine_107', paramfunc=<class 'rover_model.RoverParam'>, fixedargs=(), fixedkwargs={'linetype': 'sine'}),\n",
       " 'sine_108': ParamScenario(sequence={}, times=(), p=RoverParam(linetype='sine', period=0.15707963267948966, end=(40.0, 0.0), initangle=39.242433941492166, amp=5.2, wavelength=40.0, radius=20.0, start=20.0, ub_f=10.0, lb_f=-1.0, ub_t=10.0, lb_t=-1.0, ub_d=2.0, lb_d=-2.0, cor_d=1.0, cor_t=1.0, cor_f=1.0, degradation=DegParam(friction=0.0, drift=0.0), drive_modes={'mode_args': 'set'}), r={'seed': 662546124}, sp={}, prob=0.005, inputparams={'amp': 5.2, 'wavelength': 40.0, 'linetype': 'sine'}, rangeid='sine', name='sine_108', paramfunc=<class 'rover_model.RoverParam'>, fixedargs=(), fixedkwargs={'linetype': 'sine'}),\n",
       " 'sine_109': ParamScenario(sequence={}, times=(), p=RoverParam(linetype='sine', period=0.6283185307179586, end=(10.0, 0.0), initangle=73.57810065001503, amp=5.4, wavelength=10.0, radius=20.0, start=20.0, ub_f=10.0, lb_f=-1.0, ub_t=10.0, lb_t=-1.0, ub_d=2.0, lb_d=-2.0, cor_d=1.0, cor_t=1.0, cor_f=1.0, degradation=DegParam(friction=0.0, drift=0.0), drive_modes={'mode_args': 'set'}), r={'seed': 662546124}, sp={}, prob=0.005, inputparams={'amp': 5.4, 'wavelength': 10.0, 'linetype': 'sine'}, rangeid='sine', name='sine_109', paramfunc=<class 'rover_model.RoverParam'>, fixedargs=(), fixedkwargs={'linetype': 'sine'}),\n",
       " 'sine_110': ParamScenario(sequence={}, times=(), p=RoverParam(linetype='sine', period=0.3141592653589793, end=(20.0, 0.0), initangle=59.482234160578706, amp=5.4, wavelength=20.0, radius=20.0, start=20.0, ub_f=10.0, lb_f=-1.0, ub_t=10.0, lb_t=-1.0, ub_d=2.0, lb_d=-2.0, cor_d=1.0, cor_t=1.0, cor_f=1.0, degradation=DegParam(friction=0.0, drift=0.0), drive_modes={'mode_args': 'set'}), r={'seed': 662546124}, sp={}, prob=0.005, inputparams={'amp': 5.4, 'wavelength': 20.0, 'linetype': 'sine'}, rangeid='sine', name='sine_110', paramfunc=<class 'rover_model.RoverParam'>, fixedargs=(), fixedkwargs={'linetype': 'sine'}),\n",
       " 'sine_111': ParamScenario(sequence={}, times=(), p=RoverParam(linetype='sine', period=0.20943951023931953, end=(30.0, 0.0), initangle=48.51707478924927, amp=5.4, wavelength=30.0, radius=20.0, start=20.0, ub_f=10.0, lb_f=-1.0, ub_t=10.0, lb_t=-1.0, ub_d=2.0, lb_d=-2.0, cor_d=1.0, cor_t=1.0, cor_f=1.0, degradation=DegParam(friction=0.0, drift=0.0), drive_modes={'mode_args': 'set'}), r={'seed': 662546124}, sp={}, prob=0.005, inputparams={'amp': 5.4, 'wavelength': 30.0, 'linetype': 'sine'}, rangeid='sine', name='sine_111', paramfunc=<class 'rover_model.RoverParam'>, fixedargs=(), fixedkwargs={'linetype': 'sine'}),\n",
       " 'sine_112': ParamScenario(sequence={}, times=(), p=RoverParam(linetype='sine', period=0.15707963267948966, end=(40.0, 0.0), initangle=40.305609894010146, amp=5.4, wavelength=40.0, radius=20.0, start=20.0, ub_f=10.0, lb_f=-1.0, ub_t=10.0, lb_t=-1.0, ub_d=2.0, lb_d=-2.0, cor_d=1.0, cor_t=1.0, cor_f=1.0, degradation=DegParam(friction=0.0, drift=0.0), drive_modes={'mode_args': 'set'}), r={'seed': 662546124}, sp={}, prob=0.005, inputparams={'amp': 5.4, 'wavelength': 40.0, 'linetype': 'sine'}, rangeid='sine', name='sine_112', paramfunc=<class 'rover_model.RoverParam'>, fixedargs=(), fixedkwargs={'linetype': 'sine'}),\n",
       " 'sine_113': ParamScenario(sequence={}, times=(), p=RoverParam(linetype='sine', period=0.6283185307179586, end=(10.0, 0.0), initangle=74.1345716212753, amp=5.6000000000000005, wavelength=10.0, radius=20.0, start=20.0, ub_f=10.0, lb_f=-1.0, ub_t=10.0, lb_t=-1.0, ub_d=2.0, lb_d=-2.0, cor_d=1.0, cor_t=1.0, cor_f=1.0, degradation=DegParam(friction=0.0, drift=0.0), drive_modes={'mode_args': 'set'}), r={'seed': 662546124}, sp={}, prob=0.005, inputparams={'amp': 5.6000000000000005, 'wavelength': 10.0, 'linetype': 'sine'}, rangeid='sine', name='sine_113', paramfunc=<class 'rover_model.RoverParam'>, fixedargs=(), fixedkwargs={'linetype': 'sine'}),\n",
       " 'sine_114': ParamScenario(sequence={}, times=(), p=RoverParam(linetype='sine', period=0.3141592653589793, end=(20.0, 0.0), initangle=60.3856448498835, amp=5.6000000000000005, wavelength=20.0, radius=20.0, start=20.0, ub_f=10.0, lb_f=-1.0, ub_t=10.0, lb_t=-1.0, ub_d=2.0, lb_d=-2.0, cor_d=1.0, cor_t=1.0, cor_f=1.0, degradation=DegParam(friction=0.0, drift=0.0), drive_modes={'mode_args': 'set'}), r={'seed': 662546124}, sp={}, prob=0.005, inputparams={'amp': 5.6000000000000005, 'wavelength': 20.0, 'linetype': 'sine'}, rangeid='sine', name='sine_114', paramfunc=<class 'rover_model.RoverParam'>, fixedargs=(), fixedkwargs={'linetype': 'sine'}),\n",
       " 'sine_115': ParamScenario(sequence={}, times=(), p=RoverParam(linetype='sine', period=0.20943951023931953, end=(30.0, 0.0), initangle=49.548567018327574, amp=5.6000000000000005, wavelength=30.0, radius=20.0, start=20.0, ub_f=10.0, lb_f=-1.0, ub_t=10.0, lb_t=-1.0, ub_d=2.0, lb_d=-2.0, cor_d=1.0, cor_t=1.0, cor_f=1.0, degradation=DegParam(friction=0.0, drift=0.0), drive_modes={'mode_args': 'set'}), r={'seed': 662546124}, sp={}, prob=0.005, inputparams={'amp': 5.6000000000000005, 'wavelength': 30.0, 'linetype': 'sine'}, rangeid='sine', name='sine_115', paramfunc=<class 'rover_model.RoverParam'>, fixedargs=(), fixedkwargs={'linetype': 'sine'}),\n",
       " 'sine_116': ParamScenario(sequence={}, times=(), p=RoverParam(linetype='sine', period=0.15707963267948966, end=(40.0, 0.0), initangle=41.33634263114563, amp=5.6000000000000005, wavelength=40.0, radius=20.0, start=20.0, ub_f=10.0, lb_f=-1.0, ub_t=10.0, lb_t=-1.0, ub_d=2.0, lb_d=-2.0, cor_d=1.0, cor_t=1.0, cor_f=1.0, degradation=DegParam(friction=0.0, drift=0.0), drive_modes={'mode_args': 'set'}), r={'seed': 662546124}, sp={}, prob=0.005, inputparams={'amp': 5.6000000000000005, 'wavelength': 40.0, 'linetype': 'sine'}, rangeid='sine', name='sine_116', paramfunc=<class 'rover_model.RoverParam'>, fixedargs=(), fixedkwargs={'linetype': 'sine'}),\n",
       " 'sine_117': ParamScenario(sequence={}, times=(), p=RoverParam(linetype='sine', period=0.6283185307179586, end=(10.0, 0.0), initangle=74.65544373214628, amp=5.800000000000001, wavelength=10.0, radius=20.0, start=20.0, ub_f=10.0, lb_f=-1.0, ub_t=10.0, lb_t=-1.0, ub_d=2.0, lb_d=-2.0, cor_d=1.0, cor_t=1.0, cor_f=1.0, degradation=DegParam(friction=0.0, drift=0.0), drive_modes={'mode_args': 'set'}), r={'seed': 662546124}, sp={}, prob=0.005, inputparams={'amp': 5.800000000000001, 'wavelength': 10.0, 'linetype': 'sine'}, rangeid='sine', name='sine_117', paramfunc=<class 'rover_model.RoverParam'>, fixedargs=(), fixedkwargs={'linetype': 'sine'}),\n",
       " 'sine_118': ParamScenario(sequence={}, times=(), p=RoverParam(linetype='sine', period=0.3141592653589793, end=(20.0, 0.0), initangle=61.24157302452818, amp=5.800000000000001, wavelength=20.0, radius=20.0, start=20.0, ub_f=10.0, lb_f=-1.0, ub_t=10.0, lb_t=-1.0, ub_d=2.0, lb_d=-2.0, cor_d=1.0, cor_t=1.0, cor_f=1.0, degradation=DegParam(friction=0.0, drift=0.0), drive_modes={'mode_args': 'set'}), r={'seed': 662546124}, sp={}, prob=0.005, inputparams={'amp': 5.800000000000001, 'wavelength': 20.0, 'linetype': 'sine'}, rangeid='sine', name='sine_118', paramfunc=<class 'rover_model.RoverParam'>, fixedargs=(), fixedkwargs={'linetype': 'sine'}),\n",
       " 'sine_119': ParamScenario(sequence={}, times=(), p=RoverParam(linetype='sine', period=0.20943951023931953, end=(30.0, 0.0), initangle=50.538268589758374, amp=5.800000000000001, wavelength=30.0, radius=20.0, start=20.0, ub_f=10.0, lb_f=-1.0, ub_t=10.0, lb_t=-1.0, ub_d=2.0, lb_d=-2.0, cor_d=1.0, cor_t=1.0, cor_f=1.0, degradation=DegParam(friction=0.0, drift=0.0), drive_modes={'mode_args': 'set'}), r={'seed': 662546124}, sp={}, prob=0.005, inputparams={'amp': 5.800000000000001, 'wavelength': 30.0, 'linetype': 'sine'}, rangeid='sine', name='sine_119', paramfunc=<class 'rover_model.RoverParam'>, fixedargs=(), fixedkwargs={'linetype': 'sine'}),\n",
       " 'sine_120': ParamScenario(sequence={}, times=(), p=RoverParam(linetype='sine', period=0.15707963267948966, end=(40.0, 0.0), initangle=42.33545758749595, amp=5.800000000000001, wavelength=40.0, radius=20.0, start=20.0, ub_f=10.0, lb_f=-1.0, ub_t=10.0, lb_t=-1.0, ub_d=2.0, lb_d=-2.0, cor_d=1.0, cor_t=1.0, cor_f=1.0, degradation=DegParam(friction=0.0, drift=0.0), drive_modes={'mode_args': 'set'}), r={'seed': 662546124}, sp={}, prob=0.005, inputparams={'amp': 5.800000000000001, 'wavelength': 40.0, 'linetype': 'sine'}, rangeid='sine', name='sine_120', paramfunc=<class 'rover_model.RoverParam'>, fixedargs=(), fixedkwargs={'linetype': 'sine'}),\n",
       " 'sine_121': ParamScenario(sequence={}, times=(), p=RoverParam(linetype='sine', period=0.6283185307179586, end=(10.0, 0.0), initangle=75.1439487190882, amp=6.0, wavelength=10.0, radius=20.0, start=20.0, ub_f=10.0, lb_f=-1.0, ub_t=10.0, lb_t=-1.0, ub_d=2.0, lb_d=-2.0, cor_d=1.0, cor_t=1.0, cor_f=1.0, degradation=DegParam(friction=0.0, drift=0.0), drive_modes={'mode_args': 'set'}), r={'seed': 662546124}, sp={}, prob=0.005, inputparams={'amp': 6.0, 'wavelength': 10.0, 'linetype': 'sine'}, rangeid='sine', name='sine_121', paramfunc=<class 'rover_model.RoverParam'>, fixedargs=(), fixedkwargs={'linetype': 'sine'}),\n",
       " 'sine_122': ParamScenario(sequence={}, times=(), p=RoverParam(linetype='sine', period=0.3141592653589793, end=(20.0, 0.0), initangle=62.05331275452114, amp=6.0, wavelength=20.0, radius=20.0, start=20.0, ub_f=10.0, lb_f=-1.0, ub_t=10.0, lb_t=-1.0, ub_d=2.0, lb_d=-2.0, cor_d=1.0, cor_t=1.0, cor_f=1.0, degradation=DegParam(friction=0.0, drift=0.0), drive_modes={'mode_args': 'set'}), r={'seed': 662546124}, sp={}, prob=0.005, inputparams={'amp': 6.0, 'wavelength': 20.0, 'linetype': 'sine'}, rangeid='sine', name='sine_122', paramfunc=<class 'rover_model.RoverParam'>, fixedargs=(), fixedkwargs={'linetype': 'sine'}),\n",
       " 'sine_123': ParamScenario(sequence={}, times=(), p=RoverParam(linetype='sine', period=0.20943951023931953, end=(30.0, 0.0), initangle=51.48811274603342, amp=6.0, wavelength=30.0, radius=20.0, start=20.0, ub_f=10.0, lb_f=-1.0, ub_t=10.0, lb_t=-1.0, ub_d=2.0, lb_d=-2.0, cor_d=1.0, cor_t=1.0, cor_f=1.0, degradation=DegParam(friction=0.0, drift=0.0), drive_modes={'mode_args': 'set'}), r={'seed': 662546124}, sp={}, prob=0.005, inputparams={'amp': 6.0, 'wavelength': 30.0, 'linetype': 'sine'}, rangeid='sine', name='sine_123', paramfunc=<class 'rover_model.RoverParam'>, fixedargs=(), fixedkwargs={'linetype': 'sine'}),\n",
       " 'sine_124': ParamScenario(sequence={}, times=(), p=RoverParam(linetype='sine', period=0.15707963267948966, end=(40.0, 0.0), initangle=43.303807307170665, amp=6.0, wavelength=40.0, radius=20.0, start=20.0, ub_f=10.0, lb_f=-1.0, ub_t=10.0, lb_t=-1.0, ub_d=2.0, lb_d=-2.0, cor_d=1.0, cor_t=1.0, cor_f=1.0, degradation=DegParam(friction=0.0, drift=0.0), drive_modes={'mode_args': 'set'}), r={'seed': 662546124}, sp={}, prob=0.005, inputparams={'amp': 6.0, 'wavelength': 40.0, 'linetype': 'sine'}, rangeid='sine', name='sine_124', paramfunc=<class 'rover_model.RoverParam'>, fixedargs=(), fixedkwargs={'linetype': 'sine'}),\n",
       " 'sine_125': ParamScenario(sequence={}, times=(), p=RoverParam(linetype='sine', period=0.6283185307179586, end=(10.0, 0.0), initangle=75.60294777084104, amp=6.2, wavelength=10.0, radius=20.0, start=20.0, ub_f=10.0, lb_f=-1.0, ub_t=10.0, lb_t=-1.0, ub_d=2.0, lb_d=-2.0, cor_d=1.0, cor_t=1.0, cor_f=1.0, degradation=DegParam(friction=0.0, drift=0.0), drive_modes={'mode_args': 'set'}), r={'seed': 662546124}, sp={}, prob=0.005, inputparams={'amp': 6.2, 'wavelength': 10.0, 'linetype': 'sine'}, rangeid='sine', name='sine_125', paramfunc=<class 'rover_model.RoverParam'>, fixedargs=(), fixedkwargs={'linetype': 'sine'}),\n",
       " 'sine_126': ParamScenario(sequence={}, times=(), p=RoverParam(linetype='sine', period=0.3141592653589793, end=(20.0, 0.0), initangle=62.823897889532766, amp=6.2, wavelength=20.0, radius=20.0, start=20.0, ub_f=10.0, lb_f=-1.0, ub_t=10.0, lb_t=-1.0, ub_d=2.0, lb_d=-2.0, cor_d=1.0, cor_t=1.0, cor_f=1.0, degradation=DegParam(friction=0.0, drift=0.0), drive_modes={'mode_args': 'set'}), r={'seed': 662546124}, sp={}, prob=0.005, inputparams={'amp': 6.2, 'wavelength': 20.0, 'linetype': 'sine'}, rangeid='sine', name='sine_126', paramfunc=<class 'rover_model.RoverParam'>, fixedargs=(), fixedkwargs={'linetype': 'sine'}),\n",
       " 'sine_127': ParamScenario(sequence={}, times=(), p=RoverParam(linetype='sine', period=0.20943951023931953, end=(30.0, 0.0), initangle=52.39996795397922, amp=6.2, wavelength=30.0, radius=20.0, start=20.0, ub_f=10.0, lb_f=-1.0, ub_t=10.0, lb_t=-1.0, ub_d=2.0, lb_d=-2.0, cor_d=1.0, cor_t=1.0, cor_f=1.0, degradation=DegParam(friction=0.0, drift=0.0), drive_modes={'mode_args': 'set'}), r={'seed': 662546124}, sp={}, prob=0.005, inputparams={'amp': 6.2, 'wavelength': 30.0, 'linetype': 'sine'}, rangeid='sine', name='sine_127', paramfunc=<class 'rover_model.RoverParam'>, fixedargs=(), fixedkwargs={'linetype': 'sine'}),\n",
       " 'sine_128': ParamScenario(sequence={}, times=(), p=RoverParam(linetype='sine', period=0.15707963267948966, end=(40.0, 0.0), initangle=44.242262999977676, amp=6.2, wavelength=40.0, radius=20.0, start=20.0, ub_f=10.0, lb_f=-1.0, ub_t=10.0, lb_t=-1.0, ub_d=2.0, lb_d=-2.0, cor_d=1.0, cor_t=1.0, cor_f=1.0, degradation=DegParam(friction=0.0, drift=0.0), drive_modes={'mode_args': 'set'}), r={'seed': 662546124}, sp={}, prob=0.005, inputparams={'amp': 6.2, 'wavelength': 40.0, 'linetype': 'sine'}, rangeid='sine', name='sine_128', paramfunc=<class 'rover_model.RoverParam'>, fixedargs=(), fixedkwargs={'linetype': 'sine'}),\n",
       " 'sine_129': ParamScenario(sequence={}, times=(), p=RoverParam(linetype='sine', period=0.6283185307179586, end=(10.0, 0.0), initangle=76.03498185075564, amp=6.4, wavelength=10.0, radius=20.0, start=20.0, ub_f=10.0, lb_f=-1.0, ub_t=10.0, lb_t=-1.0, ub_d=2.0, lb_d=-2.0, cor_d=1.0, cor_t=1.0, cor_f=1.0, degradation=DegParam(friction=0.0, drift=0.0), drive_modes={'mode_args': 'set'}), r={'seed': 662546124}, sp={}, prob=0.005, inputparams={'amp': 6.4, 'wavelength': 10.0, 'linetype': 'sine'}, rangeid='sine', name='sine_129', paramfunc=<class 'rover_model.RoverParam'>, fixedargs=(), fixedkwargs={'linetype': 'sine'}),\n",
       " 'sine_130': ParamScenario(sequence={}, times=(), p=RoverParam(linetype='sine', period=0.3141592653589793, end=(20.0, 0.0), initangle=63.55612212608379, amp=6.4, wavelength=20.0, radius=20.0, start=20.0, ub_f=10.0, lb_f=-1.0, ub_t=10.0, lb_t=-1.0, ub_d=2.0, lb_d=-2.0, cor_d=1.0, cor_t=1.0, cor_f=1.0, degradation=DegParam(friction=0.0, drift=0.0), drive_modes={'mode_args': 'set'}), r={'seed': 662546124}, sp={}, prob=0.005, inputparams={'amp': 6.4, 'wavelength': 20.0, 'linetype': 'sine'}, rangeid='sine', name='sine_130', paramfunc=<class 'rover_model.RoverParam'>, fixedargs=(), fixedkwargs={'linetype': 'sine'}),\n",
       " 'sine_131': ParamScenario(sequence={}, times=(), p=RoverParam(linetype='sine', period=0.20943951023931953, end=(30.0, 0.0), initangle=53.27563333404039, amp=6.4, wavelength=30.0, radius=20.0, start=20.0, ub_f=10.0, lb_f=-1.0, ub_t=10.0, lb_t=-1.0, ub_d=2.0, lb_d=-2.0, cor_d=1.0, cor_t=1.0, cor_f=1.0, degradation=DegParam(friction=0.0, drift=0.0), drive_modes={'mode_args': 'set'}), r={'seed': 662546124}, sp={}, prob=0.005, inputparams={'amp': 6.4, 'wavelength': 30.0, 'linetype': 'sine'}, rangeid='sine', name='sine_131', paramfunc=<class 'rover_model.RoverParam'>, fixedargs=(), fixedkwargs={'linetype': 'sine'}),\n",
       " 'sine_132': ParamScenario(sequence={}, times=(), p=RoverParam(linetype='sine', period=0.15707963267948966, end=(40.0, 0.0), initangle=45.151707132165285, amp=6.4, wavelength=40.0, radius=20.0, start=20.0, ub_f=10.0, lb_f=-1.0, ub_t=10.0, lb_t=-1.0, ub_d=2.0, lb_d=-2.0, cor_d=1.0, cor_t=1.0, cor_f=1.0, degradation=DegParam(friction=0.0, drift=0.0), drive_modes={'mode_args': 'set'}), r={'seed': 662546124}, sp={}, prob=0.005, inputparams={'amp': 6.4, 'wavelength': 40.0, 'linetype': 'sine'}, rangeid='sine', name='sine_132', paramfunc=<class 'rover_model.RoverParam'>, fixedargs=(), fixedkwargs={'linetype': 'sine'}),\n",
       " 'sine_133': ParamScenario(sequence={}, times=(), p=RoverParam(linetype='sine', period=0.6283185307179586, end=(10.0, 0.0), initangle=76.44231425516249, amp=6.6000000000000005, wavelength=10.0, radius=20.0, start=20.0, ub_f=10.0, lb_f=-1.0, ub_t=10.0, lb_t=-1.0, ub_d=2.0, lb_d=-2.0, cor_d=1.0, cor_t=1.0, cor_f=1.0, degradation=DegParam(friction=0.0, drift=0.0), drive_modes={'mode_args': 'set'}), r={'seed': 662546124}, sp={}, prob=0.005, inputparams={'amp': 6.6000000000000005, 'wavelength': 10.0, 'linetype': 'sine'}, rangeid='sine', name='sine_133', paramfunc=<class 'rover_model.RoverParam'>, fixedargs=(), fixedkwargs={'linetype': 'sine'}),\n",
       " 'sine_134': ParamScenario(sequence={}, times=(), p=RoverParam(linetype='sine', period=0.3141592653589793, end=(20.0, 0.0), initangle=64.25255814682895, amp=6.6000000000000005, wavelength=20.0, radius=20.0, start=20.0, ub_f=10.0, lb_f=-1.0, ub_t=10.0, lb_t=-1.0, ub_d=2.0, lb_d=-2.0, cor_d=1.0, cor_t=1.0, cor_f=1.0, degradation=DegParam(friction=0.0, drift=0.0), drive_modes={'mode_args': 'set'}), r={'seed': 662546124}, sp={}, prob=0.005, inputparams={'amp': 6.6000000000000005, 'wavelength': 20.0, 'linetype': 'sine'}, rangeid='sine', name='sine_134', paramfunc=<class 'rover_model.RoverParam'>, fixedargs=(), fixedkwargs={'linetype': 'sine'}),\n",
       " 'sine_135': ParamScenario(sequence={}, times=(), p=RoverParam(linetype='sine', period=0.20943951023931953, end=(30.0, 0.0), initangle=54.116835785734274, amp=6.6000000000000005, wavelength=30.0, radius=20.0, start=20.0, ub_f=10.0, lb_f=-1.0, ub_t=10.0, lb_t=-1.0, ub_d=2.0, lb_d=-2.0, cor_d=1.0, cor_t=1.0, cor_f=1.0, degradation=DegParam(friction=0.0, drift=0.0), drive_modes={'mode_args': 'set'}), r={'seed': 662546124}, sp={}, prob=0.005, inputparams={'amp': 6.6000000000000005, 'wavelength': 30.0, 'linetype': 'sine'}, rangeid='sine', name='sine_135', paramfunc=<class 'rover_model.RoverParam'>, fixedargs=(), fixedkwargs={'linetype': 'sine'}),\n",
       " 'sine_136': ParamScenario(sequence={}, times=(), p=RoverParam(linetype='sine', period=0.15707963267948966, end=(40.0, 0.0), initangle=46.03302698221119, amp=6.6000000000000005, wavelength=40.0, radius=20.0, start=20.0, ub_f=10.0, lb_f=-1.0, ub_t=10.0, lb_t=-1.0, ub_d=2.0, lb_d=-2.0, cor_d=1.0, cor_t=1.0, cor_f=1.0, degradation=DegParam(friction=0.0, drift=0.0), drive_modes={'mode_args': 'set'}), r={'seed': 662546124}, sp={}, prob=0.005, inputparams={'amp': 6.6000000000000005, 'wavelength': 40.0, 'linetype': 'sine'}, rangeid='sine', name='sine_136', paramfunc=<class 'rover_model.RoverParam'>, fixedargs=(), fixedkwargs={'linetype': 'sine'}),\n",
       " 'sine_137': ParamScenario(sequence={}, times=(), p=RoverParam(linetype='sine', period=0.6283185307179586, end=(10.0, 0.0), initangle=76.82696672763012, amp=6.800000000000001, wavelength=10.0, radius=20.0, start=20.0, ub_f=10.0, lb_f=-1.0, ub_t=10.0, lb_t=-1.0, ub_d=2.0, lb_d=-2.0, cor_d=1.0, cor_t=1.0, cor_f=1.0, degradation=DegParam(friction=0.0, drift=0.0), drive_modes={'mode_args': 'set'}), r={'seed': 662546124}, sp={}, prob=0.005, inputparams={'amp': 6.800000000000001, 'wavelength': 10.0, 'linetype': 'sine'}, rangeid='sine', name='sine_137', paramfunc=<class 'rover_model.RoverParam'>, fixedargs=(), fixedkwargs={'linetype': 'sine'}),\n",
       " 'sine_138': ParamScenario(sequence={}, times=(), p=RoverParam(linetype='sine', period=0.3141592653589793, end=(20.0, 0.0), initangle=64.91557566118576, amp=6.800000000000001, wavelength=20.0, radius=20.0, start=20.0, ub_f=10.0, lb_f=-1.0, ub_t=10.0, lb_t=-1.0, ub_d=2.0, lb_d=-2.0, cor_d=1.0, cor_t=1.0, cor_f=1.0, degradation=DegParam(friction=0.0, drift=0.0), drive_modes={'mode_args': 'set'}), r={'seed': 662546124}, sp={}, prob=0.005, inputparams={'amp': 6.800000000000001, 'wavelength': 20.0, 'linetype': 'sine'}, rangeid='sine', name='sine_138', paramfunc=<class 'rover_model.RoverParam'>, fixedargs=(), fixedkwargs={'linetype': 'sine'}),\n",
       " 'sine_139': ParamScenario(sequence={}, times=(), p=RoverParam(linetype='sine', period=0.20943951023931953, end=(30.0, 0.0), initangle=54.925228493436975, amp=6.800000000000001, wavelength=30.0, radius=20.0, start=20.0, ub_f=10.0, lb_f=-1.0, ub_t=10.0, lb_t=-1.0, ub_d=2.0, lb_d=-2.0, cor_d=1.0, cor_t=1.0, cor_f=1.0, degradation=DegParam(friction=0.0, drift=0.0), drive_modes={'mode_args': 'set'}), r={'seed': 662546124}, sp={}, prob=0.005, inputparams={'amp': 6.800000000000001, 'wavelength': 30.0, 'linetype': 'sine'}, rangeid='sine', name='sine_139', paramfunc=<class 'rover_model.RoverParam'>, fixedargs=(), fixedkwargs={'linetype': 'sine'}),\n",
       " 'sine_140': ParamScenario(sequence={}, times=(), p=RoverParam(linetype='sine', period=0.15707963267948966, end=(40.0, 0.0), initangle=46.887109086835764, amp=6.800000000000001, wavelength=40.0, radius=20.0, start=20.0, ub_f=10.0, lb_f=-1.0, ub_t=10.0, lb_t=-1.0, ub_d=2.0, lb_d=-2.0, cor_d=1.0, cor_t=1.0, cor_f=1.0, degradation=DegParam(friction=0.0, drift=0.0), drive_modes={'mode_args': 'set'}), r={'seed': 662546124}, sp={}, prob=0.005, inputparams={'amp': 6.800000000000001, 'wavelength': 40.0, 'linetype': 'sine'}, rangeid='sine', name='sine_140', paramfunc=<class 'rover_model.RoverParam'>, fixedargs=(), fixedkwargs={'linetype': 'sine'}),\n",
       " 'sine_141': ParamScenario(sequence={}, times=(), p=RoverParam(linetype='sine', period=0.6283185307179586, end=(10.0, 0.0), initangle=77.19075020795394, amp=7.0, wavelength=10.0, radius=20.0, start=20.0, ub_f=10.0, lb_f=-1.0, ub_t=10.0, lb_t=-1.0, ub_d=2.0, lb_d=-2.0, cor_d=1.0, cor_t=1.0, cor_f=1.0, degradation=DegParam(friction=0.0, drift=0.0), drive_modes={'mode_args': 'set'}), r={'seed': 662546124}, sp={}, prob=0.005, inputparams={'amp': 7.0, 'wavelength': 10.0, 'linetype': 'sine'}, rangeid='sine', name='sine_141', paramfunc=<class 'rover_model.RoverParam'>, fixedargs=(), fixedkwargs={'linetype': 'sine'}),\n",
       " 'sine_142': ParamScenario(sequence={}, times=(), p=RoverParam(linetype='sine', period=0.3141592653589793, end=(20.0, 0.0), initangle=65.54735825988722, amp=7.0, wavelength=20.0, radius=20.0, start=20.0, ub_f=10.0, lb_f=-1.0, ub_t=10.0, lb_t=-1.0, ub_d=2.0, lb_d=-2.0, cor_d=1.0, cor_t=1.0, cor_f=1.0, degradation=DegParam(friction=0.0, drift=0.0), drive_modes={'mode_args': 'set'}), r={'seed': 662546124}, sp={}, prob=0.005, inputparams={'amp': 7.0, 'wavelength': 20.0, 'linetype': 'sine'}, rangeid='sine', name='sine_142', paramfunc=<class 'rover_model.RoverParam'>, fixedargs=(), fixedkwargs={'linetype': 'sine'}),\n",
       " 'sine_143': ParamScenario(sequence={}, times=(), p=RoverParam(linetype='sine', period=0.20943951023931953, end=(30.0, 0.0), initangle=55.702390541579874, amp=7.0, wavelength=30.0, radius=20.0, start=20.0, ub_f=10.0, lb_f=-1.0, ub_t=10.0, lb_t=-1.0, ub_d=2.0, lb_d=-2.0, cor_d=1.0, cor_t=1.0, cor_f=1.0, degradation=DegParam(friction=0.0, drift=0.0), drive_modes={'mode_args': 'set'}), r={'seed': 662546124}, sp={}, prob=0.005, inputparams={'amp': 7.0, 'wavelength': 30.0, 'linetype': 'sine'}, rangeid='sine', name='sine_143', paramfunc=<class 'rover_model.RoverParam'>, fixedargs=(), fixedkwargs={'linetype': 'sine'}),\n",
       " 'sine_144': ParamScenario(sequence={}, times=(), p=RoverParam(linetype='sine', period=0.15707963267948966, end=(40.0, 0.0), initangle=47.71483450018041, amp=7.0, wavelength=40.0, radius=20.0, start=20.0, ub_f=10.0, lb_f=-1.0, ub_t=10.0, lb_t=-1.0, ub_d=2.0, lb_d=-2.0, cor_d=1.0, cor_t=1.0, cor_f=1.0, degradation=DegParam(friction=0.0, drift=0.0), drive_modes={'mode_args': 'set'}), r={'seed': 662546124}, sp={}, prob=0.005, inputparams={'amp': 7.0, 'wavelength': 40.0, 'linetype': 'sine'}, rangeid='sine', name='sine_144', paramfunc=<class 'rover_model.RoverParam'>, fixedargs=(), fixedkwargs={'linetype': 'sine'}),\n",
       " 'sine_145': ParamScenario(sequence={}, times=(), p=RoverParam(linetype='sine', period=0.6283185307179586, end=(10.0, 0.0), initangle=77.53529109982371, amp=7.2, wavelength=10.0, radius=20.0, start=20.0, ub_f=10.0, lb_f=-1.0, ub_t=10.0, lb_t=-1.0, ub_d=2.0, lb_d=-2.0, cor_d=1.0, cor_t=1.0, cor_f=1.0, degradation=DegParam(friction=0.0, drift=0.0), drive_modes={'mode_args': 'set'}), r={'seed': 662546124}, sp={}, prob=0.005, inputparams={'amp': 7.2, 'wavelength': 10.0, 'linetype': 'sine'}, rangeid='sine', name='sine_145', paramfunc=<class 'rover_model.RoverParam'>, fixedargs=(), fixedkwargs={'linetype': 'sine'}),\n",
       " 'sine_146': ParamScenario(sequence={}, times=(), p=RoverParam(linetype='sine', period=0.3141592653589793, end=(20.0, 0.0), initangle=66.14991905485098, amp=7.2, wavelength=20.0, radius=20.0, start=20.0, ub_f=10.0, lb_f=-1.0, ub_t=10.0, lb_t=-1.0, ub_d=2.0, lb_d=-2.0, cor_d=1.0, cor_t=1.0, cor_f=1.0, degradation=DegParam(friction=0.0, drift=0.0), drive_modes={'mode_args': 'set'}), r={'seed': 662546124}, sp={}, prob=0.005, inputparams={'amp': 7.2, 'wavelength': 20.0, 'linetype': 'sine'}, rangeid='sine', name='sine_146', paramfunc=<class 'rover_model.RoverParam'>, fixedargs=(), fixedkwargs={'linetype': 'sine'}),\n",
       " 'sine_147': ParamScenario(sequence={}, times=(), p=RoverParam(linetype='sine', period=0.20943951023931953, end=(30.0, 0.0), initangle=56.44982740917767, amp=7.2, wavelength=30.0, radius=20.0, start=20.0, ub_f=10.0, lb_f=-1.0, ub_t=10.0, lb_t=-1.0, ub_d=2.0, lb_d=-2.0, cor_d=1.0, cor_t=1.0, cor_f=1.0, degradation=DegParam(friction=0.0, drift=0.0), drive_modes={'mode_args': 'set'}), r={'seed': 662546124}, sp={}, prob=0.005, inputparams={'amp': 7.2, 'wavelength': 30.0, 'linetype': 'sine'}, rangeid='sine', name='sine_147', paramfunc=<class 'rover_model.RoverParam'>, fixedargs=(), fixedkwargs={'linetype': 'sine'}),\n",
       " 'sine_148': ParamScenario(sequence={}, times=(), p=RoverParam(linetype='sine', period=0.15707963267948966, end=(40.0, 0.0), initangle=48.51707478924927, amp=7.2, wavelength=40.0, radius=20.0, start=20.0, ub_f=10.0, lb_f=-1.0, ub_t=10.0, lb_t=-1.0, ub_d=2.0, lb_d=-2.0, cor_d=1.0, cor_t=1.0, cor_f=1.0, degradation=DegParam(friction=0.0, drift=0.0), drive_modes={'mode_args': 'set'}), r={'seed': 662546124}, sp={}, prob=0.005, inputparams={'amp': 7.2, 'wavelength': 40.0, 'linetype': 'sine'}, rangeid='sine', name='sine_148', paramfunc=<class 'rover_model.RoverParam'>, fixedargs=(), fixedkwargs={'linetype': 'sine'}),\n",
       " 'sine_149': ParamScenario(sequence={}, times=(), p=RoverParam(linetype='sine', period=0.6283185307179586, end=(10.0, 0.0), initangle=77.86205378336669, amp=7.4, wavelength=10.0, radius=20.0, start=20.0, ub_f=10.0, lb_f=-1.0, ub_t=10.0, lb_t=-1.0, ub_d=2.0, lb_d=-2.0, cor_d=1.0, cor_t=1.0, cor_f=1.0, degradation=DegParam(friction=0.0, drift=0.0), drive_modes={'mode_args': 'set'}), r={'seed': 662546124}, sp={}, prob=0.005, inputparams={'amp': 7.4, 'wavelength': 10.0, 'linetype': 'sine'}, rangeid='sine', name='sine_149', paramfunc=<class 'rover_model.RoverParam'>, fixedargs=(), fixedkwargs={'linetype': 'sine'}),\n",
       " 'sine_150': ParamScenario(sequence={}, times=(), p=RoverParam(linetype='sine', period=0.3141592653589793, end=(20.0, 0.0), initangle=66.72511511629222, amp=7.4, wavelength=20.0, radius=20.0, start=20.0, ub_f=10.0, lb_f=-1.0, ub_t=10.0, lb_t=-1.0, ub_d=2.0, lb_d=-2.0, cor_d=1.0, cor_t=1.0, cor_f=1.0, degradation=DegParam(friction=0.0, drift=0.0), drive_modes={'mode_args': 'set'}), r={'seed': 662546124}, sp={}, prob=0.005, inputparams={'amp': 7.4, 'wavelength': 20.0, 'linetype': 'sine'}, rangeid='sine', name='sine_150', paramfunc=<class 'rover_model.RoverParam'>, fixedargs=(), fixedkwargs={'linetype': 'sine'}),\n",
       " 'sine_151': ParamScenario(sequence={}, times=(), p=RoverParam(linetype='sine', period=0.20943951023931953, end=(30.0, 0.0), initangle=57.16897215006399, amp=7.4, wavelength=30.0, radius=20.0, start=20.0, ub_f=10.0, lb_f=-1.0, ub_t=10.0, lb_t=-1.0, ub_d=2.0, lb_d=-2.0, cor_d=1.0, cor_t=1.0, cor_f=1.0, degradation=DegParam(friction=0.0, drift=0.0), drive_modes={'mode_args': 'set'}), r={'seed': 662546124}, sp={}, prob=0.005, inputparams={'amp': 7.4, 'wavelength': 30.0, 'linetype': 'sine'}, rangeid='sine', name='sine_151', paramfunc=<class 'rover_model.RoverParam'>, fixedargs=(), fixedkwargs={'linetype': 'sine'}),\n",
       " 'sine_152': ParamScenario(sequence={}, times=(), p=RoverParam(linetype='sine', period=0.15707963267948966, end=(40.0, 0.0), initangle=49.29468869067174, amp=7.4, wavelength=40.0, radius=20.0, start=20.0, ub_f=10.0, lb_f=-1.0, ub_t=10.0, lb_t=-1.0, ub_d=2.0, lb_d=-2.0, cor_d=1.0, cor_t=1.0, cor_f=1.0, degradation=DegParam(friction=0.0, drift=0.0), drive_modes={'mode_args': 'set'}), r={'seed': 662546124}, sp={}, prob=0.005, inputparams={'amp': 7.4, 'wavelength': 40.0, 'linetype': 'sine'}, rangeid='sine', name='sine_152', paramfunc=<class 'rover_model.RoverParam'>, fixedargs=(), fixedkwargs={'linetype': 'sine'}),\n",
       " 'sine_153': ParamScenario(sequence={}, times=(), p=RoverParam(linetype='sine', period=0.6283185307179586, end=(10.0, 0.0), initangle=78.17235997087283, amp=7.6000000000000005, wavelength=10.0, radius=20.0, start=20.0, ub_f=10.0, lb_f=-1.0, ub_t=10.0, lb_t=-1.0, ub_d=2.0, lb_d=-2.0, cor_d=1.0, cor_t=1.0, cor_f=1.0, degradation=DegParam(friction=0.0, drift=0.0), drive_modes={'mode_args': 'set'}), r={'seed': 662546124}, sp={}, prob=0.005, inputparams={'amp': 7.6000000000000005, 'wavelength': 10.0, 'linetype': 'sine'}, rangeid='sine', name='sine_153', paramfunc=<class 'rover_model.RoverParam'>, fixedargs=(), fixedkwargs={'linetype': 'sine'}),\n",
       " 'sine_154': ParamScenario(sequence={}, times=(), p=RoverParam(linetype='sine', period=0.3141592653589793, end=(20.0, 0.0), initangle=67.27466074604328, amp=7.6000000000000005, wavelength=20.0, radius=20.0, start=20.0, ub_f=10.0, lb_f=-1.0, ub_t=10.0, lb_t=-1.0, ub_d=2.0, lb_d=-2.0, cor_d=1.0, cor_t=1.0, cor_f=1.0, degradation=DegParam(friction=0.0, drift=0.0), drive_modes={'mode_args': 'set'}), r={'seed': 662546124}, sp={}, prob=0.005, inputparams={'amp': 7.6000000000000005, 'wavelength': 20.0, 'linetype': 'sine'}, rangeid='sine', name='sine_154', paramfunc=<class 'rover_model.RoverParam'>, fixedargs=(), fixedkwargs={'linetype': 'sine'}),\n",
       " 'sine_155': ParamScenario(sequence={}, times=(), p=RoverParam(linetype='sine', period=0.20943951023931953, end=(30.0, 0.0), initangle=57.861187097267006, amp=7.6000000000000005, wavelength=30.0, radius=20.0, start=20.0, ub_f=10.0, lb_f=-1.0, ub_t=10.0, lb_t=-1.0, ub_d=2.0, lb_d=-2.0, cor_d=1.0, cor_t=1.0, cor_f=1.0, degradation=DegParam(friction=0.0, drift=0.0), drive_modes={'mode_args': 'set'}), r={'seed': 662546124}, sp={}, prob=0.005, inputparams={'amp': 7.6000000000000005, 'wavelength': 30.0, 'linetype': 'sine'}, rangeid='sine', name='sine_155', paramfunc=<class 'rover_model.RoverParam'>, fixedargs=(), fixedkwargs={'linetype': 'sine'}),\n",
       " 'sine_156': ParamScenario(sequence={}, times=(), p=RoverParam(linetype='sine', period=0.15707963267948966, end=(40.0, 0.0), initangle=50.04851935710306, amp=7.6000000000000005, wavelength=40.0, radius=20.0, start=20.0, ub_f=10.0, lb_f=-1.0, ub_t=10.0, lb_t=-1.0, ub_d=2.0, lb_d=-2.0, cor_d=1.0, cor_t=1.0, cor_f=1.0, degradation=DegParam(friction=0.0, drift=0.0), drive_modes={'mode_args': 'set'}), r={'seed': 662546124}, sp={}, prob=0.005, inputparams={'amp': 7.6000000000000005, 'wavelength': 40.0, 'linetype': 'sine'}, rangeid='sine', name='sine_156', paramfunc=<class 'rover_model.RoverParam'>, fixedargs=(), fixedkwargs={'linetype': 'sine'}),\n",
       " 'sine_157': ParamScenario(sequence={}, times=(), p=RoverParam(linetype='sine', period=0.6283185307179586, end=(10.0, 0.0), initangle=78.46740540011236, amp=7.800000000000001, wavelength=10.0, radius=20.0, start=20.0, ub_f=10.0, lb_f=-1.0, ub_t=10.0, lb_t=-1.0, ub_d=2.0, lb_d=-2.0, cor_d=1.0, cor_t=1.0, cor_f=1.0, degradation=DegParam(friction=0.0, drift=0.0), drive_modes={'mode_args': 'set'}), r={'seed': 662546124}, sp={}, prob=0.005, inputparams={'amp': 7.800000000000001, 'wavelength': 10.0, 'linetype': 'sine'}, rangeid='sine', name='sine_157', paramfunc=<class 'rover_model.RoverParam'>, fixedargs=(), fixedkwargs={'linetype': 'sine'}),\n",
       " 'sine_158': ParamScenario(sequence={}, times=(), p=RoverParam(linetype='sine', period=0.3141592653589793, end=(20.0, 0.0), initangle=67.800139643223, amp=7.800000000000001, wavelength=20.0, radius=20.0, start=20.0, ub_f=10.0, lb_f=-1.0, ub_t=10.0, lb_t=-1.0, ub_d=2.0, lb_d=-2.0, cor_d=1.0, cor_t=1.0, cor_f=1.0, degradation=DegParam(friction=0.0, drift=0.0), drive_modes={'mode_args': 'set'}), r={'seed': 662546124}, sp={}, prob=0.005, inputparams={'amp': 7.800000000000001, 'wavelength': 20.0, 'linetype': 'sine'}, rangeid='sine', name='sine_158', paramfunc=<class 'rover_model.RoverParam'>, fixedargs=(), fixedkwargs={'linetype': 'sine'}),\n",
       " 'sine_159': ParamScenario(sequence={}, times=(), p=RoverParam(linetype='sine', period=0.20943951023931953, end=(30.0, 0.0), initangle=58.52776595780276, amp=7.800000000000001, wavelength=30.0, radius=20.0, start=20.0, ub_f=10.0, lb_f=-1.0, ub_t=10.0, lb_t=-1.0, ub_d=2.0, lb_d=-2.0, cor_d=1.0, cor_t=1.0, cor_f=1.0, degradation=DegParam(friction=0.0, drift=0.0), drive_modes={'mode_args': 'set'}), r={'seed': 662546124}, sp={}, prob=0.005, inputparams={'amp': 7.800000000000001, 'wavelength': 30.0, 'linetype': 'sine'}, rangeid='sine', name='sine_159', paramfunc=<class 'rover_model.RoverParam'>, fixedargs=(), fixedkwargs={'linetype': 'sine'}),\n",
       " 'sine_160': ParamScenario(sequence={}, times=(), p=RoverParam(linetype='sine', period=0.15707963267948966, end=(40.0, 0.0), initangle=50.77939212572779, amp=7.800000000000001, wavelength=40.0, radius=20.0, start=20.0, ub_f=10.0, lb_f=-1.0, ub_t=10.0, lb_t=-1.0, ub_d=2.0, lb_d=-2.0, cor_d=1.0, cor_t=1.0, cor_f=1.0, degradation=DegParam(friction=0.0, drift=0.0), drive_modes={'mode_args': 'set'}), r={'seed': 662546124}, sp={}, prob=0.005, inputparams={'amp': 7.800000000000001, 'wavelength': 40.0, 'linetype': 'sine'}, rangeid='sine', name='sine_160', paramfunc=<class 'rover_model.RoverParam'>, fixedargs=(), fixedkwargs={'linetype': 'sine'}),\n",
       " 'sine_161': ParamScenario(sequence={}, times=(), p=RoverParam(linetype='sine', period=0.6283185307179586, end=(10.0, 0.0), initangle=78.74827427505329, amp=8.0, wavelength=10.0, radius=20.0, start=20.0, ub_f=10.0, lb_f=-1.0, ub_t=10.0, lb_t=-1.0, ub_d=2.0, lb_d=-2.0, cor_d=1.0, cor_t=1.0, cor_f=1.0, degradation=DegParam(friction=0.0, drift=0.0), drive_modes={'mode_args': 'set'}), r={'seed': 662546124}, sp={}, prob=0.005, inputparams={'amp': 8.0, 'wavelength': 10.0, 'linetype': 'sine'}, rangeid='sine', name='sine_161', paramfunc=<class 'rover_model.RoverParam'>, fixedargs=(), fixedkwargs={'linetype': 'sine'}),\n",
       " 'sine_162': ParamScenario(sequence={}, times=(), p=RoverParam(linetype='sine', period=0.3141592653589793, end=(20.0, 0.0), initangle=68.30301602845995, amp=8.0, wavelength=20.0, radius=20.0, start=20.0, ub_f=10.0, lb_f=-1.0, ub_t=10.0, lb_t=-1.0, ub_d=2.0, lb_d=-2.0, cor_d=1.0, cor_t=1.0, cor_f=1.0, degradation=DegParam(friction=0.0, drift=0.0), drive_modes={'mode_args': 'set'}), r={'seed': 662546124}, sp={}, prob=0.005, inputparams={'amp': 8.0, 'wavelength': 20.0, 'linetype': 'sine'}, rangeid='sine', name='sine_162', paramfunc=<class 'rover_model.RoverParam'>, fixedargs=(), fixedkwargs={'linetype': 'sine'}),\n",
       " 'sine_163': ParamScenario(sequence={}, times=(), p=RoverParam(linetype='sine', period=0.20943951023931953, end=(30.0, 0.0), initangle=59.16993618810117, amp=8.0, wavelength=30.0, radius=20.0, start=20.0, ub_f=10.0, lb_f=-1.0, ub_t=10.0, lb_t=-1.0, ub_d=2.0, lb_d=-2.0, cor_d=1.0, cor_t=1.0, cor_f=1.0, degradation=DegParam(friction=0.0, drift=0.0), drive_modes={'mode_args': 'set'}), r={'seed': 662546124}, sp={}, prob=0.005, inputparams={'amp': 8.0, 'wavelength': 30.0, 'linetype': 'sine'}, rangeid='sine', name='sine_163', paramfunc=<class 'rover_model.RoverParam'>, fixedargs=(), fixedkwargs={'linetype': 'sine'}),\n",
       " 'sine_164': ParamScenario(sequence={}, times=(), p=RoverParam(linetype='sine', period=0.15707963267948966, end=(40.0, 0.0), initangle=51.48811274603342, amp=8.0, wavelength=40.0, radius=20.0, start=20.0, ub_f=10.0, lb_f=-1.0, ub_t=10.0, lb_t=-1.0, ub_d=2.0, lb_d=-2.0, cor_d=1.0, cor_t=1.0, cor_f=1.0, degradation=DegParam(friction=0.0, drift=0.0), drive_modes={'mode_args': 'set'}), r={'seed': 662546124}, sp={}, prob=0.005, inputparams={'amp': 8.0, 'wavelength': 40.0, 'linetype': 'sine'}, rangeid='sine', name='sine_164', paramfunc=<class 'rover_model.RoverParam'>, fixedargs=(), fixedkwargs={'linetype': 'sine'}),\n",
       " 'sine_165': ParamScenario(sequence={}, times=(), p=RoverParam(linetype='sine', period=0.6283185307179586, end=(10.0, 0.0), initangle=79.01595179471424, amp=8.200000000000001, wavelength=10.0, radius=20.0, start=20.0, ub_f=10.0, lb_f=-1.0, ub_t=10.0, lb_t=-1.0, ub_d=2.0, lb_d=-2.0, cor_d=1.0, cor_t=1.0, cor_f=1.0, degradation=DegParam(friction=0.0, drift=0.0), drive_modes={'mode_args': 'set'}), r={'seed': 662546124}, sp={}, prob=0.005, inputparams={'amp': 8.200000000000001, 'wavelength': 10.0, 'linetype': 'sine'}, rangeid='sine', name='sine_165', paramfunc=<class 'rover_model.RoverParam'>, fixedargs=(), fixedkwargs={'linetype': 'sine'}),\n",
       " 'sine_166': ParamScenario(sequence={}, times=(), p=RoverParam(linetype='sine', period=0.3141592653589793, end=(20.0, 0.0), initangle=68.78464479787361, amp=8.200000000000001, wavelength=20.0, radius=20.0, start=20.0, ub_f=10.0, lb_f=-1.0, ub_t=10.0, lb_t=-1.0, ub_d=2.0, lb_d=-2.0, cor_d=1.0, cor_t=1.0, cor_f=1.0, degradation=DegParam(friction=0.0, drift=0.0), drive_modes={'mode_args': 'set'}), r={'seed': 662546124}, sp={}, prob=0.005, inputparams={'amp': 8.200000000000001, 'wavelength': 20.0, 'linetype': 'sine'}, rangeid='sine', name='sine_166', paramfunc=<class 'rover_model.RoverParam'>, fixedargs=(), fixedkwargs={'linetype': 'sine'}),\n",
       " 'sine_167': ParamScenario(sequence={}, times=(), p=RoverParam(linetype='sine', period=0.20943951023931953, end=(30.0, 0.0), initangle=59.78886156067504, amp=8.200000000000001, wavelength=30.0, radius=20.0, start=20.0, ub_f=10.0, lb_f=-1.0, ub_t=10.0, lb_t=-1.0, ub_d=2.0, lb_d=-2.0, cor_d=1.0, cor_t=1.0, cor_f=1.0, degradation=DegParam(friction=0.0, drift=0.0), drive_modes={'mode_args': 'set'}), r={'seed': 662546124}, sp={}, prob=0.005, inputparams={'amp': 8.200000000000001, 'wavelength': 30.0, 'linetype': 'sine'}, rangeid='sine', name='sine_167', paramfunc=<class 'rover_model.RoverParam'>, fixedargs=(), fixedkwargs={'linetype': 'sine'}),\n",
       " 'sine_168': ParamScenario(sequence={}, times=(), p=RoverParam(linetype='sine', period=0.15707963267948966, end=(40.0, 0.0), initangle=52.17546600901505, amp=8.200000000000001, wavelength=40.0, radius=20.0, start=20.0, ub_f=10.0, lb_f=-1.0, ub_t=10.0, lb_t=-1.0, ub_d=2.0, lb_d=-2.0, cor_d=1.0, cor_t=1.0, cor_f=1.0, degradation=DegParam(friction=0.0, drift=0.0), drive_modes={'mode_args': 'set'}), r={'seed': 662546124}, sp={}, prob=0.005, inputparams={'amp': 8.200000000000001, 'wavelength': 40.0, 'linetype': 'sine'}, rangeid='sine', name='sine_168', paramfunc=<class 'rover_model.RoverParam'>, fixedargs=(), fixedkwargs={'linetype': 'sine'}),\n",
       " 'sine_169': ParamScenario(sequence={}, times=(), p=RoverParam(linetype='sine', period=0.6283185307179586, end=(10.0, 0.0), initangle=79.27133505433774, amp=8.4, wavelength=10.0, radius=20.0, start=20.0, ub_f=10.0, lb_f=-1.0, ub_t=10.0, lb_t=-1.0, ub_d=2.0, lb_d=-2.0, cor_d=1.0, cor_t=1.0, cor_f=1.0, degradation=DegParam(friction=0.0, drift=0.0), drive_modes={'mode_args': 'set'}), r={'seed': 662546124}, sp={}, prob=0.005, inputparams={'amp': 8.4, 'wavelength': 10.0, 'linetype': 'sine'}, rangeid='sine', name='sine_169', paramfunc=<class 'rover_model.RoverParam'>, fixedargs=(), fixedkwargs={'linetype': 'sine'}),\n",
       " 'sine_170': ParamScenario(sequence={}, times=(), p=RoverParam(linetype='sine', period=0.3141592653589793, end=(20.0, 0.0), initangle=69.24628077947847, amp=8.4, wavelength=20.0, radius=20.0, start=20.0, ub_f=10.0, lb_f=-1.0, ub_t=10.0, lb_t=-1.0, ub_d=2.0, lb_d=-2.0, cor_d=1.0, cor_t=1.0, cor_f=1.0, degradation=DegParam(friction=0.0, drift=0.0), drive_modes={'mode_args': 'set'}), r={'seed': 662546124}, sp={}, prob=0.005, inputparams={'amp': 8.4, 'wavelength': 20.0, 'linetype': 'sine'}, rangeid='sine', name='sine_170', paramfunc=<class 'rover_model.RoverParam'>, fixedargs=(), fixedkwargs={'linetype': 'sine'}),\n",
       " 'sine_171': ParamScenario(sequence={}, times=(), p=RoverParam(linetype='sine', period=0.20943951023931953, end=(30.0, 0.0), initangle=60.3856448498835, amp=8.4, wavelength=30.0, radius=20.0, start=20.0, ub_f=10.0, lb_f=-1.0, ub_t=10.0, lb_t=-1.0, ub_d=2.0, lb_d=-2.0, cor_d=1.0, cor_t=1.0, cor_f=1.0, degradation=DegParam(friction=0.0, drift=0.0), drive_modes={'mode_args': 'set'}), r={'seed': 662546124}, sp={}, prob=0.005, inputparams={'amp': 8.4, 'wavelength': 30.0, 'linetype': 'sine'}, rangeid='sine', name='sine_171', paramfunc=<class 'rover_model.RoverParam'>, fixedargs=(), fixedkwargs={'linetype': 'sine'}),\n",
       " 'sine_172': ParamScenario(sequence={}, times=(), p=RoverParam(linetype='sine', period=0.15707963267948966, end=(40.0, 0.0), initangle=52.842214725054696, amp=8.4, wavelength=40.0, radius=20.0, start=20.0, ub_f=10.0, lb_f=-1.0, ub_t=10.0, lb_t=-1.0, ub_d=2.0, lb_d=-2.0, cor_d=1.0, cor_t=1.0, cor_f=1.0, degradation=DegParam(friction=0.0, drift=0.0), drive_modes={'mode_args': 'set'}), r={'seed': 662546124}, sp={}, prob=0.005, inputparams={'amp': 8.4, 'wavelength': 40.0, 'linetype': 'sine'}, rangeid='sine', name='sine_172', paramfunc=<class 'rover_model.RoverParam'>, fixedargs=(), fixedkwargs={'linetype': 'sine'}),\n",
       " 'sine_173': ParamScenario(sequence={}, times=(), p=RoverParam(linetype='sine', period=0.6283185307179586, end=(10.0, 0.0), initangle=79.51524255664111, amp=8.6, wavelength=10.0, radius=20.0, start=20.0, ub_f=10.0, lb_f=-1.0, ub_t=10.0, lb_t=-1.0, ub_d=2.0, lb_d=-2.0, cor_d=1.0, cor_t=1.0, cor_f=1.0, degradation=DegParam(friction=0.0, drift=0.0), drive_modes={'mode_args': 'set'}), r={'seed': 662546124}, sp={}, prob=0.005, inputparams={'amp': 8.6, 'wavelength': 10.0, 'linetype': 'sine'}, rangeid='sine', name='sine_173', paramfunc=<class 'rover_model.RoverParam'>, fixedargs=(), fixedkwargs={'linetype': 'sine'}),\n",
       " 'sine_174': ParamScenario(sequence={}, times=(), p=RoverParam(linetype='sine', period=0.3141592653589793, end=(20.0, 0.0), initangle=69.68908716372277, amp=8.6, wavelength=20.0, radius=20.0, start=20.0, ub_f=10.0, lb_f=-1.0, ub_t=10.0, lb_t=-1.0, ub_d=2.0, lb_d=-2.0, cor_d=1.0, cor_t=1.0, cor_f=1.0, degradation=DegParam(friction=0.0, drift=0.0), drive_modes={'mode_args': 'set'}), r={'seed': 662546124}, sp={}, prob=0.005, inputparams={'amp': 8.6, 'wavelength': 20.0, 'linetype': 'sine'}, rangeid='sine', name='sine_174', paramfunc=<class 'rover_model.RoverParam'>, fixedargs=(), fixedkwargs={'linetype': 'sine'}),\n",
       " 'sine_175': ParamScenario(sequence={}, times=(), p=RoverParam(linetype='sine', period=0.20943951023931953, end=(30.0, 0.0), initangle=60.961330579114254, amp=8.6, wavelength=30.0, radius=20.0, start=20.0, ub_f=10.0, lb_f=-1.0, ub_t=10.0, lb_t=-1.0, ub_d=2.0, lb_d=-2.0, cor_d=1.0, cor_t=1.0, cor_f=1.0, degradation=DegParam(friction=0.0, drift=0.0), drive_modes={'mode_args': 'set'}), r={'seed': 662546124}, sp={}, prob=0.005, inputparams={'amp': 8.6, 'wavelength': 30.0, 'linetype': 'sine'}, rangeid='sine', name='sine_175', paramfunc=<class 'rover_model.RoverParam'>, fixedargs=(), fixedkwargs={'linetype': 'sine'}),\n",
       " 'sine_176': ParamScenario(sequence={}, times=(), p=RoverParam(linetype='sine', period=0.15707963267948966, end=(40.0, 0.0), initangle=53.48909900273991, amp=8.6, wavelength=40.0, radius=20.0, start=20.0, ub_f=10.0, lb_f=-1.0, ub_t=10.0, lb_t=-1.0, ub_d=2.0, lb_d=-2.0, cor_d=1.0, cor_t=1.0, cor_f=1.0, degradation=DegParam(friction=0.0, drift=0.0), drive_modes={'mode_args': 'set'}), r={'seed': 662546124}, sp={}, prob=0.005, inputparams={'amp': 8.6, 'wavelength': 40.0, 'linetype': 'sine'}, rangeid='sine', name='sine_176', paramfunc=<class 'rover_model.RoverParam'>, fixedargs=(), fixedkwargs={'linetype': 'sine'}),\n",
       " 'sine_177': ParamScenario(sequence={}, times=(), p=RoverParam(linetype='sine', period=0.6283185307179586, end=(10.0, 0.0), initangle=79.74842253266695, amp=8.8, wavelength=10.0, radius=20.0, start=20.0, ub_f=10.0, lb_f=-1.0, ub_t=10.0, lb_t=-1.0, ub_d=2.0, lb_d=-2.0, cor_d=1.0, cor_t=1.0, cor_f=1.0, degradation=DegParam(friction=0.0, drift=0.0), drive_modes={'mode_args': 'set'}), r={'seed': 662546124}, sp={}, prob=0.005, inputparams={'amp': 8.8, 'wavelength': 10.0, 'linetype': 'sine'}, rangeid='sine', name='sine_177', paramfunc=<class 'rover_model.RoverParam'>, fixedargs=(), fixedkwargs={'linetype': 'sine'}),\n",
       " 'sine_178': ParamScenario(sequence={}, times=(), p=RoverParam(linetype='sine', period=0.3141592653589793, end=(20.0, 0.0), initangle=70.11414317732839, amp=8.8, wavelength=20.0, radius=20.0, start=20.0, ub_f=10.0, lb_f=-1.0, ub_t=10.0, lb_t=-1.0, ub_d=2.0, lb_d=-2.0, cor_d=1.0, cor_t=1.0, cor_f=1.0, degradation=DegParam(friction=0.0, drift=0.0), drive_modes={'mode_args': 'set'}), r={'seed': 662546124}, sp={}, prob=0.005, inputparams={'amp': 8.8, 'wavelength': 20.0, 'linetype': 'sine'}, rangeid='sine', name='sine_178', paramfunc=<class 'rover_model.RoverParam'>, fixedargs=(), fixedkwargs={'linetype': 'sine'}),\n",
       " 'sine_179': ParamScenario(sequence={}, times=(), p=RoverParam(linetype='sine', period=0.20943951023931953, end=(30.0, 0.0), initangle=61.51690778377907, amp=8.8, wavelength=30.0, radius=20.0, start=20.0, ub_f=10.0, lb_f=-1.0, ub_t=10.0, lb_t=-1.0, ub_d=2.0, lb_d=-2.0, cor_d=1.0, cor_t=1.0, cor_f=1.0, degradation=DegParam(friction=0.0, drift=0.0), drive_modes={'mode_args': 'set'}), r={'seed': 662546124}, sp={}, prob=0.005, inputparams={'amp': 8.8, 'wavelength': 30.0, 'linetype': 'sine'}, rangeid='sine', name='sine_179', paramfunc=<class 'rover_model.RoverParam'>, fixedargs=(), fixedkwargs={'linetype': 'sine'}),\n",
       " 'sine_180': ParamScenario(sequence={}, times=(), p=RoverParam(linetype='sine', period=0.15707963267948966, end=(40.0, 0.0), initangle=54.116835785734274, amp=8.8, wavelength=40.0, radius=20.0, start=20.0, ub_f=10.0, lb_f=-1.0, ub_t=10.0, lb_t=-1.0, ub_d=2.0, lb_d=-2.0, cor_d=1.0, cor_t=1.0, cor_f=1.0, degradation=DegParam(friction=0.0, drift=0.0), drive_modes={'mode_args': 'set'}), r={'seed': 662546124}, sp={}, prob=0.005, inputparams={'amp': 8.8, 'wavelength': 40.0, 'linetype': 'sine'}, rangeid='sine', name='sine_180', paramfunc=<class 'rover_model.RoverParam'>, fixedargs=(), fixedkwargs={'linetype': 'sine'}),\n",
       " 'sine_181': ParamScenario(sequence={}, times=(), p=RoverParam(linetype='sine', period=0.6283185307179586, end=(10.0, 0.0), initangle=79.97156024017964, amp=9.0, wavelength=10.0, radius=20.0, start=20.0, ub_f=10.0, lb_f=-1.0, ub_t=10.0, lb_t=-1.0, ub_d=2.0, lb_d=-2.0, cor_d=1.0, cor_t=1.0, cor_f=1.0, degradation=DegParam(friction=0.0, drift=0.0), drive_modes={'mode_args': 'set'}), r={'seed': 662546124}, sp={}, prob=0.005, inputparams={'amp': 9.0, 'wavelength': 10.0, 'linetype': 'sine'}, rangeid='sine', name='sine_181', paramfunc=<class 'rover_model.RoverParam'>, fixedargs=(), fixedkwargs={'linetype': 'sine'}),\n",
       " 'sine_182': ParamScenario(sequence={}, times=(), p=RoverParam(linetype='sine', period=0.3141592653589793, end=(20.0, 0.0), initangle=70.52245106605704, amp=9.0, wavelength=20.0, radius=20.0, start=20.0, ub_f=10.0, lb_f=-1.0, ub_t=10.0, lb_t=-1.0, ub_d=2.0, lb_d=-2.0, cor_d=1.0, cor_t=1.0, cor_f=1.0, degradation=DegParam(friction=0.0, drift=0.0), drive_modes={'mode_args': 'set'}), r={'seed': 662546124}, sp={}, prob=0.005, inputparams={'amp': 9.0, 'wavelength': 20.0, 'linetype': 'sine'}, rangeid='sine', name='sine_182', paramfunc=<class 'rover_model.RoverParam'>, fixedargs=(), fixedkwargs={'linetype': 'sine'}),\n",
       " 'sine_183': ParamScenario(sequence={}, times=(), p=RoverParam(linetype='sine', period=0.20943951023931953, end=(30.0, 0.0), initangle=62.05331275452114, amp=9.0, wavelength=30.0, radius=20.0, start=20.0, ub_f=10.0, lb_f=-1.0, ub_t=10.0, lb_t=-1.0, ub_d=2.0, lb_d=-2.0, cor_d=1.0, cor_t=1.0, cor_f=1.0, degradation=DegParam(friction=0.0, drift=0.0), drive_modes={'mode_args': 'set'}), r={'seed': 662546124}, sp={}, prob=0.005, inputparams={'amp': 9.0, 'wavelength': 30.0, 'linetype': 'sine'}, rangeid='sine', name='sine_183', paramfunc=<class 'rover_model.RoverParam'>, fixedargs=(), fixedkwargs={'linetype': 'sine'}),\n",
       " 'sine_184': ParamScenario(sequence={}, times=(), p=RoverParam(linetype='sine', period=0.15707963267948966, end=(40.0, 0.0), initangle=54.726118609414755, amp=9.0, wavelength=40.0, radius=20.0, start=20.0, ub_f=10.0, lb_f=-1.0, ub_t=10.0, lb_t=-1.0, ub_d=2.0, lb_d=-2.0, cor_d=1.0, cor_t=1.0, cor_f=1.0, degradation=DegParam(friction=0.0, drift=0.0), drive_modes={'mode_args': 'set'}), r={'seed': 662546124}, sp={}, prob=0.005, inputparams={'amp': 9.0, 'wavelength': 40.0, 'linetype': 'sine'}, rangeid='sine', name='sine_184', paramfunc=<class 'rover_model.RoverParam'>, fixedargs=(), fixedkwargs={'linetype': 'sine'}),\n",
       " 'sine_185': ParamScenario(sequence={}, times=(), p=RoverParam(linetype='sine', period=0.6283185307179586, end=(10.0, 0.0), initangle=80.18528438139481, amp=9.200000000000001, wavelength=10.0, radius=20.0, start=20.0, ub_f=10.0, lb_f=-1.0, ub_t=10.0, lb_t=-1.0, ub_d=2.0, lb_d=-2.0, cor_d=1.0, cor_t=1.0, cor_f=1.0, degradation=DegParam(friction=0.0, drift=0.0), drive_modes={'mode_args': 'set'}), r={'seed': 662546124}, sp={}, prob=0.005, inputparams={'amp': 9.200000000000001, 'wavelength': 10.0, 'linetype': 'sine'}, rangeid='sine', name='sine_185', paramfunc=<class 'rover_model.RoverParam'>, fixedargs=(), fixedkwargs={'linetype': 'sine'}),\n",
       " 'sine_186': ParamScenario(sequence={}, times=(), p=RoverParam(linetype='sine', period=0.3141592653589793, end=(20.0, 0.0), initangle=70.91494244791546, amp=9.200000000000001, wavelength=20.0, radius=20.0, start=20.0, ub_f=10.0, lb_f=-1.0, ub_t=10.0, lb_t=-1.0, ub_d=2.0, lb_d=-2.0, cor_d=1.0, cor_t=1.0, cor_f=1.0, degradation=DegParam(friction=0.0, drift=0.0), drive_modes={'mode_args': 'set'}), r={'seed': 662546124}, sp={}, prob=0.005, inputparams={'amp': 9.200000000000001, 'wavelength': 20.0, 'linetype': 'sine'}, rangeid='sine', name='sine_186', paramfunc=<class 'rover_model.RoverParam'>, fixedargs=(), fixedkwargs={'linetype': 'sine'}),\n",
       " 'sine_187': ParamScenario(sequence={}, times=(), p=RoverParam(linetype='sine', period=0.20943951023931953, end=(30.0, 0.0), initangle=62.57143173327786, amp=9.200000000000001, wavelength=30.0, radius=20.0, start=20.0, ub_f=10.0, lb_f=-1.0, ub_t=10.0, lb_t=-1.0, ub_d=2.0, lb_d=-2.0, cor_d=1.0, cor_t=1.0, cor_f=1.0, degradation=DegParam(friction=0.0, drift=0.0), drive_modes={'mode_args': 'set'}), r={'seed': 662546124}, sp={}, prob=0.005, inputparams={'amp': 9.200000000000001, 'wavelength': 30.0, 'linetype': 'sine'}, rangeid='sine', name='sine_187', paramfunc=<class 'rover_model.RoverParam'>, fixedargs=(), fixedkwargs={'linetype': 'sine'}),\n",
       " 'sine_188': ParamScenario(sequence={}, times=(), p=RoverParam(linetype='sine', period=0.15707963267948966, end=(40.0, 0.0), initangle=55.31761754329711, amp=9.200000000000001, wavelength=40.0, radius=20.0, start=20.0, ub_f=10.0, lb_f=-1.0, ub_t=10.0, lb_t=-1.0, ub_d=2.0, lb_d=-2.0, cor_d=1.0, cor_t=1.0, cor_f=1.0, degradation=DegParam(friction=0.0, drift=0.0), drive_modes={'mode_args': 'set'}), r={'seed': 662546124}, sp={}, prob=0.005, inputparams={'amp': 9.200000000000001, 'wavelength': 40.0, 'linetype': 'sine'}, rangeid='sine', name='sine_188', paramfunc=<class 'rover_model.RoverParam'>, fixedargs=(), fixedkwargs={'linetype': 'sine'}),\n",
       " 'sine_189': ParamScenario(sequence={}, times=(), p=RoverParam(linetype='sine', period=0.6283185307179586, end=(10.0, 0.0), initangle=80.39017276009615, amp=9.4, wavelength=10.0, radius=20.0, start=20.0, ub_f=10.0, lb_f=-1.0, ub_t=10.0, lb_t=-1.0, ub_d=2.0, lb_d=-2.0, cor_d=1.0, cor_t=1.0, cor_f=1.0, degradation=DegParam(friction=0.0, drift=0.0), drive_modes={'mode_args': 'set'}), r={'seed': 662546124}, sp={}, prob=0.005, inputparams={'amp': 9.4, 'wavelength': 10.0, 'linetype': 'sine'}, rangeid='sine', name='sine_189', paramfunc=<class 'rover_model.RoverParam'>, fixedargs=(), fixedkwargs={'linetype': 'sine'}),\n",
       " 'sine_190': ParamScenario(sequence={}, times=(), p=RoverParam(linetype='sine', period=0.3141592653589793, end=(20.0, 0.0), initangle=71.29248409393148, amp=9.4, wavelength=20.0, radius=20.0, start=20.0, ub_f=10.0, lb_f=-1.0, ub_t=10.0, lb_t=-1.0, ub_d=2.0, lb_d=-2.0, cor_d=1.0, cor_t=1.0, cor_f=1.0, degradation=DegParam(friction=0.0, drift=0.0), drive_modes={'mode_args': 'set'}), r={'seed': 662546124}, sp={}, prob=0.005, inputparams={'amp': 9.4, 'wavelength': 20.0, 'linetype': 'sine'}, rangeid='sine', name='sine_190', paramfunc=<class 'rover_model.RoverParam'>, fixedargs=(), fixedkwargs={'linetype': 'sine'}),\n",
       " 'sine_191': ParamScenario(sequence={}, times=(), p=RoverParam(linetype='sine', period=0.20943951023931953, end=(30.0, 0.0), initangle=63.07210354159461, amp=9.4, wavelength=30.0, radius=20.0, start=20.0, ub_f=10.0, lb_f=-1.0, ub_t=10.0, lb_t=-1.0, ub_d=2.0, lb_d=-2.0, cor_d=1.0, cor_t=1.0, cor_f=1.0, degradation=DegParam(friction=0.0, drift=0.0), drive_modes={'mode_args': 'set'}), r={'seed': 662546124}, sp={}, prob=0.005, inputparams={'amp': 9.4, 'wavelength': 30.0, 'linetype': 'sine'}, rangeid='sine', name='sine_191', paramfunc=<class 'rover_model.RoverParam'>, fixedargs=(), fixedkwargs={'linetype': 'sine'}),\n",
       " 'sine_192': ParamScenario(sequence={}, times=(), p=RoverParam(linetype='sine', period=0.15707963267948966, end=(40.0, 0.0), initangle=55.89197928925364, amp=9.4, wavelength=40.0, radius=20.0, start=20.0, ub_f=10.0, lb_f=-1.0, ub_t=10.0, lb_t=-1.0, ub_d=2.0, lb_d=-2.0, cor_d=1.0, cor_t=1.0, cor_f=1.0, degradation=DegParam(friction=0.0, drift=0.0), drive_modes={'mode_args': 'set'}), r={'seed': 662546124}, sp={}, prob=0.005, inputparams={'amp': 9.4, 'wavelength': 40.0, 'linetype': 'sine'}, rangeid='sine', name='sine_192', paramfunc=<class 'rover_model.RoverParam'>, fixedargs=(), fixedkwargs={'linetype': 'sine'}),\n",
       " 'sine_193': ParamScenario(sequence={}, times=(), p=RoverParam(linetype='sine', period=0.6283185307179586, end=(10.0, 0.0), initangle=80.58675728008288, amp=9.600000000000001, wavelength=10.0, radius=20.0, start=20.0, ub_f=10.0, lb_f=-1.0, ub_t=10.0, lb_t=-1.0, ub_d=2.0, lb_d=-2.0, cor_d=1.0, cor_t=1.0, cor_f=1.0, degradation=DegParam(friction=0.0, drift=0.0), drive_modes={'mode_args': 'set'}), r={'seed': 662546124}, sp={}, prob=0.005, inputparams={'amp': 9.600000000000001, 'wavelength': 10.0, 'linetype': 'sine'}, rangeid='sine', name='sine_193', paramfunc=<class 'rover_model.RoverParam'>, fixedargs=(), fixedkwargs={'linetype': 'sine'}),\n",
       " 'sine_194': ParamScenario(sequence={}, times=(), p=RoverParam(linetype='sine', period=0.3141592653589793, end=(20.0, 0.0), initangle=71.6558831891914, amp=9.600000000000001, wavelength=20.0, radius=20.0, start=20.0, ub_f=10.0, lb_f=-1.0, ub_t=10.0, lb_t=-1.0, ub_d=2.0, lb_d=-2.0, cor_d=1.0, cor_t=1.0, cor_f=1.0, degradation=DegParam(friction=0.0, drift=0.0), drive_modes={'mode_args': 'set'}), r={'seed': 662546124}, sp={}, prob=0.005, inputparams={'amp': 9.600000000000001, 'wavelength': 20.0, 'linetype': 'sine'}, rangeid='sine', name='sine_194', paramfunc=<class 'rover_model.RoverParam'>, fixedargs=(), fixedkwargs={'linetype': 'sine'}),\n",
       " 'sine_195': ParamScenario(sequence={}, times=(), p=RoverParam(linetype='sine', period=0.20943951023931953, end=(30.0, 0.0), initangle=63.55612212608379, amp=9.600000000000001, wavelength=30.0, radius=20.0, start=20.0, ub_f=10.0, lb_f=-1.0, ub_t=10.0, lb_t=-1.0, ub_d=2.0, lb_d=-2.0, cor_d=1.0, cor_t=1.0, cor_f=1.0, degradation=DegParam(friction=0.0, drift=0.0), drive_modes={'mode_args': 'set'}), r={'seed': 662546124}, sp={}, prob=0.005, inputparams={'amp': 9.600000000000001, 'wavelength': 30.0, 'linetype': 'sine'}, rangeid='sine', name='sine_195', paramfunc=<class 'rover_model.RoverParam'>, fixedargs=(), fixedkwargs={'linetype': 'sine'}),\n",
       " 'sine_196': ParamScenario(sequence={}, times=(), p=RoverParam(linetype='sine', period=0.15707963267948966, end=(40.0, 0.0), initangle=56.44982740917768, amp=9.600000000000001, wavelength=40.0, radius=20.0, start=20.0, ub_f=10.0, lb_f=-1.0, ub_t=10.0, lb_t=-1.0, ub_d=2.0, lb_d=-2.0, cor_d=1.0, cor_t=1.0, cor_f=1.0, degradation=DegParam(friction=0.0, drift=0.0), drive_modes={'mode_args': 'set'}), r={'seed': 662546124}, sp={}, prob=0.005, inputparams={'amp': 9.600000000000001, 'wavelength': 40.0, 'linetype': 'sine'}, rangeid='sine', name='sine_196', paramfunc=<class 'rover_model.RoverParam'>, fixedargs=(), fixedkwargs={'linetype': 'sine'}),\n",
       " 'sine_197': ParamScenario(sequence={}, times=(), p=RoverParam(linetype='sine', period=0.6283185307179586, end=(10.0, 0.0), initangle=80.77552837175558, amp=9.8, wavelength=10.0, radius=20.0, start=20.0, ub_f=10.0, lb_f=-1.0, ub_t=10.0, lb_t=-1.0, ub_d=2.0, lb_d=-2.0, cor_d=1.0, cor_t=1.0, cor_f=1.0, degradation=DegParam(friction=0.0, drift=0.0), drive_modes={'mode_args': 'set'}), r={'seed': 662546124}, sp={}, prob=0.005, inputparams={'amp': 9.8, 'wavelength': 10.0, 'linetype': 'sine'}, rangeid='sine', name='sine_197', paramfunc=<class 'rover_model.RoverParam'>, fixedargs=(), fixedkwargs={'linetype': 'sine'}),\n",
       " 'sine_198': ParamScenario(sequence={}, times=(), p=RoverParam(linetype='sine', period=0.3141592653589793, end=(20.0, 0.0), initangle=72.00589212246885, amp=9.8, wavelength=20.0, radius=20.0, start=20.0, ub_f=10.0, lb_f=-1.0, ub_t=10.0, lb_t=-1.0, ub_d=2.0, lb_d=-2.0, cor_d=1.0, cor_t=1.0, cor_f=1.0, degradation=DegParam(friction=0.0, drift=0.0), drive_modes={'mode_args': 'set'}), r={'seed': 662546124}, sp={}, prob=0.005, inputparams={'amp': 9.8, 'wavelength': 20.0, 'linetype': 'sine'}, rangeid='sine', name='sine_198', paramfunc=<class 'rover_model.RoverParam'>, fixedargs=(), fixedkwargs={'linetype': 'sine'}),\n",
       " 'sine_199': ParamScenario(sequence={}, times=(), p=RoverParam(linetype='sine', period=0.20943951023931953, end=(30.0, 0.0), initangle=64.02423901037157, amp=9.8, wavelength=30.0, radius=20.0, start=20.0, ub_f=10.0, lb_f=-1.0, ub_t=10.0, lb_t=-1.0, ub_d=2.0, lb_d=-2.0, cor_d=1.0, cor_t=1.0, cor_f=1.0, degradation=DegParam(friction=0.0, drift=0.0), drive_modes={'mode_args': 'set'}), r={'seed': 662546124}, sp={}, prob=0.005, inputparams={'amp': 9.8, 'wavelength': 30.0, 'linetype': 'sine'}, rangeid='sine', name='sine_199', paramfunc=<class 'rover_model.RoverParam'>, fixedargs=(), fixedkwargs={'linetype': 'sine'}),\n",
       " 'sine_200': ParamScenario(sequence={}, times=(), p=RoverParam(linetype='sine', period=0.15707963267948966, end=(40.0, 0.0), initangle=56.99176265906449, amp=9.8, wavelength=40.0, radius=20.0, start=20.0, ub_f=10.0, lb_f=-1.0, ub_t=10.0, lb_t=-1.0, ub_d=2.0, lb_d=-2.0, cor_d=1.0, cor_t=1.0, cor_f=1.0, degradation=DegParam(friction=0.0, drift=0.0), drive_modes={'mode_args': 'set'}), r={'seed': 662546124}, sp={}, prob=0.005, inputparams={'amp': 9.8, 'wavelength': 40.0, 'linetype': 'sine'}, rangeid='sine', name='sine_200', paramfunc=<class 'rover_model.RoverParam'>, fixedargs=(), fixedkwargs={'linetype': 'sine'}),\n",
       " 'turn_201': ParamScenario(sequence={}, times=(), p=RoverParam(linetype='turn', period=1.0, end=(5.0, 5.0), initangle=0.0, amp=1.0, wavelength=50.0, radius=5.0, start=0.0, ub_f=10.0, lb_f=-1.0, ub_t=10.0, lb_t=-1.0, ub_d=2.0, lb_d=-2.0, cor_d=1.0, cor_t=1.0, cor_f=1.0, degradation=DegParam(friction=0.0, drift=0.0), drive_modes={'mode_args': 'set'}), r={'seed': 520123461}, sp={}, prob=0.03571428571428571, inputparams={'radius': 5.0, 'start': 0.0, 'linetype': 'turn'}, rangeid='turn', name='turn_201', paramfunc=<class 'rover_model.RoverParam'>, fixedargs=(), fixedkwargs={'linetype': 'turn'}),\n",
       " 'turn_202': ParamScenario(sequence={}, times=(), p=RoverParam(linetype='turn', period=1.0, end=(10.0, 10.0), initangle=0.0, amp=1.0, wavelength=50.0, radius=5.0, start=5.0, ub_f=10.0, lb_f=-1.0, ub_t=10.0, lb_t=-1.0, ub_d=2.0, lb_d=-2.0, cor_d=1.0, cor_t=1.0, cor_f=1.0, degradation=DegParam(friction=0.0, drift=0.0), drive_modes={'mode_args': 'set'}), r={'seed': 520123461}, sp={}, prob=0.03571428571428571, inputparams={'radius': 5.0, 'start': 5.0, 'linetype': 'turn'}, rangeid='turn', name='turn_202', paramfunc=<class 'rover_model.RoverParam'>, fixedargs=(), fixedkwargs={'linetype': 'turn'}),\n",
       " 'turn_203': ParamScenario(sequence={}, times=(), p=RoverParam(linetype='turn', period=1.0, end=(15.0, 15.0), initangle=0.0, amp=1.0, wavelength=50.0, radius=5.0, start=10.0, ub_f=10.0, lb_f=-1.0, ub_t=10.0, lb_t=-1.0, ub_d=2.0, lb_d=-2.0, cor_d=1.0, cor_t=1.0, cor_f=1.0, degradation=DegParam(friction=0.0, drift=0.0), drive_modes={'mode_args': 'set'}), r={'seed': 520123461}, sp={}, prob=0.03571428571428571, inputparams={'radius': 5.0, 'start': 10.0, 'linetype': 'turn'}, rangeid='turn', name='turn_203', paramfunc=<class 'rover_model.RoverParam'>, fixedargs=(), fixedkwargs={'linetype': 'turn'}),\n",
       " 'turn_204': ParamScenario(sequence={}, times=(), p=RoverParam(linetype='turn', period=1.0, end=(20.0, 20.0), initangle=0.0, amp=1.0, wavelength=50.0, radius=5.0, start=15.0, ub_f=10.0, lb_f=-1.0, ub_t=10.0, lb_t=-1.0, ub_d=2.0, lb_d=-2.0, cor_d=1.0, cor_t=1.0, cor_f=1.0, degradation=DegParam(friction=0.0, drift=0.0), drive_modes={'mode_args': 'set'}), r={'seed': 520123461}, sp={}, prob=0.03571428571428571, inputparams={'radius': 5.0, 'start': 15.0, 'linetype': 'turn'}, rangeid='turn', name='turn_204', paramfunc=<class 'rover_model.RoverParam'>, fixedargs=(), fixedkwargs={'linetype': 'turn'}),\n",
       " 'turn_205': ParamScenario(sequence={}, times=(), p=RoverParam(linetype='turn', period=1.0, end=(10.0, 10.0), initangle=0.0, amp=1.0, wavelength=50.0, radius=10.0, start=0.0, ub_f=10.0, lb_f=-1.0, ub_t=10.0, lb_t=-1.0, ub_d=2.0, lb_d=-2.0, cor_d=1.0, cor_t=1.0, cor_f=1.0, degradation=DegParam(friction=0.0, drift=0.0), drive_modes={'mode_args': 'set'}), r={'seed': 520123461}, sp={}, prob=0.03571428571428571, inputparams={'radius': 10.0, 'start': 0.0, 'linetype': 'turn'}, rangeid='turn', name='turn_205', paramfunc=<class 'rover_model.RoverParam'>, fixedargs=(), fixedkwargs={'linetype': 'turn'}),\n",
       " 'turn_206': ParamScenario(sequence={}, times=(), p=RoverParam(linetype='turn', period=1.0, end=(15.0, 15.0), initangle=0.0, amp=1.0, wavelength=50.0, radius=10.0, start=5.0, ub_f=10.0, lb_f=-1.0, ub_t=10.0, lb_t=-1.0, ub_d=2.0, lb_d=-2.0, cor_d=1.0, cor_t=1.0, cor_f=1.0, degradation=DegParam(friction=0.0, drift=0.0), drive_modes={'mode_args': 'set'}), r={'seed': 520123461}, sp={}, prob=0.03571428571428571, inputparams={'radius': 10.0, 'start': 5.0, 'linetype': 'turn'}, rangeid='turn', name='turn_206', paramfunc=<class 'rover_model.RoverParam'>, fixedargs=(), fixedkwargs={'linetype': 'turn'}),\n",
       " 'turn_207': ParamScenario(sequence={}, times=(), p=RoverParam(linetype='turn', period=1.0, end=(20.0, 20.0), initangle=0.0, amp=1.0, wavelength=50.0, radius=10.0, start=10.0, ub_f=10.0, lb_f=-1.0, ub_t=10.0, lb_t=-1.0, ub_d=2.0, lb_d=-2.0, cor_d=1.0, cor_t=1.0, cor_f=1.0, degradation=DegParam(friction=0.0, drift=0.0), drive_modes={'mode_args': 'set'}), r={'seed': 520123461}, sp={}, prob=0.03571428571428571, inputparams={'radius': 10.0, 'start': 10.0, 'linetype': 'turn'}, rangeid='turn', name='turn_207', paramfunc=<class 'rover_model.RoverParam'>, fixedargs=(), fixedkwargs={'linetype': 'turn'}),\n",
       " 'turn_208': ParamScenario(sequence={}, times=(), p=RoverParam(linetype='turn', period=1.0, end=(25.0, 25.0), initangle=0.0, amp=1.0, wavelength=50.0, radius=10.0, start=15.0, ub_f=10.0, lb_f=-1.0, ub_t=10.0, lb_t=-1.0, ub_d=2.0, lb_d=-2.0, cor_d=1.0, cor_t=1.0, cor_f=1.0, degradation=DegParam(friction=0.0, drift=0.0), drive_modes={'mode_args': 'set'}), r={'seed': 520123461}, sp={}, prob=0.03571428571428571, inputparams={'radius': 10.0, 'start': 15.0, 'linetype': 'turn'}, rangeid='turn', name='turn_208', paramfunc=<class 'rover_model.RoverParam'>, fixedargs=(), fixedkwargs={'linetype': 'turn'}),\n",
       " 'turn_209': ParamScenario(sequence={}, times=(), p=RoverParam(linetype='turn', period=1.0, end=(15.0, 15.0), initangle=0.0, amp=1.0, wavelength=50.0, radius=15.0, start=0.0, ub_f=10.0, lb_f=-1.0, ub_t=10.0, lb_t=-1.0, ub_d=2.0, lb_d=-2.0, cor_d=1.0, cor_t=1.0, cor_f=1.0, degradation=DegParam(friction=0.0, drift=0.0), drive_modes={'mode_args': 'set'}), r={'seed': 520123461}, sp={}, prob=0.03571428571428571, inputparams={'radius': 15.0, 'start': 0.0, 'linetype': 'turn'}, rangeid='turn', name='turn_209', paramfunc=<class 'rover_model.RoverParam'>, fixedargs=(), fixedkwargs={'linetype': 'turn'}),\n",
       " 'turn_210': ParamScenario(sequence={}, times=(), p=RoverParam(linetype='turn', period=1.0, end=(20.0, 20.0), initangle=0.0, amp=1.0, wavelength=50.0, radius=15.0, start=5.0, ub_f=10.0, lb_f=-1.0, ub_t=10.0, lb_t=-1.0, ub_d=2.0, lb_d=-2.0, cor_d=1.0, cor_t=1.0, cor_f=1.0, degradation=DegParam(friction=0.0, drift=0.0), drive_modes={'mode_args': 'set'}), r={'seed': 520123461}, sp={}, prob=0.03571428571428571, inputparams={'radius': 15.0, 'start': 5.0, 'linetype': 'turn'}, rangeid='turn', name='turn_210', paramfunc=<class 'rover_model.RoverParam'>, fixedargs=(), fixedkwargs={'linetype': 'turn'}),\n",
       " 'turn_211': ParamScenario(sequence={}, times=(), p=RoverParam(linetype='turn', period=1.0, end=(25.0, 25.0), initangle=0.0, amp=1.0, wavelength=50.0, radius=15.0, start=10.0, ub_f=10.0, lb_f=-1.0, ub_t=10.0, lb_t=-1.0, ub_d=2.0, lb_d=-2.0, cor_d=1.0, cor_t=1.0, cor_f=1.0, degradation=DegParam(friction=0.0, drift=0.0), drive_modes={'mode_args': 'set'}), r={'seed': 520123461}, sp={}, prob=0.03571428571428571, inputparams={'radius': 15.0, 'start': 10.0, 'linetype': 'turn'}, rangeid='turn', name='turn_211', paramfunc=<class 'rover_model.RoverParam'>, fixedargs=(), fixedkwargs={'linetype': 'turn'}),\n",
       " 'turn_212': ParamScenario(sequence={}, times=(), p=RoverParam(linetype='turn', period=1.0, end=(30.0, 30.0), initangle=0.0, amp=1.0, wavelength=50.0, radius=15.0, start=15.0, ub_f=10.0, lb_f=-1.0, ub_t=10.0, lb_t=-1.0, ub_d=2.0, lb_d=-2.0, cor_d=1.0, cor_t=1.0, cor_f=1.0, degradation=DegParam(friction=0.0, drift=0.0), drive_modes={'mode_args': 'set'}), r={'seed': 520123461}, sp={}, prob=0.03571428571428571, inputparams={'radius': 15.0, 'start': 15.0, 'linetype': 'turn'}, rangeid='turn', name='turn_212', paramfunc=<class 'rover_model.RoverParam'>, fixedargs=(), fixedkwargs={'linetype': 'turn'}),\n",
       " 'turn_213': ParamScenario(sequence={}, times=(), p=RoverParam(linetype='turn', period=1.0, end=(20.0, 20.0), initangle=0.0, amp=1.0, wavelength=50.0, radius=20.0, start=0.0, ub_f=10.0, lb_f=-1.0, ub_t=10.0, lb_t=-1.0, ub_d=2.0, lb_d=-2.0, cor_d=1.0, cor_t=1.0, cor_f=1.0, degradation=DegParam(friction=0.0, drift=0.0), drive_modes={'mode_args': 'set'}), r={'seed': 520123461}, sp={}, prob=0.03571428571428571, inputparams={'radius': 20.0, 'start': 0.0, 'linetype': 'turn'}, rangeid='turn', name='turn_213', paramfunc=<class 'rover_model.RoverParam'>, fixedargs=(), fixedkwargs={'linetype': 'turn'}),\n",
       " 'turn_214': ParamScenario(sequence={}, times=(), p=RoverParam(linetype='turn', period=1.0, end=(25.0, 25.0), initangle=0.0, amp=1.0, wavelength=50.0, radius=20.0, start=5.0, ub_f=10.0, lb_f=-1.0, ub_t=10.0, lb_t=-1.0, ub_d=2.0, lb_d=-2.0, cor_d=1.0, cor_t=1.0, cor_f=1.0, degradation=DegParam(friction=0.0, drift=0.0), drive_modes={'mode_args': 'set'}), r={'seed': 520123461}, sp={}, prob=0.03571428571428571, inputparams={'radius': 20.0, 'start': 5.0, 'linetype': 'turn'}, rangeid='turn', name='turn_214', paramfunc=<class 'rover_model.RoverParam'>, fixedargs=(), fixedkwargs={'linetype': 'turn'}),\n",
       " 'turn_215': ParamScenario(sequence={}, times=(), p=RoverParam(linetype='turn', period=1.0, end=(30.0, 30.0), initangle=0.0, amp=1.0, wavelength=50.0, radius=20.0, start=10.0, ub_f=10.0, lb_f=-1.0, ub_t=10.0, lb_t=-1.0, ub_d=2.0, lb_d=-2.0, cor_d=1.0, cor_t=1.0, cor_f=1.0, degradation=DegParam(friction=0.0, drift=0.0), drive_modes={'mode_args': 'set'}), r={'seed': 520123461}, sp={}, prob=0.03571428571428571, inputparams={'radius': 20.0, 'start': 10.0, 'linetype': 'turn'}, rangeid='turn', name='turn_215', paramfunc=<class 'rover_model.RoverParam'>, fixedargs=(), fixedkwargs={'linetype': 'turn'}),\n",
       " 'turn_216': ParamScenario(sequence={}, times=(), p=RoverParam(linetype='turn', period=1.0, end=(35.0, 35.0), initangle=0.0, amp=1.0, wavelength=50.0, radius=20.0, start=15.0, ub_f=10.0, lb_f=-1.0, ub_t=10.0, lb_t=-1.0, ub_d=2.0, lb_d=-2.0, cor_d=1.0, cor_t=1.0, cor_f=1.0, degradation=DegParam(friction=0.0, drift=0.0), drive_modes={'mode_args': 'set'}), r={'seed': 520123461}, sp={}, prob=0.03571428571428571, inputparams={'radius': 20.0, 'start': 15.0, 'linetype': 'turn'}, rangeid='turn', name='turn_216', paramfunc=<class 'rover_model.RoverParam'>, fixedargs=(), fixedkwargs={'linetype': 'turn'}),\n",
       " 'turn_217': ParamScenario(sequence={}, times=(), p=RoverParam(linetype='turn', period=1.0, end=(25.0, 25.0), initangle=0.0, amp=1.0, wavelength=50.0, radius=25.0, start=0.0, ub_f=10.0, lb_f=-1.0, ub_t=10.0, lb_t=-1.0, ub_d=2.0, lb_d=-2.0, cor_d=1.0, cor_t=1.0, cor_f=1.0, degradation=DegParam(friction=0.0, drift=0.0), drive_modes={'mode_args': 'set'}), r={'seed': 520123461}, sp={}, prob=0.03571428571428571, inputparams={'radius': 25.0, 'start': 0.0, 'linetype': 'turn'}, rangeid='turn', name='turn_217', paramfunc=<class 'rover_model.RoverParam'>, fixedargs=(), fixedkwargs={'linetype': 'turn'}),\n",
       " 'turn_218': ParamScenario(sequence={}, times=(), p=RoverParam(linetype='turn', period=1.0, end=(30.0, 30.0), initangle=0.0, amp=1.0, wavelength=50.0, radius=25.0, start=5.0, ub_f=10.0, lb_f=-1.0, ub_t=10.0, lb_t=-1.0, ub_d=2.0, lb_d=-2.0, cor_d=1.0, cor_t=1.0, cor_f=1.0, degradation=DegParam(friction=0.0, drift=0.0), drive_modes={'mode_args': 'set'}), r={'seed': 520123461}, sp={}, prob=0.03571428571428571, inputparams={'radius': 25.0, 'start': 5.0, 'linetype': 'turn'}, rangeid='turn', name='turn_218', paramfunc=<class 'rover_model.RoverParam'>, fixedargs=(), fixedkwargs={'linetype': 'turn'}),\n",
       " 'turn_219': ParamScenario(sequence={}, times=(), p=RoverParam(linetype='turn', period=1.0, end=(35.0, 35.0), initangle=0.0, amp=1.0, wavelength=50.0, radius=25.0, start=10.0, ub_f=10.0, lb_f=-1.0, ub_t=10.0, lb_t=-1.0, ub_d=2.0, lb_d=-2.0, cor_d=1.0, cor_t=1.0, cor_f=1.0, degradation=DegParam(friction=0.0, drift=0.0), drive_modes={'mode_args': 'set'}), r={'seed': 520123461}, sp={}, prob=0.03571428571428571, inputparams={'radius': 25.0, 'start': 10.0, 'linetype': 'turn'}, rangeid='turn', name='turn_219', paramfunc=<class 'rover_model.RoverParam'>, fixedargs=(), fixedkwargs={'linetype': 'turn'}),\n",
       " 'turn_220': ParamScenario(sequence={}, times=(), p=RoverParam(linetype='turn', period=1.0, end=(40.0, 40.0), initangle=0.0, amp=1.0, wavelength=50.0, radius=25.0, start=15.0, ub_f=10.0, lb_f=-1.0, ub_t=10.0, lb_t=-1.0, ub_d=2.0, lb_d=-2.0, cor_d=1.0, cor_t=1.0, cor_f=1.0, degradation=DegParam(friction=0.0, drift=0.0), drive_modes={'mode_args': 'set'}), r={'seed': 520123461}, sp={}, prob=0.03571428571428571, inputparams={'radius': 25.0, 'start': 15.0, 'linetype': 'turn'}, rangeid='turn', name='turn_220', paramfunc=<class 'rover_model.RoverParam'>, fixedargs=(), fixedkwargs={'linetype': 'turn'}),\n",
       " 'turn_221': ParamScenario(sequence={}, times=(), p=RoverParam(linetype='turn', period=1.0, end=(30.0, 30.0), initangle=0.0, amp=1.0, wavelength=50.0, radius=30.0, start=0.0, ub_f=10.0, lb_f=-1.0, ub_t=10.0, lb_t=-1.0, ub_d=2.0, lb_d=-2.0, cor_d=1.0, cor_t=1.0, cor_f=1.0, degradation=DegParam(friction=0.0, drift=0.0), drive_modes={'mode_args': 'set'}), r={'seed': 520123461}, sp={}, prob=0.03571428571428571, inputparams={'radius': 30.0, 'start': 0.0, 'linetype': 'turn'}, rangeid='turn', name='turn_221', paramfunc=<class 'rover_model.RoverParam'>, fixedargs=(), fixedkwargs={'linetype': 'turn'}),\n",
       " 'turn_222': ParamScenario(sequence={}, times=(), p=RoverParam(linetype='turn', period=1.0, end=(35.0, 35.0), initangle=0.0, amp=1.0, wavelength=50.0, radius=30.0, start=5.0, ub_f=10.0, lb_f=-1.0, ub_t=10.0, lb_t=-1.0, ub_d=2.0, lb_d=-2.0, cor_d=1.0, cor_t=1.0, cor_f=1.0, degradation=DegParam(friction=0.0, drift=0.0), drive_modes={'mode_args': 'set'}), r={'seed': 520123461}, sp={}, prob=0.03571428571428571, inputparams={'radius': 30.0, 'start': 5.0, 'linetype': 'turn'}, rangeid='turn', name='turn_222', paramfunc=<class 'rover_model.RoverParam'>, fixedargs=(), fixedkwargs={'linetype': 'turn'}),\n",
       " 'turn_223': ParamScenario(sequence={}, times=(), p=RoverParam(linetype='turn', period=1.0, end=(40.0, 40.0), initangle=0.0, amp=1.0, wavelength=50.0, radius=30.0, start=10.0, ub_f=10.0, lb_f=-1.0, ub_t=10.0, lb_t=-1.0, ub_d=2.0, lb_d=-2.0, cor_d=1.0, cor_t=1.0, cor_f=1.0, degradation=DegParam(friction=0.0, drift=0.0), drive_modes={'mode_args': 'set'}), r={'seed': 520123461}, sp={}, prob=0.03571428571428571, inputparams={'radius': 30.0, 'start': 10.0, 'linetype': 'turn'}, rangeid='turn', name='turn_223', paramfunc=<class 'rover_model.RoverParam'>, fixedargs=(), fixedkwargs={'linetype': 'turn'}),\n",
       " 'turn_224': ParamScenario(sequence={}, times=(), p=RoverParam(linetype='turn', period=1.0, end=(45.0, 45.0), initangle=0.0, amp=1.0, wavelength=50.0, radius=30.0, start=15.0, ub_f=10.0, lb_f=-1.0, ub_t=10.0, lb_t=-1.0, ub_d=2.0, lb_d=-2.0, cor_d=1.0, cor_t=1.0, cor_f=1.0, degradation=DegParam(friction=0.0, drift=0.0), drive_modes={'mode_args': 'set'}), r={'seed': 520123461}, sp={}, prob=0.03571428571428571, inputparams={'radius': 30.0, 'start': 15.0, 'linetype': 'turn'}, rangeid='turn', name='turn_224', paramfunc=<class 'rover_model.RoverParam'>, fixedargs=(), fixedkwargs={'linetype': 'turn'}),\n",
       " 'turn_225': ParamScenario(sequence={}, times=(), p=RoverParam(linetype='turn', period=1.0, end=(35.0, 35.0), initangle=0.0, amp=1.0, wavelength=50.0, radius=35.0, start=0.0, ub_f=10.0, lb_f=-1.0, ub_t=10.0, lb_t=-1.0, ub_d=2.0, lb_d=-2.0, cor_d=1.0, cor_t=1.0, cor_f=1.0, degradation=DegParam(friction=0.0, drift=0.0), drive_modes={'mode_args': 'set'}), r={'seed': 520123461}, sp={}, prob=0.03571428571428571, inputparams={'radius': 35.0, 'start': 0.0, 'linetype': 'turn'}, rangeid='turn', name='turn_225', paramfunc=<class 'rover_model.RoverParam'>, fixedargs=(), fixedkwargs={'linetype': 'turn'}),\n",
       " 'turn_226': ParamScenario(sequence={}, times=(), p=RoverParam(linetype='turn', period=1.0, end=(40.0, 40.0), initangle=0.0, amp=1.0, wavelength=50.0, radius=35.0, start=5.0, ub_f=10.0, lb_f=-1.0, ub_t=10.0, lb_t=-1.0, ub_d=2.0, lb_d=-2.0, cor_d=1.0, cor_t=1.0, cor_f=1.0, degradation=DegParam(friction=0.0, drift=0.0), drive_modes={'mode_args': 'set'}), r={'seed': 520123461}, sp={}, prob=0.03571428571428571, inputparams={'radius': 35.0, 'start': 5.0, 'linetype': 'turn'}, rangeid='turn', name='turn_226', paramfunc=<class 'rover_model.RoverParam'>, fixedargs=(), fixedkwargs={'linetype': 'turn'}),\n",
       " 'turn_227': ParamScenario(sequence={}, times=(), p=RoverParam(linetype='turn', period=1.0, end=(45.0, 45.0), initangle=0.0, amp=1.0, wavelength=50.0, radius=35.0, start=10.0, ub_f=10.0, lb_f=-1.0, ub_t=10.0, lb_t=-1.0, ub_d=2.0, lb_d=-2.0, cor_d=1.0, cor_t=1.0, cor_f=1.0, degradation=DegParam(friction=0.0, drift=0.0), drive_modes={'mode_args': 'set'}), r={'seed': 520123461}, sp={}, prob=0.03571428571428571, inputparams={'radius': 35.0, 'start': 10.0, 'linetype': 'turn'}, rangeid='turn', name='turn_227', paramfunc=<class 'rover_model.RoverParam'>, fixedargs=(), fixedkwargs={'linetype': 'turn'}),\n",
       " 'turn_228': ParamScenario(sequence={}, times=(), p=RoverParam(linetype='turn', period=1.0, end=(50.0, 50.0), initangle=0.0, amp=1.0, wavelength=50.0, radius=35.0, start=15.0, ub_f=10.0, lb_f=-1.0, ub_t=10.0, lb_t=-1.0, ub_d=2.0, lb_d=-2.0, cor_d=1.0, cor_t=1.0, cor_f=1.0, degradation=DegParam(friction=0.0, drift=0.0), drive_modes={'mode_args': 'set'}), r={'seed': 520123461}, sp={}, prob=0.03571428571428571, inputparams={'radius': 35.0, 'start': 15.0, 'linetype': 'turn'}, rangeid='turn', name='turn_228', paramfunc=<class 'rover_model.RoverParam'>, fixedargs=(), fixedkwargs={'linetype': 'turn'})}"
      ]
     },
     "execution_count": 9,
     "metadata": {},
     "output_type": "execute_result"
    }
   ],
   "source": [
    "nomapp.scenarios"
   ]
  },
  {
   "attachments": {},
   "cell_type": "markdown",
   "metadata": {},
   "source": [
    "Nominal Approaches are simulated using `prop.nominal_approach`."
   ]
  },
  {
   "cell_type": "code",
   "execution_count": 10,
   "metadata": {
    "execution": {
     "iopub.execute_input": "2023-08-11T02:46:34.896039Z",
     "iopub.status.busy": "2023-08-11T02:46:34.896039Z",
     "iopub.status.idle": "2023-08-11T02:46:34.911529Z",
     "shell.execute_reply": "2023-08-11T02:46:34.911529Z"
    }
   },
   "outputs": [
    {
     "name": "stdout",
     "output_type": "stream",
     "text": [
      "Help on function nominal_approach in module fmdtools.sim.propagate:\n",
      "\n",
      "nominal_approach(mdl, nomapp, **kwargs)\n",
      "    Simulates a set of nominal scenarios through a model. Useful to understand\n",
      "    the sets of parameters where the system will run nominally and/or lead to\n",
      "    a fault.\n",
      "    \n",
      "    Parameters\n",
      "    ----------\n",
      "    mdl : Simulable\n",
      "        Model to simulate\n",
      "    nomapp : NominalApproach\n",
      "        Nominal Approach defining the nominal scenarios to run the system over.\n",
      "    get_endclass : bool\n",
      "        Whether to return endclasses from mdl.find_classification. Default is True.\n",
      "    **kwargs : kwargs\n",
      "        Additional keyword arguments, may include:\n",
      "    \n",
      "        - :data:`sim_kwargs` : kwargs\n",
      "              Simulation options for :func:`prop_one_scen`\n",
      "        - :data:`run_kwargs` : kwargs\n",
      "              Run options for :func:`nom_helper` and others\n",
      "        - :data:`mult_kwargs` : kwargs\n",
      "              Multi-scenario options\n",
      "    \n",
      "    Returns\n",
      "    -------\n",
      "    nomresults: Result\n",
      "        Result dict of result corresponding to desired result {'scenname': result}\n",
      "    nomhists : History\n",
      "        History of model histories, with structure {'scenname': mdlhist}\n",
      "\n"
     ]
    }
   ],
   "source": [
    "help(prop.nominal_approach)"
   ]
  },
  {
   "cell_type": "code",
   "execution_count": 11,
   "metadata": {
    "execution": {
     "iopub.execute_input": "2023-08-11T02:46:34.911529Z",
     "iopub.status.busy": "2023-08-11T02:46:34.911529Z",
     "iopub.status.idle": "2023-08-11T02:46:48.923064Z",
     "shell.execute_reply": "2023-08-11T02:46:48.923064Z"
    }
   },
   "outputs": [
    {
     "name": "stderr",
     "output_type": "stream",
     "text": [
      "\r",
      "SCENARIOS COMPLETE:   0%|          | 0/228 [00:00<?, ?it/s]"
     ]
    },
    {
     "name": "stderr",
     "output_type": "stream",
     "text": [
      "\r",
      "SCENARIOS COMPLETE:   1%|          | 2/228 [00:00<00:13, 17.35it/s]"
     ]
    },
    {
     "name": "stderr",
     "output_type": "stream",
     "text": [
      "\r",
      "SCENARIOS COMPLETE:   2%|▏         | 4/228 [00:00<00:12, 17.36it/s]"
     ]
    },
    {
     "name": "stderr",
     "output_type": "stream",
     "text": [
      "\r",
      "SCENARIOS COMPLETE:   3%|▎         | 6/228 [00:00<00:13, 16.93it/s]"
     ]
    },
    {
     "name": "stderr",
     "output_type": "stream",
     "text": [
      "\r",
      "SCENARIOS COMPLETE:   4%|▎         | 8/228 [00:00<00:12, 17.10it/s]"
     ]
    },
    {
     "name": "stderr",
     "output_type": "stream",
     "text": [
      "\r",
      "SCENARIOS COMPLETE:   4%|▍         | 10/228 [00:00<00:13, 15.68it/s]"
     ]
    },
    {
     "name": "stderr",
     "output_type": "stream",
     "text": [
      "\r",
      "SCENARIOS COMPLETE:   5%|▌         | 12/228 [00:00<00:14, 14.45it/s]"
     ]
    },
    {
     "name": "stderr",
     "output_type": "stream",
     "text": [
      "\r",
      "SCENARIOS COMPLETE:   6%|▌         | 14/228 [00:00<00:16, 12.87it/s]"
     ]
    },
    {
     "name": "stderr",
     "output_type": "stream",
     "text": [
      "\r",
      "SCENARIOS COMPLETE:   7%|▋         | 16/228 [00:01<00:17, 12.15it/s]"
     ]
    },
    {
     "name": "stderr",
     "output_type": "stream",
     "text": [
      "\r",
      "SCENARIOS COMPLETE:   8%|▊         | 18/228 [00:01<00:18, 11.41it/s]"
     ]
    },
    {
     "name": "stderr",
     "output_type": "stream",
     "text": [
      "\r",
      "SCENARIOS COMPLETE:   9%|▉         | 20/228 [00:01<00:16, 12.76it/s]"
     ]
    },
    {
     "name": "stderr",
     "output_type": "stream",
     "text": [
      "\r",
      "SCENARIOS COMPLETE:  10%|▉         | 22/228 [00:01<00:15, 13.41it/s]"
     ]
    },
    {
     "name": "stderr",
     "output_type": "stream",
     "text": [
      "\r",
      "SCENARIOS COMPLETE:  11%|█         | 24/228 [00:01<00:13, 14.76it/s]"
     ]
    },
    {
     "name": "stderr",
     "output_type": "stream",
     "text": [
      "\r",
      "SCENARIOS COMPLETE:  11%|█▏        | 26/228 [00:01<00:13, 14.92it/s]"
     ]
    },
    {
     "name": "stderr",
     "output_type": "stream",
     "text": [
      "\r",
      "SCENARIOS COMPLETE:  12%|█▏        | 28/228 [00:01<00:13, 15.03it/s]"
     ]
    },
    {
     "name": "stderr",
     "output_type": "stream",
     "text": [
      "\r",
      "SCENARIOS COMPLETE:  13%|█▎        | 30/228 [00:02<00:13, 15.11it/s]"
     ]
    },
    {
     "name": "stderr",
     "output_type": "stream",
     "text": [
      "\r",
      "SCENARIOS COMPLETE:  14%|█▍        | 32/228 [00:02<00:12, 15.49it/s]"
     ]
    },
    {
     "name": "stderr",
     "output_type": "stream",
     "text": [
      "\r",
      "SCENARIOS COMPLETE:  15%|█▍        | 34/228 [00:02<00:13, 14.90it/s]"
     ]
    },
    {
     "name": "stderr",
     "output_type": "stream",
     "text": [
      "\r",
      "SCENARIOS COMPLETE:  16%|█▌        | 36/228 [00:02<00:12, 14.80it/s]"
     ]
    },
    {
     "name": "stderr",
     "output_type": "stream",
     "text": [
      "\r",
      "SCENARIOS COMPLETE:  17%|█▋        | 38/228 [00:02<00:12, 14.95it/s]"
     ]
    },
    {
     "name": "stderr",
     "output_type": "stream",
     "text": [
      "\r",
      "SCENARIOS COMPLETE:  18%|█▊        | 40/228 [00:02<00:13, 13.88it/s]"
     ]
    },
    {
     "name": "stderr",
     "output_type": "stream",
     "text": [
      "\r",
      "SCENARIOS COMPLETE:  18%|█▊        | 42/228 [00:02<00:12, 14.77it/s]"
     ]
    },
    {
     "name": "stderr",
     "output_type": "stream",
     "text": [
      "\r",
      "SCENARIOS COMPLETE:  19%|█▉        | 44/228 [00:03<00:12, 14.92it/s]"
     ]
    },
    {
     "name": "stderr",
     "output_type": "stream",
     "text": [
      "\r",
      "SCENARIOS COMPLETE:  20%|██        | 46/228 [00:03<00:12, 14.32it/s]"
     ]
    },
    {
     "name": "stderr",
     "output_type": "stream",
     "text": [
      "\r",
      "SCENARIOS COMPLETE:  21%|██        | 48/228 [00:03<00:12, 14.61it/s]"
     ]
    },
    {
     "name": "stderr",
     "output_type": "stream",
     "text": [
      "\r",
      "SCENARIOS COMPLETE:  22%|██▏       | 50/228 [00:03<00:12, 14.81it/s]"
     ]
    },
    {
     "name": "stderr",
     "output_type": "stream",
     "text": [
      "\r",
      "SCENARIOS COMPLETE:  23%|██▎       | 52/228 [00:03<00:11, 14.74it/s]"
     ]
    },
    {
     "name": "stderr",
     "output_type": "stream",
     "text": [
      "\r",
      "SCENARIOS COMPLETE:  24%|██▎       | 54/228 [00:03<00:11, 14.90it/s]"
     ]
    },
    {
     "name": "stderr",
     "output_type": "stream",
     "text": [
      "\r",
      "SCENARIOS COMPLETE:  25%|██▍       | 56/228 [00:03<00:11, 15.02it/s]"
     ]
    },
    {
     "name": "stderr",
     "output_type": "stream",
     "text": [
      "\r",
      "SCENARIOS COMPLETE:  25%|██▌       | 58/228 [00:03<00:10, 15.65it/s]"
     ]
    },
    {
     "name": "stderr",
     "output_type": "stream",
     "text": [
      "\r",
      "SCENARIOS COMPLETE:  26%|██▋       | 60/228 [00:04<00:10, 15.32it/s]"
     ]
    },
    {
     "name": "stderr",
     "output_type": "stream",
     "text": [
      "\r",
      "SCENARIOS COMPLETE:  27%|██▋       | 62/228 [00:04<00:10, 15.31it/s]"
     ]
    },
    {
     "name": "stderr",
     "output_type": "stream",
     "text": [
      "\r",
      "SCENARIOS COMPLETE:  28%|██▊       | 64/228 [00:04<00:11, 14.58it/s]"
     ]
    },
    {
     "name": "stderr",
     "output_type": "stream",
     "text": [
      "\r",
      "SCENARIOS COMPLETE:  29%|██▉       | 66/228 [00:04<00:10, 14.79it/s]"
     ]
    },
    {
     "name": "stderr",
     "output_type": "stream",
     "text": [
      "\r",
      "SCENARIOS COMPLETE:  30%|██▉       | 68/228 [00:04<00:10, 15.48it/s]"
     ]
    },
    {
     "name": "stderr",
     "output_type": "stream",
     "text": [
      "\r",
      "SCENARIOS COMPLETE:  31%|███       | 70/228 [00:04<00:10, 15.42it/s]"
     ]
    },
    {
     "name": "stderr",
     "output_type": "stream",
     "text": [
      "\r",
      "SCENARIOS COMPLETE:  32%|███▏      | 72/228 [00:04<00:09, 15.95it/s]"
     ]
    },
    {
     "name": "stderr",
     "output_type": "stream",
     "text": [
      "\r",
      "SCENARIOS COMPLETE:  32%|███▏      | 74/228 [00:05<00:09, 16.09it/s]"
     ]
    },
    {
     "name": "stderr",
     "output_type": "stream",
     "text": [
      "\r",
      "SCENARIOS COMPLETE:  33%|███▎      | 76/228 [00:05<00:09, 16.45it/s]"
     ]
    },
    {
     "name": "stderr",
     "output_type": "stream",
     "text": [
      "\r",
      "SCENARIOS COMPLETE:  34%|███▍      | 78/228 [00:05<00:09, 15.92it/s]"
     ]
    },
    {
     "name": "stderr",
     "output_type": "stream",
     "text": [
      "\r",
      "SCENARIOS COMPLETE:  35%|███▌      | 80/228 [00:05<00:09, 15.90it/s]"
     ]
    },
    {
     "name": "stderr",
     "output_type": "stream",
     "text": [
      "\r",
      "SCENARIOS COMPLETE:  36%|███▌      | 82/228 [00:05<00:09, 15.81it/s]"
     ]
    },
    {
     "name": "stderr",
     "output_type": "stream",
     "text": [
      "\r",
      "SCENARIOS COMPLETE:  37%|███▋      | 84/228 [00:05<00:08, 16.33it/s]"
     ]
    },
    {
     "name": "stderr",
     "output_type": "stream",
     "text": [
      "\r",
      "SCENARIOS COMPLETE:  38%|███▊      | 86/228 [00:05<00:08, 16.36it/s]"
     ]
    },
    {
     "name": "stderr",
     "output_type": "stream",
     "text": [
      "\r",
      "SCENARIOS COMPLETE:  39%|███▊      | 88/228 [00:05<00:08, 16.39it/s]"
     ]
    },
    {
     "name": "stderr",
     "output_type": "stream",
     "text": [
      "\r",
      "SCENARIOS COMPLETE:  39%|███▉      | 90/228 [00:05<00:08, 16.90it/s]"
     ]
    },
    {
     "name": "stderr",
     "output_type": "stream",
     "text": [
      "\r",
      "SCENARIOS COMPLETE:  40%|████      | 92/228 [00:06<00:07, 17.09it/s]"
     ]
    },
    {
     "name": "stderr",
     "output_type": "stream",
     "text": [
      "\r",
      "SCENARIOS COMPLETE:  41%|████      | 94/228 [00:06<00:07, 16.88it/s]"
     ]
    },
    {
     "name": "stderr",
     "output_type": "stream",
     "text": [
      "\r",
      "SCENARIOS COMPLETE:  42%|████▏     | 96/228 [00:06<00:07, 17.28it/s]"
     ]
    },
    {
     "name": "stderr",
     "output_type": "stream",
     "text": [
      "\r",
      "SCENARIOS COMPLETE:  43%|████▎     | 98/228 [00:06<00:07, 17.38it/s]"
     ]
    },
    {
     "name": "stderr",
     "output_type": "stream",
     "text": [
      "\r",
      "SCENARIOS COMPLETE:  44%|████▍     | 100/228 [00:06<00:07, 17.88it/s]"
     ]
    },
    {
     "name": "stderr",
     "output_type": "stream",
     "text": [
      "\r",
      "SCENARIOS COMPLETE:  45%|████▍     | 102/228 [00:06<00:07, 17.72it/s]"
     ]
    },
    {
     "name": "stderr",
     "output_type": "stream",
     "text": [
      "\r",
      "SCENARIOS COMPLETE:  46%|████▌     | 104/228 [00:06<00:07, 17.61it/s]"
     ]
    },
    {
     "name": "stderr",
     "output_type": "stream",
     "text": [
      "\r",
      "SCENARIOS COMPLETE:  46%|████▋     | 106/228 [00:06<00:06, 17.53it/s]"
     ]
    },
    {
     "name": "stderr",
     "output_type": "stream",
     "text": [
      "\r",
      "SCENARIOS COMPLETE:  47%|████▋     | 108/228 [00:06<00:06, 17.48it/s]"
     ]
    },
    {
     "name": "stderr",
     "output_type": "stream",
     "text": [
      "\r",
      "SCENARIOS COMPLETE:  48%|████▊     | 110/228 [00:07<00:06, 17.15it/s]"
     ]
    },
    {
     "name": "stderr",
     "output_type": "stream",
     "text": [
      "\r",
      "SCENARIOS COMPLETE:  49%|████▉     | 112/228 [00:07<00:06, 17.06it/s]"
     ]
    },
    {
     "name": "stderr",
     "output_type": "stream",
     "text": [
      "\r",
      "SCENARIOS COMPLETE:  50%|█████     | 114/228 [00:07<00:06, 17.30it/s]"
     ]
    },
    {
     "name": "stderr",
     "output_type": "stream",
     "text": [
      "\r",
      "SCENARIOS COMPLETE:  51%|█████▏    | 117/228 [00:07<00:06, 17.50it/s]"
     ]
    },
    {
     "name": "stderr",
     "output_type": "stream",
     "text": [
      "\r",
      "SCENARIOS COMPLETE:  52%|█████▏    | 119/228 [00:07<00:06, 17.46it/s]"
     ]
    },
    {
     "name": "stderr",
     "output_type": "stream",
     "text": [
      "\r",
      "SCENARIOS COMPLETE:  54%|█████▎    | 122/228 [00:07<00:05, 17.84it/s]"
     ]
    },
    {
     "name": "stderr",
     "output_type": "stream",
     "text": [
      "\r",
      "SCENARIOS COMPLETE:  54%|█████▍    | 124/228 [00:07<00:05, 17.71it/s]"
     ]
    },
    {
     "name": "stderr",
     "output_type": "stream",
     "text": [
      "\r",
      "SCENARIOS COMPLETE:  55%|█████▌    | 126/228 [00:08<00:05, 17.35it/s]"
     ]
    },
    {
     "name": "stderr",
     "output_type": "stream",
     "text": [
      "\r",
      "SCENARIOS COMPLETE:  56%|█████▌    | 128/228 [00:08<00:05, 17.35it/s]"
     ]
    },
    {
     "name": "stderr",
     "output_type": "stream",
     "text": [
      "\r",
      "SCENARIOS COMPLETE:  57%|█████▋    | 130/228 [00:08<00:05, 17.35it/s]"
     ]
    },
    {
     "name": "stderr",
     "output_type": "stream",
     "text": [
      "\r",
      "SCENARIOS COMPLETE:  58%|█████▊    | 132/228 [00:08<00:05, 17.37it/s]"
     ]
    },
    {
     "name": "stderr",
     "output_type": "stream",
     "text": [
      "\r",
      "SCENARIOS COMPLETE:  59%|█████▉    | 134/228 [00:08<00:05, 17.37it/s]"
     ]
    },
    {
     "name": "stderr",
     "output_type": "stream",
     "text": [
      "\r",
      "SCENARIOS COMPLETE:  60%|█████▉    | 136/228 [00:08<00:05, 17.08it/s]"
     ]
    },
    {
     "name": "stderr",
     "output_type": "stream",
     "text": [
      "\r",
      "SCENARIOS COMPLETE:  61%|██████    | 138/228 [00:08<00:05, 16.51it/s]"
     ]
    },
    {
     "name": "stderr",
     "output_type": "stream",
     "text": [
      "\r",
      "SCENARIOS COMPLETE:  61%|██████▏   | 140/228 [00:08<00:05, 16.76it/s]"
     ]
    },
    {
     "name": "stderr",
     "output_type": "stream",
     "text": [
      "\r",
      "SCENARIOS COMPLETE:  62%|██████▏   | 142/228 [00:08<00:05, 16.93it/s]"
     ]
    },
    {
     "name": "stderr",
     "output_type": "stream",
     "text": [
      "\r",
      "SCENARIOS COMPLETE:  63%|██████▎   | 144/228 [00:09<00:04, 17.06it/s]"
     ]
    },
    {
     "name": "stderr",
     "output_type": "stream",
     "text": [
      "\r",
      "SCENARIOS COMPLETE:  64%|██████▍   | 146/228 [00:09<00:04, 17.14it/s]"
     ]
    },
    {
     "name": "stderr",
     "output_type": "stream",
     "text": [
      "\r",
      "SCENARIOS COMPLETE:  65%|██████▍   | 148/228 [00:09<00:04, 16.93it/s]"
     ]
    },
    {
     "name": "stderr",
     "output_type": "stream",
     "text": [
      "\r",
      "SCENARIOS COMPLETE:  66%|██████▌   | 150/228 [00:09<00:04, 17.06it/s]"
     ]
    },
    {
     "name": "stderr",
     "output_type": "stream",
     "text": [
      "\r",
      "SCENARIOS COMPLETE:  67%|██████▋   | 152/228 [00:09<00:04, 17.15it/s]"
     ]
    },
    {
     "name": "stderr",
     "output_type": "stream",
     "text": [
      "\r",
      "SCENARIOS COMPLETE:  68%|██████▊   | 154/228 [00:09<00:04, 17.21it/s]"
     ]
    },
    {
     "name": "stderr",
     "output_type": "stream",
     "text": [
      "\r",
      "SCENARIOS COMPLETE:  68%|██████▊   | 156/228 [00:09<00:04, 17.25it/s]"
     ]
    },
    {
     "name": "stderr",
     "output_type": "stream",
     "text": [
      "\r",
      "SCENARIOS COMPLETE:  69%|██████▉   | 158/228 [00:09<00:04, 17.02it/s]"
     ]
    },
    {
     "name": "stderr",
     "output_type": "stream",
     "text": [
      "\r",
      "SCENARIOS COMPLETE:  70%|███████   | 160/228 [00:10<00:03, 17.12it/s]"
     ]
    },
    {
     "name": "stderr",
     "output_type": "stream",
     "text": [
      "\r",
      "SCENARIOS COMPLETE:  71%|███████   | 162/228 [00:10<00:03, 17.19it/s]"
     ]
    },
    {
     "name": "stderr",
     "output_type": "stream",
     "text": [
      "\r",
      "SCENARIOS COMPLETE:  72%|███████▏  | 164/228 [00:10<00:03, 17.24it/s]"
     ]
    },
    {
     "name": "stderr",
     "output_type": "stream",
     "text": [
      "\r",
      "SCENARIOS COMPLETE:  73%|███████▎  | 166/228 [00:10<00:03, 17.02it/s]"
     ]
    },
    {
     "name": "stderr",
     "output_type": "stream",
     "text": [
      "\r",
      "SCENARIOS COMPLETE:  74%|███████▎  | 168/228 [00:10<00:03, 17.39it/s]"
     ]
    },
    {
     "name": "stderr",
     "output_type": "stream",
     "text": [
      "\r",
      "SCENARIOS COMPLETE:  75%|███████▍  | 170/228 [00:10<00:03, 17.09it/s]"
     ]
    },
    {
     "name": "stderr",
     "output_type": "stream",
     "text": [
      "\r",
      "SCENARIOS COMPLETE:  75%|███████▌  | 172/228 [00:10<00:03, 17.17it/s]"
     ]
    },
    {
     "name": "stderr",
     "output_type": "stream",
     "text": [
      "\r",
      "SCENARIOS COMPLETE:  76%|███████▋  | 174/228 [00:10<00:03, 17.22it/s]"
     ]
    },
    {
     "name": "stderr",
     "output_type": "stream",
     "text": [
      "\r",
      "SCENARIOS COMPLETE:  77%|███████▋  | 176/228 [00:10<00:03, 17.26it/s]"
     ]
    },
    {
     "name": "stderr",
     "output_type": "stream",
     "text": [
      "\r",
      "SCENARIOS COMPLETE:  78%|███████▊  | 178/228 [00:11<00:02, 17.29it/s]"
     ]
    },
    {
     "name": "stderr",
     "output_type": "stream",
     "text": [
      "\r",
      "SCENARIOS COMPLETE:  79%|███████▉  | 180/228 [00:11<00:02, 16.99it/s]"
     ]
    },
    {
     "name": "stderr",
     "output_type": "stream",
     "text": [
      "\r",
      "SCENARIOS COMPLETE:  80%|███████▉  | 182/228 [00:11<00:02, 17.15it/s]"
     ]
    },
    {
     "name": "stderr",
     "output_type": "stream",
     "text": [
      "\r",
      "SCENARIOS COMPLETE:  81%|████████  | 184/228 [00:11<00:02, 17.21it/s]"
     ]
    },
    {
     "name": "stderr",
     "output_type": "stream",
     "text": [
      "\r",
      "SCENARIOS COMPLETE:  82%|████████▏ | 186/228 [00:11<00:02, 17.25it/s]"
     ]
    },
    {
     "name": "stderr",
     "output_type": "stream",
     "text": [
      "\r",
      "SCENARIOS COMPLETE:  82%|████████▏ | 188/228 [00:11<00:02, 17.28it/s]"
     ]
    },
    {
     "name": "stderr",
     "output_type": "stream",
     "text": [
      "\r",
      "SCENARIOS COMPLETE:  83%|████████▎ | 190/228 [00:11<00:02, 17.30it/s]"
     ]
    },
    {
     "name": "stderr",
     "output_type": "stream",
     "text": [
      "\r",
      "SCENARIOS COMPLETE:  84%|████████▍ | 192/228 [00:11<00:02, 17.32it/s]"
     ]
    },
    {
     "name": "stderr",
     "output_type": "stream",
     "text": [
      "\r",
      "SCENARIOS COMPLETE:  85%|████████▌ | 194/228 [00:12<00:01, 17.04it/s]"
     ]
    },
    {
     "name": "stderr",
     "output_type": "stream",
     "text": [
      "\r",
      "SCENARIOS COMPLETE:  86%|████████▌ | 196/228 [00:12<00:01, 17.13it/s]"
     ]
    },
    {
     "name": "stderr",
     "output_type": "stream",
     "text": [
      "\r",
      "SCENARIOS COMPLETE:  87%|████████▋ | 198/228 [00:12<00:01, 17.20it/s]"
     ]
    },
    {
     "name": "stderr",
     "output_type": "stream",
     "text": [
      "\r",
      "SCENARIOS COMPLETE:  88%|████████▊ | 200/228 [00:12<00:01, 17.25it/s]"
     ]
    },
    {
     "name": "stderr",
     "output_type": "stream",
     "text": [
      "\r",
      "SCENARIOS COMPLETE:  89%|████████▊ | 202/228 [00:12<00:01, 17.28it/s]"
     ]
    },
    {
     "name": "stderr",
     "output_type": "stream",
     "text": [
      "\r",
      "SCENARIOS COMPLETE:  89%|████████▉ | 204/228 [00:12<00:01, 17.65it/s]"
     ]
    },
    {
     "name": "stderr",
     "output_type": "stream",
     "text": [
      "\r",
      "SCENARIOS COMPLETE:  90%|█████████ | 206/228 [00:12<00:01, 17.22it/s]"
     ]
    },
    {
     "name": "stderr",
     "output_type": "stream",
     "text": [
      "\r",
      "SCENARIOS COMPLETE:  91%|█████████ | 208/228 [00:12<00:01, 17.67it/s]"
     ]
    },
    {
     "name": "stderr",
     "output_type": "stream",
     "text": [
      "\r",
      "SCENARIOS COMPLETE:  92%|█████████▏| 210/228 [00:12<00:01, 17.57it/s]"
     ]
    },
    {
     "name": "stderr",
     "output_type": "stream",
     "text": [
      "\r",
      "SCENARIOS COMPLETE:  93%|█████████▎| 212/228 [00:13<00:00, 17.51it/s]"
     ]
    },
    {
     "name": "stderr",
     "output_type": "stream",
     "text": [
      "\r",
      "SCENARIOS COMPLETE:  94%|█████████▍| 215/228 [00:13<00:00, 17.90it/s]"
     ]
    },
    {
     "name": "stderr",
     "output_type": "stream",
     "text": [
      "\r",
      "SCENARIOS COMPLETE:  95%|█████████▌| 217/228 [00:13<00:00, 18.16it/s]"
     ]
    },
    {
     "name": "stderr",
     "output_type": "stream",
     "text": [
      "\r",
      "SCENARIOS COMPLETE:  96%|█████████▌| 219/228 [00:13<00:00, 17.92it/s]"
     ]
    },
    {
     "name": "stderr",
     "output_type": "stream",
     "text": [
      "\r",
      "SCENARIOS COMPLETE:  97%|█████████▋| 221/228 [00:13<00:00, 17.76it/s]"
     ]
    },
    {
     "name": "stderr",
     "output_type": "stream",
     "text": [
      "\r",
      "SCENARIOS COMPLETE:  98%|█████████▊| 223/228 [00:13<00:00, 17.64it/s]"
     ]
    },
    {
     "name": "stderr",
     "output_type": "stream",
     "text": [
      "\r",
      "SCENARIOS COMPLETE:  99%|█████████▊| 225/228 [00:13<00:00, 17.56it/s]"
     ]
    },
    {
     "name": "stderr",
     "output_type": "stream",
     "text": [
      "\r",
      "SCENARIOS COMPLETE: 100%|█████████▉| 227/228 [00:13<00:00, 17.50it/s]"
     ]
    },
    {
     "name": "stderr",
     "output_type": "stream",
     "text": [
      "\r",
      "SCENARIOS COMPLETE: 100%|██████████| 228/228 [00:13<00:00, 16.37it/s]"
     ]
    },
    {
     "name": "stderr",
     "output_type": "stream",
     "text": [
      "\n"
     ]
    }
   ],
   "source": [
    "endclasses, mdlhists= prop.nominal_approach(mdl, nomapp)"
   ]
  },
  {
   "attachments": {},
   "cell_type": "markdown",
   "metadata": {},
   "source": [
    "To speed up execution over large numbers of scenarios, multiprocessing can also be used to run the scenarios in parallel by passing an execution pool. This is not done here because it would require the model to be in a different file, and because the gains on a light-weight model like this are not significant."
   ]
  },
  {
   "attachments": {},
   "cell_type": "markdown",
   "metadata": {},
   "source": [
    "Now that the approach has been simulated, the operational envelope can be visualized. There are three methods to perform this visualization `an.plot.nominal_vals_1d`, `an.plot.nominal_vals_2d`, and `an.plot.nominal_vals_3d`, which each plot the *classification* of the model in the 1/2/3 dimensions over the set of given parameters as nominal or incomplete. \n",
    "\n",
    "Note that this classification must be in the dictionary returned from the Model's `find_classification` function at the end of the model run under the key `classification` as is done in the rover model. This classification must also be encoded as a string."
   ]
  },
  {
   "cell_type": "code",
   "execution_count": 12,
   "metadata": {
    "execution": {
     "iopub.execute_input": "2023-08-11T02:46:48.923064Z",
     "iopub.status.busy": "2023-08-11T02:46:48.923064Z",
     "iopub.status.idle": "2023-08-11T02:46:48.938462Z",
     "shell.execute_reply": "2023-08-11T02:46:48.938462Z"
    }
   },
   "outputs": [
    {
     "name": "stdout",
     "output_type": "stream",
     "text": [
      "Help on function nominal_vals_2d in module fmdtools.analyze.plot:\n",
      "\n",
      "nominal_vals_2d(nomapp, endclasses, x_param, y_param, only_params=False, default_param=0, title='Nominal Operational Envelope', nom_func=<function <lambda> at 0x000001263EE81B80>, metric='cost', figsize=(6, 4), xlabel='', ylabel='', nom_alpha=0.5, nom_color='blue', nom_marker='o', fault_alpha=0.5, fault_color='red', fault_marker='X', legend_loc='best')\n",
      "    Visualizes the nominal operational envelope along two given parameters\n",
      "    \n",
      "    Parameters\n",
      "    ----------\n",
      "    nomapp : NominalApproach\n",
      "        Nominal sample approach simulated in the model.\n",
      "    endclasses : Result\n",
      "        Result dict for the set of simulations produced by running the model over nomapp\n",
      "    x_param : str\n",
      "        Parameter range desired to visualize on the x-axis. Can be any\n",
      "        property that changes over the nomapp\n",
      "        (e.g., `r.seed`, `inputparam.x_in`, `p.x`...)\n",
      "    y_param : str\n",
      "        Parameter range desired to visualize on the y-axis. Can be any\n",
      "        property that changes over the nomapp\n",
      "        (e.g., `r.seed`, `inputparam.x_in`, `p.x`...)\n",
      "    only_params : bool\n",
      "        Whether to only include scenarios with a defined x_param. Default is False.\n",
      "    default_param : any\n",
      "        Default parameter value (if parameter not defined)\n",
      "    title : str, optional\n",
      "        Plot title. The default is \"Nominal Operational Envelope\".\n",
      "    nom_func : method, optional\n",
      "        Function to classify metric values as \"nominal\".\n",
      "        Default is lambda x: x == 0.0\n",
      "    metric : str\n",
      "        Value to get from endclasses for the scenario(s). The default is 'cost'.\n",
      "    figsize : bool\n",
      "        figsize argument to plt.figure\n",
      "    xlabel : str, optional\n",
      "        label for x-axis (defaults to parameter name for x_param)\n",
      "    ylabel : str, optional\n",
      "        label for y-axis (defaults to parameter name for x_param)\n",
      "    nom_alpha : float, optional\n",
      "        alpha value for nominal values. Default is 0.5.\n",
      "    nom_color : str, optional\n",
      "        color for nominal values\n",
      "    nom_marker : str, optional\n",
      "        marker for nominal values. Default is 'o'.\n",
      "    fault_alpha : float, optional\n",
      "        alpha value for off-nominal values. Default is 0.5.\n",
      "    fault_color : str, optional\n",
      "        color for off-nominal values\n",
      "    fault_marker : str, optional\n",
      "        marker for nominal values. Default is 'X'.\n",
      "    legend_loc : str, optional\n",
      "        location for the legend (see matplotlib docs). Default is 'best'.\n",
      "    \n",
      "    Returns\n",
      "    -------\n",
      "    fig : matplotlib figure\n",
      "        Figure for the plot.\n",
      "\n"
     ]
    }
   ],
   "source": [
    "help(an.plot.nominal_vals_2d)"
   ]
  },
  {
   "attachments": {},
   "cell_type": "markdown",
   "metadata": {},
   "source": [
    "We can then use these results to visualize the operational envelope for the system over each case. In this case, the parameter ranges of the sine wave are plotted, showing that the rover can only a low ration of amplitude to wavelenght."
   ]
  },
  {
   "cell_type": "code",
   "execution_count": 13,
   "metadata": {
    "execution": {
     "iopub.execute_input": "2023-08-11T02:46:48.938462Z",
     "iopub.status.busy": "2023-08-11T02:46:48.938462Z",
     "iopub.status.idle": "2023-08-11T02:46:49.383625Z",
     "shell.execute_reply": "2023-08-11T02:46:49.383625Z"
    }
   },
   "outputs": [
    {
     "data": {
      "image/png": "[encoded data removed]",
      "text/plain": [
       "<Figure size 432x288 with 1 Axes>"
      ]
     },
     "metadata": {
      "needs_background": "light"
     },
     "output_type": "display_data"
    }
   ],
   "source": [
    "fig = an.plot.nominal_vals_2d(nomapp, endclasses, 'inputparams.amp', 'inputparams.wavelength', metric = 'at_finish')"
   ]
  },
  {
   "attachments": {},
   "cell_type": "markdown",
   "metadata": {},
   "source": [
    "The plot below shows the same results for the turn parameters."
   ]
  },
  {
   "cell_type": "code",
   "execution_count": 14,
   "metadata": {
    "execution": {
     "iopub.execute_input": "2023-08-11T02:46:49.383625Z",
     "iopub.status.busy": "2023-08-11T02:46:49.383625Z",
     "iopub.status.idle": "2023-08-11T02:46:49.835630Z",
     "shell.execute_reply": "2023-08-11T02:46:49.835630Z"
    }
   },
   "outputs": [
    {
     "data": {
      "image/png": "[encoded data removed]",
      "text/plain": [
       "<Figure size 432x288 with 1 Axes>"
      ]
     },
     "metadata": {
      "needs_background": "light"
     },
     "output_type": "display_data"
    }
   ],
   "source": [
    "fig = an.plot.nominal_vals_2d(nomapp, endclasses, 'inputparams.radius', 'inputparams.start', metric = 'at_finish')"
   ]
  },
  {
   "attachments": {},
   "cell_type": "markdown",
   "metadata": {},
   "source": [
    "Because the primary effect is one in terms of radius, we might visualize this trend in one dimension instead:"
   ]
  },
  {
   "cell_type": "code",
   "execution_count": 15,
   "metadata": {
    "execution": {
     "iopub.execute_input": "2023-08-11T02:46:49.835630Z",
     "iopub.status.busy": "2023-08-11T02:46:49.835630Z",
     "iopub.status.idle": "2023-08-11T02:46:50.218858Z",
     "shell.execute_reply": "2023-08-11T02:46:50.218858Z"
    }
   },
   "outputs": [
    {
     "data": {
      "image/png": "[encoded data removed]",
      "text/plain": [
       "<Figure size 432x288 with 1 Axes>"
      ]
     },
     "metadata": {
      "needs_background": "light"
     },
     "output_type": "display_data"
    }
   ],
   "source": [
    "fig = an.plot.nominal_vals_1d(nomapp, endclasses, 'inputparams.radius', metric = 'at_finish')"
   ]
  },
  {
   "attachments": {},
   "cell_type": "markdown",
   "metadata": {},
   "source": [
    "While this is helpful for plotting string classifications, we also might want to compare numeric quantities (e.g., costs, hazard probabilities, etc) over the set of factors. For this, `an.tabulate.nominal_factor_comparison` is used, which creates a table of  metrics over a given set of parameters."
   ]
  },
  {
   "cell_type": "code",
   "execution_count": 16,
   "metadata": {
    "execution": {
     "iopub.execute_input": "2023-08-11T02:46:50.218858Z",
     "iopub.status.busy": "2023-08-11T02:46:50.218858Z",
     "iopub.status.idle": "2023-08-11T02:46:50.234382Z",
     "shell.execute_reply": "2023-08-11T02:46:50.234382Z"
    }
   },
   "outputs": [
    {
     "name": "stdout",
     "output_type": "stream",
     "text": [
      "Help on function nominal_factor_comparison in module fmdtools.analyze.tabulate:\n",
      "\n",
      "nominal_factor_comparison(nomapp, endclasses, params, metrics='all', rangeid='default', nan_as=nan, percent=True, give_ci=False, **kwargs)\n",
      "    Compares a metric for a given set of model parameters/factors over set of nominal scenarios.\n",
      "    \n",
      "    Parameters\n",
      "    ----------\n",
      "    nomapp : NominalApproach\n",
      "        Nominal Approach used to generate the simulations\n",
      "    endclasses : dict\n",
      "        dict of endclasses from propagate.nominal_approach or nested_approach with structure: \n",
      "            {scen_x:{metric1:x, metric2:x...}} or {scen_x:{fault:{metric1:x, metric2:x...}}} \n",
      "    params : list/str\n",
      "        List of parameters (or parameter) to use for the factor levels in the comparison\n",
      "    metrics : 'all'/list, optional\n",
      "        Metrics to show in the table. The default is 'all'.\n",
      "    rangeid : str, optional\n",
      "        Nominal Approach range to use for the test, if run over a single range.\n",
      "        The default is 'default', which either:\n",
      "            - picks the only range (if there is only one), or\n",
      "            - compares between ranges (if more than one)\n",
      "    nan_as : float, optional\n",
      "        Number to parse NaNs as (if present). The default is np.nan.\n",
      "    percent : bool, optional\n",
      "        Whether to compare metrics as bools (True - results in a comparison of percentages of indicator variables) \n",
      "        or as averages (False - results in a comparison of average values of real valued variables). The default is True.\n",
      "    give_ci = bool:\n",
      "        gives the bootstrap confidence interval for the given statistic using the given kwargs\n",
      "        'combined' combines the values as a strings in the table (for display)\n",
      "    give_ci : bool\n",
      "        ....\n",
      "    kwargs : keyword arguments for bootstrap_confidence_interval (sample_size, num_samples, interval, seed)\n",
      "    Returns\n",
      "    -------\n",
      "    table : pandas table\n",
      "        Table with the metric statistic (percent or average) over the nominal scenario and each listed function/mode (as differences or averages)\n",
      "\n"
     ]
    }
   ],
   "source": [
    "help(an.tabulate.nominal_factor_comparison)"
   ]
  },
  {
   "cell_type": "code",
   "execution_count": 17,
   "metadata": {
    "execution": {
     "iopub.execute_input": "2023-08-11T02:46:50.234382Z",
     "iopub.status.busy": "2023-08-11T02:46:50.234382Z",
     "iopub.status.idle": "2023-08-11T02:46:50.249914Z",
     "shell.execute_reply": "2023-08-11T02:46:50.249914Z"
    }
   },
   "outputs": [
    {
     "data": {
      "text/plain": [
       "{'nominal mission': 1.4471428571428586,\n",
       " 'incomplete mission': 0.552857142857143}"
      ]
     },
     "execution_count": 17,
     "metadata": {},
     "output_type": "execute_result"
    }
   ],
   "source": [
    "endclasses.state_probabilities()"
   ]
  },
  {
   "cell_type": "code",
   "execution_count": 18,
   "metadata": {
    "execution": {
     "iopub.execute_input": "2023-08-11T02:46:50.249914Z",
     "iopub.status.busy": "2023-08-11T02:46:50.249914Z",
     "iopub.status.idle": "2023-08-11T02:46:50.838460Z",
     "shell.execute_reply": "2023-08-11T02:46:50.836375Z"
    }
   },
   "outputs": [
    {
     "ename": "AttributeError",
     "evalue": "'float' object has no attribute 'get'",
     "output_type": "error",
     "traceback": [
      "\u001b[1;31m---------------------------------------------------------------------------\u001b[0m",
      "\u001b[1;31mAttributeError\u001b[0m                            Traceback (most recent call last)",
      "\u001b[1;32m~\\AppData\\Local\\Temp\\1/ipykernel_11296/1879769913.py\u001b[0m in \u001b[0;36m<module>\u001b[1;34m\u001b[0m\n\u001b[1;32m----> 1\u001b[1;33m \u001b[0mnomtab\u001b[0m \u001b[1;33m=\u001b[0m \u001b[0man\u001b[0m\u001b[1;33m.\u001b[0m\u001b[0mtabulate\u001b[0m\u001b[1;33m.\u001b[0m\u001b[0mnominal_factor_comparison\u001b[0m\u001b[1;33m(\u001b[0m\u001b[0mnomapp\u001b[0m\u001b[1;33m,\u001b[0m \u001b[0mendclasses\u001b[0m\u001b[1;33m,\u001b[0m \u001b[1;33m[\u001b[0m\u001b[1;34m'inputparams.radius'\u001b[0m\u001b[1;33m,\u001b[0m \u001b[1;34m'inputparams.start'\u001b[0m\u001b[1;33m]\u001b[0m\u001b[1;33m,\u001b[0m \u001b[0mrangeid\u001b[0m\u001b[1;33m=\u001b[0m\u001b[1;34m'turn'\u001b[0m\u001b[1;33m,\u001b[0m \u001b[0mpercent\u001b[0m\u001b[1;33m=\u001b[0m\u001b[1;32mFalse\u001b[0m\u001b[1;33m)\u001b[0m\u001b[1;33m\u001b[0m\u001b[1;33m\u001b[0m\u001b[0m\n\u001b[0m",
      "\u001b[1;32mc:\\users\\dhulse\\documents\\github\\fmdtools\\fmdtools\\analyze\\tabulate.py\u001b[0m in \u001b[0;36mnominal_factor_comparison\u001b[1;34m(nomapp, endclasses, params, metrics, rangeid, nan_as, percent, give_ci, **kwargs)\u001b[0m\n\u001b[0;32m    212\u001b[0m     \u001b[1;32melse\u001b[0m\u001b[1;33m:\u001b[0m\u001b[1;33m\u001b[0m\u001b[1;33m\u001b[0m\u001b[0m\n\u001b[0;32m    213\u001b[0m         \u001b[0mfactors\u001b[0m \u001b[1;33m=\u001b[0m \u001b[0mnomapp\u001b[0m\u001b[1;33m.\u001b[0m\u001b[0mget_param_scens\u001b[0m\u001b[1;33m(\u001b[0m\u001b[0mrangeid\u001b[0m\u001b[1;33m,\u001b[0m \u001b[1;33m*\u001b[0m\u001b[0mparams\u001b[0m\u001b[1;33m)\u001b[0m\u001b[1;33m\u001b[0m\u001b[1;33m\u001b[0m\u001b[0m\n\u001b[1;32m--> 214\u001b[1;33m     \u001b[1;32mif\u001b[0m \u001b[1;33m[\u001b[0m\u001b[1;33m*\u001b[0m\u001b[0mendclasses\u001b[0m\u001b[1;33m.\u001b[0m\u001b[0mvalues\u001b[0m\u001b[1;33m(\u001b[0m\u001b[1;33m)\u001b[0m\u001b[1;33m]\u001b[0m\u001b[1;33m[\u001b[0m\u001b[1;36m0\u001b[0m\u001b[1;33m]\u001b[0m\u001b[1;33m.\u001b[0m\u001b[0mget\u001b[0m\u001b[1;33m(\u001b[0m\u001b[1;34m'nominal'\u001b[0m\u001b[1;33m,\u001b[0m \u001b[1;32mFalse\u001b[0m\u001b[1;33m)\u001b[0m\u001b[1;33m:\u001b[0m\u001b[1;33m\u001b[0m\u001b[1;33m\u001b[0m\u001b[0m\n\u001b[0m\u001b[0;32m    215\u001b[0m         \u001b[0mendclasses\u001b[0m \u001b[1;33m=\u001b[0m \u001b[1;33m{\u001b[0m\u001b[0mscen\u001b[0m\u001b[1;33m:\u001b[0m\u001b[0mec\u001b[0m\u001b[1;33m[\u001b[0m\u001b[1;34m'nominal'\u001b[0m\u001b[1;33m]\u001b[0m \u001b[1;32mfor\u001b[0m \u001b[0mscen\u001b[0m\u001b[1;33m,\u001b[0m \u001b[0mec\u001b[0m \u001b[1;32min\u001b[0m \u001b[0mendclasses\u001b[0m\u001b[1;33m.\u001b[0m\u001b[0mitems\u001b[0m\u001b[1;33m(\u001b[0m\u001b[1;33m)\u001b[0m\u001b[1;33m}\u001b[0m\u001b[1;33m\u001b[0m\u001b[1;33m\u001b[0m\u001b[0m\n\u001b[0;32m    216\u001b[0m     \u001b[1;32mif\u001b[0m \u001b[0mmetrics\u001b[0m \u001b[1;33m==\u001b[0m \u001b[1;34m'all'\u001b[0m\u001b[1;33m:\u001b[0m\u001b[1;33m\u001b[0m\u001b[1;33m\u001b[0m\u001b[0m\n",
      "\u001b[1;31mAttributeError\u001b[0m: 'float' object has no attribute 'get'"
     ]
    }
   ],
   "source": [
    "nomtab = an.tabulate.nominal_factor_comparison(nomapp, endclasses, ['inputparams.radius', 'inputparams.start'], rangeid='turn', percent=False)"
   ]
  },
  {
   "cell_type": "code",
   "execution_count": null,
   "metadata": {},
   "outputs": [],
   "source": [
    "nomtab"
   ]
  },
  {
   "attachments": {},
   "cell_type": "markdown",
   "metadata": {},
   "source": [
    "This table can also be summarized on individual factors:"
   ]
  },
  {
   "cell_type": "code",
   "execution_count": null,
   "metadata": {},
   "outputs": [],
   "source": [
    "nomtab_summ = an.tabulate.nominal_factor_comparison(nomapp, endclasses, ['start'], rangeid='turn', percent=False)\n",
    "nomtab_summ"
   ]
  },
  {
   "attachments": {},
   "cell_type": "markdown",
   "metadata": {},
   "source": [
    "`an.plot.nominal_factor_comparison` can then be used to visualize one metric from this table as a bar plot."
   ]
  },
  {
   "cell_type": "code",
   "execution_count": null,
   "metadata": {},
   "outputs": [],
   "source": [
    "help(an.plot.nominal_factor_comparison)"
   ]
  },
  {
   "cell_type": "code",
   "execution_count": null,
   "metadata": {},
   "outputs": [],
   "source": [
    "fig = an.plot.nominal_factor_comparison(nomtab_summ, 'cost', ylabel='cost', title='average cost at different start locations', maxy=150)"
   ]
  },
  {
   "attachments": {},
   "cell_type": "markdown",
   "metadata": {},
   "source": [
    "## Quantifying probabilities\n",
    "\n",
    "Given the ability to simulate over ranges, it can additionally be used to quantify probabilities of the different end-state classifications. `an.process.state_probabilities(endclasses)` can be used to quantify the probability these classifications."
   ]
  },
  {
   "attachments": {},
   "cell_type": "markdown",
   "metadata": {},
   "source": [
    "The default probability model over ranges is to assume a uniform distribution and only assume one range has been added. This can lead to fallacious results:"
   ]
  },
  {
   "cell_type": "code",
   "execution_count": 19,
   "metadata": {},
   "outputs": [],
   "source": [
    "state_probabilities = endclasses.state_probabilities()\n",
    "state_probabilities"
   ]
  },
  {
   "attachments": {},
   "cell_type": "markdown",
   "metadata": {},
   "source": [
    "Thus, `.assoc_probs` to:\n",
    "- associate the probabilities with their corresponding distributions (which may be non-uniform), and\n",
    "- rebalance the overall probability of discrete cases\n",
    "when running the approach over ranges. "
   ]
  },
  {
   "cell_type": "code",
   "execution_count": 20,
   "metadata": {},
   "outputs": [],
   "source": [
    "help(nomapp.assoc_probs)"
   ]
  },
  {
   "attachments": {},
   "cell_type": "markdown",
   "metadata": {},
   "source": [
    "Here, each case is given a weight defining the probability of the discrete case, while the corresponding parameters are given corresponding pdf functions (in this case uniform distributions from the scipy stats package)."
   ]
  },
  {
   "cell_type": "code",
   "execution_count": 21,
   "metadata": {},
   "outputs": [],
   "source": [
    "from scipy import stats"
   ]
  },
  {
   "cell_type": "code",
   "execution_count": 22,
   "metadata": {},
   "outputs": [],
   "source": [
    "nomapp.assoc_probs('sine', prob_weight=0.5, amp=(stats.uniform.pdf, {'loc':0,'scale':10}), wavelength=(stats.uniform.pdf,{'loc':10, 'scale':40}))\n",
    "nomapp.assoc_probs('turn', prob_weight=0.5, start=(stats.uniform.pdf, {'loc':5,'scale':10}), radius=(stats.uniform.pdf,{'loc':5, 'scale':30}))"
   ]
  },
  {
   "attachments": {},
   "cell_type": "markdown",
   "metadata": {},
   "source": [
    "Now, when the scenarios are run, they should have the correct corresponding probabilities:"
   ]
  },
  {
   "cell_type": "code",
   "execution_count": 23,
   "metadata": {},
   "outputs": [],
   "source": [
    "endclasses, mdlhists= prop.nominal_approach(mdl, nomapp)"
   ]
  },
  {
   "cell_type": "code",
   "execution_count": 24,
   "metadata": {},
   "outputs": [],
   "source": [
    "state_probabilities = endclasses.state_probabilities()\n",
    "state_probabilities"
   ]
  },
  {
   "attachments": {},
   "cell_type": "markdown",
   "metadata": {},
   "source": [
    "This result (while seemingly extreme due to the large ranges explored) is consistent with the operational envelopes presented earlier."
   ]
  },
  {
   "attachments": {},
   "cell_type": "markdown",
   "metadata": {},
   "source": [
    "## Random input generation\n",
    "\n",
    "It may additionally be helpful to perform simulations over randomly generated inputs, when there are many parameters and it is difficult to easily quantify the stochastic process. This approach is called Monte Carlo sampling, and enables one to quantify probabilities given stochasticly-generated inputs. Random inputs are assigned using `.add_rand_params`"
   ]
  },
  {
   "cell_type": "code",
   "execution_count": 25,
   "metadata": {},
   "outputs": [],
   "source": [
    "nomapp_rand = NominalApproach()\n",
    "help(nomapp_rand.add_rand_params)"
   ]
  },
  {
   "attachments": {},
   "cell_type": "markdown",
   "metadata": {},
   "source": [
    "Below, the same probability model/scenarios used above will be generated using stochastic inputs (rather than a range)."
   ]
  },
  {
   "cell_type": "code",
   "execution_count": null,
   "metadata": {},
   "outputs": [],
   "source": [
    "import numpy as np"
   ]
  },
  {
   "cell_type": "code",
   "execution_count": null,
   "metadata": {},
   "outputs": [],
   "source": [
    "nomapp_rand.add_rand_params(RoverParam,'sine', 'sine', prob_weight=0.5, replicates=100, amp=(np.random.uniform, 0, 10), wavelength=(np.random.uniform,10,40))\n",
    "nomapp_rand.add_rand_params(RoverParam,'turn', 'turn', prob_weight=0.5, replicates=100, radius=(np.random.uniform,5,40), start=(np.random.uniform,0, 20))"
   ]
  },
  {
   "attachments": {},
   "cell_type": "markdown",
   "metadata": {},
   "source": [
    "We can go through the same process to verify that it tracks the range/pdf method."
   ]
  },
  {
   "cell_type": "code",
   "execution_count": null,
   "metadata": {},
   "outputs": [],
   "source": [
    "endclasses, mdlhists= prop.nominal_approach(mdl, nomapp_rand)"
   ]
  },
  {
   "cell_type": "code",
   "execution_count": null,
   "metadata": {},
   "outputs": [],
   "source": [
    "fig = an.plot.nominal_vals_2d(nomapp_rand, endclasses,'inputparams.amp', 'inputparams.wavelength', metric = 'at_finish')"
   ]
  },
  {
   "cell_type": "code",
   "execution_count": null,
   "metadata": {},
   "outputs": [],
   "source": [
    "fig = an.plot.nominal_vals_2d(nomapp_rand, endclasses, 'inputparams.radius', 'inputparams.start', metric = 'at_finish')"
   ]
  },
  {
   "cell_type": "code",
   "execution_count": null,
   "metadata": {},
   "outputs": [],
   "source": [
    "fig = an.plot.nominal_vals_1d(nomapp_rand, endclasses, 'inputparams.radius', metric = 'at_finish')"
   ]
  },
  {
   "attachments": {},
   "cell_type": "markdown",
   "metadata": {},
   "source": [
    "As shown, these results track the uniform approach, although the spread catches some non-nominal scenarios that were not caught using uniform sampling. The resulting probabilities are:"
   ]
  },
  {
   "cell_type": "code",
   "execution_count": null,
   "metadata": {},
   "outputs": [],
   "source": [
    "state_probabilities = an.process.state_probabilities(endclasses)\n",
    "state_probabilities"
   ]
  },
  {
   "attachments": {},
   "cell_type": "markdown",
   "metadata": {},
   "source": [
    "Which is similar to (but not exactly the same as) the uniform approach. The error of Monte Carlo sampling approaches can be reduced by increasing the number of points, but these points increase computational costs."
   ]
  },
  {
   "attachments": {},
   "cell_type": "markdown",
   "metadata": {},
   "source": [
    "## Nested Scenario Sampling\n",
    "\n",
    "Thus far, we have introduced two types of approaches: \n",
    "- SampleApproach, which is used to evaluate the system resilience to a set of faults\n",
    "- NominalApproach, which is used to evaluate system performance over a set of parameters\n",
    "\n",
    "These both have their limitations when used alone. Simulating a `SampleApproach` using `propagate.approach` solely evaluates evaluates fault-driven hazards in a single nominal set of parameters (which may not generalize) while simulating a `NominalApproach` using `propagate.nominal_approach` evaluates the systerm performance/resilience to external parameters (But not faults).\n",
    "\n",
    "To resolve these limitations, one can use a *nested* scenario sampling approach where a `SampleApproach` is simulated at each parameter level of a `NominalApproach`, giving the resilience of the system to faults over a set of operational parameters. This is called using the `propagate.nested_approach` method."
   ]
  },
  {
   "cell_type": "code",
   "execution_count": null,
   "metadata": {},
   "outputs": [],
   "source": [
    "help(prop.nested_approach)"
   ]
  },
  {
   "attachments": {},
   "cell_type": "markdown",
   "metadata": {},
   "source": [
    "Here we use the nominal approach generated earlier with a default sampling approach to quantify resilience."
   ]
  },
  {
   "cell_type": "code",
   "execution_count": null,
   "metadata": {},
   "outputs": [],
   "source": [
    "nested_endclasses, nested_mdlhists, nested_apps = prop.nested_approach(mdl, nomapp)"
   ]
  },
  {
   "attachments": {},
   "cell_type": "markdown",
   "metadata": {},
   "source": [
    " The resulting endclass/mdlhist dictionary is in turn nested within operational scenarios."
   ]
  },
  {
   "cell_type": "code",
   "execution_count": null,
   "metadata": {},
   "outputs": [],
   "source": [
    "nested_endclasses.keys()"
   ]
  },
  {
   "cell_type": "code",
   "execution_count": null,
   "metadata": {},
   "outputs": [],
   "source": [
    "nested_endclasses.sine_1.nominal"
   ]
  },
  {
   "attachments": {},
   "cell_type": "markdown",
   "metadata": {},
   "source": [
    "We can compare resilience to faults over the operational envelope using `an.tabulate.resilience_factor_comparison`, which generates at table similar to `an.tabulate.nominal_factor_comparison` except for a single metric with rows for each fault scenario."
   ]
  },
  {
   "cell_type": "code",
   "execution_count": null,
   "metadata": {},
   "outputs": [],
   "source": [
    "restab = an.tabulate.nested_factor_comparison(nomapp, nested_endclasses,['start'], 'cost', rangeid='turn', percent=False, difference=False)"
   ]
  },
  {
   "cell_type": "code",
   "execution_count": null,
   "metadata": {},
   "outputs": [],
   "source": [
    "restab"
   ]
  },
  {
   "attachments": {},
   "cell_type": "markdown",
   "metadata": {},
   "source": [
    "These factors can further be visualized using `an.plot.nested_factor_comparison`, which generates a set of bar graphs similar to `an.plot.nominal_factor_comparison`."
   ]
  },
  {
   "cell_type": "code",
   "execution_count": null,
   "metadata": {},
   "outputs": [],
   "source": [
    "help(an.plot.nested_factor_comparison)"
   ]
  },
  {
   "cell_type": "code",
   "execution_count": null,
   "metadata": {},
   "outputs": [],
   "source": [
    "fig = an.plot.nested_factor_comparison(restab, stat='cost', figsize = (6,4), xlabel='curve start point')"
   ]
  },
  {
   "attachments": {},
   "cell_type": "markdown",
   "metadata": {},
   "source": [
    "As shown, on average the costs are higher over fault scenarios than in their nominal counterparts. While this difference appears to be uniform for Avionics faults (`no_con`, which merely adds a fault at the times instantiated (since the rover is already in `drive` mode)), resulting in a uniform cost of 100), it changes for the Drive fault depending on the location of the curve. This is because in some cases this fault stops the rover at the finish line (when the line is short), and sometimes during its mission (when the line is long), leading to a cost from the incomplete mission.\n",
    "\n",
    "Thus, the assessed consequences of faults are somewhat prone to parameters leading to a different injection time. We might prefer, for example, for avionics faults to be injected when they would make a difference (i.e. at the start) and for drive faults to be injected multiple. This can be fixed by:\n",
    "- encoding phase information in with modes to ensure they are injected at the right intervals\n",
    "- using the `get_phases` option in `propagate.nested_approach` to get the phases and inject the faults in the corresponding times\n",
    "- passing appropriate Approach arguments to `propagate.nested_approach` (e.g., defaultsamp, etc)\n",
    "\n",
    "This has already been done in the Power faults, which we evaluate below. (note that they were not included above because they were listed to be injected in specific phases using the `key_phases_by` option in `assoc_modes()`)."
   ]
  },
  {
   "cell_type": "code",
   "execution_count": null,
   "metadata": {},
   "outputs": [],
   "source": [
    "nested_endclasses_power, nested_mdlhists_power, nested_apps_power = prop.nested_approach(mdl, nomapp, get_phases=True, faults='Power')"
   ]
  },
  {
   "cell_type": "code",
   "execution_count": null,
   "metadata": {},
   "outputs": [],
   "source": [
    "restab_power = an.tabulate.nested_factor_comparison(nomapp, nested_endclasses_power,['start'], 'cost', rangeid='turn', difference=True, percent=False, faults='modes')\n",
    "restab_power"
   ]
  },
  {
   "cell_type": "code",
   "execution_count": null,
   "metadata": {},
   "outputs": [],
   "source": [
    "fig = an.plot.nested_factor_comparison(restab_power, stat='cost', figsize = (6,4), xlabel='curve start point', stack=True, maxy=800)"
   ]
  },
  {
   "attachments": {},
   "cell_type": "markdown",
   "metadata": {},
   "source": [
    "As shown, all power faults result in the same cost, since they all result in both a fault and an incomplete mission, in part because none of them are injected after the rover completes its mission (which would happen if we were using the global phases as in the drive faults)."
   ]
  },
  {
   "cell_type": "code",
   "execution_count": null,
   "metadata": {},
   "outputs": [],
   "source": []
  }
 ],
 "metadata": {
  "kernelspec": {
   "display_name": "Python 3 (ipykernel)",
   "language": "python",
   "name": "python3"
  },
  "language_info": {
   "codemirror_mode": {
    "name": "ipython",
    "version": 3
   },
   "file_extension": ".py",
   "mimetype": "text/x-python",
   "name": "python",
   "nbconvert_exporter": "python",
   "pygments_lexer": "ipython3",
   "version": "3.9.7"
  }
 },
 "nbformat": 4,
 "nbformat_minor": 4
}
