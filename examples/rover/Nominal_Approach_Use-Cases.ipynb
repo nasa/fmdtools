{
 "cells": [
  {
   "attachments": {},
   "cell_type": "markdown",
   "metadata": {},
   "source": [
    "# Defining Nominal Approaches in fmdtools\n",
    "\n",
    "Nominal simulation approaches are used to evaluate the performance of a model over a set of input parameters. It can then be used to:\n",
    "- define/understand the operational envelope for different system parameters (i.e., what inputs can the system safely encounter)\n",
    "- quantify failure probabilities given stochastic inputs (i.e., if the statistical distribution of inputs are known, what is the resulting probability of hazards given the design)"
   ]
  },
  {
   "cell_type": "code",
   "execution_count": 1,
   "metadata": {
    "execution": {
     "iopub.execute_input": "2023-06-09T23:38:07.193956Z",
     "iopub.status.busy": "2023-06-09T23:38:07.192959Z",
     "iopub.status.idle": "2023-06-09T23:38:08.406716Z",
     "shell.execute_reply": "2023-06-09T23:38:08.405658Z"
    }
   },
   "outputs": [],
   "source": [
    "from fmdtools.define.model import Model\n",
    "from fmdtools.define.block import FxnBlock\n",
    "\n",
    "import fmdtools.analyze as an\n",
    "import fmdtools.sim.propagate as prop"
   ]
  },
  {
   "attachments": {},
   "cell_type": "markdown",
   "metadata": {},
   "source": [
    "The following rover model will be used to demonstrate this approach. The main task of the rover is to follow a given lane from a starting location to an ending location."
   ]
  },
  {
   "attachments": {},
   "cell_type": "markdown",
   "metadata": {},
   "source": [
    "We can view the ability of the rover to track a given line with the following function:"
   ]
  },
  {
   "cell_type": "code",
   "execution_count": 2,
   "metadata": {
    "execution": {
     "iopub.execute_input": "2023-06-09T23:38:08.409710Z",
     "iopub.status.busy": "2023-06-09T23:38:08.408713Z",
     "iopub.status.idle": "2023-06-09T23:38:08.422144Z",
     "shell.execute_reply": "2023-06-09T23:38:08.421144Z"
    }
   },
   "outputs": [],
   "source": [
    "import matplotlib.pyplot as plt\n",
    "def plot_map(mdl, mdlhist):\n",
    "    fig = plt.figure()\n",
    "    ax = fig.add_subplot(111)\n",
    "    x_ground = mdlhist['flows']['Ground']['x']\n",
    "    y_ground = mdlhist['flows']['Ground']['liney']\n",
    "    plt.plot(x_ground,y_ground, label=\"Centerline\")\n",
    "    \n",
    "    x_rover = mdlhist['flows']['Ground']['x']\n",
    "    y_rover = mdlhist['flows']['Ground']['y']\n",
    "    plt.plot(x_rover,y_rover, label = \"Rover\")\n",
    "    \n",
    "    plt.scatter(mdl.params['end'][0],mdl.params['end'][1], label=\"End Location\")\n",
    "    plt.scatter(mdlhist['flows']['Ground']['x'][-1],mdlhist['flows']['Ground']['y'][-1], label=\"Final Position\")\n",
    "    \n",
    "    plt.scatter(0,0, label=\"Start Location\")\n",
    "\n",
    "    plt.xlabel(\"x-distance (meters)\")\n",
    "    plt.ylabel(\"y-distance (meters)\")\n",
    "    plt.title(\"Rover Centerline Tracking\")\n",
    "    plt.grid()\n",
    "\n",
    "    plt.legend()\n",
    "    \n",
    "    fig = plt.figure()\n",
    "    if mdl.params['linetype']=='sine':\n",
    "        y_line = [sin_func(x,y_rover[i], mdl.params['amp'], mdl.params['period'])[1] for i,x in enumerate(x_rover)]\n",
    "    elif mdl.params['linetype']=='turn':\n",
    "        y_line = [turn_func(x,y_rover[i], mdl.params['radius'], mdl.params['start'])[1] for i,x in enumerate(x_rover)]\n",
    "        \n",
    "    plt.plot(x_rover, y_rover-y_line)\n",
    "    plt.xlabel(\"x-distance (meters)\")\n",
    "    plt.ylabel(\"y-error (meters)\")\n",
    "    plt.title(\"Rover Centerline Error\")"
   ]
  },
  {
   "attachments": {},
   "cell_type": "markdown",
   "metadata": {},
   "source": [
    "Additionally, this model has a corresponding *parameter generation* function which generates the design parameters (`params`) of the model given a reduced space of input parameters. This is the set use-case because often the *explored* set of variables is smaller than the full set. Parameter generation functions are specified in the form `method(staticargs, rangearg1=x, rangearg2=y)`, where staticargs are arguments used to define discrete cases and rangeargs are arguments used to define corresponding varied parameters. \n",
    "\n",
    "In this case, the static cases are 'sine' or 'turn', the type of curve being generated in the function, with the corresponding range parameters of `amplitude` and `period` (of the wave used to generate the lane), and `radius` (of the turn) and `start` (distance before/after the curve starts/ends), respectively."
   ]
  },
  {
   "cell_type": "code",
   "execution_count": 3,
   "metadata": {
    "execution": {
     "iopub.execute_input": "2023-06-09T23:38:08.425170Z",
     "iopub.status.busy": "2023-06-09T23:38:08.424149Z",
     "iopub.status.idle": "2023-06-09T23:38:08.437589Z",
     "shell.execute_reply": "2023-06-09T23:38:08.436683Z"
    }
   },
   "outputs": [],
   "source": [
    "def gen_params(linetype, **kwargs):\n",
    "    if linetype == 'sine':\n",
    "        amp = kwargs.pop('amp',0.2)\n",
    "        wavelength=kwargs.pop('wavelength', 50.0)\n",
    "        period = 2*np.pi/wavelength\n",
    "        initangle = sin_angle_func(0.0, amp, period)\n",
    "        lineparams = {'linetype':linetype, 'amp':amp, 'period':period, 'initangle':initangle, 'end':[wavelength,0.0]}\n",
    "    elif linetype == 'turn':\n",
    "        radius = kwargs.pop('radius',20.0)\n",
    "        start = kwargs.pop('start', 20.0)\n",
    "        lineparams = {'linetype':linetype, 'radius':radius, 'start':start, 'initangle':0.0, 'end':[radius+start,radius+start]}\n",
    "    return lineparams"
   ]
  },
  {
   "attachments": {},
   "cell_type": "markdown",
   "metadata": {},
   "source": [
    "Below is the rest of the model setup:"
   ]
  },
  {
   "cell_type": "code",
   "execution_count": 4,
   "metadata": {
    "execution": {
     "iopub.execute_input": "2023-06-09T23:38:08.440567Z",
     "iopub.status.busy": "2023-06-09T23:38:08.440567Z",
     "iopub.status.idle": "2023-06-09T23:38:08.500185Z",
     "shell.execute_reply": "2023-06-09T23:38:08.500185Z"
    }
   },
   "outputs": [],
   "source": [
    "import numpy as np\n",
    "class Avionics(FxnBlock):\n",
    "    def __init__(self,name, flows, params):\n",
    "        self.add_params(params)\n",
    "        super().__init__(name, flows, flownames={'AvionicsControl':'Control'})\n",
    "        self.assoc_modes({'no_con':[1e-4, 200]}, ['drive','standby'], initmode='standby')\n",
    "    def dynamic_behavior(self,time):\n",
    "        if not self.in_mode('no_con'):\n",
    "            if time == 5: self.set_mode('drive')\n",
    "            if time == 50 or in_area(self.end[0],self.end[1],1,self.Pos_Signal.x,self.Pos_Signal.y): \n",
    "                self.set_mode('standby')\n",
    "                self.Control.completed=1\n",
    "            \n",
    "        if self.in_mode('drive'):\n",
    "            self.Pos_Signal.assign(self.Video, 'angle', 'linex', 'liney')\n",
    "            self.Pos_Signal.heading = self.Ground.ang \n",
    "            self.Pos_Signal.assign(self.Ground, 'x', 'y', 'vel')\n",
    "            \n",
    "            if in_area(self.end[0],self.end[1],1,self.Pos_Signal.x,self.Pos_Signal.y):\n",
    "                self.set_mode('standby')\n",
    "            elif self.Video.quality==0: self.set_mode('standby')\n",
    "            else:\n",
    "                ycorrection= np.arctan((self.Pos_Signal.y-self.Pos_Signal.liney)/(self.Pos_Signal.vel*np.cos(np.pi/180 * self.Pos_Signal.heading)+0.001))\n",
    "                xcorrection= np.arctan((self.Pos_Signal.x-self.Pos_Signal.linex)/(self.Pos_Signal.vel*np.sin(np.pi/180 * self.Pos_Signal.heading)+0.001))\n",
    "                rdiff = (self.Pos_Signal.angle - self.Pos_Signal.heading -5*(xcorrection+ycorrection))/180\n",
    "                self.Control.put(rpower = 1+rdiff, lpower = 1-rdiff)\n",
    "                self.Control.limit(rpower=(-1,2), lpower=(-1,2))  \n",
    "        if self.in_mode('standby'):   self.Control.put(rpower = 0, lpower = 0)\n",
    "\n",
    "class Drive(FxnBlock):\n",
    "    def __init__(self,name, flows):\n",
    "        super().__init__(name, flows, flownames={\"EE_15\":\"EE_in\"})\n",
    "        self.assoc_modes({\"mech_loss\", \"elec_open\"})\n",
    "    def dynamic_behavior(self, time):\n",
    "        rpower = self.EE_in.v*self.MotorControl.rpower*self.no_fault(\"elec_open\")/15\n",
    "        lpower = self.EE_in.v*self.MotorControl.lpower*self.no_fault(\"elec_open\")/15\n",
    "        self.EE_in.a = (lpower + rpower)/12\n",
    "        if (lpower + rpower) >100: self.add_fault(\"elec_open\")\n",
    "        else:\n",
    "            self.Ground.vel= rpower + lpower\n",
    "            self.Ground.inc(ang = 180*(rpower-lpower)/(rpower+lpower +0.001))\n",
    "            self.Ground.inc(x = np.cos(np.pi/180 *self.Ground.ang) * self.Ground.vel, \\\n",
    "                            y = np.sin(np.pi/180 *self.Ground.ang) * self.Ground.vel)\n",
    "\n",
    "class Perception(FxnBlock):\n",
    "    def __init__(self, name, flows):\n",
    "        self.set_atts(rad=1)\n",
    "        super().__init__(name, flows, flownames={'EE_12':'EE'})\n",
    "        self.assoc_modes({}, ['off', 'feed'], initmode='off')\n",
    "    def dynamic_behavior(self,time):\n",
    "        if self.in_mode('off'):\n",
    "            self.EE.a=0\n",
    "            self.Video.put(linex = 0,liney=0, angle = 0, quality = 0)\n",
    "            if self.EE.v ==12: self.set_mode(\"feed\")\n",
    "        elif self.in_mode(\"feed\"):\n",
    "            if self.EE.v > 8:\n",
    "                if in_area(self.Ground.x, self.Ground.liney, self.rad, self.Ground.x, self.Ground.y):\n",
    "                    self.Video.assign(self.Ground, 'linex','liney', 'angle')\n",
    "                    self.Video.quality = 1\n",
    "                else:\n",
    "                    self.Video.quality=0\n",
    "            elif self.EE.v == 0: self.set_mode(\"off\")\n",
    "            else: self.Video.quality = 0\n",
    "\n",
    "def in_area(x,y,rad,xc,yc):\n",
    "    dist = np.sqrt((x-xc)**2+(y-yc)**2)\n",
    "    return not dist > rad\n",
    "    \n",
    "\n",
    "class Power(FxnBlock):\n",
    "    def __init__(self, name, flows):\n",
    "        super().__init__(name,flows, states={\"charge\": 100.0, 'power':0.0})\n",
    "        self.assoc_modes({\"no_charge\":[1e-5, {'off':1.0}, 100],\"open_circ\":[1e-5, {'supply':1.0}, 100]}, [\"supply\",\"charge\",\"standby\",\"off\"], initmode=\"off\", exclusive = True, key_phases_by='self')\n",
    "    def static_behavior(self,time):\n",
    "        if self.in_mode(\"off\"):     \n",
    "            self.EE_5.put(v=0,a=0); self.EE_12.put(v=0,a=0);self.EE_15.put(v=0,a=0)\n",
    "            if self.Control.power==1 and self.AvionicsControl.completed==0:   self.set_mode(\"supply\")\n",
    "        elif self.in_mode(\"supply\"):\n",
    "            if self.charge > 0:         self.EE_5.v = 5; self.EE_12.v = 12; self.EE_15.v = 15; \n",
    "            else:                       self.set_mode(\"no_charge\")\n",
    "            if self.Control.power==0:   self.set_mode(\"off\")\n",
    "            elif self.AvionicsControl.completed==1: self.set_mode(\"off\")\n",
    "        elif self.in_mode(\"no_charge\",\"open_circ\"): self.EE_5.v = 0; self.EE_12.v = 0; self.EE_15.v = 0; \n",
    "        if self.in_mode(\"charge\"):\n",
    "            self.power = - 1\n",
    "            if self.charge==100:self.set_mode(\"off\")\n",
    "        else:\n",
    "            self.power=1+self.EE_12.mul('v','a')+self.EE_5.mul('v','a')+self.EE_15.mul('v','a')\n",
    "    def dynamic_behavior(self,time):\n",
    "        self.inc(charge = - self.power/100)\n",
    "        self.limit(charge=(0,100))\n",
    "\n",
    "class Override(FxnBlock):\n",
    "    def __init__(self,name,flows):\n",
    "        super().__init__(name,flows, flownames={'EE_5':'EE'})\n",
    "        self.assoc_modes({}, ['off','standby','override'], initmode = 'off')\n",
    "    def dynamic_behavior(self,time):\n",
    "        if self.in_mode('off'):\n",
    "            self.EE.a=0\n",
    "            if self.EE.v==5: self.set_mode('standby')\n",
    "        elif self.in_mode('standby'):\n",
    "            self.MotorControl.assign(self.AvionicsControl, 'rpower','lpower')\n",
    "            if self.OverrideComms =='active' and self.EE.v>4: self.set_mode('override')\n",
    "        elif self.in_mode('override'):\n",
    "            self.MotorControl.assign(self.OverrideComms, 'rpower', 'lpower')\n",
    "   \n",
    "class Communications(FxnBlock):\n",
    "    def __init__(self, name, flows):\n",
    "        super().__init__(name,flows)\n",
    "    def dynamic_behavior(self,time):\n",
    "        if self.EE_12.v == 12:\n",
    "            self.EE_12.a=1\n",
    "            self.Comms.assign(self.Pos_Signal, 'x', 'y', 'vel', 'heading')\n",
    "        else:   self.Comms.put(x=0, y=0, vel=0, heading=0)\n",
    "\n",
    "class Operator(FxnBlock):\n",
    "    def __init__(self, name, flows):\n",
    "        super().__init__(name,flows)\n",
    "    def dynamic_behavior(self, t):\n",
    "        if t==3:    self.Control.power=1\n",
    "        elif t==55: self.Control.power=0\n",
    "\n",
    "class Environment(FxnBlock):\n",
    "    def __init__(self, name, flows,params):\n",
    "        self.add_params(params)\n",
    "        super().__init__(name,flows)\n",
    "    def dynamic_behavior(self, t):\n",
    "        if self.linetype=='sine':\n",
    "            self.Ground.angle = sin_angle_func(self.Ground.x, self.amp, self.period)\n",
    "            self.Ground.linex,self.Ground.liney = sin_func(self.Ground.x,self.Ground.y, self.amp, self.period)\n",
    "        elif self.linetype=='turn':\n",
    "            self.Ground.angle = turn_angle_func(self.Ground.x, self.radius, self.start)\n",
    "            self.Ground.linex, self.Ground.liney = turn_func(self.Ground.x, self.Ground.y, self.radius, self.start)\n",
    "\n",
    "def sin_func(x,y, amp, period):\n",
    "    return x, amp * np.sin(period*x)\n",
    "def sin_angle_func(x, amp, period):\n",
    "    return amp * period * np.cos(period*x)*180/np.pi\n",
    "\n",
    "def turn_func(x,y, radius,start):\n",
    "    if   x >= start+radius: return start+radius, y\n",
    "    elif y >= radius:       return start+radius, y\n",
    "    elif x >= start:        return x, radius - np.sqrt(radius**2 - (x-start)**2)\n",
    "    elif x < start:         return x, 0.0\n",
    "def turn_angle_func(x, radius, start):\n",
    "    if   x >= start+radius: return 90.0\n",
    "    elif x >= start:        return 90.0 - np.arccos(((x-start)/radius))*180/np.pi  #np.arctan((x-start)/(radius**2-(start-x)**2))*180/np.pi\n",
    "    elif x<start:           return 0.0\n",
    "\n",
    "class Rover(Model):\n",
    "    def __init__(self, params=gen_params('turn'),\\\n",
    "                 modelparams={'times':[0,60], 'tstep':1, 'phases':{'start':[1,30], 'end':[31, 60]}},\\\n",
    "                     valparams={}):\n",
    "        super().__init__(params, modelparams, valparams)\n",
    "        \n",
    "        self.add_flow('Ground', {'x':0.0,'y':0.0,'liney':0.0,'linex':0.0, 'vel':0.0, 'line':0.0, 'angle':params['initangle'], 'ang':0.0})\n",
    "        self.add_flow('Pos_Signal', {'x':0.0,'y':0.0,'liney':0.0,'linex':0.0, 'heading':0.0, 'vel':0.0, 'line':0, 'angle':0.0})\n",
    "        self.add_flow('EE_12', {'v':0.0, 'a':0.0})\n",
    "        self.add_flow('EE_5', {'v':0.0, 'a':0.0})\n",
    "        self.add_flow('EE_15', {'v':0.0, 'a':0.0})\n",
    "        self.add_flow('Video', {'liney':0.0,'linex':0.0, 'angle':params['initangle'], 'quality':1})\n",
    "        self.add_flow('AvionicsControl', {'rpower':0.0, 'lpower':0.0, 'completed':0})\n",
    "        self.add_flow('MotorControl', {'rpower':0.0, 'lpower':0.0})\n",
    "        self.add_flow('Control', {'power':0.0})\n",
    "        self.add_flow('Comms', {'x':0.0,'y':0.0, 'vel':0.0, 'heading':0.0})\n",
    "        self.add_flow('OverrideComms', {'rpower':0.0, 'lpower':0.0, 'active':0} ) \n",
    "        #self.add_flow('Example_Disconnect')\n",
    "        \n",
    "        self.add_fxn(\"Power\", [\"EE_15\",\"EE_5\",'EE_12', \"Control\", \"AvionicsControl\"], Power)\n",
    "        self.add_fxn(\"Operator\", [\"Comms\", \"OverrideComms\", \"Pos_Signal\", \"Control\"], Operator)\n",
    "        self.add_fxn(\"Communications\", [\"Comms\", \"EE_12\", 'Pos_Signal'], Communications)\n",
    "        self.add_fxn(\"Perception\", [\"Ground\", \"EE_12\", \"Video\"], Perception)\n",
    "        self.add_fxn(\"Avionics\",[\"Video\",\"Comms\", \"EE_5\",'Pos_Signal',\"Ground\", \"AvionicsControl\"], fclass=Avionics, fparams=params)\n",
    "        self.add_fxn(\"Override\", [\"OverrideComms\", \"EE_5\", 'MotorControl','AvionicsControl'], Override)\n",
    "        self.add_fxn(\"Drive\", [\"Ground\",\"EE_15\",\"EE_5\", \"MotorControl\"], fclass = Drive)\n",
    "        self.add_fxn(\"Environment\", ['Ground'], Environment, fparams = params)\n",
    "        \n",
    "        pos_bip = {'Power': [-0.684772948203272, -0.2551613615446115],\n",
    "                 'Operator': [-0.798933011500376, 0.565156755693186],\n",
    "                 'Communications': [-0.5566050878414673, 0.14159180700630447],\n",
    "                 'Perception': [0.996672509613648, 0.2507215448302319],\n",
    "                 'Avionics': [0.28027473355741117, 0.47255264233968597],\n",
    "                 'Override': [0.28987624783062627, -0.17144760874154652],\n",
    "                 'Drive': [0.6671719569482308, -0.571646956655247],\n",
    "                 'Environment': [1.1329643169383754, -0.6375225566564033],\n",
    "                 'Ground': [1.108432946123935, -0.3228541151507237],\n",
    "                 'Pos_Signal': [-0.256557435572734, 0.5411037985681082],\n",
    "                 'EE_12': [-0.3676879520509888, -0.04754907961317867],\n",
    "                 'EE_5': [-0.2181352416728437, -0.2015320865756482],\n",
    "                 'EE_15': [-0.5352906801304353, -0.5288715575154177],\n",
    "                 'Video': [0.6726175830840695, 0.396008366729458],\n",
    "                 'AvionicsControl': [0.45997843863482324, 0.04522869632581994],\n",
    "                 'MotorControl': [0.6350063940085445, -0.3013633829278297],\n",
    "                 'Control': [-0.9857988678463686, 0.07960895587242012],\n",
    "                 'Comms': [-0.642370284813957, 0.35285736707043763],\n",
    "                 'OverrideComms': [-0.14607433032593392, 0.2981956996230818]}\n",
    "        \n",
    "        self.build_model(fxnflowgraph_pos = pos_bip)\n",
    "    def find_classification(self,scen,mdlhist):\n",
    "        modes, modeproperties = self.return_faultmodes()\n",
    "        classification = str()\n",
    "        if not in_area(self.flows['Ground'].x,self.flows['Ground'].y,1,self.params['end'][0],self.params['end'][1]):\n",
    "                                classification = \"incomplete mission\"; cost=500\n",
    "        if not classification:  classification = 'nominal mission'; cost=0\n",
    "        if any(modes):          classification = classification +' faulty'; cost+=100\n",
    "        return {'rate':0,'cost':cost, 'prob':scen.rate, 'expected cost':scen.rate*cost, 'faults':modes, 'classification':classification}"
   ]
  },
  {
   "attachments": {},
   "cell_type": "markdown",
   "metadata": {},
   "source": [
    "Below shows the performance of the rover during a (default) turn with a radius of 20 meters that begins at 20 meters. As shown, there is a significant amount of drift, but not enough for the rover to get lost (that would take 1 meter of drift)."
   ]
  },
  {
   "cell_type": "code",
   "execution_count": 5,
   "metadata": {
    "execution": {
     "iopub.execute_input": "2023-06-09T23:38:08.503175Z",
     "iopub.status.busy": "2023-06-09T23:38:08.503175Z",
     "iopub.status.idle": "2023-06-09T23:38:09.004817Z",
     "shell.execute_reply": "2023-06-09T23:38:09.003817Z"
    }
   },
   "outputs": [
    {
     "ename": "Exception",
     "evalue": "Invalid args/kwargs: () , {'times': [0, 60], 'tstep': 1, 'phases': {'start': [1, 30], 'end': [31, 60]}} in <class 'fmdtools.define.parameter.Parameter'>",
     "output_type": "error",
     "traceback": [
      "\u001b[1;31m---------------------------------------------------------------------------\u001b[0m",
      "\u001b[1;31mTypeError\u001b[0m                                 Traceback (most recent call last)",
      "\u001b[1;32mc:\\users\\dhulse\\documents\\github\\fmdtools\\fmdtools\\define\\parameter.py\u001b[0m in \u001b[0;36m__init__\u001b[1;34m(self, strict_immutability, *args, **kwargs)\u001b[0m\n\u001b[0;32m     52\u001b[0m         \u001b[1;32mtry\u001b[0m\u001b[1;33m:\u001b[0m\u001b[1;33m\u001b[0m\u001b[1;33m\u001b[0m\u001b[0m\n\u001b[1;32m---> 53\u001b[1;33m             \u001b[0msuper\u001b[0m\u001b[1;33m(\u001b[0m\u001b[1;33m)\u001b[0m\u001b[1;33m.\u001b[0m\u001b[0m__init__\u001b[0m\u001b[1;33m(\u001b[0m\u001b[1;33m*\u001b[0m\u001b[0margs\u001b[0m\u001b[1;33m,\u001b[0m \u001b[1;33m**\u001b[0m\u001b[0mkwargs\u001b[0m\u001b[1;33m)\u001b[0m\u001b[1;33m\u001b[0m\u001b[1;33m\u001b[0m\u001b[0m\n\u001b[0m\u001b[0;32m     54\u001b[0m         \u001b[1;32mexcept\u001b[0m \u001b[0mTypeError\u001b[0m\u001b[1;33m:\u001b[0m\u001b[1;33m\u001b[0m\u001b[1;33m\u001b[0m\u001b[0m\n",
      "\u001b[1;31mTypeError\u001b[0m: Invalid kwarg",
      "\nDuring handling of the above exception, another exception occurred:\n",
      "\u001b[1;31mException\u001b[0m                                 Traceback (most recent call last)",
      "\u001b[1;32m~\\AppData\\Local\\Temp\\1/ipykernel_16656/3250322124.py\u001b[0m in \u001b[0;36m<module>\u001b[1;34m\u001b[0m\n\u001b[1;32m----> 1\u001b[1;33m \u001b[0mmdl\u001b[0m \u001b[1;33m=\u001b[0m \u001b[0mRover\u001b[0m\u001b[1;33m(\u001b[0m\u001b[0mparams\u001b[0m\u001b[1;33m=\u001b[0m\u001b[0mgen_params\u001b[0m\u001b[1;33m(\u001b[0m\u001b[1;34m'turn'\u001b[0m\u001b[1;33m)\u001b[0m\u001b[1;33m)\u001b[0m\u001b[1;33m\u001b[0m\u001b[1;33m\u001b[0m\u001b[0m\n\u001b[0m\u001b[0;32m      2\u001b[0m \u001b[0mresults\u001b[0m\u001b[1;33m,\u001b[0m \u001b[0mmdlhist\u001b[0m \u001b[1;33m=\u001b[0m \u001b[0mprop\u001b[0m\u001b[1;33m.\u001b[0m\u001b[0mnominal\u001b[0m\u001b[1;33m(\u001b[0m\u001b[0mmdl\u001b[0m\u001b[1;33m)\u001b[0m\u001b[1;33m\u001b[0m\u001b[1;33m\u001b[0m\u001b[0m\n\u001b[0;32m      3\u001b[0m \u001b[0mplot_map\u001b[0m\u001b[1;33m(\u001b[0m\u001b[0mmdl\u001b[0m\u001b[1;33m,\u001b[0m \u001b[0mmdlhist\u001b[0m\u001b[1;33m)\u001b[0m\u001b[1;33m\u001b[0m\u001b[1;33m\u001b[0m\u001b[0m\n",
      "\u001b[1;32m~\\AppData\\Local\\Temp\\1/ipykernel_16656/2935710477.py\u001b[0m in \u001b[0;36m__init__\u001b[1;34m(self, params, modelparams, valparams)\u001b[0m\n\u001b[0;32m    152\u001b[0m                  \u001b[0mmodelparams\u001b[0m\u001b[1;33m=\u001b[0m\u001b[1;33m{\u001b[0m\u001b[1;34m'times'\u001b[0m\u001b[1;33m:\u001b[0m\u001b[1;33m[\u001b[0m\u001b[1;36m0\u001b[0m\u001b[1;33m,\u001b[0m\u001b[1;36m60\u001b[0m\u001b[1;33m]\u001b[0m\u001b[1;33m,\u001b[0m \u001b[1;34m'tstep'\u001b[0m\u001b[1;33m:\u001b[0m\u001b[1;36m1\u001b[0m\u001b[1;33m,\u001b[0m \u001b[1;34m'phases'\u001b[0m\u001b[1;33m:\u001b[0m\u001b[1;33m{\u001b[0m\u001b[1;34m'start'\u001b[0m\u001b[1;33m:\u001b[0m\u001b[1;33m[\u001b[0m\u001b[1;36m1\u001b[0m\u001b[1;33m,\u001b[0m\u001b[1;36m30\u001b[0m\u001b[1;33m]\u001b[0m\u001b[1;33m,\u001b[0m \u001b[1;34m'end'\u001b[0m\u001b[1;33m:\u001b[0m\u001b[1;33m[\u001b[0m\u001b[1;36m31\u001b[0m\u001b[1;33m,\u001b[0m \u001b[1;36m60\u001b[0m\u001b[1;33m]\u001b[0m\u001b[1;33m}\u001b[0m\u001b[1;33m}\u001b[0m\u001b[1;33m,\u001b[0m\u001b[0;31m\\\u001b[0m\u001b[1;33m\u001b[0m\u001b[1;33m\u001b[0m\u001b[0m\n\u001b[0;32m    153\u001b[0m                      valparams={}):\n\u001b[1;32m--> 154\u001b[1;33m         \u001b[0msuper\u001b[0m\u001b[1;33m(\u001b[0m\u001b[1;33m)\u001b[0m\u001b[1;33m.\u001b[0m\u001b[0m__init__\u001b[0m\u001b[1;33m(\u001b[0m\u001b[0mparams\u001b[0m\u001b[1;33m,\u001b[0m \u001b[0mmodelparams\u001b[0m\u001b[1;33m,\u001b[0m \u001b[0mvalparams\u001b[0m\u001b[1;33m)\u001b[0m\u001b[1;33m\u001b[0m\u001b[1;33m\u001b[0m\u001b[0m\n\u001b[0m\u001b[0;32m    155\u001b[0m \u001b[1;33m\u001b[0m\u001b[0m\n\u001b[0;32m    156\u001b[0m         \u001b[0mself\u001b[0m\u001b[1;33m.\u001b[0m\u001b[0madd_flow\u001b[0m\u001b[1;33m(\u001b[0m\u001b[1;34m'Ground'\u001b[0m\u001b[1;33m,\u001b[0m \u001b[1;33m{\u001b[0m\u001b[1;34m'x'\u001b[0m\u001b[1;33m:\u001b[0m\u001b[1;36m0.0\u001b[0m\u001b[1;33m,\u001b[0m\u001b[1;34m'y'\u001b[0m\u001b[1;33m:\u001b[0m\u001b[1;36m0.0\u001b[0m\u001b[1;33m,\u001b[0m\u001b[1;34m'liney'\u001b[0m\u001b[1;33m:\u001b[0m\u001b[1;36m0.0\u001b[0m\u001b[1;33m,\u001b[0m\u001b[1;34m'linex'\u001b[0m\u001b[1;33m:\u001b[0m\u001b[1;36m0.0\u001b[0m\u001b[1;33m,\u001b[0m \u001b[1;34m'vel'\u001b[0m\u001b[1;33m:\u001b[0m\u001b[1;36m0.0\u001b[0m\u001b[1;33m,\u001b[0m \u001b[1;34m'line'\u001b[0m\u001b[1;33m:\u001b[0m\u001b[1;36m0.0\u001b[0m\u001b[1;33m,\u001b[0m \u001b[1;34m'angle'\u001b[0m\u001b[1;33m:\u001b[0m\u001b[0mparams\u001b[0m\u001b[1;33m[\u001b[0m\u001b[1;34m'initangle'\u001b[0m\u001b[1;33m]\u001b[0m\u001b[1;33m,\u001b[0m \u001b[1;34m'ang'\u001b[0m\u001b[1;33m:\u001b[0m\u001b[1;36m0.0\u001b[0m\u001b[1;33m}\u001b[0m\u001b[1;33m)\u001b[0m\u001b[1;33m\u001b[0m\u001b[1;33m\u001b[0m\u001b[0m\n",
      "\u001b[1;32mc:\\users\\dhulse\\documents\\github\\fmdtools\\fmdtools\\define\\model.py\u001b[0m in \u001b[0;36m__init__\u001b[1;34m(self, name, p, sp, r, track)\u001b[0m\n\u001b[0;32m     51\u001b[0m     \"\"\"\n\u001b[0;32m     52\u001b[0m     \u001b[1;32mdef\u001b[0m \u001b[0m__init__\u001b[0m\u001b[1;33m(\u001b[0m\u001b[0mself\u001b[0m\u001b[1;33m,\u001b[0m \u001b[0mname\u001b[0m\u001b[1;33m=\u001b[0m\u001b[1;34m''\u001b[0m\u001b[1;33m,\u001b[0m \u001b[0mp\u001b[0m\u001b[1;33m=\u001b[0m\u001b[1;33m{\u001b[0m\u001b[1;33m}\u001b[0m\u001b[1;33m,\u001b[0m \u001b[0msp\u001b[0m\u001b[1;33m=\u001b[0m\u001b[1;33m{\u001b[0m\u001b[1;33m}\u001b[0m\u001b[1;33m,\u001b[0m \u001b[0mr\u001b[0m\u001b[1;33m=\u001b[0m\u001b[1;33m{\u001b[0m\u001b[1;33m}\u001b[0m\u001b[1;33m,\u001b[0m \u001b[0mtrack\u001b[0m\u001b[1;33m=\u001b[0m\u001b[1;34m''\u001b[0m\u001b[1;33m)\u001b[0m\u001b[1;33m:\u001b[0m\u001b[1;33m\u001b[0m\u001b[1;33m\u001b[0m\u001b[0m\n\u001b[1;32m---> 53\u001b[1;33m         \u001b[0msuper\u001b[0m\u001b[1;33m(\u001b[0m\u001b[1;33m)\u001b[0m\u001b[1;33m.\u001b[0m\u001b[0m__init__\u001b[0m\u001b[1;33m(\u001b[0m\u001b[0mname\u001b[0m\u001b[1;33m=\u001b[0m\u001b[0mname\u001b[0m\u001b[1;33m,\u001b[0m \u001b[0mp\u001b[0m\u001b[1;33m=\u001b[0m\u001b[0mp\u001b[0m\u001b[1;33m,\u001b[0m \u001b[0msp\u001b[0m\u001b[1;33m=\u001b[0m\u001b[0msp\u001b[0m\u001b[1;33m,\u001b[0m \u001b[0mr\u001b[0m\u001b[1;33m=\u001b[0m\u001b[0mr\u001b[0m\u001b[1;33m,\u001b[0m \u001b[0mtrack\u001b[0m\u001b[1;33m=\u001b[0m\u001b[0mtrack\u001b[0m\u001b[1;33m)\u001b[0m\u001b[1;33m\u001b[0m\u001b[1;33m\u001b[0m\u001b[0m\n\u001b[0m\u001b[0;32m     54\u001b[0m \u001b[1;33m\u001b[0m\u001b[0m\n\u001b[0;32m     55\u001b[0m         \u001b[0mself\u001b[0m\u001b[1;33m.\u001b[0m\u001b[0mfxns\u001b[0m\u001b[1;33m=\u001b[0m\u001b[0mdict\u001b[0m\u001b[1;33m(\u001b[0m\u001b[1;33m)\u001b[0m\u001b[1;33m\u001b[0m\u001b[1;33m\u001b[0m\u001b[0m\n",
      "\u001b[1;32mc:\\users\\dhulse\\documents\\github\\fmdtools\\fmdtools\\define\\block.py\u001b[0m in \u001b[0;36m__init__\u001b[1;34m(self, name, p, sp, r, track)\u001b[0m\n\u001b[0;32m    125\u001b[0m         \u001b[1;32mif\u001b[0m \u001b[1;32mnot\u001b[0m \u001b[0msp\u001b[0m\u001b[1;33m:\u001b[0m\u001b[1;33m\u001b[0m\u001b[1;33m\u001b[0m\u001b[0m\n\u001b[0;32m    126\u001b[0m             \u001b[0msp\u001b[0m \u001b[1;33m=\u001b[0m \u001b[0mself\u001b[0m\u001b[1;33m.\u001b[0m\u001b[0mdefault_sp\u001b[0m\u001b[1;33m\u001b[0m\u001b[1;33m\u001b[0m\u001b[0m\n\u001b[1;32m--> 127\u001b[1;33m         \u001b[0minit_obj_attr\u001b[0m\u001b[1;33m(\u001b[0m\u001b[0mself\u001b[0m\u001b[1;33m,\u001b[0m \u001b[0mp\u001b[0m\u001b[1;33m=\u001b[0m\u001b[0mp\u001b[0m\u001b[1;33m,\u001b[0m \u001b[0msp\u001b[0m\u001b[1;33m=\u001b[0m\u001b[0msp\u001b[0m\u001b[1;33m,\u001b[0m \u001b[0mr\u001b[0m\u001b[1;33m=\u001b[0m\u001b[0mr\u001b[0m\u001b[1;33m)\u001b[0m\u001b[1;33m\u001b[0m\u001b[1;33m\u001b[0m\u001b[0m\n\u001b[0m\u001b[0;32m    128\u001b[0m \u001b[1;33m\u001b[0m\u001b[0m\n\u001b[0;32m    129\u001b[0m     \u001b[1;32mdef\u001b[0m \u001b[0madd_flow_hist\u001b[0m\u001b[1;33m(\u001b[0m\u001b[0mself\u001b[0m\u001b[1;33m,\u001b[0m \u001b[0mhist\u001b[0m\u001b[1;33m,\u001b[0m \u001b[0mtimerange\u001b[0m\u001b[1;33m,\u001b[0m \u001b[0mtrack\u001b[0m\u001b[1;33m)\u001b[0m\u001b[1;33m:\u001b[0m\u001b[1;33m\u001b[0m\u001b[1;33m\u001b[0m\u001b[0m\n",
      "\u001b[1;32mc:\\users\\dhulse\\documents\\github\\fmdtools\\fmdtools\\define\\common.py\u001b[0m in \u001b[0;36minit_obj_attr\u001b[1;34m(obj, **attrs)\u001b[0m\n\u001b[0;32m    135\u001b[0m         \u001b[0msetattr\u001b[0m\u001b[1;33m(\u001b[0m\u001b[0mobj\u001b[0m\u001b[1;33m,\u001b[0m \u001b[1;34m'_args_'\u001b[0m\u001b[1;33m+\u001b[0m\u001b[0mat\u001b[0m\u001b[1;33m,\u001b[0m \u001b[0mat_arg\u001b[0m\u001b[1;33m)\u001b[0m\u001b[1;33m\u001b[0m\u001b[1;33m\u001b[0m\u001b[0m\n\u001b[0;32m    136\u001b[0m         \u001b[0minit_at\u001b[0m \u001b[1;33m=\u001b[0m \u001b[0mgetattr\u001b[0m\u001b[1;33m(\u001b[0m\u001b[0mobj\u001b[0m\u001b[1;33m,\u001b[0m \u001b[1;34m'_init_'\u001b[0m\u001b[1;33m+\u001b[0m\u001b[0mat\u001b[0m\u001b[1;33m)\u001b[0m\u001b[1;33m\u001b[0m\u001b[1;33m\u001b[0m\u001b[0m\n\u001b[1;32m--> 137\u001b[1;33m         \u001b[0msetattr\u001b[0m\u001b[1;33m(\u001b[0m\u001b[0mobj\u001b[0m\u001b[1;33m,\u001b[0m \u001b[0mat\u001b[0m\u001b[1;33m,\u001b[0m \u001b[0minit_at\u001b[0m\u001b[1;33m(\u001b[0m\u001b[1;33m**\u001b[0m\u001b[0mat_arg\u001b[0m\u001b[1;33m)\u001b[0m\u001b[1;33m)\u001b[0m\u001b[1;33m\u001b[0m\u001b[1;33m\u001b[0m\u001b[0m\n\u001b[0m\u001b[0;32m    138\u001b[0m \u001b[1;33m\u001b[0m\u001b[0m\n\u001b[0;32m    139\u001b[0m \u001b[1;32mdef\u001b[0m \u001b[0mget_dataobj_track\u001b[0m\u001b[1;33m(\u001b[0m\u001b[0mobj\u001b[0m\u001b[1;33m,\u001b[0m \u001b[0mtrack\u001b[0m\u001b[1;33m)\u001b[0m\u001b[1;33m:\u001b[0m\u001b[1;33m\u001b[0m\u001b[1;33m\u001b[0m\u001b[0m\n",
      "\u001b[1;32mc:\\users\\dhulse\\documents\\github\\fmdtools\\fmdtools\\define\\parameter.py\u001b[0m in \u001b[0;36m__init__\u001b[1;34m(self, strict_immutability, *args, **kwargs)\u001b[0m\n\u001b[0;32m     53\u001b[0m             \u001b[0msuper\u001b[0m\u001b[1;33m(\u001b[0m\u001b[1;33m)\u001b[0m\u001b[1;33m.\u001b[0m\u001b[0m__init__\u001b[0m\u001b[1;33m(\u001b[0m\u001b[1;33m*\u001b[0m\u001b[0margs\u001b[0m\u001b[1;33m,\u001b[0m \u001b[1;33m**\u001b[0m\u001b[0mkwargs\u001b[0m\u001b[1;33m)\u001b[0m\u001b[1;33m\u001b[0m\u001b[1;33m\u001b[0m\u001b[0m\n\u001b[0;32m     54\u001b[0m         \u001b[1;32mexcept\u001b[0m \u001b[0mTypeError\u001b[0m\u001b[1;33m:\u001b[0m\u001b[1;33m\u001b[0m\u001b[1;33m\u001b[0m\u001b[0m\n\u001b[1;32m---> 55\u001b[1;33m             \u001b[1;32mraise\u001b[0m \u001b[0mException\u001b[0m\u001b[1;33m(\u001b[0m\u001b[1;34m\"Invalid args/kwargs: \"\u001b[0m\u001b[1;33m+\u001b[0m\u001b[0mstr\u001b[0m\u001b[1;33m(\u001b[0m\u001b[0margs\u001b[0m\u001b[1;33m)\u001b[0m\u001b[1;33m+\u001b[0m\u001b[1;34m\" , \"\u001b[0m\u001b[1;33m+\u001b[0m\u001b[0mstr\u001b[0m\u001b[1;33m(\u001b[0m\u001b[0mkwargs\u001b[0m\u001b[1;33m)\u001b[0m\u001b[1;33m+\u001b[0m\u001b[1;34m\" in \"\u001b[0m\u001b[1;33m+\u001b[0m\u001b[0mstr\u001b[0m\u001b[1;33m(\u001b[0m\u001b[0mself\u001b[0m\u001b[1;33m.\u001b[0m\u001b[0m__class__\u001b[0m\u001b[1;33m)\u001b[0m\u001b[1;33m)\u001b[0m\u001b[1;33m\u001b[0m\u001b[1;33m\u001b[0m\u001b[0m\n\u001b[0m\u001b[0;32m     56\u001b[0m         \u001b[1;32mif\u001b[0m \u001b[0mstrict_immutability\u001b[0m\u001b[1;33m:\u001b[0m \u001b[0mself\u001b[0m\u001b[1;33m.\u001b[0m\u001b[0mcheck_immutable\u001b[0m\u001b[1;33m(\u001b[0m\u001b[1;33m)\u001b[0m\u001b[1;33m\u001b[0m\u001b[1;33m\u001b[0m\u001b[0m\n\u001b[0;32m     57\u001b[0m         \u001b[0mself\u001b[0m\u001b[1;33m.\u001b[0m\u001b[0mcheck_type\u001b[0m\u001b[1;33m(\u001b[0m\u001b[1;33m)\u001b[0m\u001b[1;33m\u001b[0m\u001b[1;33m\u001b[0m\u001b[0m\n",
      "\u001b[1;31mException\u001b[0m: Invalid args/kwargs: () , {'times': [0, 60], 'tstep': 1, 'phases': {'start': [1, 30], 'end': [31, 60]}} in <class 'fmdtools.define.parameter.Parameter'>"
     ]
    }
   ],
   "source": [
    "mdl = Rover(params=gen_params('turn'))\n",
    "results, mdlhist = prop.nominal(mdl)\n",
    "plot_map(mdl, mdlhist)"
   ]
  },
  {
   "attachments": {},
   "cell_type": "markdown",
   "metadata": {},
   "source": [
    "Below shows the performance of the model over a sine wave. As shown, the drift is much smaller because the turns are much less pronounced (a movement of 0.2 meters over 25 meters). "
   ]
  },
  {
   "cell_type": "code",
   "execution_count": 6,
   "metadata": {},
   "outputs": [],
   "source": [
    "mdl = Rover(params=gen_params('sine'))\n",
    "results, mdlhist = prop.nominal(mdl)\n",
    "plot_map(mdl, mdlhist)"
   ]
  },
  {
   "attachments": {},
   "cell_type": "markdown",
   "metadata": {},
   "source": [
    "The performance of the rover in these situations is dependent on the parameters of the situation (e.g., the radius of the curve and the amplitude of the sine wave). Thus, it is important to define the operational envelope for the system. This can be done using a `NominalApproach`, which can be used to define ranges of variables to simulate the system under."
   ]
  },
  {
   "cell_type": "code",
   "execution_count": 7,
   "metadata": {},
   "outputs": [],
   "source": [
    "from fmdtools.sim.approach import NominalApproach"
   ]
  },
  {
   "cell_type": "code",
   "execution_count": 8,
   "metadata": {},
   "outputs": [],
   "source": [
    "help(NominalApproach)"
   ]
  },
  {
   "attachments": {},
   "cell_type": "markdown",
   "metadata": {},
   "source": [
    "In this approach we define parameter ranges for the two major situations--a wavelength and amplitude for the sine wave, and a radius and start location for the turn.\n",
    "\n",
    "Defining an approach in terms of ranges is performed with `.add_param_ranges()`"
   ]
  },
  {
   "cell_type": "code",
   "execution_count": 9,
   "metadata": {},
   "outputs": [],
   "source": [
    "nomapp = NominalApproach()\n",
    "help(nomapp.add_param_ranges)"
   ]
  },
  {
   "cell_type": "code",
   "execution_count": 10,
   "metadata": {},
   "outputs": [],
   "source": [
    "nomapp.add_param_ranges(gen_params,'sine','sine', amp=(0, 10, 0.2), wavelength=(10,50,10))\n",
    "nomapp.add_param_ranges(gen_params,'turn','turn', radius=(5,40,5), start=(0, 20,5))"
   ]
  },
  {
   "attachments": {},
   "cell_type": "markdown",
   "metadata": {},
   "source": [
    "Notice that `gen_params` is the handle of the method defined earlier to generate the nominal parameters of the model, `sine` is a fixed parameter defining a discrete case of scenarios, and `amp` and `wavelenth` are parameters that are varied (the given tuples define the respective ranges).\n",
    "\n",
    "The result is a defined set of scenarios which can be run in the model:"
   ]
  },
  {
   "cell_type": "code",
   "execution_count": 11,
   "metadata": {},
   "outputs": [],
   "source": [
    "nomapp.scenarios"
   ]
  },
  {
   "attachments": {},
   "cell_type": "markdown",
   "metadata": {},
   "source": [
    "Nominal Approaches are simulated using `prop.nominal_approach`."
   ]
  },
  {
   "cell_type": "code",
   "execution_count": 12,
   "metadata": {},
   "outputs": [],
   "source": [
    "help(prop.nominal_approach)"
   ]
  },
  {
   "cell_type": "code",
   "execution_count": 13,
   "metadata": {},
   "outputs": [],
   "source": [
    "endclasses, mdlhists= prop.nominal_approach(mdl, nomapp)"
   ]
  },
  {
   "attachments": {},
   "cell_type": "markdown",
   "metadata": {},
   "source": [
    "To speed up execution over large numbers of scenarios, multiprocessing can also be used to run the scenarios in parallel by passing an execution pool. This is not done here because it would require the model to be in a different file, and because the gains on a light-weight model like this are not significant."
   ]
  },
  {
   "attachments": {},
   "cell_type": "markdown",
   "metadata": {},
   "source": [
    "Now that the approach has been simulated, the operational envelope can be visualized. There are three methods to perform this visualization `an.plot.nominal_vals_1d`, `an.plot.nominal_vals_2d`, and `an.plot.nominal_vals_3d`, which each plot the *classification* of the model in the 1/2/3 dimensions over the set of given parameters as nominal or incomplete. \n",
    "\n",
    "Note that this classification must be in the dictionary returned from the Model's `find_classification` function at the end of the model run under the key `classification` as is done in the rover model. This classification must also be encoded as a string."
   ]
  },
  {
   "cell_type": "code",
   "execution_count": 14,
   "metadata": {},
   "outputs": [],
   "source": [
    "help(an.plot.nominal_vals_2d)"
   ]
  },
  {
   "attachments": {},
   "cell_type": "markdown",
   "metadata": {},
   "source": [
    "We can then use these results to visualize the operational envelope for the system over each case. In this case, the parameter ranges of the sine wave are plotted, showing that the rover can only a low ration of amplitude to wavelenght."
   ]
  },
  {
   "cell_type": "code",
   "execution_count": 15,
   "metadata": {},
   "outputs": [],
   "source": [
    "fig = an.plot.nominal_vals_2d(nomapp, endclasses, 'amp', 'wavelength')"
   ]
  },
  {
   "attachments": {},
   "cell_type": "markdown",
   "metadata": {},
   "source": [
    "The plot below shows the same results for the turn parameters."
   ]
  },
  {
   "cell_type": "code",
   "execution_count": 16,
   "metadata": {},
   "outputs": [],
   "source": [
    "fig = an.plot.nominal_vals_2d(nomapp, endclasses, 'radius', 'start')"
   ]
  },
  {
   "attachments": {},
   "cell_type": "markdown",
   "metadata": {},
   "source": [
    "Because the primary effect is one in terms of radius, we might visualize this trend in one dimension instead:"
   ]
  },
  {
   "cell_type": "code",
   "execution_count": 17,
   "metadata": {},
   "outputs": [],
   "source": [
    "fig = an.plot.nominal_vals_1d(nomapp, endclasses, 'radius')"
   ]
  },
  {
   "attachments": {},
   "cell_type": "markdown",
   "metadata": {},
   "source": [
    "While this is helpful for plotting string classifications, we also might want to compare numeric quantities (e.g., costs, hazard probabilities, etc) over the set of factors. For this, `an.tabulate.nominal_factor_comparison` is used, which creates a table of  metrics over a given set of parameters."
   ]
  },
  {
   "cell_type": "code",
   "execution_count": 18,
   "metadata": {},
   "outputs": [],
   "source": [
    "help(an.tabulate.nominal_factor_comparison)"
   ]
  },
  {
   "cell_type": "code",
   "execution_count": 19,
   "metadata": {},
   "outputs": [],
   "source": [
    "nomtab = an.tabulate.nominal_factor_comparison(nomapp, endclasses, ['radius', 'start'], rangeid='turn', percent=False)"
   ]
  },
  {
   "cell_type": "code",
   "execution_count": 20,
   "metadata": {},
   "outputs": [],
   "source": [
    "nomtab"
   ]
  },
  {
   "attachments": {},
   "cell_type": "markdown",
   "metadata": {},
   "source": [
    "This table can also be summarized on individual factors:"
   ]
  },
  {
   "cell_type": "code",
   "execution_count": 21,
   "metadata": {},
   "outputs": [],
   "source": [
    "nomtab_summ = an.tabulate.nominal_factor_comparison(nomapp, endclasses, ['start'], rangeid='turn', percent=False)\n",
    "nomtab_summ"
   ]
  },
  {
   "attachments": {},
   "cell_type": "markdown",
   "metadata": {},
   "source": [
    "`an.plot.nominal_factor_comparison` can then be used to visualize one metric from this table as a bar plot."
   ]
  },
  {
   "cell_type": "code",
   "execution_count": 22,
   "metadata": {},
   "outputs": [],
   "source": [
    "help(an.plot.nominal_factor_comparison)"
   ]
  },
  {
   "cell_type": "code",
   "execution_count": 23,
   "metadata": {},
   "outputs": [],
   "source": [
    "fig = an.plot.nominal_factor_comparison(nomtab_summ, 'cost', ylabel='cost', title='average cost at different start locations', maxy=150)"
   ]
  },
  {
   "attachments": {},
   "cell_type": "markdown",
   "metadata": {},
   "source": [
    "## Quantifying probabilities\n",
    "\n",
    "Given the ability to simulate over ranges, it can additionally be used to quantify probabilities of the different end-state classifications. `an.process.state_probabilities(endclasses)` can be used to quantify the probability these classifications."
   ]
  },
  {
   "attachments": {},
   "cell_type": "markdown",
   "metadata": {},
   "source": [
    "The default probability model over ranges is to assume a uniform distribution and only assume one range has been added. This can lead to fallacious results:"
   ]
  },
  {
   "cell_type": "code",
   "execution_count": 24,
   "metadata": {},
   "outputs": [],
   "source": [
    "state_probabilities = an.process.state_probabilities(endclasses)\n",
    "state_probabilities"
   ]
  },
  {
   "attachments": {},
   "cell_type": "markdown",
   "metadata": {},
   "source": [
    "Thus, `.assoc_probs` to:\n",
    "- associate the probabilities with their corresponding distributions (which may be non-uniform), and\n",
    "- rebalance the overall probability of discrete cases\n",
    "when running the approach over ranges. "
   ]
  },
  {
   "cell_type": "code",
   "execution_count": 25,
   "metadata": {},
   "outputs": [],
   "source": [
    "help(nomapp.assoc_probs)"
   ]
  },
  {
   "attachments": {},
   "cell_type": "markdown",
   "metadata": {},
   "source": [
    "Here, each case is given a weight defining the probability of the discrete case, while the corresponding parameters are given corresponding pdf functions (in this case uniform distributions from the scipy stats package)."
   ]
  },
  {
   "cell_type": "code",
   "execution_count": 26,
   "metadata": {},
   "outputs": [],
   "source": [
    "from scipy import stats"
   ]
  },
  {
   "cell_type": "code",
   "execution_count": 27,
   "metadata": {},
   "outputs": [],
   "source": [
    "nomapp.assoc_probs('sine', prob_weight=0.5, amp=(stats.uniform.pdf, {'loc':0,'scale':10}), wavelength=(stats.uniform.pdf,{'loc':10, 'scale':40}))\n",
    "nomapp.assoc_probs('turn', prob_weight=0.5, start=(stats.uniform.pdf, {'loc':5,'scale':10}), radius=(stats.uniform.pdf,{'loc':5, 'scale':30}))"
   ]
  },
  {
   "attachments": {},
   "cell_type": "markdown",
   "metadata": {},
   "source": [
    "Now, when the scenarios are run, they should have the correct corresponding probabilities:"
   ]
  },
  {
   "cell_type": "code",
   "execution_count": 28,
   "metadata": {},
   "outputs": [],
   "source": [
    "endclasses, mdlhists= prop.nominal_approach(mdl, nomapp)"
   ]
  },
  {
   "cell_type": "code",
   "execution_count": 29,
   "metadata": {},
   "outputs": [],
   "source": [
    "state_probabilities = an.process.state_probabilities(endclasses)\n",
    "state_probabilities"
   ]
  },
  {
   "attachments": {},
   "cell_type": "markdown",
   "metadata": {},
   "source": [
    "This result (while seemingly extreme due to the large ranges explored) is consistent with the operational envelopes presented earlier."
   ]
  },
  {
   "attachments": {},
   "cell_type": "markdown",
   "metadata": {},
   "source": [
    "## Random input generation\n",
    "\n",
    "It may additionally be helpful to perform simulations over randomly generated inputs, when there are many parameters and it is difficult to easily quantify the stochastic process. This approach is called Monte Carlo sampling, and enables one to quantify probabilities given stochasticly-generated inputs. Random inputs are assigned using `.add_rand_params`"
   ]
  },
  {
   "cell_type": "code",
   "execution_count": 30,
   "metadata": {},
   "outputs": [],
   "source": [
    "nomapp_rand = NominalApproach()\n",
    "help(nomapp_rand.add_rand_params)"
   ]
  },
  {
   "attachments": {},
   "cell_type": "markdown",
   "metadata": {},
   "source": [
    "Below, the same probability model/scenarios used above will be generated using stochastic inputs (rather than a range)."
   ]
  },
  {
   "cell_type": "code",
   "execution_count": 31,
   "metadata": {},
   "outputs": [],
   "source": [
    "import numpy as np"
   ]
  },
  {
   "cell_type": "code",
   "execution_count": 32,
   "metadata": {},
   "outputs": [],
   "source": [
    "nomapp_rand.add_rand_params(gen_params,'sine','sine', prob_weight=0.5, replicates=100, amp=(np.random.uniform, 0, 10), wavelength=(np.random.uniform,10,40))\n",
    "nomapp_rand.add_rand_params(gen_params,'turn','turn', prob_weight=0.5, replicates=100, radius=(np.random.uniform,5,40), start=(np.random.uniform,0, 20))"
   ]
  },
  {
   "attachments": {},
   "cell_type": "markdown",
   "metadata": {},
   "source": [
    "We can go through the same process to verify that it tracks the range/pdf method."
   ]
  },
  {
   "cell_type": "code",
   "execution_count": 33,
   "metadata": {},
   "outputs": [],
   "source": [
    "endclasses, mdlhists= prop.nominal_approach(mdl, nomapp_rand)"
   ]
  },
  {
   "cell_type": "code",
   "execution_count": 34,
   "metadata": {},
   "outputs": [],
   "source": [
    "fig = an.plot.nominal_vals_2d(nomapp_rand, endclasses, 'amp', 'wavelength')"
   ]
  },
  {
   "cell_type": "code",
   "execution_count": 35,
   "metadata": {},
   "outputs": [],
   "source": [
    "fig = an.plot.nominal_vals_2d(nomapp_rand, endclasses, 'radius', 'start')"
   ]
  },
  {
   "cell_type": "code",
   "execution_count": 36,
   "metadata": {},
   "outputs": [],
   "source": [
    "fig = an.plot.nominal_vals_1d(nomapp_rand, endclasses, 'radius')"
   ]
  },
  {
   "attachments": {},
   "cell_type": "markdown",
   "metadata": {},
   "source": [
    "As shown, these results track the uniform approach, although the spread catches some non-nominal scenarios that were not caught using uniform sampling. The resulting probabilities are:"
   ]
  },
  {
   "cell_type": "code",
   "execution_count": 37,
   "metadata": {},
   "outputs": [],
   "source": [
    "state_probabilities = an.process.state_probabilities(endclasses)\n",
    "state_probabilities"
   ]
  },
  {
   "attachments": {},
   "cell_type": "markdown",
   "metadata": {},
   "source": [
    "Which is similar to (but not exactly the same as) the uniform approach. The error of Monte Carlo sampling approaches can be reduced by increasing the number of points, but these points increase computational costs."
   ]
  },
  {
   "attachments": {},
   "cell_type": "markdown",
   "metadata": {},
   "source": [
    "## Nested Scenario Sampling\n",
    "\n",
    "Thus far, we have introduced two types of approaches: \n",
    "- SampleApproach, which is used to evaluate the system resilience to a set of faults\n",
    "- NominalApproach, which is used to evaluate system performance over a set of parameters\n",
    "\n",
    "These both have their limitations when used alone. Simulating a `SampleApproach` using `propagate.approach` solely evaluates evaluates fault-driven hazards in a single nominal set of parameters (which may not generalize) while simulating a `NominalApproach` using `propagate.nominal_approach` evaluates the systerm performance/resilience to external parameters (But not faults).\n",
    "\n",
    "To resolve these limitations, one can use a *nested* scenario sampling approach where a `SampleApproach` is simulated at each parameter level of a `NominalApproach`, giving the resilience of the system to faults over a set of operational parameters. This is called using the `propagate.nested_approach` method."
   ]
  },
  {
   "cell_type": "code",
   "execution_count": 38,
   "metadata": {},
   "outputs": [],
   "source": [
    "help(prop.nested_approach)"
   ]
  },
  {
   "attachments": {},
   "cell_type": "markdown",
   "metadata": {},
   "source": [
    "Here we use the nominal approach generated earlier with a default sampling approach to quantify resilience."
   ]
  },
  {
   "cell_type": "code",
   "execution_count": 39,
   "metadata": {},
   "outputs": [],
   "source": [
    "nested_endclasses, nested_mdlhists, nested_apps = prop.nested_approach(mdl, nomapp)"
   ]
  },
  {
   "attachments": {},
   "cell_type": "markdown",
   "metadata": {},
   "source": [
    " The resulting endclass/mdlhist dictionary is in turn nested within operational scenarios."
   ]
  },
  {
   "cell_type": "code",
   "execution_count": 40,
   "metadata": {},
   "outputs": [],
   "source": [
    "nested_endclasses.keys()"
   ]
  },
  {
   "cell_type": "code",
   "execution_count": 41,
   "metadata": {},
   "outputs": [],
   "source": [
    "nested_endclasses['sine_1']['nominal']"
   ]
  },
  {
   "attachments": {},
   "cell_type": "markdown",
   "metadata": {},
   "source": [
    "We can compare resilience to faults over the operational envelope using `an.tabulate.resilience_factor_comparison`, which generates at table similar to `an.tabulate.nominal_factor_comparison` except for a single metric with rows for each fault scenario."
   ]
  },
  {
   "cell_type": "code",
   "execution_count": 42,
   "metadata": {},
   "outputs": [],
   "source": [
    "restab = an.tabulate.resilience_factor_comparison(nomapp, nested_endclasses,['start'], 'cost', rangeid='turn', percent=False, difference=False)"
   ]
  },
  {
   "cell_type": "code",
   "execution_count": 43,
   "metadata": {},
   "outputs": [],
   "source": [
    "restab"
   ]
  },
  {
   "attachments": {},
   "cell_type": "markdown",
   "metadata": {},
   "source": [
    "These factors can further be visualized using `an.plot.resilience_factor_comparison`, which generates a set of bar graphs similar to `an.plot.nominal_factor_comparison`."
   ]
  },
  {
   "cell_type": "code",
   "execution_count": 44,
   "metadata": {},
   "outputs": [],
   "source": [
    "help(an.plot.resilience_factor_comparison)"
   ]
  },
  {
   "cell_type": "code",
   "execution_count": 45,
   "metadata": {},
   "outputs": [],
   "source": [
    "fig = an.plot.resilience_factor_comparison(restab, stat='cost', figsize = (6,4), xlabel='curve start point')"
   ]
  },
  {
   "attachments": {},
   "cell_type": "markdown",
   "metadata": {},
   "source": [
    "As shown, on average the costs are higher over fault scenarios than in their nominal counterparts. While this difference appears to be uniform for Avionics faults (`no_con`, which merely adds a fault at the times instantiated (since the rover is already in `drive` mode)), resulting in a uniform cost of 100), it changes for the Drive fault depending on the location of the curve. This is because in some cases this fault stops the rover at the finish line (when the line is short), and sometimes during its mission (when the line is long), leading to a cost from the incomplete mission.\n",
    "\n",
    "Thus, the assessed consequences of faults are somewhat prone to parameters leading to a different injection time. We might prefer, for example, for avionics faults to be injected when they would make a difference (i.e. at the start) and for drive faults to be injected multiple. This can be fixed by:\n",
    "- encoding phase information in with modes to ensure they are injected at the right intervals\n",
    "- using the `get_phases` option in `propagate.nested_approach` to get the phases and inject the faults in the corresponding times\n",
    "- passing appropriate Approach arguments to `propagate.nested_approach` (e.g., defaultsamp, etc)\n",
    "\n",
    "This has already been done in the Power faults, which we evaluate below. (note that they were not included above because they were listed to be injected in specific phases using the `key_phases_by` option in `assoc_modes()`)."
   ]
  },
  {
   "cell_type": "code",
   "execution_count": 46,
   "metadata": {},
   "outputs": [],
   "source": [
    "nested_endclasses_power, nested_mdlhists_power, nested_apps_power = prop.nested_approach(mdl, nomapp, get_phases=True, faults='Power')"
   ]
  },
  {
   "cell_type": "code",
   "execution_count": 47,
   "metadata": {},
   "outputs": [],
   "source": [
    "restab_power = an.tabulate.resilience_factor_comparison(nomapp, nested_endclasses_power,['start'], 'cost', rangeid='turn', difference=True, percent=False, faults='modes')\n",
    "restab_power"
   ]
  },
  {
   "cell_type": "code",
   "execution_count": 48,
   "metadata": {},
   "outputs": [],
   "source": [
    "fig = an.plot.resilience_factor_comparison(restab_power, stat='cost', figsize = (6,4), xlabel='curve start point', stack=True, maxy=800)"
   ]
  },
  {
   "attachments": {},
   "cell_type": "markdown",
   "metadata": {},
   "source": [
    "As shown, all power faults result in the same cost, since they all result in both a fault and an incomplete mission, in part because none of them are injected after the rover completes its mission (which would happen if we were using the global phases as in the drive faults)."
   ]
  },
  {
   "cell_type": "code",
   "execution_count": null,
   "metadata": {},
   "outputs": [],
   "source": []
  }
 ],
 "metadata": {
  "kernelspec": {
   "display_name": "Python 3 (ipykernel)",
   "language": "python",
   "name": "python3"
  },
  "language_info": {
   "codemirror_mode": {
    "name": "ipython",
    "version": 3
   },
   "file_extension": ".py",
   "mimetype": "text/x-python",
   "name": "python",
   "nbconvert_exporter": "python",
   "pygments_lexer": "ipython3",
   "version": "3.9.7"
  }
 },
 "nbformat": 4,
 "nbformat_minor": 4
}
