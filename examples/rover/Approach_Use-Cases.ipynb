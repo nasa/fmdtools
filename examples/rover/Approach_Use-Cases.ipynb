{
 "cells": [
  {
   "cell_type": "markdown",
   "metadata": {},
   "source": [
    "# Defining Fault Sampling Approaches in fmdtools\n",
    "\n",
    "Fault Sampling is used to evaluate the overall resilience of a system to a set of faults and the corresponding risks associated with these faults. There is no single best way to define the set of scenarios to evaluate resilience with, because a given resilience analysis may need more or less detail, support more or less computational time, or be interested in specific scenario types of interest.\n",
    "\n",
    "Thus, there are a number of use-cases supported by fmdtools for different sampling models. This document will demonstrate and showcase a few of them."
   ]
  },
  {
   "cell_type": "code",
   "execution_count": 1,
   "metadata": {
    "execution": {
     "iopub.execute_input": "2023-08-11T03:12:26.895351Z",
     "iopub.status.busy": "2023-08-11T03:12:26.895351Z",
     "iopub.status.idle": "2023-08-11T03:12:28.371443Z",
     "shell.execute_reply": "2023-08-11T03:12:28.371443Z"
    }
   },
   "outputs": [],
   "source": [
    "from recordclass import asdict\n",
    "from fmdtools.define.parameter import Parameter, SimParam\n",
    "from fmdtools.define.state import State\n",
    "from fmdtools.define.mode import Mode\n",
    "from fmdtools.define.block import FxnBlock\n",
    "from fmdtools.define.model import Model\n",
    "from fmdtools.define.flow import Flow\n",
    "from fmdtools.sim.approach import SampleApproach\n",
    "\n",
    "import fmdtools.analyze as an\n",
    "import fmdtools.sim.propagate as prop\n"
   ]
  },
  {
   "cell_type": "markdown",
   "metadata": {},
   "source": [
    "### Basics\n",
    "\n",
    "Fault sampling involves:\n",
    "- Defining faults and fault models for each function/component/flows of the model is done using the 'Mode' Class\n",
    "- Defining a fault sampling approach (using the `SampleApproach` class)\n",
    "- Propagating faults through the model (using the `propagate.approach` method)\n",
    "Before proceeding, it can be helpful to look through their respective documentation."
   ]
  },
  {
   "cell_type": "code",
   "execution_count": 2,
   "metadata": {
    "execution": {
     "iopub.execute_input": "2023-08-11T03:12:28.373531Z",
     "iopub.status.busy": "2023-08-11T03:12:28.373531Z",
     "iopub.status.idle": "2023-08-11T03:12:28.392278Z",
     "shell.execute_reply": "2023-08-11T03:12:28.392278Z"
    }
   },
   "outputs": [
    {
     "name": "stdout",
     "output_type": "stream",
     "text": [
      "Help on class Mode in module fmdtools.define.mode:\n",
      "\n",
      "class Mode(recordclass.datatype.dataobject)\n",
      " |  Mode(*args, s_kwargs={}, **kwargs)\n",
      " |  \n",
      " |  Description: Class for defining the mode property (and associated probability model)\n",
      " |  held in Blocks.\n",
      " |  \n",
      " |  Mode is meant to be inherited in order to define the specific faults related to a\n",
      " |  given Block.\n",
      " |  \n",
      " |  e.g.,\n",
      " |  class ExampleMode(Mode):\n",
      " |      faultmodes = {\"high_heat\", \"low_heat\"}\n",
      " |      mode = \"start\"\n",
      " |  Will create a Mode structure where m.mode = 'start' that can enter the given\n",
      " |  fault modes 'high_heat' and 'low_heat'.\n",
      " |  \n",
      " |  Mode has the following fields which can be modified to define the underlying\n",
      " |  representation and probability model:\n",
      " |  -------------\n",
      " |  \n",
      " |  opermodes : tuple\n",
      " |      Names of non-faulty operational modes.\n",
      " |  failrate : float\n",
      " |      Overall failure rate for the block. The default is 1.0.\n",
      " |  faultparams : dict\n",
      " |          Dictionary/tuple of arguments defining faultmodes, which can have the forms:\n",
      " |              - tuple ('fault1', 'fault2', 'fault3') (just the respective faults)\n",
      " |              - dict {'fault1': faultattributes, 'fault2': faultattributes}, where faultattributes is:\n",
      " |                  - float: rate for the mode\n",
      " |                  - dict/set/str: opportunity vector for the mode specified as a dictionary/set/string\n",
      " |                  - tuple: (rate, oppvect, rcost) or (rate, rcost)\n",
      " |                      - a list of arguments where the float arguments are specified in the order rate, rcost (if provided) and\n",
      " |                          an oppvect opportunity vector is provided (anywhere) with the form:\n",
      " |                              -list: [float1, float2,...], a vector of relative likelihoods for each phase, or\n",
      " |                              -dict: {opermode:float1, opermode:float1}, a dict of relative likelihoods for each phase/mode\n",
      " |                              -set: {opermode, opermode,...}, a set of applicable phases (assumed equally likely).\n",
      " |                              the phases/modes to key by are defined in \"key_phases_by\"\n",
      " |                              -str: 'all'/'modename', either specifying all operational modes/phases or a single operational mode/phase\n",
      " |  probtype : str, optional\n",
      " |      Type of probability in the probability model, a per-time 'rate' or\n",
      " |      per-run 'prob'.The default is 'rate'\n",
      " |  units : str, optional\n",
      " |      Type of units ('sec'/'min'/'hr'/'day') used for the rates. Default is 'hr'\n",
      " |  exclusive : True/False\n",
      " |      Whether fault modes are exclusive of each other or not.\n",
      " |      Default is False (i.e. more than one can be present).\n",
      " |  key_phases_by : 'self'/'none'/'global'/'fxnname'\n",
      " |      Phases to key the faultmodes by\n",
      " |      (using local, global, or an external function's modes').\n",
      " |      Default is 'global'\n",
      " |  longnames : dict\n",
      " |      Longer names for the faults (if desired). {faultname: longname}\n",
      " |  faults : set\n",
      " |      Set of faults present (or not) at any given time\n",
      " |  mode : str\n",
      " |      Name of the current mode. the default is 'nominal'\n",
      " |  he_args : tuple\n",
      " |      Arguments for add_he_rate defining a human error probability model.\n",
      " |  \n",
      " |  \n",
      " |  These properties can then be used in simulation\n",
      " |  ------------\n",
      " |  faults : set\n",
      " |      Set of faults present (or not) at any given time\n",
      " |  mode : str\n",
      " |      Name of the current mode. the default is 'nominal'\n",
      " |  mode_state_dict: dict\n",
      " |      Maps modes to states. Assigned by assoc_faultstates\n",
      " |  \n",
      " |  While these properties are used for determining scenario information\n",
      " |  ------------\n",
      " |  faultmodes : dict\n",
      " |          Dictionary of :class:`Fault` defining possible fault modes and\n",
      " |          their properties\n",
      " |  \n",
      " |  Method resolution order:\n",
      " |      Mode\n",
      " |      recordclass.datatype.dataobject\n",
      " |      builtins.object\n",
      " |  \n",
      " |  Methods defined here:\n",
      " |  \n",
      " |  __init__(self, *args, s_kwargs={}, **kwargs)\n",
      " |      Initialize self.  See help(type(self)) for accurate signature.\n",
      " |  \n",
      " |  __repr__(self)\n",
      " |      T.__repr__() -- representation of T\n",
      " |  \n",
      " |  add_fault(self, *faults)\n",
      " |      Add fault (a str) to the block.\n",
      " |      \n",
      " |      Parameters\n",
      " |      ----------\n",
      " |      *fault : str(s)\n",
      " |          name(s) of the fault to add to the black\n",
      " |  \n",
      " |  add_he_rate(self, gtp, EPCs={'na': [1, 0]})\n",
      " |      Calculate self.failrate based on a human error probability model.\n",
      " |      \n",
      " |      Parameters\n",
      " |      ----------\n",
      " |      gtp : float\n",
      " |          Generic Task Probability. (from HEART)\n",
      " |      EPCs : Dict or list\n",
      " |          Error producing conditions (and respective factors) for a given task\n",
      " |          (from HEART). Used in format:\n",
      " |      \n",
      " |          - Dict {'name':[EPC factor, Effect proportion]} or\n",
      " |      \n",
      " |          - list [[EPC factor, Effect proportion],[[EPC factor, Effect proportion]]]\n",
      " |  \n",
      " |  any_faults(self)\n",
      " |      Check if the block has any fault modes.\n",
      " |  \n",
      " |  assoc_faultstates(self, franges={}, mode_app='none', manual_modes={}, probtype='prob', units='hr', key_phases_by='global', seed=42, **kwargs)\n",
      " |      Associate modes with given faultstates.\n",
      " |      \n",
      " |      Parameters\n",
      " |      ----------\n",
      " |      franges : dict, optional\n",
      " |          Dictionary of form {'state':{val1, val2...}) of ranges for each health state\n",
      " |                              (if used to generate modes). The default is {}.\n",
      " |      mode_app : str\n",
      " |          type of modes to elaborate from the given health states.\n",
      " |      manual_modes : dict, optional\n",
      " |          Dictionary/Set of faultmodes with structure, which has the form:\n",
      " |              - dict {'fault1': [atts], 'fault2': atts}, where atts may be of form:\n",
      " |                  - states: {state1: val1, state2, val2}\n",
      " |                  - [states, faultattributes], where faultattributes is the same as in\n",
      " |                  assoc_modes\n",
      " |      probtype : str, optional\n",
      " |          Type of probability in the probability model, a per-time 'rate' or\n",
      " |          per-run 'prob'. The default is 'rate'\n",
      " |      units : str, optional\n",
      " |          Type of units ('sec'/'min'/'hr'/'day') used for the rates. Default is 'hr'\n",
      " |      **kwargs : kwargs\n",
      " |          Entries for the Faults (e.g., oppvect, etc)\n",
      " |  \n",
      " |  create_hist(self, timerange, track)\n",
      " |  \n",
      " |  get_true_field(self, fieldname, *args, **kwargs)\n",
      " |  \n",
      " |  get_true_fields(self, *args, **kwargs)\n",
      " |  \n",
      " |  has_fault(self, *faults)\n",
      " |      Check if the block has fault (a str).\n",
      " |      \n",
      " |      Parameters\n",
      " |      ----------\n",
      " |      *faults : strs\n",
      " |          names of the fault to check.\n",
      " |  \n",
      " |  in_mode(self, *modes)\n",
      " |      Check if the system is in a given operational mode.\n",
      " |      \n",
      " |      Parameters\n",
      " |      ----------\n",
      " |      *modes : strs\n",
      " |          names of the mode to check\n",
      " |  \n",
      " |  init_faultmodes(self)\n",
      " |      Initialize the self.faultmodes dictionary from the parameters of the Mode.\n",
      " |  \n",
      " |  mirror(self, mode_to_mirror)\n",
      " |  \n",
      " |  no_fault(self, fault)\n",
      " |      Check if the block does not have fault (a str).\n",
      " |      \n",
      " |      Parameters\n",
      " |      ----------\n",
      " |      fault : str\n",
      " |          name of the fault to check.\n",
      " |  \n",
      " |  remove_any_faults(self, opermode=False, warnmessage=False)\n",
      " |      Reset fault mode to nominal and returns to the given operational mode.\n",
      " |      \n",
      " |      Parameters\n",
      " |      ----------\n",
      " |      opermode : str (optional)\n",
      " |          operational mode to return to when the fault mode is removed\n",
      " |      warnmessage : str/False\n",
      " |          Warning to give when performing operation. Default is False (no warning)\n",
      " |  \n",
      " |  remove_fault(self, fault_to_remove, opermode=False, warnmessage=False)\n",
      " |      Remove fault in the set of faults and returns to given operational mode.\n",
      " |      \n",
      " |      Parameters\n",
      " |      ----------\n",
      " |      fault_to_replace : str\n",
      " |          name of the fault to remove\n",
      " |      opermode : str (optional)\n",
      " |          operational mode to return to when the fault mode is removed\n",
      " |      warnmessage : str/False\n",
      " |          Warning to give when performing operation. Default is False (no warning)\n",
      " |  \n",
      " |  replace_fault(self, fault_to_replace, fault_to_add)\n",
      " |      Replace fault_to_replace with fault_to_add in the set of faults.\n",
      " |      \n",
      " |      Parameters\n",
      " |      ----------\n",
      " |      fault_to_replace : str\n",
      " |          name of the fault to replace\n",
      " |      fault_to_add : str\n",
      " |          name of the fault to add in its place\n",
      " |  \n",
      " |  return_mutables(self)\n",
      " |  \n",
      " |  set_mode(self, mode)\n",
      " |      Set a mode in the block.\n",
      " |      \n",
      " |      Parameters\n",
      " |      ----------\n",
      " |      mode : str\n",
      " |          name of the mode to enter.\n",
      " |  \n",
      " |  to_fault(self, fault)\n",
      " |      Move from the current fault mode to a new fault mode.\n",
      " |      \n",
      " |      Parameters\n",
      " |      ----------\n",
      " |      fault : str\n",
      " |          name of the fault mode to switch to\n",
      " |  \n",
      " |  update_modestates(self)\n",
      " |      Update states of the model associated with a specific fault mode.\n",
      " |      \n",
      " |      (see assoc_modes)\n",
      " |  \n",
      " |  ----------------------------------------------------------------------\n",
      " |  Data descriptors defined here:\n",
      " |  \n",
      " |  __dict__\n",
      " |      dictionary for instance variables (if defined)\n",
      " |  \n",
      " |  __weakref__\n",
      " |      list of weak references to the object (if defined)\n",
      " |  \n",
      " |  faultmodes\n",
      " |  \n",
      " |  faults\n",
      " |  \n",
      " |  mode_state_dict\n",
      " |  \n",
      " |  ----------------------------------------------------------------------\n",
      " |  Data and other attributes defined here:\n",
      " |  \n",
      " |  __annotations__ = {'faultmodes': <class 'dict'>, 'faults': <class 'set...\n",
      " |  \n",
      " |  __defaults__ = (set(), {}, {})\n",
      " |  \n",
      " |  __fields__ = ('faults', 'faultmodes', 'mode_state_dict')\n",
      " |  \n",
      " |  __options__ = {'deep_dealloc': False, 'fast_new': True, 'gc': False, '...\n",
      " |  \n",
      " |  default_track = ('mode', 'faults')\n",
      " |  \n",
      " |  exclusive = False\n",
      " |  \n",
      " |  failrate = 1.0\n",
      " |  \n",
      " |  faultparams = {}\n",
      " |  \n",
      " |  he_args = ()\n",
      " |  \n",
      " |  key_phases_by = 'global'\n",
      " |  \n",
      " |  longnames = {}\n",
      " |  \n",
      " |  mode = 'nominal'\n",
      " |  \n",
      " |  opermodes = ('nominal',)\n",
      " |  \n",
      " |  probtype = 'rate'\n",
      " |  \n",
      " |  units = 'hr'\n",
      " |  \n",
      " |  units_set = ('sec', 'min', 'hr', 'day')\n",
      " |  \n",
      " |  ----------------------------------------------------------------------\n",
      " |  Methods inherited from recordclass.datatype.dataobject:\n",
      " |  \n",
      " |  __copy__(...)\n",
      " |      T.__copy__() -- copy of T\n",
      " |  \n",
      " |  __eq__(self, value, /)\n",
      " |      Return self==value.\n",
      " |  \n",
      " |  __ge__(self, value, /)\n",
      " |      Return self>=value.\n",
      " |  \n",
      " |  __getstate__(...)\n",
      " |      T.__getstate__()\n",
      " |  \n",
      " |  __gt__(self, value, /)\n",
      " |      Return self>value.\n",
      " |  \n",
      " |  __hash__(self, /)\n",
      " |      Return hash(self).\n",
      " |  \n",
      " |  __le__(self, value, /)\n",
      " |      Return self<=value.\n",
      " |  \n",
      " |  __len__(self, /)\n",
      " |      Return len(self).\n",
      " |  \n",
      " |  __lt__(self, value, /)\n",
      " |      Return self<value.\n",
      " |  \n",
      " |  __ne__(self, value, /)\n",
      " |      Return self!=value.\n",
      " |  \n",
      " |  __reduce__(...)\n",
      " |      T.__reduce__()\n",
      " |  \n",
      " |  __setstate__(...)\n",
      " |      T.__setstate__()\n",
      " |  \n",
      " |  __sizeof__(...)\n",
      " |      T.__sizeof__() -- size of T\n",
      " |  \n",
      " |  ----------------------------------------------------------------------\n",
      " |  Static methods inherited from recordclass.datatype.dataobject:\n",
      " |  \n",
      " |  __new__(*args, **kwargs) from recordclass.datatype.datatype\n",
      " |      Create and return a new object.  See help(type) for accurate signature.\n",
      "\n"
     ]
    }
   ],
   "source": [
    "help(Mode)"
   ]
  },
  {
   "cell_type": "code",
   "execution_count": 3,
   "metadata": {
    "execution": {
     "iopub.execute_input": "2023-08-11T03:12:28.394403Z",
     "iopub.status.busy": "2023-08-11T03:12:28.394403Z",
     "iopub.status.idle": "2023-08-11T03:12:28.413507Z",
     "shell.execute_reply": "2023-08-11T03:12:28.413507Z"
    }
   },
   "outputs": [
    {
     "name": "stdout",
     "output_type": "stream",
     "text": [
      "Help on class SampleApproach in module fmdtools.sim.approach:\n",
      "\n",
      "class SampleApproach(builtins.object)\n",
      " |  SampleApproach(mdl, faults='all', phases='global', modephases={}, join_modephases=False, jointfaults={'faults': 'None'}, sampparams={}, defaultsamp={'samp': 'evenspacing', 'numpts': 1}, reduce_to=False)\n",
      " |  \n",
      " |  Class for defining the sample approach to be used for a set of faults.\n",
      " |  \n",
      " |  Attributes\n",
      " |  ----------\n",
      " |  phases : dict\n",
      " |      phases given to sample the fault modes in\n",
      " |  globalphases : dict\n",
      " |      phases defined in the model\n",
      " |  modephases : dict\n",
      " |      Dictionary of modes associated with each state\n",
      " |  mode_phase_map : dict\n",
      " |      Mapping of modes to their corresponding phases\n",
      " |  tstep : float\n",
      " |      timestep defined in the model\n",
      " |  fxnrates : dict\n",
      " |      overall failure rates for each function\n",
      " |  comprates : dict\n",
      " |      overall failure rates for each component\n",
      " |  jointmodes : list\n",
      " |      (if any) joint fault modes to be injected in the approach\n",
      " |  rates/comprates/rates_timeless : dict\n",
      " |      rates of each mode (fxn, mode) in each model phase, structured {fxnmode: {phaseid:rate}}\n",
      " |  sampletimes : dict\n",
      " |      faults to inject at each time in each phase, structured {phaseid:time:fnxmode}\n",
      " |  weights : dict\n",
      " |      weight to put on each time each fault was injected, structured {fxnmode:phaseid:time:weight}\n",
      " |  sampparams : dict\n",
      " |      parameters used to sample each mode\n",
      " |  scenlist : list\n",
      " |      list of fault scenarios (dicts of faults and properties) that fault propagation iterates through\n",
      " |  scenids : dict\n",
      " |      a list of scenario ids associated with a given fault in a given phase, structured {(fxnmode,phaseid):listofnames}\n",
      " |  mode_phase_map : dict\n",
      " |      a dict of modes and their respective phases to inject with structure {fxnmode:{mode_phase_map:[starttime, endtime]}}\n",
      " |  units : str\n",
      " |      time-units to use in the approach probability model\n",
      " |  unit_factors : dict\n",
      " |      multiplication factors for converting some time units to others.\n",
      " |  \n",
      " |  Methods defined here:\n",
      " |  \n",
      " |  __init__(self, mdl, faults='all', phases='global', modephases={}, join_modephases=False, jointfaults={'faults': 'None'}, sampparams={}, defaultsamp={'samp': 'evenspacing', 'numpts': 1}, reduce_to=False)\n",
      " |      Initializes the sample approach for a given model\n",
      " |      \n",
      " |      Parameters\n",
      " |      ----------\n",
      " |      mdl : Model or Block\n",
      " |          Model to sample.\n",
      " |      faults : str/list/tuple, optional\n",
      " |          - The default is 'all', which gets all fault modes from the model.\n",
      " |          - 'single-component' uses faults from a single component to represent faults from all components \n",
      " |          - 'single-function' uses faults from a single function to represent faults from that type\n",
      " |          - passing the function name only includes modes from that function\n",
      " |          - List of faults of form [(fxn, mode)] to inject in the model.\n",
      " |          -Tuple arguments \n",
      " |              - ('mode type', 'mode','notmode'), gets all modes with 'mode' as a string (e.g. \"mech\", \"comms\", \"loss\" faults). 'notmode' (if given) specifies strings to remove\n",
      " |              - ('mode types', ('mode1', 'mode2')), gets all modes with the listed strings (e.g. \"mech\", \"comms\", \"loss\" faults)\n",
      " |              - ('mode name', 'mode'), gets all modes with the exact name 'mode'\n",
      " |              - ('mode names', ('mode1', 'mode2')), gets all modes with the exact names defined in the tuple\n",
      " |              - ('function class', 'Classname'), which gets all modes from a function with class 'Classname'\n",
      " |              - ('function classes', ('Classname1', 'Classname2')), which gets all modes from a function with the names in the tuple\n",
      " |              - ('single-component', ('fxnname2', 'fxnname2')), which specifies single-component modes in the given functions\n",
      " |      phases: dict or 'global' or list\n",
      " |          Local phases in the model to sample. \n",
      " |              Dict has structure: {'Function':{'phase':[starttime, endtime]}}\n",
      " |              List has structure: ['phase1', 'phase2'] where phases are phases in mdl.sp.phases\n",
      " |          Defaults to 'global',here only the phases defined in mdl.sp.phases are used.\n",
      " |          Phases and modephases can be gotten from process.modephases(mdlhist)\n",
      " |      modephases: dict\n",
      " |          Dictionary of modes associated with each phase. \n",
      " |          For use when the opportunity vector is keyed to modes and each mode is \n",
      " |          entered multiple times in a simulation, resulting in \n",
      " |          multiple phases associated with that mode. Has structure:\n",
      " |              {'Function':{'mode':{'phase','phase1', 'phase2'...}}}\n",
      " |              Phases and modephases can be gotten from process.modephases(mdlhist)\n",
      " |      join_modephases: bool\n",
      " |          Whether to join phases with the same modes defined in modephases. Default is False\n",
      " |      jointfaults : dict, optional\n",
      " |          Defines how the approach considers joint faults. The default is {'faults':'None'}. Has structure:\n",
      " |              - faults : float    \n",
      " |                  # of joint faults to inject. 'all' specifies all faults at the same time\n",
      " |              - jointfuncs :  bool \n",
      " |                  determines whether more than one mode can be injected in a single function\n",
      " |              - pcond (optional) : float in range (0,1) \n",
      " |                  conditional probabilities for joint faults. If not give, independence is assumed.\n",
      " |              - inclusive (optional) : bool\n",
      " |                  specifies whether the fault set includes all joint faults up to the given level, or only the given level\n",
      " |                  (e.g., True with 'all' means SampleApproach includes every combination of joint fault modes while\n",
      " |                         False with 'all' means SampleApproach only includes the joint fault mode with all faults)\n",
      " |              - limit jointphases (optional) : int\n",
      " |                  Limits the number of jointphases to sample (by randomly sampling them instead). Necessary when the\n",
      " |                  number of faults is large\n",
      " |      sampparams : dict, optional\n",
      " |          Defines how specific modes in the model will be sampled over time. The default is {}. \n",
      " |          Has structure: {key: sampparam}, where a key may be 'fxnmode','fxnname','mode', 'phase', or ('fxnmode','phase') \n",
      " |          and sampparam has structure:\n",
      " |              - 'samp' : str ('quad', 'fullint', 'evenspacing','randtimes','symrandtimes')\n",
      " |                  sample strategy to use (quadrature, full integral, even spacing, random times, likeliest, or symmetric random times)\n",
      " |              - 'numpts' : float\n",
      " |                  number of points to use (for evenspacing, randtimes, and symrandtimes only)\n",
      " |              - 'quad' : dict\n",
      " |                  dict with structure {'nodes'[nodelist], 'weights':weightlist}\n",
      " |                  where the nodes in the nodelist range between -1 and 1\n",
      " |                  and the weights in the weightlist sum to 2.\n",
      " |      defaultsamp : TYPE, optional\n",
      " |          Defines how the model will be sampled over time by default. The default is {'samp':'evenspacing','numpts':1}. Has structure:\n",
      " |              - 'samp' : str ('quad', 'fullint', 'evenspacing','randtimes','symrandtimes')\n",
      " |                  sample strategy to use (quadrature, full integral, even spacing, random times,likeliest, or symmetric random times)\n",
      " |              - 'numpts' : float\n",
      " |                  number of points to use (for evenspacing, randtimes, and symrandtimes only)\n",
      " |              - 'quad' : dict\n",
      " |                  dict with structure {'nodes'[nodelist], 'weights':weightlist}\n",
      " |                  where the nodes in the nodelist range between -1 and 1\n",
      " |                  and the weights in the weightlist sum to 2.\n",
      " |      reduce_to : int, optional\n",
      " |          Size of random sample to reduce the number of scenarios to (if any). Default is False.\n",
      " |  \n",
      " |  __repr__(self)\n",
      " |      Return repr(self).\n",
      " |  \n",
      " |  add_phasetimes(self, fxnmode, phaseid, phasetimes, weights=[])\n",
      " |      Adds a set of times for a given mode to sampletimes\n",
      " |  \n",
      " |  calc_intervaltime(self, times, tstep)\n",
      " |  \n",
      " |  create_sampletimes(self, mdl, params={}, default={'samp': 'evenspacing', 'numpts': 1})\n",
      " |      Initializes weights and sampletimes\n",
      " |  \n",
      " |  create_scenarios(self)\n",
      " |      Creates list of scenarios to be iterated over in fault injection. Added as scenlist and scenids\n",
      " |  \n",
      " |  get_id_weights(self)\n",
      " |      Returns a dictionary with weights for each scenario with structure {scenid:weight}\n",
      " |  \n",
      " |  get_scenid_groups(self, group_by='phases', group_dict={})\n",
      " |      Returns a dict with different scenario ids grouped according to group_by. \n",
      " |      group_by: str, with options:\n",
      " |      - 'none':           Returns {'scenid':'scenid'} for all scenarios\n",
      " |      - 'phase':          Returns {(fxnmode, fxnphase):{scenids}}--identical scenarios within a given phase are grouped \n",
      " |      - 'fxnfault':       Returns {fxnmode:{scenids}} All identical scenarios (fxn, mode) are grouped\n",
      " |      - 'mode':           Returns {mode:{scenids}}. All scenarios with the same mode name are grouped\n",
      " |      - 'mode type':      Returns {modetype:scenids}. All scenarios with the same mode type (mode types must be given to the sampleapproach) are grouped\n",
      " |      - 'functions':      Returns {function:scenids}. All scenarios and modes from a given function are grouped.\n",
      " |      - 'times':          Returns {time:scenids}. All scenarios at a given time are grouped.\n",
      " |      - 'fxnclassfault':  Returns {(fxnclass, mode):scenids}. All scenarios (fxnclass, mode) from a given function class are grouped.\n",
      " |      - 'fxnclass':       Returns {fxnclass:scendis}. All scenarios from a given function class are grouped.\n",
      " |      For 'fxnclass', 'fxnclassfault', and 'modetype', a group_dict dictionary must be provided that groups the function/mode classes/types.\n",
      " |      -------------------\n",
      " |      Returns:\n",
      " |      - grouped_scens: dict\n",
      " |            A dictionary of the scenario ids associated with the given group {group:scenids}\n",
      " |  \n",
      " |  init_modelist(self, mdl, faults, jointfaults={'faults': 'None'})\n",
      " |      Initializes comprates, jointmodes internal list of modes\n",
      " |  \n",
      " |  init_rates(self, mdl, jointfaults={'faults': 'None'}, modephases={}, join_modephases=False)\n",
      " |      Initializes rates, rates_timeless\n",
      " |  \n",
      " |  list_moderates(self)\n",
      " |      Returns the rates for each mode\n",
      " |  \n",
      " |  list_modes(self, joint=False)\n",
      " |      Returns a list of modes in the approach\n",
      " |  \n",
      " |  prune_scenarios(self, endclasses, value='cost', samptype='piecewise', threshold=0.1, sampparam={'samp': 'evenspacing', 'numpts': 1})\n",
      " |      Finds the best sample approach to approximate the full integral (given the approach was the full integral).\n",
      " |      \n",
      " |      Parameters\n",
      " |      ----------\n",
      " |      endclasses : dict\n",
      " |          dict of results (cost, rate, expected cost) for the model run indexed by scenid \n",
      " |      value: str\n",
      " |          balue to prune scenarios over. The default is \"cost\"\n",
      " |      samptype : str ('piecewise' or 'bestpt'), optional\n",
      " |          Method to use. \n",
      " |          If 'bestpt', finds the point in the interval that gives the average cost. \n",
      " |          If 'piecewise', attempts to split the inverval into sub-intervals of continuity\n",
      " |          The default is 'piecewise'.\n",
      " |      threshold : float, optional\n",
      " |          If 'piecewise,' the threshold for detecting a discontinuity based on deviation from linearity. The default is 0.1.\n",
      " |      sampparam : float, optional\n",
      " |          If 'piecewise,' the sampparam sampparam to prune to. The default is {'samp':'evenspacing','numpts':1}, which would be a single point (optimal for linear).\n",
      " |  \n",
      " |  reduce_scens_to_samp(self, samp_size=100, seed=None)\n",
      " |      Reduces the number of scenarios (in the scenlist) to a given sample size samp_size. Useful for\n",
      " |      choosing a random subset of an approach which would otherwise have a large number of scenarios.\n",
      " |      Note that many structures may not be preserved and some artefacts may be present.\n",
      " |  \n",
      " |  select_points(self, param, possible_pts)\n",
      " |      Selects points in the list possible_points according to a given sample strategy.\n",
      " |      \n",
      " |      Parameters\n",
      " |      ----------\n",
      " |      param : dict\n",
      " |          Sample parameter. Has structure:\n",
      " |              - 'samp' : str ('quad', 'fullint', 'evenspacing','randtimes','symrandtimes')\n",
      " |                  sample strategy to use (quadrature, full integral, even spacing, random times, or symmetric random times)\n",
      " |              - 'numpts' : float\n",
      " |                  number of points to use (for evenspacing, randtimes, and symrandtimes only)\n",
      " |              - 'quad' : dict\n",
      " |                  dict with structure {'nodes'[nodelist], 'weights':weightlist}\n",
      " |                  where the nodes in the nodelist range between -1 and 1\n",
      " |                  and the weights in the weightlist sum to 2.\n",
      " |      possible_pts : \n",
      " |          list of possible points in time.\n",
      " |      \n",
      " |      Returns\n",
      " |      -------\n",
      " |      pts : list\n",
      " |          selected points\n",
      " |      weights : list\n",
      " |          weights for each point\n",
      " |  \n",
      " |  ----------------------------------------------------------------------\n",
      " |  Data descriptors defined here:\n",
      " |  \n",
      " |  __dict__\n",
      " |      dictionary for instance variables (if defined)\n",
      " |  \n",
      " |  __weakref__\n",
      " |      list of weak references to the object (if defined)\n",
      "\n"
     ]
    }
   ],
   "source": [
    "help(SampleApproach)"
   ]
  },
  {
   "cell_type": "code",
   "execution_count": 4,
   "metadata": {
    "execution": {
     "iopub.execute_input": "2023-08-11T03:12:28.415633Z",
     "iopub.status.busy": "2023-08-11T03:12:28.415633Z",
     "iopub.status.idle": "2023-08-11T03:12:28.434885Z",
     "shell.execute_reply": "2023-08-11T03:12:28.434885Z"
    }
   },
   "outputs": [
    {
     "name": "stdout",
     "output_type": "stream",
     "text": [
      "Help on function approach in module fmdtools.sim.propagate:\n",
      "\n",
      "approach(mdl, app, **kwargs)\n",
      "    Injects and propagates faults in the model defined by a given sample approach\n",
      "    \n",
      "    NOTE: When calling in a script/module using parallel=True, execute using the\n",
      "    protection statement ::\n",
      "    \n",
      "        if __name__ == 'main':\n",
      "            results, mdlhists = approach(mdl, app)\n",
      "    \n",
      "    Otherwise, the method will keep spawning parallel processes.\n",
      "    See multiprocessing documentation.\n",
      "    \n",
      "    Parameters\n",
      "    ----------\n",
      "    mdl : Simulable\n",
      "        The model to inject faults in.\n",
      "    app : sampleapproach\n",
      "        SampleApproach used to define the list of faults and sample time for the model.\n",
      "    **kwargs : kwargs\n",
      "        Additional keyword arguments, may include:\n",
      "    \n",
      "        - :data:`sim_kwargs` : kwargs\n",
      "              Simulation options for :func:`prop_one_scen`\n",
      "        - :data:`run_kwargs` : kwargs\n",
      "              Run options for :func:`nom_helper` and others\n",
      "        - :data:`mult_kwargs` : kwargs\n",
      "              Multi-scenario options\n",
      "    \n",
      "    Returns\n",
      "    -------\n",
      "    results : Result\n",
      "        A Result dictionary with results desired from each scenario corresponding to\n",
      "        desired_result over the set of scenarios.\n",
      "    mdlhists : History\n",
      "        A History dictionary with the tracked scenario (including the nominal)\n",
      "\n"
     ]
    }
   ],
   "source": [
    "help(prop.approach)"
   ]
  },
  {
   "cell_type": "markdown",
   "metadata": {},
   "source": [
    "### Model Setup\n",
    "\n",
    "Consider the following (highly simplified) rover electrical/navigation model. We can define the functions of this rover using the classes:"
   ]
  },
  {
   "cell_type": "code",
   "execution_count": 5,
   "metadata": {
    "execution": {
     "iopub.execute_input": "2023-08-11T03:12:28.437011Z",
     "iopub.status.busy": "2023-08-11T03:12:28.437011Z",
     "iopub.status.idle": "2023-08-11T03:12:28.456200Z",
     "shell.execute_reply": "2023-08-11T03:12:28.456200Z"
    }
   },
   "outputs": [],
   "source": [
    "class Move_Rover(FxnBlock):\n",
    "    def __init__(self,name, flows):\n",
    "        super().__init__(name, flows, flownames={\"EE\":\"EE_in\"})\n",
    "        self.assoc_modes({\"mech_loss\", \"elec_open\"})\n",
    "    def behavior(self, time):\n",
    "        if self.time < time:\n",
    "            power = self.EE_in.v_supply * self.Control.vel *self.no_fault(\"elec_open\")\n",
    "            self.EE_in.a_supply = power/12\n",
    "            if power >100: self.add_fault(\"elec_open\")\n",
    "            else:          self.Ground.x = self.Ground.x + power*self.no_fault(\"mech_loss\")"
   ]
  },
  {
   "cell_type": "markdown",
   "metadata": {},
   "source": [
    "This use of `assoc_modes` specifies that there are two modes to inject, \"mech_loss\", and \"elec_open\", with no more information given for each mode. This is a syntax one might use as one is constructing the model and wishing to verify behaviors, or where modes are only caused behaviorally due to external scenarios. (in this case an open circuit is caused by too much power supply)"
   ]
  },
  {
   "cell_type": "code",
   "execution_count": 6,
   "metadata": {
    "execution": {
     "iopub.execute_input": "2023-08-11T03:12:28.458323Z",
     "iopub.status.busy": "2023-08-11T03:12:28.458323Z",
     "iopub.status.idle": "2023-08-11T03:12:28.477509Z",
     "shell.execute_reply": "2023-08-11T03:12:28.477509Z"
    }
   },
   "outputs": [],
   "source": [
    "class Control_Rover(FxnBlock):\n",
    "    def __init__(self,name, flows):\n",
    "        super().__init__(name, flows)\n",
    "        self.assoc_modes({'no_con':[1e-4, 200]}, ['drive','standby'], initmode='standby')\n",
    "    def behavior(self,time):\n",
    "        if not self.in_mode('no_con'):\n",
    "            if time == 5: self.set_mode('drive')\n",
    "            if time == 50: self.set_mode('standby')\n",
    "        if time>self.time:\n",
    "            if self.in_mode('drive'):\n",
    "                self.Control.power = 1\n",
    "                self.Control.vel = 1\n",
    "            elif self.in_mode('standby'):\n",
    "                self.Control.vel = 0\n",
    "                self.Control.power=0"
   ]
  },
  {
   "cell_type": "markdown",
   "metadata": {},
   "source": [
    "This use of `assoc_modes` specifies modes (`no_con`) with a rate (1e-4) and a repair cost (200), as well as a set of operational modes that the system proceeds through. Specifying operational modes enables one to define different *behaviors* for the system depending on the configuration of the system at a given time. For example, in this function, the system goes into a drive mode at t=5, which powers on the system and outputs a command to move forwaan. \n",
    "\n",
    "When operational modes are specified in the model, an initial mode must also be specified--in this case `initmode='standby'` specifies that the function starts in the standby mode."
   ]
  },
  {
   "cell_type": "code",
   "execution_count": 7,
   "metadata": {
    "execution": {
     "iopub.execute_input": "2023-08-11T03:12:28.479634Z",
     "iopub.status.busy": "2023-08-11T03:12:28.479634Z",
     "iopub.status.idle": "2023-08-11T03:12:28.498304Z",
     "shell.execute_reply": "2023-08-11T03:12:28.498304Z"
    }
   },
   "outputs": [],
   "source": [
    "class Store_Energy(FxnBlock):\n",
    "    def __init__(self, name, flows):\n",
    "        super().__init__(name,flows, states={\"charge\": 100})\n",
    "        self.assoc_modes({\"no_charge\":[1e-5, {'standby':1.0}, 100],\"short\":[1e-5, {'supply':1.0}, 100],}, [\"supply\",\"charge\",\"standby\"], initmode=\"standby\", exclusive = True, key_phases_by='self')\n",
    "    def behavior(self,time):\n",
    "        if time > self.time:\n",
    "            if self.in_mode(\"standby\"):     \n",
    "                self.EE.v_supply = 0; self.EE.a_supply = 0\n",
    "                if self.Control.power==1: self.set_mode(\"supply\")\n",
    "            elif self.in_mode(\"charge\"):    \n",
    "                self.EE.charge =min(self.EE.charge+self.dt, 20)\n",
    "            elif self.in_mode(\"supply\"):\n",
    "                if self.charge > 0:         self.EE.v_supply = 12; self.charge -= int(self.dt)\n",
    "                else: self.set_mode(\"no_charge\")\n",
    "                if self.Control.power==0: self.set_mode(\"standby\")\n",
    "            elif self.in_mode(\"short\"):     self.EE.v_supply = 100; self.charge = 0\n",
    "            elif self.in_mode(\"no_charge\"): self.EE.v_supply=0"
   ]
  },
  {
   "cell_type": "markdown",
   "metadata": {},
   "source": [
    "In addition to operational modes, the Battery Function additionally specifies an *opportunity vector* which defines when each fault mode is likely to occur (and thus be injected in the model). In this case, `no_charge` can only occur during standby mode, while a `short` can only occur during the supply mode. The  `key_phases_by='self'` option specifies that these phases are *internal* to the function. Opporunity vectors can also be keyed to phases in other functions using `key_phases_by='fxnname'` and `key_phases_by='global'`. There are several ways to define this opportunity vector, which will be described later.\n",
    "\n",
    "This model also uses the `exclusive` option, which specifies that fault modes cannot co-occur with operational modes. That is, instead of *modifying* individual mode behaviors, fault modes in this function instead cause the system to enter a new mode with different defined mode behaviors. \n"
   ]
  },
  {
   "cell_type": "code",
   "execution_count": 8,
   "metadata": {
    "execution": {
     "iopub.execute_input": "2023-08-11T03:12:28.500351Z",
     "iopub.status.busy": "2023-08-11T03:12:28.500351Z",
     "iopub.status.idle": "2023-08-11T03:12:28.519042Z",
     "shell.execute_reply": "2023-08-11T03:12:28.519042Z"
    }
   },
   "outputs": [],
   "source": [
    "import fmdtools.analyze as an\n",
    "class Rover(Model):\n",
    "    def __init__(self, params={},\\\n",
    "                 modelparams={'times':[0,60], 'tstep':1, 'phases': {'firsthalf':[0,30], 'secondhalf':[31,60]}},\\\n",
    "                 valparams={}):\n",
    "        super().__init__(params, modelparams, valparams)\n",
    "        \n",
    "        self.add_flow('Ground', {'x':0.0,'y':0.0, 'dir':0.0, 'vel':0.0})\n",
    "        self.add_flow('EE', {'v_supply':0.0, 'a_supply':0.0})\n",
    "        self.add_flow('Control', {'dir':0.0, 'vel':0.0, 'power':0.0})\n",
    "        \n",
    "        self.add_fxn(\"Control_Rover\",[\"EE\", \"Control\"], fclass=Control_Rover)\n",
    "        self.add_fxn(\"Move_Rover\", [\"Ground\",\"EE\", \"Control\"], fclass = Move_Rover)\n",
    "        self.add_fxn(\"Store_Energy\", [\"EE\", \"Control\"], Store_Energy)\n",
    "        \n",
    "        self.build_model()\n",
    "    def find_classification(self, scen, mdlhists):\n",
    "        repcost = self.calc_repaircost()\n",
    "        losscost = self.h.get_fault_time(metric='total')\n",
    "        totcost=repcost+losscost\n",
    "        return {'cost':totcost, 'rate':scen.rate, 'expected cost':totcost*scen.rate}"
   ]
  },
  {
   "cell_type": "markdown",
   "metadata": {},
   "source": [
    "`\"global\"` phases in the model are defined using the 'phases' string in model parameters. Phases define distinct periods or activities of operation when the model may be in a different state (resulting in different potential failure mode effects and opportunities for failure modes to be entered)."
   ]
  },
  {
   "cell_type": "markdown",
   "metadata": {},
   "source": [
    "### Setting up an approach\n",
    "\n",
    "Because this model has an opportunity vector which is keyed by its operational modes, the history of modes needs to be generated for the model to set up the sample approach--otherwise this information cannot be used, as shown below:"
   ]
  },
  {
   "cell_type": "code",
   "execution_count": 9,
   "metadata": {
    "execution": {
     "iopub.execute_input": "2023-08-11T03:12:28.521133Z",
     "iopub.status.busy": "2023-08-11T03:12:28.521133Z",
     "iopub.status.idle": "2023-08-11T03:12:29.032627Z",
     "shell.execute_reply": "2023-08-11T03:12:29.032627Z"
    }
   },
   "outputs": [
    {
     "ename": "Exception",
     "evalue": "Invalid args/kwargs: () , {'times': [0, 60], 'tstep': 1, 'phases': {'firsthalf': [0, 30], 'secondhalf': [31, 60]}} in <class 'fmdtools.define.parameter.Parameter'>",
     "output_type": "error",
     "traceback": [
      "\u001b[1;31m---------------------------------------------------------------------------\u001b[0m",
      "\u001b[1;31mTypeError\u001b[0m                                 Traceback (most recent call last)",
      "\u001b[1;32mc:\\users\\dhulse\\documents\\github\\fmdtools\\fmdtools\\define\\parameter.py\u001b[0m in \u001b[0;36m__init__\u001b[1;34m(self, strict_immutability, check_type, check_pickle, *args, **kwargs)\u001b[0m\n\u001b[0;32m     62\u001b[0m         \u001b[1;32mtry\u001b[0m\u001b[1;33m:\u001b[0m\u001b[1;33m\u001b[0m\u001b[1;33m\u001b[0m\u001b[0m\n\u001b[1;32m---> 63\u001b[1;33m             \u001b[0msuper\u001b[0m\u001b[1;33m(\u001b[0m\u001b[1;33m)\u001b[0m\u001b[1;33m.\u001b[0m\u001b[0m__init__\u001b[0m\u001b[1;33m(\u001b[0m\u001b[1;33m*\u001b[0m\u001b[0margs\u001b[0m\u001b[1;33m,\u001b[0m \u001b[1;33m**\u001b[0m\u001b[0mkwargs\u001b[0m\u001b[1;33m)\u001b[0m\u001b[1;33m\u001b[0m\u001b[1;33m\u001b[0m\u001b[0m\n\u001b[0m\u001b[0;32m     64\u001b[0m         \u001b[1;32mexcept\u001b[0m \u001b[0mTypeError\u001b[0m\u001b[1;33m:\u001b[0m\u001b[1;33m\u001b[0m\u001b[1;33m\u001b[0m\u001b[0m\n",
      "\u001b[1;31mTypeError\u001b[0m: Invalid kwarg",
      "\nDuring handling of the above exception, another exception occurred:\n",
      "\u001b[1;31mException\u001b[0m                                 Traceback (most recent call last)",
      "\u001b[1;32m~\\AppData\\Local\\Temp\\1/ipykernel_4204/3690765673.py\u001b[0m in \u001b[0;36m<module>\u001b[1;34m\u001b[0m\n\u001b[1;32m----> 1\u001b[1;33m \u001b[0mmdl\u001b[0m \u001b[1;33m=\u001b[0m \u001b[0mRover\u001b[0m\u001b[1;33m(\u001b[0m\u001b[1;33m)\u001b[0m\u001b[1;33m\u001b[0m\u001b[1;33m\u001b[0m\u001b[0m\n\u001b[0m\u001b[0;32m      2\u001b[0m \u001b[0mapp\u001b[0m \u001b[1;33m=\u001b[0m \u001b[0mSampleApproach\u001b[0m\u001b[1;33m(\u001b[0m\u001b[0mmdl\u001b[0m\u001b[1;33m)\u001b[0m\u001b[1;33m\u001b[0m\u001b[1;33m\u001b[0m\u001b[0m\n",
      "\u001b[1;32m~\\AppData\\Local\\Temp\\1/ipykernel_4204/3942537109.py\u001b[0m in \u001b[0;36m__init__\u001b[1;34m(self, params, modelparams, valparams)\u001b[0m\n\u001b[0;32m      4\u001b[0m                  \u001b[0mmodelparams\u001b[0m\u001b[1;33m=\u001b[0m\u001b[1;33m{\u001b[0m\u001b[1;34m'times'\u001b[0m\u001b[1;33m:\u001b[0m\u001b[1;33m[\u001b[0m\u001b[1;36m0\u001b[0m\u001b[1;33m,\u001b[0m\u001b[1;36m60\u001b[0m\u001b[1;33m]\u001b[0m\u001b[1;33m,\u001b[0m \u001b[1;34m'tstep'\u001b[0m\u001b[1;33m:\u001b[0m\u001b[1;36m1\u001b[0m\u001b[1;33m,\u001b[0m \u001b[1;34m'phases'\u001b[0m\u001b[1;33m:\u001b[0m \u001b[1;33m{\u001b[0m\u001b[1;34m'firsthalf'\u001b[0m\u001b[1;33m:\u001b[0m\u001b[1;33m[\u001b[0m\u001b[1;36m0\u001b[0m\u001b[1;33m,\u001b[0m\u001b[1;36m30\u001b[0m\u001b[1;33m]\u001b[0m\u001b[1;33m,\u001b[0m \u001b[1;34m'secondhalf'\u001b[0m\u001b[1;33m:\u001b[0m\u001b[1;33m[\u001b[0m\u001b[1;36m31\u001b[0m\u001b[1;33m,\u001b[0m\u001b[1;36m60\u001b[0m\u001b[1;33m]\u001b[0m\u001b[1;33m}\u001b[0m\u001b[1;33m}\u001b[0m\u001b[1;33m,\u001b[0m\u001b[0;31m\\\u001b[0m\u001b[1;33m\u001b[0m\u001b[1;33m\u001b[0m\u001b[0m\n\u001b[0;32m      5\u001b[0m                  valparams={}):\n\u001b[1;32m----> 6\u001b[1;33m         \u001b[0msuper\u001b[0m\u001b[1;33m(\u001b[0m\u001b[1;33m)\u001b[0m\u001b[1;33m.\u001b[0m\u001b[0m__init__\u001b[0m\u001b[1;33m(\u001b[0m\u001b[0mparams\u001b[0m\u001b[1;33m,\u001b[0m \u001b[0mmodelparams\u001b[0m\u001b[1;33m,\u001b[0m \u001b[0mvalparams\u001b[0m\u001b[1;33m)\u001b[0m\u001b[1;33m\u001b[0m\u001b[1;33m\u001b[0m\u001b[0m\n\u001b[0m\u001b[0;32m      7\u001b[0m \u001b[1;33m\u001b[0m\u001b[0m\n\u001b[0;32m      8\u001b[0m         \u001b[0mself\u001b[0m\u001b[1;33m.\u001b[0m\u001b[0madd_flow\u001b[0m\u001b[1;33m(\u001b[0m\u001b[1;34m'Ground'\u001b[0m\u001b[1;33m,\u001b[0m \u001b[1;33m{\u001b[0m\u001b[1;34m'x'\u001b[0m\u001b[1;33m:\u001b[0m\u001b[1;36m0.0\u001b[0m\u001b[1;33m,\u001b[0m\u001b[1;34m'y'\u001b[0m\u001b[1;33m:\u001b[0m\u001b[1;36m0.0\u001b[0m\u001b[1;33m,\u001b[0m \u001b[1;34m'dir'\u001b[0m\u001b[1;33m:\u001b[0m\u001b[1;36m0.0\u001b[0m\u001b[1;33m,\u001b[0m \u001b[1;34m'vel'\u001b[0m\u001b[1;33m:\u001b[0m\u001b[1;36m0.0\u001b[0m\u001b[1;33m}\u001b[0m\u001b[1;33m)\u001b[0m\u001b[1;33m\u001b[0m\u001b[1;33m\u001b[0m\u001b[0m\n",
      "\u001b[1;32mc:\\users\\dhulse\\documents\\github\\fmdtools\\fmdtools\\define\\model.py\u001b[0m in \u001b[0;36m__init__\u001b[1;34m(self, name, p, sp, r, track)\u001b[0m\n\u001b[0;32m     51\u001b[0m     \"\"\"\n\u001b[0;32m     52\u001b[0m     \u001b[1;32mdef\u001b[0m \u001b[0m__init__\u001b[0m\u001b[1;33m(\u001b[0m\u001b[0mself\u001b[0m\u001b[1;33m,\u001b[0m \u001b[0mname\u001b[0m\u001b[1;33m=\u001b[0m\u001b[1;34m''\u001b[0m\u001b[1;33m,\u001b[0m \u001b[0mp\u001b[0m\u001b[1;33m=\u001b[0m\u001b[1;33m{\u001b[0m\u001b[1;33m}\u001b[0m\u001b[1;33m,\u001b[0m \u001b[0msp\u001b[0m\u001b[1;33m=\u001b[0m\u001b[1;33m{\u001b[0m\u001b[1;33m}\u001b[0m\u001b[1;33m,\u001b[0m \u001b[0mr\u001b[0m\u001b[1;33m=\u001b[0m\u001b[1;33m{\u001b[0m\u001b[1;33m}\u001b[0m\u001b[1;33m,\u001b[0m \u001b[0mtrack\u001b[0m\u001b[1;33m=\u001b[0m\u001b[1;34m''\u001b[0m\u001b[1;33m)\u001b[0m\u001b[1;33m:\u001b[0m\u001b[1;33m\u001b[0m\u001b[1;33m\u001b[0m\u001b[0m\n\u001b[1;32m---> 53\u001b[1;33m         \u001b[0msuper\u001b[0m\u001b[1;33m(\u001b[0m\u001b[1;33m)\u001b[0m\u001b[1;33m.\u001b[0m\u001b[0m__init__\u001b[0m\u001b[1;33m(\u001b[0m\u001b[0mname\u001b[0m\u001b[1;33m=\u001b[0m\u001b[0mname\u001b[0m\u001b[1;33m,\u001b[0m \u001b[0mp\u001b[0m\u001b[1;33m=\u001b[0m\u001b[0mp\u001b[0m\u001b[1;33m,\u001b[0m \u001b[0msp\u001b[0m\u001b[1;33m=\u001b[0m\u001b[0msp\u001b[0m\u001b[1;33m,\u001b[0m \u001b[0mr\u001b[0m\u001b[1;33m=\u001b[0m\u001b[0mr\u001b[0m\u001b[1;33m,\u001b[0m \u001b[0mtrack\u001b[0m\u001b[1;33m=\u001b[0m\u001b[0mtrack\u001b[0m\u001b[1;33m)\u001b[0m\u001b[1;33m\u001b[0m\u001b[1;33m\u001b[0m\u001b[0m\n\u001b[0m\u001b[0;32m     54\u001b[0m \u001b[1;33m\u001b[0m\u001b[0m\n\u001b[0;32m     55\u001b[0m         \u001b[0mself\u001b[0m\u001b[1;33m.\u001b[0m\u001b[0mfxns\u001b[0m\u001b[1;33m=\u001b[0m\u001b[0mdict\u001b[0m\u001b[1;33m(\u001b[0m\u001b[1;33m)\u001b[0m\u001b[1;33m\u001b[0m\u001b[1;33m\u001b[0m\u001b[0m\n",
      "\u001b[1;32mc:\\users\\dhulse\\documents\\github\\fmdtools\\fmdtools\\define\\block.py\u001b[0m in \u001b[0;36m__init__\u001b[1;34m(self, name, p, sp, r, track)\u001b[0m\n\u001b[0;32m    131\u001b[0m         \u001b[1;32mif\u001b[0m \u001b[1;32mnot\u001b[0m \u001b[0msp\u001b[0m\u001b[1;33m:\u001b[0m\u001b[1;33m\u001b[0m\u001b[1;33m\u001b[0m\u001b[0m\n\u001b[0;32m    132\u001b[0m             \u001b[0msp\u001b[0m \u001b[1;33m=\u001b[0m \u001b[0mself\u001b[0m\u001b[1;33m.\u001b[0m\u001b[0mdefault_sp\u001b[0m\u001b[1;33m\u001b[0m\u001b[1;33m\u001b[0m\u001b[0m\n\u001b[1;32m--> 133\u001b[1;33m         \u001b[0minit_obj_attr\u001b[0m\u001b[1;33m(\u001b[0m\u001b[0mself\u001b[0m\u001b[1;33m,\u001b[0m \u001b[0mp\u001b[0m\u001b[1;33m=\u001b[0m\u001b[0mp\u001b[0m\u001b[1;33m,\u001b[0m \u001b[0msp\u001b[0m\u001b[1;33m=\u001b[0m\u001b[0msp\u001b[0m\u001b[1;33m,\u001b[0m \u001b[0mr\u001b[0m\u001b[1;33m=\u001b[0m\u001b[0mr\u001b[0m\u001b[1;33m)\u001b[0m\u001b[1;33m\u001b[0m\u001b[1;33m\u001b[0m\u001b[0m\n\u001b[0m\u001b[0;32m    134\u001b[0m \u001b[1;33m\u001b[0m\u001b[0m\n\u001b[0;32m    135\u001b[0m     \u001b[1;32mdef\u001b[0m \u001b[0madd_flow_hist\u001b[0m\u001b[1;33m(\u001b[0m\u001b[0mself\u001b[0m\u001b[1;33m,\u001b[0m \u001b[0mhist\u001b[0m\u001b[1;33m,\u001b[0m \u001b[0mtimerange\u001b[0m\u001b[1;33m,\u001b[0m \u001b[0mtrack\u001b[0m\u001b[1;33m)\u001b[0m\u001b[1;33m:\u001b[0m\u001b[1;33m\u001b[0m\u001b[1;33m\u001b[0m\u001b[0m\n",
      "\u001b[1;32mc:\\users\\dhulse\\documents\\github\\fmdtools\\fmdtools\\define\\common.py\u001b[0m in \u001b[0;36minit_obj_attr\u001b[1;34m(obj, **attrs)\u001b[0m\n\u001b[0;32m    189\u001b[0m         \u001b[0msetattr\u001b[0m\u001b[1;33m(\u001b[0m\u001b[0mobj\u001b[0m\u001b[1;33m,\u001b[0m \u001b[1;34m'_args_'\u001b[0m\u001b[1;33m+\u001b[0m\u001b[0mat\u001b[0m\u001b[1;33m,\u001b[0m \u001b[0mat_arg\u001b[0m\u001b[1;33m)\u001b[0m\u001b[1;33m\u001b[0m\u001b[1;33m\u001b[0m\u001b[0m\n\u001b[0;32m    190\u001b[0m         \u001b[0minit_at\u001b[0m \u001b[1;33m=\u001b[0m \u001b[0mgetattr\u001b[0m\u001b[1;33m(\u001b[0m\u001b[0mobj\u001b[0m\u001b[1;33m,\u001b[0m \u001b[1;34m'_init_'\u001b[0m\u001b[1;33m+\u001b[0m\u001b[0mat\u001b[0m\u001b[1;33m)\u001b[0m\u001b[1;33m\u001b[0m\u001b[1;33m\u001b[0m\u001b[0m\n\u001b[1;32m--> 191\u001b[1;33m         \u001b[0msetattr\u001b[0m\u001b[1;33m(\u001b[0m\u001b[0mobj\u001b[0m\u001b[1;33m,\u001b[0m \u001b[0mat\u001b[0m\u001b[1;33m,\u001b[0m \u001b[0minit_at\u001b[0m\u001b[1;33m(\u001b[0m\u001b[1;33m**\u001b[0m\u001b[0mat_arg\u001b[0m\u001b[1;33m)\u001b[0m\u001b[1;33m)\u001b[0m\u001b[1;33m\u001b[0m\u001b[1;33m\u001b[0m\u001b[0m\n\u001b[0m\u001b[0;32m    192\u001b[0m \u001b[1;33m\u001b[0m\u001b[0m\n\u001b[0;32m    193\u001b[0m \u001b[1;33m\u001b[0m\u001b[0m\n",
      "\u001b[1;32mc:\\users\\dhulse\\documents\\github\\fmdtools\\fmdtools\\define\\parameter.py\u001b[0m in \u001b[0;36m__init__\u001b[1;34m(self, strict_immutability, check_type, check_pickle, *args, **kwargs)\u001b[0m\n\u001b[0;32m     63\u001b[0m             \u001b[0msuper\u001b[0m\u001b[1;33m(\u001b[0m\u001b[1;33m)\u001b[0m\u001b[1;33m.\u001b[0m\u001b[0m__init__\u001b[0m\u001b[1;33m(\u001b[0m\u001b[1;33m*\u001b[0m\u001b[0margs\u001b[0m\u001b[1;33m,\u001b[0m \u001b[1;33m**\u001b[0m\u001b[0mkwargs\u001b[0m\u001b[1;33m)\u001b[0m\u001b[1;33m\u001b[0m\u001b[1;33m\u001b[0m\u001b[0m\n\u001b[0;32m     64\u001b[0m         \u001b[1;32mexcept\u001b[0m \u001b[0mTypeError\u001b[0m\u001b[1;33m:\u001b[0m\u001b[1;33m\u001b[0m\u001b[1;33m\u001b[0m\u001b[0m\n\u001b[1;32m---> 65\u001b[1;33m             raise Exception(\"Invalid args/kwargs: \"+str(args)+\" , \" +\n\u001b[0m\u001b[0;32m     66\u001b[0m                             str(kwargs)+\" in \"+str(self.__class__))\n\u001b[0;32m     67\u001b[0m         \u001b[1;32mif\u001b[0m \u001b[0mstrict_immutability\u001b[0m\u001b[1;33m:\u001b[0m\u001b[1;33m\u001b[0m\u001b[1;33m\u001b[0m\u001b[0m\n",
      "\u001b[1;31mException\u001b[0m: Invalid args/kwargs: () , {'times': [0, 60], 'tstep': 1, 'phases': {'firsthalf': [0, 30], 'secondhalf': [31, 60]}} in <class 'fmdtools.define.parameter.Parameter'>"
     ]
    }
   ],
   "source": [
    "mdl = Rover()\n",
    "app = SampleApproach(mdl)"
   ]
  },
  {
   "cell_type": "markdown",
   "metadata": {},
   "source": [
    "To form this history, the model is run in the nominal scenario, as shown."
   ]
  },
  {
   "cell_type": "code",
   "execution_count": 10,
   "metadata": {},
   "outputs": [],
   "source": [
    "endclass ,mdlhist = prop.nominal(mdl)\n",
    "mdlhist['functions']['Store_Energy']"
   ]
  },
  {
   "cell_type": "markdown",
   "metadata": {},
   "source": [
    "To get the phase information, the 'process.modephases' method is used."
   ]
  },
  {
   "cell_type": "code",
   "execution_count": 11,
   "metadata": {},
   "outputs": [],
   "source": [
    "phases, modephases = mdlhist.get_modephases()"
   ]
  },
  {
   "cell_type": "markdown",
   "metadata": {},
   "source": [
    "Which returns `phases`, the phases of operation for each function where operational modes were defined:"
   ]
  },
  {
   "cell_type": "code",
   "execution_count": 12,
   "metadata": {},
   "outputs": [],
   "source": [
    "phases"
   ]
  },
  {
   "cell_type": "markdown",
   "metadata": {},
   "source": [
    "as well as `modephases`, which lists the phases associated with each mode."
   ]
  },
  {
   "cell_type": "code",
   "execution_count": 13,
   "metadata": {},
   "outputs": [],
   "source": [
    "modephases"
   ]
  },
  {
   "cell_type": "markdown",
   "metadata": {},
   "source": [
    "These phases can be visualized with `an.plot.phases`"
   ]
  },
  {
   "cell_type": "code",
   "execution_count": 14,
   "metadata": {},
   "outputs": [],
   "source": [
    "fig = an.plot.phases(phases,modephases)"
   ]
  },
  {
   "cell_type": "markdown",
   "metadata": {},
   "source": [
    "To correctly sample according to the fault model's intent (that each fault can occur within each `mode`), SampleApproach is given both `phases` and `modephases`, as shown below."
   ]
  },
  {
   "cell_type": "code",
   "execution_count": 15,
   "metadata": {},
   "outputs": [],
   "source": [
    "app_correct = SampleApproach(mdl, phases=phases, modephases=modephases)\n",
    "app_correct.sampletimes"
   ]
  },
  {
   "cell_type": "code",
   "execution_count": null,
   "metadata": {},
   "outputs": [],
   "source": [
    "type(tuple(phases.values())[0])"
   ]
  },
  {
   "cell_type": "code",
   "execution_count": null,
   "metadata": {},
   "outputs": [],
   "source": [
    "app_incorrect = SampleApproach(mdl, phases=phases)\n",
    "app_incorrect.sampletimes"
   ]
  },
  {
   "cell_type": "markdown",
   "metadata": {},
   "source": [
    "As shown, in the first sampleapproach, only the first phases of the mode are sampled, and not the second phases, because there is nothing to tell the approach which phases are associated with which mode, and the opportunity vector was keyed by modes. However, there are cases where it may not be necessary to provide `modephases` when providing , specifically:\n",
    "- If the opportunity vector is defined in terms of local `phases` directly instead of `modes`, (e.g. by `{standby`:rate, `supply`:rate, `standby1`:rate}))\n",
    "- If only the first phase is of interest\n",
    "- If all fault modes are keyed by `global` phases"
   ]
  },
  {
   "cell_type": "markdown",
   "metadata": {},
   "source": [
    "Note how different opportunity vectors lead to different sample approaches:"
   ]
  },
  {
   "cell_type": "code",
   "execution_count": null,
   "metadata": {},
   "outputs": [],
   "source": [
    "app_correct.sampletimes"
   ]
  },
  {
   "cell_type": "markdown",
   "metadata": {},
   "source": [
    "- `Move_Rover`, and `Control_Rover`, where no opportunity vector was provided, are sampled once in the middle of an `operating` phase\n",
    "- `Store_Energy` is sampled once in each given phase (defined itself).\n",
    "- None of the modes are sampled during the global phases (although they could be, if that was provided in the function defintion)"
   ]
  },
  {
   "cell_type": "markdown",
   "metadata": {},
   "source": [
    "Joint fault modes can additionally be inserted in the model. These fault modes are given their own phases for rates and injection times by finding the overlap between the operational phases of their constituent modes:"
   ]
  },
  {
   "cell_type": "code",
   "execution_count": null,
   "metadata": {},
   "outputs": [],
   "source": [
    "app_joint = SampleApproach(mdl, phases=phases, modephases=modephases, jointfaults = {'faults':2})\n",
    "app_joint.sampletimes"
   ]
  },
  {
   "cell_type": "markdown",
   "metadata": {},
   "source": [
    "### Propagating Faults\n",
    "\n",
    "Given the fault sampling approach, the faults can then be propagated through the model to get results. Note that these faults can be sampled in parallel if desired using a user-provided pool (see the parallel pool tutorial in the `\\pump example` folder)."
   ]
  },
  {
   "cell_type": "code",
   "execution_count": null,
   "metadata": {},
   "outputs": [],
   "source": [
    "endclasses, mdlhists = prop.approach(mdl, app_correct)"
   ]
  },
  {
   "cell_type": "code",
   "execution_count": null,
   "metadata": {},
   "outputs": [],
   "source": [
    "endclasses"
   ]
  },
  {
   "cell_type": "markdown",
   "metadata": {},
   "source": [
    "Note that the results here reflect the lack of information given for rates in the `Control_Rover` and `Move_Rover` functions (which default to a value of 1) and the rates do not correspond *direct* to the given rates because rates shown here are per-run rates which are spread over the model. Additionally, all scenarios default to a cost of 1 because of the lack of a classification function."
   ]
  },
  {
   "cell_type": "markdown",
   "metadata": {},
   "source": [
    "These responses can be visualized:"
   ]
  },
  {
   "cell_type": "code",
   "execution_count": null,
   "metadata": {},
   "outputs": [],
   "source": [
    "an.plot.samplemetrics(app_correct, endclasses)"
   ]
  },
  {
   "cell_type": "markdown",
   "metadata": {},
   "source": [
    "## Time Sampling Options\n",
    "Above shows the default time-sampling option--a single fault sample in the middle of the operational phase. However, this approach can be varied to include multiple points for a more accurate sample. This is varied using the options:\n",
    "- defaultsamp (a dict), which specifies the default sampling approach for all faults/phases\n",
    "- sampparams  (a dict), which specifies the sampling approach for individual faults/phases not included in the default"
   ]
  },
  {
   "cell_type": "markdown",
   "metadata": {},
   "source": [
    "For example, in the following approach, we specify that each phase is represented by three evenly-spaced points"
   ]
  },
  {
   "cell_type": "code",
   "execution_count": null,
   "metadata": {},
   "outputs": [],
   "source": [
    "app_three = SampleApproach(mdl, phases=phases, modephases=modephases, defaultsamp={'samp':'evenspacing', 'numpts':3})"
   ]
  },
  {
   "cell_type": "code",
   "execution_count": null,
   "metadata": {},
   "outputs": [],
   "source": [
    "app_three.times"
   ]
  },
  {
   "cell_type": "code",
   "execution_count": null,
   "metadata": {},
   "outputs": [],
   "source": [
    "endclasses_three, mdlhists_three = prop.approach(mdl, app_three)"
   ]
  },
  {
   "cell_type": "code",
   "execution_count": null,
   "metadata": {},
   "outputs": [],
   "source": [
    "an.plot.samplemetrics(app_three, endclasses_three)"
   ]
  },
  {
   "cell_type": "markdown",
   "metadata": {},
   "source": [
    "We can also supply a quadrature externally by specifying a dictionary with node and weight positions. These can come from an external quadrature generator (e.g., quadpy, scipy)."
   ]
  },
  {
   "cell_type": "code",
   "execution_count": null,
   "metadata": {},
   "outputs": [],
   "source": [
    "from scipy import integrate\n",
    "nodes, weights = integrate._quadrature._cached_roots_legendre(3)"
   ]
  },
  {
   "cell_type": "code",
   "execution_count": null,
   "metadata": {},
   "outputs": [],
   "source": [
    "nodes"
   ]
  },
  {
   "cell_type": "code",
   "execution_count": null,
   "metadata": {},
   "outputs": [],
   "source": [
    "weights"
   ]
  },
  {
   "cell_type": "code",
   "execution_count": null,
   "metadata": {},
   "outputs": [],
   "source": [
    "app_quad = SampleApproach(mdl, phases=phases, modephases=modephases, defaultsamp={'samp':'quadrature', 'quad': {'nodes':nodes,'weights':weights}})\n",
    "endclasses_quad, mdlhists_quad = prop.approach(mdl, app_quad)"
   ]
  },
  {
   "cell_type": "code",
   "execution_count": null,
   "metadata": {},
   "outputs": [],
   "source": [
    "app_quad.times"
   ]
  },
  {
   "cell_type": "markdown",
   "metadata": {},
   "source": [
    "As shown, while the times are *similar* to an evenly-spaced quadrature, they are not quite the same. Additionally, the weights of the quadrature mean that some points matter more when calculating the overall sum of sample costs. This can be visualized below:"
   ]
  },
  {
   "cell_type": "code",
   "execution_count": null,
   "metadata": {},
   "outputs": [],
   "source": [
    "an.plot.samplemetrics(app_quad, endclasses_quad)"
   ]
  },
  {
   "cell_type": "markdown",
   "metadata": {},
   "source": [
    "We can also sample every time--this is costly (often prohibitively). However, one has more assurance with a full approach that the overall integration will be accurate, an important consideration when the resilience loss function is nonlinear (e.g., systems where there are delays or step-changes in the faulty behavior)"
   ]
  },
  {
   "cell_type": "code",
   "execution_count": null,
   "metadata": {},
   "outputs": [],
   "source": [
    "app_full = SampleApproach(mdl, phases=phases, modephases=modephases, defaultsamp={'samp':'fullint'})\n",
    "endclasses_full, mdlhists_full = prop.approach(mdl, app_full)"
   ]
  },
  {
   "cell_type": "code",
   "execution_count": null,
   "metadata": {},
   "outputs": [],
   "source": [
    "an.plot.samplemetrics(app_full, endclasses_full)"
   ]
  },
  {
   "cell_type": "markdown",
   "metadata": {},
   "source": [
    "As shown, the cost function is effectively linear over time. This is expected, since the costs we put in `find_classification` are based on the amount of time the fault is present in the simulation."
   ]
  },
  {
   "cell_type": "markdown",
   "metadata": {},
   "source": [
    "### Pruning\n",
    "\n",
    "SampleApproach pruning can be used to reduce the number of points used to represent the overall costs. A pruned approach could then be used to re-run the set of faults at reduced computational costs, provided the time-based behavior has not changed significantly. This is performed using the SampleApproach.prune_scenarios method."
   ]
  },
  {
   "cell_type": "code",
   "execution_count": null,
   "metadata": {},
   "outputs": [],
   "source": [
    "help(app_full.prune_scenarios)"
   ]
  },
  {
   "cell_type": "code",
   "execution_count": null,
   "metadata": {},
   "outputs": [],
   "source": [
    "app_full.prune_scenarios(endclasses_full)"
   ]
  },
  {
   "cell_type": "code",
   "execution_count": null,
   "metadata": {},
   "outputs": [],
   "source": [
    "app_full.times"
   ]
  },
  {
   "cell_type": "code",
   "execution_count": null,
   "metadata": {},
   "outputs": [],
   "source": [
    "endclasses_pruned, mdlhists_pruned = prop.approach(mdl, app_full)"
   ]
  },
  {
   "cell_type": "markdown",
   "metadata": {},
   "source": [
    "As shown, with the default options the pruned sampling approach applies a centered single-point, as would happen using the default options. This would change if there were nonlinearities in the resilience loss function."
   ]
  },
  {
   "cell_type": "code",
   "execution_count": null,
   "metadata": {},
   "outputs": [],
   "source": [
    "an.plot.samplemetrics(app_full, endclasses_pruned)"
   ]
  },
  {
   "cell_type": "markdown",
   "metadata": {},
   "source": [
    "A more detailed investigation of sampling approaches is provided in `/example_pump/IDETC_Results/IDETC_Figures.ipynb` and its corresponding paper:\n",
    "\n",
    "*Hulse, D., Hoyle, C., Tumer, I. Y., Goebel, K., & Kulkarni, C. (2020, August). Temporal Fault Injection Considerations in Resilience Quantification. In International Design Engineering Technical Conferences and Computers and Information in Engineering Conference (Vol. 84003, p. V11AT11A040). American Society of Mechanical Engineers.*"
   ]
  },
  {
   "cell_type": "code",
   "execution_count": null,
   "metadata": {},
   "outputs": [],
   "source": []
  }
 ],
 "metadata": {
  "kernelspec": {
   "display_name": "Python 3 (ipykernel)",
   "language": "python",
   "name": "python3"
  },
  "language_info": {
   "codemirror_mode": {
    "name": "ipython",
    "version": 3
   },
   "file_extension": ".py",
   "mimetype": "text/x-python",
   "name": "python",
   "nbconvert_exporter": "python",
   "pygments_lexer": "ipython3",
   "version": "3.9.7"
  }
 },
 "nbformat": 4,
 "nbformat_minor": 4
}
