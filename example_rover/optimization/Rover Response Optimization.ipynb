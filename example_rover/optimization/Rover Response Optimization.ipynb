{
 "cells": [
  {
   "cell_type": "markdown",
   "metadata": {},
   "source": [
    "## Rover Response Optimization\n",
    "\n",
    "This notebook shows how variables in an fmdtools model can be optimized for resilience."
   ]
  },
  {
   "cell_type": "code",
   "execution_count": 1,
   "metadata": {},
   "outputs": [],
   "source": [
    "import sys, os\n",
    "sys.path.insert(0, os.path.join('..'))\n",
    "sys.path.insert(0, os.path.join('..','..'))\n",
    "\n",
    "from fmdtools.modeldef import *\n",
    "import fmdtools.resultdisp as rd\n",
    "import fmdtools.faultsim.propagate as prop\n",
    "import fmdtools.faultsim.search as search\n",
    "import matplotlib.pyplot as plt\n",
    "import multiprocessing as mp\n",
    "import time"
   ]
  },
  {
   "cell_type": "markdown",
   "metadata": {},
   "source": [
    "Model is in defined rover_model.py"
   ]
  },
  {
   "cell_type": "code",
   "execution_count": 2,
   "metadata": {},
   "outputs": [],
   "source": [
    "from rover_model import Rover, gen_params, plot_map, plot_trajectories"
   ]
  },
  {
   "cell_type": "markdown",
   "metadata": {},
   "source": [
    "## Optimization\n",
    "\n",
    "Here we define the optimization problem for the rover.\n",
    "\n",
    "We use a parallel pool, staged execution, and minimal tracking options to lower computational cost as much as possible."
   ]
  },
  {
   "cell_type": "code",
   "execution_count": 3,
   "metadata": {},
   "outputs": [],
   "source": [
    "mdl = Rover()\n",
    "mdl.modelparams['use_end_condition']=False\n",
    "track={'functions':{\"Environment\":\"in_bound\"},'flows':{\"Ground\":\"all\"}}\n",
    "rover_prob = search.ProblemInterface(\"rover_problem\", mdl, pool=mp.Pool(5), staged=True, track=track)"
   ]
  },
  {
   "cell_type": "code",
   "execution_count": 4,
   "metadata": {},
   "outputs": [
    {
     "data": {
      "text/plain": [
       "{'linetype': 'turn',\n",
       " 'radius': 20,\n",
       " 'start': 20,\n",
       " 'initangle': 0.0,\n",
       " 'end': [40, 40],\n",
       " 'ub_f': 10,\n",
       " 'lb_f': -1,\n",
       " 'ub_t': 10,\n",
       " 'lb_t': -1,\n",
       " 'ub_d': 2,\n",
       " 'lb_d': -2,\n",
       " 'cor_f': 1,\n",
       " 'cor_d': 1,\n",
       " 'cor_t': 1,\n",
       " 'degradation': {'friction': 0.0, 'drift': 0.0}}"
      ]
     },
     "execution_count": 4,
     "metadata": {},
     "output_type": "execute_result"
    }
   ],
   "source": [
    "mdl.params"
   ]
  },
  {
   "cell_type": "markdown",
   "metadata": {},
   "source": [
    "Here we will be optimizing over faults in the drive system at 3 points during the drive simulation interval:"
   ]
  },
  {
   "cell_type": "code",
   "execution_count": 5,
   "metadata": {},
   "outputs": [],
   "source": [
    "app_drive = SampleApproach(mdl, faults='Drive', phases={'global':[0,39]}, defaultsamp={'samp':'evenspacing','numpts':3})\n",
    "rover_prob.add_simulation(\"drive_faults\", \"multi\", app_drive.scenlist)"
   ]
  },
  {
   "cell_type": "markdown",
   "metadata": {},
   "source": [
    "The variables are the correction factors int the fault management: "
   ]
  },
  {
   "cell_type": "code",
   "execution_count": 6,
   "metadata": {},
   "outputs": [],
   "source": [
    "rover_prob.add_variables(\"drive_faults\", (\"cor_f\", (-10,100)), (\"cor_d\", (-100, 100)), (\"cor_t\", (-10,100)), vartype=\"param\")"
   ]
  },
  {
   "cell_type": "markdown",
   "metadata": {},
   "source": [
    "We can define multiple objectives, below we will use the end distance from find_classification. "
   ]
  },
  {
   "cell_type": "code",
   "execution_count": 7,
   "metadata": {},
   "outputs": [],
   "source": [
    "rover_prob.add_objectives(\"drive_faults\", end_dist=\"end_dist\", tot_deviation=\"tot_deviation\")"
   ]
  },
  {
   "cell_type": "markdown",
   "metadata": {},
   "source": [
    "Here we do some basic timing:"
   ]
  },
  {
   "cell_type": "code",
   "execution_count": 8,
   "metadata": {},
   "outputs": [],
   "source": [
    "rover_prob.end_dist([0.5,0.5,0.5])\n",
    "a=time.time()\n",
    "rover_prob.end_dist([0.6,0.5,0.5])\n",
    "t=time.time()-a"
   ]
  },
  {
   "cell_type": "code",
   "execution_count": 9,
   "metadata": {},
   "outputs": [
    {
     "data": {
      "text/plain": [
       "1.062434196472168"
      ]
     },
     "execution_count": 9,
     "metadata": {},
     "output_type": "execute_result"
    }
   ],
   "source": [
    "t"
   ]
  },
  {
   "cell_type": "code",
   "execution_count": 10,
   "metadata": {},
   "outputs": [
    {
     "data": {
      "text/plain": [
       "Problem rover_problem                                                   current value\n",
       " Variables\n",
       " -param cor_f at t=0: (-10, 100)                                               0.6000\n",
       " -param cor_d at t=0: (-100, 100)                                              0.5000\n",
       " -param cor_t at t=0: (-10, 100)                                               0.5000\n",
       " Objectives\n",
       " -end_dist: +sum(drive_faults endclass end_dist at t=end)                   4092.9231\n",
       " -tot_deviation: +sum(drive_faults endclass tot_deviation at t=end)              0.0000\n",
       " Constraints\n",
       " -\n",
       " Simulations\n",
       " -drive_faults: multi scen: "
      ]
     },
     "execution_count": 10,
     "metadata": {},
     "output_type": "execute_result"
    }
   ],
   "source": [
    "rover_prob"
   ]
  },
  {
   "cell_type": "markdown",
   "metadata": {},
   "source": [
    "### Rover Optimization: "
   ]
  },
  {
   "cell_type": "code",
   "execution_count": 12,
   "metadata": {},
   "outputs": [],
   "source": [
    "from pymoo.optimize import minimize\n",
    "from pymoo.algorithms.soo.nonconvex.pattern import PatternSearch\n",
    "import numpy as np"
   ]
  },
  {
   "cell_type": "code",
   "execution_count": 13,
   "metadata": {},
   "outputs": [],
   "source": [
    "pymoo_prob = rover_prob.to_pymoo_problem(objectives=\"end_dist\")"
   ]
  },
  {
   "cell_type": "code",
   "execution_count": 14,
   "metadata": {},
   "outputs": [],
   "source": [
    "arg={}\n",
    "pymoo_prob._evaluate([1,1,2],arg)"
   ]
  },
  {
   "cell_type": "code",
   "execution_count": 15,
   "metadata": {},
   "outputs": [
    {
     "data": {
      "text/plain": [
       "{'F': array([[4043.51745229]])}"
      ]
     },
     "execution_count": 15,
     "metadata": {},
     "output_type": "execute_result"
    }
   ],
   "source": [
    "arg"
   ]
  },
  {
   "cell_type": "code",
   "execution_count": 16,
   "metadata": {},
   "outputs": [],
   "source": [
    "algorithm=PatternSearch(x0=np.array([0,0,0])) "
   ]
  },
  {
   "cell_type": "code",
   "execution_count": 17,
   "metadata": {},
   "outputs": [
    {
     "name": "stdout",
     "output_type": "stream",
     "text": [
      "=================================================\n",
      "n_gen  |  n_eval  |     f_avg     |     f_min    \n",
      "=================================================\n",
      "     1 |        1 |  4.722458E+03 |  4.722458E+03\n",
      "     2 |        6 |  4.619667E+03 |  4.516875E+03\n",
      "     3 |       13 |  4.514388E+03 |  4.511902E+03\n",
      "     4 |       20 |  4.511902E+03 |  4.511902E+03\n",
      "     5 |       25 |  4.508415E+03 |  4.504927E+03\n",
      "     6 |       32 |  4.504927E+03 |  4.504927E+03\n",
      "     7 |       38 |  4.462585E+03 |  4.420243E+03\n",
      "     8 |       43 |  4.366915E+03 |  4.313588E+03\n",
      "     9 |       50 |  4.291354E+03 |  4.269120E+03\n",
      "    10 |       57 |  4.269120E+03 |  4.269120E+03\n",
      "    11 |       61 |  4.207746E+03 |  4.146372E+03\n",
      "    12 |       68 |  4.146372E+03 |  4.146372E+03\n",
      "    13 |       73 |  4.120119E+03 |  4.093866E+03\n",
      "    14 |       79 |  4.045949E+03 |  3.998033E+03\n",
      "    15 |       85 |  3.974255E+03 |  3.950477E+03\n",
      "    16 |       91 |  3.939813E+03 |  3.929149E+03\n",
      "    17 |       97 |  3.952247E+03 |  3.929149E+03\n",
      "    18 |      103 |  3.927751E+03 |  3.926354E+03\n",
      "    19 |      108 |  3.930004E+03 |  3.926354E+03\n",
      "    20 |      114 |  3.926294E+03 |  3.926234E+03\n",
      "    21 |      121 |  3.926234E+03 |  3.926234E+03\n",
      "    22 |      127 |  3.926234E+03 |  3.926234E+03\n",
      "    23 |      132 |  3.925901E+03 |  3.925569E+03\n",
      "    24 |      138 |  3.925563E+03 |  3.925557E+03\n",
      "    25 |      145 |  3.925551E+03 |  3.925545E+03\n",
      "    26 |      151 |  3.925689E+03 |  3.925545E+03\n",
      "    27 |      155 |  3.918684E+03 |  3.911824E+03\n",
      "    28 |      161 |  3.911822E+03 |  3.911821E+03\n",
      "    29 |      167 |  3.911819E+03 |  3.911817E+03\n",
      "    30 |      173 |  3.911815E+03 |  3.911812E+03\n",
      "    31 |      179 |  3.911810E+03 |  3.911808E+03\n",
      "    32 |      185 |  3.911806E+03 |  3.911804E+03\n",
      "    33 |      191 |  3.911955E+03 |  3.911804E+03\n",
      "    34 |      195 |  3.911676E+03 |  3.911548E+03\n",
      "    35 |      201 |  3.911548E+03 |  3.911548E+03\n",
      "    36 |      207 |  3.911547E+03 |  3.911547E+03\n",
      "    37 |      213 |  3.911699E+03 |  3.911547E+03\n",
      "    38 |      218 |  3.910799E+03 |  3.910050E+03\n",
      "    39 |      223 |  3.910378E+03 |  3.910050E+03\n",
      "    40 |      228 |  3.910050E+03 |  3.910050E+03\n",
      "    41 |      234 |  3.910050E+03 |  3.910050E+03\n",
      "    42 |      240 |  3.910050E+03 |  3.910050E+03\n",
      "    43 |      246 |  3.910202E+03 |  3.910050E+03\n",
      "    44 |      251 |  3.910050E+03 |  3.910050E+03\n",
      "    45 |      257 |  3.910050E+03 |  3.910050E+03\n",
      "    46 |      264 |  3.910050E+03 |  3.910050E+03\n",
      "    47 |      270 |  3.910202E+03 |  3.910050E+03\n",
      "    48 |      275 |  3.910050E+03 |  3.910050E+03\n",
      "    49 |      281 |  3.910202E+03 |  3.910050E+03\n",
      "    50 |      287 |  3.910050E+03 |  3.910050E+03\n",
      "    51 |      293 |  3.910050E+03 |  3.910050E+03\n",
      "    52 |      299 |  3.910050E+03 |  3.910050E+03\n",
      "    53 |      305 |  3.910050E+03 |  3.910050E+03\n",
      "    54 |      310 |  3.910050E+03 |  3.910050E+03\n",
      "    55 |      314 |  3.910070E+03 |  3.910050E+03\n",
      "    56 |      320 |  3.910050E+03 |  3.910050E+03\n",
      "    57 |      325 |  3.910050E+03 |  3.910050E+03\n",
      "    58 |      330 |  3.910108E+03 |  3.910050E+03\n",
      "    59 |      336 |  3.910050E+03 |  3.910050E+03\n",
      "    60 |      342 |  3.910050E+03 |  3.910050E+03\n",
      "    61 |      348 |  3.910050E+03 |  3.910050E+03\n",
      "    62 |      353 |  3.910006E+03 |  3.909962E+03\n",
      "    63 |      359 |  3.910115E+03 |  3.909962E+03\n",
      "    64 |      365 |  3.909962E+03 |  3.909962E+03\n",
      "    65 |      371 |  3.909962E+03 |  3.909962E+03\n",
      "    66 |      377 |  3.909962E+03 |  3.909962E+03\n",
      "    67 |      383 |  3.909962E+03 |  3.909962E+03\n",
      "    68 |      389 |  3.909962E+03 |  3.909962E+03\n",
      "    69 |      395 |  3.909962E+03 |  3.909962E+03\n",
      "    70 |      400 |  3.909962E+03 |  3.909962E+03\n",
      "    71 |      406 |  3.910115E+03 |  3.909962E+03\n",
      "    72 |      412 |  3.909962E+03 |  3.909962E+03\n"
     ]
    }
   ],
   "source": [
    "res = minimize(pymoo_prob, algorithm, verbose=True)"
   ]
  },
  {
   "cell_type": "code",
   "execution_count": 22,
   "metadata": {},
   "outputs": [
    {
     "data": {
      "text/plain": [
       "array([ 0.88623047, 45.8664544 , -1.06384236])"
      ]
     },
     "execution_count": 22,
     "metadata": {},
     "output_type": "execute_result"
    }
   ],
   "source": [
    "res.X"
   ]
  },
  {
   "cell_type": "markdown",
   "metadata": {},
   "source": [
    "### Results visualization\n",
    "\n",
    "Here we look at the optimized results and compare with the starting results:"
   ]
  },
  {
   "cell_type": "code",
   "execution_count": 26,
   "metadata": {},
   "outputs": [
    {
     "data": {
      "text/plain": [
       "3910.4030316859735"
      ]
     },
     "execution_count": 26,
     "metadata": {},
     "output_type": "execute_result"
    }
   ],
   "source": [
    "rover_prob.end_dist([ 0.88623047, 45.8664544 , -1.06384236])"
   ]
  },
  {
   "cell_type": "code",
   "execution_count": 27,
   "metadata": {},
   "outputs": [
    {
     "data": {
      "image/png": "[encoded data removed]",
      "text/plain": [
       "<Figure size 288x288 with 1 Axes>"
      ]
     },
     "metadata": {
      "needs_background": "light"
     },
     "output_type": "display_data"
    }
   ],
   "source": [
    "fig = plot_trajectories(rover_prob._sims['drive_faults']['mdlhists'], app= app_drive)"
   ]
  },
  {
   "cell_type": "code",
   "execution_count": 28,
   "metadata": {},
   "outputs": [
    {
     "data": {
      "image/png": "[encoded data removed]",
      "text/plain": [
       "<Figure size 216x144 with 1 Axes>"
      ]
     },
     "metadata": {
      "needs_background": "light"
     },
     "output_type": "display_data"
    }
   ],
   "source": [
    "ecs = {k: v['endclass'] for k, v in rover_prob._sims['drive_faults']['results'].items()}\n",
    "fig = rd.plot.metric_dist(ecs, 'end_dist')"
   ]
  },
  {
   "cell_type": "markdown",
   "metadata": {},
   "source": [
    "starting solution:"
   ]
  },
  {
   "cell_type": "code",
   "execution_count": 29,
   "metadata": {},
   "outputs": [
    {
     "data": {
      "text/plain": [
       "4722.458157103226"
      ]
     },
     "execution_count": 29,
     "metadata": {},
     "output_type": "execute_result"
    }
   ],
   "source": [
    "rover_prob.end_dist([0,0,0])"
   ]
  },
  {
   "cell_type": "code",
   "execution_count": 30,
   "metadata": {},
   "outputs": [
    {
     "data": {
      "image/png": "[encoded data removed]",
      "text/plain": [
       "<Figure size 288x288 with 1 Axes>"
      ]
     },
     "metadata": {
      "needs_background": "light"
     },
     "output_type": "display_data"
    }
   ],
   "source": [
    "fig = plot_trajectories(rover_prob._sims['drive_faults']['mdlhists'], app= app_drive)"
   ]
  },
  {
   "cell_type": "code",
   "execution_count": 31,
   "metadata": {},
   "outputs": [
    {
     "data": {
      "image/png": "[encoded data removed]",
      "text/plain": [
       "<Figure size 216x144 with 1 Axes>"
      ]
     },
     "metadata": {
      "needs_background": "light"
     },
     "output_type": "display_data"
    }
   ],
   "source": [
    "ecs = {k: v['endclass'] for k, v in rover_prob._sims['drive_faults']['results'].items()}\n",
    "fig = rd.plot.metric_dist(ecs, 'end_dist')"
   ]
  },
  {
   "cell_type": "markdown",
   "metadata": {},
   "source": [
    "As shown, while the optimized correction factors don't mitigate all scenarios, they do increase the number of scenarios that are mitigated."
   ]
  },
  {
   "cell_type": "code",
   "execution_count": null,
   "metadata": {},
   "outputs": [],
   "source": []
  }
 ],
 "metadata": {
  "kernelspec": {
   "display_name": "Python 3 (ipykernel)",
   "language": "python",
   "name": "python3"
  },
  "language_info": {
   "codemirror_mode": {
    "name": "ipython",
    "version": 3
   },
   "file_extension": ".py",
   "mimetype": "text/x-python",
   "name": "python",
   "nbconvert_exporter": "python",
   "pygments_lexer": "ipython3",
   "version": "3.9.7"
  }
 },
 "nbformat": 4,
 "nbformat_minor": 4
}
