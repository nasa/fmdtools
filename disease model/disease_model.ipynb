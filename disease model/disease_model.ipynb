{
 "cells": [
  {
   "cell_type": "code",
   "execution_count": 3,
   "metadata": {},
   "outputs": [],
   "source": [
    "from modeldef import *\n",
    "import numpy as np\n",
    "from scipy.optimize import minimize\n",
    "import csv\n",
    "\n",
    "class Place(FxnBlock):\n",
    "    def __init__(self,flows, params):\n",
    "        population = params[0]['pop']\n",
    "#         self.extra = params[0]['extra']\n",
    "\n",
    "# a is the contact rate after policy 2\n",
    "# n is the increased number of medical staff per step in policy 1 \n",
    "# v is the number of people who get vaccine per step in policy 2\n",
    "# m is the default number of the medical staff \n",
    "# alpha is the threshold to triger policy 2 \n",
    "# IR is the threshold  to triger policy 1 \n",
    "# NMS is the  total number of the medical staff \n",
    "        self.a = params[0]['a']\n",
    "        self.n = params[0]['n']\n",
    "        self.v = params[0]['v']\n",
    "        self.m = params[0]['m']\n",
    "        self.alpha = params[0]['alpha']\n",
    "        self.IR = params[0]['IR']\n",
    "        self.NMS=0\n",
    "        \n",
    "        super().__init__(['Transport'],flows, {'Infected':population*2/10,'Susceptible':population*8/10,'Recovered':0.0})\n",
    "        self.failrate=1e-5\n",
    "        self.assoc_modes({'PL1':[1.0, [1,1,1], 1],'PL2':[1.0, [1,1,1], 1]})\n",
    "                    \n",
    "        \n",
    "    def condfaults(self,time):\n",
    "        # policy 1: if infect rate bigger than IR, add m medical staff per day,  infectious time will drop from 1.25 to 1.25/2\n",
    "        # policy 2: if infected people bigger than alpha, contact rate will drop from 10 to a , susceptible people will get vaccine,v people/day\n",
    "        if self.Infected/(self.Susceptible + self.Infected + self.Recovered)> self.alpha: \n",
    "            self.add_fault('PL2')\n",
    "        if ( self.Susceptible * self.Infected / (self.Susceptible + self.Infected + self.Recovered + 0.001)) > self.IR:\n",
    "            self.add_fault('PL1')            \n",
    "        \n",
    "            \n",
    "    def behavior(self,time):\n",
    "        if self.has_fault('PL1'):\n",
    "          \n",
    "            # c=(n+m)/m\n",
    "            \n",
    "            self.NMS+=self.n \n",
    "            self.c=(self.NMS+self.m)/(self.m)\n",
    "            Infect_rate = self.Susceptible * self.Infected / (self.Susceptible + self.Infected + self.Recovered + 0.001)\n",
    "            Recover_Rate = self.c * self.Infected / (1.25/2)    \n",
    "            \n",
    "            if time>self.time:\n",
    "                self.Infected =self.Infected + 0.0001 * ( Infect_rate - Recover_Rate)\n",
    "                self.Susceptible = self.Susceptible- 0.0001 * (Infect_rate) - self.v\n",
    "                self.Recovered = self.Recovered + 0.0001 * ( Recover_Rate) + self.v\n",
    "        if self.has_fault('PL2'):\n",
    "            self.a = self.alpha\n",
    "            \n",
    "            if time>self.time:\n",
    "                self.Infected =self.Infected + 0.0001* ( Infect_rate - Recover_Rate)\n",
    "                self.Susceptible = self.Susceptible- 0.0001* (Infect_rate) - self.v\n",
    "                self.Recovered = self.Recovered + 0.0001* ( Recover_Rate) + self.v           \n",
    "            \n",
    "        # nominal state    \n",
    "        Infect_rate= self.alpha * self.Susceptible * self.Infected / (self.Susceptible + self.Infected + self.Recovered + 0.001)\n",
    "        Recover_Rate =  self.Infected / 1.25\n",
    "        Leave_Rate = 0.5\n",
    "       \n",
    "        if time>self.time:\n",
    "            self.Infected += 0.0001 * (Infect_rate - Recover_Rate)\n",
    "            self.Susceptible -= 0.0001 * Infect_rate\n",
    "            self.Recovered +=0.0001 * Recover_Rate\n",
    "#             if self.extra:\n",
    "#                 self.Infected += 2\n",
    "#                 self.Recovered -= 2\n",
    "            # Arriving/Leaving\n",
    "            self.Infected += self.Transport.In_I  - self.Transport.Out_I \n",
    "            self.Susceptible += self.Transport.In_S  - self.Transport.Out_S \n",
    "            self.Recovered += self.Transport.In_R - self.Transport.Out_R\n",
    "            self.Transport.Stay_I  = self.Infected\n",
    "            self.Transport.Stay_S  = self.Susceptible\n",
    "            self.Transport.Stay_R  = self.Recovered\n",
    "            \n",
    "\n",
    "class Transit(FxnBlock):\n",
    "    def __init__(self,flows):\n",
    "        super().__init__(['T_Campus', 'T_Downtown', 'T_Living'],flows)\n",
    "        self.failrate=1e-5\n",
    "        self.assoc_modes({'na':[1.0, [1,1,1], 1]})\n",
    "    def behavior(self,time):\n",
    "        C_to_L = 0.1\n",
    "        D_to_C = 0.1\n",
    "        L_to_D = 0.1\n",
    "        \n",
    "        if time > self.time:\n",
    "            self.T_Campus.Out_I = C_to_L * self.T_Campus.Stay_I\n",
    "            self.T_Campus.Out_S = C_to_L * self.T_Campus.Stay_S\n",
    "            self.T_Campus.Out_R = C_to_L * self.T_Campus.Stay_R \n",
    "            \n",
    "            self.T_Downtown.Out_I = D_to_C * self.T_Downtown.Stay_I\n",
    "            self.T_Downtown.Out_S = D_to_C * self.T_Downtown.Stay_S\n",
    "            self.T_Downtown.Out_R  = D_to_C * self.T_Downtown.Stay_R \n",
    "            \n",
    "            self.T_Living.Out_I = L_to_D * self.T_Living.Stay_I\n",
    "            self.T_Living.Out_S = L_to_D * self.T_Living.Stay_S\n",
    "            self.T_Living.Out_R  = L_to_D * self.T_Living.Stay_R          \n",
    "            \n",
    "            \n",
    "            self.T_Downtown.In_I = self.T_Campus.Out_I\n",
    "            self.T_Downtown.In_S = self.T_Campus.Out_S\n",
    "            self.T_Downtown.In_R  = self.T_Campus.Out_R \n",
    "            \n",
    "            self.T_Campus.In_I = self.T_Living.Out_I\n",
    "            self.T_Campus.In_S = self.T_Living.Out_S\n",
    "            self.T_Campus.In_R  = self.T_Living.Out_R  \n",
    "            \n",
    "            self.T_Living.In_I = self.T_Downtown.Out_I\n",
    "            self.T_Living.In_S = self.T_Downtown.Out_S\n",
    "            self.T_Living.In_R  =  self.T_Downtown.Out_R \n",
    "            \n",
    "            \n",
    "        \n",
    "class DiseaseModel(Model):\n",
    "#     def __init__(self, x0, params={}):\n",
    "    def __init__(self, x0):\n",
    "        super().__init__()\n",
    "        \n",
    "        self.times = [1,60]\n",
    "        self.tstep = 1\n",
    "        \n",
    "        travel = {'In_I':0,'In_S':0,'In_R':0,'Out_I':0,'Out_S':0,'Out_R':0,'Stay_I':0,'Stay_S':0,'Stay_R':0}\n",
    "        self.add_flow('Travel_Campus', 'People', travel)\n",
    "        self.add_flow('Travel_Downtown', 'People', travel)\n",
    "        self.add_flow('Travel_Living', 'People', travel)\n",
    "        \n",
    "#         x0 = np.array([2,3,5,10,0.15,2])\n",
    "        params= {'pop':100.0, 'a': x0[0] ,'n': x0[1] ,'v' : x0[2] ,'m': x0[3], 'alpha': x0[4] , 'IR':x0[5] }\n",
    "        self.add_fxn('Campus',Place,['Travel_Campus'],params)\n",
    "        self.add_fxn('Downtown',Place,['Travel_Downtown'], params)\n",
    "        self.add_fxn('Living',Place,['Travel_Living'], params)\n",
    "        self.add_fxn('Movement', Transit, ['Travel_Campus','Travel_Downtown','Travel_Living'])\n",
    "        \n",
    "        \n",
    "        self.construct_graph()\n",
    "    def find_classification(self,resgraph, endfaults, endflows, scen, mdlhists):\n",
    "        \n",
    "        n1 = self.fxns['Campus'].n\n",
    "        n2 = self.fxns['Downtown'].n\n",
    "        n3 = self.fxns['Living'].n\n",
    "        totalN=n1+n2+n3\n",
    "        \n",
    "        r1= self.fxns['Campus'].Recovered\n",
    "        r2= self.fxns['Campus'].Recovered\n",
    "        r3= self.fxns['Campus'].Recovered\n",
    "        totalR=r1+r2+r3\n",
    "        \n",
    "        \n",
    "#         t_campus = len([i for i in mdlhists['Campus']['faults'] if 'PL1' in i])\n",
    "                 \n",
    "        rate=1\n",
    "        totcost=1\n",
    "        expcost=1            \n",
    "        \n",
    "        \n",
    "\n",
    "        \n",
    "        return {'rate':rate, 'cost': totcost, 'expected cost': expcost, 'total number of medical staff': totalN , 'total recovery people': totalR}\n",
    "    \n",
    "    \n",
    "    "
   ]
  },
  {
   "cell_type": "code",
   "execution_count": 4,
   "metadata": {},
   "outputs": [
    {
     "data": {
      "image/png": "[encoded data removed]",
      "text/plain": [
       "<Figure size 432x288 with 1 Axes>"
      ]
     },
     "metadata": {},
     "output_type": "display_data"
    },
    {
     "data": {
      "image/png": "[encoded data removed]",
      "text/plain": [
       "<Figure size 432x288 with 3 Axes>"
      ]
     },
     "metadata": {
      "needs_background": "light"
     },
     "output_type": "display_data"
    },
    {
     "data": {
      "image/png": "[encoded data removed]",
      "text/plain": [
       "<Figure size 432x288 with 1 Axes>"
      ]
     },
     "metadata": {},
     "output_type": "display_data"
    },
    {
     "data": {
      "image/png": "[encoded data removed]",
      "text/plain": [
       "<Figure size 432x288 with 4 Axes>"
      ]
     },
     "metadata": {
      "needs_background": "light"
     },
     "output_type": "display_data"
    }
   ],
   "source": [
    "import sys\n",
    "sys.path.append('../')\n",
    "import pandas as pd\n",
    "import faultprop as fp\n",
    "import resultproc as rp\n",
    "import csv\n",
    "#from disease_model import *\n",
    "\n",
    "x0 = np.array([2,3,5,10,0.15,2])\n",
    "\n",
    "dm1 = DiseaseModel(x0)\n",
    "    \n",
    "    \n",
    "    \n",
    "\n",
    "rp.show_graph(dm1.graph)\n",
    "\n",
    "endresults, resgraph, mdlhist_nom = fp.run_nominal(dm1)\n",
    "\n",
    "rp.plot_mdlhist(mdlhist_nom, fxnflows=['Campus'])\n",
    "\n",
    "normal_state_table = rp.make_histtable(mdlhist_nom)\n",
    "normal_state_table.to_csv('normal_state_table.csv')\n",
    "# print(normal_state_table)\n",
    "\n",
    "# rp.plot_mdlhist(mdlhist)\n",
    "\n",
    "endresults, resgraph, mdlhist_pl1 = fp.run_one_fault(dm1,'Campus','PL1', time=1)\n",
    "PL1_state_table = rp.make_histtable(mdlhist_pl1)\n",
    "# print(PL1_state_table)\n",
    "rp.show_graph(resgraph)\n",
    "rp.plot_mdlhist(mdlhist_pl1, fxnflows=['Campus'])\n",
    "\n"
   ]
  },
  {
   "cell_type": "code",
   "execution_count": 73,
   "metadata": {},
   "outputs": [
    {
     "data": {
      "text/plain": [
       "{'rate': 1,\n",
       " 'cost': 1,\n",
       " 'expected cost': 1,\n",
       " 'total number of medical staff': 6.0,\n",
       " 'total recovery people': 60.95717215159847}"
      ]
     },
     "execution_count": 73,
     "metadata": {},
     "output_type": "execute_result"
    }
   ],
   "source": [
    "endresults['classification']"
   ]
  },
  {
   "cell_type": "code",
   "execution_count": 74,
   "metadata": {},
   "outputs": [
    {
     "name": "stdout",
     "output_type": "stream",
     "text": [
      "6.0 60.95717215159847\n"
     ]
    }
   ],
   "source": [
    "dict= endresults['classification']\n",
    "Imax=dict['total number of medical staff']\n",
    "Nm=dict['total recovery people']\n",
    "print(Imax, Nm)"
   ]
  },
  {
   "cell_type": "code",
   "execution_count": 42,
   "metadata": {},
   "outputs": [
    {
     "name": "stdout",
     "output_type": "stream",
     "text": [
      "Optimization terminated successfully.\n",
      "         Current function value: 6299105.320589\n",
      "         Iterations: 27\n",
      "         Function evaluations: 215\n",
      "[ 2.   3.   5.   4.   0.3 10. ]\n"
     ]
    }
   ],
   "source": [
    "H=500\n",
    "E=50\n",
    "T=50 # equal to  total time\n",
    "Em=80\n",
    "Tm=8\n",
    "def cost(x):\n",
    "    dm1 = DiseaseModel(x0)\n",
    "    endresults, resgraph, mdlhist_pl1 = fp.run_nominal(dm1)\n",
    "#     endresults, resgraph, mdlhist_pl1 = fp.run_one_fault(dm1,'Campus','PL1', time=1)\n",
    "    dict= endresults['classification']\n",
    "    Imax=dict['total recovery people']\n",
    "    Nm=dict['total number of medical staff']\n",
    "    return Imax*H + (10-x0[0])*300*E*T+ Nm*Em*Tm*T\n",
    "\n",
    "x0 = np.array([2,3,5,4,0.3,10])\n",
    "res = minimize(cost, x0, method='nelder-mead',\n",
    "options={'xatol': 1e-8, 'disp': True})\n",
    "\n",
    "print(res.x)"
   ]
  },
  {
   "cell_type": "code",
   "execution_count": 9,
   "metadata": {},
   "outputs": [
    {
     "name": "stderr",
     "output_type": "stream",
     "text": [
      "C:\\Users\\zhang\\.julia\\conda\\3\\lib\\site-packages\\ipykernel_launcher.py:46: RuntimeWarning: invalid value encountered in double_scalars\n",
      "C:\\Users\\zhang\\.julia\\conda\\3\\lib\\site-packages\\ipykernel_launcher.py:46: RuntimeWarning: divide by zero encountered in double_scalars\n",
      "C:\\Users\\zhang\\.julia\\conda\\3\\lib\\site-packages\\ipykernel_launcher.py:60: RuntimeWarning: invalid value encountered in double_scalars\n",
      "C:\\Users\\zhang\\.julia\\conda\\3\\lib\\site-packages\\ipykernel_launcher.py:66: RuntimeWarning: invalid value encountered in double_scalars\n"
     ]
    },
    {
     "data": {
      "text/plain": [
       "(array([1.95219242, 0.05521719, 0.05615843, 0.00234217, 0.00534642,\n",
       "        1.06071853]), -209213752.3056123)"
      ]
     },
     "execution_count": 9,
     "metadata": {},
     "output_type": "execute_result"
    }
   ],
   "source": [
    "from scipy.optimize import differential_evolution\n",
    "import numpy as np\n",
    "# def ackley(x):\n",
    "    \n",
    "#     arg1 = -0.2 * np.sqrt(0.5 * (x[0] ** 2 + x[1] ** 2))\n",
    "#     arg2 = 0.5 * (np.cos(2. * np.pi * x[0]) + np.cos(2. * np.pi * x[1]))\n",
    "#     return -20. * np.exp(arg1) - np.exp(arg2) + 20. + np.e\n",
    "# bounds = [(-5, 5), (-5, 5)]\n",
    "# result = differential_evolution(ackley, bounds)\n",
    "# result.x, result.fun\n",
    "H=500\n",
    "E=50\n",
    "T=50 # equal to  total time\n",
    "Em=80\n",
    "Tm=8\n",
    "def ackley(x):\n",
    "    x0 = np.array([x[0],x[1],x[2],x[3],x[4],x[5]])\n",
    "    dm1 = DiseaseModel(x0)\n",
    "    try:\n",
    "        endresults, resgraph, mdlhist_pl1 = fp.run_nominal(dm1)\n",
    "        Imax= endresults['classification']['total recovery people']\n",
    "        Nm=endresults['classification']['total number of medical staff']\n",
    "        return Imax*H + (10-x0[0])* 300 * E*T+ Nm*Em*Tm*T\n",
    "    except:\n",
    "        return 10000000000\n",
    "bounds = [(0, 2), (0, 2),(0, 2),(0, 2),(0, 2),(0, 2)]\n",
    "result = differential_evolution(ackley, bounds,maxiter=10)\n",
    "result.x, result.fun"
   ]
  },
  {
   "cell_type": "code",
   "execution_count": 12,
   "metadata": {},
   "outputs": [
    {
     "data": {
      "image/png": "[encoded data removed]",
      "text/plain": [
       "<Figure size 432x288 with 3 Axes>"
      ]
     },
     "metadata": {
      "needs_background": "light"
     },
     "output_type": "display_data"
    }
   ],
   "source": [
    "x0 = np.array([2,2,5,2,0.15,1])\n",
    "dm1 = DiseaseModel(result.x)\n",
    "endresults, resgraph, mdlhist_pl1 = fp.run_nominal(dm1)\n",
    "endresults['classification']\n",
    "#x0 = np.array([x[0],x[1],x[2],x[3],x[4],x[5]])\n",
    "rp.plot_mdlhist(mdlhist_pl1, fxnflows=['Campus'])"
   ]
  },
  {
   "cell_type": "code",
   "execution_count": 121,
   "metadata": {},
   "outputs": [
    {
     "name": "stdout",
     "output_type": "stream",
     "text": [
      "Optimization terminated successfully.\n",
      "         Current function value: 0.000000\n",
      "         Iterations: 32\n",
      "         Function evaluations: 64\n",
      "[-1.77635684e-15]\n"
     ]
    }
   ],
   "source": [
    "import numpy as np\n",
    "from scipy.optimize import minimize\n",
    "\n",
    "H=500\n",
    "E=50\n",
    "T=50 # equal to  total time\n",
    "Em=80\n",
    "Tm=8\n",
    "cost= Imax*H + (10-x0[0])*300*E*T+ Nm*Em*Tm*T\n",
    "\n",
    "def re(x):\n",
    "# \"\"\"The Rosenbrock function\"\"\"\n",
    "#     return sum(100.0*(x[1:]-x[:-1]**2.0)**2.0 + (1-x[:-1])**2.0)\n",
    "    \n",
    "    return x**2\n",
    "\n",
    "# \n",
    "x0 = np.array([2])\n",
    "res = minimize(re , x0, method='nelder-mead',\n",
    "options={'xatol': 1e-8, 'disp': True})\n",
    "\n",
    "print(res.x)\n",
    "\n"
   ]
  },
  {
   "cell_type": "code",
   "execution_count": 103,
   "metadata": {},
   "outputs": [
    {
     "name": "stdout",
     "output_type": "stream",
     "text": [
      "[1.  2.5]\n"
     ]
    }
   ],
   "source": [
    "import scipy.optimize as optimize\n",
    "\n",
    "fun = lambda x: (x[0] - 1)**2 + (x[1] - 2.5)**2\n",
    "res = optimize.minimize(fun, (2, 0), method='SLSQP', tol=1e-10)\n",
    "print(res.x)"
   ]
  },
  {
   "cell_type": "code",
   "execution_count": 52,
   "metadata": {},
   "outputs": [
    {
     "data": {
      "text/plain": [
       "2.0"
      ]
     },
     "execution_count": 52,
     "metadata": {},
     "output_type": "execute_result"
    }
   ],
   "source": [
    "dm1.fxns['Campus'].n"
   ]
  },
  {
   "cell_type": "code",
   "execution_count": null,
   "metadata": {},
   "outputs": [],
   "source": []
  },
  {
   "cell_type": "code",
   "execution_count": 46,
   "metadata": {},
   "outputs": [],
   "source": [
    "# type(PL1_state_table)\n",
    "# PL1_state_table.to_csv('PL1_state_table.csv')\n",
    "# normal_state_table.to_csv('normal_state_table.csv')"
   ]
  },
  {
   "cell_type": "code",
   "execution_count": null,
   "metadata": {},
   "outputs": [],
   "source": []
  },
  {
   "cell_type": "code",
   "execution_count": 122,
   "metadata": {},
   "outputs": [
    {
     "name": "stdout",
     "output_type": "stream",
     "text": [
      "Optimization terminated successfully.\n",
      "         Current function value: 0.000000\n",
      "         Iterations: 31\n",
      "         Function evaluations: 62\n",
      "[8.8817842e-16]\n"
     ]
    }
   ],
   "source": [
    "import numpy as np\n",
    "from scipy.optimize import minimize\n",
    "\n",
    "def rosen(x):\n",
    "# \"\"\"The Rosenbrock function\"\"\"\n",
    "#     return sum(100.0*(x[1:]-x[:-1]**2.0)**2.0 + (1-x[:-1])**2.0)\n",
    "    return x**2\n",
    "x0 = np.array([-1])\n",
    "res = minimize(rosen, x0, method='nelder-mead',\n",
    "options={'xatol': 1e-8, 'disp': True})\n",
    "print(res.x)"
   ]
  },
  {
   "cell_type": "code",
   "execution_count": 123,
   "metadata": {},
   "outputs": [
    {
     "name": "stdout",
     "output_type": "stream",
     "text": [
      "10\n"
     ]
    }
   ],
   "source": [
    "import numpy as np\n",
    "x0 = np.array([2,3,5,6,7,10])\n",
    "# for i in x0:\n",
    "#     print(i)\n",
    "print(x0[5])"
   ]
  },
  {
   "cell_type": "code",
   "execution_count": null,
   "metadata": {},
   "outputs": [],
   "source": []
  }
 ],
 "metadata": {
  "kernelspec": {
   "display_name": "Python 3",
   "language": "python",
   "name": "python3"
  },
  "language_info": {
   "codemirror_mode": {
    "name": "ipython",
    "version": 3
   },
   "file_extension": ".py",
   "mimetype": "text/x-python",
   "name": "python",
   "nbconvert_exporter": "python",
   "pygments_lexer": "ipython3",
   "version": "3.6.5"
  }
 },
 "nbformat": 4,
 "nbformat_minor": 2
}
