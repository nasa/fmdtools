{
 "cells": [
  {
   "cell_type": "markdown",
   "id": "088113ed",
   "metadata": {},
   "source": [
    "# Stochastic Modelling in fmdtools\n",
    "\n",
    "This notebook covers the basics of stochastic modelling in fmdtools. Stochastic models are models which run *non-determinsitically*, meaning that simulating the model at the same inputs results in different outputs because of randomness or uncertainty in the model behavior. Thus, to determine the *distribution of outcomes* which may result from a simulation, a stochastic model must be run a number of times. This notebook will cover:\n",
    "- How to construct a stochastic model by adding *stochastic states* to function blocks and incorporating them in function behavior\n",
    "- How to simulate single scenarios and distributions of scenarios in `propagate` methods\n",
    "- How to visualize and analyze the results of stochastic model simulations"
   ]
  },
  {
   "cell_type": "code",
   "execution_count": 5,
   "id": "c0140fd1",
   "metadata": {},
   "outputs": [],
   "source": [
    "from fmdtools.define.common import Rand\n",
    "from fmdtools.define.approach import SampleApproach, NominalApproach\n",
    "from fmdtools.define.block import FxnBlock, Block\n",
    "import fmdtools.sim.propagate as propagate\n",
    "import fmdtools.analyze as rd\n",
    "\n",
    "import inspect # we will be using inspect to look at "
   ]
  },
  {
   "cell_type": "markdown",
   "id": "14306a7a",
   "metadata": {},
   "source": [
    "This notebook uses Pump model in `pump_stochastic.py`, which is an adaptation of the original `ex_pump.py` model with stochastic states added. "
   ]
  },
  {
   "cell_type": "code",
   "execution_count": 6,
   "id": "c5b01080",
   "metadata": {},
   "outputs": [],
   "source": [
    "from pump_stochastic import * "
   ]
  },
  {
   "cell_type": "markdown",
   "id": "e493217e",
   "metadata": {},
   "source": [
    "Below is the structure, with the same functions/flows as before."
   ]
  },
  {
   "cell_type": "code",
   "execution_count": 7,
   "id": "95588c8a",
   "metadata": {},
   "outputs": [
    {
     "data": {
      "image/png": "[encoded data removed]",
      "text/plain": [
       "<Figure size 432x288 with 1 Axes>"
      ]
     },
     "metadata": {},
     "output_type": "display_data"
    }
   ],
   "source": [
    "fig, ax = rd.graph.show(Pump())"
   ]
  },
  {
   "cell_type": "markdown",
   "id": "f9b4a33d",
   "metadata": {},
   "source": [
    "## Model Setup"
   ]
  },
  {
   "cell_type": "markdown",
   "id": "db3e4c35",
   "metadata": {},
   "source": [
    "This model has been augmented stochastic states and behaviors to enable stochastic simulation using the `Rand` class. "
   ]
  },
  {
   "cell_type": "code",
   "execution_count": 8,
   "id": "93a4fd46",
   "metadata": {},
   "outputs": [
    {
     "name": "stdout",
     "output_type": "stream",
     "text": [
      "Help on class Rand in module fmdtools.define.common:\n",
      "\n",
      "class Rand(recordclass.datatype.dataobject)\n",
      " |  Rand(*args, seed=42, run_stochastic=False, probs=[], s_kwargs={})\n",
      " |  \n",
      " |  Rand(rng:default_rng, probs:list=[], seed:int=42, run_stochastic:bool=False)\n",
      " |  --\n",
      " |  Create class Rand instance\n",
      " |  \n",
      " |  Method resolution order:\n",
      " |      Rand\n",
      " |      recordclass.datatype.dataobject\n",
      " |      builtins.object\n",
      " |  \n",
      " |  Methods defined here:\n",
      " |  \n",
      " |  __init__(self, *args, seed=42, run_stochastic=False, probs=[], s_kwargs={})\n",
      " |      Initialize self.  See help(type(self)) for accurate signature.\n",
      " |  \n",
      " |  assign(self, other_rand)\n",
      " |  \n",
      " |  get_rand_states(self, auto_update_only=False)\n",
      " |  \n",
      " |  get_true_field(self, fieldname, *args, **kwargs)\n",
      " |  \n",
      " |  get_true_fields(self, *args, **kwargs)\n",
      " |  \n",
      " |  reset(self)\n",
      " |  \n",
      " |  return_probdens(self)\n",
      " |  \n",
      " |  set_rand(self, statename, methodname, *args)\n",
      " |      Update the given random state with a given method and arguments (if in run_stochastic mode)\n",
      " |      \n",
      " |      Parameters\n",
      " |      ----------\n",
      " |      statename : str\n",
      " |          name of the random state defined in assoc_rand_state(s)\n",
      " |      methodname : \n",
      " |          str name of the numpy method to call in the rng\n",
      " |      *args : args\n",
      " |          arguments for the numpy method\n",
      " |  \n",
      " |  to_default(self, *statenames)\n",
      " |      Resets given random states to their default values\n",
      " |  \n",
      " |  update_stochastic_states(self)\n",
      " |      Updates the defined stochastic states defined to auto-update.\n",
      " |  \n",
      " |  ----------------------------------------------------------------------\n",
      " |  Data descriptors defined here:\n",
      " |  \n",
      " |  __dict__\n",
      " |      dictionary for instance variables (if defined)\n",
      " |  \n",
      " |  __weakref__\n",
      " |      list of weak references to the object (if defined)\n",
      " |  \n",
      " |  probs\n",
      " |  \n",
      " |  rng\n",
      " |  \n",
      " |  run_stochastic\n",
      " |  \n",
      " |  seed\n",
      " |  \n",
      " |  ----------------------------------------------------------------------\n",
      " |  Data and other attributes defined here:\n",
      " |  \n",
      " |  __annotations__ = {'probs': <class 'list'>, 'rng': <built-in function ...\n",
      " |  \n",
      " |  __defaults__ = (None, [], 42, False)\n",
      " |  \n",
      " |  __fields__ = ('rng', 'probs', 'seed', 'run_stochastic')\n",
      " |  \n",
      " |  __options__ = {'deep_dealloc': False, 'fast_new': True, 'gc': False, '...\n",
      " |  \n",
      " |  ----------------------------------------------------------------------\n",
      " |  Methods inherited from recordclass.datatype.dataobject:\n",
      " |  \n",
      " |  __copy__(...)\n",
      " |      T.__copy__() -- copy of T\n",
      " |  \n",
      " |  __eq__(self, value, /)\n",
      " |      Return self==value.\n",
      " |  \n",
      " |  __ge__(self, value, /)\n",
      " |      Return self>=value.\n",
      " |  \n",
      " |  __getstate__(...)\n",
      " |      T.__getstate__()\n",
      " |  \n",
      " |  __gt__(self, value, /)\n",
      " |      Return self>value.\n",
      " |  \n",
      " |  __hash__(self, /)\n",
      " |      Return hash(self).\n",
      " |  \n",
      " |  __le__(self, value, /)\n",
      " |      Return self<=value.\n",
      " |  \n",
      " |  __len__(self, /)\n",
      " |      Return len(self).\n",
      " |  \n",
      " |  __lt__(self, value, /)\n",
      " |      Return self<value.\n",
      " |  \n",
      " |  __ne__(self, value, /)\n",
      " |      Return self!=value.\n",
      " |  \n",
      " |  __reduce__(...)\n",
      " |      T.__reduce__()\n",
      " |  \n",
      " |  __repr__(...)\n",
      " |      T.__repr__() -- representation of T\n",
      " |  \n",
      " |  __setstate__(...)\n",
      " |      T.__setstate__()\n",
      " |  \n",
      " |  __sizeof__(...)\n",
      " |      T.__sizeof__() -- size of T\n",
      " |  \n",
      " |  ----------------------------------------------------------------------\n",
      " |  Static methods inherited from recordclass.datatype.dataobject:\n",
      " |  \n",
      " |  __new__(*args, **kwargs) from recordclass.datatype.datatype\n",
      " |      Create and return a new object.  See help(type) for accurate signature.\n",
      "\n"
     ]
    }
   ],
   "source": [
    "help(Rand)"
   ]
  },
  {
   "cell_type": "markdown",
   "id": "60fb9703",
   "metadata": {},
   "source": [
    "Below, `assoc_rand_states` is used in the ImportEE function to add two random states:\n",
    "    - effstate, the quality of the input voltage (i.e. large fluctuations from a step change in power)\n",
    "    - grid_noise, which is meant to be fluctuations in voltage from the power source (i.e., more ordinary noise)"
   ]
  },
  {
   "cell_type": "markdown",
   "id": "fe1d47d9",
   "metadata": {},
   "source": [
    "This is then reflected in the behavior, which is defined in the `Rand.set_rand` method. "
   ]
  },
  {
   "cell_type": "code",
   "execution_count": 10,
   "id": "e757aff2",
   "metadata": {},
   "outputs": [
    {
     "name": "stdout",
     "output_type": "stream",
     "text": [
      "Help on function set_rand in module fmdtools.define.common:\n",
      "\n",
      "set_rand(self, statename, methodname, *args)\n",
      "    Update the given random state with a given method and arguments (if in run_stochastic mode)\n",
      "    \n",
      "    Parameters\n",
      "    ----------\n",
      "    statename : str\n",
      "        name of the random state defined in assoc_rand_state(s)\n",
      "    methodname : \n",
      "        str name of the numpy method to call in the rng\n",
      "    *args : args\n",
      "        arguments for the numpy method\n",
      "\n"
     ]
    }
   ],
   "source": [
    "help(Rand.set_rand)"
   ]
  },
  {
   "cell_type": "markdown",
   "id": "56013aee",
   "metadata": {},
   "source": [
    "In this method, `statename` is the name of the random state, while `methodname` corresponds to the name of a random distribution to update the state from. These distributions are pulled from a numpy random number generator and thus the options for distributions are provided in the numpy documentation: https://numpy.org/doc/stable/reference/random/generator.html#distributions . These distributions include most one might need including normal, beta, uniform, etc. \n",
    "\n",
    "`*args` in `set_rand` refers to the corresponding arguments to call the given method with, which should be pulled from the corresponding documentation. Below, we have points where this is called.\n",
    "- First, to pull `effstate` from a triangular distribution with minimum 0.9, mode 1.0, and max 1.1\n",
    " - Parameters are provided here: https://numpy.org/doc/stable/reference/random/generated/numpy.random.Generator.triangular.html#numpy.random.Generator.triangular\n",
    "- Second, to pull `grid_noise` from a normal distribution centered on 1 with a standard deviation that varies over time according to a sine wave.\n",
    " - Parameters are provided here: https://numpy.org/doc/stable/reference/random/generated/numpy.random.Generator.normal.html#numpy.random.Generator.normal"
   ]
  },
  {
   "cell_type": "code",
   "execution_count": 8,
   "id": "89e1e507",
   "metadata": {},
   "outputs": [
    {
     "name": "stdout",
     "output_type": "stream",
     "text": [
      "    def behavior(self,time):\n",
      "        if self.has_fault('no_v'):      self.effstate=0.0 #an open circuit means no voltage is exported\n",
      "        elif self.has_fault('inf_v'):   self.effstate=100.0 #a voltage spike means voltage is much higher\n",
      "        else:                           \n",
      "            if time>self.time: self.set_rand('effstate','triangular',0.9,1,1.1)\n",
      "        if time>self.time:\n",
      "            self.set_rand('grid_noise','normal',1, 0.1*(2+np.sin(np.pi/2*time)))\n",
      "        \n",
      "        self.EEout.voltage= self.grid_noise*self.effstate * 500\n",
      "\n"
     ]
    }
   ],
   "source": [
    "print(inspect.getsource(ImportEE.behavior))"
   ]
  },
  {
   "cell_type": "markdown",
   "id": "27a5543b",
   "metadata": {},
   "source": [
    "The Import Signal function has a similar setup, where `sig_noise` is associated as a random state and then pulled as a random choice from a given set of options. To vary the behavior, here the noise is only pulled every five seconds.\n",
    "\n",
    "This function also uses the `to_default` method, whic resets a given stochastic state to its default value. Here this is used to zero out any signal noise which would otherwise occur when there is no power."
   ]
  },
  {
   "cell_type": "code",
   "execution_count": 11,
   "id": "a4ecf682",
   "metadata": {},
   "outputs": [
    {
     "name": "stdout",
     "output_type": "stream",
     "text": [
      "Help on function to_default in module fmdtools.define.common:\n",
      "\n",
      "to_default(self, *statenames)\n",
      "    Resets given random states to their default values\n",
      "\n"
     ]
    }
   ],
   "source": [
    "help(Rand.to_default)"
   ]
  },
  {
   "cell_type": "markdown",
   "id": "abf25ece",
   "metadata": {},
   "source": [
    "The advantage of this is that simple stochastic behaviors do not need to be defined in the behavior method, however, it is less flexible than the previous approach, since one is limited to always drawing from the same distribution at each time-step. The resulting behavior method (below) thus has no `set_rand` call, since the state `eff` is automaticall updated outside the behavior definition."
   ]
  },
  {
   "cell_type": "code",
   "execution_count": 14,
   "id": "03c93c98",
   "metadata": {},
   "outputs": [
    {
     "name": "stdout",
     "output_type": "stream",
     "text": [
      "    def behavior(self, time):\n",
      "        self.s.eff=self.r.s.eff\n",
      "        super().behavior(time)\n",
      "\n"
     ]
    }
   ],
   "source": [
    "print(inspect.getsource(MoveWat.behavior))"
   ]
  },
  {
   "cell_type": "markdown",
   "id": "d0e6e170",
   "metadata": {},
   "source": [
    "Finally, it can be helpful for stochastic simulation to include a default seed in the model's modelparams, as shown."
   ]
  },
  {
   "cell_type": "code",
   "execution_count": 15,
   "id": "94cdb6a9",
   "metadata": {},
   "outputs": [
    {
     "name": "stdout",
     "output_type": "stream",
     "text": [
      "    def __init__(self, params=PumpParam(), \\\n",
      "                 modelparams = ModelParam(phases=(('start',0,4),('on',5,49),('end',50,55)), times=(0,20, 55), dt=1.0, units='hr'), \\\n",
      "                    valparams={'flows':{'Wat_2':'flowrate', 'EE_1':'current'}}):\n",
      "\n",
      "        super().__init__(params=params, modelparams=modelparams, valparams=valparams)\n",
      "\n",
      "        self.add_flow('ee_1',   Electricity)\n",
      "        self.add_flow('sig_1',  Signal)\n",
      "        self.add_flow('wat_1',  Water('Wat_1'))\n",
      "        self.add_flow('wat_2',  Water('Wat_1'))\n",
      "\n",
      "        self.add_fxn('import_ee',    ImportEE,      'ee_1')\n",
      "        self.add_fxn('import_water', ImportWater,   'wat_1')\n",
      "        self.add_fxn('import_signal',ImportSig,     'sig_1')\n",
      "        self.add_fxn('move_water',   MoveWat,       'ee_1', 'sig_1', 'wat_1', 'wat_2', p = {'delay':params.delay})\n",
      "        self.add_fxn('export_water', ExportWater,   'wat_2')\n",
      "\n",
      "        self.build_model()\n",
      "\n"
     ]
    }
   ],
   "source": [
    "print(inspect.getsource(Pump.__init__))"
   ]
  },
  {
   "cell_type": "markdown",
   "id": "bcb63183",
   "metadata": {},
   "source": [
    "This `seed` parameter ensures that each simulation in the same random thread will produce the same results, and that results can be replicated from stochastic simulation by running the model with the same seed."
   ]
  },
  {
   "cell_type": "markdown",
   "id": "1eab17ff",
   "metadata": {},
   "source": [
    "## Simulation and Analysis\n",
    "\n",
    "With this model set up, we can now simulate it using the methods in `propagate`.\n",
    "\n",
    "### Single-Scenario Simulation\n",
    "\n",
    "First, let's simulate it in the nominal scenario:"
   ]
  },
  {
   "cell_type": "code",
   "execution_count": 16,
   "id": "a76053f0",
   "metadata": {},
   "outputs": [
    {
     "data": {
      "image/png": "[encoded data removed]",
      "text/plain": [
       "<Figure size 432x144 with 2 Axes>"
      ]
     },
     "metadata": {
      "needs_background": "light"
     },
     "output_type": "display_data"
    }
   ],
   "source": [
    "mdl = Pump()\n",
    "endclass, mdlhist = propagate.nominal(mdl)\n",
    "fig, axs = rd.plot.mdlhists(mdlhist, fxnflowvals = {'import_ee':[\"effstate\",\"grid_noise\"], \n",
    "                                                    'import_sitnal':'sig_noise', \n",
    "                                                    'move_water':'eff' })"
   ]
  },
  {
   "cell_type": "markdown",
   "id": "e91cbaa1",
   "metadata": {},
   "source": [
    "As shown, even with all of these random states, it doesn't appear that the behavior actually changes stochastically over time. This is because, by default, `propagate` methods run *deterministically*, meaning the stochastic states take their default values. To run stochastically, we use the option `run_stochastic=True`."
   ]
  },
  {
   "cell_type": "code",
   "execution_count": 17,
   "id": "f8fd9c65",
   "metadata": {},
   "outputs": [],
   "source": [
    "mdl = Pump()\n",
    "endclass, mdlhist = propagate.nominal(mdl, run_stochastic=True)"
   ]
  },
  {
   "cell_type": "code",
   "execution_count": 20,
   "id": "a3094022",
   "metadata": {},
   "outputs": [
    {
     "data": {
      "image/png": "[encoded data removed]",
      "text/plain": [
       "<Figure size 216x144 with 1 Axes>"
      ]
     },
     "metadata": {
      "needs_background": "light"
     },
     "output_type": "display_data"
    }
   ],
   "source": [
    "fig = rd.plot.mdlhists(mdlhist, fxnflowvals = {'import_ee':[\"effstate\",\"grid_noise\"], \n",
    "                                               'import_signal':'sig_noise', 'MoveWater':'eff' })"
   ]
  },
  {
   "cell_type": "markdown",
   "id": "557580e6",
   "metadata": {},
   "source": [
    "As shown, this is more what we would expect from a random . Note that this simulation comes from the default model seed, and will this will always be the same. To get a different seed, we can pass new modelparams as an argument to `propagate.nominal`"
   ]
  },
  {
   "cell_type": "code",
   "execution_count": 22,
   "id": "2b477e12",
   "metadata": {},
   "outputs": [
    {
     "data": {
      "image/png": "[encoded data removed]",
      "text/plain": [
       "<Figure size 432x144 with 2 Axes>"
      ]
     },
     "metadata": {
      "needs_background": "light"
     },
     "output_type": "display_data"
    }
   ],
   "source": [
    "mdl = Pump()\n",
    "endclass, mdlhist = propagate.nominal(mdl, modelparams={'seed':10, 'run_stochastic':True})\n",
    "fig = rd.plot.mdlhists(mdlhist, fxnflowvals = {'import_ee':[\"effstate\",\"grid_noise\"], \n",
    "                                               'import_signal':'sig_noise', \n",
    "                                               'move_water':'eff' })"
   ]
  },
  {
   "cell_type": "markdown",
   "id": "4c572e67",
   "metadata": {},
   "source": [
    "We can further simulate faults as we would before. "
   ]
  },
  {
   "cell_type": "code",
   "execution_count": 24,
   "id": "6ca3cd91",
   "metadata": {},
   "outputs": [
    {
     "data": {
      "image/png": "[encoded data removed]",
      "text/plain": [
       "<Figure size 432x288 with 4 Axes>"
      ]
     },
     "metadata": {
      "needs_background": "light"
     },
     "output_type": "display_data"
    }
   ],
   "source": [
    "mdl = Pump()\n",
    "endclass, mdlhist = propagate.one_fault(mdl, 'export_water','block', time=20, run_stochastic=True,seed=10)\n",
    "fig = rd.plot.mdlhists(mdlhist, time_slice=[20], title=\"Pump Response to Blockage\", \n",
    "                       fxnflowvals={'move_water':['eff','total_flow'], \n",
    "                                    'wat_2':['flowrate','pressure']}, legend_loc=False)"
   ]
  },
  {
   "cell_type": "markdown",
   "id": "1d40bb48",
   "metadata": {},
   "source": [
    "As shown the stochastic states still simulated over time after the fault. One thing to watch is thus that the stochastic update in the faulty scenario does or does not change the variables compared to the nominal state--since many of the visualizations (e.g., in `graph`) are based on finding *differences* between faulty and nominal models to visualize degradation, these methods may be less useful/reliable."
   ]
  },
  {
   "cell_type": "code",
   "execution_count": 25,
   "id": "089584a2",
   "metadata": {},
   "outputs": [
    {
     "data": {
      "image/png": "[encoded data removed]",
      "text/plain": [
       "<Figure size 432x144 with 2 Axes>"
      ]
     },
     "metadata": {
      "needs_background": "light"
     },
     "output_type": "display_data"
    }
   ],
   "source": [
    "fig = rd.plot.mdlhists(mdlhist, fxnflowvals = {'import_ee':[\"effstate\",\"grid_noise\"], \n",
    "                                               'import_signal':'sig_noise', \n",
    "                                               'move_water':'eff' }, legend_loc=False)"
   ]
  },
  {
   "cell_type": "markdown",
   "id": "09bd93e5",
   "metadata": {},
   "source": [
    "In the blockage scenario, there is no effect on the underlying stochastic states, since nothing was set up for this in the behavior. In the `no_sig` fault, on the other hand, we defined the signal noise to go to zero, as shown:"
   ]
  },
  {
   "cell_type": "code",
   "execution_count": 27,
   "id": "5118bdb4",
   "metadata": {},
   "outputs": [
    {
     "data": {
      "image/png": "[encoded data removed]",
      "text/plain": [
       "<Figure size 432x144 with 2 Axes>"
      ]
     },
     "metadata": {
      "needs_background": "light"
     },
     "output_type": "display_data"
    }
   ],
   "source": [
    "mdl = Pump()\n",
    "endclass, mdlhist = propagate.one_fault(mdl, 'import_signal', 'no_sig', time=20, run_stochastic=True, seed=10)\n",
    "fig = rd.plot.mdlhists(mdlhist, time_slice=20, \n",
    "                       fxnflowvals={'import_ee':[\"effstate\",\"grid_noise\"], \n",
    "                                    'import_signal':'sig_noise', \n",
    "                                    'move_water':'eff' }, legend_loc=False)"
   ]
  },
  {
   "cell_type": "markdown",
   "id": "6aee004f",
   "metadata": {},
   "source": [
    "### Multi-Scenario Simulation\n",
    "\n",
    "Because stochastic models are non-deterministic, we are often interested not in the results of a single thread, but of the distribution of outcomes that might occur. To perform this kind of assessment, we can use a `NominalApproach` to instantiate the model with a number of different seeds."
   ]
  },
  {
   "cell_type": "code",
   "execution_count": 28,
   "id": "abf7ce90",
   "metadata": {},
   "outputs": [
    {
     "name": "stdout",
     "output_type": "stream",
     "text": [
      "Help on function add_seed_replicates in module fmdtools.define.approach:\n",
      "\n",
      "add_seed_replicates(self, rangeid, seeds)\n",
      "    Generates an approach with different seeds to use for the model's internal stochastic behaviors\n",
      "    \n",
      "    Parameters\n",
      "    ----------\n",
      "    rangeid : str\n",
      "        Name for the set of replicates\n",
      "    seeds : int/list\n",
      "        Number of seeds (if an int) or a list of seeds to use.\n",
      "\n"
     ]
    }
   ],
   "source": [
    "help(NominalApproach.add_seed_replicates)"
   ]
  },
  {
   "cell_type": "markdown",
   "id": "9ed7fefe",
   "metadata": {},
   "source": [
    "A `seeds` option can also be used in several other NominalApproach methods to simultaneously change the input parameters and seeds of the model. Below, we create an approach to simulate the model 100 times."
   ]
  },
  {
   "cell_type": "code",
   "execution_count": 29,
   "id": "29dc680b",
   "metadata": {},
   "outputs": [],
   "source": [
    "app = NominalApproach()\n",
    "app.add_seed_replicates('test_seeds', 100)"
   ]
  },
  {
   "cell_type": "code",
   "execution_count": 30,
   "id": "3a005aaf",
   "metadata": {},
   "outputs": [
    {
     "name": "stderr",
     "output_type": "stream",
     "text": [
      "SCENARIOS COMPLETE: 100%|████████████████████████████████████████████████████████████| 100/100 [00:01<00:00, 63.85it/s]\n"
     ]
    }
   ],
   "source": [
    "endclasses, mdlhists=propagate.nominal_approach(mdl,app, run_stochastic=True)"
   ]
  },
  {
   "cell_type": "markdown",
   "id": "16d8e113",
   "metadata": {},
   "source": [
    "To evaluate this behavior over time, we can then use `rd.plot.mdlhists`, which will plot the *distribution* of behaviors over time. "
   ]
  },
  {
   "cell_type": "code",
   "execution_count": 31,
   "id": "bfe705e5",
   "metadata": {},
   "outputs": [
    {
     "name": "stdout",
     "output_type": "stream",
     "text": [
      "Help on function mdlhists in module fmdtools.analyze.plot:\n",
      "\n",
      "mdlhists(mdlhists, fxnflowvals='all', cols=2, aggregation='individual', comp_groups={}, legend_loc=-1, xlabel='time', ylabels={}, max_ind='max', boundtype='fill', fillalpha=0.3, boundcolor='gray', boundlinestyle='--', ci=0.95, titles={}, title='', indiv_kwargs={'nominal': {'color': 'blue', 'ls': '--'}, 'faulty': {'color': 'red'}}, time_slice=[], time_slice_label=None, figsize='default', v_padding=None, h_padding=None, title_padding=0.0, phases={}, modephases={}, label_phases=True, legend_title=None, **kwargs)\n",
      "    Plot the behavior over time of the given function/flow values \n",
      "    over a set of scenarios, with ability to aggregate behaviors as needed.\n",
      "    \n",
      "    Parameters\n",
      "    ----------\n",
      "    mdlhists : dict\n",
      "        Aggregate model history with structure {'scen':mdlhist} (or single mdlhist)\n",
      "    fxnflowvals : dict, optional\n",
      "        dict of flow values to plot with structure {fxnflow:[vals], fxnflow:'val'/all, fxnflow:{'comp':[vals]}}. \n",
      "        The default is 'all', which returns all.\n",
      "    cols : int, optional\n",
      "        columns to use in the figure. The default is 2.\n",
      "    aggregation : str, optional\n",
      "        Way of aggregating the plot values. The default is 'individual'\n",
      "        Note that only the `individual` option can be used for histories of non-numeric quantities\n",
      "        (e.g., modes, which are recorded as strings)\n",
      "        - 'individual' plots each run individually. \n",
      "        - 'mean_std' plots the mean values over the sim with standard deviation error bars\n",
      "        - 'mean_ci'  plots the mean values over the sim with mean confidence interval error bars\n",
      "            - optional argument ci (float 0.0-1.0) specifies the confidence interval (Default:0.95)\n",
      "        - 'mean_bound' plots the mean values over the sim with variable bound error bars\n",
      "        - 'percentile' plots the percentile distribution of the sim over time (does not reject outliers)\n",
      "            - optional argument 'perc_range' (int 0-100) specifies the percentile range of the inner bars (Default: 50) \n",
      "    comp_groups : dict, optional\n",
      "        Dictionary for comparison groups (if more than one) with structure:\n",
      "            {'group1':('scen1', 'scen2'), 'group2':('scen3', 'scen4')} Default is {}\n",
      "            If a legend is shown, group names are used as labels.\n",
      "    legend_loc : int, optional\n",
      "        Specifies the plot to place the legend on, if runs are bine compared. Default is -1 (the last plot)\n",
      "        To remove the legend, give a value of False\n",
      "    xlabel : str, optional\n",
      "        Label for the x-axes. Default is 'time'\n",
      "    ylabels : dict, optional\n",
      "        Label for the y-axes with structure {(fxnflowname, value):'label'}\n",
      "    max_ind : int, optional\n",
      "        index (usually correlates to time) cutoff for the simulation. Default is 'max' which uses the first simulation termination time.\n",
      "    boundtype : 'fill' or 'line', optional\n",
      "        -'fill' plots the error bounds as a filled area\n",
      "            - optional fillalpha (float) changes the alpha of this area.\n",
      "        -'line' plots the error bounds as lines\n",
      "            - optional boundcolor (str) changes the color of the bounds (default 'gray')\n",
      "            - optional boundlinestyle (str) changes the style of the bound lines (default '--')\n",
      "    fillalpha : float\n",
      "        alpha value for fill in aggregated plots. Default is 0.3.\n",
      "    boundcolor : str, optional\n",
      "        color to make the bounds in aggregated plots. Default is 'gray'\n",
      "    boundlinestyle : str, optional\n",
      "        linestyle to use for bounds in aggregated plots. Default is '--'\n",
      "    ci : float, optional\n",
      "        Bootstrap confidence interval (0-1) to use in 'mean_ci' bound argument. Default is 0.95.\n",
      "    title : str, optional\n",
      "        overall title for the plot. Default is ''\n",
      "    indiv_kwargs : dict, optional\n",
      "        dict of kwargs with structure {comp1:kwargs1, comp2:kwargs2}, where \n",
      "        where kwargs is an individual dict of keyword arguments for the\n",
      "        comparison group comp (or scenario, if not aggregated) which overrides \n",
      "        the global kwargs (or default behavior). If no comparison groups are given,\n",
      "        use 'default' for a single history or 'nominal'/'faulty' for a fault history\n",
      "        e.g. kwargs = {'nominal':{color:'green'}} would make the nominal color green   \n",
      "        Default is {}.\n",
      "    time_slice : int/list, optional\n",
      "        overlays a bar or bars at the given index when the fault was injected (if any). Default is []\n",
      "    time_slice_label : str, optional\n",
      "        label to use for the time slice bars in the legend. Default is None\n",
      "    figsize : tuple (float,float)\n",
      "        x-y size for the figure. The default is 'default', which dymanically gives 3 for each column and 2 for each row\n",
      "    v_padding : float\n",
      "        vertical padding between subplots as a fraction of axis height\n",
      "    h_padding : float\n",
      "        horizontal padding between subplots as a fraction of axis width\n",
      "    title_padding : float\n",
      "        padding for title as a fraction of figure height\n",
      "    phases : dict, optional\n",
      "        Provide to overlay phases on the individual function histories, where phases\n",
      "        is from rd.process.mdlhist and of structure {'fxnname':'phase':[start, end]}. \n",
      "        Default is {}.\n",
      "    modephases : dict, optional\n",
      "        dictionary that maps the phases to operational modes, if it is desired to track the progression\n",
      "        through modes\n",
      "    legend_title : str, optional\n",
      "        title for the legend. Default is None\n",
      "    **kwargs : kwargs\n",
      "        keyword arguments to mpl.plot e.g. linestyle, color, etc. See 'aggregation' for specification.\n",
      "        phases={}, modephases={}, label_phases=True,  **kwargs):\n",
      "\n"
     ]
    }
   ],
   "source": [
    "help(rd.plot.mdlhists)"
   ]
  },
  {
   "cell_type": "markdown",
   "id": "318a8223",
   "metadata": {},
   "source": [
    "`rd.plot.mdlhists` has a number of different options for visualization. For example, below we plot model states as individual lines:"
   ]
  },
  {
   "cell_type": "code",
   "execution_count": 32,
   "id": "1a9fe928",
   "metadata": {},
   "outputs": [
    {
     "data": {
      "image/png": "[encoded data removed]",
      "text/plain": [
       "<Figure size 432x432 with 6 Axes>"
      ]
     },
     "metadata": {
      "needs_background": "light"
     },
     "output_type": "display_data"
    }
   ],
   "source": [
    "fig = rd.plot.mdlhists(mdlhists, {'move_water':['eff','total_flow'], \n",
    "                                  'wat_2':['flowrate','pressure'], \n",
    "                                  'import_ee':['effstate', 'grid_noise'], \n",
    "                                  'ee_1':['voltage'], \n",
    "                                  'sig_1':['power']}, color='blue', alpha=0.1, legend_loc=False)"
   ]
  },
  {
   "cell_type": "code",
   "execution_count": 33,
   "id": "7a39da8a",
   "metadata": {},
   "outputs": [
    {
     "data": {
      "image/png": "[encoded data removed]",
      "text/plain": [
       "<Figure size 432x288 with 4 Axes>"
      ]
     },
     "metadata": {
      "needs_background": "light"
     },
     "output_type": "display_data"
    }
   ],
   "source": [
    "fig = rd.plot.mdlhists(mdlhists, {'move_water':['eff','total_flow'], \n",
    "                                  'wat_2':['flowrate','pressure']}, aggregation='percentile')"
   ]
  },
  {
   "cell_type": "markdown",
   "id": "08fa309a",
   "metadata": {},
   "source": [
    "Or as percentiles:"
   ]
  },
  {
   "cell_type": "code",
   "execution_count": 34,
   "id": "e5c12bac",
   "metadata": {},
   "outputs": [
    {
     "data": {
      "image/png": "[encoded data removed]",
      "text/plain": [
       "<Figure size 432x432 with 6 Axes>"
      ]
     },
     "metadata": {
      "needs_background": "light"
     },
     "output_type": "display_data"
    }
   ],
   "source": [
    "fig = rd.plot.mdlhists(mdlhists, {'move_water':['eff','total_flow'], \n",
    "                                  'wat_2':['flowrate','pressure'], \n",
    "                                  'import_ee':['effstate', 'grid_noise'], \n",
    "                                  'ee_1':['voltage'], \n",
    "                                  'sig_1':['power']}, aggregation='percentile') "
   ]
  },
  {
   "cell_type": "markdown",
   "id": "67f1ff92",
   "metadata": {},
   "source": [
    "Or as a mean with confidence interval:"
   ]
  },
  {
   "cell_type": "code",
   "execution_count": 35,
   "id": "fe8a8619",
   "metadata": {},
   "outputs": [
    {
     "data": {
      "image/png": "[encoded data removed]",
      "text/plain": [
       "<Figure size 432x432 with 6 Axes>"
      ]
     },
     "metadata": {
      "needs_background": "light"
     },
     "output_type": "display_data"
    }
   ],
   "source": [
    "fig = rd.plot.mdlhists(mdlhists, {'move_water':['eff','total_flow'], \n",
    "                                  'wat_2':['flowrate','pressure'], \n",
    "                                  'import_ee':['effstate', 'grid_noise'], \n",
    "                                  'ee_1':['voltage'], \n",
    "                                  'sig_1':['power']}, aggregation='mean_ci') "
   ]
  },
  {
   "cell_type": "markdown",
   "id": "176692d9",
   "metadata": {},
   "source": [
    "### Nested Fault Simulation"
   ]
  },
  {
   "cell_type": "markdown",
   "id": "64c400a6",
   "metadata": {},
   "source": [
    "We can also compare stochastic output over a set of scenarios using `plot.mdlhistvals` with the `comp_groups` parameter, which places the scenarios in different groups."
   ]
  },
  {
   "cell_type": "code",
   "execution_count": 36,
   "id": "838bb31a",
   "metadata": {},
   "outputs": [],
   "source": [
    "def paramfunc(delay=1):\n",
    "    return {'delay':delay}"
   ]
  },
  {
   "cell_type": "markdown",
   "id": "9c5c1992",
   "metadata": {},
   "source": [
    "This can be done by first creating an approach with two parameters we wish to compare. The pump still has one real parameter--the fault delay."
   ]
  },
  {
   "cell_type": "code",
   "execution_count": 37,
   "id": "1305f00c",
   "metadata": {},
   "outputs": [],
   "source": [
    "app_comp = NominalApproach()\n",
    "app_comp.add_param_replicates(paramfunc, 'delay_1', 100, delay=1)\n",
    "app_comp.add_param_replicates(paramfunc, 'delay_10', 100, delay=10)"
   ]
  },
  {
   "cell_type": "markdown",
   "id": "8be7a081",
   "metadata": {},
   "source": [
    "Since this delay only shows up in blockage fault modes, to compare the behaviors, we will first simulate it in a nested approach with only the blockage fault added."
   ]
  },
  {
   "cell_type": "code",
   "execution_count": 38,
   "id": "79818882",
   "metadata": {},
   "outputs": [],
   "source": [
    "import multiprocessing as mp"
   ]
  },
  {
   "cell_type": "code",
   "execution_count": 39,
   "id": "01ecda73",
   "metadata": {},
   "outputs": [],
   "source": [
    "pool=mp.Pool(4)"
   ]
  },
  {
   "cell_type": "code",
   "execution_count": 40,
   "id": "8a95d986",
   "metadata": {},
   "outputs": [
    {
     "name": "stderr",
     "output_type": "stream",
     "text": [
      "NESTED SCENARIOS COMPLETE:   1%|▌                                                      | 2/200 [00:00<00:15, 12.90it/s]"
     ]
    },
    {
     "name": "stdout",
     "output_type": "stream",
     "text": [
      "Faults found during the nominal run {'move_water': ['mech_break']}\n",
      "Faults found during the nominal run {'move_water': ['mech_break']}\n"
     ]
    },
    {
     "name": "stderr",
     "output_type": "stream",
     "text": [
      "NESTED SCENARIOS COMPLETE:   3%|█▋                                                     | 6/200 [00:00<00:14, 13.15it/s]"
     ]
    },
    {
     "name": "stdout",
     "output_type": "stream",
     "text": [
      "Faults found during the nominal run {'import_ee': ['no_v']}\n"
     ]
    },
    {
     "name": "stderr",
     "output_type": "stream",
     "text": [
      "NESTED SCENARIOS COMPLETE:   6%|███▏                                                  | 12/200 [00:00<00:14, 13.23it/s]"
     ]
    },
    {
     "name": "stdout",
     "output_type": "stream",
     "text": [
      "Faults found during the nominal run {'import_ee': ['no_v']}\n",
      "Faults found during the nominal run {'import_ee': ['no_v']}\n",
      "Faults found during the nominal run {'import_ee': ['no_v']}\n",
      "Faults found during the nominal run {'import_ee': ['no_v']}\n"
     ]
    },
    {
     "name": "stderr",
     "output_type": "stream",
     "text": [
      "NESTED SCENARIOS COMPLETE:   8%|████▎                                                 | 16/200 [00:01<00:13, 13.38it/s]"
     ]
    },
    {
     "name": "stdout",
     "output_type": "stream",
     "text": [
      "Faults found during the nominal run {'import_ee': ['no_v']}\n",
      "Faults found during the nominal run {'import_ee': ['no_v']}\n",
      "Faults found during the nominal run {'import_ee': ['no_v']}\n"
     ]
    },
    {
     "name": "stderr",
     "output_type": "stream",
     "text": [
      "NESTED SCENARIOS COMPLETE:  10%|█████▍                                                | 20/200 [00:01<00:13, 13.48it/s]"
     ]
    },
    {
     "name": "stdout",
     "output_type": "stream",
     "text": [
      "Faults found during the nominal run {'move_water': ['mech_break']}\n",
      "Faults found during the nominal run {'import_ee': ['no_v']}\n",
      "Faults found during the nominal run {'import_ee': ['no_v']}\n",
      "Faults found during the nominal run {'import_ee': ['no_v']}\n"
     ]
    },
    {
     "name": "stderr",
     "output_type": "stream",
     "text": [
      "\r",
      "NESTED SCENARIOS COMPLETE:  11%|█████▉                                                | 22/200 [00:01<00:13, 13.42it/s]"
     ]
    },
    {
     "name": "stdout",
     "output_type": "stream",
     "text": [
      "Faults found during the nominal run {'import_ee': ['no_v']}\n"
     ]
    },
    {
     "name": "stderr",
     "output_type": "stream",
     "text": [
      "NESTED SCENARIOS COMPLETE:  14%|███████▌                                              | 28/200 [00:02<00:13, 12.71it/s]"
     ]
    },
    {
     "name": "stdout",
     "output_type": "stream",
     "text": [
      "Faults found during the nominal run {'move_water': ['mech_break']}\n",
      "Faults found during the nominal run {'import_ee': ['no_v']}\n"
     ]
    },
    {
     "name": "stderr",
     "output_type": "stream",
     "text": [
      "NESTED SCENARIOS COMPLETE:  16%|████████▋                                             | 32/200 [00:02<00:12, 13.20it/s]"
     ]
    },
    {
     "name": "stdout",
     "output_type": "stream",
     "text": [
      "Faults found during the nominal run {'import_ee': ['no_v']}\n",
      "Faults found during the nominal run {'import_ee': ['no_v']}\n",
      "Faults found during the nominal run {'import_ee': ['no_v']}\n",
      "Faults found during the nominal run {'import_ee': ['no_v']}\n"
     ]
    },
    {
     "name": "stderr",
     "output_type": "stream",
     "text": [
      "NESTED SCENARIOS COMPLETE:  18%|█████████▋                                            | 36/200 [00:02<00:12, 12.83it/s]"
     ]
    },
    {
     "name": "stdout",
     "output_type": "stream",
     "text": [
      "Faults found during the nominal run {'move_water': ['mech_break']}\n"
     ]
    },
    {
     "name": "stderr",
     "output_type": "stream",
     "text": [
      "NESTED SCENARIOS COMPLETE:  20%|██████████▊                                           | 40/200 [00:03<00:12, 12.68it/s]"
     ]
    },
    {
     "name": "stdout",
     "output_type": "stream",
     "text": [
      "Faults found during the nominal run {'import_ee': ['no_v']}\n",
      "Faults found during the nominal run {'import_ee': ['no_v']}\n"
     ]
    },
    {
     "name": "stderr",
     "output_type": "stream",
     "text": [
      "\r",
      "NESTED SCENARIOS COMPLETE:  21%|███████████▎                                          | 42/200 [00:03<00:12, 12.47it/s]"
     ]
    },
    {
     "name": "stdout",
     "output_type": "stream",
     "text": [
      "Faults found during the nominal run {'import_ee': ['no_v']}\n"
     ]
    },
    {
     "name": "stderr",
     "output_type": "stream",
     "text": [
      "NESTED SCENARIOS COMPLETE:  23%|████████████▍                                         | 46/200 [00:03<00:12, 12.56it/s]"
     ]
    },
    {
     "name": "stdout",
     "output_type": "stream",
     "text": [
      "Faults found during the nominal run {'import_ee': ['no_v']}\n",
      "Faults found during the nominal run {'import_ee': ['no_v']}\n"
     ]
    },
    {
     "name": "stderr",
     "output_type": "stream",
     "text": [
      "\r",
      "NESTED SCENARIOS COMPLETE:  24%|████████████▉                                         | 48/200 [00:03<00:12, 12.59it/s]"
     ]
    },
    {
     "name": "stdout",
     "output_type": "stream",
     "text": [
      "Faults found during the nominal run {'move_water': ['mech_break']}\n",
      "Faults found during the nominal run {'move_water': ['mech_break']}\n"
     ]
    },
    {
     "name": "stderr",
     "output_type": "stream",
     "text": [
      "NESTED SCENARIOS COMPLETE:  27%|██████████████▌                                       | 54/200 [00:04<00:13, 11.21it/s]"
     ]
    },
    {
     "name": "stdout",
     "output_type": "stream",
     "text": [
      "Faults found during the nominal run {'import_ee': ['no_v']}\n"
     ]
    },
    {
     "name": "stderr",
     "output_type": "stream",
     "text": [
      "\r",
      "NESTED SCENARIOS COMPLETE:  28%|███████████████                                       | 56/200 [00:04<00:12, 11.57it/s]"
     ]
    },
    {
     "name": "stdout",
     "output_type": "stream",
     "text": [
      "Faults found during the nominal run {'import_ee': ['no_v']}\n",
      "Faults found during the nominal run {'import_ee': ['no_v']}\n"
     ]
    },
    {
     "name": "stderr",
     "output_type": "stream",
     "text": [
      "NESTED SCENARIOS COMPLETE:  30%|████████████████▏                                     | 60/200 [00:04<00:10, 12.89it/s]"
     ]
    },
    {
     "name": "stdout",
     "output_type": "stream",
     "text": [
      "Faults found during the nominal run {'import_ee': ['no_v']}\n",
      "Faults found during the nominal run {'import_ee': ['no_v']}\n",
      "Faults found during the nominal run {'import_ee': ['no_v']}\n"
     ]
    },
    {
     "name": "stderr",
     "output_type": "stream",
     "text": [
      "\r",
      "NESTED SCENARIOS COMPLETE:  31%|████████████████▋                                     | 62/200 [00:04<00:10, 13.07it/s]"
     ]
    },
    {
     "name": "stdout",
     "output_type": "stream",
     "text": [
      "Faults found during the nominal run {'import_ee': ['no_v']}\n",
      "Faults found during the nominal run {'import_ee': ['no_v']}\n"
     ]
    },
    {
     "name": "stderr",
     "output_type": "stream",
     "text": [
      "NESTED SCENARIOS COMPLETE:  33%|█████████████████▊                                    | 66/200 [00:05<00:10, 12.47it/s]"
     ]
    },
    {
     "name": "stdout",
     "output_type": "stream",
     "text": [
      "Faults found during the nominal run {'move_water': ['mech_break']}\n",
      "Faults found during the nominal run {'import_ee': ['no_v']}\n",
      "Faults found during the nominal run {'import_ee': ['no_v']}\n"
     ]
    },
    {
     "name": "stderr",
     "output_type": "stream",
     "text": [
      "NESTED SCENARIOS COMPLETE:  35%|██████████████████▉                                   | 70/200 [00:05<00:10, 12.94it/s]"
     ]
    },
    {
     "name": "stdout",
     "output_type": "stream",
     "text": [
      "Faults found during the nominal run {'import_ee': ['no_v']}\n",
      "Faults found during the nominal run {'move_water': ['mech_break']}\n",
      "Faults found during the nominal run {'import_ee': ['no_v']}\n"
     ]
    },
    {
     "name": "stderr",
     "output_type": "stream",
     "text": [
      "\r",
      "NESTED SCENARIOS COMPLETE:  36%|███████████████████▍                                  | 72/200 [00:05<00:10, 12.71it/s]"
     ]
    },
    {
     "name": "stdout",
     "output_type": "stream",
     "text": [
      "Faults found during the nominal run {'import_ee': ['no_v']}\n",
      "Faults found during the nominal run {'import_ee': ['no_v']}\n",
      "Faults found during the nominal run {'import_ee': ['no_v']}\n"
     ]
    },
    {
     "name": "stderr",
     "output_type": "stream",
     "text": [
      "NESTED SCENARIOS COMPLETE:  39%|█████████████████████                                 | 78/200 [00:06<00:09, 12.43it/s]"
     ]
    },
    {
     "name": "stdout",
     "output_type": "stream",
     "text": [
      "Faults found during the nominal run {'move_water': ['mech_break']}\n",
      "Faults found during the nominal run {'import_ee': ['no_v']}\n"
     ]
    },
    {
     "name": "stderr",
     "output_type": "stream",
     "text": [
      "\r",
      "NESTED SCENARIOS COMPLETE:  40%|█████████████████████▌                                | 80/200 [00:06<00:09, 12.32it/s]"
     ]
    },
    {
     "name": "stdout",
     "output_type": "stream",
     "text": [
      "Faults found during the nominal run {'move_water': ['mech_break']}\n",
      "Faults found during the nominal run {'move_water': ['mech_break']}\n"
     ]
    },
    {
     "name": "stderr",
     "output_type": "stream",
     "text": [
      "NESTED SCENARIOS COMPLETE:  43%|███████████████████████▏                              | 86/200 [00:06<00:09, 12.65it/s]"
     ]
    },
    {
     "name": "stdout",
     "output_type": "stream",
     "text": [
      "Faults found during the nominal run {'move_water': ['mech_break']}\n"
     ]
    },
    {
     "name": "stderr",
     "output_type": "stream",
     "text": [
      "\r",
      "NESTED SCENARIOS COMPLETE:  44%|███████████████████████▊                              | 88/200 [00:06<00:08, 12.50it/s]"
     ]
    },
    {
     "name": "stdout",
     "output_type": "stream",
     "text": [
      "Faults found during the nominal run {'import_ee': ['no_v']}\n",
      "Faults found during the nominal run {'move_water': ['mech_break']}\n"
     ]
    },
    {
     "name": "stderr",
     "output_type": "stream",
     "text": [
      "NESTED SCENARIOS COMPLETE:  46%|████████████████████████▊                             | 92/200 [00:07<00:08, 12.70it/s]"
     ]
    },
    {
     "name": "stdout",
     "output_type": "stream",
     "text": [
      "Faults found during the nominal run {'move_water': ['mech_break']}\n",
      "Faults found during the nominal run {'move_water': ['mech_break']}\n",
      "Faults found during the nominal run {'move_water': ['mech_break']}\n"
     ]
    },
    {
     "name": "stderr",
     "output_type": "stream",
     "text": [
      "NESTED SCENARIOS COMPLETE:  48%|█████████████████████████▉                            | 96/200 [00:07<00:08, 12.73it/s]"
     ]
    },
    {
     "name": "stdout",
     "output_type": "stream",
     "text": [
      "Faults found during the nominal run {'import_ee': ['no_v']}\n"
     ]
    },
    {
     "name": "stderr",
     "output_type": "stream",
     "text": [
      "NESTED SCENARIOS COMPLETE:  50%|██████████████████████████▌                          | 100/200 [00:07<00:07, 13.43it/s]"
     ]
    },
    {
     "name": "stdout",
     "output_type": "stream",
     "text": [
      "Faults found during the nominal run {'import_ee': ['no_v']}\n",
      "Faults found during the nominal run {'import_ee': ['no_v']}\n",
      "Faults found during the nominal run {'import_ee': ['no_v']}\n"
     ]
    },
    {
     "name": "stderr",
     "output_type": "stream",
     "text": [
      "NESTED SCENARIOS COMPLETE:  52%|███████████████████████████▌                         | 104/200 [00:08<00:07, 13.09it/s]"
     ]
    },
    {
     "name": "stdout",
     "output_type": "stream",
     "text": [
      "Faults found during the nominal run {'import_ee': ['no_v']}\n",
      "Faults found during the nominal run {'import_ee': ['no_v']}\n"
     ]
    },
    {
     "name": "stderr",
     "output_type": "stream",
     "text": [
      "\r",
      "NESTED SCENARIOS COMPLETE:  53%|████████████████████████████                         | 106/200 [00:08<00:07, 13.07it/s]"
     ]
    },
    {
     "name": "stdout",
     "output_type": "stream",
     "text": [
      "Faults found during the nominal run {'import_ee': ['no_v']}\n",
      "Faults found during the nominal run {'import_ee': ['no_v']}\n"
     ]
    },
    {
     "name": "stderr",
     "output_type": "stream",
     "text": [
      "NESTED SCENARIOS COMPLETE:  56%|█████████████████████████████▋                       | 112/200 [00:08<00:07, 12.36it/s]"
     ]
    },
    {
     "name": "stdout",
     "output_type": "stream",
     "text": [
      "Faults found during the nominal run {'import_ee': ['no_v']}\n"
     ]
    },
    {
     "name": "stderr",
     "output_type": "stream",
     "text": [
      "NESTED SCENARIOS COMPLETE:  58%|██████████████████████████████▋                      | 116/200 [00:09<00:06, 12.95it/s]"
     ]
    },
    {
     "name": "stdout",
     "output_type": "stream",
     "text": [
      "Faults found during the nominal run {'import_ee': ['no_v']}\n",
      "Faults found during the nominal run {'import_ee': ['no_v']}\n",
      "Faults found during the nominal run {'import_ee': ['no_v']}\n"
     ]
    },
    {
     "name": "stderr",
     "output_type": "stream",
     "text": [
      "NESTED SCENARIOS COMPLETE:  62%|████████████████████████████████▊                    | 124/200 [00:09<00:05, 13.06it/s]"
     ]
    },
    {
     "name": "stdout",
     "output_type": "stream",
     "text": [
      "Faults found during the nominal run {'import_ee': ['no_v']}\n",
      "Faults found during the nominal run {'import_ee': ['no_v']}\n",
      "Faults found during the nominal run {'import_ee': ['no_v']}\n"
     ]
    },
    {
     "name": "stderr",
     "output_type": "stream",
     "text": [
      "NESTED SCENARIOS COMPLETE:  66%|██████████████████████████████████▉                  | 132/200 [00:10<00:05, 12.58it/s]"
     ]
    },
    {
     "name": "stdout",
     "output_type": "stream",
     "text": [
      "Faults found during the nominal run {'import_ee': ['no_v']}\n"
     ]
    },
    {
     "name": "stderr",
     "output_type": "stream",
     "text": [
      "\r",
      "NESTED SCENARIOS COMPLETE:  67%|███████████████████████████████████▌                 | 134/200 [00:10<00:05, 12.35it/s]"
     ]
    },
    {
     "name": "stdout",
     "output_type": "stream",
     "text": [
      "Faults found during the nominal run {'import_ee': ['no_v']}\n",
      "Faults found during the nominal run {'import_ee': ['no_v']}\n"
     ]
    },
    {
     "name": "stderr",
     "output_type": "stream",
     "text": [
      "NESTED SCENARIOS COMPLETE:  69%|████████████████████████████████████▌                | 138/200 [00:10<00:04, 12.81it/s]"
     ]
    },
    {
     "name": "stdout",
     "output_type": "stream",
     "text": [
      "Faults found during the nominal run {'import_ee': ['no_v']}\n",
      "Faults found during the nominal run {'import_ee': ['no_v']}\n",
      "Faults found during the nominal run {'import_ee': ['no_v']}\n"
     ]
    },
    {
     "name": "stderr",
     "output_type": "stream",
     "text": [
      "NESTED SCENARIOS COMPLETE:  74%|███████████████████████████████████████▏             | 148/200 [00:11<00:04, 11.94it/s]"
     ]
    },
    {
     "name": "stdout",
     "output_type": "stream",
     "text": [
      "Faults found during the nominal run {'import_ee': ['no_v']}\n"
     ]
    },
    {
     "name": "stderr",
     "output_type": "stream",
     "text": [
      "NESTED SCENARIOS COMPLETE:  76%|████████████████████████████████████████▎            | 152/200 [00:12<00:03, 12.95it/s]"
     ]
    },
    {
     "name": "stdout",
     "output_type": "stream",
     "text": [
      "Faults found during the nominal run {'import_ee': ['no_v']}\n",
      "Faults found during the nominal run {'import_ee': ['no_v']}\n",
      "Faults found during the nominal run {'import_ee': ['no_v']}\n"
     ]
    },
    {
     "name": "stderr",
     "output_type": "stream",
     "text": [
      "NESTED SCENARIOS COMPLETE:  78%|█████████████████████████████████████████▎           | 156/200 [00:12<00:03, 12.89it/s]"
     ]
    },
    {
     "name": "stdout",
     "output_type": "stream",
     "text": [
      "Faults found during the nominal run {'import_ee': ['no_v']}\n",
      "Faults found during the nominal run {'import_ee': ['no_v']}\n"
     ]
    },
    {
     "name": "stderr",
     "output_type": "stream",
     "text": [
      "NESTED SCENARIOS COMPLETE:  80%|██████████████████████████████████████████▍          | 160/200 [00:12<00:03, 12.98it/s]"
     ]
    },
    {
     "name": "stdout",
     "output_type": "stream",
     "text": [
      "Faults found during the nominal run {'import_ee': ['no_v']}\n",
      "Faults found during the nominal run {'import_ee': ['no_v']}\n"
     ]
    },
    {
     "name": "stderr",
     "output_type": "stream",
     "text": [
      "NESTED SCENARIOS COMPLETE:  82%|███████████████████████████████████████████▍         | 164/200 [00:12<00:02, 13.47it/s]"
     ]
    },
    {
     "name": "stdout",
     "output_type": "stream",
     "text": [
      "Faults found during the nominal run {'import_ee': ['no_v']}\n",
      "Faults found during the nominal run {'import_ee': ['no_v']}\n",
      "Faults found during the nominal run {'import_ee': ['no_v']}\n"
     ]
    },
    {
     "name": "stderr",
     "output_type": "stream",
     "text": [
      "\r",
      "NESTED SCENARIOS COMPLETE:  83%|███████████████████████████████████████████▉         | 166/200 [00:13<00:02, 13.10it/s]"
     ]
    },
    {
     "name": "stdout",
     "output_type": "stream",
     "text": [
      "Faults found during the nominal run {'import_ee': ['no_v']}\n"
     ]
    },
    {
     "name": "stderr",
     "output_type": "stream",
     "text": [
      "NESTED SCENARIOS COMPLETE:  85%|█████████████████████████████████████████████        | 170/200 [00:13<00:02, 13.21it/s]"
     ]
    },
    {
     "name": "stdout",
     "output_type": "stream",
     "text": [
      "Faults found during the nominal run {'import_ee': ['no_v']}\n",
      "Faults found during the nominal run {'import_ee': ['no_v']}\n"
     ]
    },
    {
     "name": "stderr",
     "output_type": "stream",
     "text": [
      "NESTED SCENARIOS COMPLETE:  88%|██████████████████████████████████████████████▋      | 176/200 [00:13<00:01, 12.91it/s]"
     ]
    },
    {
     "name": "stdout",
     "output_type": "stream",
     "text": [
      "Faults found during the nominal run {'import_ee': ['no_v']}\n",
      "Faults found during the nominal run {'import_ee': ['no_v']}\n"
     ]
    },
    {
     "name": "stderr",
     "output_type": "stream",
     "text": [
      "\r",
      "NESTED SCENARIOS COMPLETE:  89%|███████████████████████████████████████████████▏     | 178/200 [00:14<00:01, 12.70it/s]"
     ]
    },
    {
     "name": "stdout",
     "output_type": "stream",
     "text": [
      "Faults found during the nominal run {'import_ee': ['no_v']}\n",
      "Faults found during the nominal run {'import_ee': ['no_v']}\n"
     ]
    },
    {
     "name": "stderr",
     "output_type": "stream",
     "text": [
      "NESTED SCENARIOS COMPLETE:  91%|████████████████████████████████████████████████▏    | 182/200 [00:14<00:01, 12.48it/s]"
     ]
    },
    {
     "name": "stdout",
     "output_type": "stream",
     "text": [
      "Faults found during the nominal run {'import_ee': ['no_v']}\n"
     ]
    },
    {
     "name": "stderr",
     "output_type": "stream",
     "text": [
      "NESTED SCENARIOS COMPLETE:  93%|█████████████████████████████████████████████████▎   | 186/200 [00:14<00:01, 12.62it/s]"
     ]
    },
    {
     "name": "stdout",
     "output_type": "stream",
     "text": [
      "Faults found during the nominal run {'import_ee': ['no_v']}\n",
      "Faults found during the nominal run {'import_ee': ['no_v']}\n"
     ]
    },
    {
     "name": "stderr",
     "output_type": "stream",
     "text": [
      "\r",
      "NESTED SCENARIOS COMPLETE:  94%|█████████████████████████████████████████████████▊   | 188/200 [00:14<00:00, 12.38it/s]"
     ]
    },
    {
     "name": "stdout",
     "output_type": "stream",
     "text": [
      "Faults found during the nominal run {'import_ee': ['no_v']}\n",
      "Faults found during the nominal run {'import_ee': ['no_v']}\n"
     ]
    },
    {
     "name": "stderr",
     "output_type": "stream",
     "text": [
      "NESTED SCENARIOS COMPLETE:  97%|███████████████████████████████████████████████████▍ | 194/200 [00:15<00:00, 12.75it/s]"
     ]
    },
    {
     "name": "stdout",
     "output_type": "stream",
     "text": [
      "Faults found during the nominal run {'import_ee': ['no_v']}\n",
      "Faults found during the nominal run {'import_ee': ['no_v']}\n"
     ]
    },
    {
     "name": "stderr",
     "output_type": "stream",
     "text": [
      "NESTED SCENARIOS COMPLETE:  99%|████████████████████████████████████████████████████▍| 198/200 [00:15<00:00, 12.63it/s]"
     ]
    },
    {
     "name": "stdout",
     "output_type": "stream",
     "text": [
      "Faults found during the nominal run {'import_ee': ['no_v']}\n",
      "Faults found during the nominal run {'import_ee': ['no_v']}\n"
     ]
    },
    {
     "name": "stderr",
     "output_type": "stream",
     "text": [
      "NESTED SCENARIOS COMPLETE: 100%|█████████████████████████████████████████████████████| 200/200 [00:15<00:00, 12.69it/s]"
     ]
    },
    {
     "name": "stdout",
     "output_type": "stream",
     "text": [
      "Faults found during the nominal run {'import_ee': ['no_v']}\n",
      "Faults found during the nominal run {'import_ee': ['no_v']}\n"
     ]
    },
    {
     "name": "stderr",
     "output_type": "stream",
     "text": [
      "\n"
     ]
    }
   ],
   "source": [
    "endclasses, mdlhists, apps=propagate.nested_approach(mdl,app_comp, run_stochastic=True, faults=[('export_water','block')])"
   ]
  },
  {
   "cell_type": "markdown",
   "id": "cb7a190b",
   "metadata": {},
   "source": [
    "Next, we get just the scenarios of interest:"
   ]
  },
  {
   "cell_type": "code",
   "execution_count": 41,
   "id": "7729ec3a",
   "metadata": {},
   "outputs": [],
   "source": [
    "comp_mdlhists = {scen:mdlhist['export_water block, t=27.0'] for scen,mdlhist in mdlhists.items()}"
   ]
  },
  {
   "cell_type": "markdown",
   "id": "5f9aecdd",
   "metadata": {},
   "source": [
    "Finally, we create some comparison groups to group the results by:"
   ]
  },
  {
   "cell_type": "code",
   "execution_count": 42,
   "id": "357d68d1",
   "metadata": {},
   "outputs": [],
   "source": [
    "comp_groups = {'delay_1': app_comp.ranges['delay_1']['scenarios'], 'delay_10':app_comp.ranges['delay_10']['scenarios']}"
   ]
  },
  {
   "cell_type": "markdown",
   "id": "614d79df",
   "metadata": {},
   "source": [
    "These are the resulting behaviors:"
   ]
  },
  {
   "cell_type": "code",
   "execution_count": 43,
   "id": "a1b39f95",
   "metadata": {},
   "outputs": [
    {
     "data": {
      "image/png": "[encoded data removed]",
      "text/plain": [
       "<Figure size 432x288 with 4 Axes>"
      ]
     },
     "metadata": {
      "needs_background": "light"
     },
     "output_type": "display_data"
    }
   ],
   "source": [
    "fig = rd.plot.mdlhists(comp_mdlhists, {'move_water':['eff','total_flow'], \n",
    "                                       'wat_2':['flowrate','pressure']}, \n",
    "                       comp_groups=comp_groups, aggregation='percentile', time_slice=27) "
   ]
  },
  {
   "cell_type": "markdown",
   "id": "761404fd",
   "metadata": {},
   "source": [
    "There a few interesting aspects of this simulation:\n",
    "    - First, some of the `delay_1` design simulations have a zero flowrate before the fault is injected. This is because the reduced delay means that nominal behavior can easily cause the fault--all that nees to happen is for the pressure to go over 15 for two time-steps, which is entirely forseeable with all the variability in the simulation. This can also be seen in the \"total_flow\" graph.\n",
    "    - Second, the `delay_10` gives the nominal behavior until the fault time, when pressure increases dramatically. This is also observed in the `delay_1` design, but with a much smaller delay (1 instead of 1)."
   ]
  },
  {
   "cell_type": "markdown",
   "id": "5db56393",
   "metadata": {},
   "source": [
    "Finally, running multiple simulations relies on the NominalApproach, it can be combined fairly easily with existing methods used in conjunction with NominalApproach. (e.g., `tabulate.nested_stats`)."
   ]
  },
  {
   "cell_type": "code",
   "execution_count": 44,
   "id": "c5365822",
   "metadata": {},
   "outputs": [
    {
     "data": {
      "text/html": [
       "<div>\n",
       "<style scoped>\n",
       "    .dataframe tbody tr th:only-of-type {\n",
       "        vertical-align: middle;\n",
       "    }\n",
       "\n",
       "    .dataframe tbody tr th {\n",
       "        vertical-align: top;\n",
       "    }\n",
       "\n",
       "    .dataframe thead th {\n",
       "        text-align: right;\n",
       "    }\n",
       "</style>\n",
       "<table border=\"1\" class=\"dataframe\">\n",
       "  <thead>\n",
       "    <tr style=\"text-align: right;\">\n",
       "      <th></th>\n",
       "      <th>delay_1_1</th>\n",
       "      <th>delay_1_2</th>\n",
       "      <th>delay_1_3</th>\n",
       "      <th>delay_1_4</th>\n",
       "      <th>delay_1_5</th>\n",
       "      <th>delay_1_6</th>\n",
       "      <th>delay_1_7</th>\n",
       "      <th>delay_1_8</th>\n",
       "      <th>delay_1_9</th>\n",
       "      <th>delay_1_10</th>\n",
       "      <th>...</th>\n",
       "      <th>delay_10_191</th>\n",
       "      <th>delay_10_192</th>\n",
       "      <th>delay_10_193</th>\n",
       "      <th>delay_10_194</th>\n",
       "      <th>delay_10_195</th>\n",
       "      <th>delay_10_196</th>\n",
       "      <th>delay_10_197</th>\n",
       "      <th>delay_10_198</th>\n",
       "      <th>delay_10_199</th>\n",
       "      <th>delay_10_200</th>\n",
       "    </tr>\n",
       "  </thead>\n",
       "  <tbody>\n",
       "    <tr>\n",
       "      <th>delay</th>\n",
       "      <td>1.000000</td>\n",
       "      <td>1.00000</td>\n",
       "      <td>1.00000</td>\n",
       "      <td>1.000000</td>\n",
       "      <td>1.000000</td>\n",
       "      <td>1.000000</td>\n",
       "      <td>1.000000</td>\n",
       "      <td>1.000000</td>\n",
       "      <td>1.000000</td>\n",
       "      <td>1.000000</td>\n",
       "      <td>...</td>\n",
       "      <td>10.000000</td>\n",
       "      <td>10.000000</td>\n",
       "      <td>10.000000</td>\n",
       "      <td>10.0</td>\n",
       "      <td>10.000000</td>\n",
       "      <td>10.000000</td>\n",
       "      <td>10.000000</td>\n",
       "      <td>10.000000</td>\n",
       "      <td>10.000000</td>\n",
       "      <td>10.000000</td>\n",
       "    </tr>\n",
       "    <tr>\n",
       "      <th>ave_cost</th>\n",
       "      <td>8978.612175</td>\n",
       "      <td>12493.18184</td>\n",
       "      <td>8834.87775</td>\n",
       "      <td>12313.469946</td>\n",
       "      <td>13052.622856</td>\n",
       "      <td>12141.155737</td>\n",
       "      <td>12437.056885</td>\n",
       "      <td>12430.703418</td>\n",
       "      <td>12563.139331</td>\n",
       "      <td>13268.293743</td>\n",
       "      <td>...</td>\n",
       "      <td>11271.641131</td>\n",
       "      <td>13785.724264</td>\n",
       "      <td>11401.513868</td>\n",
       "      <td>13750.0</td>\n",
       "      <td>10759.055814</td>\n",
       "      <td>14049.648274</td>\n",
       "      <td>11357.466587</td>\n",
       "      <td>13872.704938</td>\n",
       "      <td>13333.900367</td>\n",
       "      <td>14578.266882</td>\n",
       "    </tr>\n",
       "  </tbody>\n",
       "</table>\n",
       "<p>2 rows × 200 columns</p>\n",
       "</div>"
      ],
      "text/plain": [
       "            delay_1_1    delay_1_2   delay_1_3     delay_1_4     delay_1_5  \\\n",
       "delay        1.000000      1.00000     1.00000      1.000000      1.000000   \n",
       "ave_cost  8978.612175  12493.18184  8834.87775  12313.469946  13052.622856   \n",
       "\n",
       "             delay_1_6     delay_1_7     delay_1_8     delay_1_9  \\\n",
       "delay         1.000000      1.000000      1.000000      1.000000   \n",
       "ave_cost  12141.155737  12437.056885  12430.703418  12563.139331   \n",
       "\n",
       "            delay_1_10  ...  delay_10_191  delay_10_192  delay_10_193  \\\n",
       "delay         1.000000  ...     10.000000     10.000000     10.000000   \n",
       "ave_cost  13268.293743  ...  11271.641131  13785.724264  11401.513868   \n",
       "\n",
       "          delay_10_194  delay_10_195  delay_10_196  delay_10_197  \\\n",
       "delay             10.0     10.000000     10.000000     10.000000   \n",
       "ave_cost       13750.0  10759.055814  14049.648274  11357.466587   \n",
       "\n",
       "          delay_10_198  delay_10_199  delay_10_200  \n",
       "delay        10.000000     10.000000     10.000000  \n",
       "ave_cost  13872.704938  13333.900367  14578.266882  \n",
       "\n",
       "[2 rows x 200 columns]"
      ]
     },
     "execution_count": 44,
     "metadata": {},
     "output_type": "execute_result"
    }
   ],
   "source": [
    "rd.tabulate.nested_stats(app_comp, endclasses, average_metrics=['cost'], inputparams=['delay'])"
   ]
  },
  {
   "cell_type": "code",
   "execution_count": 45,
   "id": "0835a747",
   "metadata": {},
   "outputs": [
    {
     "data": {
      "text/html": [
       "<div>\n",
       "<style scoped>\n",
       "    .dataframe tbody tr th:only-of-type {\n",
       "        vertical-align: middle;\n",
       "    }\n",
       "\n",
       "    .dataframe tbody tr th {\n",
       "        vertical-align: top;\n",
       "    }\n",
       "\n",
       "    .dataframe thead th {\n",
       "        text-align: right;\n",
       "    }\n",
       "</style>\n",
       "<table border=\"1\" class=\"dataframe\">\n",
       "  <thead>\n",
       "    <tr style=\"text-align: right;\">\n",
       "      <th>(delay,)</th>\n",
       "      <th>nominal</th>\n",
       "      <th>export_water</th>\n",
       "    </tr>\n",
       "  </thead>\n",
       "  <tbody>\n",
       "    <tr>\n",
       "      <th>delay_1</th>\n",
       "      <td>5150.0</td>\n",
       "      <td>14942.831997</td>\n",
       "    </tr>\n",
       "    <tr>\n",
       "      <th>delay_10</th>\n",
       "      <td>4600.0</td>\n",
       "      <td>15125.963121</td>\n",
       "    </tr>\n",
       "  </tbody>\n",
       "</table>\n",
       "</div>"
      ],
      "text/plain": [
       "('delay',)  nominal  export_water\n",
       "delay_1      5150.0  14942.831997\n",
       "delay_10     4600.0  15125.963121"
      ]
     },
     "execution_count": 45,
     "metadata": {},
     "output_type": "execute_result"
    }
   ],
   "source": [
    "rd.tabulate.resilience_factor_comparison(app_comp, endclasses, ['delay'], 'cost',  difference=False, percent=False)"
   ]
  },
  {
   "cell_type": "code",
   "execution_count": null,
   "id": "4e19e9f0",
   "metadata": {},
   "outputs": [],
   "source": []
  },
  {
   "cell_type": "code",
   "execution_count": null,
   "id": "5e2f3192",
   "metadata": {},
   "outputs": [],
   "source": []
  }
 ],
 "metadata": {
  "kernelspec": {
   "display_name": "Python 3 (ipykernel)",
   "language": "python",
   "name": "python3"
  },
  "language_info": {
   "codemirror_mode": {
    "name": "ipython",
    "version": 3
   },
   "file_extension": ".py",
   "mimetype": "text/x-python",
   "name": "python",
   "nbconvert_exporter": "python",
   "pygments_lexer": "ipython3",
   "version": "3.9.7"
  },
  "vscode": {
   "interpreter": {
    "hash": "e91384d516de244e8027664e7296e7623a911fd9d79a3021d1ef03e3e53e2456"
   }
  }
 },
 "nbformat": 4,
 "nbformat_minor": 5
}
