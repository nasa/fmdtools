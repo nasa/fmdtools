{
 "cells": [
  {
   "cell_type": "markdown",
   "id": "fe41d669",
   "metadata": {},
   "source": [
    "# Optimization using the Problem class\n",
    "\n",
    "This notebook will show the basics of setting up a resilience optimization problem with the `Problem` class in `fmdtools.faultsim.search` module."
   ]
  },
  {
   "cell_type": "code",
   "execution_count": 1,
   "id": "43a662d2",
   "metadata": {},
   "outputs": [],
   "source": [
    "import sys, os\n",
    "sys.path.insert(0,os.path.join('..'))\n",
    "from fmdtools.faultsim.search import Problem\n",
    "from pump_stochastic import Pump"
   ]
  },
  {
   "cell_type": "markdown",
   "id": "8c7be27e",
   "metadata": {},
   "source": [
    "The `Problem` class can be used to define an optimization problem around and fmdtools model/simulation in terms of variables, objectives, and constraints. See below:"
   ]
  },
  {
   "cell_type": "code",
   "execution_count": 2,
   "id": "5120bf24",
   "metadata": {},
   "outputs": [
    {
     "name": "stdout",
     "output_type": "stream",
     "text": [
      "\n",
      "    Interface for resilience optimization problems. \n",
      "    \n",
      "    Attributes\n",
      "    ----------\n",
      "        simulations : dict\n",
      "            Dictionary of simulations and their corresponding arguments\n",
      "        variables : list\n",
      "            List of variables and their properties\n",
      "        objectives : dict\n",
      "            Dictionary of objectives and their times/arguments\n",
      "        constraints : dict\n",
      "            Dictionary of constraints and their times/arguments\n",
      "        current_iter : dict\n",
      "            Dictionary of current values for variables/objectives/constraints/etc.\n",
      "    \n"
     ]
    }
   ],
   "source": [
    "print(Problem.__doc__)"
   ]
  },
  {
   "cell_type": "markdown",
   "id": "6aaed428",
   "metadata": {},
   "source": [
    "The problem class has many of the same objects as the methods in the `faultsim.propagate` module:"
   ]
  },
  {
   "cell_type": "code",
   "execution_count": 3,
   "id": "20e6a3a5",
   "metadata": {},
   "outputs": [
    {
     "name": "stdout",
     "output_type": "stream",
     "text": [
      "Help on function __init__ in module fmdtools.faultsim.search:\n",
      "\n",
      "__init__(self, name, mdl, default_params={}, **kwargs)\n",
      "    Instantiates the Problem object.\n",
      "    \n",
      "    Parameters\n",
      "    ----------\n",
      "    \n",
      "    name : str\n",
      "        Name for the problem\n",
      "    mdl : Model\n",
      "        Model to optimize\n",
      "    default_params : dict\n",
      "        Default parameters for the model\n",
      "    **kwargs : kwargs\n",
      "        Default run kwargs. See :data:`sim_kwargs`, :data:`run_kwargs`, :data:`mult_kwargs`\n",
      "\n"
     ]
    }
   ],
   "source": [
    "help(Problem.__init__)"
   ]
  },
  {
   "cell_type": "markdown",
   "id": "bb6345b2",
   "metadata": {},
   "source": [
    "Below we send the pump model and specify to simulate it using the `staged` option (which should be much faster to iterate over)."
   ]
  },
  {
   "cell_type": "code",
   "execution_count": 4,
   "id": "949e8a24",
   "metadata": {},
   "outputs": [],
   "source": [
    "mdl=Pump()\n",
    "new_problem = Problem(\"new_problem\", mdl, staged=True)"
   ]
  },
  {
   "cell_type": "markdown",
   "id": "3c8fd774",
   "metadata": {},
   "source": [
    "Next, a simulation is added to the `Problem` using `Problem.add_simulation`"
   ]
  },
  {
   "cell_type": "code",
   "execution_count": 5,
   "id": "f3e7d6a1",
   "metadata": {},
   "outputs": [
    {
     "name": "stdout",
     "output_type": "stream",
     "text": [
      "Help on function add_simulation in module fmdtools.faultsim.search:\n",
      "\n",
      "add_simulation(self, simname, simtype, *args, **kwargs)\n",
      "    Defines a simulation to be used with the model\n",
      "    \n",
      "    Parameters\n",
      "    ----------\n",
      "    simname : str\n",
      "        Name/identifier for the simulation.\n",
      "    simtype : str, optional\n",
      "        Type of simulation(s) to run (aligns with propagate methods):\n",
      "            - single:      simulates a single scenario (the default)\n",
      "                - args: sequence: sequence defining fault scenario {time:{'faults':(fxn:mode), 'disturbances':{'Fxn1.var1'}})}\n",
      "            - multi:       simulates multiple scenarios (provided approach or nominalapproach)\n",
      "                - args: scenlist: dict with structure {\"scenname\":{'sequence':{\"faults\":{}, \"disturbances\":{}}, \"properties\":{\"params\":params}}}\n",
      "                        (can be gotten from prop.list_init_faults, SampleApproach, or NominalApproach)\n",
      "            - nested:      simulates nested scenarios (provided approach and nominalapproach)\n",
      "                - args: see prop.nested_approach\n",
      "            - external_func:    calls an external function (rather than a simulation)\n",
      "                - args: callable\n",
      "            - custom_sim:       calls an external function with arguments (mdl) or (mdl, mdlhist)\n",
      "                - args: callable\n",
      "            - set_const:        used for set constraints\n",
      "    *args : args\n",
      "        Custom arguments for the given simulation type (see above)\n",
      "    **kwargs : dict\n",
      "        run, sim, and mult_kwargs from prop.\n",
      "\n"
     ]
    }
   ],
   "source": [
    "help(Problem.add_simulation)"
   ]
  },
  {
   "cell_type": "markdown",
   "id": "451b198c",
   "metadata": {},
   "source": [
    "In this case, we will optimize over a single scenario, passing ``single`` as the simtype."
   ]
  },
  {
   "cell_type": "code",
   "execution_count": 6,
   "id": "aff01c2d",
   "metadata": {},
   "outputs": [],
   "source": [
    "new_problem.add_simulation(\"test_sim\",\"single\", scen={26:{\"faults\":{\"ImportEE\": \"no_v\"}}})"
   ]
  },
  {
   "cell_type": "markdown",
   "id": "926ce330",
   "metadata": {},
   "source": [
    "Variables may then be added using `Problem.add_variables`. "
   ]
  },
  {
   "cell_type": "code",
   "execution_count": 7,
   "id": "53230a7c",
   "metadata": {},
   "outputs": [
    {
     "name": "stdout",
     "output_type": "stream",
     "text": [
      "Help on function add_variables in module fmdtools.faultsim.search:\n",
      "\n",
      "add_variables(self, simnames, *args, vartype='vars', t=0)\n",
      "    Adds variable of specified type ('params', 'vars', or 'faults') to a given problem. \n",
      "    Also adds variable set constraints (if given)\n",
      "    \n",
      "    Parameters\n",
      "    ----------\n",
      "    simnames : str/list\n",
      "        identifier for the simulation(s) the variable is optimized over\n",
      "    *args : tuples\n",
      "        variables to add, where each tuple has the form:\n",
      "        (varname, set_const (optional), vartype (optional), t (optional)), where\n",
      "        - varname is:\n",
      "            an element of mdl.params (if vartype='params')\n",
      "            a model variable (if vartype='vars')\n",
      "            a function name (if vartype='faults')\n",
      "        - set_const defines the variable set constraints, which may be:\n",
      "            None (for none/inf)\n",
      "            A two-element tuple (for continuous variable bounds)\n",
      "            A multi-element list (for discrete variables)\n",
      "        - vartype is the individual variable type (overrides vartype)\n",
      "        - t is the individual time (overrides t)\n",
      "    vartype : str\n",
      "        overall variable type defining the variable(s). The default is 'vars'\n",
      "            - `param`: element(s) of mdl.params (set pre-simulation)\n",
      "            - `vars`: function/flow variables (set during the simulation)\n",
      "            - 'faults': fault scenario variables (set during the simulation)\n",
      "            - 'external': variables for external func\n",
      "\n"
     ]
    }
   ],
   "source": [
    "help(Problem.add_variables)"
   ]
  },
  {
   "cell_type": "markdown",
   "id": "3e9a0c37",
   "metadata": {},
   "source": [
    "In this case, we are optimizing a change in the `eff` parameter at time t=10. Note that using the `staged` option, this means that the model will be copied at this time and then simulated to the final simulation time.\n",
    "\n",
    "This variable is also given the set constraint (bounds) of [0,5], which will show up in the `constraints` dictionary."
   ]
  },
  {
   "cell_type": "code",
   "execution_count": 8,
   "id": "0f566ed9",
   "metadata": {},
   "outputs": [],
   "source": [
    "new_problem.add_variables(\"test_sim\", (\"MoveWater.eff\", [0,5]), t=10)"
   ]
  },
  {
   "cell_type": "markdown",
   "id": "bc3fbbee",
   "metadata": {},
   "source": [
    "We can further add objectives using `Problem.add_objectives`"
   ]
  },
  {
   "cell_type": "code",
   "execution_count": 9,
   "id": "4b1a49e4",
   "metadata": {},
   "outputs": [
    {
     "name": "stdout",
     "output_type": "stream",
     "text": [
      "Help on function add_objectives in module fmdtools.faultsim.search:\n",
      "\n",
      "add_objectives(self, simname, *args, objtype='endclass', t='end', obj_const='objectives', agg='sum', **kwargs)\n",
      "    Adds objective to the given problem.\n",
      "    \n",
      "    Parameters\n",
      "    ----------\n",
      "    simname : str\n",
      "        identifier for the simulation\n",
      "    *args : strs/tuples\n",
      "        variables to use as objectives (auto-named to f1, f2...)\n",
      "        may take form: (variablename, objtype (optional), t (optional), agg (optional)) \n",
      "        or variablename, where variablename is the name of the variable (from params, mdlparams)\n",
      "        or index of the callable (for external)and objtype, t, and agg may override\n",
      "        the default objtype and t (see below)\n",
      "    objtype : str (optional)\n",
      "        default type of objective: `vars`, `endclass`, or `external`. Default is 'endclass'\n",
      "    t : int (optional)\n",
      "        default time to get objective: 'end' or set time t\n",
      "    agg : str/tuple\n",
      "        Specifies the aggregation of the objective/constraint:\n",
      "        - for objectives: 'sum'/'difference'/'mult'/'max'/'min', specifying how to aggregate objectives over scenarios\n",
      "        - for constraints: ('less'/'greater', val) where value is the threshold value\n",
      "    **kwargs : str=strs/tuples\n",
      "        Named objectives with their corresponding arg values (see args)\n",
      "        objectivename = variablename\n",
      "\n"
     ]
    }
   ],
   "source": [
    "help(Problem.add_objectives)"
   ]
  },
  {
   "cell_type": "markdown",
   "id": "931b612b",
   "metadata": {},
   "source": [
    "In this case, we are optimizing the total flow in the `MoveWater` function as read at time t=25. "
   ]
  },
  {
   "cell_type": "code",
   "execution_count": 10,
   "id": "0a0da861",
   "metadata": {},
   "outputs": [],
   "source": [
    "new_problem.add_objectives(\"test_sim\", obj_1=\"MoveWater.total_flow\", objtype='vars', t=25)"
   ]
  },
  {
   "cell_type": "markdown",
   "id": "b6580b4f",
   "metadata": {},
   "source": [
    "We can additionally add constraints to the problem, in this case power as read at t=25."
   ]
  },
  {
   "cell_type": "code",
   "execution_count": 11,
   "id": "3a36c2c5",
   "metadata": {},
   "outputs": [],
   "source": [
    "new_problem.add_constraints(\"test_sim\", con_1 = \"Wat_1.pressure\", objtype='vars', t=11, threshold = ('less', 20))"
   ]
  },
  {
   "cell_type": "markdown",
   "id": "f87a3eee",
   "metadata": {},
   "source": [
    "Note that if all objectives and constraints are sampled in time before the defined simulation end-point, it will finish before completion to save computational time.\n"
   ]
  },
  {
   "cell_type": "code",
   "execution_count": 12,
   "id": "511557c0",
   "metadata": {},
   "outputs": [
    {
     "data": {
      "text/plain": [
       "Search Problem(s): Problem \n",
       " -variables: [['MoveWater.eff', [0, 2], 'vars', 10]]\n",
       " -objectives: {'obj_1': ['test_sim', 'MoveWater.total_flow', 'vars', 25, 'sum']}\n",
       " -constraints: {'set_var_0_lb': ['set_const', 0, 'external', 'na', ('greater', 0)], 'set_var_0_ub': ['set_const', 0, 'external', 'na', ('less', 2)], 'con_1': ['test_sim', 'Wat_1.pressure', 'vars', 11, ('less', 20)]}\n",
       " -simulations: {'test_sim': ('single', (), {'save_args': {}, 'new_params': {}, 'protect': True, 'desired_result': 'endclass', 'track': 'all', 'track_times': 'all', 'staged': True, 'run_stochastic': False, 'max_mem': 2000000000.0, 'showprogress': True, 'pool': False, 'scen': {26: {'faults': {'ImportEE': 'no_v'}}}}), 'set_const': ('set_const', [0], [[0, 2]])}\n",
       " -current_iter: {}"
      ]
     },
     "execution_count": 12,
     "metadata": {},
     "output_type": "execute_result"
    }
   ],
   "source": [
    "new_problem"
   ]
  },
  {
   "cell_type": "markdown",
   "id": "7f61cea4",
   "metadata": {},
   "source": [
    "Now that this problem is set up, we now have interfaces which can be passed to optimization methods. These are methods which *match the names of the objectives/constraints defined earlier* which can be passed as callables to optimizaiton methods."
   ]
  },
  {
   "cell_type": "code",
   "execution_count": 13,
   "id": "0037f6c3",
   "metadata": {},
   "outputs": [
    {
     "data": {
      "text/plain": [
       "6.299999999999998"
      ]
     },
     "execution_count": 13,
     "metadata": {},
     "output_type": "execute_result"
    }
   ],
   "source": [
    "new_problem.obj_1([1])"
   ]
  },
  {
   "cell_type": "code",
   "execution_count": 14,
   "id": "746baa8c",
   "metadata": {},
   "outputs": [
    {
     "data": {
      "text/plain": [
       "1.5"
      ]
     },
     "execution_count": 14,
     "metadata": {},
     "output_type": "execute_result"
    }
   ],
   "source": [
    "new_problem.obj_1([0])"
   ]
  },
  {
   "cell_type": "code",
   "execution_count": 15,
   "id": "e37e3445",
   "metadata": {},
   "outputs": [
    {
     "data": {
      "text/plain": [
       "8.099999999999998"
      ]
     },
     "execution_count": 15,
     "metadata": {},
     "output_type": "execute_result"
    }
   ],
   "source": [
    "new_problem.obj_1([2])"
   ]
  },
  {
   "cell_type": "code",
   "execution_count": 16,
   "id": "135aad03",
   "metadata": {},
   "outputs": [
    {
     "data": {
      "text/plain": [
       "-10.0"
      ]
     },
     "execution_count": 16,
     "metadata": {},
     "output_type": "execute_result"
    }
   ],
   "source": [
    "new_problem.con_1([1])"
   ]
  },
  {
   "cell_type": "code",
   "execution_count": 22,
   "id": "2eee18a3",
   "metadata": {},
   "outputs": [
    {
     "data": {
      "text/plain": [
       "80.0"
      ]
     },
     "execution_count": 22,
     "metadata": {},
     "output_type": "execute_result"
    }
   ],
   "source": [
    "new_problem.con_1([10])"
   ]
  },
  {
   "cell_type": "markdown",
   "id": "56549fee",
   "metadata": {},
   "source": [
    "Note that despite being different callables, to reduce simulation costs, `obj_1` and `con_1` only *simulate the model* when a new variable value is entered into the problem. This can be seen by looking at the `current_iter` dictionary, which updates at each new variable value:"
   ]
  },
  {
   "cell_type": "code",
   "execution_count": 25,
   "id": "b2825b8c",
   "metadata": {},
   "outputs": [
    {
     "data": {
      "text/plain": [
       "{'vars': [10],\n",
       " 'objs': {'obj_1': 34.5},\n",
       " 'consts': {'con_1': 80.0, 'set_var_0_ub': -8, 'set_var_0_lb': 10}}"
      ]
     },
     "execution_count": 25,
     "metadata": {},
     "output_type": "execute_result"
    }
   ],
   "source": [
    "new_problem.current_iter"
   ]
  },
  {
   "cell_type": "markdown",
   "id": "b4ba6c0e",
   "metadata": {},
   "source": [
    "Additionally, provided the tracking options are set to on, the `plot_obj_const` method enables rapid visualization of objectives, constraints, and variables (and where they are queried):"
   ]
  },
  {
   "cell_type": "code",
   "execution_count": 26,
   "id": "2d42ba2e",
   "metadata": {},
   "outputs": [
    {
     "data": {
      "image/png": "[encoded data removed]",
      "text/plain": [
       "<Figure size 432x288 with 4 Axes>"
      ]
     },
     "metadata": {
      "needs_background": "light"
     },
     "output_type": "display_data"
    }
   ],
   "source": [
    "new_problem.plot_obj_const('test_sim')"
   ]
  },
  {
   "cell_type": "code",
   "execution_count": null,
   "id": "d3be1ddc",
   "metadata": {},
   "outputs": [],
   "source": []
  }
 ],
 "metadata": {
  "kernelspec": {
   "display_name": "Python 3 (ipykernel)",
   "language": "python",
   "name": "python3"
  },
  "language_info": {
   "codemirror_mode": {
    "name": "ipython",
    "version": 3
   },
   "file_extension": ".py",
   "mimetype": "text/x-python",
   "name": "python",
   "nbconvert_exporter": "python",
   "pygments_lexer": "ipython3",
   "version": "3.9.7"
  }
 },
 "nbformat": 4,
 "nbformat_minor": 5
}
