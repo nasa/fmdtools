{
 "cells": [
  {
   "cell_type": "markdown",
   "metadata": {},
   "source": [
    "# fmdtools Tutorial\n",
    "\n",
    "This tutorial notebook will show some of the basic commands needed to perform resilience analysis in fmdtools.\n",
    "\n",
    "For some context, it may be helpful to look through the accompanying presentation. This notebook uses the model defined in `ex_pump.py`. In this notebook, we will:\n",
    "\n",
    "- Load an environment and model\n",
    "- Simulate the system in nominal and faulty scenarios\n",
    "- Visualize and quantify the results"
   ]
  },
  {
   "cell_type": "markdown",
   "metadata": {},
   "source": [
    "## 1.) Loading the environment and model\n",
    "\n",
    "To load the `fmdtools` environment, we have to import it. \n",
    "\n",
    "Since we're in a subfolder of the repository, we need to add the fmdtools folder to the system path. (This would be unnecessary if we installed using `pip`)"
   ]
  },
  {
   "cell_type": "code",
   "execution_count": 1,
   "metadata": {},
   "outputs": [],
   "source": [
    "#First, import the fault propogation library as well as the model\n",
    "#since the package is in a parallel location to examples...\n",
    "import sys, os\n",
    "sys.path.insert(1,os.path.join(\"..\"))"
   ]
  },
  {
   "cell_type": "markdown",
   "metadata": {},
   "source": [
    "There are a number of different syntaxes for importing modules. Because of the long names of the module trees, it is often helpful to load the modules individually and abbreviate (e.g. ``import fmdtools.faultsim.propagate as propagate``). Below, import the propagate `fmdtools.faultsim.propagate` and `fmdtools.resultdisp` modules, as well as the `SampleApproach` from `fmdtools.modeldef`"
   ]
  },
  {
   "cell_type": "code",
   "execution_count": 2,
   "metadata": {},
   "outputs": [],
   "source": [
    "import fmdtools.faultsim.propagate as propagate\n",
    "import fmdtools.resultdisp as rd\n",
    "from fmdtools.modeldef import SampleApproach"
   ]
  },
  {
   "cell_type": "code",
   "execution_count": 3,
   "metadata": {},
   "outputs": [
    {
     "data": {
      "text/plain": [
       "<module 'fmdtools' from 'C:\\\\Users\\\\dhulse\\\\Documents\\\\GitHub\\\\fmdtools\\\\example_pump\\\\..\\\\fmdtools\\\\__init__.py'>"
      ]
     },
     "execution_count": 3,
     "metadata": {},
     "output_type": "execute_result"
    }
   ],
   "source": [
    "import fmdtools\n",
    "fmdtools"
   ]
  },
  {
   "cell_type": "markdown",
   "metadata": {},
   "source": [
    "Now, import the Pump class defined in the ex_pump module."
   ]
  },
  {
   "cell_type": "code",
   "execution_count": 4,
   "metadata": {},
   "outputs": [],
   "source": [
    "from ex_pump import Pump"
   ]
  },
  {
   "cell_type": "markdown",
   "metadata": {},
   "source": [
    "We can then use that to instantiate a model object. See:"
   ]
  },
  {
   "cell_type": "code",
   "execution_count": 5,
   "metadata": {},
   "outputs": [],
   "source": [
    "mdl = Pump()"
   ]
  },
  {
   "cell_type": "markdown",
   "metadata": {},
   "source": [
    "To get started, it can be helpful to view some of the aspects of the model. Try `dir(mdl)`, `mdl.fxns`, `mdl.flows`, `mdl.graph`, etc."
   ]
  },
  {
   "cell_type": "code",
   "execution_count": 6,
   "metadata": {},
   "outputs": [
    {
     "data": {
      "text/plain": [
       "{'ImportEE': ImportEE ImportEE function: ({'mode': 'nom'}, {'nom'}),\n",
       " 'ImportWater': ImportWater ImportWater function: ({'mode': 'nom'}, {'nom'}),\n",
       " 'ImportSignal': ImportSignal ImportSig function: ({'mode': 'nom'}, {'nom'}),\n",
       " 'MoveWater': MoveWater MoveWat function: ({'eff': 1.0, 'mode': 'nom'}, {'nom'}),\n",
       " 'ExportWater': ExportWater ExportWater function: ({'mode': 'nom'}, {'nom'})}"
      ]
     },
     "execution_count": 6,
     "metadata": {},
     "output_type": "execute_result"
    }
   ],
   "source": [
    "mdl.fxns"
   ]
  },
  {
   "cell_type": "markdown",
   "metadata": {},
   "source": [
    "We can also view the run order to see how the model will be simulated."
   ]
  },
  {
   "cell_type": "code",
   "execution_count": 7,
   "metadata": {},
   "outputs": [
    {
     "data": {
      "image/png": "[encoded data removed]",
      "text/plain": [
       "<Figure size 432x288 with 1 Axes>"
      ]
     },
     "metadata": {},
     "output_type": "display_data"
    }
   ],
   "source": [
    "fig, ax = rd.graph.exec_order(mdl)"
   ]
  },
  {
   "cell_type": "markdown",
   "metadata": {},
   "source": [
    "As shown, because all of the methods were defined as generic behaviors, they are each run in the static propagation step. No order is shown in the static step because the static propagation step iterates between model functions until the values have converged. Nevertheless, one can view the initial static order using:"
   ]
  },
  {
   "cell_type": "code",
   "execution_count": 8,
   "metadata": {},
   "outputs": [
    {
     "data": {
      "text/plain": [
       "OrderedSet(['ImportEE', 'ImportWater', 'ImportSignal', 'MoveWater', 'ExportWater'])"
      ]
     },
     "execution_count": 8,
     "metadata": {},
     "output_type": "execute_result"
    }
   ],
   "source": [
    "mdl.staticfxns"
   ]
  },
  {
   "cell_type": "markdown",
   "metadata": {},
   "source": [
    "and the dynamic step order (if there was one):"
   ]
  },
  {
   "cell_type": "code",
   "execution_count": 9,
   "metadata": {},
   "outputs": [
    {
     "data": {
      "text/plain": [
       "OrderedSet()"
      ]
     },
     "execution_count": 9,
     "metadata": {},
     "output_type": "execute_result"
    }
   ],
   "source": [
    "mdl.dynamicfxns"
   ]
  },
  {
   "cell_type": "markdown",
   "metadata": {},
   "source": [
    "We can also instantiate this model with different model parameters. By default, this model gets \n",
    "`params={'cost':{'repair', 'water'}, 'delay':10, 'units':'hrs'}` but we can pass any set of costs that is a subset of `{'repair', 'water', 'water_exp', 'ee'}` and any int `delay` parameter."
   ]
  },
  {
   "cell_type": "code",
   "execution_count": 10,
   "metadata": {},
   "outputs": [],
   "source": [
    "mdl2 = Pump(params={'cost':{'repair', 'water', 'ee'}, 'delay':20, 'units':'hrs'})"
   ]
  },
  {
   "cell_type": "markdown",
   "metadata": {},
   "source": [
    "## 2.) and 3.) Simulate and visualize the results!\n",
    "\n",
    "Now, we will use the methods in `propagate` and the visualization modules in `rd` to simulate the model and visualize the results."
   ]
  },
  {
   "cell_type": "markdown",
   "metadata": {},
   "source": [
    "### 2a.) Simulate nominal\n",
    "To simulate the model in the nominal scenario, use the `propagate.nominal` method."
   ]
  },
  {
   "cell_type": "code",
   "execution_count": 11,
   "metadata": {},
   "outputs": [],
   "source": [
    "endresults_nominal, resgraph_nominal, mdlhist_nominal=propagate.nominal(mdl, track=\"all\")"
   ]
  },
  {
   "cell_type": "markdown",
   "metadata": {},
   "source": [
    "What do the results look like? Explore results structures."
   ]
  },
  {
   "cell_type": "code",
   "execution_count": 12,
   "metadata": {},
   "outputs": [
    {
     "data": {
      "text/plain": [
       "{'faults': {},\n",
       " 'classification': {'rate': 1.0, 'cost': 0.0, 'expected cost': 0.0}}"
      ]
     },
     "execution_count": 12,
     "metadata": {},
     "output_type": "execute_result"
    }
   ],
   "source": [
    "endresults_nominal"
   ]
  },
  {
   "cell_type": "markdown",
   "metadata": {},
   "source": [
    "### 2b.) Visualize nominal model\n",
    "First, we can show the model graph using `rd.graph.show` to see that it was set up correctly. We can do this both on the model graph itself `mdl.graph` and the results of the nominal run `resgraph_nominal` to verify both are fault-free."
   ]
  },
  {
   "cell_type": "code",
   "execution_count": 13,
   "metadata": {},
   "outputs": [
    {
     "data": {
      "image/png": "[encoded data removed]",
      "text/plain": [
       "<Figure size 432x288 with 1 Axes>"
      ]
     },
     "metadata": {},
     "output_type": "display_data"
    }
   ],
   "source": [
    "fig, ax = rd.graph.show(mdl)"
   ]
  },
  {
   "cell_type": "markdown",
   "metadata": {},
   "source": [
    "We can also view the flow values of the model using ''rd.plot.mdlhists''. It may be helpful to only view flows of interest."
   ]
  },
  {
   "cell_type": "code",
   "execution_count": 14,
   "metadata": {},
   "outputs": [
    {
     "data": {
      "image/png": "[encoded data removed]",
      "text/plain": [
       "<Figure size 432x288 with 4 Axes>"
      ]
     },
     "metadata": {
      "needs_background": "light"
     },
     "output_type": "display_data"
    }
   ],
   "source": [
    "fig = rd.plot.mdlhists(mdlhist_nominal, fxnflowvals={'Wat_1':['flowrate','pressure'], 'EE_1':['voltage', 'current']})"
   ]
  },
  {
   "cell_type": "markdown",
   "metadata": {},
   "source": [
    "Note: for quick access to the syntax and options for these methods, type the `?method` or `help(method)` in the terminal. For example `?rd.plot.mdlhists`"
   ]
  },
  {
   "cell_type": "code",
   "execution_count": 15,
   "metadata": {},
   "outputs": [],
   "source": [
    "?rd.plot.mdlhists"
   ]
  },
  {
   "cell_type": "markdown",
   "metadata": {},
   "source": [
    "### 2b.) Simulate a fault mode\n",
    "To simulate the model in the nominal scenario, use the `propagate.one_fault` method. The set of possible faults is defined in the function definitions in `ex_pump.py`, and we can propagate a fault at any time in the operational interval (0-55 seconds)."
   ]
  },
  {
   "cell_type": "code",
   "execution_count": 16,
   "metadata": {},
   "outputs": [],
   "source": [
    "endresults_fault, resgraph_fault, mdlhist_fault=propagate.one_fault(mdl, 'MoveWater', 'short', time=10)"
   ]
  },
  {
   "cell_type": "markdown",
   "metadata": {},
   "source": [
    "We can also view the results for from this. In this case `mdlhist` gives a history of results for both the nominal and faulty runs."
   ]
  },
  {
   "cell_type": "code",
   "execution_count": 17,
   "metadata": {},
   "outputs": [
    {
     "data": {
      "text/plain": [
       "{'flows': {'EE_1': {'voltage': 0.0}},\n",
       " 'faults': {'ImportEE': ['no_v'], 'MoveWater': ['short']},\n",
       " 'classification': {'rate': 0.00055,\n",
       "  'cost': 29000.000000000007,\n",
       "  'expected cost': 1595000.0000000005}}"
      ]
     },
     "execution_count": 17,
     "metadata": {},
     "output_type": "execute_result"
    }
   ],
   "source": [
    "endresults_fault"
   ]
  },
  {
   "cell_type": "code",
   "execution_count": 18,
   "metadata": {},
   "outputs": [
    {
     "data": {
      "text/plain": [
       "['nominal', 'faulty']"
      ]
     },
     "execution_count": 18,
     "metadata": {},
     "output_type": "execute_result"
    }
   ],
   "source": [
    "list(mdlhist_fault.keys())"
   ]
  },
  {
   "cell_type": "markdown",
   "metadata": {},
   "source": [
    "### 3b.) Visualize fault model states\n",
    "`rd.plot.mdlhistvals` also works for a mdlhists given from `propagate.one_fault`. We can view these results below. As shown, the function will give the nominal result in a blue dotted line and the faulty result in a red line."
   ]
  },
  {
   "cell_type": "code",
   "execution_count": 19,
   "metadata": {},
   "outputs": [
    {
     "data": {
      "image/png": "[encoded data removed]",
      "text/plain": [
       "<Figure size 432x288 with 4 Axes>"
      ]
     },
     "metadata": {
      "needs_background": "light"
     },
     "output_type": "display_data"
    }
   ],
   "source": [
    "fig, axs = rd.plot.mdlhists(mdlhist_fault, title='Pump Response to Motor Short Fault', time_slice=[10], legend_loc=False, fxnflowvals={'Wat_1':['flowrate','pressure'], 'EE_1':['voltage', 'current']})"
   ]
  },
  {
   "cell_type": "markdown",
   "metadata": {},
   "source": [
    "We can also view this result graph using 'rd.graph.show'. In this case, it shows the state of the model at the final time-step of the model run. Thus, while the `EE_1` flow is shown in orange (because it is off-nominal), the Water flows are not, because they have the same state at the final time-step."
   ]
  },
  {
   "cell_type": "code",
   "execution_count": 20,
   "metadata": {},
   "outputs": [
    {
     "data": {
      "image/png": "[encoded data removed]",
      "text/plain": [
       "<Figure size 432x288 with 1 Axes>"
      ]
     },
     "metadata": {},
     "output_type": "display_data"
    }
   ],
   "source": [
    "fig, ax = rd.graph.show(resgraph_fault)"
   ]
  },
  {
   "cell_type": "markdown",
   "metadata": {},
   "source": [
    "If we want to view the graph at another time-step, we can use 'rd.process.hist' and 'rd.graph.result_from' to first process the model states into results which can be visualized and then map that onto a graph view at a given time."
   ]
  },
  {
   "cell_type": "code",
   "execution_count": 21,
   "metadata": {},
   "outputs": [],
   "source": [
    "reshist_fault, b, c = rd.process.hist(mdlhist_fault)"
   ]
  },
  {
   "cell_type": "code",
   "execution_count": 22,
   "metadata": {},
   "outputs": [
    {
     "data": {
      "image/png": "[encoded data removed]",
      "text/plain": [
       "<Figure size 432x288 with 1 Axes>"
      ]
     },
     "metadata": {},
     "output_type": "display_data"
    }
   ],
   "source": [
    "fig, ax = rd.graph.result_from(mdl, reshist_fault, 20, gtype='normal')"
   ]
  },
  {
   "cell_type": "markdown",
   "metadata": {},
   "source": [
    "### 4a.) Simulate set of fault modes\n",
    "\n",
    "To simulate the set of fault modes, we first choose a `SampleApproach`. For simplicity, we can choose default parameters at first."
   ]
  },
  {
   "cell_type": "code",
   "execution_count": 23,
   "metadata": {},
   "outputs": [],
   "source": [
    "app = SampleApproach(mdl)"
   ]
  },
  {
   "cell_type": "code",
   "execution_count": 24,
   "metadata": {},
   "outputs": [
    {
     "name": "stderr",
     "output_type": "stream",
     "text": [
      "SCENARIOS COMPLETE: 100%|█████████████████████████████████████████████████████████████| 17/17 [00:00<00:00, 158.23it/s]\n"
     ]
    }
   ],
   "source": [
    "endclasses_app, mdlhists_app = propagate.approach(mdl, app)"
   ]
  },
  {
   "cell_type": "markdown",
   "metadata": {},
   "source": [
    "It can be helpful to view what these results look like--a dictionary of faults injected at particular times with their respective results dictionaries."
   ]
  },
  {
   "cell_type": "code",
   "execution_count": 25,
   "metadata": {},
   "outputs": [
    {
     "data": {
      "text/plain": [
       "{'ImportEE no_v, t=27': {'rate': 0.0003600000000000001,\n",
       "  'cost': 15174.999999999998,\n",
       "  'expected cost': 546300.0},\n",
       " 'ImportEE inf_v, t=27': {'rate': 9.000000000000002e-05,\n",
       "  'cost': 20175.0,\n",
       "  'expected cost': 181575.00000000003},\n",
       " 'ImportWater no_wat, t=27': {'rate': 0.00015,\n",
       "  'cost': 6174.999999999998,\n",
       "  'expected cost': 92624.99999999996},\n",
       " 'ImportSignal no_sig, t=27': {'rate': 1.2857142857142856e-05,\n",
       "  'cost': 15174.999999999998,\n",
       "  'expected cost': 19510.714285714283},\n",
       " 'MoveWater mech_break, t=27': {'rate': 0.00023142857142857142,\n",
       "  'cost': 10174.999999999998,\n",
       "  'expected cost': 235478.5714285714},\n",
       " 'MoveWater short, t=27': {'rate': 0.00012857142857142858,\n",
       "  'cost': 25175.0,\n",
       "  'expected cost': 323678.5714285714},\n",
       " 'ExportWater block, t=27': {'rate': 0.00012857142857142858,\n",
       "  'cost': 15152.5,\n",
       "  'expected cost': 194817.85714285716},\n",
       " 'ImportWater no_wat, t=2': {'rate': 1.6666666666666667e-05,\n",
       "  'cost': 11125.000000000007,\n",
       "  'expected cost': 18541.66666666668},\n",
       " 'ImportSignal no_sig, t=2': {'rate': 2.1428571428571427e-06,\n",
       "  'cost': 20125.000000000007,\n",
       "  'expected cost': 4312.500000000001},\n",
       " 'MoveWater mech_break, t=2': {'rate': 2.1428571428571427e-06,\n",
       "  'cost': 15125.000000000007,\n",
       "  'expected cost': 3241.07142857143},\n",
       " 'MoveWater short, t=2': {'rate': 2.1428571428571428e-05,\n",
       "  'cost': 30125.000000000007,\n",
       "  'expected cost': 64553.57142857144},\n",
       " 'ExportWater block, t=2': {'rate': 2.1428571428571428e-05,\n",
       "  'cost': 20102.500000000007,\n",
       "  'expected cost': 43076.78571428573},\n",
       " 'ImportWater no_wat, t=52': {'rate': 1.9999999999999998e-05,\n",
       "  'cost': 1000.0,\n",
       "  'expected cost': 1999.9999999999998},\n",
       " 'ImportSignal no_sig, t=52': {'rate': 1.7142857142857143e-06,\n",
       "  'cost': 10000.0,\n",
       "  'expected cost': 1714.2857142857142},\n",
       " 'MoveWater mech_break, t=52': {'rate': 2.5714285714285716e-06,\n",
       "  'cost': 5000.0,\n",
       "  'expected cost': 1285.7142857142858},\n",
       " 'MoveWater short, t=52': {'rate': 1.7142857142857145e-05,\n",
       "  'cost': 10000.0,\n",
       "  'expected cost': 17142.857142857145},\n",
       " 'ExportWater block, t=52': {'rate': 1.7142857142857145e-05,\n",
       "  'cost': 5000.0,\n",
       "  'expected cost': 8571.428571428572},\n",
       " 'nominal': {'rate': 1.0, 'cost': 0.0, 'expected cost': 0.0}}"
      ]
     },
     "execution_count": 25,
     "metadata": {},
     "output_type": "execute_result"
    }
   ],
   "source": [
    "endclasses_app"
   ]
  },
  {
   "cell_type": "markdown",
   "metadata": {},
   "source": [
    "It can be helpful to explore different approach parameters (e.g. focussing on single faults, different numbers of sample points, etc)"
   ]
  },
  {
   "cell_type": "code",
   "execution_count": 26,
   "metadata": {},
   "outputs": [],
   "source": [
    "app2 = SampleApproach(mdl, faults=[('MoveWater', 'short')])"
   ]
  },
  {
   "cell_type": "code",
   "execution_count": 27,
   "metadata": {},
   "outputs": [
    {
     "data": {
      "text/plain": [
       "[('MoveWater', 'short')]"
      ]
     },
     "execution_count": 27,
     "metadata": {},
     "output_type": "execute_result"
    }
   ],
   "source": [
    "app2.list_modes()"
   ]
  },
  {
   "cell_type": "markdown",
   "metadata": {},
   "source": [
    "There are a number of different ways to sample the scenarios in the approach:"
   ]
  },
  {
   "cell_type": "code",
   "execution_count": 28,
   "metadata": {},
   "outputs": [],
   "source": [
    "app3 = SampleApproach(mdl, defaultsamp={'samp':'evenspacing', 'numpts':5})"
   ]
  },
  {
   "cell_type": "code",
   "execution_count": 29,
   "metadata": {},
   "outputs": [
    {
     "data": {
      "text/plain": [
       "[0, 1, 2, 3, 4, 12, 20, 27, 34, 42, 50, 51, 52, 53, 54, 55]"
      ]
     },
     "execution_count": 29,
     "metadata": {},
     "output_type": "execute_result"
    }
   ],
   "source": [
    "app3.times"
   ]
  },
  {
   "cell_type": "markdown",
   "metadata": {},
   "source": [
    "### 4b.) Visualize set of fault modes\n",
    "\n",
    "Using this fault approach, we can now make an FMEA-like analyses of the different fault modes. `rd.tabulate.summfmea` organizes endclasses into a table for each fault."
   ]
  },
  {
   "cell_type": "code",
   "execution_count": 30,
   "metadata": {},
   "outputs": [
    {
     "data": {
      "text/html": [
       "<div>\n",
       "<style scoped>\n",
       "    .dataframe tbody tr th:only-of-type {\n",
       "        vertical-align: middle;\n",
       "    }\n",
       "\n",
       "    .dataframe tbody tr th {\n",
       "        vertical-align: top;\n",
       "    }\n",
       "\n",
       "    .dataframe thead th {\n",
       "        text-align: right;\n",
       "    }\n",
       "</style>\n",
       "<table border=\"1\" class=\"dataframe\">\n",
       "  <thead>\n",
       "    <tr style=\"text-align: right;\">\n",
       "      <th></th>\n",
       "      <th></th>\n",
       "      <th>rate</th>\n",
       "      <th>expected cost</th>\n",
       "      <th>cost</th>\n",
       "    </tr>\n",
       "  </thead>\n",
       "  <tbody>\n",
       "    <tr>\n",
       "      <th>MoveWater</th>\n",
       "      <th>short</th>\n",
       "      <td>0.000167</td>\n",
       "      <td>405375.000000</td>\n",
       "      <td>21766.666667</td>\n",
       "    </tr>\n",
       "    <tr>\n",
       "      <th rowspan=\"2\" valign=\"top\">ImportEE</th>\n",
       "      <th>inf_v</th>\n",
       "      <td>0.000090</td>\n",
       "      <td>181575.000000</td>\n",
       "      <td>20175.000000</td>\n",
       "    </tr>\n",
       "    <tr>\n",
       "      <th>no_v</th>\n",
       "      <td>0.000360</td>\n",
       "      <td>546300.000000</td>\n",
       "      <td>15175.000000</td>\n",
       "    </tr>\n",
       "    <tr>\n",
       "      <th>ImportSignal</th>\n",
       "      <th>no_sig</th>\n",
       "      <td>0.000017</td>\n",
       "      <td>25537.500000</td>\n",
       "      <td>15100.000000</td>\n",
       "    </tr>\n",
       "    <tr>\n",
       "      <th>ExportWater</th>\n",
       "      <th>block</th>\n",
       "      <td>0.000167</td>\n",
       "      <td>246466.071429</td>\n",
       "      <td>13418.333333</td>\n",
       "    </tr>\n",
       "    <tr>\n",
       "      <th>MoveWater</th>\n",
       "      <th>mech_break</th>\n",
       "      <td>0.000236</td>\n",
       "      <td>240005.357143</td>\n",
       "      <td>10100.000000</td>\n",
       "    </tr>\n",
       "    <tr>\n",
       "      <th>ImportWater</th>\n",
       "      <th>no_wat</th>\n",
       "      <td>0.000187</td>\n",
       "      <td>113166.666667</td>\n",
       "      <td>6100.000000</td>\n",
       "    </tr>\n",
       "  </tbody>\n",
       "</table>\n",
       "</div>"
      ],
      "text/plain": [
       "                             rate  expected cost          cost\n",
       "MoveWater    short       0.000167  405375.000000  21766.666667\n",
       "ImportEE     inf_v       0.000090  181575.000000  20175.000000\n",
       "             no_v        0.000360  546300.000000  15175.000000\n",
       "ImportSignal no_sig      0.000017   25537.500000  15100.000000\n",
       "ExportWater  block       0.000167  246466.071429  13418.333333\n",
       "MoveWater    mech_break  0.000236  240005.357143  10100.000000\n",
       "ImportWater  no_wat      0.000187  113166.666667   6100.000000"
      ]
     },
     "execution_count": 30,
     "metadata": {},
     "output_type": "execute_result"
    }
   ],
   "source": [
    "summary_fmea = rd.tabulate.summfmea(endclasses_app, app)\n",
    "summary_fmea"
   ]
  },
  {
   "cell_type": "markdown",
   "metadata": {},
   "source": [
    "We can also use `rd.tabulatefullmea` with the processed results histories to get a better picture of which flows and functions degrade in each scenario"
   ]
  },
  {
   "cell_type": "code",
   "execution_count": 31,
   "metadata": {},
   "outputs": [],
   "source": [
    "reshist_fault, b, summaries = rd.process.hists(mdlhists_app)"
   ]
  },
  {
   "cell_type": "code",
   "execution_count": 32,
   "metadata": {},
   "outputs": [
    {
     "data": {
      "text/html": [
       "<div>\n",
       "<style scoped>\n",
       "    .dataframe tbody tr th:only-of-type {\n",
       "        vertical-align: middle;\n",
       "    }\n",
       "\n",
       "    .dataframe tbody tr th {\n",
       "        vertical-align: top;\n",
       "    }\n",
       "\n",
       "    .dataframe thead th {\n",
       "        text-align: right;\n",
       "    }\n",
       "</style>\n",
       "<table border=\"1\" class=\"dataframe\">\n",
       "  <thead>\n",
       "    <tr style=\"text-align: right;\">\n",
       "      <th></th>\n",
       "      <th>degraded functions</th>\n",
       "      <th>degraded flows</th>\n",
       "      <th>rate</th>\n",
       "      <th>cost</th>\n",
       "      <th>expected cost</th>\n",
       "    </tr>\n",
       "  </thead>\n",
       "  <tbody>\n",
       "    <tr>\n",
       "      <th>ImportEE no_v, t=27</th>\n",
       "      <td>[ImportEE]</td>\n",
       "      <td>[EE_1, Wat_1, Wat_2]</td>\n",
       "      <td>0.00036</td>\n",
       "      <td>15175.0</td>\n",
       "      <td>546300.0</td>\n",
       "    </tr>\n",
       "    <tr>\n",
       "      <th>ImportEE inf_v, t=27</th>\n",
       "      <td>[ImportEE]</td>\n",
       "      <td>[EE_1, Wat_1, Wat_2]</td>\n",
       "      <td>0.00009</td>\n",
       "      <td>20175.0</td>\n",
       "      <td>181575.0</td>\n",
       "    </tr>\n",
       "    <tr>\n",
       "      <th>ImportWater no_wat, t=27</th>\n",
       "      <td>[ImportWater]</td>\n",
       "      <td>[EE_1, Wat_1, Wat_2]</td>\n",
       "      <td>0.00015</td>\n",
       "      <td>6175.0</td>\n",
       "      <td>92625.0</td>\n",
       "    </tr>\n",
       "    <tr>\n",
       "      <th>ImportSignal no_sig, t=27</th>\n",
       "      <td>[ImportSignal]</td>\n",
       "      <td>[EE_1, Sig_1, Wat_1, Wat_2]</td>\n",
       "      <td>0.000013</td>\n",
       "      <td>15175.0</td>\n",
       "      <td>19510.714286</td>\n",
       "    </tr>\n",
       "    <tr>\n",
       "      <th>MoveWater mech_break, t=27</th>\n",
       "      <td>[MoveWater]</td>\n",
       "      <td>[EE_1, Wat_1, Wat_2]</td>\n",
       "      <td>0.000231</td>\n",
       "      <td>10175.0</td>\n",
       "      <td>235478.571429</td>\n",
       "    </tr>\n",
       "    <tr>\n",
       "      <th>MoveWater short, t=27</th>\n",
       "      <td>[ImportEE, MoveWater]</td>\n",
       "      <td>[EE_1, Wat_1, Wat_2]</td>\n",
       "      <td>0.000129</td>\n",
       "      <td>25175.0</td>\n",
       "      <td>323678.571429</td>\n",
       "    </tr>\n",
       "    <tr>\n",
       "      <th>ExportWater block, t=27</th>\n",
       "      <td>[MoveWater, ExportWater]</td>\n",
       "      <td>[EE_1, Wat_1, Wat_2]</td>\n",
       "      <td>0.000129</td>\n",
       "      <td>15152.5</td>\n",
       "      <td>194817.857143</td>\n",
       "    </tr>\n",
       "    <tr>\n",
       "      <th>ImportWater no_wat, t=2</th>\n",
       "      <td>[ImportWater]</td>\n",
       "      <td>[EE_1, Wat_1, Wat_2]</td>\n",
       "      <td>0.000017</td>\n",
       "      <td>11125.0</td>\n",
       "      <td>18541.666667</td>\n",
       "    </tr>\n",
       "    <tr>\n",
       "      <th>ImportSignal no_sig, t=2</th>\n",
       "      <td>[ImportSignal]</td>\n",
       "      <td>[EE_1, Sig_1, Wat_1, Wat_2]</td>\n",
       "      <td>0.000002</td>\n",
       "      <td>20125.0</td>\n",
       "      <td>4312.5</td>\n",
       "    </tr>\n",
       "    <tr>\n",
       "      <th>MoveWater mech_break, t=2</th>\n",
       "      <td>[MoveWater]</td>\n",
       "      <td>[EE_1, Wat_1, Wat_2]</td>\n",
       "      <td>0.000002</td>\n",
       "      <td>15125.0</td>\n",
       "      <td>3241.071429</td>\n",
       "    </tr>\n",
       "    <tr>\n",
       "      <th>MoveWater short, t=2</th>\n",
       "      <td>[ImportEE, MoveWater]</td>\n",
       "      <td>[EE_1, Wat_1, Wat_2]</td>\n",
       "      <td>0.000021</td>\n",
       "      <td>30125.0</td>\n",
       "      <td>64553.571429</td>\n",
       "    </tr>\n",
       "    <tr>\n",
       "      <th>ExportWater block, t=2</th>\n",
       "      <td>[MoveWater, ExportWater]</td>\n",
       "      <td>[EE_1, Wat_1, Wat_2]</td>\n",
       "      <td>0.000021</td>\n",
       "      <td>20102.5</td>\n",
       "      <td>43076.785714</td>\n",
       "    </tr>\n",
       "    <tr>\n",
       "      <th>ImportWater no_wat, t=52</th>\n",
       "      <td>[ImportWater]</td>\n",
       "      <td>[Wat_1]</td>\n",
       "      <td>0.00002</td>\n",
       "      <td>1000.0</td>\n",
       "      <td>2000.0</td>\n",
       "    </tr>\n",
       "    <tr>\n",
       "      <th>ImportSignal no_sig, t=52</th>\n",
       "      <td>[ImportSignal]</td>\n",
       "      <td>[]</td>\n",
       "      <td>0.000002</td>\n",
       "      <td>10000.0</td>\n",
       "      <td>1714.285714</td>\n",
       "    </tr>\n",
       "    <tr>\n",
       "      <th>MoveWater mech_break, t=52</th>\n",
       "      <td>[MoveWater]</td>\n",
       "      <td>[]</td>\n",
       "      <td>0.000003</td>\n",
       "      <td>5000.0</td>\n",
       "      <td>1285.714286</td>\n",
       "    </tr>\n",
       "    <tr>\n",
       "      <th>MoveWater short, t=52</th>\n",
       "      <td>[MoveWater]</td>\n",
       "      <td>[]</td>\n",
       "      <td>0.000017</td>\n",
       "      <td>10000.0</td>\n",
       "      <td>17142.857143</td>\n",
       "    </tr>\n",
       "    <tr>\n",
       "      <th>ExportWater block, t=52</th>\n",
       "      <td>[ExportWater]</td>\n",
       "      <td>[Wat_2]</td>\n",
       "      <td>0.000017</td>\n",
       "      <td>5000.0</td>\n",
       "      <td>8571.428571</td>\n",
       "    </tr>\n",
       "    <tr>\n",
       "      <th>nominal</th>\n",
       "      <td>NaN</td>\n",
       "      <td>NaN</td>\n",
       "      <td>1.0</td>\n",
       "      <td>0.0</td>\n",
       "      <td>0.0</td>\n",
       "    </tr>\n",
       "  </tbody>\n",
       "</table>\n",
       "</div>"
      ],
      "text/plain": [
       "                                  degraded functions  \\\n",
       "ImportEE no_v, t=27                       [ImportEE]   \n",
       "ImportEE inf_v, t=27                      [ImportEE]   \n",
       "ImportWater no_wat, t=27               [ImportWater]   \n",
       "ImportSignal no_sig, t=27             [ImportSignal]   \n",
       "MoveWater mech_break, t=27               [MoveWater]   \n",
       "MoveWater short, t=27          [ImportEE, MoveWater]   \n",
       "ExportWater block, t=27     [MoveWater, ExportWater]   \n",
       "ImportWater no_wat, t=2                [ImportWater]   \n",
       "ImportSignal no_sig, t=2              [ImportSignal]   \n",
       "MoveWater mech_break, t=2                [MoveWater]   \n",
       "MoveWater short, t=2           [ImportEE, MoveWater]   \n",
       "ExportWater block, t=2      [MoveWater, ExportWater]   \n",
       "ImportWater no_wat, t=52               [ImportWater]   \n",
       "ImportSignal no_sig, t=52             [ImportSignal]   \n",
       "MoveWater mech_break, t=52               [MoveWater]   \n",
       "MoveWater short, t=52                    [MoveWater]   \n",
       "ExportWater block, t=52                [ExportWater]   \n",
       "nominal                                          NaN   \n",
       "\n",
       "                                         degraded flows      rate     cost  \\\n",
       "ImportEE no_v, t=27                [EE_1, Wat_1, Wat_2]   0.00036  15175.0   \n",
       "ImportEE inf_v, t=27               [EE_1, Wat_1, Wat_2]   0.00009  20175.0   \n",
       "ImportWater no_wat, t=27           [EE_1, Wat_1, Wat_2]   0.00015   6175.0   \n",
       "ImportSignal no_sig, t=27   [EE_1, Sig_1, Wat_1, Wat_2]  0.000013  15175.0   \n",
       "MoveWater mech_break, t=27         [EE_1, Wat_1, Wat_2]  0.000231  10175.0   \n",
       "MoveWater short, t=27              [EE_1, Wat_1, Wat_2]  0.000129  25175.0   \n",
       "ExportWater block, t=27            [EE_1, Wat_1, Wat_2]  0.000129  15152.5   \n",
       "ImportWater no_wat, t=2            [EE_1, Wat_1, Wat_2]  0.000017  11125.0   \n",
       "ImportSignal no_sig, t=2    [EE_1, Sig_1, Wat_1, Wat_2]  0.000002  20125.0   \n",
       "MoveWater mech_break, t=2          [EE_1, Wat_1, Wat_2]  0.000002  15125.0   \n",
       "MoveWater short, t=2               [EE_1, Wat_1, Wat_2]  0.000021  30125.0   \n",
       "ExportWater block, t=2             [EE_1, Wat_1, Wat_2]  0.000021  20102.5   \n",
       "ImportWater no_wat, t=52                        [Wat_1]   0.00002   1000.0   \n",
       "ImportSignal no_sig, t=52                            []  0.000002  10000.0   \n",
       "MoveWater mech_break, t=52                           []  0.000003   5000.0   \n",
       "MoveWater short, t=52                                []  0.000017  10000.0   \n",
       "ExportWater block, t=52                         [Wat_2]  0.000017   5000.0   \n",
       "nominal                                             NaN       1.0      0.0   \n",
       "\n",
       "                            expected cost  \n",
       "ImportEE no_v, t=27              546300.0  \n",
       "ImportEE inf_v, t=27             181575.0  \n",
       "ImportWater no_wat, t=27          92625.0  \n",
       "ImportSignal no_sig, t=27    19510.714286  \n",
       "MoveWater mech_break, t=27  235478.571429  \n",
       "MoveWater short, t=27       323678.571429  \n",
       "ExportWater block, t=27     194817.857143  \n",
       "ImportWater no_wat, t=2      18541.666667  \n",
       "ImportSignal no_sig, t=2           4312.5  \n",
       "MoveWater mech_break, t=2     3241.071429  \n",
       "MoveWater short, t=2         64553.571429  \n",
       "ExportWater block, t=2       43076.785714  \n",
       "ImportWater no_wat, t=52           2000.0  \n",
       "ImportSignal no_sig, t=52     1714.285714  \n",
       "MoveWater mech_break, t=52    1285.714286  \n",
       "MoveWater short, t=52        17142.857143  \n",
       "ExportWater block, t=52       8571.428571  \n",
       "nominal                               0.0  "
      ]
     },
     "execution_count": 32,
     "metadata": {},
     "output_type": "execute_result"
    }
   ],
   "source": [
    "rd.tabulate.fullfmea(endclasses_app, summaries)"
   ]
  },
  {
   "cell_type": "markdown",
   "metadata": {},
   "source": [
    "## 5.) Saving Work\n",
    "\n",
    "In detailed simulations, running a lot of computational simulations can take a considerable amount of time. As a result, it becomes impractical to run a new simulation every time one wishes to analyse its data. Results from fmdtools simulations (endclasses or mdlhists) can be saved as pickle, csv, or json files in this instance using either:\n",
    "- rd.process.save_result() or \n",
    "- passing a save_args dictionary to the respective propagate functions (e.g., {'endclass':{'filename':'file.pkl','overwrite':True})\n",
    "\n",
    "and then loaded using:\n",
    "- rd.process.load_result()"
   ]
  },
  {
   "cell_type": "markdown",
   "metadata": {},
   "source": [
    "For example, for this variable:"
   ]
  },
  {
   "cell_type": "code",
   "execution_count": 33,
   "metadata": {
    "scrolled": true
   },
   "outputs": [
    {
     "data": {
      "text/plain": [
       "{'ImportEE no_v, t=27': {'rate': 0.0003600000000000001,\n",
       "  'cost': 15174.999999999998,\n",
       "  'expected cost': 546300.0},\n",
       " 'ImportEE inf_v, t=27': {'rate': 9.000000000000002e-05,\n",
       "  'cost': 20175.0,\n",
       "  'expected cost': 181575.00000000003},\n",
       " 'ImportWater no_wat, t=27': {'rate': 0.00015,\n",
       "  'cost': 6174.999999999998,\n",
       "  'expected cost': 92624.99999999996},\n",
       " 'ImportSignal no_sig, t=27': {'rate': 1.2857142857142856e-05,\n",
       "  'cost': 15174.999999999998,\n",
       "  'expected cost': 19510.714285714283},\n",
       " 'MoveWater mech_break, t=27': {'rate': 0.00023142857142857142,\n",
       "  'cost': 10174.999999999998,\n",
       "  'expected cost': 235478.5714285714},\n",
       " 'MoveWater short, t=27': {'rate': 0.00012857142857142858,\n",
       "  'cost': 25175.0,\n",
       "  'expected cost': 323678.5714285714},\n",
       " 'ExportWater block, t=27': {'rate': 0.00012857142857142858,\n",
       "  'cost': 15152.5,\n",
       "  'expected cost': 194817.85714285716},\n",
       " 'ImportWater no_wat, t=2': {'rate': 1.6666666666666667e-05,\n",
       "  'cost': 11125.000000000007,\n",
       "  'expected cost': 18541.66666666668},\n",
       " 'ImportSignal no_sig, t=2': {'rate': 2.1428571428571427e-06,\n",
       "  'cost': 20125.000000000007,\n",
       "  'expected cost': 4312.500000000001},\n",
       " 'MoveWater mech_break, t=2': {'rate': 2.1428571428571427e-06,\n",
       "  'cost': 15125.000000000007,\n",
       "  'expected cost': 3241.07142857143},\n",
       " 'MoveWater short, t=2': {'rate': 2.1428571428571428e-05,\n",
       "  'cost': 30125.000000000007,\n",
       "  'expected cost': 64553.57142857144},\n",
       " 'ExportWater block, t=2': {'rate': 2.1428571428571428e-05,\n",
       "  'cost': 20102.500000000007,\n",
       "  'expected cost': 43076.78571428573},\n",
       " 'ImportWater no_wat, t=52': {'rate': 1.9999999999999998e-05,\n",
       "  'cost': 1000.0,\n",
       "  'expected cost': 1999.9999999999998},\n",
       " 'ImportSignal no_sig, t=52': {'rate': 1.7142857142857143e-06,\n",
       "  'cost': 10000.0,\n",
       "  'expected cost': 1714.2857142857142},\n",
       " 'MoveWater mech_break, t=52': {'rate': 2.5714285714285716e-06,\n",
       "  'cost': 5000.0,\n",
       "  'expected cost': 1285.7142857142858},\n",
       " 'MoveWater short, t=52': {'rate': 1.7142857142857145e-05,\n",
       "  'cost': 10000.0,\n",
       "  'expected cost': 17142.857142857145},\n",
       " 'ExportWater block, t=52': {'rate': 1.7142857142857145e-05,\n",
       "  'cost': 5000.0,\n",
       "  'expected cost': 8571.428571428572},\n",
       " 'nominal': {'rate': 1.0, 'cost': 0.0, 'expected cost': 0.0}}"
      ]
     },
     "execution_count": 33,
     "metadata": {},
     "output_type": "execute_result"
    }
   ],
   "source": [
    "endclasses_app"
   ]
  },
  {
   "cell_type": "code",
   "execution_count": 34,
   "metadata": {},
   "outputs": [
    {
     "name": "stdout",
     "output_type": "stream",
     "text": [
      "File already exists: tutorial_endclasses.csv, writing anyway...\n"
     ]
    }
   ],
   "source": [
    "rd.process.save_result(endclasses_app, 'tutorial_endclasses.csv', overwrite=True)"
   ]
  },
  {
   "cell_type": "code",
   "execution_count": 35,
   "metadata": {},
   "outputs": [],
   "source": [
    "endclasses_saved = rd.process.load_result('tutorial_endclasses.csv')"
   ]
  },
  {
   "cell_type": "code",
   "execution_count": 36,
   "metadata": {},
   "outputs": [
    {
     "data": {
      "text/plain": [
       "{'MoveWater short, t=52': {'expected cost': 17142.857142857145,\n",
       "  'cost': 10000.0,\n",
       "  'rate': 1.7142857142857145e-05},\n",
       " 'ExportWater block, t=52': {'expected cost': 8571.428571428572,\n",
       "  'cost': 5000.0,\n",
       "  'rate': 1.7142857142857145e-05},\n",
       " 'ImportWater no_wat, t=2': {'expected cost': 18541.66666666668,\n",
       "  'cost': 11125.000000000007,\n",
       "  'rate': 1.6666666666666667e-05},\n",
       " 'ImportSignal no_sig, t=2': {'expected cost': 4312.500000000001,\n",
       "  'cost': 20125.000000000007,\n",
       "  'rate': 2.1428571428571427e-06},\n",
       " 'MoveWater short, t=27': {'expected cost': 323678.5714285714,\n",
       "  'cost': 25175.0,\n",
       "  'rate': 0.0001285714285714},\n",
       " 'MoveWater mech_break, t=52': {'expected cost': 1285.7142857142858,\n",
       "  'cost': 5000.0,\n",
       "  'rate': 2.571428571428572e-06},\n",
       " 'nominal': {'expected cost': 0.0, 'cost': 0.0, 'rate': 1.0},\n",
       " 'ImportSignal no_sig, t=52': {'expected cost': 1714.2857142857142,\n",
       "  'cost': 10000.0,\n",
       "  'rate': 1.7142857142857145e-06},\n",
       " 'ImportWater no_wat, t=27': {'expected cost': 92624.99999999996,\n",
       "  'cost': 6174.999999999998,\n",
       "  'rate': 0.00015},\n",
       " 'ImportWater no_wat, t=52': {'expected cost': 2000.0,\n",
       "  'cost': 1000.0,\n",
       "  'rate': 2e-05},\n",
       " 'ImportEE no_v, t=27': {'expected cost': 546300.0,\n",
       "  'cost': 15174.999999999998,\n",
       "  'rate': 0.00036},\n",
       " 'ImportEE inf_v, t=27': {'expected cost': 181575.00000000003,\n",
       "  'cost': 20175.0,\n",
       "  'rate': 9.000000000000002e-05},\n",
       " 'ExportWater block, t=2': {'expected cost': 43076.78571428573,\n",
       "  'cost': 20102.500000000007,\n",
       "  'rate': 2.1428571428571428e-05},\n",
       " 'MoveWater mech_break, t=27': {'expected cost': 235478.5714285714,\n",
       "  'cost': 10174.999999999998,\n",
       "  'rate': 0.0002314285714285},\n",
       " 'ImportSignal no_sig, t=27': {'expected cost': 19510.714285714283,\n",
       "  'cost': 15174.999999999998,\n",
       "  'rate': 1.2857142857142856e-05},\n",
       " 'ExportWater block, t=27': {'expected cost': 194817.8571428572,\n",
       "  'cost': 15152.5,\n",
       "  'rate': 0.0001285714285714},\n",
       " 'MoveWater mech_break, t=2': {'expected cost': 3241.07142857143,\n",
       "  'cost': 15125.000000000007,\n",
       "  'rate': 2.1428571428571427e-06},\n",
       " 'MoveWater short, t=2': {'expected cost': 64553.57142857144,\n",
       "  'cost': 30125.000000000007,\n",
       "  'rate': 2.1428571428571428e-05}}"
      ]
     },
     "execution_count": 36,
     "metadata": {},
     "output_type": "execute_result"
    }
   ],
   "source": [
    "endclasses_saved"
   ]
  },
  {
   "cell_type": "code",
   "execution_count": null,
   "metadata": {},
   "outputs": [],
   "source": []
  },
  {
   "cell_type": "code",
   "execution_count": null,
   "metadata": {},
   "outputs": [],
   "source": []
  }
 ],
 "metadata": {
  "kernelspec": {
   "display_name": "Python 3 (ipykernel)",
   "language": "python",
   "name": "python3"
  },
  "language_info": {
   "codemirror_mode": {
    "name": "ipython",
    "version": 3
   },
   "file_extension": ".py",
   "mimetype": "text/x-python",
   "name": "python",
   "nbconvert_exporter": "python",
   "pygments_lexer": "ipython3",
   "version": "3.9.7"
  }
 },
 "nbformat": 4,
 "nbformat_minor": 2
}
