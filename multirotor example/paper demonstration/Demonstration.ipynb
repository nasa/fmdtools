{
 "cells": [
  {
   "cell_type": "code",
   "execution_count": 1,
   "metadata": {},
   "outputs": [],
   "source": [
    "import sys\n",
    "sys.path.append('../../')\n",
    "\n",
    "import matplotlib.pyplot as plt\n",
    "import numpy as np\n",
    "import pandas as pd\n",
    "import fmdtools.faultprop as fp\n",
    "import fmdtools.resultproc as rp\n",
    "import quadpy\n",
    "from IPython.display import HTML"
   ]
  },
  {
   "cell_type": "code",
   "execution_count": 2,
   "metadata": {},
   "outputs": [],
   "source": [
    "from fmdtools.modeldef import FxnBlock\n",
    "from fmdtools.modeldef import Model"
   ]
  },
  {
   "cell_type": "markdown",
   "metadata": {},
   "source": [
    "### Network Model"
   ]
  },
  {
   "cell_type": "code",
   "execution_count": 3,
   "metadata": {},
   "outputs": [],
   "source": [
    "class Drone(Model):\n",
    "    def __init__(self, params={}):\n",
    "        super().__init__()\n",
    "        self.params=params\n",
    "        #add flows to the model\n",
    "        self.add_flow('Force_ST', {})\n",
    "        self.add_flow('Force_Lin', {})\n",
    "        self.add_flow('Force_GR' , {})\n",
    "        self.add_flow('Force_LG', {})\n",
    "        self.add_flow('HSig_DOFs', {})\n",
    "        self.add_flow('HSig_Bat', {})\n",
    "        self.add_flow('RSig_Ctl', {})\n",
    "        self.add_flow('RSig_Traj', {})\n",
    "        self.add_flow('EE_1', {})\n",
    "        self.add_flow('EEmot', {})\n",
    "        self.add_flow('EEctl', {})\n",
    "        self.add_flow('Ctl1', {})\n",
    "        self.add_flow('DOFs', {})\n",
    "        self.add_flow('Env1', {})\n",
    "        # custom flows\n",
    "        self.add_flow('Dir1', {})\n",
    "        #add functions to the model\n",
    "        flows=['EEctl', 'Force_ST', 'HSig_DOFs', 'HSig_Bat', 'RSig_Ctl', 'RSig_Traj']\n",
    "        self.add_fxn('StoreEE',['EE_1', 'Force_ST', 'HSig_Bat'])\n",
    "        self.add_fxn('DistEE', ['EE_1','EEmot','EEctl', 'Force_ST'])\n",
    "        self.add_fxn('AffectDOF',['EEmot','Ctl1','DOFs','Force_Lin', 'HSig_DOFs'])\n",
    "        self.add_fxn('CtlDOF', ['EEctl', 'Dir1', 'Ctl1', 'DOFs', 'Force_ST', 'RSig_Ctl'])\n",
    "        self.add_fxn('Planpath', ['EEctl', 'Env1','Dir1', 'Force_ST', 'RSig_Traj'])\n",
    "        self.add_fxn('Trajectory', ['Env1','DOFs','Dir1', 'Force_GR'] )\n",
    "        self.add_fxn('EngageLand',['Force_GR', 'Force_LG'])\n",
    "        self.add_fxn('HoldPayload',['Force_LG', 'Force_Lin', 'Force_ST'])\n",
    "        self.add_fxn('ViewEnv', ['Env1'])\n",
    "        \n",
    "        self.construct_graph()"
   ]
  },
  {
   "cell_type": "code",
   "execution_count": 4,
   "metadata": {},
   "outputs": [],
   "source": [
    "mdl = Drone()"
   ]
  },
  {
   "cell_type": "code",
   "execution_count": 5,
   "metadata": {},
   "outputs": [
    {
     "data": {
      "text/plain": [
       "EE_1 flow: {'EE_1': 1}"
      ]
     },
     "execution_count": 5,
     "metadata": {},
     "output_type": "execute_result"
    }
   ],
   "source": [
    "mdl.fxns['StoreEE'].flows['EE_1']"
   ]
  },
  {
   "cell_type": "markdown",
   "metadata": {},
   "source": [
    "### Static Model"
   ]
  },
  {
   "cell_type": "code",
   "execution_count": null,
   "metadata": {},
   "outputs": [],
   "source": []
  },
  {
   "cell_type": "markdown",
   "metadata": {},
   "source": [
    "### Dynamic Model"
   ]
  },
  {
   "cell_type": "code",
   "execution_count": null,
   "metadata": {},
   "outputs": [],
   "source": []
  },
  {
   "cell_type": "markdown",
   "metadata": {},
   "source": [
    "Hierarchical Model"
   ]
  },
  {
   "cell_type": "code",
   "execution_count": null,
   "metadata": {},
   "outputs": [],
   "source": []
  }
 ],
 "metadata": {
  "kernelspec": {
   "display_name": "Python 3",
   "language": "python",
   "name": "python3"
  },
  "language_info": {
   "codemirror_mode": {
    "name": "ipython",
    "version": 3
   },
   "file_extension": ".py",
   "mimetype": "text/x-python",
   "name": "python",
   "nbconvert_exporter": "python",
   "pygments_lexer": "ipython3",
   "version": "3.7.3"
  }
 },
 "nbformat": 4,
 "nbformat_minor": 2
}
