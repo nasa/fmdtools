{
 "cells": [
  {
   "cell_type": "code",
   "execution_count": 1,
   "metadata": {},
   "outputs": [],
   "source": [
    "import sys\n",
    "sys.path.append('../../')\n",
    "\n",
    "import matplotlib.pyplot as plt\n",
    "import numpy as np\n",
    "import pandas as pd\n",
    "import fmdtools.faultprop as fp\n",
    "import fmdtools.resultproc as rp\n",
    "import quadpy\n",
    "from IPython.display import HTML"
   ]
  },
  {
   "cell_type": "code",
   "execution_count": 2,
   "metadata": {},
   "outputs": [],
   "source": [
    "from fmdtools.modeldef import FxnBlock\n",
    "from fmdtools.modeldef import Model"
   ]
  },
  {
   "cell_type": "markdown",
   "metadata": {},
   "source": [
    "### Network Model"
   ]
  },
  {
   "cell_type": "code",
   "execution_count": 8,
   "metadata": {},
   "outputs": [],
   "source": [
    "\n",
    "class Drone(Model):\n",
    "    def __init__(self, params={}):\n",
    "        super().__init__()\n",
    "        self.params=params\n",
    "        #add flows to the model\n",
    "        self.add_flow('Force_ST', 'Force', {'support':1.0})\n",
    "        self.add_flow('Force_Lin','Force', {'support':1.0} )\n",
    "        self.add_flow('Force_GR','Force', {'value':1.0} )\n",
    "        self.add_flow('Force_LG','Force', {'value':1.0})\n",
    "        self.add_flow('HSig_DOFs','Health Signal', {'hstate':'nominal', 'config':1.0})\n",
    "        self.add_flow('HSig_Bat','Health Signal', {'hstate':'nominal', 'config':1.0} )\n",
    "        self.add_flow('RSig_Ctl','Reconfiguration Signal', {'mode':1})\n",
    "        self.add_flow('RSig_Traj','Reconfiguration Signal', {'mode':1})\n",
    "        self.add_flow('EE_1', 'EE', {'rate':1.0, 'effort':1.0})\n",
    "        self.add_flow('EEmot', 'EE', {'rate':1.0, 'effort':1.0})\n",
    "        self.add_flow('EEctl', 'EE', {'rate':1.0, 'effort':1.0})\n",
    "        self.add_flow('Ctl1','Direction Signal', {'forward':0.0, 'upward':1.0})\n",
    "        self.add_flow('DOFs', 'DOFs',{'vertvel':0.0, 'planvel':0.0, 'planpwr':0.0, 'uppwr':0.0})\n",
    "        self.add_flow('Env1','Environment', {'x':0.0,'y':0.0,'elev':0.0} )\n",
    "        # custom flows\n",
    "        self.add_flow('Dir1', 'Direction', {'Dir':1.0})\n",
    "        #add functions to the model\n",
    "        flows=['EEctl', 'Force_ST', 'HSig_DOFs', 'HSig_Bat', 'RSig_Ctl', 'RSig_Traj']\n",
    "        self.add_fxn('StoreEE',Placeholder,['EE_1', 'Force_ST', 'HSig_Bat'])\n",
    "        self.add_fxn('DistEE',Placeholder, ['EE_1','EEmot','EEctl', 'Force_ST'])\n",
    "        self.add_fxn('AffectDOF',Placeholder,['EEmot','Ctl1','DOFs','Force_Lin', 'HSig_DOFs'])\n",
    "        self.add_fxn('CtlDOF', Placeholder,['EEctl', 'Dir1', 'Ctl1', 'DOFs', 'Force_ST', 'RSig_Ctl'])\n",
    "        self.add_fxn('Planpath', Placeholder, ['EEctl', 'Env1','Dir1', 'Force_ST', 'RSig_Traj'])\n",
    "        self.add_fxn('Trajectory', Placeholder, ['Env1','DOFs','Dir1', 'Force_GR'] )\n",
    "        self.add_fxn('EngageLand', Placeholder,['Force_GR', 'Force_LG'])\n",
    "        self.add_fxn('HoldPayload', Placeholder,['Force_LG', 'Force_Lin', 'Force_ST'])\n",
    "        self.add_fxn('ViewEnv', Placeholder, ['Env1'])\n",
    "        \n",
    "        self.construct_graph()"
   ]
  },
  {
   "cell_type": "code",
   "execution_count": 9,
   "metadata": {},
   "outputs": [],
   "source": [
    "mdl = Drone()"
   ]
  },
  {
   "cell_type": "code",
   "execution_count": 10,
   "metadata": {},
   "outputs": [],
   "source": [
    "class Placeholder(FxnBlock):\n",
    "    def __init__(self, flows):\n",
    "        super().__init__([str(f) for f in flows], flows)\n",
    "\n",
    "class Drone(Model):\n",
    "    def __init__(self, params={}):\n",
    "        super().__init__()\n",
    "        self.params=params\n",
    "        #add flows to the model\n",
    "        self.add_flow('Force_ST', 'Force', {'support':1.0})\n",
    "        self.add_flow('Force_Lin','Force', {'support':1.0} )\n",
    "        self.add_flow('Force_GR','Force', {'value':1.0} )\n",
    "        self.add_flow('Force_LG','Force', {'value':1.0})\n",
    "        self.add_flow('HSig_DOFs','Health Signal', {'hstate':'nominal', 'config':1.0})\n",
    "        self.add_flow('HSig_Bat','Health Signal', {'hstate':'nominal', 'config':1.0} )\n",
    "        self.add_flow('RSig_Ctl','Reconfiguration Signal', {'mode':1})\n",
    "        self.add_flow('RSig_Traj','Reconfiguration Signal', {'mode':1})\n",
    "        self.add_flow('EE_1', 'EE', {'rate':1.0, 'effort':1.0})\n",
    "        self.add_flow('EEmot', 'EE', {'rate':1.0, 'effort':1.0})\n",
    "        self.add_flow('EEctl', 'EE', {'rate':1.0, 'effort':1.0})\n",
    "        self.add_flow('Ctl1','Direction Signal', {'forward':0.0, 'upward':1.0})\n",
    "        self.add_flow('DOFs', 'DOFs',{'vertvel':0.0, 'planvel':0.0, 'planpwr':0.0, 'uppwr':0.0})\n",
    "        self.add_flow('Env1','Environment', {'x':0.0,'y':0.0,'elev':0.0} )\n",
    "        # custom flows\n",
    "        self.add_flow('Dir1', 'Direction', {'Dir':1.0})\n",
    "        #add functions to the model\n",
    "        flows=['EEctl', 'Force_ST', 'HSig_DOFs', 'HSig_Bat', 'RSig_Ctl', 'RSig_Traj']\n",
    "        self.add_fxn('StoreEE',Placeholder,['EE_1', 'Force_ST', 'HSig_Bat'])\n",
    "        self.add_fxn('DistEE',Placeholder, ['EE_1','EEmot','EEctl', 'Force_ST'])\n",
    "        self.add_fxn('AffectDOF',Placeholder,['EEmot','Ctl1','DOFs','Force_Lin', 'HSig_DOFs'])\n",
    "        self.add_fxn('CtlDOF', Placeholder,['EEctl', 'Dir1', 'Ctl1', 'DOFs', 'Force_ST', 'RSig_Ctl'])\n",
    "        self.add_fxn('Planpath', Placeholder, ['EEctl', 'Env1','Dir1', 'Force_ST', 'RSig_Traj'])\n",
    "        self.add_fxn('Trajectory', Placeholder, ['Env1','DOFs','Dir1', 'Force_GR'] )\n",
    "        self.add_fxn('EngageLand', Placeholder,['Force_GR', 'Force_LG'])\n",
    "        self.add_fxn('HoldPayload', Placeholder,['Force_LG', 'Force_Lin', 'Force_ST'])\n",
    "        self.add_fxn('ViewEnv', Placeholder, ['Env1'])\n",
    "        \n",
    "        self.construct_graph()"
   ]
  },
  {
   "cell_type": "code",
   "execution_count": 11,
   "metadata": {},
   "outputs": [],
   "source": [
    "mdl = Drone()"
   ]
  },
  {
   "cell_type": "code",
   "execution_count": 14,
   "metadata": {},
   "outputs": [
    {
     "data": {
      "text/plain": [
       "['<fmdtools.modeldef.Flow object at 0x0000019492290278>',\n",
       " '<fmdtools.modeldef.Flow object at 0x0000019492290358>',\n",
       " '<fmdtools.modeldef.Flow object at 0x0000019492290400>',\n",
       " '__class__',\n",
       " '__delattr__',\n",
       " '__dict__',\n",
       " '__dir__',\n",
       " '__doc__',\n",
       " '__eq__',\n",
       " '__format__',\n",
       " '__ge__',\n",
       " '__getattribute__',\n",
       " '__gt__',\n",
       " '__hash__',\n",
       " '__init__',\n",
       " '__init_subclass__',\n",
       " '__le__',\n",
       " '__lt__',\n",
       " '__module__',\n",
       " '__ne__',\n",
       " '__new__',\n",
       " '__reduce__',\n",
       " '__reduce_ex__',\n",
       " '__repr__',\n",
       " '__setattr__',\n",
       " '__sizeof__',\n",
       " '__str__',\n",
       " '__subclasshook__',\n",
       " '__weakref__',\n",
       " '_initstates',\n",
       " '_states',\n",
       " 'add_fault',\n",
       " 'add_faults',\n",
       " 'add_he_rate',\n",
       " 'assoc_modes',\n",
       " 'behavior',\n",
       " 'components',\n",
       " 'condfaults',\n",
       " 'copy',\n",
       " 'failrate',\n",
       " 'faultmodes',\n",
       " 'faults',\n",
       " 'flows',\n",
       " 'has_fault',\n",
       " 'has_faults',\n",
       " 'make_flowdict',\n",
       " 'remove_fault',\n",
       " 'replace_fault',\n",
       " 'reset',\n",
       " 'return_states',\n",
       " 'time',\n",
       " 'timely',\n",
       " 'timers',\n",
       " 'tstep',\n",
       " 'type',\n",
       " 'updatefxn']"
      ]
     },
     "execution_count": 14,
     "metadata": {},
     "output_type": "execute_result"
    }
   ],
   "source": [
    "dir(mdl.fxns['StoreEE'])"
   ]
  },
  {
   "cell_type": "code",
   "execution_count": 17,
   "metadata": {},
   "outputs": [
    {
     "data": {
      "text/plain": [
       "['__class__',\n",
       " '__delattr__',\n",
       " '__dict__',\n",
       " '__dir__',\n",
       " '__doc__',\n",
       " '__eq__',\n",
       " '__format__',\n",
       " '__ge__',\n",
       " '__getattribute__',\n",
       " '__gt__',\n",
       " '__hash__',\n",
       " '__init__',\n",
       " '__init_subclass__',\n",
       " '__le__',\n",
       " '__lt__',\n",
       " '__module__',\n",
       " '__ne__',\n",
       " '__new__',\n",
       " '__reduce__',\n",
       " '__reduce_ex__',\n",
       " '__repr__',\n",
       " '__setattr__',\n",
       " '__sizeof__',\n",
       " '__str__',\n",
       " '__subclasshook__',\n",
       " '__weakref__',\n",
       " '_attributes',\n",
       " '_initattributes',\n",
       " 'copy',\n",
       " 'effort',\n",
       " 'flow',\n",
       " 'rate',\n",
       " 'reset',\n",
       " 'status',\n",
       " 'type']"
      ]
     },
     "execution_count": 17,
     "metadata": {},
     "output_type": "execute_result"
    }
   ],
   "source": [
    "dir(mdl.fxns['StoreEE'].flows['<fmdtools.modeldef.Flow object at 0x0000019492290400>'])"
   ]
  },
  {
   "cell_type": "code",
   "execution_count": 18,
   "metadata": {},
   "outputs": [
    {
     "data": {
      "text/plain": [
       "'flow'"
      ]
     },
     "execution_count": 18,
     "metadata": {},
     "output_type": "execute_result"
    }
   ],
   "source": [
    "mdl.fxns['StoreEE'].flows['<fmdtools.modeldef.Flow object at 0x0000019492290400>'].type"
   ]
  },
  {
   "cell_type": "markdown",
   "metadata": {},
   "source": [
    "### Static Model"
   ]
  },
  {
   "cell_type": "code",
   "execution_count": null,
   "metadata": {},
   "outputs": [],
   "source": []
  },
  {
   "cell_type": "markdown",
   "metadata": {},
   "source": [
    "### Dynamic Model"
   ]
  },
  {
   "cell_type": "code",
   "execution_count": null,
   "metadata": {},
   "outputs": [],
   "source": []
  },
  {
   "cell_type": "markdown",
   "metadata": {},
   "source": [
    "Hierarchical Model"
   ]
  },
  {
   "cell_type": "code",
   "execution_count": null,
   "metadata": {},
   "outputs": [],
   "source": []
  }
 ],
 "metadata": {
  "kernelspec": {
   "display_name": "Python 3",
   "language": "python",
   "name": "python3"
  },
  "language_info": {
   "codemirror_mode": {
    "name": "ipython",
    "version": 3
   },
   "file_extension": ".py",
   "mimetype": "text/x-python",
   "name": "python",
   "nbconvert_exporter": "python",
   "pygments_lexer": "ipython3",
   "version": "3.7.3"
  }
 },
 "nbformat": 4,
 "nbformat_minor": 2
}
